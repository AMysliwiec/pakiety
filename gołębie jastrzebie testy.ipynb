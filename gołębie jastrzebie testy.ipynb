{
 "cells": [
  {
   "cell_type": "code",
   "execution_count": 1,
   "metadata": {},
   "outputs": [],
   "source": [
    "using Plots"
   ]
  },
  {
   "cell_type": "code",
   "execution_count": 2,
   "metadata": {},
   "outputs": [
    {
     "data": {
      "text/html": [
       "<script>\n",
       "// Immediately-invoked-function-expression to avoid global variables.\n",
       "(function() {\n",
       "    var warning_div = document.getElementById(\"webio-warning-17662553110268784456\");\n",
       "    var hide = function () {\n",
       "        var script = document.getElementById(\"webio-setup-18222715903679368384\");\n",
       "        var parent = script && script.parentElement;\n",
       "        var grandparent = parent && parent.parentElement;\n",
       "        if (grandparent) {\n",
       "            grandparent.style.display = \"none\";\n",
       "        }\n",
       "        warning_div.style.display = \"none\";\n",
       "    };\n",
       "    if (typeof Jupyter !== \"undefined\") {\n",
       "        console.log(\"WebIO detected Jupyter notebook environment.\");\n",
       "        // Jupyter notebook.\n",
       "        var extensions = (\n",
       "            Jupyter\n",
       "            && Jupyter.notebook.config.data\n",
       "            && Jupyter.notebook.config.data.load_extensions\n",
       "        );\n",
       "        if (extensions && extensions[\"webio-jupyter-notebook\"]) {\n",
       "            // Extension already loaded.\n",
       "            console.log(\"Jupyter WebIO nbextension detected; not loading ad-hoc.\");\n",
       "            hide();\n",
       "            return;\n",
       "        }\n",
       "    } else if (window.location.pathname.includes(\"/lab\")) {\n",
       "        // Guessing JupyterLa\n",
       "        console.log(\"Jupyter Lab detected; make sure the @webio/jupyter-lab-provider labextension is installed.\");\n",
       "        hide();\n",
       "        return;\n",
       "    }\n",
       "})();\n",
       "\n",
       "</script>\n",
       "<p\n",
       "    id=\"webio-warning-17662553110268784456\"\n",
       "    class=\"output_text output_stderr\"\n",
       "    style=\"padding: 1em; font-weight: bold;\"\n",
       ">\n",
       "    Unable to load WebIO. Please make sure WebIO works for your Jupyter client.\n",
       "    For troubleshooting, please see <a href=\"https://juliagizmos.github.io/WebIO.jl/latest/providers/ijulia/\">\n",
       "    the WebIO/IJulia documentation</a>.\n",
       "    <!-- TODO: link to installation docs. -->\n",
       "</p>\n"
      ],
      "text/plain": [
       "HTML{String}(\"<script>\\n// Immediately-invoked-function-expression to avoid global variables.\\n(function() {\\n    var warning_div = document.getElementById(\\\"webio-warning-17662553110268784456\\\");\\n    var hide = function () {\\n        var script = document.getElementById(\\\"webio-setup-18222715903679368384\\\");\\n        var parent = script && script.parentElement;\\n        var grandparent = parent && parent.parentElement;\\n        if (grandparent) {\\n            grandparent.style.display = \\\"none\\\";\\n        }\\n        warning_div.style.display = \\\"none\\\";\\n    };\\n    if (typeof Jupyter !== \\\"undefined\\\") {\\n        console.log(\\\"WebIO detected Jupyter notebook environment.\\\");\\n        // Jupyter notebook.\\n        var extensions = (\\n            Jupyter\\n            && Jupyter.notebook.config.data\\n            && Jupyter.notebook.config.data.load_extensions\\n        );\\n        if (extensions && extensions[\\\"webio-jupyter-notebook\\\"]) {\\n            // Extension already loaded.\\n            console.log(\\\"Jupyter WebIO nbextension detected; not loading ad-hoc.\\\");\\n            hide();\\n            return;\\n        }\\n    } else if (window.location.pathname.includes(\\\"/lab\\\")) {\\n        // Guessing JupyterLa\\n        console.log(\\\"Jupyter Lab detected; make sure the @webio/jupyter-lab-provider labextension is installed.\\\");\\n        hide();\\n        return;\\n    }\\n})();\\n\\n</script>\\n<p\\n    id=\\\"webio-warning-17662553110268784456\\\"\\n    class=\\\"output_text output_stderr\\\"\\n    style=\\\"padding: 1em; font-weight: bold;\\\"\\n>\\n    Unable to load WebIO. Please make sure WebIO works for your Jupyter client.\\n    For troubleshooting, please see <a href=\\\"https://juliagizmos.github.io/WebIO.jl/latest/providers/ijulia/\\\">\\n    the WebIO/IJulia documentation</a>.\\n    <!-- TODO: link to installation docs. -->\\n</p>\\n\")"
      ]
     },
     "metadata": {},
     "output_type": "display_data"
    }
   ],
   "source": [
    "using WebIO\n"
   ]
  },
  {
   "cell_type": "code",
   "execution_count": 3,
   "metadata": {},
   "outputs": [],
   "source": [
    "import Random"
   ]
  },
  {
   "cell_type": "markdown",
   "metadata": {},
   "source": [
    "### funkcja generująca środowisko z pakietami żywnościowymi"
   ]
  },
  {
   "cell_type": "code",
   "execution_count": 4,
   "metadata": {},
   "outputs": [
    {
     "data": {
      "text/plain": [
       "environment (generic function with 1 method)"
      ]
     },
     "execution_count": 4,
     "metadata": {},
     "output_type": "execute_result"
    }
   ],
   "source": [
    "function environment(n,m)\n",
    "    Environment = zeros(Int64, n, m)\n",
    "    for i in 2:3:n\n",
    "        Environment[i,:] = ones(Int64, 1, m)\n",
    "    end\n",
    "    return Environment\n",
    "end"
   ]
  },
  {
   "cell_type": "code",
   "execution_count": 5,
   "metadata": {},
   "outputs": [
    {
     "data": {
      "text/plain": [
       "20×20 Array{Int64,2}:\n",
       " 0  0  0  0  0  0  0  0  0  0  0  0  0  0  0  0  0  0  0  0\n",
       " 1  1  1  1  1  1  1  1  1  1  1  1  1  1  1  1  1  1  1  1\n",
       " 0  0  0  0  0  0  0  0  0  0  0  0  0  0  0  0  0  0  0  0\n",
       " 0  0  0  0  0  0  0  0  0  0  0  0  0  0  0  0  0  0  0  0\n",
       " 1  1  1  1  1  1  1  1  1  1  1  1  1  1  1  1  1  1  1  1\n",
       " 0  0  0  0  0  0  0  0  0  0  0  0  0  0  0  0  0  0  0  0\n",
       " 0  0  0  0  0  0  0  0  0  0  0  0  0  0  0  0  0  0  0  0\n",
       " 1  1  1  1  1  1  1  1  1  1  1  1  1  1  1  1  1  1  1  1\n",
       " 0  0  0  0  0  0  0  0  0  0  0  0  0  0  0  0  0  0  0  0\n",
       " 0  0  0  0  0  0  0  0  0  0  0  0  0  0  0  0  0  0  0  0\n",
       " 1  1  1  1  1  1  1  1  1  1  1  1  1  1  1  1  1  1  1  1\n",
       " 0  0  0  0  0  0  0  0  0  0  0  0  0  0  0  0  0  0  0  0\n",
       " 0  0  0  0  0  0  0  0  0  0  0  0  0  0  0  0  0  0  0  0\n",
       " 1  1  1  1  1  1  1  1  1  1  1  1  1  1  1  1  1  1  1  1\n",
       " 0  0  0  0  0  0  0  0  0  0  0  0  0  0  0  0  0  0  0  0\n",
       " 0  0  0  0  0  0  0  0  0  0  0  0  0  0  0  0  0  0  0  0\n",
       " 1  1  1  1  1  1  1  1  1  1  1  1  1  1  1  1  1  1  1  1\n",
       " 0  0  0  0  0  0  0  0  0  0  0  0  0  0  0  0  0  0  0  0\n",
       " 0  0  0  0  0  0  0  0  0  0  0  0  0  0  0  0  0  0  0  0\n",
       " 1  1  1  1  1  1  1  1  1  1  1  1  1  1  1  1  1  1  1  1"
      ]
     },
     "execution_count": 5,
     "metadata": {},
     "output_type": "execute_result"
    }
   ],
   "source": [
    "environment(20,20)"
   ]
  },
  {
   "cell_type": "markdown",
   "metadata": {},
   "source": [
    "### funkcja determinująca przeżycie gołębia w trakcie ucieczki od jastrzębia (50% prawdopodobieństwa)"
   ]
  },
  {
   "cell_type": "code",
   "execution_count": 6,
   "metadata": {},
   "outputs": [
    {
     "data": {
      "text/plain": [
       "golab_jastrzab (generic function with 1 method)"
      ]
     },
     "execution_count": 6,
     "metadata": {},
     "output_type": "execute_result"
    }
   ],
   "source": [
    "function golab_jastrzab(n_gol)\n",
    "    if rand(0:1) == 0\n",
    "        n_gol = n_gol - 1\n",
    "    end\n",
    "    return n_gol\n",
    "end"
   ]
  },
  {
   "cell_type": "markdown",
   "metadata": {},
   "source": [
    "### funkcja determinująca stan populacji po wylosowaniu miejsc przy pakietach żywnościowych"
   ]
  },
  {
   "cell_type": "code",
   "execution_count": 7,
   "metadata": {},
   "outputs": [
    {
     "data": {
      "text/plain": [
       "potyczki (generic function with 1 method)"
      ]
     },
     "execution_count": 7,
     "metadata": {},
     "output_type": "execute_result"
    }
   ],
   "source": [
    "#G-3\n",
    "#J-8\n",
    "function potyczki(n,m,macierz, g, ja)\n",
    "    for i in 2:3:n, j in 1:m    \n",
    "        suma = macierz[i-1,j] + macierz[i+1,j]\n",
    "        if suma == 11\n",
    "            g = golab_jastrzab(g)\n",
    "            ja = ja + 1\n",
    "        elseif suma == 6\n",
    "            g = g\n",
    "        elseif suma == 16 \n",
    "            ja = ja - 2\n",
    "        elseif suma == 3\n",
    "            g += 2\n",
    "        elseif suma == 8\n",
    "            j += 2\n",
    "        end \n",
    "    return g,ja\n",
    "    end\n",
    "end"
   ]
  },
  {
   "cell_type": "code",
   "execution_count": 8,
   "metadata": {},
   "outputs": [
    {
     "data": {
      "text/plain": [
       "6×4 Array{Int64,2}:\n",
       " 3  3  8  8\n",
       " 1  1  1  1\n",
       " 3  3  3  8\n",
       " 3  8  8  8\n",
       " 1  1  1  1\n",
       " 3  8  3  8"
      ]
     },
     "execution_count": 8,
     "metadata": {},
     "output_type": "execute_result"
    }
   ],
   "source": [
    "A = [3 3 8 8; 1 1 1 1; 3 3 3 8;\n",
    "3 8 8 8; 1 1 1 1; 3 8 3 8]\n"
   ]
  },
  {
   "cell_type": "code",
   "execution_count": 9,
   "metadata": {},
   "outputs": [
    {
     "data": {
      "text/plain": [
       "(8, 8)"
      ]
     },
     "execution_count": 9,
     "metadata": {},
     "output_type": "execute_result"
    }
   ],
   "source": [
    "potyczki(6,4,A,8,8)\n"
   ]
  },
  {
   "cell_type": "code",
   "execution_count": 10,
   "metadata": {},
   "outputs": [
    {
     "data": {
      "text/plain": [
       "6×5 Array{Int64,2}:\n",
       " 8  8  8  8  3\n",
       " 1  1  1  1  1\n",
       " 3  3  0  8  3\n",
       " 3  3  3  8  8\n",
       " 1  1  1  1  1\n",
       " 8  8  0  3  3"
      ]
     },
     "execution_count": 10,
     "metadata": {},
     "output_type": "execute_result"
    }
   ],
   "source": [
    "B = [8 8 8 8 3;\n",
    "1 1 1 1 1;\n",
    "3 3 0 8 3;\n",
    "3 3 3 8 8;\n",
    "1 1 1 1 1;\n",
    "8 8 0 3 3\n",
    "]\n",
    "#g = 10\n",
    "#j = 11"
   ]
  },
  {
   "cell_type": "code",
   "execution_count": 11,
   "metadata": {},
   "outputs": [
    {
     "data": {
      "text/plain": [
       "(9, 11)"
      ]
     },
     "execution_count": 11,
     "metadata": {},
     "output_type": "execute_result"
    }
   ],
   "source": [
    "potyczki(6,4,B,9,10)"
   ]
  },
  {
   "cell_type": "markdown",
   "metadata": {},
   "source": [
    "### funkcja generująca rozstawienie ptaków w środowisku"
   ]
  },
  {
   "cell_type": "code",
   "execution_count": 12,
   "metadata": {},
   "outputs": [
    {
     "data": {
      "text/plain": [
       "jastrzabki (generic function with 1 method)"
      ]
     },
     "execution_count": 12,
     "metadata": {},
     "output_type": "execute_result"
    }
   ],
   "source": [
    "function golabki(macierz, ngol)\n",
    "    if ngol != 0  \n",
    "        for i in 1:1:ngol\n",
    "            z = findall(x -> x ==0, macierz)\n",
    "            macierz[rand(z)] = 3\n",
    "        end\n",
    "    end\n",
    "end\n",
    "function jastrzabki(macierz, njas)\n",
    "    if njas != 0\n",
    "        for i in 1:1:njas\n",
    "            z = findall(x -> x ==0, macierz)\n",
    "            macierz[rand(z)] = 8\n",
    "        end\n",
    "    end\n",
    "end"
   ]
  },
  {
   "cell_type": "code",
   "execution_count": 13,
   "metadata": {},
   "outputs": [],
   "source": [
    "mac = environment(21,21)\n",
    "golabki(mac, 100)\n",
    "jastrzabki(mac, 100)"
   ]
  },
  {
   "cell_type": "code",
   "execution_count": 14,
   "metadata": {},
   "outputs": [
    {
     "data": {
      "text/plain": [
       "6×6 Array{Int64,2}:\n",
       " 3  8  3  3  8  3\n",
       " 1  1  1  1  1  1\n",
       " 3  3  3  3  3  8\n",
       " 8  3  8  8  3  8\n",
       " 1  1  1  1  1  1\n",
       " 8  8  3  3  3  8"
      ]
     },
     "execution_count": 14,
     "metadata": {},
     "output_type": "execute_result"
    }
   ],
   "source": [
    "test = environment(6,6)\n",
    "golabki(test, 14)\n",
    "jastrzabki(test, 10)\n",
    "test"
   ]
  },
  {
   "cell_type": "code",
   "execution_count": 15,
   "metadata": {},
   "outputs": [
    {
     "data": {
      "text/plain": [
       "21×21 Array{Int64,2}:\n",
       " 0  8  8  8  8  3  0  3  8  0  3  0  3  3  0  0  0  3  0  0  0\n",
       " 1  1  1  1  1  1  1  1  1  1  1  1  1  1  1  1  1  1  1  1  1\n",
       " 8  8  8  8  8  8  3  3  8  0  8  8  0  3  8  0  8  8  8  0  0\n",
       " 8  3  8  0  3  8  8  0  8  0  8  8  8  8  3  3  8  3  3  0  0\n",
       " 1  1  1  1  1  1  1  1  1  1  1  1  1  1  1  1  1  1  1  1  1\n",
       " 8  8  3  3  0  3  8  3  0  8  8  8  3  3  8  3  3  8  3  8  3\n",
       " 0  3  3  8  3  0  0  0  0  3  3  3  8  8  0  8  0  3  8  3  3\n",
       " 1  1  1  1  1  1  1  1  1  1  1  1  1  1  1  1  1  1  1  1  1\n",
       " 8  8  8  3  0  0  3  0  8  3  3  3  8  8  3  3  8  0  8  8  0\n",
       " 3  3  8  3  8  8  3  3  3  8  0  0  0  3  3  8  0  3  8  0  8\n",
       " 1  1  1  1  1  1  1  1  1  1  1  1  1  1  1  1  1  1  1  1  1\n",
       " 8  0  0  8  8  8  0  0  8  8  0  3  8  0  0  0  8  0  3  3  3\n",
       " 3  3  8  0  8  3  0  3  8  3  8  3  3  8  3  3  3  3  3  8  3\n",
       " 1  1  1  1  1  1  1  1  1  1  1  1  1  1  1  1  1  1  1  1  1\n",
       " 3  3  3  0  3  3  0  0  3  3  8  0  3  8  0  3  8  0  3  3  8\n",
       " 0  0  0  0  0  3  0  0  0  8  0  3  0  0  0  0  0  3  0  8  0\n",
       " 1  1  1  1  1  1  1  1  1  1  1  1  1  1  1  1  1  1  1  1  1\n",
       " 3  3  8  3  8  0  3  3  8  0  0  0  8  3  3  0  3  0  0  3  0\n",
       " 3  0  8  3  8  8  8  8  3  8  8  8  0  3  0  0  0  0  8  0  3\n",
       " 1  1  1  1  1  1  1  1  1  1  1  1  1  1  1  1  1  1  1  1  1\n",
       " 0  8  8  8  8  8  0  3  3  8  0  8  8  3  3  0  8  0  0  0  3"
      ]
     },
     "execution_count": 15,
     "metadata": {},
     "output_type": "execute_result"
    }
   ],
   "source": [
    "mac"
   ]
  },
  {
   "cell_type": "code",
   "execution_count": 16,
   "metadata": {},
   "outputs": [
    {
     "data": {
      "text/plain": [
       "(100, 100)"
      ]
     },
     "execution_count": 16,
     "metadata": {},
     "output_type": "execute_result"
    }
   ],
   "source": [
    "potyczki(21,21,mac,100,100)"
   ]
  },
  {
   "cell_type": "code",
   "execution_count": 17,
   "metadata": {},
   "outputs": [],
   "source": [
    "mac = environment(18,18)\n",
    "golabki(mac, 70)\n",
    "jastrzabki(mac, 90)"
   ]
  },
  {
   "cell_type": "code",
   "execution_count": 18,
   "metadata": {},
   "outputs": [
    {
     "data": {
      "text/plain": [
       "18×18 Array{Int64,2}:\n",
       " 8  0  3  8  3  3  3  8  3  3  8  0  3  8  0  8  8  3\n",
       " 1  1  1  1  1  1  1  1  1  1  1  1  1  1  1  1  1  1\n",
       " 3  3  0  8  3  8  8  0  3  0  8  8  0  0  8  8  8  8\n",
       " 3  8  0  8  8  8  0  3  8  0  3  0  8  8  3  3  0  8\n",
       " 1  1  1  1  1  1  1  1  1  1  1  1  1  1  1  1  1  1\n",
       " 8  8  3  8  8  0  8  3  8  3  8  3  8  0  8  3  8  3\n",
       " 8  3  3  8  3  8  8  8  3  0  8  8  3  8  0  0  8  0\n",
       " 1  1  1  1  1  1  1  1  1  1  1  1  1  1  1  1  1  1\n",
       " 0  8  3  3  3  3  8  3  3  8  3  8  8  0  8  8  3  3\n",
       " 8  0  0  8  8  0  3  8  8  0  3  8  3  0  8  0  3  8\n",
       " 1  1  1  1  1  1  1  1  1  1  1  1  1  1  1  1  1  1\n",
       " 3  8  8  8  0  8  0  8  8  0  8  8  3  8  0  3  8  3\n",
       " 8  8  8  8  0  8  0  8  3  0  3  3  3  3  3  0  0  8\n",
       " 1  1  1  1  1  1  1  1  1  1  1  1  1  1  1  1  1  1\n",
       " 8  0  8  8  3  0  0  3  0  3  3  3  3  0  8  8  3  3\n",
       " 0  0  8  3  0  0  0  0  0  8  8  3  3  8  3  0  0  3\n",
       " 1  1  1  1  1  1  1  1  1  1  1  1  1  1  1  1  1  1\n",
       " 0  3  8  0  8  3  0  8  0  0  0  3  8  3  8  3  3  8"
      ]
     },
     "execution_count": 18,
     "metadata": {},
     "output_type": "execute_result"
    }
   ],
   "source": [
    "mac"
   ]
  },
  {
   "cell_type": "code",
   "execution_count": 19,
   "metadata": {
    "scrolled": true
   },
   "outputs": [
    {
     "data": {
      "text/plain": [
       "(69, 91)"
      ]
     },
     "execution_count": 19,
     "metadata": {},
     "output_type": "execute_result"
    }
   ],
   "source": [
    "potyczki(18,18,mac,70,90)"
   ]
  },
  {
   "cell_type": "markdown",
   "metadata": {},
   "source": [
    "### funkcja sprawdzająca nadmiar populacji i ilość ptaków wysłaną na wygnanie/ fight club"
   ]
  },
  {
   "cell_type": "markdown",
   "metadata": {},
   "source": [
    "funkcja/wątek do rozwinięcia"
   ]
  },
  {
   "cell_type": "code",
   "execution_count": 20,
   "metadata": {},
   "outputs": [
    {
     "data": {
      "text/plain": [
       "check (generic function with 1 method)"
      ]
     },
     "execution_count": 20,
     "metadata": {},
     "output_type": "execute_result"
    }
   ],
   "source": [
    "function check(n,m,ng, nja)\n",
    "    if ng + nja > 2*n*m/3\n",
    "        env_ng = Int64(round(ng/(ng+nja) * 2*n*m/3))\n",
    "        env_ja = Int64(round(nja/(ng+nja) * 2*n*m/3))\n",
    "        fight_g = ng - env_ng\n",
    "        fight_ja = nja - env_ja\n",
    "        ng = env_ng\n",
    "        nja = env_ja\n",
    "        return ng, nja, fight_g, fight_ja\n",
    "    else\n",
    "        fight_g = 0\n",
    "        fight_ja = 0\n",
    "        return ng, nja, fight_g, fight_ja\n",
    "    end\n",
    "end\n"
   ]
  },
  {
   "cell_type": "code",
   "execution_count": 21,
   "metadata": {},
   "outputs": [
    {
     "data": {
      "text/plain": [
       "(29, 25, 6, 5)"
      ]
     },
     "execution_count": 21,
     "metadata": {},
     "output_type": "execute_result"
    }
   ],
   "source": [
    "check(9,9, 35,30)\n"
   ]
  },
  {
   "cell_type": "code",
   "execution_count": 22,
   "metadata": {},
   "outputs": [
    {
     "name": "stdout",
     "output_type": "stream",
     "text": [
      "(25, 29, 25, 31)"
     ]
    }
   ],
   "source": [
    "print(check(9,9,50,60))\n"
   ]
  },
  {
   "cell_type": "code",
   "execution_count": 23,
   "metadata": {},
   "outputs": [
    {
     "data": {
      "text/plain": [
       "fight_club (generic function with 1 method)"
      ]
     },
     "execution_count": 23,
     "metadata": {},
     "output_type": "execute_result"
    }
   ],
   "source": [
    "function fight_club(n_gol, n_jas)\n",
    "    if (n_gol+n_jas)%2 == 0\n",
    "        n = Int64((n_gol + n_jas)/2)\n",
    "        M = zeros(Int64, 2, n)\n",
    "        if n_gol != 0\n",
    "            golabki(M,n_gol)\n",
    "        end\n",
    "        if n_jas!=0\n",
    "            jastrzabki(M,n_jas)\n",
    "        end\n",
    "    else\n",
    "        n = Int64((n_gol + n_jas + 1)/2) \n",
    "        M = zeros(Int64, 2, n)\n",
    "        if n_gol != 0\n",
    "            golabki(M,n_gol)\n",
    "        end\n",
    "        if n_jas!=0\n",
    "            jastrzabki(M,n_jas)\n",
    "        end\n",
    "    end\n",
    "    return M\n",
    "end\n",
    "        "
   ]
  },
  {
   "cell_type": "code",
   "execution_count": 24,
   "metadata": {},
   "outputs": [
    {
     "data": {
      "text/plain": [
       "2×3 Array{Int64,2}:\n",
       " 8  3  3\n",
       " 3  8  8"
      ]
     },
     "execution_count": 24,
     "metadata": {},
     "output_type": "execute_result"
    }
   ],
   "source": [
    "fight_club(3,3)"
   ]
  },
  {
   "cell_type": "code",
   "execution_count": 25,
   "metadata": {},
   "outputs": [
    {
     "data": {
      "text/plain": [
       "fight (generic function with 1 method)"
      ]
     },
     "execution_count": 25,
     "metadata": {},
     "output_type": "execute_result"
    }
   ],
   "source": [
    "\n",
    "function fight(macierz, n_gol, n_jas)\n",
    "    for i in 1:size(macierz)[2]\n",
    "        suma = macierz[1,i] + macierz[2,i]\n",
    "        if suma == 6\n",
    "            n_gol -= 1\n",
    "        elseif suma == 16\n",
    "            n_jas -= 1\n",
    "        elseif suma == 11\n",
    "            if rand(0:1) == 0\n",
    "                n_gol -= 1\n",
    "            else\n",
    "                n_jas -= 1\n",
    "            end\n",
    "        end\n",
    "    end\n",
    "    return n_gol, n_jas\n",
    "end"
   ]
  },
  {
   "cell_type": "code",
   "execution_count": 26,
   "metadata": {},
   "outputs": [
    {
     "data": {
      "text/plain": [
       "(1, 2)"
      ]
     },
     "execution_count": 26,
     "metadata": {},
     "output_type": "execute_result"
    }
   ],
   "source": [
    "fight(fight_club(3,3), 3, 3)"
   ]
  },
  {
   "cell_type": "markdown",
   "metadata": {},
   "source": [
    "### Generowanie środowiska z mniejszą ilością pakietów (na wypadek przykładowej suszy/ pożaru)\n"
   ]
  },
  {
   "cell_type": "code",
   "execution_count": 27,
   "metadata": {},
   "outputs": [
    {
     "data": {
      "text/plain": [
       "environment_food_amount (generic function with 4 methods)"
      ]
     },
     "execution_count": 27,
     "metadata": {},
     "output_type": "execute_result"
    }
   ],
   "source": [
    "function environment_food_amount(size1 = 21, size2 = 21, amount = 100)\n",
    "#ilość wieszy musi być podzielna przez 3\n",
    "    if size1 % 3 != 0\n",
    "        throw(DomainError(size, \"incorrect size\"))\n",
    "    end\n",
    "    Environment = zeros(Int64, size1, size2)\n",
    "    A = zeros(Int64, 1, size2*(fld(size1-2,3)+1))\n",
    "    A[1,1:amount] = ones(Int64, 1, amount)\n",
    "    A = Random.shuffle(A)\n",
    "    k = 1\n",
    "    for i in 2:3:size1\n",
    "        Environment[i,:] = A[1, k:(k+size1-1)]\n",
    "        k += size1\n",
    "    end\n",
    "    return Environment\n",
    "end"
   ]
  },
  {
   "cell_type": "code",
   "execution_count": null,
   "metadata": {},
   "outputs": [],
   "source": []
  },
  {
   "cell_type": "code",
   "execution_count": null,
   "metadata": {},
   "outputs": [],
   "source": []
  },
  {
   "cell_type": "code",
   "execution_count": null,
   "metadata": {},
   "outputs": [],
   "source": []
  },
  {
   "cell_type": "code",
   "execution_count": 28,
   "metadata": {},
   "outputs": [
    {
     "data": {
      "text/plain": [
       "action (generic function with 2 methods)"
      ]
     },
     "execution_count": 28,
     "metadata": {},
     "output_type": "execute_result"
    }
   ],
   "source": [
    "function action(n, m, n_gol, n_jas, p, A, index = 1)\n",
    "    \n",
    "    if p == 0\n",
    "        return A\n",
    "    end\n",
    "    \n",
    "    srod = environment(n,m) ##mamy pakiety\n",
    "    \n",
    "    a = check(n, m, n_gol, n_jas) #sprawdzamy czy nie ma za dużo ptaszków, zwraca jako (gol_safe, jas_safe, gol_fight, jas_fight)\n",
    "    n_gol = a[1]\n",
    "    n_jas = a[2]\n",
    "\n",
    "    golabki(srod, n_gol)\n",
    "    jastrzabki(srod, n_jas)  ##mamy srodowisko z ptaszkami\n",
    "    \n",
    "    result = potyczki(n,m,srod, n_gol, n_jas) ##mamy stan populacji po potyczkach\n",
    "    n_gol = result[1] ##liczba gołębi\n",
    "    n_jas = result[2]\n",
    "    \n",
    "    ##w miedzyczasie fight club :\n",
    "    \n",
    "    \n",
    "    b = fight(fight_club(a[3],a[4]), a[3], a[4]) #populacja po fight clubie - (gol, jas)\n",
    "    \n",
    "    n_gol += b[1] ##ostateczna ilosc golebi - ta bezpieczna + fight club\n",
    "    n_jas += b[2] ## -||- jastrzebi\n",
    "    gol_fight = b[1] ##ilość ptakow po fightcie, może się przyda c:\n",
    "    jas_fight = b[2]\n",
    "    \n",
    "    A[index, 1] = n_gol\n",
    "    A[index, 2] = n_jas\n",
    "    index += 1\n",
    "    #println(n_gol,\",\", n_jas,\",\", gol_fight, \",\",jas_fight)\n",
    "    \n",
    "    action(n, m, n_gol, n_jas, p-1, A, index) #i lecimy rekurencją\n",
    "end"
   ]
  },
  {
   "cell_type": "code",
   "execution_count": 29,
   "metadata": {},
   "outputs": [
    {
     "data": {
      "text/plain": [
       "100×2 Array{Int64,2}:\n",
       " 28  29\n",
       " 26  30\n",
       " 25  31\n",
       " 24  32\n",
       " 23  32\n",
       " 22  33\n",
       " 21  34\n",
       " 20  35\n",
       " 20  33\n",
       " 20  31\n",
       " 19  32\n",
       " 19  32\n",
       " 18  33\n",
       "  ⋮  \n",
       " 20  25\n",
       " 19  26\n",
       " 19  26\n",
       " 19  27\n",
       " 19  28\n",
       " 19  26\n",
       " 19  26\n",
       " 21  26\n",
       " 21  27\n",
       " 20  28\n",
       " 20  26\n",
       " 20  24"
      ]
     },
     "execution_count": 29,
     "metadata": {},
     "output_type": "execute_result"
    }
   ],
   "source": [
    "A = action(9,9,30,30, 100, zeros(Int64, 100, 2))"
   ]
  },
  {
   "cell_type": "code",
   "execution_count": 30,
   "metadata": {},
   "outputs": [
    {
     "data": {
      "image/svg+xml": [
       "<?xml version=\"1.0\" encoding=\"utf-8\"?>\n",
       "<svg xmlns=\"http://www.w3.org/2000/svg\" xmlns:xlink=\"http://www.w3.org/1999/xlink\" width=\"600\" height=\"400\" viewBox=\"0 0 2400 1600\">\n",
       "<defs>\n",
       "  <clipPath id=\"clip880\">\n",
       "    <rect x=\"0\" y=\"0\" width=\"2400\" height=\"1600\"/>\n",
       "  </clipPath>\n",
       "</defs>\n",
       "<path clip-path=\"url(#clip880)\" d=\"\n",
       "M0 1600 L2400 1600 L2400 0 L0 0  Z\n",
       "  \" fill=\"#ffffff\" fill-rule=\"evenodd\" fill-opacity=\"1\"/>\n",
       "<defs>\n",
       "  <clipPath id=\"clip881\">\n",
       "    <rect x=\"480\" y=\"0\" width=\"1681\" height=\"1600\"/>\n",
       "  </clipPath>\n",
       "</defs>\n",
       "<path clip-path=\"url(#clip880)\" d=\"\n",
       "M136.76 1486.45 L2352.76 1486.45 L2352.76 47.2441 L136.76 47.2441  Z\n",
       "  \" fill=\"#ffffff\" fill-rule=\"evenodd\" fill-opacity=\"1\"/>\n",
       "<defs>\n",
       "  <clipPath id=\"clip882\">\n",
       "    <rect x=\"136\" y=\"47\" width=\"2217\" height=\"1440\"/>\n",
       "  </clipPath>\n",
       "</defs>\n",
       "<polyline clip-path=\"url(#clip882)\" style=\"stroke:#000000; stroke-width:2; stroke-opacity:0.1; fill:none\" points=\"\n",
       "  178.36,1486.45 178.36,47.2441 \n",
       "  \"/>\n",
       "<polyline clip-path=\"url(#clip882)\" style=\"stroke:#000000; stroke-width:2; stroke-opacity:0.1; fill:none\" points=\"\n",
       "  706.28,1486.45 706.28,47.2441 \n",
       "  \"/>\n",
       "<polyline clip-path=\"url(#clip882)\" style=\"stroke:#000000; stroke-width:2; stroke-opacity:0.1; fill:none\" points=\"\n",
       "  1234.2,1486.45 1234.2,47.2441 \n",
       "  \"/>\n",
       "<polyline clip-path=\"url(#clip882)\" style=\"stroke:#000000; stroke-width:2; stroke-opacity:0.1; fill:none\" points=\"\n",
       "  1762.12,1486.45 1762.12,47.2441 \n",
       "  \"/>\n",
       "<polyline clip-path=\"url(#clip882)\" style=\"stroke:#000000; stroke-width:2; stroke-opacity:0.1; fill:none\" points=\"\n",
       "  2290.04,1486.45 2290.04,47.2441 \n",
       "  \"/>\n",
       "<polyline clip-path=\"url(#clip880)\" style=\"stroke:#000000; stroke-width:4; stroke-opacity:1; fill:none\" points=\"\n",
       "  136.76,1486.45 2352.76,1486.45 \n",
       "  \"/>\n",
       "<polyline clip-path=\"url(#clip880)\" style=\"stroke:#000000; stroke-width:4; stroke-opacity:1; fill:none\" points=\"\n",
       "  178.36,1486.45 178.36,1469.18 \n",
       "  \"/>\n",
       "<polyline clip-path=\"url(#clip880)\" style=\"stroke:#000000; stroke-width:4; stroke-opacity:1; fill:none\" points=\"\n",
       "  706.28,1486.45 706.28,1469.18 \n",
       "  \"/>\n",
       "<polyline clip-path=\"url(#clip880)\" style=\"stroke:#000000; stroke-width:4; stroke-opacity:1; fill:none\" points=\"\n",
       "  1234.2,1486.45 1234.2,1469.18 \n",
       "  \"/>\n",
       "<polyline clip-path=\"url(#clip880)\" style=\"stroke:#000000; stroke-width:4; stroke-opacity:1; fill:none\" points=\"\n",
       "  1762.12,1486.45 1762.12,1469.18 \n",
       "  \"/>\n",
       "<polyline clip-path=\"url(#clip880)\" style=\"stroke:#000000; stroke-width:4; stroke-opacity:1; fill:none\" points=\"\n",
       "  2290.04,1486.45 2290.04,1469.18 \n",
       "  \"/>\n",
       "<path clip-path=\"url(#clip880)\" d=\"M 0 0 M178.36 1515.64 Q174.749 1515.64 172.921 1519.2 Q171.115 1522.75 171.115 1529.87 Q171.115 1536.98 172.921 1540.55 Q174.749 1544.09 178.36 1544.09 Q181.995 1544.09 183.8 1540.55 Q185.629 1536.98 185.629 1529.87 Q185.629 1522.75 183.8 1519.2 Q181.995 1515.64 178.36 1515.64 M178.36 1511.93 Q184.171 1511.93 187.226 1516.54 Q190.305 1521.12 190.305 1529.87 Q190.305 1538.6 187.226 1543.21 Q184.171 1547.79 178.36 1547.79 Q172.55 1547.79 169.472 1543.21 Q166.416 1538.6 166.416 1529.87 Q166.416 1521.12 169.472 1516.54 Q172.55 1511.93 178.36 1511.93 Z\" fill=\"#000000\" fill-rule=\"evenodd\" fill-opacity=\"1\" /><path clip-path=\"url(#clip880)\" d=\"M 0 0 M687.924 1543.18 L704.243 1543.18 L704.243 1547.12 L682.299 1547.12 L682.299 1543.18 Q684.961 1540.43 689.544 1535.8 Q694.151 1531.15 695.331 1529.81 Q697.576 1527.28 698.456 1525.55 Q699.359 1523.79 699.359 1522.1 Q699.359 1519.34 697.414 1517.61 Q695.493 1515.87 692.391 1515.87 Q690.192 1515.87 687.739 1516.63 Q685.308 1517.4 682.53 1518.95 L682.53 1514.23 Q685.354 1513.09 687.808 1512.51 Q690.262 1511.93 692.299 1511.93 Q697.669 1511.93 700.863 1514.62 Q704.058 1517.31 704.058 1521.8 Q704.058 1523.93 703.248 1525.85 Q702.461 1527.74 700.354 1530.34 Q699.776 1531.01 696.674 1534.23 Q693.572 1537.42 687.924 1543.18 Z\" fill=\"#000000\" fill-rule=\"evenodd\" fill-opacity=\"1\" /><path clip-path=\"url(#clip880)\" d=\"M 0 0 M709.359 1512.56 L727.715 1512.56 L727.715 1516.5 L713.641 1516.5 L713.641 1524.97 Q714.66 1524.62 715.678 1524.46 Q716.697 1524.27 717.715 1524.27 Q723.502 1524.27 726.882 1527.44 Q730.261 1530.62 730.261 1536.03 Q730.261 1541.61 726.789 1544.71 Q723.317 1547.79 716.998 1547.79 Q714.822 1547.79 712.553 1547.42 Q710.308 1547.05 707.9 1546.31 L707.9 1541.61 Q709.984 1542.74 712.206 1543.3 Q714.428 1543.86 716.905 1543.86 Q720.91 1543.86 723.248 1541.75 Q725.586 1539.64 725.586 1536.03 Q725.586 1532.42 723.248 1530.31 Q720.91 1528.21 716.905 1528.21 Q715.03 1528.21 713.155 1528.62 Q711.303 1529.04 709.359 1529.92 L709.359 1512.56 Z\" fill=\"#000000\" fill-rule=\"evenodd\" fill-opacity=\"1\" /><path clip-path=\"url(#clip880)\" d=\"M 0 0 M1210.97 1512.56 L1229.33 1512.56 L1229.33 1516.5 L1215.25 1516.5 L1215.25 1524.97 Q1216.27 1524.62 1217.29 1524.46 Q1218.31 1524.27 1219.33 1524.27 Q1225.11 1524.27 1228.49 1527.44 Q1231.87 1530.62 1231.87 1536.03 Q1231.87 1541.61 1228.4 1544.71 Q1224.93 1547.79 1218.61 1547.79 Q1216.43 1547.79 1214.17 1547.42 Q1211.92 1547.05 1209.51 1546.31 L1209.51 1541.61 Q1211.6 1542.74 1213.82 1543.3 Q1216.04 1543.86 1218.52 1543.86 Q1222.52 1543.86 1224.86 1541.75 Q1227.2 1539.64 1227.2 1536.03 Q1227.2 1532.42 1224.86 1530.31 Q1222.52 1528.21 1218.52 1528.21 Q1216.64 1528.21 1214.77 1528.62 Q1212.92 1529.04 1210.97 1529.92 L1210.97 1512.56 Z\" fill=\"#000000\" fill-rule=\"evenodd\" fill-opacity=\"1\" /><path clip-path=\"url(#clip880)\" d=\"M 0 0 M1246.94 1515.64 Q1243.33 1515.64 1241.5 1519.2 Q1239.7 1522.75 1239.7 1529.87 Q1239.7 1536.98 1241.5 1540.55 Q1243.33 1544.09 1246.94 1544.09 Q1250.58 1544.09 1252.38 1540.55 Q1254.21 1536.98 1254.21 1529.87 Q1254.21 1522.75 1252.38 1519.2 Q1250.58 1515.64 1246.94 1515.64 M1246.94 1511.93 Q1252.75 1511.93 1255.81 1516.54 Q1258.89 1521.12 1258.89 1529.87 Q1258.89 1538.6 1255.81 1543.21 Q1252.75 1547.79 1246.94 1547.79 Q1241.13 1547.79 1238.05 1543.21 Q1235 1538.6 1235 1529.87 Q1235 1521.12 1238.05 1516.54 Q1241.13 1511.93 1246.94 1511.93 Z\" fill=\"#000000\" fill-rule=\"evenodd\" fill-opacity=\"1\" /><path clip-path=\"url(#clip880)\" d=\"M 0 0 M1738 1512.56 L1760.22 1512.56 L1760.22 1514.55 L1747.68 1547.12 L1742.79 1547.12 L1754.6 1516.5 L1738 1516.5 L1738 1512.56 Z\" fill=\"#000000\" fill-rule=\"evenodd\" fill-opacity=\"1\" /><path clip-path=\"url(#clip880)\" d=\"M 0 0 M1765.34 1512.56 L1783.69 1512.56 L1783.69 1516.5 L1769.62 1516.5 L1769.62 1524.97 Q1770.64 1524.62 1771.66 1524.46 Q1772.67 1524.27 1773.69 1524.27 Q1779.48 1524.27 1782.86 1527.44 Q1786.24 1530.62 1786.24 1536.03 Q1786.24 1541.61 1782.77 1544.71 Q1779.3 1547.79 1772.98 1547.79 Q1770.8 1547.79 1768.53 1547.42 Q1766.29 1547.05 1763.88 1546.31 L1763.88 1541.61 Q1765.96 1542.74 1768.18 1543.3 Q1770.41 1543.86 1772.88 1543.86 Q1776.89 1543.86 1779.23 1541.75 Q1781.56 1539.64 1781.56 1536.03 Q1781.56 1532.42 1779.23 1530.31 Q1776.89 1528.21 1772.88 1528.21 Q1771.01 1528.21 1769.13 1528.62 Q1767.28 1529.04 1765.34 1529.92 L1765.34 1512.56 Z\" fill=\"#000000\" fill-rule=\"evenodd\" fill-opacity=\"1\" /><path clip-path=\"url(#clip880)\" d=\"M 0 0 M2253.41 1543.18 L2261.05 1543.18 L2261.05 1516.82 L2252.74 1518.49 L2252.74 1514.23 L2261 1512.56 L2265.68 1512.56 L2265.68 1543.18 L2273.31 1543.18 L2273.31 1547.12 L2253.41 1547.12 L2253.41 1543.18 Z\" fill=\"#000000\" fill-rule=\"evenodd\" fill-opacity=\"1\" /><path clip-path=\"url(#clip880)\" d=\"M 0 0 M2288.38 1515.64 Q2284.77 1515.64 2282.94 1519.2 Q2281.14 1522.75 2281.14 1529.87 Q2281.14 1536.98 2282.94 1540.55 Q2284.77 1544.09 2288.38 1544.09 Q2292.02 1544.09 2293.82 1540.55 Q2295.65 1536.98 2295.65 1529.87 Q2295.65 1522.75 2293.82 1519.2 Q2292.02 1515.64 2288.38 1515.64 M2288.38 1511.93 Q2294.19 1511.93 2297.25 1516.54 Q2300.33 1521.12 2300.33 1529.87 Q2300.33 1538.6 2297.25 1543.21 Q2294.19 1547.79 2288.38 1547.79 Q2282.57 1547.79 2279.5 1543.21 Q2276.44 1538.6 2276.44 1529.87 Q2276.44 1521.12 2279.5 1516.54 Q2282.57 1511.93 2288.38 1511.93 Z\" fill=\"#000000\" fill-rule=\"evenodd\" fill-opacity=\"1\" /><path clip-path=\"url(#clip880)\" d=\"M 0 0 M2315.4 1515.64 Q2311.79 1515.64 2309.96 1519.2 Q2308.15 1522.75 2308.15 1529.87 Q2308.15 1536.98 2309.96 1540.55 Q2311.79 1544.09 2315.4 1544.09 Q2319.03 1544.09 2320.84 1540.55 Q2322.67 1536.98 2322.67 1529.87 Q2322.67 1522.75 2320.84 1519.2 Q2319.03 1515.64 2315.4 1515.64 M2315.4 1511.93 Q2321.21 1511.93 2324.26 1516.54 Q2327.34 1521.12 2327.34 1529.87 Q2327.34 1538.6 2324.26 1543.21 Q2321.21 1547.79 2315.4 1547.79 Q2309.59 1547.79 2306.51 1543.21 Q2303.45 1538.6 2303.45 1529.87 Q2303.45 1521.12 2306.51 1516.54 Q2309.59 1511.93 2315.4 1511.93 Z\" fill=\"#000000\" fill-rule=\"evenodd\" fill-opacity=\"1\" /><polyline clip-path=\"url(#clip882)\" style=\"stroke:#000000; stroke-width:2; stroke-opacity:0.1; fill:none\" points=\"\n",
       "  136.76,1159.88 2352.76,1159.88 \n",
       "  \"/>\n",
       "<polyline clip-path=\"url(#clip882)\" style=\"stroke:#000000; stroke-width:2; stroke-opacity:0.1; fill:none\" points=\"\n",
       "  136.76,802.576 2352.76,802.576 \n",
       "  \"/>\n",
       "<polyline clip-path=\"url(#clip882)\" style=\"stroke:#000000; stroke-width:2; stroke-opacity:0.1; fill:none\" points=\"\n",
       "  136.76,445.276 2352.76,445.276 \n",
       "  \"/>\n",
       "<polyline clip-path=\"url(#clip882)\" style=\"stroke:#000000; stroke-width:2; stroke-opacity:0.1; fill:none\" points=\"\n",
       "  136.76,87.9763 2352.76,87.9763 \n",
       "  \"/>\n",
       "<polyline clip-path=\"url(#clip880)\" style=\"stroke:#000000; stroke-width:4; stroke-opacity:1; fill:none\" points=\"\n",
       "  136.76,1486.45 136.76,47.2441 \n",
       "  \"/>\n",
       "<polyline clip-path=\"url(#clip880)\" style=\"stroke:#000000; stroke-width:4; stroke-opacity:1; fill:none\" points=\"\n",
       "  136.76,1159.88 163.352,1159.88 \n",
       "  \"/>\n",
       "<polyline clip-path=\"url(#clip880)\" style=\"stroke:#000000; stroke-width:4; stroke-opacity:1; fill:none\" points=\"\n",
       "  136.76,802.576 163.352,802.576 \n",
       "  \"/>\n",
       "<polyline clip-path=\"url(#clip880)\" style=\"stroke:#000000; stroke-width:4; stroke-opacity:1; fill:none\" points=\"\n",
       "  136.76,445.276 163.352,445.276 \n",
       "  \"/>\n",
       "<polyline clip-path=\"url(#clip880)\" style=\"stroke:#000000; stroke-width:4; stroke-opacity:1; fill:none\" points=\"\n",
       "  136.76,87.9763 163.352,87.9763 \n",
       "  \"/>\n",
       "<path clip-path=\"url(#clip880)\" d=\"M 0 0 M57.4273 1173.22 L73.7466 1173.22 L73.7466 1177.16 L51.8023 1177.16 L51.8023 1173.22 Q54.4643 1170.47 59.0476 1165.84 Q63.6541 1161.18 64.8346 1159.84 Q67.08 1157.32 67.9596 1155.58 Q68.8624 1153.82 68.8624 1152.13 Q68.8624 1149.38 66.918 1147.64 Q64.9967 1145.91 61.8948 1145.91 Q59.6958 1145.91 57.2421 1146.67 Q54.8115 1147.43 52.0338 1148.98 L52.0338 1144.26 Q54.8578 1143.13 57.3115 1142.55 Q59.7652 1141.97 61.8023 1141.97 Q67.1726 1141.97 70.367 1144.66 Q73.5614 1147.34 73.5614 1151.83 Q73.5614 1153.96 72.7513 1155.88 Q71.9642 1157.78 69.8578 1160.37 Q69.2791 1161.04 66.1772 1164.26 Q63.0754 1167.46 57.4273 1173.22 Z\" fill=\"#000000\" fill-rule=\"evenodd\" fill-opacity=\"1\" /><path clip-path=\"url(#clip880)\" d=\"M 0 0 M88.816 1145.67 Q85.2049 1145.67 83.3762 1149.24 Q81.5707 1152.78 81.5707 1159.91 Q81.5707 1167.02 83.3762 1170.58 Q85.2049 1174.12 88.816 1174.12 Q92.4502 1174.12 94.2558 1170.58 Q96.0845 1167.02 96.0845 1159.91 Q96.0845 1152.78 94.2558 1149.24 Q92.4502 1145.67 88.816 1145.67 M88.816 1141.97 Q94.6262 1141.97 97.6817 1146.58 Q100.76 1151.16 100.76 1159.91 Q100.76 1168.64 97.6817 1173.24 Q94.6262 1177.83 88.816 1177.83 Q83.0058 1177.83 79.9272 1173.24 Q76.8716 1168.64 76.8716 1159.91 Q76.8716 1151.16 79.9272 1146.58 Q83.0058 1141.97 88.816 1141.97 Z\" fill=\"#000000\" fill-rule=\"evenodd\" fill-opacity=\"1\" /><path clip-path=\"url(#clip880)\" d=\"M 0 0 M58.4226 815.921 L74.742 815.921 L74.742 819.856 L52.7977 819.856 L52.7977 815.921 Q55.4597 813.166 60.043 808.537 Q64.6495 803.884 65.83 802.541 Q68.0754 800.018 68.955 798.282 Q69.8578 796.523 69.8578 794.833 Q69.8578 792.078 67.9133 790.342 Q65.992 788.606 62.8902 788.606 Q60.6911 788.606 58.2375 789.37 Q55.8069 790.134 53.0292 791.685 L53.0292 786.963 Q55.8532 785.828 58.3069 785.25 Q60.7606 784.671 62.7976 784.671 Q68.168 784.671 71.3624 787.356 Q74.5568 790.041 74.5568 794.532 Q74.5568 796.662 73.7466 798.583 Q72.9596 800.481 70.8531 803.074 Q70.2744 803.745 67.1726 806.963 Q64.0708 810.157 58.4226 815.921 Z\" fill=\"#000000\" fill-rule=\"evenodd\" fill-opacity=\"1\" /><path clip-path=\"url(#clip880)\" d=\"M 0 0 M79.8577 785.296 L98.2141 785.296 L98.2141 789.231 L84.1401 789.231 L84.1401 797.703 Q85.1586 797.356 86.1771 797.194 Q87.1956 797.009 88.2141 797.009 Q94.0012 797.009 97.3808 800.18 Q100.76 803.351 100.76 808.768 Q100.76 814.347 97.2882 817.449 Q93.816 820.527 87.4966 820.527 Q85.3206 820.527 83.0521 820.157 Q80.8068 819.787 78.3994 819.046 L78.3994 814.347 Q80.4827 815.481 82.7049 816.037 Q84.9271 816.592 87.404 816.592 Q91.4086 816.592 93.7465 814.486 Q96.0845 812.379 96.0845 808.768 Q96.0845 805.157 93.7465 803.051 Q91.4086 800.944 87.404 800.944 Q85.529 800.944 83.654 801.361 Q81.8021 801.777 79.8577 802.657 L79.8577 785.296 Z\" fill=\"#000000\" fill-rule=\"evenodd\" fill-opacity=\"1\" /><path clip-path=\"url(#clip880)\" d=\"M 0 0 M66.617 443.922 Q69.9735 444.64 71.8485 446.908 Q73.7466 449.177 73.7466 452.51 Q73.7466 457.626 70.2281 460.427 Q66.7096 463.227 60.2282 463.227 Q58.0523 463.227 55.7375 462.788 Q53.4458 462.371 50.9921 461.514 L50.9921 457.001 Q52.9366 458.135 55.2514 458.714 Q57.5662 459.292 60.0893 459.292 Q64.4874 459.292 66.7791 457.556 Q69.0939 455.82 69.0939 452.51 Q69.0939 449.454 66.9411 447.741 Q64.8115 446.005 60.9921 446.005 L56.9643 446.005 L56.9643 442.163 L61.1773 442.163 Q64.6263 442.163 66.455 440.797 Q68.2837 439.408 68.2837 436.816 Q68.2837 434.153 66.3856 432.741 Q64.5106 431.306 60.9921 431.306 Q59.0708 431.306 56.8717 431.723 Q54.6727 432.14 52.0338 433.019 L52.0338 428.853 Q54.6958 428.112 57.0106 427.741 Q59.3486 427.371 61.4087 427.371 Q66.7328 427.371 69.8346 429.802 Q72.9365 432.209 72.9365 436.329 Q72.9365 439.2 71.2929 441.19 Q69.6494 443.158 66.617 443.922 Z\" fill=\"#000000\" fill-rule=\"evenodd\" fill-opacity=\"1\" /><path clip-path=\"url(#clip880)\" d=\"M 0 0 M88.816 431.075 Q85.2049 431.075 83.3762 434.64 Q81.5707 438.181 81.5707 445.311 Q81.5707 452.417 83.3762 455.982 Q85.2049 459.524 88.816 459.524 Q92.4502 459.524 94.2558 455.982 Q96.0845 452.417 96.0845 445.311 Q96.0845 438.181 94.2558 434.64 Q92.4502 431.075 88.816 431.075 M88.816 427.371 Q94.6262 427.371 97.6817 431.978 Q100.76 436.561 100.76 445.311 Q100.76 454.038 97.6817 458.644 Q94.6262 463.227 88.816 463.227 Q83.0058 463.227 79.9272 458.644 Q76.8716 454.038 76.8716 445.311 Q76.8716 436.561 79.9272 431.978 Q83.0058 427.371 88.816 427.371 Z\" fill=\"#000000\" fill-rule=\"evenodd\" fill-opacity=\"1\" /><path clip-path=\"url(#clip880)\" d=\"M 0 0 M67.6124 86.6221 Q70.9689 87.3397 72.8439 89.6082 Q74.742 91.8767 74.742 95.21 Q74.742 100.326 71.2235 103.127 Q67.705 105.928 61.2236 105.928 Q59.0476 105.928 56.7328 105.488 Q54.4412 105.071 51.9875 104.215 L51.9875 99.7008 Q53.9319 100.835 56.2467 101.414 Q58.5615 101.992 61.0847 101.992 Q65.4828 101.992 67.7744 100.256 Q70.0892 98.5202 70.0892 95.21 Q70.0892 92.1545 67.9365 90.4415 Q65.8069 88.7054 61.9874 88.7054 L57.9597 88.7054 L57.9597 84.8629 L62.1726 84.8629 Q65.6217 84.8629 67.4504 83.4971 Q69.2791 82.1083 69.2791 79.5157 Q69.2791 76.8537 67.3809 75.4416 Q65.5059 74.0064 61.9874 74.0064 Q60.0662 74.0064 57.8671 74.4231 Q55.668 74.8398 53.0292 75.7194 L53.0292 71.5528 Q55.6912 70.812 58.006 70.4416 Q60.3439 70.0713 62.4041 70.0713 Q67.7281 70.0713 70.83 72.5018 Q73.9318 74.9092 73.9318 79.0296 Q73.9318 81.8999 72.2883 83.8907 Q70.6448 85.8582 67.6124 86.6221 Z\" fill=\"#000000\" fill-rule=\"evenodd\" fill-opacity=\"1\" /><path clip-path=\"url(#clip880)\" d=\"M 0 0 M79.8577 70.6963 L98.2141 70.6963 L98.2141 74.6314 L84.1401 74.6314 L84.1401 83.1036 Q85.1586 82.7564 86.1771 82.5944 Q87.1956 82.4092 88.2141 82.4092 Q94.0012 82.4092 97.3808 85.5805 Q100.76 88.7517 100.76 94.1684 Q100.76 99.747 97.2882 102.849 Q93.816 105.928 87.4966 105.928 Q85.3206 105.928 83.0521 105.557 Q80.8068 105.187 78.3994 104.446 L78.3994 99.747 Q80.4827 100.881 82.7049 101.437 Q84.9271 101.992 87.404 101.992 Q91.4086 101.992 93.7465 99.8859 Q96.0845 97.7795 96.0845 94.1684 Q96.0845 90.5573 93.7465 88.4508 Q91.4086 86.3443 87.404 86.3443 Q85.529 86.3443 83.654 86.761 Q81.8021 87.1777 79.8577 88.0573 L79.8577 70.6963 Z\" fill=\"#000000\" fill-rule=\"evenodd\" fill-opacity=\"1\" /><polyline clip-path=\"url(#clip882)\" style=\"stroke:#800080; stroke-width:4; stroke-opacity:1; fill:none\" points=\"\n",
       "  199.477,588.196 220.594,731.116 241.711,802.576 262.828,874.036 283.944,945.496 305.061,1016.96 326.178,1088.42 347.295,1159.88 368.412,1159.88 389.528,1159.88 \n",
       "  410.645,1231.34 431.762,1231.34 452.879,1302.8 473.995,1302.8 495.112,1302.8 516.229,1302.8 537.346,1302.8 558.463,1159.88 579.579,1016.96 600.696,1016.96 \n",
       "  621.813,1016.96 642.93,1088.42 664.047,1088.42 685.163,1088.42 706.28,1159.88 727.397,1159.88 748.514,1159.88 769.63,1159.88 790.747,1159.88 811.864,1159.88 \n",
       "  832.981,1159.88 854.098,1159.88 875.214,1231.34 896.331,1302.8 917.448,1159.88 938.565,1159.88 959.682,1159.88 980.798,1159.88 1001.92,1159.88 1023.03,1231.34 \n",
       "  1044.15,1088.42 1065.27,1088.42 1086.38,1159.88 1107.5,1159.88 1128.62,1159.88 1149.73,1159.88 1170.85,1159.88 1191.97,1159.88 1213.08,1231.34 1234.2,1231.34 \n",
       "  1255.32,1231.34 1276.43,1231.34 1297.55,1231.34 1318.67,1231.34 1339.78,1088.42 1360.9,1159.88 1382.02,1159.88 1403.13,1159.88 1424.25,1159.88 1445.37,1231.34 \n",
       "  1466.48,1231.34 1487.6,1302.8 1508.72,1302.8 1529.83,1302.8 1550.95,1302.8 1572.07,1374.26 1593.19,1374.26 1614.3,1374.26 1635.42,1374.26 1656.54,1374.26 \n",
       "  1677.65,1374.26 1698.77,1374.26 1719.89,1374.26 1741,1374.26 1762.12,1374.26 1783.24,1374.26 1804.35,1374.26 1825.47,1374.26 1846.59,1374.26 1867.7,1374.26 \n",
       "  1888.82,1374.26 1909.94,1445.72 1931.05,1445.72 1952.17,1302.8 1973.29,1302.8 1994.4,1302.8 2015.52,1159.88 2036.64,1159.88 2057.75,1159.88 2078.87,1231.34 \n",
       "  2099.99,1231.34 2121.1,1231.34 2142.22,1231.34 2163.34,1231.34 2184.46,1231.34 2205.57,1088.42 2226.69,1088.42 2247.81,1159.88 2268.92,1159.88 2290.04,1159.88 \n",
       "  \n",
       "  \"/>\n",
       "<polyline clip-path=\"url(#clip882)\" style=\"stroke:#008000; stroke-width:4; stroke-opacity:1; fill:none\" points=\"\n",
       "  199.477,516.736 220.594,445.276 241.711,373.816 262.828,302.356 283.944,302.356 305.061,230.896 326.178,159.436 347.295,87.9763 368.412,230.896 389.528,373.816 \n",
       "  410.645,302.356 431.762,302.356 452.879,230.896 473.995,373.816 495.112,373.816 516.229,302.356 537.346,445.276 558.463,445.276 579.579,445.276 600.696,588.196 \n",
       "  621.813,516.736 642.93,445.276 664.047,445.276 685.163,373.816 706.28,302.356 727.397,230.896 748.514,159.436 769.63,302.356 790.747,302.356 811.864,445.276 \n",
       "  832.981,588.196 854.098,588.196 875.214,516.736 896.331,445.276 917.448,445.276 938.565,373.816 959.682,516.736 980.798,659.656 1001.92,802.576 1023.03,731.116 \n",
       "  1044.15,731.116 1065.27,731.116 1086.38,659.656 1107.5,659.656 1128.62,659.656 1149.73,588.196 1170.85,516.736 1191.97,445.276 1213.08,373.816 1234.2,373.816 \n",
       "  1255.32,373.816 1276.43,373.816 1297.55,516.736 1318.67,659.656 1339.78,659.656 1360.9,588.196 1382.02,588.196 1403.13,516.736 1424.25,445.276 1445.37,373.816 \n",
       "  1466.48,302.356 1487.6,230.896 1508.72,159.436 1529.83,87.9763 1550.95,230.896 1572.07,159.436 1593.19,302.356 1614.3,302.356 1635.42,445.276 1656.54,588.196 \n",
       "  1677.65,588.196 1698.77,516.736 1719.89,659.656 1741,588.196 1762.12,588.196 1783.24,588.196 1804.35,731.116 1825.47,659.656 1846.59,588.196 1867.7,731.116 \n",
       "  1888.82,731.116 1909.94,659.656 1931.05,588.196 1952.17,588.196 1973.29,731.116 1994.4,659.656 2015.52,659.656 2036.64,659.656 2057.75,802.576 2078.87,731.116 \n",
       "  2099.99,731.116 2121.1,659.656 2142.22,588.196 2163.34,731.116 2184.46,731.116 2205.57,731.116 2226.69,659.656 2247.81,588.196 2268.92,731.116 2290.04,874.036 \n",
       "  \n",
       "  \"/>\n",
       "<path clip-path=\"url(#clip880)\" d=\"\n",
       "M1826.65 276.658 L2278.89 276.658 L2278.89 95.2176 L1826.65 95.2176  Z\n",
       "  \" fill=\"#ffffff\" fill-rule=\"evenodd\" fill-opacity=\"1\"/>\n",
       "<polyline clip-path=\"url(#clip880)\" style=\"stroke:#000000; stroke-width:4; stroke-opacity:1; fill:none\" points=\"\n",
       "  1826.65,276.658 2278.89,276.658 2278.89,95.2176 1826.65,95.2176 1826.65,276.658 \n",
       "  \"/>\n",
       "<polyline clip-path=\"url(#clip880)\" style=\"stroke:#800080; stroke-width:4; stroke-opacity:1; fill:none\" points=\"\n",
       "  1851.27,155.698 1999.01,155.698 \n",
       "  \"/>\n",
       "<path clip-path=\"url(#clip880)\" d=\"M 0 0 M2042.54 159.714 Q2042.54 155.084 2040.62 152.538 Q2038.72 149.992 2035.27 149.992 Q2031.85 149.992 2029.92 152.538 Q2028.03 155.084 2028.03 159.714 Q2028.03 164.32 2029.92 166.866 Q2031.85 169.413 2035.27 169.413 Q2038.72 169.413 2040.62 166.866 Q2042.54 164.32 2042.54 159.714 M2046.8 169.76 Q2046.8 176.38 2043.86 179.598 Q2040.92 182.839 2034.85 182.839 Q2032.61 182.839 2030.62 182.491 Q2028.63 182.167 2026.75 181.473 L2026.75 177.329 Q2028.63 178.348 2030.46 178.834 Q2032.28 179.32 2034.18 179.32 Q2038.37 179.32 2040.46 177.121 Q2042.54 174.945 2042.54 170.524 L2042.54 168.417 Q2041.22 170.709 2039.16 171.843 Q2037.1 172.978 2034.23 172.978 Q2029.46 172.978 2026.54 169.343 Q2023.63 165.709 2023.63 159.714 Q2023.63 153.695 2026.54 150.061 Q2029.46 146.427 2034.23 146.427 Q2037.1 146.427 2039.16 147.561 Q2041.22 148.695 2042.54 150.987 L2042.54 147.052 L2046.8 147.052 L2046.8 169.76 Z\" fill=\"#000000\" fill-rule=\"evenodd\" fill-opacity=\"1\" /><path clip-path=\"url(#clip880)\" d=\"M 0 0 M2061.31 150.038 Q2057.89 150.038 2055.9 152.723 Q2053.91 155.385 2053.91 160.038 Q2053.91 164.691 2055.87 167.376 Q2057.86 170.038 2061.31 170.038 Q2064.72 170.038 2066.71 167.353 Q2068.7 164.667 2068.7 160.038 Q2068.7 155.431 2066.71 152.746 Q2064.72 150.038 2061.31 150.038 M2061.31 146.427 Q2066.87 146.427 2070.04 150.038 Q2073.21 153.649 2073.21 160.038 Q2073.21 166.404 2070.04 170.038 Q2066.87 173.649 2061.31 173.649 Q2055.73 173.649 2052.56 170.038 Q2049.41 166.404 2049.41 160.038 Q2049.41 153.649 2052.56 150.038 Q2055.73 146.427 2061.31 146.427 Z\" fill=\"#000000\" fill-rule=\"evenodd\" fill-opacity=\"1\" /><path clip-path=\"url(#clip880)\" d=\"M 0 0 M2077.82 136.959 L2082.08 136.959 L2082.08 150.894 L2084.97 148.811 L2086.73 151.265 L2082.08 154.529 L2082.08 172.978 L2077.82 172.978 L2077.82 157.561 L2074.97 159.598 L2073.26 157.144 L2077.82 153.88 L2077.82 136.959 Z\" fill=\"#000000\" fill-rule=\"evenodd\" fill-opacity=\"1\" /><path clip-path=\"url(#clip880)\" d=\"M 0 0 M2113.37 158.95 L2113.37 161.033 L2093.79 161.033 Q2094.07 165.431 2096.43 167.746 Q2098.81 170.038 2103.05 170.038 Q2105.5 170.038 2107.79 169.436 Q2110.11 168.834 2112.38 167.63 L2112.38 171.658 Q2110.09 172.63 2107.68 173.14 Q2105.27 173.649 2102.79 173.649 Q2096.59 173.649 2092.96 170.038 Q2089.34 166.427 2089.34 160.269 Q2089.34 153.904 2092.77 150.177 Q2096.22 146.427 2102.05 146.427 Q2107.28 146.427 2110.32 149.806 Q2113.37 153.163 2113.37 158.95 M2109.11 157.7 Q2109.07 154.205 2107.15 152.121 Q2105.25 150.038 2102.1 150.038 Q2098.53 150.038 2096.38 152.052 Q2094.25 154.066 2093.93 157.723 L2109.11 157.7 M2105.62 172.978 L2108.37 172.978 Q2107.33 174.39 2106.82 175.408 Q2106.34 176.427 2106.34 177.144 Q2106.34 178.209 2106.96 178.741 Q2107.61 179.274 2108.86 179.274 Q2109.6 179.274 2110.32 179.089 Q2111.03 178.927 2111.75 178.579 L2111.75 181.658 Q2110.87 181.89 2110.09 182.005 Q2109.3 182.121 2108.6 182.121 Q2105.78 182.121 2104.44 181.103 Q2103.12 180.107 2103.12 177.954 Q2103.12 176.843 2103.72 175.616 Q2104.34 174.413 2105.62 172.978 Z\" fill=\"#000000\" fill-rule=\"evenodd\" fill-opacity=\"1\" /><path clip-path=\"url(#clip880)\" d=\"M 0 0 M2136.45 160.038 Q2136.45 155.339 2134.51 152.677 Q2132.59 149.992 2129.21 149.992 Q2125.83 149.992 2123.88 152.677 Q2121.96 155.339 2121.96 160.038 Q2121.96 164.737 2123.88 167.422 Q2125.83 170.084 2129.21 170.084 Q2132.59 170.084 2134.51 167.422 Q2136.45 164.737 2136.45 160.038 M2121.96 150.987 Q2123.3 148.672 2125.34 147.561 Q2127.4 146.427 2130.25 146.427 Q2134.97 146.427 2137.91 150.177 Q2140.87 153.927 2140.87 160.038 Q2140.87 166.149 2137.91 169.899 Q2134.97 173.649 2130.25 173.649 Q2127.4 173.649 2125.34 172.538 Q2123.3 171.403 2121.96 169.089 L2121.96 172.978 L2117.68 172.978 L2117.68 136.959 L2121.96 136.959 L2121.96 150.987 Z\" fill=\"#000000\" fill-rule=\"evenodd\" fill-opacity=\"1\" /><path clip-path=\"url(#clip880)\" d=\"M 0 0 M2145.34 147.052 L2149.6 147.052 L2149.6 172.978 L2145.34 172.978 L2145.34 147.052 M2145.34 136.959 L2149.6 136.959 L2149.6 142.353 L2145.34 142.353 L2145.34 136.959 Z\" fill=\"#000000\" fill-rule=\"evenodd\" fill-opacity=\"1\" /><path clip-path=\"url(#clip880)\" d=\"M 0 0 M2176.24 158.95 L2176.24 161.033 L2156.66 161.033 Q2156.94 165.431 2159.3 167.746 Q2161.68 170.038 2165.92 170.038 Q2168.37 170.038 2170.66 169.436 Q2172.98 168.834 2175.25 167.63 L2175.25 171.658 Q2172.96 172.63 2170.55 173.14 Q2168.14 173.649 2165.66 173.649 Q2159.46 173.649 2155.83 170.038 Q2152.21 166.427 2152.21 160.269 Q2152.21 153.904 2155.64 150.177 Q2159.09 146.427 2164.92 146.427 Q2170.15 146.427 2173.19 149.806 Q2176.24 153.163 2176.24 158.95 M2171.98 157.7 Q2171.94 154.205 2170.02 152.121 Q2168.12 150.038 2164.97 150.038 Q2161.4 150.038 2159.25 152.052 Q2157.12 154.066 2156.8 157.723 L2171.98 157.7 Z\" fill=\"#000000\" fill-rule=\"evenodd\" fill-opacity=\"1\" /><polyline clip-path=\"url(#clip880)\" style=\"stroke:#008000; stroke-width:4; stroke-opacity:1; fill:none\" points=\"\n",
       "  1851.27,216.178 1999.01,216.178 \n",
       "  \"/>\n",
       "<path clip-path=\"url(#clip880)\" d=\"M 0 0 M2028.95 207.532 L2033.21 207.532 L2033.21 233.921 Q2033.21 238.874 2031.31 241.096 Q2029.44 243.319 2025.25 243.319 L2023.63 243.319 L2023.63 239.708 L2024.76 239.708 Q2027.19 239.708 2028.07 238.573 Q2028.95 237.462 2028.95 233.921 L2028.95 207.532 M2028.95 197.439 L2033.21 197.439 L2033.21 202.833 L2028.95 202.833 L2028.95 197.439 Z\" fill=\"#000000\" fill-rule=\"evenodd\" fill-opacity=\"1\" /><path clip-path=\"url(#clip880)\" d=\"M 0 0 M2049.46 220.425 Q2044.3 220.425 2042.31 221.606 Q2040.32 222.786 2040.32 225.634 Q2040.32 227.902 2041.8 229.245 Q2043.3 230.564 2045.87 230.564 Q2049.41 230.564 2051.54 228.064 Q2053.7 225.541 2053.7 221.374 L2053.7 220.425 L2049.46 220.425 M2057.96 218.666 L2057.96 233.458 L2053.7 233.458 L2053.7 229.522 Q2052.24 231.883 2050.06 233.018 Q2047.89 234.129 2044.74 234.129 Q2040.76 234.129 2038.4 231.907 Q2036.06 229.661 2036.06 225.911 Q2036.06 221.536 2038.97 219.314 Q2041.91 217.092 2047.72 217.092 L2053.7 217.092 L2053.7 216.675 Q2053.7 213.735 2051.75 212.138 Q2049.83 210.518 2046.34 210.518 Q2044.11 210.518 2042.01 211.05 Q2039.9 211.583 2037.96 212.647 L2037.96 208.712 Q2040.29 207.81 2042.49 207.37 Q2044.69 206.907 2046.78 206.907 Q2052.4 206.907 2055.18 209.823 Q2057.96 212.74 2057.96 218.666 Z\" fill=\"#000000\" fill-rule=\"evenodd\" fill-opacity=\"1\" /><path clip-path=\"url(#clip880)\" d=\"M 0 0 M2078.95 208.296 L2078.95 212.323 Q2077.15 211.397 2075.2 210.935 Q2073.26 210.472 2071.17 210.472 Q2068 210.472 2066.41 211.444 Q2064.83 212.416 2064.83 214.36 Q2064.83 215.842 2065.97 216.698 Q2067.1 217.532 2070.53 218.296 L2071.98 218.62 Q2076.52 219.592 2078.42 221.374 Q2080.34 223.134 2080.34 226.305 Q2080.34 229.916 2077.47 232.022 Q2074.62 234.129 2069.62 234.129 Q2067.54 234.129 2065.27 233.712 Q2063.03 233.319 2060.53 232.508 L2060.53 228.11 Q2062.89 229.337 2065.18 229.962 Q2067.47 230.564 2069.72 230.564 Q2072.72 230.564 2074.34 229.546 Q2075.97 228.504 2075.97 226.629 Q2075.97 224.893 2074.78 223.967 Q2073.63 223.041 2069.67 222.184 L2068.19 221.837 Q2064.23 221.004 2062.47 219.291 Q2060.71 217.555 2060.71 214.546 Q2060.71 210.888 2063.3 208.898 Q2065.9 206.907 2070.66 206.907 Q2073.03 206.907 2075.11 207.254 Q2077.19 207.601 2078.95 208.296 Z\" fill=\"#000000\" fill-rule=\"evenodd\" fill-opacity=\"1\" /><path clip-path=\"url(#clip880)\" d=\"M 0 0 M2089.02 200.171 L2089.02 207.532 L2097.79 207.532 L2097.79 210.842 L2089.02 210.842 L2089.02 224.916 Q2089.02 228.087 2089.88 228.99 Q2090.76 229.893 2093.42 229.893 L2097.79 229.893 L2097.79 233.458 L2093.42 233.458 Q2088.49 233.458 2086.61 231.629 Q2084.74 229.777 2084.74 224.916 L2084.74 210.842 L2081.61 210.842 L2081.61 207.532 L2084.74 207.532 L2084.74 200.171 L2089.02 200.171 Z\" fill=\"#000000\" fill-rule=\"evenodd\" fill-opacity=\"1\" /><path clip-path=\"url(#clip880)\" d=\"M 0 0 M2117.28 211.513 Q2116.57 211.097 2115.71 210.911 Q2114.88 210.703 2113.86 210.703 Q2110.25 210.703 2108.3 213.064 Q2106.38 215.402 2106.38 219.8 L2106.38 233.458 L2102.1 233.458 L2102.1 207.532 L2106.38 207.532 L2106.38 211.56 Q2107.72 209.198 2109.88 208.064 Q2112.03 206.907 2115.11 206.907 Q2115.55 206.907 2116.08 206.976 Q2116.61 207.023 2117.26 207.138 L2117.28 211.513 Z\" fill=\"#000000\" fill-rule=\"evenodd\" fill-opacity=\"1\" /><path clip-path=\"url(#clip880)\" d=\"M 0 0 M2119.9 207.532 L2140.13 207.532 L2140.13 211.421 L2124.11 230.055 L2140.13 230.055 L2140.13 233.458 L2119.32 233.458 L2119.32 229.569 L2135.34 210.935 L2119.9 210.935 L2119.9 207.532 Z\" fill=\"#000000\" fill-rule=\"evenodd\" fill-opacity=\"1\" /><path clip-path=\"url(#clip880)\" d=\"M 0 0 M2166.78 219.43 L2166.78 221.513 L2147.19 221.513 Q2147.47 225.911 2149.83 228.226 Q2152.21 230.518 2156.45 230.518 Q2158.9 230.518 2161.2 229.916 Q2163.51 229.314 2165.78 228.11 L2165.78 232.138 Q2163.49 233.11 2161.08 233.62 Q2158.67 234.129 2156.2 234.129 Q2149.99 234.129 2146.36 230.518 Q2142.75 226.907 2142.75 220.749 Q2142.75 214.384 2146.17 210.657 Q2149.62 206.907 2155.46 206.907 Q2160.69 206.907 2163.72 210.286 Q2166.78 213.643 2166.78 219.43 M2162.52 218.18 Q2162.47 214.685 2160.55 212.601 Q2158.65 210.518 2155.5 210.518 Q2151.94 210.518 2149.78 212.532 Q2147.65 214.546 2147.33 218.203 L2162.52 218.18 M2159.02 233.458 L2161.78 233.458 Q2160.73 234.87 2160.22 235.888 Q2159.74 236.907 2159.74 237.624 Q2159.74 238.689 2160.36 239.221 Q2161.01 239.754 2162.26 239.754 Q2163 239.754 2163.72 239.569 Q2164.44 239.407 2165.15 239.059 L2165.15 242.138 Q2164.28 242.37 2163.49 242.485 Q2162.7 242.601 2162.01 242.601 Q2159.18 242.601 2157.84 241.583 Q2156.52 240.587 2156.52 238.434 Q2156.52 237.323 2157.12 236.096 Q2157.75 234.893 2159.02 233.458 Z\" fill=\"#000000\" fill-rule=\"evenodd\" fill-opacity=\"1\" /><path clip-path=\"url(#clip880)\" d=\"M 0 0 M2189.85 220.518 Q2189.85 215.819 2187.91 213.157 Q2185.99 210.472 2182.61 210.472 Q2179.23 210.472 2177.28 213.157 Q2175.36 215.819 2175.36 220.518 Q2175.36 225.217 2177.28 227.902 Q2179.23 230.564 2182.61 230.564 Q2185.99 230.564 2187.91 227.902 Q2189.85 225.217 2189.85 220.518 M2175.36 211.467 Q2176.71 209.152 2178.74 208.041 Q2180.8 206.907 2183.65 206.907 Q2188.37 206.907 2191.31 210.657 Q2194.27 214.407 2194.27 220.518 Q2194.27 226.629 2191.31 230.379 Q2188.37 234.129 2183.65 234.129 Q2180.8 234.129 2178.74 233.018 Q2176.71 231.883 2175.36 229.569 L2175.36 233.458 L2171.08 233.458 L2171.08 197.439 L2175.36 197.439 L2175.36 211.467 Z\" fill=\"#000000\" fill-rule=\"evenodd\" fill-opacity=\"1\" /><path clip-path=\"url(#clip880)\" d=\"M 0 0 M2198.74 207.532 L2203 207.532 L2203 233.458 L2198.74 233.458 L2198.74 207.532 M2198.74 197.439 L2203 197.439 L2203 202.833 L2198.74 202.833 L2198.74 197.439 Z\" fill=\"#000000\" fill-rule=\"evenodd\" fill-opacity=\"1\" /><path clip-path=\"url(#clip880)\" d=\"M 0 0 M2229.65 219.43 L2229.65 221.513 L2210.06 221.513 Q2210.34 225.911 2212.7 228.226 Q2215.08 230.518 2219.32 230.518 Q2221.77 230.518 2224.07 229.916 Q2226.38 229.314 2228.65 228.11 L2228.65 232.138 Q2226.36 233.11 2223.95 233.62 Q2221.54 234.129 2219.07 234.129 Q2212.86 234.129 2209.23 230.518 Q2205.62 226.907 2205.62 220.749 Q2205.62 214.384 2209.04 210.657 Q2212.49 206.907 2218.33 206.907 Q2223.56 206.907 2226.59 210.286 Q2229.65 213.643 2229.65 219.43 M2225.39 218.18 Q2225.34 214.685 2223.42 212.601 Q2221.52 210.518 2218.37 210.518 Q2214.81 210.518 2212.65 212.532 Q2210.52 214.546 2210.2 218.203 L2225.39 218.18 Z\" fill=\"#000000\" fill-rule=\"evenodd\" fill-opacity=\"1\" /></svg>\n"
      ]
     },
     "execution_count": 30,
     "metadata": {},
     "output_type": "execute_result"
    }
   ],
   "source": [
    "plot(1:size(A)[1], A[:, 1], label=\"gołębie\", color= :purple)\n",
    "plot!(1:size(A)[1], A[:, 2], label=\"jastrzębie\", color= :green)"
   ]
  },
  {
   "cell_type": "code",
   "execution_count": 31,
   "metadata": {},
   "outputs": [
    {
     "data": {
      "image/svg+xml": [
       "<?xml version=\"1.0\" encoding=\"utf-8\"?>\n",
       "<svg xmlns=\"http://www.w3.org/2000/svg\" xmlns:xlink=\"http://www.w3.org/1999/xlink\" width=\"600\" height=\"400\" viewBox=\"0 0 2400 1600\">\n",
       "<defs>\n",
       "  <clipPath id=\"clip920\">\n",
       "    <rect x=\"0\" y=\"0\" width=\"2400\" height=\"1600\"/>\n",
       "  </clipPath>\n",
       "</defs>\n",
       "<path clip-path=\"url(#clip920)\" d=\"\n",
       "M0 1600 L2400 1600 L2400 0 L0 0  Z\n",
       "  \" fill=\"#ffffff\" fill-rule=\"evenodd\" fill-opacity=\"1\"/>\n",
       "<defs>\n",
       "  <clipPath id=\"clip921\">\n",
       "    <rect x=\"480\" y=\"0\" width=\"1681\" height=\"1600\"/>\n",
       "  </clipPath>\n",
       "</defs>\n",
       "<path clip-path=\"url(#clip920)\" d=\"\n",
       "M136.76 1486.45 L2352.76 1486.45 L2352.76 47.2441 L136.76 47.2441  Z\n",
       "  \" fill=\"#ffffff\" fill-rule=\"evenodd\" fill-opacity=\"1\"/>\n",
       "<defs>\n",
       "  <clipPath id=\"clip922\">\n",
       "    <rect x=\"136\" y=\"47\" width=\"2217\" height=\"1440\"/>\n",
       "  </clipPath>\n",
       "</defs>\n",
       "<polyline clip-path=\"url(#clip922)\" style=\"stroke:#000000; stroke-width:2; stroke-opacity:0.1; fill:none\" points=\"\n",
       "  178.36,1486.45 178.36,47.2441 \n",
       "  \"/>\n",
       "<polyline clip-path=\"url(#clip922)\" style=\"stroke:#000000; stroke-width:2; stroke-opacity:0.1; fill:none\" points=\"\n",
       "  706.28,1486.45 706.28,47.2441 \n",
       "  \"/>\n",
       "<polyline clip-path=\"url(#clip922)\" style=\"stroke:#000000; stroke-width:2; stroke-opacity:0.1; fill:none\" points=\"\n",
       "  1234.2,1486.45 1234.2,47.2441 \n",
       "  \"/>\n",
       "<polyline clip-path=\"url(#clip922)\" style=\"stroke:#000000; stroke-width:2; stroke-opacity:0.1; fill:none\" points=\"\n",
       "  1762.12,1486.45 1762.12,47.2441 \n",
       "  \"/>\n",
       "<polyline clip-path=\"url(#clip922)\" style=\"stroke:#000000; stroke-width:2; stroke-opacity:0.1; fill:none\" points=\"\n",
       "  2290.04,1486.45 2290.04,47.2441 \n",
       "  \"/>\n",
       "<polyline clip-path=\"url(#clip920)\" style=\"stroke:#000000; stroke-width:4; stroke-opacity:1; fill:none\" points=\"\n",
       "  136.76,1486.45 2352.76,1486.45 \n",
       "  \"/>\n",
       "<polyline clip-path=\"url(#clip920)\" style=\"stroke:#000000; stroke-width:4; stroke-opacity:1; fill:none\" points=\"\n",
       "  178.36,1486.45 178.36,1469.18 \n",
       "  \"/>\n",
       "<polyline clip-path=\"url(#clip920)\" style=\"stroke:#000000; stroke-width:4; stroke-opacity:1; fill:none\" points=\"\n",
       "  706.28,1486.45 706.28,1469.18 \n",
       "  \"/>\n",
       "<polyline clip-path=\"url(#clip920)\" style=\"stroke:#000000; stroke-width:4; stroke-opacity:1; fill:none\" points=\"\n",
       "  1234.2,1486.45 1234.2,1469.18 \n",
       "  \"/>\n",
       "<polyline clip-path=\"url(#clip920)\" style=\"stroke:#000000; stroke-width:4; stroke-opacity:1; fill:none\" points=\"\n",
       "  1762.12,1486.45 1762.12,1469.18 \n",
       "  \"/>\n",
       "<polyline clip-path=\"url(#clip920)\" style=\"stroke:#000000; stroke-width:4; stroke-opacity:1; fill:none\" points=\"\n",
       "  2290.04,1486.45 2290.04,1469.18 \n",
       "  \"/>\n",
       "<path clip-path=\"url(#clip920)\" d=\"M 0 0 M178.36 1515.64 Q174.749 1515.64 172.921 1519.2 Q171.115 1522.75 171.115 1529.87 Q171.115 1536.98 172.921 1540.55 Q174.749 1544.09 178.36 1544.09 Q181.995 1544.09 183.8 1540.55 Q185.629 1536.98 185.629 1529.87 Q185.629 1522.75 183.8 1519.2 Q181.995 1515.64 178.36 1515.64 M178.36 1511.93 Q184.171 1511.93 187.226 1516.54 Q190.305 1521.12 190.305 1529.87 Q190.305 1538.6 187.226 1543.21 Q184.171 1547.79 178.36 1547.79 Q172.55 1547.79 169.472 1543.21 Q166.416 1538.6 166.416 1529.87 Q166.416 1521.12 169.472 1516.54 Q172.55 1511.93 178.36 1511.93 Z\" fill=\"#000000\" fill-rule=\"evenodd\" fill-opacity=\"1\" /><path clip-path=\"url(#clip920)\" d=\"M 0 0 M687.924 1543.18 L704.243 1543.18 L704.243 1547.12 L682.299 1547.12 L682.299 1543.18 Q684.961 1540.43 689.544 1535.8 Q694.151 1531.15 695.331 1529.81 Q697.576 1527.28 698.456 1525.55 Q699.359 1523.79 699.359 1522.1 Q699.359 1519.34 697.414 1517.61 Q695.493 1515.87 692.391 1515.87 Q690.192 1515.87 687.739 1516.63 Q685.308 1517.4 682.53 1518.95 L682.53 1514.23 Q685.354 1513.09 687.808 1512.51 Q690.262 1511.93 692.299 1511.93 Q697.669 1511.93 700.863 1514.62 Q704.058 1517.31 704.058 1521.8 Q704.058 1523.93 703.248 1525.85 Q702.461 1527.74 700.354 1530.34 Q699.776 1531.01 696.674 1534.23 Q693.572 1537.42 687.924 1543.18 Z\" fill=\"#000000\" fill-rule=\"evenodd\" fill-opacity=\"1\" /><path clip-path=\"url(#clip920)\" d=\"M 0 0 M709.359 1512.56 L727.715 1512.56 L727.715 1516.5 L713.641 1516.5 L713.641 1524.97 Q714.66 1524.62 715.678 1524.46 Q716.697 1524.27 717.715 1524.27 Q723.502 1524.27 726.882 1527.44 Q730.261 1530.62 730.261 1536.03 Q730.261 1541.61 726.789 1544.71 Q723.317 1547.79 716.998 1547.79 Q714.822 1547.79 712.553 1547.42 Q710.308 1547.05 707.9 1546.31 L707.9 1541.61 Q709.984 1542.74 712.206 1543.3 Q714.428 1543.86 716.905 1543.86 Q720.91 1543.86 723.248 1541.75 Q725.586 1539.64 725.586 1536.03 Q725.586 1532.42 723.248 1530.31 Q720.91 1528.21 716.905 1528.21 Q715.03 1528.21 713.155 1528.62 Q711.303 1529.04 709.359 1529.92 L709.359 1512.56 Z\" fill=\"#000000\" fill-rule=\"evenodd\" fill-opacity=\"1\" /><path clip-path=\"url(#clip920)\" d=\"M 0 0 M1210.97 1512.56 L1229.33 1512.56 L1229.33 1516.5 L1215.25 1516.5 L1215.25 1524.97 Q1216.27 1524.62 1217.29 1524.46 Q1218.31 1524.27 1219.33 1524.27 Q1225.11 1524.27 1228.49 1527.44 Q1231.87 1530.62 1231.87 1536.03 Q1231.87 1541.61 1228.4 1544.71 Q1224.93 1547.79 1218.61 1547.79 Q1216.43 1547.79 1214.17 1547.42 Q1211.92 1547.05 1209.51 1546.31 L1209.51 1541.61 Q1211.6 1542.74 1213.82 1543.3 Q1216.04 1543.86 1218.52 1543.86 Q1222.52 1543.86 1224.86 1541.75 Q1227.2 1539.64 1227.2 1536.03 Q1227.2 1532.42 1224.86 1530.31 Q1222.52 1528.21 1218.52 1528.21 Q1216.64 1528.21 1214.77 1528.62 Q1212.92 1529.04 1210.97 1529.92 L1210.97 1512.56 Z\" fill=\"#000000\" fill-rule=\"evenodd\" fill-opacity=\"1\" /><path clip-path=\"url(#clip920)\" d=\"M 0 0 M1246.94 1515.64 Q1243.33 1515.64 1241.5 1519.2 Q1239.7 1522.75 1239.7 1529.87 Q1239.7 1536.98 1241.5 1540.55 Q1243.33 1544.09 1246.94 1544.09 Q1250.58 1544.09 1252.38 1540.55 Q1254.21 1536.98 1254.21 1529.87 Q1254.21 1522.75 1252.38 1519.2 Q1250.58 1515.64 1246.94 1515.64 M1246.94 1511.93 Q1252.75 1511.93 1255.81 1516.54 Q1258.89 1521.12 1258.89 1529.87 Q1258.89 1538.6 1255.81 1543.21 Q1252.75 1547.79 1246.94 1547.79 Q1241.13 1547.79 1238.05 1543.21 Q1235 1538.6 1235 1529.87 Q1235 1521.12 1238.05 1516.54 Q1241.13 1511.93 1246.94 1511.93 Z\" fill=\"#000000\" fill-rule=\"evenodd\" fill-opacity=\"1\" /><path clip-path=\"url(#clip920)\" d=\"M 0 0 M1738 1512.56 L1760.22 1512.56 L1760.22 1514.55 L1747.68 1547.12 L1742.79 1547.12 L1754.6 1516.5 L1738 1516.5 L1738 1512.56 Z\" fill=\"#000000\" fill-rule=\"evenodd\" fill-opacity=\"1\" /><path clip-path=\"url(#clip920)\" d=\"M 0 0 M1765.34 1512.56 L1783.69 1512.56 L1783.69 1516.5 L1769.62 1516.5 L1769.62 1524.97 Q1770.64 1524.62 1771.66 1524.46 Q1772.67 1524.27 1773.69 1524.27 Q1779.48 1524.27 1782.86 1527.44 Q1786.24 1530.62 1786.24 1536.03 Q1786.24 1541.61 1782.77 1544.71 Q1779.3 1547.79 1772.98 1547.79 Q1770.8 1547.79 1768.53 1547.42 Q1766.29 1547.05 1763.88 1546.31 L1763.88 1541.61 Q1765.96 1542.74 1768.18 1543.3 Q1770.41 1543.86 1772.88 1543.86 Q1776.89 1543.86 1779.23 1541.75 Q1781.56 1539.64 1781.56 1536.03 Q1781.56 1532.42 1779.23 1530.31 Q1776.89 1528.21 1772.88 1528.21 Q1771.01 1528.21 1769.13 1528.62 Q1767.28 1529.04 1765.34 1529.92 L1765.34 1512.56 Z\" fill=\"#000000\" fill-rule=\"evenodd\" fill-opacity=\"1\" /><path clip-path=\"url(#clip920)\" d=\"M 0 0 M2253.41 1543.18 L2261.05 1543.18 L2261.05 1516.82 L2252.74 1518.49 L2252.74 1514.23 L2261 1512.56 L2265.68 1512.56 L2265.68 1543.18 L2273.31 1543.18 L2273.31 1547.12 L2253.41 1547.12 L2253.41 1543.18 Z\" fill=\"#000000\" fill-rule=\"evenodd\" fill-opacity=\"1\" /><path clip-path=\"url(#clip920)\" d=\"M 0 0 M2288.38 1515.64 Q2284.77 1515.64 2282.94 1519.2 Q2281.14 1522.75 2281.14 1529.87 Q2281.14 1536.98 2282.94 1540.55 Q2284.77 1544.09 2288.38 1544.09 Q2292.02 1544.09 2293.82 1540.55 Q2295.65 1536.98 2295.65 1529.87 Q2295.65 1522.75 2293.82 1519.2 Q2292.02 1515.64 2288.38 1515.64 M2288.38 1511.93 Q2294.19 1511.93 2297.25 1516.54 Q2300.33 1521.12 2300.33 1529.87 Q2300.33 1538.6 2297.25 1543.21 Q2294.19 1547.79 2288.38 1547.79 Q2282.57 1547.79 2279.5 1543.21 Q2276.44 1538.6 2276.44 1529.87 Q2276.44 1521.12 2279.5 1516.54 Q2282.57 1511.93 2288.38 1511.93 Z\" fill=\"#000000\" fill-rule=\"evenodd\" fill-opacity=\"1\" /><path clip-path=\"url(#clip920)\" d=\"M 0 0 M2315.4 1515.64 Q2311.79 1515.64 2309.96 1519.2 Q2308.15 1522.75 2308.15 1529.87 Q2308.15 1536.98 2309.96 1540.55 Q2311.79 1544.09 2315.4 1544.09 Q2319.03 1544.09 2320.84 1540.55 Q2322.67 1536.98 2322.67 1529.87 Q2322.67 1522.75 2320.84 1519.2 Q2319.03 1515.64 2315.4 1515.64 M2315.4 1511.93 Q2321.21 1511.93 2324.26 1516.54 Q2327.34 1521.12 2327.34 1529.87 Q2327.34 1538.6 2324.26 1543.21 Q2321.21 1547.79 2315.4 1547.79 Q2309.59 1547.79 2306.51 1543.21 Q2303.45 1538.6 2303.45 1529.87 Q2303.45 1521.12 2306.51 1516.54 Q2309.59 1511.93 2315.4 1511.93 Z\" fill=\"#000000\" fill-rule=\"evenodd\" fill-opacity=\"1\" /><polyline clip-path=\"url(#clip922)\" style=\"stroke:#000000; stroke-width:2; stroke-opacity:0.1; fill:none\" points=\"\n",
       "  136.76,1276 2352.76,1276 \n",
       "  \"/>\n",
       "<polyline clip-path=\"url(#clip922)\" style=\"stroke:#000000; stroke-width:2; stroke-opacity:0.1; fill:none\" points=\"\n",
       "  136.76,1021.42 2352.76,1021.42 \n",
       "  \"/>\n",
       "<polyline clip-path=\"url(#clip922)\" style=\"stroke:#000000; stroke-width:2; stroke-opacity:0.1; fill:none\" points=\"\n",
       "  136.76,766.846 2352.76,766.846 \n",
       "  \"/>\n",
       "<polyline clip-path=\"url(#clip922)\" style=\"stroke:#000000; stroke-width:2; stroke-opacity:0.1; fill:none\" points=\"\n",
       "  136.76,512.27 2352.76,512.27 \n",
       "  \"/>\n",
       "<polyline clip-path=\"url(#clip922)\" style=\"stroke:#000000; stroke-width:2; stroke-opacity:0.1; fill:none\" points=\"\n",
       "  136.76,257.694 2352.76,257.694 \n",
       "  \"/>\n",
       "<polyline clip-path=\"url(#clip920)\" style=\"stroke:#000000; stroke-width:4; stroke-opacity:1; fill:none\" points=\"\n",
       "  136.76,1486.45 136.76,47.2441 \n",
       "  \"/>\n",
       "<polyline clip-path=\"url(#clip920)\" style=\"stroke:#000000; stroke-width:4; stroke-opacity:1; fill:none\" points=\"\n",
       "  136.76,1276 163.352,1276 \n",
       "  \"/>\n",
       "<polyline clip-path=\"url(#clip920)\" style=\"stroke:#000000; stroke-width:4; stroke-opacity:1; fill:none\" points=\"\n",
       "  136.76,1021.42 163.352,1021.42 \n",
       "  \"/>\n",
       "<polyline clip-path=\"url(#clip920)\" style=\"stroke:#000000; stroke-width:4; stroke-opacity:1; fill:none\" points=\"\n",
       "  136.76,766.846 163.352,766.846 \n",
       "  \"/>\n",
       "<polyline clip-path=\"url(#clip920)\" style=\"stroke:#000000; stroke-width:4; stroke-opacity:1; fill:none\" points=\"\n",
       "  136.76,512.27 163.352,512.27 \n",
       "  \"/>\n",
       "<polyline clip-path=\"url(#clip920)\" style=\"stroke:#000000; stroke-width:4; stroke-opacity:1; fill:none\" points=\"\n",
       "  136.76,257.694 163.352,257.694 \n",
       "  \"/>\n",
       "<path clip-path=\"url(#clip920)\" d=\"M 0 0 M58.6541 1289.34 L74.9735 1289.34 L74.9735 1293.28 L53.0292 1293.28 L53.0292 1289.34 Q55.6912 1286.59 60.2745 1281.96 Q64.8809 1277.31 66.0615 1275.96 Q68.3068 1273.44 69.1865 1271.7 Q70.0892 1269.95 70.0892 1268.26 Q70.0892 1265.5 68.1448 1263.76 Q66.2235 1262.03 63.1217 1262.03 Q60.9226 1262.03 58.4689 1262.79 Q56.0384 1263.56 53.2606 1265.11 L53.2606 1260.38 Q56.0847 1259.25 58.5384 1258.67 Q60.9921 1258.09 63.0291 1258.09 Q68.3994 1258.09 71.5939 1260.78 Q74.7883 1263.46 74.7883 1267.95 Q74.7883 1270.08 73.9781 1272.01 Q73.1911 1273.9 71.0846 1276.5 Q70.5059 1277.17 67.4041 1280.38 Q64.3022 1283.58 58.6541 1289.34 Z\" fill=\"#000000\" fill-rule=\"evenodd\" fill-opacity=\"1\" /><path clip-path=\"url(#clip920)\" d=\"M 0 0 M80.8531 1289.34 L88.4919 1289.34 L88.4919 1262.98 L80.1818 1264.64 L80.1818 1260.38 L88.4456 1258.72 L93.1215 1258.72 L93.1215 1289.34 L100.76 1289.34 L100.76 1293.28 L80.8531 1293.28 L80.8531 1289.34 Z\" fill=\"#000000\" fill-rule=\"evenodd\" fill-opacity=\"1\" /><path clip-path=\"url(#clip920)\" d=\"M 0 0 M56.9412 1034.77 L73.2605 1034.77 L73.2605 1038.7 L51.3162 1038.7 L51.3162 1034.77 Q53.9782 1032.01 58.5615 1027.38 Q63.168 1022.73 64.3485 1021.39 Q66.5939 1018.86 67.4735 1017.13 Q68.3763 1015.37 68.3763 1013.68 Q68.3763 1010.92 66.4319 1009.19 Q64.5106 1007.45 61.4087 1007.45 Q59.2097 1007.45 56.756 1008.22 Q54.3254 1008.98 51.5477 1010.53 L51.5477 1005.81 Q54.3717 1004.67 56.8254 1004.1 Q59.2791 1003.52 61.3161 1003.52 Q66.6865 1003.52 69.8809 1006.2 Q73.0753 1008.89 73.0753 1013.38 Q73.0753 1015.51 72.2652 1017.43 Q71.4781 1019.33 69.3717 1021.92 Q68.793 1022.59 65.6911 1025.81 Q62.5893 1029 56.9412 1034.77 Z\" fill=\"#000000\" fill-rule=\"evenodd\" fill-opacity=\"1\" /><path clip-path=\"url(#clip920)\" d=\"M 0 0 M91.1771 1008.22 L79.3716 1026.67 L91.1771 1026.67 L91.1771 1008.22 M89.9503 1004.14 L95.8298 1004.14 L95.8298 1026.67 L100.76 1026.67 L100.76 1030.55 L95.8298 1030.55 L95.8298 1038.7 L91.1771 1038.7 L91.1771 1030.55 L75.5753 1030.55 L75.5753 1026.04 L89.9503 1004.14 Z\" fill=\"#000000\" fill-rule=\"evenodd\" fill-opacity=\"1\" /><path clip-path=\"url(#clip920)\" d=\"M 0 0 M58.33 780.191 L74.6494 780.191 L74.6494 784.126 L52.7051 784.126 L52.7051 780.191 Q55.3671 777.436 59.9504 772.807 Q64.5569 768.154 65.7374 766.811 Q67.9828 764.288 68.8624 762.552 Q69.7652 760.793 69.7652 759.103 Q69.7652 756.348 67.8207 754.612 Q65.8995 752.876 62.7976 752.876 Q60.5986 752.876 58.1449 753.64 Q55.7143 754.404 52.9366 755.955 L52.9366 751.233 Q55.7606 750.098 58.2143 749.52 Q60.668 748.941 62.705 748.941 Q68.0754 748.941 71.2698 751.626 Q74.4642 754.311 74.4642 758.802 Q74.4642 760.932 73.654 762.853 Q72.867 764.751 70.7605 767.344 Q70.1818 768.015 67.08 771.233 Q63.9782 774.427 58.33 780.191 Z\" fill=\"#000000\" fill-rule=\"evenodd\" fill-opacity=\"1\" /><path clip-path=\"url(#clip920)\" d=\"M 0 0 M78.5383 749.566 L100.76 749.566 L100.76 751.557 L88.2141 784.126 L83.3299 784.126 L95.1354 753.501 L78.5383 753.501 L78.5383 749.566 Z\" fill=\"#000000\" fill-rule=\"evenodd\" fill-opacity=\"1\" /><path clip-path=\"url(#clip920)\" d=\"M 0 0 M66.617 510.916 Q69.9735 511.633 71.8485 513.902 Q73.7466 516.17 73.7466 519.504 Q73.7466 524.619 70.2281 527.42 Q66.7096 530.221 60.2282 530.221 Q58.0523 530.221 55.7375 529.781 Q53.4458 529.365 50.9921 528.508 L50.9921 523.994 Q52.9366 525.129 55.2514 525.707 Q57.5662 526.286 60.0893 526.286 Q64.4874 526.286 66.7791 524.55 Q69.0939 522.814 69.0939 519.504 Q69.0939 516.448 66.9411 514.735 Q64.8115 512.999 60.9921 512.999 L56.9643 512.999 L56.9643 509.156 L61.1773 509.156 Q64.6263 509.156 66.455 507.791 Q68.2837 506.402 68.2837 503.809 Q68.2837 501.147 66.3856 499.735 Q64.5106 498.3 60.9921 498.3 Q59.0708 498.3 56.8717 498.717 Q54.6727 499.133 52.0338 500.013 L52.0338 495.846 Q54.6958 495.106 57.0106 494.735 Q59.3486 494.365 61.4087 494.365 Q66.7328 494.365 69.8346 496.795 Q72.9365 499.203 72.9365 503.323 Q72.9365 506.193 71.2929 508.184 Q69.6494 510.152 66.617 510.916 Z\" fill=\"#000000\" fill-rule=\"evenodd\" fill-opacity=\"1\" /><path clip-path=\"url(#clip920)\" d=\"M 0 0 M88.816 498.069 Q85.2049 498.069 83.3762 501.633 Q81.5707 505.175 81.5707 512.305 Q81.5707 519.411 83.3762 522.976 Q85.2049 526.517 88.816 526.517 Q92.4502 526.517 94.2558 522.976 Q96.0845 519.411 96.0845 512.305 Q96.0845 505.175 94.2558 501.633 Q92.4502 498.069 88.816 498.069 M88.816 494.365 Q94.6262 494.365 97.6817 498.971 Q100.76 503.555 100.76 512.305 Q100.76 521.031 97.6817 525.638 Q94.6262 530.221 88.816 530.221 Q83.0058 530.221 79.9272 525.638 Q76.8716 521.031 76.8716 512.305 Q76.8716 503.555 79.9272 498.971 Q83.0058 494.365 88.816 494.365 Z\" fill=\"#000000\" fill-rule=\"evenodd\" fill-opacity=\"1\" /><path clip-path=\"url(#clip920)\" d=\"M 0 0 M67.2652 256.34 Q70.6217 257.057 72.4966 259.326 Q74.3948 261.594 74.3948 264.927 Q74.3948 270.043 70.8763 272.844 Q67.3578 275.645 60.8763 275.645 Q58.7004 275.645 56.3856 275.205 Q54.094 274.789 51.6403 273.932 L51.6403 269.418 Q53.5847 270.552 55.8995 271.131 Q58.2143 271.71 60.7374 271.71 Q65.1356 271.71 67.4272 269.974 Q69.742 268.238 69.742 264.927 Q69.742 261.872 67.5893 260.159 Q65.4596 258.423 61.6402 258.423 L57.6125 258.423 L57.6125 254.58 L61.8254 254.58 Q65.2745 254.58 67.1032 253.215 Q68.9318 251.826 68.9318 249.233 Q68.9318 246.571 67.0337 245.159 Q65.1587 243.724 61.6402 243.724 Q59.7189 243.724 57.5199 244.141 Q55.3208 244.557 52.6819 245.437 L52.6819 241.27 Q55.344 240.529 57.6588 240.159 Q59.9967 239.789 62.0569 239.789 Q67.3809 239.789 70.4828 242.219 Q73.5846 244.627 73.5846 248.747 Q73.5846 251.617 71.9411 253.608 Q70.2976 255.576 67.2652 256.34 Z\" fill=\"#000000\" fill-rule=\"evenodd\" fill-opacity=\"1\" /><path clip-path=\"url(#clip920)\" d=\"M 0 0 M93.6308 256.34 Q96.9872 257.057 98.8622 259.326 Q100.76 261.594 100.76 264.927 Q100.76 270.043 97.2419 272.844 Q93.7234 275.645 87.2419 275.645 Q85.066 275.645 82.7512 275.205 Q80.4596 274.789 78.0059 273.932 L78.0059 269.418 Q79.9503 270.552 82.2651 271.131 Q84.5799 271.71 87.103 271.71 Q91.5012 271.71 93.7928 269.974 Q96.1076 268.238 96.1076 264.927 Q96.1076 261.872 93.9549 260.159 Q91.8252 258.423 88.0058 258.423 L83.9781 258.423 L83.9781 254.58 L88.191 254.58 Q91.6401 254.58 93.4688 253.215 Q95.2974 251.826 95.2974 249.233 Q95.2974 246.571 93.3993 245.159 Q91.5243 243.724 88.0058 243.724 Q86.0845 243.724 83.8855 244.141 Q81.6864 244.557 79.0475 245.437 L79.0475 241.27 Q81.7096 240.529 84.0244 240.159 Q86.3623 239.789 88.4225 239.789 Q93.7465 239.789 96.8484 242.219 Q99.9502 244.627 99.9502 248.747 Q99.9502 251.617 98.3067 253.608 Q96.6632 255.576 93.6308 256.34 Z\" fill=\"#000000\" fill-rule=\"evenodd\" fill-opacity=\"1\" /><polyline clip-path=\"url(#clip922)\" style=\"stroke:#800080; stroke-width:4; stroke-opacity:1; fill:none\" points=\"\n",
       "  199.477,766.846 220.594,766.846 241.711,766.846 262.828,936.563 283.944,1106.28 305.061,1191.14 326.178,1276 347.295,1276 368.412,1276 389.528,1276 \n",
       "  410.645,1276 431.762,1276 452.879,1276 473.995,1276 495.112,1276 516.229,1276 537.346,1276 558.463,1360.86 579.579,1360.86 600.696,1360.86 \n",
       "  621.813,1445.72 642.93,1276 664.047,1276 685.163,1276 706.28,1276 727.397,1360.86 748.514,1360.86 769.63,1360.86 790.747,1360.86 811.864,1360.86 \n",
       "  832.981,1360.86 854.098,1191.14 875.214,1191.14 896.331,1191.14 917.448,1191.14 938.565,1191.14 959.682,1191.14 980.798,1191.14 1001.92,1191.14 1023.03,1191.14 \n",
       "  1044.15,1021.42 1065.27,851.705 1086.38,851.705 1107.5,936.563 1128.62,1021.42 1149.73,1021.42 1170.85,1021.42 1191.97,1021.42 1213.08,1106.28 1234.2,1106.28 \n",
       "  1255.32,1106.28 1276.43,936.563 1297.55,1021.42 1318.67,1021.42 1339.78,1021.42 1360.9,1021.42 1382.02,1106.28 1403.13,1106.28 1424.25,1106.28 1445.37,1106.28 \n",
       "  1466.48,1106.28 1487.6,936.563 1508.72,936.563 1529.83,936.563 1550.95,936.563 1572.07,766.846 1593.19,766.846 1614.3,851.705 1635.42,851.705 1656.54,851.705 \n",
       "  1677.65,851.705 1698.77,851.705 1719.89,851.705 1741,936.563 1762.12,766.846 1783.24,766.846 1804.35,766.846 1825.47,766.846 1846.59,851.705 1867.7,851.705 \n",
       "  1888.82,936.563 1909.94,1021.42 1931.05,1106.28 1952.17,1106.28 1973.29,1106.28 1994.4,1106.28 2015.52,1191.14 2036.64,1191.14 2057.75,1276 2078.87,1276 \n",
       "  2099.99,1276 2121.1,1106.28 2142.22,1106.28 2163.34,1106.28 2184.46,1106.28 2205.57,1106.28 2226.69,1106.28 2247.81,1106.28 2268.92,1191.14 2290.04,1191.14 \n",
       "  \n",
       "  \"/>\n",
       "<polyline clip-path=\"url(#clip922)\" style=\"stroke:#008000; stroke-width:4; stroke-opacity:1; fill:none\" points=\"\n",
       "  199.477,512.27 220.594,512.27 241.711,512.27 262.828,427.411 283.944,342.552 305.061,257.694 326.178,172.835 347.295,87.9763 368.412,342.552 389.528,512.27 \n",
       "  410.645,427.411 431.762,342.552 452.879,512.27 473.995,681.987 495.112,851.705 516.229,851.705 537.346,1021.42 558.463,936.563 579.579,936.563 600.696,1106.28 \n",
       "  621.813,1021.42 642.93,1021.42 664.047,1021.42 685.163,1021.42 706.28,1191.14 727.397,1106.28 748.514,1106.28 769.63,1276 790.747,1276 811.864,1276 \n",
       "  832.981,1276 854.098,1276 875.214,1276 896.331,1276 917.448,1191.14 938.565,1360.86 959.682,1276 980.798,1276 1001.92,1191.14 1023.03,1191.14 \n",
       "  1044.15,1191.14 1065.27,1191.14 1086.38,1191.14 1107.5,1106.28 1128.62,1021.42 1149.73,1021.42 1170.85,1191.14 1191.97,1191.14 1213.08,1106.28 1234.2,1276 \n",
       "  1255.32,1445.72 1276.43,1445.72 1297.55,1360.86 1318.67,1360.86 1339.78,1276 1360.9,1191.14 1382.02,1106.28 1403.13,1021.42 1424.25,936.563 1445.37,936.563 \n",
       "  1466.48,851.705 1487.6,851.705 1508.72,1021.42 1529.83,1021.42 1550.95,1191.14 1572.07,1191.14 1593.19,1106.28 1614.3,1021.42 1635.42,1021.42 1656.54,936.563 \n",
       "  1677.65,936.563 1698.77,936.563 1719.89,851.705 1741,766.846 1762.12,766.846 1783.24,681.987 1804.35,681.987 1825.47,851.705 1846.59,766.846 1867.7,681.987 \n",
       "  1888.82,597.129 1909.94,512.27 1931.05,427.411 1952.17,597.129 1973.29,766.846 1994.4,681.987 2015.52,597.129 2036.64,766.846 2057.75,681.987 2078.87,851.705 \n",
       "  2099.99,766.846 2121.1,766.846 2142.22,766.846 2163.34,766.846 2184.46,681.987 2205.57,851.705 2226.69,766.846 2247.81,681.987 2268.92,597.129 2290.04,597.129 \n",
       "  \n",
       "  \"/>\n",
       "<path clip-path=\"url(#clip920)\" d=\"\n",
       "M1826.65 276.658 L2278.89 276.658 L2278.89 95.2176 L1826.65 95.2176  Z\n",
       "  \" fill=\"#ffffff\" fill-rule=\"evenodd\" fill-opacity=\"1\"/>\n",
       "<polyline clip-path=\"url(#clip920)\" style=\"stroke:#000000; stroke-width:4; stroke-opacity:1; fill:none\" points=\"\n",
       "  1826.65,276.658 2278.89,276.658 2278.89,95.2176 1826.65,95.2176 1826.65,276.658 \n",
       "  \"/>\n",
       "<polyline clip-path=\"url(#clip920)\" style=\"stroke:#800080; stroke-width:4; stroke-opacity:1; fill:none\" points=\"\n",
       "  1851.27,155.698 1999.01,155.698 \n",
       "  \"/>\n",
       "<path clip-path=\"url(#clip920)\" d=\"M 0 0 M2042.54 159.714 Q2042.54 155.084 2040.62 152.538 Q2038.72 149.992 2035.27 149.992 Q2031.85 149.992 2029.92 152.538 Q2028.03 155.084 2028.03 159.714 Q2028.03 164.32 2029.92 166.866 Q2031.85 169.413 2035.27 169.413 Q2038.72 169.413 2040.62 166.866 Q2042.54 164.32 2042.54 159.714 M2046.8 169.76 Q2046.8 176.38 2043.86 179.598 Q2040.92 182.839 2034.85 182.839 Q2032.61 182.839 2030.62 182.491 Q2028.63 182.167 2026.75 181.473 L2026.75 177.329 Q2028.63 178.348 2030.46 178.834 Q2032.28 179.32 2034.18 179.32 Q2038.37 179.32 2040.46 177.121 Q2042.54 174.945 2042.54 170.524 L2042.54 168.417 Q2041.22 170.709 2039.16 171.843 Q2037.1 172.978 2034.23 172.978 Q2029.46 172.978 2026.54 169.343 Q2023.63 165.709 2023.63 159.714 Q2023.63 153.695 2026.54 150.061 Q2029.46 146.427 2034.23 146.427 Q2037.1 146.427 2039.16 147.561 Q2041.22 148.695 2042.54 150.987 L2042.54 147.052 L2046.8 147.052 L2046.8 169.76 Z\" fill=\"#000000\" fill-rule=\"evenodd\" fill-opacity=\"1\" /><path clip-path=\"url(#clip920)\" d=\"M 0 0 M2061.31 150.038 Q2057.89 150.038 2055.9 152.723 Q2053.91 155.385 2053.91 160.038 Q2053.91 164.691 2055.87 167.376 Q2057.86 170.038 2061.31 170.038 Q2064.72 170.038 2066.71 167.353 Q2068.7 164.667 2068.7 160.038 Q2068.7 155.431 2066.71 152.746 Q2064.72 150.038 2061.31 150.038 M2061.31 146.427 Q2066.87 146.427 2070.04 150.038 Q2073.21 153.649 2073.21 160.038 Q2073.21 166.404 2070.04 170.038 Q2066.87 173.649 2061.31 173.649 Q2055.73 173.649 2052.56 170.038 Q2049.41 166.404 2049.41 160.038 Q2049.41 153.649 2052.56 150.038 Q2055.73 146.427 2061.31 146.427 Z\" fill=\"#000000\" fill-rule=\"evenodd\" fill-opacity=\"1\" /><path clip-path=\"url(#clip920)\" d=\"M 0 0 M2077.82 136.959 L2082.08 136.959 L2082.08 150.894 L2084.97 148.811 L2086.73 151.265 L2082.08 154.529 L2082.08 172.978 L2077.82 172.978 L2077.82 157.561 L2074.97 159.598 L2073.26 157.144 L2077.82 153.88 L2077.82 136.959 Z\" fill=\"#000000\" fill-rule=\"evenodd\" fill-opacity=\"1\" /><path clip-path=\"url(#clip920)\" d=\"M 0 0 M2113.37 158.95 L2113.37 161.033 L2093.79 161.033 Q2094.07 165.431 2096.43 167.746 Q2098.81 170.038 2103.05 170.038 Q2105.5 170.038 2107.79 169.436 Q2110.11 168.834 2112.38 167.63 L2112.38 171.658 Q2110.09 172.63 2107.68 173.14 Q2105.27 173.649 2102.79 173.649 Q2096.59 173.649 2092.96 170.038 Q2089.34 166.427 2089.34 160.269 Q2089.34 153.904 2092.77 150.177 Q2096.22 146.427 2102.05 146.427 Q2107.28 146.427 2110.32 149.806 Q2113.37 153.163 2113.37 158.95 M2109.11 157.7 Q2109.07 154.205 2107.15 152.121 Q2105.25 150.038 2102.1 150.038 Q2098.53 150.038 2096.38 152.052 Q2094.25 154.066 2093.93 157.723 L2109.11 157.7 M2105.62 172.978 L2108.37 172.978 Q2107.33 174.39 2106.82 175.408 Q2106.34 176.427 2106.34 177.144 Q2106.34 178.209 2106.96 178.741 Q2107.61 179.274 2108.86 179.274 Q2109.6 179.274 2110.32 179.089 Q2111.03 178.927 2111.75 178.579 L2111.75 181.658 Q2110.87 181.89 2110.09 182.005 Q2109.3 182.121 2108.6 182.121 Q2105.78 182.121 2104.44 181.103 Q2103.12 180.107 2103.12 177.954 Q2103.12 176.843 2103.72 175.616 Q2104.34 174.413 2105.62 172.978 Z\" fill=\"#000000\" fill-rule=\"evenodd\" fill-opacity=\"1\" /><path clip-path=\"url(#clip920)\" d=\"M 0 0 M2136.45 160.038 Q2136.45 155.339 2134.51 152.677 Q2132.59 149.992 2129.21 149.992 Q2125.83 149.992 2123.88 152.677 Q2121.96 155.339 2121.96 160.038 Q2121.96 164.737 2123.88 167.422 Q2125.83 170.084 2129.21 170.084 Q2132.59 170.084 2134.51 167.422 Q2136.45 164.737 2136.45 160.038 M2121.96 150.987 Q2123.3 148.672 2125.34 147.561 Q2127.4 146.427 2130.25 146.427 Q2134.97 146.427 2137.91 150.177 Q2140.87 153.927 2140.87 160.038 Q2140.87 166.149 2137.91 169.899 Q2134.97 173.649 2130.25 173.649 Q2127.4 173.649 2125.34 172.538 Q2123.3 171.403 2121.96 169.089 L2121.96 172.978 L2117.68 172.978 L2117.68 136.959 L2121.96 136.959 L2121.96 150.987 Z\" fill=\"#000000\" fill-rule=\"evenodd\" fill-opacity=\"1\" /><path clip-path=\"url(#clip920)\" d=\"M 0 0 M2145.34 147.052 L2149.6 147.052 L2149.6 172.978 L2145.34 172.978 L2145.34 147.052 M2145.34 136.959 L2149.6 136.959 L2149.6 142.353 L2145.34 142.353 L2145.34 136.959 Z\" fill=\"#000000\" fill-rule=\"evenodd\" fill-opacity=\"1\" /><path clip-path=\"url(#clip920)\" d=\"M 0 0 M2176.24 158.95 L2176.24 161.033 L2156.66 161.033 Q2156.94 165.431 2159.3 167.746 Q2161.68 170.038 2165.92 170.038 Q2168.37 170.038 2170.66 169.436 Q2172.98 168.834 2175.25 167.63 L2175.25 171.658 Q2172.96 172.63 2170.55 173.14 Q2168.14 173.649 2165.66 173.649 Q2159.46 173.649 2155.83 170.038 Q2152.21 166.427 2152.21 160.269 Q2152.21 153.904 2155.64 150.177 Q2159.09 146.427 2164.92 146.427 Q2170.15 146.427 2173.19 149.806 Q2176.24 153.163 2176.24 158.95 M2171.98 157.7 Q2171.94 154.205 2170.02 152.121 Q2168.12 150.038 2164.97 150.038 Q2161.4 150.038 2159.25 152.052 Q2157.12 154.066 2156.8 157.723 L2171.98 157.7 Z\" fill=\"#000000\" fill-rule=\"evenodd\" fill-opacity=\"1\" /><polyline clip-path=\"url(#clip920)\" style=\"stroke:#008000; stroke-width:4; stroke-opacity:1; fill:none\" points=\"\n",
       "  1851.27,216.178 1999.01,216.178 \n",
       "  \"/>\n",
       "<path clip-path=\"url(#clip920)\" d=\"M 0 0 M2028.95 207.532 L2033.21 207.532 L2033.21 233.921 Q2033.21 238.874 2031.31 241.096 Q2029.44 243.319 2025.25 243.319 L2023.63 243.319 L2023.63 239.708 L2024.76 239.708 Q2027.19 239.708 2028.07 238.573 Q2028.95 237.462 2028.95 233.921 L2028.95 207.532 M2028.95 197.439 L2033.21 197.439 L2033.21 202.833 L2028.95 202.833 L2028.95 197.439 Z\" fill=\"#000000\" fill-rule=\"evenodd\" fill-opacity=\"1\" /><path clip-path=\"url(#clip920)\" d=\"M 0 0 M2049.46 220.425 Q2044.3 220.425 2042.31 221.606 Q2040.32 222.786 2040.32 225.634 Q2040.32 227.902 2041.8 229.245 Q2043.3 230.564 2045.87 230.564 Q2049.41 230.564 2051.54 228.064 Q2053.7 225.541 2053.7 221.374 L2053.7 220.425 L2049.46 220.425 M2057.96 218.666 L2057.96 233.458 L2053.7 233.458 L2053.7 229.522 Q2052.24 231.883 2050.06 233.018 Q2047.89 234.129 2044.74 234.129 Q2040.76 234.129 2038.4 231.907 Q2036.06 229.661 2036.06 225.911 Q2036.06 221.536 2038.97 219.314 Q2041.91 217.092 2047.72 217.092 L2053.7 217.092 L2053.7 216.675 Q2053.7 213.735 2051.75 212.138 Q2049.83 210.518 2046.34 210.518 Q2044.11 210.518 2042.01 211.05 Q2039.9 211.583 2037.96 212.647 L2037.96 208.712 Q2040.29 207.81 2042.49 207.37 Q2044.69 206.907 2046.78 206.907 Q2052.4 206.907 2055.18 209.823 Q2057.96 212.74 2057.96 218.666 Z\" fill=\"#000000\" fill-rule=\"evenodd\" fill-opacity=\"1\" /><path clip-path=\"url(#clip920)\" d=\"M 0 0 M2078.95 208.296 L2078.95 212.323 Q2077.15 211.397 2075.2 210.935 Q2073.26 210.472 2071.17 210.472 Q2068 210.472 2066.41 211.444 Q2064.83 212.416 2064.83 214.36 Q2064.83 215.842 2065.97 216.698 Q2067.1 217.532 2070.53 218.296 L2071.98 218.62 Q2076.52 219.592 2078.42 221.374 Q2080.34 223.134 2080.34 226.305 Q2080.34 229.916 2077.47 232.022 Q2074.62 234.129 2069.62 234.129 Q2067.54 234.129 2065.27 233.712 Q2063.03 233.319 2060.53 232.508 L2060.53 228.11 Q2062.89 229.337 2065.18 229.962 Q2067.47 230.564 2069.72 230.564 Q2072.72 230.564 2074.34 229.546 Q2075.97 228.504 2075.97 226.629 Q2075.97 224.893 2074.78 223.967 Q2073.63 223.041 2069.67 222.184 L2068.19 221.837 Q2064.23 221.004 2062.47 219.291 Q2060.71 217.555 2060.71 214.546 Q2060.71 210.888 2063.3 208.898 Q2065.9 206.907 2070.66 206.907 Q2073.03 206.907 2075.11 207.254 Q2077.19 207.601 2078.95 208.296 Z\" fill=\"#000000\" fill-rule=\"evenodd\" fill-opacity=\"1\" /><path clip-path=\"url(#clip920)\" d=\"M 0 0 M2089.02 200.171 L2089.02 207.532 L2097.79 207.532 L2097.79 210.842 L2089.02 210.842 L2089.02 224.916 Q2089.02 228.087 2089.88 228.99 Q2090.76 229.893 2093.42 229.893 L2097.79 229.893 L2097.79 233.458 L2093.42 233.458 Q2088.49 233.458 2086.61 231.629 Q2084.74 229.777 2084.74 224.916 L2084.74 210.842 L2081.61 210.842 L2081.61 207.532 L2084.74 207.532 L2084.74 200.171 L2089.02 200.171 Z\" fill=\"#000000\" fill-rule=\"evenodd\" fill-opacity=\"1\" /><path clip-path=\"url(#clip920)\" d=\"M 0 0 M2117.28 211.513 Q2116.57 211.097 2115.71 210.911 Q2114.88 210.703 2113.86 210.703 Q2110.25 210.703 2108.3 213.064 Q2106.38 215.402 2106.38 219.8 L2106.38 233.458 L2102.1 233.458 L2102.1 207.532 L2106.38 207.532 L2106.38 211.56 Q2107.72 209.198 2109.88 208.064 Q2112.03 206.907 2115.11 206.907 Q2115.55 206.907 2116.08 206.976 Q2116.61 207.023 2117.26 207.138 L2117.28 211.513 Z\" fill=\"#000000\" fill-rule=\"evenodd\" fill-opacity=\"1\" /><path clip-path=\"url(#clip920)\" d=\"M 0 0 M2119.9 207.532 L2140.13 207.532 L2140.13 211.421 L2124.11 230.055 L2140.13 230.055 L2140.13 233.458 L2119.32 233.458 L2119.32 229.569 L2135.34 210.935 L2119.9 210.935 L2119.9 207.532 Z\" fill=\"#000000\" fill-rule=\"evenodd\" fill-opacity=\"1\" /><path clip-path=\"url(#clip920)\" d=\"M 0 0 M2166.78 219.43 L2166.78 221.513 L2147.19 221.513 Q2147.47 225.911 2149.83 228.226 Q2152.21 230.518 2156.45 230.518 Q2158.9 230.518 2161.2 229.916 Q2163.51 229.314 2165.78 228.11 L2165.78 232.138 Q2163.49 233.11 2161.08 233.62 Q2158.67 234.129 2156.2 234.129 Q2149.99 234.129 2146.36 230.518 Q2142.75 226.907 2142.75 220.749 Q2142.75 214.384 2146.17 210.657 Q2149.62 206.907 2155.46 206.907 Q2160.69 206.907 2163.72 210.286 Q2166.78 213.643 2166.78 219.43 M2162.52 218.18 Q2162.47 214.685 2160.55 212.601 Q2158.65 210.518 2155.5 210.518 Q2151.94 210.518 2149.78 212.532 Q2147.65 214.546 2147.33 218.203 L2162.52 218.18 M2159.02 233.458 L2161.78 233.458 Q2160.73 234.87 2160.22 235.888 Q2159.74 236.907 2159.74 237.624 Q2159.74 238.689 2160.36 239.221 Q2161.01 239.754 2162.26 239.754 Q2163 239.754 2163.72 239.569 Q2164.44 239.407 2165.15 239.059 L2165.15 242.138 Q2164.28 242.37 2163.49 242.485 Q2162.7 242.601 2162.01 242.601 Q2159.18 242.601 2157.84 241.583 Q2156.52 240.587 2156.52 238.434 Q2156.52 237.323 2157.12 236.096 Q2157.75 234.893 2159.02 233.458 Z\" fill=\"#000000\" fill-rule=\"evenodd\" fill-opacity=\"1\" /><path clip-path=\"url(#clip920)\" d=\"M 0 0 M2189.85 220.518 Q2189.85 215.819 2187.91 213.157 Q2185.99 210.472 2182.61 210.472 Q2179.23 210.472 2177.28 213.157 Q2175.36 215.819 2175.36 220.518 Q2175.36 225.217 2177.28 227.902 Q2179.23 230.564 2182.61 230.564 Q2185.99 230.564 2187.91 227.902 Q2189.85 225.217 2189.85 220.518 M2175.36 211.467 Q2176.71 209.152 2178.74 208.041 Q2180.8 206.907 2183.65 206.907 Q2188.37 206.907 2191.31 210.657 Q2194.27 214.407 2194.27 220.518 Q2194.27 226.629 2191.31 230.379 Q2188.37 234.129 2183.65 234.129 Q2180.8 234.129 2178.74 233.018 Q2176.71 231.883 2175.36 229.569 L2175.36 233.458 L2171.08 233.458 L2171.08 197.439 L2175.36 197.439 L2175.36 211.467 Z\" fill=\"#000000\" fill-rule=\"evenodd\" fill-opacity=\"1\" /><path clip-path=\"url(#clip920)\" d=\"M 0 0 M2198.74 207.532 L2203 207.532 L2203 233.458 L2198.74 233.458 L2198.74 207.532 M2198.74 197.439 L2203 197.439 L2203 202.833 L2198.74 202.833 L2198.74 197.439 Z\" fill=\"#000000\" fill-rule=\"evenodd\" fill-opacity=\"1\" /><path clip-path=\"url(#clip920)\" d=\"M 0 0 M2229.65 219.43 L2229.65 221.513 L2210.06 221.513 Q2210.34 225.911 2212.7 228.226 Q2215.08 230.518 2219.32 230.518 Q2221.77 230.518 2224.07 229.916 Q2226.38 229.314 2228.65 228.11 L2228.65 232.138 Q2226.36 233.11 2223.95 233.62 Q2221.54 234.129 2219.07 234.129 Q2212.86 234.129 2209.23 230.518 Q2205.62 226.907 2205.62 220.749 Q2205.62 214.384 2209.04 210.657 Q2212.49 206.907 2218.33 206.907 Q2223.56 206.907 2226.59 210.286 Q2229.65 213.643 2229.65 219.43 M2225.39 218.18 Q2225.34 214.685 2223.42 212.601 Q2221.52 210.518 2218.37 210.518 Q2214.81 210.518 2212.65 212.532 Q2210.52 214.546 2210.2 218.203 L2225.39 218.18 Z\" fill=\"#000000\" fill-rule=\"evenodd\" fill-opacity=\"1\" /></svg>\n"
      ]
     },
     "execution_count": 31,
     "metadata": {},
     "output_type": "execute_result"
    }
   ],
   "source": [
    "A = action(9,9,30,30, 100, zeros(Int64, 100, 2))\n",
    "plot(1:size(A)[1], A[:, 1], label=\"gołębie\", color= :purple)\n",
    "plot!(1:size(A)[1], A[:, 2], label=\"jastrzębie\", color= :green)"
   ]
  },
  {
   "cell_type": "code",
   "execution_count": 32,
   "metadata": {},
   "outputs": [
    {
     "data": {
      "image/svg+xml": [
       "<?xml version=\"1.0\" encoding=\"utf-8\"?>\n",
       "<svg xmlns=\"http://www.w3.org/2000/svg\" xmlns:xlink=\"http://www.w3.org/1999/xlink\" width=\"600\" height=\"400\" viewBox=\"0 0 2400 1600\">\n",
       "<defs>\n",
       "  <clipPath id=\"clip960\">\n",
       "    <rect x=\"0\" y=\"0\" width=\"2400\" height=\"1600\"/>\n",
       "  </clipPath>\n",
       "</defs>\n",
       "<path clip-path=\"url(#clip960)\" d=\"\n",
       "M0 1600 L2400 1600 L2400 0 L0 0  Z\n",
       "  \" fill=\"#ffffff\" fill-rule=\"evenodd\" fill-opacity=\"1\"/>\n",
       "<defs>\n",
       "  <clipPath id=\"clip961\">\n",
       "    <rect x=\"480\" y=\"0\" width=\"1681\" height=\"1600\"/>\n",
       "  </clipPath>\n",
       "</defs>\n",
       "<path clip-path=\"url(#clip960)\" d=\"\n",
       "M173.728 1486.45 L2352.76 1486.45 L2352.76 47.2441 L173.728 47.2441  Z\n",
       "  \" fill=\"#ffffff\" fill-rule=\"evenodd\" fill-opacity=\"1\"/>\n",
       "<defs>\n",
       "  <clipPath id=\"clip962\">\n",
       "    <rect x=\"173\" y=\"47\" width=\"2180\" height=\"1440\"/>\n",
       "  </clipPath>\n",
       "</defs>\n",
       "<polyline clip-path=\"url(#clip962)\" style=\"stroke:#000000; stroke-width:2; stroke-opacity:0.1; fill:none\" points=\"\n",
       "  214.634,1486.45 214.634,47.2441 \n",
       "  \"/>\n",
       "<polyline clip-path=\"url(#clip962)\" style=\"stroke:#000000; stroke-width:2; stroke-opacity:0.1; fill:none\" points=\"\n",
       "  733.747,1486.45 733.747,47.2441 \n",
       "  \"/>\n",
       "<polyline clip-path=\"url(#clip962)\" style=\"stroke:#000000; stroke-width:2; stroke-opacity:0.1; fill:none\" points=\"\n",
       "  1252.86,1486.45 1252.86,47.2441 \n",
       "  \"/>\n",
       "<polyline clip-path=\"url(#clip962)\" style=\"stroke:#000000; stroke-width:2; stroke-opacity:0.1; fill:none\" points=\"\n",
       "  1771.97,1486.45 1771.97,47.2441 \n",
       "  \"/>\n",
       "<polyline clip-path=\"url(#clip962)\" style=\"stroke:#000000; stroke-width:2; stroke-opacity:0.1; fill:none\" points=\"\n",
       "  2291.09,1486.45 2291.09,47.2441 \n",
       "  \"/>\n",
       "<polyline clip-path=\"url(#clip960)\" style=\"stroke:#000000; stroke-width:4; stroke-opacity:1; fill:none\" points=\"\n",
       "  173.728,1486.45 2352.76,1486.45 \n",
       "  \"/>\n",
       "<polyline clip-path=\"url(#clip960)\" style=\"stroke:#000000; stroke-width:4; stroke-opacity:1; fill:none\" points=\"\n",
       "  214.634,1486.45 214.634,1469.18 \n",
       "  \"/>\n",
       "<polyline clip-path=\"url(#clip960)\" style=\"stroke:#000000; stroke-width:4; stroke-opacity:1; fill:none\" points=\"\n",
       "  733.747,1486.45 733.747,1469.18 \n",
       "  \"/>\n",
       "<polyline clip-path=\"url(#clip960)\" style=\"stroke:#000000; stroke-width:4; stroke-opacity:1; fill:none\" points=\"\n",
       "  1252.86,1486.45 1252.86,1469.18 \n",
       "  \"/>\n",
       "<polyline clip-path=\"url(#clip960)\" style=\"stroke:#000000; stroke-width:4; stroke-opacity:1; fill:none\" points=\"\n",
       "  1771.97,1486.45 1771.97,1469.18 \n",
       "  \"/>\n",
       "<polyline clip-path=\"url(#clip960)\" style=\"stroke:#000000; stroke-width:4; stroke-opacity:1; fill:none\" points=\"\n",
       "  2291.09,1486.45 2291.09,1469.18 \n",
       "  \"/>\n",
       "<path clip-path=\"url(#clip960)\" d=\"M 0 0 M214.634 1515.64 Q211.023 1515.64 209.194 1519.2 Q207.389 1522.75 207.389 1529.87 Q207.389 1536.98 209.194 1540.55 Q211.023 1544.09 214.634 1544.09 Q218.268 1544.09 220.074 1540.55 Q221.902 1536.98 221.902 1529.87 Q221.902 1522.75 220.074 1519.2 Q218.268 1515.64 214.634 1515.64 M214.634 1511.93 Q220.444 1511.93 223.5 1516.54 Q226.578 1521.12 226.578 1529.87 Q226.578 1538.6 223.5 1543.21 Q220.444 1547.79 214.634 1547.79 Q208.824 1547.79 205.745 1543.21 Q202.689 1538.6 202.689 1529.87 Q202.689 1521.12 205.745 1516.54 Q208.824 1511.93 214.634 1511.93 Z\" fill=\"#000000\" fill-rule=\"evenodd\" fill-opacity=\"1\" /><path clip-path=\"url(#clip960)\" d=\"M 0 0 M715.39 1543.18 L731.71 1543.18 L731.71 1547.12 L709.765 1547.12 L709.765 1543.18 Q712.427 1540.43 717.011 1535.8 Q721.617 1531.15 722.798 1529.81 Q725.043 1527.28 725.923 1525.55 Q726.825 1523.79 726.825 1522.1 Q726.825 1519.34 724.881 1517.61 Q722.96 1515.87 719.858 1515.87 Q717.659 1515.87 715.205 1516.63 Q712.775 1517.4 709.997 1518.95 L709.997 1514.23 Q712.821 1513.09 715.275 1512.51 Q717.728 1511.93 719.765 1511.93 Q725.136 1511.93 728.33 1514.62 Q731.525 1517.31 731.525 1521.8 Q731.525 1523.93 730.714 1525.85 Q729.927 1527.74 727.821 1530.34 Q727.242 1531.01 724.14 1534.23 Q721.038 1537.42 715.39 1543.18 Z\" fill=\"#000000\" fill-rule=\"evenodd\" fill-opacity=\"1\" /><path clip-path=\"url(#clip960)\" d=\"M 0 0 M736.825 1512.56 L755.182 1512.56 L755.182 1516.5 L741.108 1516.5 L741.108 1524.97 Q742.126 1524.62 743.145 1524.46 Q744.163 1524.27 745.182 1524.27 Q750.969 1524.27 754.348 1527.44 Q757.728 1530.62 757.728 1536.03 Q757.728 1541.61 754.256 1544.71 Q750.784 1547.79 744.464 1547.79 Q742.288 1547.79 740.02 1547.42 Q737.774 1547.05 735.367 1546.31 L735.367 1541.61 Q737.45 1542.74 739.673 1543.3 Q741.895 1543.86 744.372 1543.86 Q748.376 1543.86 750.714 1541.75 Q753.052 1539.64 753.052 1536.03 Q753.052 1532.42 750.714 1530.31 Q748.376 1528.21 744.372 1528.21 Q742.497 1528.21 740.622 1528.62 Q738.77 1529.04 736.825 1529.92 L736.825 1512.56 Z\" fill=\"#000000\" fill-rule=\"evenodd\" fill-opacity=\"1\" /><path clip-path=\"url(#clip960)\" d=\"M 0 0 M1229.63 1512.56 L1247.99 1512.56 L1247.99 1516.5 L1233.91 1516.5 L1233.91 1524.97 Q1234.93 1524.62 1235.95 1524.46 Q1236.97 1524.27 1237.99 1524.27 Q1243.77 1524.27 1247.15 1527.44 Q1250.53 1530.62 1250.53 1536.03 Q1250.53 1541.61 1247.06 1544.71 Q1243.59 1547.79 1237.27 1547.79 Q1235.09 1547.79 1232.82 1547.42 Q1230.58 1547.05 1228.17 1546.31 L1228.17 1541.61 Q1230.26 1542.74 1232.48 1543.3 Q1234.7 1543.86 1237.18 1543.86 Q1241.18 1543.86 1243.52 1541.75 Q1245.86 1539.64 1245.86 1536.03 Q1245.86 1532.42 1243.52 1530.31 Q1241.18 1528.21 1237.18 1528.21 Q1235.3 1528.21 1233.43 1528.62 Q1231.57 1529.04 1229.63 1529.92 L1229.63 1512.56 Z\" fill=\"#000000\" fill-rule=\"evenodd\" fill-opacity=\"1\" /><path clip-path=\"url(#clip960)\" d=\"M 0 0 M1265.6 1515.64 Q1261.99 1515.64 1260.16 1519.2 Q1258.36 1522.75 1258.36 1529.87 Q1258.36 1536.98 1260.16 1540.55 Q1261.99 1544.09 1265.6 1544.09 Q1269.24 1544.09 1271.04 1540.55 Q1272.87 1536.98 1272.87 1529.87 Q1272.87 1522.75 1271.04 1519.2 Q1269.24 1515.64 1265.6 1515.64 M1265.6 1511.93 Q1271.41 1511.93 1274.47 1516.54 Q1277.55 1521.12 1277.55 1529.87 Q1277.55 1538.6 1274.47 1543.21 Q1271.41 1547.79 1265.6 1547.79 Q1259.79 1547.79 1256.71 1543.21 Q1253.66 1538.6 1253.66 1529.87 Q1253.66 1521.12 1256.71 1516.54 Q1259.79 1511.93 1265.6 1511.93 Z\" fill=\"#000000\" fill-rule=\"evenodd\" fill-opacity=\"1\" /><path clip-path=\"url(#clip960)\" d=\"M 0 0 M1747.85 1512.56 L1770.07 1512.56 L1770.07 1514.55 L1757.53 1547.12 L1752.64 1547.12 L1764.45 1516.5 L1747.85 1516.5 L1747.85 1512.56 Z\" fill=\"#000000\" fill-rule=\"evenodd\" fill-opacity=\"1\" /><path clip-path=\"url(#clip960)\" d=\"M 0 0 M1775.19 1512.56 L1793.55 1512.56 L1793.55 1516.5 L1779.47 1516.5 L1779.47 1524.97 Q1780.49 1524.62 1781.51 1524.46 Q1782.53 1524.27 1783.55 1524.27 Q1789.33 1524.27 1792.71 1527.44 Q1796.09 1530.62 1796.09 1536.03 Q1796.09 1541.61 1792.62 1544.71 Q1789.15 1547.79 1782.83 1547.79 Q1780.65 1547.79 1778.38 1547.42 Q1776.14 1547.05 1773.73 1546.31 L1773.73 1541.61 Q1775.82 1542.74 1778.04 1543.3 Q1780.26 1543.86 1782.74 1543.86 Q1786.74 1543.86 1789.08 1541.75 Q1791.42 1539.64 1791.42 1536.03 Q1791.42 1532.42 1789.08 1530.31 Q1786.74 1528.21 1782.74 1528.21 Q1780.86 1528.21 1778.99 1528.62 Q1777.13 1529.04 1775.19 1529.92 L1775.19 1512.56 Z\" fill=\"#000000\" fill-rule=\"evenodd\" fill-opacity=\"1\" /><path clip-path=\"url(#clip960)\" d=\"M 0 0 M2254.45 1543.18 L2262.09 1543.18 L2262.09 1516.82 L2253.78 1518.49 L2253.78 1514.23 L2262.05 1512.56 L2266.72 1512.56 L2266.72 1543.18 L2274.36 1543.18 L2274.36 1547.12 L2254.45 1547.12 L2254.45 1543.18 Z\" fill=\"#000000\" fill-rule=\"evenodd\" fill-opacity=\"1\" /><path clip-path=\"url(#clip960)\" d=\"M 0 0 M2289.43 1515.64 Q2285.82 1515.64 2283.99 1519.2 Q2282.18 1522.75 2282.18 1529.87 Q2282.18 1536.98 2283.99 1540.55 Q2285.82 1544.09 2289.43 1544.09 Q2293.06 1544.09 2294.87 1540.55 Q2296.7 1536.98 2296.7 1529.87 Q2296.7 1522.75 2294.87 1519.2 Q2293.06 1515.64 2289.43 1515.64 M2289.43 1511.93 Q2295.24 1511.93 2298.3 1516.54 Q2301.37 1521.12 2301.37 1529.87 Q2301.37 1538.6 2298.3 1543.21 Q2295.24 1547.79 2289.43 1547.79 Q2283.62 1547.79 2280.54 1543.21 Q2277.49 1538.6 2277.49 1529.87 Q2277.49 1521.12 2280.54 1516.54 Q2283.62 1511.93 2289.43 1511.93 Z\" fill=\"#000000\" fill-rule=\"evenodd\" fill-opacity=\"1\" /><path clip-path=\"url(#clip960)\" d=\"M 0 0 M2316.44 1515.64 Q2312.83 1515.64 2311 1519.2 Q2309.2 1522.75 2309.2 1529.87 Q2309.2 1536.98 2311 1540.55 Q2312.83 1544.09 2316.44 1544.09 Q2320.08 1544.09 2321.88 1540.55 Q2323.71 1536.98 2323.71 1529.87 Q2323.71 1522.75 2321.88 1519.2 Q2320.08 1515.64 2316.44 1515.64 M2316.44 1511.93 Q2322.25 1511.93 2325.31 1516.54 Q2328.39 1521.12 2328.39 1529.87 Q2328.39 1538.6 2325.31 1543.21 Q2322.25 1547.79 2316.44 1547.79 Q2310.63 1547.79 2307.56 1543.21 Q2304.5 1538.6 2304.5 1529.87 Q2304.5 1521.12 2307.56 1516.54 Q2310.63 1511.93 2316.44 1511.93 Z\" fill=\"#000000\" fill-rule=\"evenodd\" fill-opacity=\"1\" /><polyline clip-path=\"url(#clip962)\" style=\"stroke:#000000; stroke-width:2; stroke-opacity:0.1; fill:none\" points=\"\n",
       "  173.728,1332.57 2352.76,1332.57 \n",
       "  \"/>\n",
       "<polyline clip-path=\"url(#clip962)\" style=\"stroke:#000000; stroke-width:2; stroke-opacity:0.1; fill:none\" points=\"\n",
       "  173.728,1144 2352.76,1144 \n",
       "  \"/>\n",
       "<polyline clip-path=\"url(#clip962)\" style=\"stroke:#000000; stroke-width:2; stroke-opacity:0.1; fill:none\" points=\"\n",
       "  173.728,955.421 2352.76,955.421 \n",
       "  \"/>\n",
       "<polyline clip-path=\"url(#clip962)\" style=\"stroke:#000000; stroke-width:2; stroke-opacity:0.1; fill:none\" points=\"\n",
       "  173.728,766.846 2352.76,766.846 \n",
       "  \"/>\n",
       "<polyline clip-path=\"url(#clip962)\" style=\"stroke:#000000; stroke-width:2; stroke-opacity:0.1; fill:none\" points=\"\n",
       "  173.728,578.271 2352.76,578.271 \n",
       "  \"/>\n",
       "<polyline clip-path=\"url(#clip962)\" style=\"stroke:#000000; stroke-width:2; stroke-opacity:0.1; fill:none\" points=\"\n",
       "  173.728,389.696 2352.76,389.696 \n",
       "  \"/>\n",
       "<polyline clip-path=\"url(#clip962)\" style=\"stroke:#000000; stroke-width:2; stroke-opacity:0.1; fill:none\" points=\"\n",
       "  173.728,201.121 2352.76,201.121 \n",
       "  \"/>\n",
       "<polyline clip-path=\"url(#clip960)\" style=\"stroke:#000000; stroke-width:4; stroke-opacity:1; fill:none\" points=\"\n",
       "  173.728,1486.45 173.728,47.2441 \n",
       "  \"/>\n",
       "<polyline clip-path=\"url(#clip960)\" style=\"stroke:#000000; stroke-width:4; stroke-opacity:1; fill:none\" points=\"\n",
       "  173.728,1332.57 199.876,1332.57 \n",
       "  \"/>\n",
       "<polyline clip-path=\"url(#clip960)\" style=\"stroke:#000000; stroke-width:4; stroke-opacity:1; fill:none\" points=\"\n",
       "  173.728,1144 199.876,1144 \n",
       "  \"/>\n",
       "<polyline clip-path=\"url(#clip960)\" style=\"stroke:#000000; stroke-width:4; stroke-opacity:1; fill:none\" points=\"\n",
       "  173.728,955.421 199.876,955.421 \n",
       "  \"/>\n",
       "<polyline clip-path=\"url(#clip960)\" style=\"stroke:#000000; stroke-width:4; stroke-opacity:1; fill:none\" points=\"\n",
       "  173.728,766.846 199.876,766.846 \n",
       "  \"/>\n",
       "<polyline clip-path=\"url(#clip960)\" style=\"stroke:#000000; stroke-width:4; stroke-opacity:1; fill:none\" points=\"\n",
       "  173.728,578.271 199.876,578.271 \n",
       "  \"/>\n",
       "<polyline clip-path=\"url(#clip960)\" style=\"stroke:#000000; stroke-width:4; stroke-opacity:1; fill:none\" points=\"\n",
       "  173.728,389.696 199.876,389.696 \n",
       "  \"/>\n",
       "<polyline clip-path=\"url(#clip960)\" style=\"stroke:#000000; stroke-width:4; stroke-opacity:1; fill:none\" points=\"\n",
       "  173.728,201.121 199.876,201.121 \n",
       "  \"/>\n",
       "<path clip-path=\"url(#clip960)\" d=\"M 0 0 M55.7375 1345.92 L63.3763 1345.92 L63.3763 1319.55 L55.0662 1321.22 L55.0662 1316.96 L63.33 1315.29 L68.0059 1315.29 L68.0059 1345.92 L75.6448 1345.92 L75.6448 1349.85 L55.7375 1349.85 L55.7375 1345.92 Z\" fill=\"#000000\" fill-rule=\"evenodd\" fill-opacity=\"1\" /><path clip-path=\"url(#clip960)\" d=\"M 0 0 M79.5336 1315.29 L101.756 1315.29 L101.756 1317.28 L89.2095 1349.85 L84.3253 1349.85 L96.1308 1319.23 L79.5336 1319.23 L79.5336 1315.29 Z\" fill=\"#000000\" fill-rule=\"evenodd\" fill-opacity=\"1\" /><path clip-path=\"url(#clip960)\" d=\"M 0 0 M106.825 1343.97 L111.709 1343.97 L111.709 1349.85 L106.825 1349.85 L106.825 1343.97 Z\" fill=\"#000000\" fill-rule=\"evenodd\" fill-opacity=\"1\" /><path clip-path=\"url(#clip960)\" d=\"M 0 0 M116.825 1315.29 L135.181 1315.29 L135.181 1319.23 L121.107 1319.23 L121.107 1327.7 Q122.126 1327.35 123.145 1327.19 Q124.163 1327 125.182 1327 Q130.969 1327 134.348 1330.17 Q137.728 1333.35 137.728 1338.76 Q137.728 1344.34 134.256 1347.44 Q130.783 1350.52 124.464 1350.52 Q122.288 1350.52 120.02 1350.15 Q117.774 1349.78 115.367 1349.04 L115.367 1344.34 Q117.45 1345.48 119.672 1346.03 Q121.895 1346.59 124.371 1346.59 Q128.376 1346.59 130.714 1344.48 Q133.052 1342.37 133.052 1338.76 Q133.052 1335.15 130.714 1333.05 Q128.376 1330.94 124.371 1330.94 Q122.496 1330.94 120.621 1331.36 Q118.77 1331.77 116.825 1332.65 L116.825 1315.29 Z\" fill=\"#000000\" fill-rule=\"evenodd\" fill-opacity=\"1\" /><path clip-path=\"url(#clip960)\" d=\"M 0 0 M57.4273 1157.34 L73.7466 1157.34 L73.7466 1161.28 L51.8023 1161.28 L51.8023 1157.34 Q54.4643 1154.59 59.0476 1149.96 Q63.6541 1145.3 64.8346 1143.96 Q67.08 1141.44 67.9596 1139.7 Q68.8624 1137.94 68.8624 1136.25 Q68.8624 1133.5 66.918 1131.76 Q64.9967 1130.03 61.8948 1130.03 Q59.6958 1130.03 57.2421 1130.79 Q54.8115 1131.55 52.0338 1133.1 L52.0338 1128.38 Q54.8578 1127.25 57.3115 1126.67 Q59.7652 1126.09 61.8023 1126.09 Q67.1726 1126.09 70.367 1128.78 Q73.5614 1131.46 73.5614 1135.95 Q73.5614 1138.08 72.7513 1140 Q71.9642 1141.9 69.8578 1144.49 Q69.2791 1145.16 66.1772 1148.38 Q63.0754 1151.58 57.4273 1157.34 Z\" fill=\"#000000\" fill-rule=\"evenodd\" fill-opacity=\"1\" /><path clip-path=\"url(#clip960)\" d=\"M 0 0 M88.816 1129.79 Q85.2049 1129.79 83.3762 1133.36 Q81.5707 1136.9 81.5707 1144.03 Q81.5707 1151.14 83.3762 1154.7 Q85.2049 1158.24 88.816 1158.24 Q92.4502 1158.24 94.2558 1154.7 Q96.0845 1151.14 96.0845 1144.03 Q96.0845 1136.9 94.2558 1133.36 Q92.4502 1129.79 88.816 1129.79 M88.816 1126.09 Q94.6262 1126.09 97.6817 1130.7 Q100.76 1135.28 100.76 1144.03 Q100.76 1152.76 97.6817 1157.36 Q94.6262 1161.95 88.816 1161.95 Q83.0058 1161.95 79.9272 1157.36 Q76.8716 1152.76 76.8716 1144.03 Q76.8716 1135.28 79.9272 1130.7 Q83.0058 1126.09 88.816 1126.09 Z\" fill=\"#000000\" fill-rule=\"evenodd\" fill-opacity=\"1\" /><path clip-path=\"url(#clip960)\" d=\"M 0 0 M105.83 1155.4 L110.714 1155.4 L110.714 1161.28 L105.83 1161.28 L105.83 1155.4 Z\" fill=\"#000000\" fill-rule=\"evenodd\" fill-opacity=\"1\" /><path clip-path=\"url(#clip960)\" d=\"M 0 0 M125.783 1129.79 Q122.172 1129.79 120.344 1133.36 Q118.538 1136.9 118.538 1144.03 Q118.538 1151.14 120.344 1154.7 Q122.172 1158.24 125.783 1158.24 Q129.418 1158.24 131.223 1154.7 Q133.052 1151.14 133.052 1144.03 Q133.052 1136.9 131.223 1133.36 Q129.418 1129.79 125.783 1129.79 M125.783 1126.09 Q131.594 1126.09 134.649 1130.7 Q137.728 1135.28 137.728 1144.03 Q137.728 1152.76 134.649 1157.36 Q131.594 1161.95 125.783 1161.95 Q119.973 1161.95 116.895 1157.36 Q113.839 1152.76 113.839 1144.03 Q113.839 1135.28 116.895 1130.7 Q119.973 1126.09 125.783 1126.09 Z\" fill=\"#000000\" fill-rule=\"evenodd\" fill-opacity=\"1\" /><path clip-path=\"url(#clip960)\" d=\"M 0 0 M60.0199 968.766 L76.3392 968.766 L76.3392 972.701 L54.3949 972.701 L54.3949 968.766 Q57.0569 966.011 61.6402 961.382 Q66.2467 956.729 67.4272 955.386 Q69.6726 952.863 70.5522 951.127 Q71.455 949.368 71.455 947.678 Q71.455 944.923 69.5105 943.187 Q67.5893 941.451 64.4874 941.451 Q62.2884 941.451 59.8347 942.215 Q57.4041 942.979 54.6264 944.53 L54.6264 939.808 Q57.4504 938.673 59.9041 938.095 Q62.3578 937.516 64.3948 937.516 Q69.7652 937.516 72.9596 940.201 Q76.154 942.886 76.154 947.377 Q76.154 949.507 75.3438 951.428 Q74.5568 953.326 72.4503 955.919 Q71.8716 956.59 68.7698 959.807 Q65.668 963.002 60.0199 968.766 Z\" fill=\"#000000\" fill-rule=\"evenodd\" fill-opacity=\"1\" /><path clip-path=\"url(#clip960)\" d=\"M 0 0 M85.4364 968.766 L101.756 968.766 L101.756 972.701 L79.8114 972.701 L79.8114 968.766 Q82.4734 966.011 87.0567 961.382 Q91.6632 956.729 92.8438 955.386 Q95.0891 952.863 95.9687 951.127 Q96.8715 949.368 96.8715 947.678 Q96.8715 944.923 94.9271 943.187 Q93.0058 941.451 89.904 941.451 Q87.7049 941.451 85.2512 942.215 Q82.8207 942.979 80.0429 944.53 L80.0429 939.808 Q82.867 938.673 85.3206 938.095 Q87.7743 937.516 89.8114 937.516 Q95.1817 937.516 98.3761 940.201 Q101.571 942.886 101.571 947.377 Q101.571 949.507 100.76 951.428 Q99.9733 953.326 97.8669 955.919 Q97.2882 956.59 94.1863 959.807 Q91.0845 963.002 85.4364 968.766 Z\" fill=\"#000000\" fill-rule=\"evenodd\" fill-opacity=\"1\" /><path clip-path=\"url(#clip960)\" d=\"M 0 0 M106.825 966.821 L111.709 966.821 L111.709 972.701 L106.825 972.701 L106.825 966.821 Z\" fill=\"#000000\" fill-rule=\"evenodd\" fill-opacity=\"1\" /><path clip-path=\"url(#clip960)\" d=\"M 0 0 M116.825 938.141 L135.181 938.141 L135.181 942.076 L121.107 942.076 L121.107 950.548 Q122.126 950.201 123.145 950.039 Q124.163 949.854 125.182 949.854 Q130.969 949.854 134.348 953.025 Q137.728 956.196 137.728 961.613 Q137.728 967.192 134.256 970.294 Q130.783 973.372 124.464 973.372 Q122.288 973.372 120.02 973.002 Q117.774 972.631 115.367 971.891 L115.367 967.192 Q117.45 968.326 119.672 968.881 Q121.895 969.437 124.371 969.437 Q128.376 969.437 130.714 967.331 Q133.052 965.224 133.052 961.613 Q133.052 958.002 130.714 955.895 Q128.376 953.789 124.371 953.789 Q122.496 953.789 120.621 954.206 Q118.77 954.622 116.825 955.502 L116.825 938.141 Z\" fill=\"#000000\" fill-rule=\"evenodd\" fill-opacity=\"1\" /><path clip-path=\"url(#clip960)\" d=\"M 0 0 M58.4226 780.191 L74.742 780.191 L74.742 784.126 L52.7977 784.126 L52.7977 780.191 Q55.4597 777.436 60.043 772.807 Q64.6495 768.154 65.83 766.811 Q68.0754 764.288 68.955 762.552 Q69.8578 760.793 69.8578 759.103 Q69.8578 756.348 67.9133 754.612 Q65.992 752.876 62.8902 752.876 Q60.6911 752.876 58.2375 753.64 Q55.8069 754.404 53.0292 755.955 L53.0292 751.233 Q55.8532 750.098 58.3069 749.52 Q60.7606 748.941 62.7976 748.941 Q68.168 748.941 71.3624 751.626 Q74.5568 754.311 74.5568 758.802 Q74.5568 760.932 73.7466 762.853 Q72.9596 764.751 70.8531 767.344 Q70.2744 768.015 67.1726 771.233 Q64.0708 774.427 58.4226 780.191 Z\" fill=\"#000000\" fill-rule=\"evenodd\" fill-opacity=\"1\" /><path clip-path=\"url(#clip960)\" d=\"M 0 0 M79.8577 749.566 L98.2141 749.566 L98.2141 753.501 L84.1401 753.501 L84.1401 761.973 Q85.1586 761.626 86.1771 761.464 Q87.1956 761.279 88.2141 761.279 Q94.0012 761.279 97.3808 764.45 Q100.76 767.621 100.76 773.038 Q100.76 778.617 97.2882 781.719 Q93.816 784.797 87.4966 784.797 Q85.3206 784.797 83.0521 784.427 Q80.8068 784.057 78.3994 783.316 L78.3994 778.617 Q80.4827 779.751 82.7049 780.307 Q84.9271 780.862 87.404 780.862 Q91.4086 780.862 93.7465 778.756 Q96.0845 776.649 96.0845 773.038 Q96.0845 769.427 93.7465 767.321 Q91.4086 765.214 87.404 765.214 Q85.529 765.214 83.654 765.631 Q81.8021 766.047 79.8577 766.927 L79.8577 749.566 Z\" fill=\"#000000\" fill-rule=\"evenodd\" fill-opacity=\"1\" /><path clip-path=\"url(#clip960)\" d=\"M 0 0 M105.83 778.246 L110.714 778.246 L110.714 784.126 L105.83 784.126 L105.83 778.246 Z\" fill=\"#000000\" fill-rule=\"evenodd\" fill-opacity=\"1\" /><path clip-path=\"url(#clip960)\" d=\"M 0 0 M125.783 752.645 Q122.172 752.645 120.344 756.209 Q118.538 759.751 118.538 766.881 Q118.538 773.987 120.344 777.552 Q122.172 781.094 125.783 781.094 Q129.418 781.094 131.223 777.552 Q133.052 773.987 133.052 766.881 Q133.052 759.751 131.223 756.209 Q129.418 752.645 125.783 752.645 M125.783 748.941 Q131.594 748.941 134.649 753.547 Q137.728 758.131 137.728 766.881 Q137.728 775.608 134.649 780.214 Q131.594 784.797 125.783 784.797 Q119.973 784.797 116.895 780.214 Q113.839 775.608 113.839 766.881 Q113.839 758.131 116.895 753.547 Q119.973 748.941 125.783 748.941 Z\" fill=\"#000000\" fill-rule=\"evenodd\" fill-opacity=\"1\" /><path clip-path=\"url(#clip960)\" d=\"M 0 0 M59.3254 591.616 L75.6448 591.616 L75.6448 595.551 L53.7004 595.551 L53.7004 591.616 Q56.3625 588.861 60.9458 584.232 Q65.5522 579.579 66.7328 578.236 Q68.9781 575.713 69.8578 573.977 Q70.7605 572.218 70.7605 570.528 Q70.7605 567.773 68.8161 566.037 Q66.8948 564.301 63.793 564.301 Q61.5939 564.301 59.1402 565.065 Q56.7097 565.829 53.9319 567.38 L53.9319 562.658 Q56.756 561.523 59.2097 560.945 Q61.6634 560.366 63.7004 560.366 Q69.0707 560.366 72.2652 563.051 Q75.4596 565.736 75.4596 570.227 Q75.4596 572.357 74.6494 574.278 Q73.8624 576.176 71.7559 578.769 Q71.1772 579.44 68.0754 582.658 Q64.9735 585.852 59.3254 591.616 Z\" fill=\"#000000\" fill-rule=\"evenodd\" fill-opacity=\"1\" /><path clip-path=\"url(#clip960)\" d=\"M 0 0 M79.5336 560.991 L101.756 560.991 L101.756 562.982 L89.2095 595.551 L84.3253 595.551 L96.1308 564.926 L79.5336 564.926 L79.5336 560.991 Z\" fill=\"#000000\" fill-rule=\"evenodd\" fill-opacity=\"1\" /><path clip-path=\"url(#clip960)\" d=\"M 0 0 M106.825 589.671 L111.709 589.671 L111.709 595.551 L106.825 595.551 L106.825 589.671 Z\" fill=\"#000000\" fill-rule=\"evenodd\" fill-opacity=\"1\" /><path clip-path=\"url(#clip960)\" d=\"M 0 0 M116.825 560.991 L135.181 560.991 L135.181 564.926 L121.107 564.926 L121.107 573.398 Q122.126 573.051 123.145 572.889 Q124.163 572.704 125.182 572.704 Q130.969 572.704 134.348 575.875 Q137.728 579.047 137.728 584.463 Q137.728 590.042 134.256 593.144 Q130.783 596.222 124.464 596.222 Q122.288 596.222 120.02 595.852 Q117.774 595.482 115.367 594.741 L115.367 590.042 Q117.45 591.176 119.672 591.732 Q121.895 592.287 124.371 592.287 Q128.376 592.287 130.714 590.181 Q133.052 588.074 133.052 584.463 Q133.052 580.852 130.714 578.746 Q128.376 576.639 124.371 576.639 Q122.496 576.639 120.621 577.056 Q118.77 577.472 116.825 578.352 L116.825 560.991 Z\" fill=\"#000000\" fill-rule=\"evenodd\" fill-opacity=\"1\" /><path clip-path=\"url(#clip960)\" d=\"M 0 0 M66.617 388.342 Q69.9735 389.06 71.8485 391.328 Q73.7466 393.597 73.7466 396.93 Q73.7466 402.046 70.2281 404.847 Q66.7096 407.647 60.2282 407.647 Q58.0523 407.647 55.7375 407.208 Q53.4458 406.791 50.9921 405.934 L50.9921 401.421 Q52.9366 402.555 55.2514 403.134 Q57.5662 403.712 60.0893 403.712 Q64.4874 403.712 66.7791 401.976 Q69.0939 400.24 69.0939 396.93 Q69.0939 393.874 66.9411 392.161 Q64.8115 390.425 60.9921 390.425 L56.9643 390.425 L56.9643 386.583 L61.1773 386.583 Q64.6263 386.583 66.455 385.217 Q68.2837 383.828 68.2837 381.236 Q68.2837 378.574 66.3856 377.161 Q64.5106 375.726 60.9921 375.726 Q59.0708 375.726 56.8717 376.143 Q54.6727 376.56 52.0338 377.439 L52.0338 373.273 Q54.6958 372.532 57.0106 372.162 Q59.3486 371.791 61.4087 371.791 Q66.7328 371.791 69.8346 374.222 Q72.9365 376.629 72.9365 380.749 Q72.9365 383.62 71.2929 385.611 Q69.6494 387.578 66.617 388.342 Z\" fill=\"#000000\" fill-rule=\"evenodd\" fill-opacity=\"1\" /><path clip-path=\"url(#clip960)\" d=\"M 0 0 M88.816 375.495 Q85.2049 375.495 83.3762 379.06 Q81.5707 382.601 81.5707 389.731 Q81.5707 396.837 83.3762 400.402 Q85.2049 403.944 88.816 403.944 Q92.4502 403.944 94.2558 400.402 Q96.0845 396.837 96.0845 389.731 Q96.0845 382.601 94.2558 379.06 Q92.4502 375.495 88.816 375.495 M88.816 371.791 Q94.6262 371.791 97.6817 376.398 Q100.76 380.981 100.76 389.731 Q100.76 398.458 97.6817 403.064 Q94.6262 407.647 88.816 407.647 Q83.0058 407.647 79.9272 403.064 Q76.8716 398.458 76.8716 389.731 Q76.8716 380.981 79.9272 376.398 Q83.0058 371.791 88.816 371.791 Z\" fill=\"#000000\" fill-rule=\"evenodd\" fill-opacity=\"1\" /><path clip-path=\"url(#clip960)\" d=\"M 0 0 M105.83 401.097 L110.714 401.097 L110.714 406.976 L105.83 406.976 L105.83 401.097 Z\" fill=\"#000000\" fill-rule=\"evenodd\" fill-opacity=\"1\" /><path clip-path=\"url(#clip960)\" d=\"M 0 0 M125.783 375.495 Q122.172 375.495 120.344 379.06 Q118.538 382.601 118.538 389.731 Q118.538 396.837 120.344 400.402 Q122.172 403.944 125.783 403.944 Q129.418 403.944 131.223 400.402 Q133.052 396.837 133.052 389.731 Q133.052 382.601 131.223 379.06 Q129.418 375.495 125.783 375.495 M125.783 371.791 Q131.594 371.791 134.649 376.398 Q137.728 380.981 137.728 389.731 Q137.728 398.458 134.649 403.064 Q131.594 407.647 125.783 407.647 Q119.973 407.647 116.895 403.064 Q113.839 398.458 113.839 389.731 Q113.839 380.981 116.895 376.398 Q119.973 371.791 125.783 371.791 Z\" fill=\"#000000\" fill-rule=\"evenodd\" fill-opacity=\"1\" /><path clip-path=\"url(#clip960)\" d=\"M 0 0 M69.2096 199.767 Q72.5661 200.485 74.4411 202.753 Q76.3392 205.022 76.3392 208.355 Q76.3392 213.471 72.8207 216.272 Q69.3022 219.073 62.8208 219.073 Q60.6449 219.073 58.33 218.633 Q56.0384 218.216 53.5847 217.36 L53.5847 212.846 Q55.5291 213.98 57.8439 214.559 Q60.1587 215.137 62.6819 215.137 Q67.08 215.137 69.3717 213.401 Q71.6865 211.665 71.6865 208.355 Q71.6865 205.299 69.5337 203.586 Q67.4041 201.85 63.5847 201.85 L59.5569 201.85 L59.5569 198.008 L63.7698 198.008 Q67.2189 198.008 69.0476 196.642 Q70.8763 195.253 70.8763 192.661 Q70.8763 189.999 68.9781 188.587 Q67.1032 187.151 63.5847 187.151 Q61.6634 187.151 59.4643 187.568 Q57.2652 187.985 54.6264 188.864 L54.6264 184.698 Q57.2884 183.957 59.6032 183.587 Q61.9411 183.216 64.0013 183.216 Q69.3254 183.216 72.4272 185.647 Q75.529 188.054 75.529 192.175 Q75.529 195.045 73.8855 197.036 Q72.242 199.003 69.2096 199.767 Z\" fill=\"#000000\" fill-rule=\"evenodd\" fill-opacity=\"1\" /><path clip-path=\"url(#clip960)\" d=\"M 0 0 M85.4364 214.466 L101.756 214.466 L101.756 218.401 L79.8114 218.401 L79.8114 214.466 Q82.4734 211.711 87.0567 207.082 Q91.6632 202.429 92.8438 201.087 Q95.0891 198.563 95.9687 196.827 Q96.8715 195.068 96.8715 193.378 Q96.8715 190.624 94.9271 188.887 Q93.0058 187.151 89.904 187.151 Q87.7049 187.151 85.2512 187.915 Q82.8207 188.679 80.0429 190.23 L80.0429 185.508 Q82.867 184.374 85.3206 183.795 Q87.7743 183.216 89.8114 183.216 Q95.1817 183.216 98.3761 185.901 Q101.571 188.587 101.571 193.077 Q101.571 195.207 100.76 197.128 Q99.9733 199.026 97.8669 201.619 Q97.2882 202.29 94.1863 205.508 Q91.0845 208.702 85.4364 214.466 Z\" fill=\"#000000\" fill-rule=\"evenodd\" fill-opacity=\"1\" /><path clip-path=\"url(#clip960)\" d=\"M 0 0 M106.825 212.522 L111.709 212.522 L111.709 218.401 L106.825 218.401 L106.825 212.522 Z\" fill=\"#000000\" fill-rule=\"evenodd\" fill-opacity=\"1\" /><path clip-path=\"url(#clip960)\" d=\"M 0 0 M116.825 183.841 L135.181 183.841 L135.181 187.776 L121.107 187.776 L121.107 196.249 Q122.126 195.901 123.145 195.739 Q124.163 195.554 125.182 195.554 Q130.969 195.554 134.348 198.725 Q137.728 201.897 137.728 207.313 Q137.728 212.892 134.256 215.994 Q130.783 219.073 124.464 219.073 Q122.288 219.073 120.02 218.702 Q117.774 218.332 115.367 217.591 L115.367 212.892 Q117.45 214.026 119.672 214.582 Q121.895 215.137 124.371 215.137 Q128.376 215.137 130.714 213.031 Q133.052 210.924 133.052 207.313 Q133.052 203.702 130.714 201.596 Q128.376 199.489 124.371 199.489 Q122.496 199.489 120.621 199.906 Q118.77 200.323 116.825 201.202 L116.825 183.841 Z\" fill=\"#000000\" fill-rule=\"evenodd\" fill-opacity=\"1\" /><polyline clip-path=\"url(#clip962)\" style=\"stroke:#800080; stroke-width:4; stroke-opacity:1; fill:none\" points=\"\n",
       "  235.398,615.986 256.163,615.986 276.927,615.986 297.692,615.986 318.456,615.986 339.221,691.416 359.985,691.416 380.75,691.416 401.514,691.416 422.279,691.416 \n",
       "  443.044,691.416 463.808,691.416 484.573,766.846 505.337,842.276 526.102,842.276 546.866,917.706 567.631,917.706 588.395,917.706 609.16,917.706 629.924,917.706 \n",
       "  650.689,766.846 671.453,766.846 692.218,766.846 712.982,842.276 733.747,691.416 754.511,766.846 775.276,766.846 796.04,766.846 816.805,766.846 837.569,766.846 \n",
       "  858.334,842.276 879.098,842.276 899.863,842.276 920.627,842.276 941.392,842.276 962.156,842.276 982.921,691.416 1003.69,691.416 1024.45,691.416 1045.21,691.416 \n",
       "  1065.98,766.846 1086.74,615.986 1107.51,615.986 1128.27,615.986 1149.04,615.986 1169.8,615.986 1190.57,615.986 1211.33,615.986 1232.1,615.986 1252.86,615.986 \n",
       "  1273.62,615.986 1294.39,691.416 1315.15,691.416 1335.92,540.556 1356.68,540.556 1377.45,540.556 1398.21,540.556 1418.98,540.556 1439.74,540.556 1460.5,540.556 \n",
       "  1481.27,615.986 1502.03,615.986 1522.8,465.126 1543.56,540.556 1564.33,389.696 1585.09,389.696 1605.86,389.696 1626.62,465.126 1647.39,314.266 1668.15,314.266 \n",
       "  1688.91,389.696 1709.68,389.696 1730.44,389.696 1751.21,238.836 1771.97,87.9763 1792.74,87.9763 1813.5,87.9763 1834.27,87.9763 1855.03,87.9763 1875.8,87.9763 \n",
       "  1896.56,87.9763 1917.32,87.9763 1938.09,163.406 1958.85,163.406 1979.62,163.406 2000.38,163.406 2021.15,163.406 2041.91,163.406 2062.68,163.406 2083.44,163.406 \n",
       "  2104.2,163.406 2124.97,163.406 2145.73,163.406 2166.5,163.406 2187.26,163.406 2208.03,163.406 2228.79,238.836 2249.56,238.836 2270.32,238.836 2291.09,238.836 \n",
       "  \n",
       "  \"/>\n",
       "<polyline clip-path=\"url(#clip962)\" style=\"stroke:#008000; stroke-width:4; stroke-opacity:1; fill:none\" points=\"\n",
       "  235.398,389.696 256.163,389.696 276.927,615.986 297.692,540.556 318.456,691.416 339.221,615.986 359.985,540.556 380.75,465.126 401.514,465.126 422.279,465.126 \n",
       "  443.044,465.126 463.808,389.696 484.573,389.696 505.337,314.266 526.102,465.126 546.866,389.696 567.631,540.556 588.395,691.416 609.16,842.276 629.924,842.276 \n",
       "  650.689,842.276 671.453,766.846 692.218,766.846 712.982,691.416 733.747,691.416 754.511,615.986 775.276,615.986 796.04,766.846 816.805,766.846 837.569,917.706 \n",
       "  858.334,842.276 879.098,842.276 899.863,842.276 920.627,993.136 941.392,1144 962.156,1144 982.921,1144 1003.69,1068.57 1024.45,1068.57 1045.21,1068.57 \n",
       "  1065.98,993.136 1086.74,993.136 1107.51,993.136 1128.27,993.136 1149.04,993.136 1169.8,917.706 1190.57,917.706 1211.33,917.706 1232.1,1068.57 1252.86,1068.57 \n",
       "  1273.62,1068.57 1294.39,993.136 1315.15,1144 1335.92,1144 1356.68,1144 1377.45,1068.57 1398.21,1219.43 1418.98,1144 1439.74,1144 1460.5,1294.86 \n",
       "  1481.27,1219.43 1502.03,1219.43 1522.8,1219.43 1543.56,1144 1564.33,1144 1585.09,1294.86 1605.86,1445.72 1626.62,1370.29 1647.39,1370.29 1668.15,1370.29 \n",
       "  1688.91,1294.86 1709.68,1445.72 1730.44,1445.72 1751.21,1445.72 1771.97,1445.72 1792.74,1445.72 1813.5,1445.72 1834.27,1445.72 1855.03,1370.29 1875.8,1370.29 \n",
       "  1896.56,1370.29 1917.32,1294.86 1938.09,1219.43 1958.85,1219.43 1979.62,1219.43 2000.38,1370.29 2021.15,1370.29 2041.91,1370.29 2062.68,1370.29 2083.44,1294.86 \n",
       "  2104.2,1219.43 2124.97,1144 2145.73,1068.57 2166.5,1068.57 2187.26,1068.57 2208.03,1219.43 2228.79,1144 2249.56,1068.57 2270.32,1068.57 2291.09,1068.57 \n",
       "  \n",
       "  \"/>\n",
       "<path clip-path=\"url(#clip960)\" d=\"\n",
       "M1831.99 276.658 L2280.12 276.658 L2280.12 95.2176 L1831.99 95.2176  Z\n",
       "  \" fill=\"#ffffff\" fill-rule=\"evenodd\" fill-opacity=\"1\"/>\n",
       "<polyline clip-path=\"url(#clip960)\" style=\"stroke:#000000; stroke-width:4; stroke-opacity:1; fill:none\" points=\"\n",
       "  1831.99,276.658 2280.12,276.658 2280.12,95.2176 1831.99,95.2176 1831.99,276.658 \n",
       "  \"/>\n",
       "<polyline clip-path=\"url(#clip960)\" style=\"stroke:#800080; stroke-width:4; stroke-opacity:1; fill:none\" points=\"\n",
       "  1856.2,155.698 2001.47,155.698 \n",
       "  \"/>\n",
       "<path clip-path=\"url(#clip960)\" d=\"M 0 0 M2044.59 159.714 Q2044.59 155.084 2042.67 152.538 Q2040.77 149.992 2037.32 149.992 Q2033.9 149.992 2031.98 152.538 Q2030.08 155.084 2030.08 159.714 Q2030.08 164.32 2031.98 166.866 Q2033.9 169.413 2037.32 169.413 Q2040.77 169.413 2042.67 166.866 Q2044.59 164.32 2044.59 159.714 M2048.85 169.76 Q2048.85 176.38 2045.91 179.598 Q2042.97 182.839 2036.91 182.839 Q2034.66 182.839 2032.67 182.491 Q2030.68 182.167 2028.81 181.473 L2028.81 177.329 Q2030.68 178.348 2032.51 178.834 Q2034.34 179.32 2036.24 179.32 Q2040.43 179.32 2042.51 177.121 Q2044.59 174.945 2044.59 170.524 L2044.59 168.417 Q2043.27 170.709 2041.21 171.843 Q2039.15 172.978 2036.28 172.978 Q2031.51 172.978 2028.6 169.343 Q2025.68 165.709 2025.68 159.714 Q2025.68 153.695 2028.6 150.061 Q2031.51 146.427 2036.28 146.427 Q2039.15 146.427 2041.21 147.561 Q2043.27 148.695 2044.59 150.987 L2044.59 147.052 L2048.85 147.052 L2048.85 169.76 Z\" fill=\"#000000\" fill-rule=\"evenodd\" fill-opacity=\"1\" /><path clip-path=\"url(#clip960)\" d=\"M 0 0 M2063.37 150.038 Q2059.94 150.038 2057.95 152.723 Q2055.96 155.385 2055.96 160.038 Q2055.96 164.691 2057.93 167.376 Q2059.92 170.038 2063.37 170.038 Q2066.77 170.038 2068.76 167.353 Q2070.75 164.667 2070.75 160.038 Q2070.75 155.431 2068.76 152.746 Q2066.77 150.038 2063.37 150.038 M2063.37 146.427 Q2068.92 146.427 2072.09 150.038 Q2075.26 153.649 2075.26 160.038 Q2075.26 166.404 2072.09 170.038 Q2068.92 173.649 2063.37 173.649 Q2057.79 173.649 2054.62 170.038 Q2051.47 166.404 2051.47 160.038 Q2051.47 153.649 2054.62 150.038 Q2057.79 146.427 2063.37 146.427 Z\" fill=\"#000000\" fill-rule=\"evenodd\" fill-opacity=\"1\" /><path clip-path=\"url(#clip960)\" d=\"M 0 0 M2079.87 136.959 L2084.13 136.959 L2084.13 150.894 L2087.02 148.811 L2088.78 151.265 L2084.13 154.529 L2084.13 172.978 L2079.87 172.978 L2079.87 157.561 L2077.02 159.598 L2075.31 157.144 L2079.87 153.88 L2079.87 136.959 Z\" fill=\"#000000\" fill-rule=\"evenodd\" fill-opacity=\"1\" /><path clip-path=\"url(#clip960)\" d=\"M 0 0 M2115.43 158.95 L2115.43 161.033 L2095.84 161.033 Q2096.12 165.431 2098.48 167.746 Q2100.87 170.038 2105.1 170.038 Q2107.56 170.038 2109.85 169.436 Q2112.16 168.834 2114.43 167.63 L2114.43 171.658 Q2112.14 172.63 2109.73 173.14 Q2107.32 173.649 2104.85 173.649 Q2098.64 173.649 2095.01 170.038 Q2091.4 166.427 2091.4 160.269 Q2091.4 153.904 2094.82 150.177 Q2098.27 146.427 2104.11 146.427 Q2109.34 146.427 2112.37 149.806 Q2115.43 153.163 2115.43 158.95 M2111.17 157.7 Q2111.12 154.205 2109.2 152.121 Q2107.3 150.038 2104.15 150.038 Q2100.59 150.038 2098.44 152.052 Q2096.31 154.066 2095.98 157.723 L2111.17 157.7 M2107.67 172.978 L2110.43 172.978 Q2109.38 174.39 2108.88 175.408 Q2108.39 176.427 2108.39 177.144 Q2108.39 178.209 2109.01 178.741 Q2109.66 179.274 2110.91 179.274 Q2111.65 179.274 2112.37 179.089 Q2113.09 178.927 2113.81 178.579 L2113.81 181.658 Q2112.93 181.89 2112.14 182.005 Q2111.35 182.121 2110.66 182.121 Q2107.83 182.121 2106.49 181.103 Q2105.17 180.107 2105.17 177.954 Q2105.17 176.843 2105.77 175.616 Q2106.4 174.413 2107.67 172.978 Z\" fill=\"#000000\" fill-rule=\"evenodd\" fill-opacity=\"1\" /><path clip-path=\"url(#clip960)\" d=\"M 0 0 M2138.5 160.038 Q2138.5 155.339 2136.56 152.677 Q2134.64 149.992 2131.26 149.992 Q2127.88 149.992 2125.94 152.677 Q2124.01 155.339 2124.01 160.038 Q2124.01 164.737 2125.94 167.422 Q2127.88 170.084 2131.26 170.084 Q2134.64 170.084 2136.56 167.422 Q2138.5 164.737 2138.5 160.038 M2124.01 150.987 Q2125.36 148.672 2127.39 147.561 Q2129.45 146.427 2132.3 146.427 Q2137.02 146.427 2139.96 150.177 Q2142.93 153.927 2142.93 160.038 Q2142.93 166.149 2139.96 169.899 Q2137.02 173.649 2132.3 173.649 Q2129.45 173.649 2127.39 172.538 Q2125.36 171.403 2124.01 169.089 L2124.01 172.978 L2119.73 172.978 L2119.73 136.959 L2124.01 136.959 L2124.01 150.987 Z\" fill=\"#000000\" fill-rule=\"evenodd\" fill-opacity=\"1\" /><path clip-path=\"url(#clip960)\" d=\"M 0 0 M2147.39 147.052 L2151.65 147.052 L2151.65 172.978 L2147.39 172.978 L2147.39 147.052 M2147.39 136.959 L2151.65 136.959 L2151.65 142.353 L2147.39 142.353 L2147.39 136.959 Z\" fill=\"#000000\" fill-rule=\"evenodd\" fill-opacity=\"1\" /><path clip-path=\"url(#clip960)\" d=\"M 0 0 M2178.3 158.95 L2178.3 161.033 L2158.71 161.033 Q2158.99 165.431 2161.35 167.746 Q2163.74 170.038 2167.97 170.038 Q2170.43 170.038 2172.72 169.436 Q2175.03 168.834 2177.3 167.63 L2177.3 171.658 Q2175.01 172.63 2172.6 173.14 Q2170.19 173.649 2167.72 173.649 Q2161.51 173.649 2157.88 170.038 Q2154.27 166.427 2154.27 160.269 Q2154.27 153.904 2157.69 150.177 Q2161.14 146.427 2166.98 146.427 Q2172.21 146.427 2175.24 149.806 Q2178.3 153.163 2178.3 158.95 M2174.04 157.7 Q2173.99 154.205 2172.07 152.121 Q2170.17 150.038 2167.02 150.038 Q2163.46 150.038 2161.31 152.052 Q2159.18 154.066 2158.85 157.723 L2174.04 157.7 Z\" fill=\"#000000\" fill-rule=\"evenodd\" fill-opacity=\"1\" /><polyline clip-path=\"url(#clip960)\" style=\"stroke:#008000; stroke-width:4; stroke-opacity:1; fill:none\" points=\"\n",
       "  1856.2,216.178 2001.47,216.178 \n",
       "  \"/>\n",
       "<path clip-path=\"url(#clip960)\" d=\"M 0 0 M2031.01 207.532 L2035.26 207.532 L2035.26 233.921 Q2035.26 238.874 2033.37 241.096 Q2031.49 243.319 2027.3 243.319 L2025.68 243.319 L2025.68 239.708 L2026.82 239.708 Q2029.25 239.708 2030.13 238.573 Q2031.01 237.462 2031.01 233.921 L2031.01 207.532 M2031.01 197.439 L2035.26 197.439 L2035.26 202.833 L2031.01 202.833 L2031.01 197.439 Z\" fill=\"#000000\" fill-rule=\"evenodd\" fill-opacity=\"1\" /><path clip-path=\"url(#clip960)\" d=\"M 0 0 M2051.51 220.425 Q2046.35 220.425 2044.36 221.606 Q2042.37 222.786 2042.37 225.634 Q2042.37 227.902 2043.85 229.245 Q2045.36 230.564 2047.93 230.564 Q2051.47 230.564 2053.6 228.064 Q2055.75 225.541 2055.75 221.374 L2055.75 220.425 L2051.51 220.425 M2060.01 218.666 L2060.01 233.458 L2055.75 233.458 L2055.75 229.522 Q2054.29 231.883 2052.12 233.018 Q2049.94 234.129 2046.79 234.129 Q2042.81 234.129 2040.45 231.907 Q2038.11 229.661 2038.11 225.911 Q2038.11 221.536 2041.03 219.314 Q2043.97 217.092 2049.78 217.092 L2055.75 217.092 L2055.75 216.675 Q2055.75 213.735 2053.81 212.138 Q2051.88 210.518 2048.39 210.518 Q2046.17 210.518 2044.06 211.05 Q2041.95 211.583 2040.01 212.647 L2040.01 208.712 Q2042.35 207.81 2044.55 207.37 Q2046.75 206.907 2048.83 206.907 Q2054.45 206.907 2057.23 209.823 Q2060.01 212.74 2060.01 218.666 Z\" fill=\"#000000\" fill-rule=\"evenodd\" fill-opacity=\"1\" /><path clip-path=\"url(#clip960)\" d=\"M 0 0 M2081.01 208.296 L2081.01 212.323 Q2079.2 211.397 2077.26 210.935 Q2075.31 210.472 2073.23 210.472 Q2070.06 210.472 2068.46 211.444 Q2066.88 212.416 2066.88 214.36 Q2066.88 215.842 2068.02 216.698 Q2069.15 217.532 2072.58 218.296 L2074.04 218.62 Q2078.57 219.592 2080.47 221.374 Q2082.39 223.134 2082.39 226.305 Q2082.39 229.916 2079.52 232.022 Q2076.68 234.129 2071.68 234.129 Q2069.59 234.129 2067.32 233.712 Q2065.08 233.319 2062.58 232.508 L2062.58 228.11 Q2064.94 229.337 2067.23 229.962 Q2069.52 230.564 2071.77 230.564 Q2074.78 230.564 2076.4 229.546 Q2078.02 228.504 2078.02 226.629 Q2078.02 224.893 2076.84 223.967 Q2075.68 223.041 2071.72 222.184 L2070.24 221.837 Q2066.28 221.004 2064.52 219.291 Q2062.76 217.555 2062.76 214.546 Q2062.76 210.888 2065.36 208.898 Q2067.95 206.907 2072.72 206.907 Q2075.08 206.907 2077.16 207.254 Q2079.25 207.601 2081.01 208.296 Z\" fill=\"#000000\" fill-rule=\"evenodd\" fill-opacity=\"1\" /><path clip-path=\"url(#clip960)\" d=\"M 0 0 M2091.07 200.171 L2091.07 207.532 L2099.85 207.532 L2099.85 210.842 L2091.07 210.842 L2091.07 224.916 Q2091.07 228.087 2091.93 228.99 Q2092.81 229.893 2095.47 229.893 L2099.85 229.893 L2099.85 233.458 L2095.47 233.458 Q2090.54 233.458 2088.67 231.629 Q2086.79 229.777 2086.79 224.916 L2086.79 210.842 L2083.67 210.842 L2083.67 207.532 L2086.79 207.532 L2086.79 200.171 L2091.07 200.171 Z\" fill=\"#000000\" fill-rule=\"evenodd\" fill-opacity=\"1\" /><path clip-path=\"url(#clip960)\" d=\"M 0 0 M2119.34 211.513 Q2118.62 211.097 2117.76 210.911 Q2116.93 210.703 2115.91 210.703 Q2112.3 210.703 2110.36 213.064 Q2108.44 215.402 2108.44 219.8 L2108.44 233.458 L2104.15 233.458 L2104.15 207.532 L2108.44 207.532 L2108.44 211.56 Q2109.78 209.198 2111.93 208.064 Q2114.08 206.907 2117.16 206.907 Q2117.6 206.907 2118.13 206.976 Q2118.67 207.023 2119.32 207.138 L2119.34 211.513 Z\" fill=\"#000000\" fill-rule=\"evenodd\" fill-opacity=\"1\" /><path clip-path=\"url(#clip960)\" d=\"M 0 0 M2121.95 207.532 L2142.19 207.532 L2142.19 211.421 L2126.17 230.055 L2142.19 230.055 L2142.19 233.458 L2121.38 233.458 L2121.38 229.569 L2137.39 210.935 L2121.95 210.935 L2121.95 207.532 Z\" fill=\"#000000\" fill-rule=\"evenodd\" fill-opacity=\"1\" /><path clip-path=\"url(#clip960)\" d=\"M 0 0 M2168.83 219.43 L2168.83 221.513 L2149.25 221.513 Q2149.52 225.911 2151.88 228.226 Q2154.27 230.518 2158.5 230.518 Q2160.96 230.518 2163.25 229.916 Q2165.56 229.314 2167.83 228.11 L2167.83 232.138 Q2165.54 233.11 2163.13 233.62 Q2160.73 234.129 2158.25 234.129 Q2152.05 234.129 2148.41 230.518 Q2144.8 226.907 2144.8 220.749 Q2144.8 214.384 2148.23 210.657 Q2151.68 206.907 2157.51 206.907 Q2162.74 206.907 2165.77 210.286 Q2168.83 213.643 2168.83 219.43 M2164.57 218.18 Q2164.52 214.685 2162.6 212.601 Q2160.7 210.518 2157.56 210.518 Q2153.99 210.518 2151.84 212.532 Q2149.71 214.546 2149.38 218.203 L2164.57 218.18 M2161.07 233.458 L2163.83 233.458 Q2162.79 234.87 2162.28 235.888 Q2161.79 236.907 2161.79 237.624 Q2161.79 238.689 2162.42 239.221 Q2163.06 239.754 2164.31 239.754 Q2165.06 239.754 2165.77 239.569 Q2166.49 239.407 2167.21 239.059 L2167.21 242.138 Q2166.33 242.37 2165.54 242.485 Q2164.75 242.601 2164.06 242.601 Q2161.24 242.601 2159.89 241.583 Q2158.57 240.587 2158.57 238.434 Q2158.57 237.323 2159.18 236.096 Q2159.8 234.893 2161.07 233.458 Z\" fill=\"#000000\" fill-rule=\"evenodd\" fill-opacity=\"1\" /><path clip-path=\"url(#clip960)\" d=\"M 0 0 M2191.91 220.518 Q2191.91 215.819 2189.96 213.157 Q2188.04 210.472 2184.66 210.472 Q2181.28 210.472 2179.34 213.157 Q2177.42 215.819 2177.42 220.518 Q2177.42 225.217 2179.34 227.902 Q2181.28 230.564 2184.66 230.564 Q2188.04 230.564 2189.96 227.902 Q2191.91 225.217 2191.91 220.518 M2177.42 211.467 Q2178.76 209.152 2180.8 208.041 Q2182.86 206.907 2185.7 206.907 Q2190.43 206.907 2193.37 210.657 Q2196.33 214.407 2196.33 220.518 Q2196.33 226.629 2193.37 230.379 Q2190.43 234.129 2185.7 234.129 Q2182.86 234.129 2180.8 233.018 Q2178.76 231.883 2177.42 229.569 L2177.42 233.458 L2173.13 233.458 L2173.13 197.439 L2177.42 197.439 L2177.42 211.467 Z\" fill=\"#000000\" fill-rule=\"evenodd\" fill-opacity=\"1\" /><path clip-path=\"url(#clip960)\" d=\"M 0 0 M2200.8 207.532 L2205.06 207.532 L2205.06 233.458 L2200.8 233.458 L2200.8 207.532 M2200.8 197.439 L2205.06 197.439 L2205.06 202.833 L2200.8 202.833 L2200.8 197.439 Z\" fill=\"#000000\" fill-rule=\"evenodd\" fill-opacity=\"1\" /><path clip-path=\"url(#clip960)\" d=\"M 0 0 M2231.7 219.43 L2231.7 221.513 L2212.12 221.513 Q2212.39 225.911 2214.75 228.226 Q2217.14 230.518 2221.37 230.518 Q2223.83 230.518 2226.12 229.916 Q2228.43 229.314 2230.7 228.11 L2230.7 232.138 Q2228.41 233.11 2226 233.62 Q2223.6 234.129 2221.12 234.129 Q2214.92 234.129 2211.28 230.518 Q2207.67 226.907 2207.67 220.749 Q2207.67 214.384 2211.1 210.657 Q2214.55 206.907 2220.38 206.907 Q2225.61 206.907 2228.64 210.286 Q2231.7 213.643 2231.7 219.43 M2227.44 218.18 Q2227.39 214.685 2225.47 212.601 Q2223.57 210.518 2220.43 210.518 Q2216.86 210.518 2214.71 212.532 Q2212.58 214.546 2212.25 218.203 L2227.44 218.18 Z\" fill=\"#000000\" fill-rule=\"evenodd\" fill-opacity=\"1\" /></svg>\n"
      ]
     },
     "execution_count": 32,
     "metadata": {},
     "output_type": "execute_result"
    }
   ],
   "source": [
    "A = action(9,9,30,30, 100, zeros(Int64, 100, 2))\n",
    "plot(1:size(A)[1], A[:, 1], label=\"gołębie\", color= :purple)\n",
    "plot!(1:size(A)[1], A[:, 2], label=\"jastrzębie\", color= :green)"
   ]
  },
  {
   "cell_type": "code",
   "execution_count": 33,
   "metadata": {},
   "outputs": [
    {
     "ename": "LoadError",
     "evalue": "LoadError: \u001b[91mUndefVarError: @manipulate not defined\u001b[39m\nin expression starting at In[33]:1",
     "output_type": "error",
     "traceback": [
      "LoadError: \u001b[91mUndefVarError: @manipulate not defined\u001b[39m\nin expression starting at In[33]:1",
      "",
      "Stacktrace:",
      " [1] top-level scope",
      " [2] include_string(::Function, ::Module, ::String, ::String) at .\\loading.jl:1091"
     ]
    }
   ],
   "source": [
    "@manipulate for time = 2:1:100\n",
    "    plot(1:time, A[1:time, 1], label=\"gołębie\", color= :purple)\n",
    "    plot!(1:time, A[1:time, 2], label=\"jastrzębie\", color= :green)\n",
    "end"
   ]
  },
  {
   "cell_type": "markdown",
   "metadata": {},
   "source": [
    "# ---------------------------------------------sekcja 2-----------------------------------------------------"
   ]
  },
  {
   "cell_type": "markdown",
   "metadata": {},
   "source": [
    "## funkcje generujące środowisko"
   ]
  },
  {
   "cell_type": "code",
   "execution_count": 86,
   "metadata": {},
   "outputs": [
    {
     "data": {
      "text/plain": [
       "environment_poison (generic function with 1 method)"
      ]
     },
     "execution_count": 86,
     "metadata": {},
     "output_type": "execute_result"
    }
   ],
   "source": [
    "function environment2(n,m) ###generuje środowisko z pakietami\n",
    "    if n % 3 != 0\n",
    "        throw(DomainError(size, \"incorrect size\"))\n",
    "    end\n",
    "    \n",
    "    Environment = zeros(Int64, n, m)\n",
    "    \n",
    "    for i in 2:3:n\n",
    "        Environment[i,:] = ones(Int64, 1, m)\n",
    "    end\n",
    "    return Environment\n",
    "end\n",
    "\n",
    "function environment_poison(Environment) ###zatruwa środowisko - wprowadza zatrute oraz puste pakiety\n",
    "    \n",
    "    n = size(Environment)[1]\n",
    "    m = size(Environment)[2]\n",
    "    \n",
    "    liczba = floor((n/3*m) * 0.04)  #szacowanie około 8? % wszystkich możliwych pakietów\n",
    "    ilosc_pakietow = rand(1:liczba) #+ 5  #randomowe przypisanie konkretnej ilości danego rodzaju pakietów w danym wywołaniu\n",
    "    \n",
    "    for i in 1:1:ilosc_pakietow\n",
    "        z = findall(x -> x == 1, Environment)\n",
    "        Environment[rand(z)] = -1\n",
    "    end\n",
    "    \n",
    "    for i in 1:1:ilosc_pakietow\n",
    "        z = findall(x -> x == 1, Environment)\n",
    "        Environment[rand(z)] = 0\n",
    "    end\n",
    "    \n",
    "    return Environment\n",
    "end"
   ]
  },
  {
   "cell_type": "code",
   "execution_count": 35,
   "metadata": {},
   "outputs": [
    {
     "data": {
      "text/plain": [
       "9×9 Array{Int64,2}:\n",
       " 0  0  0  0  0  0  0  0  0\n",
       " 1  1  1  1  1  1  1  1  1\n",
       " 0  0  0  0  0  0  0  0  0\n",
       " 0  0  0  0  0  0  0  0  0\n",
       " 1  1  1  1  1  1  1  1  1\n",
       " 0  0  0  0  0  0  0  0  0\n",
       " 0  0  0  0  0  0  0  0  0\n",
       " 1  1  1  1  1  1  1  1  1\n",
       " 0  0  0  0  0  0  0  0  0"
      ]
     },
     "execution_count": 35,
     "metadata": {},
     "output_type": "execute_result"
    }
   ],
   "source": [
    "a = environment2(9,9)"
   ]
  },
  {
   "cell_type": "code",
   "execution_count": 36,
   "metadata": {},
   "outputs": [
    {
     "data": {
      "text/plain": [
       "9×9 Array{Int64,2}:\n",
       "  0   0  0   0  0  0  0   0  0\n",
       " -1   0  1   1  0  0  1  -1  1\n",
       "  0   0  0   0  0  0  0   0  0\n",
       "  0   0  0   0  0  0  0   0  0\n",
       "  1  -1  1  -1  0  1  1  -1  0\n",
       "  0   0  0   0  0  0  0   0  0\n",
       "  0   0  0   0  0  0  0   0  0\n",
       " -1   1  1   1  1  0  1   1  1\n",
       "  0   0  0   0  0  0  0   0  0"
      ]
     },
     "execution_count": 36,
     "metadata": {},
     "output_type": "execute_result"
    }
   ],
   "source": [
    "b = environment_poison(a)"
   ]
  },
  {
   "cell_type": "markdown",
   "metadata": {},
   "source": [
    "## funkcja usuwająca konkretną rzecz z macierzy"
   ]
  },
  {
   "cell_type": "code",
   "execution_count": 37,
   "metadata": {},
   "outputs": [
    {
     "data": {
      "text/plain": [
       "remove! (generic function with 1 method)"
      ]
     },
     "execution_count": 37,
     "metadata": {},
     "output_type": "execute_result"
    }
   ],
   "source": [
    "function remove!(a, item)\n",
    "    deleteat!(a, findall(x->x==item, a))\n",
    "    return a\n",
    "end"
   ]
  },
  {
   "cell_type": "markdown",
   "metadata": {},
   "source": [
    "## Funkcja generująca rozstawienie ptaków w środowisku"
   ]
  },
  {
   "cell_type": "code",
   "execution_count": 38,
   "metadata": {},
   "outputs": [
    {
     "data": {
      "text/plain": [
       "find_place (generic function with 1 method)"
      ]
     },
     "execution_count": 38,
     "metadata": {},
     "output_type": "execute_result"
    }
   ],
   "source": [
    "function find_place(macierz, g, ja, ch_g, ch_j)\n",
    "    n = size(macierz)[1]\n",
    "    m = size(macierz)[2]\n",
    "    slots = 2*n*m/3\n",
    "    amount_of_birds = g + ja + ch_g + ch_j\n",
    "    birds = [7, 10, 70, 100] ##gołąb-7, jastrząb-10, chory gołąb -10, chory jastrząb - 100\n",
    "    any_bird = [g, ja, ch_g, ch_j] ###ilość każdego z ptaków\n",
    "    \n",
    "    if amount_of_birds > slots ###jeśli ptaków jest więcej niż miejsc - iteracja po miejscach\n",
    "        for i in 1:slots\n",
    "            pustka = findall(x -> x == 0, any_bird) ## jeśli każdy ptaszek z danego gatunku już jest przydzielony to go usuwamy\n",
    "            pustka = reverse(pustka)\n",
    "            if length(pustka) != 0\n",
    "                for k in pustka\n",
    "                    n = birds[k]\n",
    "                    birds = remove!(birds, n)\n",
    "                end\n",
    "                any_bird = remove!(any_bird, 0)\n",
    "            end\n",
    "            number = rand(1:length(birds))\n",
    "            current_bird = birds[number]\n",
    "            z = findall(x -> x == 0, macierz)\n",
    "            macierz[rand(z)] = current_bird ##przydzielamy ptaszka randomowo\n",
    "            any_bird[number] -= 1\n",
    "        end\n",
    "        \n",
    "    elseif slots > amount_of_birds ###jeśli miejsc jest więcej niż ptaków - iteracja po ptakach\n",
    "        for i in 1:amount_of_birds\n",
    "            pustka = findall(x -> x == 0, any_bird)\n",
    "            pustka = reverse(pustka)\n",
    "            if length(pustka) != 0\n",
    "                for k in pustka\n",
    "                    n = birds[k]\n",
    "                    birds = remove!(birds, n)\n",
    "                end\n",
    "                any_bird = remove!(any_bird, 0)\n",
    "            end\n",
    "            number = rand(1:length(birds))\n",
    "            current_bird = birds[number]\n",
    "            z = findall(x -> x == 0, macierz)\n",
    "            macierz[rand(z)] = current_bird\n",
    "            any_bird[number] -= 1\n",
    "        end\n",
    "    end\n",
    "    macierz = environment_poison(macierz) ##zatruwamy środowisko\n",
    "    \n",
    "    ###sprawdzenie nadpopulacji\n",
    "    \n",
    "    f_gol = 0\n",
    "    f_jas = 0\n",
    "    f_chg =0 \n",
    "    f_chj = 0\n",
    "    \n",
    "    for i in 1:length(birds)\n",
    "        if birds[i] == 7\n",
    "            f_gol += any_bird[i]\n",
    "        elseif birds[i] == 10\n",
    "            f_jas += any_bird[i]\n",
    "        elseif birds[i] == 70\n",
    "            f_chg += any_bird[i]\n",
    "        elseif birds[i] == 100\n",
    "            f_chj += any_bird[i]\n",
    "        end\n",
    "    end\n",
    "    \n",
    "    return macierz, f_gol, f_jas, f_chg, f_chj ###zwraca macierz środowiska, ilość ptaków w nim oraz tych do fight clubu\n",
    "end"
   ]
  },
  {
   "cell_type": "code",
   "execution_count": 39,
   "metadata": {},
   "outputs": [
    {
     "data": {
      "text/plain": [
       "([7 10 … 100 70; 0 0 … -1 -1; … ; 0 1 … 1 1; 10 7 … 10 70], 0, 2, 0, 0)"
      ]
     },
     "execution_count": 39,
     "metadata": {},
     "output_type": "execute_result"
    }
   ],
   "source": [
    "a = environment2(9, 9)\n",
    "find_place(a, 14, 14, 14, 14)"
   ]
  },
  {
   "cell_type": "code",
   "execution_count": 40,
   "metadata": {},
   "outputs": [
    {
     "data": {
      "text/plain": [
       "ptaszki (generic function with 1 method)"
      ]
     },
     "execution_count": 40,
     "metadata": {},
     "output_type": "execute_result"
    }
   ],
   "source": [
    "function ptaszki(macierz, n, k)\n",
    "    if n != 0  \n",
    "        for i in 1:1:n\n",
    "            z = findall(x -> x ==0, macierz)\n",
    "            macierz[rand(z)] = k\n",
    "        end\n",
    "    end\n",
    "end"
   ]
  },
  {
   "cell_type": "code",
   "execution_count": 41,
   "metadata": {},
   "outputs": [
    {
     "data": {
      "text/plain": [
       "fight_club2 (generic function with 1 method)"
      ]
     },
     "execution_count": 41,
     "metadata": {},
     "output_type": "execute_result"
    }
   ],
   "source": [
    "function fight_club2(g,j, ch_g,ch_j)\n",
    "    lista_ptakow = [7, 10,70,100]\n",
    "    suma_ptakow = [g,j,ch_g,ch_j]\n",
    "    if (g+j+ch_g+ch_j)%2 == 0\n",
    "        n = Int64((g+j+ch_g+ch_j)/2)\n",
    "        M = zeros(Int64, 2, n)\n",
    "        for i in 1:length(lista_ptakow)\n",
    "            ptaszki(M,suma_ptakow[i],lista_ptakow[i])\n",
    "        end\n",
    "    else\n",
    "        n = Int64((g + j + ch_g + ch_j + 1)/2) \n",
    "        M = zeros(Int64, 2, n)\n",
    "        for i in 1:length(lista_ptakow)\n",
    "            ptaszki(M,suma_ptakow[i],lista_ptakow[i])\n",
    "        end\n",
    "    end\n",
    "    return M\n",
    "end"
   ]
  },
  {
   "cell_type": "code",
   "execution_count": 42,
   "metadata": {},
   "outputs": [
    {
     "data": {
      "text/plain": [
       "fight2 (generic function with 1 method)"
      ]
     },
     "execution_count": 42,
     "metadata": {},
     "output_type": "execute_result"
    }
   ],
   "source": [
    "\n",
    "function fight2(macierz, g,j,ch_g,ch_j)\n",
    "    for i in 1:size(macierz)[2]\n",
    "        suma = macierz[1,i] + macierz[2,i]\n",
    "        if suma == 14 || suma == 7 || suma == 77 ##gołąb / 2gołebie/ gołąb + chory gołąb\n",
    "            g -= 1\n",
    "        elseif suma == 20 || suma == 10 || suma == 110 ###jastrząb / 2jastrzębie / jastrząb + chory jastrząb\n",
    "            j -= 1\n",
    "        elseif suma == 70 || suma == 140 ## chore gołebie\n",
    "            ch_g -= 1\n",
    "        elseif suma == 100 || suma == 200 ## chore jastrzebie\n",
    "            ch_j -= 1\n",
    "            \n",
    "        elseif suma == 17 ##gołąb vs jastrząb\n",
    "            if roll_for_pakiet(66) == true\n",
    "                g-=1\n",
    "            else\n",
    "                j-=1\n",
    "            end\n",
    "        \n",
    "        elseif suma == 107 ##chory jastrząb + gołąb\n",
    "            g-=1\n",
    "            if roll_for_pakiet(66) == false\n",
    "                ch_g+=1\n",
    "                ch_j-=1\n",
    "            end\n",
    "        elseif suma == 80 ##chory gołąb + jastrząb\n",
    "            j-=1\n",
    "            if roll_for_pakiet(66) == true\n",
    "                ch_j+=1\n",
    "                ch_g-=1    \n",
    "            end\n",
    "            \n",
    "        elseif suma == 170 ##chory jastrząb + chory gołąb\n",
    "            if roll_for_pakiet(66) == true\n",
    "                ch_g-=1\n",
    "            else\n",
    "                ch_j-=1\n",
    "            end\n",
    "\n",
    "        end\n",
    "    end\n",
    "    return g, j, ch_g, ch_j\n",
    "end"
   ]
  },
  {
   "cell_type": "code",
   "execution_count": 64,
   "metadata": {},
   "outputs": [
    {
     "data": {
      "text/plain": [
       "(1, 1, 2, 6)"
      ]
     },
     "execution_count": 64,
     "metadata": {},
     "output_type": "execute_result"
    }
   ],
   "source": [
    "fight2(fight_club2(5,5,5,6), 5,5,5,6)"
   ]
  },
  {
   "cell_type": "code",
   "execution_count": 44,
   "metadata": {},
   "outputs": [
    {
     "data": {
      "text/plain": [
       "2×11 Array{Int64,2}:\n",
       " 100   7   7  100  10  70  100  100   70  100   0\n",
       "  10  70  10    7   7   7   10   10  100   70  70"
      ]
     },
     "execution_count": 44,
     "metadata": {},
     "output_type": "execute_result"
    }
   ],
   "source": [
    "fight_club2(5,5,5,6)"
   ]
  },
  {
   "cell_type": "markdown",
   "metadata": {},
   "source": [
    "## funkcja decydująca o dalszym losie ptaszków"
   ]
  },
  {
   "cell_type": "code",
   "execution_count": 45,
   "metadata": {},
   "outputs": [
    {
     "data": {
      "text/plain": [
       "roll_for_pakiet (generic function with 1 method)"
      ]
     },
     "execution_count": 45,
     "metadata": {},
     "output_type": "execute_result"
    }
   ],
   "source": [
    "function roll_for_pakiet(some_fate)\n",
    "    fate = rand(1:101)\n",
    "    if fate <= some_fate\n",
    "        return true\n",
    "    end\n",
    "end"
   ]
  },
  {
   "attachments": {
    "image.png": {
     "image/png": "[encoded data removed]"
    }
   },
   "cell_type": "markdown",
   "metadata": {},
   "source": [
    "![image.png](attachment:image.png)"
   ]
  },
  {
   "cell_type": "code",
   "execution_count": 46,
   "metadata": {},
   "outputs": [
    {
     "data": {
      "text/plain": [
       "death (generic function with 1 method)"
      ]
     },
     "execution_count": 46,
     "metadata": {},
     "output_type": "execute_result"
    }
   ],
   "source": [
    "function death(bird, deadliness)\n",
    "    for i in 1:bird\n",
    "        if roll_for_pakiet(deadliness)==true\n",
    "            bird -= 1\n",
    "        end\n",
    "    end\n",
    "    return bird\n",
    "end"
   ]
  },
  {
   "cell_type": "code",
   "execution_count": 47,
   "metadata": {},
   "outputs": [
    {
     "data": {
      "text/plain": [
       "sickness (generic function with 1 method)"
      ]
     },
     "execution_count": 47,
     "metadata": {},
     "output_type": "execute_result"
    }
   ],
   "source": [
    "function sickness(ch_g, ch_j, deadliness)\n",
    "    ch_g = death(ch_g, deadliness)\n",
    "    \n",
    "    ch_j = death(ch_j, deadliness)\n",
    "    return ch_g, ch_j\n",
    "end"
   ]
  },
  {
   "cell_type": "markdown",
   "metadata": {},
   "source": [
    "### funkcja potyczek"
   ]
  },
  {
   "cell_type": "code",
   "execution_count": 48,
   "metadata": {},
   "outputs": [
    {
     "data": {
      "text/plain": [
       "potyczki2 (generic function with 3 methods)"
      ]
     },
     "execution_count": 48,
     "metadata": {},
     "output_type": "execute_result"
    }
   ],
   "source": [
    "function potyczki2(n, m, macierz, g, ja, ch_g = 0, ch_j = 0)\n",
    "    for i in 2:3:n, j in 1:m    \n",
    "        suma = macierz[i - 1, j] + macierz[i, j] + macierz[i + 1, j]\n",
    "        if suma == 18\n",
    "            #Jastrząb i Gołąb dobry pakiet\n",
    "            ja += 1\n",
    "            if roll_for_pakiet(50) == true\n",
    "                g -= 1\n",
    "            end\n",
    "        elseif suma == 15\n",
    "            continue\n",
    "            #Gołąb i Gołąb dobry pakiet\n",
    "           # g = g\n",
    "        elseif suma == 21\n",
    "            #Jastrząb i Jastrząb dobry pakiet\n",
    "            ja -= 2\n",
    "        elseif suma == 8\n",
    "            #Gołąb dobry pakiet\n",
    "            g += 1\n",
    "        elseif suma == 11\n",
    "            #Jastrząb dobry pakiet\n",
    "            ja += 1\n",
    "        elseif suma == 81\n",
    "            #Jastrząb i Ch_Gołąb dobry pakiet\n",
    "            if roll_for_pakiet(10) == true\n",
    "                ja -= 1\n",
    "                ch_j += 1\n",
    "            end    \n",
    "            if roll_for_pakiet(50) == true\n",
    "                    ch_g -= 1\n",
    "            end\n",
    "                \n",
    "        elseif suma == 108\n",
    "            #Ch_Jastrząb i Gołąb dobry pakiet\n",
    "            if roll_for_pakiet(10) == true\n",
    "                g -= 1\n",
    "                ch_g += 1\n",
    "            end\n",
    "            if roll_for_pakiet(50) == true\n",
    "                ch_j -= 1\n",
    "                ja += 1\n",
    "            else\n",
    "                ch_j += 1\n",
    "            end\n",
    "            \n",
    "            \n",
    "        elseif suma == 201\n",
    "            #Ch_Jastrząb i Ch_Jastrząb dobry pakiet\n",
    "            ch_j -= 2\n",
    "        elseif suma == 141\n",
    "            continue\n",
    "            #Ch_Gołąb i Ch_Gołąb dobry pakiet\n",
    "            #ch_g = ch_g\n",
    "        elseif suma == 71\n",
    "            #Ch_Gołąb dobry pakiet\n",
    "            if roll_for_pakiet(50) == true\n",
    "                ch_g -= 1\n",
    "                g += 1\n",
    "            else\n",
    "                ch_g += 1\n",
    "            end\n",
    "            \n",
    "        elseif suma == 101\n",
    "            #Ch_Jastrząb dobry pakiet\n",
    "            if roll_for_pakiet(50) == true\n",
    "                ch_j -= 1\n",
    "                ja += 1\n",
    "            else\n",
    "                ch_j += 2\n",
    "            end\n",
    "        elseif suma == 111\n",
    "            #Ch_Jastrząb i Jastrząb dobry pakiet\n",
    "            ch_j -= 1\n",
    "            if roll_for_pakiet(50) == true\n",
    "                ja += 1\n",
    "            else\n",
    "                ch_j += 1\n",
    "            end\n",
    "        elseif suma == 78\n",
    "            #Ch_Gołąb i Gołąb dobry pakiet\n",
    "            if roll_for_pakiet(60) == true\n",
    "                ch_g += 1\n",
    "            end\n",
    "            \n",
    "        elseif suma == 17\n",
    "            #Jastrząb i Gołąb pusty pakiet\n",
    "            g = g-1\n",
    "        elseif suma == 20\n",
    "            #Jastrząb i Jastrząb pusty pakiet\n",
    "            ja = ja-1\n",
    "        elseif suma == 14\n",
    "            #Gołąb i Gołąb pusty pakiet\n",
    "            g = g-2\n",
    "        elseif suma == 10\n",
    "            #Jastrząb pusty pakiet\n",
    "            ja = ja-1\n",
    "        elseif suma == 7\n",
    "            #Gołąb pusty pakiet\n",
    "            g = g-1\n",
    "                \n",
    "         elseif suma == 80\n",
    "            #Jastrząb i Ch_Gołąb pusty pakiet\n",
    "            g -= 1\n",
    "            ja -= 1\n",
    "            ch_j += 1\n",
    "        elseif suma == 107\n",
    "            #Ch_Jastrząb i Gołąb pusty pakiet\n",
    "            g -= 1\n",
    "            if roll_for_pakiet(30) == true\n",
    "                ch_j -= 1\n",
    "                ja += 1\n",
    "            end\n",
    "        elseif suma == 200\n",
    "            #Ch_Jastrząb i Ch_Jastrząb pusty pakiet\n",
    "            ch_j -= 2\n",
    "        elseif suma == 140\n",
    "            #Ch_Gołąb i Ch_Gołąb pusty pakiet\n",
    "            ch_g -= 2\n",
    "            \n",
    "        elseif suma == 70\n",
    "            #Ch_Gołąb pusty pakiet\n",
    "            ch_g -= 1\n",
    "            \n",
    "        elseif suma == 100\n",
    "            #Ch_Jastrząb pusty pakiet\n",
    "            ch_j -= 1\n",
    "            \n",
    "        elseif suma == 110\n",
    "            #Ch_Jastrząb i Jastrząb pusty pakiet\n",
    "            ja -= 1\n",
    "            \n",
    "        elseif suma == 77\n",
    "            #Ch_Gołąb i Gołąb pusty pakiet\n",
    "            ch_g -= 1\n",
    "            g -= 1\n",
    "            \n",
    "            \n",
    "            \n",
    "        elseif suma == 16\n",
    "            #Jastrząb i Gołąb zatruty pakiet\n",
    "            g -= 1\n",
    "            ja -= 1\n",
    "            if roll_for_pakiet(20) == true\n",
    "                ch_j += 1\n",
    "            end    \n",
    "        elseif suma == 19\n",
    "            #Jastrząb i Jastrząb zatruty pakiet\n",
    "            ja -= 1\n",
    "        elseif suma == 13\n",
    "            #Gołąb i Gołąb zatruty pakiet\n",
    "            g -= 2\n",
    "            if roll_for_pakiet(6) == true\n",
    "                ch_g += 2\n",
    "            end\n",
    "        elseif suma == 9\n",
    "            #Jastrząb  zatruty pakiet\n",
    "            ja = ja-1\n",
    "        elseif suma == 6\n",
    "            #Gołąb zatruty pakiet\n",
    "            g = g-1 \n",
    "            if roll_for_pakiet(20) == true\n",
    "                ch_g += 1\n",
    "            end        \n",
    "         elseif suma == 79\n",
    "            #Jastrząb i Ch_Gołąb zatruty pakiet\n",
    "            ch_g -= 1 \n",
    "            ja -= 1\n",
    "            if roll_for_pakiet(70) == true\n",
    "                ch_j += 1\n",
    "            end\n",
    "            \n",
    "        elseif suma == 106\n",
    "            #Ch_Jastrząb i Gołąb zatruty pakiet\n",
    "            g -= 1\n",
    "            if roll_for_pakiet(40) == true\n",
    "                ch_j -= 1\n",
    "            end\n",
    "                \n",
    "        elseif suma == 199\n",
    "            #Ch_Jastrząb i Ch_Jastrząb zatruty pakiet\n",
    "            ch_j -= 2\n",
    "        elseif suma == 139\n",
    "            #Ch_Gołąb i Ch_Gołąb zatruty pakiet\n",
    "            ch_g -= 2\n",
    "            if roll_for_pakiet(1) == true\n",
    "                ch_g += 2\n",
    "            end\n",
    "            \n",
    "        elseif suma == 69\n",
    "            #Ch_Gołąb zatruty pakiet\n",
    "            ch_g -= 1\n",
    "        elseif suma == 99\n",
    "            #Ch_Jastrząb zatruty pakiet\n",
    "            ch_j -= 1\n",
    "        elseif suma == 109\n",
    "            #Ch_Jastrząb i Jastrząb zatruty pakiet\n",
    "            ja -= 1\n",
    "        elseif suma == 76\n",
    "            #Ch_Gołąb i Gołąb zatruty pakiet\n",
    "            g -= 1\n",
    "            if roll_for_pakiet(2) == true\n",
    "                ch_g += 1\n",
    "            end\n",
    "        end \n",
    "    end\n",
    "    sick_birds = sickness(ch_g, ch_j, 80)\n",
    "    ch_g = sick_birds[1]\n",
    "    ch_j = sick_birds[2]\n",
    "\n",
    "    return g, ja, ch_g, ch_j\n",
    "end"
   ]
  },
  {
   "cell_type": "markdown",
   "metadata": {},
   "source": [
    "# próba optymalizacji nr 1 - rozbicie funkcji na 3 części w zależności od pakietu"
   ]
  },
  {
   "cell_type": "code",
   "execution_count": 116,
   "metadata": {},
   "outputs": [
    {
     "data": {
      "text/plain": [
       "potyczki3 (generic function with 3 methods)"
      ]
     },
     "execution_count": 116,
     "metadata": {},
     "output_type": "execute_result"
    }
   ],
   "source": [
    "function potyczki3(n, m, macierz, g, ja, ch_g = 0, ch_j = 0)\n",
    "    for i in 2:3:n, j in 1:m    \n",
    "        suma = macierz[i - 1, j] + macierz[i + 1, j]\n",
    "        if macierz[i, j] == 1\n",
    "            result = pot_norm(suma, g, ja, ch_g, ch_j)\n",
    "            g = result[1]\n",
    "            ja= result[2]\n",
    "            ch_g = result[3]\n",
    "            ch_j = result[4]\n",
    "        elseif macierz[i,j] == 0\n",
    "            result = pot_pust(suma, g, ja, ch_g , ch_j )\n",
    "            g = result[1]\n",
    "            ja= result[2]\n",
    "            ch_g = result[3]\n",
    "            ch_j = result[4]\n",
    "        elseif macierz[i, j] == -1\n",
    "            result = pot_zatr(suma, g, ja, ch_g, ch_j)\n",
    "            g = result[1]\n",
    "            ja= result[2]\n",
    "            ch_g = result[3]\n",
    "            ch_j = result[4]\n",
    "        end\n",
    "    end\n",
    "    sick_birds = sickness(ch_g, ch_j, 5)\n",
    "    ch_g = sick_birds[1]\n",
    "    ch_j = sick_birds[2]\n",
    "\n",
    "    return g, ja, ch_g, ch_j\n",
    "end "
   ]
  },
  {
   "cell_type": "code",
   "execution_count": 164,
   "metadata": {},
   "outputs": [
    {
     "data": {
      "text/plain": [
       "pot_norm (generic function with 3 methods)"
      ]
     },
     "execution_count": 164,
     "metadata": {},
     "output_type": "execute_result"
    }
   ],
   "source": [
    "function pot_norm(suma, g, ja, ch_g = 0, ch_j = 0) ##funkcja do zwykłych pakietów\n",
    "    if suma == 7 ##sam gołąb\n",
    "        g += 1\n",
    "    elseif suma == 10 ###jastrząb\n",
    "        ja += 1\n",
    "    elseif suma == 70 ##chory goł\n",
    "        if roll_for_pakiet(25) == true #szansa na wyzdrowienie\n",
    "            ch_g -= 1\n",
    "            g += 1\n",
    "        else ##zrodzenie chorego gołąbka\n",
    "            ch_g += 1\n",
    "        end\n",
    "    elseif suma == 100 ##chory jastrz\n",
    "        if roll_for_pakiet(25) == true #szansa na wyzdrowienie\n",
    "            ch_j -= 1\n",
    "            ja += 1\n",
    "        else\n",
    "            ch_j += 1 #zrodzenie jastrzebia \n",
    "        end\n",
    "    elseif suma == 20 #dwa jastr - biją się\n",
    "        ja -= 2\n",
    "    elseif suma == 200 #dwa chore jastr- bitka\n",
    "        ch_j -= 2\n",
    "    elseif suma == 17 \n",
    "        ja += 1 #jastrz się rozmnaża\n",
    "        if roll_for_pakiet(50) == true ##gołąb ma 50%szans na ucieczke\n",
    "            g -= 1\n",
    "        end\n",
    "    elseif suma == 170 #chory gołąb + ch jastrz\n",
    "        ja += 1 #jastrz zdrowieje, chory gołąb ginie\n",
    "        ch_j -=1\n",
    "        ch_g -=1\n",
    "    elseif suma == 77 ##chory g + zdrowy g\n",
    "        if roll_for_pakiet(80) == true\n",
    "            ch_g += 1\n",
    "        end\n",
    "    elseif suma == 80 #jastrzab + chg\n",
    "        ch_g -= 1 ##chory gołąb ginie\n",
    "        if roll_for_pakiet(60) == true ##60% szans na zachorowanie jastrzebia\n",
    "            ja -= 1\n",
    "            ch_j += 1\n",
    "        end    \n",
    "        \n",
    "    elseif suma == 107 ###chory jastrz + zdrowy goł\n",
    "        if roll_for_pakiet(60) == true # 60% szans na zachorowanie gołębia\n",
    "            g -= 1\n",
    "            ch_g += 1\n",
    "        end\n",
    "        if roll_for_pakiet(25) == true ##25% szans na wyzdrowienie jastrz\n",
    "            ch_j -= 1\n",
    "            ja += 1\n",
    "        else\n",
    "            ch_j += 1 # ewentualnie zrodzenie ch jastrząbka\n",
    "        end\n",
    "    elseif suma == 110 #chory jastrz + zdrowy jastrz\n",
    "        ch_j -= 1 ##zdrowy zabija chorego\n",
    "        if roll_for_pakiet(20) == true ##20% szansy na unikniecie choroby i zrodzenie jastrząbka\n",
    "            ja += 1\n",
    "        else\n",
    "            ja -= 1\n",
    "            ch_j += 1 ##80% szansy na zachorowanie\n",
    "        end\n",
    "    end\n",
    "    return g, ja, ch_g, ch_j\n",
    "end\n",
    "        \n",
    "        \n",
    "    "
   ]
  },
  {
   "cell_type": "code",
   "execution_count": 177,
   "metadata": {},
   "outputs": [
    {
     "data": {
      "text/plain": [
       "pot_zatr (generic function with 3 methods)"
      ]
     },
     "execution_count": 177,
     "metadata": {},
     "output_type": "execute_result"
    }
   ],
   "source": [
    "function pot_zatr(suma, g, ja, ch_g = 0, ch_j = 0) ###funkcja do zatrutych pakietów\n",
    "    if suma == 7 #gołab\n",
    "        g = g - 1 \n",
    "        if roll_for_pakiet(70) == true #szansa na zachorowanie, 30% na śmierć\n",
    "            ch_g += 1\n",
    "        end        \n",
    "    elseif suma == 10 #jastrzab umiera\n",
    "        ja = ja-1\n",
    "        if roll_for_pakiet(10) == true #szansa na zachorowanie, 90% na śmierć\n",
    "            ch_j += 1\n",
    "        end        \n",
    "    elseif suma == 70 ##chory gołab umiera\n",
    "        ch_g -= 1\n",
    "    elseif suma == 100 #chory jastrzab umiera\n",
    "        ch_j -= 1\n",
    "    elseif suma == 14 ##dwa gołebie\n",
    "        g -= 2\n",
    "        if roll_for_pakiet(60) == true ##60% szansy na zachorowanie, 40 - śmierć\n",
    "            ch_g += 2\n",
    "        end\n",
    "    elseif suma == 140 #dwa chore gołębie\n",
    "        ch_g -= 2\n",
    "        if roll_for_pakiet(10) == true ##10%szans na przeżycie\n",
    "            ch_g += 2\n",
    "        end\n",
    "    elseif suma == 20 #dwa jastrzebie - biją się, ale jeden przeżywa\n",
    "        ja -= 1\n",
    "    elseif suma == 200 #dwa chore jastrz - bitka\n",
    "        ch_j -= 2\n",
    "    elseif suma == 17 ## jastrz + gołąb\n",
    "        g -= 1 #gołab umiera\n",
    "        ja -= 1\n",
    "        if roll_for_pakiet(40) == true ## szansa na zachorowanie, w innym wypadku śmierć\n",
    "            ch_j += 1\n",
    "        end \n",
    "    elseif suma == 170 ##chj + chg\n",
    "        ch_g -= 1 #chory gołab umiera\n",
    "        if roll_for_pakiet(70) == true #chory jastrzab umiera (70%)\n",
    "            ch_j -=1\n",
    "        end\n",
    "    elseif suma == 77 ##chory gołab + zdrowy gołąb\n",
    "        g -= 1\n",
    "        if roll_for_pakiet(20) == true ##zdrowy choruje, chory ma 20% na przeżycie\n",
    "            ch_g += 1\n",
    "        end\n",
    "    elseif suma == 80 ##chory g + jastrz\n",
    "        ch_g -= 1 #chg umiera\n",
    "        ja -= 1\n",
    "        if roll_for_pakiet(70) == true #jastrzab ma 70% na chorobe, 30 na śmierć\n",
    "            ch_j += 1\n",
    "        end\n",
    "    elseif suma == 107 #chory jastrzab, gołąb\n",
    "        g -= 1\n",
    "        if roll_for_pakiet(60) == true #gołąb ma większą szansę na ucieczke, ale choruje\n",
    "            ch_g += 1\n",
    "        end\n",
    "        if roll_for_pakiet(80) == true #jastrzab umiera po zjedzeniu zatr.p\n",
    "            ch_j -= 1\n",
    "        end\n",
    "    elseif suma == 110 #jastrz + chj\n",
    "        ja -= 1 ##chj umiera, ten zdrowy choruje\n",
    "    end\n",
    "    return g, ja, ch_g, ch_j\n",
    "end\n",
    "        "
   ]
  },
  {
   "cell_type": "code",
   "execution_count": 198,
   "metadata": {},
   "outputs": [
    {
     "data": {
      "text/plain": [
       "pot_pust (generic function with 3 methods)"
      ]
     },
     "execution_count": 198,
     "metadata": {},
     "output_type": "execute_result"
    }
   ],
   "source": [
    "function pot_pust(suma, g, ja, ch_g = 0, ch_j = 0) ##funkcja do pustych pakietów\n",
    "    if suma == 7 ## gołąb\n",
    "        g = g - 1 #gołąb umiera      \n",
    "    elseif suma == 10 #jastrz\n",
    "        ja = ja-1 #jstr umiera\n",
    "    elseif suma == 70 #chg\n",
    "        ch_g -= 1\n",
    "    elseif suma == 100 #chj\n",
    "        ch_j -= 1\n",
    "    elseif suma == 14 #2 g\n",
    "        g = g-2\n",
    "    elseif suma == 140 # 2chg\n",
    "        ch_g -= 2\n",
    "    elseif suma == 20 #2j\n",
    "        ja = ja-1\n",
    "    elseif suma == 200 #2 chj\n",
    "        ch_j -= 2\n",
    "    elseif suma == 17 #gołąb + jastrząb\n",
    "        g = g-1\n",
    "    elseif suma == 170 #chory jastr + ch gołąb\n",
    "        ch_g -= 1\n",
    "        ch_j -=1\n",
    "    elseif suma == 77 #chg + g\n",
    "        ch_g -= 1\n",
    "        g -= 1\n",
    "    elseif suma == 80 #chg + jastrz\n",
    "        g -= 1\n",
    "        ja -= 1\n",
    "        ch_j += 1\n",
    "    elseif suma == 107 #chj + g\n",
    "        g -= 1\n",
    "        ch_j -= 1\n",
    "    elseif suma == 110 #chj + j\n",
    "        ja -= 1\n",
    "    end\n",
    "    return g, ja, ch_g, ch_j\n",
    "end\n",
    "        "
   ]
  },
  {
   "cell_type": "markdown",
   "metadata": {},
   "source": [
    "### funkcja właściwa"
   ]
  },
  {
   "cell_type": "code",
   "execution_count": 105,
   "metadata": {},
   "outputs": [
    {
     "data": {
      "text/plain": [
       "action2 (generic function with 3 methods)"
      ]
     },
     "execution_count": 105,
     "metadata": {},
     "output_type": "execute_result"
    }
   ],
   "source": [
    "function action2(n, m, g, j, ch_g, ch_j, p, A = [], index = 1)\n",
    "    #n,m - wielkość środowiska\n",
    "    #g,j,ch_g,ch_j -liczba ptaków danego gatunku\n",
    "    #p - parametr czasowy\n",
    "    \n",
    "    if p == 0\n",
    "        println(\"o kurczaki chyba działa\")\n",
    "        return A\n",
    "    end\n",
    "    \n",
    "    max_amount = 2/3*m*n\n",
    "    amount_of_birds = g+j+ch_g+ch_j\n",
    "    srodowisko = environment2(n, m)\n",
    "    first_try = find_place(srodowisko, g, j, ch_g, ch_j) \n",
    "    macierz = first_try[1]\n",
    "    f_gol = first_try[2] \n",
    "    f_jas = first_try[3]\n",
    "    f_chg =  first_try[4] \n",
    "    f_chja = first_try[5] \n",
    "    fight = fight_club2(f_gol, f_jas, f_chg, f_chja)\n",
    "    g_p = length(findall(x -> x == 7, macierz))\n",
    "    j_p = length(findall(x -> x == 10, macierz))\n",
    "    chg_p = length(findall(x -> x == 70, macierz))\n",
    "    chj_p = length(findall(x -> x ==100, macierz))\n",
    "    \n",
    "    potyczki_result = potyczki3(n, m, macierz, g_p, j_p, chg_p, chj_p)\n",
    "\n",
    "\n",
    "    if amount_of_birds > max_amount\n",
    "        fight = fight_club2(f_gol, f_jas, f_chg, f_chja)\n",
    "        fight_result = fight2(fight, f_gol, f_jas, f_chg, f_chja)\n",
    "        final_g = potyczki_result[1] + fight_result[1]\n",
    "        final_j = potyczki_result[2] + fight_result[2]\n",
    "        final_chg = potyczki_result[3] + fight_result[3]\n",
    "        final_chj = potyczki_result[4] + fight_result[4]\n",
    "    else\n",
    "        final_g = potyczki_result[1] \n",
    "        final_j = potyczki_result[2] \n",
    "        final_chg = potyczki_result[3] \n",
    "        final_chj = potyczki_result[4] \n",
    "    end\n",
    "    \n",
    "    if final_g <0\n",
    "        final_g =0\n",
    "    elseif final_j<0\n",
    "        final_j = 0\n",
    "    elseif final_chg<0\n",
    "        final_chg = 0\n",
    "    elseif final_chj<0\n",
    "        final_chj = 0\n",
    "    end\n",
    "\n",
    "    if index == 1\n",
    "        A = [final_g final_j final_chg final_chj]\n",
    "    else\n",
    "        A = vcat(A,[final_g final_j final_chg final_chj])\n",
    "    end\n",
    "    \n",
    "    #println(final_g,\", \", final_j,\", \", final_chg, \", \",final_chj)\n",
    "    \n",
    "    if final_g == 0 && final_j == 0 && final_chg == 0 && final_chj == 0\n",
    "        println(\"they all died\")\n",
    "        return A\n",
    "    end\n",
    "    \n",
    "    \n",
    "    action2(n, m , final_g, final_j, final_chg,final_chj, p-1, A, index+1)\n",
    "end"
   ]
  },
  {
   "cell_type": "code",
   "execution_count": 214,
   "metadata": {},
   "outputs": [
    {
     "name": "stdout",
     "output_type": "stream",
     "text": [
      "o kurczaki chyba działa\n"
     ]
    },
    {
     "data": {
      "text/plain": [
       "50×4 Array{Int64,2}:\n",
       "  9  13  48  78\n",
       "  7  10  20  47\n",
       "  5   6   9  21\n",
       "  8  10   4   7\n",
       "  9  15   2   5\n",
       " 11  24   2   5\n",
       " 12  23   0   8\n",
       "  9  20   2  11\n",
       "  7  17   4   9\n",
       "  5  20   6   5\n",
       "  7  16   6   8\n",
       "  8  10   7  11\n",
       " 10  11   6  10\n",
       "  ⋮          \n",
       "  9  15   6   8\n",
       "  6  16   7   9\n",
       "  3  16   6   6\n",
       "  3   7   9  10\n",
       "  7  15   7   4\n",
       "  8  17   2   2\n",
       " 10  16   5   3\n",
       " 17  20   3   5\n",
       " 17  18   4   5\n",
       " 13  18   4   8\n",
       " 12  20   3   9\n",
       "  8  24   3   5"
      ]
     },
     "execution_count": 214,
     "metadata": {},
     "output_type": "execute_result"
    }
   ],
   "source": [
    "dying = action2(9,9,15,10,100,135,50)"
   ]
  },
  {
   "cell_type": "code",
   "execution_count": 215,
   "metadata": {},
   "outputs": [],
   "source": [
    "using Plots"
   ]
  },
  {
   "cell_type": "code",
   "execution_count": 216,
   "metadata": {},
   "outputs": [
    {
     "data": {
      "image/svg+xml": [
       "<?xml version=\"1.0\" encoding=\"utf-8\"?>\n",
       "<svg xmlns=\"http://www.w3.org/2000/svg\" xmlns:xlink=\"http://www.w3.org/1999/xlink\" width=\"600\" height=\"400\" viewBox=\"0 0 2400 1600\">\n",
       "<defs>\n",
       "  <clipPath id=\"clip000\">\n",
       "    <rect x=\"0\" y=\"0\" width=\"2400\" height=\"1600\"/>\n",
       "  </clipPath>\n",
       "</defs>\n",
       "<path clip-path=\"url(#clip000)\" d=\"\n",
       "M0 1600 L2400 1600 L2400 0 L0 0  Z\n",
       "  \" fill=\"#ffffff\" fill-rule=\"evenodd\" fill-opacity=\"1\"/>\n",
       "<defs>\n",
       "  <clipPath id=\"clip001\">\n",
       "    <rect x=\"480\" y=\"0\" width=\"1681\" height=\"1600\"/>\n",
       "  </clipPath>\n",
       "</defs>\n",
       "<path clip-path=\"url(#clip000)\" d=\"\n",
       "M139.191 1486.45 L2352.76 1486.45 L2352.76 47.2441 L139.191 47.2441  Z\n",
       "  \" fill=\"#ffffff\" fill-rule=\"evenodd\" fill-opacity=\"1\"/>\n",
       "<defs>\n",
       "  <clipPath id=\"clip002\">\n",
       "    <rect x=\"139\" y=\"47\" width=\"2215\" height=\"1440\"/>\n",
       "  </clipPath>\n",
       "</defs>\n",
       "<polyline clip-path=\"url(#clip002)\" style=\"stroke:#000000; stroke-width:2; stroke-opacity:0.1; fill:none\" points=\"\n",
       "  159.221,1486.45 159.221,47.2441 \n",
       "  \"/>\n",
       "<polyline clip-path=\"url(#clip002)\" style=\"stroke:#000000; stroke-width:2; stroke-opacity:0.1; fill:none\" points=\"\n",
       "  585.399,1486.45 585.399,47.2441 \n",
       "  \"/>\n",
       "<polyline clip-path=\"url(#clip002)\" style=\"stroke:#000000; stroke-width:2; stroke-opacity:0.1; fill:none\" points=\"\n",
       "  1011.58,1486.45 1011.58,47.2441 \n",
       "  \"/>\n",
       "<polyline clip-path=\"url(#clip002)\" style=\"stroke:#000000; stroke-width:2; stroke-opacity:0.1; fill:none\" points=\"\n",
       "  1437.75,1486.45 1437.75,47.2441 \n",
       "  \"/>\n",
       "<polyline clip-path=\"url(#clip002)\" style=\"stroke:#000000; stroke-width:2; stroke-opacity:0.1; fill:none\" points=\"\n",
       "  1863.93,1486.45 1863.93,47.2441 \n",
       "  \"/>\n",
       "<polyline clip-path=\"url(#clip002)\" style=\"stroke:#000000; stroke-width:2; stroke-opacity:0.1; fill:none\" points=\"\n",
       "  2290.11,1486.45 2290.11,47.2441 \n",
       "  \"/>\n",
       "<polyline clip-path=\"url(#clip000)\" style=\"stroke:#000000; stroke-width:4; stroke-opacity:1; fill:none\" points=\"\n",
       "  139.191,1486.45 2352.76,1486.45 \n",
       "  \"/>\n",
       "<polyline clip-path=\"url(#clip000)\" style=\"stroke:#000000; stroke-width:4; stroke-opacity:1; fill:none\" points=\"\n",
       "  159.221,1486.45 159.221,1469.18 \n",
       "  \"/>\n",
       "<polyline clip-path=\"url(#clip000)\" style=\"stroke:#000000; stroke-width:4; stroke-opacity:1; fill:none\" points=\"\n",
       "  585.399,1486.45 585.399,1469.18 \n",
       "  \"/>\n",
       "<polyline clip-path=\"url(#clip000)\" style=\"stroke:#000000; stroke-width:4; stroke-opacity:1; fill:none\" points=\"\n",
       "  1011.58,1486.45 1011.58,1469.18 \n",
       "  \"/>\n",
       "<polyline clip-path=\"url(#clip000)\" style=\"stroke:#000000; stroke-width:4; stroke-opacity:1; fill:none\" points=\"\n",
       "  1437.75,1486.45 1437.75,1469.18 \n",
       "  \"/>\n",
       "<polyline clip-path=\"url(#clip000)\" style=\"stroke:#000000; stroke-width:4; stroke-opacity:1; fill:none\" points=\"\n",
       "  1863.93,1486.45 1863.93,1469.18 \n",
       "  \"/>\n",
       "<polyline clip-path=\"url(#clip000)\" style=\"stroke:#000000; stroke-width:4; stroke-opacity:1; fill:none\" points=\"\n",
       "  2290.11,1486.45 2290.11,1469.18 \n",
       "  \"/>\n",
       "<path clip-path=\"url(#clip000)\" d=\"M 0 0 M159.221 1515.64 Q155.61 1515.64 153.781 1519.2 Q151.976 1522.75 151.976 1529.87 Q151.976 1536.98 153.781 1540.55 Q155.61 1544.09 159.221 1544.09 Q162.855 1544.09 164.661 1540.55 Q166.49 1536.98 166.49 1529.87 Q166.49 1522.75 164.661 1519.2 Q162.855 1515.64 159.221 1515.64 M159.221 1511.93 Q165.031 1511.93 168.087 1516.54 Q171.166 1521.12 171.166 1529.87 Q171.166 1538.6 168.087 1543.21 Q165.031 1547.79 159.221 1547.79 Q153.411 1547.79 150.332 1543.21 Q147.277 1538.6 147.277 1529.87 Q147.277 1521.12 150.332 1516.54 Q153.411 1511.93 159.221 1511.93 Z\" fill=\"#000000\" fill-rule=\"evenodd\" fill-opacity=\"1\" /><path clip-path=\"url(#clip000)\" d=\"M 0 0 M562.274 1543.18 L569.913 1543.18 L569.913 1516.82 L561.602 1518.49 L561.602 1514.23 L569.866 1512.56 L574.542 1512.56 L574.542 1543.18 L582.181 1543.18 L582.181 1547.12 L562.274 1547.12 L562.274 1543.18 Z\" fill=\"#000000\" fill-rule=\"evenodd\" fill-opacity=\"1\" /><path clip-path=\"url(#clip000)\" d=\"M 0 0 M597.25 1515.64 Q593.639 1515.64 591.811 1519.2 Q590.005 1522.75 590.005 1529.87 Q590.005 1536.98 591.811 1540.55 Q593.639 1544.09 597.25 1544.09 Q600.885 1544.09 602.69 1540.55 Q604.519 1536.98 604.519 1529.87 Q604.519 1522.75 602.69 1519.2 Q600.885 1515.64 597.25 1515.64 M597.25 1511.93 Q603.061 1511.93 606.116 1516.54 Q609.195 1521.12 609.195 1529.87 Q609.195 1538.6 606.116 1543.21 Q603.061 1547.79 597.25 1547.79 Q591.44 1547.79 588.362 1543.21 Q585.306 1538.6 585.306 1529.87 Q585.306 1521.12 588.362 1516.54 Q591.44 1511.93 597.25 1511.93 Z\" fill=\"#000000\" fill-rule=\"evenodd\" fill-opacity=\"1\" /><path clip-path=\"url(#clip000)\" d=\"M 0 0 M992.722 1543.18 L1009.04 1543.18 L1009.04 1547.12 L987.097 1547.12 L987.097 1543.18 Q989.759 1540.43 994.342 1535.8 Q998.949 1531.15 1000.13 1529.81 Q1002.37 1527.28 1003.25 1525.55 Q1004.16 1523.79 1004.16 1522.1 Q1004.16 1519.34 1002.21 1517.61 Q1000.29 1515.87 997.189 1515.87 Q994.99 1515.87 992.537 1516.63 Q990.106 1517.4 987.328 1518.95 L987.328 1514.23 Q990.152 1513.09 992.606 1512.51 Q995.06 1511.93 997.097 1511.93 Q1002.47 1511.93 1005.66 1514.62 Q1008.86 1517.31 1008.86 1521.8 Q1008.86 1523.93 1008.05 1525.85 Q1007.26 1527.74 1005.15 1530.34 Q1004.57 1531.01 1001.47 1534.23 Q998.37 1537.42 992.722 1543.18 Z\" fill=\"#000000\" fill-rule=\"evenodd\" fill-opacity=\"1\" /><path clip-path=\"url(#clip000)\" d=\"M 0 0 M1024.11 1515.64 Q1020.5 1515.64 1018.67 1519.2 Q1016.87 1522.75 1016.87 1529.87 Q1016.87 1536.98 1018.67 1540.55 Q1020.5 1544.09 1024.11 1544.09 Q1027.74 1544.09 1029.55 1540.55 Q1031.38 1536.98 1031.38 1529.87 Q1031.38 1522.75 1029.55 1519.2 Q1027.74 1515.64 1024.11 1515.64 M1024.11 1511.93 Q1029.92 1511.93 1032.98 1516.54 Q1036.05 1521.12 1036.05 1529.87 Q1036.05 1538.6 1032.98 1543.21 Q1029.92 1547.79 1024.11 1547.79 Q1018.3 1547.79 1015.22 1543.21 Q1012.17 1538.6 1012.17 1529.87 Q1012.17 1521.12 1015.22 1516.54 Q1018.3 1511.93 1024.11 1511.93 Z\" fill=\"#000000\" fill-rule=\"evenodd\" fill-opacity=\"1\" /><path clip-path=\"url(#clip000)\" d=\"M 0 0 M1428.49 1528.49 Q1431.85 1529.2 1433.73 1531.47 Q1435.62 1533.74 1435.62 1537.07 Q1435.62 1542.19 1432.11 1544.99 Q1428.59 1547.79 1422.11 1547.79 Q1419.93 1547.79 1417.61 1547.35 Q1415.32 1546.93 1412.87 1546.08 L1412.87 1541.56 Q1414.81 1542.7 1417.13 1543.28 Q1419.44 1543.86 1421.97 1543.86 Q1426.36 1543.86 1428.66 1542.12 Q1430.97 1540.38 1430.97 1537.07 Q1430.97 1534.02 1428.82 1532.31 Q1426.69 1530.57 1422.87 1530.57 L1418.84 1530.57 L1418.84 1526.73 L1423.05 1526.73 Q1426.5 1526.73 1428.33 1525.36 Q1430.16 1523.97 1430.16 1521.38 Q1430.16 1518.72 1428.26 1517.31 Q1426.39 1515.87 1422.87 1515.87 Q1420.95 1515.87 1418.75 1516.29 Q1416.55 1516.7 1413.91 1517.58 L1413.91 1513.42 Q1416.57 1512.68 1418.89 1512.31 Q1421.23 1511.93 1423.29 1511.93 Q1428.61 1511.93 1431.71 1514.37 Q1434.81 1516.77 1434.81 1520.89 Q1434.81 1523.76 1433.17 1525.75 Q1431.53 1527.72 1428.49 1528.49 Z\" fill=\"#000000\" fill-rule=\"evenodd\" fill-opacity=\"1\" /><path clip-path=\"url(#clip000)\" d=\"M 0 0 M1450.69 1515.64 Q1447.08 1515.64 1445.25 1519.2 Q1443.45 1522.75 1443.45 1529.87 Q1443.45 1536.98 1445.25 1540.55 Q1447.08 1544.09 1450.69 1544.09 Q1454.33 1544.09 1456.13 1540.55 Q1457.96 1536.98 1457.96 1529.87 Q1457.96 1522.75 1456.13 1519.2 Q1454.33 1515.64 1450.69 1515.64 M1450.69 1511.93 Q1456.5 1511.93 1459.56 1516.54 Q1462.64 1521.12 1462.64 1529.87 Q1462.64 1538.6 1459.56 1543.21 Q1456.5 1547.79 1450.69 1547.79 Q1444.88 1547.79 1441.8 1543.21 Q1438.75 1538.6 1438.75 1529.87 Q1438.75 1521.12 1441.8 1516.54 Q1444.88 1511.93 1450.69 1511.93 Z\" fill=\"#000000\" fill-rule=\"evenodd\" fill-opacity=\"1\" /><path clip-path=\"url(#clip000)\" d=\"M 0 0 M1853.43 1516.63 L1841.63 1535.08 L1853.43 1535.08 L1853.43 1516.63 M1852.21 1512.56 L1858.09 1512.56 L1858.09 1535.08 L1863.02 1535.08 L1863.02 1538.97 L1858.09 1538.97 L1858.09 1547.12 L1853.43 1547.12 L1853.43 1538.97 L1837.83 1538.97 L1837.83 1534.46 L1852.21 1512.56 Z\" fill=\"#000000\" fill-rule=\"evenodd\" fill-opacity=\"1\" /><path clip-path=\"url(#clip000)\" d=\"M 0 0 M1878.09 1515.64 Q1874.47 1515.64 1872.65 1519.2 Q1870.84 1522.75 1870.84 1529.87 Q1870.84 1536.98 1872.65 1540.55 Q1874.47 1544.09 1878.09 1544.09 Q1881.72 1544.09 1883.53 1540.55 Q1885.35 1536.98 1885.35 1529.87 Q1885.35 1522.75 1883.53 1519.2 Q1881.72 1515.64 1878.09 1515.64 M1878.09 1511.93 Q1883.9 1511.93 1886.95 1516.54 Q1890.03 1521.12 1890.03 1529.87 Q1890.03 1538.6 1886.95 1543.21 Q1883.9 1547.79 1878.09 1547.79 Q1872.28 1547.79 1869.2 1543.21 Q1866.14 1538.6 1866.14 1529.87 Q1866.14 1521.12 1869.2 1516.54 Q1872.28 1511.93 1878.09 1511.93 Z\" fill=\"#000000\" fill-rule=\"evenodd\" fill-opacity=\"1\" /><path clip-path=\"url(#clip000)\" d=\"M 0 0 M2266.88 1512.56 L2285.24 1512.56 L2285.24 1516.5 L2271.16 1516.5 L2271.16 1524.97 Q2272.18 1524.62 2273.2 1524.46 Q2274.22 1524.27 2275.24 1524.27 Q2281.02 1524.27 2284.4 1527.44 Q2287.78 1530.62 2287.78 1536.03 Q2287.78 1541.61 2284.31 1544.71 Q2280.84 1547.79 2274.52 1547.79 Q2272.34 1547.79 2270.07 1547.42 Q2267.83 1547.05 2265.42 1546.31 L2265.42 1541.61 Q2267.5 1542.74 2269.73 1543.3 Q2271.95 1543.86 2274.43 1543.86 Q2278.43 1543.86 2280.77 1541.75 Q2283.11 1539.64 2283.11 1536.03 Q2283.11 1532.42 2280.77 1530.31 Q2278.43 1528.21 2274.43 1528.21 Q2272.55 1528.21 2270.68 1528.62 Q2268.82 1529.04 2266.88 1529.92 L2266.88 1512.56 Z\" fill=\"#000000\" fill-rule=\"evenodd\" fill-opacity=\"1\" /><path clip-path=\"url(#clip000)\" d=\"M 0 0 M2302.85 1515.64 Q2299.24 1515.64 2297.41 1519.2 Q2295.61 1522.75 2295.61 1529.87 Q2295.61 1536.98 2297.41 1540.55 Q2299.24 1544.09 2302.85 1544.09 Q2306.49 1544.09 2308.29 1540.55 Q2310.12 1536.98 2310.12 1529.87 Q2310.12 1522.75 2308.29 1519.2 Q2306.49 1515.64 2302.85 1515.64 M2302.85 1511.93 Q2308.66 1511.93 2311.72 1516.54 Q2314.8 1521.12 2314.8 1529.87 Q2314.8 1538.6 2311.72 1543.21 Q2308.66 1547.79 2302.85 1547.79 Q2297.04 1547.79 2293.96 1543.21 Q2290.91 1538.6 2290.91 1529.87 Q2290.91 1521.12 2293.96 1516.54 Q2297.04 1511.93 2302.85 1511.93 Z\" fill=\"#000000\" fill-rule=\"evenodd\" fill-opacity=\"1\" /><polyline clip-path=\"url(#clip002)\" style=\"stroke:#000000; stroke-width:2; stroke-opacity:0.1; fill:none\" points=\"\n",
       "  139.191,1445.72 2352.76,1445.72 \n",
       "  \"/>\n",
       "<polyline clip-path=\"url(#clip002)\" style=\"stroke:#000000; stroke-width:2; stroke-opacity:0.1; fill:none\" points=\"\n",
       "  139.191,1097.58 2352.76,1097.58 \n",
       "  \"/>\n",
       "<polyline clip-path=\"url(#clip002)\" style=\"stroke:#000000; stroke-width:2; stroke-opacity:0.1; fill:none\" points=\"\n",
       "  139.191,749.439 2352.76,749.439 \n",
       "  \"/>\n",
       "<polyline clip-path=\"url(#clip002)\" style=\"stroke:#000000; stroke-width:2; stroke-opacity:0.1; fill:none\" points=\"\n",
       "  139.191,401.301 2352.76,401.301 \n",
       "  \"/>\n",
       "<polyline clip-path=\"url(#clip002)\" style=\"stroke:#000000; stroke-width:2; stroke-opacity:0.1; fill:none\" points=\"\n",
       "  139.191,53.1624 2352.76,53.1624 \n",
       "  \"/>\n",
       "<polyline clip-path=\"url(#clip000)\" style=\"stroke:#000000; stroke-width:4; stroke-opacity:1; fill:none\" points=\"\n",
       "  139.191,1486.45 139.191,47.2441 \n",
       "  \"/>\n",
       "<polyline clip-path=\"url(#clip000)\" style=\"stroke:#000000; stroke-width:4; stroke-opacity:1; fill:none\" points=\"\n",
       "  139.191,1445.72 165.754,1445.72 \n",
       "  \"/>\n",
       "<polyline clip-path=\"url(#clip000)\" style=\"stroke:#000000; stroke-width:4; stroke-opacity:1; fill:none\" points=\"\n",
       "  139.191,1097.58 165.754,1097.58 \n",
       "  \"/>\n",
       "<polyline clip-path=\"url(#clip000)\" style=\"stroke:#000000; stroke-width:4; stroke-opacity:1; fill:none\" points=\"\n",
       "  139.191,749.439 165.754,749.439 \n",
       "  \"/>\n",
       "<polyline clip-path=\"url(#clip000)\" style=\"stroke:#000000; stroke-width:4; stroke-opacity:1; fill:none\" points=\"\n",
       "  139.191,401.301 165.754,401.301 \n",
       "  \"/>\n",
       "<polyline clip-path=\"url(#clip000)\" style=\"stroke:#000000; stroke-width:4; stroke-opacity:1; fill:none\" points=\"\n",
       "  139.191,53.1624 165.754,53.1624 \n",
       "  \"/>\n",
       "<path clip-path=\"url(#clip000)\" d=\"M 0 0 M91.2465 1431.51 Q87.6354 1431.51 85.8068 1435.08 Q84.0012 1438.62 84.0012 1445.75 Q84.0012 1452.86 85.8068 1456.42 Q87.6354 1459.96 91.2465 1459.96 Q94.8808 1459.96 96.6863 1456.42 Q98.515 1452.86 98.515 1445.75 Q98.515 1438.62 96.6863 1435.08 Q94.8808 1431.51 91.2465 1431.51 M91.2465 1427.81 Q97.0567 1427.81 100.112 1432.42 Q103.191 1437 103.191 1445.75 Q103.191 1454.48 100.112 1459.08 Q97.0567 1463.67 91.2465 1463.67 Q85.4364 1463.67 82.3577 1459.08 Q79.3022 1454.48 79.3022 1445.75 Q79.3022 1437 82.3577 1432.42 Q85.4364 1427.81 91.2465 1427.81 Z\" fill=\"#000000\" fill-rule=\"evenodd\" fill-opacity=\"1\" /><path clip-path=\"url(#clip000)\" d=\"M 0 0 M59.8578 1110.92 L76.1772 1110.92 L76.1772 1114.86 L54.2328 1114.86 L54.2328 1110.92 Q56.8949 1108.17 61.4782 1103.54 Q66.0846 1098.89 67.2652 1097.54 Q69.5105 1095.02 70.3902 1093.28 Q71.2929 1091.52 71.2929 1089.83 Q71.2929 1087.08 69.3485 1085.34 Q67.4272 1083.61 64.3254 1083.61 Q62.1263 1083.61 59.6726 1084.37 Q57.2421 1085.14 54.4643 1086.69 L54.4643 1081.96 Q57.2884 1080.83 59.7421 1080.25 Q62.1958 1079.67 64.2328 1079.67 Q69.6031 1079.67 72.7976 1082.36 Q75.992 1085.04 75.992 1089.53 Q75.992 1091.66 75.1818 1093.58 Q74.3948 1095.48 72.2883 1098.08 Q71.7096 1098.75 68.6078 1101.96 Q65.5059 1105.16 59.8578 1110.92 Z\" fill=\"#000000\" fill-rule=\"evenodd\" fill-opacity=\"1\" /><path clip-path=\"url(#clip000)\" d=\"M 0 0 M91.2465 1083.38 Q87.6354 1083.38 85.8068 1086.94 Q84.0012 1090.48 84.0012 1097.61 Q84.0012 1104.72 85.8068 1108.28 Q87.6354 1111.82 91.2465 1111.82 Q94.8808 1111.82 96.6863 1108.28 Q98.515 1104.72 98.515 1097.61 Q98.515 1090.48 96.6863 1086.94 Q94.8808 1083.38 91.2465 1083.38 M91.2465 1079.67 Q97.0567 1079.67 100.112 1084.28 Q103.191 1088.86 103.191 1097.61 Q103.191 1106.34 100.112 1110.95 Q97.0567 1115.53 91.2465 1115.53 Q85.4364 1115.53 82.3577 1110.95 Q79.3022 1106.34 79.3022 1097.61 Q79.3022 1088.86 82.3577 1084.28 Q85.4364 1079.67 91.2465 1079.67 Z\" fill=\"#000000\" fill-rule=\"evenodd\" fill-opacity=\"1\" /><path clip-path=\"url(#clip000)\" d=\"M 0 0 M66.5939 736.233 L54.7884 754.682 L66.5939 754.682 L66.5939 736.233 M65.367 732.159 L71.2466 732.159 L71.2466 754.682 L76.1772 754.682 L76.1772 758.571 L71.2466 758.571 L71.2466 766.719 L66.5939 766.719 L66.5939 758.571 L50.9921 758.571 L50.9921 754.057 L65.367 732.159 Z\" fill=\"#000000\" fill-rule=\"evenodd\" fill-opacity=\"1\" /><path clip-path=\"url(#clip000)\" d=\"M 0 0 M91.2465 735.238 Q87.6354 735.238 85.8068 738.803 Q84.0012 742.344 84.0012 749.474 Q84.0012 756.58 85.8068 760.145 Q87.6354 763.687 91.2465 763.687 Q94.8808 763.687 96.6863 760.145 Q98.515 756.58 98.515 749.474 Q98.515 742.344 96.6863 738.803 Q94.8808 735.238 91.2465 735.238 M91.2465 731.534 Q97.0567 731.534 100.112 736.141 Q103.191 740.724 103.191 749.474 Q103.191 758.201 100.112 762.807 Q97.0567 767.39 91.2465 767.39 Q85.4364 767.39 82.3577 762.807 Q79.3022 758.201 79.3022 749.474 Q79.3022 740.724 82.3577 736.141 Q85.4364 731.534 91.2465 731.534 Z\" fill=\"#000000\" fill-rule=\"evenodd\" fill-opacity=\"1\" /><path clip-path=\"url(#clip000)\" d=\"M 0 0 M64.6495 399.437 Q61.5013 399.437 59.6495 401.59 Q57.8208 403.743 57.8208 407.493 Q57.8208 411.22 59.6495 413.396 Q61.5013 415.548 64.6495 415.548 Q67.7976 415.548 69.6263 413.396 Q71.4781 411.22 71.4781 407.493 Q71.4781 403.743 69.6263 401.59 Q67.7976 399.437 64.6495 399.437 M73.9318 384.785 L73.9318 389.044 Q72.1726 388.211 70.367 387.771 Q68.5846 387.331 66.8254 387.331 Q62.1958 387.331 59.7421 390.456 Q57.3115 393.581 56.9643 399.9 Q58.33 397.886 60.3902 396.822 Q62.4504 395.734 64.9272 395.734 Q70.1355 395.734 73.1448 398.905 Q76.1772 402.053 76.1772 407.493 Q76.1772 412.817 73.029 416.034 Q69.8809 419.252 64.6495 419.252 Q58.6541 419.252 55.4828 414.669 Q52.3116 410.062 52.3116 401.335 Q52.3116 393.141 56.2004 388.28 Q60.0893 383.396 66.6402 383.396 Q68.3994 383.396 70.1818 383.743 Q71.9874 384.09 73.9318 384.785 Z\" fill=\"#000000\" fill-rule=\"evenodd\" fill-opacity=\"1\" /><path clip-path=\"url(#clip000)\" d=\"M 0 0 M91.2465 387.099 Q87.6354 387.099 85.8068 390.664 Q84.0012 394.206 84.0012 401.335 Q84.0012 408.442 85.8068 412.007 Q87.6354 415.548 91.2465 415.548 Q94.8808 415.548 96.6863 412.007 Q98.515 408.442 98.515 401.335 Q98.515 394.206 96.6863 390.664 Q94.8808 387.099 91.2465 387.099 M91.2465 383.396 Q97.0567 383.396 100.112 388.002 Q103.191 392.586 103.191 401.335 Q103.191 410.062 100.112 414.669 Q97.0567 419.252 91.2465 419.252 Q85.4364 419.252 82.3577 414.669 Q79.3022 410.062 79.3022 401.335 Q79.3022 392.586 82.3577 388.002 Q85.4364 383.396 91.2465 383.396 Z\" fill=\"#000000\" fill-rule=\"evenodd\" fill-opacity=\"1\" /><path clip-path=\"url(#clip000)\" d=\"M 0 0 M64.3254 54.0305 Q60.9921 54.0305 59.0708 55.8129 Q57.1726 57.5953 57.1726 60.7203 Q57.1726 63.8453 59.0708 65.6277 Q60.9921 67.4101 64.3254 67.4101 Q67.6587 67.4101 69.58 65.6277 Q71.5013 63.8221 71.5013 60.7203 Q71.5013 57.5953 69.58 55.8129 Q67.6819 54.0305 64.3254 54.0305 M59.6495 52.0398 Q56.6402 51.299 54.9504 49.2389 Q53.2838 47.1787 53.2838 44.2157 Q53.2838 40.0722 56.2236 37.6648 Q59.1865 35.2574 64.3254 35.2574 Q69.4874 35.2574 72.4272 37.6648 Q75.367 40.0722 75.367 44.2157 Q75.367 47.1787 73.6772 49.2389 Q72.0105 51.299 69.0244 52.0398 Q72.404 52.8268 74.279 55.1185 Q76.1772 57.4101 76.1772 60.7203 Q76.1772 65.7434 73.0985 68.4286 Q70.0429 71.1137 64.3254 71.1137 Q58.6078 71.1137 55.5291 68.4286 Q52.4736 65.7434 52.4736 60.7203 Q52.4736 57.4101 54.3717 55.1185 Q56.2699 52.8268 59.6495 52.0398 M57.9365 44.6555 Q57.9365 47.3407 59.6032 48.8453 Q61.293 50.35 64.3254 50.35 Q67.3346 50.35 69.0244 48.8453 Q70.7374 47.3407 70.7374 44.6555 Q70.7374 41.9704 69.0244 40.4658 Q67.3346 38.9611 64.3254 38.9611 Q61.293 38.9611 59.6032 40.4658 Q57.9365 41.9704 57.9365 44.6555 Z\" fill=\"#000000\" fill-rule=\"evenodd\" fill-opacity=\"1\" /><path clip-path=\"url(#clip000)\" d=\"M 0 0 M91.2465 38.9611 Q87.6354 38.9611 85.8068 42.5259 Q84.0012 46.0676 84.0012 53.1972 Q84.0012 60.3036 85.8068 63.8684 Q87.6354 67.4101 91.2465 67.4101 Q94.8808 67.4101 96.6863 63.8684 Q98.515 60.3036 98.515 53.1972 Q98.515 46.0676 96.6863 42.5259 Q94.8808 38.9611 91.2465 38.9611 M91.2465 35.2574 Q97.0567 35.2574 100.112 39.8639 Q103.191 44.4472 103.191 53.1972 Q103.191 61.924 100.112 66.5304 Q97.0567 71.1137 91.2465 71.1137 Q85.4364 71.1137 82.3577 66.5304 Q79.3022 61.924 79.3022 53.1972 Q79.3022 44.4472 82.3577 39.8639 Q85.4364 35.2574 91.2465 35.2574 Z\" fill=\"#000000\" fill-rule=\"evenodd\" fill-opacity=\"1\" /><polyline clip-path=\"url(#clip002)\" style=\"stroke:#009af9; stroke-width:4; stroke-opacity:1; fill:none\" points=\"\n",
       "  201.839,1289.05 244.457,1323.87 287.074,1358.68 329.692,1306.46 372.31,1289.05 414.928,1254.24 457.545,1236.83 500.163,1289.05 542.781,1323.87 585.399,1358.68 \n",
       "  628.016,1323.87 670.634,1306.46 713.252,1271.65 755.869,1289.05 798.487,1254.24 841.105,1323.87 883.723,1323.87 926.34,1341.27 968.958,1323.87 1011.58,1271.65 \n",
       "  1054.19,1254.24 1096.81,1236.83 1139.43,1271.65 1182.05,1323.87 1224.66,1323.87 1267.28,1254.24 1309.9,1219.43 1352.52,1184.61 1395.14,1271.65 1437.75,1341.27 \n",
       "  1480.37,1323.87 1522.99,1323.87 1565.61,1323.87 1608.22,1271.65 1650.84,1219.43 1693.46,1219.43 1736.08,1254.24 1778.7,1289.05 1821.31,1289.05 1863.93,1341.27 \n",
       "  1906.55,1393.49 1949.17,1393.49 1991.78,1323.87 2034.4,1306.46 2077.02,1271.65 2119.64,1149.8 2162.25,1149.8 2204.87,1219.43 2247.49,1236.83 2290.11,1306.46 \n",
       "  \n",
       "  \"/>\n",
       "<polyline clip-path=\"url(#clip002)\" style=\"stroke:#e26f46; stroke-width:4; stroke-opacity:1; fill:none\" points=\"\n",
       "  201.839,1219.43 244.457,1271.65 287.074,1341.27 329.692,1271.65 372.31,1184.61 414.928,1027.95 457.545,1045.36 500.163,1097.58 542.781,1149.8 585.399,1097.58 \n",
       "  628.016,1167.21 670.634,1271.65 713.252,1254.24 755.869,1219.43 798.487,1271.65 841.105,1149.8 883.723,1132.39 926.34,1062.76 968.958,1045.36 1011.58,1219.43 \n",
       "  1054.19,1132.39 1096.81,1114.98 1139.43,1149.8 1182.05,1167.21 1224.66,1202.02 1267.28,1184.61 1309.9,1236.83 1352.52,1167.21 1395.14,1080.17 1437.75,1167.21 \n",
       "  1480.37,1149.8 1522.99,1306.46 1565.61,1254.24 1608.22,1323.87 1650.84,1289.05 1693.46,1323.87 1736.08,1202.02 1778.7,1219.43 1821.31,1184.61 1863.93,1167.21 \n",
       "  1906.55,1167.21 1949.17,1323.87 1991.78,1184.61 2034.4,1149.8 2077.02,1167.21 2119.64,1097.58 2162.25,1132.39 2204.87,1132.39 2247.49,1097.58 2290.11,1027.95 \n",
       "  \n",
       "  \"/>\n",
       "<polyline clip-path=\"url(#clip002)\" style=\"stroke:#3da44d; stroke-width:4; stroke-opacity:1; fill:none\" points=\"\n",
       "  201.839,610.184 244.457,1097.58 287.074,1289.05 329.692,1376.09 372.31,1410.9 414.928,1410.9 457.545,1445.72 500.163,1410.9 542.781,1376.09 585.399,1341.27 \n",
       "  628.016,1341.27 670.634,1323.87 713.252,1341.27 755.869,1271.65 798.487,1254.24 841.105,1202.02 883.723,1306.46 926.34,1289.05 968.958,1341.27 1011.58,1376.09 \n",
       "  1054.19,1289.05 1096.81,1202.02 1139.43,1219.43 1182.05,1289.05 1224.66,1410.9 1267.28,1410.9 1309.9,1358.68 1352.52,1376.09 1395.14,1341.27 1437.75,1341.27 \n",
       "  1480.37,1289.05 1522.99,1289.05 1565.61,1289.05 1608.22,1289.05 1650.84,1323.87 1693.46,1306.46 1736.08,1289.05 1778.7,1289.05 1821.31,1341.27 1863.93,1323.87 \n",
       "  1906.55,1341.27 1949.17,1289.05 1991.78,1323.87 2034.4,1410.9 2077.02,1358.68 2119.64,1393.49 2162.25,1376.09 2204.87,1376.09 2247.49,1393.49 2290.11,1393.49 \n",
       "  \n",
       "  \"/>\n",
       "<polyline clip-path=\"url(#clip002)\" style=\"stroke:#c271d2; stroke-width:4; stroke-opacity:1; fill:none\" points=\"\n",
       "  201.839,87.9763 244.457,627.591 287.074,1080.17 329.692,1323.87 372.31,1358.68 414.928,1358.68 457.545,1306.46 500.163,1254.24 542.781,1289.05 585.399,1358.68 \n",
       "  628.016,1306.46 670.634,1254.24 713.252,1271.65 755.869,1306.46 798.487,1236.83 841.105,1323.87 883.723,1323.87 926.34,1393.49 968.958,1428.31 1011.58,1428.31 \n",
       "  1054.19,1445.72 1096.81,1410.9 1139.43,1393.49 1182.05,1323.87 1224.66,1376.09 1267.28,1358.68 1309.9,1306.46 1352.52,1341.27 1395.14,1306.46 1437.75,1271.65 \n",
       "  1480.37,1236.83 1522.99,1236.83 1565.61,1341.27 1608.22,1306.46 1650.84,1184.61 1693.46,1219.43 1736.08,1376.09 1778.7,1341.27 1821.31,1306.46 1863.93,1289.05 \n",
       "  1906.55,1341.27 1949.17,1271.65 1991.78,1376.09 2034.4,1410.9 2077.02,1393.49 2119.64,1358.68 2162.25,1358.68 2204.87,1306.46 2247.49,1289.05 2290.11,1358.68 \n",
       "  \n",
       "  \"/>\n",
       "<path clip-path=\"url(#clip000)\" d=\"\n",
       "M1694.76 397.618 L2278.97 397.618 L2278.97 95.2176 L1694.76 95.2176  Z\n",
       "  \" fill=\"#ffffff\" fill-rule=\"evenodd\" fill-opacity=\"1\"/>\n",
       "<polyline clip-path=\"url(#clip000)\" style=\"stroke:#000000; stroke-width:4; stroke-opacity:1; fill:none\" points=\"\n",
       "  1694.76,397.618 2278.97,397.618 2278.97,95.2176 1694.76,95.2176 1694.76,397.618 \n",
       "  \"/>\n",
       "<polyline clip-path=\"url(#clip000)\" style=\"stroke:#009af9; stroke-width:4; stroke-opacity:1; fill:none\" points=\"\n",
       "  1719.35,155.698 1866.92,155.698 \n",
       "  \"/>\n",
       "<path clip-path=\"url(#clip000)\" d=\"M 0 0 M1910.43 159.714 Q1910.43 155.084 1908.51 152.538 Q1906.61 149.992 1903.16 149.992 Q1899.74 149.992 1897.81 152.538 Q1895.92 155.084 1895.92 159.714 Q1895.92 164.32 1897.81 166.866 Q1899.74 169.413 1903.16 169.413 Q1906.61 169.413 1908.51 166.866 Q1910.43 164.32 1910.43 159.714 M1914.69 169.76 Q1914.69 176.38 1911.75 179.598 Q1908.81 182.839 1902.74 182.839 Q1900.5 182.839 1898.51 182.491 Q1896.52 182.167 1894.64 181.473 L1894.64 177.329 Q1896.52 178.348 1898.35 178.834 Q1900.18 179.32 1902.07 179.32 Q1906.26 179.32 1908.35 177.121 Q1910.43 174.945 1910.43 170.524 L1910.43 168.417 Q1909.11 170.709 1907.05 171.843 Q1904.99 172.978 1902.12 172.978 Q1897.35 172.978 1894.43 169.343 Q1891.52 165.709 1891.52 159.714 Q1891.52 153.695 1894.43 150.061 Q1897.35 146.427 1902.12 146.427 Q1904.99 146.427 1907.05 147.561 Q1909.11 148.695 1910.43 150.987 L1910.43 147.052 L1914.69 147.052 L1914.69 169.76 Z\" fill=\"#000000\" fill-rule=\"evenodd\" fill-opacity=\"1\" /><path clip-path=\"url(#clip000)\" d=\"M 0 0 M1929.2 150.038 Q1925.78 150.038 1923.79 152.723 Q1921.8 155.385 1921.8 160.038 Q1921.8 164.691 1923.76 167.376 Q1925.75 170.038 1929.2 170.038 Q1932.61 170.038 1934.6 167.353 Q1936.59 164.667 1936.59 160.038 Q1936.59 155.431 1934.6 152.746 Q1932.61 150.038 1929.2 150.038 M1929.2 146.427 Q1934.76 146.427 1937.93 150.038 Q1941.1 153.649 1941.1 160.038 Q1941.1 166.404 1937.93 170.038 Q1934.76 173.649 1929.2 173.649 Q1923.62 173.649 1920.45 170.038 Q1917.3 166.404 1917.3 160.038 Q1917.3 153.649 1920.45 150.038 Q1923.62 146.427 1929.2 146.427 Z\" fill=\"#000000\" fill-rule=\"evenodd\" fill-opacity=\"1\" /><path clip-path=\"url(#clip000)\" d=\"M 0 0 M1945.71 136.959 L1949.97 136.959 L1949.97 150.894 L1952.86 148.811 L1954.62 151.265 L1949.97 154.529 L1949.97 172.978 L1945.71 172.978 L1945.71 157.561 L1942.86 159.598 L1941.15 157.144 L1945.71 153.88 L1945.71 136.959 Z\" fill=\"#000000\" fill-rule=\"evenodd\" fill-opacity=\"1\" /><path clip-path=\"url(#clip000)\" d=\"M 0 0 M1981.26 158.95 L1981.26 161.033 L1961.68 161.033 Q1961.96 165.431 1964.32 167.746 Q1966.7 170.038 1970.94 170.038 Q1973.39 170.038 1975.68 169.436 Q1978 168.834 1980.27 167.63 L1980.27 171.658 Q1977.98 172.63 1975.57 173.14 Q1973.16 173.649 1970.68 173.649 Q1964.48 173.649 1960.85 170.038 Q1957.24 166.427 1957.24 160.269 Q1957.24 153.904 1960.66 150.177 Q1964.11 146.427 1969.94 146.427 Q1975.17 146.427 1978.21 149.806 Q1981.26 153.163 1981.26 158.95 M1977 157.7 Q1976.96 154.205 1975.04 152.121 Q1973.14 150.038 1969.99 150.038 Q1966.43 150.038 1964.27 152.052 Q1962.14 154.066 1961.82 157.723 L1977 157.7 M1973.51 172.978 L1976.26 172.978 Q1975.22 174.39 1974.71 175.408 Q1974.23 176.427 1974.23 177.144 Q1974.23 178.209 1974.85 178.741 Q1975.5 179.274 1976.75 179.274 Q1977.49 179.274 1978.21 179.089 Q1978.92 178.927 1979.64 178.579 L1979.64 181.658 Q1978.76 181.89 1977.98 182.005 Q1977.19 182.121 1976.49 182.121 Q1973.67 182.121 1972.33 181.103 Q1971.01 180.107 1971.01 177.954 Q1971.01 176.843 1971.61 175.616 Q1972.24 174.413 1973.51 172.978 Z\" fill=\"#000000\" fill-rule=\"evenodd\" fill-opacity=\"1\" /><path clip-path=\"url(#clip000)\" d=\"M 0 0 M2004.34 160.038 Q2004.34 155.339 2002.4 152.677 Q2000.48 149.992 1997.1 149.992 Q1993.72 149.992 1991.77 152.677 Q1989.85 155.339 1989.85 160.038 Q1989.85 164.737 1991.77 167.422 Q1993.72 170.084 1997.1 170.084 Q2000.48 170.084 2002.4 167.422 Q2004.34 164.737 2004.34 160.038 M1989.85 150.987 Q1991.19 148.672 1993.23 147.561 Q1995.29 146.427 1998.14 146.427 Q2002.86 146.427 2005.8 150.177 Q2008.76 153.927 2008.76 160.038 Q2008.76 166.149 2005.8 169.899 Q2002.86 173.649 1998.14 173.649 Q1995.29 173.649 1993.23 172.538 Q1991.19 171.403 1989.85 169.089 L1989.85 172.978 L1985.57 172.978 L1985.57 136.959 L1989.85 136.959 L1989.85 150.987 Z\" fill=\"#000000\" fill-rule=\"evenodd\" fill-opacity=\"1\" /><path clip-path=\"url(#clip000)\" d=\"M 0 0 M2013.23 147.052 L2017.49 147.052 L2017.49 172.978 L2013.23 172.978 L2013.23 147.052 M2013.23 136.959 L2017.49 136.959 L2017.49 142.353 L2013.23 142.353 L2013.23 136.959 Z\" fill=\"#000000\" fill-rule=\"evenodd\" fill-opacity=\"1\" /><path clip-path=\"url(#clip000)\" d=\"M 0 0 M2044.13 158.95 L2044.13 161.033 L2024.55 161.033 Q2024.83 165.431 2027.19 167.746 Q2029.57 170.038 2033.81 170.038 Q2036.26 170.038 2038.55 169.436 Q2040.87 168.834 2043.14 167.63 L2043.14 171.658 Q2040.85 172.63 2038.44 173.14 Q2036.03 173.649 2033.55 173.649 Q2027.35 173.649 2023.72 170.038 Q2020.11 166.427 2020.11 160.269 Q2020.11 153.904 2023.53 150.177 Q2026.98 146.427 2032.81 146.427 Q2038.04 146.427 2041.08 149.806 Q2044.13 153.163 2044.13 158.95 M2039.87 157.7 Q2039.83 154.205 2037.91 152.121 Q2036.01 150.038 2032.86 150.038 Q2029.3 150.038 2027.14 152.052 Q2025.01 154.066 2024.69 157.723 L2039.87 157.7 Z\" fill=\"#000000\" fill-rule=\"evenodd\" fill-opacity=\"1\" /><polyline clip-path=\"url(#clip000)\" style=\"stroke:#e26f46; stroke-width:4; stroke-opacity:1; fill:none\" points=\"\n",
       "  1719.35,216.178 1866.92,216.178 \n",
       "  \"/>\n",
       "<path clip-path=\"url(#clip000)\" d=\"M 0 0 M1896.84 207.532 L1901.1 207.532 L1901.1 233.921 Q1901.1 238.874 1899.2 241.096 Q1897.33 243.319 1893.14 243.319 L1891.52 243.319 L1891.52 239.708 L1892.65 239.708 Q1895.08 239.708 1895.96 238.573 Q1896.84 237.462 1896.84 233.921 L1896.84 207.532 M1896.84 197.439 L1901.1 197.439 L1901.1 202.833 L1896.84 202.833 L1896.84 197.439 Z\" fill=\"#000000\" fill-rule=\"evenodd\" fill-opacity=\"1\" /><path clip-path=\"url(#clip000)\" d=\"M 0 0 M1917.35 220.425 Q1912.19 220.425 1910.2 221.606 Q1908.21 222.786 1908.21 225.634 Q1908.21 227.902 1909.69 229.245 Q1911.19 230.564 1913.76 230.564 Q1917.3 230.564 1919.43 228.064 Q1921.59 225.541 1921.59 221.374 L1921.59 220.425 L1917.35 220.425 M1925.85 218.666 L1925.85 233.458 L1921.59 233.458 L1921.59 229.522 Q1920.13 231.883 1917.95 233.018 Q1915.78 234.129 1912.63 234.129 Q1908.65 234.129 1906.29 231.907 Q1903.95 229.661 1903.95 225.911 Q1903.95 221.536 1906.87 219.314 Q1909.8 217.092 1915.62 217.092 L1921.59 217.092 L1921.59 216.675 Q1921.59 213.735 1919.64 212.138 Q1917.72 210.518 1914.23 210.518 Q1912 210.518 1909.9 211.05 Q1907.79 211.583 1905.85 212.647 L1905.85 208.712 Q1908.18 207.81 1910.38 207.37 Q1912.58 206.907 1914.67 206.907 Q1920.29 206.907 1923.07 209.823 Q1925.85 212.74 1925.85 218.666 Z\" fill=\"#000000\" fill-rule=\"evenodd\" fill-opacity=\"1\" /><path clip-path=\"url(#clip000)\" d=\"M 0 0 M1946.84 208.296 L1946.84 212.323 Q1945.04 211.397 1943.09 210.935 Q1941.15 210.472 1939.06 210.472 Q1935.89 210.472 1934.3 211.444 Q1932.72 212.416 1932.72 214.36 Q1932.72 215.842 1933.86 216.698 Q1934.99 217.532 1938.42 218.296 L1939.87 218.62 Q1944.41 219.592 1946.31 221.374 Q1948.23 223.134 1948.23 226.305 Q1948.23 229.916 1945.36 232.022 Q1942.51 234.129 1937.51 234.129 Q1935.43 234.129 1933.16 233.712 Q1930.92 233.319 1928.42 232.508 L1928.42 228.11 Q1930.78 229.337 1933.07 229.962 Q1935.36 230.564 1937.61 230.564 Q1940.61 230.564 1942.24 229.546 Q1943.86 228.504 1943.86 226.629 Q1943.86 224.893 1942.68 223.967 Q1941.52 223.041 1937.56 222.184 L1936.08 221.837 Q1932.12 221.004 1930.36 219.291 Q1928.6 217.555 1928.6 214.546 Q1928.6 210.888 1931.19 208.898 Q1933.79 206.907 1938.55 206.907 Q1940.92 206.907 1943 207.254 Q1945.08 207.601 1946.84 208.296 Z\" fill=\"#000000\" fill-rule=\"evenodd\" fill-opacity=\"1\" /><path clip-path=\"url(#clip000)\" d=\"M 0 0 M1956.91 200.171 L1956.91 207.532 L1965.68 207.532 L1965.68 210.842 L1956.91 210.842 L1956.91 224.916 Q1956.91 228.087 1957.77 228.99 Q1958.65 229.893 1961.31 229.893 L1965.68 229.893 L1965.68 233.458 L1961.31 233.458 Q1956.38 233.458 1954.5 231.629 Q1952.63 229.777 1952.63 224.916 L1952.63 210.842 L1949.5 210.842 L1949.5 207.532 L1952.63 207.532 L1952.63 200.171 L1956.91 200.171 Z\" fill=\"#000000\" fill-rule=\"evenodd\" fill-opacity=\"1\" /><path clip-path=\"url(#clip000)\" d=\"M 0 0 M1985.17 211.513 Q1984.46 211.097 1983.6 210.911 Q1982.77 210.703 1981.75 210.703 Q1978.14 210.703 1976.19 213.064 Q1974.27 215.402 1974.27 219.8 L1974.27 233.458 L1969.99 233.458 L1969.99 207.532 L1974.27 207.532 L1974.27 211.56 Q1975.61 209.198 1977.77 208.064 Q1979.92 206.907 1983 206.907 Q1983.44 206.907 1983.97 206.976 Q1984.5 207.023 1985.15 207.138 L1985.17 211.513 Z\" fill=\"#000000\" fill-rule=\"evenodd\" fill-opacity=\"1\" /><path clip-path=\"url(#clip000)\" d=\"M 0 0 M1987.79 207.532 L2008.02 207.532 L2008.02 211.421 L1992 230.055 L2008.02 230.055 L2008.02 233.458 L1987.21 233.458 L1987.21 229.569 L2003.23 210.935 L1987.79 210.935 L1987.79 207.532 Z\" fill=\"#000000\" fill-rule=\"evenodd\" fill-opacity=\"1\" /><path clip-path=\"url(#clip000)\" d=\"M 0 0 M2034.67 219.43 L2034.67 221.513 L2015.08 221.513 Q2015.36 225.911 2017.72 228.226 Q2020.11 230.518 2024.34 230.518 Q2026.8 230.518 2029.09 229.916 Q2031.4 229.314 2033.67 228.11 L2033.67 232.138 Q2031.38 233.11 2028.97 233.62 Q2026.56 234.129 2024.09 234.129 Q2017.88 234.129 2014.25 230.518 Q2010.64 226.907 2010.64 220.749 Q2010.64 214.384 2014.06 210.657 Q2017.51 206.907 2023.35 206.907 Q2028.58 206.907 2031.61 210.286 Q2034.67 213.643 2034.67 219.43 M2030.41 218.18 Q2030.36 214.685 2028.44 212.601 Q2026.54 210.518 2023.39 210.518 Q2019.83 210.518 2017.67 212.532 Q2015.55 214.546 2015.22 218.203 L2030.41 218.18 M2026.91 233.458 L2029.67 233.458 Q2028.62 234.87 2028.11 235.888 Q2027.63 236.907 2027.63 237.624 Q2027.63 238.689 2028.25 239.221 Q2028.9 239.754 2030.15 239.754 Q2030.89 239.754 2031.61 239.569 Q2032.33 239.407 2033.05 239.059 L2033.05 242.138 Q2032.17 242.37 2031.38 242.485 Q2030.59 242.601 2029.9 242.601 Q2027.07 242.601 2025.73 241.583 Q2024.41 240.587 2024.41 238.434 Q2024.41 237.323 2025.01 236.096 Q2025.64 234.893 2026.91 233.458 Z\" fill=\"#000000\" fill-rule=\"evenodd\" fill-opacity=\"1\" /><path clip-path=\"url(#clip000)\" d=\"M 0 0 M2057.74 220.518 Q2057.74 215.819 2055.8 213.157 Q2053.88 210.472 2050.5 210.472 Q2047.12 210.472 2045.17 213.157 Q2043.25 215.819 2043.25 220.518 Q2043.25 225.217 2045.17 227.902 Q2047.12 230.564 2050.5 230.564 Q2053.88 230.564 2055.8 227.902 Q2057.74 225.217 2057.74 220.518 M2043.25 211.467 Q2044.6 209.152 2046.63 208.041 Q2048.69 206.907 2051.54 206.907 Q2056.26 206.907 2059.2 210.657 Q2062.17 214.407 2062.17 220.518 Q2062.17 226.629 2059.2 230.379 Q2056.26 234.129 2051.54 234.129 Q2048.69 234.129 2046.63 233.018 Q2044.6 231.883 2043.25 229.569 L2043.25 233.458 L2038.97 233.458 L2038.97 197.439 L2043.25 197.439 L2043.25 211.467 Z\" fill=\"#000000\" fill-rule=\"evenodd\" fill-opacity=\"1\" /><path clip-path=\"url(#clip000)\" d=\"M 0 0 M2066.63 207.532 L2070.89 207.532 L2070.89 233.458 L2066.63 233.458 L2066.63 207.532 M2066.63 197.439 L2070.89 197.439 L2070.89 202.833 L2066.63 202.833 L2066.63 197.439 Z\" fill=\"#000000\" fill-rule=\"evenodd\" fill-opacity=\"1\" /><path clip-path=\"url(#clip000)\" d=\"M 0 0 M2097.54 219.43 L2097.54 221.513 L2077.95 221.513 Q2078.23 225.911 2080.59 228.226 Q2082.98 230.518 2087.21 230.518 Q2089.67 230.518 2091.96 229.916 Q2094.27 229.314 2096.54 228.11 L2096.54 232.138 Q2094.25 233.11 2091.84 233.62 Q2089.43 234.129 2086.96 234.129 Q2080.75 234.129 2077.12 230.518 Q2073.51 226.907 2073.51 220.749 Q2073.51 214.384 2076.93 210.657 Q2080.38 206.907 2086.22 206.907 Q2091.45 206.907 2094.48 210.286 Q2097.54 213.643 2097.54 219.43 M2093.28 218.18 Q2093.23 214.685 2091.31 212.601 Q2089.41 210.518 2086.26 210.518 Q2082.7 210.518 2080.54 212.532 Q2078.42 214.546 2078.09 218.203 L2093.28 218.18 Z\" fill=\"#000000\" fill-rule=\"evenodd\" fill-opacity=\"1\" /><polyline clip-path=\"url(#clip000)\" style=\"stroke:#3da44d; stroke-width:4; stroke-opacity:1; fill:none\" points=\"\n",
       "  1719.35,276.658 1866.92,276.658 \n",
       "  \"/>\n",
       "<path clip-path=\"url(#clip000)\" d=\"M 0 0 M1912.03 269.007 L1912.03 272.989 Q1910.22 271.993 1908.39 271.507 Q1906.59 270.998 1904.74 270.998 Q1900.59 270.998 1898.3 273.637 Q1896.01 276.252 1896.01 280.998 Q1896.01 285.743 1898.3 288.382 Q1900.59 290.998 1904.74 290.998 Q1906.59 290.998 1908.39 290.512 Q1910.22 290.002 1912.03 289.007 L1912.03 292.942 Q1910.24 293.776 1908.32 294.192 Q1906.43 294.609 1904.27 294.609 Q1898.42 294.609 1894.97 290.928 Q1891.52 287.248 1891.52 280.998 Q1891.52 274.655 1894.99 271.021 Q1898.49 267.387 1904.55 267.387 Q1906.52 267.387 1908.39 267.803 Q1910.27 268.197 1912.03 269.007 Z\" fill=\"#000000\" fill-rule=\"evenodd\" fill-opacity=\"1\" /><path clip-path=\"url(#clip000)\" d=\"M 0 0 M1938.05 278.289 L1938.05 293.938 L1933.79 293.938 L1933.79 278.428 Q1933.79 274.748 1932.35 272.919 Q1930.92 271.09 1928.05 271.09 Q1924.6 271.09 1922.61 273.29 Q1920.62 275.489 1920.62 279.285 L1920.62 293.938 L1916.33 293.938 L1916.33 257.919 L1920.62 257.919 L1920.62 272.04 Q1922.14 269.702 1924.2 268.544 Q1926.29 267.387 1928.99 267.387 Q1933.46 267.387 1935.75 270.165 Q1938.05 272.919 1938.05 278.289 Z\" fill=\"#000000\" fill-rule=\"evenodd\" fill-opacity=\"1\" /><path clip-path=\"url(#clip000)\" d=\"M 0 0 M1952.56 270.998 Q1949.13 270.998 1947.14 273.683 Q1945.15 276.345 1945.15 280.998 Q1945.15 285.651 1947.12 288.336 Q1949.11 290.998 1952.56 290.998 Q1955.96 290.998 1957.95 288.313 Q1959.94 285.627 1959.94 280.998 Q1959.94 276.391 1957.95 273.706 Q1955.96 270.998 1952.56 270.998 M1952.56 267.387 Q1958.11 267.387 1961.29 270.998 Q1964.46 274.609 1964.46 280.998 Q1964.46 287.364 1961.29 290.998 Q1958.11 294.609 1952.56 294.609 Q1946.98 294.609 1943.81 290.998 Q1940.66 287.364 1940.66 280.998 Q1940.66 274.609 1943.81 270.998 Q1946.98 267.387 1952.56 267.387 Z\" fill=\"#000000\" fill-rule=\"evenodd\" fill-opacity=\"1\" /><path clip-path=\"url(#clip000)\" d=\"M 0 0 M1983.95 271.993 Q1983.23 271.577 1982.37 271.391 Q1981.54 271.183 1980.52 271.183 Q1976.91 271.183 1974.97 273.544 Q1973.05 275.882 1973.05 280.28 L1973.05 293.938 L1968.76 293.938 L1968.76 268.012 L1973.05 268.012 L1973.05 272.04 Q1974.39 269.678 1976.54 268.544 Q1978.69 267.387 1981.77 267.387 Q1982.21 267.387 1982.74 267.456 Q1983.28 267.503 1983.92 267.618 L1983.95 271.993 Z\" fill=\"#000000\" fill-rule=\"evenodd\" fill-opacity=\"1\" /><path clip-path=\"url(#clip000)\" d=\"M 0 0 M2009.55 279.91 L2009.55 281.993 L1989.97 281.993 Q1990.24 286.391 1992.61 288.706 Q1994.99 290.998 1999.23 290.998 Q2001.68 290.998 2003.97 290.396 Q2006.29 289.794 2008.55 288.59 L2008.55 292.618 Q2006.26 293.59 2003.86 294.1 Q2001.45 294.609 1998.97 294.609 Q1992.77 294.609 1989.13 290.998 Q1985.52 287.387 1985.52 281.229 Q1985.52 274.864 1988.95 271.137 Q1992.4 267.387 1998.23 267.387 Q2003.46 267.387 2006.49 270.766 Q2009.55 274.123 2009.55 279.91 M2005.29 278.66 Q2005.24 275.165 2003.32 273.081 Q2001.42 270.998 1998.28 270.998 Q1994.71 270.998 1992.56 273.012 Q1990.43 275.026 1990.11 278.683 L2005.29 278.66 Z\" fill=\"#000000\" fill-rule=\"evenodd\" fill-opacity=\"1\" /><path clip-path=\"url(#clip000)\" d=\"M 0 0 M2046.15 280.674 Q2046.15 276.044 2044.23 273.498 Q2042.33 270.952 2038.88 270.952 Q2035.45 270.952 2033.53 273.498 Q2031.63 276.044 2031.63 280.674 Q2031.63 285.28 2033.53 287.826 Q2035.45 290.373 2038.88 290.373 Q2042.33 290.373 2044.23 287.826 Q2046.15 285.28 2046.15 280.674 M2050.41 290.72 Q2050.41 297.34 2047.47 300.558 Q2044.53 303.799 2038.46 303.799 Q2036.22 303.799 2034.23 303.451 Q2032.23 303.127 2030.36 302.433 L2030.36 298.289 Q2032.23 299.308 2034.06 299.794 Q2035.89 300.28 2037.79 300.28 Q2041.98 300.28 2044.06 298.081 Q2046.15 295.905 2046.15 291.484 L2046.15 289.377 Q2044.83 291.669 2042.77 292.803 Q2040.71 293.938 2037.84 293.938 Q2033.07 293.938 2030.15 290.303 Q2027.23 286.669 2027.23 280.674 Q2027.23 274.655 2030.15 271.021 Q2033.07 267.387 2037.84 267.387 Q2040.71 267.387 2042.77 268.521 Q2044.83 269.655 2046.15 271.947 L2046.15 268.012 L2050.41 268.012 L2050.41 290.72 Z\" fill=\"#000000\" fill-rule=\"evenodd\" fill-opacity=\"1\" /><path clip-path=\"url(#clip000)\" d=\"M 0 0 M2064.92 270.998 Q2061.49 270.998 2059.5 273.683 Q2057.51 276.345 2057.51 280.998 Q2057.51 285.651 2059.48 288.336 Q2061.47 290.998 2064.92 290.998 Q2068.32 290.998 2070.31 288.313 Q2072.3 285.627 2072.3 280.998 Q2072.3 276.391 2070.31 273.706 Q2068.32 270.998 2064.92 270.998 M2064.92 267.387 Q2070.48 267.387 2073.65 270.998 Q2076.82 274.609 2076.82 280.998 Q2076.82 287.364 2073.65 290.998 Q2070.48 294.609 2064.92 294.609 Q2059.34 294.609 2056.17 290.998 Q2053.02 287.364 2053.02 280.998 Q2053.02 274.609 2056.17 270.998 Q2059.34 267.387 2064.92 267.387 Z\" fill=\"#000000\" fill-rule=\"evenodd\" fill-opacity=\"1\" /><path clip-path=\"url(#clip000)\" d=\"M 0 0 M2081.42 257.919 L2085.68 257.919 L2085.68 271.854 L2088.58 269.771 L2090.34 272.225 L2085.68 275.489 L2085.68 293.938 L2081.42 293.938 L2081.42 278.521 L2078.58 280.558 L2076.86 278.104 L2081.42 274.84 L2081.42 257.919 Z\" fill=\"#000000\" fill-rule=\"evenodd\" fill-opacity=\"1\" /><path clip-path=\"url(#clip000)\" d=\"M 0 0 M2116.98 279.91 L2116.98 281.993 L2097.4 281.993 Q2097.67 286.391 2100.04 288.706 Q2102.42 290.998 2106.66 290.998 Q2109.11 290.998 2111.4 290.396 Q2113.72 289.794 2115.98 288.59 L2115.98 292.618 Q2113.69 293.59 2111.29 294.1 Q2108.88 294.609 2106.4 294.609 Q2100.2 294.609 2096.56 290.998 Q2092.95 287.387 2092.95 281.229 Q2092.95 274.864 2096.38 271.137 Q2099.83 267.387 2105.66 267.387 Q2110.89 267.387 2113.92 270.766 Q2116.98 274.123 2116.98 279.91 M2112.72 278.66 Q2112.67 275.165 2110.75 273.081 Q2108.85 270.998 2105.71 270.998 Q2102.14 270.998 2099.99 273.012 Q2097.86 275.026 2097.54 278.683 L2112.72 278.66 M2109.23 293.938 L2111.98 293.938 Q2110.94 295.35 2110.43 296.368 Q2109.94 297.387 2109.94 298.104 Q2109.94 299.169 2110.57 299.701 Q2111.22 300.234 2112.47 300.234 Q2113.21 300.234 2113.92 300.049 Q2114.64 299.887 2115.36 299.539 L2115.36 302.618 Q2114.48 302.85 2113.69 302.965 Q2112.91 303.081 2112.21 303.081 Q2109.39 303.081 2108.04 302.063 Q2106.73 301.067 2106.73 298.914 Q2106.73 297.803 2107.33 296.576 Q2107.95 295.373 2109.23 293.938 Z\" fill=\"#000000\" fill-rule=\"evenodd\" fill-opacity=\"1\" /><path clip-path=\"url(#clip000)\" d=\"M 0 0 M2140.06 280.998 Q2140.06 276.299 2138.11 273.637 Q2136.19 270.952 2132.81 270.952 Q2129.43 270.952 2127.49 273.637 Q2125.57 276.299 2125.57 280.998 Q2125.57 285.697 2127.49 288.382 Q2129.43 291.044 2132.81 291.044 Q2136.19 291.044 2138.11 288.382 Q2140.06 285.697 2140.06 280.998 M2125.57 271.947 Q2126.91 269.632 2128.95 268.521 Q2131.01 267.387 2133.85 267.387 Q2138.58 267.387 2141.52 271.137 Q2144.48 274.887 2144.48 280.998 Q2144.48 287.109 2141.52 290.859 Q2138.58 294.609 2133.85 294.609 Q2131.01 294.609 2128.95 293.498 Q2126.91 292.363 2125.57 290.049 L2125.57 293.938 L2121.29 293.938 L2121.29 257.919 L2125.57 257.919 L2125.57 271.947 Z\" fill=\"#000000\" fill-rule=\"evenodd\" fill-opacity=\"1\" /><path clip-path=\"url(#clip000)\" d=\"M 0 0 M2148.95 268.012 L2153.21 268.012 L2153.21 293.938 L2148.95 293.938 L2148.95 268.012 M2148.95 257.919 L2153.21 257.919 L2153.21 263.313 L2148.95 263.313 L2148.95 257.919 Z\" fill=\"#000000\" fill-rule=\"evenodd\" fill-opacity=\"1\" /><path clip-path=\"url(#clip000)\" d=\"M 0 0 M2179.85 279.91 L2179.85 281.993 L2160.27 281.993 Q2160.54 286.391 2162.91 288.706 Q2165.29 290.998 2169.53 290.998 Q2171.98 290.998 2174.27 290.396 Q2176.59 289.794 2178.85 288.59 L2178.85 292.618 Q2176.56 293.59 2174.16 294.1 Q2171.75 294.609 2169.27 294.609 Q2163.07 294.609 2159.43 290.998 Q2155.82 287.387 2155.82 281.229 Q2155.82 274.864 2159.25 271.137 Q2162.7 267.387 2168.53 267.387 Q2173.76 267.387 2176.79 270.766 Q2179.85 274.123 2179.85 279.91 M2175.59 278.66 Q2175.54 275.165 2173.62 273.081 Q2171.72 270.998 2168.58 270.998 Q2165.01 270.998 2162.86 273.012 Q2160.73 275.026 2160.41 278.683 L2175.59 278.66 Z\" fill=\"#000000\" fill-rule=\"evenodd\" fill-opacity=\"1\" /><polyline clip-path=\"url(#clip000)\" style=\"stroke:#c271d2; stroke-width:4; stroke-opacity:1; fill:none\" points=\"\n",
       "  1719.35,337.138 1866.92,337.138 \n",
       "  \"/>\n",
       "<path clip-path=\"url(#clip000)\" d=\"M 0 0 M1912.03 329.487 L1912.03 333.469 Q1910.22 332.473 1908.39 331.987 Q1906.59 331.478 1904.74 331.478 Q1900.59 331.478 1898.3 334.117 Q1896.01 336.732 1896.01 341.478 Q1896.01 346.223 1898.3 348.862 Q1900.59 351.478 1904.74 351.478 Q1906.59 351.478 1908.39 350.992 Q1910.22 350.482 1912.03 349.487 L1912.03 353.422 Q1910.24 354.256 1908.32 354.672 Q1906.43 355.089 1904.27 355.089 Q1898.42 355.089 1894.97 351.408 Q1891.52 347.728 1891.52 341.478 Q1891.52 335.135 1894.99 331.501 Q1898.49 327.867 1904.55 327.867 Q1906.52 327.867 1908.39 328.283 Q1910.27 328.677 1912.03 329.487 Z\" fill=\"#000000\" fill-rule=\"evenodd\" fill-opacity=\"1\" /><path clip-path=\"url(#clip000)\" d=\"M 0 0 M1938.05 338.769 L1938.05 354.418 L1933.79 354.418 L1933.79 338.908 Q1933.79 335.228 1932.35 333.399 Q1930.92 331.57 1928.05 331.57 Q1924.6 331.57 1922.61 333.77 Q1920.62 335.969 1920.62 339.765 L1920.62 354.418 L1916.33 354.418 L1916.33 318.399 L1920.62 318.399 L1920.62 332.52 Q1922.14 330.182 1924.2 329.024 Q1926.29 327.867 1928.99 327.867 Q1933.46 327.867 1935.75 330.645 Q1938.05 333.399 1938.05 338.769 Z\" fill=\"#000000\" fill-rule=\"evenodd\" fill-opacity=\"1\" /><path clip-path=\"url(#clip000)\" d=\"M 0 0 M1952.56 331.478 Q1949.13 331.478 1947.14 334.163 Q1945.15 336.825 1945.15 341.478 Q1945.15 346.131 1947.12 348.816 Q1949.11 351.478 1952.56 351.478 Q1955.96 351.478 1957.95 348.793 Q1959.94 346.107 1959.94 341.478 Q1959.94 336.871 1957.95 334.186 Q1955.96 331.478 1952.56 331.478 M1952.56 327.867 Q1958.11 327.867 1961.29 331.478 Q1964.46 335.089 1964.46 341.478 Q1964.46 347.844 1961.29 351.478 Q1958.11 355.089 1952.56 355.089 Q1946.98 355.089 1943.81 351.478 Q1940.66 347.844 1940.66 341.478 Q1940.66 335.089 1943.81 331.478 Q1946.98 327.867 1952.56 327.867 Z\" fill=\"#000000\" fill-rule=\"evenodd\" fill-opacity=\"1\" /><path clip-path=\"url(#clip000)\" d=\"M 0 0 M1983.95 332.473 Q1983.23 332.057 1982.37 331.871 Q1981.54 331.663 1980.52 331.663 Q1976.91 331.663 1974.97 334.024 Q1973.05 336.362 1973.05 340.76 L1973.05 354.418 L1968.76 354.418 L1968.76 328.492 L1973.05 328.492 L1973.05 332.52 Q1974.39 330.158 1976.54 329.024 Q1978.69 327.867 1981.77 327.867 Q1982.21 327.867 1982.74 327.936 Q1983.28 327.983 1983.92 328.098 L1983.95 332.473 Z\" fill=\"#000000\" fill-rule=\"evenodd\" fill-opacity=\"1\" /><path clip-path=\"url(#clip000)\" d=\"M 0 0 M2009.55 340.39 L2009.55 342.473 L1989.97 342.473 Q1990.24 346.871 1992.61 349.186 Q1994.99 351.478 1999.23 351.478 Q2001.68 351.478 2003.97 350.876 Q2006.29 350.274 2008.55 349.07 L2008.55 353.098 Q2006.26 354.07 2003.86 354.58 Q2001.45 355.089 1998.97 355.089 Q1992.77 355.089 1989.13 351.478 Q1985.52 347.867 1985.52 341.709 Q1985.52 335.344 1988.95 331.617 Q1992.4 327.867 1998.23 327.867 Q2003.46 327.867 2006.49 331.246 Q2009.55 334.603 2009.55 340.39 M2005.29 339.14 Q2005.24 335.645 2003.32 333.561 Q2001.42 331.478 1998.28 331.478 Q1994.71 331.478 1992.56 333.492 Q1990.43 335.506 1990.11 339.163 L2005.29 339.14 Z\" fill=\"#000000\" fill-rule=\"evenodd\" fill-opacity=\"1\" /><path clip-path=\"url(#clip000)\" d=\"M 0 0 M2029.09 328.492 L2033.35 328.492 L2033.35 354.881 Q2033.35 359.834 2031.45 362.056 Q2029.57 364.279 2025.38 364.279 L2023.76 364.279 L2023.76 360.668 L2024.9 360.668 Q2027.33 360.668 2028.21 359.533 Q2029.09 358.422 2029.09 354.881 L2029.09 328.492 M2029.09 318.399 L2033.35 318.399 L2033.35 323.793 L2029.09 323.793 L2029.09 318.399 Z\" fill=\"#000000\" fill-rule=\"evenodd\" fill-opacity=\"1\" /><path clip-path=\"url(#clip000)\" d=\"M 0 0 M2049.6 341.385 Q2044.43 341.385 2042.44 342.566 Q2040.45 343.746 2040.45 346.594 Q2040.45 348.862 2041.93 350.205 Q2043.44 351.524 2046.01 351.524 Q2049.55 351.524 2051.68 349.024 Q2053.83 346.501 2053.83 342.334 L2053.83 341.385 L2049.6 341.385 M2058.09 339.626 L2058.09 354.418 L2053.83 354.418 L2053.83 350.482 Q2052.37 352.843 2050.2 353.978 Q2048.02 355.089 2044.87 355.089 Q2040.89 355.089 2038.53 352.867 Q2036.19 350.621 2036.19 346.871 Q2036.19 342.496 2039.11 340.274 Q2042.05 338.052 2047.86 338.052 L2053.83 338.052 L2053.83 337.635 Q2053.83 334.695 2051.89 333.098 Q2049.97 331.478 2046.47 331.478 Q2044.25 331.478 2042.14 332.01 Q2040.04 332.543 2038.09 333.607 L2038.09 329.672 Q2040.43 328.77 2042.63 328.33 Q2044.83 327.867 2046.91 327.867 Q2052.54 327.867 2055.31 330.783 Q2058.09 333.7 2058.09 339.626 Z\" fill=\"#000000\" fill-rule=\"evenodd\" fill-opacity=\"1\" /><path clip-path=\"url(#clip000)\" d=\"M 0 0 M2079.09 329.256 L2079.09 333.283 Q2077.28 332.357 2075.34 331.895 Q2073.39 331.432 2071.31 331.432 Q2068.14 331.432 2066.54 332.404 Q2064.97 333.376 2064.97 335.32 Q2064.97 336.802 2066.1 337.658 Q2067.23 338.492 2070.66 339.256 L2072.12 339.58 Q2076.66 340.552 2078.55 342.334 Q2080.48 344.094 2080.48 347.265 Q2080.48 350.876 2077.6 352.982 Q2074.76 355.089 2069.76 355.089 Q2067.67 355.089 2065.41 354.672 Q2063.16 354.279 2060.66 353.468 L2060.66 349.07 Q2063.02 350.297 2065.31 350.922 Q2067.61 351.524 2069.85 351.524 Q2072.86 351.524 2074.48 350.506 Q2076.1 349.464 2076.1 347.589 Q2076.1 345.853 2074.92 344.927 Q2073.76 344.001 2069.8 343.144 L2068.32 342.797 Q2064.36 341.964 2062.61 340.251 Q2060.85 338.515 2060.85 335.506 Q2060.85 331.848 2063.44 329.858 Q2066.03 327.867 2070.8 327.867 Q2073.16 327.867 2075.24 328.214 Q2077.33 328.561 2079.09 329.256 Z\" fill=\"#000000\" fill-rule=\"evenodd\" fill-opacity=\"1\" /><path clip-path=\"url(#clip000)\" d=\"M 0 0 M2089.16 321.131 L2089.16 328.492 L2097.93 328.492 L2097.93 331.802 L2089.16 331.802 L2089.16 345.876 Q2089.16 349.047 2090.01 349.95 Q2090.89 350.853 2093.55 350.853 L2097.93 350.853 L2097.93 354.418 L2093.55 354.418 Q2088.62 354.418 2086.75 352.589 Q2084.87 350.737 2084.87 345.876 L2084.87 331.802 L2081.75 331.802 L2081.75 328.492 L2084.87 328.492 L2084.87 321.131 L2089.16 321.131 Z\" fill=\"#000000\" fill-rule=\"evenodd\" fill-opacity=\"1\" /><path clip-path=\"url(#clip000)\" d=\"M 0 0 M2117.42 332.473 Q2116.7 332.057 2115.85 331.871 Q2115.01 331.663 2113.99 331.663 Q2110.38 331.663 2108.44 334.024 Q2106.52 336.362 2106.52 340.76 L2106.52 354.418 L2102.23 354.418 L2102.23 328.492 L2106.52 328.492 L2106.52 332.52 Q2107.86 330.158 2110.01 329.024 Q2112.16 327.867 2115.24 327.867 Q2115.68 327.867 2116.22 327.936 Q2116.75 327.983 2117.4 328.098 L2117.42 332.473 Z\" fill=\"#000000\" fill-rule=\"evenodd\" fill-opacity=\"1\" /><path clip-path=\"url(#clip000)\" d=\"M 0 0 M2120.04 328.492 L2140.27 328.492 L2140.27 332.381 L2124.25 351.015 L2140.27 351.015 L2140.27 354.418 L2119.46 354.418 L2119.46 350.529 L2135.48 331.895 L2120.04 331.895 L2120.04 328.492 Z\" fill=\"#000000\" fill-rule=\"evenodd\" fill-opacity=\"1\" /><path clip-path=\"url(#clip000)\" d=\"M 0 0 M2166.91 340.39 L2166.91 342.473 L2147.33 342.473 Q2147.6 346.871 2149.97 349.186 Q2152.35 351.478 2156.59 351.478 Q2159.04 351.478 2161.33 350.876 Q2163.65 350.274 2165.91 349.07 L2165.91 353.098 Q2163.62 354.07 2161.22 354.58 Q2158.81 355.089 2156.33 355.089 Q2150.13 355.089 2146.49 351.478 Q2142.88 347.867 2142.88 341.709 Q2142.88 335.344 2146.31 331.617 Q2149.76 327.867 2155.59 327.867 Q2160.82 327.867 2163.85 331.246 Q2166.91 334.603 2166.91 340.39 M2162.65 339.14 Q2162.6 335.645 2160.68 333.561 Q2158.79 331.478 2155.64 331.478 Q2152.07 331.478 2149.92 333.492 Q2147.79 335.506 2147.47 339.163 L2162.65 339.14 M2159.16 354.418 L2161.91 354.418 Q2160.87 355.83 2160.36 356.848 Q2159.87 357.867 2159.87 358.584 Q2159.87 359.649 2160.5 360.181 Q2161.15 360.714 2162.4 360.714 Q2163.14 360.714 2163.85 360.529 Q2164.57 360.367 2165.29 360.019 L2165.29 363.098 Q2164.41 363.33 2163.62 363.445 Q2162.84 363.561 2162.14 363.561 Q2159.32 363.561 2157.97 362.543 Q2156.66 361.547 2156.66 359.394 Q2156.66 358.283 2157.26 357.056 Q2157.88 355.853 2159.16 354.418 Z\" fill=\"#000000\" fill-rule=\"evenodd\" fill-opacity=\"1\" /><path clip-path=\"url(#clip000)\" d=\"M 0 0 M2189.99 341.478 Q2189.99 336.779 2188.04 334.117 Q2186.12 331.432 2182.74 331.432 Q2179.36 331.432 2177.42 334.117 Q2175.5 336.779 2175.5 341.478 Q2175.5 346.177 2177.42 348.862 Q2179.36 351.524 2182.74 351.524 Q2186.12 351.524 2188.04 348.862 Q2189.99 346.177 2189.99 341.478 M2175.5 332.427 Q2176.84 330.112 2178.88 329.001 Q2180.94 327.867 2183.78 327.867 Q2188.51 327.867 2191.45 331.617 Q2194.41 335.367 2194.41 341.478 Q2194.41 347.589 2191.45 351.339 Q2188.51 355.089 2183.78 355.089 Q2180.94 355.089 2178.88 353.978 Q2176.84 352.843 2175.5 350.529 L2175.5 354.418 L2171.22 354.418 L2171.22 318.399 L2175.5 318.399 L2175.5 332.427 Z\" fill=\"#000000\" fill-rule=\"evenodd\" fill-opacity=\"1\" /><path clip-path=\"url(#clip000)\" d=\"M 0 0 M2198.88 328.492 L2203.14 328.492 L2203.14 354.418 L2198.88 354.418 L2198.88 328.492 M2198.88 318.399 L2203.14 318.399 L2203.14 323.793 L2198.88 323.793 L2198.88 318.399 Z\" fill=\"#000000\" fill-rule=\"evenodd\" fill-opacity=\"1\" /><path clip-path=\"url(#clip000)\" d=\"M 0 0 M2229.78 340.39 L2229.78 342.473 L2210.2 342.473 Q2210.47 346.871 2212.84 349.186 Q2215.22 351.478 2219.46 351.478 Q2221.91 351.478 2224.2 350.876 Q2226.52 350.274 2228.78 349.07 L2228.78 353.098 Q2226.49 354.07 2224.09 354.58 Q2221.68 355.089 2219.2 355.089 Q2213 355.089 2209.36 351.478 Q2205.75 347.867 2205.75 341.709 Q2205.75 335.344 2209.18 331.617 Q2212.63 327.867 2218.46 327.867 Q2223.69 327.867 2226.72 331.246 Q2229.78 334.603 2229.78 340.39 M2225.52 339.14 Q2225.47 335.645 2223.55 333.561 Q2221.66 331.478 2218.51 331.478 Q2214.94 331.478 2212.79 333.492 Q2210.66 335.506 2210.34 339.163 L2225.52 339.14 Z\" fill=\"#000000\" fill-rule=\"evenodd\" fill-opacity=\"1\" /></svg>\n"
      ]
     },
     "execution_count": 216,
     "metadata": {},
     "output_type": "execute_result"
    }
   ],
   "source": [
    "plot(1:size(dying)[1], dying[:,1], label=\"gołębie\")\n",
    "plot!(1:size(dying)[1], dying[:,2], label=\"jastrzębie\")\n",
    "plot!(1:size(dying)[1], dying[:,3], label=\"chore gołębie\")\n",
    "plot!(1:size(dying)[1], dying[:,4], label=\"chore jastrzębie\")"
   ]
  },
  {
   "cell_type": "code",
   "execution_count": 217,
   "metadata": {},
   "outputs": [
    {
     "data": {
      "image/svg+xml": [
       "<?xml version=\"1.0\" encoding=\"utf-8\"?>\n",
       "<svg xmlns=\"http://www.w3.org/2000/svg\" xmlns:xlink=\"http://www.w3.org/1999/xlink\" width=\"600\" height=\"400\" viewBox=\"0 0 2400 1600\">\n",
       "<defs>\n",
       "  <clipPath id=\"clip040\">\n",
       "    <rect x=\"0\" y=\"0\" width=\"2400\" height=\"1600\"/>\n",
       "  </clipPath>\n",
       "</defs>\n",
       "<path clip-path=\"url(#clip040)\" d=\"\n",
       "M0 1600 L2400 1600 L2400 0 L0 0  Z\n",
       "  \" fill=\"#ffffff\" fill-rule=\"evenodd\" fill-opacity=\"1\"/>\n",
       "<defs>\n",
       "  <clipPath id=\"clip041\">\n",
       "    <rect x=\"480\" y=\"0\" width=\"1681\" height=\"1600\"/>\n",
       "  </clipPath>\n",
       "</defs>\n",
       "<path clip-path=\"url(#clip040)\" d=\"\n",
       "M139.191 1486.45 L2352.76 1486.45 L2352.76 47.2441 L139.191 47.2441  Z\n",
       "  \" fill=\"#ffffff\" fill-rule=\"evenodd\" fill-opacity=\"1\"/>\n",
       "<defs>\n",
       "  <clipPath id=\"clip042\">\n",
       "    <rect x=\"139\" y=\"47\" width=\"2215\" height=\"1440\"/>\n",
       "  </clipPath>\n",
       "</defs>\n",
       "<polyline clip-path=\"url(#clip042)\" style=\"stroke:#000000; stroke-width:2; stroke-opacity:0.1; fill:none\" points=\"\n",
       "  159.221,1486.45 159.221,47.2441 \n",
       "  \"/>\n",
       "<polyline clip-path=\"url(#clip042)\" style=\"stroke:#000000; stroke-width:2; stroke-opacity:0.1; fill:none\" points=\"\n",
       "  585.399,1486.45 585.399,47.2441 \n",
       "  \"/>\n",
       "<polyline clip-path=\"url(#clip042)\" style=\"stroke:#000000; stroke-width:2; stroke-opacity:0.1; fill:none\" points=\"\n",
       "  1011.58,1486.45 1011.58,47.2441 \n",
       "  \"/>\n",
       "<polyline clip-path=\"url(#clip042)\" style=\"stroke:#000000; stroke-width:2; stroke-opacity:0.1; fill:none\" points=\"\n",
       "  1437.75,1486.45 1437.75,47.2441 \n",
       "  \"/>\n",
       "<polyline clip-path=\"url(#clip042)\" style=\"stroke:#000000; stroke-width:2; stroke-opacity:0.1; fill:none\" points=\"\n",
       "  1863.93,1486.45 1863.93,47.2441 \n",
       "  \"/>\n",
       "<polyline clip-path=\"url(#clip042)\" style=\"stroke:#000000; stroke-width:2; stroke-opacity:0.1; fill:none\" points=\"\n",
       "  2290.11,1486.45 2290.11,47.2441 \n",
       "  \"/>\n",
       "<polyline clip-path=\"url(#clip040)\" style=\"stroke:#000000; stroke-width:4; stroke-opacity:1; fill:none\" points=\"\n",
       "  139.191,1486.45 2352.76,1486.45 \n",
       "  \"/>\n",
       "<polyline clip-path=\"url(#clip040)\" style=\"stroke:#000000; stroke-width:4; stroke-opacity:1; fill:none\" points=\"\n",
       "  159.221,1486.45 159.221,1469.18 \n",
       "  \"/>\n",
       "<polyline clip-path=\"url(#clip040)\" style=\"stroke:#000000; stroke-width:4; stroke-opacity:1; fill:none\" points=\"\n",
       "  585.399,1486.45 585.399,1469.18 \n",
       "  \"/>\n",
       "<polyline clip-path=\"url(#clip040)\" style=\"stroke:#000000; stroke-width:4; stroke-opacity:1; fill:none\" points=\"\n",
       "  1011.58,1486.45 1011.58,1469.18 \n",
       "  \"/>\n",
       "<polyline clip-path=\"url(#clip040)\" style=\"stroke:#000000; stroke-width:4; stroke-opacity:1; fill:none\" points=\"\n",
       "  1437.75,1486.45 1437.75,1469.18 \n",
       "  \"/>\n",
       "<polyline clip-path=\"url(#clip040)\" style=\"stroke:#000000; stroke-width:4; stroke-opacity:1; fill:none\" points=\"\n",
       "  1863.93,1486.45 1863.93,1469.18 \n",
       "  \"/>\n",
       "<polyline clip-path=\"url(#clip040)\" style=\"stroke:#000000; stroke-width:4; stroke-opacity:1; fill:none\" points=\"\n",
       "  2290.11,1486.45 2290.11,1469.18 \n",
       "  \"/>\n",
       "<path clip-path=\"url(#clip040)\" d=\"M 0 0 M159.221 1515.64 Q155.61 1515.64 153.781 1519.2 Q151.976 1522.75 151.976 1529.87 Q151.976 1536.98 153.781 1540.55 Q155.61 1544.09 159.221 1544.09 Q162.855 1544.09 164.661 1540.55 Q166.49 1536.98 166.49 1529.87 Q166.49 1522.75 164.661 1519.2 Q162.855 1515.64 159.221 1515.64 M159.221 1511.93 Q165.031 1511.93 168.087 1516.54 Q171.166 1521.12 171.166 1529.87 Q171.166 1538.6 168.087 1543.21 Q165.031 1547.79 159.221 1547.79 Q153.411 1547.79 150.332 1543.21 Q147.277 1538.6 147.277 1529.87 Q147.277 1521.12 150.332 1516.54 Q153.411 1511.93 159.221 1511.93 Z\" fill=\"#000000\" fill-rule=\"evenodd\" fill-opacity=\"1\" /><path clip-path=\"url(#clip040)\" d=\"M 0 0 M562.274 1543.18 L569.913 1543.18 L569.913 1516.82 L561.602 1518.49 L561.602 1514.23 L569.866 1512.56 L574.542 1512.56 L574.542 1543.18 L582.181 1543.18 L582.181 1547.12 L562.274 1547.12 L562.274 1543.18 Z\" fill=\"#000000\" fill-rule=\"evenodd\" fill-opacity=\"1\" /><path clip-path=\"url(#clip040)\" d=\"M 0 0 M597.25 1515.64 Q593.639 1515.64 591.811 1519.2 Q590.005 1522.75 590.005 1529.87 Q590.005 1536.98 591.811 1540.55 Q593.639 1544.09 597.25 1544.09 Q600.885 1544.09 602.69 1540.55 Q604.519 1536.98 604.519 1529.87 Q604.519 1522.75 602.69 1519.2 Q600.885 1515.64 597.25 1515.64 M597.25 1511.93 Q603.061 1511.93 606.116 1516.54 Q609.195 1521.12 609.195 1529.87 Q609.195 1538.6 606.116 1543.21 Q603.061 1547.79 597.25 1547.79 Q591.44 1547.79 588.362 1543.21 Q585.306 1538.6 585.306 1529.87 Q585.306 1521.12 588.362 1516.54 Q591.44 1511.93 597.25 1511.93 Z\" fill=\"#000000\" fill-rule=\"evenodd\" fill-opacity=\"1\" /><path clip-path=\"url(#clip040)\" d=\"M 0 0 M992.722 1543.18 L1009.04 1543.18 L1009.04 1547.12 L987.097 1547.12 L987.097 1543.18 Q989.759 1540.43 994.342 1535.8 Q998.949 1531.15 1000.13 1529.81 Q1002.37 1527.28 1003.25 1525.55 Q1004.16 1523.79 1004.16 1522.1 Q1004.16 1519.34 1002.21 1517.61 Q1000.29 1515.87 997.189 1515.87 Q994.99 1515.87 992.537 1516.63 Q990.106 1517.4 987.328 1518.95 L987.328 1514.23 Q990.152 1513.09 992.606 1512.51 Q995.06 1511.93 997.097 1511.93 Q1002.47 1511.93 1005.66 1514.62 Q1008.86 1517.31 1008.86 1521.8 Q1008.86 1523.93 1008.05 1525.85 Q1007.26 1527.74 1005.15 1530.34 Q1004.57 1531.01 1001.47 1534.23 Q998.37 1537.42 992.722 1543.18 Z\" fill=\"#000000\" fill-rule=\"evenodd\" fill-opacity=\"1\" /><path clip-path=\"url(#clip040)\" d=\"M 0 0 M1024.11 1515.64 Q1020.5 1515.64 1018.67 1519.2 Q1016.87 1522.75 1016.87 1529.87 Q1016.87 1536.98 1018.67 1540.55 Q1020.5 1544.09 1024.11 1544.09 Q1027.74 1544.09 1029.55 1540.55 Q1031.38 1536.98 1031.38 1529.87 Q1031.38 1522.75 1029.55 1519.2 Q1027.74 1515.64 1024.11 1515.64 M1024.11 1511.93 Q1029.92 1511.93 1032.98 1516.54 Q1036.05 1521.12 1036.05 1529.87 Q1036.05 1538.6 1032.98 1543.21 Q1029.92 1547.79 1024.11 1547.79 Q1018.3 1547.79 1015.22 1543.21 Q1012.17 1538.6 1012.17 1529.87 Q1012.17 1521.12 1015.22 1516.54 Q1018.3 1511.93 1024.11 1511.93 Z\" fill=\"#000000\" fill-rule=\"evenodd\" fill-opacity=\"1\" /><path clip-path=\"url(#clip040)\" d=\"M 0 0 M1428.49 1528.49 Q1431.85 1529.2 1433.73 1531.47 Q1435.62 1533.74 1435.62 1537.07 Q1435.62 1542.19 1432.11 1544.99 Q1428.59 1547.79 1422.11 1547.79 Q1419.93 1547.79 1417.61 1547.35 Q1415.32 1546.93 1412.87 1546.08 L1412.87 1541.56 Q1414.81 1542.7 1417.13 1543.28 Q1419.44 1543.86 1421.97 1543.86 Q1426.36 1543.86 1428.66 1542.12 Q1430.97 1540.38 1430.97 1537.07 Q1430.97 1534.02 1428.82 1532.31 Q1426.69 1530.57 1422.87 1530.57 L1418.84 1530.57 L1418.84 1526.73 L1423.05 1526.73 Q1426.5 1526.73 1428.33 1525.36 Q1430.16 1523.97 1430.16 1521.38 Q1430.16 1518.72 1428.26 1517.31 Q1426.39 1515.87 1422.87 1515.87 Q1420.95 1515.87 1418.75 1516.29 Q1416.55 1516.7 1413.91 1517.58 L1413.91 1513.42 Q1416.57 1512.68 1418.89 1512.31 Q1421.23 1511.93 1423.29 1511.93 Q1428.61 1511.93 1431.71 1514.37 Q1434.81 1516.77 1434.81 1520.89 Q1434.81 1523.76 1433.17 1525.75 Q1431.53 1527.72 1428.49 1528.49 Z\" fill=\"#000000\" fill-rule=\"evenodd\" fill-opacity=\"1\" /><path clip-path=\"url(#clip040)\" d=\"M 0 0 M1450.69 1515.64 Q1447.08 1515.64 1445.25 1519.2 Q1443.45 1522.75 1443.45 1529.87 Q1443.45 1536.98 1445.25 1540.55 Q1447.08 1544.09 1450.69 1544.09 Q1454.33 1544.09 1456.13 1540.55 Q1457.96 1536.98 1457.96 1529.87 Q1457.96 1522.75 1456.13 1519.2 Q1454.33 1515.64 1450.69 1515.64 M1450.69 1511.93 Q1456.5 1511.93 1459.56 1516.54 Q1462.64 1521.12 1462.64 1529.87 Q1462.64 1538.6 1459.56 1543.21 Q1456.5 1547.79 1450.69 1547.79 Q1444.88 1547.79 1441.8 1543.21 Q1438.75 1538.6 1438.75 1529.87 Q1438.75 1521.12 1441.8 1516.54 Q1444.88 1511.93 1450.69 1511.93 Z\" fill=\"#000000\" fill-rule=\"evenodd\" fill-opacity=\"1\" /><path clip-path=\"url(#clip040)\" d=\"M 0 0 M1853.43 1516.63 L1841.63 1535.08 L1853.43 1535.08 L1853.43 1516.63 M1852.21 1512.56 L1858.09 1512.56 L1858.09 1535.08 L1863.02 1535.08 L1863.02 1538.97 L1858.09 1538.97 L1858.09 1547.12 L1853.43 1547.12 L1853.43 1538.97 L1837.83 1538.97 L1837.83 1534.46 L1852.21 1512.56 Z\" fill=\"#000000\" fill-rule=\"evenodd\" fill-opacity=\"1\" /><path clip-path=\"url(#clip040)\" d=\"M 0 0 M1878.09 1515.64 Q1874.47 1515.64 1872.65 1519.2 Q1870.84 1522.75 1870.84 1529.87 Q1870.84 1536.98 1872.65 1540.55 Q1874.47 1544.09 1878.09 1544.09 Q1881.72 1544.09 1883.53 1540.55 Q1885.35 1536.98 1885.35 1529.87 Q1885.35 1522.75 1883.53 1519.2 Q1881.72 1515.64 1878.09 1515.64 M1878.09 1511.93 Q1883.9 1511.93 1886.95 1516.54 Q1890.03 1521.12 1890.03 1529.87 Q1890.03 1538.6 1886.95 1543.21 Q1883.9 1547.79 1878.09 1547.79 Q1872.28 1547.79 1869.2 1543.21 Q1866.14 1538.6 1866.14 1529.87 Q1866.14 1521.12 1869.2 1516.54 Q1872.28 1511.93 1878.09 1511.93 Z\" fill=\"#000000\" fill-rule=\"evenodd\" fill-opacity=\"1\" /><path clip-path=\"url(#clip040)\" d=\"M 0 0 M2266.88 1512.56 L2285.24 1512.56 L2285.24 1516.5 L2271.16 1516.5 L2271.16 1524.97 Q2272.18 1524.62 2273.2 1524.46 Q2274.22 1524.27 2275.24 1524.27 Q2281.02 1524.27 2284.4 1527.44 Q2287.78 1530.62 2287.78 1536.03 Q2287.78 1541.61 2284.31 1544.71 Q2280.84 1547.79 2274.52 1547.79 Q2272.34 1547.79 2270.07 1547.42 Q2267.83 1547.05 2265.42 1546.31 L2265.42 1541.61 Q2267.5 1542.74 2269.73 1543.3 Q2271.95 1543.86 2274.43 1543.86 Q2278.43 1543.86 2280.77 1541.75 Q2283.11 1539.64 2283.11 1536.03 Q2283.11 1532.42 2280.77 1530.31 Q2278.43 1528.21 2274.43 1528.21 Q2272.55 1528.21 2270.68 1528.62 Q2268.82 1529.04 2266.88 1529.92 L2266.88 1512.56 Z\" fill=\"#000000\" fill-rule=\"evenodd\" fill-opacity=\"1\" /><path clip-path=\"url(#clip040)\" d=\"M 0 0 M2302.85 1515.64 Q2299.24 1515.64 2297.41 1519.2 Q2295.61 1522.75 2295.61 1529.87 Q2295.61 1536.98 2297.41 1540.55 Q2299.24 1544.09 2302.85 1544.09 Q2306.49 1544.09 2308.29 1540.55 Q2310.12 1536.98 2310.12 1529.87 Q2310.12 1522.75 2308.29 1519.2 Q2306.49 1515.64 2302.85 1515.64 M2302.85 1511.93 Q2308.66 1511.93 2311.72 1516.54 Q2314.8 1521.12 2314.8 1529.87 Q2314.8 1538.6 2311.72 1543.21 Q2308.66 1547.79 2302.85 1547.79 Q2297.04 1547.79 2293.96 1543.21 Q2290.91 1538.6 2290.91 1529.87 Q2290.91 1521.12 2293.96 1516.54 Q2297.04 1511.93 2302.85 1511.93 Z\" fill=\"#000000\" fill-rule=\"evenodd\" fill-opacity=\"1\" /><polyline clip-path=\"url(#clip042)\" style=\"stroke:#000000; stroke-width:2; stroke-opacity:0.1; fill:none\" points=\"\n",
       "  139.191,1263.58 2352.76,1263.58 \n",
       "  \"/>\n",
       "<polyline clip-path=\"url(#clip042)\" style=\"stroke:#000000; stroke-width:2; stroke-opacity:0.1; fill:none\" points=\"\n",
       "  139.191,932.424 2352.76,932.424 \n",
       "  \"/>\n",
       "<polyline clip-path=\"url(#clip042)\" style=\"stroke:#000000; stroke-width:2; stroke-opacity:0.1; fill:none\" points=\"\n",
       "  139.191,601.268 2352.76,601.268 \n",
       "  \"/>\n",
       "<polyline clip-path=\"url(#clip042)\" style=\"stroke:#000000; stroke-width:2; stroke-opacity:0.1; fill:none\" points=\"\n",
       "  139.191,270.112 2352.76,270.112 \n",
       "  \"/>\n",
       "<polyline clip-path=\"url(#clip040)\" style=\"stroke:#000000; stroke-width:4; stroke-opacity:1; fill:none\" points=\"\n",
       "  139.191,1486.45 139.191,47.2441 \n",
       "  \"/>\n",
       "<polyline clip-path=\"url(#clip040)\" style=\"stroke:#000000; stroke-width:4; stroke-opacity:1; fill:none\" points=\"\n",
       "  139.191,1263.58 165.754,1263.58 \n",
       "  \"/>\n",
       "<polyline clip-path=\"url(#clip040)\" style=\"stroke:#000000; stroke-width:4; stroke-opacity:1; fill:none\" points=\"\n",
       "  139.191,932.424 165.754,932.424 \n",
       "  \"/>\n",
       "<polyline clip-path=\"url(#clip040)\" style=\"stroke:#000000; stroke-width:4; stroke-opacity:1; fill:none\" points=\"\n",
       "  139.191,601.268 165.754,601.268 \n",
       "  \"/>\n",
       "<polyline clip-path=\"url(#clip040)\" style=\"stroke:#000000; stroke-width:4; stroke-opacity:1; fill:none\" points=\"\n",
       "  139.191,270.112 165.754,270.112 \n",
       "  \"/>\n",
       "<path clip-path=\"url(#clip040)\" d=\"M 0 0 M59.8578 1276.92 L76.1772 1276.92 L76.1772 1280.86 L54.2328 1280.86 L54.2328 1276.92 Q56.8949 1274.17 61.4782 1269.54 Q66.0846 1264.89 67.2652 1263.55 Q69.5105 1261.02 70.3902 1259.29 Q71.2929 1257.53 71.2929 1255.84 Q71.2929 1253.08 69.3485 1251.35 Q67.4272 1249.61 64.3254 1249.61 Q62.1263 1249.61 59.6726 1250.37 Q57.2421 1251.14 54.4643 1252.69 L54.4643 1247.97 Q57.2884 1246.83 59.7421 1246.25 Q62.1958 1245.67 64.2328 1245.67 Q69.6031 1245.67 72.7976 1248.36 Q75.992 1251.05 75.992 1255.54 Q75.992 1257.67 75.1818 1259.59 Q74.3948 1261.49 72.2883 1264.08 Q71.7096 1264.75 68.6078 1267.97 Q65.5059 1271.16 59.8578 1276.92 Z\" fill=\"#000000\" fill-rule=\"evenodd\" fill-opacity=\"1\" /><path clip-path=\"url(#clip040)\" d=\"M 0 0 M91.2465 1249.38 Q87.6354 1249.38 85.8068 1252.94 Q84.0012 1256.49 84.0012 1263.61 Q84.0012 1270.72 85.8068 1274.29 Q87.6354 1277.83 91.2465 1277.83 Q94.8808 1277.83 96.6863 1274.29 Q98.515 1270.72 98.515 1263.61 Q98.515 1256.49 96.6863 1252.94 Q94.8808 1249.38 91.2465 1249.38 M91.2465 1245.67 Q97.0567 1245.67 100.112 1250.28 Q103.191 1254.86 103.191 1263.61 Q103.191 1272.34 100.112 1276.95 Q97.0567 1281.53 91.2465 1281.53 Q85.4364 1281.53 82.3577 1276.95 Q79.3022 1272.34 79.3022 1263.61 Q79.3022 1254.86 82.3577 1250.28 Q85.4364 1245.67 91.2465 1245.67 Z\" fill=\"#000000\" fill-rule=\"evenodd\" fill-opacity=\"1\" /><path clip-path=\"url(#clip040)\" d=\"M 0 0 M66.5939 919.218 L54.7884 937.667 L66.5939 937.667 L66.5939 919.218 M65.367 915.144 L71.2466 915.144 L71.2466 937.667 L76.1772 937.667 L76.1772 941.556 L71.2466 941.556 L71.2466 949.704 L66.5939 949.704 L66.5939 941.556 L50.9921 941.556 L50.9921 937.042 L65.367 915.144 Z\" fill=\"#000000\" fill-rule=\"evenodd\" fill-opacity=\"1\" /><path clip-path=\"url(#clip040)\" d=\"M 0 0 M91.2465 918.223 Q87.6354 918.223 85.8068 921.787 Q84.0012 925.329 84.0012 932.459 Q84.0012 939.565 85.8068 943.13 Q87.6354 946.672 91.2465 946.672 Q94.8808 946.672 96.6863 943.13 Q98.515 939.565 98.515 932.459 Q98.515 925.329 96.6863 921.787 Q94.8808 918.223 91.2465 918.223 M91.2465 914.519 Q97.0567 914.519 100.112 919.125 Q103.191 923.709 103.191 932.459 Q103.191 941.185 100.112 945.792 Q97.0567 950.375 91.2465 950.375 Q85.4364 950.375 82.3577 945.792 Q79.3022 941.185 79.3022 932.459 Q79.3022 923.709 82.3577 919.125 Q85.4364 914.519 91.2465 914.519 Z\" fill=\"#000000\" fill-rule=\"evenodd\" fill-opacity=\"1\" /><path clip-path=\"url(#clip040)\" d=\"M 0 0 M64.6495 599.405 Q61.5013 599.405 59.6495 601.557 Q57.8208 603.71 57.8208 607.46 Q57.8208 611.187 59.6495 613.363 Q61.5013 615.516 64.6495 615.516 Q67.7976 615.516 69.6263 613.363 Q71.4781 611.187 71.4781 607.46 Q71.4781 603.71 69.6263 601.557 Q67.7976 599.405 64.6495 599.405 M73.9318 584.752 L73.9318 589.011 Q72.1726 588.178 70.367 587.738 Q68.5846 587.298 66.8254 587.298 Q62.1958 587.298 59.7421 590.423 Q57.3115 593.548 56.9643 599.868 Q58.33 597.854 60.3902 596.789 Q62.4504 595.701 64.9272 595.701 Q70.1355 595.701 73.1448 598.872 Q76.1772 602.02 76.1772 607.46 Q76.1772 612.784 73.029 616.002 Q69.8809 619.219 64.6495 619.219 Q58.6541 619.219 55.4828 614.636 Q52.3116 610.03 52.3116 601.303 Q52.3116 593.108 56.2004 588.247 Q60.0893 583.363 66.6402 583.363 Q68.3994 583.363 70.1818 583.71 Q71.9874 584.057 73.9318 584.752 Z\" fill=\"#000000\" fill-rule=\"evenodd\" fill-opacity=\"1\" /><path clip-path=\"url(#clip040)\" d=\"M 0 0 M91.2465 587.067 Q87.6354 587.067 85.8068 590.631 Q84.0012 594.173 84.0012 601.303 Q84.0012 608.409 85.8068 611.974 Q87.6354 615.516 91.2465 615.516 Q94.8808 615.516 96.6863 611.974 Q98.515 608.409 98.515 601.303 Q98.515 594.173 96.6863 590.631 Q94.8808 587.067 91.2465 587.067 M91.2465 583.363 Q97.0567 583.363 100.112 587.969 Q103.191 592.553 103.191 601.303 Q103.191 610.03 100.112 614.636 Q97.0567 619.219 91.2465 619.219 Q85.4364 619.219 82.3577 614.636 Q79.3022 610.03 79.3022 601.303 Q79.3022 592.553 82.3577 587.969 Q85.4364 583.363 91.2465 583.363 Z\" fill=\"#000000\" fill-rule=\"evenodd\" fill-opacity=\"1\" /><path clip-path=\"url(#clip040)\" d=\"M 0 0 M64.3254 270.98 Q60.9921 270.98 59.0708 272.763 Q57.1726 274.545 57.1726 277.67 Q57.1726 280.795 59.0708 282.577 Q60.9921 284.36 64.3254 284.36 Q67.6587 284.36 69.58 282.577 Q71.5013 280.772 71.5013 277.67 Q71.5013 274.545 69.58 272.763 Q67.6819 270.98 64.3254 270.98 M59.6495 268.989 Q56.6402 268.249 54.9504 266.188 Q53.2838 264.128 53.2838 261.165 Q53.2838 257.022 56.2236 254.614 Q59.1865 252.207 64.3254 252.207 Q69.4874 252.207 72.4272 254.614 Q75.367 257.022 75.367 261.165 Q75.367 264.128 73.6772 266.188 Q72.0105 268.249 69.0244 268.989 Q72.404 269.776 74.279 272.068 Q76.1772 274.36 76.1772 277.67 Q76.1772 282.693 73.0985 285.378 Q70.0429 288.063 64.3254 288.063 Q58.6078 288.063 55.5291 285.378 Q52.4736 282.693 52.4736 277.67 Q52.4736 274.36 54.3717 272.068 Q56.2699 269.776 59.6495 268.989 M57.9365 261.605 Q57.9365 264.29 59.6032 265.795 Q61.293 267.3 64.3254 267.3 Q67.3346 267.3 69.0244 265.795 Q70.7374 264.29 70.7374 261.605 Q70.7374 258.92 69.0244 257.415 Q67.3346 255.911 64.3254 255.911 Q61.293 255.911 59.6032 257.415 Q57.9365 258.92 57.9365 261.605 Z\" fill=\"#000000\" fill-rule=\"evenodd\" fill-opacity=\"1\" /><path clip-path=\"url(#clip040)\" d=\"M 0 0 M91.2465 255.911 Q87.6354 255.911 85.8068 259.476 Q84.0012 263.017 84.0012 270.147 Q84.0012 277.253 85.8068 280.818 Q87.6354 284.36 91.2465 284.36 Q94.8808 284.36 96.6863 280.818 Q98.515 277.253 98.515 270.147 Q98.515 263.017 96.6863 259.476 Q94.8808 255.911 91.2465 255.911 M91.2465 252.207 Q97.0567 252.207 100.112 256.814 Q103.191 261.397 103.191 270.147 Q103.191 278.874 100.112 283.48 Q97.0567 288.063 91.2465 288.063 Q85.4364 288.063 82.3577 283.48 Q79.3022 278.874 79.3022 270.147 Q79.3022 261.397 82.3577 256.814 Q85.4364 252.207 91.2465 252.207 Z\" fill=\"#000000\" fill-rule=\"evenodd\" fill-opacity=\"1\" /><polyline clip-path=\"url(#clip042)\" style=\"stroke:#009af9; stroke-width:4; stroke-opacity:1; fill:none\" points=\"\n",
       "  201.839,650.941 244.457,1147.68 287.074,1362.93 329.692,1396.04 372.31,1412.6 414.928,1379.48 457.545,1396.04 500.163,1412.6 542.781,1412.6 585.399,1412.6 \n",
       "  628.016,1379.48 670.634,1346.37 713.252,1329.81 755.869,1280.14 798.487,1230.46 841.105,1247.02 883.723,1346.37 926.34,1346.37 968.958,1379.48 1011.58,1362.93 \n",
       "  1054.19,1263.58 1096.81,1164.23 1139.43,1213.91 1182.05,1329.81 1224.66,1445.72 1267.28,1379.48 1309.9,1296.7 1352.52,1280.14 1395.14,1329.81 1437.75,1396.04 \n",
       "  1480.37,1329.81 1522.99,1329.81 1565.61,1329.81 1608.22,1280.14 1650.84,1263.58 1693.46,1247.02 1736.08,1263.58 1778.7,1296.7 1821.31,1346.37 1863.93,1379.48 \n",
       "  1906.55,1445.72 1949.17,1396.04 1991.78,1362.93 2034.4,1429.16 2077.02,1346.37 2119.64,1263.58 2162.25,1247.02 2204.87,1313.25 2247.49,1346.37 2290.11,1412.6 \n",
       "  \n",
       "  \"/>\n",
       "<polyline clip-path=\"url(#clip042)\" style=\"stroke:#e26f46; stroke-width:4; stroke-opacity:1; fill:none\" points=\"\n",
       "  201.839,87.9763 244.457,650.941 287.074,1147.68 329.692,1313.25 372.31,1263.58 414.928,1114.56 457.545,1081.44 500.163,1081.44 542.781,1164.23 585.399,1180.79 \n",
       "  628.016,1197.35 670.634,1247.02 713.252,1247.02 755.869,1247.02 798.487,1230.46 841.105,1197.35 883.723,1180.79 926.34,1180.79 968.958,1197.35 1011.58,1362.93 \n",
       "  1054.19,1296.7 1096.81,1247.02 1139.43,1263.58 1182.05,1213.91 1224.66,1296.7 1267.28,1263.58 1309.9,1263.58 1352.52,1230.46 1395.14,1114.56 1437.75,1164.23 \n",
       "  1480.37,1114.56 1522.99,1263.58 1565.61,1313.25 1608.22,1346.37 1650.84,1197.35 1693.46,1263.58 1736.08,1296.7 1778.7,1280.14 1821.31,1213.91 1863.93,1180.79 \n",
       "  1906.55,1230.46 1949.17,1313.25 1991.78,1280.14 2034.4,1280.14 2077.02,1280.14 2119.64,1180.79 2162.25,1213.91 2204.87,1164.23 2247.49,1114.56 2290.11,1114.56 \n",
       "  \n",
       "  \"/>\n",
       "<path clip-path=\"url(#clip040)\" d=\"\n",
       "M1827 276.658 L2278.97 276.658 L2278.97 95.2176 L1827 95.2176  Z\n",
       "  \" fill=\"#ffffff\" fill-rule=\"evenodd\" fill-opacity=\"1\"/>\n",
       "<polyline clip-path=\"url(#clip040)\" style=\"stroke:#000000; stroke-width:4; stroke-opacity:1; fill:none\" points=\"\n",
       "  1827,276.658 2278.97,276.658 2278.97,95.2176 1827,95.2176 1827,276.658 \n",
       "  \"/>\n",
       "<polyline clip-path=\"url(#clip040)\" style=\"stroke:#009af9; stroke-width:4; stroke-opacity:1; fill:none\" points=\"\n",
       "  1851.6,155.698 1999.17,155.698 \n",
       "  \"/>\n",
       "<path clip-path=\"url(#clip040)\" d=\"M 0 0 M2042.67 159.714 Q2042.67 155.084 2040.75 152.538 Q2038.86 149.992 2035.41 149.992 Q2031.98 149.992 2030.06 152.538 Q2028.16 155.084 2028.16 159.714 Q2028.16 164.32 2030.06 166.866 Q2031.98 169.413 2035.41 169.413 Q2038.86 169.413 2040.75 166.866 Q2042.67 164.32 2042.67 159.714 M2046.93 169.76 Q2046.93 176.38 2043.99 179.598 Q2041.05 182.839 2034.99 182.839 Q2032.74 182.839 2030.75 182.491 Q2028.76 182.167 2026.89 181.473 L2026.89 177.329 Q2028.76 178.348 2030.59 178.834 Q2032.42 179.32 2034.32 179.32 Q2038.51 179.32 2040.59 177.121 Q2042.67 174.945 2042.67 170.524 L2042.67 168.417 Q2041.36 170.709 2039.29 171.843 Q2037.23 172.978 2034.36 172.978 Q2029.6 172.978 2026.68 169.343 Q2023.76 165.709 2023.76 159.714 Q2023.76 153.695 2026.68 150.061 Q2029.6 146.427 2034.36 146.427 Q2037.23 146.427 2039.29 147.561 Q2041.36 148.695 2042.67 150.987 L2042.67 147.052 L2046.93 147.052 L2046.93 169.76 Z\" fill=\"#000000\" fill-rule=\"evenodd\" fill-opacity=\"1\" /><path clip-path=\"url(#clip040)\" d=\"M 0 0 M2061.45 150.038 Q2058.02 150.038 2056.03 152.723 Q2054.04 155.385 2054.04 160.038 Q2054.04 164.691 2056.01 167.376 Q2058 170.038 2061.45 170.038 Q2064.85 170.038 2066.84 167.353 Q2068.83 164.667 2068.83 160.038 Q2068.83 155.431 2066.84 152.746 Q2064.85 150.038 2061.45 150.038 M2061.45 146.427 Q2067 146.427 2070.17 150.038 Q2073.35 153.649 2073.35 160.038 Q2073.35 166.404 2070.17 170.038 Q2067 173.649 2061.45 173.649 Q2055.87 173.649 2052.7 170.038 Q2049.55 166.404 2049.55 160.038 Q2049.55 153.649 2052.7 150.038 Q2055.87 146.427 2061.45 146.427 Z\" fill=\"#000000\" fill-rule=\"evenodd\" fill-opacity=\"1\" /><path clip-path=\"url(#clip040)\" d=\"M 0 0 M2077.95 136.959 L2082.21 136.959 L2082.21 150.894 L2085.1 148.811 L2086.86 151.265 L2082.21 154.529 L2082.21 172.978 L2077.95 172.978 L2077.95 157.561 L2075.1 159.598 L2073.39 157.144 L2077.95 153.88 L2077.95 136.959 Z\" fill=\"#000000\" fill-rule=\"evenodd\" fill-opacity=\"1\" /><path clip-path=\"url(#clip040)\" d=\"M 0 0 M2113.51 158.95 L2113.51 161.033 L2093.92 161.033 Q2094.2 165.431 2096.56 167.746 Q2098.95 170.038 2103.18 170.038 Q2105.64 170.038 2107.93 169.436 Q2110.24 168.834 2112.51 167.63 L2112.51 171.658 Q2110.22 172.63 2107.81 173.14 Q2105.41 173.649 2102.93 173.649 Q2096.73 173.649 2093.09 170.038 Q2089.48 166.427 2089.48 160.269 Q2089.48 153.904 2092.91 150.177 Q2096.35 146.427 2102.19 146.427 Q2107.42 146.427 2110.45 149.806 Q2113.51 153.163 2113.51 158.95 M2109.25 157.7 Q2109.2 154.205 2107.28 152.121 Q2105.38 150.038 2102.23 150.038 Q2098.67 150.038 2096.52 152.052 Q2094.39 154.066 2094.06 157.723 L2109.25 157.7 M2105.75 172.978 L2108.51 172.978 Q2107.47 174.39 2106.96 175.408 Q2106.47 176.427 2106.47 177.144 Q2106.47 178.209 2107.1 178.741 Q2107.74 179.274 2108.99 179.274 Q2109.73 179.274 2110.45 179.089 Q2111.17 178.927 2111.89 178.579 L2111.89 181.658 Q2111.01 181.89 2110.22 182.005 Q2109.43 182.121 2108.74 182.121 Q2105.91 182.121 2104.57 181.103 Q2103.25 180.107 2103.25 177.954 Q2103.25 176.843 2103.85 175.616 Q2104.48 174.413 2105.75 172.978 Z\" fill=\"#000000\" fill-rule=\"evenodd\" fill-opacity=\"1\" /><path clip-path=\"url(#clip040)\" d=\"M 0 0 M2136.59 160.038 Q2136.59 155.339 2134.64 152.677 Q2132.72 149.992 2129.34 149.992 Q2125.96 149.992 2124.02 152.677 Q2122.1 155.339 2122.1 160.038 Q2122.1 164.737 2124.02 167.422 Q2125.96 170.084 2129.34 170.084 Q2132.72 170.084 2134.64 167.422 Q2136.59 164.737 2136.59 160.038 M2122.1 150.987 Q2123.44 148.672 2125.48 147.561 Q2127.54 146.427 2130.38 146.427 Q2135.1 146.427 2138.04 150.177 Q2141.01 153.927 2141.01 160.038 Q2141.01 166.149 2138.04 169.899 Q2135.1 173.649 2130.38 173.649 Q2127.54 173.649 2125.48 172.538 Q2123.44 171.403 2122.1 169.089 L2122.1 172.978 L2117.81 172.978 L2117.81 136.959 L2122.1 136.959 L2122.1 150.987 Z\" fill=\"#000000\" fill-rule=\"evenodd\" fill-opacity=\"1\" /><path clip-path=\"url(#clip040)\" d=\"M 0 0 M2145.47 147.052 L2149.73 147.052 L2149.73 172.978 L2145.47 172.978 L2145.47 147.052 M2145.47 136.959 L2149.73 136.959 L2149.73 142.353 L2145.47 142.353 L2145.47 136.959 Z\" fill=\"#000000\" fill-rule=\"evenodd\" fill-opacity=\"1\" /><path clip-path=\"url(#clip040)\" d=\"M 0 0 M2176.38 158.95 L2176.38 161.033 L2156.79 161.033 Q2157.07 165.431 2159.43 167.746 Q2161.82 170.038 2166.05 170.038 Q2168.51 170.038 2170.8 169.436 Q2173.11 168.834 2175.38 167.63 L2175.38 171.658 Q2173.09 172.63 2170.68 173.14 Q2168.28 173.649 2165.8 173.649 Q2159.6 173.649 2155.96 170.038 Q2152.35 166.427 2152.35 160.269 Q2152.35 153.904 2155.78 150.177 Q2159.22 146.427 2165.06 146.427 Q2170.29 146.427 2173.32 149.806 Q2176.38 153.163 2176.38 158.95 M2172.12 157.7 Q2172.07 154.205 2170.15 152.121 Q2168.25 150.038 2165.1 150.038 Q2161.54 150.038 2159.39 152.052 Q2157.26 154.066 2156.93 157.723 L2172.12 157.7 Z\" fill=\"#000000\" fill-rule=\"evenodd\" fill-opacity=\"1\" /><polyline clip-path=\"url(#clip040)\" style=\"stroke:#e26f46; stroke-width:4; stroke-opacity:1; fill:none\" points=\"\n",
       "  1851.6,216.178 1999.17,216.178 \n",
       "  \"/>\n",
       "<path clip-path=\"url(#clip040)\" d=\"M 0 0 M2029.09 207.532 L2033.35 207.532 L2033.35 233.921 Q2033.35 238.874 2031.45 241.096 Q2029.57 243.319 2025.38 243.319 L2023.76 243.319 L2023.76 239.708 L2024.9 239.708 Q2027.33 239.708 2028.21 238.573 Q2029.09 237.462 2029.09 233.921 L2029.09 207.532 M2029.09 197.439 L2033.35 197.439 L2033.35 202.833 L2029.09 202.833 L2029.09 197.439 Z\" fill=\"#000000\" fill-rule=\"evenodd\" fill-opacity=\"1\" /><path clip-path=\"url(#clip040)\" d=\"M 0 0 M2049.6 220.425 Q2044.43 220.425 2042.44 221.606 Q2040.45 222.786 2040.45 225.634 Q2040.45 227.902 2041.93 229.245 Q2043.44 230.564 2046.01 230.564 Q2049.55 230.564 2051.68 228.064 Q2053.83 225.541 2053.83 221.374 L2053.83 220.425 L2049.6 220.425 M2058.09 218.666 L2058.09 233.458 L2053.83 233.458 L2053.83 229.522 Q2052.37 231.883 2050.2 233.018 Q2048.02 234.129 2044.87 234.129 Q2040.89 234.129 2038.53 231.907 Q2036.19 229.661 2036.19 225.911 Q2036.19 221.536 2039.11 219.314 Q2042.05 217.092 2047.86 217.092 L2053.83 217.092 L2053.83 216.675 Q2053.83 213.735 2051.89 212.138 Q2049.97 210.518 2046.47 210.518 Q2044.25 210.518 2042.14 211.05 Q2040.04 211.583 2038.09 212.647 L2038.09 208.712 Q2040.43 207.81 2042.63 207.37 Q2044.83 206.907 2046.91 206.907 Q2052.54 206.907 2055.31 209.823 Q2058.09 212.74 2058.09 218.666 Z\" fill=\"#000000\" fill-rule=\"evenodd\" fill-opacity=\"1\" /><path clip-path=\"url(#clip040)\" d=\"M 0 0 M2079.09 208.296 L2079.09 212.323 Q2077.28 211.397 2075.34 210.935 Q2073.39 210.472 2071.31 210.472 Q2068.14 210.472 2066.54 211.444 Q2064.97 212.416 2064.97 214.36 Q2064.97 215.842 2066.1 216.698 Q2067.23 217.532 2070.66 218.296 L2072.12 218.62 Q2076.66 219.592 2078.55 221.374 Q2080.48 223.134 2080.48 226.305 Q2080.48 229.916 2077.6 232.022 Q2074.76 234.129 2069.76 234.129 Q2067.67 234.129 2065.41 233.712 Q2063.16 233.319 2060.66 232.508 L2060.66 228.11 Q2063.02 229.337 2065.31 229.962 Q2067.61 230.564 2069.85 230.564 Q2072.86 230.564 2074.48 229.546 Q2076.1 228.504 2076.1 226.629 Q2076.1 224.893 2074.92 223.967 Q2073.76 223.041 2069.8 222.184 L2068.32 221.837 Q2064.36 221.004 2062.61 219.291 Q2060.85 217.555 2060.85 214.546 Q2060.85 210.888 2063.44 208.898 Q2066.03 206.907 2070.8 206.907 Q2073.16 206.907 2075.24 207.254 Q2077.33 207.601 2079.09 208.296 Z\" fill=\"#000000\" fill-rule=\"evenodd\" fill-opacity=\"1\" /><path clip-path=\"url(#clip040)\" d=\"M 0 0 M2089.16 200.171 L2089.16 207.532 L2097.93 207.532 L2097.93 210.842 L2089.16 210.842 L2089.16 224.916 Q2089.16 228.087 2090.01 228.99 Q2090.89 229.893 2093.55 229.893 L2097.93 229.893 L2097.93 233.458 L2093.55 233.458 Q2088.62 233.458 2086.75 231.629 Q2084.87 229.777 2084.87 224.916 L2084.87 210.842 L2081.75 210.842 L2081.75 207.532 L2084.87 207.532 L2084.87 200.171 L2089.16 200.171 Z\" fill=\"#000000\" fill-rule=\"evenodd\" fill-opacity=\"1\" /><path clip-path=\"url(#clip040)\" d=\"M 0 0 M2117.42 211.513 Q2116.7 211.097 2115.85 210.911 Q2115.01 210.703 2113.99 210.703 Q2110.38 210.703 2108.44 213.064 Q2106.52 215.402 2106.52 219.8 L2106.52 233.458 L2102.23 233.458 L2102.23 207.532 L2106.52 207.532 L2106.52 211.56 Q2107.86 209.198 2110.01 208.064 Q2112.16 206.907 2115.24 206.907 Q2115.68 206.907 2116.22 206.976 Q2116.75 207.023 2117.4 207.138 L2117.42 211.513 Z\" fill=\"#000000\" fill-rule=\"evenodd\" fill-opacity=\"1\" /><path clip-path=\"url(#clip040)\" d=\"M 0 0 M2120.04 207.532 L2140.27 207.532 L2140.27 211.421 L2124.25 230.055 L2140.27 230.055 L2140.27 233.458 L2119.46 233.458 L2119.46 229.569 L2135.48 210.935 L2120.04 210.935 L2120.04 207.532 Z\" fill=\"#000000\" fill-rule=\"evenodd\" fill-opacity=\"1\" /><path clip-path=\"url(#clip040)\" d=\"M 0 0 M2166.91 219.43 L2166.91 221.513 L2147.33 221.513 Q2147.6 225.911 2149.97 228.226 Q2152.35 230.518 2156.59 230.518 Q2159.04 230.518 2161.33 229.916 Q2163.65 229.314 2165.91 228.11 L2165.91 232.138 Q2163.62 233.11 2161.22 233.62 Q2158.81 234.129 2156.33 234.129 Q2150.13 234.129 2146.49 230.518 Q2142.88 226.907 2142.88 220.749 Q2142.88 214.384 2146.31 210.657 Q2149.76 206.907 2155.59 206.907 Q2160.82 206.907 2163.85 210.286 Q2166.91 213.643 2166.91 219.43 M2162.65 218.18 Q2162.6 214.685 2160.68 212.601 Q2158.79 210.518 2155.64 210.518 Q2152.07 210.518 2149.92 212.532 Q2147.79 214.546 2147.47 218.203 L2162.65 218.18 M2159.16 233.458 L2161.91 233.458 Q2160.87 234.87 2160.36 235.888 Q2159.87 236.907 2159.87 237.624 Q2159.87 238.689 2160.5 239.221 Q2161.15 239.754 2162.4 239.754 Q2163.14 239.754 2163.85 239.569 Q2164.57 239.407 2165.29 239.059 L2165.29 242.138 Q2164.41 242.37 2163.62 242.485 Q2162.84 242.601 2162.14 242.601 Q2159.32 242.601 2157.97 241.583 Q2156.66 240.587 2156.66 238.434 Q2156.66 237.323 2157.26 236.096 Q2157.88 234.893 2159.16 233.458 Z\" fill=\"#000000\" fill-rule=\"evenodd\" fill-opacity=\"1\" /><path clip-path=\"url(#clip040)\" d=\"M 0 0 M2189.99 220.518 Q2189.99 215.819 2188.04 213.157 Q2186.12 210.472 2182.74 210.472 Q2179.36 210.472 2177.42 213.157 Q2175.5 215.819 2175.5 220.518 Q2175.5 225.217 2177.42 227.902 Q2179.36 230.564 2182.74 230.564 Q2186.12 230.564 2188.04 227.902 Q2189.99 225.217 2189.99 220.518 M2175.5 211.467 Q2176.84 209.152 2178.88 208.041 Q2180.94 206.907 2183.78 206.907 Q2188.51 206.907 2191.45 210.657 Q2194.41 214.407 2194.41 220.518 Q2194.41 226.629 2191.45 230.379 Q2188.51 234.129 2183.78 234.129 Q2180.94 234.129 2178.88 233.018 Q2176.84 231.883 2175.5 229.569 L2175.5 233.458 L2171.22 233.458 L2171.22 197.439 L2175.5 197.439 L2175.5 211.467 Z\" fill=\"#000000\" fill-rule=\"evenodd\" fill-opacity=\"1\" /><path clip-path=\"url(#clip040)\" d=\"M 0 0 M2198.88 207.532 L2203.14 207.532 L2203.14 233.458 L2198.88 233.458 L2198.88 207.532 M2198.88 197.439 L2203.14 197.439 L2203.14 202.833 L2198.88 202.833 L2198.88 197.439 Z\" fill=\"#000000\" fill-rule=\"evenodd\" fill-opacity=\"1\" /><path clip-path=\"url(#clip040)\" d=\"M 0 0 M2229.78 219.43 L2229.78 221.513 L2210.2 221.513 Q2210.47 225.911 2212.84 228.226 Q2215.22 230.518 2219.46 230.518 Q2221.91 230.518 2224.2 229.916 Q2226.52 229.314 2228.78 228.11 L2228.78 232.138 Q2226.49 233.11 2224.09 233.62 Q2221.68 234.129 2219.2 234.129 Q2213 234.129 2209.36 230.518 Q2205.75 226.907 2205.75 220.749 Q2205.75 214.384 2209.18 210.657 Q2212.63 206.907 2218.46 206.907 Q2223.69 206.907 2226.72 210.286 Q2229.78 213.643 2229.78 219.43 M2225.52 218.18 Q2225.47 214.685 2223.55 212.601 Q2221.66 210.518 2218.51 210.518 Q2214.94 210.518 2212.79 212.532 Q2210.66 214.546 2210.34 218.203 L2225.52 218.18 Z\" fill=\"#000000\" fill-rule=\"evenodd\" fill-opacity=\"1\" /></svg>\n"
      ]
     },
     "execution_count": 217,
     "metadata": {},
     "output_type": "execute_result"
    }
   ],
   "source": [
    "plot(1:size(dying)[1], dying[:,1].+dying[:,3], label=\"gołębie\")\n",
    "plot!(1:size(dying)[1], dying[:,2].+dying[:,4], label=\"jastrzębie\")"
   ]
  },
  {
   "cell_type": "markdown",
   "metadata": {},
   "source": [
    "## funkcja rysująca wykresy"
   ]
  },
  {
   "cell_type": "code",
   "execution_count": 150,
   "metadata": {},
   "outputs": [
    {
     "data": {
      "text/plain": [
       "wykresy_all (generic function with 1 method)"
      ]
     },
     "execution_count": 150,
     "metadata": {},
     "output_type": "execute_result"
    }
   ],
   "source": [
    "function wykresy_all(n,m, g,j,ch_g,ch_j,p)\n",
    "    result = action2(n,m, g,j,ch_g,ch_j,p)\n",
    "    plot(1:size(result)[1], result[:,1], label=\"gołębie\")\n",
    "    plot!(1:size(result)[1], result[:,2], label=\"jastrzębie\")\n",
    "    plot!(1:size(result)[1], result[:,3], label=\"chore gołębie\")\n",
    "    plot!(1:size(result)[1], result[:,4], label=\"chore jastrzębie\")\n",
    "end"
   ]
  },
  {
   "cell_type": "code",
   "execution_count": 151,
   "metadata": {},
   "outputs": [
    {
     "data": {
      "text/plain": [
       "wykresy_two (generic function with 1 method)"
      ]
     },
     "execution_count": 151,
     "metadata": {},
     "output_type": "execute_result"
    }
   ],
   "source": [
    "function wykresy_two(n,m, g,j,ch_g,ch_j,p)\n",
    "    result = action2(n,m, g,j,ch_g,ch_j,p)\n",
    "    plot(1:size(result)[1], result[:,1], label=\"gołębie\")\n",
    "    plot!(1:size(result)[1], result[:,2], label=\"jastrzębie\")\n",
    "end"
   ]
  },
  {
   "cell_type": "code",
   "execution_count": 213,
   "metadata": {},
   "outputs": [
    {
     "name": "stdout",
     "output_type": "stream",
     "text": [
      "o kurczaki chyba działa\n"
     ]
    },
    {
     "data": {
      "image/svg+xml": [
       "<?xml version=\"1.0\" encoding=\"utf-8\"?>\n",
       "<svg xmlns=\"http://www.w3.org/2000/svg\" xmlns:xlink=\"http://www.w3.org/1999/xlink\" width=\"600\" height=\"400\" viewBox=\"0 0 2400 1600\">\n",
       "<defs>\n",
       "  <clipPath id=\"clip960\">\n",
       "    <rect x=\"0\" y=\"0\" width=\"2400\" height=\"1600\"/>\n",
       "  </clipPath>\n",
       "</defs>\n",
       "<path clip-path=\"url(#clip960)\" d=\"\n",
       "M0 1600 L2400 1600 L2400 0 L0 0  Z\n",
       "  \" fill=\"#ffffff\" fill-rule=\"evenodd\" fill-opacity=\"1\"/>\n",
       "<defs>\n",
       "  <clipPath id=\"clip961\">\n",
       "    <rect x=\"480\" y=\"0\" width=\"1681\" height=\"1600\"/>\n",
       "  </clipPath>\n",
       "</defs>\n",
       "<path clip-path=\"url(#clip960)\" d=\"\n",
       "M139.191 1486.45 L2352.76 1486.45 L2352.76 47.2441 L139.191 47.2441  Z\n",
       "  \" fill=\"#ffffff\" fill-rule=\"evenodd\" fill-opacity=\"1\"/>\n",
       "<defs>\n",
       "  <clipPath id=\"clip962\">\n",
       "    <rect x=\"139\" y=\"47\" width=\"2215\" height=\"1440\"/>\n",
       "  </clipPath>\n",
       "</defs>\n",
       "<polyline clip-path=\"url(#clip962)\" style=\"stroke:#000000; stroke-width:2; stroke-opacity:0.1; fill:none\" points=\"\n",
       "  159.221,1486.45 159.221,47.2441 \n",
       "  \"/>\n",
       "<polyline clip-path=\"url(#clip962)\" style=\"stroke:#000000; stroke-width:2; stroke-opacity:0.1; fill:none\" points=\"\n",
       "  585.399,1486.45 585.399,47.2441 \n",
       "  \"/>\n",
       "<polyline clip-path=\"url(#clip962)\" style=\"stroke:#000000; stroke-width:2; stroke-opacity:0.1; fill:none\" points=\"\n",
       "  1011.58,1486.45 1011.58,47.2441 \n",
       "  \"/>\n",
       "<polyline clip-path=\"url(#clip962)\" style=\"stroke:#000000; stroke-width:2; stroke-opacity:0.1; fill:none\" points=\"\n",
       "  1437.75,1486.45 1437.75,47.2441 \n",
       "  \"/>\n",
       "<polyline clip-path=\"url(#clip962)\" style=\"stroke:#000000; stroke-width:2; stroke-opacity:0.1; fill:none\" points=\"\n",
       "  1863.93,1486.45 1863.93,47.2441 \n",
       "  \"/>\n",
       "<polyline clip-path=\"url(#clip962)\" style=\"stroke:#000000; stroke-width:2; stroke-opacity:0.1; fill:none\" points=\"\n",
       "  2290.11,1486.45 2290.11,47.2441 \n",
       "  \"/>\n",
       "<polyline clip-path=\"url(#clip960)\" style=\"stroke:#000000; stroke-width:4; stroke-opacity:1; fill:none\" points=\"\n",
       "  139.191,1486.45 2352.76,1486.45 \n",
       "  \"/>\n",
       "<polyline clip-path=\"url(#clip960)\" style=\"stroke:#000000; stroke-width:4; stroke-opacity:1; fill:none\" points=\"\n",
       "  159.221,1486.45 159.221,1469.18 \n",
       "  \"/>\n",
       "<polyline clip-path=\"url(#clip960)\" style=\"stroke:#000000; stroke-width:4; stroke-opacity:1; fill:none\" points=\"\n",
       "  585.399,1486.45 585.399,1469.18 \n",
       "  \"/>\n",
       "<polyline clip-path=\"url(#clip960)\" style=\"stroke:#000000; stroke-width:4; stroke-opacity:1; fill:none\" points=\"\n",
       "  1011.58,1486.45 1011.58,1469.18 \n",
       "  \"/>\n",
       "<polyline clip-path=\"url(#clip960)\" style=\"stroke:#000000; stroke-width:4; stroke-opacity:1; fill:none\" points=\"\n",
       "  1437.75,1486.45 1437.75,1469.18 \n",
       "  \"/>\n",
       "<polyline clip-path=\"url(#clip960)\" style=\"stroke:#000000; stroke-width:4; stroke-opacity:1; fill:none\" points=\"\n",
       "  1863.93,1486.45 1863.93,1469.18 \n",
       "  \"/>\n",
       "<polyline clip-path=\"url(#clip960)\" style=\"stroke:#000000; stroke-width:4; stroke-opacity:1; fill:none\" points=\"\n",
       "  2290.11,1486.45 2290.11,1469.18 \n",
       "  \"/>\n",
       "<path clip-path=\"url(#clip960)\" d=\"M 0 0 M159.221 1515.64 Q155.61 1515.64 153.781 1519.2 Q151.976 1522.75 151.976 1529.87 Q151.976 1536.98 153.781 1540.55 Q155.61 1544.09 159.221 1544.09 Q162.855 1544.09 164.661 1540.55 Q166.49 1536.98 166.49 1529.87 Q166.49 1522.75 164.661 1519.2 Q162.855 1515.64 159.221 1515.64 M159.221 1511.93 Q165.031 1511.93 168.087 1516.54 Q171.166 1521.12 171.166 1529.87 Q171.166 1538.6 168.087 1543.21 Q165.031 1547.79 159.221 1547.79 Q153.411 1547.79 150.332 1543.21 Q147.277 1538.6 147.277 1529.87 Q147.277 1521.12 150.332 1516.54 Q153.411 1511.93 159.221 1511.93 Z\" fill=\"#000000\" fill-rule=\"evenodd\" fill-opacity=\"1\" /><path clip-path=\"url(#clip960)\" d=\"M 0 0 M562.274 1543.18 L569.913 1543.18 L569.913 1516.82 L561.602 1518.49 L561.602 1514.23 L569.866 1512.56 L574.542 1512.56 L574.542 1543.18 L582.181 1543.18 L582.181 1547.12 L562.274 1547.12 L562.274 1543.18 Z\" fill=\"#000000\" fill-rule=\"evenodd\" fill-opacity=\"1\" /><path clip-path=\"url(#clip960)\" d=\"M 0 0 M597.25 1515.64 Q593.639 1515.64 591.811 1519.2 Q590.005 1522.75 590.005 1529.87 Q590.005 1536.98 591.811 1540.55 Q593.639 1544.09 597.25 1544.09 Q600.885 1544.09 602.69 1540.55 Q604.519 1536.98 604.519 1529.87 Q604.519 1522.75 602.69 1519.2 Q600.885 1515.64 597.25 1515.64 M597.25 1511.93 Q603.061 1511.93 606.116 1516.54 Q609.195 1521.12 609.195 1529.87 Q609.195 1538.6 606.116 1543.21 Q603.061 1547.79 597.25 1547.79 Q591.44 1547.79 588.362 1543.21 Q585.306 1538.6 585.306 1529.87 Q585.306 1521.12 588.362 1516.54 Q591.44 1511.93 597.25 1511.93 Z\" fill=\"#000000\" fill-rule=\"evenodd\" fill-opacity=\"1\" /><path clip-path=\"url(#clip960)\" d=\"M 0 0 M992.722 1543.18 L1009.04 1543.18 L1009.04 1547.12 L987.097 1547.12 L987.097 1543.18 Q989.759 1540.43 994.342 1535.8 Q998.949 1531.15 1000.13 1529.81 Q1002.37 1527.28 1003.25 1525.55 Q1004.16 1523.79 1004.16 1522.1 Q1004.16 1519.34 1002.21 1517.61 Q1000.29 1515.87 997.189 1515.87 Q994.99 1515.87 992.537 1516.63 Q990.106 1517.4 987.328 1518.95 L987.328 1514.23 Q990.152 1513.09 992.606 1512.51 Q995.06 1511.93 997.097 1511.93 Q1002.47 1511.93 1005.66 1514.62 Q1008.86 1517.31 1008.86 1521.8 Q1008.86 1523.93 1008.05 1525.85 Q1007.26 1527.74 1005.15 1530.34 Q1004.57 1531.01 1001.47 1534.23 Q998.37 1537.42 992.722 1543.18 Z\" fill=\"#000000\" fill-rule=\"evenodd\" fill-opacity=\"1\" /><path clip-path=\"url(#clip960)\" d=\"M 0 0 M1024.11 1515.64 Q1020.5 1515.64 1018.67 1519.2 Q1016.87 1522.75 1016.87 1529.87 Q1016.87 1536.98 1018.67 1540.55 Q1020.5 1544.09 1024.11 1544.09 Q1027.74 1544.09 1029.55 1540.55 Q1031.38 1536.98 1031.38 1529.87 Q1031.38 1522.75 1029.55 1519.2 Q1027.74 1515.64 1024.11 1515.64 M1024.11 1511.93 Q1029.92 1511.93 1032.98 1516.54 Q1036.05 1521.12 1036.05 1529.87 Q1036.05 1538.6 1032.98 1543.21 Q1029.92 1547.79 1024.11 1547.79 Q1018.3 1547.79 1015.22 1543.21 Q1012.17 1538.6 1012.17 1529.87 Q1012.17 1521.12 1015.22 1516.54 Q1018.3 1511.93 1024.11 1511.93 Z\" fill=\"#000000\" fill-rule=\"evenodd\" fill-opacity=\"1\" /><path clip-path=\"url(#clip960)\" d=\"M 0 0 M1428.49 1528.49 Q1431.85 1529.2 1433.73 1531.47 Q1435.62 1533.74 1435.62 1537.07 Q1435.62 1542.19 1432.11 1544.99 Q1428.59 1547.79 1422.11 1547.79 Q1419.93 1547.79 1417.61 1547.35 Q1415.32 1546.93 1412.87 1546.08 L1412.87 1541.56 Q1414.81 1542.7 1417.13 1543.28 Q1419.44 1543.86 1421.97 1543.86 Q1426.36 1543.86 1428.66 1542.12 Q1430.97 1540.38 1430.97 1537.07 Q1430.97 1534.02 1428.82 1532.31 Q1426.69 1530.57 1422.87 1530.57 L1418.84 1530.57 L1418.84 1526.73 L1423.05 1526.73 Q1426.5 1526.73 1428.33 1525.36 Q1430.16 1523.97 1430.16 1521.38 Q1430.16 1518.72 1428.26 1517.31 Q1426.39 1515.87 1422.87 1515.87 Q1420.95 1515.87 1418.75 1516.29 Q1416.55 1516.7 1413.91 1517.58 L1413.91 1513.42 Q1416.57 1512.68 1418.89 1512.31 Q1421.23 1511.93 1423.29 1511.93 Q1428.61 1511.93 1431.71 1514.37 Q1434.81 1516.77 1434.81 1520.89 Q1434.81 1523.76 1433.17 1525.75 Q1431.53 1527.72 1428.49 1528.49 Z\" fill=\"#000000\" fill-rule=\"evenodd\" fill-opacity=\"1\" /><path clip-path=\"url(#clip960)\" d=\"M 0 0 M1450.69 1515.64 Q1447.08 1515.64 1445.25 1519.2 Q1443.45 1522.75 1443.45 1529.87 Q1443.45 1536.98 1445.25 1540.55 Q1447.08 1544.09 1450.69 1544.09 Q1454.33 1544.09 1456.13 1540.55 Q1457.96 1536.98 1457.96 1529.87 Q1457.96 1522.75 1456.13 1519.2 Q1454.33 1515.64 1450.69 1515.64 M1450.69 1511.93 Q1456.5 1511.93 1459.56 1516.54 Q1462.64 1521.12 1462.64 1529.87 Q1462.64 1538.6 1459.56 1543.21 Q1456.5 1547.79 1450.69 1547.79 Q1444.88 1547.79 1441.8 1543.21 Q1438.75 1538.6 1438.75 1529.87 Q1438.75 1521.12 1441.8 1516.54 Q1444.88 1511.93 1450.69 1511.93 Z\" fill=\"#000000\" fill-rule=\"evenodd\" fill-opacity=\"1\" /><path clip-path=\"url(#clip960)\" d=\"M 0 0 M1853.43 1516.63 L1841.63 1535.08 L1853.43 1535.08 L1853.43 1516.63 M1852.21 1512.56 L1858.09 1512.56 L1858.09 1535.08 L1863.02 1535.08 L1863.02 1538.97 L1858.09 1538.97 L1858.09 1547.12 L1853.43 1547.12 L1853.43 1538.97 L1837.83 1538.97 L1837.83 1534.46 L1852.21 1512.56 Z\" fill=\"#000000\" fill-rule=\"evenodd\" fill-opacity=\"1\" /><path clip-path=\"url(#clip960)\" d=\"M 0 0 M1878.09 1515.64 Q1874.47 1515.64 1872.65 1519.2 Q1870.84 1522.75 1870.84 1529.87 Q1870.84 1536.98 1872.65 1540.55 Q1874.47 1544.09 1878.09 1544.09 Q1881.72 1544.09 1883.53 1540.55 Q1885.35 1536.98 1885.35 1529.87 Q1885.35 1522.75 1883.53 1519.2 Q1881.72 1515.64 1878.09 1515.64 M1878.09 1511.93 Q1883.9 1511.93 1886.95 1516.54 Q1890.03 1521.12 1890.03 1529.87 Q1890.03 1538.6 1886.95 1543.21 Q1883.9 1547.79 1878.09 1547.79 Q1872.28 1547.79 1869.2 1543.21 Q1866.14 1538.6 1866.14 1529.87 Q1866.14 1521.12 1869.2 1516.54 Q1872.28 1511.93 1878.09 1511.93 Z\" fill=\"#000000\" fill-rule=\"evenodd\" fill-opacity=\"1\" /><path clip-path=\"url(#clip960)\" d=\"M 0 0 M2266.88 1512.56 L2285.24 1512.56 L2285.24 1516.5 L2271.16 1516.5 L2271.16 1524.97 Q2272.18 1524.62 2273.2 1524.46 Q2274.22 1524.27 2275.24 1524.27 Q2281.02 1524.27 2284.4 1527.44 Q2287.78 1530.62 2287.78 1536.03 Q2287.78 1541.61 2284.31 1544.71 Q2280.84 1547.79 2274.52 1547.79 Q2272.34 1547.79 2270.07 1547.42 Q2267.83 1547.05 2265.42 1546.31 L2265.42 1541.61 Q2267.5 1542.74 2269.73 1543.3 Q2271.95 1543.86 2274.43 1543.86 Q2278.43 1543.86 2280.77 1541.75 Q2283.11 1539.64 2283.11 1536.03 Q2283.11 1532.42 2280.77 1530.31 Q2278.43 1528.21 2274.43 1528.21 Q2272.55 1528.21 2270.68 1528.62 Q2268.82 1529.04 2266.88 1529.92 L2266.88 1512.56 Z\" fill=\"#000000\" fill-rule=\"evenodd\" fill-opacity=\"1\" /><path clip-path=\"url(#clip960)\" d=\"M 0 0 M2302.85 1515.64 Q2299.24 1515.64 2297.41 1519.2 Q2295.61 1522.75 2295.61 1529.87 Q2295.61 1536.98 2297.41 1540.55 Q2299.24 1544.09 2302.85 1544.09 Q2306.49 1544.09 2308.29 1540.55 Q2310.12 1536.98 2310.12 1529.87 Q2310.12 1522.75 2308.29 1519.2 Q2306.49 1515.64 2302.85 1515.64 M2302.85 1511.93 Q2308.66 1511.93 2311.72 1516.54 Q2314.8 1521.12 2314.8 1529.87 Q2314.8 1538.6 2311.72 1543.21 Q2308.66 1547.79 2302.85 1547.79 Q2297.04 1547.79 2293.96 1543.21 Q2290.91 1538.6 2290.91 1529.87 Q2290.91 1521.12 2293.96 1516.54 Q2297.04 1511.93 2302.85 1511.93 Z\" fill=\"#000000\" fill-rule=\"evenodd\" fill-opacity=\"1\" /><polyline clip-path=\"url(#clip962)\" style=\"stroke:#000000; stroke-width:2; stroke-opacity:0.1; fill:none\" points=\"\n",
       "  139.191,1445.72 2352.76,1445.72 \n",
       "  \"/>\n",
       "<polyline clip-path=\"url(#clip962)\" style=\"stroke:#000000; stroke-width:2; stroke-opacity:0.1; fill:none\" points=\"\n",
       "  139.191,1073.73 2352.76,1073.73 \n",
       "  \"/>\n",
       "<polyline clip-path=\"url(#clip962)\" style=\"stroke:#000000; stroke-width:2; stroke-opacity:0.1; fill:none\" points=\"\n",
       "  139.191,701.749 2352.76,701.749 \n",
       "  \"/>\n",
       "<polyline clip-path=\"url(#clip962)\" style=\"stroke:#000000; stroke-width:2; stroke-opacity:0.1; fill:none\" points=\"\n",
       "  139.191,329.765 2352.76,329.765 \n",
       "  \"/>\n",
       "<polyline clip-path=\"url(#clip960)\" style=\"stroke:#000000; stroke-width:4; stroke-opacity:1; fill:none\" points=\"\n",
       "  139.191,1486.45 139.191,47.2441 \n",
       "  \"/>\n",
       "<polyline clip-path=\"url(#clip960)\" style=\"stroke:#000000; stroke-width:4; stroke-opacity:1; fill:none\" points=\"\n",
       "  139.191,1445.72 165.754,1445.72 \n",
       "  \"/>\n",
       "<polyline clip-path=\"url(#clip960)\" style=\"stroke:#000000; stroke-width:4; stroke-opacity:1; fill:none\" points=\"\n",
       "  139.191,1073.73 165.754,1073.73 \n",
       "  \"/>\n",
       "<polyline clip-path=\"url(#clip960)\" style=\"stroke:#000000; stroke-width:4; stroke-opacity:1; fill:none\" points=\"\n",
       "  139.191,701.749 165.754,701.749 \n",
       "  \"/>\n",
       "<polyline clip-path=\"url(#clip960)\" style=\"stroke:#000000; stroke-width:4; stroke-opacity:1; fill:none\" points=\"\n",
       "  139.191,329.765 165.754,329.765 \n",
       "  \"/>\n",
       "<path clip-path=\"url(#clip960)\" d=\"M 0 0 M91.2465 1431.51 Q87.6354 1431.51 85.8068 1435.08 Q84.0012 1438.62 84.0012 1445.75 Q84.0012 1452.86 85.8068 1456.42 Q87.6354 1459.96 91.2465 1459.96 Q94.8808 1459.96 96.6863 1456.42 Q98.515 1452.86 98.515 1445.75 Q98.515 1438.62 96.6863 1435.08 Q94.8808 1431.51 91.2465 1431.51 M91.2465 1427.81 Q97.0567 1427.81 100.112 1432.42 Q103.191 1437 103.191 1445.75 Q103.191 1454.48 100.112 1459.08 Q97.0567 1463.67 91.2465 1463.67 Q85.4364 1463.67 82.3577 1459.08 Q79.3022 1454.48 79.3022 1445.75 Q79.3022 1437 82.3577 1432.42 Q85.4364 1427.81 91.2465 1427.81 Z\" fill=\"#000000\" fill-rule=\"evenodd\" fill-opacity=\"1\" /><path clip-path=\"url(#clip960)\" d=\"M 0 0 M59.8578 1087.08 L76.1772 1087.08 L76.1772 1091.01 L54.2328 1091.01 L54.2328 1087.08 Q56.8949 1084.32 61.4782 1079.69 Q66.0846 1075.04 67.2652 1073.7 Q69.5105 1071.17 70.3902 1069.44 Q71.2929 1067.68 71.2929 1065.99 Q71.2929 1063.23 69.3485 1061.5 Q67.4272 1059.76 64.3254 1059.76 Q62.1263 1059.76 59.6726 1060.53 Q57.2421 1061.29 54.4643 1062.84 L54.4643 1058.12 Q57.2884 1056.98 59.7421 1056.41 Q62.1958 1055.83 64.2328 1055.83 Q69.6031 1055.83 72.7976 1058.51 Q75.992 1061.2 75.992 1065.69 Q75.992 1067.82 75.1818 1069.74 Q74.3948 1071.64 72.2883 1074.23 Q71.7096 1074.9 68.6078 1078.12 Q65.5059 1081.31 59.8578 1087.08 Z\" fill=\"#000000\" fill-rule=\"evenodd\" fill-opacity=\"1\" /><path clip-path=\"url(#clip960)\" d=\"M 0 0 M91.2465 1059.53 Q87.6354 1059.53 85.8068 1063.1 Q84.0012 1066.64 84.0012 1073.77 Q84.0012 1080.87 85.8068 1084.44 Q87.6354 1087.98 91.2465 1087.98 Q94.8808 1087.98 96.6863 1084.44 Q98.515 1080.87 98.515 1073.77 Q98.515 1066.64 96.6863 1063.1 Q94.8808 1059.53 91.2465 1059.53 M91.2465 1055.83 Q97.0567 1055.83 100.112 1060.43 Q103.191 1065.02 103.191 1073.77 Q103.191 1082.49 100.112 1087.1 Q97.0567 1091.68 91.2465 1091.68 Q85.4364 1091.68 82.3577 1087.1 Q79.3022 1082.49 79.3022 1073.77 Q79.3022 1065.02 82.3577 1060.43 Q85.4364 1055.83 91.2465 1055.83 Z\" fill=\"#000000\" fill-rule=\"evenodd\" fill-opacity=\"1\" /><path clip-path=\"url(#clip960)\" d=\"M 0 0 M66.5939 688.543 L54.7884 706.992 L66.5939 706.992 L66.5939 688.543 M65.367 684.469 L71.2466 684.469 L71.2466 706.992 L76.1772 706.992 L76.1772 710.881 L71.2466 710.881 L71.2466 719.029 L66.5939 719.029 L66.5939 710.881 L50.9921 710.881 L50.9921 706.367 L65.367 684.469 Z\" fill=\"#000000\" fill-rule=\"evenodd\" fill-opacity=\"1\" /><path clip-path=\"url(#clip960)\" d=\"M 0 0 M91.2465 687.548 Q87.6354 687.548 85.8068 691.112 Q84.0012 694.654 84.0012 701.784 Q84.0012 708.89 85.8068 712.455 Q87.6354 715.996 91.2465 715.996 Q94.8808 715.996 96.6863 712.455 Q98.515 708.89 98.515 701.784 Q98.515 694.654 96.6863 691.112 Q94.8808 687.548 91.2465 687.548 M91.2465 683.844 Q97.0567 683.844 100.112 688.45 Q103.191 693.034 103.191 701.784 Q103.191 710.51 100.112 715.117 Q97.0567 719.7 91.2465 719.7 Q85.4364 719.7 82.3577 715.117 Q79.3022 710.51 79.3022 701.784 Q79.3022 693.034 82.3577 688.45 Q85.4364 683.844 91.2465 683.844 Z\" fill=\"#000000\" fill-rule=\"evenodd\" fill-opacity=\"1\" /><path clip-path=\"url(#clip960)\" d=\"M 0 0 M64.6495 327.902 Q61.5013 327.902 59.6495 330.055 Q57.8208 332.208 57.8208 335.958 Q57.8208 339.684 59.6495 341.86 Q61.5013 344.013 64.6495 344.013 Q67.7976 344.013 69.6263 341.86 Q71.4781 339.684 71.4781 335.958 Q71.4781 332.208 69.6263 330.055 Q67.7976 327.902 64.6495 327.902 M73.9318 313.249 L73.9318 317.509 Q72.1726 316.675 70.367 316.235 Q68.5846 315.796 66.8254 315.796 Q62.1958 315.796 59.7421 318.921 Q57.3115 322.046 56.9643 328.365 Q58.33 326.351 60.3902 325.286 Q62.4504 324.198 64.9272 324.198 Q70.1355 324.198 73.1448 327.37 Q76.1772 330.518 76.1772 335.958 Q76.1772 341.282 73.029 344.499 Q69.8809 347.717 64.6495 347.717 Q58.6541 347.717 55.4828 343.133 Q52.3116 338.527 52.3116 329.8 Q52.3116 321.606 56.2004 316.745 Q60.0893 311.86 66.6402 311.86 Q68.3994 311.86 70.1818 312.208 Q71.9874 312.555 73.9318 313.249 Z\" fill=\"#000000\" fill-rule=\"evenodd\" fill-opacity=\"1\" /><path clip-path=\"url(#clip960)\" d=\"M 0 0 M91.2465 315.564 Q87.6354 315.564 85.8068 319.129 Q84.0012 322.671 84.0012 329.8 Q84.0012 336.907 85.8068 340.471 Q87.6354 344.013 91.2465 344.013 Q94.8808 344.013 96.6863 340.471 Q98.515 336.907 98.515 329.8 Q98.515 322.671 96.6863 319.129 Q94.8808 315.564 91.2465 315.564 M91.2465 311.86 Q97.0567 311.86 100.112 316.467 Q103.191 321.05 103.191 329.8 Q103.191 338.527 100.112 343.133 Q97.0567 347.717 91.2465 347.717 Q85.4364 347.717 82.3577 343.133 Q79.3022 338.527 79.3022 329.8 Q79.3022 321.05 82.3577 316.467 Q85.4364 311.86 91.2465 311.86 Z\" fill=\"#000000\" fill-rule=\"evenodd\" fill-opacity=\"1\" /><polyline clip-path=\"url(#clip962)\" style=\"stroke:#009af9; stroke-width:4; stroke-opacity:1; fill:none\" points=\"\n",
       "  201.839,1278.32 244.457,1352.72 287.074,1408.52 329.692,1408.52 372.31,1334.12 414.928,1259.72 457.545,1166.73 500.163,1110.93 542.781,1073.73 585.399,1185.33 \n",
       "  628.016,1296.92 670.634,1296.92 713.252,1334.12 755.869,1315.52 798.487,1203.93 841.105,1222.53 883.723,1241.12 926.34,1185.33 968.958,1278.32 1011.58,1278.32 \n",
       "  1054.19,1352.72 1096.81,1408.52 1139.43,1427.12 1182.05,1408.52 1224.66,1445.72 1267.28,1445.72 1309.9,1445.72 1352.52,1445.72 1395.14,1445.72 1437.75,1445.72 \n",
       "  1480.37,1445.72 1522.99,1445.72 1565.61,1445.72 1608.22,1445.72 1650.84,1445.72 1693.46,1445.72 1736.08,1445.72 1778.7,1445.72 1821.31,1445.72 1863.93,1445.72 \n",
       "  1906.55,1445.72 1949.17,1445.72 1991.78,1445.72 2034.4,1445.72 2077.02,1445.72 2119.64,1445.72 2162.25,1445.72 2204.87,1445.72 2247.49,1445.72 2290.11,1445.72 \n",
       "  \n",
       "  \"/>\n",
       "<polyline clip-path=\"url(#clip962)\" style=\"stroke:#e26f46; stroke-width:4; stroke-opacity:1; fill:none\" points=\"\n",
       "  201.839,1259.72 244.457,1278.32 287.074,1241.12 329.692,1241.12 372.31,1203.93 414.928,1185.33 457.545,1166.73 500.163,1073.73 542.781,1110.93 585.399,999.336 \n",
       "  628.016,1073.73 670.634,1036.53 713.252,1129.53 755.869,1241.12 798.487,1148.13 841.105,1110.93 883.723,1129.53 926.34,999.336 968.958,1036.53 1011.58,1055.13 \n",
       "  1054.19,869.141 1096.81,1110.93 1139.43,1036.53 1182.05,1110.93 1224.66,1110.93 1267.28,1073.73 1309.9,1092.33 1352.52,1092.33 1395.14,1036.53 1437.75,1055.13 \n",
       "  1480.37,1092.33 1522.99,1166.73 1565.61,1110.93 1608.22,1092.33 1650.84,1129.53 1693.46,1036.53 1736.08,1036.53 1778.7,1110.93 1821.31,1110.93 1863.93,1241.12 \n",
       "  1906.55,1241.12 1949.17,1055.13 1991.78,1148.13 2034.4,1073.73 2077.02,1055.13 2119.64,1185.33 2162.25,1241.12 2204.87,1241.12 2247.49,1259.72 2290.11,1148.13 \n",
       "  \n",
       "  \"/>\n",
       "<polyline clip-path=\"url(#clip962)\" style=\"stroke:#3da44d; stroke-width:4; stroke-opacity:1; fill:none\" points=\"\n",
       "  201.839,571.555 244.457,1055.13 287.074,1259.72 329.692,1296.92 372.31,1408.52 414.928,1408.52 457.545,1427.12 500.163,1389.92 542.781,1371.32 585.399,1371.32 \n",
       "  628.016,1352.72 670.634,1408.52 713.252,1389.92 755.869,1427.12 798.487,1445.72 841.105,1427.12 883.723,1408.52 926.34,1427.12 968.958,1371.32 1011.58,1408.52 \n",
       "  1054.19,1445.72 1096.81,1427.12 1139.43,1389.92 1182.05,1427.12 1224.66,1445.72 1267.28,1445.72 1309.9,1445.72 1352.52,1445.72 1395.14,1445.72 1437.75,1445.72 \n",
       "  1480.37,1445.72 1522.99,1445.72 1565.61,1445.72 1608.22,1445.72 1650.84,1445.72 1693.46,1445.72 1736.08,1445.72 1778.7,1445.72 1821.31,1445.72 1863.93,1445.72 \n",
       "  1906.55,1445.72 1949.17,1445.72 1991.78,1445.72 2034.4,1445.72 2077.02,1445.72 2119.64,1445.72 2162.25,1445.72 2204.87,1445.72 2247.49,1445.72 2290.11,1445.72 \n",
       "  \n",
       "  \"/>\n",
       "<polyline clip-path=\"url(#clip962)\" style=\"stroke:#c271d2; stroke-width:4; stroke-opacity:1; fill:none\" points=\"\n",
       "  201.839,87.9763 244.457,645.951 287.074,1036.53 329.692,1259.72 372.31,1222.53 414.928,1278.32 457.545,1259.72 500.163,1352.72 542.781,1352.72 585.399,1371.32 \n",
       "  628.016,1315.52 670.634,1278.32 713.252,1259.72 755.869,1371.32 798.487,1315.52 841.105,1241.12 883.723,1278.32 926.34,1315.52 968.958,1371.32 1011.58,1352.72 \n",
       "  1054.19,1259.72 1096.81,1296.92 1139.43,1296.92 1182.05,1296.92 1224.66,1278.32 1267.28,1222.53 1309.9,1185.33 1352.52,1315.52 1395.14,1315.52 1437.75,1334.12 \n",
       "  1480.37,1315.52 1522.99,1315.52 1565.61,1315.52 1608.22,1278.32 1650.84,1296.92 1693.46,1278.32 1736.08,1241.12 1778.7,1278.32 1821.31,1259.72 1863.93,1278.32 \n",
       "  1906.55,1259.72 1949.17,1315.52 1991.78,1315.52 2034.4,1315.52 2077.02,1315.52 2119.64,1222.53 2162.25,1148.13 2204.87,1166.73 2247.49,1203.93 2290.11,1352.72 \n",
       "  \n",
       "  \"/>\n",
       "<path clip-path=\"url(#clip960)\" d=\"\n",
       "M1694.76 397.618 L2278.97 397.618 L2278.97 95.2176 L1694.76 95.2176  Z\n",
       "  \" fill=\"#ffffff\" fill-rule=\"evenodd\" fill-opacity=\"1\"/>\n",
       "<polyline clip-path=\"url(#clip960)\" style=\"stroke:#000000; stroke-width:4; stroke-opacity:1; fill:none\" points=\"\n",
       "  1694.76,397.618 2278.97,397.618 2278.97,95.2176 1694.76,95.2176 1694.76,397.618 \n",
       "  \"/>\n",
       "<polyline clip-path=\"url(#clip960)\" style=\"stroke:#009af9; stroke-width:4; stroke-opacity:1; fill:none\" points=\"\n",
       "  1719.35,155.698 1866.92,155.698 \n",
       "  \"/>\n",
       "<path clip-path=\"url(#clip960)\" d=\"M 0 0 M1910.43 159.714 Q1910.43 155.084 1908.51 152.538 Q1906.61 149.992 1903.16 149.992 Q1899.74 149.992 1897.81 152.538 Q1895.92 155.084 1895.92 159.714 Q1895.92 164.32 1897.81 166.866 Q1899.74 169.413 1903.16 169.413 Q1906.61 169.413 1908.51 166.866 Q1910.43 164.32 1910.43 159.714 M1914.69 169.76 Q1914.69 176.38 1911.75 179.598 Q1908.81 182.839 1902.74 182.839 Q1900.5 182.839 1898.51 182.491 Q1896.52 182.167 1894.64 181.473 L1894.64 177.329 Q1896.52 178.348 1898.35 178.834 Q1900.18 179.32 1902.07 179.32 Q1906.26 179.32 1908.35 177.121 Q1910.43 174.945 1910.43 170.524 L1910.43 168.417 Q1909.11 170.709 1907.05 171.843 Q1904.99 172.978 1902.12 172.978 Q1897.35 172.978 1894.43 169.343 Q1891.52 165.709 1891.52 159.714 Q1891.52 153.695 1894.43 150.061 Q1897.35 146.427 1902.12 146.427 Q1904.99 146.427 1907.05 147.561 Q1909.11 148.695 1910.43 150.987 L1910.43 147.052 L1914.69 147.052 L1914.69 169.76 Z\" fill=\"#000000\" fill-rule=\"evenodd\" fill-opacity=\"1\" /><path clip-path=\"url(#clip960)\" d=\"M 0 0 M1929.2 150.038 Q1925.78 150.038 1923.79 152.723 Q1921.8 155.385 1921.8 160.038 Q1921.8 164.691 1923.76 167.376 Q1925.75 170.038 1929.2 170.038 Q1932.61 170.038 1934.6 167.353 Q1936.59 164.667 1936.59 160.038 Q1936.59 155.431 1934.6 152.746 Q1932.61 150.038 1929.2 150.038 M1929.2 146.427 Q1934.76 146.427 1937.93 150.038 Q1941.1 153.649 1941.1 160.038 Q1941.1 166.404 1937.93 170.038 Q1934.76 173.649 1929.2 173.649 Q1923.62 173.649 1920.45 170.038 Q1917.3 166.404 1917.3 160.038 Q1917.3 153.649 1920.45 150.038 Q1923.62 146.427 1929.2 146.427 Z\" fill=\"#000000\" fill-rule=\"evenodd\" fill-opacity=\"1\" /><path clip-path=\"url(#clip960)\" d=\"M 0 0 M1945.71 136.959 L1949.97 136.959 L1949.97 150.894 L1952.86 148.811 L1954.62 151.265 L1949.97 154.529 L1949.97 172.978 L1945.71 172.978 L1945.71 157.561 L1942.86 159.598 L1941.15 157.144 L1945.71 153.88 L1945.71 136.959 Z\" fill=\"#000000\" fill-rule=\"evenodd\" fill-opacity=\"1\" /><path clip-path=\"url(#clip960)\" d=\"M 0 0 M1981.26 158.95 L1981.26 161.033 L1961.68 161.033 Q1961.96 165.431 1964.32 167.746 Q1966.7 170.038 1970.94 170.038 Q1973.39 170.038 1975.68 169.436 Q1978 168.834 1980.27 167.63 L1980.27 171.658 Q1977.98 172.63 1975.57 173.14 Q1973.16 173.649 1970.68 173.649 Q1964.48 173.649 1960.85 170.038 Q1957.24 166.427 1957.24 160.269 Q1957.24 153.904 1960.66 150.177 Q1964.11 146.427 1969.94 146.427 Q1975.17 146.427 1978.21 149.806 Q1981.26 153.163 1981.26 158.95 M1977 157.7 Q1976.96 154.205 1975.04 152.121 Q1973.14 150.038 1969.99 150.038 Q1966.43 150.038 1964.27 152.052 Q1962.14 154.066 1961.82 157.723 L1977 157.7 M1973.51 172.978 L1976.26 172.978 Q1975.22 174.39 1974.71 175.408 Q1974.23 176.427 1974.23 177.144 Q1974.23 178.209 1974.85 178.741 Q1975.5 179.274 1976.75 179.274 Q1977.49 179.274 1978.21 179.089 Q1978.92 178.927 1979.64 178.579 L1979.64 181.658 Q1978.76 181.89 1977.98 182.005 Q1977.19 182.121 1976.49 182.121 Q1973.67 182.121 1972.33 181.103 Q1971.01 180.107 1971.01 177.954 Q1971.01 176.843 1971.61 175.616 Q1972.24 174.413 1973.51 172.978 Z\" fill=\"#000000\" fill-rule=\"evenodd\" fill-opacity=\"1\" /><path clip-path=\"url(#clip960)\" d=\"M 0 0 M2004.34 160.038 Q2004.34 155.339 2002.4 152.677 Q2000.48 149.992 1997.1 149.992 Q1993.72 149.992 1991.77 152.677 Q1989.85 155.339 1989.85 160.038 Q1989.85 164.737 1991.77 167.422 Q1993.72 170.084 1997.1 170.084 Q2000.48 170.084 2002.4 167.422 Q2004.34 164.737 2004.34 160.038 M1989.85 150.987 Q1991.19 148.672 1993.23 147.561 Q1995.29 146.427 1998.14 146.427 Q2002.86 146.427 2005.8 150.177 Q2008.76 153.927 2008.76 160.038 Q2008.76 166.149 2005.8 169.899 Q2002.86 173.649 1998.14 173.649 Q1995.29 173.649 1993.23 172.538 Q1991.19 171.403 1989.85 169.089 L1989.85 172.978 L1985.57 172.978 L1985.57 136.959 L1989.85 136.959 L1989.85 150.987 Z\" fill=\"#000000\" fill-rule=\"evenodd\" fill-opacity=\"1\" /><path clip-path=\"url(#clip960)\" d=\"M 0 0 M2013.23 147.052 L2017.49 147.052 L2017.49 172.978 L2013.23 172.978 L2013.23 147.052 M2013.23 136.959 L2017.49 136.959 L2017.49 142.353 L2013.23 142.353 L2013.23 136.959 Z\" fill=\"#000000\" fill-rule=\"evenodd\" fill-opacity=\"1\" /><path clip-path=\"url(#clip960)\" d=\"M 0 0 M2044.13 158.95 L2044.13 161.033 L2024.55 161.033 Q2024.83 165.431 2027.19 167.746 Q2029.57 170.038 2033.81 170.038 Q2036.26 170.038 2038.55 169.436 Q2040.87 168.834 2043.14 167.63 L2043.14 171.658 Q2040.85 172.63 2038.44 173.14 Q2036.03 173.649 2033.55 173.649 Q2027.35 173.649 2023.72 170.038 Q2020.11 166.427 2020.11 160.269 Q2020.11 153.904 2023.53 150.177 Q2026.98 146.427 2032.81 146.427 Q2038.04 146.427 2041.08 149.806 Q2044.13 153.163 2044.13 158.95 M2039.87 157.7 Q2039.83 154.205 2037.91 152.121 Q2036.01 150.038 2032.86 150.038 Q2029.3 150.038 2027.14 152.052 Q2025.01 154.066 2024.69 157.723 L2039.87 157.7 Z\" fill=\"#000000\" fill-rule=\"evenodd\" fill-opacity=\"1\" /><polyline clip-path=\"url(#clip960)\" style=\"stroke:#e26f46; stroke-width:4; stroke-opacity:1; fill:none\" points=\"\n",
       "  1719.35,216.178 1866.92,216.178 \n",
       "  \"/>\n",
       "<path clip-path=\"url(#clip960)\" d=\"M 0 0 M1896.84 207.532 L1901.1 207.532 L1901.1 233.921 Q1901.1 238.874 1899.2 241.096 Q1897.33 243.319 1893.14 243.319 L1891.52 243.319 L1891.52 239.708 L1892.65 239.708 Q1895.08 239.708 1895.96 238.573 Q1896.84 237.462 1896.84 233.921 L1896.84 207.532 M1896.84 197.439 L1901.1 197.439 L1901.1 202.833 L1896.84 202.833 L1896.84 197.439 Z\" fill=\"#000000\" fill-rule=\"evenodd\" fill-opacity=\"1\" /><path clip-path=\"url(#clip960)\" d=\"M 0 0 M1917.35 220.425 Q1912.19 220.425 1910.2 221.606 Q1908.21 222.786 1908.21 225.634 Q1908.21 227.902 1909.69 229.245 Q1911.19 230.564 1913.76 230.564 Q1917.3 230.564 1919.43 228.064 Q1921.59 225.541 1921.59 221.374 L1921.59 220.425 L1917.35 220.425 M1925.85 218.666 L1925.85 233.458 L1921.59 233.458 L1921.59 229.522 Q1920.13 231.883 1917.95 233.018 Q1915.78 234.129 1912.63 234.129 Q1908.65 234.129 1906.29 231.907 Q1903.95 229.661 1903.95 225.911 Q1903.95 221.536 1906.87 219.314 Q1909.8 217.092 1915.62 217.092 L1921.59 217.092 L1921.59 216.675 Q1921.59 213.735 1919.64 212.138 Q1917.72 210.518 1914.23 210.518 Q1912 210.518 1909.9 211.05 Q1907.79 211.583 1905.85 212.647 L1905.85 208.712 Q1908.18 207.81 1910.38 207.37 Q1912.58 206.907 1914.67 206.907 Q1920.29 206.907 1923.07 209.823 Q1925.85 212.74 1925.85 218.666 Z\" fill=\"#000000\" fill-rule=\"evenodd\" fill-opacity=\"1\" /><path clip-path=\"url(#clip960)\" d=\"M 0 0 M1946.84 208.296 L1946.84 212.323 Q1945.04 211.397 1943.09 210.935 Q1941.15 210.472 1939.06 210.472 Q1935.89 210.472 1934.3 211.444 Q1932.72 212.416 1932.72 214.36 Q1932.72 215.842 1933.86 216.698 Q1934.99 217.532 1938.42 218.296 L1939.87 218.62 Q1944.41 219.592 1946.31 221.374 Q1948.23 223.134 1948.23 226.305 Q1948.23 229.916 1945.36 232.022 Q1942.51 234.129 1937.51 234.129 Q1935.43 234.129 1933.16 233.712 Q1930.92 233.319 1928.42 232.508 L1928.42 228.11 Q1930.78 229.337 1933.07 229.962 Q1935.36 230.564 1937.61 230.564 Q1940.61 230.564 1942.24 229.546 Q1943.86 228.504 1943.86 226.629 Q1943.86 224.893 1942.68 223.967 Q1941.52 223.041 1937.56 222.184 L1936.08 221.837 Q1932.12 221.004 1930.36 219.291 Q1928.6 217.555 1928.6 214.546 Q1928.6 210.888 1931.19 208.898 Q1933.79 206.907 1938.55 206.907 Q1940.92 206.907 1943 207.254 Q1945.08 207.601 1946.84 208.296 Z\" fill=\"#000000\" fill-rule=\"evenodd\" fill-opacity=\"1\" /><path clip-path=\"url(#clip960)\" d=\"M 0 0 M1956.91 200.171 L1956.91 207.532 L1965.68 207.532 L1965.68 210.842 L1956.91 210.842 L1956.91 224.916 Q1956.91 228.087 1957.77 228.99 Q1958.65 229.893 1961.31 229.893 L1965.68 229.893 L1965.68 233.458 L1961.31 233.458 Q1956.38 233.458 1954.5 231.629 Q1952.63 229.777 1952.63 224.916 L1952.63 210.842 L1949.5 210.842 L1949.5 207.532 L1952.63 207.532 L1952.63 200.171 L1956.91 200.171 Z\" fill=\"#000000\" fill-rule=\"evenodd\" fill-opacity=\"1\" /><path clip-path=\"url(#clip960)\" d=\"M 0 0 M1985.17 211.513 Q1984.46 211.097 1983.6 210.911 Q1982.77 210.703 1981.75 210.703 Q1978.14 210.703 1976.19 213.064 Q1974.27 215.402 1974.27 219.8 L1974.27 233.458 L1969.99 233.458 L1969.99 207.532 L1974.27 207.532 L1974.27 211.56 Q1975.61 209.198 1977.77 208.064 Q1979.92 206.907 1983 206.907 Q1983.44 206.907 1983.97 206.976 Q1984.5 207.023 1985.15 207.138 L1985.17 211.513 Z\" fill=\"#000000\" fill-rule=\"evenodd\" fill-opacity=\"1\" /><path clip-path=\"url(#clip960)\" d=\"M 0 0 M1987.79 207.532 L2008.02 207.532 L2008.02 211.421 L1992 230.055 L2008.02 230.055 L2008.02 233.458 L1987.21 233.458 L1987.21 229.569 L2003.23 210.935 L1987.79 210.935 L1987.79 207.532 Z\" fill=\"#000000\" fill-rule=\"evenodd\" fill-opacity=\"1\" /><path clip-path=\"url(#clip960)\" d=\"M 0 0 M2034.67 219.43 L2034.67 221.513 L2015.08 221.513 Q2015.36 225.911 2017.72 228.226 Q2020.11 230.518 2024.34 230.518 Q2026.8 230.518 2029.09 229.916 Q2031.4 229.314 2033.67 228.11 L2033.67 232.138 Q2031.38 233.11 2028.97 233.62 Q2026.56 234.129 2024.09 234.129 Q2017.88 234.129 2014.25 230.518 Q2010.64 226.907 2010.64 220.749 Q2010.64 214.384 2014.06 210.657 Q2017.51 206.907 2023.35 206.907 Q2028.58 206.907 2031.61 210.286 Q2034.67 213.643 2034.67 219.43 M2030.41 218.18 Q2030.36 214.685 2028.44 212.601 Q2026.54 210.518 2023.39 210.518 Q2019.83 210.518 2017.67 212.532 Q2015.55 214.546 2015.22 218.203 L2030.41 218.18 M2026.91 233.458 L2029.67 233.458 Q2028.62 234.87 2028.11 235.888 Q2027.63 236.907 2027.63 237.624 Q2027.63 238.689 2028.25 239.221 Q2028.9 239.754 2030.15 239.754 Q2030.89 239.754 2031.61 239.569 Q2032.33 239.407 2033.05 239.059 L2033.05 242.138 Q2032.17 242.37 2031.38 242.485 Q2030.59 242.601 2029.9 242.601 Q2027.07 242.601 2025.73 241.583 Q2024.41 240.587 2024.41 238.434 Q2024.41 237.323 2025.01 236.096 Q2025.64 234.893 2026.91 233.458 Z\" fill=\"#000000\" fill-rule=\"evenodd\" fill-opacity=\"1\" /><path clip-path=\"url(#clip960)\" d=\"M 0 0 M2057.74 220.518 Q2057.74 215.819 2055.8 213.157 Q2053.88 210.472 2050.5 210.472 Q2047.12 210.472 2045.17 213.157 Q2043.25 215.819 2043.25 220.518 Q2043.25 225.217 2045.17 227.902 Q2047.12 230.564 2050.5 230.564 Q2053.88 230.564 2055.8 227.902 Q2057.74 225.217 2057.74 220.518 M2043.25 211.467 Q2044.6 209.152 2046.63 208.041 Q2048.69 206.907 2051.54 206.907 Q2056.26 206.907 2059.2 210.657 Q2062.17 214.407 2062.17 220.518 Q2062.17 226.629 2059.2 230.379 Q2056.26 234.129 2051.54 234.129 Q2048.69 234.129 2046.63 233.018 Q2044.6 231.883 2043.25 229.569 L2043.25 233.458 L2038.97 233.458 L2038.97 197.439 L2043.25 197.439 L2043.25 211.467 Z\" fill=\"#000000\" fill-rule=\"evenodd\" fill-opacity=\"1\" /><path clip-path=\"url(#clip960)\" d=\"M 0 0 M2066.63 207.532 L2070.89 207.532 L2070.89 233.458 L2066.63 233.458 L2066.63 207.532 M2066.63 197.439 L2070.89 197.439 L2070.89 202.833 L2066.63 202.833 L2066.63 197.439 Z\" fill=\"#000000\" fill-rule=\"evenodd\" fill-opacity=\"1\" /><path clip-path=\"url(#clip960)\" d=\"M 0 0 M2097.54 219.43 L2097.54 221.513 L2077.95 221.513 Q2078.23 225.911 2080.59 228.226 Q2082.98 230.518 2087.21 230.518 Q2089.67 230.518 2091.96 229.916 Q2094.27 229.314 2096.54 228.11 L2096.54 232.138 Q2094.25 233.11 2091.84 233.62 Q2089.43 234.129 2086.96 234.129 Q2080.75 234.129 2077.12 230.518 Q2073.51 226.907 2073.51 220.749 Q2073.51 214.384 2076.93 210.657 Q2080.38 206.907 2086.22 206.907 Q2091.45 206.907 2094.48 210.286 Q2097.54 213.643 2097.54 219.43 M2093.28 218.18 Q2093.23 214.685 2091.31 212.601 Q2089.41 210.518 2086.26 210.518 Q2082.7 210.518 2080.54 212.532 Q2078.42 214.546 2078.09 218.203 L2093.28 218.18 Z\" fill=\"#000000\" fill-rule=\"evenodd\" fill-opacity=\"1\" /><polyline clip-path=\"url(#clip960)\" style=\"stroke:#3da44d; stroke-width:4; stroke-opacity:1; fill:none\" points=\"\n",
       "  1719.35,276.658 1866.92,276.658 \n",
       "  \"/>\n",
       "<path clip-path=\"url(#clip960)\" d=\"M 0 0 M1912.03 269.007 L1912.03 272.989 Q1910.22 271.993 1908.39 271.507 Q1906.59 270.998 1904.74 270.998 Q1900.59 270.998 1898.3 273.637 Q1896.01 276.252 1896.01 280.998 Q1896.01 285.743 1898.3 288.382 Q1900.59 290.998 1904.74 290.998 Q1906.59 290.998 1908.39 290.512 Q1910.22 290.002 1912.03 289.007 L1912.03 292.942 Q1910.24 293.776 1908.32 294.192 Q1906.43 294.609 1904.27 294.609 Q1898.42 294.609 1894.97 290.928 Q1891.52 287.248 1891.52 280.998 Q1891.52 274.655 1894.99 271.021 Q1898.49 267.387 1904.55 267.387 Q1906.52 267.387 1908.39 267.803 Q1910.27 268.197 1912.03 269.007 Z\" fill=\"#000000\" fill-rule=\"evenodd\" fill-opacity=\"1\" /><path clip-path=\"url(#clip960)\" d=\"M 0 0 M1938.05 278.289 L1938.05 293.938 L1933.79 293.938 L1933.79 278.428 Q1933.79 274.748 1932.35 272.919 Q1930.92 271.09 1928.05 271.09 Q1924.6 271.09 1922.61 273.29 Q1920.62 275.489 1920.62 279.285 L1920.62 293.938 L1916.33 293.938 L1916.33 257.919 L1920.62 257.919 L1920.62 272.04 Q1922.14 269.702 1924.2 268.544 Q1926.29 267.387 1928.99 267.387 Q1933.46 267.387 1935.75 270.165 Q1938.05 272.919 1938.05 278.289 Z\" fill=\"#000000\" fill-rule=\"evenodd\" fill-opacity=\"1\" /><path clip-path=\"url(#clip960)\" d=\"M 0 0 M1952.56 270.998 Q1949.13 270.998 1947.14 273.683 Q1945.15 276.345 1945.15 280.998 Q1945.15 285.651 1947.12 288.336 Q1949.11 290.998 1952.56 290.998 Q1955.96 290.998 1957.95 288.313 Q1959.94 285.627 1959.94 280.998 Q1959.94 276.391 1957.95 273.706 Q1955.96 270.998 1952.56 270.998 M1952.56 267.387 Q1958.11 267.387 1961.29 270.998 Q1964.46 274.609 1964.46 280.998 Q1964.46 287.364 1961.29 290.998 Q1958.11 294.609 1952.56 294.609 Q1946.98 294.609 1943.81 290.998 Q1940.66 287.364 1940.66 280.998 Q1940.66 274.609 1943.81 270.998 Q1946.98 267.387 1952.56 267.387 Z\" fill=\"#000000\" fill-rule=\"evenodd\" fill-opacity=\"1\" /><path clip-path=\"url(#clip960)\" d=\"M 0 0 M1983.95 271.993 Q1983.23 271.577 1982.37 271.391 Q1981.54 271.183 1980.52 271.183 Q1976.91 271.183 1974.97 273.544 Q1973.05 275.882 1973.05 280.28 L1973.05 293.938 L1968.76 293.938 L1968.76 268.012 L1973.05 268.012 L1973.05 272.04 Q1974.39 269.678 1976.54 268.544 Q1978.69 267.387 1981.77 267.387 Q1982.21 267.387 1982.74 267.456 Q1983.28 267.503 1983.92 267.618 L1983.95 271.993 Z\" fill=\"#000000\" fill-rule=\"evenodd\" fill-opacity=\"1\" /><path clip-path=\"url(#clip960)\" d=\"M 0 0 M2009.55 279.91 L2009.55 281.993 L1989.97 281.993 Q1990.24 286.391 1992.61 288.706 Q1994.99 290.998 1999.23 290.998 Q2001.68 290.998 2003.97 290.396 Q2006.29 289.794 2008.55 288.59 L2008.55 292.618 Q2006.26 293.59 2003.86 294.1 Q2001.45 294.609 1998.97 294.609 Q1992.77 294.609 1989.13 290.998 Q1985.52 287.387 1985.52 281.229 Q1985.52 274.864 1988.95 271.137 Q1992.4 267.387 1998.23 267.387 Q2003.46 267.387 2006.49 270.766 Q2009.55 274.123 2009.55 279.91 M2005.29 278.66 Q2005.24 275.165 2003.32 273.081 Q2001.42 270.998 1998.28 270.998 Q1994.71 270.998 1992.56 273.012 Q1990.43 275.026 1990.11 278.683 L2005.29 278.66 Z\" fill=\"#000000\" fill-rule=\"evenodd\" fill-opacity=\"1\" /><path clip-path=\"url(#clip960)\" d=\"M 0 0 M2046.15 280.674 Q2046.15 276.044 2044.23 273.498 Q2042.33 270.952 2038.88 270.952 Q2035.45 270.952 2033.53 273.498 Q2031.63 276.044 2031.63 280.674 Q2031.63 285.28 2033.53 287.826 Q2035.45 290.373 2038.88 290.373 Q2042.33 290.373 2044.23 287.826 Q2046.15 285.28 2046.15 280.674 M2050.41 290.72 Q2050.41 297.34 2047.47 300.558 Q2044.53 303.799 2038.46 303.799 Q2036.22 303.799 2034.23 303.451 Q2032.23 303.127 2030.36 302.433 L2030.36 298.289 Q2032.23 299.308 2034.06 299.794 Q2035.89 300.28 2037.79 300.28 Q2041.98 300.28 2044.06 298.081 Q2046.15 295.905 2046.15 291.484 L2046.15 289.377 Q2044.83 291.669 2042.77 292.803 Q2040.71 293.938 2037.84 293.938 Q2033.07 293.938 2030.15 290.303 Q2027.23 286.669 2027.23 280.674 Q2027.23 274.655 2030.15 271.021 Q2033.07 267.387 2037.84 267.387 Q2040.71 267.387 2042.77 268.521 Q2044.83 269.655 2046.15 271.947 L2046.15 268.012 L2050.41 268.012 L2050.41 290.72 Z\" fill=\"#000000\" fill-rule=\"evenodd\" fill-opacity=\"1\" /><path clip-path=\"url(#clip960)\" d=\"M 0 0 M2064.92 270.998 Q2061.49 270.998 2059.5 273.683 Q2057.51 276.345 2057.51 280.998 Q2057.51 285.651 2059.48 288.336 Q2061.47 290.998 2064.92 290.998 Q2068.32 290.998 2070.31 288.313 Q2072.3 285.627 2072.3 280.998 Q2072.3 276.391 2070.31 273.706 Q2068.32 270.998 2064.92 270.998 M2064.92 267.387 Q2070.48 267.387 2073.65 270.998 Q2076.82 274.609 2076.82 280.998 Q2076.82 287.364 2073.65 290.998 Q2070.48 294.609 2064.92 294.609 Q2059.34 294.609 2056.17 290.998 Q2053.02 287.364 2053.02 280.998 Q2053.02 274.609 2056.17 270.998 Q2059.34 267.387 2064.92 267.387 Z\" fill=\"#000000\" fill-rule=\"evenodd\" fill-opacity=\"1\" /><path clip-path=\"url(#clip960)\" d=\"M 0 0 M2081.42 257.919 L2085.68 257.919 L2085.68 271.854 L2088.58 269.771 L2090.34 272.225 L2085.68 275.489 L2085.68 293.938 L2081.42 293.938 L2081.42 278.521 L2078.58 280.558 L2076.86 278.104 L2081.42 274.84 L2081.42 257.919 Z\" fill=\"#000000\" fill-rule=\"evenodd\" fill-opacity=\"1\" /><path clip-path=\"url(#clip960)\" d=\"M 0 0 M2116.98 279.91 L2116.98 281.993 L2097.4 281.993 Q2097.67 286.391 2100.04 288.706 Q2102.42 290.998 2106.66 290.998 Q2109.11 290.998 2111.4 290.396 Q2113.72 289.794 2115.98 288.59 L2115.98 292.618 Q2113.69 293.59 2111.29 294.1 Q2108.88 294.609 2106.4 294.609 Q2100.2 294.609 2096.56 290.998 Q2092.95 287.387 2092.95 281.229 Q2092.95 274.864 2096.38 271.137 Q2099.83 267.387 2105.66 267.387 Q2110.89 267.387 2113.92 270.766 Q2116.98 274.123 2116.98 279.91 M2112.72 278.66 Q2112.67 275.165 2110.75 273.081 Q2108.85 270.998 2105.71 270.998 Q2102.14 270.998 2099.99 273.012 Q2097.86 275.026 2097.54 278.683 L2112.72 278.66 M2109.23 293.938 L2111.98 293.938 Q2110.94 295.35 2110.43 296.368 Q2109.94 297.387 2109.94 298.104 Q2109.94 299.169 2110.57 299.701 Q2111.22 300.234 2112.47 300.234 Q2113.21 300.234 2113.92 300.049 Q2114.64 299.887 2115.36 299.539 L2115.36 302.618 Q2114.48 302.85 2113.69 302.965 Q2112.91 303.081 2112.21 303.081 Q2109.39 303.081 2108.04 302.063 Q2106.73 301.067 2106.73 298.914 Q2106.73 297.803 2107.33 296.576 Q2107.95 295.373 2109.23 293.938 Z\" fill=\"#000000\" fill-rule=\"evenodd\" fill-opacity=\"1\" /><path clip-path=\"url(#clip960)\" d=\"M 0 0 M2140.06 280.998 Q2140.06 276.299 2138.11 273.637 Q2136.19 270.952 2132.81 270.952 Q2129.43 270.952 2127.49 273.637 Q2125.57 276.299 2125.57 280.998 Q2125.57 285.697 2127.49 288.382 Q2129.43 291.044 2132.81 291.044 Q2136.19 291.044 2138.11 288.382 Q2140.06 285.697 2140.06 280.998 M2125.57 271.947 Q2126.91 269.632 2128.95 268.521 Q2131.01 267.387 2133.85 267.387 Q2138.58 267.387 2141.52 271.137 Q2144.48 274.887 2144.48 280.998 Q2144.48 287.109 2141.52 290.859 Q2138.58 294.609 2133.85 294.609 Q2131.01 294.609 2128.95 293.498 Q2126.91 292.363 2125.57 290.049 L2125.57 293.938 L2121.29 293.938 L2121.29 257.919 L2125.57 257.919 L2125.57 271.947 Z\" fill=\"#000000\" fill-rule=\"evenodd\" fill-opacity=\"1\" /><path clip-path=\"url(#clip960)\" d=\"M 0 0 M2148.95 268.012 L2153.21 268.012 L2153.21 293.938 L2148.95 293.938 L2148.95 268.012 M2148.95 257.919 L2153.21 257.919 L2153.21 263.313 L2148.95 263.313 L2148.95 257.919 Z\" fill=\"#000000\" fill-rule=\"evenodd\" fill-opacity=\"1\" /><path clip-path=\"url(#clip960)\" d=\"M 0 0 M2179.85 279.91 L2179.85 281.993 L2160.27 281.993 Q2160.54 286.391 2162.91 288.706 Q2165.29 290.998 2169.53 290.998 Q2171.98 290.998 2174.27 290.396 Q2176.59 289.794 2178.85 288.59 L2178.85 292.618 Q2176.56 293.59 2174.16 294.1 Q2171.75 294.609 2169.27 294.609 Q2163.07 294.609 2159.43 290.998 Q2155.82 287.387 2155.82 281.229 Q2155.82 274.864 2159.25 271.137 Q2162.7 267.387 2168.53 267.387 Q2173.76 267.387 2176.79 270.766 Q2179.85 274.123 2179.85 279.91 M2175.59 278.66 Q2175.54 275.165 2173.62 273.081 Q2171.72 270.998 2168.58 270.998 Q2165.01 270.998 2162.86 273.012 Q2160.73 275.026 2160.41 278.683 L2175.59 278.66 Z\" fill=\"#000000\" fill-rule=\"evenodd\" fill-opacity=\"1\" /><polyline clip-path=\"url(#clip960)\" style=\"stroke:#c271d2; stroke-width:4; stroke-opacity:1; fill:none\" points=\"\n",
       "  1719.35,337.138 1866.92,337.138 \n",
       "  \"/>\n",
       "<path clip-path=\"url(#clip960)\" d=\"M 0 0 M1912.03 329.487 L1912.03 333.469 Q1910.22 332.473 1908.39 331.987 Q1906.59 331.478 1904.74 331.478 Q1900.59 331.478 1898.3 334.117 Q1896.01 336.732 1896.01 341.478 Q1896.01 346.223 1898.3 348.862 Q1900.59 351.478 1904.74 351.478 Q1906.59 351.478 1908.39 350.992 Q1910.22 350.482 1912.03 349.487 L1912.03 353.422 Q1910.24 354.256 1908.32 354.672 Q1906.43 355.089 1904.27 355.089 Q1898.42 355.089 1894.97 351.408 Q1891.52 347.728 1891.52 341.478 Q1891.52 335.135 1894.99 331.501 Q1898.49 327.867 1904.55 327.867 Q1906.52 327.867 1908.39 328.283 Q1910.27 328.677 1912.03 329.487 Z\" fill=\"#000000\" fill-rule=\"evenodd\" fill-opacity=\"1\" /><path clip-path=\"url(#clip960)\" d=\"M 0 0 M1938.05 338.769 L1938.05 354.418 L1933.79 354.418 L1933.79 338.908 Q1933.79 335.228 1932.35 333.399 Q1930.92 331.57 1928.05 331.57 Q1924.6 331.57 1922.61 333.77 Q1920.62 335.969 1920.62 339.765 L1920.62 354.418 L1916.33 354.418 L1916.33 318.399 L1920.62 318.399 L1920.62 332.52 Q1922.14 330.182 1924.2 329.024 Q1926.29 327.867 1928.99 327.867 Q1933.46 327.867 1935.75 330.645 Q1938.05 333.399 1938.05 338.769 Z\" fill=\"#000000\" fill-rule=\"evenodd\" fill-opacity=\"1\" /><path clip-path=\"url(#clip960)\" d=\"M 0 0 M1952.56 331.478 Q1949.13 331.478 1947.14 334.163 Q1945.15 336.825 1945.15 341.478 Q1945.15 346.131 1947.12 348.816 Q1949.11 351.478 1952.56 351.478 Q1955.96 351.478 1957.95 348.793 Q1959.94 346.107 1959.94 341.478 Q1959.94 336.871 1957.95 334.186 Q1955.96 331.478 1952.56 331.478 M1952.56 327.867 Q1958.11 327.867 1961.29 331.478 Q1964.46 335.089 1964.46 341.478 Q1964.46 347.844 1961.29 351.478 Q1958.11 355.089 1952.56 355.089 Q1946.98 355.089 1943.81 351.478 Q1940.66 347.844 1940.66 341.478 Q1940.66 335.089 1943.81 331.478 Q1946.98 327.867 1952.56 327.867 Z\" fill=\"#000000\" fill-rule=\"evenodd\" fill-opacity=\"1\" /><path clip-path=\"url(#clip960)\" d=\"M 0 0 M1983.95 332.473 Q1983.23 332.057 1982.37 331.871 Q1981.54 331.663 1980.52 331.663 Q1976.91 331.663 1974.97 334.024 Q1973.05 336.362 1973.05 340.76 L1973.05 354.418 L1968.76 354.418 L1968.76 328.492 L1973.05 328.492 L1973.05 332.52 Q1974.39 330.158 1976.54 329.024 Q1978.69 327.867 1981.77 327.867 Q1982.21 327.867 1982.74 327.936 Q1983.28 327.983 1983.92 328.098 L1983.95 332.473 Z\" fill=\"#000000\" fill-rule=\"evenodd\" fill-opacity=\"1\" /><path clip-path=\"url(#clip960)\" d=\"M 0 0 M2009.55 340.39 L2009.55 342.473 L1989.97 342.473 Q1990.24 346.871 1992.61 349.186 Q1994.99 351.478 1999.23 351.478 Q2001.68 351.478 2003.97 350.876 Q2006.29 350.274 2008.55 349.07 L2008.55 353.098 Q2006.26 354.07 2003.86 354.58 Q2001.45 355.089 1998.97 355.089 Q1992.77 355.089 1989.13 351.478 Q1985.52 347.867 1985.52 341.709 Q1985.52 335.344 1988.95 331.617 Q1992.4 327.867 1998.23 327.867 Q2003.46 327.867 2006.49 331.246 Q2009.55 334.603 2009.55 340.39 M2005.29 339.14 Q2005.24 335.645 2003.32 333.561 Q2001.42 331.478 1998.28 331.478 Q1994.71 331.478 1992.56 333.492 Q1990.43 335.506 1990.11 339.163 L2005.29 339.14 Z\" fill=\"#000000\" fill-rule=\"evenodd\" fill-opacity=\"1\" /><path clip-path=\"url(#clip960)\" d=\"M 0 0 M2029.09 328.492 L2033.35 328.492 L2033.35 354.881 Q2033.35 359.834 2031.45 362.056 Q2029.57 364.279 2025.38 364.279 L2023.76 364.279 L2023.76 360.668 L2024.9 360.668 Q2027.33 360.668 2028.21 359.533 Q2029.09 358.422 2029.09 354.881 L2029.09 328.492 M2029.09 318.399 L2033.35 318.399 L2033.35 323.793 L2029.09 323.793 L2029.09 318.399 Z\" fill=\"#000000\" fill-rule=\"evenodd\" fill-opacity=\"1\" /><path clip-path=\"url(#clip960)\" d=\"M 0 0 M2049.6 341.385 Q2044.43 341.385 2042.44 342.566 Q2040.45 343.746 2040.45 346.594 Q2040.45 348.862 2041.93 350.205 Q2043.44 351.524 2046.01 351.524 Q2049.55 351.524 2051.68 349.024 Q2053.83 346.501 2053.83 342.334 L2053.83 341.385 L2049.6 341.385 M2058.09 339.626 L2058.09 354.418 L2053.83 354.418 L2053.83 350.482 Q2052.37 352.843 2050.2 353.978 Q2048.02 355.089 2044.87 355.089 Q2040.89 355.089 2038.53 352.867 Q2036.19 350.621 2036.19 346.871 Q2036.19 342.496 2039.11 340.274 Q2042.05 338.052 2047.86 338.052 L2053.83 338.052 L2053.83 337.635 Q2053.83 334.695 2051.89 333.098 Q2049.97 331.478 2046.47 331.478 Q2044.25 331.478 2042.14 332.01 Q2040.04 332.543 2038.09 333.607 L2038.09 329.672 Q2040.43 328.77 2042.63 328.33 Q2044.83 327.867 2046.91 327.867 Q2052.54 327.867 2055.31 330.783 Q2058.09 333.7 2058.09 339.626 Z\" fill=\"#000000\" fill-rule=\"evenodd\" fill-opacity=\"1\" /><path clip-path=\"url(#clip960)\" d=\"M 0 0 M2079.09 329.256 L2079.09 333.283 Q2077.28 332.357 2075.34 331.895 Q2073.39 331.432 2071.31 331.432 Q2068.14 331.432 2066.54 332.404 Q2064.97 333.376 2064.97 335.32 Q2064.97 336.802 2066.1 337.658 Q2067.23 338.492 2070.66 339.256 L2072.12 339.58 Q2076.66 340.552 2078.55 342.334 Q2080.48 344.094 2080.48 347.265 Q2080.48 350.876 2077.6 352.982 Q2074.76 355.089 2069.76 355.089 Q2067.67 355.089 2065.41 354.672 Q2063.16 354.279 2060.66 353.468 L2060.66 349.07 Q2063.02 350.297 2065.31 350.922 Q2067.61 351.524 2069.85 351.524 Q2072.86 351.524 2074.48 350.506 Q2076.1 349.464 2076.1 347.589 Q2076.1 345.853 2074.92 344.927 Q2073.76 344.001 2069.8 343.144 L2068.32 342.797 Q2064.36 341.964 2062.61 340.251 Q2060.85 338.515 2060.85 335.506 Q2060.85 331.848 2063.44 329.858 Q2066.03 327.867 2070.8 327.867 Q2073.16 327.867 2075.24 328.214 Q2077.33 328.561 2079.09 329.256 Z\" fill=\"#000000\" fill-rule=\"evenodd\" fill-opacity=\"1\" /><path clip-path=\"url(#clip960)\" d=\"M 0 0 M2089.16 321.131 L2089.16 328.492 L2097.93 328.492 L2097.93 331.802 L2089.16 331.802 L2089.16 345.876 Q2089.16 349.047 2090.01 349.95 Q2090.89 350.853 2093.55 350.853 L2097.93 350.853 L2097.93 354.418 L2093.55 354.418 Q2088.62 354.418 2086.75 352.589 Q2084.87 350.737 2084.87 345.876 L2084.87 331.802 L2081.75 331.802 L2081.75 328.492 L2084.87 328.492 L2084.87 321.131 L2089.16 321.131 Z\" fill=\"#000000\" fill-rule=\"evenodd\" fill-opacity=\"1\" /><path clip-path=\"url(#clip960)\" d=\"M 0 0 M2117.42 332.473 Q2116.7 332.057 2115.85 331.871 Q2115.01 331.663 2113.99 331.663 Q2110.38 331.663 2108.44 334.024 Q2106.52 336.362 2106.52 340.76 L2106.52 354.418 L2102.23 354.418 L2102.23 328.492 L2106.52 328.492 L2106.52 332.52 Q2107.86 330.158 2110.01 329.024 Q2112.16 327.867 2115.24 327.867 Q2115.68 327.867 2116.22 327.936 Q2116.75 327.983 2117.4 328.098 L2117.42 332.473 Z\" fill=\"#000000\" fill-rule=\"evenodd\" fill-opacity=\"1\" /><path clip-path=\"url(#clip960)\" d=\"M 0 0 M2120.04 328.492 L2140.27 328.492 L2140.27 332.381 L2124.25 351.015 L2140.27 351.015 L2140.27 354.418 L2119.46 354.418 L2119.46 350.529 L2135.48 331.895 L2120.04 331.895 L2120.04 328.492 Z\" fill=\"#000000\" fill-rule=\"evenodd\" fill-opacity=\"1\" /><path clip-path=\"url(#clip960)\" d=\"M 0 0 M2166.91 340.39 L2166.91 342.473 L2147.33 342.473 Q2147.6 346.871 2149.97 349.186 Q2152.35 351.478 2156.59 351.478 Q2159.04 351.478 2161.33 350.876 Q2163.65 350.274 2165.91 349.07 L2165.91 353.098 Q2163.62 354.07 2161.22 354.58 Q2158.81 355.089 2156.33 355.089 Q2150.13 355.089 2146.49 351.478 Q2142.88 347.867 2142.88 341.709 Q2142.88 335.344 2146.31 331.617 Q2149.76 327.867 2155.59 327.867 Q2160.82 327.867 2163.85 331.246 Q2166.91 334.603 2166.91 340.39 M2162.65 339.14 Q2162.6 335.645 2160.68 333.561 Q2158.79 331.478 2155.64 331.478 Q2152.07 331.478 2149.92 333.492 Q2147.79 335.506 2147.47 339.163 L2162.65 339.14 M2159.16 354.418 L2161.91 354.418 Q2160.87 355.83 2160.36 356.848 Q2159.87 357.867 2159.87 358.584 Q2159.87 359.649 2160.5 360.181 Q2161.15 360.714 2162.4 360.714 Q2163.14 360.714 2163.85 360.529 Q2164.57 360.367 2165.29 360.019 L2165.29 363.098 Q2164.41 363.33 2163.62 363.445 Q2162.84 363.561 2162.14 363.561 Q2159.32 363.561 2157.97 362.543 Q2156.66 361.547 2156.66 359.394 Q2156.66 358.283 2157.26 357.056 Q2157.88 355.853 2159.16 354.418 Z\" fill=\"#000000\" fill-rule=\"evenodd\" fill-opacity=\"1\" /><path clip-path=\"url(#clip960)\" d=\"M 0 0 M2189.99 341.478 Q2189.99 336.779 2188.04 334.117 Q2186.12 331.432 2182.74 331.432 Q2179.36 331.432 2177.42 334.117 Q2175.5 336.779 2175.5 341.478 Q2175.5 346.177 2177.42 348.862 Q2179.36 351.524 2182.74 351.524 Q2186.12 351.524 2188.04 348.862 Q2189.99 346.177 2189.99 341.478 M2175.5 332.427 Q2176.84 330.112 2178.88 329.001 Q2180.94 327.867 2183.78 327.867 Q2188.51 327.867 2191.45 331.617 Q2194.41 335.367 2194.41 341.478 Q2194.41 347.589 2191.45 351.339 Q2188.51 355.089 2183.78 355.089 Q2180.94 355.089 2178.88 353.978 Q2176.84 352.843 2175.5 350.529 L2175.5 354.418 L2171.22 354.418 L2171.22 318.399 L2175.5 318.399 L2175.5 332.427 Z\" fill=\"#000000\" fill-rule=\"evenodd\" fill-opacity=\"1\" /><path clip-path=\"url(#clip960)\" d=\"M 0 0 M2198.88 328.492 L2203.14 328.492 L2203.14 354.418 L2198.88 354.418 L2198.88 328.492 M2198.88 318.399 L2203.14 318.399 L2203.14 323.793 L2198.88 323.793 L2198.88 318.399 Z\" fill=\"#000000\" fill-rule=\"evenodd\" fill-opacity=\"1\" /><path clip-path=\"url(#clip960)\" d=\"M 0 0 M2229.78 340.39 L2229.78 342.473 L2210.2 342.473 Q2210.47 346.871 2212.84 349.186 Q2215.22 351.478 2219.46 351.478 Q2221.91 351.478 2224.2 350.876 Q2226.52 350.274 2228.78 349.07 L2228.78 353.098 Q2226.49 354.07 2224.09 354.58 Q2221.68 355.089 2219.2 355.089 Q2213 355.089 2209.36 351.478 Q2205.75 347.867 2205.75 341.709 Q2205.75 335.344 2209.18 331.617 Q2212.63 327.867 2218.46 327.867 Q2223.69 327.867 2226.72 331.246 Q2229.78 334.603 2229.78 340.39 M2225.52 339.14 Q2225.47 335.645 2223.55 333.561 Q2221.66 331.478 2218.51 331.478 Q2214.94 331.478 2212.79 333.492 Q2210.66 335.506 2210.34 339.163 L2225.52 339.14 Z\" fill=\"#000000\" fill-rule=\"evenodd\" fill-opacity=\"1\" /></svg>\n"
      ]
     },
     "execution_count": 213,
     "metadata": {},
     "output_type": "execute_result"
    }
   ],
   "source": [
    "wykresy_all(9,9,15,10,100,135,50)"
   ]
  },
  {
   "cell_type": "code",
   "execution_count": 204,
   "metadata": {},
   "outputs": [
    {
     "name": "stdout",
     "output_type": "stream",
     "text": [
      "o kurczaki chyba działa\n"
     ]
    },
    {
     "data": {
      "image/svg+xml": [
       "<?xml version=\"1.0\" encoding=\"utf-8\"?>\n",
       "<svg xmlns=\"http://www.w3.org/2000/svg\" xmlns:xlink=\"http://www.w3.org/1999/xlink\" width=\"600\" height=\"400\" viewBox=\"0 0 2400 1600\">\n",
       "<defs>\n",
       "  <clipPath id=\"clip600\">\n",
       "    <rect x=\"0\" y=\"0\" width=\"2400\" height=\"1600\"/>\n",
       "  </clipPath>\n",
       "</defs>\n",
       "<path clip-path=\"url(#clip600)\" d=\"\n",
       "M0 1600 L2400 1600 L2400 0 L0 0  Z\n",
       "  \" fill=\"#ffffff\" fill-rule=\"evenodd\" fill-opacity=\"1\"/>\n",
       "<defs>\n",
       "  <clipPath id=\"clip601\">\n",
       "    <rect x=\"480\" y=\"0\" width=\"1681\" height=\"1600\"/>\n",
       "  </clipPath>\n",
       "</defs>\n",
       "<path clip-path=\"url(#clip600)\" d=\"\n",
       "M135.95 1486.45 L2352.76 1486.45 L2352.76 47.2441 L135.95 47.2441  Z\n",
       "  \" fill=\"#ffffff\" fill-rule=\"evenodd\" fill-opacity=\"1\"/>\n",
       "<defs>\n",
       "  <clipPath id=\"clip602\">\n",
       "    <rect x=\"135\" y=\"47\" width=\"2218\" height=\"1440\"/>\n",
       "  </clipPath>\n",
       "</defs>\n",
       "<polyline clip-path=\"url(#clip602)\" style=\"stroke:#000000; stroke-width:2; stroke-opacity:0.1; fill:none\" points=\"\n",
       "  156.01,1486.45 156.01,47.2441 \n",
       "  \"/>\n",
       "<polyline clip-path=\"url(#clip602)\" style=\"stroke:#000000; stroke-width:2; stroke-opacity:0.1; fill:none\" points=\"\n",
       "  582.811,1486.45 582.811,47.2441 \n",
       "  \"/>\n",
       "<polyline clip-path=\"url(#clip602)\" style=\"stroke:#000000; stroke-width:2; stroke-opacity:0.1; fill:none\" points=\"\n",
       "  1009.61,1486.45 1009.61,47.2441 \n",
       "  \"/>\n",
       "<polyline clip-path=\"url(#clip602)\" style=\"stroke:#000000; stroke-width:2; stroke-opacity:0.1; fill:none\" points=\"\n",
       "  1436.41,1486.45 1436.41,47.2441 \n",
       "  \"/>\n",
       "<polyline clip-path=\"url(#clip602)\" style=\"stroke:#000000; stroke-width:2; stroke-opacity:0.1; fill:none\" points=\"\n",
       "  1863.21,1486.45 1863.21,47.2441 \n",
       "  \"/>\n",
       "<polyline clip-path=\"url(#clip602)\" style=\"stroke:#000000; stroke-width:2; stroke-opacity:0.1; fill:none\" points=\"\n",
       "  2290.02,1486.45 2290.02,47.2441 \n",
       "  \"/>\n",
       "<polyline clip-path=\"url(#clip600)\" style=\"stroke:#000000; stroke-width:4; stroke-opacity:1; fill:none\" points=\"\n",
       "  135.95,1486.45 2352.76,1486.45 \n",
       "  \"/>\n",
       "<polyline clip-path=\"url(#clip600)\" style=\"stroke:#000000; stroke-width:4; stroke-opacity:1; fill:none\" points=\"\n",
       "  156.01,1486.45 156.01,1469.18 \n",
       "  \"/>\n",
       "<polyline clip-path=\"url(#clip600)\" style=\"stroke:#000000; stroke-width:4; stroke-opacity:1; fill:none\" points=\"\n",
       "  582.811,1486.45 582.811,1469.18 \n",
       "  \"/>\n",
       "<polyline clip-path=\"url(#clip600)\" style=\"stroke:#000000; stroke-width:4; stroke-opacity:1; fill:none\" points=\"\n",
       "  1009.61,1486.45 1009.61,1469.18 \n",
       "  \"/>\n",
       "<polyline clip-path=\"url(#clip600)\" style=\"stroke:#000000; stroke-width:4; stroke-opacity:1; fill:none\" points=\"\n",
       "  1436.41,1486.45 1436.41,1469.18 \n",
       "  \"/>\n",
       "<polyline clip-path=\"url(#clip600)\" style=\"stroke:#000000; stroke-width:4; stroke-opacity:1; fill:none\" points=\"\n",
       "  1863.21,1486.45 1863.21,1469.18 \n",
       "  \"/>\n",
       "<polyline clip-path=\"url(#clip600)\" style=\"stroke:#000000; stroke-width:4; stroke-opacity:1; fill:none\" points=\"\n",
       "  2290.02,1486.45 2290.02,1469.18 \n",
       "  \"/>\n",
       "<path clip-path=\"url(#clip600)\" d=\"M 0 0 M156.01 1515.64 Q152.399 1515.64 150.57 1519.2 Q148.765 1522.75 148.765 1529.87 Q148.765 1536.98 150.57 1540.55 Q152.399 1544.09 156.01 1544.09 Q159.644 1544.09 161.45 1540.55 Q163.278 1536.98 163.278 1529.87 Q163.278 1522.75 161.45 1519.2 Q159.644 1515.64 156.01 1515.64 M156.01 1511.93 Q161.82 1511.93 164.876 1516.54 Q167.954 1521.12 167.954 1529.87 Q167.954 1538.6 164.876 1543.21 Q161.82 1547.79 156.01 1547.79 Q150.2 1547.79 147.121 1543.21 Q144.065 1538.6 144.065 1529.87 Q144.065 1521.12 147.121 1516.54 Q150.2 1511.93 156.01 1511.93 Z\" fill=\"#000000\" fill-rule=\"evenodd\" fill-opacity=\"1\" /><path clip-path=\"url(#clip600)\" d=\"M 0 0 M559.686 1543.18 L567.325 1543.18 L567.325 1516.82 L559.015 1518.49 L559.015 1514.23 L567.279 1512.56 L571.955 1512.56 L571.955 1543.18 L579.594 1543.18 L579.594 1547.12 L559.686 1547.12 L559.686 1543.18 Z\" fill=\"#000000\" fill-rule=\"evenodd\" fill-opacity=\"1\" /><path clip-path=\"url(#clip600)\" d=\"M 0 0 M594.663 1515.64 Q591.052 1515.64 589.223 1519.2 Q587.418 1522.75 587.418 1529.87 Q587.418 1536.98 589.223 1540.55 Q591.052 1544.09 594.663 1544.09 Q598.297 1544.09 600.103 1540.55 Q601.931 1536.98 601.931 1529.87 Q601.931 1522.75 600.103 1519.2 Q598.297 1515.64 594.663 1515.64 M594.663 1511.93 Q600.473 1511.93 603.529 1516.54 Q606.607 1521.12 606.607 1529.87 Q606.607 1538.6 603.529 1543.21 Q600.473 1547.79 594.663 1547.79 Q588.853 1547.79 585.774 1543.21 Q582.719 1538.6 582.719 1529.87 Q582.719 1521.12 585.774 1516.54 Q588.853 1511.93 594.663 1511.93 Z\" fill=\"#000000\" fill-rule=\"evenodd\" fill-opacity=\"1\" /><path clip-path=\"url(#clip600)\" d=\"M 0 0 M990.758 1543.18 L1007.08 1543.18 L1007.08 1547.12 L985.133 1547.12 L985.133 1543.18 Q987.795 1540.43 992.379 1535.8 Q996.985 1531.15 998.166 1529.81 Q1000.41 1527.28 1001.29 1525.55 Q1002.19 1523.79 1002.19 1522.1 Q1002.19 1519.34 1000.25 1517.61 Q998.328 1515.87 995.226 1515.87 Q993.027 1515.87 990.573 1516.63 Q988.143 1517.4 985.365 1518.95 L985.365 1514.23 Q988.189 1513.09 990.643 1512.51 Q993.096 1511.93 995.133 1511.93 Q1000.5 1511.93 1003.7 1514.62 Q1006.89 1517.31 1006.89 1521.8 Q1006.89 1523.93 1006.08 1525.85 Q1005.3 1527.74 1003.19 1530.34 Q1002.61 1531.01 999.508 1534.23 Q996.406 1537.42 990.758 1543.18 Z\" fill=\"#000000\" fill-rule=\"evenodd\" fill-opacity=\"1\" /><path clip-path=\"url(#clip600)\" d=\"M 0 0 M1022.15 1515.64 Q1018.54 1515.64 1016.71 1519.2 Q1014.9 1522.75 1014.9 1529.87 Q1014.9 1536.98 1016.71 1540.55 Q1018.54 1544.09 1022.15 1544.09 Q1025.78 1544.09 1027.59 1540.55 Q1029.42 1536.98 1029.42 1529.87 Q1029.42 1522.75 1027.59 1519.2 Q1025.78 1515.64 1022.15 1515.64 M1022.15 1511.93 Q1027.96 1511.93 1031.01 1516.54 Q1034.09 1521.12 1034.09 1529.87 Q1034.09 1538.6 1031.01 1543.21 Q1027.96 1547.79 1022.15 1547.79 Q1016.34 1547.79 1013.26 1543.21 Q1010.2 1538.6 1010.2 1529.87 Q1010.2 1521.12 1013.26 1516.54 Q1016.34 1511.93 1022.15 1511.93 Z\" fill=\"#000000\" fill-rule=\"evenodd\" fill-opacity=\"1\" /><path clip-path=\"url(#clip600)\" d=\"M 0 0 M1427.15 1528.49 Q1430.51 1529.2 1432.39 1531.47 Q1434.28 1533.74 1434.28 1537.07 Q1434.28 1542.19 1430.77 1544.99 Q1427.25 1547.79 1420.77 1547.79 Q1418.59 1547.79 1416.27 1547.35 Q1413.98 1546.93 1411.53 1546.08 L1411.53 1541.56 Q1413.47 1542.7 1415.79 1543.28 Q1418.1 1543.86 1420.63 1543.86 Q1425.02 1543.86 1427.32 1542.12 Q1429.63 1540.38 1429.63 1537.07 Q1429.63 1534.02 1427.48 1532.31 Q1425.35 1530.57 1421.53 1530.57 L1417.5 1530.57 L1417.5 1526.73 L1421.71 1526.73 Q1425.16 1526.73 1426.99 1525.36 Q1428.82 1523.97 1428.82 1521.38 Q1428.82 1518.72 1426.92 1517.31 Q1425.05 1515.87 1421.53 1515.87 Q1419.61 1515.87 1417.41 1516.29 Q1415.21 1516.7 1412.57 1517.58 L1412.57 1513.42 Q1415.23 1512.68 1417.55 1512.31 Q1419.89 1511.93 1421.95 1511.93 Q1427.27 1511.93 1430.37 1514.37 Q1433.47 1516.77 1433.47 1520.89 Q1433.47 1523.76 1431.83 1525.75 Q1430.19 1527.72 1427.15 1528.49 Z\" fill=\"#000000\" fill-rule=\"evenodd\" fill-opacity=\"1\" /><path clip-path=\"url(#clip600)\" d=\"M 0 0 M1449.35 1515.64 Q1445.74 1515.64 1443.91 1519.2 Q1442.11 1522.75 1442.11 1529.87 Q1442.11 1536.98 1443.91 1540.55 Q1445.74 1544.09 1449.35 1544.09 Q1452.99 1544.09 1454.79 1540.55 Q1456.62 1536.98 1456.62 1529.87 Q1456.62 1522.75 1454.79 1519.2 Q1452.99 1515.64 1449.35 1515.64 M1449.35 1511.93 Q1455.16 1511.93 1458.22 1516.54 Q1461.3 1521.12 1461.3 1529.87 Q1461.3 1538.6 1458.22 1543.21 Q1455.16 1547.79 1449.35 1547.79 Q1443.54 1547.79 1440.46 1543.21 Q1437.41 1538.6 1437.41 1529.87 Q1437.41 1521.12 1440.46 1516.54 Q1443.54 1511.93 1449.35 1511.93 Z\" fill=\"#000000\" fill-rule=\"evenodd\" fill-opacity=\"1\" /><path clip-path=\"url(#clip600)\" d=\"M 0 0 M1852.72 1516.63 L1840.91 1535.08 L1852.72 1535.08 L1852.72 1516.63 M1851.49 1512.56 L1857.37 1512.56 L1857.37 1535.08 L1862.3 1535.08 L1862.3 1538.97 L1857.37 1538.97 L1857.37 1547.12 L1852.72 1547.12 L1852.72 1538.97 L1837.12 1538.97 L1837.12 1534.46 L1851.49 1512.56 Z\" fill=\"#000000\" fill-rule=\"evenodd\" fill-opacity=\"1\" /><path clip-path=\"url(#clip600)\" d=\"M 0 0 M1877.37 1515.64 Q1873.76 1515.64 1871.93 1519.2 Q1870.12 1522.75 1870.12 1529.87 Q1870.12 1536.98 1871.93 1540.55 Q1873.76 1544.09 1877.37 1544.09 Q1881 1544.09 1882.81 1540.55 Q1884.64 1536.98 1884.64 1529.87 Q1884.64 1522.75 1882.81 1519.2 Q1881 1515.64 1877.37 1515.64 M1877.37 1511.93 Q1883.18 1511.93 1886.24 1516.54 Q1889.31 1521.12 1889.31 1529.87 Q1889.31 1538.6 1886.24 1543.21 Q1883.18 1547.79 1877.37 1547.79 Q1871.56 1547.79 1868.48 1543.21 Q1865.43 1538.6 1865.43 1529.87 Q1865.43 1521.12 1868.48 1516.54 Q1871.56 1511.93 1877.37 1511.93 Z\" fill=\"#000000\" fill-rule=\"evenodd\" fill-opacity=\"1\" /><path clip-path=\"url(#clip600)\" d=\"M 0 0 M2266.79 1512.56 L2285.14 1512.56 L2285.14 1516.5 L2271.07 1516.5 L2271.07 1524.97 Q2272.09 1524.62 2273.11 1524.46 Q2274.13 1524.27 2275.14 1524.27 Q2280.93 1524.27 2284.31 1527.44 Q2287.69 1530.62 2287.69 1536.03 Q2287.69 1541.61 2284.22 1544.71 Q2280.75 1547.79 2274.43 1547.79 Q2272.25 1547.79 2269.98 1547.42 Q2267.74 1547.05 2265.33 1546.31 L2265.33 1541.61 Q2267.41 1542.74 2269.63 1543.3 Q2271.86 1543.86 2274.33 1543.86 Q2278.34 1543.86 2280.68 1541.75 Q2283.01 1539.64 2283.01 1536.03 Q2283.01 1532.42 2280.68 1530.31 Q2278.34 1528.21 2274.33 1528.21 Q2272.46 1528.21 2270.58 1528.62 Q2268.73 1529.04 2266.79 1529.92 L2266.79 1512.56 Z\" fill=\"#000000\" fill-rule=\"evenodd\" fill-opacity=\"1\" /><path clip-path=\"url(#clip600)\" d=\"M 0 0 M2302.76 1515.64 Q2299.15 1515.64 2297.32 1519.2 Q2295.51 1522.75 2295.51 1529.87 Q2295.51 1536.98 2297.32 1540.55 Q2299.15 1544.09 2302.76 1544.09 Q2306.39 1544.09 2308.2 1540.55 Q2310.03 1536.98 2310.03 1529.87 Q2310.03 1522.75 2308.2 1519.2 Q2306.39 1515.64 2302.76 1515.64 M2302.76 1511.93 Q2308.57 1511.93 2311.62 1516.54 Q2314.7 1521.12 2314.7 1529.87 Q2314.7 1538.6 2311.62 1543.21 Q2308.57 1547.79 2302.76 1547.79 Q2296.95 1547.79 2293.87 1543.21 Q2290.81 1538.6 2290.81 1529.87 Q2290.81 1521.12 2293.87 1516.54 Q2296.95 1511.93 2302.76 1511.93 Z\" fill=\"#000000\" fill-rule=\"evenodd\" fill-opacity=\"1\" /><polyline clip-path=\"url(#clip602)\" style=\"stroke:#000000; stroke-width:2; stroke-opacity:0.1; fill:none\" points=\"\n",
       "  135.95,1445.72 2352.76,1445.72 \n",
       "  \"/>\n",
       "<polyline clip-path=\"url(#clip602)\" style=\"stroke:#000000; stroke-width:2; stroke-opacity:0.1; fill:none\" points=\"\n",
       "  135.95,1194.28 2352.76,1194.28 \n",
       "  \"/>\n",
       "<polyline clip-path=\"url(#clip602)\" style=\"stroke:#000000; stroke-width:2; stroke-opacity:0.1; fill:none\" points=\"\n",
       "  135.95,942.849 2352.76,942.849 \n",
       "  \"/>\n",
       "<polyline clip-path=\"url(#clip602)\" style=\"stroke:#000000; stroke-width:2; stroke-opacity:0.1; fill:none\" points=\"\n",
       "  135.95,691.416 2352.76,691.416 \n",
       "  \"/>\n",
       "<polyline clip-path=\"url(#clip602)\" style=\"stroke:#000000; stroke-width:2; stroke-opacity:0.1; fill:none\" points=\"\n",
       "  135.95,439.983 2352.76,439.983 \n",
       "  \"/>\n",
       "<polyline clip-path=\"url(#clip602)\" style=\"stroke:#000000; stroke-width:2; stroke-opacity:0.1; fill:none\" points=\"\n",
       "  135.95,188.55 2352.76,188.55 \n",
       "  \"/>\n",
       "<polyline clip-path=\"url(#clip600)\" style=\"stroke:#000000; stroke-width:4; stroke-opacity:1; fill:none\" points=\"\n",
       "  135.95,1486.45 135.95,47.2441 \n",
       "  \"/>\n",
       "<polyline clip-path=\"url(#clip600)\" style=\"stroke:#000000; stroke-width:4; stroke-opacity:1; fill:none\" points=\"\n",
       "  135.95,1445.72 162.552,1445.72 \n",
       "  \"/>\n",
       "<polyline clip-path=\"url(#clip600)\" style=\"stroke:#000000; stroke-width:4; stroke-opacity:1; fill:none\" points=\"\n",
       "  135.95,1194.28 162.552,1194.28 \n",
       "  \"/>\n",
       "<polyline clip-path=\"url(#clip600)\" style=\"stroke:#000000; stroke-width:4; stroke-opacity:1; fill:none\" points=\"\n",
       "  135.95,942.849 162.552,942.849 \n",
       "  \"/>\n",
       "<polyline clip-path=\"url(#clip600)\" style=\"stroke:#000000; stroke-width:4; stroke-opacity:1; fill:none\" points=\"\n",
       "  135.95,691.416 162.552,691.416 \n",
       "  \"/>\n",
       "<polyline clip-path=\"url(#clip600)\" style=\"stroke:#000000; stroke-width:4; stroke-opacity:1; fill:none\" points=\"\n",
       "  135.95,439.983 162.552,439.983 \n",
       "  \"/>\n",
       "<polyline clip-path=\"url(#clip600)\" style=\"stroke:#000000; stroke-width:4; stroke-opacity:1; fill:none\" points=\"\n",
       "  135.95,188.55 162.552,188.55 \n",
       "  \"/>\n",
       "<path clip-path=\"url(#clip600)\" d=\"M 0 0 M88.0058 1431.51 Q84.3947 1431.51 82.566 1435.08 Q80.7605 1438.62 80.7605 1445.75 Q80.7605 1452.86 82.566 1456.42 Q84.3947 1459.96 88.0058 1459.96 Q91.6401 1459.96 93.4456 1456.42 Q95.2743 1452.86 95.2743 1445.75 Q95.2743 1438.62 93.4456 1435.08 Q91.6401 1431.51 88.0058 1431.51 M88.0058 1427.81 Q93.816 1427.81 96.8715 1432.42 Q99.9502 1437 99.9502 1445.75 Q99.9502 1454.48 96.8715 1459.08 Q93.816 1463.67 88.0058 1463.67 Q82.1957 1463.67 79.117 1459.08 Q76.0614 1454.48 76.0614 1445.75 Q76.0614 1437 79.117 1432.42 Q82.1957 1427.81 88.0058 1427.81 Z\" fill=\"#000000\" fill-rule=\"evenodd\" fill-opacity=\"1\" /><path clip-path=\"url(#clip600)\" d=\"M 0 0 M79.0475 1177 L97.4039 1177 L97.4039 1180.94 L83.3299 1180.94 L83.3299 1189.41 Q84.3484 1189.06 85.3669 1188.9 Q86.3855 1188.72 87.404 1188.72 Q93.191 1188.72 96.5706 1191.89 Q99.9502 1195.06 99.9502 1200.47 Q99.9502 1206.05 96.478 1209.16 Q93.0058 1212.23 86.6864 1212.23 Q84.5105 1212.23 82.242 1211.86 Q79.9966 1211.49 77.5892 1210.75 L77.5892 1206.05 Q79.6725 1207.19 81.8947 1207.74 Q84.1169 1208.3 86.5938 1208.3 Q90.5984 1208.3 92.9363 1206.19 Q95.2743 1204.09 95.2743 1200.47 Q95.2743 1196.86 92.9363 1194.76 Q90.5984 1192.65 86.5938 1192.65 Q84.7188 1192.65 82.8438 1193.07 Q80.992 1193.48 79.0475 1194.36 L79.0475 1177 Z\" fill=\"#000000\" fill-rule=\"evenodd\" fill-opacity=\"1\" /><path clip-path=\"url(#clip600)\" d=\"M 0 0 M53.0292 956.194 L60.668 956.194 L60.668 929.828 L52.3579 931.495 L52.3579 927.236 L60.6217 925.569 L65.2976 925.569 L65.2976 956.194 L72.9365 956.194 L72.9365 960.129 L53.0292 960.129 L53.0292 956.194 Z\" fill=\"#000000\" fill-rule=\"evenodd\" fill-opacity=\"1\" /><path clip-path=\"url(#clip600)\" d=\"M 0 0 M88.0058 928.648 Q84.3947 928.648 82.566 932.213 Q80.7605 935.754 80.7605 942.884 Q80.7605 949.99 82.566 953.555 Q84.3947 957.097 88.0058 957.097 Q91.6401 957.097 93.4456 953.555 Q95.2743 949.99 95.2743 942.884 Q95.2743 935.754 93.4456 932.213 Q91.6401 928.648 88.0058 928.648 M88.0058 924.944 Q93.816 924.944 96.8715 929.551 Q99.9502 934.134 99.9502 942.884 Q99.9502 951.611 96.8715 956.217 Q93.816 960.801 88.0058 960.801 Q82.1957 960.801 79.117 956.217 Q76.0614 951.611 76.0614 942.884 Q76.0614 934.134 79.117 929.551 Q82.1957 924.944 88.0058 924.944 Z\" fill=\"#000000\" fill-rule=\"evenodd\" fill-opacity=\"1\" /><path clip-path=\"url(#clip600)\" d=\"M 0 0 M54.0245 704.761 L61.6634 704.761 L61.6634 678.395 L53.3532 680.062 L53.3532 675.803 L61.6171 674.136 L66.293 674.136 L66.293 704.761 L73.9318 704.761 L73.9318 708.696 L54.0245 708.696 L54.0245 704.761 Z\" fill=\"#000000\" fill-rule=\"evenodd\" fill-opacity=\"1\" /><path clip-path=\"url(#clip600)\" d=\"M 0 0 M79.0475 674.136 L97.4039 674.136 L97.4039 678.071 L83.3299 678.071 L83.3299 686.543 Q84.3484 686.196 85.3669 686.034 Q86.3855 685.849 87.404 685.849 Q93.191 685.849 96.5706 689.02 Q99.9502 692.191 99.9502 697.608 Q99.9502 703.187 96.478 706.289 Q93.0058 709.367 86.6864 709.367 Q84.5105 709.367 82.242 708.997 Q79.9966 708.627 77.5892 707.886 L77.5892 703.187 Q79.6725 704.321 81.8947 704.877 Q84.1169 705.432 86.5938 705.432 Q90.5984 705.432 92.9363 703.326 Q95.2743 701.219 95.2743 697.608 Q95.2743 693.997 92.9363 691.891 Q90.5984 689.784 86.5938 689.784 Q84.7188 689.784 82.8438 690.201 Q80.992 690.617 79.0475 691.497 L79.0475 674.136 Z\" fill=\"#000000\" fill-rule=\"evenodd\" fill-opacity=\"1\" /><path clip-path=\"url(#clip600)\" d=\"M 0 0 M56.6171 453.328 L72.9365 453.328 L72.9365 457.263 L50.9921 457.263 L50.9921 453.328 Q53.6541 450.573 58.2375 445.943 Q62.8439 441.291 64.0245 439.948 Q66.2698 437.425 67.1494 435.689 Q68.0522 433.93 68.0522 432.24 Q68.0522 429.485 66.1078 427.749 Q64.1865 426.013 61.0847 426.013 Q58.8856 426.013 56.4319 426.777 Q54.0014 427.541 51.2236 429.092 L51.2236 424.369 Q54.0477 423.235 56.5014 422.656 Q58.955 422.078 60.9921 422.078 Q66.3624 422.078 69.5568 424.763 Q72.7513 427.448 72.7513 431.939 Q72.7513 434.068 71.9411 435.99 Q71.1541 437.888 69.0476 440.48 Q68.4689 441.152 65.367 444.369 Q62.2652 447.564 56.6171 453.328 Z\" fill=\"#000000\" fill-rule=\"evenodd\" fill-opacity=\"1\" /><path clip-path=\"url(#clip600)\" d=\"M 0 0 M88.0058 425.781 Q84.3947 425.781 82.566 429.346 Q80.7605 432.888 80.7605 440.018 Q80.7605 447.124 82.566 450.689 Q84.3947 454.23 88.0058 454.23 Q91.6401 454.23 93.4456 450.689 Q95.2743 447.124 95.2743 440.018 Q95.2743 432.888 93.4456 429.346 Q91.6401 425.781 88.0058 425.781 M88.0058 422.078 Q93.816 422.078 96.8715 426.684 Q99.9502 431.268 99.9502 440.018 Q99.9502 448.744 96.8715 453.351 Q93.816 457.934 88.0058 457.934 Q82.1957 457.934 79.117 453.351 Q76.0614 448.744 76.0614 440.018 Q76.0614 431.268 79.117 426.684 Q82.1957 422.078 88.0058 422.078 Z\" fill=\"#000000\" fill-rule=\"evenodd\" fill-opacity=\"1\" /><path clip-path=\"url(#clip600)\" d=\"M 0 0 M57.6125 201.894 L73.9318 201.894 L73.9318 205.83 L51.9875 205.83 L51.9875 201.894 Q54.6495 199.14 59.2328 194.51 Q63.8393 189.857 65.0198 188.515 Q67.2652 185.992 68.1448 184.256 Q69.0476 182.496 69.0476 180.807 Q69.0476 178.052 67.1032 176.316 Q65.1819 174.58 62.08 174.58 Q59.881 174.58 57.4273 175.344 Q54.9967 176.108 52.219 177.658 L52.219 172.936 Q55.043 171.802 57.4967 171.223 Q59.9504 170.645 61.9874 170.645 Q67.3578 170.645 70.5522 173.33 Q73.7466 176.015 73.7466 180.506 Q73.7466 182.635 72.9365 184.557 Q72.1494 186.455 70.0429 189.047 Q69.4642 189.719 66.3624 192.936 Q63.2606 196.131 57.6125 201.894 Z\" fill=\"#000000\" fill-rule=\"evenodd\" fill-opacity=\"1\" /><path clip-path=\"url(#clip600)\" d=\"M 0 0 M79.0475 171.27 L97.4039 171.27 L97.4039 175.205 L83.3299 175.205 L83.3299 183.677 Q84.3484 183.33 85.3669 183.168 Q86.3855 182.982 87.404 182.982 Q93.191 182.982 96.5706 186.154 Q99.9502 189.325 99.9502 194.742 Q99.9502 200.32 96.478 203.422 Q93.0058 206.501 86.6864 206.501 Q84.5105 206.501 82.242 206.13 Q79.9966 205.76 77.5892 205.019 L77.5892 200.32 Q79.6725 201.455 81.8947 202.01 Q84.1169 202.566 86.5938 202.566 Q90.5984 202.566 92.9363 200.459 Q95.2743 198.353 95.2743 194.742 Q95.2743 191.131 92.9363 189.024 Q90.5984 186.918 86.5938 186.918 Q84.7188 186.918 82.8438 187.334 Q80.992 187.751 79.0475 188.631 L79.0475 171.27 Z\" fill=\"#000000\" fill-rule=\"evenodd\" fill-opacity=\"1\" /><polyline clip-path=\"url(#clip602)\" style=\"stroke:#009af9; stroke-width:4; stroke-opacity:1; fill:none\" points=\"\n",
       "  198.69,791.989 241.37,993.136 284.05,1043.42 326.73,1194.28 369.41,1194.28 412.091,1144 454.771,1294.86 497.451,1345.14 540.131,1194.28 582.811,1194.28 \n",
       "  625.491,1043.42 668.171,1093.71 710.851,1043.42 753.532,892.563 796.212,741.703 838.892,1043.42 881.572,1144 924.252,1043.42 966.932,993.136 1009.61,942.849 \n",
       "  1052.29,1093.71 1094.97,993.136 1137.65,1144 1180.33,1194.28 1223.01,1144 1265.69,1244.57 1308.37,1144 1351.05,1194.28 1393.73,1194.28 1436.41,1244.57 \n",
       "  1479.09,1144 1521.77,1144 1564.45,892.563 1607.13,791.989 1649.81,942.849 1692.49,842.276 1735.17,540.556 1777.85,641.129 1820.53,842.276 1863.21,942.849 \n",
       "  1905.89,691.416 1948.58,540.556 1991.26,339.41 2033.94,490.269 2076.62,339.41 2119.3,389.696 2161.98,791.989 2204.66,791.989 2247.34,791.989 2290.02,741.703 \n",
       "  \n",
       "  \"/>\n",
       "<polyline clip-path=\"url(#clip602)\" style=\"stroke:#e26f46; stroke-width:4; stroke-opacity:1; fill:none\" points=\"\n",
       "  198.69,1093.71 241.37,842.276 284.05,389.696 326.73,741.703 369.41,490.269 412.091,339.41 454.771,439.983 497.451,439.983 540.131,691.416 582.811,842.276 \n",
       "  625.491,691.416 668.171,490.269 710.851,641.129 753.532,590.843 796.212,289.123 838.892,289.123 881.572,339.41 924.252,339.41 966.932,641.129 1009.61,238.836 \n",
       "  1052.29,691.416 1094.97,741.703 1137.65,540.556 1180.33,641.129 1223.01,590.843 1265.69,289.123 1308.37,590.843 1351.05,490.269 1393.73,490.269 1436.41,238.836 \n",
       "  1479.09,540.556 1521.77,389.696 1564.45,490.269 1607.13,339.41 1649.81,87.9763 1692.49,791.989 1735.17,490.269 1777.85,289.123 1820.53,188.55 1863.21,339.41 \n",
       "  1905.89,490.269 1948.58,691.416 1991.26,691.416 2033.94,389.696 2076.62,741.703 2119.3,389.696 2161.98,238.836 2204.66,791.989 2247.34,641.129 2290.02,741.703 \n",
       "  \n",
       "  \"/>\n",
       "<polyline clip-path=\"url(#clip602)\" style=\"stroke:#3da44d; stroke-width:4; stroke-opacity:1; fill:none\" points=\"\n",
       "  198.69,942.849 241.37,791.989 284.05,942.849 326.73,1043.42 369.41,1194.28 412.091,1294.86 454.771,1244.57 497.451,1244.57 540.131,1345.14 582.811,1294.86 \n",
       "  625.491,1244.57 668.171,1144 710.851,1345.14 753.532,1395.43 796.212,1345.14 838.892,1445.72 881.572,1345.14 924.252,1395.43 966.932,1345.14 1009.61,1345.14 \n",
       "  1052.29,1345.14 1094.97,1345.14 1137.65,1244.57 1180.33,1194.28 1223.01,1445.72 1265.69,1345.14 1308.37,1395.43 1351.05,1395.43 1393.73,1294.86 1436.41,1294.86 \n",
       "  1479.09,1345.14 1521.77,1294.86 1564.45,1345.14 1607.13,1445.72 1649.81,1445.72 1692.49,1445.72 1735.17,1445.72 1777.85,1345.14 1820.53,1445.72 1863.21,1395.43 \n",
       "  1905.89,1345.14 1948.58,1294.86 1991.26,1194.28 2033.94,1043.42 2076.62,1194.28 2119.3,1294.86 2161.98,1345.14 2204.66,1445.72 2247.34,1395.43 2290.02,1395.43 \n",
       "  \n",
       "  \"/>\n",
       "<polyline clip-path=\"url(#clip602)\" style=\"stroke:#c271d2; stroke-width:4; stroke-opacity:1; fill:none\" points=\"\n",
       "  198.69,942.849 241.37,892.563 284.05,1093.71 326.73,1093.71 369.41,1194.28 412.091,942.849 454.771,1043.42 497.451,1093.71 540.131,1144 582.811,1093.71 \n",
       "  625.491,892.563 668.171,942.849 710.851,942.849 753.532,1244.57 796.212,1144 838.892,1093.71 881.572,942.849 924.252,942.849 966.932,993.136 1009.61,1043.42 \n",
       "  1052.29,892.563 1094.97,993.136 1137.65,892.563 1180.33,842.276 1223.01,892.563 1265.69,993.136 1308.37,942.849 1351.05,691.416 1393.73,892.563 1436.41,1043.42 \n",
       "  1479.09,1144 1521.77,1194.28 1564.45,1294.86 1607.13,1294.86 1649.81,1294.86 1692.49,1294.86 1735.17,1345.14 1777.85,1244.57 1820.53,1294.86 1863.21,1395.43 \n",
       "  1905.89,1445.72 1948.58,1445.72 1991.26,1395.43 2033.94,1445.72 2076.62,1345.14 2119.3,1294.86 2161.98,1395.43 2204.66,1395.43 2247.34,1345.14 2290.02,1395.43 \n",
       "  \n",
       "  \"/>\n",
       "<path clip-path=\"url(#clip600)\" d=\"\n",
       "M1694.29 397.618 L2278.86 397.618 L2278.86 95.2176 L1694.29 95.2176  Z\n",
       "  \" fill=\"#ffffff\" fill-rule=\"evenodd\" fill-opacity=\"1\"/>\n",
       "<polyline clip-path=\"url(#clip600)\" style=\"stroke:#000000; stroke-width:4; stroke-opacity:1; fill:none\" points=\"\n",
       "  1694.29,397.618 2278.86,397.618 2278.86,95.2176 1694.29,95.2176 1694.29,397.618 \n",
       "  \"/>\n",
       "<polyline clip-path=\"url(#clip600)\" style=\"stroke:#009af9; stroke-width:4; stroke-opacity:1; fill:none\" points=\"\n",
       "  1718.92,155.698 1866.71,155.698 \n",
       "  \"/>\n",
       "<path clip-path=\"url(#clip600)\" d=\"M 0 0 M1910.25 159.714 Q1910.25 155.084 1908.33 152.538 Q1906.43 149.992 1902.98 149.992 Q1899.56 149.992 1897.63 152.538 Q1895.74 155.084 1895.74 159.714 Q1895.74 164.32 1897.63 166.866 Q1899.56 169.413 1902.98 169.413 Q1906.43 169.413 1908.33 166.866 Q1910.25 164.32 1910.25 159.714 M1914.51 169.76 Q1914.51 176.38 1911.57 179.598 Q1908.63 182.839 1902.56 182.839 Q1900.32 182.839 1898.33 182.491 Q1896.34 182.167 1894.46 181.473 L1894.46 177.329 Q1896.34 178.348 1898.17 178.834 Q1900 179.32 1901.89 179.32 Q1906.08 179.32 1908.17 177.121 Q1910.25 174.945 1910.25 170.524 L1910.25 168.417 Q1908.93 170.709 1906.87 171.843 Q1904.81 172.978 1901.94 172.978 Q1897.17 172.978 1894.25 169.343 Q1891.34 165.709 1891.34 159.714 Q1891.34 153.695 1894.25 150.061 Q1897.17 146.427 1901.94 146.427 Q1904.81 146.427 1906.87 147.561 Q1908.93 148.695 1910.25 150.987 L1910.25 147.052 L1914.51 147.052 L1914.51 169.76 Z\" fill=\"#000000\" fill-rule=\"evenodd\" fill-opacity=\"1\" /><path clip-path=\"url(#clip600)\" d=\"M 0 0 M1929.02 150.038 Q1925.6 150.038 1923.61 152.723 Q1921.62 155.385 1921.62 160.038 Q1921.62 164.691 1923.58 167.376 Q1925.57 170.038 1929.02 170.038 Q1932.43 170.038 1934.42 167.353 Q1936.41 164.667 1936.41 160.038 Q1936.41 155.431 1934.42 152.746 Q1932.43 150.038 1929.02 150.038 M1929.02 146.427 Q1934.58 146.427 1937.75 150.038 Q1940.92 153.649 1940.92 160.038 Q1940.92 166.404 1937.75 170.038 Q1934.58 173.649 1929.02 173.649 Q1923.44 173.649 1920.27 170.038 Q1917.12 166.404 1917.12 160.038 Q1917.12 153.649 1920.27 150.038 Q1923.44 146.427 1929.02 146.427 Z\" fill=\"#000000\" fill-rule=\"evenodd\" fill-opacity=\"1\" /><path clip-path=\"url(#clip600)\" d=\"M 0 0 M1945.53 136.959 L1949.79 136.959 L1949.79 150.894 L1952.68 148.811 L1954.44 151.265 L1949.79 154.529 L1949.79 172.978 L1945.53 172.978 L1945.53 157.561 L1942.68 159.598 L1940.97 157.144 L1945.53 153.88 L1945.53 136.959 Z\" fill=\"#000000\" fill-rule=\"evenodd\" fill-opacity=\"1\" /><path clip-path=\"url(#clip600)\" d=\"M 0 0 M1981.08 158.95 L1981.08 161.033 L1961.5 161.033 Q1961.78 165.431 1964.14 167.746 Q1966.52 170.038 1970.76 170.038 Q1973.21 170.038 1975.5 169.436 Q1977.82 168.834 1980.09 167.63 L1980.09 171.658 Q1977.8 172.63 1975.39 173.14 Q1972.98 173.649 1970.5 173.649 Q1964.3 173.649 1960.67 170.038 Q1957.06 166.427 1957.06 160.269 Q1957.06 153.904 1960.48 150.177 Q1963.93 146.427 1969.76 146.427 Q1974.99 146.427 1978.03 149.806 Q1981.08 153.163 1981.08 158.95 M1976.82 157.7 Q1976.78 154.205 1974.86 152.121 Q1972.96 150.038 1969.81 150.038 Q1966.24 150.038 1964.09 152.052 Q1961.96 154.066 1961.64 157.723 L1976.82 157.7 M1973.33 172.978 L1976.08 172.978 Q1975.04 174.39 1974.53 175.408 Q1974.05 176.427 1974.05 177.144 Q1974.05 178.209 1974.67 178.741 Q1975.32 179.274 1976.57 179.274 Q1977.31 179.274 1978.03 179.089 Q1978.74 178.927 1979.46 178.579 L1979.46 181.658 Q1978.58 181.89 1977.8 182.005 Q1977.01 182.121 1976.31 182.121 Q1973.49 182.121 1972.15 181.103 Q1970.83 180.107 1970.83 177.954 Q1970.83 176.843 1971.43 175.616 Q1972.06 174.413 1973.33 172.978 Z\" fill=\"#000000\" fill-rule=\"evenodd\" fill-opacity=\"1\" /><path clip-path=\"url(#clip600)\" d=\"M 0 0 M2004.16 160.038 Q2004.16 155.339 2002.22 152.677 Q2000.3 149.992 1996.92 149.992 Q1993.54 149.992 1991.59 152.677 Q1989.67 155.339 1989.67 160.038 Q1989.67 164.737 1991.59 167.422 Q1993.54 170.084 1996.92 170.084 Q2000.3 170.084 2002.22 167.422 Q2004.16 164.737 2004.16 160.038 M1989.67 150.987 Q1991.01 148.672 1993.05 147.561 Q1995.11 146.427 1997.96 146.427 Q2002.68 146.427 2005.62 150.177 Q2008.58 153.927 2008.58 160.038 Q2008.58 166.149 2005.62 169.899 Q2002.68 173.649 1997.96 173.649 Q1995.11 173.649 1993.05 172.538 Q1991.01 171.403 1989.67 169.089 L1989.67 172.978 L1985.39 172.978 L1985.39 136.959 L1989.67 136.959 L1989.67 150.987 Z\" fill=\"#000000\" fill-rule=\"evenodd\" fill-opacity=\"1\" /><path clip-path=\"url(#clip600)\" d=\"M 0 0 M2013.05 147.052 L2017.31 147.052 L2017.31 172.978 L2013.05 172.978 L2013.05 147.052 M2013.05 136.959 L2017.31 136.959 L2017.31 142.353 L2013.05 142.353 L2013.05 136.959 Z\" fill=\"#000000\" fill-rule=\"evenodd\" fill-opacity=\"1\" /><path clip-path=\"url(#clip600)\" d=\"M 0 0 M2043.95 158.95 L2043.95 161.033 L2024.37 161.033 Q2024.65 165.431 2027.01 167.746 Q2029.39 170.038 2033.63 170.038 Q2036.08 170.038 2038.37 169.436 Q2040.69 168.834 2042.96 167.63 L2042.96 171.658 Q2040.67 172.63 2038.26 173.14 Q2035.85 173.649 2033.37 173.649 Q2027.17 173.649 2023.54 170.038 Q2019.93 166.427 2019.93 160.269 Q2019.93 153.904 2023.35 150.177 Q2026.8 146.427 2032.63 146.427 Q2037.86 146.427 2040.9 149.806 Q2043.95 153.163 2043.95 158.95 M2039.69 157.7 Q2039.65 154.205 2037.73 152.121 Q2035.83 150.038 2032.68 150.038 Q2029.11 150.038 2026.96 152.052 Q2024.83 154.066 2024.51 157.723 L2039.69 157.7 Z\" fill=\"#000000\" fill-rule=\"evenodd\" fill-opacity=\"1\" /><polyline clip-path=\"url(#clip600)\" style=\"stroke:#e26f46; stroke-width:4; stroke-opacity:1; fill:none\" points=\"\n",
       "  1718.92,216.178 1866.71,216.178 \n",
       "  \"/>\n",
       "<path clip-path=\"url(#clip600)\" d=\"M 0 0 M1896.66 207.532 L1900.92 207.532 L1900.92 233.921 Q1900.92 238.874 1899.02 241.096 Q1897.15 243.319 1892.96 243.319 L1891.34 243.319 L1891.34 239.708 L1892.47 239.708 Q1894.9 239.708 1895.78 238.573 Q1896.66 237.462 1896.66 233.921 L1896.66 207.532 M1896.66 197.439 L1900.92 197.439 L1900.92 202.833 L1896.66 202.833 L1896.66 197.439 Z\" fill=\"#000000\" fill-rule=\"evenodd\" fill-opacity=\"1\" /><path clip-path=\"url(#clip600)\" d=\"M 0 0 M1917.17 220.425 Q1912.01 220.425 1910.02 221.606 Q1908.03 222.786 1908.03 225.634 Q1908.03 227.902 1909.51 229.245 Q1911.01 230.564 1913.58 230.564 Q1917.12 230.564 1919.25 228.064 Q1921.41 225.541 1921.41 221.374 L1921.41 220.425 L1917.17 220.425 M1925.67 218.666 L1925.67 233.458 L1921.41 233.458 L1921.41 229.522 Q1919.95 231.883 1917.77 233.018 Q1915.6 234.129 1912.45 234.129 Q1908.47 234.129 1906.11 231.907 Q1903.77 229.661 1903.77 225.911 Q1903.77 221.536 1906.69 219.314 Q1909.62 217.092 1915.44 217.092 L1921.41 217.092 L1921.41 216.675 Q1921.41 213.735 1919.46 212.138 Q1917.54 210.518 1914.05 210.518 Q1911.82 210.518 1909.72 211.05 Q1907.61 211.583 1905.67 212.647 L1905.67 208.712 Q1908 207.81 1910.2 207.37 Q1912.4 206.907 1914.49 206.907 Q1920.11 206.907 1922.89 209.823 Q1925.67 212.74 1925.67 218.666 Z\" fill=\"#000000\" fill-rule=\"evenodd\" fill-opacity=\"1\" /><path clip-path=\"url(#clip600)\" d=\"M 0 0 M1946.66 208.296 L1946.66 212.323 Q1944.86 211.397 1942.91 210.935 Q1940.97 210.472 1938.88 210.472 Q1935.71 210.472 1934.12 211.444 Q1932.54 212.416 1932.54 214.36 Q1932.54 215.842 1933.68 216.698 Q1934.81 217.532 1938.24 218.296 L1939.69 218.62 Q1944.23 219.592 1946.13 221.374 Q1948.05 223.134 1948.05 226.305 Q1948.05 229.916 1945.18 232.022 Q1942.33 234.129 1937.33 234.129 Q1935.25 234.129 1932.98 233.712 Q1930.74 233.319 1928.24 232.508 L1928.24 228.11 Q1930.6 229.337 1932.89 229.962 Q1935.18 230.564 1937.43 230.564 Q1940.43 230.564 1942.06 229.546 Q1943.68 228.504 1943.68 226.629 Q1943.68 224.893 1942.5 223.967 Q1941.34 223.041 1937.38 222.184 L1935.9 221.837 Q1931.94 221.004 1930.18 219.291 Q1928.42 217.555 1928.42 214.546 Q1928.42 210.888 1931.01 208.898 Q1933.61 206.907 1938.37 206.907 Q1940.74 206.907 1942.82 207.254 Q1944.9 207.601 1946.66 208.296 Z\" fill=\"#000000\" fill-rule=\"evenodd\" fill-opacity=\"1\" /><path clip-path=\"url(#clip600)\" d=\"M 0 0 M1956.73 200.171 L1956.73 207.532 L1965.5 207.532 L1965.5 210.842 L1956.73 210.842 L1956.73 224.916 Q1956.73 228.087 1957.59 228.99 Q1958.47 229.893 1961.13 229.893 L1965.5 229.893 L1965.5 233.458 L1961.13 233.458 Q1956.2 233.458 1954.32 231.629 Q1952.45 229.777 1952.45 224.916 L1952.45 210.842 L1949.32 210.842 L1949.32 207.532 L1952.45 207.532 L1952.45 200.171 L1956.73 200.171 Z\" fill=\"#000000\" fill-rule=\"evenodd\" fill-opacity=\"1\" /><path clip-path=\"url(#clip600)\" d=\"M 0 0 M1984.99 211.513 Q1984.28 211.097 1983.42 210.911 Q1982.59 210.703 1981.57 210.703 Q1977.96 210.703 1976.01 213.064 Q1974.09 215.402 1974.09 219.8 L1974.09 233.458 L1969.81 233.458 L1969.81 207.532 L1974.09 207.532 L1974.09 211.56 Q1975.43 209.198 1977.59 208.064 Q1979.74 206.907 1982.82 206.907 Q1983.26 206.907 1983.79 206.976 Q1984.32 207.023 1984.97 207.138 L1984.99 211.513 Z\" fill=\"#000000\" fill-rule=\"evenodd\" fill-opacity=\"1\" /><path clip-path=\"url(#clip600)\" d=\"M 0 0 M1987.61 207.532 L2007.84 207.532 L2007.84 211.421 L1991.82 230.055 L2007.84 230.055 L2007.84 233.458 L1987.03 233.458 L1987.03 229.569 L2003.05 210.935 L1987.61 210.935 L1987.61 207.532 Z\" fill=\"#000000\" fill-rule=\"evenodd\" fill-opacity=\"1\" /><path clip-path=\"url(#clip600)\" d=\"M 0 0 M2034.49 219.43 L2034.49 221.513 L2014.9 221.513 Q2015.18 225.911 2017.54 228.226 Q2019.93 230.518 2024.16 230.518 Q2026.62 230.518 2028.91 229.916 Q2031.22 229.314 2033.49 228.11 L2033.49 232.138 Q2031.2 233.11 2028.79 233.62 Q2026.38 234.129 2023.91 234.129 Q2017.7 234.129 2014.07 230.518 Q2010.46 226.907 2010.46 220.749 Q2010.46 214.384 2013.88 210.657 Q2017.33 206.907 2023.17 206.907 Q2028.4 206.907 2031.43 210.286 Q2034.49 213.643 2034.49 219.43 M2030.23 218.18 Q2030.18 214.685 2028.26 212.601 Q2026.36 210.518 2023.21 210.518 Q2019.65 210.518 2017.49 212.532 Q2015.37 214.546 2015.04 218.203 L2030.23 218.18 M2026.73 233.458 L2029.49 233.458 Q2028.44 234.87 2027.93 235.888 Q2027.45 236.907 2027.45 237.624 Q2027.45 238.689 2028.07 239.221 Q2028.72 239.754 2029.97 239.754 Q2030.71 239.754 2031.43 239.569 Q2032.15 239.407 2032.86 239.059 L2032.86 242.138 Q2031.99 242.37 2031.2 242.485 Q2030.41 242.601 2029.72 242.601 Q2026.89 242.601 2025.55 241.583 Q2024.23 240.587 2024.23 238.434 Q2024.23 237.323 2024.83 236.096 Q2025.46 234.893 2026.73 233.458 Z\" fill=\"#000000\" fill-rule=\"evenodd\" fill-opacity=\"1\" /><path clip-path=\"url(#clip600)\" d=\"M 0 0 M2057.56 220.518 Q2057.56 215.819 2055.62 213.157 Q2053.7 210.472 2050.32 210.472 Q2046.94 210.472 2044.99 213.157 Q2043.07 215.819 2043.07 220.518 Q2043.07 225.217 2044.99 227.902 Q2046.94 230.564 2050.32 230.564 Q2053.7 230.564 2055.62 227.902 Q2057.56 225.217 2057.56 220.518 M2043.07 211.467 Q2044.42 209.152 2046.45 208.041 Q2048.51 206.907 2051.36 206.907 Q2056.08 206.907 2059.02 210.657 Q2061.99 214.407 2061.99 220.518 Q2061.99 226.629 2059.02 230.379 Q2056.08 234.129 2051.36 234.129 Q2048.51 234.129 2046.45 233.018 Q2044.42 231.883 2043.07 229.569 L2043.07 233.458 L2038.79 233.458 L2038.79 197.439 L2043.07 197.439 L2043.07 211.467 Z\" fill=\"#000000\" fill-rule=\"evenodd\" fill-opacity=\"1\" /><path clip-path=\"url(#clip600)\" d=\"M 0 0 M2066.45 207.532 L2070.71 207.532 L2070.71 233.458 L2066.45 233.458 L2066.45 207.532 M2066.45 197.439 L2070.71 197.439 L2070.71 202.833 L2066.45 202.833 L2066.45 197.439 Z\" fill=\"#000000\" fill-rule=\"evenodd\" fill-opacity=\"1\" /><path clip-path=\"url(#clip600)\" d=\"M 0 0 M2097.36 219.43 L2097.36 221.513 L2077.77 221.513 Q2078.05 225.911 2080.41 228.226 Q2082.8 230.518 2087.03 230.518 Q2089.49 230.518 2091.78 229.916 Q2094.09 229.314 2096.36 228.11 L2096.36 232.138 Q2094.07 233.11 2091.66 233.62 Q2089.25 234.129 2086.78 234.129 Q2080.57 234.129 2076.94 230.518 Q2073.33 226.907 2073.33 220.749 Q2073.33 214.384 2076.75 210.657 Q2080.2 206.907 2086.04 206.907 Q2091.27 206.907 2094.3 210.286 Q2097.36 213.643 2097.36 219.43 M2093.1 218.18 Q2093.05 214.685 2091.13 212.601 Q2089.23 210.518 2086.08 210.518 Q2082.52 210.518 2080.36 212.532 Q2078.24 214.546 2077.91 218.203 L2093.1 218.18 Z\" fill=\"#000000\" fill-rule=\"evenodd\" fill-opacity=\"1\" /><polyline clip-path=\"url(#clip600)\" style=\"stroke:#3da44d; stroke-width:4; stroke-opacity:1; fill:none\" points=\"\n",
       "  1718.92,276.658 1866.71,276.658 \n",
       "  \"/>\n",
       "<path clip-path=\"url(#clip600)\" d=\"M 0 0 M1911.85 269.007 L1911.85 272.989 Q1910.04 271.993 1908.21 271.507 Q1906.41 270.998 1904.56 270.998 Q1900.41 270.998 1898.12 273.637 Q1895.83 276.252 1895.83 280.998 Q1895.83 285.743 1898.12 288.382 Q1900.41 290.998 1904.56 290.998 Q1906.41 290.998 1908.21 290.512 Q1910.04 290.002 1911.85 289.007 L1911.85 292.942 Q1910.06 293.776 1908.14 294.192 Q1906.25 294.609 1904.09 294.609 Q1898.24 294.609 1894.79 290.928 Q1891.34 287.248 1891.34 280.998 Q1891.34 274.655 1894.81 271.021 Q1898.31 267.387 1904.37 267.387 Q1906.34 267.387 1908.21 267.803 Q1910.09 268.197 1911.85 269.007 Z\" fill=\"#000000\" fill-rule=\"evenodd\" fill-opacity=\"1\" /><path clip-path=\"url(#clip600)\" d=\"M 0 0 M1937.87 278.289 L1937.87 293.938 L1933.61 293.938 L1933.61 278.428 Q1933.61 274.748 1932.17 272.919 Q1930.74 271.09 1927.87 271.09 Q1924.42 271.09 1922.43 273.29 Q1920.44 275.489 1920.44 279.285 L1920.44 293.938 L1916.15 293.938 L1916.15 257.919 L1920.44 257.919 L1920.44 272.04 Q1921.96 269.702 1924.02 268.544 Q1926.11 267.387 1928.81 267.387 Q1933.28 267.387 1935.57 270.165 Q1937.87 272.919 1937.87 278.289 Z\" fill=\"#000000\" fill-rule=\"evenodd\" fill-opacity=\"1\" /><path clip-path=\"url(#clip600)\" d=\"M 0 0 M1952.38 270.998 Q1948.95 270.998 1946.96 273.683 Q1944.97 276.345 1944.97 280.998 Q1944.97 285.651 1946.94 288.336 Q1948.93 290.998 1952.38 290.998 Q1955.78 290.998 1957.77 288.313 Q1959.76 285.627 1959.76 280.998 Q1959.76 276.391 1957.77 273.706 Q1955.78 270.998 1952.38 270.998 M1952.38 267.387 Q1957.93 267.387 1961.11 270.998 Q1964.28 274.609 1964.28 280.998 Q1964.28 287.364 1961.11 290.998 Q1957.93 294.609 1952.38 294.609 Q1946.8 294.609 1943.63 290.998 Q1940.48 287.364 1940.48 280.998 Q1940.48 274.609 1943.63 270.998 Q1946.8 267.387 1952.38 267.387 Z\" fill=\"#000000\" fill-rule=\"evenodd\" fill-opacity=\"1\" /><path clip-path=\"url(#clip600)\" d=\"M 0 0 M1983.77 271.993 Q1983.05 271.577 1982.19 271.391 Q1981.36 271.183 1980.34 271.183 Q1976.73 271.183 1974.79 273.544 Q1972.87 275.882 1972.87 280.28 L1972.87 293.938 L1968.58 293.938 L1968.58 268.012 L1972.87 268.012 L1972.87 272.04 Q1974.21 269.678 1976.36 268.544 Q1978.51 267.387 1981.59 267.387 Q1982.03 267.387 1982.56 267.456 Q1983.1 267.503 1983.74 267.618 L1983.77 271.993 Z\" fill=\"#000000\" fill-rule=\"evenodd\" fill-opacity=\"1\" /><path clip-path=\"url(#clip600)\" d=\"M 0 0 M2009.37 279.91 L2009.37 281.993 L1989.79 281.993 Q1990.06 286.391 1992.43 288.706 Q1994.81 290.998 1999.05 290.998 Q2001.5 290.998 2003.79 290.396 Q2006.11 289.794 2008.37 288.59 L2008.37 292.618 Q2006.08 293.59 2003.68 294.1 Q2001.27 294.609 1998.79 294.609 Q1992.59 294.609 1988.95 290.998 Q1985.34 287.387 1985.34 281.229 Q1985.34 274.864 1988.77 271.137 Q1992.22 267.387 1998.05 267.387 Q2003.28 267.387 2006.31 270.766 Q2009.37 274.123 2009.37 279.91 M2005.11 278.66 Q2005.06 275.165 2003.14 273.081 Q2001.24 270.998 1998.1 270.998 Q1994.53 270.998 1992.38 273.012 Q1990.25 275.026 1989.93 278.683 L2005.11 278.66 Z\" fill=\"#000000\" fill-rule=\"evenodd\" fill-opacity=\"1\" /><path clip-path=\"url(#clip600)\" d=\"M 0 0 M2045.97 280.674 Q2045.97 276.044 2044.05 273.498 Q2042.15 270.952 2038.7 270.952 Q2035.27 270.952 2033.35 273.498 Q2031.45 276.044 2031.45 280.674 Q2031.45 285.28 2033.35 287.826 Q2035.27 290.373 2038.7 290.373 Q2042.15 290.373 2044.05 287.826 Q2045.97 285.28 2045.97 280.674 M2050.23 290.72 Q2050.23 297.34 2047.29 300.558 Q2044.35 303.799 2038.28 303.799 Q2036.04 303.799 2034.05 303.451 Q2032.05 303.127 2030.18 302.433 L2030.18 298.289 Q2032.05 299.308 2033.88 299.794 Q2035.71 300.28 2037.61 300.28 Q2041.8 300.28 2043.88 298.081 Q2045.97 295.905 2045.97 291.484 L2045.97 289.377 Q2044.65 291.669 2042.59 292.803 Q2040.53 293.938 2037.66 293.938 Q2032.89 293.938 2029.97 290.303 Q2027.05 286.669 2027.05 280.674 Q2027.05 274.655 2029.97 271.021 Q2032.89 267.387 2037.66 267.387 Q2040.53 267.387 2042.59 268.521 Q2044.65 269.655 2045.97 271.947 L2045.97 268.012 L2050.23 268.012 L2050.23 290.72 Z\" fill=\"#000000\" fill-rule=\"evenodd\" fill-opacity=\"1\" /><path clip-path=\"url(#clip600)\" d=\"M 0 0 M2064.74 270.998 Q2061.31 270.998 2059.32 273.683 Q2057.33 276.345 2057.33 280.998 Q2057.33 285.651 2059.3 288.336 Q2061.29 290.998 2064.74 290.998 Q2068.14 290.998 2070.13 288.313 Q2072.12 285.627 2072.12 280.998 Q2072.12 276.391 2070.13 273.706 Q2068.14 270.998 2064.74 270.998 M2064.74 267.387 Q2070.3 267.387 2073.47 270.998 Q2076.64 274.609 2076.64 280.998 Q2076.64 287.364 2073.47 290.998 Q2070.3 294.609 2064.74 294.609 Q2059.16 294.609 2055.99 290.998 Q2052.84 287.364 2052.84 280.998 Q2052.84 274.609 2055.99 270.998 Q2059.16 267.387 2064.74 267.387 Z\" fill=\"#000000\" fill-rule=\"evenodd\" fill-opacity=\"1\" /><path clip-path=\"url(#clip600)\" d=\"M 0 0 M2081.24 257.919 L2085.5 257.919 L2085.5 271.854 L2088.4 269.771 L2090.16 272.225 L2085.5 275.489 L2085.5 293.938 L2081.24 293.938 L2081.24 278.521 L2078.4 280.558 L2076.68 278.104 L2081.24 274.84 L2081.24 257.919 Z\" fill=\"#000000\" fill-rule=\"evenodd\" fill-opacity=\"1\" /><path clip-path=\"url(#clip600)\" d=\"M 0 0 M2116.8 279.91 L2116.8 281.993 L2097.22 281.993 Q2097.49 286.391 2099.86 288.706 Q2102.24 290.998 2106.48 290.998 Q2108.93 290.998 2111.22 290.396 Q2113.54 289.794 2115.8 288.59 L2115.8 292.618 Q2113.51 293.59 2111.11 294.1 Q2108.7 294.609 2106.22 294.609 Q2100.02 294.609 2096.38 290.998 Q2092.77 287.387 2092.77 281.229 Q2092.77 274.864 2096.2 271.137 Q2099.65 267.387 2105.48 267.387 Q2110.71 267.387 2113.74 270.766 Q2116.8 274.123 2116.8 279.91 M2112.54 278.66 Q2112.49 275.165 2110.57 273.081 Q2108.67 270.998 2105.53 270.998 Q2101.96 270.998 2099.81 273.012 Q2097.68 275.026 2097.36 278.683 L2112.54 278.66 M2109.05 293.938 L2111.8 293.938 Q2110.76 295.35 2110.25 296.368 Q2109.76 297.387 2109.76 298.104 Q2109.76 299.169 2110.39 299.701 Q2111.04 300.234 2112.29 300.234 Q2113.03 300.234 2113.74 300.049 Q2114.46 299.887 2115.18 299.539 L2115.18 302.618 Q2114.3 302.85 2113.51 302.965 Q2112.73 303.081 2112.03 303.081 Q2109.21 303.081 2107.86 302.063 Q2106.55 301.067 2106.55 298.914 Q2106.55 297.803 2107.15 296.576 Q2107.77 295.373 2109.05 293.938 Z\" fill=\"#000000\" fill-rule=\"evenodd\" fill-opacity=\"1\" /><path clip-path=\"url(#clip600)\" d=\"M 0 0 M2139.88 280.998 Q2139.88 276.299 2137.93 273.637 Q2136.01 270.952 2132.63 270.952 Q2129.25 270.952 2127.31 273.637 Q2125.39 276.299 2125.39 280.998 Q2125.39 285.697 2127.31 288.382 Q2129.25 291.044 2132.63 291.044 Q2136.01 291.044 2137.93 288.382 Q2139.88 285.697 2139.88 280.998 M2125.39 271.947 Q2126.73 269.632 2128.77 268.521 Q2130.83 267.387 2133.67 267.387 Q2138.4 267.387 2141.34 271.137 Q2144.3 274.887 2144.3 280.998 Q2144.3 287.109 2141.34 290.859 Q2138.4 294.609 2133.67 294.609 Q2130.83 294.609 2128.77 293.498 Q2126.73 292.363 2125.39 290.049 L2125.39 293.938 L2121.11 293.938 L2121.11 257.919 L2125.39 257.919 L2125.39 271.947 Z\" fill=\"#000000\" fill-rule=\"evenodd\" fill-opacity=\"1\" /><path clip-path=\"url(#clip600)\" d=\"M 0 0 M2148.77 268.012 L2153.03 268.012 L2153.03 293.938 L2148.77 293.938 L2148.77 268.012 M2148.77 257.919 L2153.03 257.919 L2153.03 263.313 L2148.77 263.313 L2148.77 257.919 Z\" fill=\"#000000\" fill-rule=\"evenodd\" fill-opacity=\"1\" /><path clip-path=\"url(#clip600)\" d=\"M 0 0 M2179.67 279.91 L2179.67 281.993 L2160.09 281.993 Q2160.36 286.391 2162.73 288.706 Q2165.11 290.998 2169.35 290.998 Q2171.8 290.998 2174.09 290.396 Q2176.41 289.794 2178.67 288.59 L2178.67 292.618 Q2176.38 293.59 2173.98 294.1 Q2171.57 294.609 2169.09 294.609 Q2162.89 294.609 2159.25 290.998 Q2155.64 287.387 2155.64 281.229 Q2155.64 274.864 2159.07 271.137 Q2162.52 267.387 2168.35 267.387 Q2173.58 267.387 2176.61 270.766 Q2179.67 274.123 2179.67 279.91 M2175.41 278.66 Q2175.36 275.165 2173.44 273.081 Q2171.54 270.998 2168.4 270.998 Q2164.83 270.998 2162.68 273.012 Q2160.55 275.026 2160.23 278.683 L2175.41 278.66 Z\" fill=\"#000000\" fill-rule=\"evenodd\" fill-opacity=\"1\" /><polyline clip-path=\"url(#clip600)\" style=\"stroke:#c271d2; stroke-width:4; stroke-opacity:1; fill:none\" points=\"\n",
       "  1718.92,337.138 1866.71,337.138 \n",
       "  \"/>\n",
       "<path clip-path=\"url(#clip600)\" d=\"M 0 0 M1911.85 329.487 L1911.85 333.469 Q1910.04 332.473 1908.21 331.987 Q1906.41 331.478 1904.56 331.478 Q1900.41 331.478 1898.12 334.117 Q1895.83 336.732 1895.83 341.478 Q1895.83 346.223 1898.12 348.862 Q1900.41 351.478 1904.56 351.478 Q1906.41 351.478 1908.21 350.992 Q1910.04 350.482 1911.85 349.487 L1911.85 353.422 Q1910.06 354.256 1908.14 354.672 Q1906.25 355.089 1904.09 355.089 Q1898.24 355.089 1894.79 351.408 Q1891.34 347.728 1891.34 341.478 Q1891.34 335.135 1894.81 331.501 Q1898.31 327.867 1904.37 327.867 Q1906.34 327.867 1908.21 328.283 Q1910.09 328.677 1911.85 329.487 Z\" fill=\"#000000\" fill-rule=\"evenodd\" fill-opacity=\"1\" /><path clip-path=\"url(#clip600)\" d=\"M 0 0 M1937.87 338.769 L1937.87 354.418 L1933.61 354.418 L1933.61 338.908 Q1933.61 335.228 1932.17 333.399 Q1930.74 331.57 1927.87 331.57 Q1924.42 331.57 1922.43 333.77 Q1920.44 335.969 1920.44 339.765 L1920.44 354.418 L1916.15 354.418 L1916.15 318.399 L1920.44 318.399 L1920.44 332.52 Q1921.96 330.182 1924.02 329.024 Q1926.11 327.867 1928.81 327.867 Q1933.28 327.867 1935.57 330.645 Q1937.87 333.399 1937.87 338.769 Z\" fill=\"#000000\" fill-rule=\"evenodd\" fill-opacity=\"1\" /><path clip-path=\"url(#clip600)\" d=\"M 0 0 M1952.38 331.478 Q1948.95 331.478 1946.96 334.163 Q1944.97 336.825 1944.97 341.478 Q1944.97 346.131 1946.94 348.816 Q1948.93 351.478 1952.38 351.478 Q1955.78 351.478 1957.77 348.793 Q1959.76 346.107 1959.76 341.478 Q1959.76 336.871 1957.77 334.186 Q1955.78 331.478 1952.38 331.478 M1952.38 327.867 Q1957.93 327.867 1961.11 331.478 Q1964.28 335.089 1964.28 341.478 Q1964.28 347.844 1961.11 351.478 Q1957.93 355.089 1952.38 355.089 Q1946.8 355.089 1943.63 351.478 Q1940.48 347.844 1940.48 341.478 Q1940.48 335.089 1943.63 331.478 Q1946.8 327.867 1952.38 327.867 Z\" fill=\"#000000\" fill-rule=\"evenodd\" fill-opacity=\"1\" /><path clip-path=\"url(#clip600)\" d=\"M 0 0 M1983.77 332.473 Q1983.05 332.057 1982.19 331.871 Q1981.36 331.663 1980.34 331.663 Q1976.73 331.663 1974.79 334.024 Q1972.87 336.362 1972.87 340.76 L1972.87 354.418 L1968.58 354.418 L1968.58 328.492 L1972.87 328.492 L1972.87 332.52 Q1974.21 330.158 1976.36 329.024 Q1978.51 327.867 1981.59 327.867 Q1982.03 327.867 1982.56 327.936 Q1983.1 327.983 1983.74 328.098 L1983.77 332.473 Z\" fill=\"#000000\" fill-rule=\"evenodd\" fill-opacity=\"1\" /><path clip-path=\"url(#clip600)\" d=\"M 0 0 M2009.37 340.39 L2009.37 342.473 L1989.79 342.473 Q1990.06 346.871 1992.43 349.186 Q1994.81 351.478 1999.05 351.478 Q2001.5 351.478 2003.79 350.876 Q2006.11 350.274 2008.37 349.07 L2008.37 353.098 Q2006.08 354.07 2003.68 354.58 Q2001.27 355.089 1998.79 355.089 Q1992.59 355.089 1988.95 351.478 Q1985.34 347.867 1985.34 341.709 Q1985.34 335.344 1988.77 331.617 Q1992.22 327.867 1998.05 327.867 Q2003.28 327.867 2006.31 331.246 Q2009.37 334.603 2009.37 340.39 M2005.11 339.14 Q2005.06 335.645 2003.14 333.561 Q2001.24 331.478 1998.1 331.478 Q1994.53 331.478 1992.38 333.492 Q1990.25 335.506 1989.93 339.163 L2005.11 339.14 Z\" fill=\"#000000\" fill-rule=\"evenodd\" fill-opacity=\"1\" /><path clip-path=\"url(#clip600)\" d=\"M 0 0 M2028.91 328.492 L2033.17 328.492 L2033.17 354.881 Q2033.17 359.834 2031.27 362.056 Q2029.39 364.279 2025.2 364.279 L2023.58 364.279 L2023.58 360.668 L2024.72 360.668 Q2027.15 360.668 2028.03 359.533 Q2028.91 358.422 2028.91 354.881 L2028.91 328.492 M2028.91 318.399 L2033.17 318.399 L2033.17 323.793 L2028.91 323.793 L2028.91 318.399 Z\" fill=\"#000000\" fill-rule=\"evenodd\" fill-opacity=\"1\" /><path clip-path=\"url(#clip600)\" d=\"M 0 0 M2049.42 341.385 Q2044.25 341.385 2042.26 342.566 Q2040.27 343.746 2040.27 346.594 Q2040.27 348.862 2041.75 350.205 Q2043.26 351.524 2045.83 351.524 Q2049.37 351.524 2051.5 349.024 Q2053.65 346.501 2053.65 342.334 L2053.65 341.385 L2049.42 341.385 M2057.91 339.626 L2057.91 354.418 L2053.65 354.418 L2053.65 350.482 Q2052.19 352.843 2050.02 353.978 Q2047.84 355.089 2044.69 355.089 Q2040.71 355.089 2038.35 352.867 Q2036.01 350.621 2036.01 346.871 Q2036.01 342.496 2038.93 340.274 Q2041.87 338.052 2047.68 338.052 L2053.65 338.052 L2053.65 337.635 Q2053.65 334.695 2051.71 333.098 Q2049.79 331.478 2046.29 331.478 Q2044.07 331.478 2041.96 332.01 Q2039.86 332.543 2037.91 333.607 L2037.91 329.672 Q2040.25 328.77 2042.45 328.33 Q2044.65 327.867 2046.73 327.867 Q2052.36 327.867 2055.13 330.783 Q2057.91 333.7 2057.91 339.626 Z\" fill=\"#000000\" fill-rule=\"evenodd\" fill-opacity=\"1\" /><path clip-path=\"url(#clip600)\" d=\"M 0 0 M2078.91 329.256 L2078.91 333.283 Q2077.1 332.357 2075.16 331.895 Q2073.21 331.432 2071.13 331.432 Q2067.96 331.432 2066.36 332.404 Q2064.79 333.376 2064.79 335.32 Q2064.79 336.802 2065.92 337.658 Q2067.05 338.492 2070.48 339.256 L2071.94 339.58 Q2076.48 340.552 2078.37 342.334 Q2080.3 344.094 2080.3 347.265 Q2080.3 350.876 2077.42 352.982 Q2074.58 355.089 2069.58 355.089 Q2067.49 355.089 2065.23 354.672 Q2062.98 354.279 2060.48 353.468 L2060.48 349.07 Q2062.84 350.297 2065.13 350.922 Q2067.42 351.524 2069.67 351.524 Q2072.68 351.524 2074.3 350.506 Q2075.92 349.464 2075.92 347.589 Q2075.92 345.853 2074.74 344.927 Q2073.58 344.001 2069.62 343.144 L2068.14 342.797 Q2064.18 341.964 2062.43 340.251 Q2060.67 338.515 2060.67 335.506 Q2060.67 331.848 2063.26 329.858 Q2065.85 327.867 2070.62 327.867 Q2072.98 327.867 2075.06 328.214 Q2077.15 328.561 2078.91 329.256 Z\" fill=\"#000000\" fill-rule=\"evenodd\" fill-opacity=\"1\" /><path clip-path=\"url(#clip600)\" d=\"M 0 0 M2088.98 321.131 L2088.98 328.492 L2097.75 328.492 L2097.75 331.802 L2088.98 331.802 L2088.98 345.876 Q2088.98 349.047 2089.83 349.95 Q2090.71 350.853 2093.37 350.853 L2097.75 350.853 L2097.75 354.418 L2093.37 354.418 Q2088.44 354.418 2086.57 352.589 Q2084.69 350.737 2084.69 345.876 L2084.69 331.802 L2081.57 331.802 L2081.57 328.492 L2084.69 328.492 L2084.69 321.131 L2088.98 321.131 Z\" fill=\"#000000\" fill-rule=\"evenodd\" fill-opacity=\"1\" /><path clip-path=\"url(#clip600)\" d=\"M 0 0 M2117.24 332.473 Q2116.52 332.057 2115.67 331.871 Q2114.83 331.663 2113.81 331.663 Q2110.2 331.663 2108.26 334.024 Q2106.34 336.362 2106.34 340.76 L2106.34 354.418 L2102.05 354.418 L2102.05 328.492 L2106.34 328.492 L2106.34 332.52 Q2107.68 330.158 2109.83 329.024 Q2111.98 327.867 2115.06 327.867 Q2115.5 327.867 2116.04 327.936 Q2116.57 327.983 2117.22 328.098 L2117.24 332.473 Z\" fill=\"#000000\" fill-rule=\"evenodd\" fill-opacity=\"1\" /><path clip-path=\"url(#clip600)\" d=\"M 0 0 M2119.86 328.492 L2140.09 328.492 L2140.09 332.381 L2124.07 351.015 L2140.09 351.015 L2140.09 354.418 L2119.28 354.418 L2119.28 350.529 L2135.29 331.895 L2119.86 331.895 L2119.86 328.492 Z\" fill=\"#000000\" fill-rule=\"evenodd\" fill-opacity=\"1\" /><path clip-path=\"url(#clip600)\" d=\"M 0 0 M2166.73 340.39 L2166.73 342.473 L2147.15 342.473 Q2147.42 346.871 2149.79 349.186 Q2152.17 351.478 2156.41 351.478 Q2158.86 351.478 2161.15 350.876 Q2163.47 350.274 2165.73 349.07 L2165.73 353.098 Q2163.44 354.07 2161.04 354.58 Q2158.63 355.089 2156.15 355.089 Q2149.95 355.089 2146.31 351.478 Q2142.7 347.867 2142.7 341.709 Q2142.7 335.344 2146.13 331.617 Q2149.58 327.867 2155.41 327.867 Q2160.64 327.867 2163.67 331.246 Q2166.73 334.603 2166.73 340.39 M2162.47 339.14 Q2162.42 335.645 2160.5 333.561 Q2158.61 331.478 2155.46 331.478 Q2151.89 331.478 2149.74 333.492 Q2147.61 335.506 2147.29 339.163 L2162.47 339.14 M2158.98 354.418 L2161.73 354.418 Q2160.69 355.83 2160.18 356.848 Q2159.69 357.867 2159.69 358.584 Q2159.69 359.649 2160.32 360.181 Q2160.97 360.714 2162.22 360.714 Q2162.96 360.714 2163.67 360.529 Q2164.39 360.367 2165.11 360.019 L2165.11 363.098 Q2164.23 363.33 2163.44 363.445 Q2162.66 363.561 2161.96 363.561 Q2159.14 363.561 2157.79 362.543 Q2156.48 361.547 2156.48 359.394 Q2156.48 358.283 2157.08 357.056 Q2157.7 355.853 2158.98 354.418 Z\" fill=\"#000000\" fill-rule=\"evenodd\" fill-opacity=\"1\" /><path clip-path=\"url(#clip600)\" d=\"M 0 0 M2189.81 341.478 Q2189.81 336.779 2187.86 334.117 Q2185.94 331.432 2182.56 331.432 Q2179.18 331.432 2177.24 334.117 Q2175.32 336.779 2175.32 341.478 Q2175.32 346.177 2177.24 348.862 Q2179.18 351.524 2182.56 351.524 Q2185.94 351.524 2187.86 348.862 Q2189.81 346.177 2189.81 341.478 M2175.32 332.427 Q2176.66 330.112 2178.7 329.001 Q2180.76 327.867 2183.6 327.867 Q2188.33 327.867 2191.27 331.617 Q2194.23 335.367 2194.23 341.478 Q2194.23 347.589 2191.27 351.339 Q2188.33 355.089 2183.6 355.089 Q2180.76 355.089 2178.7 353.978 Q2176.66 352.843 2175.32 350.529 L2175.32 354.418 L2171.04 354.418 L2171.04 318.399 L2175.32 318.399 L2175.32 332.427 Z\" fill=\"#000000\" fill-rule=\"evenodd\" fill-opacity=\"1\" /><path clip-path=\"url(#clip600)\" d=\"M 0 0 M2198.7 328.492 L2202.96 328.492 L2202.96 354.418 L2198.7 354.418 L2198.7 328.492 M2198.7 318.399 L2202.96 318.399 L2202.96 323.793 L2198.7 323.793 L2198.7 318.399 Z\" fill=\"#000000\" fill-rule=\"evenodd\" fill-opacity=\"1\" /><path clip-path=\"url(#clip600)\" d=\"M 0 0 M2229.6 340.39 L2229.6 342.473 L2210.02 342.473 Q2210.29 346.871 2212.66 349.186 Q2215.04 351.478 2219.28 351.478 Q2221.73 351.478 2224.02 350.876 Q2226.34 350.274 2228.6 349.07 L2228.6 353.098 Q2226.31 354.07 2223.91 354.58 Q2221.5 355.089 2219.02 355.089 Q2212.82 355.089 2209.18 351.478 Q2205.57 347.867 2205.57 341.709 Q2205.57 335.344 2209 331.617 Q2212.45 327.867 2218.28 327.867 Q2223.51 327.867 2226.54 331.246 Q2229.6 334.603 2229.6 340.39 M2225.34 339.14 Q2225.29 335.645 2223.37 333.561 Q2221.48 331.478 2218.33 331.478 Q2214.76 331.478 2212.61 333.492 Q2210.48 335.506 2210.16 339.163 L2225.34 339.14 Z\" fill=\"#000000\" fill-rule=\"evenodd\" fill-opacity=\"1\" /></svg>\n"
      ]
     },
     "execution_count": 204,
     "metadata": {},
     "output_type": "execute_result"
    }
   ],
   "source": [
    "wykresy_all(9,9,10,10,10,10,50)"
   ]
  },
  {
   "cell_type": "code",
   "execution_count": 209,
   "metadata": {},
   "outputs": [
    {
     "name": "stdout",
     "output_type": "stream",
     "text": [
      "o kurczaki chyba działa\n"
     ]
    },
    {
     "data": {
      "image/svg+xml": [
       "<?xml version=\"1.0\" encoding=\"utf-8\"?>\n",
       "<svg xmlns=\"http://www.w3.org/2000/svg\" xmlns:xlink=\"http://www.w3.org/1999/xlink\" width=\"600\" height=\"400\" viewBox=\"0 0 2400 1600\">\n",
       "<defs>\n",
       "  <clipPath id=\"clip800\">\n",
       "    <rect x=\"0\" y=\"0\" width=\"2400\" height=\"1600\"/>\n",
       "  </clipPath>\n",
       "</defs>\n",
       "<path clip-path=\"url(#clip800)\" d=\"\n",
       "M0 1600 L2400 1600 L2400 0 L0 0  Z\n",
       "  \" fill=\"#ffffff\" fill-rule=\"evenodd\" fill-opacity=\"1\"/>\n",
       "<defs>\n",
       "  <clipPath id=\"clip801\">\n",
       "    <rect x=\"480\" y=\"0\" width=\"1681\" height=\"1600\"/>\n",
       "  </clipPath>\n",
       "</defs>\n",
       "<path clip-path=\"url(#clip800)\" d=\"\n",
       "M139.191 1486.45 L2352.76 1486.45 L2352.76 47.2441 L139.191 47.2441  Z\n",
       "  \" fill=\"#ffffff\" fill-rule=\"evenodd\" fill-opacity=\"1\"/>\n",
       "<defs>\n",
       "  <clipPath id=\"clip802\">\n",
       "    <rect x=\"139\" y=\"47\" width=\"2215\" height=\"1440\"/>\n",
       "  </clipPath>\n",
       "</defs>\n",
       "<polyline clip-path=\"url(#clip802)\" style=\"stroke:#000000; stroke-width:2; stroke-opacity:0.1; fill:none\" points=\"\n",
       "  180.745,1486.45 180.745,47.2441 \n",
       "  \"/>\n",
       "<polyline clip-path=\"url(#clip802)\" style=\"stroke:#000000; stroke-width:2; stroke-opacity:0.1; fill:none\" points=\"\n",
       "  708.086,1486.45 708.086,47.2441 \n",
       "  \"/>\n",
       "<polyline clip-path=\"url(#clip802)\" style=\"stroke:#000000; stroke-width:2; stroke-opacity:0.1; fill:none\" points=\"\n",
       "  1235.43,1486.45 1235.43,47.2441 \n",
       "  \"/>\n",
       "<polyline clip-path=\"url(#clip802)\" style=\"stroke:#000000; stroke-width:2; stroke-opacity:0.1; fill:none\" points=\"\n",
       "  1762.77,1486.45 1762.77,47.2441 \n",
       "  \"/>\n",
       "<polyline clip-path=\"url(#clip802)\" style=\"stroke:#000000; stroke-width:2; stroke-opacity:0.1; fill:none\" points=\"\n",
       "  2290.11,1486.45 2290.11,47.2441 \n",
       "  \"/>\n",
       "<polyline clip-path=\"url(#clip800)\" style=\"stroke:#000000; stroke-width:4; stroke-opacity:1; fill:none\" points=\"\n",
       "  139.191,1486.45 2352.76,1486.45 \n",
       "  \"/>\n",
       "<polyline clip-path=\"url(#clip800)\" style=\"stroke:#000000; stroke-width:4; stroke-opacity:1; fill:none\" points=\"\n",
       "  180.745,1486.45 180.745,1469.18 \n",
       "  \"/>\n",
       "<polyline clip-path=\"url(#clip800)\" style=\"stroke:#000000; stroke-width:4; stroke-opacity:1; fill:none\" points=\"\n",
       "  708.086,1486.45 708.086,1469.18 \n",
       "  \"/>\n",
       "<polyline clip-path=\"url(#clip800)\" style=\"stroke:#000000; stroke-width:4; stroke-opacity:1; fill:none\" points=\"\n",
       "  1235.43,1486.45 1235.43,1469.18 \n",
       "  \"/>\n",
       "<polyline clip-path=\"url(#clip800)\" style=\"stroke:#000000; stroke-width:4; stroke-opacity:1; fill:none\" points=\"\n",
       "  1762.77,1486.45 1762.77,1469.18 \n",
       "  \"/>\n",
       "<polyline clip-path=\"url(#clip800)\" style=\"stroke:#000000; stroke-width:4; stroke-opacity:1; fill:none\" points=\"\n",
       "  2290.11,1486.45 2290.11,1469.18 \n",
       "  \"/>\n",
       "<path clip-path=\"url(#clip800)\" d=\"M 0 0 M180.745 1515.64 Q177.134 1515.64 175.306 1519.2 Q173.5 1522.75 173.5 1529.87 Q173.5 1536.98 175.306 1540.55 Q177.134 1544.09 180.745 1544.09 Q184.38 1544.09 186.185 1540.55 Q188.014 1536.98 188.014 1529.87 Q188.014 1522.75 186.185 1519.2 Q184.38 1515.64 180.745 1515.64 M180.745 1511.93 Q186.556 1511.93 189.611 1516.54 Q192.69 1521.12 192.69 1529.87 Q192.69 1538.6 189.611 1543.21 Q186.556 1547.79 180.745 1547.79 Q174.935 1547.79 171.857 1543.21 Q168.801 1538.6 168.801 1529.87 Q168.801 1521.12 171.857 1516.54 Q174.935 1511.93 180.745 1511.93 Z\" fill=\"#000000\" fill-rule=\"evenodd\" fill-opacity=\"1\" /><path clip-path=\"url(#clip800)\" d=\"M 0 0 M689.73 1543.18 L706.049 1543.18 L706.049 1547.12 L684.105 1547.12 L684.105 1543.18 Q686.767 1540.43 691.35 1535.8 Q695.956 1531.15 697.137 1529.81 Q699.382 1527.28 700.262 1525.55 Q701.165 1523.79 701.165 1522.1 Q701.165 1519.34 699.22 1517.61 Q697.299 1515.87 694.197 1515.87 Q691.998 1515.87 689.544 1516.63 Q687.114 1517.4 684.336 1518.95 L684.336 1514.23 Q687.16 1513.09 689.614 1512.51 Q692.068 1511.93 694.105 1511.93 Q699.475 1511.93 702.669 1514.62 Q705.864 1517.31 705.864 1521.8 Q705.864 1523.93 705.054 1525.85 Q704.267 1527.74 702.16 1530.34 Q701.581 1531.01 698.48 1534.23 Q695.378 1537.42 689.73 1543.18 Z\" fill=\"#000000\" fill-rule=\"evenodd\" fill-opacity=\"1\" /><path clip-path=\"url(#clip800)\" d=\"M 0 0 M711.165 1512.56 L729.521 1512.56 L729.521 1516.5 L715.447 1516.5 L715.447 1524.97 Q716.466 1524.62 717.484 1524.46 Q718.503 1524.27 719.521 1524.27 Q725.308 1524.27 728.688 1527.44 Q732.067 1530.62 732.067 1536.03 Q732.067 1541.61 728.595 1544.71 Q725.123 1547.79 718.804 1547.79 Q716.628 1547.79 714.359 1547.42 Q712.114 1547.05 709.706 1546.31 L709.706 1541.61 Q711.79 1542.74 714.012 1543.3 Q716.234 1543.86 718.711 1543.86 Q722.716 1543.86 725.053 1541.75 Q727.391 1539.64 727.391 1536.03 Q727.391 1532.42 725.053 1530.31 Q722.716 1528.21 718.711 1528.21 Q716.836 1528.21 714.961 1528.62 Q713.109 1529.04 711.165 1529.92 L711.165 1512.56 Z\" fill=\"#000000\" fill-rule=\"evenodd\" fill-opacity=\"1\" /><path clip-path=\"url(#clip800)\" d=\"M 0 0 M1212.2 1512.56 L1230.55 1512.56 L1230.55 1516.5 L1216.48 1516.5 L1216.48 1524.97 Q1217.5 1524.62 1218.52 1524.46 Q1219.54 1524.27 1220.55 1524.27 Q1226.34 1524.27 1229.72 1527.44 Q1233.1 1530.62 1233.1 1536.03 Q1233.1 1541.61 1229.63 1544.71 Q1226.16 1547.79 1219.84 1547.79 Q1217.66 1547.79 1215.39 1547.42 Q1213.15 1547.05 1210.74 1546.31 L1210.74 1541.61 Q1212.82 1542.74 1215.04 1543.3 Q1217.27 1543.86 1219.74 1543.86 Q1223.75 1543.86 1226.09 1541.75 Q1228.42 1539.64 1228.42 1536.03 Q1228.42 1532.42 1226.09 1530.31 Q1223.75 1528.21 1219.74 1528.21 Q1217.87 1528.21 1215.99 1528.62 Q1214.14 1529.04 1212.2 1529.92 L1212.2 1512.56 Z\" fill=\"#000000\" fill-rule=\"evenodd\" fill-opacity=\"1\" /><path clip-path=\"url(#clip800)\" d=\"M 0 0 M1248.17 1515.64 Q1244.56 1515.64 1242.73 1519.2 Q1240.92 1522.75 1240.92 1529.87 Q1240.92 1536.98 1242.73 1540.55 Q1244.56 1544.09 1248.17 1544.09 Q1251.8 1544.09 1253.61 1540.55 Q1255.44 1536.98 1255.44 1529.87 Q1255.44 1522.75 1253.61 1519.2 Q1251.8 1515.64 1248.17 1515.64 M1248.17 1511.93 Q1253.98 1511.93 1257.04 1516.54 Q1260.11 1521.12 1260.11 1529.87 Q1260.11 1538.6 1257.04 1543.21 Q1253.98 1547.79 1248.17 1547.79 Q1242.36 1547.79 1239.28 1543.21 Q1236.23 1538.6 1236.23 1529.87 Q1236.23 1521.12 1239.28 1516.54 Q1242.36 1511.93 1248.17 1511.93 Z\" fill=\"#000000\" fill-rule=\"evenodd\" fill-opacity=\"1\" /><path clip-path=\"url(#clip800)\" d=\"M 0 0 M1738.65 1512.56 L1760.87 1512.56 L1760.87 1514.55 L1748.32 1547.12 L1743.44 1547.12 L1755.24 1516.5 L1738.65 1516.5 L1738.65 1512.56 Z\" fill=\"#000000\" fill-rule=\"evenodd\" fill-opacity=\"1\" /><path clip-path=\"url(#clip800)\" d=\"M 0 0 M1765.98 1512.56 L1784.34 1512.56 L1784.34 1516.5 L1770.27 1516.5 L1770.27 1524.97 Q1771.29 1524.62 1772.3 1524.46 Q1773.32 1524.27 1774.34 1524.27 Q1780.13 1524.27 1783.51 1527.44 Q1786.89 1530.62 1786.89 1536.03 Q1786.89 1541.61 1783.42 1544.71 Q1779.94 1547.79 1773.62 1547.79 Q1771.45 1547.79 1769.18 1547.42 Q1766.93 1547.05 1764.53 1546.31 L1764.53 1541.61 Q1766.61 1542.74 1768.83 1543.3 Q1771.05 1543.86 1773.53 1543.86 Q1777.54 1543.86 1779.87 1541.75 Q1782.21 1539.64 1782.21 1536.03 Q1782.21 1532.42 1779.87 1530.31 Q1777.54 1528.21 1773.53 1528.21 Q1771.66 1528.21 1769.78 1528.62 Q1767.93 1529.04 1765.98 1529.92 L1765.98 1512.56 Z\" fill=\"#000000\" fill-rule=\"evenodd\" fill-opacity=\"1\" /><path clip-path=\"url(#clip800)\" d=\"M 0 0 M2253.48 1543.18 L2261.11 1543.18 L2261.11 1516.82 L2252.8 1518.49 L2252.8 1514.23 L2261.07 1512.56 L2265.74 1512.56 L2265.74 1543.18 L2273.38 1543.18 L2273.38 1547.12 L2253.48 1547.12 L2253.48 1543.18 Z\" fill=\"#000000\" fill-rule=\"evenodd\" fill-opacity=\"1\" /><path clip-path=\"url(#clip800)\" d=\"M 0 0 M2288.45 1515.64 Q2284.84 1515.64 2283.01 1519.2 Q2281.21 1522.75 2281.21 1529.87 Q2281.21 1536.98 2283.01 1540.55 Q2284.84 1544.09 2288.45 1544.09 Q2292.09 1544.09 2293.89 1540.55 Q2295.72 1536.98 2295.72 1529.87 Q2295.72 1522.75 2293.89 1519.2 Q2292.09 1515.64 2288.45 1515.64 M2288.45 1511.93 Q2294.26 1511.93 2297.32 1516.54 Q2300.4 1521.12 2300.4 1529.87 Q2300.4 1538.6 2297.32 1543.21 Q2294.26 1547.79 2288.45 1547.79 Q2282.64 1547.79 2279.56 1543.21 Q2276.51 1538.6 2276.51 1529.87 Q2276.51 1521.12 2279.56 1516.54 Q2282.64 1511.93 2288.45 1511.93 Z\" fill=\"#000000\" fill-rule=\"evenodd\" fill-opacity=\"1\" /><path clip-path=\"url(#clip800)\" d=\"M 0 0 M2315.47 1515.64 Q2311.86 1515.64 2310.03 1519.2 Q2308.22 1522.75 2308.22 1529.87 Q2308.22 1536.98 2310.03 1540.55 Q2311.86 1544.09 2315.47 1544.09 Q2319.1 1544.09 2320.91 1540.55 Q2322.73 1536.98 2322.73 1529.87 Q2322.73 1522.75 2320.91 1519.2 Q2319.1 1515.64 2315.47 1515.64 M2315.47 1511.93 Q2321.28 1511.93 2324.33 1516.54 Q2327.41 1521.12 2327.41 1529.87 Q2327.41 1538.6 2324.33 1543.21 Q2321.28 1547.79 2315.47 1547.79 Q2309.66 1547.79 2306.58 1543.21 Q2303.52 1538.6 2303.52 1529.87 Q2303.52 1521.12 2306.58 1516.54 Q2309.66 1511.93 2315.47 1511.93 Z\" fill=\"#000000\" fill-rule=\"evenodd\" fill-opacity=\"1\" /><polyline clip-path=\"url(#clip802)\" style=\"stroke:#000000; stroke-width:2; stroke-opacity:0.1; fill:none\" points=\"\n",
       "  139.191,1445.72 2352.76,1445.72 \n",
       "  \"/>\n",
       "<polyline clip-path=\"url(#clip802)\" style=\"stroke:#000000; stroke-width:2; stroke-opacity:0.1; fill:none\" points=\"\n",
       "  139.191,1168.63 2352.76,1168.63 \n",
       "  \"/>\n",
       "<polyline clip-path=\"url(#clip802)\" style=\"stroke:#000000; stroke-width:2; stroke-opacity:0.1; fill:none\" points=\"\n",
       "  139.191,891.536 2352.76,891.536 \n",
       "  \"/>\n",
       "<polyline clip-path=\"url(#clip802)\" style=\"stroke:#000000; stroke-width:2; stroke-opacity:0.1; fill:none\" points=\"\n",
       "  139.191,614.447 2352.76,614.447 \n",
       "  \"/>\n",
       "<polyline clip-path=\"url(#clip802)\" style=\"stroke:#000000; stroke-width:2; stroke-opacity:0.1; fill:none\" points=\"\n",
       "  139.191,337.357 2352.76,337.357 \n",
       "  \"/>\n",
       "<polyline clip-path=\"url(#clip802)\" style=\"stroke:#000000; stroke-width:2; stroke-opacity:0.1; fill:none\" points=\"\n",
       "  139.191,60.2673 2352.76,60.2673 \n",
       "  \"/>\n",
       "<polyline clip-path=\"url(#clip800)\" style=\"stroke:#000000; stroke-width:4; stroke-opacity:1; fill:none\" points=\"\n",
       "  139.191,1486.45 139.191,47.2441 \n",
       "  \"/>\n",
       "<polyline clip-path=\"url(#clip800)\" style=\"stroke:#000000; stroke-width:4; stroke-opacity:1; fill:none\" points=\"\n",
       "  139.191,1445.72 165.754,1445.72 \n",
       "  \"/>\n",
       "<polyline clip-path=\"url(#clip800)\" style=\"stroke:#000000; stroke-width:4; stroke-opacity:1; fill:none\" points=\"\n",
       "  139.191,1168.63 165.754,1168.63 \n",
       "  \"/>\n",
       "<polyline clip-path=\"url(#clip800)\" style=\"stroke:#000000; stroke-width:4; stroke-opacity:1; fill:none\" points=\"\n",
       "  139.191,891.536 165.754,891.536 \n",
       "  \"/>\n",
       "<polyline clip-path=\"url(#clip800)\" style=\"stroke:#000000; stroke-width:4; stroke-opacity:1; fill:none\" points=\"\n",
       "  139.191,614.447 165.754,614.447 \n",
       "  \"/>\n",
       "<polyline clip-path=\"url(#clip800)\" style=\"stroke:#000000; stroke-width:4; stroke-opacity:1; fill:none\" points=\"\n",
       "  139.191,337.357 165.754,337.357 \n",
       "  \"/>\n",
       "<polyline clip-path=\"url(#clip800)\" style=\"stroke:#000000; stroke-width:4; stroke-opacity:1; fill:none\" points=\"\n",
       "  139.191,60.2673 165.754,60.2673 \n",
       "  \"/>\n",
       "<path clip-path=\"url(#clip800)\" d=\"M 0 0 M91.2465 1431.51 Q87.6354 1431.51 85.8068 1435.08 Q84.0012 1438.62 84.0012 1445.75 Q84.0012 1452.86 85.8068 1456.42 Q87.6354 1459.96 91.2465 1459.96 Q94.8808 1459.96 96.6863 1456.42 Q98.515 1452.86 98.515 1445.75 Q98.515 1438.62 96.6863 1435.08 Q94.8808 1431.51 91.2465 1431.51 M91.2465 1427.81 Q97.0567 1427.81 100.112 1432.42 Q103.191 1437 103.191 1445.75 Q103.191 1454.48 100.112 1459.08 Q97.0567 1463.67 91.2465 1463.67 Q85.4364 1463.67 82.3577 1459.08 Q79.3022 1454.48 79.3022 1445.75 Q79.3022 1437 82.3577 1432.42 Q85.4364 1427.81 91.2465 1427.81 Z\" fill=\"#000000\" fill-rule=\"evenodd\" fill-opacity=\"1\" /><path clip-path=\"url(#clip800)\" d=\"M 0 0 M56.2699 1181.97 L63.9087 1181.97 L63.9087 1155.61 L55.5986 1157.27 L55.5986 1153.01 L63.8624 1151.35 L68.5383 1151.35 L68.5383 1181.97 L76.1772 1181.97 L76.1772 1185.91 L56.2699 1185.91 L56.2699 1181.97 Z\" fill=\"#000000\" fill-rule=\"evenodd\" fill-opacity=\"1\" /><path clip-path=\"url(#clip800)\" d=\"M 0 0 M91.2465 1154.42 Q87.6354 1154.42 85.8068 1157.99 Q84.0012 1161.53 84.0012 1168.66 Q84.0012 1175.77 85.8068 1179.33 Q87.6354 1182.87 91.2465 1182.87 Q94.8808 1182.87 96.6863 1179.33 Q98.515 1175.77 98.515 1168.66 Q98.515 1161.53 96.6863 1157.99 Q94.8808 1154.42 91.2465 1154.42 M91.2465 1150.72 Q97.0567 1150.72 100.112 1155.33 Q103.191 1159.91 103.191 1168.66 Q103.191 1177.39 100.112 1181.99 Q97.0567 1186.58 91.2465 1186.58 Q85.4364 1186.58 82.3577 1181.99 Q79.3022 1177.39 79.3022 1168.66 Q79.3022 1159.91 82.3577 1155.33 Q85.4364 1150.72 91.2465 1150.72 Z\" fill=\"#000000\" fill-rule=\"evenodd\" fill-opacity=\"1\" /><path clip-path=\"url(#clip800)\" d=\"M 0 0 M59.8578 904.881 L76.1772 904.881 L76.1772 908.816 L54.2328 908.816 L54.2328 904.881 Q56.8949 902.127 61.4782 897.497 Q66.0846 892.844 67.2652 891.502 Q69.5105 888.978 70.3902 887.242 Q71.2929 885.483 71.2929 883.793 Q71.2929 881.039 69.3485 879.303 Q67.4272 877.567 64.3254 877.567 Q62.1263 877.567 59.6726 878.33 Q57.2421 879.094 54.4643 880.645 L54.4643 875.923 Q57.2884 874.789 59.7421 874.21 Q62.1958 873.631 64.2328 873.631 Q69.6031 873.631 72.7976 876.317 Q75.992 879.002 75.992 883.492 Q75.992 885.622 75.1818 887.543 Q74.3948 889.441 72.2883 892.034 Q71.7096 892.705 68.6078 895.923 Q65.5059 899.117 59.8578 904.881 Z\" fill=\"#000000\" fill-rule=\"evenodd\" fill-opacity=\"1\" /><path clip-path=\"url(#clip800)\" d=\"M 0 0 M91.2465 877.335 Q87.6354 877.335 85.8068 880.9 Q84.0012 884.441 84.0012 891.571 Q84.0012 898.678 85.8068 902.242 Q87.6354 905.784 91.2465 905.784 Q94.8808 905.784 96.6863 902.242 Q98.515 898.678 98.515 891.571 Q98.515 884.441 96.6863 880.9 Q94.8808 877.335 91.2465 877.335 M91.2465 873.631 Q97.0567 873.631 100.112 878.238 Q103.191 882.821 103.191 891.571 Q103.191 900.298 100.112 904.904 Q97.0567 909.488 91.2465 909.488 Q85.4364 909.488 82.3577 904.904 Q79.3022 900.298 79.3022 891.571 Q79.3022 882.821 82.3577 878.238 Q85.4364 873.631 91.2465 873.631 Z\" fill=\"#000000\" fill-rule=\"evenodd\" fill-opacity=\"1\" /><path clip-path=\"url(#clip800)\" d=\"M 0 0 M69.0476 613.093 Q72.404 613.81 74.279 616.079 Q76.1772 618.347 76.1772 621.68 Q76.1772 626.796 72.6587 629.597 Q69.1402 632.398 62.6587 632.398 Q60.4828 632.398 58.168 631.958 Q55.8764 631.541 53.4227 630.685 L53.4227 626.171 Q55.3671 627.305 57.6819 627.884 Q59.9967 628.463 62.5198 628.463 Q66.918 628.463 69.2096 626.727 Q71.5244 624.991 71.5244 621.68 Q71.5244 618.625 69.3717 616.912 Q67.242 615.176 63.4226 615.176 L59.3949 615.176 L59.3949 611.333 L63.6078 611.333 Q67.0569 611.333 68.8855 609.968 Q70.7142 608.579 70.7142 605.986 Q70.7142 603.324 68.8161 601.912 Q66.9411 600.477 63.4226 600.477 Q61.5013 600.477 59.3023 600.893 Q57.1032 601.31 54.4643 602.19 L54.4643 598.023 Q57.1264 597.282 59.4412 596.912 Q61.7791 596.542 63.8393 596.542 Q69.1633 596.542 72.2652 598.972 Q75.367 601.38 75.367 605.5 Q75.367 608.37 73.7235 610.361 Q72.08 612.329 69.0476 613.093 Z\" fill=\"#000000\" fill-rule=\"evenodd\" fill-opacity=\"1\" /><path clip-path=\"url(#clip800)\" d=\"M 0 0 M91.2465 600.245 Q87.6354 600.245 85.8068 603.81 Q84.0012 607.352 84.0012 614.481 Q84.0012 621.588 85.8068 625.153 Q87.6354 628.694 91.2465 628.694 Q94.8808 628.694 96.6863 625.153 Q98.515 621.588 98.515 614.481 Q98.515 607.352 96.6863 603.81 Q94.8808 600.245 91.2465 600.245 M91.2465 596.542 Q97.0567 596.542 100.112 601.148 Q103.191 605.731 103.191 614.481 Q103.191 623.208 100.112 627.815 Q97.0567 632.398 91.2465 632.398 Q85.4364 632.398 82.3577 627.815 Q79.3022 623.208 79.3022 614.481 Q79.3022 605.731 82.3577 601.148 Q85.4364 596.542 91.2465 596.542 Z\" fill=\"#000000\" fill-rule=\"evenodd\" fill-opacity=\"1\" /><path clip-path=\"url(#clip800)\" d=\"M 0 0 M66.5939 324.151 L54.7884 342.6 L66.5939 342.6 L66.5939 324.151 M65.367 320.077 L71.2466 320.077 L71.2466 342.6 L76.1772 342.6 L76.1772 346.489 L71.2466 346.489 L71.2466 354.637 L66.5939 354.637 L66.5939 346.489 L50.9921 346.489 L50.9921 341.975 L65.367 320.077 Z\" fill=\"#000000\" fill-rule=\"evenodd\" fill-opacity=\"1\" /><path clip-path=\"url(#clip800)\" d=\"M 0 0 M91.2465 323.156 Q87.6354 323.156 85.8068 326.72 Q84.0012 330.262 84.0012 337.392 Q84.0012 344.498 85.8068 348.063 Q87.6354 351.605 91.2465 351.605 Q94.8808 351.605 96.6863 348.063 Q98.515 344.498 98.515 337.392 Q98.515 330.262 96.6863 326.72 Q94.8808 323.156 91.2465 323.156 M91.2465 319.452 Q97.0567 319.452 100.112 324.058 Q103.191 328.642 103.191 337.392 Q103.191 346.119 100.112 350.725 Q97.0567 355.308 91.2465 355.308 Q85.4364 355.308 82.3577 350.725 Q79.3022 346.119 79.3022 337.392 Q79.3022 328.642 82.3577 324.058 Q85.4364 319.452 91.2465 319.452 Z\" fill=\"#000000\" fill-rule=\"evenodd\" fill-opacity=\"1\" /><path clip-path=\"url(#clip800)\" d=\"M 0 0 M55.2745 42.9873 L73.6309 42.9873 L73.6309 46.9225 L59.5569 46.9225 L59.5569 55.3947 Q60.5754 55.0474 61.5939 54.8854 Q62.6124 54.7002 63.6309 54.7002 Q69.418 54.7002 72.7976 57.8715 Q76.1772 61.0428 76.1772 66.4594 Q76.1772 72.0381 72.705 75.1399 Q69.2328 78.2186 62.9134 78.2186 Q60.7374 78.2186 58.4689 77.8482 Q56.2236 77.4779 53.8162 76.7371 L53.8162 72.0381 Q55.8995 73.1723 58.1217 73.7279 Q60.3439 74.2834 62.8208 74.2834 Q66.8254 74.2834 69.1633 72.177 Q71.5013 70.0705 71.5013 66.4594 Q71.5013 62.8483 69.1633 60.7418 Q66.8254 58.6354 62.8208 58.6354 Q60.9458 58.6354 59.0708 59.052 Q57.2189 59.4687 55.2745 60.3483 L55.2745 42.9873 Z\" fill=\"#000000\" fill-rule=\"evenodd\" fill-opacity=\"1\" /><path clip-path=\"url(#clip800)\" d=\"M 0 0 M91.2465 46.066 Q87.6354 46.066 85.8068 49.6308 Q84.0012 53.1724 84.0012 60.302 Q84.0012 67.4085 85.8068 70.9733 Q87.6354 74.5149 91.2465 74.5149 Q94.8808 74.5149 96.6863 70.9733 Q98.515 67.4085 98.515 60.302 Q98.515 53.1724 96.6863 49.6308 Q94.8808 46.066 91.2465 46.066 M91.2465 42.3623 Q97.0567 42.3623 100.112 46.9688 Q103.191 51.5521 103.191 60.302 Q103.191 69.0288 100.112 73.6353 Q97.0567 78.2186 91.2465 78.2186 Q85.4364 78.2186 82.3577 73.6353 Q79.3022 69.0288 79.3022 60.302 Q79.3022 51.5521 82.3577 46.9688 Q85.4364 42.3623 91.2465 42.3623 Z\" fill=\"#000000\" fill-rule=\"evenodd\" fill-opacity=\"1\" /><polyline clip-path=\"url(#clip802)\" style=\"stroke:#009af9; stroke-width:4; stroke-opacity:1; fill:none\" points=\"\n",
       "  201.839,1307.17 222.933,1362.59 244.026,1334.88 265.12,1251.75 286.213,1168.63 307.307,1168.63 328.401,1279.46 349.494,1307.17 370.588,1334.88 391.682,1251.75 \n",
       "  412.775,1307.17 433.869,1196.33 454.962,1224.04 476.056,1224.04 497.15,1251.75 518.243,1224.04 539.337,1224.04 560.431,1251.75 581.524,1196.33 602.618,1140.92 \n",
       "  623.711,1113.21 644.805,1140.92 665.899,1168.63 686.992,1085.5 708.086,1140.92 729.18,1196.33 750.273,1251.75 771.367,1279.46 792.46,1251.75 813.554,1251.75 \n",
       "  834.648,1140.92 855.741,1168.63 876.835,1168.63 897.929,1113.21 919.022,1085.5 940.116,1057.79 961.209,1057.79 982.303,1057.79 1003.4,1085.5 1024.49,1140.92 \n",
       "  1045.58,1279.46 1066.68,1279.46 1087.77,1279.46 1108.86,1224.04 1129.96,1140.92 1151.05,1085.5 1172.15,1140.92 1193.24,1168.63 1214.33,1113.21 1235.43,1168.63 \n",
       "  1256.52,1113.21 1277.61,1057.79 1298.71,1251.75 1319.8,1334.88 1340.89,1334.88 1361.99,1334.88 1383.08,1224.04 1404.18,1279.46 1425.27,1279.46 1446.36,1196.33 \n",
       "  1467.46,1168.63 1488.55,1168.63 1509.64,1168.63 1530.74,1168.63 1551.83,1196.33 1572.92,1140.92 1594.02,1140.92 1615.11,1279.46 1636.21,1251.75 1657.3,1196.33 \n",
       "  1678.39,1085.5 1699.49,1057.79 1720.58,1113.21 1741.67,1168.63 1762.77,1113.21 1783.86,1196.33 1804.95,1334.88 1826.05,1418.01 1847.14,1390.3 1868.24,1418.01 \n",
       "  1889.33,1418.01 1910.42,1390.3 1931.52,1445.72 1952.61,1445.72 1973.7,1445.72 1994.8,1445.72 2015.89,1445.72 2036.98,1445.72 2058.08,1445.72 2079.17,1445.72 \n",
       "  2100.27,1445.72 2121.36,1445.72 2142.45,1445.72 2163.55,1445.72 2184.64,1445.72 2205.73,1445.72 2226.83,1445.72 2247.92,1445.72 2269.01,1445.72 2290.11,1445.72 \n",
       "  \n",
       "  \"/>\n",
       "<polyline clip-path=\"url(#clip802)\" style=\"stroke:#e26f46; stroke-width:4; stroke-opacity:1; fill:none\" points=\"\n",
       "  201.839,1168.63 222.933,946.954 244.026,1224.04 265.12,1113.21 286.213,1057.79 307.307,1002.37 328.401,1030.08 349.494,1140.92 370.588,891.536 391.682,974.663 \n",
       "  412.775,1002.37 433.869,919.245 454.962,642.156 476.056,752.992 497.15,614.447 518.243,808.409 539.337,752.992 560.431,697.574 581.524,752.992 602.618,891.536 \n",
       "  623.711,780.7 644.805,531.32 665.899,669.865 686.992,808.409 708.086,475.902 729.18,780.7 750.273,503.611 771.367,752.992 792.46,642.156 813.554,919.245 \n",
       "  834.648,725.283 855.741,863.827 876.835,642.156 897.929,863.827 919.022,503.611 940.116,808.409 961.209,863.827 982.303,725.283 1003.4,725.283 1024.49,808.409 \n",
       "  1045.58,780.7 1066.68,697.574 1087.77,946.954 1108.86,863.827 1129.96,836.118 1151.05,946.954 1172.15,919.245 1193.24,836.118 1214.33,891.536 1235.43,1057.79 \n",
       "  1256.52,1030.08 1277.61,891.536 1298.71,836.118 1319.8,697.574 1340.89,697.574 1361.99,669.865 1383.08,946.954 1404.18,559.029 1425.27,946.954 1446.36,863.827 \n",
       "  1467.46,863.827 1488.55,808.409 1509.64,752.992 1530.74,586.738 1551.83,586.738 1572.92,863.827 1594.02,614.447 1615.11,642.156 1636.21,697.574 1657.3,780.7 \n",
       "  1678.39,919.245 1699.49,725.283 1720.58,586.738 1741.67,780.7 1762.77,531.32 1783.86,642.156 1804.95,586.738 1826.05,919.245 1847.14,752.992 1868.24,642.156 \n",
       "  1889.33,752.992 1910.42,642.156 1931.52,1002.37 1952.61,863.827 1973.7,808.409 1994.8,531.32 2015.89,836.118 2036.98,697.574 2058.08,919.245 2079.17,752.992 \n",
       "  2100.27,1002.37 2121.36,974.663 2142.45,946.954 2163.55,614.447 2184.64,725.283 2205.73,669.865 2226.83,752.992 2247.92,891.536 2269.01,669.865 2290.11,808.409 \n",
       "  \n",
       "  \"/>\n",
       "<polyline clip-path=\"url(#clip802)\" style=\"stroke:#3da44d; stroke-width:4; stroke-opacity:1; fill:none\" points=\"\n",
       "  201.839,531.32 222.933,1113.21 244.026,1196.33 265.12,1279.46 286.213,1390.3 307.307,1307.17 328.401,1196.33 349.494,1251.75 370.588,1334.88 391.682,1334.88 \n",
       "  412.775,1362.59 433.869,1390.3 454.962,1362.59 476.056,1390.3 497.15,1418.01 518.243,1445.72 539.337,1445.72 560.431,1445.72 581.524,1445.72 602.618,1445.72 \n",
       "  623.711,1445.72 644.805,1418.01 665.899,1445.72 686.992,1445.72 708.086,1445.72 729.18,1445.72 750.273,1445.72 771.367,1445.72 792.46,1445.72 813.554,1445.72 \n",
       "  834.648,1445.72 855.741,1418.01 876.835,1445.72 897.929,1445.72 919.022,1445.72 940.116,1445.72 961.209,1445.72 982.303,1418.01 1003.4,1418.01 1024.49,1362.59 \n",
       "  1045.58,1390.3 1066.68,1390.3 1087.77,1390.3 1108.86,1390.3 1129.96,1334.88 1151.05,1279.46 1172.15,1307.17 1193.24,1307.17 1214.33,1279.46 1235.43,1390.3 \n",
       "  1256.52,1362.59 1277.61,1418.01 1298.71,1334.88 1319.8,1362.59 1340.89,1445.72 1361.99,1445.72 1383.08,1445.72 1404.18,1418.01 1425.27,1445.72 1446.36,1445.72 \n",
       "  1467.46,1418.01 1488.55,1445.72 1509.64,1445.72 1530.74,1445.72 1551.83,1445.72 1572.92,1445.72 1594.02,1445.72 1615.11,1445.72 1636.21,1445.72 1657.3,1445.72 \n",
       "  1678.39,1445.72 1699.49,1445.72 1720.58,1445.72 1741.67,1445.72 1762.77,1445.72 1783.86,1445.72 1804.95,1445.72 1826.05,1445.72 1847.14,1445.72 1868.24,1445.72 \n",
       "  1889.33,1445.72 1910.42,1445.72 1931.52,1445.72 1952.61,1445.72 1973.7,1445.72 1994.8,1445.72 2015.89,1445.72 2036.98,1445.72 2058.08,1445.72 2079.17,1445.72 \n",
       "  2100.27,1445.72 2121.36,1445.72 2142.45,1445.72 2163.55,1445.72 2184.64,1445.72 2205.73,1445.72 2226.83,1445.72 2247.92,1445.72 2269.01,1445.72 2290.11,1445.72 \n",
       "  \n",
       "  \"/>\n",
       "<polyline clip-path=\"url(#clip802)\" style=\"stroke:#c271d2; stroke-width:4; stroke-opacity:1; fill:none\" points=\"\n",
       "  201.839,87.9763 222.933,1002.37 244.026,1251.75 265.12,1279.46 286.213,1224.04 307.307,1251.75 328.401,1113.21 349.494,1196.33 370.588,1224.04 391.682,1224.04 \n",
       "  412.775,1334.88 433.869,1307.17 454.962,1390.3 476.056,1390.3 497.15,1418.01 518.243,1390.3 539.337,1390.3 560.431,1362.59 581.524,1362.59 602.618,1445.72 \n",
       "  623.711,1445.72 644.805,1445.72 665.899,1445.72 686.992,1445.72 708.086,1418.01 729.18,1445.72 750.273,1445.72 771.367,1418.01 792.46,1362.59 813.554,1418.01 \n",
       "  834.648,1445.72 855.741,1445.72 876.835,1445.72 897.929,1445.72 919.022,1445.72 940.116,1418.01 961.209,1390.3 982.303,1362.59 1003.4,1334.88 1024.49,1334.88 \n",
       "  1045.58,1307.17 1066.68,1334.88 1087.77,1334.88 1108.86,1334.88 1129.96,1307.17 1151.05,1224.04 1172.15,1390.3 1193.24,1307.17 1214.33,1251.75 1235.43,1251.75 \n",
       "  1256.52,1196.33 1277.61,1251.75 1298.71,1251.75 1319.8,1307.17 1340.89,1307.17 1361.99,1362.59 1383.08,1418.01 1404.18,1390.3 1425.27,1390.3 1446.36,1390.3 \n",
       "  1467.46,1390.3 1488.55,1390.3 1509.64,1390.3 1530.74,1445.72 1551.83,1445.72 1572.92,1445.72 1594.02,1445.72 1615.11,1445.72 1636.21,1418.01 1657.3,1418.01 \n",
       "  1678.39,1390.3 1699.49,1390.3 1720.58,1418.01 1741.67,1418.01 1762.77,1445.72 1783.86,1445.72 1804.95,1445.72 1826.05,1418.01 1847.14,1418.01 1868.24,1390.3 \n",
       "  1889.33,1418.01 1910.42,1445.72 1931.52,1445.72 1952.61,1445.72 1973.7,1445.72 1994.8,1445.72 2015.89,1445.72 2036.98,1445.72 2058.08,1445.72 2079.17,1445.72 \n",
       "  2100.27,1445.72 2121.36,1445.72 2142.45,1445.72 2163.55,1445.72 2184.64,1445.72 2205.73,1445.72 2226.83,1445.72 2247.92,1445.72 2269.01,1445.72 2290.11,1445.72 \n",
       "  \n",
       "  \"/>\n",
       "<path clip-path=\"url(#clip800)\" d=\"\n",
       "M1694.76 397.618 L2278.97 397.618 L2278.97 95.2176 L1694.76 95.2176  Z\n",
       "  \" fill=\"#ffffff\" fill-rule=\"evenodd\" fill-opacity=\"1\"/>\n",
       "<polyline clip-path=\"url(#clip800)\" style=\"stroke:#000000; stroke-width:4; stroke-opacity:1; fill:none\" points=\"\n",
       "  1694.76,397.618 2278.97,397.618 2278.97,95.2176 1694.76,95.2176 1694.76,397.618 \n",
       "  \"/>\n",
       "<polyline clip-path=\"url(#clip800)\" style=\"stroke:#009af9; stroke-width:4; stroke-opacity:1; fill:none\" points=\"\n",
       "  1719.35,155.698 1866.92,155.698 \n",
       "  \"/>\n",
       "<path clip-path=\"url(#clip800)\" d=\"M 0 0 M1910.43 159.714 Q1910.43 155.084 1908.51 152.538 Q1906.61 149.992 1903.16 149.992 Q1899.74 149.992 1897.81 152.538 Q1895.92 155.084 1895.92 159.714 Q1895.92 164.32 1897.81 166.866 Q1899.74 169.413 1903.16 169.413 Q1906.61 169.413 1908.51 166.866 Q1910.43 164.32 1910.43 159.714 M1914.69 169.76 Q1914.69 176.38 1911.75 179.598 Q1908.81 182.839 1902.74 182.839 Q1900.5 182.839 1898.51 182.491 Q1896.52 182.167 1894.64 181.473 L1894.64 177.329 Q1896.52 178.348 1898.35 178.834 Q1900.18 179.32 1902.07 179.32 Q1906.26 179.32 1908.35 177.121 Q1910.43 174.945 1910.43 170.524 L1910.43 168.417 Q1909.11 170.709 1907.05 171.843 Q1904.99 172.978 1902.12 172.978 Q1897.35 172.978 1894.43 169.343 Q1891.52 165.709 1891.52 159.714 Q1891.52 153.695 1894.43 150.061 Q1897.35 146.427 1902.12 146.427 Q1904.99 146.427 1907.05 147.561 Q1909.11 148.695 1910.43 150.987 L1910.43 147.052 L1914.69 147.052 L1914.69 169.76 Z\" fill=\"#000000\" fill-rule=\"evenodd\" fill-opacity=\"1\" /><path clip-path=\"url(#clip800)\" d=\"M 0 0 M1929.2 150.038 Q1925.78 150.038 1923.79 152.723 Q1921.8 155.385 1921.8 160.038 Q1921.8 164.691 1923.76 167.376 Q1925.75 170.038 1929.2 170.038 Q1932.61 170.038 1934.6 167.353 Q1936.59 164.667 1936.59 160.038 Q1936.59 155.431 1934.6 152.746 Q1932.61 150.038 1929.2 150.038 M1929.2 146.427 Q1934.76 146.427 1937.93 150.038 Q1941.1 153.649 1941.1 160.038 Q1941.1 166.404 1937.93 170.038 Q1934.76 173.649 1929.2 173.649 Q1923.62 173.649 1920.45 170.038 Q1917.3 166.404 1917.3 160.038 Q1917.3 153.649 1920.45 150.038 Q1923.62 146.427 1929.2 146.427 Z\" fill=\"#000000\" fill-rule=\"evenodd\" fill-opacity=\"1\" /><path clip-path=\"url(#clip800)\" d=\"M 0 0 M1945.71 136.959 L1949.97 136.959 L1949.97 150.894 L1952.86 148.811 L1954.62 151.265 L1949.97 154.529 L1949.97 172.978 L1945.71 172.978 L1945.71 157.561 L1942.86 159.598 L1941.15 157.144 L1945.71 153.88 L1945.71 136.959 Z\" fill=\"#000000\" fill-rule=\"evenodd\" fill-opacity=\"1\" /><path clip-path=\"url(#clip800)\" d=\"M 0 0 M1981.26 158.95 L1981.26 161.033 L1961.68 161.033 Q1961.96 165.431 1964.32 167.746 Q1966.7 170.038 1970.94 170.038 Q1973.39 170.038 1975.68 169.436 Q1978 168.834 1980.27 167.63 L1980.27 171.658 Q1977.98 172.63 1975.57 173.14 Q1973.16 173.649 1970.68 173.649 Q1964.48 173.649 1960.85 170.038 Q1957.24 166.427 1957.24 160.269 Q1957.24 153.904 1960.66 150.177 Q1964.11 146.427 1969.94 146.427 Q1975.17 146.427 1978.21 149.806 Q1981.26 153.163 1981.26 158.95 M1977 157.7 Q1976.96 154.205 1975.04 152.121 Q1973.14 150.038 1969.99 150.038 Q1966.43 150.038 1964.27 152.052 Q1962.14 154.066 1961.82 157.723 L1977 157.7 M1973.51 172.978 L1976.26 172.978 Q1975.22 174.39 1974.71 175.408 Q1974.23 176.427 1974.23 177.144 Q1974.23 178.209 1974.85 178.741 Q1975.5 179.274 1976.75 179.274 Q1977.49 179.274 1978.21 179.089 Q1978.92 178.927 1979.64 178.579 L1979.64 181.658 Q1978.76 181.89 1977.98 182.005 Q1977.19 182.121 1976.49 182.121 Q1973.67 182.121 1972.33 181.103 Q1971.01 180.107 1971.01 177.954 Q1971.01 176.843 1971.61 175.616 Q1972.24 174.413 1973.51 172.978 Z\" fill=\"#000000\" fill-rule=\"evenodd\" fill-opacity=\"1\" /><path clip-path=\"url(#clip800)\" d=\"M 0 0 M2004.34 160.038 Q2004.34 155.339 2002.4 152.677 Q2000.48 149.992 1997.1 149.992 Q1993.72 149.992 1991.77 152.677 Q1989.85 155.339 1989.85 160.038 Q1989.85 164.737 1991.77 167.422 Q1993.72 170.084 1997.1 170.084 Q2000.48 170.084 2002.4 167.422 Q2004.34 164.737 2004.34 160.038 M1989.85 150.987 Q1991.19 148.672 1993.23 147.561 Q1995.29 146.427 1998.14 146.427 Q2002.86 146.427 2005.8 150.177 Q2008.76 153.927 2008.76 160.038 Q2008.76 166.149 2005.8 169.899 Q2002.86 173.649 1998.14 173.649 Q1995.29 173.649 1993.23 172.538 Q1991.19 171.403 1989.85 169.089 L1989.85 172.978 L1985.57 172.978 L1985.57 136.959 L1989.85 136.959 L1989.85 150.987 Z\" fill=\"#000000\" fill-rule=\"evenodd\" fill-opacity=\"1\" /><path clip-path=\"url(#clip800)\" d=\"M 0 0 M2013.23 147.052 L2017.49 147.052 L2017.49 172.978 L2013.23 172.978 L2013.23 147.052 M2013.23 136.959 L2017.49 136.959 L2017.49 142.353 L2013.23 142.353 L2013.23 136.959 Z\" fill=\"#000000\" fill-rule=\"evenodd\" fill-opacity=\"1\" /><path clip-path=\"url(#clip800)\" d=\"M 0 0 M2044.13 158.95 L2044.13 161.033 L2024.55 161.033 Q2024.83 165.431 2027.19 167.746 Q2029.57 170.038 2033.81 170.038 Q2036.26 170.038 2038.55 169.436 Q2040.87 168.834 2043.14 167.63 L2043.14 171.658 Q2040.85 172.63 2038.44 173.14 Q2036.03 173.649 2033.55 173.649 Q2027.35 173.649 2023.72 170.038 Q2020.11 166.427 2020.11 160.269 Q2020.11 153.904 2023.53 150.177 Q2026.98 146.427 2032.81 146.427 Q2038.04 146.427 2041.08 149.806 Q2044.13 153.163 2044.13 158.95 M2039.87 157.7 Q2039.83 154.205 2037.91 152.121 Q2036.01 150.038 2032.86 150.038 Q2029.3 150.038 2027.14 152.052 Q2025.01 154.066 2024.69 157.723 L2039.87 157.7 Z\" fill=\"#000000\" fill-rule=\"evenodd\" fill-opacity=\"1\" /><polyline clip-path=\"url(#clip800)\" style=\"stroke:#e26f46; stroke-width:4; stroke-opacity:1; fill:none\" points=\"\n",
       "  1719.35,216.178 1866.92,216.178 \n",
       "  \"/>\n",
       "<path clip-path=\"url(#clip800)\" d=\"M 0 0 M1896.84 207.532 L1901.1 207.532 L1901.1 233.921 Q1901.1 238.874 1899.2 241.096 Q1897.33 243.319 1893.14 243.319 L1891.52 243.319 L1891.52 239.708 L1892.65 239.708 Q1895.08 239.708 1895.96 238.573 Q1896.84 237.462 1896.84 233.921 L1896.84 207.532 M1896.84 197.439 L1901.1 197.439 L1901.1 202.833 L1896.84 202.833 L1896.84 197.439 Z\" fill=\"#000000\" fill-rule=\"evenodd\" fill-opacity=\"1\" /><path clip-path=\"url(#clip800)\" d=\"M 0 0 M1917.35 220.425 Q1912.19 220.425 1910.2 221.606 Q1908.21 222.786 1908.21 225.634 Q1908.21 227.902 1909.69 229.245 Q1911.19 230.564 1913.76 230.564 Q1917.3 230.564 1919.43 228.064 Q1921.59 225.541 1921.59 221.374 L1921.59 220.425 L1917.35 220.425 M1925.85 218.666 L1925.85 233.458 L1921.59 233.458 L1921.59 229.522 Q1920.13 231.883 1917.95 233.018 Q1915.78 234.129 1912.63 234.129 Q1908.65 234.129 1906.29 231.907 Q1903.95 229.661 1903.95 225.911 Q1903.95 221.536 1906.87 219.314 Q1909.8 217.092 1915.62 217.092 L1921.59 217.092 L1921.59 216.675 Q1921.59 213.735 1919.64 212.138 Q1917.72 210.518 1914.23 210.518 Q1912 210.518 1909.9 211.05 Q1907.79 211.583 1905.85 212.647 L1905.85 208.712 Q1908.18 207.81 1910.38 207.37 Q1912.58 206.907 1914.67 206.907 Q1920.29 206.907 1923.07 209.823 Q1925.85 212.74 1925.85 218.666 Z\" fill=\"#000000\" fill-rule=\"evenodd\" fill-opacity=\"1\" /><path clip-path=\"url(#clip800)\" d=\"M 0 0 M1946.84 208.296 L1946.84 212.323 Q1945.04 211.397 1943.09 210.935 Q1941.15 210.472 1939.06 210.472 Q1935.89 210.472 1934.3 211.444 Q1932.72 212.416 1932.72 214.36 Q1932.72 215.842 1933.86 216.698 Q1934.99 217.532 1938.42 218.296 L1939.87 218.62 Q1944.41 219.592 1946.31 221.374 Q1948.23 223.134 1948.23 226.305 Q1948.23 229.916 1945.36 232.022 Q1942.51 234.129 1937.51 234.129 Q1935.43 234.129 1933.16 233.712 Q1930.92 233.319 1928.42 232.508 L1928.42 228.11 Q1930.78 229.337 1933.07 229.962 Q1935.36 230.564 1937.61 230.564 Q1940.61 230.564 1942.24 229.546 Q1943.86 228.504 1943.86 226.629 Q1943.86 224.893 1942.68 223.967 Q1941.52 223.041 1937.56 222.184 L1936.08 221.837 Q1932.12 221.004 1930.36 219.291 Q1928.6 217.555 1928.6 214.546 Q1928.6 210.888 1931.19 208.898 Q1933.79 206.907 1938.55 206.907 Q1940.92 206.907 1943 207.254 Q1945.08 207.601 1946.84 208.296 Z\" fill=\"#000000\" fill-rule=\"evenodd\" fill-opacity=\"1\" /><path clip-path=\"url(#clip800)\" d=\"M 0 0 M1956.91 200.171 L1956.91 207.532 L1965.68 207.532 L1965.68 210.842 L1956.91 210.842 L1956.91 224.916 Q1956.91 228.087 1957.77 228.99 Q1958.65 229.893 1961.31 229.893 L1965.68 229.893 L1965.68 233.458 L1961.31 233.458 Q1956.38 233.458 1954.5 231.629 Q1952.63 229.777 1952.63 224.916 L1952.63 210.842 L1949.5 210.842 L1949.5 207.532 L1952.63 207.532 L1952.63 200.171 L1956.91 200.171 Z\" fill=\"#000000\" fill-rule=\"evenodd\" fill-opacity=\"1\" /><path clip-path=\"url(#clip800)\" d=\"M 0 0 M1985.17 211.513 Q1984.46 211.097 1983.6 210.911 Q1982.77 210.703 1981.75 210.703 Q1978.14 210.703 1976.19 213.064 Q1974.27 215.402 1974.27 219.8 L1974.27 233.458 L1969.99 233.458 L1969.99 207.532 L1974.27 207.532 L1974.27 211.56 Q1975.61 209.198 1977.77 208.064 Q1979.92 206.907 1983 206.907 Q1983.44 206.907 1983.97 206.976 Q1984.5 207.023 1985.15 207.138 L1985.17 211.513 Z\" fill=\"#000000\" fill-rule=\"evenodd\" fill-opacity=\"1\" /><path clip-path=\"url(#clip800)\" d=\"M 0 0 M1987.79 207.532 L2008.02 207.532 L2008.02 211.421 L1992 230.055 L2008.02 230.055 L2008.02 233.458 L1987.21 233.458 L1987.21 229.569 L2003.23 210.935 L1987.79 210.935 L1987.79 207.532 Z\" fill=\"#000000\" fill-rule=\"evenodd\" fill-opacity=\"1\" /><path clip-path=\"url(#clip800)\" d=\"M 0 0 M2034.67 219.43 L2034.67 221.513 L2015.08 221.513 Q2015.36 225.911 2017.72 228.226 Q2020.11 230.518 2024.34 230.518 Q2026.8 230.518 2029.09 229.916 Q2031.4 229.314 2033.67 228.11 L2033.67 232.138 Q2031.38 233.11 2028.97 233.62 Q2026.56 234.129 2024.09 234.129 Q2017.88 234.129 2014.25 230.518 Q2010.64 226.907 2010.64 220.749 Q2010.64 214.384 2014.06 210.657 Q2017.51 206.907 2023.35 206.907 Q2028.58 206.907 2031.61 210.286 Q2034.67 213.643 2034.67 219.43 M2030.41 218.18 Q2030.36 214.685 2028.44 212.601 Q2026.54 210.518 2023.39 210.518 Q2019.83 210.518 2017.67 212.532 Q2015.55 214.546 2015.22 218.203 L2030.41 218.18 M2026.91 233.458 L2029.67 233.458 Q2028.62 234.87 2028.11 235.888 Q2027.63 236.907 2027.63 237.624 Q2027.63 238.689 2028.25 239.221 Q2028.9 239.754 2030.15 239.754 Q2030.89 239.754 2031.61 239.569 Q2032.33 239.407 2033.05 239.059 L2033.05 242.138 Q2032.17 242.37 2031.38 242.485 Q2030.59 242.601 2029.9 242.601 Q2027.07 242.601 2025.73 241.583 Q2024.41 240.587 2024.41 238.434 Q2024.41 237.323 2025.01 236.096 Q2025.64 234.893 2026.91 233.458 Z\" fill=\"#000000\" fill-rule=\"evenodd\" fill-opacity=\"1\" /><path clip-path=\"url(#clip800)\" d=\"M 0 0 M2057.74 220.518 Q2057.74 215.819 2055.8 213.157 Q2053.88 210.472 2050.5 210.472 Q2047.12 210.472 2045.17 213.157 Q2043.25 215.819 2043.25 220.518 Q2043.25 225.217 2045.17 227.902 Q2047.12 230.564 2050.5 230.564 Q2053.88 230.564 2055.8 227.902 Q2057.74 225.217 2057.74 220.518 M2043.25 211.467 Q2044.6 209.152 2046.63 208.041 Q2048.69 206.907 2051.54 206.907 Q2056.26 206.907 2059.2 210.657 Q2062.17 214.407 2062.17 220.518 Q2062.17 226.629 2059.2 230.379 Q2056.26 234.129 2051.54 234.129 Q2048.69 234.129 2046.63 233.018 Q2044.6 231.883 2043.25 229.569 L2043.25 233.458 L2038.97 233.458 L2038.97 197.439 L2043.25 197.439 L2043.25 211.467 Z\" fill=\"#000000\" fill-rule=\"evenodd\" fill-opacity=\"1\" /><path clip-path=\"url(#clip800)\" d=\"M 0 0 M2066.63 207.532 L2070.89 207.532 L2070.89 233.458 L2066.63 233.458 L2066.63 207.532 M2066.63 197.439 L2070.89 197.439 L2070.89 202.833 L2066.63 202.833 L2066.63 197.439 Z\" fill=\"#000000\" fill-rule=\"evenodd\" fill-opacity=\"1\" /><path clip-path=\"url(#clip800)\" d=\"M 0 0 M2097.54 219.43 L2097.54 221.513 L2077.95 221.513 Q2078.23 225.911 2080.59 228.226 Q2082.98 230.518 2087.21 230.518 Q2089.67 230.518 2091.96 229.916 Q2094.27 229.314 2096.54 228.11 L2096.54 232.138 Q2094.25 233.11 2091.84 233.62 Q2089.43 234.129 2086.96 234.129 Q2080.75 234.129 2077.12 230.518 Q2073.51 226.907 2073.51 220.749 Q2073.51 214.384 2076.93 210.657 Q2080.38 206.907 2086.22 206.907 Q2091.45 206.907 2094.48 210.286 Q2097.54 213.643 2097.54 219.43 M2093.28 218.18 Q2093.23 214.685 2091.31 212.601 Q2089.41 210.518 2086.26 210.518 Q2082.7 210.518 2080.54 212.532 Q2078.42 214.546 2078.09 218.203 L2093.28 218.18 Z\" fill=\"#000000\" fill-rule=\"evenodd\" fill-opacity=\"1\" /><polyline clip-path=\"url(#clip800)\" style=\"stroke:#3da44d; stroke-width:4; stroke-opacity:1; fill:none\" points=\"\n",
       "  1719.35,276.658 1866.92,276.658 \n",
       "  \"/>\n",
       "<path clip-path=\"url(#clip800)\" d=\"M 0 0 M1912.03 269.007 L1912.03 272.989 Q1910.22 271.993 1908.39 271.507 Q1906.59 270.998 1904.74 270.998 Q1900.59 270.998 1898.3 273.637 Q1896.01 276.252 1896.01 280.998 Q1896.01 285.743 1898.3 288.382 Q1900.59 290.998 1904.74 290.998 Q1906.59 290.998 1908.39 290.512 Q1910.22 290.002 1912.03 289.007 L1912.03 292.942 Q1910.24 293.776 1908.32 294.192 Q1906.43 294.609 1904.27 294.609 Q1898.42 294.609 1894.97 290.928 Q1891.52 287.248 1891.52 280.998 Q1891.52 274.655 1894.99 271.021 Q1898.49 267.387 1904.55 267.387 Q1906.52 267.387 1908.39 267.803 Q1910.27 268.197 1912.03 269.007 Z\" fill=\"#000000\" fill-rule=\"evenodd\" fill-opacity=\"1\" /><path clip-path=\"url(#clip800)\" d=\"M 0 0 M1938.05 278.289 L1938.05 293.938 L1933.79 293.938 L1933.79 278.428 Q1933.79 274.748 1932.35 272.919 Q1930.92 271.09 1928.05 271.09 Q1924.6 271.09 1922.61 273.29 Q1920.62 275.489 1920.62 279.285 L1920.62 293.938 L1916.33 293.938 L1916.33 257.919 L1920.62 257.919 L1920.62 272.04 Q1922.14 269.702 1924.2 268.544 Q1926.29 267.387 1928.99 267.387 Q1933.46 267.387 1935.75 270.165 Q1938.05 272.919 1938.05 278.289 Z\" fill=\"#000000\" fill-rule=\"evenodd\" fill-opacity=\"1\" /><path clip-path=\"url(#clip800)\" d=\"M 0 0 M1952.56 270.998 Q1949.13 270.998 1947.14 273.683 Q1945.15 276.345 1945.15 280.998 Q1945.15 285.651 1947.12 288.336 Q1949.11 290.998 1952.56 290.998 Q1955.96 290.998 1957.95 288.313 Q1959.94 285.627 1959.94 280.998 Q1959.94 276.391 1957.95 273.706 Q1955.96 270.998 1952.56 270.998 M1952.56 267.387 Q1958.11 267.387 1961.29 270.998 Q1964.46 274.609 1964.46 280.998 Q1964.46 287.364 1961.29 290.998 Q1958.11 294.609 1952.56 294.609 Q1946.98 294.609 1943.81 290.998 Q1940.66 287.364 1940.66 280.998 Q1940.66 274.609 1943.81 270.998 Q1946.98 267.387 1952.56 267.387 Z\" fill=\"#000000\" fill-rule=\"evenodd\" fill-opacity=\"1\" /><path clip-path=\"url(#clip800)\" d=\"M 0 0 M1983.95 271.993 Q1983.23 271.577 1982.37 271.391 Q1981.54 271.183 1980.52 271.183 Q1976.91 271.183 1974.97 273.544 Q1973.05 275.882 1973.05 280.28 L1973.05 293.938 L1968.76 293.938 L1968.76 268.012 L1973.05 268.012 L1973.05 272.04 Q1974.39 269.678 1976.54 268.544 Q1978.69 267.387 1981.77 267.387 Q1982.21 267.387 1982.74 267.456 Q1983.28 267.503 1983.92 267.618 L1983.95 271.993 Z\" fill=\"#000000\" fill-rule=\"evenodd\" fill-opacity=\"1\" /><path clip-path=\"url(#clip800)\" d=\"M 0 0 M2009.55 279.91 L2009.55 281.993 L1989.97 281.993 Q1990.24 286.391 1992.61 288.706 Q1994.99 290.998 1999.23 290.998 Q2001.68 290.998 2003.97 290.396 Q2006.29 289.794 2008.55 288.59 L2008.55 292.618 Q2006.26 293.59 2003.86 294.1 Q2001.45 294.609 1998.97 294.609 Q1992.77 294.609 1989.13 290.998 Q1985.52 287.387 1985.52 281.229 Q1985.52 274.864 1988.95 271.137 Q1992.4 267.387 1998.23 267.387 Q2003.46 267.387 2006.49 270.766 Q2009.55 274.123 2009.55 279.91 M2005.29 278.66 Q2005.24 275.165 2003.32 273.081 Q2001.42 270.998 1998.28 270.998 Q1994.71 270.998 1992.56 273.012 Q1990.43 275.026 1990.11 278.683 L2005.29 278.66 Z\" fill=\"#000000\" fill-rule=\"evenodd\" fill-opacity=\"1\" /><path clip-path=\"url(#clip800)\" d=\"M 0 0 M2046.15 280.674 Q2046.15 276.044 2044.23 273.498 Q2042.33 270.952 2038.88 270.952 Q2035.45 270.952 2033.53 273.498 Q2031.63 276.044 2031.63 280.674 Q2031.63 285.28 2033.53 287.826 Q2035.45 290.373 2038.88 290.373 Q2042.33 290.373 2044.23 287.826 Q2046.15 285.28 2046.15 280.674 M2050.41 290.72 Q2050.41 297.34 2047.47 300.558 Q2044.53 303.799 2038.46 303.799 Q2036.22 303.799 2034.23 303.451 Q2032.23 303.127 2030.36 302.433 L2030.36 298.289 Q2032.23 299.308 2034.06 299.794 Q2035.89 300.28 2037.79 300.28 Q2041.98 300.28 2044.06 298.081 Q2046.15 295.905 2046.15 291.484 L2046.15 289.377 Q2044.83 291.669 2042.77 292.803 Q2040.71 293.938 2037.84 293.938 Q2033.07 293.938 2030.15 290.303 Q2027.23 286.669 2027.23 280.674 Q2027.23 274.655 2030.15 271.021 Q2033.07 267.387 2037.84 267.387 Q2040.71 267.387 2042.77 268.521 Q2044.83 269.655 2046.15 271.947 L2046.15 268.012 L2050.41 268.012 L2050.41 290.72 Z\" fill=\"#000000\" fill-rule=\"evenodd\" fill-opacity=\"1\" /><path clip-path=\"url(#clip800)\" d=\"M 0 0 M2064.92 270.998 Q2061.49 270.998 2059.5 273.683 Q2057.51 276.345 2057.51 280.998 Q2057.51 285.651 2059.48 288.336 Q2061.47 290.998 2064.92 290.998 Q2068.32 290.998 2070.31 288.313 Q2072.3 285.627 2072.3 280.998 Q2072.3 276.391 2070.31 273.706 Q2068.32 270.998 2064.92 270.998 M2064.92 267.387 Q2070.48 267.387 2073.65 270.998 Q2076.82 274.609 2076.82 280.998 Q2076.82 287.364 2073.65 290.998 Q2070.48 294.609 2064.92 294.609 Q2059.34 294.609 2056.17 290.998 Q2053.02 287.364 2053.02 280.998 Q2053.02 274.609 2056.17 270.998 Q2059.34 267.387 2064.92 267.387 Z\" fill=\"#000000\" fill-rule=\"evenodd\" fill-opacity=\"1\" /><path clip-path=\"url(#clip800)\" d=\"M 0 0 M2081.42 257.919 L2085.68 257.919 L2085.68 271.854 L2088.58 269.771 L2090.34 272.225 L2085.68 275.489 L2085.68 293.938 L2081.42 293.938 L2081.42 278.521 L2078.58 280.558 L2076.86 278.104 L2081.42 274.84 L2081.42 257.919 Z\" fill=\"#000000\" fill-rule=\"evenodd\" fill-opacity=\"1\" /><path clip-path=\"url(#clip800)\" d=\"M 0 0 M2116.98 279.91 L2116.98 281.993 L2097.4 281.993 Q2097.67 286.391 2100.04 288.706 Q2102.42 290.998 2106.66 290.998 Q2109.11 290.998 2111.4 290.396 Q2113.72 289.794 2115.98 288.59 L2115.98 292.618 Q2113.69 293.59 2111.29 294.1 Q2108.88 294.609 2106.4 294.609 Q2100.2 294.609 2096.56 290.998 Q2092.95 287.387 2092.95 281.229 Q2092.95 274.864 2096.38 271.137 Q2099.83 267.387 2105.66 267.387 Q2110.89 267.387 2113.92 270.766 Q2116.98 274.123 2116.98 279.91 M2112.72 278.66 Q2112.67 275.165 2110.75 273.081 Q2108.85 270.998 2105.71 270.998 Q2102.14 270.998 2099.99 273.012 Q2097.86 275.026 2097.54 278.683 L2112.72 278.66 M2109.23 293.938 L2111.98 293.938 Q2110.94 295.35 2110.43 296.368 Q2109.94 297.387 2109.94 298.104 Q2109.94 299.169 2110.57 299.701 Q2111.22 300.234 2112.47 300.234 Q2113.21 300.234 2113.92 300.049 Q2114.64 299.887 2115.36 299.539 L2115.36 302.618 Q2114.48 302.85 2113.69 302.965 Q2112.91 303.081 2112.21 303.081 Q2109.39 303.081 2108.04 302.063 Q2106.73 301.067 2106.73 298.914 Q2106.73 297.803 2107.33 296.576 Q2107.95 295.373 2109.23 293.938 Z\" fill=\"#000000\" fill-rule=\"evenodd\" fill-opacity=\"1\" /><path clip-path=\"url(#clip800)\" d=\"M 0 0 M2140.06 280.998 Q2140.06 276.299 2138.11 273.637 Q2136.19 270.952 2132.81 270.952 Q2129.43 270.952 2127.49 273.637 Q2125.57 276.299 2125.57 280.998 Q2125.57 285.697 2127.49 288.382 Q2129.43 291.044 2132.81 291.044 Q2136.19 291.044 2138.11 288.382 Q2140.06 285.697 2140.06 280.998 M2125.57 271.947 Q2126.91 269.632 2128.95 268.521 Q2131.01 267.387 2133.85 267.387 Q2138.58 267.387 2141.52 271.137 Q2144.48 274.887 2144.48 280.998 Q2144.48 287.109 2141.52 290.859 Q2138.58 294.609 2133.85 294.609 Q2131.01 294.609 2128.95 293.498 Q2126.91 292.363 2125.57 290.049 L2125.57 293.938 L2121.29 293.938 L2121.29 257.919 L2125.57 257.919 L2125.57 271.947 Z\" fill=\"#000000\" fill-rule=\"evenodd\" fill-opacity=\"1\" /><path clip-path=\"url(#clip800)\" d=\"M 0 0 M2148.95 268.012 L2153.21 268.012 L2153.21 293.938 L2148.95 293.938 L2148.95 268.012 M2148.95 257.919 L2153.21 257.919 L2153.21 263.313 L2148.95 263.313 L2148.95 257.919 Z\" fill=\"#000000\" fill-rule=\"evenodd\" fill-opacity=\"1\" /><path clip-path=\"url(#clip800)\" d=\"M 0 0 M2179.85 279.91 L2179.85 281.993 L2160.27 281.993 Q2160.54 286.391 2162.91 288.706 Q2165.29 290.998 2169.53 290.998 Q2171.98 290.998 2174.27 290.396 Q2176.59 289.794 2178.85 288.59 L2178.85 292.618 Q2176.56 293.59 2174.16 294.1 Q2171.75 294.609 2169.27 294.609 Q2163.07 294.609 2159.43 290.998 Q2155.82 287.387 2155.82 281.229 Q2155.82 274.864 2159.25 271.137 Q2162.7 267.387 2168.53 267.387 Q2173.76 267.387 2176.79 270.766 Q2179.85 274.123 2179.85 279.91 M2175.59 278.66 Q2175.54 275.165 2173.62 273.081 Q2171.72 270.998 2168.58 270.998 Q2165.01 270.998 2162.86 273.012 Q2160.73 275.026 2160.41 278.683 L2175.59 278.66 Z\" fill=\"#000000\" fill-rule=\"evenodd\" fill-opacity=\"1\" /><polyline clip-path=\"url(#clip800)\" style=\"stroke:#c271d2; stroke-width:4; stroke-opacity:1; fill:none\" points=\"\n",
       "  1719.35,337.138 1866.92,337.138 \n",
       "  \"/>\n",
       "<path clip-path=\"url(#clip800)\" d=\"M 0 0 M1912.03 329.487 L1912.03 333.469 Q1910.22 332.473 1908.39 331.987 Q1906.59 331.478 1904.74 331.478 Q1900.59 331.478 1898.3 334.117 Q1896.01 336.732 1896.01 341.478 Q1896.01 346.223 1898.3 348.862 Q1900.59 351.478 1904.74 351.478 Q1906.59 351.478 1908.39 350.992 Q1910.22 350.482 1912.03 349.487 L1912.03 353.422 Q1910.24 354.256 1908.32 354.672 Q1906.43 355.089 1904.27 355.089 Q1898.42 355.089 1894.97 351.408 Q1891.52 347.728 1891.52 341.478 Q1891.52 335.135 1894.99 331.501 Q1898.49 327.867 1904.55 327.867 Q1906.52 327.867 1908.39 328.283 Q1910.27 328.677 1912.03 329.487 Z\" fill=\"#000000\" fill-rule=\"evenodd\" fill-opacity=\"1\" /><path clip-path=\"url(#clip800)\" d=\"M 0 0 M1938.05 338.769 L1938.05 354.418 L1933.79 354.418 L1933.79 338.908 Q1933.79 335.228 1932.35 333.399 Q1930.92 331.57 1928.05 331.57 Q1924.6 331.57 1922.61 333.77 Q1920.62 335.969 1920.62 339.765 L1920.62 354.418 L1916.33 354.418 L1916.33 318.399 L1920.62 318.399 L1920.62 332.52 Q1922.14 330.182 1924.2 329.024 Q1926.29 327.867 1928.99 327.867 Q1933.46 327.867 1935.75 330.645 Q1938.05 333.399 1938.05 338.769 Z\" fill=\"#000000\" fill-rule=\"evenodd\" fill-opacity=\"1\" /><path clip-path=\"url(#clip800)\" d=\"M 0 0 M1952.56 331.478 Q1949.13 331.478 1947.14 334.163 Q1945.15 336.825 1945.15 341.478 Q1945.15 346.131 1947.12 348.816 Q1949.11 351.478 1952.56 351.478 Q1955.96 351.478 1957.95 348.793 Q1959.94 346.107 1959.94 341.478 Q1959.94 336.871 1957.95 334.186 Q1955.96 331.478 1952.56 331.478 M1952.56 327.867 Q1958.11 327.867 1961.29 331.478 Q1964.46 335.089 1964.46 341.478 Q1964.46 347.844 1961.29 351.478 Q1958.11 355.089 1952.56 355.089 Q1946.98 355.089 1943.81 351.478 Q1940.66 347.844 1940.66 341.478 Q1940.66 335.089 1943.81 331.478 Q1946.98 327.867 1952.56 327.867 Z\" fill=\"#000000\" fill-rule=\"evenodd\" fill-opacity=\"1\" /><path clip-path=\"url(#clip800)\" d=\"M 0 0 M1983.95 332.473 Q1983.23 332.057 1982.37 331.871 Q1981.54 331.663 1980.52 331.663 Q1976.91 331.663 1974.97 334.024 Q1973.05 336.362 1973.05 340.76 L1973.05 354.418 L1968.76 354.418 L1968.76 328.492 L1973.05 328.492 L1973.05 332.52 Q1974.39 330.158 1976.54 329.024 Q1978.69 327.867 1981.77 327.867 Q1982.21 327.867 1982.74 327.936 Q1983.28 327.983 1983.92 328.098 L1983.95 332.473 Z\" fill=\"#000000\" fill-rule=\"evenodd\" fill-opacity=\"1\" /><path clip-path=\"url(#clip800)\" d=\"M 0 0 M2009.55 340.39 L2009.55 342.473 L1989.97 342.473 Q1990.24 346.871 1992.61 349.186 Q1994.99 351.478 1999.23 351.478 Q2001.68 351.478 2003.97 350.876 Q2006.29 350.274 2008.55 349.07 L2008.55 353.098 Q2006.26 354.07 2003.86 354.58 Q2001.45 355.089 1998.97 355.089 Q1992.77 355.089 1989.13 351.478 Q1985.52 347.867 1985.52 341.709 Q1985.52 335.344 1988.95 331.617 Q1992.4 327.867 1998.23 327.867 Q2003.46 327.867 2006.49 331.246 Q2009.55 334.603 2009.55 340.39 M2005.29 339.14 Q2005.24 335.645 2003.32 333.561 Q2001.42 331.478 1998.28 331.478 Q1994.71 331.478 1992.56 333.492 Q1990.43 335.506 1990.11 339.163 L2005.29 339.14 Z\" fill=\"#000000\" fill-rule=\"evenodd\" fill-opacity=\"1\" /><path clip-path=\"url(#clip800)\" d=\"M 0 0 M2029.09 328.492 L2033.35 328.492 L2033.35 354.881 Q2033.35 359.834 2031.45 362.056 Q2029.57 364.279 2025.38 364.279 L2023.76 364.279 L2023.76 360.668 L2024.9 360.668 Q2027.33 360.668 2028.21 359.533 Q2029.09 358.422 2029.09 354.881 L2029.09 328.492 M2029.09 318.399 L2033.35 318.399 L2033.35 323.793 L2029.09 323.793 L2029.09 318.399 Z\" fill=\"#000000\" fill-rule=\"evenodd\" fill-opacity=\"1\" /><path clip-path=\"url(#clip800)\" d=\"M 0 0 M2049.6 341.385 Q2044.43 341.385 2042.44 342.566 Q2040.45 343.746 2040.45 346.594 Q2040.45 348.862 2041.93 350.205 Q2043.44 351.524 2046.01 351.524 Q2049.55 351.524 2051.68 349.024 Q2053.83 346.501 2053.83 342.334 L2053.83 341.385 L2049.6 341.385 M2058.09 339.626 L2058.09 354.418 L2053.83 354.418 L2053.83 350.482 Q2052.37 352.843 2050.2 353.978 Q2048.02 355.089 2044.87 355.089 Q2040.89 355.089 2038.53 352.867 Q2036.19 350.621 2036.19 346.871 Q2036.19 342.496 2039.11 340.274 Q2042.05 338.052 2047.86 338.052 L2053.83 338.052 L2053.83 337.635 Q2053.83 334.695 2051.89 333.098 Q2049.97 331.478 2046.47 331.478 Q2044.25 331.478 2042.14 332.01 Q2040.04 332.543 2038.09 333.607 L2038.09 329.672 Q2040.43 328.77 2042.63 328.33 Q2044.83 327.867 2046.91 327.867 Q2052.54 327.867 2055.31 330.783 Q2058.09 333.7 2058.09 339.626 Z\" fill=\"#000000\" fill-rule=\"evenodd\" fill-opacity=\"1\" /><path clip-path=\"url(#clip800)\" d=\"M 0 0 M2079.09 329.256 L2079.09 333.283 Q2077.28 332.357 2075.34 331.895 Q2073.39 331.432 2071.31 331.432 Q2068.14 331.432 2066.54 332.404 Q2064.97 333.376 2064.97 335.32 Q2064.97 336.802 2066.1 337.658 Q2067.23 338.492 2070.66 339.256 L2072.12 339.58 Q2076.66 340.552 2078.55 342.334 Q2080.48 344.094 2080.48 347.265 Q2080.48 350.876 2077.6 352.982 Q2074.76 355.089 2069.76 355.089 Q2067.67 355.089 2065.41 354.672 Q2063.16 354.279 2060.66 353.468 L2060.66 349.07 Q2063.02 350.297 2065.31 350.922 Q2067.61 351.524 2069.85 351.524 Q2072.86 351.524 2074.48 350.506 Q2076.1 349.464 2076.1 347.589 Q2076.1 345.853 2074.92 344.927 Q2073.76 344.001 2069.8 343.144 L2068.32 342.797 Q2064.36 341.964 2062.61 340.251 Q2060.85 338.515 2060.85 335.506 Q2060.85 331.848 2063.44 329.858 Q2066.03 327.867 2070.8 327.867 Q2073.16 327.867 2075.24 328.214 Q2077.33 328.561 2079.09 329.256 Z\" fill=\"#000000\" fill-rule=\"evenodd\" fill-opacity=\"1\" /><path clip-path=\"url(#clip800)\" d=\"M 0 0 M2089.16 321.131 L2089.16 328.492 L2097.93 328.492 L2097.93 331.802 L2089.16 331.802 L2089.16 345.876 Q2089.16 349.047 2090.01 349.95 Q2090.89 350.853 2093.55 350.853 L2097.93 350.853 L2097.93 354.418 L2093.55 354.418 Q2088.62 354.418 2086.75 352.589 Q2084.87 350.737 2084.87 345.876 L2084.87 331.802 L2081.75 331.802 L2081.75 328.492 L2084.87 328.492 L2084.87 321.131 L2089.16 321.131 Z\" fill=\"#000000\" fill-rule=\"evenodd\" fill-opacity=\"1\" /><path clip-path=\"url(#clip800)\" d=\"M 0 0 M2117.42 332.473 Q2116.7 332.057 2115.85 331.871 Q2115.01 331.663 2113.99 331.663 Q2110.38 331.663 2108.44 334.024 Q2106.52 336.362 2106.52 340.76 L2106.52 354.418 L2102.23 354.418 L2102.23 328.492 L2106.52 328.492 L2106.52 332.52 Q2107.86 330.158 2110.01 329.024 Q2112.16 327.867 2115.24 327.867 Q2115.68 327.867 2116.22 327.936 Q2116.75 327.983 2117.4 328.098 L2117.42 332.473 Z\" fill=\"#000000\" fill-rule=\"evenodd\" fill-opacity=\"1\" /><path clip-path=\"url(#clip800)\" d=\"M 0 0 M2120.04 328.492 L2140.27 328.492 L2140.27 332.381 L2124.25 351.015 L2140.27 351.015 L2140.27 354.418 L2119.46 354.418 L2119.46 350.529 L2135.48 331.895 L2120.04 331.895 L2120.04 328.492 Z\" fill=\"#000000\" fill-rule=\"evenodd\" fill-opacity=\"1\" /><path clip-path=\"url(#clip800)\" d=\"M 0 0 M2166.91 340.39 L2166.91 342.473 L2147.33 342.473 Q2147.6 346.871 2149.97 349.186 Q2152.35 351.478 2156.59 351.478 Q2159.04 351.478 2161.33 350.876 Q2163.65 350.274 2165.91 349.07 L2165.91 353.098 Q2163.62 354.07 2161.22 354.58 Q2158.81 355.089 2156.33 355.089 Q2150.13 355.089 2146.49 351.478 Q2142.88 347.867 2142.88 341.709 Q2142.88 335.344 2146.31 331.617 Q2149.76 327.867 2155.59 327.867 Q2160.82 327.867 2163.85 331.246 Q2166.91 334.603 2166.91 340.39 M2162.65 339.14 Q2162.6 335.645 2160.68 333.561 Q2158.79 331.478 2155.64 331.478 Q2152.07 331.478 2149.92 333.492 Q2147.79 335.506 2147.47 339.163 L2162.65 339.14 M2159.16 354.418 L2161.91 354.418 Q2160.87 355.83 2160.36 356.848 Q2159.87 357.867 2159.87 358.584 Q2159.87 359.649 2160.5 360.181 Q2161.15 360.714 2162.4 360.714 Q2163.14 360.714 2163.85 360.529 Q2164.57 360.367 2165.29 360.019 L2165.29 363.098 Q2164.41 363.33 2163.62 363.445 Q2162.84 363.561 2162.14 363.561 Q2159.32 363.561 2157.97 362.543 Q2156.66 361.547 2156.66 359.394 Q2156.66 358.283 2157.26 357.056 Q2157.88 355.853 2159.16 354.418 Z\" fill=\"#000000\" fill-rule=\"evenodd\" fill-opacity=\"1\" /><path clip-path=\"url(#clip800)\" d=\"M 0 0 M2189.99 341.478 Q2189.99 336.779 2188.04 334.117 Q2186.12 331.432 2182.74 331.432 Q2179.36 331.432 2177.42 334.117 Q2175.5 336.779 2175.5 341.478 Q2175.5 346.177 2177.42 348.862 Q2179.36 351.524 2182.74 351.524 Q2186.12 351.524 2188.04 348.862 Q2189.99 346.177 2189.99 341.478 M2175.5 332.427 Q2176.84 330.112 2178.88 329.001 Q2180.94 327.867 2183.78 327.867 Q2188.51 327.867 2191.45 331.617 Q2194.41 335.367 2194.41 341.478 Q2194.41 347.589 2191.45 351.339 Q2188.51 355.089 2183.78 355.089 Q2180.94 355.089 2178.88 353.978 Q2176.84 352.843 2175.5 350.529 L2175.5 354.418 L2171.22 354.418 L2171.22 318.399 L2175.5 318.399 L2175.5 332.427 Z\" fill=\"#000000\" fill-rule=\"evenodd\" fill-opacity=\"1\" /><path clip-path=\"url(#clip800)\" d=\"M 0 0 M2198.88 328.492 L2203.14 328.492 L2203.14 354.418 L2198.88 354.418 L2198.88 328.492 M2198.88 318.399 L2203.14 318.399 L2203.14 323.793 L2198.88 323.793 L2198.88 318.399 Z\" fill=\"#000000\" fill-rule=\"evenodd\" fill-opacity=\"1\" /><path clip-path=\"url(#clip800)\" d=\"M 0 0 M2229.78 340.39 L2229.78 342.473 L2210.2 342.473 Q2210.47 346.871 2212.84 349.186 Q2215.22 351.478 2219.46 351.478 Q2221.91 351.478 2224.2 350.876 Q2226.52 350.274 2228.78 349.07 L2228.78 353.098 Q2226.49 354.07 2224.09 354.58 Q2221.68 355.089 2219.2 355.089 Q2213 355.089 2209.36 351.478 Q2205.75 347.867 2205.75 341.709 Q2205.75 335.344 2209.18 331.617 Q2212.63 327.867 2218.46 327.867 Q2223.69 327.867 2226.72 331.246 Q2229.78 334.603 2229.78 340.39 M2225.52 339.14 Q2225.47 335.645 2223.55 333.561 Q2221.66 331.478 2218.51 331.478 Q2214.94 331.478 2212.79 333.492 Q2210.66 335.506 2210.34 339.163 L2225.52 339.14 Z\" fill=\"#000000\" fill-rule=\"evenodd\" fill-opacity=\"1\" /></svg>\n"
      ]
     },
     "execution_count": 209,
     "metadata": {},
     "output_type": "execute_result"
    }
   ],
   "source": [
    "wykresy_all(9,9,10,10,70,70,100)"
   ]
  },
  {
   "cell_type": "code",
   "execution_count": 212,
   "metadata": {},
   "outputs": [
    {
     "name": "stdout",
     "output_type": "stream",
     "text": [
      "o kurczaki chyba działa\n"
     ]
    },
    {
     "data": {
      "image/svg+xml": [
       "<?xml version=\"1.0\" encoding=\"utf-8\"?>\n",
       "<svg xmlns=\"http://www.w3.org/2000/svg\" xmlns:xlink=\"http://www.w3.org/1999/xlink\" width=\"600\" height=\"400\" viewBox=\"0 0 2400 1600\">\n",
       "<defs>\n",
       "  <clipPath id=\"clip920\">\n",
       "    <rect x=\"0\" y=\"0\" width=\"2400\" height=\"1600\"/>\n",
       "  </clipPath>\n",
       "</defs>\n",
       "<path clip-path=\"url(#clip920)\" d=\"\n",
       "M0 1600 L2400 1600 L2400 0 L0 0  Z\n",
       "  \" fill=\"#ffffff\" fill-rule=\"evenodd\" fill-opacity=\"1\"/>\n",
       "<defs>\n",
       "  <clipPath id=\"clip921\">\n",
       "    <rect x=\"480\" y=\"0\" width=\"1681\" height=\"1600\"/>\n",
       "  </clipPath>\n",
       "</defs>\n",
       "<path clip-path=\"url(#clip920)\" d=\"\n",
       "M136.76 1486.45 L2352.76 1486.45 L2352.76 47.2441 L136.76 47.2441  Z\n",
       "  \" fill=\"#ffffff\" fill-rule=\"evenodd\" fill-opacity=\"1\"/>\n",
       "<defs>\n",
       "  <clipPath id=\"clip922\">\n",
       "    <rect x=\"136\" y=\"47\" width=\"2217\" height=\"1440\"/>\n",
       "  </clipPath>\n",
       "</defs>\n",
       "<polyline clip-path=\"url(#clip922)\" style=\"stroke:#000000; stroke-width:2; stroke-opacity:0.1; fill:none\" points=\"\n",
       "  178.36,1486.45 178.36,47.2441 \n",
       "  \"/>\n",
       "<polyline clip-path=\"url(#clip922)\" style=\"stroke:#000000; stroke-width:2; stroke-opacity:0.1; fill:none\" points=\"\n",
       "  706.28,1486.45 706.28,47.2441 \n",
       "  \"/>\n",
       "<polyline clip-path=\"url(#clip922)\" style=\"stroke:#000000; stroke-width:2; stroke-opacity:0.1; fill:none\" points=\"\n",
       "  1234.2,1486.45 1234.2,47.2441 \n",
       "  \"/>\n",
       "<polyline clip-path=\"url(#clip922)\" style=\"stroke:#000000; stroke-width:2; stroke-opacity:0.1; fill:none\" points=\"\n",
       "  1762.12,1486.45 1762.12,47.2441 \n",
       "  \"/>\n",
       "<polyline clip-path=\"url(#clip922)\" style=\"stroke:#000000; stroke-width:2; stroke-opacity:0.1; fill:none\" points=\"\n",
       "  2290.04,1486.45 2290.04,47.2441 \n",
       "  \"/>\n",
       "<polyline clip-path=\"url(#clip920)\" style=\"stroke:#000000; stroke-width:4; stroke-opacity:1; fill:none\" points=\"\n",
       "  136.76,1486.45 2352.76,1486.45 \n",
       "  \"/>\n",
       "<polyline clip-path=\"url(#clip920)\" style=\"stroke:#000000; stroke-width:4; stroke-opacity:1; fill:none\" points=\"\n",
       "  178.36,1486.45 178.36,1469.18 \n",
       "  \"/>\n",
       "<polyline clip-path=\"url(#clip920)\" style=\"stroke:#000000; stroke-width:4; stroke-opacity:1; fill:none\" points=\"\n",
       "  706.28,1486.45 706.28,1469.18 \n",
       "  \"/>\n",
       "<polyline clip-path=\"url(#clip920)\" style=\"stroke:#000000; stroke-width:4; stroke-opacity:1; fill:none\" points=\"\n",
       "  1234.2,1486.45 1234.2,1469.18 \n",
       "  \"/>\n",
       "<polyline clip-path=\"url(#clip920)\" style=\"stroke:#000000; stroke-width:4; stroke-opacity:1; fill:none\" points=\"\n",
       "  1762.12,1486.45 1762.12,1469.18 \n",
       "  \"/>\n",
       "<polyline clip-path=\"url(#clip920)\" style=\"stroke:#000000; stroke-width:4; stroke-opacity:1; fill:none\" points=\"\n",
       "  2290.04,1486.45 2290.04,1469.18 \n",
       "  \"/>\n",
       "<path clip-path=\"url(#clip920)\" d=\"M 0 0 M178.36 1515.64 Q174.749 1515.64 172.921 1519.2 Q171.115 1522.75 171.115 1529.87 Q171.115 1536.98 172.921 1540.55 Q174.749 1544.09 178.36 1544.09 Q181.995 1544.09 183.8 1540.55 Q185.629 1536.98 185.629 1529.87 Q185.629 1522.75 183.8 1519.2 Q181.995 1515.64 178.36 1515.64 M178.36 1511.93 Q184.171 1511.93 187.226 1516.54 Q190.305 1521.12 190.305 1529.87 Q190.305 1538.6 187.226 1543.21 Q184.171 1547.79 178.36 1547.79 Q172.55 1547.79 169.472 1543.21 Q166.416 1538.6 166.416 1529.87 Q166.416 1521.12 169.472 1516.54 Q172.55 1511.93 178.36 1511.93 Z\" fill=\"#000000\" fill-rule=\"evenodd\" fill-opacity=\"1\" /><path clip-path=\"url(#clip920)\" d=\"M 0 0 M687.924 1543.18 L704.243 1543.18 L704.243 1547.12 L682.299 1547.12 L682.299 1543.18 Q684.961 1540.43 689.544 1535.8 Q694.151 1531.15 695.331 1529.81 Q697.576 1527.28 698.456 1525.55 Q699.359 1523.79 699.359 1522.1 Q699.359 1519.34 697.414 1517.61 Q695.493 1515.87 692.391 1515.87 Q690.192 1515.87 687.739 1516.63 Q685.308 1517.4 682.53 1518.95 L682.53 1514.23 Q685.354 1513.09 687.808 1512.51 Q690.262 1511.93 692.299 1511.93 Q697.669 1511.93 700.863 1514.62 Q704.058 1517.31 704.058 1521.8 Q704.058 1523.93 703.248 1525.85 Q702.461 1527.74 700.354 1530.34 Q699.776 1531.01 696.674 1534.23 Q693.572 1537.42 687.924 1543.18 Z\" fill=\"#000000\" fill-rule=\"evenodd\" fill-opacity=\"1\" /><path clip-path=\"url(#clip920)\" d=\"M 0 0 M709.359 1512.56 L727.715 1512.56 L727.715 1516.5 L713.641 1516.5 L713.641 1524.97 Q714.66 1524.62 715.678 1524.46 Q716.697 1524.27 717.715 1524.27 Q723.502 1524.27 726.882 1527.44 Q730.261 1530.62 730.261 1536.03 Q730.261 1541.61 726.789 1544.71 Q723.317 1547.79 716.998 1547.79 Q714.822 1547.79 712.553 1547.42 Q710.308 1547.05 707.9 1546.31 L707.9 1541.61 Q709.984 1542.74 712.206 1543.3 Q714.428 1543.86 716.905 1543.86 Q720.91 1543.86 723.248 1541.75 Q725.586 1539.64 725.586 1536.03 Q725.586 1532.42 723.248 1530.31 Q720.91 1528.21 716.905 1528.21 Q715.03 1528.21 713.155 1528.62 Q711.303 1529.04 709.359 1529.92 L709.359 1512.56 Z\" fill=\"#000000\" fill-rule=\"evenodd\" fill-opacity=\"1\" /><path clip-path=\"url(#clip920)\" d=\"M 0 0 M1210.97 1512.56 L1229.33 1512.56 L1229.33 1516.5 L1215.25 1516.5 L1215.25 1524.97 Q1216.27 1524.62 1217.29 1524.46 Q1218.31 1524.27 1219.33 1524.27 Q1225.11 1524.27 1228.49 1527.44 Q1231.87 1530.62 1231.87 1536.03 Q1231.87 1541.61 1228.4 1544.71 Q1224.93 1547.79 1218.61 1547.79 Q1216.43 1547.79 1214.17 1547.42 Q1211.92 1547.05 1209.51 1546.31 L1209.51 1541.61 Q1211.6 1542.74 1213.82 1543.3 Q1216.04 1543.86 1218.52 1543.86 Q1222.52 1543.86 1224.86 1541.75 Q1227.2 1539.64 1227.2 1536.03 Q1227.2 1532.42 1224.86 1530.31 Q1222.52 1528.21 1218.52 1528.21 Q1216.64 1528.21 1214.77 1528.62 Q1212.92 1529.04 1210.97 1529.92 L1210.97 1512.56 Z\" fill=\"#000000\" fill-rule=\"evenodd\" fill-opacity=\"1\" /><path clip-path=\"url(#clip920)\" d=\"M 0 0 M1246.94 1515.64 Q1243.33 1515.64 1241.5 1519.2 Q1239.7 1522.75 1239.7 1529.87 Q1239.7 1536.98 1241.5 1540.55 Q1243.33 1544.09 1246.94 1544.09 Q1250.58 1544.09 1252.38 1540.55 Q1254.21 1536.98 1254.21 1529.87 Q1254.21 1522.75 1252.38 1519.2 Q1250.58 1515.64 1246.94 1515.64 M1246.94 1511.93 Q1252.75 1511.93 1255.81 1516.54 Q1258.89 1521.12 1258.89 1529.87 Q1258.89 1538.6 1255.81 1543.21 Q1252.75 1547.79 1246.94 1547.79 Q1241.13 1547.79 1238.05 1543.21 Q1235 1538.6 1235 1529.87 Q1235 1521.12 1238.05 1516.54 Q1241.13 1511.93 1246.94 1511.93 Z\" fill=\"#000000\" fill-rule=\"evenodd\" fill-opacity=\"1\" /><path clip-path=\"url(#clip920)\" d=\"M 0 0 M1738 1512.56 L1760.22 1512.56 L1760.22 1514.55 L1747.68 1547.12 L1742.79 1547.12 L1754.6 1516.5 L1738 1516.5 L1738 1512.56 Z\" fill=\"#000000\" fill-rule=\"evenodd\" fill-opacity=\"1\" /><path clip-path=\"url(#clip920)\" d=\"M 0 0 M1765.34 1512.56 L1783.69 1512.56 L1783.69 1516.5 L1769.62 1516.5 L1769.62 1524.97 Q1770.64 1524.62 1771.66 1524.46 Q1772.67 1524.27 1773.69 1524.27 Q1779.48 1524.27 1782.86 1527.44 Q1786.24 1530.62 1786.24 1536.03 Q1786.24 1541.61 1782.77 1544.71 Q1779.3 1547.79 1772.98 1547.79 Q1770.8 1547.79 1768.53 1547.42 Q1766.29 1547.05 1763.88 1546.31 L1763.88 1541.61 Q1765.96 1542.74 1768.18 1543.3 Q1770.41 1543.86 1772.88 1543.86 Q1776.89 1543.86 1779.23 1541.75 Q1781.56 1539.64 1781.56 1536.03 Q1781.56 1532.42 1779.23 1530.31 Q1776.89 1528.21 1772.88 1528.21 Q1771.01 1528.21 1769.13 1528.62 Q1767.28 1529.04 1765.34 1529.92 L1765.34 1512.56 Z\" fill=\"#000000\" fill-rule=\"evenodd\" fill-opacity=\"1\" /><path clip-path=\"url(#clip920)\" d=\"M 0 0 M2253.41 1543.18 L2261.05 1543.18 L2261.05 1516.82 L2252.74 1518.49 L2252.74 1514.23 L2261 1512.56 L2265.68 1512.56 L2265.68 1543.18 L2273.31 1543.18 L2273.31 1547.12 L2253.41 1547.12 L2253.41 1543.18 Z\" fill=\"#000000\" fill-rule=\"evenodd\" fill-opacity=\"1\" /><path clip-path=\"url(#clip920)\" d=\"M 0 0 M2288.38 1515.64 Q2284.77 1515.64 2282.94 1519.2 Q2281.14 1522.75 2281.14 1529.87 Q2281.14 1536.98 2282.94 1540.55 Q2284.77 1544.09 2288.38 1544.09 Q2292.02 1544.09 2293.82 1540.55 Q2295.65 1536.98 2295.65 1529.87 Q2295.65 1522.75 2293.82 1519.2 Q2292.02 1515.64 2288.38 1515.64 M2288.38 1511.93 Q2294.19 1511.93 2297.25 1516.54 Q2300.33 1521.12 2300.33 1529.87 Q2300.33 1538.6 2297.25 1543.21 Q2294.19 1547.79 2288.38 1547.79 Q2282.57 1547.79 2279.5 1543.21 Q2276.44 1538.6 2276.44 1529.87 Q2276.44 1521.12 2279.5 1516.54 Q2282.57 1511.93 2288.38 1511.93 Z\" fill=\"#000000\" fill-rule=\"evenodd\" fill-opacity=\"1\" /><path clip-path=\"url(#clip920)\" d=\"M 0 0 M2315.4 1515.64 Q2311.79 1515.64 2309.96 1519.2 Q2308.15 1522.75 2308.15 1529.87 Q2308.15 1536.98 2309.96 1540.55 Q2311.79 1544.09 2315.4 1544.09 Q2319.03 1544.09 2320.84 1540.55 Q2322.67 1536.98 2322.67 1529.87 Q2322.67 1522.75 2320.84 1519.2 Q2319.03 1515.64 2315.4 1515.64 M2315.4 1511.93 Q2321.21 1511.93 2324.26 1516.54 Q2327.34 1521.12 2327.34 1529.87 Q2327.34 1538.6 2324.26 1543.21 Q2321.21 1547.79 2315.4 1547.79 Q2309.59 1547.79 2306.51 1543.21 Q2303.45 1538.6 2303.45 1529.87 Q2303.45 1521.12 2306.51 1516.54 Q2309.59 1511.93 2315.4 1511.93 Z\" fill=\"#000000\" fill-rule=\"evenodd\" fill-opacity=\"1\" /><polyline clip-path=\"url(#clip922)\" style=\"stroke:#000000; stroke-width:2; stroke-opacity:0.1; fill:none\" points=\"\n",
       "  136.76,1445.72 2352.76,1445.72 \n",
       "  \"/>\n",
       "<polyline clip-path=\"url(#clip922)\" style=\"stroke:#000000; stroke-width:2; stroke-opacity:0.1; fill:none\" points=\"\n",
       "  136.76,1034.28 2352.76,1034.28 \n",
       "  \"/>\n",
       "<polyline clip-path=\"url(#clip922)\" style=\"stroke:#000000; stroke-width:2; stroke-opacity:0.1; fill:none\" points=\"\n",
       "  136.76,622.843 2352.76,622.843 \n",
       "  \"/>\n",
       "<polyline clip-path=\"url(#clip922)\" style=\"stroke:#000000; stroke-width:2; stroke-opacity:0.1; fill:none\" points=\"\n",
       "  136.76,211.407 2352.76,211.407 \n",
       "  \"/>\n",
       "<polyline clip-path=\"url(#clip920)\" style=\"stroke:#000000; stroke-width:4; stroke-opacity:1; fill:none\" points=\"\n",
       "  136.76,1486.45 136.76,47.2441 \n",
       "  \"/>\n",
       "<polyline clip-path=\"url(#clip920)\" style=\"stroke:#000000; stroke-width:4; stroke-opacity:1; fill:none\" points=\"\n",
       "  136.76,1445.72 163.352,1445.72 \n",
       "  \"/>\n",
       "<polyline clip-path=\"url(#clip920)\" style=\"stroke:#000000; stroke-width:4; stroke-opacity:1; fill:none\" points=\"\n",
       "  136.76,1034.28 163.352,1034.28 \n",
       "  \"/>\n",
       "<polyline clip-path=\"url(#clip920)\" style=\"stroke:#000000; stroke-width:4; stroke-opacity:1; fill:none\" points=\"\n",
       "  136.76,622.843 163.352,622.843 \n",
       "  \"/>\n",
       "<polyline clip-path=\"url(#clip920)\" style=\"stroke:#000000; stroke-width:4; stroke-opacity:1; fill:none\" points=\"\n",
       "  136.76,211.407 163.352,211.407 \n",
       "  \"/>\n",
       "<path clip-path=\"url(#clip920)\" d=\"M 0 0 M88.816 1431.51 Q85.2049 1431.51 83.3762 1435.08 Q81.5707 1438.62 81.5707 1445.75 Q81.5707 1452.86 83.3762 1456.42 Q85.2049 1459.96 88.816 1459.96 Q92.4502 1459.96 94.2558 1456.42 Q96.0845 1452.86 96.0845 1445.75 Q96.0845 1438.62 94.2558 1435.08 Q92.4502 1431.51 88.816 1431.51 M88.816 1427.81 Q94.6262 1427.81 97.6817 1432.42 Q100.76 1437 100.76 1445.75 Q100.76 1454.48 97.6817 1459.08 Q94.6262 1463.67 88.816 1463.67 Q83.0058 1463.67 79.9272 1459.08 Q76.8716 1454.48 76.8716 1445.75 Q76.8716 1437 79.9272 1432.42 Q83.0058 1427.81 88.816 1427.81 Z\" fill=\"#000000\" fill-rule=\"evenodd\" fill-opacity=\"1\" /><path clip-path=\"url(#clip920)\" d=\"M 0 0 M53.8393 1047.62 L61.4782 1047.62 L61.4782 1021.26 L53.168 1022.93 L53.168 1018.67 L61.4319 1017 L66.1078 1017 L66.1078 1047.62 L73.7466 1047.62 L73.7466 1051.56 L53.8393 1051.56 L53.8393 1047.62 Z\" fill=\"#000000\" fill-rule=\"evenodd\" fill-opacity=\"1\" /><path clip-path=\"url(#clip920)\" d=\"M 0 0 M88.816 1020.08 Q85.2049 1020.08 83.3762 1023.64 Q81.5707 1027.18 81.5707 1034.31 Q81.5707 1041.42 83.3762 1044.99 Q85.2049 1048.53 88.816 1048.53 Q92.4502 1048.53 94.2558 1044.99 Q96.0845 1041.42 96.0845 1034.31 Q96.0845 1027.18 94.2558 1023.64 Q92.4502 1020.08 88.816 1020.08 M88.816 1016.37 Q94.6262 1016.37 97.6817 1020.98 Q100.76 1025.56 100.76 1034.31 Q100.76 1043.04 97.6817 1047.65 Q94.6262 1052.23 88.816 1052.23 Q83.0058 1052.23 79.9272 1047.65 Q76.8716 1043.04 76.8716 1034.31 Q76.8716 1025.56 79.9272 1020.98 Q83.0058 1016.37 88.816 1016.37 Z\" fill=\"#000000\" fill-rule=\"evenodd\" fill-opacity=\"1\" /><path clip-path=\"url(#clip920)\" d=\"M 0 0 M57.4273 636.188 L73.7466 636.188 L73.7466 640.123 L51.8023 640.123 L51.8023 636.188 Q54.4643 633.434 59.0476 628.804 Q63.6541 624.151 64.8346 622.809 Q67.08 620.285 67.9596 618.549 Q68.8624 616.79 68.8624 615.1 Q68.8624 612.346 66.918 610.61 Q64.9967 608.873 61.8948 608.873 Q59.6958 608.873 57.2421 609.637 Q54.8115 610.401 52.0338 611.952 L52.0338 607.23 Q54.8578 606.096 57.3115 605.517 Q59.7652 604.938 61.8023 604.938 Q67.1726 604.938 70.367 607.623 Q73.5614 610.309 73.5614 614.799 Q73.5614 616.929 72.7513 618.85 Q71.9642 620.748 69.8578 623.341 Q69.2791 624.012 66.1772 627.23 Q63.0754 630.424 57.4273 636.188 Z\" fill=\"#000000\" fill-rule=\"evenodd\" fill-opacity=\"1\" /><path clip-path=\"url(#clip920)\" d=\"M 0 0 M88.816 608.642 Q85.2049 608.642 83.3762 612.207 Q81.5707 615.748 81.5707 622.878 Q81.5707 629.984 83.3762 633.549 Q85.2049 637.091 88.816 637.091 Q92.4502 637.091 94.2558 633.549 Q96.0845 629.984 96.0845 622.878 Q96.0845 615.748 94.2558 612.207 Q92.4502 608.642 88.816 608.642 M88.816 604.938 Q94.6262 604.938 97.6817 609.545 Q100.76 614.128 100.76 622.878 Q100.76 631.605 97.6817 636.211 Q94.6262 640.795 88.816 640.795 Q83.0058 640.795 79.9272 636.211 Q76.8716 631.605 76.8716 622.878 Q76.8716 614.128 79.9272 609.545 Q83.0058 604.938 88.816 604.938 Z\" fill=\"#000000\" fill-rule=\"evenodd\" fill-opacity=\"1\" /><path clip-path=\"url(#clip920)\" d=\"M 0 0 M66.617 210.053 Q69.9735 210.771 71.8485 213.039 Q73.7466 215.308 73.7466 218.641 Q73.7466 223.757 70.2281 226.558 Q66.7096 229.358 60.2282 229.358 Q58.0523 229.358 55.7375 228.919 Q53.4458 228.502 50.9921 227.645 L50.9921 223.132 Q52.9366 224.266 55.2514 224.845 Q57.5662 225.423 60.0893 225.423 Q64.4874 225.423 66.7791 223.687 Q69.0939 221.951 69.0939 218.641 Q69.0939 215.585 66.9411 213.872 Q64.8115 212.136 60.9921 212.136 L56.9643 212.136 L56.9643 208.294 L61.1773 208.294 Q64.6263 208.294 66.455 206.928 Q68.2837 205.539 68.2837 202.947 Q68.2837 200.285 66.3856 198.872 Q64.5106 197.437 60.9921 197.437 Q59.0708 197.437 56.8717 197.854 Q54.6727 198.271 52.0338 199.15 L52.0338 194.984 Q54.6958 194.243 57.0106 193.873 Q59.3486 193.502 61.4087 193.502 Q66.7328 193.502 69.8346 195.933 Q72.9365 198.34 72.9365 202.46 Q72.9365 205.331 71.2929 207.322 Q69.6494 209.289 66.617 210.053 Z\" fill=\"#000000\" fill-rule=\"evenodd\" fill-opacity=\"1\" /><path clip-path=\"url(#clip920)\" d=\"M 0 0 M88.816 197.206 Q85.2049 197.206 83.3762 200.771 Q81.5707 204.312 81.5707 211.442 Q81.5707 218.548 83.3762 222.113 Q85.2049 225.655 88.816 225.655 Q92.4502 225.655 94.2558 222.113 Q96.0845 218.548 96.0845 211.442 Q96.0845 204.312 94.2558 200.771 Q92.4502 197.206 88.816 197.206 M88.816 193.502 Q94.6262 193.502 97.6817 198.109 Q100.76 202.692 100.76 211.442 Q100.76 220.169 97.6817 224.775 Q94.6262 229.358 88.816 229.358 Q83.0058 229.358 79.9272 224.775 Q76.8716 220.169 76.8716 211.442 Q76.8716 202.692 79.9272 198.109 Q83.0058 193.502 88.816 193.502 Z\" fill=\"#000000\" fill-rule=\"evenodd\" fill-opacity=\"1\" /><polyline clip-path=\"url(#clip922)\" style=\"stroke:#009af9; stroke-width:4; stroke-opacity:1; fill:none\" points=\"\n",
       "  199.477,746.274 220.594,910.849 241.711,1116.57 262.828,1157.71 283.944,1281.14 305.061,1198.85 326.178,1157.71 347.295,1157.71 368.412,1198.85 389.528,1116.57 \n",
       "  410.645,1116.57 431.762,910.849 452.879,910.849 473.995,787.418 495.112,458.269 516.229,293.694 537.346,293.694 558.463,540.556 579.579,746.274 600.696,622.843 \n",
       "  621.813,581.7 642.93,787.418 664.047,993.136 685.163,1116.57 706.28,1116.57 727.397,993.136 748.514,1034.28 769.63,1198.85 790.747,1322.28 811.864,1281.14 \n",
       "  832.981,1363.43 854.098,1322.28 875.214,1322.28 896.331,1281.14 917.448,1198.85 938.565,1034.28 959.682,1075.42 980.798,1075.42 1001.92,993.136 1023.03,1075.42 \n",
       "  1044.15,1240 1065.27,1240 1086.38,1322.28 1107.5,1322.28 1128.62,1281.14 1149.73,1240 1170.85,1198.85 1191.97,1034.28 1213.08,1034.28 1234.2,951.992 \n",
       "  1255.32,1116.57 1276.43,1116.57 1297.55,1157.71 1318.67,1116.57 1339.78,1075.42 1360.9,1034.28 1382.02,1075.42 1403.13,1034.28 1424.25,1322.28 1445.37,1322.28 \n",
       "  1466.48,1322.28 1487.6,1281.14 1508.72,1281.14 1529.83,1363.43 1550.95,1363.43 1572.07,1445.72 1593.19,1445.72 1614.3,1404.57 1635.42,1445.72 1656.54,1445.72 \n",
       "  1677.65,1445.72 1698.77,1445.72 1719.89,1445.72 1741,1445.72 1762.12,1445.72 1783.24,1445.72 1804.35,1445.72 1825.47,1445.72 1846.59,1445.72 1867.7,1445.72 \n",
       "  1888.82,1445.72 1909.94,1445.72 1931.05,1445.72 1952.17,1445.72 1973.29,1445.72 1994.4,1445.72 2015.52,1445.72 2036.64,1445.72 2057.75,1445.72 2078.87,1445.72 \n",
       "  2099.99,1445.72 2121.1,1445.72 2142.22,1445.72 2163.34,1445.72 2184.46,1445.72 2205.57,1445.72 2226.69,1445.72 2247.81,1445.72 2268.92,1445.72 2290.04,1445.72 \n",
       "  \n",
       "  \"/>\n",
       "<polyline clip-path=\"url(#clip922)\" style=\"stroke:#e26f46; stroke-width:4; stroke-opacity:1; fill:none\" points=\"\n",
       "  199.477,910.849 220.594,663.987 241.711,1157.71 262.828,1157.71 283.944,1281.14 305.061,1322.28 326.178,1240 347.295,1322.28 368.412,1198.85 389.528,1075.42 \n",
       "  410.645,1034.28 431.762,787.418 452.879,705.131 473.995,993.136 495.112,951.992 516.229,951.992 537.346,581.7 558.463,375.982 579.579,787.418 600.696,869.705 \n",
       "  621.813,663.987 642.93,581.7 664.047,252.551 685.163,499.412 706.28,951.992 727.397,787.418 748.514,705.131 769.63,746.274 790.747,417.125 811.864,622.843 \n",
       "  832.981,375.982 854.098,375.982 875.214,499.412 896.331,458.269 917.448,622.843 938.565,622.843 959.682,334.838 980.798,458.269 1001.92,458.269 1023.03,375.982 \n",
       "  1044.15,581.7 1065.27,622.843 1086.38,87.9763 1107.5,663.987 1128.62,581.7 1149.73,581.7 1170.85,951.992 1191.97,869.705 1213.08,417.125 1234.2,499.412 \n",
       "  1255.32,581.7 1276.43,869.705 1297.55,581.7 1318.67,170.264 1339.78,622.843 1360.9,787.418 1382.02,499.412 1403.13,87.9763 1424.25,375.982 1445.37,499.412 \n",
       "  1466.48,540.556 1487.6,540.556 1508.72,87.9763 1529.83,910.849 1550.95,951.992 1572.07,1116.57 1593.19,993.136 1614.3,787.418 1635.42,746.274 1656.54,787.418 \n",
       "  1677.65,828.561 1698.77,828.561 1719.89,746.274 1741,951.992 1762.12,1034.28 1783.24,746.274 1804.35,581.7 1825.47,910.849 1846.59,869.705 1867.7,910.849 \n",
       "  1888.82,951.992 1909.94,746.274 1931.05,869.705 1952.17,746.274 1973.29,705.131 1994.4,622.843 2015.52,458.269 2036.64,458.269 2057.75,828.561 2078.87,499.412 \n",
       "  2099.99,375.982 2121.1,540.556 2142.22,458.269 2163.34,746.274 2184.46,458.269 2205.57,211.407 2226.69,540.556 2247.81,417.125 2268.92,375.982 2290.04,417.125 \n",
       "  \n",
       "  \"/>\n",
       "<polyline clip-path=\"url(#clip922)\" style=\"stroke:#3da44d; stroke-width:4; stroke-opacity:1; fill:none\" points=\"\n",
       "  199.477,87.9763 220.594,540.556 241.711,663.987 262.828,622.843 283.944,705.131 305.061,540.556 326.178,458.269 347.295,417.125 368.412,417.125 389.528,622.843 \n",
       "  410.645,828.561 431.762,1116.57 452.879,1075.42 473.995,1240 495.112,1363.43 516.229,1281.14 537.346,1281.14 558.463,1198.85 579.579,1198.85 600.696,1240 \n",
       "  621.813,1240 642.93,1157.71 664.047,1034.28 685.163,1157.71 706.28,1322.28 727.397,1404.57 748.514,1363.43 769.63,1198.85 790.747,1281.14 811.864,1363.43 \n",
       "  832.981,1322.28 854.098,1363.43 875.214,1445.72 896.331,1445.72 917.448,1445.72 938.565,1445.72 959.682,1404.57 980.798,1445.72 1001.92,1445.72 1023.03,1445.72 \n",
       "  1044.15,1404.57 1065.27,1404.57 1086.38,1363.43 1107.5,1445.72 1128.62,1445.72 1149.73,1445.72 1170.85,1404.57 1191.97,1445.72 1213.08,1363.43 1234.2,1363.43 \n",
       "  1255.32,1281.14 1276.43,1445.72 1297.55,1363.43 1318.67,1404.57 1339.78,1404.57 1360.9,1445.72 1382.02,1445.72 1403.13,1445.72 1424.25,1445.72 1445.37,1445.72 \n",
       "  1466.48,1445.72 1487.6,1445.72 1508.72,1445.72 1529.83,1445.72 1550.95,1404.57 1572.07,1322.28 1593.19,1198.85 1614.3,1281.14 1635.42,1445.72 1656.54,1445.72 \n",
       "  1677.65,1445.72 1698.77,1445.72 1719.89,1445.72 1741,1445.72 1762.12,1445.72 1783.24,1445.72 1804.35,1445.72 1825.47,1445.72 1846.59,1445.72 1867.7,1445.72 \n",
       "  1888.82,1445.72 1909.94,1445.72 1931.05,1445.72 1952.17,1445.72 1973.29,1445.72 1994.4,1445.72 2015.52,1445.72 2036.64,1445.72 2057.75,1445.72 2078.87,1445.72 \n",
       "  2099.99,1445.72 2121.1,1445.72 2142.22,1445.72 2163.34,1445.72 2184.46,1445.72 2205.57,1445.72 2226.69,1445.72 2247.81,1445.72 2268.92,1445.72 2290.04,1445.72 \n",
       "  \n",
       "  \"/>\n",
       "<polyline clip-path=\"url(#clip922)\" style=\"stroke:#c271d2; stroke-width:4; stroke-opacity:1; fill:none\" points=\"\n",
       "  199.477,993.136 220.594,1116.57 241.711,993.136 262.828,910.849 283.944,1034.28 305.061,1240 326.178,1198.85 347.295,1034.28 368.412,1198.85 389.528,1157.71 \n",
       "  410.645,1157.71 431.762,1322.28 452.879,1281.14 473.995,1281.14 495.112,1322.28 516.229,1445.72 537.346,1445.72 558.463,1404.57 579.579,1404.57 600.696,1404.57 \n",
       "  621.813,1363.43 642.93,1281.14 664.047,1363.43 685.163,1322.28 706.28,1034.28 727.397,910.849 748.514,910.849 769.63,1157.71 790.747,1281.14 811.864,1157.71 \n",
       "  832.981,1363.43 854.098,1322.28 875.214,1240 896.331,1240 917.448,1281.14 938.565,1281.14 959.682,1198.85 980.798,1116.57 1001.92,1281.14 1023.03,1281.14 \n",
       "  1044.15,1240 1065.27,1240 1086.38,1157.71 1107.5,1198.85 1128.62,1240 1149.73,1240 1170.85,1198.85 1191.97,1240 1213.08,1281.14 1234.2,1240 \n",
       "  1255.32,1116.57 1276.43,1075.42 1297.55,1198.85 1318.67,1322.28 1339.78,1363.43 1360.9,1363.43 1382.02,1322.28 1403.13,1281.14 1424.25,1198.85 1445.37,1198.85 \n",
       "  1466.48,1281.14 1487.6,1198.85 1508.72,1157.71 1529.83,1157.71 1550.95,1116.57 1572.07,910.849 1593.19,1116.57 1614.3,951.992 1635.42,787.418 1656.54,746.274 \n",
       "  1677.65,705.131 1698.77,869.705 1719.89,869.705 1741,787.418 1762.12,787.418 1783.24,1034.28 1804.35,869.705 1825.47,910.849 1846.59,869.705 1867.7,828.561 \n",
       "  1888.82,705.131 1909.94,1034.28 1931.05,993.136 1952.17,1034.28 1973.29,951.992 1994.4,910.849 2015.52,1116.57 2036.64,1034.28 2057.75,1034.28 2078.87,1363.43 \n",
       "  2099.99,1322.28 2121.1,1281.14 2142.22,1404.57 2163.34,1404.57 2184.46,1404.57 2205.57,1363.43 2226.69,1363.43 2247.81,1363.43 2268.92,1322.28 2290.04,1322.28 \n",
       "  \n",
       "  \"/>\n",
       "<path clip-path=\"url(#clip920)\" d=\"\n",
       "M1694.41 397.618 L2278.89 397.618 L2278.89 95.2176 L1694.41 95.2176  Z\n",
       "  \" fill=\"#ffffff\" fill-rule=\"evenodd\" fill-opacity=\"1\"/>\n",
       "<polyline clip-path=\"url(#clip920)\" style=\"stroke:#000000; stroke-width:4; stroke-opacity:1; fill:none\" points=\"\n",
       "  1694.41,397.618 2278.89,397.618 2278.89,95.2176 1694.41,95.2176 1694.41,397.618 \n",
       "  \"/>\n",
       "<polyline clip-path=\"url(#clip920)\" style=\"stroke:#009af9; stroke-width:4; stroke-opacity:1; fill:none\" points=\"\n",
       "  1719.03,155.698 1866.76,155.698 \n",
       "  \"/>\n",
       "<path clip-path=\"url(#clip920)\" d=\"M 0 0 M1910.29 159.714 Q1910.29 155.084 1908.37 152.538 Q1906.48 149.992 1903.03 149.992 Q1899.6 149.992 1897.68 152.538 Q1895.78 155.084 1895.78 159.714 Q1895.78 164.32 1897.68 166.866 Q1899.6 169.413 1903.03 169.413 Q1906.48 169.413 1908.37 166.866 Q1910.29 164.32 1910.29 159.714 M1914.55 169.76 Q1914.55 176.38 1911.61 179.598 Q1908.67 182.839 1902.61 182.839 Q1900.36 182.839 1898.37 182.491 Q1896.38 182.167 1894.51 181.473 L1894.51 177.329 Q1896.38 178.348 1898.21 178.834 Q1900.04 179.32 1901.94 179.32 Q1906.13 179.32 1908.21 177.121 Q1910.29 174.945 1910.29 170.524 L1910.29 168.417 Q1908.98 170.709 1906.92 171.843 Q1904.86 172.978 1901.98 172.978 Q1897.22 172.978 1894.3 169.343 Q1891.38 165.709 1891.38 159.714 Q1891.38 153.695 1894.3 150.061 Q1897.22 146.427 1901.98 146.427 Q1904.86 146.427 1906.92 147.561 Q1908.98 148.695 1910.29 150.987 L1910.29 147.052 L1914.55 147.052 L1914.55 169.76 Z\" fill=\"#000000\" fill-rule=\"evenodd\" fill-opacity=\"1\" /><path clip-path=\"url(#clip920)\" d=\"M 0 0 M1929.07 150.038 Q1925.64 150.038 1923.65 152.723 Q1921.66 155.385 1921.66 160.038 Q1921.66 164.691 1923.63 167.376 Q1925.62 170.038 1929.07 170.038 Q1932.47 170.038 1934.46 167.353 Q1936.45 164.667 1936.45 160.038 Q1936.45 155.431 1934.46 152.746 Q1932.47 150.038 1929.07 150.038 M1929.07 146.427 Q1934.62 146.427 1937.79 150.038 Q1940.97 153.649 1940.97 160.038 Q1940.97 166.404 1937.79 170.038 Q1934.62 173.649 1929.07 173.649 Q1923.49 173.649 1920.32 170.038 Q1917.17 166.404 1917.17 160.038 Q1917.17 153.649 1920.32 150.038 Q1923.49 146.427 1929.07 146.427 Z\" fill=\"#000000\" fill-rule=\"evenodd\" fill-opacity=\"1\" /><path clip-path=\"url(#clip920)\" d=\"M 0 0 M1945.57 136.959 L1949.83 136.959 L1949.83 150.894 L1952.73 148.811 L1954.48 151.265 L1949.83 154.529 L1949.83 172.978 L1945.57 172.978 L1945.57 157.561 L1942.73 159.598 L1941.01 157.144 L1945.57 153.88 L1945.57 136.959 Z\" fill=\"#000000\" fill-rule=\"evenodd\" fill-opacity=\"1\" /><path clip-path=\"url(#clip920)\" d=\"M 0 0 M1981.13 158.95 L1981.13 161.033 L1961.54 161.033 Q1961.82 165.431 1964.18 167.746 Q1966.57 170.038 1970.8 170.038 Q1973.26 170.038 1975.55 169.436 Q1977.86 168.834 1980.13 167.63 L1980.13 171.658 Q1977.84 172.63 1975.43 173.14 Q1973.03 173.649 1970.55 173.649 Q1964.35 173.649 1960.71 170.038 Q1957.1 166.427 1957.1 160.269 Q1957.1 153.904 1960.53 150.177 Q1963.98 146.427 1969.81 146.427 Q1975.04 146.427 1978.07 149.806 Q1981.13 153.163 1981.13 158.95 M1976.87 157.7 Q1976.82 154.205 1974.9 152.121 Q1973 150.038 1969.85 150.038 Q1966.29 150.038 1964.14 152.052 Q1962.01 154.066 1961.68 157.723 L1976.87 157.7 M1973.37 172.978 L1976.13 172.978 Q1975.09 174.39 1974.58 175.408 Q1974.09 176.427 1974.09 177.144 Q1974.09 178.209 1974.72 178.741 Q1975.36 179.274 1976.61 179.274 Q1977.35 179.274 1978.07 179.089 Q1978.79 178.927 1979.51 178.579 L1979.51 181.658 Q1978.63 181.89 1977.84 182.005 Q1977.05 182.121 1976.36 182.121 Q1973.54 182.121 1972.19 181.103 Q1970.87 180.107 1970.87 177.954 Q1970.87 176.843 1971.48 175.616 Q1972.1 174.413 1973.37 172.978 Z\" fill=\"#000000\" fill-rule=\"evenodd\" fill-opacity=\"1\" /><path clip-path=\"url(#clip920)\" d=\"M 0 0 M2004.21 160.038 Q2004.21 155.339 2002.26 152.677 Q2000.34 149.992 1996.96 149.992 Q1993.58 149.992 1991.64 152.677 Q1989.72 155.339 1989.72 160.038 Q1989.72 164.737 1991.64 167.422 Q1993.58 170.084 1996.96 170.084 Q2000.34 170.084 2002.26 167.422 Q2004.21 164.737 2004.21 160.038 M1989.72 150.987 Q1991.06 148.672 1993.1 147.561 Q1995.16 146.427 1998 146.427 Q2002.72 146.427 2005.66 150.177 Q2008.63 153.927 2008.63 160.038 Q2008.63 166.149 2005.66 169.899 Q2002.72 173.649 1998 173.649 Q1995.16 173.649 1993.1 172.538 Q1991.06 171.403 1989.72 169.089 L1989.72 172.978 L1985.43 172.978 L1985.43 136.959 L1989.72 136.959 L1989.72 150.987 Z\" fill=\"#000000\" fill-rule=\"evenodd\" fill-opacity=\"1\" /><path clip-path=\"url(#clip920)\" d=\"M 0 0 M2013.1 147.052 L2017.35 147.052 L2017.35 172.978 L2013.1 172.978 L2013.1 147.052 M2013.1 136.959 L2017.35 136.959 L2017.35 142.353 L2013.1 142.353 L2013.1 136.959 Z\" fill=\"#000000\" fill-rule=\"evenodd\" fill-opacity=\"1\" /><path clip-path=\"url(#clip920)\" d=\"M 0 0 M2044 158.95 L2044 161.033 L2024.41 161.033 Q2024.69 165.431 2027.05 167.746 Q2029.44 170.038 2033.67 170.038 Q2036.13 170.038 2038.42 169.436 Q2040.73 168.834 2043 167.63 L2043 171.658 Q2040.71 172.63 2038.3 173.14 Q2035.9 173.649 2033.42 173.649 Q2027.22 173.649 2023.58 170.038 Q2019.97 166.427 2019.97 160.269 Q2019.97 153.904 2023.4 150.177 Q2026.85 146.427 2032.68 146.427 Q2037.91 146.427 2040.94 149.806 Q2044 153.163 2044 158.95 M2039.74 157.7 Q2039.69 154.205 2037.77 152.121 Q2035.87 150.038 2032.72 150.038 Q2029.16 150.038 2027.01 152.052 Q2024.88 154.066 2024.55 157.723 L2039.74 157.7 Z\" fill=\"#000000\" fill-rule=\"evenodd\" fill-opacity=\"1\" /><polyline clip-path=\"url(#clip920)\" style=\"stroke:#e26f46; stroke-width:4; stroke-opacity:1; fill:none\" points=\"\n",
       "  1719.03,216.178 1866.76,216.178 \n",
       "  \"/>\n",
       "<path clip-path=\"url(#clip920)\" d=\"M 0 0 M1896.71 207.532 L1900.97 207.532 L1900.97 233.921 Q1900.97 238.874 1899.07 241.096 Q1897.19 243.319 1893 243.319 L1891.38 243.319 L1891.38 239.708 L1892.52 239.708 Q1894.95 239.708 1895.83 238.573 Q1896.71 237.462 1896.71 233.921 L1896.71 207.532 M1896.71 197.439 L1900.97 197.439 L1900.97 202.833 L1896.71 202.833 L1896.71 197.439 Z\" fill=\"#000000\" fill-rule=\"evenodd\" fill-opacity=\"1\" /><path clip-path=\"url(#clip920)\" d=\"M 0 0 M1917.22 220.425 Q1912.05 220.425 1910.06 221.606 Q1908.07 222.786 1908.07 225.634 Q1908.07 227.902 1909.55 229.245 Q1911.06 230.564 1913.63 230.564 Q1917.17 230.564 1919.3 228.064 Q1921.45 225.541 1921.45 221.374 L1921.45 220.425 L1917.22 220.425 M1925.71 218.666 L1925.71 233.458 L1921.45 233.458 L1921.45 229.522 Q1919.99 231.883 1917.82 233.018 Q1915.64 234.129 1912.49 234.129 Q1908.51 234.129 1906.15 231.907 Q1903.81 229.661 1903.81 225.911 Q1903.81 221.536 1906.73 219.314 Q1909.67 217.092 1915.48 217.092 L1921.45 217.092 L1921.45 216.675 Q1921.45 213.735 1919.51 212.138 Q1917.59 210.518 1914.09 210.518 Q1911.87 210.518 1909.76 211.05 Q1907.66 211.583 1905.71 212.647 L1905.71 208.712 Q1908.05 207.81 1910.25 207.37 Q1912.45 206.907 1914.53 206.907 Q1920.16 206.907 1922.93 209.823 Q1925.71 212.74 1925.71 218.666 Z\" fill=\"#000000\" fill-rule=\"evenodd\" fill-opacity=\"1\" /><path clip-path=\"url(#clip920)\" d=\"M 0 0 M1946.71 208.296 L1946.71 212.323 Q1944.9 211.397 1942.96 210.935 Q1941.01 210.472 1938.93 210.472 Q1935.76 210.472 1934.16 211.444 Q1932.59 212.416 1932.59 214.36 Q1932.59 215.842 1933.72 216.698 Q1934.85 217.532 1938.28 218.296 L1939.74 218.62 Q1944.28 219.592 1946.17 221.374 Q1948.1 223.134 1948.1 226.305 Q1948.1 229.916 1945.23 232.022 Q1942.38 234.129 1937.38 234.129 Q1935.29 234.129 1933.03 233.712 Q1930.78 233.319 1928.28 232.508 L1928.28 228.11 Q1930.64 229.337 1932.93 229.962 Q1935.23 230.564 1937.47 230.564 Q1940.48 230.564 1942.1 229.546 Q1943.72 228.504 1943.72 226.629 Q1943.72 224.893 1942.54 223.967 Q1941.38 223.041 1937.42 222.184 L1935.94 221.837 Q1931.98 221.004 1930.23 219.291 Q1928.47 217.555 1928.47 214.546 Q1928.47 210.888 1931.06 208.898 Q1933.65 206.907 1938.42 206.907 Q1940.78 206.907 1942.86 207.254 Q1944.95 207.601 1946.71 208.296 Z\" fill=\"#000000\" fill-rule=\"evenodd\" fill-opacity=\"1\" /><path clip-path=\"url(#clip920)\" d=\"M 0 0 M1956.78 200.171 L1956.78 207.532 L1965.55 207.532 L1965.55 210.842 L1956.78 210.842 L1956.78 224.916 Q1956.78 228.087 1957.63 228.99 Q1958.51 229.893 1961.17 229.893 L1965.55 229.893 L1965.55 233.458 L1961.17 233.458 Q1956.24 233.458 1954.37 231.629 Q1952.49 229.777 1952.49 224.916 L1952.49 210.842 L1949.37 210.842 L1949.37 207.532 L1952.49 207.532 L1952.49 200.171 L1956.78 200.171 Z\" fill=\"#000000\" fill-rule=\"evenodd\" fill-opacity=\"1\" /><path clip-path=\"url(#clip920)\" d=\"M 0 0 M1985.04 211.513 Q1984.32 211.097 1983.47 210.911 Q1982.63 210.703 1981.61 210.703 Q1978 210.703 1976.06 213.064 Q1974.14 215.402 1974.14 219.8 L1974.14 233.458 L1969.85 233.458 L1969.85 207.532 L1974.14 207.532 L1974.14 211.56 Q1975.48 209.198 1977.63 208.064 Q1979.79 206.907 1982.86 206.907 Q1983.3 206.907 1983.84 206.976 Q1984.37 207.023 1985.02 207.138 L1985.04 211.513 Z\" fill=\"#000000\" fill-rule=\"evenodd\" fill-opacity=\"1\" /><path clip-path=\"url(#clip920)\" d=\"M 0 0 M1987.66 207.532 L2007.89 207.532 L2007.89 211.421 L1991.87 230.055 L2007.89 230.055 L2007.89 233.458 L1987.08 233.458 L1987.08 229.569 L2003.1 210.935 L1987.66 210.935 L1987.66 207.532 Z\" fill=\"#000000\" fill-rule=\"evenodd\" fill-opacity=\"1\" /><path clip-path=\"url(#clip920)\" d=\"M 0 0 M2034.53 219.43 L2034.53 221.513 L2014.95 221.513 Q2015.22 225.911 2017.59 228.226 Q2019.97 230.518 2024.21 230.518 Q2026.66 230.518 2028.95 229.916 Q2031.27 229.314 2033.53 228.11 L2033.53 232.138 Q2031.24 233.11 2028.84 233.62 Q2026.43 234.129 2023.95 234.129 Q2017.75 234.129 2014.11 230.518 Q2010.5 226.907 2010.5 220.749 Q2010.5 214.384 2013.93 210.657 Q2017.38 206.907 2023.21 206.907 Q2028.44 206.907 2031.47 210.286 Q2034.53 213.643 2034.53 219.43 M2030.27 218.18 Q2030.22 214.685 2028.3 212.601 Q2026.41 210.518 2023.26 210.518 Q2019.69 210.518 2017.54 212.532 Q2015.41 214.546 2015.09 218.203 L2030.27 218.18 M2026.78 233.458 L2029.53 233.458 Q2028.49 234.87 2027.98 235.888 Q2027.49 236.907 2027.49 237.624 Q2027.49 238.689 2028.12 239.221 Q2028.77 239.754 2030.02 239.754 Q2030.76 239.754 2031.47 239.569 Q2032.19 239.407 2032.91 239.059 L2032.91 242.138 Q2032.03 242.37 2031.24 242.485 Q2030.46 242.601 2029.76 242.601 Q2026.94 242.601 2025.6 241.583 Q2024.28 240.587 2024.28 238.434 Q2024.28 237.323 2024.88 236.096 Q2025.5 234.893 2026.78 233.458 Z\" fill=\"#000000\" fill-rule=\"evenodd\" fill-opacity=\"1\" /><path clip-path=\"url(#clip920)\" d=\"M 0 0 M2057.61 220.518 Q2057.61 215.819 2055.66 213.157 Q2053.74 210.472 2050.36 210.472 Q2046.98 210.472 2045.04 213.157 Q2043.12 215.819 2043.12 220.518 Q2043.12 225.217 2045.04 227.902 Q2046.98 230.564 2050.36 230.564 Q2053.74 230.564 2055.66 227.902 Q2057.61 225.217 2057.61 220.518 M2043.12 211.467 Q2044.46 209.152 2046.5 208.041 Q2048.56 206.907 2051.41 206.907 Q2056.13 206.907 2059.07 210.657 Q2062.03 214.407 2062.03 220.518 Q2062.03 226.629 2059.07 230.379 Q2056.13 234.129 2051.41 234.129 Q2048.56 234.129 2046.5 233.018 Q2044.46 231.883 2043.12 229.569 L2043.12 233.458 L2038.84 233.458 L2038.84 197.439 L2043.12 197.439 L2043.12 211.467 Z\" fill=\"#000000\" fill-rule=\"evenodd\" fill-opacity=\"1\" /><path clip-path=\"url(#clip920)\" d=\"M 0 0 M2066.5 207.532 L2070.76 207.532 L2070.76 233.458 L2066.5 233.458 L2066.5 207.532 M2066.5 197.439 L2070.76 197.439 L2070.76 202.833 L2066.5 202.833 L2066.5 197.439 Z\" fill=\"#000000\" fill-rule=\"evenodd\" fill-opacity=\"1\" /><path clip-path=\"url(#clip920)\" d=\"M 0 0 M2097.4 219.43 L2097.4 221.513 L2077.82 221.513 Q2078.09 225.911 2080.46 228.226 Q2082.84 230.518 2087.08 230.518 Q2089.53 230.518 2091.82 229.916 Q2094.14 229.314 2096.41 228.11 L2096.41 232.138 Q2094.11 233.11 2091.71 233.62 Q2089.3 234.129 2086.82 234.129 Q2080.62 234.129 2076.98 230.518 Q2073.37 226.907 2073.37 220.749 Q2073.37 214.384 2076.8 210.657 Q2080.25 206.907 2086.08 206.907 Q2091.31 206.907 2094.34 210.286 Q2097.4 213.643 2097.4 219.43 M2093.14 218.18 Q2093.09 214.685 2091.17 212.601 Q2089.28 210.518 2086.13 210.518 Q2082.56 210.518 2080.41 212.532 Q2078.28 214.546 2077.96 218.203 L2093.14 218.18 Z\" fill=\"#000000\" fill-rule=\"evenodd\" fill-opacity=\"1\" /><polyline clip-path=\"url(#clip920)\" style=\"stroke:#3da44d; stroke-width:4; stroke-opacity:1; fill:none\" points=\"\n",
       "  1719.03,276.658 1866.76,276.658 \n",
       "  \"/>\n",
       "<path clip-path=\"url(#clip920)\" d=\"M 0 0 M1911.89 269.007 L1911.89 272.989 Q1910.09 271.993 1908.26 271.507 Q1906.45 270.998 1904.6 270.998 Q1900.46 270.998 1898.17 273.637 Q1895.87 276.252 1895.87 280.998 Q1895.87 285.743 1898.17 288.382 Q1900.46 290.998 1904.6 290.998 Q1906.45 290.998 1908.26 290.512 Q1910.09 290.002 1911.89 289.007 L1911.89 292.942 Q1910.11 293.776 1908.19 294.192 Q1906.29 294.609 1904.14 294.609 Q1898.28 294.609 1894.83 290.928 Q1891.38 287.248 1891.38 280.998 Q1891.38 274.655 1894.86 271.021 Q1898.35 267.387 1904.42 267.387 Q1906.38 267.387 1908.26 267.803 Q1910.13 268.197 1911.89 269.007 Z\" fill=\"#000000\" fill-rule=\"evenodd\" fill-opacity=\"1\" /><path clip-path=\"url(#clip920)\" d=\"M 0 0 M1937.91 278.289 L1937.91 293.938 L1933.65 293.938 L1933.65 278.428 Q1933.65 274.748 1932.22 272.919 Q1930.78 271.09 1927.91 271.09 Q1924.46 271.09 1922.47 273.29 Q1920.48 275.489 1920.48 279.285 L1920.48 293.938 L1916.2 293.938 L1916.2 257.919 L1920.48 257.919 L1920.48 272.04 Q1922.01 269.702 1924.07 268.544 Q1926.15 267.387 1928.86 267.387 Q1933.33 267.387 1935.62 270.165 Q1937.91 272.919 1937.91 278.289 Z\" fill=\"#000000\" fill-rule=\"evenodd\" fill-opacity=\"1\" /><path clip-path=\"url(#clip920)\" d=\"M 0 0 M1952.42 270.998 Q1949 270.998 1947.01 273.683 Q1945.02 276.345 1945.02 280.998 Q1945.02 285.651 1946.98 288.336 Q1948.98 290.998 1952.42 290.998 Q1955.83 290.998 1957.82 288.313 Q1959.81 285.627 1959.81 280.998 Q1959.81 276.391 1957.82 273.706 Q1955.83 270.998 1952.42 270.998 M1952.42 267.387 Q1957.98 267.387 1961.15 270.998 Q1964.32 274.609 1964.32 280.998 Q1964.32 287.364 1961.15 290.998 Q1957.98 294.609 1952.42 294.609 Q1946.85 294.609 1943.67 290.998 Q1940.53 287.364 1940.53 280.998 Q1940.53 274.609 1943.67 270.998 Q1946.85 267.387 1952.42 267.387 Z\" fill=\"#000000\" fill-rule=\"evenodd\" fill-opacity=\"1\" /><path clip-path=\"url(#clip920)\" d=\"M 0 0 M1983.81 271.993 Q1983.1 271.577 1982.24 271.391 Q1981.41 271.183 1980.39 271.183 Q1976.78 271.183 1974.83 273.544 Q1972.91 275.882 1972.91 280.28 L1972.91 293.938 L1968.63 293.938 L1968.63 268.012 L1972.91 268.012 L1972.91 272.04 Q1974.25 269.678 1976.41 268.544 Q1978.56 267.387 1981.64 267.387 Q1982.08 267.387 1982.61 267.456 Q1983.14 267.503 1983.79 267.618 L1983.81 271.993 Z\" fill=\"#000000\" fill-rule=\"evenodd\" fill-opacity=\"1\" /><path clip-path=\"url(#clip920)\" d=\"M 0 0 M2009.41 279.91 L2009.41 281.993 L1989.83 281.993 Q1990.11 286.391 1992.47 288.706 Q1994.85 290.998 1999.09 290.998 Q2001.54 290.998 2003.84 290.396 Q2006.15 289.794 2008.42 288.59 L2008.42 292.618 Q2006.13 293.59 2003.72 294.1 Q2001.31 294.609 1998.84 294.609 Q1992.63 294.609 1989 290.998 Q1985.39 287.387 1985.39 281.229 Q1985.39 274.864 1988.81 271.137 Q1992.26 267.387 1998.1 267.387 Q2003.33 267.387 2006.36 270.766 Q2009.41 274.123 2009.41 279.91 M2005.16 278.66 Q2005.11 275.165 2003.19 273.081 Q2001.29 270.998 1998.14 270.998 Q1994.58 270.998 1992.42 273.012 Q1990.29 275.026 1989.97 278.683 L2005.16 278.66 Z\" fill=\"#000000\" fill-rule=\"evenodd\" fill-opacity=\"1\" /><path clip-path=\"url(#clip920)\" d=\"M 0 0 M2046.01 280.674 Q2046.01 276.044 2044.09 273.498 Q2042.19 270.952 2038.74 270.952 Q2035.32 270.952 2033.4 273.498 Q2031.5 276.044 2031.5 280.674 Q2031.5 285.28 2033.4 287.826 Q2035.32 290.373 2038.74 290.373 Q2042.19 290.373 2044.09 287.826 Q2046.01 285.28 2046.01 280.674 M2050.27 290.72 Q2050.27 297.34 2047.33 300.558 Q2044.39 303.799 2038.33 303.799 Q2036.08 303.799 2034.09 303.451 Q2032.1 303.127 2030.22 302.433 L2030.22 298.289 Q2032.1 299.308 2033.93 299.794 Q2035.76 300.28 2037.66 300.28 Q2041.85 300.28 2043.93 298.081 Q2046.01 295.905 2046.01 291.484 L2046.01 289.377 Q2044.69 291.669 2042.63 292.803 Q2040.57 293.938 2037.7 293.938 Q2032.93 293.938 2030.02 290.303 Q2027.1 286.669 2027.1 280.674 Q2027.1 274.655 2030.02 271.021 Q2032.93 267.387 2037.7 267.387 Q2040.57 267.387 2042.63 268.521 Q2044.69 269.655 2046.01 271.947 L2046.01 268.012 L2050.27 268.012 L2050.27 290.72 Z\" fill=\"#000000\" fill-rule=\"evenodd\" fill-opacity=\"1\" /><path clip-path=\"url(#clip920)\" d=\"M 0 0 M2064.78 270.998 Q2061.36 270.998 2059.37 273.683 Q2057.38 276.345 2057.38 280.998 Q2057.38 285.651 2059.35 288.336 Q2061.34 290.998 2064.78 290.998 Q2068.19 290.998 2070.18 288.313 Q2072.17 285.627 2072.17 280.998 Q2072.17 276.391 2070.18 273.706 Q2068.19 270.998 2064.78 270.998 M2064.78 267.387 Q2070.34 267.387 2073.51 270.998 Q2076.68 274.609 2076.68 280.998 Q2076.68 287.364 2073.51 290.998 Q2070.34 294.609 2064.78 294.609 Q2059.21 294.609 2056.03 290.998 Q2052.89 287.364 2052.89 280.998 Q2052.89 274.609 2056.03 270.998 Q2059.21 267.387 2064.78 267.387 Z\" fill=\"#000000\" fill-rule=\"evenodd\" fill-opacity=\"1\" /><path clip-path=\"url(#clip920)\" d=\"M 0 0 M2081.29 257.919 L2085.55 257.919 L2085.55 271.854 L2088.44 269.771 L2090.2 272.225 L2085.55 275.489 L2085.55 293.938 L2081.29 293.938 L2081.29 278.521 L2078.44 280.558 L2076.73 278.104 L2081.29 274.84 L2081.29 257.919 Z\" fill=\"#000000\" fill-rule=\"evenodd\" fill-opacity=\"1\" /><path clip-path=\"url(#clip920)\" d=\"M 0 0 M2116.84 279.91 L2116.84 281.993 L2097.26 281.993 Q2097.54 286.391 2099.9 288.706 Q2102.28 290.998 2106.52 290.998 Q2108.97 290.998 2111.27 290.396 Q2113.58 289.794 2115.85 288.59 L2115.85 292.618 Q2113.56 293.59 2111.15 294.1 Q2108.74 294.609 2106.27 294.609 Q2100.06 294.609 2096.43 290.998 Q2092.82 287.387 2092.82 281.229 Q2092.82 274.864 2096.24 271.137 Q2099.69 267.387 2105.53 267.387 Q2110.76 267.387 2113.79 270.766 Q2116.84 274.123 2116.84 279.91 M2112.59 278.66 Q2112.54 275.165 2110.62 273.081 Q2108.72 270.998 2105.57 270.998 Q2102.01 270.998 2099.85 273.012 Q2097.72 275.026 2097.4 278.683 L2112.59 278.66 M2109.09 293.938 L2111.84 293.938 Q2110.8 295.35 2110.29 296.368 Q2109.81 297.387 2109.81 298.104 Q2109.81 299.169 2110.43 299.701 Q2111.08 300.234 2112.33 300.234 Q2113.07 300.234 2113.79 300.049 Q2114.51 299.887 2115.22 299.539 L2115.22 302.618 Q2114.34 302.85 2113.56 302.965 Q2112.77 303.081 2112.08 303.081 Q2109.25 303.081 2107.91 302.063 Q2106.59 301.067 2106.59 298.914 Q2106.59 297.803 2107.19 296.576 Q2107.82 295.373 2109.09 293.938 Z\" fill=\"#000000\" fill-rule=\"evenodd\" fill-opacity=\"1\" /><path clip-path=\"url(#clip920)\" d=\"M 0 0 M2139.92 280.998 Q2139.92 276.299 2137.98 273.637 Q2136.06 270.952 2132.68 270.952 Q2129.3 270.952 2127.35 273.637 Q2125.43 276.299 2125.43 280.998 Q2125.43 285.697 2127.35 288.382 Q2129.3 291.044 2132.68 291.044 Q2136.06 291.044 2137.98 288.382 Q2139.92 285.697 2139.92 280.998 M2125.43 271.947 Q2126.78 269.632 2128.81 268.521 Q2130.87 267.387 2133.72 267.387 Q2138.44 267.387 2141.38 271.137 Q2144.34 274.887 2144.34 280.998 Q2144.34 287.109 2141.38 290.859 Q2138.44 294.609 2133.72 294.609 Q2130.87 294.609 2128.81 293.498 Q2126.78 292.363 2125.43 290.049 L2125.43 293.938 L2121.15 293.938 L2121.15 257.919 L2125.43 257.919 L2125.43 271.947 Z\" fill=\"#000000\" fill-rule=\"evenodd\" fill-opacity=\"1\" /><path clip-path=\"url(#clip920)\" d=\"M 0 0 M2148.81 268.012 L2153.07 268.012 L2153.07 293.938 L2148.81 293.938 L2148.81 268.012 M2148.81 257.919 L2153.07 257.919 L2153.07 263.313 L2148.81 263.313 L2148.81 257.919 Z\" fill=\"#000000\" fill-rule=\"evenodd\" fill-opacity=\"1\" /><path clip-path=\"url(#clip920)\" d=\"M 0 0 M2179.71 279.91 L2179.71 281.993 L2160.13 281.993 Q2160.41 286.391 2162.77 288.706 Q2165.15 290.998 2169.39 290.998 Q2171.84 290.998 2174.14 290.396 Q2176.45 289.794 2178.72 288.59 L2178.72 292.618 Q2176.43 293.59 2174.02 294.1 Q2171.61 294.609 2169.14 294.609 Q2162.93 294.609 2159.3 290.998 Q2155.69 287.387 2155.69 281.229 Q2155.69 274.864 2159.11 271.137 Q2162.56 267.387 2168.4 267.387 Q2173.63 267.387 2176.66 270.766 Q2179.71 274.123 2179.71 279.91 M2175.46 278.66 Q2175.41 275.165 2173.49 273.081 Q2171.59 270.998 2168.44 270.998 Q2164.88 270.998 2162.72 273.012 Q2160.59 275.026 2160.27 278.683 L2175.46 278.66 Z\" fill=\"#000000\" fill-rule=\"evenodd\" fill-opacity=\"1\" /><polyline clip-path=\"url(#clip920)\" style=\"stroke:#c271d2; stroke-width:4; stroke-opacity:1; fill:none\" points=\"\n",
       "  1719.03,337.138 1866.76,337.138 \n",
       "  \"/>\n",
       "<path clip-path=\"url(#clip920)\" d=\"M 0 0 M1911.89 329.487 L1911.89 333.469 Q1910.09 332.473 1908.26 331.987 Q1906.45 331.478 1904.6 331.478 Q1900.46 331.478 1898.17 334.117 Q1895.87 336.732 1895.87 341.478 Q1895.87 346.223 1898.17 348.862 Q1900.46 351.478 1904.6 351.478 Q1906.45 351.478 1908.26 350.992 Q1910.09 350.482 1911.89 349.487 L1911.89 353.422 Q1910.11 354.256 1908.19 354.672 Q1906.29 355.089 1904.14 355.089 Q1898.28 355.089 1894.83 351.408 Q1891.38 347.728 1891.38 341.478 Q1891.38 335.135 1894.86 331.501 Q1898.35 327.867 1904.42 327.867 Q1906.38 327.867 1908.26 328.283 Q1910.13 328.677 1911.89 329.487 Z\" fill=\"#000000\" fill-rule=\"evenodd\" fill-opacity=\"1\" /><path clip-path=\"url(#clip920)\" d=\"M 0 0 M1937.91 338.769 L1937.91 354.418 L1933.65 354.418 L1933.65 338.908 Q1933.65 335.228 1932.22 333.399 Q1930.78 331.57 1927.91 331.57 Q1924.46 331.57 1922.47 333.77 Q1920.48 335.969 1920.48 339.765 L1920.48 354.418 L1916.2 354.418 L1916.2 318.399 L1920.48 318.399 L1920.48 332.52 Q1922.01 330.182 1924.07 329.024 Q1926.15 327.867 1928.86 327.867 Q1933.33 327.867 1935.62 330.645 Q1937.91 333.399 1937.91 338.769 Z\" fill=\"#000000\" fill-rule=\"evenodd\" fill-opacity=\"1\" /><path clip-path=\"url(#clip920)\" d=\"M 0 0 M1952.42 331.478 Q1949 331.478 1947.01 334.163 Q1945.02 336.825 1945.02 341.478 Q1945.02 346.131 1946.98 348.816 Q1948.98 351.478 1952.42 351.478 Q1955.83 351.478 1957.82 348.793 Q1959.81 346.107 1959.81 341.478 Q1959.81 336.871 1957.82 334.186 Q1955.83 331.478 1952.42 331.478 M1952.42 327.867 Q1957.98 327.867 1961.15 331.478 Q1964.32 335.089 1964.32 341.478 Q1964.32 347.844 1961.15 351.478 Q1957.98 355.089 1952.42 355.089 Q1946.85 355.089 1943.67 351.478 Q1940.53 347.844 1940.53 341.478 Q1940.53 335.089 1943.67 331.478 Q1946.85 327.867 1952.42 327.867 Z\" fill=\"#000000\" fill-rule=\"evenodd\" fill-opacity=\"1\" /><path clip-path=\"url(#clip920)\" d=\"M 0 0 M1983.81 332.473 Q1983.1 332.057 1982.24 331.871 Q1981.41 331.663 1980.39 331.663 Q1976.78 331.663 1974.83 334.024 Q1972.91 336.362 1972.91 340.76 L1972.91 354.418 L1968.63 354.418 L1968.63 328.492 L1972.91 328.492 L1972.91 332.52 Q1974.25 330.158 1976.41 329.024 Q1978.56 327.867 1981.64 327.867 Q1982.08 327.867 1982.61 327.936 Q1983.14 327.983 1983.79 328.098 L1983.81 332.473 Z\" fill=\"#000000\" fill-rule=\"evenodd\" fill-opacity=\"1\" /><path clip-path=\"url(#clip920)\" d=\"M 0 0 M2009.41 340.39 L2009.41 342.473 L1989.83 342.473 Q1990.11 346.871 1992.47 349.186 Q1994.85 351.478 1999.09 351.478 Q2001.54 351.478 2003.84 350.876 Q2006.15 350.274 2008.42 349.07 L2008.42 353.098 Q2006.13 354.07 2003.72 354.58 Q2001.31 355.089 1998.84 355.089 Q1992.63 355.089 1989 351.478 Q1985.39 347.867 1985.39 341.709 Q1985.39 335.344 1988.81 331.617 Q1992.26 327.867 1998.1 327.867 Q2003.33 327.867 2006.36 331.246 Q2009.41 334.603 2009.41 340.39 M2005.16 339.14 Q2005.11 335.645 2003.19 333.561 Q2001.29 331.478 1998.14 331.478 Q1994.58 331.478 1992.42 333.492 Q1990.29 335.506 1989.97 339.163 L2005.16 339.14 Z\" fill=\"#000000\" fill-rule=\"evenodd\" fill-opacity=\"1\" /><path clip-path=\"url(#clip920)\" d=\"M 0 0 M2028.95 328.492 L2033.21 328.492 L2033.21 354.881 Q2033.21 359.834 2031.31 362.056 Q2029.44 364.279 2025.25 364.279 L2023.63 364.279 L2023.63 360.668 L2024.76 360.668 Q2027.19 360.668 2028.07 359.533 Q2028.95 358.422 2028.95 354.881 L2028.95 328.492 M2028.95 318.399 L2033.21 318.399 L2033.21 323.793 L2028.95 323.793 L2028.95 318.399 Z\" fill=\"#000000\" fill-rule=\"evenodd\" fill-opacity=\"1\" /><path clip-path=\"url(#clip920)\" d=\"M 0 0 M2049.46 341.385 Q2044.3 341.385 2042.31 342.566 Q2040.32 343.746 2040.32 346.594 Q2040.32 348.862 2041.8 350.205 Q2043.3 351.524 2045.87 351.524 Q2049.41 351.524 2051.54 349.024 Q2053.7 346.501 2053.7 342.334 L2053.7 341.385 L2049.46 341.385 M2057.96 339.626 L2057.96 354.418 L2053.7 354.418 L2053.7 350.482 Q2052.24 352.843 2050.06 353.978 Q2047.89 355.089 2044.74 355.089 Q2040.76 355.089 2038.4 352.867 Q2036.06 350.621 2036.06 346.871 Q2036.06 342.496 2038.97 340.274 Q2041.91 338.052 2047.72 338.052 L2053.7 338.052 L2053.7 337.635 Q2053.7 334.695 2051.75 333.098 Q2049.83 331.478 2046.34 331.478 Q2044.11 331.478 2042.01 332.01 Q2039.9 332.543 2037.96 333.607 L2037.96 329.672 Q2040.29 328.77 2042.49 328.33 Q2044.69 327.867 2046.78 327.867 Q2052.4 327.867 2055.18 330.783 Q2057.96 333.7 2057.96 339.626 Z\" fill=\"#000000\" fill-rule=\"evenodd\" fill-opacity=\"1\" /><path clip-path=\"url(#clip920)\" d=\"M 0 0 M2078.95 329.256 L2078.95 333.283 Q2077.15 332.357 2075.2 331.895 Q2073.26 331.432 2071.17 331.432 Q2068 331.432 2066.41 332.404 Q2064.83 333.376 2064.83 335.32 Q2064.83 336.802 2065.97 337.658 Q2067.1 338.492 2070.53 339.256 L2071.98 339.58 Q2076.52 340.552 2078.42 342.334 Q2080.34 344.094 2080.34 347.265 Q2080.34 350.876 2077.47 352.982 Q2074.62 355.089 2069.62 355.089 Q2067.54 355.089 2065.27 354.672 Q2063.03 354.279 2060.53 353.468 L2060.53 349.07 Q2062.89 350.297 2065.18 350.922 Q2067.47 351.524 2069.72 351.524 Q2072.72 351.524 2074.34 350.506 Q2075.97 349.464 2075.97 347.589 Q2075.97 345.853 2074.78 344.927 Q2073.63 344.001 2069.67 343.144 L2068.19 342.797 Q2064.23 341.964 2062.47 340.251 Q2060.71 338.515 2060.71 335.506 Q2060.71 331.848 2063.3 329.858 Q2065.9 327.867 2070.66 327.867 Q2073.03 327.867 2075.11 328.214 Q2077.19 328.561 2078.95 329.256 Z\" fill=\"#000000\" fill-rule=\"evenodd\" fill-opacity=\"1\" /><path clip-path=\"url(#clip920)\" d=\"M 0 0 M2089.02 321.131 L2089.02 328.492 L2097.79 328.492 L2097.79 331.802 L2089.02 331.802 L2089.02 345.876 Q2089.02 349.047 2089.88 349.95 Q2090.76 350.853 2093.42 350.853 L2097.79 350.853 L2097.79 354.418 L2093.42 354.418 Q2088.49 354.418 2086.61 352.589 Q2084.74 350.737 2084.74 345.876 L2084.74 331.802 L2081.61 331.802 L2081.61 328.492 L2084.74 328.492 L2084.74 321.131 L2089.02 321.131 Z\" fill=\"#000000\" fill-rule=\"evenodd\" fill-opacity=\"1\" /><path clip-path=\"url(#clip920)\" d=\"M 0 0 M2117.28 332.473 Q2116.57 332.057 2115.71 331.871 Q2114.88 331.663 2113.86 331.663 Q2110.25 331.663 2108.3 334.024 Q2106.38 336.362 2106.38 340.76 L2106.38 354.418 L2102.1 354.418 L2102.1 328.492 L2106.38 328.492 L2106.38 332.52 Q2107.72 330.158 2109.88 329.024 Q2112.03 327.867 2115.11 327.867 Q2115.55 327.867 2116.08 327.936 Q2116.61 327.983 2117.26 328.098 L2117.28 332.473 Z\" fill=\"#000000\" fill-rule=\"evenodd\" fill-opacity=\"1\" /><path clip-path=\"url(#clip920)\" d=\"M 0 0 M2119.9 328.492 L2140.13 328.492 L2140.13 332.381 L2124.11 351.015 L2140.13 351.015 L2140.13 354.418 L2119.32 354.418 L2119.32 350.529 L2135.34 331.895 L2119.9 331.895 L2119.9 328.492 Z\" fill=\"#000000\" fill-rule=\"evenodd\" fill-opacity=\"1\" /><path clip-path=\"url(#clip920)\" d=\"M 0 0 M2166.78 340.39 L2166.78 342.473 L2147.19 342.473 Q2147.47 346.871 2149.83 349.186 Q2152.21 351.478 2156.45 351.478 Q2158.9 351.478 2161.2 350.876 Q2163.51 350.274 2165.78 349.07 L2165.78 353.098 Q2163.49 354.07 2161.08 354.58 Q2158.67 355.089 2156.2 355.089 Q2149.99 355.089 2146.36 351.478 Q2142.75 347.867 2142.75 341.709 Q2142.75 335.344 2146.17 331.617 Q2149.62 327.867 2155.46 327.867 Q2160.69 327.867 2163.72 331.246 Q2166.78 334.603 2166.78 340.39 M2162.52 339.14 Q2162.47 335.645 2160.55 333.561 Q2158.65 331.478 2155.5 331.478 Q2151.94 331.478 2149.78 333.492 Q2147.65 335.506 2147.33 339.163 L2162.52 339.14 M2159.02 354.418 L2161.78 354.418 Q2160.73 355.83 2160.22 356.848 Q2159.74 357.867 2159.74 358.584 Q2159.74 359.649 2160.36 360.181 Q2161.01 360.714 2162.26 360.714 Q2163 360.714 2163.72 360.529 Q2164.44 360.367 2165.15 360.019 L2165.15 363.098 Q2164.28 363.33 2163.49 363.445 Q2162.7 363.561 2162.01 363.561 Q2159.18 363.561 2157.84 362.543 Q2156.52 361.547 2156.52 359.394 Q2156.52 358.283 2157.12 357.056 Q2157.75 355.853 2159.02 354.418 Z\" fill=\"#000000\" fill-rule=\"evenodd\" fill-opacity=\"1\" /><path clip-path=\"url(#clip920)\" d=\"M 0 0 M2189.85 341.478 Q2189.85 336.779 2187.91 334.117 Q2185.99 331.432 2182.61 331.432 Q2179.23 331.432 2177.28 334.117 Q2175.36 336.779 2175.36 341.478 Q2175.36 346.177 2177.28 348.862 Q2179.23 351.524 2182.61 351.524 Q2185.99 351.524 2187.91 348.862 Q2189.85 346.177 2189.85 341.478 M2175.36 332.427 Q2176.71 330.112 2178.74 329.001 Q2180.8 327.867 2183.65 327.867 Q2188.37 327.867 2191.31 331.617 Q2194.27 335.367 2194.27 341.478 Q2194.27 347.589 2191.31 351.339 Q2188.37 355.089 2183.65 355.089 Q2180.8 355.089 2178.74 353.978 Q2176.71 352.843 2175.36 350.529 L2175.36 354.418 L2171.08 354.418 L2171.08 318.399 L2175.36 318.399 L2175.36 332.427 Z\" fill=\"#000000\" fill-rule=\"evenodd\" fill-opacity=\"1\" /><path clip-path=\"url(#clip920)\" d=\"M 0 0 M2198.74 328.492 L2203 328.492 L2203 354.418 L2198.74 354.418 L2198.74 328.492 M2198.74 318.399 L2203 318.399 L2203 323.793 L2198.74 323.793 L2198.74 318.399 Z\" fill=\"#000000\" fill-rule=\"evenodd\" fill-opacity=\"1\" /><path clip-path=\"url(#clip920)\" d=\"M 0 0 M2229.65 340.39 L2229.65 342.473 L2210.06 342.473 Q2210.34 346.871 2212.7 349.186 Q2215.08 351.478 2219.32 351.478 Q2221.77 351.478 2224.07 350.876 Q2226.38 350.274 2228.65 349.07 L2228.65 353.098 Q2226.36 354.07 2223.95 354.58 Q2221.54 355.089 2219.07 355.089 Q2212.86 355.089 2209.23 351.478 Q2205.62 347.867 2205.62 341.709 Q2205.62 335.344 2209.04 331.617 Q2212.49 327.867 2218.33 327.867 Q2223.56 327.867 2226.59 331.246 Q2229.65 334.603 2229.65 340.39 M2225.39 339.14 Q2225.34 335.645 2223.42 333.561 Q2221.52 331.478 2218.37 331.478 Q2214.81 331.478 2212.65 333.492 Q2210.52 335.506 2210.2 339.163 L2225.39 339.14 Z\" fill=\"#000000\" fill-rule=\"evenodd\" fill-opacity=\"1\" /></svg>\n"
      ]
     },
     "execution_count": 212,
     "metadata": {},
     "output_type": "execute_result"
    }
   ],
   "source": [
    "wykresy_all(9,9,40,20,40,20,100)"
   ]
  },
  {
   "cell_type": "markdown",
   "metadata": {},
   "source": [
    "chyba jakoś działa, ale w sumie to ciężko powiedzieć"
   ]
  },
  {
   "cell_type": "code",
   "execution_count": null,
   "metadata": {},
   "outputs": [],
   "source": []
  },
  {
   "cell_type": "code",
   "execution_count": null,
   "metadata": {},
   "outputs": [],
   "source": []
  },
  {
   "cell_type": "code",
   "execution_count": null,
   "metadata": {},
   "outputs": [],
   "source": []
  }
 ],
 "metadata": {
  "kernelspec": {
   "display_name": "Julia 1.5.3",
   "language": "julia",
   "name": "julia-1.5"
  },
  "language_info": {
   "file_extension": ".jl",
   "mimetype": "application/julia",
   "name": "julia",
   "version": "1.5.3"
  }
 },
 "nbformat": 4,
 "nbformat_minor": 4
}
