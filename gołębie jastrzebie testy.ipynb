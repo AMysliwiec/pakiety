{
 "cells": [
  {
   "cell_type": "code",
   "execution_count": 20,
   "metadata": {},
   "outputs": [],
   "source": [
    "using Plots"
   ]
  },
  {
   "cell_type": "code",
   "execution_count": 2,
   "metadata": {},
   "outputs": [
    {
     "name": "stderr",
     "output_type": "stream",
     "text": [
      "┌ Info: Precompiling WebIO [0f1e0344-ec1d-5b48-a673-e5cf874b6c29]\n",
      "└ @ Base loading.jl:1278\n"
     ]
    },
    {
     "data": {
      "text/html": [
       "<script>\n",
       "// Immediately-invoked-function-expression to avoid global variables.\n",
       "(function() {\n",
       "    var warning_div = document.getElementById(\"webio-warning-10650694900995930129\");\n",
       "    var hide = function () {\n",
       "        var script = document.getElementById(\"webio-setup-9970157513082946534\");\n",
       "        var parent = script && script.parentElement;\n",
       "        var grandparent = parent && parent.parentElement;\n",
       "        if (grandparent) {\n",
       "            grandparent.style.display = \"none\";\n",
       "        }\n",
       "        warning_div.style.display = \"none\";\n",
       "    };\n",
       "    if (typeof Jupyter !== \"undefined\") {\n",
       "        console.log(\"WebIO detected Jupyter notebook environment.\");\n",
       "        // Jupyter notebook.\n",
       "        var extensions = (\n",
       "            Jupyter\n",
       "            && Jupyter.notebook.config.data\n",
       "            && Jupyter.notebook.config.data.load_extensions\n",
       "        );\n",
       "        if (extensions && extensions[\"webio-jupyter-notebook\"]) {\n",
       "            // Extension already loaded.\n",
       "            console.log(\"Jupyter WebIO nbextension detected; not loading ad-hoc.\");\n",
       "            hide();\n",
       "            return;\n",
       "        }\n",
       "    } else if (window.location.pathname.includes(\"/lab\")) {\n",
       "        // Guessing JupyterLa\n",
       "        console.log(\"Jupyter Lab detected; make sure the @webio/jupyter-lab-provider labextension is installed.\");\n",
       "        hide();\n",
       "        return;\n",
       "    }\n",
       "})();\n",
       "\n",
       "</script>\n",
       "<p\n",
       "    id=\"webio-warning-10650694900995930129\"\n",
       "    class=\"output_text output_stderr\"\n",
       "    style=\"padding: 1em; font-weight: bold;\"\n",
       ">\n",
       "    Unable to load WebIO. Please make sure WebIO works for your Jupyter client.\n",
       "    For troubleshooting, please see <a href=\"https://juliagizmos.github.io/WebIO.jl/latest/providers/ijulia/\">\n",
       "    the WebIO/IJulia documentation</a>.\n",
       "    <!-- TODO: link to installation docs. -->\n",
       "</p>\n"
      ],
      "text/plain": [
       "HTML{String}(\"<script>\\n// Immediately-invoked-function-expression to avoid global variables.\\n(function() {\\n    var warning_div = document.getElementById(\\\"webio-warning-10650694900995930129\\\");\\n    var hide = function () {\\n        var script = document.getElementById(\\\"webio-setup-9970157513082946534\\\");\\n        var parent = script && script.parentElement;\\n        var grandparent = parent && parent.parentElement;\\n        if (grandparent) {\\n            grandparent.style.display = \\\"none\\\";\\n        }\\n        warning_div.style.display = \\\"none\\\";\\n    };\\n    if (typeof Jupyter !== \\\"undefined\\\") {\\n        console.log(\\\"WebIO detected Jupyter notebook environment.\\\");\\n        // Jupyter notebook.\\n        var extensions = (\\n            Jupyter\\n            && Jupyter.notebook.config.data\\n            && Jupyter.notebook.config.data.load_extensions\\n        );\\n        if (extensions && extensions[\\\"webio-jupyter-notebook\\\"]) {\\n            // Extension already loaded.\\n            console.log(\\\"Jupyter WebIO nbextension detected; not loading ad-hoc.\\\");\\n            hide();\\n            return;\\n        }\\n    } else if (window.location.pathname.includes(\\\"/lab\\\")) {\\n        // Guessing JupyterLa\\n        console.log(\\\"Jupyter Lab detected; make sure the @webio/jupyter-lab-provider labextension is installed.\\\");\\n        hide();\\n        return;\\n    }\\n})();\\n\\n</script>\\n<p\\n    id=\\\"webio-warning-10650694900995930129\\\"\\n    class=\\\"output_text output_stderr\\\"\\n    style=\\\"padding: 1em; font-weight: bold;\\\"\\n>\\n    Unable to load WebIO. Please make sure WebIO works for your Jupyter client.\\n    For troubleshooting, please see <a href=\\\"https://juliagizmos.github.io/WebIO.jl/latest/providers/ijulia/\\\">\\n    the WebIO/IJulia documentation</a>.\\n    <!-- TODO: link to installation docs. -->\\n</p>\\n\")"
      ]
     },
     "metadata": {},
     "output_type": "display_data"
    }
   ],
   "source": [
    "using WebIO\n"
   ]
  },
  {
   "cell_type": "code",
   "execution_count": 8,
   "metadata": {},
   "outputs": [],
   "source": [
    "import Random"
   ]
  },
  {
   "cell_type": "markdown",
   "metadata": {},
   "source": [
    "### funkcja generująca środowisko z pakietami żywnościowymi"
   ]
  },
  {
   "cell_type": "code",
   "execution_count": 19,
   "metadata": {},
   "outputs": [
    {
     "data": {
      "text/plain": [
       "environment (generic function with 1 method)"
      ]
     },
     "execution_count": 19,
     "metadata": {},
     "output_type": "execute_result"
    }
   ],
   "source": [
    "function environment(n,m)\n",
    "    Environment = zeros(Int64, n, m)\n",
    "    for i in 2:3:n\n",
    "        Environment[i,:] = ones(Int64, 1, m)\n",
    "    end\n",
    "    return Environment\n",
    "end"
   ]
  },
  {
   "cell_type": "code",
   "execution_count": 20,
   "metadata": {},
   "outputs": [
    {
     "data": {
      "text/plain": [
       "20×20 Array{Int64,2}:\n",
       " 0  0  0  0  0  0  0  0  0  0  0  0  0  0  0  0  0  0  0  0\n",
       " 1  1  1  1  1  1  1  1  1  1  1  1  1  1  1  1  1  1  1  1\n",
       " 0  0  0  0  0  0  0  0  0  0  0  0  0  0  0  0  0  0  0  0\n",
       " 0  0  0  0  0  0  0  0  0  0  0  0  0  0  0  0  0  0  0  0\n",
       " 1  1  1  1  1  1  1  1  1  1  1  1  1  1  1  1  1  1  1  1\n",
       " 0  0  0  0  0  0  0  0  0  0  0  0  0  0  0  0  0  0  0  0\n",
       " 0  0  0  0  0  0  0  0  0  0  0  0  0  0  0  0  0  0  0  0\n",
       " 1  1  1  1  1  1  1  1  1  1  1  1  1  1  1  1  1  1  1  1\n",
       " 0  0  0  0  0  0  0  0  0  0  0  0  0  0  0  0  0  0  0  0\n",
       " 0  0  0  0  0  0  0  0  0  0  0  0  0  0  0  0  0  0  0  0\n",
       " 1  1  1  1  1  1  1  1  1  1  1  1  1  1  1  1  1  1  1  1\n",
       " 0  0  0  0  0  0  0  0  0  0  0  0  0  0  0  0  0  0  0  0\n",
       " 0  0  0  0  0  0  0  0  0  0  0  0  0  0  0  0  0  0  0  0\n",
       " 1  1  1  1  1  1  1  1  1  1  1  1  1  1  1  1  1  1  1  1\n",
       " 0  0  0  0  0  0  0  0  0  0  0  0  0  0  0  0  0  0  0  0\n",
       " 0  0  0  0  0  0  0  0  0  0  0  0  0  0  0  0  0  0  0  0\n",
       " 1  1  1  1  1  1  1  1  1  1  1  1  1  1  1  1  1  1  1  1\n",
       " 0  0  0  0  0  0  0  0  0  0  0  0  0  0  0  0  0  0  0  0\n",
       " 0  0  0  0  0  0  0  0  0  0  0  0  0  0  0  0  0  0  0  0\n",
       " 1  1  1  1  1  1  1  1  1  1  1  1  1  1  1  1  1  1  1  1"
      ]
     },
     "execution_count": 20,
     "metadata": {},
     "output_type": "execute_result"
    }
   ],
   "source": [
    "environment(20,20)"
   ]
  },
  {
   "cell_type": "markdown",
   "metadata": {},
   "source": [
    "### funkcja determinująca przeżycie gołębia w trakcie ucieczki od jastrzębia (50% prawdopodobieństwa)"
   ]
  },
  {
   "cell_type": "code",
   "execution_count": 21,
   "metadata": {},
   "outputs": [
    {
     "data": {
      "text/plain": [
       "golab_jastrzab (generic function with 1 method)"
      ]
     },
     "execution_count": 21,
     "metadata": {},
     "output_type": "execute_result"
    }
   ],
   "source": [
    "function golab_jastrzab(n_gol)\n",
    "    if rand(0:1) == 0\n",
    "        n_gol = n_gol - 1\n",
    "    end\n",
    "    return n_gol\n",
    "end"
   ]
  },
  {
   "cell_type": "markdown",
   "metadata": {},
   "source": [
    "### funkcja determinująca stan populacji po wylosowaniu miejsc przy pakietach żywnościowych"
   ]
  },
  {
   "cell_type": "code",
   "execution_count": 22,
   "metadata": {},
   "outputs": [
    {
     "data": {
      "text/plain": [
       "potyczki (generic function with 1 method)"
      ]
     },
     "execution_count": 22,
     "metadata": {},
     "output_type": "execute_result"
    }
   ],
   "source": [
    "#G-3\n",
    "#J-8\n",
    "function potyczki(n,m,macierz, g, ja)\n",
    "    for i in 2:3:n, j in 1:m    \n",
    "        suma = macierz[i-1,j] + macierz[i+1,j]\n",
    "        if suma == 11\n",
    "            g = golab_jastrzab(g)\n",
    "            ja = ja + 1\n",
    "        elseif suma == 6\n",
    "            g = g\n",
    "        elseif suma == 16 \n",
    "            ja = ja - 2\n",
    "        elseif suma == 3\n",
    "            g += 2\n",
    "        elseif suma == 8\n",
    "            j += 2\n",
    "        end \n",
    "    return g,ja\n",
    "    end\n",
    "end"
   ]
  },
  {
   "cell_type": "code",
   "execution_count": 23,
   "metadata": {},
   "outputs": [
    {
     "data": {
      "text/plain": [
       "6×4 Array{Int64,2}:\n",
       " 3  3  8  8\n",
       " 1  1  1  1\n",
       " 3  3  3  8\n",
       " 3  8  8  8\n",
       " 1  1  1  1\n",
       " 3  8  3  8"
      ]
     },
     "execution_count": 23,
     "metadata": {},
     "output_type": "execute_result"
    }
   ],
   "source": [
    "A = [3 3 8 8; 1 1 1 1; 3 3 3 8;\n",
    "3 8 8 8; 1 1 1 1; 3 8 3 8]\n"
   ]
  },
  {
   "cell_type": "code",
   "execution_count": 24,
   "metadata": {},
   "outputs": [
    {
     "data": {
      "text/plain": [
       "(8, 8)"
      ]
     },
     "execution_count": 24,
     "metadata": {},
     "output_type": "execute_result"
    }
   ],
   "source": [
    "potyczki(6,4,A,8,8)\n"
   ]
  },
  {
   "cell_type": "code",
   "execution_count": 25,
   "metadata": {},
   "outputs": [
    {
     "data": {
      "text/plain": [
       "6×5 Array{Int64,2}:\n",
       " 8  8  8  8  3\n",
       " 1  1  1  1  1\n",
       " 3  3  0  8  3\n",
       " 3  3  3  8  8\n",
       " 1  1  1  1  1\n",
       " 8  8  0  3  3"
      ]
     },
     "execution_count": 25,
     "metadata": {},
     "output_type": "execute_result"
    }
   ],
   "source": [
    "B = [8 8 8 8 3;\n",
    "1 1 1 1 1;\n",
    "3 3 0 8 3;\n",
    "3 3 3 8 8;\n",
    "1 1 1 1 1;\n",
    "8 8 0 3 3\n",
    "]\n",
    "#g = 10\n",
    "#j = 11"
   ]
  },
  {
   "cell_type": "code",
   "execution_count": 26,
   "metadata": {},
   "outputs": [
    {
     "data": {
      "text/plain": [
       "(8, 11)"
      ]
     },
     "execution_count": 26,
     "metadata": {},
     "output_type": "execute_result"
    }
   ],
   "source": [
    "potyczki(6,4,B,9,10)"
   ]
  },
  {
   "cell_type": "markdown",
   "metadata": {},
   "source": [
    "### funkcja generująca rozstawienie ptaków w środowisku"
   ]
  },
  {
   "cell_type": "code",
   "execution_count": 27,
   "metadata": {},
   "outputs": [
    {
     "data": {
      "text/plain": [
       "jastrzabki (generic function with 1 method)"
      ]
     },
     "execution_count": 27,
     "metadata": {},
     "output_type": "execute_result"
    }
   ],
   "source": [
    "function golabki(macierz, ngol)\n",
    "    if ngol != 0  \n",
    "        for i in 1:1:ngol\n",
    "            z = findall(x -> x ==0, macierz)\n",
    "            macierz[rand(z)] = 3\n",
    "        end\n",
    "    end\n",
    "end\n",
    "function jastrzabki(macierz, njas)\n",
    "    if njas != 0\n",
    "        for i in 1:1:njas\n",
    "            z = findall(x -> x ==0, macierz)\n",
    "            macierz[rand(z)] = 8\n",
    "        end\n",
    "    end\n",
    "end"
   ]
  },
  {
   "cell_type": "code",
   "execution_count": 28,
   "metadata": {},
   "outputs": [],
   "source": [
    "mac = environment(21,21)\n",
    "golabki(mac, 100)\n",
    "jastrzabki(mac, 100)"
   ]
  },
  {
   "cell_type": "code",
   "execution_count": 29,
   "metadata": {},
   "outputs": [
    {
     "data": {
      "text/plain": [
       "6×6 Array{Int64,2}:\n",
       " 3  3  3  8  8  8\n",
       " 1  1  1  1  1  1\n",
       " 8  8  8  3  3  8\n",
       " 8  3  3  3  3  8\n",
       " 1  1  1  1  1  1\n",
       " 3  3  3  8  3  3"
      ]
     },
     "execution_count": 29,
     "metadata": {},
     "output_type": "execute_result"
    }
   ],
   "source": [
    "test = environment(6,6)\n",
    "golabki(test, 14)\n",
    "jastrzabki(test, 10)\n",
    "test"
   ]
  },
  {
   "cell_type": "code",
   "execution_count": 30,
   "metadata": {},
   "outputs": [
    {
     "data": {
      "text/plain": [
       "21×21 Array{Int64,2}:\n",
       " 0  0  8  8  3  3  0  3  0  0  3  3  8  8  3  8  8  0  8  0  3\n",
       " 1  1  1  1  1  1  1  1  1  1  1  1  1  1  1  1  1  1  1  1  1\n",
       " 0  3  0  0  3  0  3  3  3  0  3  3  3  8  3  0  8  0  0  8  0\n",
       " 3  3  0  0  8  3  8  0  8  3  8  0  8  3  8  8  8  3  3  8  3\n",
       " 1  1  1  1  1  1  1  1  1  1  1  1  1  1  1  1  1  1  1  1  1\n",
       " 3  8  8  0  0  8  0  3  3  8  8  3  8  8  8  0  3  3  0  3  3\n",
       " 0  3  3  0  3  3  0  3  8  3  3  8  0  3  3  8  3  8  8  0  3\n",
       " 1  1  1  1  1  1  1  1  1  1  1  1  1  1  1  1  1  1  1  1  1\n",
       " 8  0  8  3  8  0  0  3  8  8  8  8  0  8  3  0  8  3  3  3  0\n",
       " 3  0  3  8  3  3  0  0  0  3  3  0  8  0  0  0  3  0  0  8  0\n",
       " 1  1  1  1  1  1  1  1  1  1  1  1  1  1  1  1  1  1  1  1  1\n",
       " 3  0  3  8  3  8  8  0  0  8  8  0  0  3  3  3  8  8  3  3  0\n",
       " 3  0  3  8  0  8  3  3  3  0  0  8  0  3  0  3  3  0  8  3  0\n",
       " 1  1  1  1  1  1  1  1  1  1  1  1  1  1  1  1  1  1  1  1  1\n",
       " 0  0  3  0  8  0  3  8  0  0  0  8  0  3  0  8  3  0  3  3  8\n",
       " 3  8  0  0  3  8  8  8  8  8  0  3  8  8  8  0  8  3  8  8  0\n",
       " 1  1  1  1  1  1  1  1  1  1  1  1  1  1  1  1  1  1  1  1  1\n",
       " 8  3  8  3  0  0  0  8  8  0  3  8  8  0  3  8  3  8  8  3  8\n",
       " 3  3  3  8  3  0  8  3  8  8  8  8  3  8  0  3  8  8  8  0  3\n",
       " 1  1  1  1  1  1  1  1  1  1  1  1  1  1  1  1  1  1  1  1  1\n",
       " 8  0  0  0  8  3  8  0  8  3  0  3  8  0  8  0  0  8  8  0  0"
      ]
     },
     "execution_count": 30,
     "metadata": {},
     "output_type": "execute_result"
    }
   ],
   "source": [
    "mac"
   ]
  },
  {
   "cell_type": "code",
   "execution_count": 31,
   "metadata": {},
   "outputs": [
    {
     "data": {
      "text/plain": [
       "(100, 100)"
      ]
     },
     "execution_count": 31,
     "metadata": {},
     "output_type": "execute_result"
    }
   ],
   "source": [
    "potyczki(21,21,mac,100,100)"
   ]
  },
  {
   "cell_type": "code",
   "execution_count": 32,
   "metadata": {},
   "outputs": [],
   "source": [
    "mac = environment(18,18)\n",
    "golabki(mac, 70)\n",
    "jastrzabki(mac, 90)"
   ]
  },
  {
   "cell_type": "code",
   "execution_count": 33,
   "metadata": {},
   "outputs": [
    {
     "data": {
      "text/plain": [
       "18×18 Array{Int64,2}:\n",
       " 0  3  8  0  0  8  3  0  8  8  3  8  8  8  8  3  3  8\n",
       " 1  1  1  1  1  1  1  1  1  1  1  1  1  1  1  1  1  1\n",
       " 8  3  8  3  0  8  3  3  0  3  3  0  0  8  8  0  8  8\n",
       " 8  0  3  8  3  3  0  8  0  8  8  3  8  0  8  8  3  0\n",
       " 1  1  1  1  1  1  1  1  1  1  1  1  1  1  1  1  1  1\n",
       " 3  8  8  0  3  3  8  8  8  8  8  0  3  3  0  0  3  3\n",
       " 8  0  3  3  3  8  3  0  3  0  0  8  8  8  0  8  8  0\n",
       " 1  1  1  1  1  1  1  1  1  1  1  1  1  1  1  1  1  1\n",
       " 3  0  3  0  8  3  8  8  3  3  0  8  0  0  8  8  8  3\n",
       " 8  8  0  3  0  3  8  0  3  8  0  8  0  0  8  8  0  3\n",
       " 1  1  1  1  1  1  1  1  1  1  1  1  1  1  1  1  1  1\n",
       " 8  3  8  8  8  8  0  3  8  8  8  0  8  8  8  0  3  0\n",
       " 8  0  3  3  0  3  3  3  8  3  8  3  3  8  8  8  0  8\n",
       " 1  1  1  1  1  1  1  1  1  1  1  1  1  1  1  1  1  1\n",
       " 3  8  8  3  3  8  8  0  0  8  3  8  8  0  8  0  3  3\n",
       " 8  3  8  8  0  8  3  8  3  0  3  3  0  8  3  0  8  3\n",
       " 1  1  1  1  1  1  1  1  1  1  1  1  1  1  1  1  1  1\n",
       " 3  8  0  0  8  3  8  0  3  0  3  3  3  8  3  8  0  3"
      ]
     },
     "execution_count": 33,
     "metadata": {},
     "output_type": "execute_result"
    }
   ],
   "source": [
    "mac"
   ]
  },
  {
   "cell_type": "code",
   "execution_count": 34,
   "metadata": {
    "scrolled": true
   },
   "outputs": [
    {
     "data": {
      "text/plain": [
       "(70, 90)"
      ]
     },
     "execution_count": 34,
     "metadata": {},
     "output_type": "execute_result"
    }
   ],
   "source": [
    "potyczki(18,18,mac,70,90)"
   ]
  },
  {
   "cell_type": "markdown",
   "metadata": {},
   "source": [
    "### funkcja sprawdzająca nadmiar populacji i ilość ptaków wysłaną na wygnanie/ fight club"
   ]
  },
  {
   "cell_type": "markdown",
   "metadata": {},
   "source": [
    "funkcja/wątek do rozwinięcia"
   ]
  },
  {
   "cell_type": "code",
   "execution_count": 35,
   "metadata": {},
   "outputs": [
    {
     "data": {
      "text/plain": [
       "check (generic function with 1 method)"
      ]
     },
     "execution_count": 35,
     "metadata": {},
     "output_type": "execute_result"
    }
   ],
   "source": [
    "function check(n,m,ng, nja)\n",
    "    if ng + nja > 2*n*m/3\n",
    "        env_ng = Int64(round(ng/(ng+nja) * 2*n*m/3))\n",
    "        env_ja = Int64(round(nja/(ng+nja) * 2*n*m/3))\n",
    "        fight_g = ng - env_ng\n",
    "        fight_ja = nja - env_ja\n",
    "        ng = env_ng\n",
    "        nja = env_ja\n",
    "        return ng, nja, fight_g, fight_ja\n",
    "    else\n",
    "        fight_g = 0\n",
    "        fight_ja = 0\n",
    "        return ng, nja, fight_g, fight_ja\n",
    "    end\n",
    "end\n"
   ]
  },
  {
   "cell_type": "code",
   "execution_count": 36,
   "metadata": {},
   "outputs": [
    {
     "data": {
      "text/plain": [
       "(29, 25, 6, 5)"
      ]
     },
     "execution_count": 36,
     "metadata": {},
     "output_type": "execute_result"
    }
   ],
   "source": [
    "check(9,9, 35,30)\n"
   ]
  },
  {
   "cell_type": "code",
   "execution_count": 37,
   "metadata": {},
   "outputs": [
    {
     "name": "stdout",
     "output_type": "stream",
     "text": [
      "(25, 29, 25, 31)"
     ]
    }
   ],
   "source": [
    "print(check(9,9,50,60))\n"
   ]
  },
  {
   "cell_type": "code",
   "execution_count": 38,
   "metadata": {},
   "outputs": [
    {
     "data": {
      "text/plain": [
       "fight_club (generic function with 1 method)"
      ]
     },
     "execution_count": 38,
     "metadata": {},
     "output_type": "execute_result"
    }
   ],
   "source": [
    "function fight_club(n_gol, n_jas)\n",
    "    if (n_gol+n_jas)%2 == 0\n",
    "        n = Int64((n_gol + n_jas)/2)\n",
    "        M = zeros(Int64, 2, n)\n",
    "        if n_gol != 0\n",
    "            golabki(M,n_gol)\n",
    "        end\n",
    "        if n_jas!=0\n",
    "            jastrzabki(M,n_jas)\n",
    "        end\n",
    "    else\n",
    "        n = Int64((n_gol + n_jas + 1)/2) \n",
    "        M = zeros(Int64, 2, n)\n",
    "        if n_gol != 0\n",
    "            golabki(M,n_gol)\n",
    "        end\n",
    "        if n_jas!=0\n",
    "            jastrzabki(M,n_jas)\n",
    "        end\n",
    "    end\n",
    "    return M\n",
    "end\n",
    "        "
   ]
  },
  {
   "cell_type": "code",
   "execution_count": 39,
   "metadata": {},
   "outputs": [
    {
     "data": {
      "text/plain": [
       "2×3 Array{Int64,2}:\n",
       " 3  8  8\n",
       " 3  3  8"
      ]
     },
     "execution_count": 39,
     "metadata": {},
     "output_type": "execute_result"
    }
   ],
   "source": [
    "fight_club(3,3)"
   ]
  },
  {
   "cell_type": "code",
   "execution_count": 40,
   "metadata": {},
   "outputs": [
    {
     "data": {
      "text/plain": [
       "fight (generic function with 1 method)"
      ]
     },
     "execution_count": 40,
     "metadata": {},
     "output_type": "execute_result"
    }
   ],
   "source": [
    "\n",
    "function fight(macierz, n_gol, n_jas)\n",
    "    for i in 1:size(macierz)[2]\n",
    "        suma = macierz[1,i] + macierz[2,i]\n",
    "        if suma == 6\n",
    "            n_gol -= 1\n",
    "        elseif suma == 16\n",
    "            n_jas -= 1\n",
    "        elseif suma == 11\n",
    "            if rand(0:1) == 0\n",
    "                n_gol -= 1\n",
    "            else\n",
    "                n_jas -= 1\n",
    "            end\n",
    "        end\n",
    "    end\n",
    "    return n_gol, n_jas\n",
    "end"
   ]
  },
  {
   "cell_type": "code",
   "execution_count": 41,
   "metadata": {},
   "outputs": [
    {
     "data": {
      "text/plain": [
       "(2, 1)"
      ]
     },
     "execution_count": 41,
     "metadata": {},
     "output_type": "execute_result"
    }
   ],
   "source": [
    "fight(fight_club(3,3), 3, 3)"
   ]
  },
  {
   "cell_type": "markdown",
   "metadata": {},
   "source": [
    "### Generowanie środowiska z mniejszą ilością pakietów (na wypadek przykładowej suszy/ pożaru)\n"
   ]
  },
  {
   "cell_type": "code",
   "execution_count": 42,
   "metadata": {},
   "outputs": [
    {
     "data": {
      "text/plain": [
       "environment_food_amount (generic function with 4 methods)"
      ]
     },
     "execution_count": 42,
     "metadata": {},
     "output_type": "execute_result"
    }
   ],
   "source": [
    "function environment_food_amount(size1 = 21, size2 = 21, amount = 100)\n",
    "#ilość wieszy musi być podzielna przez 3\n",
    "    if size1 % 3 != 0\n",
    "        throw(DomainError(size, \"incorrect size\"))\n",
    "    end\n",
    "    Environment = zeros(Int64, size1, size2)\n",
    "    A = zeros(Int64, 1, size2*(fld(size1-2,3)+1))\n",
    "    A[1,1:amount] = ones(Int64, 1, amount)\n",
    "    A = Random.shuffle(A)\n",
    "    k = 1\n",
    "    for i in 2:3:size1\n",
    "        Environment[i,:] = A[1, k:(k+size1-1)]\n",
    "        k += size1\n",
    "    end\n",
    "    return Environment\n",
    "end"
   ]
  },
  {
   "cell_type": "code",
   "execution_count": null,
   "metadata": {},
   "outputs": [],
   "source": []
  },
  {
   "cell_type": "code",
   "execution_count": null,
   "metadata": {},
   "outputs": [],
   "source": []
  },
  {
   "cell_type": "code",
   "execution_count": null,
   "metadata": {},
   "outputs": [],
   "source": []
  },
  {
   "cell_type": "code",
   "execution_count": 43,
   "metadata": {},
   "outputs": [
    {
     "data": {
      "text/plain": [
       "action (generic function with 2 methods)"
      ]
     },
     "execution_count": 43,
     "metadata": {},
     "output_type": "execute_result"
    }
   ],
   "source": [
    "function action(n, m, n_gol, n_jas, p, A, index = 1)\n",
    "    \n",
    "    if p == 0\n",
    "        return A\n",
    "    end\n",
    "    \n",
    "    srod = environment(n,m) ##mamy pakiety\n",
    "    \n",
    "    a = check(n, m, n_gol, n_jas) #sprawdzamy czy nie ma za dużo ptaszków, zwraca jako (gol_safe, jas_safe, gol_fight, jas_fight)\n",
    "    n_gol = a[1]\n",
    "    n_jas = a[2]\n",
    "\n",
    "    golabki(srod, n_gol)\n",
    "    jastrzabki(srod, n_jas)  ##mamy srodowisko z ptaszkami\n",
    "    \n",
    "    result = potyczki(n,m,srod, n_gol, n_jas) ##mamy stan populacji po potyczkach\n",
    "    n_gol = result[1] ##liczba gołębi\n",
    "    n_jas = result[2]\n",
    "    \n",
    "    ##w miedzyczasie fight club :\n",
    "    \n",
    "    \n",
    "    b = fight(fight_club(a[3],a[4]), a[3], a[4]) #populacja po fight clubie - (gol, jas)\n",
    "    \n",
    "    n_gol += b[1] ##ostateczna ilosc golebi - ta bezpieczna + fight club\n",
    "    n_jas += b[2] ## -||- jastrzebi\n",
    "    gol_fight = b[1] ##ilość ptakow po fightcie, może się przyda c:\n",
    "    jas_fight = b[2]\n",
    "    \n",
    "    A[index, 1] = n_gol\n",
    "    A[index, 2] = n_jas\n",
    "    index += 1\n",
    "    #println(n_gol,\",\", n_jas,\",\", gol_fight, \",\",jas_fight)\n",
    "    \n",
    "    action(n, m, n_gol, n_jas, p-1, A, index) #i lecimy rekurencją\n",
    "end"
   ]
  },
  {
   "cell_type": "code",
   "execution_count": 49,
   "metadata": {},
   "outputs": [
    {
     "data": {
      "text/plain": [
       "100×2 Array{Int64,2}:\n",
       " 28  29\n",
       " 27  29\n",
       " 25  30\n",
       " 25  30\n",
       " 25  28\n",
       " 25  28\n",
       " 24  29\n",
       " 24  29\n",
       " 24  29\n",
       " 24  27\n",
       " 23  28\n",
       " 23  28\n",
       " 23  28\n",
       "  ⋮  \n",
       " 25  26\n",
       " 25  24\n",
       " 25  22\n",
       " 25  23\n",
       " 25  23\n",
       " 24  24\n",
       " 24  22\n",
       " 24  20\n",
       " 24  18\n",
       " 24  18\n",
       " 24  19\n",
       " 24  19"
      ]
     },
     "execution_count": 49,
     "metadata": {},
     "output_type": "execute_result"
    }
   ],
   "source": [
    "A = action(9,9,30,30, 100, zeros(Int64, 100, 2))"
   ]
  },
  {
   "cell_type": "code",
   "execution_count": 50,
   "metadata": {},
   "outputs": [
    {
     "data": {
      "image/svg+xml": [
       "<?xml version=\"1.0\" encoding=\"utf-8\"?>\n",
       "<svg xmlns=\"http://www.w3.org/2000/svg\" xmlns:xlink=\"http://www.w3.org/1999/xlink\" width=\"600\" height=\"400\" viewBox=\"0 0 2400 1600\">\n",
       "<defs>\n",
       "  <clipPath id=\"clip750\">\n",
       "    <rect x=\"0\" y=\"0\" width=\"2400\" height=\"1600\"/>\n",
       "  </clipPath>\n",
       "</defs>\n",
       "<path clip-path=\"url(#clip750)\" d=\"\n",
       "M0 1600 L2400 1600 L2400 0 L0 0  Z\n",
       "  \" fill=\"#ffffff\" fill-rule=\"evenodd\" fill-opacity=\"1\"/>\n",
       "<defs>\n",
       "  <clipPath id=\"clip751\">\n",
       "    <rect x=\"480\" y=\"0\" width=\"1681\" height=\"1600\"/>\n",
       "  </clipPath>\n",
       "</defs>\n",
       "<path clip-path=\"url(#clip750)\" d=\"\n",
       "M136.76 1486.45 L2352.76 1486.45 L2352.76 47.2441 L136.76 47.2441  Z\n",
       "  \" fill=\"#ffffff\" fill-rule=\"evenodd\" fill-opacity=\"1\"/>\n",
       "<defs>\n",
       "  <clipPath id=\"clip752\">\n",
       "    <rect x=\"136\" y=\"47\" width=\"2217\" height=\"1440\"/>\n",
       "  </clipPath>\n",
       "</defs>\n",
       "<polyline clip-path=\"url(#clip752)\" style=\"stroke:#000000; stroke-width:2; stroke-opacity:0.1; fill:none\" points=\"\n",
       "  178.36,1486.45 178.36,47.2441 \n",
       "  \"/>\n",
       "<polyline clip-path=\"url(#clip752)\" style=\"stroke:#000000; stroke-width:2; stroke-opacity:0.1; fill:none\" points=\"\n",
       "  706.28,1486.45 706.28,47.2441 \n",
       "  \"/>\n",
       "<polyline clip-path=\"url(#clip752)\" style=\"stroke:#000000; stroke-width:2; stroke-opacity:0.1; fill:none\" points=\"\n",
       "  1234.2,1486.45 1234.2,47.2441 \n",
       "  \"/>\n",
       "<polyline clip-path=\"url(#clip752)\" style=\"stroke:#000000; stroke-width:2; stroke-opacity:0.1; fill:none\" points=\"\n",
       "  1762.12,1486.45 1762.12,47.2441 \n",
       "  \"/>\n",
       "<polyline clip-path=\"url(#clip752)\" style=\"stroke:#000000; stroke-width:2; stroke-opacity:0.1; fill:none\" points=\"\n",
       "  2290.04,1486.45 2290.04,47.2441 \n",
       "  \"/>\n",
       "<polyline clip-path=\"url(#clip750)\" style=\"stroke:#000000; stroke-width:4; stroke-opacity:1; fill:none\" points=\"\n",
       "  136.76,1486.45 2352.76,1486.45 \n",
       "  \"/>\n",
       "<polyline clip-path=\"url(#clip750)\" style=\"stroke:#000000; stroke-width:4; stroke-opacity:1; fill:none\" points=\"\n",
       "  178.36,1486.45 178.36,1469.18 \n",
       "  \"/>\n",
       "<polyline clip-path=\"url(#clip750)\" style=\"stroke:#000000; stroke-width:4; stroke-opacity:1; fill:none\" points=\"\n",
       "  706.28,1486.45 706.28,1469.18 \n",
       "  \"/>\n",
       "<polyline clip-path=\"url(#clip750)\" style=\"stroke:#000000; stroke-width:4; stroke-opacity:1; fill:none\" points=\"\n",
       "  1234.2,1486.45 1234.2,1469.18 \n",
       "  \"/>\n",
       "<polyline clip-path=\"url(#clip750)\" style=\"stroke:#000000; stroke-width:4; stroke-opacity:1; fill:none\" points=\"\n",
       "  1762.12,1486.45 1762.12,1469.18 \n",
       "  \"/>\n",
       "<polyline clip-path=\"url(#clip750)\" style=\"stroke:#000000; stroke-width:4; stroke-opacity:1; fill:none\" points=\"\n",
       "  2290.04,1486.45 2290.04,1469.18 \n",
       "  \"/>\n",
       "<path clip-path=\"url(#clip750)\" d=\"M 0 0 M178.36 1515.64 Q174.749 1515.64 172.921 1519.2 Q171.115 1522.75 171.115 1529.87 Q171.115 1536.98 172.921 1540.55 Q174.749 1544.09 178.36 1544.09 Q181.995 1544.09 183.8 1540.55 Q185.629 1536.98 185.629 1529.87 Q185.629 1522.75 183.8 1519.2 Q181.995 1515.64 178.36 1515.64 M178.36 1511.93 Q184.171 1511.93 187.226 1516.54 Q190.305 1521.12 190.305 1529.87 Q190.305 1538.6 187.226 1543.21 Q184.171 1547.79 178.36 1547.79 Q172.55 1547.79 169.472 1543.21 Q166.416 1538.6 166.416 1529.87 Q166.416 1521.12 169.472 1516.54 Q172.55 1511.93 178.36 1511.93 Z\" fill=\"#000000\" fill-rule=\"evenodd\" fill-opacity=\"1\" /><path clip-path=\"url(#clip750)\" d=\"M 0 0 M687.924 1543.18 L704.243 1543.18 L704.243 1547.12 L682.299 1547.12 L682.299 1543.18 Q684.961 1540.43 689.544 1535.8 Q694.151 1531.15 695.331 1529.81 Q697.576 1527.28 698.456 1525.55 Q699.359 1523.79 699.359 1522.1 Q699.359 1519.34 697.414 1517.61 Q695.493 1515.87 692.391 1515.87 Q690.192 1515.87 687.739 1516.63 Q685.308 1517.4 682.53 1518.95 L682.53 1514.23 Q685.354 1513.09 687.808 1512.51 Q690.262 1511.93 692.299 1511.93 Q697.669 1511.93 700.863 1514.62 Q704.058 1517.31 704.058 1521.8 Q704.058 1523.93 703.248 1525.85 Q702.461 1527.74 700.354 1530.34 Q699.776 1531.01 696.674 1534.23 Q693.572 1537.42 687.924 1543.18 Z\" fill=\"#000000\" fill-rule=\"evenodd\" fill-opacity=\"1\" /><path clip-path=\"url(#clip750)\" d=\"M 0 0 M709.359 1512.56 L727.715 1512.56 L727.715 1516.5 L713.641 1516.5 L713.641 1524.97 Q714.66 1524.62 715.678 1524.46 Q716.697 1524.27 717.715 1524.27 Q723.502 1524.27 726.882 1527.44 Q730.261 1530.62 730.261 1536.03 Q730.261 1541.61 726.789 1544.71 Q723.317 1547.79 716.998 1547.79 Q714.822 1547.79 712.553 1547.42 Q710.308 1547.05 707.9 1546.31 L707.9 1541.61 Q709.984 1542.74 712.206 1543.3 Q714.428 1543.86 716.905 1543.86 Q720.91 1543.86 723.248 1541.75 Q725.586 1539.64 725.586 1536.03 Q725.586 1532.42 723.248 1530.31 Q720.91 1528.21 716.905 1528.21 Q715.03 1528.21 713.155 1528.62 Q711.303 1529.04 709.359 1529.92 L709.359 1512.56 Z\" fill=\"#000000\" fill-rule=\"evenodd\" fill-opacity=\"1\" /><path clip-path=\"url(#clip750)\" d=\"M 0 0 M1210.97 1512.56 L1229.33 1512.56 L1229.33 1516.5 L1215.25 1516.5 L1215.25 1524.97 Q1216.27 1524.62 1217.29 1524.46 Q1218.31 1524.27 1219.33 1524.27 Q1225.11 1524.27 1228.49 1527.44 Q1231.87 1530.62 1231.87 1536.03 Q1231.87 1541.61 1228.4 1544.71 Q1224.93 1547.79 1218.61 1547.79 Q1216.43 1547.79 1214.17 1547.42 Q1211.92 1547.05 1209.51 1546.31 L1209.51 1541.61 Q1211.6 1542.74 1213.82 1543.3 Q1216.04 1543.86 1218.52 1543.86 Q1222.52 1543.86 1224.86 1541.75 Q1227.2 1539.64 1227.2 1536.03 Q1227.2 1532.42 1224.86 1530.31 Q1222.52 1528.21 1218.52 1528.21 Q1216.64 1528.21 1214.77 1528.62 Q1212.92 1529.04 1210.97 1529.92 L1210.97 1512.56 Z\" fill=\"#000000\" fill-rule=\"evenodd\" fill-opacity=\"1\" /><path clip-path=\"url(#clip750)\" d=\"M 0 0 M1246.94 1515.64 Q1243.33 1515.64 1241.5 1519.2 Q1239.7 1522.75 1239.7 1529.87 Q1239.7 1536.98 1241.5 1540.55 Q1243.33 1544.09 1246.94 1544.09 Q1250.58 1544.09 1252.38 1540.55 Q1254.21 1536.98 1254.21 1529.87 Q1254.21 1522.75 1252.38 1519.2 Q1250.58 1515.64 1246.94 1515.64 M1246.94 1511.93 Q1252.75 1511.93 1255.81 1516.54 Q1258.89 1521.12 1258.89 1529.87 Q1258.89 1538.6 1255.81 1543.21 Q1252.75 1547.79 1246.94 1547.79 Q1241.13 1547.79 1238.05 1543.21 Q1235 1538.6 1235 1529.87 Q1235 1521.12 1238.05 1516.54 Q1241.13 1511.93 1246.94 1511.93 Z\" fill=\"#000000\" fill-rule=\"evenodd\" fill-opacity=\"1\" /><path clip-path=\"url(#clip750)\" d=\"M 0 0 M1738 1512.56 L1760.22 1512.56 L1760.22 1514.55 L1747.68 1547.12 L1742.79 1547.12 L1754.6 1516.5 L1738 1516.5 L1738 1512.56 Z\" fill=\"#000000\" fill-rule=\"evenodd\" fill-opacity=\"1\" /><path clip-path=\"url(#clip750)\" d=\"M 0 0 M1765.34 1512.56 L1783.69 1512.56 L1783.69 1516.5 L1769.62 1516.5 L1769.62 1524.97 Q1770.64 1524.62 1771.66 1524.46 Q1772.67 1524.27 1773.69 1524.27 Q1779.48 1524.27 1782.86 1527.44 Q1786.24 1530.62 1786.24 1536.03 Q1786.24 1541.61 1782.77 1544.71 Q1779.3 1547.79 1772.98 1547.79 Q1770.8 1547.79 1768.53 1547.42 Q1766.29 1547.05 1763.88 1546.31 L1763.88 1541.61 Q1765.96 1542.74 1768.18 1543.3 Q1770.41 1543.86 1772.88 1543.86 Q1776.89 1543.86 1779.23 1541.75 Q1781.56 1539.64 1781.56 1536.03 Q1781.56 1532.42 1779.23 1530.31 Q1776.89 1528.21 1772.88 1528.21 Q1771.01 1528.21 1769.13 1528.62 Q1767.28 1529.04 1765.34 1529.92 L1765.34 1512.56 Z\" fill=\"#000000\" fill-rule=\"evenodd\" fill-opacity=\"1\" /><path clip-path=\"url(#clip750)\" d=\"M 0 0 M2253.41 1543.18 L2261.05 1543.18 L2261.05 1516.82 L2252.74 1518.49 L2252.74 1514.23 L2261 1512.56 L2265.68 1512.56 L2265.68 1543.18 L2273.31 1543.18 L2273.31 1547.12 L2253.41 1547.12 L2253.41 1543.18 Z\" fill=\"#000000\" fill-rule=\"evenodd\" fill-opacity=\"1\" /><path clip-path=\"url(#clip750)\" d=\"M 0 0 M2288.38 1515.64 Q2284.77 1515.64 2282.94 1519.2 Q2281.14 1522.75 2281.14 1529.87 Q2281.14 1536.98 2282.94 1540.55 Q2284.77 1544.09 2288.38 1544.09 Q2292.02 1544.09 2293.82 1540.55 Q2295.65 1536.98 2295.65 1529.87 Q2295.65 1522.75 2293.82 1519.2 Q2292.02 1515.64 2288.38 1515.64 M2288.38 1511.93 Q2294.19 1511.93 2297.25 1516.54 Q2300.33 1521.12 2300.33 1529.87 Q2300.33 1538.6 2297.25 1543.21 Q2294.19 1547.79 2288.38 1547.79 Q2282.57 1547.79 2279.5 1543.21 Q2276.44 1538.6 2276.44 1529.87 Q2276.44 1521.12 2279.5 1516.54 Q2282.57 1511.93 2288.38 1511.93 Z\" fill=\"#000000\" fill-rule=\"evenodd\" fill-opacity=\"1\" /><path clip-path=\"url(#clip750)\" d=\"M 0 0 M2315.4 1515.64 Q2311.79 1515.64 2309.96 1519.2 Q2308.15 1522.75 2308.15 1529.87 Q2308.15 1536.98 2309.96 1540.55 Q2311.79 1544.09 2315.4 1544.09 Q2319.03 1544.09 2320.84 1540.55 Q2322.67 1536.98 2322.67 1529.87 Q2322.67 1522.75 2320.84 1519.2 Q2319.03 1515.64 2315.4 1515.64 M2315.4 1511.93 Q2321.21 1511.93 2324.26 1516.54 Q2327.34 1521.12 2327.34 1529.87 Q2327.34 1538.6 2324.26 1543.21 Q2321.21 1547.79 2315.4 1547.79 Q2309.59 1547.79 2306.51 1543.21 Q2303.45 1538.6 2303.45 1529.87 Q2303.45 1521.12 2306.51 1516.54 Q2309.59 1511.93 2315.4 1511.93 Z\" fill=\"#000000\" fill-rule=\"evenodd\" fill-opacity=\"1\" /><polyline clip-path=\"url(#clip752)\" style=\"stroke:#000000; stroke-width:2; stroke-opacity:0.1; fill:none\" points=\"\n",
       "  136.76,1264.68 2352.76,1264.68 \n",
       "  \"/>\n",
       "<polyline clip-path=\"url(#clip752)\" style=\"stroke:#000000; stroke-width:2; stroke-opacity:0.1; fill:none\" points=\"\n",
       "  136.76,993.136 2352.76,993.136 \n",
       "  \"/>\n",
       "<polyline clip-path=\"url(#clip752)\" style=\"stroke:#000000; stroke-width:2; stroke-opacity:0.1; fill:none\" points=\"\n",
       "  136.76,721.588 2352.76,721.588 \n",
       "  \"/>\n",
       "<polyline clip-path=\"url(#clip752)\" style=\"stroke:#000000; stroke-width:2; stroke-opacity:0.1; fill:none\" points=\"\n",
       "  136.76,450.04 2352.76,450.04 \n",
       "  \"/>\n",
       "<polyline clip-path=\"url(#clip752)\" style=\"stroke:#000000; stroke-width:2; stroke-opacity:0.1; fill:none\" points=\"\n",
       "  136.76,178.492 2352.76,178.492 \n",
       "  \"/>\n",
       "<polyline clip-path=\"url(#clip750)\" style=\"stroke:#000000; stroke-width:4; stroke-opacity:1; fill:none\" points=\"\n",
       "  136.76,1486.45 136.76,47.2441 \n",
       "  \"/>\n",
       "<polyline clip-path=\"url(#clip750)\" style=\"stroke:#000000; stroke-width:4; stroke-opacity:1; fill:none\" points=\"\n",
       "  136.76,1264.68 163.352,1264.68 \n",
       "  \"/>\n",
       "<polyline clip-path=\"url(#clip750)\" style=\"stroke:#000000; stroke-width:4; stroke-opacity:1; fill:none\" points=\"\n",
       "  136.76,993.136 163.352,993.136 \n",
       "  \"/>\n",
       "<polyline clip-path=\"url(#clip750)\" style=\"stroke:#000000; stroke-width:4; stroke-opacity:1; fill:none\" points=\"\n",
       "  136.76,721.588 163.352,721.588 \n",
       "  \"/>\n",
       "<polyline clip-path=\"url(#clip750)\" style=\"stroke:#000000; stroke-width:4; stroke-opacity:1; fill:none\" points=\"\n",
       "  136.76,450.04 163.352,450.04 \n",
       "  \"/>\n",
       "<polyline clip-path=\"url(#clip750)\" style=\"stroke:#000000; stroke-width:4; stroke-opacity:1; fill:none\" points=\"\n",
       "  136.76,178.492 163.352,178.492 \n",
       "  \"/>\n",
       "<path clip-path=\"url(#clip750)\" d=\"M 0 0 M53.9319 1278.03 L61.5708 1278.03 L61.5708 1251.66 L53.2606 1253.33 L53.2606 1249.07 L61.5245 1247.4 L66.2004 1247.4 L66.2004 1278.03 L73.8392 1278.03 L73.8392 1281.96 L53.9319 1281.96 L53.9319 1278.03 Z\" fill=\"#000000\" fill-rule=\"evenodd\" fill-opacity=\"1\" /><path clip-path=\"url(#clip750)\" d=\"M 0 0 M88.9086 1265.55 Q85.5753 1265.55 83.654 1267.33 Q81.7559 1269.12 81.7559 1272.24 Q81.7559 1275.37 83.654 1277.15 Q85.5753 1278.93 88.9086 1278.93 Q92.2419 1278.93 94.1632 1277.15 Q96.0845 1275.34 96.0845 1272.24 Q96.0845 1269.12 94.1632 1267.33 Q92.2651 1265.55 88.9086 1265.55 M84.2327 1263.56 Q81.2234 1262.82 79.5336 1260.76 Q77.867 1258.7 77.867 1255.74 Q77.867 1251.59 80.8068 1249.19 Q83.7697 1246.78 88.9086 1246.78 Q94.0706 1246.78 97.0104 1249.19 Q99.9502 1251.59 99.9502 1255.74 Q99.9502 1258.7 98.2604 1260.76 Q96.5937 1262.82 93.6076 1263.56 Q96.9872 1264.35 98.8622 1266.64 Q100.76 1268.93 100.76 1272.24 Q100.76 1277.26 97.6817 1279.95 Q94.6262 1282.64 88.9086 1282.64 Q83.191 1282.64 80.1123 1279.95 Q77.0568 1277.26 77.0568 1272.24 Q77.0568 1268.93 78.9549 1266.64 Q80.8531 1264.35 84.2327 1263.56 M82.5197 1256.18 Q82.5197 1258.86 84.1864 1260.37 Q85.8762 1261.87 88.9086 1261.87 Q91.9178 1261.87 93.6076 1260.37 Q95.3206 1258.86 95.3206 1256.18 Q95.3206 1253.49 93.6076 1251.99 Q91.9178 1250.48 88.9086 1250.48 Q85.8762 1250.48 84.1864 1251.99 Q82.5197 1253.49 82.5197 1256.18 Z\" fill=\"#000000\" fill-rule=\"evenodd\" fill-opacity=\"1\" /><path clip-path=\"url(#clip750)\" d=\"M 0 0 M58.6541 1006.48 L74.9735 1006.48 L74.9735 1010.42 L53.0292 1010.42 L53.0292 1006.48 Q55.6912 1003.73 60.2745 999.097 Q64.8809 994.444 66.0615 993.101 Q68.3068 990.578 69.1865 988.842 Q70.0892 987.083 70.0892 985.393 Q70.0892 982.638 68.1448 980.902 Q66.2235 979.166 63.1217 979.166 Q60.9226 979.166 58.4689 979.93 Q56.0384 980.694 53.2606 982.245 L53.2606 977.523 Q56.0847 976.388 58.5384 975.81 Q60.9921 975.231 63.0291 975.231 Q68.3994 975.231 71.5939 977.916 Q74.7883 980.601 74.7883 985.092 Q74.7883 987.222 73.9781 989.143 Q73.1911 991.041 71.0846 993.634 Q70.5059 994.305 67.4041 997.522 Q64.3022 1000.72 58.6541 1006.48 Z\" fill=\"#000000\" fill-rule=\"evenodd\" fill-opacity=\"1\" /><path clip-path=\"url(#clip750)\" d=\"M 0 0 M80.8531 1006.48 L88.4919 1006.48 L88.4919 980.115 L80.1818 981.782 L80.1818 977.523 L88.4456 975.856 L93.1215 975.856 L93.1215 1006.48 L100.76 1006.48 L100.76 1010.42 L80.8531 1010.42 L80.8531 1006.48 Z\" fill=\"#000000\" fill-rule=\"evenodd\" fill-opacity=\"1\" /><path clip-path=\"url(#clip750)\" d=\"M 0 0 M56.9412 734.933 L73.2605 734.933 L73.2605 738.868 L51.3162 738.868 L51.3162 734.933 Q53.9782 732.178 58.5615 727.549 Q63.168 722.896 64.3485 721.553 Q66.5939 719.03 67.4735 717.294 Q68.3763 715.535 68.3763 713.845 Q68.3763 711.09 66.4319 709.354 Q64.5106 707.618 61.4087 707.618 Q59.2097 707.618 56.756 708.382 Q54.3254 709.146 51.5477 710.697 L51.5477 705.975 Q54.3717 704.84 56.8254 704.262 Q59.2791 703.683 61.3161 703.683 Q66.6865 703.683 69.8809 706.368 Q73.0753 709.053 73.0753 713.544 Q73.0753 715.674 72.2652 717.595 Q71.4781 719.493 69.3717 722.086 Q68.793 722.757 65.6911 725.975 Q62.5893 729.169 56.9412 734.933 Z\" fill=\"#000000\" fill-rule=\"evenodd\" fill-opacity=\"1\" /><path clip-path=\"url(#clip750)\" d=\"M 0 0 M91.1771 708.382 L79.3716 726.831 L91.1771 726.831 L91.1771 708.382 M89.9503 704.308 L95.8298 704.308 L95.8298 726.831 L100.76 726.831 L100.76 730.72 L95.8298 730.72 L95.8298 738.868 L91.1771 738.868 L91.1771 730.72 L75.5753 730.72 L75.5753 726.206 L89.9503 704.308 Z\" fill=\"#000000\" fill-rule=\"evenodd\" fill-opacity=\"1\" /><path clip-path=\"url(#clip750)\" d=\"M 0 0 M58.33 463.385 L74.6494 463.385 L74.6494 467.32 L52.7051 467.32 L52.7051 463.385 Q55.3671 460.63 59.9504 456.001 Q64.5569 451.348 65.7374 450.005 Q67.9828 447.482 68.8624 445.746 Q69.7652 443.987 69.7652 442.297 Q69.7652 439.542 67.8207 437.806 Q65.8995 436.07 62.7976 436.07 Q60.5986 436.07 58.1449 436.834 Q55.7143 437.598 52.9366 439.149 L52.9366 434.427 Q55.7606 433.293 58.2143 432.714 Q60.668 432.135 62.705 432.135 Q68.0754 432.135 71.2698 434.82 Q74.4642 437.505 74.4642 441.996 Q74.4642 444.126 73.654 446.047 Q72.867 447.945 70.7605 450.538 Q70.1818 451.209 67.08 454.427 Q63.9782 457.621 58.33 463.385 Z\" fill=\"#000000\" fill-rule=\"evenodd\" fill-opacity=\"1\" /><path clip-path=\"url(#clip750)\" d=\"M 0 0 M78.5383 432.76 L100.76 432.76 L100.76 434.751 L88.2141 467.32 L83.3299 467.32 L95.1354 436.695 L78.5383 436.695 L78.5383 432.76 Z\" fill=\"#000000\" fill-rule=\"evenodd\" fill-opacity=\"1\" /><path clip-path=\"url(#clip750)\" d=\"M 0 0 M66.617 177.138 Q69.9735 177.856 71.8485 180.124 Q73.7466 182.393 73.7466 185.726 Q73.7466 190.842 70.2281 193.643 Q66.7096 196.444 60.2282 196.444 Q58.0523 196.444 55.7375 196.004 Q53.4458 195.587 50.9921 194.731 L50.9921 190.217 Q52.9366 191.351 55.2514 191.93 Q57.5662 192.508 60.0893 192.508 Q64.4874 192.508 66.7791 190.772 Q69.0939 189.036 69.0939 185.726 Q69.0939 182.67 66.9411 180.958 Q64.8115 179.221 60.9921 179.221 L56.9643 179.221 L56.9643 175.379 L61.1773 175.379 Q64.6263 175.379 66.455 174.013 Q68.2837 172.624 68.2837 170.032 Q68.2837 167.37 66.3856 165.958 Q64.5106 164.522 60.9921 164.522 Q59.0708 164.522 56.8717 164.939 Q54.6727 165.356 52.0338 166.235 L52.0338 162.069 Q54.6958 161.328 57.0106 160.958 Q59.3486 160.587 61.4087 160.587 Q66.7328 160.587 69.8346 163.018 Q72.9365 165.425 72.9365 169.546 Q72.9365 172.416 71.2929 174.407 Q69.6494 176.374 66.617 177.138 Z\" fill=\"#000000\" fill-rule=\"evenodd\" fill-opacity=\"1\" /><path clip-path=\"url(#clip750)\" d=\"M 0 0 M88.816 164.291 Q85.2049 164.291 83.3762 167.856 Q81.5707 171.397 81.5707 178.527 Q81.5707 185.633 83.3762 189.198 Q85.2049 192.74 88.816 192.74 Q92.4502 192.74 94.2558 189.198 Q96.0845 185.633 96.0845 178.527 Q96.0845 171.397 94.2558 167.856 Q92.4502 164.291 88.816 164.291 M88.816 160.587 Q94.6262 160.587 97.6817 165.194 Q100.76 169.777 100.76 178.527 Q100.76 187.254 97.6817 191.86 Q94.6262 196.444 88.816 196.444 Q83.0058 196.444 79.9272 191.86 Q76.8716 187.254 76.8716 178.527 Q76.8716 169.777 79.9272 165.194 Q83.0058 160.587 88.816 160.587 Z\" fill=\"#000000\" fill-rule=\"evenodd\" fill-opacity=\"1\" /><polyline clip-path=\"url(#clip752)\" style=\"stroke:#800080; stroke-width:4; stroke-opacity:1; fill:none\" points=\"\n",
       "  199.477,359.524 220.594,450.04 241.711,631.072 262.828,631.072 283.944,631.072 305.061,631.072 326.178,721.588 347.295,721.588 368.412,721.588 389.528,721.588 \n",
       "  410.645,812.104 431.762,812.104 452.879,812.104 473.995,812.104 495.112,812.104 516.229,812.104 537.346,812.104 558.463,902.62 579.579,902.62 600.696,902.62 \n",
       "  621.813,902.62 642.93,902.62 664.047,993.136 685.163,993.136 706.28,993.136 727.397,993.136 748.514,1083.65 769.63,1083.65 790.747,1083.65 811.864,902.62 \n",
       "  832.981,902.62 854.098,902.62 875.214,721.588 896.331,721.588 917.448,721.588 938.565,721.588 959.682,721.588 980.798,812.104 1001.92,812.104 1023.03,812.104 \n",
       "  1044.15,812.104 1065.27,812.104 1086.38,812.104 1107.5,812.104 1128.62,812.104 1149.73,812.104 1170.85,812.104 1191.97,812.104 1213.08,812.104 1234.2,812.104 \n",
       "  1255.32,812.104 1276.43,902.62 1297.55,902.62 1318.67,902.62 1339.78,993.136 1360.9,993.136 1382.02,993.136 1403.13,993.136 1424.25,993.136 1445.37,812.104 \n",
       "  1466.48,631.072 1487.6,721.588 1508.72,721.588 1529.83,721.588 1550.95,721.588 1572.07,721.588 1593.19,540.556 1614.3,540.556 1635.42,540.556 1656.54,540.556 \n",
       "  1677.65,631.072 1698.77,631.072 1719.89,631.072 1741,631.072 1762.12,631.072 1783.24,450.04 1804.35,450.04 1825.47,450.04 1846.59,540.556 1867.7,540.556 \n",
       "  1888.82,540.556 1909.94,540.556 1931.05,540.556 1952.17,540.556 1973.29,631.072 1994.4,631.072 2015.52,631.072 2036.64,631.072 2057.75,631.072 2078.87,631.072 \n",
       "  2099.99,631.072 2121.1,631.072 2142.22,631.072 2163.34,721.588 2184.46,721.588 2205.57,721.588 2226.69,721.588 2247.81,721.588 2268.92,721.588 2290.04,721.588 \n",
       "  \n",
       "  \"/>\n",
       "<polyline clip-path=\"url(#clip752)\" style=\"stroke:#008000; stroke-width:4; stroke-opacity:1; fill:none\" points=\"\n",
       "  199.477,269.008 220.594,269.008 241.711,178.492 262.828,178.492 283.944,359.524 305.061,359.524 326.178,269.008 347.295,269.008 368.412,269.008 389.528,450.04 \n",
       "  410.645,359.524 431.762,359.524 452.879,359.524 473.995,269.008 495.112,178.492 516.229,87.9763 537.346,269.008 558.463,178.492 579.579,178.492 600.696,178.492 \n",
       "  621.813,359.524 642.93,269.008 664.047,178.492 685.163,178.492 706.28,359.524 727.397,540.556 748.514,450.04 769.63,450.04 790.747,631.072 811.864,631.072 \n",
       "  832.981,631.072 854.098,540.556 875.214,540.556 896.331,540.556 917.448,450.04 938.565,359.524 959.682,540.556 980.798,450.04 1001.92,359.524 1023.03,540.556 \n",
       "  1044.15,540.556 1065.27,540.556 1086.38,721.588 1107.5,902.62 1128.62,1083.65 1149.73,1264.68 1170.85,1445.72 1191.97,1355.2 1213.08,1264.68 1234.2,1264.68 \n",
       "  1255.32,1264.68 1276.43,1174.17 1297.55,1174.17 1318.67,1174.17 1339.78,1083.65 1360.9,993.136 1382.02,993.136 1403.13,993.136 1424.25,1174.17 1445.37,1174.17 \n",
       "  1466.48,1174.17 1487.6,1083.65 1508.72,1083.65 1529.83,993.136 1550.95,993.136 1572.07,1174.17 1593.19,1174.17 1614.3,1083.65 1635.42,993.136 1656.54,993.136 \n",
       "  1677.65,902.62 1698.77,902.62 1719.89,1083.65 1741,993.136 1762.12,993.136 1783.24,993.136 1804.35,902.62 1825.47,812.104 1846.59,721.588 1867.7,631.072 \n",
       "  1888.82,631.072 1909.94,631.072 1931.05,540.556 1952.17,540.556 1973.29,450.04 1994.4,450.04 2015.52,450.04 2036.64,631.072 2057.75,540.556 2078.87,721.588 \n",
       "  2099.99,902.62 2121.1,812.104 2142.22,812.104 2163.34,721.588 2184.46,902.62 2205.57,1083.65 2226.69,1264.68 2247.81,1264.68 2268.92,1174.17 2290.04,1174.17 \n",
       "  \n",
       "  \"/>\n",
       "<path clip-path=\"url(#clip750)\" d=\"\n",
       "M1826.65 276.658 L2278.89 276.658 L2278.89 95.2176 L1826.65 95.2176  Z\n",
       "  \" fill=\"#ffffff\" fill-rule=\"evenodd\" fill-opacity=\"1\"/>\n",
       "<polyline clip-path=\"url(#clip750)\" style=\"stroke:#000000; stroke-width:4; stroke-opacity:1; fill:none\" points=\"\n",
       "  1826.65,276.658 2278.89,276.658 2278.89,95.2176 1826.65,95.2176 1826.65,276.658 \n",
       "  \"/>\n",
       "<polyline clip-path=\"url(#clip750)\" style=\"stroke:#800080; stroke-width:4; stroke-opacity:1; fill:none\" points=\"\n",
       "  1851.27,155.698 1999.01,155.698 \n",
       "  \"/>\n",
       "<path clip-path=\"url(#clip750)\" d=\"M 0 0 M2042.54 159.714 Q2042.54 155.084 2040.62 152.538 Q2038.72 149.992 2035.27 149.992 Q2031.85 149.992 2029.92 152.538 Q2028.03 155.084 2028.03 159.714 Q2028.03 164.32 2029.92 166.866 Q2031.85 169.413 2035.27 169.413 Q2038.72 169.413 2040.62 166.866 Q2042.54 164.32 2042.54 159.714 M2046.8 169.76 Q2046.8 176.38 2043.86 179.598 Q2040.92 182.839 2034.85 182.839 Q2032.61 182.839 2030.62 182.491 Q2028.63 182.167 2026.75 181.473 L2026.75 177.329 Q2028.63 178.348 2030.46 178.834 Q2032.28 179.32 2034.18 179.32 Q2038.37 179.32 2040.46 177.121 Q2042.54 174.945 2042.54 170.524 L2042.54 168.417 Q2041.22 170.709 2039.16 171.843 Q2037.1 172.978 2034.23 172.978 Q2029.46 172.978 2026.54 169.343 Q2023.63 165.709 2023.63 159.714 Q2023.63 153.695 2026.54 150.061 Q2029.46 146.427 2034.23 146.427 Q2037.1 146.427 2039.16 147.561 Q2041.22 148.695 2042.54 150.987 L2042.54 147.052 L2046.8 147.052 L2046.8 169.76 Z\" fill=\"#000000\" fill-rule=\"evenodd\" fill-opacity=\"1\" /><path clip-path=\"url(#clip750)\" d=\"M 0 0 M2061.31 150.038 Q2057.89 150.038 2055.9 152.723 Q2053.91 155.385 2053.91 160.038 Q2053.91 164.691 2055.87 167.376 Q2057.86 170.038 2061.31 170.038 Q2064.72 170.038 2066.71 167.353 Q2068.7 164.667 2068.7 160.038 Q2068.7 155.431 2066.71 152.746 Q2064.72 150.038 2061.31 150.038 M2061.31 146.427 Q2066.87 146.427 2070.04 150.038 Q2073.21 153.649 2073.21 160.038 Q2073.21 166.404 2070.04 170.038 Q2066.87 173.649 2061.31 173.649 Q2055.73 173.649 2052.56 170.038 Q2049.41 166.404 2049.41 160.038 Q2049.41 153.649 2052.56 150.038 Q2055.73 146.427 2061.31 146.427 Z\" fill=\"#000000\" fill-rule=\"evenodd\" fill-opacity=\"1\" /><path clip-path=\"url(#clip750)\" d=\"M 0 0 M2077.82 136.959 L2082.08 136.959 L2082.08 150.894 L2084.97 148.811 L2086.73 151.265 L2082.08 154.529 L2082.08 172.978 L2077.82 172.978 L2077.82 157.561 L2074.97 159.598 L2073.26 157.144 L2077.82 153.88 L2077.82 136.959 Z\" fill=\"#000000\" fill-rule=\"evenodd\" fill-opacity=\"1\" /><path clip-path=\"url(#clip750)\" d=\"M 0 0 M2113.37 158.95 L2113.37 161.033 L2093.79 161.033 Q2094.07 165.431 2096.43 167.746 Q2098.81 170.038 2103.05 170.038 Q2105.5 170.038 2107.79 169.436 Q2110.11 168.834 2112.38 167.63 L2112.38 171.658 Q2110.09 172.63 2107.68 173.14 Q2105.27 173.649 2102.79 173.649 Q2096.59 173.649 2092.96 170.038 Q2089.34 166.427 2089.34 160.269 Q2089.34 153.904 2092.77 150.177 Q2096.22 146.427 2102.05 146.427 Q2107.28 146.427 2110.32 149.806 Q2113.37 153.163 2113.37 158.95 M2109.11 157.7 Q2109.07 154.205 2107.15 152.121 Q2105.25 150.038 2102.1 150.038 Q2098.53 150.038 2096.38 152.052 Q2094.25 154.066 2093.93 157.723 L2109.11 157.7 M2105.62 172.978 L2108.37 172.978 Q2107.33 174.39 2106.82 175.408 Q2106.34 176.427 2106.34 177.144 Q2106.34 178.209 2106.96 178.741 Q2107.61 179.274 2108.86 179.274 Q2109.6 179.274 2110.32 179.089 Q2111.03 178.927 2111.75 178.579 L2111.75 181.658 Q2110.87 181.89 2110.09 182.005 Q2109.3 182.121 2108.6 182.121 Q2105.78 182.121 2104.44 181.103 Q2103.12 180.107 2103.12 177.954 Q2103.12 176.843 2103.72 175.616 Q2104.34 174.413 2105.62 172.978 Z\" fill=\"#000000\" fill-rule=\"evenodd\" fill-opacity=\"1\" /><path clip-path=\"url(#clip750)\" d=\"M 0 0 M2136.45 160.038 Q2136.45 155.339 2134.51 152.677 Q2132.59 149.992 2129.21 149.992 Q2125.83 149.992 2123.88 152.677 Q2121.96 155.339 2121.96 160.038 Q2121.96 164.737 2123.88 167.422 Q2125.83 170.084 2129.21 170.084 Q2132.59 170.084 2134.51 167.422 Q2136.45 164.737 2136.45 160.038 M2121.96 150.987 Q2123.3 148.672 2125.34 147.561 Q2127.4 146.427 2130.25 146.427 Q2134.97 146.427 2137.91 150.177 Q2140.87 153.927 2140.87 160.038 Q2140.87 166.149 2137.91 169.899 Q2134.97 173.649 2130.25 173.649 Q2127.4 173.649 2125.34 172.538 Q2123.3 171.403 2121.96 169.089 L2121.96 172.978 L2117.68 172.978 L2117.68 136.959 L2121.96 136.959 L2121.96 150.987 Z\" fill=\"#000000\" fill-rule=\"evenodd\" fill-opacity=\"1\" /><path clip-path=\"url(#clip750)\" d=\"M 0 0 M2145.34 147.052 L2149.6 147.052 L2149.6 172.978 L2145.34 172.978 L2145.34 147.052 M2145.34 136.959 L2149.6 136.959 L2149.6 142.353 L2145.34 142.353 L2145.34 136.959 Z\" fill=\"#000000\" fill-rule=\"evenodd\" fill-opacity=\"1\" /><path clip-path=\"url(#clip750)\" d=\"M 0 0 M2176.24 158.95 L2176.24 161.033 L2156.66 161.033 Q2156.94 165.431 2159.3 167.746 Q2161.68 170.038 2165.92 170.038 Q2168.37 170.038 2170.66 169.436 Q2172.98 168.834 2175.25 167.63 L2175.25 171.658 Q2172.96 172.63 2170.55 173.14 Q2168.14 173.649 2165.66 173.649 Q2159.46 173.649 2155.83 170.038 Q2152.21 166.427 2152.21 160.269 Q2152.21 153.904 2155.64 150.177 Q2159.09 146.427 2164.92 146.427 Q2170.15 146.427 2173.19 149.806 Q2176.24 153.163 2176.24 158.95 M2171.98 157.7 Q2171.94 154.205 2170.02 152.121 Q2168.12 150.038 2164.97 150.038 Q2161.4 150.038 2159.25 152.052 Q2157.12 154.066 2156.8 157.723 L2171.98 157.7 Z\" fill=\"#000000\" fill-rule=\"evenodd\" fill-opacity=\"1\" /><polyline clip-path=\"url(#clip750)\" style=\"stroke:#008000; stroke-width:4; stroke-opacity:1; fill:none\" points=\"\n",
       "  1851.27,216.178 1999.01,216.178 \n",
       "  \"/>\n",
       "<path clip-path=\"url(#clip750)\" d=\"M 0 0 M2028.95 207.532 L2033.21 207.532 L2033.21 233.921 Q2033.21 238.874 2031.31 241.096 Q2029.44 243.319 2025.25 243.319 L2023.63 243.319 L2023.63 239.708 L2024.76 239.708 Q2027.19 239.708 2028.07 238.573 Q2028.95 237.462 2028.95 233.921 L2028.95 207.532 M2028.95 197.439 L2033.21 197.439 L2033.21 202.833 L2028.95 202.833 L2028.95 197.439 Z\" fill=\"#000000\" fill-rule=\"evenodd\" fill-opacity=\"1\" /><path clip-path=\"url(#clip750)\" d=\"M 0 0 M2049.46 220.425 Q2044.3 220.425 2042.31 221.606 Q2040.32 222.786 2040.32 225.634 Q2040.32 227.902 2041.8 229.245 Q2043.3 230.564 2045.87 230.564 Q2049.41 230.564 2051.54 228.064 Q2053.7 225.541 2053.7 221.374 L2053.7 220.425 L2049.46 220.425 M2057.96 218.666 L2057.96 233.458 L2053.7 233.458 L2053.7 229.522 Q2052.24 231.883 2050.06 233.018 Q2047.89 234.129 2044.74 234.129 Q2040.76 234.129 2038.4 231.907 Q2036.06 229.661 2036.06 225.911 Q2036.06 221.536 2038.97 219.314 Q2041.91 217.092 2047.72 217.092 L2053.7 217.092 L2053.7 216.675 Q2053.7 213.735 2051.75 212.138 Q2049.83 210.518 2046.34 210.518 Q2044.11 210.518 2042.01 211.05 Q2039.9 211.583 2037.96 212.647 L2037.96 208.712 Q2040.29 207.81 2042.49 207.37 Q2044.69 206.907 2046.78 206.907 Q2052.4 206.907 2055.18 209.823 Q2057.96 212.74 2057.96 218.666 Z\" fill=\"#000000\" fill-rule=\"evenodd\" fill-opacity=\"1\" /><path clip-path=\"url(#clip750)\" d=\"M 0 0 M2078.95 208.296 L2078.95 212.323 Q2077.15 211.397 2075.2 210.935 Q2073.26 210.472 2071.17 210.472 Q2068 210.472 2066.41 211.444 Q2064.83 212.416 2064.83 214.36 Q2064.83 215.842 2065.97 216.698 Q2067.1 217.532 2070.53 218.296 L2071.98 218.62 Q2076.52 219.592 2078.42 221.374 Q2080.34 223.134 2080.34 226.305 Q2080.34 229.916 2077.47 232.022 Q2074.62 234.129 2069.62 234.129 Q2067.54 234.129 2065.27 233.712 Q2063.03 233.319 2060.53 232.508 L2060.53 228.11 Q2062.89 229.337 2065.18 229.962 Q2067.47 230.564 2069.72 230.564 Q2072.72 230.564 2074.34 229.546 Q2075.97 228.504 2075.97 226.629 Q2075.97 224.893 2074.78 223.967 Q2073.63 223.041 2069.67 222.184 L2068.19 221.837 Q2064.23 221.004 2062.47 219.291 Q2060.71 217.555 2060.71 214.546 Q2060.71 210.888 2063.3 208.898 Q2065.9 206.907 2070.66 206.907 Q2073.03 206.907 2075.11 207.254 Q2077.19 207.601 2078.95 208.296 Z\" fill=\"#000000\" fill-rule=\"evenodd\" fill-opacity=\"1\" /><path clip-path=\"url(#clip750)\" d=\"M 0 0 M2089.02 200.171 L2089.02 207.532 L2097.79 207.532 L2097.79 210.842 L2089.02 210.842 L2089.02 224.916 Q2089.02 228.087 2089.88 228.99 Q2090.76 229.893 2093.42 229.893 L2097.79 229.893 L2097.79 233.458 L2093.42 233.458 Q2088.49 233.458 2086.61 231.629 Q2084.74 229.777 2084.74 224.916 L2084.74 210.842 L2081.61 210.842 L2081.61 207.532 L2084.74 207.532 L2084.74 200.171 L2089.02 200.171 Z\" fill=\"#000000\" fill-rule=\"evenodd\" fill-opacity=\"1\" /><path clip-path=\"url(#clip750)\" d=\"M 0 0 M2117.28 211.513 Q2116.57 211.097 2115.71 210.911 Q2114.88 210.703 2113.86 210.703 Q2110.25 210.703 2108.3 213.064 Q2106.38 215.402 2106.38 219.8 L2106.38 233.458 L2102.1 233.458 L2102.1 207.532 L2106.38 207.532 L2106.38 211.56 Q2107.72 209.198 2109.88 208.064 Q2112.03 206.907 2115.11 206.907 Q2115.55 206.907 2116.08 206.976 Q2116.61 207.023 2117.26 207.138 L2117.28 211.513 Z\" fill=\"#000000\" fill-rule=\"evenodd\" fill-opacity=\"1\" /><path clip-path=\"url(#clip750)\" d=\"M 0 0 M2119.9 207.532 L2140.13 207.532 L2140.13 211.421 L2124.11 230.055 L2140.13 230.055 L2140.13 233.458 L2119.32 233.458 L2119.32 229.569 L2135.34 210.935 L2119.9 210.935 L2119.9 207.532 Z\" fill=\"#000000\" fill-rule=\"evenodd\" fill-opacity=\"1\" /><path clip-path=\"url(#clip750)\" d=\"M 0 0 M2166.78 219.43 L2166.78 221.513 L2147.19 221.513 Q2147.47 225.911 2149.83 228.226 Q2152.21 230.518 2156.45 230.518 Q2158.9 230.518 2161.2 229.916 Q2163.51 229.314 2165.78 228.11 L2165.78 232.138 Q2163.49 233.11 2161.08 233.62 Q2158.67 234.129 2156.2 234.129 Q2149.99 234.129 2146.36 230.518 Q2142.75 226.907 2142.75 220.749 Q2142.75 214.384 2146.17 210.657 Q2149.62 206.907 2155.46 206.907 Q2160.69 206.907 2163.72 210.286 Q2166.78 213.643 2166.78 219.43 M2162.52 218.18 Q2162.47 214.685 2160.55 212.601 Q2158.65 210.518 2155.5 210.518 Q2151.94 210.518 2149.78 212.532 Q2147.65 214.546 2147.33 218.203 L2162.52 218.18 M2159.02 233.458 L2161.78 233.458 Q2160.73 234.87 2160.22 235.888 Q2159.74 236.907 2159.74 237.624 Q2159.74 238.689 2160.36 239.221 Q2161.01 239.754 2162.26 239.754 Q2163 239.754 2163.72 239.569 Q2164.44 239.407 2165.15 239.059 L2165.15 242.138 Q2164.28 242.37 2163.49 242.485 Q2162.7 242.601 2162.01 242.601 Q2159.18 242.601 2157.84 241.583 Q2156.52 240.587 2156.52 238.434 Q2156.52 237.323 2157.12 236.096 Q2157.75 234.893 2159.02 233.458 Z\" fill=\"#000000\" fill-rule=\"evenodd\" fill-opacity=\"1\" /><path clip-path=\"url(#clip750)\" d=\"M 0 0 M2189.85 220.518 Q2189.85 215.819 2187.91 213.157 Q2185.99 210.472 2182.61 210.472 Q2179.23 210.472 2177.28 213.157 Q2175.36 215.819 2175.36 220.518 Q2175.36 225.217 2177.28 227.902 Q2179.23 230.564 2182.61 230.564 Q2185.99 230.564 2187.91 227.902 Q2189.85 225.217 2189.85 220.518 M2175.36 211.467 Q2176.71 209.152 2178.74 208.041 Q2180.8 206.907 2183.65 206.907 Q2188.37 206.907 2191.31 210.657 Q2194.27 214.407 2194.27 220.518 Q2194.27 226.629 2191.31 230.379 Q2188.37 234.129 2183.65 234.129 Q2180.8 234.129 2178.74 233.018 Q2176.71 231.883 2175.36 229.569 L2175.36 233.458 L2171.08 233.458 L2171.08 197.439 L2175.36 197.439 L2175.36 211.467 Z\" fill=\"#000000\" fill-rule=\"evenodd\" fill-opacity=\"1\" /><path clip-path=\"url(#clip750)\" d=\"M 0 0 M2198.74 207.532 L2203 207.532 L2203 233.458 L2198.74 233.458 L2198.74 207.532 M2198.74 197.439 L2203 197.439 L2203 202.833 L2198.74 202.833 L2198.74 197.439 Z\" fill=\"#000000\" fill-rule=\"evenodd\" fill-opacity=\"1\" /><path clip-path=\"url(#clip750)\" d=\"M 0 0 M2229.65 219.43 L2229.65 221.513 L2210.06 221.513 Q2210.34 225.911 2212.7 228.226 Q2215.08 230.518 2219.32 230.518 Q2221.77 230.518 2224.07 229.916 Q2226.38 229.314 2228.65 228.11 L2228.65 232.138 Q2226.36 233.11 2223.95 233.62 Q2221.54 234.129 2219.07 234.129 Q2212.86 234.129 2209.23 230.518 Q2205.62 226.907 2205.62 220.749 Q2205.62 214.384 2209.04 210.657 Q2212.49 206.907 2218.33 206.907 Q2223.56 206.907 2226.59 210.286 Q2229.65 213.643 2229.65 219.43 M2225.39 218.18 Q2225.34 214.685 2223.42 212.601 Q2221.52 210.518 2218.37 210.518 Q2214.81 210.518 2212.65 212.532 Q2210.52 214.546 2210.2 218.203 L2225.39 218.18 Z\" fill=\"#000000\" fill-rule=\"evenodd\" fill-opacity=\"1\" /></svg>\n"
      ]
     },
     "execution_count": 50,
     "metadata": {},
     "output_type": "execute_result"
    }
   ],
   "source": [
    "plot(1:size(A)[1], A[:, 1], label=\"gołębie\", color= :purple)\n",
    "plot!(1:size(A)[1], A[:, 2], label=\"jastrzębie\", color= :green)"
   ]
  },
  {
   "cell_type": "code",
   "execution_count": 51,
   "metadata": {},
   "outputs": [
    {
     "data": {
      "image/svg+xml": [
       "<?xml version=\"1.0\" encoding=\"utf-8\"?>\n",
       "<svg xmlns=\"http://www.w3.org/2000/svg\" xmlns:xlink=\"http://www.w3.org/1999/xlink\" width=\"600\" height=\"400\" viewBox=\"0 0 2400 1600\">\n",
       "<defs>\n",
       "  <clipPath id=\"clip790\">\n",
       "    <rect x=\"0\" y=\"0\" width=\"2400\" height=\"1600\"/>\n",
       "  </clipPath>\n",
       "</defs>\n",
       "<path clip-path=\"url(#clip790)\" d=\"\n",
       "M0 1600 L2400 1600 L2400 0 L0 0  Z\n",
       "  \" fill=\"#ffffff\" fill-rule=\"evenodd\" fill-opacity=\"1\"/>\n",
       "<defs>\n",
       "  <clipPath id=\"clip791\">\n",
       "    <rect x=\"480\" y=\"0\" width=\"1681\" height=\"1600\"/>\n",
       "  </clipPath>\n",
       "</defs>\n",
       "<path clip-path=\"url(#clip790)\" d=\"\n",
       "M173.728 1486.45 L2352.76 1486.45 L2352.76 47.2441 L173.728 47.2441  Z\n",
       "  \" fill=\"#ffffff\" fill-rule=\"evenodd\" fill-opacity=\"1\"/>\n",
       "<defs>\n",
       "  <clipPath id=\"clip792\">\n",
       "    <rect x=\"173\" y=\"47\" width=\"2180\" height=\"1440\"/>\n",
       "  </clipPath>\n",
       "</defs>\n",
       "<polyline clip-path=\"url(#clip792)\" style=\"stroke:#000000; stroke-width:2; stroke-opacity:0.1; fill:none\" points=\"\n",
       "  214.634,1486.45 214.634,47.2441 \n",
       "  \"/>\n",
       "<polyline clip-path=\"url(#clip792)\" style=\"stroke:#000000; stroke-width:2; stroke-opacity:0.1; fill:none\" points=\"\n",
       "  733.747,1486.45 733.747,47.2441 \n",
       "  \"/>\n",
       "<polyline clip-path=\"url(#clip792)\" style=\"stroke:#000000; stroke-width:2; stroke-opacity:0.1; fill:none\" points=\"\n",
       "  1252.86,1486.45 1252.86,47.2441 \n",
       "  \"/>\n",
       "<polyline clip-path=\"url(#clip792)\" style=\"stroke:#000000; stroke-width:2; stroke-opacity:0.1; fill:none\" points=\"\n",
       "  1771.97,1486.45 1771.97,47.2441 \n",
       "  \"/>\n",
       "<polyline clip-path=\"url(#clip792)\" style=\"stroke:#000000; stroke-width:2; stroke-opacity:0.1; fill:none\" points=\"\n",
       "  2291.09,1486.45 2291.09,47.2441 \n",
       "  \"/>\n",
       "<polyline clip-path=\"url(#clip790)\" style=\"stroke:#000000; stroke-width:4; stroke-opacity:1; fill:none\" points=\"\n",
       "  173.728,1486.45 2352.76,1486.45 \n",
       "  \"/>\n",
       "<polyline clip-path=\"url(#clip790)\" style=\"stroke:#000000; stroke-width:4; stroke-opacity:1; fill:none\" points=\"\n",
       "  214.634,1486.45 214.634,1469.18 \n",
       "  \"/>\n",
       "<polyline clip-path=\"url(#clip790)\" style=\"stroke:#000000; stroke-width:4; stroke-opacity:1; fill:none\" points=\"\n",
       "  733.747,1486.45 733.747,1469.18 \n",
       "  \"/>\n",
       "<polyline clip-path=\"url(#clip790)\" style=\"stroke:#000000; stroke-width:4; stroke-opacity:1; fill:none\" points=\"\n",
       "  1252.86,1486.45 1252.86,1469.18 \n",
       "  \"/>\n",
       "<polyline clip-path=\"url(#clip790)\" style=\"stroke:#000000; stroke-width:4; stroke-opacity:1; fill:none\" points=\"\n",
       "  1771.97,1486.45 1771.97,1469.18 \n",
       "  \"/>\n",
       "<polyline clip-path=\"url(#clip790)\" style=\"stroke:#000000; stroke-width:4; stroke-opacity:1; fill:none\" points=\"\n",
       "  2291.09,1486.45 2291.09,1469.18 \n",
       "  \"/>\n",
       "<path clip-path=\"url(#clip790)\" d=\"M 0 0 M214.634 1515.64 Q211.023 1515.64 209.194 1519.2 Q207.389 1522.75 207.389 1529.87 Q207.389 1536.98 209.194 1540.55 Q211.023 1544.09 214.634 1544.09 Q218.268 1544.09 220.074 1540.55 Q221.902 1536.98 221.902 1529.87 Q221.902 1522.75 220.074 1519.2 Q218.268 1515.64 214.634 1515.64 M214.634 1511.93 Q220.444 1511.93 223.5 1516.54 Q226.578 1521.12 226.578 1529.87 Q226.578 1538.6 223.5 1543.21 Q220.444 1547.79 214.634 1547.79 Q208.824 1547.79 205.745 1543.21 Q202.689 1538.6 202.689 1529.87 Q202.689 1521.12 205.745 1516.54 Q208.824 1511.93 214.634 1511.93 Z\" fill=\"#000000\" fill-rule=\"evenodd\" fill-opacity=\"1\" /><path clip-path=\"url(#clip790)\" d=\"M 0 0 M715.39 1543.18 L731.71 1543.18 L731.71 1547.12 L709.765 1547.12 L709.765 1543.18 Q712.427 1540.43 717.011 1535.8 Q721.617 1531.15 722.798 1529.81 Q725.043 1527.28 725.923 1525.55 Q726.825 1523.79 726.825 1522.1 Q726.825 1519.34 724.881 1517.61 Q722.96 1515.87 719.858 1515.87 Q717.659 1515.87 715.205 1516.63 Q712.775 1517.4 709.997 1518.95 L709.997 1514.23 Q712.821 1513.09 715.275 1512.51 Q717.728 1511.93 719.765 1511.93 Q725.136 1511.93 728.33 1514.62 Q731.525 1517.31 731.525 1521.8 Q731.525 1523.93 730.714 1525.85 Q729.927 1527.74 727.821 1530.34 Q727.242 1531.01 724.14 1534.23 Q721.038 1537.42 715.39 1543.18 Z\" fill=\"#000000\" fill-rule=\"evenodd\" fill-opacity=\"1\" /><path clip-path=\"url(#clip790)\" d=\"M 0 0 M736.825 1512.56 L755.182 1512.56 L755.182 1516.5 L741.108 1516.5 L741.108 1524.97 Q742.126 1524.62 743.145 1524.46 Q744.163 1524.27 745.182 1524.27 Q750.969 1524.27 754.348 1527.44 Q757.728 1530.62 757.728 1536.03 Q757.728 1541.61 754.256 1544.71 Q750.784 1547.79 744.464 1547.79 Q742.288 1547.79 740.02 1547.42 Q737.774 1547.05 735.367 1546.31 L735.367 1541.61 Q737.45 1542.74 739.673 1543.3 Q741.895 1543.86 744.372 1543.86 Q748.376 1543.86 750.714 1541.75 Q753.052 1539.64 753.052 1536.03 Q753.052 1532.42 750.714 1530.31 Q748.376 1528.21 744.372 1528.21 Q742.497 1528.21 740.622 1528.62 Q738.77 1529.04 736.825 1529.92 L736.825 1512.56 Z\" fill=\"#000000\" fill-rule=\"evenodd\" fill-opacity=\"1\" /><path clip-path=\"url(#clip790)\" d=\"M 0 0 M1229.63 1512.56 L1247.99 1512.56 L1247.99 1516.5 L1233.91 1516.5 L1233.91 1524.97 Q1234.93 1524.62 1235.95 1524.46 Q1236.97 1524.27 1237.99 1524.27 Q1243.77 1524.27 1247.15 1527.44 Q1250.53 1530.62 1250.53 1536.03 Q1250.53 1541.61 1247.06 1544.71 Q1243.59 1547.79 1237.27 1547.79 Q1235.09 1547.79 1232.82 1547.42 Q1230.58 1547.05 1228.17 1546.31 L1228.17 1541.61 Q1230.26 1542.74 1232.48 1543.3 Q1234.7 1543.86 1237.18 1543.86 Q1241.18 1543.86 1243.52 1541.75 Q1245.86 1539.64 1245.86 1536.03 Q1245.86 1532.42 1243.52 1530.31 Q1241.18 1528.21 1237.18 1528.21 Q1235.3 1528.21 1233.43 1528.62 Q1231.57 1529.04 1229.63 1529.92 L1229.63 1512.56 Z\" fill=\"#000000\" fill-rule=\"evenodd\" fill-opacity=\"1\" /><path clip-path=\"url(#clip790)\" d=\"M 0 0 M1265.6 1515.64 Q1261.99 1515.64 1260.16 1519.2 Q1258.36 1522.75 1258.36 1529.87 Q1258.36 1536.98 1260.16 1540.55 Q1261.99 1544.09 1265.6 1544.09 Q1269.24 1544.09 1271.04 1540.55 Q1272.87 1536.98 1272.87 1529.87 Q1272.87 1522.75 1271.04 1519.2 Q1269.24 1515.64 1265.6 1515.64 M1265.6 1511.93 Q1271.41 1511.93 1274.47 1516.54 Q1277.55 1521.12 1277.55 1529.87 Q1277.55 1538.6 1274.47 1543.21 Q1271.41 1547.79 1265.6 1547.79 Q1259.79 1547.79 1256.71 1543.21 Q1253.66 1538.6 1253.66 1529.87 Q1253.66 1521.12 1256.71 1516.54 Q1259.79 1511.93 1265.6 1511.93 Z\" fill=\"#000000\" fill-rule=\"evenodd\" fill-opacity=\"1\" /><path clip-path=\"url(#clip790)\" d=\"M 0 0 M1747.85 1512.56 L1770.07 1512.56 L1770.07 1514.55 L1757.53 1547.12 L1752.64 1547.12 L1764.45 1516.5 L1747.85 1516.5 L1747.85 1512.56 Z\" fill=\"#000000\" fill-rule=\"evenodd\" fill-opacity=\"1\" /><path clip-path=\"url(#clip790)\" d=\"M 0 0 M1775.19 1512.56 L1793.55 1512.56 L1793.55 1516.5 L1779.47 1516.5 L1779.47 1524.97 Q1780.49 1524.62 1781.51 1524.46 Q1782.53 1524.27 1783.55 1524.27 Q1789.33 1524.27 1792.71 1527.44 Q1796.09 1530.62 1796.09 1536.03 Q1796.09 1541.61 1792.62 1544.71 Q1789.15 1547.79 1782.83 1547.79 Q1780.65 1547.79 1778.38 1547.42 Q1776.14 1547.05 1773.73 1546.31 L1773.73 1541.61 Q1775.82 1542.74 1778.04 1543.3 Q1780.26 1543.86 1782.74 1543.86 Q1786.74 1543.86 1789.08 1541.75 Q1791.42 1539.64 1791.42 1536.03 Q1791.42 1532.42 1789.08 1530.31 Q1786.74 1528.21 1782.74 1528.21 Q1780.86 1528.21 1778.99 1528.62 Q1777.13 1529.04 1775.19 1529.92 L1775.19 1512.56 Z\" fill=\"#000000\" fill-rule=\"evenodd\" fill-opacity=\"1\" /><path clip-path=\"url(#clip790)\" d=\"M 0 0 M2254.45 1543.18 L2262.09 1543.18 L2262.09 1516.82 L2253.78 1518.49 L2253.78 1514.23 L2262.05 1512.56 L2266.72 1512.56 L2266.72 1543.18 L2274.36 1543.18 L2274.36 1547.12 L2254.45 1547.12 L2254.45 1543.18 Z\" fill=\"#000000\" fill-rule=\"evenodd\" fill-opacity=\"1\" /><path clip-path=\"url(#clip790)\" d=\"M 0 0 M2289.43 1515.64 Q2285.82 1515.64 2283.99 1519.2 Q2282.18 1522.75 2282.18 1529.87 Q2282.18 1536.98 2283.99 1540.55 Q2285.82 1544.09 2289.43 1544.09 Q2293.06 1544.09 2294.87 1540.55 Q2296.7 1536.98 2296.7 1529.87 Q2296.7 1522.75 2294.87 1519.2 Q2293.06 1515.64 2289.43 1515.64 M2289.43 1511.93 Q2295.24 1511.93 2298.3 1516.54 Q2301.37 1521.12 2301.37 1529.87 Q2301.37 1538.6 2298.3 1543.21 Q2295.24 1547.79 2289.43 1547.79 Q2283.62 1547.79 2280.54 1543.21 Q2277.49 1538.6 2277.49 1529.87 Q2277.49 1521.12 2280.54 1516.54 Q2283.62 1511.93 2289.43 1511.93 Z\" fill=\"#000000\" fill-rule=\"evenodd\" fill-opacity=\"1\" /><path clip-path=\"url(#clip790)\" d=\"M 0 0 M2316.44 1515.64 Q2312.83 1515.64 2311 1519.2 Q2309.2 1522.75 2309.2 1529.87 Q2309.2 1536.98 2311 1540.55 Q2312.83 1544.09 2316.44 1544.09 Q2320.08 1544.09 2321.88 1540.55 Q2323.71 1536.98 2323.71 1529.87 Q2323.71 1522.75 2321.88 1519.2 Q2320.08 1515.64 2316.44 1515.64 M2316.44 1511.93 Q2322.25 1511.93 2325.31 1516.54 Q2328.39 1521.12 2328.39 1529.87 Q2328.39 1538.6 2325.31 1543.21 Q2322.25 1547.79 2316.44 1547.79 Q2310.63 1547.79 2307.56 1543.21 Q2304.5 1538.6 2304.5 1529.87 Q2304.5 1521.12 2307.56 1516.54 Q2310.63 1511.93 2316.44 1511.93 Z\" fill=\"#000000\" fill-rule=\"evenodd\" fill-opacity=\"1\" /><polyline clip-path=\"url(#clip792)\" style=\"stroke:#000000; stroke-width:2; stroke-opacity:0.1; fill:none\" points=\"\n",
       "  173.728,1300.24 2352.76,1300.24 \n",
       "  \"/>\n",
       "<polyline clip-path=\"url(#clip792)\" style=\"stroke:#000000; stroke-width:2; stroke-opacity:0.1; fill:none\" points=\"\n",
       "  173.728,1057.79 2352.76,1057.79 \n",
       "  \"/>\n",
       "<polyline clip-path=\"url(#clip792)\" style=\"stroke:#000000; stroke-width:2; stroke-opacity:0.1; fill:none\" points=\"\n",
       "  173.728,815.337 2352.76,815.337 \n",
       "  \"/>\n",
       "<polyline clip-path=\"url(#clip792)\" style=\"stroke:#000000; stroke-width:2; stroke-opacity:0.1; fill:none\" points=\"\n",
       "  173.728,572.883 2352.76,572.883 \n",
       "  \"/>\n",
       "<polyline clip-path=\"url(#clip792)\" style=\"stroke:#000000; stroke-width:2; stroke-opacity:0.1; fill:none\" points=\"\n",
       "  173.728,330.43 2352.76,330.43 \n",
       "  \"/>\n",
       "<polyline clip-path=\"url(#clip792)\" style=\"stroke:#000000; stroke-width:2; stroke-opacity:0.1; fill:none\" points=\"\n",
       "  173.728,87.9763 2352.76,87.9763 \n",
       "  \"/>\n",
       "<polyline clip-path=\"url(#clip790)\" style=\"stroke:#000000; stroke-width:4; stroke-opacity:1; fill:none\" points=\"\n",
       "  173.728,1486.45 173.728,47.2441 \n",
       "  \"/>\n",
       "<polyline clip-path=\"url(#clip790)\" style=\"stroke:#000000; stroke-width:4; stroke-opacity:1; fill:none\" points=\"\n",
       "  173.728,1300.24 199.876,1300.24 \n",
       "  \"/>\n",
       "<polyline clip-path=\"url(#clip790)\" style=\"stroke:#000000; stroke-width:4; stroke-opacity:1; fill:none\" points=\"\n",
       "  173.728,1057.79 199.876,1057.79 \n",
       "  \"/>\n",
       "<polyline clip-path=\"url(#clip790)\" style=\"stroke:#000000; stroke-width:4; stroke-opacity:1; fill:none\" points=\"\n",
       "  173.728,815.337 199.876,815.337 \n",
       "  \"/>\n",
       "<polyline clip-path=\"url(#clip790)\" style=\"stroke:#000000; stroke-width:4; stroke-opacity:1; fill:none\" points=\"\n",
       "  173.728,572.883 199.876,572.883 \n",
       "  \"/>\n",
       "<polyline clip-path=\"url(#clip790)\" style=\"stroke:#000000; stroke-width:4; stroke-opacity:1; fill:none\" points=\"\n",
       "  173.728,330.43 199.876,330.43 \n",
       "  \"/>\n",
       "<polyline clip-path=\"url(#clip790)\" style=\"stroke:#000000; stroke-width:4; stroke-opacity:1; fill:none\" points=\"\n",
       "  173.728,87.9763 199.876,87.9763 \n",
       "  \"/>\n",
       "<path clip-path=\"url(#clip790)\" d=\"M 0 0 M55.7375 1313.59 L63.3763 1313.59 L63.3763 1287.22 L55.0662 1288.89 L55.0662 1284.63 L63.33 1282.96 L68.0059 1282.96 L68.0059 1313.59 L75.6448 1313.59 L75.6448 1317.52 L55.7375 1317.52 L55.7375 1313.59 Z\" fill=\"#000000\" fill-rule=\"evenodd\" fill-opacity=\"1\" /><path clip-path=\"url(#clip790)\" d=\"M 0 0 M79.5336 1282.96 L101.756 1282.96 L101.756 1284.95 L89.2095 1317.52 L84.3253 1317.52 L96.1308 1286.9 L79.5336 1286.9 L79.5336 1282.96 Z\" fill=\"#000000\" fill-rule=\"evenodd\" fill-opacity=\"1\" /><path clip-path=\"url(#clip790)\" d=\"M 0 0 M106.825 1311.64 L111.709 1311.64 L111.709 1317.52 L106.825 1317.52 L106.825 1311.64 Z\" fill=\"#000000\" fill-rule=\"evenodd\" fill-opacity=\"1\" /><path clip-path=\"url(#clip790)\" d=\"M 0 0 M116.825 1282.96 L135.181 1282.96 L135.181 1286.9 L121.107 1286.9 L121.107 1295.37 Q122.126 1295.02 123.145 1294.86 Q124.163 1294.68 125.182 1294.68 Q130.969 1294.68 134.348 1297.85 Q137.728 1301.02 137.728 1306.44 Q137.728 1312.01 134.256 1315.12 Q130.783 1318.19 124.464 1318.19 Q122.288 1318.19 120.02 1317.82 Q117.774 1317.45 115.367 1316.71 L115.367 1312.01 Q117.45 1313.15 119.672 1313.7 Q121.895 1314.26 124.371 1314.26 Q128.376 1314.26 130.714 1312.15 Q133.052 1310.05 133.052 1306.44 Q133.052 1302.82 130.714 1300.72 Q128.376 1298.61 124.371 1298.61 Q122.496 1298.61 120.621 1299.03 Q118.77 1299.45 116.825 1300.32 L116.825 1282.96 Z\" fill=\"#000000\" fill-rule=\"evenodd\" fill-opacity=\"1\" /><path clip-path=\"url(#clip790)\" d=\"M 0 0 M57.4273 1071.13 L73.7466 1071.13 L73.7466 1075.07 L51.8023 1075.07 L51.8023 1071.13 Q54.4643 1068.38 59.0476 1063.75 Q63.6541 1059.1 64.8346 1057.76 Q67.08 1055.23 67.9596 1053.5 Q68.8624 1051.74 68.8624 1050.05 Q68.8624 1047.29 66.918 1045.56 Q64.9967 1043.82 61.8948 1043.82 Q59.6958 1043.82 57.2421 1044.58 Q54.8115 1045.35 52.0338 1046.9 L52.0338 1042.18 Q54.8578 1041.04 57.3115 1040.46 Q59.7652 1039.89 61.8023 1039.89 Q67.1726 1039.89 70.367 1042.57 Q73.5614 1045.26 73.5614 1049.75 Q73.5614 1051.88 72.7513 1053.8 Q71.9642 1055.7 69.8578 1058.29 Q69.2791 1058.96 66.1772 1062.18 Q63.0754 1065.37 57.4273 1071.13 Z\" fill=\"#000000\" fill-rule=\"evenodd\" fill-opacity=\"1\" /><path clip-path=\"url(#clip790)\" d=\"M 0 0 M88.816 1043.59 Q85.2049 1043.59 83.3762 1047.15 Q81.5707 1050.7 81.5707 1057.82 Q81.5707 1064.93 83.3762 1068.5 Q85.2049 1072.04 88.816 1072.04 Q92.4502 1072.04 94.2558 1068.5 Q96.0845 1064.93 96.0845 1057.82 Q96.0845 1050.7 94.2558 1047.15 Q92.4502 1043.59 88.816 1043.59 M88.816 1039.89 Q94.6262 1039.89 97.6817 1044.49 Q100.76 1049.07 100.76 1057.82 Q100.76 1066.55 97.6817 1071.16 Q94.6262 1075.74 88.816 1075.74 Q83.0058 1075.74 79.9272 1071.16 Q76.8716 1066.55 76.8716 1057.82 Q76.8716 1049.07 79.9272 1044.49 Q83.0058 1039.89 88.816 1039.89 Z\" fill=\"#000000\" fill-rule=\"evenodd\" fill-opacity=\"1\" /><path clip-path=\"url(#clip790)\" d=\"M 0 0 M105.83 1069.19 L110.714 1069.19 L110.714 1075.07 L105.83 1075.07 L105.83 1069.19 Z\" fill=\"#000000\" fill-rule=\"evenodd\" fill-opacity=\"1\" /><path clip-path=\"url(#clip790)\" d=\"M 0 0 M125.783 1043.59 Q122.172 1043.59 120.344 1047.15 Q118.538 1050.7 118.538 1057.82 Q118.538 1064.93 120.344 1068.5 Q122.172 1072.04 125.783 1072.04 Q129.418 1072.04 131.223 1068.5 Q133.052 1064.93 133.052 1057.82 Q133.052 1050.7 131.223 1047.15 Q129.418 1043.59 125.783 1043.59 M125.783 1039.89 Q131.594 1039.89 134.649 1044.49 Q137.728 1049.07 137.728 1057.82 Q137.728 1066.55 134.649 1071.16 Q131.594 1075.74 125.783 1075.74 Q119.973 1075.74 116.895 1071.16 Q113.839 1066.55 113.839 1057.82 Q113.839 1049.07 116.895 1044.49 Q119.973 1039.89 125.783 1039.89 Z\" fill=\"#000000\" fill-rule=\"evenodd\" fill-opacity=\"1\" /><path clip-path=\"url(#clip790)\" d=\"M 0 0 M60.0199 828.682 L76.3392 828.682 L76.3392 832.617 L54.3949 832.617 L54.3949 828.682 Q57.0569 825.927 61.6402 821.297 Q66.2467 816.645 67.4272 815.302 Q69.6726 812.779 70.5522 811.043 Q71.455 809.283 71.455 807.594 Q71.455 804.839 69.5105 803.103 Q67.5893 801.367 64.4874 801.367 Q62.2884 801.367 59.8347 802.131 Q57.4041 802.895 54.6264 804.446 L54.6264 799.723 Q57.4504 798.589 59.9041 798.01 Q62.3578 797.432 64.3948 797.432 Q69.7652 797.432 72.9596 800.117 Q76.154 802.802 76.154 807.293 Q76.154 809.422 75.3438 811.344 Q74.5568 813.242 72.4503 815.834 Q71.8716 816.506 68.7698 819.723 Q65.668 822.918 60.0199 828.682 Z\" fill=\"#000000\" fill-rule=\"evenodd\" fill-opacity=\"1\" /><path clip-path=\"url(#clip790)\" d=\"M 0 0 M85.4364 828.682 L101.756 828.682 L101.756 832.617 L79.8114 832.617 L79.8114 828.682 Q82.4734 825.927 87.0567 821.297 Q91.6632 816.645 92.8438 815.302 Q95.0891 812.779 95.9687 811.043 Q96.8715 809.283 96.8715 807.594 Q96.8715 804.839 94.9271 803.103 Q93.0058 801.367 89.904 801.367 Q87.7049 801.367 85.2512 802.131 Q82.8207 802.895 80.0429 804.446 L80.0429 799.723 Q82.867 798.589 85.3206 798.01 Q87.7743 797.432 89.8114 797.432 Q95.1817 797.432 98.3761 800.117 Q101.571 802.802 101.571 807.293 Q101.571 809.422 100.76 811.344 Q99.9733 813.242 97.8669 815.834 Q97.2882 816.506 94.1863 819.723 Q91.0845 822.918 85.4364 828.682 Z\" fill=\"#000000\" fill-rule=\"evenodd\" fill-opacity=\"1\" /><path clip-path=\"url(#clip790)\" d=\"M 0 0 M106.825 826.737 L111.709 826.737 L111.709 832.617 L106.825 832.617 L106.825 826.737 Z\" fill=\"#000000\" fill-rule=\"evenodd\" fill-opacity=\"1\" /><path clip-path=\"url(#clip790)\" d=\"M 0 0 M116.825 798.057 L135.181 798.057 L135.181 801.992 L121.107 801.992 L121.107 810.464 Q122.126 810.117 123.145 809.955 Q124.163 809.77 125.182 809.77 Q130.969 809.77 134.348 812.941 Q137.728 816.112 137.728 821.529 Q137.728 827.107 134.256 830.209 Q130.783 833.288 124.464 833.288 Q122.288 833.288 120.02 832.918 Q117.774 832.547 115.367 831.806 L115.367 827.107 Q117.45 828.242 119.672 828.797 Q121.895 829.353 124.371 829.353 Q128.376 829.353 130.714 827.246 Q133.052 825.14 133.052 821.529 Q133.052 817.918 130.714 815.811 Q128.376 813.705 124.371 813.705 Q122.496 813.705 120.621 814.121 Q118.77 814.538 116.825 815.418 L116.825 798.057 Z\" fill=\"#000000\" fill-rule=\"evenodd\" fill-opacity=\"1\" /><path clip-path=\"url(#clip790)\" d=\"M 0 0 M58.4226 586.228 L74.742 586.228 L74.742 590.163 L52.7977 590.163 L52.7977 586.228 Q55.4597 583.473 60.043 578.844 Q64.6495 574.191 65.83 572.848 Q68.0754 570.325 68.955 568.589 Q69.8578 566.83 69.8578 565.14 Q69.8578 562.386 67.9133 560.649 Q65.992 558.913 62.8902 558.913 Q60.6911 558.913 58.2375 559.677 Q55.8069 560.441 53.0292 561.992 L53.0292 557.27 Q55.8532 556.136 58.3069 555.557 Q60.7606 554.978 62.7976 554.978 Q68.168 554.978 71.3624 557.663 Q74.5568 560.349 74.5568 564.839 Q74.5568 566.969 73.7466 568.89 Q72.9596 570.788 70.8531 573.381 Q70.2744 574.052 67.1726 577.27 Q64.0708 580.464 58.4226 586.228 Z\" fill=\"#000000\" fill-rule=\"evenodd\" fill-opacity=\"1\" /><path clip-path=\"url(#clip790)\" d=\"M 0 0 M79.8577 555.603 L98.2141 555.603 L98.2141 559.538 L84.1401 559.538 L84.1401 568.011 Q85.1586 567.663 86.1771 567.501 Q87.1956 567.316 88.2141 567.316 Q94.0012 567.316 97.3808 570.487 Q100.76 573.659 100.76 579.075 Q100.76 584.654 97.2882 587.756 Q93.816 590.835 87.4966 590.835 Q85.3206 590.835 83.0521 590.464 Q80.8068 590.094 78.3994 589.353 L78.3994 584.654 Q80.4827 585.788 82.7049 586.344 Q84.9271 586.899 87.404 586.899 Q91.4086 586.899 93.7465 584.793 Q96.0845 582.686 96.0845 579.075 Q96.0845 575.464 93.7465 573.358 Q91.4086 571.251 87.404 571.251 Q85.529 571.251 83.654 571.668 Q81.8021 572.085 79.8577 572.964 L79.8577 555.603 Z\" fill=\"#000000\" fill-rule=\"evenodd\" fill-opacity=\"1\" /><path clip-path=\"url(#clip790)\" d=\"M 0 0 M105.83 584.284 L110.714 584.284 L110.714 590.163 L105.83 590.163 L105.83 584.284 Z\" fill=\"#000000\" fill-rule=\"evenodd\" fill-opacity=\"1\" /><path clip-path=\"url(#clip790)\" d=\"M 0 0 M125.783 558.682 Q122.172 558.682 120.344 562.247 Q118.538 565.788 118.538 572.918 Q118.538 580.024 120.344 583.589 Q122.172 587.131 125.783 587.131 Q129.418 587.131 131.223 583.589 Q133.052 580.024 133.052 572.918 Q133.052 565.788 131.223 562.247 Q129.418 558.682 125.783 558.682 M125.783 554.978 Q131.594 554.978 134.649 559.585 Q137.728 564.168 137.728 572.918 Q137.728 581.645 134.649 586.251 Q131.594 590.835 125.783 590.835 Q119.973 590.835 116.895 586.251 Q113.839 581.645 113.839 572.918 Q113.839 564.168 116.895 559.585 Q119.973 554.978 125.783 554.978 Z\" fill=\"#000000\" fill-rule=\"evenodd\" fill-opacity=\"1\" /><path clip-path=\"url(#clip790)\" d=\"M 0 0 M59.3254 343.775 L75.6448 343.775 L75.6448 347.71 L53.7004 347.71 L53.7004 343.775 Q56.3625 341.02 60.9458 336.39 Q65.5522 331.738 66.7328 330.395 Q68.9781 327.872 69.8578 326.136 Q70.7605 324.377 70.7605 322.687 Q70.7605 319.932 68.8161 318.196 Q66.8948 316.46 63.793 316.46 Q61.5939 316.46 59.1402 317.224 Q56.7097 317.988 53.9319 319.539 L53.9319 314.816 Q56.756 313.682 59.2097 313.103 Q61.6634 312.525 63.7004 312.525 Q69.0707 312.525 72.2652 315.21 Q75.4596 317.895 75.4596 322.386 Q75.4596 324.515 74.6494 326.437 Q73.8624 328.335 71.7559 330.927 Q71.1772 331.599 68.0754 334.816 Q64.9735 338.011 59.3254 343.775 Z\" fill=\"#000000\" fill-rule=\"evenodd\" fill-opacity=\"1\" /><path clip-path=\"url(#clip790)\" d=\"M 0 0 M79.5336 313.15 L101.756 313.15 L101.756 315.14 L89.2095 347.71 L84.3253 347.71 L96.1308 317.085 L79.5336 317.085 L79.5336 313.15 Z\" fill=\"#000000\" fill-rule=\"evenodd\" fill-opacity=\"1\" /><path clip-path=\"url(#clip790)\" d=\"M 0 0 M106.825 341.83 L111.709 341.83 L111.709 347.71 L106.825 347.71 L106.825 341.83 Z\" fill=\"#000000\" fill-rule=\"evenodd\" fill-opacity=\"1\" /><path clip-path=\"url(#clip790)\" d=\"M 0 0 M116.825 313.15 L135.181 313.15 L135.181 317.085 L121.107 317.085 L121.107 325.557 Q122.126 325.21 123.145 325.048 Q124.163 324.863 125.182 324.863 Q130.969 324.863 134.348 328.034 Q137.728 331.205 137.728 336.622 Q137.728 342.201 134.256 345.302 Q130.783 348.381 124.464 348.381 Q122.288 348.381 120.02 348.011 Q117.774 347.64 115.367 346.9 L115.367 342.201 Q117.45 343.335 119.672 343.89 Q121.895 344.446 124.371 344.446 Q128.376 344.446 130.714 342.339 Q133.052 340.233 133.052 336.622 Q133.052 333.011 130.714 330.904 Q128.376 328.798 124.371 328.798 Q122.496 328.798 120.621 329.214 Q118.77 329.631 116.825 330.511 L116.825 313.15 Z\" fill=\"#000000\" fill-rule=\"evenodd\" fill-opacity=\"1\" /><path clip-path=\"url(#clip790)\" d=\"M 0 0 M66.617 86.6221 Q69.9735 87.3397 71.8485 89.6082 Q73.7466 91.8767 73.7466 95.21 Q73.7466 100.326 70.2281 103.127 Q66.7096 105.928 60.2282 105.928 Q58.0523 105.928 55.7375 105.488 Q53.4458 105.071 50.9921 104.215 L50.9921 99.7008 Q52.9366 100.835 55.2514 101.414 Q57.5662 101.992 60.0893 101.992 Q64.4874 101.992 66.7791 100.256 Q69.0939 98.5202 69.0939 95.21 Q69.0939 92.1545 66.9411 90.4415 Q64.8115 88.7054 60.9921 88.7054 L56.9643 88.7054 L56.9643 84.8629 L61.1773 84.8629 Q64.6263 84.8629 66.455 83.4971 Q68.2837 82.1083 68.2837 79.5157 Q68.2837 76.8537 66.3856 75.4416 Q64.5106 74.0064 60.9921 74.0064 Q59.0708 74.0064 56.8717 74.4231 Q54.6727 74.8398 52.0338 75.7194 L52.0338 71.5528 Q54.6958 70.812 57.0106 70.4416 Q59.3486 70.0713 61.4087 70.0713 Q66.7328 70.0713 69.8346 72.5018 Q72.9365 74.9092 72.9365 79.0296 Q72.9365 81.8999 71.2929 83.8907 Q69.6494 85.8582 66.617 86.6221 Z\" fill=\"#000000\" fill-rule=\"evenodd\" fill-opacity=\"1\" /><path clip-path=\"url(#clip790)\" d=\"M 0 0 M88.816 73.775 Q85.2049 73.775 83.3762 77.3398 Q81.5707 80.8814 81.5707 88.011 Q81.5707 95.1174 83.3762 98.6822 Q85.2049 102.224 88.816 102.224 Q92.4502 102.224 94.2558 98.6822 Q96.0845 95.1174 96.0845 88.011 Q96.0845 80.8814 94.2558 77.3398 Q92.4502 73.775 88.816 73.775 M88.816 70.0713 Q94.6262 70.0713 97.6817 74.6777 Q100.76 79.261 100.76 88.011 Q100.76 96.7378 97.6817 101.344 Q94.6262 105.928 88.816 105.928 Q83.0058 105.928 79.9272 101.344 Q76.8716 96.7378 76.8716 88.011 Q76.8716 79.261 79.9272 74.6777 Q83.0058 70.0713 88.816 70.0713 Z\" fill=\"#000000\" fill-rule=\"evenodd\" fill-opacity=\"1\" /><path clip-path=\"url(#clip790)\" d=\"M 0 0 M105.83 99.3767 L110.714 99.3767 L110.714 105.256 L105.83 105.256 L105.83 99.3767 Z\" fill=\"#000000\" fill-rule=\"evenodd\" fill-opacity=\"1\" /><path clip-path=\"url(#clip790)\" d=\"M 0 0 M125.783 73.775 Q122.172 73.775 120.344 77.3398 Q118.538 80.8814 118.538 88.011 Q118.538 95.1174 120.344 98.6822 Q122.172 102.224 125.783 102.224 Q129.418 102.224 131.223 98.6822 Q133.052 95.1174 133.052 88.011 Q133.052 80.8814 131.223 77.3398 Q129.418 73.775 125.783 73.775 M125.783 70.0713 Q131.594 70.0713 134.649 74.6777 Q137.728 79.261 137.728 88.011 Q137.728 96.7378 134.649 101.344 Q131.594 105.928 125.783 105.928 Q119.973 105.928 116.895 101.344 Q113.839 96.7378 113.839 88.011 Q113.839 79.261 116.895 74.6777 Q119.973 70.0713 125.783 70.0713 Z\" fill=\"#000000\" fill-rule=\"evenodd\" fill-opacity=\"1\" /><polyline clip-path=\"url(#clip792)\" style=\"stroke:#800080; stroke-width:4; stroke-opacity:1; fill:none\" points=\"\n",
       "  235.398,281.939 256.163,378.92 276.927,378.92 297.692,378.92 318.456,378.92 339.221,475.902 359.985,475.902 380.75,475.902 401.514,475.902 422.279,475.902 \n",
       "  443.044,572.883 463.808,572.883 484.573,572.883 505.337,669.865 526.102,669.865 546.866,669.865 567.631,669.865 588.395,669.865 609.16,475.902 629.924,475.902 \n",
       "  650.689,281.939 671.453,281.939 692.218,281.939 712.982,281.939 733.747,281.939 754.511,281.939 775.276,378.92 796.04,378.92 816.805,378.92 837.569,378.92 \n",
       "  858.334,378.92 879.098,378.92 899.863,378.92 920.627,475.902 941.392,572.883 962.156,669.865 982.921,669.865 1003.69,766.846 1024.45,863.827 1045.21,669.865 \n",
       "  1065.98,766.846 1086.74,766.846 1107.51,766.846 1128.27,572.883 1149.04,572.883 1169.8,572.883 1190.57,572.883 1211.33,572.883 1232.1,669.865 1252.86,669.865 \n",
       "  1273.62,669.865 1294.39,669.865 1315.15,669.865 1335.92,669.865 1356.68,766.846 1377.45,572.883 1398.21,572.883 1418.98,572.883 1439.74,669.865 1460.5,766.846 \n",
       "  1481.27,863.827 1502.03,863.827 1522.8,863.827 1543.56,863.827 1564.33,863.827 1585.09,863.827 1605.86,863.827 1626.62,863.827 1647.39,669.865 1668.15,669.865 \n",
       "  1688.91,669.865 1709.68,669.865 1730.44,669.865 1751.21,669.865 1771.97,669.865 1792.74,766.846 1813.5,766.846 1834.27,766.846 1855.03,766.846 1875.8,766.846 \n",
       "  1896.56,863.827 1917.32,960.809 1938.09,960.809 1958.85,1057.79 1979.62,1057.79 2000.38,1057.79 2021.15,1057.79 2041.91,1057.79 2062.68,1057.79 2083.44,1057.79 \n",
       "  2104.2,1057.79 2124.97,1057.79 2145.73,1057.79 2166.5,863.827 2187.26,863.827 2208.03,863.827 2228.79,960.809 2249.56,960.809 2270.32,766.846 2291.09,766.846 \n",
       "  \n",
       "  \"/>\n",
       "<polyline clip-path=\"url(#clip792)\" style=\"stroke:#008000; stroke-width:4; stroke-opacity:1; fill:none\" points=\"\n",
       "  235.398,87.9763 256.163,378.92 276.927,281.939 297.692,184.958 318.456,184.958 339.221,184.958 359.985,184.958 380.75,378.92 401.514,572.883 422.279,475.902 \n",
       "  443.044,378.92 463.808,572.883 484.573,766.846 505.337,669.865 526.102,669.865 546.866,669.865 567.631,572.883 588.395,475.902 609.16,475.902 629.924,378.92 \n",
       "  650.689,378.92 671.453,572.883 692.218,475.902 712.982,378.92 733.747,572.883 754.511,475.902 775.276,378.92 796.04,572.883 816.805,572.883 837.569,766.846 \n",
       "  858.334,960.809 879.098,960.809 899.863,1154.77 920.627,1057.79 941.392,960.809 962.156,863.827 982.921,863.827 1003.69,766.846 1024.45,669.865 1045.21,669.865 \n",
       "  1065.98,572.883 1086.74,572.883 1107.51,572.883 1128.27,572.883 1149.04,475.902 1169.8,475.902 1190.57,669.865 1211.33,572.883 1232.1,475.902 1252.86,475.902 \n",
       "  1273.62,475.902 1294.39,669.865 1315.15,669.865 1335.92,572.883 1356.68,475.902 1377.45,475.902 1398.21,475.902 1418.98,378.92 1439.74,281.939 1460.5,184.958 \n",
       "  1481.27,87.9763 1502.03,281.939 1522.8,475.902 1543.56,669.865 1564.33,669.865 1585.09,572.883 1605.86,766.846 1626.62,669.865 1647.39,669.865 1668.15,572.883 \n",
       "  1688.91,766.846 1709.68,669.865 1730.44,572.883 1751.21,766.846 1771.97,766.846 1792.74,669.865 1813.5,863.827 1834.27,863.827 1855.03,863.827 1875.8,863.827 \n",
       "  1896.56,766.846 1917.32,669.865 1938.09,863.827 1958.85,766.846 1979.62,766.846 2000.38,669.865 2021.15,863.827 2041.91,1057.79 2062.68,960.809 2083.44,960.809 \n",
       "  2104.2,960.809 2124.97,1154.77 2145.73,1348.73 2166.5,1348.73 2187.26,1348.73 2208.03,1348.73 2228.79,1251.75 2249.56,1445.72 2270.32,1445.72 2291.09,1445.72 \n",
       "  \n",
       "  \"/>\n",
       "<path clip-path=\"url(#clip790)\" d=\"\n",
       "M1831.99 276.658 L2280.12 276.658 L2280.12 95.2176 L1831.99 95.2176  Z\n",
       "  \" fill=\"#ffffff\" fill-rule=\"evenodd\" fill-opacity=\"1\"/>\n",
       "<polyline clip-path=\"url(#clip790)\" style=\"stroke:#000000; stroke-width:4; stroke-opacity:1; fill:none\" points=\"\n",
       "  1831.99,276.658 2280.12,276.658 2280.12,95.2176 1831.99,95.2176 1831.99,276.658 \n",
       "  \"/>\n",
       "<polyline clip-path=\"url(#clip790)\" style=\"stroke:#800080; stroke-width:4; stroke-opacity:1; fill:none\" points=\"\n",
       "  1856.2,155.698 2001.47,155.698 \n",
       "  \"/>\n",
       "<path clip-path=\"url(#clip790)\" d=\"M 0 0 M2044.59 159.714 Q2044.59 155.084 2042.67 152.538 Q2040.77 149.992 2037.32 149.992 Q2033.9 149.992 2031.98 152.538 Q2030.08 155.084 2030.08 159.714 Q2030.08 164.32 2031.98 166.866 Q2033.9 169.413 2037.32 169.413 Q2040.77 169.413 2042.67 166.866 Q2044.59 164.32 2044.59 159.714 M2048.85 169.76 Q2048.85 176.38 2045.91 179.598 Q2042.97 182.839 2036.91 182.839 Q2034.66 182.839 2032.67 182.491 Q2030.68 182.167 2028.81 181.473 L2028.81 177.329 Q2030.68 178.348 2032.51 178.834 Q2034.34 179.32 2036.24 179.32 Q2040.43 179.32 2042.51 177.121 Q2044.59 174.945 2044.59 170.524 L2044.59 168.417 Q2043.27 170.709 2041.21 171.843 Q2039.15 172.978 2036.28 172.978 Q2031.51 172.978 2028.6 169.343 Q2025.68 165.709 2025.68 159.714 Q2025.68 153.695 2028.6 150.061 Q2031.51 146.427 2036.28 146.427 Q2039.15 146.427 2041.21 147.561 Q2043.27 148.695 2044.59 150.987 L2044.59 147.052 L2048.85 147.052 L2048.85 169.76 Z\" fill=\"#000000\" fill-rule=\"evenodd\" fill-opacity=\"1\" /><path clip-path=\"url(#clip790)\" d=\"M 0 0 M2063.37 150.038 Q2059.94 150.038 2057.95 152.723 Q2055.96 155.385 2055.96 160.038 Q2055.96 164.691 2057.93 167.376 Q2059.92 170.038 2063.37 170.038 Q2066.77 170.038 2068.76 167.353 Q2070.75 164.667 2070.75 160.038 Q2070.75 155.431 2068.76 152.746 Q2066.77 150.038 2063.37 150.038 M2063.37 146.427 Q2068.92 146.427 2072.09 150.038 Q2075.26 153.649 2075.26 160.038 Q2075.26 166.404 2072.09 170.038 Q2068.92 173.649 2063.37 173.649 Q2057.79 173.649 2054.62 170.038 Q2051.47 166.404 2051.47 160.038 Q2051.47 153.649 2054.62 150.038 Q2057.79 146.427 2063.37 146.427 Z\" fill=\"#000000\" fill-rule=\"evenodd\" fill-opacity=\"1\" /><path clip-path=\"url(#clip790)\" d=\"M 0 0 M2079.87 136.959 L2084.13 136.959 L2084.13 150.894 L2087.02 148.811 L2088.78 151.265 L2084.13 154.529 L2084.13 172.978 L2079.87 172.978 L2079.87 157.561 L2077.02 159.598 L2075.31 157.144 L2079.87 153.88 L2079.87 136.959 Z\" fill=\"#000000\" fill-rule=\"evenodd\" fill-opacity=\"1\" /><path clip-path=\"url(#clip790)\" d=\"M 0 0 M2115.43 158.95 L2115.43 161.033 L2095.84 161.033 Q2096.12 165.431 2098.48 167.746 Q2100.87 170.038 2105.1 170.038 Q2107.56 170.038 2109.85 169.436 Q2112.16 168.834 2114.43 167.63 L2114.43 171.658 Q2112.14 172.63 2109.73 173.14 Q2107.32 173.649 2104.85 173.649 Q2098.64 173.649 2095.01 170.038 Q2091.4 166.427 2091.4 160.269 Q2091.4 153.904 2094.82 150.177 Q2098.27 146.427 2104.11 146.427 Q2109.34 146.427 2112.37 149.806 Q2115.43 153.163 2115.43 158.95 M2111.17 157.7 Q2111.12 154.205 2109.2 152.121 Q2107.3 150.038 2104.15 150.038 Q2100.59 150.038 2098.44 152.052 Q2096.31 154.066 2095.98 157.723 L2111.17 157.7 M2107.67 172.978 L2110.43 172.978 Q2109.38 174.39 2108.88 175.408 Q2108.39 176.427 2108.39 177.144 Q2108.39 178.209 2109.01 178.741 Q2109.66 179.274 2110.91 179.274 Q2111.65 179.274 2112.37 179.089 Q2113.09 178.927 2113.81 178.579 L2113.81 181.658 Q2112.93 181.89 2112.14 182.005 Q2111.35 182.121 2110.66 182.121 Q2107.83 182.121 2106.49 181.103 Q2105.17 180.107 2105.17 177.954 Q2105.17 176.843 2105.77 175.616 Q2106.4 174.413 2107.67 172.978 Z\" fill=\"#000000\" fill-rule=\"evenodd\" fill-opacity=\"1\" /><path clip-path=\"url(#clip790)\" d=\"M 0 0 M2138.5 160.038 Q2138.5 155.339 2136.56 152.677 Q2134.64 149.992 2131.26 149.992 Q2127.88 149.992 2125.94 152.677 Q2124.01 155.339 2124.01 160.038 Q2124.01 164.737 2125.94 167.422 Q2127.88 170.084 2131.26 170.084 Q2134.64 170.084 2136.56 167.422 Q2138.5 164.737 2138.5 160.038 M2124.01 150.987 Q2125.36 148.672 2127.39 147.561 Q2129.45 146.427 2132.3 146.427 Q2137.02 146.427 2139.96 150.177 Q2142.93 153.927 2142.93 160.038 Q2142.93 166.149 2139.96 169.899 Q2137.02 173.649 2132.3 173.649 Q2129.45 173.649 2127.39 172.538 Q2125.36 171.403 2124.01 169.089 L2124.01 172.978 L2119.73 172.978 L2119.73 136.959 L2124.01 136.959 L2124.01 150.987 Z\" fill=\"#000000\" fill-rule=\"evenodd\" fill-opacity=\"1\" /><path clip-path=\"url(#clip790)\" d=\"M 0 0 M2147.39 147.052 L2151.65 147.052 L2151.65 172.978 L2147.39 172.978 L2147.39 147.052 M2147.39 136.959 L2151.65 136.959 L2151.65 142.353 L2147.39 142.353 L2147.39 136.959 Z\" fill=\"#000000\" fill-rule=\"evenodd\" fill-opacity=\"1\" /><path clip-path=\"url(#clip790)\" d=\"M 0 0 M2178.3 158.95 L2178.3 161.033 L2158.71 161.033 Q2158.99 165.431 2161.35 167.746 Q2163.74 170.038 2167.97 170.038 Q2170.43 170.038 2172.72 169.436 Q2175.03 168.834 2177.3 167.63 L2177.3 171.658 Q2175.01 172.63 2172.6 173.14 Q2170.19 173.649 2167.72 173.649 Q2161.51 173.649 2157.88 170.038 Q2154.27 166.427 2154.27 160.269 Q2154.27 153.904 2157.69 150.177 Q2161.14 146.427 2166.98 146.427 Q2172.21 146.427 2175.24 149.806 Q2178.3 153.163 2178.3 158.95 M2174.04 157.7 Q2173.99 154.205 2172.07 152.121 Q2170.17 150.038 2167.02 150.038 Q2163.46 150.038 2161.31 152.052 Q2159.18 154.066 2158.85 157.723 L2174.04 157.7 Z\" fill=\"#000000\" fill-rule=\"evenodd\" fill-opacity=\"1\" /><polyline clip-path=\"url(#clip790)\" style=\"stroke:#008000; stroke-width:4; stroke-opacity:1; fill:none\" points=\"\n",
       "  1856.2,216.178 2001.47,216.178 \n",
       "  \"/>\n",
       "<path clip-path=\"url(#clip790)\" d=\"M 0 0 M2031.01 207.532 L2035.26 207.532 L2035.26 233.921 Q2035.26 238.874 2033.37 241.096 Q2031.49 243.319 2027.3 243.319 L2025.68 243.319 L2025.68 239.708 L2026.82 239.708 Q2029.25 239.708 2030.13 238.573 Q2031.01 237.462 2031.01 233.921 L2031.01 207.532 M2031.01 197.439 L2035.26 197.439 L2035.26 202.833 L2031.01 202.833 L2031.01 197.439 Z\" fill=\"#000000\" fill-rule=\"evenodd\" fill-opacity=\"1\" /><path clip-path=\"url(#clip790)\" d=\"M 0 0 M2051.51 220.425 Q2046.35 220.425 2044.36 221.606 Q2042.37 222.786 2042.37 225.634 Q2042.37 227.902 2043.85 229.245 Q2045.36 230.564 2047.93 230.564 Q2051.47 230.564 2053.6 228.064 Q2055.75 225.541 2055.75 221.374 L2055.75 220.425 L2051.51 220.425 M2060.01 218.666 L2060.01 233.458 L2055.75 233.458 L2055.75 229.522 Q2054.29 231.883 2052.12 233.018 Q2049.94 234.129 2046.79 234.129 Q2042.81 234.129 2040.45 231.907 Q2038.11 229.661 2038.11 225.911 Q2038.11 221.536 2041.03 219.314 Q2043.97 217.092 2049.78 217.092 L2055.75 217.092 L2055.75 216.675 Q2055.75 213.735 2053.81 212.138 Q2051.88 210.518 2048.39 210.518 Q2046.17 210.518 2044.06 211.05 Q2041.95 211.583 2040.01 212.647 L2040.01 208.712 Q2042.35 207.81 2044.55 207.37 Q2046.75 206.907 2048.83 206.907 Q2054.45 206.907 2057.23 209.823 Q2060.01 212.74 2060.01 218.666 Z\" fill=\"#000000\" fill-rule=\"evenodd\" fill-opacity=\"1\" /><path clip-path=\"url(#clip790)\" d=\"M 0 0 M2081.01 208.296 L2081.01 212.323 Q2079.2 211.397 2077.26 210.935 Q2075.31 210.472 2073.23 210.472 Q2070.06 210.472 2068.46 211.444 Q2066.88 212.416 2066.88 214.36 Q2066.88 215.842 2068.02 216.698 Q2069.15 217.532 2072.58 218.296 L2074.04 218.62 Q2078.57 219.592 2080.47 221.374 Q2082.39 223.134 2082.39 226.305 Q2082.39 229.916 2079.52 232.022 Q2076.68 234.129 2071.68 234.129 Q2069.59 234.129 2067.32 233.712 Q2065.08 233.319 2062.58 232.508 L2062.58 228.11 Q2064.94 229.337 2067.23 229.962 Q2069.52 230.564 2071.77 230.564 Q2074.78 230.564 2076.4 229.546 Q2078.02 228.504 2078.02 226.629 Q2078.02 224.893 2076.84 223.967 Q2075.68 223.041 2071.72 222.184 L2070.24 221.837 Q2066.28 221.004 2064.52 219.291 Q2062.76 217.555 2062.76 214.546 Q2062.76 210.888 2065.36 208.898 Q2067.95 206.907 2072.72 206.907 Q2075.08 206.907 2077.16 207.254 Q2079.25 207.601 2081.01 208.296 Z\" fill=\"#000000\" fill-rule=\"evenodd\" fill-opacity=\"1\" /><path clip-path=\"url(#clip790)\" d=\"M 0 0 M2091.07 200.171 L2091.07 207.532 L2099.85 207.532 L2099.85 210.842 L2091.07 210.842 L2091.07 224.916 Q2091.07 228.087 2091.93 228.99 Q2092.81 229.893 2095.47 229.893 L2099.85 229.893 L2099.85 233.458 L2095.47 233.458 Q2090.54 233.458 2088.67 231.629 Q2086.79 229.777 2086.79 224.916 L2086.79 210.842 L2083.67 210.842 L2083.67 207.532 L2086.79 207.532 L2086.79 200.171 L2091.07 200.171 Z\" fill=\"#000000\" fill-rule=\"evenodd\" fill-opacity=\"1\" /><path clip-path=\"url(#clip790)\" d=\"M 0 0 M2119.34 211.513 Q2118.62 211.097 2117.76 210.911 Q2116.93 210.703 2115.91 210.703 Q2112.3 210.703 2110.36 213.064 Q2108.44 215.402 2108.44 219.8 L2108.44 233.458 L2104.15 233.458 L2104.15 207.532 L2108.44 207.532 L2108.44 211.56 Q2109.78 209.198 2111.93 208.064 Q2114.08 206.907 2117.16 206.907 Q2117.6 206.907 2118.13 206.976 Q2118.67 207.023 2119.32 207.138 L2119.34 211.513 Z\" fill=\"#000000\" fill-rule=\"evenodd\" fill-opacity=\"1\" /><path clip-path=\"url(#clip790)\" d=\"M 0 0 M2121.95 207.532 L2142.19 207.532 L2142.19 211.421 L2126.17 230.055 L2142.19 230.055 L2142.19 233.458 L2121.38 233.458 L2121.38 229.569 L2137.39 210.935 L2121.95 210.935 L2121.95 207.532 Z\" fill=\"#000000\" fill-rule=\"evenodd\" fill-opacity=\"1\" /><path clip-path=\"url(#clip790)\" d=\"M 0 0 M2168.83 219.43 L2168.83 221.513 L2149.25 221.513 Q2149.52 225.911 2151.88 228.226 Q2154.27 230.518 2158.5 230.518 Q2160.96 230.518 2163.25 229.916 Q2165.56 229.314 2167.83 228.11 L2167.83 232.138 Q2165.54 233.11 2163.13 233.62 Q2160.73 234.129 2158.25 234.129 Q2152.05 234.129 2148.41 230.518 Q2144.8 226.907 2144.8 220.749 Q2144.8 214.384 2148.23 210.657 Q2151.68 206.907 2157.51 206.907 Q2162.74 206.907 2165.77 210.286 Q2168.83 213.643 2168.83 219.43 M2164.57 218.18 Q2164.52 214.685 2162.6 212.601 Q2160.7 210.518 2157.56 210.518 Q2153.99 210.518 2151.84 212.532 Q2149.71 214.546 2149.38 218.203 L2164.57 218.18 M2161.07 233.458 L2163.83 233.458 Q2162.79 234.87 2162.28 235.888 Q2161.79 236.907 2161.79 237.624 Q2161.79 238.689 2162.42 239.221 Q2163.06 239.754 2164.31 239.754 Q2165.06 239.754 2165.77 239.569 Q2166.49 239.407 2167.21 239.059 L2167.21 242.138 Q2166.33 242.37 2165.54 242.485 Q2164.75 242.601 2164.06 242.601 Q2161.24 242.601 2159.89 241.583 Q2158.57 240.587 2158.57 238.434 Q2158.57 237.323 2159.18 236.096 Q2159.8 234.893 2161.07 233.458 Z\" fill=\"#000000\" fill-rule=\"evenodd\" fill-opacity=\"1\" /><path clip-path=\"url(#clip790)\" d=\"M 0 0 M2191.91 220.518 Q2191.91 215.819 2189.96 213.157 Q2188.04 210.472 2184.66 210.472 Q2181.28 210.472 2179.34 213.157 Q2177.42 215.819 2177.42 220.518 Q2177.42 225.217 2179.34 227.902 Q2181.28 230.564 2184.66 230.564 Q2188.04 230.564 2189.96 227.902 Q2191.91 225.217 2191.91 220.518 M2177.42 211.467 Q2178.76 209.152 2180.8 208.041 Q2182.86 206.907 2185.7 206.907 Q2190.43 206.907 2193.37 210.657 Q2196.33 214.407 2196.33 220.518 Q2196.33 226.629 2193.37 230.379 Q2190.43 234.129 2185.7 234.129 Q2182.86 234.129 2180.8 233.018 Q2178.76 231.883 2177.42 229.569 L2177.42 233.458 L2173.13 233.458 L2173.13 197.439 L2177.42 197.439 L2177.42 211.467 Z\" fill=\"#000000\" fill-rule=\"evenodd\" fill-opacity=\"1\" /><path clip-path=\"url(#clip790)\" d=\"M 0 0 M2200.8 207.532 L2205.06 207.532 L2205.06 233.458 L2200.8 233.458 L2200.8 207.532 M2200.8 197.439 L2205.06 197.439 L2205.06 202.833 L2200.8 202.833 L2200.8 197.439 Z\" fill=\"#000000\" fill-rule=\"evenodd\" fill-opacity=\"1\" /><path clip-path=\"url(#clip790)\" d=\"M 0 0 M2231.7 219.43 L2231.7 221.513 L2212.12 221.513 Q2212.39 225.911 2214.75 228.226 Q2217.14 230.518 2221.37 230.518 Q2223.83 230.518 2226.12 229.916 Q2228.43 229.314 2230.7 228.11 L2230.7 232.138 Q2228.41 233.11 2226 233.62 Q2223.6 234.129 2221.12 234.129 Q2214.92 234.129 2211.28 230.518 Q2207.67 226.907 2207.67 220.749 Q2207.67 214.384 2211.1 210.657 Q2214.55 206.907 2220.38 206.907 Q2225.61 206.907 2228.64 210.286 Q2231.7 213.643 2231.7 219.43 M2227.44 218.18 Q2227.39 214.685 2225.47 212.601 Q2223.57 210.518 2220.43 210.518 Q2216.86 210.518 2214.71 212.532 Q2212.58 214.546 2212.25 218.203 L2227.44 218.18 Z\" fill=\"#000000\" fill-rule=\"evenodd\" fill-opacity=\"1\" /></svg>\n"
      ]
     },
     "execution_count": 51,
     "metadata": {},
     "output_type": "execute_result"
    }
   ],
   "source": [
    "A = action(9,9,30,30, 100, zeros(Int64, 100, 2))\n",
    "plot(1:size(A)[1], A[:, 1], label=\"gołębie\", color= :purple)\n",
    "plot!(1:size(A)[1], A[:, 2], label=\"jastrzębie\", color= :green)"
   ]
  },
  {
   "cell_type": "code",
   "execution_count": 54,
   "metadata": {},
   "outputs": [
    {
     "data": {
      "image/svg+xml": [
       "<?xml version=\"1.0\" encoding=\"utf-8\"?>\n",
       "<svg xmlns=\"http://www.w3.org/2000/svg\" xmlns:xlink=\"http://www.w3.org/1999/xlink\" width=\"600\" height=\"400\" viewBox=\"0 0 2400 1600\">\n",
       "<defs>\n",
       "  <clipPath id=\"clip910\">\n",
       "    <rect x=\"0\" y=\"0\" width=\"2400\" height=\"1600\"/>\n",
       "  </clipPath>\n",
       "</defs>\n",
       "<path clip-path=\"url(#clip910)\" d=\"\n",
       "M0 1600 L2400 1600 L2400 0 L0 0  Z\n",
       "  \" fill=\"#ffffff\" fill-rule=\"evenodd\" fill-opacity=\"1\"/>\n",
       "<defs>\n",
       "  <clipPath id=\"clip911\">\n",
       "    <rect x=\"480\" y=\"0\" width=\"1681\" height=\"1600\"/>\n",
       "  </clipPath>\n",
       "</defs>\n",
       "<path clip-path=\"url(#clip910)\" d=\"\n",
       "M136.76 1486.45 L2352.76 1486.45 L2352.76 47.2441 L136.76 47.2441  Z\n",
       "  \" fill=\"#ffffff\" fill-rule=\"evenodd\" fill-opacity=\"1\"/>\n",
       "<defs>\n",
       "  <clipPath id=\"clip912\">\n",
       "    <rect x=\"136\" y=\"47\" width=\"2217\" height=\"1440\"/>\n",
       "  </clipPath>\n",
       "</defs>\n",
       "<polyline clip-path=\"url(#clip912)\" style=\"stroke:#000000; stroke-width:2; stroke-opacity:0.1; fill:none\" points=\"\n",
       "  178.36,1486.45 178.36,47.2441 \n",
       "  \"/>\n",
       "<polyline clip-path=\"url(#clip912)\" style=\"stroke:#000000; stroke-width:2; stroke-opacity:0.1; fill:none\" points=\"\n",
       "  706.28,1486.45 706.28,47.2441 \n",
       "  \"/>\n",
       "<polyline clip-path=\"url(#clip912)\" style=\"stroke:#000000; stroke-width:2; stroke-opacity:0.1; fill:none\" points=\"\n",
       "  1234.2,1486.45 1234.2,47.2441 \n",
       "  \"/>\n",
       "<polyline clip-path=\"url(#clip912)\" style=\"stroke:#000000; stroke-width:2; stroke-opacity:0.1; fill:none\" points=\"\n",
       "  1762.12,1486.45 1762.12,47.2441 \n",
       "  \"/>\n",
       "<polyline clip-path=\"url(#clip912)\" style=\"stroke:#000000; stroke-width:2; stroke-opacity:0.1; fill:none\" points=\"\n",
       "  2290.04,1486.45 2290.04,47.2441 \n",
       "  \"/>\n",
       "<polyline clip-path=\"url(#clip910)\" style=\"stroke:#000000; stroke-width:4; stroke-opacity:1; fill:none\" points=\"\n",
       "  136.76,1486.45 2352.76,1486.45 \n",
       "  \"/>\n",
       "<polyline clip-path=\"url(#clip910)\" style=\"stroke:#000000; stroke-width:4; stroke-opacity:1; fill:none\" points=\"\n",
       "  178.36,1486.45 178.36,1469.18 \n",
       "  \"/>\n",
       "<polyline clip-path=\"url(#clip910)\" style=\"stroke:#000000; stroke-width:4; stroke-opacity:1; fill:none\" points=\"\n",
       "  706.28,1486.45 706.28,1469.18 \n",
       "  \"/>\n",
       "<polyline clip-path=\"url(#clip910)\" style=\"stroke:#000000; stroke-width:4; stroke-opacity:1; fill:none\" points=\"\n",
       "  1234.2,1486.45 1234.2,1469.18 \n",
       "  \"/>\n",
       "<polyline clip-path=\"url(#clip910)\" style=\"stroke:#000000; stroke-width:4; stroke-opacity:1; fill:none\" points=\"\n",
       "  1762.12,1486.45 1762.12,1469.18 \n",
       "  \"/>\n",
       "<polyline clip-path=\"url(#clip910)\" style=\"stroke:#000000; stroke-width:4; stroke-opacity:1; fill:none\" points=\"\n",
       "  2290.04,1486.45 2290.04,1469.18 \n",
       "  \"/>\n",
       "<path clip-path=\"url(#clip910)\" d=\"M 0 0 M178.36 1515.64 Q174.749 1515.64 172.921 1519.2 Q171.115 1522.75 171.115 1529.87 Q171.115 1536.98 172.921 1540.55 Q174.749 1544.09 178.36 1544.09 Q181.995 1544.09 183.8 1540.55 Q185.629 1536.98 185.629 1529.87 Q185.629 1522.75 183.8 1519.2 Q181.995 1515.64 178.36 1515.64 M178.36 1511.93 Q184.171 1511.93 187.226 1516.54 Q190.305 1521.12 190.305 1529.87 Q190.305 1538.6 187.226 1543.21 Q184.171 1547.79 178.36 1547.79 Q172.55 1547.79 169.472 1543.21 Q166.416 1538.6 166.416 1529.87 Q166.416 1521.12 169.472 1516.54 Q172.55 1511.93 178.36 1511.93 Z\" fill=\"#000000\" fill-rule=\"evenodd\" fill-opacity=\"1\" /><path clip-path=\"url(#clip910)\" d=\"M 0 0 M687.924 1543.18 L704.243 1543.18 L704.243 1547.12 L682.299 1547.12 L682.299 1543.18 Q684.961 1540.43 689.544 1535.8 Q694.151 1531.15 695.331 1529.81 Q697.576 1527.28 698.456 1525.55 Q699.359 1523.79 699.359 1522.1 Q699.359 1519.34 697.414 1517.61 Q695.493 1515.87 692.391 1515.87 Q690.192 1515.87 687.739 1516.63 Q685.308 1517.4 682.53 1518.95 L682.53 1514.23 Q685.354 1513.09 687.808 1512.51 Q690.262 1511.93 692.299 1511.93 Q697.669 1511.93 700.863 1514.62 Q704.058 1517.31 704.058 1521.8 Q704.058 1523.93 703.248 1525.85 Q702.461 1527.74 700.354 1530.34 Q699.776 1531.01 696.674 1534.23 Q693.572 1537.42 687.924 1543.18 Z\" fill=\"#000000\" fill-rule=\"evenodd\" fill-opacity=\"1\" /><path clip-path=\"url(#clip910)\" d=\"M 0 0 M709.359 1512.56 L727.715 1512.56 L727.715 1516.5 L713.641 1516.5 L713.641 1524.97 Q714.66 1524.62 715.678 1524.46 Q716.697 1524.27 717.715 1524.27 Q723.502 1524.27 726.882 1527.44 Q730.261 1530.62 730.261 1536.03 Q730.261 1541.61 726.789 1544.71 Q723.317 1547.79 716.998 1547.79 Q714.822 1547.79 712.553 1547.42 Q710.308 1547.05 707.9 1546.31 L707.9 1541.61 Q709.984 1542.74 712.206 1543.3 Q714.428 1543.86 716.905 1543.86 Q720.91 1543.86 723.248 1541.75 Q725.586 1539.64 725.586 1536.03 Q725.586 1532.42 723.248 1530.31 Q720.91 1528.21 716.905 1528.21 Q715.03 1528.21 713.155 1528.62 Q711.303 1529.04 709.359 1529.92 L709.359 1512.56 Z\" fill=\"#000000\" fill-rule=\"evenodd\" fill-opacity=\"1\" /><path clip-path=\"url(#clip910)\" d=\"M 0 0 M1210.97 1512.56 L1229.33 1512.56 L1229.33 1516.5 L1215.25 1516.5 L1215.25 1524.97 Q1216.27 1524.62 1217.29 1524.46 Q1218.31 1524.27 1219.33 1524.27 Q1225.11 1524.27 1228.49 1527.44 Q1231.87 1530.62 1231.87 1536.03 Q1231.87 1541.61 1228.4 1544.71 Q1224.93 1547.79 1218.61 1547.79 Q1216.43 1547.79 1214.17 1547.42 Q1211.92 1547.05 1209.51 1546.31 L1209.51 1541.61 Q1211.6 1542.74 1213.82 1543.3 Q1216.04 1543.86 1218.52 1543.86 Q1222.52 1543.86 1224.86 1541.75 Q1227.2 1539.64 1227.2 1536.03 Q1227.2 1532.42 1224.86 1530.31 Q1222.52 1528.21 1218.52 1528.21 Q1216.64 1528.21 1214.77 1528.62 Q1212.92 1529.04 1210.97 1529.92 L1210.97 1512.56 Z\" fill=\"#000000\" fill-rule=\"evenodd\" fill-opacity=\"1\" /><path clip-path=\"url(#clip910)\" d=\"M 0 0 M1246.94 1515.64 Q1243.33 1515.64 1241.5 1519.2 Q1239.7 1522.75 1239.7 1529.87 Q1239.7 1536.98 1241.5 1540.55 Q1243.33 1544.09 1246.94 1544.09 Q1250.58 1544.09 1252.38 1540.55 Q1254.21 1536.98 1254.21 1529.87 Q1254.21 1522.75 1252.38 1519.2 Q1250.58 1515.64 1246.94 1515.64 M1246.94 1511.93 Q1252.75 1511.93 1255.81 1516.54 Q1258.89 1521.12 1258.89 1529.87 Q1258.89 1538.6 1255.81 1543.21 Q1252.75 1547.79 1246.94 1547.79 Q1241.13 1547.79 1238.05 1543.21 Q1235 1538.6 1235 1529.87 Q1235 1521.12 1238.05 1516.54 Q1241.13 1511.93 1246.94 1511.93 Z\" fill=\"#000000\" fill-rule=\"evenodd\" fill-opacity=\"1\" /><path clip-path=\"url(#clip910)\" d=\"M 0 0 M1738 1512.56 L1760.22 1512.56 L1760.22 1514.55 L1747.68 1547.12 L1742.79 1547.12 L1754.6 1516.5 L1738 1516.5 L1738 1512.56 Z\" fill=\"#000000\" fill-rule=\"evenodd\" fill-opacity=\"1\" /><path clip-path=\"url(#clip910)\" d=\"M 0 0 M1765.34 1512.56 L1783.69 1512.56 L1783.69 1516.5 L1769.62 1516.5 L1769.62 1524.97 Q1770.64 1524.62 1771.66 1524.46 Q1772.67 1524.27 1773.69 1524.27 Q1779.48 1524.27 1782.86 1527.44 Q1786.24 1530.62 1786.24 1536.03 Q1786.24 1541.61 1782.77 1544.71 Q1779.3 1547.79 1772.98 1547.79 Q1770.8 1547.79 1768.53 1547.42 Q1766.29 1547.05 1763.88 1546.31 L1763.88 1541.61 Q1765.96 1542.74 1768.18 1543.3 Q1770.41 1543.86 1772.88 1543.86 Q1776.89 1543.86 1779.23 1541.75 Q1781.56 1539.64 1781.56 1536.03 Q1781.56 1532.42 1779.23 1530.31 Q1776.89 1528.21 1772.88 1528.21 Q1771.01 1528.21 1769.13 1528.62 Q1767.28 1529.04 1765.34 1529.92 L1765.34 1512.56 Z\" fill=\"#000000\" fill-rule=\"evenodd\" fill-opacity=\"1\" /><path clip-path=\"url(#clip910)\" d=\"M 0 0 M2253.41 1543.18 L2261.05 1543.18 L2261.05 1516.82 L2252.74 1518.49 L2252.74 1514.23 L2261 1512.56 L2265.68 1512.56 L2265.68 1543.18 L2273.31 1543.18 L2273.31 1547.12 L2253.41 1547.12 L2253.41 1543.18 Z\" fill=\"#000000\" fill-rule=\"evenodd\" fill-opacity=\"1\" /><path clip-path=\"url(#clip910)\" d=\"M 0 0 M2288.38 1515.64 Q2284.77 1515.64 2282.94 1519.2 Q2281.14 1522.75 2281.14 1529.87 Q2281.14 1536.98 2282.94 1540.55 Q2284.77 1544.09 2288.38 1544.09 Q2292.02 1544.09 2293.82 1540.55 Q2295.65 1536.98 2295.65 1529.87 Q2295.65 1522.75 2293.82 1519.2 Q2292.02 1515.64 2288.38 1515.64 M2288.38 1511.93 Q2294.19 1511.93 2297.25 1516.54 Q2300.33 1521.12 2300.33 1529.87 Q2300.33 1538.6 2297.25 1543.21 Q2294.19 1547.79 2288.38 1547.79 Q2282.57 1547.79 2279.5 1543.21 Q2276.44 1538.6 2276.44 1529.87 Q2276.44 1521.12 2279.5 1516.54 Q2282.57 1511.93 2288.38 1511.93 Z\" fill=\"#000000\" fill-rule=\"evenodd\" fill-opacity=\"1\" /><path clip-path=\"url(#clip910)\" d=\"M 0 0 M2315.4 1515.64 Q2311.79 1515.64 2309.96 1519.2 Q2308.15 1522.75 2308.15 1529.87 Q2308.15 1536.98 2309.96 1540.55 Q2311.79 1544.09 2315.4 1544.09 Q2319.03 1544.09 2320.84 1540.55 Q2322.67 1536.98 2322.67 1529.87 Q2322.67 1522.75 2320.84 1519.2 Q2319.03 1515.64 2315.4 1515.64 M2315.4 1511.93 Q2321.21 1511.93 2324.26 1516.54 Q2327.34 1521.12 2327.34 1529.87 Q2327.34 1538.6 2324.26 1543.21 Q2321.21 1547.79 2315.4 1547.79 Q2309.59 1547.79 2306.51 1543.21 Q2303.45 1538.6 2303.45 1529.87 Q2303.45 1521.12 2306.51 1516.54 Q2309.59 1511.93 2315.4 1511.93 Z\" fill=\"#000000\" fill-rule=\"evenodd\" fill-opacity=\"1\" /><polyline clip-path=\"url(#clip912)\" style=\"stroke:#000000; stroke-width:2; stroke-opacity:0.1; fill:none\" points=\"\n",
       "  136.76,1322.28 2352.76,1322.28 \n",
       "  \"/>\n",
       "<polyline clip-path=\"url(#clip912)\" style=\"stroke:#000000; stroke-width:2; stroke-opacity:0.1; fill:none\" points=\"\n",
       "  136.76,1013.71 2352.76,1013.71 \n",
       "  \"/>\n",
       "<polyline clip-path=\"url(#clip912)\" style=\"stroke:#000000; stroke-width:2; stroke-opacity:0.1; fill:none\" points=\"\n",
       "  136.76,705.131 2352.76,705.131 \n",
       "  \"/>\n",
       "<polyline clip-path=\"url(#clip912)\" style=\"stroke:#000000; stroke-width:2; stroke-opacity:0.1; fill:none\" points=\"\n",
       "  136.76,396.553 2352.76,396.553 \n",
       "  \"/>\n",
       "<polyline clip-path=\"url(#clip912)\" style=\"stroke:#000000; stroke-width:2; stroke-opacity:0.1; fill:none\" points=\"\n",
       "  136.76,87.9763 2352.76,87.9763 \n",
       "  \"/>\n",
       "<polyline clip-path=\"url(#clip910)\" style=\"stroke:#000000; stroke-width:4; stroke-opacity:1; fill:none\" points=\"\n",
       "  136.76,1486.45 136.76,47.2441 \n",
       "  \"/>\n",
       "<polyline clip-path=\"url(#clip910)\" style=\"stroke:#000000; stroke-width:4; stroke-opacity:1; fill:none\" points=\"\n",
       "  136.76,1322.28 163.352,1322.28 \n",
       "  \"/>\n",
       "<polyline clip-path=\"url(#clip910)\" style=\"stroke:#000000; stroke-width:4; stroke-opacity:1; fill:none\" points=\"\n",
       "  136.76,1013.71 163.352,1013.71 \n",
       "  \"/>\n",
       "<polyline clip-path=\"url(#clip910)\" style=\"stroke:#000000; stroke-width:4; stroke-opacity:1; fill:none\" points=\"\n",
       "  136.76,705.131 163.352,705.131 \n",
       "  \"/>\n",
       "<polyline clip-path=\"url(#clip910)\" style=\"stroke:#000000; stroke-width:4; stroke-opacity:1; fill:none\" points=\"\n",
       "  136.76,396.553 163.352,396.553 \n",
       "  \"/>\n",
       "<polyline clip-path=\"url(#clip910)\" style=\"stroke:#000000; stroke-width:4; stroke-opacity:1; fill:none\" points=\"\n",
       "  136.76,87.9763 163.352,87.9763 \n",
       "  \"/>\n",
       "<path clip-path=\"url(#clip910)\" d=\"M 0 0 M54.8347 1335.63 L62.4735 1335.63 L62.4735 1309.26 L54.1634 1310.93 L54.1634 1306.67 L62.4272 1305 L67.1032 1305 L67.1032 1335.63 L74.742 1335.63 L74.742 1339.56 L54.8347 1339.56 L54.8347 1335.63 Z\" fill=\"#000000\" fill-rule=\"evenodd\" fill-opacity=\"1\" /><path clip-path=\"url(#clip910)\" d=\"M 0 0 M79.8577 1305 L98.2141 1305 L98.2141 1308.94 L84.1401 1308.94 L84.1401 1317.41 Q85.1586 1317.06 86.1771 1316.9 Q87.1956 1316.72 88.2141 1316.72 Q94.0012 1316.72 97.3808 1319.89 Q100.76 1323.06 100.76 1328.48 Q100.76 1334.06 97.2882 1337.16 Q93.816 1340.24 87.4966 1340.24 Q85.3206 1340.24 83.0521 1339.87 Q80.8068 1339.5 78.3994 1338.75 L78.3994 1334.06 Q80.4827 1335.19 82.7049 1335.75 Q84.9271 1336.3 87.404 1336.3 Q91.4086 1336.3 93.7465 1334.19 Q96.0845 1332.09 96.0845 1328.48 Q96.0845 1324.87 93.7465 1322.76 Q91.4086 1320.65 87.404 1320.65 Q85.529 1320.65 83.654 1321.07 Q81.8021 1321.49 79.8577 1322.37 L79.8577 1305 Z\" fill=\"#000000\" fill-rule=\"evenodd\" fill-opacity=\"1\" /><path clip-path=\"url(#clip910)\" d=\"M 0 0 M57.4273 1027.05 L73.7466 1027.05 L73.7466 1030.99 L51.8023 1030.99 L51.8023 1027.05 Q54.4643 1024.3 59.0476 1019.67 Q63.6541 1015.02 64.8346 1013.67 Q67.08 1011.15 67.9596 1009.41 Q68.8624 1007.65 68.8624 1005.96 Q68.8624 1003.21 66.918 1001.47 Q64.9967 999.738 61.8948 999.738 Q59.6958 999.738 57.2421 1000.5 Q54.8115 1001.27 52.0338 1002.82 L52.0338 998.094 Q54.8578 996.96 57.3115 996.381 Q59.7652 995.803 61.8023 995.803 Q67.1726 995.803 70.367 998.488 Q73.5614 1001.17 73.5614 1005.66 Q73.5614 1007.79 72.7513 1009.71 Q71.9642 1011.61 69.8578 1014.21 Q69.2791 1014.88 66.1772 1018.09 Q63.0754 1021.29 57.4273 1027.05 Z\" fill=\"#000000\" fill-rule=\"evenodd\" fill-opacity=\"1\" /><path clip-path=\"url(#clip910)\" d=\"M 0 0 M88.816 999.506 Q85.2049 999.506 83.3762 1003.07 Q81.5707 1006.61 81.5707 1013.74 Q81.5707 1020.85 83.3762 1024.41 Q85.2049 1027.96 88.816 1027.96 Q92.4502 1027.96 94.2558 1024.41 Q96.0845 1020.85 96.0845 1013.74 Q96.0845 1006.61 94.2558 1003.07 Q92.4502 999.506 88.816 999.506 M88.816 995.803 Q94.6262 995.803 97.6817 1000.41 Q100.76 1004.99 100.76 1013.74 Q100.76 1022.47 97.6817 1027.08 Q94.6262 1031.66 88.816 1031.66 Q83.0058 1031.66 79.9272 1027.08 Q76.8716 1022.47 76.8716 1013.74 Q76.8716 1004.99 79.9272 1000.41 Q83.0058 995.803 88.816 995.803 Z\" fill=\"#000000\" fill-rule=\"evenodd\" fill-opacity=\"1\" /><path clip-path=\"url(#clip910)\" d=\"M 0 0 M58.4226 718.475 L74.742 718.475 L74.742 722.411 L52.7977 722.411 L52.7977 718.475 Q55.4597 715.721 60.043 711.091 Q64.6495 706.438 65.83 705.096 Q68.0754 702.573 68.955 700.837 Q69.8578 699.077 69.8578 697.388 Q69.8578 694.633 67.9133 692.897 Q65.992 691.161 62.8902 691.161 Q60.6911 691.161 58.2375 691.925 Q55.8069 692.688 53.0292 694.239 L53.0292 689.517 Q55.8532 688.383 58.3069 687.804 Q60.7606 687.226 62.7976 687.226 Q68.168 687.226 71.3624 689.911 Q74.5568 692.596 74.5568 697.087 Q74.5568 699.216 73.7466 701.138 Q72.9596 703.036 70.8531 705.628 Q70.2744 706.3 67.1726 709.517 Q64.0708 712.712 58.4226 718.475 Z\" fill=\"#000000\" fill-rule=\"evenodd\" fill-opacity=\"1\" /><path clip-path=\"url(#clip910)\" d=\"M 0 0 M79.8577 687.851 L98.2141 687.851 L98.2141 691.786 L84.1401 691.786 L84.1401 700.258 Q85.1586 699.911 86.1771 699.749 Q87.1956 699.563 88.2141 699.563 Q94.0012 699.563 97.3808 702.735 Q100.76 705.906 100.76 711.323 Q100.76 716.901 97.2882 720.003 Q93.816 723.082 87.4966 723.082 Q85.3206 723.082 83.0521 722.711 Q80.8068 722.341 78.3994 721.6 L78.3994 716.901 Q80.4827 718.036 82.7049 718.591 Q84.9271 719.147 87.404 719.147 Q91.4086 719.147 93.7465 717.04 Q96.0845 714.934 96.0845 711.323 Q96.0845 707.712 93.7465 705.605 Q91.4086 703.499 87.404 703.499 Q85.529 703.499 83.654 703.915 Q81.8021 704.332 79.8577 705.212 L79.8577 687.851 Z\" fill=\"#000000\" fill-rule=\"evenodd\" fill-opacity=\"1\" /><path clip-path=\"url(#clip910)\" d=\"M 0 0 M66.617 395.199 Q69.9735 395.917 71.8485 398.185 Q73.7466 400.454 73.7466 403.787 Q73.7466 408.903 70.2281 411.704 Q66.7096 414.505 60.2282 414.505 Q58.0523 414.505 55.7375 414.065 Q53.4458 413.648 50.9921 412.792 L50.9921 408.278 Q52.9366 409.412 55.2514 409.991 Q57.5662 410.57 60.0893 410.57 Q64.4874 410.57 66.7791 408.833 Q69.0939 407.097 69.0939 403.787 Q69.0939 400.732 66.9411 399.019 Q64.8115 397.283 60.9921 397.283 L56.9643 397.283 L56.9643 393.44 L61.1773 393.44 Q64.6263 393.44 66.455 392.074 Q68.2837 390.685 68.2837 388.093 Q68.2837 385.431 66.3856 384.019 Q64.5106 382.584 60.9921 382.584 Q59.0708 382.584 56.8717 383 Q54.6727 383.417 52.0338 384.297 L52.0338 380.13 Q54.6958 379.389 57.0106 379.019 Q59.3486 378.648 61.4087 378.648 Q66.7328 378.648 69.8346 381.079 Q72.9365 383.486 72.9365 387.607 Q72.9365 390.477 71.2929 392.468 Q69.6494 394.435 66.617 395.199 Z\" fill=\"#000000\" fill-rule=\"evenodd\" fill-opacity=\"1\" /><path clip-path=\"url(#clip910)\" d=\"M 0 0 M88.816 382.352 Q85.2049 382.352 83.3762 385.917 Q81.5707 389.459 81.5707 396.588 Q81.5707 403.695 83.3762 407.259 Q85.2049 410.801 88.816 410.801 Q92.4502 410.801 94.2558 407.259 Q96.0845 403.695 96.0845 396.588 Q96.0845 389.459 94.2558 385.917 Q92.4502 382.352 88.816 382.352 M88.816 378.648 Q94.6262 378.648 97.6817 383.255 Q100.76 387.838 100.76 396.588 Q100.76 405.315 97.6817 409.921 Q94.6262 414.505 88.816 414.505 Q83.0058 414.505 79.9272 409.921 Q76.8716 405.315 76.8716 396.588 Q76.8716 387.838 79.9272 383.255 Q83.0058 378.648 88.816 378.648 Z\" fill=\"#000000\" fill-rule=\"evenodd\" fill-opacity=\"1\" /><path clip-path=\"url(#clip910)\" d=\"M 0 0 M67.6124 86.6221 Q70.9689 87.3397 72.8439 89.6082 Q74.742 91.8767 74.742 95.21 Q74.742 100.326 71.2235 103.127 Q67.705 105.928 61.2236 105.928 Q59.0476 105.928 56.7328 105.488 Q54.4412 105.071 51.9875 104.215 L51.9875 99.7008 Q53.9319 100.835 56.2467 101.414 Q58.5615 101.992 61.0847 101.992 Q65.4828 101.992 67.7744 100.256 Q70.0892 98.5202 70.0892 95.21 Q70.0892 92.1545 67.9365 90.4415 Q65.8069 88.7054 61.9874 88.7054 L57.9597 88.7054 L57.9597 84.8629 L62.1726 84.8629 Q65.6217 84.8629 67.4504 83.4971 Q69.2791 82.1083 69.2791 79.5157 Q69.2791 76.8537 67.3809 75.4416 Q65.5059 74.0064 61.9874 74.0064 Q60.0662 74.0064 57.8671 74.4231 Q55.668 74.8398 53.0292 75.7194 L53.0292 71.5528 Q55.6912 70.812 58.006 70.4416 Q60.3439 70.0713 62.4041 70.0713 Q67.7281 70.0713 70.83 72.5018 Q73.9318 74.9092 73.9318 79.0296 Q73.9318 81.8999 72.2883 83.8907 Q70.6448 85.8582 67.6124 86.6221 Z\" fill=\"#000000\" fill-rule=\"evenodd\" fill-opacity=\"1\" /><path clip-path=\"url(#clip910)\" d=\"M 0 0 M79.8577 70.6963 L98.2141 70.6963 L98.2141 74.6314 L84.1401 74.6314 L84.1401 83.1036 Q85.1586 82.7564 86.1771 82.5944 Q87.1956 82.4092 88.2141 82.4092 Q94.0012 82.4092 97.3808 85.5805 Q100.76 88.7517 100.76 94.1684 Q100.76 99.747 97.2882 102.849 Q93.816 105.928 87.4966 105.928 Q85.3206 105.928 83.0521 105.557 Q80.8068 105.187 78.3994 104.446 L78.3994 99.747 Q80.4827 100.881 82.7049 101.437 Q84.9271 101.992 87.404 101.992 Q91.4086 101.992 93.7465 99.8859 Q96.0845 97.7795 96.0845 94.1684 Q96.0845 90.5573 93.7465 88.4508 Q91.4086 86.3443 87.404 86.3443 Q85.529 86.3443 83.654 86.761 Q81.8021 87.1777 79.8577 88.0573 L79.8577 70.6963 Z\" fill=\"#000000\" fill-rule=\"evenodd\" fill-opacity=\"1\" /><polyline clip-path=\"url(#clip912)\" style=\"stroke:#800080; stroke-width:4; stroke-opacity:1; fill:none\" points=\"\n",
       "  199.477,581.7 220.594,643.415 241.711,705.131 262.828,705.131 283.944,581.7 305.061,581.7 326.178,581.7 347.295,643.415 368.412,643.415 389.528,643.415 \n",
       "  410.645,643.415 431.762,643.415 452.879,643.415 473.995,643.415 495.112,519.984 516.229,519.984 537.346,519.984 558.463,519.984 579.579,519.984 600.696,519.984 \n",
       "  621.813,519.984 642.93,519.984 664.047,581.7 685.163,643.415 706.28,643.415 727.397,519.984 748.514,519.984 769.63,519.984 790.747,581.7 811.864,581.7 \n",
       "  832.981,581.7 854.098,643.415 875.214,643.415 896.331,705.131 917.448,705.131 938.565,705.131 959.682,705.131 980.798,705.131 1001.92,766.846 1023.03,766.846 \n",
       "  1044.15,766.846 1065.27,828.561 1086.38,828.561 1107.5,890.277 1128.62,951.992 1149.73,951.992 1170.85,1013.71 1191.97,1013.71 1213.08,1013.71 1234.2,1075.42 \n",
       "  1255.32,1075.42 1276.43,1137.14 1297.55,1137.14 1318.67,1137.14 1339.78,1137.14 1360.9,1198.85 1382.02,1198.85 1403.13,1198.85 1424.25,1198.85 1445.37,1198.85 \n",
       "  1466.48,1198.85 1487.6,1075.42 1508.72,1075.42 1529.83,951.992 1550.95,951.992 1572.07,951.992 1593.19,828.561 1614.3,705.131 1635.42,581.7 1656.54,581.7 \n",
       "  1677.65,458.269 1698.77,458.269 1719.89,458.269 1741,458.269 1762.12,519.984 1783.24,519.984 1804.35,519.984 1825.47,581.7 1846.59,581.7 1867.7,581.7 \n",
       "  1888.82,581.7 1909.94,458.269 1931.05,458.269 1952.17,458.269 1973.29,458.269 1994.4,458.269 2015.52,458.269 2036.64,334.838 2057.75,334.838 2078.87,334.838 \n",
       "  2099.99,334.838 2121.1,334.838 2142.22,334.838 2163.34,334.838 2184.46,396.553 2205.57,396.553 2226.69,396.553 2247.81,396.553 2268.92,396.553 2290.04,396.553 \n",
       "  \n",
       "  \"/>\n",
       "<polyline clip-path=\"url(#clip912)\" style=\"stroke:#008000; stroke-width:4; stroke-opacity:1; fill:none\" points=\"\n",
       "  199.477,396.553 220.594,396.553 241.711,519.984 262.828,643.415 283.944,643.415 305.061,766.846 326.178,766.846 347.295,705.131 368.412,705.131 389.528,828.561 \n",
       "  410.645,828.561 431.762,951.992 452.879,890.277 473.995,890.277 495.112,890.277 516.229,828.561 537.346,828.561 558.463,951.992 579.579,1075.42 600.696,1013.71 \n",
       "  621.813,951.992 642.93,951.992 664.047,890.277 685.163,828.561 706.28,766.846 727.397,766.846 748.514,766.846 769.63,705.131 790.747,643.415 811.864,581.7 \n",
       "  832.981,581.7 854.098,519.984 875.214,519.984 896.331,458.269 917.448,396.553 938.565,519.984 959.682,458.269 980.798,458.269 1001.92,396.553 1023.03,334.838 \n",
       "  1044.15,273.123 1065.27,273.123 1086.38,211.407 1107.5,334.838 1128.62,273.123 1149.73,273.123 1170.85,211.407 1191.97,149.692 1213.08,149.692 1234.2,87.9763 \n",
       "  1255.32,211.407 1276.43,149.692 1297.55,273.123 1318.67,396.553 1339.78,396.553 1360.9,334.838 1382.02,458.269 1403.13,458.269 1424.25,581.7 1445.37,705.131 \n",
       "  1466.48,828.561 1487.6,828.561 1508.72,766.846 1529.83,766.846 1550.95,890.277 1572.07,828.561 1593.19,828.561 1614.3,828.561 1635.42,828.561 1656.54,828.561 \n",
       "  1677.65,828.561 1698.77,766.846 1719.89,705.131 1741,828.561 1762.12,766.846 1783.24,890.277 1804.35,1013.71 1825.47,951.992 1846.59,1075.42 1867.7,1198.85 \n",
       "  1888.82,1322.28 1909.94,1322.28 1931.05,1445.72 1952.17,1384 1973.29,1384 1994.4,1384 2015.52,1322.28 2036.64,1322.28 2057.75,1445.72 2078.87,1445.72 \n",
       "  2099.99,1445.72 2121.1,1445.72 2142.22,1445.72 2163.34,1445.72 2184.46,1384 2205.57,1322.28 2226.69,1322.28 2247.81,1322.28 2268.92,1260.57 2290.04,1260.57 \n",
       "  \n",
       "  \"/>\n",
       "<path clip-path=\"url(#clip910)\" d=\"\n",
       "M1826.65 276.658 L2278.89 276.658 L2278.89 95.2176 L1826.65 95.2176  Z\n",
       "  \" fill=\"#ffffff\" fill-rule=\"evenodd\" fill-opacity=\"1\"/>\n",
       "<polyline clip-path=\"url(#clip910)\" style=\"stroke:#000000; stroke-width:4; stroke-opacity:1; fill:none\" points=\"\n",
       "  1826.65,276.658 2278.89,276.658 2278.89,95.2176 1826.65,95.2176 1826.65,276.658 \n",
       "  \"/>\n",
       "<polyline clip-path=\"url(#clip910)\" style=\"stroke:#800080; stroke-width:4; stroke-opacity:1; fill:none\" points=\"\n",
       "  1851.27,155.698 1999.01,155.698 \n",
       "  \"/>\n",
       "<path clip-path=\"url(#clip910)\" d=\"M 0 0 M2042.54 159.714 Q2042.54 155.084 2040.62 152.538 Q2038.72 149.992 2035.27 149.992 Q2031.85 149.992 2029.92 152.538 Q2028.03 155.084 2028.03 159.714 Q2028.03 164.32 2029.92 166.866 Q2031.85 169.413 2035.27 169.413 Q2038.72 169.413 2040.62 166.866 Q2042.54 164.32 2042.54 159.714 M2046.8 169.76 Q2046.8 176.38 2043.86 179.598 Q2040.92 182.839 2034.85 182.839 Q2032.61 182.839 2030.62 182.491 Q2028.63 182.167 2026.75 181.473 L2026.75 177.329 Q2028.63 178.348 2030.46 178.834 Q2032.28 179.32 2034.18 179.32 Q2038.37 179.32 2040.46 177.121 Q2042.54 174.945 2042.54 170.524 L2042.54 168.417 Q2041.22 170.709 2039.16 171.843 Q2037.1 172.978 2034.23 172.978 Q2029.46 172.978 2026.54 169.343 Q2023.63 165.709 2023.63 159.714 Q2023.63 153.695 2026.54 150.061 Q2029.46 146.427 2034.23 146.427 Q2037.1 146.427 2039.16 147.561 Q2041.22 148.695 2042.54 150.987 L2042.54 147.052 L2046.8 147.052 L2046.8 169.76 Z\" fill=\"#000000\" fill-rule=\"evenodd\" fill-opacity=\"1\" /><path clip-path=\"url(#clip910)\" d=\"M 0 0 M2061.31 150.038 Q2057.89 150.038 2055.9 152.723 Q2053.91 155.385 2053.91 160.038 Q2053.91 164.691 2055.87 167.376 Q2057.86 170.038 2061.31 170.038 Q2064.72 170.038 2066.71 167.353 Q2068.7 164.667 2068.7 160.038 Q2068.7 155.431 2066.71 152.746 Q2064.72 150.038 2061.31 150.038 M2061.31 146.427 Q2066.87 146.427 2070.04 150.038 Q2073.21 153.649 2073.21 160.038 Q2073.21 166.404 2070.04 170.038 Q2066.87 173.649 2061.31 173.649 Q2055.73 173.649 2052.56 170.038 Q2049.41 166.404 2049.41 160.038 Q2049.41 153.649 2052.56 150.038 Q2055.73 146.427 2061.31 146.427 Z\" fill=\"#000000\" fill-rule=\"evenodd\" fill-opacity=\"1\" /><path clip-path=\"url(#clip910)\" d=\"M 0 0 M2077.82 136.959 L2082.08 136.959 L2082.08 150.894 L2084.97 148.811 L2086.73 151.265 L2082.08 154.529 L2082.08 172.978 L2077.82 172.978 L2077.82 157.561 L2074.97 159.598 L2073.26 157.144 L2077.82 153.88 L2077.82 136.959 Z\" fill=\"#000000\" fill-rule=\"evenodd\" fill-opacity=\"1\" /><path clip-path=\"url(#clip910)\" d=\"M 0 0 M2113.37 158.95 L2113.37 161.033 L2093.79 161.033 Q2094.07 165.431 2096.43 167.746 Q2098.81 170.038 2103.05 170.038 Q2105.5 170.038 2107.79 169.436 Q2110.11 168.834 2112.38 167.63 L2112.38 171.658 Q2110.09 172.63 2107.68 173.14 Q2105.27 173.649 2102.79 173.649 Q2096.59 173.649 2092.96 170.038 Q2089.34 166.427 2089.34 160.269 Q2089.34 153.904 2092.77 150.177 Q2096.22 146.427 2102.05 146.427 Q2107.28 146.427 2110.32 149.806 Q2113.37 153.163 2113.37 158.95 M2109.11 157.7 Q2109.07 154.205 2107.15 152.121 Q2105.25 150.038 2102.1 150.038 Q2098.53 150.038 2096.38 152.052 Q2094.25 154.066 2093.93 157.723 L2109.11 157.7 M2105.62 172.978 L2108.37 172.978 Q2107.33 174.39 2106.82 175.408 Q2106.34 176.427 2106.34 177.144 Q2106.34 178.209 2106.96 178.741 Q2107.61 179.274 2108.86 179.274 Q2109.6 179.274 2110.32 179.089 Q2111.03 178.927 2111.75 178.579 L2111.75 181.658 Q2110.87 181.89 2110.09 182.005 Q2109.3 182.121 2108.6 182.121 Q2105.78 182.121 2104.44 181.103 Q2103.12 180.107 2103.12 177.954 Q2103.12 176.843 2103.72 175.616 Q2104.34 174.413 2105.62 172.978 Z\" fill=\"#000000\" fill-rule=\"evenodd\" fill-opacity=\"1\" /><path clip-path=\"url(#clip910)\" d=\"M 0 0 M2136.45 160.038 Q2136.45 155.339 2134.51 152.677 Q2132.59 149.992 2129.21 149.992 Q2125.83 149.992 2123.88 152.677 Q2121.96 155.339 2121.96 160.038 Q2121.96 164.737 2123.88 167.422 Q2125.83 170.084 2129.21 170.084 Q2132.59 170.084 2134.51 167.422 Q2136.45 164.737 2136.45 160.038 M2121.96 150.987 Q2123.3 148.672 2125.34 147.561 Q2127.4 146.427 2130.25 146.427 Q2134.97 146.427 2137.91 150.177 Q2140.87 153.927 2140.87 160.038 Q2140.87 166.149 2137.91 169.899 Q2134.97 173.649 2130.25 173.649 Q2127.4 173.649 2125.34 172.538 Q2123.3 171.403 2121.96 169.089 L2121.96 172.978 L2117.68 172.978 L2117.68 136.959 L2121.96 136.959 L2121.96 150.987 Z\" fill=\"#000000\" fill-rule=\"evenodd\" fill-opacity=\"1\" /><path clip-path=\"url(#clip910)\" d=\"M 0 0 M2145.34 147.052 L2149.6 147.052 L2149.6 172.978 L2145.34 172.978 L2145.34 147.052 M2145.34 136.959 L2149.6 136.959 L2149.6 142.353 L2145.34 142.353 L2145.34 136.959 Z\" fill=\"#000000\" fill-rule=\"evenodd\" fill-opacity=\"1\" /><path clip-path=\"url(#clip910)\" d=\"M 0 0 M2176.24 158.95 L2176.24 161.033 L2156.66 161.033 Q2156.94 165.431 2159.3 167.746 Q2161.68 170.038 2165.92 170.038 Q2168.37 170.038 2170.66 169.436 Q2172.98 168.834 2175.25 167.63 L2175.25 171.658 Q2172.96 172.63 2170.55 173.14 Q2168.14 173.649 2165.66 173.649 Q2159.46 173.649 2155.83 170.038 Q2152.21 166.427 2152.21 160.269 Q2152.21 153.904 2155.64 150.177 Q2159.09 146.427 2164.92 146.427 Q2170.15 146.427 2173.19 149.806 Q2176.24 153.163 2176.24 158.95 M2171.98 157.7 Q2171.94 154.205 2170.02 152.121 Q2168.12 150.038 2164.97 150.038 Q2161.4 150.038 2159.25 152.052 Q2157.12 154.066 2156.8 157.723 L2171.98 157.7 Z\" fill=\"#000000\" fill-rule=\"evenodd\" fill-opacity=\"1\" /><polyline clip-path=\"url(#clip910)\" style=\"stroke:#008000; stroke-width:4; stroke-opacity:1; fill:none\" points=\"\n",
       "  1851.27,216.178 1999.01,216.178 \n",
       "  \"/>\n",
       "<path clip-path=\"url(#clip910)\" d=\"M 0 0 M2028.95 207.532 L2033.21 207.532 L2033.21 233.921 Q2033.21 238.874 2031.31 241.096 Q2029.44 243.319 2025.25 243.319 L2023.63 243.319 L2023.63 239.708 L2024.76 239.708 Q2027.19 239.708 2028.07 238.573 Q2028.95 237.462 2028.95 233.921 L2028.95 207.532 M2028.95 197.439 L2033.21 197.439 L2033.21 202.833 L2028.95 202.833 L2028.95 197.439 Z\" fill=\"#000000\" fill-rule=\"evenodd\" fill-opacity=\"1\" /><path clip-path=\"url(#clip910)\" d=\"M 0 0 M2049.46 220.425 Q2044.3 220.425 2042.31 221.606 Q2040.32 222.786 2040.32 225.634 Q2040.32 227.902 2041.8 229.245 Q2043.3 230.564 2045.87 230.564 Q2049.41 230.564 2051.54 228.064 Q2053.7 225.541 2053.7 221.374 L2053.7 220.425 L2049.46 220.425 M2057.96 218.666 L2057.96 233.458 L2053.7 233.458 L2053.7 229.522 Q2052.24 231.883 2050.06 233.018 Q2047.89 234.129 2044.74 234.129 Q2040.76 234.129 2038.4 231.907 Q2036.06 229.661 2036.06 225.911 Q2036.06 221.536 2038.97 219.314 Q2041.91 217.092 2047.72 217.092 L2053.7 217.092 L2053.7 216.675 Q2053.7 213.735 2051.75 212.138 Q2049.83 210.518 2046.34 210.518 Q2044.11 210.518 2042.01 211.05 Q2039.9 211.583 2037.96 212.647 L2037.96 208.712 Q2040.29 207.81 2042.49 207.37 Q2044.69 206.907 2046.78 206.907 Q2052.4 206.907 2055.18 209.823 Q2057.96 212.74 2057.96 218.666 Z\" fill=\"#000000\" fill-rule=\"evenodd\" fill-opacity=\"1\" /><path clip-path=\"url(#clip910)\" d=\"M 0 0 M2078.95 208.296 L2078.95 212.323 Q2077.15 211.397 2075.2 210.935 Q2073.26 210.472 2071.17 210.472 Q2068 210.472 2066.41 211.444 Q2064.83 212.416 2064.83 214.36 Q2064.83 215.842 2065.97 216.698 Q2067.1 217.532 2070.53 218.296 L2071.98 218.62 Q2076.52 219.592 2078.42 221.374 Q2080.34 223.134 2080.34 226.305 Q2080.34 229.916 2077.47 232.022 Q2074.62 234.129 2069.62 234.129 Q2067.54 234.129 2065.27 233.712 Q2063.03 233.319 2060.53 232.508 L2060.53 228.11 Q2062.89 229.337 2065.18 229.962 Q2067.47 230.564 2069.72 230.564 Q2072.72 230.564 2074.34 229.546 Q2075.97 228.504 2075.97 226.629 Q2075.97 224.893 2074.78 223.967 Q2073.63 223.041 2069.67 222.184 L2068.19 221.837 Q2064.23 221.004 2062.47 219.291 Q2060.71 217.555 2060.71 214.546 Q2060.71 210.888 2063.3 208.898 Q2065.9 206.907 2070.66 206.907 Q2073.03 206.907 2075.11 207.254 Q2077.19 207.601 2078.95 208.296 Z\" fill=\"#000000\" fill-rule=\"evenodd\" fill-opacity=\"1\" /><path clip-path=\"url(#clip910)\" d=\"M 0 0 M2089.02 200.171 L2089.02 207.532 L2097.79 207.532 L2097.79 210.842 L2089.02 210.842 L2089.02 224.916 Q2089.02 228.087 2089.88 228.99 Q2090.76 229.893 2093.42 229.893 L2097.79 229.893 L2097.79 233.458 L2093.42 233.458 Q2088.49 233.458 2086.61 231.629 Q2084.74 229.777 2084.74 224.916 L2084.74 210.842 L2081.61 210.842 L2081.61 207.532 L2084.74 207.532 L2084.74 200.171 L2089.02 200.171 Z\" fill=\"#000000\" fill-rule=\"evenodd\" fill-opacity=\"1\" /><path clip-path=\"url(#clip910)\" d=\"M 0 0 M2117.28 211.513 Q2116.57 211.097 2115.71 210.911 Q2114.88 210.703 2113.86 210.703 Q2110.25 210.703 2108.3 213.064 Q2106.38 215.402 2106.38 219.8 L2106.38 233.458 L2102.1 233.458 L2102.1 207.532 L2106.38 207.532 L2106.38 211.56 Q2107.72 209.198 2109.88 208.064 Q2112.03 206.907 2115.11 206.907 Q2115.55 206.907 2116.08 206.976 Q2116.61 207.023 2117.26 207.138 L2117.28 211.513 Z\" fill=\"#000000\" fill-rule=\"evenodd\" fill-opacity=\"1\" /><path clip-path=\"url(#clip910)\" d=\"M 0 0 M2119.9 207.532 L2140.13 207.532 L2140.13 211.421 L2124.11 230.055 L2140.13 230.055 L2140.13 233.458 L2119.32 233.458 L2119.32 229.569 L2135.34 210.935 L2119.9 210.935 L2119.9 207.532 Z\" fill=\"#000000\" fill-rule=\"evenodd\" fill-opacity=\"1\" /><path clip-path=\"url(#clip910)\" d=\"M 0 0 M2166.78 219.43 L2166.78 221.513 L2147.19 221.513 Q2147.47 225.911 2149.83 228.226 Q2152.21 230.518 2156.45 230.518 Q2158.9 230.518 2161.2 229.916 Q2163.51 229.314 2165.78 228.11 L2165.78 232.138 Q2163.49 233.11 2161.08 233.62 Q2158.67 234.129 2156.2 234.129 Q2149.99 234.129 2146.36 230.518 Q2142.75 226.907 2142.75 220.749 Q2142.75 214.384 2146.17 210.657 Q2149.62 206.907 2155.46 206.907 Q2160.69 206.907 2163.72 210.286 Q2166.78 213.643 2166.78 219.43 M2162.52 218.18 Q2162.47 214.685 2160.55 212.601 Q2158.65 210.518 2155.5 210.518 Q2151.94 210.518 2149.78 212.532 Q2147.65 214.546 2147.33 218.203 L2162.52 218.18 M2159.02 233.458 L2161.78 233.458 Q2160.73 234.87 2160.22 235.888 Q2159.74 236.907 2159.74 237.624 Q2159.74 238.689 2160.36 239.221 Q2161.01 239.754 2162.26 239.754 Q2163 239.754 2163.72 239.569 Q2164.44 239.407 2165.15 239.059 L2165.15 242.138 Q2164.28 242.37 2163.49 242.485 Q2162.7 242.601 2162.01 242.601 Q2159.18 242.601 2157.84 241.583 Q2156.52 240.587 2156.52 238.434 Q2156.52 237.323 2157.12 236.096 Q2157.75 234.893 2159.02 233.458 Z\" fill=\"#000000\" fill-rule=\"evenodd\" fill-opacity=\"1\" /><path clip-path=\"url(#clip910)\" d=\"M 0 0 M2189.85 220.518 Q2189.85 215.819 2187.91 213.157 Q2185.99 210.472 2182.61 210.472 Q2179.23 210.472 2177.28 213.157 Q2175.36 215.819 2175.36 220.518 Q2175.36 225.217 2177.28 227.902 Q2179.23 230.564 2182.61 230.564 Q2185.99 230.564 2187.91 227.902 Q2189.85 225.217 2189.85 220.518 M2175.36 211.467 Q2176.71 209.152 2178.74 208.041 Q2180.8 206.907 2183.65 206.907 Q2188.37 206.907 2191.31 210.657 Q2194.27 214.407 2194.27 220.518 Q2194.27 226.629 2191.31 230.379 Q2188.37 234.129 2183.65 234.129 Q2180.8 234.129 2178.74 233.018 Q2176.71 231.883 2175.36 229.569 L2175.36 233.458 L2171.08 233.458 L2171.08 197.439 L2175.36 197.439 L2175.36 211.467 Z\" fill=\"#000000\" fill-rule=\"evenodd\" fill-opacity=\"1\" /><path clip-path=\"url(#clip910)\" d=\"M 0 0 M2198.74 207.532 L2203 207.532 L2203 233.458 L2198.74 233.458 L2198.74 207.532 M2198.74 197.439 L2203 197.439 L2203 202.833 L2198.74 202.833 L2198.74 197.439 Z\" fill=\"#000000\" fill-rule=\"evenodd\" fill-opacity=\"1\" /><path clip-path=\"url(#clip910)\" d=\"M 0 0 M2229.65 219.43 L2229.65 221.513 L2210.06 221.513 Q2210.34 225.911 2212.7 228.226 Q2215.08 230.518 2219.32 230.518 Q2221.77 230.518 2224.07 229.916 Q2226.38 229.314 2228.65 228.11 L2228.65 232.138 Q2226.36 233.11 2223.95 233.62 Q2221.54 234.129 2219.07 234.129 Q2212.86 234.129 2209.23 230.518 Q2205.62 226.907 2205.62 220.749 Q2205.62 214.384 2209.04 210.657 Q2212.49 206.907 2218.33 206.907 Q2223.56 206.907 2226.59 210.286 Q2229.65 213.643 2229.65 219.43 M2225.39 218.18 Q2225.34 214.685 2223.42 212.601 Q2221.52 210.518 2218.37 210.518 Q2214.81 210.518 2212.65 212.532 Q2210.52 214.546 2210.2 218.203 L2225.39 218.18 Z\" fill=\"#000000\" fill-rule=\"evenodd\" fill-opacity=\"1\" /></svg>\n"
      ]
     },
     "execution_count": 54,
     "metadata": {},
     "output_type": "execute_result"
    }
   ],
   "source": [
    "A = action(9,9,30,30, 100, zeros(Int64, 100, 2))\n",
    "plot(1:size(A)[1], A[:, 1], label=\"gołębie\", color= :purple)\n",
    "plot!(1:size(A)[1], A[:, 2], label=\"jastrzębie\", color= :green)"
   ]
  },
  {
   "cell_type": "code",
   "execution_count": 33,
   "metadata": {},
   "outputs": [
    {
     "data": {
      "application/vnd.webio.node+json": {
       "children": [
        {
         "children": [
          {
           "children": [
            {
             "children": [
              {
               "children": [
                {
                 "children": [
                  "time"
                 ],
                 "instanceArgs": {
                  "namespace": "html",
                  "tag": "label"
                 },
                 "nodeType": "DOM",
                 "props": {
                  "className": "interact ",
                  "style": {
                   "padding": "5px 10px 0px 10px"
                  }
                 },
                 "type": "node"
                }
               ],
               "instanceArgs": {
                "namespace": "html",
                "tag": "div"
               },
               "nodeType": "DOM",
               "props": {
                "className": "interact-flex-row-left"
               },
               "type": "node"
              },
              {
               "children": [
                {
                 "children": [],
                 "instanceArgs": {
                  "namespace": "html",
                  "tag": "input"
                 },
                 "nodeType": "DOM",
                 "props": {
                  "attributes": {
                   "data-bind": "numericValue: index, valueUpdate: 'input', event: {change: function (){this.changes(this.changes()+1)}}",
                   "orient": "horizontal",
                   "type": "range"
                  },
                  "className": "slider slider is-fullwidth",
                  "max": 99,
                  "min": 1,
                  "step": 1,
                  "style": {}
                 },
                 "type": "node"
                }
               ],
               "instanceArgs": {
                "namespace": "html",
                "tag": "div"
               },
               "nodeType": "DOM",
               "props": {
                "className": "interact-flex-row-center"
               },
               "type": "node"
              },
              {
               "children": [
                {
                 "children": [],
                 "instanceArgs": {
                  "namespace": "html",
                  "tag": "p"
                 },
                 "nodeType": "DOM",
                 "props": {
                  "attributes": {
                   "data-bind": "text: formatted_val"
                  }
                 },
                 "type": "node"
                }
               ],
               "instanceArgs": {
                "namespace": "html",
                "tag": "div"
               },
               "nodeType": "DOM",
               "props": {
                "className": "interact-flex-row-right"
               },
               "type": "node"
              }
             ],
             "instanceArgs": {
              "namespace": "html",
              "tag": "div"
             },
             "nodeType": "DOM",
             "props": {
              "className": "interact-flex-row interact-widget"
             },
             "type": "node"
            }
           ],
           "instanceArgs": {
            "handlers": {
             "changes": [
              "(function (val){return (val!=this.model[\"changes\"]()) ? (this.valueFromJulia[\"changes\"]=true, this.model[\"changes\"](val)) : undefined})"
             ],
             "index": [
              "(function (val){return (val!=this.model[\"index\"]()) ? (this.valueFromJulia[\"index\"]=true, this.model[\"index\"](val)) : undefined})"
             ]
            },
            "id": "222872386228263200",
            "imports": {
             "data": [
              {
               "name": "knockout",
               "type": "js",
               "url": "/assetserver/fd91bcc76f200e46e5681854927159f78397d01c-knockout.js"
              },
              {
               "name": "knockout_punches",
               "type": "js",
               "url": "/assetserver/0771d715f47990fd6a20af05579c332026637b1d-knockout_punches.js"
              },
              {
               "name": null,
               "type": "js",
               "url": "/assetserver/e56fcd69f839599425572dc2cffb9ce416a547ec-all.js"
              },
              {
               "name": null,
               "type": "css",
               "url": "/assetserver/f03a11104aa67cefd9b6e4d413d413b5ef056233-style.css"
              },
              {
               "name": null,
               "type": "css",
               "url": "/assetserver/e60d8885c5ad87196b49c3e741a5de92d7eeea1c-bulma_confined.min.css"
              }
             ],
             "type": "async_block"
            },
            "mount_callbacks": [
             "function () {\n    var handler = (function (ko, koPunches) {\n    ko.punches.enableAll();\n    ko.bindingHandlers.numericValue = {\n        init: function(element, valueAccessor, allBindings, data, context) {\n            var stringified = ko.observable(ko.unwrap(valueAccessor()));\n            stringified.subscribe(function(value) {\n                var val = parseFloat(value);\n                if (!isNaN(val)) {\n                    valueAccessor()(val);\n                }\n            });\n            valueAccessor().subscribe(function(value) {\n                var str = JSON.stringify(value);\n                if ((str == \"0\") && ([\"-0\", \"-0.\"].indexOf(stringified()) >= 0))\n                     return;\n                 if ([\"null\", \"\"].indexOf(str) >= 0)\n                     return;\n                stringified(str);\n            });\n            ko.applyBindingsToNode(\n                element,\n                {\n                    value: stringified,\n                    valueUpdate: allBindings.get('valueUpdate'),\n                },\n                context,\n            );\n        }\n    };\n    var json_data = {\"formatted_vals\":[\"2\",\"3\",\"4\",\"5\",\"6\",\"7\",\"8\",\"9\",\"10\",\"11\",\"12\",\"13\",\"14\",\"15\",\"16\",\"17\",\"18\",\"19\",\"20\",\"21\",\"22\",\"23\",\"24\",\"25\",\"26\",\"27\",\"28\",\"29\",\"30\",\"31\",\"32\",\"33\",\"34\",\"35\",\"36\",\"37\",\"38\",\"39\",\"40\",\"41\",\"42\",\"43\",\"44\",\"45\",\"46\",\"47\",\"48\",\"49\",\"50\",\"51\",\"52\",\"53\",\"54\",\"55\",\"56\",\"57\",\"58\",\"59\",\"60\",\"61\",\"62\",\"63\",\"64\",\"65\",\"66\",\"67\",\"68\",\"69\",\"70\",\"71\",\"72\",\"73\",\"74\",\"75\",\"76\",\"77\",\"78\",\"79\",\"80\",\"81\",\"82\",\"83\",\"84\",\"85\",\"86\",\"87\",\"88\",\"89\",\"90\",\"91\",\"92\",\"93\",\"94\",\"95\",\"96\",\"97\",\"98\",\"99\",\"100\"],\"changes\":WebIO.getval({\"name\":\"changes\",\"scope\":\"222872386228263200\",\"id\":\"9657432480842699360\",\"type\":\"observable\"}),\"index\":WebIO.getval({\"name\":\"index\",\"scope\":\"222872386228263200\",\"id\":\"9906375580117670844\",\"type\":\"observable\"})};\n    var self = this;\n    function AppViewModel() {\n        for (var key in json_data) {\n            var el = json_data[key];\n            this[key] = Array.isArray(el) ? ko.observableArray(el) : ko.observable(el);\n        }\n        \n        [this[\"formatted_val\"]=ko.computed(    function(){\n        return this.formatted_vals()[parseInt(this.index())-(1)];\n    }\n,this)]\n        [this[\"changes\"].subscribe((function (val){!(this.valueFromJulia[\"changes\"]) ? (WebIO.setval({\"name\":\"changes\",\"scope\":\"222872386228263200\",\"id\":\"9657432480842699360\",\"type\":\"observable\"},val)) : undefined; return this.valueFromJulia[\"changes\"]=false}),self),this[\"index\"].subscribe((function (val){!(this.valueFromJulia[\"index\"]) ? (WebIO.setval({\"name\":\"index\",\"scope\":\"222872386228263200\",\"id\":\"9906375580117670844\",\"type\":\"observable\"},val)) : undefined; return this.valueFromJulia[\"index\"]=false}),self)]\n        \n    }\n    self.model = new AppViewModel();\n    self.valueFromJulia = {};\n    for (var key in json_data) {\n        self.valueFromJulia[key] = false;\n    }\n    ko.applyBindings(self.model, self.dom);\n}\n);\n    (WebIO.importBlock({\"data\":[{\"name\":\"knockout\",\"type\":\"js\",\"url\":\"/assetserver/fd91bcc76f200e46e5681854927159f78397d01c-knockout.js\"},{\"name\":\"knockout_punches\",\"type\":\"js\",\"url\":\"/assetserver/0771d715f47990fd6a20af05579c332026637b1d-knockout_punches.js\"}],\"type\":\"async_block\"})).then((imports) => handler.apply(this, imports));\n}\n"
            ],
            "observables": {
             "changes": {
              "id": "9657432480842699360",
              "sync": false,
              "value": 0
             },
             "index": {
              "id": "9906375580117670844",
              "sync": true,
              "value": 50
             }
            },
            "systemjs_options": null
           },
           "nodeType": "Scope",
           "props": {},
           "type": "node"
          }
         ],
         "instanceArgs": {
          "namespace": "html",
          "tag": "div"
         },
         "nodeType": "DOM",
         "props": {
          "className": "field interact-widget"
         },
         "type": "node"
        },
        {
         "children": [
          {
           "children": [],
           "instanceArgs": {
            "id": "1006674392131575226",
            "name": "obs-node"
           },
           "nodeType": "ObservableNode",
           "props": {},
           "type": "node"
          }
         ],
         "instanceArgs": {
          "handlers": {},
          "id": "10771739026256342081",
          "imports": {
           "data": [],
           "type": "async_block"
          },
          "mount_callbacks": [],
          "observables": {
           "obs-node": {
            "id": "1006674392131575226",
            "sync": false,
            "value": {
             "children": [
              {
               "children": [],
               "instanceArgs": {
                "namespace": "html",
                "tag": "div"
               },
               "nodeType": "DOM",
               "props": {
                "setInnerHtml": "<?xml version=\"1.0\" encoding=\"utf-8\"?>\n<svg xmlns=\"http://www.w3.org/2000/svg\" xmlns:xlink=\"http://www.w3.org/1999/xlink\" width=\"600\" height=\"400\" viewBox=\"0 0 2400 1600\">\n<defs>\n  <clipPath id=\"clip240\">\n    <rect x=\"0\" y=\"0\" width=\"2400\" height=\"1600\"/>\n  </clipPath>\n</defs>\n<path clip-path=\"url(#clip240)\" d=\"\nM0 1600 L2400 1600 L2400 0 L0 0  Z\n  \" fill=\"#ffffff\" fill-rule=\"evenodd\" fill-opacity=\"1\"/>\n<defs>\n  <clipPath id=\"clip241\">\n    <rect x=\"480\" y=\"0\" width=\"1681\" height=\"1600\"/>\n  </clipPath>\n</defs>\n<path clip-path=\"url(#clip240)\" d=\"\nM136.76 1486.45 L2352.76 1486.45 L2352.76 47.2441 L136.76 47.2441  Z\n  \" fill=\"#ffffff\" fill-rule=\"evenodd\" fill-opacity=\"1\"/>\n<defs>\n  <clipPath id=\"clip242\">\n    <rect x=\"136\" y=\"47\" width=\"2217\" height=\"1440\"/>\n  </clipPath>\n</defs>\n<polyline clip-path=\"url(#clip242)\" style=\"stroke:#000000; stroke-width:2; stroke-opacity:0.1; fill:none\" points=\"\n  157.666,1486.45 157.666,47.2441 \n  \"/>\n<polyline clip-path=\"url(#clip242)\" style=\"stroke:#000000; stroke-width:2; stroke-opacity:0.1; fill:none\" points=\"\n  575.778,1486.45 575.778,47.2441 \n  \"/>\n<polyline clip-path=\"url(#clip242)\" style=\"stroke:#000000; stroke-width:2; stroke-opacity:0.1; fill:none\" points=\"\n  993.891,1486.45 993.891,47.2441 \n  \"/>\n<polyline clip-path=\"url(#clip242)\" style=\"stroke:#000000; stroke-width:2; stroke-opacity:0.1; fill:none\" points=\"\n  1412,1486.45 1412,47.2441 \n  \"/>\n<polyline clip-path=\"url(#clip242)\" style=\"stroke:#000000; stroke-width:2; stroke-opacity:0.1; fill:none\" points=\"\n  1830.12,1486.45 1830.12,47.2441 \n  \"/>\n<polyline clip-path=\"url(#clip242)\" style=\"stroke:#000000; stroke-width:2; stroke-opacity:0.1; fill:none\" points=\"\n  2248.23,1486.45 2248.23,47.2441 \n  \"/>\n<polyline clip-path=\"url(#clip240)\" style=\"stroke:#000000; stroke-width:4; stroke-opacity:1; fill:none\" points=\"\n  136.76,1486.45 2352.76,1486.45 \n  \"/>\n<polyline clip-path=\"url(#clip240)\" style=\"stroke:#000000; stroke-width:4; stroke-opacity:1; fill:none\" points=\"\n  157.666,1486.45 157.666,1469.18 \n  \"/>\n<polyline clip-path=\"url(#clip240)\" style=\"stroke:#000000; stroke-width:4; stroke-opacity:1; fill:none\" points=\"\n  575.778,1486.45 575.778,1469.18 \n  \"/>\n<polyline clip-path=\"url(#clip240)\" style=\"stroke:#000000; stroke-width:4; stroke-opacity:1; fill:none\" points=\"\n  993.891,1486.45 993.891,1469.18 \n  \"/>\n<polyline clip-path=\"url(#clip240)\" style=\"stroke:#000000; stroke-width:4; stroke-opacity:1; fill:none\" points=\"\n  1412,1486.45 1412,1469.18 \n  \"/>\n<polyline clip-path=\"url(#clip240)\" style=\"stroke:#000000; stroke-width:4; stroke-opacity:1; fill:none\" points=\"\n  1830.12,1486.45 1830.12,1469.18 \n  \"/>\n<polyline clip-path=\"url(#clip240)\" style=\"stroke:#000000; stroke-width:4; stroke-opacity:1; fill:none\" points=\"\n  2248.23,1486.45 2248.23,1469.18 \n  \"/>\n<path clip-path=\"url(#clip240)\" d=\"M 0 0 M157.666 1515.64 Q154.055 1515.64 152.226 1519.2 Q150.421 1522.75 150.421 1529.87 Q150.421 1536.98 152.226 1540.55 Q154.055 1544.09 157.666 1544.09 Q161.3 1544.09 163.106 1540.55 Q164.934 1536.98 164.934 1529.87 Q164.934 1522.75 163.106 1519.2 Q161.3 1515.64 157.666 1515.64 M157.666 1511.93 Q163.476 1511.93 166.532 1516.54 Q169.61 1521.12 169.61 1529.87 Q169.61 1538.6 166.532 1543.21 Q163.476 1547.79 157.666 1547.79 Q151.856 1547.79 148.777 1543.21 Q145.722 1538.6 145.722 1529.87 Q145.722 1521.12 148.777 1516.54 Q151.856 1511.93 157.666 1511.93 Z\" fill=\"#000000\" fill-rule=\"evenodd\" fill-opacity=\"1\" /><path clip-path=\"url(#clip240)\" d=\"M 0 0 M552.653 1543.18 L560.292 1543.18 L560.292 1516.82 L551.982 1518.49 L551.982 1514.23 L560.246 1512.56 L564.922 1512.56 L564.922 1543.18 L572.561 1543.18 L572.561 1547.12 L552.653 1547.12 L552.653 1543.18 Z\" fill=\"#000000\" fill-rule=\"evenodd\" fill-opacity=\"1\" /><path clip-path=\"url(#clip240)\" d=\"M 0 0 M587.63 1515.64 Q584.019 1515.64 582.19 1519.2 Q580.385 1522.75 580.385 1529.87 Q580.385 1536.98 582.19 1540.55 Q584.019 1544.09 587.63 1544.09 Q591.264 1544.09 593.07 1540.55 Q594.899 1536.98 594.899 1529.87 Q594.899 1522.75 593.07 1519.2 Q591.264 1515.64 587.63 1515.64 M587.63 1511.93 Q593.44 1511.93 596.496 1516.54 Q599.575 1521.12 599.575 1529.87 Q599.575 1538.6 596.496 1543.21 Q593.44 1547.79 587.63 1547.79 Q581.82 1547.79 578.741 1543.21 Q575.686 1538.6 575.686 1529.87 Q575.686 1521.12 578.741 1516.54 Q581.82 1511.93 587.63 1511.93 Z\" fill=\"#000000\" fill-rule=\"evenodd\" fill-opacity=\"1\" /><path clip-path=\"url(#clip240)\" d=\"M 0 0 M975.037 1543.18 L991.356 1543.18 L991.356 1547.12 L969.412 1547.12 L969.412 1543.18 Q972.074 1540.43 976.657 1535.8 Q981.263 1531.15 982.444 1529.81 Q984.689 1527.28 985.569 1525.55 Q986.472 1523.79 986.472 1522.1 Q986.472 1519.34 984.527 1517.61 Q982.606 1515.87 979.504 1515.87 Q977.305 1515.87 974.851 1516.63 Q972.421 1517.4 969.643 1518.95 L969.643 1514.23 Q972.467 1513.09 974.921 1512.51 Q977.375 1511.93 979.412 1511.93 Q984.782 1511.93 987.976 1514.62 Q991.171 1517.31 991.171 1521.8 Q991.171 1523.93 990.361 1525.85 Q989.574 1527.74 987.467 1530.34 Q986.888 1531.01 983.787 1534.23 Q980.685 1537.42 975.037 1543.18 Z\" fill=\"#000000\" fill-rule=\"evenodd\" fill-opacity=\"1\" /><path clip-path=\"url(#clip240)\" d=\"M 0 0 M1006.43 1515.64 Q1002.81 1515.64 1000.99 1519.2 Q999.18 1522.75 999.18 1529.87 Q999.18 1536.98 1000.99 1540.55 Q1002.81 1544.09 1006.43 1544.09 Q1010.06 1544.09 1011.87 1540.55 Q1013.69 1536.98 1013.69 1529.87 Q1013.69 1522.75 1011.87 1519.2 Q1010.06 1515.64 1006.43 1515.64 M1006.43 1511.93 Q1012.24 1511.93 1015.29 1516.54 Q1018.37 1521.12 1018.37 1529.87 Q1018.37 1538.6 1015.29 1543.21 Q1012.24 1547.79 1006.43 1547.79 Q1000.62 1547.79 997.537 1543.21 Q994.481 1538.6 994.481 1529.87 Q994.481 1521.12 997.537 1516.54 Q1000.62 1511.93 1006.43 1511.93 Z\" fill=\"#000000\" fill-rule=\"evenodd\" fill-opacity=\"1\" /><path clip-path=\"url(#clip240)\" d=\"M 0 0 M1402.74 1528.49 Q1406.1 1529.2 1407.98 1531.47 Q1409.87 1533.74 1409.87 1537.07 Q1409.87 1542.19 1406.35 1544.99 Q1402.84 1547.79 1396.36 1547.79 Q1394.18 1547.79 1391.86 1547.35 Q1389.57 1546.93 1387.12 1546.08 L1387.12 1541.56 Q1389.06 1542.7 1391.38 1543.28 Q1393.69 1543.86 1396.22 1543.86 Q1400.61 1543.86 1402.91 1542.12 Q1405.22 1540.38 1405.22 1537.07 Q1405.22 1534.02 1403.07 1532.31 Q1400.94 1530.57 1397.12 1530.57 L1393.09 1530.57 L1393.09 1526.73 L1397.3 1526.73 Q1400.75 1526.73 1402.58 1525.36 Q1404.41 1523.97 1404.41 1521.38 Q1404.41 1518.72 1402.51 1517.31 Q1400.64 1515.87 1397.12 1515.87 Q1395.2 1515.87 1393 1516.29 Q1390.8 1516.7 1388.16 1517.58 L1388.16 1513.42 Q1390.82 1512.68 1393.14 1512.31 Q1395.48 1511.93 1397.54 1511.93 Q1402.86 1511.93 1405.96 1514.37 Q1409.06 1516.77 1409.06 1520.89 Q1409.06 1523.76 1407.42 1525.75 Q1405.78 1527.72 1402.74 1528.49 Z\" fill=\"#000000\" fill-rule=\"evenodd\" fill-opacity=\"1\" /><path clip-path=\"url(#clip240)\" d=\"M 0 0 M1424.94 1515.64 Q1421.33 1515.64 1419.5 1519.2 Q1417.7 1522.75 1417.7 1529.87 Q1417.7 1536.98 1419.5 1540.55 Q1421.33 1544.09 1424.94 1544.09 Q1428.58 1544.09 1430.38 1540.55 Q1432.21 1536.98 1432.21 1529.87 Q1432.21 1522.75 1430.38 1519.2 Q1428.58 1515.64 1424.94 1515.64 M1424.94 1511.93 Q1430.75 1511.93 1433.81 1516.54 Q1436.89 1521.12 1436.89 1529.87 Q1436.89 1538.6 1433.81 1543.21 Q1430.75 1547.79 1424.94 1547.79 Q1419.13 1547.79 1416.05 1543.21 Q1413 1538.6 1413 1529.87 Q1413 1521.12 1416.05 1516.54 Q1419.13 1511.93 1424.94 1511.93 Z\" fill=\"#000000\" fill-rule=\"evenodd\" fill-opacity=\"1\" /><path clip-path=\"url(#clip240)\" d=\"M 0 0 M1819.62 1516.63 L1807.81 1535.08 L1819.62 1535.08 L1819.62 1516.63 M1818.39 1512.56 L1824.27 1512.56 L1824.27 1535.08 L1829.2 1535.08 L1829.2 1538.97 L1824.27 1538.97 L1824.27 1547.12 L1819.62 1547.12 L1819.62 1538.97 L1804.02 1538.97 L1804.02 1534.46 L1818.39 1512.56 Z\" fill=\"#000000\" fill-rule=\"evenodd\" fill-opacity=\"1\" /><path clip-path=\"url(#clip240)\" d=\"M 0 0 M1844.27 1515.64 Q1840.66 1515.64 1838.83 1519.2 Q1837.03 1522.75 1837.03 1529.87 Q1837.03 1536.98 1838.83 1540.55 Q1840.66 1544.09 1844.27 1544.09 Q1847.9 1544.09 1849.71 1540.55 Q1851.54 1536.98 1851.54 1529.87 Q1851.54 1522.75 1849.71 1519.2 Q1847.9 1515.64 1844.27 1515.64 M1844.27 1511.93 Q1850.08 1511.93 1853.14 1516.54 Q1856.21 1521.12 1856.21 1529.87 Q1856.21 1538.6 1853.14 1543.21 Q1850.08 1547.79 1844.27 1547.79 Q1838.46 1547.79 1835.38 1543.21 Q1832.33 1538.6 1832.33 1529.87 Q1832.33 1521.12 1835.38 1516.54 Q1838.46 1511.93 1844.27 1511.93 Z\" fill=\"#000000\" fill-rule=\"evenodd\" fill-opacity=\"1\" /><path clip-path=\"url(#clip240)\" d=\"M 0 0 M2225 1512.56 L2243.36 1512.56 L2243.36 1516.5 L2229.28 1516.5 L2229.28 1524.97 Q2230.3 1524.62 2231.32 1524.46 Q2232.34 1524.27 2233.36 1524.27 Q2239.14 1524.27 2242.52 1527.44 Q2245.9 1530.62 2245.9 1536.03 Q2245.9 1541.61 2242.43 1544.71 Q2238.96 1547.79 2232.64 1547.79 Q2230.46 1547.79 2228.19 1547.42 Q2225.95 1547.05 2223.54 1546.31 L2223.54 1541.61 Q2225.62 1542.74 2227.85 1543.3 Q2230.07 1543.86 2232.55 1543.86 Q2236.55 1543.86 2238.89 1541.75 Q2241.23 1539.64 2241.23 1536.03 Q2241.23 1532.42 2238.89 1530.31 Q2236.55 1528.21 2232.55 1528.21 Q2230.67 1528.21 2228.8 1528.62 Q2226.94 1529.04 2225 1529.92 L2225 1512.56 Z\" fill=\"#000000\" fill-rule=\"evenodd\" fill-opacity=\"1\" /><path clip-path=\"url(#clip240)\" d=\"M 0 0 M2260.97 1515.64 Q2257.36 1515.64 2255.53 1519.2 Q2253.73 1522.75 2253.73 1529.87 Q2253.73 1536.98 2255.53 1540.55 Q2257.36 1544.09 2260.97 1544.09 Q2264.61 1544.09 2266.41 1540.55 Q2268.24 1536.98 2268.24 1529.87 Q2268.24 1522.75 2266.41 1519.2 Q2264.61 1515.64 2260.97 1515.64 M2260.97 1511.93 Q2266.78 1511.93 2269.84 1516.54 Q2272.92 1521.12 2272.92 1529.87 Q2272.92 1538.6 2269.84 1543.21 Q2266.78 1547.79 2260.97 1547.79 Q2255.16 1547.79 2252.08 1543.21 Q2249.03 1538.6 2249.03 1529.87 Q2249.03 1521.12 2252.08 1516.54 Q2255.16 1511.93 2260.97 1511.93 Z\" fill=\"#000000\" fill-rule=\"evenodd\" fill-opacity=\"1\" /><polyline clip-path=\"url(#clip242)\" style=\"stroke:#000000; stroke-width:2; stroke-opacity:0.1; fill:none\" points=\"\n  136.76,1445.72 2352.76,1445.72 \n  \"/>\n<polyline clip-path=\"url(#clip242)\" style=\"stroke:#000000; stroke-width:2; stroke-opacity:0.1; fill:none\" points=\"\n  136.76,1106.28 2352.76,1106.28 \n  \"/>\n<polyline clip-path=\"url(#clip242)\" style=\"stroke:#000000; stroke-width:2; stroke-opacity:0.1; fill:none\" points=\"\n  136.76,766.846 2352.76,766.846 \n  \"/>\n<polyline clip-path=\"url(#clip242)\" style=\"stroke:#000000; stroke-width:2; stroke-opacity:0.1; fill:none\" points=\"\n  136.76,427.411 2352.76,427.411 \n  \"/>\n<polyline clip-path=\"url(#clip242)\" style=\"stroke:#000000; stroke-width:2; stroke-opacity:0.1; fill:none\" points=\"\n  136.76,87.9763 2352.76,87.9763 \n  \"/>\n<polyline clip-path=\"url(#clip240)\" style=\"stroke:#000000; stroke-width:4; stroke-opacity:1; fill:none\" points=\"\n  136.76,1486.45 136.76,47.2441 \n  \"/>\n<polyline clip-path=\"url(#clip240)\" style=\"stroke:#000000; stroke-width:4; stroke-opacity:1; fill:none\" points=\"\n  136.76,1445.72 163.352,1445.72 \n  \"/>\n<polyline clip-path=\"url(#clip240)\" style=\"stroke:#000000; stroke-width:4; stroke-opacity:1; fill:none\" points=\"\n  136.76,1106.28 163.352,1106.28 \n  \"/>\n<polyline clip-path=\"url(#clip240)\" style=\"stroke:#000000; stroke-width:4; stroke-opacity:1; fill:none\" points=\"\n  136.76,766.846 163.352,766.846 \n  \"/>\n<polyline clip-path=\"url(#clip240)\" style=\"stroke:#000000; stroke-width:4; stroke-opacity:1; fill:none\" points=\"\n  136.76,427.411 163.352,427.411 \n  \"/>\n<polyline clip-path=\"url(#clip240)\" style=\"stroke:#000000; stroke-width:4; stroke-opacity:1; fill:none\" points=\"\n  136.76,87.9763 163.352,87.9763 \n  \"/>\n<path clip-path=\"url(#clip240)\" d=\"M 0 0 M54.8347 1459.06 L62.4735 1459.06 L62.4735 1432.69 L54.1634 1434.36 L54.1634 1430.1 L62.4272 1428.44 L67.1032 1428.44 L67.1032 1459.06 L74.742 1459.06 L74.742 1463 L54.8347 1463 L54.8347 1459.06 Z\" fill=\"#000000\" fill-rule=\"evenodd\" fill-opacity=\"1\" /><path clip-path=\"url(#clip240)\" d=\"M 0 0 M79.8577 1428.44 L98.2141 1428.44 L98.2141 1432.37 L84.1401 1432.37 L84.1401 1440.84 Q85.1586 1440.5 86.1771 1440.33 Q87.1956 1440.15 88.2141 1440.15 Q94.0012 1440.15 97.3808 1443.32 Q100.76 1446.49 100.76 1451.91 Q100.76 1457.49 97.2882 1460.59 Q93.816 1463.67 87.4966 1463.67 Q85.3206 1463.67 83.0521 1463.3 Q80.8068 1462.93 78.3994 1462.19 L78.3994 1457.49 Q80.4827 1458.62 82.7049 1459.18 Q84.9271 1459.73 87.404 1459.73 Q91.4086 1459.73 93.7465 1457.63 Q96.0845 1455.52 96.0845 1451.91 Q96.0845 1448.3 93.7465 1446.19 Q91.4086 1444.08 87.404 1444.08 Q85.529 1444.08 83.654 1444.5 Q81.8021 1444.92 79.8577 1445.8 L79.8577 1428.44 Z\" fill=\"#000000\" fill-rule=\"evenodd\" fill-opacity=\"1\" /><path clip-path=\"url(#clip240)\" d=\"M 0 0 M57.4273 1119.63 L73.7466 1119.63 L73.7466 1123.56 L51.8023 1123.56 L51.8023 1119.63 Q54.4643 1116.87 59.0476 1112.24 Q63.6541 1107.59 64.8346 1106.25 Q67.08 1103.72 67.9596 1101.99 Q68.8624 1100.23 68.8624 1098.54 Q68.8624 1095.78 66.918 1094.05 Q64.9967 1092.31 61.8948 1092.31 Q59.6958 1092.31 57.2421 1093.07 Q54.8115 1093.84 52.0338 1095.39 L52.0338 1090.67 Q54.8578 1089.53 57.3115 1088.95 Q59.7652 1088.38 61.8023 1088.38 Q67.1726 1088.38 70.367 1091.06 Q73.5614 1093.75 73.5614 1098.24 Q73.5614 1100.37 72.7513 1102.29 Q71.9642 1104.19 69.8578 1106.78 Q69.2791 1107.45 66.1772 1110.67 Q63.0754 1113.86 57.4273 1119.63 Z\" fill=\"#000000\" fill-rule=\"evenodd\" fill-opacity=\"1\" /><path clip-path=\"url(#clip240)\" d=\"M 0 0 M88.816 1092.08 Q85.2049 1092.08 83.3762 1095.64 Q81.5707 1099.19 81.5707 1106.32 Q81.5707 1113.42 83.3762 1116.99 Q85.2049 1120.53 88.816 1120.53 Q92.4502 1120.53 94.2558 1116.99 Q96.0845 1113.42 96.0845 1106.32 Q96.0845 1099.19 94.2558 1095.64 Q92.4502 1092.08 88.816 1092.08 M88.816 1088.38 Q94.6262 1088.38 97.6817 1092.98 Q100.76 1097.57 100.76 1106.32 Q100.76 1115.04 97.6817 1119.65 Q94.6262 1124.23 88.816 1124.23 Q83.0058 1124.23 79.9272 1119.65 Q76.8716 1115.04 76.8716 1106.32 Q76.8716 1097.57 79.9272 1092.98 Q83.0058 1088.38 88.816 1088.38 Z\" fill=\"#000000\" fill-rule=\"evenodd\" fill-opacity=\"1\" /><path clip-path=\"url(#clip240)\" d=\"M 0 0 M58.4226 780.191 L74.742 780.191 L74.742 784.126 L52.7977 784.126 L52.7977 780.191 Q55.4597 777.436 60.043 772.807 Q64.6495 768.154 65.83 766.811 Q68.0754 764.288 68.955 762.552 Q69.8578 760.793 69.8578 759.103 Q69.8578 756.348 67.9133 754.612 Q65.992 752.876 62.8902 752.876 Q60.6911 752.876 58.2375 753.64 Q55.8069 754.404 53.0292 755.955 L53.0292 751.233 Q55.8532 750.098 58.3069 749.52 Q60.7606 748.941 62.7976 748.941 Q68.168 748.941 71.3624 751.626 Q74.5568 754.311 74.5568 758.802 Q74.5568 760.932 73.7466 762.853 Q72.9596 764.751 70.8531 767.344 Q70.2744 768.015 67.1726 771.233 Q64.0708 774.427 58.4226 780.191 Z\" fill=\"#000000\" fill-rule=\"evenodd\" fill-opacity=\"1\" /><path clip-path=\"url(#clip240)\" d=\"M 0 0 M79.8577 749.566 L98.2141 749.566 L98.2141 753.501 L84.1401 753.501 L84.1401 761.973 Q85.1586 761.626 86.1771 761.464 Q87.1956 761.279 88.2141 761.279 Q94.0012 761.279 97.3808 764.45 Q100.76 767.621 100.76 773.038 Q100.76 778.617 97.2882 781.719 Q93.816 784.797 87.4966 784.797 Q85.3206 784.797 83.0521 784.427 Q80.8068 784.057 78.3994 783.316 L78.3994 778.617 Q80.4827 779.751 82.7049 780.307 Q84.9271 780.862 87.404 780.862 Q91.4086 780.862 93.7465 778.756 Q96.0845 776.649 96.0845 773.038 Q96.0845 769.427 93.7465 767.321 Q91.4086 765.214 87.404 765.214 Q85.529 765.214 83.654 765.631 Q81.8021 766.047 79.8577 766.927 L79.8577 749.566 Z\" fill=\"#000000\" fill-rule=\"evenodd\" fill-opacity=\"1\" /><path clip-path=\"url(#clip240)\" d=\"M 0 0 M66.617 426.057 Q69.9735 426.775 71.8485 429.043 Q73.7466 431.312 73.7466 434.645 Q73.7466 439.761 70.2281 442.562 Q66.7096 445.362 60.2282 445.362 Q58.0523 445.362 55.7375 444.923 Q53.4458 444.506 50.9921 443.649 L50.9921 439.136 Q52.9366 440.27 55.2514 440.849 Q57.5662 441.427 60.0893 441.427 Q64.4874 441.427 66.7791 439.691 Q69.0939 437.955 69.0939 434.645 Q69.0939 431.589 66.9411 429.876 Q64.8115 428.14 60.9921 428.14 L56.9643 428.14 L56.9643 424.298 L61.1773 424.298 Q64.6263 424.298 66.455 422.932 Q68.2837 421.543 68.2837 418.951 Q68.2837 416.289 66.3856 414.876 Q64.5106 413.441 60.9921 413.441 Q59.0708 413.441 56.8717 413.858 Q54.6727 414.275 52.0338 415.154 L52.0338 410.988 Q54.6958 410.247 57.0106 409.877 Q59.3486 409.506 61.4087 409.506 Q66.7328 409.506 69.8346 411.937 Q72.9365 414.344 72.9365 418.464 Q72.9365 421.335 71.2929 423.326 Q69.6494 425.293 66.617 426.057 Z\" fill=\"#000000\" fill-rule=\"evenodd\" fill-opacity=\"1\" /><path clip-path=\"url(#clip240)\" d=\"M 0 0 M88.816 413.21 Q85.2049 413.21 83.3762 416.775 Q81.5707 420.316 81.5707 427.446 Q81.5707 434.552 83.3762 438.117 Q85.2049 441.659 88.816 441.659 Q92.4502 441.659 94.2558 438.117 Q96.0845 434.552 96.0845 427.446 Q96.0845 420.316 94.2558 416.775 Q92.4502 413.21 88.816 413.21 M88.816 409.506 Q94.6262 409.506 97.6817 414.113 Q100.76 418.696 100.76 427.446 Q100.76 436.173 97.6817 440.779 Q94.6262 445.362 88.816 445.362 Q83.0058 445.362 79.9272 440.779 Q76.8716 436.173 76.8716 427.446 Q76.8716 418.696 79.9272 414.113 Q83.0058 409.506 88.816 409.506 Z\" fill=\"#000000\" fill-rule=\"evenodd\" fill-opacity=\"1\" /><path clip-path=\"url(#clip240)\" d=\"M 0 0 M67.6124 86.6221 Q70.9689 87.3397 72.8439 89.6082 Q74.742 91.8767 74.742 95.21 Q74.742 100.326 71.2235 103.127 Q67.705 105.928 61.2236 105.928 Q59.0476 105.928 56.7328 105.488 Q54.4412 105.071 51.9875 104.215 L51.9875 99.7008 Q53.9319 100.835 56.2467 101.414 Q58.5615 101.992 61.0847 101.992 Q65.4828 101.992 67.7744 100.256 Q70.0892 98.5202 70.0892 95.21 Q70.0892 92.1545 67.9365 90.4415 Q65.8069 88.7054 61.9874 88.7054 L57.9597 88.7054 L57.9597 84.8629 L62.1726 84.8629 Q65.6217 84.8629 67.4504 83.4971 Q69.2791 82.1083 69.2791 79.5157 Q69.2791 76.8537 67.3809 75.4416 Q65.5059 74.0064 61.9874 74.0064 Q60.0662 74.0064 57.8671 74.4231 Q55.668 74.8398 53.0292 75.7194 L53.0292 71.5528 Q55.6912 70.812 58.006 70.4416 Q60.3439 70.0713 62.4041 70.0713 Q67.7281 70.0713 70.83 72.5018 Q73.9318 74.9092 73.9318 79.0296 Q73.9318 81.8999 72.2883 83.8907 Q70.6448 85.8582 67.6124 86.6221 Z\" fill=\"#000000\" fill-rule=\"evenodd\" fill-opacity=\"1\" /><path clip-path=\"url(#clip240)\" d=\"M 0 0 M79.8577 70.6963 L98.2141 70.6963 L98.2141 74.6314 L84.1401 74.6314 L84.1401 83.1036 Q85.1586 82.7564 86.1771 82.5944 Q87.1956 82.4092 88.2141 82.4092 Q94.0012 82.4092 97.3808 85.5805 Q100.76 88.7517 100.76 94.1684 Q100.76 99.747 97.2882 102.849 Q93.816 105.928 87.4966 105.928 Q85.3206 105.928 83.0521 105.557 Q80.8068 105.187 78.3994 104.446 L78.3994 99.747 Q80.4827 100.881 82.7049 101.437 Q84.9271 101.992 87.404 101.992 Q91.4086 101.992 93.7465 99.8859 Q96.0845 97.7795 96.0845 94.1684 Q96.0845 90.5573 93.7465 88.4508 Q91.4086 86.3443 87.404 86.3443 Q85.529 86.3443 83.654 86.761 Q81.8021 87.1777 79.8577 88.0573 L79.8577 70.6963 Z\" fill=\"#000000\" fill-rule=\"evenodd\" fill-opacity=\"1\" /><polyline clip-path=\"url(#clip242)\" style=\"stroke:#800080; stroke-width:4; stroke-opacity:1; fill:none\" points=\"\n  199.477,563.185 241.288,563.185 283.1,698.959 324.911,698.959 366.722,766.846 408.533,902.62 450.345,902.62 492.156,970.507 533.967,970.507 575.778,970.507 \n  617.59,970.507 659.401,1038.39 701.212,1038.39 743.023,1106.28 784.835,1106.28 826.646,1174.17 868.457,1174.17 910.268,1174.17 952.079,1242.05 993.891,1242.05 \n  1035.7,1242.05 1077.51,1242.05 1119.32,1242.05 1161.14,1242.05 1202.95,1242.05 1244.76,1309.94 1286.57,1309.94 1328.38,1377.83 1370.19,1445.72 1412,1445.72 \n  1453.81,1445.72 1495.63,1445.72 1537.44,1445.72 1579.25,1445.72 1621.06,1445.72 1662.87,1445.72 1704.68,1445.72 1746.49,1309.94 1788.3,1377.83 1830.12,1377.83 \n  1871.93,1377.83 1913.74,1377.83 1955.55,1377.83 1997.36,1377.83 2039.17,1377.83 2080.98,1242.05 2122.79,1242.05 2164.61,1242.05 2206.42,1309.94 2248.23,1309.94 \n  2290.04,1309.94 \n  \"/>\n<polyline clip-path=\"url(#clip242)\" style=\"stroke:#008000; stroke-width:4; stroke-opacity:1; fill:none\" points=\"\n  199.477,495.298 241.288,563.185 283.1,495.298 324.911,427.411 366.722,359.524 408.533,291.637 450.345,223.75 492.156,223.75 533.967,359.524 575.778,291.637 \n  617.59,223.75 659.401,155.863 701.212,155.863 743.023,87.9763 784.835,223.75 826.646,155.863 868.457,291.637 910.268,223.75 952.079,155.863 993.891,87.9763 \n  1035.7,87.9763 1077.51,87.9763 1119.32,223.75 1161.14,359.524 1202.95,495.298 1244.76,427.411 1286.57,427.411 1328.38,359.524 1370.19,291.637 1412,223.75 \n  1453.81,223.75 1495.63,359.524 1537.44,359.524 1579.25,359.524 1621.06,359.524 1662.87,359.524 1704.68,495.298 1746.49,495.298 1788.3,427.411 1830.12,359.524 \n  1871.93,359.524 1913.74,495.298 1955.55,427.411 1997.36,563.185 2039.17,563.185 2080.98,563.185 2122.79,698.959 2164.61,698.959 2206.42,631.072 2248.23,631.072 \n  2290.04,563.185 \n  \"/>\n<path clip-path=\"url(#clip240)\" d=\"\nM1826.65 276.658 L2278.89 276.658 L2278.89 95.2176 L1826.65 95.2176  Z\n  \" fill=\"#ffffff\" fill-rule=\"evenodd\" fill-opacity=\"1\"/>\n<polyline clip-path=\"url(#clip240)\" style=\"stroke:#000000; stroke-width:4; stroke-opacity:1; fill:none\" points=\"\n  1826.65,276.658 2278.89,276.658 2278.89,95.2176 1826.65,95.2176 1826.65,276.658 \n  \"/>\n<polyline clip-path=\"url(#clip240)\" style=\"stroke:#800080; stroke-width:4; stroke-opacity:1; fill:none\" points=\"\n  1851.27,155.698 1999.01,155.698 \n  \"/>\n<path clip-path=\"url(#clip240)\" d=\"M 0 0 M2042.54 159.714 Q2042.54 155.084 2040.62 152.538 Q2038.72 149.992 2035.27 149.992 Q2031.85 149.992 2029.92 152.538 Q2028.03 155.084 2028.03 159.714 Q2028.03 164.32 2029.92 166.866 Q2031.85 169.413 2035.27 169.413 Q2038.72 169.413 2040.62 166.866 Q2042.54 164.32 2042.54 159.714 M2046.8 169.76 Q2046.8 176.38 2043.86 179.598 Q2040.92 182.839 2034.85 182.839 Q2032.61 182.839 2030.62 182.491 Q2028.63 182.167 2026.75 181.473 L2026.75 177.329 Q2028.63 178.348 2030.46 178.834 Q2032.28 179.32 2034.18 179.32 Q2038.37 179.32 2040.46 177.121 Q2042.54 174.945 2042.54 170.524 L2042.54 168.417 Q2041.22 170.709 2039.16 171.843 Q2037.1 172.978 2034.23 172.978 Q2029.46 172.978 2026.54 169.343 Q2023.63 165.709 2023.63 159.714 Q2023.63 153.695 2026.54 150.061 Q2029.46 146.427 2034.23 146.427 Q2037.1 146.427 2039.16 147.561 Q2041.22 148.695 2042.54 150.987 L2042.54 147.052 L2046.8 147.052 L2046.8 169.76 Z\" fill=\"#000000\" fill-rule=\"evenodd\" fill-opacity=\"1\" /><path clip-path=\"url(#clip240)\" d=\"M 0 0 M2061.31 150.038 Q2057.89 150.038 2055.9 152.723 Q2053.91 155.385 2053.91 160.038 Q2053.91 164.691 2055.87 167.376 Q2057.86 170.038 2061.31 170.038 Q2064.72 170.038 2066.71 167.353 Q2068.7 164.667 2068.7 160.038 Q2068.7 155.431 2066.71 152.746 Q2064.72 150.038 2061.31 150.038 M2061.31 146.427 Q2066.87 146.427 2070.04 150.038 Q2073.21 153.649 2073.21 160.038 Q2073.21 166.404 2070.04 170.038 Q2066.87 173.649 2061.31 173.649 Q2055.73 173.649 2052.56 170.038 Q2049.41 166.404 2049.41 160.038 Q2049.41 153.649 2052.56 150.038 Q2055.73 146.427 2061.31 146.427 Z\" fill=\"#000000\" fill-rule=\"evenodd\" fill-opacity=\"1\" /><path clip-path=\"url(#clip240)\" d=\"M 0 0 M2077.82 136.959 L2082.08 136.959 L2082.08 150.894 L2084.97 148.811 L2086.73 151.265 L2082.08 154.529 L2082.08 172.978 L2077.82 172.978 L2077.82 157.561 L2074.97 159.598 L2073.26 157.144 L2077.82 153.88 L2077.82 136.959 Z\" fill=\"#000000\" fill-rule=\"evenodd\" fill-opacity=\"1\" /><path clip-path=\"url(#clip240)\" d=\"M 0 0 M2113.37 158.95 L2113.37 161.033 L2093.79 161.033 Q2094.07 165.431 2096.43 167.746 Q2098.81 170.038 2103.05 170.038 Q2105.5 170.038 2107.79 169.436 Q2110.11 168.834 2112.38 167.63 L2112.38 171.658 Q2110.09 172.63 2107.68 173.14 Q2105.27 173.649 2102.79 173.649 Q2096.59 173.649 2092.96 170.038 Q2089.34 166.427 2089.34 160.269 Q2089.34 153.904 2092.77 150.177 Q2096.22 146.427 2102.05 146.427 Q2107.28 146.427 2110.32 149.806 Q2113.37 153.163 2113.37 158.95 M2109.11 157.7 Q2109.07 154.205 2107.15 152.121 Q2105.25 150.038 2102.1 150.038 Q2098.53 150.038 2096.38 152.052 Q2094.25 154.066 2093.93 157.723 L2109.11 157.7 M2105.62 172.978 L2108.37 172.978 Q2107.33 174.39 2106.82 175.408 Q2106.34 176.427 2106.34 177.144 Q2106.34 178.209 2106.96 178.741 Q2107.61 179.274 2108.86 179.274 Q2109.6 179.274 2110.32 179.089 Q2111.03 178.927 2111.75 178.579 L2111.75 181.658 Q2110.87 181.89 2110.09 182.005 Q2109.3 182.121 2108.6 182.121 Q2105.78 182.121 2104.44 181.103 Q2103.12 180.107 2103.12 177.954 Q2103.12 176.843 2103.72 175.616 Q2104.34 174.413 2105.62 172.978 Z\" fill=\"#000000\" fill-rule=\"evenodd\" fill-opacity=\"1\" /><path clip-path=\"url(#clip240)\" d=\"M 0 0 M2136.45 160.038 Q2136.45 155.339 2134.51 152.677 Q2132.59 149.992 2129.21 149.992 Q2125.83 149.992 2123.88 152.677 Q2121.96 155.339 2121.96 160.038 Q2121.96 164.737 2123.88 167.422 Q2125.83 170.084 2129.21 170.084 Q2132.59 170.084 2134.51 167.422 Q2136.45 164.737 2136.45 160.038 M2121.96 150.987 Q2123.3 148.672 2125.34 147.561 Q2127.4 146.427 2130.25 146.427 Q2134.97 146.427 2137.91 150.177 Q2140.87 153.927 2140.87 160.038 Q2140.87 166.149 2137.91 169.899 Q2134.97 173.649 2130.25 173.649 Q2127.4 173.649 2125.34 172.538 Q2123.3 171.403 2121.96 169.089 L2121.96 172.978 L2117.68 172.978 L2117.68 136.959 L2121.96 136.959 L2121.96 150.987 Z\" fill=\"#000000\" fill-rule=\"evenodd\" fill-opacity=\"1\" /><path clip-path=\"url(#clip240)\" d=\"M 0 0 M2145.34 147.052 L2149.6 147.052 L2149.6 172.978 L2145.34 172.978 L2145.34 147.052 M2145.34 136.959 L2149.6 136.959 L2149.6 142.353 L2145.34 142.353 L2145.34 136.959 Z\" fill=\"#000000\" fill-rule=\"evenodd\" fill-opacity=\"1\" /><path clip-path=\"url(#clip240)\" d=\"M 0 0 M2176.24 158.95 L2176.24 161.033 L2156.66 161.033 Q2156.94 165.431 2159.3 167.746 Q2161.68 170.038 2165.92 170.038 Q2168.37 170.038 2170.66 169.436 Q2172.98 168.834 2175.25 167.63 L2175.25 171.658 Q2172.96 172.63 2170.55 173.14 Q2168.14 173.649 2165.66 173.649 Q2159.46 173.649 2155.83 170.038 Q2152.21 166.427 2152.21 160.269 Q2152.21 153.904 2155.64 150.177 Q2159.09 146.427 2164.92 146.427 Q2170.15 146.427 2173.19 149.806 Q2176.24 153.163 2176.24 158.95 M2171.98 157.7 Q2171.94 154.205 2170.02 152.121 Q2168.12 150.038 2164.97 150.038 Q2161.4 150.038 2159.25 152.052 Q2157.12 154.066 2156.8 157.723 L2171.98 157.7 Z\" fill=\"#000000\" fill-rule=\"evenodd\" fill-opacity=\"1\" /><polyline clip-path=\"url(#clip240)\" style=\"stroke:#008000; stroke-width:4; stroke-opacity:1; fill:none\" points=\"\n  1851.27,216.178 1999.01,216.178 \n  \"/>\n<path clip-path=\"url(#clip240)\" d=\"M 0 0 M2028.95 207.532 L2033.21 207.532 L2033.21 233.921 Q2033.21 238.874 2031.31 241.096 Q2029.44 243.319 2025.25 243.319 L2023.63 243.319 L2023.63 239.708 L2024.76 239.708 Q2027.19 239.708 2028.07 238.573 Q2028.95 237.462 2028.95 233.921 L2028.95 207.532 M2028.95 197.439 L2033.21 197.439 L2033.21 202.833 L2028.95 202.833 L2028.95 197.439 Z\" fill=\"#000000\" fill-rule=\"evenodd\" fill-opacity=\"1\" /><path clip-path=\"url(#clip240)\" d=\"M 0 0 M2049.46 220.425 Q2044.3 220.425 2042.31 221.606 Q2040.32 222.786 2040.32 225.634 Q2040.32 227.902 2041.8 229.245 Q2043.3 230.564 2045.87 230.564 Q2049.41 230.564 2051.54 228.064 Q2053.7 225.541 2053.7 221.374 L2053.7 220.425 L2049.46 220.425 M2057.96 218.666 L2057.96 233.458 L2053.7 233.458 L2053.7 229.522 Q2052.24 231.883 2050.06 233.018 Q2047.89 234.129 2044.74 234.129 Q2040.76 234.129 2038.4 231.907 Q2036.06 229.661 2036.06 225.911 Q2036.06 221.536 2038.97 219.314 Q2041.91 217.092 2047.72 217.092 L2053.7 217.092 L2053.7 216.675 Q2053.7 213.735 2051.75 212.138 Q2049.83 210.518 2046.34 210.518 Q2044.11 210.518 2042.01 211.05 Q2039.9 211.583 2037.96 212.647 L2037.96 208.712 Q2040.29 207.81 2042.49 207.37 Q2044.69 206.907 2046.78 206.907 Q2052.4 206.907 2055.18 209.823 Q2057.96 212.74 2057.96 218.666 Z\" fill=\"#000000\" fill-rule=\"evenodd\" fill-opacity=\"1\" /><path clip-path=\"url(#clip240)\" d=\"M 0 0 M2078.95 208.296 L2078.95 212.323 Q2077.15 211.397 2075.2 210.935 Q2073.26 210.472 2071.17 210.472 Q2068 210.472 2066.41 211.444 Q2064.83 212.416 2064.83 214.36 Q2064.83 215.842 2065.97 216.698 Q2067.1 217.532 2070.53 218.296 L2071.98 218.62 Q2076.52 219.592 2078.42 221.374 Q2080.34 223.134 2080.34 226.305 Q2080.34 229.916 2077.47 232.022 Q2074.62 234.129 2069.62 234.129 Q2067.54 234.129 2065.27 233.712 Q2063.03 233.319 2060.53 232.508 L2060.53 228.11 Q2062.89 229.337 2065.18 229.962 Q2067.47 230.564 2069.72 230.564 Q2072.72 230.564 2074.34 229.546 Q2075.97 228.504 2075.97 226.629 Q2075.97 224.893 2074.78 223.967 Q2073.63 223.041 2069.67 222.184 L2068.19 221.837 Q2064.23 221.004 2062.47 219.291 Q2060.71 217.555 2060.71 214.546 Q2060.71 210.888 2063.3 208.898 Q2065.9 206.907 2070.66 206.907 Q2073.03 206.907 2075.11 207.254 Q2077.19 207.601 2078.95 208.296 Z\" fill=\"#000000\" fill-rule=\"evenodd\" fill-opacity=\"1\" /><path clip-path=\"url(#clip240)\" d=\"M 0 0 M2089.02 200.171 L2089.02 207.532 L2097.79 207.532 L2097.79 210.842 L2089.02 210.842 L2089.02 224.916 Q2089.02 228.087 2089.88 228.99 Q2090.76 229.893 2093.42 229.893 L2097.79 229.893 L2097.79 233.458 L2093.42 233.458 Q2088.49 233.458 2086.61 231.629 Q2084.74 229.777 2084.74 224.916 L2084.74 210.842 L2081.61 210.842 L2081.61 207.532 L2084.74 207.532 L2084.74 200.171 L2089.02 200.171 Z\" fill=\"#000000\" fill-rule=\"evenodd\" fill-opacity=\"1\" /><path clip-path=\"url(#clip240)\" d=\"M 0 0 M2117.28 211.513 Q2116.57 211.097 2115.71 210.911 Q2114.88 210.703 2113.86 210.703 Q2110.25 210.703 2108.3 213.064 Q2106.38 215.402 2106.38 219.8 L2106.38 233.458 L2102.1 233.458 L2102.1 207.532 L2106.38 207.532 L2106.38 211.56 Q2107.72 209.198 2109.88 208.064 Q2112.03 206.907 2115.11 206.907 Q2115.55 206.907 2116.08 206.976 Q2116.61 207.023 2117.26 207.138 L2117.28 211.513 Z\" fill=\"#000000\" fill-rule=\"evenodd\" fill-opacity=\"1\" /><path clip-path=\"url(#clip240)\" d=\"M 0 0 M2119.9 207.532 L2140.13 207.532 L2140.13 211.421 L2124.11 230.055 L2140.13 230.055 L2140.13 233.458 L2119.32 233.458 L2119.32 229.569 L2135.34 210.935 L2119.9 210.935 L2119.9 207.532 Z\" fill=\"#000000\" fill-rule=\"evenodd\" fill-opacity=\"1\" /><path clip-path=\"url(#clip240)\" d=\"M 0 0 M2166.78 219.43 L2166.78 221.513 L2147.19 221.513 Q2147.47 225.911 2149.83 228.226 Q2152.21 230.518 2156.45 230.518 Q2158.9 230.518 2161.2 229.916 Q2163.51 229.314 2165.78 228.11 L2165.78 232.138 Q2163.49 233.11 2161.08 233.62 Q2158.67 234.129 2156.2 234.129 Q2149.99 234.129 2146.36 230.518 Q2142.75 226.907 2142.75 220.749 Q2142.75 214.384 2146.17 210.657 Q2149.62 206.907 2155.46 206.907 Q2160.69 206.907 2163.72 210.286 Q2166.78 213.643 2166.78 219.43 M2162.52 218.18 Q2162.47 214.685 2160.55 212.601 Q2158.65 210.518 2155.5 210.518 Q2151.94 210.518 2149.78 212.532 Q2147.65 214.546 2147.33 218.203 L2162.52 218.18 M2159.02 233.458 L2161.78 233.458 Q2160.73 234.87 2160.22 235.888 Q2159.74 236.907 2159.74 237.624 Q2159.74 238.689 2160.36 239.221 Q2161.01 239.754 2162.26 239.754 Q2163 239.754 2163.72 239.569 Q2164.44 239.407 2165.15 239.059 L2165.15 242.138 Q2164.28 242.37 2163.49 242.485 Q2162.7 242.601 2162.01 242.601 Q2159.18 242.601 2157.84 241.583 Q2156.52 240.587 2156.52 238.434 Q2156.52 237.323 2157.12 236.096 Q2157.75 234.893 2159.02 233.458 Z\" fill=\"#000000\" fill-rule=\"evenodd\" fill-opacity=\"1\" /><path clip-path=\"url(#clip240)\" d=\"M 0 0 M2189.85 220.518 Q2189.85 215.819 2187.91 213.157 Q2185.99 210.472 2182.61 210.472 Q2179.23 210.472 2177.28 213.157 Q2175.36 215.819 2175.36 220.518 Q2175.36 225.217 2177.28 227.902 Q2179.23 230.564 2182.61 230.564 Q2185.99 230.564 2187.91 227.902 Q2189.85 225.217 2189.85 220.518 M2175.36 211.467 Q2176.71 209.152 2178.74 208.041 Q2180.8 206.907 2183.65 206.907 Q2188.37 206.907 2191.31 210.657 Q2194.27 214.407 2194.27 220.518 Q2194.27 226.629 2191.31 230.379 Q2188.37 234.129 2183.65 234.129 Q2180.8 234.129 2178.74 233.018 Q2176.71 231.883 2175.36 229.569 L2175.36 233.458 L2171.08 233.458 L2171.08 197.439 L2175.36 197.439 L2175.36 211.467 Z\" fill=\"#000000\" fill-rule=\"evenodd\" fill-opacity=\"1\" /><path clip-path=\"url(#clip240)\" d=\"M 0 0 M2198.74 207.532 L2203 207.532 L2203 233.458 L2198.74 233.458 L2198.74 207.532 M2198.74 197.439 L2203 197.439 L2203 202.833 L2198.74 202.833 L2198.74 197.439 Z\" fill=\"#000000\" fill-rule=\"evenodd\" fill-opacity=\"1\" /><path clip-path=\"url(#clip240)\" d=\"M 0 0 M2229.65 219.43 L2229.65 221.513 L2210.06 221.513 Q2210.34 225.911 2212.7 228.226 Q2215.08 230.518 2219.32 230.518 Q2221.77 230.518 2224.07 229.916 Q2226.38 229.314 2228.65 228.11 L2228.65 232.138 Q2226.36 233.11 2223.95 233.62 Q2221.54 234.129 2219.07 234.129 Q2212.86 234.129 2209.23 230.518 Q2205.62 226.907 2205.62 220.749 Q2205.62 214.384 2209.04 210.657 Q2212.49 206.907 2218.33 206.907 Q2223.56 206.907 2226.59 210.286 Q2229.65 213.643 2229.65 219.43 M2225.39 218.18 Q2225.34 214.685 2223.42 212.601 Q2221.52 210.518 2218.37 210.518 Q2214.81 210.518 2212.65 212.532 Q2210.52 214.546 2210.2 218.203 L2225.39 218.18 Z\" fill=\"#000000\" fill-rule=\"evenodd\" fill-opacity=\"1\" /></svg>\n"
               },
               "type": "node"
              }
             ],
             "instanceArgs": {
              "namespace": "html",
              "tag": "div"
             },
             "nodeType": "DOM",
             "props": {
              "className": "interact-flex-row interact-widget"
             },
             "type": "node"
            }
           }
          },
          "systemjs_options": null
         },
         "nodeType": "Scope",
         "props": {},
         "type": "node"
        }
       ],
       "instanceArgs": {
        "namespace": "html",
        "tag": "div"
       },
       "nodeType": "DOM",
       "props": {},
       "type": "node"
      },
      "text/html": [
       "<div\n",
       "    class=\"webio-mountpoint\"\n",
       "    data-webio-mountpoint=\"771602284140558869\"\n",
       ">\n",
       "    <script>\n",
       "    if (window.require && require.defined && require.defined(\"nbextensions/webio-jupyter-notebook\")) {\n",
       "        console.log(\"Jupyter WebIO extension detected, not mounting.\");\n",
       "    } else if (window.WebIO) {\n",
       "        WebIO.mount(\n",
       "            document.querySelector('[data-webio-mountpoint=\"771602284140558869\"]'),\n",
       "            {\"props\":{},\"nodeType\":\"DOM\",\"type\":\"node\",\"instanceArgs\":{\"namespace\":\"html\",\"tag\":\"div\"},\"children\":[{\"props\":{\"className\":\"field interact-widget\"},\"nodeType\":\"DOM\",\"type\":\"node\",\"instanceArgs\":{\"namespace\":\"html\",\"tag\":\"div\"},\"children\":[{\"props\":{},\"nodeType\":\"Scope\",\"type\":\"node\",\"instanceArgs\":{\"imports\":{\"data\":[{\"name\":\"knockout\",\"type\":\"js\",\"url\":\"\\/assetserver\\/fd91bcc76f200e46e5681854927159f78397d01c-knockout.js\"},{\"name\":\"knockout_punches\",\"type\":\"js\",\"url\":\"\\/assetserver\\/0771d715f47990fd6a20af05579c332026637b1d-knockout_punches.js\"},{\"name\":null,\"type\":\"js\",\"url\":\"\\/assetserver\\/e56fcd69f839599425572dc2cffb9ce416a547ec-all.js\"},{\"name\":null,\"type\":\"css\",\"url\":\"\\/assetserver\\/f03a11104aa67cefd9b6e4d413d413b5ef056233-style.css\"},{\"name\":null,\"type\":\"css\",\"url\":\"\\/assetserver\\/e60d8885c5ad87196b49c3e741a5de92d7eeea1c-bulma_confined.min.css\"}],\"type\":\"async_block\"},\"id\":\"222872386228263200\",\"handlers\":{\"changes\":[\"(function (val){return (val!=this.model[\\\"changes\\\"]()) ? (this.valueFromJulia[\\\"changes\\\"]=true, this.model[\\\"changes\\\"](val)) : undefined})\"],\"index\":[\"(function (val){return (val!=this.model[\\\"index\\\"]()) ? (this.valueFromJulia[\\\"index\\\"]=true, this.model[\\\"index\\\"](val)) : undefined})\"]},\"systemjs_options\":null,\"mount_callbacks\":[\"function () {\\n    var handler = (function (ko, koPunches) {\\n    ko.punches.enableAll();\\n    ko.bindingHandlers.numericValue = {\\n        init: function(element, valueAccessor, allBindings, data, context) {\\n            var stringified = ko.observable(ko.unwrap(valueAccessor()));\\n            stringified.subscribe(function(value) {\\n                var val = parseFloat(value);\\n                if (!isNaN(val)) {\\n                    valueAccessor()(val);\\n                }\\n            });\\n            valueAccessor().subscribe(function(value) {\\n                var str = JSON.stringify(value);\\n                if ((str == \\\"0\\\") && ([\\\"-0\\\", \\\"-0.\\\"].indexOf(stringified()) >= 0))\\n                     return;\\n                 if ([\\\"null\\\", \\\"\\\"].indexOf(str) >= 0)\\n                     return;\\n                stringified(str);\\n            });\\n            ko.applyBindingsToNode(\\n                element,\\n                {\\n                    value: stringified,\\n                    valueUpdate: allBindings.get('valueUpdate'),\\n                },\\n                context,\\n            );\\n        }\\n    };\\n    var json_data = {\\\"formatted_vals\\\":[\\\"2\\\",\\\"3\\\",\\\"4\\\",\\\"5\\\",\\\"6\\\",\\\"7\\\",\\\"8\\\",\\\"9\\\",\\\"10\\\",\\\"11\\\",\\\"12\\\",\\\"13\\\",\\\"14\\\",\\\"15\\\",\\\"16\\\",\\\"17\\\",\\\"18\\\",\\\"19\\\",\\\"20\\\",\\\"21\\\",\\\"22\\\",\\\"23\\\",\\\"24\\\",\\\"25\\\",\\\"26\\\",\\\"27\\\",\\\"28\\\",\\\"29\\\",\\\"30\\\",\\\"31\\\",\\\"32\\\",\\\"33\\\",\\\"34\\\",\\\"35\\\",\\\"36\\\",\\\"37\\\",\\\"38\\\",\\\"39\\\",\\\"40\\\",\\\"41\\\",\\\"42\\\",\\\"43\\\",\\\"44\\\",\\\"45\\\",\\\"46\\\",\\\"47\\\",\\\"48\\\",\\\"49\\\",\\\"50\\\",\\\"51\\\",\\\"52\\\",\\\"53\\\",\\\"54\\\",\\\"55\\\",\\\"56\\\",\\\"57\\\",\\\"58\\\",\\\"59\\\",\\\"60\\\",\\\"61\\\",\\\"62\\\",\\\"63\\\",\\\"64\\\",\\\"65\\\",\\\"66\\\",\\\"67\\\",\\\"68\\\",\\\"69\\\",\\\"70\\\",\\\"71\\\",\\\"72\\\",\\\"73\\\",\\\"74\\\",\\\"75\\\",\\\"76\\\",\\\"77\\\",\\\"78\\\",\\\"79\\\",\\\"80\\\",\\\"81\\\",\\\"82\\\",\\\"83\\\",\\\"84\\\",\\\"85\\\",\\\"86\\\",\\\"87\\\",\\\"88\\\",\\\"89\\\",\\\"90\\\",\\\"91\\\",\\\"92\\\",\\\"93\\\",\\\"94\\\",\\\"95\\\",\\\"96\\\",\\\"97\\\",\\\"98\\\",\\\"99\\\",\\\"100\\\"],\\\"changes\\\":WebIO.getval({\\\"name\\\":\\\"changes\\\",\\\"scope\\\":\\\"222872386228263200\\\",\\\"id\\\":\\\"9657432480842699360\\\",\\\"type\\\":\\\"observable\\\"}),\\\"index\\\":WebIO.getval({\\\"name\\\":\\\"index\\\",\\\"scope\\\":\\\"222872386228263200\\\",\\\"id\\\":\\\"9906375580117670844\\\",\\\"type\\\":\\\"observable\\\"})};\\n    var self = this;\\n    function AppViewModel() {\\n        for (var key in json_data) {\\n            var el = json_data[key];\\n            this[key] = Array.isArray(el) ? ko.observableArray(el) : ko.observable(el);\\n        }\\n        \\n        [this[\\\"formatted_val\\\"]=ko.computed(    function(){\\n        return this.formatted_vals()[parseInt(this.index())-(1)];\\n    }\\n,this)]\\n        [this[\\\"changes\\\"].subscribe((function (val){!(this.valueFromJulia[\\\"changes\\\"]) ? (WebIO.setval({\\\"name\\\":\\\"changes\\\",\\\"scope\\\":\\\"222872386228263200\\\",\\\"id\\\":\\\"9657432480842699360\\\",\\\"type\\\":\\\"observable\\\"},val)) : undefined; return this.valueFromJulia[\\\"changes\\\"]=false}),self),this[\\\"index\\\"].subscribe((function (val){!(this.valueFromJulia[\\\"index\\\"]) ? (WebIO.setval({\\\"name\\\":\\\"index\\\",\\\"scope\\\":\\\"222872386228263200\\\",\\\"id\\\":\\\"9906375580117670844\\\",\\\"type\\\":\\\"observable\\\"},val)) : undefined; return this.valueFromJulia[\\\"index\\\"]=false}),self)]\\n        \\n    }\\n    self.model = new AppViewModel();\\n    self.valueFromJulia = {};\\n    for (var key in json_data) {\\n        self.valueFromJulia[key] = false;\\n    }\\n    ko.applyBindings(self.model, self.dom);\\n}\\n);\\n    (WebIO.importBlock({\\\"data\\\":[{\\\"name\\\":\\\"knockout\\\",\\\"type\\\":\\\"js\\\",\\\"url\\\":\\\"\\/assetserver\\/fd91bcc76f200e46e5681854927159f78397d01c-knockout.js\\\"},{\\\"name\\\":\\\"knockout_punches\\\",\\\"type\\\":\\\"js\\\",\\\"url\\\":\\\"\\/assetserver\\/0771d715f47990fd6a20af05579c332026637b1d-knockout_punches.js\\\"}],\\\"type\\\":\\\"async_block\\\"})).then((imports) => handler.apply(this, imports));\\n}\\n\"],\"observables\":{\"changes\":{\"sync\":false,\"id\":\"9657432480842699360\",\"value\":0},\"index\":{\"sync\":true,\"id\":\"9906375580117670844\",\"value\":50}}},\"children\":[{\"props\":{\"className\":\"interact-flex-row interact-widget\"},\"nodeType\":\"DOM\",\"type\":\"node\",\"instanceArgs\":{\"namespace\":\"html\",\"tag\":\"div\"},\"children\":[{\"props\":{\"className\":\"interact-flex-row-left\"},\"nodeType\":\"DOM\",\"type\":\"node\",\"instanceArgs\":{\"namespace\":\"html\",\"tag\":\"div\"},\"children\":[{\"props\":{\"className\":\"interact \",\"style\":{\"padding\":\"5px 10px 0px 10px\"}},\"nodeType\":\"DOM\",\"type\":\"node\",\"instanceArgs\":{\"namespace\":\"html\",\"tag\":\"label\"},\"children\":[\"time\"]}]},{\"props\":{\"className\":\"interact-flex-row-center\"},\"nodeType\":\"DOM\",\"type\":\"node\",\"instanceArgs\":{\"namespace\":\"html\",\"tag\":\"div\"},\"children\":[{\"props\":{\"max\":99,\"min\":1,\"attributes\":{\"type\":\"range\",\"data-bind\":\"numericValue: index, valueUpdate: 'input', event: {change: function (){this.changes(this.changes()+1)}}\",\"orient\":\"horizontal\"},\"step\":1,\"className\":\"slider slider is-fullwidth\",\"style\":{}},\"nodeType\":\"DOM\",\"type\":\"node\",\"instanceArgs\":{\"namespace\":\"html\",\"tag\":\"input\"},\"children\":[]}]},{\"props\":{\"className\":\"interact-flex-row-right\"},\"nodeType\":\"DOM\",\"type\":\"node\",\"instanceArgs\":{\"namespace\":\"html\",\"tag\":\"div\"},\"children\":[{\"props\":{\"attributes\":{\"data-bind\":\"text: formatted_val\"}},\"nodeType\":\"DOM\",\"type\":\"node\",\"instanceArgs\":{\"namespace\":\"html\",\"tag\":\"p\"},\"children\":[]}]}]}]}]},{\"props\":{},\"nodeType\":\"Scope\",\"type\":\"node\",\"instanceArgs\":{\"imports\":{\"data\":[],\"type\":\"async_block\"},\"id\":\"6437301124636623276\",\"handlers\":{},\"systemjs_options\":null,\"mount_callbacks\":[],\"observables\":{\"obs-node\":{\"sync\":false,\"id\":\"11913641743310058961\",\"value\":{\"props\":{\"className\":\"interact-flex-row interact-widget\"},\"nodeType\":\"DOM\",\"type\":\"node\",\"instanceArgs\":{\"namespace\":\"html\",\"tag\":\"div\"},\"children\":[{\"props\":{\"setInnerHtml\":\"<?xml version=\\\"1.0\\\" encoding=\\\"utf-8\\\"?>\\n<svg xmlns=\\\"http:\\/\\/www.w3.org\\/2000\\/svg\\\" xmlns:xlink=\\\"http:\\/\\/www.w3.org\\/1999\\/xlink\\\" width=\\\"600\\\" height=\\\"400\\\" viewBox=\\\"0 0 2400 1600\\\">\\n<defs>\\n  <clipPath id=\\\"clip200\\\">\\n    <rect x=\\\"0\\\" y=\\\"0\\\" width=\\\"2400\\\" height=\\\"1600\\\"\\/>\\n  <\\/clipPath>\\n<\\/defs>\\n<path clip-path=\\\"url(#clip200)\\\" d=\\\"\\nM0 1600 L2400 1600 L2400 0 L0 0  Z\\n  \\\" fill=\\\"#ffffff\\\" fill-rule=\\\"evenodd\\\" fill-opacity=\\\"1\\\"\\/>\\n<defs>\\n  <clipPath id=\\\"clip201\\\">\\n    <rect x=\\\"480\\\" y=\\\"0\\\" width=\\\"1681\\\" height=\\\"1600\\\"\\/>\\n  <\\/clipPath>\\n<\\/defs>\\n<path clip-path=\\\"url(#clip200)\\\" d=\\\"\\nM136.76 1486.45 L2352.76 1486.45 L2352.76 47.2441 L136.76 47.2441  Z\\n  \\\" fill=\\\"#ffffff\\\" fill-rule=\\\"evenodd\\\" fill-opacity=\\\"1\\\"\\/>\\n<defs>\\n  <clipPath id=\\\"clip202\\\">\\n    <rect x=\\\"136\\\" y=\\\"47\\\" width=\\\"2217\\\" height=\\\"1440\\\"\\/>\\n  <\\/clipPath>\\n<\\/defs>\\n<polyline clip-path=\\\"url(#clip202)\\\" style=\\\"stroke:#000000; stroke-width:2; stroke-opacity:0.1; fill:none\\\" points=\\\"\\n  157.666,1486.45 157.666,47.2441 \\n  \\\"\\/>\\n<polyline clip-path=\\\"url(#clip202)\\\" style=\\\"stroke:#000000; stroke-width:2; stroke-opacity:0.1; fill:none\\\" points=\\\"\\n  575.778,1486.45 575.778,47.2441 \\n  \\\"\\/>\\n<polyline clip-path=\\\"url(#clip202)\\\" style=\\\"stroke:#000000; stroke-width:2; stroke-opacity:0.1; fill:none\\\" points=\\\"\\n  993.891,1486.45 993.891,47.2441 \\n  \\\"\\/>\\n<polyline clip-path=\\\"url(#clip202)\\\" style=\\\"stroke:#000000; stroke-width:2; stroke-opacity:0.1; fill:none\\\" points=\\\"\\n  1412,1486.45 1412,47.2441 \\n  \\\"\\/>\\n<polyline clip-path=\\\"url(#clip202)\\\" style=\\\"stroke:#000000; stroke-width:2; stroke-opacity:0.1; fill:none\\\" points=\\\"\\n  1830.12,1486.45 1830.12,47.2441 \\n  \\\"\\/>\\n<polyline clip-path=\\\"url(#clip202)\\\" style=\\\"stroke:#000000; stroke-width:2; stroke-opacity:0.1; fill:none\\\" points=\\\"\\n  2248.23,1486.45 2248.23,47.2441 \\n  \\\"\\/>\\n<polyline clip-path=\\\"url(#clip200)\\\" style=\\\"stroke:#000000; stroke-width:4; stroke-opacity:1; fill:none\\\" points=\\\"\\n  136.76,1486.45 2352.76,1486.45 \\n  \\\"\\/>\\n<polyline clip-path=\\\"url(#clip200)\\\" style=\\\"stroke:#000000; stroke-width:4; stroke-opacity:1; fill:none\\\" points=\\\"\\n  157.666,1486.45 157.666,1469.18 \\n  \\\"\\/>\\n<polyline clip-path=\\\"url(#clip200)\\\" style=\\\"stroke:#000000; stroke-width:4; stroke-opacity:1; fill:none\\\" points=\\\"\\n  575.778,1486.45 575.778,1469.18 \\n  \\\"\\/>\\n<polyline clip-path=\\\"url(#clip200)\\\" style=\\\"stroke:#000000; stroke-width:4; stroke-opacity:1; fill:none\\\" points=\\\"\\n  993.891,1486.45 993.891,1469.18 \\n  \\\"\\/>\\n<polyline clip-path=\\\"url(#clip200)\\\" style=\\\"stroke:#000000; stroke-width:4; stroke-opacity:1; fill:none\\\" points=\\\"\\n  1412,1486.45 1412,1469.18 \\n  \\\"\\/>\\n<polyline clip-path=\\\"url(#clip200)\\\" style=\\\"stroke:#000000; stroke-width:4; stroke-opacity:1; fill:none\\\" points=\\\"\\n  1830.12,1486.45 1830.12,1469.18 \\n  \\\"\\/>\\n<polyline clip-path=\\\"url(#clip200)\\\" style=\\\"stroke:#000000; stroke-width:4; stroke-opacity:1; fill:none\\\" points=\\\"\\n  2248.23,1486.45 2248.23,1469.18 \\n  \\\"\\/>\\n<path clip-path=\\\"url(#clip200)\\\" d=\\\"M 0 0 M157.666 1515.64 Q154.055 1515.64 152.226 1519.2 Q150.421 1522.75 150.421 1529.87 Q150.421 1536.98 152.226 1540.55 Q154.055 1544.09 157.666 1544.09 Q161.3 1544.09 163.106 1540.55 Q164.934 1536.98 164.934 1529.87 Q164.934 1522.75 163.106 1519.2 Q161.3 1515.64 157.666 1515.64 M157.666 1511.93 Q163.476 1511.93 166.532 1516.54 Q169.61 1521.12 169.61 1529.87 Q169.61 1538.6 166.532 1543.21 Q163.476 1547.79 157.666 1547.79 Q151.856 1547.79 148.777 1543.21 Q145.722 1538.6 145.722 1529.87 Q145.722 1521.12 148.777 1516.54 Q151.856 1511.93 157.666 1511.93 Z\\\" fill=\\\"#000000\\\" fill-rule=\\\"evenodd\\\" fill-opacity=\\\"1\\\" \\/><path clip-path=\\\"url(#clip200)\\\" d=\\\"M 0 0 M552.653 1543.18 L560.292 1543.18 L560.292 1516.82 L551.982 1518.49 L551.982 1514.23 L560.246 1512.56 L564.922 1512.56 L564.922 1543.18 L572.561 1543.18 L572.561 1547.12 L552.653 1547.12 L552.653 1543.18 Z\\\" fill=\\\"#000000\\\" fill-rule=\\\"evenodd\\\" fill-opacity=\\\"1\\\" \\/><path clip-path=\\\"url(#clip200)\\\" d=\\\"M 0 0 M587.63 1515.64 Q584.019 1515.64 582.19 1519.2 Q580.385 1522.75 580.385 1529.87 Q580.385 1536.98 582.19 1540.55 Q584.019 1544.09 587.63 1544.09 Q591.264 1544.09 593.07 1540.55 Q594.899 1536.98 594.899 1529.87 Q594.899 1522.75 593.07 1519.2 Q591.264 1515.64 587.63 1515.64 M587.63 1511.93 Q593.44 1511.93 596.496 1516.54 Q599.575 1521.12 599.575 1529.87 Q599.575 1538.6 596.496 1543.21 Q593.44 1547.79 587.63 1547.79 Q581.82 1547.79 578.741 1543.21 Q575.686 1538.6 575.686 1529.87 Q575.686 1521.12 578.741 1516.54 Q581.82 1511.93 587.63 1511.93 Z\\\" fill=\\\"#000000\\\" fill-rule=\\\"evenodd\\\" fill-opacity=\\\"1\\\" \\/><path clip-path=\\\"url(#clip200)\\\" d=\\\"M 0 0 M975.037 1543.18 L991.356 1543.18 L991.356 1547.12 L969.412 1547.12 L969.412 1543.18 Q972.074 1540.43 976.657 1535.8 Q981.263 1531.15 982.444 1529.81 Q984.689 1527.28 985.569 1525.55 Q986.472 1523.79 986.472 1522.1 Q986.472 1519.34 984.527 1517.61 Q982.606 1515.87 979.504 1515.87 Q977.305 1515.87 974.851 1516.63 Q972.421 1517.4 969.643 1518.95 L969.643 1514.23 Q972.467 1513.09 974.921 1512.51 Q977.375 1511.93 979.412 1511.93 Q984.782 1511.93 987.976 1514.62 Q991.171 1517.31 991.171 1521.8 Q991.171 1523.93 990.361 1525.85 Q989.574 1527.74 987.467 1530.34 Q986.888 1531.01 983.787 1534.23 Q980.685 1537.42 975.037 1543.18 Z\\\" fill=\\\"#000000\\\" fill-rule=\\\"evenodd\\\" fill-opacity=\\\"1\\\" \\/><path clip-path=\\\"url(#clip200)\\\" d=\\\"M 0 0 M1006.43 1515.64 Q1002.81 1515.64 1000.99 1519.2 Q999.18 1522.75 999.18 1529.87 Q999.18 1536.98 1000.99 1540.55 Q1002.81 1544.09 1006.43 1544.09 Q1010.06 1544.09 1011.87 1540.55 Q1013.69 1536.98 1013.69 1529.87 Q1013.69 1522.75 1011.87 1519.2 Q1010.06 1515.64 1006.43 1515.64 M1006.43 1511.93 Q1012.24 1511.93 1015.29 1516.54 Q1018.37 1521.12 1018.37 1529.87 Q1018.37 1538.6 1015.29 1543.21 Q1012.24 1547.79 1006.43 1547.79 Q1000.62 1547.79 997.537 1543.21 Q994.481 1538.6 994.481 1529.87 Q994.481 1521.12 997.537 1516.54 Q1000.62 1511.93 1006.43 1511.93 Z\\\" fill=\\\"#000000\\\" fill-rule=\\\"evenodd\\\" fill-opacity=\\\"1\\\" \\/><path clip-path=\\\"url(#clip200)\\\" d=\\\"M 0 0 M1402.74 1528.49 Q1406.1 1529.2 1407.98 1531.47 Q1409.87 1533.74 1409.87 1537.07 Q1409.87 1542.19 1406.35 1544.99 Q1402.84 1547.79 1396.36 1547.79 Q1394.18 1547.79 1391.86 1547.35 Q1389.57 1546.93 1387.12 1546.08 L1387.12 1541.56 Q1389.06 1542.7 1391.38 1543.28 Q1393.69 1543.86 1396.22 1543.86 Q1400.61 1543.86 1402.91 1542.12 Q1405.22 1540.38 1405.22 1537.07 Q1405.22 1534.02 1403.07 1532.31 Q1400.94 1530.57 1397.12 1530.57 L1393.09 1530.57 L1393.09 1526.73 L1397.3 1526.73 Q1400.75 1526.73 1402.58 1525.36 Q1404.41 1523.97 1404.41 1521.38 Q1404.41 1518.72 1402.51 1517.31 Q1400.64 1515.87 1397.12 1515.87 Q1395.2 1515.87 1393 1516.29 Q1390.8 1516.7 1388.16 1517.58 L1388.16 1513.42 Q1390.82 1512.68 1393.14 1512.31 Q1395.48 1511.93 1397.54 1511.93 Q1402.86 1511.93 1405.96 1514.37 Q1409.06 1516.77 1409.06 1520.89 Q1409.06 1523.76 1407.42 1525.75 Q1405.78 1527.72 1402.74 1528.49 Z\\\" fill=\\\"#000000\\\" fill-rule=\\\"evenodd\\\" fill-opacity=\\\"1\\\" \\/><path clip-path=\\\"url(#clip200)\\\" d=\\\"M 0 0 M1424.94 1515.64 Q1421.33 1515.64 1419.5 1519.2 Q1417.7 1522.75 1417.7 1529.87 Q1417.7 1536.98 1419.5 1540.55 Q1421.33 1544.09 1424.94 1544.09 Q1428.58 1544.09 1430.38 1540.55 Q1432.21 1536.98 1432.21 1529.87 Q1432.21 1522.75 1430.38 1519.2 Q1428.58 1515.64 1424.94 1515.64 M1424.94 1511.93 Q1430.75 1511.93 1433.81 1516.54 Q1436.89 1521.12 1436.89 1529.87 Q1436.89 1538.6 1433.81 1543.21 Q1430.75 1547.79 1424.94 1547.79 Q1419.13 1547.79 1416.05 1543.21 Q1413 1538.6 1413 1529.87 Q1413 1521.12 1416.05 1516.54 Q1419.13 1511.93 1424.94 1511.93 Z\\\" fill=\\\"#000000\\\" fill-rule=\\\"evenodd\\\" fill-opacity=\\\"1\\\" \\/><path clip-path=\\\"url(#clip200)\\\" d=\\\"M 0 0 M1819.62 1516.63 L1807.81 1535.08 L1819.62 1535.08 L1819.62 1516.63 M1818.39 1512.56 L1824.27 1512.56 L1824.27 1535.08 L1829.2 1535.08 L1829.2 1538.97 L1824.27 1538.97 L1824.27 1547.12 L1819.62 1547.12 L1819.62 1538.97 L1804.02 1538.97 L1804.02 1534.46 L1818.39 1512.56 Z\\\" fill=\\\"#000000\\\" fill-rule=\\\"evenodd\\\" fill-opacity=\\\"1\\\" \\/><path clip-path=\\\"url(#clip200)\\\" d=\\\"M 0 0 M1844.27 1515.64 Q1840.66 1515.64 1838.83 1519.2 Q1837.03 1522.75 1837.03 1529.87 Q1837.03 1536.98 1838.83 1540.55 Q1840.66 1544.09 1844.27 1544.09 Q1847.9 1544.09 1849.71 1540.55 Q1851.54 1536.98 1851.54 1529.87 Q1851.54 1522.75 1849.71 1519.2 Q1847.9 1515.64 1844.27 1515.64 M1844.27 1511.93 Q1850.08 1511.93 1853.14 1516.54 Q1856.21 1521.12 1856.21 1529.87 Q1856.21 1538.6 1853.14 1543.21 Q1850.08 1547.79 1844.27 1547.79 Q1838.46 1547.79 1835.38 1543.21 Q1832.33 1538.6 1832.33 1529.87 Q1832.33 1521.12 1835.38 1516.54 Q1838.46 1511.93 1844.27 1511.93 Z\\\" fill=\\\"#000000\\\" fill-rule=\\\"evenodd\\\" fill-opacity=\\\"1\\\" \\/><path clip-path=\\\"url(#clip200)\\\" d=\\\"M 0 0 M2225 1512.56 L2243.36 1512.56 L2243.36 1516.5 L2229.28 1516.5 L2229.28 1524.97 Q2230.3 1524.62 2231.32 1524.46 Q2232.34 1524.27 2233.36 1524.27 Q2239.14 1524.27 2242.52 1527.44 Q2245.9 1530.62 2245.9 1536.03 Q2245.9 1541.61 2242.43 1544.71 Q2238.96 1547.79 2232.64 1547.79 Q2230.46 1547.79 2228.19 1547.42 Q2225.95 1547.05 2223.54 1546.31 L2223.54 1541.61 Q2225.62 1542.74 2227.85 1543.3 Q2230.07 1543.86 2232.55 1543.86 Q2236.55 1543.86 2238.89 1541.75 Q2241.23 1539.64 2241.23 1536.03 Q2241.23 1532.42 2238.89 1530.31 Q2236.55 1528.21 2232.55 1528.21 Q2230.67 1528.21 2228.8 1528.62 Q2226.94 1529.04 2225 1529.92 L2225 1512.56 Z\\\" fill=\\\"#000000\\\" fill-rule=\\\"evenodd\\\" fill-opacity=\\\"1\\\" \\/><path clip-path=\\\"url(#clip200)\\\" d=\\\"M 0 0 M2260.97 1515.64 Q2257.36 1515.64 2255.53 1519.2 Q2253.73 1522.75 2253.73 1529.87 Q2253.73 1536.98 2255.53 1540.55 Q2257.36 1544.09 2260.97 1544.09 Q2264.61 1544.09 2266.41 1540.55 Q2268.24 1536.98 2268.24 1529.87 Q2268.24 1522.75 2266.41 1519.2 Q2264.61 1515.64 2260.97 1515.64 M2260.97 1511.93 Q2266.78 1511.93 2269.84 1516.54 Q2272.92 1521.12 2272.92 1529.87 Q2272.92 1538.6 2269.84 1543.21 Q2266.78 1547.79 2260.97 1547.79 Q2255.16 1547.79 2252.08 1543.21 Q2249.03 1538.6 2249.03 1529.87 Q2249.03 1521.12 2252.08 1516.54 Q2255.16 1511.93 2260.97 1511.93 Z\\\" fill=\\\"#000000\\\" fill-rule=\\\"evenodd\\\" fill-opacity=\\\"1\\\" \\/><polyline clip-path=\\\"url(#clip202)\\\" style=\\\"stroke:#000000; stroke-width:2; stroke-opacity:0.1; fill:none\\\" points=\\\"\\n  136.76,1445.72 2352.76,1445.72 \\n  \\\"\\/>\\n<polyline clip-path=\\\"url(#clip202)\\\" style=\\\"stroke:#000000; stroke-width:2; stroke-opacity:0.1; fill:none\\\" points=\\\"\\n  136.76,1106.28 2352.76,1106.28 \\n  \\\"\\/>\\n<polyline clip-path=\\\"url(#clip202)\\\" style=\\\"stroke:#000000; stroke-width:2; stroke-opacity:0.1; fill:none\\\" points=\\\"\\n  136.76,766.846 2352.76,766.846 \\n  \\\"\\/>\\n<polyline clip-path=\\\"url(#clip202)\\\" style=\\\"stroke:#000000; stroke-width:2; stroke-opacity:0.1; fill:none\\\" points=\\\"\\n  136.76,427.411 2352.76,427.411 \\n  \\\"\\/>\\n<polyline clip-path=\\\"url(#clip202)\\\" style=\\\"stroke:#000000; stroke-width:2; stroke-opacity:0.1; fill:none\\\" points=\\\"\\n  136.76,87.9763 2352.76,87.9763 \\n  \\\"\\/>\\n<polyline clip-path=\\\"url(#clip200)\\\" style=\\\"stroke:#000000; stroke-width:4; stroke-opacity:1; fill:none\\\" points=\\\"\\n  136.76,1486.45 136.76,47.2441 \\n  \\\"\\/>\\n<polyline clip-path=\\\"url(#clip200)\\\" style=\\\"stroke:#000000; stroke-width:4; stroke-opacity:1; fill:none\\\" points=\\\"\\n  136.76,1445.72 163.352,1445.72 \\n  \\\"\\/>\\n<polyline clip-path=\\\"url(#clip200)\\\" style=\\\"stroke:#000000; stroke-width:4; stroke-opacity:1; fill:none\\\" points=\\\"\\n  136.76,1106.28 163.352,1106.28 \\n  \\\"\\/>\\n<polyline clip-path=\\\"url(#clip200)\\\" style=\\\"stroke:#000000; stroke-width:4; stroke-opacity:1; fill:none\\\" points=\\\"\\n  136.76,766.846 163.352,766.846 \\n  \\\"\\/>\\n<polyline clip-path=\\\"url(#clip200)\\\" style=\\\"stroke:#000000; stroke-width:4; stroke-opacity:1; fill:none\\\" points=\\\"\\n  136.76,427.411 163.352,427.411 \\n  \\\"\\/>\\n<polyline clip-path=\\\"url(#clip200)\\\" style=\\\"stroke:#000000; stroke-width:4; stroke-opacity:1; fill:none\\\" points=\\\"\\n  136.76,87.9763 163.352,87.9763 \\n  \\\"\\/>\\n<path clip-path=\\\"url(#clip200)\\\" d=\\\"M 0 0 M54.8347 1459.06 L62.4735 1459.06 L62.4735 1432.69 L54.1634 1434.36 L54.1634 1430.1 L62.4272 1428.44 L67.1032 1428.44 L67.1032 1459.06 L74.742 1459.06 L74.742 1463 L54.8347 1463 L54.8347 1459.06 Z\\\" fill=\\\"#000000\\\" fill-rule=\\\"evenodd\\\" fill-opacity=\\\"1\\\" \\/><path clip-path=\\\"url(#clip200)\\\" d=\\\"M 0 0 M79.8577 1428.44 L98.2141 1428.44 L98.2141 1432.37 L84.1401 1432.37 L84.1401 1440.84 Q85.1586 1440.5 86.1771 1440.33 Q87.1956 1440.15 88.2141 1440.15 Q94.0012 1440.15 97.3808 1443.32 Q100.76 1446.49 100.76 1451.91 Q100.76 1457.49 97.2882 1460.59 Q93.816 1463.67 87.4966 1463.67 Q85.3206 1463.67 83.0521 1463.3 Q80.8068 1462.93 78.3994 1462.19 L78.3994 1457.49 Q80.4827 1458.62 82.7049 1459.18 Q84.9271 1459.73 87.404 1459.73 Q91.4086 1459.73 93.7465 1457.63 Q96.0845 1455.52 96.0845 1451.91 Q96.0845 1448.3 93.7465 1446.19 Q91.4086 1444.08 87.404 1444.08 Q85.529 1444.08 83.654 1444.5 Q81.8021 1444.92 79.8577 1445.8 L79.8577 1428.44 Z\\\" fill=\\\"#000000\\\" fill-rule=\\\"evenodd\\\" fill-opacity=\\\"1\\\" \\/><path clip-path=\\\"url(#clip200)\\\" d=\\\"M 0 0 M57.4273 1119.63 L73.7466 1119.63 L73.7466 1123.56 L51.8023 1123.56 L51.8023 1119.63 Q54.4643 1116.87 59.0476 1112.24 Q63.6541 1107.59 64.8346 1106.25 Q67.08 1103.72 67.9596 1101.99 Q68.8624 1100.23 68.8624 1098.54 Q68.8624 1095.78 66.918 1094.05 Q64.9967 1092.31 61.8948 1092.31 Q59.6958 1092.31 57.2421 1093.07 Q54.8115 1093.84 52.0338 1095.39 L52.0338 1090.67 Q54.8578 1089.53 57.3115 1088.95 Q59.7652 1088.38 61.8023 1088.38 Q67.1726 1088.38 70.367 1091.06 Q73.5614 1093.75 73.5614 1098.24 Q73.5614 1100.37 72.7513 1102.29 Q71.9642 1104.19 69.8578 1106.78 Q69.2791 1107.45 66.1772 1110.67 Q63.0754 1113.86 57.4273 1119.63 Z\\\" fill=\\\"#000000\\\" fill-rule=\\\"evenodd\\\" fill-opacity=\\\"1\\\" \\/><path clip-path=\\\"url(#clip200)\\\" d=\\\"M 0 0 M88.816 1092.08 Q85.2049 1092.08 83.3762 1095.64 Q81.5707 1099.19 81.5707 1106.32 Q81.5707 1113.42 83.3762 1116.99 Q85.2049 1120.53 88.816 1120.53 Q92.4502 1120.53 94.2558 1116.99 Q96.0845 1113.42 96.0845 1106.32 Q96.0845 1099.19 94.2558 1095.64 Q92.4502 1092.08 88.816 1092.08 M88.816 1088.38 Q94.6262 1088.38 97.6817 1092.98 Q100.76 1097.57 100.76 1106.32 Q100.76 1115.04 97.6817 1119.65 Q94.6262 1124.23 88.816 1124.23 Q83.0058 1124.23 79.9272 1119.65 Q76.8716 1115.04 76.8716 1106.32 Q76.8716 1097.57 79.9272 1092.98 Q83.0058 1088.38 88.816 1088.38 Z\\\" fill=\\\"#000000\\\" fill-rule=\\\"evenodd\\\" fill-opacity=\\\"1\\\" \\/><path clip-path=\\\"url(#clip200)\\\" d=\\\"M 0 0 M58.4226 780.191 L74.742 780.191 L74.742 784.126 L52.7977 784.126 L52.7977 780.191 Q55.4597 777.436 60.043 772.807 Q64.6495 768.154 65.83 766.811 Q68.0754 764.288 68.955 762.552 Q69.8578 760.793 69.8578 759.103 Q69.8578 756.348 67.9133 754.612 Q65.992 752.876 62.8902 752.876 Q60.6911 752.876 58.2375 753.64 Q55.8069 754.404 53.0292 755.955 L53.0292 751.233 Q55.8532 750.098 58.3069 749.52 Q60.7606 748.941 62.7976 748.941 Q68.168 748.941 71.3624 751.626 Q74.5568 754.311 74.5568 758.802 Q74.5568 760.932 73.7466 762.853 Q72.9596 764.751 70.8531 767.344 Q70.2744 768.015 67.1726 771.233 Q64.0708 774.427 58.4226 780.191 Z\\\" fill=\\\"#000000\\\" fill-rule=\\\"evenodd\\\" fill-opacity=\\\"1\\\" \\/><path clip-path=\\\"url(#clip200)\\\" d=\\\"M 0 0 M79.8577 749.566 L98.2141 749.566 L98.2141 753.501 L84.1401 753.501 L84.1401 761.973 Q85.1586 761.626 86.1771 761.464 Q87.1956 761.279 88.2141 761.279 Q94.0012 761.279 97.3808 764.45 Q100.76 767.621 100.76 773.038 Q100.76 778.617 97.2882 781.719 Q93.816 784.797 87.4966 784.797 Q85.3206 784.797 83.0521 784.427 Q80.8068 784.057 78.3994 783.316 L78.3994 778.617 Q80.4827 779.751 82.7049 780.307 Q84.9271 780.862 87.404 780.862 Q91.4086 780.862 93.7465 778.756 Q96.0845 776.649 96.0845 773.038 Q96.0845 769.427 93.7465 767.321 Q91.4086 765.214 87.404 765.214 Q85.529 765.214 83.654 765.631 Q81.8021 766.047 79.8577 766.927 L79.8577 749.566 Z\\\" fill=\\\"#000000\\\" fill-rule=\\\"evenodd\\\" fill-opacity=\\\"1\\\" \\/><path clip-path=\\\"url(#clip200)\\\" d=\\\"M 0 0 M66.617 426.057 Q69.9735 426.775 71.8485 429.043 Q73.7466 431.312 73.7466 434.645 Q73.7466 439.761 70.2281 442.562 Q66.7096 445.362 60.2282 445.362 Q58.0523 445.362 55.7375 444.923 Q53.4458 444.506 50.9921 443.649 L50.9921 439.136 Q52.9366 440.27 55.2514 440.849 Q57.5662 441.427 60.0893 441.427 Q64.4874 441.427 66.7791 439.691 Q69.0939 437.955 69.0939 434.645 Q69.0939 431.589 66.9411 429.876 Q64.8115 428.14 60.9921 428.14 L56.9643 428.14 L56.9643 424.298 L61.1773 424.298 Q64.6263 424.298 66.455 422.932 Q68.2837 421.543 68.2837 418.951 Q68.2837 416.289 66.3856 414.876 Q64.5106 413.441 60.9921 413.441 Q59.0708 413.441 56.8717 413.858 Q54.6727 414.275 52.0338 415.154 L52.0338 410.988 Q54.6958 410.247 57.0106 409.877 Q59.3486 409.506 61.4087 409.506 Q66.7328 409.506 69.8346 411.937 Q72.9365 414.344 72.9365 418.464 Q72.9365 421.335 71.2929 423.326 Q69.6494 425.293 66.617 426.057 Z\\\" fill=\\\"#000000\\\" fill-rule=\\\"evenodd\\\" fill-opacity=\\\"1\\\" \\/><path clip-path=\\\"url(#clip200)\\\" d=\\\"M 0 0 M88.816 413.21 Q85.2049 413.21 83.3762 416.775 Q81.5707 420.316 81.5707 427.446 Q81.5707 434.552 83.3762 438.117 Q85.2049 441.659 88.816 441.659 Q92.4502 441.659 94.2558 438.117 Q96.0845 434.552 96.0845 427.446 Q96.0845 420.316 94.2558 416.775 Q92.4502 413.21 88.816 413.21 M88.816 409.506 Q94.6262 409.506 97.6817 414.113 Q100.76 418.696 100.76 427.446 Q100.76 436.173 97.6817 440.779 Q94.6262 445.362 88.816 445.362 Q83.0058 445.362 79.9272 440.779 Q76.8716 436.173 76.8716 427.446 Q76.8716 418.696 79.9272 414.113 Q83.0058 409.506 88.816 409.506 Z\\\" fill=\\\"#000000\\\" fill-rule=\\\"evenodd\\\" fill-opacity=\\\"1\\\" \\/><path clip-path=\\\"url(#clip200)\\\" d=\\\"M 0 0 M67.6124 86.6221 Q70.9689 87.3397 72.8439 89.6082 Q74.742 91.8767 74.742 95.21 Q74.742 100.326 71.2235 103.127 Q67.705 105.928 61.2236 105.928 Q59.0476 105.928 56.7328 105.488 Q54.4412 105.071 51.9875 104.215 L51.9875 99.7008 Q53.9319 100.835 56.2467 101.414 Q58.5615 101.992 61.0847 101.992 Q65.4828 101.992 67.7744 100.256 Q70.0892 98.5202 70.0892 95.21 Q70.0892 92.1545 67.9365 90.4415 Q65.8069 88.7054 61.9874 88.7054 L57.9597 88.7054 L57.9597 84.8629 L62.1726 84.8629 Q65.6217 84.8629 67.4504 83.4971 Q69.2791 82.1083 69.2791 79.5157 Q69.2791 76.8537 67.3809 75.4416 Q65.5059 74.0064 61.9874 74.0064 Q60.0662 74.0064 57.8671 74.4231 Q55.668 74.8398 53.0292 75.7194 L53.0292 71.5528 Q55.6912 70.812 58.006 70.4416 Q60.3439 70.0713 62.4041 70.0713 Q67.7281 70.0713 70.83 72.5018 Q73.9318 74.9092 73.9318 79.0296 Q73.9318 81.8999 72.2883 83.8907 Q70.6448 85.8582 67.6124 86.6221 Z\\\" fill=\\\"#000000\\\" fill-rule=\\\"evenodd\\\" fill-opacity=\\\"1\\\" \\/><path clip-path=\\\"url(#clip200)\\\" d=\\\"M 0 0 M79.8577 70.6963 L98.2141 70.6963 L98.2141 74.6314 L84.1401 74.6314 L84.1401 83.1036 Q85.1586 82.7564 86.1771 82.5944 Q87.1956 82.4092 88.2141 82.4092 Q94.0012 82.4092 97.3808 85.5805 Q100.76 88.7517 100.76 94.1684 Q100.76 99.747 97.2882 102.849 Q93.816 105.928 87.4966 105.928 Q85.3206 105.928 83.0521 105.557 Q80.8068 105.187 78.3994 104.446 L78.3994 99.747 Q80.4827 100.881 82.7049 101.437 Q84.9271 101.992 87.404 101.992 Q91.4086 101.992 93.7465 99.8859 Q96.0845 97.7795 96.0845 94.1684 Q96.0845 90.5573 93.7465 88.4508 Q91.4086 86.3443 87.404 86.3443 Q85.529 86.3443 83.654 86.761 Q81.8021 87.1777 79.8577 88.0573 L79.8577 70.6963 Z\\\" fill=\\\"#000000\\\" fill-rule=\\\"evenodd\\\" fill-opacity=\\\"1\\\" \\/><polyline clip-path=\\\"url(#clip202)\\\" style=\\\"stroke:#800080; stroke-width:4; stroke-opacity:1; fill:none\\\" points=\\\"\\n  199.477,563.185 241.288,563.185 283.1,698.959 324.911,698.959 366.722,766.846 408.533,902.62 450.345,902.62 492.156,970.507 533.967,970.507 575.778,970.507 \\n  617.59,970.507 659.401,1038.39 701.212,1038.39 743.023,1106.28 784.835,1106.28 826.646,1174.17 868.457,1174.17 910.268,1174.17 952.079,1242.05 993.891,1242.05 \\n  1035.7,1242.05 1077.51,1242.05 1119.32,1242.05 1161.14,1242.05 1202.95,1242.05 1244.76,1309.94 1286.57,1309.94 1328.38,1377.83 1370.19,1445.72 1412,1445.72 \\n  1453.81,1445.72 1495.63,1445.72 1537.44,1445.72 1579.25,1445.72 1621.06,1445.72 1662.87,1445.72 1704.68,1445.72 1746.49,1309.94 1788.3,1377.83 1830.12,1377.83 \\n  1871.93,1377.83 1913.74,1377.83 1955.55,1377.83 1997.36,1377.83 2039.17,1377.83 2080.98,1242.05 2122.79,1242.05 2164.61,1242.05 2206.42,1309.94 2248.23,1309.94 \\n  2290.04,1309.94 \\n  \\\"\\/>\\n<polyline clip-path=\\\"url(#clip202)\\\" style=\\\"stroke:#008000; stroke-width:4; stroke-opacity:1; fill:none\\\" points=\\\"\\n  199.477,495.298 241.288,563.185 283.1,495.298 324.911,427.411 366.722,359.524 408.533,291.637 450.345,223.75 492.156,223.75 533.967,359.524 575.778,291.637 \\n  617.59,223.75 659.401,155.863 701.212,155.863 743.023,87.9763 784.835,223.75 826.646,155.863 868.457,291.637 910.268,223.75 952.079,155.863 993.891,87.9763 \\n  1035.7,87.9763 1077.51,87.9763 1119.32,223.75 1161.14,359.524 1202.95,495.298 1244.76,427.411 1286.57,427.411 1328.38,359.524 1370.19,291.637 1412,223.75 \\n  1453.81,223.75 1495.63,359.524 1537.44,359.524 1579.25,359.524 1621.06,359.524 1662.87,359.524 1704.68,495.298 1746.49,495.298 1788.3,427.411 1830.12,359.524 \\n  1871.93,359.524 1913.74,495.298 1955.55,427.411 1997.36,563.185 2039.17,563.185 2080.98,563.185 2122.79,698.959 2164.61,698.959 2206.42,631.072 2248.23,631.072 \\n  2290.04,563.185 \\n  \\\"\\/>\\n<path clip-path=\\\"url(#clip200)\\\" d=\\\"\\nM1826.65 276.658 L2278.89 276.658 L2278.89 95.2176 L1826.65 95.2176  Z\\n  \\\" fill=\\\"#ffffff\\\" fill-rule=\\\"evenodd\\\" fill-opacity=\\\"1\\\"\\/>\\n<polyline clip-path=\\\"url(#clip200)\\\" style=\\\"stroke:#000000; stroke-width:4; stroke-opacity:1; fill:none\\\" points=\\\"\\n  1826.65,276.658 2278.89,276.658 2278.89,95.2176 1826.65,95.2176 1826.65,276.658 \\n  \\\"\\/>\\n<polyline clip-path=\\\"url(#clip200)\\\" style=\\\"stroke:#800080; stroke-width:4; stroke-opacity:1; fill:none\\\" points=\\\"\\n  1851.27,155.698 1999.01,155.698 \\n  \\\"\\/>\\n<path clip-path=\\\"url(#clip200)\\\" d=\\\"M 0 0 M2042.54 159.714 Q2042.54 155.084 2040.62 152.538 Q2038.72 149.992 2035.27 149.992 Q2031.85 149.992 2029.92 152.538 Q2028.03 155.084 2028.03 159.714 Q2028.03 164.32 2029.92 166.866 Q2031.85 169.413 2035.27 169.413 Q2038.72 169.413 2040.62 166.866 Q2042.54 164.32 2042.54 159.714 M2046.8 169.76 Q2046.8 176.38 2043.86 179.598 Q2040.92 182.839 2034.85 182.839 Q2032.61 182.839 2030.62 182.491 Q2028.63 182.167 2026.75 181.473 L2026.75 177.329 Q2028.63 178.348 2030.46 178.834 Q2032.28 179.32 2034.18 179.32 Q2038.37 179.32 2040.46 177.121 Q2042.54 174.945 2042.54 170.524 L2042.54 168.417 Q2041.22 170.709 2039.16 171.843 Q2037.1 172.978 2034.23 172.978 Q2029.46 172.978 2026.54 169.343 Q2023.63 165.709 2023.63 159.714 Q2023.63 153.695 2026.54 150.061 Q2029.46 146.427 2034.23 146.427 Q2037.1 146.427 2039.16 147.561 Q2041.22 148.695 2042.54 150.987 L2042.54 147.052 L2046.8 147.052 L2046.8 169.76 Z\\\" fill=\\\"#000000\\\" fill-rule=\\\"evenodd\\\" fill-opacity=\\\"1\\\" \\/><path clip-path=\\\"url(#clip200)\\\" d=\\\"M 0 0 M2061.31 150.038 Q2057.89 150.038 2055.9 152.723 Q2053.91 155.385 2053.91 160.038 Q2053.91 164.691 2055.87 167.376 Q2057.86 170.038 2061.31 170.038 Q2064.72 170.038 2066.71 167.353 Q2068.7 164.667 2068.7 160.038 Q2068.7 155.431 2066.71 152.746 Q2064.72 150.038 2061.31 150.038 M2061.31 146.427 Q2066.87 146.427 2070.04 150.038 Q2073.21 153.649 2073.21 160.038 Q2073.21 166.404 2070.04 170.038 Q2066.87 173.649 2061.31 173.649 Q2055.73 173.649 2052.56 170.038 Q2049.41 166.404 2049.41 160.038 Q2049.41 153.649 2052.56 150.038 Q2055.73 146.427 2061.31 146.427 Z\\\" fill=\\\"#000000\\\" fill-rule=\\\"evenodd\\\" fill-opacity=\\\"1\\\" \\/><path clip-path=\\\"url(#clip200)\\\" d=\\\"M 0 0 M2077.82 136.959 L2082.08 136.959 L2082.08 150.894 L2084.97 148.811 L2086.73 151.265 L2082.08 154.529 L2082.08 172.978 L2077.82 172.978 L2077.82 157.561 L2074.97 159.598 L2073.26 157.144 L2077.82 153.88 L2077.82 136.959 Z\\\" fill=\\\"#000000\\\" fill-rule=\\\"evenodd\\\" fill-opacity=\\\"1\\\" \\/><path clip-path=\\\"url(#clip200)\\\" d=\\\"M 0 0 M2113.37 158.95 L2113.37 161.033 L2093.79 161.033 Q2094.07 165.431 2096.43 167.746 Q2098.81 170.038 2103.05 170.038 Q2105.5 170.038 2107.79 169.436 Q2110.11 168.834 2112.38 167.63 L2112.38 171.658 Q2110.09 172.63 2107.68 173.14 Q2105.27 173.649 2102.79 173.649 Q2096.59 173.649 2092.96 170.038 Q2089.34 166.427 2089.34 160.269 Q2089.34 153.904 2092.77 150.177 Q2096.22 146.427 2102.05 146.427 Q2107.28 146.427 2110.32 149.806 Q2113.37 153.163 2113.37 158.95 M2109.11 157.7 Q2109.07 154.205 2107.15 152.121 Q2105.25 150.038 2102.1 150.038 Q2098.53 150.038 2096.38 152.052 Q2094.25 154.066 2093.93 157.723 L2109.11 157.7 M2105.62 172.978 L2108.37 172.978 Q2107.33 174.39 2106.82 175.408 Q2106.34 176.427 2106.34 177.144 Q2106.34 178.209 2106.96 178.741 Q2107.61 179.274 2108.86 179.274 Q2109.6 179.274 2110.32 179.089 Q2111.03 178.927 2111.75 178.579 L2111.75 181.658 Q2110.87 181.89 2110.09 182.005 Q2109.3 182.121 2108.6 182.121 Q2105.78 182.121 2104.44 181.103 Q2103.12 180.107 2103.12 177.954 Q2103.12 176.843 2103.72 175.616 Q2104.34 174.413 2105.62 172.978 Z\\\" fill=\\\"#000000\\\" fill-rule=\\\"evenodd\\\" fill-opacity=\\\"1\\\" \\/><path clip-path=\\\"url(#clip200)\\\" d=\\\"M 0 0 M2136.45 160.038 Q2136.45 155.339 2134.51 152.677 Q2132.59 149.992 2129.21 149.992 Q2125.83 149.992 2123.88 152.677 Q2121.96 155.339 2121.96 160.038 Q2121.96 164.737 2123.88 167.422 Q2125.83 170.084 2129.21 170.084 Q2132.59 170.084 2134.51 167.422 Q2136.45 164.737 2136.45 160.038 M2121.96 150.987 Q2123.3 148.672 2125.34 147.561 Q2127.4 146.427 2130.25 146.427 Q2134.97 146.427 2137.91 150.177 Q2140.87 153.927 2140.87 160.038 Q2140.87 166.149 2137.91 169.899 Q2134.97 173.649 2130.25 173.649 Q2127.4 173.649 2125.34 172.538 Q2123.3 171.403 2121.96 169.089 L2121.96 172.978 L2117.68 172.978 L2117.68 136.959 L2121.96 136.959 L2121.96 150.987 Z\\\" fill=\\\"#000000\\\" fill-rule=\\\"evenodd\\\" fill-opacity=\\\"1\\\" \\/><path clip-path=\\\"url(#clip200)\\\" d=\\\"M 0 0 M2145.34 147.052 L2149.6 147.052 L2149.6 172.978 L2145.34 172.978 L2145.34 147.052 M2145.34 136.959 L2149.6 136.959 L2149.6 142.353 L2145.34 142.353 L2145.34 136.959 Z\\\" fill=\\\"#000000\\\" fill-rule=\\\"evenodd\\\" fill-opacity=\\\"1\\\" \\/><path clip-path=\\\"url(#clip200)\\\" d=\\\"M 0 0 M2176.24 158.95 L2176.24 161.033 L2156.66 161.033 Q2156.94 165.431 2159.3 167.746 Q2161.68 170.038 2165.92 170.038 Q2168.37 170.038 2170.66 169.436 Q2172.98 168.834 2175.25 167.63 L2175.25 171.658 Q2172.96 172.63 2170.55 173.14 Q2168.14 173.649 2165.66 173.649 Q2159.46 173.649 2155.83 170.038 Q2152.21 166.427 2152.21 160.269 Q2152.21 153.904 2155.64 150.177 Q2159.09 146.427 2164.92 146.427 Q2170.15 146.427 2173.19 149.806 Q2176.24 153.163 2176.24 158.95 M2171.98 157.7 Q2171.94 154.205 2170.02 152.121 Q2168.12 150.038 2164.97 150.038 Q2161.4 150.038 2159.25 152.052 Q2157.12 154.066 2156.8 157.723 L2171.98 157.7 Z\\\" fill=\\\"#000000\\\" fill-rule=\\\"evenodd\\\" fill-opacity=\\\"1\\\" \\/><polyline clip-path=\\\"url(#clip200)\\\" style=\\\"stroke:#008000; stroke-width:4; stroke-opacity:1; fill:none\\\" points=\\\"\\n  1851.27,216.178 1999.01,216.178 \\n  \\\"\\/>\\n<path clip-path=\\\"url(#clip200)\\\" d=\\\"M 0 0 M2028.95 207.532 L2033.21 207.532 L2033.21 233.921 Q2033.21 238.874 2031.31 241.096 Q2029.44 243.319 2025.25 243.319 L2023.63 243.319 L2023.63 239.708 L2024.76 239.708 Q2027.19 239.708 2028.07 238.573 Q2028.95 237.462 2028.95 233.921 L2028.95 207.532 M2028.95 197.439 L2033.21 197.439 L2033.21 202.833 L2028.95 202.833 L2028.95 197.439 Z\\\" fill=\\\"#000000\\\" fill-rule=\\\"evenodd\\\" fill-opacity=\\\"1\\\" \\/><path clip-path=\\\"url(#clip200)\\\" d=\\\"M 0 0 M2049.46 220.425 Q2044.3 220.425 2042.31 221.606 Q2040.32 222.786 2040.32 225.634 Q2040.32 227.902 2041.8 229.245 Q2043.3 230.564 2045.87 230.564 Q2049.41 230.564 2051.54 228.064 Q2053.7 225.541 2053.7 221.374 L2053.7 220.425 L2049.46 220.425 M2057.96 218.666 L2057.96 233.458 L2053.7 233.458 L2053.7 229.522 Q2052.24 231.883 2050.06 233.018 Q2047.89 234.129 2044.74 234.129 Q2040.76 234.129 2038.4 231.907 Q2036.06 229.661 2036.06 225.911 Q2036.06 221.536 2038.97 219.314 Q2041.91 217.092 2047.72 217.092 L2053.7 217.092 L2053.7 216.675 Q2053.7 213.735 2051.75 212.138 Q2049.83 210.518 2046.34 210.518 Q2044.11 210.518 2042.01 211.05 Q2039.9 211.583 2037.96 212.647 L2037.96 208.712 Q2040.29 207.81 2042.49 207.37 Q2044.69 206.907 2046.78 206.907 Q2052.4 206.907 2055.18 209.823 Q2057.96 212.74 2057.96 218.666 Z\\\" fill=\\\"#000000\\\" fill-rule=\\\"evenodd\\\" fill-opacity=\\\"1\\\" \\/><path clip-path=\\\"url(#clip200)\\\" d=\\\"M 0 0 M2078.95 208.296 L2078.95 212.323 Q2077.15 211.397 2075.2 210.935 Q2073.26 210.472 2071.17 210.472 Q2068 210.472 2066.41 211.444 Q2064.83 212.416 2064.83 214.36 Q2064.83 215.842 2065.97 216.698 Q2067.1 217.532 2070.53 218.296 L2071.98 218.62 Q2076.52 219.592 2078.42 221.374 Q2080.34 223.134 2080.34 226.305 Q2080.34 229.916 2077.47 232.022 Q2074.62 234.129 2069.62 234.129 Q2067.54 234.129 2065.27 233.712 Q2063.03 233.319 2060.53 232.508 L2060.53 228.11 Q2062.89 229.337 2065.18 229.962 Q2067.47 230.564 2069.72 230.564 Q2072.72 230.564 2074.34 229.546 Q2075.97 228.504 2075.97 226.629 Q2075.97 224.893 2074.78 223.967 Q2073.63 223.041 2069.67 222.184 L2068.19 221.837 Q2064.23 221.004 2062.47 219.291 Q2060.71 217.555 2060.71 214.546 Q2060.71 210.888 2063.3 208.898 Q2065.9 206.907 2070.66 206.907 Q2073.03 206.907 2075.11 207.254 Q2077.19 207.601 2078.95 208.296 Z\\\" fill=\\\"#000000\\\" fill-rule=\\\"evenodd\\\" fill-opacity=\\\"1\\\" \\/><path clip-path=\\\"url(#clip200)\\\" d=\\\"M 0 0 M2089.02 200.171 L2089.02 207.532 L2097.79 207.532 L2097.79 210.842 L2089.02 210.842 L2089.02 224.916 Q2089.02 228.087 2089.88 228.99 Q2090.76 229.893 2093.42 229.893 L2097.79 229.893 L2097.79 233.458 L2093.42 233.458 Q2088.49 233.458 2086.61 231.629 Q2084.74 229.777 2084.74 224.916 L2084.74 210.842 L2081.61 210.842 L2081.61 207.532 L2084.74 207.532 L2084.74 200.171 L2089.02 200.171 Z\\\" fill=\\\"#000000\\\" fill-rule=\\\"evenodd\\\" fill-opacity=\\\"1\\\" \\/><path clip-path=\\\"url(#clip200)\\\" d=\\\"M 0 0 M2117.28 211.513 Q2116.57 211.097 2115.71 210.911 Q2114.88 210.703 2113.86 210.703 Q2110.25 210.703 2108.3 213.064 Q2106.38 215.402 2106.38 219.8 L2106.38 233.458 L2102.1 233.458 L2102.1 207.532 L2106.38 207.532 L2106.38 211.56 Q2107.72 209.198 2109.88 208.064 Q2112.03 206.907 2115.11 206.907 Q2115.55 206.907 2116.08 206.976 Q2116.61 207.023 2117.26 207.138 L2117.28 211.513 Z\\\" fill=\\\"#000000\\\" fill-rule=\\\"evenodd\\\" fill-opacity=\\\"1\\\" \\/><path clip-path=\\\"url(#clip200)\\\" d=\\\"M 0 0 M2119.9 207.532 L2140.13 207.532 L2140.13 211.421 L2124.11 230.055 L2140.13 230.055 L2140.13 233.458 L2119.32 233.458 L2119.32 229.569 L2135.34 210.935 L2119.9 210.935 L2119.9 207.532 Z\\\" fill=\\\"#000000\\\" fill-rule=\\\"evenodd\\\" fill-opacity=\\\"1\\\" \\/><path clip-path=\\\"url(#clip200)\\\" d=\\\"M 0 0 M2166.78 219.43 L2166.78 221.513 L2147.19 221.513 Q2147.47 225.911 2149.83 228.226 Q2152.21 230.518 2156.45 230.518 Q2158.9 230.518 2161.2 229.916 Q2163.51 229.314 2165.78 228.11 L2165.78 232.138 Q2163.49 233.11 2161.08 233.62 Q2158.67 234.129 2156.2 234.129 Q2149.99 234.129 2146.36 230.518 Q2142.75 226.907 2142.75 220.749 Q2142.75 214.384 2146.17 210.657 Q2149.62 206.907 2155.46 206.907 Q2160.69 206.907 2163.72 210.286 Q2166.78 213.643 2166.78 219.43 M2162.52 218.18 Q2162.47 214.685 2160.55 212.601 Q2158.65 210.518 2155.5 210.518 Q2151.94 210.518 2149.78 212.532 Q2147.65 214.546 2147.33 218.203 L2162.52 218.18 M2159.02 233.458 L2161.78 233.458 Q2160.73 234.87 2160.22 235.888 Q2159.74 236.907 2159.74 237.624 Q2159.74 238.689 2160.36 239.221 Q2161.01 239.754 2162.26 239.754 Q2163 239.754 2163.72 239.569 Q2164.44 239.407 2165.15 239.059 L2165.15 242.138 Q2164.28 242.37 2163.49 242.485 Q2162.7 242.601 2162.01 242.601 Q2159.18 242.601 2157.84 241.583 Q2156.52 240.587 2156.52 238.434 Q2156.52 237.323 2157.12 236.096 Q2157.75 234.893 2159.02 233.458 Z\\\" fill=\\\"#000000\\\" fill-rule=\\\"evenodd\\\" fill-opacity=\\\"1\\\" \\/><path clip-path=\\\"url(#clip200)\\\" d=\\\"M 0 0 M2189.85 220.518 Q2189.85 215.819 2187.91 213.157 Q2185.99 210.472 2182.61 210.472 Q2179.23 210.472 2177.28 213.157 Q2175.36 215.819 2175.36 220.518 Q2175.36 225.217 2177.28 227.902 Q2179.23 230.564 2182.61 230.564 Q2185.99 230.564 2187.91 227.902 Q2189.85 225.217 2189.85 220.518 M2175.36 211.467 Q2176.71 209.152 2178.74 208.041 Q2180.8 206.907 2183.65 206.907 Q2188.37 206.907 2191.31 210.657 Q2194.27 214.407 2194.27 220.518 Q2194.27 226.629 2191.31 230.379 Q2188.37 234.129 2183.65 234.129 Q2180.8 234.129 2178.74 233.018 Q2176.71 231.883 2175.36 229.569 L2175.36 233.458 L2171.08 233.458 L2171.08 197.439 L2175.36 197.439 L2175.36 211.467 Z\\\" fill=\\\"#000000\\\" fill-rule=\\\"evenodd\\\" fill-opacity=\\\"1\\\" \\/><path clip-path=\\\"url(#clip200)\\\" d=\\\"M 0 0 M2198.74 207.532 L2203 207.532 L2203 233.458 L2198.74 233.458 L2198.74 207.532 M2198.74 197.439 L2203 197.439 L2203 202.833 L2198.74 202.833 L2198.74 197.439 Z\\\" fill=\\\"#000000\\\" fill-rule=\\\"evenodd\\\" fill-opacity=\\\"1\\\" \\/><path clip-path=\\\"url(#clip200)\\\" d=\\\"M 0 0 M2229.65 219.43 L2229.65 221.513 L2210.06 221.513 Q2210.34 225.911 2212.7 228.226 Q2215.08 230.518 2219.32 230.518 Q2221.77 230.518 2224.07 229.916 Q2226.38 229.314 2228.65 228.11 L2228.65 232.138 Q2226.36 233.11 2223.95 233.62 Q2221.54 234.129 2219.07 234.129 Q2212.86 234.129 2209.23 230.518 Q2205.62 226.907 2205.62 220.749 Q2205.62 214.384 2209.04 210.657 Q2212.49 206.907 2218.33 206.907 Q2223.56 206.907 2226.59 210.286 Q2229.65 213.643 2229.65 219.43 M2225.39 218.18 Q2225.34 214.685 2223.42 212.601 Q2221.52 210.518 2218.37 210.518 Q2214.81 210.518 2212.65 212.532 Q2210.52 214.546 2210.2 218.203 L2225.39 218.18 Z\\\" fill=\\\"#000000\\\" fill-rule=\\\"evenodd\\\" fill-opacity=\\\"1\\\" \\/><\\/svg>\\n\"},\"nodeType\":\"DOM\",\"type\":\"node\",\"instanceArgs\":{\"namespace\":\"html\",\"tag\":\"div\"},\"children\":[]}]}}}},\"children\":[{\"props\":{},\"nodeType\":\"ObservableNode\",\"type\":\"node\",\"instanceArgs\":{\"id\":\"11913641743310058961\",\"name\":\"obs-node\"},\"children\":[]}]}]},\n",
       "            window,\n",
       "        );\n",
       "    } else {\n",
       "        document\n",
       "            .querySelector('[data-webio-mountpoint=\"771602284140558869\"]')\n",
       "            .innerHTML = (\n",
       "                '<div style=\"padding: 1em; background-color: #f8d6da; border: 1px solid #f5c6cb\">' +\n",
       "                '<p><strong>WebIO not detected.</strong></p>' +\n",
       "                '<p>Please read ' +\n",
       "                '<a href=\"https://juliagizmos.github.io/WebIO.jl/latest/troubleshooting/not-detected/\" target=\"_blank\">the troubleshooting guide</a> ' +\n",
       "                'for more information on how to resolve this issue.</p>' +\n",
       "                '<p><a href=\"https://juliagizmos.github.io/WebIO.jl/latest/troubleshooting/not-detected/\" target=\"_blank\">https://juliagizmos.github.io/WebIO.jl/latest/troubleshooting/not-detected/</a></p>' +\n",
       "                '</div>'\n",
       "            );\n",
       "    }\n",
       "    </script>\n",
       "</div>\n"
      ],
      "text/plain": [
       "Node{WebIO.DOM}(WebIO.DOM(:html, :div), Any[Node{WebIO.DOM}(WebIO.DOM(:html, :div), Any[Scope(Node{WebIO.DOM}(WebIO.DOM(:html, :div), Any[Node{WebIO.DOM}(WebIO.DOM(:html, :div), Any[Node{WebIO.DOM}(WebIO.DOM(:html, :label), Any[\"time\"], Dict{Symbol,Any}(:className => \"interact \",:style => Dict{Any,Any}(:padding => \"5px 10px 0px 10px\")))], Dict{Symbol,Any}(:className => \"interact-flex-row-left\")), Node{WebIO.DOM}(WebIO.DOM(:html, :div), Any[Node{WebIO.DOM}(WebIO.DOM(:html, :input), Any[], Dict{Symbol,Any}(:max => 99,:min => 1,:attributes => Dict{Any,Any}(:type => \"range\",Symbol(\"data-bind\") => \"numericValue: index, valueUpdate: 'input', event: {change: function (){this.changes(this.changes()+1)}}\",\"orient\" => \"horizontal\"),:step => 1,:className => \"slider slider is-fullwidth\",:style => Dict{Any,Any}()))], Dict{Symbol,Any}(:className => \"interact-flex-row-center\")), Node{WebIO.DOM}(WebIO.DOM(:html, :div), Any[Node{WebIO.DOM}(WebIO.DOM(:html, :p), Any[], Dict{Symbol,Any}(:attributes => Dict(\"data-bind\" => \"text: formatted_val\")))], Dict{Symbol,Any}(:className => \"interact-flex-row-right\"))], Dict{Symbol,Any}(:className => \"interact-flex-row interact-widget\")), Dict{String,Tuple{Observables.AbstractObservable,Union{Nothing, Bool}}}(\"changes\" => (Observable{Int64} with 1 listeners. Value:\n",
       "0, nothing),\"index\" => (Observable{Any} with 2 listeners. Value:\n",
       "50, nothing)), Set{String}(), nothing, Asset[Asset(\"js\", \"knockout\", \"C:\\\\Users\\\\admin\\\\.julia\\\\packages\\\\Knockout\\\\IP1uR\\\\src\\\\..\\\\assets\\\\knockout.js\"), Asset(\"js\", \"knockout_punches\", \"C:\\\\Users\\\\admin\\\\.julia\\\\packages\\\\Knockout\\\\IP1uR\\\\src\\\\..\\\\assets\\\\knockout_punches.js\"), Asset(\"js\", nothing, \"C:\\\\Users\\\\admin\\\\.julia\\\\packages\\\\InteractBase\\\\Zfu5P\\\\src\\\\..\\\\assets\\\\all.js\"), Asset(\"css\", nothing, \"C:\\\\Users\\\\admin\\\\.julia\\\\packages\\\\InteractBase\\\\Zfu5P\\\\src\\\\..\\\\assets\\\\style.css\"), Asset(\"css\", nothing, \"C:\\\\Users\\\\admin\\\\.julia\\\\packages\\\\Interact\\\\SbgIk\\\\src\\\\..\\\\assets\\\\bulma_confined.min.css\")], Dict{Any,Any}(\"changes\" => Any[WebIO.JSString(\"(function (val){return (val!=this.model[\\\"changes\\\"]()) ? (this.valueFromJulia[\\\"changes\\\"]=true, this.model[\\\"changes\\\"](val)) : undefined})\")],\"index\" => Any[WebIO.JSString(\"(function (val){return (val!=this.model[\\\"index\\\"]()) ? (this.valueFromJulia[\\\"index\\\"]=true, this.model[\\\"index\\\"](val)) : undefined})\")]), WebIO.ConnectionPool(Channel{Any}(sz_max:32,sz_curr:0), Set{AbstractConnection}(), Base.GenericCondition{Base.AlwaysLockedST}(Base.InvasiveLinkedList{Task}(Task (runnable) @0x00000000151ad9f0, Task (runnable) @0x00000000151ad9f0), Base.AlwaysLockedST(1))), WebIO.JSString[WebIO.JSString(\"function () {\\n    var handler = (function (ko, koPunches) {\\n    ko.punches.enableAll();\\n    ko.bindingHandlers.numericValue = {\\n        init: function(element, valueAccessor, allBindings, data, context) {\\n            var stringified = ko.observable(ko.unwrap(valueAccessor()));\\n            stringified.subscribe(function(value) {\\n                var val = parseFloat(value);\\n                if (!isNaN(val)) {\\n                    valueAccessor()(val);\\n                }\\n            });\\n            valueAccessor().subscribe(function(value) {\\n                var str = JSON.stringify(value);\\n                if ((str == \\\"0\\\") && ([\\\"-0\\\", \\\"-0.\\\"].indexOf(stringified()) >= 0))\\n                     return;\\n                 if ([\\\"null\\\", \\\"\\\"].indexOf(str) >= 0)\\n                     return;\\n                stringified(str);\\n            });\\n            ko.applyBindingsToNode(\\n                element,\\n                {\\n                    value: stringified,\\n                    valueUpdate: allBindings.get('valueUpdate'),\\n                },\\n                context,\\n            );\\n        }\\n    };\\n    var json_data = {\\\"formatted_vals\\\":[\\\"2\\\",\\\"3\\\",\\\"4\\\",\\\"5\\\",\\\"6\\\",\\\"7\\\",\\\"8\\\",\\\"9\\\",\\\"10\\\",\\\"11\\\",\\\"12\\\",\\\"13\\\",\\\"14\\\",\\\"15\\\",\\\"16\\\",\\\"17\\\",\\\"18\\\",\\\"19\\\",\\\"20\\\",\\\"21\\\",\\\"22\\\",\\\"23\\\",\\\"24\\\",\\\"25\\\",\\\"26\\\",\\\"27\\\",\\\"28\\\",\\\"29\\\",\\\"30\\\",\\\"31\\\",\\\"32\\\",\\\"33\\\",\\\"34\\\",\\\"35\\\",\\\"36\\\",\\\"37\\\",\\\"38\\\",\\\"39\\\",\\\"40\\\",\\\"41\\\",\\\"42\\\",\\\"43\\\",\\\"44\\\",\\\"45\\\",\\\"46\\\",\\\"47\\\",\\\"48\\\",\\\"49\\\",\\\"50\\\",\\\"51\\\",\\\"52\\\",\\\"53\\\",\\\"54\\\",\\\"55\\\",\\\"56\\\",\\\"57\\\",\\\"58\\\",\\\"59\\\",\\\"60\\\",\\\"61\\\",\\\"62\\\",\\\"63\\\",\\\"64\\\",\\\"65\\\",\\\"66\\\",\\\"67\\\",\\\"68\\\",\\\"69\\\",\\\"70\\\",\\\"71\\\",\\\"72\\\",\\\"73\\\",\\\"74\\\",\\\"75\\\",\\\"76\\\",\\\"77\\\",\\\"78\\\",\\\"79\\\",\\\"80\\\",\\\"81\\\",\\\"82\\\",\\\"83\\\",\\\"84\\\",\\\"85\\\",\\\"86\\\",\\\"87\\\",\\\"88\\\",\\\"89\\\",\\\"90\\\",\\\"91\\\",\\\"92\\\",\\\"93\\\",\\\"94\\\",\\\"95\\\",\\\"96\\\",\\\"97\\\",\\\"98\\\",\\\"99\\\",\\\"100\\\"],\\\"changes\\\":WebIO.getval({\\\"name\\\":\\\"changes\\\",\\\"scope\\\":\\\"222872386228263200\\\",\\\"id\\\":\\\"9657432480842699360\\\",\\\"type\\\":\\\"observable\\\"}),\\\"index\\\":WebIO.getval({\\\"name\\\":\\\"index\\\",\\\"scope\\\":\\\"222872386228263200\\\",\\\"id\\\":\\\"9906375580117670844\\\",\\\"type\\\":\\\"observable\\\"})};\\n    var self = this;\\n    function AppViewModel() {\\n        for (var key in json_data) {\\n            var el = json_data[key];\\n            this[key] = Array.isArray(el) ? ko.observableArray(el) : ko.observable(el);\\n        }\\n        \\n        [this[\\\"formatted_val\\\"]=ko.computed(    function(){\\n        return this.formatted_vals()[parseInt(this.index())-(1)];\\n    }\\n,this)]\\n        [this[\\\"changes\\\"].subscribe((function (val){!(this.valueFromJulia[\\\"changes\\\"]) ? (WebIO.setval({\\\"name\\\":\\\"changes\\\",\\\"scope\\\":\\\"222872386228263200\\\",\\\"id\\\":\\\"9657432480842699360\\\",\\\"type\\\":\\\"observable\\\"},val)) : undefined; return this.valueFromJulia[\\\"changes\\\"]=false}),self),this[\\\"index\\\"].subscribe((function (val){!(this.valueFromJulia[\\\"index\\\"]) ? (WebIO.setval({\\\"name\\\":\\\"index\\\",\\\"scope\\\":\\\"222872386228263200\\\",\\\"id\\\":\\\"9906375580117670844\\\",\\\"type\\\":\\\"observable\\\"},val)) : undefined; return this.valueFromJulia[\\\"index\\\"]=false}),self)]\\n        \\n    }\\n    self.model = new AppViewModel();\\n    self.valueFromJulia = {};\\n    for (var key in json_data) {\\n        self.valueFromJulia[key] = false;\\n    }\\n    ko.applyBindings(self.model, self.dom);\\n}\\n);\\n    (WebIO.importBlock({\\\"data\\\":[{\\\"name\\\":\\\"knockout\\\",\\\"type\\\":\\\"js\\\",\\\"url\\\":\\\"/assetserver/fd91bcc76f200e46e5681854927159f78397d01c-knockout.js\\\"},{\\\"name\\\":\\\"knockout_punches\\\",\\\"type\\\":\\\"js\\\",\\\"url\\\":\\\"/assetserver/0771d715f47990fd6a20af05579c332026637b1d-knockout_punches.js\\\"}],\\\"type\\\":\\\"async_block\\\"})).then((imports) => handler.apply(this, imports));\\n}\\n\")])], Dict{Symbol,Any}(:className => \"field interact-widget\")), Observable{Any} with 0 listeners. Value:\n",
       "Node{WebIO.DOM}(WebIO.DOM(:html, :div), Any[Plot{Plots.GRBackend() n=2}], Dict{Symbol,Any}(:className => \"interact-flex-row interact-widget\"))], Dict{Symbol,Any}())"
      ]
     },
     "execution_count": 33,
     "metadata": {},
     "output_type": "execute_result"
    }
   ],
   "source": [
    "@manipulate for time = 2:1:100\n",
    "    plot(1:time, A[1:time, 1], label=\"gołębie\", color= :purple)\n",
    "    plot!(1:time, A[1:time, 2], label=\"jastrzębie\", color= :green)\n",
    "end"
   ]
  },
  {
   "cell_type": "markdown",
   "metadata": {},
   "source": [
    "# ---------------------------------------------sekcja 2-----------------------------------------------------"
   ]
  },
  {
   "cell_type": "markdown",
   "metadata": {},
   "source": [
    "## funkcje generujące środowisko"
   ]
  },
  {
   "cell_type": "code",
   "execution_count": 1,
   "metadata": {},
   "outputs": [
    {
     "data": {
      "text/plain": [
       "environment_poison (generic function with 1 method)"
      ]
     },
     "execution_count": 1,
     "metadata": {},
     "output_type": "execute_result"
    }
   ],
   "source": [
    "function environment2(n,m) ###generuje środowisko z pakietami\n",
    "    if n % 3 != 0\n",
    "        throw(DomainError(size, \"incorrect size\"))\n",
    "    end\n",
    "    \n",
    "    Environment = zeros(Int64, n, m)\n",
    "    \n",
    "    for i in 2:3:n\n",
    "        Environment[i,:] = ones(Int64, 1, m)\n",
    "    end\n",
    "    return Environment\n",
    "end\n",
    "\n",
    "function environment_poison(Environment) ###zatruwa środowisko - wprowadza zatrute oraz puste pakiety\n",
    "    \n",
    "    n = size(Environment)[1]\n",
    "    m = size(Environment)[2]\n",
    "    \n",
    "    liczba = floor((n/3*m) * 0.08)  #szacowanie około 8? % wszystkich możliwych pakietów\n",
    "    ilosc_pakietow = rand(1:liczba) + 5  #randomowe przypisanie konkretnej ilości danego rodzaju pakietów w danym wywołaniu\n",
    "    \n",
    "    for i in 1:1:ilosc_pakietow\n",
    "        z = findall(x -> x == 1, Environment)\n",
    "        Environment[rand(z)] = -1\n",
    "    end\n",
    "    \n",
    "    for i in 1:1:ilosc_pakietow\n",
    "        z = findall(x -> x == 1, Environment)\n",
    "        Environment[rand(z)] = 0\n",
    "    end\n",
    "    \n",
    "    return Environment\n",
    "end"
   ]
  },
  {
   "cell_type": "code",
   "execution_count": 2,
   "metadata": {},
   "outputs": [
    {
     "data": {
      "text/plain": [
       "9×9 Array{Int64,2}:\n",
       " 0  0  0  0  0  0  0  0  0\n",
       " 1  1  1  1  1  1  1  1  1\n",
       " 0  0  0  0  0  0  0  0  0\n",
       " 0  0  0  0  0  0  0  0  0\n",
       " 1  1  1  1  1  1  1  1  1\n",
       " 0  0  0  0  0  0  0  0  0\n",
       " 0  0  0  0  0  0  0  0  0\n",
       " 1  1  1  1  1  1  1  1  1\n",
       " 0  0  0  0  0  0  0  0  0"
      ]
     },
     "execution_count": 2,
     "metadata": {},
     "output_type": "execute_result"
    }
   ],
   "source": [
    "a = environment2(9,9)"
   ]
  },
  {
   "cell_type": "code",
   "execution_count": 3,
   "metadata": {},
   "outputs": [
    {
     "data": {
      "text/plain": [
       "9×9 Array{Int64,2}:\n",
       "  0   0   0  0  0  0  0   0  0\n",
       " -1  -1  -1  0  1  1  1   1  0\n",
       "  0   0   0  0  0  0  0   0  0\n",
       "  0   0   0  0  0  0  0   0  0\n",
       "  1   0   0  1  1  1  1  -1  1\n",
       "  0   0   0  0  0  0  0   0  0\n",
       "  0   0   0  0  0  0  0   0  0\n",
       " -1  -1   0  1  1  1  1   0  1\n",
       "  0   0   0  0  0  0  0   0  0"
      ]
     },
     "execution_count": 3,
     "metadata": {},
     "output_type": "execute_result"
    }
   ],
   "source": [
    "b = environment_poison(a)"
   ]
  },
  {
   "cell_type": "markdown",
   "metadata": {},
   "source": [
    "## funkcja usuwająca konkretną rzecz z macierzy"
   ]
  },
  {
   "cell_type": "code",
   "execution_count": 4,
   "metadata": {},
   "outputs": [
    {
     "data": {
      "text/plain": [
       "remove! (generic function with 1 method)"
      ]
     },
     "execution_count": 4,
     "metadata": {},
     "output_type": "execute_result"
    }
   ],
   "source": [
    "function remove!(a, item)\n",
    "    deleteat!(a, findall(x->x==item, a))\n",
    "    return a\n",
    "end"
   ]
  },
  {
   "cell_type": "markdown",
   "metadata": {},
   "source": [
    "## Funkcja generująca rozstawienie ptaków w środowisku"
   ]
  },
  {
   "cell_type": "code",
   "execution_count": 5,
   "metadata": {},
   "outputs": [
    {
     "data": {
      "text/plain": [
       "find_place (generic function with 1 method)"
      ]
     },
     "execution_count": 5,
     "metadata": {},
     "output_type": "execute_result"
    }
   ],
   "source": [
    "function find_place(macierz, g, ja, ch_g, ch_j)\n",
    "    n = size(macierz)[1]\n",
    "    m = size(macierz)[2]\n",
    "    slots = 2*n*m/3\n",
    "    amount_of_birds = g + ja + ch_g + ch_j\n",
    "    birds = [7, 10, 70, 100] ##gołąb-7, jastrząb-10, chory gołąb -10, chory jastrząb - 100\n",
    "    any_bird = [g, ja, ch_g, ch_j] ###ilość każdego z ptaków\n",
    "    \n",
    "    if amount_of_birds > slots ###jeśli ptaków jest więcej niż miejsc - iteracja po miejscach\n",
    "        for i in 1:slots\n",
    "            pustka = findall(x -> x == 0, any_bird) ## jeśli każdy ptaszek z danego gatunku już jest przydzielony to go usuwamy\n",
    "            pustka = reverse(pustka)\n",
    "            if length(pustka) != 0\n",
    "                for k in pustka\n",
    "                    n = birds[k]\n",
    "                    birds = remove!(birds, n)\n",
    "                end\n",
    "                any_bird = remove!(any_bird, 0)\n",
    "            end\n",
    "            number = rand(1:length(birds))\n",
    "            current_bird = birds[number]\n",
    "            z = findall(x -> x == 0, macierz)\n",
    "            macierz[rand(z)] = current_bird ##przydzielamy ptaszka randomowo\n",
    "            any_bird[number] -= 1\n",
    "        end\n",
    "        \n",
    "    elseif slots > amount_of_birds ###jeśli miejsc jest więcej niż ptaków - iteracja po ptakach\n",
    "        for i in 1:amount_of_birds\n",
    "            pustka = findall(x -> x == 0, any_bird)\n",
    "            pustka = reverse(pustka)\n",
    "            if length(pustka) != 0\n",
    "                for k in pustka\n",
    "                    n = birds[k]\n",
    "                    birds = remove!(birds, n)\n",
    "                end\n",
    "                any_bird = remove!(any_bird, 0)\n",
    "            end\n",
    "            number = rand(1:length(birds))\n",
    "            current_bird = birds[number]\n",
    "            z = findall(x -> x == 0, macierz)\n",
    "            macierz[rand(z)] = current_bird\n",
    "            any_bird[number] -= 1\n",
    "        end\n",
    "    end\n",
    "    macierz = environment_poison(macierz) ##zatruwamy środowisko\n",
    "    \n",
    "    ###sprawdzenie nadpopulacji\n",
    "    \n",
    "    f_gol = 0\n",
    "    f_jas = 0\n",
    "    f_chg =0 \n",
    "    f_chj = 0\n",
    "    \n",
    "    for i in 1:length(birds)\n",
    "        if birds[i] == 7\n",
    "            f_gol += any_bird[i]\n",
    "        elseif birds[i] == 10\n",
    "            f_jas += any_bird[i]\n",
    "        elseif birds[i] == 70\n",
    "            f_chg += any_bird[i]\n",
    "        elseif birds[i] == 100\n",
    "            f_chj += any_bird[i]\n",
    "        end\n",
    "    end\n",
    "    \n",
    "    return macierz, f_gol, f_jas, f_chg, f_chj ###zwraca macierz środowiska, ilość ptaków w nim oraz tych do fight clubu\n",
    "end"
   ]
  },
  {
   "cell_type": "code",
   "execution_count": 6,
   "metadata": {},
   "outputs": [
    {
     "data": {
      "text/plain": [
       "([70 70 … 100 10; 0 1 … 1 0; … ; -1 0 … 1 1; 10 70 … 100 10], 2, 0, 0, 0)"
      ]
     },
     "execution_count": 6,
     "metadata": {},
     "output_type": "execute_result"
    }
   ],
   "source": [
    "a = environment2(9, 9)\n",
    "find_place(a, 14, 14, 14, 14)"
   ]
  },
  {
   "cell_type": "code",
   "execution_count": 7,
   "metadata": {},
   "outputs": [
    {
     "data": {
      "text/plain": [
       "ptaszki (generic function with 1 method)"
      ]
     },
     "execution_count": 7,
     "metadata": {},
     "output_type": "execute_result"
    }
   ],
   "source": [
    "function ptaszki(macierz, n, k)\n",
    "    if n != 0  \n",
    "        for i in 1:1:n\n",
    "            z = findall(x -> x ==0, macierz)\n",
    "            macierz[rand(z)] = k\n",
    "        end\n",
    "    end\n",
    "end"
   ]
  },
  {
   "cell_type": "code",
   "execution_count": 8,
   "metadata": {},
   "outputs": [
    {
     "data": {
      "text/plain": [
       "fight_club2 (generic function with 1 method)"
      ]
     },
     "execution_count": 8,
     "metadata": {},
     "output_type": "execute_result"
    }
   ],
   "source": [
    "function fight_club2(g,j, ch_g,ch_j)\n",
    "    lista_ptakow = [7, 10,70,100]\n",
    "    suma_ptakow = [g,j,ch_g,ch_j]\n",
    "    if (g+j+ch_g+ch_j)%2 == 0\n",
    "        n = Int64((g+j+ch_g+ch_j)/2)\n",
    "        M = zeros(Int64, 2, n)\n",
    "        for i in 1:length(lista_ptakow)\n",
    "            ptaszki(M,suma_ptakow[i],lista_ptakow[i])\n",
    "        end\n",
    "    else\n",
    "        n = Int64((g + j + ch_g + ch_j + 1)/2) \n",
    "        M = zeros(Int64, 2, n)\n",
    "        for i in 1:length(lista_ptakow)\n",
    "            ptaszki(M,suma_ptakow[i],lista_ptakow[i])\n",
    "        end\n",
    "    end\n",
    "    return M\n",
    "end"
   ]
  },
  {
   "cell_type": "code",
   "execution_count": 9,
   "metadata": {},
   "outputs": [
    {
     "data": {
      "text/plain": [
       "fight2 (generic function with 1 method)"
      ]
     },
     "execution_count": 9,
     "metadata": {},
     "output_type": "execute_result"
    }
   ],
   "source": [
    "\n",
    "function fight2(macierz, g,j,ch_g,ch_j)\n",
    "    for i in 1:size(macierz)[2]\n",
    "        suma = macierz[1,i] + macierz[2,i]\n",
    "        if suma == 14 || suma == 7 || suma == 77 ##gołąb / 2gołebie/ gołąb + chory gołąb\n",
    "            g -= 1\n",
    "        elseif suma == 20 || suma == 10 || suma == 110 ###jastrząb / 2jastrzębie / jastrząb + chory jastrząb\n",
    "            j -= 1\n",
    "        elseif suma == 70 || suma == 140 ## chore gołebie\n",
    "            ch_g -= 1\n",
    "        elseif suma == 100 || suma == 200 ## chore jastrzebie\n",
    "            ch_j -= 1\n",
    "            \n",
    "        elseif suma == 17 ##gołąb vs jastrząb\n",
    "            if roll_for_pakiet(66) == true\n",
    "                g-=1\n",
    "            else\n",
    "                j-=1\n",
    "            end\n",
    "        \n",
    "        elseif suma == 107 ##chory jastrząb + gołąb\n",
    "            g-=1\n",
    "            if roll_for_pakiet(66) == false\n",
    "                ch_g+=1\n",
    "                ch_j-=1\n",
    "            end\n",
    "        elseif suma == 80 ##chory gołąb + jastrząb\n",
    "            j-=1\n",
    "            if roll_for_pakiet(66) == true\n",
    "                ch_j+=1\n",
    "                ch_g-=1    \n",
    "            end\n",
    "            \n",
    "        elseif suma == 170 ##chory jastrząb + chory gołąb\n",
    "            if roll_for_pakiet(66) == true\n",
    "                ch_g-=1\n",
    "            else\n",
    "                ch_j-=1\n",
    "            end\n",
    "\n",
    "        end\n",
    "    end\n",
    "    return g, j, ch_g, ch_j\n",
    "end"
   ]
  },
  {
   "cell_type": "code",
   "execution_count": 15,
   "metadata": {},
   "outputs": [
    {
     "data": {
      "text/plain": [
       "(2, 1, 2, 5)"
      ]
     },
     "execution_count": 15,
     "metadata": {},
     "output_type": "execute_result"
    }
   ],
   "source": [
    "fight2(fight_club2(5,5,5,6), 5,5,5,6)"
   ]
  },
  {
   "cell_type": "code",
   "execution_count": 16,
   "metadata": {},
   "outputs": [
    {
     "data": {
      "text/plain": [
       "2×11 Array{Int64,2}:\n",
       " 7   0  100  100  10   10  100   7  100  100   7\n",
       " 7  70   10    7  70  100   70  70   10   10  70"
      ]
     },
     "execution_count": 16,
     "metadata": {},
     "output_type": "execute_result"
    }
   ],
   "source": [
    "fight_club2(5,5,5,6)"
   ]
  },
  {
   "cell_type": "markdown",
   "metadata": {},
   "source": [
    "## funkcja decydująca o dalszym losie ptaszków"
   ]
  },
  {
   "cell_type": "code",
   "execution_count": 17,
   "metadata": {},
   "outputs": [
    {
     "data": {
      "text/plain": [
       "roll_for_pakiet (generic function with 1 method)"
      ]
     },
     "execution_count": 17,
     "metadata": {},
     "output_type": "execute_result"
    }
   ],
   "source": [
    "function roll_for_pakiet(some_fate)\n",
    "    fate = rand(1:101)\n",
    "    if fate <= some_fate\n",
    "        return true\n",
    "    end\n",
    "end"
   ]
  },
  {
   "attachments": {
    "image.png": {
     "image/png": "[encoded data removed]"
    }
   },
   "cell_type": "markdown",
   "metadata": {},
   "source": [
    "![image.png](attachment:image.png)"
   ]
  },
  {
   "cell_type": "code",
   "execution_count": 18,
   "metadata": {},
   "outputs": [
    {
     "data": {
      "text/plain": [
       "death (generic function with 1 method)"
      ]
     },
     "execution_count": 18,
     "metadata": {},
     "output_type": "execute_result"
    }
   ],
   "source": [
    "function death(bird, deadliness)\n",
    "    for i in 1:bird\n",
    "        if roll_for_pakiet(deadliness)==true\n",
    "            bird -= 1\n",
    "        end\n",
    "    end\n",
    "    return bird\n",
    "end"
   ]
  },
  {
   "cell_type": "code",
   "execution_count": 19,
   "metadata": {},
   "outputs": [
    {
     "data": {
      "text/plain": [
       "sickness (generic function with 1 method)"
      ]
     },
     "execution_count": 19,
     "metadata": {},
     "output_type": "execute_result"
    }
   ],
   "source": [
    "function sickness(ch_g, ch_j, deadliness)\n",
    "    ch_g = death(ch_g, deadliness)\n",
    "    \n",
    "    ch_j = death(ch_j, deadliness)\n",
    "    return ch_g, ch_j\n",
    "end"
   ]
  },
  {
   "cell_type": "markdown",
   "metadata": {},
   "source": [
    "### funkcja potyczek"
   ]
  },
  {
   "cell_type": "code",
   "execution_count": 20,
   "metadata": {},
   "outputs": [
    {
     "data": {
      "text/plain": [
       "potyczki2 (generic function with 3 methods)"
      ]
     },
     "execution_count": 20,
     "metadata": {},
     "output_type": "execute_result"
    }
   ],
   "source": [
    "function potyczki2(n, m, macierz, g, ja, ch_g = 0, ch_j = 0)\n",
    "    for i in 2:3:n, j in 1:m    \n",
    "        suma = macierz[i - 1, j] + macierz[i, j] + macierz[i + 1, j]\n",
    "        if suma == 18\n",
    "            #Jastrząb i Gołąb dobry pakiet\n",
    "            ja += 1\n",
    "            if roll_for_pakiet(50) == true\n",
    "                g -= 1\n",
    "            end\n",
    "        elseif suma == 15\n",
    "            continue\n",
    "            #Gołąb i Gołąb dobry pakiet\n",
    "           # g = g\n",
    "        elseif suma == 21\n",
    "            #Jastrząb i Jastrząb dobry pakiet\n",
    "            ja -= 2\n",
    "        elseif suma == 8\n",
    "            #Gołąb dobry pakiet\n",
    "            g += 1\n",
    "        elseif suma == 11\n",
    "            #Jastrząb dobry pakiet\n",
    "            ja += 1\n",
    "        elseif suma == 81\n",
    "            #Jastrząb i Ch_Gołąb dobry pakiet\n",
    "            if roll_for_pakiet(10) == true\n",
    "                ja -= 1\n",
    "                ch_j += 1\n",
    "            end    \n",
    "            if roll_for_pakiet(50) == true\n",
    "                    ch_g -= 1\n",
    "            end\n",
    "                \n",
    "        elseif suma == 108\n",
    "            #Ch_Jastrząb i Gołąb dobry pakiet\n",
    "            if roll_for_pakiet(10) == true\n",
    "                g -= 1\n",
    "                ch_g += 1\n",
    "            end\n",
    "            if roll_for_pakiet(50) == true\n",
    "                ch_j -= 1\n",
    "                ja += 1\n",
    "            else\n",
    "                ch_j += 1\n",
    "            end\n",
    "            \n",
    "            \n",
    "        elseif suma == 201\n",
    "            #Ch_Jastrząb i Ch_Jastrząb dobry pakiet\n",
    "            ch_j -= 2\n",
    "        elseif suma == 141\n",
    "            continue\n",
    "            #Ch_Gołąb i Ch_Gołąb dobry pakiet\n",
    "            #ch_g = ch_g\n",
    "        elseif suma == 71\n",
    "            #Ch_Gołąb dobry pakiet\n",
    "            if roll_for_pakiet(50) == true\n",
    "                ch_g -= 1\n",
    "                g += 1\n",
    "            else\n",
    "                ch_g += 1\n",
    "            end\n",
    "            \n",
    "        elseif suma == 101\n",
    "            #Ch_Jastrząb dobry pakiet\n",
    "            if roll_for_pakiet(50) == true\n",
    "                ch_j -= 1\n",
    "                ja += 1\n",
    "            else\n",
    "                ch_j += 2\n",
    "            end\n",
    "        elseif suma == 111\n",
    "            #Ch_Jastrząb i Jastrząb dobry pakiet\n",
    "            ch_j -= 1\n",
    "            if roll_for_pakiet(50) == true\n",
    "                ja += 1\n",
    "            else\n",
    "                ch_j += 1\n",
    "            end\n",
    "        elseif suma == 78\n",
    "            #Ch_Gołąb i Gołąb dobry pakiet\n",
    "            if roll_for_pakiet(60) == true\n",
    "                ch_g += 1\n",
    "            end\n",
    "            \n",
    "        elseif suma == 17\n",
    "            #Jastrząb i Gołąb pusty pakiet\n",
    "            g = g-1\n",
    "        elseif suma == 20\n",
    "            #Jastrząb i Jastrząb pusty pakiet\n",
    "            ja = ja-1\n",
    "        elseif suma == 14\n",
    "            #Gołąb i Gołąb pusty pakiet\n",
    "            g = g-2\n",
    "        elseif suma == 10\n",
    "            #Jastrząb pusty pakiet\n",
    "            ja = ja-1\n",
    "        elseif suma == 7\n",
    "            #Gołąb pusty pakiet\n",
    "            g = g-1\n",
    "                \n",
    "         elseif suma == 80\n",
    "            #Jastrząb i Ch_Gołąb pusty pakiet\n",
    "            g -= 1\n",
    "            ja -= 1\n",
    "            ch_j += 1\n",
    "        elseif suma == 107\n",
    "            #Ch_Jastrząb i Gołąb pusty pakiet\n",
    "            g -= 1\n",
    "            if roll_for_pakiet(30) == true\n",
    "                ch_j -= 1\n",
    "                ja += 1\n",
    "            end\n",
    "        elseif suma == 200\n",
    "            #Ch_Jastrząb i Ch_Jastrząb pusty pakiet\n",
    "            ch_j -= 2\n",
    "        elseif suma == 140\n",
    "            #Ch_Gołąb i Ch_Gołąb pusty pakiet\n",
    "            ch_g -= 2\n",
    "            \n",
    "        elseif suma == 70\n",
    "            #Ch_Gołąb pusty pakiet\n",
    "            ch_g -= 1\n",
    "            \n",
    "        elseif suma == 100\n",
    "            #Ch_Jastrząb pusty pakiet\n",
    "            ch_j -= 1\n",
    "            \n",
    "        elseif suma == 110\n",
    "            #Ch_Jastrząb i Jastrząb pusty pakiet\n",
    "            ja -= 1\n",
    "            \n",
    "        elseif suma == 77\n",
    "            #Ch_Gołąb i Gołąb pusty pakiet\n",
    "            ch_g -= 1\n",
    "            g -= 1\n",
    "            \n",
    "            \n",
    "            \n",
    "        elseif suma == 16\n",
    "            #Jastrząb i Gołąb zatruty pakiet\n",
    "            g -= 1\n",
    "            ja -= 1\n",
    "            if roll_for_pakiet(20) == true\n",
    "                ch_j += 1\n",
    "            end    \n",
    "        elseif suma == 19\n",
    "            #Jastrząb i Jastrząb zatruty pakiet\n",
    "            ja -= 1\n",
    "        elseif suma == 13\n",
    "            #Gołąb i Gołąb zatruty pakiet\n",
    "            g -= 2\n",
    "            if roll_for_pakiet(6) == true\n",
    "                ch_g += 2\n",
    "            end\n",
    "        elseif suma == 9\n",
    "            #Jastrząb  zatruty pakiet\n",
    "            ja = ja-1\n",
    "        elseif suma == 6\n",
    "            #Gołąb zatruty pakiet\n",
    "            g = g-1 \n",
    "            if roll_for_pakiet(20) == true\n",
    "                ch_g += 1\n",
    "            end        \n",
    "         elseif suma == 79\n",
    "            #Jastrząb i Ch_Gołąb zatruty pakiet\n",
    "            ch_g -= 1 \n",
    "            ja -= 1\n",
    "            if roll_for_pakiet(70) == true\n",
    "                ch_j += 1\n",
    "            end\n",
    "            \n",
    "        elseif suma == 106\n",
    "            #Ch_Jastrząb i Gołąb zatruty pakiet\n",
    "            g -= 1\n",
    "            if roll_for_pakiet(40) == true\n",
    "                ch_j -= 1\n",
    "            end\n",
    "                \n",
    "        elseif suma == 199\n",
    "            #Ch_Jastrząb i Ch_Jastrząb zatruty pakiet\n",
    "            ch_j -= 2\n",
    "        elseif suma == 139\n",
    "            #Ch_Gołąb i Ch_Gołąb zatruty pakiet\n",
    "            ch_g -= 2\n",
    "            if roll_for_pakiet(1) == true\n",
    "                ch_g += 2\n",
    "            end\n",
    "            \n",
    "        elseif suma == 69\n",
    "            #Ch_Gołąb zatruty pakiet\n",
    "            ch_g -= 1\n",
    "        elseif suma == 99\n",
    "            #Ch_Jastrząb zatruty pakiet\n",
    "            ch_j -= 1\n",
    "        elseif suma == 109\n",
    "            #Ch_Jastrząb i Jastrząb zatruty pakiet\n",
    "            ja -= 1\n",
    "        elseif suma == 76\n",
    "            #Ch_Gołąb i Gołąb zatruty pakiet\n",
    "            g -= 1\n",
    "            if roll_for_pakiet(2) == true\n",
    "                ch_g += 1\n",
    "            end\n",
    "        end \n",
    "    end\n",
    "    sick_birds = sickness(ch_g, ch_j, 80)\n",
    "    ch_g = sick_birds[1]\n",
    "    ch_j = sick_birds[2]\n",
    "\n",
    "    return g, ja, ch_g, ch_j\n",
    "end"
   ]
  },
  {
   "cell_type": "markdown",
   "metadata": {},
   "source": [
    "# próba optymalizacji nr 1 - rozbicie funkcji na 3 części w zależności od pakietu"
   ]
  },
  {
   "cell_type": "code",
   "execution_count": 21,
   "metadata": {},
   "outputs": [
    {
     "data": {
      "text/plain": [
       "potyczki3 (generic function with 3 methods)"
      ]
     },
     "execution_count": 21,
     "metadata": {},
     "output_type": "execute_result"
    }
   ],
   "source": [
    "function potyczki3(n, m, macierz, g, ja, ch_g = 0, ch_j = 0)\n",
    "    for i in 2:3:n, j in 1:m    \n",
    "        suma = macierz[i - 1, j] + macierz[i + 1, j]\n",
    "        if macierz[i, j] == 1\n",
    "            result = pot_norm(suma, g, ja, ch_g, ch_j)\n",
    "            g = result[1]\n",
    "            ja= result[2]\n",
    "            ch_g = result[3]\n",
    "            ch_j = result[4]\n",
    "        elseif macierz[i,j] == 0\n",
    "            result = pot_pust(suma, g, ja, ch_g , ch_j )\n",
    "            g = result[1]\n",
    "            ja= result[2]\n",
    "            ch_g = result[3]\n",
    "            ch_j = result[4]\n",
    "        elseif macierz[i, j] == -1\n",
    "            result = pot_zatr(suma, g, ja, ch_g, ch_j)\n",
    "            g = result[1]\n",
    "            ja= result[2]\n",
    "            ch_g = result[3]\n",
    "            ch_j = result[4]\n",
    "        end\n",
    "    end\n",
    "    sick_birds = sickness(ch_g, ch_j, 10)\n",
    "    ch_g = sick_birds[1]\n",
    "    ch_j = sick_birds[2]\n",
    "\n",
    "    return g, ja, ch_g, ch_j\n",
    "end "
   ]
  },
  {
   "cell_type": "code",
   "execution_count": 22,
   "metadata": {},
   "outputs": [
    {
     "data": {
      "text/plain": [
       "pot_norm (generic function with 3 methods)"
      ]
     },
     "execution_count": 22,
     "metadata": {},
     "output_type": "execute_result"
    }
   ],
   "source": [
    "function pot_norm(suma, g, ja, ch_g = 0, ch_j = 0) ##funkcja do zwykłych pakietów\n",
    "    if suma == 7\n",
    "        g += 1\n",
    "    elseif suma == 10\n",
    "        ja += 1\n",
    "    elseif suma == 70\n",
    "        if roll_for_pakiet(50) == true\n",
    "            ch_g -= 1\n",
    "            g += 1\n",
    "        else\n",
    "            ch_g += 1\n",
    "        end\n",
    "    elseif suma == 100\n",
    "        if roll_for_pakiet(50) == true\n",
    "            ch_j -= 1\n",
    "            ja += 1\n",
    "        else\n",
    "            ch_j += 2\n",
    "        end\n",
    "    elseif suma == 20\n",
    "        ja -= 2\n",
    "    elseif suma == 200\n",
    "        ch_j -= 2\n",
    "    elseif suma == 17 || suma == 170\n",
    "        ja += 1\n",
    "        if roll_for_pakiet(50) == true\n",
    "            g -= 1\n",
    "        end\n",
    "    elseif suma == 77\n",
    "        if roll_for_pakiet(60) == true\n",
    "            ch_g += 1\n",
    "        end\n",
    "    elseif suma == 80\n",
    "        if roll_for_pakiet(10) == true\n",
    "            ja -= 1\n",
    "            ch_j += 1\n",
    "        end    \n",
    "        if roll_for_pakiet(50) == true\n",
    "            ch_g -= 1\n",
    "        end\n",
    "    elseif suma == 107\n",
    "        if roll_for_pakiet(10) == true\n",
    "            g -= 1\n",
    "            ch_g += 1\n",
    "        end\n",
    "        if roll_for_pakiet(50) == true\n",
    "            ch_j -= 1\n",
    "            ja += 1\n",
    "        else\n",
    "            ch_j += 1\n",
    "        end\n",
    "    elseif suma == 110\n",
    "        ch_j -= 1\n",
    "        if roll_for_pakiet(50) == true\n",
    "            ja += 1\n",
    "        else\n",
    "            ch_j += 1\n",
    "        end\n",
    "    end\n",
    "    return g, ja, ch_g, ch_j\n",
    "end\n",
    "        \n",
    "        \n",
    "    "
   ]
  },
  {
   "cell_type": "code",
   "execution_count": 23,
   "metadata": {},
   "outputs": [
    {
     "data": {
      "text/plain": [
       "pot_zatr (generic function with 3 methods)"
      ]
     },
     "execution_count": 23,
     "metadata": {},
     "output_type": "execute_result"
    }
   ],
   "source": [
    "function pot_zatr(suma, g, ja, ch_g = 0, ch_j = 0) ###funkcja do zatrutych pakietów\n",
    "    if suma == 7\n",
    "        g = g-1 \n",
    "        if roll_for_pakiet(20) == true\n",
    "            ch_g += 1\n",
    "        end        \n",
    "    elseif suma == 10\n",
    "        ja = ja-1\n",
    "    elseif suma == 70\n",
    "        ch_g -= 1\n",
    "    elseif suma == 100\n",
    "        ch_j -= 1\n",
    "    elseif suma == 14\n",
    "        g -= 2\n",
    "        if roll_for_pakiet(6) == true\n",
    "            ch_g += 2\n",
    "        end\n",
    "    elseif suma == 140\n",
    "        ch_g -= 2\n",
    "        if roll_for_pakiet(1) == true\n",
    "            ch_g += 2\n",
    "        end\n",
    "    elseif suma == 20\n",
    "        ja -= 1\n",
    "    elseif suma == 200\n",
    "        ch_j -= 2\n",
    "    elseif suma == 17\n",
    "        g -= 1\n",
    "        ja -= 1\n",
    "        if roll_for_pakiet(20) == true\n",
    "            ch_j += 1\n",
    "        end \n",
    "    elseif suma == 170\n",
    "        ch_g -= 1\n",
    "        if roll_for_pakiet(50) == true\n",
    "            ch_j -=1\n",
    "        end\n",
    "    elseif suma == 77\n",
    "        g -= 1\n",
    "        if roll_for_pakiet(2) == true\n",
    "            ch_g += 1\n",
    "        end\n",
    "    elseif suma == 80\n",
    "        ch_g -= 1 \n",
    "        ja -= 1\n",
    "        if roll_for_pakiet(70) == true\n",
    "            ch_j += 1\n",
    "        end\n",
    "    elseif suma == 107\n",
    "        g -= 1\n",
    "        if roll_for_pakiet(40) == true\n",
    "            ch_j -= 1\n",
    "        end\n",
    "    elseif suma == 110\n",
    "        ja -= 1\n",
    "    end\n",
    "    return g, ja, ch_g, ch_j\n",
    "end\n",
    "        "
   ]
  },
  {
   "cell_type": "code",
   "execution_count": 24,
   "metadata": {},
   "outputs": [
    {
     "data": {
      "text/plain": [
       "pot_pust (generic function with 3 methods)"
      ]
     },
     "execution_count": 24,
     "metadata": {},
     "output_type": "execute_result"
    }
   ],
   "source": [
    "function pot_pust(suma, g, ja, ch_g = 0, ch_j = 0) ##funkcja do pustych pakietów\n",
    "    if suma == 7\n",
    "        g = g-1       \n",
    "    elseif suma == 10\n",
    "        ja = ja-1\n",
    "    elseif suma == 70\n",
    "        ch_g -= 1\n",
    "    elseif suma == 100\n",
    "        ch_j -= 1\n",
    "    elseif suma == 14\n",
    "        g = g-2\n",
    "    elseif suma == 140\n",
    "        ch_g -= 2\n",
    "    elseif suma == 20\n",
    "        ja = ja-1\n",
    "    elseif suma == 200\n",
    "        ch_j -= 2\n",
    "    elseif suma == 17\n",
    "        g = g-1\n",
    "    elseif suma == 170\n",
    "        ch_g -= 1\n",
    "        ch_j -=1\n",
    "    elseif suma == 77\n",
    "        ch_g -= 1\n",
    "        g -= 1\n",
    "    elseif suma == 80\n",
    "        g -= 1\n",
    "        ja -= 1\n",
    "        ch_j += 1\n",
    "    elseif suma == 107\n",
    "        g -= 1\n",
    "        if roll_for_pakiet(30) == true\n",
    "            ch_j -= 1\n",
    "            ja += 1\n",
    "        end\n",
    "    elseif suma == 110\n",
    "        ja -= 1\n",
    "    end\n",
    "    return g, ja, ch_g, ch_j\n",
    "end\n",
    "        "
   ]
  },
  {
   "cell_type": "markdown",
   "metadata": {},
   "source": [
    "### funkcja właściwa"
   ]
  },
  {
   "cell_type": "code",
   "execution_count": 25,
   "metadata": {},
   "outputs": [
    {
     "data": {
      "text/plain": [
       "action2 (generic function with 3 methods)"
      ]
     },
     "execution_count": 25,
     "metadata": {},
     "output_type": "execute_result"
    }
   ],
   "source": [
    "function action2(n, m, g, j, ch_g, ch_j, p, A = [], index = 1)\n",
    "    #n,m - wielkość środowiska\n",
    "    #g,j,ch_g,ch_j -liczba ptaków danego gatunku\n",
    "    #p - parametr czasowy\n",
    "    \n",
    "    if p == 0\n",
    "        return \"tada\"\n",
    "    end\n",
    "    \n",
    "    max_amount = 2/3*m*n\n",
    "    amount_of_birds = g+j+ch_g+ch_j\n",
    "    srodowisko = environment2(n, m)\n",
    "    first_try = find_place(srodowisko, g, j, ch_g, ch_j) \n",
    "    \n",
    "    macierz = first_try[1]\n",
    "    f_gol = first_try[2] \n",
    "    f_jas = first_try[3]\n",
    "    f_chg =  first_try[4] \n",
    "    f_chja = first_try[5] \n",
    "    fight = fight_club2(f_gol, f_jas, f_chg, f_chja)\n",
    "    g_p = length(findall(x -> x == 7, macierz))\n",
    "    j_p = length(findall(x -> x == 10, macierz))\n",
    "    chg_p = length(findall(x -> x == 70, macierz))\n",
    "    chj_p = length(findall(x -> x ==100, macierz))\n",
    "    \n",
    "    potyczki_result = potyczki3(n, m, macierz, g_p, j_p, chg_p, chj_p)\n",
    "\n",
    "\n",
    "    if amount_of_birds > max_amount\n",
    "        fight = fight_club2(f_gol, f_jas, f_chg, f_chja)\n",
    "        fight_result = fight2(fight, f_gol, f_jas, f_chg, f_chja)\n",
    "        final_g = potyczki_result[1] + fight_result[1]\n",
    "        final_j = potyczki_result[2] + fight_result[2]\n",
    "        final_chg = potyczki_result[3] + fight_result[3]\n",
    "        final_chj = potyczki_result[4] + fight_result[4]\n",
    "    else\n",
    "        final_g = potyczki_result[1] \n",
    "        final_j = potyczki_result[2] \n",
    "        final_chg = potyczki_result[3] \n",
    "        final_chj = potyczki_result[4] \n",
    "    end\n",
    "    \n",
    "    if final_g <0\n",
    "        final_g =0\n",
    "    elseif final_j<0\n",
    "        final_j = 0\n",
    "    elseif final_chg<0\n",
    "        final_chg = 0\n",
    "    elseif final_chj<0\n",
    "        final_chj = 0\n",
    "    end\n",
    "\n",
    "    if index == 1\n",
    "        A = [final_g final_j final_chg final_chj]\n",
    "    else\n",
    "        A = vcat(A,[final_g final_j final_chg final_chj])\n",
    "    end\n",
    "    \n",
    "    println(final_g,\", \", final_j,\", \", final_chg, \", \",final_chj)\n",
    "    \n",
    "    if final_g == 0 && final_j == 0 && final_chg == 0 && final_chj == 0\n",
    "        println(\"they all died\")\n",
    "        return A\n",
    "    end\n",
    "    \n",
    "    \n",
    "    action2(n, m , final_g, final_j, final_chg,final_chj, p-1, A, index+1)\n",
    "end"
   ]
  },
  {
   "cell_type": "code",
   "execution_count": 41,
   "metadata": {},
   "outputs": [
    {
     "name": "stdout",
     "output_type": "stream",
     "text": [
      "2, 11, 34, 80\n",
      "0, 15, 15, 40\n",
      "0, 11, 6, 19\n",
      "0, 8, 1, 10\n",
      "1, 10, 0, 4\n",
      "1, 16, 0, 3\n",
      "0, 13, 0, 0\n",
      "0, 16, 0, 0\n",
      "0, 9, 0, 0\n",
      "0, 6, 0, 0\n",
      "0, 8, 0, 0\n",
      "0, 6, 0, 0\n",
      "0, 4, 0, 0\n",
      "0, 4, 0, 0\n",
      "0, 4, 0, 0\n",
      "0, 4, 0, 0\n",
      "0, 4, 0, 0\n",
      "0, 6, 0, 0\n",
      "0, 4, 0, 0\n",
      "0, 2, 0, 0\n",
      "0, 2, 0, 0\n",
      "0, 2, 0, 0\n",
      "0, 0, 0, 0\n",
      "they all died\n"
     ]
    },
    {
     "data": {
      "text/plain": [
       "23×4 Array{Int64,2}:\n",
       " 2  11  34  80\n",
       " 0  15  15  40\n",
       " 0  11   6  19\n",
       " 0   8   1  10\n",
       " 1  10   0   4\n",
       " 1  16   0   3\n",
       " 0  13   0   0\n",
       " 0  16   0   0\n",
       " 0   9   0   0\n",
       " 0   6   0   0\n",
       " 0   8   0   0\n",
       " 0   6   0   0\n",
       " 0   4   0   0\n",
       " 0   4   0   0\n",
       " 0   4   0   0\n",
       " 0   4   0   0\n",
       " 0   4   0   0\n",
       " 0   6   0   0\n",
       " 0   4   0   0\n",
       " 0   2   0   0\n",
       " 0   2   0   0\n",
       " 0   2   0   0\n",
       " 0   0   0   0"
      ]
     },
     "execution_count": 41,
     "metadata": {},
     "output_type": "execute_result"
    }
   ],
   "source": [
    "dying = action2(9,9,15,10,100,135,50)"
   ]
  },
  {
   "cell_type": "code",
   "execution_count": 28,
   "metadata": {},
   "outputs": [],
   "source": [
    "using Plots"
   ]
  },
  {
   "cell_type": "code",
   "execution_count": 43,
   "metadata": {},
   "outputs": [
    {
     "data": {
      "image/svg+xml": [
       "<?xml version=\"1.0\" encoding=\"utf-8\"?>\n",
       "<svg xmlns=\"http://www.w3.org/2000/svg\" xmlns:xlink=\"http://www.w3.org/1999/xlink\" width=\"600\" height=\"400\" viewBox=\"0 0 2400 1600\">\n",
       "<defs>\n",
       "  <clipPath id=\"clip780\">\n",
       "    <rect x=\"0\" y=\"0\" width=\"2400\" height=\"1600\"/>\n",
       "  </clipPath>\n",
       "</defs>\n",
       "<path clip-path=\"url(#clip780)\" d=\"\n",
       "M0 1600 L2400 1600 L2400 0 L0 0  Z\n",
       "  \" fill=\"#ffffff\" fill-rule=\"evenodd\" fill-opacity=\"1\"/>\n",
       "<defs>\n",
       "  <clipPath id=\"clip781\">\n",
       "    <rect x=\"480\" y=\"0\" width=\"1681\" height=\"1600\"/>\n",
       "  </clipPath>\n",
       "</defs>\n",
       "<path clip-path=\"url(#clip780)\" d=\"\n",
       "M139.191 1486.45 L2352.76 1486.45 L2352.76 47.2441 L139.191 47.2441  Z\n",
       "  \" fill=\"#ffffff\" fill-rule=\"evenodd\" fill-opacity=\"1\"/>\n",
       "<defs>\n",
       "  <clipPath id=\"clip782\">\n",
       "    <rect x=\"139\" y=\"47\" width=\"2215\" height=\"1440\"/>\n",
       "  </clipPath>\n",
       "</defs>\n",
       "<polyline clip-path=\"url(#clip782)\" style=\"stroke:#000000; stroke-width:2; stroke-opacity:0.1; fill:none\" points=\"\n",
       "  581.524,1486.45 581.524,47.2441 \n",
       "  \"/>\n",
       "<polyline clip-path=\"url(#clip782)\" style=\"stroke:#000000; stroke-width:2; stroke-opacity:0.1; fill:none\" points=\"\n",
       "  1056.13,1486.45 1056.13,47.2441 \n",
       "  \"/>\n",
       "<polyline clip-path=\"url(#clip782)\" style=\"stroke:#000000; stroke-width:2; stroke-opacity:0.1; fill:none\" points=\"\n",
       "  1530.74,1486.45 1530.74,47.2441 \n",
       "  \"/>\n",
       "<polyline clip-path=\"url(#clip782)\" style=\"stroke:#000000; stroke-width:2; stroke-opacity:0.1; fill:none\" points=\"\n",
       "  2005.34,1486.45 2005.34,47.2441 \n",
       "  \"/>\n",
       "<polyline clip-path=\"url(#clip780)\" style=\"stroke:#000000; stroke-width:4; stroke-opacity:1; fill:none\" points=\"\n",
       "  139.191,1486.45 2352.76,1486.45 \n",
       "  \"/>\n",
       "<polyline clip-path=\"url(#clip780)\" style=\"stroke:#000000; stroke-width:4; stroke-opacity:1; fill:none\" points=\"\n",
       "  581.524,1486.45 581.524,1469.18 \n",
       "  \"/>\n",
       "<polyline clip-path=\"url(#clip780)\" style=\"stroke:#000000; stroke-width:4; stroke-opacity:1; fill:none\" points=\"\n",
       "  1056.13,1486.45 1056.13,1469.18 \n",
       "  \"/>\n",
       "<polyline clip-path=\"url(#clip780)\" style=\"stroke:#000000; stroke-width:4; stroke-opacity:1; fill:none\" points=\"\n",
       "  1530.74,1486.45 1530.74,1469.18 \n",
       "  \"/>\n",
       "<polyline clip-path=\"url(#clip780)\" style=\"stroke:#000000; stroke-width:4; stroke-opacity:1; fill:none\" points=\"\n",
       "  2005.34,1486.45 2005.34,1469.18 \n",
       "  \"/>\n",
       "<path clip-path=\"url(#clip780)\" d=\"M 0 0 M571.802 1512.56 L590.158 1512.56 L590.158 1516.5 L576.084 1516.5 L576.084 1524.97 Q577.103 1524.62 578.121 1524.46 Q579.14 1524.27 580.158 1524.27 Q585.946 1524.27 589.325 1527.44 Q592.705 1530.62 592.705 1536.03 Q592.705 1541.61 589.233 1544.71 Q585.76 1547.79 579.441 1547.79 Q577.265 1547.79 574.996 1547.42 Q572.751 1547.05 570.344 1546.31 L570.344 1541.61 Q572.427 1542.74 574.649 1543.3 Q576.871 1543.86 579.348 1543.86 Q583.353 1543.86 585.691 1541.75 Q588.029 1539.64 588.029 1536.03 Q588.029 1532.42 585.691 1530.31 Q583.353 1528.21 579.348 1528.21 Q577.473 1528.21 575.598 1528.62 Q573.746 1529.04 571.802 1529.92 L571.802 1512.56 Z\" fill=\"#000000\" fill-rule=\"evenodd\" fill-opacity=\"1\" /><path clip-path=\"url(#clip780)\" d=\"M 0 0 M1033.01 1543.18 L1040.64 1543.18 L1040.64 1516.82 L1032.33 1518.49 L1032.33 1514.23 L1040.6 1512.56 L1045.27 1512.56 L1045.27 1543.18 L1052.91 1543.18 L1052.91 1547.12 L1033.01 1547.12 L1033.01 1543.18 Z\" fill=\"#000000\" fill-rule=\"evenodd\" fill-opacity=\"1\" /><path clip-path=\"url(#clip780)\" d=\"M 0 0 M1067.98 1515.64 Q1064.37 1515.64 1062.54 1519.2 Q1060.74 1522.75 1060.74 1529.87 Q1060.74 1536.98 1062.54 1540.55 Q1064.37 1544.09 1067.98 1544.09 Q1071.62 1544.09 1073.42 1540.55 Q1075.25 1536.98 1075.25 1529.87 Q1075.25 1522.75 1073.42 1519.2 Q1071.62 1515.64 1067.98 1515.64 M1067.98 1511.93 Q1073.79 1511.93 1076.85 1516.54 Q1079.93 1521.12 1079.93 1529.87 Q1079.93 1538.6 1076.85 1543.21 Q1073.79 1547.79 1067.98 1547.79 Q1062.17 1547.79 1059.09 1543.21 Q1056.04 1538.6 1056.04 1529.87 Q1056.04 1521.12 1059.09 1516.54 Q1062.17 1511.93 1067.98 1511.93 Z\" fill=\"#000000\" fill-rule=\"evenodd\" fill-opacity=\"1\" /><path clip-path=\"url(#clip780)\" d=\"M 0 0 M1508.11 1543.18 L1515.75 1543.18 L1515.75 1516.82 L1507.44 1518.49 L1507.44 1514.23 L1515.7 1512.56 L1520.38 1512.56 L1520.38 1543.18 L1528.02 1543.18 L1528.02 1547.12 L1508.11 1547.12 L1508.11 1543.18 Z\" fill=\"#000000\" fill-rule=\"evenodd\" fill-opacity=\"1\" /><path clip-path=\"url(#clip780)\" d=\"M 0 0 M1533.13 1512.56 L1551.49 1512.56 L1551.49 1516.5 L1537.42 1516.5 L1537.42 1524.97 Q1538.43 1524.62 1539.45 1524.46 Q1540.47 1524.27 1541.49 1524.27 Q1547.28 1524.27 1550.66 1527.44 Q1554.04 1530.62 1554.04 1536.03 Q1554.04 1541.61 1550.56 1544.71 Q1547.09 1547.79 1540.77 1547.79 Q1538.6 1547.79 1536.33 1547.42 Q1534.08 1547.05 1531.67 1546.31 L1531.67 1541.61 Q1533.76 1542.74 1535.98 1543.3 Q1538.2 1543.86 1540.68 1543.86 Q1544.68 1543.86 1547.02 1541.75 Q1549.36 1539.64 1549.36 1536.03 Q1549.36 1532.42 1547.02 1530.31 Q1544.68 1528.21 1540.68 1528.21 Q1538.8 1528.21 1536.93 1528.62 Q1535.08 1529.04 1533.13 1529.92 L1533.13 1512.56 Z\" fill=\"#000000\" fill-rule=\"evenodd\" fill-opacity=\"1\" /><path clip-path=\"url(#clip780)\" d=\"M 0 0 M1986.49 1543.18 L2002.81 1543.18 L2002.81 1547.12 L1980.86 1547.12 L1980.86 1543.18 Q1983.53 1540.43 1988.11 1535.8 Q1992.72 1531.15 1993.9 1529.81 Q1996.14 1527.28 1997.02 1525.55 Q1997.92 1523.79 1997.92 1522.1 Q1997.92 1519.34 1995.98 1517.61 Q1994.06 1515.87 1990.96 1515.87 Q1988.76 1515.87 1986.3 1516.63 Q1983.87 1517.4 1981.1 1518.95 L1981.1 1514.23 Q1983.92 1513.09 1986.37 1512.51 Q1988.83 1511.93 1990.86 1511.93 Q1996.24 1511.93 1999.43 1514.62 Q2002.62 1517.31 2002.62 1521.8 Q2002.62 1523.93 2001.81 1525.85 Q2001.03 1527.74 1998.92 1530.34 Q1998.34 1531.01 1995.24 1534.23 Q1992.14 1537.42 1986.49 1543.18 Z\" fill=\"#000000\" fill-rule=\"evenodd\" fill-opacity=\"1\" /><path clip-path=\"url(#clip780)\" d=\"M 0 0 M2017.88 1515.64 Q2014.27 1515.64 2012.44 1519.2 Q2010.63 1522.75 2010.63 1529.87 Q2010.63 1536.98 2012.44 1540.55 Q2014.27 1544.09 2017.88 1544.09 Q2021.51 1544.09 2023.32 1540.55 Q2025.15 1536.98 2025.15 1529.87 Q2025.15 1522.75 2023.32 1519.2 Q2021.51 1515.64 2017.88 1515.64 M2017.88 1511.93 Q2023.69 1511.93 2026.74 1516.54 Q2029.82 1521.12 2029.82 1529.87 Q2029.82 1538.6 2026.74 1543.21 Q2023.69 1547.79 2017.88 1547.79 Q2012.07 1547.79 2008.99 1543.21 Q2005.93 1538.6 2005.93 1529.87 Q2005.93 1521.12 2008.99 1516.54 Q2012.07 1511.93 2017.88 1511.93 Z\" fill=\"#000000\" fill-rule=\"evenodd\" fill-opacity=\"1\" /><polyline clip-path=\"url(#clip782)\" style=\"stroke:#000000; stroke-width:2; stroke-opacity:0.1; fill:none\" points=\"\n",
       "  139.191,1445.72 2352.76,1445.72 \n",
       "  \"/>\n",
       "<polyline clip-path=\"url(#clip782)\" style=\"stroke:#000000; stroke-width:2; stroke-opacity:0.1; fill:none\" points=\"\n",
       "  139.191,1106.28 2352.76,1106.28 \n",
       "  \"/>\n",
       "<polyline clip-path=\"url(#clip782)\" style=\"stroke:#000000; stroke-width:2; stroke-opacity:0.1; fill:none\" points=\"\n",
       "  139.191,766.846 2352.76,766.846 \n",
       "  \"/>\n",
       "<polyline clip-path=\"url(#clip782)\" style=\"stroke:#000000; stroke-width:2; stroke-opacity:0.1; fill:none\" points=\"\n",
       "  139.191,427.411 2352.76,427.411 \n",
       "  \"/>\n",
       "<polyline clip-path=\"url(#clip782)\" style=\"stroke:#000000; stroke-width:2; stroke-opacity:0.1; fill:none\" points=\"\n",
       "  139.191,87.9763 2352.76,87.9763 \n",
       "  \"/>\n",
       "<polyline clip-path=\"url(#clip780)\" style=\"stroke:#000000; stroke-width:4; stroke-opacity:1; fill:none\" points=\"\n",
       "  139.191,1486.45 139.191,47.2441 \n",
       "  \"/>\n",
       "<polyline clip-path=\"url(#clip780)\" style=\"stroke:#000000; stroke-width:4; stroke-opacity:1; fill:none\" points=\"\n",
       "  139.191,1445.72 165.754,1445.72 \n",
       "  \"/>\n",
       "<polyline clip-path=\"url(#clip780)\" style=\"stroke:#000000; stroke-width:4; stroke-opacity:1; fill:none\" points=\"\n",
       "  139.191,1106.28 165.754,1106.28 \n",
       "  \"/>\n",
       "<polyline clip-path=\"url(#clip780)\" style=\"stroke:#000000; stroke-width:4; stroke-opacity:1; fill:none\" points=\"\n",
       "  139.191,766.846 165.754,766.846 \n",
       "  \"/>\n",
       "<polyline clip-path=\"url(#clip780)\" style=\"stroke:#000000; stroke-width:4; stroke-opacity:1; fill:none\" points=\"\n",
       "  139.191,427.411 165.754,427.411 \n",
       "  \"/>\n",
       "<polyline clip-path=\"url(#clip780)\" style=\"stroke:#000000; stroke-width:4; stroke-opacity:1; fill:none\" points=\"\n",
       "  139.191,87.9763 165.754,87.9763 \n",
       "  \"/>\n",
       "<path clip-path=\"url(#clip780)\" d=\"M 0 0 M91.2465 1431.51 Q87.6354 1431.51 85.8068 1435.08 Q84.0012 1438.62 84.0012 1445.75 Q84.0012 1452.86 85.8068 1456.42 Q87.6354 1459.96 91.2465 1459.96 Q94.8808 1459.96 96.6863 1456.42 Q98.515 1452.86 98.515 1445.75 Q98.515 1438.62 96.6863 1435.08 Q94.8808 1431.51 91.2465 1431.51 M91.2465 1427.81 Q97.0567 1427.81 100.112 1432.42 Q103.191 1437 103.191 1445.75 Q103.191 1454.48 100.112 1459.08 Q97.0567 1463.67 91.2465 1463.67 Q85.4364 1463.67 82.3577 1459.08 Q79.3022 1454.48 79.3022 1445.75 Q79.3022 1437 82.3577 1432.42 Q85.4364 1427.81 91.2465 1427.81 Z\" fill=\"#000000\" fill-rule=\"evenodd\" fill-opacity=\"1\" /><path clip-path=\"url(#clip780)\" d=\"M 0 0 M59.8578 1119.63 L76.1772 1119.63 L76.1772 1123.56 L54.2328 1123.56 L54.2328 1119.63 Q56.8949 1116.87 61.4782 1112.24 Q66.0846 1107.59 67.2652 1106.25 Q69.5105 1103.72 70.3902 1101.99 Q71.2929 1100.23 71.2929 1098.54 Q71.2929 1095.78 69.3485 1094.05 Q67.4272 1092.31 64.3254 1092.31 Q62.1263 1092.31 59.6726 1093.07 Q57.2421 1093.84 54.4643 1095.39 L54.4643 1090.67 Q57.2884 1089.53 59.7421 1088.95 Q62.1958 1088.38 64.2328 1088.38 Q69.6031 1088.38 72.7976 1091.06 Q75.992 1093.75 75.992 1098.24 Q75.992 1100.37 75.1818 1102.29 Q74.3948 1104.19 72.2883 1106.78 Q71.7096 1107.45 68.6078 1110.67 Q65.5059 1113.86 59.8578 1119.63 Z\" fill=\"#000000\" fill-rule=\"evenodd\" fill-opacity=\"1\" /><path clip-path=\"url(#clip780)\" d=\"M 0 0 M91.2465 1092.08 Q87.6354 1092.08 85.8068 1095.64 Q84.0012 1099.19 84.0012 1106.32 Q84.0012 1113.42 85.8068 1116.99 Q87.6354 1120.53 91.2465 1120.53 Q94.8808 1120.53 96.6863 1116.99 Q98.515 1113.42 98.515 1106.32 Q98.515 1099.19 96.6863 1095.64 Q94.8808 1092.08 91.2465 1092.08 M91.2465 1088.38 Q97.0567 1088.38 100.112 1092.98 Q103.191 1097.57 103.191 1106.32 Q103.191 1115.04 100.112 1119.65 Q97.0567 1124.23 91.2465 1124.23 Q85.4364 1124.23 82.3577 1119.65 Q79.3022 1115.04 79.3022 1106.32 Q79.3022 1097.57 82.3577 1092.98 Q85.4364 1088.38 91.2465 1088.38 Z\" fill=\"#000000\" fill-rule=\"evenodd\" fill-opacity=\"1\" /><path clip-path=\"url(#clip780)\" d=\"M 0 0 M66.5939 753.64 L54.7884 772.089 L66.5939 772.089 L66.5939 753.64 M65.367 749.566 L71.2466 749.566 L71.2466 772.089 L76.1772 772.089 L76.1772 775.978 L71.2466 775.978 L71.2466 784.126 L66.5939 784.126 L66.5939 775.978 L50.9921 775.978 L50.9921 771.464 L65.367 749.566 Z\" fill=\"#000000\" fill-rule=\"evenodd\" fill-opacity=\"1\" /><path clip-path=\"url(#clip780)\" d=\"M 0 0 M91.2465 752.645 Q87.6354 752.645 85.8068 756.209 Q84.0012 759.751 84.0012 766.881 Q84.0012 773.987 85.8068 777.552 Q87.6354 781.094 91.2465 781.094 Q94.8808 781.094 96.6863 777.552 Q98.515 773.987 98.515 766.881 Q98.515 759.751 96.6863 756.209 Q94.8808 752.645 91.2465 752.645 M91.2465 748.941 Q97.0567 748.941 100.112 753.547 Q103.191 758.131 103.191 766.881 Q103.191 775.608 100.112 780.214 Q97.0567 784.797 91.2465 784.797 Q85.4364 784.797 82.3577 780.214 Q79.3022 775.608 79.3022 766.881 Q79.3022 758.131 82.3577 753.547 Q85.4364 748.941 91.2465 748.941 Z\" fill=\"#000000\" fill-rule=\"evenodd\" fill-opacity=\"1\" /><path clip-path=\"url(#clip780)\" d=\"M 0 0 M64.6495 425.548 Q61.5013 425.548 59.6495 427.7 Q57.8208 429.853 57.8208 433.603 Q57.8208 437.33 59.6495 439.506 Q61.5013 441.659 64.6495 441.659 Q67.7976 441.659 69.6263 439.506 Q71.4781 437.33 71.4781 433.603 Q71.4781 429.853 69.6263 427.7 Q67.7976 425.548 64.6495 425.548 M73.9318 410.895 L73.9318 415.154 Q72.1726 414.321 70.367 413.881 Q68.5846 413.441 66.8254 413.441 Q62.1958 413.441 59.7421 416.566 Q57.3115 419.691 56.9643 426.011 Q58.33 423.997 60.3902 422.932 Q62.4504 421.844 64.9272 421.844 Q70.1355 421.844 73.1448 425.015 Q76.1772 428.163 76.1772 433.603 Q76.1772 438.927 73.029 442.145 Q69.8809 445.362 64.6495 445.362 Q58.6541 445.362 55.4828 440.779 Q52.3116 436.173 52.3116 427.446 Q52.3116 419.251 56.2004 414.39 Q60.0893 409.506 66.6402 409.506 Q68.3994 409.506 70.1818 409.853 Q71.9874 410.201 73.9318 410.895 Z\" fill=\"#000000\" fill-rule=\"evenodd\" fill-opacity=\"1\" /><path clip-path=\"url(#clip780)\" d=\"M 0 0 M91.2465 413.21 Q87.6354 413.21 85.8068 416.775 Q84.0012 420.316 84.0012 427.446 Q84.0012 434.552 85.8068 438.117 Q87.6354 441.659 91.2465 441.659 Q94.8808 441.659 96.6863 438.117 Q98.515 434.552 98.515 427.446 Q98.515 420.316 96.6863 416.775 Q94.8808 413.21 91.2465 413.21 M91.2465 409.506 Q97.0567 409.506 100.112 414.113 Q103.191 418.696 103.191 427.446 Q103.191 436.173 100.112 440.779 Q97.0567 445.362 91.2465 445.362 Q85.4364 445.362 82.3577 440.779 Q79.3022 436.173 79.3022 427.446 Q79.3022 418.696 82.3577 414.113 Q85.4364 409.506 91.2465 409.506 Z\" fill=\"#000000\" fill-rule=\"evenodd\" fill-opacity=\"1\" /><path clip-path=\"url(#clip780)\" d=\"M 0 0 M64.3254 88.8443 Q60.9921 88.8443 59.0708 90.6267 Q57.1726 92.4091 57.1726 95.5341 Q57.1726 98.6591 59.0708 100.441 Q60.9921 102.224 64.3254 102.224 Q67.6587 102.224 69.58 100.441 Q71.5013 98.6359 71.5013 95.5341 Q71.5013 92.4091 69.58 90.6267 Q67.6819 88.8443 64.3254 88.8443 M59.6495 86.8536 Q56.6402 86.1129 54.9504 84.0527 Q53.2838 81.9925 53.2838 79.0296 Q53.2838 74.8861 56.2236 72.4787 Q59.1865 70.0713 64.3254 70.0713 Q69.4874 70.0713 72.4272 72.4787 Q75.367 74.8861 75.367 79.0296 Q75.367 81.9925 73.6772 84.0527 Q72.0105 86.1129 69.0244 86.8536 Q72.404 87.6406 74.279 89.9323 Q76.1772 92.2239 76.1772 95.5341 Q76.1772 100.557 73.0985 103.242 Q70.0429 105.928 64.3254 105.928 Q58.6078 105.928 55.5291 103.242 Q52.4736 100.557 52.4736 95.5341 Q52.4736 92.2239 54.3717 89.9323 Q56.2699 87.6406 59.6495 86.8536 M57.9365 79.4694 Q57.9365 82.1545 59.6032 83.6592 Q61.293 85.1638 64.3254 85.1638 Q67.3346 85.1638 69.0244 83.6592 Q70.7374 82.1545 70.7374 79.4694 Q70.7374 76.7842 69.0244 75.2796 Q67.3346 73.775 64.3254 73.775 Q61.293 73.775 59.6032 75.2796 Q57.9365 76.7842 57.9365 79.4694 Z\" fill=\"#000000\" fill-rule=\"evenodd\" fill-opacity=\"1\" /><path clip-path=\"url(#clip780)\" d=\"M 0 0 M91.2465 73.775 Q87.6354 73.775 85.8068 77.3398 Q84.0012 80.8814 84.0012 88.011 Q84.0012 95.1174 85.8068 98.6822 Q87.6354 102.224 91.2465 102.224 Q94.8808 102.224 96.6863 98.6822 Q98.515 95.1174 98.515 88.011 Q98.515 80.8814 96.6863 77.3398 Q94.8808 73.775 91.2465 73.775 M91.2465 70.0713 Q97.0567 70.0713 100.112 74.6777 Q103.191 79.261 103.191 88.011 Q103.191 96.7378 100.112 101.344 Q97.0567 105.928 91.2465 105.928 Q85.4364 105.928 82.3577 101.344 Q79.3022 96.7378 79.3022 88.011 Q79.3022 79.261 82.3577 74.6777 Q85.4364 70.0713 91.2465 70.0713 Z\" fill=\"#000000\" fill-rule=\"evenodd\" fill-opacity=\"1\" /><polyline clip-path=\"url(#clip782)\" style=\"stroke:#009af9; stroke-width:4; stroke-opacity:1; fill:none\" points=\"\n",
       "  201.839,1411.77 296.76,1445.72 391.682,1445.72 486.603,1445.72 581.524,1428.74 676.446,1428.74 771.367,1445.72 866.288,1445.72 961.209,1445.72 1056.13,1445.72 \n",
       "  1151.05,1445.72 1245.97,1445.72 1340.89,1445.72 1435.82,1445.72 1530.74,1445.72 1625.66,1445.72 1720.58,1445.72 1815.5,1445.72 1910.42,1445.72 2005.34,1445.72 \n",
       "  2100.27,1445.72 2195.19,1445.72 2290.11,1445.72 \n",
       "  \"/>\n",
       "<polyline clip-path=\"url(#clip782)\" style=\"stroke:#e26f46; stroke-width:4; stroke-opacity:1; fill:none\" points=\"\n",
       "  201.839,1259.03 296.76,1191.14 391.682,1259.03 486.603,1309.94 581.524,1276 676.446,1174.17 771.367,1225.08 866.288,1174.17 961.209,1292.97 1056.13,1343.89 \n",
       "  1151.05,1309.94 1245.97,1343.89 1340.89,1377.83 1435.82,1377.83 1530.74,1377.83 1625.66,1377.83 1720.58,1377.83 1815.5,1343.89 1910.42,1377.83 2005.34,1411.77 \n",
       "  2100.27,1411.77 2195.19,1411.77 2290.11,1445.72 \n",
       "  \"/>\n",
       "<polyline clip-path=\"url(#clip782)\" style=\"stroke:#3da44d; stroke-width:4; stroke-opacity:1; fill:none\" points=\"\n",
       "  201.839,868.676 296.76,1191.14 391.682,1343.89 486.603,1428.74 581.524,1445.72 676.446,1445.72 771.367,1445.72 866.288,1445.72 961.209,1445.72 1056.13,1445.72 \n",
       "  1151.05,1445.72 1245.97,1445.72 1340.89,1445.72 1435.82,1445.72 1530.74,1445.72 1625.66,1445.72 1720.58,1445.72 1815.5,1445.72 1910.42,1445.72 2005.34,1445.72 \n",
       "  2100.27,1445.72 2195.19,1445.72 2290.11,1445.72 \n",
       "  \"/>\n",
       "<polyline clip-path=\"url(#clip782)\" style=\"stroke:#c271d2; stroke-width:4; stroke-opacity:1; fill:none\" points=\"\n",
       "  201.839,87.9763 296.76,766.846 391.682,1123.25 486.603,1276 581.524,1377.83 676.446,1394.8 771.367,1445.72 866.288,1445.72 961.209,1445.72 1056.13,1445.72 \n",
       "  1151.05,1445.72 1245.97,1445.72 1340.89,1445.72 1435.82,1445.72 1530.74,1445.72 1625.66,1445.72 1720.58,1445.72 1815.5,1445.72 1910.42,1445.72 2005.34,1445.72 \n",
       "  2100.27,1445.72 2195.19,1445.72 2290.11,1445.72 \n",
       "  \"/>\n",
       "<path clip-path=\"url(#clip780)\" d=\"\n",
       "M1694.76 397.618 L2278.97 397.618 L2278.97 95.2176 L1694.76 95.2176  Z\n",
       "  \" fill=\"#ffffff\" fill-rule=\"evenodd\" fill-opacity=\"1\"/>\n",
       "<polyline clip-path=\"url(#clip780)\" style=\"stroke:#000000; stroke-width:4; stroke-opacity:1; fill:none\" points=\"\n",
       "  1694.76,397.618 2278.97,397.618 2278.97,95.2176 1694.76,95.2176 1694.76,397.618 \n",
       "  \"/>\n",
       "<polyline clip-path=\"url(#clip780)\" style=\"stroke:#009af9; stroke-width:4; stroke-opacity:1; fill:none\" points=\"\n",
       "  1719.35,155.698 1866.92,155.698 \n",
       "  \"/>\n",
       "<path clip-path=\"url(#clip780)\" d=\"M 0 0 M1910.43 159.714 Q1910.43 155.084 1908.51 152.538 Q1906.61 149.992 1903.16 149.992 Q1899.74 149.992 1897.81 152.538 Q1895.92 155.084 1895.92 159.714 Q1895.92 164.32 1897.81 166.866 Q1899.74 169.413 1903.16 169.413 Q1906.61 169.413 1908.51 166.866 Q1910.43 164.32 1910.43 159.714 M1914.69 169.76 Q1914.69 176.38 1911.75 179.598 Q1908.81 182.839 1902.74 182.839 Q1900.5 182.839 1898.51 182.491 Q1896.52 182.167 1894.64 181.473 L1894.64 177.329 Q1896.52 178.348 1898.35 178.834 Q1900.18 179.32 1902.07 179.32 Q1906.26 179.32 1908.35 177.121 Q1910.43 174.945 1910.43 170.524 L1910.43 168.417 Q1909.11 170.709 1907.05 171.843 Q1904.99 172.978 1902.12 172.978 Q1897.35 172.978 1894.43 169.343 Q1891.52 165.709 1891.52 159.714 Q1891.52 153.695 1894.43 150.061 Q1897.35 146.427 1902.12 146.427 Q1904.99 146.427 1907.05 147.561 Q1909.11 148.695 1910.43 150.987 L1910.43 147.052 L1914.69 147.052 L1914.69 169.76 Z\" fill=\"#000000\" fill-rule=\"evenodd\" fill-opacity=\"1\" /><path clip-path=\"url(#clip780)\" d=\"M 0 0 M1929.2 150.038 Q1925.78 150.038 1923.79 152.723 Q1921.8 155.385 1921.8 160.038 Q1921.8 164.691 1923.76 167.376 Q1925.75 170.038 1929.2 170.038 Q1932.61 170.038 1934.6 167.353 Q1936.59 164.667 1936.59 160.038 Q1936.59 155.431 1934.6 152.746 Q1932.61 150.038 1929.2 150.038 M1929.2 146.427 Q1934.76 146.427 1937.93 150.038 Q1941.1 153.649 1941.1 160.038 Q1941.1 166.404 1937.93 170.038 Q1934.76 173.649 1929.2 173.649 Q1923.62 173.649 1920.45 170.038 Q1917.3 166.404 1917.3 160.038 Q1917.3 153.649 1920.45 150.038 Q1923.62 146.427 1929.2 146.427 Z\" fill=\"#000000\" fill-rule=\"evenodd\" fill-opacity=\"1\" /><path clip-path=\"url(#clip780)\" d=\"M 0 0 M1945.71 136.959 L1949.97 136.959 L1949.97 150.894 L1952.86 148.811 L1954.62 151.265 L1949.97 154.529 L1949.97 172.978 L1945.71 172.978 L1945.71 157.561 L1942.86 159.598 L1941.15 157.144 L1945.71 153.88 L1945.71 136.959 Z\" fill=\"#000000\" fill-rule=\"evenodd\" fill-opacity=\"1\" /><path clip-path=\"url(#clip780)\" d=\"M 0 0 M1981.26 158.95 L1981.26 161.033 L1961.68 161.033 Q1961.96 165.431 1964.32 167.746 Q1966.7 170.038 1970.94 170.038 Q1973.39 170.038 1975.68 169.436 Q1978 168.834 1980.27 167.63 L1980.27 171.658 Q1977.98 172.63 1975.57 173.14 Q1973.16 173.649 1970.68 173.649 Q1964.48 173.649 1960.85 170.038 Q1957.24 166.427 1957.24 160.269 Q1957.24 153.904 1960.66 150.177 Q1964.11 146.427 1969.94 146.427 Q1975.17 146.427 1978.21 149.806 Q1981.26 153.163 1981.26 158.95 M1977 157.7 Q1976.96 154.205 1975.04 152.121 Q1973.14 150.038 1969.99 150.038 Q1966.43 150.038 1964.27 152.052 Q1962.14 154.066 1961.82 157.723 L1977 157.7 M1973.51 172.978 L1976.26 172.978 Q1975.22 174.39 1974.71 175.408 Q1974.23 176.427 1974.23 177.144 Q1974.23 178.209 1974.85 178.741 Q1975.5 179.274 1976.75 179.274 Q1977.49 179.274 1978.21 179.089 Q1978.92 178.927 1979.64 178.579 L1979.64 181.658 Q1978.76 181.89 1977.98 182.005 Q1977.19 182.121 1976.49 182.121 Q1973.67 182.121 1972.33 181.103 Q1971.01 180.107 1971.01 177.954 Q1971.01 176.843 1971.61 175.616 Q1972.24 174.413 1973.51 172.978 Z\" fill=\"#000000\" fill-rule=\"evenodd\" fill-opacity=\"1\" /><path clip-path=\"url(#clip780)\" d=\"M 0 0 M2004.34 160.038 Q2004.34 155.339 2002.4 152.677 Q2000.48 149.992 1997.1 149.992 Q1993.72 149.992 1991.77 152.677 Q1989.85 155.339 1989.85 160.038 Q1989.85 164.737 1991.77 167.422 Q1993.72 170.084 1997.1 170.084 Q2000.48 170.084 2002.4 167.422 Q2004.34 164.737 2004.34 160.038 M1989.85 150.987 Q1991.19 148.672 1993.23 147.561 Q1995.29 146.427 1998.14 146.427 Q2002.86 146.427 2005.8 150.177 Q2008.76 153.927 2008.76 160.038 Q2008.76 166.149 2005.8 169.899 Q2002.86 173.649 1998.14 173.649 Q1995.29 173.649 1993.23 172.538 Q1991.19 171.403 1989.85 169.089 L1989.85 172.978 L1985.57 172.978 L1985.57 136.959 L1989.85 136.959 L1989.85 150.987 Z\" fill=\"#000000\" fill-rule=\"evenodd\" fill-opacity=\"1\" /><path clip-path=\"url(#clip780)\" d=\"M 0 0 M2013.23 147.052 L2017.49 147.052 L2017.49 172.978 L2013.23 172.978 L2013.23 147.052 M2013.23 136.959 L2017.49 136.959 L2017.49 142.353 L2013.23 142.353 L2013.23 136.959 Z\" fill=\"#000000\" fill-rule=\"evenodd\" fill-opacity=\"1\" /><path clip-path=\"url(#clip780)\" d=\"M 0 0 M2044.13 158.95 L2044.13 161.033 L2024.55 161.033 Q2024.83 165.431 2027.19 167.746 Q2029.57 170.038 2033.81 170.038 Q2036.26 170.038 2038.55 169.436 Q2040.87 168.834 2043.14 167.63 L2043.14 171.658 Q2040.85 172.63 2038.44 173.14 Q2036.03 173.649 2033.55 173.649 Q2027.35 173.649 2023.72 170.038 Q2020.11 166.427 2020.11 160.269 Q2020.11 153.904 2023.53 150.177 Q2026.98 146.427 2032.81 146.427 Q2038.04 146.427 2041.08 149.806 Q2044.13 153.163 2044.13 158.95 M2039.87 157.7 Q2039.83 154.205 2037.91 152.121 Q2036.01 150.038 2032.86 150.038 Q2029.3 150.038 2027.14 152.052 Q2025.01 154.066 2024.69 157.723 L2039.87 157.7 Z\" fill=\"#000000\" fill-rule=\"evenodd\" fill-opacity=\"1\" /><polyline clip-path=\"url(#clip780)\" style=\"stroke:#e26f46; stroke-width:4; stroke-opacity:1; fill:none\" points=\"\n",
       "  1719.35,216.178 1866.92,216.178 \n",
       "  \"/>\n",
       "<path clip-path=\"url(#clip780)\" d=\"M 0 0 M1896.84 207.532 L1901.1 207.532 L1901.1 233.921 Q1901.1 238.874 1899.2 241.096 Q1897.33 243.319 1893.14 243.319 L1891.52 243.319 L1891.52 239.708 L1892.65 239.708 Q1895.08 239.708 1895.96 238.573 Q1896.84 237.462 1896.84 233.921 L1896.84 207.532 M1896.84 197.439 L1901.1 197.439 L1901.1 202.833 L1896.84 202.833 L1896.84 197.439 Z\" fill=\"#000000\" fill-rule=\"evenodd\" fill-opacity=\"1\" /><path clip-path=\"url(#clip780)\" d=\"M 0 0 M1917.35 220.425 Q1912.19 220.425 1910.2 221.606 Q1908.21 222.786 1908.21 225.634 Q1908.21 227.902 1909.69 229.245 Q1911.19 230.564 1913.76 230.564 Q1917.3 230.564 1919.43 228.064 Q1921.59 225.541 1921.59 221.374 L1921.59 220.425 L1917.35 220.425 M1925.85 218.666 L1925.85 233.458 L1921.59 233.458 L1921.59 229.522 Q1920.13 231.883 1917.95 233.018 Q1915.78 234.129 1912.63 234.129 Q1908.65 234.129 1906.29 231.907 Q1903.95 229.661 1903.95 225.911 Q1903.95 221.536 1906.87 219.314 Q1909.8 217.092 1915.62 217.092 L1921.59 217.092 L1921.59 216.675 Q1921.59 213.735 1919.64 212.138 Q1917.72 210.518 1914.23 210.518 Q1912 210.518 1909.9 211.05 Q1907.79 211.583 1905.85 212.647 L1905.85 208.712 Q1908.18 207.81 1910.38 207.37 Q1912.58 206.907 1914.67 206.907 Q1920.29 206.907 1923.07 209.823 Q1925.85 212.74 1925.85 218.666 Z\" fill=\"#000000\" fill-rule=\"evenodd\" fill-opacity=\"1\" /><path clip-path=\"url(#clip780)\" d=\"M 0 0 M1946.84 208.296 L1946.84 212.323 Q1945.04 211.397 1943.09 210.935 Q1941.15 210.472 1939.06 210.472 Q1935.89 210.472 1934.3 211.444 Q1932.72 212.416 1932.72 214.36 Q1932.72 215.842 1933.86 216.698 Q1934.99 217.532 1938.42 218.296 L1939.87 218.62 Q1944.41 219.592 1946.31 221.374 Q1948.23 223.134 1948.23 226.305 Q1948.23 229.916 1945.36 232.022 Q1942.51 234.129 1937.51 234.129 Q1935.43 234.129 1933.16 233.712 Q1930.92 233.319 1928.42 232.508 L1928.42 228.11 Q1930.78 229.337 1933.07 229.962 Q1935.36 230.564 1937.61 230.564 Q1940.61 230.564 1942.24 229.546 Q1943.86 228.504 1943.86 226.629 Q1943.86 224.893 1942.68 223.967 Q1941.52 223.041 1937.56 222.184 L1936.08 221.837 Q1932.12 221.004 1930.36 219.291 Q1928.6 217.555 1928.6 214.546 Q1928.6 210.888 1931.19 208.898 Q1933.79 206.907 1938.55 206.907 Q1940.92 206.907 1943 207.254 Q1945.08 207.601 1946.84 208.296 Z\" fill=\"#000000\" fill-rule=\"evenodd\" fill-opacity=\"1\" /><path clip-path=\"url(#clip780)\" d=\"M 0 0 M1956.91 200.171 L1956.91 207.532 L1965.68 207.532 L1965.68 210.842 L1956.91 210.842 L1956.91 224.916 Q1956.91 228.087 1957.77 228.99 Q1958.65 229.893 1961.31 229.893 L1965.68 229.893 L1965.68 233.458 L1961.31 233.458 Q1956.38 233.458 1954.5 231.629 Q1952.63 229.777 1952.63 224.916 L1952.63 210.842 L1949.5 210.842 L1949.5 207.532 L1952.63 207.532 L1952.63 200.171 L1956.91 200.171 Z\" fill=\"#000000\" fill-rule=\"evenodd\" fill-opacity=\"1\" /><path clip-path=\"url(#clip780)\" d=\"M 0 0 M1985.17 211.513 Q1984.46 211.097 1983.6 210.911 Q1982.77 210.703 1981.75 210.703 Q1978.14 210.703 1976.19 213.064 Q1974.27 215.402 1974.27 219.8 L1974.27 233.458 L1969.99 233.458 L1969.99 207.532 L1974.27 207.532 L1974.27 211.56 Q1975.61 209.198 1977.77 208.064 Q1979.92 206.907 1983 206.907 Q1983.44 206.907 1983.97 206.976 Q1984.5 207.023 1985.15 207.138 L1985.17 211.513 Z\" fill=\"#000000\" fill-rule=\"evenodd\" fill-opacity=\"1\" /><path clip-path=\"url(#clip780)\" d=\"M 0 0 M1987.79 207.532 L2008.02 207.532 L2008.02 211.421 L1992 230.055 L2008.02 230.055 L2008.02 233.458 L1987.21 233.458 L1987.21 229.569 L2003.23 210.935 L1987.79 210.935 L1987.79 207.532 Z\" fill=\"#000000\" fill-rule=\"evenodd\" fill-opacity=\"1\" /><path clip-path=\"url(#clip780)\" d=\"M 0 0 M2034.67 219.43 L2034.67 221.513 L2015.08 221.513 Q2015.36 225.911 2017.72 228.226 Q2020.11 230.518 2024.34 230.518 Q2026.8 230.518 2029.09 229.916 Q2031.4 229.314 2033.67 228.11 L2033.67 232.138 Q2031.38 233.11 2028.97 233.62 Q2026.56 234.129 2024.09 234.129 Q2017.88 234.129 2014.25 230.518 Q2010.64 226.907 2010.64 220.749 Q2010.64 214.384 2014.06 210.657 Q2017.51 206.907 2023.35 206.907 Q2028.58 206.907 2031.61 210.286 Q2034.67 213.643 2034.67 219.43 M2030.41 218.18 Q2030.36 214.685 2028.44 212.601 Q2026.54 210.518 2023.39 210.518 Q2019.83 210.518 2017.67 212.532 Q2015.55 214.546 2015.22 218.203 L2030.41 218.18 M2026.91 233.458 L2029.67 233.458 Q2028.62 234.87 2028.11 235.888 Q2027.63 236.907 2027.63 237.624 Q2027.63 238.689 2028.25 239.221 Q2028.9 239.754 2030.15 239.754 Q2030.89 239.754 2031.61 239.569 Q2032.33 239.407 2033.05 239.059 L2033.05 242.138 Q2032.17 242.37 2031.38 242.485 Q2030.59 242.601 2029.9 242.601 Q2027.07 242.601 2025.73 241.583 Q2024.41 240.587 2024.41 238.434 Q2024.41 237.323 2025.01 236.096 Q2025.64 234.893 2026.91 233.458 Z\" fill=\"#000000\" fill-rule=\"evenodd\" fill-opacity=\"1\" /><path clip-path=\"url(#clip780)\" d=\"M 0 0 M2057.74 220.518 Q2057.74 215.819 2055.8 213.157 Q2053.88 210.472 2050.5 210.472 Q2047.12 210.472 2045.17 213.157 Q2043.25 215.819 2043.25 220.518 Q2043.25 225.217 2045.17 227.902 Q2047.12 230.564 2050.5 230.564 Q2053.88 230.564 2055.8 227.902 Q2057.74 225.217 2057.74 220.518 M2043.25 211.467 Q2044.6 209.152 2046.63 208.041 Q2048.69 206.907 2051.54 206.907 Q2056.26 206.907 2059.2 210.657 Q2062.17 214.407 2062.17 220.518 Q2062.17 226.629 2059.2 230.379 Q2056.26 234.129 2051.54 234.129 Q2048.69 234.129 2046.63 233.018 Q2044.6 231.883 2043.25 229.569 L2043.25 233.458 L2038.97 233.458 L2038.97 197.439 L2043.25 197.439 L2043.25 211.467 Z\" fill=\"#000000\" fill-rule=\"evenodd\" fill-opacity=\"1\" /><path clip-path=\"url(#clip780)\" d=\"M 0 0 M2066.63 207.532 L2070.89 207.532 L2070.89 233.458 L2066.63 233.458 L2066.63 207.532 M2066.63 197.439 L2070.89 197.439 L2070.89 202.833 L2066.63 202.833 L2066.63 197.439 Z\" fill=\"#000000\" fill-rule=\"evenodd\" fill-opacity=\"1\" /><path clip-path=\"url(#clip780)\" d=\"M 0 0 M2097.54 219.43 L2097.54 221.513 L2077.95 221.513 Q2078.23 225.911 2080.59 228.226 Q2082.98 230.518 2087.21 230.518 Q2089.67 230.518 2091.96 229.916 Q2094.27 229.314 2096.54 228.11 L2096.54 232.138 Q2094.25 233.11 2091.84 233.62 Q2089.43 234.129 2086.96 234.129 Q2080.75 234.129 2077.12 230.518 Q2073.51 226.907 2073.51 220.749 Q2073.51 214.384 2076.93 210.657 Q2080.38 206.907 2086.22 206.907 Q2091.45 206.907 2094.48 210.286 Q2097.54 213.643 2097.54 219.43 M2093.28 218.18 Q2093.23 214.685 2091.31 212.601 Q2089.41 210.518 2086.26 210.518 Q2082.7 210.518 2080.54 212.532 Q2078.42 214.546 2078.09 218.203 L2093.28 218.18 Z\" fill=\"#000000\" fill-rule=\"evenodd\" fill-opacity=\"1\" /><polyline clip-path=\"url(#clip780)\" style=\"stroke:#3da44d; stroke-width:4; stroke-opacity:1; fill:none\" points=\"\n",
       "  1719.35,276.658 1866.92,276.658 \n",
       "  \"/>\n",
       "<path clip-path=\"url(#clip780)\" d=\"M 0 0 M1912.03 269.007 L1912.03 272.989 Q1910.22 271.993 1908.39 271.507 Q1906.59 270.998 1904.74 270.998 Q1900.59 270.998 1898.3 273.637 Q1896.01 276.252 1896.01 280.998 Q1896.01 285.743 1898.3 288.382 Q1900.59 290.998 1904.74 290.998 Q1906.59 290.998 1908.39 290.512 Q1910.22 290.002 1912.03 289.007 L1912.03 292.942 Q1910.24 293.776 1908.32 294.192 Q1906.43 294.609 1904.27 294.609 Q1898.42 294.609 1894.97 290.928 Q1891.52 287.248 1891.52 280.998 Q1891.52 274.655 1894.99 271.021 Q1898.49 267.387 1904.55 267.387 Q1906.52 267.387 1908.39 267.803 Q1910.27 268.197 1912.03 269.007 Z\" fill=\"#000000\" fill-rule=\"evenodd\" fill-opacity=\"1\" /><path clip-path=\"url(#clip780)\" d=\"M 0 0 M1938.05 278.289 L1938.05 293.938 L1933.79 293.938 L1933.79 278.428 Q1933.79 274.748 1932.35 272.919 Q1930.92 271.09 1928.05 271.09 Q1924.6 271.09 1922.61 273.29 Q1920.62 275.489 1920.62 279.285 L1920.62 293.938 L1916.33 293.938 L1916.33 257.919 L1920.62 257.919 L1920.62 272.04 Q1922.14 269.702 1924.2 268.544 Q1926.29 267.387 1928.99 267.387 Q1933.46 267.387 1935.75 270.165 Q1938.05 272.919 1938.05 278.289 Z\" fill=\"#000000\" fill-rule=\"evenodd\" fill-opacity=\"1\" /><path clip-path=\"url(#clip780)\" d=\"M 0 0 M1952.56 270.998 Q1949.13 270.998 1947.14 273.683 Q1945.15 276.345 1945.15 280.998 Q1945.15 285.651 1947.12 288.336 Q1949.11 290.998 1952.56 290.998 Q1955.96 290.998 1957.95 288.313 Q1959.94 285.627 1959.94 280.998 Q1959.94 276.391 1957.95 273.706 Q1955.96 270.998 1952.56 270.998 M1952.56 267.387 Q1958.11 267.387 1961.29 270.998 Q1964.46 274.609 1964.46 280.998 Q1964.46 287.364 1961.29 290.998 Q1958.11 294.609 1952.56 294.609 Q1946.98 294.609 1943.81 290.998 Q1940.66 287.364 1940.66 280.998 Q1940.66 274.609 1943.81 270.998 Q1946.98 267.387 1952.56 267.387 Z\" fill=\"#000000\" fill-rule=\"evenodd\" fill-opacity=\"1\" /><path clip-path=\"url(#clip780)\" d=\"M 0 0 M1983.95 271.993 Q1983.23 271.577 1982.37 271.391 Q1981.54 271.183 1980.52 271.183 Q1976.91 271.183 1974.97 273.544 Q1973.05 275.882 1973.05 280.28 L1973.05 293.938 L1968.76 293.938 L1968.76 268.012 L1973.05 268.012 L1973.05 272.04 Q1974.39 269.678 1976.54 268.544 Q1978.69 267.387 1981.77 267.387 Q1982.21 267.387 1982.74 267.456 Q1983.28 267.503 1983.92 267.618 L1983.95 271.993 Z\" fill=\"#000000\" fill-rule=\"evenodd\" fill-opacity=\"1\" /><path clip-path=\"url(#clip780)\" d=\"M 0 0 M2009.55 279.91 L2009.55 281.993 L1989.97 281.993 Q1990.24 286.391 1992.61 288.706 Q1994.99 290.998 1999.23 290.998 Q2001.68 290.998 2003.97 290.396 Q2006.29 289.794 2008.55 288.59 L2008.55 292.618 Q2006.26 293.59 2003.86 294.1 Q2001.45 294.609 1998.97 294.609 Q1992.77 294.609 1989.13 290.998 Q1985.52 287.387 1985.52 281.229 Q1985.52 274.864 1988.95 271.137 Q1992.4 267.387 1998.23 267.387 Q2003.46 267.387 2006.49 270.766 Q2009.55 274.123 2009.55 279.91 M2005.29 278.66 Q2005.24 275.165 2003.32 273.081 Q2001.42 270.998 1998.28 270.998 Q1994.71 270.998 1992.56 273.012 Q1990.43 275.026 1990.11 278.683 L2005.29 278.66 Z\" fill=\"#000000\" fill-rule=\"evenodd\" fill-opacity=\"1\" /><path clip-path=\"url(#clip780)\" d=\"M 0 0 M2046.15 280.674 Q2046.15 276.044 2044.23 273.498 Q2042.33 270.952 2038.88 270.952 Q2035.45 270.952 2033.53 273.498 Q2031.63 276.044 2031.63 280.674 Q2031.63 285.28 2033.53 287.826 Q2035.45 290.373 2038.88 290.373 Q2042.33 290.373 2044.23 287.826 Q2046.15 285.28 2046.15 280.674 M2050.41 290.72 Q2050.41 297.34 2047.47 300.558 Q2044.53 303.799 2038.46 303.799 Q2036.22 303.799 2034.23 303.451 Q2032.23 303.127 2030.36 302.433 L2030.36 298.289 Q2032.23 299.308 2034.06 299.794 Q2035.89 300.28 2037.79 300.28 Q2041.98 300.28 2044.06 298.081 Q2046.15 295.905 2046.15 291.484 L2046.15 289.377 Q2044.83 291.669 2042.77 292.803 Q2040.71 293.938 2037.84 293.938 Q2033.07 293.938 2030.15 290.303 Q2027.23 286.669 2027.23 280.674 Q2027.23 274.655 2030.15 271.021 Q2033.07 267.387 2037.84 267.387 Q2040.71 267.387 2042.77 268.521 Q2044.83 269.655 2046.15 271.947 L2046.15 268.012 L2050.41 268.012 L2050.41 290.72 Z\" fill=\"#000000\" fill-rule=\"evenodd\" fill-opacity=\"1\" /><path clip-path=\"url(#clip780)\" d=\"M 0 0 M2064.92 270.998 Q2061.49 270.998 2059.5 273.683 Q2057.51 276.345 2057.51 280.998 Q2057.51 285.651 2059.48 288.336 Q2061.47 290.998 2064.92 290.998 Q2068.32 290.998 2070.31 288.313 Q2072.3 285.627 2072.3 280.998 Q2072.3 276.391 2070.31 273.706 Q2068.32 270.998 2064.92 270.998 M2064.92 267.387 Q2070.48 267.387 2073.65 270.998 Q2076.82 274.609 2076.82 280.998 Q2076.82 287.364 2073.65 290.998 Q2070.48 294.609 2064.92 294.609 Q2059.34 294.609 2056.17 290.998 Q2053.02 287.364 2053.02 280.998 Q2053.02 274.609 2056.17 270.998 Q2059.34 267.387 2064.92 267.387 Z\" fill=\"#000000\" fill-rule=\"evenodd\" fill-opacity=\"1\" /><path clip-path=\"url(#clip780)\" d=\"M 0 0 M2081.42 257.919 L2085.68 257.919 L2085.68 271.854 L2088.58 269.771 L2090.34 272.225 L2085.68 275.489 L2085.68 293.938 L2081.42 293.938 L2081.42 278.521 L2078.58 280.558 L2076.86 278.104 L2081.42 274.84 L2081.42 257.919 Z\" fill=\"#000000\" fill-rule=\"evenodd\" fill-opacity=\"1\" /><path clip-path=\"url(#clip780)\" d=\"M 0 0 M2116.98 279.91 L2116.98 281.993 L2097.4 281.993 Q2097.67 286.391 2100.04 288.706 Q2102.42 290.998 2106.66 290.998 Q2109.11 290.998 2111.4 290.396 Q2113.72 289.794 2115.98 288.59 L2115.98 292.618 Q2113.69 293.59 2111.29 294.1 Q2108.88 294.609 2106.4 294.609 Q2100.2 294.609 2096.56 290.998 Q2092.95 287.387 2092.95 281.229 Q2092.95 274.864 2096.38 271.137 Q2099.83 267.387 2105.66 267.387 Q2110.89 267.387 2113.92 270.766 Q2116.98 274.123 2116.98 279.91 M2112.72 278.66 Q2112.67 275.165 2110.75 273.081 Q2108.85 270.998 2105.71 270.998 Q2102.14 270.998 2099.99 273.012 Q2097.86 275.026 2097.54 278.683 L2112.72 278.66 M2109.23 293.938 L2111.98 293.938 Q2110.94 295.35 2110.43 296.368 Q2109.94 297.387 2109.94 298.104 Q2109.94 299.169 2110.57 299.701 Q2111.22 300.234 2112.47 300.234 Q2113.21 300.234 2113.92 300.049 Q2114.64 299.887 2115.36 299.539 L2115.36 302.618 Q2114.48 302.85 2113.69 302.965 Q2112.91 303.081 2112.21 303.081 Q2109.39 303.081 2108.04 302.063 Q2106.73 301.067 2106.73 298.914 Q2106.73 297.803 2107.33 296.576 Q2107.95 295.373 2109.23 293.938 Z\" fill=\"#000000\" fill-rule=\"evenodd\" fill-opacity=\"1\" /><path clip-path=\"url(#clip780)\" d=\"M 0 0 M2140.06 280.998 Q2140.06 276.299 2138.11 273.637 Q2136.19 270.952 2132.81 270.952 Q2129.43 270.952 2127.49 273.637 Q2125.57 276.299 2125.57 280.998 Q2125.57 285.697 2127.49 288.382 Q2129.43 291.044 2132.81 291.044 Q2136.19 291.044 2138.11 288.382 Q2140.06 285.697 2140.06 280.998 M2125.57 271.947 Q2126.91 269.632 2128.95 268.521 Q2131.01 267.387 2133.85 267.387 Q2138.58 267.387 2141.52 271.137 Q2144.48 274.887 2144.48 280.998 Q2144.48 287.109 2141.52 290.859 Q2138.58 294.609 2133.85 294.609 Q2131.01 294.609 2128.95 293.498 Q2126.91 292.363 2125.57 290.049 L2125.57 293.938 L2121.29 293.938 L2121.29 257.919 L2125.57 257.919 L2125.57 271.947 Z\" fill=\"#000000\" fill-rule=\"evenodd\" fill-opacity=\"1\" /><path clip-path=\"url(#clip780)\" d=\"M 0 0 M2148.95 268.012 L2153.21 268.012 L2153.21 293.938 L2148.95 293.938 L2148.95 268.012 M2148.95 257.919 L2153.21 257.919 L2153.21 263.313 L2148.95 263.313 L2148.95 257.919 Z\" fill=\"#000000\" fill-rule=\"evenodd\" fill-opacity=\"1\" /><path clip-path=\"url(#clip780)\" d=\"M 0 0 M2179.85 279.91 L2179.85 281.993 L2160.27 281.993 Q2160.54 286.391 2162.91 288.706 Q2165.29 290.998 2169.53 290.998 Q2171.98 290.998 2174.27 290.396 Q2176.59 289.794 2178.85 288.59 L2178.85 292.618 Q2176.56 293.59 2174.16 294.1 Q2171.75 294.609 2169.27 294.609 Q2163.07 294.609 2159.43 290.998 Q2155.82 287.387 2155.82 281.229 Q2155.82 274.864 2159.25 271.137 Q2162.7 267.387 2168.53 267.387 Q2173.76 267.387 2176.79 270.766 Q2179.85 274.123 2179.85 279.91 M2175.59 278.66 Q2175.54 275.165 2173.62 273.081 Q2171.72 270.998 2168.58 270.998 Q2165.01 270.998 2162.86 273.012 Q2160.73 275.026 2160.41 278.683 L2175.59 278.66 Z\" fill=\"#000000\" fill-rule=\"evenodd\" fill-opacity=\"1\" /><polyline clip-path=\"url(#clip780)\" style=\"stroke:#c271d2; stroke-width:4; stroke-opacity:1; fill:none\" points=\"\n",
       "  1719.35,337.138 1866.92,337.138 \n",
       "  \"/>\n",
       "<path clip-path=\"url(#clip780)\" d=\"M 0 0 M1912.03 329.487 L1912.03 333.469 Q1910.22 332.473 1908.39 331.987 Q1906.59 331.478 1904.74 331.478 Q1900.59 331.478 1898.3 334.117 Q1896.01 336.732 1896.01 341.478 Q1896.01 346.223 1898.3 348.862 Q1900.59 351.478 1904.74 351.478 Q1906.59 351.478 1908.39 350.992 Q1910.22 350.482 1912.03 349.487 L1912.03 353.422 Q1910.24 354.256 1908.32 354.672 Q1906.43 355.089 1904.27 355.089 Q1898.42 355.089 1894.97 351.408 Q1891.52 347.728 1891.52 341.478 Q1891.52 335.135 1894.99 331.501 Q1898.49 327.867 1904.55 327.867 Q1906.52 327.867 1908.39 328.283 Q1910.27 328.677 1912.03 329.487 Z\" fill=\"#000000\" fill-rule=\"evenodd\" fill-opacity=\"1\" /><path clip-path=\"url(#clip780)\" d=\"M 0 0 M1938.05 338.769 L1938.05 354.418 L1933.79 354.418 L1933.79 338.908 Q1933.79 335.228 1932.35 333.399 Q1930.92 331.57 1928.05 331.57 Q1924.6 331.57 1922.61 333.77 Q1920.62 335.969 1920.62 339.765 L1920.62 354.418 L1916.33 354.418 L1916.33 318.399 L1920.62 318.399 L1920.62 332.52 Q1922.14 330.182 1924.2 329.024 Q1926.29 327.867 1928.99 327.867 Q1933.46 327.867 1935.75 330.645 Q1938.05 333.399 1938.05 338.769 Z\" fill=\"#000000\" fill-rule=\"evenodd\" fill-opacity=\"1\" /><path clip-path=\"url(#clip780)\" d=\"M 0 0 M1952.56 331.478 Q1949.13 331.478 1947.14 334.163 Q1945.15 336.825 1945.15 341.478 Q1945.15 346.131 1947.12 348.816 Q1949.11 351.478 1952.56 351.478 Q1955.96 351.478 1957.95 348.793 Q1959.94 346.107 1959.94 341.478 Q1959.94 336.871 1957.95 334.186 Q1955.96 331.478 1952.56 331.478 M1952.56 327.867 Q1958.11 327.867 1961.29 331.478 Q1964.46 335.089 1964.46 341.478 Q1964.46 347.844 1961.29 351.478 Q1958.11 355.089 1952.56 355.089 Q1946.98 355.089 1943.81 351.478 Q1940.66 347.844 1940.66 341.478 Q1940.66 335.089 1943.81 331.478 Q1946.98 327.867 1952.56 327.867 Z\" fill=\"#000000\" fill-rule=\"evenodd\" fill-opacity=\"1\" /><path clip-path=\"url(#clip780)\" d=\"M 0 0 M1983.95 332.473 Q1983.23 332.057 1982.37 331.871 Q1981.54 331.663 1980.52 331.663 Q1976.91 331.663 1974.97 334.024 Q1973.05 336.362 1973.05 340.76 L1973.05 354.418 L1968.76 354.418 L1968.76 328.492 L1973.05 328.492 L1973.05 332.52 Q1974.39 330.158 1976.54 329.024 Q1978.69 327.867 1981.77 327.867 Q1982.21 327.867 1982.74 327.936 Q1983.28 327.983 1983.92 328.098 L1983.95 332.473 Z\" fill=\"#000000\" fill-rule=\"evenodd\" fill-opacity=\"1\" /><path clip-path=\"url(#clip780)\" d=\"M 0 0 M2009.55 340.39 L2009.55 342.473 L1989.97 342.473 Q1990.24 346.871 1992.61 349.186 Q1994.99 351.478 1999.23 351.478 Q2001.68 351.478 2003.97 350.876 Q2006.29 350.274 2008.55 349.07 L2008.55 353.098 Q2006.26 354.07 2003.86 354.58 Q2001.45 355.089 1998.97 355.089 Q1992.77 355.089 1989.13 351.478 Q1985.52 347.867 1985.52 341.709 Q1985.52 335.344 1988.95 331.617 Q1992.4 327.867 1998.23 327.867 Q2003.46 327.867 2006.49 331.246 Q2009.55 334.603 2009.55 340.39 M2005.29 339.14 Q2005.24 335.645 2003.32 333.561 Q2001.42 331.478 1998.28 331.478 Q1994.71 331.478 1992.56 333.492 Q1990.43 335.506 1990.11 339.163 L2005.29 339.14 Z\" fill=\"#000000\" fill-rule=\"evenodd\" fill-opacity=\"1\" /><path clip-path=\"url(#clip780)\" d=\"M 0 0 M2029.09 328.492 L2033.35 328.492 L2033.35 354.881 Q2033.35 359.834 2031.45 362.056 Q2029.57 364.279 2025.38 364.279 L2023.76 364.279 L2023.76 360.668 L2024.9 360.668 Q2027.33 360.668 2028.21 359.533 Q2029.09 358.422 2029.09 354.881 L2029.09 328.492 M2029.09 318.399 L2033.35 318.399 L2033.35 323.793 L2029.09 323.793 L2029.09 318.399 Z\" fill=\"#000000\" fill-rule=\"evenodd\" fill-opacity=\"1\" /><path clip-path=\"url(#clip780)\" d=\"M 0 0 M2049.6 341.385 Q2044.43 341.385 2042.44 342.566 Q2040.45 343.746 2040.45 346.594 Q2040.45 348.862 2041.93 350.205 Q2043.44 351.524 2046.01 351.524 Q2049.55 351.524 2051.68 349.024 Q2053.83 346.501 2053.83 342.334 L2053.83 341.385 L2049.6 341.385 M2058.09 339.626 L2058.09 354.418 L2053.83 354.418 L2053.83 350.482 Q2052.37 352.843 2050.2 353.978 Q2048.02 355.089 2044.87 355.089 Q2040.89 355.089 2038.53 352.867 Q2036.19 350.621 2036.19 346.871 Q2036.19 342.496 2039.11 340.274 Q2042.05 338.052 2047.86 338.052 L2053.83 338.052 L2053.83 337.635 Q2053.83 334.695 2051.89 333.098 Q2049.97 331.478 2046.47 331.478 Q2044.25 331.478 2042.14 332.01 Q2040.04 332.543 2038.09 333.607 L2038.09 329.672 Q2040.43 328.77 2042.63 328.33 Q2044.83 327.867 2046.91 327.867 Q2052.54 327.867 2055.31 330.783 Q2058.09 333.7 2058.09 339.626 Z\" fill=\"#000000\" fill-rule=\"evenodd\" fill-opacity=\"1\" /><path clip-path=\"url(#clip780)\" d=\"M 0 0 M2079.09 329.256 L2079.09 333.283 Q2077.28 332.357 2075.34 331.895 Q2073.39 331.432 2071.31 331.432 Q2068.14 331.432 2066.54 332.404 Q2064.97 333.376 2064.97 335.32 Q2064.97 336.802 2066.1 337.658 Q2067.23 338.492 2070.66 339.256 L2072.12 339.58 Q2076.66 340.552 2078.55 342.334 Q2080.48 344.094 2080.48 347.265 Q2080.48 350.876 2077.6 352.982 Q2074.76 355.089 2069.76 355.089 Q2067.67 355.089 2065.41 354.672 Q2063.16 354.279 2060.66 353.468 L2060.66 349.07 Q2063.02 350.297 2065.31 350.922 Q2067.61 351.524 2069.85 351.524 Q2072.86 351.524 2074.48 350.506 Q2076.1 349.464 2076.1 347.589 Q2076.1 345.853 2074.92 344.927 Q2073.76 344.001 2069.8 343.144 L2068.32 342.797 Q2064.36 341.964 2062.61 340.251 Q2060.85 338.515 2060.85 335.506 Q2060.85 331.848 2063.44 329.858 Q2066.03 327.867 2070.8 327.867 Q2073.16 327.867 2075.24 328.214 Q2077.33 328.561 2079.09 329.256 Z\" fill=\"#000000\" fill-rule=\"evenodd\" fill-opacity=\"1\" /><path clip-path=\"url(#clip780)\" d=\"M 0 0 M2089.16 321.131 L2089.16 328.492 L2097.93 328.492 L2097.93 331.802 L2089.16 331.802 L2089.16 345.876 Q2089.16 349.047 2090.01 349.95 Q2090.89 350.853 2093.55 350.853 L2097.93 350.853 L2097.93 354.418 L2093.55 354.418 Q2088.62 354.418 2086.75 352.589 Q2084.87 350.737 2084.87 345.876 L2084.87 331.802 L2081.75 331.802 L2081.75 328.492 L2084.87 328.492 L2084.87 321.131 L2089.16 321.131 Z\" fill=\"#000000\" fill-rule=\"evenodd\" fill-opacity=\"1\" /><path clip-path=\"url(#clip780)\" d=\"M 0 0 M2117.42 332.473 Q2116.7 332.057 2115.85 331.871 Q2115.01 331.663 2113.99 331.663 Q2110.38 331.663 2108.44 334.024 Q2106.52 336.362 2106.52 340.76 L2106.52 354.418 L2102.23 354.418 L2102.23 328.492 L2106.52 328.492 L2106.52 332.52 Q2107.86 330.158 2110.01 329.024 Q2112.16 327.867 2115.24 327.867 Q2115.68 327.867 2116.22 327.936 Q2116.75 327.983 2117.4 328.098 L2117.42 332.473 Z\" fill=\"#000000\" fill-rule=\"evenodd\" fill-opacity=\"1\" /><path clip-path=\"url(#clip780)\" d=\"M 0 0 M2120.04 328.492 L2140.27 328.492 L2140.27 332.381 L2124.25 351.015 L2140.27 351.015 L2140.27 354.418 L2119.46 354.418 L2119.46 350.529 L2135.48 331.895 L2120.04 331.895 L2120.04 328.492 Z\" fill=\"#000000\" fill-rule=\"evenodd\" fill-opacity=\"1\" /><path clip-path=\"url(#clip780)\" d=\"M 0 0 M2166.91 340.39 L2166.91 342.473 L2147.33 342.473 Q2147.6 346.871 2149.97 349.186 Q2152.35 351.478 2156.59 351.478 Q2159.04 351.478 2161.33 350.876 Q2163.65 350.274 2165.91 349.07 L2165.91 353.098 Q2163.62 354.07 2161.22 354.58 Q2158.81 355.089 2156.33 355.089 Q2150.13 355.089 2146.49 351.478 Q2142.88 347.867 2142.88 341.709 Q2142.88 335.344 2146.31 331.617 Q2149.76 327.867 2155.59 327.867 Q2160.82 327.867 2163.85 331.246 Q2166.91 334.603 2166.91 340.39 M2162.65 339.14 Q2162.6 335.645 2160.68 333.561 Q2158.79 331.478 2155.64 331.478 Q2152.07 331.478 2149.92 333.492 Q2147.79 335.506 2147.47 339.163 L2162.65 339.14 M2159.16 354.418 L2161.91 354.418 Q2160.87 355.83 2160.36 356.848 Q2159.87 357.867 2159.87 358.584 Q2159.87 359.649 2160.5 360.181 Q2161.15 360.714 2162.4 360.714 Q2163.14 360.714 2163.85 360.529 Q2164.57 360.367 2165.29 360.019 L2165.29 363.098 Q2164.41 363.33 2163.62 363.445 Q2162.84 363.561 2162.14 363.561 Q2159.32 363.561 2157.97 362.543 Q2156.66 361.547 2156.66 359.394 Q2156.66 358.283 2157.26 357.056 Q2157.88 355.853 2159.16 354.418 Z\" fill=\"#000000\" fill-rule=\"evenodd\" fill-opacity=\"1\" /><path clip-path=\"url(#clip780)\" d=\"M 0 0 M2189.99 341.478 Q2189.99 336.779 2188.04 334.117 Q2186.12 331.432 2182.74 331.432 Q2179.36 331.432 2177.42 334.117 Q2175.5 336.779 2175.5 341.478 Q2175.5 346.177 2177.42 348.862 Q2179.36 351.524 2182.74 351.524 Q2186.12 351.524 2188.04 348.862 Q2189.99 346.177 2189.99 341.478 M2175.5 332.427 Q2176.84 330.112 2178.88 329.001 Q2180.94 327.867 2183.78 327.867 Q2188.51 327.867 2191.45 331.617 Q2194.41 335.367 2194.41 341.478 Q2194.41 347.589 2191.45 351.339 Q2188.51 355.089 2183.78 355.089 Q2180.94 355.089 2178.88 353.978 Q2176.84 352.843 2175.5 350.529 L2175.5 354.418 L2171.22 354.418 L2171.22 318.399 L2175.5 318.399 L2175.5 332.427 Z\" fill=\"#000000\" fill-rule=\"evenodd\" fill-opacity=\"1\" /><path clip-path=\"url(#clip780)\" d=\"M 0 0 M2198.88 328.492 L2203.14 328.492 L2203.14 354.418 L2198.88 354.418 L2198.88 328.492 M2198.88 318.399 L2203.14 318.399 L2203.14 323.793 L2198.88 323.793 L2198.88 318.399 Z\" fill=\"#000000\" fill-rule=\"evenodd\" fill-opacity=\"1\" /><path clip-path=\"url(#clip780)\" d=\"M 0 0 M2229.78 340.39 L2229.78 342.473 L2210.2 342.473 Q2210.47 346.871 2212.84 349.186 Q2215.22 351.478 2219.46 351.478 Q2221.91 351.478 2224.2 350.876 Q2226.52 350.274 2228.78 349.07 L2228.78 353.098 Q2226.49 354.07 2224.09 354.58 Q2221.68 355.089 2219.2 355.089 Q2213 355.089 2209.36 351.478 Q2205.75 347.867 2205.75 341.709 Q2205.75 335.344 2209.18 331.617 Q2212.63 327.867 2218.46 327.867 Q2223.69 327.867 2226.72 331.246 Q2229.78 334.603 2229.78 340.39 M2225.52 339.14 Q2225.47 335.645 2223.55 333.561 Q2221.66 331.478 2218.51 331.478 Q2214.94 331.478 2212.79 333.492 Q2210.66 335.506 2210.34 339.163 L2225.52 339.14 Z\" fill=\"#000000\" fill-rule=\"evenodd\" fill-opacity=\"1\" /></svg>\n"
      ]
     },
     "execution_count": 43,
     "metadata": {},
     "output_type": "execute_result"
    }
   ],
   "source": [
    "plot(1:size(dying)[1], dying[:,1], label=\"gołębie\")\n",
    "plot!(1:size(dying)[1], dying[:,2], label=\"jastrzębie\")\n",
    "plot!(1:size(dying)[1], dying[:,3], label=\"chore gołębie\")\n",
    "plot!(1:size(dying)[1], dying[:,4], label=\"chore jastrzębie\")"
   ]
  },
  {
   "cell_type": "code",
   "execution_count": 35,
   "metadata": {},
   "outputs": [
    {
     "data": {
      "image/svg+xml": [
       "<?xml version=\"1.0\" encoding=\"utf-8\"?>\n",
       "<svg xmlns=\"http://www.w3.org/2000/svg\" xmlns:xlink=\"http://www.w3.org/1999/xlink\" width=\"600\" height=\"400\" viewBox=\"0 0 2400 1600\">\n",
       "<defs>\n",
       "  <clipPath id=\"clip500\">\n",
       "    <rect x=\"0\" y=\"0\" width=\"2400\" height=\"1600\"/>\n",
       "  </clipPath>\n",
       "</defs>\n",
       "<path clip-path=\"url(#clip500)\" d=\"\n",
       "M0 1600 L2400 1600 L2400 0 L0 0  Z\n",
       "  \" fill=\"#ffffff\" fill-rule=\"evenodd\" fill-opacity=\"1\"/>\n",
       "<defs>\n",
       "  <clipPath id=\"clip501\">\n",
       "    <rect x=\"480\" y=\"0\" width=\"1681\" height=\"1600\"/>\n",
       "  </clipPath>\n",
       "</defs>\n",
       "<path clip-path=\"url(#clip500)\" d=\"\n",
       "M139.191 1486.45 L2352.76 1486.45 L2352.76 47.2441 L139.191 47.2441  Z\n",
       "  \" fill=\"#ffffff\" fill-rule=\"evenodd\" fill-opacity=\"1\"/>\n",
       "<defs>\n",
       "  <clipPath id=\"clip502\">\n",
       "    <rect x=\"139\" y=\"47\" width=\"2215\" height=\"1440\"/>\n",
       "  </clipPath>\n",
       "</defs>\n",
       "<polyline clip-path=\"url(#clip502)\" style=\"stroke:#000000; stroke-width:2; stroke-opacity:0.1; fill:none\" points=\"\n",
       "  462.873,1486.45 462.873,47.2441 \n",
       "  \"/>\n",
       "<polyline clip-path=\"url(#clip502)\" style=\"stroke:#000000; stroke-width:2; stroke-opacity:0.1; fill:none\" points=\"\n",
       "  854.423,1486.45 854.423,47.2441 \n",
       "  \"/>\n",
       "<polyline clip-path=\"url(#clip502)\" style=\"stroke:#000000; stroke-width:2; stroke-opacity:0.1; fill:none\" points=\"\n",
       "  1245.97,1486.45 1245.97,47.2441 \n",
       "  \"/>\n",
       "<polyline clip-path=\"url(#clip502)\" style=\"stroke:#000000; stroke-width:2; stroke-opacity:0.1; fill:none\" points=\"\n",
       "  1637.52,1486.45 1637.52,47.2441 \n",
       "  \"/>\n",
       "<polyline clip-path=\"url(#clip502)\" style=\"stroke:#000000; stroke-width:2; stroke-opacity:0.1; fill:none\" points=\"\n",
       "  2029.07,1486.45 2029.07,47.2441 \n",
       "  \"/>\n",
       "<polyline clip-path=\"url(#clip500)\" style=\"stroke:#000000; stroke-width:4; stroke-opacity:1; fill:none\" points=\"\n",
       "  139.191,1486.45 2352.76,1486.45 \n",
       "  \"/>\n",
       "<polyline clip-path=\"url(#clip500)\" style=\"stroke:#000000; stroke-width:4; stroke-opacity:1; fill:none\" points=\"\n",
       "  462.873,1486.45 462.873,1469.18 \n",
       "  \"/>\n",
       "<polyline clip-path=\"url(#clip500)\" style=\"stroke:#000000; stroke-width:4; stroke-opacity:1; fill:none\" points=\"\n",
       "  854.423,1486.45 854.423,1469.18 \n",
       "  \"/>\n",
       "<polyline clip-path=\"url(#clip500)\" style=\"stroke:#000000; stroke-width:4; stroke-opacity:1; fill:none\" points=\"\n",
       "  1245.97,1486.45 1245.97,1469.18 \n",
       "  \"/>\n",
       "<polyline clip-path=\"url(#clip500)\" style=\"stroke:#000000; stroke-width:4; stroke-opacity:1; fill:none\" points=\"\n",
       "  1637.52,1486.45 1637.52,1469.18 \n",
       "  \"/>\n",
       "<polyline clip-path=\"url(#clip500)\" style=\"stroke:#000000; stroke-width:4; stroke-opacity:1; fill:none\" points=\"\n",
       "  2029.07,1486.45 2029.07,1469.18 \n",
       "  \"/>\n",
       "<path clip-path=\"url(#clip500)\" d=\"M 0 0 M467.12 1528.49 Q470.477 1529.2 472.352 1531.47 Q474.25 1533.74 474.25 1537.07 Q474.25 1542.19 470.731 1544.99 Q467.213 1547.79 460.731 1547.79 Q458.555 1547.79 456.241 1547.35 Q453.949 1546.93 451.495 1546.08 L451.495 1541.56 Q453.44 1542.7 455.755 1543.28 Q458.069 1543.86 460.593 1543.86 Q464.991 1543.86 467.282 1542.12 Q469.597 1540.38 469.597 1537.07 Q469.597 1534.02 467.444 1532.31 Q465.315 1530.57 461.495 1530.57 L457.468 1530.57 L457.468 1526.73 L461.68 1526.73 Q465.13 1526.73 466.958 1525.36 Q468.787 1523.97 468.787 1521.38 Q468.787 1518.72 466.889 1517.31 Q465.014 1515.87 461.495 1515.87 Q459.574 1515.87 457.375 1516.29 Q455.176 1516.7 452.537 1517.58 L452.537 1513.42 Q455.199 1512.68 457.514 1512.31 Q459.852 1511.93 461.912 1511.93 Q467.236 1511.93 470.338 1514.37 Q473.44 1516.77 473.44 1520.89 Q473.44 1523.76 471.796 1525.75 Q470.153 1527.72 467.12 1528.49 Z\" fill=\"#000000\" fill-rule=\"evenodd\" fill-opacity=\"1\" /><path clip-path=\"url(#clip500)\" d=\"M 0 0 M854.828 1527.98 Q851.68 1527.98 849.828 1530.13 Q847.999 1532.28 847.999 1536.03 Q847.999 1539.76 849.828 1541.93 Q851.68 1544.09 854.828 1544.09 Q857.976 1544.09 859.805 1541.93 Q861.657 1539.76 861.657 1536.03 Q861.657 1532.28 859.805 1530.13 Q857.976 1527.98 854.828 1527.98 M864.11 1513.32 L864.11 1517.58 Q862.351 1516.75 860.546 1516.31 Q858.763 1515.87 857.004 1515.87 Q852.374 1515.87 849.921 1519 Q847.49 1522.12 847.143 1528.44 Q848.509 1526.43 850.569 1525.36 Q852.629 1524.27 855.106 1524.27 Q860.314 1524.27 863.323 1527.44 Q866.356 1530.59 866.356 1536.03 Q866.356 1541.36 863.208 1544.57 Q860.06 1547.79 854.828 1547.79 Q848.833 1547.79 845.661 1543.21 Q842.49 1538.6 842.49 1529.87 Q842.49 1521.68 846.379 1516.82 Q850.268 1511.93 856.819 1511.93 Q858.578 1511.93 860.36 1512.28 Q862.166 1512.63 864.11 1513.32 Z\" fill=\"#000000\" fill-rule=\"evenodd\" fill-opacity=\"1\" /><path clip-path=\"url(#clip500)\" d=\"M 0 0 M1236.27 1546.4 L1236.27 1542.14 Q1238.03 1542.98 1239.84 1543.42 Q1241.64 1543.86 1243.38 1543.86 Q1248.01 1543.86 1250.44 1540.75 Q1252.89 1537.63 1253.24 1531.29 Q1251.9 1533.28 1249.84 1534.34 Q1247.78 1535.41 1245.28 1535.41 Q1240.09 1535.41 1237.06 1532.28 Q1234.05 1529.13 1234.05 1523.69 Q1234.05 1518.37 1237.2 1515.15 Q1240.35 1511.93 1245.58 1511.93 Q1251.58 1511.93 1254.72 1516.54 Q1257.89 1521.12 1257.89 1529.87 Q1257.89 1538.05 1254.01 1542.93 Q1250.14 1547.79 1243.59 1547.79 Q1241.83 1547.79 1240.02 1547.44 Q1238.22 1547.1 1236.27 1546.4 M1245.58 1531.75 Q1248.73 1531.75 1250.56 1529.6 Q1252.41 1527.44 1252.41 1523.69 Q1252.41 1519.97 1250.56 1517.81 Q1248.73 1515.64 1245.58 1515.64 Q1242.43 1515.64 1240.58 1517.81 Q1238.75 1519.97 1238.75 1523.69 Q1238.75 1527.44 1240.58 1529.6 Q1242.43 1531.75 1245.58 1531.75 Z\" fill=\"#000000\" fill-rule=\"evenodd\" fill-opacity=\"1\" /><path clip-path=\"url(#clip500)\" d=\"M 0 0 M1615.2 1543.18 L1622.84 1543.18 L1622.84 1516.82 L1614.53 1518.49 L1614.53 1514.23 L1622.79 1512.56 L1627.47 1512.56 L1627.47 1543.18 L1635.1 1543.18 L1635.1 1547.12 L1615.2 1547.12 L1615.2 1543.18 Z\" fill=\"#000000\" fill-rule=\"evenodd\" fill-opacity=\"1\" /><path clip-path=\"url(#clip500)\" d=\"M 0 0 M1644.2 1543.18 L1660.52 1543.18 L1660.52 1547.12 L1638.58 1547.12 L1638.58 1543.18 Q1641.24 1540.43 1645.82 1535.8 Q1650.43 1531.15 1651.61 1529.81 Q1653.85 1527.28 1654.73 1525.55 Q1655.64 1523.79 1655.64 1522.1 Q1655.64 1519.34 1653.69 1517.61 Q1651.77 1515.87 1648.67 1515.87 Q1646.47 1515.87 1644.02 1516.63 Q1641.59 1517.4 1638.81 1518.95 L1638.81 1514.23 Q1641.63 1513.09 1644.09 1512.51 Q1646.54 1511.93 1648.58 1511.93 Q1653.95 1511.93 1657.14 1514.62 Q1660.34 1517.31 1660.34 1521.8 Q1660.34 1523.93 1659.53 1525.85 Q1658.74 1527.74 1656.63 1530.34 Q1656.05 1531.01 1652.95 1534.23 Q1649.85 1537.42 1644.2 1543.18 Z\" fill=\"#000000\" fill-rule=\"evenodd\" fill-opacity=\"1\" /><path clip-path=\"url(#clip500)\" d=\"M 0 0 M2006.45 1543.18 L2014.09 1543.18 L2014.09 1516.82 L2005.78 1518.49 L2005.78 1514.23 L2014.04 1512.56 L2018.72 1512.56 L2018.72 1543.18 L2026.35 1543.18 L2026.35 1547.12 L2006.45 1547.12 L2006.45 1543.18 Z\" fill=\"#000000\" fill-rule=\"evenodd\" fill-opacity=\"1\" /><path clip-path=\"url(#clip500)\" d=\"M 0 0 M2031.47 1512.56 L2049.83 1512.56 L2049.83 1516.5 L2035.75 1516.5 L2035.75 1524.97 Q2036.77 1524.62 2037.79 1524.46 Q2038.81 1524.27 2039.83 1524.27 Q2045.61 1524.27 2048.99 1527.44 Q2052.37 1530.62 2052.37 1536.03 Q2052.37 1541.61 2048.9 1544.71 Q2045.43 1547.79 2039.11 1547.79 Q2036.93 1547.79 2034.66 1547.42 Q2032.42 1547.05 2030.01 1546.31 L2030.01 1541.61 Q2032.1 1542.74 2034.32 1543.3 Q2036.54 1543.86 2039.02 1543.86 Q2043.02 1543.86 2045.36 1541.75 Q2047.7 1539.64 2047.7 1536.03 Q2047.7 1532.42 2045.36 1530.31 Q2043.02 1528.21 2039.02 1528.21 Q2037.14 1528.21 2035.27 1528.62 Q2033.41 1529.04 2031.47 1529.92 L2031.47 1512.56 Z\" fill=\"#000000\" fill-rule=\"evenodd\" fill-opacity=\"1\" /><polyline clip-path=\"url(#clip502)\" style=\"stroke:#000000; stroke-width:2; stroke-opacity:0.1; fill:none\" points=\"\n",
       "  139.191,1445.72 2352.76,1445.72 \n",
       "  \"/>\n",
       "<polyline clip-path=\"url(#clip502)\" style=\"stroke:#000000; stroke-width:2; stroke-opacity:0.1; fill:none\" points=\"\n",
       "  139.191,1162.85 2352.76,1162.85 \n",
       "  \"/>\n",
       "<polyline clip-path=\"url(#clip502)\" style=\"stroke:#000000; stroke-width:2; stroke-opacity:0.1; fill:none\" points=\"\n",
       "  139.191,879.991 2352.76,879.991 \n",
       "  \"/>\n",
       "<polyline clip-path=\"url(#clip502)\" style=\"stroke:#000000; stroke-width:2; stroke-opacity:0.1; fill:none\" points=\"\n",
       "  139.191,597.129 2352.76,597.129 \n",
       "  \"/>\n",
       "<polyline clip-path=\"url(#clip502)\" style=\"stroke:#000000; stroke-width:2; stroke-opacity:0.1; fill:none\" points=\"\n",
       "  139.191,314.266 2352.76,314.266 \n",
       "  \"/>\n",
       "<polyline clip-path=\"url(#clip500)\" style=\"stroke:#000000; stroke-width:4; stroke-opacity:1; fill:none\" points=\"\n",
       "  139.191,1486.45 139.191,47.2441 \n",
       "  \"/>\n",
       "<polyline clip-path=\"url(#clip500)\" style=\"stroke:#000000; stroke-width:4; stroke-opacity:1; fill:none\" points=\"\n",
       "  139.191,1445.72 165.754,1445.72 \n",
       "  \"/>\n",
       "<polyline clip-path=\"url(#clip500)\" style=\"stroke:#000000; stroke-width:4; stroke-opacity:1; fill:none\" points=\"\n",
       "  139.191,1162.85 165.754,1162.85 \n",
       "  \"/>\n",
       "<polyline clip-path=\"url(#clip500)\" style=\"stroke:#000000; stroke-width:4; stroke-opacity:1; fill:none\" points=\"\n",
       "  139.191,879.991 165.754,879.991 \n",
       "  \"/>\n",
       "<polyline clip-path=\"url(#clip500)\" style=\"stroke:#000000; stroke-width:4; stroke-opacity:1; fill:none\" points=\"\n",
       "  139.191,597.129 165.754,597.129 \n",
       "  \"/>\n",
       "<polyline clip-path=\"url(#clip500)\" style=\"stroke:#000000; stroke-width:4; stroke-opacity:1; fill:none\" points=\"\n",
       "  139.191,314.266 165.754,314.266 \n",
       "  \"/>\n",
       "<path clip-path=\"url(#clip500)\" d=\"M 0 0 M91.2465 1431.51 Q87.6354 1431.51 85.8068 1435.08 Q84.0012 1438.62 84.0012 1445.75 Q84.0012 1452.86 85.8068 1456.42 Q87.6354 1459.96 91.2465 1459.96 Q94.8808 1459.96 96.6863 1456.42 Q98.515 1452.86 98.515 1445.75 Q98.515 1438.62 96.6863 1435.08 Q94.8808 1431.51 91.2465 1431.51 M91.2465 1427.81 Q97.0567 1427.81 100.112 1432.42 Q103.191 1437 103.191 1445.75 Q103.191 1454.48 100.112 1459.08 Q97.0567 1463.67 91.2465 1463.67 Q85.4364 1463.67 82.3577 1459.08 Q79.3022 1454.48 79.3022 1445.75 Q79.3022 1437 82.3577 1432.42 Q85.4364 1427.81 91.2465 1427.81 Z\" fill=\"#000000\" fill-rule=\"evenodd\" fill-opacity=\"1\" /><path clip-path=\"url(#clip500)\" d=\"M 0 0 M59.8578 1176.2 L76.1772 1176.2 L76.1772 1180.13 L54.2328 1180.13 L54.2328 1176.2 Q56.8949 1173.44 61.4782 1168.81 Q66.0846 1164.16 67.2652 1162.82 Q69.5105 1160.3 70.3902 1158.56 Q71.2929 1156.8 71.2929 1155.11 Q71.2929 1152.36 69.3485 1150.62 Q67.4272 1148.88 64.3254 1148.88 Q62.1263 1148.88 59.6726 1149.65 Q57.2421 1150.41 54.4643 1151.96 L54.4643 1147.24 Q57.2884 1146.11 59.7421 1145.53 Q62.1958 1144.95 64.2328 1144.95 Q69.6031 1144.95 72.7976 1147.63 Q75.992 1150.32 75.992 1154.81 Q75.992 1156.94 75.1818 1158.86 Q74.3948 1160.76 72.2883 1163.35 Q71.7096 1164.02 68.6078 1167.24 Q65.5059 1170.43 59.8578 1176.2 Z\" fill=\"#000000\" fill-rule=\"evenodd\" fill-opacity=\"1\" /><path clip-path=\"url(#clip500)\" d=\"M 0 0 M91.2465 1148.65 Q87.6354 1148.65 85.8068 1152.22 Q84.0012 1155.76 84.0012 1162.89 Q84.0012 1169.99 85.8068 1173.56 Q87.6354 1177.1 91.2465 1177.1 Q94.8808 1177.1 96.6863 1173.56 Q98.515 1169.99 98.515 1162.89 Q98.515 1155.76 96.6863 1152.22 Q94.8808 1148.65 91.2465 1148.65 M91.2465 1144.95 Q97.0567 1144.95 100.112 1149.55 Q103.191 1154.14 103.191 1162.89 Q103.191 1171.61 100.112 1176.22 Q97.0567 1180.8 91.2465 1180.8 Q85.4364 1180.8 82.3577 1176.22 Q79.3022 1171.61 79.3022 1162.89 Q79.3022 1154.14 82.3577 1149.55 Q85.4364 1144.95 91.2465 1144.95 Z\" fill=\"#000000\" fill-rule=\"evenodd\" fill-opacity=\"1\" /><path clip-path=\"url(#clip500)\" d=\"M 0 0 M66.5939 866.785 L54.7884 885.234 L66.5939 885.234 L66.5939 866.785 M65.367 862.711 L71.2466 862.711 L71.2466 885.234 L76.1772 885.234 L76.1772 889.123 L71.2466 889.123 L71.2466 897.271 L66.5939 897.271 L66.5939 889.123 L50.9921 889.123 L50.9921 884.609 L65.367 862.711 Z\" fill=\"#000000\" fill-rule=\"evenodd\" fill-opacity=\"1\" /><path clip-path=\"url(#clip500)\" d=\"M 0 0 M91.2465 865.79 Q87.6354 865.79 85.8068 869.354 Q84.0012 872.896 84.0012 880.026 Q84.0012 887.132 85.8068 890.697 Q87.6354 894.239 91.2465 894.239 Q94.8808 894.239 96.6863 890.697 Q98.515 887.132 98.515 880.026 Q98.515 872.896 96.6863 869.354 Q94.8808 865.79 91.2465 865.79 M91.2465 862.086 Q97.0567 862.086 100.112 866.692 Q103.191 871.276 103.191 880.026 Q103.191 888.752 100.112 893.359 Q97.0567 897.942 91.2465 897.942 Q85.4364 897.942 82.3577 893.359 Q79.3022 888.752 79.3022 880.026 Q79.3022 871.276 82.3577 866.692 Q85.4364 862.086 91.2465 862.086 Z\" fill=\"#000000\" fill-rule=\"evenodd\" fill-opacity=\"1\" /><path clip-path=\"url(#clip500)\" d=\"M 0 0 M64.6495 595.265 Q61.5013 595.265 59.6495 597.418 Q57.8208 599.571 57.8208 603.321 Q57.8208 607.047 59.6495 609.223 Q61.5013 611.376 64.6495 611.376 Q67.7976 611.376 69.6263 609.223 Q71.4781 607.047 71.4781 603.321 Q71.4781 599.571 69.6263 597.418 Q67.7976 595.265 64.6495 595.265 M73.9318 580.612 L73.9318 584.872 Q72.1726 584.038 70.367 583.599 Q68.5846 583.159 66.8254 583.159 Q62.1958 583.159 59.7421 586.284 Q57.3115 589.409 56.9643 595.728 Q58.33 593.714 60.3902 592.649 Q62.4504 591.561 64.9272 591.561 Q70.1355 591.561 73.1448 594.733 Q76.1772 597.881 76.1772 603.321 Q76.1772 608.645 73.029 611.862 Q69.8809 615.08 64.6495 615.08 Q58.6541 615.08 55.4828 610.497 Q52.3116 605.89 52.3116 597.163 Q52.3116 588.969 56.2004 584.108 Q60.0893 579.224 66.6402 579.224 Q68.3994 579.224 70.1818 579.571 Q71.9874 579.918 73.9318 580.612 Z\" fill=\"#000000\" fill-rule=\"evenodd\" fill-opacity=\"1\" /><path clip-path=\"url(#clip500)\" d=\"M 0 0 M91.2465 582.927 Q87.6354 582.927 85.8068 586.492 Q84.0012 590.034 84.0012 597.163 Q84.0012 604.27 85.8068 607.835 Q87.6354 611.376 91.2465 611.376 Q94.8808 611.376 96.6863 607.835 Q98.515 604.27 98.515 597.163 Q98.515 590.034 96.6863 586.492 Q94.8808 582.927 91.2465 582.927 M91.2465 579.224 Q97.0567 579.224 100.112 583.83 Q103.191 588.413 103.191 597.163 Q103.191 605.89 100.112 610.497 Q97.0567 615.08 91.2465 615.08 Q85.4364 615.08 82.3577 610.497 Q79.3022 605.89 79.3022 597.163 Q79.3022 588.413 82.3577 583.83 Q85.4364 579.224 91.2465 579.224 Z\" fill=\"#000000\" fill-rule=\"evenodd\" fill-opacity=\"1\" /><path clip-path=\"url(#clip500)\" d=\"M 0 0 M64.3254 315.134 Q60.9921 315.134 59.0708 316.917 Q57.1726 318.699 57.1726 321.824 Q57.1726 324.949 59.0708 326.731 Q60.9921 328.514 64.3254 328.514 Q67.6587 328.514 69.58 326.731 Q71.5013 324.926 71.5013 321.824 Q71.5013 318.699 69.58 316.917 Q67.6819 315.134 64.3254 315.134 M59.6495 313.144 Q56.6402 312.403 54.9504 310.343 Q53.2838 308.282 53.2838 305.319 Q53.2838 301.176 56.2236 298.769 Q59.1865 296.361 64.3254 296.361 Q69.4874 296.361 72.4272 298.769 Q75.367 301.176 75.367 305.319 Q75.367 308.282 73.6772 310.343 Q72.0105 312.403 69.0244 313.144 Q72.404 313.931 74.279 316.222 Q76.1772 318.514 76.1772 321.824 Q76.1772 326.847 73.0985 329.532 Q70.0429 332.217 64.3254 332.217 Q58.6078 332.217 55.5291 329.532 Q52.4736 326.847 52.4736 321.824 Q52.4736 318.514 54.3717 316.222 Q56.2699 313.931 59.6495 313.144 M57.9365 305.759 Q57.9365 308.444 59.6032 309.949 Q61.293 311.454 64.3254 311.454 Q67.3346 311.454 69.0244 309.949 Q70.7374 308.444 70.7374 305.759 Q70.7374 303.074 69.0244 301.569 Q67.3346 300.065 64.3254 300.065 Q61.293 300.065 59.6032 301.569 Q57.9365 303.074 57.9365 305.759 Z\" fill=\"#000000\" fill-rule=\"evenodd\" fill-opacity=\"1\" /><path clip-path=\"url(#clip500)\" d=\"M 0 0 M91.2465 300.065 Q87.6354 300.065 85.8068 303.63 Q84.0012 307.171 84.0012 314.301 Q84.0012 321.407 85.8068 324.972 Q87.6354 328.514 91.2465 328.514 Q94.8808 328.514 96.6863 324.972 Q98.515 321.407 98.515 314.301 Q98.515 307.171 96.6863 303.63 Q94.8808 300.065 91.2465 300.065 M91.2465 296.361 Q97.0567 296.361 100.112 300.968 Q103.191 305.551 103.191 314.301 Q103.191 323.028 100.112 327.634 Q97.0567 332.217 91.2465 332.217 Q85.4364 332.217 82.3577 327.634 Q79.3022 323.028 79.3022 314.301 Q79.3022 305.551 82.3577 300.968 Q85.4364 296.361 91.2465 296.361 Z\" fill=\"#000000\" fill-rule=\"evenodd\" fill-opacity=\"1\" /><polyline clip-path=\"url(#clip502)\" style=\"stroke:#009af9; stroke-width:4; stroke-opacity:1; fill:none\" points=\"\n",
       "  201.839,809.275 332.356,1219.43 462.873,1318.43 593.389,1360.86 723.906,1360.86 854.423,1417.43 984.94,1403.29 1115.46,1417.43 1245.97,1403.29 1376.49,1389.14 \n",
       "  1507.01,1417.43 1637.52,1445.72 1768.04,1445.72 1898.56,1445.72 2029.07,1445.72 2159.59,1445.72 2290.11,1445.72 \n",
       "  \"/>\n",
       "<polyline clip-path=\"url(#clip502)\" style=\"stroke:#e26f46; stroke-width:4; stroke-opacity:1; fill:none\" points=\"\n",
       "  201.839,87.9763 332.356,653.701 462.873,1021.42 593.389,1219.43 723.906,1304.28 854.423,1346.71 984.94,1304.28 1115.46,1332.57 1245.97,1389.14 1376.49,1332.57 \n",
       "  1507.01,1276 1637.52,1276 1768.04,1332.57 1898.56,1290.14 2029.07,1332.57 2159.59,1389.14 2290.11,1445.72 \n",
       "  \"/>\n",
       "<path clip-path=\"url(#clip500)\" d=\"\n",
       "M1827 276.658 L2278.97 276.658 L2278.97 95.2176 L1827 95.2176  Z\n",
       "  \" fill=\"#ffffff\" fill-rule=\"evenodd\" fill-opacity=\"1\"/>\n",
       "<polyline clip-path=\"url(#clip500)\" style=\"stroke:#000000; stroke-width:4; stroke-opacity:1; fill:none\" points=\"\n",
       "  1827,276.658 2278.97,276.658 2278.97,95.2176 1827,95.2176 1827,276.658 \n",
       "  \"/>\n",
       "<polyline clip-path=\"url(#clip500)\" style=\"stroke:#009af9; stroke-width:4; stroke-opacity:1; fill:none\" points=\"\n",
       "  1851.6,155.698 1999.17,155.698 \n",
       "  \"/>\n",
       "<path clip-path=\"url(#clip500)\" d=\"M 0 0 M2042.67 159.714 Q2042.67 155.084 2040.75 152.538 Q2038.86 149.992 2035.41 149.992 Q2031.98 149.992 2030.06 152.538 Q2028.16 155.084 2028.16 159.714 Q2028.16 164.32 2030.06 166.866 Q2031.98 169.413 2035.41 169.413 Q2038.86 169.413 2040.75 166.866 Q2042.67 164.32 2042.67 159.714 M2046.93 169.76 Q2046.93 176.38 2043.99 179.598 Q2041.05 182.839 2034.99 182.839 Q2032.74 182.839 2030.75 182.491 Q2028.76 182.167 2026.89 181.473 L2026.89 177.329 Q2028.76 178.348 2030.59 178.834 Q2032.42 179.32 2034.32 179.32 Q2038.51 179.32 2040.59 177.121 Q2042.67 174.945 2042.67 170.524 L2042.67 168.417 Q2041.36 170.709 2039.29 171.843 Q2037.23 172.978 2034.36 172.978 Q2029.6 172.978 2026.68 169.343 Q2023.76 165.709 2023.76 159.714 Q2023.76 153.695 2026.68 150.061 Q2029.6 146.427 2034.36 146.427 Q2037.23 146.427 2039.29 147.561 Q2041.36 148.695 2042.67 150.987 L2042.67 147.052 L2046.93 147.052 L2046.93 169.76 Z\" fill=\"#000000\" fill-rule=\"evenodd\" fill-opacity=\"1\" /><path clip-path=\"url(#clip500)\" d=\"M 0 0 M2061.45 150.038 Q2058.02 150.038 2056.03 152.723 Q2054.04 155.385 2054.04 160.038 Q2054.04 164.691 2056.01 167.376 Q2058 170.038 2061.45 170.038 Q2064.85 170.038 2066.84 167.353 Q2068.83 164.667 2068.83 160.038 Q2068.83 155.431 2066.84 152.746 Q2064.85 150.038 2061.45 150.038 M2061.45 146.427 Q2067 146.427 2070.17 150.038 Q2073.35 153.649 2073.35 160.038 Q2073.35 166.404 2070.17 170.038 Q2067 173.649 2061.45 173.649 Q2055.87 173.649 2052.7 170.038 Q2049.55 166.404 2049.55 160.038 Q2049.55 153.649 2052.7 150.038 Q2055.87 146.427 2061.45 146.427 Z\" fill=\"#000000\" fill-rule=\"evenodd\" fill-opacity=\"1\" /><path clip-path=\"url(#clip500)\" d=\"M 0 0 M2077.95 136.959 L2082.21 136.959 L2082.21 150.894 L2085.1 148.811 L2086.86 151.265 L2082.21 154.529 L2082.21 172.978 L2077.95 172.978 L2077.95 157.561 L2075.1 159.598 L2073.39 157.144 L2077.95 153.88 L2077.95 136.959 Z\" fill=\"#000000\" fill-rule=\"evenodd\" fill-opacity=\"1\" /><path clip-path=\"url(#clip500)\" d=\"M 0 0 M2113.51 158.95 L2113.51 161.033 L2093.92 161.033 Q2094.2 165.431 2096.56 167.746 Q2098.95 170.038 2103.18 170.038 Q2105.64 170.038 2107.93 169.436 Q2110.24 168.834 2112.51 167.63 L2112.51 171.658 Q2110.22 172.63 2107.81 173.14 Q2105.41 173.649 2102.93 173.649 Q2096.73 173.649 2093.09 170.038 Q2089.48 166.427 2089.48 160.269 Q2089.48 153.904 2092.91 150.177 Q2096.35 146.427 2102.19 146.427 Q2107.42 146.427 2110.45 149.806 Q2113.51 153.163 2113.51 158.95 M2109.25 157.7 Q2109.2 154.205 2107.28 152.121 Q2105.38 150.038 2102.23 150.038 Q2098.67 150.038 2096.52 152.052 Q2094.39 154.066 2094.06 157.723 L2109.25 157.7 M2105.75 172.978 L2108.51 172.978 Q2107.47 174.39 2106.96 175.408 Q2106.47 176.427 2106.47 177.144 Q2106.47 178.209 2107.1 178.741 Q2107.74 179.274 2108.99 179.274 Q2109.73 179.274 2110.45 179.089 Q2111.17 178.927 2111.89 178.579 L2111.89 181.658 Q2111.01 181.89 2110.22 182.005 Q2109.43 182.121 2108.74 182.121 Q2105.91 182.121 2104.57 181.103 Q2103.25 180.107 2103.25 177.954 Q2103.25 176.843 2103.85 175.616 Q2104.48 174.413 2105.75 172.978 Z\" fill=\"#000000\" fill-rule=\"evenodd\" fill-opacity=\"1\" /><path clip-path=\"url(#clip500)\" d=\"M 0 0 M2136.59 160.038 Q2136.59 155.339 2134.64 152.677 Q2132.72 149.992 2129.34 149.992 Q2125.96 149.992 2124.02 152.677 Q2122.1 155.339 2122.1 160.038 Q2122.1 164.737 2124.02 167.422 Q2125.96 170.084 2129.34 170.084 Q2132.72 170.084 2134.64 167.422 Q2136.59 164.737 2136.59 160.038 M2122.1 150.987 Q2123.44 148.672 2125.48 147.561 Q2127.54 146.427 2130.38 146.427 Q2135.1 146.427 2138.04 150.177 Q2141.01 153.927 2141.01 160.038 Q2141.01 166.149 2138.04 169.899 Q2135.1 173.649 2130.38 173.649 Q2127.54 173.649 2125.48 172.538 Q2123.44 171.403 2122.1 169.089 L2122.1 172.978 L2117.81 172.978 L2117.81 136.959 L2122.1 136.959 L2122.1 150.987 Z\" fill=\"#000000\" fill-rule=\"evenodd\" fill-opacity=\"1\" /><path clip-path=\"url(#clip500)\" d=\"M 0 0 M2145.47 147.052 L2149.73 147.052 L2149.73 172.978 L2145.47 172.978 L2145.47 147.052 M2145.47 136.959 L2149.73 136.959 L2149.73 142.353 L2145.47 142.353 L2145.47 136.959 Z\" fill=\"#000000\" fill-rule=\"evenodd\" fill-opacity=\"1\" /><path clip-path=\"url(#clip500)\" d=\"M 0 0 M2176.38 158.95 L2176.38 161.033 L2156.79 161.033 Q2157.07 165.431 2159.43 167.746 Q2161.82 170.038 2166.05 170.038 Q2168.51 170.038 2170.8 169.436 Q2173.11 168.834 2175.38 167.63 L2175.38 171.658 Q2173.09 172.63 2170.68 173.14 Q2168.28 173.649 2165.8 173.649 Q2159.6 173.649 2155.96 170.038 Q2152.35 166.427 2152.35 160.269 Q2152.35 153.904 2155.78 150.177 Q2159.22 146.427 2165.06 146.427 Q2170.29 146.427 2173.32 149.806 Q2176.38 153.163 2176.38 158.95 M2172.12 157.7 Q2172.07 154.205 2170.15 152.121 Q2168.25 150.038 2165.1 150.038 Q2161.54 150.038 2159.39 152.052 Q2157.26 154.066 2156.93 157.723 L2172.12 157.7 Z\" fill=\"#000000\" fill-rule=\"evenodd\" fill-opacity=\"1\" /><polyline clip-path=\"url(#clip500)\" style=\"stroke:#e26f46; stroke-width:4; stroke-opacity:1; fill:none\" points=\"\n",
       "  1851.6,216.178 1999.17,216.178 \n",
       "  \"/>\n",
       "<path clip-path=\"url(#clip500)\" d=\"M 0 0 M2029.09 207.532 L2033.35 207.532 L2033.35 233.921 Q2033.35 238.874 2031.45 241.096 Q2029.57 243.319 2025.38 243.319 L2023.76 243.319 L2023.76 239.708 L2024.9 239.708 Q2027.33 239.708 2028.21 238.573 Q2029.09 237.462 2029.09 233.921 L2029.09 207.532 M2029.09 197.439 L2033.35 197.439 L2033.35 202.833 L2029.09 202.833 L2029.09 197.439 Z\" fill=\"#000000\" fill-rule=\"evenodd\" fill-opacity=\"1\" /><path clip-path=\"url(#clip500)\" d=\"M 0 0 M2049.6 220.425 Q2044.43 220.425 2042.44 221.606 Q2040.45 222.786 2040.45 225.634 Q2040.45 227.902 2041.93 229.245 Q2043.44 230.564 2046.01 230.564 Q2049.55 230.564 2051.68 228.064 Q2053.83 225.541 2053.83 221.374 L2053.83 220.425 L2049.6 220.425 M2058.09 218.666 L2058.09 233.458 L2053.83 233.458 L2053.83 229.522 Q2052.37 231.883 2050.2 233.018 Q2048.02 234.129 2044.87 234.129 Q2040.89 234.129 2038.53 231.907 Q2036.19 229.661 2036.19 225.911 Q2036.19 221.536 2039.11 219.314 Q2042.05 217.092 2047.86 217.092 L2053.83 217.092 L2053.83 216.675 Q2053.83 213.735 2051.89 212.138 Q2049.97 210.518 2046.47 210.518 Q2044.25 210.518 2042.14 211.05 Q2040.04 211.583 2038.09 212.647 L2038.09 208.712 Q2040.43 207.81 2042.63 207.37 Q2044.83 206.907 2046.91 206.907 Q2052.54 206.907 2055.31 209.823 Q2058.09 212.74 2058.09 218.666 Z\" fill=\"#000000\" fill-rule=\"evenodd\" fill-opacity=\"1\" /><path clip-path=\"url(#clip500)\" d=\"M 0 0 M2079.09 208.296 L2079.09 212.323 Q2077.28 211.397 2075.34 210.935 Q2073.39 210.472 2071.31 210.472 Q2068.14 210.472 2066.54 211.444 Q2064.97 212.416 2064.97 214.36 Q2064.97 215.842 2066.1 216.698 Q2067.23 217.532 2070.66 218.296 L2072.12 218.62 Q2076.66 219.592 2078.55 221.374 Q2080.48 223.134 2080.48 226.305 Q2080.48 229.916 2077.6 232.022 Q2074.76 234.129 2069.76 234.129 Q2067.67 234.129 2065.41 233.712 Q2063.16 233.319 2060.66 232.508 L2060.66 228.11 Q2063.02 229.337 2065.31 229.962 Q2067.61 230.564 2069.85 230.564 Q2072.86 230.564 2074.48 229.546 Q2076.1 228.504 2076.1 226.629 Q2076.1 224.893 2074.92 223.967 Q2073.76 223.041 2069.8 222.184 L2068.32 221.837 Q2064.36 221.004 2062.61 219.291 Q2060.85 217.555 2060.85 214.546 Q2060.85 210.888 2063.44 208.898 Q2066.03 206.907 2070.8 206.907 Q2073.16 206.907 2075.24 207.254 Q2077.33 207.601 2079.09 208.296 Z\" fill=\"#000000\" fill-rule=\"evenodd\" fill-opacity=\"1\" /><path clip-path=\"url(#clip500)\" d=\"M 0 0 M2089.16 200.171 L2089.16 207.532 L2097.93 207.532 L2097.93 210.842 L2089.16 210.842 L2089.16 224.916 Q2089.16 228.087 2090.01 228.99 Q2090.89 229.893 2093.55 229.893 L2097.93 229.893 L2097.93 233.458 L2093.55 233.458 Q2088.62 233.458 2086.75 231.629 Q2084.87 229.777 2084.87 224.916 L2084.87 210.842 L2081.75 210.842 L2081.75 207.532 L2084.87 207.532 L2084.87 200.171 L2089.16 200.171 Z\" fill=\"#000000\" fill-rule=\"evenodd\" fill-opacity=\"1\" /><path clip-path=\"url(#clip500)\" d=\"M 0 0 M2117.42 211.513 Q2116.7 211.097 2115.85 210.911 Q2115.01 210.703 2113.99 210.703 Q2110.38 210.703 2108.44 213.064 Q2106.52 215.402 2106.52 219.8 L2106.52 233.458 L2102.23 233.458 L2102.23 207.532 L2106.52 207.532 L2106.52 211.56 Q2107.86 209.198 2110.01 208.064 Q2112.16 206.907 2115.24 206.907 Q2115.68 206.907 2116.22 206.976 Q2116.75 207.023 2117.4 207.138 L2117.42 211.513 Z\" fill=\"#000000\" fill-rule=\"evenodd\" fill-opacity=\"1\" /><path clip-path=\"url(#clip500)\" d=\"M 0 0 M2120.04 207.532 L2140.27 207.532 L2140.27 211.421 L2124.25 230.055 L2140.27 230.055 L2140.27 233.458 L2119.46 233.458 L2119.46 229.569 L2135.48 210.935 L2120.04 210.935 L2120.04 207.532 Z\" fill=\"#000000\" fill-rule=\"evenodd\" fill-opacity=\"1\" /><path clip-path=\"url(#clip500)\" d=\"M 0 0 M2166.91 219.43 L2166.91 221.513 L2147.33 221.513 Q2147.6 225.911 2149.97 228.226 Q2152.35 230.518 2156.59 230.518 Q2159.04 230.518 2161.33 229.916 Q2163.65 229.314 2165.91 228.11 L2165.91 232.138 Q2163.62 233.11 2161.22 233.62 Q2158.81 234.129 2156.33 234.129 Q2150.13 234.129 2146.49 230.518 Q2142.88 226.907 2142.88 220.749 Q2142.88 214.384 2146.31 210.657 Q2149.76 206.907 2155.59 206.907 Q2160.82 206.907 2163.85 210.286 Q2166.91 213.643 2166.91 219.43 M2162.65 218.18 Q2162.6 214.685 2160.68 212.601 Q2158.79 210.518 2155.64 210.518 Q2152.07 210.518 2149.92 212.532 Q2147.79 214.546 2147.47 218.203 L2162.65 218.18 M2159.16 233.458 L2161.91 233.458 Q2160.87 234.87 2160.36 235.888 Q2159.87 236.907 2159.87 237.624 Q2159.87 238.689 2160.5 239.221 Q2161.15 239.754 2162.4 239.754 Q2163.14 239.754 2163.85 239.569 Q2164.57 239.407 2165.29 239.059 L2165.29 242.138 Q2164.41 242.37 2163.62 242.485 Q2162.84 242.601 2162.14 242.601 Q2159.32 242.601 2157.97 241.583 Q2156.66 240.587 2156.66 238.434 Q2156.66 237.323 2157.26 236.096 Q2157.88 234.893 2159.16 233.458 Z\" fill=\"#000000\" fill-rule=\"evenodd\" fill-opacity=\"1\" /><path clip-path=\"url(#clip500)\" d=\"M 0 0 M2189.99 220.518 Q2189.99 215.819 2188.04 213.157 Q2186.12 210.472 2182.74 210.472 Q2179.36 210.472 2177.42 213.157 Q2175.5 215.819 2175.5 220.518 Q2175.5 225.217 2177.42 227.902 Q2179.36 230.564 2182.74 230.564 Q2186.12 230.564 2188.04 227.902 Q2189.99 225.217 2189.99 220.518 M2175.5 211.467 Q2176.84 209.152 2178.88 208.041 Q2180.94 206.907 2183.78 206.907 Q2188.51 206.907 2191.45 210.657 Q2194.41 214.407 2194.41 220.518 Q2194.41 226.629 2191.45 230.379 Q2188.51 234.129 2183.78 234.129 Q2180.94 234.129 2178.88 233.018 Q2176.84 231.883 2175.5 229.569 L2175.5 233.458 L2171.22 233.458 L2171.22 197.439 L2175.5 197.439 L2175.5 211.467 Z\" fill=\"#000000\" fill-rule=\"evenodd\" fill-opacity=\"1\" /><path clip-path=\"url(#clip500)\" d=\"M 0 0 M2198.88 207.532 L2203.14 207.532 L2203.14 233.458 L2198.88 233.458 L2198.88 207.532 M2198.88 197.439 L2203.14 197.439 L2203.14 202.833 L2198.88 202.833 L2198.88 197.439 Z\" fill=\"#000000\" fill-rule=\"evenodd\" fill-opacity=\"1\" /><path clip-path=\"url(#clip500)\" d=\"M 0 0 M2229.78 219.43 L2229.78 221.513 L2210.2 221.513 Q2210.47 225.911 2212.84 228.226 Q2215.22 230.518 2219.46 230.518 Q2221.91 230.518 2224.2 229.916 Q2226.52 229.314 2228.78 228.11 L2228.78 232.138 Q2226.49 233.11 2224.09 233.62 Q2221.68 234.129 2219.2 234.129 Q2213 234.129 2209.36 230.518 Q2205.75 226.907 2205.75 220.749 Q2205.75 214.384 2209.18 210.657 Q2212.63 206.907 2218.46 206.907 Q2223.69 206.907 2226.72 210.286 Q2229.78 213.643 2229.78 219.43 M2225.52 218.18 Q2225.47 214.685 2223.55 212.601 Q2221.66 210.518 2218.51 210.518 Q2214.94 210.518 2212.79 212.532 Q2210.66 214.546 2210.34 218.203 L2225.52 218.18 Z\" fill=\"#000000\" fill-rule=\"evenodd\" fill-opacity=\"1\" /></svg>\n"
      ]
     },
     "execution_count": 35,
     "metadata": {},
     "output_type": "execute_result"
    }
   ],
   "source": [
    "plot(1:size(dying)[1], dying[:,1].+dying[:,3], label=\"gołębie\")\n",
    "plot!(1:size(dying)[1], dying[:,2].+dying[:,4], label=\"jastrzębie\")"
   ]
  },
  {
   "cell_type": "markdown",
   "metadata": {},
   "source": [
    "## funkcja rysująca wykresy"
   ]
  },
  {
   "cell_type": "code",
   "execution_count": 32,
   "metadata": {},
   "outputs": [
    {
     "data": {
      "text/plain": [
       "wykresy_all (generic function with 1 method)"
      ]
     },
     "execution_count": 32,
     "metadata": {},
     "output_type": "execute_result"
    }
   ],
   "source": [
    "function wykresy_all(n,m, g,j,ch_g,ch_j,p)\n",
    "    result = action2(n,m, g,j,ch_g,ch_j,p)\n",
    "    plot(1:size(result)[1], result[:,1], label=\"gołębie\")\n",
    "    plot!(1:size(result)[1], result[:,2], label=\"jastrzębie\")\n",
    "    plot!(1:size(result)[1], result[:,3], label=\"chore gołębie\")\n",
    "    plot!(1:size(result)[1], result[:,4], label=\"chore jastrzębie\")\n",
    "end"
   ]
  },
  {
   "cell_type": "code",
   "execution_count": null,
   "metadata": {},
   "outputs": [],
   "source": [
    "function wykresy_two(n,m, g,j,ch_g,ch_j,p)\n",
    "    result = action2(n,m, g,j,ch_g,ch_j,p)\n",
    "    plot(1:size(result)[1], result[:,1], label=\"gołębie\")\n",
    "    plot!(1:size(result)[1], result[:,2], label=\"jastrzębie\")\n",
    "end"
   ]
  },
  {
   "cell_type": "code",
   "execution_count": 52,
   "metadata": {},
   "outputs": [
    {
     "name": "stdout",
     "output_type": "stream",
     "text": [
      "3, 11, 41, 77\n",
      "0, 11, 14, 38\n",
      "0, 7, 8, 12\n",
      "0, 9, 2, 18\n",
      "0, 9, 0, 4\n",
      "0, 6, 0, 3\n",
      "0, 9, 0, 0\n",
      "0, 8, 0, 0\n",
      "0, 6, 0, 0\n",
      "0, 6, 0, 0\n",
      "0, 2, 0, 0\n",
      "0, 0, 0, 0\n",
      "they all died\n"
     ]
    },
    {
     "data": {
      "image/svg+xml": [
       "<?xml version=\"1.0\" encoding=\"utf-8\"?>\n",
       "<svg xmlns=\"http://www.w3.org/2000/svg\" xmlns:xlink=\"http://www.w3.org/1999/xlink\" width=\"600\" height=\"400\" viewBox=\"0 0 2400 1600\">\n",
       "<defs>\n",
       "  <clipPath id=\"clip140\">\n",
       "    <rect x=\"0\" y=\"0\" width=\"2400\" height=\"1600\"/>\n",
       "  </clipPath>\n",
       "</defs>\n",
       "<path clip-path=\"url(#clip140)\" d=\"\n",
       "M0 1600 L2400 1600 L2400 0 L0 0  Z\n",
       "  \" fill=\"#ffffff\" fill-rule=\"evenodd\" fill-opacity=\"1\"/>\n",
       "<defs>\n",
       "  <clipPath id=\"clip141\">\n",
       "    <rect x=\"480\" y=\"0\" width=\"1681\" height=\"1600\"/>\n",
       "  </clipPath>\n",
       "</defs>\n",
       "<path clip-path=\"url(#clip140)\" d=\"\n",
       "M139.191 1486.45 L2352.76 1486.45 L2352.76 47.2441 L139.191 47.2441  Z\n",
       "  \" fill=\"#ffffff\" fill-rule=\"evenodd\" fill-opacity=\"1\"/>\n",
       "<defs>\n",
       "  <clipPath id=\"clip142\">\n",
       "    <rect x=\"139\" y=\"47\" width=\"2215\" height=\"1440\"/>\n",
       "  </clipPath>\n",
       "</defs>\n",
       "<polyline clip-path=\"url(#clip142)\" style=\"stroke:#000000; stroke-width:2; stroke-opacity:0.1; fill:none\" points=\"\n",
       "  486.603,1486.45 486.603,47.2441 \n",
       "  \"/>\n",
       "<polyline clip-path=\"url(#clip142)\" style=\"stroke:#000000; stroke-width:2; stroke-opacity:0.1; fill:none\" points=\"\n",
       "  961.209,1486.45 961.209,47.2441 \n",
       "  \"/>\n",
       "<polyline clip-path=\"url(#clip142)\" style=\"stroke:#000000; stroke-width:2; stroke-opacity:0.1; fill:none\" points=\"\n",
       "  1435.82,1486.45 1435.82,47.2441 \n",
       "  \"/>\n",
       "<polyline clip-path=\"url(#clip142)\" style=\"stroke:#000000; stroke-width:2; stroke-opacity:0.1; fill:none\" points=\"\n",
       "  1910.42,1486.45 1910.42,47.2441 \n",
       "  \"/>\n",
       "<polyline clip-path=\"url(#clip140)\" style=\"stroke:#000000; stroke-width:4; stroke-opacity:1; fill:none\" points=\"\n",
       "  139.191,1486.45 2352.76,1486.45 \n",
       "  \"/>\n",
       "<polyline clip-path=\"url(#clip140)\" style=\"stroke:#000000; stroke-width:4; stroke-opacity:1; fill:none\" points=\"\n",
       "  486.603,1486.45 486.603,1469.18 \n",
       "  \"/>\n",
       "<polyline clip-path=\"url(#clip140)\" style=\"stroke:#000000; stroke-width:4; stroke-opacity:1; fill:none\" points=\"\n",
       "  961.209,1486.45 961.209,1469.18 \n",
       "  \"/>\n",
       "<polyline clip-path=\"url(#clip140)\" style=\"stroke:#000000; stroke-width:4; stroke-opacity:1; fill:none\" points=\"\n",
       "  1435.82,1486.45 1435.82,1469.18 \n",
       "  \"/>\n",
       "<polyline clip-path=\"url(#clip140)\" style=\"stroke:#000000; stroke-width:4; stroke-opacity:1; fill:none\" points=\"\n",
       "  1910.42,1486.45 1910.42,1469.18 \n",
       "  \"/>\n",
       "<path clip-path=\"url(#clip140)\" d=\"M 0 0 M463.27 1543.18 L479.589 1543.18 L479.589 1547.12 L457.645 1547.12 L457.645 1543.18 Q460.307 1540.43 464.89 1535.8 Q469.497 1531.15 470.677 1529.81 Q472.922 1527.28 473.802 1525.55 Q474.705 1523.79 474.705 1522.1 Q474.705 1519.34 472.76 1517.61 Q470.839 1515.87 467.737 1515.87 Q465.538 1515.87 463.085 1516.63 Q460.654 1517.4 457.876 1518.95 L457.876 1514.23 Q460.7 1513.09 463.154 1512.51 Q465.608 1511.93 467.645 1511.93 Q473.015 1511.93 476.209 1514.62 Q479.404 1517.31 479.404 1521.8 Q479.404 1523.93 478.594 1525.85 Q477.807 1527.74 475.7 1530.34 Q475.122 1531.01 472.02 1534.23 Q468.918 1537.42 463.27 1543.18 Z\" fill=\"#000000\" fill-rule=\"evenodd\" fill-opacity=\"1\" /><path clip-path=\"url(#clip140)\" d=\"M 0 0 M484.658 1541.24 L489.543 1541.24 L489.543 1547.12 L484.658 1547.12 L484.658 1541.24 Z\" fill=\"#000000\" fill-rule=\"evenodd\" fill-opacity=\"1\" /><path clip-path=\"url(#clip140)\" d=\"M 0 0 M494.658 1512.56 L513.015 1512.56 L513.015 1516.5 L498.941 1516.5 L498.941 1524.97 Q499.959 1524.62 500.978 1524.46 Q501.996 1524.27 503.015 1524.27 Q508.802 1524.27 512.181 1527.44 Q515.561 1530.62 515.561 1536.03 Q515.561 1541.61 512.089 1544.71 Q508.617 1547.79 502.297 1547.79 Q500.121 1547.79 497.853 1547.42 Q495.608 1547.05 493.2 1546.31 L493.2 1541.61 Q495.283 1542.74 497.506 1543.3 Q499.728 1543.86 502.205 1543.86 Q506.209 1543.86 508.547 1541.75 Q510.885 1539.64 510.885 1536.03 Q510.885 1532.42 508.547 1530.31 Q506.209 1528.21 502.205 1528.21 Q500.33 1528.21 498.455 1528.62 Q496.603 1529.04 494.658 1529.92 L494.658 1512.56 Z\" fill=\"#000000\" fill-rule=\"evenodd\" fill-opacity=\"1\" /><path clip-path=\"url(#clip140)\" d=\"M 0 0 M933.004 1512.56 L951.36 1512.56 L951.36 1516.5 L937.286 1516.5 L937.286 1524.97 Q938.305 1524.62 939.323 1524.46 Q940.342 1524.27 941.36 1524.27 Q947.147 1524.27 950.527 1527.44 Q953.906 1530.62 953.906 1536.03 Q953.906 1541.61 950.434 1544.71 Q946.962 1547.79 940.642 1547.79 Q938.467 1547.79 936.198 1547.42 Q933.953 1547.05 931.545 1546.31 L931.545 1541.61 Q933.629 1542.74 935.851 1543.3 Q938.073 1543.86 940.55 1543.86 Q944.554 1543.86 946.892 1541.75 Q949.23 1539.64 949.23 1536.03 Q949.23 1532.42 946.892 1530.31 Q944.554 1528.21 940.55 1528.21 Q938.675 1528.21 936.8 1528.62 Q934.948 1529.04 933.004 1529.92 L933.004 1512.56 Z\" fill=\"#000000\" fill-rule=\"evenodd\" fill-opacity=\"1\" /><path clip-path=\"url(#clip140)\" d=\"M 0 0 M958.976 1541.24 L963.86 1541.24 L963.86 1547.12 L958.976 1547.12 L958.976 1541.24 Z\" fill=\"#000000\" fill-rule=\"evenodd\" fill-opacity=\"1\" /><path clip-path=\"url(#clip140)\" d=\"M 0 0 M978.929 1515.64 Q975.318 1515.64 973.49 1519.2 Q971.684 1522.75 971.684 1529.87 Q971.684 1536.98 973.49 1540.55 Q975.318 1544.09 978.929 1544.09 Q982.564 1544.09 984.369 1540.55 Q986.198 1536.98 986.198 1529.87 Q986.198 1522.75 984.369 1519.2 Q982.564 1515.64 978.929 1515.64 M978.929 1511.93 Q984.739 1511.93 987.795 1516.54 Q990.874 1521.12 990.874 1529.87 Q990.874 1538.6 987.795 1543.21 Q984.739 1547.79 978.929 1547.79 Q973.119 1547.79 970.04 1543.21 Q966.985 1538.6 966.985 1529.87 Q966.985 1521.12 970.04 1516.54 Q973.119 1511.93 978.929 1511.93 Z\" fill=\"#000000\" fill-rule=\"evenodd\" fill-opacity=\"1\" /><path clip-path=\"url(#clip140)\" d=\"M 0 0 M1406.72 1512.56 L1428.94 1512.56 L1428.94 1514.55 L1416.39 1547.12 L1411.51 1547.12 L1423.32 1516.5 L1406.72 1516.5 L1406.72 1512.56 Z\" fill=\"#000000\" fill-rule=\"evenodd\" fill-opacity=\"1\" /><path clip-path=\"url(#clip140)\" d=\"M 0 0 M1434.01 1541.24 L1438.89 1541.24 L1438.89 1547.12 L1434.01 1547.12 L1434.01 1541.24 Z\" fill=\"#000000\" fill-rule=\"evenodd\" fill-opacity=\"1\" /><path clip-path=\"url(#clip140)\" d=\"M 0 0 M1444.01 1512.56 L1462.37 1512.56 L1462.37 1516.5 L1448.29 1516.5 L1448.29 1524.97 Q1449.31 1524.62 1450.33 1524.46 Q1451.35 1524.27 1452.37 1524.27 Q1458.15 1524.27 1461.53 1527.44 Q1464.91 1530.62 1464.91 1536.03 Q1464.91 1541.61 1461.44 1544.71 Q1457.97 1547.79 1451.65 1547.79 Q1449.47 1547.79 1447.2 1547.42 Q1444.96 1547.05 1442.55 1546.31 L1442.55 1541.61 Q1444.64 1542.74 1446.86 1543.3 Q1449.08 1543.86 1451.56 1543.86 Q1455.56 1543.86 1457.9 1541.75 Q1460.24 1539.64 1460.24 1536.03 Q1460.24 1532.42 1457.9 1530.31 Q1455.56 1528.21 1451.56 1528.21 Q1449.68 1528.21 1447.81 1528.62 Q1445.95 1529.04 1444.01 1529.92 L1444.01 1512.56 Z\" fill=\"#000000\" fill-rule=\"evenodd\" fill-opacity=\"1\" /><path clip-path=\"url(#clip140)\" d=\"M 0 0 M1868.81 1543.18 L1876.45 1543.18 L1876.45 1516.82 L1868.14 1518.49 L1868.14 1514.23 L1876.41 1512.56 L1881.08 1512.56 L1881.08 1543.18 L1888.72 1543.18 L1888.72 1547.12 L1868.81 1547.12 L1868.81 1543.18 Z\" fill=\"#000000\" fill-rule=\"evenodd\" fill-opacity=\"1\" /><path clip-path=\"url(#clip140)\" d=\"M 0 0 M1903.79 1515.64 Q1900.18 1515.64 1898.35 1519.2 Q1896.55 1522.75 1896.55 1529.87 Q1896.55 1536.98 1898.35 1540.55 Q1900.18 1544.09 1903.79 1544.09 Q1907.42 1544.09 1909.23 1540.55 Q1911.06 1536.98 1911.06 1529.87 Q1911.06 1522.75 1909.23 1519.2 Q1907.42 1515.64 1903.79 1515.64 M1903.79 1511.93 Q1909.6 1511.93 1912.66 1516.54 Q1915.74 1521.12 1915.74 1529.87 Q1915.74 1538.6 1912.66 1543.21 Q1909.6 1547.79 1903.79 1547.79 Q1897.98 1547.79 1894.9 1543.21 Q1891.85 1538.6 1891.85 1529.87 Q1891.85 1521.12 1894.9 1516.54 Q1897.98 1511.93 1903.79 1511.93 Z\" fill=\"#000000\" fill-rule=\"evenodd\" fill-opacity=\"1\" /><path clip-path=\"url(#clip140)\" d=\"M 0 0 M1920.8 1541.24 L1925.69 1541.24 L1925.69 1547.12 L1920.8 1547.12 L1920.8 1541.24 Z\" fill=\"#000000\" fill-rule=\"evenodd\" fill-opacity=\"1\" /><path clip-path=\"url(#clip140)\" d=\"M 0 0 M1940.76 1515.64 Q1937.15 1515.64 1935.32 1519.2 Q1933.51 1522.75 1933.51 1529.87 Q1933.51 1536.98 1935.32 1540.55 Q1937.15 1544.09 1940.76 1544.09 Q1944.39 1544.09 1946.2 1540.55 Q1948.03 1536.98 1948.03 1529.87 Q1948.03 1522.75 1946.2 1519.2 Q1944.39 1515.64 1940.76 1515.64 M1940.76 1511.93 Q1946.57 1511.93 1949.62 1516.54 Q1952.7 1521.12 1952.7 1529.87 Q1952.7 1538.6 1949.62 1543.21 Q1946.57 1547.79 1940.76 1547.79 Q1934.95 1547.79 1931.87 1543.21 Q1928.81 1538.6 1928.81 1529.87 Q1928.81 1521.12 1931.87 1516.54 Q1934.95 1511.93 1940.76 1511.93 Z\" fill=\"#000000\" fill-rule=\"evenodd\" fill-opacity=\"1\" /><polyline clip-path=\"url(#clip142)\" style=\"stroke:#000000; stroke-width:2; stroke-opacity:0.1; fill:none\" points=\"\n",
       "  139.191,1445.72 2352.76,1445.72 \n",
       "  \"/>\n",
       "<polyline clip-path=\"url(#clip142)\" style=\"stroke:#000000; stroke-width:2; stroke-opacity:0.1; fill:none\" points=\"\n",
       "  139.191,1093.06 2352.76,1093.06 \n",
       "  \"/>\n",
       "<polyline clip-path=\"url(#clip142)\" style=\"stroke:#000000; stroke-width:2; stroke-opacity:0.1; fill:none\" points=\"\n",
       "  139.191,740.397 2352.76,740.397 \n",
       "  \"/>\n",
       "<polyline clip-path=\"url(#clip142)\" style=\"stroke:#000000; stroke-width:2; stroke-opacity:0.1; fill:none\" points=\"\n",
       "  139.191,387.737 2352.76,387.737 \n",
       "  \"/>\n",
       "<polyline clip-path=\"url(#clip140)\" style=\"stroke:#000000; stroke-width:4; stroke-opacity:1; fill:none\" points=\"\n",
       "  139.191,1486.45 139.191,47.2441 \n",
       "  \"/>\n",
       "<polyline clip-path=\"url(#clip140)\" style=\"stroke:#000000; stroke-width:4; stroke-opacity:1; fill:none\" points=\"\n",
       "  139.191,1445.72 165.754,1445.72 \n",
       "  \"/>\n",
       "<polyline clip-path=\"url(#clip140)\" style=\"stroke:#000000; stroke-width:4; stroke-opacity:1; fill:none\" points=\"\n",
       "  139.191,1093.06 165.754,1093.06 \n",
       "  \"/>\n",
       "<polyline clip-path=\"url(#clip140)\" style=\"stroke:#000000; stroke-width:4; stroke-opacity:1; fill:none\" points=\"\n",
       "  139.191,740.397 165.754,740.397 \n",
       "  \"/>\n",
       "<polyline clip-path=\"url(#clip140)\" style=\"stroke:#000000; stroke-width:4; stroke-opacity:1; fill:none\" points=\"\n",
       "  139.191,387.737 165.754,387.737 \n",
       "  \"/>\n",
       "<path clip-path=\"url(#clip140)\" d=\"M 0 0 M91.2465 1431.51 Q87.6354 1431.51 85.8068 1435.08 Q84.0012 1438.62 84.0012 1445.75 Q84.0012 1452.86 85.8068 1456.42 Q87.6354 1459.96 91.2465 1459.96 Q94.8808 1459.96 96.6863 1456.42 Q98.515 1452.86 98.515 1445.75 Q98.515 1438.62 96.6863 1435.08 Q94.8808 1431.51 91.2465 1431.51 M91.2465 1427.81 Q97.0567 1427.81 100.112 1432.42 Q103.191 1437 103.191 1445.75 Q103.191 1454.48 100.112 1459.08 Q97.0567 1463.67 91.2465 1463.67 Q85.4364 1463.67 82.3577 1459.08 Q79.3022 1454.48 79.3022 1445.75 Q79.3022 1437 82.3577 1432.42 Q85.4364 1427.81 91.2465 1427.81 Z\" fill=\"#000000\" fill-rule=\"evenodd\" fill-opacity=\"1\" /><path clip-path=\"url(#clip140)\" d=\"M 0 0 M59.8578 1106.4 L76.1772 1106.4 L76.1772 1110.34 L54.2328 1110.34 L54.2328 1106.4 Q56.8949 1103.65 61.4782 1099.02 Q66.0846 1094.36 67.2652 1093.02 Q69.5105 1090.5 70.3902 1088.76 Q71.2929 1087 71.2929 1085.31 Q71.2929 1082.56 69.3485 1080.82 Q67.4272 1079.09 64.3254 1079.09 Q62.1263 1079.09 59.6726 1079.85 Q57.2421 1080.61 54.4643 1082.16 L54.4643 1077.44 Q57.2884 1076.31 59.7421 1075.73 Q62.1958 1075.15 64.2328 1075.15 Q69.6031 1075.15 72.7976 1077.84 Q75.992 1080.52 75.992 1085.01 Q75.992 1087.14 75.1818 1089.06 Q74.3948 1090.96 72.2883 1093.55 Q71.7096 1094.23 68.6078 1097.44 Q65.5059 1100.64 59.8578 1106.4 Z\" fill=\"#000000\" fill-rule=\"evenodd\" fill-opacity=\"1\" /><path clip-path=\"url(#clip140)\" d=\"M 0 0 M91.2465 1078.85 Q87.6354 1078.85 85.8068 1082.42 Q84.0012 1085.96 84.0012 1093.09 Q84.0012 1100.2 85.8068 1103.76 Q87.6354 1107.3 91.2465 1107.3 Q94.8808 1107.3 96.6863 1103.76 Q98.515 1100.2 98.515 1093.09 Q98.515 1085.96 96.6863 1082.42 Q94.8808 1078.85 91.2465 1078.85 M91.2465 1075.15 Q97.0567 1075.15 100.112 1079.76 Q103.191 1084.34 103.191 1093.09 Q103.191 1101.82 100.112 1106.42 Q97.0567 1111.01 91.2465 1111.01 Q85.4364 1111.01 82.3577 1106.42 Q79.3022 1101.82 79.3022 1093.09 Q79.3022 1084.34 82.3577 1079.76 Q85.4364 1075.15 91.2465 1075.15 Z\" fill=\"#000000\" fill-rule=\"evenodd\" fill-opacity=\"1\" /><path clip-path=\"url(#clip140)\" d=\"M 0 0 M66.5939 727.191 L54.7884 745.64 L66.5939 745.64 L66.5939 727.191 M65.367 723.117 L71.2466 723.117 L71.2466 745.64 L76.1772 745.64 L76.1772 749.528 L71.2466 749.528 L71.2466 757.677 L66.5939 757.677 L66.5939 749.528 L50.9921 749.528 L50.9921 745.015 L65.367 723.117 Z\" fill=\"#000000\" fill-rule=\"evenodd\" fill-opacity=\"1\" /><path clip-path=\"url(#clip140)\" d=\"M 0 0 M91.2465 726.195 Q87.6354 726.195 85.8068 729.76 Q84.0012 733.302 84.0012 740.431 Q84.0012 747.538 85.8068 751.102 Q87.6354 754.644 91.2465 754.644 Q94.8808 754.644 96.6863 751.102 Q98.515 747.538 98.515 740.431 Q98.515 733.302 96.6863 729.76 Q94.8808 726.195 91.2465 726.195 M91.2465 722.492 Q97.0567 722.492 100.112 727.098 Q103.191 731.681 103.191 740.431 Q103.191 749.158 100.112 753.764 Q97.0567 758.348 91.2465 758.348 Q85.4364 758.348 82.3577 753.764 Q79.3022 749.158 79.3022 740.431 Q79.3022 731.681 82.3577 727.098 Q85.4364 722.492 91.2465 722.492 Z\" fill=\"#000000\" fill-rule=\"evenodd\" fill-opacity=\"1\" /><path clip-path=\"url(#clip140)\" d=\"M 0 0 M64.6495 385.874 Q61.5013 385.874 59.6495 388.026 Q57.8208 390.179 57.8208 393.929 Q57.8208 397.656 59.6495 399.832 Q61.5013 401.985 64.6495 401.985 Q67.7976 401.985 69.6263 399.832 Q71.4781 397.656 71.4781 393.929 Q71.4781 390.179 69.6263 388.026 Q67.7976 385.874 64.6495 385.874 M73.9318 371.221 L73.9318 375.48 Q72.1726 374.647 70.367 374.207 Q68.5846 373.767 66.8254 373.767 Q62.1958 373.767 59.7421 376.892 Q57.3115 380.017 56.9643 386.336 Q58.33 384.323 60.3902 383.258 Q62.4504 382.17 64.9272 382.17 Q70.1355 382.17 73.1448 385.341 Q76.1772 388.489 76.1772 393.929 Q76.1772 399.253 73.029 402.471 Q69.8809 405.688 64.6495 405.688 Q58.6541 405.688 55.4828 401.105 Q52.3116 396.498 52.3116 387.772 Q52.3116 379.577 56.2004 374.716 Q60.0893 369.832 66.6402 369.832 Q68.3994 369.832 70.1818 370.179 Q71.9874 370.526 73.9318 371.221 Z\" fill=\"#000000\" fill-rule=\"evenodd\" fill-opacity=\"1\" /><path clip-path=\"url(#clip140)\" d=\"M 0 0 M91.2465 373.536 Q87.6354 373.536 85.8068 377.1 Q84.0012 380.642 84.0012 387.772 Q84.0012 394.878 85.8068 398.443 Q87.6354 401.985 91.2465 401.985 Q94.8808 401.985 96.6863 398.443 Q98.515 394.878 98.515 387.772 Q98.515 380.642 96.6863 377.1 Q94.8808 373.536 91.2465 373.536 M91.2465 369.832 Q97.0567 369.832 100.112 374.438 Q103.191 379.022 103.191 387.772 Q103.191 396.498 100.112 401.105 Q97.0567 405.688 91.2465 405.688 Q85.4364 405.688 82.3577 401.105 Q79.3022 396.498 79.3022 387.772 Q79.3022 379.022 82.3577 374.438 Q85.4364 369.832 91.2465 369.832 Z\" fill=\"#000000\" fill-rule=\"evenodd\" fill-opacity=\"1\" /><polyline clip-path=\"url(#clip142)\" style=\"stroke:#009af9; stroke-width:4; stroke-opacity:1; fill:none\" points=\"\n",
       "  201.839,1392.82 391.682,1445.72 581.524,1445.72 771.367,1445.72 961.209,1445.72 1151.05,1445.72 1340.89,1445.72 1530.74,1445.72 1720.58,1445.72 1910.42,1445.72 \n",
       "  2100.27,1445.72 2290.11,1445.72 \n",
       "  \"/>\n",
       "<polyline clip-path=\"url(#clip142)\" style=\"stroke:#e26f46; stroke-width:4; stroke-opacity:1; fill:none\" points=\"\n",
       "  201.839,1251.75 391.682,1251.75 581.524,1322.28 771.367,1287.02 961.209,1287.02 1151.05,1339.92 1340.89,1287.02 1530.74,1304.65 1720.58,1339.92 1910.42,1339.92 \n",
       "  2100.27,1410.45 2290.11,1445.72 \n",
       "  \"/>\n",
       "<polyline clip-path=\"url(#clip142)\" style=\"stroke:#3da44d; stroke-width:4; stroke-opacity:1; fill:none\" points=\"\n",
       "  201.839,722.764 391.682,1198.85 581.524,1304.65 771.367,1410.45 961.209,1445.72 1151.05,1445.72 1340.89,1445.72 1530.74,1445.72 1720.58,1445.72 1910.42,1445.72 \n",
       "  2100.27,1445.72 2290.11,1445.72 \n",
       "  \"/>\n",
       "<polyline clip-path=\"url(#clip142)\" style=\"stroke:#c271d2; stroke-width:4; stroke-opacity:1; fill:none\" points=\"\n",
       "  201.839,87.9763 391.682,775.662 581.524,1234.12 771.367,1128.32 961.209,1375.18 1151.05,1392.82 1340.89,1445.72 1530.74,1445.72 1720.58,1445.72 1910.42,1445.72 \n",
       "  2100.27,1445.72 2290.11,1445.72 \n",
       "  \"/>\n",
       "<path clip-path=\"url(#clip140)\" d=\"\n",
       "M1694.76 397.618 L2278.97 397.618 L2278.97 95.2176 L1694.76 95.2176  Z\n",
       "  \" fill=\"#ffffff\" fill-rule=\"evenodd\" fill-opacity=\"1\"/>\n",
       "<polyline clip-path=\"url(#clip140)\" style=\"stroke:#000000; stroke-width:4; stroke-opacity:1; fill:none\" points=\"\n",
       "  1694.76,397.618 2278.97,397.618 2278.97,95.2176 1694.76,95.2176 1694.76,397.618 \n",
       "  \"/>\n",
       "<polyline clip-path=\"url(#clip140)\" style=\"stroke:#009af9; stroke-width:4; stroke-opacity:1; fill:none\" points=\"\n",
       "  1719.35,155.698 1866.92,155.698 \n",
       "  \"/>\n",
       "<path clip-path=\"url(#clip140)\" d=\"M 0 0 M1910.43 159.714 Q1910.43 155.084 1908.51 152.538 Q1906.61 149.992 1903.16 149.992 Q1899.74 149.992 1897.81 152.538 Q1895.92 155.084 1895.92 159.714 Q1895.92 164.32 1897.81 166.866 Q1899.74 169.413 1903.16 169.413 Q1906.61 169.413 1908.51 166.866 Q1910.43 164.32 1910.43 159.714 M1914.69 169.76 Q1914.69 176.38 1911.75 179.598 Q1908.81 182.839 1902.74 182.839 Q1900.5 182.839 1898.51 182.491 Q1896.52 182.167 1894.64 181.473 L1894.64 177.329 Q1896.52 178.348 1898.35 178.834 Q1900.18 179.32 1902.07 179.32 Q1906.26 179.32 1908.35 177.121 Q1910.43 174.945 1910.43 170.524 L1910.43 168.417 Q1909.11 170.709 1907.05 171.843 Q1904.99 172.978 1902.12 172.978 Q1897.35 172.978 1894.43 169.343 Q1891.52 165.709 1891.52 159.714 Q1891.52 153.695 1894.43 150.061 Q1897.35 146.427 1902.12 146.427 Q1904.99 146.427 1907.05 147.561 Q1909.11 148.695 1910.43 150.987 L1910.43 147.052 L1914.69 147.052 L1914.69 169.76 Z\" fill=\"#000000\" fill-rule=\"evenodd\" fill-opacity=\"1\" /><path clip-path=\"url(#clip140)\" d=\"M 0 0 M1929.2 150.038 Q1925.78 150.038 1923.79 152.723 Q1921.8 155.385 1921.8 160.038 Q1921.8 164.691 1923.76 167.376 Q1925.75 170.038 1929.2 170.038 Q1932.61 170.038 1934.6 167.353 Q1936.59 164.667 1936.59 160.038 Q1936.59 155.431 1934.6 152.746 Q1932.61 150.038 1929.2 150.038 M1929.2 146.427 Q1934.76 146.427 1937.93 150.038 Q1941.1 153.649 1941.1 160.038 Q1941.1 166.404 1937.93 170.038 Q1934.76 173.649 1929.2 173.649 Q1923.62 173.649 1920.45 170.038 Q1917.3 166.404 1917.3 160.038 Q1917.3 153.649 1920.45 150.038 Q1923.62 146.427 1929.2 146.427 Z\" fill=\"#000000\" fill-rule=\"evenodd\" fill-opacity=\"1\" /><path clip-path=\"url(#clip140)\" d=\"M 0 0 M1945.71 136.959 L1949.97 136.959 L1949.97 150.894 L1952.86 148.811 L1954.62 151.265 L1949.97 154.529 L1949.97 172.978 L1945.71 172.978 L1945.71 157.561 L1942.86 159.598 L1941.15 157.144 L1945.71 153.88 L1945.71 136.959 Z\" fill=\"#000000\" fill-rule=\"evenodd\" fill-opacity=\"1\" /><path clip-path=\"url(#clip140)\" d=\"M 0 0 M1981.26 158.95 L1981.26 161.033 L1961.68 161.033 Q1961.96 165.431 1964.32 167.746 Q1966.7 170.038 1970.94 170.038 Q1973.39 170.038 1975.68 169.436 Q1978 168.834 1980.27 167.63 L1980.27 171.658 Q1977.98 172.63 1975.57 173.14 Q1973.16 173.649 1970.68 173.649 Q1964.48 173.649 1960.85 170.038 Q1957.24 166.427 1957.24 160.269 Q1957.24 153.904 1960.66 150.177 Q1964.11 146.427 1969.94 146.427 Q1975.17 146.427 1978.21 149.806 Q1981.26 153.163 1981.26 158.95 M1977 157.7 Q1976.96 154.205 1975.04 152.121 Q1973.14 150.038 1969.99 150.038 Q1966.43 150.038 1964.27 152.052 Q1962.14 154.066 1961.82 157.723 L1977 157.7 M1973.51 172.978 L1976.26 172.978 Q1975.22 174.39 1974.71 175.408 Q1974.23 176.427 1974.23 177.144 Q1974.23 178.209 1974.85 178.741 Q1975.5 179.274 1976.75 179.274 Q1977.49 179.274 1978.21 179.089 Q1978.92 178.927 1979.64 178.579 L1979.64 181.658 Q1978.76 181.89 1977.98 182.005 Q1977.19 182.121 1976.49 182.121 Q1973.67 182.121 1972.33 181.103 Q1971.01 180.107 1971.01 177.954 Q1971.01 176.843 1971.61 175.616 Q1972.24 174.413 1973.51 172.978 Z\" fill=\"#000000\" fill-rule=\"evenodd\" fill-opacity=\"1\" /><path clip-path=\"url(#clip140)\" d=\"M 0 0 M2004.34 160.038 Q2004.34 155.339 2002.4 152.677 Q2000.48 149.992 1997.1 149.992 Q1993.72 149.992 1991.77 152.677 Q1989.85 155.339 1989.85 160.038 Q1989.85 164.737 1991.77 167.422 Q1993.72 170.084 1997.1 170.084 Q2000.48 170.084 2002.4 167.422 Q2004.34 164.737 2004.34 160.038 M1989.85 150.987 Q1991.19 148.672 1993.23 147.561 Q1995.29 146.427 1998.14 146.427 Q2002.86 146.427 2005.8 150.177 Q2008.76 153.927 2008.76 160.038 Q2008.76 166.149 2005.8 169.899 Q2002.86 173.649 1998.14 173.649 Q1995.29 173.649 1993.23 172.538 Q1991.19 171.403 1989.85 169.089 L1989.85 172.978 L1985.57 172.978 L1985.57 136.959 L1989.85 136.959 L1989.85 150.987 Z\" fill=\"#000000\" fill-rule=\"evenodd\" fill-opacity=\"1\" /><path clip-path=\"url(#clip140)\" d=\"M 0 0 M2013.23 147.052 L2017.49 147.052 L2017.49 172.978 L2013.23 172.978 L2013.23 147.052 M2013.23 136.959 L2017.49 136.959 L2017.49 142.353 L2013.23 142.353 L2013.23 136.959 Z\" fill=\"#000000\" fill-rule=\"evenodd\" fill-opacity=\"1\" /><path clip-path=\"url(#clip140)\" d=\"M 0 0 M2044.13 158.95 L2044.13 161.033 L2024.55 161.033 Q2024.83 165.431 2027.19 167.746 Q2029.57 170.038 2033.81 170.038 Q2036.26 170.038 2038.55 169.436 Q2040.87 168.834 2043.14 167.63 L2043.14 171.658 Q2040.85 172.63 2038.44 173.14 Q2036.03 173.649 2033.55 173.649 Q2027.35 173.649 2023.72 170.038 Q2020.11 166.427 2020.11 160.269 Q2020.11 153.904 2023.53 150.177 Q2026.98 146.427 2032.81 146.427 Q2038.04 146.427 2041.08 149.806 Q2044.13 153.163 2044.13 158.95 M2039.87 157.7 Q2039.83 154.205 2037.91 152.121 Q2036.01 150.038 2032.86 150.038 Q2029.3 150.038 2027.14 152.052 Q2025.01 154.066 2024.69 157.723 L2039.87 157.7 Z\" fill=\"#000000\" fill-rule=\"evenodd\" fill-opacity=\"1\" /><polyline clip-path=\"url(#clip140)\" style=\"stroke:#e26f46; stroke-width:4; stroke-opacity:1; fill:none\" points=\"\n",
       "  1719.35,216.178 1866.92,216.178 \n",
       "  \"/>\n",
       "<path clip-path=\"url(#clip140)\" d=\"M 0 0 M1896.84 207.532 L1901.1 207.532 L1901.1 233.921 Q1901.1 238.874 1899.2 241.096 Q1897.33 243.319 1893.14 243.319 L1891.52 243.319 L1891.52 239.708 L1892.65 239.708 Q1895.08 239.708 1895.96 238.573 Q1896.84 237.462 1896.84 233.921 L1896.84 207.532 M1896.84 197.439 L1901.1 197.439 L1901.1 202.833 L1896.84 202.833 L1896.84 197.439 Z\" fill=\"#000000\" fill-rule=\"evenodd\" fill-opacity=\"1\" /><path clip-path=\"url(#clip140)\" d=\"M 0 0 M1917.35 220.425 Q1912.19 220.425 1910.2 221.606 Q1908.21 222.786 1908.21 225.634 Q1908.21 227.902 1909.69 229.245 Q1911.19 230.564 1913.76 230.564 Q1917.3 230.564 1919.43 228.064 Q1921.59 225.541 1921.59 221.374 L1921.59 220.425 L1917.35 220.425 M1925.85 218.666 L1925.85 233.458 L1921.59 233.458 L1921.59 229.522 Q1920.13 231.883 1917.95 233.018 Q1915.78 234.129 1912.63 234.129 Q1908.65 234.129 1906.29 231.907 Q1903.95 229.661 1903.95 225.911 Q1903.95 221.536 1906.87 219.314 Q1909.8 217.092 1915.62 217.092 L1921.59 217.092 L1921.59 216.675 Q1921.59 213.735 1919.64 212.138 Q1917.72 210.518 1914.23 210.518 Q1912 210.518 1909.9 211.05 Q1907.79 211.583 1905.85 212.647 L1905.85 208.712 Q1908.18 207.81 1910.38 207.37 Q1912.58 206.907 1914.67 206.907 Q1920.29 206.907 1923.07 209.823 Q1925.85 212.74 1925.85 218.666 Z\" fill=\"#000000\" fill-rule=\"evenodd\" fill-opacity=\"1\" /><path clip-path=\"url(#clip140)\" d=\"M 0 0 M1946.84 208.296 L1946.84 212.323 Q1945.04 211.397 1943.09 210.935 Q1941.15 210.472 1939.06 210.472 Q1935.89 210.472 1934.3 211.444 Q1932.72 212.416 1932.72 214.36 Q1932.72 215.842 1933.86 216.698 Q1934.99 217.532 1938.42 218.296 L1939.87 218.62 Q1944.41 219.592 1946.31 221.374 Q1948.23 223.134 1948.23 226.305 Q1948.23 229.916 1945.36 232.022 Q1942.51 234.129 1937.51 234.129 Q1935.43 234.129 1933.16 233.712 Q1930.92 233.319 1928.42 232.508 L1928.42 228.11 Q1930.78 229.337 1933.07 229.962 Q1935.36 230.564 1937.61 230.564 Q1940.61 230.564 1942.24 229.546 Q1943.86 228.504 1943.86 226.629 Q1943.86 224.893 1942.68 223.967 Q1941.52 223.041 1937.56 222.184 L1936.08 221.837 Q1932.12 221.004 1930.36 219.291 Q1928.6 217.555 1928.6 214.546 Q1928.6 210.888 1931.19 208.898 Q1933.79 206.907 1938.55 206.907 Q1940.92 206.907 1943 207.254 Q1945.08 207.601 1946.84 208.296 Z\" fill=\"#000000\" fill-rule=\"evenodd\" fill-opacity=\"1\" /><path clip-path=\"url(#clip140)\" d=\"M 0 0 M1956.91 200.171 L1956.91 207.532 L1965.68 207.532 L1965.68 210.842 L1956.91 210.842 L1956.91 224.916 Q1956.91 228.087 1957.77 228.99 Q1958.65 229.893 1961.31 229.893 L1965.68 229.893 L1965.68 233.458 L1961.31 233.458 Q1956.38 233.458 1954.5 231.629 Q1952.63 229.777 1952.63 224.916 L1952.63 210.842 L1949.5 210.842 L1949.5 207.532 L1952.63 207.532 L1952.63 200.171 L1956.91 200.171 Z\" fill=\"#000000\" fill-rule=\"evenodd\" fill-opacity=\"1\" /><path clip-path=\"url(#clip140)\" d=\"M 0 0 M1985.17 211.513 Q1984.46 211.097 1983.6 210.911 Q1982.77 210.703 1981.75 210.703 Q1978.14 210.703 1976.19 213.064 Q1974.27 215.402 1974.27 219.8 L1974.27 233.458 L1969.99 233.458 L1969.99 207.532 L1974.27 207.532 L1974.27 211.56 Q1975.61 209.198 1977.77 208.064 Q1979.92 206.907 1983 206.907 Q1983.44 206.907 1983.97 206.976 Q1984.5 207.023 1985.15 207.138 L1985.17 211.513 Z\" fill=\"#000000\" fill-rule=\"evenodd\" fill-opacity=\"1\" /><path clip-path=\"url(#clip140)\" d=\"M 0 0 M1987.79 207.532 L2008.02 207.532 L2008.02 211.421 L1992 230.055 L2008.02 230.055 L2008.02 233.458 L1987.21 233.458 L1987.21 229.569 L2003.23 210.935 L1987.79 210.935 L1987.79 207.532 Z\" fill=\"#000000\" fill-rule=\"evenodd\" fill-opacity=\"1\" /><path clip-path=\"url(#clip140)\" d=\"M 0 0 M2034.67 219.43 L2034.67 221.513 L2015.08 221.513 Q2015.36 225.911 2017.72 228.226 Q2020.11 230.518 2024.34 230.518 Q2026.8 230.518 2029.09 229.916 Q2031.4 229.314 2033.67 228.11 L2033.67 232.138 Q2031.38 233.11 2028.97 233.62 Q2026.56 234.129 2024.09 234.129 Q2017.88 234.129 2014.25 230.518 Q2010.64 226.907 2010.64 220.749 Q2010.64 214.384 2014.06 210.657 Q2017.51 206.907 2023.35 206.907 Q2028.58 206.907 2031.61 210.286 Q2034.67 213.643 2034.67 219.43 M2030.41 218.18 Q2030.36 214.685 2028.44 212.601 Q2026.54 210.518 2023.39 210.518 Q2019.83 210.518 2017.67 212.532 Q2015.55 214.546 2015.22 218.203 L2030.41 218.18 M2026.91 233.458 L2029.67 233.458 Q2028.62 234.87 2028.11 235.888 Q2027.63 236.907 2027.63 237.624 Q2027.63 238.689 2028.25 239.221 Q2028.9 239.754 2030.15 239.754 Q2030.89 239.754 2031.61 239.569 Q2032.33 239.407 2033.05 239.059 L2033.05 242.138 Q2032.17 242.37 2031.38 242.485 Q2030.59 242.601 2029.9 242.601 Q2027.07 242.601 2025.73 241.583 Q2024.41 240.587 2024.41 238.434 Q2024.41 237.323 2025.01 236.096 Q2025.64 234.893 2026.91 233.458 Z\" fill=\"#000000\" fill-rule=\"evenodd\" fill-opacity=\"1\" /><path clip-path=\"url(#clip140)\" d=\"M 0 0 M2057.74 220.518 Q2057.74 215.819 2055.8 213.157 Q2053.88 210.472 2050.5 210.472 Q2047.12 210.472 2045.17 213.157 Q2043.25 215.819 2043.25 220.518 Q2043.25 225.217 2045.17 227.902 Q2047.12 230.564 2050.5 230.564 Q2053.88 230.564 2055.8 227.902 Q2057.74 225.217 2057.74 220.518 M2043.25 211.467 Q2044.6 209.152 2046.63 208.041 Q2048.69 206.907 2051.54 206.907 Q2056.26 206.907 2059.2 210.657 Q2062.17 214.407 2062.17 220.518 Q2062.17 226.629 2059.2 230.379 Q2056.26 234.129 2051.54 234.129 Q2048.69 234.129 2046.63 233.018 Q2044.6 231.883 2043.25 229.569 L2043.25 233.458 L2038.97 233.458 L2038.97 197.439 L2043.25 197.439 L2043.25 211.467 Z\" fill=\"#000000\" fill-rule=\"evenodd\" fill-opacity=\"1\" /><path clip-path=\"url(#clip140)\" d=\"M 0 0 M2066.63 207.532 L2070.89 207.532 L2070.89 233.458 L2066.63 233.458 L2066.63 207.532 M2066.63 197.439 L2070.89 197.439 L2070.89 202.833 L2066.63 202.833 L2066.63 197.439 Z\" fill=\"#000000\" fill-rule=\"evenodd\" fill-opacity=\"1\" /><path clip-path=\"url(#clip140)\" d=\"M 0 0 M2097.54 219.43 L2097.54 221.513 L2077.95 221.513 Q2078.23 225.911 2080.59 228.226 Q2082.98 230.518 2087.21 230.518 Q2089.67 230.518 2091.96 229.916 Q2094.27 229.314 2096.54 228.11 L2096.54 232.138 Q2094.25 233.11 2091.84 233.62 Q2089.43 234.129 2086.96 234.129 Q2080.75 234.129 2077.12 230.518 Q2073.51 226.907 2073.51 220.749 Q2073.51 214.384 2076.93 210.657 Q2080.38 206.907 2086.22 206.907 Q2091.45 206.907 2094.48 210.286 Q2097.54 213.643 2097.54 219.43 M2093.28 218.18 Q2093.23 214.685 2091.31 212.601 Q2089.41 210.518 2086.26 210.518 Q2082.7 210.518 2080.54 212.532 Q2078.42 214.546 2078.09 218.203 L2093.28 218.18 Z\" fill=\"#000000\" fill-rule=\"evenodd\" fill-opacity=\"1\" /><polyline clip-path=\"url(#clip140)\" style=\"stroke:#3da44d; stroke-width:4; stroke-opacity:1; fill:none\" points=\"\n",
       "  1719.35,276.658 1866.92,276.658 \n",
       "  \"/>\n",
       "<path clip-path=\"url(#clip140)\" d=\"M 0 0 M1912.03 269.007 L1912.03 272.989 Q1910.22 271.993 1908.39 271.507 Q1906.59 270.998 1904.74 270.998 Q1900.59 270.998 1898.3 273.637 Q1896.01 276.252 1896.01 280.998 Q1896.01 285.743 1898.3 288.382 Q1900.59 290.998 1904.74 290.998 Q1906.59 290.998 1908.39 290.512 Q1910.22 290.002 1912.03 289.007 L1912.03 292.942 Q1910.24 293.776 1908.32 294.192 Q1906.43 294.609 1904.27 294.609 Q1898.42 294.609 1894.97 290.928 Q1891.52 287.248 1891.52 280.998 Q1891.52 274.655 1894.99 271.021 Q1898.49 267.387 1904.55 267.387 Q1906.52 267.387 1908.39 267.803 Q1910.27 268.197 1912.03 269.007 Z\" fill=\"#000000\" fill-rule=\"evenodd\" fill-opacity=\"1\" /><path clip-path=\"url(#clip140)\" d=\"M 0 0 M1938.05 278.289 L1938.05 293.938 L1933.79 293.938 L1933.79 278.428 Q1933.79 274.748 1932.35 272.919 Q1930.92 271.09 1928.05 271.09 Q1924.6 271.09 1922.61 273.29 Q1920.62 275.489 1920.62 279.285 L1920.62 293.938 L1916.33 293.938 L1916.33 257.919 L1920.62 257.919 L1920.62 272.04 Q1922.14 269.702 1924.2 268.544 Q1926.29 267.387 1928.99 267.387 Q1933.46 267.387 1935.75 270.165 Q1938.05 272.919 1938.05 278.289 Z\" fill=\"#000000\" fill-rule=\"evenodd\" fill-opacity=\"1\" /><path clip-path=\"url(#clip140)\" d=\"M 0 0 M1952.56 270.998 Q1949.13 270.998 1947.14 273.683 Q1945.15 276.345 1945.15 280.998 Q1945.15 285.651 1947.12 288.336 Q1949.11 290.998 1952.56 290.998 Q1955.96 290.998 1957.95 288.313 Q1959.94 285.627 1959.94 280.998 Q1959.94 276.391 1957.95 273.706 Q1955.96 270.998 1952.56 270.998 M1952.56 267.387 Q1958.11 267.387 1961.29 270.998 Q1964.46 274.609 1964.46 280.998 Q1964.46 287.364 1961.29 290.998 Q1958.11 294.609 1952.56 294.609 Q1946.98 294.609 1943.81 290.998 Q1940.66 287.364 1940.66 280.998 Q1940.66 274.609 1943.81 270.998 Q1946.98 267.387 1952.56 267.387 Z\" fill=\"#000000\" fill-rule=\"evenodd\" fill-opacity=\"1\" /><path clip-path=\"url(#clip140)\" d=\"M 0 0 M1983.95 271.993 Q1983.23 271.577 1982.37 271.391 Q1981.54 271.183 1980.52 271.183 Q1976.91 271.183 1974.97 273.544 Q1973.05 275.882 1973.05 280.28 L1973.05 293.938 L1968.76 293.938 L1968.76 268.012 L1973.05 268.012 L1973.05 272.04 Q1974.39 269.678 1976.54 268.544 Q1978.69 267.387 1981.77 267.387 Q1982.21 267.387 1982.74 267.456 Q1983.28 267.503 1983.92 267.618 L1983.95 271.993 Z\" fill=\"#000000\" fill-rule=\"evenodd\" fill-opacity=\"1\" /><path clip-path=\"url(#clip140)\" d=\"M 0 0 M2009.55 279.91 L2009.55 281.993 L1989.97 281.993 Q1990.24 286.391 1992.61 288.706 Q1994.99 290.998 1999.23 290.998 Q2001.68 290.998 2003.97 290.396 Q2006.29 289.794 2008.55 288.59 L2008.55 292.618 Q2006.26 293.59 2003.86 294.1 Q2001.45 294.609 1998.97 294.609 Q1992.77 294.609 1989.13 290.998 Q1985.52 287.387 1985.52 281.229 Q1985.52 274.864 1988.95 271.137 Q1992.4 267.387 1998.23 267.387 Q2003.46 267.387 2006.49 270.766 Q2009.55 274.123 2009.55 279.91 M2005.29 278.66 Q2005.24 275.165 2003.32 273.081 Q2001.42 270.998 1998.28 270.998 Q1994.71 270.998 1992.56 273.012 Q1990.43 275.026 1990.11 278.683 L2005.29 278.66 Z\" fill=\"#000000\" fill-rule=\"evenodd\" fill-opacity=\"1\" /><path clip-path=\"url(#clip140)\" d=\"M 0 0 M2046.15 280.674 Q2046.15 276.044 2044.23 273.498 Q2042.33 270.952 2038.88 270.952 Q2035.45 270.952 2033.53 273.498 Q2031.63 276.044 2031.63 280.674 Q2031.63 285.28 2033.53 287.826 Q2035.45 290.373 2038.88 290.373 Q2042.33 290.373 2044.23 287.826 Q2046.15 285.28 2046.15 280.674 M2050.41 290.72 Q2050.41 297.34 2047.47 300.558 Q2044.53 303.799 2038.46 303.799 Q2036.22 303.799 2034.23 303.451 Q2032.23 303.127 2030.36 302.433 L2030.36 298.289 Q2032.23 299.308 2034.06 299.794 Q2035.89 300.28 2037.79 300.28 Q2041.98 300.28 2044.06 298.081 Q2046.15 295.905 2046.15 291.484 L2046.15 289.377 Q2044.83 291.669 2042.77 292.803 Q2040.71 293.938 2037.84 293.938 Q2033.07 293.938 2030.15 290.303 Q2027.23 286.669 2027.23 280.674 Q2027.23 274.655 2030.15 271.021 Q2033.07 267.387 2037.84 267.387 Q2040.71 267.387 2042.77 268.521 Q2044.83 269.655 2046.15 271.947 L2046.15 268.012 L2050.41 268.012 L2050.41 290.72 Z\" fill=\"#000000\" fill-rule=\"evenodd\" fill-opacity=\"1\" /><path clip-path=\"url(#clip140)\" d=\"M 0 0 M2064.92 270.998 Q2061.49 270.998 2059.5 273.683 Q2057.51 276.345 2057.51 280.998 Q2057.51 285.651 2059.48 288.336 Q2061.47 290.998 2064.92 290.998 Q2068.32 290.998 2070.31 288.313 Q2072.3 285.627 2072.3 280.998 Q2072.3 276.391 2070.31 273.706 Q2068.32 270.998 2064.92 270.998 M2064.92 267.387 Q2070.48 267.387 2073.65 270.998 Q2076.82 274.609 2076.82 280.998 Q2076.82 287.364 2073.65 290.998 Q2070.48 294.609 2064.92 294.609 Q2059.34 294.609 2056.17 290.998 Q2053.02 287.364 2053.02 280.998 Q2053.02 274.609 2056.17 270.998 Q2059.34 267.387 2064.92 267.387 Z\" fill=\"#000000\" fill-rule=\"evenodd\" fill-opacity=\"1\" /><path clip-path=\"url(#clip140)\" d=\"M 0 0 M2081.42 257.919 L2085.68 257.919 L2085.68 271.854 L2088.58 269.771 L2090.34 272.225 L2085.68 275.489 L2085.68 293.938 L2081.42 293.938 L2081.42 278.521 L2078.58 280.558 L2076.86 278.104 L2081.42 274.84 L2081.42 257.919 Z\" fill=\"#000000\" fill-rule=\"evenodd\" fill-opacity=\"1\" /><path clip-path=\"url(#clip140)\" d=\"M 0 0 M2116.98 279.91 L2116.98 281.993 L2097.4 281.993 Q2097.67 286.391 2100.04 288.706 Q2102.42 290.998 2106.66 290.998 Q2109.11 290.998 2111.4 290.396 Q2113.72 289.794 2115.98 288.59 L2115.98 292.618 Q2113.69 293.59 2111.29 294.1 Q2108.88 294.609 2106.4 294.609 Q2100.2 294.609 2096.56 290.998 Q2092.95 287.387 2092.95 281.229 Q2092.95 274.864 2096.38 271.137 Q2099.83 267.387 2105.66 267.387 Q2110.89 267.387 2113.92 270.766 Q2116.98 274.123 2116.98 279.91 M2112.72 278.66 Q2112.67 275.165 2110.75 273.081 Q2108.85 270.998 2105.71 270.998 Q2102.14 270.998 2099.99 273.012 Q2097.86 275.026 2097.54 278.683 L2112.72 278.66 M2109.23 293.938 L2111.98 293.938 Q2110.94 295.35 2110.43 296.368 Q2109.94 297.387 2109.94 298.104 Q2109.94 299.169 2110.57 299.701 Q2111.22 300.234 2112.47 300.234 Q2113.21 300.234 2113.92 300.049 Q2114.64 299.887 2115.36 299.539 L2115.36 302.618 Q2114.48 302.85 2113.69 302.965 Q2112.91 303.081 2112.21 303.081 Q2109.39 303.081 2108.04 302.063 Q2106.73 301.067 2106.73 298.914 Q2106.73 297.803 2107.33 296.576 Q2107.95 295.373 2109.23 293.938 Z\" fill=\"#000000\" fill-rule=\"evenodd\" fill-opacity=\"1\" /><path clip-path=\"url(#clip140)\" d=\"M 0 0 M2140.06 280.998 Q2140.06 276.299 2138.11 273.637 Q2136.19 270.952 2132.81 270.952 Q2129.43 270.952 2127.49 273.637 Q2125.57 276.299 2125.57 280.998 Q2125.57 285.697 2127.49 288.382 Q2129.43 291.044 2132.81 291.044 Q2136.19 291.044 2138.11 288.382 Q2140.06 285.697 2140.06 280.998 M2125.57 271.947 Q2126.91 269.632 2128.95 268.521 Q2131.01 267.387 2133.85 267.387 Q2138.58 267.387 2141.52 271.137 Q2144.48 274.887 2144.48 280.998 Q2144.48 287.109 2141.52 290.859 Q2138.58 294.609 2133.85 294.609 Q2131.01 294.609 2128.95 293.498 Q2126.91 292.363 2125.57 290.049 L2125.57 293.938 L2121.29 293.938 L2121.29 257.919 L2125.57 257.919 L2125.57 271.947 Z\" fill=\"#000000\" fill-rule=\"evenodd\" fill-opacity=\"1\" /><path clip-path=\"url(#clip140)\" d=\"M 0 0 M2148.95 268.012 L2153.21 268.012 L2153.21 293.938 L2148.95 293.938 L2148.95 268.012 M2148.95 257.919 L2153.21 257.919 L2153.21 263.313 L2148.95 263.313 L2148.95 257.919 Z\" fill=\"#000000\" fill-rule=\"evenodd\" fill-opacity=\"1\" /><path clip-path=\"url(#clip140)\" d=\"M 0 0 M2179.85 279.91 L2179.85 281.993 L2160.27 281.993 Q2160.54 286.391 2162.91 288.706 Q2165.29 290.998 2169.53 290.998 Q2171.98 290.998 2174.27 290.396 Q2176.59 289.794 2178.85 288.59 L2178.85 292.618 Q2176.56 293.59 2174.16 294.1 Q2171.75 294.609 2169.27 294.609 Q2163.07 294.609 2159.43 290.998 Q2155.82 287.387 2155.82 281.229 Q2155.82 274.864 2159.25 271.137 Q2162.7 267.387 2168.53 267.387 Q2173.76 267.387 2176.79 270.766 Q2179.85 274.123 2179.85 279.91 M2175.59 278.66 Q2175.54 275.165 2173.62 273.081 Q2171.72 270.998 2168.58 270.998 Q2165.01 270.998 2162.86 273.012 Q2160.73 275.026 2160.41 278.683 L2175.59 278.66 Z\" fill=\"#000000\" fill-rule=\"evenodd\" fill-opacity=\"1\" /><polyline clip-path=\"url(#clip140)\" style=\"stroke:#c271d2; stroke-width:4; stroke-opacity:1; fill:none\" points=\"\n",
       "  1719.35,337.138 1866.92,337.138 \n",
       "  \"/>\n",
       "<path clip-path=\"url(#clip140)\" d=\"M 0 0 M1912.03 329.487 L1912.03 333.469 Q1910.22 332.473 1908.39 331.987 Q1906.59 331.478 1904.74 331.478 Q1900.59 331.478 1898.3 334.117 Q1896.01 336.732 1896.01 341.478 Q1896.01 346.223 1898.3 348.862 Q1900.59 351.478 1904.74 351.478 Q1906.59 351.478 1908.39 350.992 Q1910.22 350.482 1912.03 349.487 L1912.03 353.422 Q1910.24 354.256 1908.32 354.672 Q1906.43 355.089 1904.27 355.089 Q1898.42 355.089 1894.97 351.408 Q1891.52 347.728 1891.52 341.478 Q1891.52 335.135 1894.99 331.501 Q1898.49 327.867 1904.55 327.867 Q1906.52 327.867 1908.39 328.283 Q1910.27 328.677 1912.03 329.487 Z\" fill=\"#000000\" fill-rule=\"evenodd\" fill-opacity=\"1\" /><path clip-path=\"url(#clip140)\" d=\"M 0 0 M1938.05 338.769 L1938.05 354.418 L1933.79 354.418 L1933.79 338.908 Q1933.79 335.228 1932.35 333.399 Q1930.92 331.57 1928.05 331.57 Q1924.6 331.57 1922.61 333.77 Q1920.62 335.969 1920.62 339.765 L1920.62 354.418 L1916.33 354.418 L1916.33 318.399 L1920.62 318.399 L1920.62 332.52 Q1922.14 330.182 1924.2 329.024 Q1926.29 327.867 1928.99 327.867 Q1933.46 327.867 1935.75 330.645 Q1938.05 333.399 1938.05 338.769 Z\" fill=\"#000000\" fill-rule=\"evenodd\" fill-opacity=\"1\" /><path clip-path=\"url(#clip140)\" d=\"M 0 0 M1952.56 331.478 Q1949.13 331.478 1947.14 334.163 Q1945.15 336.825 1945.15 341.478 Q1945.15 346.131 1947.12 348.816 Q1949.11 351.478 1952.56 351.478 Q1955.96 351.478 1957.95 348.793 Q1959.94 346.107 1959.94 341.478 Q1959.94 336.871 1957.95 334.186 Q1955.96 331.478 1952.56 331.478 M1952.56 327.867 Q1958.11 327.867 1961.29 331.478 Q1964.46 335.089 1964.46 341.478 Q1964.46 347.844 1961.29 351.478 Q1958.11 355.089 1952.56 355.089 Q1946.98 355.089 1943.81 351.478 Q1940.66 347.844 1940.66 341.478 Q1940.66 335.089 1943.81 331.478 Q1946.98 327.867 1952.56 327.867 Z\" fill=\"#000000\" fill-rule=\"evenodd\" fill-opacity=\"1\" /><path clip-path=\"url(#clip140)\" d=\"M 0 0 M1983.95 332.473 Q1983.23 332.057 1982.37 331.871 Q1981.54 331.663 1980.52 331.663 Q1976.91 331.663 1974.97 334.024 Q1973.05 336.362 1973.05 340.76 L1973.05 354.418 L1968.76 354.418 L1968.76 328.492 L1973.05 328.492 L1973.05 332.52 Q1974.39 330.158 1976.54 329.024 Q1978.69 327.867 1981.77 327.867 Q1982.21 327.867 1982.74 327.936 Q1983.28 327.983 1983.92 328.098 L1983.95 332.473 Z\" fill=\"#000000\" fill-rule=\"evenodd\" fill-opacity=\"1\" /><path clip-path=\"url(#clip140)\" d=\"M 0 0 M2009.55 340.39 L2009.55 342.473 L1989.97 342.473 Q1990.24 346.871 1992.61 349.186 Q1994.99 351.478 1999.23 351.478 Q2001.68 351.478 2003.97 350.876 Q2006.29 350.274 2008.55 349.07 L2008.55 353.098 Q2006.26 354.07 2003.86 354.58 Q2001.45 355.089 1998.97 355.089 Q1992.77 355.089 1989.13 351.478 Q1985.52 347.867 1985.52 341.709 Q1985.52 335.344 1988.95 331.617 Q1992.4 327.867 1998.23 327.867 Q2003.46 327.867 2006.49 331.246 Q2009.55 334.603 2009.55 340.39 M2005.29 339.14 Q2005.24 335.645 2003.32 333.561 Q2001.42 331.478 1998.28 331.478 Q1994.71 331.478 1992.56 333.492 Q1990.43 335.506 1990.11 339.163 L2005.29 339.14 Z\" fill=\"#000000\" fill-rule=\"evenodd\" fill-opacity=\"1\" /><path clip-path=\"url(#clip140)\" d=\"M 0 0 M2029.09 328.492 L2033.35 328.492 L2033.35 354.881 Q2033.35 359.834 2031.45 362.056 Q2029.57 364.279 2025.38 364.279 L2023.76 364.279 L2023.76 360.668 L2024.9 360.668 Q2027.33 360.668 2028.21 359.533 Q2029.09 358.422 2029.09 354.881 L2029.09 328.492 M2029.09 318.399 L2033.35 318.399 L2033.35 323.793 L2029.09 323.793 L2029.09 318.399 Z\" fill=\"#000000\" fill-rule=\"evenodd\" fill-opacity=\"1\" /><path clip-path=\"url(#clip140)\" d=\"M 0 0 M2049.6 341.385 Q2044.43 341.385 2042.44 342.566 Q2040.45 343.746 2040.45 346.594 Q2040.45 348.862 2041.93 350.205 Q2043.44 351.524 2046.01 351.524 Q2049.55 351.524 2051.68 349.024 Q2053.83 346.501 2053.83 342.334 L2053.83 341.385 L2049.6 341.385 M2058.09 339.626 L2058.09 354.418 L2053.83 354.418 L2053.83 350.482 Q2052.37 352.843 2050.2 353.978 Q2048.02 355.089 2044.87 355.089 Q2040.89 355.089 2038.53 352.867 Q2036.19 350.621 2036.19 346.871 Q2036.19 342.496 2039.11 340.274 Q2042.05 338.052 2047.86 338.052 L2053.83 338.052 L2053.83 337.635 Q2053.83 334.695 2051.89 333.098 Q2049.97 331.478 2046.47 331.478 Q2044.25 331.478 2042.14 332.01 Q2040.04 332.543 2038.09 333.607 L2038.09 329.672 Q2040.43 328.77 2042.63 328.33 Q2044.83 327.867 2046.91 327.867 Q2052.54 327.867 2055.31 330.783 Q2058.09 333.7 2058.09 339.626 Z\" fill=\"#000000\" fill-rule=\"evenodd\" fill-opacity=\"1\" /><path clip-path=\"url(#clip140)\" d=\"M 0 0 M2079.09 329.256 L2079.09 333.283 Q2077.28 332.357 2075.34 331.895 Q2073.39 331.432 2071.31 331.432 Q2068.14 331.432 2066.54 332.404 Q2064.97 333.376 2064.97 335.32 Q2064.97 336.802 2066.1 337.658 Q2067.23 338.492 2070.66 339.256 L2072.12 339.58 Q2076.66 340.552 2078.55 342.334 Q2080.48 344.094 2080.48 347.265 Q2080.48 350.876 2077.6 352.982 Q2074.76 355.089 2069.76 355.089 Q2067.67 355.089 2065.41 354.672 Q2063.16 354.279 2060.66 353.468 L2060.66 349.07 Q2063.02 350.297 2065.31 350.922 Q2067.61 351.524 2069.85 351.524 Q2072.86 351.524 2074.48 350.506 Q2076.1 349.464 2076.1 347.589 Q2076.1 345.853 2074.92 344.927 Q2073.76 344.001 2069.8 343.144 L2068.32 342.797 Q2064.36 341.964 2062.61 340.251 Q2060.85 338.515 2060.85 335.506 Q2060.85 331.848 2063.44 329.858 Q2066.03 327.867 2070.8 327.867 Q2073.16 327.867 2075.24 328.214 Q2077.33 328.561 2079.09 329.256 Z\" fill=\"#000000\" fill-rule=\"evenodd\" fill-opacity=\"1\" /><path clip-path=\"url(#clip140)\" d=\"M 0 0 M2089.16 321.131 L2089.16 328.492 L2097.93 328.492 L2097.93 331.802 L2089.16 331.802 L2089.16 345.876 Q2089.16 349.047 2090.01 349.95 Q2090.89 350.853 2093.55 350.853 L2097.93 350.853 L2097.93 354.418 L2093.55 354.418 Q2088.62 354.418 2086.75 352.589 Q2084.87 350.737 2084.87 345.876 L2084.87 331.802 L2081.75 331.802 L2081.75 328.492 L2084.87 328.492 L2084.87 321.131 L2089.16 321.131 Z\" fill=\"#000000\" fill-rule=\"evenodd\" fill-opacity=\"1\" /><path clip-path=\"url(#clip140)\" d=\"M 0 0 M2117.42 332.473 Q2116.7 332.057 2115.85 331.871 Q2115.01 331.663 2113.99 331.663 Q2110.38 331.663 2108.44 334.024 Q2106.52 336.362 2106.52 340.76 L2106.52 354.418 L2102.23 354.418 L2102.23 328.492 L2106.52 328.492 L2106.52 332.52 Q2107.86 330.158 2110.01 329.024 Q2112.16 327.867 2115.24 327.867 Q2115.68 327.867 2116.22 327.936 Q2116.75 327.983 2117.4 328.098 L2117.42 332.473 Z\" fill=\"#000000\" fill-rule=\"evenodd\" fill-opacity=\"1\" /><path clip-path=\"url(#clip140)\" d=\"M 0 0 M2120.04 328.492 L2140.27 328.492 L2140.27 332.381 L2124.25 351.015 L2140.27 351.015 L2140.27 354.418 L2119.46 354.418 L2119.46 350.529 L2135.48 331.895 L2120.04 331.895 L2120.04 328.492 Z\" fill=\"#000000\" fill-rule=\"evenodd\" fill-opacity=\"1\" /><path clip-path=\"url(#clip140)\" d=\"M 0 0 M2166.91 340.39 L2166.91 342.473 L2147.33 342.473 Q2147.6 346.871 2149.97 349.186 Q2152.35 351.478 2156.59 351.478 Q2159.04 351.478 2161.33 350.876 Q2163.65 350.274 2165.91 349.07 L2165.91 353.098 Q2163.62 354.07 2161.22 354.58 Q2158.81 355.089 2156.33 355.089 Q2150.13 355.089 2146.49 351.478 Q2142.88 347.867 2142.88 341.709 Q2142.88 335.344 2146.31 331.617 Q2149.76 327.867 2155.59 327.867 Q2160.82 327.867 2163.85 331.246 Q2166.91 334.603 2166.91 340.39 M2162.65 339.14 Q2162.6 335.645 2160.68 333.561 Q2158.79 331.478 2155.64 331.478 Q2152.07 331.478 2149.92 333.492 Q2147.79 335.506 2147.47 339.163 L2162.65 339.14 M2159.16 354.418 L2161.91 354.418 Q2160.87 355.83 2160.36 356.848 Q2159.87 357.867 2159.87 358.584 Q2159.87 359.649 2160.5 360.181 Q2161.15 360.714 2162.4 360.714 Q2163.14 360.714 2163.85 360.529 Q2164.57 360.367 2165.29 360.019 L2165.29 363.098 Q2164.41 363.33 2163.62 363.445 Q2162.84 363.561 2162.14 363.561 Q2159.32 363.561 2157.97 362.543 Q2156.66 361.547 2156.66 359.394 Q2156.66 358.283 2157.26 357.056 Q2157.88 355.853 2159.16 354.418 Z\" fill=\"#000000\" fill-rule=\"evenodd\" fill-opacity=\"1\" /><path clip-path=\"url(#clip140)\" d=\"M 0 0 M2189.99 341.478 Q2189.99 336.779 2188.04 334.117 Q2186.12 331.432 2182.74 331.432 Q2179.36 331.432 2177.42 334.117 Q2175.5 336.779 2175.5 341.478 Q2175.5 346.177 2177.42 348.862 Q2179.36 351.524 2182.74 351.524 Q2186.12 351.524 2188.04 348.862 Q2189.99 346.177 2189.99 341.478 M2175.5 332.427 Q2176.84 330.112 2178.88 329.001 Q2180.94 327.867 2183.78 327.867 Q2188.51 327.867 2191.45 331.617 Q2194.41 335.367 2194.41 341.478 Q2194.41 347.589 2191.45 351.339 Q2188.51 355.089 2183.78 355.089 Q2180.94 355.089 2178.88 353.978 Q2176.84 352.843 2175.5 350.529 L2175.5 354.418 L2171.22 354.418 L2171.22 318.399 L2175.5 318.399 L2175.5 332.427 Z\" fill=\"#000000\" fill-rule=\"evenodd\" fill-opacity=\"1\" /><path clip-path=\"url(#clip140)\" d=\"M 0 0 M2198.88 328.492 L2203.14 328.492 L2203.14 354.418 L2198.88 354.418 L2198.88 328.492 M2198.88 318.399 L2203.14 318.399 L2203.14 323.793 L2198.88 323.793 L2198.88 318.399 Z\" fill=\"#000000\" fill-rule=\"evenodd\" fill-opacity=\"1\" /><path clip-path=\"url(#clip140)\" d=\"M 0 0 M2229.78 340.39 L2229.78 342.473 L2210.2 342.473 Q2210.47 346.871 2212.84 349.186 Q2215.22 351.478 2219.46 351.478 Q2221.91 351.478 2224.2 350.876 Q2226.52 350.274 2228.78 349.07 L2228.78 353.098 Q2226.49 354.07 2224.09 354.58 Q2221.68 355.089 2219.2 355.089 Q2213 355.089 2209.36 351.478 Q2205.75 347.867 2205.75 341.709 Q2205.75 335.344 2209.18 331.617 Q2212.63 327.867 2218.46 327.867 Q2223.69 327.867 2226.72 331.246 Q2229.78 334.603 2229.78 340.39 M2225.52 339.14 Q2225.47 335.645 2223.55 333.561 Q2221.66 331.478 2218.51 331.478 Q2214.94 331.478 2212.79 333.492 Q2210.66 335.506 2210.34 339.163 L2225.52 339.14 Z\" fill=\"#000000\" fill-rule=\"evenodd\" fill-opacity=\"1\" /></svg>\n"
      ]
     },
     "execution_count": 52,
     "metadata": {},
     "output_type": "execute_result"
    }
   ],
   "source": [
    "wykresy_all(9,9,15,10,100,135,50)"
   ]
  },
  {
   "cell_type": "code",
   "execution_count": 38,
   "metadata": {},
   "outputs": [
    {
     "name": "stdout",
     "output_type": "stream",
     "text": [
      "7, 13, 4, 2\n",
      "7, 13, 3, 0\n",
      "5, 15, 1, 0\n",
      "2, 12, 0, 0\n",
      "2, 12, 1, 0\n",
      "3, 4, 0, 0\n",
      "2, 5, 0, 0\n",
      "4, 8, 0, 0\n",
      "7, 12, 0, 0\n",
      "3, 12, 1, 0\n",
      "1, 15, 0, 0\n",
      "2, 12, 0, 0\n",
      "2, 13, 0, 0\n",
      "2, 12, 0, 0\n",
      "0, 12, 1, 0\n",
      "1, 7, 0, 0\n",
      "2, 6, 0, 0\n",
      "0, 7, 0, 0\n",
      "0, 2, 0, 0\n",
      "0, 4, 0, 0\n",
      "0, 6, 0, 0\n",
      "0, 6, 0, 0\n",
      "0, 2, 0, 0\n",
      "0, 0, 0, 0\n",
      "they all died\n"
     ]
    },
    {
     "data": {
      "image/svg+xml": [
       "<?xml version=\"1.0\" encoding=\"utf-8\"?>\n",
       "<svg xmlns=\"http://www.w3.org/2000/svg\" xmlns:xlink=\"http://www.w3.org/1999/xlink\" width=\"600\" height=\"400\" viewBox=\"0 0 2400 1600\">\n",
       "<defs>\n",
       "  <clipPath id=\"clip620\">\n",
       "    <rect x=\"0\" y=\"0\" width=\"2400\" height=\"1600\"/>\n",
       "  </clipPath>\n",
       "</defs>\n",
       "<path clip-path=\"url(#clip620)\" d=\"\n",
       "M0 1600 L2400 1600 L2400 0 L0 0  Z\n",
       "  \" fill=\"#ffffff\" fill-rule=\"evenodd\" fill-opacity=\"1\"/>\n",
       "<defs>\n",
       "  <clipPath id=\"clip621\">\n",
       "    <rect x=\"480\" y=\"0\" width=\"1681\" height=\"1600\"/>\n",
       "  </clipPath>\n",
       "</defs>\n",
       "<path clip-path=\"url(#clip620)\" d=\"\n",
       "M134.584 1486.45 L2352.76 1486.45 L2352.76 47.2441 L134.584 47.2441  Z\n",
       "  \" fill=\"#ffffff\" fill-rule=\"evenodd\" fill-opacity=\"1\"/>\n",
       "<defs>\n",
       "  <clipPath id=\"clip622\">\n",
       "    <rect x=\"134\" y=\"47\" width=\"2219\" height=\"1440\"/>\n",
       "  </clipPath>\n",
       "</defs>\n",
       "<polyline clip-path=\"url(#clip622)\" style=\"stroke:#000000; stroke-width:2; stroke-opacity:0.1; fill:none\" points=\"\n",
       "  561.296,1486.45 561.296,47.2441 \n",
       "  \"/>\n",
       "<polyline clip-path=\"url(#clip622)\" style=\"stroke:#000000; stroke-width:2; stroke-opacity:0.1; fill:none\" points=\"\n",
       "  1016.21,1486.45 1016.21,47.2441 \n",
       "  \"/>\n",
       "<polyline clip-path=\"url(#clip622)\" style=\"stroke:#000000; stroke-width:2; stroke-opacity:0.1; fill:none\" points=\"\n",
       "  1471.13,1486.45 1471.13,47.2441 \n",
       "  \"/>\n",
       "<polyline clip-path=\"url(#clip622)\" style=\"stroke:#000000; stroke-width:2; stroke-opacity:0.1; fill:none\" points=\"\n",
       "  1926.04,1486.45 1926.04,47.2441 \n",
       "  \"/>\n",
       "<polyline clip-path=\"url(#clip620)\" style=\"stroke:#000000; stroke-width:4; stroke-opacity:1; fill:none\" points=\"\n",
       "  134.584,1486.45 2352.76,1486.45 \n",
       "  \"/>\n",
       "<polyline clip-path=\"url(#clip620)\" style=\"stroke:#000000; stroke-width:4; stroke-opacity:1; fill:none\" points=\"\n",
       "  561.296,1486.45 561.296,1469.18 \n",
       "  \"/>\n",
       "<polyline clip-path=\"url(#clip620)\" style=\"stroke:#000000; stroke-width:4; stroke-opacity:1; fill:none\" points=\"\n",
       "  1016.21,1486.45 1016.21,1469.18 \n",
       "  \"/>\n",
       "<polyline clip-path=\"url(#clip620)\" style=\"stroke:#000000; stroke-width:4; stroke-opacity:1; fill:none\" points=\"\n",
       "  1471.13,1486.45 1471.13,1469.18 \n",
       "  \"/>\n",
       "<polyline clip-path=\"url(#clip620)\" style=\"stroke:#000000; stroke-width:4; stroke-opacity:1; fill:none\" points=\"\n",
       "  1926.04,1486.45 1926.04,1469.18 \n",
       "  \"/>\n",
       "<path clip-path=\"url(#clip620)\" d=\"M 0 0 M551.574 1512.56 L569.93 1512.56 L569.93 1516.5 L555.856 1516.5 L555.856 1524.97 Q556.875 1524.62 557.893 1524.46 Q558.912 1524.27 559.93 1524.27 Q565.717 1524.27 569.097 1527.44 Q572.476 1530.62 572.476 1536.03 Q572.476 1541.61 569.004 1544.71 Q565.532 1547.79 559.213 1547.79 Q557.037 1547.79 554.768 1547.42 Q552.523 1547.05 550.115 1546.31 L550.115 1541.61 Q552.199 1542.74 554.421 1543.3 Q556.643 1543.86 559.12 1543.86 Q563.125 1543.86 565.463 1541.75 Q567.8 1539.64 567.8 1536.03 Q567.8 1532.42 565.463 1530.31 Q563.125 1528.21 559.12 1528.21 Q557.245 1528.21 555.37 1528.62 Q553.518 1529.04 551.574 1529.92 L551.574 1512.56 Z\" fill=\"#000000\" fill-rule=\"evenodd\" fill-opacity=\"1\" /><path clip-path=\"url(#clip620)\" d=\"M 0 0 M993.087 1543.18 L1000.73 1543.18 L1000.73 1516.82 L992.416 1518.49 L992.416 1514.23 L1000.68 1512.56 L1005.36 1512.56 L1005.36 1543.18 L1012.99 1543.18 L1012.99 1547.12 L993.087 1547.12 L993.087 1543.18 Z\" fill=\"#000000\" fill-rule=\"evenodd\" fill-opacity=\"1\" /><path clip-path=\"url(#clip620)\" d=\"M 0 0 M1028.06 1515.64 Q1024.45 1515.64 1022.62 1519.2 Q1020.82 1522.75 1020.82 1529.87 Q1020.82 1536.98 1022.62 1540.55 Q1024.45 1544.09 1028.06 1544.09 Q1031.7 1544.09 1033.5 1540.55 Q1035.33 1536.98 1035.33 1529.87 Q1035.33 1522.75 1033.5 1519.2 Q1031.7 1515.64 1028.06 1515.64 M1028.06 1511.93 Q1033.87 1511.93 1036.93 1516.54 Q1040.01 1521.12 1040.01 1529.87 Q1040.01 1538.6 1036.93 1543.21 Q1033.87 1547.79 1028.06 1547.79 Q1022.25 1547.79 1019.18 1543.21 Q1016.12 1538.6 1016.12 1529.87 Q1016.12 1521.12 1019.18 1516.54 Q1022.25 1511.93 1028.06 1511.93 Z\" fill=\"#000000\" fill-rule=\"evenodd\" fill-opacity=\"1\" /><path clip-path=\"url(#clip620)\" d=\"M 0 0 M1448.5 1543.18 L1456.14 1543.18 L1456.14 1516.82 L1447.83 1518.49 L1447.83 1514.23 L1456.09 1512.56 L1460.77 1512.56 L1460.77 1543.18 L1468.41 1543.18 L1468.41 1547.12 L1448.5 1547.12 L1448.5 1543.18 Z\" fill=\"#000000\" fill-rule=\"evenodd\" fill-opacity=\"1\" /><path clip-path=\"url(#clip620)\" d=\"M 0 0 M1473.52 1512.56 L1491.88 1512.56 L1491.88 1516.5 L1477.81 1516.5 L1477.81 1524.97 Q1478.83 1524.62 1479.84 1524.46 Q1480.86 1524.27 1481.88 1524.27 Q1487.67 1524.27 1491.05 1527.44 Q1494.43 1530.62 1494.43 1536.03 Q1494.43 1541.61 1490.95 1544.71 Q1487.48 1547.79 1481.16 1547.79 Q1478.99 1547.79 1476.72 1547.42 Q1474.47 1547.05 1472.07 1546.31 L1472.07 1541.61 Q1474.15 1542.74 1476.37 1543.3 Q1478.59 1543.86 1481.07 1543.86 Q1485.07 1543.86 1487.41 1541.75 Q1489.75 1539.64 1489.75 1536.03 Q1489.75 1532.42 1487.41 1530.31 Q1485.07 1528.21 1481.07 1528.21 Q1479.2 1528.21 1477.32 1528.62 Q1475.47 1529.04 1473.52 1529.92 L1473.52 1512.56 Z\" fill=\"#000000\" fill-rule=\"evenodd\" fill-opacity=\"1\" /><path clip-path=\"url(#clip620)\" d=\"M 0 0 M1907.19 1543.18 L1923.51 1543.18 L1923.51 1547.12 L1901.57 1547.12 L1901.57 1543.18 Q1904.23 1540.43 1908.81 1535.8 Q1913.42 1531.15 1914.6 1529.81 Q1916.84 1527.28 1917.72 1525.55 Q1918.63 1523.79 1918.63 1522.1 Q1918.63 1519.34 1916.68 1517.61 Q1914.76 1515.87 1911.66 1515.87 Q1909.46 1515.87 1907.01 1516.63 Q1904.57 1517.4 1901.8 1518.95 L1901.8 1514.23 Q1904.62 1513.09 1907.07 1512.51 Q1909.53 1511.93 1911.57 1511.93 Q1916.94 1511.93 1920.13 1514.62 Q1923.32 1517.31 1923.32 1521.8 Q1923.32 1523.93 1922.51 1525.85 Q1921.73 1527.74 1919.62 1530.34 Q1919.04 1531.01 1915.94 1534.23 Q1912.84 1537.42 1907.19 1543.18 Z\" fill=\"#000000\" fill-rule=\"evenodd\" fill-opacity=\"1\" /><path clip-path=\"url(#clip620)\" d=\"M 0 0 M1938.58 1515.64 Q1934.97 1515.64 1933.14 1519.2 Q1931.33 1522.75 1931.33 1529.87 Q1931.33 1536.98 1933.14 1540.55 Q1934.97 1544.09 1938.58 1544.09 Q1942.21 1544.09 1944.02 1540.55 Q1945.85 1536.98 1945.85 1529.87 Q1945.85 1522.75 1944.02 1519.2 Q1942.21 1515.64 1938.58 1515.64 M1938.58 1511.93 Q1944.39 1511.93 1947.44 1516.54 Q1950.52 1521.12 1950.52 1529.87 Q1950.52 1538.6 1947.44 1543.21 Q1944.39 1547.79 1938.58 1547.79 Q1932.77 1547.79 1929.69 1543.21 Q1926.63 1538.6 1926.63 1529.87 Q1926.63 1521.12 1929.69 1516.54 Q1932.77 1511.93 1938.58 1511.93 Z\" fill=\"#000000\" fill-rule=\"evenodd\" fill-opacity=\"1\" /><polyline clip-path=\"url(#clip622)\" style=\"stroke:#000000; stroke-width:2; stroke-opacity:0.1; fill:none\" points=\"\n",
       "  134.584,1445.72 2352.76,1445.72 \n",
       "  \"/>\n",
       "<polyline clip-path=\"url(#clip622)\" style=\"stroke:#000000; stroke-width:2; stroke-opacity:0.1; fill:none\" points=\"\n",
       "  134.584,993.136 2352.76,993.136 \n",
       "  \"/>\n",
       "<polyline clip-path=\"url(#clip622)\" style=\"stroke:#000000; stroke-width:2; stroke-opacity:0.1; fill:none\" points=\"\n",
       "  134.584,540.556 2352.76,540.556 \n",
       "  \"/>\n",
       "<polyline clip-path=\"url(#clip622)\" style=\"stroke:#000000; stroke-width:2; stroke-opacity:0.1; fill:none\" points=\"\n",
       "  134.584,87.9763 2352.76,87.9763 \n",
       "  \"/>\n",
       "<polyline clip-path=\"url(#clip620)\" style=\"stroke:#000000; stroke-width:4; stroke-opacity:1; fill:none\" points=\"\n",
       "  134.584,1486.45 134.584,47.2441 \n",
       "  \"/>\n",
       "<polyline clip-path=\"url(#clip620)\" style=\"stroke:#000000; stroke-width:4; stroke-opacity:1; fill:none\" points=\"\n",
       "  134.584,1445.72 161.203,1445.72 \n",
       "  \"/>\n",
       "<polyline clip-path=\"url(#clip620)\" style=\"stroke:#000000; stroke-width:4; stroke-opacity:1; fill:none\" points=\"\n",
       "  134.584,993.136 161.203,993.136 \n",
       "  \"/>\n",
       "<polyline clip-path=\"url(#clip620)\" style=\"stroke:#000000; stroke-width:4; stroke-opacity:1; fill:none\" points=\"\n",
       "  134.584,540.556 161.203,540.556 \n",
       "  \"/>\n",
       "<polyline clip-path=\"url(#clip620)\" style=\"stroke:#000000; stroke-width:4; stroke-opacity:1; fill:none\" points=\"\n",
       "  134.584,87.9763 161.203,87.9763 \n",
       "  \"/>\n",
       "<path clip-path=\"url(#clip620)\" d=\"M 0 0 M86.6401 1431.51 Q83.029 1431.51 81.2003 1435.08 Q79.3948 1438.62 79.3948 1445.75 Q79.3948 1452.86 81.2003 1456.42 Q83.029 1459.96 86.6401 1459.96 Q90.2743 1459.96 92.0799 1456.42 Q93.9086 1452.86 93.9086 1445.75 Q93.9086 1438.62 92.0799 1435.08 Q90.2743 1431.51 86.6401 1431.51 M86.6401 1427.81 Q92.4502 1427.81 95.5058 1432.42 Q98.5845 1437 98.5845 1445.75 Q98.5845 1454.48 95.5058 1459.08 Q92.4502 1463.67 86.6401 1463.67 Q80.8299 1463.67 77.7512 1459.08 Q74.6957 1454.48 74.6957 1445.75 Q74.6957 1437 77.7512 1432.42 Q80.8299 1427.81 86.6401 1427.81 Z\" fill=\"#000000\" fill-rule=\"evenodd\" fill-opacity=\"1\" /><path clip-path=\"url(#clip620)\" d=\"M 0 0 M77.6818 975.856 L96.0382 975.856 L96.0382 979.791 L81.9642 979.791 L81.9642 988.263 Q82.9827 987.916 84.0012 987.754 Q85.0197 987.569 86.0382 987.569 Q91.8252 987.569 95.2049 990.74 Q98.5845 993.911 98.5845 999.328 Q98.5845 1004.91 95.1123 1008.01 Q91.6401 1011.09 85.3206 1011.09 Q83.1447 1011.09 80.8762 1010.72 Q78.6309 1010.35 76.2235 1009.61 L76.2235 1004.91 Q78.3068 1006.04 80.529 1006.6 Q82.7512 1007.15 85.2281 1007.15 Q89.2327 1007.15 91.5706 1005.05 Q93.9086 1002.94 93.9086 999.328 Q93.9086 995.717 91.5706 993.61 Q89.2327 991.504 85.2281 991.504 Q83.3531 991.504 81.4781 991.921 Q79.6262 992.337 77.6818 993.217 L77.6818 975.856 Z\" fill=\"#000000\" fill-rule=\"evenodd\" fill-opacity=\"1\" /><path clip-path=\"url(#clip620)\" d=\"M 0 0 M51.6634 553.901 L59.3023 553.901 L59.3023 527.535 L50.9921 529.202 L50.9921 524.943 L59.256 523.276 L63.9319 523.276 L63.9319 553.901 L71.5707 553.901 L71.5707 557.836 L51.6634 557.836 L51.6634 553.901 Z\" fill=\"#000000\" fill-rule=\"evenodd\" fill-opacity=\"1\" /><path clip-path=\"url(#clip620)\" d=\"M 0 0 M86.6401 526.355 Q83.029 526.355 81.2003 529.92 Q79.3948 533.461 79.3948 540.591 Q79.3948 547.697 81.2003 551.262 Q83.029 554.804 86.6401 554.804 Q90.2743 554.804 92.0799 551.262 Q93.9086 547.697 93.9086 540.591 Q93.9086 533.461 92.0799 529.92 Q90.2743 526.355 86.6401 526.355 M86.6401 522.651 Q92.4502 522.651 95.5058 527.258 Q98.5845 531.841 98.5845 540.591 Q98.5845 549.318 95.5058 553.924 Q92.4502 558.507 86.6401 558.507 Q80.8299 558.507 77.7512 553.924 Q74.6957 549.318 74.6957 540.591 Q74.6957 531.841 77.7512 527.258 Q80.8299 522.651 86.6401 522.651 Z\" fill=\"#000000\" fill-rule=\"evenodd\" fill-opacity=\"1\" /><path clip-path=\"url(#clip620)\" d=\"M 0 0 M52.6588 101.321 L60.2976 101.321 L60.2976 74.9555 L51.9875 76.6222 L51.9875 72.3629 L60.2513 70.6963 L64.9272 70.6963 L64.9272 101.321 L72.5661 101.321 L72.5661 105.256 L52.6588 105.256 L52.6588 101.321 Z\" fill=\"#000000\" fill-rule=\"evenodd\" fill-opacity=\"1\" /><path clip-path=\"url(#clip620)\" d=\"M 0 0 M77.6818 70.6963 L96.0382 70.6963 L96.0382 74.6314 L81.9642 74.6314 L81.9642 83.1036 Q82.9827 82.7564 84.0012 82.5944 Q85.0197 82.4092 86.0382 82.4092 Q91.8252 82.4092 95.2049 85.5805 Q98.5845 88.7517 98.5845 94.1684 Q98.5845 99.747 95.1123 102.849 Q91.6401 105.928 85.3206 105.928 Q83.1447 105.928 80.8762 105.557 Q78.6309 105.187 76.2235 104.446 L76.2235 99.747 Q78.3068 100.881 80.529 101.437 Q82.7512 101.992 85.2281 101.992 Q89.2327 101.992 91.5706 99.8859 Q93.9086 97.7795 93.9086 94.1684 Q93.9086 90.5573 91.5706 88.4508 Q89.2327 86.3443 85.2281 86.3443 Q83.3531 86.3443 81.4781 86.761 Q79.6262 87.1777 77.6818 88.0573 L77.6818 70.6963 Z\" fill=\"#000000\" fill-rule=\"evenodd\" fill-opacity=\"1\" /><polyline clip-path=\"url(#clip622)\" style=\"stroke:#009af9; stroke-width:4; stroke-opacity:1; fill:none\" points=\"\n",
       "  197.363,812.104 288.346,812.104 379.329,993.136 470.313,1264.68 561.296,1264.68 652.279,1174.17 743.262,1264.68 834.246,1083.65 925.229,812.104 1016.21,1174.17 \n",
       "  1107.2,1355.2 1198.18,1264.68 1289.16,1264.68 1380.15,1264.68 1471.13,1445.72 1562.11,1355.2 1653.09,1264.68 1744.08,1445.72 1835.06,1445.72 1926.04,1445.72 \n",
       "  2017.03,1445.72 2108.01,1445.72 2198.99,1445.72 2289.98,1445.72 \n",
       "  \"/>\n",
       "<polyline clip-path=\"url(#clip622)\" style=\"stroke:#e26f46; stroke-width:4; stroke-opacity:1; fill:none\" points=\"\n",
       "  197.363,269.008 288.346,269.008 379.329,87.9763 470.313,359.524 561.296,359.524 652.279,1083.65 743.262,993.136 834.246,721.588 925.229,359.524 1016.21,359.524 \n",
       "  1107.2,87.9763 1198.18,359.524 1289.16,269.008 1380.15,359.524 1471.13,359.524 1562.11,812.104 1653.09,902.62 1744.08,812.104 1835.06,1264.68 1926.04,1083.65 \n",
       "  2017.03,902.62 2108.01,902.62 2198.99,1264.68 2289.98,1445.72 \n",
       "  \"/>\n",
       "<polyline clip-path=\"url(#clip622)\" style=\"stroke:#3da44d; stroke-width:4; stroke-opacity:1; fill:none\" points=\"\n",
       "  197.363,1083.65 288.346,1174.17 379.329,1355.2 470.313,1445.72 561.296,1355.2 652.279,1445.72 743.262,1445.72 834.246,1445.72 925.229,1445.72 1016.21,1355.2 \n",
       "  1107.2,1445.72 1198.18,1445.72 1289.16,1445.72 1380.15,1445.72 1471.13,1355.2 1562.11,1445.72 1653.09,1445.72 1744.08,1445.72 1835.06,1445.72 1926.04,1445.72 \n",
       "  2017.03,1445.72 2108.01,1445.72 2198.99,1445.72 2289.98,1445.72 \n",
       "  \"/>\n",
       "<polyline clip-path=\"url(#clip622)\" style=\"stroke:#c271d2; stroke-width:4; stroke-opacity:1; fill:none\" points=\"\n",
       "  197.363,1264.68 288.346,1445.72 379.329,1445.72 470.313,1445.72 561.296,1445.72 652.279,1445.72 743.262,1445.72 834.246,1445.72 925.229,1445.72 1016.21,1445.72 \n",
       "  1107.2,1445.72 1198.18,1445.72 1289.16,1445.72 1380.15,1445.72 1471.13,1445.72 1562.11,1445.72 1653.09,1445.72 1744.08,1445.72 1835.06,1445.72 1926.04,1445.72 \n",
       "  2017.03,1445.72 2108.01,1445.72 2198.99,1445.72 2289.98,1445.72 \n",
       "  \"/>\n",
       "<path clip-path=\"url(#clip620)\" d=\"\n",
       "M1694.09 397.618 L2278.82 397.618 L2278.82 95.2176 L1694.09 95.2176  Z\n",
       "  \" fill=\"#ffffff\" fill-rule=\"evenodd\" fill-opacity=\"1\"/>\n",
       "<polyline clip-path=\"url(#clip620)\" style=\"stroke:#000000; stroke-width:4; stroke-opacity:1; fill:none\" points=\"\n",
       "  1694.09,397.618 2278.82,397.618 2278.82,95.2176 1694.09,95.2176 1694.09,397.618 \n",
       "  \"/>\n",
       "<polyline clip-path=\"url(#clip620)\" style=\"stroke:#009af9; stroke-width:4; stroke-opacity:1; fill:none\" points=\"\n",
       "  1718.74,155.698 1866.62,155.698 \n",
       "  \"/>\n",
       "<path clip-path=\"url(#clip620)\" d=\"M 0 0 M1910.17 159.714 Q1910.17 155.084 1908.25 152.538 Q1906.35 149.992 1902.91 149.992 Q1899.48 149.992 1897.56 152.538 Q1895.66 155.084 1895.66 159.714 Q1895.66 164.32 1897.56 166.866 Q1899.48 169.413 1902.91 169.413 Q1906.35 169.413 1908.25 166.866 Q1910.17 164.32 1910.17 159.714 M1914.43 169.76 Q1914.43 176.38 1911.49 179.598 Q1908.55 182.839 1902.49 182.839 Q1900.24 182.839 1898.25 182.491 Q1896.26 182.167 1894.39 181.473 L1894.39 177.329 Q1896.26 178.348 1898.09 178.834 Q1899.92 179.32 1901.82 179.32 Q1906.01 179.32 1908.09 177.121 Q1910.17 174.945 1910.17 170.524 L1910.17 168.417 Q1908.85 170.709 1906.79 171.843 Q1904.73 172.978 1901.86 172.978 Q1897.1 172.978 1894.18 169.343 Q1891.26 165.709 1891.26 159.714 Q1891.26 153.695 1894.18 150.061 Q1897.1 146.427 1901.86 146.427 Q1904.73 146.427 1906.79 147.561 Q1908.85 148.695 1910.17 150.987 L1910.17 147.052 L1914.43 147.052 L1914.43 169.76 Z\" fill=\"#000000\" fill-rule=\"evenodd\" fill-opacity=\"1\" /><path clip-path=\"url(#clip620)\" d=\"M 0 0 M1928.95 150.038 Q1925.52 150.038 1923.53 152.723 Q1921.54 155.385 1921.54 160.038 Q1921.54 164.691 1923.51 167.376 Q1925.5 170.038 1928.95 170.038 Q1932.35 170.038 1934.34 167.353 Q1936.33 164.667 1936.33 160.038 Q1936.33 155.431 1934.34 152.746 Q1932.35 150.038 1928.95 150.038 M1928.95 146.427 Q1934.5 146.427 1937.67 150.038 Q1940.85 153.649 1940.85 160.038 Q1940.85 166.404 1937.67 170.038 Q1934.5 173.649 1928.95 173.649 Q1923.37 173.649 1920.2 170.038 Q1917.05 166.404 1917.05 160.038 Q1917.05 153.649 1920.2 150.038 Q1923.37 146.427 1928.95 146.427 Z\" fill=\"#000000\" fill-rule=\"evenodd\" fill-opacity=\"1\" /><path clip-path=\"url(#clip620)\" d=\"M 0 0 M1945.45 136.959 L1949.71 136.959 L1949.71 150.894 L1952.6 148.811 L1954.36 151.265 L1949.71 154.529 L1949.71 172.978 L1945.45 172.978 L1945.45 157.561 L1942.6 159.598 L1940.89 157.144 L1945.45 153.88 L1945.45 136.959 Z\" fill=\"#000000\" fill-rule=\"evenodd\" fill-opacity=\"1\" /><path clip-path=\"url(#clip620)\" d=\"M 0 0 M1981.01 158.95 L1981.01 161.033 L1961.42 161.033 Q1961.7 165.431 1964.06 167.746 Q1966.45 170.038 1970.68 170.038 Q1973.14 170.038 1975.43 169.436 Q1977.74 168.834 1980.01 167.63 L1980.01 171.658 Q1977.72 172.63 1975.31 173.14 Q1972.91 173.649 1970.43 173.649 Q1964.22 173.649 1960.59 170.038 Q1956.98 166.427 1956.98 160.269 Q1956.98 153.904 1960.41 150.177 Q1963.85 146.427 1969.69 146.427 Q1974.92 146.427 1977.95 149.806 Q1981.01 153.163 1981.01 158.95 M1976.75 157.7 Q1976.7 154.205 1974.78 152.121 Q1972.88 150.038 1969.73 150.038 Q1966.17 150.038 1964.02 152.052 Q1961.89 154.066 1961.56 157.723 L1976.75 157.7 M1973.25 172.978 L1976.01 172.978 Q1974.97 174.39 1974.46 175.408 Q1973.97 176.427 1973.97 177.144 Q1973.97 178.209 1974.59 178.741 Q1975.24 179.274 1976.49 179.274 Q1977.23 179.274 1977.95 179.089 Q1978.67 178.927 1979.39 178.579 L1979.39 181.658 Q1978.51 181.89 1977.72 182.005 Q1976.93 182.121 1976.24 182.121 Q1973.41 182.121 1972.07 181.103 Q1970.75 180.107 1970.75 177.954 Q1970.75 176.843 1971.35 175.616 Q1971.98 174.413 1973.25 172.978 Z\" fill=\"#000000\" fill-rule=\"evenodd\" fill-opacity=\"1\" /><path clip-path=\"url(#clip620)\" d=\"M 0 0 M2004.09 160.038 Q2004.09 155.339 2002.14 152.677 Q2000.22 149.992 1996.84 149.992 Q1993.46 149.992 1991.52 152.677 Q1989.59 155.339 1989.59 160.038 Q1989.59 164.737 1991.52 167.422 Q1993.46 170.084 1996.84 170.084 Q2000.22 170.084 2002.14 167.422 Q2004.09 164.737 2004.09 160.038 M1989.59 150.987 Q1990.94 148.672 1992.97 147.561 Q1995.03 146.427 1997.88 146.427 Q2002.6 146.427 2005.54 150.177 Q2008.51 153.927 2008.51 160.038 Q2008.51 166.149 2005.54 169.899 Q2002.6 173.649 1997.88 173.649 Q1995.03 173.649 1992.97 172.538 Q1990.94 171.403 1989.59 169.089 L1989.59 172.978 L1985.31 172.978 L1985.31 136.959 L1989.59 136.959 L1989.59 150.987 Z\" fill=\"#000000\" fill-rule=\"evenodd\" fill-opacity=\"1\" /><path clip-path=\"url(#clip620)\" d=\"M 0 0 M2012.97 147.052 L2017.23 147.052 L2017.23 172.978 L2012.97 172.978 L2012.97 147.052 M2012.97 136.959 L2017.23 136.959 L2017.23 142.353 L2012.97 142.353 L2012.97 136.959 Z\" fill=\"#000000\" fill-rule=\"evenodd\" fill-opacity=\"1\" /><path clip-path=\"url(#clip620)\" d=\"M 0 0 M2043.88 158.95 L2043.88 161.033 L2024.29 161.033 Q2024.57 165.431 2026.93 167.746 Q2029.32 170.038 2033.55 170.038 Q2036.01 170.038 2038.3 169.436 Q2040.61 168.834 2042.88 167.63 L2042.88 171.658 Q2040.59 172.63 2038.18 173.14 Q2035.78 173.649 2033.3 173.649 Q2027.09 173.649 2023.46 170.038 Q2019.85 166.427 2019.85 160.269 Q2019.85 153.904 2023.28 150.177 Q2026.72 146.427 2032.56 146.427 Q2037.79 146.427 2040.82 149.806 Q2043.88 153.163 2043.88 158.95 M2039.62 157.7 Q2039.57 154.205 2037.65 152.121 Q2035.75 150.038 2032.6 150.038 Q2029.04 150.038 2026.89 152.052 Q2024.76 154.066 2024.43 157.723 L2039.62 157.7 Z\" fill=\"#000000\" fill-rule=\"evenodd\" fill-opacity=\"1\" /><polyline clip-path=\"url(#clip620)\" style=\"stroke:#e26f46; stroke-width:4; stroke-opacity:1; fill:none\" points=\"\n",
       "  1718.74,216.178 1866.62,216.178 \n",
       "  \"/>\n",
       "<path clip-path=\"url(#clip620)\" d=\"M 0 0 M1896.59 207.532 L1900.85 207.532 L1900.85 233.921 Q1900.85 238.874 1898.95 241.096 Q1897.07 243.319 1892.88 243.319 L1891.26 243.319 L1891.26 239.708 L1892.4 239.708 Q1894.83 239.708 1895.71 238.573 Q1896.59 237.462 1896.59 233.921 L1896.59 207.532 M1896.59 197.439 L1900.85 197.439 L1900.85 202.833 L1896.59 202.833 L1896.59 197.439 Z\" fill=\"#000000\" fill-rule=\"evenodd\" fill-opacity=\"1\" /><path clip-path=\"url(#clip620)\" d=\"M 0 0 M1917.1 220.425 Q1911.93 220.425 1909.94 221.606 Q1907.95 222.786 1907.95 225.634 Q1907.95 227.902 1909.43 229.245 Q1910.94 230.564 1913.51 230.564 Q1917.05 230.564 1919.18 228.064 Q1921.33 225.541 1921.33 221.374 L1921.33 220.425 L1917.1 220.425 M1925.59 218.666 L1925.59 233.458 L1921.33 233.458 L1921.33 229.522 Q1919.87 231.883 1917.7 233.018 Q1915.52 234.129 1912.37 234.129 Q1908.39 234.129 1906.03 231.907 Q1903.69 229.661 1903.69 225.911 Q1903.69 221.536 1906.61 219.314 Q1909.55 217.092 1915.36 217.092 L1921.33 217.092 L1921.33 216.675 Q1921.33 213.735 1919.39 212.138 Q1917.47 210.518 1913.97 210.518 Q1911.75 210.518 1909.64 211.05 Q1907.54 211.583 1905.59 212.647 L1905.59 208.712 Q1907.93 207.81 1910.13 207.37 Q1912.33 206.907 1914.41 206.907 Q1920.04 206.907 1922.81 209.823 Q1925.59 212.74 1925.59 218.666 Z\" fill=\"#000000\" fill-rule=\"evenodd\" fill-opacity=\"1\" /><path clip-path=\"url(#clip620)\" d=\"M 0 0 M1946.59 208.296 L1946.59 212.323 Q1944.78 211.397 1942.84 210.935 Q1940.89 210.472 1938.81 210.472 Q1935.64 210.472 1934.04 211.444 Q1932.47 212.416 1932.47 214.36 Q1932.47 215.842 1933.6 216.698 Q1934.73 217.532 1938.16 218.296 L1939.62 218.62 Q1944.16 219.592 1946.05 221.374 Q1947.97 223.134 1947.97 226.305 Q1947.97 229.916 1945.1 232.022 Q1942.26 234.129 1937.26 234.129 Q1935.17 234.129 1932.91 233.712 Q1930.66 233.319 1928.16 232.508 L1928.16 228.11 Q1930.52 229.337 1932.81 229.962 Q1935.1 230.564 1937.35 230.564 Q1940.36 230.564 1941.98 229.546 Q1943.6 228.504 1943.6 226.629 Q1943.6 224.893 1942.42 223.967 Q1941.26 223.041 1937.3 222.184 L1935.82 221.837 Q1931.86 221.004 1930.1 219.291 Q1928.35 217.555 1928.35 214.546 Q1928.35 210.888 1930.94 208.898 Q1933.53 206.907 1938.3 206.907 Q1940.66 206.907 1942.74 207.254 Q1944.83 207.601 1946.59 208.296 Z\" fill=\"#000000\" fill-rule=\"evenodd\" fill-opacity=\"1\" /><path clip-path=\"url(#clip620)\" d=\"M 0 0 M1956.66 200.171 L1956.66 207.532 L1965.43 207.532 L1965.43 210.842 L1956.66 210.842 L1956.66 224.916 Q1956.66 228.087 1957.51 228.99 Q1958.39 229.893 1961.05 229.893 L1965.43 229.893 L1965.43 233.458 L1961.05 233.458 Q1956.12 233.458 1954.25 231.629 Q1952.37 229.777 1952.37 224.916 L1952.37 210.842 L1949.25 210.842 L1949.25 207.532 L1952.37 207.532 L1952.37 200.171 L1956.66 200.171 Z\" fill=\"#000000\" fill-rule=\"evenodd\" fill-opacity=\"1\" /><path clip-path=\"url(#clip620)\" d=\"M 0 0 M1984.92 211.513 Q1984.2 211.097 1983.34 210.911 Q1982.51 210.703 1981.49 210.703 Q1977.88 210.703 1975.94 213.064 Q1974.02 215.402 1974.02 219.8 L1974.02 233.458 L1969.73 233.458 L1969.73 207.532 L1974.02 207.532 L1974.02 211.56 Q1975.36 209.198 1977.51 208.064 Q1979.66 206.907 1982.74 206.907 Q1983.18 206.907 1983.72 206.976 Q1984.25 207.023 1984.9 207.138 L1984.92 211.513 Z\" fill=\"#000000\" fill-rule=\"evenodd\" fill-opacity=\"1\" /><path clip-path=\"url(#clip620)\" d=\"M 0 0 M1987.53 207.532 L2007.77 207.532 L2007.77 211.421 L1991.75 230.055 L2007.77 230.055 L2007.77 233.458 L1986.96 233.458 L1986.96 229.569 L2002.97 210.935 L1987.53 210.935 L1987.53 207.532 Z\" fill=\"#000000\" fill-rule=\"evenodd\" fill-opacity=\"1\" /><path clip-path=\"url(#clip620)\" d=\"M 0 0 M2034.41 219.43 L2034.41 221.513 L2014.83 221.513 Q2015.1 225.911 2017.47 228.226 Q2019.85 230.518 2024.09 230.518 Q2026.54 230.518 2028.83 229.916 Q2031.15 229.314 2033.41 228.11 L2033.41 232.138 Q2031.12 233.11 2028.72 233.62 Q2026.31 234.129 2023.83 234.129 Q2017.63 234.129 2013.99 230.518 Q2010.38 226.907 2010.38 220.749 Q2010.38 214.384 2013.81 210.657 Q2017.26 206.907 2023.09 206.907 Q2028.32 206.907 2031.35 210.286 Q2034.41 213.643 2034.41 219.43 M2030.15 218.18 Q2030.1 214.685 2028.18 212.601 Q2026.28 210.518 2023.14 210.518 Q2019.57 210.518 2017.42 212.532 Q2015.29 214.546 2014.97 218.203 L2030.15 218.18 M2026.65 233.458 L2029.41 233.458 Q2028.37 234.87 2027.86 235.888 Q2027.37 236.907 2027.37 237.624 Q2027.37 238.689 2028 239.221 Q2028.65 239.754 2029.9 239.754 Q2030.64 239.754 2031.35 239.569 Q2032.07 239.407 2032.79 239.059 L2032.79 242.138 Q2031.91 242.37 2031.12 242.485 Q2030.34 242.601 2029.64 242.601 Q2026.82 242.601 2025.47 241.583 Q2024.15 240.587 2024.15 238.434 Q2024.15 237.323 2024.76 236.096 Q2025.38 234.893 2026.65 233.458 Z\" fill=\"#000000\" fill-rule=\"evenodd\" fill-opacity=\"1\" /><path clip-path=\"url(#clip620)\" d=\"M 0 0 M2057.49 220.518 Q2057.49 215.819 2055.54 213.157 Q2053.62 210.472 2050.24 210.472 Q2046.86 210.472 2044.92 213.157 Q2043 215.819 2043 220.518 Q2043 225.217 2044.92 227.902 Q2046.86 230.564 2050.24 230.564 Q2053.62 230.564 2055.54 227.902 Q2057.49 225.217 2057.49 220.518 M2043 211.467 Q2044.34 209.152 2046.38 208.041 Q2048.44 206.907 2051.28 206.907 Q2056.01 206.907 2058.95 210.657 Q2061.91 214.407 2061.91 220.518 Q2061.91 226.629 2058.95 230.379 Q2056.01 234.129 2051.28 234.129 Q2048.44 234.129 2046.38 233.018 Q2044.34 231.883 2043 229.569 L2043 233.458 L2038.71 233.458 L2038.71 197.439 L2043 197.439 L2043 211.467 Z\" fill=\"#000000\" fill-rule=\"evenodd\" fill-opacity=\"1\" /><path clip-path=\"url(#clip620)\" d=\"M 0 0 M2066.38 207.532 L2070.64 207.532 L2070.64 233.458 L2066.38 233.458 L2066.38 207.532 M2066.38 197.439 L2070.64 197.439 L2070.64 202.833 L2066.38 202.833 L2066.38 197.439 Z\" fill=\"#000000\" fill-rule=\"evenodd\" fill-opacity=\"1\" /><path clip-path=\"url(#clip620)\" d=\"M 0 0 M2097.28 219.43 L2097.28 221.513 L2077.7 221.513 Q2077.97 225.911 2080.34 228.226 Q2082.72 230.518 2086.96 230.518 Q2089.41 230.518 2091.7 229.916 Q2094.02 229.314 2096.28 228.11 L2096.28 232.138 Q2093.99 233.11 2091.59 233.62 Q2089.18 234.129 2086.7 234.129 Q2080.5 234.129 2076.86 230.518 Q2073.25 226.907 2073.25 220.749 Q2073.25 214.384 2076.68 210.657 Q2080.13 206.907 2085.96 206.907 Q2091.19 206.907 2094.22 210.286 Q2097.28 213.643 2097.28 219.43 M2093.02 218.18 Q2092.97 214.685 2091.05 212.601 Q2089.15 210.518 2086.01 210.518 Q2082.44 210.518 2080.29 212.532 Q2078.16 214.546 2077.84 218.203 L2093.02 218.18 Z\" fill=\"#000000\" fill-rule=\"evenodd\" fill-opacity=\"1\" /><polyline clip-path=\"url(#clip620)\" style=\"stroke:#3da44d; stroke-width:4; stroke-opacity:1; fill:none\" points=\"\n",
       "  1718.74,276.658 1866.62,276.658 \n",
       "  \"/>\n",
       "<path clip-path=\"url(#clip620)\" d=\"M 0 0 M1911.77 269.007 L1911.77 272.989 Q1909.97 271.993 1908.14 271.507 Q1906.33 270.998 1904.48 270.998 Q1900.34 270.998 1898.04 273.637 Q1895.75 276.252 1895.75 280.998 Q1895.75 285.743 1898.04 288.382 Q1900.34 290.998 1904.48 290.998 Q1906.33 290.998 1908.14 290.512 Q1909.97 290.002 1911.77 289.007 L1911.77 292.942 Q1909.99 293.776 1908.07 294.192 Q1906.17 294.609 1904.02 294.609 Q1898.16 294.609 1894.71 290.928 Q1891.26 287.248 1891.26 280.998 Q1891.26 274.655 1894.73 271.021 Q1898.23 267.387 1904.29 267.387 Q1906.26 267.387 1908.14 267.803 Q1910.01 268.197 1911.77 269.007 Z\" fill=\"#000000\" fill-rule=\"evenodd\" fill-opacity=\"1\" /><path clip-path=\"url(#clip620)\" d=\"M 0 0 M1937.79 278.289 L1937.79 293.938 L1933.53 293.938 L1933.53 278.428 Q1933.53 274.748 1932.1 272.919 Q1930.66 271.09 1927.79 271.09 Q1924.34 271.09 1922.35 273.29 Q1920.36 275.489 1920.36 279.285 L1920.36 293.938 L1916.08 293.938 L1916.08 257.919 L1920.36 257.919 L1920.36 272.04 Q1921.89 269.702 1923.95 268.544 Q1926.03 267.387 1928.74 267.387 Q1933.21 267.387 1935.5 270.165 Q1937.79 272.919 1937.79 278.289 Z\" fill=\"#000000\" fill-rule=\"evenodd\" fill-opacity=\"1\" /><path clip-path=\"url(#clip620)\" d=\"M 0 0 M1952.3 270.998 Q1948.88 270.998 1946.89 273.683 Q1944.9 276.345 1944.9 280.998 Q1944.9 285.651 1946.86 288.336 Q1948.85 290.998 1952.3 290.998 Q1955.71 290.998 1957.7 288.313 Q1959.69 285.627 1959.69 280.998 Q1959.69 276.391 1957.7 273.706 Q1955.71 270.998 1952.3 270.998 M1952.3 267.387 Q1957.86 267.387 1961.03 270.998 Q1964.2 274.609 1964.2 280.998 Q1964.2 287.364 1961.03 290.998 Q1957.86 294.609 1952.3 294.609 Q1946.72 294.609 1943.55 290.998 Q1940.41 287.364 1940.41 280.998 Q1940.41 274.609 1943.55 270.998 Q1946.72 267.387 1952.3 267.387 Z\" fill=\"#000000\" fill-rule=\"evenodd\" fill-opacity=\"1\" /><path clip-path=\"url(#clip620)\" d=\"M 0 0 M1983.69 271.993 Q1982.97 271.577 1982.12 271.391 Q1981.28 271.183 1980.27 271.183 Q1976.66 271.183 1974.71 273.544 Q1972.79 275.882 1972.79 280.28 L1972.79 293.938 L1968.51 293.938 L1968.51 268.012 L1972.79 268.012 L1972.79 272.04 Q1974.13 269.678 1976.28 268.544 Q1978.44 267.387 1981.52 267.387 Q1981.96 267.387 1982.49 267.456 Q1983.02 267.503 1983.67 267.618 L1983.69 271.993 Z\" fill=\"#000000\" fill-rule=\"evenodd\" fill-opacity=\"1\" /><path clip-path=\"url(#clip620)\" d=\"M 0 0 M2009.29 279.91 L2009.29 281.993 L1989.71 281.993 Q1989.99 286.391 1992.35 288.706 Q1994.73 290.998 1998.97 290.998 Q2001.42 290.998 2003.72 290.396 Q2006.03 289.794 2008.3 288.59 L2008.3 292.618 Q2006.01 293.59 2003.6 294.1 Q2001.19 294.609 1998.72 294.609 Q1992.51 294.609 1988.88 290.998 Q1985.27 287.387 1985.27 281.229 Q1985.27 274.864 1988.69 271.137 Q1992.14 267.387 1997.97 267.387 Q2003.21 267.387 2006.24 270.766 Q2009.29 274.123 2009.29 279.91 M2005.03 278.66 Q2004.99 275.165 2003.07 273.081 Q2001.17 270.998 1998.02 270.998 Q1994.46 270.998 1992.3 273.012 Q1990.17 275.026 1989.85 278.683 L2005.03 278.66 Z\" fill=\"#000000\" fill-rule=\"evenodd\" fill-opacity=\"1\" /><path clip-path=\"url(#clip620)\" d=\"M 0 0 M2045.89 280.674 Q2045.89 276.044 2043.97 273.498 Q2042.07 270.952 2038.62 270.952 Q2035.2 270.952 2033.28 273.498 Q2031.38 276.044 2031.38 280.674 Q2031.38 285.28 2033.28 287.826 Q2035.2 290.373 2038.62 290.373 Q2042.07 290.373 2043.97 287.826 Q2045.89 285.28 2045.89 280.674 M2050.15 290.72 Q2050.15 297.34 2047.21 300.558 Q2044.27 303.799 2038.21 303.799 Q2035.96 303.799 2033.97 303.451 Q2031.98 303.127 2030.1 302.433 L2030.1 298.289 Q2031.98 299.308 2033.81 299.794 Q2035.64 300.28 2037.53 300.28 Q2041.72 300.28 2043.81 298.081 Q2045.89 295.905 2045.89 291.484 L2045.89 289.377 Q2044.57 291.669 2042.51 292.803 Q2040.45 293.938 2037.58 293.938 Q2032.81 293.938 2029.9 290.303 Q2026.98 286.669 2026.98 280.674 Q2026.98 274.655 2029.9 271.021 Q2032.81 267.387 2037.58 267.387 Q2040.45 267.387 2042.51 268.521 Q2044.57 269.655 2045.89 271.947 L2045.89 268.012 L2050.15 268.012 L2050.15 290.72 Z\" fill=\"#000000\" fill-rule=\"evenodd\" fill-opacity=\"1\" /><path clip-path=\"url(#clip620)\" d=\"M 0 0 M2064.66 270.998 Q2061.24 270.998 2059.25 273.683 Q2057.26 276.345 2057.26 280.998 Q2057.26 285.651 2059.22 288.336 Q2061.21 290.998 2064.66 290.998 Q2068.07 290.998 2070.06 288.313 Q2072.05 285.627 2072.05 280.998 Q2072.05 276.391 2070.06 273.706 Q2068.07 270.998 2064.66 270.998 M2064.66 267.387 Q2070.22 267.387 2073.39 270.998 Q2076.56 274.609 2076.56 280.998 Q2076.56 287.364 2073.39 290.998 Q2070.22 294.609 2064.66 294.609 Q2059.09 294.609 2055.91 290.998 Q2052.77 287.364 2052.77 280.998 Q2052.77 274.609 2055.91 270.998 Q2059.09 267.387 2064.66 267.387 Z\" fill=\"#000000\" fill-rule=\"evenodd\" fill-opacity=\"1\" /><path clip-path=\"url(#clip620)\" d=\"M 0 0 M2081.17 257.919 L2085.43 257.919 L2085.43 271.854 L2088.32 269.771 L2090.08 272.225 L2085.43 275.489 L2085.43 293.938 L2081.17 293.938 L2081.17 278.521 L2078.32 280.558 L2076.61 278.104 L2081.17 274.84 L2081.17 257.919 Z\" fill=\"#000000\" fill-rule=\"evenodd\" fill-opacity=\"1\" /><path clip-path=\"url(#clip620)\" d=\"M 0 0 M2116.72 279.91 L2116.72 281.993 L2097.14 281.993 Q2097.42 286.391 2099.78 288.706 Q2102.16 290.998 2106.4 290.998 Q2108.85 290.998 2111.15 290.396 Q2113.46 289.794 2115.73 288.59 L2115.73 292.618 Q2113.44 293.59 2111.03 294.1 Q2108.62 294.609 2106.15 294.609 Q2099.94 294.609 2096.31 290.998 Q2092.7 287.387 2092.7 281.229 Q2092.7 274.864 2096.12 271.137 Q2099.57 267.387 2105.4 267.387 Q2110.64 267.387 2113.67 270.766 Q2116.72 274.123 2116.72 279.91 M2112.46 278.66 Q2112.42 275.165 2110.5 273.081 Q2108.6 270.998 2105.45 270.998 Q2101.89 270.998 2099.73 273.012 Q2097.6 275.026 2097.28 278.683 L2112.46 278.66 M2108.97 293.938 L2111.72 293.938 Q2110.68 295.35 2110.17 296.368 Q2109.69 297.387 2109.69 298.104 Q2109.69 299.169 2110.31 299.701 Q2110.96 300.234 2112.21 300.234 Q2112.95 300.234 2113.67 300.049 Q2114.39 299.887 2115.1 299.539 L2115.1 302.618 Q2114.22 302.85 2113.44 302.965 Q2112.65 303.081 2111.96 303.081 Q2109.13 303.081 2107.79 302.063 Q2106.47 301.067 2106.47 298.914 Q2106.47 297.803 2107.07 296.576 Q2107.7 295.373 2108.97 293.938 Z\" fill=\"#000000\" fill-rule=\"evenodd\" fill-opacity=\"1\" /><path clip-path=\"url(#clip620)\" d=\"M 0 0 M2139.8 280.998 Q2139.8 276.299 2137.86 273.637 Q2135.94 270.952 2132.56 270.952 Q2129.18 270.952 2127.23 273.637 Q2125.31 276.299 2125.31 280.998 Q2125.31 285.697 2127.23 288.382 Q2129.18 291.044 2132.56 291.044 Q2135.94 291.044 2137.86 288.382 Q2139.8 285.697 2139.8 280.998 M2125.31 271.947 Q2126.65 269.632 2128.69 268.521 Q2130.75 267.387 2133.6 267.387 Q2138.32 267.387 2141.26 271.137 Q2144.22 274.887 2144.22 280.998 Q2144.22 287.109 2141.26 290.859 Q2138.32 294.609 2133.6 294.609 Q2130.75 294.609 2128.69 293.498 Q2126.65 292.363 2125.31 290.049 L2125.31 293.938 L2121.03 293.938 L2121.03 257.919 L2125.31 257.919 L2125.31 271.947 Z\" fill=\"#000000\" fill-rule=\"evenodd\" fill-opacity=\"1\" /><path clip-path=\"url(#clip620)\" d=\"M 0 0 M2148.69 268.012 L2152.95 268.012 L2152.95 293.938 L2148.69 293.938 L2148.69 268.012 M2148.69 257.919 L2152.95 257.919 L2152.95 263.313 L2148.69 263.313 L2148.69 257.919 Z\" fill=\"#000000\" fill-rule=\"evenodd\" fill-opacity=\"1\" /><path clip-path=\"url(#clip620)\" d=\"M 0 0 M2179.59 279.91 L2179.59 281.993 L2160.01 281.993 Q2160.29 286.391 2162.65 288.706 Q2165.03 290.998 2169.27 290.998 Q2171.72 290.998 2174.02 290.396 Q2176.33 289.794 2178.6 288.59 L2178.6 292.618 Q2176.31 293.59 2173.9 294.1 Q2171.49 294.609 2169.02 294.609 Q2162.81 294.609 2159.18 290.998 Q2155.57 287.387 2155.57 281.229 Q2155.57 274.864 2158.99 271.137 Q2162.44 267.387 2168.27 267.387 Q2173.51 267.387 2176.54 270.766 Q2179.59 274.123 2179.59 279.91 M2175.33 278.66 Q2175.29 275.165 2173.37 273.081 Q2171.47 270.998 2168.32 270.998 Q2164.76 270.998 2162.6 273.012 Q2160.47 275.026 2160.15 278.683 L2175.33 278.66 Z\" fill=\"#000000\" fill-rule=\"evenodd\" fill-opacity=\"1\" /><polyline clip-path=\"url(#clip620)\" style=\"stroke:#c271d2; stroke-width:4; stroke-opacity:1; fill:none\" points=\"\n",
       "  1718.74,337.138 1866.62,337.138 \n",
       "  \"/>\n",
       "<path clip-path=\"url(#clip620)\" d=\"M 0 0 M1911.77 329.487 L1911.77 333.469 Q1909.97 332.473 1908.14 331.987 Q1906.33 331.478 1904.48 331.478 Q1900.34 331.478 1898.04 334.117 Q1895.75 336.732 1895.75 341.478 Q1895.75 346.223 1898.04 348.862 Q1900.34 351.478 1904.48 351.478 Q1906.33 351.478 1908.14 350.992 Q1909.97 350.482 1911.77 349.487 L1911.77 353.422 Q1909.99 354.256 1908.07 354.672 Q1906.17 355.089 1904.02 355.089 Q1898.16 355.089 1894.71 351.408 Q1891.26 347.728 1891.26 341.478 Q1891.26 335.135 1894.73 331.501 Q1898.23 327.867 1904.29 327.867 Q1906.26 327.867 1908.14 328.283 Q1910.01 328.677 1911.77 329.487 Z\" fill=\"#000000\" fill-rule=\"evenodd\" fill-opacity=\"1\" /><path clip-path=\"url(#clip620)\" d=\"M 0 0 M1937.79 338.769 L1937.79 354.418 L1933.53 354.418 L1933.53 338.908 Q1933.53 335.228 1932.1 333.399 Q1930.66 331.57 1927.79 331.57 Q1924.34 331.57 1922.35 333.77 Q1920.36 335.969 1920.36 339.765 L1920.36 354.418 L1916.08 354.418 L1916.08 318.399 L1920.36 318.399 L1920.36 332.52 Q1921.89 330.182 1923.95 329.024 Q1926.03 327.867 1928.74 327.867 Q1933.21 327.867 1935.5 330.645 Q1937.79 333.399 1937.79 338.769 Z\" fill=\"#000000\" fill-rule=\"evenodd\" fill-opacity=\"1\" /><path clip-path=\"url(#clip620)\" d=\"M 0 0 M1952.3 331.478 Q1948.88 331.478 1946.89 334.163 Q1944.9 336.825 1944.9 341.478 Q1944.9 346.131 1946.86 348.816 Q1948.85 351.478 1952.3 351.478 Q1955.71 351.478 1957.7 348.793 Q1959.69 346.107 1959.69 341.478 Q1959.69 336.871 1957.7 334.186 Q1955.71 331.478 1952.3 331.478 M1952.3 327.867 Q1957.86 327.867 1961.03 331.478 Q1964.2 335.089 1964.2 341.478 Q1964.2 347.844 1961.03 351.478 Q1957.86 355.089 1952.3 355.089 Q1946.72 355.089 1943.55 351.478 Q1940.41 347.844 1940.41 341.478 Q1940.41 335.089 1943.55 331.478 Q1946.72 327.867 1952.3 327.867 Z\" fill=\"#000000\" fill-rule=\"evenodd\" fill-opacity=\"1\" /><path clip-path=\"url(#clip620)\" d=\"M 0 0 M1983.69 332.473 Q1982.97 332.057 1982.12 331.871 Q1981.28 331.663 1980.27 331.663 Q1976.66 331.663 1974.71 334.024 Q1972.79 336.362 1972.79 340.76 L1972.79 354.418 L1968.51 354.418 L1968.51 328.492 L1972.79 328.492 L1972.79 332.52 Q1974.13 330.158 1976.28 329.024 Q1978.44 327.867 1981.52 327.867 Q1981.96 327.867 1982.49 327.936 Q1983.02 327.983 1983.67 328.098 L1983.69 332.473 Z\" fill=\"#000000\" fill-rule=\"evenodd\" fill-opacity=\"1\" /><path clip-path=\"url(#clip620)\" d=\"M 0 0 M2009.29 340.39 L2009.29 342.473 L1989.71 342.473 Q1989.99 346.871 1992.35 349.186 Q1994.73 351.478 1998.97 351.478 Q2001.42 351.478 2003.72 350.876 Q2006.03 350.274 2008.3 349.07 L2008.3 353.098 Q2006.01 354.07 2003.6 354.58 Q2001.19 355.089 1998.72 355.089 Q1992.51 355.089 1988.88 351.478 Q1985.27 347.867 1985.27 341.709 Q1985.27 335.344 1988.69 331.617 Q1992.14 327.867 1997.97 327.867 Q2003.21 327.867 2006.24 331.246 Q2009.29 334.603 2009.29 340.39 M2005.03 339.14 Q2004.99 335.645 2003.07 333.561 Q2001.17 331.478 1998.02 331.478 Q1994.46 331.478 1992.3 333.492 Q1990.17 335.506 1989.85 339.163 L2005.03 339.14 Z\" fill=\"#000000\" fill-rule=\"evenodd\" fill-opacity=\"1\" /><path clip-path=\"url(#clip620)\" d=\"M 0 0 M2028.83 328.492 L2033.09 328.492 L2033.09 354.881 Q2033.09 359.834 2031.19 362.056 Q2029.32 364.279 2025.13 364.279 L2023.51 364.279 L2023.51 360.668 L2024.64 360.668 Q2027.07 360.668 2027.95 359.533 Q2028.83 358.422 2028.83 354.881 L2028.83 328.492 M2028.83 318.399 L2033.09 318.399 L2033.09 323.793 L2028.83 323.793 L2028.83 318.399 Z\" fill=\"#000000\" fill-rule=\"evenodd\" fill-opacity=\"1\" /><path clip-path=\"url(#clip620)\" d=\"M 0 0 M2049.34 341.385 Q2044.18 341.385 2042.19 342.566 Q2040.2 343.746 2040.2 346.594 Q2040.2 348.862 2041.68 350.205 Q2043.18 351.524 2045.75 351.524 Q2049.29 351.524 2051.42 349.024 Q2053.58 346.501 2053.58 342.334 L2053.58 341.385 L2049.34 341.385 M2057.84 339.626 L2057.84 354.418 L2053.58 354.418 L2053.58 350.482 Q2052.12 352.843 2049.94 353.978 Q2047.77 355.089 2044.62 355.089 Q2040.64 355.089 2038.28 352.867 Q2035.94 350.621 2035.94 346.871 Q2035.94 342.496 2038.85 340.274 Q2041.79 338.052 2047.6 338.052 L2053.58 338.052 L2053.58 337.635 Q2053.58 334.695 2051.63 333.098 Q2049.71 331.478 2046.21 331.478 Q2043.99 331.478 2041.89 332.01 Q2039.78 332.543 2037.84 333.607 L2037.84 329.672 Q2040.17 328.77 2042.37 328.33 Q2044.57 327.867 2046.65 327.867 Q2052.28 327.867 2055.06 330.783 Q2057.84 333.7 2057.84 339.626 Z\" fill=\"#000000\" fill-rule=\"evenodd\" fill-opacity=\"1\" /><path clip-path=\"url(#clip620)\" d=\"M 0 0 M2078.83 329.256 L2078.83 333.283 Q2077.02 332.357 2075.08 331.895 Q2073.14 331.432 2071.05 331.432 Q2067.88 331.432 2066.28 332.404 Q2064.71 333.376 2064.71 335.32 Q2064.71 336.802 2065.84 337.658 Q2066.98 338.492 2070.4 339.256 L2071.86 339.58 Q2076.4 340.552 2078.3 342.334 Q2080.22 344.094 2080.22 347.265 Q2080.22 350.876 2077.35 352.982 Q2074.5 355.089 2069.5 355.089 Q2067.42 355.089 2065.15 354.672 Q2062.9 354.279 2060.4 353.468 L2060.4 349.07 Q2062.77 350.297 2065.06 350.922 Q2067.35 351.524 2069.59 351.524 Q2072.6 351.524 2074.22 350.506 Q2075.84 349.464 2075.84 347.589 Q2075.84 345.853 2074.66 344.927 Q2073.51 344.001 2069.55 343.144 L2068.07 342.797 Q2064.11 341.964 2062.35 340.251 Q2060.59 338.515 2060.59 335.506 Q2060.59 331.848 2063.18 329.858 Q2065.78 327.867 2070.54 327.867 Q2072.9 327.867 2074.99 328.214 Q2077.07 328.561 2078.83 329.256 Z\" fill=\"#000000\" fill-rule=\"evenodd\" fill-opacity=\"1\" /><path clip-path=\"url(#clip620)\" d=\"M 0 0 M2088.9 321.131 L2088.9 328.492 L2097.67 328.492 L2097.67 331.802 L2088.9 331.802 L2088.9 345.876 Q2088.9 349.047 2089.76 349.95 Q2090.64 350.853 2093.3 350.853 L2097.67 350.853 L2097.67 354.418 L2093.3 354.418 Q2088.37 354.418 2086.49 352.589 Q2084.62 350.737 2084.62 345.876 L2084.62 331.802 L2081.49 331.802 L2081.49 328.492 L2084.62 328.492 L2084.62 321.131 L2088.9 321.131 Z\" fill=\"#000000\" fill-rule=\"evenodd\" fill-opacity=\"1\" /><path clip-path=\"url(#clip620)\" d=\"M 0 0 M2117.16 332.473 Q2116.45 332.057 2115.59 331.871 Q2114.76 331.663 2113.74 331.663 Q2110.13 331.663 2108.18 334.024 Q2106.26 336.362 2106.26 340.76 L2106.26 354.418 L2101.98 354.418 L2101.98 328.492 L2106.26 328.492 L2106.26 332.52 Q2107.6 330.158 2109.76 329.024 Q2111.91 327.867 2114.99 327.867 Q2115.43 327.867 2115.96 327.936 Q2116.49 327.983 2117.14 328.098 L2117.16 332.473 Z\" fill=\"#000000\" fill-rule=\"evenodd\" fill-opacity=\"1\" /><path clip-path=\"url(#clip620)\" d=\"M 0 0 M2119.78 328.492 L2140.01 328.492 L2140.01 332.381 L2123.99 351.015 L2140.01 351.015 L2140.01 354.418 L2119.2 354.418 L2119.2 350.529 L2135.22 331.895 L2119.78 331.895 L2119.78 328.492 Z\" fill=\"#000000\" fill-rule=\"evenodd\" fill-opacity=\"1\" /><path clip-path=\"url(#clip620)\" d=\"M 0 0 M2166.65 340.39 L2166.65 342.473 L2147.07 342.473 Q2147.35 346.871 2149.71 349.186 Q2152.09 351.478 2156.33 351.478 Q2158.78 351.478 2161.08 350.876 Q2163.39 350.274 2165.66 349.07 L2165.66 353.098 Q2163.37 354.07 2160.96 354.58 Q2158.55 355.089 2156.08 355.089 Q2149.87 355.089 2146.24 351.478 Q2142.63 347.867 2142.63 341.709 Q2142.63 335.344 2146.05 331.617 Q2149.5 327.867 2155.33 327.867 Q2160.57 327.867 2163.6 331.246 Q2166.65 334.603 2166.65 340.39 M2162.39 339.14 Q2162.35 335.645 2160.43 333.561 Q2158.53 331.478 2155.38 331.478 Q2151.82 331.478 2149.66 333.492 Q2147.53 335.506 2147.21 339.163 L2162.39 339.14 M2158.9 354.418 L2161.65 354.418 Q2160.61 355.83 2160.1 356.848 Q2159.62 357.867 2159.62 358.584 Q2159.62 359.649 2160.24 360.181 Q2160.89 360.714 2162.14 360.714 Q2162.88 360.714 2163.6 360.529 Q2164.32 360.367 2165.03 360.019 L2165.03 363.098 Q2164.15 363.33 2163.37 363.445 Q2162.58 363.561 2161.89 363.561 Q2159.06 363.561 2157.72 362.543 Q2156.4 361.547 2156.4 359.394 Q2156.4 358.283 2157 357.056 Q2157.63 355.853 2158.9 354.418 Z\" fill=\"#000000\" fill-rule=\"evenodd\" fill-opacity=\"1\" /><path clip-path=\"url(#clip620)\" d=\"M 0 0 M2189.73 341.478 Q2189.73 336.779 2187.79 334.117 Q2185.87 331.432 2182.49 331.432 Q2179.11 331.432 2177.16 334.117 Q2175.24 336.779 2175.24 341.478 Q2175.24 346.177 2177.16 348.862 Q2179.11 351.524 2182.49 351.524 Q2185.87 351.524 2187.79 348.862 Q2189.73 346.177 2189.73 341.478 M2175.24 332.427 Q2176.58 330.112 2178.62 329.001 Q2180.68 327.867 2183.53 327.867 Q2188.25 327.867 2191.19 331.617 Q2194.15 335.367 2194.15 341.478 Q2194.15 347.589 2191.19 351.339 Q2188.25 355.089 2183.53 355.089 Q2180.68 355.089 2178.62 353.978 Q2176.58 352.843 2175.24 350.529 L2175.24 354.418 L2170.96 354.418 L2170.96 318.399 L2175.24 318.399 L2175.24 332.427 Z\" fill=\"#000000\" fill-rule=\"evenodd\" fill-opacity=\"1\" /><path clip-path=\"url(#clip620)\" d=\"M 0 0 M2198.62 328.492 L2202.88 328.492 L2202.88 354.418 L2198.62 354.418 L2198.62 328.492 M2198.62 318.399 L2202.88 318.399 L2202.88 323.793 L2198.62 323.793 L2198.62 318.399 Z\" fill=\"#000000\" fill-rule=\"evenodd\" fill-opacity=\"1\" /><path clip-path=\"url(#clip620)\" d=\"M 0 0 M2229.52 340.39 L2229.52 342.473 L2209.94 342.473 Q2210.22 346.871 2212.58 349.186 Q2214.96 351.478 2219.2 351.478 Q2221.65 351.478 2223.95 350.876 Q2226.26 350.274 2228.53 349.07 L2228.53 353.098 Q2226.24 354.07 2223.83 354.58 Q2221.42 355.089 2218.95 355.089 Q2212.74 355.089 2209.11 351.478 Q2205.5 347.867 2205.5 341.709 Q2205.5 335.344 2208.92 331.617 Q2212.37 327.867 2218.2 327.867 Q2223.44 327.867 2226.47 331.246 Q2229.52 334.603 2229.52 340.39 M2225.26 339.14 Q2225.22 335.645 2223.3 333.561 Q2221.4 331.478 2218.25 331.478 Q2214.69 331.478 2212.53 333.492 Q2210.4 335.506 2210.08 339.163 L2225.26 339.14 Z\" fill=\"#000000\" fill-rule=\"evenodd\" fill-opacity=\"1\" /></svg>\n"
      ]
     },
     "execution_count": 38,
     "metadata": {},
     "output_type": "execute_result"
    }
   ],
   "source": [
    "wykresy_all(9,9,10,10,10,10,50)"
   ]
  },
  {
   "cell_type": "code",
   "execution_count": 40,
   "metadata": {},
   "outputs": [
    {
     "name": "stdout",
     "output_type": "stream",
     "text": [
      "1, 12, 34, 44\n",
      "0, 17, 15, 26\n",
      "0, 12, 7, 10\n",
      "1, 11, 0, 4\n",
      "2, 11, 0, 0\n",
      "2, 6, 0, 0\n",
      "4, 6, 0, 0\n",
      "4, 6, 1, 0\n",
      "2, 7, 1, 0\n",
      "3, 8, 0, 0\n",
      "4, 6, 0, 0\n",
      "4, 7, 0, 0\n",
      "1, 4, 0, 1\n",
      "0, 3, 0, 0\n",
      "0, 4, 0, 0\n",
      "0, 0, 0, 0\n",
      "they all died\n"
     ]
    },
    {
     "data": {
      "image/svg+xml": [
       "<?xml version=\"1.0\" encoding=\"utf-8\"?>\n",
       "<svg xmlns=\"http://www.w3.org/2000/svg\" xmlns:xlink=\"http://www.w3.org/1999/xlink\" width=\"600\" height=\"400\" viewBox=\"0 0 2400 1600\">\n",
       "<defs>\n",
       "  <clipPath id=\"clip700\">\n",
       "    <rect x=\"0\" y=\"0\" width=\"2400\" height=\"1600\"/>\n",
       "  </clipPath>\n",
       "</defs>\n",
       "<path clip-path=\"url(#clip700)\" d=\"\n",
       "M0 1600 L2400 1600 L2400 0 L0 0  Z\n",
       "  \" fill=\"#ffffff\" fill-rule=\"evenodd\" fill-opacity=\"1\"/>\n",
       "<defs>\n",
       "  <clipPath id=\"clip701\">\n",
       "    <rect x=\"480\" y=\"0\" width=\"1681\" height=\"1600\"/>\n",
       "  </clipPath>\n",
       "</defs>\n",
       "<path clip-path=\"url(#clip700)\" d=\"\n",
       "M139.191 1486.45 L2352.76 1486.45 L2352.76 47.2441 L139.191 47.2441  Z\n",
       "  \" fill=\"#ffffff\" fill-rule=\"evenodd\" fill-opacity=\"1\"/>\n",
       "<defs>\n",
       "  <clipPath id=\"clip702\">\n",
       "    <rect x=\"139\" y=\"47\" width=\"2215\" height=\"1440\"/>\n",
       "  </clipPath>\n",
       "</defs>\n",
       "<polyline clip-path=\"url(#clip702)\" style=\"stroke:#000000; stroke-width:2; stroke-opacity:0.1; fill:none\" points=\"\n",
       "  480.275,1486.45 480.275,47.2441 \n",
       "  \"/>\n",
       "<polyline clip-path=\"url(#clip702)\" style=\"stroke:#000000; stroke-width:2; stroke-opacity:0.1; fill:none\" points=\"\n",
       "  897.929,1486.45 897.929,47.2441 \n",
       "  \"/>\n",
       "<polyline clip-path=\"url(#clip702)\" style=\"stroke:#000000; stroke-width:2; stroke-opacity:0.1; fill:none\" points=\"\n",
       "  1315.58,1486.45 1315.58,47.2441 \n",
       "  \"/>\n",
       "<polyline clip-path=\"url(#clip702)\" style=\"stroke:#000000; stroke-width:2; stroke-opacity:0.1; fill:none\" points=\"\n",
       "  1733.24,1486.45 1733.24,47.2441 \n",
       "  \"/>\n",
       "<polyline clip-path=\"url(#clip702)\" style=\"stroke:#000000; stroke-width:2; stroke-opacity:0.1; fill:none\" points=\"\n",
       "  2150.89,1486.45 2150.89,47.2441 \n",
       "  \"/>\n",
       "<polyline clip-path=\"url(#clip700)\" style=\"stroke:#000000; stroke-width:4; stroke-opacity:1; fill:none\" points=\"\n",
       "  139.191,1486.45 2352.76,1486.45 \n",
       "  \"/>\n",
       "<polyline clip-path=\"url(#clip700)\" style=\"stroke:#000000; stroke-width:4; stroke-opacity:1; fill:none\" points=\"\n",
       "  480.275,1486.45 480.275,1469.18 \n",
       "  \"/>\n",
       "<polyline clip-path=\"url(#clip700)\" style=\"stroke:#000000; stroke-width:4; stroke-opacity:1; fill:none\" points=\"\n",
       "  897.929,1486.45 897.929,1469.18 \n",
       "  \"/>\n",
       "<polyline clip-path=\"url(#clip700)\" style=\"stroke:#000000; stroke-width:4; stroke-opacity:1; fill:none\" points=\"\n",
       "  1315.58,1486.45 1315.58,1469.18 \n",
       "  \"/>\n",
       "<polyline clip-path=\"url(#clip700)\" style=\"stroke:#000000; stroke-width:4; stroke-opacity:1; fill:none\" points=\"\n",
       "  1733.24,1486.45 1733.24,1469.18 \n",
       "  \"/>\n",
       "<polyline clip-path=\"url(#clip700)\" style=\"stroke:#000000; stroke-width:4; stroke-opacity:1; fill:none\" points=\"\n",
       "  2150.89,1486.45 2150.89,1469.18 \n",
       "  \"/>\n",
       "<path clip-path=\"url(#clip700)\" d=\"M 0 0 M484.522 1528.49 Q487.879 1529.2 489.754 1531.47 Q491.652 1533.74 491.652 1537.07 Q491.652 1542.19 488.134 1544.99 Q484.615 1547.79 478.134 1547.79 Q475.958 1547.79 473.643 1547.35 Q471.351 1546.93 468.898 1546.08 L468.898 1541.56 Q470.842 1542.7 473.157 1543.28 Q475.472 1543.86 477.995 1543.86 Q482.393 1543.86 484.685 1542.12 Q486.999 1540.38 486.999 1537.07 Q486.999 1534.02 484.847 1532.31 Q482.717 1530.57 478.898 1530.57 L474.87 1530.57 L474.87 1526.73 L479.083 1526.73 Q482.532 1526.73 484.36 1525.36 Q486.189 1523.97 486.189 1521.38 Q486.189 1518.72 484.291 1517.31 Q482.416 1515.87 478.898 1515.87 Q476.976 1515.87 474.777 1516.29 Q472.578 1516.7 469.939 1517.58 L469.939 1513.42 Q472.601 1512.68 474.916 1512.31 Q477.254 1511.93 479.314 1511.93 Q484.638 1511.93 487.74 1514.37 Q490.842 1516.77 490.842 1520.89 Q490.842 1523.76 489.198 1525.75 Q487.555 1527.72 484.522 1528.49 Z\" fill=\"#000000\" fill-rule=\"evenodd\" fill-opacity=\"1\" /><path clip-path=\"url(#clip700)\" d=\"M 0 0 M898.334 1527.98 Q895.186 1527.98 893.334 1530.13 Q891.505 1532.28 891.505 1536.03 Q891.505 1539.76 893.334 1541.93 Q895.186 1544.09 898.334 1544.09 Q901.482 1544.09 903.311 1541.93 Q905.162 1539.76 905.162 1536.03 Q905.162 1532.28 903.311 1530.13 Q901.482 1527.98 898.334 1527.98 M907.616 1513.32 L907.616 1517.58 Q905.857 1516.75 904.051 1516.31 Q902.269 1515.87 900.51 1515.87 Q895.88 1515.87 893.426 1519 Q890.996 1522.12 890.649 1528.44 Q892.014 1526.43 894.074 1525.36 Q896.135 1524.27 898.611 1524.27 Q903.82 1524.27 906.829 1527.44 Q909.861 1530.59 909.861 1536.03 Q909.861 1541.36 906.713 1544.57 Q903.565 1547.79 898.334 1547.79 Q892.338 1547.79 889.167 1543.21 Q885.996 1538.6 885.996 1529.87 Q885.996 1521.68 889.885 1516.82 Q893.774 1511.93 900.324 1511.93 Q902.084 1511.93 903.866 1512.28 Q905.672 1512.63 907.616 1513.32 Z\" fill=\"#000000\" fill-rule=\"evenodd\" fill-opacity=\"1\" /><path clip-path=\"url(#clip700)\" d=\"M 0 0 M1305.88 1546.4 L1305.88 1542.14 Q1307.64 1542.98 1309.45 1543.42 Q1311.25 1543.86 1312.99 1543.86 Q1317.62 1543.86 1320.05 1540.75 Q1322.5 1537.63 1322.85 1531.29 Q1321.51 1533.28 1319.45 1534.34 Q1317.39 1535.41 1314.89 1535.41 Q1309.7 1535.41 1306.67 1532.28 Q1303.66 1529.13 1303.66 1523.69 Q1303.66 1518.37 1306.81 1515.15 Q1309.96 1511.93 1315.19 1511.93 Q1321.18 1511.93 1324.33 1516.54 Q1327.5 1521.12 1327.5 1529.87 Q1327.5 1538.05 1323.61 1542.93 Q1319.75 1547.79 1313.2 1547.79 Q1311.44 1547.79 1309.63 1547.44 Q1307.83 1547.1 1305.88 1546.4 M1315.19 1531.75 Q1318.34 1531.75 1320.17 1529.6 Q1322.02 1527.44 1322.02 1523.69 Q1322.02 1519.97 1320.17 1517.81 Q1318.34 1515.64 1315.19 1515.64 Q1312.04 1515.64 1310.19 1517.81 Q1308.36 1519.97 1308.36 1523.69 Q1308.36 1527.44 1310.19 1529.6 Q1312.04 1531.75 1315.19 1531.75 Z\" fill=\"#000000\" fill-rule=\"evenodd\" fill-opacity=\"1\" /><path clip-path=\"url(#clip700)\" d=\"M 0 0 M1710.91 1543.18 L1718.55 1543.18 L1718.55 1516.82 L1710.24 1518.49 L1710.24 1514.23 L1718.5 1512.56 L1723.18 1512.56 L1723.18 1543.18 L1730.82 1543.18 L1730.82 1547.12 L1710.91 1547.12 L1710.91 1543.18 Z\" fill=\"#000000\" fill-rule=\"evenodd\" fill-opacity=\"1\" /><path clip-path=\"url(#clip700)\" d=\"M 0 0 M1739.91 1543.18 L1756.23 1543.18 L1756.23 1547.12 L1734.29 1547.12 L1734.29 1543.18 Q1736.95 1540.43 1741.53 1535.8 Q1746.14 1531.15 1747.32 1529.81 Q1749.57 1527.28 1750.45 1525.55 Q1751.35 1523.79 1751.35 1522.1 Q1751.35 1519.34 1749.41 1517.61 Q1747.48 1515.87 1744.38 1515.87 Q1742.18 1515.87 1739.73 1516.63 Q1737.3 1517.4 1734.52 1518.95 L1734.52 1514.23 Q1737.34 1513.09 1739.8 1512.51 Q1742.25 1511.93 1744.29 1511.93 Q1749.66 1511.93 1752.85 1514.62 Q1756.05 1517.31 1756.05 1521.8 Q1756.05 1523.93 1755.24 1525.85 Q1754.45 1527.74 1752.34 1530.34 Q1751.77 1531.01 1748.66 1534.23 Q1745.56 1537.42 1739.91 1543.18 Z\" fill=\"#000000\" fill-rule=\"evenodd\" fill-opacity=\"1\" /><path clip-path=\"url(#clip700)\" d=\"M 0 0 M2128.26 1543.18 L2135.9 1543.18 L2135.9 1516.82 L2127.59 1518.49 L2127.59 1514.23 L2135.86 1512.56 L2140.53 1512.56 L2140.53 1543.18 L2148.17 1543.18 L2148.17 1547.12 L2128.26 1547.12 L2128.26 1543.18 Z\" fill=\"#000000\" fill-rule=\"evenodd\" fill-opacity=\"1\" /><path clip-path=\"url(#clip700)\" d=\"M 0 0 M2153.29 1512.56 L2171.64 1512.56 L2171.64 1516.5 L2157.57 1516.5 L2157.57 1524.97 Q2158.59 1524.62 2159.61 1524.46 Q2160.62 1524.27 2161.64 1524.27 Q2167.43 1524.27 2170.81 1527.44 Q2174.19 1530.62 2174.19 1536.03 Q2174.19 1541.61 2170.72 1544.71 Q2167.24 1547.79 2160.92 1547.79 Q2158.75 1547.79 2156.48 1547.42 Q2154.23 1547.05 2151.83 1546.31 L2151.83 1541.61 Q2153.91 1542.74 2156.13 1543.3 Q2158.36 1543.86 2160.83 1543.86 Q2164.84 1543.86 2167.17 1541.75 Q2169.51 1539.64 2169.51 1536.03 Q2169.51 1532.42 2167.17 1530.31 Q2164.84 1528.21 2160.83 1528.21 Q2158.96 1528.21 2157.08 1528.62 Q2155.23 1529.04 2153.29 1529.92 L2153.29 1512.56 Z\" fill=\"#000000\" fill-rule=\"evenodd\" fill-opacity=\"1\" /><polyline clip-path=\"url(#clip702)\" style=\"stroke:#000000; stroke-width:2; stroke-opacity:0.1; fill:none\" points=\"\n",
       "  139.191,1445.72 2352.76,1445.72 \n",
       "  \"/>\n",
       "<polyline clip-path=\"url(#clip702)\" style=\"stroke:#000000; stroke-width:2; stroke-opacity:0.1; fill:none\" points=\"\n",
       "  139.191,1137.14 2352.76,1137.14 \n",
       "  \"/>\n",
       "<polyline clip-path=\"url(#clip702)\" style=\"stroke:#000000; stroke-width:2; stroke-opacity:0.1; fill:none\" points=\"\n",
       "  139.191,828.561 2352.76,828.561 \n",
       "  \"/>\n",
       "<polyline clip-path=\"url(#clip702)\" style=\"stroke:#000000; stroke-width:2; stroke-opacity:0.1; fill:none\" points=\"\n",
       "  139.191,519.984 2352.76,519.984 \n",
       "  \"/>\n",
       "<polyline clip-path=\"url(#clip702)\" style=\"stroke:#000000; stroke-width:2; stroke-opacity:0.1; fill:none\" points=\"\n",
       "  139.191,211.407 2352.76,211.407 \n",
       "  \"/>\n",
       "<polyline clip-path=\"url(#clip700)\" style=\"stroke:#000000; stroke-width:4; stroke-opacity:1; fill:none\" points=\"\n",
       "  139.191,1486.45 139.191,47.2441 \n",
       "  \"/>\n",
       "<polyline clip-path=\"url(#clip700)\" style=\"stroke:#000000; stroke-width:4; stroke-opacity:1; fill:none\" points=\"\n",
       "  139.191,1445.72 165.754,1445.72 \n",
       "  \"/>\n",
       "<polyline clip-path=\"url(#clip700)\" style=\"stroke:#000000; stroke-width:4; stroke-opacity:1; fill:none\" points=\"\n",
       "  139.191,1137.14 165.754,1137.14 \n",
       "  \"/>\n",
       "<polyline clip-path=\"url(#clip700)\" style=\"stroke:#000000; stroke-width:4; stroke-opacity:1; fill:none\" points=\"\n",
       "  139.191,828.561 165.754,828.561 \n",
       "  \"/>\n",
       "<polyline clip-path=\"url(#clip700)\" style=\"stroke:#000000; stroke-width:4; stroke-opacity:1; fill:none\" points=\"\n",
       "  139.191,519.984 165.754,519.984 \n",
       "  \"/>\n",
       "<polyline clip-path=\"url(#clip700)\" style=\"stroke:#000000; stroke-width:4; stroke-opacity:1; fill:none\" points=\"\n",
       "  139.191,211.407 165.754,211.407 \n",
       "  \"/>\n",
       "<path clip-path=\"url(#clip700)\" d=\"M 0 0 M91.2465 1431.51 Q87.6354 1431.51 85.8068 1435.08 Q84.0012 1438.62 84.0012 1445.75 Q84.0012 1452.86 85.8068 1456.42 Q87.6354 1459.96 91.2465 1459.96 Q94.8808 1459.96 96.6863 1456.42 Q98.515 1452.86 98.515 1445.75 Q98.515 1438.62 96.6863 1435.08 Q94.8808 1431.51 91.2465 1431.51 M91.2465 1427.81 Q97.0567 1427.81 100.112 1432.42 Q103.191 1437 103.191 1445.75 Q103.191 1454.48 100.112 1459.08 Q97.0567 1463.67 91.2465 1463.67 Q85.4364 1463.67 82.3577 1459.08 Q79.3022 1454.48 79.3022 1445.75 Q79.3022 1437 82.3577 1432.42 Q85.4364 1427.81 91.2465 1427.81 Z\" fill=\"#000000\" fill-rule=\"evenodd\" fill-opacity=\"1\" /><path clip-path=\"url(#clip700)\" d=\"M 0 0 M56.2699 1150.48 L63.9087 1150.48 L63.9087 1124.12 L55.5986 1125.78 L55.5986 1121.53 L63.8624 1119.86 L68.5383 1119.86 L68.5383 1150.48 L76.1772 1150.48 L76.1772 1154.42 L56.2699 1154.42 L56.2699 1150.48 Z\" fill=\"#000000\" fill-rule=\"evenodd\" fill-opacity=\"1\" /><path clip-path=\"url(#clip700)\" d=\"M 0 0 M91.2465 1122.94 Q87.6354 1122.94 85.8068 1126.5 Q84.0012 1130.04 84.0012 1137.17 Q84.0012 1144.28 85.8068 1147.84 Q87.6354 1151.39 91.2465 1151.39 Q94.8808 1151.39 96.6863 1147.84 Q98.515 1144.28 98.515 1137.17 Q98.515 1130.04 96.6863 1126.5 Q94.8808 1122.94 91.2465 1122.94 M91.2465 1119.23 Q97.0567 1119.23 100.112 1123.84 Q103.191 1128.42 103.191 1137.17 Q103.191 1145.9 100.112 1150.51 Q97.0567 1155.09 91.2465 1155.09 Q85.4364 1155.09 82.3577 1150.51 Q79.3022 1145.9 79.3022 1137.17 Q79.3022 1128.42 82.3577 1123.84 Q85.4364 1119.23 91.2465 1119.23 Z\" fill=\"#000000\" fill-rule=\"evenodd\" fill-opacity=\"1\" /><path clip-path=\"url(#clip700)\" d=\"M 0 0 M59.8578 841.906 L76.1772 841.906 L76.1772 845.841 L54.2328 845.841 L54.2328 841.906 Q56.8949 839.152 61.4782 834.522 Q66.0846 829.869 67.2652 828.527 Q69.5105 826.004 70.3902 824.267 Q71.2929 822.508 71.2929 820.818 Q71.2929 818.064 69.3485 816.328 Q67.4272 814.592 64.3254 814.592 Q62.1263 814.592 59.6726 815.355 Q57.2421 816.119 54.4643 817.67 L54.4643 812.948 Q57.2884 811.814 59.7421 811.235 Q62.1958 810.656 64.2328 810.656 Q69.6031 810.656 72.7976 813.342 Q75.992 816.027 75.992 820.517 Q75.992 822.647 75.1818 824.568 Q74.3948 826.467 72.2883 829.059 Q71.7096 829.73 68.6078 832.948 Q65.5059 836.142 59.8578 841.906 Z\" fill=\"#000000\" fill-rule=\"evenodd\" fill-opacity=\"1\" /><path clip-path=\"url(#clip700)\" d=\"M 0 0 M91.2465 814.36 Q87.6354 814.36 85.8068 817.925 Q84.0012 821.467 84.0012 828.596 Q84.0012 835.703 85.8068 839.267 Q87.6354 842.809 91.2465 842.809 Q94.8808 842.809 96.6863 839.267 Q98.515 835.703 98.515 828.596 Q98.515 821.467 96.6863 817.925 Q94.8808 814.36 91.2465 814.36 M91.2465 810.656 Q97.0567 810.656 100.112 815.263 Q103.191 819.846 103.191 828.596 Q103.191 837.323 100.112 841.929 Q97.0567 846.513 91.2465 846.513 Q85.4364 846.513 82.3577 841.929 Q79.3022 837.323 79.3022 828.596 Q79.3022 819.846 82.3577 815.263 Q85.4364 810.656 91.2465 810.656 Z\" fill=\"#000000\" fill-rule=\"evenodd\" fill-opacity=\"1\" /><path clip-path=\"url(#clip700)\" d=\"M 0 0 M69.0476 518.63 Q72.404 519.348 74.279 521.616 Q76.1772 523.885 76.1772 527.218 Q76.1772 532.334 72.6587 535.135 Q69.1402 537.936 62.6587 537.936 Q60.4828 537.936 58.168 537.496 Q55.8764 537.079 53.4227 536.223 L53.4227 531.709 Q55.3671 532.843 57.6819 533.422 Q59.9967 534 62.5198 534 Q66.918 534 69.2096 532.264 Q71.5244 530.528 71.5244 527.218 Q71.5244 524.162 69.3717 522.45 Q67.242 520.713 63.4226 520.713 L59.3949 520.713 L59.3949 516.871 L63.6078 516.871 Q67.0569 516.871 68.8855 515.505 Q70.7142 514.116 70.7142 511.524 Q70.7142 508.862 68.8161 507.45 Q66.9411 506.014 63.4226 506.014 Q61.5013 506.014 59.3023 506.431 Q57.1032 506.848 54.4643 507.727 L54.4643 503.561 Q57.1264 502.82 59.4412 502.45 Q61.7791 502.079 63.8393 502.079 Q69.1633 502.079 72.2652 504.51 Q75.367 506.917 75.367 511.038 Q75.367 513.908 73.7235 515.899 Q72.08 517.866 69.0476 518.63 Z\" fill=\"#000000\" fill-rule=\"evenodd\" fill-opacity=\"1\" /><path clip-path=\"url(#clip700)\" d=\"M 0 0 M91.2465 505.783 Q87.6354 505.783 85.8068 509.348 Q84.0012 512.889 84.0012 520.019 Q84.0012 527.125 85.8068 530.69 Q87.6354 534.232 91.2465 534.232 Q94.8808 534.232 96.6863 530.69 Q98.515 527.125 98.515 520.019 Q98.515 512.889 96.6863 509.348 Q94.8808 505.783 91.2465 505.783 M91.2465 502.079 Q97.0567 502.079 100.112 506.686 Q103.191 511.269 103.191 520.019 Q103.191 528.746 100.112 533.352 Q97.0567 537.936 91.2465 537.936 Q85.4364 537.936 82.3577 533.352 Q79.3022 528.746 79.3022 520.019 Q79.3022 511.269 82.3577 506.686 Q85.4364 502.079 91.2465 502.079 Z\" fill=\"#000000\" fill-rule=\"evenodd\" fill-opacity=\"1\" /><path clip-path=\"url(#clip700)\" d=\"M 0 0 M66.5939 198.201 L54.7884 216.65 L66.5939 216.65 L66.5939 198.201 M65.367 194.127 L71.2466 194.127 L71.2466 216.65 L76.1772 216.65 L76.1772 220.539 L71.2466 220.539 L71.2466 228.687 L66.5939 228.687 L66.5939 220.539 L50.9921 220.539 L50.9921 216.025 L65.367 194.127 Z\" fill=\"#000000\" fill-rule=\"evenodd\" fill-opacity=\"1\" /><path clip-path=\"url(#clip700)\" d=\"M 0 0 M91.2465 197.206 Q87.6354 197.206 85.8068 200.771 Q84.0012 204.312 84.0012 211.442 Q84.0012 218.548 85.8068 222.113 Q87.6354 225.655 91.2465 225.655 Q94.8808 225.655 96.6863 222.113 Q98.515 218.548 98.515 211.442 Q98.515 204.312 96.6863 200.771 Q94.8808 197.206 91.2465 197.206 M91.2465 193.502 Q97.0567 193.502 100.112 198.109 Q103.191 202.692 103.191 211.442 Q103.191 220.169 100.112 224.775 Q97.0567 229.358 91.2465 229.358 Q85.4364 229.358 82.3577 224.775 Q79.3022 220.169 79.3022 211.442 Q79.3022 202.692 82.3577 198.109 Q85.4364 193.502 91.2465 193.502 Z\" fill=\"#000000\" fill-rule=\"evenodd\" fill-opacity=\"1\" /><polyline clip-path=\"url(#clip702)\" style=\"stroke:#009af9; stroke-width:4; stroke-opacity:1; fill:none\" points=\"\n",
       "  201.839,1414.86 341.057,1445.72 480.275,1445.72 619.493,1414.86 758.711,1384 897.929,1384 1037.15,1322.28 1176.36,1322.28 1315.58,1384 1454.8,1353.14 \n",
       "  1594.02,1322.28 1733.24,1322.28 1872.45,1414.86 2011.67,1445.72 2150.89,1445.72 2290.11,1445.72 \n",
       "  \"/>\n",
       "<polyline clip-path=\"url(#clip702)\" style=\"stroke:#e26f46; stroke-width:4; stroke-opacity:1; fill:none\" points=\"\n",
       "  201.839,1075.42 341.057,921.135 480.275,1075.42 619.493,1106.28 758.711,1106.28 897.929,1260.57 1037.15,1260.57 1176.36,1260.57 1315.58,1229.71 1454.8,1198.85 \n",
       "  1594.02,1260.57 1733.24,1229.71 1872.45,1322.28 2011.67,1353.14 2150.89,1322.28 2290.11,1445.72 \n",
       "  \"/>\n",
       "<polyline clip-path=\"url(#clip702)\" style=\"stroke:#3da44d; stroke-width:4; stroke-opacity:1; fill:none\" points=\"\n",
       "  201.839,396.553 341.057,982.85 480.275,1229.71 619.493,1445.72 758.711,1445.72 897.929,1445.72 1037.15,1445.72 1176.36,1414.86 1315.58,1414.86 1454.8,1445.72 \n",
       "  1594.02,1445.72 1733.24,1445.72 1872.45,1445.72 2011.67,1445.72 2150.89,1445.72 2290.11,1445.72 \n",
       "  \"/>\n",
       "<polyline clip-path=\"url(#clip702)\" style=\"stroke:#c271d2; stroke-width:4; stroke-opacity:1; fill:none\" points=\"\n",
       "  201.839,87.9763 341.057,643.415 480.275,1137.14 619.493,1322.28 758.711,1445.72 897.929,1445.72 1037.15,1445.72 1176.36,1445.72 1315.58,1445.72 1454.8,1445.72 \n",
       "  1594.02,1445.72 1733.24,1445.72 1872.45,1414.86 2011.67,1445.72 2150.89,1445.72 2290.11,1445.72 \n",
       "  \"/>\n",
       "<path clip-path=\"url(#clip700)\" d=\"\n",
       "M1694.76 397.618 L2278.97 397.618 L2278.97 95.2176 L1694.76 95.2176  Z\n",
       "  \" fill=\"#ffffff\" fill-rule=\"evenodd\" fill-opacity=\"1\"/>\n",
       "<polyline clip-path=\"url(#clip700)\" style=\"stroke:#000000; stroke-width:4; stroke-opacity:1; fill:none\" points=\"\n",
       "  1694.76,397.618 2278.97,397.618 2278.97,95.2176 1694.76,95.2176 1694.76,397.618 \n",
       "  \"/>\n",
       "<polyline clip-path=\"url(#clip700)\" style=\"stroke:#009af9; stroke-width:4; stroke-opacity:1; fill:none\" points=\"\n",
       "  1719.35,155.698 1866.92,155.698 \n",
       "  \"/>\n",
       "<path clip-path=\"url(#clip700)\" d=\"M 0 0 M1910.43 159.714 Q1910.43 155.084 1908.51 152.538 Q1906.61 149.992 1903.16 149.992 Q1899.74 149.992 1897.81 152.538 Q1895.92 155.084 1895.92 159.714 Q1895.92 164.32 1897.81 166.866 Q1899.74 169.413 1903.16 169.413 Q1906.61 169.413 1908.51 166.866 Q1910.43 164.32 1910.43 159.714 M1914.69 169.76 Q1914.69 176.38 1911.75 179.598 Q1908.81 182.839 1902.74 182.839 Q1900.5 182.839 1898.51 182.491 Q1896.52 182.167 1894.64 181.473 L1894.64 177.329 Q1896.52 178.348 1898.35 178.834 Q1900.18 179.32 1902.07 179.32 Q1906.26 179.32 1908.35 177.121 Q1910.43 174.945 1910.43 170.524 L1910.43 168.417 Q1909.11 170.709 1907.05 171.843 Q1904.99 172.978 1902.12 172.978 Q1897.35 172.978 1894.43 169.343 Q1891.52 165.709 1891.52 159.714 Q1891.52 153.695 1894.43 150.061 Q1897.35 146.427 1902.12 146.427 Q1904.99 146.427 1907.05 147.561 Q1909.11 148.695 1910.43 150.987 L1910.43 147.052 L1914.69 147.052 L1914.69 169.76 Z\" fill=\"#000000\" fill-rule=\"evenodd\" fill-opacity=\"1\" /><path clip-path=\"url(#clip700)\" d=\"M 0 0 M1929.2 150.038 Q1925.78 150.038 1923.79 152.723 Q1921.8 155.385 1921.8 160.038 Q1921.8 164.691 1923.76 167.376 Q1925.75 170.038 1929.2 170.038 Q1932.61 170.038 1934.6 167.353 Q1936.59 164.667 1936.59 160.038 Q1936.59 155.431 1934.6 152.746 Q1932.61 150.038 1929.2 150.038 M1929.2 146.427 Q1934.76 146.427 1937.93 150.038 Q1941.1 153.649 1941.1 160.038 Q1941.1 166.404 1937.93 170.038 Q1934.76 173.649 1929.2 173.649 Q1923.62 173.649 1920.45 170.038 Q1917.3 166.404 1917.3 160.038 Q1917.3 153.649 1920.45 150.038 Q1923.62 146.427 1929.2 146.427 Z\" fill=\"#000000\" fill-rule=\"evenodd\" fill-opacity=\"1\" /><path clip-path=\"url(#clip700)\" d=\"M 0 0 M1945.71 136.959 L1949.97 136.959 L1949.97 150.894 L1952.86 148.811 L1954.62 151.265 L1949.97 154.529 L1949.97 172.978 L1945.71 172.978 L1945.71 157.561 L1942.86 159.598 L1941.15 157.144 L1945.71 153.88 L1945.71 136.959 Z\" fill=\"#000000\" fill-rule=\"evenodd\" fill-opacity=\"1\" /><path clip-path=\"url(#clip700)\" d=\"M 0 0 M1981.26 158.95 L1981.26 161.033 L1961.68 161.033 Q1961.96 165.431 1964.32 167.746 Q1966.7 170.038 1970.94 170.038 Q1973.39 170.038 1975.68 169.436 Q1978 168.834 1980.27 167.63 L1980.27 171.658 Q1977.98 172.63 1975.57 173.14 Q1973.16 173.649 1970.68 173.649 Q1964.48 173.649 1960.85 170.038 Q1957.24 166.427 1957.24 160.269 Q1957.24 153.904 1960.66 150.177 Q1964.11 146.427 1969.94 146.427 Q1975.17 146.427 1978.21 149.806 Q1981.26 153.163 1981.26 158.95 M1977 157.7 Q1976.96 154.205 1975.04 152.121 Q1973.14 150.038 1969.99 150.038 Q1966.43 150.038 1964.27 152.052 Q1962.14 154.066 1961.82 157.723 L1977 157.7 M1973.51 172.978 L1976.26 172.978 Q1975.22 174.39 1974.71 175.408 Q1974.23 176.427 1974.23 177.144 Q1974.23 178.209 1974.85 178.741 Q1975.5 179.274 1976.75 179.274 Q1977.49 179.274 1978.21 179.089 Q1978.92 178.927 1979.64 178.579 L1979.64 181.658 Q1978.76 181.89 1977.98 182.005 Q1977.19 182.121 1976.49 182.121 Q1973.67 182.121 1972.33 181.103 Q1971.01 180.107 1971.01 177.954 Q1971.01 176.843 1971.61 175.616 Q1972.24 174.413 1973.51 172.978 Z\" fill=\"#000000\" fill-rule=\"evenodd\" fill-opacity=\"1\" /><path clip-path=\"url(#clip700)\" d=\"M 0 0 M2004.34 160.038 Q2004.34 155.339 2002.4 152.677 Q2000.48 149.992 1997.1 149.992 Q1993.72 149.992 1991.77 152.677 Q1989.85 155.339 1989.85 160.038 Q1989.85 164.737 1991.77 167.422 Q1993.72 170.084 1997.1 170.084 Q2000.48 170.084 2002.4 167.422 Q2004.34 164.737 2004.34 160.038 M1989.85 150.987 Q1991.19 148.672 1993.23 147.561 Q1995.29 146.427 1998.14 146.427 Q2002.86 146.427 2005.8 150.177 Q2008.76 153.927 2008.76 160.038 Q2008.76 166.149 2005.8 169.899 Q2002.86 173.649 1998.14 173.649 Q1995.29 173.649 1993.23 172.538 Q1991.19 171.403 1989.85 169.089 L1989.85 172.978 L1985.57 172.978 L1985.57 136.959 L1989.85 136.959 L1989.85 150.987 Z\" fill=\"#000000\" fill-rule=\"evenodd\" fill-opacity=\"1\" /><path clip-path=\"url(#clip700)\" d=\"M 0 0 M2013.23 147.052 L2017.49 147.052 L2017.49 172.978 L2013.23 172.978 L2013.23 147.052 M2013.23 136.959 L2017.49 136.959 L2017.49 142.353 L2013.23 142.353 L2013.23 136.959 Z\" fill=\"#000000\" fill-rule=\"evenodd\" fill-opacity=\"1\" /><path clip-path=\"url(#clip700)\" d=\"M 0 0 M2044.13 158.95 L2044.13 161.033 L2024.55 161.033 Q2024.83 165.431 2027.19 167.746 Q2029.57 170.038 2033.81 170.038 Q2036.26 170.038 2038.55 169.436 Q2040.87 168.834 2043.14 167.63 L2043.14 171.658 Q2040.85 172.63 2038.44 173.14 Q2036.03 173.649 2033.55 173.649 Q2027.35 173.649 2023.72 170.038 Q2020.11 166.427 2020.11 160.269 Q2020.11 153.904 2023.53 150.177 Q2026.98 146.427 2032.81 146.427 Q2038.04 146.427 2041.08 149.806 Q2044.13 153.163 2044.13 158.95 M2039.87 157.7 Q2039.83 154.205 2037.91 152.121 Q2036.01 150.038 2032.86 150.038 Q2029.3 150.038 2027.14 152.052 Q2025.01 154.066 2024.69 157.723 L2039.87 157.7 Z\" fill=\"#000000\" fill-rule=\"evenodd\" fill-opacity=\"1\" /><polyline clip-path=\"url(#clip700)\" style=\"stroke:#e26f46; stroke-width:4; stroke-opacity:1; fill:none\" points=\"\n",
       "  1719.35,216.178 1866.92,216.178 \n",
       "  \"/>\n",
       "<path clip-path=\"url(#clip700)\" d=\"M 0 0 M1896.84 207.532 L1901.1 207.532 L1901.1 233.921 Q1901.1 238.874 1899.2 241.096 Q1897.33 243.319 1893.14 243.319 L1891.52 243.319 L1891.52 239.708 L1892.65 239.708 Q1895.08 239.708 1895.96 238.573 Q1896.84 237.462 1896.84 233.921 L1896.84 207.532 M1896.84 197.439 L1901.1 197.439 L1901.1 202.833 L1896.84 202.833 L1896.84 197.439 Z\" fill=\"#000000\" fill-rule=\"evenodd\" fill-opacity=\"1\" /><path clip-path=\"url(#clip700)\" d=\"M 0 0 M1917.35 220.425 Q1912.19 220.425 1910.2 221.606 Q1908.21 222.786 1908.21 225.634 Q1908.21 227.902 1909.69 229.245 Q1911.19 230.564 1913.76 230.564 Q1917.3 230.564 1919.43 228.064 Q1921.59 225.541 1921.59 221.374 L1921.59 220.425 L1917.35 220.425 M1925.85 218.666 L1925.85 233.458 L1921.59 233.458 L1921.59 229.522 Q1920.13 231.883 1917.95 233.018 Q1915.78 234.129 1912.63 234.129 Q1908.65 234.129 1906.29 231.907 Q1903.95 229.661 1903.95 225.911 Q1903.95 221.536 1906.87 219.314 Q1909.8 217.092 1915.62 217.092 L1921.59 217.092 L1921.59 216.675 Q1921.59 213.735 1919.64 212.138 Q1917.72 210.518 1914.23 210.518 Q1912 210.518 1909.9 211.05 Q1907.79 211.583 1905.85 212.647 L1905.85 208.712 Q1908.18 207.81 1910.38 207.37 Q1912.58 206.907 1914.67 206.907 Q1920.29 206.907 1923.07 209.823 Q1925.85 212.74 1925.85 218.666 Z\" fill=\"#000000\" fill-rule=\"evenodd\" fill-opacity=\"1\" /><path clip-path=\"url(#clip700)\" d=\"M 0 0 M1946.84 208.296 L1946.84 212.323 Q1945.04 211.397 1943.09 210.935 Q1941.15 210.472 1939.06 210.472 Q1935.89 210.472 1934.3 211.444 Q1932.72 212.416 1932.72 214.36 Q1932.72 215.842 1933.86 216.698 Q1934.99 217.532 1938.42 218.296 L1939.87 218.62 Q1944.41 219.592 1946.31 221.374 Q1948.23 223.134 1948.23 226.305 Q1948.23 229.916 1945.36 232.022 Q1942.51 234.129 1937.51 234.129 Q1935.43 234.129 1933.16 233.712 Q1930.92 233.319 1928.42 232.508 L1928.42 228.11 Q1930.78 229.337 1933.07 229.962 Q1935.36 230.564 1937.61 230.564 Q1940.61 230.564 1942.24 229.546 Q1943.86 228.504 1943.86 226.629 Q1943.86 224.893 1942.68 223.967 Q1941.52 223.041 1937.56 222.184 L1936.08 221.837 Q1932.12 221.004 1930.36 219.291 Q1928.6 217.555 1928.6 214.546 Q1928.6 210.888 1931.19 208.898 Q1933.79 206.907 1938.55 206.907 Q1940.92 206.907 1943 207.254 Q1945.08 207.601 1946.84 208.296 Z\" fill=\"#000000\" fill-rule=\"evenodd\" fill-opacity=\"1\" /><path clip-path=\"url(#clip700)\" d=\"M 0 0 M1956.91 200.171 L1956.91 207.532 L1965.68 207.532 L1965.68 210.842 L1956.91 210.842 L1956.91 224.916 Q1956.91 228.087 1957.77 228.99 Q1958.65 229.893 1961.31 229.893 L1965.68 229.893 L1965.68 233.458 L1961.31 233.458 Q1956.38 233.458 1954.5 231.629 Q1952.63 229.777 1952.63 224.916 L1952.63 210.842 L1949.5 210.842 L1949.5 207.532 L1952.63 207.532 L1952.63 200.171 L1956.91 200.171 Z\" fill=\"#000000\" fill-rule=\"evenodd\" fill-opacity=\"1\" /><path clip-path=\"url(#clip700)\" d=\"M 0 0 M1985.17 211.513 Q1984.46 211.097 1983.6 210.911 Q1982.77 210.703 1981.75 210.703 Q1978.14 210.703 1976.19 213.064 Q1974.27 215.402 1974.27 219.8 L1974.27 233.458 L1969.99 233.458 L1969.99 207.532 L1974.27 207.532 L1974.27 211.56 Q1975.61 209.198 1977.77 208.064 Q1979.92 206.907 1983 206.907 Q1983.44 206.907 1983.97 206.976 Q1984.5 207.023 1985.15 207.138 L1985.17 211.513 Z\" fill=\"#000000\" fill-rule=\"evenodd\" fill-opacity=\"1\" /><path clip-path=\"url(#clip700)\" d=\"M 0 0 M1987.79 207.532 L2008.02 207.532 L2008.02 211.421 L1992 230.055 L2008.02 230.055 L2008.02 233.458 L1987.21 233.458 L1987.21 229.569 L2003.23 210.935 L1987.79 210.935 L1987.79 207.532 Z\" fill=\"#000000\" fill-rule=\"evenodd\" fill-opacity=\"1\" /><path clip-path=\"url(#clip700)\" d=\"M 0 0 M2034.67 219.43 L2034.67 221.513 L2015.08 221.513 Q2015.36 225.911 2017.72 228.226 Q2020.11 230.518 2024.34 230.518 Q2026.8 230.518 2029.09 229.916 Q2031.4 229.314 2033.67 228.11 L2033.67 232.138 Q2031.38 233.11 2028.97 233.62 Q2026.56 234.129 2024.09 234.129 Q2017.88 234.129 2014.25 230.518 Q2010.64 226.907 2010.64 220.749 Q2010.64 214.384 2014.06 210.657 Q2017.51 206.907 2023.35 206.907 Q2028.58 206.907 2031.61 210.286 Q2034.67 213.643 2034.67 219.43 M2030.41 218.18 Q2030.36 214.685 2028.44 212.601 Q2026.54 210.518 2023.39 210.518 Q2019.83 210.518 2017.67 212.532 Q2015.55 214.546 2015.22 218.203 L2030.41 218.18 M2026.91 233.458 L2029.67 233.458 Q2028.62 234.87 2028.11 235.888 Q2027.63 236.907 2027.63 237.624 Q2027.63 238.689 2028.25 239.221 Q2028.9 239.754 2030.15 239.754 Q2030.89 239.754 2031.61 239.569 Q2032.33 239.407 2033.05 239.059 L2033.05 242.138 Q2032.17 242.37 2031.38 242.485 Q2030.59 242.601 2029.9 242.601 Q2027.07 242.601 2025.73 241.583 Q2024.41 240.587 2024.41 238.434 Q2024.41 237.323 2025.01 236.096 Q2025.64 234.893 2026.91 233.458 Z\" fill=\"#000000\" fill-rule=\"evenodd\" fill-opacity=\"1\" /><path clip-path=\"url(#clip700)\" d=\"M 0 0 M2057.74 220.518 Q2057.74 215.819 2055.8 213.157 Q2053.88 210.472 2050.5 210.472 Q2047.12 210.472 2045.17 213.157 Q2043.25 215.819 2043.25 220.518 Q2043.25 225.217 2045.17 227.902 Q2047.12 230.564 2050.5 230.564 Q2053.88 230.564 2055.8 227.902 Q2057.74 225.217 2057.74 220.518 M2043.25 211.467 Q2044.6 209.152 2046.63 208.041 Q2048.69 206.907 2051.54 206.907 Q2056.26 206.907 2059.2 210.657 Q2062.17 214.407 2062.17 220.518 Q2062.17 226.629 2059.2 230.379 Q2056.26 234.129 2051.54 234.129 Q2048.69 234.129 2046.63 233.018 Q2044.6 231.883 2043.25 229.569 L2043.25 233.458 L2038.97 233.458 L2038.97 197.439 L2043.25 197.439 L2043.25 211.467 Z\" fill=\"#000000\" fill-rule=\"evenodd\" fill-opacity=\"1\" /><path clip-path=\"url(#clip700)\" d=\"M 0 0 M2066.63 207.532 L2070.89 207.532 L2070.89 233.458 L2066.63 233.458 L2066.63 207.532 M2066.63 197.439 L2070.89 197.439 L2070.89 202.833 L2066.63 202.833 L2066.63 197.439 Z\" fill=\"#000000\" fill-rule=\"evenodd\" fill-opacity=\"1\" /><path clip-path=\"url(#clip700)\" d=\"M 0 0 M2097.54 219.43 L2097.54 221.513 L2077.95 221.513 Q2078.23 225.911 2080.59 228.226 Q2082.98 230.518 2087.21 230.518 Q2089.67 230.518 2091.96 229.916 Q2094.27 229.314 2096.54 228.11 L2096.54 232.138 Q2094.25 233.11 2091.84 233.62 Q2089.43 234.129 2086.96 234.129 Q2080.75 234.129 2077.12 230.518 Q2073.51 226.907 2073.51 220.749 Q2073.51 214.384 2076.93 210.657 Q2080.38 206.907 2086.22 206.907 Q2091.45 206.907 2094.48 210.286 Q2097.54 213.643 2097.54 219.43 M2093.28 218.18 Q2093.23 214.685 2091.31 212.601 Q2089.41 210.518 2086.26 210.518 Q2082.7 210.518 2080.54 212.532 Q2078.42 214.546 2078.09 218.203 L2093.28 218.18 Z\" fill=\"#000000\" fill-rule=\"evenodd\" fill-opacity=\"1\" /><polyline clip-path=\"url(#clip700)\" style=\"stroke:#3da44d; stroke-width:4; stroke-opacity:1; fill:none\" points=\"\n",
       "  1719.35,276.658 1866.92,276.658 \n",
       "  \"/>\n",
       "<path clip-path=\"url(#clip700)\" d=\"M 0 0 M1912.03 269.007 L1912.03 272.989 Q1910.22 271.993 1908.39 271.507 Q1906.59 270.998 1904.74 270.998 Q1900.59 270.998 1898.3 273.637 Q1896.01 276.252 1896.01 280.998 Q1896.01 285.743 1898.3 288.382 Q1900.59 290.998 1904.74 290.998 Q1906.59 290.998 1908.39 290.512 Q1910.22 290.002 1912.03 289.007 L1912.03 292.942 Q1910.24 293.776 1908.32 294.192 Q1906.43 294.609 1904.27 294.609 Q1898.42 294.609 1894.97 290.928 Q1891.52 287.248 1891.52 280.998 Q1891.52 274.655 1894.99 271.021 Q1898.49 267.387 1904.55 267.387 Q1906.52 267.387 1908.39 267.803 Q1910.27 268.197 1912.03 269.007 Z\" fill=\"#000000\" fill-rule=\"evenodd\" fill-opacity=\"1\" /><path clip-path=\"url(#clip700)\" d=\"M 0 0 M1938.05 278.289 L1938.05 293.938 L1933.79 293.938 L1933.79 278.428 Q1933.79 274.748 1932.35 272.919 Q1930.92 271.09 1928.05 271.09 Q1924.6 271.09 1922.61 273.29 Q1920.62 275.489 1920.62 279.285 L1920.62 293.938 L1916.33 293.938 L1916.33 257.919 L1920.62 257.919 L1920.62 272.04 Q1922.14 269.702 1924.2 268.544 Q1926.29 267.387 1928.99 267.387 Q1933.46 267.387 1935.75 270.165 Q1938.05 272.919 1938.05 278.289 Z\" fill=\"#000000\" fill-rule=\"evenodd\" fill-opacity=\"1\" /><path clip-path=\"url(#clip700)\" d=\"M 0 0 M1952.56 270.998 Q1949.13 270.998 1947.14 273.683 Q1945.15 276.345 1945.15 280.998 Q1945.15 285.651 1947.12 288.336 Q1949.11 290.998 1952.56 290.998 Q1955.96 290.998 1957.95 288.313 Q1959.94 285.627 1959.94 280.998 Q1959.94 276.391 1957.95 273.706 Q1955.96 270.998 1952.56 270.998 M1952.56 267.387 Q1958.11 267.387 1961.29 270.998 Q1964.46 274.609 1964.46 280.998 Q1964.46 287.364 1961.29 290.998 Q1958.11 294.609 1952.56 294.609 Q1946.98 294.609 1943.81 290.998 Q1940.66 287.364 1940.66 280.998 Q1940.66 274.609 1943.81 270.998 Q1946.98 267.387 1952.56 267.387 Z\" fill=\"#000000\" fill-rule=\"evenodd\" fill-opacity=\"1\" /><path clip-path=\"url(#clip700)\" d=\"M 0 0 M1983.95 271.993 Q1983.23 271.577 1982.37 271.391 Q1981.54 271.183 1980.52 271.183 Q1976.91 271.183 1974.97 273.544 Q1973.05 275.882 1973.05 280.28 L1973.05 293.938 L1968.76 293.938 L1968.76 268.012 L1973.05 268.012 L1973.05 272.04 Q1974.39 269.678 1976.54 268.544 Q1978.69 267.387 1981.77 267.387 Q1982.21 267.387 1982.74 267.456 Q1983.28 267.503 1983.92 267.618 L1983.95 271.993 Z\" fill=\"#000000\" fill-rule=\"evenodd\" fill-opacity=\"1\" /><path clip-path=\"url(#clip700)\" d=\"M 0 0 M2009.55 279.91 L2009.55 281.993 L1989.97 281.993 Q1990.24 286.391 1992.61 288.706 Q1994.99 290.998 1999.23 290.998 Q2001.68 290.998 2003.97 290.396 Q2006.29 289.794 2008.55 288.59 L2008.55 292.618 Q2006.26 293.59 2003.86 294.1 Q2001.45 294.609 1998.97 294.609 Q1992.77 294.609 1989.13 290.998 Q1985.52 287.387 1985.52 281.229 Q1985.52 274.864 1988.95 271.137 Q1992.4 267.387 1998.23 267.387 Q2003.46 267.387 2006.49 270.766 Q2009.55 274.123 2009.55 279.91 M2005.29 278.66 Q2005.24 275.165 2003.32 273.081 Q2001.42 270.998 1998.28 270.998 Q1994.71 270.998 1992.56 273.012 Q1990.43 275.026 1990.11 278.683 L2005.29 278.66 Z\" fill=\"#000000\" fill-rule=\"evenodd\" fill-opacity=\"1\" /><path clip-path=\"url(#clip700)\" d=\"M 0 0 M2046.15 280.674 Q2046.15 276.044 2044.23 273.498 Q2042.33 270.952 2038.88 270.952 Q2035.45 270.952 2033.53 273.498 Q2031.63 276.044 2031.63 280.674 Q2031.63 285.28 2033.53 287.826 Q2035.45 290.373 2038.88 290.373 Q2042.33 290.373 2044.23 287.826 Q2046.15 285.28 2046.15 280.674 M2050.41 290.72 Q2050.41 297.34 2047.47 300.558 Q2044.53 303.799 2038.46 303.799 Q2036.22 303.799 2034.23 303.451 Q2032.23 303.127 2030.36 302.433 L2030.36 298.289 Q2032.23 299.308 2034.06 299.794 Q2035.89 300.28 2037.79 300.28 Q2041.98 300.28 2044.06 298.081 Q2046.15 295.905 2046.15 291.484 L2046.15 289.377 Q2044.83 291.669 2042.77 292.803 Q2040.71 293.938 2037.84 293.938 Q2033.07 293.938 2030.15 290.303 Q2027.23 286.669 2027.23 280.674 Q2027.23 274.655 2030.15 271.021 Q2033.07 267.387 2037.84 267.387 Q2040.71 267.387 2042.77 268.521 Q2044.83 269.655 2046.15 271.947 L2046.15 268.012 L2050.41 268.012 L2050.41 290.72 Z\" fill=\"#000000\" fill-rule=\"evenodd\" fill-opacity=\"1\" /><path clip-path=\"url(#clip700)\" d=\"M 0 0 M2064.92 270.998 Q2061.49 270.998 2059.5 273.683 Q2057.51 276.345 2057.51 280.998 Q2057.51 285.651 2059.48 288.336 Q2061.47 290.998 2064.92 290.998 Q2068.32 290.998 2070.31 288.313 Q2072.3 285.627 2072.3 280.998 Q2072.3 276.391 2070.31 273.706 Q2068.32 270.998 2064.92 270.998 M2064.92 267.387 Q2070.48 267.387 2073.65 270.998 Q2076.82 274.609 2076.82 280.998 Q2076.82 287.364 2073.65 290.998 Q2070.48 294.609 2064.92 294.609 Q2059.34 294.609 2056.17 290.998 Q2053.02 287.364 2053.02 280.998 Q2053.02 274.609 2056.17 270.998 Q2059.34 267.387 2064.92 267.387 Z\" fill=\"#000000\" fill-rule=\"evenodd\" fill-opacity=\"1\" /><path clip-path=\"url(#clip700)\" d=\"M 0 0 M2081.42 257.919 L2085.68 257.919 L2085.68 271.854 L2088.58 269.771 L2090.34 272.225 L2085.68 275.489 L2085.68 293.938 L2081.42 293.938 L2081.42 278.521 L2078.58 280.558 L2076.86 278.104 L2081.42 274.84 L2081.42 257.919 Z\" fill=\"#000000\" fill-rule=\"evenodd\" fill-opacity=\"1\" /><path clip-path=\"url(#clip700)\" d=\"M 0 0 M2116.98 279.91 L2116.98 281.993 L2097.4 281.993 Q2097.67 286.391 2100.04 288.706 Q2102.42 290.998 2106.66 290.998 Q2109.11 290.998 2111.4 290.396 Q2113.72 289.794 2115.98 288.59 L2115.98 292.618 Q2113.69 293.59 2111.29 294.1 Q2108.88 294.609 2106.4 294.609 Q2100.2 294.609 2096.56 290.998 Q2092.95 287.387 2092.95 281.229 Q2092.95 274.864 2096.38 271.137 Q2099.83 267.387 2105.66 267.387 Q2110.89 267.387 2113.92 270.766 Q2116.98 274.123 2116.98 279.91 M2112.72 278.66 Q2112.67 275.165 2110.75 273.081 Q2108.85 270.998 2105.71 270.998 Q2102.14 270.998 2099.99 273.012 Q2097.86 275.026 2097.54 278.683 L2112.72 278.66 M2109.23 293.938 L2111.98 293.938 Q2110.94 295.35 2110.43 296.368 Q2109.94 297.387 2109.94 298.104 Q2109.94 299.169 2110.57 299.701 Q2111.22 300.234 2112.47 300.234 Q2113.21 300.234 2113.92 300.049 Q2114.64 299.887 2115.36 299.539 L2115.36 302.618 Q2114.48 302.85 2113.69 302.965 Q2112.91 303.081 2112.21 303.081 Q2109.39 303.081 2108.04 302.063 Q2106.73 301.067 2106.73 298.914 Q2106.73 297.803 2107.33 296.576 Q2107.95 295.373 2109.23 293.938 Z\" fill=\"#000000\" fill-rule=\"evenodd\" fill-opacity=\"1\" /><path clip-path=\"url(#clip700)\" d=\"M 0 0 M2140.06 280.998 Q2140.06 276.299 2138.11 273.637 Q2136.19 270.952 2132.81 270.952 Q2129.43 270.952 2127.49 273.637 Q2125.57 276.299 2125.57 280.998 Q2125.57 285.697 2127.49 288.382 Q2129.43 291.044 2132.81 291.044 Q2136.19 291.044 2138.11 288.382 Q2140.06 285.697 2140.06 280.998 M2125.57 271.947 Q2126.91 269.632 2128.95 268.521 Q2131.01 267.387 2133.85 267.387 Q2138.58 267.387 2141.52 271.137 Q2144.48 274.887 2144.48 280.998 Q2144.48 287.109 2141.52 290.859 Q2138.58 294.609 2133.85 294.609 Q2131.01 294.609 2128.95 293.498 Q2126.91 292.363 2125.57 290.049 L2125.57 293.938 L2121.29 293.938 L2121.29 257.919 L2125.57 257.919 L2125.57 271.947 Z\" fill=\"#000000\" fill-rule=\"evenodd\" fill-opacity=\"1\" /><path clip-path=\"url(#clip700)\" d=\"M 0 0 M2148.95 268.012 L2153.21 268.012 L2153.21 293.938 L2148.95 293.938 L2148.95 268.012 M2148.95 257.919 L2153.21 257.919 L2153.21 263.313 L2148.95 263.313 L2148.95 257.919 Z\" fill=\"#000000\" fill-rule=\"evenodd\" fill-opacity=\"1\" /><path clip-path=\"url(#clip700)\" d=\"M 0 0 M2179.85 279.91 L2179.85 281.993 L2160.27 281.993 Q2160.54 286.391 2162.91 288.706 Q2165.29 290.998 2169.53 290.998 Q2171.98 290.998 2174.27 290.396 Q2176.59 289.794 2178.85 288.59 L2178.85 292.618 Q2176.56 293.59 2174.16 294.1 Q2171.75 294.609 2169.27 294.609 Q2163.07 294.609 2159.43 290.998 Q2155.82 287.387 2155.82 281.229 Q2155.82 274.864 2159.25 271.137 Q2162.7 267.387 2168.53 267.387 Q2173.76 267.387 2176.79 270.766 Q2179.85 274.123 2179.85 279.91 M2175.59 278.66 Q2175.54 275.165 2173.62 273.081 Q2171.72 270.998 2168.58 270.998 Q2165.01 270.998 2162.86 273.012 Q2160.73 275.026 2160.41 278.683 L2175.59 278.66 Z\" fill=\"#000000\" fill-rule=\"evenodd\" fill-opacity=\"1\" /><polyline clip-path=\"url(#clip700)\" style=\"stroke:#c271d2; stroke-width:4; stroke-opacity:1; fill:none\" points=\"\n",
       "  1719.35,337.138 1866.92,337.138 \n",
       "  \"/>\n",
       "<path clip-path=\"url(#clip700)\" d=\"M 0 0 M1912.03 329.487 L1912.03 333.469 Q1910.22 332.473 1908.39 331.987 Q1906.59 331.478 1904.74 331.478 Q1900.59 331.478 1898.3 334.117 Q1896.01 336.732 1896.01 341.478 Q1896.01 346.223 1898.3 348.862 Q1900.59 351.478 1904.74 351.478 Q1906.59 351.478 1908.39 350.992 Q1910.22 350.482 1912.03 349.487 L1912.03 353.422 Q1910.24 354.256 1908.32 354.672 Q1906.43 355.089 1904.27 355.089 Q1898.42 355.089 1894.97 351.408 Q1891.52 347.728 1891.52 341.478 Q1891.52 335.135 1894.99 331.501 Q1898.49 327.867 1904.55 327.867 Q1906.52 327.867 1908.39 328.283 Q1910.27 328.677 1912.03 329.487 Z\" fill=\"#000000\" fill-rule=\"evenodd\" fill-opacity=\"1\" /><path clip-path=\"url(#clip700)\" d=\"M 0 0 M1938.05 338.769 L1938.05 354.418 L1933.79 354.418 L1933.79 338.908 Q1933.79 335.228 1932.35 333.399 Q1930.92 331.57 1928.05 331.57 Q1924.6 331.57 1922.61 333.77 Q1920.62 335.969 1920.62 339.765 L1920.62 354.418 L1916.33 354.418 L1916.33 318.399 L1920.62 318.399 L1920.62 332.52 Q1922.14 330.182 1924.2 329.024 Q1926.29 327.867 1928.99 327.867 Q1933.46 327.867 1935.75 330.645 Q1938.05 333.399 1938.05 338.769 Z\" fill=\"#000000\" fill-rule=\"evenodd\" fill-opacity=\"1\" /><path clip-path=\"url(#clip700)\" d=\"M 0 0 M1952.56 331.478 Q1949.13 331.478 1947.14 334.163 Q1945.15 336.825 1945.15 341.478 Q1945.15 346.131 1947.12 348.816 Q1949.11 351.478 1952.56 351.478 Q1955.96 351.478 1957.95 348.793 Q1959.94 346.107 1959.94 341.478 Q1959.94 336.871 1957.95 334.186 Q1955.96 331.478 1952.56 331.478 M1952.56 327.867 Q1958.11 327.867 1961.29 331.478 Q1964.46 335.089 1964.46 341.478 Q1964.46 347.844 1961.29 351.478 Q1958.11 355.089 1952.56 355.089 Q1946.98 355.089 1943.81 351.478 Q1940.66 347.844 1940.66 341.478 Q1940.66 335.089 1943.81 331.478 Q1946.98 327.867 1952.56 327.867 Z\" fill=\"#000000\" fill-rule=\"evenodd\" fill-opacity=\"1\" /><path clip-path=\"url(#clip700)\" d=\"M 0 0 M1983.95 332.473 Q1983.23 332.057 1982.37 331.871 Q1981.54 331.663 1980.52 331.663 Q1976.91 331.663 1974.97 334.024 Q1973.05 336.362 1973.05 340.76 L1973.05 354.418 L1968.76 354.418 L1968.76 328.492 L1973.05 328.492 L1973.05 332.52 Q1974.39 330.158 1976.54 329.024 Q1978.69 327.867 1981.77 327.867 Q1982.21 327.867 1982.74 327.936 Q1983.28 327.983 1983.92 328.098 L1983.95 332.473 Z\" fill=\"#000000\" fill-rule=\"evenodd\" fill-opacity=\"1\" /><path clip-path=\"url(#clip700)\" d=\"M 0 0 M2009.55 340.39 L2009.55 342.473 L1989.97 342.473 Q1990.24 346.871 1992.61 349.186 Q1994.99 351.478 1999.23 351.478 Q2001.68 351.478 2003.97 350.876 Q2006.29 350.274 2008.55 349.07 L2008.55 353.098 Q2006.26 354.07 2003.86 354.58 Q2001.45 355.089 1998.97 355.089 Q1992.77 355.089 1989.13 351.478 Q1985.52 347.867 1985.52 341.709 Q1985.52 335.344 1988.95 331.617 Q1992.4 327.867 1998.23 327.867 Q2003.46 327.867 2006.49 331.246 Q2009.55 334.603 2009.55 340.39 M2005.29 339.14 Q2005.24 335.645 2003.32 333.561 Q2001.42 331.478 1998.28 331.478 Q1994.71 331.478 1992.56 333.492 Q1990.43 335.506 1990.11 339.163 L2005.29 339.14 Z\" fill=\"#000000\" fill-rule=\"evenodd\" fill-opacity=\"1\" /><path clip-path=\"url(#clip700)\" d=\"M 0 0 M2029.09 328.492 L2033.35 328.492 L2033.35 354.881 Q2033.35 359.834 2031.45 362.056 Q2029.57 364.279 2025.38 364.279 L2023.76 364.279 L2023.76 360.668 L2024.9 360.668 Q2027.33 360.668 2028.21 359.533 Q2029.09 358.422 2029.09 354.881 L2029.09 328.492 M2029.09 318.399 L2033.35 318.399 L2033.35 323.793 L2029.09 323.793 L2029.09 318.399 Z\" fill=\"#000000\" fill-rule=\"evenodd\" fill-opacity=\"1\" /><path clip-path=\"url(#clip700)\" d=\"M 0 0 M2049.6 341.385 Q2044.43 341.385 2042.44 342.566 Q2040.45 343.746 2040.45 346.594 Q2040.45 348.862 2041.93 350.205 Q2043.44 351.524 2046.01 351.524 Q2049.55 351.524 2051.68 349.024 Q2053.83 346.501 2053.83 342.334 L2053.83 341.385 L2049.6 341.385 M2058.09 339.626 L2058.09 354.418 L2053.83 354.418 L2053.83 350.482 Q2052.37 352.843 2050.2 353.978 Q2048.02 355.089 2044.87 355.089 Q2040.89 355.089 2038.53 352.867 Q2036.19 350.621 2036.19 346.871 Q2036.19 342.496 2039.11 340.274 Q2042.05 338.052 2047.86 338.052 L2053.83 338.052 L2053.83 337.635 Q2053.83 334.695 2051.89 333.098 Q2049.97 331.478 2046.47 331.478 Q2044.25 331.478 2042.14 332.01 Q2040.04 332.543 2038.09 333.607 L2038.09 329.672 Q2040.43 328.77 2042.63 328.33 Q2044.83 327.867 2046.91 327.867 Q2052.54 327.867 2055.31 330.783 Q2058.09 333.7 2058.09 339.626 Z\" fill=\"#000000\" fill-rule=\"evenodd\" fill-opacity=\"1\" /><path clip-path=\"url(#clip700)\" d=\"M 0 0 M2079.09 329.256 L2079.09 333.283 Q2077.28 332.357 2075.34 331.895 Q2073.39 331.432 2071.31 331.432 Q2068.14 331.432 2066.54 332.404 Q2064.97 333.376 2064.97 335.32 Q2064.97 336.802 2066.1 337.658 Q2067.23 338.492 2070.66 339.256 L2072.12 339.58 Q2076.66 340.552 2078.55 342.334 Q2080.48 344.094 2080.48 347.265 Q2080.48 350.876 2077.6 352.982 Q2074.76 355.089 2069.76 355.089 Q2067.67 355.089 2065.41 354.672 Q2063.16 354.279 2060.66 353.468 L2060.66 349.07 Q2063.02 350.297 2065.31 350.922 Q2067.61 351.524 2069.85 351.524 Q2072.86 351.524 2074.48 350.506 Q2076.1 349.464 2076.1 347.589 Q2076.1 345.853 2074.92 344.927 Q2073.76 344.001 2069.8 343.144 L2068.32 342.797 Q2064.36 341.964 2062.61 340.251 Q2060.85 338.515 2060.85 335.506 Q2060.85 331.848 2063.44 329.858 Q2066.03 327.867 2070.8 327.867 Q2073.16 327.867 2075.24 328.214 Q2077.33 328.561 2079.09 329.256 Z\" fill=\"#000000\" fill-rule=\"evenodd\" fill-opacity=\"1\" /><path clip-path=\"url(#clip700)\" d=\"M 0 0 M2089.16 321.131 L2089.16 328.492 L2097.93 328.492 L2097.93 331.802 L2089.16 331.802 L2089.16 345.876 Q2089.16 349.047 2090.01 349.95 Q2090.89 350.853 2093.55 350.853 L2097.93 350.853 L2097.93 354.418 L2093.55 354.418 Q2088.62 354.418 2086.75 352.589 Q2084.87 350.737 2084.87 345.876 L2084.87 331.802 L2081.75 331.802 L2081.75 328.492 L2084.87 328.492 L2084.87 321.131 L2089.16 321.131 Z\" fill=\"#000000\" fill-rule=\"evenodd\" fill-opacity=\"1\" /><path clip-path=\"url(#clip700)\" d=\"M 0 0 M2117.42 332.473 Q2116.7 332.057 2115.85 331.871 Q2115.01 331.663 2113.99 331.663 Q2110.38 331.663 2108.44 334.024 Q2106.52 336.362 2106.52 340.76 L2106.52 354.418 L2102.23 354.418 L2102.23 328.492 L2106.52 328.492 L2106.52 332.52 Q2107.86 330.158 2110.01 329.024 Q2112.16 327.867 2115.24 327.867 Q2115.68 327.867 2116.22 327.936 Q2116.75 327.983 2117.4 328.098 L2117.42 332.473 Z\" fill=\"#000000\" fill-rule=\"evenodd\" fill-opacity=\"1\" /><path clip-path=\"url(#clip700)\" d=\"M 0 0 M2120.04 328.492 L2140.27 328.492 L2140.27 332.381 L2124.25 351.015 L2140.27 351.015 L2140.27 354.418 L2119.46 354.418 L2119.46 350.529 L2135.48 331.895 L2120.04 331.895 L2120.04 328.492 Z\" fill=\"#000000\" fill-rule=\"evenodd\" fill-opacity=\"1\" /><path clip-path=\"url(#clip700)\" d=\"M 0 0 M2166.91 340.39 L2166.91 342.473 L2147.33 342.473 Q2147.6 346.871 2149.97 349.186 Q2152.35 351.478 2156.59 351.478 Q2159.04 351.478 2161.33 350.876 Q2163.65 350.274 2165.91 349.07 L2165.91 353.098 Q2163.62 354.07 2161.22 354.58 Q2158.81 355.089 2156.33 355.089 Q2150.13 355.089 2146.49 351.478 Q2142.88 347.867 2142.88 341.709 Q2142.88 335.344 2146.31 331.617 Q2149.76 327.867 2155.59 327.867 Q2160.82 327.867 2163.85 331.246 Q2166.91 334.603 2166.91 340.39 M2162.65 339.14 Q2162.6 335.645 2160.68 333.561 Q2158.79 331.478 2155.64 331.478 Q2152.07 331.478 2149.92 333.492 Q2147.79 335.506 2147.47 339.163 L2162.65 339.14 M2159.16 354.418 L2161.91 354.418 Q2160.87 355.83 2160.36 356.848 Q2159.87 357.867 2159.87 358.584 Q2159.87 359.649 2160.5 360.181 Q2161.15 360.714 2162.4 360.714 Q2163.14 360.714 2163.85 360.529 Q2164.57 360.367 2165.29 360.019 L2165.29 363.098 Q2164.41 363.33 2163.62 363.445 Q2162.84 363.561 2162.14 363.561 Q2159.32 363.561 2157.97 362.543 Q2156.66 361.547 2156.66 359.394 Q2156.66 358.283 2157.26 357.056 Q2157.88 355.853 2159.16 354.418 Z\" fill=\"#000000\" fill-rule=\"evenodd\" fill-opacity=\"1\" /><path clip-path=\"url(#clip700)\" d=\"M 0 0 M2189.99 341.478 Q2189.99 336.779 2188.04 334.117 Q2186.12 331.432 2182.74 331.432 Q2179.36 331.432 2177.42 334.117 Q2175.5 336.779 2175.5 341.478 Q2175.5 346.177 2177.42 348.862 Q2179.36 351.524 2182.74 351.524 Q2186.12 351.524 2188.04 348.862 Q2189.99 346.177 2189.99 341.478 M2175.5 332.427 Q2176.84 330.112 2178.88 329.001 Q2180.94 327.867 2183.78 327.867 Q2188.51 327.867 2191.45 331.617 Q2194.41 335.367 2194.41 341.478 Q2194.41 347.589 2191.45 351.339 Q2188.51 355.089 2183.78 355.089 Q2180.94 355.089 2178.88 353.978 Q2176.84 352.843 2175.5 350.529 L2175.5 354.418 L2171.22 354.418 L2171.22 318.399 L2175.5 318.399 L2175.5 332.427 Z\" fill=\"#000000\" fill-rule=\"evenodd\" fill-opacity=\"1\" /><path clip-path=\"url(#clip700)\" d=\"M 0 0 M2198.88 328.492 L2203.14 328.492 L2203.14 354.418 L2198.88 354.418 L2198.88 328.492 M2198.88 318.399 L2203.14 318.399 L2203.14 323.793 L2198.88 323.793 L2198.88 318.399 Z\" fill=\"#000000\" fill-rule=\"evenodd\" fill-opacity=\"1\" /><path clip-path=\"url(#clip700)\" d=\"M 0 0 M2229.78 340.39 L2229.78 342.473 L2210.2 342.473 Q2210.47 346.871 2212.84 349.186 Q2215.22 351.478 2219.46 351.478 Q2221.91 351.478 2224.2 350.876 Q2226.52 350.274 2228.78 349.07 L2228.78 353.098 Q2226.49 354.07 2224.09 354.58 Q2221.68 355.089 2219.2 355.089 Q2213 355.089 2209.36 351.478 Q2205.75 347.867 2205.75 341.709 Q2205.75 335.344 2209.18 331.617 Q2212.63 327.867 2218.46 327.867 Q2223.69 327.867 2226.72 331.246 Q2229.78 334.603 2229.78 340.39 M2225.52 339.14 Q2225.47 335.645 2223.55 333.561 Q2221.66 331.478 2218.51 331.478 Q2214.94 331.478 2212.79 333.492 Q2210.66 335.506 2210.34 339.163 L2225.52 339.14 Z\" fill=\"#000000\" fill-rule=\"evenodd\" fill-opacity=\"1\" /></svg>\n"
      ]
     },
     "execution_count": 40,
     "metadata": {},
     "output_type": "execute_result"
    }
   ],
   "source": [
    "wykresy_all(9,9,10,10,70,70,100)"
   ]
  },
  {
   "cell_type": "code",
   "execution_count": 48,
   "metadata": {},
   "outputs": [
    {
     "name": "stdout",
     "output_type": "stream",
     "text": [
      "1, 9, 17, 22\n",
      "0, 9, 10, 10\n",
      "1, 8, 4, 14\n",
      "2, 6, 2, 5\n",
      "5, 9, 0, 7\n",
      "4, 8, 0, 2\n",
      "2, 14, 1, 0\n",
      "2, 11, 0, 0\n",
      "4, 13, 0, 0\n",
      "3, 14, 0, 0\n",
      "4, 7, 0, 0\n",
      "6, 6, 0, 0\n",
      "10, 8, 1, 0\n",
      "6, 5, 0, 0\n",
      "8, 2, 0, 0\n",
      "6, 2, 0, 0\n",
      "10, 2, 0, 0\n",
      "10, 2, 0, 0\n",
      "10, 0, 1, 0\n",
      "12, 0, 3, 0\n",
      "11, 0, 2, 0\n",
      "10, 0, 1, 0\n",
      "8, 0, 0, 0\n",
      "14, 0, 0, 0\n",
      "8, 0, 0, 0\n",
      "8, 0, 1, 0\n",
      "6, 0, 0, 0\n",
      "4, 0, 0, 0\n",
      "2, 0, 0, 0\n",
      "2, 0, 0, 0\n",
      "0, 0, 0, 0\n",
      "they all died\n"
     ]
    },
    {
     "data": {
      "image/svg+xml": [
       "<?xml version=\"1.0\" encoding=\"utf-8\"?>\n",
       "<svg xmlns=\"http://www.w3.org/2000/svg\" xmlns:xlink=\"http://www.w3.org/1999/xlink\" width=\"600\" height=\"400\" viewBox=\"0 0 2400 1600\">\n",
       "<defs>\n",
       "  <clipPath id=\"clip980\">\n",
       "    <rect x=\"0\" y=\"0\" width=\"2400\" height=\"1600\"/>\n",
       "  </clipPath>\n",
       "</defs>\n",
       "<path clip-path=\"url(#clip980)\" d=\"\n",
       "M0 1600 L2400 1600 L2400 0 L0 0  Z\n",
       "  \" fill=\"#ffffff\" fill-rule=\"evenodd\" fill-opacity=\"1\"/>\n",
       "<defs>\n",
       "  <clipPath id=\"clip981\">\n",
       "    <rect x=\"480\" y=\"0\" width=\"1681\" height=\"1600\"/>\n",
       "  </clipPath>\n",
       "</defs>\n",
       "<path clip-path=\"url(#clip980)\" d=\"\n",
       "M135.95 1486.45 L2352.76 1486.45 L2352.76 47.2441 L135.95 47.2441  Z\n",
       "  \" fill=\"#ffffff\" fill-rule=\"evenodd\" fill-opacity=\"1\"/>\n",
       "<defs>\n",
       "  <clipPath id=\"clip982\">\n",
       "    <rect x=\"135\" y=\"47\" width=\"2218\" height=\"1440\"/>\n",
       "  </clipPath>\n",
       "</defs>\n",
       "<polyline clip-path=\"url(#clip982)\" style=\"stroke:#000000; stroke-width:2; stroke-opacity:0.1; fill:none\" points=\"\n",
       "  477.533,1486.45 477.533,47.2441 \n",
       "  \"/>\n",
       "<polyline clip-path=\"url(#clip982)\" style=\"stroke:#000000; stroke-width:2; stroke-opacity:0.1; fill:none\" points=\"\n",
       "  826.088,1486.45 826.088,47.2441 \n",
       "  \"/>\n",
       "<polyline clip-path=\"url(#clip982)\" style=\"stroke:#000000; stroke-width:2; stroke-opacity:0.1; fill:none\" points=\"\n",
       "  1174.64,1486.45 1174.64,47.2441 \n",
       "  \"/>\n",
       "<polyline clip-path=\"url(#clip982)\" style=\"stroke:#000000; stroke-width:2; stroke-opacity:0.1; fill:none\" points=\"\n",
       "  1523.2,1486.45 1523.2,47.2441 \n",
       "  \"/>\n",
       "<polyline clip-path=\"url(#clip982)\" style=\"stroke:#000000; stroke-width:2; stroke-opacity:0.1; fill:none\" points=\"\n",
       "  1871.75,1486.45 1871.75,47.2441 \n",
       "  \"/>\n",
       "<polyline clip-path=\"url(#clip982)\" style=\"stroke:#000000; stroke-width:2; stroke-opacity:0.1; fill:none\" points=\"\n",
       "  2220.31,1486.45 2220.31,47.2441 \n",
       "  \"/>\n",
       "<polyline clip-path=\"url(#clip980)\" style=\"stroke:#000000; stroke-width:4; stroke-opacity:1; fill:none\" points=\"\n",
       "  135.95,1486.45 2352.76,1486.45 \n",
       "  \"/>\n",
       "<polyline clip-path=\"url(#clip980)\" style=\"stroke:#000000; stroke-width:4; stroke-opacity:1; fill:none\" points=\"\n",
       "  477.533,1486.45 477.533,1469.18 \n",
       "  \"/>\n",
       "<polyline clip-path=\"url(#clip980)\" style=\"stroke:#000000; stroke-width:4; stroke-opacity:1; fill:none\" points=\"\n",
       "  826.088,1486.45 826.088,1469.18 \n",
       "  \"/>\n",
       "<polyline clip-path=\"url(#clip980)\" style=\"stroke:#000000; stroke-width:4; stroke-opacity:1; fill:none\" points=\"\n",
       "  1174.64,1486.45 1174.64,1469.18 \n",
       "  \"/>\n",
       "<polyline clip-path=\"url(#clip980)\" style=\"stroke:#000000; stroke-width:4; stroke-opacity:1; fill:none\" points=\"\n",
       "  1523.2,1486.45 1523.2,1469.18 \n",
       "  \"/>\n",
       "<polyline clip-path=\"url(#clip980)\" style=\"stroke:#000000; stroke-width:4; stroke-opacity:1; fill:none\" points=\"\n",
       "  1871.75,1486.45 1871.75,1469.18 \n",
       "  \"/>\n",
       "<polyline clip-path=\"url(#clip980)\" style=\"stroke:#000000; stroke-width:4; stroke-opacity:1; fill:none\" points=\"\n",
       "  2220.31,1486.45 2220.31,1469.18 \n",
       "  \"/>\n",
       "<path clip-path=\"url(#clip980)\" d=\"M 0 0 M467.811 1512.56 L486.168 1512.56 L486.168 1516.5 L472.094 1516.5 L472.094 1524.97 Q473.112 1524.62 474.131 1524.46 Q475.149 1524.27 476.168 1524.27 Q481.955 1524.27 485.334 1527.44 Q488.714 1530.62 488.714 1536.03 Q488.714 1541.61 485.242 1544.71 Q481.77 1547.79 475.45 1547.79 Q473.274 1547.79 471.006 1547.42 Q468.76 1547.05 466.353 1546.31 L466.353 1541.61 Q468.436 1542.74 470.659 1543.3 Q472.881 1543.86 475.358 1543.86 Q479.362 1543.86 481.7 1541.75 Q484.038 1539.64 484.038 1536.03 Q484.038 1532.42 481.7 1530.31 Q479.362 1528.21 475.358 1528.21 Q473.483 1528.21 471.608 1528.62 Q469.756 1529.04 467.811 1529.92 L467.811 1512.56 Z\" fill=\"#000000\" fill-rule=\"evenodd\" fill-opacity=\"1\" /><path clip-path=\"url(#clip980)\" d=\"M 0 0 M802.963 1543.18 L810.602 1543.18 L810.602 1516.82 L802.292 1518.49 L802.292 1514.23 L810.555 1512.56 L815.231 1512.56 L815.231 1543.18 L822.87 1543.18 L822.87 1547.12 L802.963 1547.12 L802.963 1543.18 Z\" fill=\"#000000\" fill-rule=\"evenodd\" fill-opacity=\"1\" /><path clip-path=\"url(#clip980)\" d=\"M 0 0 M837.94 1515.64 Q834.329 1515.64 832.5 1519.2 Q830.694 1522.75 830.694 1529.87 Q830.694 1536.98 832.5 1540.55 Q834.329 1544.09 837.94 1544.09 Q841.574 1544.09 843.379 1540.55 Q845.208 1536.98 845.208 1529.87 Q845.208 1522.75 843.379 1519.2 Q841.574 1515.64 837.94 1515.64 M837.94 1511.93 Q843.75 1511.93 846.805 1516.54 Q849.884 1521.12 849.884 1529.87 Q849.884 1538.6 846.805 1543.21 Q843.75 1547.79 837.94 1547.79 Q832.129 1547.79 829.051 1543.21 Q825.995 1538.6 825.995 1529.87 Q825.995 1521.12 829.051 1516.54 Q832.129 1511.93 837.94 1511.93 Z\" fill=\"#000000\" fill-rule=\"evenodd\" fill-opacity=\"1\" /><path clip-path=\"url(#clip980)\" d=\"M 0 0 M1152.01 1543.18 L1159.65 1543.18 L1159.65 1516.82 L1151.34 1518.49 L1151.34 1514.23 L1159.61 1512.56 L1164.28 1512.56 L1164.28 1543.18 L1171.92 1543.18 L1171.92 1547.12 L1152.01 1547.12 L1152.01 1543.18 Z\" fill=\"#000000\" fill-rule=\"evenodd\" fill-opacity=\"1\" /><path clip-path=\"url(#clip980)\" d=\"M 0 0 M1177.04 1512.56 L1195.39 1512.56 L1195.39 1516.5 L1181.32 1516.5 L1181.32 1524.97 Q1182.34 1524.62 1183.36 1524.46 Q1184.38 1524.27 1185.39 1524.27 Q1191.18 1524.27 1194.56 1527.44 Q1197.94 1530.62 1197.94 1536.03 Q1197.94 1541.61 1194.47 1544.71 Q1191 1547.79 1184.68 1547.79 Q1182.5 1547.79 1180.23 1547.42 Q1177.99 1547.05 1175.58 1546.31 L1175.58 1541.61 Q1177.66 1542.74 1179.89 1543.3 Q1182.11 1543.86 1184.58 1543.86 Q1188.59 1543.86 1190.93 1541.75 Q1193.26 1539.64 1193.26 1536.03 Q1193.26 1532.42 1190.93 1530.31 Q1188.59 1528.21 1184.58 1528.21 Q1182.71 1528.21 1180.83 1528.62 Q1178.98 1529.04 1177.04 1529.92 L1177.04 1512.56 Z\" fill=\"#000000\" fill-rule=\"evenodd\" fill-opacity=\"1\" /><path clip-path=\"url(#clip980)\" d=\"M 0 0 M1504.34 1543.18 L1520.66 1543.18 L1520.66 1547.12 L1498.72 1547.12 L1498.72 1543.18 Q1501.38 1540.43 1505.96 1535.8 Q1510.57 1531.15 1511.75 1529.81 Q1514 1527.28 1514.87 1525.55 Q1515.78 1523.79 1515.78 1522.1 Q1515.78 1519.34 1513.83 1517.61 Q1511.91 1515.87 1508.81 1515.87 Q1506.61 1515.87 1504.16 1516.63 Q1501.73 1517.4 1498.95 1518.95 L1498.95 1514.23 Q1501.77 1513.09 1504.23 1512.51 Q1506.68 1511.93 1508.72 1511.93 Q1514.09 1511.93 1517.28 1514.62 Q1520.48 1517.31 1520.48 1521.8 Q1520.48 1523.93 1519.67 1525.85 Q1518.88 1527.74 1516.77 1530.34 Q1516.19 1531.01 1513.09 1534.23 Q1509.99 1537.42 1504.34 1543.18 Z\" fill=\"#000000\" fill-rule=\"evenodd\" fill-opacity=\"1\" /><path clip-path=\"url(#clip980)\" d=\"M 0 0 M1535.73 1515.64 Q1532.12 1515.64 1530.29 1519.2 Q1528.49 1522.75 1528.49 1529.87 Q1528.49 1536.98 1530.29 1540.55 Q1532.12 1544.09 1535.73 1544.09 Q1539.37 1544.09 1541.17 1540.55 Q1543 1536.98 1543 1529.87 Q1543 1522.75 1541.17 1519.2 Q1539.37 1515.64 1535.73 1515.64 M1535.73 1511.93 Q1541.54 1511.93 1544.6 1516.54 Q1547.68 1521.12 1547.68 1529.87 Q1547.68 1538.6 1544.6 1543.21 Q1541.54 1547.79 1535.73 1547.79 Q1529.92 1547.79 1526.84 1543.21 Q1523.79 1538.6 1523.79 1529.87 Q1523.79 1521.12 1526.84 1516.54 Q1529.92 1511.93 1535.73 1511.93 Z\" fill=\"#000000\" fill-rule=\"evenodd\" fill-opacity=\"1\" /><path clip-path=\"url(#clip980)\" d=\"M 0 0 M1853.39 1543.18 L1869.71 1543.18 L1869.71 1547.12 L1847.77 1547.12 L1847.77 1543.18 Q1850.43 1540.43 1855.01 1535.8 Q1859.62 1531.15 1860.8 1529.81 Q1863.05 1527.28 1863.93 1525.55 Q1864.83 1523.79 1864.83 1522.1 Q1864.83 1519.34 1862.89 1517.61 Q1860.96 1515.87 1857.86 1515.87 Q1855.66 1515.87 1853.21 1516.63 Q1850.78 1517.4 1848 1518.95 L1848 1514.23 Q1850.83 1513.09 1853.28 1512.51 Q1855.73 1511.93 1857.77 1511.93 Q1863.14 1511.93 1866.33 1514.62 Q1869.53 1517.31 1869.53 1521.8 Q1869.53 1523.93 1868.72 1525.85 Q1867.93 1527.74 1865.82 1530.34 Q1865.25 1531.01 1862.14 1534.23 Q1859.04 1537.42 1853.39 1543.18 Z\" fill=\"#000000\" fill-rule=\"evenodd\" fill-opacity=\"1\" /><path clip-path=\"url(#clip980)\" d=\"M 0 0 M1874.83 1512.56 L1893.19 1512.56 L1893.19 1516.5 L1879.11 1516.5 L1879.11 1524.97 Q1880.13 1524.62 1881.15 1524.46 Q1882.17 1524.27 1883.19 1524.27 Q1888.97 1524.27 1892.35 1527.44 Q1895.73 1530.62 1895.73 1536.03 Q1895.73 1541.61 1892.26 1544.71 Q1888.79 1547.79 1882.47 1547.79 Q1880.29 1547.79 1878.02 1547.42 Q1875.78 1547.05 1873.37 1546.31 L1873.37 1541.61 Q1875.45 1542.74 1877.68 1543.3 Q1879.9 1543.86 1882.38 1543.86 Q1886.38 1543.86 1888.72 1541.75 Q1891.06 1539.64 1891.06 1536.03 Q1891.06 1532.42 1888.72 1530.31 Q1886.38 1528.21 1882.38 1528.21 Q1880.5 1528.21 1878.63 1528.62 Q1876.77 1529.04 1874.83 1529.92 L1874.83 1512.56 Z\" fill=\"#000000\" fill-rule=\"evenodd\" fill-opacity=\"1\" /><path clip-path=\"url(#clip980)\" d=\"M 0 0 M2211.05 1528.49 Q2214.4 1529.2 2216.28 1531.47 Q2218.18 1533.74 2218.18 1537.07 Q2218.18 1542.19 2214.66 1544.99 Q2211.14 1547.79 2204.66 1547.79 Q2202.48 1547.79 2200.17 1547.35 Q2197.87 1546.93 2195.42 1546.08 L2195.42 1541.56 Q2197.37 1542.7 2199.68 1543.28 Q2202 1543.86 2204.52 1543.86 Q2208.92 1543.86 2211.21 1542.12 Q2213.52 1540.38 2213.52 1537.07 Q2213.52 1534.02 2211.37 1532.31 Q2209.24 1530.57 2205.42 1530.57 L2201.39 1530.57 L2201.39 1526.73 L2205.61 1526.73 Q2209.06 1526.73 2210.88 1525.36 Q2212.71 1523.97 2212.71 1521.38 Q2212.71 1518.72 2210.81 1517.31 Q2208.94 1515.87 2205.42 1515.87 Q2203.5 1515.87 2201.3 1516.29 Q2199.1 1516.7 2196.46 1517.58 L2196.46 1513.42 Q2199.12 1512.68 2201.44 1512.31 Q2203.78 1511.93 2205.84 1511.93 Q2211.16 1511.93 2214.26 1514.37 Q2217.37 1516.77 2217.37 1520.89 Q2217.37 1523.76 2215.72 1525.75 Q2214.08 1527.72 2211.05 1528.49 Z\" fill=\"#000000\" fill-rule=\"evenodd\" fill-opacity=\"1\" /><path clip-path=\"url(#clip980)\" d=\"M 0 0 M2233.24 1515.64 Q2229.63 1515.64 2227.81 1519.2 Q2226 1522.75 2226 1529.87 Q2226 1536.98 2227.81 1540.55 Q2229.63 1544.09 2233.24 1544.09 Q2236.88 1544.09 2238.68 1540.55 Q2240.51 1536.98 2240.51 1529.87 Q2240.51 1522.75 2238.68 1519.2 Q2236.88 1515.64 2233.24 1515.64 M2233.24 1511.93 Q2239.06 1511.93 2242.11 1516.54 Q2245.19 1521.12 2245.19 1529.87 Q2245.19 1538.6 2242.11 1543.21 Q2239.06 1547.79 2233.24 1547.79 Q2227.43 1547.79 2224.36 1543.21 Q2221.3 1538.6 2221.3 1529.87 Q2221.3 1521.12 2224.36 1516.54 Q2227.43 1511.93 2233.24 1511.93 Z\" fill=\"#000000\" fill-rule=\"evenodd\" fill-opacity=\"1\" /><polyline clip-path=\"url(#clip982)\" style=\"stroke:#000000; stroke-width:2; stroke-opacity:0.1; fill:none\" points=\"\n",
       "  135.95,1445.72 2352.76,1445.72 \n",
       "  \"/>\n",
       "<polyline clip-path=\"url(#clip982)\" style=\"stroke:#000000; stroke-width:2; stroke-opacity:0.1; fill:none\" points=\"\n",
       "  135.95,1137.14 2352.76,1137.14 \n",
       "  \"/>\n",
       "<polyline clip-path=\"url(#clip982)\" style=\"stroke:#000000; stroke-width:2; stroke-opacity:0.1; fill:none\" points=\"\n",
       "  135.95,828.561 2352.76,828.561 \n",
       "  \"/>\n",
       "<polyline clip-path=\"url(#clip982)\" style=\"stroke:#000000; stroke-width:2; stroke-opacity:0.1; fill:none\" points=\"\n",
       "  135.95,519.984 2352.76,519.984 \n",
       "  \"/>\n",
       "<polyline clip-path=\"url(#clip982)\" style=\"stroke:#000000; stroke-width:2; stroke-opacity:0.1; fill:none\" points=\"\n",
       "  135.95,211.407 2352.76,211.407 \n",
       "  \"/>\n",
       "<polyline clip-path=\"url(#clip980)\" style=\"stroke:#000000; stroke-width:4; stroke-opacity:1; fill:none\" points=\"\n",
       "  135.95,1486.45 135.95,47.2441 \n",
       "  \"/>\n",
       "<polyline clip-path=\"url(#clip980)\" style=\"stroke:#000000; stroke-width:4; stroke-opacity:1; fill:none\" points=\"\n",
       "  135.95,1445.72 162.552,1445.72 \n",
       "  \"/>\n",
       "<polyline clip-path=\"url(#clip980)\" style=\"stroke:#000000; stroke-width:4; stroke-opacity:1; fill:none\" points=\"\n",
       "  135.95,1137.14 162.552,1137.14 \n",
       "  \"/>\n",
       "<polyline clip-path=\"url(#clip980)\" style=\"stroke:#000000; stroke-width:4; stroke-opacity:1; fill:none\" points=\"\n",
       "  135.95,828.561 162.552,828.561 \n",
       "  \"/>\n",
       "<polyline clip-path=\"url(#clip980)\" style=\"stroke:#000000; stroke-width:4; stroke-opacity:1; fill:none\" points=\"\n",
       "  135.95,519.984 162.552,519.984 \n",
       "  \"/>\n",
       "<polyline clip-path=\"url(#clip980)\" style=\"stroke:#000000; stroke-width:4; stroke-opacity:1; fill:none\" points=\"\n",
       "  135.95,211.407 162.552,211.407 \n",
       "  \"/>\n",
       "<path clip-path=\"url(#clip980)\" d=\"M 0 0 M88.0058 1431.51 Q84.3947 1431.51 82.566 1435.08 Q80.7605 1438.62 80.7605 1445.75 Q80.7605 1452.86 82.566 1456.42 Q84.3947 1459.96 88.0058 1459.96 Q91.6401 1459.96 93.4456 1456.42 Q95.2743 1452.86 95.2743 1445.75 Q95.2743 1438.62 93.4456 1435.08 Q91.6401 1431.51 88.0058 1431.51 M88.0058 1427.81 Q93.816 1427.81 96.8715 1432.42 Q99.9502 1437 99.9502 1445.75 Q99.9502 1454.48 96.8715 1459.08 Q93.816 1463.67 88.0058 1463.67 Q82.1957 1463.67 79.117 1459.08 Q76.0614 1454.48 76.0614 1445.75 Q76.0614 1437 79.117 1432.42 Q82.1957 1427.81 88.0058 1427.81 Z\" fill=\"#000000\" fill-rule=\"evenodd\" fill-opacity=\"1\" /><path clip-path=\"url(#clip980)\" d=\"M 0 0 M79.0475 1119.86 L97.4039 1119.86 L97.4039 1123.79 L83.3299 1123.79 L83.3299 1132.27 Q84.3484 1131.92 85.3669 1131.76 Q86.3855 1131.57 87.404 1131.57 Q93.191 1131.57 96.5706 1134.74 Q99.9502 1137.91 99.9502 1143.33 Q99.9502 1148.91 96.478 1152.01 Q93.0058 1155.09 86.6864 1155.09 Q84.5105 1155.09 82.242 1154.72 Q79.9966 1154.35 77.5892 1153.61 L77.5892 1148.91 Q79.6725 1150.04 81.8947 1150.6 Q84.1169 1151.15 86.5938 1151.15 Q90.5984 1151.15 92.9363 1149.05 Q95.2743 1146.94 95.2743 1143.33 Q95.2743 1139.72 92.9363 1137.61 Q90.5984 1135.51 86.5938 1135.51 Q84.7188 1135.51 82.8438 1135.92 Q80.992 1136.34 79.0475 1137.22 L79.0475 1119.86 Z\" fill=\"#000000\" fill-rule=\"evenodd\" fill-opacity=\"1\" /><path clip-path=\"url(#clip980)\" d=\"M 0 0 M53.0292 841.906 L60.668 841.906 L60.668 815.541 L52.3579 817.207 L52.3579 812.948 L60.6217 811.281 L65.2976 811.281 L65.2976 841.906 L72.9365 841.906 L72.9365 845.841 L53.0292 845.841 L53.0292 841.906 Z\" fill=\"#000000\" fill-rule=\"evenodd\" fill-opacity=\"1\" /><path clip-path=\"url(#clip980)\" d=\"M 0 0 M88.0058 814.36 Q84.3947 814.36 82.566 817.925 Q80.7605 821.467 80.7605 828.596 Q80.7605 835.703 82.566 839.267 Q84.3947 842.809 88.0058 842.809 Q91.6401 842.809 93.4456 839.267 Q95.2743 835.703 95.2743 828.596 Q95.2743 821.467 93.4456 817.925 Q91.6401 814.36 88.0058 814.36 M88.0058 810.656 Q93.816 810.656 96.8715 815.263 Q99.9502 819.846 99.9502 828.596 Q99.9502 837.323 96.8715 841.929 Q93.816 846.513 88.0058 846.513 Q82.1957 846.513 79.117 841.929 Q76.0614 837.323 76.0614 828.596 Q76.0614 819.846 79.117 815.263 Q82.1957 810.656 88.0058 810.656 Z\" fill=\"#000000\" fill-rule=\"evenodd\" fill-opacity=\"1\" /><path clip-path=\"url(#clip980)\" d=\"M 0 0 M54.0245 533.329 L61.6634 533.329 L61.6634 506.964 L53.3532 508.63 L53.3532 504.371 L61.6171 502.704 L66.293 502.704 L66.293 533.329 L73.9318 533.329 L73.9318 537.264 L54.0245 537.264 L54.0245 533.329 Z\" fill=\"#000000\" fill-rule=\"evenodd\" fill-opacity=\"1\" /><path clip-path=\"url(#clip980)\" d=\"M 0 0 M79.0475 502.704 L97.4039 502.704 L97.4039 506.639 L83.3299 506.639 L83.3299 515.112 Q84.3484 514.764 85.3669 514.602 Q86.3855 514.417 87.404 514.417 Q93.191 514.417 96.5706 517.588 Q99.9502 520.76 99.9502 526.176 Q99.9502 531.755 96.478 534.857 Q93.0058 537.936 86.6864 537.936 Q84.5105 537.936 82.242 537.565 Q79.9966 537.195 77.5892 536.454 L77.5892 531.755 Q79.6725 532.889 81.8947 533.445 Q84.1169 534 86.5938 534 Q90.5984 534 92.9363 531.894 Q95.2743 529.787 95.2743 526.176 Q95.2743 522.565 92.9363 520.459 Q90.5984 518.352 86.5938 518.352 Q84.7188 518.352 82.8438 518.769 Q80.992 519.186 79.0475 520.065 L79.0475 502.704 Z\" fill=\"#000000\" fill-rule=\"evenodd\" fill-opacity=\"1\" /><path clip-path=\"url(#clip980)\" d=\"M 0 0 M56.6171 224.752 L72.9365 224.752 L72.9365 228.687 L50.9921 228.687 L50.9921 224.752 Q53.6541 221.997 58.2375 217.368 Q62.8439 212.715 64.0245 211.372 Q66.2698 208.849 67.1494 207.113 Q68.0522 205.354 68.0522 203.664 Q68.0522 200.91 66.1078 199.173 Q64.1865 197.437 61.0847 197.437 Q58.8856 197.437 56.4319 198.201 Q54.0014 198.965 51.2236 200.516 L51.2236 195.794 Q54.0477 194.66 56.5014 194.081 Q58.955 193.502 60.9921 193.502 Q66.3624 193.502 69.5568 196.187 Q72.7513 198.872 72.7513 203.363 Q72.7513 205.493 71.9411 207.414 Q71.1541 209.312 69.0476 211.905 Q68.4689 212.576 65.367 215.794 Q62.2652 218.988 56.6171 224.752 Z\" fill=\"#000000\" fill-rule=\"evenodd\" fill-opacity=\"1\" /><path clip-path=\"url(#clip980)\" d=\"M 0 0 M88.0058 197.206 Q84.3947 197.206 82.566 200.771 Q80.7605 204.312 80.7605 211.442 Q80.7605 218.548 82.566 222.113 Q84.3947 225.655 88.0058 225.655 Q91.6401 225.655 93.4456 222.113 Q95.2743 218.548 95.2743 211.442 Q95.2743 204.312 93.4456 200.771 Q91.6401 197.206 88.0058 197.206 M88.0058 193.502 Q93.816 193.502 96.8715 198.109 Q99.9502 202.692 99.9502 211.442 Q99.9502 220.169 96.8715 224.775 Q93.816 229.358 88.0058 229.358 Q82.1957 229.358 79.117 224.775 Q76.0614 220.169 76.0614 211.442 Q76.0614 202.692 79.117 198.109 Q82.1957 193.502 88.0058 193.502 Z\" fill=\"#000000\" fill-rule=\"evenodd\" fill-opacity=\"1\" /><polyline clip-path=\"url(#clip982)\" style=\"stroke:#009af9; stroke-width:4; stroke-opacity:1; fill:none\" points=\"\n",
       "  198.69,1384 268.401,1445.72 338.112,1384 407.823,1322.28 477.533,1137.14 547.244,1198.85 616.955,1322.28 686.666,1322.28 756.377,1198.85 826.088,1260.57 \n",
       "  895.799,1198.85 965.51,1075.42 1035.22,828.561 1104.93,1075.42 1174.64,951.992 1244.35,1075.42 1314.06,828.561 1383.77,828.561 1453.49,828.561 1523.2,705.131 \n",
       "  1592.91,766.846 1662.62,828.561 1732.33,951.992 1802.04,581.7 1871.75,951.992 1941.46,951.992 2011.17,1075.42 2080.88,1198.85 2150.59,1322.28 2220.31,1322.28 \n",
       "  2290.02,1445.72 \n",
       "  \"/>\n",
       "<polyline clip-path=\"url(#clip982)\" style=\"stroke:#e26f46; stroke-width:4; stroke-opacity:1; fill:none\" points=\"\n",
       "  198.69,890.277 268.401,890.277 338.112,951.992 407.823,1075.42 477.533,890.277 547.244,951.992 616.955,581.7 686.666,766.846 756.377,643.415 826.088,581.7 \n",
       "  895.799,1013.71 965.51,1075.42 1035.22,951.992 1104.93,1137.14 1174.64,1322.28 1244.35,1322.28 1314.06,1322.28 1383.77,1322.28 1453.49,1445.72 1523.2,1445.72 \n",
       "  1592.91,1445.72 1662.62,1445.72 1732.33,1445.72 1802.04,1445.72 1871.75,1445.72 1941.46,1445.72 2011.17,1445.72 2080.88,1445.72 2150.59,1445.72 2220.31,1445.72 \n",
       "  2290.02,1445.72 \n",
       "  \"/>\n",
       "<polyline clip-path=\"url(#clip982)\" style=\"stroke:#3da44d; stroke-width:4; stroke-opacity:1; fill:none\" points=\"\n",
       "  198.69,396.553 268.401,828.561 338.112,1198.85 407.823,1322.28 477.533,1445.72 547.244,1445.72 616.955,1384 686.666,1445.72 756.377,1445.72 826.088,1445.72 \n",
       "  895.799,1445.72 965.51,1445.72 1035.22,1384 1104.93,1445.72 1174.64,1445.72 1244.35,1445.72 1314.06,1445.72 1383.77,1445.72 1453.49,1384 1523.2,1260.57 \n",
       "  1592.91,1322.28 1662.62,1384 1732.33,1445.72 1802.04,1445.72 1871.75,1445.72 1941.46,1384 2011.17,1445.72 2080.88,1445.72 2150.59,1445.72 2220.31,1445.72 \n",
       "  2290.02,1445.72 \n",
       "  \"/>\n",
       "<polyline clip-path=\"url(#clip982)\" style=\"stroke:#c271d2; stroke-width:4; stroke-opacity:1; fill:none\" points=\"\n",
       "  198.69,87.9763 268.401,828.561 338.112,581.7 407.823,1137.14 477.533,1013.71 547.244,1322.28 616.955,1445.72 686.666,1445.72 756.377,1445.72 826.088,1445.72 \n",
       "  895.799,1445.72 965.51,1445.72 1035.22,1445.72 1104.93,1445.72 1174.64,1445.72 1244.35,1445.72 1314.06,1445.72 1383.77,1445.72 1453.49,1445.72 1523.2,1445.72 \n",
       "  1592.91,1445.72 1662.62,1445.72 1732.33,1445.72 1802.04,1445.72 1871.75,1445.72 1941.46,1445.72 2011.17,1445.72 2080.88,1445.72 2150.59,1445.72 2220.31,1445.72 \n",
       "  2290.02,1445.72 \n",
       "  \"/>\n",
       "<path clip-path=\"url(#clip980)\" d=\"\n",
       "M1694.29 397.618 L2278.86 397.618 L2278.86 95.2176 L1694.29 95.2176  Z\n",
       "  \" fill=\"#ffffff\" fill-rule=\"evenodd\" fill-opacity=\"1\"/>\n",
       "<polyline clip-path=\"url(#clip980)\" style=\"stroke:#000000; stroke-width:4; stroke-opacity:1; fill:none\" points=\"\n",
       "  1694.29,397.618 2278.86,397.618 2278.86,95.2176 1694.29,95.2176 1694.29,397.618 \n",
       "  \"/>\n",
       "<polyline clip-path=\"url(#clip980)\" style=\"stroke:#009af9; stroke-width:4; stroke-opacity:1; fill:none\" points=\"\n",
       "  1718.92,155.698 1866.71,155.698 \n",
       "  \"/>\n",
       "<path clip-path=\"url(#clip980)\" d=\"M 0 0 M1910.25 159.714 Q1910.25 155.084 1908.33 152.538 Q1906.43 149.992 1902.98 149.992 Q1899.56 149.992 1897.63 152.538 Q1895.74 155.084 1895.74 159.714 Q1895.74 164.32 1897.63 166.866 Q1899.56 169.413 1902.98 169.413 Q1906.43 169.413 1908.33 166.866 Q1910.25 164.32 1910.25 159.714 M1914.51 169.76 Q1914.51 176.38 1911.57 179.598 Q1908.63 182.839 1902.56 182.839 Q1900.32 182.839 1898.33 182.491 Q1896.34 182.167 1894.46 181.473 L1894.46 177.329 Q1896.34 178.348 1898.17 178.834 Q1900 179.32 1901.89 179.32 Q1906.08 179.32 1908.17 177.121 Q1910.25 174.945 1910.25 170.524 L1910.25 168.417 Q1908.93 170.709 1906.87 171.843 Q1904.81 172.978 1901.94 172.978 Q1897.17 172.978 1894.25 169.343 Q1891.34 165.709 1891.34 159.714 Q1891.34 153.695 1894.25 150.061 Q1897.17 146.427 1901.94 146.427 Q1904.81 146.427 1906.87 147.561 Q1908.93 148.695 1910.25 150.987 L1910.25 147.052 L1914.51 147.052 L1914.51 169.76 Z\" fill=\"#000000\" fill-rule=\"evenodd\" fill-opacity=\"1\" /><path clip-path=\"url(#clip980)\" d=\"M 0 0 M1929.02 150.038 Q1925.6 150.038 1923.61 152.723 Q1921.62 155.385 1921.62 160.038 Q1921.62 164.691 1923.58 167.376 Q1925.57 170.038 1929.02 170.038 Q1932.43 170.038 1934.42 167.353 Q1936.41 164.667 1936.41 160.038 Q1936.41 155.431 1934.42 152.746 Q1932.43 150.038 1929.02 150.038 M1929.02 146.427 Q1934.58 146.427 1937.75 150.038 Q1940.92 153.649 1940.92 160.038 Q1940.92 166.404 1937.75 170.038 Q1934.58 173.649 1929.02 173.649 Q1923.44 173.649 1920.27 170.038 Q1917.12 166.404 1917.12 160.038 Q1917.12 153.649 1920.27 150.038 Q1923.44 146.427 1929.02 146.427 Z\" fill=\"#000000\" fill-rule=\"evenodd\" fill-opacity=\"1\" /><path clip-path=\"url(#clip980)\" d=\"M 0 0 M1945.53 136.959 L1949.79 136.959 L1949.79 150.894 L1952.68 148.811 L1954.44 151.265 L1949.79 154.529 L1949.79 172.978 L1945.53 172.978 L1945.53 157.561 L1942.68 159.598 L1940.97 157.144 L1945.53 153.88 L1945.53 136.959 Z\" fill=\"#000000\" fill-rule=\"evenodd\" fill-opacity=\"1\" /><path clip-path=\"url(#clip980)\" d=\"M 0 0 M1981.08 158.95 L1981.08 161.033 L1961.5 161.033 Q1961.78 165.431 1964.14 167.746 Q1966.52 170.038 1970.76 170.038 Q1973.21 170.038 1975.5 169.436 Q1977.82 168.834 1980.09 167.63 L1980.09 171.658 Q1977.8 172.63 1975.39 173.14 Q1972.98 173.649 1970.5 173.649 Q1964.3 173.649 1960.67 170.038 Q1957.06 166.427 1957.06 160.269 Q1957.06 153.904 1960.48 150.177 Q1963.93 146.427 1969.76 146.427 Q1974.99 146.427 1978.03 149.806 Q1981.08 153.163 1981.08 158.95 M1976.82 157.7 Q1976.78 154.205 1974.86 152.121 Q1972.96 150.038 1969.81 150.038 Q1966.24 150.038 1964.09 152.052 Q1961.96 154.066 1961.64 157.723 L1976.82 157.7 M1973.33 172.978 L1976.08 172.978 Q1975.04 174.39 1974.53 175.408 Q1974.05 176.427 1974.05 177.144 Q1974.05 178.209 1974.67 178.741 Q1975.32 179.274 1976.57 179.274 Q1977.31 179.274 1978.03 179.089 Q1978.74 178.927 1979.46 178.579 L1979.46 181.658 Q1978.58 181.89 1977.8 182.005 Q1977.01 182.121 1976.31 182.121 Q1973.49 182.121 1972.15 181.103 Q1970.83 180.107 1970.83 177.954 Q1970.83 176.843 1971.43 175.616 Q1972.06 174.413 1973.33 172.978 Z\" fill=\"#000000\" fill-rule=\"evenodd\" fill-opacity=\"1\" /><path clip-path=\"url(#clip980)\" d=\"M 0 0 M2004.16 160.038 Q2004.16 155.339 2002.22 152.677 Q2000.3 149.992 1996.92 149.992 Q1993.54 149.992 1991.59 152.677 Q1989.67 155.339 1989.67 160.038 Q1989.67 164.737 1991.59 167.422 Q1993.54 170.084 1996.92 170.084 Q2000.3 170.084 2002.22 167.422 Q2004.16 164.737 2004.16 160.038 M1989.67 150.987 Q1991.01 148.672 1993.05 147.561 Q1995.11 146.427 1997.96 146.427 Q2002.68 146.427 2005.62 150.177 Q2008.58 153.927 2008.58 160.038 Q2008.58 166.149 2005.62 169.899 Q2002.68 173.649 1997.96 173.649 Q1995.11 173.649 1993.05 172.538 Q1991.01 171.403 1989.67 169.089 L1989.67 172.978 L1985.39 172.978 L1985.39 136.959 L1989.67 136.959 L1989.67 150.987 Z\" fill=\"#000000\" fill-rule=\"evenodd\" fill-opacity=\"1\" /><path clip-path=\"url(#clip980)\" d=\"M 0 0 M2013.05 147.052 L2017.31 147.052 L2017.31 172.978 L2013.05 172.978 L2013.05 147.052 M2013.05 136.959 L2017.31 136.959 L2017.31 142.353 L2013.05 142.353 L2013.05 136.959 Z\" fill=\"#000000\" fill-rule=\"evenodd\" fill-opacity=\"1\" /><path clip-path=\"url(#clip980)\" d=\"M 0 0 M2043.95 158.95 L2043.95 161.033 L2024.37 161.033 Q2024.65 165.431 2027.01 167.746 Q2029.39 170.038 2033.63 170.038 Q2036.08 170.038 2038.37 169.436 Q2040.69 168.834 2042.96 167.63 L2042.96 171.658 Q2040.67 172.63 2038.26 173.14 Q2035.85 173.649 2033.37 173.649 Q2027.17 173.649 2023.54 170.038 Q2019.93 166.427 2019.93 160.269 Q2019.93 153.904 2023.35 150.177 Q2026.8 146.427 2032.63 146.427 Q2037.86 146.427 2040.9 149.806 Q2043.95 153.163 2043.95 158.95 M2039.69 157.7 Q2039.65 154.205 2037.73 152.121 Q2035.83 150.038 2032.68 150.038 Q2029.11 150.038 2026.96 152.052 Q2024.83 154.066 2024.51 157.723 L2039.69 157.7 Z\" fill=\"#000000\" fill-rule=\"evenodd\" fill-opacity=\"1\" /><polyline clip-path=\"url(#clip980)\" style=\"stroke:#e26f46; stroke-width:4; stroke-opacity:1; fill:none\" points=\"\n",
       "  1718.92,216.178 1866.71,216.178 \n",
       "  \"/>\n",
       "<path clip-path=\"url(#clip980)\" d=\"M 0 0 M1896.66 207.532 L1900.92 207.532 L1900.92 233.921 Q1900.92 238.874 1899.02 241.096 Q1897.15 243.319 1892.96 243.319 L1891.34 243.319 L1891.34 239.708 L1892.47 239.708 Q1894.9 239.708 1895.78 238.573 Q1896.66 237.462 1896.66 233.921 L1896.66 207.532 M1896.66 197.439 L1900.92 197.439 L1900.92 202.833 L1896.66 202.833 L1896.66 197.439 Z\" fill=\"#000000\" fill-rule=\"evenodd\" fill-opacity=\"1\" /><path clip-path=\"url(#clip980)\" d=\"M 0 0 M1917.17 220.425 Q1912.01 220.425 1910.02 221.606 Q1908.03 222.786 1908.03 225.634 Q1908.03 227.902 1909.51 229.245 Q1911.01 230.564 1913.58 230.564 Q1917.12 230.564 1919.25 228.064 Q1921.41 225.541 1921.41 221.374 L1921.41 220.425 L1917.17 220.425 M1925.67 218.666 L1925.67 233.458 L1921.41 233.458 L1921.41 229.522 Q1919.95 231.883 1917.77 233.018 Q1915.6 234.129 1912.45 234.129 Q1908.47 234.129 1906.11 231.907 Q1903.77 229.661 1903.77 225.911 Q1903.77 221.536 1906.69 219.314 Q1909.62 217.092 1915.44 217.092 L1921.41 217.092 L1921.41 216.675 Q1921.41 213.735 1919.46 212.138 Q1917.54 210.518 1914.05 210.518 Q1911.82 210.518 1909.72 211.05 Q1907.61 211.583 1905.67 212.647 L1905.67 208.712 Q1908 207.81 1910.2 207.37 Q1912.4 206.907 1914.49 206.907 Q1920.11 206.907 1922.89 209.823 Q1925.67 212.74 1925.67 218.666 Z\" fill=\"#000000\" fill-rule=\"evenodd\" fill-opacity=\"1\" /><path clip-path=\"url(#clip980)\" d=\"M 0 0 M1946.66 208.296 L1946.66 212.323 Q1944.86 211.397 1942.91 210.935 Q1940.97 210.472 1938.88 210.472 Q1935.71 210.472 1934.12 211.444 Q1932.54 212.416 1932.54 214.36 Q1932.54 215.842 1933.68 216.698 Q1934.81 217.532 1938.24 218.296 L1939.69 218.62 Q1944.23 219.592 1946.13 221.374 Q1948.05 223.134 1948.05 226.305 Q1948.05 229.916 1945.18 232.022 Q1942.33 234.129 1937.33 234.129 Q1935.25 234.129 1932.98 233.712 Q1930.74 233.319 1928.24 232.508 L1928.24 228.11 Q1930.6 229.337 1932.89 229.962 Q1935.18 230.564 1937.43 230.564 Q1940.43 230.564 1942.06 229.546 Q1943.68 228.504 1943.68 226.629 Q1943.68 224.893 1942.5 223.967 Q1941.34 223.041 1937.38 222.184 L1935.9 221.837 Q1931.94 221.004 1930.18 219.291 Q1928.42 217.555 1928.42 214.546 Q1928.42 210.888 1931.01 208.898 Q1933.61 206.907 1938.37 206.907 Q1940.74 206.907 1942.82 207.254 Q1944.9 207.601 1946.66 208.296 Z\" fill=\"#000000\" fill-rule=\"evenodd\" fill-opacity=\"1\" /><path clip-path=\"url(#clip980)\" d=\"M 0 0 M1956.73 200.171 L1956.73 207.532 L1965.5 207.532 L1965.5 210.842 L1956.73 210.842 L1956.73 224.916 Q1956.73 228.087 1957.59 228.99 Q1958.47 229.893 1961.13 229.893 L1965.5 229.893 L1965.5 233.458 L1961.13 233.458 Q1956.2 233.458 1954.32 231.629 Q1952.45 229.777 1952.45 224.916 L1952.45 210.842 L1949.32 210.842 L1949.32 207.532 L1952.45 207.532 L1952.45 200.171 L1956.73 200.171 Z\" fill=\"#000000\" fill-rule=\"evenodd\" fill-opacity=\"1\" /><path clip-path=\"url(#clip980)\" d=\"M 0 0 M1984.99 211.513 Q1984.28 211.097 1983.42 210.911 Q1982.59 210.703 1981.57 210.703 Q1977.96 210.703 1976.01 213.064 Q1974.09 215.402 1974.09 219.8 L1974.09 233.458 L1969.81 233.458 L1969.81 207.532 L1974.09 207.532 L1974.09 211.56 Q1975.43 209.198 1977.59 208.064 Q1979.74 206.907 1982.82 206.907 Q1983.26 206.907 1983.79 206.976 Q1984.32 207.023 1984.97 207.138 L1984.99 211.513 Z\" fill=\"#000000\" fill-rule=\"evenodd\" fill-opacity=\"1\" /><path clip-path=\"url(#clip980)\" d=\"M 0 0 M1987.61 207.532 L2007.84 207.532 L2007.84 211.421 L1991.82 230.055 L2007.84 230.055 L2007.84 233.458 L1987.03 233.458 L1987.03 229.569 L2003.05 210.935 L1987.61 210.935 L1987.61 207.532 Z\" fill=\"#000000\" fill-rule=\"evenodd\" fill-opacity=\"1\" /><path clip-path=\"url(#clip980)\" d=\"M 0 0 M2034.49 219.43 L2034.49 221.513 L2014.9 221.513 Q2015.18 225.911 2017.54 228.226 Q2019.93 230.518 2024.16 230.518 Q2026.62 230.518 2028.91 229.916 Q2031.22 229.314 2033.49 228.11 L2033.49 232.138 Q2031.2 233.11 2028.79 233.62 Q2026.38 234.129 2023.91 234.129 Q2017.7 234.129 2014.07 230.518 Q2010.46 226.907 2010.46 220.749 Q2010.46 214.384 2013.88 210.657 Q2017.33 206.907 2023.17 206.907 Q2028.4 206.907 2031.43 210.286 Q2034.49 213.643 2034.49 219.43 M2030.23 218.18 Q2030.18 214.685 2028.26 212.601 Q2026.36 210.518 2023.21 210.518 Q2019.65 210.518 2017.49 212.532 Q2015.37 214.546 2015.04 218.203 L2030.23 218.18 M2026.73 233.458 L2029.49 233.458 Q2028.44 234.87 2027.93 235.888 Q2027.45 236.907 2027.45 237.624 Q2027.45 238.689 2028.07 239.221 Q2028.72 239.754 2029.97 239.754 Q2030.71 239.754 2031.43 239.569 Q2032.15 239.407 2032.86 239.059 L2032.86 242.138 Q2031.99 242.37 2031.2 242.485 Q2030.41 242.601 2029.72 242.601 Q2026.89 242.601 2025.55 241.583 Q2024.23 240.587 2024.23 238.434 Q2024.23 237.323 2024.83 236.096 Q2025.46 234.893 2026.73 233.458 Z\" fill=\"#000000\" fill-rule=\"evenodd\" fill-opacity=\"1\" /><path clip-path=\"url(#clip980)\" d=\"M 0 0 M2057.56 220.518 Q2057.56 215.819 2055.62 213.157 Q2053.7 210.472 2050.32 210.472 Q2046.94 210.472 2044.99 213.157 Q2043.07 215.819 2043.07 220.518 Q2043.07 225.217 2044.99 227.902 Q2046.94 230.564 2050.32 230.564 Q2053.7 230.564 2055.62 227.902 Q2057.56 225.217 2057.56 220.518 M2043.07 211.467 Q2044.42 209.152 2046.45 208.041 Q2048.51 206.907 2051.36 206.907 Q2056.08 206.907 2059.02 210.657 Q2061.99 214.407 2061.99 220.518 Q2061.99 226.629 2059.02 230.379 Q2056.08 234.129 2051.36 234.129 Q2048.51 234.129 2046.45 233.018 Q2044.42 231.883 2043.07 229.569 L2043.07 233.458 L2038.79 233.458 L2038.79 197.439 L2043.07 197.439 L2043.07 211.467 Z\" fill=\"#000000\" fill-rule=\"evenodd\" fill-opacity=\"1\" /><path clip-path=\"url(#clip980)\" d=\"M 0 0 M2066.45 207.532 L2070.71 207.532 L2070.71 233.458 L2066.45 233.458 L2066.45 207.532 M2066.45 197.439 L2070.71 197.439 L2070.71 202.833 L2066.45 202.833 L2066.45 197.439 Z\" fill=\"#000000\" fill-rule=\"evenodd\" fill-opacity=\"1\" /><path clip-path=\"url(#clip980)\" d=\"M 0 0 M2097.36 219.43 L2097.36 221.513 L2077.77 221.513 Q2078.05 225.911 2080.41 228.226 Q2082.8 230.518 2087.03 230.518 Q2089.49 230.518 2091.78 229.916 Q2094.09 229.314 2096.36 228.11 L2096.36 232.138 Q2094.07 233.11 2091.66 233.62 Q2089.25 234.129 2086.78 234.129 Q2080.57 234.129 2076.94 230.518 Q2073.33 226.907 2073.33 220.749 Q2073.33 214.384 2076.75 210.657 Q2080.2 206.907 2086.04 206.907 Q2091.27 206.907 2094.3 210.286 Q2097.36 213.643 2097.36 219.43 M2093.1 218.18 Q2093.05 214.685 2091.13 212.601 Q2089.23 210.518 2086.08 210.518 Q2082.52 210.518 2080.36 212.532 Q2078.24 214.546 2077.91 218.203 L2093.1 218.18 Z\" fill=\"#000000\" fill-rule=\"evenodd\" fill-opacity=\"1\" /><polyline clip-path=\"url(#clip980)\" style=\"stroke:#3da44d; stroke-width:4; stroke-opacity:1; fill:none\" points=\"\n",
       "  1718.92,276.658 1866.71,276.658 \n",
       "  \"/>\n",
       "<path clip-path=\"url(#clip980)\" d=\"M 0 0 M1911.85 269.007 L1911.85 272.989 Q1910.04 271.993 1908.21 271.507 Q1906.41 270.998 1904.56 270.998 Q1900.41 270.998 1898.12 273.637 Q1895.83 276.252 1895.83 280.998 Q1895.83 285.743 1898.12 288.382 Q1900.41 290.998 1904.56 290.998 Q1906.41 290.998 1908.21 290.512 Q1910.04 290.002 1911.85 289.007 L1911.85 292.942 Q1910.06 293.776 1908.14 294.192 Q1906.25 294.609 1904.09 294.609 Q1898.24 294.609 1894.79 290.928 Q1891.34 287.248 1891.34 280.998 Q1891.34 274.655 1894.81 271.021 Q1898.31 267.387 1904.37 267.387 Q1906.34 267.387 1908.21 267.803 Q1910.09 268.197 1911.85 269.007 Z\" fill=\"#000000\" fill-rule=\"evenodd\" fill-opacity=\"1\" /><path clip-path=\"url(#clip980)\" d=\"M 0 0 M1937.87 278.289 L1937.87 293.938 L1933.61 293.938 L1933.61 278.428 Q1933.61 274.748 1932.17 272.919 Q1930.74 271.09 1927.87 271.09 Q1924.42 271.09 1922.43 273.29 Q1920.44 275.489 1920.44 279.285 L1920.44 293.938 L1916.15 293.938 L1916.15 257.919 L1920.44 257.919 L1920.44 272.04 Q1921.96 269.702 1924.02 268.544 Q1926.11 267.387 1928.81 267.387 Q1933.28 267.387 1935.57 270.165 Q1937.87 272.919 1937.87 278.289 Z\" fill=\"#000000\" fill-rule=\"evenodd\" fill-opacity=\"1\" /><path clip-path=\"url(#clip980)\" d=\"M 0 0 M1952.38 270.998 Q1948.95 270.998 1946.96 273.683 Q1944.97 276.345 1944.97 280.998 Q1944.97 285.651 1946.94 288.336 Q1948.93 290.998 1952.38 290.998 Q1955.78 290.998 1957.77 288.313 Q1959.76 285.627 1959.76 280.998 Q1959.76 276.391 1957.77 273.706 Q1955.78 270.998 1952.38 270.998 M1952.38 267.387 Q1957.93 267.387 1961.11 270.998 Q1964.28 274.609 1964.28 280.998 Q1964.28 287.364 1961.11 290.998 Q1957.93 294.609 1952.38 294.609 Q1946.8 294.609 1943.63 290.998 Q1940.48 287.364 1940.48 280.998 Q1940.48 274.609 1943.63 270.998 Q1946.8 267.387 1952.38 267.387 Z\" fill=\"#000000\" fill-rule=\"evenodd\" fill-opacity=\"1\" /><path clip-path=\"url(#clip980)\" d=\"M 0 0 M1983.77 271.993 Q1983.05 271.577 1982.19 271.391 Q1981.36 271.183 1980.34 271.183 Q1976.73 271.183 1974.79 273.544 Q1972.87 275.882 1972.87 280.28 L1972.87 293.938 L1968.58 293.938 L1968.58 268.012 L1972.87 268.012 L1972.87 272.04 Q1974.21 269.678 1976.36 268.544 Q1978.51 267.387 1981.59 267.387 Q1982.03 267.387 1982.56 267.456 Q1983.1 267.503 1983.74 267.618 L1983.77 271.993 Z\" fill=\"#000000\" fill-rule=\"evenodd\" fill-opacity=\"1\" /><path clip-path=\"url(#clip980)\" d=\"M 0 0 M2009.37 279.91 L2009.37 281.993 L1989.79 281.993 Q1990.06 286.391 1992.43 288.706 Q1994.81 290.998 1999.05 290.998 Q2001.5 290.998 2003.79 290.396 Q2006.11 289.794 2008.37 288.59 L2008.37 292.618 Q2006.08 293.59 2003.68 294.1 Q2001.27 294.609 1998.79 294.609 Q1992.59 294.609 1988.95 290.998 Q1985.34 287.387 1985.34 281.229 Q1985.34 274.864 1988.77 271.137 Q1992.22 267.387 1998.05 267.387 Q2003.28 267.387 2006.31 270.766 Q2009.37 274.123 2009.37 279.91 M2005.11 278.66 Q2005.06 275.165 2003.14 273.081 Q2001.24 270.998 1998.1 270.998 Q1994.53 270.998 1992.38 273.012 Q1990.25 275.026 1989.93 278.683 L2005.11 278.66 Z\" fill=\"#000000\" fill-rule=\"evenodd\" fill-opacity=\"1\" /><path clip-path=\"url(#clip980)\" d=\"M 0 0 M2045.97 280.674 Q2045.97 276.044 2044.05 273.498 Q2042.15 270.952 2038.7 270.952 Q2035.27 270.952 2033.35 273.498 Q2031.45 276.044 2031.45 280.674 Q2031.45 285.28 2033.35 287.826 Q2035.27 290.373 2038.7 290.373 Q2042.15 290.373 2044.05 287.826 Q2045.97 285.28 2045.97 280.674 M2050.23 290.72 Q2050.23 297.34 2047.29 300.558 Q2044.35 303.799 2038.28 303.799 Q2036.04 303.799 2034.05 303.451 Q2032.05 303.127 2030.18 302.433 L2030.18 298.289 Q2032.05 299.308 2033.88 299.794 Q2035.71 300.28 2037.61 300.28 Q2041.8 300.28 2043.88 298.081 Q2045.97 295.905 2045.97 291.484 L2045.97 289.377 Q2044.65 291.669 2042.59 292.803 Q2040.53 293.938 2037.66 293.938 Q2032.89 293.938 2029.97 290.303 Q2027.05 286.669 2027.05 280.674 Q2027.05 274.655 2029.97 271.021 Q2032.89 267.387 2037.66 267.387 Q2040.53 267.387 2042.59 268.521 Q2044.65 269.655 2045.97 271.947 L2045.97 268.012 L2050.23 268.012 L2050.23 290.72 Z\" fill=\"#000000\" fill-rule=\"evenodd\" fill-opacity=\"1\" /><path clip-path=\"url(#clip980)\" d=\"M 0 0 M2064.74 270.998 Q2061.31 270.998 2059.32 273.683 Q2057.33 276.345 2057.33 280.998 Q2057.33 285.651 2059.3 288.336 Q2061.29 290.998 2064.74 290.998 Q2068.14 290.998 2070.13 288.313 Q2072.12 285.627 2072.12 280.998 Q2072.12 276.391 2070.13 273.706 Q2068.14 270.998 2064.74 270.998 M2064.74 267.387 Q2070.3 267.387 2073.47 270.998 Q2076.64 274.609 2076.64 280.998 Q2076.64 287.364 2073.47 290.998 Q2070.3 294.609 2064.74 294.609 Q2059.16 294.609 2055.99 290.998 Q2052.84 287.364 2052.84 280.998 Q2052.84 274.609 2055.99 270.998 Q2059.16 267.387 2064.74 267.387 Z\" fill=\"#000000\" fill-rule=\"evenodd\" fill-opacity=\"1\" /><path clip-path=\"url(#clip980)\" d=\"M 0 0 M2081.24 257.919 L2085.5 257.919 L2085.5 271.854 L2088.4 269.771 L2090.16 272.225 L2085.5 275.489 L2085.5 293.938 L2081.24 293.938 L2081.24 278.521 L2078.4 280.558 L2076.68 278.104 L2081.24 274.84 L2081.24 257.919 Z\" fill=\"#000000\" fill-rule=\"evenodd\" fill-opacity=\"1\" /><path clip-path=\"url(#clip980)\" d=\"M 0 0 M2116.8 279.91 L2116.8 281.993 L2097.22 281.993 Q2097.49 286.391 2099.86 288.706 Q2102.24 290.998 2106.48 290.998 Q2108.93 290.998 2111.22 290.396 Q2113.54 289.794 2115.8 288.59 L2115.8 292.618 Q2113.51 293.59 2111.11 294.1 Q2108.7 294.609 2106.22 294.609 Q2100.02 294.609 2096.38 290.998 Q2092.77 287.387 2092.77 281.229 Q2092.77 274.864 2096.2 271.137 Q2099.65 267.387 2105.48 267.387 Q2110.71 267.387 2113.74 270.766 Q2116.8 274.123 2116.8 279.91 M2112.54 278.66 Q2112.49 275.165 2110.57 273.081 Q2108.67 270.998 2105.53 270.998 Q2101.96 270.998 2099.81 273.012 Q2097.68 275.026 2097.36 278.683 L2112.54 278.66 M2109.05 293.938 L2111.8 293.938 Q2110.76 295.35 2110.25 296.368 Q2109.76 297.387 2109.76 298.104 Q2109.76 299.169 2110.39 299.701 Q2111.04 300.234 2112.29 300.234 Q2113.03 300.234 2113.74 300.049 Q2114.46 299.887 2115.18 299.539 L2115.18 302.618 Q2114.3 302.85 2113.51 302.965 Q2112.73 303.081 2112.03 303.081 Q2109.21 303.081 2107.86 302.063 Q2106.55 301.067 2106.55 298.914 Q2106.55 297.803 2107.15 296.576 Q2107.77 295.373 2109.05 293.938 Z\" fill=\"#000000\" fill-rule=\"evenodd\" fill-opacity=\"1\" /><path clip-path=\"url(#clip980)\" d=\"M 0 0 M2139.88 280.998 Q2139.88 276.299 2137.93 273.637 Q2136.01 270.952 2132.63 270.952 Q2129.25 270.952 2127.31 273.637 Q2125.39 276.299 2125.39 280.998 Q2125.39 285.697 2127.31 288.382 Q2129.25 291.044 2132.63 291.044 Q2136.01 291.044 2137.93 288.382 Q2139.88 285.697 2139.88 280.998 M2125.39 271.947 Q2126.73 269.632 2128.77 268.521 Q2130.83 267.387 2133.67 267.387 Q2138.4 267.387 2141.34 271.137 Q2144.3 274.887 2144.3 280.998 Q2144.3 287.109 2141.34 290.859 Q2138.4 294.609 2133.67 294.609 Q2130.83 294.609 2128.77 293.498 Q2126.73 292.363 2125.39 290.049 L2125.39 293.938 L2121.11 293.938 L2121.11 257.919 L2125.39 257.919 L2125.39 271.947 Z\" fill=\"#000000\" fill-rule=\"evenodd\" fill-opacity=\"1\" /><path clip-path=\"url(#clip980)\" d=\"M 0 0 M2148.77 268.012 L2153.03 268.012 L2153.03 293.938 L2148.77 293.938 L2148.77 268.012 M2148.77 257.919 L2153.03 257.919 L2153.03 263.313 L2148.77 263.313 L2148.77 257.919 Z\" fill=\"#000000\" fill-rule=\"evenodd\" fill-opacity=\"1\" /><path clip-path=\"url(#clip980)\" d=\"M 0 0 M2179.67 279.91 L2179.67 281.993 L2160.09 281.993 Q2160.36 286.391 2162.73 288.706 Q2165.11 290.998 2169.35 290.998 Q2171.8 290.998 2174.09 290.396 Q2176.41 289.794 2178.67 288.59 L2178.67 292.618 Q2176.38 293.59 2173.98 294.1 Q2171.57 294.609 2169.09 294.609 Q2162.89 294.609 2159.25 290.998 Q2155.64 287.387 2155.64 281.229 Q2155.64 274.864 2159.07 271.137 Q2162.52 267.387 2168.35 267.387 Q2173.58 267.387 2176.61 270.766 Q2179.67 274.123 2179.67 279.91 M2175.41 278.66 Q2175.36 275.165 2173.44 273.081 Q2171.54 270.998 2168.4 270.998 Q2164.83 270.998 2162.68 273.012 Q2160.55 275.026 2160.23 278.683 L2175.41 278.66 Z\" fill=\"#000000\" fill-rule=\"evenodd\" fill-opacity=\"1\" /><polyline clip-path=\"url(#clip980)\" style=\"stroke:#c271d2; stroke-width:4; stroke-opacity:1; fill:none\" points=\"\n",
       "  1718.92,337.138 1866.71,337.138 \n",
       "  \"/>\n",
       "<path clip-path=\"url(#clip980)\" d=\"M 0 0 M1911.85 329.487 L1911.85 333.469 Q1910.04 332.473 1908.21 331.987 Q1906.41 331.478 1904.56 331.478 Q1900.41 331.478 1898.12 334.117 Q1895.83 336.732 1895.83 341.478 Q1895.83 346.223 1898.12 348.862 Q1900.41 351.478 1904.56 351.478 Q1906.41 351.478 1908.21 350.992 Q1910.04 350.482 1911.85 349.487 L1911.85 353.422 Q1910.06 354.256 1908.14 354.672 Q1906.25 355.089 1904.09 355.089 Q1898.24 355.089 1894.79 351.408 Q1891.34 347.728 1891.34 341.478 Q1891.34 335.135 1894.81 331.501 Q1898.31 327.867 1904.37 327.867 Q1906.34 327.867 1908.21 328.283 Q1910.09 328.677 1911.85 329.487 Z\" fill=\"#000000\" fill-rule=\"evenodd\" fill-opacity=\"1\" /><path clip-path=\"url(#clip980)\" d=\"M 0 0 M1937.87 338.769 L1937.87 354.418 L1933.61 354.418 L1933.61 338.908 Q1933.61 335.228 1932.17 333.399 Q1930.74 331.57 1927.87 331.57 Q1924.42 331.57 1922.43 333.77 Q1920.44 335.969 1920.44 339.765 L1920.44 354.418 L1916.15 354.418 L1916.15 318.399 L1920.44 318.399 L1920.44 332.52 Q1921.96 330.182 1924.02 329.024 Q1926.11 327.867 1928.81 327.867 Q1933.28 327.867 1935.57 330.645 Q1937.87 333.399 1937.87 338.769 Z\" fill=\"#000000\" fill-rule=\"evenodd\" fill-opacity=\"1\" /><path clip-path=\"url(#clip980)\" d=\"M 0 0 M1952.38 331.478 Q1948.95 331.478 1946.96 334.163 Q1944.97 336.825 1944.97 341.478 Q1944.97 346.131 1946.94 348.816 Q1948.93 351.478 1952.38 351.478 Q1955.78 351.478 1957.77 348.793 Q1959.76 346.107 1959.76 341.478 Q1959.76 336.871 1957.77 334.186 Q1955.78 331.478 1952.38 331.478 M1952.38 327.867 Q1957.93 327.867 1961.11 331.478 Q1964.28 335.089 1964.28 341.478 Q1964.28 347.844 1961.11 351.478 Q1957.93 355.089 1952.38 355.089 Q1946.8 355.089 1943.63 351.478 Q1940.48 347.844 1940.48 341.478 Q1940.48 335.089 1943.63 331.478 Q1946.8 327.867 1952.38 327.867 Z\" fill=\"#000000\" fill-rule=\"evenodd\" fill-opacity=\"1\" /><path clip-path=\"url(#clip980)\" d=\"M 0 0 M1983.77 332.473 Q1983.05 332.057 1982.19 331.871 Q1981.36 331.663 1980.34 331.663 Q1976.73 331.663 1974.79 334.024 Q1972.87 336.362 1972.87 340.76 L1972.87 354.418 L1968.58 354.418 L1968.58 328.492 L1972.87 328.492 L1972.87 332.52 Q1974.21 330.158 1976.36 329.024 Q1978.51 327.867 1981.59 327.867 Q1982.03 327.867 1982.56 327.936 Q1983.1 327.983 1983.74 328.098 L1983.77 332.473 Z\" fill=\"#000000\" fill-rule=\"evenodd\" fill-opacity=\"1\" /><path clip-path=\"url(#clip980)\" d=\"M 0 0 M2009.37 340.39 L2009.37 342.473 L1989.79 342.473 Q1990.06 346.871 1992.43 349.186 Q1994.81 351.478 1999.05 351.478 Q2001.5 351.478 2003.79 350.876 Q2006.11 350.274 2008.37 349.07 L2008.37 353.098 Q2006.08 354.07 2003.68 354.58 Q2001.27 355.089 1998.79 355.089 Q1992.59 355.089 1988.95 351.478 Q1985.34 347.867 1985.34 341.709 Q1985.34 335.344 1988.77 331.617 Q1992.22 327.867 1998.05 327.867 Q2003.28 327.867 2006.31 331.246 Q2009.37 334.603 2009.37 340.39 M2005.11 339.14 Q2005.06 335.645 2003.14 333.561 Q2001.24 331.478 1998.1 331.478 Q1994.53 331.478 1992.38 333.492 Q1990.25 335.506 1989.93 339.163 L2005.11 339.14 Z\" fill=\"#000000\" fill-rule=\"evenodd\" fill-opacity=\"1\" /><path clip-path=\"url(#clip980)\" d=\"M 0 0 M2028.91 328.492 L2033.17 328.492 L2033.17 354.881 Q2033.17 359.834 2031.27 362.056 Q2029.39 364.279 2025.2 364.279 L2023.58 364.279 L2023.58 360.668 L2024.72 360.668 Q2027.15 360.668 2028.03 359.533 Q2028.91 358.422 2028.91 354.881 L2028.91 328.492 M2028.91 318.399 L2033.17 318.399 L2033.17 323.793 L2028.91 323.793 L2028.91 318.399 Z\" fill=\"#000000\" fill-rule=\"evenodd\" fill-opacity=\"1\" /><path clip-path=\"url(#clip980)\" d=\"M 0 0 M2049.42 341.385 Q2044.25 341.385 2042.26 342.566 Q2040.27 343.746 2040.27 346.594 Q2040.27 348.862 2041.75 350.205 Q2043.26 351.524 2045.83 351.524 Q2049.37 351.524 2051.5 349.024 Q2053.65 346.501 2053.65 342.334 L2053.65 341.385 L2049.42 341.385 M2057.91 339.626 L2057.91 354.418 L2053.65 354.418 L2053.65 350.482 Q2052.19 352.843 2050.02 353.978 Q2047.84 355.089 2044.69 355.089 Q2040.71 355.089 2038.35 352.867 Q2036.01 350.621 2036.01 346.871 Q2036.01 342.496 2038.93 340.274 Q2041.87 338.052 2047.68 338.052 L2053.65 338.052 L2053.65 337.635 Q2053.65 334.695 2051.71 333.098 Q2049.79 331.478 2046.29 331.478 Q2044.07 331.478 2041.96 332.01 Q2039.86 332.543 2037.91 333.607 L2037.91 329.672 Q2040.25 328.77 2042.45 328.33 Q2044.65 327.867 2046.73 327.867 Q2052.36 327.867 2055.13 330.783 Q2057.91 333.7 2057.91 339.626 Z\" fill=\"#000000\" fill-rule=\"evenodd\" fill-opacity=\"1\" /><path clip-path=\"url(#clip980)\" d=\"M 0 0 M2078.91 329.256 L2078.91 333.283 Q2077.1 332.357 2075.16 331.895 Q2073.21 331.432 2071.13 331.432 Q2067.96 331.432 2066.36 332.404 Q2064.79 333.376 2064.79 335.32 Q2064.79 336.802 2065.92 337.658 Q2067.05 338.492 2070.48 339.256 L2071.94 339.58 Q2076.48 340.552 2078.37 342.334 Q2080.3 344.094 2080.3 347.265 Q2080.3 350.876 2077.42 352.982 Q2074.58 355.089 2069.58 355.089 Q2067.49 355.089 2065.23 354.672 Q2062.98 354.279 2060.48 353.468 L2060.48 349.07 Q2062.84 350.297 2065.13 350.922 Q2067.42 351.524 2069.67 351.524 Q2072.68 351.524 2074.3 350.506 Q2075.92 349.464 2075.92 347.589 Q2075.92 345.853 2074.74 344.927 Q2073.58 344.001 2069.62 343.144 L2068.14 342.797 Q2064.18 341.964 2062.43 340.251 Q2060.67 338.515 2060.67 335.506 Q2060.67 331.848 2063.26 329.858 Q2065.85 327.867 2070.62 327.867 Q2072.98 327.867 2075.06 328.214 Q2077.15 328.561 2078.91 329.256 Z\" fill=\"#000000\" fill-rule=\"evenodd\" fill-opacity=\"1\" /><path clip-path=\"url(#clip980)\" d=\"M 0 0 M2088.98 321.131 L2088.98 328.492 L2097.75 328.492 L2097.75 331.802 L2088.98 331.802 L2088.98 345.876 Q2088.98 349.047 2089.83 349.95 Q2090.71 350.853 2093.37 350.853 L2097.75 350.853 L2097.75 354.418 L2093.37 354.418 Q2088.44 354.418 2086.57 352.589 Q2084.69 350.737 2084.69 345.876 L2084.69 331.802 L2081.57 331.802 L2081.57 328.492 L2084.69 328.492 L2084.69 321.131 L2088.98 321.131 Z\" fill=\"#000000\" fill-rule=\"evenodd\" fill-opacity=\"1\" /><path clip-path=\"url(#clip980)\" d=\"M 0 0 M2117.24 332.473 Q2116.52 332.057 2115.67 331.871 Q2114.83 331.663 2113.81 331.663 Q2110.2 331.663 2108.26 334.024 Q2106.34 336.362 2106.34 340.76 L2106.34 354.418 L2102.05 354.418 L2102.05 328.492 L2106.34 328.492 L2106.34 332.52 Q2107.68 330.158 2109.83 329.024 Q2111.98 327.867 2115.06 327.867 Q2115.5 327.867 2116.04 327.936 Q2116.57 327.983 2117.22 328.098 L2117.24 332.473 Z\" fill=\"#000000\" fill-rule=\"evenodd\" fill-opacity=\"1\" /><path clip-path=\"url(#clip980)\" d=\"M 0 0 M2119.86 328.492 L2140.09 328.492 L2140.09 332.381 L2124.07 351.015 L2140.09 351.015 L2140.09 354.418 L2119.28 354.418 L2119.28 350.529 L2135.29 331.895 L2119.86 331.895 L2119.86 328.492 Z\" fill=\"#000000\" fill-rule=\"evenodd\" fill-opacity=\"1\" /><path clip-path=\"url(#clip980)\" d=\"M 0 0 M2166.73 340.39 L2166.73 342.473 L2147.15 342.473 Q2147.42 346.871 2149.79 349.186 Q2152.17 351.478 2156.41 351.478 Q2158.86 351.478 2161.15 350.876 Q2163.47 350.274 2165.73 349.07 L2165.73 353.098 Q2163.44 354.07 2161.04 354.58 Q2158.63 355.089 2156.15 355.089 Q2149.95 355.089 2146.31 351.478 Q2142.7 347.867 2142.7 341.709 Q2142.7 335.344 2146.13 331.617 Q2149.58 327.867 2155.41 327.867 Q2160.64 327.867 2163.67 331.246 Q2166.73 334.603 2166.73 340.39 M2162.47 339.14 Q2162.42 335.645 2160.5 333.561 Q2158.61 331.478 2155.46 331.478 Q2151.89 331.478 2149.74 333.492 Q2147.61 335.506 2147.29 339.163 L2162.47 339.14 M2158.98 354.418 L2161.73 354.418 Q2160.69 355.83 2160.18 356.848 Q2159.69 357.867 2159.69 358.584 Q2159.69 359.649 2160.32 360.181 Q2160.97 360.714 2162.22 360.714 Q2162.96 360.714 2163.67 360.529 Q2164.39 360.367 2165.11 360.019 L2165.11 363.098 Q2164.23 363.33 2163.44 363.445 Q2162.66 363.561 2161.96 363.561 Q2159.14 363.561 2157.79 362.543 Q2156.48 361.547 2156.48 359.394 Q2156.48 358.283 2157.08 357.056 Q2157.7 355.853 2158.98 354.418 Z\" fill=\"#000000\" fill-rule=\"evenodd\" fill-opacity=\"1\" /><path clip-path=\"url(#clip980)\" d=\"M 0 0 M2189.81 341.478 Q2189.81 336.779 2187.86 334.117 Q2185.94 331.432 2182.56 331.432 Q2179.18 331.432 2177.24 334.117 Q2175.32 336.779 2175.32 341.478 Q2175.32 346.177 2177.24 348.862 Q2179.18 351.524 2182.56 351.524 Q2185.94 351.524 2187.86 348.862 Q2189.81 346.177 2189.81 341.478 M2175.32 332.427 Q2176.66 330.112 2178.7 329.001 Q2180.76 327.867 2183.6 327.867 Q2188.33 327.867 2191.27 331.617 Q2194.23 335.367 2194.23 341.478 Q2194.23 347.589 2191.27 351.339 Q2188.33 355.089 2183.6 355.089 Q2180.76 355.089 2178.7 353.978 Q2176.66 352.843 2175.32 350.529 L2175.32 354.418 L2171.04 354.418 L2171.04 318.399 L2175.32 318.399 L2175.32 332.427 Z\" fill=\"#000000\" fill-rule=\"evenodd\" fill-opacity=\"1\" /><path clip-path=\"url(#clip980)\" d=\"M 0 0 M2198.7 328.492 L2202.96 328.492 L2202.96 354.418 L2198.7 354.418 L2198.7 328.492 M2198.7 318.399 L2202.96 318.399 L2202.96 323.793 L2198.7 323.793 L2198.7 318.399 Z\" fill=\"#000000\" fill-rule=\"evenodd\" fill-opacity=\"1\" /><path clip-path=\"url(#clip980)\" d=\"M 0 0 M2229.6 340.39 L2229.6 342.473 L2210.02 342.473 Q2210.29 346.871 2212.66 349.186 Q2215.04 351.478 2219.28 351.478 Q2221.73 351.478 2224.02 350.876 Q2226.34 350.274 2228.6 349.07 L2228.6 353.098 Q2226.31 354.07 2223.91 354.58 Q2221.5 355.089 2219.02 355.089 Q2212.82 355.089 2209.18 351.478 Q2205.57 347.867 2205.57 341.709 Q2205.57 335.344 2209 331.617 Q2212.45 327.867 2218.28 327.867 Q2223.51 327.867 2226.54 331.246 Q2229.6 334.603 2229.6 340.39 M2225.34 339.14 Q2225.29 335.645 2223.37 333.561 Q2221.48 331.478 2218.33 331.478 Q2214.76 331.478 2212.61 333.492 Q2210.48 335.506 2210.16 339.163 L2225.34 339.14 Z\" fill=\"#000000\" fill-rule=\"evenodd\" fill-opacity=\"1\" /></svg>\n"
      ]
     },
     "execution_count": 48,
     "metadata": {},
     "output_type": "execute_result"
    }
   ],
   "source": [
    "wykresy_all(9,9,10,10,40,40,100)"
   ]
  },
  {
   "cell_type": "markdown",
   "metadata": {},
   "source": [
    "chyba jakoś działa, ale w sumie to ciężko powiedzieć"
   ]
  },
  {
   "cell_type": "code",
   "execution_count": null,
   "metadata": {},
   "outputs": [],
   "source": []
  }
 ],
 "metadata": {
  "kernelspec": {
   "display_name": "Julia 1.5.3",
   "language": "julia",
   "name": "julia-1.5"
  },
  "language_info": {
   "file_extension": ".jl",
   "mimetype": "application/julia",
   "name": "julia",
   "version": "1.5.3"
  }
 },
 "nbformat": 4,
 "nbformat_minor": 4
}
