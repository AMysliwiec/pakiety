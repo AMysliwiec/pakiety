{
 "cells": [
  {
   "cell_type": "code",
   "execution_count": 66,
   "metadata": {},
   "outputs": [],
   "source": [
    "using Plots\n",
    "using PyPlot\n",
    "using WebIO\n",
    "using Interact"
   ]
  },
  {
   "cell_type": "code",
   "execution_count": 3,
   "metadata": {},
   "outputs": [],
   "source": [
    "import Random"
   ]
  },
  {
   "cell_type": "markdown",
   "metadata": {},
   "source": [
    "### funkcja generująca środowisko z pakietami żywnościowymi"
   ]
  },
  {
   "cell_type": "code",
   "execution_count": 4,
   "metadata": {},
   "outputs": [
    {
     "data": {
      "text/plain": [
       "environment (generic function with 1 method)"
      ]
     },
     "execution_count": 4,
     "metadata": {},
     "output_type": "execute_result"
    }
   ],
   "source": [
    "function environment(n,m)\n",
    "    Environment = zeros(Int64, n, m)\n",
    "    for i in 2:3:n\n",
    "        Environment[i,:] = ones(Int64, 1, m)\n",
    "    end\n",
    "    return Environment\n",
    "end"
   ]
  },
  {
   "cell_type": "code",
   "execution_count": 5,
   "metadata": {},
   "outputs": [
    {
     "data": {
      "text/plain": [
       "20×20 Array{Int64,2}:\n",
       " 0  0  0  0  0  0  0  0  0  0  0  0  0  0  0  0  0  0  0  0\n",
       " 1  1  1  1  1  1  1  1  1  1  1  1  1  1  1  1  1  1  1  1\n",
       " 0  0  0  0  0  0  0  0  0  0  0  0  0  0  0  0  0  0  0  0\n",
       " 0  0  0  0  0  0  0  0  0  0  0  0  0  0  0  0  0  0  0  0\n",
       " 1  1  1  1  1  1  1  1  1  1  1  1  1  1  1  1  1  1  1  1\n",
       " 0  0  0  0  0  0  0  0  0  0  0  0  0  0  0  0  0  0  0  0\n",
       " 0  0  0  0  0  0  0  0  0  0  0  0  0  0  0  0  0  0  0  0\n",
       " 1  1  1  1  1  1  1  1  1  1  1  1  1  1  1  1  1  1  1  1\n",
       " 0  0  0  0  0  0  0  0  0  0  0  0  0  0  0  0  0  0  0  0\n",
       " 0  0  0  0  0  0  0  0  0  0  0  0  0  0  0  0  0  0  0  0\n",
       " 1  1  1  1  1  1  1  1  1  1  1  1  1  1  1  1  1  1  1  1\n",
       " 0  0  0  0  0  0  0  0  0  0  0  0  0  0  0  0  0  0  0  0\n",
       " 0  0  0  0  0  0  0  0  0  0  0  0  0  0  0  0  0  0  0  0\n",
       " 1  1  1  1  1  1  1  1  1  1  1  1  1  1  1  1  1  1  1  1\n",
       " 0  0  0  0  0  0  0  0  0  0  0  0  0  0  0  0  0  0  0  0\n",
       " 0  0  0  0  0  0  0  0  0  0  0  0  0  0  0  0  0  0  0  0\n",
       " 1  1  1  1  1  1  1  1  1  1  1  1  1  1  1  1  1  1  1  1\n",
       " 0  0  0  0  0  0  0  0  0  0  0  0  0  0  0  0  0  0  0  0\n",
       " 0  0  0  0  0  0  0  0  0  0  0  0  0  0  0  0  0  0  0  0\n",
       " 1  1  1  1  1  1  1  1  1  1  1  1  1  1  1  1  1  1  1  1"
      ]
     },
     "execution_count": 5,
     "metadata": {},
     "output_type": "execute_result"
    }
   ],
   "source": [
    "environment(20,20)"
   ]
  },
  {
   "cell_type": "markdown",
   "metadata": {},
   "source": [
    "### funkcja determinująca przeżycie gołębia w trakcie ucieczki od jastrzębia (50% prawdopodobieństwa)"
   ]
  },
  {
   "cell_type": "code",
   "execution_count": 6,
   "metadata": {},
   "outputs": [
    {
     "data": {
      "text/plain": [
       "golab_jastrzab (generic function with 1 method)"
      ]
     },
     "execution_count": 6,
     "metadata": {},
     "output_type": "execute_result"
    }
   ],
   "source": [
    "function golab_jastrzab(n_gol)\n",
    "    if rand(0:1) == 0\n",
    "        n_gol = n_gol - 1\n",
    "    end\n",
    "    return n_gol\n",
    "end"
   ]
  },
  {
   "cell_type": "markdown",
   "metadata": {},
   "source": [
    "### funkcja determinująca stan populacji po wylosowaniu miejsc przy pakietach żywnościowych"
   ]
  },
  {
   "cell_type": "code",
   "execution_count": 171,
   "metadata": {},
   "outputs": [
    {
     "data": {
      "text/plain": [
       "potyczki (generic function with 1 method)"
      ]
     },
     "execution_count": 171,
     "metadata": {},
     "output_type": "execute_result"
    }
   ],
   "source": [
    "#G-3\n",
    "#J-8\n",
    "function potyczki(n,m,macierz, g, ja)\n",
    "    for i in 2:3:n, j in 1:m    \n",
    "        suma = macierz[i-1,j] + macierz[i+1,j]\n",
    "        if suma == 11\n",
    "            g = golab_jastrzab(g)\n",
    "            ja = ja + 1\n",
    "        elseif suma == 6\n",
    "            g = g\n",
    "        elseif suma == 16 \n",
    "            ja = ja - 2\n",
    "        elseif suma == 3\n",
    "            g += 2\n",
    "        elseif suma == 8\n",
    "            j += 2\n",
    "        end \n",
    "    return g,ja\n",
    "    end\n",
    "end"
   ]
  },
  {
   "cell_type": "markdown",
   "metadata": {},
   "source": [
    "## update potyczek, żeby możliwa była analiza w customowym środowisku z pustymi pakietami"
   ]
  },
  {
   "cell_type": "code",
   "execution_count": 286,
   "metadata": {},
   "outputs": [
    {
     "data": {
      "text/plain": [
       "potyczkiii (generic function with 1 method)"
      ]
     },
     "execution_count": 286,
     "metadata": {},
     "output_type": "execute_result"
    }
   ],
   "source": [
    "function potyczkiii(n,m,macierz, g, ja)\n",
    "    for i in 2:3:n, j in 1:m    \n",
    "        suma = macierz[i-1,j] + macierz[i+1,j]\n",
    "        if macierz[i,j] == 1\n",
    "            if suma == 11\n",
    "                g = golab_jastrzab(g)\n",
    "                ja = ja + 1\n",
    "            elseif suma == 6\n",
    "                g = g\n",
    "            elseif suma == 16 \n",
    "                ja = ja - 2\n",
    "            elseif suma == 3\n",
    "                g += 2\n",
    "            elseif suma == 8\n",
    "                ja += 2\n",
    "            end \n",
    "            \n",
    "        elseif macierz[i,j] == 0\n",
    "            if suma == 11\n",
    "                g = g - 1\n",
    "            elseif suma == 6\n",
    "                g = g - 2\n",
    "            elseif suma == 16 \n",
    "                ja = ja - 2\n",
    "            elseif suma == 3\n",
    "                g -= 1\n",
    "            elseif suma == 8\n",
    "                ja -= 1\n",
    "            end\n",
    "        end\n",
    "    return g,ja\n",
    "    end\n",
    "end"
   ]
  },
  {
   "cell_type": "markdown",
   "metadata": {},
   "source": [
    "### funkcja generująca rozstawienie ptaków w środowisku"
   ]
  },
  {
   "cell_type": "code",
   "execution_count": 12,
   "metadata": {},
   "outputs": [
    {
     "data": {
      "text/plain": [
       "jastrzabki (generic function with 1 method)"
      ]
     },
     "execution_count": 12,
     "metadata": {},
     "output_type": "execute_result"
    }
   ],
   "source": [
    "function golabki(macierz, ngol)\n",
    "    if ngol != 0  \n",
    "        for i in 1:1:ngol\n",
    "            z = findall(x -> x ==0, macierz)\n",
    "            macierz[rand(z)] = 3\n",
    "        end\n",
    "    end\n",
    "end\n",
    "function jastrzabki(macierz, njas)\n",
    "    if njas != 0\n",
    "        for i in 1:1:njas\n",
    "            z = findall(x -> x ==0, macierz)\n",
    "            macierz[rand(z)] = 8\n",
    "        end\n",
    "    end\n",
    "end"
   ]
  },
  {
   "cell_type": "code",
   "execution_count": 13,
   "metadata": {},
   "outputs": [],
   "source": [
    "mac = environment(21,21)\n",
    "golabki(mac, 100)\n",
    "jastrzabki(mac, 100)"
   ]
  },
  {
   "cell_type": "code",
   "execution_count": 14,
   "metadata": {},
   "outputs": [
    {
     "data": {
      "text/plain": [
       "6×6 Array{Int64,2}:\n",
       " 3  8  8  8  3  8\n",
       " 1  1  1  1  1  1\n",
       " 8  8  3  3  3  3\n",
       " 8  3  3  3  8  8\n",
       " 1  1  1  1  1  1\n",
       " 8  3  3  3  3  3"
      ]
     },
     "execution_count": 14,
     "metadata": {},
     "output_type": "execute_result"
    }
   ],
   "source": [
    "test = environment(6,6)\n",
    "golabki(test, 14)\n",
    "jastrzabki(test, 10)\n",
    "test"
   ]
  },
  {
   "cell_type": "code",
   "execution_count": 15,
   "metadata": {},
   "outputs": [
    {
     "data": {
      "text/plain": [
       "21×21 Array{Int64,2}:\n",
       " 0  8  0  0  8  3  3  3  0  0  0  0  8  0  3  0  8  0  8  0  3\n",
       " 1  1  1  1  1  1  1  1  1  1  1  1  1  1  1  1  1  1  1  1  1\n",
       " 8  0  8  3  8  0  3  0  0  0  0  0  8  0  0  8  3  0  8  8  3\n",
       " 3  8  0  0  3  8  8  3  0  0  8  8  8  0  0  3  3  0  3  8  3\n",
       " 1  1  1  1  1  1  1  1  1  1  1  1  1  1  1  1  1  1  1  1  1\n",
       " 8  8  8  3  8  0  3  3  0  3  8  3  3  3  0  3  3  3  0  8  8\n",
       " 3  0  8  3  0  8  0  0  8  0  3  3  3  3  0  3  0  8  8  0  0\n",
       " 1  1  1  1  1  1  1  1  1  1  1  1  1  1  1  1  1  1  1  1  1\n",
       " 8  3  8  0  3  0  3  8  3  8  0  8  8  8  3  0  8  8  0  0  0\n",
       " 8  0  8  3  0  3  8  8  3  8  8  8  8  0  3  0  0  8  8  0  3\n",
       " 1  1  1  1  1  1  1  1  1  1  1  1  1  1  1  1  1  1  1  1  1\n",
       " 3  8  8  0  3  0  8  3  0  3  3  3  8  8  0  0  3  8  0  8  0\n",
       " 3  0  3  8  8  0  8  3  3  8  8  0  3  0  3  0  0  3  3  0  0\n",
       " 1  1  1  1  1  1  1  1  1  1  1  1  1  1  1  1  1  1  1  1  1\n",
       " 8  3  0  3  3  0  8  0  8  3  0  3  0  0  8  3  8  3  3  3  3\n",
       " 3  8  8  0  0  3  8  0  3  8  3  8  3  8  8  3  8  0  3  3  0\n",
       " 1  1  1  1  1  1  1  1  1  1  1  1  1  1  1  1  1  1  1  1  1\n",
       " 3  8  8  3  8  8  3  3  8  0  3  8  3  3  3  3  8  8  3  0  0\n",
       " 8  0  0  3  8  0  3  8  8  8  8  3  8  0  3  3  8  3  0  8  8\n",
       " 1  1  1  1  1  1  1  1  1  1  1  1  1  1  1  1  1  1  1  1  1\n",
       " 3  8  3  3  8  0  8  8  3  0  0  8  3  0  3  0  8  3  0  8  3"
      ]
     },
     "execution_count": 15,
     "metadata": {},
     "output_type": "execute_result"
    }
   ],
   "source": [
    "mac"
   ]
  },
  {
   "cell_type": "code",
   "execution_count": 16,
   "metadata": {},
   "outputs": [
    {
     "data": {
      "text/plain": [
       "(100, 100)"
      ]
     },
     "execution_count": 16,
     "metadata": {},
     "output_type": "execute_result"
    }
   ],
   "source": [
    "potyczki(21,21,mac,100,100)"
   ]
  },
  {
   "cell_type": "code",
   "execution_count": 17,
   "metadata": {},
   "outputs": [],
   "source": [
    "mac = environment(18,18)\n",
    "golabki(mac, 70)\n",
    "jastrzabki(mac, 90)"
   ]
  },
  {
   "cell_type": "code",
   "execution_count": 18,
   "metadata": {},
   "outputs": [
    {
     "data": {
      "text/plain": [
       "18×18 Array{Int64,2}:\n",
       " 8  3  0  3  0  3  8  3  3  8  0  8  8  3  3  8  8  3\n",
       " 1  1  1  1  1  1  1  1  1  1  1  1  1  1  1  1  1  1\n",
       " 3  8  0  8  0  8  0  0  8  3  0  0  0  3  0  8  8  3\n",
       " 0  8  8  0  8  3  0  3  8  8  3  3  0  8  8  0  8  8\n",
       " 1  1  1  1  1  1  1  1  1  1  1  1  1  1  1  1  1  1\n",
       " 8  0  3  0  0  8  8  8  0  3  3  0  8  8  3  0  0  8\n",
       " 8  8  8  8  8  0  0  3  3  0  8  8  8  0  3  8  0  8\n",
       " 1  1  1  1  1  1  1  1  1  1  1  1  1  1  1  1  1  1\n",
       " 8  3  8  8  8  0  3  0  8  0  8  8  8  8  3  8  8  3\n",
       " 0  0  8  3  8  3  3  8  3  8  0  3  3  8  8  0  3  8\n",
       " 1  1  1  1  1  1  1  1  1  1  1  1  1  1  1  1  1  1\n",
       " 0  3  8  3  0  8  3  0  3  0  3  3  8  3  8  3  3  3\n",
       " 0  8  3  8  3  3  8  8  0  8  3  3  8  0  8  0  8  0\n",
       " 1  1  1  1  1  1  1  1  1  1  1  1  1  1  1  1  1  1\n",
       " 8  0  3  3  0  8  3  3  0  8  8  3  3  8  0  0  8  3\n",
       " 8  3  3  3  3  3  0  8  0  0  8  8  8  8  0  8  3  3\n",
       " 1  1  1  1  1  1  1  1  1  1  1  1  1  1  1  1  1  1\n",
       " 8  8  8  0  3  3  8  8  3  0  8  0  8  8  3  3  3  3"
      ]
     },
     "execution_count": 18,
     "metadata": {},
     "output_type": "execute_result"
    }
   ],
   "source": [
    "mac"
   ]
  },
  {
   "cell_type": "code",
   "execution_count": 19,
   "metadata": {
    "scrolled": true
   },
   "outputs": [
    {
     "data": {
      "text/plain": [
       "(69, 91)"
      ]
     },
     "execution_count": 19,
     "metadata": {},
     "output_type": "execute_result"
    }
   ],
   "source": [
    "potyczki(18,18,mac,70,90)"
   ]
  },
  {
   "cell_type": "markdown",
   "metadata": {},
   "source": [
    "### funkcja sprawdzająca nadmiar populacji i ilość ptaków wysłaną na wygnanie/ fight club"
   ]
  },
  {
   "cell_type": "code",
   "execution_count": 20,
   "metadata": {},
   "outputs": [
    {
     "data": {
      "text/plain": [
       "check (generic function with 1 method)"
      ]
     },
     "execution_count": 20,
     "metadata": {},
     "output_type": "execute_result"
    }
   ],
   "source": [
    "function check(n,m,ng, nja)\n",
    "    if ng + nja > 2*n*m/3\n",
    "        env_ng = Int64(round(ng/(ng+nja) * 2*n*m/3))\n",
    "        env_ja = Int64(round(nja/(ng+nja) * 2*n*m/3))\n",
    "        fight_g = ng - env_ng\n",
    "        fight_ja = nja - env_ja\n",
    "        ng = env_ng\n",
    "        nja = env_ja\n",
    "        return ng, nja, fight_g, fight_ja\n",
    "    else\n",
    "        fight_g = 0\n",
    "        fight_ja = 0\n",
    "        return ng, nja, fight_g, fight_ja\n",
    "    end\n",
    "end\n"
   ]
  },
  {
   "cell_type": "code",
   "execution_count": 21,
   "metadata": {},
   "outputs": [
    {
     "data": {
      "text/plain": [
       "(29, 25, 6, 5)"
      ]
     },
     "execution_count": 21,
     "metadata": {},
     "output_type": "execute_result"
    }
   ],
   "source": [
    "check(9,9, 35,30)\n"
   ]
  },
  {
   "cell_type": "code",
   "execution_count": 22,
   "metadata": {},
   "outputs": [
    {
     "name": "stdout",
     "output_type": "stream",
     "text": [
      "(25, 29, 25, 31)"
     ]
    }
   ],
   "source": [
    "print(check(9,9,50,60))\n"
   ]
  },
  {
   "cell_type": "markdown",
   "metadata": {},
   "source": [
    "### funkcja do fightclubu"
   ]
  },
  {
   "cell_type": "code",
   "execution_count": 23,
   "metadata": {},
   "outputs": [
    {
     "data": {
      "text/plain": [
       "fight_club (generic function with 1 method)"
      ]
     },
     "execution_count": 23,
     "metadata": {},
     "output_type": "execute_result"
    }
   ],
   "source": [
    "function fight_club(n_gol, n_jas)\n",
    "    if (n_gol+n_jas)%2 == 0\n",
    "        n = Int64((n_gol + n_jas)/2)\n",
    "        M = zeros(Int64, 2, n)\n",
    "        if n_gol != 0\n",
    "            golabki(M,n_gol)\n",
    "        end\n",
    "        if n_jas!=0\n",
    "            jastrzabki(M,n_jas)\n",
    "        end\n",
    "    else\n",
    "        n = Int64((n_gol + n_jas + 1)/2) \n",
    "        M = zeros(Int64, 2, n)\n",
    "        if n_gol != 0\n",
    "            golabki(M,n_gol)\n",
    "        end\n",
    "        if n_jas!=0\n",
    "            jastrzabki(M,n_jas)\n",
    "        end\n",
    "    end\n",
    "    return M\n",
    "end\n",
    "        "
   ]
  },
  {
   "cell_type": "code",
   "execution_count": 24,
   "metadata": {},
   "outputs": [
    {
     "data": {
      "text/plain": [
       "2×3 Array{Int64,2}:\n",
       " 3  3  8\n",
       " 8  3  8"
      ]
     },
     "execution_count": 24,
     "metadata": {},
     "output_type": "execute_result"
    }
   ],
   "source": [
    "fight_club(3,3)"
   ]
  },
  {
   "cell_type": "code",
   "execution_count": 25,
   "metadata": {},
   "outputs": [
    {
     "data": {
      "text/plain": [
       "fight (generic function with 1 method)"
      ]
     },
     "execution_count": 25,
     "metadata": {},
     "output_type": "execute_result"
    }
   ],
   "source": [
    "\n",
    "function fight(macierz, n_gol, n_jas)\n",
    "    for i in 1:size(macierz)[2]\n",
    "        suma = macierz[1,i] + macierz[2,i]\n",
    "        if suma == 6\n",
    "            n_gol -= 1\n",
    "        elseif suma == 16\n",
    "            n_jas -= 1\n",
    "        elseif suma == 11\n",
    "            if rand(0:1) == 0\n",
    "                n_gol -= 1\n",
    "            else\n",
    "                n_jas -= 1\n",
    "            end\n",
    "        end\n",
    "    end\n",
    "    return n_gol, n_jas\n",
    "end"
   ]
  },
  {
   "cell_type": "code",
   "execution_count": 26,
   "metadata": {},
   "outputs": [
    {
     "data": {
      "text/plain": [
       "(1, 2)"
      ]
     },
     "execution_count": 26,
     "metadata": {},
     "output_type": "execute_result"
    }
   ],
   "source": [
    "fight(fight_club(3,3), 3, 3)"
   ]
  },
  {
   "cell_type": "markdown",
   "metadata": {},
   "source": [
    "### Generowanie środowiska z mniejszą ilością pakietów (na wypadek przykładowej suszy/ pożaru)\n"
   ]
  },
  {
   "cell_type": "code",
   "execution_count": 27,
   "metadata": {},
   "outputs": [
    {
     "data": {
      "text/plain": [
       "environment_food_amount (generic function with 4 methods)"
      ]
     },
     "execution_count": 27,
     "metadata": {},
     "output_type": "execute_result"
    }
   ],
   "source": [
    "function environment_food_amount(size1 = 21, size2 = 21, amount = 100)\n",
    "#ilość wieszy musi być podzielna przez 3\n",
    "    if size1 % 3 != 0\n",
    "        throw(DomainError(size, \"incorrect size\"))\n",
    "    end\n",
    "    Environment = zeros(Int64, size1, size2)\n",
    "    A = zeros(Int64, 1, size2*(fld(size1-2,3)+1))\n",
    "    A[1,1:amount] = ones(Int64, 1, amount)\n",
    "    A = Random.shuffle(A)\n",
    "    k = 1\n",
    "    for i in 2:3:size1\n",
    "        Environment[i,:] = A[1, k:(k+size1-1)]\n",
    "        k += size1\n",
    "    end\n",
    "    return Environment\n",
    "end"
   ]
  },
  {
   "cell_type": "code",
   "execution_count": 114,
   "metadata": {},
   "outputs": [
    {
     "data": {
      "text/plain": [
       "9×9 Array{Int64,2}:\n",
       " 0  0  0  0  0  0  0  0  0\n",
       " 1  0  0  1  0  1  1  1  1\n",
       " 0  0  0  0  0  0  0  0  0\n",
       " 0  0  0  0  0  0  0  0  0\n",
       " 1  1  1  1  1  0  1  1  1\n",
       " 0  0  0  0  0  0  0  0  0\n",
       " 0  0  0  0  0  0  0  0  0\n",
       " 1  0  0  1  0  1  1  1  1\n",
       " 0  0  0  0  0  0  0  0  0"
      ]
     },
     "execution_count": 114,
     "metadata": {},
     "output_type": "execute_result"
    }
   ],
   "source": [
    "environment_food_amount(9, 9, 20)"
   ]
  },
  {
   "cell_type": "code",
   "execution_count": null,
   "metadata": {},
   "outputs": [],
   "source": []
  },
  {
   "cell_type": "markdown",
   "metadata": {},
   "source": [
    "# funkcja główna + wykresy"
   ]
  },
  {
   "cell_type": "code",
   "execution_count": 270,
   "metadata": {},
   "outputs": [
    {
     "data": {
      "text/plain": [
       "action (generic function with 3 methods)"
      ]
     },
     "execution_count": 270,
     "metadata": {},
     "output_type": "execute_result"
    }
   ],
   "source": [
    "function action(n, m, n_gol, n_jas, p, A, pack = 1, index = 1) ##pack to opcjonalna liczba pakietów\n",
    "    \n",
    "    if p == 0\n",
    "        return A\n",
    "    end\n",
    "   \n",
    "    if pack == 1 # czyli max pakietów, brak nieurodzaju\n",
    "        srod = environment(n,m) ##mamy pakiety\n",
    "    else\n",
    "        if pack < 1/3*n*m\n",
    "            srod = environment_food_amount(n,m,pack)\n",
    "        else\n",
    "            pack = 1\n",
    "            srod = environment(n,m)\n",
    "        end\n",
    "    end\n",
    "    #print(srod)\n",
    "    a = check(n, m, n_gol, n_jas) #sprawdzamy czy nie ma za dużo ptaszków, zwraca jako (gol_safe, jas_safe, gol_fight, jas_fight)\n",
    "    n_gol = a[1]\n",
    "    n_jas = a[2]\n",
    "\n",
    "    golabki(srod, n_gol)\n",
    "    jastrzabki(srod, n_jas)  ##mamy srodowisko z ptaszkami\n",
    "    \n",
    "    result = potyczkiii(n,m,srod, n_gol, n_jas) ##mamy stan populacji po potyczkach\n",
    "    n_gol = result[1] ##liczba gołębi\n",
    "    n_jas = result[2]\n",
    "    \n",
    "    ##w miedzyczasie fight club :\n",
    "    \n",
    "    \n",
    "    b = fight(fight_club(a[3],a[4]), a[3], a[4]) #populacja po fight clubie - (gol, jas)\n",
    "    \n",
    "    n_gol += b[1] ##ostateczna ilosc golebi - ta bezpieczna + fight club\n",
    "    n_jas += b[2] ## -||- jastrzebi\n",
    "    gol_fight = b[1] ##ilość ptakow po fightcie, może się przyda c:\n",
    "    jas_fight = b[2]\n",
    "    \n",
    "    A[index, 1] = n_gol\n",
    "    A[index, 2] = n_jas\n",
    "    index += 1\n",
    "    #println(n_gol,\",\", n_jas,\",\", gol_fight, \",\",jas_fight)\n",
    "    \n",
    "    action(n, m, n_gol, n_jas, p-1, A, pack, index) #i lecimy rekurencją\n",
    "end"
   ]
  },
  {
   "cell_type": "code",
   "execution_count": 271,
   "metadata": {},
   "outputs": [
    {
     "name": "stdout",
     "output_type": "stream",
     "text": [
      "o\n",
      "o\n",
      "o\n",
      "o\n",
      "o\n",
      "o\n",
      "o\n"
     ]
    },
    {
     "data": {
      "text/plain": [
       "100×2 Array{Int64,2}:\n",
       " 26  31\n",
       " 26  31\n",
       " 26  30\n",
       " 25  29\n",
       " 25  29\n",
       " 25  27\n",
       " 27  27\n",
       " 26  28\n",
       " 26  28\n",
       " 26  27\n",
       " 26  27\n",
       " 26  27\n",
       " 26  29\n",
       "  ⋮  \n",
       " 28  26\n",
       " 28  27\n",
       " 28  27\n",
       " 28  27\n",
       " 28  25\n",
       " 27  26\n",
       " 27  24\n",
       " 27  24\n",
       " 29  24\n",
       " 29  24\n",
       " 29  26\n",
       " 29  27"
      ]
     },
     "execution_count": 271,
     "metadata": {},
     "output_type": "execute_result"
    }
   ],
   "source": [
    "A = action(9,9,30,30, 100, zeros(Int64, 100, 2), 20)"
   ]
  },
  {
   "cell_type": "markdown",
   "metadata": {},
   "source": [
    "## Funkcja rysująca wykresy"
   ]
  },
  {
   "cell_type": "code",
   "execution_count": 272,
   "metadata": {},
   "outputs": [
    {
     "data": {
      "text/plain": [
       "wykr (generic function with 3 methods)"
      ]
     },
     "execution_count": 272,
     "metadata": {},
     "output_type": "execute_result"
    }
   ],
   "source": [
    "function wykr(n ,m, g, j, p, A, pack = 1, index = 1)\n",
    "    A = action(n,m,g,j,p,A,pack,index)\n",
    "    plot(1:size(A)[1], A[:, 1], label=\"gołębie\", color= :purple)\n",
    "    plot!(1:size(A)[1], A[:, 2], label=\"jastrzębie\", color= :green)\n",
    "end"
   ]
  },
  {
   "cell_type": "markdown",
   "metadata": {},
   "source": [
    "## zobrazowanie populacji w normalnych warunkach"
   ]
  },
  {
   "cell_type": "code",
   "execution_count": 275,
   "metadata": {},
   "outputs": [
    {
     "data": {
      "image/svg+xml": [
       "<?xml version=\"1.0\" encoding=\"utf-8\"?>\n",
       "<svg xmlns=\"http://www.w3.org/2000/svg\" xmlns:xlink=\"http://www.w3.org/1999/xlink\" width=\"600\" height=\"400\" viewBox=\"0 0 2400 1600\">\n",
       "<defs>\n",
       "  <clipPath id=\"clip520\">\n",
       "    <rect x=\"0\" y=\"0\" width=\"2400\" height=\"1600\"/>\n",
       "  </clipPath>\n",
       "</defs>\n",
       "<path clip-path=\"url(#clip520)\" d=\"\n",
       "M0 1600 L2400 1600 L2400 0 L0 0  Z\n",
       "  \" fill=\"#ffffff\" fill-rule=\"evenodd\" fill-opacity=\"1\"/>\n",
       "<defs>\n",
       "  <clipPath id=\"clip521\">\n",
       "    <rect x=\"480\" y=\"0\" width=\"1681\" height=\"1600\"/>\n",
       "  </clipPath>\n",
       "</defs>\n",
       "<path clip-path=\"url(#clip520)\" d=\"\n",
       "M136.76 1486.45 L2352.76 1486.45 L2352.76 47.2441 L136.76 47.2441  Z\n",
       "  \" fill=\"#ffffff\" fill-rule=\"evenodd\" fill-opacity=\"1\"/>\n",
       "<defs>\n",
       "  <clipPath id=\"clip522\">\n",
       "    <rect x=\"136\" y=\"47\" width=\"2217\" height=\"1440\"/>\n",
       "  </clipPath>\n",
       "</defs>\n",
       "<polyline clip-path=\"url(#clip522)\" style=\"stroke:#000000; stroke-width:2; stroke-opacity:0.1; fill:none\" points=\"\n",
       "  178.36,1486.45 178.36,47.2441 \n",
       "  \"/>\n",
       "<polyline clip-path=\"url(#clip522)\" style=\"stroke:#000000; stroke-width:2; stroke-opacity:0.1; fill:none\" points=\"\n",
       "  706.28,1486.45 706.28,47.2441 \n",
       "  \"/>\n",
       "<polyline clip-path=\"url(#clip522)\" style=\"stroke:#000000; stroke-width:2; stroke-opacity:0.1; fill:none\" points=\"\n",
       "  1234.2,1486.45 1234.2,47.2441 \n",
       "  \"/>\n",
       "<polyline clip-path=\"url(#clip522)\" style=\"stroke:#000000; stroke-width:2; stroke-opacity:0.1; fill:none\" points=\"\n",
       "  1762.12,1486.45 1762.12,47.2441 \n",
       "  \"/>\n",
       "<polyline clip-path=\"url(#clip522)\" style=\"stroke:#000000; stroke-width:2; stroke-opacity:0.1; fill:none\" points=\"\n",
       "  2290.04,1486.45 2290.04,47.2441 \n",
       "  \"/>\n",
       "<polyline clip-path=\"url(#clip520)\" style=\"stroke:#000000; stroke-width:4; stroke-opacity:1; fill:none\" points=\"\n",
       "  136.76,1486.45 2352.76,1486.45 \n",
       "  \"/>\n",
       "<polyline clip-path=\"url(#clip520)\" style=\"stroke:#000000; stroke-width:4; stroke-opacity:1; fill:none\" points=\"\n",
       "  178.36,1486.45 178.36,1469.18 \n",
       "  \"/>\n",
       "<polyline clip-path=\"url(#clip520)\" style=\"stroke:#000000; stroke-width:4; stroke-opacity:1; fill:none\" points=\"\n",
       "  706.28,1486.45 706.28,1469.18 \n",
       "  \"/>\n",
       "<polyline clip-path=\"url(#clip520)\" style=\"stroke:#000000; stroke-width:4; stroke-opacity:1; fill:none\" points=\"\n",
       "  1234.2,1486.45 1234.2,1469.18 \n",
       "  \"/>\n",
       "<polyline clip-path=\"url(#clip520)\" style=\"stroke:#000000; stroke-width:4; stroke-opacity:1; fill:none\" points=\"\n",
       "  1762.12,1486.45 1762.12,1469.18 \n",
       "  \"/>\n",
       "<polyline clip-path=\"url(#clip520)\" style=\"stroke:#000000; stroke-width:4; stroke-opacity:1; fill:none\" points=\"\n",
       "  2290.04,1486.45 2290.04,1469.18 \n",
       "  \"/>\n",
       "<path clip-path=\"url(#clip520)\" d=\"M 0 0 M178.36 1515.64 Q174.749 1515.64 172.921 1519.2 Q171.115 1522.75 171.115 1529.87 Q171.115 1536.98 172.921 1540.55 Q174.749 1544.09 178.36 1544.09 Q181.995 1544.09 183.8 1540.55 Q185.629 1536.98 185.629 1529.87 Q185.629 1522.75 183.8 1519.2 Q181.995 1515.64 178.36 1515.64 M178.36 1511.93 Q184.171 1511.93 187.226 1516.54 Q190.305 1521.12 190.305 1529.87 Q190.305 1538.6 187.226 1543.21 Q184.171 1547.79 178.36 1547.79 Q172.55 1547.79 169.472 1543.21 Q166.416 1538.6 166.416 1529.87 Q166.416 1521.12 169.472 1516.54 Q172.55 1511.93 178.36 1511.93 Z\" fill=\"#000000\" fill-rule=\"evenodd\" fill-opacity=\"1\" /><path clip-path=\"url(#clip520)\" d=\"M 0 0 M687.924 1543.18 L704.243 1543.18 L704.243 1547.12 L682.299 1547.12 L682.299 1543.18 Q684.961 1540.43 689.544 1535.8 Q694.151 1531.15 695.331 1529.81 Q697.576 1527.28 698.456 1525.55 Q699.359 1523.79 699.359 1522.1 Q699.359 1519.34 697.414 1517.61 Q695.493 1515.87 692.391 1515.87 Q690.192 1515.87 687.739 1516.63 Q685.308 1517.4 682.53 1518.95 L682.53 1514.23 Q685.354 1513.09 687.808 1512.51 Q690.262 1511.93 692.299 1511.93 Q697.669 1511.93 700.863 1514.62 Q704.058 1517.31 704.058 1521.8 Q704.058 1523.93 703.248 1525.85 Q702.461 1527.74 700.354 1530.34 Q699.776 1531.01 696.674 1534.23 Q693.572 1537.42 687.924 1543.18 Z\" fill=\"#000000\" fill-rule=\"evenodd\" fill-opacity=\"1\" /><path clip-path=\"url(#clip520)\" d=\"M 0 0 M709.359 1512.56 L727.715 1512.56 L727.715 1516.5 L713.641 1516.5 L713.641 1524.97 Q714.66 1524.62 715.678 1524.46 Q716.697 1524.27 717.715 1524.27 Q723.502 1524.27 726.882 1527.44 Q730.261 1530.62 730.261 1536.03 Q730.261 1541.61 726.789 1544.71 Q723.317 1547.79 716.998 1547.79 Q714.822 1547.79 712.553 1547.42 Q710.308 1547.05 707.9 1546.31 L707.9 1541.61 Q709.984 1542.74 712.206 1543.3 Q714.428 1543.86 716.905 1543.86 Q720.91 1543.86 723.248 1541.75 Q725.586 1539.64 725.586 1536.03 Q725.586 1532.42 723.248 1530.31 Q720.91 1528.21 716.905 1528.21 Q715.03 1528.21 713.155 1528.62 Q711.303 1529.04 709.359 1529.92 L709.359 1512.56 Z\" fill=\"#000000\" fill-rule=\"evenodd\" fill-opacity=\"1\" /><path clip-path=\"url(#clip520)\" d=\"M 0 0 M1210.97 1512.56 L1229.33 1512.56 L1229.33 1516.5 L1215.25 1516.5 L1215.25 1524.97 Q1216.27 1524.62 1217.29 1524.46 Q1218.31 1524.27 1219.33 1524.27 Q1225.11 1524.27 1228.49 1527.44 Q1231.87 1530.62 1231.87 1536.03 Q1231.87 1541.61 1228.4 1544.71 Q1224.93 1547.79 1218.61 1547.79 Q1216.43 1547.79 1214.17 1547.42 Q1211.92 1547.05 1209.51 1546.31 L1209.51 1541.61 Q1211.6 1542.74 1213.82 1543.3 Q1216.04 1543.86 1218.52 1543.86 Q1222.52 1543.86 1224.86 1541.75 Q1227.2 1539.64 1227.2 1536.03 Q1227.2 1532.42 1224.86 1530.31 Q1222.52 1528.21 1218.52 1528.21 Q1216.64 1528.21 1214.77 1528.62 Q1212.92 1529.04 1210.97 1529.92 L1210.97 1512.56 Z\" fill=\"#000000\" fill-rule=\"evenodd\" fill-opacity=\"1\" /><path clip-path=\"url(#clip520)\" d=\"M 0 0 M1246.94 1515.64 Q1243.33 1515.64 1241.5 1519.2 Q1239.7 1522.75 1239.7 1529.87 Q1239.7 1536.98 1241.5 1540.55 Q1243.33 1544.09 1246.94 1544.09 Q1250.58 1544.09 1252.38 1540.55 Q1254.21 1536.98 1254.21 1529.87 Q1254.21 1522.75 1252.38 1519.2 Q1250.58 1515.64 1246.94 1515.64 M1246.94 1511.93 Q1252.75 1511.93 1255.81 1516.54 Q1258.89 1521.12 1258.89 1529.87 Q1258.89 1538.6 1255.81 1543.21 Q1252.75 1547.79 1246.94 1547.79 Q1241.13 1547.79 1238.05 1543.21 Q1235 1538.6 1235 1529.87 Q1235 1521.12 1238.05 1516.54 Q1241.13 1511.93 1246.94 1511.93 Z\" fill=\"#000000\" fill-rule=\"evenodd\" fill-opacity=\"1\" /><path clip-path=\"url(#clip520)\" d=\"M 0 0 M1738 1512.56 L1760.22 1512.56 L1760.22 1514.55 L1747.68 1547.12 L1742.79 1547.12 L1754.6 1516.5 L1738 1516.5 L1738 1512.56 Z\" fill=\"#000000\" fill-rule=\"evenodd\" fill-opacity=\"1\" /><path clip-path=\"url(#clip520)\" d=\"M 0 0 M1765.34 1512.56 L1783.69 1512.56 L1783.69 1516.5 L1769.62 1516.5 L1769.62 1524.97 Q1770.64 1524.62 1771.66 1524.46 Q1772.67 1524.27 1773.69 1524.27 Q1779.48 1524.27 1782.86 1527.44 Q1786.24 1530.62 1786.24 1536.03 Q1786.24 1541.61 1782.77 1544.71 Q1779.3 1547.79 1772.98 1547.79 Q1770.8 1547.79 1768.53 1547.42 Q1766.29 1547.05 1763.88 1546.31 L1763.88 1541.61 Q1765.96 1542.74 1768.18 1543.3 Q1770.41 1543.86 1772.88 1543.86 Q1776.89 1543.86 1779.23 1541.75 Q1781.56 1539.64 1781.56 1536.03 Q1781.56 1532.42 1779.23 1530.31 Q1776.89 1528.21 1772.88 1528.21 Q1771.01 1528.21 1769.13 1528.62 Q1767.28 1529.04 1765.34 1529.92 L1765.34 1512.56 Z\" fill=\"#000000\" fill-rule=\"evenodd\" fill-opacity=\"1\" /><path clip-path=\"url(#clip520)\" d=\"M 0 0 M2253.41 1543.18 L2261.05 1543.18 L2261.05 1516.82 L2252.74 1518.49 L2252.74 1514.23 L2261 1512.56 L2265.68 1512.56 L2265.68 1543.18 L2273.31 1543.18 L2273.31 1547.12 L2253.41 1547.12 L2253.41 1543.18 Z\" fill=\"#000000\" fill-rule=\"evenodd\" fill-opacity=\"1\" /><path clip-path=\"url(#clip520)\" d=\"M 0 0 M2288.38 1515.64 Q2284.77 1515.64 2282.94 1519.2 Q2281.14 1522.75 2281.14 1529.87 Q2281.14 1536.98 2282.94 1540.55 Q2284.77 1544.09 2288.38 1544.09 Q2292.02 1544.09 2293.82 1540.55 Q2295.65 1536.98 2295.65 1529.87 Q2295.65 1522.75 2293.82 1519.2 Q2292.02 1515.64 2288.38 1515.64 M2288.38 1511.93 Q2294.19 1511.93 2297.25 1516.54 Q2300.33 1521.12 2300.33 1529.87 Q2300.33 1538.6 2297.25 1543.21 Q2294.19 1547.79 2288.38 1547.79 Q2282.57 1547.79 2279.5 1543.21 Q2276.44 1538.6 2276.44 1529.87 Q2276.44 1521.12 2279.5 1516.54 Q2282.57 1511.93 2288.38 1511.93 Z\" fill=\"#000000\" fill-rule=\"evenodd\" fill-opacity=\"1\" /><path clip-path=\"url(#clip520)\" d=\"M 0 0 M2315.4 1515.64 Q2311.79 1515.64 2309.96 1519.2 Q2308.15 1522.75 2308.15 1529.87 Q2308.15 1536.98 2309.96 1540.55 Q2311.79 1544.09 2315.4 1544.09 Q2319.03 1544.09 2320.84 1540.55 Q2322.67 1536.98 2322.67 1529.87 Q2322.67 1522.75 2320.84 1519.2 Q2319.03 1515.64 2315.4 1515.64 M2315.4 1511.93 Q2321.21 1511.93 2324.26 1516.54 Q2327.34 1521.12 2327.34 1529.87 Q2327.34 1538.6 2324.26 1543.21 Q2321.21 1547.79 2315.4 1547.79 Q2309.59 1547.79 2306.51 1543.21 Q2303.45 1538.6 2303.45 1529.87 Q2303.45 1521.12 2306.51 1516.54 Q2309.59 1511.93 2315.4 1511.93 Z\" fill=\"#000000\" fill-rule=\"evenodd\" fill-opacity=\"1\" /><polyline clip-path=\"url(#clip522)\" style=\"stroke:#000000; stroke-width:2; stroke-opacity:0.1; fill:none\" points=\"\n",
       "  136.76,1391.41 2352.76,1391.41 \n",
       "  \"/>\n",
       "<polyline clip-path=\"url(#clip522)\" style=\"stroke:#000000; stroke-width:2; stroke-opacity:0.1; fill:none\" points=\"\n",
       "  136.76,1119.86 2352.76,1119.86 \n",
       "  \"/>\n",
       "<polyline clip-path=\"url(#clip522)\" style=\"stroke:#000000; stroke-width:2; stroke-opacity:0.1; fill:none\" points=\"\n",
       "  136.76,848.31 2352.76,848.31 \n",
       "  \"/>\n",
       "<polyline clip-path=\"url(#clip522)\" style=\"stroke:#000000; stroke-width:2; stroke-opacity:0.1; fill:none\" points=\"\n",
       "  136.76,576.762 2352.76,576.762 \n",
       "  \"/>\n",
       "<polyline clip-path=\"url(#clip522)\" style=\"stroke:#000000; stroke-width:2; stroke-opacity:0.1; fill:none\" points=\"\n",
       "  136.76,305.215 2352.76,305.215 \n",
       "  \"/>\n",
       "<polyline clip-path=\"url(#clip520)\" style=\"stroke:#000000; stroke-width:4; stroke-opacity:1; fill:none\" points=\"\n",
       "  136.76,1486.45 136.76,47.2441 \n",
       "  \"/>\n",
       "<polyline clip-path=\"url(#clip520)\" style=\"stroke:#000000; stroke-width:4; stroke-opacity:1; fill:none\" points=\"\n",
       "  136.76,1391.41 163.352,1391.41 \n",
       "  \"/>\n",
       "<polyline clip-path=\"url(#clip520)\" style=\"stroke:#000000; stroke-width:4; stroke-opacity:1; fill:none\" points=\"\n",
       "  136.76,1119.86 163.352,1119.86 \n",
       "  \"/>\n",
       "<polyline clip-path=\"url(#clip520)\" style=\"stroke:#000000; stroke-width:4; stroke-opacity:1; fill:none\" points=\"\n",
       "  136.76,848.31 163.352,848.31 \n",
       "  \"/>\n",
       "<polyline clip-path=\"url(#clip520)\" style=\"stroke:#000000; stroke-width:4; stroke-opacity:1; fill:none\" points=\"\n",
       "  136.76,576.762 163.352,576.762 \n",
       "  \"/>\n",
       "<polyline clip-path=\"url(#clip520)\" style=\"stroke:#000000; stroke-width:4; stroke-opacity:1; fill:none\" points=\"\n",
       "  136.76,305.215 163.352,305.215 \n",
       "  \"/>\n",
       "<path clip-path=\"url(#clip520)\" d=\"M 0 0 M54.8347 1404.75 L62.4735 1404.75 L62.4735 1378.39 L54.1634 1380.05 L54.1634 1375.79 L62.4272 1374.13 L67.1032 1374.13 L67.1032 1404.75 L74.742 1404.75 L74.742 1408.69 L54.8347 1408.69 L54.8347 1404.75 Z\" fill=\"#000000\" fill-rule=\"evenodd\" fill-opacity=\"1\" /><path clip-path=\"url(#clip520)\" d=\"M 0 0 M79.8577 1374.13 L98.2141 1374.13 L98.2141 1378.06 L84.1401 1378.06 L84.1401 1386.53 Q85.1586 1386.19 86.1771 1386.02 Q87.1956 1385.84 88.2141 1385.84 Q94.0012 1385.84 97.3808 1389.01 Q100.76 1392.18 100.76 1397.6 Q100.76 1403.18 97.2882 1406.28 Q93.816 1409.36 87.4966 1409.36 Q85.3206 1409.36 83.0521 1408.99 Q80.8068 1408.62 78.3994 1407.88 L78.3994 1403.18 Q80.4827 1404.31 82.7049 1404.87 Q84.9271 1405.42 87.404 1405.42 Q91.4086 1405.42 93.7465 1403.32 Q96.0845 1401.21 96.0845 1397.6 Q96.0845 1393.99 93.7465 1391.88 Q91.4086 1389.77 87.404 1389.77 Q85.529 1389.77 83.654 1390.19 Q81.8021 1390.61 79.8577 1391.49 L79.8577 1374.13 Z\" fill=\"#000000\" fill-rule=\"evenodd\" fill-opacity=\"1\" /><path clip-path=\"url(#clip520)\" d=\"M 0 0 M57.4273 1133.2 L73.7466 1133.2 L73.7466 1137.14 L51.8023 1137.14 L51.8023 1133.2 Q54.4643 1130.45 59.0476 1125.82 Q63.6541 1121.17 64.8346 1119.82 Q67.08 1117.3 67.9596 1115.56 Q68.8624 1113.81 68.8624 1112.12 Q68.8624 1109.36 66.918 1107.62 Q64.9967 1105.89 61.8948 1105.89 Q59.6958 1105.89 57.2421 1106.65 Q54.8115 1107.42 52.0338 1108.97 L52.0338 1104.24 Q54.8578 1103.11 57.3115 1102.53 Q59.7652 1101.95 61.8023 1101.95 Q67.1726 1101.95 70.367 1104.64 Q73.5614 1107.32 73.5614 1111.81 Q73.5614 1113.94 72.7513 1115.87 Q71.9642 1117.76 69.8578 1120.36 Q69.2791 1121.03 66.1772 1124.24 Q63.0754 1127.44 57.4273 1133.2 Z\" fill=\"#000000\" fill-rule=\"evenodd\" fill-opacity=\"1\" /><path clip-path=\"url(#clip520)\" d=\"M 0 0 M88.816 1105.66 Q85.2049 1105.66 83.3762 1109.22 Q81.5707 1112.76 81.5707 1119.89 Q81.5707 1127 83.3762 1130.56 Q85.2049 1134.11 88.816 1134.11 Q92.4502 1134.11 94.2558 1130.56 Q96.0845 1127 96.0845 1119.89 Q96.0845 1112.76 94.2558 1109.22 Q92.4502 1105.66 88.816 1105.66 M88.816 1101.95 Q94.6262 1101.95 97.6817 1106.56 Q100.76 1111.14 100.76 1119.89 Q100.76 1128.62 97.6817 1133.23 Q94.6262 1137.81 88.816 1137.81 Q83.0058 1137.81 79.9272 1133.23 Q76.8716 1128.62 76.8716 1119.89 Q76.8716 1111.14 79.9272 1106.56 Q83.0058 1101.95 88.816 1101.95 Z\" fill=\"#000000\" fill-rule=\"evenodd\" fill-opacity=\"1\" /><path clip-path=\"url(#clip520)\" d=\"M 0 0 M58.4226 861.655 L74.742 861.655 L74.742 865.59 L52.7977 865.59 L52.7977 861.655 Q55.4597 858.901 60.043 854.271 Q64.6495 849.618 65.83 848.276 Q68.0754 845.752 68.955 844.016 Q69.8578 842.257 69.8578 840.567 Q69.8578 837.813 67.9133 836.077 Q65.992 834.341 62.8902 834.341 Q60.6911 834.341 58.2375 835.104 Q55.8069 835.868 53.0292 837.419 L53.0292 832.697 Q55.8532 831.563 58.3069 830.984 Q60.7606 830.405 62.7976 830.405 Q68.168 830.405 71.3624 833.091 Q74.5568 835.776 74.5568 840.266 Q74.5568 842.396 73.7466 844.317 Q72.9596 846.215 70.8531 848.808 Q70.2744 849.479 67.1726 852.697 Q64.0708 855.891 58.4226 861.655 Z\" fill=\"#000000\" fill-rule=\"evenodd\" fill-opacity=\"1\" /><path clip-path=\"url(#clip520)\" d=\"M 0 0 M79.8577 831.03 L98.2141 831.03 L98.2141 834.966 L84.1401 834.966 L84.1401 843.438 Q85.1586 843.09 86.1771 842.928 Q87.1956 842.743 88.2141 842.743 Q94.0012 842.743 97.3808 845.915 Q100.76 849.086 100.76 854.502 Q100.76 860.081 97.2882 863.183 Q93.816 866.262 87.4966 866.262 Q85.3206 866.262 83.0521 865.891 Q80.8068 865.521 78.3994 864.78 L78.3994 860.081 Q80.4827 861.215 82.7049 861.771 Q84.9271 862.326 87.404 862.326 Q91.4086 862.326 93.7465 860.22 Q96.0845 858.114 96.0845 854.502 Q96.0845 850.891 93.7465 848.785 Q91.4086 846.678 87.404 846.678 Q85.529 846.678 83.654 847.095 Q81.8021 847.512 79.8577 848.391 L79.8577 831.03 Z\" fill=\"#000000\" fill-rule=\"evenodd\" fill-opacity=\"1\" /><path clip-path=\"url(#clip520)\" d=\"M 0 0 M66.617 575.408 Q69.9735 576.126 71.8485 578.394 Q73.7466 580.663 73.7466 583.996 Q73.7466 589.112 70.2281 591.913 Q66.7096 594.714 60.2282 594.714 Q58.0523 594.714 55.7375 594.274 Q53.4458 593.857 50.9921 593.001 L50.9921 588.487 Q52.9366 589.621 55.2514 590.2 Q57.5662 590.779 60.0893 590.779 Q64.4874 590.779 66.7791 589.042 Q69.0939 587.306 69.0939 583.996 Q69.0939 580.941 66.9411 579.228 Q64.8115 577.492 60.9921 577.492 L56.9643 577.492 L56.9643 573.649 L61.1773 573.649 Q64.6263 573.649 66.455 572.283 Q68.2837 570.894 68.2837 568.302 Q68.2837 565.64 66.3856 564.228 Q64.5106 562.793 60.9921 562.793 Q59.0708 562.793 56.8717 563.209 Q54.6727 563.626 52.0338 564.506 L52.0338 560.339 Q54.6958 559.598 57.0106 559.228 Q59.3486 558.857 61.4087 558.857 Q66.7328 558.857 69.8346 561.288 Q72.9365 563.695 72.9365 567.816 Q72.9365 570.686 71.2929 572.677 Q69.6494 574.644 66.617 575.408 Z\" fill=\"#000000\" fill-rule=\"evenodd\" fill-opacity=\"1\" /><path clip-path=\"url(#clip520)\" d=\"M 0 0 M88.816 562.561 Q85.2049 562.561 83.3762 566.126 Q81.5707 569.668 81.5707 576.797 Q81.5707 583.904 83.3762 587.468 Q85.2049 591.01 88.816 591.01 Q92.4502 591.01 94.2558 587.468 Q96.0845 583.904 96.0845 576.797 Q96.0845 569.668 94.2558 566.126 Q92.4502 562.561 88.816 562.561 M88.816 558.857 Q94.6262 558.857 97.6817 563.464 Q100.76 568.047 100.76 576.797 Q100.76 585.524 97.6817 590.13 Q94.6262 594.714 88.816 594.714 Q83.0058 594.714 79.9272 590.13 Q76.8716 585.524 76.8716 576.797 Q76.8716 568.047 79.9272 563.464 Q83.0058 558.857 88.816 558.857 Z\" fill=\"#000000\" fill-rule=\"evenodd\" fill-opacity=\"1\" /><path clip-path=\"url(#clip520)\" d=\"M 0 0 M67.6124 303.86 Q70.9689 304.578 72.8439 306.847 Q74.742 309.115 74.742 312.448 Q74.742 317.564 71.2235 320.365 Q67.705 323.166 61.2236 323.166 Q59.0476 323.166 56.7328 322.726 Q54.4412 322.309 51.9875 321.453 L51.9875 316.939 Q53.9319 318.073 56.2467 318.652 Q58.5615 319.231 61.0847 319.231 Q65.4828 319.231 67.7744 317.495 Q70.0892 315.759 70.0892 312.448 Q70.0892 309.393 67.9365 307.68 Q65.8069 305.944 61.9874 305.944 L57.9597 305.944 L57.9597 302.101 L62.1726 302.101 Q65.6217 302.101 67.4504 300.735 Q69.2791 299.347 69.2791 296.754 Q69.2791 294.092 67.3809 292.68 Q65.5059 291.245 61.9874 291.245 Q60.0662 291.245 57.8671 291.661 Q55.668 292.078 53.0292 292.958 L53.0292 288.791 Q55.6912 288.05 58.006 287.68 Q60.3439 287.31 62.4041 287.31 Q67.7281 287.31 70.83 289.74 Q73.9318 292.148 73.9318 296.268 Q73.9318 299.138 72.2883 301.129 Q70.6448 303.097 67.6124 303.86 Z\" fill=\"#000000\" fill-rule=\"evenodd\" fill-opacity=\"1\" /><path clip-path=\"url(#clip520)\" d=\"M 0 0 M79.8577 287.935 L98.2141 287.935 L98.2141 291.87 L84.1401 291.87 L84.1401 300.342 Q85.1586 299.995 86.1771 299.833 Q87.1956 299.647 88.2141 299.647 Q94.0012 299.647 97.3808 302.819 Q100.76 305.99 100.76 311.407 Q100.76 316.985 97.2882 320.087 Q93.816 323.166 87.4966 323.166 Q85.3206 323.166 83.0521 322.796 Q80.8068 322.425 78.3994 321.684 L78.3994 316.985 Q80.4827 318.12 82.7049 318.675 Q84.9271 319.231 87.404 319.231 Q91.4086 319.231 93.7465 317.124 Q96.0845 315.018 96.0845 311.407 Q96.0845 307.796 93.7465 305.689 Q91.4086 303.583 87.404 303.583 Q85.529 303.583 83.654 303.999 Q81.8021 304.416 79.8577 305.296 L79.8577 287.935 Z\" fill=\"#000000\" fill-rule=\"evenodd\" fill-opacity=\"1\" /><polyline clip-path=\"url(#clip522)\" style=\"stroke:#800080; stroke-width:4; stroke-opacity:1; fill:none\" points=\"\n",
       "  199.477,685.382 220.594,739.691 241.711,739.691 262.828,739.691 283.944,739.691 305.061,739.691 326.178,739.691 347.295,739.691 368.412,739.691 389.528,739.691 \n",
       "  410.645,739.691 431.762,739.691 452.879,739.691 473.995,739.691 495.112,739.691 516.229,739.691 537.346,739.691 558.463,794.001 579.579,794.001 600.696,794.001 \n",
       "  621.813,794.001 642.93,848.31 664.047,848.31 685.163,848.31 706.28,902.62 727.397,902.62 748.514,956.93 769.63,956.93 790.747,956.93 811.864,1011.24 \n",
       "  832.981,1011.24 854.098,1065.55 875.214,1065.55 896.331,1065.55 917.448,1065.55 938.565,1065.55 959.682,1065.55 980.798,1065.55 1001.92,1065.55 1023.03,1065.55 \n",
       "  1044.15,956.93 1065.27,956.93 1086.38,956.93 1107.5,1011.24 1128.62,1011.24 1149.73,1011.24 1170.85,1011.24 1191.97,1011.24 1213.08,1011.24 1234.2,1011.24 \n",
       "  1255.32,1065.55 1276.43,1065.55 1297.55,1065.55 1318.67,1065.55 1339.78,1065.55 1360.9,1065.55 1382.02,1065.55 1403.13,1065.55 1424.25,1065.55 1445.37,1119.86 \n",
       "  1466.48,1174.17 1487.6,1228.48 1508.72,1282.79 1529.83,1337.1 1550.95,1337.1 1572.07,1337.1 1593.19,1337.1 1614.3,1337.1 1635.42,1337.1 1656.54,1337.1 \n",
       "  1677.65,1391.41 1698.77,1391.41 1719.89,1391.41 1741,1445.72 1762.12,1445.72 1783.24,1445.72 1804.35,1445.72 1825.47,1445.72 1846.59,1445.72 1867.7,1337.1 \n",
       "  1888.82,1337.1 1909.94,1337.1 1931.05,1337.1 1952.17,1337.1 1973.29,1337.1 1994.4,1337.1 2015.52,1337.1 2036.64,1228.48 2057.75,1228.48 2078.87,1228.48 \n",
       "  2099.99,1228.48 2121.1,1282.79 2142.22,1282.79 2163.34,1282.79 2184.46,1282.79 2205.57,1337.1 2226.69,1337.1 2247.81,1391.41 2268.92,1391.41 2290.04,1391.41 \n",
       "  \n",
       "  \"/>\n",
       "<polyline clip-path=\"url(#clip522)\" style=\"stroke:#008000; stroke-width:4; stroke-opacity:1; fill:none\" points=\"\n",
       "  199.477,631.072 220.594,631.072 241.711,685.382 262.828,794.001 283.944,739.691 305.061,739.691 326.178,739.691 347.295,739.691 368.412,848.31 389.528,956.93 \n",
       "  410.645,956.93 431.762,956.93 452.879,902.62 473.995,902.62 495.112,902.62 516.229,1011.24 537.346,956.93 558.463,902.62 579.579,902.62 600.696,848.31 \n",
       "  621.813,956.93 642.93,902.62 664.047,848.31 685.163,794.001 706.28,739.691 727.397,631.072 748.514,576.762 769.63,522.453 790.747,468.143 811.864,413.834 \n",
       "  832.981,522.453 854.098,468.143 875.214,576.762 896.331,522.453 917.448,468.143 938.565,468.143 959.682,468.143 980.798,576.762 1001.92,685.382 1023.03,576.762 \n",
       "  1044.15,576.762 1065.27,468.143 1086.38,576.762 1107.5,522.453 1128.62,631.072 1149.73,576.762 1170.85,685.382 1191.97,794.001 1213.08,685.382 1234.2,794.001 \n",
       "  1255.32,739.691 1276.43,631.072 1297.55,522.453 1318.67,468.143 1339.78,468.143 1360.9,576.762 1382.02,522.453 1403.13,468.143 1424.25,413.834 1445.37,359.524 \n",
       "  1466.48,305.215 1487.6,250.905 1508.72,196.595 1529.83,142.286 1550.95,87.9763 1572.07,196.595 1593.19,305.215 1614.3,413.834 1635.42,522.453 1656.54,631.072 \n",
       "  1677.65,576.762 1698.77,685.382 1719.89,794.001 1741,739.691 1762.12,848.31 1783.24,739.691 1804.35,739.691 1825.47,848.31 1846.59,739.691 1867.7,739.691 \n",
       "  1888.82,848.31 1909.94,956.93 1931.05,848.31 1952.17,956.93 1973.29,848.31 1994.4,794.001 2015.52,902.62 2036.64,902.62 2057.75,848.31 2078.87,794.001 \n",
       "  2099.99,902.62 2121.1,848.31 2142.22,739.691 2163.34,631.072 2184.46,522.453 2205.57,468.143 2226.69,413.834 2247.81,359.524 2268.92,468.143 2290.04,576.762 \n",
       "  \n",
       "  \"/>\n",
       "<path clip-path=\"url(#clip520)\" d=\"\n",
       "M1826.65 276.658 L2278.89 276.658 L2278.89 95.2176 L1826.65 95.2176  Z\n",
       "  \" fill=\"#ffffff\" fill-rule=\"evenodd\" fill-opacity=\"1\"/>\n",
       "<polyline clip-path=\"url(#clip520)\" style=\"stroke:#000000; stroke-width:4; stroke-opacity:1; fill:none\" points=\"\n",
       "  1826.65,276.658 2278.89,276.658 2278.89,95.2176 1826.65,95.2176 1826.65,276.658 \n",
       "  \"/>\n",
       "<polyline clip-path=\"url(#clip520)\" style=\"stroke:#800080; stroke-width:4; stroke-opacity:1; fill:none\" points=\"\n",
       "  1851.27,155.698 1999.01,155.698 \n",
       "  \"/>\n",
       "<path clip-path=\"url(#clip520)\" d=\"M 0 0 M2042.54 159.714 Q2042.54 155.084 2040.62 152.538 Q2038.72 149.992 2035.27 149.992 Q2031.85 149.992 2029.92 152.538 Q2028.03 155.084 2028.03 159.714 Q2028.03 164.32 2029.92 166.866 Q2031.85 169.413 2035.27 169.413 Q2038.72 169.413 2040.62 166.866 Q2042.54 164.32 2042.54 159.714 M2046.8 169.76 Q2046.8 176.38 2043.86 179.598 Q2040.92 182.839 2034.85 182.839 Q2032.61 182.839 2030.62 182.491 Q2028.63 182.167 2026.75 181.473 L2026.75 177.329 Q2028.63 178.348 2030.46 178.834 Q2032.28 179.32 2034.18 179.32 Q2038.37 179.32 2040.46 177.121 Q2042.54 174.945 2042.54 170.524 L2042.54 168.417 Q2041.22 170.709 2039.16 171.843 Q2037.1 172.978 2034.23 172.978 Q2029.46 172.978 2026.54 169.343 Q2023.63 165.709 2023.63 159.714 Q2023.63 153.695 2026.54 150.061 Q2029.46 146.427 2034.23 146.427 Q2037.1 146.427 2039.16 147.561 Q2041.22 148.695 2042.54 150.987 L2042.54 147.052 L2046.8 147.052 L2046.8 169.76 Z\" fill=\"#000000\" fill-rule=\"evenodd\" fill-opacity=\"1\" /><path clip-path=\"url(#clip520)\" d=\"M 0 0 M2061.31 150.038 Q2057.89 150.038 2055.9 152.723 Q2053.91 155.385 2053.91 160.038 Q2053.91 164.691 2055.87 167.376 Q2057.86 170.038 2061.31 170.038 Q2064.72 170.038 2066.71 167.353 Q2068.7 164.667 2068.7 160.038 Q2068.7 155.431 2066.71 152.746 Q2064.72 150.038 2061.31 150.038 M2061.31 146.427 Q2066.87 146.427 2070.04 150.038 Q2073.21 153.649 2073.21 160.038 Q2073.21 166.404 2070.04 170.038 Q2066.87 173.649 2061.31 173.649 Q2055.73 173.649 2052.56 170.038 Q2049.41 166.404 2049.41 160.038 Q2049.41 153.649 2052.56 150.038 Q2055.73 146.427 2061.31 146.427 Z\" fill=\"#000000\" fill-rule=\"evenodd\" fill-opacity=\"1\" /><path clip-path=\"url(#clip520)\" d=\"M 0 0 M2077.82 136.959 L2082.08 136.959 L2082.08 150.894 L2084.97 148.811 L2086.73 151.265 L2082.08 154.529 L2082.08 172.978 L2077.82 172.978 L2077.82 157.561 L2074.97 159.598 L2073.26 157.144 L2077.82 153.88 L2077.82 136.959 Z\" fill=\"#000000\" fill-rule=\"evenodd\" fill-opacity=\"1\" /><path clip-path=\"url(#clip520)\" d=\"M 0 0 M2113.37 158.95 L2113.37 161.033 L2093.79 161.033 Q2094.07 165.431 2096.43 167.746 Q2098.81 170.038 2103.05 170.038 Q2105.5 170.038 2107.79 169.436 Q2110.11 168.834 2112.38 167.63 L2112.38 171.658 Q2110.09 172.63 2107.68 173.14 Q2105.27 173.649 2102.79 173.649 Q2096.59 173.649 2092.96 170.038 Q2089.34 166.427 2089.34 160.269 Q2089.34 153.904 2092.77 150.177 Q2096.22 146.427 2102.05 146.427 Q2107.28 146.427 2110.32 149.806 Q2113.37 153.163 2113.37 158.95 M2109.11 157.7 Q2109.07 154.205 2107.15 152.121 Q2105.25 150.038 2102.1 150.038 Q2098.53 150.038 2096.38 152.052 Q2094.25 154.066 2093.93 157.723 L2109.11 157.7 M2105.62 172.978 L2108.37 172.978 Q2107.33 174.39 2106.82 175.408 Q2106.34 176.427 2106.34 177.144 Q2106.34 178.209 2106.96 178.741 Q2107.61 179.274 2108.86 179.274 Q2109.6 179.274 2110.32 179.089 Q2111.03 178.927 2111.75 178.579 L2111.75 181.658 Q2110.87 181.89 2110.09 182.005 Q2109.3 182.121 2108.6 182.121 Q2105.78 182.121 2104.44 181.103 Q2103.12 180.107 2103.12 177.954 Q2103.12 176.843 2103.72 175.616 Q2104.34 174.413 2105.62 172.978 Z\" fill=\"#000000\" fill-rule=\"evenodd\" fill-opacity=\"1\" /><path clip-path=\"url(#clip520)\" d=\"M 0 0 M2136.45 160.038 Q2136.45 155.339 2134.51 152.677 Q2132.59 149.992 2129.21 149.992 Q2125.83 149.992 2123.88 152.677 Q2121.96 155.339 2121.96 160.038 Q2121.96 164.737 2123.88 167.422 Q2125.83 170.084 2129.21 170.084 Q2132.59 170.084 2134.51 167.422 Q2136.45 164.737 2136.45 160.038 M2121.96 150.987 Q2123.3 148.672 2125.34 147.561 Q2127.4 146.427 2130.25 146.427 Q2134.97 146.427 2137.91 150.177 Q2140.87 153.927 2140.87 160.038 Q2140.87 166.149 2137.91 169.899 Q2134.97 173.649 2130.25 173.649 Q2127.4 173.649 2125.34 172.538 Q2123.3 171.403 2121.96 169.089 L2121.96 172.978 L2117.68 172.978 L2117.68 136.959 L2121.96 136.959 L2121.96 150.987 Z\" fill=\"#000000\" fill-rule=\"evenodd\" fill-opacity=\"1\" /><path clip-path=\"url(#clip520)\" d=\"M 0 0 M2145.34 147.052 L2149.6 147.052 L2149.6 172.978 L2145.34 172.978 L2145.34 147.052 M2145.34 136.959 L2149.6 136.959 L2149.6 142.353 L2145.34 142.353 L2145.34 136.959 Z\" fill=\"#000000\" fill-rule=\"evenodd\" fill-opacity=\"1\" /><path clip-path=\"url(#clip520)\" d=\"M 0 0 M2176.24 158.95 L2176.24 161.033 L2156.66 161.033 Q2156.94 165.431 2159.3 167.746 Q2161.68 170.038 2165.92 170.038 Q2168.37 170.038 2170.66 169.436 Q2172.98 168.834 2175.25 167.63 L2175.25 171.658 Q2172.96 172.63 2170.55 173.14 Q2168.14 173.649 2165.66 173.649 Q2159.46 173.649 2155.83 170.038 Q2152.21 166.427 2152.21 160.269 Q2152.21 153.904 2155.64 150.177 Q2159.09 146.427 2164.92 146.427 Q2170.15 146.427 2173.19 149.806 Q2176.24 153.163 2176.24 158.95 M2171.98 157.7 Q2171.94 154.205 2170.02 152.121 Q2168.12 150.038 2164.97 150.038 Q2161.4 150.038 2159.25 152.052 Q2157.12 154.066 2156.8 157.723 L2171.98 157.7 Z\" fill=\"#000000\" fill-rule=\"evenodd\" fill-opacity=\"1\" /><polyline clip-path=\"url(#clip520)\" style=\"stroke:#008000; stroke-width:4; stroke-opacity:1; fill:none\" points=\"\n",
       "  1851.27,216.178 1999.01,216.178 \n",
       "  \"/>\n",
       "<path clip-path=\"url(#clip520)\" d=\"M 0 0 M2028.95 207.532 L2033.21 207.532 L2033.21 233.921 Q2033.21 238.874 2031.31 241.096 Q2029.44 243.319 2025.25 243.319 L2023.63 243.319 L2023.63 239.708 L2024.76 239.708 Q2027.19 239.708 2028.07 238.573 Q2028.95 237.462 2028.95 233.921 L2028.95 207.532 M2028.95 197.439 L2033.21 197.439 L2033.21 202.833 L2028.95 202.833 L2028.95 197.439 Z\" fill=\"#000000\" fill-rule=\"evenodd\" fill-opacity=\"1\" /><path clip-path=\"url(#clip520)\" d=\"M 0 0 M2049.46 220.425 Q2044.3 220.425 2042.31 221.606 Q2040.32 222.786 2040.32 225.634 Q2040.32 227.902 2041.8 229.245 Q2043.3 230.564 2045.87 230.564 Q2049.41 230.564 2051.54 228.064 Q2053.7 225.541 2053.7 221.374 L2053.7 220.425 L2049.46 220.425 M2057.96 218.666 L2057.96 233.458 L2053.7 233.458 L2053.7 229.522 Q2052.24 231.883 2050.06 233.018 Q2047.89 234.129 2044.74 234.129 Q2040.76 234.129 2038.4 231.907 Q2036.06 229.661 2036.06 225.911 Q2036.06 221.536 2038.97 219.314 Q2041.91 217.092 2047.72 217.092 L2053.7 217.092 L2053.7 216.675 Q2053.7 213.735 2051.75 212.138 Q2049.83 210.518 2046.34 210.518 Q2044.11 210.518 2042.01 211.05 Q2039.9 211.583 2037.96 212.647 L2037.96 208.712 Q2040.29 207.81 2042.49 207.37 Q2044.69 206.907 2046.78 206.907 Q2052.4 206.907 2055.18 209.823 Q2057.96 212.74 2057.96 218.666 Z\" fill=\"#000000\" fill-rule=\"evenodd\" fill-opacity=\"1\" /><path clip-path=\"url(#clip520)\" d=\"M 0 0 M2078.95 208.296 L2078.95 212.323 Q2077.15 211.397 2075.2 210.935 Q2073.26 210.472 2071.17 210.472 Q2068 210.472 2066.41 211.444 Q2064.83 212.416 2064.83 214.36 Q2064.83 215.842 2065.97 216.698 Q2067.1 217.532 2070.53 218.296 L2071.98 218.62 Q2076.52 219.592 2078.42 221.374 Q2080.34 223.134 2080.34 226.305 Q2080.34 229.916 2077.47 232.022 Q2074.62 234.129 2069.62 234.129 Q2067.54 234.129 2065.27 233.712 Q2063.03 233.319 2060.53 232.508 L2060.53 228.11 Q2062.89 229.337 2065.18 229.962 Q2067.47 230.564 2069.72 230.564 Q2072.72 230.564 2074.34 229.546 Q2075.97 228.504 2075.97 226.629 Q2075.97 224.893 2074.78 223.967 Q2073.63 223.041 2069.67 222.184 L2068.19 221.837 Q2064.23 221.004 2062.47 219.291 Q2060.71 217.555 2060.71 214.546 Q2060.71 210.888 2063.3 208.898 Q2065.9 206.907 2070.66 206.907 Q2073.03 206.907 2075.11 207.254 Q2077.19 207.601 2078.95 208.296 Z\" fill=\"#000000\" fill-rule=\"evenodd\" fill-opacity=\"1\" /><path clip-path=\"url(#clip520)\" d=\"M 0 0 M2089.02 200.171 L2089.02 207.532 L2097.79 207.532 L2097.79 210.842 L2089.02 210.842 L2089.02 224.916 Q2089.02 228.087 2089.88 228.99 Q2090.76 229.893 2093.42 229.893 L2097.79 229.893 L2097.79 233.458 L2093.42 233.458 Q2088.49 233.458 2086.61 231.629 Q2084.74 229.777 2084.74 224.916 L2084.74 210.842 L2081.61 210.842 L2081.61 207.532 L2084.74 207.532 L2084.74 200.171 L2089.02 200.171 Z\" fill=\"#000000\" fill-rule=\"evenodd\" fill-opacity=\"1\" /><path clip-path=\"url(#clip520)\" d=\"M 0 0 M2117.28 211.513 Q2116.57 211.097 2115.71 210.911 Q2114.88 210.703 2113.86 210.703 Q2110.25 210.703 2108.3 213.064 Q2106.38 215.402 2106.38 219.8 L2106.38 233.458 L2102.1 233.458 L2102.1 207.532 L2106.38 207.532 L2106.38 211.56 Q2107.72 209.198 2109.88 208.064 Q2112.03 206.907 2115.11 206.907 Q2115.55 206.907 2116.08 206.976 Q2116.61 207.023 2117.26 207.138 L2117.28 211.513 Z\" fill=\"#000000\" fill-rule=\"evenodd\" fill-opacity=\"1\" /><path clip-path=\"url(#clip520)\" d=\"M 0 0 M2119.9 207.532 L2140.13 207.532 L2140.13 211.421 L2124.11 230.055 L2140.13 230.055 L2140.13 233.458 L2119.32 233.458 L2119.32 229.569 L2135.34 210.935 L2119.9 210.935 L2119.9 207.532 Z\" fill=\"#000000\" fill-rule=\"evenodd\" fill-opacity=\"1\" /><path clip-path=\"url(#clip520)\" d=\"M 0 0 M2166.78 219.43 L2166.78 221.513 L2147.19 221.513 Q2147.47 225.911 2149.83 228.226 Q2152.21 230.518 2156.45 230.518 Q2158.9 230.518 2161.2 229.916 Q2163.51 229.314 2165.78 228.11 L2165.78 232.138 Q2163.49 233.11 2161.08 233.62 Q2158.67 234.129 2156.2 234.129 Q2149.99 234.129 2146.36 230.518 Q2142.75 226.907 2142.75 220.749 Q2142.75 214.384 2146.17 210.657 Q2149.62 206.907 2155.46 206.907 Q2160.69 206.907 2163.72 210.286 Q2166.78 213.643 2166.78 219.43 M2162.52 218.18 Q2162.47 214.685 2160.55 212.601 Q2158.65 210.518 2155.5 210.518 Q2151.94 210.518 2149.78 212.532 Q2147.65 214.546 2147.33 218.203 L2162.52 218.18 M2159.02 233.458 L2161.78 233.458 Q2160.73 234.87 2160.22 235.888 Q2159.74 236.907 2159.74 237.624 Q2159.74 238.689 2160.36 239.221 Q2161.01 239.754 2162.26 239.754 Q2163 239.754 2163.72 239.569 Q2164.44 239.407 2165.15 239.059 L2165.15 242.138 Q2164.28 242.37 2163.49 242.485 Q2162.7 242.601 2162.01 242.601 Q2159.18 242.601 2157.84 241.583 Q2156.52 240.587 2156.52 238.434 Q2156.52 237.323 2157.12 236.096 Q2157.75 234.893 2159.02 233.458 Z\" fill=\"#000000\" fill-rule=\"evenodd\" fill-opacity=\"1\" /><path clip-path=\"url(#clip520)\" d=\"M 0 0 M2189.85 220.518 Q2189.85 215.819 2187.91 213.157 Q2185.99 210.472 2182.61 210.472 Q2179.23 210.472 2177.28 213.157 Q2175.36 215.819 2175.36 220.518 Q2175.36 225.217 2177.28 227.902 Q2179.23 230.564 2182.61 230.564 Q2185.99 230.564 2187.91 227.902 Q2189.85 225.217 2189.85 220.518 M2175.36 211.467 Q2176.71 209.152 2178.74 208.041 Q2180.8 206.907 2183.65 206.907 Q2188.37 206.907 2191.31 210.657 Q2194.27 214.407 2194.27 220.518 Q2194.27 226.629 2191.31 230.379 Q2188.37 234.129 2183.65 234.129 Q2180.8 234.129 2178.74 233.018 Q2176.71 231.883 2175.36 229.569 L2175.36 233.458 L2171.08 233.458 L2171.08 197.439 L2175.36 197.439 L2175.36 211.467 Z\" fill=\"#000000\" fill-rule=\"evenodd\" fill-opacity=\"1\" /><path clip-path=\"url(#clip520)\" d=\"M 0 0 M2198.74 207.532 L2203 207.532 L2203 233.458 L2198.74 233.458 L2198.74 207.532 M2198.74 197.439 L2203 197.439 L2203 202.833 L2198.74 202.833 L2198.74 197.439 Z\" fill=\"#000000\" fill-rule=\"evenodd\" fill-opacity=\"1\" /><path clip-path=\"url(#clip520)\" d=\"M 0 0 M2229.65 219.43 L2229.65 221.513 L2210.06 221.513 Q2210.34 225.911 2212.7 228.226 Q2215.08 230.518 2219.32 230.518 Q2221.77 230.518 2224.07 229.916 Q2226.38 229.314 2228.65 228.11 L2228.65 232.138 Q2226.36 233.11 2223.95 233.62 Q2221.54 234.129 2219.07 234.129 Q2212.86 234.129 2209.23 230.518 Q2205.62 226.907 2205.62 220.749 Q2205.62 214.384 2209.04 210.657 Q2212.49 206.907 2218.33 206.907 Q2223.56 206.907 2226.59 210.286 Q2229.65 213.643 2229.65 219.43 M2225.39 218.18 Q2225.34 214.685 2223.42 212.601 Q2221.52 210.518 2218.37 210.518 Q2214.81 210.518 2212.65 212.532 Q2210.52 214.546 2210.2 218.203 L2225.39 218.18 Z\" fill=\"#000000\" fill-rule=\"evenodd\" fill-opacity=\"1\" /></svg>\n"
      ]
     },
     "execution_count": 275,
     "metadata": {},
     "output_type": "execute_result"
    }
   ],
   "source": [
    "wykr(9,9,30,30, 100, zeros(Int64, 100, 2))"
   ]
  },
  {
   "cell_type": "code",
   "execution_count": 276,
   "metadata": {},
   "outputs": [
    {
     "data": {
      "image/svg+xml": [
       "<?xml version=\"1.0\" encoding=\"utf-8\"?>\n",
       "<svg xmlns=\"http://www.w3.org/2000/svg\" xmlns:xlink=\"http://www.w3.org/1999/xlink\" width=\"600\" height=\"400\" viewBox=\"0 0 2400 1600\">\n",
       "<defs>\n",
       "  <clipPath id=\"clip560\">\n",
       "    <rect x=\"0\" y=\"0\" width=\"2400\" height=\"1600\"/>\n",
       "  </clipPath>\n",
       "</defs>\n",
       "<path clip-path=\"url(#clip560)\" d=\"\n",
       "M0 1600 L2400 1600 L2400 0 L0 0  Z\n",
       "  \" fill=\"#ffffff\" fill-rule=\"evenodd\" fill-opacity=\"1\"/>\n",
       "<defs>\n",
       "  <clipPath id=\"clip561\">\n",
       "    <rect x=\"480\" y=\"0\" width=\"1681\" height=\"1600\"/>\n",
       "  </clipPath>\n",
       "</defs>\n",
       "<path clip-path=\"url(#clip560)\" d=\"\n",
       "M139.191 1486.45 L2352.76 1486.45 L2352.76 47.2441 L139.191 47.2441  Z\n",
       "  \" fill=\"#ffffff\" fill-rule=\"evenodd\" fill-opacity=\"1\"/>\n",
       "<defs>\n",
       "  <clipPath id=\"clip562\">\n",
       "    <rect x=\"139\" y=\"47\" width=\"2215\" height=\"1440\"/>\n",
       "  </clipPath>\n",
       "</defs>\n",
       "<polyline clip-path=\"url(#clip562)\" style=\"stroke:#000000; stroke-width:2; stroke-opacity:0.1; fill:none\" points=\"\n",
       "  180.745,1486.45 180.745,47.2441 \n",
       "  \"/>\n",
       "<polyline clip-path=\"url(#clip562)\" style=\"stroke:#000000; stroke-width:2; stroke-opacity:0.1; fill:none\" points=\"\n",
       "  708.086,1486.45 708.086,47.2441 \n",
       "  \"/>\n",
       "<polyline clip-path=\"url(#clip562)\" style=\"stroke:#000000; stroke-width:2; stroke-opacity:0.1; fill:none\" points=\"\n",
       "  1235.43,1486.45 1235.43,47.2441 \n",
       "  \"/>\n",
       "<polyline clip-path=\"url(#clip562)\" style=\"stroke:#000000; stroke-width:2; stroke-opacity:0.1; fill:none\" points=\"\n",
       "  1762.77,1486.45 1762.77,47.2441 \n",
       "  \"/>\n",
       "<polyline clip-path=\"url(#clip562)\" style=\"stroke:#000000; stroke-width:2; stroke-opacity:0.1; fill:none\" points=\"\n",
       "  2290.11,1486.45 2290.11,47.2441 \n",
       "  \"/>\n",
       "<polyline clip-path=\"url(#clip560)\" style=\"stroke:#000000; stroke-width:4; stroke-opacity:1; fill:none\" points=\"\n",
       "  139.191,1486.45 2352.76,1486.45 \n",
       "  \"/>\n",
       "<polyline clip-path=\"url(#clip560)\" style=\"stroke:#000000; stroke-width:4; stroke-opacity:1; fill:none\" points=\"\n",
       "  180.745,1486.45 180.745,1469.18 \n",
       "  \"/>\n",
       "<polyline clip-path=\"url(#clip560)\" style=\"stroke:#000000; stroke-width:4; stroke-opacity:1; fill:none\" points=\"\n",
       "  708.086,1486.45 708.086,1469.18 \n",
       "  \"/>\n",
       "<polyline clip-path=\"url(#clip560)\" style=\"stroke:#000000; stroke-width:4; stroke-opacity:1; fill:none\" points=\"\n",
       "  1235.43,1486.45 1235.43,1469.18 \n",
       "  \"/>\n",
       "<polyline clip-path=\"url(#clip560)\" style=\"stroke:#000000; stroke-width:4; stroke-opacity:1; fill:none\" points=\"\n",
       "  1762.77,1486.45 1762.77,1469.18 \n",
       "  \"/>\n",
       "<polyline clip-path=\"url(#clip560)\" style=\"stroke:#000000; stroke-width:4; stroke-opacity:1; fill:none\" points=\"\n",
       "  2290.11,1486.45 2290.11,1469.18 \n",
       "  \"/>\n",
       "<path clip-path=\"url(#clip560)\" d=\"M 0 0 M180.745 1515.64 Q177.134 1515.64 175.306 1519.2 Q173.5 1522.75 173.5 1529.87 Q173.5 1536.98 175.306 1540.55 Q177.134 1544.09 180.745 1544.09 Q184.38 1544.09 186.185 1540.55 Q188.014 1536.98 188.014 1529.87 Q188.014 1522.75 186.185 1519.2 Q184.38 1515.64 180.745 1515.64 M180.745 1511.93 Q186.556 1511.93 189.611 1516.54 Q192.69 1521.12 192.69 1529.87 Q192.69 1538.6 189.611 1543.21 Q186.556 1547.79 180.745 1547.79 Q174.935 1547.79 171.857 1543.21 Q168.801 1538.6 168.801 1529.87 Q168.801 1521.12 171.857 1516.54 Q174.935 1511.93 180.745 1511.93 Z\" fill=\"#000000\" fill-rule=\"evenodd\" fill-opacity=\"1\" /><path clip-path=\"url(#clip560)\" d=\"M 0 0 M689.73 1543.18 L706.049 1543.18 L706.049 1547.12 L684.105 1547.12 L684.105 1543.18 Q686.767 1540.43 691.35 1535.8 Q695.956 1531.15 697.137 1529.81 Q699.382 1527.28 700.262 1525.55 Q701.165 1523.79 701.165 1522.1 Q701.165 1519.34 699.22 1517.61 Q697.299 1515.87 694.197 1515.87 Q691.998 1515.87 689.544 1516.63 Q687.114 1517.4 684.336 1518.95 L684.336 1514.23 Q687.16 1513.09 689.614 1512.51 Q692.068 1511.93 694.105 1511.93 Q699.475 1511.93 702.669 1514.62 Q705.864 1517.31 705.864 1521.8 Q705.864 1523.93 705.054 1525.85 Q704.267 1527.74 702.16 1530.34 Q701.581 1531.01 698.48 1534.23 Q695.378 1537.42 689.73 1543.18 Z\" fill=\"#000000\" fill-rule=\"evenodd\" fill-opacity=\"1\" /><path clip-path=\"url(#clip560)\" d=\"M 0 0 M711.165 1512.56 L729.521 1512.56 L729.521 1516.5 L715.447 1516.5 L715.447 1524.97 Q716.466 1524.62 717.484 1524.46 Q718.503 1524.27 719.521 1524.27 Q725.308 1524.27 728.688 1527.44 Q732.067 1530.62 732.067 1536.03 Q732.067 1541.61 728.595 1544.71 Q725.123 1547.79 718.804 1547.79 Q716.628 1547.79 714.359 1547.42 Q712.114 1547.05 709.706 1546.31 L709.706 1541.61 Q711.79 1542.74 714.012 1543.3 Q716.234 1543.86 718.711 1543.86 Q722.716 1543.86 725.053 1541.75 Q727.391 1539.64 727.391 1536.03 Q727.391 1532.42 725.053 1530.31 Q722.716 1528.21 718.711 1528.21 Q716.836 1528.21 714.961 1528.62 Q713.109 1529.04 711.165 1529.92 L711.165 1512.56 Z\" fill=\"#000000\" fill-rule=\"evenodd\" fill-opacity=\"1\" /><path clip-path=\"url(#clip560)\" d=\"M 0 0 M1212.2 1512.56 L1230.55 1512.56 L1230.55 1516.5 L1216.48 1516.5 L1216.48 1524.97 Q1217.5 1524.62 1218.52 1524.46 Q1219.54 1524.27 1220.55 1524.27 Q1226.34 1524.27 1229.72 1527.44 Q1233.1 1530.62 1233.1 1536.03 Q1233.1 1541.61 1229.63 1544.71 Q1226.16 1547.79 1219.84 1547.79 Q1217.66 1547.79 1215.39 1547.42 Q1213.15 1547.05 1210.74 1546.31 L1210.74 1541.61 Q1212.82 1542.74 1215.04 1543.3 Q1217.27 1543.86 1219.74 1543.86 Q1223.75 1543.86 1226.09 1541.75 Q1228.42 1539.64 1228.42 1536.03 Q1228.42 1532.42 1226.09 1530.31 Q1223.75 1528.21 1219.74 1528.21 Q1217.87 1528.21 1215.99 1528.62 Q1214.14 1529.04 1212.2 1529.92 L1212.2 1512.56 Z\" fill=\"#000000\" fill-rule=\"evenodd\" fill-opacity=\"1\" /><path clip-path=\"url(#clip560)\" d=\"M 0 0 M1248.17 1515.64 Q1244.56 1515.64 1242.73 1519.2 Q1240.92 1522.75 1240.92 1529.87 Q1240.92 1536.98 1242.73 1540.55 Q1244.56 1544.09 1248.17 1544.09 Q1251.8 1544.09 1253.61 1540.55 Q1255.44 1536.98 1255.44 1529.87 Q1255.44 1522.75 1253.61 1519.2 Q1251.8 1515.64 1248.17 1515.64 M1248.17 1511.93 Q1253.98 1511.93 1257.04 1516.54 Q1260.11 1521.12 1260.11 1529.87 Q1260.11 1538.6 1257.04 1543.21 Q1253.98 1547.79 1248.17 1547.79 Q1242.36 1547.79 1239.28 1543.21 Q1236.23 1538.6 1236.23 1529.87 Q1236.23 1521.12 1239.28 1516.54 Q1242.36 1511.93 1248.17 1511.93 Z\" fill=\"#000000\" fill-rule=\"evenodd\" fill-opacity=\"1\" /><path clip-path=\"url(#clip560)\" d=\"M 0 0 M1738.65 1512.56 L1760.87 1512.56 L1760.87 1514.55 L1748.32 1547.12 L1743.44 1547.12 L1755.24 1516.5 L1738.65 1516.5 L1738.65 1512.56 Z\" fill=\"#000000\" fill-rule=\"evenodd\" fill-opacity=\"1\" /><path clip-path=\"url(#clip560)\" d=\"M 0 0 M1765.98 1512.56 L1784.34 1512.56 L1784.34 1516.5 L1770.27 1516.5 L1770.27 1524.97 Q1771.29 1524.62 1772.3 1524.46 Q1773.32 1524.27 1774.34 1524.27 Q1780.13 1524.27 1783.51 1527.44 Q1786.89 1530.62 1786.89 1536.03 Q1786.89 1541.61 1783.42 1544.71 Q1779.94 1547.79 1773.62 1547.79 Q1771.45 1547.79 1769.18 1547.42 Q1766.93 1547.05 1764.53 1546.31 L1764.53 1541.61 Q1766.61 1542.74 1768.83 1543.3 Q1771.05 1543.86 1773.53 1543.86 Q1777.54 1543.86 1779.87 1541.75 Q1782.21 1539.64 1782.21 1536.03 Q1782.21 1532.42 1779.87 1530.31 Q1777.54 1528.21 1773.53 1528.21 Q1771.66 1528.21 1769.78 1528.62 Q1767.93 1529.04 1765.98 1529.92 L1765.98 1512.56 Z\" fill=\"#000000\" fill-rule=\"evenodd\" fill-opacity=\"1\" /><path clip-path=\"url(#clip560)\" d=\"M 0 0 M2253.48 1543.18 L2261.11 1543.18 L2261.11 1516.82 L2252.8 1518.49 L2252.8 1514.23 L2261.07 1512.56 L2265.74 1512.56 L2265.74 1543.18 L2273.38 1543.18 L2273.38 1547.12 L2253.48 1547.12 L2253.48 1543.18 Z\" fill=\"#000000\" fill-rule=\"evenodd\" fill-opacity=\"1\" /><path clip-path=\"url(#clip560)\" d=\"M 0 0 M2288.45 1515.64 Q2284.84 1515.64 2283.01 1519.2 Q2281.21 1522.75 2281.21 1529.87 Q2281.21 1536.98 2283.01 1540.55 Q2284.84 1544.09 2288.45 1544.09 Q2292.09 1544.09 2293.89 1540.55 Q2295.72 1536.98 2295.72 1529.87 Q2295.72 1522.75 2293.89 1519.2 Q2292.09 1515.64 2288.45 1515.64 M2288.45 1511.93 Q2294.26 1511.93 2297.32 1516.54 Q2300.4 1521.12 2300.4 1529.87 Q2300.4 1538.6 2297.32 1543.21 Q2294.26 1547.79 2288.45 1547.79 Q2282.64 1547.79 2279.56 1543.21 Q2276.51 1538.6 2276.51 1529.87 Q2276.51 1521.12 2279.56 1516.54 Q2282.64 1511.93 2288.45 1511.93 Z\" fill=\"#000000\" fill-rule=\"evenodd\" fill-opacity=\"1\" /><path clip-path=\"url(#clip560)\" d=\"M 0 0 M2315.47 1515.64 Q2311.86 1515.64 2310.03 1519.2 Q2308.22 1522.75 2308.22 1529.87 Q2308.22 1536.98 2310.03 1540.55 Q2311.86 1544.09 2315.47 1544.09 Q2319.1 1544.09 2320.91 1540.55 Q2322.73 1536.98 2322.73 1529.87 Q2322.73 1522.75 2320.91 1519.2 Q2319.1 1515.64 2315.47 1515.64 M2315.47 1511.93 Q2321.28 1511.93 2324.33 1516.54 Q2327.41 1521.12 2327.41 1529.87 Q2327.41 1538.6 2324.33 1543.21 Q2321.28 1547.79 2315.47 1547.79 Q2309.66 1547.79 2306.58 1543.21 Q2303.52 1538.6 2303.52 1529.87 Q2303.52 1521.12 2306.58 1516.54 Q2309.66 1511.93 2315.47 1511.93 Z\" fill=\"#000000\" fill-rule=\"evenodd\" fill-opacity=\"1\" /><polyline clip-path=\"url(#clip562)\" style=\"stroke:#000000; stroke-width:2; stroke-opacity:0.1; fill:none\" points=\"\n",
       "  139.191,1309.94 2352.76,1309.94 \n",
       "  \"/>\n",
       "<polyline clip-path=\"url(#clip562)\" style=\"stroke:#000000; stroke-width:2; stroke-opacity:0.1; fill:none\" points=\"\n",
       "  139.191,1083.65 2352.76,1083.65 \n",
       "  \"/>\n",
       "<polyline clip-path=\"url(#clip562)\" style=\"stroke:#000000; stroke-width:2; stroke-opacity:0.1; fill:none\" points=\"\n",
       "  139.191,857.362 2352.76,857.362 \n",
       "  \"/>\n",
       "<polyline clip-path=\"url(#clip562)\" style=\"stroke:#000000; stroke-width:2; stroke-opacity:0.1; fill:none\" points=\"\n",
       "  139.191,631.072 2352.76,631.072 \n",
       "  \"/>\n",
       "<polyline clip-path=\"url(#clip562)\" style=\"stroke:#000000; stroke-width:2; stroke-opacity:0.1; fill:none\" points=\"\n",
       "  139.191,404.782 2352.76,404.782 \n",
       "  \"/>\n",
       "<polyline clip-path=\"url(#clip562)\" style=\"stroke:#000000; stroke-width:2; stroke-opacity:0.1; fill:none\" points=\"\n",
       "  139.191,178.492 2352.76,178.492 \n",
       "  \"/>\n",
       "<polyline clip-path=\"url(#clip560)\" style=\"stroke:#000000; stroke-width:4; stroke-opacity:1; fill:none\" points=\"\n",
       "  139.191,1486.45 139.191,47.2441 \n",
       "  \"/>\n",
       "<polyline clip-path=\"url(#clip560)\" style=\"stroke:#000000; stroke-width:4; stroke-opacity:1; fill:none\" points=\"\n",
       "  139.191,1309.94 165.754,1309.94 \n",
       "  \"/>\n",
       "<polyline clip-path=\"url(#clip560)\" style=\"stroke:#000000; stroke-width:4; stroke-opacity:1; fill:none\" points=\"\n",
       "  139.191,1083.65 165.754,1083.65 \n",
       "  \"/>\n",
       "<polyline clip-path=\"url(#clip560)\" style=\"stroke:#000000; stroke-width:4; stroke-opacity:1; fill:none\" points=\"\n",
       "  139.191,857.362 165.754,857.362 \n",
       "  \"/>\n",
       "<polyline clip-path=\"url(#clip560)\" style=\"stroke:#000000; stroke-width:4; stroke-opacity:1; fill:none\" points=\"\n",
       "  139.191,631.072 165.754,631.072 \n",
       "  \"/>\n",
       "<polyline clip-path=\"url(#clip560)\" style=\"stroke:#000000; stroke-width:4; stroke-opacity:1; fill:none\" points=\"\n",
       "  139.191,404.782 165.754,404.782 \n",
       "  \"/>\n",
       "<polyline clip-path=\"url(#clip560)\" style=\"stroke:#000000; stroke-width:4; stroke-opacity:1; fill:none\" points=\"\n",
       "  139.191,178.492 165.754,178.492 \n",
       "  \"/>\n",
       "<path clip-path=\"url(#clip560)\" d=\"M 0 0 M59.8578 1323.29 L76.1772 1323.29 L76.1772 1327.22 L54.2328 1327.22 L54.2328 1323.29 Q56.8949 1320.53 61.4782 1315.9 Q66.0846 1311.25 67.2652 1309.91 Q69.5105 1307.38 70.3902 1305.65 Q71.2929 1303.89 71.2929 1302.2 Q71.2929 1299.44 69.3485 1297.71 Q67.4272 1295.97 64.3254 1295.97 Q62.1263 1295.97 59.6726 1296.74 Q57.2421 1297.5 54.4643 1299.05 L54.4643 1294.33 Q57.2884 1293.19 59.7421 1292.62 Q62.1958 1292.04 64.2328 1292.04 Q69.6031 1292.04 72.7976 1294.72 Q75.992 1297.41 75.992 1301.9 Q75.992 1304.03 75.1818 1305.95 Q74.3948 1307.85 72.2883 1310.44 Q71.7096 1311.11 68.6078 1314.33 Q65.5059 1317.52 59.8578 1323.29 Z\" fill=\"#000000\" fill-rule=\"evenodd\" fill-opacity=\"1\" /><path clip-path=\"url(#clip560)\" d=\"M 0 0 M91.2465 1295.74 Q87.6354 1295.74 85.8068 1299.31 Q84.0012 1302.85 84.0012 1309.98 Q84.0012 1317.08 85.8068 1320.65 Q87.6354 1324.19 91.2465 1324.19 Q94.8808 1324.19 96.6863 1320.65 Q98.515 1317.08 98.515 1309.98 Q98.515 1302.85 96.6863 1299.31 Q94.8808 1295.74 91.2465 1295.74 M91.2465 1292.04 Q97.0567 1292.04 100.112 1296.64 Q103.191 1301.23 103.191 1309.98 Q103.191 1318.7 100.112 1323.31 Q97.0567 1327.89 91.2465 1327.89 Q85.4364 1327.89 82.3577 1323.31 Q79.3022 1318.7 79.3022 1309.98 Q79.3022 1301.23 82.3577 1296.64 Q85.4364 1292.04 91.2465 1292.04 Z\" fill=\"#000000\" fill-rule=\"evenodd\" fill-opacity=\"1\" /><path clip-path=\"url(#clip560)\" d=\"M 0 0 M60.8532 1097 L77.1725 1097 L77.1725 1100.93 L55.2282 1100.93 L55.2282 1097 Q57.8902 1094.24 62.4735 1089.61 Q67.08 1084.96 68.2606 1083.62 Q70.5059 1081.09 71.3855 1079.36 Q72.2883 1077.6 72.2883 1075.91 Q72.2883 1073.15 70.3439 1071.42 Q68.4226 1069.68 65.3208 1069.68 Q63.1217 1069.68 60.668 1070.45 Q58.2375 1071.21 55.4597 1072.76 L55.4597 1068.04 Q58.2838 1066.9 60.7374 1066.33 Q63.1911 1065.75 65.2282 1065.75 Q70.5985 1065.75 73.7929 1068.43 Q76.9874 1071.12 76.9874 1075.61 Q76.9874 1077.74 76.1772 1079.66 Q75.3901 1081.56 73.2837 1084.15 Q72.705 1084.82 69.6031 1088.04 Q66.5013 1091.23 60.8532 1097 Z\" fill=\"#000000\" fill-rule=\"evenodd\" fill-opacity=\"1\" /><path clip-path=\"url(#clip560)\" d=\"M 0 0 M82.2883 1066.37 L100.645 1066.37 L100.645 1070.31 L86.5706 1070.31 L86.5706 1078.78 Q87.5892 1078.43 88.6077 1078.27 Q89.6262 1078.08 90.6447 1078.08 Q96.4317 1078.08 99.8113 1081.26 Q103.191 1084.43 103.191 1089.84 Q103.191 1095.42 99.7187 1098.52 Q96.2465 1101.6 89.9271 1101.6 Q87.7512 1101.6 85.4827 1101.23 Q83.2373 1100.86 80.8299 1100.12 L80.8299 1095.42 Q82.9133 1096.56 85.1355 1097.11 Q87.3577 1097.67 89.8345 1097.67 Q93.8391 1097.67 96.1771 1095.56 Q98.515 1093.46 98.515 1089.84 Q98.515 1086.23 96.1771 1084.13 Q93.8391 1082.02 89.8345 1082.02 Q87.9595 1082.02 86.0845 1082.44 Q84.2327 1082.85 82.2883 1083.73 L82.2883 1066.37 Z\" fill=\"#000000\" fill-rule=\"evenodd\" fill-opacity=\"1\" /><path clip-path=\"url(#clip560)\" d=\"M 0 0 M69.0476 856.008 Q72.404 856.725 74.279 858.994 Q76.1772 861.262 76.1772 864.596 Q76.1772 869.711 72.6587 872.512 Q69.1402 875.313 62.6587 875.313 Q60.4828 875.313 58.168 874.873 Q55.8764 874.457 53.4227 873.6 L53.4227 869.086 Q55.3671 870.221 57.6819 870.799 Q59.9967 871.378 62.5198 871.378 Q66.918 871.378 69.2096 869.642 Q71.5244 867.906 71.5244 864.596 Q71.5244 861.54 69.3717 859.827 Q67.242 858.091 63.4226 858.091 L59.3949 858.091 L59.3949 854.249 L63.6078 854.249 Q67.0569 854.249 68.8855 852.883 Q70.7142 851.494 70.7142 848.901 Q70.7142 846.239 68.8161 844.827 Q66.9411 843.392 63.4226 843.392 Q61.5013 843.392 59.3023 843.809 Q57.1032 844.225 54.4643 845.105 L54.4643 840.938 Q57.1264 840.198 59.4412 839.827 Q61.7791 839.457 63.8393 839.457 Q69.1633 839.457 72.2652 841.887 Q75.367 844.295 75.367 848.415 Q75.367 851.286 73.7235 853.276 Q72.08 855.244 69.0476 856.008 Z\" fill=\"#000000\" fill-rule=\"evenodd\" fill-opacity=\"1\" /><path clip-path=\"url(#clip560)\" d=\"M 0 0 M91.2465 843.161 Q87.6354 843.161 85.8068 846.725 Q84.0012 850.267 84.0012 857.397 Q84.0012 864.503 85.8068 868.068 Q87.6354 871.61 91.2465 871.61 Q94.8808 871.61 96.6863 868.068 Q98.515 864.503 98.515 857.397 Q98.515 850.267 96.6863 846.725 Q94.8808 843.161 91.2465 843.161 M91.2465 839.457 Q97.0567 839.457 100.112 844.063 Q103.191 848.647 103.191 857.397 Q103.191 866.123 100.112 870.73 Q97.0567 875.313 91.2465 875.313 Q85.4364 875.313 82.3577 870.73 Q79.3022 866.123 79.3022 857.397 Q79.3022 848.647 82.3577 844.063 Q85.4364 839.457 91.2465 839.457 Z\" fill=\"#000000\" fill-rule=\"evenodd\" fill-opacity=\"1\" /><path clip-path=\"url(#clip560)\" d=\"M 0 0 M70.0429 629.718 Q73.3994 630.435 75.2744 632.704 Q77.1725 634.972 77.1725 638.306 Q77.1725 643.422 73.654 646.222 Q70.1355 649.023 63.6541 649.023 Q61.4782 649.023 59.1634 648.584 Q56.8717 648.167 54.418 647.31 L54.418 642.797 Q56.3625 643.931 58.6773 644.509 Q60.9921 645.088 63.5152 645.088 Q67.9133 645.088 70.205 643.352 Q72.5198 641.616 72.5198 638.306 Q72.5198 635.25 70.367 633.537 Q68.2374 631.801 64.418 631.801 L60.3902 631.801 L60.3902 627.959 L64.6032 627.959 Q68.0522 627.959 69.8809 626.593 Q71.7096 625.204 71.7096 622.611 Q71.7096 619.949 69.8115 618.537 Q67.9365 617.102 64.418 617.102 Q62.4967 617.102 60.2976 617.519 Q58.0986 617.936 55.4597 618.815 L55.4597 614.649 Q58.1217 613.908 60.4365 613.537 Q62.7745 613.167 64.8346 613.167 Q70.1587 613.167 73.2605 615.598 Q76.3624 618.005 76.3624 622.125 Q76.3624 624.996 74.7189 626.986 Q73.0753 628.954 70.0429 629.718 Z\" fill=\"#000000\" fill-rule=\"evenodd\" fill-opacity=\"1\" /><path clip-path=\"url(#clip560)\" d=\"M 0 0 M82.2883 613.792 L100.645 613.792 L100.645 617.727 L86.5706 617.727 L86.5706 626.199 Q87.5892 625.852 88.6077 625.69 Q89.6262 625.505 90.6447 625.505 Q96.4317 625.505 99.8113 628.676 Q103.191 631.848 103.191 637.264 Q103.191 642.843 99.7187 645.945 Q96.2465 649.023 89.9271 649.023 Q87.7512 649.023 85.4827 648.653 Q83.2373 648.283 80.8299 647.542 L80.8299 642.843 Q82.9133 643.977 85.1355 644.533 Q87.3577 645.088 89.8345 645.088 Q93.8391 645.088 96.1771 642.982 Q98.515 640.875 98.515 637.264 Q98.515 633.653 96.1771 631.547 Q93.8391 629.44 89.8345 629.44 Q87.9595 629.44 86.0845 629.857 Q84.2327 630.273 82.2883 631.153 L82.2883 613.792 Z\" fill=\"#000000\" fill-rule=\"evenodd\" fill-opacity=\"1\" /><path clip-path=\"url(#clip560)\" d=\"M 0 0 M66.5939 391.576 L54.7884 410.025 L66.5939 410.025 L66.5939 391.576 M65.367 387.502 L71.2466 387.502 L71.2466 410.025 L76.1772 410.025 L76.1772 413.914 L71.2466 413.914 L71.2466 422.062 L66.5939 422.062 L66.5939 413.914 L50.9921 413.914 L50.9921 409.4 L65.367 387.502 Z\" fill=\"#000000\" fill-rule=\"evenodd\" fill-opacity=\"1\" /><path clip-path=\"url(#clip560)\" d=\"M 0 0 M91.2465 390.581 Q87.6354 390.581 85.8068 394.146 Q84.0012 397.687 84.0012 404.817 Q84.0012 411.923 85.8068 415.488 Q87.6354 419.03 91.2465 419.03 Q94.8808 419.03 96.6863 415.488 Q98.515 411.923 98.515 404.817 Q98.515 397.687 96.6863 394.146 Q94.8808 390.581 91.2465 390.581 M91.2465 386.877 Q97.0567 386.877 100.112 391.484 Q103.191 396.067 103.191 404.817 Q103.191 413.544 100.112 418.15 Q97.0567 422.733 91.2465 422.733 Q85.4364 422.733 82.3577 418.15 Q79.3022 413.544 79.3022 404.817 Q79.3022 396.067 82.3577 391.484 Q85.4364 386.877 91.2465 386.877 Z\" fill=\"#000000\" fill-rule=\"evenodd\" fill-opacity=\"1\" /><path clip-path=\"url(#clip560)\" d=\"M 0 0 M67.5893 165.286 L55.7838 183.735 L67.5893 183.735 L67.5893 165.286 M66.3624 161.212 L72.242 161.212 L72.242 183.735 L77.1725 183.735 L77.1725 187.624 L72.242 187.624 L72.242 195.772 L67.5893 195.772 L67.5893 187.624 L51.9875 187.624 L51.9875 183.11 L66.3624 161.212 Z\" fill=\"#000000\" fill-rule=\"evenodd\" fill-opacity=\"1\" /><path clip-path=\"url(#clip560)\" d=\"M 0 0 M82.2883 161.212 L100.645 161.212 L100.645 165.147 L86.5706 165.147 L86.5706 173.62 Q87.5892 173.272 88.6077 173.11 Q89.6262 172.925 90.6447 172.925 Q96.4317 172.925 99.8113 176.096 Q103.191 179.268 103.191 184.684 Q103.191 190.263 99.7187 193.365 Q96.2465 196.444 89.9271 196.444 Q87.7512 196.444 85.4827 196.073 Q83.2373 195.703 80.8299 194.962 L80.8299 190.263 Q82.9133 191.397 85.1355 191.953 Q87.3577 192.508 89.8345 192.508 Q93.8391 192.508 96.1771 190.402 Q98.515 188.295 98.515 184.684 Q98.515 181.073 96.1771 178.967 Q93.8391 176.86 89.8345 176.86 Q87.9595 176.86 86.0845 177.277 Q84.2327 177.694 82.2883 178.573 L82.2883 161.212 Z\" fill=\"#000000\" fill-rule=\"evenodd\" fill-opacity=\"1\" /><polyline clip-path=\"url(#clip562)\" style=\"stroke:#800080; stroke-width:4; stroke-opacity:1; fill:none\" points=\"\n",
       "  201.839,87.9763 222.933,540.556 244.026,676.33 265.12,766.846 286.213,812.104 307.307,857.362 328.401,857.362 349.494,857.362 370.588,857.362 391.682,857.362 \n",
       "  412.775,902.62 433.869,947.878 454.962,947.878 476.056,993.136 497.15,993.136 518.243,993.136 539.337,993.136 560.431,993.136 581.524,993.136 602.618,993.136 \n",
       "  623.711,1038.39 644.805,1038.39 665.899,1038.39 686.992,1038.39 708.086,1038.39 729.18,947.878 750.273,993.136 771.367,993.136 792.46,993.136 813.554,993.136 \n",
       "  834.648,993.136 855.741,993.136 876.835,993.136 897.929,993.136 919.022,993.136 940.116,993.136 961.209,993.136 982.303,993.136 1003.4,902.62 1024.49,902.62 \n",
       "  1045.58,947.878 1066.68,857.362 1087.77,902.62 1108.86,902.62 1129.96,902.62 1151.05,902.62 1172.15,902.62 1193.24,902.62 1214.33,947.878 1235.43,947.878 \n",
       "  1256.52,947.878 1277.61,993.136 1298.71,1038.39 1319.8,1083.65 1340.89,1083.65 1361.99,1083.65 1383.08,1083.65 1404.18,1083.65 1425.27,1083.65 1446.36,1083.65 \n",
       "  1467.46,1128.91 1488.55,1128.91 1509.64,1128.91 1530.74,1128.91 1551.83,1128.91 1572.92,1174.17 1594.02,1174.17 1615.11,1174.17 1636.21,1174.17 1657.3,1219.43 \n",
       "  1678.39,1128.91 1699.49,1128.91 1720.58,1174.17 1741.67,1174.17 1762.77,1219.43 1783.86,1219.43 1804.95,1219.43 1826.05,1219.43 1847.14,1264.68 1868.24,1264.68 \n",
       "  1889.33,1309.94 1910.42,1309.94 1931.52,1309.94 1952.61,1309.94 1973.7,1355.2 1994.8,1400.46 2015.89,1445.72 2036.98,1445.72 2058.08,1445.72 2079.17,1445.72 \n",
       "  2100.27,1445.72 2121.36,1445.72 2142.45,1445.72 2163.55,1445.72 2184.64,1445.72 2205.73,1445.72 2226.83,1445.72 2247.92,1445.72 2269.01,1445.72 2290.11,1445.72 \n",
       "  \n",
       "  \"/>\n",
       "<polyline clip-path=\"url(#clip562)\" style=\"stroke:#008000; stroke-width:4; stroke-opacity:1; fill:none\" points=\"\n",
       "  201.839,404.782 222.933,676.33 244.026,902.62 265.12,993.136 286.213,993.136 307.307,1128.91 328.401,1128.91 349.494,1128.91 370.588,1128.91 391.682,1219.43 \n",
       "  412.775,1174.17 433.869,1128.91 454.962,1083.65 476.056,1038.39 497.15,1038.39 518.243,993.136 539.337,947.878 560.431,947.878 581.524,902.62 602.618,902.62 \n",
       "  623.711,857.362 644.805,993.136 665.899,1083.65 686.992,1174.17 708.086,1174.17 729.18,1174.17 750.273,1128.91 771.367,1219.43 792.46,1174.17 813.554,1174.17 \n",
       "  834.648,1264.68 855.741,1264.68 876.835,1219.43 897.929,1309.94 919.022,1309.94 940.116,1264.68 961.209,1264.68 982.303,1219.43 1003.4,1219.43 1024.49,1309.94 \n",
       "  1045.58,1264.68 1066.68,1264.68 1087.77,1219.43 1108.86,1174.17 1129.96,1128.91 1151.05,1083.65 1172.15,1083.65 1193.24,1083.65 1214.33,1038.39 1235.43,993.136 \n",
       "  1256.52,993.136 1277.61,947.878 1298.71,902.62 1319.8,857.362 1340.89,947.878 1361.99,1038.39 1383.08,1128.91 1404.18,1083.65 1425.27,1083.65 1446.36,1174.17 \n",
       "  1467.46,1128.91 1488.55,1219.43 1509.64,1309.94 1530.74,1264.68 1551.83,1355.2 1572.92,1309.94 1594.02,1264.68 1615.11,1264.68 1636.21,1174.17 1657.3,1128.91 \n",
       "  1678.39,1128.91 1699.49,1219.43 1720.58,1174.17 1741.67,1128.91 1762.77,1083.65 1783.86,1174.17 1804.95,1128.91 1826.05,1083.65 1847.14,1038.39 1868.24,947.878 \n",
       "  1889.33,902.62 1910.42,993.136 1931.52,993.136 1952.61,947.878 1973.7,902.62 1994.8,857.362 2015.89,812.104 2036.98,766.846 2058.08,857.362 2079.17,766.846 \n",
       "  2100.27,676.33 2121.36,631.072 2142.45,721.588 2163.55,721.588 2184.64,812.104 2205.73,812.104 2226.83,721.588 2247.92,676.33 2269.01,631.072 2290.11,540.556 \n",
       "  \n",
       "  \"/>\n",
       "<path clip-path=\"url(#clip560)\" d=\"\n",
       "M1827 276.658 L2278.97 276.658 L2278.97 95.2176 L1827 95.2176  Z\n",
       "  \" fill=\"#ffffff\" fill-rule=\"evenodd\" fill-opacity=\"1\"/>\n",
       "<polyline clip-path=\"url(#clip560)\" style=\"stroke:#000000; stroke-width:4; stroke-opacity:1; fill:none\" points=\"\n",
       "  1827,276.658 2278.97,276.658 2278.97,95.2176 1827,95.2176 1827,276.658 \n",
       "  \"/>\n",
       "<polyline clip-path=\"url(#clip560)\" style=\"stroke:#800080; stroke-width:4; stroke-opacity:1; fill:none\" points=\"\n",
       "  1851.6,155.698 1999.17,155.698 \n",
       "  \"/>\n",
       "<path clip-path=\"url(#clip560)\" d=\"M 0 0 M2042.67 159.714 Q2042.67 155.084 2040.75 152.538 Q2038.86 149.992 2035.41 149.992 Q2031.98 149.992 2030.06 152.538 Q2028.16 155.084 2028.16 159.714 Q2028.16 164.32 2030.06 166.866 Q2031.98 169.413 2035.41 169.413 Q2038.86 169.413 2040.75 166.866 Q2042.67 164.32 2042.67 159.714 M2046.93 169.76 Q2046.93 176.38 2043.99 179.598 Q2041.05 182.839 2034.99 182.839 Q2032.74 182.839 2030.75 182.491 Q2028.76 182.167 2026.89 181.473 L2026.89 177.329 Q2028.76 178.348 2030.59 178.834 Q2032.42 179.32 2034.32 179.32 Q2038.51 179.32 2040.59 177.121 Q2042.67 174.945 2042.67 170.524 L2042.67 168.417 Q2041.36 170.709 2039.29 171.843 Q2037.23 172.978 2034.36 172.978 Q2029.6 172.978 2026.68 169.343 Q2023.76 165.709 2023.76 159.714 Q2023.76 153.695 2026.68 150.061 Q2029.6 146.427 2034.36 146.427 Q2037.23 146.427 2039.29 147.561 Q2041.36 148.695 2042.67 150.987 L2042.67 147.052 L2046.93 147.052 L2046.93 169.76 Z\" fill=\"#000000\" fill-rule=\"evenodd\" fill-opacity=\"1\" /><path clip-path=\"url(#clip560)\" d=\"M 0 0 M2061.45 150.038 Q2058.02 150.038 2056.03 152.723 Q2054.04 155.385 2054.04 160.038 Q2054.04 164.691 2056.01 167.376 Q2058 170.038 2061.45 170.038 Q2064.85 170.038 2066.84 167.353 Q2068.83 164.667 2068.83 160.038 Q2068.83 155.431 2066.84 152.746 Q2064.85 150.038 2061.45 150.038 M2061.45 146.427 Q2067 146.427 2070.17 150.038 Q2073.35 153.649 2073.35 160.038 Q2073.35 166.404 2070.17 170.038 Q2067 173.649 2061.45 173.649 Q2055.87 173.649 2052.7 170.038 Q2049.55 166.404 2049.55 160.038 Q2049.55 153.649 2052.7 150.038 Q2055.87 146.427 2061.45 146.427 Z\" fill=\"#000000\" fill-rule=\"evenodd\" fill-opacity=\"1\" /><path clip-path=\"url(#clip560)\" d=\"M 0 0 M2077.95 136.959 L2082.21 136.959 L2082.21 150.894 L2085.1 148.811 L2086.86 151.265 L2082.21 154.529 L2082.21 172.978 L2077.95 172.978 L2077.95 157.561 L2075.1 159.598 L2073.39 157.144 L2077.95 153.88 L2077.95 136.959 Z\" fill=\"#000000\" fill-rule=\"evenodd\" fill-opacity=\"1\" /><path clip-path=\"url(#clip560)\" d=\"M 0 0 M2113.51 158.95 L2113.51 161.033 L2093.92 161.033 Q2094.2 165.431 2096.56 167.746 Q2098.95 170.038 2103.18 170.038 Q2105.64 170.038 2107.93 169.436 Q2110.24 168.834 2112.51 167.63 L2112.51 171.658 Q2110.22 172.63 2107.81 173.14 Q2105.41 173.649 2102.93 173.649 Q2096.73 173.649 2093.09 170.038 Q2089.48 166.427 2089.48 160.269 Q2089.48 153.904 2092.91 150.177 Q2096.35 146.427 2102.19 146.427 Q2107.42 146.427 2110.45 149.806 Q2113.51 153.163 2113.51 158.95 M2109.25 157.7 Q2109.2 154.205 2107.28 152.121 Q2105.38 150.038 2102.23 150.038 Q2098.67 150.038 2096.52 152.052 Q2094.39 154.066 2094.06 157.723 L2109.25 157.7 M2105.75 172.978 L2108.51 172.978 Q2107.47 174.39 2106.96 175.408 Q2106.47 176.427 2106.47 177.144 Q2106.47 178.209 2107.1 178.741 Q2107.74 179.274 2108.99 179.274 Q2109.73 179.274 2110.45 179.089 Q2111.17 178.927 2111.89 178.579 L2111.89 181.658 Q2111.01 181.89 2110.22 182.005 Q2109.43 182.121 2108.74 182.121 Q2105.91 182.121 2104.57 181.103 Q2103.25 180.107 2103.25 177.954 Q2103.25 176.843 2103.85 175.616 Q2104.48 174.413 2105.75 172.978 Z\" fill=\"#000000\" fill-rule=\"evenodd\" fill-opacity=\"1\" /><path clip-path=\"url(#clip560)\" d=\"M 0 0 M2136.59 160.038 Q2136.59 155.339 2134.64 152.677 Q2132.72 149.992 2129.34 149.992 Q2125.96 149.992 2124.02 152.677 Q2122.1 155.339 2122.1 160.038 Q2122.1 164.737 2124.02 167.422 Q2125.96 170.084 2129.34 170.084 Q2132.72 170.084 2134.64 167.422 Q2136.59 164.737 2136.59 160.038 M2122.1 150.987 Q2123.44 148.672 2125.48 147.561 Q2127.54 146.427 2130.38 146.427 Q2135.1 146.427 2138.04 150.177 Q2141.01 153.927 2141.01 160.038 Q2141.01 166.149 2138.04 169.899 Q2135.1 173.649 2130.38 173.649 Q2127.54 173.649 2125.48 172.538 Q2123.44 171.403 2122.1 169.089 L2122.1 172.978 L2117.81 172.978 L2117.81 136.959 L2122.1 136.959 L2122.1 150.987 Z\" fill=\"#000000\" fill-rule=\"evenodd\" fill-opacity=\"1\" /><path clip-path=\"url(#clip560)\" d=\"M 0 0 M2145.47 147.052 L2149.73 147.052 L2149.73 172.978 L2145.47 172.978 L2145.47 147.052 M2145.47 136.959 L2149.73 136.959 L2149.73 142.353 L2145.47 142.353 L2145.47 136.959 Z\" fill=\"#000000\" fill-rule=\"evenodd\" fill-opacity=\"1\" /><path clip-path=\"url(#clip560)\" d=\"M 0 0 M2176.38 158.95 L2176.38 161.033 L2156.79 161.033 Q2157.07 165.431 2159.43 167.746 Q2161.82 170.038 2166.05 170.038 Q2168.51 170.038 2170.8 169.436 Q2173.11 168.834 2175.38 167.63 L2175.38 171.658 Q2173.09 172.63 2170.68 173.14 Q2168.28 173.649 2165.8 173.649 Q2159.6 173.649 2155.96 170.038 Q2152.35 166.427 2152.35 160.269 Q2152.35 153.904 2155.78 150.177 Q2159.22 146.427 2165.06 146.427 Q2170.29 146.427 2173.32 149.806 Q2176.38 153.163 2176.38 158.95 M2172.12 157.7 Q2172.07 154.205 2170.15 152.121 Q2168.25 150.038 2165.1 150.038 Q2161.54 150.038 2159.39 152.052 Q2157.26 154.066 2156.93 157.723 L2172.12 157.7 Z\" fill=\"#000000\" fill-rule=\"evenodd\" fill-opacity=\"1\" /><polyline clip-path=\"url(#clip560)\" style=\"stroke:#008000; stroke-width:4; stroke-opacity:1; fill:none\" points=\"\n",
       "  1851.6,216.178 1999.17,216.178 \n",
       "  \"/>\n",
       "<path clip-path=\"url(#clip560)\" d=\"M 0 0 M2029.09 207.532 L2033.35 207.532 L2033.35 233.921 Q2033.35 238.874 2031.45 241.096 Q2029.57 243.319 2025.38 243.319 L2023.76 243.319 L2023.76 239.708 L2024.9 239.708 Q2027.33 239.708 2028.21 238.573 Q2029.09 237.462 2029.09 233.921 L2029.09 207.532 M2029.09 197.439 L2033.35 197.439 L2033.35 202.833 L2029.09 202.833 L2029.09 197.439 Z\" fill=\"#000000\" fill-rule=\"evenodd\" fill-opacity=\"1\" /><path clip-path=\"url(#clip560)\" d=\"M 0 0 M2049.6 220.425 Q2044.43 220.425 2042.44 221.606 Q2040.45 222.786 2040.45 225.634 Q2040.45 227.902 2041.93 229.245 Q2043.44 230.564 2046.01 230.564 Q2049.55 230.564 2051.68 228.064 Q2053.83 225.541 2053.83 221.374 L2053.83 220.425 L2049.6 220.425 M2058.09 218.666 L2058.09 233.458 L2053.83 233.458 L2053.83 229.522 Q2052.37 231.883 2050.2 233.018 Q2048.02 234.129 2044.87 234.129 Q2040.89 234.129 2038.53 231.907 Q2036.19 229.661 2036.19 225.911 Q2036.19 221.536 2039.11 219.314 Q2042.05 217.092 2047.86 217.092 L2053.83 217.092 L2053.83 216.675 Q2053.83 213.735 2051.89 212.138 Q2049.97 210.518 2046.47 210.518 Q2044.25 210.518 2042.14 211.05 Q2040.04 211.583 2038.09 212.647 L2038.09 208.712 Q2040.43 207.81 2042.63 207.37 Q2044.83 206.907 2046.91 206.907 Q2052.54 206.907 2055.31 209.823 Q2058.09 212.74 2058.09 218.666 Z\" fill=\"#000000\" fill-rule=\"evenodd\" fill-opacity=\"1\" /><path clip-path=\"url(#clip560)\" d=\"M 0 0 M2079.09 208.296 L2079.09 212.323 Q2077.28 211.397 2075.34 210.935 Q2073.39 210.472 2071.31 210.472 Q2068.14 210.472 2066.54 211.444 Q2064.97 212.416 2064.97 214.36 Q2064.97 215.842 2066.1 216.698 Q2067.23 217.532 2070.66 218.296 L2072.12 218.62 Q2076.66 219.592 2078.55 221.374 Q2080.48 223.134 2080.48 226.305 Q2080.48 229.916 2077.6 232.022 Q2074.76 234.129 2069.76 234.129 Q2067.67 234.129 2065.41 233.712 Q2063.16 233.319 2060.66 232.508 L2060.66 228.11 Q2063.02 229.337 2065.31 229.962 Q2067.61 230.564 2069.85 230.564 Q2072.86 230.564 2074.48 229.546 Q2076.1 228.504 2076.1 226.629 Q2076.1 224.893 2074.92 223.967 Q2073.76 223.041 2069.8 222.184 L2068.32 221.837 Q2064.36 221.004 2062.61 219.291 Q2060.85 217.555 2060.85 214.546 Q2060.85 210.888 2063.44 208.898 Q2066.03 206.907 2070.8 206.907 Q2073.16 206.907 2075.24 207.254 Q2077.33 207.601 2079.09 208.296 Z\" fill=\"#000000\" fill-rule=\"evenodd\" fill-opacity=\"1\" /><path clip-path=\"url(#clip560)\" d=\"M 0 0 M2089.16 200.171 L2089.16 207.532 L2097.93 207.532 L2097.93 210.842 L2089.16 210.842 L2089.16 224.916 Q2089.16 228.087 2090.01 228.99 Q2090.89 229.893 2093.55 229.893 L2097.93 229.893 L2097.93 233.458 L2093.55 233.458 Q2088.62 233.458 2086.75 231.629 Q2084.87 229.777 2084.87 224.916 L2084.87 210.842 L2081.75 210.842 L2081.75 207.532 L2084.87 207.532 L2084.87 200.171 L2089.16 200.171 Z\" fill=\"#000000\" fill-rule=\"evenodd\" fill-opacity=\"1\" /><path clip-path=\"url(#clip560)\" d=\"M 0 0 M2117.42 211.513 Q2116.7 211.097 2115.85 210.911 Q2115.01 210.703 2113.99 210.703 Q2110.38 210.703 2108.44 213.064 Q2106.52 215.402 2106.52 219.8 L2106.52 233.458 L2102.23 233.458 L2102.23 207.532 L2106.52 207.532 L2106.52 211.56 Q2107.86 209.198 2110.01 208.064 Q2112.16 206.907 2115.24 206.907 Q2115.68 206.907 2116.22 206.976 Q2116.75 207.023 2117.4 207.138 L2117.42 211.513 Z\" fill=\"#000000\" fill-rule=\"evenodd\" fill-opacity=\"1\" /><path clip-path=\"url(#clip560)\" d=\"M 0 0 M2120.04 207.532 L2140.27 207.532 L2140.27 211.421 L2124.25 230.055 L2140.27 230.055 L2140.27 233.458 L2119.46 233.458 L2119.46 229.569 L2135.48 210.935 L2120.04 210.935 L2120.04 207.532 Z\" fill=\"#000000\" fill-rule=\"evenodd\" fill-opacity=\"1\" /><path clip-path=\"url(#clip560)\" d=\"M 0 0 M2166.91 219.43 L2166.91 221.513 L2147.33 221.513 Q2147.6 225.911 2149.97 228.226 Q2152.35 230.518 2156.59 230.518 Q2159.04 230.518 2161.33 229.916 Q2163.65 229.314 2165.91 228.11 L2165.91 232.138 Q2163.62 233.11 2161.22 233.62 Q2158.81 234.129 2156.33 234.129 Q2150.13 234.129 2146.49 230.518 Q2142.88 226.907 2142.88 220.749 Q2142.88 214.384 2146.31 210.657 Q2149.76 206.907 2155.59 206.907 Q2160.82 206.907 2163.85 210.286 Q2166.91 213.643 2166.91 219.43 M2162.65 218.18 Q2162.6 214.685 2160.68 212.601 Q2158.79 210.518 2155.64 210.518 Q2152.07 210.518 2149.92 212.532 Q2147.79 214.546 2147.47 218.203 L2162.65 218.18 M2159.16 233.458 L2161.91 233.458 Q2160.87 234.87 2160.36 235.888 Q2159.87 236.907 2159.87 237.624 Q2159.87 238.689 2160.5 239.221 Q2161.15 239.754 2162.4 239.754 Q2163.14 239.754 2163.85 239.569 Q2164.57 239.407 2165.29 239.059 L2165.29 242.138 Q2164.41 242.37 2163.62 242.485 Q2162.84 242.601 2162.14 242.601 Q2159.32 242.601 2157.97 241.583 Q2156.66 240.587 2156.66 238.434 Q2156.66 237.323 2157.26 236.096 Q2157.88 234.893 2159.16 233.458 Z\" fill=\"#000000\" fill-rule=\"evenodd\" fill-opacity=\"1\" /><path clip-path=\"url(#clip560)\" d=\"M 0 0 M2189.99 220.518 Q2189.99 215.819 2188.04 213.157 Q2186.12 210.472 2182.74 210.472 Q2179.36 210.472 2177.42 213.157 Q2175.5 215.819 2175.5 220.518 Q2175.5 225.217 2177.42 227.902 Q2179.36 230.564 2182.74 230.564 Q2186.12 230.564 2188.04 227.902 Q2189.99 225.217 2189.99 220.518 M2175.5 211.467 Q2176.84 209.152 2178.88 208.041 Q2180.94 206.907 2183.78 206.907 Q2188.51 206.907 2191.45 210.657 Q2194.41 214.407 2194.41 220.518 Q2194.41 226.629 2191.45 230.379 Q2188.51 234.129 2183.78 234.129 Q2180.94 234.129 2178.88 233.018 Q2176.84 231.883 2175.5 229.569 L2175.5 233.458 L2171.22 233.458 L2171.22 197.439 L2175.5 197.439 L2175.5 211.467 Z\" fill=\"#000000\" fill-rule=\"evenodd\" fill-opacity=\"1\" /><path clip-path=\"url(#clip560)\" d=\"M 0 0 M2198.88 207.532 L2203.14 207.532 L2203.14 233.458 L2198.88 233.458 L2198.88 207.532 M2198.88 197.439 L2203.14 197.439 L2203.14 202.833 L2198.88 202.833 L2198.88 197.439 Z\" fill=\"#000000\" fill-rule=\"evenodd\" fill-opacity=\"1\" /><path clip-path=\"url(#clip560)\" d=\"M 0 0 M2229.78 219.43 L2229.78 221.513 L2210.2 221.513 Q2210.47 225.911 2212.84 228.226 Q2215.22 230.518 2219.46 230.518 Q2221.91 230.518 2224.2 229.916 Q2226.52 229.314 2228.78 228.11 L2228.78 232.138 Q2226.49 233.11 2224.09 233.62 Q2221.68 234.129 2219.2 234.129 Q2213 234.129 2209.36 230.518 Q2205.75 226.907 2205.75 220.749 Q2205.75 214.384 2209.18 210.657 Q2212.63 206.907 2218.46 206.907 Q2223.69 206.907 2226.72 210.286 Q2229.78 213.643 2229.78 219.43 M2225.52 218.18 Q2225.47 214.685 2223.55 212.601 Q2221.66 210.518 2218.51 210.518 Q2214.94 210.518 2212.79 212.532 Q2210.66 214.546 2210.34 218.203 L2225.52 218.18 Z\" fill=\"#000000\" fill-rule=\"evenodd\" fill-opacity=\"1\" /></svg>\n"
      ]
     },
     "execution_count": 276,
     "metadata": {},
     "output_type": "execute_result"
    }
   ],
   "source": [
    "wykr(9,9,60,60, 100, zeros(Int64, 100, 2))"
   ]
  },
  {
   "cell_type": "code",
   "execution_count": 291,
   "metadata": {},
   "outputs": [
    {
     "data": {
      "image/svg+xml": [
       "<?xml version=\"1.0\" encoding=\"utf-8\"?>\n",
       "<svg xmlns=\"http://www.w3.org/2000/svg\" xmlns:xlink=\"http://www.w3.org/1999/xlink\" width=\"600\" height=\"400\" viewBox=\"0 0 2400 1600\">\n",
       "<defs>\n",
       "  <clipPath id=\"clip120\">\n",
       "    <rect x=\"0\" y=\"0\" width=\"2400\" height=\"1600\"/>\n",
       "  </clipPath>\n",
       "</defs>\n",
       "<path clip-path=\"url(#clip120)\" d=\"\n",
       "M0 1600 L2400 1600 L2400 0 L0 0  Z\n",
       "  \" fill=\"#ffffff\" fill-rule=\"evenodd\" fill-opacity=\"1\"/>\n",
       "<defs>\n",
       "  <clipPath id=\"clip121\">\n",
       "    <rect x=\"480\" y=\"0\" width=\"1681\" height=\"1600\"/>\n",
       "  </clipPath>\n",
       "</defs>\n",
       "<path clip-path=\"url(#clip120)\" d=\"\n",
       "M139.191 1486.45 L2352.76 1486.45 L2352.76 47.2441 L139.191 47.2441  Z\n",
       "  \" fill=\"#ffffff\" fill-rule=\"evenodd\" fill-opacity=\"1\"/>\n",
       "<defs>\n",
       "  <clipPath id=\"clip122\">\n",
       "    <rect x=\"139\" y=\"47\" width=\"2215\" height=\"1440\"/>\n",
       "  </clipPath>\n",
       "</defs>\n",
       "<polyline clip-path=\"url(#clip122)\" style=\"stroke:#000000; stroke-width:2; stroke-opacity:0.1; fill:none\" points=\"\n",
       "  180.745,1486.45 180.745,47.2441 \n",
       "  \"/>\n",
       "<polyline clip-path=\"url(#clip122)\" style=\"stroke:#000000; stroke-width:2; stroke-opacity:0.1; fill:none\" points=\"\n",
       "  708.086,1486.45 708.086,47.2441 \n",
       "  \"/>\n",
       "<polyline clip-path=\"url(#clip122)\" style=\"stroke:#000000; stroke-width:2; stroke-opacity:0.1; fill:none\" points=\"\n",
       "  1235.43,1486.45 1235.43,47.2441 \n",
       "  \"/>\n",
       "<polyline clip-path=\"url(#clip122)\" style=\"stroke:#000000; stroke-width:2; stroke-opacity:0.1; fill:none\" points=\"\n",
       "  1762.77,1486.45 1762.77,47.2441 \n",
       "  \"/>\n",
       "<polyline clip-path=\"url(#clip122)\" style=\"stroke:#000000; stroke-width:2; stroke-opacity:0.1; fill:none\" points=\"\n",
       "  2290.11,1486.45 2290.11,47.2441 \n",
       "  \"/>\n",
       "<polyline clip-path=\"url(#clip120)\" style=\"stroke:#000000; stroke-width:4; stroke-opacity:1; fill:none\" points=\"\n",
       "  139.191,1486.45 2352.76,1486.45 \n",
       "  \"/>\n",
       "<polyline clip-path=\"url(#clip120)\" style=\"stroke:#000000; stroke-width:4; stroke-opacity:1; fill:none\" points=\"\n",
       "  180.745,1486.45 180.745,1469.18 \n",
       "  \"/>\n",
       "<polyline clip-path=\"url(#clip120)\" style=\"stroke:#000000; stroke-width:4; stroke-opacity:1; fill:none\" points=\"\n",
       "  708.086,1486.45 708.086,1469.18 \n",
       "  \"/>\n",
       "<polyline clip-path=\"url(#clip120)\" style=\"stroke:#000000; stroke-width:4; stroke-opacity:1; fill:none\" points=\"\n",
       "  1235.43,1486.45 1235.43,1469.18 \n",
       "  \"/>\n",
       "<polyline clip-path=\"url(#clip120)\" style=\"stroke:#000000; stroke-width:4; stroke-opacity:1; fill:none\" points=\"\n",
       "  1762.77,1486.45 1762.77,1469.18 \n",
       "  \"/>\n",
       "<polyline clip-path=\"url(#clip120)\" style=\"stroke:#000000; stroke-width:4; stroke-opacity:1; fill:none\" points=\"\n",
       "  2290.11,1486.45 2290.11,1469.18 \n",
       "  \"/>\n",
       "<path clip-path=\"url(#clip120)\" d=\"M 0 0 M180.745 1515.64 Q177.134 1515.64 175.306 1519.2 Q173.5 1522.75 173.5 1529.87 Q173.5 1536.98 175.306 1540.55 Q177.134 1544.09 180.745 1544.09 Q184.38 1544.09 186.185 1540.55 Q188.014 1536.98 188.014 1529.87 Q188.014 1522.75 186.185 1519.2 Q184.38 1515.64 180.745 1515.64 M180.745 1511.93 Q186.556 1511.93 189.611 1516.54 Q192.69 1521.12 192.69 1529.87 Q192.69 1538.6 189.611 1543.21 Q186.556 1547.79 180.745 1547.79 Q174.935 1547.79 171.857 1543.21 Q168.801 1538.6 168.801 1529.87 Q168.801 1521.12 171.857 1516.54 Q174.935 1511.93 180.745 1511.93 Z\" fill=\"#000000\" fill-rule=\"evenodd\" fill-opacity=\"1\" /><path clip-path=\"url(#clip120)\" d=\"M 0 0 M689.73 1543.18 L706.049 1543.18 L706.049 1547.12 L684.105 1547.12 L684.105 1543.18 Q686.767 1540.43 691.35 1535.8 Q695.956 1531.15 697.137 1529.81 Q699.382 1527.28 700.262 1525.55 Q701.165 1523.79 701.165 1522.1 Q701.165 1519.34 699.22 1517.61 Q697.299 1515.87 694.197 1515.87 Q691.998 1515.87 689.544 1516.63 Q687.114 1517.4 684.336 1518.95 L684.336 1514.23 Q687.16 1513.09 689.614 1512.51 Q692.068 1511.93 694.105 1511.93 Q699.475 1511.93 702.669 1514.62 Q705.864 1517.31 705.864 1521.8 Q705.864 1523.93 705.054 1525.85 Q704.267 1527.74 702.16 1530.34 Q701.581 1531.01 698.48 1534.23 Q695.378 1537.42 689.73 1543.18 Z\" fill=\"#000000\" fill-rule=\"evenodd\" fill-opacity=\"1\" /><path clip-path=\"url(#clip120)\" d=\"M 0 0 M711.165 1512.56 L729.521 1512.56 L729.521 1516.5 L715.447 1516.5 L715.447 1524.97 Q716.466 1524.62 717.484 1524.46 Q718.503 1524.27 719.521 1524.27 Q725.308 1524.27 728.688 1527.44 Q732.067 1530.62 732.067 1536.03 Q732.067 1541.61 728.595 1544.71 Q725.123 1547.79 718.804 1547.79 Q716.628 1547.79 714.359 1547.42 Q712.114 1547.05 709.706 1546.31 L709.706 1541.61 Q711.79 1542.74 714.012 1543.3 Q716.234 1543.86 718.711 1543.86 Q722.716 1543.86 725.053 1541.75 Q727.391 1539.64 727.391 1536.03 Q727.391 1532.42 725.053 1530.31 Q722.716 1528.21 718.711 1528.21 Q716.836 1528.21 714.961 1528.62 Q713.109 1529.04 711.165 1529.92 L711.165 1512.56 Z\" fill=\"#000000\" fill-rule=\"evenodd\" fill-opacity=\"1\" /><path clip-path=\"url(#clip120)\" d=\"M 0 0 M1212.2 1512.56 L1230.55 1512.56 L1230.55 1516.5 L1216.48 1516.5 L1216.48 1524.97 Q1217.5 1524.62 1218.52 1524.46 Q1219.54 1524.27 1220.55 1524.27 Q1226.34 1524.27 1229.72 1527.44 Q1233.1 1530.62 1233.1 1536.03 Q1233.1 1541.61 1229.63 1544.71 Q1226.16 1547.79 1219.84 1547.79 Q1217.66 1547.79 1215.39 1547.42 Q1213.15 1547.05 1210.74 1546.31 L1210.74 1541.61 Q1212.82 1542.74 1215.04 1543.3 Q1217.27 1543.86 1219.74 1543.86 Q1223.75 1543.86 1226.09 1541.75 Q1228.42 1539.64 1228.42 1536.03 Q1228.42 1532.42 1226.09 1530.31 Q1223.75 1528.21 1219.74 1528.21 Q1217.87 1528.21 1215.99 1528.62 Q1214.14 1529.04 1212.2 1529.92 L1212.2 1512.56 Z\" fill=\"#000000\" fill-rule=\"evenodd\" fill-opacity=\"1\" /><path clip-path=\"url(#clip120)\" d=\"M 0 0 M1248.17 1515.64 Q1244.56 1515.64 1242.73 1519.2 Q1240.92 1522.75 1240.92 1529.87 Q1240.92 1536.98 1242.73 1540.55 Q1244.56 1544.09 1248.17 1544.09 Q1251.8 1544.09 1253.61 1540.55 Q1255.44 1536.98 1255.44 1529.87 Q1255.44 1522.75 1253.61 1519.2 Q1251.8 1515.64 1248.17 1515.64 M1248.17 1511.93 Q1253.98 1511.93 1257.04 1516.54 Q1260.11 1521.12 1260.11 1529.87 Q1260.11 1538.6 1257.04 1543.21 Q1253.98 1547.79 1248.17 1547.79 Q1242.36 1547.79 1239.28 1543.21 Q1236.23 1538.6 1236.23 1529.87 Q1236.23 1521.12 1239.28 1516.54 Q1242.36 1511.93 1248.17 1511.93 Z\" fill=\"#000000\" fill-rule=\"evenodd\" fill-opacity=\"1\" /><path clip-path=\"url(#clip120)\" d=\"M 0 0 M1738.65 1512.56 L1760.87 1512.56 L1760.87 1514.55 L1748.32 1547.12 L1743.44 1547.12 L1755.24 1516.5 L1738.65 1516.5 L1738.65 1512.56 Z\" fill=\"#000000\" fill-rule=\"evenodd\" fill-opacity=\"1\" /><path clip-path=\"url(#clip120)\" d=\"M 0 0 M1765.98 1512.56 L1784.34 1512.56 L1784.34 1516.5 L1770.27 1516.5 L1770.27 1524.97 Q1771.29 1524.62 1772.3 1524.46 Q1773.32 1524.27 1774.34 1524.27 Q1780.13 1524.27 1783.51 1527.44 Q1786.89 1530.62 1786.89 1536.03 Q1786.89 1541.61 1783.42 1544.71 Q1779.94 1547.79 1773.62 1547.79 Q1771.45 1547.79 1769.18 1547.42 Q1766.93 1547.05 1764.53 1546.31 L1764.53 1541.61 Q1766.61 1542.74 1768.83 1543.3 Q1771.05 1543.86 1773.53 1543.86 Q1777.54 1543.86 1779.87 1541.75 Q1782.21 1539.64 1782.21 1536.03 Q1782.21 1532.42 1779.87 1530.31 Q1777.54 1528.21 1773.53 1528.21 Q1771.66 1528.21 1769.78 1528.62 Q1767.93 1529.04 1765.98 1529.92 L1765.98 1512.56 Z\" fill=\"#000000\" fill-rule=\"evenodd\" fill-opacity=\"1\" /><path clip-path=\"url(#clip120)\" d=\"M 0 0 M2253.48 1543.18 L2261.11 1543.18 L2261.11 1516.82 L2252.8 1518.49 L2252.8 1514.23 L2261.07 1512.56 L2265.74 1512.56 L2265.74 1543.18 L2273.38 1543.18 L2273.38 1547.12 L2253.48 1547.12 L2253.48 1543.18 Z\" fill=\"#000000\" fill-rule=\"evenodd\" fill-opacity=\"1\" /><path clip-path=\"url(#clip120)\" d=\"M 0 0 M2288.45 1515.64 Q2284.84 1515.64 2283.01 1519.2 Q2281.21 1522.75 2281.21 1529.87 Q2281.21 1536.98 2283.01 1540.55 Q2284.84 1544.09 2288.45 1544.09 Q2292.09 1544.09 2293.89 1540.55 Q2295.72 1536.98 2295.72 1529.87 Q2295.72 1522.75 2293.89 1519.2 Q2292.09 1515.64 2288.45 1515.64 M2288.45 1511.93 Q2294.26 1511.93 2297.32 1516.54 Q2300.4 1521.12 2300.4 1529.87 Q2300.4 1538.6 2297.32 1543.21 Q2294.26 1547.79 2288.45 1547.79 Q2282.64 1547.79 2279.56 1543.21 Q2276.51 1538.6 2276.51 1529.87 Q2276.51 1521.12 2279.56 1516.54 Q2282.64 1511.93 2288.45 1511.93 Z\" fill=\"#000000\" fill-rule=\"evenodd\" fill-opacity=\"1\" /><path clip-path=\"url(#clip120)\" d=\"M 0 0 M2315.47 1515.64 Q2311.86 1515.64 2310.03 1519.2 Q2308.22 1522.75 2308.22 1529.87 Q2308.22 1536.98 2310.03 1540.55 Q2311.86 1544.09 2315.47 1544.09 Q2319.1 1544.09 2320.91 1540.55 Q2322.73 1536.98 2322.73 1529.87 Q2322.73 1522.75 2320.91 1519.2 Q2319.1 1515.64 2315.47 1515.64 M2315.47 1511.93 Q2321.28 1511.93 2324.33 1516.54 Q2327.41 1521.12 2327.41 1529.87 Q2327.41 1538.6 2324.33 1543.21 Q2321.28 1547.79 2315.47 1547.79 Q2309.66 1547.79 2306.58 1543.21 Q2303.52 1538.6 2303.52 1529.87 Q2303.52 1521.12 2306.58 1516.54 Q2309.66 1511.93 2315.47 1511.93 Z\" fill=\"#000000\" fill-rule=\"evenodd\" fill-opacity=\"1\" /><polyline clip-path=\"url(#clip122)\" style=\"stroke:#000000; stroke-width:2; stroke-opacity:0.1; fill:none\" points=\"\n",
       "  139.191,1285.98 2352.76,1285.98 \n",
       "  \"/>\n",
       "<polyline clip-path=\"url(#clip122)\" style=\"stroke:#000000; stroke-width:2; stroke-opacity:0.1; fill:none\" points=\"\n",
       "  139.191,886.647 2352.76,886.647 \n",
       "  \"/>\n",
       "<polyline clip-path=\"url(#clip122)\" style=\"stroke:#000000; stroke-width:2; stroke-opacity:0.1; fill:none\" points=\"\n",
       "  139.191,487.311 2352.76,487.311 \n",
       "  \"/>\n",
       "<polyline clip-path=\"url(#clip122)\" style=\"stroke:#000000; stroke-width:2; stroke-opacity:0.1; fill:none\" points=\"\n",
       "  139.191,87.9763 2352.76,87.9763 \n",
       "  \"/>\n",
       "<polyline clip-path=\"url(#clip120)\" style=\"stroke:#000000; stroke-width:4; stroke-opacity:1; fill:none\" points=\"\n",
       "  139.191,1486.45 139.191,47.2441 \n",
       "  \"/>\n",
       "<polyline clip-path=\"url(#clip120)\" style=\"stroke:#000000; stroke-width:4; stroke-opacity:1; fill:none\" points=\"\n",
       "  139.191,1285.98 165.754,1285.98 \n",
       "  \"/>\n",
       "<polyline clip-path=\"url(#clip120)\" style=\"stroke:#000000; stroke-width:4; stroke-opacity:1; fill:none\" points=\"\n",
       "  139.191,886.647 165.754,886.647 \n",
       "  \"/>\n",
       "<polyline clip-path=\"url(#clip120)\" style=\"stroke:#000000; stroke-width:4; stroke-opacity:1; fill:none\" points=\"\n",
       "  139.191,487.311 165.754,487.311 \n",
       "  \"/>\n",
       "<polyline clip-path=\"url(#clip120)\" style=\"stroke:#000000; stroke-width:4; stroke-opacity:1; fill:none\" points=\"\n",
       "  139.191,87.9763 165.754,87.9763 \n",
       "  \"/>\n",
       "<path clip-path=\"url(#clip120)\" d=\"M 0 0 M59.8578 1299.33 L76.1772 1299.33 L76.1772 1303.26 L54.2328 1303.26 L54.2328 1299.33 Q56.8949 1296.57 61.4782 1291.94 Q66.0846 1287.29 67.2652 1285.95 Q69.5105 1283.42 70.3902 1281.69 Q71.2929 1279.93 71.2929 1278.24 Q71.2929 1275.48 69.3485 1273.75 Q67.4272 1272.01 64.3254 1272.01 Q62.1263 1272.01 59.6726 1272.78 Q57.2421 1273.54 54.4643 1275.09 L54.4643 1270.37 Q57.2884 1269.23 59.7421 1268.66 Q62.1958 1268.08 64.2328 1268.08 Q69.6031 1268.08 72.7976 1270.76 Q75.992 1273.45 75.992 1277.94 Q75.992 1280.07 75.1818 1281.99 Q74.3948 1283.89 72.2883 1286.48 Q71.7096 1287.15 68.6078 1290.37 Q65.5059 1293.56 59.8578 1299.33 Z\" fill=\"#000000\" fill-rule=\"evenodd\" fill-opacity=\"1\" /><path clip-path=\"url(#clip120)\" d=\"M 0 0 M91.2465 1271.78 Q87.6354 1271.78 85.8068 1275.35 Q84.0012 1278.89 84.0012 1286.02 Q84.0012 1293.12 85.8068 1296.69 Q87.6354 1300.23 91.2465 1300.23 Q94.8808 1300.23 96.6863 1296.69 Q98.515 1293.12 98.515 1286.02 Q98.515 1278.89 96.6863 1275.35 Q94.8808 1271.78 91.2465 1271.78 M91.2465 1268.08 Q97.0567 1268.08 100.112 1272.68 Q103.191 1277.27 103.191 1286.02 Q103.191 1294.74 100.112 1299.35 Q97.0567 1303.93 91.2465 1303.93 Q85.4364 1303.93 82.3577 1299.35 Q79.3022 1294.74 79.3022 1286.02 Q79.3022 1277.27 82.3577 1272.68 Q85.4364 1268.08 91.2465 1268.08 Z\" fill=\"#000000\" fill-rule=\"evenodd\" fill-opacity=\"1\" /><path clip-path=\"url(#clip120)\" d=\"M 0 0 M69.0476 885.292 Q72.404 886.01 74.279 888.278 Q76.1772 890.547 76.1772 893.88 Q76.1772 898.996 72.6587 901.797 Q69.1402 904.598 62.6587 904.598 Q60.4828 904.598 58.168 904.158 Q55.8764 903.741 53.4227 902.885 L53.4227 898.371 Q55.3671 899.505 57.6819 900.084 Q59.9967 900.663 62.5198 900.663 Q66.918 900.663 69.2096 898.927 Q71.5244 897.19 71.5244 893.88 Q71.5244 890.825 69.3717 889.112 Q67.242 887.376 63.4226 887.376 L59.3949 887.376 L59.3949 883.533 L63.6078 883.533 Q67.0569 883.533 68.8855 882.167 Q70.7142 880.778 70.7142 878.186 Q70.7142 875.524 68.8161 874.112 Q66.9411 872.677 63.4226 872.677 Q61.5013 872.677 59.3023 873.093 Q57.1032 873.51 54.4643 874.39 L54.4643 870.223 Q57.1264 869.482 59.4412 869.112 Q61.7791 868.742 63.8393 868.742 Q69.1633 868.742 72.2652 871.172 Q75.367 873.579 75.367 877.7 Q75.367 880.57 73.7235 882.561 Q72.08 884.528 69.0476 885.292 Z\" fill=\"#000000\" fill-rule=\"evenodd\" fill-opacity=\"1\" /><path clip-path=\"url(#clip120)\" d=\"M 0 0 M91.2465 872.445 Q87.6354 872.445 85.8068 876.01 Q84.0012 879.552 84.0012 886.681 Q84.0012 893.788 85.8068 897.352 Q87.6354 900.894 91.2465 900.894 Q94.8808 900.894 96.6863 897.352 Q98.515 893.788 98.515 886.681 Q98.515 879.552 96.6863 876.01 Q94.8808 872.445 91.2465 872.445 M91.2465 868.742 Q97.0567 868.742 100.112 873.348 Q103.191 877.931 103.191 886.681 Q103.191 895.408 100.112 900.015 Q97.0567 904.598 91.2465 904.598 Q85.4364 904.598 82.3577 900.015 Q79.3022 895.408 79.3022 886.681 Q79.3022 877.931 82.3577 873.348 Q85.4364 868.742 91.2465 868.742 Z\" fill=\"#000000\" fill-rule=\"evenodd\" fill-opacity=\"1\" /><path clip-path=\"url(#clip120)\" d=\"M 0 0 M66.5939 474.105 L54.7884 492.554 L66.5939 492.554 L66.5939 474.105 M65.367 470.031 L71.2466 470.031 L71.2466 492.554 L76.1772 492.554 L76.1772 496.443 L71.2466 496.443 L71.2466 504.591 L66.5939 504.591 L66.5939 496.443 L50.9921 496.443 L50.9921 491.929 L65.367 470.031 Z\" fill=\"#000000\" fill-rule=\"evenodd\" fill-opacity=\"1\" /><path clip-path=\"url(#clip120)\" d=\"M 0 0 M91.2465 473.11 Q87.6354 473.11 85.8068 476.675 Q84.0012 480.217 84.0012 487.346 Q84.0012 494.453 85.8068 498.017 Q87.6354 501.559 91.2465 501.559 Q94.8808 501.559 96.6863 498.017 Q98.515 494.453 98.515 487.346 Q98.515 480.217 96.6863 476.675 Q94.8808 473.11 91.2465 473.11 M91.2465 469.406 Q97.0567 469.406 100.112 474.013 Q103.191 478.596 103.191 487.346 Q103.191 496.073 100.112 500.679 Q97.0567 505.263 91.2465 505.263 Q85.4364 505.263 82.3577 500.679 Q79.3022 496.073 79.3022 487.346 Q79.3022 478.596 82.3577 474.013 Q85.4364 469.406 91.2465 469.406 Z\" fill=\"#000000\" fill-rule=\"evenodd\" fill-opacity=\"1\" /><path clip-path=\"url(#clip120)\" d=\"M 0 0 M55.2745 70.6963 L73.6309 70.6963 L73.6309 74.6314 L59.5569 74.6314 L59.5569 83.1036 Q60.5754 82.7564 61.5939 82.5944 Q62.6124 82.4092 63.6309 82.4092 Q69.418 82.4092 72.7976 85.5805 Q76.1772 88.7517 76.1772 94.1684 Q76.1772 99.747 72.705 102.849 Q69.2328 105.928 62.9134 105.928 Q60.7374 105.928 58.4689 105.557 Q56.2236 105.187 53.8162 104.446 L53.8162 99.747 Q55.8995 100.881 58.1217 101.437 Q60.3439 101.992 62.8208 101.992 Q66.8254 101.992 69.1633 99.8859 Q71.5013 97.7795 71.5013 94.1684 Q71.5013 90.5573 69.1633 88.4508 Q66.8254 86.3443 62.8208 86.3443 Q60.9458 86.3443 59.0708 86.761 Q57.2189 87.1777 55.2745 88.0573 L55.2745 70.6963 Z\" fill=\"#000000\" fill-rule=\"evenodd\" fill-opacity=\"1\" /><path clip-path=\"url(#clip120)\" d=\"M 0 0 M91.2465 73.775 Q87.6354 73.775 85.8068 77.3398 Q84.0012 80.8814 84.0012 88.011 Q84.0012 95.1174 85.8068 98.6822 Q87.6354 102.224 91.2465 102.224 Q94.8808 102.224 96.6863 98.6822 Q98.515 95.1174 98.515 88.011 Q98.515 80.8814 96.6863 77.3398 Q94.8808 73.775 91.2465 73.775 M91.2465 70.0713 Q97.0567 70.0713 100.112 74.6777 Q103.191 79.261 103.191 88.011 Q103.191 96.7378 100.112 101.344 Q97.0567 105.928 91.2465 105.928 Q85.4364 105.928 82.3577 101.344 Q79.3022 96.7378 79.3022 88.011 Q79.3022 79.261 82.3577 74.6777 Q85.4364 70.0713 91.2465 70.0713 Z\" fill=\"#000000\" fill-rule=\"evenodd\" fill-opacity=\"1\" /><polyline clip-path=\"url(#clip122)\" style=\"stroke:#800080; stroke-width:4; stroke-opacity:1; fill:none\" points=\"\n",
       "  201.839,87.9763 222.933,247.71 244.026,407.444 265.12,447.378 286.213,487.311 307.307,527.245 328.401,567.178 349.494,567.178 370.588,567.178 391.682,567.178 \n",
       "  412.775,607.112 433.869,607.112 454.962,607.112 476.056,647.045 497.15,686.979 518.243,686.979 539.337,686.979 560.431,686.979 581.524,686.979 602.618,686.979 \n",
       "  623.711,686.979 644.805,686.979 665.899,686.979 686.992,726.912 708.086,726.912 729.18,766.846 750.273,766.846 771.367,766.846 792.46,766.846 813.554,766.846 \n",
       "  834.648,766.846 855.741,766.846 876.835,806.779 897.929,846.713 919.022,846.713 940.116,846.713 961.209,846.713 982.303,846.713 1003.4,886.647 1024.49,926.58 \n",
       "  1045.58,926.58 1066.68,926.58 1087.77,966.514 1108.86,966.514 1129.96,966.514 1151.05,1006.45 1172.15,1046.38 1193.24,1046.38 1214.33,1046.38 1235.43,1046.38 \n",
       "  1256.52,1046.38 1277.61,1046.38 1298.71,1086.31 1319.8,1086.31 1340.89,1086.31 1361.99,1086.31 1383.08,1126.25 1404.18,1126.25 1425.27,1126.25 1446.36,1126.25 \n",
       "  1467.46,1126.25 1488.55,1126.25 1509.64,1126.25 1530.74,1126.25 1551.83,1126.25 1572.92,1126.25 1594.02,1046.38 1615.11,1046.38 1636.21,1086.31 1657.3,1086.31 \n",
       "  1678.39,1086.31 1699.49,1086.31 1720.58,1086.31 1741.67,1126.25 1762.77,1126.25 1783.86,1166.18 1804.95,1166.18 1826.05,1166.18 1847.14,1086.31 1868.24,1086.31 \n",
       "  1889.33,1086.31 1910.42,1126.25 1931.52,1126.25 1952.61,1166.18 1973.7,1166.18 1994.8,1166.18 2015.89,1086.31 2036.98,1086.31 2058.08,1126.25 2079.17,1126.25 \n",
       "  2100.27,1126.25 2121.36,1126.25 2142.45,1166.18 2163.55,1166.18 2184.64,1166.18 2205.73,1086.31 2226.83,1006.45 2247.92,1006.45 2269.01,1006.45 2290.11,1046.38 \n",
       "  \n",
       "  \"/>\n",
       "<polyline clip-path=\"url(#clip122)\" style=\"stroke:#008000; stroke-width:4; stroke-opacity:1; fill:none\" points=\"\n",
       "  201.839,1206.11 222.933,1405.78 244.026,1405.78 265.12,1405.78 286.213,1445.72 307.307,1405.78 328.401,1405.78 349.494,1405.78 370.588,1365.85 391.682,1365.85 \n",
       "  412.775,1445.72 433.869,1445.72 454.962,1405.78 476.056,1365.85 497.15,1325.92 518.243,1325.92 539.337,1325.92 560.431,1325.92 581.524,1325.92 602.618,1325.92 \n",
       "  623.711,1325.92 644.805,1325.92 665.899,1285.98 686.992,1246.05 708.086,1246.05 729.18,1206.11 750.273,1206.11 771.367,1166.18 792.46,1206.11 813.554,1206.11 \n",
       "  834.648,1206.11 855.741,1285.98 876.835,1246.05 897.929,1206.11 919.022,1166.18 940.116,1166.18 961.209,1166.18 982.303,1126.25 1003.4,1086.31 1024.49,1046.38 \n",
       "  1045.58,1006.45 1066.68,1126.25 1087.77,1086.31 1108.86,1166.18 1129.96,1126.25 1151.05,1086.31 1172.15,1046.38 1193.24,1126.25 1214.33,1086.31 1235.43,1086.31 \n",
       "  1256.52,1046.38 1277.61,1126.25 1298.71,1086.31 1319.8,1166.18 1340.89,1126.25 1361.99,1126.25 1383.08,1086.31 1404.18,1046.38 1425.27,1046.38 1446.36,1126.25 \n",
       "  1467.46,1206.11 1488.55,1285.98 1509.64,1206.11 1530.74,1126.25 1551.83,1206.11 1572.92,1126.25 1594.02,1126.25 1615.11,1126.25 1636.21,1086.31 1657.3,1166.18 \n",
       "  1678.39,1246.05 1699.49,1206.11 1720.58,1126.25 1741.67,1086.31 1762.77,1046.38 1783.86,1006.45 1804.95,1086.31 1826.05,1166.18 1847.14,1166.18 1868.24,1246.05 \n",
       "  1889.33,1246.05 1910.42,1206.11 1931.52,1166.18 1952.61,1126.25 1973.7,1206.11 1994.8,1166.18 2015.89,1166.18 2036.98,1086.31 2058.08,1046.38 2079.17,1126.25 \n",
       "  2100.27,1086.31 2121.36,1046.38 2142.45,1006.45 2163.55,1086.31 2184.64,1166.18 2205.73,1166.18 2226.83,1166.18 2247.92,1086.31 2269.01,1086.31 2290.11,1046.38 \n",
       "  \n",
       "  \"/>\n",
       "<path clip-path=\"url(#clip120)\" d=\"\n",
       "M1827 276.658 L2278.97 276.658 L2278.97 95.2176 L1827 95.2176  Z\n",
       "  \" fill=\"#ffffff\" fill-rule=\"evenodd\" fill-opacity=\"1\"/>\n",
       "<polyline clip-path=\"url(#clip120)\" style=\"stroke:#000000; stroke-width:4; stroke-opacity:1; fill:none\" points=\"\n",
       "  1827,276.658 2278.97,276.658 2278.97,95.2176 1827,95.2176 1827,276.658 \n",
       "  \"/>\n",
       "<polyline clip-path=\"url(#clip120)\" style=\"stroke:#800080; stroke-width:4; stroke-opacity:1; fill:none\" points=\"\n",
       "  1851.6,155.698 1999.17,155.698 \n",
       "  \"/>\n",
       "<path clip-path=\"url(#clip120)\" d=\"M 0 0 M2042.67 159.714 Q2042.67 155.084 2040.75 152.538 Q2038.86 149.992 2035.41 149.992 Q2031.98 149.992 2030.06 152.538 Q2028.16 155.084 2028.16 159.714 Q2028.16 164.32 2030.06 166.866 Q2031.98 169.413 2035.41 169.413 Q2038.86 169.413 2040.75 166.866 Q2042.67 164.32 2042.67 159.714 M2046.93 169.76 Q2046.93 176.38 2043.99 179.598 Q2041.05 182.839 2034.99 182.839 Q2032.74 182.839 2030.75 182.491 Q2028.76 182.167 2026.89 181.473 L2026.89 177.329 Q2028.76 178.348 2030.59 178.834 Q2032.42 179.32 2034.32 179.32 Q2038.51 179.32 2040.59 177.121 Q2042.67 174.945 2042.67 170.524 L2042.67 168.417 Q2041.36 170.709 2039.29 171.843 Q2037.23 172.978 2034.36 172.978 Q2029.6 172.978 2026.68 169.343 Q2023.76 165.709 2023.76 159.714 Q2023.76 153.695 2026.68 150.061 Q2029.6 146.427 2034.36 146.427 Q2037.23 146.427 2039.29 147.561 Q2041.36 148.695 2042.67 150.987 L2042.67 147.052 L2046.93 147.052 L2046.93 169.76 Z\" fill=\"#000000\" fill-rule=\"evenodd\" fill-opacity=\"1\" /><path clip-path=\"url(#clip120)\" d=\"M 0 0 M2061.45 150.038 Q2058.02 150.038 2056.03 152.723 Q2054.04 155.385 2054.04 160.038 Q2054.04 164.691 2056.01 167.376 Q2058 170.038 2061.45 170.038 Q2064.85 170.038 2066.84 167.353 Q2068.83 164.667 2068.83 160.038 Q2068.83 155.431 2066.84 152.746 Q2064.85 150.038 2061.45 150.038 M2061.45 146.427 Q2067 146.427 2070.17 150.038 Q2073.35 153.649 2073.35 160.038 Q2073.35 166.404 2070.17 170.038 Q2067 173.649 2061.45 173.649 Q2055.87 173.649 2052.7 170.038 Q2049.55 166.404 2049.55 160.038 Q2049.55 153.649 2052.7 150.038 Q2055.87 146.427 2061.45 146.427 Z\" fill=\"#000000\" fill-rule=\"evenodd\" fill-opacity=\"1\" /><path clip-path=\"url(#clip120)\" d=\"M 0 0 M2077.95 136.959 L2082.21 136.959 L2082.21 150.894 L2085.1 148.811 L2086.86 151.265 L2082.21 154.529 L2082.21 172.978 L2077.95 172.978 L2077.95 157.561 L2075.1 159.598 L2073.39 157.144 L2077.95 153.88 L2077.95 136.959 Z\" fill=\"#000000\" fill-rule=\"evenodd\" fill-opacity=\"1\" /><path clip-path=\"url(#clip120)\" d=\"M 0 0 M2113.51 158.95 L2113.51 161.033 L2093.92 161.033 Q2094.2 165.431 2096.56 167.746 Q2098.95 170.038 2103.18 170.038 Q2105.64 170.038 2107.93 169.436 Q2110.24 168.834 2112.51 167.63 L2112.51 171.658 Q2110.22 172.63 2107.81 173.14 Q2105.41 173.649 2102.93 173.649 Q2096.73 173.649 2093.09 170.038 Q2089.48 166.427 2089.48 160.269 Q2089.48 153.904 2092.91 150.177 Q2096.35 146.427 2102.19 146.427 Q2107.42 146.427 2110.45 149.806 Q2113.51 153.163 2113.51 158.95 M2109.25 157.7 Q2109.2 154.205 2107.28 152.121 Q2105.38 150.038 2102.23 150.038 Q2098.67 150.038 2096.52 152.052 Q2094.39 154.066 2094.06 157.723 L2109.25 157.7 M2105.75 172.978 L2108.51 172.978 Q2107.47 174.39 2106.96 175.408 Q2106.47 176.427 2106.47 177.144 Q2106.47 178.209 2107.1 178.741 Q2107.74 179.274 2108.99 179.274 Q2109.73 179.274 2110.45 179.089 Q2111.17 178.927 2111.89 178.579 L2111.89 181.658 Q2111.01 181.89 2110.22 182.005 Q2109.43 182.121 2108.74 182.121 Q2105.91 182.121 2104.57 181.103 Q2103.25 180.107 2103.25 177.954 Q2103.25 176.843 2103.85 175.616 Q2104.48 174.413 2105.75 172.978 Z\" fill=\"#000000\" fill-rule=\"evenodd\" fill-opacity=\"1\" /><path clip-path=\"url(#clip120)\" d=\"M 0 0 M2136.59 160.038 Q2136.59 155.339 2134.64 152.677 Q2132.72 149.992 2129.34 149.992 Q2125.96 149.992 2124.02 152.677 Q2122.1 155.339 2122.1 160.038 Q2122.1 164.737 2124.02 167.422 Q2125.96 170.084 2129.34 170.084 Q2132.72 170.084 2134.64 167.422 Q2136.59 164.737 2136.59 160.038 M2122.1 150.987 Q2123.44 148.672 2125.48 147.561 Q2127.54 146.427 2130.38 146.427 Q2135.1 146.427 2138.04 150.177 Q2141.01 153.927 2141.01 160.038 Q2141.01 166.149 2138.04 169.899 Q2135.1 173.649 2130.38 173.649 Q2127.54 173.649 2125.48 172.538 Q2123.44 171.403 2122.1 169.089 L2122.1 172.978 L2117.81 172.978 L2117.81 136.959 L2122.1 136.959 L2122.1 150.987 Z\" fill=\"#000000\" fill-rule=\"evenodd\" fill-opacity=\"1\" /><path clip-path=\"url(#clip120)\" d=\"M 0 0 M2145.47 147.052 L2149.73 147.052 L2149.73 172.978 L2145.47 172.978 L2145.47 147.052 M2145.47 136.959 L2149.73 136.959 L2149.73 142.353 L2145.47 142.353 L2145.47 136.959 Z\" fill=\"#000000\" fill-rule=\"evenodd\" fill-opacity=\"1\" /><path clip-path=\"url(#clip120)\" d=\"M 0 0 M2176.38 158.95 L2176.38 161.033 L2156.79 161.033 Q2157.07 165.431 2159.43 167.746 Q2161.82 170.038 2166.05 170.038 Q2168.51 170.038 2170.8 169.436 Q2173.11 168.834 2175.38 167.63 L2175.38 171.658 Q2173.09 172.63 2170.68 173.14 Q2168.28 173.649 2165.8 173.649 Q2159.6 173.649 2155.96 170.038 Q2152.35 166.427 2152.35 160.269 Q2152.35 153.904 2155.78 150.177 Q2159.22 146.427 2165.06 146.427 Q2170.29 146.427 2173.32 149.806 Q2176.38 153.163 2176.38 158.95 M2172.12 157.7 Q2172.07 154.205 2170.15 152.121 Q2168.25 150.038 2165.1 150.038 Q2161.54 150.038 2159.39 152.052 Q2157.26 154.066 2156.93 157.723 L2172.12 157.7 Z\" fill=\"#000000\" fill-rule=\"evenodd\" fill-opacity=\"1\" /><polyline clip-path=\"url(#clip120)\" style=\"stroke:#008000; stroke-width:4; stroke-opacity:1; fill:none\" points=\"\n",
       "  1851.6,216.178 1999.17,216.178 \n",
       "  \"/>\n",
       "<path clip-path=\"url(#clip120)\" d=\"M 0 0 M2029.09 207.532 L2033.35 207.532 L2033.35 233.921 Q2033.35 238.874 2031.45 241.096 Q2029.57 243.319 2025.38 243.319 L2023.76 243.319 L2023.76 239.708 L2024.9 239.708 Q2027.33 239.708 2028.21 238.573 Q2029.09 237.462 2029.09 233.921 L2029.09 207.532 M2029.09 197.439 L2033.35 197.439 L2033.35 202.833 L2029.09 202.833 L2029.09 197.439 Z\" fill=\"#000000\" fill-rule=\"evenodd\" fill-opacity=\"1\" /><path clip-path=\"url(#clip120)\" d=\"M 0 0 M2049.6 220.425 Q2044.43 220.425 2042.44 221.606 Q2040.45 222.786 2040.45 225.634 Q2040.45 227.902 2041.93 229.245 Q2043.44 230.564 2046.01 230.564 Q2049.55 230.564 2051.68 228.064 Q2053.83 225.541 2053.83 221.374 L2053.83 220.425 L2049.6 220.425 M2058.09 218.666 L2058.09 233.458 L2053.83 233.458 L2053.83 229.522 Q2052.37 231.883 2050.2 233.018 Q2048.02 234.129 2044.87 234.129 Q2040.89 234.129 2038.53 231.907 Q2036.19 229.661 2036.19 225.911 Q2036.19 221.536 2039.11 219.314 Q2042.05 217.092 2047.86 217.092 L2053.83 217.092 L2053.83 216.675 Q2053.83 213.735 2051.89 212.138 Q2049.97 210.518 2046.47 210.518 Q2044.25 210.518 2042.14 211.05 Q2040.04 211.583 2038.09 212.647 L2038.09 208.712 Q2040.43 207.81 2042.63 207.37 Q2044.83 206.907 2046.91 206.907 Q2052.54 206.907 2055.31 209.823 Q2058.09 212.74 2058.09 218.666 Z\" fill=\"#000000\" fill-rule=\"evenodd\" fill-opacity=\"1\" /><path clip-path=\"url(#clip120)\" d=\"M 0 0 M2079.09 208.296 L2079.09 212.323 Q2077.28 211.397 2075.34 210.935 Q2073.39 210.472 2071.31 210.472 Q2068.14 210.472 2066.54 211.444 Q2064.97 212.416 2064.97 214.36 Q2064.97 215.842 2066.1 216.698 Q2067.23 217.532 2070.66 218.296 L2072.12 218.62 Q2076.66 219.592 2078.55 221.374 Q2080.48 223.134 2080.48 226.305 Q2080.48 229.916 2077.6 232.022 Q2074.76 234.129 2069.76 234.129 Q2067.67 234.129 2065.41 233.712 Q2063.16 233.319 2060.66 232.508 L2060.66 228.11 Q2063.02 229.337 2065.31 229.962 Q2067.61 230.564 2069.85 230.564 Q2072.86 230.564 2074.48 229.546 Q2076.1 228.504 2076.1 226.629 Q2076.1 224.893 2074.92 223.967 Q2073.76 223.041 2069.8 222.184 L2068.32 221.837 Q2064.36 221.004 2062.61 219.291 Q2060.85 217.555 2060.85 214.546 Q2060.85 210.888 2063.44 208.898 Q2066.03 206.907 2070.8 206.907 Q2073.16 206.907 2075.24 207.254 Q2077.33 207.601 2079.09 208.296 Z\" fill=\"#000000\" fill-rule=\"evenodd\" fill-opacity=\"1\" /><path clip-path=\"url(#clip120)\" d=\"M 0 0 M2089.16 200.171 L2089.16 207.532 L2097.93 207.532 L2097.93 210.842 L2089.16 210.842 L2089.16 224.916 Q2089.16 228.087 2090.01 228.99 Q2090.89 229.893 2093.55 229.893 L2097.93 229.893 L2097.93 233.458 L2093.55 233.458 Q2088.62 233.458 2086.75 231.629 Q2084.87 229.777 2084.87 224.916 L2084.87 210.842 L2081.75 210.842 L2081.75 207.532 L2084.87 207.532 L2084.87 200.171 L2089.16 200.171 Z\" fill=\"#000000\" fill-rule=\"evenodd\" fill-opacity=\"1\" /><path clip-path=\"url(#clip120)\" d=\"M 0 0 M2117.42 211.513 Q2116.7 211.097 2115.85 210.911 Q2115.01 210.703 2113.99 210.703 Q2110.38 210.703 2108.44 213.064 Q2106.52 215.402 2106.52 219.8 L2106.52 233.458 L2102.23 233.458 L2102.23 207.532 L2106.52 207.532 L2106.52 211.56 Q2107.86 209.198 2110.01 208.064 Q2112.16 206.907 2115.24 206.907 Q2115.68 206.907 2116.22 206.976 Q2116.75 207.023 2117.4 207.138 L2117.42 211.513 Z\" fill=\"#000000\" fill-rule=\"evenodd\" fill-opacity=\"1\" /><path clip-path=\"url(#clip120)\" d=\"M 0 0 M2120.04 207.532 L2140.27 207.532 L2140.27 211.421 L2124.25 230.055 L2140.27 230.055 L2140.27 233.458 L2119.46 233.458 L2119.46 229.569 L2135.48 210.935 L2120.04 210.935 L2120.04 207.532 Z\" fill=\"#000000\" fill-rule=\"evenodd\" fill-opacity=\"1\" /><path clip-path=\"url(#clip120)\" d=\"M 0 0 M2166.91 219.43 L2166.91 221.513 L2147.33 221.513 Q2147.6 225.911 2149.97 228.226 Q2152.35 230.518 2156.59 230.518 Q2159.04 230.518 2161.33 229.916 Q2163.65 229.314 2165.91 228.11 L2165.91 232.138 Q2163.62 233.11 2161.22 233.62 Q2158.81 234.129 2156.33 234.129 Q2150.13 234.129 2146.49 230.518 Q2142.88 226.907 2142.88 220.749 Q2142.88 214.384 2146.31 210.657 Q2149.76 206.907 2155.59 206.907 Q2160.82 206.907 2163.85 210.286 Q2166.91 213.643 2166.91 219.43 M2162.65 218.18 Q2162.6 214.685 2160.68 212.601 Q2158.79 210.518 2155.64 210.518 Q2152.07 210.518 2149.92 212.532 Q2147.79 214.546 2147.47 218.203 L2162.65 218.18 M2159.16 233.458 L2161.91 233.458 Q2160.87 234.87 2160.36 235.888 Q2159.87 236.907 2159.87 237.624 Q2159.87 238.689 2160.5 239.221 Q2161.15 239.754 2162.4 239.754 Q2163.14 239.754 2163.85 239.569 Q2164.57 239.407 2165.29 239.059 L2165.29 242.138 Q2164.41 242.37 2163.62 242.485 Q2162.84 242.601 2162.14 242.601 Q2159.32 242.601 2157.97 241.583 Q2156.66 240.587 2156.66 238.434 Q2156.66 237.323 2157.26 236.096 Q2157.88 234.893 2159.16 233.458 Z\" fill=\"#000000\" fill-rule=\"evenodd\" fill-opacity=\"1\" /><path clip-path=\"url(#clip120)\" d=\"M 0 0 M2189.99 220.518 Q2189.99 215.819 2188.04 213.157 Q2186.12 210.472 2182.74 210.472 Q2179.36 210.472 2177.42 213.157 Q2175.5 215.819 2175.5 220.518 Q2175.5 225.217 2177.42 227.902 Q2179.36 230.564 2182.74 230.564 Q2186.12 230.564 2188.04 227.902 Q2189.99 225.217 2189.99 220.518 M2175.5 211.467 Q2176.84 209.152 2178.88 208.041 Q2180.94 206.907 2183.78 206.907 Q2188.51 206.907 2191.45 210.657 Q2194.41 214.407 2194.41 220.518 Q2194.41 226.629 2191.45 230.379 Q2188.51 234.129 2183.78 234.129 Q2180.94 234.129 2178.88 233.018 Q2176.84 231.883 2175.5 229.569 L2175.5 233.458 L2171.22 233.458 L2171.22 197.439 L2175.5 197.439 L2175.5 211.467 Z\" fill=\"#000000\" fill-rule=\"evenodd\" fill-opacity=\"1\" /><path clip-path=\"url(#clip120)\" d=\"M 0 0 M2198.88 207.532 L2203.14 207.532 L2203.14 233.458 L2198.88 233.458 L2198.88 207.532 M2198.88 197.439 L2203.14 197.439 L2203.14 202.833 L2198.88 202.833 L2198.88 197.439 Z\" fill=\"#000000\" fill-rule=\"evenodd\" fill-opacity=\"1\" /><path clip-path=\"url(#clip120)\" d=\"M 0 0 M2229.78 219.43 L2229.78 221.513 L2210.2 221.513 Q2210.47 225.911 2212.84 228.226 Q2215.22 230.518 2219.46 230.518 Q2221.91 230.518 2224.2 229.916 Q2226.52 229.314 2228.78 228.11 L2228.78 232.138 Q2226.49 233.11 2224.09 233.62 Q2221.68 234.129 2219.2 234.129 Q2213 234.129 2209.36 230.518 Q2205.75 226.907 2205.75 220.749 Q2205.75 214.384 2209.18 210.657 Q2212.63 206.907 2218.46 206.907 Q2223.69 206.907 2226.72 210.286 Q2229.78 213.643 2229.78 219.43 M2225.52 218.18 Q2225.47 214.685 2223.55 212.601 Q2221.66 210.518 2218.51 210.518 Q2214.94 210.518 2212.79 212.532 Q2210.66 214.546 2210.34 218.203 L2225.52 218.18 Z\" fill=\"#000000\" fill-rule=\"evenodd\" fill-opacity=\"1\" /></svg>\n"
      ]
     },
     "execution_count": 291,
     "metadata": {},
     "output_type": "execute_result"
    }
   ],
   "source": [
    "wykr(9,9,60,30, 100, zeros(Int64, 100, 2))"
   ]
  },
  {
   "cell_type": "markdown",
   "metadata": {},
   "source": [
    "## zachowanie w środowisku z ograniczonym dostępem do pakietów"
   ]
  },
  {
   "cell_type": "code",
   "execution_count": 288,
   "metadata": {},
   "outputs": [
    {
     "data": {
      "image/svg+xml": [
       "<?xml version=\"1.0\" encoding=\"utf-8\"?>\n",
       "<svg xmlns=\"http://www.w3.org/2000/svg\" xmlns:xlink=\"http://www.w3.org/1999/xlink\" width=\"600\" height=\"400\" viewBox=\"0 0 2400 1600\">\n",
       "<defs>\n",
       "  <clipPath id=\"clip000\">\n",
       "    <rect x=\"0\" y=\"0\" width=\"2400\" height=\"1600\"/>\n",
       "  </clipPath>\n",
       "</defs>\n",
       "<path clip-path=\"url(#clip000)\" d=\"\n",
       "M0 1600 L2400 1600 L2400 0 L0 0  Z\n",
       "  \" fill=\"#ffffff\" fill-rule=\"evenodd\" fill-opacity=\"1\"/>\n",
       "<defs>\n",
       "  <clipPath id=\"clip001\">\n",
       "    <rect x=\"480\" y=\"0\" width=\"1681\" height=\"1600\"/>\n",
       "  </clipPath>\n",
       "</defs>\n",
       "<path clip-path=\"url(#clip000)\" d=\"\n",
       "M139.191 1486.45 L2352.76 1486.45 L2352.76 47.2441 L139.191 47.2441  Z\n",
       "  \" fill=\"#ffffff\" fill-rule=\"evenodd\" fill-opacity=\"1\"/>\n",
       "<defs>\n",
       "  <clipPath id=\"clip002\">\n",
       "    <rect x=\"139\" y=\"47\" width=\"2215\" height=\"1440\"/>\n",
       "  </clipPath>\n",
       "</defs>\n",
       "<polyline clip-path=\"url(#clip002)\" style=\"stroke:#000000; stroke-width:2; stroke-opacity:0.1; fill:none\" points=\"\n",
       "  180.745,1486.45 180.745,47.2441 \n",
       "  \"/>\n",
       "<polyline clip-path=\"url(#clip002)\" style=\"stroke:#000000; stroke-width:2; stroke-opacity:0.1; fill:none\" points=\"\n",
       "  708.086,1486.45 708.086,47.2441 \n",
       "  \"/>\n",
       "<polyline clip-path=\"url(#clip002)\" style=\"stroke:#000000; stroke-width:2; stroke-opacity:0.1; fill:none\" points=\"\n",
       "  1235.43,1486.45 1235.43,47.2441 \n",
       "  \"/>\n",
       "<polyline clip-path=\"url(#clip002)\" style=\"stroke:#000000; stroke-width:2; stroke-opacity:0.1; fill:none\" points=\"\n",
       "  1762.77,1486.45 1762.77,47.2441 \n",
       "  \"/>\n",
       "<polyline clip-path=\"url(#clip002)\" style=\"stroke:#000000; stroke-width:2; stroke-opacity:0.1; fill:none\" points=\"\n",
       "  2290.11,1486.45 2290.11,47.2441 \n",
       "  \"/>\n",
       "<polyline clip-path=\"url(#clip000)\" style=\"stroke:#000000; stroke-width:4; stroke-opacity:1; fill:none\" points=\"\n",
       "  139.191,1486.45 2352.76,1486.45 \n",
       "  \"/>\n",
       "<polyline clip-path=\"url(#clip000)\" style=\"stroke:#000000; stroke-width:4; stroke-opacity:1; fill:none\" points=\"\n",
       "  180.745,1486.45 180.745,1469.18 \n",
       "  \"/>\n",
       "<polyline clip-path=\"url(#clip000)\" style=\"stroke:#000000; stroke-width:4; stroke-opacity:1; fill:none\" points=\"\n",
       "  708.086,1486.45 708.086,1469.18 \n",
       "  \"/>\n",
       "<polyline clip-path=\"url(#clip000)\" style=\"stroke:#000000; stroke-width:4; stroke-opacity:1; fill:none\" points=\"\n",
       "  1235.43,1486.45 1235.43,1469.18 \n",
       "  \"/>\n",
       "<polyline clip-path=\"url(#clip000)\" style=\"stroke:#000000; stroke-width:4; stroke-opacity:1; fill:none\" points=\"\n",
       "  1762.77,1486.45 1762.77,1469.18 \n",
       "  \"/>\n",
       "<polyline clip-path=\"url(#clip000)\" style=\"stroke:#000000; stroke-width:4; stroke-opacity:1; fill:none\" points=\"\n",
       "  2290.11,1486.45 2290.11,1469.18 \n",
       "  \"/>\n",
       "<path clip-path=\"url(#clip000)\" d=\"M 0 0 M180.745 1515.64 Q177.134 1515.64 175.306 1519.2 Q173.5 1522.75 173.5 1529.87 Q173.5 1536.98 175.306 1540.55 Q177.134 1544.09 180.745 1544.09 Q184.38 1544.09 186.185 1540.55 Q188.014 1536.98 188.014 1529.87 Q188.014 1522.75 186.185 1519.2 Q184.38 1515.64 180.745 1515.64 M180.745 1511.93 Q186.556 1511.93 189.611 1516.54 Q192.69 1521.12 192.69 1529.87 Q192.69 1538.6 189.611 1543.21 Q186.556 1547.79 180.745 1547.79 Q174.935 1547.79 171.857 1543.21 Q168.801 1538.6 168.801 1529.87 Q168.801 1521.12 171.857 1516.54 Q174.935 1511.93 180.745 1511.93 Z\" fill=\"#000000\" fill-rule=\"evenodd\" fill-opacity=\"1\" /><path clip-path=\"url(#clip000)\" d=\"M 0 0 M689.73 1543.18 L706.049 1543.18 L706.049 1547.12 L684.105 1547.12 L684.105 1543.18 Q686.767 1540.43 691.35 1535.8 Q695.956 1531.15 697.137 1529.81 Q699.382 1527.28 700.262 1525.55 Q701.165 1523.79 701.165 1522.1 Q701.165 1519.34 699.22 1517.61 Q697.299 1515.87 694.197 1515.87 Q691.998 1515.87 689.544 1516.63 Q687.114 1517.4 684.336 1518.95 L684.336 1514.23 Q687.16 1513.09 689.614 1512.51 Q692.068 1511.93 694.105 1511.93 Q699.475 1511.93 702.669 1514.62 Q705.864 1517.31 705.864 1521.8 Q705.864 1523.93 705.054 1525.85 Q704.267 1527.74 702.16 1530.34 Q701.581 1531.01 698.48 1534.23 Q695.378 1537.42 689.73 1543.18 Z\" fill=\"#000000\" fill-rule=\"evenodd\" fill-opacity=\"1\" /><path clip-path=\"url(#clip000)\" d=\"M 0 0 M711.165 1512.56 L729.521 1512.56 L729.521 1516.5 L715.447 1516.5 L715.447 1524.97 Q716.466 1524.62 717.484 1524.46 Q718.503 1524.27 719.521 1524.27 Q725.308 1524.27 728.688 1527.44 Q732.067 1530.62 732.067 1536.03 Q732.067 1541.61 728.595 1544.71 Q725.123 1547.79 718.804 1547.79 Q716.628 1547.79 714.359 1547.42 Q712.114 1547.05 709.706 1546.31 L709.706 1541.61 Q711.79 1542.74 714.012 1543.3 Q716.234 1543.86 718.711 1543.86 Q722.716 1543.86 725.053 1541.75 Q727.391 1539.64 727.391 1536.03 Q727.391 1532.42 725.053 1530.31 Q722.716 1528.21 718.711 1528.21 Q716.836 1528.21 714.961 1528.62 Q713.109 1529.04 711.165 1529.92 L711.165 1512.56 Z\" fill=\"#000000\" fill-rule=\"evenodd\" fill-opacity=\"1\" /><path clip-path=\"url(#clip000)\" d=\"M 0 0 M1212.2 1512.56 L1230.55 1512.56 L1230.55 1516.5 L1216.48 1516.5 L1216.48 1524.97 Q1217.5 1524.62 1218.52 1524.46 Q1219.54 1524.27 1220.55 1524.27 Q1226.34 1524.27 1229.72 1527.44 Q1233.1 1530.62 1233.1 1536.03 Q1233.1 1541.61 1229.63 1544.71 Q1226.16 1547.79 1219.84 1547.79 Q1217.66 1547.79 1215.39 1547.42 Q1213.15 1547.05 1210.74 1546.31 L1210.74 1541.61 Q1212.82 1542.74 1215.04 1543.3 Q1217.27 1543.86 1219.74 1543.86 Q1223.75 1543.86 1226.09 1541.75 Q1228.42 1539.64 1228.42 1536.03 Q1228.42 1532.42 1226.09 1530.31 Q1223.75 1528.21 1219.74 1528.21 Q1217.87 1528.21 1215.99 1528.62 Q1214.14 1529.04 1212.2 1529.92 L1212.2 1512.56 Z\" fill=\"#000000\" fill-rule=\"evenodd\" fill-opacity=\"1\" /><path clip-path=\"url(#clip000)\" d=\"M 0 0 M1248.17 1515.64 Q1244.56 1515.64 1242.73 1519.2 Q1240.92 1522.75 1240.92 1529.87 Q1240.92 1536.98 1242.73 1540.55 Q1244.56 1544.09 1248.17 1544.09 Q1251.8 1544.09 1253.61 1540.55 Q1255.44 1536.98 1255.44 1529.87 Q1255.44 1522.75 1253.61 1519.2 Q1251.8 1515.64 1248.17 1515.64 M1248.17 1511.93 Q1253.98 1511.93 1257.04 1516.54 Q1260.11 1521.12 1260.11 1529.87 Q1260.11 1538.6 1257.04 1543.21 Q1253.98 1547.79 1248.17 1547.79 Q1242.36 1547.79 1239.28 1543.21 Q1236.23 1538.6 1236.23 1529.87 Q1236.23 1521.12 1239.28 1516.54 Q1242.36 1511.93 1248.17 1511.93 Z\" fill=\"#000000\" fill-rule=\"evenodd\" fill-opacity=\"1\" /><path clip-path=\"url(#clip000)\" d=\"M 0 0 M1738.65 1512.56 L1760.87 1512.56 L1760.87 1514.55 L1748.32 1547.12 L1743.44 1547.12 L1755.24 1516.5 L1738.65 1516.5 L1738.65 1512.56 Z\" fill=\"#000000\" fill-rule=\"evenodd\" fill-opacity=\"1\" /><path clip-path=\"url(#clip000)\" d=\"M 0 0 M1765.98 1512.56 L1784.34 1512.56 L1784.34 1516.5 L1770.27 1516.5 L1770.27 1524.97 Q1771.29 1524.62 1772.3 1524.46 Q1773.32 1524.27 1774.34 1524.27 Q1780.13 1524.27 1783.51 1527.44 Q1786.89 1530.62 1786.89 1536.03 Q1786.89 1541.61 1783.42 1544.71 Q1779.94 1547.79 1773.62 1547.79 Q1771.45 1547.79 1769.18 1547.42 Q1766.93 1547.05 1764.53 1546.31 L1764.53 1541.61 Q1766.61 1542.74 1768.83 1543.3 Q1771.05 1543.86 1773.53 1543.86 Q1777.54 1543.86 1779.87 1541.75 Q1782.21 1539.64 1782.21 1536.03 Q1782.21 1532.42 1779.87 1530.31 Q1777.54 1528.21 1773.53 1528.21 Q1771.66 1528.21 1769.78 1528.62 Q1767.93 1529.04 1765.98 1529.92 L1765.98 1512.56 Z\" fill=\"#000000\" fill-rule=\"evenodd\" fill-opacity=\"1\" /><path clip-path=\"url(#clip000)\" d=\"M 0 0 M2253.48 1543.18 L2261.11 1543.18 L2261.11 1516.82 L2252.8 1518.49 L2252.8 1514.23 L2261.07 1512.56 L2265.74 1512.56 L2265.74 1543.18 L2273.38 1543.18 L2273.38 1547.12 L2253.48 1547.12 L2253.48 1543.18 Z\" fill=\"#000000\" fill-rule=\"evenodd\" fill-opacity=\"1\" /><path clip-path=\"url(#clip000)\" d=\"M 0 0 M2288.45 1515.64 Q2284.84 1515.64 2283.01 1519.2 Q2281.21 1522.75 2281.21 1529.87 Q2281.21 1536.98 2283.01 1540.55 Q2284.84 1544.09 2288.45 1544.09 Q2292.09 1544.09 2293.89 1540.55 Q2295.72 1536.98 2295.72 1529.87 Q2295.72 1522.75 2293.89 1519.2 Q2292.09 1515.64 2288.45 1515.64 M2288.45 1511.93 Q2294.26 1511.93 2297.32 1516.54 Q2300.4 1521.12 2300.4 1529.87 Q2300.4 1538.6 2297.32 1543.21 Q2294.26 1547.79 2288.45 1547.79 Q2282.64 1547.79 2279.56 1543.21 Q2276.51 1538.6 2276.51 1529.87 Q2276.51 1521.12 2279.56 1516.54 Q2282.64 1511.93 2288.45 1511.93 Z\" fill=\"#000000\" fill-rule=\"evenodd\" fill-opacity=\"1\" /><path clip-path=\"url(#clip000)\" d=\"M 0 0 M2315.47 1515.64 Q2311.86 1515.64 2310.03 1519.2 Q2308.22 1522.75 2308.22 1529.87 Q2308.22 1536.98 2310.03 1540.55 Q2311.86 1544.09 2315.47 1544.09 Q2319.1 1544.09 2320.91 1540.55 Q2322.73 1536.98 2322.73 1529.87 Q2322.73 1522.75 2320.91 1519.2 Q2319.1 1515.64 2315.47 1515.64 M2315.47 1511.93 Q2321.28 1511.93 2324.33 1516.54 Q2327.41 1521.12 2327.41 1529.87 Q2327.41 1538.6 2324.33 1543.21 Q2321.28 1547.79 2315.47 1547.79 Q2309.66 1547.79 2306.58 1543.21 Q2303.52 1538.6 2303.52 1529.87 Q2303.52 1521.12 2306.58 1516.54 Q2309.66 1511.93 2315.47 1511.93 Z\" fill=\"#000000\" fill-rule=\"evenodd\" fill-opacity=\"1\" /><polyline clip-path=\"url(#clip002)\" style=\"stroke:#000000; stroke-width:2; stroke-opacity:0.1; fill:none\" points=\"\n",
       "  139.191,1409.99 2352.76,1409.99 \n",
       "  \"/>\n",
       "<polyline clip-path=\"url(#clip002)\" style=\"stroke:#000000; stroke-width:2; stroke-opacity:0.1; fill:none\" points=\"\n",
       "  139.191,1052.69 2352.76,1052.69 \n",
       "  \"/>\n",
       "<polyline clip-path=\"url(#clip002)\" style=\"stroke:#000000; stroke-width:2; stroke-opacity:0.1; fill:none\" points=\"\n",
       "  139.191,695.386 2352.76,695.386 \n",
       "  \"/>\n",
       "<polyline clip-path=\"url(#clip002)\" style=\"stroke:#000000; stroke-width:2; stroke-opacity:0.1; fill:none\" points=\"\n",
       "  139.191,338.086 2352.76,338.086 \n",
       "  \"/>\n",
       "<polyline clip-path=\"url(#clip000)\" style=\"stroke:#000000; stroke-width:4; stroke-opacity:1; fill:none\" points=\"\n",
       "  139.191,1486.45 139.191,47.2441 \n",
       "  \"/>\n",
       "<polyline clip-path=\"url(#clip000)\" style=\"stroke:#000000; stroke-width:4; stroke-opacity:1; fill:none\" points=\"\n",
       "  139.191,1409.99 165.754,1409.99 \n",
       "  \"/>\n",
       "<polyline clip-path=\"url(#clip000)\" style=\"stroke:#000000; stroke-width:4; stroke-opacity:1; fill:none\" points=\"\n",
       "  139.191,1052.69 165.754,1052.69 \n",
       "  \"/>\n",
       "<polyline clip-path=\"url(#clip000)\" style=\"stroke:#000000; stroke-width:4; stroke-opacity:1; fill:none\" points=\"\n",
       "  139.191,695.386 165.754,695.386 \n",
       "  \"/>\n",
       "<polyline clip-path=\"url(#clip000)\" style=\"stroke:#000000; stroke-width:4; stroke-opacity:1; fill:none\" points=\"\n",
       "  139.191,338.086 165.754,338.086 \n",
       "  \"/>\n",
       "<path clip-path=\"url(#clip000)\" d=\"M 0 0 M56.2699 1423.33 L63.9087 1423.33 L63.9087 1396.96 L55.5986 1398.63 L55.5986 1394.37 L63.8624 1392.71 L68.5383 1392.71 L68.5383 1423.33 L76.1772 1423.33 L76.1772 1427.27 L56.2699 1427.27 L56.2699 1423.33 Z\" fill=\"#000000\" fill-rule=\"evenodd\" fill-opacity=\"1\" /><path clip-path=\"url(#clip000)\" d=\"M 0 0 M91.2465 1395.78 Q87.6354 1395.78 85.8068 1399.35 Q84.0012 1402.89 84.0012 1410.02 Q84.0012 1417.13 85.8068 1420.69 Q87.6354 1424.23 91.2465 1424.23 Q94.8808 1424.23 96.6863 1420.69 Q98.515 1417.13 98.515 1410.02 Q98.515 1402.89 96.6863 1399.35 Q94.8808 1395.78 91.2465 1395.78 M91.2465 1392.08 Q97.0567 1392.08 100.112 1396.69 Q103.191 1401.27 103.191 1410.02 Q103.191 1418.75 100.112 1423.35 Q97.0567 1427.94 91.2465 1427.94 Q85.4364 1427.94 82.3577 1423.35 Q79.3022 1418.75 79.3022 1410.02 Q79.3022 1401.27 82.3577 1396.69 Q85.4364 1392.08 91.2465 1392.08 Z\" fill=\"#000000\" fill-rule=\"evenodd\" fill-opacity=\"1\" /><path clip-path=\"url(#clip000)\" d=\"M 0 0 M59.8578 1066.03 L76.1772 1066.03 L76.1772 1069.97 L54.2328 1069.97 L54.2328 1066.03 Q56.8949 1063.28 61.4782 1058.65 Q66.0846 1053.99 67.2652 1052.65 Q69.5105 1050.13 70.3902 1048.39 Q71.2929 1046.63 71.2929 1044.94 Q71.2929 1042.19 69.3485 1040.45 Q67.4272 1038.72 64.3254 1038.72 Q62.1263 1038.72 59.6726 1039.48 Q57.2421 1040.24 54.4643 1041.79 L54.4643 1037.07 Q57.2884 1035.94 59.7421 1035.36 Q62.1958 1034.78 64.2328 1034.78 Q69.6031 1034.78 72.7976 1037.47 Q75.992 1040.15 75.992 1044.64 Q75.992 1046.77 75.1818 1048.69 Q74.3948 1050.59 72.2883 1053.18 Q71.7096 1053.85 68.6078 1057.07 Q65.5059 1060.27 59.8578 1066.03 Z\" fill=\"#000000\" fill-rule=\"evenodd\" fill-opacity=\"1\" /><path clip-path=\"url(#clip000)\" d=\"M 0 0 M91.2465 1038.48 Q87.6354 1038.48 85.8068 1042.05 Q84.0012 1045.59 84.0012 1052.72 Q84.0012 1059.83 85.8068 1063.39 Q87.6354 1066.93 91.2465 1066.93 Q94.8808 1066.93 96.6863 1063.39 Q98.515 1059.83 98.515 1052.72 Q98.515 1045.59 96.6863 1042.05 Q94.8808 1038.48 91.2465 1038.48 M91.2465 1034.78 Q97.0567 1034.78 100.112 1039.39 Q103.191 1043.97 103.191 1052.72 Q103.191 1061.45 100.112 1066.05 Q97.0567 1070.64 91.2465 1070.64 Q85.4364 1070.64 82.3577 1066.05 Q79.3022 1061.45 79.3022 1052.72 Q79.3022 1043.97 82.3577 1039.39 Q85.4364 1034.78 91.2465 1034.78 Z\" fill=\"#000000\" fill-rule=\"evenodd\" fill-opacity=\"1\" /><path clip-path=\"url(#clip000)\" d=\"M 0 0 M69.0476 694.032 Q72.404 694.749 74.279 697.018 Q76.1772 699.286 76.1772 702.62 Q76.1772 707.735 72.6587 710.536 Q69.1402 713.337 62.6587 713.337 Q60.4828 713.337 58.168 712.897 Q55.8764 712.481 53.4227 711.624 L53.4227 707.11 Q55.3671 708.245 57.6819 708.823 Q59.9967 709.402 62.5198 709.402 Q66.918 709.402 69.2096 707.666 Q71.5244 705.93 71.5244 702.62 Q71.5244 699.564 69.3717 697.851 Q67.242 696.115 63.4226 696.115 L59.3949 696.115 L59.3949 692.273 L63.6078 692.273 Q67.0569 692.273 68.8855 690.907 Q70.7142 689.518 70.7142 686.925 Q70.7142 684.263 68.8161 682.851 Q66.9411 681.416 63.4226 681.416 Q61.5013 681.416 59.3023 681.833 Q57.1032 682.25 54.4643 683.129 L54.4643 678.962 Q57.1264 678.222 59.4412 677.851 Q61.7791 677.481 63.8393 677.481 Q69.1633 677.481 72.2652 679.912 Q75.367 682.319 75.367 686.439 Q75.367 689.31 73.7235 691.3 Q72.08 693.268 69.0476 694.032 Z\" fill=\"#000000\" fill-rule=\"evenodd\" fill-opacity=\"1\" /><path clip-path=\"url(#clip000)\" d=\"M 0 0 M91.2465 681.185 Q87.6354 681.185 85.8068 684.749 Q84.0012 688.291 84.0012 695.421 Q84.0012 702.527 85.8068 706.092 Q87.6354 709.634 91.2465 709.634 Q94.8808 709.634 96.6863 706.092 Q98.515 702.527 98.515 695.421 Q98.515 688.291 96.6863 684.749 Q94.8808 681.185 91.2465 681.185 M91.2465 677.481 Q97.0567 677.481 100.112 682.087 Q103.191 686.671 103.191 695.421 Q103.191 704.148 100.112 708.754 Q97.0567 713.337 91.2465 713.337 Q85.4364 713.337 82.3577 708.754 Q79.3022 704.148 79.3022 695.421 Q79.3022 686.671 82.3577 682.087 Q85.4364 677.481 91.2465 677.481 Z\" fill=\"#000000\" fill-rule=\"evenodd\" fill-opacity=\"1\" /><path clip-path=\"url(#clip000)\" d=\"M 0 0 M66.5939 324.88 L54.7884 343.329 L66.5939 343.329 L66.5939 324.88 M65.367 320.806 L71.2466 320.806 L71.2466 343.329 L76.1772 343.329 L76.1772 347.218 L71.2466 347.218 L71.2466 355.366 L66.5939 355.366 L66.5939 347.218 L50.9921 347.218 L50.9921 342.704 L65.367 320.806 Z\" fill=\"#000000\" fill-rule=\"evenodd\" fill-opacity=\"1\" /><path clip-path=\"url(#clip000)\" d=\"M 0 0 M91.2465 323.885 Q87.6354 323.885 85.8068 327.45 Q84.0012 330.991 84.0012 338.121 Q84.0012 345.227 85.8068 348.792 Q87.6354 352.334 91.2465 352.334 Q94.8808 352.334 96.6863 348.792 Q98.515 345.227 98.515 338.121 Q98.515 330.991 96.6863 327.45 Q94.8808 323.885 91.2465 323.885 M91.2465 320.181 Q97.0567 320.181 100.112 324.788 Q103.191 329.371 103.191 338.121 Q103.191 346.848 100.112 351.454 Q97.0567 356.037 91.2465 356.037 Q85.4364 356.037 82.3577 351.454 Q79.3022 346.848 79.3022 338.121 Q79.3022 329.371 82.3577 324.788 Q85.4364 320.181 91.2465 320.181 Z\" fill=\"#000000\" fill-rule=\"evenodd\" fill-opacity=\"1\" /><polyline clip-path=\"url(#clip002)\" style=\"stroke:#800080; stroke-width:4; stroke-opacity:1; fill:none\" points=\"\n",
       "  201.839,874.036 222.933,945.496 244.026,1016.96 265.12,1016.96 286.213,1016.96 307.307,1016.96 328.401,1052.69 349.494,1052.69 370.588,1052.69 391.682,1052.69 \n",
       "  412.775,1052.69 433.869,1052.69 454.962,1052.69 476.056,1052.69 497.15,1052.69 518.243,1052.69 539.337,1052.69 560.431,1052.69 581.524,1052.69 602.618,1088.42 \n",
       "  623.711,1124.15 644.805,1124.15 665.899,1124.15 686.992,1124.15 708.086,1124.15 729.18,1124.15 750.273,1124.15 771.367,1124.15 792.46,1052.69 813.554,1052.69 \n",
       "  834.648,1052.69 855.741,1052.69 876.835,1052.69 897.929,1088.42 919.022,1088.42 940.116,1088.42 961.209,1088.42 982.303,1088.42 1003.4,1159.88 1024.49,1159.88 \n",
       "  1045.58,1159.88 1066.68,1159.88 1087.77,1159.88 1108.86,1159.88 1129.96,1159.88 1151.05,1159.88 1172.15,1159.88 1193.24,1159.88 1214.33,1159.88 1235.43,1195.61 \n",
       "  1256.52,1231.34 1277.61,1231.34 1298.71,1231.34 1319.8,1267.07 1340.89,1267.07 1361.99,1267.07 1383.08,1302.8 1404.18,1338.53 1425.27,1338.53 1446.36,1338.53 \n",
       "  1467.46,1338.53 1488.55,1338.53 1509.64,1338.53 1530.74,1338.53 1551.83,1338.53 1572.92,1338.53 1594.02,1338.53 1615.11,1338.53 1636.21,1338.53 1657.3,1338.53 \n",
       "  1678.39,1338.53 1699.49,1338.53 1720.58,1338.53 1741.67,1338.53 1762.77,1338.53 1783.86,1338.53 1804.95,1338.53 1826.05,1338.53 1847.14,1374.26 1868.24,1374.26 \n",
       "  1889.33,1374.26 1910.42,1374.26 1931.52,1374.26 1952.61,1374.26 1973.7,1374.26 1994.8,1374.26 2015.89,1374.26 2036.98,1374.26 2058.08,1374.26 2079.17,1374.26 \n",
       "  2100.27,1374.26 2121.36,1374.26 2142.45,1374.26 2163.55,1374.26 2184.64,1409.99 2205.73,1409.99 2226.83,1409.99 2247.92,1409.99 2269.01,1445.72 2290.11,1445.72 \n",
       "  \n",
       "  \"/>\n",
       "<polyline clip-path=\"url(#clip002)\" style=\"stroke:#008000; stroke-width:4; stroke-opacity:1; fill:none\" points=\"\n",
       "  201.839,87.9763 222.933,409.546 244.026,445.276 265.12,588.196 286.213,552.466 307.307,623.926 328.401,588.196 349.494,659.656 370.588,659.656 391.682,623.926 \n",
       "  412.775,552.466 433.869,552.466 454.962,552.466 476.056,552.466 497.15,623.926 518.243,623.926 539.337,695.386 560.431,695.386 581.524,659.656 602.618,623.926 \n",
       "  623.711,588.196 644.805,659.656 665.899,588.196 686.992,588.196 708.086,659.656 729.18,731.116 750.273,731.116 771.367,659.656 792.46,659.656 813.554,588.196 \n",
       "  834.648,588.196 855.741,516.736 876.835,481.006 897.929,481.006 919.022,481.006 940.116,516.736 961.209,481.006 982.303,445.276 1003.4,409.546 1024.49,373.816 \n",
       "  1045.58,409.546 1066.68,445.276 1087.77,445.276 1108.86,373.816 1129.96,481.006 1151.05,409.546 1172.15,481.006 1193.24,481.006 1214.33,552.466 1235.43,516.736 \n",
       "  1256.52,481.006 1277.61,481.006 1298.71,481.006 1319.8,481.006 1340.89,552.466 1361.99,481.006 1383.08,445.276 1404.18,409.546 1425.27,409.546 1446.36,373.816 \n",
       "  1467.46,445.276 1488.55,445.276 1509.64,516.736 1530.74,445.276 1551.83,445.276 1572.92,373.816 1594.02,409.546 1615.11,338.086 1636.21,338.086 1657.3,409.546 \n",
       "  1678.39,409.546 1699.49,409.546 1720.58,481.006 1741.67,409.546 1762.77,338.086 1783.86,409.546 1804.95,338.086 1826.05,409.546 1847.14,409.546 1868.24,481.006 \n",
       "  1889.33,481.006 1910.42,409.546 1931.52,373.816 1952.61,445.276 1973.7,445.276 1994.8,445.276 2015.89,409.546 2036.98,373.816 2058.08,445.276 2079.17,516.736 \n",
       "  2100.27,516.736 2121.36,516.736 2142.45,445.276 2163.55,445.276 2184.64,409.546 2205.73,338.086 2226.83,409.546 2247.92,481.006 2269.01,445.276 2290.11,409.546 \n",
       "  \n",
       "  \"/>\n",
       "<path clip-path=\"url(#clip000)\" d=\"\n",
       "M1827 276.658 L2278.97 276.658 L2278.97 95.2176 L1827 95.2176  Z\n",
       "  \" fill=\"#ffffff\" fill-rule=\"evenodd\" fill-opacity=\"1\"/>\n",
       "<polyline clip-path=\"url(#clip000)\" style=\"stroke:#000000; stroke-width:4; stroke-opacity:1; fill:none\" points=\"\n",
       "  1827,276.658 2278.97,276.658 2278.97,95.2176 1827,95.2176 1827,276.658 \n",
       "  \"/>\n",
       "<polyline clip-path=\"url(#clip000)\" style=\"stroke:#800080; stroke-width:4; stroke-opacity:1; fill:none\" points=\"\n",
       "  1851.6,155.698 1999.17,155.698 \n",
       "  \"/>\n",
       "<path clip-path=\"url(#clip000)\" d=\"M 0 0 M2042.67 159.714 Q2042.67 155.084 2040.75 152.538 Q2038.86 149.992 2035.41 149.992 Q2031.98 149.992 2030.06 152.538 Q2028.16 155.084 2028.16 159.714 Q2028.16 164.32 2030.06 166.866 Q2031.98 169.413 2035.41 169.413 Q2038.86 169.413 2040.75 166.866 Q2042.67 164.32 2042.67 159.714 M2046.93 169.76 Q2046.93 176.38 2043.99 179.598 Q2041.05 182.839 2034.99 182.839 Q2032.74 182.839 2030.75 182.491 Q2028.76 182.167 2026.89 181.473 L2026.89 177.329 Q2028.76 178.348 2030.59 178.834 Q2032.42 179.32 2034.32 179.32 Q2038.51 179.32 2040.59 177.121 Q2042.67 174.945 2042.67 170.524 L2042.67 168.417 Q2041.36 170.709 2039.29 171.843 Q2037.23 172.978 2034.36 172.978 Q2029.6 172.978 2026.68 169.343 Q2023.76 165.709 2023.76 159.714 Q2023.76 153.695 2026.68 150.061 Q2029.6 146.427 2034.36 146.427 Q2037.23 146.427 2039.29 147.561 Q2041.36 148.695 2042.67 150.987 L2042.67 147.052 L2046.93 147.052 L2046.93 169.76 Z\" fill=\"#000000\" fill-rule=\"evenodd\" fill-opacity=\"1\" /><path clip-path=\"url(#clip000)\" d=\"M 0 0 M2061.45 150.038 Q2058.02 150.038 2056.03 152.723 Q2054.04 155.385 2054.04 160.038 Q2054.04 164.691 2056.01 167.376 Q2058 170.038 2061.45 170.038 Q2064.85 170.038 2066.84 167.353 Q2068.83 164.667 2068.83 160.038 Q2068.83 155.431 2066.84 152.746 Q2064.85 150.038 2061.45 150.038 M2061.45 146.427 Q2067 146.427 2070.17 150.038 Q2073.35 153.649 2073.35 160.038 Q2073.35 166.404 2070.17 170.038 Q2067 173.649 2061.45 173.649 Q2055.87 173.649 2052.7 170.038 Q2049.55 166.404 2049.55 160.038 Q2049.55 153.649 2052.7 150.038 Q2055.87 146.427 2061.45 146.427 Z\" fill=\"#000000\" fill-rule=\"evenodd\" fill-opacity=\"1\" /><path clip-path=\"url(#clip000)\" d=\"M 0 0 M2077.95 136.959 L2082.21 136.959 L2082.21 150.894 L2085.1 148.811 L2086.86 151.265 L2082.21 154.529 L2082.21 172.978 L2077.95 172.978 L2077.95 157.561 L2075.1 159.598 L2073.39 157.144 L2077.95 153.88 L2077.95 136.959 Z\" fill=\"#000000\" fill-rule=\"evenodd\" fill-opacity=\"1\" /><path clip-path=\"url(#clip000)\" d=\"M 0 0 M2113.51 158.95 L2113.51 161.033 L2093.92 161.033 Q2094.2 165.431 2096.56 167.746 Q2098.95 170.038 2103.18 170.038 Q2105.64 170.038 2107.93 169.436 Q2110.24 168.834 2112.51 167.63 L2112.51 171.658 Q2110.22 172.63 2107.81 173.14 Q2105.41 173.649 2102.93 173.649 Q2096.73 173.649 2093.09 170.038 Q2089.48 166.427 2089.48 160.269 Q2089.48 153.904 2092.91 150.177 Q2096.35 146.427 2102.19 146.427 Q2107.42 146.427 2110.45 149.806 Q2113.51 153.163 2113.51 158.95 M2109.25 157.7 Q2109.2 154.205 2107.28 152.121 Q2105.38 150.038 2102.23 150.038 Q2098.67 150.038 2096.52 152.052 Q2094.39 154.066 2094.06 157.723 L2109.25 157.7 M2105.75 172.978 L2108.51 172.978 Q2107.47 174.39 2106.96 175.408 Q2106.47 176.427 2106.47 177.144 Q2106.47 178.209 2107.1 178.741 Q2107.74 179.274 2108.99 179.274 Q2109.73 179.274 2110.45 179.089 Q2111.17 178.927 2111.89 178.579 L2111.89 181.658 Q2111.01 181.89 2110.22 182.005 Q2109.43 182.121 2108.74 182.121 Q2105.91 182.121 2104.57 181.103 Q2103.25 180.107 2103.25 177.954 Q2103.25 176.843 2103.85 175.616 Q2104.48 174.413 2105.75 172.978 Z\" fill=\"#000000\" fill-rule=\"evenodd\" fill-opacity=\"1\" /><path clip-path=\"url(#clip000)\" d=\"M 0 0 M2136.59 160.038 Q2136.59 155.339 2134.64 152.677 Q2132.72 149.992 2129.34 149.992 Q2125.96 149.992 2124.02 152.677 Q2122.1 155.339 2122.1 160.038 Q2122.1 164.737 2124.02 167.422 Q2125.96 170.084 2129.34 170.084 Q2132.72 170.084 2134.64 167.422 Q2136.59 164.737 2136.59 160.038 M2122.1 150.987 Q2123.44 148.672 2125.48 147.561 Q2127.54 146.427 2130.38 146.427 Q2135.1 146.427 2138.04 150.177 Q2141.01 153.927 2141.01 160.038 Q2141.01 166.149 2138.04 169.899 Q2135.1 173.649 2130.38 173.649 Q2127.54 173.649 2125.48 172.538 Q2123.44 171.403 2122.1 169.089 L2122.1 172.978 L2117.81 172.978 L2117.81 136.959 L2122.1 136.959 L2122.1 150.987 Z\" fill=\"#000000\" fill-rule=\"evenodd\" fill-opacity=\"1\" /><path clip-path=\"url(#clip000)\" d=\"M 0 0 M2145.47 147.052 L2149.73 147.052 L2149.73 172.978 L2145.47 172.978 L2145.47 147.052 M2145.47 136.959 L2149.73 136.959 L2149.73 142.353 L2145.47 142.353 L2145.47 136.959 Z\" fill=\"#000000\" fill-rule=\"evenodd\" fill-opacity=\"1\" /><path clip-path=\"url(#clip000)\" d=\"M 0 0 M2176.38 158.95 L2176.38 161.033 L2156.79 161.033 Q2157.07 165.431 2159.43 167.746 Q2161.82 170.038 2166.05 170.038 Q2168.51 170.038 2170.8 169.436 Q2173.11 168.834 2175.38 167.63 L2175.38 171.658 Q2173.09 172.63 2170.68 173.14 Q2168.28 173.649 2165.8 173.649 Q2159.6 173.649 2155.96 170.038 Q2152.35 166.427 2152.35 160.269 Q2152.35 153.904 2155.78 150.177 Q2159.22 146.427 2165.06 146.427 Q2170.29 146.427 2173.32 149.806 Q2176.38 153.163 2176.38 158.95 M2172.12 157.7 Q2172.07 154.205 2170.15 152.121 Q2168.25 150.038 2165.1 150.038 Q2161.54 150.038 2159.39 152.052 Q2157.26 154.066 2156.93 157.723 L2172.12 157.7 Z\" fill=\"#000000\" fill-rule=\"evenodd\" fill-opacity=\"1\" /><polyline clip-path=\"url(#clip000)\" style=\"stroke:#008000; stroke-width:4; stroke-opacity:1; fill:none\" points=\"\n",
       "  1851.6,216.178 1999.17,216.178 \n",
       "  \"/>\n",
       "<path clip-path=\"url(#clip000)\" d=\"M 0 0 M2029.09 207.532 L2033.35 207.532 L2033.35 233.921 Q2033.35 238.874 2031.45 241.096 Q2029.57 243.319 2025.38 243.319 L2023.76 243.319 L2023.76 239.708 L2024.9 239.708 Q2027.33 239.708 2028.21 238.573 Q2029.09 237.462 2029.09 233.921 L2029.09 207.532 M2029.09 197.439 L2033.35 197.439 L2033.35 202.833 L2029.09 202.833 L2029.09 197.439 Z\" fill=\"#000000\" fill-rule=\"evenodd\" fill-opacity=\"1\" /><path clip-path=\"url(#clip000)\" d=\"M 0 0 M2049.6 220.425 Q2044.43 220.425 2042.44 221.606 Q2040.45 222.786 2040.45 225.634 Q2040.45 227.902 2041.93 229.245 Q2043.44 230.564 2046.01 230.564 Q2049.55 230.564 2051.68 228.064 Q2053.83 225.541 2053.83 221.374 L2053.83 220.425 L2049.6 220.425 M2058.09 218.666 L2058.09 233.458 L2053.83 233.458 L2053.83 229.522 Q2052.37 231.883 2050.2 233.018 Q2048.02 234.129 2044.87 234.129 Q2040.89 234.129 2038.53 231.907 Q2036.19 229.661 2036.19 225.911 Q2036.19 221.536 2039.11 219.314 Q2042.05 217.092 2047.86 217.092 L2053.83 217.092 L2053.83 216.675 Q2053.83 213.735 2051.89 212.138 Q2049.97 210.518 2046.47 210.518 Q2044.25 210.518 2042.14 211.05 Q2040.04 211.583 2038.09 212.647 L2038.09 208.712 Q2040.43 207.81 2042.63 207.37 Q2044.83 206.907 2046.91 206.907 Q2052.54 206.907 2055.31 209.823 Q2058.09 212.74 2058.09 218.666 Z\" fill=\"#000000\" fill-rule=\"evenodd\" fill-opacity=\"1\" /><path clip-path=\"url(#clip000)\" d=\"M 0 0 M2079.09 208.296 L2079.09 212.323 Q2077.28 211.397 2075.34 210.935 Q2073.39 210.472 2071.31 210.472 Q2068.14 210.472 2066.54 211.444 Q2064.97 212.416 2064.97 214.36 Q2064.97 215.842 2066.1 216.698 Q2067.23 217.532 2070.66 218.296 L2072.12 218.62 Q2076.66 219.592 2078.55 221.374 Q2080.48 223.134 2080.48 226.305 Q2080.48 229.916 2077.6 232.022 Q2074.76 234.129 2069.76 234.129 Q2067.67 234.129 2065.41 233.712 Q2063.16 233.319 2060.66 232.508 L2060.66 228.11 Q2063.02 229.337 2065.31 229.962 Q2067.61 230.564 2069.85 230.564 Q2072.86 230.564 2074.48 229.546 Q2076.1 228.504 2076.1 226.629 Q2076.1 224.893 2074.92 223.967 Q2073.76 223.041 2069.8 222.184 L2068.32 221.837 Q2064.36 221.004 2062.61 219.291 Q2060.85 217.555 2060.85 214.546 Q2060.85 210.888 2063.44 208.898 Q2066.03 206.907 2070.8 206.907 Q2073.16 206.907 2075.24 207.254 Q2077.33 207.601 2079.09 208.296 Z\" fill=\"#000000\" fill-rule=\"evenodd\" fill-opacity=\"1\" /><path clip-path=\"url(#clip000)\" d=\"M 0 0 M2089.16 200.171 L2089.16 207.532 L2097.93 207.532 L2097.93 210.842 L2089.16 210.842 L2089.16 224.916 Q2089.16 228.087 2090.01 228.99 Q2090.89 229.893 2093.55 229.893 L2097.93 229.893 L2097.93 233.458 L2093.55 233.458 Q2088.62 233.458 2086.75 231.629 Q2084.87 229.777 2084.87 224.916 L2084.87 210.842 L2081.75 210.842 L2081.75 207.532 L2084.87 207.532 L2084.87 200.171 L2089.16 200.171 Z\" fill=\"#000000\" fill-rule=\"evenodd\" fill-opacity=\"1\" /><path clip-path=\"url(#clip000)\" d=\"M 0 0 M2117.42 211.513 Q2116.7 211.097 2115.85 210.911 Q2115.01 210.703 2113.99 210.703 Q2110.38 210.703 2108.44 213.064 Q2106.52 215.402 2106.52 219.8 L2106.52 233.458 L2102.23 233.458 L2102.23 207.532 L2106.52 207.532 L2106.52 211.56 Q2107.86 209.198 2110.01 208.064 Q2112.16 206.907 2115.24 206.907 Q2115.68 206.907 2116.22 206.976 Q2116.75 207.023 2117.4 207.138 L2117.42 211.513 Z\" fill=\"#000000\" fill-rule=\"evenodd\" fill-opacity=\"1\" /><path clip-path=\"url(#clip000)\" d=\"M 0 0 M2120.04 207.532 L2140.27 207.532 L2140.27 211.421 L2124.25 230.055 L2140.27 230.055 L2140.27 233.458 L2119.46 233.458 L2119.46 229.569 L2135.48 210.935 L2120.04 210.935 L2120.04 207.532 Z\" fill=\"#000000\" fill-rule=\"evenodd\" fill-opacity=\"1\" /><path clip-path=\"url(#clip000)\" d=\"M 0 0 M2166.91 219.43 L2166.91 221.513 L2147.33 221.513 Q2147.6 225.911 2149.97 228.226 Q2152.35 230.518 2156.59 230.518 Q2159.04 230.518 2161.33 229.916 Q2163.65 229.314 2165.91 228.11 L2165.91 232.138 Q2163.62 233.11 2161.22 233.62 Q2158.81 234.129 2156.33 234.129 Q2150.13 234.129 2146.49 230.518 Q2142.88 226.907 2142.88 220.749 Q2142.88 214.384 2146.31 210.657 Q2149.76 206.907 2155.59 206.907 Q2160.82 206.907 2163.85 210.286 Q2166.91 213.643 2166.91 219.43 M2162.65 218.18 Q2162.6 214.685 2160.68 212.601 Q2158.79 210.518 2155.64 210.518 Q2152.07 210.518 2149.92 212.532 Q2147.79 214.546 2147.47 218.203 L2162.65 218.18 M2159.16 233.458 L2161.91 233.458 Q2160.87 234.87 2160.36 235.888 Q2159.87 236.907 2159.87 237.624 Q2159.87 238.689 2160.5 239.221 Q2161.15 239.754 2162.4 239.754 Q2163.14 239.754 2163.85 239.569 Q2164.57 239.407 2165.29 239.059 L2165.29 242.138 Q2164.41 242.37 2163.62 242.485 Q2162.84 242.601 2162.14 242.601 Q2159.32 242.601 2157.97 241.583 Q2156.66 240.587 2156.66 238.434 Q2156.66 237.323 2157.26 236.096 Q2157.88 234.893 2159.16 233.458 Z\" fill=\"#000000\" fill-rule=\"evenodd\" fill-opacity=\"1\" /><path clip-path=\"url(#clip000)\" d=\"M 0 0 M2189.99 220.518 Q2189.99 215.819 2188.04 213.157 Q2186.12 210.472 2182.74 210.472 Q2179.36 210.472 2177.42 213.157 Q2175.5 215.819 2175.5 220.518 Q2175.5 225.217 2177.42 227.902 Q2179.36 230.564 2182.74 230.564 Q2186.12 230.564 2188.04 227.902 Q2189.99 225.217 2189.99 220.518 M2175.5 211.467 Q2176.84 209.152 2178.88 208.041 Q2180.94 206.907 2183.78 206.907 Q2188.51 206.907 2191.45 210.657 Q2194.41 214.407 2194.41 220.518 Q2194.41 226.629 2191.45 230.379 Q2188.51 234.129 2183.78 234.129 Q2180.94 234.129 2178.88 233.018 Q2176.84 231.883 2175.5 229.569 L2175.5 233.458 L2171.22 233.458 L2171.22 197.439 L2175.5 197.439 L2175.5 211.467 Z\" fill=\"#000000\" fill-rule=\"evenodd\" fill-opacity=\"1\" /><path clip-path=\"url(#clip000)\" d=\"M 0 0 M2198.88 207.532 L2203.14 207.532 L2203.14 233.458 L2198.88 233.458 L2198.88 207.532 M2198.88 197.439 L2203.14 197.439 L2203.14 202.833 L2198.88 202.833 L2198.88 197.439 Z\" fill=\"#000000\" fill-rule=\"evenodd\" fill-opacity=\"1\" /><path clip-path=\"url(#clip000)\" d=\"M 0 0 M2229.78 219.43 L2229.78 221.513 L2210.2 221.513 Q2210.47 225.911 2212.84 228.226 Q2215.22 230.518 2219.46 230.518 Q2221.91 230.518 2224.2 229.916 Q2226.52 229.314 2228.78 228.11 L2228.78 232.138 Q2226.49 233.11 2224.09 233.62 Q2221.68 234.129 2219.2 234.129 Q2213 234.129 2209.36 230.518 Q2205.75 226.907 2205.75 220.749 Q2205.75 214.384 2209.18 210.657 Q2212.63 206.907 2218.46 206.907 Q2223.69 206.907 2226.72 210.286 Q2229.78 213.643 2229.78 219.43 M2225.52 218.18 Q2225.47 214.685 2223.55 212.601 Q2221.66 210.518 2218.51 210.518 Q2214.94 210.518 2212.79 212.532 Q2210.66 214.546 2210.34 218.203 L2225.52 218.18 Z\" fill=\"#000000\" fill-rule=\"evenodd\" fill-opacity=\"1\" /></svg>\n"
      ]
     },
     "execution_count": 288,
     "metadata": {},
     "output_type": "execute_result"
    }
   ],
   "source": [
    "wykr(9,9,30,60, 100, zeros(Int64, 100, 2), 20)"
   ]
  },
  {
   "cell_type": "markdown",
   "metadata": {},
   "source": []
  },
  {
   "cell_type": "code",
   "execution_count": 289,
   "metadata": {},
   "outputs": [
    {
     "data": {
      "image/svg+xml": [
       "<?xml version=\"1.0\" encoding=\"utf-8\"?>\n",
       "<svg xmlns=\"http://www.w3.org/2000/svg\" xmlns:xlink=\"http://www.w3.org/1999/xlink\" width=\"600\" height=\"400\" viewBox=\"0 0 2400 1600\">\n",
       "<defs>\n",
       "  <clipPath id=\"clip040\">\n",
       "    <rect x=\"0\" y=\"0\" width=\"2400\" height=\"1600\"/>\n",
       "  </clipPath>\n",
       "</defs>\n",
       "<path clip-path=\"url(#clip040)\" d=\"\n",
       "M0 1600 L2400 1600 L2400 0 L0 0  Z\n",
       "  \" fill=\"#ffffff\" fill-rule=\"evenodd\" fill-opacity=\"1\"/>\n",
       "<defs>\n",
       "  <clipPath id=\"clip041\">\n",
       "    <rect x=\"480\" y=\"0\" width=\"1681\" height=\"1600\"/>\n",
       "  </clipPath>\n",
       "</defs>\n",
       "<path clip-path=\"url(#clip040)\" d=\"\n",
       "M139.191 1486.45 L2352.76 1486.45 L2352.76 47.2441 L139.191 47.2441  Z\n",
       "  \" fill=\"#ffffff\" fill-rule=\"evenodd\" fill-opacity=\"1\"/>\n",
       "<defs>\n",
       "  <clipPath id=\"clip042\">\n",
       "    <rect x=\"139\" y=\"47\" width=\"2215\" height=\"1440\"/>\n",
       "  </clipPath>\n",
       "</defs>\n",
       "<polyline clip-path=\"url(#clip042)\" style=\"stroke:#000000; stroke-width:2; stroke-opacity:0.1; fill:none\" points=\"\n",
       "  180.745,1486.45 180.745,47.2441 \n",
       "  \"/>\n",
       "<polyline clip-path=\"url(#clip042)\" style=\"stroke:#000000; stroke-width:2; stroke-opacity:0.1; fill:none\" points=\"\n",
       "  708.086,1486.45 708.086,47.2441 \n",
       "  \"/>\n",
       "<polyline clip-path=\"url(#clip042)\" style=\"stroke:#000000; stroke-width:2; stroke-opacity:0.1; fill:none\" points=\"\n",
       "  1235.43,1486.45 1235.43,47.2441 \n",
       "  \"/>\n",
       "<polyline clip-path=\"url(#clip042)\" style=\"stroke:#000000; stroke-width:2; stroke-opacity:0.1; fill:none\" points=\"\n",
       "  1762.77,1486.45 1762.77,47.2441 \n",
       "  \"/>\n",
       "<polyline clip-path=\"url(#clip042)\" style=\"stroke:#000000; stroke-width:2; stroke-opacity:0.1; fill:none\" points=\"\n",
       "  2290.11,1486.45 2290.11,47.2441 \n",
       "  \"/>\n",
       "<polyline clip-path=\"url(#clip040)\" style=\"stroke:#000000; stroke-width:4; stroke-opacity:1; fill:none\" points=\"\n",
       "  139.191,1486.45 2352.76,1486.45 \n",
       "  \"/>\n",
       "<polyline clip-path=\"url(#clip040)\" style=\"stroke:#000000; stroke-width:4; stroke-opacity:1; fill:none\" points=\"\n",
       "  180.745,1486.45 180.745,1469.18 \n",
       "  \"/>\n",
       "<polyline clip-path=\"url(#clip040)\" style=\"stroke:#000000; stroke-width:4; stroke-opacity:1; fill:none\" points=\"\n",
       "  708.086,1486.45 708.086,1469.18 \n",
       "  \"/>\n",
       "<polyline clip-path=\"url(#clip040)\" style=\"stroke:#000000; stroke-width:4; stroke-opacity:1; fill:none\" points=\"\n",
       "  1235.43,1486.45 1235.43,1469.18 \n",
       "  \"/>\n",
       "<polyline clip-path=\"url(#clip040)\" style=\"stroke:#000000; stroke-width:4; stroke-opacity:1; fill:none\" points=\"\n",
       "  1762.77,1486.45 1762.77,1469.18 \n",
       "  \"/>\n",
       "<polyline clip-path=\"url(#clip040)\" style=\"stroke:#000000; stroke-width:4; stroke-opacity:1; fill:none\" points=\"\n",
       "  2290.11,1486.45 2290.11,1469.18 \n",
       "  \"/>\n",
       "<path clip-path=\"url(#clip040)\" d=\"M 0 0 M180.745 1515.64 Q177.134 1515.64 175.306 1519.2 Q173.5 1522.75 173.5 1529.87 Q173.5 1536.98 175.306 1540.55 Q177.134 1544.09 180.745 1544.09 Q184.38 1544.09 186.185 1540.55 Q188.014 1536.98 188.014 1529.87 Q188.014 1522.75 186.185 1519.2 Q184.38 1515.64 180.745 1515.64 M180.745 1511.93 Q186.556 1511.93 189.611 1516.54 Q192.69 1521.12 192.69 1529.87 Q192.69 1538.6 189.611 1543.21 Q186.556 1547.79 180.745 1547.79 Q174.935 1547.79 171.857 1543.21 Q168.801 1538.6 168.801 1529.87 Q168.801 1521.12 171.857 1516.54 Q174.935 1511.93 180.745 1511.93 Z\" fill=\"#000000\" fill-rule=\"evenodd\" fill-opacity=\"1\" /><path clip-path=\"url(#clip040)\" d=\"M 0 0 M689.73 1543.18 L706.049 1543.18 L706.049 1547.12 L684.105 1547.12 L684.105 1543.18 Q686.767 1540.43 691.35 1535.8 Q695.956 1531.15 697.137 1529.81 Q699.382 1527.28 700.262 1525.55 Q701.165 1523.79 701.165 1522.1 Q701.165 1519.34 699.22 1517.61 Q697.299 1515.87 694.197 1515.87 Q691.998 1515.87 689.544 1516.63 Q687.114 1517.4 684.336 1518.95 L684.336 1514.23 Q687.16 1513.09 689.614 1512.51 Q692.068 1511.93 694.105 1511.93 Q699.475 1511.93 702.669 1514.62 Q705.864 1517.31 705.864 1521.8 Q705.864 1523.93 705.054 1525.85 Q704.267 1527.74 702.16 1530.34 Q701.581 1531.01 698.48 1534.23 Q695.378 1537.42 689.73 1543.18 Z\" fill=\"#000000\" fill-rule=\"evenodd\" fill-opacity=\"1\" /><path clip-path=\"url(#clip040)\" d=\"M 0 0 M711.165 1512.56 L729.521 1512.56 L729.521 1516.5 L715.447 1516.5 L715.447 1524.97 Q716.466 1524.62 717.484 1524.46 Q718.503 1524.27 719.521 1524.27 Q725.308 1524.27 728.688 1527.44 Q732.067 1530.62 732.067 1536.03 Q732.067 1541.61 728.595 1544.71 Q725.123 1547.79 718.804 1547.79 Q716.628 1547.79 714.359 1547.42 Q712.114 1547.05 709.706 1546.31 L709.706 1541.61 Q711.79 1542.74 714.012 1543.3 Q716.234 1543.86 718.711 1543.86 Q722.716 1543.86 725.053 1541.75 Q727.391 1539.64 727.391 1536.03 Q727.391 1532.42 725.053 1530.31 Q722.716 1528.21 718.711 1528.21 Q716.836 1528.21 714.961 1528.62 Q713.109 1529.04 711.165 1529.92 L711.165 1512.56 Z\" fill=\"#000000\" fill-rule=\"evenodd\" fill-opacity=\"1\" /><path clip-path=\"url(#clip040)\" d=\"M 0 0 M1212.2 1512.56 L1230.55 1512.56 L1230.55 1516.5 L1216.48 1516.5 L1216.48 1524.97 Q1217.5 1524.62 1218.52 1524.46 Q1219.54 1524.27 1220.55 1524.27 Q1226.34 1524.27 1229.72 1527.44 Q1233.1 1530.62 1233.1 1536.03 Q1233.1 1541.61 1229.63 1544.71 Q1226.16 1547.79 1219.84 1547.79 Q1217.66 1547.79 1215.39 1547.42 Q1213.15 1547.05 1210.74 1546.31 L1210.74 1541.61 Q1212.82 1542.74 1215.04 1543.3 Q1217.27 1543.86 1219.74 1543.86 Q1223.75 1543.86 1226.09 1541.75 Q1228.42 1539.64 1228.42 1536.03 Q1228.42 1532.42 1226.09 1530.31 Q1223.75 1528.21 1219.74 1528.21 Q1217.87 1528.21 1215.99 1528.62 Q1214.14 1529.04 1212.2 1529.92 L1212.2 1512.56 Z\" fill=\"#000000\" fill-rule=\"evenodd\" fill-opacity=\"1\" /><path clip-path=\"url(#clip040)\" d=\"M 0 0 M1248.17 1515.64 Q1244.56 1515.64 1242.73 1519.2 Q1240.92 1522.75 1240.92 1529.87 Q1240.92 1536.98 1242.73 1540.55 Q1244.56 1544.09 1248.17 1544.09 Q1251.8 1544.09 1253.61 1540.55 Q1255.44 1536.98 1255.44 1529.87 Q1255.44 1522.75 1253.61 1519.2 Q1251.8 1515.64 1248.17 1515.64 M1248.17 1511.93 Q1253.98 1511.93 1257.04 1516.54 Q1260.11 1521.12 1260.11 1529.87 Q1260.11 1538.6 1257.04 1543.21 Q1253.98 1547.79 1248.17 1547.79 Q1242.36 1547.79 1239.28 1543.21 Q1236.23 1538.6 1236.23 1529.87 Q1236.23 1521.12 1239.28 1516.54 Q1242.36 1511.93 1248.17 1511.93 Z\" fill=\"#000000\" fill-rule=\"evenodd\" fill-opacity=\"1\" /><path clip-path=\"url(#clip040)\" d=\"M 0 0 M1738.65 1512.56 L1760.87 1512.56 L1760.87 1514.55 L1748.32 1547.12 L1743.44 1547.12 L1755.24 1516.5 L1738.65 1516.5 L1738.65 1512.56 Z\" fill=\"#000000\" fill-rule=\"evenodd\" fill-opacity=\"1\" /><path clip-path=\"url(#clip040)\" d=\"M 0 0 M1765.98 1512.56 L1784.34 1512.56 L1784.34 1516.5 L1770.27 1516.5 L1770.27 1524.97 Q1771.29 1524.62 1772.3 1524.46 Q1773.32 1524.27 1774.34 1524.27 Q1780.13 1524.27 1783.51 1527.44 Q1786.89 1530.62 1786.89 1536.03 Q1786.89 1541.61 1783.42 1544.71 Q1779.94 1547.79 1773.62 1547.79 Q1771.45 1547.79 1769.18 1547.42 Q1766.93 1547.05 1764.53 1546.31 L1764.53 1541.61 Q1766.61 1542.74 1768.83 1543.3 Q1771.05 1543.86 1773.53 1543.86 Q1777.54 1543.86 1779.87 1541.75 Q1782.21 1539.64 1782.21 1536.03 Q1782.21 1532.42 1779.87 1530.31 Q1777.54 1528.21 1773.53 1528.21 Q1771.66 1528.21 1769.78 1528.62 Q1767.93 1529.04 1765.98 1529.92 L1765.98 1512.56 Z\" fill=\"#000000\" fill-rule=\"evenodd\" fill-opacity=\"1\" /><path clip-path=\"url(#clip040)\" d=\"M 0 0 M2253.48 1543.18 L2261.11 1543.18 L2261.11 1516.82 L2252.8 1518.49 L2252.8 1514.23 L2261.07 1512.56 L2265.74 1512.56 L2265.74 1543.18 L2273.38 1543.18 L2273.38 1547.12 L2253.48 1547.12 L2253.48 1543.18 Z\" fill=\"#000000\" fill-rule=\"evenodd\" fill-opacity=\"1\" /><path clip-path=\"url(#clip040)\" d=\"M 0 0 M2288.45 1515.64 Q2284.84 1515.64 2283.01 1519.2 Q2281.21 1522.75 2281.21 1529.87 Q2281.21 1536.98 2283.01 1540.55 Q2284.84 1544.09 2288.45 1544.09 Q2292.09 1544.09 2293.89 1540.55 Q2295.72 1536.98 2295.72 1529.87 Q2295.72 1522.75 2293.89 1519.2 Q2292.09 1515.64 2288.45 1515.64 M2288.45 1511.93 Q2294.26 1511.93 2297.32 1516.54 Q2300.4 1521.12 2300.4 1529.87 Q2300.4 1538.6 2297.32 1543.21 Q2294.26 1547.79 2288.45 1547.79 Q2282.64 1547.79 2279.56 1543.21 Q2276.51 1538.6 2276.51 1529.87 Q2276.51 1521.12 2279.56 1516.54 Q2282.64 1511.93 2288.45 1511.93 Z\" fill=\"#000000\" fill-rule=\"evenodd\" fill-opacity=\"1\" /><path clip-path=\"url(#clip040)\" d=\"M 0 0 M2315.47 1515.64 Q2311.86 1515.64 2310.03 1519.2 Q2308.22 1522.75 2308.22 1529.87 Q2308.22 1536.98 2310.03 1540.55 Q2311.86 1544.09 2315.47 1544.09 Q2319.1 1544.09 2320.91 1540.55 Q2322.73 1536.98 2322.73 1529.87 Q2322.73 1522.75 2320.91 1519.2 Q2319.1 1515.64 2315.47 1515.64 M2315.47 1511.93 Q2321.28 1511.93 2324.33 1516.54 Q2327.41 1521.12 2327.41 1529.87 Q2327.41 1538.6 2324.33 1543.21 Q2321.28 1547.79 2315.47 1547.79 Q2309.66 1547.79 2306.58 1543.21 Q2303.52 1538.6 2303.52 1529.87 Q2303.52 1521.12 2306.58 1516.54 Q2309.66 1511.93 2315.47 1511.93 Z\" fill=\"#000000\" fill-rule=\"evenodd\" fill-opacity=\"1\" /><polyline clip-path=\"url(#clip042)\" style=\"stroke:#000000; stroke-width:2; stroke-opacity:0.1; fill:none\" points=\"\n",
       "  139.191,1411.77 2352.76,1411.77 \n",
       "  \"/>\n",
       "<polyline clip-path=\"url(#clip042)\" style=\"stroke:#000000; stroke-width:2; stroke-opacity:0.1; fill:none\" points=\"\n",
       "  139.191,1072.34 2352.76,1072.34 \n",
       "  \"/>\n",
       "<polyline clip-path=\"url(#clip042)\" style=\"stroke:#000000; stroke-width:2; stroke-opacity:0.1; fill:none\" points=\"\n",
       "  139.191,732.902 2352.76,732.902 \n",
       "  \"/>\n",
       "<polyline clip-path=\"url(#clip042)\" style=\"stroke:#000000; stroke-width:2; stroke-opacity:0.1; fill:none\" points=\"\n",
       "  139.191,393.468 2352.76,393.468 \n",
       "  \"/>\n",
       "<polyline clip-path=\"url(#clip042)\" style=\"stroke:#000000; stroke-width:2; stroke-opacity:0.1; fill:none\" points=\"\n",
       "  139.191,54.0328 2352.76,54.0328 \n",
       "  \"/>\n",
       "<polyline clip-path=\"url(#clip040)\" style=\"stroke:#000000; stroke-width:4; stroke-opacity:1; fill:none\" points=\"\n",
       "  139.191,1486.45 139.191,47.2441 \n",
       "  \"/>\n",
       "<polyline clip-path=\"url(#clip040)\" style=\"stroke:#000000; stroke-width:4; stroke-opacity:1; fill:none\" points=\"\n",
       "  139.191,1411.77 165.754,1411.77 \n",
       "  \"/>\n",
       "<polyline clip-path=\"url(#clip040)\" style=\"stroke:#000000; stroke-width:4; stroke-opacity:1; fill:none\" points=\"\n",
       "  139.191,1072.34 165.754,1072.34 \n",
       "  \"/>\n",
       "<polyline clip-path=\"url(#clip040)\" style=\"stroke:#000000; stroke-width:4; stroke-opacity:1; fill:none\" points=\"\n",
       "  139.191,732.902 165.754,732.902 \n",
       "  \"/>\n",
       "<polyline clip-path=\"url(#clip040)\" style=\"stroke:#000000; stroke-width:4; stroke-opacity:1; fill:none\" points=\"\n",
       "  139.191,393.468 165.754,393.468 \n",
       "  \"/>\n",
       "<polyline clip-path=\"url(#clip040)\" style=\"stroke:#000000; stroke-width:4; stroke-opacity:1; fill:none\" points=\"\n",
       "  139.191,54.0328 165.754,54.0328 \n",
       "  \"/>\n",
       "<path clip-path=\"url(#clip040)\" d=\"M 0 0 M56.2699 1425.12 L63.9087 1425.12 L63.9087 1398.75 L55.5986 1400.42 L55.5986 1396.16 L63.8624 1394.49 L68.5383 1394.49 L68.5383 1425.12 L76.1772 1425.12 L76.1772 1429.05 L56.2699 1429.05 L56.2699 1425.12 Z\" fill=\"#000000\" fill-rule=\"evenodd\" fill-opacity=\"1\" /><path clip-path=\"url(#clip040)\" d=\"M 0 0 M91.2465 1397.57 Q87.6354 1397.57 85.8068 1401.14 Q84.0012 1404.68 84.0012 1411.81 Q84.0012 1418.91 85.8068 1422.48 Q87.6354 1426.02 91.2465 1426.02 Q94.8808 1426.02 96.6863 1422.48 Q98.515 1418.91 98.515 1411.81 Q98.515 1404.68 96.6863 1401.14 Q94.8808 1397.57 91.2465 1397.57 M91.2465 1393.87 Q97.0567 1393.87 100.112 1398.47 Q103.191 1403.06 103.191 1411.81 Q103.191 1420.53 100.112 1425.14 Q97.0567 1429.72 91.2465 1429.72 Q85.4364 1429.72 82.3577 1425.14 Q79.3022 1420.53 79.3022 1411.81 Q79.3022 1403.06 82.3577 1398.47 Q85.4364 1393.87 91.2465 1393.87 Z\" fill=\"#000000\" fill-rule=\"evenodd\" fill-opacity=\"1\" /><path clip-path=\"url(#clip040)\" d=\"M 0 0 M59.8578 1085.68 L76.1772 1085.68 L76.1772 1089.62 L54.2328 1089.62 L54.2328 1085.68 Q56.8949 1082.93 61.4782 1078.3 Q66.0846 1073.65 67.2652 1072.3 Q69.5105 1069.78 70.3902 1068.04 Q71.2929 1066.28 71.2929 1064.59 Q71.2929 1061.84 69.3485 1060.1 Q67.4272 1058.37 64.3254 1058.37 Q62.1263 1058.37 59.6726 1059.13 Q57.2421 1059.9 54.4643 1061.45 L54.4643 1056.72 Q57.2884 1055.59 59.7421 1055.01 Q62.1958 1054.43 64.2328 1054.43 Q69.6031 1054.43 72.7976 1057.12 Q75.992 1059.8 75.992 1064.29 Q75.992 1066.42 75.1818 1068.34 Q74.3948 1070.24 72.2883 1072.84 Q71.7096 1073.51 68.6078 1076.72 Q65.5059 1079.92 59.8578 1085.68 Z\" fill=\"#000000\" fill-rule=\"evenodd\" fill-opacity=\"1\" /><path clip-path=\"url(#clip040)\" d=\"M 0 0 M91.2465 1058.14 Q87.6354 1058.14 85.8068 1061.7 Q84.0012 1065.24 84.0012 1072.37 Q84.0012 1079.48 85.8068 1083.04 Q87.6354 1086.58 91.2465 1086.58 Q94.8808 1086.58 96.6863 1083.04 Q98.515 1079.48 98.515 1072.37 Q98.515 1065.24 96.6863 1061.7 Q94.8808 1058.14 91.2465 1058.14 M91.2465 1054.43 Q97.0567 1054.43 100.112 1059.04 Q103.191 1063.62 103.191 1072.37 Q103.191 1081.1 100.112 1085.71 Q97.0567 1090.29 91.2465 1090.29 Q85.4364 1090.29 82.3577 1085.71 Q79.3022 1081.1 79.3022 1072.37 Q79.3022 1063.62 82.3577 1059.04 Q85.4364 1054.43 91.2465 1054.43 Z\" fill=\"#000000\" fill-rule=\"evenodd\" fill-opacity=\"1\" /><path clip-path=\"url(#clip040)\" d=\"M 0 0 M69.0476 731.548 Q72.404 732.266 74.279 734.534 Q76.1772 736.803 76.1772 740.136 Q76.1772 745.252 72.6587 748.053 Q69.1402 750.854 62.6587 750.854 Q60.4828 750.854 58.168 750.414 Q55.8764 749.997 53.4227 749.141 L53.4227 744.627 Q55.3671 745.761 57.6819 746.34 Q59.9967 746.919 62.5198 746.919 Q66.918 746.919 69.2096 745.183 Q71.5244 743.446 71.5244 740.136 Q71.5244 737.081 69.3717 735.368 Q67.242 733.632 63.4226 733.632 L59.3949 733.632 L59.3949 729.789 L63.6078 729.789 Q67.0569 729.789 68.8855 728.423 Q70.7142 727.034 70.7142 724.442 Q70.7142 721.78 68.8161 720.368 Q66.9411 718.933 63.4226 718.933 Q61.5013 718.933 59.3023 719.349 Q57.1032 719.766 54.4643 720.646 L54.4643 716.479 Q57.1264 715.738 59.4412 715.368 Q61.7791 714.998 63.8393 714.998 Q69.1633 714.998 72.2652 717.428 Q75.367 719.835 75.367 723.956 Q75.367 726.826 73.7235 728.817 Q72.08 730.784 69.0476 731.548 Z\" fill=\"#000000\" fill-rule=\"evenodd\" fill-opacity=\"1\" /><path clip-path=\"url(#clip040)\" d=\"M 0 0 M91.2465 718.701 Q87.6354 718.701 85.8068 722.266 Q84.0012 725.808 84.0012 732.937 Q84.0012 740.044 85.8068 743.608 Q87.6354 747.15 91.2465 747.15 Q94.8808 747.15 96.6863 743.608 Q98.515 740.044 98.515 732.937 Q98.515 725.808 96.6863 722.266 Q94.8808 718.701 91.2465 718.701 M91.2465 714.998 Q97.0567 714.998 100.112 719.604 Q103.191 724.187 103.191 732.937 Q103.191 741.664 100.112 746.27 Q97.0567 750.854 91.2465 750.854 Q85.4364 750.854 82.3577 746.27 Q79.3022 741.664 79.3022 732.937 Q79.3022 724.187 82.3577 719.604 Q85.4364 714.998 91.2465 714.998 Z\" fill=\"#000000\" fill-rule=\"evenodd\" fill-opacity=\"1\" /><path clip-path=\"url(#clip040)\" d=\"M 0 0 M66.5939 380.262 L54.7884 398.711 L66.5939 398.711 L66.5939 380.262 M65.367 376.188 L71.2466 376.188 L71.2466 398.711 L76.1772 398.711 L76.1772 402.6 L71.2466 402.6 L71.2466 410.748 L66.5939 410.748 L66.5939 402.6 L50.9921 402.6 L50.9921 398.086 L65.367 376.188 Z\" fill=\"#000000\" fill-rule=\"evenodd\" fill-opacity=\"1\" /><path clip-path=\"url(#clip040)\" d=\"M 0 0 M91.2465 379.266 Q87.6354 379.266 85.8068 382.831 Q84.0012 386.373 84.0012 393.502 Q84.0012 400.609 85.8068 404.174 Q87.6354 407.715 91.2465 407.715 Q94.8808 407.715 96.6863 404.174 Q98.515 400.609 98.515 393.502 Q98.515 386.373 96.6863 382.831 Q94.8808 379.266 91.2465 379.266 M91.2465 375.563 Q97.0567 375.563 100.112 380.169 Q103.191 384.752 103.191 393.502 Q103.191 402.229 100.112 406.836 Q97.0567 411.419 91.2465 411.419 Q85.4364 411.419 82.3577 406.836 Q79.3022 402.229 79.3022 393.502 Q79.3022 384.752 82.3577 380.169 Q85.4364 375.563 91.2465 375.563 Z\" fill=\"#000000\" fill-rule=\"evenodd\" fill-opacity=\"1\" /><path clip-path=\"url(#clip040)\" d=\"M 0 0 M55.2745 36.7528 L73.6309 36.7528 L73.6309 40.688 L59.5569 40.688 L59.5569 49.1601 Q60.5754 48.8129 61.5939 48.6509 Q62.6124 48.4657 63.6309 48.4657 Q69.418 48.4657 72.7976 51.637 Q76.1772 54.8083 76.1772 60.2249 Q76.1772 65.8036 72.705 68.9054 Q69.2328 71.9841 62.9134 71.9841 Q60.7374 71.9841 58.4689 71.6137 Q56.2236 71.2433 53.8162 70.5026 L53.8162 65.8036 Q55.8995 66.9378 58.1217 67.4934 Q60.3439 68.0489 62.8208 68.0489 Q66.8254 68.0489 69.1633 65.9424 Q71.5013 63.836 71.5013 60.2249 Q71.5013 56.6138 69.1633 54.5073 Q66.8254 52.4009 62.8208 52.4009 Q60.9458 52.4009 59.0708 52.8175 Q57.2189 53.2342 55.2745 54.1138 L55.2745 36.7528 Z\" fill=\"#000000\" fill-rule=\"evenodd\" fill-opacity=\"1\" /><path clip-path=\"url(#clip040)\" d=\"M 0 0 M91.2465 39.8315 Q87.6354 39.8315 85.8068 43.3963 Q84.0012 46.9379 84.0012 54.0675 Q84.0012 61.174 85.8068 64.7388 Q87.6354 68.2804 91.2465 68.2804 Q94.8808 68.2804 96.6863 64.7388 Q98.515 61.174 98.515 54.0675 Q98.515 46.9379 96.6863 43.3963 Q94.8808 39.8315 91.2465 39.8315 M91.2465 36.1278 Q97.0567 36.1278 100.112 40.7343 Q103.191 45.3176 103.191 54.0675 Q103.191 62.7943 100.112 67.4008 Q97.0567 71.9841 91.2465 71.9841 Q85.4364 71.9841 82.3577 67.4008 Q79.3022 62.7943 79.3022 54.0675 Q79.3022 45.3176 82.3577 40.7343 Q85.4364 36.1278 91.2465 36.1278 Z\" fill=\"#000000\" fill-rule=\"evenodd\" fill-opacity=\"1\" /><polyline clip-path=\"url(#clip042)\" style=\"stroke:#800080; stroke-width:4; stroke-opacity:1; fill:none\" points=\"\n",
       "  201.839,87.9763 222.933,393.468 244.026,597.129 265.12,732.902 286.213,800.789 307.307,868.676 328.401,902.62 349.494,902.62 370.588,936.563 391.682,936.563 \n",
       "  412.775,936.563 433.869,970.507 454.962,970.507 476.056,970.507 497.15,1004.45 518.243,1004.45 539.337,1004.45 560.431,1004.45 581.524,1038.39 602.618,1038.39 \n",
       "  623.711,1038.39 644.805,1038.39 665.899,1038.39 686.992,1038.39 708.086,1038.39 729.18,1038.39 750.273,1038.39 771.367,1038.39 792.46,1038.39 813.554,1106.28 \n",
       "  834.648,1106.28 855.741,1106.28 876.835,1140.22 897.929,1140.22 919.022,1140.22 940.116,1208.11 961.209,1208.11 982.303,1208.11 1003.4,1208.11 1024.49,1208.11 \n",
       "  1045.58,1208.11 1066.68,1208.11 1087.77,1208.11 1108.86,1208.11 1129.96,1208.11 1151.05,1208.11 1172.15,1208.11 1193.24,1208.11 1214.33,1208.11 1235.43,1208.11 \n",
       "  1256.52,1208.11 1277.61,1208.11 1298.71,1276 1319.8,1276 1340.89,1276 1361.99,1276 1383.08,1276 1404.18,1276 1425.27,1276 1446.36,1309.94 \n",
       "  1467.46,1309.94 1488.55,1309.94 1509.64,1309.94 1530.74,1309.94 1551.83,1309.94 1572.92,1309.94 1594.02,1309.94 1615.11,1343.89 1636.21,1343.89 1657.3,1377.83 \n",
       "  1678.39,1445.72 1699.49,1445.72 1720.58,1445.72 1741.67,1445.72 1762.77,1445.72 1783.86,1445.72 1804.95,1445.72 1826.05,1445.72 1847.14,1445.72 1868.24,1377.83 \n",
       "  1889.33,1377.83 1910.42,1377.83 1931.52,1411.77 1952.61,1411.77 1973.7,1411.77 1994.8,1411.77 2015.89,1411.77 2036.98,1411.77 2058.08,1411.77 2079.17,1411.77 \n",
       "  2100.27,1411.77 2121.36,1411.77 2142.45,1411.77 2163.55,1411.77 2184.64,1411.77 2205.73,1411.77 2226.83,1411.77 2247.92,1411.77 2269.01,1411.77 2290.11,1343.89 \n",
       "  \n",
       "  \"/>\n",
       "<polyline clip-path=\"url(#clip042)\" style=\"stroke:#008000; stroke-width:4; stroke-opacity:1; fill:none\" points=\"\n",
       "  201.839,121.92 222.933,529.242 244.026,698.959 265.12,766.846 286.213,766.846 307.307,732.902 328.401,698.959 349.494,732.902 370.588,732.902 391.682,732.902 \n",
       "  412.775,732.902 433.869,732.902 454.962,732.902 476.056,732.902 497.15,732.902 518.243,800.789 539.337,766.846 560.431,766.846 581.524,766.846 602.618,766.846 \n",
       "  623.711,834.733 644.805,766.846 665.899,766.846 686.992,766.846 708.086,766.846 729.18,766.846 750.273,834.733 771.367,868.676 792.46,868.676 813.554,868.676 \n",
       "  834.648,936.563 855.741,1004.45 876.835,1004.45 897.929,1038.39 919.022,1038.39 940.116,1038.39 961.209,1038.39 982.303,1038.39 1003.4,1038.39 1024.49,1038.39 \n",
       "  1045.58,1038.39 1066.68,1038.39 1087.77,1072.34 1108.86,1072.34 1129.96,1106.28 1151.05,1140.22 1172.15,1174.17 1193.24,1242.05 1214.33,1174.17 1235.43,1174.17 \n",
       "  1256.52,1174.17 1277.61,1140.22 1298.71,1140.22 1319.8,1140.22 1340.89,1140.22 1361.99,1174.17 1383.08,1174.17 1404.18,1174.17 1425.27,1208.11 1446.36,1208.11 \n",
       "  1467.46,1242.05 1488.55,1309.94 1509.64,1309.94 1530.74,1309.94 1551.83,1343.89 1572.92,1343.89 1594.02,1276 1615.11,1276 1636.21,1276 1657.3,1276 \n",
       "  1678.39,1276 1699.49,1276 1720.58,1276 1741.67,1276 1762.77,1309.94 1783.86,1309.94 1804.95,1343.89 1826.05,1343.89 1847.14,1343.89 1868.24,1343.89 \n",
       "  1889.33,1343.89 1910.42,1343.89 1931.52,1343.89 1952.61,1343.89 1973.7,1343.89 1994.8,1377.83 2015.89,1377.83 2036.98,1411.77 2058.08,1411.77 2079.17,1411.77 \n",
       "  2100.27,1411.77 2121.36,1411.77 2142.45,1411.77 2163.55,1411.77 2184.64,1411.77 2205.73,1445.72 2226.83,1445.72 2247.92,1445.72 2269.01,1445.72 2290.11,1445.72 \n",
       "  \n",
       "  \"/>\n",
       "<path clip-path=\"url(#clip040)\" d=\"\n",
       "M1827 276.658 L2278.97 276.658 L2278.97 95.2176 L1827 95.2176  Z\n",
       "  \" fill=\"#ffffff\" fill-rule=\"evenodd\" fill-opacity=\"1\"/>\n",
       "<polyline clip-path=\"url(#clip040)\" style=\"stroke:#000000; stroke-width:4; stroke-opacity:1; fill:none\" points=\"\n",
       "  1827,276.658 2278.97,276.658 2278.97,95.2176 1827,95.2176 1827,276.658 \n",
       "  \"/>\n",
       "<polyline clip-path=\"url(#clip040)\" style=\"stroke:#800080; stroke-width:4; stroke-opacity:1; fill:none\" points=\"\n",
       "  1851.6,155.698 1999.17,155.698 \n",
       "  \"/>\n",
       "<path clip-path=\"url(#clip040)\" d=\"M 0 0 M2042.67 159.714 Q2042.67 155.084 2040.75 152.538 Q2038.86 149.992 2035.41 149.992 Q2031.98 149.992 2030.06 152.538 Q2028.16 155.084 2028.16 159.714 Q2028.16 164.32 2030.06 166.866 Q2031.98 169.413 2035.41 169.413 Q2038.86 169.413 2040.75 166.866 Q2042.67 164.32 2042.67 159.714 M2046.93 169.76 Q2046.93 176.38 2043.99 179.598 Q2041.05 182.839 2034.99 182.839 Q2032.74 182.839 2030.75 182.491 Q2028.76 182.167 2026.89 181.473 L2026.89 177.329 Q2028.76 178.348 2030.59 178.834 Q2032.42 179.32 2034.32 179.32 Q2038.51 179.32 2040.59 177.121 Q2042.67 174.945 2042.67 170.524 L2042.67 168.417 Q2041.36 170.709 2039.29 171.843 Q2037.23 172.978 2034.36 172.978 Q2029.6 172.978 2026.68 169.343 Q2023.76 165.709 2023.76 159.714 Q2023.76 153.695 2026.68 150.061 Q2029.6 146.427 2034.36 146.427 Q2037.23 146.427 2039.29 147.561 Q2041.36 148.695 2042.67 150.987 L2042.67 147.052 L2046.93 147.052 L2046.93 169.76 Z\" fill=\"#000000\" fill-rule=\"evenodd\" fill-opacity=\"1\" /><path clip-path=\"url(#clip040)\" d=\"M 0 0 M2061.45 150.038 Q2058.02 150.038 2056.03 152.723 Q2054.04 155.385 2054.04 160.038 Q2054.04 164.691 2056.01 167.376 Q2058 170.038 2061.45 170.038 Q2064.85 170.038 2066.84 167.353 Q2068.83 164.667 2068.83 160.038 Q2068.83 155.431 2066.84 152.746 Q2064.85 150.038 2061.45 150.038 M2061.45 146.427 Q2067 146.427 2070.17 150.038 Q2073.35 153.649 2073.35 160.038 Q2073.35 166.404 2070.17 170.038 Q2067 173.649 2061.45 173.649 Q2055.87 173.649 2052.7 170.038 Q2049.55 166.404 2049.55 160.038 Q2049.55 153.649 2052.7 150.038 Q2055.87 146.427 2061.45 146.427 Z\" fill=\"#000000\" fill-rule=\"evenodd\" fill-opacity=\"1\" /><path clip-path=\"url(#clip040)\" d=\"M 0 0 M2077.95 136.959 L2082.21 136.959 L2082.21 150.894 L2085.1 148.811 L2086.86 151.265 L2082.21 154.529 L2082.21 172.978 L2077.95 172.978 L2077.95 157.561 L2075.1 159.598 L2073.39 157.144 L2077.95 153.88 L2077.95 136.959 Z\" fill=\"#000000\" fill-rule=\"evenodd\" fill-opacity=\"1\" /><path clip-path=\"url(#clip040)\" d=\"M 0 0 M2113.51 158.95 L2113.51 161.033 L2093.92 161.033 Q2094.2 165.431 2096.56 167.746 Q2098.95 170.038 2103.18 170.038 Q2105.64 170.038 2107.93 169.436 Q2110.24 168.834 2112.51 167.63 L2112.51 171.658 Q2110.22 172.63 2107.81 173.14 Q2105.41 173.649 2102.93 173.649 Q2096.73 173.649 2093.09 170.038 Q2089.48 166.427 2089.48 160.269 Q2089.48 153.904 2092.91 150.177 Q2096.35 146.427 2102.19 146.427 Q2107.42 146.427 2110.45 149.806 Q2113.51 153.163 2113.51 158.95 M2109.25 157.7 Q2109.2 154.205 2107.28 152.121 Q2105.38 150.038 2102.23 150.038 Q2098.67 150.038 2096.52 152.052 Q2094.39 154.066 2094.06 157.723 L2109.25 157.7 M2105.75 172.978 L2108.51 172.978 Q2107.47 174.39 2106.96 175.408 Q2106.47 176.427 2106.47 177.144 Q2106.47 178.209 2107.1 178.741 Q2107.74 179.274 2108.99 179.274 Q2109.73 179.274 2110.45 179.089 Q2111.17 178.927 2111.89 178.579 L2111.89 181.658 Q2111.01 181.89 2110.22 182.005 Q2109.43 182.121 2108.74 182.121 Q2105.91 182.121 2104.57 181.103 Q2103.25 180.107 2103.25 177.954 Q2103.25 176.843 2103.85 175.616 Q2104.48 174.413 2105.75 172.978 Z\" fill=\"#000000\" fill-rule=\"evenodd\" fill-opacity=\"1\" /><path clip-path=\"url(#clip040)\" d=\"M 0 0 M2136.59 160.038 Q2136.59 155.339 2134.64 152.677 Q2132.72 149.992 2129.34 149.992 Q2125.96 149.992 2124.02 152.677 Q2122.1 155.339 2122.1 160.038 Q2122.1 164.737 2124.02 167.422 Q2125.96 170.084 2129.34 170.084 Q2132.72 170.084 2134.64 167.422 Q2136.59 164.737 2136.59 160.038 M2122.1 150.987 Q2123.44 148.672 2125.48 147.561 Q2127.54 146.427 2130.38 146.427 Q2135.1 146.427 2138.04 150.177 Q2141.01 153.927 2141.01 160.038 Q2141.01 166.149 2138.04 169.899 Q2135.1 173.649 2130.38 173.649 Q2127.54 173.649 2125.48 172.538 Q2123.44 171.403 2122.1 169.089 L2122.1 172.978 L2117.81 172.978 L2117.81 136.959 L2122.1 136.959 L2122.1 150.987 Z\" fill=\"#000000\" fill-rule=\"evenodd\" fill-opacity=\"1\" /><path clip-path=\"url(#clip040)\" d=\"M 0 0 M2145.47 147.052 L2149.73 147.052 L2149.73 172.978 L2145.47 172.978 L2145.47 147.052 M2145.47 136.959 L2149.73 136.959 L2149.73 142.353 L2145.47 142.353 L2145.47 136.959 Z\" fill=\"#000000\" fill-rule=\"evenodd\" fill-opacity=\"1\" /><path clip-path=\"url(#clip040)\" d=\"M 0 0 M2176.38 158.95 L2176.38 161.033 L2156.79 161.033 Q2157.07 165.431 2159.43 167.746 Q2161.82 170.038 2166.05 170.038 Q2168.51 170.038 2170.8 169.436 Q2173.11 168.834 2175.38 167.63 L2175.38 171.658 Q2173.09 172.63 2170.68 173.14 Q2168.28 173.649 2165.8 173.649 Q2159.6 173.649 2155.96 170.038 Q2152.35 166.427 2152.35 160.269 Q2152.35 153.904 2155.78 150.177 Q2159.22 146.427 2165.06 146.427 Q2170.29 146.427 2173.32 149.806 Q2176.38 153.163 2176.38 158.95 M2172.12 157.7 Q2172.07 154.205 2170.15 152.121 Q2168.25 150.038 2165.1 150.038 Q2161.54 150.038 2159.39 152.052 Q2157.26 154.066 2156.93 157.723 L2172.12 157.7 Z\" fill=\"#000000\" fill-rule=\"evenodd\" fill-opacity=\"1\" /><polyline clip-path=\"url(#clip040)\" style=\"stroke:#008000; stroke-width:4; stroke-opacity:1; fill:none\" points=\"\n",
       "  1851.6,216.178 1999.17,216.178 \n",
       "  \"/>\n",
       "<path clip-path=\"url(#clip040)\" d=\"M 0 0 M2029.09 207.532 L2033.35 207.532 L2033.35 233.921 Q2033.35 238.874 2031.45 241.096 Q2029.57 243.319 2025.38 243.319 L2023.76 243.319 L2023.76 239.708 L2024.9 239.708 Q2027.33 239.708 2028.21 238.573 Q2029.09 237.462 2029.09 233.921 L2029.09 207.532 M2029.09 197.439 L2033.35 197.439 L2033.35 202.833 L2029.09 202.833 L2029.09 197.439 Z\" fill=\"#000000\" fill-rule=\"evenodd\" fill-opacity=\"1\" /><path clip-path=\"url(#clip040)\" d=\"M 0 0 M2049.6 220.425 Q2044.43 220.425 2042.44 221.606 Q2040.45 222.786 2040.45 225.634 Q2040.45 227.902 2041.93 229.245 Q2043.44 230.564 2046.01 230.564 Q2049.55 230.564 2051.68 228.064 Q2053.83 225.541 2053.83 221.374 L2053.83 220.425 L2049.6 220.425 M2058.09 218.666 L2058.09 233.458 L2053.83 233.458 L2053.83 229.522 Q2052.37 231.883 2050.2 233.018 Q2048.02 234.129 2044.87 234.129 Q2040.89 234.129 2038.53 231.907 Q2036.19 229.661 2036.19 225.911 Q2036.19 221.536 2039.11 219.314 Q2042.05 217.092 2047.86 217.092 L2053.83 217.092 L2053.83 216.675 Q2053.83 213.735 2051.89 212.138 Q2049.97 210.518 2046.47 210.518 Q2044.25 210.518 2042.14 211.05 Q2040.04 211.583 2038.09 212.647 L2038.09 208.712 Q2040.43 207.81 2042.63 207.37 Q2044.83 206.907 2046.91 206.907 Q2052.54 206.907 2055.31 209.823 Q2058.09 212.74 2058.09 218.666 Z\" fill=\"#000000\" fill-rule=\"evenodd\" fill-opacity=\"1\" /><path clip-path=\"url(#clip040)\" d=\"M 0 0 M2079.09 208.296 L2079.09 212.323 Q2077.28 211.397 2075.34 210.935 Q2073.39 210.472 2071.31 210.472 Q2068.14 210.472 2066.54 211.444 Q2064.97 212.416 2064.97 214.36 Q2064.97 215.842 2066.1 216.698 Q2067.23 217.532 2070.66 218.296 L2072.12 218.62 Q2076.66 219.592 2078.55 221.374 Q2080.48 223.134 2080.48 226.305 Q2080.48 229.916 2077.6 232.022 Q2074.76 234.129 2069.76 234.129 Q2067.67 234.129 2065.41 233.712 Q2063.16 233.319 2060.66 232.508 L2060.66 228.11 Q2063.02 229.337 2065.31 229.962 Q2067.61 230.564 2069.85 230.564 Q2072.86 230.564 2074.48 229.546 Q2076.1 228.504 2076.1 226.629 Q2076.1 224.893 2074.92 223.967 Q2073.76 223.041 2069.8 222.184 L2068.32 221.837 Q2064.36 221.004 2062.61 219.291 Q2060.85 217.555 2060.85 214.546 Q2060.85 210.888 2063.44 208.898 Q2066.03 206.907 2070.8 206.907 Q2073.16 206.907 2075.24 207.254 Q2077.33 207.601 2079.09 208.296 Z\" fill=\"#000000\" fill-rule=\"evenodd\" fill-opacity=\"1\" /><path clip-path=\"url(#clip040)\" d=\"M 0 0 M2089.16 200.171 L2089.16 207.532 L2097.93 207.532 L2097.93 210.842 L2089.16 210.842 L2089.16 224.916 Q2089.16 228.087 2090.01 228.99 Q2090.89 229.893 2093.55 229.893 L2097.93 229.893 L2097.93 233.458 L2093.55 233.458 Q2088.62 233.458 2086.75 231.629 Q2084.87 229.777 2084.87 224.916 L2084.87 210.842 L2081.75 210.842 L2081.75 207.532 L2084.87 207.532 L2084.87 200.171 L2089.16 200.171 Z\" fill=\"#000000\" fill-rule=\"evenodd\" fill-opacity=\"1\" /><path clip-path=\"url(#clip040)\" d=\"M 0 0 M2117.42 211.513 Q2116.7 211.097 2115.85 210.911 Q2115.01 210.703 2113.99 210.703 Q2110.38 210.703 2108.44 213.064 Q2106.52 215.402 2106.52 219.8 L2106.52 233.458 L2102.23 233.458 L2102.23 207.532 L2106.52 207.532 L2106.52 211.56 Q2107.86 209.198 2110.01 208.064 Q2112.16 206.907 2115.24 206.907 Q2115.68 206.907 2116.22 206.976 Q2116.75 207.023 2117.4 207.138 L2117.42 211.513 Z\" fill=\"#000000\" fill-rule=\"evenodd\" fill-opacity=\"1\" /><path clip-path=\"url(#clip040)\" d=\"M 0 0 M2120.04 207.532 L2140.27 207.532 L2140.27 211.421 L2124.25 230.055 L2140.27 230.055 L2140.27 233.458 L2119.46 233.458 L2119.46 229.569 L2135.48 210.935 L2120.04 210.935 L2120.04 207.532 Z\" fill=\"#000000\" fill-rule=\"evenodd\" fill-opacity=\"1\" /><path clip-path=\"url(#clip040)\" d=\"M 0 0 M2166.91 219.43 L2166.91 221.513 L2147.33 221.513 Q2147.6 225.911 2149.97 228.226 Q2152.35 230.518 2156.59 230.518 Q2159.04 230.518 2161.33 229.916 Q2163.65 229.314 2165.91 228.11 L2165.91 232.138 Q2163.62 233.11 2161.22 233.62 Q2158.81 234.129 2156.33 234.129 Q2150.13 234.129 2146.49 230.518 Q2142.88 226.907 2142.88 220.749 Q2142.88 214.384 2146.31 210.657 Q2149.76 206.907 2155.59 206.907 Q2160.82 206.907 2163.85 210.286 Q2166.91 213.643 2166.91 219.43 M2162.65 218.18 Q2162.6 214.685 2160.68 212.601 Q2158.79 210.518 2155.64 210.518 Q2152.07 210.518 2149.92 212.532 Q2147.79 214.546 2147.47 218.203 L2162.65 218.18 M2159.16 233.458 L2161.91 233.458 Q2160.87 234.87 2160.36 235.888 Q2159.87 236.907 2159.87 237.624 Q2159.87 238.689 2160.5 239.221 Q2161.15 239.754 2162.4 239.754 Q2163.14 239.754 2163.85 239.569 Q2164.57 239.407 2165.29 239.059 L2165.29 242.138 Q2164.41 242.37 2163.62 242.485 Q2162.84 242.601 2162.14 242.601 Q2159.32 242.601 2157.97 241.583 Q2156.66 240.587 2156.66 238.434 Q2156.66 237.323 2157.26 236.096 Q2157.88 234.893 2159.16 233.458 Z\" fill=\"#000000\" fill-rule=\"evenodd\" fill-opacity=\"1\" /><path clip-path=\"url(#clip040)\" d=\"M 0 0 M2189.99 220.518 Q2189.99 215.819 2188.04 213.157 Q2186.12 210.472 2182.74 210.472 Q2179.36 210.472 2177.42 213.157 Q2175.5 215.819 2175.5 220.518 Q2175.5 225.217 2177.42 227.902 Q2179.36 230.564 2182.74 230.564 Q2186.12 230.564 2188.04 227.902 Q2189.99 225.217 2189.99 220.518 M2175.5 211.467 Q2176.84 209.152 2178.88 208.041 Q2180.94 206.907 2183.78 206.907 Q2188.51 206.907 2191.45 210.657 Q2194.41 214.407 2194.41 220.518 Q2194.41 226.629 2191.45 230.379 Q2188.51 234.129 2183.78 234.129 Q2180.94 234.129 2178.88 233.018 Q2176.84 231.883 2175.5 229.569 L2175.5 233.458 L2171.22 233.458 L2171.22 197.439 L2175.5 197.439 L2175.5 211.467 Z\" fill=\"#000000\" fill-rule=\"evenodd\" fill-opacity=\"1\" /><path clip-path=\"url(#clip040)\" d=\"M 0 0 M2198.88 207.532 L2203.14 207.532 L2203.14 233.458 L2198.88 233.458 L2198.88 207.532 M2198.88 197.439 L2203.14 197.439 L2203.14 202.833 L2198.88 202.833 L2198.88 197.439 Z\" fill=\"#000000\" fill-rule=\"evenodd\" fill-opacity=\"1\" /><path clip-path=\"url(#clip040)\" d=\"M 0 0 M2229.78 219.43 L2229.78 221.513 L2210.2 221.513 Q2210.47 225.911 2212.84 228.226 Q2215.22 230.518 2219.46 230.518 Q2221.91 230.518 2224.2 229.916 Q2226.52 229.314 2228.78 228.11 L2228.78 232.138 Q2226.49 233.11 2224.09 233.62 Q2221.68 234.129 2219.2 234.129 Q2213 234.129 2209.36 230.518 Q2205.75 226.907 2205.75 220.749 Q2205.75 214.384 2209.18 210.657 Q2212.63 206.907 2218.46 206.907 Q2223.69 206.907 2226.72 210.286 Q2229.78 213.643 2229.78 219.43 M2225.52 218.18 Q2225.47 214.685 2223.55 212.601 Q2221.66 210.518 2218.51 210.518 Q2214.94 210.518 2212.79 212.532 Q2210.66 214.546 2210.34 218.203 L2225.52 218.18 Z\" fill=\"#000000\" fill-rule=\"evenodd\" fill-opacity=\"1\" /></svg>\n"
      ]
     },
     "execution_count": 289,
     "metadata": {},
     "output_type": "execute_result"
    }
   ],
   "source": [
    "wykr(9,9,70,70, 100, zeros(Int64, 100, 2), 5)"
   ]
  },
  {
   "cell_type": "code",
   "execution_count": 290,
   "metadata": {},
   "outputs": [
    {
     "data": {
      "image/svg+xml": [
       "<?xml version=\"1.0\" encoding=\"utf-8\"?>\n",
       "<svg xmlns=\"http://www.w3.org/2000/svg\" xmlns:xlink=\"http://www.w3.org/1999/xlink\" width=\"600\" height=\"400\" viewBox=\"0 0 2400 1600\">\n",
       "<defs>\n",
       "  <clipPath id=\"clip080\">\n",
       "    <rect x=\"0\" y=\"0\" width=\"2400\" height=\"1600\"/>\n",
       "  </clipPath>\n",
       "</defs>\n",
       "<path clip-path=\"url(#clip080)\" d=\"\n",
       "M0 1600 L2400 1600 L2400 0 L0 0  Z\n",
       "  \" fill=\"#ffffff\" fill-rule=\"evenodd\" fill-opacity=\"1\"/>\n",
       "<defs>\n",
       "  <clipPath id=\"clip081\">\n",
       "    <rect x=\"480\" y=\"0\" width=\"1681\" height=\"1600\"/>\n",
       "  </clipPath>\n",
       "</defs>\n",
       "<path clip-path=\"url(#clip080)\" d=\"\n",
       "M172.918 1486.45 L2352.76 1486.45 L2352.76 47.2441 L172.918 47.2441  Z\n",
       "  \" fill=\"#ffffff\" fill-rule=\"evenodd\" fill-opacity=\"1\"/>\n",
       "<defs>\n",
       "  <clipPath id=\"clip082\">\n",
       "    <rect x=\"172\" y=\"47\" width=\"2181\" height=\"1440\"/>\n",
       "  </clipPath>\n",
       "</defs>\n",
       "<polyline clip-path=\"url(#clip082)\" style=\"stroke:#000000; stroke-width:2; stroke-opacity:0.1; fill:none\" points=\"\n",
       "  213.839,1486.45 213.839,47.2441 \n",
       "  \"/>\n",
       "<polyline clip-path=\"url(#clip082)\" style=\"stroke:#000000; stroke-width:2; stroke-opacity:0.1; fill:none\" points=\"\n",
       "  733.145,1486.45 733.145,47.2441 \n",
       "  \"/>\n",
       "<polyline clip-path=\"url(#clip082)\" style=\"stroke:#000000; stroke-width:2; stroke-opacity:0.1; fill:none\" points=\"\n",
       "  1252.45,1486.45 1252.45,47.2441 \n",
       "  \"/>\n",
       "<polyline clip-path=\"url(#clip082)\" style=\"stroke:#000000; stroke-width:2; stroke-opacity:0.1; fill:none\" points=\"\n",
       "  1771.76,1486.45 1771.76,47.2441 \n",
       "  \"/>\n",
       "<polyline clip-path=\"url(#clip082)\" style=\"stroke:#000000; stroke-width:2; stroke-opacity:0.1; fill:none\" points=\"\n",
       "  2291.06,1486.45 2291.06,47.2441 \n",
       "  \"/>\n",
       "<polyline clip-path=\"url(#clip080)\" style=\"stroke:#000000; stroke-width:4; stroke-opacity:1; fill:none\" points=\"\n",
       "  172.918,1486.45 2352.76,1486.45 \n",
       "  \"/>\n",
       "<polyline clip-path=\"url(#clip080)\" style=\"stroke:#000000; stroke-width:4; stroke-opacity:1; fill:none\" points=\"\n",
       "  213.839,1486.45 213.839,1469.18 \n",
       "  \"/>\n",
       "<polyline clip-path=\"url(#clip080)\" style=\"stroke:#000000; stroke-width:4; stroke-opacity:1; fill:none\" points=\"\n",
       "  733.145,1486.45 733.145,1469.18 \n",
       "  \"/>\n",
       "<polyline clip-path=\"url(#clip080)\" style=\"stroke:#000000; stroke-width:4; stroke-opacity:1; fill:none\" points=\"\n",
       "  1252.45,1486.45 1252.45,1469.18 \n",
       "  \"/>\n",
       "<polyline clip-path=\"url(#clip080)\" style=\"stroke:#000000; stroke-width:4; stroke-opacity:1; fill:none\" points=\"\n",
       "  1771.76,1486.45 1771.76,1469.18 \n",
       "  \"/>\n",
       "<polyline clip-path=\"url(#clip080)\" style=\"stroke:#000000; stroke-width:4; stroke-opacity:1; fill:none\" points=\"\n",
       "  2291.06,1486.45 2291.06,1469.18 \n",
       "  \"/>\n",
       "<path clip-path=\"url(#clip080)\" d=\"M 0 0 M213.839 1515.64 Q210.228 1515.64 208.399 1519.2 Q206.594 1522.75 206.594 1529.87 Q206.594 1536.98 208.399 1540.55 Q210.228 1544.09 213.839 1544.09 Q217.473 1544.09 219.279 1540.55 Q221.107 1536.98 221.107 1529.87 Q221.107 1522.75 219.279 1519.2 Q217.473 1515.64 213.839 1515.64 M213.839 1511.93 Q219.649 1511.93 222.705 1516.54 Q225.783 1521.12 225.783 1529.87 Q225.783 1538.6 222.705 1543.21 Q219.649 1547.79 213.839 1547.79 Q208.029 1547.79 204.95 1543.21 Q201.895 1538.6 201.895 1529.87 Q201.895 1521.12 204.95 1516.54 Q208.029 1511.93 213.839 1511.93 Z\" fill=\"#000000\" fill-rule=\"evenodd\" fill-opacity=\"1\" /><path clip-path=\"url(#clip080)\" d=\"M 0 0 M714.788 1543.18 L731.108 1543.18 L731.108 1547.12 L709.163 1547.12 L709.163 1543.18 Q711.825 1540.43 716.409 1535.8 Q721.015 1531.15 722.196 1529.81 Q724.441 1527.28 725.321 1525.55 Q726.224 1523.79 726.224 1522.1 Q726.224 1519.34 724.279 1517.61 Q722.358 1515.87 719.256 1515.87 Q717.057 1515.87 714.603 1516.63 Q712.173 1517.4 709.395 1518.95 L709.395 1514.23 Q712.219 1513.09 714.673 1512.51 Q717.126 1511.93 719.163 1511.93 Q724.534 1511.93 727.728 1514.62 Q730.923 1517.31 730.923 1521.8 Q730.923 1523.93 730.112 1525.85 Q729.325 1527.74 727.219 1530.34 Q726.64 1531.01 723.538 1534.23 Q720.436 1537.42 714.788 1543.18 Z\" fill=\"#000000\" fill-rule=\"evenodd\" fill-opacity=\"1\" /><path clip-path=\"url(#clip080)\" d=\"M 0 0 M736.223 1512.56 L754.58 1512.56 L754.58 1516.5 L740.506 1516.5 L740.506 1524.97 Q741.524 1524.62 742.543 1524.46 Q743.561 1524.27 744.58 1524.27 Q750.367 1524.27 753.747 1527.44 Q757.126 1530.62 757.126 1536.03 Q757.126 1541.61 753.654 1544.71 Q750.182 1547.79 743.862 1547.79 Q741.686 1547.79 739.418 1547.42 Q737.173 1547.05 734.765 1546.31 L734.765 1541.61 Q736.848 1542.74 739.071 1543.3 Q741.293 1543.86 743.77 1543.86 Q747.774 1543.86 750.112 1541.75 Q752.45 1539.64 752.45 1536.03 Q752.45 1532.42 750.112 1530.31 Q747.774 1528.21 743.77 1528.21 Q741.895 1528.21 740.02 1528.62 Q738.168 1529.04 736.223 1529.92 L736.223 1512.56 Z\" fill=\"#000000\" fill-rule=\"evenodd\" fill-opacity=\"1\" /><path clip-path=\"url(#clip080)\" d=\"M 0 0 M1229.22 1512.56 L1247.58 1512.56 L1247.58 1516.5 L1233.5 1516.5 L1233.5 1524.97 Q1234.52 1524.62 1235.54 1524.46 Q1236.56 1524.27 1237.58 1524.27 Q1243.37 1524.27 1246.74 1527.44 Q1250.12 1530.62 1250.12 1536.03 Q1250.12 1541.61 1246.65 1544.71 Q1243.18 1547.79 1236.86 1547.79 Q1234.68 1547.79 1232.42 1547.42 Q1230.17 1547.05 1227.76 1546.31 L1227.76 1541.61 Q1229.85 1542.74 1232.07 1543.3 Q1234.29 1543.86 1236.77 1543.86 Q1240.77 1543.86 1243.11 1541.75 Q1245.45 1539.64 1245.45 1536.03 Q1245.45 1532.42 1243.11 1530.31 Q1240.77 1528.21 1236.77 1528.21 Q1234.89 1528.21 1233.02 1528.62 Q1231.17 1529.04 1229.22 1529.92 L1229.22 1512.56 Z\" fill=\"#000000\" fill-rule=\"evenodd\" fill-opacity=\"1\" /><path clip-path=\"url(#clip080)\" d=\"M 0 0 M1265.19 1515.64 Q1261.58 1515.64 1259.75 1519.2 Q1257.95 1522.75 1257.95 1529.87 Q1257.95 1536.98 1259.75 1540.55 Q1261.58 1544.09 1265.19 1544.09 Q1268.83 1544.09 1270.63 1540.55 Q1272.46 1536.98 1272.46 1529.87 Q1272.46 1522.75 1270.63 1519.2 Q1268.83 1515.64 1265.19 1515.64 M1265.19 1511.93 Q1271 1511.93 1274.06 1516.54 Q1277.14 1521.12 1277.14 1529.87 Q1277.14 1538.6 1274.06 1543.21 Q1271 1547.79 1265.19 1547.79 Q1259.38 1547.79 1256.3 1543.21 Q1253.25 1538.6 1253.25 1529.87 Q1253.25 1521.12 1256.3 1516.54 Q1259.38 1511.93 1265.19 1511.93 Z\" fill=\"#000000\" fill-rule=\"evenodd\" fill-opacity=\"1\" /><path clip-path=\"url(#clip080)\" d=\"M 0 0 M1747.64 1512.56 L1769.86 1512.56 L1769.86 1514.55 L1757.31 1547.12 L1752.43 1547.12 L1764.23 1516.5 L1747.64 1516.5 L1747.64 1512.56 Z\" fill=\"#000000\" fill-rule=\"evenodd\" fill-opacity=\"1\" /><path clip-path=\"url(#clip080)\" d=\"M 0 0 M1774.97 1512.56 L1793.33 1512.56 L1793.33 1516.5 L1779.26 1516.5 L1779.26 1524.97 Q1780.27 1524.62 1781.29 1524.46 Q1782.31 1524.27 1783.33 1524.27 Q1789.12 1524.27 1792.5 1527.44 Q1795.88 1530.62 1795.88 1536.03 Q1795.88 1541.61 1792.4 1544.71 Q1788.93 1547.79 1782.61 1547.79 Q1780.44 1547.79 1778.17 1547.42 Q1775.92 1547.05 1773.52 1546.31 L1773.52 1541.61 Q1775.6 1542.74 1777.82 1543.3 Q1780.04 1543.86 1782.52 1543.86 Q1786.52 1543.86 1788.86 1541.75 Q1791.2 1539.64 1791.2 1536.03 Q1791.2 1532.42 1788.86 1530.31 Q1786.52 1528.21 1782.52 1528.21 Q1780.65 1528.21 1778.77 1528.62 Q1776.92 1529.04 1774.97 1529.92 L1774.97 1512.56 Z\" fill=\"#000000\" fill-rule=\"evenodd\" fill-opacity=\"1\" /><path clip-path=\"url(#clip080)\" d=\"M 0 0 M2254.43 1543.18 L2262.07 1543.18 L2262.07 1516.82 L2253.76 1518.49 L2253.76 1514.23 L2262.02 1512.56 L2266.7 1512.56 L2266.7 1543.18 L2274.34 1543.18 L2274.34 1547.12 L2254.43 1547.12 L2254.43 1543.18 Z\" fill=\"#000000\" fill-rule=\"evenodd\" fill-opacity=\"1\" /><path clip-path=\"url(#clip080)\" d=\"M 0 0 M2289.41 1515.64 Q2285.8 1515.64 2283.97 1519.2 Q2282.16 1522.75 2282.16 1529.87 Q2282.16 1536.98 2283.97 1540.55 Q2285.8 1544.09 2289.41 1544.09 Q2293.04 1544.09 2294.85 1540.55 Q2296.68 1536.98 2296.68 1529.87 Q2296.68 1522.75 2294.85 1519.2 Q2293.04 1515.64 2289.41 1515.64 M2289.41 1511.93 Q2295.22 1511.93 2298.27 1516.54 Q2301.35 1521.12 2301.35 1529.87 Q2301.35 1538.6 2298.27 1543.21 Q2295.22 1547.79 2289.41 1547.79 Q2283.6 1547.79 2280.52 1543.21 Q2277.46 1538.6 2277.46 1529.87 Q2277.46 1521.12 2280.52 1516.54 Q2283.6 1511.93 2289.41 1511.93 Z\" fill=\"#000000\" fill-rule=\"evenodd\" fill-opacity=\"1\" /><path clip-path=\"url(#clip080)\" d=\"M 0 0 M2316.42 1515.64 Q2312.81 1515.64 2310.98 1519.2 Q2309.18 1522.75 2309.18 1529.87 Q2309.18 1536.98 2310.98 1540.55 Q2312.81 1544.09 2316.42 1544.09 Q2320.06 1544.09 2321.86 1540.55 Q2323.69 1536.98 2323.69 1529.87 Q2323.69 1522.75 2321.86 1519.2 Q2320.06 1515.64 2316.42 1515.64 M2316.42 1511.93 Q2322.23 1511.93 2325.29 1516.54 Q2328.37 1521.12 2328.37 1529.87 Q2328.37 1538.6 2325.29 1543.21 Q2322.23 1547.79 2316.42 1547.79 Q2310.61 1547.79 2307.53 1543.21 Q2304.48 1538.6 2304.48 1529.87 Q2304.48 1521.12 2307.53 1516.54 Q2310.61 1511.93 2316.42 1511.93 Z\" fill=\"#000000\" fill-rule=\"evenodd\" fill-opacity=\"1\" /><polyline clip-path=\"url(#clip082)\" style=\"stroke:#000000; stroke-width:2; stroke-opacity:0.1; fill:none\" points=\"\n",
       "  172.918,1332.57 2352.76,1332.57 \n",
       "  \"/>\n",
       "<polyline clip-path=\"url(#clip082)\" style=\"stroke:#000000; stroke-width:2; stroke-opacity:0.1; fill:none\" points=\"\n",
       "  172.918,1144 2352.76,1144 \n",
       "  \"/>\n",
       "<polyline clip-path=\"url(#clip082)\" style=\"stroke:#000000; stroke-width:2; stroke-opacity:0.1; fill:none\" points=\"\n",
       "  172.918,955.421 2352.76,955.421 \n",
       "  \"/>\n",
       "<polyline clip-path=\"url(#clip082)\" style=\"stroke:#000000; stroke-width:2; stroke-opacity:0.1; fill:none\" points=\"\n",
       "  172.918,766.846 2352.76,766.846 \n",
       "  \"/>\n",
       "<polyline clip-path=\"url(#clip082)\" style=\"stroke:#000000; stroke-width:2; stroke-opacity:0.1; fill:none\" points=\"\n",
       "  172.918,578.271 2352.76,578.271 \n",
       "  \"/>\n",
       "<polyline clip-path=\"url(#clip082)\" style=\"stroke:#000000; stroke-width:2; stroke-opacity:0.1; fill:none\" points=\"\n",
       "  172.918,389.696 2352.76,389.696 \n",
       "  \"/>\n",
       "<polyline clip-path=\"url(#clip082)\" style=\"stroke:#000000; stroke-width:2; stroke-opacity:0.1; fill:none\" points=\"\n",
       "  172.918,201.121 2352.76,201.121 \n",
       "  \"/>\n",
       "<polyline clip-path=\"url(#clip080)\" style=\"stroke:#000000; stroke-width:4; stroke-opacity:1; fill:none\" points=\"\n",
       "  172.918,1486.45 172.918,47.2441 \n",
       "  \"/>\n",
       "<polyline clip-path=\"url(#clip080)\" style=\"stroke:#000000; stroke-width:4; stroke-opacity:1; fill:none\" points=\"\n",
       "  172.918,1332.57 199.076,1332.57 \n",
       "  \"/>\n",
       "<polyline clip-path=\"url(#clip080)\" style=\"stroke:#000000; stroke-width:4; stroke-opacity:1; fill:none\" points=\"\n",
       "  172.918,1144 199.076,1144 \n",
       "  \"/>\n",
       "<polyline clip-path=\"url(#clip080)\" style=\"stroke:#000000; stroke-width:4; stroke-opacity:1; fill:none\" points=\"\n",
       "  172.918,955.421 199.076,955.421 \n",
       "  \"/>\n",
       "<polyline clip-path=\"url(#clip080)\" style=\"stroke:#000000; stroke-width:4; stroke-opacity:1; fill:none\" points=\"\n",
       "  172.918,766.846 199.076,766.846 \n",
       "  \"/>\n",
       "<polyline clip-path=\"url(#clip080)\" style=\"stroke:#000000; stroke-width:4; stroke-opacity:1; fill:none\" points=\"\n",
       "  172.918,578.271 199.076,578.271 \n",
       "  \"/>\n",
       "<polyline clip-path=\"url(#clip080)\" style=\"stroke:#000000; stroke-width:4; stroke-opacity:1; fill:none\" points=\"\n",
       "  172.918,389.696 199.076,389.696 \n",
       "  \"/>\n",
       "<polyline clip-path=\"url(#clip080)\" style=\"stroke:#000000; stroke-width:4; stroke-opacity:1; fill:none\" points=\"\n",
       "  172.918,201.121 199.076,201.121 \n",
       "  \"/>\n",
       "<path clip-path=\"url(#clip080)\" d=\"M 0 0 M55.6217 1345.92 L63.2606 1345.92 L63.2606 1319.55 L54.9504 1321.22 L54.9504 1316.96 L63.2143 1315.29 L67.8902 1315.29 L67.8902 1345.92 L75.529 1345.92 L75.529 1349.85 L55.6217 1349.85 L55.6217 1345.92 Z\" fill=\"#000000\" fill-rule=\"evenodd\" fill-opacity=\"1\" /><path clip-path=\"url(#clip080)\" d=\"M 0 0 M84.6262 1345.92 L100.946 1345.92 L100.946 1349.85 L79.0012 1349.85 L79.0012 1345.92 Q81.6633 1343.16 86.2466 1338.53 Q90.853 1333.88 92.0336 1332.54 Q94.2789 1330.01 95.1586 1328.28 Q96.0613 1326.52 96.0613 1324.83 Q96.0613 1322.07 94.1169 1320.34 Q92.1956 1318.6 89.0938 1318.6 Q86.8947 1318.6 84.441 1319.36 Q82.0105 1320.13 79.2327 1321.68 L79.2327 1316.96 Q82.0568 1315.82 84.5105 1315.24 Q86.9642 1314.67 89.0012 1314.67 Q94.3715 1314.67 97.566 1317.35 Q100.76 1320.04 100.76 1324.53 Q100.76 1326.66 99.9502 1328.58 Q99.1632 1330.48 97.0567 1333.07 Q96.478 1333.74 93.3762 1336.96 Q90.2743 1340.15 84.6262 1345.92 Z\" fill=\"#000000\" fill-rule=\"evenodd\" fill-opacity=\"1\" /><path clip-path=\"url(#clip080)\" d=\"M 0 0 M106.015 1343.97 L110.899 1343.97 L110.899 1349.85 L106.015 1349.85 L106.015 1343.97 Z\" fill=\"#000000\" fill-rule=\"evenodd\" fill-opacity=\"1\" /><path clip-path=\"url(#clip080)\" d=\"M 0 0 M116.015 1315.29 L134.371 1315.29 L134.371 1319.23 L120.297 1319.23 L120.297 1327.7 Q121.316 1327.35 122.334 1327.19 Q123.353 1327 124.371 1327 Q130.158 1327 133.538 1330.17 Q136.918 1333.35 136.918 1338.76 Q136.918 1344.34 133.445 1347.44 Q129.973 1350.52 123.654 1350.52 Q121.478 1350.52 119.209 1350.15 Q116.964 1349.78 114.557 1349.04 L114.557 1344.34 Q116.64 1345.48 118.862 1346.03 Q121.084 1346.59 123.561 1346.59 Q127.566 1346.59 129.904 1344.48 Q132.242 1342.37 132.242 1338.76 Q132.242 1335.15 129.904 1333.05 Q127.566 1330.94 123.561 1330.94 Q121.686 1330.94 119.811 1331.36 Q117.959 1331.77 116.015 1332.65 L116.015 1315.29 Z\" fill=\"#000000\" fill-rule=\"evenodd\" fill-opacity=\"1\" /><path clip-path=\"url(#clip080)\" d=\"M 0 0 M54.0245 1157.34 L61.6634 1157.34 L61.6634 1130.98 L53.3532 1132.64 L53.3532 1128.38 L61.6171 1126.72 L66.293 1126.72 L66.293 1157.34 L73.9318 1157.34 L73.9318 1161.28 L54.0245 1161.28 L54.0245 1157.34 Z\" fill=\"#000000\" fill-rule=\"evenodd\" fill-opacity=\"1\" /><path clip-path=\"url(#clip080)\" d=\"M 0 0 M79.0475 1126.72 L97.4039 1126.72 L97.4039 1130.65 L83.3299 1130.65 L83.3299 1139.12 Q84.3484 1138.78 85.3669 1138.61 Q86.3855 1138.43 87.404 1138.43 Q93.191 1138.43 96.5706 1141.6 Q99.9502 1144.77 99.9502 1150.19 Q99.9502 1155.77 96.478 1158.87 Q93.0058 1161.95 86.6864 1161.95 Q84.5105 1161.95 82.242 1161.58 Q79.9966 1161.21 77.5892 1160.47 L77.5892 1155.77 Q79.6725 1156.9 81.8947 1157.46 Q84.1169 1158.01 86.5938 1158.01 Q90.5984 1158.01 92.9363 1155.91 Q95.2743 1153.8 95.2743 1150.19 Q95.2743 1146.58 92.9363 1144.47 Q90.5984 1142.36 86.5938 1142.36 Q84.7188 1142.36 82.8438 1142.78 Q80.992 1143.2 79.0475 1144.08 L79.0475 1126.72 Z\" fill=\"#000000\" fill-rule=\"evenodd\" fill-opacity=\"1\" /><path clip-path=\"url(#clip080)\" d=\"M 0 0 M105.02 1155.4 L109.904 1155.4 L109.904 1161.28 L105.02 1161.28 L105.02 1155.4 Z\" fill=\"#000000\" fill-rule=\"evenodd\" fill-opacity=\"1\" /><path clip-path=\"url(#clip080)\" d=\"M 0 0 M124.973 1129.79 Q121.362 1129.79 119.533 1133.36 Q117.728 1136.9 117.728 1144.03 Q117.728 1151.14 119.533 1154.7 Q121.362 1158.24 124.973 1158.24 Q128.607 1158.24 130.413 1154.7 Q132.242 1151.14 132.242 1144.03 Q132.242 1136.9 130.413 1133.36 Q128.607 1129.79 124.973 1129.79 M124.973 1126.09 Q130.783 1126.09 133.839 1130.7 Q136.918 1135.28 136.918 1144.03 Q136.918 1152.76 133.839 1157.36 Q130.783 1161.95 124.973 1161.95 Q119.163 1161.95 116.084 1157.36 Q113.029 1152.76 113.029 1144.03 Q113.029 1135.28 116.084 1130.7 Q119.163 1126.09 124.973 1126.09 Z\" fill=\"#000000\" fill-rule=\"evenodd\" fill-opacity=\"1\" /><path clip-path=\"url(#clip080)\" d=\"M 0 0 M54.9273 968.766 L62.5661 968.766 L62.5661 942.4 L54.256 944.067 L54.256 939.808 L62.5198 938.141 L67.1957 938.141 L67.1957 968.766 L74.8346 968.766 L74.8346 972.701 L54.9273 972.701 L54.9273 968.766 Z\" fill=\"#000000\" fill-rule=\"evenodd\" fill-opacity=\"1\" /><path clip-path=\"url(#clip080)\" d=\"M 0 0 M78.7235 938.141 L100.946 938.141 L100.946 940.132 L88.3993 972.701 L83.5151 972.701 L95.3206 942.076 L78.7235 942.076 L78.7235 938.141 Z\" fill=\"#000000\" fill-rule=\"evenodd\" fill-opacity=\"1\" /><path clip-path=\"url(#clip080)\" d=\"M 0 0 M106.015 966.821 L110.899 966.821 L110.899 972.701 L106.015 972.701 L106.015 966.821 Z\" fill=\"#000000\" fill-rule=\"evenodd\" fill-opacity=\"1\" /><path clip-path=\"url(#clip080)\" d=\"M 0 0 M116.015 938.141 L134.371 938.141 L134.371 942.076 L120.297 942.076 L120.297 950.548 Q121.316 950.201 122.334 950.039 Q123.353 949.854 124.371 949.854 Q130.158 949.854 133.538 953.025 Q136.918 956.196 136.918 961.613 Q136.918 967.192 133.445 970.294 Q129.973 973.372 123.654 973.372 Q121.478 973.372 119.209 973.002 Q116.964 972.631 114.557 971.891 L114.557 967.192 Q116.64 968.326 118.862 968.881 Q121.084 969.437 123.561 969.437 Q127.566 969.437 129.904 967.331 Q132.242 965.224 132.242 961.613 Q132.242 958.002 129.904 955.895 Q127.566 953.789 123.561 953.789 Q121.686 953.789 119.811 954.206 Q117.959 954.622 116.015 955.502 L116.015 938.141 Z\" fill=\"#000000\" fill-rule=\"evenodd\" fill-opacity=\"1\" /><path clip-path=\"url(#clip080)\" d=\"M 0 0 M56.6171 780.191 L72.9365 780.191 L72.9365 784.126 L50.9921 784.126 L50.9921 780.191 Q53.6541 777.436 58.2375 772.807 Q62.8439 768.154 64.0245 766.811 Q66.2698 764.288 67.1494 762.552 Q68.0522 760.793 68.0522 759.103 Q68.0522 756.348 66.1078 754.612 Q64.1865 752.876 61.0847 752.876 Q58.8856 752.876 56.4319 753.64 Q54.0014 754.404 51.2236 755.955 L51.2236 751.233 Q54.0477 750.098 56.5014 749.52 Q58.955 748.941 60.9921 748.941 Q66.3624 748.941 69.5568 751.626 Q72.7513 754.311 72.7513 758.802 Q72.7513 760.932 71.9411 762.853 Q71.1541 764.751 69.0476 767.344 Q68.4689 768.015 65.367 771.233 Q62.2652 774.427 56.6171 780.191 Z\" fill=\"#000000\" fill-rule=\"evenodd\" fill-opacity=\"1\" /><path clip-path=\"url(#clip080)\" d=\"M 0 0 M88.0058 752.645 Q84.3947 752.645 82.566 756.209 Q80.7605 759.751 80.7605 766.881 Q80.7605 773.987 82.566 777.552 Q84.3947 781.094 88.0058 781.094 Q91.6401 781.094 93.4456 777.552 Q95.2743 773.987 95.2743 766.881 Q95.2743 759.751 93.4456 756.209 Q91.6401 752.645 88.0058 752.645 M88.0058 748.941 Q93.816 748.941 96.8715 753.547 Q99.9502 758.131 99.9502 766.881 Q99.9502 775.608 96.8715 780.214 Q93.816 784.797 88.0058 784.797 Q82.1957 784.797 79.117 780.214 Q76.0614 775.608 76.0614 766.881 Q76.0614 758.131 79.117 753.547 Q82.1957 748.941 88.0058 748.941 Z\" fill=\"#000000\" fill-rule=\"evenodd\" fill-opacity=\"1\" /><path clip-path=\"url(#clip080)\" d=\"M 0 0 M105.02 778.246 L109.904 778.246 L109.904 784.126 L105.02 784.126 L105.02 778.246 Z\" fill=\"#000000\" fill-rule=\"evenodd\" fill-opacity=\"1\" /><path clip-path=\"url(#clip080)\" d=\"M 0 0 M124.973 752.645 Q121.362 752.645 119.533 756.209 Q117.728 759.751 117.728 766.881 Q117.728 773.987 119.533 777.552 Q121.362 781.094 124.973 781.094 Q128.607 781.094 130.413 777.552 Q132.242 773.987 132.242 766.881 Q132.242 759.751 130.413 756.209 Q128.607 752.645 124.973 752.645 M124.973 748.941 Q130.783 748.941 133.839 753.547 Q136.918 758.131 136.918 766.881 Q136.918 775.608 133.839 780.214 Q130.783 784.797 124.973 784.797 Q119.163 784.797 116.084 780.214 Q113.029 775.608 113.029 766.881 Q113.029 758.131 116.084 753.547 Q119.163 748.941 124.973 748.941 Z\" fill=\"#000000\" fill-rule=\"evenodd\" fill-opacity=\"1\" /><path clip-path=\"url(#clip080)\" d=\"M 0 0 M59.2097 591.616 L75.529 591.616 L75.529 595.551 L53.5847 595.551 L53.5847 591.616 Q56.2467 588.861 60.83 584.232 Q65.4365 579.579 66.617 578.236 Q68.8624 575.713 69.742 573.977 Q70.6448 572.218 70.6448 570.528 Q70.6448 567.773 68.7004 566.037 Q66.7791 564.301 63.6772 564.301 Q61.4782 564.301 59.0245 565.065 Q56.5939 565.829 53.8162 567.38 L53.8162 562.658 Q56.6402 561.523 59.0939 560.945 Q61.5476 560.366 63.5847 560.366 Q68.955 560.366 72.1494 563.051 Q75.3438 565.736 75.3438 570.227 Q75.3438 572.357 74.5337 574.278 Q73.7466 576.176 71.6402 578.769 Q71.0615 579.44 67.9596 582.658 Q64.8578 585.852 59.2097 591.616 Z\" fill=\"#000000\" fill-rule=\"evenodd\" fill-opacity=\"1\" /><path clip-path=\"url(#clip080)\" d=\"M 0 0 M84.6262 591.616 L100.946 591.616 L100.946 595.551 L79.0012 595.551 L79.0012 591.616 Q81.6633 588.861 86.2466 584.232 Q90.853 579.579 92.0336 578.236 Q94.2789 575.713 95.1586 573.977 Q96.0613 572.218 96.0613 570.528 Q96.0613 567.773 94.1169 566.037 Q92.1956 564.301 89.0938 564.301 Q86.8947 564.301 84.441 565.065 Q82.0105 565.829 79.2327 567.38 L79.2327 562.658 Q82.0568 561.523 84.5105 560.945 Q86.9642 560.366 89.0012 560.366 Q94.3715 560.366 97.566 563.051 Q100.76 565.736 100.76 570.227 Q100.76 572.357 99.9502 574.278 Q99.1632 576.176 97.0567 578.769 Q96.478 579.44 93.3762 582.658 Q90.2743 585.852 84.6262 591.616 Z\" fill=\"#000000\" fill-rule=\"evenodd\" fill-opacity=\"1\" /><path clip-path=\"url(#clip080)\" d=\"M 0 0 M106.015 589.671 L110.899 589.671 L110.899 595.551 L106.015 595.551 L106.015 589.671 Z\" fill=\"#000000\" fill-rule=\"evenodd\" fill-opacity=\"1\" /><path clip-path=\"url(#clip080)\" d=\"M 0 0 M116.015 560.991 L134.371 560.991 L134.371 564.926 L120.297 564.926 L120.297 573.398 Q121.316 573.051 122.334 572.889 Q123.353 572.704 124.371 572.704 Q130.158 572.704 133.538 575.875 Q136.918 579.047 136.918 584.463 Q136.918 590.042 133.445 593.144 Q129.973 596.222 123.654 596.222 Q121.478 596.222 119.209 595.852 Q116.964 595.482 114.557 594.741 L114.557 590.042 Q116.64 591.176 118.862 591.732 Q121.084 592.287 123.561 592.287 Q127.566 592.287 129.904 590.181 Q132.242 588.074 132.242 584.463 Q132.242 580.852 129.904 578.746 Q127.566 576.639 123.561 576.639 Q121.686 576.639 119.811 577.056 Q117.959 577.472 116.015 578.352 L116.015 560.991 Z\" fill=\"#000000\" fill-rule=\"evenodd\" fill-opacity=\"1\" /><path clip-path=\"url(#clip080)\" d=\"M 0 0 M57.6125 403.041 L73.9318 403.041 L73.9318 406.976 L51.9875 406.976 L51.9875 403.041 Q54.6495 400.286 59.2328 395.657 Q63.8393 391.004 65.0198 389.661 Q67.2652 387.138 68.1448 385.402 Q69.0476 383.643 69.0476 381.953 Q69.0476 379.199 67.1032 377.462 Q65.1819 375.726 62.08 375.726 Q59.881 375.726 57.4273 376.49 Q54.9967 377.254 52.219 378.805 L52.219 374.083 Q55.043 372.949 57.4967 372.37 Q59.9504 371.791 61.9874 371.791 Q67.3578 371.791 70.5522 374.476 Q73.7466 377.161 73.7466 381.652 Q73.7466 383.782 72.9365 385.703 Q72.1494 387.601 70.0429 390.194 Q69.4642 390.865 66.3624 394.083 Q63.2606 397.277 57.6125 403.041 Z\" fill=\"#000000\" fill-rule=\"evenodd\" fill-opacity=\"1\" /><path clip-path=\"url(#clip080)\" d=\"M 0 0 M79.0475 372.416 L97.4039 372.416 L97.4039 376.351 L83.3299 376.351 L83.3299 384.823 Q84.3484 384.476 85.3669 384.314 Q86.3855 384.129 87.404 384.129 Q93.191 384.129 96.5706 387.3 Q99.9502 390.472 99.9502 395.888 Q99.9502 401.467 96.478 404.569 Q93.0058 407.647 86.6864 407.647 Q84.5105 407.647 82.242 407.277 Q79.9966 406.907 77.5892 406.166 L77.5892 401.467 Q79.6725 402.601 81.8947 403.157 Q84.1169 403.712 86.5938 403.712 Q90.5984 403.712 92.9363 401.606 Q95.2743 399.499 95.2743 395.888 Q95.2743 392.277 92.9363 390.171 Q90.5984 388.064 86.5938 388.064 Q84.7188 388.064 82.8438 388.481 Q80.992 388.898 79.0475 389.777 L79.0475 372.416 Z\" fill=\"#000000\" fill-rule=\"evenodd\" fill-opacity=\"1\" /><path clip-path=\"url(#clip080)\" d=\"M 0 0 M105.02 401.097 L109.904 401.097 L109.904 406.976 L105.02 406.976 L105.02 401.097 Z\" fill=\"#000000\" fill-rule=\"evenodd\" fill-opacity=\"1\" /><path clip-path=\"url(#clip080)\" d=\"M 0 0 M124.973 375.495 Q121.362 375.495 119.533 379.06 Q117.728 382.601 117.728 389.731 Q117.728 396.837 119.533 400.402 Q121.362 403.944 124.973 403.944 Q128.607 403.944 130.413 400.402 Q132.242 396.837 132.242 389.731 Q132.242 382.601 130.413 379.06 Q128.607 375.495 124.973 375.495 M124.973 371.791 Q130.783 371.791 133.839 376.398 Q136.918 380.981 136.918 389.731 Q136.918 398.458 133.839 403.064 Q130.783 407.647 124.973 407.647 Q119.163 407.647 116.084 403.064 Q113.029 398.458 113.029 389.731 Q113.029 380.981 116.084 376.398 Q119.163 371.791 124.973 371.791 Z\" fill=\"#000000\" fill-rule=\"evenodd\" fill-opacity=\"1\" /><path clip-path=\"url(#clip080)\" d=\"M 0 0 M58.5152 214.466 L74.8346 214.466 L74.8346 218.401 L52.8903 218.401 L52.8903 214.466 Q55.5523 211.711 60.1356 207.082 Q64.7421 202.429 65.9226 201.087 Q68.168 198.563 69.0476 196.827 Q69.9504 195.068 69.9504 193.378 Q69.9504 190.624 68.0059 188.887 Q66.0846 187.151 62.9828 187.151 Q60.7837 187.151 58.33 187.915 Q55.8995 188.679 53.1217 190.23 L53.1217 185.508 Q55.9458 184.374 58.3995 183.795 Q60.8532 183.216 62.8902 183.216 Q68.2606 183.216 71.455 185.901 Q74.6494 188.587 74.6494 193.077 Q74.6494 195.207 73.8392 197.128 Q73.0522 199.026 70.9457 201.619 Q70.367 202.29 67.2652 205.508 Q64.1634 208.702 58.5152 214.466 Z\" fill=\"#000000\" fill-rule=\"evenodd\" fill-opacity=\"1\" /><path clip-path=\"url(#clip080)\" d=\"M 0 0 M78.7235 183.841 L100.946 183.841 L100.946 185.832 L88.3993 218.401 L83.5151 218.401 L95.3206 187.776 L78.7235 187.776 L78.7235 183.841 Z\" fill=\"#000000\" fill-rule=\"evenodd\" fill-opacity=\"1\" /><path clip-path=\"url(#clip080)\" d=\"M 0 0 M106.015 212.522 L110.899 212.522 L110.899 218.401 L106.015 218.401 L106.015 212.522 Z\" fill=\"#000000\" fill-rule=\"evenodd\" fill-opacity=\"1\" /><path clip-path=\"url(#clip080)\" d=\"M 0 0 M116.015 183.841 L134.371 183.841 L134.371 187.776 L120.297 187.776 L120.297 196.249 Q121.316 195.901 122.334 195.739 Q123.353 195.554 124.371 195.554 Q130.158 195.554 133.538 198.725 Q136.918 201.897 136.918 207.313 Q136.918 212.892 133.445 215.994 Q129.973 219.073 123.654 219.073 Q121.478 219.073 119.209 218.702 Q116.964 218.332 114.557 217.591 L114.557 212.892 Q116.64 214.026 118.862 214.582 Q121.084 215.137 123.561 215.137 Q127.566 215.137 129.904 213.031 Q132.242 210.924 132.242 207.313 Q132.242 203.702 129.904 201.596 Q127.566 199.489 123.561 199.489 Q121.686 199.489 119.811 199.906 Q117.959 200.323 116.015 201.202 L116.015 183.841 Z\" fill=\"#000000\" fill-rule=\"evenodd\" fill-opacity=\"1\" /><polyline clip-path=\"url(#clip082)\" style=\"stroke:#800080; stroke-width:4; stroke-opacity:1; fill:none\" points=\"\n",
       "  234.611,87.9763 255.383,314.266 276.156,314.266 296.928,314.266 317.7,314.266 338.472,314.266 359.245,389.696 380.017,389.696 400.789,465.126 421.561,465.126 \n",
       "  442.333,465.126 463.106,465.126 483.878,465.126 504.65,540.556 525.422,540.556 546.195,540.556 566.967,389.696 587.739,389.696 608.511,389.696 629.284,389.696 \n",
       "  650.056,389.696 670.828,389.696 691.6,389.696 712.373,465.126 733.145,465.126 753.917,465.126 774.689,465.126 795.461,465.126 816.234,540.556 837.006,540.556 \n",
       "  857.778,540.556 878.55,540.556 899.323,540.556 920.095,540.556 940.867,540.556 961.639,540.556 982.412,540.556 1003.18,540.556 1023.96,540.556 1044.73,691.416 \n",
       "  1065.5,691.416 1086.27,691.416 1107.04,691.416 1127.82,691.416 1148.59,691.416 1169.36,691.416 1190.13,691.416 1210.91,766.846 1231.68,766.846 1252.45,766.846 \n",
       "  1273.22,766.846 1294,766.846 1314.77,766.846 1335.54,766.846 1356.31,766.846 1377.08,766.846 1397.86,766.846 1418.63,766.846 1439.4,766.846 1460.17,842.276 \n",
       "  1480.95,842.276 1501.72,917.706 1522.49,993.136 1543.26,993.136 1564.03,993.136 1584.81,993.136 1605.58,993.136 1626.35,993.136 1647.12,993.136 1667.9,1144 \n",
       "  1688.67,1144 1709.44,1144 1730.21,1219.43 1750.98,1219.43 1771.76,1219.43 1792.53,1219.43 1813.3,1219.43 1834.07,1219.43 1854.85,1219.43 1875.62,1219.43 \n",
       "  1896.39,1219.43 1917.16,1219.43 1937.93,1219.43 1958.71,1219.43 1979.48,1219.43 2000.25,1219.43 2021.02,1219.43 2041.8,1294.86 2062.57,1294.86 2083.34,1294.86 \n",
       "  2104.11,1370.29 2124.88,1370.29 2145.66,1370.29 2166.43,1370.29 2187.2,1370.29 2207.97,1370.29 2228.75,1370.29 2249.52,1370.29 2270.29,1445.72 2291.06,1445.72 \n",
       "  \n",
       "  \"/>\n",
       "<polyline clip-path=\"url(#clip082)\" style=\"stroke:#008000; stroke-width:4; stroke-opacity:1; fill:none\" points=\"\n",
       "  234.611,238.836 255.383,238.836 276.156,238.836 296.928,163.406 317.7,163.406 338.472,163.406 359.245,163.406 380.017,314.266 400.789,314.266 421.561,314.266 \n",
       "  442.333,314.266 463.106,314.266 483.878,389.696 504.65,389.696 525.422,389.696 546.195,389.696 566.967,389.696 587.739,389.696 608.511,389.696 629.284,389.696 \n",
       "  650.056,389.696 670.828,389.696 691.6,389.696 712.373,389.696 733.145,465.126 753.917,465.126 774.689,465.126 795.461,314.266 816.234,314.266 837.006,314.266 \n",
       "  857.778,314.266 878.55,314.266 899.323,314.266 920.095,389.696 940.867,389.696 961.639,389.696 982.412,389.696 1003.18,389.696 1023.96,389.696 1044.73,389.696 \n",
       "  1065.5,389.696 1086.27,389.696 1107.04,389.696 1127.82,389.696 1148.59,389.696 1169.36,465.126 1190.13,465.126 1210.91,465.126 1231.68,465.126 1252.45,465.126 \n",
       "  1273.22,465.126 1294,465.126 1314.77,540.556 1335.54,540.556 1356.31,540.556 1377.08,540.556 1397.86,540.556 1418.63,540.556 1439.4,540.556 1460.17,540.556 \n",
       "  1480.95,540.556 1501.72,540.556 1522.49,540.556 1543.26,540.556 1564.03,540.556 1584.81,540.556 1605.58,540.556 1626.35,615.986 1647.12,615.986 1667.9,615.986 \n",
       "  1688.67,615.986 1709.44,615.986 1730.21,615.986 1750.98,615.986 1771.76,691.416 1792.53,766.846 1813.3,766.846 1834.07,917.706 1854.85,993.136 1875.62,993.136 \n",
       "  1896.39,993.136 1917.16,1068.57 1937.93,1068.57 1958.71,1068.57 1979.48,1068.57 2000.25,1068.57 2021.02,1068.57 2041.8,1068.57 2062.57,1068.57 2083.34,1068.57 \n",
       "  2104.11,1068.57 2124.88,1068.57 2145.66,1068.57 2166.43,1068.57 2187.2,1068.57 2207.97,1144 2228.75,1144 2249.52,1219.43 2270.29,1219.43 2291.06,1294.86 \n",
       "  \n",
       "  \"/>\n",
       "<path clip-path=\"url(#clip080)\" d=\"\n",
       "M1831.87 276.658 L2280.09 276.658 L2280.09 95.2176 L1831.87 95.2176  Z\n",
       "  \" fill=\"#ffffff\" fill-rule=\"evenodd\" fill-opacity=\"1\"/>\n",
       "<polyline clip-path=\"url(#clip080)\" style=\"stroke:#000000; stroke-width:4; stroke-opacity:1; fill:none\" points=\"\n",
       "  1831.87,276.658 2280.09,276.658 2280.09,95.2176 1831.87,95.2176 1831.87,276.658 \n",
       "  \"/>\n",
       "<polyline clip-path=\"url(#clip080)\" style=\"stroke:#800080; stroke-width:4; stroke-opacity:1; fill:none\" points=\"\n",
       "  1856.09,155.698 2001.42,155.698 \n",
       "  \"/>\n",
       "<path clip-path=\"url(#clip080)\" d=\"M 0 0 M2044.55 159.714 Q2044.55 155.084 2042.63 152.538 Q2040.73 149.992 2037.28 149.992 Q2033.85 149.992 2031.93 152.538 Q2030.03 155.084 2030.03 159.714 Q2030.03 164.32 2031.93 166.866 Q2033.85 169.413 2037.28 169.413 Q2040.73 169.413 2042.63 166.866 Q2044.55 164.32 2044.55 159.714 M2048.81 169.76 Q2048.81 176.38 2045.87 179.598 Q2042.93 182.839 2036.86 182.839 Q2034.62 182.839 2032.63 182.491 Q2030.64 182.167 2028.76 181.473 L2028.76 177.329 Q2030.64 178.348 2032.47 178.834 Q2034.29 179.32 2036.19 179.32 Q2040.38 179.32 2042.46 177.121 Q2044.55 174.945 2044.55 170.524 L2044.55 168.417 Q2043.23 170.709 2041.17 171.843 Q2039.11 172.978 2036.24 172.978 Q2031.47 172.978 2028.55 169.343 Q2025.64 165.709 2025.64 159.714 Q2025.64 153.695 2028.55 150.061 Q2031.47 146.427 2036.24 146.427 Q2039.11 146.427 2041.17 147.561 Q2043.23 148.695 2044.55 150.987 L2044.55 147.052 L2048.81 147.052 L2048.81 169.76 Z\" fill=\"#000000\" fill-rule=\"evenodd\" fill-opacity=\"1\" /><path clip-path=\"url(#clip080)\" d=\"M 0 0 M2063.32 150.038 Q2059.9 150.038 2057.9 152.723 Q2055.91 155.385 2055.91 160.038 Q2055.91 164.691 2057.88 167.376 Q2059.87 170.038 2063.32 170.038 Q2066.72 170.038 2068.71 167.353 Q2070.71 164.667 2070.71 160.038 Q2070.71 155.431 2068.71 152.746 Q2066.72 150.038 2063.32 150.038 M2063.32 146.427 Q2068.88 146.427 2072.05 150.038 Q2075.22 153.649 2075.22 160.038 Q2075.22 166.404 2072.05 170.038 Q2068.88 173.649 2063.32 173.649 Q2057.74 173.649 2054.57 170.038 Q2051.42 166.404 2051.42 160.038 Q2051.42 153.649 2054.57 150.038 Q2057.74 146.427 2063.32 146.427 Z\" fill=\"#000000\" fill-rule=\"evenodd\" fill-opacity=\"1\" /><path clip-path=\"url(#clip080)\" d=\"M 0 0 M2079.83 136.959 L2084.09 136.959 L2084.09 150.894 L2086.98 148.811 L2088.74 151.265 L2084.09 154.529 L2084.09 172.978 L2079.83 172.978 L2079.83 157.561 L2076.98 159.598 L2075.27 157.144 L2079.83 153.88 L2079.83 136.959 Z\" fill=\"#000000\" fill-rule=\"evenodd\" fill-opacity=\"1\" /><path clip-path=\"url(#clip080)\" d=\"M 0 0 M2115.38 158.95 L2115.38 161.033 L2095.8 161.033 Q2096.08 165.431 2098.44 167.746 Q2100.82 170.038 2105.06 170.038 Q2107.51 170.038 2109.8 169.436 Q2112.12 168.834 2114.39 167.63 L2114.39 171.658 Q2112.09 172.63 2109.69 173.14 Q2107.28 173.649 2104.8 173.649 Q2098.6 173.649 2094.96 170.038 Q2091.35 166.427 2091.35 160.269 Q2091.35 153.904 2094.78 150.177 Q2098.23 146.427 2104.06 146.427 Q2109.29 146.427 2112.33 149.806 Q2115.38 153.163 2115.38 158.95 M2111.12 157.7 Q2111.08 154.205 2109.15 152.121 Q2107.26 150.038 2104.11 150.038 Q2100.54 150.038 2098.39 152.052 Q2096.26 154.066 2095.94 157.723 L2111.12 157.7 M2107.63 172.978 L2110.38 172.978 Q2109.34 174.39 2108.83 175.408 Q2108.34 176.427 2108.34 177.144 Q2108.34 178.209 2108.97 178.741 Q2109.62 179.274 2110.87 179.274 Q2111.61 179.274 2112.33 179.089 Q2113.04 178.927 2113.76 178.579 L2113.76 181.658 Q2112.88 181.89 2112.09 182.005 Q2111.31 182.121 2110.61 182.121 Q2107.79 182.121 2106.45 181.103 Q2105.13 180.107 2105.13 177.954 Q2105.13 176.843 2105.73 175.616 Q2106.35 174.413 2107.63 172.978 Z\" fill=\"#000000\" fill-rule=\"evenodd\" fill-opacity=\"1\" /><path clip-path=\"url(#clip080)\" d=\"M 0 0 M2138.46 160.038 Q2138.46 155.339 2136.52 152.677 Q2134.59 149.992 2131.21 149.992 Q2127.83 149.992 2125.89 152.677 Q2123.97 155.339 2123.97 160.038 Q2123.97 164.737 2125.89 167.422 Q2127.83 170.084 2131.21 170.084 Q2134.59 170.084 2136.52 167.422 Q2138.46 164.737 2138.46 160.038 M2123.97 150.987 Q2125.31 148.672 2127.35 147.561 Q2129.41 146.427 2132.26 146.427 Q2136.98 146.427 2139.92 150.177 Q2142.88 153.927 2142.88 160.038 Q2142.88 166.149 2139.92 169.899 Q2136.98 173.649 2132.26 173.649 Q2129.41 173.649 2127.35 172.538 Q2125.31 171.403 2123.97 169.089 L2123.97 172.978 L2119.69 172.978 L2119.69 136.959 L2123.97 136.959 L2123.97 150.987 Z\" fill=\"#000000\" fill-rule=\"evenodd\" fill-opacity=\"1\" /><path clip-path=\"url(#clip080)\" d=\"M 0 0 M2147.35 147.052 L2151.61 147.052 L2151.61 172.978 L2147.35 172.978 L2147.35 147.052 M2147.35 136.959 L2151.61 136.959 L2151.61 142.353 L2147.35 142.353 L2147.35 136.959 Z\" fill=\"#000000\" fill-rule=\"evenodd\" fill-opacity=\"1\" /><path clip-path=\"url(#clip080)\" d=\"M 0 0 M2178.25 158.95 L2178.25 161.033 L2158.67 161.033 Q2158.95 165.431 2161.31 167.746 Q2163.69 170.038 2167.93 170.038 Q2170.38 170.038 2172.67 169.436 Q2174.99 168.834 2177.26 167.63 L2177.26 171.658 Q2174.96 172.63 2172.56 173.14 Q2170.15 173.649 2167.67 173.649 Q2161.47 173.649 2157.83 170.038 Q2154.22 166.427 2154.22 160.269 Q2154.22 153.904 2157.65 150.177 Q2161.1 146.427 2166.93 146.427 Q2172.16 146.427 2175.2 149.806 Q2178.25 153.163 2178.25 158.95 M2173.99 157.7 Q2173.95 154.205 2172.02 152.121 Q2170.13 150.038 2166.98 150.038 Q2163.41 150.038 2161.26 152.052 Q2159.13 154.066 2158.81 157.723 L2173.99 157.7 Z\" fill=\"#000000\" fill-rule=\"evenodd\" fill-opacity=\"1\" /><polyline clip-path=\"url(#clip080)\" style=\"stroke:#008000; stroke-width:4; stroke-opacity:1; fill:none\" points=\"\n",
       "  1856.09,216.178 2001.42,216.178 \n",
       "  \"/>\n",
       "<path clip-path=\"url(#clip080)\" d=\"M 0 0 M2030.96 207.532 L2035.22 207.532 L2035.22 233.921 Q2035.22 238.874 2033.32 241.096 Q2031.45 243.319 2027.26 243.319 L2025.64 243.319 L2025.64 239.708 L2026.77 239.708 Q2029.2 239.708 2030.08 238.573 Q2030.96 237.462 2030.96 233.921 L2030.96 207.532 M2030.96 197.439 L2035.22 197.439 L2035.22 202.833 L2030.96 202.833 L2030.96 197.439 Z\" fill=\"#000000\" fill-rule=\"evenodd\" fill-opacity=\"1\" /><path clip-path=\"url(#clip080)\" d=\"M 0 0 M2051.47 220.425 Q2046.31 220.425 2044.32 221.606 Q2042.33 222.786 2042.33 225.634 Q2042.33 227.902 2043.81 229.245 Q2045.31 230.564 2047.88 230.564 Q2051.42 230.564 2053.55 228.064 Q2055.71 225.541 2055.71 221.374 L2055.71 220.425 L2051.47 220.425 M2059.96 218.666 L2059.96 233.458 L2055.71 233.458 L2055.71 229.522 Q2054.25 231.883 2052.07 233.018 Q2049.9 234.129 2046.75 234.129 Q2042.77 234.129 2040.4 231.907 Q2038.07 229.661 2038.07 225.911 Q2038.07 221.536 2040.98 219.314 Q2043.92 217.092 2049.73 217.092 L2055.71 217.092 L2055.71 216.675 Q2055.71 213.735 2053.76 212.138 Q2051.84 210.518 2048.34 210.518 Q2046.12 210.518 2044.02 211.05 Q2041.91 211.583 2039.96 212.647 L2039.96 208.712 Q2042.3 207.81 2044.5 207.37 Q2046.7 206.907 2048.78 206.907 Q2054.41 206.907 2057.19 209.823 Q2059.96 212.74 2059.96 218.666 Z\" fill=\"#000000\" fill-rule=\"evenodd\" fill-opacity=\"1\" /><path clip-path=\"url(#clip080)\" d=\"M 0 0 M2080.96 208.296 L2080.96 212.323 Q2079.15 211.397 2077.21 210.935 Q2075.27 210.472 2073.18 210.472 Q2070.01 210.472 2068.41 211.444 Q2066.84 212.416 2066.84 214.36 Q2066.84 215.842 2067.97 216.698 Q2069.11 217.532 2072.53 218.296 L2073.99 218.62 Q2078.53 219.592 2080.43 221.374 Q2082.35 223.134 2082.35 226.305 Q2082.35 229.916 2079.48 232.022 Q2076.63 234.129 2071.63 234.129 Q2069.55 234.129 2067.28 233.712 Q2065.03 233.319 2062.53 232.508 L2062.53 228.11 Q2064.9 229.337 2067.19 229.962 Q2069.48 230.564 2071.72 230.564 Q2074.73 230.564 2076.35 229.546 Q2077.97 228.504 2077.97 226.629 Q2077.97 224.893 2076.79 223.967 Q2075.64 223.041 2071.68 222.184 L2070.2 221.837 Q2066.24 221.004 2064.48 219.291 Q2062.72 217.555 2062.72 214.546 Q2062.72 210.888 2065.31 208.898 Q2067.9 206.907 2072.67 206.907 Q2075.03 206.907 2077.12 207.254 Q2079.2 207.601 2080.96 208.296 Z\" fill=\"#000000\" fill-rule=\"evenodd\" fill-opacity=\"1\" /><path clip-path=\"url(#clip080)\" d=\"M 0 0 M2091.03 200.171 L2091.03 207.532 L2099.8 207.532 L2099.8 210.842 L2091.03 210.842 L2091.03 224.916 Q2091.03 228.087 2091.89 228.99 Q2092.77 229.893 2095.43 229.893 L2099.8 229.893 L2099.8 233.458 L2095.43 233.458 Q2090.5 233.458 2088.62 231.629 Q2086.75 229.777 2086.75 224.916 L2086.75 210.842 L2083.62 210.842 L2083.62 207.532 L2086.75 207.532 L2086.75 200.171 L2091.03 200.171 Z\" fill=\"#000000\" fill-rule=\"evenodd\" fill-opacity=\"1\" /><path clip-path=\"url(#clip080)\" d=\"M 0 0 M2119.29 211.513 Q2118.58 211.097 2117.72 210.911 Q2116.89 210.703 2115.87 210.703 Q2112.26 210.703 2110.31 213.064 Q2108.39 215.402 2108.39 219.8 L2108.39 233.458 L2104.11 233.458 L2104.11 207.532 L2108.39 207.532 L2108.39 211.56 Q2109.73 209.198 2111.89 208.064 Q2114.04 206.907 2117.12 206.907 Q2117.56 206.907 2118.09 206.976 Q2118.62 207.023 2119.27 207.138 L2119.29 211.513 Z\" fill=\"#000000\" fill-rule=\"evenodd\" fill-opacity=\"1\" /><path clip-path=\"url(#clip080)\" d=\"M 0 0 M2121.91 207.532 L2142.14 207.532 L2142.14 211.421 L2126.12 230.055 L2142.14 230.055 L2142.14 233.458 L2121.33 233.458 L2121.33 229.569 L2137.35 210.935 L2121.91 210.935 L2121.91 207.532 Z\" fill=\"#000000\" fill-rule=\"evenodd\" fill-opacity=\"1\" /><path clip-path=\"url(#clip080)\" d=\"M 0 0 M2168.78 219.43 L2168.78 221.513 L2149.2 221.513 Q2149.48 225.911 2151.84 228.226 Q2154.22 230.518 2158.46 230.518 Q2160.91 230.518 2163.21 229.916 Q2165.52 229.314 2167.79 228.11 L2167.79 232.138 Q2165.5 233.11 2163.09 233.62 Q2160.68 234.129 2158.21 234.129 Q2152 234.129 2148.37 230.518 Q2144.76 226.907 2144.76 220.749 Q2144.76 214.384 2148.18 210.657 Q2151.63 206.907 2157.46 206.907 Q2162.7 206.907 2165.73 210.286 Q2168.78 213.643 2168.78 219.43 M2164.52 218.18 Q2164.48 214.685 2162.56 212.601 Q2160.66 210.518 2157.51 210.518 Q2153.95 210.518 2151.79 212.532 Q2149.66 214.546 2149.34 218.203 L2164.52 218.18 M2161.03 233.458 L2163.78 233.458 Q2162.74 234.87 2162.23 235.888 Q2161.75 236.907 2161.75 237.624 Q2161.75 238.689 2162.37 239.221 Q2163.02 239.754 2164.27 239.754 Q2165.01 239.754 2165.73 239.569 Q2166.45 239.407 2167.16 239.059 L2167.16 242.138 Q2166.28 242.37 2165.5 242.485 Q2164.71 242.601 2164.02 242.601 Q2161.19 242.601 2159.85 241.583 Q2158.53 240.587 2158.53 238.434 Q2158.53 237.323 2159.13 236.096 Q2159.76 234.893 2161.03 233.458 Z\" fill=\"#000000\" fill-rule=\"evenodd\" fill-opacity=\"1\" /><path clip-path=\"url(#clip080)\" d=\"M 0 0 M2191.86 220.518 Q2191.86 215.819 2189.92 213.157 Q2188 210.472 2184.62 210.472 Q2181.24 210.472 2179.29 213.157 Q2177.37 215.819 2177.37 220.518 Q2177.37 225.217 2179.29 227.902 Q2181.24 230.564 2184.62 230.564 Q2188 230.564 2189.92 227.902 Q2191.86 225.217 2191.86 220.518 M2177.37 211.467 Q2178.71 209.152 2180.75 208.041 Q2182.81 206.907 2185.66 206.907 Q2190.38 206.907 2193.32 210.657 Q2196.28 214.407 2196.28 220.518 Q2196.28 226.629 2193.32 230.379 Q2190.38 234.129 2185.66 234.129 Q2182.81 234.129 2180.75 233.018 Q2178.71 231.883 2177.37 229.569 L2177.37 233.458 L2173.09 233.458 L2173.09 197.439 L2177.37 197.439 L2177.37 211.467 Z\" fill=\"#000000\" fill-rule=\"evenodd\" fill-opacity=\"1\" /><path clip-path=\"url(#clip080)\" d=\"M 0 0 M2200.75 207.532 L2205.01 207.532 L2205.01 233.458 L2200.75 233.458 L2200.75 207.532 M2200.75 197.439 L2205.01 197.439 L2205.01 202.833 L2200.75 202.833 L2200.75 197.439 Z\" fill=\"#000000\" fill-rule=\"evenodd\" fill-opacity=\"1\" /><path clip-path=\"url(#clip080)\" d=\"M 0 0 M2231.65 219.43 L2231.65 221.513 L2212.07 221.513 Q2212.35 225.911 2214.71 228.226 Q2217.09 230.518 2221.33 230.518 Q2223.78 230.518 2226.08 229.916 Q2228.39 229.314 2230.66 228.11 L2230.66 232.138 Q2228.37 233.11 2225.96 233.62 Q2223.55 234.129 2221.08 234.129 Q2214.87 234.129 2211.24 230.518 Q2207.63 226.907 2207.63 220.749 Q2207.63 214.384 2211.05 210.657 Q2214.5 206.907 2220.33 206.907 Q2225.57 206.907 2228.6 210.286 Q2231.65 213.643 2231.65 219.43 M2227.39 218.18 Q2227.35 214.685 2225.43 212.601 Q2223.53 210.518 2220.38 210.518 Q2216.82 210.518 2214.66 212.532 Q2212.53 214.546 2212.21 218.203 L2227.39 218.18 Z\" fill=\"#000000\" fill-rule=\"evenodd\" fill-opacity=\"1\" /></svg>\n"
      ]
     },
     "execution_count": 290,
     "metadata": {},
     "output_type": "execute_result"
    }
   ],
   "source": [
    "wykr(9,9,30,30, 100, zeros(Int64, 100, 2), 2)"
   ]
  },
  {
   "cell_type": "code",
   "execution_count": 282,
   "metadata": {},
   "outputs": [
    {
     "data": {
      "application/vnd.webio.node+json": {
       "children": [
        {
         "children": [
          {
           "children": [
            {
             "children": [
              {
               "children": [
                {
                 "children": [
                  "time"
                 ],
                 "instanceArgs": {
                  "namespace": "html",
                  "tag": "label"
                 },
                 "nodeType": "DOM",
                 "props": {
                  "className": "interact ",
                  "style": {
                   "padding": "5px 10px 0px 10px"
                  }
                 },
                 "type": "node"
                }
               ],
               "instanceArgs": {
                "namespace": "html",
                "tag": "div"
               },
               "nodeType": "DOM",
               "props": {
                "className": "interact-flex-row-left"
               },
               "type": "node"
              },
              {
               "children": [
                {
                 "children": [],
                 "instanceArgs": {
                  "namespace": "html",
                  "tag": "input"
                 },
                 "nodeType": "DOM",
                 "props": {
                  "attributes": {
                   "data-bind": "numericValue: index, valueUpdate: 'input', event: {change: function (){this.changes(this.changes()+1)}}",
                   "orient": "horizontal",
                   "type": "range"
                  },
                  "className": "slider slider is-fullwidth",
                  "max": 99,
                  "min": 1,
                  "step": 1,
                  "style": {}
                 },
                 "type": "node"
                }
               ],
               "instanceArgs": {
                "namespace": "html",
                "tag": "div"
               },
               "nodeType": "DOM",
               "props": {
                "className": "interact-flex-row-center"
               },
               "type": "node"
              },
              {
               "children": [
                {
                 "children": [],
                 "instanceArgs": {
                  "namespace": "html",
                  "tag": "p"
                 },
                 "nodeType": "DOM",
                 "props": {
                  "attributes": {
                   "data-bind": "text: formatted_val"
                  }
                 },
                 "type": "node"
                }
               ],
               "instanceArgs": {
                "namespace": "html",
                "tag": "div"
               },
               "nodeType": "DOM",
               "props": {
                "className": "interact-flex-row-right"
               },
               "type": "node"
              }
             ],
             "instanceArgs": {
              "namespace": "html",
              "tag": "div"
             },
             "nodeType": "DOM",
             "props": {
              "className": "interact-flex-row interact-widget"
             },
             "type": "node"
            }
           ],
           "instanceArgs": {
            "handlers": {
             "changes": [
              "(function (val){return (val!=this.model[\"changes\"]()) ? (this.valueFromJulia[\"changes\"]=true, this.model[\"changes\"](val)) : undefined})"
             ],
             "index": [
              "(function (val){return (val!=this.model[\"index\"]()) ? (this.valueFromJulia[\"index\"]=true, this.model[\"index\"](val)) : undefined})"
             ]
            },
            "id": "9603628431431619613",
            "imports": {
             "data": [
              {
               "name": "knockout",
               "type": "js",
               "url": "/assetserver/fd91bcc76f200e46e5681854927159f78397d01c-knockout.js"
              },
              {
               "name": "knockout_punches",
               "type": "js",
               "url": "/assetserver/0771d715f47990fd6a20af05579c332026637b1d-knockout_punches.js"
              },
              {
               "name": null,
               "type": "js",
               "url": "/assetserver/e56fcd69f839599425572dc2cffb9ce416a547ec-all.js"
              },
              {
               "name": null,
               "type": "css",
               "url": "/assetserver/f03a11104aa67cefd9b6e4d413d413b5ef056233-style.css"
              },
              {
               "name": null,
               "type": "css",
               "url": "/assetserver/e60d8885c5ad87196b49c3e741a5de92d7eeea1c-bulma_confined.min.css"
              }
             ],
             "type": "async_block"
            },
            "mount_callbacks": [
             "function () {\n    var handler = (function (ko, koPunches) {\n    ko.punches.enableAll();\n    ko.bindingHandlers.numericValue = {\n        init: function(element, valueAccessor, allBindings, data, context) {\n            var stringified = ko.observable(ko.unwrap(valueAccessor()));\n            stringified.subscribe(function(value) {\n                var val = parseFloat(value);\n                if (!isNaN(val)) {\n                    valueAccessor()(val);\n                }\n            });\n            valueAccessor().subscribe(function(value) {\n                var str = JSON.stringify(value);\n                if ((str == \"0\") && ([\"-0\", \"-0.\"].indexOf(stringified()) >= 0))\n                     return;\n                 if ([\"null\", \"\"].indexOf(str) >= 0)\n                     return;\n                stringified(str);\n            });\n            ko.applyBindingsToNode(\n                element,\n                {\n                    value: stringified,\n                    valueUpdate: allBindings.get('valueUpdate'),\n                },\n                context,\n            );\n        }\n    };\n    var json_data = {\"formatted_vals\":[\"2\",\"3\",\"4\",\"5\",\"6\",\"7\",\"8\",\"9\",\"10\",\"11\",\"12\",\"13\",\"14\",\"15\",\"16\",\"17\",\"18\",\"19\",\"20\",\"21\",\"22\",\"23\",\"24\",\"25\",\"26\",\"27\",\"28\",\"29\",\"30\",\"31\",\"32\",\"33\",\"34\",\"35\",\"36\",\"37\",\"38\",\"39\",\"40\",\"41\",\"42\",\"43\",\"44\",\"45\",\"46\",\"47\",\"48\",\"49\",\"50\",\"51\",\"52\",\"53\",\"54\",\"55\",\"56\",\"57\",\"58\",\"59\",\"60\",\"61\",\"62\",\"63\",\"64\",\"65\",\"66\",\"67\",\"68\",\"69\",\"70\",\"71\",\"72\",\"73\",\"74\",\"75\",\"76\",\"77\",\"78\",\"79\",\"80\",\"81\",\"82\",\"83\",\"84\",\"85\",\"86\",\"87\",\"88\",\"89\",\"90\",\"91\",\"92\",\"93\",\"94\",\"95\",\"96\",\"97\",\"98\",\"99\",\"100\"],\"changes\":WebIO.getval({\"name\":\"changes\",\"scope\":\"9603628431431619613\",\"id\":\"5731298409556294991\",\"type\":\"observable\"}),\"index\":WebIO.getval({\"name\":\"index\",\"scope\":\"9603628431431619613\",\"id\":\"8902891614622972833\",\"type\":\"observable\"})};\n    var self = this;\n    function AppViewModel() {\n        for (var key in json_data) {\n            var el = json_data[key];\n            this[key] = Array.isArray(el) ? ko.observableArray(el) : ko.observable(el);\n        }\n        \n        [this[\"formatted_val\"]=ko.computed(    function(){\n        return this.formatted_vals()[parseInt(this.index())-(1)];\n    }\n,this)]\n        [this[\"changes\"].subscribe((function (val){!(this.valueFromJulia[\"changes\"]) ? (WebIO.setval({\"name\":\"changes\",\"scope\":\"9603628431431619613\",\"id\":\"5731298409556294991\",\"type\":\"observable\"},val)) : undefined; return this.valueFromJulia[\"changes\"]=false}),self),this[\"index\"].subscribe((function (val){!(this.valueFromJulia[\"index\"]) ? (WebIO.setval({\"name\":\"index\",\"scope\":\"9603628431431619613\",\"id\":\"8902891614622972833\",\"type\":\"observable\"},val)) : undefined; return this.valueFromJulia[\"index\"]=false}),self)]\n        \n    }\n    self.model = new AppViewModel();\n    self.valueFromJulia = {};\n    for (var key in json_data) {\n        self.valueFromJulia[key] = false;\n    }\n    ko.applyBindings(self.model, self.dom);\n}\n);\n    (WebIO.importBlock({\"data\":[{\"name\":\"knockout\",\"type\":\"js\",\"url\":\"/assetserver/fd91bcc76f200e46e5681854927159f78397d01c-knockout.js\"},{\"name\":\"knockout_punches\",\"type\":\"js\",\"url\":\"/assetserver/0771d715f47990fd6a20af05579c332026637b1d-knockout_punches.js\"}],\"type\":\"async_block\"})).then((imports) => handler.apply(this, imports));\n}\n"
            ],
            "observables": {
             "changes": {
              "id": "5731298409556294991",
              "sync": false,
              "value": 0
             },
             "index": {
              "id": "8902891614622972833",
              "sync": true,
              "value": 50
             }
            },
            "systemjs_options": null
           },
           "nodeType": "Scope",
           "props": {},
           "type": "node"
          }
         ],
         "instanceArgs": {
          "namespace": "html",
          "tag": "div"
         },
         "nodeType": "DOM",
         "props": {
          "className": "field interact-widget"
         },
         "type": "node"
        },
        {
         "children": [
          {
           "children": [],
           "instanceArgs": {
            "id": "18076476024302072402",
            "name": "obs-node"
           },
           "nodeType": "ObservableNode",
           "props": {},
           "type": "node"
          }
         ],
         "instanceArgs": {
          "handlers": {},
          "id": "18001161319205336690",
          "imports": {
           "data": [],
           "type": "async_block"
          },
          "mount_callbacks": [],
          "observables": {
           "obs-node": {
            "id": "18076476024302072402",
            "sync": false,
            "value": {
             "children": [
              {
               "children": [],
               "instanceArgs": {
                "namespace": "html",
                "tag": "div"
               },
               "nodeType": "DOM",
               "props": {
                "setInnerHtml": "<?xml version=\"1.0\" encoding=\"utf-8\"?>\n<svg xmlns=\"http://www.w3.org/2000/svg\" xmlns:xlink=\"http://www.w3.org/1999/xlink\" width=\"600\" height=\"400\" viewBox=\"0 0 2400 1600\">\n<defs>\n  <clipPath id=\"clip840\">\n    <rect x=\"0\" y=\"0\" width=\"2400\" height=\"1600\"/>\n  </clipPath>\n</defs>\n<path clip-path=\"url(#clip840)\" d=\"\nM0 1600 L2400 1600 L2400 0 L0 0  Z\n  \" fill=\"#ffffff\" fill-rule=\"evenodd\" fill-opacity=\"1\"/>\n<defs>\n  <clipPath id=\"clip841\">\n    <rect x=\"480\" y=\"0\" width=\"1681\" height=\"1600\"/>\n  </clipPath>\n</defs>\n<path clip-path=\"url(#clip840)\" d=\"\nM136.76 1486.45 L2352.76 1486.45 L2352.76 47.2441 L136.76 47.2441  Z\n  \" fill=\"#ffffff\" fill-rule=\"evenodd\" fill-opacity=\"1\"/>\n<defs>\n  <clipPath id=\"clip842\">\n    <rect x=\"136\" y=\"47\" width=\"2217\" height=\"1440\"/>\n  </clipPath>\n</defs>\n<polyline clip-path=\"url(#clip842)\" style=\"stroke:#000000; stroke-width:2; stroke-opacity:0.1; fill:none\" points=\"\n  157.666,1486.45 157.666,47.2441 \n  \"/>\n<polyline clip-path=\"url(#clip842)\" style=\"stroke:#000000; stroke-width:2; stroke-opacity:0.1; fill:none\" points=\"\n  575.778,1486.45 575.778,47.2441 \n  \"/>\n<polyline clip-path=\"url(#clip842)\" style=\"stroke:#000000; stroke-width:2; stroke-opacity:0.1; fill:none\" points=\"\n  993.891,1486.45 993.891,47.2441 \n  \"/>\n<polyline clip-path=\"url(#clip842)\" style=\"stroke:#000000; stroke-width:2; stroke-opacity:0.1; fill:none\" points=\"\n  1412,1486.45 1412,47.2441 \n  \"/>\n<polyline clip-path=\"url(#clip842)\" style=\"stroke:#000000; stroke-width:2; stroke-opacity:0.1; fill:none\" points=\"\n  1830.12,1486.45 1830.12,47.2441 \n  \"/>\n<polyline clip-path=\"url(#clip842)\" style=\"stroke:#000000; stroke-width:2; stroke-opacity:0.1; fill:none\" points=\"\n  2248.23,1486.45 2248.23,47.2441 \n  \"/>\n<polyline clip-path=\"url(#clip840)\" style=\"stroke:#000000; stroke-width:4; stroke-opacity:1; fill:none\" points=\"\n  136.76,1486.45 2352.76,1486.45 \n  \"/>\n<polyline clip-path=\"url(#clip840)\" style=\"stroke:#000000; stroke-width:4; stroke-opacity:1; fill:none\" points=\"\n  157.666,1486.45 157.666,1469.18 \n  \"/>\n<polyline clip-path=\"url(#clip840)\" style=\"stroke:#000000; stroke-width:4; stroke-opacity:1; fill:none\" points=\"\n  575.778,1486.45 575.778,1469.18 \n  \"/>\n<polyline clip-path=\"url(#clip840)\" style=\"stroke:#000000; stroke-width:4; stroke-opacity:1; fill:none\" points=\"\n  993.891,1486.45 993.891,1469.18 \n  \"/>\n<polyline clip-path=\"url(#clip840)\" style=\"stroke:#000000; stroke-width:4; stroke-opacity:1; fill:none\" points=\"\n  1412,1486.45 1412,1469.18 \n  \"/>\n<polyline clip-path=\"url(#clip840)\" style=\"stroke:#000000; stroke-width:4; stroke-opacity:1; fill:none\" points=\"\n  1830.12,1486.45 1830.12,1469.18 \n  \"/>\n<polyline clip-path=\"url(#clip840)\" style=\"stroke:#000000; stroke-width:4; stroke-opacity:1; fill:none\" points=\"\n  2248.23,1486.45 2248.23,1469.18 \n  \"/>\n<path clip-path=\"url(#clip840)\" d=\"M 0 0 M157.666 1515.64 Q154.055 1515.64 152.226 1519.2 Q150.421 1522.75 150.421 1529.87 Q150.421 1536.98 152.226 1540.55 Q154.055 1544.09 157.666 1544.09 Q161.3 1544.09 163.106 1540.55 Q164.934 1536.98 164.934 1529.87 Q164.934 1522.75 163.106 1519.2 Q161.3 1515.64 157.666 1515.64 M157.666 1511.93 Q163.476 1511.93 166.532 1516.54 Q169.61 1521.12 169.61 1529.87 Q169.61 1538.6 166.532 1543.21 Q163.476 1547.79 157.666 1547.79 Q151.856 1547.79 148.777 1543.21 Q145.722 1538.6 145.722 1529.87 Q145.722 1521.12 148.777 1516.54 Q151.856 1511.93 157.666 1511.93 Z\" fill=\"#000000\" fill-rule=\"evenodd\" fill-opacity=\"1\" /><path clip-path=\"url(#clip840)\" d=\"M 0 0 M552.653 1543.18 L560.292 1543.18 L560.292 1516.82 L551.982 1518.49 L551.982 1514.23 L560.246 1512.56 L564.922 1512.56 L564.922 1543.18 L572.561 1543.18 L572.561 1547.12 L552.653 1547.12 L552.653 1543.18 Z\" fill=\"#000000\" fill-rule=\"evenodd\" fill-opacity=\"1\" /><path clip-path=\"url(#clip840)\" d=\"M 0 0 M587.63 1515.64 Q584.019 1515.64 582.19 1519.2 Q580.385 1522.75 580.385 1529.87 Q580.385 1536.98 582.19 1540.55 Q584.019 1544.09 587.63 1544.09 Q591.264 1544.09 593.07 1540.55 Q594.899 1536.98 594.899 1529.87 Q594.899 1522.75 593.07 1519.2 Q591.264 1515.64 587.63 1515.64 M587.63 1511.93 Q593.44 1511.93 596.496 1516.54 Q599.575 1521.12 599.575 1529.87 Q599.575 1538.6 596.496 1543.21 Q593.44 1547.79 587.63 1547.79 Q581.82 1547.79 578.741 1543.21 Q575.686 1538.6 575.686 1529.87 Q575.686 1521.12 578.741 1516.54 Q581.82 1511.93 587.63 1511.93 Z\" fill=\"#000000\" fill-rule=\"evenodd\" fill-opacity=\"1\" /><path clip-path=\"url(#clip840)\" d=\"M 0 0 M975.037 1543.18 L991.356 1543.18 L991.356 1547.12 L969.412 1547.12 L969.412 1543.18 Q972.074 1540.43 976.657 1535.8 Q981.263 1531.15 982.444 1529.81 Q984.689 1527.28 985.569 1525.55 Q986.472 1523.79 986.472 1522.1 Q986.472 1519.34 984.527 1517.61 Q982.606 1515.87 979.504 1515.87 Q977.305 1515.87 974.851 1516.63 Q972.421 1517.4 969.643 1518.95 L969.643 1514.23 Q972.467 1513.09 974.921 1512.51 Q977.375 1511.93 979.412 1511.93 Q984.782 1511.93 987.976 1514.62 Q991.171 1517.31 991.171 1521.8 Q991.171 1523.93 990.361 1525.85 Q989.574 1527.74 987.467 1530.34 Q986.888 1531.01 983.787 1534.23 Q980.685 1537.42 975.037 1543.18 Z\" fill=\"#000000\" fill-rule=\"evenodd\" fill-opacity=\"1\" /><path clip-path=\"url(#clip840)\" d=\"M 0 0 M1006.43 1515.64 Q1002.81 1515.64 1000.99 1519.2 Q999.18 1522.75 999.18 1529.87 Q999.18 1536.98 1000.99 1540.55 Q1002.81 1544.09 1006.43 1544.09 Q1010.06 1544.09 1011.87 1540.55 Q1013.69 1536.98 1013.69 1529.87 Q1013.69 1522.75 1011.87 1519.2 Q1010.06 1515.64 1006.43 1515.64 M1006.43 1511.93 Q1012.24 1511.93 1015.29 1516.54 Q1018.37 1521.12 1018.37 1529.87 Q1018.37 1538.6 1015.29 1543.21 Q1012.24 1547.79 1006.43 1547.79 Q1000.62 1547.79 997.537 1543.21 Q994.481 1538.6 994.481 1529.87 Q994.481 1521.12 997.537 1516.54 Q1000.62 1511.93 1006.43 1511.93 Z\" fill=\"#000000\" fill-rule=\"evenodd\" fill-opacity=\"1\" /><path clip-path=\"url(#clip840)\" d=\"M 0 0 M1402.74 1528.49 Q1406.1 1529.2 1407.98 1531.47 Q1409.87 1533.74 1409.87 1537.07 Q1409.87 1542.19 1406.35 1544.99 Q1402.84 1547.79 1396.36 1547.79 Q1394.18 1547.79 1391.86 1547.35 Q1389.57 1546.93 1387.12 1546.08 L1387.12 1541.56 Q1389.06 1542.7 1391.38 1543.28 Q1393.69 1543.86 1396.22 1543.86 Q1400.61 1543.86 1402.91 1542.12 Q1405.22 1540.38 1405.22 1537.07 Q1405.22 1534.02 1403.07 1532.31 Q1400.94 1530.57 1397.12 1530.57 L1393.09 1530.57 L1393.09 1526.73 L1397.3 1526.73 Q1400.75 1526.73 1402.58 1525.36 Q1404.41 1523.97 1404.41 1521.38 Q1404.41 1518.72 1402.51 1517.31 Q1400.64 1515.87 1397.12 1515.87 Q1395.2 1515.87 1393 1516.29 Q1390.8 1516.7 1388.16 1517.58 L1388.16 1513.42 Q1390.82 1512.68 1393.14 1512.31 Q1395.48 1511.93 1397.54 1511.93 Q1402.86 1511.93 1405.96 1514.37 Q1409.06 1516.77 1409.06 1520.89 Q1409.06 1523.76 1407.42 1525.75 Q1405.78 1527.72 1402.74 1528.49 Z\" fill=\"#000000\" fill-rule=\"evenodd\" fill-opacity=\"1\" /><path clip-path=\"url(#clip840)\" d=\"M 0 0 M1424.94 1515.64 Q1421.33 1515.64 1419.5 1519.2 Q1417.7 1522.75 1417.7 1529.87 Q1417.7 1536.98 1419.5 1540.55 Q1421.33 1544.09 1424.94 1544.09 Q1428.58 1544.09 1430.38 1540.55 Q1432.21 1536.98 1432.21 1529.87 Q1432.21 1522.75 1430.38 1519.2 Q1428.58 1515.64 1424.94 1515.64 M1424.94 1511.93 Q1430.75 1511.93 1433.81 1516.54 Q1436.89 1521.12 1436.89 1529.87 Q1436.89 1538.6 1433.81 1543.21 Q1430.75 1547.79 1424.94 1547.79 Q1419.13 1547.79 1416.05 1543.21 Q1413 1538.6 1413 1529.87 Q1413 1521.12 1416.05 1516.54 Q1419.13 1511.93 1424.94 1511.93 Z\" fill=\"#000000\" fill-rule=\"evenodd\" fill-opacity=\"1\" /><path clip-path=\"url(#clip840)\" d=\"M 0 0 M1819.62 1516.63 L1807.81 1535.08 L1819.62 1535.08 L1819.62 1516.63 M1818.39 1512.56 L1824.27 1512.56 L1824.27 1535.08 L1829.2 1535.08 L1829.2 1538.97 L1824.27 1538.97 L1824.27 1547.12 L1819.62 1547.12 L1819.62 1538.97 L1804.02 1538.97 L1804.02 1534.46 L1818.39 1512.56 Z\" fill=\"#000000\" fill-rule=\"evenodd\" fill-opacity=\"1\" /><path clip-path=\"url(#clip840)\" d=\"M 0 0 M1844.27 1515.64 Q1840.66 1515.64 1838.83 1519.2 Q1837.03 1522.75 1837.03 1529.87 Q1837.03 1536.98 1838.83 1540.55 Q1840.66 1544.09 1844.27 1544.09 Q1847.9 1544.09 1849.71 1540.55 Q1851.54 1536.98 1851.54 1529.87 Q1851.54 1522.75 1849.71 1519.2 Q1847.9 1515.64 1844.27 1515.64 M1844.27 1511.93 Q1850.08 1511.93 1853.14 1516.54 Q1856.21 1521.12 1856.21 1529.87 Q1856.21 1538.6 1853.14 1543.21 Q1850.08 1547.79 1844.27 1547.79 Q1838.46 1547.79 1835.38 1543.21 Q1832.33 1538.6 1832.33 1529.87 Q1832.33 1521.12 1835.38 1516.54 Q1838.46 1511.93 1844.27 1511.93 Z\" fill=\"#000000\" fill-rule=\"evenodd\" fill-opacity=\"1\" /><path clip-path=\"url(#clip840)\" d=\"M 0 0 M2225 1512.56 L2243.36 1512.56 L2243.36 1516.5 L2229.28 1516.5 L2229.28 1524.97 Q2230.3 1524.62 2231.32 1524.46 Q2232.34 1524.27 2233.36 1524.27 Q2239.14 1524.27 2242.52 1527.44 Q2245.9 1530.62 2245.9 1536.03 Q2245.9 1541.61 2242.43 1544.71 Q2238.96 1547.79 2232.64 1547.79 Q2230.46 1547.79 2228.19 1547.42 Q2225.95 1547.05 2223.54 1546.31 L2223.54 1541.61 Q2225.62 1542.74 2227.85 1543.3 Q2230.07 1543.86 2232.55 1543.86 Q2236.55 1543.86 2238.89 1541.75 Q2241.23 1539.64 2241.23 1536.03 Q2241.23 1532.42 2238.89 1530.31 Q2236.55 1528.21 2232.55 1528.21 Q2230.67 1528.21 2228.8 1528.62 Q2226.94 1529.04 2225 1529.92 L2225 1512.56 Z\" fill=\"#000000\" fill-rule=\"evenodd\" fill-opacity=\"1\" /><path clip-path=\"url(#clip840)\" d=\"M 0 0 M2260.97 1515.64 Q2257.36 1515.64 2255.53 1519.2 Q2253.73 1522.75 2253.73 1529.87 Q2253.73 1536.98 2255.53 1540.55 Q2257.36 1544.09 2260.97 1544.09 Q2264.61 1544.09 2266.41 1540.55 Q2268.24 1536.98 2268.24 1529.87 Q2268.24 1522.75 2266.41 1519.2 Q2264.61 1515.64 2260.97 1515.64 M2260.97 1511.93 Q2266.78 1511.93 2269.84 1516.54 Q2272.92 1521.12 2272.92 1529.87 Q2272.92 1538.6 2269.84 1543.21 Q2266.78 1547.79 2260.97 1547.79 Q2255.16 1547.79 2252.08 1543.21 Q2249.03 1538.6 2249.03 1529.87 Q2249.03 1521.12 2252.08 1516.54 Q2255.16 1511.93 2260.97 1511.93 Z\" fill=\"#000000\" fill-rule=\"evenodd\" fill-opacity=\"1\" /><polyline clip-path=\"url(#clip842)\" style=\"stroke:#000000; stroke-width:2; stroke-opacity:0.1; fill:none\" points=\"\n  136.76,1309.94 2352.76,1309.94 \n  \"/>\n<polyline clip-path=\"url(#clip842)\" style=\"stroke:#000000; stroke-width:2; stroke-opacity:0.1; fill:none\" points=\"\n  136.76,1038.39 2352.76,1038.39 \n  \"/>\n<polyline clip-path=\"url(#clip842)\" style=\"stroke:#000000; stroke-width:2; stroke-opacity:0.1; fill:none\" points=\"\n  136.76,766.846 2352.76,766.846 \n  \"/>\n<polyline clip-path=\"url(#clip842)\" style=\"stroke:#000000; stroke-width:2; stroke-opacity:0.1; fill:none\" points=\"\n  136.76,495.298 2352.76,495.298 \n  \"/>\n<polyline clip-path=\"url(#clip842)\" style=\"stroke:#000000; stroke-width:2; stroke-opacity:0.1; fill:none\" points=\"\n  136.76,223.75 2352.76,223.75 \n  \"/>\n<polyline clip-path=\"url(#clip840)\" style=\"stroke:#000000; stroke-width:4; stroke-opacity:1; fill:none\" points=\"\n  136.76,1486.45 136.76,47.2441 \n  \"/>\n<polyline clip-path=\"url(#clip840)\" style=\"stroke:#000000; stroke-width:4; stroke-opacity:1; fill:none\" points=\"\n  136.76,1309.94 163.352,1309.94 \n  \"/>\n<polyline clip-path=\"url(#clip840)\" style=\"stroke:#000000; stroke-width:4; stroke-opacity:1; fill:none\" points=\"\n  136.76,1038.39 163.352,1038.39 \n  \"/>\n<polyline clip-path=\"url(#clip840)\" style=\"stroke:#000000; stroke-width:4; stroke-opacity:1; fill:none\" points=\"\n  136.76,766.846 163.352,766.846 \n  \"/>\n<polyline clip-path=\"url(#clip840)\" style=\"stroke:#000000; stroke-width:4; stroke-opacity:1; fill:none\" points=\"\n  136.76,495.298 163.352,495.298 \n  \"/>\n<polyline clip-path=\"url(#clip840)\" style=\"stroke:#000000; stroke-width:4; stroke-opacity:1; fill:none\" points=\"\n  136.76,223.75 163.352,223.75 \n  \"/>\n<path clip-path=\"url(#clip840)\" d=\"M 0 0 M59.0245 1323.29 L75.3438 1323.29 L75.3438 1327.22 L53.3995 1327.22 L53.3995 1323.29 Q56.0615 1320.53 60.6449 1315.9 Q65.2513 1311.25 66.4319 1309.91 Q68.6772 1307.38 69.5568 1305.65 Q70.4596 1303.89 70.4596 1302.2 Q70.4596 1299.44 68.5152 1297.71 Q66.5939 1295.97 63.4921 1295.97 Q61.293 1295.97 58.8393 1296.74 Q56.4088 1297.5 53.631 1299.05 L53.631 1294.33 Q56.4551 1293.19 58.9088 1292.62 Q61.3624 1292.04 63.3995 1292.04 Q68.7698 1292.04 71.9642 1294.72 Q75.1587 1297.41 75.1587 1301.9 Q75.1587 1304.03 74.3485 1305.95 Q73.5614 1307.85 71.455 1310.44 Q70.8763 1311.11 67.7744 1314.33 Q64.6726 1317.52 59.0245 1323.29 Z\" fill=\"#000000\" fill-rule=\"evenodd\" fill-opacity=\"1\" /><path clip-path=\"url(#clip840)\" d=\"M 0 0 M84.441 1323.29 L100.76 1323.29 L100.76 1327.22 L78.8161 1327.22 L78.8161 1323.29 Q81.4781 1320.53 86.0614 1315.9 Q90.6678 1311.25 91.8484 1309.91 Q94.0937 1307.38 94.9734 1305.65 Q95.8761 1303.89 95.8761 1302.2 Q95.8761 1299.44 93.9317 1297.71 Q92.0104 1295.97 88.9086 1295.97 Q86.7095 1295.97 84.2558 1296.74 Q81.8253 1297.5 79.0475 1299.05 L79.0475 1294.33 Q81.8716 1293.19 84.3253 1292.62 Q86.779 1292.04 88.816 1292.04 Q94.1863 1292.04 97.3808 1294.72 Q100.575 1297.41 100.575 1301.9 Q100.575 1304.03 99.765 1305.95 Q98.978 1307.85 96.8715 1310.44 Q96.2928 1311.11 93.191 1314.33 Q90.0891 1317.52 84.441 1323.29 Z\" fill=\"#000000\" fill-rule=\"evenodd\" fill-opacity=\"1\" /><path clip-path=\"url(#clip840)\" d=\"M 0 0 M56.9412 1051.74 L73.2605 1051.74 L73.2605 1055.67 L51.3162 1055.67 L51.3162 1051.74 Q53.9782 1048.98 58.5615 1044.35 Q63.168 1039.7 64.3485 1038.36 Q66.5939 1035.84 67.4735 1034.1 Q68.3763 1032.34 68.3763 1030.65 Q68.3763 1027.9 66.4319 1026.16 Q64.5106 1024.42 61.4087 1024.42 Q59.2097 1024.42 56.756 1025.19 Q54.3254 1025.95 51.5477 1027.5 L51.5477 1022.78 Q54.3717 1021.65 56.8254 1021.07 Q59.2791 1020.49 61.3161 1020.49 Q66.6865 1020.49 69.8809 1023.17 Q73.0753 1025.86 73.0753 1030.35 Q73.0753 1032.48 72.2652 1034.4 Q71.4781 1036.3 69.3717 1038.89 Q68.793 1039.56 65.6911 1042.78 Q62.5893 1045.97 56.9412 1051.74 Z\" fill=\"#000000\" fill-rule=\"evenodd\" fill-opacity=\"1\" /><path clip-path=\"url(#clip840)\" d=\"M 0 0 M91.1771 1025.19 L79.3716 1043.64 L91.1771 1043.64 L91.1771 1025.19 M89.9503 1021.11 L95.8298 1021.11 L95.8298 1043.64 L100.76 1043.64 L100.76 1047.53 L95.8298 1047.53 L95.8298 1055.67 L91.1771 1055.67 L91.1771 1047.53 L75.5753 1047.53 L75.5753 1043.01 L89.9503 1021.11 Z\" fill=\"#000000\" fill-rule=\"evenodd\" fill-opacity=\"1\" /><path clip-path=\"url(#clip840)\" d=\"M 0 0 M57.2652 780.191 L73.5846 780.191 L73.5846 784.126 L51.6403 784.126 L51.6403 780.191 Q54.3023 777.436 58.8856 772.807 Q63.4921 768.154 64.6726 766.811 Q66.918 764.288 67.7976 762.552 Q68.7004 760.793 68.7004 759.103 Q68.7004 756.348 66.7559 754.612 Q64.8346 752.876 61.7328 752.876 Q59.5337 752.876 57.0801 753.64 Q54.6495 754.404 51.8718 755.955 L51.8718 751.233 Q54.6958 750.098 57.1495 749.52 Q59.6032 748.941 61.6402 748.941 Q67.0106 748.941 70.205 751.626 Q73.3994 754.311 73.3994 758.802 Q73.3994 760.932 72.5892 762.853 Q71.8022 764.751 69.6957 767.344 Q69.117 768.015 66.0152 771.233 Q62.9134 774.427 57.2652 780.191 Z\" fill=\"#000000\" fill-rule=\"evenodd\" fill-opacity=\"1\" /><path clip-path=\"url(#clip840)\" d=\"M 0 0 M89.2327 764.983 Q86.0845 764.983 84.2327 767.135 Q82.404 769.288 82.404 773.038 Q82.404 776.765 84.2327 778.941 Q86.0845 781.094 89.2327 781.094 Q92.3808 781.094 94.2095 778.941 Q96.0613 776.765 96.0613 773.038 Q96.0613 769.288 94.2095 767.135 Q92.3808 764.983 89.2327 764.983 M98.515 750.33 L98.515 754.589 Q96.7558 753.756 94.9502 753.316 Q93.1678 752.876 91.4086 752.876 Q86.779 752.876 84.3253 756.001 Q81.8947 759.126 81.5475 765.446 Q82.9133 763.432 84.9734 762.367 Q87.0336 761.279 89.5104 761.279 Q94.7187 761.279 97.728 764.45 Q100.76 767.598 100.76 773.038 Q100.76 778.362 97.6122 781.58 Q94.4641 784.797 89.2327 784.797 Q83.2373 784.797 80.066 780.214 Q76.8948 775.608 76.8948 766.881 Q76.8948 758.686 80.7836 753.825 Q84.6725 748.941 91.2234 748.941 Q92.9826 748.941 94.765 749.288 Q96.5706 749.635 98.515 750.33 Z\" fill=\"#000000\" fill-rule=\"evenodd\" fill-opacity=\"1\" /><path clip-path=\"url(#clip840)\" d=\"M 0 0 M57.5199 508.643 L73.8392 508.643 L73.8392 512.578 L51.8949 512.578 L51.8949 508.643 Q54.5569 505.888 59.1402 501.259 Q63.7467 496.606 64.9272 495.263 Q67.1726 492.74 68.0522 491.004 Q68.955 489.245 68.955 487.555 Q68.955 484.8 67.0106 483.064 Q65.0893 481.328 61.9874 481.328 Q59.7884 481.328 57.3347 482.092 Q54.9041 482.856 52.1264 484.407 L52.1264 479.685 Q54.9504 478.551 57.4041 477.972 Q59.8578 477.393 61.8948 477.393 Q67.2652 477.393 70.4596 480.078 Q73.654 482.763 73.654 487.254 Q73.654 489.384 72.8439 491.305 Q72.0568 493.203 69.9504 495.796 Q69.3717 496.467 66.2698 499.685 Q63.168 502.879 57.5199 508.643 Z\" fill=\"#000000\" fill-rule=\"evenodd\" fill-opacity=\"1\" /><path clip-path=\"url(#clip840)\" d=\"M 0 0 M88.9086 496.166 Q85.5753 496.166 83.654 497.949 Q81.7559 499.731 81.7559 502.856 Q81.7559 505.981 83.654 507.763 Q85.5753 509.546 88.9086 509.546 Q92.2419 509.546 94.1632 507.763 Q96.0845 505.958 96.0845 502.856 Q96.0845 499.731 94.1632 497.949 Q92.2651 496.166 88.9086 496.166 M84.2327 494.175 Q81.2234 493.435 79.5336 491.375 Q77.867 489.314 77.867 486.351 Q77.867 482.208 80.8068 479.8 Q83.7697 477.393 88.9086 477.393 Q94.0706 477.393 97.0104 479.8 Q99.9502 482.208 99.9502 486.351 Q99.9502 489.314 98.2604 491.375 Q96.5937 493.435 93.6076 494.175 Q96.9872 494.962 98.8622 497.254 Q100.76 499.546 100.76 502.856 Q100.76 507.879 97.6817 510.564 Q94.6262 513.249 88.9086 513.249 Q83.191 513.249 80.1123 510.564 Q77.0568 507.879 77.0568 502.856 Q77.0568 499.546 78.9549 497.254 Q80.8531 494.962 84.2327 494.175 M82.5197 486.791 Q82.5197 489.476 84.1864 490.981 Q85.8762 492.486 88.9086 492.486 Q91.9178 492.486 93.6076 490.981 Q95.3206 489.476 95.3206 486.791 Q95.3206 484.106 93.6076 482.601 Q91.9178 481.097 88.9086 481.097 Q85.8762 481.097 84.1864 482.601 Q82.5197 484.106 82.5197 486.791 Z\" fill=\"#000000\" fill-rule=\"evenodd\" fill-opacity=\"1\" /><path clip-path=\"url(#clip840)\" d=\"M 0 0 M66.617 222.396 Q69.9735 223.114 71.8485 225.382 Q73.7466 227.651 73.7466 230.984 Q73.7466 236.1 70.2281 238.901 Q66.7096 241.702 60.2282 241.702 Q58.0523 241.702 55.7375 241.262 Q53.4458 240.845 50.9921 239.989 L50.9921 235.475 Q52.9366 236.609 55.2514 237.188 Q57.5662 237.766 60.0893 237.766 Q64.4874 237.766 66.7791 236.03 Q69.0939 234.294 69.0939 230.984 Q69.0939 227.928 66.9411 226.215 Q64.8115 224.479 60.9921 224.479 L56.9643 224.479 L56.9643 220.637 L61.1773 220.637 Q64.6263 220.637 66.455 219.271 Q68.2837 217.882 68.2837 215.29 Q68.2837 212.628 66.3856 211.216 Q64.5106 209.78 60.9921 209.78 Q59.0708 209.78 56.8717 210.197 Q54.6727 210.614 52.0338 211.493 L52.0338 207.327 Q54.6958 206.586 57.0106 206.216 Q59.3486 205.845 61.4087 205.845 Q66.7328 205.845 69.8346 208.276 Q72.9365 210.683 72.9365 214.804 Q72.9365 217.674 71.2929 219.665 Q69.6494 221.632 66.617 222.396 Z\" fill=\"#000000\" fill-rule=\"evenodd\" fill-opacity=\"1\" /><path clip-path=\"url(#clip840)\" d=\"M 0 0 M88.816 209.549 Q85.2049 209.549 83.3762 213.114 Q81.5707 216.655 81.5707 223.785 Q81.5707 230.891 83.3762 234.456 Q85.2049 237.998 88.816 237.998 Q92.4502 237.998 94.2558 234.456 Q96.0845 230.891 96.0845 223.785 Q96.0845 216.655 94.2558 213.114 Q92.4502 209.549 88.816 209.549 M88.816 205.845 Q94.6262 205.845 97.6817 210.452 Q100.76 215.035 100.76 223.785 Q100.76 232.512 97.6817 237.118 Q94.6262 241.702 88.816 241.702 Q83.0058 241.702 79.9272 237.118 Q76.8716 232.512 76.8716 223.785 Q76.8716 215.035 79.9272 210.452 Q83.0058 205.845 88.816 205.845 Z\" fill=\"#000000\" fill-rule=\"evenodd\" fill-opacity=\"1\" /><polyline clip-path=\"url(#clip842)\" style=\"stroke:#800080; stroke-width:4; stroke-opacity:1; fill:none\" points=\"\n  199.477,766.846 241.288,766.846 283.1,766.846 324.911,902.62 366.722,902.62 408.533,902.62 450.345,631.072 492.156,766.846 533.967,766.846 575.778,766.846 \n  617.59,766.846 659.401,766.846 701.212,766.846 743.023,766.846 784.835,766.846 826.646,766.846 868.457,902.62 910.268,902.62 952.079,902.62 993.891,902.62 \n  1035.7,631.072 1077.51,359.524 1119.32,495.298 1161.14,631.072 1202.95,631.072 1244.76,631.072 1286.57,631.072 1328.38,766.846 1370.19,902.62 1412,1038.39 \n  1453.81,1309.94 1495.63,1309.94 1537.44,1309.94 1579.25,1309.94 1621.06,1445.72 1662.87,1445.72 1704.68,1445.72 1746.49,1445.72 1788.3,1445.72 1830.12,1174.17 \n  1871.93,1174.17 1913.74,1174.17 1955.55,1309.94 1997.36,1309.94 2039.17,1309.94 2080.98,1309.94 2122.79,1309.94 2164.61,1445.72 2206.42,1445.72 2248.23,1445.72 \n  2290.04,1445.72 \n  \"/>\n<polyline clip-path=\"url(#clip842)\" style=\"stroke:#008000; stroke-width:4; stroke-opacity:1; fill:none\" points=\"\n  199.477,87.9763 241.288,87.9763 283.1,223.75 324.911,359.524 366.722,359.524 408.533,631.072 450.345,631.072 492.156,495.298 533.967,495.298 575.778,631.072 \n  617.59,631.072 659.401,631.072 701.212,359.524 743.023,359.524 784.835,359.524 826.646,631.072 868.457,495.298 910.268,766.846 952.079,766.846 993.891,631.072 \n  1035.7,631.072 1077.51,631.072 1119.32,495.298 1161.14,766.846 1202.95,1038.39 1244.76,1038.39 1286.57,1309.94 1328.38,1174.17 1370.19,1038.39 1412,902.62 \n  1453.81,902.62 1495.63,766.846 1537.44,631.072 1579.25,631.072 1621.06,495.298 1662.87,766.846 1704.68,766.846 1746.49,766.846 1788.3,766.846 1830.12,766.846 \n  1871.93,1038.39 1913.74,1309.94 1955.55,1174.17 1997.36,1038.39 2039.17,1038.39 2080.98,902.62 2122.79,1038.39 2164.61,1038.39 2206.42,1038.39 2248.23,1038.39 \n  2290.04,1038.39 \n  \"/>\n<path clip-path=\"url(#clip840)\" d=\"\nM1826.65 276.658 L2278.89 276.658 L2278.89 95.2176 L1826.65 95.2176  Z\n  \" fill=\"#ffffff\" fill-rule=\"evenodd\" fill-opacity=\"1\"/>\n<polyline clip-path=\"url(#clip840)\" style=\"stroke:#000000; stroke-width:4; stroke-opacity:1; fill:none\" points=\"\n  1826.65,276.658 2278.89,276.658 2278.89,95.2176 1826.65,95.2176 1826.65,276.658 \n  \"/>\n<polyline clip-path=\"url(#clip840)\" style=\"stroke:#800080; stroke-width:4; stroke-opacity:1; fill:none\" points=\"\n  1851.27,155.698 1999.01,155.698 \n  \"/>\n<path clip-path=\"url(#clip840)\" d=\"M 0 0 M2042.54 159.714 Q2042.54 155.084 2040.62 152.538 Q2038.72 149.992 2035.27 149.992 Q2031.85 149.992 2029.92 152.538 Q2028.03 155.084 2028.03 159.714 Q2028.03 164.32 2029.92 166.866 Q2031.85 169.413 2035.27 169.413 Q2038.72 169.413 2040.62 166.866 Q2042.54 164.32 2042.54 159.714 M2046.8 169.76 Q2046.8 176.38 2043.86 179.598 Q2040.92 182.839 2034.85 182.839 Q2032.61 182.839 2030.62 182.491 Q2028.63 182.167 2026.75 181.473 L2026.75 177.329 Q2028.63 178.348 2030.46 178.834 Q2032.28 179.32 2034.18 179.32 Q2038.37 179.32 2040.46 177.121 Q2042.54 174.945 2042.54 170.524 L2042.54 168.417 Q2041.22 170.709 2039.16 171.843 Q2037.1 172.978 2034.23 172.978 Q2029.46 172.978 2026.54 169.343 Q2023.63 165.709 2023.63 159.714 Q2023.63 153.695 2026.54 150.061 Q2029.46 146.427 2034.23 146.427 Q2037.1 146.427 2039.16 147.561 Q2041.22 148.695 2042.54 150.987 L2042.54 147.052 L2046.8 147.052 L2046.8 169.76 Z\" fill=\"#000000\" fill-rule=\"evenodd\" fill-opacity=\"1\" /><path clip-path=\"url(#clip840)\" d=\"M 0 0 M2061.31 150.038 Q2057.89 150.038 2055.9 152.723 Q2053.91 155.385 2053.91 160.038 Q2053.91 164.691 2055.87 167.376 Q2057.86 170.038 2061.31 170.038 Q2064.72 170.038 2066.71 167.353 Q2068.7 164.667 2068.7 160.038 Q2068.7 155.431 2066.71 152.746 Q2064.72 150.038 2061.31 150.038 M2061.31 146.427 Q2066.87 146.427 2070.04 150.038 Q2073.21 153.649 2073.21 160.038 Q2073.21 166.404 2070.04 170.038 Q2066.87 173.649 2061.31 173.649 Q2055.73 173.649 2052.56 170.038 Q2049.41 166.404 2049.41 160.038 Q2049.41 153.649 2052.56 150.038 Q2055.73 146.427 2061.31 146.427 Z\" fill=\"#000000\" fill-rule=\"evenodd\" fill-opacity=\"1\" /><path clip-path=\"url(#clip840)\" d=\"M 0 0 M2077.82 136.959 L2082.08 136.959 L2082.08 150.894 L2084.97 148.811 L2086.73 151.265 L2082.08 154.529 L2082.08 172.978 L2077.82 172.978 L2077.82 157.561 L2074.97 159.598 L2073.26 157.144 L2077.82 153.88 L2077.82 136.959 Z\" fill=\"#000000\" fill-rule=\"evenodd\" fill-opacity=\"1\" /><path clip-path=\"url(#clip840)\" d=\"M 0 0 M2113.37 158.95 L2113.37 161.033 L2093.79 161.033 Q2094.07 165.431 2096.43 167.746 Q2098.81 170.038 2103.05 170.038 Q2105.5 170.038 2107.79 169.436 Q2110.11 168.834 2112.38 167.63 L2112.38 171.658 Q2110.09 172.63 2107.68 173.14 Q2105.27 173.649 2102.79 173.649 Q2096.59 173.649 2092.96 170.038 Q2089.34 166.427 2089.34 160.269 Q2089.34 153.904 2092.77 150.177 Q2096.22 146.427 2102.05 146.427 Q2107.28 146.427 2110.32 149.806 Q2113.37 153.163 2113.37 158.95 M2109.11 157.7 Q2109.07 154.205 2107.15 152.121 Q2105.25 150.038 2102.1 150.038 Q2098.53 150.038 2096.38 152.052 Q2094.25 154.066 2093.93 157.723 L2109.11 157.7 M2105.62 172.978 L2108.37 172.978 Q2107.33 174.39 2106.82 175.408 Q2106.34 176.427 2106.34 177.144 Q2106.34 178.209 2106.96 178.741 Q2107.61 179.274 2108.86 179.274 Q2109.6 179.274 2110.32 179.089 Q2111.03 178.927 2111.75 178.579 L2111.75 181.658 Q2110.87 181.89 2110.09 182.005 Q2109.3 182.121 2108.6 182.121 Q2105.78 182.121 2104.44 181.103 Q2103.12 180.107 2103.12 177.954 Q2103.12 176.843 2103.72 175.616 Q2104.34 174.413 2105.62 172.978 Z\" fill=\"#000000\" fill-rule=\"evenodd\" fill-opacity=\"1\" /><path clip-path=\"url(#clip840)\" d=\"M 0 0 M2136.45 160.038 Q2136.45 155.339 2134.51 152.677 Q2132.59 149.992 2129.21 149.992 Q2125.83 149.992 2123.88 152.677 Q2121.96 155.339 2121.96 160.038 Q2121.96 164.737 2123.88 167.422 Q2125.83 170.084 2129.21 170.084 Q2132.59 170.084 2134.51 167.422 Q2136.45 164.737 2136.45 160.038 M2121.96 150.987 Q2123.3 148.672 2125.34 147.561 Q2127.4 146.427 2130.25 146.427 Q2134.97 146.427 2137.91 150.177 Q2140.87 153.927 2140.87 160.038 Q2140.87 166.149 2137.91 169.899 Q2134.97 173.649 2130.25 173.649 Q2127.4 173.649 2125.34 172.538 Q2123.3 171.403 2121.96 169.089 L2121.96 172.978 L2117.68 172.978 L2117.68 136.959 L2121.96 136.959 L2121.96 150.987 Z\" fill=\"#000000\" fill-rule=\"evenodd\" fill-opacity=\"1\" /><path clip-path=\"url(#clip840)\" d=\"M 0 0 M2145.34 147.052 L2149.6 147.052 L2149.6 172.978 L2145.34 172.978 L2145.34 147.052 M2145.34 136.959 L2149.6 136.959 L2149.6 142.353 L2145.34 142.353 L2145.34 136.959 Z\" fill=\"#000000\" fill-rule=\"evenodd\" fill-opacity=\"1\" /><path clip-path=\"url(#clip840)\" d=\"M 0 0 M2176.24 158.95 L2176.24 161.033 L2156.66 161.033 Q2156.94 165.431 2159.3 167.746 Q2161.68 170.038 2165.92 170.038 Q2168.37 170.038 2170.66 169.436 Q2172.98 168.834 2175.25 167.63 L2175.25 171.658 Q2172.96 172.63 2170.55 173.14 Q2168.14 173.649 2165.66 173.649 Q2159.46 173.649 2155.83 170.038 Q2152.21 166.427 2152.21 160.269 Q2152.21 153.904 2155.64 150.177 Q2159.09 146.427 2164.92 146.427 Q2170.15 146.427 2173.19 149.806 Q2176.24 153.163 2176.24 158.95 M2171.98 157.7 Q2171.94 154.205 2170.02 152.121 Q2168.12 150.038 2164.97 150.038 Q2161.4 150.038 2159.25 152.052 Q2157.12 154.066 2156.8 157.723 L2171.98 157.7 Z\" fill=\"#000000\" fill-rule=\"evenodd\" fill-opacity=\"1\" /><polyline clip-path=\"url(#clip840)\" style=\"stroke:#008000; stroke-width:4; stroke-opacity:1; fill:none\" points=\"\n  1851.27,216.178 1999.01,216.178 \n  \"/>\n<path clip-path=\"url(#clip840)\" d=\"M 0 0 M2028.95 207.532 L2033.21 207.532 L2033.21 233.921 Q2033.21 238.874 2031.31 241.096 Q2029.44 243.319 2025.25 243.319 L2023.63 243.319 L2023.63 239.708 L2024.76 239.708 Q2027.19 239.708 2028.07 238.573 Q2028.95 237.462 2028.95 233.921 L2028.95 207.532 M2028.95 197.439 L2033.21 197.439 L2033.21 202.833 L2028.95 202.833 L2028.95 197.439 Z\" fill=\"#000000\" fill-rule=\"evenodd\" fill-opacity=\"1\" /><path clip-path=\"url(#clip840)\" d=\"M 0 0 M2049.46 220.425 Q2044.3 220.425 2042.31 221.606 Q2040.32 222.786 2040.32 225.634 Q2040.32 227.902 2041.8 229.245 Q2043.3 230.564 2045.87 230.564 Q2049.41 230.564 2051.54 228.064 Q2053.7 225.541 2053.7 221.374 L2053.7 220.425 L2049.46 220.425 M2057.96 218.666 L2057.96 233.458 L2053.7 233.458 L2053.7 229.522 Q2052.24 231.883 2050.06 233.018 Q2047.89 234.129 2044.74 234.129 Q2040.76 234.129 2038.4 231.907 Q2036.06 229.661 2036.06 225.911 Q2036.06 221.536 2038.97 219.314 Q2041.91 217.092 2047.72 217.092 L2053.7 217.092 L2053.7 216.675 Q2053.7 213.735 2051.75 212.138 Q2049.83 210.518 2046.34 210.518 Q2044.11 210.518 2042.01 211.05 Q2039.9 211.583 2037.96 212.647 L2037.96 208.712 Q2040.29 207.81 2042.49 207.37 Q2044.69 206.907 2046.78 206.907 Q2052.4 206.907 2055.18 209.823 Q2057.96 212.74 2057.96 218.666 Z\" fill=\"#000000\" fill-rule=\"evenodd\" fill-opacity=\"1\" /><path clip-path=\"url(#clip840)\" d=\"M 0 0 M2078.95 208.296 L2078.95 212.323 Q2077.15 211.397 2075.2 210.935 Q2073.26 210.472 2071.17 210.472 Q2068 210.472 2066.41 211.444 Q2064.83 212.416 2064.83 214.36 Q2064.83 215.842 2065.97 216.698 Q2067.1 217.532 2070.53 218.296 L2071.98 218.62 Q2076.52 219.592 2078.42 221.374 Q2080.34 223.134 2080.34 226.305 Q2080.34 229.916 2077.47 232.022 Q2074.62 234.129 2069.62 234.129 Q2067.54 234.129 2065.27 233.712 Q2063.03 233.319 2060.53 232.508 L2060.53 228.11 Q2062.89 229.337 2065.18 229.962 Q2067.47 230.564 2069.72 230.564 Q2072.72 230.564 2074.34 229.546 Q2075.97 228.504 2075.97 226.629 Q2075.97 224.893 2074.78 223.967 Q2073.63 223.041 2069.67 222.184 L2068.19 221.837 Q2064.23 221.004 2062.47 219.291 Q2060.71 217.555 2060.71 214.546 Q2060.71 210.888 2063.3 208.898 Q2065.9 206.907 2070.66 206.907 Q2073.03 206.907 2075.11 207.254 Q2077.19 207.601 2078.95 208.296 Z\" fill=\"#000000\" fill-rule=\"evenodd\" fill-opacity=\"1\" /><path clip-path=\"url(#clip840)\" d=\"M 0 0 M2089.02 200.171 L2089.02 207.532 L2097.79 207.532 L2097.79 210.842 L2089.02 210.842 L2089.02 224.916 Q2089.02 228.087 2089.88 228.99 Q2090.76 229.893 2093.42 229.893 L2097.79 229.893 L2097.79 233.458 L2093.42 233.458 Q2088.49 233.458 2086.61 231.629 Q2084.74 229.777 2084.74 224.916 L2084.74 210.842 L2081.61 210.842 L2081.61 207.532 L2084.74 207.532 L2084.74 200.171 L2089.02 200.171 Z\" fill=\"#000000\" fill-rule=\"evenodd\" fill-opacity=\"1\" /><path clip-path=\"url(#clip840)\" d=\"M 0 0 M2117.28 211.513 Q2116.57 211.097 2115.71 210.911 Q2114.88 210.703 2113.86 210.703 Q2110.25 210.703 2108.3 213.064 Q2106.38 215.402 2106.38 219.8 L2106.38 233.458 L2102.1 233.458 L2102.1 207.532 L2106.38 207.532 L2106.38 211.56 Q2107.72 209.198 2109.88 208.064 Q2112.03 206.907 2115.11 206.907 Q2115.55 206.907 2116.08 206.976 Q2116.61 207.023 2117.26 207.138 L2117.28 211.513 Z\" fill=\"#000000\" fill-rule=\"evenodd\" fill-opacity=\"1\" /><path clip-path=\"url(#clip840)\" d=\"M 0 0 M2119.9 207.532 L2140.13 207.532 L2140.13 211.421 L2124.11 230.055 L2140.13 230.055 L2140.13 233.458 L2119.32 233.458 L2119.32 229.569 L2135.34 210.935 L2119.9 210.935 L2119.9 207.532 Z\" fill=\"#000000\" fill-rule=\"evenodd\" fill-opacity=\"1\" /><path clip-path=\"url(#clip840)\" d=\"M 0 0 M2166.78 219.43 L2166.78 221.513 L2147.19 221.513 Q2147.47 225.911 2149.83 228.226 Q2152.21 230.518 2156.45 230.518 Q2158.9 230.518 2161.2 229.916 Q2163.51 229.314 2165.78 228.11 L2165.78 232.138 Q2163.49 233.11 2161.08 233.62 Q2158.67 234.129 2156.2 234.129 Q2149.99 234.129 2146.36 230.518 Q2142.75 226.907 2142.75 220.749 Q2142.75 214.384 2146.17 210.657 Q2149.62 206.907 2155.46 206.907 Q2160.69 206.907 2163.72 210.286 Q2166.78 213.643 2166.78 219.43 M2162.52 218.18 Q2162.47 214.685 2160.55 212.601 Q2158.65 210.518 2155.5 210.518 Q2151.94 210.518 2149.78 212.532 Q2147.65 214.546 2147.33 218.203 L2162.52 218.18 M2159.02 233.458 L2161.78 233.458 Q2160.73 234.87 2160.22 235.888 Q2159.74 236.907 2159.74 237.624 Q2159.74 238.689 2160.36 239.221 Q2161.01 239.754 2162.26 239.754 Q2163 239.754 2163.72 239.569 Q2164.44 239.407 2165.15 239.059 L2165.15 242.138 Q2164.28 242.37 2163.49 242.485 Q2162.7 242.601 2162.01 242.601 Q2159.18 242.601 2157.84 241.583 Q2156.52 240.587 2156.52 238.434 Q2156.52 237.323 2157.12 236.096 Q2157.75 234.893 2159.02 233.458 Z\" fill=\"#000000\" fill-rule=\"evenodd\" fill-opacity=\"1\" /><path clip-path=\"url(#clip840)\" d=\"M 0 0 M2189.85 220.518 Q2189.85 215.819 2187.91 213.157 Q2185.99 210.472 2182.61 210.472 Q2179.23 210.472 2177.28 213.157 Q2175.36 215.819 2175.36 220.518 Q2175.36 225.217 2177.28 227.902 Q2179.23 230.564 2182.61 230.564 Q2185.99 230.564 2187.91 227.902 Q2189.85 225.217 2189.85 220.518 M2175.36 211.467 Q2176.71 209.152 2178.74 208.041 Q2180.8 206.907 2183.65 206.907 Q2188.37 206.907 2191.31 210.657 Q2194.27 214.407 2194.27 220.518 Q2194.27 226.629 2191.31 230.379 Q2188.37 234.129 2183.65 234.129 Q2180.8 234.129 2178.74 233.018 Q2176.71 231.883 2175.36 229.569 L2175.36 233.458 L2171.08 233.458 L2171.08 197.439 L2175.36 197.439 L2175.36 211.467 Z\" fill=\"#000000\" fill-rule=\"evenodd\" fill-opacity=\"1\" /><path clip-path=\"url(#clip840)\" d=\"M 0 0 M2198.74 207.532 L2203 207.532 L2203 233.458 L2198.74 233.458 L2198.74 207.532 M2198.74 197.439 L2203 197.439 L2203 202.833 L2198.74 202.833 L2198.74 197.439 Z\" fill=\"#000000\" fill-rule=\"evenodd\" fill-opacity=\"1\" /><path clip-path=\"url(#clip840)\" d=\"M 0 0 M2229.65 219.43 L2229.65 221.513 L2210.06 221.513 Q2210.34 225.911 2212.7 228.226 Q2215.08 230.518 2219.32 230.518 Q2221.77 230.518 2224.07 229.916 Q2226.38 229.314 2228.65 228.11 L2228.65 232.138 Q2226.36 233.11 2223.95 233.62 Q2221.54 234.129 2219.07 234.129 Q2212.86 234.129 2209.23 230.518 Q2205.62 226.907 2205.62 220.749 Q2205.62 214.384 2209.04 210.657 Q2212.49 206.907 2218.33 206.907 Q2223.56 206.907 2226.59 210.286 Q2229.65 213.643 2229.65 219.43 M2225.39 218.18 Q2225.34 214.685 2223.42 212.601 Q2221.52 210.518 2218.37 210.518 Q2214.81 210.518 2212.65 212.532 Q2210.52 214.546 2210.2 218.203 L2225.39 218.18 Z\" fill=\"#000000\" fill-rule=\"evenodd\" fill-opacity=\"1\" /></svg>\n"
               },
               "type": "node"
              }
             ],
             "instanceArgs": {
              "namespace": "html",
              "tag": "div"
             },
             "nodeType": "DOM",
             "props": {
              "className": "interact-flex-row interact-widget"
             },
             "type": "node"
            }
           }
          },
          "systemjs_options": null
         },
         "nodeType": "Scope",
         "props": {},
         "type": "node"
        }
       ],
       "instanceArgs": {
        "namespace": "html",
        "tag": "div"
       },
       "nodeType": "DOM",
       "props": {},
       "type": "node"
      },
      "text/html": [
       "<div\n",
       "    class=\"webio-mountpoint\"\n",
       "    data-webio-mountpoint=\"8794706354993370376\"\n",
       ">\n",
       "    <script>\n",
       "    if (window.require && require.defined && require.defined(\"nbextensions/webio-jupyter-notebook\")) {\n",
       "        console.log(\"Jupyter WebIO extension detected, not mounting.\");\n",
       "    } else if (window.WebIO) {\n",
       "        WebIO.mount(\n",
       "            document.querySelector('[data-webio-mountpoint=\"8794706354993370376\"]'),\n",
       "            {\"props\":{},\"nodeType\":\"DOM\",\"type\":\"node\",\"instanceArgs\":{\"namespace\":\"html\",\"tag\":\"div\"},\"children\":[{\"props\":{\"className\":\"field interact-widget\"},\"nodeType\":\"DOM\",\"type\":\"node\",\"instanceArgs\":{\"namespace\":\"html\",\"tag\":\"div\"},\"children\":[{\"props\":{},\"nodeType\":\"Scope\",\"type\":\"node\",\"instanceArgs\":{\"imports\":{\"data\":[{\"name\":\"knockout\",\"type\":\"js\",\"url\":\"\\/assetserver\\/fd91bcc76f200e46e5681854927159f78397d01c-knockout.js\"},{\"name\":\"knockout_punches\",\"type\":\"js\",\"url\":\"\\/assetserver\\/0771d715f47990fd6a20af05579c332026637b1d-knockout_punches.js\"},{\"name\":null,\"type\":\"js\",\"url\":\"\\/assetserver\\/e56fcd69f839599425572dc2cffb9ce416a547ec-all.js\"},{\"name\":null,\"type\":\"css\",\"url\":\"\\/assetserver\\/f03a11104aa67cefd9b6e4d413d413b5ef056233-style.css\"},{\"name\":null,\"type\":\"css\",\"url\":\"\\/assetserver\\/e60d8885c5ad87196b49c3e741a5de92d7eeea1c-bulma_confined.min.css\"}],\"type\":\"async_block\"},\"id\":\"9603628431431619613\",\"handlers\":{\"changes\":[\"(function (val){return (val!=this.model[\\\"changes\\\"]()) ? (this.valueFromJulia[\\\"changes\\\"]=true, this.model[\\\"changes\\\"](val)) : undefined})\"],\"index\":[\"(function (val){return (val!=this.model[\\\"index\\\"]()) ? (this.valueFromJulia[\\\"index\\\"]=true, this.model[\\\"index\\\"](val)) : undefined})\"]},\"systemjs_options\":null,\"mount_callbacks\":[\"function () {\\n    var handler = (function (ko, koPunches) {\\n    ko.punches.enableAll();\\n    ko.bindingHandlers.numericValue = {\\n        init: function(element, valueAccessor, allBindings, data, context) {\\n            var stringified = ko.observable(ko.unwrap(valueAccessor()));\\n            stringified.subscribe(function(value) {\\n                var val = parseFloat(value);\\n                if (!isNaN(val)) {\\n                    valueAccessor()(val);\\n                }\\n            });\\n            valueAccessor().subscribe(function(value) {\\n                var str = JSON.stringify(value);\\n                if ((str == \\\"0\\\") && ([\\\"-0\\\", \\\"-0.\\\"].indexOf(stringified()) >= 0))\\n                     return;\\n                 if ([\\\"null\\\", \\\"\\\"].indexOf(str) >= 0)\\n                     return;\\n                stringified(str);\\n            });\\n            ko.applyBindingsToNode(\\n                element,\\n                {\\n                    value: stringified,\\n                    valueUpdate: allBindings.get('valueUpdate'),\\n                },\\n                context,\\n            );\\n        }\\n    };\\n    var json_data = {\\\"formatted_vals\\\":[\\\"2\\\",\\\"3\\\",\\\"4\\\",\\\"5\\\",\\\"6\\\",\\\"7\\\",\\\"8\\\",\\\"9\\\",\\\"10\\\",\\\"11\\\",\\\"12\\\",\\\"13\\\",\\\"14\\\",\\\"15\\\",\\\"16\\\",\\\"17\\\",\\\"18\\\",\\\"19\\\",\\\"20\\\",\\\"21\\\",\\\"22\\\",\\\"23\\\",\\\"24\\\",\\\"25\\\",\\\"26\\\",\\\"27\\\",\\\"28\\\",\\\"29\\\",\\\"30\\\",\\\"31\\\",\\\"32\\\",\\\"33\\\",\\\"34\\\",\\\"35\\\",\\\"36\\\",\\\"37\\\",\\\"38\\\",\\\"39\\\",\\\"40\\\",\\\"41\\\",\\\"42\\\",\\\"43\\\",\\\"44\\\",\\\"45\\\",\\\"46\\\",\\\"47\\\",\\\"48\\\",\\\"49\\\",\\\"50\\\",\\\"51\\\",\\\"52\\\",\\\"53\\\",\\\"54\\\",\\\"55\\\",\\\"56\\\",\\\"57\\\",\\\"58\\\",\\\"59\\\",\\\"60\\\",\\\"61\\\",\\\"62\\\",\\\"63\\\",\\\"64\\\",\\\"65\\\",\\\"66\\\",\\\"67\\\",\\\"68\\\",\\\"69\\\",\\\"70\\\",\\\"71\\\",\\\"72\\\",\\\"73\\\",\\\"74\\\",\\\"75\\\",\\\"76\\\",\\\"77\\\",\\\"78\\\",\\\"79\\\",\\\"80\\\",\\\"81\\\",\\\"82\\\",\\\"83\\\",\\\"84\\\",\\\"85\\\",\\\"86\\\",\\\"87\\\",\\\"88\\\",\\\"89\\\",\\\"90\\\",\\\"91\\\",\\\"92\\\",\\\"93\\\",\\\"94\\\",\\\"95\\\",\\\"96\\\",\\\"97\\\",\\\"98\\\",\\\"99\\\",\\\"100\\\"],\\\"changes\\\":WebIO.getval({\\\"name\\\":\\\"changes\\\",\\\"scope\\\":\\\"9603628431431619613\\\",\\\"id\\\":\\\"5731298409556294991\\\",\\\"type\\\":\\\"observable\\\"}),\\\"index\\\":WebIO.getval({\\\"name\\\":\\\"index\\\",\\\"scope\\\":\\\"9603628431431619613\\\",\\\"id\\\":\\\"8902891614622972833\\\",\\\"type\\\":\\\"observable\\\"})};\\n    var self = this;\\n    function AppViewModel() {\\n        for (var key in json_data) {\\n            var el = json_data[key];\\n            this[key] = Array.isArray(el) ? ko.observableArray(el) : ko.observable(el);\\n        }\\n        \\n        [this[\\\"formatted_val\\\"]=ko.computed(    function(){\\n        return this.formatted_vals()[parseInt(this.index())-(1)];\\n    }\\n,this)]\\n        [this[\\\"changes\\\"].subscribe((function (val){!(this.valueFromJulia[\\\"changes\\\"]) ? (WebIO.setval({\\\"name\\\":\\\"changes\\\",\\\"scope\\\":\\\"9603628431431619613\\\",\\\"id\\\":\\\"5731298409556294991\\\",\\\"type\\\":\\\"observable\\\"},val)) : undefined; return this.valueFromJulia[\\\"changes\\\"]=false}),self),this[\\\"index\\\"].subscribe((function (val){!(this.valueFromJulia[\\\"index\\\"]) ? (WebIO.setval({\\\"name\\\":\\\"index\\\",\\\"scope\\\":\\\"9603628431431619613\\\",\\\"id\\\":\\\"8902891614622972833\\\",\\\"type\\\":\\\"observable\\\"},val)) : undefined; return this.valueFromJulia[\\\"index\\\"]=false}),self)]\\n        \\n    }\\n    self.model = new AppViewModel();\\n    self.valueFromJulia = {};\\n    for (var key in json_data) {\\n        self.valueFromJulia[key] = false;\\n    }\\n    ko.applyBindings(self.model, self.dom);\\n}\\n);\\n    (WebIO.importBlock({\\\"data\\\":[{\\\"name\\\":\\\"knockout\\\",\\\"type\\\":\\\"js\\\",\\\"url\\\":\\\"\\/assetserver\\/fd91bcc76f200e46e5681854927159f78397d01c-knockout.js\\\"},{\\\"name\\\":\\\"knockout_punches\\\",\\\"type\\\":\\\"js\\\",\\\"url\\\":\\\"\\/assetserver\\/0771d715f47990fd6a20af05579c332026637b1d-knockout_punches.js\\\"}],\\\"type\\\":\\\"async_block\\\"})).then((imports) => handler.apply(this, imports));\\n}\\n\"],\"observables\":{\"changes\":{\"sync\":false,\"id\":\"5731298409556294991\",\"value\":0},\"index\":{\"sync\":true,\"id\":\"8902891614622972833\",\"value\":50}}},\"children\":[{\"props\":{\"className\":\"interact-flex-row interact-widget\"},\"nodeType\":\"DOM\",\"type\":\"node\",\"instanceArgs\":{\"namespace\":\"html\",\"tag\":\"div\"},\"children\":[{\"props\":{\"className\":\"interact-flex-row-left\"},\"nodeType\":\"DOM\",\"type\":\"node\",\"instanceArgs\":{\"namespace\":\"html\",\"tag\":\"div\"},\"children\":[{\"props\":{\"className\":\"interact \",\"style\":{\"padding\":\"5px 10px 0px 10px\"}},\"nodeType\":\"DOM\",\"type\":\"node\",\"instanceArgs\":{\"namespace\":\"html\",\"tag\":\"label\"},\"children\":[\"time\"]}]},{\"props\":{\"className\":\"interact-flex-row-center\"},\"nodeType\":\"DOM\",\"type\":\"node\",\"instanceArgs\":{\"namespace\":\"html\",\"tag\":\"div\"},\"children\":[{\"props\":{\"max\":99,\"min\":1,\"attributes\":{\"type\":\"range\",\"data-bind\":\"numericValue: index, valueUpdate: 'input', event: {change: function (){this.changes(this.changes()+1)}}\",\"orient\":\"horizontal\"},\"step\":1,\"className\":\"slider slider is-fullwidth\",\"style\":{}},\"nodeType\":\"DOM\",\"type\":\"node\",\"instanceArgs\":{\"namespace\":\"html\",\"tag\":\"input\"},\"children\":[]}]},{\"props\":{\"className\":\"interact-flex-row-right\"},\"nodeType\":\"DOM\",\"type\":\"node\",\"instanceArgs\":{\"namespace\":\"html\",\"tag\":\"div\"},\"children\":[{\"props\":{\"attributes\":{\"data-bind\":\"text: formatted_val\"}},\"nodeType\":\"DOM\",\"type\":\"node\",\"instanceArgs\":{\"namespace\":\"html\",\"tag\":\"p\"},\"children\":[]}]}]}]}]},{\"props\":{},\"nodeType\":\"Scope\",\"type\":\"node\",\"instanceArgs\":{\"imports\":{\"data\":[],\"type\":\"async_block\"},\"id\":\"737252768384782734\",\"handlers\":{},\"systemjs_options\":null,\"mount_callbacks\":[],\"observables\":{\"obs-node\":{\"sync\":false,\"id\":\"12747701415463388311\",\"value\":{\"props\":{\"className\":\"interact-flex-row interact-widget\"},\"nodeType\":\"DOM\",\"type\":\"node\",\"instanceArgs\":{\"namespace\":\"html\",\"tag\":\"div\"},\"children\":[{\"props\":{\"setInnerHtml\":\"<?xml version=\\\"1.0\\\" encoding=\\\"utf-8\\\"?>\\n<svg xmlns=\\\"http:\\/\\/www.w3.org\\/2000\\/svg\\\" xmlns:xlink=\\\"http:\\/\\/www.w3.org\\/1999\\/xlink\\\" width=\\\"600\\\" height=\\\"400\\\" viewBox=\\\"0 0 2400 1600\\\">\\n<defs>\\n  <clipPath id=\\\"clip800\\\">\\n    <rect x=\\\"0\\\" y=\\\"0\\\" width=\\\"2400\\\" height=\\\"1600\\\"\\/>\\n  <\\/clipPath>\\n<\\/defs>\\n<path clip-path=\\\"url(#clip800)\\\" d=\\\"\\nM0 1600 L2400 1600 L2400 0 L0 0  Z\\n  \\\" fill=\\\"#ffffff\\\" fill-rule=\\\"evenodd\\\" fill-opacity=\\\"1\\\"\\/>\\n<defs>\\n  <clipPath id=\\\"clip801\\\">\\n    <rect x=\\\"480\\\" y=\\\"0\\\" width=\\\"1681\\\" height=\\\"1600\\\"\\/>\\n  <\\/clipPath>\\n<\\/defs>\\n<path clip-path=\\\"url(#clip800)\\\" d=\\\"\\nM136.76 1486.45 L2352.76 1486.45 L2352.76 47.2441 L136.76 47.2441  Z\\n  \\\" fill=\\\"#ffffff\\\" fill-rule=\\\"evenodd\\\" fill-opacity=\\\"1\\\"\\/>\\n<defs>\\n  <clipPath id=\\\"clip802\\\">\\n    <rect x=\\\"136\\\" y=\\\"47\\\" width=\\\"2217\\\" height=\\\"1440\\\"\\/>\\n  <\\/clipPath>\\n<\\/defs>\\n<polyline clip-path=\\\"url(#clip802)\\\" style=\\\"stroke:#000000; stroke-width:2; stroke-opacity:0.1; fill:none\\\" points=\\\"\\n  157.666,1486.45 157.666,47.2441 \\n  \\\"\\/>\\n<polyline clip-path=\\\"url(#clip802)\\\" style=\\\"stroke:#000000; stroke-width:2; stroke-opacity:0.1; fill:none\\\" points=\\\"\\n  575.778,1486.45 575.778,47.2441 \\n  \\\"\\/>\\n<polyline clip-path=\\\"url(#clip802)\\\" style=\\\"stroke:#000000; stroke-width:2; stroke-opacity:0.1; fill:none\\\" points=\\\"\\n  993.891,1486.45 993.891,47.2441 \\n  \\\"\\/>\\n<polyline clip-path=\\\"url(#clip802)\\\" style=\\\"stroke:#000000; stroke-width:2; stroke-opacity:0.1; fill:none\\\" points=\\\"\\n  1412,1486.45 1412,47.2441 \\n  \\\"\\/>\\n<polyline clip-path=\\\"url(#clip802)\\\" style=\\\"stroke:#000000; stroke-width:2; stroke-opacity:0.1; fill:none\\\" points=\\\"\\n  1830.12,1486.45 1830.12,47.2441 \\n  \\\"\\/>\\n<polyline clip-path=\\\"url(#clip802)\\\" style=\\\"stroke:#000000; stroke-width:2; stroke-opacity:0.1; fill:none\\\" points=\\\"\\n  2248.23,1486.45 2248.23,47.2441 \\n  \\\"\\/>\\n<polyline clip-path=\\\"url(#clip800)\\\" style=\\\"stroke:#000000; stroke-width:4; stroke-opacity:1; fill:none\\\" points=\\\"\\n  136.76,1486.45 2352.76,1486.45 \\n  \\\"\\/>\\n<polyline clip-path=\\\"url(#clip800)\\\" style=\\\"stroke:#000000; stroke-width:4; stroke-opacity:1; fill:none\\\" points=\\\"\\n  157.666,1486.45 157.666,1469.18 \\n  \\\"\\/>\\n<polyline clip-path=\\\"url(#clip800)\\\" style=\\\"stroke:#000000; stroke-width:4; stroke-opacity:1; fill:none\\\" points=\\\"\\n  575.778,1486.45 575.778,1469.18 \\n  \\\"\\/>\\n<polyline clip-path=\\\"url(#clip800)\\\" style=\\\"stroke:#000000; stroke-width:4; stroke-opacity:1; fill:none\\\" points=\\\"\\n  993.891,1486.45 993.891,1469.18 \\n  \\\"\\/>\\n<polyline clip-path=\\\"url(#clip800)\\\" style=\\\"stroke:#000000; stroke-width:4; stroke-opacity:1; fill:none\\\" points=\\\"\\n  1412,1486.45 1412,1469.18 \\n  \\\"\\/>\\n<polyline clip-path=\\\"url(#clip800)\\\" style=\\\"stroke:#000000; stroke-width:4; stroke-opacity:1; fill:none\\\" points=\\\"\\n  1830.12,1486.45 1830.12,1469.18 \\n  \\\"\\/>\\n<polyline clip-path=\\\"url(#clip800)\\\" style=\\\"stroke:#000000; stroke-width:4; stroke-opacity:1; fill:none\\\" points=\\\"\\n  2248.23,1486.45 2248.23,1469.18 \\n  \\\"\\/>\\n<path clip-path=\\\"url(#clip800)\\\" d=\\\"M 0 0 M157.666 1515.64 Q154.055 1515.64 152.226 1519.2 Q150.421 1522.75 150.421 1529.87 Q150.421 1536.98 152.226 1540.55 Q154.055 1544.09 157.666 1544.09 Q161.3 1544.09 163.106 1540.55 Q164.934 1536.98 164.934 1529.87 Q164.934 1522.75 163.106 1519.2 Q161.3 1515.64 157.666 1515.64 M157.666 1511.93 Q163.476 1511.93 166.532 1516.54 Q169.61 1521.12 169.61 1529.87 Q169.61 1538.6 166.532 1543.21 Q163.476 1547.79 157.666 1547.79 Q151.856 1547.79 148.777 1543.21 Q145.722 1538.6 145.722 1529.87 Q145.722 1521.12 148.777 1516.54 Q151.856 1511.93 157.666 1511.93 Z\\\" fill=\\\"#000000\\\" fill-rule=\\\"evenodd\\\" fill-opacity=\\\"1\\\" \\/><path clip-path=\\\"url(#clip800)\\\" d=\\\"M 0 0 M552.653 1543.18 L560.292 1543.18 L560.292 1516.82 L551.982 1518.49 L551.982 1514.23 L560.246 1512.56 L564.922 1512.56 L564.922 1543.18 L572.561 1543.18 L572.561 1547.12 L552.653 1547.12 L552.653 1543.18 Z\\\" fill=\\\"#000000\\\" fill-rule=\\\"evenodd\\\" fill-opacity=\\\"1\\\" \\/><path clip-path=\\\"url(#clip800)\\\" d=\\\"M 0 0 M587.63 1515.64 Q584.019 1515.64 582.19 1519.2 Q580.385 1522.75 580.385 1529.87 Q580.385 1536.98 582.19 1540.55 Q584.019 1544.09 587.63 1544.09 Q591.264 1544.09 593.07 1540.55 Q594.899 1536.98 594.899 1529.87 Q594.899 1522.75 593.07 1519.2 Q591.264 1515.64 587.63 1515.64 M587.63 1511.93 Q593.44 1511.93 596.496 1516.54 Q599.575 1521.12 599.575 1529.87 Q599.575 1538.6 596.496 1543.21 Q593.44 1547.79 587.63 1547.79 Q581.82 1547.79 578.741 1543.21 Q575.686 1538.6 575.686 1529.87 Q575.686 1521.12 578.741 1516.54 Q581.82 1511.93 587.63 1511.93 Z\\\" fill=\\\"#000000\\\" fill-rule=\\\"evenodd\\\" fill-opacity=\\\"1\\\" \\/><path clip-path=\\\"url(#clip800)\\\" d=\\\"M 0 0 M975.037 1543.18 L991.356 1543.18 L991.356 1547.12 L969.412 1547.12 L969.412 1543.18 Q972.074 1540.43 976.657 1535.8 Q981.263 1531.15 982.444 1529.81 Q984.689 1527.28 985.569 1525.55 Q986.472 1523.79 986.472 1522.1 Q986.472 1519.34 984.527 1517.61 Q982.606 1515.87 979.504 1515.87 Q977.305 1515.87 974.851 1516.63 Q972.421 1517.4 969.643 1518.95 L969.643 1514.23 Q972.467 1513.09 974.921 1512.51 Q977.375 1511.93 979.412 1511.93 Q984.782 1511.93 987.976 1514.62 Q991.171 1517.31 991.171 1521.8 Q991.171 1523.93 990.361 1525.85 Q989.574 1527.74 987.467 1530.34 Q986.888 1531.01 983.787 1534.23 Q980.685 1537.42 975.037 1543.18 Z\\\" fill=\\\"#000000\\\" fill-rule=\\\"evenodd\\\" fill-opacity=\\\"1\\\" \\/><path clip-path=\\\"url(#clip800)\\\" d=\\\"M 0 0 M1006.43 1515.64 Q1002.81 1515.64 1000.99 1519.2 Q999.18 1522.75 999.18 1529.87 Q999.18 1536.98 1000.99 1540.55 Q1002.81 1544.09 1006.43 1544.09 Q1010.06 1544.09 1011.87 1540.55 Q1013.69 1536.98 1013.69 1529.87 Q1013.69 1522.75 1011.87 1519.2 Q1010.06 1515.64 1006.43 1515.64 M1006.43 1511.93 Q1012.24 1511.93 1015.29 1516.54 Q1018.37 1521.12 1018.37 1529.87 Q1018.37 1538.6 1015.29 1543.21 Q1012.24 1547.79 1006.43 1547.79 Q1000.62 1547.79 997.537 1543.21 Q994.481 1538.6 994.481 1529.87 Q994.481 1521.12 997.537 1516.54 Q1000.62 1511.93 1006.43 1511.93 Z\\\" fill=\\\"#000000\\\" fill-rule=\\\"evenodd\\\" fill-opacity=\\\"1\\\" \\/><path clip-path=\\\"url(#clip800)\\\" d=\\\"M 0 0 M1402.74 1528.49 Q1406.1 1529.2 1407.98 1531.47 Q1409.87 1533.74 1409.87 1537.07 Q1409.87 1542.19 1406.35 1544.99 Q1402.84 1547.79 1396.36 1547.79 Q1394.18 1547.79 1391.86 1547.35 Q1389.57 1546.93 1387.12 1546.08 L1387.12 1541.56 Q1389.06 1542.7 1391.38 1543.28 Q1393.69 1543.86 1396.22 1543.86 Q1400.61 1543.86 1402.91 1542.12 Q1405.22 1540.38 1405.22 1537.07 Q1405.22 1534.02 1403.07 1532.31 Q1400.94 1530.57 1397.12 1530.57 L1393.09 1530.57 L1393.09 1526.73 L1397.3 1526.73 Q1400.75 1526.73 1402.58 1525.36 Q1404.41 1523.97 1404.41 1521.38 Q1404.41 1518.72 1402.51 1517.31 Q1400.64 1515.87 1397.12 1515.87 Q1395.2 1515.87 1393 1516.29 Q1390.8 1516.7 1388.16 1517.58 L1388.16 1513.42 Q1390.82 1512.68 1393.14 1512.31 Q1395.48 1511.93 1397.54 1511.93 Q1402.86 1511.93 1405.96 1514.37 Q1409.06 1516.77 1409.06 1520.89 Q1409.06 1523.76 1407.42 1525.75 Q1405.78 1527.72 1402.74 1528.49 Z\\\" fill=\\\"#000000\\\" fill-rule=\\\"evenodd\\\" fill-opacity=\\\"1\\\" \\/><path clip-path=\\\"url(#clip800)\\\" d=\\\"M 0 0 M1424.94 1515.64 Q1421.33 1515.64 1419.5 1519.2 Q1417.7 1522.75 1417.7 1529.87 Q1417.7 1536.98 1419.5 1540.55 Q1421.33 1544.09 1424.94 1544.09 Q1428.58 1544.09 1430.38 1540.55 Q1432.21 1536.98 1432.21 1529.87 Q1432.21 1522.75 1430.38 1519.2 Q1428.58 1515.64 1424.94 1515.64 M1424.94 1511.93 Q1430.75 1511.93 1433.81 1516.54 Q1436.89 1521.12 1436.89 1529.87 Q1436.89 1538.6 1433.81 1543.21 Q1430.75 1547.79 1424.94 1547.79 Q1419.13 1547.79 1416.05 1543.21 Q1413 1538.6 1413 1529.87 Q1413 1521.12 1416.05 1516.54 Q1419.13 1511.93 1424.94 1511.93 Z\\\" fill=\\\"#000000\\\" fill-rule=\\\"evenodd\\\" fill-opacity=\\\"1\\\" \\/><path clip-path=\\\"url(#clip800)\\\" d=\\\"M 0 0 M1819.62 1516.63 L1807.81 1535.08 L1819.62 1535.08 L1819.62 1516.63 M1818.39 1512.56 L1824.27 1512.56 L1824.27 1535.08 L1829.2 1535.08 L1829.2 1538.97 L1824.27 1538.97 L1824.27 1547.12 L1819.62 1547.12 L1819.62 1538.97 L1804.02 1538.97 L1804.02 1534.46 L1818.39 1512.56 Z\\\" fill=\\\"#000000\\\" fill-rule=\\\"evenodd\\\" fill-opacity=\\\"1\\\" \\/><path clip-path=\\\"url(#clip800)\\\" d=\\\"M 0 0 M1844.27 1515.64 Q1840.66 1515.64 1838.83 1519.2 Q1837.03 1522.75 1837.03 1529.87 Q1837.03 1536.98 1838.83 1540.55 Q1840.66 1544.09 1844.27 1544.09 Q1847.9 1544.09 1849.71 1540.55 Q1851.54 1536.98 1851.54 1529.87 Q1851.54 1522.75 1849.71 1519.2 Q1847.9 1515.64 1844.27 1515.64 M1844.27 1511.93 Q1850.08 1511.93 1853.14 1516.54 Q1856.21 1521.12 1856.21 1529.87 Q1856.21 1538.6 1853.14 1543.21 Q1850.08 1547.79 1844.27 1547.79 Q1838.46 1547.79 1835.38 1543.21 Q1832.33 1538.6 1832.33 1529.87 Q1832.33 1521.12 1835.38 1516.54 Q1838.46 1511.93 1844.27 1511.93 Z\\\" fill=\\\"#000000\\\" fill-rule=\\\"evenodd\\\" fill-opacity=\\\"1\\\" \\/><path clip-path=\\\"url(#clip800)\\\" d=\\\"M 0 0 M2225 1512.56 L2243.36 1512.56 L2243.36 1516.5 L2229.28 1516.5 L2229.28 1524.97 Q2230.3 1524.62 2231.32 1524.46 Q2232.34 1524.27 2233.36 1524.27 Q2239.14 1524.27 2242.52 1527.44 Q2245.9 1530.62 2245.9 1536.03 Q2245.9 1541.61 2242.43 1544.71 Q2238.96 1547.79 2232.64 1547.79 Q2230.46 1547.79 2228.19 1547.42 Q2225.95 1547.05 2223.54 1546.31 L2223.54 1541.61 Q2225.62 1542.74 2227.85 1543.3 Q2230.07 1543.86 2232.55 1543.86 Q2236.55 1543.86 2238.89 1541.75 Q2241.23 1539.64 2241.23 1536.03 Q2241.23 1532.42 2238.89 1530.31 Q2236.55 1528.21 2232.55 1528.21 Q2230.67 1528.21 2228.8 1528.62 Q2226.94 1529.04 2225 1529.92 L2225 1512.56 Z\\\" fill=\\\"#000000\\\" fill-rule=\\\"evenodd\\\" fill-opacity=\\\"1\\\" \\/><path clip-path=\\\"url(#clip800)\\\" d=\\\"M 0 0 M2260.97 1515.64 Q2257.36 1515.64 2255.53 1519.2 Q2253.73 1522.75 2253.73 1529.87 Q2253.73 1536.98 2255.53 1540.55 Q2257.36 1544.09 2260.97 1544.09 Q2264.61 1544.09 2266.41 1540.55 Q2268.24 1536.98 2268.24 1529.87 Q2268.24 1522.75 2266.41 1519.2 Q2264.61 1515.64 2260.97 1515.64 M2260.97 1511.93 Q2266.78 1511.93 2269.84 1516.54 Q2272.92 1521.12 2272.92 1529.87 Q2272.92 1538.6 2269.84 1543.21 Q2266.78 1547.79 2260.97 1547.79 Q2255.16 1547.79 2252.08 1543.21 Q2249.03 1538.6 2249.03 1529.87 Q2249.03 1521.12 2252.08 1516.54 Q2255.16 1511.93 2260.97 1511.93 Z\\\" fill=\\\"#000000\\\" fill-rule=\\\"evenodd\\\" fill-opacity=\\\"1\\\" \\/><polyline clip-path=\\\"url(#clip802)\\\" style=\\\"stroke:#000000; stroke-width:2; stroke-opacity:0.1; fill:none\\\" points=\\\"\\n  136.76,1309.94 2352.76,1309.94 \\n  \\\"\\/>\\n<polyline clip-path=\\\"url(#clip802)\\\" style=\\\"stroke:#000000; stroke-width:2; stroke-opacity:0.1; fill:none\\\" points=\\\"\\n  136.76,1038.39 2352.76,1038.39 \\n  \\\"\\/>\\n<polyline clip-path=\\\"url(#clip802)\\\" style=\\\"stroke:#000000; stroke-width:2; stroke-opacity:0.1; fill:none\\\" points=\\\"\\n  136.76,766.846 2352.76,766.846 \\n  \\\"\\/>\\n<polyline clip-path=\\\"url(#clip802)\\\" style=\\\"stroke:#000000; stroke-width:2; stroke-opacity:0.1; fill:none\\\" points=\\\"\\n  136.76,495.298 2352.76,495.298 \\n  \\\"\\/>\\n<polyline clip-path=\\\"url(#clip802)\\\" style=\\\"stroke:#000000; stroke-width:2; stroke-opacity:0.1; fill:none\\\" points=\\\"\\n  136.76,223.75 2352.76,223.75 \\n  \\\"\\/>\\n<polyline clip-path=\\\"url(#clip800)\\\" style=\\\"stroke:#000000; stroke-width:4; stroke-opacity:1; fill:none\\\" points=\\\"\\n  136.76,1486.45 136.76,47.2441 \\n  \\\"\\/>\\n<polyline clip-path=\\\"url(#clip800)\\\" style=\\\"stroke:#000000; stroke-width:4; stroke-opacity:1; fill:none\\\" points=\\\"\\n  136.76,1309.94 163.352,1309.94 \\n  \\\"\\/>\\n<polyline clip-path=\\\"url(#clip800)\\\" style=\\\"stroke:#000000; stroke-width:4; stroke-opacity:1; fill:none\\\" points=\\\"\\n  136.76,1038.39 163.352,1038.39 \\n  \\\"\\/>\\n<polyline clip-path=\\\"url(#clip800)\\\" style=\\\"stroke:#000000; stroke-width:4; stroke-opacity:1; fill:none\\\" points=\\\"\\n  136.76,766.846 163.352,766.846 \\n  \\\"\\/>\\n<polyline clip-path=\\\"url(#clip800)\\\" style=\\\"stroke:#000000; stroke-width:4; stroke-opacity:1; fill:none\\\" points=\\\"\\n  136.76,495.298 163.352,495.298 \\n  \\\"\\/>\\n<polyline clip-path=\\\"url(#clip800)\\\" style=\\\"stroke:#000000; stroke-width:4; stroke-opacity:1; fill:none\\\" points=\\\"\\n  136.76,223.75 163.352,223.75 \\n  \\\"\\/>\\n<path clip-path=\\\"url(#clip800)\\\" d=\\\"M 0 0 M59.0245 1323.29 L75.3438 1323.29 L75.3438 1327.22 L53.3995 1327.22 L53.3995 1323.29 Q56.0615 1320.53 60.6449 1315.9 Q65.2513 1311.25 66.4319 1309.91 Q68.6772 1307.38 69.5568 1305.65 Q70.4596 1303.89 70.4596 1302.2 Q70.4596 1299.44 68.5152 1297.71 Q66.5939 1295.97 63.4921 1295.97 Q61.293 1295.97 58.8393 1296.74 Q56.4088 1297.5 53.631 1299.05 L53.631 1294.33 Q56.4551 1293.19 58.9088 1292.62 Q61.3624 1292.04 63.3995 1292.04 Q68.7698 1292.04 71.9642 1294.72 Q75.1587 1297.41 75.1587 1301.9 Q75.1587 1304.03 74.3485 1305.95 Q73.5614 1307.85 71.455 1310.44 Q70.8763 1311.11 67.7744 1314.33 Q64.6726 1317.52 59.0245 1323.29 Z\\\" fill=\\\"#000000\\\" fill-rule=\\\"evenodd\\\" fill-opacity=\\\"1\\\" \\/><path clip-path=\\\"url(#clip800)\\\" d=\\\"M 0 0 M84.441 1323.29 L100.76 1323.29 L100.76 1327.22 L78.8161 1327.22 L78.8161 1323.29 Q81.4781 1320.53 86.0614 1315.9 Q90.6678 1311.25 91.8484 1309.91 Q94.0937 1307.38 94.9734 1305.65 Q95.8761 1303.89 95.8761 1302.2 Q95.8761 1299.44 93.9317 1297.71 Q92.0104 1295.97 88.9086 1295.97 Q86.7095 1295.97 84.2558 1296.74 Q81.8253 1297.5 79.0475 1299.05 L79.0475 1294.33 Q81.8716 1293.19 84.3253 1292.62 Q86.779 1292.04 88.816 1292.04 Q94.1863 1292.04 97.3808 1294.72 Q100.575 1297.41 100.575 1301.9 Q100.575 1304.03 99.765 1305.95 Q98.978 1307.85 96.8715 1310.44 Q96.2928 1311.11 93.191 1314.33 Q90.0891 1317.52 84.441 1323.29 Z\\\" fill=\\\"#000000\\\" fill-rule=\\\"evenodd\\\" fill-opacity=\\\"1\\\" \\/><path clip-path=\\\"url(#clip800)\\\" d=\\\"M 0 0 M56.9412 1051.74 L73.2605 1051.74 L73.2605 1055.67 L51.3162 1055.67 L51.3162 1051.74 Q53.9782 1048.98 58.5615 1044.35 Q63.168 1039.7 64.3485 1038.36 Q66.5939 1035.84 67.4735 1034.1 Q68.3763 1032.34 68.3763 1030.65 Q68.3763 1027.9 66.4319 1026.16 Q64.5106 1024.42 61.4087 1024.42 Q59.2097 1024.42 56.756 1025.19 Q54.3254 1025.95 51.5477 1027.5 L51.5477 1022.78 Q54.3717 1021.65 56.8254 1021.07 Q59.2791 1020.49 61.3161 1020.49 Q66.6865 1020.49 69.8809 1023.17 Q73.0753 1025.86 73.0753 1030.35 Q73.0753 1032.48 72.2652 1034.4 Q71.4781 1036.3 69.3717 1038.89 Q68.793 1039.56 65.6911 1042.78 Q62.5893 1045.97 56.9412 1051.74 Z\\\" fill=\\\"#000000\\\" fill-rule=\\\"evenodd\\\" fill-opacity=\\\"1\\\" \\/><path clip-path=\\\"url(#clip800)\\\" d=\\\"M 0 0 M91.1771 1025.19 L79.3716 1043.64 L91.1771 1043.64 L91.1771 1025.19 M89.9503 1021.11 L95.8298 1021.11 L95.8298 1043.64 L100.76 1043.64 L100.76 1047.53 L95.8298 1047.53 L95.8298 1055.67 L91.1771 1055.67 L91.1771 1047.53 L75.5753 1047.53 L75.5753 1043.01 L89.9503 1021.11 Z\\\" fill=\\\"#000000\\\" fill-rule=\\\"evenodd\\\" fill-opacity=\\\"1\\\" \\/><path clip-path=\\\"url(#clip800)\\\" d=\\\"M 0 0 M57.2652 780.191 L73.5846 780.191 L73.5846 784.126 L51.6403 784.126 L51.6403 780.191 Q54.3023 777.436 58.8856 772.807 Q63.4921 768.154 64.6726 766.811 Q66.918 764.288 67.7976 762.552 Q68.7004 760.793 68.7004 759.103 Q68.7004 756.348 66.7559 754.612 Q64.8346 752.876 61.7328 752.876 Q59.5337 752.876 57.0801 753.64 Q54.6495 754.404 51.8718 755.955 L51.8718 751.233 Q54.6958 750.098 57.1495 749.52 Q59.6032 748.941 61.6402 748.941 Q67.0106 748.941 70.205 751.626 Q73.3994 754.311 73.3994 758.802 Q73.3994 760.932 72.5892 762.853 Q71.8022 764.751 69.6957 767.344 Q69.117 768.015 66.0152 771.233 Q62.9134 774.427 57.2652 780.191 Z\\\" fill=\\\"#000000\\\" fill-rule=\\\"evenodd\\\" fill-opacity=\\\"1\\\" \\/><path clip-path=\\\"url(#clip800)\\\" d=\\\"M 0 0 M89.2327 764.983 Q86.0845 764.983 84.2327 767.135 Q82.404 769.288 82.404 773.038 Q82.404 776.765 84.2327 778.941 Q86.0845 781.094 89.2327 781.094 Q92.3808 781.094 94.2095 778.941 Q96.0613 776.765 96.0613 773.038 Q96.0613 769.288 94.2095 767.135 Q92.3808 764.983 89.2327 764.983 M98.515 750.33 L98.515 754.589 Q96.7558 753.756 94.9502 753.316 Q93.1678 752.876 91.4086 752.876 Q86.779 752.876 84.3253 756.001 Q81.8947 759.126 81.5475 765.446 Q82.9133 763.432 84.9734 762.367 Q87.0336 761.279 89.5104 761.279 Q94.7187 761.279 97.728 764.45 Q100.76 767.598 100.76 773.038 Q100.76 778.362 97.6122 781.58 Q94.4641 784.797 89.2327 784.797 Q83.2373 784.797 80.066 780.214 Q76.8948 775.608 76.8948 766.881 Q76.8948 758.686 80.7836 753.825 Q84.6725 748.941 91.2234 748.941 Q92.9826 748.941 94.765 749.288 Q96.5706 749.635 98.515 750.33 Z\\\" fill=\\\"#000000\\\" fill-rule=\\\"evenodd\\\" fill-opacity=\\\"1\\\" \\/><path clip-path=\\\"url(#clip800)\\\" d=\\\"M 0 0 M57.5199 508.643 L73.8392 508.643 L73.8392 512.578 L51.8949 512.578 L51.8949 508.643 Q54.5569 505.888 59.1402 501.259 Q63.7467 496.606 64.9272 495.263 Q67.1726 492.74 68.0522 491.004 Q68.955 489.245 68.955 487.555 Q68.955 484.8 67.0106 483.064 Q65.0893 481.328 61.9874 481.328 Q59.7884 481.328 57.3347 482.092 Q54.9041 482.856 52.1264 484.407 L52.1264 479.685 Q54.9504 478.551 57.4041 477.972 Q59.8578 477.393 61.8948 477.393 Q67.2652 477.393 70.4596 480.078 Q73.654 482.763 73.654 487.254 Q73.654 489.384 72.8439 491.305 Q72.0568 493.203 69.9504 495.796 Q69.3717 496.467 66.2698 499.685 Q63.168 502.879 57.5199 508.643 Z\\\" fill=\\\"#000000\\\" fill-rule=\\\"evenodd\\\" fill-opacity=\\\"1\\\" \\/><path clip-path=\\\"url(#clip800)\\\" d=\\\"M 0 0 M88.9086 496.166 Q85.5753 496.166 83.654 497.949 Q81.7559 499.731 81.7559 502.856 Q81.7559 505.981 83.654 507.763 Q85.5753 509.546 88.9086 509.546 Q92.2419 509.546 94.1632 507.763 Q96.0845 505.958 96.0845 502.856 Q96.0845 499.731 94.1632 497.949 Q92.2651 496.166 88.9086 496.166 M84.2327 494.175 Q81.2234 493.435 79.5336 491.375 Q77.867 489.314 77.867 486.351 Q77.867 482.208 80.8068 479.8 Q83.7697 477.393 88.9086 477.393 Q94.0706 477.393 97.0104 479.8 Q99.9502 482.208 99.9502 486.351 Q99.9502 489.314 98.2604 491.375 Q96.5937 493.435 93.6076 494.175 Q96.9872 494.962 98.8622 497.254 Q100.76 499.546 100.76 502.856 Q100.76 507.879 97.6817 510.564 Q94.6262 513.249 88.9086 513.249 Q83.191 513.249 80.1123 510.564 Q77.0568 507.879 77.0568 502.856 Q77.0568 499.546 78.9549 497.254 Q80.8531 494.962 84.2327 494.175 M82.5197 486.791 Q82.5197 489.476 84.1864 490.981 Q85.8762 492.486 88.9086 492.486 Q91.9178 492.486 93.6076 490.981 Q95.3206 489.476 95.3206 486.791 Q95.3206 484.106 93.6076 482.601 Q91.9178 481.097 88.9086 481.097 Q85.8762 481.097 84.1864 482.601 Q82.5197 484.106 82.5197 486.791 Z\\\" fill=\\\"#000000\\\" fill-rule=\\\"evenodd\\\" fill-opacity=\\\"1\\\" \\/><path clip-path=\\\"url(#clip800)\\\" d=\\\"M 0 0 M66.617 222.396 Q69.9735 223.114 71.8485 225.382 Q73.7466 227.651 73.7466 230.984 Q73.7466 236.1 70.2281 238.901 Q66.7096 241.702 60.2282 241.702 Q58.0523 241.702 55.7375 241.262 Q53.4458 240.845 50.9921 239.989 L50.9921 235.475 Q52.9366 236.609 55.2514 237.188 Q57.5662 237.766 60.0893 237.766 Q64.4874 237.766 66.7791 236.03 Q69.0939 234.294 69.0939 230.984 Q69.0939 227.928 66.9411 226.215 Q64.8115 224.479 60.9921 224.479 L56.9643 224.479 L56.9643 220.637 L61.1773 220.637 Q64.6263 220.637 66.455 219.271 Q68.2837 217.882 68.2837 215.29 Q68.2837 212.628 66.3856 211.216 Q64.5106 209.78 60.9921 209.78 Q59.0708 209.78 56.8717 210.197 Q54.6727 210.614 52.0338 211.493 L52.0338 207.327 Q54.6958 206.586 57.0106 206.216 Q59.3486 205.845 61.4087 205.845 Q66.7328 205.845 69.8346 208.276 Q72.9365 210.683 72.9365 214.804 Q72.9365 217.674 71.2929 219.665 Q69.6494 221.632 66.617 222.396 Z\\\" fill=\\\"#000000\\\" fill-rule=\\\"evenodd\\\" fill-opacity=\\\"1\\\" \\/><path clip-path=\\\"url(#clip800)\\\" d=\\\"M 0 0 M88.816 209.549 Q85.2049 209.549 83.3762 213.114 Q81.5707 216.655 81.5707 223.785 Q81.5707 230.891 83.3762 234.456 Q85.2049 237.998 88.816 237.998 Q92.4502 237.998 94.2558 234.456 Q96.0845 230.891 96.0845 223.785 Q96.0845 216.655 94.2558 213.114 Q92.4502 209.549 88.816 209.549 M88.816 205.845 Q94.6262 205.845 97.6817 210.452 Q100.76 215.035 100.76 223.785 Q100.76 232.512 97.6817 237.118 Q94.6262 241.702 88.816 241.702 Q83.0058 241.702 79.9272 237.118 Q76.8716 232.512 76.8716 223.785 Q76.8716 215.035 79.9272 210.452 Q83.0058 205.845 88.816 205.845 Z\\\" fill=\\\"#000000\\\" fill-rule=\\\"evenodd\\\" fill-opacity=\\\"1\\\" \\/><polyline clip-path=\\\"url(#clip802)\\\" style=\\\"stroke:#800080; stroke-width:4; stroke-opacity:1; fill:none\\\" points=\\\"\\n  199.477,766.846 241.288,766.846 283.1,766.846 324.911,902.62 366.722,902.62 408.533,902.62 450.345,631.072 492.156,766.846 533.967,766.846 575.778,766.846 \\n  617.59,766.846 659.401,766.846 701.212,766.846 743.023,766.846 784.835,766.846 826.646,766.846 868.457,902.62 910.268,902.62 952.079,902.62 993.891,902.62 \\n  1035.7,631.072 1077.51,359.524 1119.32,495.298 1161.14,631.072 1202.95,631.072 1244.76,631.072 1286.57,631.072 1328.38,766.846 1370.19,902.62 1412,1038.39 \\n  1453.81,1309.94 1495.63,1309.94 1537.44,1309.94 1579.25,1309.94 1621.06,1445.72 1662.87,1445.72 1704.68,1445.72 1746.49,1445.72 1788.3,1445.72 1830.12,1174.17 \\n  1871.93,1174.17 1913.74,1174.17 1955.55,1309.94 1997.36,1309.94 2039.17,1309.94 2080.98,1309.94 2122.79,1309.94 2164.61,1445.72 2206.42,1445.72 2248.23,1445.72 \\n  2290.04,1445.72 \\n  \\\"\\/>\\n<polyline clip-path=\\\"url(#clip802)\\\" style=\\\"stroke:#008000; stroke-width:4; stroke-opacity:1; fill:none\\\" points=\\\"\\n  199.477,87.9763 241.288,87.9763 283.1,223.75 324.911,359.524 366.722,359.524 408.533,631.072 450.345,631.072 492.156,495.298 533.967,495.298 575.778,631.072 \\n  617.59,631.072 659.401,631.072 701.212,359.524 743.023,359.524 784.835,359.524 826.646,631.072 868.457,495.298 910.268,766.846 952.079,766.846 993.891,631.072 \\n  1035.7,631.072 1077.51,631.072 1119.32,495.298 1161.14,766.846 1202.95,1038.39 1244.76,1038.39 1286.57,1309.94 1328.38,1174.17 1370.19,1038.39 1412,902.62 \\n  1453.81,902.62 1495.63,766.846 1537.44,631.072 1579.25,631.072 1621.06,495.298 1662.87,766.846 1704.68,766.846 1746.49,766.846 1788.3,766.846 1830.12,766.846 \\n  1871.93,1038.39 1913.74,1309.94 1955.55,1174.17 1997.36,1038.39 2039.17,1038.39 2080.98,902.62 2122.79,1038.39 2164.61,1038.39 2206.42,1038.39 2248.23,1038.39 \\n  2290.04,1038.39 \\n  \\\"\\/>\\n<path clip-path=\\\"url(#clip800)\\\" d=\\\"\\nM1826.65 276.658 L2278.89 276.658 L2278.89 95.2176 L1826.65 95.2176  Z\\n  \\\" fill=\\\"#ffffff\\\" fill-rule=\\\"evenodd\\\" fill-opacity=\\\"1\\\"\\/>\\n<polyline clip-path=\\\"url(#clip800)\\\" style=\\\"stroke:#000000; stroke-width:4; stroke-opacity:1; fill:none\\\" points=\\\"\\n  1826.65,276.658 2278.89,276.658 2278.89,95.2176 1826.65,95.2176 1826.65,276.658 \\n  \\\"\\/>\\n<polyline clip-path=\\\"url(#clip800)\\\" style=\\\"stroke:#800080; stroke-width:4; stroke-opacity:1; fill:none\\\" points=\\\"\\n  1851.27,155.698 1999.01,155.698 \\n  \\\"\\/>\\n<path clip-path=\\\"url(#clip800)\\\" d=\\\"M 0 0 M2042.54 159.714 Q2042.54 155.084 2040.62 152.538 Q2038.72 149.992 2035.27 149.992 Q2031.85 149.992 2029.92 152.538 Q2028.03 155.084 2028.03 159.714 Q2028.03 164.32 2029.92 166.866 Q2031.85 169.413 2035.27 169.413 Q2038.72 169.413 2040.62 166.866 Q2042.54 164.32 2042.54 159.714 M2046.8 169.76 Q2046.8 176.38 2043.86 179.598 Q2040.92 182.839 2034.85 182.839 Q2032.61 182.839 2030.62 182.491 Q2028.63 182.167 2026.75 181.473 L2026.75 177.329 Q2028.63 178.348 2030.46 178.834 Q2032.28 179.32 2034.18 179.32 Q2038.37 179.32 2040.46 177.121 Q2042.54 174.945 2042.54 170.524 L2042.54 168.417 Q2041.22 170.709 2039.16 171.843 Q2037.1 172.978 2034.23 172.978 Q2029.46 172.978 2026.54 169.343 Q2023.63 165.709 2023.63 159.714 Q2023.63 153.695 2026.54 150.061 Q2029.46 146.427 2034.23 146.427 Q2037.1 146.427 2039.16 147.561 Q2041.22 148.695 2042.54 150.987 L2042.54 147.052 L2046.8 147.052 L2046.8 169.76 Z\\\" fill=\\\"#000000\\\" fill-rule=\\\"evenodd\\\" fill-opacity=\\\"1\\\" \\/><path clip-path=\\\"url(#clip800)\\\" d=\\\"M 0 0 M2061.31 150.038 Q2057.89 150.038 2055.9 152.723 Q2053.91 155.385 2053.91 160.038 Q2053.91 164.691 2055.87 167.376 Q2057.86 170.038 2061.31 170.038 Q2064.72 170.038 2066.71 167.353 Q2068.7 164.667 2068.7 160.038 Q2068.7 155.431 2066.71 152.746 Q2064.72 150.038 2061.31 150.038 M2061.31 146.427 Q2066.87 146.427 2070.04 150.038 Q2073.21 153.649 2073.21 160.038 Q2073.21 166.404 2070.04 170.038 Q2066.87 173.649 2061.31 173.649 Q2055.73 173.649 2052.56 170.038 Q2049.41 166.404 2049.41 160.038 Q2049.41 153.649 2052.56 150.038 Q2055.73 146.427 2061.31 146.427 Z\\\" fill=\\\"#000000\\\" fill-rule=\\\"evenodd\\\" fill-opacity=\\\"1\\\" \\/><path clip-path=\\\"url(#clip800)\\\" d=\\\"M 0 0 M2077.82 136.959 L2082.08 136.959 L2082.08 150.894 L2084.97 148.811 L2086.73 151.265 L2082.08 154.529 L2082.08 172.978 L2077.82 172.978 L2077.82 157.561 L2074.97 159.598 L2073.26 157.144 L2077.82 153.88 L2077.82 136.959 Z\\\" fill=\\\"#000000\\\" fill-rule=\\\"evenodd\\\" fill-opacity=\\\"1\\\" \\/><path clip-path=\\\"url(#clip800)\\\" d=\\\"M 0 0 M2113.37 158.95 L2113.37 161.033 L2093.79 161.033 Q2094.07 165.431 2096.43 167.746 Q2098.81 170.038 2103.05 170.038 Q2105.5 170.038 2107.79 169.436 Q2110.11 168.834 2112.38 167.63 L2112.38 171.658 Q2110.09 172.63 2107.68 173.14 Q2105.27 173.649 2102.79 173.649 Q2096.59 173.649 2092.96 170.038 Q2089.34 166.427 2089.34 160.269 Q2089.34 153.904 2092.77 150.177 Q2096.22 146.427 2102.05 146.427 Q2107.28 146.427 2110.32 149.806 Q2113.37 153.163 2113.37 158.95 M2109.11 157.7 Q2109.07 154.205 2107.15 152.121 Q2105.25 150.038 2102.1 150.038 Q2098.53 150.038 2096.38 152.052 Q2094.25 154.066 2093.93 157.723 L2109.11 157.7 M2105.62 172.978 L2108.37 172.978 Q2107.33 174.39 2106.82 175.408 Q2106.34 176.427 2106.34 177.144 Q2106.34 178.209 2106.96 178.741 Q2107.61 179.274 2108.86 179.274 Q2109.6 179.274 2110.32 179.089 Q2111.03 178.927 2111.75 178.579 L2111.75 181.658 Q2110.87 181.89 2110.09 182.005 Q2109.3 182.121 2108.6 182.121 Q2105.78 182.121 2104.44 181.103 Q2103.12 180.107 2103.12 177.954 Q2103.12 176.843 2103.72 175.616 Q2104.34 174.413 2105.62 172.978 Z\\\" fill=\\\"#000000\\\" fill-rule=\\\"evenodd\\\" fill-opacity=\\\"1\\\" \\/><path clip-path=\\\"url(#clip800)\\\" d=\\\"M 0 0 M2136.45 160.038 Q2136.45 155.339 2134.51 152.677 Q2132.59 149.992 2129.21 149.992 Q2125.83 149.992 2123.88 152.677 Q2121.96 155.339 2121.96 160.038 Q2121.96 164.737 2123.88 167.422 Q2125.83 170.084 2129.21 170.084 Q2132.59 170.084 2134.51 167.422 Q2136.45 164.737 2136.45 160.038 M2121.96 150.987 Q2123.3 148.672 2125.34 147.561 Q2127.4 146.427 2130.25 146.427 Q2134.97 146.427 2137.91 150.177 Q2140.87 153.927 2140.87 160.038 Q2140.87 166.149 2137.91 169.899 Q2134.97 173.649 2130.25 173.649 Q2127.4 173.649 2125.34 172.538 Q2123.3 171.403 2121.96 169.089 L2121.96 172.978 L2117.68 172.978 L2117.68 136.959 L2121.96 136.959 L2121.96 150.987 Z\\\" fill=\\\"#000000\\\" fill-rule=\\\"evenodd\\\" fill-opacity=\\\"1\\\" \\/><path clip-path=\\\"url(#clip800)\\\" d=\\\"M 0 0 M2145.34 147.052 L2149.6 147.052 L2149.6 172.978 L2145.34 172.978 L2145.34 147.052 M2145.34 136.959 L2149.6 136.959 L2149.6 142.353 L2145.34 142.353 L2145.34 136.959 Z\\\" fill=\\\"#000000\\\" fill-rule=\\\"evenodd\\\" fill-opacity=\\\"1\\\" \\/><path clip-path=\\\"url(#clip800)\\\" d=\\\"M 0 0 M2176.24 158.95 L2176.24 161.033 L2156.66 161.033 Q2156.94 165.431 2159.3 167.746 Q2161.68 170.038 2165.92 170.038 Q2168.37 170.038 2170.66 169.436 Q2172.98 168.834 2175.25 167.63 L2175.25 171.658 Q2172.96 172.63 2170.55 173.14 Q2168.14 173.649 2165.66 173.649 Q2159.46 173.649 2155.83 170.038 Q2152.21 166.427 2152.21 160.269 Q2152.21 153.904 2155.64 150.177 Q2159.09 146.427 2164.92 146.427 Q2170.15 146.427 2173.19 149.806 Q2176.24 153.163 2176.24 158.95 M2171.98 157.7 Q2171.94 154.205 2170.02 152.121 Q2168.12 150.038 2164.97 150.038 Q2161.4 150.038 2159.25 152.052 Q2157.12 154.066 2156.8 157.723 L2171.98 157.7 Z\\\" fill=\\\"#000000\\\" fill-rule=\\\"evenodd\\\" fill-opacity=\\\"1\\\" \\/><polyline clip-path=\\\"url(#clip800)\\\" style=\\\"stroke:#008000; stroke-width:4; stroke-opacity:1; fill:none\\\" points=\\\"\\n  1851.27,216.178 1999.01,216.178 \\n  \\\"\\/>\\n<path clip-path=\\\"url(#clip800)\\\" d=\\\"M 0 0 M2028.95 207.532 L2033.21 207.532 L2033.21 233.921 Q2033.21 238.874 2031.31 241.096 Q2029.44 243.319 2025.25 243.319 L2023.63 243.319 L2023.63 239.708 L2024.76 239.708 Q2027.19 239.708 2028.07 238.573 Q2028.95 237.462 2028.95 233.921 L2028.95 207.532 M2028.95 197.439 L2033.21 197.439 L2033.21 202.833 L2028.95 202.833 L2028.95 197.439 Z\\\" fill=\\\"#000000\\\" fill-rule=\\\"evenodd\\\" fill-opacity=\\\"1\\\" \\/><path clip-path=\\\"url(#clip800)\\\" d=\\\"M 0 0 M2049.46 220.425 Q2044.3 220.425 2042.31 221.606 Q2040.32 222.786 2040.32 225.634 Q2040.32 227.902 2041.8 229.245 Q2043.3 230.564 2045.87 230.564 Q2049.41 230.564 2051.54 228.064 Q2053.7 225.541 2053.7 221.374 L2053.7 220.425 L2049.46 220.425 M2057.96 218.666 L2057.96 233.458 L2053.7 233.458 L2053.7 229.522 Q2052.24 231.883 2050.06 233.018 Q2047.89 234.129 2044.74 234.129 Q2040.76 234.129 2038.4 231.907 Q2036.06 229.661 2036.06 225.911 Q2036.06 221.536 2038.97 219.314 Q2041.91 217.092 2047.72 217.092 L2053.7 217.092 L2053.7 216.675 Q2053.7 213.735 2051.75 212.138 Q2049.83 210.518 2046.34 210.518 Q2044.11 210.518 2042.01 211.05 Q2039.9 211.583 2037.96 212.647 L2037.96 208.712 Q2040.29 207.81 2042.49 207.37 Q2044.69 206.907 2046.78 206.907 Q2052.4 206.907 2055.18 209.823 Q2057.96 212.74 2057.96 218.666 Z\\\" fill=\\\"#000000\\\" fill-rule=\\\"evenodd\\\" fill-opacity=\\\"1\\\" \\/><path clip-path=\\\"url(#clip800)\\\" d=\\\"M 0 0 M2078.95 208.296 L2078.95 212.323 Q2077.15 211.397 2075.2 210.935 Q2073.26 210.472 2071.17 210.472 Q2068 210.472 2066.41 211.444 Q2064.83 212.416 2064.83 214.36 Q2064.83 215.842 2065.97 216.698 Q2067.1 217.532 2070.53 218.296 L2071.98 218.62 Q2076.52 219.592 2078.42 221.374 Q2080.34 223.134 2080.34 226.305 Q2080.34 229.916 2077.47 232.022 Q2074.62 234.129 2069.62 234.129 Q2067.54 234.129 2065.27 233.712 Q2063.03 233.319 2060.53 232.508 L2060.53 228.11 Q2062.89 229.337 2065.18 229.962 Q2067.47 230.564 2069.72 230.564 Q2072.72 230.564 2074.34 229.546 Q2075.97 228.504 2075.97 226.629 Q2075.97 224.893 2074.78 223.967 Q2073.63 223.041 2069.67 222.184 L2068.19 221.837 Q2064.23 221.004 2062.47 219.291 Q2060.71 217.555 2060.71 214.546 Q2060.71 210.888 2063.3 208.898 Q2065.9 206.907 2070.66 206.907 Q2073.03 206.907 2075.11 207.254 Q2077.19 207.601 2078.95 208.296 Z\\\" fill=\\\"#000000\\\" fill-rule=\\\"evenodd\\\" fill-opacity=\\\"1\\\" \\/><path clip-path=\\\"url(#clip800)\\\" d=\\\"M 0 0 M2089.02 200.171 L2089.02 207.532 L2097.79 207.532 L2097.79 210.842 L2089.02 210.842 L2089.02 224.916 Q2089.02 228.087 2089.88 228.99 Q2090.76 229.893 2093.42 229.893 L2097.79 229.893 L2097.79 233.458 L2093.42 233.458 Q2088.49 233.458 2086.61 231.629 Q2084.74 229.777 2084.74 224.916 L2084.74 210.842 L2081.61 210.842 L2081.61 207.532 L2084.74 207.532 L2084.74 200.171 L2089.02 200.171 Z\\\" fill=\\\"#000000\\\" fill-rule=\\\"evenodd\\\" fill-opacity=\\\"1\\\" \\/><path clip-path=\\\"url(#clip800)\\\" d=\\\"M 0 0 M2117.28 211.513 Q2116.57 211.097 2115.71 210.911 Q2114.88 210.703 2113.86 210.703 Q2110.25 210.703 2108.3 213.064 Q2106.38 215.402 2106.38 219.8 L2106.38 233.458 L2102.1 233.458 L2102.1 207.532 L2106.38 207.532 L2106.38 211.56 Q2107.72 209.198 2109.88 208.064 Q2112.03 206.907 2115.11 206.907 Q2115.55 206.907 2116.08 206.976 Q2116.61 207.023 2117.26 207.138 L2117.28 211.513 Z\\\" fill=\\\"#000000\\\" fill-rule=\\\"evenodd\\\" fill-opacity=\\\"1\\\" \\/><path clip-path=\\\"url(#clip800)\\\" d=\\\"M 0 0 M2119.9 207.532 L2140.13 207.532 L2140.13 211.421 L2124.11 230.055 L2140.13 230.055 L2140.13 233.458 L2119.32 233.458 L2119.32 229.569 L2135.34 210.935 L2119.9 210.935 L2119.9 207.532 Z\\\" fill=\\\"#000000\\\" fill-rule=\\\"evenodd\\\" fill-opacity=\\\"1\\\" \\/><path clip-path=\\\"url(#clip800)\\\" d=\\\"M 0 0 M2166.78 219.43 L2166.78 221.513 L2147.19 221.513 Q2147.47 225.911 2149.83 228.226 Q2152.21 230.518 2156.45 230.518 Q2158.9 230.518 2161.2 229.916 Q2163.51 229.314 2165.78 228.11 L2165.78 232.138 Q2163.49 233.11 2161.08 233.62 Q2158.67 234.129 2156.2 234.129 Q2149.99 234.129 2146.36 230.518 Q2142.75 226.907 2142.75 220.749 Q2142.75 214.384 2146.17 210.657 Q2149.62 206.907 2155.46 206.907 Q2160.69 206.907 2163.72 210.286 Q2166.78 213.643 2166.78 219.43 M2162.52 218.18 Q2162.47 214.685 2160.55 212.601 Q2158.65 210.518 2155.5 210.518 Q2151.94 210.518 2149.78 212.532 Q2147.65 214.546 2147.33 218.203 L2162.52 218.18 M2159.02 233.458 L2161.78 233.458 Q2160.73 234.87 2160.22 235.888 Q2159.74 236.907 2159.74 237.624 Q2159.74 238.689 2160.36 239.221 Q2161.01 239.754 2162.26 239.754 Q2163 239.754 2163.72 239.569 Q2164.44 239.407 2165.15 239.059 L2165.15 242.138 Q2164.28 242.37 2163.49 242.485 Q2162.7 242.601 2162.01 242.601 Q2159.18 242.601 2157.84 241.583 Q2156.52 240.587 2156.52 238.434 Q2156.52 237.323 2157.12 236.096 Q2157.75 234.893 2159.02 233.458 Z\\\" fill=\\\"#000000\\\" fill-rule=\\\"evenodd\\\" fill-opacity=\\\"1\\\" \\/><path clip-path=\\\"url(#clip800)\\\" d=\\\"M 0 0 M2189.85 220.518 Q2189.85 215.819 2187.91 213.157 Q2185.99 210.472 2182.61 210.472 Q2179.23 210.472 2177.28 213.157 Q2175.36 215.819 2175.36 220.518 Q2175.36 225.217 2177.28 227.902 Q2179.23 230.564 2182.61 230.564 Q2185.99 230.564 2187.91 227.902 Q2189.85 225.217 2189.85 220.518 M2175.36 211.467 Q2176.71 209.152 2178.74 208.041 Q2180.8 206.907 2183.65 206.907 Q2188.37 206.907 2191.31 210.657 Q2194.27 214.407 2194.27 220.518 Q2194.27 226.629 2191.31 230.379 Q2188.37 234.129 2183.65 234.129 Q2180.8 234.129 2178.74 233.018 Q2176.71 231.883 2175.36 229.569 L2175.36 233.458 L2171.08 233.458 L2171.08 197.439 L2175.36 197.439 L2175.36 211.467 Z\\\" fill=\\\"#000000\\\" fill-rule=\\\"evenodd\\\" fill-opacity=\\\"1\\\" \\/><path clip-path=\\\"url(#clip800)\\\" d=\\\"M 0 0 M2198.74 207.532 L2203 207.532 L2203 233.458 L2198.74 233.458 L2198.74 207.532 M2198.74 197.439 L2203 197.439 L2203 202.833 L2198.74 202.833 L2198.74 197.439 Z\\\" fill=\\\"#000000\\\" fill-rule=\\\"evenodd\\\" fill-opacity=\\\"1\\\" \\/><path clip-path=\\\"url(#clip800)\\\" d=\\\"M 0 0 M2229.65 219.43 L2229.65 221.513 L2210.06 221.513 Q2210.34 225.911 2212.7 228.226 Q2215.08 230.518 2219.32 230.518 Q2221.77 230.518 2224.07 229.916 Q2226.38 229.314 2228.65 228.11 L2228.65 232.138 Q2226.36 233.11 2223.95 233.62 Q2221.54 234.129 2219.07 234.129 Q2212.86 234.129 2209.23 230.518 Q2205.62 226.907 2205.62 220.749 Q2205.62 214.384 2209.04 210.657 Q2212.49 206.907 2218.33 206.907 Q2223.56 206.907 2226.59 210.286 Q2229.65 213.643 2229.65 219.43 M2225.39 218.18 Q2225.34 214.685 2223.42 212.601 Q2221.52 210.518 2218.37 210.518 Q2214.81 210.518 2212.65 212.532 Q2210.52 214.546 2210.2 218.203 L2225.39 218.18 Z\\\" fill=\\\"#000000\\\" fill-rule=\\\"evenodd\\\" fill-opacity=\\\"1\\\" \\/><\\/svg>\\n\"},\"nodeType\":\"DOM\",\"type\":\"node\",\"instanceArgs\":{\"namespace\":\"html\",\"tag\":\"div\"},\"children\":[]}]}}}},\"children\":[{\"props\":{},\"nodeType\":\"ObservableNode\",\"type\":\"node\",\"instanceArgs\":{\"id\":\"12747701415463388311\",\"name\":\"obs-node\"},\"children\":[]}]}]},\n",
       "            window,\n",
       "        );\n",
       "    } else {\n",
       "        document\n",
       "            .querySelector('[data-webio-mountpoint=\"8794706354993370376\"]')\n",
       "            .innerHTML = (\n",
       "                '<div style=\"padding: 1em; background-color: #f8d6da; border: 1px solid #f5c6cb\">' +\n",
       "                '<p><strong>WebIO not detected.</strong></p>' +\n",
       "                '<p>Please read ' +\n",
       "                '<a href=\"https://juliagizmos.github.io/WebIO.jl/latest/troubleshooting/not-detected/\" target=\"_blank\">the troubleshooting guide</a> ' +\n",
       "                'for more information on how to resolve this issue.</p>' +\n",
       "                '<p><a href=\"https://juliagizmos.github.io/WebIO.jl/latest/troubleshooting/not-detected/\" target=\"_blank\">https://juliagizmos.github.io/WebIO.jl/latest/troubleshooting/not-detected/</a></p>' +\n",
       "                '</div>'\n",
       "            );\n",
       "    }\n",
       "    </script>\n",
       "</div>\n"
      ],
      "text/plain": [
       "Node{WebIO.DOM}(WebIO.DOM(:html, :div), Any[Node{WebIO.DOM}(WebIO.DOM(:html, :div), Any[Scope(Node{WebIO.DOM}(WebIO.DOM(:html, :div), Any[Node{WebIO.DOM}(WebIO.DOM(:html, :div), Any[Node{WebIO.DOM}(WebIO.DOM(:html, :label), Any[\"time\"], Dict{Symbol,Any}(:className => \"interact \",:style => Dict{Any,Any}(:padding => \"5px 10px 0px 10px\")))], Dict{Symbol,Any}(:className => \"interact-flex-row-left\")), Node{WebIO.DOM}(WebIO.DOM(:html, :div), Any[Node{WebIO.DOM}(WebIO.DOM(:html, :input), Any[], Dict{Symbol,Any}(:max => 99,:min => 1,:attributes => Dict{Any,Any}(:type => \"range\",Symbol(\"data-bind\") => \"numericValue: index, valueUpdate: 'input', event: {change: function (){this.changes(this.changes()+1)}}\",\"orient\" => \"horizontal\"),:step => 1,:className => \"slider slider is-fullwidth\",:style => Dict{Any,Any}()))], Dict{Symbol,Any}(:className => \"interact-flex-row-center\")), Node{WebIO.DOM}(WebIO.DOM(:html, :div), Any[Node{WebIO.DOM}(WebIO.DOM(:html, :p), Any[], Dict{Symbol,Any}(:attributes => Dict(\"data-bind\" => \"text: formatted_val\")))], Dict{Symbol,Any}(:className => \"interact-flex-row-right\"))], Dict{Symbol,Any}(:className => \"interact-flex-row interact-widget\")), Dict{String,Tuple{Observables.AbstractObservable,Union{Nothing, Bool}}}(\"changes\" => (Observable{Int64} with 1 listeners. Value:\n",
       "0, nothing),\"index\" => (Observable{Any} with 2 listeners. Value:\n",
       "50, nothing)), Set{String}(), nothing, Asset[Asset(\"js\", \"knockout\", \"C:\\\\Users\\\\admin\\\\.julia\\\\packages\\\\Knockout\\\\IP1uR\\\\src\\\\..\\\\assets\\\\knockout.js\"), Asset(\"js\", \"knockout_punches\", \"C:\\\\Users\\\\admin\\\\.julia\\\\packages\\\\Knockout\\\\IP1uR\\\\src\\\\..\\\\assets\\\\knockout_punches.js\"), Asset(\"js\", nothing, \"C:\\\\Users\\\\admin\\\\.julia\\\\packages\\\\InteractBase\\\\Zfu5P\\\\src\\\\..\\\\assets\\\\all.js\"), Asset(\"css\", nothing, \"C:\\\\Users\\\\admin\\\\.julia\\\\packages\\\\InteractBase\\\\Zfu5P\\\\src\\\\..\\\\assets\\\\style.css\"), Asset(\"css\", nothing, \"C:\\\\Users\\\\admin\\\\.julia\\\\packages\\\\Interact\\\\SbgIk\\\\src\\\\..\\\\assets\\\\bulma_confined.min.css\")], Dict{Any,Any}(\"changes\" => Any[WebIO.JSString(\"(function (val){return (val!=this.model[\\\"changes\\\"]()) ? (this.valueFromJulia[\\\"changes\\\"]=true, this.model[\\\"changes\\\"](val)) : undefined})\")],\"index\" => Any[WebIO.JSString(\"(function (val){return (val!=this.model[\\\"index\\\"]()) ? (this.valueFromJulia[\\\"index\\\"]=true, this.model[\\\"index\\\"](val)) : undefined})\")]), WebIO.ConnectionPool(Channel{Any}(sz_max:32,sz_curr:0), Set{AbstractConnection}(), Base.GenericCondition{Base.AlwaysLockedST}(Base.InvasiveLinkedList{Task}(Task (runnable) @0x000000003cbbb3d0, Task (runnable) @0x000000003cbbb3d0), Base.AlwaysLockedST(1))), WebIO.JSString[WebIO.JSString(\"function () {\\n    var handler = (function (ko, koPunches) {\\n    ko.punches.enableAll();\\n    ko.bindingHandlers.numericValue = {\\n        init: function(element, valueAccessor, allBindings, data, context) {\\n            var stringified = ko.observable(ko.unwrap(valueAccessor()));\\n            stringified.subscribe(function(value) {\\n                var val = parseFloat(value);\\n                if (!isNaN(val)) {\\n                    valueAccessor()(val);\\n                }\\n            });\\n            valueAccessor().subscribe(function(value) {\\n                var str = JSON.stringify(value);\\n                if ((str == \\\"0\\\") && ([\\\"-0\\\", \\\"-0.\\\"].indexOf(stringified()) >= 0))\\n                     return;\\n                 if ([\\\"null\\\", \\\"\\\"].indexOf(str) >= 0)\\n                     return;\\n                stringified(str);\\n            });\\n            ko.applyBindingsToNode(\\n                element,\\n                {\\n                    value: stringified,\\n                    valueUpdate: allBindings.get('valueUpdate'),\\n                },\\n                context,\\n            );\\n        }\\n    };\\n    var json_data = {\\\"formatted_vals\\\":[\\\"2\\\",\\\"3\\\",\\\"4\\\",\\\"5\\\",\\\"6\\\",\\\"7\\\",\\\"8\\\",\\\"9\\\",\\\"10\\\",\\\"11\\\",\\\"12\\\",\\\"13\\\",\\\"14\\\",\\\"15\\\",\\\"16\\\",\\\"17\\\",\\\"18\\\",\\\"19\\\",\\\"20\\\",\\\"21\\\",\\\"22\\\",\\\"23\\\",\\\"24\\\",\\\"25\\\",\\\"26\\\",\\\"27\\\",\\\"28\\\",\\\"29\\\",\\\"30\\\",\\\"31\\\",\\\"32\\\",\\\"33\\\",\\\"34\\\",\\\"35\\\",\\\"36\\\",\\\"37\\\",\\\"38\\\",\\\"39\\\",\\\"40\\\",\\\"41\\\",\\\"42\\\",\\\"43\\\",\\\"44\\\",\\\"45\\\",\\\"46\\\",\\\"47\\\",\\\"48\\\",\\\"49\\\",\\\"50\\\",\\\"51\\\",\\\"52\\\",\\\"53\\\",\\\"54\\\",\\\"55\\\",\\\"56\\\",\\\"57\\\",\\\"58\\\",\\\"59\\\",\\\"60\\\",\\\"61\\\",\\\"62\\\",\\\"63\\\",\\\"64\\\",\\\"65\\\",\\\"66\\\",\\\"67\\\",\\\"68\\\",\\\"69\\\",\\\"70\\\",\\\"71\\\",\\\"72\\\",\\\"73\\\",\\\"74\\\",\\\"75\\\",\\\"76\\\",\\\"77\\\",\\\"78\\\",\\\"79\\\",\\\"80\\\",\\\"81\\\",\\\"82\\\",\\\"83\\\",\\\"84\\\",\\\"85\\\",\\\"86\\\",\\\"87\\\",\\\"88\\\",\\\"89\\\",\\\"90\\\",\\\"91\\\",\\\"92\\\",\\\"93\\\",\\\"94\\\",\\\"95\\\",\\\"96\\\",\\\"97\\\",\\\"98\\\",\\\"99\\\",\\\"100\\\"],\\\"changes\\\":WebIO.getval({\\\"name\\\":\\\"changes\\\",\\\"scope\\\":\\\"9603628431431619613\\\",\\\"id\\\":\\\"5731298409556294991\\\",\\\"type\\\":\\\"observable\\\"}),\\\"index\\\":WebIO.getval({\\\"name\\\":\\\"index\\\",\\\"scope\\\":\\\"9603628431431619613\\\",\\\"id\\\":\\\"8902891614622972833\\\",\\\"type\\\":\\\"observable\\\"})};\\n    var self = this;\\n    function AppViewModel() {\\n        for (var key in json_data) {\\n            var el = json_data[key];\\n            this[key] = Array.isArray(el) ? ko.observableArray(el) : ko.observable(el);\\n        }\\n        \\n        [this[\\\"formatted_val\\\"]=ko.computed(    function(){\\n        return this.formatted_vals()[parseInt(this.index())-(1)];\\n    }\\n,this)]\\n        [this[\\\"changes\\\"].subscribe((function (val){!(this.valueFromJulia[\\\"changes\\\"]) ? (WebIO.setval({\\\"name\\\":\\\"changes\\\",\\\"scope\\\":\\\"9603628431431619613\\\",\\\"id\\\":\\\"5731298409556294991\\\",\\\"type\\\":\\\"observable\\\"},val)) : undefined; return this.valueFromJulia[\\\"changes\\\"]=false}),self),this[\\\"index\\\"].subscribe((function (val){!(this.valueFromJulia[\\\"index\\\"]) ? (WebIO.setval({\\\"name\\\":\\\"index\\\",\\\"scope\\\":\\\"9603628431431619613\\\",\\\"id\\\":\\\"8902891614622972833\\\",\\\"type\\\":\\\"observable\\\"},val)) : undefined; return this.valueFromJulia[\\\"index\\\"]=false}),self)]\\n        \\n    }\\n    self.model = new AppViewModel();\\n    self.valueFromJulia = {};\\n    for (var key in json_data) {\\n        self.valueFromJulia[key] = false;\\n    }\\n    ko.applyBindings(self.model, self.dom);\\n}\\n);\\n    (WebIO.importBlock({\\\"data\\\":[{\\\"name\\\":\\\"knockout\\\",\\\"type\\\":\\\"js\\\",\\\"url\\\":\\\"/assetserver/fd91bcc76f200e46e5681854927159f78397d01c-knockout.js\\\"},{\\\"name\\\":\\\"knockout_punches\\\",\\\"type\\\":\\\"js\\\",\\\"url\\\":\\\"/assetserver/0771d715f47990fd6a20af05579c332026637b1d-knockout_punches.js\\\"}],\\\"type\\\":\\\"async_block\\\"})).then((imports) => handler.apply(this, imports));\\n}\\n\")])], Dict{Symbol,Any}(:className => \"field interact-widget\")), Observable{Any} with 0 listeners. Value:\n",
       "Node{WebIO.DOM}(WebIO.DOM(:html, :div), Any[Plot{Plots.GRBackend() n=2}], Dict{Symbol,Any}(:className => \"interact-flex-row interact-widget\"))], Dict{Symbol,Any}())"
      ]
     },
     "execution_count": 282,
     "metadata": {},
     "output_type": "execute_result"
    }
   ],
   "source": [
    "@manipulate for time = 2:1:100\n",
    "    plot(1:time, A[1:time, 1], label=\"gołębie\", color= :purple)\n",
    "    plot!(1:time, A[1:time, 2], label=\"jastrzębie\", color= :green)\n",
    "end"
   ]
  },
  {
   "cell_type": "markdown",
   "metadata": {},
   "source": [
    "# ---------------------------------------------sekcja 2-----------------------------------------------------"
   ]
  },
  {
   "cell_type": "markdown",
   "metadata": {},
   "source": [
    "## funkcje generujące środowisko"
   ]
  },
  {
   "cell_type": "code",
   "execution_count": 34,
   "metadata": {},
   "outputs": [
    {
     "data": {
      "text/plain": [
       "environment_poison (generic function with 1 method)"
      ]
     },
     "execution_count": 34,
     "metadata": {},
     "output_type": "execute_result"
    }
   ],
   "source": [
    "function environment2(n,m) ###generuje środowisko z pakietami\n",
    "    if n % 3 != 0\n",
    "        throw(DomainError(size, \"incorrect size\"))\n",
    "    end\n",
    "    \n",
    "    Environment = zeros(Int64, n, m)\n",
    "    \n",
    "    for i in 2:3:n\n",
    "        Environment[i,:] = ones(Int64, 1, m)\n",
    "    end\n",
    "    return Environment\n",
    "end\n",
    "\n",
    "function environment_poison(Environment) ###zatruwa środowisko - wprowadza zatrute oraz puste pakiety\n",
    "    \n",
    "    n = size(Environment)[1]\n",
    "    m = size(Environment)[2]\n",
    "    \n",
    "    liczba = floor((n/3*m) * 0.04)  #szacowanie około 8? % wszystkich możliwych pakietów\n",
    "    ilosc_pakietow = rand(1:liczba) #+ 5  #randomowe przypisanie konkretnej ilości danego rodzaju pakietów w danym wywołaniu\n",
    "    \n",
    "    for i in 1:1:ilosc_pakietow\n",
    "        z = findall(x -> x == 1, Environment)\n",
    "        Environment[rand(z)] = -1\n",
    "    end\n",
    "    \n",
    "    for i in 1:1:ilosc_pakietow\n",
    "        z = findall(x -> x == 1, Environment)\n",
    "        Environment[rand(z)] = 0\n",
    "    end\n",
    "    \n",
    "    return Environment\n",
    "end"
   ]
  },
  {
   "cell_type": "code",
   "execution_count": 35,
   "metadata": {},
   "outputs": [
    {
     "data": {
      "text/plain": [
       "9×9 Array{Int64,2}:\n",
       " 0  0  0  0  0  0  0  0  0\n",
       " 1  1  1  1  1  1  1  1  1\n",
       " 0  0  0  0  0  0  0  0  0\n",
       " 0  0  0  0  0  0  0  0  0\n",
       " 1  1  1  1  1  1  1  1  1\n",
       " 0  0  0  0  0  0  0  0  0\n",
       " 0  0  0  0  0  0  0  0  0\n",
       " 1  1  1  1  1  1  1  1  1\n",
       " 0  0  0  0  0  0  0  0  0"
      ]
     },
     "execution_count": 35,
     "metadata": {},
     "output_type": "execute_result"
    }
   ],
   "source": [
    "a = environment2(9,9)"
   ]
  },
  {
   "cell_type": "code",
   "execution_count": 36,
   "metadata": {},
   "outputs": [
    {
     "data": {
      "text/plain": [
       "9×9 Array{Int64,2}:\n",
       " 0   0  0  0  0  0  0  0  0\n",
       " 1   1  1  1  1  1  1  1  1\n",
       " 0   0  0  0  0  0  0  0  0\n",
       " 0   0  0  0  0  0  0  0  0\n",
       " 1  -1  0  1  1  1  1  1  1\n",
       " 0   0  0  0  0  0  0  0  0\n",
       " 0   0  0  0  0  0  0  0  0\n",
       " 1   1  1  1  1  1  1  1  1\n",
       " 0   0  0  0  0  0  0  0  0"
      ]
     },
     "execution_count": 36,
     "metadata": {},
     "output_type": "execute_result"
    }
   ],
   "source": [
    "b = environment_poison(a)"
   ]
  },
  {
   "cell_type": "markdown",
   "metadata": {},
   "source": [
    "## funkcja usuwająca konkretną rzecz z macierzy"
   ]
  },
  {
   "cell_type": "code",
   "execution_count": 37,
   "metadata": {},
   "outputs": [
    {
     "data": {
      "text/plain": [
       "remove! (generic function with 1 method)"
      ]
     },
     "execution_count": 37,
     "metadata": {},
     "output_type": "execute_result"
    }
   ],
   "source": [
    "function remove!(a, item)\n",
    "    deleteat!(a, findall(x->x==item, a))\n",
    "    return a\n",
    "end"
   ]
  },
  {
   "cell_type": "markdown",
   "metadata": {},
   "source": [
    "## Funkcja generująca rozstawienie ptaków w środowisku"
   ]
  },
  {
   "cell_type": "code",
   "execution_count": 38,
   "metadata": {},
   "outputs": [
    {
     "data": {
      "text/plain": [
       "find_place (generic function with 1 method)"
      ]
     },
     "execution_count": 38,
     "metadata": {},
     "output_type": "execute_result"
    }
   ],
   "source": [
    "function find_place(macierz, g, ja, ch_g, ch_j)\n",
    "    n = size(macierz)[1]\n",
    "    m = size(macierz)[2]\n",
    "    slots = 2*n*m/3\n",
    "    amount_of_birds = g + ja + ch_g + ch_j\n",
    "    birds = [7, 10, 70, 100] ##gołąb-7, jastrząb-10, chory gołąb -10, chory jastrząb - 100\n",
    "    any_bird = [g, ja, ch_g, ch_j] ###ilość każdego z ptaków\n",
    "    \n",
    "    if amount_of_birds > slots ###jeśli ptaków jest więcej niż miejsc - iteracja po miejscach\n",
    "        for i in 1:slots\n",
    "            pustka = findall(x -> x == 0, any_bird) ## jeśli każdy ptaszek z danego gatunku już jest przydzielony to go usuwamy\n",
    "            pustka = reverse(pustka)\n",
    "            if length(pustka) != 0\n",
    "                for k in pustka\n",
    "                    n = birds[k]\n",
    "                    birds = remove!(birds, n)\n",
    "                end\n",
    "                any_bird = remove!(any_bird, 0)\n",
    "            end\n",
    "            number = rand(1:length(birds))\n",
    "            current_bird = birds[number]\n",
    "            z = findall(x -> x == 0, macierz)\n",
    "            macierz[rand(z)] = current_bird ##przydzielamy ptaszka randomowo\n",
    "            any_bird[number] -= 1\n",
    "        end\n",
    "        \n",
    "    elseif slots > amount_of_birds ###jeśli miejsc jest więcej niż ptaków - iteracja po ptakach\n",
    "        for i in 1:amount_of_birds\n",
    "            pustka = findall(x -> x == 0, any_bird)\n",
    "            pustka = reverse(pustka)\n",
    "            if length(pustka) != 0\n",
    "                for k in pustka\n",
    "                    n = birds[k]\n",
    "                    birds = remove!(birds, n)\n",
    "                end\n",
    "                any_bird = remove!(any_bird, 0)\n",
    "            end\n",
    "            number = rand(1:length(birds))\n",
    "            current_bird = birds[number]\n",
    "            z = findall(x -> x == 0, macierz)\n",
    "            macierz[rand(z)] = current_bird\n",
    "            any_bird[number] -= 1\n",
    "        end\n",
    "    end\n",
    "    macierz = environment_poison(macierz) ##zatruwamy środowisko\n",
    "    \n",
    "    ###sprawdzenie nadpopulacji\n",
    "    \n",
    "    f_gol = 0\n",
    "    f_jas = 0\n",
    "    f_chg =0 \n",
    "    f_chj = 0\n",
    "    \n",
    "    for i in 1:length(birds)\n",
    "        if birds[i] == 7\n",
    "            f_gol += any_bird[i]\n",
    "        elseif birds[i] == 10\n",
    "            f_jas += any_bird[i]\n",
    "        elseif birds[i] == 70\n",
    "            f_chg += any_bird[i]\n",
    "        elseif birds[i] == 100\n",
    "            f_chj += any_bird[i]\n",
    "        end\n",
    "    end\n",
    "    \n",
    "    return macierz, f_gol, f_jas, f_chg, f_chj ###zwraca macierz środowiska, ilość ptaków w nim oraz tych do fight clubu\n",
    "end"
   ]
  },
  {
   "cell_type": "code",
   "execution_count": 39,
   "metadata": {},
   "outputs": [
    {
     "data": {
      "text/plain": [
       "([10 70 … 70 10; 1 1 … 1 1; … ; 1 1 … 1 1; 100 7 … 70 10], 2, 0, 0, 0)"
      ]
     },
     "execution_count": 39,
     "metadata": {},
     "output_type": "execute_result"
    }
   ],
   "source": [
    "a = environment2(9, 9)\n",
    "find_place(a, 14, 14, 14, 14)"
   ]
  },
  {
   "cell_type": "markdown",
   "metadata": {},
   "source": [
    "### funkcja rozstawiająca ptaki na podstawie ich numerów"
   ]
  },
  {
   "cell_type": "code",
   "execution_count": 40,
   "metadata": {},
   "outputs": [
    {
     "data": {
      "text/plain": [
       "ptaszki (generic function with 1 method)"
      ]
     },
     "execution_count": 40,
     "metadata": {},
     "output_type": "execute_result"
    }
   ],
   "source": [
    "function ptaszki(macierz, n, k)\n",
    "    if n != 0  \n",
    "        for i in 1:1:n\n",
    "            z = findall(x -> x ==0, macierz)\n",
    "            macierz[rand(z)] = k\n",
    "        end\n",
    "    end\n",
    "end"
   ]
  },
  {
   "cell_type": "markdown",
   "metadata": {},
   "source": [
    "### fight club wydanie kolejne"
   ]
  },
  {
   "cell_type": "code",
   "execution_count": 41,
   "metadata": {},
   "outputs": [
    {
     "data": {
      "text/plain": [
       "fight_club2 (generic function with 1 method)"
      ]
     },
     "execution_count": 41,
     "metadata": {},
     "output_type": "execute_result"
    }
   ],
   "source": [
    "function fight_club2(g,j, ch_g,ch_j)\n",
    "    lista_ptakow = [7, 10,70,100]\n",
    "    suma_ptakow = [g,j,ch_g,ch_j]\n",
    "    if (g+j+ch_g+ch_j)%2 == 0\n",
    "        n = Int64((g+j+ch_g+ch_j)/2)\n",
    "        M = zeros(Int64, 2, n)\n",
    "        for i in 1:length(lista_ptakow)\n",
    "            ptaszki(M,suma_ptakow[i],lista_ptakow[i])\n",
    "        end\n",
    "    else\n",
    "        n = Int64((g + j + ch_g + ch_j + 1)/2) \n",
    "        M = zeros(Int64, 2, n)\n",
    "        for i in 1:length(lista_ptakow)\n",
    "            ptaszki(M,suma_ptakow[i],lista_ptakow[i])\n",
    "        end\n",
    "    end\n",
    "    return M\n",
    "end"
   ]
  },
  {
   "cell_type": "code",
   "execution_count": 42,
   "metadata": {},
   "outputs": [
    {
     "data": {
      "text/plain": [
       "fight2 (generic function with 1 method)"
      ]
     },
     "execution_count": 42,
     "metadata": {},
     "output_type": "execute_result"
    }
   ],
   "source": [
    "\n",
    "function fight2(macierz, g,j,ch_g,ch_j)\n",
    "    for i in 1:size(macierz)[2]\n",
    "        suma = macierz[1,i] + macierz[2,i]\n",
    "        if suma == 14 || suma == 7 || suma == 77 ##gołąb / 2gołebie/ gołąb + chory gołąb\n",
    "            g -= 1\n",
    "        elseif suma == 20 || suma == 10 || suma == 110 ###jastrząb / 2jastrzębie / jastrząb + chory jastrząb\n",
    "            j -= 1\n",
    "        elseif suma == 70 || suma == 140 ## chore gołebie\n",
    "            ch_g -= 1\n",
    "        elseif suma == 100 || suma == 200 ## chore jastrzebie\n",
    "            ch_j -= 1\n",
    "            \n",
    "        elseif suma == 17 ##gołąb vs jastrząb\n",
    "            if roll_for_pakiet(66) == true\n",
    "                g-=1\n",
    "            else\n",
    "                j-=1\n",
    "            end\n",
    "        \n",
    "        elseif suma == 107 ##chory jastrząb + gołąb\n",
    "            g-=1\n",
    "            if roll_for_pakiet(66) == false\n",
    "                ch_g+=1\n",
    "                ch_j-=1\n",
    "            end\n",
    "        elseif suma == 80 ##chory gołąb + jastrząb\n",
    "            j-=1\n",
    "            if roll_for_pakiet(66) == true\n",
    "                ch_j+=1\n",
    "                ch_g-=1    \n",
    "            end\n",
    "            \n",
    "        elseif suma == 170 ##chory jastrząb + chory gołąb\n",
    "            if roll_for_pakiet(66) == true\n",
    "                ch_g-=1\n",
    "            else\n",
    "                ch_j-=1\n",
    "            end\n",
    "\n",
    "        end\n",
    "    end\n",
    "    return g, j, ch_g, ch_j\n",
    "end"
   ]
  },
  {
   "cell_type": "code",
   "execution_count": 292,
   "metadata": {},
   "outputs": [
    {
     "data": {
      "text/plain": [
       "(0, 1, 3, 6)"
      ]
     },
     "execution_count": 292,
     "metadata": {},
     "output_type": "execute_result"
    }
   ],
   "source": [
    "fight2(fight_club2(5,5,5,6), 5,5,5,6)"
   ]
  },
  {
   "cell_type": "code",
   "execution_count": 44,
   "metadata": {},
   "outputs": [
    {
     "data": {
      "text/plain": [
       "2×11 Array{Int64,2}:\n",
       "  0  70   70  70  10  100   10   7    7  100  10\n",
       " 70  10  100   7   7  100  100  10  100   70   7"
      ]
     },
     "execution_count": 44,
     "metadata": {},
     "output_type": "execute_result"
    }
   ],
   "source": [
    "fight_club2(5,5,5,6)"
   ]
  },
  {
   "cell_type": "markdown",
   "metadata": {},
   "source": [
    "## funkcja decydująca o dalszym losie ptaszków"
   ]
  },
  {
   "cell_type": "code",
   "execution_count": 45,
   "metadata": {},
   "outputs": [
    {
     "data": {
      "text/plain": [
       "roll_for_pakiet (generic function with 1 method)"
      ]
     },
     "execution_count": 45,
     "metadata": {},
     "output_type": "execute_result"
    }
   ],
   "source": [
    "function roll_for_pakiet(some_fate)\n",
    "    fate = rand(1:101)\n",
    "    if fate <= some_fate\n",
    "        return true\n",
    "    end\n",
    "end"
   ]
  },
  {
   "attachments": {
    "image.png": {
     "image/png": "[encoded data removed]"
    }
   },
   "cell_type": "markdown",
   "metadata": {},
   "source": [
    "![image.png](attachment:image.png)"
   ]
  },
  {
   "cell_type": "markdown",
   "metadata": {},
   "source": [
    "## funkcje na chorobę i śmierć"
   ]
  },
  {
   "cell_type": "code",
   "execution_count": 46,
   "metadata": {},
   "outputs": [
    {
     "data": {
      "text/plain": [
       "death (generic function with 1 method)"
      ]
     },
     "execution_count": 46,
     "metadata": {},
     "output_type": "execute_result"
    }
   ],
   "source": [
    "function death(bird, deadliness)\n",
    "    for i in 1:bird\n",
    "        if roll_for_pakiet(deadliness)==true\n",
    "            bird -= 1\n",
    "        end\n",
    "    end\n",
    "    return bird\n",
    "end"
   ]
  },
  {
   "cell_type": "code",
   "execution_count": 47,
   "metadata": {},
   "outputs": [
    {
     "data": {
      "text/plain": [
       "sickness (generic function with 1 method)"
      ]
     },
     "execution_count": 47,
     "metadata": {},
     "output_type": "execute_result"
    }
   ],
   "source": [
    "function sickness(ch_g, ch_j, deadliness)\n",
    "    ch_g = death(ch_g, deadliness)\n",
    "    \n",
    "    ch_j = death(ch_j, deadliness)\n",
    "    return ch_g, ch_j\n",
    "end"
   ]
  },
  {
   "cell_type": "markdown",
   "metadata": {},
   "source": [
    "### funkcja potyczek"
   ]
  },
  {
   "cell_type": "code",
   "execution_count": 48,
   "metadata": {},
   "outputs": [
    {
     "data": {
      "text/plain": [
       "potyczki2 (generic function with 3 methods)"
      ]
     },
     "execution_count": 48,
     "metadata": {},
     "output_type": "execute_result"
    }
   ],
   "source": [
    "function potyczki2(n, m, macierz, g, ja, ch_g = 0, ch_j = 0)\n",
    "    for i in 2:3:n, j in 1:m    \n",
    "        suma = macierz[i - 1, j] + macierz[i, j] + macierz[i + 1, j]\n",
    "        if suma == 18\n",
    "            #Jastrząb i Gołąb dobry pakiet\n",
    "            ja += 1\n",
    "            if roll_for_pakiet(50) == true\n",
    "                g -= 1\n",
    "            end\n",
    "        elseif suma == 15\n",
    "            continue\n",
    "            #Gołąb i Gołąb dobry pakiet\n",
    "           # g = g\n",
    "        elseif suma == 21\n",
    "            #Jastrząb i Jastrząb dobry pakiet\n",
    "            ja -= 2\n",
    "        elseif suma == 8\n",
    "            #Gołąb dobry pakiet\n",
    "            g += 1\n",
    "        elseif suma == 11\n",
    "            #Jastrząb dobry pakiet\n",
    "            ja += 1\n",
    "        elseif suma == 81\n",
    "            #Jastrząb i Ch_Gołąb dobry pakiet\n",
    "            if roll_for_pakiet(10) == true\n",
    "                ja -= 1\n",
    "                ch_j += 1\n",
    "            end    \n",
    "            if roll_for_pakiet(50) == true\n",
    "                    ch_g -= 1\n",
    "            end\n",
    "                \n",
    "        elseif suma == 108\n",
    "            #Ch_Jastrząb i Gołąb dobry pakiet\n",
    "            if roll_for_pakiet(10) == true\n",
    "                g -= 1\n",
    "                ch_g += 1\n",
    "            end\n",
    "            if roll_for_pakiet(50) == true\n",
    "                ch_j -= 1\n",
    "                ja += 1\n",
    "            else\n",
    "                ch_j += 1\n",
    "            end\n",
    "            \n",
    "            \n",
    "        elseif suma == 201\n",
    "            #Ch_Jastrząb i Ch_Jastrząb dobry pakiet\n",
    "            ch_j -= 2\n",
    "        elseif suma == 141\n",
    "            continue\n",
    "            #Ch_Gołąb i Ch_Gołąb dobry pakiet\n",
    "            #ch_g = ch_g\n",
    "        elseif suma == 71\n",
    "            #Ch_Gołąb dobry pakiet\n",
    "            if roll_for_pakiet(50) == true\n",
    "                ch_g -= 1\n",
    "                g += 1\n",
    "            else\n",
    "                ch_g += 1\n",
    "            end\n",
    "            \n",
    "        elseif suma == 101\n",
    "            #Ch_Jastrząb dobry pakiet\n",
    "            if roll_for_pakiet(50) == true\n",
    "                ch_j -= 1\n",
    "                ja += 1\n",
    "            else\n",
    "                ch_j += 2\n",
    "            end\n",
    "        elseif suma == 111\n",
    "            #Ch_Jastrząb i Jastrząb dobry pakiet\n",
    "            ch_j -= 1\n",
    "            if roll_for_pakiet(50) == true\n",
    "                ja += 1\n",
    "            else\n",
    "                ch_j += 1\n",
    "            end\n",
    "        elseif suma == 78\n",
    "            #Ch_Gołąb i Gołąb dobry pakiet\n",
    "            if roll_for_pakiet(60) == true\n",
    "                ch_g += 1\n",
    "            end\n",
    "            \n",
    "        elseif suma == 17\n",
    "            #Jastrząb i Gołąb pusty pakiet\n",
    "            g = g-1\n",
    "        elseif suma == 20\n",
    "            #Jastrząb i Jastrząb pusty pakiet\n",
    "            ja = ja-1\n",
    "        elseif suma == 14\n",
    "            #Gołąb i Gołąb pusty pakiet\n",
    "            g = g-2\n",
    "        elseif suma == 10\n",
    "            #Jastrząb pusty pakiet\n",
    "            ja = ja-1\n",
    "        elseif suma == 7\n",
    "            #Gołąb pusty pakiet\n",
    "            g = g-1\n",
    "                \n",
    "         elseif suma == 80\n",
    "            #Jastrząb i Ch_Gołąb pusty pakiet\n",
    "            g -= 1\n",
    "            ja -= 1\n",
    "            ch_j += 1\n",
    "        elseif suma == 107\n",
    "            #Ch_Jastrząb i Gołąb pusty pakiet\n",
    "            g -= 1\n",
    "            if roll_for_pakiet(30) == true\n",
    "                ch_j -= 1\n",
    "                ja += 1\n",
    "            end\n",
    "        elseif suma == 200\n",
    "            #Ch_Jastrząb i Ch_Jastrząb pusty pakiet\n",
    "            ch_j -= 2\n",
    "        elseif suma == 140\n",
    "            #Ch_Gołąb i Ch_Gołąb pusty pakiet\n",
    "            ch_g -= 2\n",
    "            \n",
    "        elseif suma == 70\n",
    "            #Ch_Gołąb pusty pakiet\n",
    "            ch_g -= 1\n",
    "            \n",
    "        elseif suma == 100\n",
    "            #Ch_Jastrząb pusty pakiet\n",
    "            ch_j -= 1\n",
    "            \n",
    "        elseif suma == 110\n",
    "            #Ch_Jastrząb i Jastrząb pusty pakiet\n",
    "            ja -= 1\n",
    "            \n",
    "        elseif suma == 77\n",
    "            #Ch_Gołąb i Gołąb pusty pakiet\n",
    "            ch_g -= 1\n",
    "            g -= 1\n",
    "            \n",
    "            \n",
    "            \n",
    "        elseif suma == 16\n",
    "            #Jastrząb i Gołąb zatruty pakiet\n",
    "            g -= 1\n",
    "            ja -= 1\n",
    "            if roll_for_pakiet(20) == true\n",
    "                ch_j += 1\n",
    "            end    \n",
    "        elseif suma == 19\n",
    "            #Jastrząb i Jastrząb zatruty pakiet\n",
    "            ja -= 1\n",
    "        elseif suma == 13\n",
    "            #Gołąb i Gołąb zatruty pakiet\n",
    "            g -= 2\n",
    "            if roll_for_pakiet(6) == true\n",
    "                ch_g += 2\n",
    "            end\n",
    "        elseif suma == 9\n",
    "            #Jastrząb  zatruty pakiet\n",
    "            ja = ja-1\n",
    "        elseif suma == 6\n",
    "            #Gołąb zatruty pakiet\n",
    "            g = g-1 \n",
    "            if roll_for_pakiet(20) == true\n",
    "                ch_g += 1\n",
    "            end        \n",
    "         elseif suma == 79\n",
    "            #Jastrząb i Ch_Gołąb zatruty pakiet\n",
    "            ch_g -= 1 \n",
    "            ja -= 1\n",
    "            if roll_for_pakiet(70) == true\n",
    "                ch_j += 1\n",
    "            end\n",
    "            \n",
    "        elseif suma == 106\n",
    "            #Ch_Jastrząb i Gołąb zatruty pakiet\n",
    "            g -= 1\n",
    "            if roll_for_pakiet(40) == true\n",
    "                ch_j -= 1\n",
    "            end\n",
    "                \n",
    "        elseif suma == 199\n",
    "            #Ch_Jastrząb i Ch_Jastrząb zatruty pakiet\n",
    "            ch_j -= 2\n",
    "        elseif suma == 139\n",
    "            #Ch_Gołąb i Ch_Gołąb zatruty pakiet\n",
    "            ch_g -= 2\n",
    "            if roll_for_pakiet(1) == true\n",
    "                ch_g += 2\n",
    "            end\n",
    "            \n",
    "        elseif suma == 69\n",
    "            #Ch_Gołąb zatruty pakiet\n",
    "            ch_g -= 1\n",
    "        elseif suma == 99\n",
    "            #Ch_Jastrząb zatruty pakiet\n",
    "            ch_j -= 1\n",
    "        elseif suma == 109\n",
    "            #Ch_Jastrząb i Jastrząb zatruty pakiet\n",
    "            ja -= 1\n",
    "        elseif suma == 76\n",
    "            #Ch_Gołąb i Gołąb zatruty pakiet\n",
    "            g -= 1\n",
    "            if roll_for_pakiet(2) == true\n",
    "                ch_g += 1\n",
    "            end\n",
    "        end \n",
    "    end\n",
    "    sick_birds = sickness(ch_g, ch_j, 80)\n",
    "    ch_g = sick_birds[1]\n",
    "    ch_j = sick_birds[2]\n",
    "\n",
    "    return g, ja, ch_g, ch_j\n",
    "end"
   ]
  },
  {
   "cell_type": "markdown",
   "metadata": {},
   "source": [
    "# próba optymalizacji nr 1 - rozbicie funkcji na 3 części w zależności od pakietu - update: zbilansowana wersja środowiska - nie tak zabójcza"
   ]
  },
  {
   "cell_type": "code",
   "execution_count": 49,
   "metadata": {},
   "outputs": [
    {
     "data": {
      "text/plain": [
       "potyczki3 (generic function with 3 methods)"
      ]
     },
     "execution_count": 49,
     "metadata": {},
     "output_type": "execute_result"
    }
   ],
   "source": [
    "function potyczki3(n, m, macierz, g, ja, ch_g = 0, ch_j = 0)\n",
    "    for i in 2:3:n, j in 1:m    \n",
    "        suma = macierz[i - 1, j] + macierz[i + 1, j]\n",
    "        if macierz[i, j] == 1\n",
    "            result = pot_norm(suma, g, ja, ch_g, ch_j)\n",
    "            g = result[1]\n",
    "            ja= result[2]\n",
    "            ch_g = result[3]\n",
    "            ch_j = result[4]\n",
    "        elseif macierz[i,j] == 0\n",
    "            result = pot_pust(suma, g, ja, ch_g , ch_j )\n",
    "            g = result[1]\n",
    "            ja= result[2]\n",
    "            ch_g = result[3]\n",
    "            ch_j = result[4]\n",
    "        elseif macierz[i, j] == -1\n",
    "            result = pot_zatr(suma, g, ja, ch_g, ch_j)\n",
    "            g = result[1]\n",
    "            ja= result[2]\n",
    "            ch_g = result[3]\n",
    "            ch_j = result[4]\n",
    "        end\n",
    "    end\n",
    "    sick_birds = sickness(ch_g, ch_j, 5)\n",
    "    ch_g = sick_birds[1]\n",
    "    ch_j = sick_birds[2]\n",
    "\n",
    "    return g, ja, ch_g, ch_j\n",
    "end "
   ]
  },
  {
   "cell_type": "code",
   "execution_count": 50,
   "metadata": {},
   "outputs": [
    {
     "data": {
      "text/plain": [
       "pot_norm (generic function with 3 methods)"
      ]
     },
     "execution_count": 50,
     "metadata": {},
     "output_type": "execute_result"
    }
   ],
   "source": [
    "function pot_norm(suma, g, ja, ch_g = 0, ch_j = 0) ##funkcja do zwykłych pakietów\n",
    "    if suma == 7 ##sam gołąb\n",
    "        g += 1\n",
    "    elseif suma == 10 ###jastrząb\n",
    "        ja += 1\n",
    "    elseif suma == 70 ##chory goł\n",
    "        if roll_for_pakiet(25) == true #szansa na wyzdrowienie\n",
    "            ch_g -= 1\n",
    "            g += 1\n",
    "        else ##zrodzenie chorego gołąbka\n",
    "            ch_g += 1\n",
    "        end\n",
    "    elseif suma == 100 ##chory jastrz\n",
    "        if roll_for_pakiet(25) == true #szansa na wyzdrowienie\n",
    "            ch_j -= 1\n",
    "            ja += 1\n",
    "        else\n",
    "            ch_j += 1 #zrodzenie jastrzebia \n",
    "        end\n",
    "    elseif suma == 20 #dwa jastr - biją się\n",
    "        ja -= 2\n",
    "    elseif suma == 200 #dwa chore jastr- bitka\n",
    "        ch_j -= 2\n",
    "    elseif suma == 17 \n",
    "        ja += 1 #jastrz się rozmnaża\n",
    "        if roll_for_pakiet(50) == true ##gołąb ma 50%szans na ucieczke\n",
    "            g -= 1\n",
    "        end\n",
    "    elseif suma == 170 #chory gołąb + ch jastrz\n",
    "        ja += 1 #jastrz zdrowieje, chory gołąb ginie\n",
    "        ch_j -=1\n",
    "        ch_g -=1\n",
    "    elseif suma == 77 ##chory g + zdrowy g\n",
    "        if roll_for_pakiet(80) == true\n",
    "            ch_g += 1\n",
    "        end\n",
    "    elseif suma == 80 #jastrzab + chg\n",
    "        ch_g -= 1 ##chory gołąb ginie\n",
    "        if roll_for_pakiet(60) == true ##60% szans na zachorowanie jastrzebia\n",
    "            ja -= 1\n",
    "            ch_j += 1\n",
    "        end    \n",
    "        \n",
    "    elseif suma == 107 ###chory jastrz + zdrowy goł\n",
    "        if roll_for_pakiet(60) == true # 60% szans na zachorowanie gołębia\n",
    "            g -= 1\n",
    "            ch_g += 1\n",
    "        end\n",
    "        if roll_for_pakiet(25) == true ##25% szans na wyzdrowienie jastrz\n",
    "            ch_j -= 1\n",
    "            ja += 1\n",
    "        else\n",
    "            ch_j += 1 # ewentualnie zrodzenie ch jastrząbka\n",
    "        end\n",
    "    elseif suma == 110 #chory jastrz + zdrowy jastrz\n",
    "        ch_j -= 1 ##zdrowy zabija chorego\n",
    "        if roll_for_pakiet(20) == true ##20% szansy na unikniecie choroby i zrodzenie jastrząbka\n",
    "            ja += 1\n",
    "        else\n",
    "            ja -= 1\n",
    "            ch_j += 1 ##80% szansy na zachorowanie\n",
    "        end\n",
    "    end\n",
    "    return g, ja, ch_g, ch_j\n",
    "end\n",
    "        \n",
    "        \n",
    "    "
   ]
  },
  {
   "cell_type": "code",
   "execution_count": 51,
   "metadata": {},
   "outputs": [
    {
     "data": {
      "text/plain": [
       "pot_zatr (generic function with 3 methods)"
      ]
     },
     "execution_count": 51,
     "metadata": {},
     "output_type": "execute_result"
    }
   ],
   "source": [
    "function pot_zatr(suma, g, ja, ch_g = 0, ch_j = 0) ###funkcja do zatrutych pakietów\n",
    "    if suma == 7 #gołab\n",
    "        g = g - 1 \n",
    "        if roll_for_pakiet(70) == true #szansa na zachorowanie, 30% na śmierć\n",
    "            ch_g += 1\n",
    "        end        \n",
    "    elseif suma == 10 #jastrzab umiera\n",
    "        ja = ja-1\n",
    "        if roll_for_pakiet(10) == true #szansa na zachorowanie, 90% na śmierć\n",
    "            ch_j += 1\n",
    "        end        \n",
    "    elseif suma == 70 ##chory gołab umiera\n",
    "        ch_g -= 1\n",
    "    elseif suma == 100 #chory jastrzab umiera\n",
    "        ch_j -= 1\n",
    "    elseif suma == 14 ##dwa gołebie\n",
    "        g -= 2\n",
    "        if roll_for_pakiet(60) == true ##60% szansy na zachorowanie, 40 - śmierć\n",
    "            ch_g += 2\n",
    "        end\n",
    "    elseif suma == 140 #dwa chore gołębie\n",
    "        ch_g -= 2\n",
    "        if roll_for_pakiet(10) == true ##10%szans na przeżycie\n",
    "            ch_g += 2\n",
    "        end\n",
    "    elseif suma == 20 #dwa jastrzebie - biją się, ale jeden przeżywa\n",
    "        ja -= 1\n",
    "    elseif suma == 200 #dwa chore jastrz - bitka\n",
    "        ch_j -= 2\n",
    "    elseif suma == 17 ## jastrz + gołąb\n",
    "        g -= 1 #gołab umiera\n",
    "        ja -= 1\n",
    "        if roll_for_pakiet(40) == true ## szansa na zachorowanie, w innym wypadku śmierć\n",
    "            ch_j += 1\n",
    "        end \n",
    "    elseif suma == 170 ##chj + chg\n",
    "        ch_g -= 1 #chory gołab umiera\n",
    "        if roll_for_pakiet(70) == true #chory jastrzab umiera (70%)\n",
    "            ch_j -=1\n",
    "        end\n",
    "    elseif suma == 77 ##chory gołab + zdrowy gołąb\n",
    "        g -= 1\n",
    "        if roll_for_pakiet(20) == true ##zdrowy choruje, chory ma 20% na przeżycie\n",
    "            ch_g += 1\n",
    "        end\n",
    "    elseif suma == 80 ##chory g + jastrz\n",
    "        ch_g -= 1 #chg umiera\n",
    "        ja -= 1\n",
    "        if roll_for_pakiet(70) == true #jastrzab ma 70% na chorobe, 30 na śmierć\n",
    "            ch_j += 1\n",
    "        end\n",
    "    elseif suma == 107 #chory jastrzab, gołąb\n",
    "        g -= 1\n",
    "        if roll_for_pakiet(60) == true #gołąb ma większą szansę na ucieczke, ale choruje\n",
    "            ch_g += 1\n",
    "        end\n",
    "        if roll_for_pakiet(80) == true #jastrzab umiera po zjedzeniu zatr.p\n",
    "            ch_j -= 1\n",
    "        end\n",
    "    elseif suma == 110 #jastrz + chj\n",
    "        ja -= 1 ##chj umiera, ten zdrowy choruje\n",
    "    end\n",
    "    return g, ja, ch_g, ch_j\n",
    "end\n",
    "        "
   ]
  },
  {
   "cell_type": "code",
   "execution_count": 52,
   "metadata": {},
   "outputs": [
    {
     "data": {
      "text/plain": [
       "pot_pust (generic function with 3 methods)"
      ]
     },
     "execution_count": 52,
     "metadata": {},
     "output_type": "execute_result"
    }
   ],
   "source": [
    "function pot_pust(suma, g, ja, ch_g = 0, ch_j = 0) ##funkcja do pustych pakietów\n",
    "    if suma == 7 ## gołąb\n",
    "        g = g - 1 #gołąb umiera      \n",
    "    elseif suma == 10 #jastrz\n",
    "        ja = ja-1 #jstr umiera\n",
    "    elseif suma == 70 #chg\n",
    "        ch_g -= 1\n",
    "    elseif suma == 100 #chj\n",
    "        ch_j -= 1\n",
    "    elseif suma == 14 #2 g\n",
    "        g = g-2\n",
    "    elseif suma == 140 # 2chg\n",
    "        ch_g -= 2\n",
    "    elseif suma == 20 #2j\n",
    "        ja = ja-1\n",
    "    elseif suma == 200 #2 chj\n",
    "        ch_j -= 2\n",
    "    elseif suma == 17 #gołąb + jastrząb\n",
    "        g = g-1\n",
    "    elseif suma == 170 #chory jastr + ch gołąb\n",
    "        ch_g -= 1\n",
    "        ch_j -=1\n",
    "    elseif suma == 77 #chg + g\n",
    "        ch_g -= 1\n",
    "        g -= 1\n",
    "    elseif suma == 80 #chg + jastrz\n",
    "        g -= 1\n",
    "        ja -= 1\n",
    "        ch_j += 1\n",
    "    elseif suma == 107 #chj + g\n",
    "        g -= 1\n",
    "        ch_j -= 1\n",
    "    elseif suma == 110 #chj + j\n",
    "        ja -= 1\n",
    "    end\n",
    "    return g, ja, ch_g, ch_j\n",
    "end\n",
    "        "
   ]
  },
  {
   "cell_type": "markdown",
   "metadata": {},
   "source": [
    "### funkcja właściwa"
   ]
  },
  {
   "cell_type": "code",
   "execution_count": 293,
   "metadata": {},
   "outputs": [
    {
     "data": {
      "text/plain": [
       "action2 (generic function with 3 methods)"
      ]
     },
     "execution_count": 293,
     "metadata": {},
     "output_type": "execute_result"
    }
   ],
   "source": [
    "function action2(n, m, g, j, ch_g, ch_j, p, A = [], index = 1)\n",
    "    #n,m - wielkość środowiska\n",
    "    #g,j,ch_g,ch_j -liczba ptaków danego gatunku\n",
    "    #p - parametr czasowy\n",
    "    \n",
    "    if p == 0\n",
    "        println(\"they made it\")\n",
    "        return A\n",
    "    end\n",
    "    \n",
    "    max_amount = 2/3*m*n\n",
    "    amount_of_birds = g+j+ch_g+ch_j\n",
    "    srodowisko = environment2(n, m)\n",
    "    first_try = find_place(srodowisko, g, j, ch_g, ch_j) \n",
    "    macierz = first_try[1]\n",
    "    f_gol = first_try[2] \n",
    "    f_jas = first_try[3]\n",
    "    f_chg =  first_try[4] \n",
    "    f_chja = first_try[5] \n",
    "    fight = fight_club2(f_gol, f_jas, f_chg, f_chja)\n",
    "    g_p = length(findall(x -> x == 7, macierz))\n",
    "    j_p = length(findall(x -> x == 10, macierz))\n",
    "    chg_p = length(findall(x -> x == 70, macierz))\n",
    "    chj_p = length(findall(x -> x ==100, macierz))\n",
    "    \n",
    "    potyczki_result = potyczki3(n, m, macierz, g_p, j_p, chg_p, chj_p)\n",
    "\n",
    "\n",
    "    if amount_of_birds > max_amount\n",
    "        fight = fight_club2(f_gol, f_jas, f_chg, f_chja)\n",
    "        fight_result = fight2(fight, f_gol, f_jas, f_chg, f_chja)\n",
    "        final_g = potyczki_result[1] + fight_result[1]\n",
    "        final_j = potyczki_result[2] + fight_result[2]\n",
    "        final_chg = potyczki_result[3] + fight_result[3]\n",
    "        final_chj = potyczki_result[4] + fight_result[4]\n",
    "    else\n",
    "        final_g = potyczki_result[1] \n",
    "        final_j = potyczki_result[2] \n",
    "        final_chg = potyczki_result[3] \n",
    "        final_chj = potyczki_result[4] \n",
    "    end\n",
    "    \n",
    "    if final_g <0\n",
    "        final_g =0\n",
    "    elseif final_j<0\n",
    "        final_j = 0\n",
    "    elseif final_chg<0\n",
    "        final_chg = 0\n",
    "    elseif final_chj<0\n",
    "        final_chj = 0\n",
    "    end\n",
    "\n",
    "    if index == 1\n",
    "        A = [final_g final_j final_chg final_chj]\n",
    "    else\n",
    "        A = vcat(A,[final_g final_j final_chg final_chj])\n",
    "    end\n",
    "    \n",
    "    #println(final_g,\", \", final_j,\", \", final_chg, \", \",final_chj)\n",
    "    \n",
    "    if final_g == 0 && final_j == 0 && final_chg == 0 && final_chj == 0\n",
    "        println(\"they all died\")\n",
    "        return A\n",
    "    end\n",
    "    \n",
    "    \n",
    "    action2(n, m , final_g, final_j, final_chg,final_chj, p-1, A, index+1)\n",
    "end"
   ]
  },
  {
   "cell_type": "code",
   "execution_count": 294,
   "metadata": {},
   "outputs": [
    {
     "name": "stdout",
     "output_type": "stream",
     "text": [
      "they made it\n"
     ]
    },
    {
     "data": {
      "text/plain": [
       "50×4 Array{Int64,2}:\n",
       "  8  12  47  75\n",
       "  6  11  23  40\n",
       "  2  18   6  16\n",
       "  3  13   0  14\n",
       "  2  16   1  12\n",
       "  1  17   1   9\n",
       "  0  25   3   4\n",
       "  1  24   2   5\n",
       "  2  20   2   4\n",
       "  2  24   4   3\n",
       "  2  18   5   4\n",
       "  2  16   4   6\n",
       "  2  13   2  10\n",
       "  ⋮          \n",
       " 11  25   0   1\n",
       " 13  28   0   1\n",
       " 15  17   0   1\n",
       " 19  16   0   2\n",
       " 21  21   1   4\n",
       " 14  28   2   1\n",
       " 11  30   0   1\n",
       "  9  34   0   1\n",
       " 11  18   0   1\n",
       " 13  24   2   2\n",
       " 10  34   2   1\n",
       "  7  20   0   3"
      ]
     },
     "execution_count": 294,
     "metadata": {},
     "output_type": "execute_result"
    }
   ],
   "source": [
    "dying = action2(9,9,15,10,100,135,50)"
   ]
  },
  {
   "cell_type": "code",
   "execution_count": 295,
   "metadata": {},
   "outputs": [],
   "source": [
    "using Plots"
   ]
  },
  {
   "cell_type": "code",
   "execution_count": 296,
   "metadata": {},
   "outputs": [
    {
     "data": {
      "image/svg+xml": [
       "<?xml version=\"1.0\" encoding=\"utf-8\"?>\n",
       "<svg xmlns=\"http://www.w3.org/2000/svg\" xmlns:xlink=\"http://www.w3.org/1999/xlink\" width=\"600\" height=\"400\" viewBox=\"0 0 2400 1600\">\n",
       "<defs>\n",
       "  <clipPath id=\"clip160\">\n",
       "    <rect x=\"0\" y=\"0\" width=\"2400\" height=\"1600\"/>\n",
       "  </clipPath>\n",
       "</defs>\n",
       "<path clip-path=\"url(#clip160)\" d=\"\n",
       "M0 1600 L2400 1600 L2400 0 L0 0  Z\n",
       "  \" fill=\"#ffffff\" fill-rule=\"evenodd\" fill-opacity=\"1\"/>\n",
       "<defs>\n",
       "  <clipPath id=\"clip161\">\n",
       "    <rect x=\"480\" y=\"0\" width=\"1681\" height=\"1600\"/>\n",
       "  </clipPath>\n",
       "</defs>\n",
       "<path clip-path=\"url(#clip160)\" d=\"\n",
       "M139.191 1486.45 L2352.76 1486.45 L2352.76 47.2441 L139.191 47.2441  Z\n",
       "  \" fill=\"#ffffff\" fill-rule=\"evenodd\" fill-opacity=\"1\"/>\n",
       "<defs>\n",
       "  <clipPath id=\"clip162\">\n",
       "    <rect x=\"139\" y=\"47\" width=\"2215\" height=\"1440\"/>\n",
       "  </clipPath>\n",
       "</defs>\n",
       "<polyline clip-path=\"url(#clip162)\" style=\"stroke:#000000; stroke-width:2; stroke-opacity:0.1; fill:none\" points=\"\n",
       "  159.221,1486.45 159.221,47.2441 \n",
       "  \"/>\n",
       "<polyline clip-path=\"url(#clip162)\" style=\"stroke:#000000; stroke-width:2; stroke-opacity:0.1; fill:none\" points=\"\n",
       "  585.399,1486.45 585.399,47.2441 \n",
       "  \"/>\n",
       "<polyline clip-path=\"url(#clip162)\" style=\"stroke:#000000; stroke-width:2; stroke-opacity:0.1; fill:none\" points=\"\n",
       "  1011.58,1486.45 1011.58,47.2441 \n",
       "  \"/>\n",
       "<polyline clip-path=\"url(#clip162)\" style=\"stroke:#000000; stroke-width:2; stroke-opacity:0.1; fill:none\" points=\"\n",
       "  1437.75,1486.45 1437.75,47.2441 \n",
       "  \"/>\n",
       "<polyline clip-path=\"url(#clip162)\" style=\"stroke:#000000; stroke-width:2; stroke-opacity:0.1; fill:none\" points=\"\n",
       "  1863.93,1486.45 1863.93,47.2441 \n",
       "  \"/>\n",
       "<polyline clip-path=\"url(#clip162)\" style=\"stroke:#000000; stroke-width:2; stroke-opacity:0.1; fill:none\" points=\"\n",
       "  2290.11,1486.45 2290.11,47.2441 \n",
       "  \"/>\n",
       "<polyline clip-path=\"url(#clip160)\" style=\"stroke:#000000; stroke-width:4; stroke-opacity:1; fill:none\" points=\"\n",
       "  139.191,1486.45 2352.76,1486.45 \n",
       "  \"/>\n",
       "<polyline clip-path=\"url(#clip160)\" style=\"stroke:#000000; stroke-width:4; stroke-opacity:1; fill:none\" points=\"\n",
       "  159.221,1486.45 159.221,1469.18 \n",
       "  \"/>\n",
       "<polyline clip-path=\"url(#clip160)\" style=\"stroke:#000000; stroke-width:4; stroke-opacity:1; fill:none\" points=\"\n",
       "  585.399,1486.45 585.399,1469.18 \n",
       "  \"/>\n",
       "<polyline clip-path=\"url(#clip160)\" style=\"stroke:#000000; stroke-width:4; stroke-opacity:1; fill:none\" points=\"\n",
       "  1011.58,1486.45 1011.58,1469.18 \n",
       "  \"/>\n",
       "<polyline clip-path=\"url(#clip160)\" style=\"stroke:#000000; stroke-width:4; stroke-opacity:1; fill:none\" points=\"\n",
       "  1437.75,1486.45 1437.75,1469.18 \n",
       "  \"/>\n",
       "<polyline clip-path=\"url(#clip160)\" style=\"stroke:#000000; stroke-width:4; stroke-opacity:1; fill:none\" points=\"\n",
       "  1863.93,1486.45 1863.93,1469.18 \n",
       "  \"/>\n",
       "<polyline clip-path=\"url(#clip160)\" style=\"stroke:#000000; stroke-width:4; stroke-opacity:1; fill:none\" points=\"\n",
       "  2290.11,1486.45 2290.11,1469.18 \n",
       "  \"/>\n",
       "<path clip-path=\"url(#clip160)\" d=\"M 0 0 M159.221 1515.64 Q155.61 1515.64 153.781 1519.2 Q151.976 1522.75 151.976 1529.87 Q151.976 1536.98 153.781 1540.55 Q155.61 1544.09 159.221 1544.09 Q162.855 1544.09 164.661 1540.55 Q166.49 1536.98 166.49 1529.87 Q166.49 1522.75 164.661 1519.2 Q162.855 1515.64 159.221 1515.64 M159.221 1511.93 Q165.031 1511.93 168.087 1516.54 Q171.166 1521.12 171.166 1529.87 Q171.166 1538.6 168.087 1543.21 Q165.031 1547.79 159.221 1547.79 Q153.411 1547.79 150.332 1543.21 Q147.277 1538.6 147.277 1529.87 Q147.277 1521.12 150.332 1516.54 Q153.411 1511.93 159.221 1511.93 Z\" fill=\"#000000\" fill-rule=\"evenodd\" fill-opacity=\"1\" /><path clip-path=\"url(#clip160)\" d=\"M 0 0 M562.274 1543.18 L569.913 1543.18 L569.913 1516.82 L561.602 1518.49 L561.602 1514.23 L569.866 1512.56 L574.542 1512.56 L574.542 1543.18 L582.181 1543.18 L582.181 1547.12 L562.274 1547.12 L562.274 1543.18 Z\" fill=\"#000000\" fill-rule=\"evenodd\" fill-opacity=\"1\" /><path clip-path=\"url(#clip160)\" d=\"M 0 0 M597.25 1515.64 Q593.639 1515.64 591.811 1519.2 Q590.005 1522.75 590.005 1529.87 Q590.005 1536.98 591.811 1540.55 Q593.639 1544.09 597.25 1544.09 Q600.885 1544.09 602.69 1540.55 Q604.519 1536.98 604.519 1529.87 Q604.519 1522.75 602.69 1519.2 Q600.885 1515.64 597.25 1515.64 M597.25 1511.93 Q603.061 1511.93 606.116 1516.54 Q609.195 1521.12 609.195 1529.87 Q609.195 1538.6 606.116 1543.21 Q603.061 1547.79 597.25 1547.79 Q591.44 1547.79 588.362 1543.21 Q585.306 1538.6 585.306 1529.87 Q585.306 1521.12 588.362 1516.54 Q591.44 1511.93 597.25 1511.93 Z\" fill=\"#000000\" fill-rule=\"evenodd\" fill-opacity=\"1\" /><path clip-path=\"url(#clip160)\" d=\"M 0 0 M992.722 1543.18 L1009.04 1543.18 L1009.04 1547.12 L987.097 1547.12 L987.097 1543.18 Q989.759 1540.43 994.342 1535.8 Q998.949 1531.15 1000.13 1529.81 Q1002.37 1527.28 1003.25 1525.55 Q1004.16 1523.79 1004.16 1522.1 Q1004.16 1519.34 1002.21 1517.61 Q1000.29 1515.87 997.189 1515.87 Q994.99 1515.87 992.537 1516.63 Q990.106 1517.4 987.328 1518.95 L987.328 1514.23 Q990.152 1513.09 992.606 1512.51 Q995.06 1511.93 997.097 1511.93 Q1002.47 1511.93 1005.66 1514.62 Q1008.86 1517.31 1008.86 1521.8 Q1008.86 1523.93 1008.05 1525.85 Q1007.26 1527.74 1005.15 1530.34 Q1004.57 1531.01 1001.47 1534.23 Q998.37 1537.42 992.722 1543.18 Z\" fill=\"#000000\" fill-rule=\"evenodd\" fill-opacity=\"1\" /><path clip-path=\"url(#clip160)\" d=\"M 0 0 M1024.11 1515.64 Q1020.5 1515.64 1018.67 1519.2 Q1016.87 1522.75 1016.87 1529.87 Q1016.87 1536.98 1018.67 1540.55 Q1020.5 1544.09 1024.11 1544.09 Q1027.74 1544.09 1029.55 1540.55 Q1031.38 1536.98 1031.38 1529.87 Q1031.38 1522.75 1029.55 1519.2 Q1027.74 1515.64 1024.11 1515.64 M1024.11 1511.93 Q1029.92 1511.93 1032.98 1516.54 Q1036.05 1521.12 1036.05 1529.87 Q1036.05 1538.6 1032.98 1543.21 Q1029.92 1547.79 1024.11 1547.79 Q1018.3 1547.79 1015.22 1543.21 Q1012.17 1538.6 1012.17 1529.87 Q1012.17 1521.12 1015.22 1516.54 Q1018.3 1511.93 1024.11 1511.93 Z\" fill=\"#000000\" fill-rule=\"evenodd\" fill-opacity=\"1\" /><path clip-path=\"url(#clip160)\" d=\"M 0 0 M1428.49 1528.49 Q1431.85 1529.2 1433.73 1531.47 Q1435.62 1533.74 1435.62 1537.07 Q1435.62 1542.19 1432.11 1544.99 Q1428.59 1547.79 1422.11 1547.79 Q1419.93 1547.79 1417.61 1547.35 Q1415.32 1546.93 1412.87 1546.08 L1412.87 1541.56 Q1414.81 1542.7 1417.13 1543.28 Q1419.44 1543.86 1421.97 1543.86 Q1426.36 1543.86 1428.66 1542.12 Q1430.97 1540.38 1430.97 1537.07 Q1430.97 1534.02 1428.82 1532.31 Q1426.69 1530.57 1422.87 1530.57 L1418.84 1530.57 L1418.84 1526.73 L1423.05 1526.73 Q1426.5 1526.73 1428.33 1525.36 Q1430.16 1523.97 1430.16 1521.38 Q1430.16 1518.72 1428.26 1517.31 Q1426.39 1515.87 1422.87 1515.87 Q1420.95 1515.87 1418.75 1516.29 Q1416.55 1516.7 1413.91 1517.58 L1413.91 1513.42 Q1416.57 1512.68 1418.89 1512.31 Q1421.23 1511.93 1423.29 1511.93 Q1428.61 1511.93 1431.71 1514.37 Q1434.81 1516.77 1434.81 1520.89 Q1434.81 1523.76 1433.17 1525.75 Q1431.53 1527.72 1428.49 1528.49 Z\" fill=\"#000000\" fill-rule=\"evenodd\" fill-opacity=\"1\" /><path clip-path=\"url(#clip160)\" d=\"M 0 0 M1450.69 1515.64 Q1447.08 1515.64 1445.25 1519.2 Q1443.45 1522.75 1443.45 1529.87 Q1443.45 1536.98 1445.25 1540.55 Q1447.08 1544.09 1450.69 1544.09 Q1454.33 1544.09 1456.13 1540.55 Q1457.96 1536.98 1457.96 1529.87 Q1457.96 1522.75 1456.13 1519.2 Q1454.33 1515.64 1450.69 1515.64 M1450.69 1511.93 Q1456.5 1511.93 1459.56 1516.54 Q1462.64 1521.12 1462.64 1529.87 Q1462.64 1538.6 1459.56 1543.21 Q1456.5 1547.79 1450.69 1547.79 Q1444.88 1547.79 1441.8 1543.21 Q1438.75 1538.6 1438.75 1529.87 Q1438.75 1521.12 1441.8 1516.54 Q1444.88 1511.93 1450.69 1511.93 Z\" fill=\"#000000\" fill-rule=\"evenodd\" fill-opacity=\"1\" /><path clip-path=\"url(#clip160)\" d=\"M 0 0 M1853.43 1516.63 L1841.63 1535.08 L1853.43 1535.08 L1853.43 1516.63 M1852.21 1512.56 L1858.09 1512.56 L1858.09 1535.08 L1863.02 1535.08 L1863.02 1538.97 L1858.09 1538.97 L1858.09 1547.12 L1853.43 1547.12 L1853.43 1538.97 L1837.83 1538.97 L1837.83 1534.46 L1852.21 1512.56 Z\" fill=\"#000000\" fill-rule=\"evenodd\" fill-opacity=\"1\" /><path clip-path=\"url(#clip160)\" d=\"M 0 0 M1878.09 1515.64 Q1874.47 1515.64 1872.65 1519.2 Q1870.84 1522.75 1870.84 1529.87 Q1870.84 1536.98 1872.65 1540.55 Q1874.47 1544.09 1878.09 1544.09 Q1881.72 1544.09 1883.53 1540.55 Q1885.35 1536.98 1885.35 1529.87 Q1885.35 1522.75 1883.53 1519.2 Q1881.72 1515.64 1878.09 1515.64 M1878.09 1511.93 Q1883.9 1511.93 1886.95 1516.54 Q1890.03 1521.12 1890.03 1529.87 Q1890.03 1538.6 1886.95 1543.21 Q1883.9 1547.79 1878.09 1547.79 Q1872.28 1547.79 1869.2 1543.21 Q1866.14 1538.6 1866.14 1529.87 Q1866.14 1521.12 1869.2 1516.54 Q1872.28 1511.93 1878.09 1511.93 Z\" fill=\"#000000\" fill-rule=\"evenodd\" fill-opacity=\"1\" /><path clip-path=\"url(#clip160)\" d=\"M 0 0 M2266.88 1512.56 L2285.24 1512.56 L2285.24 1516.5 L2271.16 1516.5 L2271.16 1524.97 Q2272.18 1524.62 2273.2 1524.46 Q2274.22 1524.27 2275.24 1524.27 Q2281.02 1524.27 2284.4 1527.44 Q2287.78 1530.62 2287.78 1536.03 Q2287.78 1541.61 2284.31 1544.71 Q2280.84 1547.79 2274.52 1547.79 Q2272.34 1547.79 2270.07 1547.42 Q2267.83 1547.05 2265.42 1546.31 L2265.42 1541.61 Q2267.5 1542.74 2269.73 1543.3 Q2271.95 1543.86 2274.43 1543.86 Q2278.43 1543.86 2280.77 1541.75 Q2283.11 1539.64 2283.11 1536.03 Q2283.11 1532.42 2280.77 1530.31 Q2278.43 1528.21 2274.43 1528.21 Q2272.55 1528.21 2270.68 1528.62 Q2268.82 1529.04 2266.88 1529.92 L2266.88 1512.56 Z\" fill=\"#000000\" fill-rule=\"evenodd\" fill-opacity=\"1\" /><path clip-path=\"url(#clip160)\" d=\"M 0 0 M2302.85 1515.64 Q2299.24 1515.64 2297.41 1519.2 Q2295.61 1522.75 2295.61 1529.87 Q2295.61 1536.98 2297.41 1540.55 Q2299.24 1544.09 2302.85 1544.09 Q2306.49 1544.09 2308.29 1540.55 Q2310.12 1536.98 2310.12 1529.87 Q2310.12 1522.75 2308.29 1519.2 Q2306.49 1515.64 2302.85 1515.64 M2302.85 1511.93 Q2308.66 1511.93 2311.72 1516.54 Q2314.8 1521.12 2314.8 1529.87 Q2314.8 1538.6 2311.72 1543.21 Q2308.66 1547.79 2302.85 1547.79 Q2297.04 1547.79 2293.96 1543.21 Q2290.91 1538.6 2290.91 1529.87 Q2290.91 1521.12 2293.96 1516.54 Q2297.04 1511.93 2302.85 1511.93 Z\" fill=\"#000000\" fill-rule=\"evenodd\" fill-opacity=\"1\" /><polyline clip-path=\"url(#clip162)\" style=\"stroke:#000000; stroke-width:2; stroke-opacity:0.1; fill:none\" points=\"\n",
       "  139.191,1445.72 2352.76,1445.72 \n",
       "  \"/>\n",
       "<polyline clip-path=\"url(#clip162)\" style=\"stroke:#000000; stroke-width:2; stroke-opacity:0.1; fill:none\" points=\"\n",
       "  139.191,1083.65 2352.76,1083.65 \n",
       "  \"/>\n",
       "<polyline clip-path=\"url(#clip162)\" style=\"stroke:#000000; stroke-width:2; stroke-opacity:0.1; fill:none\" points=\"\n",
       "  139.191,721.588 2352.76,721.588 \n",
       "  \"/>\n",
       "<polyline clip-path=\"url(#clip162)\" style=\"stroke:#000000; stroke-width:2; stroke-opacity:0.1; fill:none\" points=\"\n",
       "  139.191,359.524 2352.76,359.524 \n",
       "  \"/>\n",
       "<polyline clip-path=\"url(#clip160)\" style=\"stroke:#000000; stroke-width:4; stroke-opacity:1; fill:none\" points=\"\n",
       "  139.191,1486.45 139.191,47.2441 \n",
       "  \"/>\n",
       "<polyline clip-path=\"url(#clip160)\" style=\"stroke:#000000; stroke-width:4; stroke-opacity:1; fill:none\" points=\"\n",
       "  139.191,1445.72 165.754,1445.72 \n",
       "  \"/>\n",
       "<polyline clip-path=\"url(#clip160)\" style=\"stroke:#000000; stroke-width:4; stroke-opacity:1; fill:none\" points=\"\n",
       "  139.191,1083.65 165.754,1083.65 \n",
       "  \"/>\n",
       "<polyline clip-path=\"url(#clip160)\" style=\"stroke:#000000; stroke-width:4; stroke-opacity:1; fill:none\" points=\"\n",
       "  139.191,721.588 165.754,721.588 \n",
       "  \"/>\n",
       "<polyline clip-path=\"url(#clip160)\" style=\"stroke:#000000; stroke-width:4; stroke-opacity:1; fill:none\" points=\"\n",
       "  139.191,359.524 165.754,359.524 \n",
       "  \"/>\n",
       "<path clip-path=\"url(#clip160)\" d=\"M 0 0 M91.2465 1431.51 Q87.6354 1431.51 85.8068 1435.08 Q84.0012 1438.62 84.0012 1445.75 Q84.0012 1452.86 85.8068 1456.42 Q87.6354 1459.96 91.2465 1459.96 Q94.8808 1459.96 96.6863 1456.42 Q98.515 1452.86 98.515 1445.75 Q98.515 1438.62 96.6863 1435.08 Q94.8808 1431.51 91.2465 1431.51 M91.2465 1427.81 Q97.0567 1427.81 100.112 1432.42 Q103.191 1437 103.191 1445.75 Q103.191 1454.48 100.112 1459.08 Q97.0567 1463.67 91.2465 1463.67 Q85.4364 1463.67 82.3577 1459.08 Q79.3022 1454.48 79.3022 1445.75 Q79.3022 1437 82.3577 1432.42 Q85.4364 1427.81 91.2465 1427.81 Z\" fill=\"#000000\" fill-rule=\"evenodd\" fill-opacity=\"1\" /><path clip-path=\"url(#clip160)\" d=\"M 0 0 M59.8578 1097 L76.1772 1097 L76.1772 1100.93 L54.2328 1100.93 L54.2328 1097 Q56.8949 1094.24 61.4782 1089.61 Q66.0846 1084.96 67.2652 1083.62 Q69.5105 1081.09 70.3902 1079.36 Q71.2929 1077.6 71.2929 1075.91 Q71.2929 1073.15 69.3485 1071.42 Q67.4272 1069.68 64.3254 1069.68 Q62.1263 1069.68 59.6726 1070.45 Q57.2421 1071.21 54.4643 1072.76 L54.4643 1068.04 Q57.2884 1066.9 59.7421 1066.33 Q62.1958 1065.75 64.2328 1065.75 Q69.6031 1065.75 72.7976 1068.43 Q75.992 1071.12 75.992 1075.61 Q75.992 1077.74 75.1818 1079.66 Q74.3948 1081.56 72.2883 1084.15 Q71.7096 1084.82 68.6078 1088.04 Q65.5059 1091.23 59.8578 1097 Z\" fill=\"#000000\" fill-rule=\"evenodd\" fill-opacity=\"1\" /><path clip-path=\"url(#clip160)\" d=\"M 0 0 M91.2465 1069.45 Q87.6354 1069.45 85.8068 1073.02 Q84.0012 1076.56 84.0012 1083.69 Q84.0012 1090.79 85.8068 1094.36 Q87.6354 1097.9 91.2465 1097.9 Q94.8808 1097.9 96.6863 1094.36 Q98.515 1090.79 98.515 1083.69 Q98.515 1076.56 96.6863 1073.02 Q94.8808 1069.45 91.2465 1069.45 M91.2465 1065.75 Q97.0567 1065.75 100.112 1070.35 Q103.191 1074.94 103.191 1083.69 Q103.191 1092.41 100.112 1097.02 Q97.0567 1101.6 91.2465 1101.6 Q85.4364 1101.6 82.3577 1097.02 Q79.3022 1092.41 79.3022 1083.69 Q79.3022 1074.94 82.3577 1070.35 Q85.4364 1065.75 91.2465 1065.75 Z\" fill=\"#000000\" fill-rule=\"evenodd\" fill-opacity=\"1\" /><path clip-path=\"url(#clip160)\" d=\"M 0 0 M66.5939 708.382 L54.7884 726.831 L66.5939 726.831 L66.5939 708.382 M65.367 704.308 L71.2466 704.308 L71.2466 726.831 L76.1772 726.831 L76.1772 730.72 L71.2466 730.72 L71.2466 738.868 L66.5939 738.868 L66.5939 730.72 L50.9921 730.72 L50.9921 726.206 L65.367 704.308 Z\" fill=\"#000000\" fill-rule=\"evenodd\" fill-opacity=\"1\" /><path clip-path=\"url(#clip160)\" d=\"M 0 0 M91.2465 707.387 Q87.6354 707.387 85.8068 710.951 Q84.0012 714.493 84.0012 721.623 Q84.0012 728.729 85.8068 732.294 Q87.6354 735.836 91.2465 735.836 Q94.8808 735.836 96.6863 732.294 Q98.515 728.729 98.515 721.623 Q98.515 714.493 96.6863 710.951 Q94.8808 707.387 91.2465 707.387 M91.2465 703.683 Q97.0567 703.683 100.112 708.289 Q103.191 712.873 103.191 721.623 Q103.191 730.35 100.112 734.956 Q97.0567 739.539 91.2465 739.539 Q85.4364 739.539 82.3577 734.956 Q79.3022 730.35 79.3022 721.623 Q79.3022 712.873 82.3577 708.289 Q85.4364 703.683 91.2465 703.683 Z\" fill=\"#000000\" fill-rule=\"evenodd\" fill-opacity=\"1\" /><path clip-path=\"url(#clip160)\" d=\"M 0 0 M64.6495 357.661 Q61.5013 357.661 59.6495 359.814 Q57.8208 361.966 57.8208 365.716 Q57.8208 369.443 59.6495 371.619 Q61.5013 373.772 64.6495 373.772 Q67.7976 373.772 69.6263 371.619 Q71.4781 369.443 71.4781 365.716 Q71.4781 361.966 69.6263 359.814 Q67.7976 357.661 64.6495 357.661 M73.9318 343.008 L73.9318 347.267 Q72.1726 346.434 70.367 345.994 Q68.5846 345.554 66.8254 345.554 Q62.1958 345.554 59.7421 348.679 Q57.3115 351.804 56.9643 358.124 Q58.33 356.11 60.3902 355.045 Q62.4504 353.957 64.9272 353.957 Q70.1355 353.957 73.1448 357.128 Q76.1772 360.276 76.1772 365.716 Q76.1772 371.04 73.029 374.258 Q69.8809 377.475 64.6495 377.475 Q58.6541 377.475 55.4828 372.892 Q52.3116 368.286 52.3116 359.559 Q52.3116 351.364 56.2004 346.503 Q60.0893 341.619 66.6402 341.619 Q68.3994 341.619 70.1818 341.966 Q71.9874 342.314 73.9318 343.008 Z\" fill=\"#000000\" fill-rule=\"evenodd\" fill-opacity=\"1\" /><path clip-path=\"url(#clip160)\" d=\"M 0 0 M91.2465 345.323 Q87.6354 345.323 85.8068 348.888 Q84.0012 352.429 84.0012 359.559 Q84.0012 366.665 85.8068 370.23 Q87.6354 373.772 91.2465 373.772 Q94.8808 373.772 96.6863 370.23 Q98.515 366.665 98.515 359.559 Q98.515 352.429 96.6863 348.888 Q94.8808 345.323 91.2465 345.323 M91.2465 341.619 Q97.0567 341.619 100.112 346.226 Q103.191 350.809 103.191 359.559 Q103.191 368.286 100.112 372.892 Q97.0567 377.475 91.2465 377.475 Q85.4364 377.475 82.3577 372.892 Q79.3022 368.286 79.3022 359.559 Q79.3022 350.809 82.3577 346.226 Q85.4364 341.619 91.2465 341.619 Z\" fill=\"#000000\" fill-rule=\"evenodd\" fill-opacity=\"1\" /><polyline clip-path=\"url(#clip162)\" style=\"stroke:#009af9; stroke-width:4; stroke-opacity:1; fill:none\" points=\"\n",
       "  201.839,1300.89 244.457,1337.1 287.074,1409.51 329.692,1391.41 372.31,1409.51 414.928,1427.61 457.545,1445.72 500.163,1427.61 542.781,1409.51 585.399,1409.51 \n",
       "  628.016,1409.51 670.634,1409.51 713.252,1409.51 755.869,1409.51 798.487,1373.3 841.105,1373.3 883.723,1355.2 926.34,1318.99 968.958,1300.89 1011.58,1264.68 \n",
       "  1054.19,1174.17 1096.81,1156.06 1139.43,1192.27 1182.05,1264.68 1224.66,1264.68 1267.28,1264.68 1309.9,1210.37 1352.52,1228.48 1395.14,1282.79 1437.75,1264.68 \n",
       "  1480.37,1337.1 1522.99,1355.2 1565.61,1337.1 1608.22,1373.3 1650.84,1337.1 1693.46,1355.2 1736.08,1318.99 1778.7,1264.68 1821.31,1246.58 1863.93,1210.37 \n",
       "  1906.55,1174.17 1949.17,1101.76 1991.78,1065.55 2034.4,1192.27 2077.02,1246.58 2119.64,1282.79 2162.25,1246.58 2204.87,1210.37 2247.49,1264.68 2290.11,1318.99 \n",
       "  \n",
       "  \"/>\n",
       "<polyline clip-path=\"url(#clip162)\" style=\"stroke:#e26f46; stroke-width:4; stroke-opacity:1; fill:none\" points=\"\n",
       "  201.839,1228.48 244.457,1246.58 287.074,1119.86 329.692,1210.37 372.31,1156.06 414.928,1137.96 457.545,993.136 500.163,1011.24 542.781,1083.65 585.399,1011.24 \n",
       "  628.016,1119.86 670.634,1156.06 713.252,1210.37 755.869,1156.06 798.487,1119.86 841.105,1137.96 883.723,1101.76 926.34,1065.55 968.958,884.517 1011.58,1047.45 \n",
       "  1054.19,1083.65 1096.81,1047.45 1139.43,866.414 1182.05,956.93 1224.66,956.93 1267.28,1119.86 1309.9,993.136 1352.52,902.62 1395.14,1065.55 1437.75,938.826 \n",
       "  1480.37,1011.24 1522.99,993.136 1565.61,1083.65 1608.22,1119.86 1650.84,902.62 1693.46,884.517 1736.08,1192.27 1778.7,1065.55 1821.31,993.136 1863.93,938.826 \n",
       "  1906.55,1137.96 1949.17,1156.06 1991.78,1065.55 2034.4,938.826 2077.02,902.62 2119.64,830.207 2162.25,1119.86 2204.87,1011.24 2247.49,830.207 2290.11,1083.65 \n",
       "  \n",
       "  \"/>\n",
       "<polyline clip-path=\"url(#clip162)\" style=\"stroke:#3da44d; stroke-width:4; stroke-opacity:1; fill:none\" points=\"\n",
       "  201.839,594.866 244.457,1029.34 287.074,1337.1 329.692,1445.72 372.31,1427.61 414.928,1427.61 457.545,1391.41 500.163,1409.51 542.781,1409.51 585.399,1373.3 \n",
       "  628.016,1355.2 670.634,1373.3 713.252,1409.51 755.869,1445.72 798.487,1445.72 841.105,1427.61 883.723,1445.72 926.34,1445.72 968.958,1445.72 1011.58,1445.72 \n",
       "  1054.19,1445.72 1096.81,1445.72 1139.43,1445.72 1182.05,1427.61 1224.66,1409.51 1267.28,1409.51 1309.9,1409.51 1352.52,1409.51 1395.14,1391.41 1437.75,1409.51 \n",
       "  1480.37,1409.51 1522.99,1409.51 1565.61,1409.51 1608.22,1445.72 1650.84,1445.72 1693.46,1445.72 1736.08,1445.72 1778.7,1445.72 1821.31,1445.72 1863.93,1445.72 \n",
       "  1906.55,1445.72 1949.17,1445.72 1991.78,1427.61 2034.4,1409.51 2077.02,1445.72 2119.64,1445.72 2162.25,1445.72 2204.87,1409.51 2247.49,1409.51 2290.11,1445.72 \n",
       "  \n",
       "  \"/>\n",
       "<polyline clip-path=\"url(#clip162)\" style=\"stroke:#c271d2; stroke-width:4; stroke-opacity:1; fill:none\" points=\"\n",
       "  201.839,87.9763 244.457,721.588 287.074,1156.06 329.692,1192.27 372.31,1228.48 414.928,1282.79 457.545,1373.3 500.163,1355.2 542.781,1373.3 585.399,1391.41 \n",
       "  628.016,1373.3 670.634,1337.1 713.252,1264.68 755.869,1246.58 798.487,1264.68 841.105,1264.68 883.723,1264.68 926.34,1355.2 968.958,1427.61 1011.58,1445.72 \n",
       "  1054.19,1445.72 1096.81,1427.61 1139.43,1409.51 1182.05,1373.3 1224.66,1427.61 1267.28,1409.51 1309.9,1427.61 1352.52,1445.72 1395.14,1445.72 1437.75,1427.61 \n",
       "  1480.37,1427.61 1522.99,1445.72 1565.61,1445.72 1608.22,1409.51 1650.84,1427.61 1693.46,1409.51 1736.08,1427.61 1778.7,1427.61 1821.31,1427.61 1863.93,1427.61 \n",
       "  1906.55,1427.61 1949.17,1409.51 1991.78,1373.3 2034.4,1427.61 2077.02,1427.61 2119.64,1427.61 2162.25,1427.61 2204.87,1409.51 2247.49,1427.61 2290.11,1391.41 \n",
       "  \n",
       "  \"/>\n",
       "<path clip-path=\"url(#clip160)\" d=\"\n",
       "M1694.76 397.618 L2278.97 397.618 L2278.97 95.2176 L1694.76 95.2176  Z\n",
       "  \" fill=\"#ffffff\" fill-rule=\"evenodd\" fill-opacity=\"1\"/>\n",
       "<polyline clip-path=\"url(#clip160)\" style=\"stroke:#000000; stroke-width:4; stroke-opacity:1; fill:none\" points=\"\n",
       "  1694.76,397.618 2278.97,397.618 2278.97,95.2176 1694.76,95.2176 1694.76,397.618 \n",
       "  \"/>\n",
       "<polyline clip-path=\"url(#clip160)\" style=\"stroke:#009af9; stroke-width:4; stroke-opacity:1; fill:none\" points=\"\n",
       "  1719.35,155.698 1866.92,155.698 \n",
       "  \"/>\n",
       "<path clip-path=\"url(#clip160)\" d=\"M 0 0 M1910.43 159.714 Q1910.43 155.084 1908.51 152.538 Q1906.61 149.992 1903.16 149.992 Q1899.74 149.992 1897.81 152.538 Q1895.92 155.084 1895.92 159.714 Q1895.92 164.32 1897.81 166.866 Q1899.74 169.413 1903.16 169.413 Q1906.61 169.413 1908.51 166.866 Q1910.43 164.32 1910.43 159.714 M1914.69 169.76 Q1914.69 176.38 1911.75 179.598 Q1908.81 182.839 1902.74 182.839 Q1900.5 182.839 1898.51 182.491 Q1896.52 182.167 1894.64 181.473 L1894.64 177.329 Q1896.52 178.348 1898.35 178.834 Q1900.18 179.32 1902.07 179.32 Q1906.26 179.32 1908.35 177.121 Q1910.43 174.945 1910.43 170.524 L1910.43 168.417 Q1909.11 170.709 1907.05 171.843 Q1904.99 172.978 1902.12 172.978 Q1897.35 172.978 1894.43 169.343 Q1891.52 165.709 1891.52 159.714 Q1891.52 153.695 1894.43 150.061 Q1897.35 146.427 1902.12 146.427 Q1904.99 146.427 1907.05 147.561 Q1909.11 148.695 1910.43 150.987 L1910.43 147.052 L1914.69 147.052 L1914.69 169.76 Z\" fill=\"#000000\" fill-rule=\"evenodd\" fill-opacity=\"1\" /><path clip-path=\"url(#clip160)\" d=\"M 0 0 M1929.2 150.038 Q1925.78 150.038 1923.79 152.723 Q1921.8 155.385 1921.8 160.038 Q1921.8 164.691 1923.76 167.376 Q1925.75 170.038 1929.2 170.038 Q1932.61 170.038 1934.6 167.353 Q1936.59 164.667 1936.59 160.038 Q1936.59 155.431 1934.6 152.746 Q1932.61 150.038 1929.2 150.038 M1929.2 146.427 Q1934.76 146.427 1937.93 150.038 Q1941.1 153.649 1941.1 160.038 Q1941.1 166.404 1937.93 170.038 Q1934.76 173.649 1929.2 173.649 Q1923.62 173.649 1920.45 170.038 Q1917.3 166.404 1917.3 160.038 Q1917.3 153.649 1920.45 150.038 Q1923.62 146.427 1929.2 146.427 Z\" fill=\"#000000\" fill-rule=\"evenodd\" fill-opacity=\"1\" /><path clip-path=\"url(#clip160)\" d=\"M 0 0 M1945.71 136.959 L1949.97 136.959 L1949.97 150.894 L1952.86 148.811 L1954.62 151.265 L1949.97 154.529 L1949.97 172.978 L1945.71 172.978 L1945.71 157.561 L1942.86 159.598 L1941.15 157.144 L1945.71 153.88 L1945.71 136.959 Z\" fill=\"#000000\" fill-rule=\"evenodd\" fill-opacity=\"1\" /><path clip-path=\"url(#clip160)\" d=\"M 0 0 M1981.26 158.95 L1981.26 161.033 L1961.68 161.033 Q1961.96 165.431 1964.32 167.746 Q1966.7 170.038 1970.94 170.038 Q1973.39 170.038 1975.68 169.436 Q1978 168.834 1980.27 167.63 L1980.27 171.658 Q1977.98 172.63 1975.57 173.14 Q1973.16 173.649 1970.68 173.649 Q1964.48 173.649 1960.85 170.038 Q1957.24 166.427 1957.24 160.269 Q1957.24 153.904 1960.66 150.177 Q1964.11 146.427 1969.94 146.427 Q1975.17 146.427 1978.21 149.806 Q1981.26 153.163 1981.26 158.95 M1977 157.7 Q1976.96 154.205 1975.04 152.121 Q1973.14 150.038 1969.99 150.038 Q1966.43 150.038 1964.27 152.052 Q1962.14 154.066 1961.82 157.723 L1977 157.7 M1973.51 172.978 L1976.26 172.978 Q1975.22 174.39 1974.71 175.408 Q1974.23 176.427 1974.23 177.144 Q1974.23 178.209 1974.85 178.741 Q1975.5 179.274 1976.75 179.274 Q1977.49 179.274 1978.21 179.089 Q1978.92 178.927 1979.64 178.579 L1979.64 181.658 Q1978.76 181.89 1977.98 182.005 Q1977.19 182.121 1976.49 182.121 Q1973.67 182.121 1972.33 181.103 Q1971.01 180.107 1971.01 177.954 Q1971.01 176.843 1971.61 175.616 Q1972.24 174.413 1973.51 172.978 Z\" fill=\"#000000\" fill-rule=\"evenodd\" fill-opacity=\"1\" /><path clip-path=\"url(#clip160)\" d=\"M 0 0 M2004.34 160.038 Q2004.34 155.339 2002.4 152.677 Q2000.48 149.992 1997.1 149.992 Q1993.72 149.992 1991.77 152.677 Q1989.85 155.339 1989.85 160.038 Q1989.85 164.737 1991.77 167.422 Q1993.72 170.084 1997.1 170.084 Q2000.48 170.084 2002.4 167.422 Q2004.34 164.737 2004.34 160.038 M1989.85 150.987 Q1991.19 148.672 1993.23 147.561 Q1995.29 146.427 1998.14 146.427 Q2002.86 146.427 2005.8 150.177 Q2008.76 153.927 2008.76 160.038 Q2008.76 166.149 2005.8 169.899 Q2002.86 173.649 1998.14 173.649 Q1995.29 173.649 1993.23 172.538 Q1991.19 171.403 1989.85 169.089 L1989.85 172.978 L1985.57 172.978 L1985.57 136.959 L1989.85 136.959 L1989.85 150.987 Z\" fill=\"#000000\" fill-rule=\"evenodd\" fill-opacity=\"1\" /><path clip-path=\"url(#clip160)\" d=\"M 0 0 M2013.23 147.052 L2017.49 147.052 L2017.49 172.978 L2013.23 172.978 L2013.23 147.052 M2013.23 136.959 L2017.49 136.959 L2017.49 142.353 L2013.23 142.353 L2013.23 136.959 Z\" fill=\"#000000\" fill-rule=\"evenodd\" fill-opacity=\"1\" /><path clip-path=\"url(#clip160)\" d=\"M 0 0 M2044.13 158.95 L2044.13 161.033 L2024.55 161.033 Q2024.83 165.431 2027.19 167.746 Q2029.57 170.038 2033.81 170.038 Q2036.26 170.038 2038.55 169.436 Q2040.87 168.834 2043.14 167.63 L2043.14 171.658 Q2040.85 172.63 2038.44 173.14 Q2036.03 173.649 2033.55 173.649 Q2027.35 173.649 2023.72 170.038 Q2020.11 166.427 2020.11 160.269 Q2020.11 153.904 2023.53 150.177 Q2026.98 146.427 2032.81 146.427 Q2038.04 146.427 2041.08 149.806 Q2044.13 153.163 2044.13 158.95 M2039.87 157.7 Q2039.83 154.205 2037.91 152.121 Q2036.01 150.038 2032.86 150.038 Q2029.3 150.038 2027.14 152.052 Q2025.01 154.066 2024.69 157.723 L2039.87 157.7 Z\" fill=\"#000000\" fill-rule=\"evenodd\" fill-opacity=\"1\" /><polyline clip-path=\"url(#clip160)\" style=\"stroke:#e26f46; stroke-width:4; stroke-opacity:1; fill:none\" points=\"\n",
       "  1719.35,216.178 1866.92,216.178 \n",
       "  \"/>\n",
       "<path clip-path=\"url(#clip160)\" d=\"M 0 0 M1896.84 207.532 L1901.1 207.532 L1901.1 233.921 Q1901.1 238.874 1899.2 241.096 Q1897.33 243.319 1893.14 243.319 L1891.52 243.319 L1891.52 239.708 L1892.65 239.708 Q1895.08 239.708 1895.96 238.573 Q1896.84 237.462 1896.84 233.921 L1896.84 207.532 M1896.84 197.439 L1901.1 197.439 L1901.1 202.833 L1896.84 202.833 L1896.84 197.439 Z\" fill=\"#000000\" fill-rule=\"evenodd\" fill-opacity=\"1\" /><path clip-path=\"url(#clip160)\" d=\"M 0 0 M1917.35 220.425 Q1912.19 220.425 1910.2 221.606 Q1908.21 222.786 1908.21 225.634 Q1908.21 227.902 1909.69 229.245 Q1911.19 230.564 1913.76 230.564 Q1917.3 230.564 1919.43 228.064 Q1921.59 225.541 1921.59 221.374 L1921.59 220.425 L1917.35 220.425 M1925.85 218.666 L1925.85 233.458 L1921.59 233.458 L1921.59 229.522 Q1920.13 231.883 1917.95 233.018 Q1915.78 234.129 1912.63 234.129 Q1908.65 234.129 1906.29 231.907 Q1903.95 229.661 1903.95 225.911 Q1903.95 221.536 1906.87 219.314 Q1909.8 217.092 1915.62 217.092 L1921.59 217.092 L1921.59 216.675 Q1921.59 213.735 1919.64 212.138 Q1917.72 210.518 1914.23 210.518 Q1912 210.518 1909.9 211.05 Q1907.79 211.583 1905.85 212.647 L1905.85 208.712 Q1908.18 207.81 1910.38 207.37 Q1912.58 206.907 1914.67 206.907 Q1920.29 206.907 1923.07 209.823 Q1925.85 212.74 1925.85 218.666 Z\" fill=\"#000000\" fill-rule=\"evenodd\" fill-opacity=\"1\" /><path clip-path=\"url(#clip160)\" d=\"M 0 0 M1946.84 208.296 L1946.84 212.323 Q1945.04 211.397 1943.09 210.935 Q1941.15 210.472 1939.06 210.472 Q1935.89 210.472 1934.3 211.444 Q1932.72 212.416 1932.72 214.36 Q1932.72 215.842 1933.86 216.698 Q1934.99 217.532 1938.42 218.296 L1939.87 218.62 Q1944.41 219.592 1946.31 221.374 Q1948.23 223.134 1948.23 226.305 Q1948.23 229.916 1945.36 232.022 Q1942.51 234.129 1937.51 234.129 Q1935.43 234.129 1933.16 233.712 Q1930.92 233.319 1928.42 232.508 L1928.42 228.11 Q1930.78 229.337 1933.07 229.962 Q1935.36 230.564 1937.61 230.564 Q1940.61 230.564 1942.24 229.546 Q1943.86 228.504 1943.86 226.629 Q1943.86 224.893 1942.68 223.967 Q1941.52 223.041 1937.56 222.184 L1936.08 221.837 Q1932.12 221.004 1930.36 219.291 Q1928.6 217.555 1928.6 214.546 Q1928.6 210.888 1931.19 208.898 Q1933.79 206.907 1938.55 206.907 Q1940.92 206.907 1943 207.254 Q1945.08 207.601 1946.84 208.296 Z\" fill=\"#000000\" fill-rule=\"evenodd\" fill-opacity=\"1\" /><path clip-path=\"url(#clip160)\" d=\"M 0 0 M1956.91 200.171 L1956.91 207.532 L1965.68 207.532 L1965.68 210.842 L1956.91 210.842 L1956.91 224.916 Q1956.91 228.087 1957.77 228.99 Q1958.65 229.893 1961.31 229.893 L1965.68 229.893 L1965.68 233.458 L1961.31 233.458 Q1956.38 233.458 1954.5 231.629 Q1952.63 229.777 1952.63 224.916 L1952.63 210.842 L1949.5 210.842 L1949.5 207.532 L1952.63 207.532 L1952.63 200.171 L1956.91 200.171 Z\" fill=\"#000000\" fill-rule=\"evenodd\" fill-opacity=\"1\" /><path clip-path=\"url(#clip160)\" d=\"M 0 0 M1985.17 211.513 Q1984.46 211.097 1983.6 210.911 Q1982.77 210.703 1981.75 210.703 Q1978.14 210.703 1976.19 213.064 Q1974.27 215.402 1974.27 219.8 L1974.27 233.458 L1969.99 233.458 L1969.99 207.532 L1974.27 207.532 L1974.27 211.56 Q1975.61 209.198 1977.77 208.064 Q1979.92 206.907 1983 206.907 Q1983.44 206.907 1983.97 206.976 Q1984.5 207.023 1985.15 207.138 L1985.17 211.513 Z\" fill=\"#000000\" fill-rule=\"evenodd\" fill-opacity=\"1\" /><path clip-path=\"url(#clip160)\" d=\"M 0 0 M1987.79 207.532 L2008.02 207.532 L2008.02 211.421 L1992 230.055 L2008.02 230.055 L2008.02 233.458 L1987.21 233.458 L1987.21 229.569 L2003.23 210.935 L1987.79 210.935 L1987.79 207.532 Z\" fill=\"#000000\" fill-rule=\"evenodd\" fill-opacity=\"1\" /><path clip-path=\"url(#clip160)\" d=\"M 0 0 M2034.67 219.43 L2034.67 221.513 L2015.08 221.513 Q2015.36 225.911 2017.72 228.226 Q2020.11 230.518 2024.34 230.518 Q2026.8 230.518 2029.09 229.916 Q2031.4 229.314 2033.67 228.11 L2033.67 232.138 Q2031.38 233.11 2028.97 233.62 Q2026.56 234.129 2024.09 234.129 Q2017.88 234.129 2014.25 230.518 Q2010.64 226.907 2010.64 220.749 Q2010.64 214.384 2014.06 210.657 Q2017.51 206.907 2023.35 206.907 Q2028.58 206.907 2031.61 210.286 Q2034.67 213.643 2034.67 219.43 M2030.41 218.18 Q2030.36 214.685 2028.44 212.601 Q2026.54 210.518 2023.39 210.518 Q2019.83 210.518 2017.67 212.532 Q2015.55 214.546 2015.22 218.203 L2030.41 218.18 M2026.91 233.458 L2029.67 233.458 Q2028.62 234.87 2028.11 235.888 Q2027.63 236.907 2027.63 237.624 Q2027.63 238.689 2028.25 239.221 Q2028.9 239.754 2030.15 239.754 Q2030.89 239.754 2031.61 239.569 Q2032.33 239.407 2033.05 239.059 L2033.05 242.138 Q2032.17 242.37 2031.38 242.485 Q2030.59 242.601 2029.9 242.601 Q2027.07 242.601 2025.73 241.583 Q2024.41 240.587 2024.41 238.434 Q2024.41 237.323 2025.01 236.096 Q2025.64 234.893 2026.91 233.458 Z\" fill=\"#000000\" fill-rule=\"evenodd\" fill-opacity=\"1\" /><path clip-path=\"url(#clip160)\" d=\"M 0 0 M2057.74 220.518 Q2057.74 215.819 2055.8 213.157 Q2053.88 210.472 2050.5 210.472 Q2047.12 210.472 2045.17 213.157 Q2043.25 215.819 2043.25 220.518 Q2043.25 225.217 2045.17 227.902 Q2047.12 230.564 2050.5 230.564 Q2053.88 230.564 2055.8 227.902 Q2057.74 225.217 2057.74 220.518 M2043.25 211.467 Q2044.6 209.152 2046.63 208.041 Q2048.69 206.907 2051.54 206.907 Q2056.26 206.907 2059.2 210.657 Q2062.17 214.407 2062.17 220.518 Q2062.17 226.629 2059.2 230.379 Q2056.26 234.129 2051.54 234.129 Q2048.69 234.129 2046.63 233.018 Q2044.6 231.883 2043.25 229.569 L2043.25 233.458 L2038.97 233.458 L2038.97 197.439 L2043.25 197.439 L2043.25 211.467 Z\" fill=\"#000000\" fill-rule=\"evenodd\" fill-opacity=\"1\" /><path clip-path=\"url(#clip160)\" d=\"M 0 0 M2066.63 207.532 L2070.89 207.532 L2070.89 233.458 L2066.63 233.458 L2066.63 207.532 M2066.63 197.439 L2070.89 197.439 L2070.89 202.833 L2066.63 202.833 L2066.63 197.439 Z\" fill=\"#000000\" fill-rule=\"evenodd\" fill-opacity=\"1\" /><path clip-path=\"url(#clip160)\" d=\"M 0 0 M2097.54 219.43 L2097.54 221.513 L2077.95 221.513 Q2078.23 225.911 2080.59 228.226 Q2082.98 230.518 2087.21 230.518 Q2089.67 230.518 2091.96 229.916 Q2094.27 229.314 2096.54 228.11 L2096.54 232.138 Q2094.25 233.11 2091.84 233.62 Q2089.43 234.129 2086.96 234.129 Q2080.75 234.129 2077.12 230.518 Q2073.51 226.907 2073.51 220.749 Q2073.51 214.384 2076.93 210.657 Q2080.38 206.907 2086.22 206.907 Q2091.45 206.907 2094.48 210.286 Q2097.54 213.643 2097.54 219.43 M2093.28 218.18 Q2093.23 214.685 2091.31 212.601 Q2089.41 210.518 2086.26 210.518 Q2082.7 210.518 2080.54 212.532 Q2078.42 214.546 2078.09 218.203 L2093.28 218.18 Z\" fill=\"#000000\" fill-rule=\"evenodd\" fill-opacity=\"1\" /><polyline clip-path=\"url(#clip160)\" style=\"stroke:#3da44d; stroke-width:4; stroke-opacity:1; fill:none\" points=\"\n",
       "  1719.35,276.658 1866.92,276.658 \n",
       "  \"/>\n",
       "<path clip-path=\"url(#clip160)\" d=\"M 0 0 M1912.03 269.007 L1912.03 272.989 Q1910.22 271.993 1908.39 271.507 Q1906.59 270.998 1904.74 270.998 Q1900.59 270.998 1898.3 273.637 Q1896.01 276.252 1896.01 280.998 Q1896.01 285.743 1898.3 288.382 Q1900.59 290.998 1904.74 290.998 Q1906.59 290.998 1908.39 290.512 Q1910.22 290.002 1912.03 289.007 L1912.03 292.942 Q1910.24 293.776 1908.32 294.192 Q1906.43 294.609 1904.27 294.609 Q1898.42 294.609 1894.97 290.928 Q1891.52 287.248 1891.52 280.998 Q1891.52 274.655 1894.99 271.021 Q1898.49 267.387 1904.55 267.387 Q1906.52 267.387 1908.39 267.803 Q1910.27 268.197 1912.03 269.007 Z\" fill=\"#000000\" fill-rule=\"evenodd\" fill-opacity=\"1\" /><path clip-path=\"url(#clip160)\" d=\"M 0 0 M1938.05 278.289 L1938.05 293.938 L1933.79 293.938 L1933.79 278.428 Q1933.79 274.748 1932.35 272.919 Q1930.92 271.09 1928.05 271.09 Q1924.6 271.09 1922.61 273.29 Q1920.62 275.489 1920.62 279.285 L1920.62 293.938 L1916.33 293.938 L1916.33 257.919 L1920.62 257.919 L1920.62 272.04 Q1922.14 269.702 1924.2 268.544 Q1926.29 267.387 1928.99 267.387 Q1933.46 267.387 1935.75 270.165 Q1938.05 272.919 1938.05 278.289 Z\" fill=\"#000000\" fill-rule=\"evenodd\" fill-opacity=\"1\" /><path clip-path=\"url(#clip160)\" d=\"M 0 0 M1952.56 270.998 Q1949.13 270.998 1947.14 273.683 Q1945.15 276.345 1945.15 280.998 Q1945.15 285.651 1947.12 288.336 Q1949.11 290.998 1952.56 290.998 Q1955.96 290.998 1957.95 288.313 Q1959.94 285.627 1959.94 280.998 Q1959.94 276.391 1957.95 273.706 Q1955.96 270.998 1952.56 270.998 M1952.56 267.387 Q1958.11 267.387 1961.29 270.998 Q1964.46 274.609 1964.46 280.998 Q1964.46 287.364 1961.29 290.998 Q1958.11 294.609 1952.56 294.609 Q1946.98 294.609 1943.81 290.998 Q1940.66 287.364 1940.66 280.998 Q1940.66 274.609 1943.81 270.998 Q1946.98 267.387 1952.56 267.387 Z\" fill=\"#000000\" fill-rule=\"evenodd\" fill-opacity=\"1\" /><path clip-path=\"url(#clip160)\" d=\"M 0 0 M1983.95 271.993 Q1983.23 271.577 1982.37 271.391 Q1981.54 271.183 1980.52 271.183 Q1976.91 271.183 1974.97 273.544 Q1973.05 275.882 1973.05 280.28 L1973.05 293.938 L1968.76 293.938 L1968.76 268.012 L1973.05 268.012 L1973.05 272.04 Q1974.39 269.678 1976.54 268.544 Q1978.69 267.387 1981.77 267.387 Q1982.21 267.387 1982.74 267.456 Q1983.28 267.503 1983.92 267.618 L1983.95 271.993 Z\" fill=\"#000000\" fill-rule=\"evenodd\" fill-opacity=\"1\" /><path clip-path=\"url(#clip160)\" d=\"M 0 0 M2009.55 279.91 L2009.55 281.993 L1989.97 281.993 Q1990.24 286.391 1992.61 288.706 Q1994.99 290.998 1999.23 290.998 Q2001.68 290.998 2003.97 290.396 Q2006.29 289.794 2008.55 288.59 L2008.55 292.618 Q2006.26 293.59 2003.86 294.1 Q2001.45 294.609 1998.97 294.609 Q1992.77 294.609 1989.13 290.998 Q1985.52 287.387 1985.52 281.229 Q1985.52 274.864 1988.95 271.137 Q1992.4 267.387 1998.23 267.387 Q2003.46 267.387 2006.49 270.766 Q2009.55 274.123 2009.55 279.91 M2005.29 278.66 Q2005.24 275.165 2003.32 273.081 Q2001.42 270.998 1998.28 270.998 Q1994.71 270.998 1992.56 273.012 Q1990.43 275.026 1990.11 278.683 L2005.29 278.66 Z\" fill=\"#000000\" fill-rule=\"evenodd\" fill-opacity=\"1\" /><path clip-path=\"url(#clip160)\" d=\"M 0 0 M2046.15 280.674 Q2046.15 276.044 2044.23 273.498 Q2042.33 270.952 2038.88 270.952 Q2035.45 270.952 2033.53 273.498 Q2031.63 276.044 2031.63 280.674 Q2031.63 285.28 2033.53 287.826 Q2035.45 290.373 2038.88 290.373 Q2042.33 290.373 2044.23 287.826 Q2046.15 285.28 2046.15 280.674 M2050.41 290.72 Q2050.41 297.34 2047.47 300.558 Q2044.53 303.799 2038.46 303.799 Q2036.22 303.799 2034.23 303.451 Q2032.23 303.127 2030.36 302.433 L2030.36 298.289 Q2032.23 299.308 2034.06 299.794 Q2035.89 300.28 2037.79 300.28 Q2041.98 300.28 2044.06 298.081 Q2046.15 295.905 2046.15 291.484 L2046.15 289.377 Q2044.83 291.669 2042.77 292.803 Q2040.71 293.938 2037.84 293.938 Q2033.07 293.938 2030.15 290.303 Q2027.23 286.669 2027.23 280.674 Q2027.23 274.655 2030.15 271.021 Q2033.07 267.387 2037.84 267.387 Q2040.71 267.387 2042.77 268.521 Q2044.83 269.655 2046.15 271.947 L2046.15 268.012 L2050.41 268.012 L2050.41 290.72 Z\" fill=\"#000000\" fill-rule=\"evenodd\" fill-opacity=\"1\" /><path clip-path=\"url(#clip160)\" d=\"M 0 0 M2064.92 270.998 Q2061.49 270.998 2059.5 273.683 Q2057.51 276.345 2057.51 280.998 Q2057.51 285.651 2059.48 288.336 Q2061.47 290.998 2064.92 290.998 Q2068.32 290.998 2070.31 288.313 Q2072.3 285.627 2072.3 280.998 Q2072.3 276.391 2070.31 273.706 Q2068.32 270.998 2064.92 270.998 M2064.92 267.387 Q2070.48 267.387 2073.65 270.998 Q2076.82 274.609 2076.82 280.998 Q2076.82 287.364 2073.65 290.998 Q2070.48 294.609 2064.92 294.609 Q2059.34 294.609 2056.17 290.998 Q2053.02 287.364 2053.02 280.998 Q2053.02 274.609 2056.17 270.998 Q2059.34 267.387 2064.92 267.387 Z\" fill=\"#000000\" fill-rule=\"evenodd\" fill-opacity=\"1\" /><path clip-path=\"url(#clip160)\" d=\"M 0 0 M2081.42 257.919 L2085.68 257.919 L2085.68 271.854 L2088.58 269.771 L2090.34 272.225 L2085.68 275.489 L2085.68 293.938 L2081.42 293.938 L2081.42 278.521 L2078.58 280.558 L2076.86 278.104 L2081.42 274.84 L2081.42 257.919 Z\" fill=\"#000000\" fill-rule=\"evenodd\" fill-opacity=\"1\" /><path clip-path=\"url(#clip160)\" d=\"M 0 0 M2116.98 279.91 L2116.98 281.993 L2097.4 281.993 Q2097.67 286.391 2100.04 288.706 Q2102.42 290.998 2106.66 290.998 Q2109.11 290.998 2111.4 290.396 Q2113.72 289.794 2115.98 288.59 L2115.98 292.618 Q2113.69 293.59 2111.29 294.1 Q2108.88 294.609 2106.4 294.609 Q2100.2 294.609 2096.56 290.998 Q2092.95 287.387 2092.95 281.229 Q2092.95 274.864 2096.38 271.137 Q2099.83 267.387 2105.66 267.387 Q2110.89 267.387 2113.92 270.766 Q2116.98 274.123 2116.98 279.91 M2112.72 278.66 Q2112.67 275.165 2110.75 273.081 Q2108.85 270.998 2105.71 270.998 Q2102.14 270.998 2099.99 273.012 Q2097.86 275.026 2097.54 278.683 L2112.72 278.66 M2109.23 293.938 L2111.98 293.938 Q2110.94 295.35 2110.43 296.368 Q2109.94 297.387 2109.94 298.104 Q2109.94 299.169 2110.57 299.701 Q2111.22 300.234 2112.47 300.234 Q2113.21 300.234 2113.92 300.049 Q2114.64 299.887 2115.36 299.539 L2115.36 302.618 Q2114.48 302.85 2113.69 302.965 Q2112.91 303.081 2112.21 303.081 Q2109.39 303.081 2108.04 302.063 Q2106.73 301.067 2106.73 298.914 Q2106.73 297.803 2107.33 296.576 Q2107.95 295.373 2109.23 293.938 Z\" fill=\"#000000\" fill-rule=\"evenodd\" fill-opacity=\"1\" /><path clip-path=\"url(#clip160)\" d=\"M 0 0 M2140.06 280.998 Q2140.06 276.299 2138.11 273.637 Q2136.19 270.952 2132.81 270.952 Q2129.43 270.952 2127.49 273.637 Q2125.57 276.299 2125.57 280.998 Q2125.57 285.697 2127.49 288.382 Q2129.43 291.044 2132.81 291.044 Q2136.19 291.044 2138.11 288.382 Q2140.06 285.697 2140.06 280.998 M2125.57 271.947 Q2126.91 269.632 2128.95 268.521 Q2131.01 267.387 2133.85 267.387 Q2138.58 267.387 2141.52 271.137 Q2144.48 274.887 2144.48 280.998 Q2144.48 287.109 2141.52 290.859 Q2138.58 294.609 2133.85 294.609 Q2131.01 294.609 2128.95 293.498 Q2126.91 292.363 2125.57 290.049 L2125.57 293.938 L2121.29 293.938 L2121.29 257.919 L2125.57 257.919 L2125.57 271.947 Z\" fill=\"#000000\" fill-rule=\"evenodd\" fill-opacity=\"1\" /><path clip-path=\"url(#clip160)\" d=\"M 0 0 M2148.95 268.012 L2153.21 268.012 L2153.21 293.938 L2148.95 293.938 L2148.95 268.012 M2148.95 257.919 L2153.21 257.919 L2153.21 263.313 L2148.95 263.313 L2148.95 257.919 Z\" fill=\"#000000\" fill-rule=\"evenodd\" fill-opacity=\"1\" /><path clip-path=\"url(#clip160)\" d=\"M 0 0 M2179.85 279.91 L2179.85 281.993 L2160.27 281.993 Q2160.54 286.391 2162.91 288.706 Q2165.29 290.998 2169.53 290.998 Q2171.98 290.998 2174.27 290.396 Q2176.59 289.794 2178.85 288.59 L2178.85 292.618 Q2176.56 293.59 2174.16 294.1 Q2171.75 294.609 2169.27 294.609 Q2163.07 294.609 2159.43 290.998 Q2155.82 287.387 2155.82 281.229 Q2155.82 274.864 2159.25 271.137 Q2162.7 267.387 2168.53 267.387 Q2173.76 267.387 2176.79 270.766 Q2179.85 274.123 2179.85 279.91 M2175.59 278.66 Q2175.54 275.165 2173.62 273.081 Q2171.72 270.998 2168.58 270.998 Q2165.01 270.998 2162.86 273.012 Q2160.73 275.026 2160.41 278.683 L2175.59 278.66 Z\" fill=\"#000000\" fill-rule=\"evenodd\" fill-opacity=\"1\" /><polyline clip-path=\"url(#clip160)\" style=\"stroke:#c271d2; stroke-width:4; stroke-opacity:1; fill:none\" points=\"\n",
       "  1719.35,337.138 1866.92,337.138 \n",
       "  \"/>\n",
       "<path clip-path=\"url(#clip160)\" d=\"M 0 0 M1912.03 329.487 L1912.03 333.469 Q1910.22 332.473 1908.39 331.987 Q1906.59 331.478 1904.74 331.478 Q1900.59 331.478 1898.3 334.117 Q1896.01 336.732 1896.01 341.478 Q1896.01 346.223 1898.3 348.862 Q1900.59 351.478 1904.74 351.478 Q1906.59 351.478 1908.39 350.992 Q1910.22 350.482 1912.03 349.487 L1912.03 353.422 Q1910.24 354.256 1908.32 354.672 Q1906.43 355.089 1904.27 355.089 Q1898.42 355.089 1894.97 351.408 Q1891.52 347.728 1891.52 341.478 Q1891.52 335.135 1894.99 331.501 Q1898.49 327.867 1904.55 327.867 Q1906.52 327.867 1908.39 328.283 Q1910.27 328.677 1912.03 329.487 Z\" fill=\"#000000\" fill-rule=\"evenodd\" fill-opacity=\"1\" /><path clip-path=\"url(#clip160)\" d=\"M 0 0 M1938.05 338.769 L1938.05 354.418 L1933.79 354.418 L1933.79 338.908 Q1933.79 335.228 1932.35 333.399 Q1930.92 331.57 1928.05 331.57 Q1924.6 331.57 1922.61 333.77 Q1920.62 335.969 1920.62 339.765 L1920.62 354.418 L1916.33 354.418 L1916.33 318.399 L1920.62 318.399 L1920.62 332.52 Q1922.14 330.182 1924.2 329.024 Q1926.29 327.867 1928.99 327.867 Q1933.46 327.867 1935.75 330.645 Q1938.05 333.399 1938.05 338.769 Z\" fill=\"#000000\" fill-rule=\"evenodd\" fill-opacity=\"1\" /><path clip-path=\"url(#clip160)\" d=\"M 0 0 M1952.56 331.478 Q1949.13 331.478 1947.14 334.163 Q1945.15 336.825 1945.15 341.478 Q1945.15 346.131 1947.12 348.816 Q1949.11 351.478 1952.56 351.478 Q1955.96 351.478 1957.95 348.793 Q1959.94 346.107 1959.94 341.478 Q1959.94 336.871 1957.95 334.186 Q1955.96 331.478 1952.56 331.478 M1952.56 327.867 Q1958.11 327.867 1961.29 331.478 Q1964.46 335.089 1964.46 341.478 Q1964.46 347.844 1961.29 351.478 Q1958.11 355.089 1952.56 355.089 Q1946.98 355.089 1943.81 351.478 Q1940.66 347.844 1940.66 341.478 Q1940.66 335.089 1943.81 331.478 Q1946.98 327.867 1952.56 327.867 Z\" fill=\"#000000\" fill-rule=\"evenodd\" fill-opacity=\"1\" /><path clip-path=\"url(#clip160)\" d=\"M 0 0 M1983.95 332.473 Q1983.23 332.057 1982.37 331.871 Q1981.54 331.663 1980.52 331.663 Q1976.91 331.663 1974.97 334.024 Q1973.05 336.362 1973.05 340.76 L1973.05 354.418 L1968.76 354.418 L1968.76 328.492 L1973.05 328.492 L1973.05 332.52 Q1974.39 330.158 1976.54 329.024 Q1978.69 327.867 1981.77 327.867 Q1982.21 327.867 1982.74 327.936 Q1983.28 327.983 1983.92 328.098 L1983.95 332.473 Z\" fill=\"#000000\" fill-rule=\"evenodd\" fill-opacity=\"1\" /><path clip-path=\"url(#clip160)\" d=\"M 0 0 M2009.55 340.39 L2009.55 342.473 L1989.97 342.473 Q1990.24 346.871 1992.61 349.186 Q1994.99 351.478 1999.23 351.478 Q2001.68 351.478 2003.97 350.876 Q2006.29 350.274 2008.55 349.07 L2008.55 353.098 Q2006.26 354.07 2003.86 354.58 Q2001.45 355.089 1998.97 355.089 Q1992.77 355.089 1989.13 351.478 Q1985.52 347.867 1985.52 341.709 Q1985.52 335.344 1988.95 331.617 Q1992.4 327.867 1998.23 327.867 Q2003.46 327.867 2006.49 331.246 Q2009.55 334.603 2009.55 340.39 M2005.29 339.14 Q2005.24 335.645 2003.32 333.561 Q2001.42 331.478 1998.28 331.478 Q1994.71 331.478 1992.56 333.492 Q1990.43 335.506 1990.11 339.163 L2005.29 339.14 Z\" fill=\"#000000\" fill-rule=\"evenodd\" fill-opacity=\"1\" /><path clip-path=\"url(#clip160)\" d=\"M 0 0 M2029.09 328.492 L2033.35 328.492 L2033.35 354.881 Q2033.35 359.834 2031.45 362.056 Q2029.57 364.279 2025.38 364.279 L2023.76 364.279 L2023.76 360.668 L2024.9 360.668 Q2027.33 360.668 2028.21 359.533 Q2029.09 358.422 2029.09 354.881 L2029.09 328.492 M2029.09 318.399 L2033.35 318.399 L2033.35 323.793 L2029.09 323.793 L2029.09 318.399 Z\" fill=\"#000000\" fill-rule=\"evenodd\" fill-opacity=\"1\" /><path clip-path=\"url(#clip160)\" d=\"M 0 0 M2049.6 341.385 Q2044.43 341.385 2042.44 342.566 Q2040.45 343.746 2040.45 346.594 Q2040.45 348.862 2041.93 350.205 Q2043.44 351.524 2046.01 351.524 Q2049.55 351.524 2051.68 349.024 Q2053.83 346.501 2053.83 342.334 L2053.83 341.385 L2049.6 341.385 M2058.09 339.626 L2058.09 354.418 L2053.83 354.418 L2053.83 350.482 Q2052.37 352.843 2050.2 353.978 Q2048.02 355.089 2044.87 355.089 Q2040.89 355.089 2038.53 352.867 Q2036.19 350.621 2036.19 346.871 Q2036.19 342.496 2039.11 340.274 Q2042.05 338.052 2047.86 338.052 L2053.83 338.052 L2053.83 337.635 Q2053.83 334.695 2051.89 333.098 Q2049.97 331.478 2046.47 331.478 Q2044.25 331.478 2042.14 332.01 Q2040.04 332.543 2038.09 333.607 L2038.09 329.672 Q2040.43 328.77 2042.63 328.33 Q2044.83 327.867 2046.91 327.867 Q2052.54 327.867 2055.31 330.783 Q2058.09 333.7 2058.09 339.626 Z\" fill=\"#000000\" fill-rule=\"evenodd\" fill-opacity=\"1\" /><path clip-path=\"url(#clip160)\" d=\"M 0 0 M2079.09 329.256 L2079.09 333.283 Q2077.28 332.357 2075.34 331.895 Q2073.39 331.432 2071.31 331.432 Q2068.14 331.432 2066.54 332.404 Q2064.97 333.376 2064.97 335.32 Q2064.97 336.802 2066.1 337.658 Q2067.23 338.492 2070.66 339.256 L2072.12 339.58 Q2076.66 340.552 2078.55 342.334 Q2080.48 344.094 2080.48 347.265 Q2080.48 350.876 2077.6 352.982 Q2074.76 355.089 2069.76 355.089 Q2067.67 355.089 2065.41 354.672 Q2063.16 354.279 2060.66 353.468 L2060.66 349.07 Q2063.02 350.297 2065.31 350.922 Q2067.61 351.524 2069.85 351.524 Q2072.86 351.524 2074.48 350.506 Q2076.1 349.464 2076.1 347.589 Q2076.1 345.853 2074.92 344.927 Q2073.76 344.001 2069.8 343.144 L2068.32 342.797 Q2064.36 341.964 2062.61 340.251 Q2060.85 338.515 2060.85 335.506 Q2060.85 331.848 2063.44 329.858 Q2066.03 327.867 2070.8 327.867 Q2073.16 327.867 2075.24 328.214 Q2077.33 328.561 2079.09 329.256 Z\" fill=\"#000000\" fill-rule=\"evenodd\" fill-opacity=\"1\" /><path clip-path=\"url(#clip160)\" d=\"M 0 0 M2089.16 321.131 L2089.16 328.492 L2097.93 328.492 L2097.93 331.802 L2089.16 331.802 L2089.16 345.876 Q2089.16 349.047 2090.01 349.95 Q2090.89 350.853 2093.55 350.853 L2097.93 350.853 L2097.93 354.418 L2093.55 354.418 Q2088.62 354.418 2086.75 352.589 Q2084.87 350.737 2084.87 345.876 L2084.87 331.802 L2081.75 331.802 L2081.75 328.492 L2084.87 328.492 L2084.87 321.131 L2089.16 321.131 Z\" fill=\"#000000\" fill-rule=\"evenodd\" fill-opacity=\"1\" /><path clip-path=\"url(#clip160)\" d=\"M 0 0 M2117.42 332.473 Q2116.7 332.057 2115.85 331.871 Q2115.01 331.663 2113.99 331.663 Q2110.38 331.663 2108.44 334.024 Q2106.52 336.362 2106.52 340.76 L2106.52 354.418 L2102.23 354.418 L2102.23 328.492 L2106.52 328.492 L2106.52 332.52 Q2107.86 330.158 2110.01 329.024 Q2112.16 327.867 2115.24 327.867 Q2115.68 327.867 2116.22 327.936 Q2116.75 327.983 2117.4 328.098 L2117.42 332.473 Z\" fill=\"#000000\" fill-rule=\"evenodd\" fill-opacity=\"1\" /><path clip-path=\"url(#clip160)\" d=\"M 0 0 M2120.04 328.492 L2140.27 328.492 L2140.27 332.381 L2124.25 351.015 L2140.27 351.015 L2140.27 354.418 L2119.46 354.418 L2119.46 350.529 L2135.48 331.895 L2120.04 331.895 L2120.04 328.492 Z\" fill=\"#000000\" fill-rule=\"evenodd\" fill-opacity=\"1\" /><path clip-path=\"url(#clip160)\" d=\"M 0 0 M2166.91 340.39 L2166.91 342.473 L2147.33 342.473 Q2147.6 346.871 2149.97 349.186 Q2152.35 351.478 2156.59 351.478 Q2159.04 351.478 2161.33 350.876 Q2163.65 350.274 2165.91 349.07 L2165.91 353.098 Q2163.62 354.07 2161.22 354.58 Q2158.81 355.089 2156.33 355.089 Q2150.13 355.089 2146.49 351.478 Q2142.88 347.867 2142.88 341.709 Q2142.88 335.344 2146.31 331.617 Q2149.76 327.867 2155.59 327.867 Q2160.82 327.867 2163.85 331.246 Q2166.91 334.603 2166.91 340.39 M2162.65 339.14 Q2162.6 335.645 2160.68 333.561 Q2158.79 331.478 2155.64 331.478 Q2152.07 331.478 2149.92 333.492 Q2147.79 335.506 2147.47 339.163 L2162.65 339.14 M2159.16 354.418 L2161.91 354.418 Q2160.87 355.83 2160.36 356.848 Q2159.87 357.867 2159.87 358.584 Q2159.87 359.649 2160.5 360.181 Q2161.15 360.714 2162.4 360.714 Q2163.14 360.714 2163.85 360.529 Q2164.57 360.367 2165.29 360.019 L2165.29 363.098 Q2164.41 363.33 2163.62 363.445 Q2162.84 363.561 2162.14 363.561 Q2159.32 363.561 2157.97 362.543 Q2156.66 361.547 2156.66 359.394 Q2156.66 358.283 2157.26 357.056 Q2157.88 355.853 2159.16 354.418 Z\" fill=\"#000000\" fill-rule=\"evenodd\" fill-opacity=\"1\" /><path clip-path=\"url(#clip160)\" d=\"M 0 0 M2189.99 341.478 Q2189.99 336.779 2188.04 334.117 Q2186.12 331.432 2182.74 331.432 Q2179.36 331.432 2177.42 334.117 Q2175.5 336.779 2175.5 341.478 Q2175.5 346.177 2177.42 348.862 Q2179.36 351.524 2182.74 351.524 Q2186.12 351.524 2188.04 348.862 Q2189.99 346.177 2189.99 341.478 M2175.5 332.427 Q2176.84 330.112 2178.88 329.001 Q2180.94 327.867 2183.78 327.867 Q2188.51 327.867 2191.45 331.617 Q2194.41 335.367 2194.41 341.478 Q2194.41 347.589 2191.45 351.339 Q2188.51 355.089 2183.78 355.089 Q2180.94 355.089 2178.88 353.978 Q2176.84 352.843 2175.5 350.529 L2175.5 354.418 L2171.22 354.418 L2171.22 318.399 L2175.5 318.399 L2175.5 332.427 Z\" fill=\"#000000\" fill-rule=\"evenodd\" fill-opacity=\"1\" /><path clip-path=\"url(#clip160)\" d=\"M 0 0 M2198.88 328.492 L2203.14 328.492 L2203.14 354.418 L2198.88 354.418 L2198.88 328.492 M2198.88 318.399 L2203.14 318.399 L2203.14 323.793 L2198.88 323.793 L2198.88 318.399 Z\" fill=\"#000000\" fill-rule=\"evenodd\" fill-opacity=\"1\" /><path clip-path=\"url(#clip160)\" d=\"M 0 0 M2229.78 340.39 L2229.78 342.473 L2210.2 342.473 Q2210.47 346.871 2212.84 349.186 Q2215.22 351.478 2219.46 351.478 Q2221.91 351.478 2224.2 350.876 Q2226.52 350.274 2228.78 349.07 L2228.78 353.098 Q2226.49 354.07 2224.09 354.58 Q2221.68 355.089 2219.2 355.089 Q2213 355.089 2209.36 351.478 Q2205.75 347.867 2205.75 341.709 Q2205.75 335.344 2209.18 331.617 Q2212.63 327.867 2218.46 327.867 Q2223.69 327.867 2226.72 331.246 Q2229.78 334.603 2229.78 340.39 M2225.52 339.14 Q2225.47 335.645 2223.55 333.561 Q2221.66 331.478 2218.51 331.478 Q2214.94 331.478 2212.79 333.492 Q2210.66 335.506 2210.34 339.163 L2225.52 339.14 Z\" fill=\"#000000\" fill-rule=\"evenodd\" fill-opacity=\"1\" /></svg>\n"
      ]
     },
     "execution_count": 296,
     "metadata": {},
     "output_type": "execute_result"
    }
   ],
   "source": [
    "plot(1:size(dying)[1], dying[:,1], label=\"gołębie\")\n",
    "plot!(1:size(dying)[1], dying[:,2], label=\"jastrzębie\")\n",
    "plot!(1:size(dying)[1], dying[:,3], label=\"chore gołębie\")\n",
    "plot!(1:size(dying)[1], dying[:,4], label=\"chore jastrzębie\")"
   ]
  },
  {
   "cell_type": "code",
   "execution_count": 297,
   "metadata": {},
   "outputs": [
    {
     "data": {
      "image/svg+xml": [
       "<?xml version=\"1.0\" encoding=\"utf-8\"?>\n",
       "<svg xmlns=\"http://www.w3.org/2000/svg\" xmlns:xlink=\"http://www.w3.org/1999/xlink\" width=\"600\" height=\"400\" viewBox=\"0 0 2400 1600\">\n",
       "<defs>\n",
       "  <clipPath id=\"clip200\">\n",
       "    <rect x=\"0\" y=\"0\" width=\"2400\" height=\"1600\"/>\n",
       "  </clipPath>\n",
       "</defs>\n",
       "<path clip-path=\"url(#clip200)\" d=\"\n",
       "M0 1600 L2400 1600 L2400 0 L0 0  Z\n",
       "  \" fill=\"#ffffff\" fill-rule=\"evenodd\" fill-opacity=\"1\"/>\n",
       "<defs>\n",
       "  <clipPath id=\"clip201\">\n",
       "    <rect x=\"480\" y=\"0\" width=\"1681\" height=\"1600\"/>\n",
       "  </clipPath>\n",
       "</defs>\n",
       "<path clip-path=\"url(#clip200)\" d=\"\n",
       "M139.191 1486.45 L2352.76 1486.45 L2352.76 47.2441 L139.191 47.2441  Z\n",
       "  \" fill=\"#ffffff\" fill-rule=\"evenodd\" fill-opacity=\"1\"/>\n",
       "<defs>\n",
       "  <clipPath id=\"clip202\">\n",
       "    <rect x=\"139\" y=\"47\" width=\"2215\" height=\"1440\"/>\n",
       "  </clipPath>\n",
       "</defs>\n",
       "<polyline clip-path=\"url(#clip202)\" style=\"stroke:#000000; stroke-width:2; stroke-opacity:0.1; fill:none\" points=\"\n",
       "  159.221,1486.45 159.221,47.2441 \n",
       "  \"/>\n",
       "<polyline clip-path=\"url(#clip202)\" style=\"stroke:#000000; stroke-width:2; stroke-opacity:0.1; fill:none\" points=\"\n",
       "  585.399,1486.45 585.399,47.2441 \n",
       "  \"/>\n",
       "<polyline clip-path=\"url(#clip202)\" style=\"stroke:#000000; stroke-width:2; stroke-opacity:0.1; fill:none\" points=\"\n",
       "  1011.58,1486.45 1011.58,47.2441 \n",
       "  \"/>\n",
       "<polyline clip-path=\"url(#clip202)\" style=\"stroke:#000000; stroke-width:2; stroke-opacity:0.1; fill:none\" points=\"\n",
       "  1437.75,1486.45 1437.75,47.2441 \n",
       "  \"/>\n",
       "<polyline clip-path=\"url(#clip202)\" style=\"stroke:#000000; stroke-width:2; stroke-opacity:0.1; fill:none\" points=\"\n",
       "  1863.93,1486.45 1863.93,47.2441 \n",
       "  \"/>\n",
       "<polyline clip-path=\"url(#clip202)\" style=\"stroke:#000000; stroke-width:2; stroke-opacity:0.1; fill:none\" points=\"\n",
       "  2290.11,1486.45 2290.11,47.2441 \n",
       "  \"/>\n",
       "<polyline clip-path=\"url(#clip200)\" style=\"stroke:#000000; stroke-width:4; stroke-opacity:1; fill:none\" points=\"\n",
       "  139.191,1486.45 2352.76,1486.45 \n",
       "  \"/>\n",
       "<polyline clip-path=\"url(#clip200)\" style=\"stroke:#000000; stroke-width:4; stroke-opacity:1; fill:none\" points=\"\n",
       "  159.221,1486.45 159.221,1469.18 \n",
       "  \"/>\n",
       "<polyline clip-path=\"url(#clip200)\" style=\"stroke:#000000; stroke-width:4; stroke-opacity:1; fill:none\" points=\"\n",
       "  585.399,1486.45 585.399,1469.18 \n",
       "  \"/>\n",
       "<polyline clip-path=\"url(#clip200)\" style=\"stroke:#000000; stroke-width:4; stroke-opacity:1; fill:none\" points=\"\n",
       "  1011.58,1486.45 1011.58,1469.18 \n",
       "  \"/>\n",
       "<polyline clip-path=\"url(#clip200)\" style=\"stroke:#000000; stroke-width:4; stroke-opacity:1; fill:none\" points=\"\n",
       "  1437.75,1486.45 1437.75,1469.18 \n",
       "  \"/>\n",
       "<polyline clip-path=\"url(#clip200)\" style=\"stroke:#000000; stroke-width:4; stroke-opacity:1; fill:none\" points=\"\n",
       "  1863.93,1486.45 1863.93,1469.18 \n",
       "  \"/>\n",
       "<polyline clip-path=\"url(#clip200)\" style=\"stroke:#000000; stroke-width:4; stroke-opacity:1; fill:none\" points=\"\n",
       "  2290.11,1486.45 2290.11,1469.18 \n",
       "  \"/>\n",
       "<path clip-path=\"url(#clip200)\" d=\"M 0 0 M159.221 1515.64 Q155.61 1515.64 153.781 1519.2 Q151.976 1522.75 151.976 1529.87 Q151.976 1536.98 153.781 1540.55 Q155.61 1544.09 159.221 1544.09 Q162.855 1544.09 164.661 1540.55 Q166.49 1536.98 166.49 1529.87 Q166.49 1522.75 164.661 1519.2 Q162.855 1515.64 159.221 1515.64 M159.221 1511.93 Q165.031 1511.93 168.087 1516.54 Q171.166 1521.12 171.166 1529.87 Q171.166 1538.6 168.087 1543.21 Q165.031 1547.79 159.221 1547.79 Q153.411 1547.79 150.332 1543.21 Q147.277 1538.6 147.277 1529.87 Q147.277 1521.12 150.332 1516.54 Q153.411 1511.93 159.221 1511.93 Z\" fill=\"#000000\" fill-rule=\"evenodd\" fill-opacity=\"1\" /><path clip-path=\"url(#clip200)\" d=\"M 0 0 M562.274 1543.18 L569.913 1543.18 L569.913 1516.82 L561.602 1518.49 L561.602 1514.23 L569.866 1512.56 L574.542 1512.56 L574.542 1543.18 L582.181 1543.18 L582.181 1547.12 L562.274 1547.12 L562.274 1543.18 Z\" fill=\"#000000\" fill-rule=\"evenodd\" fill-opacity=\"1\" /><path clip-path=\"url(#clip200)\" d=\"M 0 0 M597.25 1515.64 Q593.639 1515.64 591.811 1519.2 Q590.005 1522.75 590.005 1529.87 Q590.005 1536.98 591.811 1540.55 Q593.639 1544.09 597.25 1544.09 Q600.885 1544.09 602.69 1540.55 Q604.519 1536.98 604.519 1529.87 Q604.519 1522.75 602.69 1519.2 Q600.885 1515.64 597.25 1515.64 M597.25 1511.93 Q603.061 1511.93 606.116 1516.54 Q609.195 1521.12 609.195 1529.87 Q609.195 1538.6 606.116 1543.21 Q603.061 1547.79 597.25 1547.79 Q591.44 1547.79 588.362 1543.21 Q585.306 1538.6 585.306 1529.87 Q585.306 1521.12 588.362 1516.54 Q591.44 1511.93 597.25 1511.93 Z\" fill=\"#000000\" fill-rule=\"evenodd\" fill-opacity=\"1\" /><path clip-path=\"url(#clip200)\" d=\"M 0 0 M992.722 1543.18 L1009.04 1543.18 L1009.04 1547.12 L987.097 1547.12 L987.097 1543.18 Q989.759 1540.43 994.342 1535.8 Q998.949 1531.15 1000.13 1529.81 Q1002.37 1527.28 1003.25 1525.55 Q1004.16 1523.79 1004.16 1522.1 Q1004.16 1519.34 1002.21 1517.61 Q1000.29 1515.87 997.189 1515.87 Q994.99 1515.87 992.537 1516.63 Q990.106 1517.4 987.328 1518.95 L987.328 1514.23 Q990.152 1513.09 992.606 1512.51 Q995.06 1511.93 997.097 1511.93 Q1002.47 1511.93 1005.66 1514.62 Q1008.86 1517.31 1008.86 1521.8 Q1008.86 1523.93 1008.05 1525.85 Q1007.26 1527.74 1005.15 1530.34 Q1004.57 1531.01 1001.47 1534.23 Q998.37 1537.42 992.722 1543.18 Z\" fill=\"#000000\" fill-rule=\"evenodd\" fill-opacity=\"1\" /><path clip-path=\"url(#clip200)\" d=\"M 0 0 M1024.11 1515.64 Q1020.5 1515.64 1018.67 1519.2 Q1016.87 1522.75 1016.87 1529.87 Q1016.87 1536.98 1018.67 1540.55 Q1020.5 1544.09 1024.11 1544.09 Q1027.74 1544.09 1029.55 1540.55 Q1031.38 1536.98 1031.38 1529.87 Q1031.38 1522.75 1029.55 1519.2 Q1027.74 1515.64 1024.11 1515.64 M1024.11 1511.93 Q1029.92 1511.93 1032.98 1516.54 Q1036.05 1521.12 1036.05 1529.87 Q1036.05 1538.6 1032.98 1543.21 Q1029.92 1547.79 1024.11 1547.79 Q1018.3 1547.79 1015.22 1543.21 Q1012.17 1538.6 1012.17 1529.87 Q1012.17 1521.12 1015.22 1516.54 Q1018.3 1511.93 1024.11 1511.93 Z\" fill=\"#000000\" fill-rule=\"evenodd\" fill-opacity=\"1\" /><path clip-path=\"url(#clip200)\" d=\"M 0 0 M1428.49 1528.49 Q1431.85 1529.2 1433.73 1531.47 Q1435.62 1533.74 1435.62 1537.07 Q1435.62 1542.19 1432.11 1544.99 Q1428.59 1547.79 1422.11 1547.79 Q1419.93 1547.79 1417.61 1547.35 Q1415.32 1546.93 1412.87 1546.08 L1412.87 1541.56 Q1414.81 1542.7 1417.13 1543.28 Q1419.44 1543.86 1421.97 1543.86 Q1426.36 1543.86 1428.66 1542.12 Q1430.97 1540.38 1430.97 1537.07 Q1430.97 1534.02 1428.82 1532.31 Q1426.69 1530.57 1422.87 1530.57 L1418.84 1530.57 L1418.84 1526.73 L1423.05 1526.73 Q1426.5 1526.73 1428.33 1525.36 Q1430.16 1523.97 1430.16 1521.38 Q1430.16 1518.72 1428.26 1517.31 Q1426.39 1515.87 1422.87 1515.87 Q1420.95 1515.87 1418.75 1516.29 Q1416.55 1516.7 1413.91 1517.58 L1413.91 1513.42 Q1416.57 1512.68 1418.89 1512.31 Q1421.23 1511.93 1423.29 1511.93 Q1428.61 1511.93 1431.71 1514.37 Q1434.81 1516.77 1434.81 1520.89 Q1434.81 1523.76 1433.17 1525.75 Q1431.53 1527.72 1428.49 1528.49 Z\" fill=\"#000000\" fill-rule=\"evenodd\" fill-opacity=\"1\" /><path clip-path=\"url(#clip200)\" d=\"M 0 0 M1450.69 1515.64 Q1447.08 1515.64 1445.25 1519.2 Q1443.45 1522.75 1443.45 1529.87 Q1443.45 1536.98 1445.25 1540.55 Q1447.08 1544.09 1450.69 1544.09 Q1454.33 1544.09 1456.13 1540.55 Q1457.96 1536.98 1457.96 1529.87 Q1457.96 1522.75 1456.13 1519.2 Q1454.33 1515.64 1450.69 1515.64 M1450.69 1511.93 Q1456.5 1511.93 1459.56 1516.54 Q1462.64 1521.12 1462.64 1529.87 Q1462.64 1538.6 1459.56 1543.21 Q1456.5 1547.79 1450.69 1547.79 Q1444.88 1547.79 1441.8 1543.21 Q1438.75 1538.6 1438.75 1529.87 Q1438.75 1521.12 1441.8 1516.54 Q1444.88 1511.93 1450.69 1511.93 Z\" fill=\"#000000\" fill-rule=\"evenodd\" fill-opacity=\"1\" /><path clip-path=\"url(#clip200)\" d=\"M 0 0 M1853.43 1516.63 L1841.63 1535.08 L1853.43 1535.08 L1853.43 1516.63 M1852.21 1512.56 L1858.09 1512.56 L1858.09 1535.08 L1863.02 1535.08 L1863.02 1538.97 L1858.09 1538.97 L1858.09 1547.12 L1853.43 1547.12 L1853.43 1538.97 L1837.83 1538.97 L1837.83 1534.46 L1852.21 1512.56 Z\" fill=\"#000000\" fill-rule=\"evenodd\" fill-opacity=\"1\" /><path clip-path=\"url(#clip200)\" d=\"M 0 0 M1878.09 1515.64 Q1874.47 1515.64 1872.65 1519.2 Q1870.84 1522.75 1870.84 1529.87 Q1870.84 1536.98 1872.65 1540.55 Q1874.47 1544.09 1878.09 1544.09 Q1881.72 1544.09 1883.53 1540.55 Q1885.35 1536.98 1885.35 1529.87 Q1885.35 1522.75 1883.53 1519.2 Q1881.72 1515.64 1878.09 1515.64 M1878.09 1511.93 Q1883.9 1511.93 1886.95 1516.54 Q1890.03 1521.12 1890.03 1529.87 Q1890.03 1538.6 1886.95 1543.21 Q1883.9 1547.79 1878.09 1547.79 Q1872.28 1547.79 1869.2 1543.21 Q1866.14 1538.6 1866.14 1529.87 Q1866.14 1521.12 1869.2 1516.54 Q1872.28 1511.93 1878.09 1511.93 Z\" fill=\"#000000\" fill-rule=\"evenodd\" fill-opacity=\"1\" /><path clip-path=\"url(#clip200)\" d=\"M 0 0 M2266.88 1512.56 L2285.24 1512.56 L2285.24 1516.5 L2271.16 1516.5 L2271.16 1524.97 Q2272.18 1524.62 2273.2 1524.46 Q2274.22 1524.27 2275.24 1524.27 Q2281.02 1524.27 2284.4 1527.44 Q2287.78 1530.62 2287.78 1536.03 Q2287.78 1541.61 2284.31 1544.71 Q2280.84 1547.79 2274.52 1547.79 Q2272.34 1547.79 2270.07 1547.42 Q2267.83 1547.05 2265.42 1546.31 L2265.42 1541.61 Q2267.5 1542.74 2269.73 1543.3 Q2271.95 1543.86 2274.43 1543.86 Q2278.43 1543.86 2280.77 1541.75 Q2283.11 1539.64 2283.11 1536.03 Q2283.11 1532.42 2280.77 1530.31 Q2278.43 1528.21 2274.43 1528.21 Q2272.55 1528.21 2270.68 1528.62 Q2268.82 1529.04 2266.88 1529.92 L2266.88 1512.56 Z\" fill=\"#000000\" fill-rule=\"evenodd\" fill-opacity=\"1\" /><path clip-path=\"url(#clip200)\" d=\"M 0 0 M2302.85 1515.64 Q2299.24 1515.64 2297.41 1519.2 Q2295.61 1522.75 2295.61 1529.87 Q2295.61 1536.98 2297.41 1540.55 Q2299.24 1544.09 2302.85 1544.09 Q2306.49 1544.09 2308.29 1540.55 Q2310.12 1536.98 2310.12 1529.87 Q2310.12 1522.75 2308.29 1519.2 Q2306.49 1515.64 2302.85 1515.64 M2302.85 1511.93 Q2308.66 1511.93 2311.72 1516.54 Q2314.8 1521.12 2314.8 1529.87 Q2314.8 1538.6 2311.72 1543.21 Q2308.66 1547.79 2302.85 1547.79 Q2297.04 1547.79 2293.96 1543.21 Q2290.91 1538.6 2290.91 1529.87 Q2290.91 1521.12 2293.96 1516.54 Q2297.04 1511.93 2302.85 1511.93 Z\" fill=\"#000000\" fill-rule=\"evenodd\" fill-opacity=\"1\" /><polyline clip-path=\"url(#clip202)\" style=\"stroke:#000000; stroke-width:2; stroke-opacity:0.1; fill:none\" points=\"\n",
       "  139.191,1477.66 2352.76,1477.66 \n",
       "  \"/>\n",
       "<polyline clip-path=\"url(#clip202)\" style=\"stroke:#000000; stroke-width:2; stroke-opacity:0.1; fill:none\" points=\"\n",
       "  139.191,1158.19 2352.76,1158.19 \n",
       "  \"/>\n",
       "<polyline clip-path=\"url(#clip202)\" style=\"stroke:#000000; stroke-width:2; stroke-opacity:0.1; fill:none\" points=\"\n",
       "  139.191,838.726 2352.76,838.726 \n",
       "  \"/>\n",
       "<polyline clip-path=\"url(#clip202)\" style=\"stroke:#000000; stroke-width:2; stroke-opacity:0.1; fill:none\" points=\"\n",
       "  139.191,519.258 2352.76,519.258 \n",
       "  \"/>\n",
       "<polyline clip-path=\"url(#clip202)\" style=\"stroke:#000000; stroke-width:2; stroke-opacity:0.1; fill:none\" points=\"\n",
       "  139.191,199.79 2352.76,199.79 \n",
       "  \"/>\n",
       "<polyline clip-path=\"url(#clip200)\" style=\"stroke:#000000; stroke-width:4; stroke-opacity:1; fill:none\" points=\"\n",
       "  139.191,1486.45 139.191,47.2441 \n",
       "  \"/>\n",
       "<polyline clip-path=\"url(#clip200)\" style=\"stroke:#000000; stroke-width:4; stroke-opacity:1; fill:none\" points=\"\n",
       "  139.191,1477.66 165.754,1477.66 \n",
       "  \"/>\n",
       "<polyline clip-path=\"url(#clip200)\" style=\"stroke:#000000; stroke-width:4; stroke-opacity:1; fill:none\" points=\"\n",
       "  139.191,1158.19 165.754,1158.19 \n",
       "  \"/>\n",
       "<polyline clip-path=\"url(#clip200)\" style=\"stroke:#000000; stroke-width:4; stroke-opacity:1; fill:none\" points=\"\n",
       "  139.191,838.726 165.754,838.726 \n",
       "  \"/>\n",
       "<polyline clip-path=\"url(#clip200)\" style=\"stroke:#000000; stroke-width:4; stroke-opacity:1; fill:none\" points=\"\n",
       "  139.191,519.258 165.754,519.258 \n",
       "  \"/>\n",
       "<polyline clip-path=\"url(#clip200)\" style=\"stroke:#000000; stroke-width:4; stroke-opacity:1; fill:none\" points=\"\n",
       "  139.191,199.79 165.754,199.79 \n",
       "  \"/>\n",
       "<path clip-path=\"url(#clip200)\" d=\"M 0 0 M91.2465 1463.46 Q87.6354 1463.46 85.8068 1467.03 Q84.0012 1470.57 84.0012 1477.7 Q84.0012 1484.8 85.8068 1488.37 Q87.6354 1491.91 91.2465 1491.91 Q94.8808 1491.91 96.6863 1488.37 Q98.515 1484.8 98.515 1477.7 Q98.515 1470.57 96.6863 1467.03 Q94.8808 1463.46 91.2465 1463.46 M91.2465 1459.76 Q97.0567 1459.76 100.112 1464.36 Q103.191 1468.95 103.191 1477.7 Q103.191 1486.42 100.112 1491.03 Q97.0567 1495.61 91.2465 1495.61 Q85.4364 1495.61 82.3577 1491.03 Q79.3022 1486.42 79.3022 1477.7 Q79.3022 1468.95 82.3577 1464.36 Q85.4364 1459.76 91.2465 1459.76 Z\" fill=\"#000000\" fill-rule=\"evenodd\" fill-opacity=\"1\" /><path clip-path=\"url(#clip200)\" d=\"M 0 0 M59.8578 1171.54 L76.1772 1171.54 L76.1772 1175.47 L54.2328 1175.47 L54.2328 1171.54 Q56.8949 1168.78 61.4782 1164.16 Q66.0846 1159.5 67.2652 1158.16 Q69.5105 1155.64 70.3902 1153.9 Q71.2929 1152.14 71.2929 1150.45 Q71.2929 1147.7 69.3485 1145.96 Q67.4272 1144.22 64.3254 1144.22 Q62.1263 1144.22 59.6726 1144.99 Q57.2421 1145.75 54.4643 1147.3 L54.4643 1142.58 Q57.2884 1141.45 59.7421 1140.87 Q62.1958 1140.29 64.2328 1140.29 Q69.6031 1140.29 72.7976 1142.97 Q75.992 1145.66 75.992 1150.15 Q75.992 1152.28 75.1818 1154.2 Q74.3948 1156.1 72.2883 1158.69 Q71.7096 1159.36 68.6078 1162.58 Q65.5059 1165.78 59.8578 1171.54 Z\" fill=\"#000000\" fill-rule=\"evenodd\" fill-opacity=\"1\" /><path clip-path=\"url(#clip200)\" d=\"M 0 0 M91.2465 1143.99 Q87.6354 1143.99 85.8068 1147.56 Q84.0012 1151.1 84.0012 1158.23 Q84.0012 1165.34 85.8068 1168.9 Q87.6354 1172.44 91.2465 1172.44 Q94.8808 1172.44 96.6863 1168.9 Q98.515 1165.34 98.515 1158.23 Q98.515 1151.1 96.6863 1147.56 Q94.8808 1143.99 91.2465 1143.99 M91.2465 1140.29 Q97.0567 1140.29 100.112 1144.9 Q103.191 1149.48 103.191 1158.23 Q103.191 1166.96 100.112 1171.56 Q97.0567 1176.15 91.2465 1176.15 Q85.4364 1176.15 82.3577 1171.56 Q79.3022 1166.96 79.3022 1158.23 Q79.3022 1149.48 82.3577 1144.9 Q85.4364 1140.29 91.2465 1140.29 Z\" fill=\"#000000\" fill-rule=\"evenodd\" fill-opacity=\"1\" /><path clip-path=\"url(#clip200)\" d=\"M 0 0 M66.5939 825.52 L54.7884 843.969 L66.5939 843.969 L66.5939 825.52 M65.367 821.446 L71.2466 821.446 L71.2466 843.969 L76.1772 843.969 L76.1772 847.858 L71.2466 847.858 L71.2466 856.006 L66.5939 856.006 L66.5939 847.858 L50.9921 847.858 L50.9921 843.344 L65.367 821.446 Z\" fill=\"#000000\" fill-rule=\"evenodd\" fill-opacity=\"1\" /><path clip-path=\"url(#clip200)\" d=\"M 0 0 M91.2465 824.525 Q87.6354 824.525 85.8068 828.09 Q84.0012 831.631 84.0012 838.761 Q84.0012 845.867 85.8068 849.432 Q87.6354 852.974 91.2465 852.974 Q94.8808 852.974 96.6863 849.432 Q98.515 845.867 98.515 838.761 Q98.515 831.631 96.6863 828.09 Q94.8808 824.525 91.2465 824.525 M91.2465 820.821 Q97.0567 820.821 100.112 825.428 Q103.191 830.011 103.191 838.761 Q103.191 847.488 100.112 852.094 Q97.0567 856.678 91.2465 856.678 Q85.4364 856.678 82.3577 852.094 Q79.3022 847.488 79.3022 838.761 Q79.3022 830.011 82.3577 825.428 Q85.4364 820.821 91.2465 820.821 Z\" fill=\"#000000\" fill-rule=\"evenodd\" fill-opacity=\"1\" /><path clip-path=\"url(#clip200)\" d=\"M 0 0 M64.6495 517.395 Q61.5013 517.395 59.6495 519.548 Q57.8208 521.7 57.8208 525.45 Q57.8208 529.177 59.6495 531.353 Q61.5013 533.506 64.6495 533.506 Q67.7976 533.506 69.6263 531.353 Q71.4781 529.177 71.4781 525.45 Q71.4781 521.7 69.6263 519.548 Q67.7976 517.395 64.6495 517.395 M73.9318 502.742 L73.9318 507.001 Q72.1726 506.168 70.367 505.728 Q68.5846 505.288 66.8254 505.288 Q62.1958 505.288 59.7421 508.413 Q57.3115 511.538 56.9643 517.858 Q58.33 515.844 60.3902 514.779 Q62.4504 513.691 64.9272 513.691 Q70.1355 513.691 73.1448 516.862 Q76.1772 520.011 76.1772 525.45 Q76.1772 530.774 73.029 533.992 Q69.8809 537.21 64.6495 537.21 Q58.6541 537.21 55.4828 532.626 Q52.3116 528.02 52.3116 519.293 Q52.3116 511.099 56.2004 506.237 Q60.0893 501.353 66.6402 501.353 Q68.3994 501.353 70.1818 501.7 Q71.9874 502.048 73.9318 502.742 Z\" fill=\"#000000\" fill-rule=\"evenodd\" fill-opacity=\"1\" /><path clip-path=\"url(#clip200)\" d=\"M 0 0 M91.2465 505.057 Q87.6354 505.057 85.8068 508.622 Q84.0012 512.163 84.0012 519.293 Q84.0012 526.399 85.8068 529.964 Q87.6354 533.506 91.2465 533.506 Q94.8808 533.506 96.6863 529.964 Q98.515 526.399 98.515 519.293 Q98.515 512.163 96.6863 508.622 Q94.8808 505.057 91.2465 505.057 M91.2465 501.353 Q97.0567 501.353 100.112 505.96 Q103.191 510.543 103.191 519.293 Q103.191 528.02 100.112 532.626 Q97.0567 537.21 91.2465 537.21 Q85.4364 537.21 82.3577 532.626 Q79.3022 528.02 79.3022 519.293 Q79.3022 510.543 82.3577 505.96 Q85.4364 501.353 91.2465 501.353 Z\" fill=\"#000000\" fill-rule=\"evenodd\" fill-opacity=\"1\" /><path clip-path=\"url(#clip200)\" d=\"M 0 0 M64.3254 200.658 Q60.9921 200.658 59.0708 202.441 Q57.1726 204.223 57.1726 207.348 Q57.1726 210.473 59.0708 212.255 Q60.9921 214.038 64.3254 214.038 Q67.6587 214.038 69.58 212.255 Q71.5013 210.45 71.5013 207.348 Q71.5013 204.223 69.58 202.441 Q67.6819 200.658 64.3254 200.658 M59.6495 198.667 Q56.6402 197.927 54.9504 195.867 Q53.2838 193.806 53.2838 190.843 Q53.2838 186.7 56.2236 184.293 Q59.1865 181.885 64.3254 181.885 Q69.4874 181.885 72.4272 184.293 Q75.367 186.7 75.367 190.843 Q75.367 193.806 73.6772 195.867 Q72.0105 197.927 69.0244 198.667 Q72.404 199.454 74.279 201.746 Q76.1772 204.038 76.1772 207.348 Q76.1772 212.371 73.0985 215.056 Q70.0429 217.741 64.3254 217.741 Q58.6078 217.741 55.5291 215.056 Q52.4736 212.371 52.4736 207.348 Q52.4736 204.038 54.3717 201.746 Q56.2699 199.454 59.6495 198.667 M57.9365 191.283 Q57.9365 193.968 59.6032 195.473 Q61.293 196.978 64.3254 196.978 Q67.3346 196.978 69.0244 195.473 Q70.7374 193.968 70.7374 191.283 Q70.7374 188.598 69.0244 187.093 Q67.3346 185.589 64.3254 185.589 Q61.293 185.589 59.6032 187.093 Q57.9365 188.598 57.9365 191.283 Z\" fill=\"#000000\" fill-rule=\"evenodd\" fill-opacity=\"1\" /><path clip-path=\"url(#clip200)\" d=\"M 0 0 M91.2465 185.589 Q87.6354 185.589 85.8068 189.154 Q84.0012 192.695 84.0012 199.825 Q84.0012 206.931 85.8068 210.496 Q87.6354 214.038 91.2465 214.038 Q94.8808 214.038 96.6863 210.496 Q98.515 206.931 98.515 199.825 Q98.515 192.695 96.6863 189.154 Q94.8808 185.589 91.2465 185.589 M91.2465 181.885 Q97.0567 181.885 100.112 186.492 Q103.191 191.075 103.191 199.825 Q103.191 208.552 100.112 213.158 Q97.0567 217.741 91.2465 217.741 Q85.4364 217.741 82.3577 213.158 Q79.3022 208.552 79.3022 199.825 Q79.3022 191.075 82.3577 186.492 Q85.4364 181.885 91.2465 181.885 Z\" fill=\"#000000\" fill-rule=\"evenodd\" fill-opacity=\"1\" /><polyline clip-path=\"url(#clip202)\" style=\"stroke:#009af9; stroke-width:4; stroke-opacity:1; fill:none\" points=\"\n",
       "  201.839,599.125 244.457,1014.43 287.074,1349.88 329.692,1429.74 372.31,1429.74 414.928,1445.72 457.545,1429.74 500.163,1429.74 542.781,1413.77 585.399,1381.82 \n",
       "  628.016,1365.85 670.634,1381.82 713.252,1413.77 755.869,1445.72 798.487,1413.77 841.105,1397.8 883.723,1397.8 926.34,1365.85 968.958,1349.88 1011.58,1317.93 \n",
       "  1054.19,1238.06 1096.81,1222.09 1139.43,1254.03 1182.05,1301.96 1224.66,1285.98 1267.28,1285.98 1309.9,1238.06 1352.52,1254.03 1395.14,1285.98 1437.75,1285.98 \n",
       "  1480.37,1349.88 1522.99,1365.85 1565.61,1349.88 1608.22,1413.77 1650.84,1381.82 1693.46,1397.8 1736.08,1365.85 1778.7,1317.93 1821.31,1301.96 1863.93,1270.01 \n",
       "  1906.55,1238.06 1949.17,1174.17 1991.78,1126.25 2034.4,1222.09 2077.02,1301.96 2119.64,1333.9 2162.25,1301.96 2204.87,1238.06 2247.49,1285.98 2290.11,1365.85 \n",
       "  \n",
       "  \"/>\n",
       "<polyline clip-path=\"url(#clip202)\" style=\"stroke:#e26f46; stroke-width:4; stroke-opacity:1; fill:none\" points=\"\n",
       "  201.839,87.9763 244.457,663.019 287.074,934.567 329.692,1046.38 372.31,1030.41 414.928,1062.35 457.545,1014.43 500.163,1014.43 542.781,1094.3 585.399,1046.38 \n",
       "  628.016,1126.25 670.634,1126.25 713.252,1110.27 755.869,1046.38 798.487,1030.41 841.105,1046.38 883.723,1014.43 926.34,1062.35 968.958,966.514 1011.58,1126.25 \n",
       "  1054.19,1158.19 1096.81,1110.27 1139.43,934.567 1182.05,982.487 1224.66,1030.41 1267.28,1158.19 1309.9,1062.35 1352.52,998.46 1395.14,1142.22 1437.75,1014.43 \n",
       "  1480.37,1078.33 1522.99,1078.33 1565.61,1158.19 1608.22,1158.19 1650.84,982.487 1693.46,950.54 1736.08,1238.06 1778.7,1126.25 1821.31,1062.35 1863.93,1014.43 \n",
       "  1906.55,1190.14 1949.17,1190.14 1991.78,1078.33 2034.4,1014.43 2077.02,982.487 2119.64,918.593 2162.25,1174.17 2204.87,1062.35 2247.49,918.593 2290.11,1110.27 \n",
       "  \n",
       "  \"/>\n",
       "<path clip-path=\"url(#clip200)\" d=\"\n",
       "M1827 276.658 L2278.97 276.658 L2278.97 95.2176 L1827 95.2176  Z\n",
       "  \" fill=\"#ffffff\" fill-rule=\"evenodd\" fill-opacity=\"1\"/>\n",
       "<polyline clip-path=\"url(#clip200)\" style=\"stroke:#000000; stroke-width:4; stroke-opacity:1; fill:none\" points=\"\n",
       "  1827,276.658 2278.97,276.658 2278.97,95.2176 1827,95.2176 1827,276.658 \n",
       "  \"/>\n",
       "<polyline clip-path=\"url(#clip200)\" style=\"stroke:#009af9; stroke-width:4; stroke-opacity:1; fill:none\" points=\"\n",
       "  1851.6,155.698 1999.17,155.698 \n",
       "  \"/>\n",
       "<path clip-path=\"url(#clip200)\" d=\"M 0 0 M2042.67 159.714 Q2042.67 155.084 2040.75 152.538 Q2038.86 149.992 2035.41 149.992 Q2031.98 149.992 2030.06 152.538 Q2028.16 155.084 2028.16 159.714 Q2028.16 164.32 2030.06 166.866 Q2031.98 169.413 2035.41 169.413 Q2038.86 169.413 2040.75 166.866 Q2042.67 164.32 2042.67 159.714 M2046.93 169.76 Q2046.93 176.38 2043.99 179.598 Q2041.05 182.839 2034.99 182.839 Q2032.74 182.839 2030.75 182.491 Q2028.76 182.167 2026.89 181.473 L2026.89 177.329 Q2028.76 178.348 2030.59 178.834 Q2032.42 179.32 2034.32 179.32 Q2038.51 179.32 2040.59 177.121 Q2042.67 174.945 2042.67 170.524 L2042.67 168.417 Q2041.36 170.709 2039.29 171.843 Q2037.23 172.978 2034.36 172.978 Q2029.6 172.978 2026.68 169.343 Q2023.76 165.709 2023.76 159.714 Q2023.76 153.695 2026.68 150.061 Q2029.6 146.427 2034.36 146.427 Q2037.23 146.427 2039.29 147.561 Q2041.36 148.695 2042.67 150.987 L2042.67 147.052 L2046.93 147.052 L2046.93 169.76 Z\" fill=\"#000000\" fill-rule=\"evenodd\" fill-opacity=\"1\" /><path clip-path=\"url(#clip200)\" d=\"M 0 0 M2061.45 150.038 Q2058.02 150.038 2056.03 152.723 Q2054.04 155.385 2054.04 160.038 Q2054.04 164.691 2056.01 167.376 Q2058 170.038 2061.45 170.038 Q2064.85 170.038 2066.84 167.353 Q2068.83 164.667 2068.83 160.038 Q2068.83 155.431 2066.84 152.746 Q2064.85 150.038 2061.45 150.038 M2061.45 146.427 Q2067 146.427 2070.17 150.038 Q2073.35 153.649 2073.35 160.038 Q2073.35 166.404 2070.17 170.038 Q2067 173.649 2061.45 173.649 Q2055.87 173.649 2052.7 170.038 Q2049.55 166.404 2049.55 160.038 Q2049.55 153.649 2052.7 150.038 Q2055.87 146.427 2061.45 146.427 Z\" fill=\"#000000\" fill-rule=\"evenodd\" fill-opacity=\"1\" /><path clip-path=\"url(#clip200)\" d=\"M 0 0 M2077.95 136.959 L2082.21 136.959 L2082.21 150.894 L2085.1 148.811 L2086.86 151.265 L2082.21 154.529 L2082.21 172.978 L2077.95 172.978 L2077.95 157.561 L2075.1 159.598 L2073.39 157.144 L2077.95 153.88 L2077.95 136.959 Z\" fill=\"#000000\" fill-rule=\"evenodd\" fill-opacity=\"1\" /><path clip-path=\"url(#clip200)\" d=\"M 0 0 M2113.51 158.95 L2113.51 161.033 L2093.92 161.033 Q2094.2 165.431 2096.56 167.746 Q2098.95 170.038 2103.18 170.038 Q2105.64 170.038 2107.93 169.436 Q2110.24 168.834 2112.51 167.63 L2112.51 171.658 Q2110.22 172.63 2107.81 173.14 Q2105.41 173.649 2102.93 173.649 Q2096.73 173.649 2093.09 170.038 Q2089.48 166.427 2089.48 160.269 Q2089.48 153.904 2092.91 150.177 Q2096.35 146.427 2102.19 146.427 Q2107.42 146.427 2110.45 149.806 Q2113.51 153.163 2113.51 158.95 M2109.25 157.7 Q2109.2 154.205 2107.28 152.121 Q2105.38 150.038 2102.23 150.038 Q2098.67 150.038 2096.52 152.052 Q2094.39 154.066 2094.06 157.723 L2109.25 157.7 M2105.75 172.978 L2108.51 172.978 Q2107.47 174.39 2106.96 175.408 Q2106.47 176.427 2106.47 177.144 Q2106.47 178.209 2107.1 178.741 Q2107.74 179.274 2108.99 179.274 Q2109.73 179.274 2110.45 179.089 Q2111.17 178.927 2111.89 178.579 L2111.89 181.658 Q2111.01 181.89 2110.22 182.005 Q2109.43 182.121 2108.74 182.121 Q2105.91 182.121 2104.57 181.103 Q2103.25 180.107 2103.25 177.954 Q2103.25 176.843 2103.85 175.616 Q2104.48 174.413 2105.75 172.978 Z\" fill=\"#000000\" fill-rule=\"evenodd\" fill-opacity=\"1\" /><path clip-path=\"url(#clip200)\" d=\"M 0 0 M2136.59 160.038 Q2136.59 155.339 2134.64 152.677 Q2132.72 149.992 2129.34 149.992 Q2125.96 149.992 2124.02 152.677 Q2122.1 155.339 2122.1 160.038 Q2122.1 164.737 2124.02 167.422 Q2125.96 170.084 2129.34 170.084 Q2132.72 170.084 2134.64 167.422 Q2136.59 164.737 2136.59 160.038 M2122.1 150.987 Q2123.44 148.672 2125.48 147.561 Q2127.54 146.427 2130.38 146.427 Q2135.1 146.427 2138.04 150.177 Q2141.01 153.927 2141.01 160.038 Q2141.01 166.149 2138.04 169.899 Q2135.1 173.649 2130.38 173.649 Q2127.54 173.649 2125.48 172.538 Q2123.44 171.403 2122.1 169.089 L2122.1 172.978 L2117.81 172.978 L2117.81 136.959 L2122.1 136.959 L2122.1 150.987 Z\" fill=\"#000000\" fill-rule=\"evenodd\" fill-opacity=\"1\" /><path clip-path=\"url(#clip200)\" d=\"M 0 0 M2145.47 147.052 L2149.73 147.052 L2149.73 172.978 L2145.47 172.978 L2145.47 147.052 M2145.47 136.959 L2149.73 136.959 L2149.73 142.353 L2145.47 142.353 L2145.47 136.959 Z\" fill=\"#000000\" fill-rule=\"evenodd\" fill-opacity=\"1\" /><path clip-path=\"url(#clip200)\" d=\"M 0 0 M2176.38 158.95 L2176.38 161.033 L2156.79 161.033 Q2157.07 165.431 2159.43 167.746 Q2161.82 170.038 2166.05 170.038 Q2168.51 170.038 2170.8 169.436 Q2173.11 168.834 2175.38 167.63 L2175.38 171.658 Q2173.09 172.63 2170.68 173.14 Q2168.28 173.649 2165.8 173.649 Q2159.6 173.649 2155.96 170.038 Q2152.35 166.427 2152.35 160.269 Q2152.35 153.904 2155.78 150.177 Q2159.22 146.427 2165.06 146.427 Q2170.29 146.427 2173.32 149.806 Q2176.38 153.163 2176.38 158.95 M2172.12 157.7 Q2172.07 154.205 2170.15 152.121 Q2168.25 150.038 2165.1 150.038 Q2161.54 150.038 2159.39 152.052 Q2157.26 154.066 2156.93 157.723 L2172.12 157.7 Z\" fill=\"#000000\" fill-rule=\"evenodd\" fill-opacity=\"1\" /><polyline clip-path=\"url(#clip200)\" style=\"stroke:#e26f46; stroke-width:4; stroke-opacity:1; fill:none\" points=\"\n",
       "  1851.6,216.178 1999.17,216.178 \n",
       "  \"/>\n",
       "<path clip-path=\"url(#clip200)\" d=\"M 0 0 M2029.09 207.532 L2033.35 207.532 L2033.35 233.921 Q2033.35 238.874 2031.45 241.096 Q2029.57 243.319 2025.38 243.319 L2023.76 243.319 L2023.76 239.708 L2024.9 239.708 Q2027.33 239.708 2028.21 238.573 Q2029.09 237.462 2029.09 233.921 L2029.09 207.532 M2029.09 197.439 L2033.35 197.439 L2033.35 202.833 L2029.09 202.833 L2029.09 197.439 Z\" fill=\"#000000\" fill-rule=\"evenodd\" fill-opacity=\"1\" /><path clip-path=\"url(#clip200)\" d=\"M 0 0 M2049.6 220.425 Q2044.43 220.425 2042.44 221.606 Q2040.45 222.786 2040.45 225.634 Q2040.45 227.902 2041.93 229.245 Q2043.44 230.564 2046.01 230.564 Q2049.55 230.564 2051.68 228.064 Q2053.83 225.541 2053.83 221.374 L2053.83 220.425 L2049.6 220.425 M2058.09 218.666 L2058.09 233.458 L2053.83 233.458 L2053.83 229.522 Q2052.37 231.883 2050.2 233.018 Q2048.02 234.129 2044.87 234.129 Q2040.89 234.129 2038.53 231.907 Q2036.19 229.661 2036.19 225.911 Q2036.19 221.536 2039.11 219.314 Q2042.05 217.092 2047.86 217.092 L2053.83 217.092 L2053.83 216.675 Q2053.83 213.735 2051.89 212.138 Q2049.97 210.518 2046.47 210.518 Q2044.25 210.518 2042.14 211.05 Q2040.04 211.583 2038.09 212.647 L2038.09 208.712 Q2040.43 207.81 2042.63 207.37 Q2044.83 206.907 2046.91 206.907 Q2052.54 206.907 2055.31 209.823 Q2058.09 212.74 2058.09 218.666 Z\" fill=\"#000000\" fill-rule=\"evenodd\" fill-opacity=\"1\" /><path clip-path=\"url(#clip200)\" d=\"M 0 0 M2079.09 208.296 L2079.09 212.323 Q2077.28 211.397 2075.34 210.935 Q2073.39 210.472 2071.31 210.472 Q2068.14 210.472 2066.54 211.444 Q2064.97 212.416 2064.97 214.36 Q2064.97 215.842 2066.1 216.698 Q2067.23 217.532 2070.66 218.296 L2072.12 218.62 Q2076.66 219.592 2078.55 221.374 Q2080.48 223.134 2080.48 226.305 Q2080.48 229.916 2077.6 232.022 Q2074.76 234.129 2069.76 234.129 Q2067.67 234.129 2065.41 233.712 Q2063.16 233.319 2060.66 232.508 L2060.66 228.11 Q2063.02 229.337 2065.31 229.962 Q2067.61 230.564 2069.85 230.564 Q2072.86 230.564 2074.48 229.546 Q2076.1 228.504 2076.1 226.629 Q2076.1 224.893 2074.92 223.967 Q2073.76 223.041 2069.8 222.184 L2068.32 221.837 Q2064.36 221.004 2062.61 219.291 Q2060.85 217.555 2060.85 214.546 Q2060.85 210.888 2063.44 208.898 Q2066.03 206.907 2070.8 206.907 Q2073.16 206.907 2075.24 207.254 Q2077.33 207.601 2079.09 208.296 Z\" fill=\"#000000\" fill-rule=\"evenodd\" fill-opacity=\"1\" /><path clip-path=\"url(#clip200)\" d=\"M 0 0 M2089.16 200.171 L2089.16 207.532 L2097.93 207.532 L2097.93 210.842 L2089.16 210.842 L2089.16 224.916 Q2089.16 228.087 2090.01 228.99 Q2090.89 229.893 2093.55 229.893 L2097.93 229.893 L2097.93 233.458 L2093.55 233.458 Q2088.62 233.458 2086.75 231.629 Q2084.87 229.777 2084.87 224.916 L2084.87 210.842 L2081.75 210.842 L2081.75 207.532 L2084.87 207.532 L2084.87 200.171 L2089.16 200.171 Z\" fill=\"#000000\" fill-rule=\"evenodd\" fill-opacity=\"1\" /><path clip-path=\"url(#clip200)\" d=\"M 0 0 M2117.42 211.513 Q2116.7 211.097 2115.85 210.911 Q2115.01 210.703 2113.99 210.703 Q2110.38 210.703 2108.44 213.064 Q2106.52 215.402 2106.52 219.8 L2106.52 233.458 L2102.23 233.458 L2102.23 207.532 L2106.52 207.532 L2106.52 211.56 Q2107.86 209.198 2110.01 208.064 Q2112.16 206.907 2115.24 206.907 Q2115.68 206.907 2116.22 206.976 Q2116.75 207.023 2117.4 207.138 L2117.42 211.513 Z\" fill=\"#000000\" fill-rule=\"evenodd\" fill-opacity=\"1\" /><path clip-path=\"url(#clip200)\" d=\"M 0 0 M2120.04 207.532 L2140.27 207.532 L2140.27 211.421 L2124.25 230.055 L2140.27 230.055 L2140.27 233.458 L2119.46 233.458 L2119.46 229.569 L2135.48 210.935 L2120.04 210.935 L2120.04 207.532 Z\" fill=\"#000000\" fill-rule=\"evenodd\" fill-opacity=\"1\" /><path clip-path=\"url(#clip200)\" d=\"M 0 0 M2166.91 219.43 L2166.91 221.513 L2147.33 221.513 Q2147.6 225.911 2149.97 228.226 Q2152.35 230.518 2156.59 230.518 Q2159.04 230.518 2161.33 229.916 Q2163.65 229.314 2165.91 228.11 L2165.91 232.138 Q2163.62 233.11 2161.22 233.62 Q2158.81 234.129 2156.33 234.129 Q2150.13 234.129 2146.49 230.518 Q2142.88 226.907 2142.88 220.749 Q2142.88 214.384 2146.31 210.657 Q2149.76 206.907 2155.59 206.907 Q2160.82 206.907 2163.85 210.286 Q2166.91 213.643 2166.91 219.43 M2162.65 218.18 Q2162.6 214.685 2160.68 212.601 Q2158.79 210.518 2155.64 210.518 Q2152.07 210.518 2149.92 212.532 Q2147.79 214.546 2147.47 218.203 L2162.65 218.18 M2159.16 233.458 L2161.91 233.458 Q2160.87 234.87 2160.36 235.888 Q2159.87 236.907 2159.87 237.624 Q2159.87 238.689 2160.5 239.221 Q2161.15 239.754 2162.4 239.754 Q2163.14 239.754 2163.85 239.569 Q2164.57 239.407 2165.29 239.059 L2165.29 242.138 Q2164.41 242.37 2163.62 242.485 Q2162.84 242.601 2162.14 242.601 Q2159.32 242.601 2157.97 241.583 Q2156.66 240.587 2156.66 238.434 Q2156.66 237.323 2157.26 236.096 Q2157.88 234.893 2159.16 233.458 Z\" fill=\"#000000\" fill-rule=\"evenodd\" fill-opacity=\"1\" /><path clip-path=\"url(#clip200)\" d=\"M 0 0 M2189.99 220.518 Q2189.99 215.819 2188.04 213.157 Q2186.12 210.472 2182.74 210.472 Q2179.36 210.472 2177.42 213.157 Q2175.5 215.819 2175.5 220.518 Q2175.5 225.217 2177.42 227.902 Q2179.36 230.564 2182.74 230.564 Q2186.12 230.564 2188.04 227.902 Q2189.99 225.217 2189.99 220.518 M2175.5 211.467 Q2176.84 209.152 2178.88 208.041 Q2180.94 206.907 2183.78 206.907 Q2188.51 206.907 2191.45 210.657 Q2194.41 214.407 2194.41 220.518 Q2194.41 226.629 2191.45 230.379 Q2188.51 234.129 2183.78 234.129 Q2180.94 234.129 2178.88 233.018 Q2176.84 231.883 2175.5 229.569 L2175.5 233.458 L2171.22 233.458 L2171.22 197.439 L2175.5 197.439 L2175.5 211.467 Z\" fill=\"#000000\" fill-rule=\"evenodd\" fill-opacity=\"1\" /><path clip-path=\"url(#clip200)\" d=\"M 0 0 M2198.88 207.532 L2203.14 207.532 L2203.14 233.458 L2198.88 233.458 L2198.88 207.532 M2198.88 197.439 L2203.14 197.439 L2203.14 202.833 L2198.88 202.833 L2198.88 197.439 Z\" fill=\"#000000\" fill-rule=\"evenodd\" fill-opacity=\"1\" /><path clip-path=\"url(#clip200)\" d=\"M 0 0 M2229.78 219.43 L2229.78 221.513 L2210.2 221.513 Q2210.47 225.911 2212.84 228.226 Q2215.22 230.518 2219.46 230.518 Q2221.91 230.518 2224.2 229.916 Q2226.52 229.314 2228.78 228.11 L2228.78 232.138 Q2226.49 233.11 2224.09 233.62 Q2221.68 234.129 2219.2 234.129 Q2213 234.129 2209.36 230.518 Q2205.75 226.907 2205.75 220.749 Q2205.75 214.384 2209.18 210.657 Q2212.63 206.907 2218.46 206.907 Q2223.69 206.907 2226.72 210.286 Q2229.78 213.643 2229.78 219.43 M2225.52 218.18 Q2225.47 214.685 2223.55 212.601 Q2221.66 210.518 2218.51 210.518 Q2214.94 210.518 2212.79 212.532 Q2210.66 214.546 2210.34 218.203 L2225.52 218.18 Z\" fill=\"#000000\" fill-rule=\"evenodd\" fill-opacity=\"1\" /></svg>\n"
      ]
     },
     "execution_count": 297,
     "metadata": {},
     "output_type": "execute_result"
    }
   ],
   "source": [
    "plot(1:size(dying)[1], dying[:,1].+dying[:,3], label=\"gołębie\")\n",
    "plot!(1:size(dying)[1], dying[:,2].+dying[:,4], label=\"jastrzębie\")"
   ]
  },
  {
   "cell_type": "markdown",
   "metadata": {},
   "source": [
    "## funkcja rysująca wykresy"
   ]
  },
  {
   "cell_type": "code",
   "execution_count": 298,
   "metadata": {},
   "outputs": [
    {
     "data": {
      "text/plain": [
       "wykresy_all (generic function with 1 method)"
      ]
     },
     "execution_count": 298,
     "metadata": {},
     "output_type": "execute_result"
    }
   ],
   "source": [
    "function wykresy_all(n,m, g,j,ch_g,ch_j,p)\n",
    "    result = action2(n,m, g,j,ch_g,ch_j,p)\n",
    "    plot(1:size(result)[1], result[:,1], label=\"gołębie\")\n",
    "    plot!(1:size(result)[1], result[:,2], label=\"jastrzębie\")\n",
    "    plot!(1:size(result)[1], result[:,3], label=\"chore gołębie\")\n",
    "    plot!(1:size(result)[1], result[:,4], label=\"chore jastrzębie\")\n",
    "end"
   ]
  },
  {
   "cell_type": "code",
   "execution_count": 299,
   "metadata": {},
   "outputs": [
    {
     "data": {
      "text/plain": [
       "wykresy_two (generic function with 1 method)"
      ]
     },
     "execution_count": 299,
     "metadata": {},
     "output_type": "execute_result"
    }
   ],
   "source": [
    "function wykresy_two(n,m, g,j,ch_g,ch_j,p)\n",
    "    result = action2(n,m, g,j,ch_g,ch_j,p)\n",
    "    plot(1:size(result)[1], result[:,1], label=\"gołębie\")\n",
    "    plot!(1:size(result)[1], result[:,2], label=\"jastrzębie\")\n",
    "end"
   ]
  },
  {
   "cell_type": "code",
   "execution_count": 301,
   "metadata": {},
   "outputs": [
    {
     "name": "stdout",
     "output_type": "stream",
     "text": [
      "they made it\n"
     ]
    },
    {
     "data": {
      "image/svg+xml": [
       "<?xml version=\"1.0\" encoding=\"utf-8\"?>\n",
       "<svg xmlns=\"http://www.w3.org/2000/svg\" xmlns:xlink=\"http://www.w3.org/1999/xlink\" width=\"600\" height=\"400\" viewBox=\"0 0 2400 1600\">\n",
       "<defs>\n",
       "  <clipPath id=\"clip280\">\n",
       "    <rect x=\"0\" y=\"0\" width=\"2400\" height=\"1600\"/>\n",
       "  </clipPath>\n",
       "</defs>\n",
       "<path clip-path=\"url(#clip280)\" d=\"\n",
       "M0 1600 L2400 1600 L2400 0 L0 0  Z\n",
       "  \" fill=\"#ffffff\" fill-rule=\"evenodd\" fill-opacity=\"1\"/>\n",
       "<defs>\n",
       "  <clipPath id=\"clip281\">\n",
       "    <rect x=\"480\" y=\"0\" width=\"1681\" height=\"1600\"/>\n",
       "  </clipPath>\n",
       "</defs>\n",
       "<path clip-path=\"url(#clip280)\" d=\"\n",
       "M139.191 1486.45 L2352.76 1486.45 L2352.76 47.2441 L139.191 47.2441  Z\n",
       "  \" fill=\"#ffffff\" fill-rule=\"evenodd\" fill-opacity=\"1\"/>\n",
       "<defs>\n",
       "  <clipPath id=\"clip282\">\n",
       "    <rect x=\"139\" y=\"47\" width=\"2215\" height=\"1440\"/>\n",
       "  </clipPath>\n",
       "</defs>\n",
       "<polyline clip-path=\"url(#clip282)\" style=\"stroke:#000000; stroke-width:2; stroke-opacity:0.1; fill:none\" points=\"\n",
       "  159.221,1486.45 159.221,47.2441 \n",
       "  \"/>\n",
       "<polyline clip-path=\"url(#clip282)\" style=\"stroke:#000000; stroke-width:2; stroke-opacity:0.1; fill:none\" points=\"\n",
       "  585.399,1486.45 585.399,47.2441 \n",
       "  \"/>\n",
       "<polyline clip-path=\"url(#clip282)\" style=\"stroke:#000000; stroke-width:2; stroke-opacity:0.1; fill:none\" points=\"\n",
       "  1011.58,1486.45 1011.58,47.2441 \n",
       "  \"/>\n",
       "<polyline clip-path=\"url(#clip282)\" style=\"stroke:#000000; stroke-width:2; stroke-opacity:0.1; fill:none\" points=\"\n",
       "  1437.75,1486.45 1437.75,47.2441 \n",
       "  \"/>\n",
       "<polyline clip-path=\"url(#clip282)\" style=\"stroke:#000000; stroke-width:2; stroke-opacity:0.1; fill:none\" points=\"\n",
       "  1863.93,1486.45 1863.93,47.2441 \n",
       "  \"/>\n",
       "<polyline clip-path=\"url(#clip282)\" style=\"stroke:#000000; stroke-width:2; stroke-opacity:0.1; fill:none\" points=\"\n",
       "  2290.11,1486.45 2290.11,47.2441 \n",
       "  \"/>\n",
       "<polyline clip-path=\"url(#clip280)\" style=\"stroke:#000000; stroke-width:4; stroke-opacity:1; fill:none\" points=\"\n",
       "  139.191,1486.45 2352.76,1486.45 \n",
       "  \"/>\n",
       "<polyline clip-path=\"url(#clip280)\" style=\"stroke:#000000; stroke-width:4; stroke-opacity:1; fill:none\" points=\"\n",
       "  159.221,1486.45 159.221,1469.18 \n",
       "  \"/>\n",
       "<polyline clip-path=\"url(#clip280)\" style=\"stroke:#000000; stroke-width:4; stroke-opacity:1; fill:none\" points=\"\n",
       "  585.399,1486.45 585.399,1469.18 \n",
       "  \"/>\n",
       "<polyline clip-path=\"url(#clip280)\" style=\"stroke:#000000; stroke-width:4; stroke-opacity:1; fill:none\" points=\"\n",
       "  1011.58,1486.45 1011.58,1469.18 \n",
       "  \"/>\n",
       "<polyline clip-path=\"url(#clip280)\" style=\"stroke:#000000; stroke-width:4; stroke-opacity:1; fill:none\" points=\"\n",
       "  1437.75,1486.45 1437.75,1469.18 \n",
       "  \"/>\n",
       "<polyline clip-path=\"url(#clip280)\" style=\"stroke:#000000; stroke-width:4; stroke-opacity:1; fill:none\" points=\"\n",
       "  1863.93,1486.45 1863.93,1469.18 \n",
       "  \"/>\n",
       "<polyline clip-path=\"url(#clip280)\" style=\"stroke:#000000; stroke-width:4; stroke-opacity:1; fill:none\" points=\"\n",
       "  2290.11,1486.45 2290.11,1469.18 \n",
       "  \"/>\n",
       "<path clip-path=\"url(#clip280)\" d=\"M 0 0 M159.221 1515.64 Q155.61 1515.64 153.781 1519.2 Q151.976 1522.75 151.976 1529.87 Q151.976 1536.98 153.781 1540.55 Q155.61 1544.09 159.221 1544.09 Q162.855 1544.09 164.661 1540.55 Q166.49 1536.98 166.49 1529.87 Q166.49 1522.75 164.661 1519.2 Q162.855 1515.64 159.221 1515.64 M159.221 1511.93 Q165.031 1511.93 168.087 1516.54 Q171.166 1521.12 171.166 1529.87 Q171.166 1538.6 168.087 1543.21 Q165.031 1547.79 159.221 1547.79 Q153.411 1547.79 150.332 1543.21 Q147.277 1538.6 147.277 1529.87 Q147.277 1521.12 150.332 1516.54 Q153.411 1511.93 159.221 1511.93 Z\" fill=\"#000000\" fill-rule=\"evenodd\" fill-opacity=\"1\" /><path clip-path=\"url(#clip280)\" d=\"M 0 0 M562.274 1543.18 L569.913 1543.18 L569.913 1516.82 L561.602 1518.49 L561.602 1514.23 L569.866 1512.56 L574.542 1512.56 L574.542 1543.18 L582.181 1543.18 L582.181 1547.12 L562.274 1547.12 L562.274 1543.18 Z\" fill=\"#000000\" fill-rule=\"evenodd\" fill-opacity=\"1\" /><path clip-path=\"url(#clip280)\" d=\"M 0 0 M597.25 1515.64 Q593.639 1515.64 591.811 1519.2 Q590.005 1522.75 590.005 1529.87 Q590.005 1536.98 591.811 1540.55 Q593.639 1544.09 597.25 1544.09 Q600.885 1544.09 602.69 1540.55 Q604.519 1536.98 604.519 1529.87 Q604.519 1522.75 602.69 1519.2 Q600.885 1515.64 597.25 1515.64 M597.25 1511.93 Q603.061 1511.93 606.116 1516.54 Q609.195 1521.12 609.195 1529.87 Q609.195 1538.6 606.116 1543.21 Q603.061 1547.79 597.25 1547.79 Q591.44 1547.79 588.362 1543.21 Q585.306 1538.6 585.306 1529.87 Q585.306 1521.12 588.362 1516.54 Q591.44 1511.93 597.25 1511.93 Z\" fill=\"#000000\" fill-rule=\"evenodd\" fill-opacity=\"1\" /><path clip-path=\"url(#clip280)\" d=\"M 0 0 M992.722 1543.18 L1009.04 1543.18 L1009.04 1547.12 L987.097 1547.12 L987.097 1543.18 Q989.759 1540.43 994.342 1535.8 Q998.949 1531.15 1000.13 1529.81 Q1002.37 1527.28 1003.25 1525.55 Q1004.16 1523.79 1004.16 1522.1 Q1004.16 1519.34 1002.21 1517.61 Q1000.29 1515.87 997.189 1515.87 Q994.99 1515.87 992.537 1516.63 Q990.106 1517.4 987.328 1518.95 L987.328 1514.23 Q990.152 1513.09 992.606 1512.51 Q995.06 1511.93 997.097 1511.93 Q1002.47 1511.93 1005.66 1514.62 Q1008.86 1517.31 1008.86 1521.8 Q1008.86 1523.93 1008.05 1525.85 Q1007.26 1527.74 1005.15 1530.34 Q1004.57 1531.01 1001.47 1534.23 Q998.37 1537.42 992.722 1543.18 Z\" fill=\"#000000\" fill-rule=\"evenodd\" fill-opacity=\"1\" /><path clip-path=\"url(#clip280)\" d=\"M 0 0 M1024.11 1515.64 Q1020.5 1515.64 1018.67 1519.2 Q1016.87 1522.75 1016.87 1529.87 Q1016.87 1536.98 1018.67 1540.55 Q1020.5 1544.09 1024.11 1544.09 Q1027.74 1544.09 1029.55 1540.55 Q1031.38 1536.98 1031.38 1529.87 Q1031.38 1522.75 1029.55 1519.2 Q1027.74 1515.64 1024.11 1515.64 M1024.11 1511.93 Q1029.92 1511.93 1032.98 1516.54 Q1036.05 1521.12 1036.05 1529.87 Q1036.05 1538.6 1032.98 1543.21 Q1029.92 1547.79 1024.11 1547.79 Q1018.3 1547.79 1015.22 1543.21 Q1012.17 1538.6 1012.17 1529.87 Q1012.17 1521.12 1015.22 1516.54 Q1018.3 1511.93 1024.11 1511.93 Z\" fill=\"#000000\" fill-rule=\"evenodd\" fill-opacity=\"1\" /><path clip-path=\"url(#clip280)\" d=\"M 0 0 M1428.49 1528.49 Q1431.85 1529.2 1433.73 1531.47 Q1435.62 1533.74 1435.62 1537.07 Q1435.62 1542.19 1432.11 1544.99 Q1428.59 1547.79 1422.11 1547.79 Q1419.93 1547.79 1417.61 1547.35 Q1415.32 1546.93 1412.87 1546.08 L1412.87 1541.56 Q1414.81 1542.7 1417.13 1543.28 Q1419.44 1543.86 1421.97 1543.86 Q1426.36 1543.86 1428.66 1542.12 Q1430.97 1540.38 1430.97 1537.07 Q1430.97 1534.02 1428.82 1532.31 Q1426.69 1530.57 1422.87 1530.57 L1418.84 1530.57 L1418.84 1526.73 L1423.05 1526.73 Q1426.5 1526.73 1428.33 1525.36 Q1430.16 1523.97 1430.16 1521.38 Q1430.16 1518.72 1428.26 1517.31 Q1426.39 1515.87 1422.87 1515.87 Q1420.95 1515.87 1418.75 1516.29 Q1416.55 1516.7 1413.91 1517.58 L1413.91 1513.42 Q1416.57 1512.68 1418.89 1512.31 Q1421.23 1511.93 1423.29 1511.93 Q1428.61 1511.93 1431.71 1514.37 Q1434.81 1516.77 1434.81 1520.89 Q1434.81 1523.76 1433.17 1525.75 Q1431.53 1527.72 1428.49 1528.49 Z\" fill=\"#000000\" fill-rule=\"evenodd\" fill-opacity=\"1\" /><path clip-path=\"url(#clip280)\" d=\"M 0 0 M1450.69 1515.64 Q1447.08 1515.64 1445.25 1519.2 Q1443.45 1522.75 1443.45 1529.87 Q1443.45 1536.98 1445.25 1540.55 Q1447.08 1544.09 1450.69 1544.09 Q1454.33 1544.09 1456.13 1540.55 Q1457.96 1536.98 1457.96 1529.87 Q1457.96 1522.75 1456.13 1519.2 Q1454.33 1515.64 1450.69 1515.64 M1450.69 1511.93 Q1456.5 1511.93 1459.56 1516.54 Q1462.64 1521.12 1462.64 1529.87 Q1462.64 1538.6 1459.56 1543.21 Q1456.5 1547.79 1450.69 1547.79 Q1444.88 1547.79 1441.8 1543.21 Q1438.75 1538.6 1438.75 1529.87 Q1438.75 1521.12 1441.8 1516.54 Q1444.88 1511.93 1450.69 1511.93 Z\" fill=\"#000000\" fill-rule=\"evenodd\" fill-opacity=\"1\" /><path clip-path=\"url(#clip280)\" d=\"M 0 0 M1853.43 1516.63 L1841.63 1535.08 L1853.43 1535.08 L1853.43 1516.63 M1852.21 1512.56 L1858.09 1512.56 L1858.09 1535.08 L1863.02 1535.08 L1863.02 1538.97 L1858.09 1538.97 L1858.09 1547.12 L1853.43 1547.12 L1853.43 1538.97 L1837.83 1538.97 L1837.83 1534.46 L1852.21 1512.56 Z\" fill=\"#000000\" fill-rule=\"evenodd\" fill-opacity=\"1\" /><path clip-path=\"url(#clip280)\" d=\"M 0 0 M1878.09 1515.64 Q1874.47 1515.64 1872.65 1519.2 Q1870.84 1522.75 1870.84 1529.87 Q1870.84 1536.98 1872.65 1540.55 Q1874.47 1544.09 1878.09 1544.09 Q1881.72 1544.09 1883.53 1540.55 Q1885.35 1536.98 1885.35 1529.87 Q1885.35 1522.75 1883.53 1519.2 Q1881.72 1515.64 1878.09 1515.64 M1878.09 1511.93 Q1883.9 1511.93 1886.95 1516.54 Q1890.03 1521.12 1890.03 1529.87 Q1890.03 1538.6 1886.95 1543.21 Q1883.9 1547.79 1878.09 1547.79 Q1872.28 1547.79 1869.2 1543.21 Q1866.14 1538.6 1866.14 1529.87 Q1866.14 1521.12 1869.2 1516.54 Q1872.28 1511.93 1878.09 1511.93 Z\" fill=\"#000000\" fill-rule=\"evenodd\" fill-opacity=\"1\" /><path clip-path=\"url(#clip280)\" d=\"M 0 0 M2266.88 1512.56 L2285.24 1512.56 L2285.24 1516.5 L2271.16 1516.5 L2271.16 1524.97 Q2272.18 1524.62 2273.2 1524.46 Q2274.22 1524.27 2275.24 1524.27 Q2281.02 1524.27 2284.4 1527.44 Q2287.78 1530.62 2287.78 1536.03 Q2287.78 1541.61 2284.31 1544.71 Q2280.84 1547.79 2274.52 1547.79 Q2272.34 1547.79 2270.07 1547.42 Q2267.83 1547.05 2265.42 1546.31 L2265.42 1541.61 Q2267.5 1542.74 2269.73 1543.3 Q2271.95 1543.86 2274.43 1543.86 Q2278.43 1543.86 2280.77 1541.75 Q2283.11 1539.64 2283.11 1536.03 Q2283.11 1532.42 2280.77 1530.31 Q2278.43 1528.21 2274.43 1528.21 Q2272.55 1528.21 2270.68 1528.62 Q2268.82 1529.04 2266.88 1529.92 L2266.88 1512.56 Z\" fill=\"#000000\" fill-rule=\"evenodd\" fill-opacity=\"1\" /><path clip-path=\"url(#clip280)\" d=\"M 0 0 M2302.85 1515.64 Q2299.24 1515.64 2297.41 1519.2 Q2295.61 1522.75 2295.61 1529.87 Q2295.61 1536.98 2297.41 1540.55 Q2299.24 1544.09 2302.85 1544.09 Q2306.49 1544.09 2308.29 1540.55 Q2310.12 1536.98 2310.12 1529.87 Q2310.12 1522.75 2308.29 1519.2 Q2306.49 1515.64 2302.85 1515.64 M2302.85 1511.93 Q2308.66 1511.93 2311.72 1516.54 Q2314.8 1521.12 2314.8 1529.87 Q2314.8 1538.6 2311.72 1543.21 Q2308.66 1547.79 2302.85 1547.79 Q2297.04 1547.79 2293.96 1543.21 Q2290.91 1538.6 2290.91 1529.87 Q2290.91 1521.12 2293.96 1516.54 Q2297.04 1511.93 2302.85 1511.93 Z\" fill=\"#000000\" fill-rule=\"evenodd\" fill-opacity=\"1\" /><polyline clip-path=\"url(#clip282)\" style=\"stroke:#000000; stroke-width:2; stroke-opacity:0.1; fill:none\" points=\"\n",
       "  139.191,1445.72 2352.76,1445.72 \n",
       "  \"/>\n",
       "<polyline clip-path=\"url(#clip282)\" style=\"stroke:#000000; stroke-width:2; stroke-opacity:0.1; fill:none\" points=\"\n",
       "  139.191,1046.38 2352.76,1046.38 \n",
       "  \"/>\n",
       "<polyline clip-path=\"url(#clip282)\" style=\"stroke:#000000; stroke-width:2; stroke-opacity:0.1; fill:none\" points=\"\n",
       "  139.191,647.045 2352.76,647.045 \n",
       "  \"/>\n",
       "<polyline clip-path=\"url(#clip282)\" style=\"stroke:#000000; stroke-width:2; stroke-opacity:0.1; fill:none\" points=\"\n",
       "  139.191,247.71 2352.76,247.71 \n",
       "  \"/>\n",
       "<polyline clip-path=\"url(#clip280)\" style=\"stroke:#000000; stroke-width:4; stroke-opacity:1; fill:none\" points=\"\n",
       "  139.191,1486.45 139.191,47.2441 \n",
       "  \"/>\n",
       "<polyline clip-path=\"url(#clip280)\" style=\"stroke:#000000; stroke-width:4; stroke-opacity:1; fill:none\" points=\"\n",
       "  139.191,1445.72 165.754,1445.72 \n",
       "  \"/>\n",
       "<polyline clip-path=\"url(#clip280)\" style=\"stroke:#000000; stroke-width:4; stroke-opacity:1; fill:none\" points=\"\n",
       "  139.191,1046.38 165.754,1046.38 \n",
       "  \"/>\n",
       "<polyline clip-path=\"url(#clip280)\" style=\"stroke:#000000; stroke-width:4; stroke-opacity:1; fill:none\" points=\"\n",
       "  139.191,647.045 165.754,647.045 \n",
       "  \"/>\n",
       "<polyline clip-path=\"url(#clip280)\" style=\"stroke:#000000; stroke-width:4; stroke-opacity:1; fill:none\" points=\"\n",
       "  139.191,247.71 165.754,247.71 \n",
       "  \"/>\n",
       "<path clip-path=\"url(#clip280)\" d=\"M 0 0 M91.2465 1431.51 Q87.6354 1431.51 85.8068 1435.08 Q84.0012 1438.62 84.0012 1445.75 Q84.0012 1452.86 85.8068 1456.42 Q87.6354 1459.96 91.2465 1459.96 Q94.8808 1459.96 96.6863 1456.42 Q98.515 1452.86 98.515 1445.75 Q98.515 1438.62 96.6863 1435.08 Q94.8808 1431.51 91.2465 1431.51 M91.2465 1427.81 Q97.0567 1427.81 100.112 1432.42 Q103.191 1437 103.191 1445.75 Q103.191 1454.48 100.112 1459.08 Q97.0567 1463.67 91.2465 1463.67 Q85.4364 1463.67 82.3577 1459.08 Q79.3022 1454.48 79.3022 1445.75 Q79.3022 1437 82.3577 1432.42 Q85.4364 1427.81 91.2465 1427.81 Z\" fill=\"#000000\" fill-rule=\"evenodd\" fill-opacity=\"1\" /><path clip-path=\"url(#clip280)\" d=\"M 0 0 M59.8578 1059.73 L76.1772 1059.73 L76.1772 1063.66 L54.2328 1063.66 L54.2328 1059.73 Q56.8949 1056.97 61.4782 1052.34 Q66.0846 1047.69 67.2652 1046.35 Q69.5105 1043.82 70.3902 1042.09 Q71.2929 1040.33 71.2929 1038.64 Q71.2929 1035.88 69.3485 1034.15 Q67.4272 1032.41 64.3254 1032.41 Q62.1263 1032.41 59.6726 1033.17 Q57.2421 1033.94 54.4643 1035.49 L54.4643 1030.77 Q57.2884 1029.63 59.7421 1029.05 Q62.1958 1028.48 64.2328 1028.48 Q69.6031 1028.48 72.7976 1031.16 Q75.992 1033.85 75.992 1038.34 Q75.992 1040.47 75.1818 1042.39 Q74.3948 1044.29 72.2883 1046.88 Q71.7096 1047.55 68.6078 1050.77 Q65.5059 1053.96 59.8578 1059.73 Z\" fill=\"#000000\" fill-rule=\"evenodd\" fill-opacity=\"1\" /><path clip-path=\"url(#clip280)\" d=\"M 0 0 M91.2465 1032.18 Q87.6354 1032.18 85.8068 1035.74 Q84.0012 1039.29 84.0012 1046.42 Q84.0012 1053.52 85.8068 1057.09 Q87.6354 1060.63 91.2465 1060.63 Q94.8808 1060.63 96.6863 1057.09 Q98.515 1053.52 98.515 1046.42 Q98.515 1039.29 96.6863 1035.74 Q94.8808 1032.18 91.2465 1032.18 M91.2465 1028.48 Q97.0567 1028.48 100.112 1033.08 Q103.191 1037.67 103.191 1046.42 Q103.191 1055.14 100.112 1059.75 Q97.0567 1064.33 91.2465 1064.33 Q85.4364 1064.33 82.3577 1059.75 Q79.3022 1055.14 79.3022 1046.42 Q79.3022 1037.67 82.3577 1033.08 Q85.4364 1028.48 91.2465 1028.48 Z\" fill=\"#000000\" fill-rule=\"evenodd\" fill-opacity=\"1\" /><path clip-path=\"url(#clip280)\" d=\"M 0 0 M66.5939 633.839 L54.7884 652.288 L66.5939 652.288 L66.5939 633.839 M65.367 629.765 L71.2466 629.765 L71.2466 652.288 L76.1772 652.288 L76.1772 656.177 L71.2466 656.177 L71.2466 664.325 L66.5939 664.325 L66.5939 656.177 L50.9921 656.177 L50.9921 651.663 L65.367 629.765 Z\" fill=\"#000000\" fill-rule=\"evenodd\" fill-opacity=\"1\" /><path clip-path=\"url(#clip280)\" d=\"M 0 0 M91.2465 632.844 Q87.6354 632.844 85.8068 636.409 Q84.0012 639.951 84.0012 647.08 Q84.0012 654.187 85.8068 657.751 Q87.6354 661.293 91.2465 661.293 Q94.8808 661.293 96.6863 657.751 Q98.515 654.187 98.515 647.08 Q98.515 639.951 96.6863 636.409 Q94.8808 632.844 91.2465 632.844 M91.2465 629.14 Q97.0567 629.14 100.112 633.747 Q103.191 638.33 103.191 647.08 Q103.191 655.807 100.112 660.413 Q97.0567 664.997 91.2465 664.997 Q85.4364 664.997 82.3577 660.413 Q79.3022 655.807 79.3022 647.08 Q79.3022 638.33 82.3577 633.747 Q85.4364 629.14 91.2465 629.14 Z\" fill=\"#000000\" fill-rule=\"evenodd\" fill-opacity=\"1\" /><path clip-path=\"url(#clip280)\" d=\"M 0 0 M64.6495 245.847 Q61.5013 245.847 59.6495 248 Q57.8208 250.152 57.8208 253.902 Q57.8208 257.629 59.6495 259.805 Q61.5013 261.958 64.6495 261.958 Q67.7976 261.958 69.6263 259.805 Q71.4781 257.629 71.4781 253.902 Q71.4781 250.152 69.6263 248 Q67.7976 245.847 64.6495 245.847 M73.9318 231.194 L73.9318 235.453 Q72.1726 234.62 70.367 234.18 Q68.5846 233.74 66.8254 233.74 Q62.1958 233.74 59.7421 236.865 Q57.3115 239.99 56.9643 246.31 Q58.33 244.296 60.3902 243.231 Q62.4504 242.143 64.9272 242.143 Q70.1355 242.143 73.1448 245.315 Q76.1772 248.463 76.1772 253.902 Q76.1772 259.226 73.029 262.444 Q69.8809 265.662 64.6495 265.662 Q58.6541 265.662 55.4828 261.078 Q52.3116 256.472 52.3116 247.745 Q52.3116 239.551 56.2004 234.69 Q60.0893 229.805 66.6402 229.805 Q68.3994 229.805 70.1818 230.153 Q71.9874 230.5 73.9318 231.194 Z\" fill=\"#000000\" fill-rule=\"evenodd\" fill-opacity=\"1\" /><path clip-path=\"url(#clip280)\" d=\"M 0 0 M91.2465 233.509 Q87.6354 233.509 85.8068 237.074 Q84.0012 240.615 84.0012 247.745 Q84.0012 254.851 85.8068 258.416 Q87.6354 261.958 91.2465 261.958 Q94.8808 261.958 96.6863 258.416 Q98.515 254.851 98.515 247.745 Q98.515 240.615 96.6863 237.074 Q94.8808 233.509 91.2465 233.509 M91.2465 229.805 Q97.0567 229.805 100.112 234.412 Q103.191 238.995 103.191 247.745 Q103.191 256.472 100.112 261.078 Q97.0567 265.662 91.2465 265.662 Q85.4364 265.662 82.3577 261.078 Q79.3022 256.472 79.3022 247.745 Q79.3022 238.995 82.3577 234.412 Q85.4364 229.805 91.2465 229.805 Z\" fill=\"#000000\" fill-rule=\"evenodd\" fill-opacity=\"1\" /><polyline clip-path=\"url(#clip282)\" style=\"stroke:#009af9; stroke-width:4; stroke-opacity:1; fill:none\" points=\"\n",
       "  201.839,1186.15 244.457,1325.92 287.074,1325.92 329.692,1365.85 372.31,1266.01 414.928,1246.05 457.545,1266.01 500.163,1266.01 542.781,1206.11 585.399,1206.11 \n",
       "  628.016,1266.01 670.634,1146.21 713.252,1106.28 755.869,1206.11 798.487,1305.95 841.105,1325.92 883.723,1246.05 926.34,1206.11 968.958,1266.01 1011.58,1246.05 \n",
       "  1054.19,1266.01 1096.81,1285.98 1139.43,1226.08 1182.05,1166.18 1224.66,1146.21 1267.28,1166.18 1309.9,1246.05 1352.52,1246.05 1395.14,1186.15 1437.75,1126.25 \n",
       "  1480.37,1166.18 1522.99,1186.15 1565.61,1226.08 1608.22,1226.08 1650.84,1206.11 1693.46,1285.98 1736.08,1285.98 1778.7,1285.98 1821.31,1305.95 1863.93,1285.98 \n",
       "  1906.55,1266.01 1949.17,1186.15 1991.78,1246.05 2034.4,1285.98 2077.02,1166.18 2119.64,1206.11 2162.25,1126.25 2204.87,1106.28 2247.49,1166.18 2290.11,1166.18 \n",
       "  \n",
       "  \"/>\n",
       "<polyline clip-path=\"url(#clip282)\" style=\"stroke:#e26f46; stroke-width:4; stroke-opacity:1; fill:none\" points=\"\n",
       "  201.839,1186.15 244.457,1186.15 287.074,1305.95 329.692,1226.08 372.31,1206.11 414.928,1206.11 457.545,1126.25 500.163,1046.38 542.781,1006.45 585.399,806.779 \n",
       "  628.016,1066.35 670.634,1106.28 713.252,1006.45 755.869,846.713 798.487,746.879 841.105,1046.38 883.723,1026.41 926.34,986.48 968.958,846.713 1011.58,1046.38 \n",
       "  1054.19,866.68 1096.81,986.48 1139.43,1126.25 1182.05,886.647 1224.66,1086.31 1267.28,806.779 1309.9,1086.31 1352.52,1126.25 1395.14,1146.21 1437.75,1146.21 \n",
       "  1480.37,1166.18 1522.99,1026.41 1565.61,846.713 1608.22,1026.41 1650.84,926.58 1693.46,1086.31 1736.08,926.58 1778.7,1285.98 1821.31,1206.11 1863.93,1285.98 \n",
       "  1906.55,1186.15 1949.17,1126.25 1991.78,1146.21 2034.4,1285.98 2077.02,1266.01 2119.64,1126.25 2162.25,1226.08 2204.87,1086.31 2247.49,1066.35 2290.11,1106.28 \n",
       "  \n",
       "  \"/>\n",
       "<polyline clip-path=\"url(#clip282)\" style=\"stroke:#3da44d; stroke-width:4; stroke-opacity:1; fill:none\" points=\"\n",
       "  201.839,387.478 244.457,986.48 287.074,1266.01 329.692,1365.85 372.31,1445.72 414.928,1425.75 457.545,1365.85 500.163,1405.78 542.781,1445.72 585.399,1425.75 \n",
       "  628.016,1425.75 670.634,1445.72 713.252,1445.72 755.869,1445.72 798.487,1445.72 841.105,1445.72 883.723,1445.72 926.34,1445.72 968.958,1445.72 1011.58,1445.72 \n",
       "  1054.19,1445.72 1096.81,1445.72 1139.43,1445.72 1182.05,1445.72 1224.66,1445.72 1267.28,1445.72 1309.9,1445.72 1352.52,1405.78 1395.14,1385.82 1437.75,1365.85 \n",
       "  1480.37,1345.88 1522.99,1365.85 1565.61,1445.72 1608.22,1445.72 1650.84,1425.75 1693.46,1405.78 1736.08,1385.82 1778.7,1405.78 1821.31,1325.92 1863.93,1345.88 \n",
       "  1906.55,1305.95 1949.17,1266.01 1991.78,1226.08 2034.4,1246.05 2077.02,1285.98 2119.64,1305.95 2162.25,1325.92 2204.87,1206.11 2247.49,1226.08 2290.11,1246.05 \n",
       "  \n",
       "  \"/>\n",
       "<polyline clip-path=\"url(#clip282)\" style=\"stroke:#c271d2; stroke-width:4; stroke-opacity:1; fill:none\" points=\"\n",
       "  201.839,87.9763 244.457,547.212 287.074,946.547 329.692,1146.21 372.31,1186.15 414.928,1206.11 457.545,1166.18 500.163,1325.92 542.781,1365.85 585.399,1405.78 \n",
       "  628.016,1385.82 670.634,1365.85 713.252,1405.78 755.869,1445.72 798.487,1445.72 841.105,1445.72 883.723,1445.72 926.34,1445.72 968.958,1445.72 1011.58,1425.75 \n",
       "  1054.19,1445.72 1096.81,1445.72 1139.43,1445.72 1182.05,1425.75 1224.66,1425.75 1267.28,1405.78 1309.9,1405.78 1352.52,1405.78 1395.14,1385.82 1437.75,1385.82 \n",
       "  1480.37,1325.92 1522.99,1345.88 1565.61,1365.85 1608.22,1365.85 1650.84,1345.88 1693.46,1365.85 1736.08,1305.95 1778.7,1285.98 1821.31,1246.05 1863.93,1246.05 \n",
       "  1906.55,1325.92 1949.17,1266.01 1991.78,1226.08 2034.4,1266.01 2077.02,1266.01 2119.64,1345.88 2162.25,1325.92 2204.87,1425.75 2247.49,1405.78 2290.11,1365.85 \n",
       "  \n",
       "  \"/>\n",
       "<path clip-path=\"url(#clip280)\" d=\"\n",
       "M1694.76 397.618 L2278.97 397.618 L2278.97 95.2176 L1694.76 95.2176  Z\n",
       "  \" fill=\"#ffffff\" fill-rule=\"evenodd\" fill-opacity=\"1\"/>\n",
       "<polyline clip-path=\"url(#clip280)\" style=\"stroke:#000000; stroke-width:4; stroke-opacity:1; fill:none\" points=\"\n",
       "  1694.76,397.618 2278.97,397.618 2278.97,95.2176 1694.76,95.2176 1694.76,397.618 \n",
       "  \"/>\n",
       "<polyline clip-path=\"url(#clip280)\" style=\"stroke:#009af9; stroke-width:4; stroke-opacity:1; fill:none\" points=\"\n",
       "  1719.35,155.698 1866.92,155.698 \n",
       "  \"/>\n",
       "<path clip-path=\"url(#clip280)\" d=\"M 0 0 M1910.43 159.714 Q1910.43 155.084 1908.51 152.538 Q1906.61 149.992 1903.16 149.992 Q1899.74 149.992 1897.81 152.538 Q1895.92 155.084 1895.92 159.714 Q1895.92 164.32 1897.81 166.866 Q1899.74 169.413 1903.16 169.413 Q1906.61 169.413 1908.51 166.866 Q1910.43 164.32 1910.43 159.714 M1914.69 169.76 Q1914.69 176.38 1911.75 179.598 Q1908.81 182.839 1902.74 182.839 Q1900.5 182.839 1898.51 182.491 Q1896.52 182.167 1894.64 181.473 L1894.64 177.329 Q1896.52 178.348 1898.35 178.834 Q1900.18 179.32 1902.07 179.32 Q1906.26 179.32 1908.35 177.121 Q1910.43 174.945 1910.43 170.524 L1910.43 168.417 Q1909.11 170.709 1907.05 171.843 Q1904.99 172.978 1902.12 172.978 Q1897.35 172.978 1894.43 169.343 Q1891.52 165.709 1891.52 159.714 Q1891.52 153.695 1894.43 150.061 Q1897.35 146.427 1902.12 146.427 Q1904.99 146.427 1907.05 147.561 Q1909.11 148.695 1910.43 150.987 L1910.43 147.052 L1914.69 147.052 L1914.69 169.76 Z\" fill=\"#000000\" fill-rule=\"evenodd\" fill-opacity=\"1\" /><path clip-path=\"url(#clip280)\" d=\"M 0 0 M1929.2 150.038 Q1925.78 150.038 1923.79 152.723 Q1921.8 155.385 1921.8 160.038 Q1921.8 164.691 1923.76 167.376 Q1925.75 170.038 1929.2 170.038 Q1932.61 170.038 1934.6 167.353 Q1936.59 164.667 1936.59 160.038 Q1936.59 155.431 1934.6 152.746 Q1932.61 150.038 1929.2 150.038 M1929.2 146.427 Q1934.76 146.427 1937.93 150.038 Q1941.1 153.649 1941.1 160.038 Q1941.1 166.404 1937.93 170.038 Q1934.76 173.649 1929.2 173.649 Q1923.62 173.649 1920.45 170.038 Q1917.3 166.404 1917.3 160.038 Q1917.3 153.649 1920.45 150.038 Q1923.62 146.427 1929.2 146.427 Z\" fill=\"#000000\" fill-rule=\"evenodd\" fill-opacity=\"1\" /><path clip-path=\"url(#clip280)\" d=\"M 0 0 M1945.71 136.959 L1949.97 136.959 L1949.97 150.894 L1952.86 148.811 L1954.62 151.265 L1949.97 154.529 L1949.97 172.978 L1945.71 172.978 L1945.71 157.561 L1942.86 159.598 L1941.15 157.144 L1945.71 153.88 L1945.71 136.959 Z\" fill=\"#000000\" fill-rule=\"evenodd\" fill-opacity=\"1\" /><path clip-path=\"url(#clip280)\" d=\"M 0 0 M1981.26 158.95 L1981.26 161.033 L1961.68 161.033 Q1961.96 165.431 1964.32 167.746 Q1966.7 170.038 1970.94 170.038 Q1973.39 170.038 1975.68 169.436 Q1978 168.834 1980.27 167.63 L1980.27 171.658 Q1977.98 172.63 1975.57 173.14 Q1973.16 173.649 1970.68 173.649 Q1964.48 173.649 1960.85 170.038 Q1957.24 166.427 1957.24 160.269 Q1957.24 153.904 1960.66 150.177 Q1964.11 146.427 1969.94 146.427 Q1975.17 146.427 1978.21 149.806 Q1981.26 153.163 1981.26 158.95 M1977 157.7 Q1976.96 154.205 1975.04 152.121 Q1973.14 150.038 1969.99 150.038 Q1966.43 150.038 1964.27 152.052 Q1962.14 154.066 1961.82 157.723 L1977 157.7 M1973.51 172.978 L1976.26 172.978 Q1975.22 174.39 1974.71 175.408 Q1974.23 176.427 1974.23 177.144 Q1974.23 178.209 1974.85 178.741 Q1975.5 179.274 1976.75 179.274 Q1977.49 179.274 1978.21 179.089 Q1978.92 178.927 1979.64 178.579 L1979.64 181.658 Q1978.76 181.89 1977.98 182.005 Q1977.19 182.121 1976.49 182.121 Q1973.67 182.121 1972.33 181.103 Q1971.01 180.107 1971.01 177.954 Q1971.01 176.843 1971.61 175.616 Q1972.24 174.413 1973.51 172.978 Z\" fill=\"#000000\" fill-rule=\"evenodd\" fill-opacity=\"1\" /><path clip-path=\"url(#clip280)\" d=\"M 0 0 M2004.34 160.038 Q2004.34 155.339 2002.4 152.677 Q2000.48 149.992 1997.1 149.992 Q1993.72 149.992 1991.77 152.677 Q1989.85 155.339 1989.85 160.038 Q1989.85 164.737 1991.77 167.422 Q1993.72 170.084 1997.1 170.084 Q2000.48 170.084 2002.4 167.422 Q2004.34 164.737 2004.34 160.038 M1989.85 150.987 Q1991.19 148.672 1993.23 147.561 Q1995.29 146.427 1998.14 146.427 Q2002.86 146.427 2005.8 150.177 Q2008.76 153.927 2008.76 160.038 Q2008.76 166.149 2005.8 169.899 Q2002.86 173.649 1998.14 173.649 Q1995.29 173.649 1993.23 172.538 Q1991.19 171.403 1989.85 169.089 L1989.85 172.978 L1985.57 172.978 L1985.57 136.959 L1989.85 136.959 L1989.85 150.987 Z\" fill=\"#000000\" fill-rule=\"evenodd\" fill-opacity=\"1\" /><path clip-path=\"url(#clip280)\" d=\"M 0 0 M2013.23 147.052 L2017.49 147.052 L2017.49 172.978 L2013.23 172.978 L2013.23 147.052 M2013.23 136.959 L2017.49 136.959 L2017.49 142.353 L2013.23 142.353 L2013.23 136.959 Z\" fill=\"#000000\" fill-rule=\"evenodd\" fill-opacity=\"1\" /><path clip-path=\"url(#clip280)\" d=\"M 0 0 M2044.13 158.95 L2044.13 161.033 L2024.55 161.033 Q2024.83 165.431 2027.19 167.746 Q2029.57 170.038 2033.81 170.038 Q2036.26 170.038 2038.55 169.436 Q2040.87 168.834 2043.14 167.63 L2043.14 171.658 Q2040.85 172.63 2038.44 173.14 Q2036.03 173.649 2033.55 173.649 Q2027.35 173.649 2023.72 170.038 Q2020.11 166.427 2020.11 160.269 Q2020.11 153.904 2023.53 150.177 Q2026.98 146.427 2032.81 146.427 Q2038.04 146.427 2041.08 149.806 Q2044.13 153.163 2044.13 158.95 M2039.87 157.7 Q2039.83 154.205 2037.91 152.121 Q2036.01 150.038 2032.86 150.038 Q2029.3 150.038 2027.14 152.052 Q2025.01 154.066 2024.69 157.723 L2039.87 157.7 Z\" fill=\"#000000\" fill-rule=\"evenodd\" fill-opacity=\"1\" /><polyline clip-path=\"url(#clip280)\" style=\"stroke:#e26f46; stroke-width:4; stroke-opacity:1; fill:none\" points=\"\n",
       "  1719.35,216.178 1866.92,216.178 \n",
       "  \"/>\n",
       "<path clip-path=\"url(#clip280)\" d=\"M 0 0 M1896.84 207.532 L1901.1 207.532 L1901.1 233.921 Q1901.1 238.874 1899.2 241.096 Q1897.33 243.319 1893.14 243.319 L1891.52 243.319 L1891.52 239.708 L1892.65 239.708 Q1895.08 239.708 1895.96 238.573 Q1896.84 237.462 1896.84 233.921 L1896.84 207.532 M1896.84 197.439 L1901.1 197.439 L1901.1 202.833 L1896.84 202.833 L1896.84 197.439 Z\" fill=\"#000000\" fill-rule=\"evenodd\" fill-opacity=\"1\" /><path clip-path=\"url(#clip280)\" d=\"M 0 0 M1917.35 220.425 Q1912.19 220.425 1910.2 221.606 Q1908.21 222.786 1908.21 225.634 Q1908.21 227.902 1909.69 229.245 Q1911.19 230.564 1913.76 230.564 Q1917.3 230.564 1919.43 228.064 Q1921.59 225.541 1921.59 221.374 L1921.59 220.425 L1917.35 220.425 M1925.85 218.666 L1925.85 233.458 L1921.59 233.458 L1921.59 229.522 Q1920.13 231.883 1917.95 233.018 Q1915.78 234.129 1912.63 234.129 Q1908.65 234.129 1906.29 231.907 Q1903.95 229.661 1903.95 225.911 Q1903.95 221.536 1906.87 219.314 Q1909.8 217.092 1915.62 217.092 L1921.59 217.092 L1921.59 216.675 Q1921.59 213.735 1919.64 212.138 Q1917.72 210.518 1914.23 210.518 Q1912 210.518 1909.9 211.05 Q1907.79 211.583 1905.85 212.647 L1905.85 208.712 Q1908.18 207.81 1910.38 207.37 Q1912.58 206.907 1914.67 206.907 Q1920.29 206.907 1923.07 209.823 Q1925.85 212.74 1925.85 218.666 Z\" fill=\"#000000\" fill-rule=\"evenodd\" fill-opacity=\"1\" /><path clip-path=\"url(#clip280)\" d=\"M 0 0 M1946.84 208.296 L1946.84 212.323 Q1945.04 211.397 1943.09 210.935 Q1941.15 210.472 1939.06 210.472 Q1935.89 210.472 1934.3 211.444 Q1932.72 212.416 1932.72 214.36 Q1932.72 215.842 1933.86 216.698 Q1934.99 217.532 1938.42 218.296 L1939.87 218.62 Q1944.41 219.592 1946.31 221.374 Q1948.23 223.134 1948.23 226.305 Q1948.23 229.916 1945.36 232.022 Q1942.51 234.129 1937.51 234.129 Q1935.43 234.129 1933.16 233.712 Q1930.92 233.319 1928.42 232.508 L1928.42 228.11 Q1930.78 229.337 1933.07 229.962 Q1935.36 230.564 1937.61 230.564 Q1940.61 230.564 1942.24 229.546 Q1943.86 228.504 1943.86 226.629 Q1943.86 224.893 1942.68 223.967 Q1941.52 223.041 1937.56 222.184 L1936.08 221.837 Q1932.12 221.004 1930.36 219.291 Q1928.6 217.555 1928.6 214.546 Q1928.6 210.888 1931.19 208.898 Q1933.79 206.907 1938.55 206.907 Q1940.92 206.907 1943 207.254 Q1945.08 207.601 1946.84 208.296 Z\" fill=\"#000000\" fill-rule=\"evenodd\" fill-opacity=\"1\" /><path clip-path=\"url(#clip280)\" d=\"M 0 0 M1956.91 200.171 L1956.91 207.532 L1965.68 207.532 L1965.68 210.842 L1956.91 210.842 L1956.91 224.916 Q1956.91 228.087 1957.77 228.99 Q1958.65 229.893 1961.31 229.893 L1965.68 229.893 L1965.68 233.458 L1961.31 233.458 Q1956.38 233.458 1954.5 231.629 Q1952.63 229.777 1952.63 224.916 L1952.63 210.842 L1949.5 210.842 L1949.5 207.532 L1952.63 207.532 L1952.63 200.171 L1956.91 200.171 Z\" fill=\"#000000\" fill-rule=\"evenodd\" fill-opacity=\"1\" /><path clip-path=\"url(#clip280)\" d=\"M 0 0 M1985.17 211.513 Q1984.46 211.097 1983.6 210.911 Q1982.77 210.703 1981.75 210.703 Q1978.14 210.703 1976.19 213.064 Q1974.27 215.402 1974.27 219.8 L1974.27 233.458 L1969.99 233.458 L1969.99 207.532 L1974.27 207.532 L1974.27 211.56 Q1975.61 209.198 1977.77 208.064 Q1979.92 206.907 1983 206.907 Q1983.44 206.907 1983.97 206.976 Q1984.5 207.023 1985.15 207.138 L1985.17 211.513 Z\" fill=\"#000000\" fill-rule=\"evenodd\" fill-opacity=\"1\" /><path clip-path=\"url(#clip280)\" d=\"M 0 0 M1987.79 207.532 L2008.02 207.532 L2008.02 211.421 L1992 230.055 L2008.02 230.055 L2008.02 233.458 L1987.21 233.458 L1987.21 229.569 L2003.23 210.935 L1987.79 210.935 L1987.79 207.532 Z\" fill=\"#000000\" fill-rule=\"evenodd\" fill-opacity=\"1\" /><path clip-path=\"url(#clip280)\" d=\"M 0 0 M2034.67 219.43 L2034.67 221.513 L2015.08 221.513 Q2015.36 225.911 2017.72 228.226 Q2020.11 230.518 2024.34 230.518 Q2026.8 230.518 2029.09 229.916 Q2031.4 229.314 2033.67 228.11 L2033.67 232.138 Q2031.38 233.11 2028.97 233.62 Q2026.56 234.129 2024.09 234.129 Q2017.88 234.129 2014.25 230.518 Q2010.64 226.907 2010.64 220.749 Q2010.64 214.384 2014.06 210.657 Q2017.51 206.907 2023.35 206.907 Q2028.58 206.907 2031.61 210.286 Q2034.67 213.643 2034.67 219.43 M2030.41 218.18 Q2030.36 214.685 2028.44 212.601 Q2026.54 210.518 2023.39 210.518 Q2019.83 210.518 2017.67 212.532 Q2015.55 214.546 2015.22 218.203 L2030.41 218.18 M2026.91 233.458 L2029.67 233.458 Q2028.62 234.87 2028.11 235.888 Q2027.63 236.907 2027.63 237.624 Q2027.63 238.689 2028.25 239.221 Q2028.9 239.754 2030.15 239.754 Q2030.89 239.754 2031.61 239.569 Q2032.33 239.407 2033.05 239.059 L2033.05 242.138 Q2032.17 242.37 2031.38 242.485 Q2030.59 242.601 2029.9 242.601 Q2027.07 242.601 2025.73 241.583 Q2024.41 240.587 2024.41 238.434 Q2024.41 237.323 2025.01 236.096 Q2025.64 234.893 2026.91 233.458 Z\" fill=\"#000000\" fill-rule=\"evenodd\" fill-opacity=\"1\" /><path clip-path=\"url(#clip280)\" d=\"M 0 0 M2057.74 220.518 Q2057.74 215.819 2055.8 213.157 Q2053.88 210.472 2050.5 210.472 Q2047.12 210.472 2045.17 213.157 Q2043.25 215.819 2043.25 220.518 Q2043.25 225.217 2045.17 227.902 Q2047.12 230.564 2050.5 230.564 Q2053.88 230.564 2055.8 227.902 Q2057.74 225.217 2057.74 220.518 M2043.25 211.467 Q2044.6 209.152 2046.63 208.041 Q2048.69 206.907 2051.54 206.907 Q2056.26 206.907 2059.2 210.657 Q2062.17 214.407 2062.17 220.518 Q2062.17 226.629 2059.2 230.379 Q2056.26 234.129 2051.54 234.129 Q2048.69 234.129 2046.63 233.018 Q2044.6 231.883 2043.25 229.569 L2043.25 233.458 L2038.97 233.458 L2038.97 197.439 L2043.25 197.439 L2043.25 211.467 Z\" fill=\"#000000\" fill-rule=\"evenodd\" fill-opacity=\"1\" /><path clip-path=\"url(#clip280)\" d=\"M 0 0 M2066.63 207.532 L2070.89 207.532 L2070.89 233.458 L2066.63 233.458 L2066.63 207.532 M2066.63 197.439 L2070.89 197.439 L2070.89 202.833 L2066.63 202.833 L2066.63 197.439 Z\" fill=\"#000000\" fill-rule=\"evenodd\" fill-opacity=\"1\" /><path clip-path=\"url(#clip280)\" d=\"M 0 0 M2097.54 219.43 L2097.54 221.513 L2077.95 221.513 Q2078.23 225.911 2080.59 228.226 Q2082.98 230.518 2087.21 230.518 Q2089.67 230.518 2091.96 229.916 Q2094.27 229.314 2096.54 228.11 L2096.54 232.138 Q2094.25 233.11 2091.84 233.62 Q2089.43 234.129 2086.96 234.129 Q2080.75 234.129 2077.12 230.518 Q2073.51 226.907 2073.51 220.749 Q2073.51 214.384 2076.93 210.657 Q2080.38 206.907 2086.22 206.907 Q2091.45 206.907 2094.48 210.286 Q2097.54 213.643 2097.54 219.43 M2093.28 218.18 Q2093.23 214.685 2091.31 212.601 Q2089.41 210.518 2086.26 210.518 Q2082.7 210.518 2080.54 212.532 Q2078.42 214.546 2078.09 218.203 L2093.28 218.18 Z\" fill=\"#000000\" fill-rule=\"evenodd\" fill-opacity=\"1\" /><polyline clip-path=\"url(#clip280)\" style=\"stroke:#3da44d; stroke-width:4; stroke-opacity:1; fill:none\" points=\"\n",
       "  1719.35,276.658 1866.92,276.658 \n",
       "  \"/>\n",
       "<path clip-path=\"url(#clip280)\" d=\"M 0 0 M1912.03 269.007 L1912.03 272.989 Q1910.22 271.993 1908.39 271.507 Q1906.59 270.998 1904.74 270.998 Q1900.59 270.998 1898.3 273.637 Q1896.01 276.252 1896.01 280.998 Q1896.01 285.743 1898.3 288.382 Q1900.59 290.998 1904.74 290.998 Q1906.59 290.998 1908.39 290.512 Q1910.22 290.002 1912.03 289.007 L1912.03 292.942 Q1910.24 293.776 1908.32 294.192 Q1906.43 294.609 1904.27 294.609 Q1898.42 294.609 1894.97 290.928 Q1891.52 287.248 1891.52 280.998 Q1891.52 274.655 1894.99 271.021 Q1898.49 267.387 1904.55 267.387 Q1906.52 267.387 1908.39 267.803 Q1910.27 268.197 1912.03 269.007 Z\" fill=\"#000000\" fill-rule=\"evenodd\" fill-opacity=\"1\" /><path clip-path=\"url(#clip280)\" d=\"M 0 0 M1938.05 278.289 L1938.05 293.938 L1933.79 293.938 L1933.79 278.428 Q1933.79 274.748 1932.35 272.919 Q1930.92 271.09 1928.05 271.09 Q1924.6 271.09 1922.61 273.29 Q1920.62 275.489 1920.62 279.285 L1920.62 293.938 L1916.33 293.938 L1916.33 257.919 L1920.62 257.919 L1920.62 272.04 Q1922.14 269.702 1924.2 268.544 Q1926.29 267.387 1928.99 267.387 Q1933.46 267.387 1935.75 270.165 Q1938.05 272.919 1938.05 278.289 Z\" fill=\"#000000\" fill-rule=\"evenodd\" fill-opacity=\"1\" /><path clip-path=\"url(#clip280)\" d=\"M 0 0 M1952.56 270.998 Q1949.13 270.998 1947.14 273.683 Q1945.15 276.345 1945.15 280.998 Q1945.15 285.651 1947.12 288.336 Q1949.11 290.998 1952.56 290.998 Q1955.96 290.998 1957.95 288.313 Q1959.94 285.627 1959.94 280.998 Q1959.94 276.391 1957.95 273.706 Q1955.96 270.998 1952.56 270.998 M1952.56 267.387 Q1958.11 267.387 1961.29 270.998 Q1964.46 274.609 1964.46 280.998 Q1964.46 287.364 1961.29 290.998 Q1958.11 294.609 1952.56 294.609 Q1946.98 294.609 1943.81 290.998 Q1940.66 287.364 1940.66 280.998 Q1940.66 274.609 1943.81 270.998 Q1946.98 267.387 1952.56 267.387 Z\" fill=\"#000000\" fill-rule=\"evenodd\" fill-opacity=\"1\" /><path clip-path=\"url(#clip280)\" d=\"M 0 0 M1983.95 271.993 Q1983.23 271.577 1982.37 271.391 Q1981.54 271.183 1980.52 271.183 Q1976.91 271.183 1974.97 273.544 Q1973.05 275.882 1973.05 280.28 L1973.05 293.938 L1968.76 293.938 L1968.76 268.012 L1973.05 268.012 L1973.05 272.04 Q1974.39 269.678 1976.54 268.544 Q1978.69 267.387 1981.77 267.387 Q1982.21 267.387 1982.74 267.456 Q1983.28 267.503 1983.92 267.618 L1983.95 271.993 Z\" fill=\"#000000\" fill-rule=\"evenodd\" fill-opacity=\"1\" /><path clip-path=\"url(#clip280)\" d=\"M 0 0 M2009.55 279.91 L2009.55 281.993 L1989.97 281.993 Q1990.24 286.391 1992.61 288.706 Q1994.99 290.998 1999.23 290.998 Q2001.68 290.998 2003.97 290.396 Q2006.29 289.794 2008.55 288.59 L2008.55 292.618 Q2006.26 293.59 2003.86 294.1 Q2001.45 294.609 1998.97 294.609 Q1992.77 294.609 1989.13 290.998 Q1985.52 287.387 1985.52 281.229 Q1985.52 274.864 1988.95 271.137 Q1992.4 267.387 1998.23 267.387 Q2003.46 267.387 2006.49 270.766 Q2009.55 274.123 2009.55 279.91 M2005.29 278.66 Q2005.24 275.165 2003.32 273.081 Q2001.42 270.998 1998.28 270.998 Q1994.71 270.998 1992.56 273.012 Q1990.43 275.026 1990.11 278.683 L2005.29 278.66 Z\" fill=\"#000000\" fill-rule=\"evenodd\" fill-opacity=\"1\" /><path clip-path=\"url(#clip280)\" d=\"M 0 0 M2046.15 280.674 Q2046.15 276.044 2044.23 273.498 Q2042.33 270.952 2038.88 270.952 Q2035.45 270.952 2033.53 273.498 Q2031.63 276.044 2031.63 280.674 Q2031.63 285.28 2033.53 287.826 Q2035.45 290.373 2038.88 290.373 Q2042.33 290.373 2044.23 287.826 Q2046.15 285.28 2046.15 280.674 M2050.41 290.72 Q2050.41 297.34 2047.47 300.558 Q2044.53 303.799 2038.46 303.799 Q2036.22 303.799 2034.23 303.451 Q2032.23 303.127 2030.36 302.433 L2030.36 298.289 Q2032.23 299.308 2034.06 299.794 Q2035.89 300.28 2037.79 300.28 Q2041.98 300.28 2044.06 298.081 Q2046.15 295.905 2046.15 291.484 L2046.15 289.377 Q2044.83 291.669 2042.77 292.803 Q2040.71 293.938 2037.84 293.938 Q2033.07 293.938 2030.15 290.303 Q2027.23 286.669 2027.23 280.674 Q2027.23 274.655 2030.15 271.021 Q2033.07 267.387 2037.84 267.387 Q2040.71 267.387 2042.77 268.521 Q2044.83 269.655 2046.15 271.947 L2046.15 268.012 L2050.41 268.012 L2050.41 290.72 Z\" fill=\"#000000\" fill-rule=\"evenodd\" fill-opacity=\"1\" /><path clip-path=\"url(#clip280)\" d=\"M 0 0 M2064.92 270.998 Q2061.49 270.998 2059.5 273.683 Q2057.51 276.345 2057.51 280.998 Q2057.51 285.651 2059.48 288.336 Q2061.47 290.998 2064.92 290.998 Q2068.32 290.998 2070.31 288.313 Q2072.3 285.627 2072.3 280.998 Q2072.3 276.391 2070.31 273.706 Q2068.32 270.998 2064.92 270.998 M2064.92 267.387 Q2070.48 267.387 2073.65 270.998 Q2076.82 274.609 2076.82 280.998 Q2076.82 287.364 2073.65 290.998 Q2070.48 294.609 2064.92 294.609 Q2059.34 294.609 2056.17 290.998 Q2053.02 287.364 2053.02 280.998 Q2053.02 274.609 2056.17 270.998 Q2059.34 267.387 2064.92 267.387 Z\" fill=\"#000000\" fill-rule=\"evenodd\" fill-opacity=\"1\" /><path clip-path=\"url(#clip280)\" d=\"M 0 0 M2081.42 257.919 L2085.68 257.919 L2085.68 271.854 L2088.58 269.771 L2090.34 272.225 L2085.68 275.489 L2085.68 293.938 L2081.42 293.938 L2081.42 278.521 L2078.58 280.558 L2076.86 278.104 L2081.42 274.84 L2081.42 257.919 Z\" fill=\"#000000\" fill-rule=\"evenodd\" fill-opacity=\"1\" /><path clip-path=\"url(#clip280)\" d=\"M 0 0 M2116.98 279.91 L2116.98 281.993 L2097.4 281.993 Q2097.67 286.391 2100.04 288.706 Q2102.42 290.998 2106.66 290.998 Q2109.11 290.998 2111.4 290.396 Q2113.72 289.794 2115.98 288.59 L2115.98 292.618 Q2113.69 293.59 2111.29 294.1 Q2108.88 294.609 2106.4 294.609 Q2100.2 294.609 2096.56 290.998 Q2092.95 287.387 2092.95 281.229 Q2092.95 274.864 2096.38 271.137 Q2099.83 267.387 2105.66 267.387 Q2110.89 267.387 2113.92 270.766 Q2116.98 274.123 2116.98 279.91 M2112.72 278.66 Q2112.67 275.165 2110.75 273.081 Q2108.85 270.998 2105.71 270.998 Q2102.14 270.998 2099.99 273.012 Q2097.86 275.026 2097.54 278.683 L2112.72 278.66 M2109.23 293.938 L2111.98 293.938 Q2110.94 295.35 2110.43 296.368 Q2109.94 297.387 2109.94 298.104 Q2109.94 299.169 2110.57 299.701 Q2111.22 300.234 2112.47 300.234 Q2113.21 300.234 2113.92 300.049 Q2114.64 299.887 2115.36 299.539 L2115.36 302.618 Q2114.48 302.85 2113.69 302.965 Q2112.91 303.081 2112.21 303.081 Q2109.39 303.081 2108.04 302.063 Q2106.73 301.067 2106.73 298.914 Q2106.73 297.803 2107.33 296.576 Q2107.95 295.373 2109.23 293.938 Z\" fill=\"#000000\" fill-rule=\"evenodd\" fill-opacity=\"1\" /><path clip-path=\"url(#clip280)\" d=\"M 0 0 M2140.06 280.998 Q2140.06 276.299 2138.11 273.637 Q2136.19 270.952 2132.81 270.952 Q2129.43 270.952 2127.49 273.637 Q2125.57 276.299 2125.57 280.998 Q2125.57 285.697 2127.49 288.382 Q2129.43 291.044 2132.81 291.044 Q2136.19 291.044 2138.11 288.382 Q2140.06 285.697 2140.06 280.998 M2125.57 271.947 Q2126.91 269.632 2128.95 268.521 Q2131.01 267.387 2133.85 267.387 Q2138.58 267.387 2141.52 271.137 Q2144.48 274.887 2144.48 280.998 Q2144.48 287.109 2141.52 290.859 Q2138.58 294.609 2133.85 294.609 Q2131.01 294.609 2128.95 293.498 Q2126.91 292.363 2125.57 290.049 L2125.57 293.938 L2121.29 293.938 L2121.29 257.919 L2125.57 257.919 L2125.57 271.947 Z\" fill=\"#000000\" fill-rule=\"evenodd\" fill-opacity=\"1\" /><path clip-path=\"url(#clip280)\" d=\"M 0 0 M2148.95 268.012 L2153.21 268.012 L2153.21 293.938 L2148.95 293.938 L2148.95 268.012 M2148.95 257.919 L2153.21 257.919 L2153.21 263.313 L2148.95 263.313 L2148.95 257.919 Z\" fill=\"#000000\" fill-rule=\"evenodd\" fill-opacity=\"1\" /><path clip-path=\"url(#clip280)\" d=\"M 0 0 M2179.85 279.91 L2179.85 281.993 L2160.27 281.993 Q2160.54 286.391 2162.91 288.706 Q2165.29 290.998 2169.53 290.998 Q2171.98 290.998 2174.27 290.396 Q2176.59 289.794 2178.85 288.59 L2178.85 292.618 Q2176.56 293.59 2174.16 294.1 Q2171.75 294.609 2169.27 294.609 Q2163.07 294.609 2159.43 290.998 Q2155.82 287.387 2155.82 281.229 Q2155.82 274.864 2159.25 271.137 Q2162.7 267.387 2168.53 267.387 Q2173.76 267.387 2176.79 270.766 Q2179.85 274.123 2179.85 279.91 M2175.59 278.66 Q2175.54 275.165 2173.62 273.081 Q2171.72 270.998 2168.58 270.998 Q2165.01 270.998 2162.86 273.012 Q2160.73 275.026 2160.41 278.683 L2175.59 278.66 Z\" fill=\"#000000\" fill-rule=\"evenodd\" fill-opacity=\"1\" /><polyline clip-path=\"url(#clip280)\" style=\"stroke:#c271d2; stroke-width:4; stroke-opacity:1; fill:none\" points=\"\n",
       "  1719.35,337.138 1866.92,337.138 \n",
       "  \"/>\n",
       "<path clip-path=\"url(#clip280)\" d=\"M 0 0 M1912.03 329.487 L1912.03 333.469 Q1910.22 332.473 1908.39 331.987 Q1906.59 331.478 1904.74 331.478 Q1900.59 331.478 1898.3 334.117 Q1896.01 336.732 1896.01 341.478 Q1896.01 346.223 1898.3 348.862 Q1900.59 351.478 1904.74 351.478 Q1906.59 351.478 1908.39 350.992 Q1910.22 350.482 1912.03 349.487 L1912.03 353.422 Q1910.24 354.256 1908.32 354.672 Q1906.43 355.089 1904.27 355.089 Q1898.42 355.089 1894.97 351.408 Q1891.52 347.728 1891.52 341.478 Q1891.52 335.135 1894.99 331.501 Q1898.49 327.867 1904.55 327.867 Q1906.52 327.867 1908.39 328.283 Q1910.27 328.677 1912.03 329.487 Z\" fill=\"#000000\" fill-rule=\"evenodd\" fill-opacity=\"1\" /><path clip-path=\"url(#clip280)\" d=\"M 0 0 M1938.05 338.769 L1938.05 354.418 L1933.79 354.418 L1933.79 338.908 Q1933.79 335.228 1932.35 333.399 Q1930.92 331.57 1928.05 331.57 Q1924.6 331.57 1922.61 333.77 Q1920.62 335.969 1920.62 339.765 L1920.62 354.418 L1916.33 354.418 L1916.33 318.399 L1920.62 318.399 L1920.62 332.52 Q1922.14 330.182 1924.2 329.024 Q1926.29 327.867 1928.99 327.867 Q1933.46 327.867 1935.75 330.645 Q1938.05 333.399 1938.05 338.769 Z\" fill=\"#000000\" fill-rule=\"evenodd\" fill-opacity=\"1\" /><path clip-path=\"url(#clip280)\" d=\"M 0 0 M1952.56 331.478 Q1949.13 331.478 1947.14 334.163 Q1945.15 336.825 1945.15 341.478 Q1945.15 346.131 1947.12 348.816 Q1949.11 351.478 1952.56 351.478 Q1955.96 351.478 1957.95 348.793 Q1959.94 346.107 1959.94 341.478 Q1959.94 336.871 1957.95 334.186 Q1955.96 331.478 1952.56 331.478 M1952.56 327.867 Q1958.11 327.867 1961.29 331.478 Q1964.46 335.089 1964.46 341.478 Q1964.46 347.844 1961.29 351.478 Q1958.11 355.089 1952.56 355.089 Q1946.98 355.089 1943.81 351.478 Q1940.66 347.844 1940.66 341.478 Q1940.66 335.089 1943.81 331.478 Q1946.98 327.867 1952.56 327.867 Z\" fill=\"#000000\" fill-rule=\"evenodd\" fill-opacity=\"1\" /><path clip-path=\"url(#clip280)\" d=\"M 0 0 M1983.95 332.473 Q1983.23 332.057 1982.37 331.871 Q1981.54 331.663 1980.52 331.663 Q1976.91 331.663 1974.97 334.024 Q1973.05 336.362 1973.05 340.76 L1973.05 354.418 L1968.76 354.418 L1968.76 328.492 L1973.05 328.492 L1973.05 332.52 Q1974.39 330.158 1976.54 329.024 Q1978.69 327.867 1981.77 327.867 Q1982.21 327.867 1982.74 327.936 Q1983.28 327.983 1983.92 328.098 L1983.95 332.473 Z\" fill=\"#000000\" fill-rule=\"evenodd\" fill-opacity=\"1\" /><path clip-path=\"url(#clip280)\" d=\"M 0 0 M2009.55 340.39 L2009.55 342.473 L1989.97 342.473 Q1990.24 346.871 1992.61 349.186 Q1994.99 351.478 1999.23 351.478 Q2001.68 351.478 2003.97 350.876 Q2006.29 350.274 2008.55 349.07 L2008.55 353.098 Q2006.26 354.07 2003.86 354.58 Q2001.45 355.089 1998.97 355.089 Q1992.77 355.089 1989.13 351.478 Q1985.52 347.867 1985.52 341.709 Q1985.52 335.344 1988.95 331.617 Q1992.4 327.867 1998.23 327.867 Q2003.46 327.867 2006.49 331.246 Q2009.55 334.603 2009.55 340.39 M2005.29 339.14 Q2005.24 335.645 2003.32 333.561 Q2001.42 331.478 1998.28 331.478 Q1994.71 331.478 1992.56 333.492 Q1990.43 335.506 1990.11 339.163 L2005.29 339.14 Z\" fill=\"#000000\" fill-rule=\"evenodd\" fill-opacity=\"1\" /><path clip-path=\"url(#clip280)\" d=\"M 0 0 M2029.09 328.492 L2033.35 328.492 L2033.35 354.881 Q2033.35 359.834 2031.45 362.056 Q2029.57 364.279 2025.38 364.279 L2023.76 364.279 L2023.76 360.668 L2024.9 360.668 Q2027.33 360.668 2028.21 359.533 Q2029.09 358.422 2029.09 354.881 L2029.09 328.492 M2029.09 318.399 L2033.35 318.399 L2033.35 323.793 L2029.09 323.793 L2029.09 318.399 Z\" fill=\"#000000\" fill-rule=\"evenodd\" fill-opacity=\"1\" /><path clip-path=\"url(#clip280)\" d=\"M 0 0 M2049.6 341.385 Q2044.43 341.385 2042.44 342.566 Q2040.45 343.746 2040.45 346.594 Q2040.45 348.862 2041.93 350.205 Q2043.44 351.524 2046.01 351.524 Q2049.55 351.524 2051.68 349.024 Q2053.83 346.501 2053.83 342.334 L2053.83 341.385 L2049.6 341.385 M2058.09 339.626 L2058.09 354.418 L2053.83 354.418 L2053.83 350.482 Q2052.37 352.843 2050.2 353.978 Q2048.02 355.089 2044.87 355.089 Q2040.89 355.089 2038.53 352.867 Q2036.19 350.621 2036.19 346.871 Q2036.19 342.496 2039.11 340.274 Q2042.05 338.052 2047.86 338.052 L2053.83 338.052 L2053.83 337.635 Q2053.83 334.695 2051.89 333.098 Q2049.97 331.478 2046.47 331.478 Q2044.25 331.478 2042.14 332.01 Q2040.04 332.543 2038.09 333.607 L2038.09 329.672 Q2040.43 328.77 2042.63 328.33 Q2044.83 327.867 2046.91 327.867 Q2052.54 327.867 2055.31 330.783 Q2058.09 333.7 2058.09 339.626 Z\" fill=\"#000000\" fill-rule=\"evenodd\" fill-opacity=\"1\" /><path clip-path=\"url(#clip280)\" d=\"M 0 0 M2079.09 329.256 L2079.09 333.283 Q2077.28 332.357 2075.34 331.895 Q2073.39 331.432 2071.31 331.432 Q2068.14 331.432 2066.54 332.404 Q2064.97 333.376 2064.97 335.32 Q2064.97 336.802 2066.1 337.658 Q2067.23 338.492 2070.66 339.256 L2072.12 339.58 Q2076.66 340.552 2078.55 342.334 Q2080.48 344.094 2080.48 347.265 Q2080.48 350.876 2077.6 352.982 Q2074.76 355.089 2069.76 355.089 Q2067.67 355.089 2065.41 354.672 Q2063.16 354.279 2060.66 353.468 L2060.66 349.07 Q2063.02 350.297 2065.31 350.922 Q2067.61 351.524 2069.85 351.524 Q2072.86 351.524 2074.48 350.506 Q2076.1 349.464 2076.1 347.589 Q2076.1 345.853 2074.92 344.927 Q2073.76 344.001 2069.8 343.144 L2068.32 342.797 Q2064.36 341.964 2062.61 340.251 Q2060.85 338.515 2060.85 335.506 Q2060.85 331.848 2063.44 329.858 Q2066.03 327.867 2070.8 327.867 Q2073.16 327.867 2075.24 328.214 Q2077.33 328.561 2079.09 329.256 Z\" fill=\"#000000\" fill-rule=\"evenodd\" fill-opacity=\"1\" /><path clip-path=\"url(#clip280)\" d=\"M 0 0 M2089.16 321.131 L2089.16 328.492 L2097.93 328.492 L2097.93 331.802 L2089.16 331.802 L2089.16 345.876 Q2089.16 349.047 2090.01 349.95 Q2090.89 350.853 2093.55 350.853 L2097.93 350.853 L2097.93 354.418 L2093.55 354.418 Q2088.62 354.418 2086.75 352.589 Q2084.87 350.737 2084.87 345.876 L2084.87 331.802 L2081.75 331.802 L2081.75 328.492 L2084.87 328.492 L2084.87 321.131 L2089.16 321.131 Z\" fill=\"#000000\" fill-rule=\"evenodd\" fill-opacity=\"1\" /><path clip-path=\"url(#clip280)\" d=\"M 0 0 M2117.42 332.473 Q2116.7 332.057 2115.85 331.871 Q2115.01 331.663 2113.99 331.663 Q2110.38 331.663 2108.44 334.024 Q2106.52 336.362 2106.52 340.76 L2106.52 354.418 L2102.23 354.418 L2102.23 328.492 L2106.52 328.492 L2106.52 332.52 Q2107.86 330.158 2110.01 329.024 Q2112.16 327.867 2115.24 327.867 Q2115.68 327.867 2116.22 327.936 Q2116.75 327.983 2117.4 328.098 L2117.42 332.473 Z\" fill=\"#000000\" fill-rule=\"evenodd\" fill-opacity=\"1\" /><path clip-path=\"url(#clip280)\" d=\"M 0 0 M2120.04 328.492 L2140.27 328.492 L2140.27 332.381 L2124.25 351.015 L2140.27 351.015 L2140.27 354.418 L2119.46 354.418 L2119.46 350.529 L2135.48 331.895 L2120.04 331.895 L2120.04 328.492 Z\" fill=\"#000000\" fill-rule=\"evenodd\" fill-opacity=\"1\" /><path clip-path=\"url(#clip280)\" d=\"M 0 0 M2166.91 340.39 L2166.91 342.473 L2147.33 342.473 Q2147.6 346.871 2149.97 349.186 Q2152.35 351.478 2156.59 351.478 Q2159.04 351.478 2161.33 350.876 Q2163.65 350.274 2165.91 349.07 L2165.91 353.098 Q2163.62 354.07 2161.22 354.58 Q2158.81 355.089 2156.33 355.089 Q2150.13 355.089 2146.49 351.478 Q2142.88 347.867 2142.88 341.709 Q2142.88 335.344 2146.31 331.617 Q2149.76 327.867 2155.59 327.867 Q2160.82 327.867 2163.85 331.246 Q2166.91 334.603 2166.91 340.39 M2162.65 339.14 Q2162.6 335.645 2160.68 333.561 Q2158.79 331.478 2155.64 331.478 Q2152.07 331.478 2149.92 333.492 Q2147.79 335.506 2147.47 339.163 L2162.65 339.14 M2159.16 354.418 L2161.91 354.418 Q2160.87 355.83 2160.36 356.848 Q2159.87 357.867 2159.87 358.584 Q2159.87 359.649 2160.5 360.181 Q2161.15 360.714 2162.4 360.714 Q2163.14 360.714 2163.85 360.529 Q2164.57 360.367 2165.29 360.019 L2165.29 363.098 Q2164.41 363.33 2163.62 363.445 Q2162.84 363.561 2162.14 363.561 Q2159.32 363.561 2157.97 362.543 Q2156.66 361.547 2156.66 359.394 Q2156.66 358.283 2157.26 357.056 Q2157.88 355.853 2159.16 354.418 Z\" fill=\"#000000\" fill-rule=\"evenodd\" fill-opacity=\"1\" /><path clip-path=\"url(#clip280)\" d=\"M 0 0 M2189.99 341.478 Q2189.99 336.779 2188.04 334.117 Q2186.12 331.432 2182.74 331.432 Q2179.36 331.432 2177.42 334.117 Q2175.5 336.779 2175.5 341.478 Q2175.5 346.177 2177.42 348.862 Q2179.36 351.524 2182.74 351.524 Q2186.12 351.524 2188.04 348.862 Q2189.99 346.177 2189.99 341.478 M2175.5 332.427 Q2176.84 330.112 2178.88 329.001 Q2180.94 327.867 2183.78 327.867 Q2188.51 327.867 2191.45 331.617 Q2194.41 335.367 2194.41 341.478 Q2194.41 347.589 2191.45 351.339 Q2188.51 355.089 2183.78 355.089 Q2180.94 355.089 2178.88 353.978 Q2176.84 352.843 2175.5 350.529 L2175.5 354.418 L2171.22 354.418 L2171.22 318.399 L2175.5 318.399 L2175.5 332.427 Z\" fill=\"#000000\" fill-rule=\"evenodd\" fill-opacity=\"1\" /><path clip-path=\"url(#clip280)\" d=\"M 0 0 M2198.88 328.492 L2203.14 328.492 L2203.14 354.418 L2198.88 354.418 L2198.88 328.492 M2198.88 318.399 L2203.14 318.399 L2203.14 323.793 L2198.88 323.793 L2198.88 318.399 Z\" fill=\"#000000\" fill-rule=\"evenodd\" fill-opacity=\"1\" /><path clip-path=\"url(#clip280)\" d=\"M 0 0 M2229.78 340.39 L2229.78 342.473 L2210.2 342.473 Q2210.47 346.871 2212.84 349.186 Q2215.22 351.478 2219.46 351.478 Q2221.91 351.478 2224.2 350.876 Q2226.52 350.274 2228.78 349.07 L2228.78 353.098 Q2226.49 354.07 2224.09 354.58 Q2221.68 355.089 2219.2 355.089 Q2213 355.089 2209.36 351.478 Q2205.75 347.867 2205.75 341.709 Q2205.75 335.344 2209.18 331.617 Q2212.63 327.867 2218.46 327.867 Q2223.69 327.867 2226.72 331.246 Q2229.78 334.603 2229.78 340.39 M2225.52 339.14 Q2225.47 335.645 2223.55 333.561 Q2221.66 331.478 2218.51 331.478 Q2214.94 331.478 2212.79 333.492 Q2210.66 335.506 2210.34 339.163 L2225.52 339.14 Z\" fill=\"#000000\" fill-rule=\"evenodd\" fill-opacity=\"1\" /></svg>\n"
      ]
     },
     "execution_count": 301,
     "metadata": {},
     "output_type": "execute_result"
    }
   ],
   "source": [
    "wykresy_all(9,9,15,10,100,135,50)"
   ]
  },
  {
   "cell_type": "code",
   "execution_count": 303,
   "metadata": {},
   "outputs": [
    {
     "name": "stdout",
     "output_type": "stream",
     "text": [
      "they made it\n"
     ]
    },
    {
     "data": {
      "image/svg+xml": [
       "<?xml version=\"1.0\" encoding=\"utf-8\"?>\n",
       "<svg xmlns=\"http://www.w3.org/2000/svg\" xmlns:xlink=\"http://www.w3.org/1999/xlink\" width=\"600\" height=\"400\" viewBox=\"0 0 2400 1600\">\n",
       "<defs>\n",
       "  <clipPath id=\"clip360\">\n",
       "    <rect x=\"0\" y=\"0\" width=\"2400\" height=\"1600\"/>\n",
       "  </clipPath>\n",
       "</defs>\n",
       "<path clip-path=\"url(#clip360)\" d=\"\n",
       "M0 1600 L2400 1600 L2400 0 L0 0  Z\n",
       "  \" fill=\"#ffffff\" fill-rule=\"evenodd\" fill-opacity=\"1\"/>\n",
       "<defs>\n",
       "  <clipPath id=\"clip361\">\n",
       "    <rect x=\"480\" y=\"0\" width=\"1681\" height=\"1600\"/>\n",
       "  </clipPath>\n",
       "</defs>\n",
       "<path clip-path=\"url(#clip360)\" d=\"\n",
       "M136.76 1486.45 L2352.76 1486.45 L2352.76 47.2441 L136.76 47.2441  Z\n",
       "  \" fill=\"#ffffff\" fill-rule=\"evenodd\" fill-opacity=\"1\"/>\n",
       "<defs>\n",
       "  <clipPath id=\"clip362\">\n",
       "    <rect x=\"136\" y=\"47\" width=\"2217\" height=\"1440\"/>\n",
       "  </clipPath>\n",
       "</defs>\n",
       "<polyline clip-path=\"url(#clip362)\" style=\"stroke:#000000; stroke-width:2; stroke-opacity:0.1; fill:none\" points=\"\n",
       "  156.813,1486.45 156.813,47.2441 \n",
       "  \"/>\n",
       "<polyline clip-path=\"url(#clip362)\" style=\"stroke:#000000; stroke-width:2; stroke-opacity:0.1; fill:none\" points=\"\n",
       "  583.458,1486.45 583.458,47.2441 \n",
       "  \"/>\n",
       "<polyline clip-path=\"url(#clip362)\" style=\"stroke:#000000; stroke-width:2; stroke-opacity:0.1; fill:none\" points=\"\n",
       "  1010.1,1486.45 1010.1,47.2441 \n",
       "  \"/>\n",
       "<polyline clip-path=\"url(#clip362)\" style=\"stroke:#000000; stroke-width:2; stroke-opacity:0.1; fill:none\" points=\"\n",
       "  1436.75,1486.45 1436.75,47.2441 \n",
       "  \"/>\n",
       "<polyline clip-path=\"url(#clip362)\" style=\"stroke:#000000; stroke-width:2; stroke-opacity:0.1; fill:none\" points=\"\n",
       "  1863.39,1486.45 1863.39,47.2441 \n",
       "  \"/>\n",
       "<polyline clip-path=\"url(#clip362)\" style=\"stroke:#000000; stroke-width:2; stroke-opacity:0.1; fill:none\" points=\"\n",
       "  2290.04,1486.45 2290.04,47.2441 \n",
       "  \"/>\n",
       "<polyline clip-path=\"url(#clip360)\" style=\"stroke:#000000; stroke-width:4; stroke-opacity:1; fill:none\" points=\"\n",
       "  136.76,1486.45 2352.76,1486.45 \n",
       "  \"/>\n",
       "<polyline clip-path=\"url(#clip360)\" style=\"stroke:#000000; stroke-width:4; stroke-opacity:1; fill:none\" points=\"\n",
       "  156.813,1486.45 156.813,1469.18 \n",
       "  \"/>\n",
       "<polyline clip-path=\"url(#clip360)\" style=\"stroke:#000000; stroke-width:4; stroke-opacity:1; fill:none\" points=\"\n",
       "  583.458,1486.45 583.458,1469.18 \n",
       "  \"/>\n",
       "<polyline clip-path=\"url(#clip360)\" style=\"stroke:#000000; stroke-width:4; stroke-opacity:1; fill:none\" points=\"\n",
       "  1010.1,1486.45 1010.1,1469.18 \n",
       "  \"/>\n",
       "<polyline clip-path=\"url(#clip360)\" style=\"stroke:#000000; stroke-width:4; stroke-opacity:1; fill:none\" points=\"\n",
       "  1436.75,1486.45 1436.75,1469.18 \n",
       "  \"/>\n",
       "<polyline clip-path=\"url(#clip360)\" style=\"stroke:#000000; stroke-width:4; stroke-opacity:1; fill:none\" points=\"\n",
       "  1863.39,1486.45 1863.39,1469.18 \n",
       "  \"/>\n",
       "<polyline clip-path=\"url(#clip360)\" style=\"stroke:#000000; stroke-width:4; stroke-opacity:1; fill:none\" points=\"\n",
       "  2290.04,1486.45 2290.04,1469.18 \n",
       "  \"/>\n",
       "<path clip-path=\"url(#clip360)\" d=\"M 0 0 M156.813 1515.64 Q153.202 1515.64 151.373 1519.2 Q149.567 1522.75 149.567 1529.87 Q149.567 1536.98 151.373 1540.55 Q153.202 1544.09 156.813 1544.09 Q160.447 1544.09 162.252 1540.55 Q164.081 1536.98 164.081 1529.87 Q164.081 1522.75 162.252 1519.2 Q160.447 1515.64 156.813 1515.64 M156.813 1511.93 Q162.623 1511.93 165.678 1516.54 Q168.757 1521.12 168.757 1529.87 Q168.757 1538.6 165.678 1543.21 Q162.623 1547.79 156.813 1547.79 Q151.003 1547.79 147.924 1543.21 Q144.868 1538.6 144.868 1529.87 Q144.868 1521.12 147.924 1516.54 Q151.003 1511.93 156.813 1511.93 Z\" fill=\"#000000\" fill-rule=\"evenodd\" fill-opacity=\"1\" /><path clip-path=\"url(#clip360)\" d=\"M 0 0 M560.333 1543.18 L567.972 1543.18 L567.972 1516.82 L559.662 1518.49 L559.662 1514.23 L567.926 1512.56 L572.602 1512.56 L572.602 1543.18 L580.24 1543.18 L580.24 1547.12 L560.333 1547.12 L560.333 1543.18 Z\" fill=\"#000000\" fill-rule=\"evenodd\" fill-opacity=\"1\" /><path clip-path=\"url(#clip360)\" d=\"M 0 0 M595.31 1515.64 Q591.699 1515.64 589.87 1519.2 Q588.064 1522.75 588.064 1529.87 Q588.064 1536.98 589.87 1540.55 Q591.699 1544.09 595.31 1544.09 Q598.944 1544.09 600.75 1540.55 Q602.578 1536.98 602.578 1529.87 Q602.578 1522.75 600.75 1519.2 Q598.944 1515.64 595.31 1515.64 M595.31 1511.93 Q601.12 1511.93 604.175 1516.54 Q607.254 1521.12 607.254 1529.87 Q607.254 1538.6 604.175 1543.21 Q601.12 1547.79 595.31 1547.79 Q589.5 1547.79 586.421 1543.21 Q583.365 1538.6 583.365 1529.87 Q583.365 1521.12 586.421 1516.54 Q589.5 1511.93 595.31 1511.93 Z\" fill=\"#000000\" fill-rule=\"evenodd\" fill-opacity=\"1\" /><path clip-path=\"url(#clip360)\" d=\"M 0 0 M991.249 1543.18 L1007.57 1543.18 L1007.57 1547.12 L985.624 1547.12 L985.624 1543.18 Q988.286 1540.43 992.87 1535.8 Q997.476 1531.15 998.657 1529.81 Q1000.9 1527.28 1001.78 1525.55 Q1002.68 1523.79 1002.68 1522.1 Q1002.68 1519.34 1000.74 1517.61 Q998.819 1515.87 995.717 1515.87 Q993.518 1515.87 991.064 1516.63 Q988.633 1517.4 985.856 1518.95 L985.856 1514.23 Q988.68 1513.09 991.133 1512.51 Q993.587 1511.93 995.624 1511.93 Q1000.99 1511.93 1004.19 1514.62 Q1007.38 1517.31 1007.38 1521.8 Q1007.38 1523.93 1006.57 1525.85 Q1005.79 1527.74 1003.68 1530.34 Q1003.1 1531.01 999.999 1534.23 Q996.897 1537.42 991.249 1543.18 Z\" fill=\"#000000\" fill-rule=\"evenodd\" fill-opacity=\"1\" /><path clip-path=\"url(#clip360)\" d=\"M 0 0 M1022.64 1515.64 Q1019.03 1515.64 1017.2 1519.2 Q1015.39 1522.75 1015.39 1529.87 Q1015.39 1536.98 1017.2 1540.55 Q1019.03 1544.09 1022.64 1544.09 Q1026.27 1544.09 1028.08 1540.55 Q1029.91 1536.98 1029.91 1529.87 Q1029.91 1522.75 1028.08 1519.2 Q1026.27 1515.64 1022.64 1515.64 M1022.64 1511.93 Q1028.45 1511.93 1031.5 1516.54 Q1034.58 1521.12 1034.58 1529.87 Q1034.58 1538.6 1031.5 1543.21 Q1028.45 1547.79 1022.64 1547.79 Q1016.83 1547.79 1013.75 1543.21 Q1010.69 1538.6 1010.69 1529.87 Q1010.69 1521.12 1013.75 1516.54 Q1016.83 1511.93 1022.64 1511.93 Z\" fill=\"#000000\" fill-rule=\"evenodd\" fill-opacity=\"1\" /><path clip-path=\"url(#clip360)\" d=\"M 0 0 M1427.49 1528.49 Q1430.85 1529.2 1432.72 1531.47 Q1434.62 1533.74 1434.62 1537.07 Q1434.62 1542.19 1431.1 1544.99 Q1427.58 1547.79 1421.1 1547.79 Q1418.92 1547.79 1416.61 1547.35 Q1414.32 1546.93 1411.86 1546.08 L1411.86 1541.56 Q1413.81 1542.7 1416.12 1543.28 Q1418.44 1543.86 1420.96 1543.86 Q1425.36 1543.86 1427.65 1542.12 Q1429.97 1540.38 1429.97 1537.07 Q1429.97 1534.02 1427.81 1532.31 Q1425.68 1530.57 1421.86 1530.57 L1417.84 1530.57 L1417.84 1526.73 L1422.05 1526.73 Q1425.5 1526.73 1427.33 1525.36 Q1429.16 1523.97 1429.16 1521.38 Q1429.16 1518.72 1427.26 1517.31 Q1425.38 1515.87 1421.86 1515.87 Q1419.94 1515.87 1417.74 1516.29 Q1415.54 1516.7 1412.91 1517.58 L1412.91 1513.42 Q1415.57 1512.68 1417.88 1512.31 Q1420.22 1511.93 1422.28 1511.93 Q1427.61 1511.93 1430.71 1514.37 Q1433.81 1516.77 1433.81 1520.89 Q1433.81 1523.76 1432.17 1525.75 Q1430.52 1527.72 1427.49 1528.49 Z\" fill=\"#000000\" fill-rule=\"evenodd\" fill-opacity=\"1\" /><path clip-path=\"url(#clip360)\" d=\"M 0 0 M1449.69 1515.64 Q1446.08 1515.64 1444.25 1519.2 Q1442.44 1522.75 1442.44 1529.87 Q1442.44 1536.98 1444.25 1540.55 Q1446.08 1544.09 1449.69 1544.09 Q1453.32 1544.09 1455.13 1540.55 Q1456.96 1536.98 1456.96 1529.87 Q1456.96 1522.75 1455.13 1519.2 Q1453.32 1515.64 1449.69 1515.64 M1449.69 1511.93 Q1455.5 1511.93 1458.55 1516.54 Q1461.63 1521.12 1461.63 1529.87 Q1461.63 1538.6 1458.55 1543.21 Q1455.5 1547.79 1449.69 1547.79 Q1443.88 1547.79 1440.8 1543.21 Q1437.74 1538.6 1437.74 1529.87 Q1437.74 1521.12 1440.8 1516.54 Q1443.88 1511.93 1449.69 1511.93 Z\" fill=\"#000000\" fill-rule=\"evenodd\" fill-opacity=\"1\" /><path clip-path=\"url(#clip360)\" d=\"M 0 0 M1852.9 1516.63 L1841.09 1535.08 L1852.9 1535.08 L1852.9 1516.63 M1851.67 1512.56 L1857.55 1512.56 L1857.55 1535.08 L1862.48 1535.08 L1862.48 1538.97 L1857.55 1538.97 L1857.55 1547.12 L1852.9 1547.12 L1852.9 1538.97 L1837.29 1538.97 L1837.29 1534.46 L1851.67 1512.56 Z\" fill=\"#000000\" fill-rule=\"evenodd\" fill-opacity=\"1\" /><path clip-path=\"url(#clip360)\" d=\"M 0 0 M1877.55 1515.64 Q1873.94 1515.64 1872.11 1519.2 Q1870.3 1522.75 1870.3 1529.87 Q1870.3 1536.98 1872.11 1540.55 Q1873.94 1544.09 1877.55 1544.09 Q1881.18 1544.09 1882.99 1540.55 Q1884.82 1536.98 1884.82 1529.87 Q1884.82 1522.75 1882.99 1519.2 Q1881.18 1515.64 1877.55 1515.64 M1877.55 1511.93 Q1883.36 1511.93 1886.41 1516.54 Q1889.49 1521.12 1889.49 1529.87 Q1889.49 1538.6 1886.41 1543.21 Q1883.36 1547.79 1877.55 1547.79 Q1871.74 1547.79 1868.66 1543.21 Q1865.6 1538.6 1865.6 1529.87 Q1865.6 1521.12 1868.66 1516.54 Q1871.74 1511.93 1877.55 1511.93 Z\" fill=\"#000000\" fill-rule=\"evenodd\" fill-opacity=\"1\" /><path clip-path=\"url(#clip360)\" d=\"M 0 0 M2266.81 1512.56 L2285.17 1512.56 L2285.17 1516.5 L2271.09 1516.5 L2271.09 1524.97 Q2272.11 1524.62 2273.13 1524.46 Q2274.15 1524.27 2275.17 1524.27 Q2280.95 1524.27 2284.33 1527.44 Q2287.71 1530.62 2287.71 1536.03 Q2287.71 1541.61 2284.24 1544.71 Q2280.77 1547.79 2274.45 1547.79 Q2272.27 1547.79 2270 1547.42 Q2267.76 1547.05 2265.35 1546.31 L2265.35 1541.61 Q2267.44 1542.74 2269.66 1543.3 Q2271.88 1543.86 2274.36 1543.86 Q2278.36 1543.86 2280.7 1541.75 Q2283.04 1539.64 2283.04 1536.03 Q2283.04 1532.42 2280.7 1530.31 Q2278.36 1528.21 2274.36 1528.21 Q2272.48 1528.21 2270.61 1528.62 Q2268.75 1529.04 2266.81 1529.92 L2266.81 1512.56 Z\" fill=\"#000000\" fill-rule=\"evenodd\" fill-opacity=\"1\" /><path clip-path=\"url(#clip360)\" d=\"M 0 0 M2302.78 1515.64 Q2299.17 1515.64 2297.34 1519.2 Q2295.54 1522.75 2295.54 1529.87 Q2295.54 1536.98 2297.34 1540.55 Q2299.17 1544.09 2302.78 1544.09 Q2306.42 1544.09 2308.22 1540.55 Q2310.05 1536.98 2310.05 1529.87 Q2310.05 1522.75 2308.22 1519.2 Q2306.42 1515.64 2302.78 1515.64 M2302.78 1511.93 Q2308.59 1511.93 2311.65 1516.54 Q2314.73 1521.12 2314.73 1529.87 Q2314.73 1538.6 2311.65 1543.21 Q2308.59 1547.79 2302.78 1547.79 Q2296.97 1547.79 2293.89 1543.21 Q2290.84 1538.6 2290.84 1529.87 Q2290.84 1521.12 2293.89 1516.54 Q2296.97 1511.93 2302.78 1511.93 Z\" fill=\"#000000\" fill-rule=\"evenodd\" fill-opacity=\"1\" /><polyline clip-path=\"url(#clip362)\" style=\"stroke:#000000; stroke-width:2; stroke-opacity:0.1; fill:none\" points=\"\n",
       "  136.76,1445.72 2352.76,1445.72 \n",
       "  \"/>\n",
       "<polyline clip-path=\"url(#clip362)\" style=\"stroke:#000000; stroke-width:2; stroke-opacity:0.1; fill:none\" points=\"\n",
       "  136.76,1007.74 2352.76,1007.74 \n",
       "  \"/>\n",
       "<polyline clip-path=\"url(#clip362)\" style=\"stroke:#000000; stroke-width:2; stroke-opacity:0.1; fill:none\" points=\"\n",
       "  136.76,569.755 2352.76,569.755 \n",
       "  \"/>\n",
       "<polyline clip-path=\"url(#clip362)\" style=\"stroke:#000000; stroke-width:2; stroke-opacity:0.1; fill:none\" points=\"\n",
       "  136.76,131.774 2352.76,131.774 \n",
       "  \"/>\n",
       "<polyline clip-path=\"url(#clip360)\" style=\"stroke:#000000; stroke-width:4; stroke-opacity:1; fill:none\" points=\"\n",
       "  136.76,1486.45 136.76,47.2441 \n",
       "  \"/>\n",
       "<polyline clip-path=\"url(#clip360)\" style=\"stroke:#000000; stroke-width:4; stroke-opacity:1; fill:none\" points=\"\n",
       "  136.76,1445.72 163.352,1445.72 \n",
       "  \"/>\n",
       "<polyline clip-path=\"url(#clip360)\" style=\"stroke:#000000; stroke-width:4; stroke-opacity:1; fill:none\" points=\"\n",
       "  136.76,1007.74 163.352,1007.74 \n",
       "  \"/>\n",
       "<polyline clip-path=\"url(#clip360)\" style=\"stroke:#000000; stroke-width:4; stroke-opacity:1; fill:none\" points=\"\n",
       "  136.76,569.755 163.352,569.755 \n",
       "  \"/>\n",
       "<polyline clip-path=\"url(#clip360)\" style=\"stroke:#000000; stroke-width:4; stroke-opacity:1; fill:none\" points=\"\n",
       "  136.76,131.774 163.352,131.774 \n",
       "  \"/>\n",
       "<path clip-path=\"url(#clip360)\" d=\"M 0 0 M88.816 1431.51 Q85.2049 1431.51 83.3762 1435.08 Q81.5707 1438.62 81.5707 1445.75 Q81.5707 1452.86 83.3762 1456.42 Q85.2049 1459.96 88.816 1459.96 Q92.4502 1459.96 94.2558 1456.42 Q96.0845 1452.86 96.0845 1445.75 Q96.0845 1438.62 94.2558 1435.08 Q92.4502 1431.51 88.816 1431.51 M88.816 1427.81 Q94.6262 1427.81 97.6817 1432.42 Q100.76 1437 100.76 1445.75 Q100.76 1454.48 97.6817 1459.08 Q94.6262 1463.67 88.816 1463.67 Q83.0058 1463.67 79.9272 1459.08 Q76.8716 1454.48 76.8716 1445.75 Q76.8716 1437 79.9272 1432.42 Q83.0058 1427.81 88.816 1427.81 Z\" fill=\"#000000\" fill-rule=\"evenodd\" fill-opacity=\"1\" /><path clip-path=\"url(#clip360)\" d=\"M 0 0 M53.8393 1021.08 L61.4782 1021.08 L61.4782 994.714 L53.168 996.381 L53.168 992.122 L61.4319 990.455 L66.1078 990.455 L66.1078 1021.08 L73.7466 1021.08 L73.7466 1025.02 L53.8393 1025.02 L53.8393 1021.08 Z\" fill=\"#000000\" fill-rule=\"evenodd\" fill-opacity=\"1\" /><path clip-path=\"url(#clip360)\" d=\"M 0 0 M88.816 993.534 Q85.2049 993.534 83.3762 997.099 Q81.5707 1000.64 81.5707 1007.77 Q81.5707 1014.88 83.3762 1018.44 Q85.2049 1021.98 88.816 1021.98 Q92.4502 1021.98 94.2558 1018.44 Q96.0845 1014.88 96.0845 1007.77 Q96.0845 1000.64 94.2558 997.099 Q92.4502 993.534 88.816 993.534 M88.816 989.83 Q94.6262 989.83 97.6817 994.437 Q100.76 999.02 100.76 1007.77 Q100.76 1016.5 97.6817 1021.1 Q94.6262 1025.69 88.816 1025.69 Q83.0058 1025.69 79.9272 1021.1 Q76.8716 1016.5 76.8716 1007.77 Q76.8716 999.02 79.9272 994.437 Q83.0058 989.83 88.816 989.83 Z\" fill=\"#000000\" fill-rule=\"evenodd\" fill-opacity=\"1\" /><path clip-path=\"url(#clip360)\" d=\"M 0 0 M57.4273 583.1 L73.7466 583.1 L73.7466 587.035 L51.8023 587.035 L51.8023 583.1 Q54.4643 580.345 59.0476 575.715 Q63.6541 571.063 64.8346 569.72 Q67.08 567.197 67.9596 565.461 Q68.8624 563.702 68.8624 562.012 Q68.8624 559.257 66.918 557.521 Q64.9967 555.785 61.8948 555.785 Q59.6958 555.785 57.2421 556.549 Q54.8115 557.313 52.0338 558.864 L52.0338 554.141 Q54.8578 553.007 57.3115 552.428 Q59.7652 551.85 61.8023 551.85 Q67.1726 551.85 70.367 554.535 Q73.5614 557.22 73.5614 561.711 Q73.5614 563.84 72.7513 565.762 Q71.9642 567.66 69.8578 570.252 Q69.2791 570.924 66.1772 574.141 Q63.0754 577.336 57.4273 583.1 Z\" fill=\"#000000\" fill-rule=\"evenodd\" fill-opacity=\"1\" /><path clip-path=\"url(#clip360)\" d=\"M 0 0 M88.816 555.553 Q85.2049 555.553 83.3762 559.118 Q81.5707 562.66 81.5707 569.79 Q81.5707 576.896 83.3762 580.461 Q85.2049 584.002 88.816 584.002 Q92.4502 584.002 94.2558 580.461 Q96.0845 576.896 96.0845 569.79 Q96.0845 562.66 94.2558 559.118 Q92.4502 555.553 88.816 555.553 M88.816 551.85 Q94.6262 551.85 97.6817 556.456 Q100.76 561.04 100.76 569.79 Q100.76 578.516 97.6817 583.123 Q94.6262 587.706 88.816 587.706 Q83.0058 587.706 79.9272 583.123 Q76.8716 578.516 76.8716 569.79 Q76.8716 561.04 79.9272 556.456 Q83.0058 551.85 88.816 551.85 Z\" fill=\"#000000\" fill-rule=\"evenodd\" fill-opacity=\"1\" /><path clip-path=\"url(#clip360)\" d=\"M 0 0 M66.617 130.42 Q69.9735 131.138 71.8485 133.406 Q73.7466 135.675 73.7466 139.008 Q73.7466 144.124 70.2281 146.925 Q66.7096 149.726 60.2282 149.726 Q58.0523 149.726 55.7375 149.286 Q53.4458 148.869 50.9921 148.013 L50.9921 143.499 Q52.9366 144.633 55.2514 145.212 Q57.5662 145.79 60.0893 145.79 Q64.4874 145.79 66.7791 144.054 Q69.0939 142.318 69.0939 139.008 Q69.0939 135.953 66.9411 134.24 Q64.8115 132.503 60.9921 132.503 L56.9643 132.503 L56.9643 128.661 L61.1773 128.661 Q64.6263 128.661 66.455 127.295 Q68.2837 125.906 68.2837 123.314 Q68.2837 120.652 66.3856 119.24 Q64.5106 117.804 60.9921 117.804 Q59.0708 117.804 56.8717 118.221 Q54.6727 118.638 52.0338 119.517 L52.0338 115.351 Q54.6958 114.61 57.0106 114.24 Q59.3486 113.869 61.4087 113.869 Q66.7328 113.869 69.8346 116.3 Q72.9365 118.707 72.9365 122.828 Q72.9365 125.698 71.2929 127.689 Q69.6494 129.656 66.617 130.42 Z\" fill=\"#000000\" fill-rule=\"evenodd\" fill-opacity=\"1\" /><path clip-path=\"url(#clip360)\" d=\"M 0 0 M88.816 117.573 Q85.2049 117.573 83.3762 121.138 Q81.5707 124.679 81.5707 131.809 Q81.5707 138.915 83.3762 142.48 Q85.2049 146.022 88.816 146.022 Q92.4502 146.022 94.2558 142.48 Q96.0845 138.915 96.0845 131.809 Q96.0845 124.679 94.2558 121.138 Q92.4502 117.573 88.816 117.573 M88.816 113.869 Q94.6262 113.869 97.6817 118.476 Q100.76 123.059 100.76 131.809 Q100.76 140.536 97.6817 145.142 Q94.6262 149.726 88.816 149.726 Q83.0058 149.726 79.9272 145.142 Q76.8716 140.536 76.8716 131.809 Q76.8716 123.059 79.9272 118.476 Q83.0058 113.869 88.816 113.869 Z\" fill=\"#000000\" fill-rule=\"evenodd\" fill-opacity=\"1\" /><polyline clip-path=\"url(#clip362)\" style=\"stroke:#009af9; stroke-width:4; stroke-opacity:1; fill:none\" points=\"\n",
       "  199.477,876.341 242.142,832.543 284.806,876.341 327.471,920.139 370.135,920.139 412.8,920.139 455.464,920.139 498.129,876.341 540.793,1182.93 583.458,1095.33 \n",
       "  626.123,1095.33 668.787,1226.73 711.452,1270.52 754.116,1182.93 796.781,1007.74 839.445,876.341 882.11,832.543 924.774,657.351 967.439,569.755 1010.1,657.351 \n",
       "  1052.77,569.755 1095.43,744.947 1138.1,701.149 1180.76,701.149 1223.43,920.139 1266.09,1051.53 1308.75,1051.53 1351.42,832.543 1394.08,788.745 1436.75,876.341 \n",
       "  1479.41,1139.13 1522.08,1139.13 1564.74,1226.73 1607.41,1095.33 1650.07,1139.13 1692.74,1226.73 1735.4,1401.92 1778.06,1358.12 1820.73,1270.52 1863.39,1314.32 \n",
       "  1906.06,1270.52 1948.72,1182.93 1991.39,1182.93 2034.05,1051.53 2076.72,876.341 2119.38,1051.53 2162.05,1139.13 2204.71,963.937 2247.37,963.937 2290.04,1139.13 \n",
       "  \n",
       "  \"/>\n",
       "<polyline clip-path=\"url(#clip362)\" style=\"stroke:#e26f46; stroke-width:4; stroke-opacity:1; fill:none\" points=\"\n",
       "  199.477,1226.73 242.142,1139.13 284.806,701.149 327.471,482.159 370.135,876.341 412.8,657.351 455.464,613.553 498.129,175.572 540.793,263.168 583.458,482.159 \n",
       "  626.123,306.967 668.787,263.168 711.452,394.563 754.116,657.351 796.781,1007.74 839.445,1007.74 882.11,1095.33 924.774,1095.33 967.439,701.149 1010.1,1051.53 \n",
       "  1052.77,788.745 1095.43,1007.74 1138.1,1051.53 1180.76,788.745 1223.43,569.755 1266.09,569.755 1308.75,744.947 1351.42,613.553 1394.08,569.755 1436.75,219.37 \n",
       "  1479.41,394.563 1522.08,569.755 1564.74,394.563 1607.41,482.159 1650.07,350.765 1692.74,569.755 1735.4,306.967 1778.06,744.947 1820.73,438.361 1863.39,350.765 \n",
       "  1906.06,175.572 1948.72,263.168 1991.39,482.159 2034.05,744.947 2076.72,482.159 2119.38,657.351 2162.05,525.957 2204.71,263.168 2247.37,87.9763 2290.04,263.168 \n",
       "  \n",
       "  \"/>\n",
       "<polyline clip-path=\"url(#clip362)\" style=\"stroke:#3da44d; stroke-width:4; stroke-opacity:1; fill:none\" points=\"\n",
       "  199.477,1051.53 242.142,1051.53 284.806,1095.33 327.471,1182.93 370.135,1226.73 412.8,1226.73 455.464,1182.93 498.129,1358.12 540.793,1358.12 583.458,1358.12 \n",
       "  626.123,1358.12 668.787,1358.12 711.452,1445.72 754.116,1445.72 796.781,1445.72 839.445,1401.92 882.11,1358.12 924.774,1270.52 967.439,1182.93 1010.1,963.937 \n",
       "  1052.77,920.139 1095.43,1007.74 1138.1,876.341 1180.76,832.543 1223.43,1007.74 1266.09,1139.13 1308.75,1270.52 1351.42,1270.52 1394.08,1226.73 1436.75,1226.73 \n",
       "  1479.41,1139.13 1522.08,1139.13 1564.74,1358.12 1607.41,1358.12 1650.07,1314.32 1692.74,1358.12 1735.4,1401.92 1778.06,1358.12 1820.73,1358.12 1863.39,1358.12 \n",
       "  1906.06,1358.12 1948.72,1445.72 1991.39,1401.92 2034.05,1358.12 2076.72,1270.52 2119.38,1270.52 2162.05,1358.12 2204.71,1445.72 2247.37,1445.72 2290.04,1445.72 \n",
       "  \n",
       "  \"/>\n",
       "<polyline clip-path=\"url(#clip362)\" style=\"stroke:#c271d2; stroke-width:4; stroke-opacity:1; fill:none\" points=\"\n",
       "  199.477,832.543 242.142,657.351 284.806,1270.52 327.471,1226.73 370.135,1182.93 412.8,1007.74 455.464,1182.93 498.129,1358.12 540.793,1358.12 583.458,1358.12 \n",
       "  626.123,1401.92 668.787,1401.92 711.452,1401.92 754.116,1401.92 796.781,1401.92 839.445,1401.92 882.11,1358.12 924.774,1270.52 967.439,1358.12 1010.1,1270.52 \n",
       "  1052.77,1358.12 1095.43,1270.52 1138.1,1139.13 1180.76,1226.73 1223.43,1095.33 1266.09,963.937 1308.75,1182.93 1351.42,1358.12 1394.08,1314.32 1436.75,1314.32 \n",
       "  1479.41,1270.52 1522.08,1182.93 1564.74,1226.73 1607.41,1226.73 1650.07,1095.33 1692.74,1226.73 1735.4,1226.73 1778.06,1314.32 1820.73,1358.12 1863.39,1445.72 \n",
       "  1906.06,1401.92 1948.72,1358.12 1991.39,1401.92 2034.05,1358.12 2076.72,1270.52 2119.38,1358.12 2162.05,1358.12 2204.71,1358.12 2247.37,1314.32 2290.04,1314.32 \n",
       "  \n",
       "  \"/>\n",
       "<path clip-path=\"url(#clip360)\" d=\"\n",
       "M1694.41 397.618 L2278.89 397.618 L2278.89 95.2176 L1694.41 95.2176  Z\n",
       "  \" fill=\"#ffffff\" fill-rule=\"evenodd\" fill-opacity=\"1\"/>\n",
       "<polyline clip-path=\"url(#clip360)\" style=\"stroke:#000000; stroke-width:4; stroke-opacity:1; fill:none\" points=\"\n",
       "  1694.41,397.618 2278.89,397.618 2278.89,95.2176 1694.41,95.2176 1694.41,397.618 \n",
       "  \"/>\n",
       "<polyline clip-path=\"url(#clip360)\" style=\"stroke:#009af9; stroke-width:4; stroke-opacity:1; fill:none\" points=\"\n",
       "  1719.03,155.698 1866.76,155.698 \n",
       "  \"/>\n",
       "<path clip-path=\"url(#clip360)\" d=\"M 0 0 M1910.29 159.714 Q1910.29 155.084 1908.37 152.538 Q1906.48 149.992 1903.03 149.992 Q1899.6 149.992 1897.68 152.538 Q1895.78 155.084 1895.78 159.714 Q1895.78 164.32 1897.68 166.866 Q1899.6 169.413 1903.03 169.413 Q1906.48 169.413 1908.37 166.866 Q1910.29 164.32 1910.29 159.714 M1914.55 169.76 Q1914.55 176.38 1911.61 179.598 Q1908.67 182.839 1902.61 182.839 Q1900.36 182.839 1898.37 182.491 Q1896.38 182.167 1894.51 181.473 L1894.51 177.329 Q1896.38 178.348 1898.21 178.834 Q1900.04 179.32 1901.94 179.32 Q1906.13 179.32 1908.21 177.121 Q1910.29 174.945 1910.29 170.524 L1910.29 168.417 Q1908.98 170.709 1906.92 171.843 Q1904.86 172.978 1901.98 172.978 Q1897.22 172.978 1894.3 169.343 Q1891.38 165.709 1891.38 159.714 Q1891.38 153.695 1894.3 150.061 Q1897.22 146.427 1901.98 146.427 Q1904.86 146.427 1906.92 147.561 Q1908.98 148.695 1910.29 150.987 L1910.29 147.052 L1914.55 147.052 L1914.55 169.76 Z\" fill=\"#000000\" fill-rule=\"evenodd\" fill-opacity=\"1\" /><path clip-path=\"url(#clip360)\" d=\"M 0 0 M1929.07 150.038 Q1925.64 150.038 1923.65 152.723 Q1921.66 155.385 1921.66 160.038 Q1921.66 164.691 1923.63 167.376 Q1925.62 170.038 1929.07 170.038 Q1932.47 170.038 1934.46 167.353 Q1936.45 164.667 1936.45 160.038 Q1936.45 155.431 1934.46 152.746 Q1932.47 150.038 1929.07 150.038 M1929.07 146.427 Q1934.62 146.427 1937.79 150.038 Q1940.97 153.649 1940.97 160.038 Q1940.97 166.404 1937.79 170.038 Q1934.62 173.649 1929.07 173.649 Q1923.49 173.649 1920.32 170.038 Q1917.17 166.404 1917.17 160.038 Q1917.17 153.649 1920.32 150.038 Q1923.49 146.427 1929.07 146.427 Z\" fill=\"#000000\" fill-rule=\"evenodd\" fill-opacity=\"1\" /><path clip-path=\"url(#clip360)\" d=\"M 0 0 M1945.57 136.959 L1949.83 136.959 L1949.83 150.894 L1952.73 148.811 L1954.48 151.265 L1949.83 154.529 L1949.83 172.978 L1945.57 172.978 L1945.57 157.561 L1942.73 159.598 L1941.01 157.144 L1945.57 153.88 L1945.57 136.959 Z\" fill=\"#000000\" fill-rule=\"evenodd\" fill-opacity=\"1\" /><path clip-path=\"url(#clip360)\" d=\"M 0 0 M1981.13 158.95 L1981.13 161.033 L1961.54 161.033 Q1961.82 165.431 1964.18 167.746 Q1966.57 170.038 1970.8 170.038 Q1973.26 170.038 1975.55 169.436 Q1977.86 168.834 1980.13 167.63 L1980.13 171.658 Q1977.84 172.63 1975.43 173.14 Q1973.03 173.649 1970.55 173.649 Q1964.35 173.649 1960.71 170.038 Q1957.1 166.427 1957.1 160.269 Q1957.1 153.904 1960.53 150.177 Q1963.98 146.427 1969.81 146.427 Q1975.04 146.427 1978.07 149.806 Q1981.13 153.163 1981.13 158.95 M1976.87 157.7 Q1976.82 154.205 1974.9 152.121 Q1973 150.038 1969.85 150.038 Q1966.29 150.038 1964.14 152.052 Q1962.01 154.066 1961.68 157.723 L1976.87 157.7 M1973.37 172.978 L1976.13 172.978 Q1975.09 174.39 1974.58 175.408 Q1974.09 176.427 1974.09 177.144 Q1974.09 178.209 1974.72 178.741 Q1975.36 179.274 1976.61 179.274 Q1977.35 179.274 1978.07 179.089 Q1978.79 178.927 1979.51 178.579 L1979.51 181.658 Q1978.63 181.89 1977.84 182.005 Q1977.05 182.121 1976.36 182.121 Q1973.54 182.121 1972.19 181.103 Q1970.87 180.107 1970.87 177.954 Q1970.87 176.843 1971.48 175.616 Q1972.1 174.413 1973.37 172.978 Z\" fill=\"#000000\" fill-rule=\"evenodd\" fill-opacity=\"1\" /><path clip-path=\"url(#clip360)\" d=\"M 0 0 M2004.21 160.038 Q2004.21 155.339 2002.26 152.677 Q2000.34 149.992 1996.96 149.992 Q1993.58 149.992 1991.64 152.677 Q1989.72 155.339 1989.72 160.038 Q1989.72 164.737 1991.64 167.422 Q1993.58 170.084 1996.96 170.084 Q2000.34 170.084 2002.26 167.422 Q2004.21 164.737 2004.21 160.038 M1989.72 150.987 Q1991.06 148.672 1993.1 147.561 Q1995.16 146.427 1998 146.427 Q2002.72 146.427 2005.66 150.177 Q2008.63 153.927 2008.63 160.038 Q2008.63 166.149 2005.66 169.899 Q2002.72 173.649 1998 173.649 Q1995.16 173.649 1993.1 172.538 Q1991.06 171.403 1989.72 169.089 L1989.72 172.978 L1985.43 172.978 L1985.43 136.959 L1989.72 136.959 L1989.72 150.987 Z\" fill=\"#000000\" fill-rule=\"evenodd\" fill-opacity=\"1\" /><path clip-path=\"url(#clip360)\" d=\"M 0 0 M2013.1 147.052 L2017.35 147.052 L2017.35 172.978 L2013.1 172.978 L2013.1 147.052 M2013.1 136.959 L2017.35 136.959 L2017.35 142.353 L2013.1 142.353 L2013.1 136.959 Z\" fill=\"#000000\" fill-rule=\"evenodd\" fill-opacity=\"1\" /><path clip-path=\"url(#clip360)\" d=\"M 0 0 M2044 158.95 L2044 161.033 L2024.41 161.033 Q2024.69 165.431 2027.05 167.746 Q2029.44 170.038 2033.67 170.038 Q2036.13 170.038 2038.42 169.436 Q2040.73 168.834 2043 167.63 L2043 171.658 Q2040.71 172.63 2038.3 173.14 Q2035.9 173.649 2033.42 173.649 Q2027.22 173.649 2023.58 170.038 Q2019.97 166.427 2019.97 160.269 Q2019.97 153.904 2023.4 150.177 Q2026.85 146.427 2032.68 146.427 Q2037.91 146.427 2040.94 149.806 Q2044 153.163 2044 158.95 M2039.74 157.7 Q2039.69 154.205 2037.77 152.121 Q2035.87 150.038 2032.72 150.038 Q2029.16 150.038 2027.01 152.052 Q2024.88 154.066 2024.55 157.723 L2039.74 157.7 Z\" fill=\"#000000\" fill-rule=\"evenodd\" fill-opacity=\"1\" /><polyline clip-path=\"url(#clip360)\" style=\"stroke:#e26f46; stroke-width:4; stroke-opacity:1; fill:none\" points=\"\n",
       "  1719.03,216.178 1866.76,216.178 \n",
       "  \"/>\n",
       "<path clip-path=\"url(#clip360)\" d=\"M 0 0 M1896.71 207.532 L1900.97 207.532 L1900.97 233.921 Q1900.97 238.874 1899.07 241.096 Q1897.19 243.319 1893 243.319 L1891.38 243.319 L1891.38 239.708 L1892.52 239.708 Q1894.95 239.708 1895.83 238.573 Q1896.71 237.462 1896.71 233.921 L1896.71 207.532 M1896.71 197.439 L1900.97 197.439 L1900.97 202.833 L1896.71 202.833 L1896.71 197.439 Z\" fill=\"#000000\" fill-rule=\"evenodd\" fill-opacity=\"1\" /><path clip-path=\"url(#clip360)\" d=\"M 0 0 M1917.22 220.425 Q1912.05 220.425 1910.06 221.606 Q1908.07 222.786 1908.07 225.634 Q1908.07 227.902 1909.55 229.245 Q1911.06 230.564 1913.63 230.564 Q1917.17 230.564 1919.3 228.064 Q1921.45 225.541 1921.45 221.374 L1921.45 220.425 L1917.22 220.425 M1925.71 218.666 L1925.71 233.458 L1921.45 233.458 L1921.45 229.522 Q1919.99 231.883 1917.82 233.018 Q1915.64 234.129 1912.49 234.129 Q1908.51 234.129 1906.15 231.907 Q1903.81 229.661 1903.81 225.911 Q1903.81 221.536 1906.73 219.314 Q1909.67 217.092 1915.48 217.092 L1921.45 217.092 L1921.45 216.675 Q1921.45 213.735 1919.51 212.138 Q1917.59 210.518 1914.09 210.518 Q1911.87 210.518 1909.76 211.05 Q1907.66 211.583 1905.71 212.647 L1905.71 208.712 Q1908.05 207.81 1910.25 207.37 Q1912.45 206.907 1914.53 206.907 Q1920.16 206.907 1922.93 209.823 Q1925.71 212.74 1925.71 218.666 Z\" fill=\"#000000\" fill-rule=\"evenodd\" fill-opacity=\"1\" /><path clip-path=\"url(#clip360)\" d=\"M 0 0 M1946.71 208.296 L1946.71 212.323 Q1944.9 211.397 1942.96 210.935 Q1941.01 210.472 1938.93 210.472 Q1935.76 210.472 1934.16 211.444 Q1932.59 212.416 1932.59 214.36 Q1932.59 215.842 1933.72 216.698 Q1934.85 217.532 1938.28 218.296 L1939.74 218.62 Q1944.28 219.592 1946.17 221.374 Q1948.1 223.134 1948.1 226.305 Q1948.1 229.916 1945.23 232.022 Q1942.38 234.129 1937.38 234.129 Q1935.29 234.129 1933.03 233.712 Q1930.78 233.319 1928.28 232.508 L1928.28 228.11 Q1930.64 229.337 1932.93 229.962 Q1935.23 230.564 1937.47 230.564 Q1940.48 230.564 1942.1 229.546 Q1943.72 228.504 1943.72 226.629 Q1943.72 224.893 1942.54 223.967 Q1941.38 223.041 1937.42 222.184 L1935.94 221.837 Q1931.98 221.004 1930.23 219.291 Q1928.47 217.555 1928.47 214.546 Q1928.47 210.888 1931.06 208.898 Q1933.65 206.907 1938.42 206.907 Q1940.78 206.907 1942.86 207.254 Q1944.95 207.601 1946.71 208.296 Z\" fill=\"#000000\" fill-rule=\"evenodd\" fill-opacity=\"1\" /><path clip-path=\"url(#clip360)\" d=\"M 0 0 M1956.78 200.171 L1956.78 207.532 L1965.55 207.532 L1965.55 210.842 L1956.78 210.842 L1956.78 224.916 Q1956.78 228.087 1957.63 228.99 Q1958.51 229.893 1961.17 229.893 L1965.55 229.893 L1965.55 233.458 L1961.17 233.458 Q1956.24 233.458 1954.37 231.629 Q1952.49 229.777 1952.49 224.916 L1952.49 210.842 L1949.37 210.842 L1949.37 207.532 L1952.49 207.532 L1952.49 200.171 L1956.78 200.171 Z\" fill=\"#000000\" fill-rule=\"evenodd\" fill-opacity=\"1\" /><path clip-path=\"url(#clip360)\" d=\"M 0 0 M1985.04 211.513 Q1984.32 211.097 1983.47 210.911 Q1982.63 210.703 1981.61 210.703 Q1978 210.703 1976.06 213.064 Q1974.14 215.402 1974.14 219.8 L1974.14 233.458 L1969.85 233.458 L1969.85 207.532 L1974.14 207.532 L1974.14 211.56 Q1975.48 209.198 1977.63 208.064 Q1979.79 206.907 1982.86 206.907 Q1983.3 206.907 1983.84 206.976 Q1984.37 207.023 1985.02 207.138 L1985.04 211.513 Z\" fill=\"#000000\" fill-rule=\"evenodd\" fill-opacity=\"1\" /><path clip-path=\"url(#clip360)\" d=\"M 0 0 M1987.66 207.532 L2007.89 207.532 L2007.89 211.421 L1991.87 230.055 L2007.89 230.055 L2007.89 233.458 L1987.08 233.458 L1987.08 229.569 L2003.1 210.935 L1987.66 210.935 L1987.66 207.532 Z\" fill=\"#000000\" fill-rule=\"evenodd\" fill-opacity=\"1\" /><path clip-path=\"url(#clip360)\" d=\"M 0 0 M2034.53 219.43 L2034.53 221.513 L2014.95 221.513 Q2015.22 225.911 2017.59 228.226 Q2019.97 230.518 2024.21 230.518 Q2026.66 230.518 2028.95 229.916 Q2031.27 229.314 2033.53 228.11 L2033.53 232.138 Q2031.24 233.11 2028.84 233.62 Q2026.43 234.129 2023.95 234.129 Q2017.75 234.129 2014.11 230.518 Q2010.5 226.907 2010.5 220.749 Q2010.5 214.384 2013.93 210.657 Q2017.38 206.907 2023.21 206.907 Q2028.44 206.907 2031.47 210.286 Q2034.53 213.643 2034.53 219.43 M2030.27 218.18 Q2030.22 214.685 2028.3 212.601 Q2026.41 210.518 2023.26 210.518 Q2019.69 210.518 2017.54 212.532 Q2015.41 214.546 2015.09 218.203 L2030.27 218.18 M2026.78 233.458 L2029.53 233.458 Q2028.49 234.87 2027.98 235.888 Q2027.49 236.907 2027.49 237.624 Q2027.49 238.689 2028.12 239.221 Q2028.77 239.754 2030.02 239.754 Q2030.76 239.754 2031.47 239.569 Q2032.19 239.407 2032.91 239.059 L2032.91 242.138 Q2032.03 242.37 2031.24 242.485 Q2030.46 242.601 2029.76 242.601 Q2026.94 242.601 2025.6 241.583 Q2024.28 240.587 2024.28 238.434 Q2024.28 237.323 2024.88 236.096 Q2025.5 234.893 2026.78 233.458 Z\" fill=\"#000000\" fill-rule=\"evenodd\" fill-opacity=\"1\" /><path clip-path=\"url(#clip360)\" d=\"M 0 0 M2057.61 220.518 Q2057.61 215.819 2055.66 213.157 Q2053.74 210.472 2050.36 210.472 Q2046.98 210.472 2045.04 213.157 Q2043.12 215.819 2043.12 220.518 Q2043.12 225.217 2045.04 227.902 Q2046.98 230.564 2050.36 230.564 Q2053.74 230.564 2055.66 227.902 Q2057.61 225.217 2057.61 220.518 M2043.12 211.467 Q2044.46 209.152 2046.5 208.041 Q2048.56 206.907 2051.41 206.907 Q2056.13 206.907 2059.07 210.657 Q2062.03 214.407 2062.03 220.518 Q2062.03 226.629 2059.07 230.379 Q2056.13 234.129 2051.41 234.129 Q2048.56 234.129 2046.5 233.018 Q2044.46 231.883 2043.12 229.569 L2043.12 233.458 L2038.84 233.458 L2038.84 197.439 L2043.12 197.439 L2043.12 211.467 Z\" fill=\"#000000\" fill-rule=\"evenodd\" fill-opacity=\"1\" /><path clip-path=\"url(#clip360)\" d=\"M 0 0 M2066.5 207.532 L2070.76 207.532 L2070.76 233.458 L2066.5 233.458 L2066.5 207.532 M2066.5 197.439 L2070.76 197.439 L2070.76 202.833 L2066.5 202.833 L2066.5 197.439 Z\" fill=\"#000000\" fill-rule=\"evenodd\" fill-opacity=\"1\" /><path clip-path=\"url(#clip360)\" d=\"M 0 0 M2097.4 219.43 L2097.4 221.513 L2077.82 221.513 Q2078.09 225.911 2080.46 228.226 Q2082.84 230.518 2087.08 230.518 Q2089.53 230.518 2091.82 229.916 Q2094.14 229.314 2096.41 228.11 L2096.41 232.138 Q2094.11 233.11 2091.71 233.62 Q2089.3 234.129 2086.82 234.129 Q2080.62 234.129 2076.98 230.518 Q2073.37 226.907 2073.37 220.749 Q2073.37 214.384 2076.8 210.657 Q2080.25 206.907 2086.08 206.907 Q2091.31 206.907 2094.34 210.286 Q2097.4 213.643 2097.4 219.43 M2093.14 218.18 Q2093.09 214.685 2091.17 212.601 Q2089.28 210.518 2086.13 210.518 Q2082.56 210.518 2080.41 212.532 Q2078.28 214.546 2077.96 218.203 L2093.14 218.18 Z\" fill=\"#000000\" fill-rule=\"evenodd\" fill-opacity=\"1\" /><polyline clip-path=\"url(#clip360)\" style=\"stroke:#3da44d; stroke-width:4; stroke-opacity:1; fill:none\" points=\"\n",
       "  1719.03,276.658 1866.76,276.658 \n",
       "  \"/>\n",
       "<path clip-path=\"url(#clip360)\" d=\"M 0 0 M1911.89 269.007 L1911.89 272.989 Q1910.09 271.993 1908.26 271.507 Q1906.45 270.998 1904.6 270.998 Q1900.46 270.998 1898.17 273.637 Q1895.87 276.252 1895.87 280.998 Q1895.87 285.743 1898.17 288.382 Q1900.46 290.998 1904.6 290.998 Q1906.45 290.998 1908.26 290.512 Q1910.09 290.002 1911.89 289.007 L1911.89 292.942 Q1910.11 293.776 1908.19 294.192 Q1906.29 294.609 1904.14 294.609 Q1898.28 294.609 1894.83 290.928 Q1891.38 287.248 1891.38 280.998 Q1891.38 274.655 1894.86 271.021 Q1898.35 267.387 1904.42 267.387 Q1906.38 267.387 1908.26 267.803 Q1910.13 268.197 1911.89 269.007 Z\" fill=\"#000000\" fill-rule=\"evenodd\" fill-opacity=\"1\" /><path clip-path=\"url(#clip360)\" d=\"M 0 0 M1937.91 278.289 L1937.91 293.938 L1933.65 293.938 L1933.65 278.428 Q1933.65 274.748 1932.22 272.919 Q1930.78 271.09 1927.91 271.09 Q1924.46 271.09 1922.47 273.29 Q1920.48 275.489 1920.48 279.285 L1920.48 293.938 L1916.2 293.938 L1916.2 257.919 L1920.48 257.919 L1920.48 272.04 Q1922.01 269.702 1924.07 268.544 Q1926.15 267.387 1928.86 267.387 Q1933.33 267.387 1935.62 270.165 Q1937.91 272.919 1937.91 278.289 Z\" fill=\"#000000\" fill-rule=\"evenodd\" fill-opacity=\"1\" /><path clip-path=\"url(#clip360)\" d=\"M 0 0 M1952.42 270.998 Q1949 270.998 1947.01 273.683 Q1945.02 276.345 1945.02 280.998 Q1945.02 285.651 1946.98 288.336 Q1948.98 290.998 1952.42 290.998 Q1955.83 290.998 1957.82 288.313 Q1959.81 285.627 1959.81 280.998 Q1959.81 276.391 1957.82 273.706 Q1955.83 270.998 1952.42 270.998 M1952.42 267.387 Q1957.98 267.387 1961.15 270.998 Q1964.32 274.609 1964.32 280.998 Q1964.32 287.364 1961.15 290.998 Q1957.98 294.609 1952.42 294.609 Q1946.85 294.609 1943.67 290.998 Q1940.53 287.364 1940.53 280.998 Q1940.53 274.609 1943.67 270.998 Q1946.85 267.387 1952.42 267.387 Z\" fill=\"#000000\" fill-rule=\"evenodd\" fill-opacity=\"1\" /><path clip-path=\"url(#clip360)\" d=\"M 0 0 M1983.81 271.993 Q1983.1 271.577 1982.24 271.391 Q1981.41 271.183 1980.39 271.183 Q1976.78 271.183 1974.83 273.544 Q1972.91 275.882 1972.91 280.28 L1972.91 293.938 L1968.63 293.938 L1968.63 268.012 L1972.91 268.012 L1972.91 272.04 Q1974.25 269.678 1976.41 268.544 Q1978.56 267.387 1981.64 267.387 Q1982.08 267.387 1982.61 267.456 Q1983.14 267.503 1983.79 267.618 L1983.81 271.993 Z\" fill=\"#000000\" fill-rule=\"evenodd\" fill-opacity=\"1\" /><path clip-path=\"url(#clip360)\" d=\"M 0 0 M2009.41 279.91 L2009.41 281.993 L1989.83 281.993 Q1990.11 286.391 1992.47 288.706 Q1994.85 290.998 1999.09 290.998 Q2001.54 290.998 2003.84 290.396 Q2006.15 289.794 2008.42 288.59 L2008.42 292.618 Q2006.13 293.59 2003.72 294.1 Q2001.31 294.609 1998.84 294.609 Q1992.63 294.609 1989 290.998 Q1985.39 287.387 1985.39 281.229 Q1985.39 274.864 1988.81 271.137 Q1992.26 267.387 1998.1 267.387 Q2003.33 267.387 2006.36 270.766 Q2009.41 274.123 2009.41 279.91 M2005.16 278.66 Q2005.11 275.165 2003.19 273.081 Q2001.29 270.998 1998.14 270.998 Q1994.58 270.998 1992.42 273.012 Q1990.29 275.026 1989.97 278.683 L2005.16 278.66 Z\" fill=\"#000000\" fill-rule=\"evenodd\" fill-opacity=\"1\" /><path clip-path=\"url(#clip360)\" d=\"M 0 0 M2046.01 280.674 Q2046.01 276.044 2044.09 273.498 Q2042.19 270.952 2038.74 270.952 Q2035.32 270.952 2033.4 273.498 Q2031.5 276.044 2031.5 280.674 Q2031.5 285.28 2033.4 287.826 Q2035.32 290.373 2038.74 290.373 Q2042.19 290.373 2044.09 287.826 Q2046.01 285.28 2046.01 280.674 M2050.27 290.72 Q2050.27 297.34 2047.33 300.558 Q2044.39 303.799 2038.33 303.799 Q2036.08 303.799 2034.09 303.451 Q2032.1 303.127 2030.22 302.433 L2030.22 298.289 Q2032.1 299.308 2033.93 299.794 Q2035.76 300.28 2037.66 300.28 Q2041.85 300.28 2043.93 298.081 Q2046.01 295.905 2046.01 291.484 L2046.01 289.377 Q2044.69 291.669 2042.63 292.803 Q2040.57 293.938 2037.7 293.938 Q2032.93 293.938 2030.02 290.303 Q2027.1 286.669 2027.1 280.674 Q2027.1 274.655 2030.02 271.021 Q2032.93 267.387 2037.7 267.387 Q2040.57 267.387 2042.63 268.521 Q2044.69 269.655 2046.01 271.947 L2046.01 268.012 L2050.27 268.012 L2050.27 290.72 Z\" fill=\"#000000\" fill-rule=\"evenodd\" fill-opacity=\"1\" /><path clip-path=\"url(#clip360)\" d=\"M 0 0 M2064.78 270.998 Q2061.36 270.998 2059.37 273.683 Q2057.38 276.345 2057.38 280.998 Q2057.38 285.651 2059.35 288.336 Q2061.34 290.998 2064.78 290.998 Q2068.19 290.998 2070.18 288.313 Q2072.17 285.627 2072.17 280.998 Q2072.17 276.391 2070.18 273.706 Q2068.19 270.998 2064.78 270.998 M2064.78 267.387 Q2070.34 267.387 2073.51 270.998 Q2076.68 274.609 2076.68 280.998 Q2076.68 287.364 2073.51 290.998 Q2070.34 294.609 2064.78 294.609 Q2059.21 294.609 2056.03 290.998 Q2052.89 287.364 2052.89 280.998 Q2052.89 274.609 2056.03 270.998 Q2059.21 267.387 2064.78 267.387 Z\" fill=\"#000000\" fill-rule=\"evenodd\" fill-opacity=\"1\" /><path clip-path=\"url(#clip360)\" d=\"M 0 0 M2081.29 257.919 L2085.55 257.919 L2085.55 271.854 L2088.44 269.771 L2090.2 272.225 L2085.55 275.489 L2085.55 293.938 L2081.29 293.938 L2081.29 278.521 L2078.44 280.558 L2076.73 278.104 L2081.29 274.84 L2081.29 257.919 Z\" fill=\"#000000\" fill-rule=\"evenodd\" fill-opacity=\"1\" /><path clip-path=\"url(#clip360)\" d=\"M 0 0 M2116.84 279.91 L2116.84 281.993 L2097.26 281.993 Q2097.54 286.391 2099.9 288.706 Q2102.28 290.998 2106.52 290.998 Q2108.97 290.998 2111.27 290.396 Q2113.58 289.794 2115.85 288.59 L2115.85 292.618 Q2113.56 293.59 2111.15 294.1 Q2108.74 294.609 2106.27 294.609 Q2100.06 294.609 2096.43 290.998 Q2092.82 287.387 2092.82 281.229 Q2092.82 274.864 2096.24 271.137 Q2099.69 267.387 2105.53 267.387 Q2110.76 267.387 2113.79 270.766 Q2116.84 274.123 2116.84 279.91 M2112.59 278.66 Q2112.54 275.165 2110.62 273.081 Q2108.72 270.998 2105.57 270.998 Q2102.01 270.998 2099.85 273.012 Q2097.72 275.026 2097.4 278.683 L2112.59 278.66 M2109.09 293.938 L2111.84 293.938 Q2110.8 295.35 2110.29 296.368 Q2109.81 297.387 2109.81 298.104 Q2109.81 299.169 2110.43 299.701 Q2111.08 300.234 2112.33 300.234 Q2113.07 300.234 2113.79 300.049 Q2114.51 299.887 2115.22 299.539 L2115.22 302.618 Q2114.34 302.85 2113.56 302.965 Q2112.77 303.081 2112.08 303.081 Q2109.25 303.081 2107.91 302.063 Q2106.59 301.067 2106.59 298.914 Q2106.59 297.803 2107.19 296.576 Q2107.82 295.373 2109.09 293.938 Z\" fill=\"#000000\" fill-rule=\"evenodd\" fill-opacity=\"1\" /><path clip-path=\"url(#clip360)\" d=\"M 0 0 M2139.92 280.998 Q2139.92 276.299 2137.98 273.637 Q2136.06 270.952 2132.68 270.952 Q2129.3 270.952 2127.35 273.637 Q2125.43 276.299 2125.43 280.998 Q2125.43 285.697 2127.35 288.382 Q2129.3 291.044 2132.68 291.044 Q2136.06 291.044 2137.98 288.382 Q2139.92 285.697 2139.92 280.998 M2125.43 271.947 Q2126.78 269.632 2128.81 268.521 Q2130.87 267.387 2133.72 267.387 Q2138.44 267.387 2141.38 271.137 Q2144.34 274.887 2144.34 280.998 Q2144.34 287.109 2141.38 290.859 Q2138.44 294.609 2133.72 294.609 Q2130.87 294.609 2128.81 293.498 Q2126.78 292.363 2125.43 290.049 L2125.43 293.938 L2121.15 293.938 L2121.15 257.919 L2125.43 257.919 L2125.43 271.947 Z\" fill=\"#000000\" fill-rule=\"evenodd\" fill-opacity=\"1\" /><path clip-path=\"url(#clip360)\" d=\"M 0 0 M2148.81 268.012 L2153.07 268.012 L2153.07 293.938 L2148.81 293.938 L2148.81 268.012 M2148.81 257.919 L2153.07 257.919 L2153.07 263.313 L2148.81 263.313 L2148.81 257.919 Z\" fill=\"#000000\" fill-rule=\"evenodd\" fill-opacity=\"1\" /><path clip-path=\"url(#clip360)\" d=\"M 0 0 M2179.71 279.91 L2179.71 281.993 L2160.13 281.993 Q2160.41 286.391 2162.77 288.706 Q2165.15 290.998 2169.39 290.998 Q2171.84 290.998 2174.14 290.396 Q2176.45 289.794 2178.72 288.59 L2178.72 292.618 Q2176.43 293.59 2174.02 294.1 Q2171.61 294.609 2169.14 294.609 Q2162.93 294.609 2159.3 290.998 Q2155.69 287.387 2155.69 281.229 Q2155.69 274.864 2159.11 271.137 Q2162.56 267.387 2168.4 267.387 Q2173.63 267.387 2176.66 270.766 Q2179.71 274.123 2179.71 279.91 M2175.46 278.66 Q2175.41 275.165 2173.49 273.081 Q2171.59 270.998 2168.44 270.998 Q2164.88 270.998 2162.72 273.012 Q2160.59 275.026 2160.27 278.683 L2175.46 278.66 Z\" fill=\"#000000\" fill-rule=\"evenodd\" fill-opacity=\"1\" /><polyline clip-path=\"url(#clip360)\" style=\"stroke:#c271d2; stroke-width:4; stroke-opacity:1; fill:none\" points=\"\n",
       "  1719.03,337.138 1866.76,337.138 \n",
       "  \"/>\n",
       "<path clip-path=\"url(#clip360)\" d=\"M 0 0 M1911.89 329.487 L1911.89 333.469 Q1910.09 332.473 1908.26 331.987 Q1906.45 331.478 1904.6 331.478 Q1900.46 331.478 1898.17 334.117 Q1895.87 336.732 1895.87 341.478 Q1895.87 346.223 1898.17 348.862 Q1900.46 351.478 1904.6 351.478 Q1906.45 351.478 1908.26 350.992 Q1910.09 350.482 1911.89 349.487 L1911.89 353.422 Q1910.11 354.256 1908.19 354.672 Q1906.29 355.089 1904.14 355.089 Q1898.28 355.089 1894.83 351.408 Q1891.38 347.728 1891.38 341.478 Q1891.38 335.135 1894.86 331.501 Q1898.35 327.867 1904.42 327.867 Q1906.38 327.867 1908.26 328.283 Q1910.13 328.677 1911.89 329.487 Z\" fill=\"#000000\" fill-rule=\"evenodd\" fill-opacity=\"1\" /><path clip-path=\"url(#clip360)\" d=\"M 0 0 M1937.91 338.769 L1937.91 354.418 L1933.65 354.418 L1933.65 338.908 Q1933.65 335.228 1932.22 333.399 Q1930.78 331.57 1927.91 331.57 Q1924.46 331.57 1922.47 333.77 Q1920.48 335.969 1920.48 339.765 L1920.48 354.418 L1916.2 354.418 L1916.2 318.399 L1920.48 318.399 L1920.48 332.52 Q1922.01 330.182 1924.07 329.024 Q1926.15 327.867 1928.86 327.867 Q1933.33 327.867 1935.62 330.645 Q1937.91 333.399 1937.91 338.769 Z\" fill=\"#000000\" fill-rule=\"evenodd\" fill-opacity=\"1\" /><path clip-path=\"url(#clip360)\" d=\"M 0 0 M1952.42 331.478 Q1949 331.478 1947.01 334.163 Q1945.02 336.825 1945.02 341.478 Q1945.02 346.131 1946.98 348.816 Q1948.98 351.478 1952.42 351.478 Q1955.83 351.478 1957.82 348.793 Q1959.81 346.107 1959.81 341.478 Q1959.81 336.871 1957.82 334.186 Q1955.83 331.478 1952.42 331.478 M1952.42 327.867 Q1957.98 327.867 1961.15 331.478 Q1964.32 335.089 1964.32 341.478 Q1964.32 347.844 1961.15 351.478 Q1957.98 355.089 1952.42 355.089 Q1946.85 355.089 1943.67 351.478 Q1940.53 347.844 1940.53 341.478 Q1940.53 335.089 1943.67 331.478 Q1946.85 327.867 1952.42 327.867 Z\" fill=\"#000000\" fill-rule=\"evenodd\" fill-opacity=\"1\" /><path clip-path=\"url(#clip360)\" d=\"M 0 0 M1983.81 332.473 Q1983.1 332.057 1982.24 331.871 Q1981.41 331.663 1980.39 331.663 Q1976.78 331.663 1974.83 334.024 Q1972.91 336.362 1972.91 340.76 L1972.91 354.418 L1968.63 354.418 L1968.63 328.492 L1972.91 328.492 L1972.91 332.52 Q1974.25 330.158 1976.41 329.024 Q1978.56 327.867 1981.64 327.867 Q1982.08 327.867 1982.61 327.936 Q1983.14 327.983 1983.79 328.098 L1983.81 332.473 Z\" fill=\"#000000\" fill-rule=\"evenodd\" fill-opacity=\"1\" /><path clip-path=\"url(#clip360)\" d=\"M 0 0 M2009.41 340.39 L2009.41 342.473 L1989.83 342.473 Q1990.11 346.871 1992.47 349.186 Q1994.85 351.478 1999.09 351.478 Q2001.54 351.478 2003.84 350.876 Q2006.15 350.274 2008.42 349.07 L2008.42 353.098 Q2006.13 354.07 2003.72 354.58 Q2001.31 355.089 1998.84 355.089 Q1992.63 355.089 1989 351.478 Q1985.39 347.867 1985.39 341.709 Q1985.39 335.344 1988.81 331.617 Q1992.26 327.867 1998.1 327.867 Q2003.33 327.867 2006.36 331.246 Q2009.41 334.603 2009.41 340.39 M2005.16 339.14 Q2005.11 335.645 2003.19 333.561 Q2001.29 331.478 1998.14 331.478 Q1994.58 331.478 1992.42 333.492 Q1990.29 335.506 1989.97 339.163 L2005.16 339.14 Z\" fill=\"#000000\" fill-rule=\"evenodd\" fill-opacity=\"1\" /><path clip-path=\"url(#clip360)\" d=\"M 0 0 M2028.95 328.492 L2033.21 328.492 L2033.21 354.881 Q2033.21 359.834 2031.31 362.056 Q2029.44 364.279 2025.25 364.279 L2023.63 364.279 L2023.63 360.668 L2024.76 360.668 Q2027.19 360.668 2028.07 359.533 Q2028.95 358.422 2028.95 354.881 L2028.95 328.492 M2028.95 318.399 L2033.21 318.399 L2033.21 323.793 L2028.95 323.793 L2028.95 318.399 Z\" fill=\"#000000\" fill-rule=\"evenodd\" fill-opacity=\"1\" /><path clip-path=\"url(#clip360)\" d=\"M 0 0 M2049.46 341.385 Q2044.3 341.385 2042.31 342.566 Q2040.32 343.746 2040.32 346.594 Q2040.32 348.862 2041.8 350.205 Q2043.3 351.524 2045.87 351.524 Q2049.41 351.524 2051.54 349.024 Q2053.7 346.501 2053.7 342.334 L2053.7 341.385 L2049.46 341.385 M2057.96 339.626 L2057.96 354.418 L2053.7 354.418 L2053.7 350.482 Q2052.24 352.843 2050.06 353.978 Q2047.89 355.089 2044.74 355.089 Q2040.76 355.089 2038.4 352.867 Q2036.06 350.621 2036.06 346.871 Q2036.06 342.496 2038.97 340.274 Q2041.91 338.052 2047.72 338.052 L2053.7 338.052 L2053.7 337.635 Q2053.7 334.695 2051.75 333.098 Q2049.83 331.478 2046.34 331.478 Q2044.11 331.478 2042.01 332.01 Q2039.9 332.543 2037.96 333.607 L2037.96 329.672 Q2040.29 328.77 2042.49 328.33 Q2044.69 327.867 2046.78 327.867 Q2052.4 327.867 2055.18 330.783 Q2057.96 333.7 2057.96 339.626 Z\" fill=\"#000000\" fill-rule=\"evenodd\" fill-opacity=\"1\" /><path clip-path=\"url(#clip360)\" d=\"M 0 0 M2078.95 329.256 L2078.95 333.283 Q2077.15 332.357 2075.2 331.895 Q2073.26 331.432 2071.17 331.432 Q2068 331.432 2066.41 332.404 Q2064.83 333.376 2064.83 335.32 Q2064.83 336.802 2065.97 337.658 Q2067.1 338.492 2070.53 339.256 L2071.98 339.58 Q2076.52 340.552 2078.42 342.334 Q2080.34 344.094 2080.34 347.265 Q2080.34 350.876 2077.47 352.982 Q2074.62 355.089 2069.62 355.089 Q2067.54 355.089 2065.27 354.672 Q2063.03 354.279 2060.53 353.468 L2060.53 349.07 Q2062.89 350.297 2065.18 350.922 Q2067.47 351.524 2069.72 351.524 Q2072.72 351.524 2074.34 350.506 Q2075.97 349.464 2075.97 347.589 Q2075.97 345.853 2074.78 344.927 Q2073.63 344.001 2069.67 343.144 L2068.19 342.797 Q2064.23 341.964 2062.47 340.251 Q2060.71 338.515 2060.71 335.506 Q2060.71 331.848 2063.3 329.858 Q2065.9 327.867 2070.66 327.867 Q2073.03 327.867 2075.11 328.214 Q2077.19 328.561 2078.95 329.256 Z\" fill=\"#000000\" fill-rule=\"evenodd\" fill-opacity=\"1\" /><path clip-path=\"url(#clip360)\" d=\"M 0 0 M2089.02 321.131 L2089.02 328.492 L2097.79 328.492 L2097.79 331.802 L2089.02 331.802 L2089.02 345.876 Q2089.02 349.047 2089.88 349.95 Q2090.76 350.853 2093.42 350.853 L2097.79 350.853 L2097.79 354.418 L2093.42 354.418 Q2088.49 354.418 2086.61 352.589 Q2084.74 350.737 2084.74 345.876 L2084.74 331.802 L2081.61 331.802 L2081.61 328.492 L2084.74 328.492 L2084.74 321.131 L2089.02 321.131 Z\" fill=\"#000000\" fill-rule=\"evenodd\" fill-opacity=\"1\" /><path clip-path=\"url(#clip360)\" d=\"M 0 0 M2117.28 332.473 Q2116.57 332.057 2115.71 331.871 Q2114.88 331.663 2113.86 331.663 Q2110.25 331.663 2108.3 334.024 Q2106.38 336.362 2106.38 340.76 L2106.38 354.418 L2102.1 354.418 L2102.1 328.492 L2106.38 328.492 L2106.38 332.52 Q2107.72 330.158 2109.88 329.024 Q2112.03 327.867 2115.11 327.867 Q2115.55 327.867 2116.08 327.936 Q2116.61 327.983 2117.26 328.098 L2117.28 332.473 Z\" fill=\"#000000\" fill-rule=\"evenodd\" fill-opacity=\"1\" /><path clip-path=\"url(#clip360)\" d=\"M 0 0 M2119.9 328.492 L2140.13 328.492 L2140.13 332.381 L2124.11 351.015 L2140.13 351.015 L2140.13 354.418 L2119.32 354.418 L2119.32 350.529 L2135.34 331.895 L2119.9 331.895 L2119.9 328.492 Z\" fill=\"#000000\" fill-rule=\"evenodd\" fill-opacity=\"1\" /><path clip-path=\"url(#clip360)\" d=\"M 0 0 M2166.78 340.39 L2166.78 342.473 L2147.19 342.473 Q2147.47 346.871 2149.83 349.186 Q2152.21 351.478 2156.45 351.478 Q2158.9 351.478 2161.2 350.876 Q2163.51 350.274 2165.78 349.07 L2165.78 353.098 Q2163.49 354.07 2161.08 354.58 Q2158.67 355.089 2156.2 355.089 Q2149.99 355.089 2146.36 351.478 Q2142.75 347.867 2142.75 341.709 Q2142.75 335.344 2146.17 331.617 Q2149.62 327.867 2155.46 327.867 Q2160.69 327.867 2163.72 331.246 Q2166.78 334.603 2166.78 340.39 M2162.52 339.14 Q2162.47 335.645 2160.55 333.561 Q2158.65 331.478 2155.5 331.478 Q2151.94 331.478 2149.78 333.492 Q2147.65 335.506 2147.33 339.163 L2162.52 339.14 M2159.02 354.418 L2161.78 354.418 Q2160.73 355.83 2160.22 356.848 Q2159.74 357.867 2159.74 358.584 Q2159.74 359.649 2160.36 360.181 Q2161.01 360.714 2162.26 360.714 Q2163 360.714 2163.72 360.529 Q2164.44 360.367 2165.15 360.019 L2165.15 363.098 Q2164.28 363.33 2163.49 363.445 Q2162.7 363.561 2162.01 363.561 Q2159.18 363.561 2157.84 362.543 Q2156.52 361.547 2156.52 359.394 Q2156.52 358.283 2157.12 357.056 Q2157.75 355.853 2159.02 354.418 Z\" fill=\"#000000\" fill-rule=\"evenodd\" fill-opacity=\"1\" /><path clip-path=\"url(#clip360)\" d=\"M 0 0 M2189.85 341.478 Q2189.85 336.779 2187.91 334.117 Q2185.99 331.432 2182.61 331.432 Q2179.23 331.432 2177.28 334.117 Q2175.36 336.779 2175.36 341.478 Q2175.36 346.177 2177.28 348.862 Q2179.23 351.524 2182.61 351.524 Q2185.99 351.524 2187.91 348.862 Q2189.85 346.177 2189.85 341.478 M2175.36 332.427 Q2176.71 330.112 2178.74 329.001 Q2180.8 327.867 2183.65 327.867 Q2188.37 327.867 2191.31 331.617 Q2194.27 335.367 2194.27 341.478 Q2194.27 347.589 2191.31 351.339 Q2188.37 355.089 2183.65 355.089 Q2180.8 355.089 2178.74 353.978 Q2176.71 352.843 2175.36 350.529 L2175.36 354.418 L2171.08 354.418 L2171.08 318.399 L2175.36 318.399 L2175.36 332.427 Z\" fill=\"#000000\" fill-rule=\"evenodd\" fill-opacity=\"1\" /><path clip-path=\"url(#clip360)\" d=\"M 0 0 M2198.74 328.492 L2203 328.492 L2203 354.418 L2198.74 354.418 L2198.74 328.492 M2198.74 318.399 L2203 318.399 L2203 323.793 L2198.74 323.793 L2198.74 318.399 Z\" fill=\"#000000\" fill-rule=\"evenodd\" fill-opacity=\"1\" /><path clip-path=\"url(#clip360)\" d=\"M 0 0 M2229.65 340.39 L2229.65 342.473 L2210.06 342.473 Q2210.34 346.871 2212.7 349.186 Q2215.08 351.478 2219.32 351.478 Q2221.77 351.478 2224.07 350.876 Q2226.38 350.274 2228.65 349.07 L2228.65 353.098 Q2226.36 354.07 2223.95 354.58 Q2221.54 355.089 2219.07 355.089 Q2212.86 355.089 2209.23 351.478 Q2205.62 347.867 2205.62 341.709 Q2205.62 335.344 2209.04 331.617 Q2212.49 327.867 2218.33 327.867 Q2223.56 327.867 2226.59 331.246 Q2229.65 334.603 2229.65 340.39 M2225.39 339.14 Q2225.34 335.645 2223.42 333.561 Q2221.52 331.478 2218.37 331.478 Q2214.81 331.478 2212.65 333.492 Q2210.52 335.506 2210.2 339.163 L2225.39 339.14 Z\" fill=\"#000000\" fill-rule=\"evenodd\" fill-opacity=\"1\" /></svg>\n"
      ]
     },
     "execution_count": 303,
     "metadata": {},
     "output_type": "execute_result"
    }
   ],
   "source": [
    "wykresy_all(9,9,10,10,10,10,50)"
   ]
  },
  {
   "cell_type": "code",
   "execution_count": 306,
   "metadata": {},
   "outputs": [
    {
     "name": "stdout",
     "output_type": "stream",
     "text": [
      "they made it\n"
     ]
    },
    {
     "data": {
      "image/svg+xml": [
       "<?xml version=\"1.0\" encoding=\"utf-8\"?>\n",
       "<svg xmlns=\"http://www.w3.org/2000/svg\" xmlns:xlink=\"http://www.w3.org/1999/xlink\" width=\"600\" height=\"400\" viewBox=\"0 0 2400 1600\">\n",
       "<defs>\n",
       "  <clipPath id=\"clip480\">\n",
       "    <rect x=\"0\" y=\"0\" width=\"2400\" height=\"1600\"/>\n",
       "  </clipPath>\n",
       "</defs>\n",
       "<path clip-path=\"url(#clip480)\" d=\"\n",
       "M0 1600 L2400 1600 L2400 0 L0 0  Z\n",
       "  \" fill=\"#ffffff\" fill-rule=\"evenodd\" fill-opacity=\"1\"/>\n",
       "<defs>\n",
       "  <clipPath id=\"clip481\">\n",
       "    <rect x=\"480\" y=\"0\" width=\"1681\" height=\"1600\"/>\n",
       "  </clipPath>\n",
       "</defs>\n",
       "<path clip-path=\"url(#clip480)\" d=\"\n",
       "M139.191 1486.45 L2352.76 1486.45 L2352.76 47.2441 L139.191 47.2441  Z\n",
       "  \" fill=\"#ffffff\" fill-rule=\"evenodd\" fill-opacity=\"1\"/>\n",
       "<defs>\n",
       "  <clipPath id=\"clip482\">\n",
       "    <rect x=\"139\" y=\"47\" width=\"2215\" height=\"1440\"/>\n",
       "  </clipPath>\n",
       "</defs>\n",
       "<polyline clip-path=\"url(#clip482)\" style=\"stroke:#000000; stroke-width:2; stroke-opacity:0.1; fill:none\" points=\"\n",
       "  180.745,1486.45 180.745,47.2441 \n",
       "  \"/>\n",
       "<polyline clip-path=\"url(#clip482)\" style=\"stroke:#000000; stroke-width:2; stroke-opacity:0.1; fill:none\" points=\"\n",
       "  708.086,1486.45 708.086,47.2441 \n",
       "  \"/>\n",
       "<polyline clip-path=\"url(#clip482)\" style=\"stroke:#000000; stroke-width:2; stroke-opacity:0.1; fill:none\" points=\"\n",
       "  1235.43,1486.45 1235.43,47.2441 \n",
       "  \"/>\n",
       "<polyline clip-path=\"url(#clip482)\" style=\"stroke:#000000; stroke-width:2; stroke-opacity:0.1; fill:none\" points=\"\n",
       "  1762.77,1486.45 1762.77,47.2441 \n",
       "  \"/>\n",
       "<polyline clip-path=\"url(#clip482)\" style=\"stroke:#000000; stroke-width:2; stroke-opacity:0.1; fill:none\" points=\"\n",
       "  2290.11,1486.45 2290.11,47.2441 \n",
       "  \"/>\n",
       "<polyline clip-path=\"url(#clip480)\" style=\"stroke:#000000; stroke-width:4; stroke-opacity:1; fill:none\" points=\"\n",
       "  139.191,1486.45 2352.76,1486.45 \n",
       "  \"/>\n",
       "<polyline clip-path=\"url(#clip480)\" style=\"stroke:#000000; stroke-width:4; stroke-opacity:1; fill:none\" points=\"\n",
       "  180.745,1486.45 180.745,1469.18 \n",
       "  \"/>\n",
       "<polyline clip-path=\"url(#clip480)\" style=\"stroke:#000000; stroke-width:4; stroke-opacity:1; fill:none\" points=\"\n",
       "  708.086,1486.45 708.086,1469.18 \n",
       "  \"/>\n",
       "<polyline clip-path=\"url(#clip480)\" style=\"stroke:#000000; stroke-width:4; stroke-opacity:1; fill:none\" points=\"\n",
       "  1235.43,1486.45 1235.43,1469.18 \n",
       "  \"/>\n",
       "<polyline clip-path=\"url(#clip480)\" style=\"stroke:#000000; stroke-width:4; stroke-opacity:1; fill:none\" points=\"\n",
       "  1762.77,1486.45 1762.77,1469.18 \n",
       "  \"/>\n",
       "<polyline clip-path=\"url(#clip480)\" style=\"stroke:#000000; stroke-width:4; stroke-opacity:1; fill:none\" points=\"\n",
       "  2290.11,1486.45 2290.11,1469.18 \n",
       "  \"/>\n",
       "<path clip-path=\"url(#clip480)\" d=\"M 0 0 M180.745 1515.64 Q177.134 1515.64 175.306 1519.2 Q173.5 1522.75 173.5 1529.87 Q173.5 1536.98 175.306 1540.55 Q177.134 1544.09 180.745 1544.09 Q184.38 1544.09 186.185 1540.55 Q188.014 1536.98 188.014 1529.87 Q188.014 1522.75 186.185 1519.2 Q184.38 1515.64 180.745 1515.64 M180.745 1511.93 Q186.556 1511.93 189.611 1516.54 Q192.69 1521.12 192.69 1529.87 Q192.69 1538.6 189.611 1543.21 Q186.556 1547.79 180.745 1547.79 Q174.935 1547.79 171.857 1543.21 Q168.801 1538.6 168.801 1529.87 Q168.801 1521.12 171.857 1516.54 Q174.935 1511.93 180.745 1511.93 Z\" fill=\"#000000\" fill-rule=\"evenodd\" fill-opacity=\"1\" /><path clip-path=\"url(#clip480)\" d=\"M 0 0 M689.73 1543.18 L706.049 1543.18 L706.049 1547.12 L684.105 1547.12 L684.105 1543.18 Q686.767 1540.43 691.35 1535.8 Q695.956 1531.15 697.137 1529.81 Q699.382 1527.28 700.262 1525.55 Q701.165 1523.79 701.165 1522.1 Q701.165 1519.34 699.22 1517.61 Q697.299 1515.87 694.197 1515.87 Q691.998 1515.87 689.544 1516.63 Q687.114 1517.4 684.336 1518.95 L684.336 1514.23 Q687.16 1513.09 689.614 1512.51 Q692.068 1511.93 694.105 1511.93 Q699.475 1511.93 702.669 1514.62 Q705.864 1517.31 705.864 1521.8 Q705.864 1523.93 705.054 1525.85 Q704.267 1527.74 702.16 1530.34 Q701.581 1531.01 698.48 1534.23 Q695.378 1537.42 689.73 1543.18 Z\" fill=\"#000000\" fill-rule=\"evenodd\" fill-opacity=\"1\" /><path clip-path=\"url(#clip480)\" d=\"M 0 0 M711.165 1512.56 L729.521 1512.56 L729.521 1516.5 L715.447 1516.5 L715.447 1524.97 Q716.466 1524.62 717.484 1524.46 Q718.503 1524.27 719.521 1524.27 Q725.308 1524.27 728.688 1527.44 Q732.067 1530.62 732.067 1536.03 Q732.067 1541.61 728.595 1544.71 Q725.123 1547.79 718.804 1547.79 Q716.628 1547.79 714.359 1547.42 Q712.114 1547.05 709.706 1546.31 L709.706 1541.61 Q711.79 1542.74 714.012 1543.3 Q716.234 1543.86 718.711 1543.86 Q722.716 1543.86 725.053 1541.75 Q727.391 1539.64 727.391 1536.03 Q727.391 1532.42 725.053 1530.31 Q722.716 1528.21 718.711 1528.21 Q716.836 1528.21 714.961 1528.62 Q713.109 1529.04 711.165 1529.92 L711.165 1512.56 Z\" fill=\"#000000\" fill-rule=\"evenodd\" fill-opacity=\"1\" /><path clip-path=\"url(#clip480)\" d=\"M 0 0 M1212.2 1512.56 L1230.55 1512.56 L1230.55 1516.5 L1216.48 1516.5 L1216.48 1524.97 Q1217.5 1524.62 1218.52 1524.46 Q1219.54 1524.27 1220.55 1524.27 Q1226.34 1524.27 1229.72 1527.44 Q1233.1 1530.62 1233.1 1536.03 Q1233.1 1541.61 1229.63 1544.71 Q1226.16 1547.79 1219.84 1547.79 Q1217.66 1547.79 1215.39 1547.42 Q1213.15 1547.05 1210.74 1546.31 L1210.74 1541.61 Q1212.82 1542.74 1215.04 1543.3 Q1217.27 1543.86 1219.74 1543.86 Q1223.75 1543.86 1226.09 1541.75 Q1228.42 1539.64 1228.42 1536.03 Q1228.42 1532.42 1226.09 1530.31 Q1223.75 1528.21 1219.74 1528.21 Q1217.87 1528.21 1215.99 1528.62 Q1214.14 1529.04 1212.2 1529.92 L1212.2 1512.56 Z\" fill=\"#000000\" fill-rule=\"evenodd\" fill-opacity=\"1\" /><path clip-path=\"url(#clip480)\" d=\"M 0 0 M1248.17 1515.64 Q1244.56 1515.64 1242.73 1519.2 Q1240.92 1522.75 1240.92 1529.87 Q1240.92 1536.98 1242.73 1540.55 Q1244.56 1544.09 1248.17 1544.09 Q1251.8 1544.09 1253.61 1540.55 Q1255.44 1536.98 1255.44 1529.87 Q1255.44 1522.75 1253.61 1519.2 Q1251.8 1515.64 1248.17 1515.64 M1248.17 1511.93 Q1253.98 1511.93 1257.04 1516.54 Q1260.11 1521.12 1260.11 1529.87 Q1260.11 1538.6 1257.04 1543.21 Q1253.98 1547.79 1248.17 1547.79 Q1242.36 1547.79 1239.28 1543.21 Q1236.23 1538.6 1236.23 1529.87 Q1236.23 1521.12 1239.28 1516.54 Q1242.36 1511.93 1248.17 1511.93 Z\" fill=\"#000000\" fill-rule=\"evenodd\" fill-opacity=\"1\" /><path clip-path=\"url(#clip480)\" d=\"M 0 0 M1738.65 1512.56 L1760.87 1512.56 L1760.87 1514.55 L1748.32 1547.12 L1743.44 1547.12 L1755.24 1516.5 L1738.65 1516.5 L1738.65 1512.56 Z\" fill=\"#000000\" fill-rule=\"evenodd\" fill-opacity=\"1\" /><path clip-path=\"url(#clip480)\" d=\"M 0 0 M1765.98 1512.56 L1784.34 1512.56 L1784.34 1516.5 L1770.27 1516.5 L1770.27 1524.97 Q1771.29 1524.62 1772.3 1524.46 Q1773.32 1524.27 1774.34 1524.27 Q1780.13 1524.27 1783.51 1527.44 Q1786.89 1530.62 1786.89 1536.03 Q1786.89 1541.61 1783.42 1544.71 Q1779.94 1547.79 1773.62 1547.79 Q1771.45 1547.79 1769.18 1547.42 Q1766.93 1547.05 1764.53 1546.31 L1764.53 1541.61 Q1766.61 1542.74 1768.83 1543.3 Q1771.05 1543.86 1773.53 1543.86 Q1777.54 1543.86 1779.87 1541.75 Q1782.21 1539.64 1782.21 1536.03 Q1782.21 1532.42 1779.87 1530.31 Q1777.54 1528.21 1773.53 1528.21 Q1771.66 1528.21 1769.78 1528.62 Q1767.93 1529.04 1765.98 1529.92 L1765.98 1512.56 Z\" fill=\"#000000\" fill-rule=\"evenodd\" fill-opacity=\"1\" /><path clip-path=\"url(#clip480)\" d=\"M 0 0 M2253.48 1543.18 L2261.11 1543.18 L2261.11 1516.82 L2252.8 1518.49 L2252.8 1514.23 L2261.07 1512.56 L2265.74 1512.56 L2265.74 1543.18 L2273.38 1543.18 L2273.38 1547.12 L2253.48 1547.12 L2253.48 1543.18 Z\" fill=\"#000000\" fill-rule=\"evenodd\" fill-opacity=\"1\" /><path clip-path=\"url(#clip480)\" d=\"M 0 0 M2288.45 1515.64 Q2284.84 1515.64 2283.01 1519.2 Q2281.21 1522.75 2281.21 1529.87 Q2281.21 1536.98 2283.01 1540.55 Q2284.84 1544.09 2288.45 1544.09 Q2292.09 1544.09 2293.89 1540.55 Q2295.72 1536.98 2295.72 1529.87 Q2295.72 1522.75 2293.89 1519.2 Q2292.09 1515.64 2288.45 1515.64 M2288.45 1511.93 Q2294.26 1511.93 2297.32 1516.54 Q2300.4 1521.12 2300.4 1529.87 Q2300.4 1538.6 2297.32 1543.21 Q2294.26 1547.79 2288.45 1547.79 Q2282.64 1547.79 2279.56 1543.21 Q2276.51 1538.6 2276.51 1529.87 Q2276.51 1521.12 2279.56 1516.54 Q2282.64 1511.93 2288.45 1511.93 Z\" fill=\"#000000\" fill-rule=\"evenodd\" fill-opacity=\"1\" /><path clip-path=\"url(#clip480)\" d=\"M 0 0 M2315.47 1515.64 Q2311.86 1515.64 2310.03 1519.2 Q2308.22 1522.75 2308.22 1529.87 Q2308.22 1536.98 2310.03 1540.55 Q2311.86 1544.09 2315.47 1544.09 Q2319.1 1544.09 2320.91 1540.55 Q2322.73 1536.98 2322.73 1529.87 Q2322.73 1522.75 2320.91 1519.2 Q2319.1 1515.64 2315.47 1515.64 M2315.47 1511.93 Q2321.28 1511.93 2324.33 1516.54 Q2327.41 1521.12 2327.41 1529.87 Q2327.41 1538.6 2324.33 1543.21 Q2321.28 1547.79 2315.47 1547.79 Q2309.66 1547.79 2306.58 1543.21 Q2303.52 1538.6 2303.52 1529.87 Q2303.52 1521.12 2306.58 1516.54 Q2309.66 1511.93 2315.47 1511.93 Z\" fill=\"#000000\" fill-rule=\"evenodd\" fill-opacity=\"1\" /><polyline clip-path=\"url(#clip482)\" style=\"stroke:#000000; stroke-width:2; stroke-opacity:0.1; fill:none\" points=\"\n",
       "  139.191,1445.72 2352.76,1445.72 \n",
       "  \"/>\n",
       "<polyline clip-path=\"url(#clip482)\" style=\"stroke:#000000; stroke-width:2; stroke-opacity:0.1; fill:none\" points=\"\n",
       "  139.191,1106.28 2352.76,1106.28 \n",
       "  \"/>\n",
       "<polyline clip-path=\"url(#clip482)\" style=\"stroke:#000000; stroke-width:2; stroke-opacity:0.1; fill:none\" points=\"\n",
       "  139.191,766.846 2352.76,766.846 \n",
       "  \"/>\n",
       "<polyline clip-path=\"url(#clip482)\" style=\"stroke:#000000; stroke-width:2; stroke-opacity:0.1; fill:none\" points=\"\n",
       "  139.191,427.411 2352.76,427.411 \n",
       "  \"/>\n",
       "<polyline clip-path=\"url(#clip482)\" style=\"stroke:#000000; stroke-width:2; stroke-opacity:0.1; fill:none\" points=\"\n",
       "  139.191,87.9763 2352.76,87.9763 \n",
       "  \"/>\n",
       "<polyline clip-path=\"url(#clip480)\" style=\"stroke:#000000; stroke-width:4; stroke-opacity:1; fill:none\" points=\"\n",
       "  139.191,1486.45 139.191,47.2441 \n",
       "  \"/>\n",
       "<polyline clip-path=\"url(#clip480)\" style=\"stroke:#000000; stroke-width:4; stroke-opacity:1; fill:none\" points=\"\n",
       "  139.191,1445.72 165.754,1445.72 \n",
       "  \"/>\n",
       "<polyline clip-path=\"url(#clip480)\" style=\"stroke:#000000; stroke-width:4; stroke-opacity:1; fill:none\" points=\"\n",
       "  139.191,1106.28 165.754,1106.28 \n",
       "  \"/>\n",
       "<polyline clip-path=\"url(#clip480)\" style=\"stroke:#000000; stroke-width:4; stroke-opacity:1; fill:none\" points=\"\n",
       "  139.191,766.846 165.754,766.846 \n",
       "  \"/>\n",
       "<polyline clip-path=\"url(#clip480)\" style=\"stroke:#000000; stroke-width:4; stroke-opacity:1; fill:none\" points=\"\n",
       "  139.191,427.411 165.754,427.411 \n",
       "  \"/>\n",
       "<polyline clip-path=\"url(#clip480)\" style=\"stroke:#000000; stroke-width:4; stroke-opacity:1; fill:none\" points=\"\n",
       "  139.191,87.9763 165.754,87.9763 \n",
       "  \"/>\n",
       "<path clip-path=\"url(#clip480)\" d=\"M 0 0 M91.2465 1431.51 Q87.6354 1431.51 85.8068 1435.08 Q84.0012 1438.62 84.0012 1445.75 Q84.0012 1452.86 85.8068 1456.42 Q87.6354 1459.96 91.2465 1459.96 Q94.8808 1459.96 96.6863 1456.42 Q98.515 1452.86 98.515 1445.75 Q98.515 1438.62 96.6863 1435.08 Q94.8808 1431.51 91.2465 1431.51 M91.2465 1427.81 Q97.0567 1427.81 100.112 1432.42 Q103.191 1437 103.191 1445.75 Q103.191 1454.48 100.112 1459.08 Q97.0567 1463.67 91.2465 1463.67 Q85.4364 1463.67 82.3577 1459.08 Q79.3022 1454.48 79.3022 1445.75 Q79.3022 1437 82.3577 1432.42 Q85.4364 1427.81 91.2465 1427.81 Z\" fill=\"#000000\" fill-rule=\"evenodd\" fill-opacity=\"1\" /><path clip-path=\"url(#clip480)\" d=\"M 0 0 M56.2699 1119.63 L63.9087 1119.63 L63.9087 1093.26 L55.5986 1094.93 L55.5986 1090.67 L63.8624 1089 L68.5383 1089 L68.5383 1119.63 L76.1772 1119.63 L76.1772 1123.56 L56.2699 1123.56 L56.2699 1119.63 Z\" fill=\"#000000\" fill-rule=\"evenodd\" fill-opacity=\"1\" /><path clip-path=\"url(#clip480)\" d=\"M 0 0 M91.2465 1092.08 Q87.6354 1092.08 85.8068 1095.64 Q84.0012 1099.19 84.0012 1106.32 Q84.0012 1113.42 85.8068 1116.99 Q87.6354 1120.53 91.2465 1120.53 Q94.8808 1120.53 96.6863 1116.99 Q98.515 1113.42 98.515 1106.32 Q98.515 1099.19 96.6863 1095.64 Q94.8808 1092.08 91.2465 1092.08 M91.2465 1088.38 Q97.0567 1088.38 100.112 1092.98 Q103.191 1097.57 103.191 1106.32 Q103.191 1115.04 100.112 1119.65 Q97.0567 1124.23 91.2465 1124.23 Q85.4364 1124.23 82.3577 1119.65 Q79.3022 1115.04 79.3022 1106.32 Q79.3022 1097.57 82.3577 1092.98 Q85.4364 1088.38 91.2465 1088.38 Z\" fill=\"#000000\" fill-rule=\"evenodd\" fill-opacity=\"1\" /><path clip-path=\"url(#clip480)\" d=\"M 0 0 M59.8578 780.191 L76.1772 780.191 L76.1772 784.126 L54.2328 784.126 L54.2328 780.191 Q56.8949 777.436 61.4782 772.807 Q66.0846 768.154 67.2652 766.811 Q69.5105 764.288 70.3902 762.552 Q71.2929 760.793 71.2929 759.103 Q71.2929 756.348 69.3485 754.612 Q67.4272 752.876 64.3254 752.876 Q62.1263 752.876 59.6726 753.64 Q57.2421 754.404 54.4643 755.955 L54.4643 751.233 Q57.2884 750.098 59.7421 749.52 Q62.1958 748.941 64.2328 748.941 Q69.6031 748.941 72.7976 751.626 Q75.992 754.311 75.992 758.802 Q75.992 760.932 75.1818 762.853 Q74.3948 764.751 72.2883 767.344 Q71.7096 768.015 68.6078 771.233 Q65.5059 774.427 59.8578 780.191 Z\" fill=\"#000000\" fill-rule=\"evenodd\" fill-opacity=\"1\" /><path clip-path=\"url(#clip480)\" d=\"M 0 0 M91.2465 752.645 Q87.6354 752.645 85.8068 756.209 Q84.0012 759.751 84.0012 766.881 Q84.0012 773.987 85.8068 777.552 Q87.6354 781.094 91.2465 781.094 Q94.8808 781.094 96.6863 777.552 Q98.515 773.987 98.515 766.881 Q98.515 759.751 96.6863 756.209 Q94.8808 752.645 91.2465 752.645 M91.2465 748.941 Q97.0567 748.941 100.112 753.547 Q103.191 758.131 103.191 766.881 Q103.191 775.608 100.112 780.214 Q97.0567 784.797 91.2465 784.797 Q85.4364 784.797 82.3577 780.214 Q79.3022 775.608 79.3022 766.881 Q79.3022 758.131 82.3577 753.547 Q85.4364 748.941 91.2465 748.941 Z\" fill=\"#000000\" fill-rule=\"evenodd\" fill-opacity=\"1\" /><path clip-path=\"url(#clip480)\" d=\"M 0 0 M69.0476 426.057 Q72.404 426.775 74.279 429.043 Q76.1772 431.312 76.1772 434.645 Q76.1772 439.761 72.6587 442.562 Q69.1402 445.362 62.6587 445.362 Q60.4828 445.362 58.168 444.923 Q55.8764 444.506 53.4227 443.649 L53.4227 439.136 Q55.3671 440.27 57.6819 440.849 Q59.9967 441.427 62.5198 441.427 Q66.918 441.427 69.2096 439.691 Q71.5244 437.955 71.5244 434.645 Q71.5244 431.589 69.3717 429.876 Q67.242 428.14 63.4226 428.14 L59.3949 428.14 L59.3949 424.298 L63.6078 424.298 Q67.0569 424.298 68.8855 422.932 Q70.7142 421.543 70.7142 418.951 Q70.7142 416.289 68.8161 414.876 Q66.9411 413.441 63.4226 413.441 Q61.5013 413.441 59.3023 413.858 Q57.1032 414.275 54.4643 415.154 L54.4643 410.988 Q57.1264 410.247 59.4412 409.877 Q61.7791 409.506 63.8393 409.506 Q69.1633 409.506 72.2652 411.937 Q75.367 414.344 75.367 418.464 Q75.367 421.335 73.7235 423.326 Q72.08 425.293 69.0476 426.057 Z\" fill=\"#000000\" fill-rule=\"evenodd\" fill-opacity=\"1\" /><path clip-path=\"url(#clip480)\" d=\"M 0 0 M91.2465 413.21 Q87.6354 413.21 85.8068 416.775 Q84.0012 420.316 84.0012 427.446 Q84.0012 434.552 85.8068 438.117 Q87.6354 441.659 91.2465 441.659 Q94.8808 441.659 96.6863 438.117 Q98.515 434.552 98.515 427.446 Q98.515 420.316 96.6863 416.775 Q94.8808 413.21 91.2465 413.21 M91.2465 409.506 Q97.0567 409.506 100.112 414.113 Q103.191 418.696 103.191 427.446 Q103.191 436.173 100.112 440.779 Q97.0567 445.362 91.2465 445.362 Q85.4364 445.362 82.3577 440.779 Q79.3022 436.173 79.3022 427.446 Q79.3022 418.696 82.3577 414.113 Q85.4364 409.506 91.2465 409.506 Z\" fill=\"#000000\" fill-rule=\"evenodd\" fill-opacity=\"1\" /><path clip-path=\"url(#clip480)\" d=\"M 0 0 M66.5939 74.7703 L54.7884 93.2193 L66.5939 93.2193 L66.5939 74.7703 M65.367 70.6963 L71.2466 70.6963 L71.2466 93.2193 L76.1772 93.2193 L76.1772 97.1082 L71.2466 97.1082 L71.2466 105.256 L66.5939 105.256 L66.5939 97.1082 L50.9921 97.1082 L50.9921 92.5943 L65.367 70.6963 Z\" fill=\"#000000\" fill-rule=\"evenodd\" fill-opacity=\"1\" /><path clip-path=\"url(#clip480)\" d=\"M 0 0 M91.2465 73.775 Q87.6354 73.775 85.8068 77.3398 Q84.0012 80.8814 84.0012 88.011 Q84.0012 95.1174 85.8068 98.6822 Q87.6354 102.224 91.2465 102.224 Q94.8808 102.224 96.6863 98.6822 Q98.515 95.1174 98.515 88.011 Q98.515 80.8814 96.6863 77.3398 Q94.8808 73.775 91.2465 73.775 M91.2465 70.0713 Q97.0567 70.0713 100.112 74.6777 Q103.191 79.261 103.191 88.011 Q103.191 96.7378 100.112 101.344 Q97.0567 105.928 91.2465 105.928 Q85.4364 105.928 82.3577 101.344 Q79.3022 96.7378 79.3022 88.011 Q79.3022 79.261 82.3577 74.6777 Q85.4364 70.0713 91.2465 70.0713 Z\" fill=\"#000000\" fill-rule=\"evenodd\" fill-opacity=\"1\" /><polyline clip-path=\"url(#clip482)\" style=\"stroke:#009af9; stroke-width:4; stroke-opacity:1; fill:none\" points=\"\n",
       "  201.839,1140.22 222.933,1276 244.026,1309.94 265.12,1242.05 286.213,1242.05 307.307,1174.17 328.401,1140.22 349.494,1140.22 370.588,1208.11 391.682,1242.05 \n",
       "  412.775,1106.28 433.869,970.507 454.962,970.507 476.056,1038.39 497.15,970.507 518.243,732.902 539.337,698.959 560.431,800.789 581.524,970.507 602.618,936.563 \n",
       "  623.711,1140.22 644.805,1106.28 665.899,1106.28 686.992,1140.22 708.086,1072.34 729.18,1140.22 750.273,1242.05 771.367,1242.05 792.46,1377.83 813.554,1343.89 \n",
       "  834.648,1343.89 855.741,1343.89 876.835,1276 897.929,1343.89 919.022,1309.94 940.116,1343.89 961.209,1309.94 982.303,1309.94 1003.4,1208.11 1024.49,1343.89 \n",
       "  1045.58,1276 1066.68,1174.17 1087.77,1242.05 1108.86,1276 1129.96,1377.83 1151.05,1377.83 1172.15,1411.77 1193.24,1377.83 1214.33,1309.94 1235.43,1242.05 \n",
       "  1256.52,1208.11 1277.61,1242.05 1298.71,1309.94 1319.8,1309.94 1340.89,1242.05 1361.99,1276 1383.08,1242.05 1404.18,1208.11 1425.27,1242.05 1446.36,1208.11 \n",
       "  1467.46,1106.28 1488.55,1004.45 1509.64,1072.34 1530.74,1072.34 1551.83,1106.28 1572.92,1174.17 1594.02,1242.05 1615.11,1140.22 1636.21,1106.28 1657.3,1106.28 \n",
       "  1678.39,1004.45 1699.49,1140.22 1720.58,1208.11 1741.67,1174.17 1762.77,1106.28 1783.86,1038.39 1804.95,970.507 1826.05,970.507 1847.14,1038.39 1868.24,1106.28 \n",
       "  1889.33,1174.17 1910.42,1038.39 1931.52,1072.34 1952.61,1072.34 1973.7,1038.39 1994.8,1038.39 2015.89,1004.45 2036.98,970.507 2058.08,1004.45 2079.17,1072.34 \n",
       "  2100.27,1174.17 2121.36,1174.17 2142.45,1276 2163.55,1343.89 2184.64,1343.89 2205.73,1377.83 2226.83,1343.89 2247.92,1445.72 2269.01,1445.72 2290.11,1445.72 \n",
       "  \n",
       "  \"/>\n",
       "<polyline clip-path=\"url(#clip482)\" style=\"stroke:#e26f46; stroke-width:4; stroke-opacity:1; fill:none\" points=\"\n",
       "  201.839,1106.28 222.933,1140.22 244.026,1004.45 265.12,1072.34 286.213,1140.22 307.307,868.676 328.401,766.846 349.494,800.789 370.588,665.016 391.682,698.959 \n",
       "  412.775,800.789 433.869,868.676 454.962,665.016 476.056,936.563 497.15,1038.39 518.243,1106.28 539.337,902.62 560.431,631.072 581.524,902.62 602.618,665.016 \n",
       "  623.711,732.902 644.805,1208.11 665.899,1140.22 686.992,1106.28 708.086,902.62 729.18,698.959 750.273,936.563 771.367,766.846 792.46,631.072 813.554,1004.45 \n",
       "  834.648,936.563 855.741,800.789 876.835,732.902 897.929,698.959 919.022,800.789 940.116,529.242 961.209,529.242 982.303,597.129 1003.4,495.298 1024.49,563.185 \n",
       "  1045.58,766.846 1066.68,631.072 1087.77,631.072 1108.86,698.959 1129.96,665.016 1151.05,766.846 1172.15,698.959 1193.24,597.129 1214.33,936.563 1235.43,800.789 \n",
       "  1256.52,665.016 1277.61,393.468 1298.71,698.959 1319.8,834.733 1340.89,766.846 1361.99,766.846 1383.08,563.185 1404.18,529.242 1425.27,1038.39 1446.36,834.733 \n",
       "  1467.46,665.016 1488.55,529.242 1509.64,495.298 1530.74,359.524 1551.83,529.242 1572.92,495.298 1594.02,766.846 1615.11,834.733 1636.21,766.846 1657.3,631.072 \n",
       "  1678.39,529.242 1699.49,291.637 1720.58,529.242 1741.67,257.694 1762.77,868.676 1783.86,766.846 1804.95,665.016 1826.05,698.959 1847.14,800.789 1868.24,631.072 \n",
       "  1889.33,732.902 1910.42,902.62 1931.52,970.507 1952.61,936.563 1973.7,1140.22 1994.8,902.62 2015.89,970.507 2036.98,800.789 2058.08,834.733 2079.17,902.62 \n",
       "  2100.27,868.676 2121.36,631.072 2142.45,665.016 2163.55,732.902 2184.64,698.959 2205.73,631.072 2226.83,529.242 2247.92,834.733 2269.01,936.563 2290.11,902.62 \n",
       "  \n",
       "  \"/>\n",
       "<polyline clip-path=\"url(#clip482)\" style=\"stroke:#3da44d; stroke-width:4; stroke-opacity:1; fill:none\" points=\"\n",
       "  201.839,393.468 222.933,800.789 244.026,1242.05 265.12,1174.17 286.213,1140.22 307.307,1208.11 328.401,1276 349.494,1445.72 370.588,1445.72 391.682,1411.77 \n",
       "  412.775,1445.72 433.869,1377.83 454.962,1377.83 476.056,1242.05 497.15,1377.83 518.243,1377.83 539.337,1377.83 560.431,1242.05 581.524,1276 602.618,1242.05 \n",
       "  623.711,1377.83 644.805,1445.72 665.899,1343.89 686.992,1343.89 708.086,1343.89 729.18,1309.94 750.273,1377.83 771.367,1309.94 792.46,1208.11 813.554,1343.89 \n",
       "  834.648,1276 855.741,1377.83 876.835,1377.83 897.929,1343.89 919.022,1445.72 940.116,1445.72 961.209,1445.72 982.303,1445.72 1003.4,1445.72 1024.49,1411.77 \n",
       "  1045.58,1377.83 1066.68,1445.72 1087.77,1411.77 1108.86,1445.72 1129.96,1445.72 1151.05,1411.77 1172.15,1343.89 1193.24,1343.89 1214.33,1377.83 1235.43,1377.83 \n",
       "  1256.52,1445.72 1277.61,1445.72 1298.71,1445.72 1319.8,1445.72 1340.89,1445.72 1361.99,1445.72 1383.08,1445.72 1404.18,1445.72 1425.27,1445.72 1446.36,1445.72 \n",
       "  1467.46,1445.72 1488.55,1445.72 1509.64,1411.77 1530.74,1377.83 1551.83,1445.72 1572.92,1411.77 1594.02,1377.83 1615.11,1411.77 1636.21,1445.72 1657.3,1411.77 \n",
       "  1678.39,1445.72 1699.49,1445.72 1720.58,1445.72 1741.67,1445.72 1762.77,1445.72 1783.86,1411.77 1804.95,1445.72 1826.05,1445.72 1847.14,1377.83 1868.24,1343.89 \n",
       "  1889.33,1377.83 1910.42,1377.83 1931.52,1343.89 1952.61,1276 1973.7,1276 1994.8,1343.89 2015.89,1309.94 2036.98,1276 2058.08,1309.94 2079.17,1242.05 \n",
       "  2100.27,1276 2121.36,1309.94 2142.45,1343.89 2163.55,1343.89 2184.64,1377.83 2205.73,1377.83 2226.83,1445.72 2247.92,1411.77 2269.01,1445.72 2290.11,1445.72 \n",
       "  \n",
       "  \"/>\n",
       "<polyline clip-path=\"url(#clip482)\" style=\"stroke:#c271d2; stroke-width:4; stroke-opacity:1; fill:none\" points=\"\n",
       "  201.839,87.9763 222.933,631.072 244.026,1208.11 265.12,1106.28 286.213,970.507 307.307,1208.11 328.401,1242.05 349.494,1106.28 370.588,970.507 391.682,1140.22 \n",
       "  412.775,1174.17 433.869,1174.17 454.962,1242.05 476.056,1276 497.15,1309.94 518.243,1343.89 539.337,1377.83 560.431,1309.94 581.524,1140.22 602.618,1174.17 \n",
       "  623.711,936.563 644.805,1004.45 665.899,800.789 686.992,1072.34 708.086,1140.22 729.18,1072.34 750.273,1140.22 771.367,1140.22 792.46,1038.39 813.554,1106.28 \n",
       "  834.648,1140.22 855.741,1343.89 876.835,1343.89 897.929,1309.94 919.022,1242.05 940.116,1411.77 961.209,1377.83 982.303,1343.89 1003.4,1377.83 1024.49,1343.89 \n",
       "  1045.58,1343.89 1066.68,1208.11 1087.77,1140.22 1108.86,1140.22 1129.96,1140.22 1151.05,1174.17 1172.15,1140.22 1193.24,1208.11 1214.33,1208.11 1235.43,1309.94 \n",
       "  1256.52,1208.11 1277.61,1343.89 1298.71,1276 1319.8,1140.22 1340.89,1208.11 1361.99,1174.17 1383.08,1242.05 1404.18,1343.89 1425.27,1377.83 1446.36,1377.83 \n",
       "  1467.46,1377.83 1488.55,1343.89 1509.64,1411.77 1530.74,1445.72 1551.83,1411.77 1572.92,1445.72 1594.02,1445.72 1615.11,1411.77 1636.21,1411.77 1657.3,1445.72 \n",
       "  1678.39,1445.72 1699.49,1445.72 1720.58,1411.77 1741.67,1411.77 1762.77,1343.89 1783.86,1309.94 1804.95,1276 1826.05,1242.05 1847.14,1174.17 1868.24,1140.22 \n",
       "  1889.33,1242.05 1910.42,1276 1931.52,1140.22 1952.61,1106.28 1973.7,1174.17 1994.8,1106.28 2015.89,1276 2036.98,1208.11 2058.08,1242.05 2079.17,1106.28 \n",
       "  2100.27,1140.22 2121.36,1276 2142.45,1174.17 2163.55,1309.94 2184.64,1208.11 2205.73,1174.17 2226.83,1276 2247.92,1208.11 2269.01,1208.11 2290.11,1174.17 \n",
       "  \n",
       "  \"/>\n",
       "<path clip-path=\"url(#clip480)\" d=\"\n",
       "M1694.76 397.618 L2278.97 397.618 L2278.97 95.2176 L1694.76 95.2176  Z\n",
       "  \" fill=\"#ffffff\" fill-rule=\"evenodd\" fill-opacity=\"1\"/>\n",
       "<polyline clip-path=\"url(#clip480)\" style=\"stroke:#000000; stroke-width:4; stroke-opacity:1; fill:none\" points=\"\n",
       "  1694.76,397.618 2278.97,397.618 2278.97,95.2176 1694.76,95.2176 1694.76,397.618 \n",
       "  \"/>\n",
       "<polyline clip-path=\"url(#clip480)\" style=\"stroke:#009af9; stroke-width:4; stroke-opacity:1; fill:none\" points=\"\n",
       "  1719.35,155.698 1866.92,155.698 \n",
       "  \"/>\n",
       "<path clip-path=\"url(#clip480)\" d=\"M 0 0 M1910.43 159.714 Q1910.43 155.084 1908.51 152.538 Q1906.61 149.992 1903.16 149.992 Q1899.74 149.992 1897.81 152.538 Q1895.92 155.084 1895.92 159.714 Q1895.92 164.32 1897.81 166.866 Q1899.74 169.413 1903.16 169.413 Q1906.61 169.413 1908.51 166.866 Q1910.43 164.32 1910.43 159.714 M1914.69 169.76 Q1914.69 176.38 1911.75 179.598 Q1908.81 182.839 1902.74 182.839 Q1900.5 182.839 1898.51 182.491 Q1896.52 182.167 1894.64 181.473 L1894.64 177.329 Q1896.52 178.348 1898.35 178.834 Q1900.18 179.32 1902.07 179.32 Q1906.26 179.32 1908.35 177.121 Q1910.43 174.945 1910.43 170.524 L1910.43 168.417 Q1909.11 170.709 1907.05 171.843 Q1904.99 172.978 1902.12 172.978 Q1897.35 172.978 1894.43 169.343 Q1891.52 165.709 1891.52 159.714 Q1891.52 153.695 1894.43 150.061 Q1897.35 146.427 1902.12 146.427 Q1904.99 146.427 1907.05 147.561 Q1909.11 148.695 1910.43 150.987 L1910.43 147.052 L1914.69 147.052 L1914.69 169.76 Z\" fill=\"#000000\" fill-rule=\"evenodd\" fill-opacity=\"1\" /><path clip-path=\"url(#clip480)\" d=\"M 0 0 M1929.2 150.038 Q1925.78 150.038 1923.79 152.723 Q1921.8 155.385 1921.8 160.038 Q1921.8 164.691 1923.76 167.376 Q1925.75 170.038 1929.2 170.038 Q1932.61 170.038 1934.6 167.353 Q1936.59 164.667 1936.59 160.038 Q1936.59 155.431 1934.6 152.746 Q1932.61 150.038 1929.2 150.038 M1929.2 146.427 Q1934.76 146.427 1937.93 150.038 Q1941.1 153.649 1941.1 160.038 Q1941.1 166.404 1937.93 170.038 Q1934.76 173.649 1929.2 173.649 Q1923.62 173.649 1920.45 170.038 Q1917.3 166.404 1917.3 160.038 Q1917.3 153.649 1920.45 150.038 Q1923.62 146.427 1929.2 146.427 Z\" fill=\"#000000\" fill-rule=\"evenodd\" fill-opacity=\"1\" /><path clip-path=\"url(#clip480)\" d=\"M 0 0 M1945.71 136.959 L1949.97 136.959 L1949.97 150.894 L1952.86 148.811 L1954.62 151.265 L1949.97 154.529 L1949.97 172.978 L1945.71 172.978 L1945.71 157.561 L1942.86 159.598 L1941.15 157.144 L1945.71 153.88 L1945.71 136.959 Z\" fill=\"#000000\" fill-rule=\"evenodd\" fill-opacity=\"1\" /><path clip-path=\"url(#clip480)\" d=\"M 0 0 M1981.26 158.95 L1981.26 161.033 L1961.68 161.033 Q1961.96 165.431 1964.32 167.746 Q1966.7 170.038 1970.94 170.038 Q1973.39 170.038 1975.68 169.436 Q1978 168.834 1980.27 167.63 L1980.27 171.658 Q1977.98 172.63 1975.57 173.14 Q1973.16 173.649 1970.68 173.649 Q1964.48 173.649 1960.85 170.038 Q1957.24 166.427 1957.24 160.269 Q1957.24 153.904 1960.66 150.177 Q1964.11 146.427 1969.94 146.427 Q1975.17 146.427 1978.21 149.806 Q1981.26 153.163 1981.26 158.95 M1977 157.7 Q1976.96 154.205 1975.04 152.121 Q1973.14 150.038 1969.99 150.038 Q1966.43 150.038 1964.27 152.052 Q1962.14 154.066 1961.82 157.723 L1977 157.7 M1973.51 172.978 L1976.26 172.978 Q1975.22 174.39 1974.71 175.408 Q1974.23 176.427 1974.23 177.144 Q1974.23 178.209 1974.85 178.741 Q1975.5 179.274 1976.75 179.274 Q1977.49 179.274 1978.21 179.089 Q1978.92 178.927 1979.64 178.579 L1979.64 181.658 Q1978.76 181.89 1977.98 182.005 Q1977.19 182.121 1976.49 182.121 Q1973.67 182.121 1972.33 181.103 Q1971.01 180.107 1971.01 177.954 Q1971.01 176.843 1971.61 175.616 Q1972.24 174.413 1973.51 172.978 Z\" fill=\"#000000\" fill-rule=\"evenodd\" fill-opacity=\"1\" /><path clip-path=\"url(#clip480)\" d=\"M 0 0 M2004.34 160.038 Q2004.34 155.339 2002.4 152.677 Q2000.48 149.992 1997.1 149.992 Q1993.72 149.992 1991.77 152.677 Q1989.85 155.339 1989.85 160.038 Q1989.85 164.737 1991.77 167.422 Q1993.72 170.084 1997.1 170.084 Q2000.48 170.084 2002.4 167.422 Q2004.34 164.737 2004.34 160.038 M1989.85 150.987 Q1991.19 148.672 1993.23 147.561 Q1995.29 146.427 1998.14 146.427 Q2002.86 146.427 2005.8 150.177 Q2008.76 153.927 2008.76 160.038 Q2008.76 166.149 2005.8 169.899 Q2002.86 173.649 1998.14 173.649 Q1995.29 173.649 1993.23 172.538 Q1991.19 171.403 1989.85 169.089 L1989.85 172.978 L1985.57 172.978 L1985.57 136.959 L1989.85 136.959 L1989.85 150.987 Z\" fill=\"#000000\" fill-rule=\"evenodd\" fill-opacity=\"1\" /><path clip-path=\"url(#clip480)\" d=\"M 0 0 M2013.23 147.052 L2017.49 147.052 L2017.49 172.978 L2013.23 172.978 L2013.23 147.052 M2013.23 136.959 L2017.49 136.959 L2017.49 142.353 L2013.23 142.353 L2013.23 136.959 Z\" fill=\"#000000\" fill-rule=\"evenodd\" fill-opacity=\"1\" /><path clip-path=\"url(#clip480)\" d=\"M 0 0 M2044.13 158.95 L2044.13 161.033 L2024.55 161.033 Q2024.83 165.431 2027.19 167.746 Q2029.57 170.038 2033.81 170.038 Q2036.26 170.038 2038.55 169.436 Q2040.87 168.834 2043.14 167.63 L2043.14 171.658 Q2040.85 172.63 2038.44 173.14 Q2036.03 173.649 2033.55 173.649 Q2027.35 173.649 2023.72 170.038 Q2020.11 166.427 2020.11 160.269 Q2020.11 153.904 2023.53 150.177 Q2026.98 146.427 2032.81 146.427 Q2038.04 146.427 2041.08 149.806 Q2044.13 153.163 2044.13 158.95 M2039.87 157.7 Q2039.83 154.205 2037.91 152.121 Q2036.01 150.038 2032.86 150.038 Q2029.3 150.038 2027.14 152.052 Q2025.01 154.066 2024.69 157.723 L2039.87 157.7 Z\" fill=\"#000000\" fill-rule=\"evenodd\" fill-opacity=\"1\" /><polyline clip-path=\"url(#clip480)\" style=\"stroke:#e26f46; stroke-width:4; stroke-opacity:1; fill:none\" points=\"\n",
       "  1719.35,216.178 1866.92,216.178 \n",
       "  \"/>\n",
       "<path clip-path=\"url(#clip480)\" d=\"M 0 0 M1896.84 207.532 L1901.1 207.532 L1901.1 233.921 Q1901.1 238.874 1899.2 241.096 Q1897.33 243.319 1893.14 243.319 L1891.52 243.319 L1891.52 239.708 L1892.65 239.708 Q1895.08 239.708 1895.96 238.573 Q1896.84 237.462 1896.84 233.921 L1896.84 207.532 M1896.84 197.439 L1901.1 197.439 L1901.1 202.833 L1896.84 202.833 L1896.84 197.439 Z\" fill=\"#000000\" fill-rule=\"evenodd\" fill-opacity=\"1\" /><path clip-path=\"url(#clip480)\" d=\"M 0 0 M1917.35 220.425 Q1912.19 220.425 1910.2 221.606 Q1908.21 222.786 1908.21 225.634 Q1908.21 227.902 1909.69 229.245 Q1911.19 230.564 1913.76 230.564 Q1917.3 230.564 1919.43 228.064 Q1921.59 225.541 1921.59 221.374 L1921.59 220.425 L1917.35 220.425 M1925.85 218.666 L1925.85 233.458 L1921.59 233.458 L1921.59 229.522 Q1920.13 231.883 1917.95 233.018 Q1915.78 234.129 1912.63 234.129 Q1908.65 234.129 1906.29 231.907 Q1903.95 229.661 1903.95 225.911 Q1903.95 221.536 1906.87 219.314 Q1909.8 217.092 1915.62 217.092 L1921.59 217.092 L1921.59 216.675 Q1921.59 213.735 1919.64 212.138 Q1917.72 210.518 1914.23 210.518 Q1912 210.518 1909.9 211.05 Q1907.79 211.583 1905.85 212.647 L1905.85 208.712 Q1908.18 207.81 1910.38 207.37 Q1912.58 206.907 1914.67 206.907 Q1920.29 206.907 1923.07 209.823 Q1925.85 212.74 1925.85 218.666 Z\" fill=\"#000000\" fill-rule=\"evenodd\" fill-opacity=\"1\" /><path clip-path=\"url(#clip480)\" d=\"M 0 0 M1946.84 208.296 L1946.84 212.323 Q1945.04 211.397 1943.09 210.935 Q1941.15 210.472 1939.06 210.472 Q1935.89 210.472 1934.3 211.444 Q1932.72 212.416 1932.72 214.36 Q1932.72 215.842 1933.86 216.698 Q1934.99 217.532 1938.42 218.296 L1939.87 218.62 Q1944.41 219.592 1946.31 221.374 Q1948.23 223.134 1948.23 226.305 Q1948.23 229.916 1945.36 232.022 Q1942.51 234.129 1937.51 234.129 Q1935.43 234.129 1933.16 233.712 Q1930.92 233.319 1928.42 232.508 L1928.42 228.11 Q1930.78 229.337 1933.07 229.962 Q1935.36 230.564 1937.61 230.564 Q1940.61 230.564 1942.24 229.546 Q1943.86 228.504 1943.86 226.629 Q1943.86 224.893 1942.68 223.967 Q1941.52 223.041 1937.56 222.184 L1936.08 221.837 Q1932.12 221.004 1930.36 219.291 Q1928.6 217.555 1928.6 214.546 Q1928.6 210.888 1931.19 208.898 Q1933.79 206.907 1938.55 206.907 Q1940.92 206.907 1943 207.254 Q1945.08 207.601 1946.84 208.296 Z\" fill=\"#000000\" fill-rule=\"evenodd\" fill-opacity=\"1\" /><path clip-path=\"url(#clip480)\" d=\"M 0 0 M1956.91 200.171 L1956.91 207.532 L1965.68 207.532 L1965.68 210.842 L1956.91 210.842 L1956.91 224.916 Q1956.91 228.087 1957.77 228.99 Q1958.65 229.893 1961.31 229.893 L1965.68 229.893 L1965.68 233.458 L1961.31 233.458 Q1956.38 233.458 1954.5 231.629 Q1952.63 229.777 1952.63 224.916 L1952.63 210.842 L1949.5 210.842 L1949.5 207.532 L1952.63 207.532 L1952.63 200.171 L1956.91 200.171 Z\" fill=\"#000000\" fill-rule=\"evenodd\" fill-opacity=\"1\" /><path clip-path=\"url(#clip480)\" d=\"M 0 0 M1985.17 211.513 Q1984.46 211.097 1983.6 210.911 Q1982.77 210.703 1981.75 210.703 Q1978.14 210.703 1976.19 213.064 Q1974.27 215.402 1974.27 219.8 L1974.27 233.458 L1969.99 233.458 L1969.99 207.532 L1974.27 207.532 L1974.27 211.56 Q1975.61 209.198 1977.77 208.064 Q1979.92 206.907 1983 206.907 Q1983.44 206.907 1983.97 206.976 Q1984.5 207.023 1985.15 207.138 L1985.17 211.513 Z\" fill=\"#000000\" fill-rule=\"evenodd\" fill-opacity=\"1\" /><path clip-path=\"url(#clip480)\" d=\"M 0 0 M1987.79 207.532 L2008.02 207.532 L2008.02 211.421 L1992 230.055 L2008.02 230.055 L2008.02 233.458 L1987.21 233.458 L1987.21 229.569 L2003.23 210.935 L1987.79 210.935 L1987.79 207.532 Z\" fill=\"#000000\" fill-rule=\"evenodd\" fill-opacity=\"1\" /><path clip-path=\"url(#clip480)\" d=\"M 0 0 M2034.67 219.43 L2034.67 221.513 L2015.08 221.513 Q2015.36 225.911 2017.72 228.226 Q2020.11 230.518 2024.34 230.518 Q2026.8 230.518 2029.09 229.916 Q2031.4 229.314 2033.67 228.11 L2033.67 232.138 Q2031.38 233.11 2028.97 233.62 Q2026.56 234.129 2024.09 234.129 Q2017.88 234.129 2014.25 230.518 Q2010.64 226.907 2010.64 220.749 Q2010.64 214.384 2014.06 210.657 Q2017.51 206.907 2023.35 206.907 Q2028.58 206.907 2031.61 210.286 Q2034.67 213.643 2034.67 219.43 M2030.41 218.18 Q2030.36 214.685 2028.44 212.601 Q2026.54 210.518 2023.39 210.518 Q2019.83 210.518 2017.67 212.532 Q2015.55 214.546 2015.22 218.203 L2030.41 218.18 M2026.91 233.458 L2029.67 233.458 Q2028.62 234.87 2028.11 235.888 Q2027.63 236.907 2027.63 237.624 Q2027.63 238.689 2028.25 239.221 Q2028.9 239.754 2030.15 239.754 Q2030.89 239.754 2031.61 239.569 Q2032.33 239.407 2033.05 239.059 L2033.05 242.138 Q2032.17 242.37 2031.38 242.485 Q2030.59 242.601 2029.9 242.601 Q2027.07 242.601 2025.73 241.583 Q2024.41 240.587 2024.41 238.434 Q2024.41 237.323 2025.01 236.096 Q2025.64 234.893 2026.91 233.458 Z\" fill=\"#000000\" fill-rule=\"evenodd\" fill-opacity=\"1\" /><path clip-path=\"url(#clip480)\" d=\"M 0 0 M2057.74 220.518 Q2057.74 215.819 2055.8 213.157 Q2053.88 210.472 2050.5 210.472 Q2047.12 210.472 2045.17 213.157 Q2043.25 215.819 2043.25 220.518 Q2043.25 225.217 2045.17 227.902 Q2047.12 230.564 2050.5 230.564 Q2053.88 230.564 2055.8 227.902 Q2057.74 225.217 2057.74 220.518 M2043.25 211.467 Q2044.6 209.152 2046.63 208.041 Q2048.69 206.907 2051.54 206.907 Q2056.26 206.907 2059.2 210.657 Q2062.17 214.407 2062.17 220.518 Q2062.17 226.629 2059.2 230.379 Q2056.26 234.129 2051.54 234.129 Q2048.69 234.129 2046.63 233.018 Q2044.6 231.883 2043.25 229.569 L2043.25 233.458 L2038.97 233.458 L2038.97 197.439 L2043.25 197.439 L2043.25 211.467 Z\" fill=\"#000000\" fill-rule=\"evenodd\" fill-opacity=\"1\" /><path clip-path=\"url(#clip480)\" d=\"M 0 0 M2066.63 207.532 L2070.89 207.532 L2070.89 233.458 L2066.63 233.458 L2066.63 207.532 M2066.63 197.439 L2070.89 197.439 L2070.89 202.833 L2066.63 202.833 L2066.63 197.439 Z\" fill=\"#000000\" fill-rule=\"evenodd\" fill-opacity=\"1\" /><path clip-path=\"url(#clip480)\" d=\"M 0 0 M2097.54 219.43 L2097.54 221.513 L2077.95 221.513 Q2078.23 225.911 2080.59 228.226 Q2082.98 230.518 2087.21 230.518 Q2089.67 230.518 2091.96 229.916 Q2094.27 229.314 2096.54 228.11 L2096.54 232.138 Q2094.25 233.11 2091.84 233.62 Q2089.43 234.129 2086.96 234.129 Q2080.75 234.129 2077.12 230.518 Q2073.51 226.907 2073.51 220.749 Q2073.51 214.384 2076.93 210.657 Q2080.38 206.907 2086.22 206.907 Q2091.45 206.907 2094.48 210.286 Q2097.54 213.643 2097.54 219.43 M2093.28 218.18 Q2093.23 214.685 2091.31 212.601 Q2089.41 210.518 2086.26 210.518 Q2082.7 210.518 2080.54 212.532 Q2078.42 214.546 2078.09 218.203 L2093.28 218.18 Z\" fill=\"#000000\" fill-rule=\"evenodd\" fill-opacity=\"1\" /><polyline clip-path=\"url(#clip480)\" style=\"stroke:#3da44d; stroke-width:4; stroke-opacity:1; fill:none\" points=\"\n",
       "  1719.35,276.658 1866.92,276.658 \n",
       "  \"/>\n",
       "<path clip-path=\"url(#clip480)\" d=\"M 0 0 M1912.03 269.007 L1912.03 272.989 Q1910.22 271.993 1908.39 271.507 Q1906.59 270.998 1904.74 270.998 Q1900.59 270.998 1898.3 273.637 Q1896.01 276.252 1896.01 280.998 Q1896.01 285.743 1898.3 288.382 Q1900.59 290.998 1904.74 290.998 Q1906.59 290.998 1908.39 290.512 Q1910.22 290.002 1912.03 289.007 L1912.03 292.942 Q1910.24 293.776 1908.32 294.192 Q1906.43 294.609 1904.27 294.609 Q1898.42 294.609 1894.97 290.928 Q1891.52 287.248 1891.52 280.998 Q1891.52 274.655 1894.99 271.021 Q1898.49 267.387 1904.55 267.387 Q1906.52 267.387 1908.39 267.803 Q1910.27 268.197 1912.03 269.007 Z\" fill=\"#000000\" fill-rule=\"evenodd\" fill-opacity=\"1\" /><path clip-path=\"url(#clip480)\" d=\"M 0 0 M1938.05 278.289 L1938.05 293.938 L1933.79 293.938 L1933.79 278.428 Q1933.79 274.748 1932.35 272.919 Q1930.92 271.09 1928.05 271.09 Q1924.6 271.09 1922.61 273.29 Q1920.62 275.489 1920.62 279.285 L1920.62 293.938 L1916.33 293.938 L1916.33 257.919 L1920.62 257.919 L1920.62 272.04 Q1922.14 269.702 1924.2 268.544 Q1926.29 267.387 1928.99 267.387 Q1933.46 267.387 1935.75 270.165 Q1938.05 272.919 1938.05 278.289 Z\" fill=\"#000000\" fill-rule=\"evenodd\" fill-opacity=\"1\" /><path clip-path=\"url(#clip480)\" d=\"M 0 0 M1952.56 270.998 Q1949.13 270.998 1947.14 273.683 Q1945.15 276.345 1945.15 280.998 Q1945.15 285.651 1947.12 288.336 Q1949.11 290.998 1952.56 290.998 Q1955.96 290.998 1957.95 288.313 Q1959.94 285.627 1959.94 280.998 Q1959.94 276.391 1957.95 273.706 Q1955.96 270.998 1952.56 270.998 M1952.56 267.387 Q1958.11 267.387 1961.29 270.998 Q1964.46 274.609 1964.46 280.998 Q1964.46 287.364 1961.29 290.998 Q1958.11 294.609 1952.56 294.609 Q1946.98 294.609 1943.81 290.998 Q1940.66 287.364 1940.66 280.998 Q1940.66 274.609 1943.81 270.998 Q1946.98 267.387 1952.56 267.387 Z\" fill=\"#000000\" fill-rule=\"evenodd\" fill-opacity=\"1\" /><path clip-path=\"url(#clip480)\" d=\"M 0 0 M1983.95 271.993 Q1983.23 271.577 1982.37 271.391 Q1981.54 271.183 1980.52 271.183 Q1976.91 271.183 1974.97 273.544 Q1973.05 275.882 1973.05 280.28 L1973.05 293.938 L1968.76 293.938 L1968.76 268.012 L1973.05 268.012 L1973.05 272.04 Q1974.39 269.678 1976.54 268.544 Q1978.69 267.387 1981.77 267.387 Q1982.21 267.387 1982.74 267.456 Q1983.28 267.503 1983.92 267.618 L1983.95 271.993 Z\" fill=\"#000000\" fill-rule=\"evenodd\" fill-opacity=\"1\" /><path clip-path=\"url(#clip480)\" d=\"M 0 0 M2009.55 279.91 L2009.55 281.993 L1989.97 281.993 Q1990.24 286.391 1992.61 288.706 Q1994.99 290.998 1999.23 290.998 Q2001.68 290.998 2003.97 290.396 Q2006.29 289.794 2008.55 288.59 L2008.55 292.618 Q2006.26 293.59 2003.86 294.1 Q2001.45 294.609 1998.97 294.609 Q1992.77 294.609 1989.13 290.998 Q1985.52 287.387 1985.52 281.229 Q1985.52 274.864 1988.95 271.137 Q1992.4 267.387 1998.23 267.387 Q2003.46 267.387 2006.49 270.766 Q2009.55 274.123 2009.55 279.91 M2005.29 278.66 Q2005.24 275.165 2003.32 273.081 Q2001.42 270.998 1998.28 270.998 Q1994.71 270.998 1992.56 273.012 Q1990.43 275.026 1990.11 278.683 L2005.29 278.66 Z\" fill=\"#000000\" fill-rule=\"evenodd\" fill-opacity=\"1\" /><path clip-path=\"url(#clip480)\" d=\"M 0 0 M2046.15 280.674 Q2046.15 276.044 2044.23 273.498 Q2042.33 270.952 2038.88 270.952 Q2035.45 270.952 2033.53 273.498 Q2031.63 276.044 2031.63 280.674 Q2031.63 285.28 2033.53 287.826 Q2035.45 290.373 2038.88 290.373 Q2042.33 290.373 2044.23 287.826 Q2046.15 285.28 2046.15 280.674 M2050.41 290.72 Q2050.41 297.34 2047.47 300.558 Q2044.53 303.799 2038.46 303.799 Q2036.22 303.799 2034.23 303.451 Q2032.23 303.127 2030.36 302.433 L2030.36 298.289 Q2032.23 299.308 2034.06 299.794 Q2035.89 300.28 2037.79 300.28 Q2041.98 300.28 2044.06 298.081 Q2046.15 295.905 2046.15 291.484 L2046.15 289.377 Q2044.83 291.669 2042.77 292.803 Q2040.71 293.938 2037.84 293.938 Q2033.07 293.938 2030.15 290.303 Q2027.23 286.669 2027.23 280.674 Q2027.23 274.655 2030.15 271.021 Q2033.07 267.387 2037.84 267.387 Q2040.71 267.387 2042.77 268.521 Q2044.83 269.655 2046.15 271.947 L2046.15 268.012 L2050.41 268.012 L2050.41 290.72 Z\" fill=\"#000000\" fill-rule=\"evenodd\" fill-opacity=\"1\" /><path clip-path=\"url(#clip480)\" d=\"M 0 0 M2064.92 270.998 Q2061.49 270.998 2059.5 273.683 Q2057.51 276.345 2057.51 280.998 Q2057.51 285.651 2059.48 288.336 Q2061.47 290.998 2064.92 290.998 Q2068.32 290.998 2070.31 288.313 Q2072.3 285.627 2072.3 280.998 Q2072.3 276.391 2070.31 273.706 Q2068.32 270.998 2064.92 270.998 M2064.92 267.387 Q2070.48 267.387 2073.65 270.998 Q2076.82 274.609 2076.82 280.998 Q2076.82 287.364 2073.65 290.998 Q2070.48 294.609 2064.92 294.609 Q2059.34 294.609 2056.17 290.998 Q2053.02 287.364 2053.02 280.998 Q2053.02 274.609 2056.17 270.998 Q2059.34 267.387 2064.92 267.387 Z\" fill=\"#000000\" fill-rule=\"evenodd\" fill-opacity=\"1\" /><path clip-path=\"url(#clip480)\" d=\"M 0 0 M2081.42 257.919 L2085.68 257.919 L2085.68 271.854 L2088.58 269.771 L2090.34 272.225 L2085.68 275.489 L2085.68 293.938 L2081.42 293.938 L2081.42 278.521 L2078.58 280.558 L2076.86 278.104 L2081.42 274.84 L2081.42 257.919 Z\" fill=\"#000000\" fill-rule=\"evenodd\" fill-opacity=\"1\" /><path clip-path=\"url(#clip480)\" d=\"M 0 0 M2116.98 279.91 L2116.98 281.993 L2097.4 281.993 Q2097.67 286.391 2100.04 288.706 Q2102.42 290.998 2106.66 290.998 Q2109.11 290.998 2111.4 290.396 Q2113.72 289.794 2115.98 288.59 L2115.98 292.618 Q2113.69 293.59 2111.29 294.1 Q2108.88 294.609 2106.4 294.609 Q2100.2 294.609 2096.56 290.998 Q2092.95 287.387 2092.95 281.229 Q2092.95 274.864 2096.38 271.137 Q2099.83 267.387 2105.66 267.387 Q2110.89 267.387 2113.92 270.766 Q2116.98 274.123 2116.98 279.91 M2112.72 278.66 Q2112.67 275.165 2110.75 273.081 Q2108.85 270.998 2105.71 270.998 Q2102.14 270.998 2099.99 273.012 Q2097.86 275.026 2097.54 278.683 L2112.72 278.66 M2109.23 293.938 L2111.98 293.938 Q2110.94 295.35 2110.43 296.368 Q2109.94 297.387 2109.94 298.104 Q2109.94 299.169 2110.57 299.701 Q2111.22 300.234 2112.47 300.234 Q2113.21 300.234 2113.92 300.049 Q2114.64 299.887 2115.36 299.539 L2115.36 302.618 Q2114.48 302.85 2113.69 302.965 Q2112.91 303.081 2112.21 303.081 Q2109.39 303.081 2108.04 302.063 Q2106.73 301.067 2106.73 298.914 Q2106.73 297.803 2107.33 296.576 Q2107.95 295.373 2109.23 293.938 Z\" fill=\"#000000\" fill-rule=\"evenodd\" fill-opacity=\"1\" /><path clip-path=\"url(#clip480)\" d=\"M 0 0 M2140.06 280.998 Q2140.06 276.299 2138.11 273.637 Q2136.19 270.952 2132.81 270.952 Q2129.43 270.952 2127.49 273.637 Q2125.57 276.299 2125.57 280.998 Q2125.57 285.697 2127.49 288.382 Q2129.43 291.044 2132.81 291.044 Q2136.19 291.044 2138.11 288.382 Q2140.06 285.697 2140.06 280.998 M2125.57 271.947 Q2126.91 269.632 2128.95 268.521 Q2131.01 267.387 2133.85 267.387 Q2138.58 267.387 2141.52 271.137 Q2144.48 274.887 2144.48 280.998 Q2144.48 287.109 2141.52 290.859 Q2138.58 294.609 2133.85 294.609 Q2131.01 294.609 2128.95 293.498 Q2126.91 292.363 2125.57 290.049 L2125.57 293.938 L2121.29 293.938 L2121.29 257.919 L2125.57 257.919 L2125.57 271.947 Z\" fill=\"#000000\" fill-rule=\"evenodd\" fill-opacity=\"1\" /><path clip-path=\"url(#clip480)\" d=\"M 0 0 M2148.95 268.012 L2153.21 268.012 L2153.21 293.938 L2148.95 293.938 L2148.95 268.012 M2148.95 257.919 L2153.21 257.919 L2153.21 263.313 L2148.95 263.313 L2148.95 257.919 Z\" fill=\"#000000\" fill-rule=\"evenodd\" fill-opacity=\"1\" /><path clip-path=\"url(#clip480)\" d=\"M 0 0 M2179.85 279.91 L2179.85 281.993 L2160.27 281.993 Q2160.54 286.391 2162.91 288.706 Q2165.29 290.998 2169.53 290.998 Q2171.98 290.998 2174.27 290.396 Q2176.59 289.794 2178.85 288.59 L2178.85 292.618 Q2176.56 293.59 2174.16 294.1 Q2171.75 294.609 2169.27 294.609 Q2163.07 294.609 2159.43 290.998 Q2155.82 287.387 2155.82 281.229 Q2155.82 274.864 2159.25 271.137 Q2162.7 267.387 2168.53 267.387 Q2173.76 267.387 2176.79 270.766 Q2179.85 274.123 2179.85 279.91 M2175.59 278.66 Q2175.54 275.165 2173.62 273.081 Q2171.72 270.998 2168.58 270.998 Q2165.01 270.998 2162.86 273.012 Q2160.73 275.026 2160.41 278.683 L2175.59 278.66 Z\" fill=\"#000000\" fill-rule=\"evenodd\" fill-opacity=\"1\" /><polyline clip-path=\"url(#clip480)\" style=\"stroke:#c271d2; stroke-width:4; stroke-opacity:1; fill:none\" points=\"\n",
       "  1719.35,337.138 1866.92,337.138 \n",
       "  \"/>\n",
       "<path clip-path=\"url(#clip480)\" d=\"M 0 0 M1912.03 329.487 L1912.03 333.469 Q1910.22 332.473 1908.39 331.987 Q1906.59 331.478 1904.74 331.478 Q1900.59 331.478 1898.3 334.117 Q1896.01 336.732 1896.01 341.478 Q1896.01 346.223 1898.3 348.862 Q1900.59 351.478 1904.74 351.478 Q1906.59 351.478 1908.39 350.992 Q1910.22 350.482 1912.03 349.487 L1912.03 353.422 Q1910.24 354.256 1908.32 354.672 Q1906.43 355.089 1904.27 355.089 Q1898.42 355.089 1894.97 351.408 Q1891.52 347.728 1891.52 341.478 Q1891.52 335.135 1894.99 331.501 Q1898.49 327.867 1904.55 327.867 Q1906.52 327.867 1908.39 328.283 Q1910.27 328.677 1912.03 329.487 Z\" fill=\"#000000\" fill-rule=\"evenodd\" fill-opacity=\"1\" /><path clip-path=\"url(#clip480)\" d=\"M 0 0 M1938.05 338.769 L1938.05 354.418 L1933.79 354.418 L1933.79 338.908 Q1933.79 335.228 1932.35 333.399 Q1930.92 331.57 1928.05 331.57 Q1924.6 331.57 1922.61 333.77 Q1920.62 335.969 1920.62 339.765 L1920.62 354.418 L1916.33 354.418 L1916.33 318.399 L1920.62 318.399 L1920.62 332.52 Q1922.14 330.182 1924.2 329.024 Q1926.29 327.867 1928.99 327.867 Q1933.46 327.867 1935.75 330.645 Q1938.05 333.399 1938.05 338.769 Z\" fill=\"#000000\" fill-rule=\"evenodd\" fill-opacity=\"1\" /><path clip-path=\"url(#clip480)\" d=\"M 0 0 M1952.56 331.478 Q1949.13 331.478 1947.14 334.163 Q1945.15 336.825 1945.15 341.478 Q1945.15 346.131 1947.12 348.816 Q1949.11 351.478 1952.56 351.478 Q1955.96 351.478 1957.95 348.793 Q1959.94 346.107 1959.94 341.478 Q1959.94 336.871 1957.95 334.186 Q1955.96 331.478 1952.56 331.478 M1952.56 327.867 Q1958.11 327.867 1961.29 331.478 Q1964.46 335.089 1964.46 341.478 Q1964.46 347.844 1961.29 351.478 Q1958.11 355.089 1952.56 355.089 Q1946.98 355.089 1943.81 351.478 Q1940.66 347.844 1940.66 341.478 Q1940.66 335.089 1943.81 331.478 Q1946.98 327.867 1952.56 327.867 Z\" fill=\"#000000\" fill-rule=\"evenodd\" fill-opacity=\"1\" /><path clip-path=\"url(#clip480)\" d=\"M 0 0 M1983.95 332.473 Q1983.23 332.057 1982.37 331.871 Q1981.54 331.663 1980.52 331.663 Q1976.91 331.663 1974.97 334.024 Q1973.05 336.362 1973.05 340.76 L1973.05 354.418 L1968.76 354.418 L1968.76 328.492 L1973.05 328.492 L1973.05 332.52 Q1974.39 330.158 1976.54 329.024 Q1978.69 327.867 1981.77 327.867 Q1982.21 327.867 1982.74 327.936 Q1983.28 327.983 1983.92 328.098 L1983.95 332.473 Z\" fill=\"#000000\" fill-rule=\"evenodd\" fill-opacity=\"1\" /><path clip-path=\"url(#clip480)\" d=\"M 0 0 M2009.55 340.39 L2009.55 342.473 L1989.97 342.473 Q1990.24 346.871 1992.61 349.186 Q1994.99 351.478 1999.23 351.478 Q2001.68 351.478 2003.97 350.876 Q2006.29 350.274 2008.55 349.07 L2008.55 353.098 Q2006.26 354.07 2003.86 354.58 Q2001.45 355.089 1998.97 355.089 Q1992.77 355.089 1989.13 351.478 Q1985.52 347.867 1985.52 341.709 Q1985.52 335.344 1988.95 331.617 Q1992.4 327.867 1998.23 327.867 Q2003.46 327.867 2006.49 331.246 Q2009.55 334.603 2009.55 340.39 M2005.29 339.14 Q2005.24 335.645 2003.32 333.561 Q2001.42 331.478 1998.28 331.478 Q1994.71 331.478 1992.56 333.492 Q1990.43 335.506 1990.11 339.163 L2005.29 339.14 Z\" fill=\"#000000\" fill-rule=\"evenodd\" fill-opacity=\"1\" /><path clip-path=\"url(#clip480)\" d=\"M 0 0 M2029.09 328.492 L2033.35 328.492 L2033.35 354.881 Q2033.35 359.834 2031.45 362.056 Q2029.57 364.279 2025.38 364.279 L2023.76 364.279 L2023.76 360.668 L2024.9 360.668 Q2027.33 360.668 2028.21 359.533 Q2029.09 358.422 2029.09 354.881 L2029.09 328.492 M2029.09 318.399 L2033.35 318.399 L2033.35 323.793 L2029.09 323.793 L2029.09 318.399 Z\" fill=\"#000000\" fill-rule=\"evenodd\" fill-opacity=\"1\" /><path clip-path=\"url(#clip480)\" d=\"M 0 0 M2049.6 341.385 Q2044.43 341.385 2042.44 342.566 Q2040.45 343.746 2040.45 346.594 Q2040.45 348.862 2041.93 350.205 Q2043.44 351.524 2046.01 351.524 Q2049.55 351.524 2051.68 349.024 Q2053.83 346.501 2053.83 342.334 L2053.83 341.385 L2049.6 341.385 M2058.09 339.626 L2058.09 354.418 L2053.83 354.418 L2053.83 350.482 Q2052.37 352.843 2050.2 353.978 Q2048.02 355.089 2044.87 355.089 Q2040.89 355.089 2038.53 352.867 Q2036.19 350.621 2036.19 346.871 Q2036.19 342.496 2039.11 340.274 Q2042.05 338.052 2047.86 338.052 L2053.83 338.052 L2053.83 337.635 Q2053.83 334.695 2051.89 333.098 Q2049.97 331.478 2046.47 331.478 Q2044.25 331.478 2042.14 332.01 Q2040.04 332.543 2038.09 333.607 L2038.09 329.672 Q2040.43 328.77 2042.63 328.33 Q2044.83 327.867 2046.91 327.867 Q2052.54 327.867 2055.31 330.783 Q2058.09 333.7 2058.09 339.626 Z\" fill=\"#000000\" fill-rule=\"evenodd\" fill-opacity=\"1\" /><path clip-path=\"url(#clip480)\" d=\"M 0 0 M2079.09 329.256 L2079.09 333.283 Q2077.28 332.357 2075.34 331.895 Q2073.39 331.432 2071.31 331.432 Q2068.14 331.432 2066.54 332.404 Q2064.97 333.376 2064.97 335.32 Q2064.97 336.802 2066.1 337.658 Q2067.23 338.492 2070.66 339.256 L2072.12 339.58 Q2076.66 340.552 2078.55 342.334 Q2080.48 344.094 2080.48 347.265 Q2080.48 350.876 2077.6 352.982 Q2074.76 355.089 2069.76 355.089 Q2067.67 355.089 2065.41 354.672 Q2063.16 354.279 2060.66 353.468 L2060.66 349.07 Q2063.02 350.297 2065.31 350.922 Q2067.61 351.524 2069.85 351.524 Q2072.86 351.524 2074.48 350.506 Q2076.1 349.464 2076.1 347.589 Q2076.1 345.853 2074.92 344.927 Q2073.76 344.001 2069.8 343.144 L2068.32 342.797 Q2064.36 341.964 2062.61 340.251 Q2060.85 338.515 2060.85 335.506 Q2060.85 331.848 2063.44 329.858 Q2066.03 327.867 2070.8 327.867 Q2073.16 327.867 2075.24 328.214 Q2077.33 328.561 2079.09 329.256 Z\" fill=\"#000000\" fill-rule=\"evenodd\" fill-opacity=\"1\" /><path clip-path=\"url(#clip480)\" d=\"M 0 0 M2089.16 321.131 L2089.16 328.492 L2097.93 328.492 L2097.93 331.802 L2089.16 331.802 L2089.16 345.876 Q2089.16 349.047 2090.01 349.95 Q2090.89 350.853 2093.55 350.853 L2097.93 350.853 L2097.93 354.418 L2093.55 354.418 Q2088.62 354.418 2086.75 352.589 Q2084.87 350.737 2084.87 345.876 L2084.87 331.802 L2081.75 331.802 L2081.75 328.492 L2084.87 328.492 L2084.87 321.131 L2089.16 321.131 Z\" fill=\"#000000\" fill-rule=\"evenodd\" fill-opacity=\"1\" /><path clip-path=\"url(#clip480)\" d=\"M 0 0 M2117.42 332.473 Q2116.7 332.057 2115.85 331.871 Q2115.01 331.663 2113.99 331.663 Q2110.38 331.663 2108.44 334.024 Q2106.52 336.362 2106.52 340.76 L2106.52 354.418 L2102.23 354.418 L2102.23 328.492 L2106.52 328.492 L2106.52 332.52 Q2107.86 330.158 2110.01 329.024 Q2112.16 327.867 2115.24 327.867 Q2115.68 327.867 2116.22 327.936 Q2116.75 327.983 2117.4 328.098 L2117.42 332.473 Z\" fill=\"#000000\" fill-rule=\"evenodd\" fill-opacity=\"1\" /><path clip-path=\"url(#clip480)\" d=\"M 0 0 M2120.04 328.492 L2140.27 328.492 L2140.27 332.381 L2124.25 351.015 L2140.27 351.015 L2140.27 354.418 L2119.46 354.418 L2119.46 350.529 L2135.48 331.895 L2120.04 331.895 L2120.04 328.492 Z\" fill=\"#000000\" fill-rule=\"evenodd\" fill-opacity=\"1\" /><path clip-path=\"url(#clip480)\" d=\"M 0 0 M2166.91 340.39 L2166.91 342.473 L2147.33 342.473 Q2147.6 346.871 2149.97 349.186 Q2152.35 351.478 2156.59 351.478 Q2159.04 351.478 2161.33 350.876 Q2163.65 350.274 2165.91 349.07 L2165.91 353.098 Q2163.62 354.07 2161.22 354.58 Q2158.81 355.089 2156.33 355.089 Q2150.13 355.089 2146.49 351.478 Q2142.88 347.867 2142.88 341.709 Q2142.88 335.344 2146.31 331.617 Q2149.76 327.867 2155.59 327.867 Q2160.82 327.867 2163.85 331.246 Q2166.91 334.603 2166.91 340.39 M2162.65 339.14 Q2162.6 335.645 2160.68 333.561 Q2158.79 331.478 2155.64 331.478 Q2152.07 331.478 2149.92 333.492 Q2147.79 335.506 2147.47 339.163 L2162.65 339.14 M2159.16 354.418 L2161.91 354.418 Q2160.87 355.83 2160.36 356.848 Q2159.87 357.867 2159.87 358.584 Q2159.87 359.649 2160.5 360.181 Q2161.15 360.714 2162.4 360.714 Q2163.14 360.714 2163.85 360.529 Q2164.57 360.367 2165.29 360.019 L2165.29 363.098 Q2164.41 363.33 2163.62 363.445 Q2162.84 363.561 2162.14 363.561 Q2159.32 363.561 2157.97 362.543 Q2156.66 361.547 2156.66 359.394 Q2156.66 358.283 2157.26 357.056 Q2157.88 355.853 2159.16 354.418 Z\" fill=\"#000000\" fill-rule=\"evenodd\" fill-opacity=\"1\" /><path clip-path=\"url(#clip480)\" d=\"M 0 0 M2189.99 341.478 Q2189.99 336.779 2188.04 334.117 Q2186.12 331.432 2182.74 331.432 Q2179.36 331.432 2177.42 334.117 Q2175.5 336.779 2175.5 341.478 Q2175.5 346.177 2177.42 348.862 Q2179.36 351.524 2182.74 351.524 Q2186.12 351.524 2188.04 348.862 Q2189.99 346.177 2189.99 341.478 M2175.5 332.427 Q2176.84 330.112 2178.88 329.001 Q2180.94 327.867 2183.78 327.867 Q2188.51 327.867 2191.45 331.617 Q2194.41 335.367 2194.41 341.478 Q2194.41 347.589 2191.45 351.339 Q2188.51 355.089 2183.78 355.089 Q2180.94 355.089 2178.88 353.978 Q2176.84 352.843 2175.5 350.529 L2175.5 354.418 L2171.22 354.418 L2171.22 318.399 L2175.5 318.399 L2175.5 332.427 Z\" fill=\"#000000\" fill-rule=\"evenodd\" fill-opacity=\"1\" /><path clip-path=\"url(#clip480)\" d=\"M 0 0 M2198.88 328.492 L2203.14 328.492 L2203.14 354.418 L2198.88 354.418 L2198.88 328.492 M2198.88 318.399 L2203.14 318.399 L2203.14 323.793 L2198.88 323.793 L2198.88 318.399 Z\" fill=\"#000000\" fill-rule=\"evenodd\" fill-opacity=\"1\" /><path clip-path=\"url(#clip480)\" d=\"M 0 0 M2229.78 340.39 L2229.78 342.473 L2210.2 342.473 Q2210.47 346.871 2212.84 349.186 Q2215.22 351.478 2219.46 351.478 Q2221.91 351.478 2224.2 350.876 Q2226.52 350.274 2228.78 349.07 L2228.78 353.098 Q2226.49 354.07 2224.09 354.58 Q2221.68 355.089 2219.2 355.089 Q2213 355.089 2209.36 351.478 Q2205.75 347.867 2205.75 341.709 Q2205.75 335.344 2209.18 331.617 Q2212.63 327.867 2218.46 327.867 Q2223.69 327.867 2226.72 331.246 Q2229.78 334.603 2229.78 340.39 M2225.52 339.14 Q2225.47 335.645 2223.55 333.561 Q2221.66 331.478 2218.51 331.478 Q2214.94 331.478 2212.79 333.492 Q2210.66 335.506 2210.34 339.163 L2225.52 339.14 Z\" fill=\"#000000\" fill-rule=\"evenodd\" fill-opacity=\"1\" /></svg>\n"
      ]
     },
     "execution_count": 306,
     "metadata": {},
     "output_type": "execute_result"
    }
   ],
   "source": [
    "wykresy_all(9,9,10,10,70,70,100)"
   ]
  },
  {
   "cell_type": "code",
   "execution_count": 307,
   "metadata": {},
   "outputs": [
    {
     "name": "stdout",
     "output_type": "stream",
     "text": [
      "they made it\n"
     ]
    },
    {
     "data": {
      "image/svg+xml": [
       "<?xml version=\"1.0\" encoding=\"utf-8\"?>\n",
       "<svg xmlns=\"http://www.w3.org/2000/svg\" xmlns:xlink=\"http://www.w3.org/1999/xlink\" width=\"600\" height=\"400\" viewBox=\"0 0 2400 1600\">\n",
       "<defs>\n",
       "  <clipPath id=\"clip520\">\n",
       "    <rect x=\"0\" y=\"0\" width=\"2400\" height=\"1600\"/>\n",
       "  </clipPath>\n",
       "</defs>\n",
       "<path clip-path=\"url(#clip520)\" d=\"\n",
       "M0 1600 L2400 1600 L2400 0 L0 0  Z\n",
       "  \" fill=\"#ffffff\" fill-rule=\"evenodd\" fill-opacity=\"1\"/>\n",
       "<defs>\n",
       "  <clipPath id=\"clip521\">\n",
       "    <rect x=\"480\" y=\"0\" width=\"1681\" height=\"1600\"/>\n",
       "  </clipPath>\n",
       "</defs>\n",
       "<path clip-path=\"url(#clip520)\" d=\"\n",
       "M136.76 1486.45 L2352.76 1486.45 L2352.76 47.2441 L136.76 47.2441  Z\n",
       "  \" fill=\"#ffffff\" fill-rule=\"evenodd\" fill-opacity=\"1\"/>\n",
       "<defs>\n",
       "  <clipPath id=\"clip522\">\n",
       "    <rect x=\"136\" y=\"47\" width=\"2217\" height=\"1440\"/>\n",
       "  </clipPath>\n",
       "</defs>\n",
       "<polyline clip-path=\"url(#clip522)\" style=\"stroke:#000000; stroke-width:2; stroke-opacity:0.1; fill:none\" points=\"\n",
       "  178.36,1486.45 178.36,47.2441 \n",
       "  \"/>\n",
       "<polyline clip-path=\"url(#clip522)\" style=\"stroke:#000000; stroke-width:2; stroke-opacity:0.1; fill:none\" points=\"\n",
       "  706.28,1486.45 706.28,47.2441 \n",
       "  \"/>\n",
       "<polyline clip-path=\"url(#clip522)\" style=\"stroke:#000000; stroke-width:2; stroke-opacity:0.1; fill:none\" points=\"\n",
       "  1234.2,1486.45 1234.2,47.2441 \n",
       "  \"/>\n",
       "<polyline clip-path=\"url(#clip522)\" style=\"stroke:#000000; stroke-width:2; stroke-opacity:0.1; fill:none\" points=\"\n",
       "  1762.12,1486.45 1762.12,47.2441 \n",
       "  \"/>\n",
       "<polyline clip-path=\"url(#clip522)\" style=\"stroke:#000000; stroke-width:2; stroke-opacity:0.1; fill:none\" points=\"\n",
       "  2290.04,1486.45 2290.04,47.2441 \n",
       "  \"/>\n",
       "<polyline clip-path=\"url(#clip520)\" style=\"stroke:#000000; stroke-width:4; stroke-opacity:1; fill:none\" points=\"\n",
       "  136.76,1486.45 2352.76,1486.45 \n",
       "  \"/>\n",
       "<polyline clip-path=\"url(#clip520)\" style=\"stroke:#000000; stroke-width:4; stroke-opacity:1; fill:none\" points=\"\n",
       "  178.36,1486.45 178.36,1469.18 \n",
       "  \"/>\n",
       "<polyline clip-path=\"url(#clip520)\" style=\"stroke:#000000; stroke-width:4; stroke-opacity:1; fill:none\" points=\"\n",
       "  706.28,1486.45 706.28,1469.18 \n",
       "  \"/>\n",
       "<polyline clip-path=\"url(#clip520)\" style=\"stroke:#000000; stroke-width:4; stroke-opacity:1; fill:none\" points=\"\n",
       "  1234.2,1486.45 1234.2,1469.18 \n",
       "  \"/>\n",
       "<polyline clip-path=\"url(#clip520)\" style=\"stroke:#000000; stroke-width:4; stroke-opacity:1; fill:none\" points=\"\n",
       "  1762.12,1486.45 1762.12,1469.18 \n",
       "  \"/>\n",
       "<polyline clip-path=\"url(#clip520)\" style=\"stroke:#000000; stroke-width:4; stroke-opacity:1; fill:none\" points=\"\n",
       "  2290.04,1486.45 2290.04,1469.18 \n",
       "  \"/>\n",
       "<path clip-path=\"url(#clip520)\" d=\"M 0 0 M178.36 1515.64 Q174.749 1515.64 172.921 1519.2 Q171.115 1522.75 171.115 1529.87 Q171.115 1536.98 172.921 1540.55 Q174.749 1544.09 178.36 1544.09 Q181.995 1544.09 183.8 1540.55 Q185.629 1536.98 185.629 1529.87 Q185.629 1522.75 183.8 1519.2 Q181.995 1515.64 178.36 1515.64 M178.36 1511.93 Q184.171 1511.93 187.226 1516.54 Q190.305 1521.12 190.305 1529.87 Q190.305 1538.6 187.226 1543.21 Q184.171 1547.79 178.36 1547.79 Q172.55 1547.79 169.472 1543.21 Q166.416 1538.6 166.416 1529.87 Q166.416 1521.12 169.472 1516.54 Q172.55 1511.93 178.36 1511.93 Z\" fill=\"#000000\" fill-rule=\"evenodd\" fill-opacity=\"1\" /><path clip-path=\"url(#clip520)\" d=\"M 0 0 M687.924 1543.18 L704.243 1543.18 L704.243 1547.12 L682.299 1547.12 L682.299 1543.18 Q684.961 1540.43 689.544 1535.8 Q694.151 1531.15 695.331 1529.81 Q697.576 1527.28 698.456 1525.55 Q699.359 1523.79 699.359 1522.1 Q699.359 1519.34 697.414 1517.61 Q695.493 1515.87 692.391 1515.87 Q690.192 1515.87 687.739 1516.63 Q685.308 1517.4 682.53 1518.95 L682.53 1514.23 Q685.354 1513.09 687.808 1512.51 Q690.262 1511.93 692.299 1511.93 Q697.669 1511.93 700.863 1514.62 Q704.058 1517.31 704.058 1521.8 Q704.058 1523.93 703.248 1525.85 Q702.461 1527.74 700.354 1530.34 Q699.776 1531.01 696.674 1534.23 Q693.572 1537.42 687.924 1543.18 Z\" fill=\"#000000\" fill-rule=\"evenodd\" fill-opacity=\"1\" /><path clip-path=\"url(#clip520)\" d=\"M 0 0 M709.359 1512.56 L727.715 1512.56 L727.715 1516.5 L713.641 1516.5 L713.641 1524.97 Q714.66 1524.62 715.678 1524.46 Q716.697 1524.27 717.715 1524.27 Q723.502 1524.27 726.882 1527.44 Q730.261 1530.62 730.261 1536.03 Q730.261 1541.61 726.789 1544.71 Q723.317 1547.79 716.998 1547.79 Q714.822 1547.79 712.553 1547.42 Q710.308 1547.05 707.9 1546.31 L707.9 1541.61 Q709.984 1542.74 712.206 1543.3 Q714.428 1543.86 716.905 1543.86 Q720.91 1543.86 723.248 1541.75 Q725.586 1539.64 725.586 1536.03 Q725.586 1532.42 723.248 1530.31 Q720.91 1528.21 716.905 1528.21 Q715.03 1528.21 713.155 1528.62 Q711.303 1529.04 709.359 1529.92 L709.359 1512.56 Z\" fill=\"#000000\" fill-rule=\"evenodd\" fill-opacity=\"1\" /><path clip-path=\"url(#clip520)\" d=\"M 0 0 M1210.97 1512.56 L1229.33 1512.56 L1229.33 1516.5 L1215.25 1516.5 L1215.25 1524.97 Q1216.27 1524.62 1217.29 1524.46 Q1218.31 1524.27 1219.33 1524.27 Q1225.11 1524.27 1228.49 1527.44 Q1231.87 1530.62 1231.87 1536.03 Q1231.87 1541.61 1228.4 1544.71 Q1224.93 1547.79 1218.61 1547.79 Q1216.43 1547.79 1214.17 1547.42 Q1211.92 1547.05 1209.51 1546.31 L1209.51 1541.61 Q1211.6 1542.74 1213.82 1543.3 Q1216.04 1543.86 1218.52 1543.86 Q1222.52 1543.86 1224.86 1541.75 Q1227.2 1539.64 1227.2 1536.03 Q1227.2 1532.42 1224.86 1530.31 Q1222.52 1528.21 1218.52 1528.21 Q1216.64 1528.21 1214.77 1528.62 Q1212.92 1529.04 1210.97 1529.92 L1210.97 1512.56 Z\" fill=\"#000000\" fill-rule=\"evenodd\" fill-opacity=\"1\" /><path clip-path=\"url(#clip520)\" d=\"M 0 0 M1246.94 1515.64 Q1243.33 1515.64 1241.5 1519.2 Q1239.7 1522.75 1239.7 1529.87 Q1239.7 1536.98 1241.5 1540.55 Q1243.33 1544.09 1246.94 1544.09 Q1250.58 1544.09 1252.38 1540.55 Q1254.21 1536.98 1254.21 1529.87 Q1254.21 1522.75 1252.38 1519.2 Q1250.58 1515.64 1246.94 1515.64 M1246.94 1511.93 Q1252.75 1511.93 1255.81 1516.54 Q1258.89 1521.12 1258.89 1529.87 Q1258.89 1538.6 1255.81 1543.21 Q1252.75 1547.79 1246.94 1547.79 Q1241.13 1547.79 1238.05 1543.21 Q1235 1538.6 1235 1529.87 Q1235 1521.12 1238.05 1516.54 Q1241.13 1511.93 1246.94 1511.93 Z\" fill=\"#000000\" fill-rule=\"evenodd\" fill-opacity=\"1\" /><path clip-path=\"url(#clip520)\" d=\"M 0 0 M1738 1512.56 L1760.22 1512.56 L1760.22 1514.55 L1747.68 1547.12 L1742.79 1547.12 L1754.6 1516.5 L1738 1516.5 L1738 1512.56 Z\" fill=\"#000000\" fill-rule=\"evenodd\" fill-opacity=\"1\" /><path clip-path=\"url(#clip520)\" d=\"M 0 0 M1765.34 1512.56 L1783.69 1512.56 L1783.69 1516.5 L1769.62 1516.5 L1769.62 1524.97 Q1770.64 1524.62 1771.66 1524.46 Q1772.67 1524.27 1773.69 1524.27 Q1779.48 1524.27 1782.86 1527.44 Q1786.24 1530.62 1786.24 1536.03 Q1786.24 1541.61 1782.77 1544.71 Q1779.3 1547.79 1772.98 1547.79 Q1770.8 1547.79 1768.53 1547.42 Q1766.29 1547.05 1763.88 1546.31 L1763.88 1541.61 Q1765.96 1542.74 1768.18 1543.3 Q1770.41 1543.86 1772.88 1543.86 Q1776.89 1543.86 1779.23 1541.75 Q1781.56 1539.64 1781.56 1536.03 Q1781.56 1532.42 1779.23 1530.31 Q1776.89 1528.21 1772.88 1528.21 Q1771.01 1528.21 1769.13 1528.62 Q1767.28 1529.04 1765.34 1529.92 L1765.34 1512.56 Z\" fill=\"#000000\" fill-rule=\"evenodd\" fill-opacity=\"1\" /><path clip-path=\"url(#clip520)\" d=\"M 0 0 M2253.41 1543.18 L2261.05 1543.18 L2261.05 1516.82 L2252.74 1518.49 L2252.74 1514.23 L2261 1512.56 L2265.68 1512.56 L2265.68 1543.18 L2273.31 1543.18 L2273.31 1547.12 L2253.41 1547.12 L2253.41 1543.18 Z\" fill=\"#000000\" fill-rule=\"evenodd\" fill-opacity=\"1\" /><path clip-path=\"url(#clip520)\" d=\"M 0 0 M2288.38 1515.64 Q2284.77 1515.64 2282.94 1519.2 Q2281.14 1522.75 2281.14 1529.87 Q2281.14 1536.98 2282.94 1540.55 Q2284.77 1544.09 2288.38 1544.09 Q2292.02 1544.09 2293.82 1540.55 Q2295.65 1536.98 2295.65 1529.87 Q2295.65 1522.75 2293.82 1519.2 Q2292.02 1515.64 2288.38 1515.64 M2288.38 1511.93 Q2294.19 1511.93 2297.25 1516.54 Q2300.33 1521.12 2300.33 1529.87 Q2300.33 1538.6 2297.25 1543.21 Q2294.19 1547.79 2288.38 1547.79 Q2282.57 1547.79 2279.5 1543.21 Q2276.44 1538.6 2276.44 1529.87 Q2276.44 1521.12 2279.5 1516.54 Q2282.57 1511.93 2288.38 1511.93 Z\" fill=\"#000000\" fill-rule=\"evenodd\" fill-opacity=\"1\" /><path clip-path=\"url(#clip520)\" d=\"M 0 0 M2315.4 1515.64 Q2311.79 1515.64 2309.96 1519.2 Q2308.15 1522.75 2308.15 1529.87 Q2308.15 1536.98 2309.96 1540.55 Q2311.79 1544.09 2315.4 1544.09 Q2319.03 1544.09 2320.84 1540.55 Q2322.67 1536.98 2322.67 1529.87 Q2322.67 1522.75 2320.84 1519.2 Q2319.03 1515.64 2315.4 1515.64 M2315.4 1511.93 Q2321.21 1511.93 2324.26 1516.54 Q2327.34 1521.12 2327.34 1529.87 Q2327.34 1538.6 2324.26 1543.21 Q2321.21 1547.79 2315.4 1547.79 Q2309.59 1547.79 2306.51 1543.21 Q2303.45 1538.6 2303.45 1529.87 Q2303.45 1521.12 2306.51 1516.54 Q2309.59 1511.93 2315.4 1511.93 Z\" fill=\"#000000\" fill-rule=\"evenodd\" fill-opacity=\"1\" /><polyline clip-path=\"url(#clip522)\" style=\"stroke:#000000; stroke-width:2; stroke-opacity:0.1; fill:none\" points=\"\n",
       "  136.76,1445.72 2352.76,1445.72 \n",
       "  \"/>\n",
       "<polyline clip-path=\"url(#clip522)\" style=\"stroke:#000000; stroke-width:2; stroke-opacity:0.1; fill:none\" points=\"\n",
       "  136.76,1046.38 2352.76,1046.38 \n",
       "  \"/>\n",
       "<polyline clip-path=\"url(#clip522)\" style=\"stroke:#000000; stroke-width:2; stroke-opacity:0.1; fill:none\" points=\"\n",
       "  136.76,647.045 2352.76,647.045 \n",
       "  \"/>\n",
       "<polyline clip-path=\"url(#clip522)\" style=\"stroke:#000000; stroke-width:2; stroke-opacity:0.1; fill:none\" points=\"\n",
       "  136.76,247.71 2352.76,247.71 \n",
       "  \"/>\n",
       "<polyline clip-path=\"url(#clip520)\" style=\"stroke:#000000; stroke-width:4; stroke-opacity:1; fill:none\" points=\"\n",
       "  136.76,1486.45 136.76,47.2441 \n",
       "  \"/>\n",
       "<polyline clip-path=\"url(#clip520)\" style=\"stroke:#000000; stroke-width:4; stroke-opacity:1; fill:none\" points=\"\n",
       "  136.76,1445.72 163.352,1445.72 \n",
       "  \"/>\n",
       "<polyline clip-path=\"url(#clip520)\" style=\"stroke:#000000; stroke-width:4; stroke-opacity:1; fill:none\" points=\"\n",
       "  136.76,1046.38 163.352,1046.38 \n",
       "  \"/>\n",
       "<polyline clip-path=\"url(#clip520)\" style=\"stroke:#000000; stroke-width:4; stroke-opacity:1; fill:none\" points=\"\n",
       "  136.76,647.045 163.352,647.045 \n",
       "  \"/>\n",
       "<polyline clip-path=\"url(#clip520)\" style=\"stroke:#000000; stroke-width:4; stroke-opacity:1; fill:none\" points=\"\n",
       "  136.76,247.71 163.352,247.71 \n",
       "  \"/>\n",
       "<path clip-path=\"url(#clip520)\" d=\"M 0 0 M88.816 1431.51 Q85.2049 1431.51 83.3762 1435.08 Q81.5707 1438.62 81.5707 1445.75 Q81.5707 1452.86 83.3762 1456.42 Q85.2049 1459.96 88.816 1459.96 Q92.4502 1459.96 94.2558 1456.42 Q96.0845 1452.86 96.0845 1445.75 Q96.0845 1438.62 94.2558 1435.08 Q92.4502 1431.51 88.816 1431.51 M88.816 1427.81 Q94.6262 1427.81 97.6817 1432.42 Q100.76 1437 100.76 1445.75 Q100.76 1454.48 97.6817 1459.08 Q94.6262 1463.67 88.816 1463.67 Q83.0058 1463.67 79.9272 1459.08 Q76.8716 1454.48 76.8716 1445.75 Q76.8716 1437 79.9272 1432.42 Q83.0058 1427.81 88.816 1427.81 Z\" fill=\"#000000\" fill-rule=\"evenodd\" fill-opacity=\"1\" /><path clip-path=\"url(#clip520)\" d=\"M 0 0 M53.8393 1059.73 L61.4782 1059.73 L61.4782 1033.36 L53.168 1035.03 L53.168 1030.77 L61.4319 1029.1 L66.1078 1029.1 L66.1078 1059.73 L73.7466 1059.73 L73.7466 1063.66 L53.8393 1063.66 L53.8393 1059.73 Z\" fill=\"#000000\" fill-rule=\"evenodd\" fill-opacity=\"1\" /><path clip-path=\"url(#clip520)\" d=\"M 0 0 M88.816 1032.18 Q85.2049 1032.18 83.3762 1035.74 Q81.5707 1039.29 81.5707 1046.42 Q81.5707 1053.52 83.3762 1057.09 Q85.2049 1060.63 88.816 1060.63 Q92.4502 1060.63 94.2558 1057.09 Q96.0845 1053.52 96.0845 1046.42 Q96.0845 1039.29 94.2558 1035.74 Q92.4502 1032.18 88.816 1032.18 M88.816 1028.48 Q94.6262 1028.48 97.6817 1033.08 Q100.76 1037.67 100.76 1046.42 Q100.76 1055.14 97.6817 1059.75 Q94.6262 1064.33 88.816 1064.33 Q83.0058 1064.33 79.9272 1059.75 Q76.8716 1055.14 76.8716 1046.42 Q76.8716 1037.67 79.9272 1033.08 Q83.0058 1028.48 88.816 1028.48 Z\" fill=\"#000000\" fill-rule=\"evenodd\" fill-opacity=\"1\" /><path clip-path=\"url(#clip520)\" d=\"M 0 0 M57.4273 660.39 L73.7466 660.39 L73.7466 664.325 L51.8023 664.325 L51.8023 660.39 Q54.4643 657.636 59.0476 653.006 Q63.6541 648.353 64.8346 647.011 Q67.08 644.488 67.9596 642.751 Q68.8624 640.992 68.8624 639.302 Q68.8624 636.548 66.918 634.812 Q64.9967 633.076 61.8948 633.076 Q59.6958 633.076 57.2421 633.839 Q54.8115 634.603 52.0338 636.154 L52.0338 631.432 Q54.8578 630.298 57.3115 629.719 Q59.7652 629.14 61.8023 629.14 Q67.1726 629.14 70.367 631.826 Q73.5614 634.511 73.5614 639.002 Q73.5614 641.131 72.7513 643.052 Q71.9642 644.951 69.8578 647.543 Q69.2791 648.214 66.1772 651.432 Q63.0754 654.626 57.4273 660.39 Z\" fill=\"#000000\" fill-rule=\"evenodd\" fill-opacity=\"1\" /><path clip-path=\"url(#clip520)\" d=\"M 0 0 M88.816 632.844 Q85.2049 632.844 83.3762 636.409 Q81.5707 639.951 81.5707 647.08 Q81.5707 654.187 83.3762 657.751 Q85.2049 661.293 88.816 661.293 Q92.4502 661.293 94.2558 657.751 Q96.0845 654.187 96.0845 647.08 Q96.0845 639.951 94.2558 636.409 Q92.4502 632.844 88.816 632.844 M88.816 629.14 Q94.6262 629.14 97.6817 633.747 Q100.76 638.33 100.76 647.08 Q100.76 655.807 97.6817 660.413 Q94.6262 664.997 88.816 664.997 Q83.0058 664.997 79.9272 660.413 Q76.8716 655.807 76.8716 647.08 Q76.8716 638.33 79.9272 633.747 Q83.0058 629.14 88.816 629.14 Z\" fill=\"#000000\" fill-rule=\"evenodd\" fill-opacity=\"1\" /><path clip-path=\"url(#clip520)\" d=\"M 0 0 M66.617 246.356 Q69.9735 247.074 71.8485 249.342 Q73.7466 251.611 73.7466 254.944 Q73.7466 260.06 70.2281 262.861 Q66.7096 265.662 60.2282 265.662 Q58.0523 265.662 55.7375 265.222 Q53.4458 264.805 50.9921 263.949 L50.9921 259.435 Q52.9366 260.569 55.2514 261.148 Q57.5662 261.726 60.0893 261.726 Q64.4874 261.726 66.7791 259.99 Q69.0939 258.254 69.0939 254.944 Q69.0939 251.889 66.9411 250.176 Q64.8115 248.439 60.9921 248.439 L56.9643 248.439 L56.9643 244.597 L61.1773 244.597 Q64.6263 244.597 66.455 243.231 Q68.2837 241.842 68.2837 239.25 Q68.2837 236.588 66.3856 235.176 Q64.5106 233.74 60.9921 233.74 Q59.0708 233.74 56.8717 234.157 Q54.6727 234.574 52.0338 235.453 L52.0338 231.287 Q54.6958 230.546 57.0106 230.176 Q59.3486 229.805 61.4087 229.805 Q66.7328 229.805 69.8346 232.236 Q72.9365 234.643 72.9365 238.764 Q72.9365 241.634 71.2929 243.625 Q69.6494 245.592 66.617 246.356 Z\" fill=\"#000000\" fill-rule=\"evenodd\" fill-opacity=\"1\" /><path clip-path=\"url(#clip520)\" d=\"M 0 0 M88.816 233.509 Q85.2049 233.509 83.3762 237.074 Q81.5707 240.615 81.5707 247.745 Q81.5707 254.851 83.3762 258.416 Q85.2049 261.958 88.816 261.958 Q92.4502 261.958 94.2558 258.416 Q96.0845 254.851 96.0845 247.745 Q96.0845 240.615 94.2558 237.074 Q92.4502 233.509 88.816 233.509 M88.816 229.805 Q94.6262 229.805 97.6817 234.412 Q100.76 238.995 100.76 247.745 Q100.76 256.472 97.6817 261.078 Q94.6262 265.662 88.816 265.662 Q83.0058 265.662 79.9272 261.078 Q76.8716 256.472 76.8716 247.745 Q76.8716 238.995 79.9272 234.412 Q83.0058 229.805 88.816 229.805 Z\" fill=\"#000000\" fill-rule=\"evenodd\" fill-opacity=\"1\" /><polyline clip-path=\"url(#clip522)\" style=\"stroke:#009af9; stroke-width:4; stroke-opacity:1; fill:none\" points=\"\n",
       "  199.477,726.912 220.594,1046.38 241.711,1166.18 262.828,1046.38 283.944,1006.45 305.061,926.58 326.178,966.514 347.295,926.58 368.412,806.779 389.528,726.912 \n",
       "  410.645,846.713 431.762,886.647 452.879,1006.45 473.995,886.647 495.112,686.979 516.229,806.779 537.346,846.713 558.463,1006.45 579.579,1206.11 600.696,1365.85 \n",
       "  621.813,1285.98 642.93,1166.18 664.047,1086.31 685.163,1006.45 706.28,1046.38 727.397,1046.38 748.514,1126.25 769.63,1006.45 790.747,1086.31 811.864,1126.25 \n",
       "  832.981,1046.38 854.098,1006.45 875.214,886.647 896.331,926.58 917.448,1126.25 938.565,1126.25 959.682,966.514 980.798,1006.45 1001.92,1126.25 1023.03,1206.11 \n",
       "  1044.15,1046.38 1065.27,926.58 1086.38,1126.25 1107.5,1206.11 1128.62,1166.18 1149.73,1126.25 1170.85,1206.11 1191.97,1206.11 1213.08,1285.98 1234.2,1166.18 \n",
       "  1255.32,1246.05 1276.43,1086.31 1297.55,1246.05 1318.67,1285.98 1339.78,1246.05 1360.9,1126.25 1382.02,1046.38 1403.13,1126.25 1424.25,1246.05 1445.37,1246.05 \n",
       "  1466.48,1206.11 1487.6,1206.11 1508.72,1166.18 1529.83,1046.38 1550.95,926.58 1572.07,926.58 1593.19,926.58 1614.3,886.647 1635.42,1006.45 1656.54,1086.31 \n",
       "  1677.65,1206.11 1698.77,1206.11 1719.89,1206.11 1741,1365.85 1762.12,1365.85 1783.24,1405.78 1804.35,1445.72 1825.47,1445.72 1846.59,1445.72 1867.7,1445.72 \n",
       "  1888.82,1445.72 1909.94,1445.72 1931.05,1445.72 1952.17,1445.72 1973.29,1445.72 1994.4,1445.72 2015.52,1445.72 2036.64,1445.72 2057.75,1445.72 2078.87,1445.72 \n",
       "  2099.99,1445.72 2121.1,1445.72 2142.22,1445.72 2163.34,1445.72 2184.46,1445.72 2205.57,1445.72 2226.69,1445.72 2247.81,1445.72 2268.92,1445.72 2290.04,1445.72 \n",
       "  \n",
       "  \"/>\n",
       "<polyline clip-path=\"url(#clip522)\" style=\"stroke:#e26f46; stroke-width:4; stroke-opacity:1; fill:none\" points=\"\n",
       "  199.477,1206.11 220.594,1166.18 241.711,1086.31 262.828,1206.11 283.944,1086.31 305.061,926.58 326.178,1126.25 347.295,1126.25 368.412,886.647 389.528,926.58 \n",
       "  410.645,647.045 431.762,766.846 452.879,1086.31 473.995,1006.45 495.112,806.779 516.229,806.779 537.346,726.912 558.463,487.311 579.579,407.444 600.696,607.112 \n",
       "  621.813,926.58 642.93,926.58 664.047,926.58 685.163,846.713 706.28,726.912 727.397,607.112 748.514,726.912 769.63,766.846 790.747,647.045 811.864,846.713 \n",
       "  832.981,686.979 854.098,806.779 875.214,886.647 896.331,567.178 917.448,806.779 938.565,846.713 959.682,647.045 980.798,686.979 1001.92,567.178 1023.03,726.912 \n",
       "  1044.15,966.514 1065.27,647.045 1086.38,287.644 1107.5,766.846 1128.62,607.112 1149.73,766.846 1170.85,726.912 1191.97,647.045 1213.08,886.647 1234.2,607.112 \n",
       "  1255.32,647.045 1276.43,327.577 1297.55,207.777 1318.67,567.178 1339.78,567.178 1360.9,327.577 1382.02,527.245 1403.13,87.9763 1424.25,287.644 1445.37,487.311 \n",
       "  1466.48,607.112 1487.6,567.178 1508.72,447.378 1529.83,367.511 1550.95,327.577 1572.07,607.112 1593.19,527.245 1614.3,846.713 1635.42,846.713 1656.54,607.112 \n",
       "  1677.65,766.846 1698.77,806.779 1719.89,647.045 1741,367.511 1762.12,647.045 1783.24,407.444 1804.35,407.444 1825.47,367.511 1846.59,407.444 1867.7,527.245 \n",
       "  1888.82,607.112 1909.94,407.444 1931.05,487.311 1952.17,527.245 1973.29,607.112 1994.4,447.378 2015.52,327.577 2036.64,447.378 2057.75,527.245 2078.87,167.843 \n",
       "  2099.99,766.846 2121.1,487.311 2142.22,367.511 2163.34,407.444 2184.46,647.045 2205.57,567.178 2226.69,367.511 2247.81,607.112 2268.92,607.112 2290.04,487.311 \n",
       "  \n",
       "  \"/>\n",
       "<polyline clip-path=\"url(#clip522)\" style=\"stroke:#3da44d; stroke-width:4; stroke-opacity:1; fill:none\" points=\"\n",
       "  199.477,207.777 220.594,287.644 241.711,567.178 262.828,846.713 283.944,806.779 305.061,806.779 326.178,647.045 347.295,726.912 368.412,886.647 389.528,1126.25 \n",
       "  410.645,1046.38 431.762,1126.25 452.879,1166.18 473.995,1246.05 495.112,1246.05 516.229,1285.98 537.346,1285.98 558.463,1285.98 579.579,1246.05 600.696,1246.05 \n",
       "  621.813,1166.18 642.93,1166.18 664.047,1086.31 685.163,1086.31 706.28,1246.05 727.397,1405.78 748.514,1285.98 769.63,1445.72 790.747,1365.85 811.864,1285.98 \n",
       "  832.981,1365.85 854.098,1325.92 875.214,1325.92 896.331,1206.11 917.448,1166.18 938.565,1246.05 959.682,1365.85 980.798,1445.72 1001.92,1445.72 1023.03,1365.85 \n",
       "  1044.15,1365.85 1065.27,1365.85 1086.38,1325.92 1107.5,1405.78 1128.62,1445.72 1149.73,1445.72 1170.85,1405.78 1191.97,1405.78 1213.08,1405.78 1234.2,1445.72 \n",
       "  1255.32,1445.72 1276.43,1445.72 1297.55,1445.72 1318.67,1445.72 1339.78,1445.72 1360.9,1445.72 1382.02,1445.72 1403.13,1445.72 1424.25,1445.72 1445.37,1445.72 \n",
       "  1466.48,1445.72 1487.6,1445.72 1508.72,1445.72 1529.83,1445.72 1550.95,1445.72 1572.07,1445.72 1593.19,1405.78 1614.3,1325.92 1635.42,1166.18 1656.54,1086.31 \n",
       "  1677.65,1325.92 1698.77,1365.85 1719.89,1445.72 1741,1445.72 1762.12,1445.72 1783.24,1445.72 1804.35,1445.72 1825.47,1445.72 1846.59,1445.72 1867.7,1445.72 \n",
       "  1888.82,1445.72 1909.94,1445.72 1931.05,1445.72 1952.17,1445.72 1973.29,1445.72 1994.4,1445.72 2015.52,1445.72 2036.64,1445.72 2057.75,1445.72 2078.87,1445.72 \n",
       "  2099.99,1445.72 2121.1,1445.72 2142.22,1445.72 2163.34,1445.72 2184.46,1445.72 2205.57,1445.72 2226.69,1445.72 2247.81,1445.72 2268.92,1445.72 2290.04,1445.72 \n",
       "  \n",
       "  \"/>\n",
       "<polyline clip-path=\"url(#clip522)\" style=\"stroke:#c271d2; stroke-width:4; stroke-opacity:1; fill:none\" points=\"\n",
       "  199.477,926.58 220.594,1006.45 241.711,1126.25 262.828,1166.18 283.944,1126.25 305.061,1325.92 326.178,1246.05 347.295,1166.18 368.412,1325.92 389.528,1285.98 \n",
       "  410.645,1325.92 431.762,1086.31 452.879,1046.38 473.995,1166.18 495.112,1086.31 516.229,926.58 537.346,1046.38 558.463,1206.11 579.579,1126.25 600.696,1126.25 \n",
       "  621.813,1206.11 642.93,1285.98 664.047,1285.98 685.163,1246.05 706.28,1206.11 727.397,1166.18 748.514,1126.25 769.63,1006.45 790.747,1046.38 811.864,1166.18 \n",
       "  832.981,1086.31 854.098,1126.25 875.214,1006.45 896.331,1046.38 917.448,1126.25 938.565,1126.25 959.682,1166.18 980.798,1126.25 1001.92,1046.38 1023.03,1246.05 \n",
       "  1044.15,1206.11 1065.27,1206.11 1086.38,1086.31 1107.5,1166.18 1128.62,1126.25 1149.73,1166.18 1170.85,1086.31 1191.97,1086.31 1213.08,1285.98 1234.2,1206.11 \n",
       "  1255.32,1365.85 1276.43,1365.85 1297.55,1325.92 1318.67,1246.05 1339.78,1246.05 1360.9,1405.78 1382.02,1405.78 1403.13,1365.85 1424.25,1405.78 1445.37,1365.85 \n",
       "  1466.48,1405.78 1487.6,1365.85 1508.72,1405.78 1529.83,1405.78 1550.95,1365.85 1572.07,1365.85 1593.19,1325.92 1614.3,1246.05 1635.42,1206.11 1656.54,1046.38 \n",
       "  1677.65,1006.45 1698.77,1325.92 1719.89,1285.98 1741,1285.98 1762.12,1325.92 1783.24,1285.98 1804.35,1405.78 1825.47,1365.85 1846.59,1325.92 1867.7,1325.92 \n",
       "  1888.82,1325.92 1909.94,1325.92 1931.05,1365.85 1952.17,1325.92 1973.29,1285.98 1994.4,1445.72 2015.52,1405.78 2036.64,1365.85 2057.75,1365.85 2078.87,1445.72 \n",
       "  2099.99,1445.72 2121.1,1445.72 2142.22,1445.72 2163.34,1445.72 2184.46,1445.72 2205.57,1445.72 2226.69,1445.72 2247.81,1445.72 2268.92,1445.72 2290.04,1445.72 \n",
       "  \n",
       "  \"/>\n",
       "<path clip-path=\"url(#clip520)\" d=\"\n",
       "M1694.41 397.618 L2278.89 397.618 L2278.89 95.2176 L1694.41 95.2176  Z\n",
       "  \" fill=\"#ffffff\" fill-rule=\"evenodd\" fill-opacity=\"1\"/>\n",
       "<polyline clip-path=\"url(#clip520)\" style=\"stroke:#000000; stroke-width:4; stroke-opacity:1; fill:none\" points=\"\n",
       "  1694.41,397.618 2278.89,397.618 2278.89,95.2176 1694.41,95.2176 1694.41,397.618 \n",
       "  \"/>\n",
       "<polyline clip-path=\"url(#clip520)\" style=\"stroke:#009af9; stroke-width:4; stroke-opacity:1; fill:none\" points=\"\n",
       "  1719.03,155.698 1866.76,155.698 \n",
       "  \"/>\n",
       "<path clip-path=\"url(#clip520)\" d=\"M 0 0 M1910.29 159.714 Q1910.29 155.084 1908.37 152.538 Q1906.48 149.992 1903.03 149.992 Q1899.6 149.992 1897.68 152.538 Q1895.78 155.084 1895.78 159.714 Q1895.78 164.32 1897.68 166.866 Q1899.6 169.413 1903.03 169.413 Q1906.48 169.413 1908.37 166.866 Q1910.29 164.32 1910.29 159.714 M1914.55 169.76 Q1914.55 176.38 1911.61 179.598 Q1908.67 182.839 1902.61 182.839 Q1900.36 182.839 1898.37 182.491 Q1896.38 182.167 1894.51 181.473 L1894.51 177.329 Q1896.38 178.348 1898.21 178.834 Q1900.04 179.32 1901.94 179.32 Q1906.13 179.32 1908.21 177.121 Q1910.29 174.945 1910.29 170.524 L1910.29 168.417 Q1908.98 170.709 1906.92 171.843 Q1904.86 172.978 1901.98 172.978 Q1897.22 172.978 1894.3 169.343 Q1891.38 165.709 1891.38 159.714 Q1891.38 153.695 1894.3 150.061 Q1897.22 146.427 1901.98 146.427 Q1904.86 146.427 1906.92 147.561 Q1908.98 148.695 1910.29 150.987 L1910.29 147.052 L1914.55 147.052 L1914.55 169.76 Z\" fill=\"#000000\" fill-rule=\"evenodd\" fill-opacity=\"1\" /><path clip-path=\"url(#clip520)\" d=\"M 0 0 M1929.07 150.038 Q1925.64 150.038 1923.65 152.723 Q1921.66 155.385 1921.66 160.038 Q1921.66 164.691 1923.63 167.376 Q1925.62 170.038 1929.07 170.038 Q1932.47 170.038 1934.46 167.353 Q1936.45 164.667 1936.45 160.038 Q1936.45 155.431 1934.46 152.746 Q1932.47 150.038 1929.07 150.038 M1929.07 146.427 Q1934.62 146.427 1937.79 150.038 Q1940.97 153.649 1940.97 160.038 Q1940.97 166.404 1937.79 170.038 Q1934.62 173.649 1929.07 173.649 Q1923.49 173.649 1920.32 170.038 Q1917.17 166.404 1917.17 160.038 Q1917.17 153.649 1920.32 150.038 Q1923.49 146.427 1929.07 146.427 Z\" fill=\"#000000\" fill-rule=\"evenodd\" fill-opacity=\"1\" /><path clip-path=\"url(#clip520)\" d=\"M 0 0 M1945.57 136.959 L1949.83 136.959 L1949.83 150.894 L1952.73 148.811 L1954.48 151.265 L1949.83 154.529 L1949.83 172.978 L1945.57 172.978 L1945.57 157.561 L1942.73 159.598 L1941.01 157.144 L1945.57 153.88 L1945.57 136.959 Z\" fill=\"#000000\" fill-rule=\"evenodd\" fill-opacity=\"1\" /><path clip-path=\"url(#clip520)\" d=\"M 0 0 M1981.13 158.95 L1981.13 161.033 L1961.54 161.033 Q1961.82 165.431 1964.18 167.746 Q1966.57 170.038 1970.8 170.038 Q1973.26 170.038 1975.55 169.436 Q1977.86 168.834 1980.13 167.63 L1980.13 171.658 Q1977.84 172.63 1975.43 173.14 Q1973.03 173.649 1970.55 173.649 Q1964.35 173.649 1960.71 170.038 Q1957.1 166.427 1957.1 160.269 Q1957.1 153.904 1960.53 150.177 Q1963.98 146.427 1969.81 146.427 Q1975.04 146.427 1978.07 149.806 Q1981.13 153.163 1981.13 158.95 M1976.87 157.7 Q1976.82 154.205 1974.9 152.121 Q1973 150.038 1969.85 150.038 Q1966.29 150.038 1964.14 152.052 Q1962.01 154.066 1961.68 157.723 L1976.87 157.7 M1973.37 172.978 L1976.13 172.978 Q1975.09 174.39 1974.58 175.408 Q1974.09 176.427 1974.09 177.144 Q1974.09 178.209 1974.72 178.741 Q1975.36 179.274 1976.61 179.274 Q1977.35 179.274 1978.07 179.089 Q1978.79 178.927 1979.51 178.579 L1979.51 181.658 Q1978.63 181.89 1977.84 182.005 Q1977.05 182.121 1976.36 182.121 Q1973.54 182.121 1972.19 181.103 Q1970.87 180.107 1970.87 177.954 Q1970.87 176.843 1971.48 175.616 Q1972.1 174.413 1973.37 172.978 Z\" fill=\"#000000\" fill-rule=\"evenodd\" fill-opacity=\"1\" /><path clip-path=\"url(#clip520)\" d=\"M 0 0 M2004.21 160.038 Q2004.21 155.339 2002.26 152.677 Q2000.34 149.992 1996.96 149.992 Q1993.58 149.992 1991.64 152.677 Q1989.72 155.339 1989.72 160.038 Q1989.72 164.737 1991.64 167.422 Q1993.58 170.084 1996.96 170.084 Q2000.34 170.084 2002.26 167.422 Q2004.21 164.737 2004.21 160.038 M1989.72 150.987 Q1991.06 148.672 1993.1 147.561 Q1995.16 146.427 1998 146.427 Q2002.72 146.427 2005.66 150.177 Q2008.63 153.927 2008.63 160.038 Q2008.63 166.149 2005.66 169.899 Q2002.72 173.649 1998 173.649 Q1995.16 173.649 1993.1 172.538 Q1991.06 171.403 1989.72 169.089 L1989.72 172.978 L1985.43 172.978 L1985.43 136.959 L1989.72 136.959 L1989.72 150.987 Z\" fill=\"#000000\" fill-rule=\"evenodd\" fill-opacity=\"1\" /><path clip-path=\"url(#clip520)\" d=\"M 0 0 M2013.1 147.052 L2017.35 147.052 L2017.35 172.978 L2013.1 172.978 L2013.1 147.052 M2013.1 136.959 L2017.35 136.959 L2017.35 142.353 L2013.1 142.353 L2013.1 136.959 Z\" fill=\"#000000\" fill-rule=\"evenodd\" fill-opacity=\"1\" /><path clip-path=\"url(#clip520)\" d=\"M 0 0 M2044 158.95 L2044 161.033 L2024.41 161.033 Q2024.69 165.431 2027.05 167.746 Q2029.44 170.038 2033.67 170.038 Q2036.13 170.038 2038.42 169.436 Q2040.73 168.834 2043 167.63 L2043 171.658 Q2040.71 172.63 2038.3 173.14 Q2035.9 173.649 2033.42 173.649 Q2027.22 173.649 2023.58 170.038 Q2019.97 166.427 2019.97 160.269 Q2019.97 153.904 2023.4 150.177 Q2026.85 146.427 2032.68 146.427 Q2037.91 146.427 2040.94 149.806 Q2044 153.163 2044 158.95 M2039.74 157.7 Q2039.69 154.205 2037.77 152.121 Q2035.87 150.038 2032.72 150.038 Q2029.16 150.038 2027.01 152.052 Q2024.88 154.066 2024.55 157.723 L2039.74 157.7 Z\" fill=\"#000000\" fill-rule=\"evenodd\" fill-opacity=\"1\" /><polyline clip-path=\"url(#clip520)\" style=\"stroke:#e26f46; stroke-width:4; stroke-opacity:1; fill:none\" points=\"\n",
       "  1719.03,216.178 1866.76,216.178 \n",
       "  \"/>\n",
       "<path clip-path=\"url(#clip520)\" d=\"M 0 0 M1896.71 207.532 L1900.97 207.532 L1900.97 233.921 Q1900.97 238.874 1899.07 241.096 Q1897.19 243.319 1893 243.319 L1891.38 243.319 L1891.38 239.708 L1892.52 239.708 Q1894.95 239.708 1895.83 238.573 Q1896.71 237.462 1896.71 233.921 L1896.71 207.532 M1896.71 197.439 L1900.97 197.439 L1900.97 202.833 L1896.71 202.833 L1896.71 197.439 Z\" fill=\"#000000\" fill-rule=\"evenodd\" fill-opacity=\"1\" /><path clip-path=\"url(#clip520)\" d=\"M 0 0 M1917.22 220.425 Q1912.05 220.425 1910.06 221.606 Q1908.07 222.786 1908.07 225.634 Q1908.07 227.902 1909.55 229.245 Q1911.06 230.564 1913.63 230.564 Q1917.17 230.564 1919.3 228.064 Q1921.45 225.541 1921.45 221.374 L1921.45 220.425 L1917.22 220.425 M1925.71 218.666 L1925.71 233.458 L1921.45 233.458 L1921.45 229.522 Q1919.99 231.883 1917.82 233.018 Q1915.64 234.129 1912.49 234.129 Q1908.51 234.129 1906.15 231.907 Q1903.81 229.661 1903.81 225.911 Q1903.81 221.536 1906.73 219.314 Q1909.67 217.092 1915.48 217.092 L1921.45 217.092 L1921.45 216.675 Q1921.45 213.735 1919.51 212.138 Q1917.59 210.518 1914.09 210.518 Q1911.87 210.518 1909.76 211.05 Q1907.66 211.583 1905.71 212.647 L1905.71 208.712 Q1908.05 207.81 1910.25 207.37 Q1912.45 206.907 1914.53 206.907 Q1920.16 206.907 1922.93 209.823 Q1925.71 212.74 1925.71 218.666 Z\" fill=\"#000000\" fill-rule=\"evenodd\" fill-opacity=\"1\" /><path clip-path=\"url(#clip520)\" d=\"M 0 0 M1946.71 208.296 L1946.71 212.323 Q1944.9 211.397 1942.96 210.935 Q1941.01 210.472 1938.93 210.472 Q1935.76 210.472 1934.16 211.444 Q1932.59 212.416 1932.59 214.36 Q1932.59 215.842 1933.72 216.698 Q1934.85 217.532 1938.28 218.296 L1939.74 218.62 Q1944.28 219.592 1946.17 221.374 Q1948.1 223.134 1948.1 226.305 Q1948.1 229.916 1945.23 232.022 Q1942.38 234.129 1937.38 234.129 Q1935.29 234.129 1933.03 233.712 Q1930.78 233.319 1928.28 232.508 L1928.28 228.11 Q1930.64 229.337 1932.93 229.962 Q1935.23 230.564 1937.47 230.564 Q1940.48 230.564 1942.1 229.546 Q1943.72 228.504 1943.72 226.629 Q1943.72 224.893 1942.54 223.967 Q1941.38 223.041 1937.42 222.184 L1935.94 221.837 Q1931.98 221.004 1930.23 219.291 Q1928.47 217.555 1928.47 214.546 Q1928.47 210.888 1931.06 208.898 Q1933.65 206.907 1938.42 206.907 Q1940.78 206.907 1942.86 207.254 Q1944.95 207.601 1946.71 208.296 Z\" fill=\"#000000\" fill-rule=\"evenodd\" fill-opacity=\"1\" /><path clip-path=\"url(#clip520)\" d=\"M 0 0 M1956.78 200.171 L1956.78 207.532 L1965.55 207.532 L1965.55 210.842 L1956.78 210.842 L1956.78 224.916 Q1956.78 228.087 1957.63 228.99 Q1958.51 229.893 1961.17 229.893 L1965.55 229.893 L1965.55 233.458 L1961.17 233.458 Q1956.24 233.458 1954.37 231.629 Q1952.49 229.777 1952.49 224.916 L1952.49 210.842 L1949.37 210.842 L1949.37 207.532 L1952.49 207.532 L1952.49 200.171 L1956.78 200.171 Z\" fill=\"#000000\" fill-rule=\"evenodd\" fill-opacity=\"1\" /><path clip-path=\"url(#clip520)\" d=\"M 0 0 M1985.04 211.513 Q1984.32 211.097 1983.47 210.911 Q1982.63 210.703 1981.61 210.703 Q1978 210.703 1976.06 213.064 Q1974.14 215.402 1974.14 219.8 L1974.14 233.458 L1969.85 233.458 L1969.85 207.532 L1974.14 207.532 L1974.14 211.56 Q1975.48 209.198 1977.63 208.064 Q1979.79 206.907 1982.86 206.907 Q1983.3 206.907 1983.84 206.976 Q1984.37 207.023 1985.02 207.138 L1985.04 211.513 Z\" fill=\"#000000\" fill-rule=\"evenodd\" fill-opacity=\"1\" /><path clip-path=\"url(#clip520)\" d=\"M 0 0 M1987.66 207.532 L2007.89 207.532 L2007.89 211.421 L1991.87 230.055 L2007.89 230.055 L2007.89 233.458 L1987.08 233.458 L1987.08 229.569 L2003.1 210.935 L1987.66 210.935 L1987.66 207.532 Z\" fill=\"#000000\" fill-rule=\"evenodd\" fill-opacity=\"1\" /><path clip-path=\"url(#clip520)\" d=\"M 0 0 M2034.53 219.43 L2034.53 221.513 L2014.95 221.513 Q2015.22 225.911 2017.59 228.226 Q2019.97 230.518 2024.21 230.518 Q2026.66 230.518 2028.95 229.916 Q2031.27 229.314 2033.53 228.11 L2033.53 232.138 Q2031.24 233.11 2028.84 233.62 Q2026.43 234.129 2023.95 234.129 Q2017.75 234.129 2014.11 230.518 Q2010.5 226.907 2010.5 220.749 Q2010.5 214.384 2013.93 210.657 Q2017.38 206.907 2023.21 206.907 Q2028.44 206.907 2031.47 210.286 Q2034.53 213.643 2034.53 219.43 M2030.27 218.18 Q2030.22 214.685 2028.3 212.601 Q2026.41 210.518 2023.26 210.518 Q2019.69 210.518 2017.54 212.532 Q2015.41 214.546 2015.09 218.203 L2030.27 218.18 M2026.78 233.458 L2029.53 233.458 Q2028.49 234.87 2027.98 235.888 Q2027.49 236.907 2027.49 237.624 Q2027.49 238.689 2028.12 239.221 Q2028.77 239.754 2030.02 239.754 Q2030.76 239.754 2031.47 239.569 Q2032.19 239.407 2032.91 239.059 L2032.91 242.138 Q2032.03 242.37 2031.24 242.485 Q2030.46 242.601 2029.76 242.601 Q2026.94 242.601 2025.6 241.583 Q2024.28 240.587 2024.28 238.434 Q2024.28 237.323 2024.88 236.096 Q2025.5 234.893 2026.78 233.458 Z\" fill=\"#000000\" fill-rule=\"evenodd\" fill-opacity=\"1\" /><path clip-path=\"url(#clip520)\" d=\"M 0 0 M2057.61 220.518 Q2057.61 215.819 2055.66 213.157 Q2053.74 210.472 2050.36 210.472 Q2046.98 210.472 2045.04 213.157 Q2043.12 215.819 2043.12 220.518 Q2043.12 225.217 2045.04 227.902 Q2046.98 230.564 2050.36 230.564 Q2053.74 230.564 2055.66 227.902 Q2057.61 225.217 2057.61 220.518 M2043.12 211.467 Q2044.46 209.152 2046.5 208.041 Q2048.56 206.907 2051.41 206.907 Q2056.13 206.907 2059.07 210.657 Q2062.03 214.407 2062.03 220.518 Q2062.03 226.629 2059.07 230.379 Q2056.13 234.129 2051.41 234.129 Q2048.56 234.129 2046.5 233.018 Q2044.46 231.883 2043.12 229.569 L2043.12 233.458 L2038.84 233.458 L2038.84 197.439 L2043.12 197.439 L2043.12 211.467 Z\" fill=\"#000000\" fill-rule=\"evenodd\" fill-opacity=\"1\" /><path clip-path=\"url(#clip520)\" d=\"M 0 0 M2066.5 207.532 L2070.76 207.532 L2070.76 233.458 L2066.5 233.458 L2066.5 207.532 M2066.5 197.439 L2070.76 197.439 L2070.76 202.833 L2066.5 202.833 L2066.5 197.439 Z\" fill=\"#000000\" fill-rule=\"evenodd\" fill-opacity=\"1\" /><path clip-path=\"url(#clip520)\" d=\"M 0 0 M2097.4 219.43 L2097.4 221.513 L2077.82 221.513 Q2078.09 225.911 2080.46 228.226 Q2082.84 230.518 2087.08 230.518 Q2089.53 230.518 2091.82 229.916 Q2094.14 229.314 2096.41 228.11 L2096.41 232.138 Q2094.11 233.11 2091.71 233.62 Q2089.3 234.129 2086.82 234.129 Q2080.62 234.129 2076.98 230.518 Q2073.37 226.907 2073.37 220.749 Q2073.37 214.384 2076.8 210.657 Q2080.25 206.907 2086.08 206.907 Q2091.31 206.907 2094.34 210.286 Q2097.4 213.643 2097.4 219.43 M2093.14 218.18 Q2093.09 214.685 2091.17 212.601 Q2089.28 210.518 2086.13 210.518 Q2082.56 210.518 2080.41 212.532 Q2078.28 214.546 2077.96 218.203 L2093.14 218.18 Z\" fill=\"#000000\" fill-rule=\"evenodd\" fill-opacity=\"1\" /><polyline clip-path=\"url(#clip520)\" style=\"stroke:#3da44d; stroke-width:4; stroke-opacity:1; fill:none\" points=\"\n",
       "  1719.03,276.658 1866.76,276.658 \n",
       "  \"/>\n",
       "<path clip-path=\"url(#clip520)\" d=\"M 0 0 M1911.89 269.007 L1911.89 272.989 Q1910.09 271.993 1908.26 271.507 Q1906.45 270.998 1904.6 270.998 Q1900.46 270.998 1898.17 273.637 Q1895.87 276.252 1895.87 280.998 Q1895.87 285.743 1898.17 288.382 Q1900.46 290.998 1904.6 290.998 Q1906.45 290.998 1908.26 290.512 Q1910.09 290.002 1911.89 289.007 L1911.89 292.942 Q1910.11 293.776 1908.19 294.192 Q1906.29 294.609 1904.14 294.609 Q1898.28 294.609 1894.83 290.928 Q1891.38 287.248 1891.38 280.998 Q1891.38 274.655 1894.86 271.021 Q1898.35 267.387 1904.42 267.387 Q1906.38 267.387 1908.26 267.803 Q1910.13 268.197 1911.89 269.007 Z\" fill=\"#000000\" fill-rule=\"evenodd\" fill-opacity=\"1\" /><path clip-path=\"url(#clip520)\" d=\"M 0 0 M1937.91 278.289 L1937.91 293.938 L1933.65 293.938 L1933.65 278.428 Q1933.65 274.748 1932.22 272.919 Q1930.78 271.09 1927.91 271.09 Q1924.46 271.09 1922.47 273.29 Q1920.48 275.489 1920.48 279.285 L1920.48 293.938 L1916.2 293.938 L1916.2 257.919 L1920.48 257.919 L1920.48 272.04 Q1922.01 269.702 1924.07 268.544 Q1926.15 267.387 1928.86 267.387 Q1933.33 267.387 1935.62 270.165 Q1937.91 272.919 1937.91 278.289 Z\" fill=\"#000000\" fill-rule=\"evenodd\" fill-opacity=\"1\" /><path clip-path=\"url(#clip520)\" d=\"M 0 0 M1952.42 270.998 Q1949 270.998 1947.01 273.683 Q1945.02 276.345 1945.02 280.998 Q1945.02 285.651 1946.98 288.336 Q1948.98 290.998 1952.42 290.998 Q1955.83 290.998 1957.82 288.313 Q1959.81 285.627 1959.81 280.998 Q1959.81 276.391 1957.82 273.706 Q1955.83 270.998 1952.42 270.998 M1952.42 267.387 Q1957.98 267.387 1961.15 270.998 Q1964.32 274.609 1964.32 280.998 Q1964.32 287.364 1961.15 290.998 Q1957.98 294.609 1952.42 294.609 Q1946.85 294.609 1943.67 290.998 Q1940.53 287.364 1940.53 280.998 Q1940.53 274.609 1943.67 270.998 Q1946.85 267.387 1952.42 267.387 Z\" fill=\"#000000\" fill-rule=\"evenodd\" fill-opacity=\"1\" /><path clip-path=\"url(#clip520)\" d=\"M 0 0 M1983.81 271.993 Q1983.1 271.577 1982.24 271.391 Q1981.41 271.183 1980.39 271.183 Q1976.78 271.183 1974.83 273.544 Q1972.91 275.882 1972.91 280.28 L1972.91 293.938 L1968.63 293.938 L1968.63 268.012 L1972.91 268.012 L1972.91 272.04 Q1974.25 269.678 1976.41 268.544 Q1978.56 267.387 1981.64 267.387 Q1982.08 267.387 1982.61 267.456 Q1983.14 267.503 1983.79 267.618 L1983.81 271.993 Z\" fill=\"#000000\" fill-rule=\"evenodd\" fill-opacity=\"1\" /><path clip-path=\"url(#clip520)\" d=\"M 0 0 M2009.41 279.91 L2009.41 281.993 L1989.83 281.993 Q1990.11 286.391 1992.47 288.706 Q1994.85 290.998 1999.09 290.998 Q2001.54 290.998 2003.84 290.396 Q2006.15 289.794 2008.42 288.59 L2008.42 292.618 Q2006.13 293.59 2003.72 294.1 Q2001.31 294.609 1998.84 294.609 Q1992.63 294.609 1989 290.998 Q1985.39 287.387 1985.39 281.229 Q1985.39 274.864 1988.81 271.137 Q1992.26 267.387 1998.1 267.387 Q2003.33 267.387 2006.36 270.766 Q2009.41 274.123 2009.41 279.91 M2005.16 278.66 Q2005.11 275.165 2003.19 273.081 Q2001.29 270.998 1998.14 270.998 Q1994.58 270.998 1992.42 273.012 Q1990.29 275.026 1989.97 278.683 L2005.16 278.66 Z\" fill=\"#000000\" fill-rule=\"evenodd\" fill-opacity=\"1\" /><path clip-path=\"url(#clip520)\" d=\"M 0 0 M2046.01 280.674 Q2046.01 276.044 2044.09 273.498 Q2042.19 270.952 2038.74 270.952 Q2035.32 270.952 2033.4 273.498 Q2031.5 276.044 2031.5 280.674 Q2031.5 285.28 2033.4 287.826 Q2035.32 290.373 2038.74 290.373 Q2042.19 290.373 2044.09 287.826 Q2046.01 285.28 2046.01 280.674 M2050.27 290.72 Q2050.27 297.34 2047.33 300.558 Q2044.39 303.799 2038.33 303.799 Q2036.08 303.799 2034.09 303.451 Q2032.1 303.127 2030.22 302.433 L2030.22 298.289 Q2032.1 299.308 2033.93 299.794 Q2035.76 300.28 2037.66 300.28 Q2041.85 300.28 2043.93 298.081 Q2046.01 295.905 2046.01 291.484 L2046.01 289.377 Q2044.69 291.669 2042.63 292.803 Q2040.57 293.938 2037.7 293.938 Q2032.93 293.938 2030.02 290.303 Q2027.1 286.669 2027.1 280.674 Q2027.1 274.655 2030.02 271.021 Q2032.93 267.387 2037.7 267.387 Q2040.57 267.387 2042.63 268.521 Q2044.69 269.655 2046.01 271.947 L2046.01 268.012 L2050.27 268.012 L2050.27 290.72 Z\" fill=\"#000000\" fill-rule=\"evenodd\" fill-opacity=\"1\" /><path clip-path=\"url(#clip520)\" d=\"M 0 0 M2064.78 270.998 Q2061.36 270.998 2059.37 273.683 Q2057.38 276.345 2057.38 280.998 Q2057.38 285.651 2059.35 288.336 Q2061.34 290.998 2064.78 290.998 Q2068.19 290.998 2070.18 288.313 Q2072.17 285.627 2072.17 280.998 Q2072.17 276.391 2070.18 273.706 Q2068.19 270.998 2064.78 270.998 M2064.78 267.387 Q2070.34 267.387 2073.51 270.998 Q2076.68 274.609 2076.68 280.998 Q2076.68 287.364 2073.51 290.998 Q2070.34 294.609 2064.78 294.609 Q2059.21 294.609 2056.03 290.998 Q2052.89 287.364 2052.89 280.998 Q2052.89 274.609 2056.03 270.998 Q2059.21 267.387 2064.78 267.387 Z\" fill=\"#000000\" fill-rule=\"evenodd\" fill-opacity=\"1\" /><path clip-path=\"url(#clip520)\" d=\"M 0 0 M2081.29 257.919 L2085.55 257.919 L2085.55 271.854 L2088.44 269.771 L2090.2 272.225 L2085.55 275.489 L2085.55 293.938 L2081.29 293.938 L2081.29 278.521 L2078.44 280.558 L2076.73 278.104 L2081.29 274.84 L2081.29 257.919 Z\" fill=\"#000000\" fill-rule=\"evenodd\" fill-opacity=\"1\" /><path clip-path=\"url(#clip520)\" d=\"M 0 0 M2116.84 279.91 L2116.84 281.993 L2097.26 281.993 Q2097.54 286.391 2099.9 288.706 Q2102.28 290.998 2106.52 290.998 Q2108.97 290.998 2111.27 290.396 Q2113.58 289.794 2115.85 288.59 L2115.85 292.618 Q2113.56 293.59 2111.15 294.1 Q2108.74 294.609 2106.27 294.609 Q2100.06 294.609 2096.43 290.998 Q2092.82 287.387 2092.82 281.229 Q2092.82 274.864 2096.24 271.137 Q2099.69 267.387 2105.53 267.387 Q2110.76 267.387 2113.79 270.766 Q2116.84 274.123 2116.84 279.91 M2112.59 278.66 Q2112.54 275.165 2110.62 273.081 Q2108.72 270.998 2105.57 270.998 Q2102.01 270.998 2099.85 273.012 Q2097.72 275.026 2097.4 278.683 L2112.59 278.66 M2109.09 293.938 L2111.84 293.938 Q2110.8 295.35 2110.29 296.368 Q2109.81 297.387 2109.81 298.104 Q2109.81 299.169 2110.43 299.701 Q2111.08 300.234 2112.33 300.234 Q2113.07 300.234 2113.79 300.049 Q2114.51 299.887 2115.22 299.539 L2115.22 302.618 Q2114.34 302.85 2113.56 302.965 Q2112.77 303.081 2112.08 303.081 Q2109.25 303.081 2107.91 302.063 Q2106.59 301.067 2106.59 298.914 Q2106.59 297.803 2107.19 296.576 Q2107.82 295.373 2109.09 293.938 Z\" fill=\"#000000\" fill-rule=\"evenodd\" fill-opacity=\"1\" /><path clip-path=\"url(#clip520)\" d=\"M 0 0 M2139.92 280.998 Q2139.92 276.299 2137.98 273.637 Q2136.06 270.952 2132.68 270.952 Q2129.3 270.952 2127.35 273.637 Q2125.43 276.299 2125.43 280.998 Q2125.43 285.697 2127.35 288.382 Q2129.3 291.044 2132.68 291.044 Q2136.06 291.044 2137.98 288.382 Q2139.92 285.697 2139.92 280.998 M2125.43 271.947 Q2126.78 269.632 2128.81 268.521 Q2130.87 267.387 2133.72 267.387 Q2138.44 267.387 2141.38 271.137 Q2144.34 274.887 2144.34 280.998 Q2144.34 287.109 2141.38 290.859 Q2138.44 294.609 2133.72 294.609 Q2130.87 294.609 2128.81 293.498 Q2126.78 292.363 2125.43 290.049 L2125.43 293.938 L2121.15 293.938 L2121.15 257.919 L2125.43 257.919 L2125.43 271.947 Z\" fill=\"#000000\" fill-rule=\"evenodd\" fill-opacity=\"1\" /><path clip-path=\"url(#clip520)\" d=\"M 0 0 M2148.81 268.012 L2153.07 268.012 L2153.07 293.938 L2148.81 293.938 L2148.81 268.012 M2148.81 257.919 L2153.07 257.919 L2153.07 263.313 L2148.81 263.313 L2148.81 257.919 Z\" fill=\"#000000\" fill-rule=\"evenodd\" fill-opacity=\"1\" /><path clip-path=\"url(#clip520)\" d=\"M 0 0 M2179.71 279.91 L2179.71 281.993 L2160.13 281.993 Q2160.41 286.391 2162.77 288.706 Q2165.15 290.998 2169.39 290.998 Q2171.84 290.998 2174.14 290.396 Q2176.45 289.794 2178.72 288.59 L2178.72 292.618 Q2176.43 293.59 2174.02 294.1 Q2171.61 294.609 2169.14 294.609 Q2162.93 294.609 2159.3 290.998 Q2155.69 287.387 2155.69 281.229 Q2155.69 274.864 2159.11 271.137 Q2162.56 267.387 2168.4 267.387 Q2173.63 267.387 2176.66 270.766 Q2179.71 274.123 2179.71 279.91 M2175.46 278.66 Q2175.41 275.165 2173.49 273.081 Q2171.59 270.998 2168.44 270.998 Q2164.88 270.998 2162.72 273.012 Q2160.59 275.026 2160.27 278.683 L2175.46 278.66 Z\" fill=\"#000000\" fill-rule=\"evenodd\" fill-opacity=\"1\" /><polyline clip-path=\"url(#clip520)\" style=\"stroke:#c271d2; stroke-width:4; stroke-opacity:1; fill:none\" points=\"\n",
       "  1719.03,337.138 1866.76,337.138 \n",
       "  \"/>\n",
       "<path clip-path=\"url(#clip520)\" d=\"M 0 0 M1911.89 329.487 L1911.89 333.469 Q1910.09 332.473 1908.26 331.987 Q1906.45 331.478 1904.6 331.478 Q1900.46 331.478 1898.17 334.117 Q1895.87 336.732 1895.87 341.478 Q1895.87 346.223 1898.17 348.862 Q1900.46 351.478 1904.6 351.478 Q1906.45 351.478 1908.26 350.992 Q1910.09 350.482 1911.89 349.487 L1911.89 353.422 Q1910.11 354.256 1908.19 354.672 Q1906.29 355.089 1904.14 355.089 Q1898.28 355.089 1894.83 351.408 Q1891.38 347.728 1891.38 341.478 Q1891.38 335.135 1894.86 331.501 Q1898.35 327.867 1904.42 327.867 Q1906.38 327.867 1908.26 328.283 Q1910.13 328.677 1911.89 329.487 Z\" fill=\"#000000\" fill-rule=\"evenodd\" fill-opacity=\"1\" /><path clip-path=\"url(#clip520)\" d=\"M 0 0 M1937.91 338.769 L1937.91 354.418 L1933.65 354.418 L1933.65 338.908 Q1933.65 335.228 1932.22 333.399 Q1930.78 331.57 1927.91 331.57 Q1924.46 331.57 1922.47 333.77 Q1920.48 335.969 1920.48 339.765 L1920.48 354.418 L1916.2 354.418 L1916.2 318.399 L1920.48 318.399 L1920.48 332.52 Q1922.01 330.182 1924.07 329.024 Q1926.15 327.867 1928.86 327.867 Q1933.33 327.867 1935.62 330.645 Q1937.91 333.399 1937.91 338.769 Z\" fill=\"#000000\" fill-rule=\"evenodd\" fill-opacity=\"1\" /><path clip-path=\"url(#clip520)\" d=\"M 0 0 M1952.42 331.478 Q1949 331.478 1947.01 334.163 Q1945.02 336.825 1945.02 341.478 Q1945.02 346.131 1946.98 348.816 Q1948.98 351.478 1952.42 351.478 Q1955.83 351.478 1957.82 348.793 Q1959.81 346.107 1959.81 341.478 Q1959.81 336.871 1957.82 334.186 Q1955.83 331.478 1952.42 331.478 M1952.42 327.867 Q1957.98 327.867 1961.15 331.478 Q1964.32 335.089 1964.32 341.478 Q1964.32 347.844 1961.15 351.478 Q1957.98 355.089 1952.42 355.089 Q1946.85 355.089 1943.67 351.478 Q1940.53 347.844 1940.53 341.478 Q1940.53 335.089 1943.67 331.478 Q1946.85 327.867 1952.42 327.867 Z\" fill=\"#000000\" fill-rule=\"evenodd\" fill-opacity=\"1\" /><path clip-path=\"url(#clip520)\" d=\"M 0 0 M1983.81 332.473 Q1983.1 332.057 1982.24 331.871 Q1981.41 331.663 1980.39 331.663 Q1976.78 331.663 1974.83 334.024 Q1972.91 336.362 1972.91 340.76 L1972.91 354.418 L1968.63 354.418 L1968.63 328.492 L1972.91 328.492 L1972.91 332.52 Q1974.25 330.158 1976.41 329.024 Q1978.56 327.867 1981.64 327.867 Q1982.08 327.867 1982.61 327.936 Q1983.14 327.983 1983.79 328.098 L1983.81 332.473 Z\" fill=\"#000000\" fill-rule=\"evenodd\" fill-opacity=\"1\" /><path clip-path=\"url(#clip520)\" d=\"M 0 0 M2009.41 340.39 L2009.41 342.473 L1989.83 342.473 Q1990.11 346.871 1992.47 349.186 Q1994.85 351.478 1999.09 351.478 Q2001.54 351.478 2003.84 350.876 Q2006.15 350.274 2008.42 349.07 L2008.42 353.098 Q2006.13 354.07 2003.72 354.58 Q2001.31 355.089 1998.84 355.089 Q1992.63 355.089 1989 351.478 Q1985.39 347.867 1985.39 341.709 Q1985.39 335.344 1988.81 331.617 Q1992.26 327.867 1998.1 327.867 Q2003.33 327.867 2006.36 331.246 Q2009.41 334.603 2009.41 340.39 M2005.16 339.14 Q2005.11 335.645 2003.19 333.561 Q2001.29 331.478 1998.14 331.478 Q1994.58 331.478 1992.42 333.492 Q1990.29 335.506 1989.97 339.163 L2005.16 339.14 Z\" fill=\"#000000\" fill-rule=\"evenodd\" fill-opacity=\"1\" /><path clip-path=\"url(#clip520)\" d=\"M 0 0 M2028.95 328.492 L2033.21 328.492 L2033.21 354.881 Q2033.21 359.834 2031.31 362.056 Q2029.44 364.279 2025.25 364.279 L2023.63 364.279 L2023.63 360.668 L2024.76 360.668 Q2027.19 360.668 2028.07 359.533 Q2028.95 358.422 2028.95 354.881 L2028.95 328.492 M2028.95 318.399 L2033.21 318.399 L2033.21 323.793 L2028.95 323.793 L2028.95 318.399 Z\" fill=\"#000000\" fill-rule=\"evenodd\" fill-opacity=\"1\" /><path clip-path=\"url(#clip520)\" d=\"M 0 0 M2049.46 341.385 Q2044.3 341.385 2042.31 342.566 Q2040.32 343.746 2040.32 346.594 Q2040.32 348.862 2041.8 350.205 Q2043.3 351.524 2045.87 351.524 Q2049.41 351.524 2051.54 349.024 Q2053.7 346.501 2053.7 342.334 L2053.7 341.385 L2049.46 341.385 M2057.96 339.626 L2057.96 354.418 L2053.7 354.418 L2053.7 350.482 Q2052.24 352.843 2050.06 353.978 Q2047.89 355.089 2044.74 355.089 Q2040.76 355.089 2038.4 352.867 Q2036.06 350.621 2036.06 346.871 Q2036.06 342.496 2038.97 340.274 Q2041.91 338.052 2047.72 338.052 L2053.7 338.052 L2053.7 337.635 Q2053.7 334.695 2051.75 333.098 Q2049.83 331.478 2046.34 331.478 Q2044.11 331.478 2042.01 332.01 Q2039.9 332.543 2037.96 333.607 L2037.96 329.672 Q2040.29 328.77 2042.49 328.33 Q2044.69 327.867 2046.78 327.867 Q2052.4 327.867 2055.18 330.783 Q2057.96 333.7 2057.96 339.626 Z\" fill=\"#000000\" fill-rule=\"evenodd\" fill-opacity=\"1\" /><path clip-path=\"url(#clip520)\" d=\"M 0 0 M2078.95 329.256 L2078.95 333.283 Q2077.15 332.357 2075.2 331.895 Q2073.26 331.432 2071.17 331.432 Q2068 331.432 2066.41 332.404 Q2064.83 333.376 2064.83 335.32 Q2064.83 336.802 2065.97 337.658 Q2067.1 338.492 2070.53 339.256 L2071.98 339.58 Q2076.52 340.552 2078.42 342.334 Q2080.34 344.094 2080.34 347.265 Q2080.34 350.876 2077.47 352.982 Q2074.62 355.089 2069.62 355.089 Q2067.54 355.089 2065.27 354.672 Q2063.03 354.279 2060.53 353.468 L2060.53 349.07 Q2062.89 350.297 2065.18 350.922 Q2067.47 351.524 2069.72 351.524 Q2072.72 351.524 2074.34 350.506 Q2075.97 349.464 2075.97 347.589 Q2075.97 345.853 2074.78 344.927 Q2073.63 344.001 2069.67 343.144 L2068.19 342.797 Q2064.23 341.964 2062.47 340.251 Q2060.71 338.515 2060.71 335.506 Q2060.71 331.848 2063.3 329.858 Q2065.9 327.867 2070.66 327.867 Q2073.03 327.867 2075.11 328.214 Q2077.19 328.561 2078.95 329.256 Z\" fill=\"#000000\" fill-rule=\"evenodd\" fill-opacity=\"1\" /><path clip-path=\"url(#clip520)\" d=\"M 0 0 M2089.02 321.131 L2089.02 328.492 L2097.79 328.492 L2097.79 331.802 L2089.02 331.802 L2089.02 345.876 Q2089.02 349.047 2089.88 349.95 Q2090.76 350.853 2093.42 350.853 L2097.79 350.853 L2097.79 354.418 L2093.42 354.418 Q2088.49 354.418 2086.61 352.589 Q2084.74 350.737 2084.74 345.876 L2084.74 331.802 L2081.61 331.802 L2081.61 328.492 L2084.74 328.492 L2084.74 321.131 L2089.02 321.131 Z\" fill=\"#000000\" fill-rule=\"evenodd\" fill-opacity=\"1\" /><path clip-path=\"url(#clip520)\" d=\"M 0 0 M2117.28 332.473 Q2116.57 332.057 2115.71 331.871 Q2114.88 331.663 2113.86 331.663 Q2110.25 331.663 2108.3 334.024 Q2106.38 336.362 2106.38 340.76 L2106.38 354.418 L2102.1 354.418 L2102.1 328.492 L2106.38 328.492 L2106.38 332.52 Q2107.72 330.158 2109.88 329.024 Q2112.03 327.867 2115.11 327.867 Q2115.55 327.867 2116.08 327.936 Q2116.61 327.983 2117.26 328.098 L2117.28 332.473 Z\" fill=\"#000000\" fill-rule=\"evenodd\" fill-opacity=\"1\" /><path clip-path=\"url(#clip520)\" d=\"M 0 0 M2119.9 328.492 L2140.13 328.492 L2140.13 332.381 L2124.11 351.015 L2140.13 351.015 L2140.13 354.418 L2119.32 354.418 L2119.32 350.529 L2135.34 331.895 L2119.9 331.895 L2119.9 328.492 Z\" fill=\"#000000\" fill-rule=\"evenodd\" fill-opacity=\"1\" /><path clip-path=\"url(#clip520)\" d=\"M 0 0 M2166.78 340.39 L2166.78 342.473 L2147.19 342.473 Q2147.47 346.871 2149.83 349.186 Q2152.21 351.478 2156.45 351.478 Q2158.9 351.478 2161.2 350.876 Q2163.51 350.274 2165.78 349.07 L2165.78 353.098 Q2163.49 354.07 2161.08 354.58 Q2158.67 355.089 2156.2 355.089 Q2149.99 355.089 2146.36 351.478 Q2142.75 347.867 2142.75 341.709 Q2142.75 335.344 2146.17 331.617 Q2149.62 327.867 2155.46 327.867 Q2160.69 327.867 2163.72 331.246 Q2166.78 334.603 2166.78 340.39 M2162.52 339.14 Q2162.47 335.645 2160.55 333.561 Q2158.65 331.478 2155.5 331.478 Q2151.94 331.478 2149.78 333.492 Q2147.65 335.506 2147.33 339.163 L2162.52 339.14 M2159.02 354.418 L2161.78 354.418 Q2160.73 355.83 2160.22 356.848 Q2159.74 357.867 2159.74 358.584 Q2159.74 359.649 2160.36 360.181 Q2161.01 360.714 2162.26 360.714 Q2163 360.714 2163.72 360.529 Q2164.44 360.367 2165.15 360.019 L2165.15 363.098 Q2164.28 363.33 2163.49 363.445 Q2162.7 363.561 2162.01 363.561 Q2159.18 363.561 2157.84 362.543 Q2156.52 361.547 2156.52 359.394 Q2156.52 358.283 2157.12 357.056 Q2157.75 355.853 2159.02 354.418 Z\" fill=\"#000000\" fill-rule=\"evenodd\" fill-opacity=\"1\" /><path clip-path=\"url(#clip520)\" d=\"M 0 0 M2189.85 341.478 Q2189.85 336.779 2187.91 334.117 Q2185.99 331.432 2182.61 331.432 Q2179.23 331.432 2177.28 334.117 Q2175.36 336.779 2175.36 341.478 Q2175.36 346.177 2177.28 348.862 Q2179.23 351.524 2182.61 351.524 Q2185.99 351.524 2187.91 348.862 Q2189.85 346.177 2189.85 341.478 M2175.36 332.427 Q2176.71 330.112 2178.74 329.001 Q2180.8 327.867 2183.65 327.867 Q2188.37 327.867 2191.31 331.617 Q2194.27 335.367 2194.27 341.478 Q2194.27 347.589 2191.31 351.339 Q2188.37 355.089 2183.65 355.089 Q2180.8 355.089 2178.74 353.978 Q2176.71 352.843 2175.36 350.529 L2175.36 354.418 L2171.08 354.418 L2171.08 318.399 L2175.36 318.399 L2175.36 332.427 Z\" fill=\"#000000\" fill-rule=\"evenodd\" fill-opacity=\"1\" /><path clip-path=\"url(#clip520)\" d=\"M 0 0 M2198.74 328.492 L2203 328.492 L2203 354.418 L2198.74 354.418 L2198.74 328.492 M2198.74 318.399 L2203 318.399 L2203 323.793 L2198.74 323.793 L2198.74 318.399 Z\" fill=\"#000000\" fill-rule=\"evenodd\" fill-opacity=\"1\" /><path clip-path=\"url(#clip520)\" d=\"M 0 0 M2229.65 340.39 L2229.65 342.473 L2210.06 342.473 Q2210.34 346.871 2212.7 349.186 Q2215.08 351.478 2219.32 351.478 Q2221.77 351.478 2224.07 350.876 Q2226.38 350.274 2228.65 349.07 L2228.65 353.098 Q2226.36 354.07 2223.95 354.58 Q2221.54 355.089 2219.07 355.089 Q2212.86 355.089 2209.23 351.478 Q2205.62 347.867 2205.62 341.709 Q2205.62 335.344 2209.04 331.617 Q2212.49 327.867 2218.33 327.867 Q2223.56 327.867 2226.59 331.246 Q2229.65 334.603 2229.65 340.39 M2225.39 339.14 Q2225.34 335.645 2223.42 333.561 Q2221.52 331.478 2218.37 331.478 Q2214.81 331.478 2212.65 333.492 Q2210.52 335.506 2210.2 339.163 L2225.39 339.14 Z\" fill=\"#000000\" fill-rule=\"evenodd\" fill-opacity=\"1\" /></svg>\n"
      ]
     },
     "execution_count": 307,
     "metadata": {},
     "output_type": "execute_result"
    }
   ],
   "source": [
    "wykresy_all(9,9,40,20,40,20,100)"
   ]
  },
  {
   "cell_type": "markdown",
   "metadata": {},
   "source": [
    "chyba jakoś działa, ale w sumie to ciężko powiedzieć"
   ]
  },
  {
   "cell_type": "code",
   "execution_count": null,
   "metadata": {},
   "outputs": [],
   "source": []
  },
  {
   "cell_type": "code",
   "execution_count": null,
   "metadata": {},
   "outputs": [],
   "source": []
  },
  {
   "cell_type": "code",
   "execution_count": null,
   "metadata": {},
   "outputs": [],
   "source": []
  }
 ],
 "metadata": {
  "kernelspec": {
   "display_name": "Julia 1.5.3",
   "language": "julia",
   "name": "julia-1.5"
  },
  "language_info": {
   "file_extension": ".jl",
   "mimetype": "application/julia",
   "name": "julia",
   "version": "1.5.3"
  }
 },
 "nbformat": 4,
 "nbformat_minor": 4
}
