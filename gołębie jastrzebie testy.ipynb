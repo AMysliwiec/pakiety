{
 "cells": [
  {
   "cell_type": "code",
   "execution_count": 1,
   "metadata": {},
   "outputs": [],
   "source": [
    "using Plots"
   ]
  },
  {
   "cell_type": "code",
   "execution_count": 38,
   "metadata": {},
   "outputs": [],
   "source": [
    "using WebIO"
   ]
  },
  {
   "cell_type": "code",
   "execution_count": 39,
   "metadata": {},
   "outputs": [],
   "source": [
    "using Interact"
   ]
  },
  {
   "cell_type": "code",
   "execution_count": null,
   "metadata": {},
   "outputs": [],
   "source": []
  },
  {
   "cell_type": "markdown",
   "metadata": {},
   "source": [
    "### funkcja generująca środowisko z pakietami żywnościowymi"
   ]
  },
  {
   "cell_type": "code",
   "execution_count": 4,
   "metadata": {},
   "outputs": [
    {
     "output_type": "execute_result",
     "data": {
      "text/plain": [
       "environment (generic function with 1 method)"
      ]
     },
     "metadata": {},
     "execution_count": 4
    }
   ],
   "source": [
    "function environment(n,m)\n",
    "    Environment = zeros(Int64, n, m)\n",
    "    for i in 2:3:n\n",
    "        Environment[i,:] = ones(Int64, 1, m)\n",
    "    end\n",
    "    return Environment\n",
    "end"
   ]
  },
  {
   "cell_type": "code",
   "execution_count": 5,
   "metadata": {},
   "outputs": [
    {
     "output_type": "execute_result",
     "data": {
      "text/plain": [
       "20×20 Array{Int64,2}:\n",
       " 0  0  0  0  0  0  0  0  0  0  0  0  0  0  0  0  0  0  0  0\n",
       " 1  1  1  1  1  1  1  1  1  1  1  1  1  1  1  1  1  1  1  1\n",
       " 0  0  0  0  0  0  0  0  0  0  0  0  0  0  0  0  0  0  0  0\n",
       " 0  0  0  0  0  0  0  0  0  0  0  0  0  0  0  0  0  0  0  0\n",
       " 1  1  1  1  1  1  1  1  1  1  1  1  1  1  1  1  1  1  1  1\n",
       " 0  0  0  0  0  0  0  0  0  0  0  0  0  0  0  0  0  0  0  0\n",
       " 0  0  0  0  0  0  0  0  0  0  0  0  0  0  0  0  0  0  0  0\n",
       " 1  1  1  1  1  1  1  1  1  1  1  1  1  1  1  1  1  1  1  1\n",
       " 0  0  0  0  0  0  0  0  0  0  0  0  0  0  0  0  0  0  0  0\n",
       " 0  0  0  0  0  0  0  0  0  0  0  0  0  0  0  0  0  0  0  0\n",
       " 1  1  1  1  1  1  1  1  1  1  1  1  1  1  1  1  1  1  1  1\n",
       " 0  0  0  0  0  0  0  0  0  0  0  0  0  0  0  0  0  0  0  0\n",
       " 0  0  0  0  0  0  0  0  0  0  0  0  0  0  0  0  0  0  0  0\n",
       " 1  1  1  1  1  1  1  1  1  1  1  1  1  1  1  1  1  1  1  1\n",
       " 0  0  0  0  0  0  0  0  0  0  0  0  0  0  0  0  0  0  0  0\n",
       " 0  0  0  0  0  0  0  0  0  0  0  0  0  0  0  0  0  0  0  0\n",
       " 1  1  1  1  1  1  1  1  1  1  1  1  1  1  1  1  1  1  1  1\n",
       " 0  0  0  0  0  0  0  0  0  0  0  0  0  0  0  0  0  0  0  0\n",
       " 0  0  0  0  0  0  0  0  0  0  0  0  0  0  0  0  0  0  0  0\n",
       " 1  1  1  1  1  1  1  1  1  1  1  1  1  1  1  1  1  1  1  1"
      ]
     },
     "metadata": {},
     "execution_count": 5
    }
   ],
   "source": [
    "environment(20,20)"
   ]
  },
  {
   "cell_type": "markdown",
   "metadata": {},
   "source": [
    "### funkcja determinująca przeżycie gołębia w trakcie ucieczki od jastrzębia (50% prawdopodobieństwa)"
   ]
  },
  {
   "cell_type": "code",
   "execution_count": 6,
   "metadata": {},
   "outputs": [
    {
     "output_type": "execute_result",
     "data": {
      "text/plain": [
       "golab_jastrzab (generic function with 1 method)"
      ]
     },
     "metadata": {},
     "execution_count": 6
    }
   ],
   "source": [
    "function golab_jastrzab(n_gol)\n",
    "    if rand(0:1) == 0\n",
    "        n_gol = n_gol - 1\n",
    "    end\n",
    "    return n_gol\n",
    "end"
   ]
  },
  {
   "cell_type": "markdown",
   "metadata": {},
   "source": [
    "### funkcja determinująca stan populacji po wylosowaniu miejsc przy pakietach żywnościowych"
   ]
  },
  {
   "cell_type": "code",
   "execution_count": 7,
   "metadata": {},
   "outputs": [
    {
     "output_type": "execute_result",
     "data": {
      "text/plain": [
       "potyczki (generic function with 1 method)"
      ]
     },
     "metadata": {},
     "execution_count": 7
    }
   ],
   "source": [
    "#G-3\n",
    "#J-8\n",
    "function potyczki(n,m,macierz, g, ja)\n",
    "    for i in 2:3:n, j in 1:m    \n",
    "        suma = macierz[i-1,j] + macierz[i+1,j]\n",
    "        if suma == 11\n",
    "            g = golab_jastrzab(g)\n",
    "            ja = ja + 1\n",
    "        elseif suma == 6\n",
    "            g = g\n",
    "        elseif suma == 16 \n",
    "            ja = ja - 2\n",
    "        elseif suma == 3\n",
    "            g += 2\n",
    "        elseif suma == 8\n",
    "            j += 2\n",
    "        end \n",
    "    return g,ja\n",
    "    end\n",
    "end"
   ]
  },
  {
   "cell_type": "code",
   "execution_count": 8,
   "metadata": {},
   "outputs": [
    {
     "output_type": "execute_result",
     "data": {
      "text/plain": [
       "6×4 Array{Int64,2}:\n",
       " 3  3  8  8\n",
       " 1  1  1  1\n",
       " 3  3  3  8\n",
       " 3  8  8  8\n",
       " 1  1  1  1\n",
       " 3  8  3  8"
      ]
     },
     "metadata": {},
     "execution_count": 8
    }
   ],
   "source": [
    "A = [3 3 8 8; 1 1 1 1; 3 3 3 8;\n",
    "3 8 8 8; 1 1 1 1; 3 8 3 8]\n"
   ]
  },
  {
   "cell_type": "code",
   "execution_count": 9,
   "metadata": {},
   "outputs": [
    {
     "output_type": "execute_result",
     "data": {
      "text/plain": [
       "(8, 8)"
      ]
     },
     "metadata": {},
     "execution_count": 9
    }
   ],
   "source": [
    "potyczki(6,4,A,8,8)\n"
   ]
  },
  {
   "cell_type": "code",
   "execution_count": 10,
   "metadata": {},
   "outputs": [
    {
     "output_type": "execute_result",
     "data": {
      "text/plain": [
       "6×5 Array{Int64,2}:\n",
       " 8  8  8  8  3\n",
       " 1  1  1  1  1\n",
       " 3  3  0  8  3\n",
       " 3  3  3  8  8\n",
       " 1  1  1  1  1\n",
       " 8  8  0  3  3"
      ]
     },
     "metadata": {},
     "execution_count": 10
    }
   ],
   "source": [
    "B = [8 8 8 8 3;\n",
    "1 1 1 1 1;\n",
    "3 3 0 8 3;\n",
    "3 3 3 8 8;\n",
    "1 1 1 1 1;\n",
    "8 8 0 3 3\n",
    "]\n",
    "#g = 10\n",
    "#j = 11"
   ]
  },
  {
   "cell_type": "code",
   "execution_count": 11,
   "metadata": {},
   "outputs": [
    {
     "output_type": "execute_result",
     "data": {
      "text/plain": [
       "(9, 11)"
      ]
     },
     "metadata": {},
     "execution_count": 11
    }
   ],
   "source": [
    "potyczki(6,4,B,9,10)"
   ]
  },
  {
   "cell_type": "markdown",
   "metadata": {},
   "source": [
    "### funkcja generująca rozstawienie ptaków w środowisku"
   ]
  },
  {
   "cell_type": "code",
   "execution_count": 12,
   "metadata": {},
   "outputs": [
    {
     "output_type": "execute_result",
     "data": {
      "text/plain": [
       "jastrzabki (generic function with 1 method)"
      ]
     },
     "metadata": {},
     "execution_count": 12
    }
   ],
   "source": [
    "function golabki(macierz, ngol)\n",
    "    if ngol != 0  \n",
    "        for i in 1:1:ngol\n",
    "            z = findall(x -> x ==0, macierz)\n",
    "            macierz[rand(z)] = 3\n",
    "        end\n",
    "    end\n",
    "end\n",
    "function jastrzabki(macierz, njas)\n",
    "    if njas != 0\n",
    "        for i in 1:1:njas\n",
    "            z = findall(x -> x ==0, macierz)\n",
    "            macierz[rand(z)] = 8\n",
    "        end\n",
    "    end\n",
    "end"
   ]
  },
  {
   "cell_type": "code",
   "execution_count": 13,
   "metadata": {},
   "outputs": [],
   "source": [
    "mac = environment(21,21)\n",
    "golabki(mac, 100)\n",
    "jastrzabki(mac, 100)"
   ]
  },
  {
   "cell_type": "code",
   "execution_count": 14,
   "metadata": {},
   "outputs": [
    {
     "output_type": "execute_result",
     "data": {
      "text/plain": [
       "6×6 Array{Int64,2}:\n",
       " 3  3  3  8  8  8\n",
       " 1  1  1  1  1  1\n",
       " 3  3  3  8  3  3\n",
       " 8  3  8  8  3  3\n",
       " 1  1  1  1  1  1\n",
       " 8  3  8  3  3  8"
      ]
     },
     "metadata": {},
     "execution_count": 14
    }
   ],
   "source": [
    "test = environment(6,6)\n",
    "golabki(test, 14)\n",
    "jastrzabki(test, 10)\n",
    "test"
   ]
  },
  {
   "cell_type": "code",
   "execution_count": 15,
   "metadata": {},
   "outputs": [
    {
     "output_type": "execute_result",
     "data": {
      "text/plain": [
       "21×21 Array{Int64,2}:\n",
       " 0  0  8  8  0  3  0  8  8  0  3  3  0  3  8  3  3  8  3  0  8\n",
       " 1  1  1  1  1  1  1  1  1  1  1  1  1  1  1  1  1  1  1  1  1\n",
       " 3  3  8  8  8  3  3  0  3  0  3  0  8  3  3  3  3  0  0  8  0\n",
       " 3  8  8  0  8  8  0  8  0  3  0  0  8  8  8  3  0  8  8  3  3\n",
       " 1  1  1  1  1  1  1  1  1  1  1  1  1  1  1  1  1  1  1  1  1\n",
       " 8  3  0  3  0  8  3  3  0  0  8  0  3  3  3  8  3  0  0  3  8\n",
       " 8  3  8  0  3  3  3  0  0  0  8  8  8  0  0  3  0  8  8  0  3\n",
       " 1  1  1  1  1  1  1  1  1  1  1  1  1  1  1  1  1  1  1  1  1\n",
       " 8  3  3  3  3  8  0  8  3  0  3  3  3  0  3  0  8  8  8  0  8\n",
       " 0  3  3  8  0  0  0  8  0  8  3  8  3  3  3  0  8  3  8  3  8\n",
       " 1  1  1  1  1  1  1  1  1  1  1  1  1  1  1  1  1  1  1  1  1\n",
       " 0  8  3  3  0  0  0  3  0  8  0  8  3  3  0  0  0  8  3  8  8\n",
       " 3  8  8  8  0  3  3  3  3  8  3  8  8  8  0  3  3  0  8  8  0\n",
       " 1  1  1  1  1  1  1  1  1  1  1  1  1  1  1  1  1  1  1  1  1\n",
       " 3  3  0  0  8  0  3  3  8  8  8  3  0  0  0  3  8  8  0  3  8\n",
       " 3  3  0  0  0  8  3  8  3  3  0  8  8  0  0  0  0  3  3  3  0\n",
       " 1  1  1  1  1  1  1  1  1  1  1  1  1  1  1  1  1  1  1  1  1\n",
       " 0  8  8  3  8  8  8  0  0  3  8  8  0  8  3  3  8  0  8  0  0\n",
       " 8  3  3  0  0  0  3  3  0  8  8  3  0  0  8  0  8  3  8  8  8\n",
       " 1  1  1  1  1  1  1  1  1  1  1  1  1  1  1  1  1  1  1  1  1\n",
       " 3  3  3  0  8  0  0  8  0  8  0  3  3  3  8  8  3  8  8  8  0"
      ]
     },
     "metadata": {},
     "execution_count": 15
    }
   ],
   "source": [
    "mac"
   ]
  },
  {
   "cell_type": "code",
   "execution_count": 16,
   "metadata": {},
   "outputs": [
    {
     "output_type": "execute_result",
     "data": {
      "text/plain": [
       "(102, 100)"
      ]
     },
     "metadata": {},
     "execution_count": 16
    }
   ],
   "source": [
    "potyczki(21,21,mac,100,100)"
   ]
  },
  {
   "cell_type": "code",
   "execution_count": 17,
   "metadata": {},
   "outputs": [],
   "source": [
    "mac = environment(18,18)\n",
    "golabki(mac, 70)\n",
    "jastrzabki(mac, 90)"
   ]
  },
  {
   "cell_type": "code",
   "execution_count": 18,
   "metadata": {},
   "outputs": [
    {
     "output_type": "execute_result",
     "data": {
      "text/plain": [
       "18×18 Array{Int64,2}:\n",
       " 8  8  8  0  8  3  8  8  0  3  8  8  3  8  8  3  8  3\n",
       " 1  1  1  1  1  1  1  1  1  1  1  1  1  1  1  1  1  1\n",
       " 3  0  3  3  8  3  8  8  8  8  0  0  3  0  8  8  3  8\n",
       " 3  3  3  3  8  0  3  0  0  8  3  0  8  0  8  8  3  0\n",
       " 1  1  1  1  1  1  1  1  1  1  1  1  1  1  1  1  1  1\n",
       " 3  0  0  3  0  8  0  8  3  0  8  8  3  3  0  3  3  0\n",
       " 8  3  0  3  3  0  3  0  3  0  3  0  8  8  0  3  8  3\n",
       " 1  1  1  1  1  1  1  1  1  1  1  1  1  1  1  1  1  1\n",
       " 8  0  8  0  0  8  0  0  0  3  3  3  3  3  8  3  8  8\n",
       " 8  8  0  8  0  8  8  8  8  0  0  3  3  8  8  0  8  8\n",
       " 1  1  1  1  1  1  1  1  1  1  1  1  1  1  1  1  1  1\n",
       " 8  8  0  0  3  8  3  8  8  0  0  8  0  8  8  8  3  0\n",
       " 8  3  0  8  8  8  0  8  0  0  0  3  0  8  8  8  8  8\n",
       " 1  1  1  1  1  1  1  1  1  1  1  1  1  1  1  1  1  1\n",
       " 8  3  0  3  8  8  3  3  3  3  8  8  8  3  3  3  8  8\n",
       " 3  3  3  8  0  3  3  3  8  3  8  8  8  8  8  8  3  8\n",
       " 1  1  1  1  1  1  1  1  1  1  1  1  1  1  1  1  1  1\n",
       " 8  0  3  8  8  3  3  0  0  0  3  0  8  3  8  3  3  0"
      ]
     },
     "metadata": {},
     "execution_count": 18
    }
   ],
   "source": [
    "mac"
   ]
  },
  {
   "cell_type": "code",
   "execution_count": 19,
   "metadata": {
    "scrolled": true
   },
   "outputs": [
    {
     "output_type": "execute_result",
     "data": {
      "text/plain": [
       "(69, 91)"
      ]
     },
     "metadata": {},
     "execution_count": 19
    }
   ],
   "source": [
    "potyczki(18,18,mac,70,90)"
   ]
  },
  {
   "cell_type": "markdown",
   "metadata": {},
   "source": [
    "### funkcja sprawdzająca nadmiar populacji i ilość ptaków wysłaną na wygnanie/ fight club"
   ]
  },
  {
   "cell_type": "markdown",
   "metadata": {},
   "source": [
    "funkcja/wątek do rozwinięcia"
   ]
  },
  {
   "cell_type": "code",
   "execution_count": 20,
   "metadata": {},
   "outputs": [
    {
     "output_type": "execute_result",
     "data": {
      "text/plain": [
       "check (generic function with 1 method)"
      ]
     },
     "metadata": {},
     "execution_count": 20
    }
   ],
   "source": [
    "function check(n,m,ng, nja)\n",
    "    if ng + nja > 2*n*m/3\n",
    "        env_ng = Int64(round(ng/(ng+nja) * 2*n*m/3))\n",
    "        env_ja = Int64(round(nja/(ng+nja) * 2*n*m/3))\n",
    "        fight_g = ng - env_ng\n",
    "        fight_ja = nja - env_ja\n",
    "        ng = env_ng\n",
    "        nja = env_ja\n",
    "        return ng, nja, fight_g, fight_ja\n",
    "    else\n",
    "        fight_g = 0\n",
    "        fight_ja = 0\n",
    "        return ng, nja, fight_g, fight_ja\n",
    "    end\n",
    "end\n"
   ]
  },
  {
   "cell_type": "code",
   "execution_count": 21,
   "metadata": {},
   "outputs": [
    {
     "output_type": "execute_result",
     "data": {
      "text/plain": [
       "(29, 25, 6, 5)"
      ]
     },
     "metadata": {},
     "execution_count": 21
    }
   ],
   "source": [
    "check(9,9, 35,30)\n"
   ]
  },
  {
   "cell_type": "code",
   "execution_count": 22,
   "metadata": {},
   "outputs": [
    {
     "output_type": "stream",
     "name": "stdout",
     "text": [
      "(25, 29, 25, 31)"
     ]
    }
   ],
   "source": [
    "print(check(9,9,50,60))\n"
   ]
  },
  {
   "cell_type": "code",
   "execution_count": 23,
   "metadata": {},
   "outputs": [
    {
     "output_type": "execute_result",
     "data": {
      "text/plain": [
       "fight_club (generic function with 1 method)"
      ]
     },
     "metadata": {},
     "execution_count": 23
    }
   ],
   "source": [
    "function fight_club(n_gol, n_jas)\n",
    "    if (n_gol+n_jas)%2 == 0\n",
    "        n = Int64((n_gol + n_jas)/2)\n",
    "        M = zeros(Int64, 2, n)\n",
    "        if n_gol != 0\n",
    "            golabki(M,n_gol)\n",
    "        end\n",
    "        if n_jas!=0\n",
    "            jastrzabki(M,n_jas)\n",
    "        end\n",
    "    else\n",
    "        n = Int64((n_gol + n_jas + 1)/2) \n",
    "        M = zeros(Int64, 2, n)\n",
    "        if n_gol != 0\n",
    "            golabki(M,n_gol)\n",
    "        end\n",
    "        if n_jas!=0\n",
    "            jastrzabki(M,n_jas)\n",
    "        end\n",
    "    end\n",
    "    return M\n",
    "end\n",
    "        "
   ]
  },
  {
   "cell_type": "code",
   "execution_count": 24,
   "metadata": {},
   "outputs": [
    {
     "output_type": "execute_result",
     "data": {
      "text/plain": [
       "2×3 Array{Int64,2}:\n",
       " 8  8  3\n",
       " 8  3  3"
      ]
     },
     "metadata": {},
     "execution_count": 24
    }
   ],
   "source": [
    "fight_club(3,3)"
   ]
  },
  {
   "cell_type": "code",
   "execution_count": 25,
   "metadata": {},
   "outputs": [
    {
     "output_type": "execute_result",
     "data": {
      "text/plain": [
       "fight (generic function with 1 method)"
      ]
     },
     "metadata": {},
     "execution_count": 25
    }
   ],
   "source": [
    "\n",
    "function fight(macierz, n_gol, n_jas)\n",
    "    for i in 1:size(macierz)[2]\n",
    "        suma = macierz[1,i] + macierz[2,i]\n",
    "        if suma == 6\n",
    "            n_gol -= 1\n",
    "        elseif suma == 16\n",
    "            n_jas -= 1\n",
    "        elseif suma == 11\n",
    "            if rand(0:1) == 0\n",
    "                n_gol -= 1\n",
    "            else\n",
    "                n_jas -= 1\n",
    "            end\n",
    "        end\n",
    "    end\n",
    "    return n_gol, n_jas\n",
    "end"
   ]
  },
  {
   "cell_type": "code",
   "execution_count": 26,
   "metadata": {},
   "outputs": [
    {
     "output_type": "execute_result",
     "data": {
      "text/plain": [
       "(2, 1)"
      ]
     },
     "metadata": {},
     "execution_count": 26
    }
   ],
   "source": [
    "fight(fight_club(3,3), 3, 3)"
   ]
  },
  {
   "cell_type": "markdown",
   "metadata": {},
   "source": [
    "### Generowanie środowiska z mniejszą ilością pakietów (na wypadek przykładowej suszy/ pożaru)\n"
   ]
  },
  {
   "cell_type": "code",
   "execution_count": 27,
   "metadata": {},
   "outputs": [
    {
     "output_type": "execute_result",
     "data": {
      "text/plain": [
       "environment_food_amount (generic function with 4 methods)"
      ]
     },
     "metadata": {},
     "execution_count": 27
    }
   ],
   "source": [
    "function environment_food_amount(size1 = 21, size2 = 21, amount = 100)\n",
    "#ilość wieszy musi być podzielna przez 3\n",
    "    if size1 % 3 != 0\n",
    "        throw(DomainError(size, \"incorrect size\"))\n",
    "    end\n",
    "    Environment = zeros(Int64, size1, size2)\n",
    "    A = zeros(Int64, 1, size2*(fld(size1-2,3)+1))\n",
    "    A[1,1:amount] = ones(Int64, 1, amount)\n",
    "    A = Random.shuffle(A)\n",
    "    k = 1\n",
    "    for i in 2:3:size1\n",
    "        Environment[i,:] = A[1, k:(k+size1-1)]\n",
    "        k += size1\n",
    "    end\n",
    "    return Environment\n",
    "end"
   ]
  },
  {
   "cell_type": "code",
   "execution_count": null,
   "metadata": {},
   "outputs": [],
   "source": []
  },
  {
   "cell_type": "code",
   "execution_count": null,
   "metadata": {},
   "outputs": [],
   "source": []
  },
  {
   "cell_type": "code",
   "execution_count": null,
   "metadata": {},
   "outputs": [],
   "source": []
  },
  {
   "cell_type": "code",
   "execution_count": null,
   "metadata": {},
   "outputs": [],
   "source": []
  },
  {
   "cell_type": "code",
   "execution_count": 28,
   "metadata": {},
   "outputs": [
    {
     "output_type": "execute_result",
     "data": {
      "text/plain": [
       "action (generic function with 2 methods)"
      ]
     },
     "metadata": {},
     "execution_count": 28
    }
   ],
   "source": [
    "function action(n, m, n_gol, n_jas, p, A, index = 1)\n",
    "    \n",
    "    if p == 0\n",
    "        return A\n",
    "    end\n",
    "    \n",
    "    srod = environment(n,m) ##mamy pakiety\n",
    "    \n",
    "    a = check(n, m, n_gol, n_jas) #sprawdzamy czy nie ma za dużo ptaszków, zwraca jako (gol_safe, jas_safe, gol_fight, jas_fight)\n",
    "    n_gol = a[1]\n",
    "    n_jas = a[2]\n",
    "\n",
    "    golabki(srod, n_gol)\n",
    "    jastrzabki(srod, n_jas)  ##mamy srodowisko z ptaszkami\n",
    "    \n",
    "    result = potyczki(n,m,srod, n_gol, n_jas) ##mamy stan populacji po potyczkach\n",
    "    n_gol = result[1] ##liczba gołębi\n",
    "    n_jas = result[2]\n",
    "    \n",
    "    ##w miedzyczasie fight club :\n",
    "    \n",
    "    \n",
    "    b = fight(fight_club(a[3],a[4]), a[3], a[4]) #populacja po fight clubie - (gol, jas)\n",
    "    \n",
    "    n_gol += b[1] ##ostateczna ilosc golebi - ta bezpieczna + fight club\n",
    "    n_jas += b[2] ## -||- jastrzebi\n",
    "    gol_fight = b[1] ##ilość ptakow po fightcie, może się przyda c:\n",
    "    jas_fight = b[2]\n",
    "    \n",
    "    A[index, 1] = n_gol\n",
    "    A[index, 2] = n_jas\n",
    "    index += 1\n",
    "    println(n_gol,\",\", n_jas,\",\", gol_fight, \",\",jas_fight)\n",
    "    \n",
    "    action(n, m, n_gol, n_jas, p-1, A, index) #i lecimy rekurencją\n",
    "end"
   ]
  },
  {
   "cell_type": "code",
   "execution_count": 29,
   "metadata": {},
   "outputs": [
    {
     "output_type": "stream",
     "name": "stdout",
     "text": [
      "28,29,2,1\n",
      "28,26,1,1\n",
      "28,24,0,0\n",
      "28,24,0,0\n",
      "28,25,0,0\n",
      "28,23,0,0\n",
      "28,23,0,0\n",
      "28,21,0,0\n",
      "28,19,0,0\n",
      "28,19,0,0\n",
      "28,19,0,0\n",
      "27,20,0,0\n",
      "27,20,0,0\n",
      "27,20,0,0\n",
      "27,20,0,0\n",
      "26,21,0,0\n",
      "26,21,0,0\n",
      "26,21,0,0\n",
      "28,21,0,0\n",
      "28,21,0,0\n",
      "27,22,0,0\n",
      "27,23,0,0\n",
      "27,24,0,0\n",
      "26,25,0,0\n",
      "26,26,0,0\n",
      "26,27,0,0\n",
      "26,28,0,0\n",
      "26,29,0,0\n",
      "26,27,0,1\n",
      "26,28,0,0\n",
      "26,28,0,0\n",
      "25,29,0,0\n",
      "24,30,0,0\n",
      "24,31,0,0\n",
      "24,29,0,1\n",
      "23,30,0,0\n",
      "23,31,0,0\n",
      "23,29,0,0\n",
      "23,30,0,0\n",
      "23,31,0,0\n",
      "23,31,0,0\n",
      "23,29,0,0\n",
      "23,29,0,0\n",
      "23,30,0,0\n",
      "22,31,0,0\n",
      "21,32,0,0\n",
      "21,33,0,0\n",
      "21,31,0,0\n",
      "21,29,0,0\n",
      "21,30,0,0\n",
      "21,31,0,0\n",
      "21,32,0,0\n",
      "20,33,0,0\n",
      "20,31,0,0\n",
      "20,29,0,0\n",
      "19,30,0,0\n",
      "19,31,0,0\n",
      "18,32,0,0\n",
      "18,30,0,0\n",
      "18,28,0,0\n",
      "18,29,0,0\n",
      "17,30,0,0\n",
      "17,30,0,0\n",
      "16,31,0,0\n",
      "15,32,0,0\n",
      "15,30,0,0\n",
      "15,31,0,0\n",
      "15,31,0,0\n",
      "15,32,0,0\n",
      "15,33,0,0\n",
      "15,31,0,0\n",
      "14,32,0,0\n",
      "14,30,0,0\n",
      "14,31,0,0\n",
      "14,31,0,0\n",
      "14,31,0,0\n",
      "14,31,0,0\n",
      "14,31,0,0\n",
      "14,32,0,0\n",
      "16,32,0,0\n",
      "15,33,0,0\n",
      "15,31,0,0\n",
      "17,31,0,0\n",
      "17,31,0,0\n",
      "17,32,0,0\n",
      "17,32,0,0\n",
      "17,32,0,0\n",
      "17,30,0,0\n",
      "17,30,0,0\n",
      "17,28,0,0\n",
      "17,26,0,0\n",
      "17,24,0,0\n",
      "17,24,0,0\n",
      "17,25,0,0\n",
      "17,23,0,0\n",
      "17,21,0,0\n",
      "17,19,0,0\n",
      "17,19,0,0\n",
      "17,19,0,0\n",
      "17,19,0,0\n"
     ]
    },
    {
     "output_type": "execute_result",
     "data": {
      "text/plain": [
       "100×2 Array{Int64,2}:\n",
       " 28  29\n",
       " 28  26\n",
       " 28  24\n",
       " 28  24\n",
       " 28  25\n",
       " 28  23\n",
       " 28  23\n",
       " 28  21\n",
       " 28  19\n",
       " 28  19\n",
       " 28  19\n",
       " 27  20\n",
       " 27  20\n",
       "  ⋮  \n",
       " 17  30\n",
       " 17  28\n",
       " 17  26\n",
       " 17  24\n",
       " 17  24\n",
       " 17  25\n",
       " 17  23\n",
       " 17  21\n",
       " 17  19\n",
       " 17  19\n",
       " 17  19\n",
       " 17  19"
      ]
     },
     "metadata": {},
     "execution_count": 29
    }
   ],
   "source": [
    "A = action(9,9,30,30, 100, zeros(Int64, 100, 2))"
   ]
  },
  {
   "cell_type": "code",
   "execution_count": 41,
   "metadata": {},
   "outputs": [
    {
     "output_type": "execute_result",
     "data": {
      "image/svg+xml": "<?xml version=\"1.0\" encoding=\"utf-8\"?>\n<svg xmlns=\"http://www.w3.org/2000/svg\" xmlns:xlink=\"http://www.w3.org/1999/xlink\" width=\"600\" height=\"400\" viewBox=\"0 0 2400 1600\">\n<defs>\n  <clipPath id=\"clip950\">\n    <rect x=\"0\" y=\"0\" width=\"2400\" height=\"1600\"/>\n  </clipPath>\n</defs>\n<path clip-path=\"url(#clip950)\" d=\"\nM0 1600 L2400 1600 L2400 0 L0 0  Z\n  \" fill=\"#ffffff\" fill-rule=\"evenodd\" fill-opacity=\"1\"/>\n<defs>\n  <clipPath id=\"clip951\">\n    <rect x=\"480\" y=\"0\" width=\"1681\" height=\"1600\"/>\n  </clipPath>\n</defs>\n<path clip-path=\"url(#clip950)\" d=\"\nM136.76 1486.45 L2352.76 1486.45 L2352.76 47.2441 L136.76 47.2441  Z\n  \" fill=\"#ffffff\" fill-rule=\"evenodd\" fill-opacity=\"1\"/>\n<defs>\n  <clipPath id=\"clip952\">\n    <rect x=\"136\" y=\"47\" width=\"2217\" height=\"1440\"/>\n  </clipPath>\n</defs>\n<polyline clip-path=\"url(#clip952)\" style=\"stroke:#000000; stroke-width:2; stroke-opacity:0.1; fill:none\" points=\"\n  178.36,1486.45 178.36,47.2441 \n  \"/>\n<polyline clip-path=\"url(#clip952)\" style=\"stroke:#000000; stroke-width:2; stroke-opacity:0.1; fill:none\" points=\"\n  706.28,1486.45 706.28,47.2441 \n  \"/>\n<polyline clip-path=\"url(#clip952)\" style=\"stroke:#000000; stroke-width:2; stroke-opacity:0.1; fill:none\" points=\"\n  1234.2,1486.45 1234.2,47.2441 \n  \"/>\n<polyline clip-path=\"url(#clip952)\" style=\"stroke:#000000; stroke-width:2; stroke-opacity:0.1; fill:none\" points=\"\n  1762.12,1486.45 1762.12,47.2441 \n  \"/>\n<polyline clip-path=\"url(#clip952)\" style=\"stroke:#000000; stroke-width:2; stroke-opacity:0.1; fill:none\" points=\"\n  2290.04,1486.45 2290.04,47.2441 \n  \"/>\n<polyline clip-path=\"url(#clip950)\" style=\"stroke:#000000; stroke-width:4; stroke-opacity:1; fill:none\" points=\"\n  136.76,1486.45 2352.76,1486.45 \n  \"/>\n<polyline clip-path=\"url(#clip950)\" style=\"stroke:#000000; stroke-width:4; stroke-opacity:1; fill:none\" points=\"\n  178.36,1486.45 178.36,1469.18 \n  \"/>\n<polyline clip-path=\"url(#clip950)\" style=\"stroke:#000000; stroke-width:4; stroke-opacity:1; fill:none\" points=\"\n  706.28,1486.45 706.28,1469.18 \n  \"/>\n<polyline clip-path=\"url(#clip950)\" style=\"stroke:#000000; stroke-width:4; stroke-opacity:1; fill:none\" points=\"\n  1234.2,1486.45 1234.2,1469.18 \n  \"/>\n<polyline clip-path=\"url(#clip950)\" style=\"stroke:#000000; stroke-width:4; stroke-opacity:1; fill:none\" points=\"\n  1762.12,1486.45 1762.12,1469.18 \n  \"/>\n<polyline clip-path=\"url(#clip950)\" style=\"stroke:#000000; stroke-width:4; stroke-opacity:1; fill:none\" points=\"\n  2290.04,1486.45 2290.04,1469.18 \n  \"/>\n<path clip-path=\"url(#clip950)\" d=\"M 0 0 M178.36 1515.64 Q174.749 1515.64 172.921 1519.2 Q171.115 1522.75 171.115 1529.87 Q171.115 1536.98 172.921 1540.55 Q174.749 1544.09 178.36 1544.09 Q181.995 1544.09 183.8 1540.55 Q185.629 1536.98 185.629 1529.87 Q185.629 1522.75 183.8 1519.2 Q181.995 1515.64 178.36 1515.64 M178.36 1511.93 Q184.171 1511.93 187.226 1516.54 Q190.305 1521.12 190.305 1529.87 Q190.305 1538.6 187.226 1543.21 Q184.171 1547.79 178.36 1547.79 Q172.55 1547.79 169.472 1543.21 Q166.416 1538.6 166.416 1529.87 Q166.416 1521.12 169.472 1516.54 Q172.55 1511.93 178.36 1511.93 Z\" fill=\"#000000\" fill-rule=\"evenodd\" fill-opacity=\"1\" /><path clip-path=\"url(#clip950)\" d=\"M 0 0 M687.924 1543.18 L704.243 1543.18 L704.243 1547.12 L682.299 1547.12 L682.299 1543.18 Q684.961 1540.43 689.544 1535.8 Q694.151 1531.15 695.331 1529.81 Q697.576 1527.28 698.456 1525.55 Q699.359 1523.79 699.359 1522.1 Q699.359 1519.34 697.414 1517.61 Q695.493 1515.87 692.391 1515.87 Q690.192 1515.87 687.739 1516.63 Q685.308 1517.4 682.53 1518.95 L682.53 1514.23 Q685.354 1513.09 687.808 1512.51 Q690.262 1511.93 692.299 1511.93 Q697.669 1511.93 700.863 1514.62 Q704.058 1517.31 704.058 1521.8 Q704.058 1523.93 703.248 1525.85 Q702.461 1527.74 700.354 1530.34 Q699.776 1531.01 696.674 1534.23 Q693.572 1537.42 687.924 1543.18 Z\" fill=\"#000000\" fill-rule=\"evenodd\" fill-opacity=\"1\" /><path clip-path=\"url(#clip950)\" d=\"M 0 0 M709.359 1512.56 L727.715 1512.56 L727.715 1516.5 L713.641 1516.5 L713.641 1524.97 Q714.66 1524.62 715.678 1524.46 Q716.697 1524.27 717.715 1524.27 Q723.502 1524.27 726.882 1527.44 Q730.261 1530.62 730.261 1536.03 Q730.261 1541.61 726.789 1544.71 Q723.317 1547.79 716.998 1547.79 Q714.822 1547.79 712.553 1547.42 Q710.308 1547.05 707.9 1546.31 L707.9 1541.61 Q709.984 1542.74 712.206 1543.3 Q714.428 1543.86 716.905 1543.86 Q720.91 1543.86 723.248 1541.75 Q725.586 1539.64 725.586 1536.03 Q725.586 1532.42 723.248 1530.31 Q720.91 1528.21 716.905 1528.21 Q715.03 1528.21 713.155 1528.62 Q711.303 1529.04 709.359 1529.92 L709.359 1512.56 Z\" fill=\"#000000\" fill-rule=\"evenodd\" fill-opacity=\"1\" /><path clip-path=\"url(#clip950)\" d=\"M 0 0 M1210.97 1512.56 L1229.33 1512.56 L1229.33 1516.5 L1215.25 1516.5 L1215.25 1524.97 Q1216.27 1524.62 1217.29 1524.46 Q1218.31 1524.27 1219.33 1524.27 Q1225.11 1524.27 1228.49 1527.44 Q1231.87 1530.62 1231.87 1536.03 Q1231.87 1541.61 1228.4 1544.71 Q1224.93 1547.79 1218.61 1547.79 Q1216.43 1547.79 1214.17 1547.42 Q1211.92 1547.05 1209.51 1546.31 L1209.51 1541.61 Q1211.6 1542.74 1213.82 1543.3 Q1216.04 1543.86 1218.52 1543.86 Q1222.52 1543.86 1224.86 1541.75 Q1227.2 1539.64 1227.2 1536.03 Q1227.2 1532.42 1224.86 1530.31 Q1222.52 1528.21 1218.52 1528.21 Q1216.64 1528.21 1214.77 1528.62 Q1212.92 1529.04 1210.97 1529.92 L1210.97 1512.56 Z\" fill=\"#000000\" fill-rule=\"evenodd\" fill-opacity=\"1\" /><path clip-path=\"url(#clip950)\" d=\"M 0 0 M1246.94 1515.64 Q1243.33 1515.64 1241.5 1519.2 Q1239.7 1522.75 1239.7 1529.87 Q1239.7 1536.98 1241.5 1540.55 Q1243.33 1544.09 1246.94 1544.09 Q1250.58 1544.09 1252.38 1540.55 Q1254.21 1536.98 1254.21 1529.87 Q1254.21 1522.75 1252.38 1519.2 Q1250.58 1515.64 1246.94 1515.64 M1246.94 1511.93 Q1252.75 1511.93 1255.81 1516.54 Q1258.89 1521.12 1258.89 1529.87 Q1258.89 1538.6 1255.81 1543.21 Q1252.75 1547.79 1246.94 1547.79 Q1241.13 1547.79 1238.05 1543.21 Q1235 1538.6 1235 1529.87 Q1235 1521.12 1238.05 1516.54 Q1241.13 1511.93 1246.94 1511.93 Z\" fill=\"#000000\" fill-rule=\"evenodd\" fill-opacity=\"1\" /><path clip-path=\"url(#clip950)\" d=\"M 0 0 M1738 1512.56 L1760.22 1512.56 L1760.22 1514.55 L1747.68 1547.12 L1742.79 1547.12 L1754.6 1516.5 L1738 1516.5 L1738 1512.56 Z\" fill=\"#000000\" fill-rule=\"evenodd\" fill-opacity=\"1\" /><path clip-path=\"url(#clip950)\" d=\"M 0 0 M1765.34 1512.56 L1783.69 1512.56 L1783.69 1516.5 L1769.62 1516.5 L1769.62 1524.97 Q1770.64 1524.62 1771.66 1524.46 Q1772.67 1524.27 1773.69 1524.27 Q1779.48 1524.27 1782.86 1527.44 Q1786.24 1530.62 1786.24 1536.03 Q1786.24 1541.61 1782.77 1544.71 Q1779.3 1547.79 1772.98 1547.79 Q1770.8 1547.79 1768.53 1547.42 Q1766.29 1547.05 1763.88 1546.31 L1763.88 1541.61 Q1765.96 1542.74 1768.18 1543.3 Q1770.41 1543.86 1772.88 1543.86 Q1776.89 1543.86 1779.23 1541.75 Q1781.56 1539.64 1781.56 1536.03 Q1781.56 1532.42 1779.23 1530.31 Q1776.89 1528.21 1772.88 1528.21 Q1771.01 1528.21 1769.13 1528.62 Q1767.28 1529.04 1765.34 1529.92 L1765.34 1512.56 Z\" fill=\"#000000\" fill-rule=\"evenodd\" fill-opacity=\"1\" /><path clip-path=\"url(#clip950)\" d=\"M 0 0 M2253.41 1543.18 L2261.05 1543.18 L2261.05 1516.82 L2252.74 1518.49 L2252.74 1514.23 L2261 1512.56 L2265.68 1512.56 L2265.68 1543.18 L2273.31 1543.18 L2273.31 1547.12 L2253.41 1547.12 L2253.41 1543.18 Z\" fill=\"#000000\" fill-rule=\"evenodd\" fill-opacity=\"1\" /><path clip-path=\"url(#clip950)\" d=\"M 0 0 M2288.38 1515.64 Q2284.77 1515.64 2282.94 1519.2 Q2281.14 1522.75 2281.14 1529.87 Q2281.14 1536.98 2282.94 1540.55 Q2284.77 1544.09 2288.38 1544.09 Q2292.02 1544.09 2293.82 1540.55 Q2295.65 1536.98 2295.65 1529.87 Q2295.65 1522.75 2293.82 1519.2 Q2292.02 1515.64 2288.38 1515.64 M2288.38 1511.93 Q2294.19 1511.93 2297.25 1516.54 Q2300.33 1521.12 2300.33 1529.87 Q2300.33 1538.6 2297.25 1543.21 Q2294.19 1547.79 2288.38 1547.79 Q2282.57 1547.79 2279.5 1543.21 Q2276.44 1538.6 2276.44 1529.87 Q2276.44 1521.12 2279.5 1516.54 Q2282.57 1511.93 2288.38 1511.93 Z\" fill=\"#000000\" fill-rule=\"evenodd\" fill-opacity=\"1\" /><path clip-path=\"url(#clip950)\" d=\"M 0 0 M2315.4 1515.64 Q2311.79 1515.64 2309.96 1519.2 Q2308.15 1522.75 2308.15 1529.87 Q2308.15 1536.98 2309.96 1540.55 Q2311.79 1544.09 2315.4 1544.09 Q2319.03 1544.09 2320.84 1540.55 Q2322.67 1536.98 2322.67 1529.87 Q2322.67 1522.75 2320.84 1519.2 Q2319.03 1515.64 2315.4 1515.64 M2315.4 1511.93 Q2321.21 1511.93 2324.26 1516.54 Q2327.34 1521.12 2327.34 1529.87 Q2327.34 1538.6 2324.26 1543.21 Q2321.21 1547.79 2315.4 1547.79 Q2309.59 1547.79 2306.51 1543.21 Q2303.45 1538.6 2303.45 1529.87 Q2303.45 1521.12 2306.51 1516.54 Q2309.59 1511.93 2315.4 1511.93 Z\" fill=\"#000000\" fill-rule=\"evenodd\" fill-opacity=\"1\" /><polyline clip-path=\"url(#clip952)\" style=\"stroke:#000000; stroke-width:2; stroke-opacity:0.1; fill:none\" points=\"\n  136.76,1374.26 2352.76,1374.26 \n  \"/>\n<polyline clip-path=\"url(#clip952)\" style=\"stroke:#000000; stroke-width:2; stroke-opacity:0.1; fill:none\" points=\"\n  136.76,1016.96 2352.76,1016.96 \n  \"/>\n<polyline clip-path=\"url(#clip952)\" style=\"stroke:#000000; stroke-width:2; stroke-opacity:0.1; fill:none\" points=\"\n  136.76,659.656 2352.76,659.656 \n  \"/>\n<polyline clip-path=\"url(#clip952)\" style=\"stroke:#000000; stroke-width:2; stroke-opacity:0.1; fill:none\" points=\"\n  136.76,302.356 2352.76,302.356 \n  \"/>\n<polyline clip-path=\"url(#clip950)\" style=\"stroke:#000000; stroke-width:4; stroke-opacity:1; fill:none\" points=\"\n  136.76,1486.45 136.76,47.2441 \n  \"/>\n<polyline clip-path=\"url(#clip950)\" style=\"stroke:#000000; stroke-width:4; stroke-opacity:1; fill:none\" points=\"\n  136.76,1374.26 163.352,1374.26 \n  \"/>\n<polyline clip-path=\"url(#clip950)\" style=\"stroke:#000000; stroke-width:4; stroke-opacity:1; fill:none\" points=\"\n  136.76,1016.96 163.352,1016.96 \n  \"/>\n<polyline clip-path=\"url(#clip950)\" style=\"stroke:#000000; stroke-width:4; stroke-opacity:1; fill:none\" points=\"\n  136.76,659.656 163.352,659.656 \n  \"/>\n<polyline clip-path=\"url(#clip950)\" style=\"stroke:#000000; stroke-width:4; stroke-opacity:1; fill:none\" points=\"\n  136.76,302.356 163.352,302.356 \n  \"/>\n<path clip-path=\"url(#clip950)\" d=\"M 0 0 M54.8347 1387.6 L62.4735 1387.6 L62.4735 1361.23 L54.1634 1362.9 L54.1634 1358.64 L62.4272 1356.98 L67.1032 1356.98 L67.1032 1387.6 L74.742 1387.6 L74.742 1391.54 L54.8347 1391.54 L54.8347 1387.6 Z\" fill=\"#000000\" fill-rule=\"evenodd\" fill-opacity=\"1\" /><path clip-path=\"url(#clip950)\" d=\"M 0 0 M79.8577 1356.98 L98.2141 1356.98 L98.2141 1360.91 L84.1401 1360.91 L84.1401 1369.38 Q85.1586 1369.04 86.1771 1368.87 Q87.1956 1368.69 88.2141 1368.69 Q94.0012 1368.69 97.3808 1371.86 Q100.76 1375.03 100.76 1380.45 Q100.76 1386.03 97.2882 1389.13 Q93.816 1392.21 87.4966 1392.21 Q85.3206 1392.21 83.0521 1391.84 Q80.8068 1391.47 78.3994 1390.73 L78.3994 1386.03 Q80.4827 1387.16 82.7049 1387.72 Q84.9271 1388.27 87.404 1388.27 Q91.4086 1388.27 93.7465 1386.17 Q96.0845 1384.06 96.0845 1380.45 Q96.0845 1376.84 93.7465 1374.73 Q91.4086 1372.62 87.404 1372.62 Q85.529 1372.62 83.654 1373.04 Q81.8021 1373.46 79.8577 1374.34 L79.8577 1356.98 Z\" fill=\"#000000\" fill-rule=\"evenodd\" fill-opacity=\"1\" /><path clip-path=\"url(#clip950)\" d=\"M 0 0 M57.4273 1030.3 L73.7466 1030.3 L73.7466 1034.24 L51.8023 1034.24 L51.8023 1030.3 Q54.4643 1027.55 59.0476 1022.92 Q63.6541 1018.26 64.8346 1016.92 Q67.08 1014.4 67.9596 1012.66 Q68.8624 1010.9 68.8624 1009.21 Q68.8624 1006.46 66.918 1004.72 Q64.9967 1002.99 61.8948 1002.99 Q59.6958 1002.99 57.2421 1003.75 Q54.8115 1004.51 52.0338 1006.06 L52.0338 1001.34 Q54.8578 1000.21 57.3115 999.63 Q59.7652 999.051 61.8023 999.051 Q67.1726 999.051 70.367 1001.74 Q73.5614 1004.42 73.5614 1008.91 Q73.5614 1011.04 72.7513 1012.96 Q71.9642 1014.86 69.8578 1017.45 Q69.2791 1018.12 66.1772 1021.34 Q63.0754 1024.54 57.4273 1030.3 Z\" fill=\"#000000\" fill-rule=\"evenodd\" fill-opacity=\"1\" /><path clip-path=\"url(#clip950)\" d=\"M 0 0 M88.816 1002.75 Q85.2049 1002.75 83.3762 1006.32 Q81.5707 1009.86 81.5707 1016.99 Q81.5707 1024.1 83.3762 1027.66 Q85.2049 1031.2 88.816 1031.2 Q92.4502 1031.2 94.2558 1027.66 Q96.0845 1024.1 96.0845 1016.99 Q96.0845 1009.86 94.2558 1006.32 Q92.4502 1002.75 88.816 1002.75 M88.816 999.051 Q94.6262 999.051 97.6817 1003.66 Q100.76 1008.24 100.76 1016.99 Q100.76 1025.72 97.6817 1030.32 Q94.6262 1034.91 88.816 1034.91 Q83.0058 1034.91 79.9272 1030.32 Q76.8716 1025.72 76.8716 1016.99 Q76.8716 1008.24 79.9272 1003.66 Q83.0058 999.051 88.816 999.051 Z\" fill=\"#000000\" fill-rule=\"evenodd\" fill-opacity=\"1\" /><path clip-path=\"url(#clip950)\" d=\"M 0 0 M58.4226 673.001 L74.742 673.001 L74.742 676.936 L52.7977 676.936 L52.7977 673.001 Q55.4597 670.246 60.043 665.617 Q64.6495 660.964 65.83 659.621 Q68.0754 657.098 68.955 655.362 Q69.8578 653.603 69.8578 651.913 Q69.8578 649.158 67.9133 647.422 Q65.992 645.686 62.8902 645.686 Q60.6911 645.686 58.2375 646.45 Q55.8069 647.214 53.0292 648.765 L53.0292 644.043 Q55.8532 642.908 58.3069 642.33 Q60.7606 641.751 62.7976 641.751 Q68.168 641.751 71.3624 644.436 Q74.5568 647.121 74.5568 651.612 Q74.5568 653.742 73.7466 655.663 Q72.9596 657.561 70.8531 660.154 Q70.2744 660.825 67.1726 664.043 Q64.0708 667.237 58.4226 673.001 Z\" fill=\"#000000\" fill-rule=\"evenodd\" fill-opacity=\"1\" /><path clip-path=\"url(#clip950)\" d=\"M 0 0 M79.8577 642.376 L98.2141 642.376 L98.2141 646.311 L84.1401 646.311 L84.1401 654.783 Q85.1586 654.436 86.1771 654.274 Q87.1956 654.089 88.2141 654.089 Q94.0012 654.089 97.3808 657.26 Q100.76 660.431 100.76 665.848 Q100.76 671.427 97.2882 674.529 Q93.816 677.607 87.4966 677.607 Q85.3206 677.607 83.0521 677.237 Q80.8068 676.867 78.3994 676.126 L78.3994 671.427 Q80.4827 672.561 82.7049 673.117 Q84.9271 673.672 87.404 673.672 Q91.4086 673.672 93.7465 671.566 Q96.0845 669.459 96.0845 665.848 Q96.0845 662.237 93.7465 660.131 Q91.4086 658.024 87.404 658.024 Q85.529 658.024 83.654 658.441 Q81.8021 658.857 79.8577 659.737 L79.8577 642.376 Z\" fill=\"#000000\" fill-rule=\"evenodd\" fill-opacity=\"1\" /><path clip-path=\"url(#clip950)\" d=\"M 0 0 M66.617 301.002 Q69.9735 301.72 71.8485 303.988 Q73.7466 306.257 73.7466 309.59 Q73.7466 314.706 70.2281 317.507 Q66.7096 320.307 60.2282 320.307 Q58.0523 320.307 55.7375 319.868 Q53.4458 319.451 50.9921 318.595 L50.9921 314.081 Q52.9366 315.215 55.2514 315.794 Q57.5662 316.372 60.0893 316.372 Q64.4874 316.372 66.7791 314.636 Q69.0939 312.9 69.0939 309.59 Q69.0939 306.534 66.9411 304.821 Q64.8115 303.085 60.9921 303.085 L56.9643 303.085 L56.9643 299.243 L61.1773 299.243 Q64.6263 299.243 66.455 297.877 Q68.2837 296.488 68.2837 293.896 Q68.2837 291.234 66.3856 289.822 Q64.5106 288.386 60.9921 288.386 Q59.0708 288.386 56.8717 288.803 Q54.6727 289.22 52.0338 290.099 L52.0338 285.933 Q54.6958 285.192 57.0106 284.822 Q59.3486 284.451 61.4087 284.451 Q66.7328 284.451 69.8346 286.882 Q72.9365 289.289 72.9365 293.409 Q72.9365 296.28 71.2929 298.271 Q69.6494 300.238 66.617 301.002 Z\" fill=\"#000000\" fill-rule=\"evenodd\" fill-opacity=\"1\" /><path clip-path=\"url(#clip950)\" d=\"M 0 0 M88.816 288.155 Q85.2049 288.155 83.3762 291.72 Q81.5707 295.261 81.5707 302.391 Q81.5707 309.497 83.3762 313.062 Q85.2049 316.604 88.816 316.604 Q92.4502 316.604 94.2558 313.062 Q96.0845 309.497 96.0845 302.391 Q96.0845 295.261 94.2558 291.72 Q92.4502 288.155 88.816 288.155 M88.816 284.451 Q94.6262 284.451 97.6817 289.058 Q100.76 293.641 100.76 302.391 Q100.76 311.118 97.6817 315.724 Q94.6262 320.307 88.816 320.307 Q83.0058 320.307 79.9272 315.724 Q76.8716 311.118 76.8716 302.391 Q76.8716 293.641 79.9272 289.058 Q83.0058 284.451 88.816 284.451 Z\" fill=\"#000000\" fill-rule=\"evenodd\" fill-opacity=\"1\" /><polyline clip-path=\"url(#clip952)\" style=\"stroke:#800080; stroke-width:4; stroke-opacity:1; fill:none\" points=\"\n  199.477,445.276 220.594,445.276 241.711,445.276 262.828,445.276 283.944,445.276 305.061,445.276 326.178,445.276 347.295,445.276 368.412,445.276 389.528,445.276 \n  410.645,445.276 431.762,516.736 452.879,516.736 473.995,516.736 495.112,516.736 516.229,588.196 537.346,588.196 558.463,588.196 579.579,445.276 600.696,445.276 \n  621.813,516.736 642.93,516.736 664.047,516.736 685.163,588.196 706.28,588.196 727.397,588.196 748.514,588.196 769.63,588.196 790.747,588.196 811.864,588.196 \n  832.981,588.196 854.098,659.656 875.214,731.116 896.331,731.116 917.448,731.116 938.565,802.576 959.682,802.576 980.798,802.576 1001.92,802.576 1023.03,802.576 \n  1044.15,802.576 1065.27,802.576 1086.38,802.576 1107.5,802.576 1128.62,874.036 1149.73,945.496 1170.85,945.496 1191.97,945.496 1213.08,945.496 1234.2,945.496 \n  1255.32,945.496 1276.43,945.496 1297.55,1016.96 1318.67,1016.96 1339.78,1016.96 1360.9,1088.42 1382.02,1088.42 1403.13,1159.88 1424.25,1159.88 1445.37,1159.88 \n  1466.48,1159.88 1487.6,1231.34 1508.72,1231.34 1529.83,1302.8 1550.95,1374.26 1572.07,1374.26 1593.19,1374.26 1614.3,1374.26 1635.42,1374.26 1656.54,1374.26 \n  1677.65,1374.26 1698.77,1445.72 1719.89,1445.72 1741,1445.72 1762.12,1445.72 1783.24,1445.72 1804.35,1445.72 1825.47,1445.72 1846.59,1445.72 1867.7,1302.8 \n  1888.82,1374.26 1909.94,1374.26 1931.05,1231.34 1952.17,1231.34 1973.29,1231.34 1994.4,1231.34 2015.52,1231.34 2036.64,1231.34 2057.75,1231.34 2078.87,1231.34 \n  2099.99,1231.34 2121.1,1231.34 2142.22,1231.34 2163.34,1231.34 2184.46,1231.34 2205.57,1231.34 2226.69,1231.34 2247.81,1231.34 2268.92,1231.34 2290.04,1231.34 \n  \n  \"/>\n<polyline clip-path=\"url(#clip952)\" style=\"stroke:#008000; stroke-width:4; stroke-opacity:1; fill:none\" points=\"\n  199.477,373.816 220.594,588.196 241.711,731.116 262.828,731.116 283.944,659.656 305.061,802.576 326.178,802.576 347.295,945.496 368.412,1088.42 389.528,1088.42 \n  410.645,1088.42 431.762,1016.96 452.879,1016.96 473.995,1016.96 495.112,1016.96 516.229,945.496 537.346,945.496 558.463,945.496 579.579,945.496 600.696,945.496 \n  621.813,874.036 642.93,802.576 664.047,731.116 685.163,659.656 706.28,588.196 727.397,516.736 748.514,445.276 769.63,373.816 790.747,516.736 811.864,445.276 \n  832.981,445.276 854.098,373.816 875.214,302.356 896.331,230.896 917.448,373.816 938.565,302.356 959.682,230.896 980.798,373.816 1001.92,302.356 1023.03,230.896 \n  1044.15,230.896 1065.27,373.816 1086.38,373.816 1107.5,302.356 1128.62,230.896 1149.73,159.436 1170.85,87.9763 1191.97,230.896 1213.08,373.816 1234.2,302.356 \n  1255.32,230.896 1276.43,159.436 1297.55,87.9763 1318.67,230.896 1339.78,373.816 1360.9,302.356 1382.02,230.896 1403.13,159.436 1424.25,302.356 1445.37,445.276 \n  1466.48,373.816 1487.6,302.356 1508.72,302.356 1529.83,230.896 1550.95,159.436 1572.07,302.356 1593.19,230.896 1614.3,230.896 1635.42,159.436 1656.54,87.9763 \n  1677.65,230.896 1698.77,159.436 1719.89,302.356 1741,230.896 1762.12,230.896 1783.24,230.896 1804.35,230.896 1825.47,230.896 1846.59,159.436 1867.7,159.436 \n  1888.82,87.9763 1909.94,230.896 1931.05,230.896 1952.17,230.896 1973.29,159.436 1994.4,159.436 2015.52,159.436 2036.64,302.356 2057.75,302.356 2078.87,445.276 \n  2099.99,588.196 2121.1,731.116 2142.22,731.116 2163.34,659.656 2184.46,802.576 2205.57,945.496 2226.69,1088.42 2247.81,1088.42 2268.92,1088.42 2290.04,1088.42 \n  \n  \"/>\n<path clip-path=\"url(#clip950)\" d=\"\nM1826.65 276.658 L2278.89 276.658 L2278.89 95.2176 L1826.65 95.2176  Z\n  \" fill=\"#ffffff\" fill-rule=\"evenodd\" fill-opacity=\"1\"/>\n<polyline clip-path=\"url(#clip950)\" style=\"stroke:#000000; stroke-width:4; stroke-opacity:1; fill:none\" points=\"\n  1826.65,276.658 2278.89,276.658 2278.89,95.2176 1826.65,95.2176 1826.65,276.658 \n  \"/>\n<polyline clip-path=\"url(#clip950)\" style=\"stroke:#800080; stroke-width:4; stroke-opacity:1; fill:none\" points=\"\n  1851.27,155.698 1999.01,155.698 \n  \"/>\n<path clip-path=\"url(#clip950)\" d=\"M 0 0 M2042.54 159.714 Q2042.54 155.084 2040.62 152.538 Q2038.72 149.992 2035.27 149.992 Q2031.85 149.992 2029.92 152.538 Q2028.03 155.084 2028.03 159.714 Q2028.03 164.32 2029.92 166.866 Q2031.85 169.413 2035.27 169.413 Q2038.72 169.413 2040.62 166.866 Q2042.54 164.32 2042.54 159.714 M2046.8 169.76 Q2046.8 176.38 2043.86 179.598 Q2040.92 182.839 2034.85 182.839 Q2032.61 182.839 2030.62 182.491 Q2028.63 182.167 2026.75 181.473 L2026.75 177.329 Q2028.63 178.348 2030.46 178.834 Q2032.28 179.32 2034.18 179.32 Q2038.37 179.32 2040.46 177.121 Q2042.54 174.945 2042.54 170.524 L2042.54 168.417 Q2041.22 170.709 2039.16 171.843 Q2037.1 172.978 2034.23 172.978 Q2029.46 172.978 2026.54 169.343 Q2023.63 165.709 2023.63 159.714 Q2023.63 153.695 2026.54 150.061 Q2029.46 146.427 2034.23 146.427 Q2037.1 146.427 2039.16 147.561 Q2041.22 148.695 2042.54 150.987 L2042.54 147.052 L2046.8 147.052 L2046.8 169.76 Z\" fill=\"#000000\" fill-rule=\"evenodd\" fill-opacity=\"1\" /><path clip-path=\"url(#clip950)\" d=\"M 0 0 M2061.31 150.038 Q2057.89 150.038 2055.9 152.723 Q2053.91 155.385 2053.91 160.038 Q2053.91 164.691 2055.87 167.376 Q2057.86 170.038 2061.31 170.038 Q2064.72 170.038 2066.71 167.353 Q2068.7 164.667 2068.7 160.038 Q2068.7 155.431 2066.71 152.746 Q2064.72 150.038 2061.31 150.038 M2061.31 146.427 Q2066.87 146.427 2070.04 150.038 Q2073.21 153.649 2073.21 160.038 Q2073.21 166.404 2070.04 170.038 Q2066.87 173.649 2061.31 173.649 Q2055.73 173.649 2052.56 170.038 Q2049.41 166.404 2049.41 160.038 Q2049.41 153.649 2052.56 150.038 Q2055.73 146.427 2061.31 146.427 Z\" fill=\"#000000\" fill-rule=\"evenodd\" fill-opacity=\"1\" /><path clip-path=\"url(#clip950)\" d=\"M 0 0 M2077.82 136.959 L2082.08 136.959 L2082.08 150.894 L2084.97 148.811 L2086.73 151.265 L2082.08 154.529 L2082.08 172.978 L2077.82 172.978 L2077.82 157.561 L2074.97 159.598 L2073.26 157.144 L2077.82 153.88 L2077.82 136.959 Z\" fill=\"#000000\" fill-rule=\"evenodd\" fill-opacity=\"1\" /><path clip-path=\"url(#clip950)\" d=\"M 0 0 M2113.37 158.95 L2113.37 161.033 L2093.79 161.033 Q2094.07 165.431 2096.43 167.746 Q2098.81 170.038 2103.05 170.038 Q2105.5 170.038 2107.79 169.436 Q2110.11 168.834 2112.38 167.63 L2112.38 171.658 Q2110.09 172.63 2107.68 173.14 Q2105.27 173.649 2102.79 173.649 Q2096.59 173.649 2092.96 170.038 Q2089.34 166.427 2089.34 160.269 Q2089.34 153.904 2092.77 150.177 Q2096.22 146.427 2102.05 146.427 Q2107.28 146.427 2110.32 149.806 Q2113.37 153.163 2113.37 158.95 M2109.11 157.7 Q2109.07 154.205 2107.15 152.121 Q2105.25 150.038 2102.1 150.038 Q2098.53 150.038 2096.38 152.052 Q2094.25 154.066 2093.93 157.723 L2109.11 157.7 M2105.62 172.978 L2108.37 172.978 Q2107.33 174.39 2106.82 175.408 Q2106.34 176.427 2106.34 177.144 Q2106.34 178.209 2106.96 178.741 Q2107.61 179.274 2108.86 179.274 Q2109.6 179.274 2110.32 179.089 Q2111.03 178.927 2111.75 178.579 L2111.75 181.658 Q2110.87 181.89 2110.09 182.005 Q2109.3 182.121 2108.6 182.121 Q2105.78 182.121 2104.44 181.103 Q2103.12 180.107 2103.12 177.954 Q2103.12 176.843 2103.72 175.616 Q2104.34 174.413 2105.62 172.978 Z\" fill=\"#000000\" fill-rule=\"evenodd\" fill-opacity=\"1\" /><path clip-path=\"url(#clip950)\" d=\"M 0 0 M2136.45 160.038 Q2136.45 155.339 2134.51 152.677 Q2132.59 149.992 2129.21 149.992 Q2125.83 149.992 2123.88 152.677 Q2121.96 155.339 2121.96 160.038 Q2121.96 164.737 2123.88 167.422 Q2125.83 170.084 2129.21 170.084 Q2132.59 170.084 2134.51 167.422 Q2136.45 164.737 2136.45 160.038 M2121.96 150.987 Q2123.3 148.672 2125.34 147.561 Q2127.4 146.427 2130.25 146.427 Q2134.97 146.427 2137.91 150.177 Q2140.87 153.927 2140.87 160.038 Q2140.87 166.149 2137.91 169.899 Q2134.97 173.649 2130.25 173.649 Q2127.4 173.649 2125.34 172.538 Q2123.3 171.403 2121.96 169.089 L2121.96 172.978 L2117.68 172.978 L2117.68 136.959 L2121.96 136.959 L2121.96 150.987 Z\" fill=\"#000000\" fill-rule=\"evenodd\" fill-opacity=\"1\" /><path clip-path=\"url(#clip950)\" d=\"M 0 0 M2145.34 147.052 L2149.6 147.052 L2149.6 172.978 L2145.34 172.978 L2145.34 147.052 M2145.34 136.959 L2149.6 136.959 L2149.6 142.353 L2145.34 142.353 L2145.34 136.959 Z\" fill=\"#000000\" fill-rule=\"evenodd\" fill-opacity=\"1\" /><path clip-path=\"url(#clip950)\" d=\"M 0 0 M2176.24 158.95 L2176.24 161.033 L2156.66 161.033 Q2156.94 165.431 2159.3 167.746 Q2161.68 170.038 2165.92 170.038 Q2168.37 170.038 2170.66 169.436 Q2172.98 168.834 2175.25 167.63 L2175.25 171.658 Q2172.96 172.63 2170.55 173.14 Q2168.14 173.649 2165.66 173.649 Q2159.46 173.649 2155.83 170.038 Q2152.21 166.427 2152.21 160.269 Q2152.21 153.904 2155.64 150.177 Q2159.09 146.427 2164.92 146.427 Q2170.15 146.427 2173.19 149.806 Q2176.24 153.163 2176.24 158.95 M2171.98 157.7 Q2171.94 154.205 2170.02 152.121 Q2168.12 150.038 2164.97 150.038 Q2161.4 150.038 2159.25 152.052 Q2157.12 154.066 2156.8 157.723 L2171.98 157.7 Z\" fill=\"#000000\" fill-rule=\"evenodd\" fill-opacity=\"1\" /><polyline clip-path=\"url(#clip950)\" style=\"stroke:#008000; stroke-width:4; stroke-opacity:1; fill:none\" points=\"\n  1851.27,216.178 1999.01,216.178 \n  \"/>\n<path clip-path=\"url(#clip950)\" d=\"M 0 0 M2028.95 207.532 L2033.21 207.532 L2033.21 233.921 Q2033.21 238.874 2031.31 241.096 Q2029.44 243.319 2025.25 243.319 L2023.63 243.319 L2023.63 239.708 L2024.76 239.708 Q2027.19 239.708 2028.07 238.573 Q2028.95 237.462 2028.95 233.921 L2028.95 207.532 M2028.95 197.439 L2033.21 197.439 L2033.21 202.833 L2028.95 202.833 L2028.95 197.439 Z\" fill=\"#000000\" fill-rule=\"evenodd\" fill-opacity=\"1\" /><path clip-path=\"url(#clip950)\" d=\"M 0 0 M2049.46 220.425 Q2044.3 220.425 2042.31 221.606 Q2040.32 222.786 2040.32 225.634 Q2040.32 227.902 2041.8 229.245 Q2043.3 230.564 2045.87 230.564 Q2049.41 230.564 2051.54 228.064 Q2053.7 225.541 2053.7 221.374 L2053.7 220.425 L2049.46 220.425 M2057.96 218.666 L2057.96 233.458 L2053.7 233.458 L2053.7 229.522 Q2052.24 231.883 2050.06 233.018 Q2047.89 234.129 2044.74 234.129 Q2040.76 234.129 2038.4 231.907 Q2036.06 229.661 2036.06 225.911 Q2036.06 221.536 2038.97 219.314 Q2041.91 217.092 2047.72 217.092 L2053.7 217.092 L2053.7 216.675 Q2053.7 213.735 2051.75 212.138 Q2049.83 210.518 2046.34 210.518 Q2044.11 210.518 2042.01 211.05 Q2039.9 211.583 2037.96 212.647 L2037.96 208.712 Q2040.29 207.81 2042.49 207.37 Q2044.69 206.907 2046.78 206.907 Q2052.4 206.907 2055.18 209.823 Q2057.96 212.74 2057.96 218.666 Z\" fill=\"#000000\" fill-rule=\"evenodd\" fill-opacity=\"1\" /><path clip-path=\"url(#clip950)\" d=\"M 0 0 M2078.95 208.296 L2078.95 212.323 Q2077.15 211.397 2075.2 210.935 Q2073.26 210.472 2071.17 210.472 Q2068 210.472 2066.41 211.444 Q2064.83 212.416 2064.83 214.36 Q2064.83 215.842 2065.97 216.698 Q2067.1 217.532 2070.53 218.296 L2071.98 218.62 Q2076.52 219.592 2078.42 221.374 Q2080.34 223.134 2080.34 226.305 Q2080.34 229.916 2077.47 232.022 Q2074.62 234.129 2069.62 234.129 Q2067.54 234.129 2065.27 233.712 Q2063.03 233.319 2060.53 232.508 L2060.53 228.11 Q2062.89 229.337 2065.18 229.962 Q2067.47 230.564 2069.72 230.564 Q2072.72 230.564 2074.34 229.546 Q2075.97 228.504 2075.97 226.629 Q2075.97 224.893 2074.78 223.967 Q2073.63 223.041 2069.67 222.184 L2068.19 221.837 Q2064.23 221.004 2062.47 219.291 Q2060.71 217.555 2060.71 214.546 Q2060.71 210.888 2063.3 208.898 Q2065.9 206.907 2070.66 206.907 Q2073.03 206.907 2075.11 207.254 Q2077.19 207.601 2078.95 208.296 Z\" fill=\"#000000\" fill-rule=\"evenodd\" fill-opacity=\"1\" /><path clip-path=\"url(#clip950)\" d=\"M 0 0 M2089.02 200.171 L2089.02 207.532 L2097.79 207.532 L2097.79 210.842 L2089.02 210.842 L2089.02 224.916 Q2089.02 228.087 2089.88 228.99 Q2090.76 229.893 2093.42 229.893 L2097.79 229.893 L2097.79 233.458 L2093.42 233.458 Q2088.49 233.458 2086.61 231.629 Q2084.74 229.777 2084.74 224.916 L2084.74 210.842 L2081.61 210.842 L2081.61 207.532 L2084.74 207.532 L2084.74 200.171 L2089.02 200.171 Z\" fill=\"#000000\" fill-rule=\"evenodd\" fill-opacity=\"1\" /><path clip-path=\"url(#clip950)\" d=\"M 0 0 M2117.28 211.513 Q2116.57 211.097 2115.71 210.911 Q2114.88 210.703 2113.86 210.703 Q2110.25 210.703 2108.3 213.064 Q2106.38 215.402 2106.38 219.8 L2106.38 233.458 L2102.1 233.458 L2102.1 207.532 L2106.38 207.532 L2106.38 211.56 Q2107.72 209.198 2109.88 208.064 Q2112.03 206.907 2115.11 206.907 Q2115.55 206.907 2116.08 206.976 Q2116.61 207.023 2117.26 207.138 L2117.28 211.513 Z\" fill=\"#000000\" fill-rule=\"evenodd\" fill-opacity=\"1\" /><path clip-path=\"url(#clip950)\" d=\"M 0 0 M2119.9 207.532 L2140.13 207.532 L2140.13 211.421 L2124.11 230.055 L2140.13 230.055 L2140.13 233.458 L2119.32 233.458 L2119.32 229.569 L2135.34 210.935 L2119.9 210.935 L2119.9 207.532 Z\" fill=\"#000000\" fill-rule=\"evenodd\" fill-opacity=\"1\" /><path clip-path=\"url(#clip950)\" d=\"M 0 0 M2166.78 219.43 L2166.78 221.513 L2147.19 221.513 Q2147.47 225.911 2149.83 228.226 Q2152.21 230.518 2156.45 230.518 Q2158.9 230.518 2161.2 229.916 Q2163.51 229.314 2165.78 228.11 L2165.78 232.138 Q2163.49 233.11 2161.08 233.62 Q2158.67 234.129 2156.2 234.129 Q2149.99 234.129 2146.36 230.518 Q2142.75 226.907 2142.75 220.749 Q2142.75 214.384 2146.17 210.657 Q2149.62 206.907 2155.46 206.907 Q2160.69 206.907 2163.72 210.286 Q2166.78 213.643 2166.78 219.43 M2162.52 218.18 Q2162.47 214.685 2160.55 212.601 Q2158.65 210.518 2155.5 210.518 Q2151.94 210.518 2149.78 212.532 Q2147.65 214.546 2147.33 218.203 L2162.52 218.18 M2159.02 233.458 L2161.78 233.458 Q2160.73 234.87 2160.22 235.888 Q2159.74 236.907 2159.74 237.624 Q2159.74 238.689 2160.36 239.221 Q2161.01 239.754 2162.26 239.754 Q2163 239.754 2163.72 239.569 Q2164.44 239.407 2165.15 239.059 L2165.15 242.138 Q2164.28 242.37 2163.49 242.485 Q2162.7 242.601 2162.01 242.601 Q2159.18 242.601 2157.84 241.583 Q2156.52 240.587 2156.52 238.434 Q2156.52 237.323 2157.12 236.096 Q2157.75 234.893 2159.02 233.458 Z\" fill=\"#000000\" fill-rule=\"evenodd\" fill-opacity=\"1\" /><path clip-path=\"url(#clip950)\" d=\"M 0 0 M2189.85 220.518 Q2189.85 215.819 2187.91 213.157 Q2185.99 210.472 2182.61 210.472 Q2179.23 210.472 2177.28 213.157 Q2175.36 215.819 2175.36 220.518 Q2175.36 225.217 2177.28 227.902 Q2179.23 230.564 2182.61 230.564 Q2185.99 230.564 2187.91 227.902 Q2189.85 225.217 2189.85 220.518 M2175.36 211.467 Q2176.71 209.152 2178.74 208.041 Q2180.8 206.907 2183.65 206.907 Q2188.37 206.907 2191.31 210.657 Q2194.27 214.407 2194.27 220.518 Q2194.27 226.629 2191.31 230.379 Q2188.37 234.129 2183.65 234.129 Q2180.8 234.129 2178.74 233.018 Q2176.71 231.883 2175.36 229.569 L2175.36 233.458 L2171.08 233.458 L2171.08 197.439 L2175.36 197.439 L2175.36 211.467 Z\" fill=\"#000000\" fill-rule=\"evenodd\" fill-opacity=\"1\" /><path clip-path=\"url(#clip950)\" d=\"M 0 0 M2198.74 207.532 L2203 207.532 L2203 233.458 L2198.74 233.458 L2198.74 207.532 M2198.74 197.439 L2203 197.439 L2203 202.833 L2198.74 202.833 L2198.74 197.439 Z\" fill=\"#000000\" fill-rule=\"evenodd\" fill-opacity=\"1\" /><path clip-path=\"url(#clip950)\" d=\"M 0 0 M2229.65 219.43 L2229.65 221.513 L2210.06 221.513 Q2210.34 225.911 2212.7 228.226 Q2215.08 230.518 2219.32 230.518 Q2221.77 230.518 2224.07 229.916 Q2226.38 229.314 2228.65 228.11 L2228.65 232.138 Q2226.36 233.11 2223.95 233.62 Q2221.54 234.129 2219.07 234.129 Q2212.86 234.129 2209.23 230.518 Q2205.62 226.907 2205.62 220.749 Q2205.62 214.384 2209.04 210.657 Q2212.49 206.907 2218.33 206.907 Q2223.56 206.907 2226.59 210.286 Q2229.65 213.643 2229.65 219.43 M2225.39 218.18 Q2225.34 214.685 2223.42 212.601 Q2221.52 210.518 2218.37 210.518 Q2214.81 210.518 2212.65 212.532 Q2210.52 214.546 2210.2 218.203 L2225.39 218.18 Z\" fill=\"#000000\" fill-rule=\"evenodd\" fill-opacity=\"1\" /></svg>\n"
     },
     "metadata": {},
     "execution_count": 41
    }
   ],
   "source": [
    "plot(1:size(A)[1], A[:, 1], label=\"gołębie\", color= :purple)\n",
    "plot!(1:size(A)[1], A[:, 2], label=\"jastrzębie\", color= :green)"
   ]
  },
  {
   "cell_type": "code",
   "execution_count": 42,
   "metadata": {},
   "outputs": [
    {
     "output_type": "execute_result",
     "data": {
      "text/plain": [
       "Node{WebIO.DOM}(WebIO.DOM(:html, :div), Any[Node{WebIO.DOM}(WebIO.DOM(:html, :div), Any[Scope(Node{WebIO.DOM}(WebIO.DOM(:html, :div), Any[Node{WebIO.DOM}(WebIO.DOM(:html, :div), Any[Node{WebIO.DOM}(WebIO.DOM(:html, :label), Any[\"time\"], Dict{Symbol,Any}(:className => \"interact \",:style => Dict{Any,Any}(:padding => \"5px 10px 0px 10px\")))], Dict{Symbol,Any}(:className => \"interact-flex-row-left\")), Node{WebIO.DOM}(WebIO.DOM(:html, :div), Any[Node{WebIO.DOM}(WebIO.DOM(:html, :input), Any[], Dict{Symbol,Any}(:max => 99,:min => 1,:attributes => Dict{Any,Any}(:type => \"range\",Symbol(\"data-bind\") => \"numericValue: index, valueUpdate: 'input', event: {change: function (){this.changes(this.changes()+1)}}\",\"orient\" => \"horizontal\"),:step => 1,:className => \"slider slider is-fullwidth\",:style => Dict{Any,Any}()))], Dict{Symbol,Any}(:className => \"interact-flex-row-center\")), Node{WebIO.DOM}(WebIO.DOM(:html, :div), Any[Node{WebIO.DOM}(WebIO.DOM(:html, :p), Any[], Dict{Symbol,Any}(:attributes => Dict(\"data-bind\" => \"text: formatted_val\")))], Dict{Symbol,Any}(:className => \"interact-flex-row-right\"))], Dict{Symbol,Any}(:className => \"interact-flex-row interact-widget\")), Dict{String,Tuple{Observables.AbstractObservable,Union{Nothing, Bool}}}(\"changes\" => (Observable{Int64} with 1 listeners. Value:\n",
       "0, nothing),\"index\" => (Observable{Any} with 2 listeners. Value:\n",
       "50, nothing)), Set{String}(), nothing, Asset[Asset(\"js\", \"knockout\", \"C:\\\\Users\\\\mazur\\\\.julia\\\\packages\\\\Knockout\\\\IP1uR\\\\src\\\\..\\\\assets\\\\knockout.js\"), Asset(\"js\", \"knockout_punches\", \"C:\\\\Users\\\\mazur\\\\.julia\\\\packages\\\\Knockout\\\\IP1uR\\\\src\\\\..\\\\assets\\\\knockout_punches.js\"), Asset(\"js\", nothing, \"C:\\\\Users\\\\mazur\\\\.julia\\\\packages\\\\InteractBase\\\\Zfu5P\\\\src\\\\..\\\\assets\\\\all.js\"), Asset(\"css\", nothing, \"C:\\\\Users\\\\mazur\\\\.julia\\\\packages\\\\InteractBase\\\\Zfu5P\\\\src\\\\..\\\\assets\\\\style.css\"), Asset(\"css\", nothing, \"C:\\\\Users\\\\mazur\\\\.julia\\\\packages\\\\Interact\\\\SbgIk\\\\src\\\\..\\\\assets\\\\bulma_confined.min.css\")], Dict{Any,Any}(\"changes\" => Any[WebIO.JSString(\"(function (val){return (val!=this.model[\\\"changes\\\"]()) ? (this.valueFromJulia[\\\"changes\\\"]=true, this.model[\\\"changes\\\"](val)) : undefined})\")],\"index\" => Any[WebIO.JSString(\"(function (val){return (val!=this.model[\\\"index\\\"]()) ? (this.valueFromJulia[\\\"index\\\"]=true, this.model[\\\"index\\\"](val)) : undefined})\")]), WebIO.ConnectionPool(Channel{Any}(sz_max:32,sz_curr:0), Set{AbstractConnection}(), Base.GenericCondition{Base.AlwaysLockedST}(Base.InvasiveLinkedList{Task}(Task (runnable) @0x000000003583eb30, Task (runnable) @0x000000003583eb30), Base.AlwaysLockedST(1))), WebIO.JSString[WebIO.JSString(\"function () {\\n    var handler = (function (ko, koPunches) {\\n    ko.punches.enableAll();\\n    ko.bindingHandlers.numericValue = {\\n        init: function(element, valueAccessor, allBindings, data, context) {\\n            var stringified = ko.observable(ko.unwrap(valueAccessor()));\\n            stringified.subscribe(function(value) {\\n                var val = parseFloat(value);\\n                if (!isNaN(val)) {\\n                    valueAccessor()(val);\\n                }\\n            });\\n            valueAccessor().subscribe(function(value) {\\n                var str = JSON.stringify(value);\\n                if ((str == \\\"0\\\") && ([\\\"-0\\\", \\\"-0.\\\"].indexOf(stringified()) >= 0))\\n                     return;\\n                 if ([\\\"null\\\", \\\"\\\"].indexOf(str) >= 0)\\n                     return;\\n                stringified(str);\\n            });\\n            ko.applyBindingsToNode(\\n                element,\\n                {\\n                    value: stringified,\\n                    valueUpdate: allBindings.get('valueUpdate'),\\n                },\\n                context,\\n            );\\n        }\\n    };\\n    var json_data = {\\\"formatted_vals\\\":[\\\"2\\\",\\\"3\\\",\\\"4\\\",\\\"5\\\",\\\"6\\\",\\\"7\\\",\\\"8\\\",\\\"9\\\",\\\"10\\\",\\\"11\\\",\\\"12\\\",\\\"13\\\",\\\"14\\\",\\\"15\\\",\\\"16\\\",\\\"17\\\",\\\"18\\\",\\\"19\\\",\\\"20\\\",\\\"21\\\",\\\"22\\\",\\\"23\\\",\\\"24\\\",\\\"25\\\",\\\"26\\\",\\\"27\\\",\\\"28\\\",\\\"29\\\",\\\"30\\\",\\\"31\\\",\\\"32\\\",\\\"33\\\",\\\"34\\\",\\\"35\\\",\\\"36\\\",\\\"37\\\",\\\"38\\\",\\\"39\\\",\\\"40\\\",\\\"41\\\",\\\"42\\\",\\\"43\\\",\\\"44\\\",\\\"45\\\",\\\"46\\\",\\\"47\\\",\\\"48\\\",\\\"49\\\",\\\"50\\\",\\\"51\\\",\\\"52\\\",\\\"53\\\",\\\"54\\\",\\\"55\\\",\\\"56\\\",\\\"57\\\",\\\"58\\\",\\\"59\\\",\\\"60\\\",\\\"61\\\",\\\"62\\\",\\\"63\\\",\\\"64\\\",\\\"65\\\",\\\"66\\\",\\\"67\\\",\\\"68\\\",\\\"69\\\",\\\"70\\\",\\\"71\\\",\\\"72\\\",\\\"73\\\",\\\"74\\\",\\\"75\\\",\\\"76\\\",\\\"77\\\",\\\"78\\\",\\\"79\\\",\\\"80\\\",\\\"81\\\",\\\"82\\\",\\\"83\\\",\\\"84\\\",\\\"85\\\",\\\"86\\\",\\\"87\\\",\\\"88\\\",\\\"89\\\",\\\"90\\\",\\\"91\\\",\\\"92\\\",\\\"93\\\",\\\"94\\\",\\\"95\\\",\\\"96\\\",\\\"97\\\",\\\"98\\\",\\\"99\\\",\\\"100\\\"],\\\"changes\\\":WebIO.getval({\\\"name\\\":\\\"changes\\\",\\\"scope\\\":\\\"4166957277559236250\\\",\\\"id\\\":\\\"13310662829309831858\\\",\\\"type\\\":\\\"observable\\\"}),\\\"index\\\":WebIO.getval({\\\"name\\\":\\\"index\\\",\\\"scope\\\":\\\"4166957277559236250\\\",\\\"id\\\":\\\"12030063998074826302\\\",\\\"type\\\":\\\"observable\\\"})};\\n    var self = this;\\n    function AppViewModel() {\\n        for (var key in json_data) {\\n            var el = json_data[key];\\n            this[key] = Array.isArray(el) ? ko.observableArray(el) : ko.observable(el);\\n        }\\n        \\n        [this[\\\"formatted_val\\\"]=ko.computed(    function(){\\n        return this.formatted_vals()[parseInt(this.index())-(1)];\\n    }\\n,this)]\\n        [this[\\\"changes\\\"].subscribe((function (val){!(this.valueFromJulia[\\\"changes\\\"]) ? (WebIO.setval({\\\"name\\\":\\\"changes\\\",\\\"scope\\\":\\\"4166957277559236250\\\",\\\"id\\\":\\\"13310662829309831858\\\",\\\"type\\\":\\\"observable\\\"},val)) : undefined; return this.valueFromJulia[\\\"changes\\\"]=false}),self),this[\\\"index\\\"].subscribe((function (val){!(this.valueFromJulia[\\\"index\\\"]) ? (WebIO.setval({\\\"name\\\":\\\"index\\\",\\\"scope\\\":\\\"4166957277559236250\\\",\\\"id\\\":\\\"12030063998074826302\\\",\\\"type\\\":\\\"observable\\\"},val)) : undefined; return this.valueFromJulia[\\\"index\\\"]=false}),self)]\\n        \\n    }\\n    self.model = new AppViewModel();\\n    self.valueFromJulia = {};\\n    for (var key in json_data) {\\n        self.valueFromJulia[key] = false;\\n    }\\n    ko.applyBindings(self.model, self.dom);\\n}\\n);\\n    (WebIO.importBlock({\\\"data\\\":[{\\\"name\\\":\\\"knockout\\\",\\\"type\\\":\\\"js\\\",\\\"url\\\":\\\"/assetserver/c00c2f0c97708ff9a4ee2df6a863591035e5b14d-knockout.js\\\"},{\\\"name\\\":\\\"knockout_punches\\\",\\\"type\\\":\\\"js\\\",\\\"url\\\":\\\"/assetserver/d48997a9048acbe477f714571d8d8ee9f86b8ac3-knockout_punches.js\\\"}],\\\"type\\\":\\\"async_block\\\"})).then((imports) => handler.apply(this, imports));\\n}\\n\")])], Dict{Symbol,Any}(:className => \"field interact-widget\")), Observable{Any} with 0 listeners. Value:\n",
       "Node{WebIO.DOM}(WebIO.DOM(:html, :div), Any[Plot{Plots.GRBackend() n=2}], Dict{Symbol,Any}(:className => \"interact-flex-row interact-widget\"))], Dict{Symbol,Any}())"
      ],
      "application/vnd.webio.node+json": {
       "props": {},
       "nodeType": "DOM",
       "type": "node",
       "instanceArgs": {
        "namespace": "html",
        "tag": "div"
       },
       "children": [
        {
         "props": {
          "className": "field interact-widget"
         },
         "nodeType": "DOM",
         "type": "node",
         "instanceArgs": {
          "namespace": "html",
          "tag": "div"
         },
         "children": [
          {
           "props": {},
           "nodeType": "Scope",
           "type": "node",
           "instanceArgs": {
            "imports": {
             "data": [
              {
               "name": "knockout",
               "type": "js",
               "url": "/assetserver/c00c2f0c97708ff9a4ee2df6a863591035e5b14d-knockout.js"
              },
              {
               "name": "knockout_punches",
               "type": "js",
               "url": "/assetserver/d48997a9048acbe477f714571d8d8ee9f86b8ac3-knockout_punches.js"
              },
              {
               "name": null,
               "type": "js",
               "url": "/assetserver/0d9ce44d02750af84dbe78a0c75555792b6084cf-all.js"
              },
              {
               "name": null,
               "type": "css",
               "url": "/assetserver/d9fbbaa5970f333e151d0b467c875b12824637f1-style.css"
              },
              {
               "name": null,
               "type": "css",
               "url": "/assetserver/75880f13c53616a3e094de62bc44a7739b386925-bulma_confined.min.css"
              }
             ],
             "type": "async_block"
            },
            "id": "4166957277559236250",
            "handlers": {
             "changes": [
              "(function (val){return (val!=this.model[\"changes\"]()) ? (this.valueFromJulia[\"changes\"]=true, this.model[\"changes\"](val)) : undefined})"
             ],
             "index": [
              "(function (val){return (val!=this.model[\"index\"]()) ? (this.valueFromJulia[\"index\"]=true, this.model[\"index\"](val)) : undefined})"
             ]
            },
            "systemjs_options": null,
            "mount_callbacks": [
             "function () {\n    var handler = (function (ko, koPunches) {\n    ko.punches.enableAll();\n    ko.bindingHandlers.numericValue = {\n        init: function(element, valueAccessor, allBindings, data, context) {\n            var stringified = ko.observable(ko.unwrap(valueAccessor()));\n            stringified.subscribe(function(value) {\n                var val = parseFloat(value);\n                if (!isNaN(val)) {\n                    valueAccessor()(val);\n                }\n            });\n            valueAccessor().subscribe(function(value) {\n                var str = JSON.stringify(value);\n                if ((str == \"0\") && ([\"-0\", \"-0.\"].indexOf(stringified()) >= 0))\n                     return;\n                 if ([\"null\", \"\"].indexOf(str) >= 0)\n                     return;\n                stringified(str);\n            });\n            ko.applyBindingsToNode(\n                element,\n                {\n                    value: stringified,\n                    valueUpdate: allBindings.get('valueUpdate'),\n                },\n                context,\n            );\n        }\n    };\n    var json_data = {\"formatted_vals\":[\"2\",\"3\",\"4\",\"5\",\"6\",\"7\",\"8\",\"9\",\"10\",\"11\",\"12\",\"13\",\"14\",\"15\",\"16\",\"17\",\"18\",\"19\",\"20\",\"21\",\"22\",\"23\",\"24\",\"25\",\"26\",\"27\",\"28\",\"29\",\"30\",\"31\",\"32\",\"33\",\"34\",\"35\",\"36\",\"37\",\"38\",\"39\",\"40\",\"41\",\"42\",\"43\",\"44\",\"45\",\"46\",\"47\",\"48\",\"49\",\"50\",\"51\",\"52\",\"53\",\"54\",\"55\",\"56\",\"57\",\"58\",\"59\",\"60\",\"61\",\"62\",\"63\",\"64\",\"65\",\"66\",\"67\",\"68\",\"69\",\"70\",\"71\",\"72\",\"73\",\"74\",\"75\",\"76\",\"77\",\"78\",\"79\",\"80\",\"81\",\"82\",\"83\",\"84\",\"85\",\"86\",\"87\",\"88\",\"89\",\"90\",\"91\",\"92\",\"93\",\"94\",\"95\",\"96\",\"97\",\"98\",\"99\",\"100\"],\"changes\":WebIO.getval({\"name\":\"changes\",\"scope\":\"4166957277559236250\",\"id\":\"13310662829309831858\",\"type\":\"observable\"}),\"index\":WebIO.getval({\"name\":\"index\",\"scope\":\"4166957277559236250\",\"id\":\"12030063998074826302\",\"type\":\"observable\"})};\n    var self = this;\n    function AppViewModel() {\n        for (var key in json_data) {\n            var el = json_data[key];\n            this[key] = Array.isArray(el) ? ko.observableArray(el) : ko.observable(el);\n        }\n        \n        [this[\"formatted_val\"]=ko.computed(    function(){\n        return this.formatted_vals()[parseInt(this.index())-(1)];\n    }\n,this)]\n        [this[\"changes\"].subscribe((function (val){!(this.valueFromJulia[\"changes\"]) ? (WebIO.setval({\"name\":\"changes\",\"scope\":\"4166957277559236250\",\"id\":\"13310662829309831858\",\"type\":\"observable\"},val)) : undefined; return this.valueFromJulia[\"changes\"]=false}),self),this[\"index\"].subscribe((function (val){!(this.valueFromJulia[\"index\"]) ? (WebIO.setval({\"name\":\"index\",\"scope\":\"4166957277559236250\",\"id\":\"12030063998074826302\",\"type\":\"observable\"},val)) : undefined; return this.valueFromJulia[\"index\"]=false}),self)]\n        \n    }\n    self.model = new AppViewModel();\n    self.valueFromJulia = {};\n    for (var key in json_data) {\n        self.valueFromJulia[key] = false;\n    }\n    ko.applyBindings(self.model, self.dom);\n}\n);\n    (WebIO.importBlock({\"data\":[{\"name\":\"knockout\",\"type\":\"js\",\"url\":\"/assetserver/c00c2f0c97708ff9a4ee2df6a863591035e5b14d-knockout.js\"},{\"name\":\"knockout_punches\",\"type\":\"js\",\"url\":\"/assetserver/d48997a9048acbe477f714571d8d8ee9f86b8ac3-knockout_punches.js\"}],\"type\":\"async_block\"})).then((imports) => handler.apply(this, imports));\n}\n"
            ],
            "observables": {
             "changes": {
              "sync": false,
              "id": "13310662829309831858",
              "value": 0
             },
             "index": {
              "sync": true,
              "id": "12030063998074826302",
              "value": 50
             }
            }
           },
           "children": [
            {
             "props": {
              "className": "interact-flex-row interact-widget"
             },
             "nodeType": "DOM",
             "type": "node",
             "instanceArgs": {
              "namespace": "html",
              "tag": "div"
             },
             "children": [
              {
               "props": {
                "className": "interact-flex-row-left"
               },
               "nodeType": "DOM",
               "type": "node",
               "instanceArgs": {
                "namespace": "html",
                "tag": "div"
               },
               "children": [
                {
                 "props": {
                  "className": "interact ",
                  "style": {
                   "padding": "5px 10px 0px 10px"
                  }
                 },
                 "nodeType": "DOM",
                 "type": "node",
                 "instanceArgs": {
                  "namespace": "html",
                  "tag": "label"
                 },
                 "children": [
                  "time"
                 ]
                }
               ]
              },
              {
               "props": {
                "className": "interact-flex-row-center"
               },
               "nodeType": "DOM",
               "type": "node",
               "instanceArgs": {
                "namespace": "html",
                "tag": "div"
               },
               "children": [
                {
                 "props": {
                  "max": 99,
                  "min": 1,
                  "attributes": {
                   "type": "range",
                   "data-bind": "numericValue: index, valueUpdate: 'input', event: {change: function (){this.changes(this.changes()+1)}}",
                   "orient": "horizontal"
                  },
                  "step": 1,
                  "className": "slider slider is-fullwidth",
                  "style": {}
                 },
                 "nodeType": "DOM",
                 "type": "node",
                 "instanceArgs": {
                  "namespace": "html",
                  "tag": "input"
                 },
                 "children": []
                }
               ]
              },
              {
               "props": {
                "className": "interact-flex-row-right"
               },
               "nodeType": "DOM",
               "type": "node",
               "instanceArgs": {
                "namespace": "html",
                "tag": "div"
               },
               "children": [
                {
                 "props": {
                  "attributes": {
                   "data-bind": "text: formatted_val"
                  }
                 },
                 "nodeType": "DOM",
                 "type": "node",
                 "instanceArgs": {
                  "namespace": "html",
                  "tag": "p"
                 },
                 "children": []
                }
               ]
              }
             ]
            }
           ]
          }
         ]
        },
        {
         "props": {},
         "nodeType": "Scope",
         "type": "node",
         "instanceArgs": {
          "imports": {
           "data": [],
           "type": "async_block"
          },
          "id": "17232212291469233420",
          "handlers": {},
          "systemjs_options": null,
          "mount_callbacks": [],
          "observables": {
           "obs-node": {
            "sync": false,
            "id": "16240354170925373079",
            "value": {
             "props": {
              "className": "interact-flex-row interact-widget"
             },
             "nodeType": "DOM",
             "type": "node",
             "instanceArgs": {
              "namespace": "html",
              "tag": "div"
             },
             "children": [
              {
               "props": {
                "setInnerHtml": "<?xml version=\"1.0\" encoding=\"utf-8\"?>\n<svg xmlns=\"http://www.w3.org/2000/svg\" xmlns:xlink=\"http://www.w3.org/1999/xlink\" width=\"600\" height=\"400\" viewBox=\"0 0 2400 1600\">\n<defs>\n  <clipPath id=\"clip030\">\n    <rect x=\"0\" y=\"0\" width=\"2400\" height=\"1600\"/>\n  </clipPath>\n</defs>\n<path clip-path=\"url(#clip030)\" d=\"\nM0 1600 L2400 1600 L2400 0 L0 0  Z\n  \" fill=\"#ffffff\" fill-rule=\"evenodd\" fill-opacity=\"1\"/>\n<defs>\n  <clipPath id=\"clip031\">\n    <rect x=\"480\" y=\"0\" width=\"1681\" height=\"1600\"/>\n  </clipPath>\n</defs>\n<path clip-path=\"url(#clip030)\" d=\"\nM136.76 1486.45 L2352.76 1486.45 L2352.76 47.2441 L136.76 47.2441  Z\n  \" fill=\"#ffffff\" fill-rule=\"evenodd\" fill-opacity=\"1\"/>\n<defs>\n  <clipPath id=\"clip032\">\n    <rect x=\"136\" y=\"47\" width=\"2217\" height=\"1440\"/>\n  </clipPath>\n</defs>\n<polyline clip-path=\"url(#clip032)\" style=\"stroke:#000000; stroke-width:2; stroke-opacity:0.1; fill:none\" points=\"\n  157.666,1486.45 157.666,47.2441 \n  \"/>\n<polyline clip-path=\"url(#clip032)\" style=\"stroke:#000000; stroke-width:2; stroke-opacity:0.1; fill:none\" points=\"\n  575.778,1486.45 575.778,47.2441 \n  \"/>\n<polyline clip-path=\"url(#clip032)\" style=\"stroke:#000000; stroke-width:2; stroke-opacity:0.1; fill:none\" points=\"\n  993.891,1486.45 993.891,47.2441 \n  \"/>\n<polyline clip-path=\"url(#clip032)\" style=\"stroke:#000000; stroke-width:2; stroke-opacity:0.1; fill:none\" points=\"\n  1412,1486.45 1412,47.2441 \n  \"/>\n<polyline clip-path=\"url(#clip032)\" style=\"stroke:#000000; stroke-width:2; stroke-opacity:0.1; fill:none\" points=\"\n  1830.12,1486.45 1830.12,47.2441 \n  \"/>\n<polyline clip-path=\"url(#clip032)\" style=\"stroke:#000000; stroke-width:2; stroke-opacity:0.1; fill:none\" points=\"\n  2248.23,1486.45 2248.23,47.2441 \n  \"/>\n<polyline clip-path=\"url(#clip030)\" style=\"stroke:#000000; stroke-width:4; stroke-opacity:1; fill:none\" points=\"\n  136.76,1486.45 2352.76,1486.45 \n  \"/>\n<polyline clip-path=\"url(#clip030)\" style=\"stroke:#000000; stroke-width:4; stroke-opacity:1; fill:none\" points=\"\n  157.666,1486.45 157.666,1469.18 \n  \"/>\n<polyline clip-path=\"url(#clip030)\" style=\"stroke:#000000; stroke-width:4; stroke-opacity:1; fill:none\" points=\"\n  575.778,1486.45 575.778,1469.18 \n  \"/>\n<polyline clip-path=\"url(#clip030)\" style=\"stroke:#000000; stroke-width:4; stroke-opacity:1; fill:none\" points=\"\n  993.891,1486.45 993.891,1469.18 \n  \"/>\n<polyline clip-path=\"url(#clip030)\" style=\"stroke:#000000; stroke-width:4; stroke-opacity:1; fill:none\" points=\"\n  1412,1486.45 1412,1469.18 \n  \"/>\n<polyline clip-path=\"url(#clip030)\" style=\"stroke:#000000; stroke-width:4; stroke-opacity:1; fill:none\" points=\"\n  1830.12,1486.45 1830.12,1469.18 \n  \"/>\n<polyline clip-path=\"url(#clip030)\" style=\"stroke:#000000; stroke-width:4; stroke-opacity:1; fill:none\" points=\"\n  2248.23,1486.45 2248.23,1469.18 \n  \"/>\n<path clip-path=\"url(#clip030)\" d=\"M 0 0 M157.666 1515.64 Q154.055 1515.64 152.226 1519.2 Q150.421 1522.75 150.421 1529.87 Q150.421 1536.98 152.226 1540.55 Q154.055 1544.09 157.666 1544.09 Q161.3 1544.09 163.106 1540.55 Q164.934 1536.98 164.934 1529.87 Q164.934 1522.75 163.106 1519.2 Q161.3 1515.64 157.666 1515.64 M157.666 1511.93 Q163.476 1511.93 166.532 1516.54 Q169.61 1521.12 169.61 1529.87 Q169.61 1538.6 166.532 1543.21 Q163.476 1547.79 157.666 1547.79 Q151.856 1547.79 148.777 1543.21 Q145.722 1538.6 145.722 1529.87 Q145.722 1521.12 148.777 1516.54 Q151.856 1511.93 157.666 1511.93 Z\" fill=\"#000000\" fill-rule=\"evenodd\" fill-opacity=\"1\" /><path clip-path=\"url(#clip030)\" d=\"M 0 0 M552.653 1543.18 L560.292 1543.18 L560.292 1516.82 L551.982 1518.49 L551.982 1514.23 L560.246 1512.56 L564.922 1512.56 L564.922 1543.18 L572.561 1543.18 L572.561 1547.12 L552.653 1547.12 L552.653 1543.18 Z\" fill=\"#000000\" fill-rule=\"evenodd\" fill-opacity=\"1\" /><path clip-path=\"url(#clip030)\" d=\"M 0 0 M587.63 1515.64 Q584.019 1515.64 582.19 1519.2 Q580.385 1522.75 580.385 1529.87 Q580.385 1536.98 582.19 1540.55 Q584.019 1544.09 587.63 1544.09 Q591.264 1544.09 593.07 1540.55 Q594.899 1536.98 594.899 1529.87 Q594.899 1522.75 593.07 1519.2 Q591.264 1515.64 587.63 1515.64 M587.63 1511.93 Q593.44 1511.93 596.496 1516.54 Q599.575 1521.12 599.575 1529.87 Q599.575 1538.6 596.496 1543.21 Q593.44 1547.79 587.63 1547.79 Q581.82 1547.79 578.741 1543.21 Q575.686 1538.6 575.686 1529.87 Q575.686 1521.12 578.741 1516.54 Q581.82 1511.93 587.63 1511.93 Z\" fill=\"#000000\" fill-rule=\"evenodd\" fill-opacity=\"1\" /><path clip-path=\"url(#clip030)\" d=\"M 0 0 M975.037 1543.18 L991.356 1543.18 L991.356 1547.12 L969.412 1547.12 L969.412 1543.18 Q972.074 1540.43 976.657 1535.8 Q981.263 1531.15 982.444 1529.81 Q984.689 1527.28 985.569 1525.55 Q986.472 1523.79 986.472 1522.1 Q986.472 1519.34 984.527 1517.61 Q982.606 1515.87 979.504 1515.87 Q977.305 1515.87 974.851 1516.63 Q972.421 1517.4 969.643 1518.95 L969.643 1514.23 Q972.467 1513.09 974.921 1512.51 Q977.375 1511.93 979.412 1511.93 Q984.782 1511.93 987.976 1514.62 Q991.171 1517.31 991.171 1521.8 Q991.171 1523.93 990.361 1525.85 Q989.574 1527.74 987.467 1530.34 Q986.888 1531.01 983.787 1534.23 Q980.685 1537.42 975.037 1543.18 Z\" fill=\"#000000\" fill-rule=\"evenodd\" fill-opacity=\"1\" /><path clip-path=\"url(#clip030)\" d=\"M 0 0 M1006.43 1515.64 Q1002.81 1515.64 1000.99 1519.2 Q999.18 1522.75 999.18 1529.87 Q999.18 1536.98 1000.99 1540.55 Q1002.81 1544.09 1006.43 1544.09 Q1010.06 1544.09 1011.87 1540.55 Q1013.69 1536.98 1013.69 1529.87 Q1013.69 1522.75 1011.87 1519.2 Q1010.06 1515.64 1006.43 1515.64 M1006.43 1511.93 Q1012.24 1511.93 1015.29 1516.54 Q1018.37 1521.12 1018.37 1529.87 Q1018.37 1538.6 1015.29 1543.21 Q1012.24 1547.79 1006.43 1547.79 Q1000.62 1547.79 997.537 1543.21 Q994.481 1538.6 994.481 1529.87 Q994.481 1521.12 997.537 1516.54 Q1000.62 1511.93 1006.43 1511.93 Z\" fill=\"#000000\" fill-rule=\"evenodd\" fill-opacity=\"1\" /><path clip-path=\"url(#clip030)\" d=\"M 0 0 M1402.74 1528.49 Q1406.1 1529.2 1407.98 1531.47 Q1409.87 1533.74 1409.87 1537.07 Q1409.87 1542.19 1406.35 1544.99 Q1402.84 1547.79 1396.36 1547.79 Q1394.18 1547.79 1391.86 1547.35 Q1389.57 1546.93 1387.12 1546.08 L1387.12 1541.56 Q1389.06 1542.7 1391.38 1543.28 Q1393.69 1543.86 1396.22 1543.86 Q1400.61 1543.86 1402.91 1542.12 Q1405.22 1540.38 1405.22 1537.07 Q1405.22 1534.02 1403.07 1532.31 Q1400.94 1530.57 1397.12 1530.57 L1393.09 1530.57 L1393.09 1526.73 L1397.3 1526.73 Q1400.75 1526.73 1402.58 1525.36 Q1404.41 1523.97 1404.41 1521.38 Q1404.41 1518.72 1402.51 1517.31 Q1400.64 1515.87 1397.12 1515.87 Q1395.2 1515.87 1393 1516.29 Q1390.8 1516.7 1388.16 1517.58 L1388.16 1513.42 Q1390.82 1512.68 1393.14 1512.31 Q1395.48 1511.93 1397.54 1511.93 Q1402.86 1511.93 1405.96 1514.37 Q1409.06 1516.77 1409.06 1520.89 Q1409.06 1523.76 1407.42 1525.75 Q1405.78 1527.72 1402.74 1528.49 Z\" fill=\"#000000\" fill-rule=\"evenodd\" fill-opacity=\"1\" /><path clip-path=\"url(#clip030)\" d=\"M 0 0 M1424.94 1515.64 Q1421.33 1515.64 1419.5 1519.2 Q1417.7 1522.75 1417.7 1529.87 Q1417.7 1536.98 1419.5 1540.55 Q1421.33 1544.09 1424.94 1544.09 Q1428.58 1544.09 1430.38 1540.55 Q1432.21 1536.98 1432.21 1529.87 Q1432.21 1522.75 1430.38 1519.2 Q1428.58 1515.64 1424.94 1515.64 M1424.94 1511.93 Q1430.75 1511.93 1433.81 1516.54 Q1436.89 1521.12 1436.89 1529.87 Q1436.89 1538.6 1433.81 1543.21 Q1430.75 1547.79 1424.94 1547.79 Q1419.13 1547.79 1416.05 1543.21 Q1413 1538.6 1413 1529.87 Q1413 1521.12 1416.05 1516.54 Q1419.13 1511.93 1424.94 1511.93 Z\" fill=\"#000000\" fill-rule=\"evenodd\" fill-opacity=\"1\" /><path clip-path=\"url(#clip030)\" d=\"M 0 0 M1819.62 1516.63 L1807.81 1535.08 L1819.62 1535.08 L1819.62 1516.63 M1818.39 1512.56 L1824.27 1512.56 L1824.27 1535.08 L1829.2 1535.08 L1829.2 1538.97 L1824.27 1538.97 L1824.27 1547.12 L1819.62 1547.12 L1819.62 1538.97 L1804.02 1538.97 L1804.02 1534.46 L1818.39 1512.56 Z\" fill=\"#000000\" fill-rule=\"evenodd\" fill-opacity=\"1\" /><path clip-path=\"url(#clip030)\" d=\"M 0 0 M1844.27 1515.64 Q1840.66 1515.64 1838.83 1519.2 Q1837.03 1522.75 1837.03 1529.87 Q1837.03 1536.98 1838.83 1540.55 Q1840.66 1544.09 1844.27 1544.09 Q1847.9 1544.09 1849.71 1540.55 Q1851.54 1536.98 1851.54 1529.87 Q1851.54 1522.75 1849.71 1519.2 Q1847.9 1515.64 1844.27 1515.64 M1844.27 1511.93 Q1850.08 1511.93 1853.14 1516.54 Q1856.21 1521.12 1856.21 1529.87 Q1856.21 1538.6 1853.14 1543.21 Q1850.08 1547.79 1844.27 1547.79 Q1838.46 1547.79 1835.38 1543.21 Q1832.33 1538.6 1832.33 1529.87 Q1832.33 1521.12 1835.38 1516.54 Q1838.46 1511.93 1844.27 1511.93 Z\" fill=\"#000000\" fill-rule=\"evenodd\" fill-opacity=\"1\" /><path clip-path=\"url(#clip030)\" d=\"M 0 0 M2225 1512.56 L2243.36 1512.56 L2243.36 1516.5 L2229.28 1516.5 L2229.28 1524.97 Q2230.3 1524.62 2231.32 1524.46 Q2232.34 1524.27 2233.36 1524.27 Q2239.14 1524.27 2242.52 1527.44 Q2245.9 1530.62 2245.9 1536.03 Q2245.9 1541.61 2242.43 1544.71 Q2238.96 1547.79 2232.64 1547.79 Q2230.46 1547.79 2228.19 1547.42 Q2225.95 1547.05 2223.54 1546.31 L2223.54 1541.61 Q2225.62 1542.74 2227.85 1543.3 Q2230.07 1543.86 2232.55 1543.86 Q2236.55 1543.86 2238.89 1541.75 Q2241.23 1539.64 2241.23 1536.03 Q2241.23 1532.42 2238.89 1530.31 Q2236.55 1528.21 2232.55 1528.21 Q2230.67 1528.21 2228.8 1528.62 Q2226.94 1529.04 2225 1529.92 L2225 1512.56 Z\" fill=\"#000000\" fill-rule=\"evenodd\" fill-opacity=\"1\" /><path clip-path=\"url(#clip030)\" d=\"M 0 0 M2260.97 1515.64 Q2257.36 1515.64 2255.53 1519.2 Q2253.73 1522.75 2253.73 1529.87 Q2253.73 1536.98 2255.53 1540.55 Q2257.36 1544.09 2260.97 1544.09 Q2264.61 1544.09 2266.41 1540.55 Q2268.24 1536.98 2268.24 1529.87 Q2268.24 1522.75 2266.41 1519.2 Q2264.61 1515.64 2260.97 1515.64 M2260.97 1511.93 Q2266.78 1511.93 2269.84 1516.54 Q2272.92 1521.12 2272.92 1529.87 Q2272.92 1538.6 2269.84 1543.21 Q2266.78 1547.79 2260.97 1547.79 Q2255.16 1547.79 2252.08 1543.21 Q2249.03 1538.6 2249.03 1529.87 Q2249.03 1521.12 2252.08 1516.54 Q2255.16 1511.93 2260.97 1511.93 Z\" fill=\"#000000\" fill-rule=\"evenodd\" fill-opacity=\"1\" /><polyline clip-path=\"url(#clip032)\" style=\"stroke:#000000; stroke-width:2; stroke-opacity:0.1; fill:none\" points=\"\n  136.76,1348.73 2352.76,1348.73 \n  \"/>\n<polyline clip-path=\"url(#clip032)\" style=\"stroke:#000000; stroke-width:2; stroke-opacity:0.1; fill:none\" points=\"\n  136.76,1154.77 2352.76,1154.77 \n  \"/>\n<polyline clip-path=\"url(#clip032)\" style=\"stroke:#000000; stroke-width:2; stroke-opacity:0.1; fill:none\" points=\"\n  136.76,960.809 2352.76,960.809 \n  \"/>\n<polyline clip-path=\"url(#clip032)\" style=\"stroke:#000000; stroke-width:2; stroke-opacity:0.1; fill:none\" points=\"\n  136.76,766.846 2352.76,766.846 \n  \"/>\n<polyline clip-path=\"url(#clip032)\" style=\"stroke:#000000; stroke-width:2; stroke-opacity:0.1; fill:none\" points=\"\n  136.76,572.883 2352.76,572.883 \n  \"/>\n<polyline clip-path=\"url(#clip032)\" style=\"stroke:#000000; stroke-width:2; stroke-opacity:0.1; fill:none\" points=\"\n  136.76,378.92 2352.76,378.92 \n  \"/>\n<polyline clip-path=\"url(#clip032)\" style=\"stroke:#000000; stroke-width:2; stroke-opacity:0.1; fill:none\" points=\"\n  136.76,184.958 2352.76,184.958 \n  \"/>\n<polyline clip-path=\"url(#clip030)\" style=\"stroke:#000000; stroke-width:4; stroke-opacity:1; fill:none\" points=\"\n  136.76,1486.45 136.76,47.2441 \n  \"/>\n<polyline clip-path=\"url(#clip030)\" style=\"stroke:#000000; stroke-width:4; stroke-opacity:1; fill:none\" points=\"\n  136.76,1348.73 163.352,1348.73 \n  \"/>\n<polyline clip-path=\"url(#clip030)\" style=\"stroke:#000000; stroke-width:4; stroke-opacity:1; fill:none\" points=\"\n  136.76,1154.77 163.352,1154.77 \n  \"/>\n<polyline clip-path=\"url(#clip030)\" style=\"stroke:#000000; stroke-width:4; stroke-opacity:1; fill:none\" points=\"\n  136.76,960.809 163.352,960.809 \n  \"/>\n<polyline clip-path=\"url(#clip030)\" style=\"stroke:#000000; stroke-width:4; stroke-opacity:1; fill:none\" points=\"\n  136.76,766.846 163.352,766.846 \n  \"/>\n<polyline clip-path=\"url(#clip030)\" style=\"stroke:#000000; stroke-width:4; stroke-opacity:1; fill:none\" points=\"\n  136.76,572.883 163.352,572.883 \n  \"/>\n<polyline clip-path=\"url(#clip030)\" style=\"stroke:#000000; stroke-width:4; stroke-opacity:1; fill:none\" points=\"\n  136.76,378.92 163.352,378.92 \n  \"/>\n<polyline clip-path=\"url(#clip030)\" style=\"stroke:#000000; stroke-width:4; stroke-opacity:1; fill:none\" points=\"\n  136.76,184.958 163.352,184.958 \n  \"/>\n<path clip-path=\"url(#clip030)\" d=\"M 0 0 M57.4273 1362.08 L73.7466 1362.08 L73.7466 1366.01 L51.8023 1366.01 L51.8023 1362.08 Q54.4643 1359.32 59.0476 1354.69 Q63.6541 1350.04 64.8346 1348.7 Q67.08 1346.18 67.9596 1344.44 Q68.8624 1342.68 68.8624 1340.99 Q68.8624 1338.24 66.918 1336.5 Q64.9967 1334.76 61.8948 1334.76 Q59.6958 1334.76 57.2421 1335.53 Q54.8115 1336.29 52.0338 1337.84 L52.0338 1333.12 Q54.8578 1331.99 57.3115 1331.41 Q59.7652 1330.83 61.8023 1330.83 Q67.1726 1330.83 70.367 1333.51 Q73.5614 1336.2 73.5614 1340.69 Q73.5614 1342.82 72.7513 1344.74 Q71.9642 1346.64 69.8578 1349.23 Q69.2791 1349.9 66.1772 1353.12 Q63.0754 1356.32 57.4273 1362.08 Z\" fill=\"#000000\" fill-rule=\"evenodd\" fill-opacity=\"1\" /><path clip-path=\"url(#clip030)\" d=\"M 0 0 M88.816 1334.53 Q85.2049 1334.53 83.3762 1338.1 Q81.5707 1341.64 81.5707 1348.77 Q81.5707 1355.88 83.3762 1359.44 Q85.2049 1362.98 88.816 1362.98 Q92.4502 1362.98 94.2558 1359.44 Q96.0845 1355.88 96.0845 1348.77 Q96.0845 1341.64 94.2558 1338.1 Q92.4502 1334.53 88.816 1334.53 M88.816 1330.83 Q94.6262 1330.83 97.6817 1335.44 Q100.76 1340.02 100.76 1348.77 Q100.76 1357.5 97.6817 1362.1 Q94.6262 1366.69 88.816 1366.69 Q83.0058 1366.69 79.9272 1362.1 Q76.8716 1357.5 76.8716 1348.77 Q76.8716 1340.02 79.9272 1335.44 Q83.0058 1330.83 88.816 1330.83 Z\" fill=\"#000000\" fill-rule=\"evenodd\" fill-opacity=\"1\" /><path clip-path=\"url(#clip030)\" d=\"M 0 0 M59.0245 1168.12 L75.3438 1168.12 L75.3438 1172.05 L53.3995 1172.05 L53.3995 1168.12 Q56.0615 1165.36 60.6449 1160.73 Q65.2513 1156.08 66.4319 1154.74 Q68.6772 1152.21 69.5568 1150.48 Q70.4596 1148.72 70.4596 1147.03 Q70.4596 1144.27 68.5152 1142.54 Q66.5939 1140.8 63.4921 1140.8 Q61.293 1140.8 58.8393 1141.57 Q56.4088 1142.33 53.631 1143.88 L53.631 1139.16 Q56.4551 1138.02 58.9088 1137.45 Q61.3624 1136.87 63.3995 1136.87 Q68.7698 1136.87 71.9642 1139.55 Q75.1587 1142.24 75.1587 1146.73 Q75.1587 1148.86 74.3485 1150.78 Q73.5614 1152.68 71.455 1155.27 Q70.8763 1155.94 67.7744 1159.16 Q64.6726 1162.35 59.0245 1168.12 Z\" fill=\"#000000\" fill-rule=\"evenodd\" fill-opacity=\"1\" /><path clip-path=\"url(#clip030)\" d=\"M 0 0 M84.441 1168.12 L100.76 1168.12 L100.76 1172.05 L78.8161 1172.05 L78.8161 1168.12 Q81.4781 1165.36 86.0614 1160.73 Q90.6678 1156.08 91.8484 1154.74 Q94.0937 1152.21 94.9734 1150.48 Q95.8761 1148.72 95.8761 1147.03 Q95.8761 1144.27 93.9317 1142.54 Q92.0104 1140.8 88.9086 1140.8 Q86.7095 1140.8 84.2558 1141.57 Q81.8253 1142.33 79.0475 1143.88 L79.0475 1139.16 Q81.8716 1138.02 84.3253 1137.45 Q86.779 1136.87 88.816 1136.87 Q94.1863 1136.87 97.3808 1139.55 Q100.575 1142.24 100.575 1146.73 Q100.575 1148.86 99.765 1150.78 Q98.978 1152.68 96.8715 1155.27 Q96.2928 1155.94 93.191 1159.16 Q90.0891 1162.35 84.441 1168.12 Z\" fill=\"#000000\" fill-rule=\"evenodd\" fill-opacity=\"1\" /><path clip-path=\"url(#clip030)\" d=\"M 0 0 M56.9412 974.154 L73.2605 974.154 L73.2605 978.089 L51.3162 978.089 L51.3162 974.154 Q53.9782 971.399 58.5615 966.769 Q63.168 962.117 64.3485 960.774 Q66.5939 958.251 67.4735 956.515 Q68.3763 954.756 68.3763 953.066 Q68.3763 950.311 66.4319 948.575 Q64.5106 946.839 61.4087 946.839 Q59.2097 946.839 56.756 947.603 Q54.3254 948.367 51.5477 949.918 L51.5477 945.195 Q54.3717 944.061 56.8254 943.482 Q59.2791 942.904 61.3161 942.904 Q66.6865 942.904 69.8809 945.589 Q73.0753 948.274 73.0753 952.765 Q73.0753 954.894 72.2652 956.816 Q71.4781 958.714 69.3717 961.306 Q68.793 961.978 65.6911 965.195 Q62.5893 968.39 56.9412 974.154 Z\" fill=\"#000000\" fill-rule=\"evenodd\" fill-opacity=\"1\" /><path clip-path=\"url(#clip030)\" d=\"M 0 0 M91.1771 947.603 L79.3716 966.052 L91.1771 966.052 L91.1771 947.603 M89.9503 943.529 L95.8298 943.529 L95.8298 966.052 L100.76 966.052 L100.76 969.941 L95.8298 969.941 L95.8298 978.089 L91.1771 978.089 L91.1771 969.941 L75.5753 969.941 L75.5753 965.427 L89.9503 943.529 Z\" fill=\"#000000\" fill-rule=\"evenodd\" fill-opacity=\"1\" /><path clip-path=\"url(#clip030)\" d=\"M 0 0 M57.2652 780.191 L73.5846 780.191 L73.5846 784.126 L51.6403 784.126 L51.6403 780.191 Q54.3023 777.436 58.8856 772.807 Q63.4921 768.154 64.6726 766.811 Q66.918 764.288 67.7976 762.552 Q68.7004 760.793 68.7004 759.103 Q68.7004 756.348 66.7559 754.612 Q64.8346 752.876 61.7328 752.876 Q59.5337 752.876 57.0801 753.64 Q54.6495 754.404 51.8718 755.955 L51.8718 751.233 Q54.6958 750.098 57.1495 749.52 Q59.6032 748.941 61.6402 748.941 Q67.0106 748.941 70.205 751.626 Q73.3994 754.311 73.3994 758.802 Q73.3994 760.932 72.5892 762.853 Q71.8022 764.751 69.6957 767.344 Q69.117 768.015 66.0152 771.233 Q62.9134 774.427 57.2652 780.191 Z\" fill=\"#000000\" fill-rule=\"evenodd\" fill-opacity=\"1\" /><path clip-path=\"url(#clip030)\" d=\"M 0 0 M89.2327 764.983 Q86.0845 764.983 84.2327 767.135 Q82.404 769.288 82.404 773.038 Q82.404 776.765 84.2327 778.941 Q86.0845 781.094 89.2327 781.094 Q92.3808 781.094 94.2095 778.941 Q96.0613 776.765 96.0613 773.038 Q96.0613 769.288 94.2095 767.135 Q92.3808 764.983 89.2327 764.983 M98.515 750.33 L98.515 754.589 Q96.7558 753.756 94.9502 753.316 Q93.1678 752.876 91.4086 752.876 Q86.779 752.876 84.3253 756.001 Q81.8947 759.126 81.5475 765.446 Q82.9133 763.432 84.9734 762.367 Q87.0336 761.279 89.5104 761.279 Q94.7187 761.279 97.728 764.45 Q100.76 767.598 100.76 773.038 Q100.76 778.362 97.6122 781.58 Q94.4641 784.797 89.2327 784.797 Q83.2373 784.797 80.066 780.214 Q76.8948 775.608 76.8948 766.881 Q76.8948 758.686 80.7836 753.825 Q84.6725 748.941 91.2234 748.941 Q92.9826 748.941 94.765 749.288 Q96.5706 749.635 98.515 750.33 Z\" fill=\"#000000\" fill-rule=\"evenodd\" fill-opacity=\"1\" /><path clip-path=\"url(#clip030)\" d=\"M 0 0 M57.5199 586.228 L73.8392 586.228 L73.8392 590.163 L51.8949 590.163 L51.8949 586.228 Q54.5569 583.473 59.1402 578.844 Q63.7467 574.191 64.9272 572.848 Q67.1726 570.325 68.0522 568.589 Q68.955 566.83 68.955 565.14 Q68.955 562.386 67.0106 560.649 Q65.0893 558.913 61.9874 558.913 Q59.7884 558.913 57.3347 559.677 Q54.9041 560.441 52.1264 561.992 L52.1264 557.27 Q54.9504 556.136 57.4041 555.557 Q59.8578 554.978 61.8948 554.978 Q67.2652 554.978 70.4596 557.663 Q73.654 560.349 73.654 564.839 Q73.654 566.969 72.8439 568.89 Q72.0568 570.788 69.9504 573.381 Q69.3717 574.052 66.2698 577.27 Q63.168 580.464 57.5199 586.228 Z\" fill=\"#000000\" fill-rule=\"evenodd\" fill-opacity=\"1\" /><path clip-path=\"url(#clip030)\" d=\"M 0 0 M88.9086 573.751 Q85.5753 573.751 83.654 575.534 Q81.7559 577.316 81.7559 580.441 Q81.7559 583.566 83.654 585.348 Q85.5753 587.131 88.9086 587.131 Q92.2419 587.131 94.1632 585.348 Q96.0845 583.543 96.0845 580.441 Q96.0845 577.316 94.1632 575.534 Q92.2651 573.751 88.9086 573.751 M84.2327 571.761 Q81.2234 571.02 79.5336 568.96 Q77.867 566.899 77.867 563.936 Q77.867 559.793 80.8068 557.386 Q83.7697 554.978 88.9086 554.978 Q94.0706 554.978 97.0104 557.386 Q99.9502 559.793 99.9502 563.936 Q99.9502 566.899 98.2604 568.96 Q96.5937 571.02 93.6076 571.761 Q96.9872 572.548 98.8622 574.839 Q100.76 577.131 100.76 580.441 Q100.76 585.464 97.6817 588.149 Q94.6262 590.835 88.9086 590.835 Q83.191 590.835 80.1123 588.149 Q77.0568 585.464 77.0568 580.441 Q77.0568 577.131 78.9549 574.839 Q80.8531 572.548 84.2327 571.761 M82.5197 564.376 Q82.5197 567.061 84.1864 568.566 Q85.8762 570.071 88.9086 570.071 Q91.9178 570.071 93.6076 568.566 Q95.3206 567.061 95.3206 564.376 Q95.3206 561.691 93.6076 560.187 Q91.9178 558.682 88.9086 558.682 Q85.8762 558.682 84.1864 560.187 Q82.5197 561.691 82.5197 564.376 Z\" fill=\"#000000\" fill-rule=\"evenodd\" fill-opacity=\"1\" /><path clip-path=\"url(#clip030)\" d=\"M 0 0 M66.617 377.566 Q69.9735 378.284 71.8485 380.552 Q73.7466 382.821 73.7466 386.154 Q73.7466 391.27 70.2281 394.071 Q66.7096 396.872 60.2282 396.872 Q58.0523 396.872 55.7375 396.432 Q53.4458 396.015 50.9921 395.159 L50.9921 390.645 Q52.9366 391.779 55.2514 392.358 Q57.5662 392.937 60.0893 392.937 Q64.4874 392.937 66.7791 391.2 Q69.0939 389.464 69.0939 386.154 Q69.0939 383.099 66.9411 381.386 Q64.8115 379.65 60.9921 379.65 L56.9643 379.65 L56.9643 375.807 L61.1773 375.807 Q64.6263 375.807 66.455 374.441 Q68.2837 373.052 68.2837 370.46 Q68.2837 367.798 66.3856 366.386 Q64.5106 364.951 60.9921 364.951 Q59.0708 364.951 56.8717 365.367 Q54.6727 365.784 52.0338 366.664 L52.0338 362.497 Q54.6958 361.756 57.0106 361.386 Q59.3486 361.015 61.4087 361.015 Q66.7328 361.015 69.8346 363.446 Q72.9365 365.853 72.9365 369.974 Q72.9365 372.844 71.2929 374.835 Q69.6494 376.802 66.617 377.566 Z\" fill=\"#000000\" fill-rule=\"evenodd\" fill-opacity=\"1\" /><path clip-path=\"url(#clip030)\" d=\"M 0 0 M88.816 364.719 Q85.2049 364.719 83.3762 368.284 Q81.5707 371.826 81.5707 378.955 Q81.5707 386.062 83.3762 389.626 Q85.2049 393.168 88.816 393.168 Q92.4502 393.168 94.2558 389.626 Q96.0845 386.062 96.0845 378.955 Q96.0845 371.826 94.2558 368.284 Q92.4502 364.719 88.816 364.719 M88.816 361.015 Q94.6262 361.015 97.6817 365.622 Q100.76 370.205 100.76 378.955 Q100.76 387.682 97.6817 392.288 Q94.6262 396.872 88.816 396.872 Q83.0058 396.872 79.9272 392.288 Q76.8716 387.682 76.8716 378.955 Q76.8716 370.205 79.9272 365.622 Q83.0058 361.015 88.816 361.015 Z\" fill=\"#000000\" fill-rule=\"evenodd\" fill-opacity=\"1\" /><path clip-path=\"url(#clip030)\" d=\"M 0 0 M68.2143 183.604 Q71.5707 184.321 73.4457 186.59 Q75.3438 188.858 75.3438 192.191 Q75.3438 197.307 71.8253 200.108 Q68.3068 202.909 61.8254 202.909 Q59.6495 202.909 57.3347 202.469 Q55.043 202.052 52.5893 201.196 L52.5893 196.682 Q54.5338 197.816 56.8486 198.395 Q59.1634 198.974 61.6865 198.974 Q66.0846 198.974 68.3763 197.238 Q70.6911 195.502 70.6911 192.191 Q70.6911 189.136 68.5383 187.423 Q66.4087 185.687 62.5893 185.687 L58.5615 185.687 L58.5615 181.844 L62.7745 181.844 Q66.2235 181.844 68.0522 180.479 Q69.8809 179.09 69.8809 176.497 Q69.8809 173.835 67.9828 172.423 Q66.1078 170.988 62.5893 170.988 Q60.668 170.988 58.4689 171.404 Q56.2699 171.821 53.631 172.701 L53.631 168.534 Q56.293 167.793 58.6078 167.423 Q60.9458 167.053 63.006 167.053 Q68.33 167.053 71.4318 169.483 Q74.5337 171.891 74.5337 176.011 Q74.5337 178.881 72.8902 180.872 Q71.2466 182.84 68.2143 183.604 Z\" fill=\"#000000\" fill-rule=\"evenodd\" fill-opacity=\"1\" /><path clip-path=\"url(#clip030)\" d=\"M 0 0 M84.441 198.302 L100.76 198.302 L100.76 202.238 L78.8161 202.238 L78.8161 198.302 Q81.4781 195.548 86.0614 190.918 Q90.6678 186.266 91.8484 184.923 Q94.0937 182.4 94.9734 180.664 Q95.8761 178.904 95.8761 177.215 Q95.8761 174.46 93.9317 172.724 Q92.0104 170.988 88.9086 170.988 Q86.7095 170.988 84.2558 171.752 Q81.8253 172.516 79.0475 174.067 L79.0475 169.344 Q81.8716 168.21 84.3253 167.631 Q86.779 167.053 88.816 167.053 Q94.1863 167.053 97.3808 169.738 Q100.575 172.423 100.575 176.914 Q100.575 179.043 99.765 180.965 Q98.978 182.863 96.8715 185.455 Q96.2928 186.127 93.191 189.344 Q90.0891 192.539 84.441 198.302 Z\" fill=\"#000000\" fill-rule=\"evenodd\" fill-opacity=\"1\" /><polyline clip-path=\"url(#clip032)\" style=\"stroke:#800080; stroke-width:4; stroke-opacity:1; fill:none\" points=\"\n  199.477,572.883 241.288,572.883 283.1,572.883 324.911,572.883 366.722,572.883 408.533,572.883 450.345,572.883 492.156,572.883 533.967,572.883 575.778,572.883 \n  617.59,572.883 659.401,669.865 701.212,669.865 743.023,669.865 784.835,669.865 826.646,766.846 868.457,766.846 910.268,766.846 952.079,572.883 993.891,572.883 \n  1035.7,669.865 1077.51,669.865 1119.32,669.865 1161.14,766.846 1202.95,766.846 1244.76,766.846 1286.57,766.846 1328.38,766.846 1370.19,766.846 1412,766.846 \n  1453.81,766.846 1495.63,863.827 1537.44,960.809 1579.25,960.809 1621.06,960.809 1662.87,1057.79 1704.68,1057.79 1746.49,1057.79 1788.3,1057.79 1830.12,1057.79 \n  1871.93,1057.79 1913.74,1057.79 1955.55,1057.79 1997.36,1057.79 2039.17,1154.77 2080.98,1251.75 2122.79,1251.75 2164.61,1251.75 2206.42,1251.75 2248.23,1251.75 \n  2290.04,1251.75 \n  \"/>\n<polyline clip-path=\"url(#clip032)\" style=\"stroke:#008000; stroke-width:4; stroke-opacity:1; fill:none\" points=\"\n  199.477,475.902 241.288,766.846 283.1,960.809 324.911,960.809 366.722,863.827 408.533,1057.79 450.345,1057.79 492.156,1251.75 533.967,1445.72 575.778,1445.72 \n  617.59,1445.72 659.401,1348.73 701.212,1348.73 743.023,1348.73 784.835,1348.73 826.646,1251.75 868.457,1251.75 910.268,1251.75 952.079,1251.75 993.891,1251.75 \n  1035.7,1154.77 1077.51,1057.79 1119.32,960.809 1161.14,863.827 1202.95,766.846 1244.76,669.865 1286.57,572.883 1328.38,475.902 1370.19,669.865 1412,572.883 \n  1453.81,572.883 1495.63,475.902 1537.44,378.92 1579.25,281.939 1621.06,475.902 1662.87,378.92 1704.68,281.939 1746.49,475.902 1788.3,378.92 1830.12,281.939 \n  1871.93,281.939 1913.74,475.902 1955.55,475.902 1997.36,378.92 2039.17,281.939 2080.98,184.958 2122.79,87.9763 2164.61,281.939 2206.42,475.902 2248.23,378.92 \n  2290.04,281.939 \n  \"/>\n<path clip-path=\"url(#clip030)\" d=\"\nM1826.65 276.658 L2278.89 276.658 L2278.89 95.2176 L1826.65 95.2176  Z\n  \" fill=\"#ffffff\" fill-rule=\"evenodd\" fill-opacity=\"1\"/>\n<polyline clip-path=\"url(#clip030)\" style=\"stroke:#000000; stroke-width:4; stroke-opacity:1; fill:none\" points=\"\n  1826.65,276.658 2278.89,276.658 2278.89,95.2176 1826.65,95.2176 1826.65,276.658 \n  \"/>\n<polyline clip-path=\"url(#clip030)\" style=\"stroke:#800080; stroke-width:4; stroke-opacity:1; fill:none\" points=\"\n  1851.27,155.698 1999.01,155.698 \n  \"/>\n<path clip-path=\"url(#clip030)\" d=\"M 0 0 M2042.54 159.714 Q2042.54 155.084 2040.62 152.538 Q2038.72 149.992 2035.27 149.992 Q2031.85 149.992 2029.92 152.538 Q2028.03 155.084 2028.03 159.714 Q2028.03 164.32 2029.92 166.866 Q2031.85 169.413 2035.27 169.413 Q2038.72 169.413 2040.62 166.866 Q2042.54 164.32 2042.54 159.714 M2046.8 169.76 Q2046.8 176.38 2043.86 179.598 Q2040.92 182.839 2034.85 182.839 Q2032.61 182.839 2030.62 182.491 Q2028.63 182.167 2026.75 181.473 L2026.75 177.329 Q2028.63 178.348 2030.46 178.834 Q2032.28 179.32 2034.18 179.32 Q2038.37 179.32 2040.46 177.121 Q2042.54 174.945 2042.54 170.524 L2042.54 168.417 Q2041.22 170.709 2039.16 171.843 Q2037.1 172.978 2034.23 172.978 Q2029.46 172.978 2026.54 169.343 Q2023.63 165.709 2023.63 159.714 Q2023.63 153.695 2026.54 150.061 Q2029.46 146.427 2034.23 146.427 Q2037.1 146.427 2039.16 147.561 Q2041.22 148.695 2042.54 150.987 L2042.54 147.052 L2046.8 147.052 L2046.8 169.76 Z\" fill=\"#000000\" fill-rule=\"evenodd\" fill-opacity=\"1\" /><path clip-path=\"url(#clip030)\" d=\"M 0 0 M2061.31 150.038 Q2057.89 150.038 2055.9 152.723 Q2053.91 155.385 2053.91 160.038 Q2053.91 164.691 2055.87 167.376 Q2057.86 170.038 2061.31 170.038 Q2064.72 170.038 2066.71 167.353 Q2068.7 164.667 2068.7 160.038 Q2068.7 155.431 2066.71 152.746 Q2064.72 150.038 2061.31 150.038 M2061.31 146.427 Q2066.87 146.427 2070.04 150.038 Q2073.21 153.649 2073.21 160.038 Q2073.21 166.404 2070.04 170.038 Q2066.87 173.649 2061.31 173.649 Q2055.73 173.649 2052.56 170.038 Q2049.41 166.404 2049.41 160.038 Q2049.41 153.649 2052.56 150.038 Q2055.73 146.427 2061.31 146.427 Z\" fill=\"#000000\" fill-rule=\"evenodd\" fill-opacity=\"1\" /><path clip-path=\"url(#clip030)\" d=\"M 0 0 M2077.82 136.959 L2082.08 136.959 L2082.08 150.894 L2084.97 148.811 L2086.73 151.265 L2082.08 154.529 L2082.08 172.978 L2077.82 172.978 L2077.82 157.561 L2074.97 159.598 L2073.26 157.144 L2077.82 153.88 L2077.82 136.959 Z\" fill=\"#000000\" fill-rule=\"evenodd\" fill-opacity=\"1\" /><path clip-path=\"url(#clip030)\" d=\"M 0 0 M2113.37 158.95 L2113.37 161.033 L2093.79 161.033 Q2094.07 165.431 2096.43 167.746 Q2098.81 170.038 2103.05 170.038 Q2105.5 170.038 2107.79 169.436 Q2110.11 168.834 2112.38 167.63 L2112.38 171.658 Q2110.09 172.63 2107.68 173.14 Q2105.27 173.649 2102.79 173.649 Q2096.59 173.649 2092.96 170.038 Q2089.34 166.427 2089.34 160.269 Q2089.34 153.904 2092.77 150.177 Q2096.22 146.427 2102.05 146.427 Q2107.28 146.427 2110.32 149.806 Q2113.37 153.163 2113.37 158.95 M2109.11 157.7 Q2109.07 154.205 2107.15 152.121 Q2105.25 150.038 2102.1 150.038 Q2098.53 150.038 2096.38 152.052 Q2094.25 154.066 2093.93 157.723 L2109.11 157.7 M2105.62 172.978 L2108.37 172.978 Q2107.33 174.39 2106.82 175.408 Q2106.34 176.427 2106.34 177.144 Q2106.34 178.209 2106.96 178.741 Q2107.61 179.274 2108.86 179.274 Q2109.6 179.274 2110.32 179.089 Q2111.03 178.927 2111.75 178.579 L2111.75 181.658 Q2110.87 181.89 2110.09 182.005 Q2109.3 182.121 2108.6 182.121 Q2105.78 182.121 2104.44 181.103 Q2103.12 180.107 2103.12 177.954 Q2103.12 176.843 2103.72 175.616 Q2104.34 174.413 2105.62 172.978 Z\" fill=\"#000000\" fill-rule=\"evenodd\" fill-opacity=\"1\" /><path clip-path=\"url(#clip030)\" d=\"M 0 0 M2136.45 160.038 Q2136.45 155.339 2134.51 152.677 Q2132.59 149.992 2129.21 149.992 Q2125.83 149.992 2123.88 152.677 Q2121.96 155.339 2121.96 160.038 Q2121.96 164.737 2123.88 167.422 Q2125.83 170.084 2129.21 170.084 Q2132.59 170.084 2134.51 167.422 Q2136.45 164.737 2136.45 160.038 M2121.96 150.987 Q2123.3 148.672 2125.34 147.561 Q2127.4 146.427 2130.25 146.427 Q2134.97 146.427 2137.91 150.177 Q2140.87 153.927 2140.87 160.038 Q2140.87 166.149 2137.91 169.899 Q2134.97 173.649 2130.25 173.649 Q2127.4 173.649 2125.34 172.538 Q2123.3 171.403 2121.96 169.089 L2121.96 172.978 L2117.68 172.978 L2117.68 136.959 L2121.96 136.959 L2121.96 150.987 Z\" fill=\"#000000\" fill-rule=\"evenodd\" fill-opacity=\"1\" /><path clip-path=\"url(#clip030)\" d=\"M 0 0 M2145.34 147.052 L2149.6 147.052 L2149.6 172.978 L2145.34 172.978 L2145.34 147.052 M2145.34 136.959 L2149.6 136.959 L2149.6 142.353 L2145.34 142.353 L2145.34 136.959 Z\" fill=\"#000000\" fill-rule=\"evenodd\" fill-opacity=\"1\" /><path clip-path=\"url(#clip030)\" d=\"M 0 0 M2176.24 158.95 L2176.24 161.033 L2156.66 161.033 Q2156.94 165.431 2159.3 167.746 Q2161.68 170.038 2165.92 170.038 Q2168.37 170.038 2170.66 169.436 Q2172.98 168.834 2175.25 167.63 L2175.25 171.658 Q2172.96 172.63 2170.55 173.14 Q2168.14 173.649 2165.66 173.649 Q2159.46 173.649 2155.83 170.038 Q2152.21 166.427 2152.21 160.269 Q2152.21 153.904 2155.64 150.177 Q2159.09 146.427 2164.92 146.427 Q2170.15 146.427 2173.19 149.806 Q2176.24 153.163 2176.24 158.95 M2171.98 157.7 Q2171.94 154.205 2170.02 152.121 Q2168.12 150.038 2164.97 150.038 Q2161.4 150.038 2159.25 152.052 Q2157.12 154.066 2156.8 157.723 L2171.98 157.7 Z\" fill=\"#000000\" fill-rule=\"evenodd\" fill-opacity=\"1\" /><polyline clip-path=\"url(#clip030)\" style=\"stroke:#008000; stroke-width:4; stroke-opacity:1; fill:none\" points=\"\n  1851.27,216.178 1999.01,216.178 \n  \"/>\n<path clip-path=\"url(#clip030)\" d=\"M 0 0 M2028.95 207.532 L2033.21 207.532 L2033.21 233.921 Q2033.21 238.874 2031.31 241.096 Q2029.44 243.319 2025.25 243.319 L2023.63 243.319 L2023.63 239.708 L2024.76 239.708 Q2027.19 239.708 2028.07 238.573 Q2028.95 237.462 2028.95 233.921 L2028.95 207.532 M2028.95 197.439 L2033.21 197.439 L2033.21 202.833 L2028.95 202.833 L2028.95 197.439 Z\" fill=\"#000000\" fill-rule=\"evenodd\" fill-opacity=\"1\" /><path clip-path=\"url(#clip030)\" d=\"M 0 0 M2049.46 220.425 Q2044.3 220.425 2042.31 221.606 Q2040.32 222.786 2040.32 225.634 Q2040.32 227.902 2041.8 229.245 Q2043.3 230.564 2045.87 230.564 Q2049.41 230.564 2051.54 228.064 Q2053.7 225.541 2053.7 221.374 L2053.7 220.425 L2049.46 220.425 M2057.96 218.666 L2057.96 233.458 L2053.7 233.458 L2053.7 229.522 Q2052.24 231.883 2050.06 233.018 Q2047.89 234.129 2044.74 234.129 Q2040.76 234.129 2038.4 231.907 Q2036.06 229.661 2036.06 225.911 Q2036.06 221.536 2038.97 219.314 Q2041.91 217.092 2047.72 217.092 L2053.7 217.092 L2053.7 216.675 Q2053.7 213.735 2051.75 212.138 Q2049.83 210.518 2046.34 210.518 Q2044.11 210.518 2042.01 211.05 Q2039.9 211.583 2037.96 212.647 L2037.96 208.712 Q2040.29 207.81 2042.49 207.37 Q2044.69 206.907 2046.78 206.907 Q2052.4 206.907 2055.18 209.823 Q2057.96 212.74 2057.96 218.666 Z\" fill=\"#000000\" fill-rule=\"evenodd\" fill-opacity=\"1\" /><path clip-path=\"url(#clip030)\" d=\"M 0 0 M2078.95 208.296 L2078.95 212.323 Q2077.15 211.397 2075.2 210.935 Q2073.26 210.472 2071.17 210.472 Q2068 210.472 2066.41 211.444 Q2064.83 212.416 2064.83 214.36 Q2064.83 215.842 2065.97 216.698 Q2067.1 217.532 2070.53 218.296 L2071.98 218.62 Q2076.52 219.592 2078.42 221.374 Q2080.34 223.134 2080.34 226.305 Q2080.34 229.916 2077.47 232.022 Q2074.62 234.129 2069.62 234.129 Q2067.54 234.129 2065.27 233.712 Q2063.03 233.319 2060.53 232.508 L2060.53 228.11 Q2062.89 229.337 2065.18 229.962 Q2067.47 230.564 2069.72 230.564 Q2072.72 230.564 2074.34 229.546 Q2075.97 228.504 2075.97 226.629 Q2075.97 224.893 2074.78 223.967 Q2073.63 223.041 2069.67 222.184 L2068.19 221.837 Q2064.23 221.004 2062.47 219.291 Q2060.71 217.555 2060.71 214.546 Q2060.71 210.888 2063.3 208.898 Q2065.9 206.907 2070.66 206.907 Q2073.03 206.907 2075.11 207.254 Q2077.19 207.601 2078.95 208.296 Z\" fill=\"#000000\" fill-rule=\"evenodd\" fill-opacity=\"1\" /><path clip-path=\"url(#clip030)\" d=\"M 0 0 M2089.02 200.171 L2089.02 207.532 L2097.79 207.532 L2097.79 210.842 L2089.02 210.842 L2089.02 224.916 Q2089.02 228.087 2089.88 228.99 Q2090.76 229.893 2093.42 229.893 L2097.79 229.893 L2097.79 233.458 L2093.42 233.458 Q2088.49 233.458 2086.61 231.629 Q2084.74 229.777 2084.74 224.916 L2084.74 210.842 L2081.61 210.842 L2081.61 207.532 L2084.74 207.532 L2084.74 200.171 L2089.02 200.171 Z\" fill=\"#000000\" fill-rule=\"evenodd\" fill-opacity=\"1\" /><path clip-path=\"url(#clip030)\" d=\"M 0 0 M2117.28 211.513 Q2116.57 211.097 2115.71 210.911 Q2114.88 210.703 2113.86 210.703 Q2110.25 210.703 2108.3 213.064 Q2106.38 215.402 2106.38 219.8 L2106.38 233.458 L2102.1 233.458 L2102.1 207.532 L2106.38 207.532 L2106.38 211.56 Q2107.72 209.198 2109.88 208.064 Q2112.03 206.907 2115.11 206.907 Q2115.55 206.907 2116.08 206.976 Q2116.61 207.023 2117.26 207.138 L2117.28 211.513 Z\" fill=\"#000000\" fill-rule=\"evenodd\" fill-opacity=\"1\" /><path clip-path=\"url(#clip030)\" d=\"M 0 0 M2119.9 207.532 L2140.13 207.532 L2140.13 211.421 L2124.11 230.055 L2140.13 230.055 L2140.13 233.458 L2119.32 233.458 L2119.32 229.569 L2135.34 210.935 L2119.9 210.935 L2119.9 207.532 Z\" fill=\"#000000\" fill-rule=\"evenodd\" fill-opacity=\"1\" /><path clip-path=\"url(#clip030)\" d=\"M 0 0 M2166.78 219.43 L2166.78 221.513 L2147.19 221.513 Q2147.47 225.911 2149.83 228.226 Q2152.21 230.518 2156.45 230.518 Q2158.9 230.518 2161.2 229.916 Q2163.51 229.314 2165.78 228.11 L2165.78 232.138 Q2163.49 233.11 2161.08 233.62 Q2158.67 234.129 2156.2 234.129 Q2149.99 234.129 2146.36 230.518 Q2142.75 226.907 2142.75 220.749 Q2142.75 214.384 2146.17 210.657 Q2149.62 206.907 2155.46 206.907 Q2160.69 206.907 2163.72 210.286 Q2166.78 213.643 2166.78 219.43 M2162.52 218.18 Q2162.47 214.685 2160.55 212.601 Q2158.65 210.518 2155.5 210.518 Q2151.94 210.518 2149.78 212.532 Q2147.65 214.546 2147.33 218.203 L2162.52 218.18 M2159.02 233.458 L2161.78 233.458 Q2160.73 234.87 2160.22 235.888 Q2159.74 236.907 2159.74 237.624 Q2159.74 238.689 2160.36 239.221 Q2161.01 239.754 2162.26 239.754 Q2163 239.754 2163.72 239.569 Q2164.44 239.407 2165.15 239.059 L2165.15 242.138 Q2164.28 242.37 2163.49 242.485 Q2162.7 242.601 2162.01 242.601 Q2159.18 242.601 2157.84 241.583 Q2156.52 240.587 2156.52 238.434 Q2156.52 237.323 2157.12 236.096 Q2157.75 234.893 2159.02 233.458 Z\" fill=\"#000000\" fill-rule=\"evenodd\" fill-opacity=\"1\" /><path clip-path=\"url(#clip030)\" d=\"M 0 0 M2189.85 220.518 Q2189.85 215.819 2187.91 213.157 Q2185.99 210.472 2182.61 210.472 Q2179.23 210.472 2177.28 213.157 Q2175.36 215.819 2175.36 220.518 Q2175.36 225.217 2177.28 227.902 Q2179.23 230.564 2182.61 230.564 Q2185.99 230.564 2187.91 227.902 Q2189.85 225.217 2189.85 220.518 M2175.36 211.467 Q2176.71 209.152 2178.74 208.041 Q2180.8 206.907 2183.65 206.907 Q2188.37 206.907 2191.31 210.657 Q2194.27 214.407 2194.27 220.518 Q2194.27 226.629 2191.31 230.379 Q2188.37 234.129 2183.65 234.129 Q2180.8 234.129 2178.74 233.018 Q2176.71 231.883 2175.36 229.569 L2175.36 233.458 L2171.08 233.458 L2171.08 197.439 L2175.36 197.439 L2175.36 211.467 Z\" fill=\"#000000\" fill-rule=\"evenodd\" fill-opacity=\"1\" /><path clip-path=\"url(#clip030)\" d=\"M 0 0 M2198.74 207.532 L2203 207.532 L2203 233.458 L2198.74 233.458 L2198.74 207.532 M2198.74 197.439 L2203 197.439 L2203 202.833 L2198.74 202.833 L2198.74 197.439 Z\" fill=\"#000000\" fill-rule=\"evenodd\" fill-opacity=\"1\" /><path clip-path=\"url(#clip030)\" d=\"M 0 0 M2229.65 219.43 L2229.65 221.513 L2210.06 221.513 Q2210.34 225.911 2212.7 228.226 Q2215.08 230.518 2219.32 230.518 Q2221.77 230.518 2224.07 229.916 Q2226.38 229.314 2228.65 228.11 L2228.65 232.138 Q2226.36 233.11 2223.95 233.62 Q2221.54 234.129 2219.07 234.129 Q2212.86 234.129 2209.23 230.518 Q2205.62 226.907 2205.62 220.749 Q2205.62 214.384 2209.04 210.657 Q2212.49 206.907 2218.33 206.907 Q2223.56 206.907 2226.59 210.286 Q2229.65 213.643 2229.65 219.43 M2225.39 218.18 Q2225.34 214.685 2223.42 212.601 Q2221.52 210.518 2218.37 210.518 Q2214.81 210.518 2212.65 212.532 Q2210.52 214.546 2210.2 218.203 L2225.39 218.18 Z\" fill=\"#000000\" fill-rule=\"evenodd\" fill-opacity=\"1\" /></svg>\n"
               },
               "nodeType": "DOM",
               "type": "node",
               "instanceArgs": {
                "namespace": "html",
                "tag": "div"
               },
               "children": []
              }
             ]
            }
           }
          }
         },
         "children": [
          {
           "props": {},
           "nodeType": "ObservableNode",
           "type": "node",
           "instanceArgs": {
            "id": "16240354170925373079",
            "name": "obs-node"
           },
           "children": []
          }
         ]
        }
       ]
      },
      "text/html": "<div\n    class=\"webio-mountpoint\"\n    data-webio-mountpoint=\"5113176692174934776\"\n>\n    <script>\n    if (window.require && require.defined && require.defined(\"nbextensions/webio-jupyter-notebook\")) {\n        console.log(\"Jupyter WebIO extension detected, not mounting.\");\n    } else if (window.WebIO) {\n        WebIO.mount(\n            document.querySelector('[data-webio-mountpoint=\"5113176692174934776\"]'),\n            {\"props\":{},\"nodeType\":\"DOM\",\"type\":\"node\",\"instanceArgs\":{\"namespace\":\"html\",\"tag\":\"div\"},\"children\":[{\"props\":{\"className\":\"field interact-widget\"},\"nodeType\":\"DOM\",\"type\":\"node\",\"instanceArgs\":{\"namespace\":\"html\",\"tag\":\"div\"},\"children\":[{\"props\":{},\"nodeType\":\"Scope\",\"type\":\"node\",\"instanceArgs\":{\"imports\":{\"data\":[{\"name\":\"knockout\",\"type\":\"js\",\"url\":\"\\/assetserver\\/c00c2f0c97708ff9a4ee2df6a863591035e5b14d-knockout.js\"},{\"name\":\"knockout_punches\",\"type\":\"js\",\"url\":\"\\/assetserver\\/d48997a9048acbe477f714571d8d8ee9f86b8ac3-knockout_punches.js\"},{\"name\":null,\"type\":\"js\",\"url\":\"\\/assetserver\\/0d9ce44d02750af84dbe78a0c75555792b6084cf-all.js\"},{\"name\":null,\"type\":\"css\",\"url\":\"\\/assetserver\\/d9fbbaa5970f333e151d0b467c875b12824637f1-style.css\"},{\"name\":null,\"type\":\"css\",\"url\":\"\\/assetserver\\/75880f13c53616a3e094de62bc44a7739b386925-bulma_confined.min.css\"}],\"type\":\"async_block\"},\"id\":\"4166957277559236250\",\"handlers\":{\"changes\":[\"(function (val){return (val!=this.model[\\\"changes\\\"]()) ? (this.valueFromJulia[\\\"changes\\\"]=true, this.model[\\\"changes\\\"](val)) : undefined})\"],\"index\":[\"(function (val){return (val!=this.model[\\\"index\\\"]()) ? (this.valueFromJulia[\\\"index\\\"]=true, this.model[\\\"index\\\"](val)) : undefined})\"]},\"systemjs_options\":null,\"mount_callbacks\":[\"function () {\\n    var handler = (function (ko, koPunches) {\\n    ko.punches.enableAll();\\n    ko.bindingHandlers.numericValue = {\\n        init: function(element, valueAccessor, allBindings, data, context) {\\n            var stringified = ko.observable(ko.unwrap(valueAccessor()));\\n            stringified.subscribe(function(value) {\\n                var val = parseFloat(value);\\n                if (!isNaN(val)) {\\n                    valueAccessor()(val);\\n                }\\n            });\\n            valueAccessor().subscribe(function(value) {\\n                var str = JSON.stringify(value);\\n                if ((str == \\\"0\\\") && ([\\\"-0\\\", \\\"-0.\\\"].indexOf(stringified()) >= 0))\\n                     return;\\n                 if ([\\\"null\\\", \\\"\\\"].indexOf(str) >= 0)\\n                     return;\\n                stringified(str);\\n            });\\n            ko.applyBindingsToNode(\\n                element,\\n                {\\n                    value: stringified,\\n                    valueUpdate: allBindings.get('valueUpdate'),\\n                },\\n                context,\\n            );\\n        }\\n    };\\n    var json_data = {\\\"formatted_vals\\\":[\\\"2\\\",\\\"3\\\",\\\"4\\\",\\\"5\\\",\\\"6\\\",\\\"7\\\",\\\"8\\\",\\\"9\\\",\\\"10\\\",\\\"11\\\",\\\"12\\\",\\\"13\\\",\\\"14\\\",\\\"15\\\",\\\"16\\\",\\\"17\\\",\\\"18\\\",\\\"19\\\",\\\"20\\\",\\\"21\\\",\\\"22\\\",\\\"23\\\",\\\"24\\\",\\\"25\\\",\\\"26\\\",\\\"27\\\",\\\"28\\\",\\\"29\\\",\\\"30\\\",\\\"31\\\",\\\"32\\\",\\\"33\\\",\\\"34\\\",\\\"35\\\",\\\"36\\\",\\\"37\\\",\\\"38\\\",\\\"39\\\",\\\"40\\\",\\\"41\\\",\\\"42\\\",\\\"43\\\",\\\"44\\\",\\\"45\\\",\\\"46\\\",\\\"47\\\",\\\"48\\\",\\\"49\\\",\\\"50\\\",\\\"51\\\",\\\"52\\\",\\\"53\\\",\\\"54\\\",\\\"55\\\",\\\"56\\\",\\\"57\\\",\\\"58\\\",\\\"59\\\",\\\"60\\\",\\\"61\\\",\\\"62\\\",\\\"63\\\",\\\"64\\\",\\\"65\\\",\\\"66\\\",\\\"67\\\",\\\"68\\\",\\\"69\\\",\\\"70\\\",\\\"71\\\",\\\"72\\\",\\\"73\\\",\\\"74\\\",\\\"75\\\",\\\"76\\\",\\\"77\\\",\\\"78\\\",\\\"79\\\",\\\"80\\\",\\\"81\\\",\\\"82\\\",\\\"83\\\",\\\"84\\\",\\\"85\\\",\\\"86\\\",\\\"87\\\",\\\"88\\\",\\\"89\\\",\\\"90\\\",\\\"91\\\",\\\"92\\\",\\\"93\\\",\\\"94\\\",\\\"95\\\",\\\"96\\\",\\\"97\\\",\\\"98\\\",\\\"99\\\",\\\"100\\\"],\\\"changes\\\":WebIO.getval({\\\"name\\\":\\\"changes\\\",\\\"scope\\\":\\\"4166957277559236250\\\",\\\"id\\\":\\\"13310662829309831858\\\",\\\"type\\\":\\\"observable\\\"}),\\\"index\\\":WebIO.getval({\\\"name\\\":\\\"index\\\",\\\"scope\\\":\\\"4166957277559236250\\\",\\\"id\\\":\\\"12030063998074826302\\\",\\\"type\\\":\\\"observable\\\"})};\\n    var self = this;\\n    function AppViewModel() {\\n        for (var key in json_data) {\\n            var el = json_data[key];\\n            this[key] = Array.isArray(el) ? ko.observableArray(el) : ko.observable(el);\\n        }\\n        \\n        [this[\\\"formatted_val\\\"]=ko.computed(    function(){\\n        return this.formatted_vals()[parseInt(this.index())-(1)];\\n    }\\n,this)]\\n        [this[\\\"changes\\\"].subscribe((function (val){!(this.valueFromJulia[\\\"changes\\\"]) ? (WebIO.setval({\\\"name\\\":\\\"changes\\\",\\\"scope\\\":\\\"4166957277559236250\\\",\\\"id\\\":\\\"13310662829309831858\\\",\\\"type\\\":\\\"observable\\\"},val)) : undefined; return this.valueFromJulia[\\\"changes\\\"]=false}),self),this[\\\"index\\\"].subscribe((function (val){!(this.valueFromJulia[\\\"index\\\"]) ? (WebIO.setval({\\\"name\\\":\\\"index\\\",\\\"scope\\\":\\\"4166957277559236250\\\",\\\"id\\\":\\\"12030063998074826302\\\",\\\"type\\\":\\\"observable\\\"},val)) : undefined; return this.valueFromJulia[\\\"index\\\"]=false}),self)]\\n        \\n    }\\n    self.model = new AppViewModel();\\n    self.valueFromJulia = {};\\n    for (var key in json_data) {\\n        self.valueFromJulia[key] = false;\\n    }\\n    ko.applyBindings(self.model, self.dom);\\n}\\n);\\n    (WebIO.importBlock({\\\"data\\\":[{\\\"name\\\":\\\"knockout\\\",\\\"type\\\":\\\"js\\\",\\\"url\\\":\\\"\\/assetserver\\/c00c2f0c97708ff9a4ee2df6a863591035e5b14d-knockout.js\\\"},{\\\"name\\\":\\\"knockout_punches\\\",\\\"type\\\":\\\"js\\\",\\\"url\\\":\\\"\\/assetserver\\/d48997a9048acbe477f714571d8d8ee9f86b8ac3-knockout_punches.js\\\"}],\\\"type\\\":\\\"async_block\\\"})).then((imports) => handler.apply(this, imports));\\n}\\n\"],\"observables\":{\"changes\":{\"sync\":false,\"id\":\"13310662829309831858\",\"value\":0},\"index\":{\"sync\":true,\"id\":\"12030063998074826302\",\"value\":50}}},\"children\":[{\"props\":{\"className\":\"interact-flex-row interact-widget\"},\"nodeType\":\"DOM\",\"type\":\"node\",\"instanceArgs\":{\"namespace\":\"html\",\"tag\":\"div\"},\"children\":[{\"props\":{\"className\":\"interact-flex-row-left\"},\"nodeType\":\"DOM\",\"type\":\"node\",\"instanceArgs\":{\"namespace\":\"html\",\"tag\":\"div\"},\"children\":[{\"props\":{\"className\":\"interact \",\"style\":{\"padding\":\"5px 10px 0px 10px\"}},\"nodeType\":\"DOM\",\"type\":\"node\",\"instanceArgs\":{\"namespace\":\"html\",\"tag\":\"label\"},\"children\":[\"time\"]}]},{\"props\":{\"className\":\"interact-flex-row-center\"},\"nodeType\":\"DOM\",\"type\":\"node\",\"instanceArgs\":{\"namespace\":\"html\",\"tag\":\"div\"},\"children\":[{\"props\":{\"max\":99,\"min\":1,\"attributes\":{\"type\":\"range\",\"data-bind\":\"numericValue: index, valueUpdate: 'input', event: {change: function (){this.changes(this.changes()+1)}}\",\"orient\":\"horizontal\"},\"step\":1,\"className\":\"slider slider is-fullwidth\",\"style\":{}},\"nodeType\":\"DOM\",\"type\":\"node\",\"instanceArgs\":{\"namespace\":\"html\",\"tag\":\"input\"},\"children\":[]}]},{\"props\":{\"className\":\"interact-flex-row-right\"},\"nodeType\":\"DOM\",\"type\":\"node\",\"instanceArgs\":{\"namespace\":\"html\",\"tag\":\"div\"},\"children\":[{\"props\":{\"attributes\":{\"data-bind\":\"text: formatted_val\"}},\"nodeType\":\"DOM\",\"type\":\"node\",\"instanceArgs\":{\"namespace\":\"html\",\"tag\":\"p\"},\"children\":[]}]}]}]}]},{\"props\":{},\"nodeType\":\"Scope\",\"type\":\"node\",\"instanceArgs\":{\"imports\":{\"data\":[],\"type\":\"async_block\"},\"id\":\"10383163866338305999\",\"handlers\":{},\"systemjs_options\":null,\"mount_callbacks\":[],\"observables\":{\"obs-node\":{\"sync\":false,\"id\":\"15979298871019739048\",\"value\":{\"props\":{\"className\":\"interact-flex-row interact-widget\"},\"nodeType\":\"DOM\",\"type\":\"node\",\"instanceArgs\":{\"namespace\":\"html\",\"tag\":\"div\"},\"children\":[{\"props\":{\"setInnerHtml\":\"<?xml version=\\\"1.0\\\" encoding=\\\"utf-8\\\"?>\\n<svg xmlns=\\\"http:\\/\\/www.w3.org\\/2000\\/svg\\\" xmlns:xlink=\\\"http:\\/\\/www.w3.org\\/1999\\/xlink\\\" width=\\\"600\\\" height=\\\"400\\\" viewBox=\\\"0 0 2400 1600\\\">\\n<defs>\\n  <clipPath id=\\\"clip990\\\">\\n    <rect x=\\\"0\\\" y=\\\"0\\\" width=\\\"2400\\\" height=\\\"1600\\\"\\/>\\n  <\\/clipPath>\\n<\\/defs>\\n<path clip-path=\\\"url(#clip990)\\\" d=\\\"\\nM0 1600 L2400 1600 L2400 0 L0 0  Z\\n  \\\" fill=\\\"#ffffff\\\" fill-rule=\\\"evenodd\\\" fill-opacity=\\\"1\\\"\\/>\\n<defs>\\n  <clipPath id=\\\"clip991\\\">\\n    <rect x=\\\"480\\\" y=\\\"0\\\" width=\\\"1681\\\" height=\\\"1600\\\"\\/>\\n  <\\/clipPath>\\n<\\/defs>\\n<path clip-path=\\\"url(#clip990)\\\" d=\\\"\\nM136.76 1486.45 L2352.76 1486.45 L2352.76 47.2441 L136.76 47.2441  Z\\n  \\\" fill=\\\"#ffffff\\\" fill-rule=\\\"evenodd\\\" fill-opacity=\\\"1\\\"\\/>\\n<defs>\\n  <clipPath id=\\\"clip992\\\">\\n    <rect x=\\\"136\\\" y=\\\"47\\\" width=\\\"2217\\\" height=\\\"1440\\\"\\/>\\n  <\\/clipPath>\\n<\\/defs>\\n<polyline clip-path=\\\"url(#clip992)\\\" style=\\\"stroke:#000000; stroke-width:2; stroke-opacity:0.1; fill:none\\\" points=\\\"\\n  157.666,1486.45 157.666,47.2441 \\n  \\\"\\/>\\n<polyline clip-path=\\\"url(#clip992)\\\" style=\\\"stroke:#000000; stroke-width:2; stroke-opacity:0.1; fill:none\\\" points=\\\"\\n  575.778,1486.45 575.778,47.2441 \\n  \\\"\\/>\\n<polyline clip-path=\\\"url(#clip992)\\\" style=\\\"stroke:#000000; stroke-width:2; stroke-opacity:0.1; fill:none\\\" points=\\\"\\n  993.891,1486.45 993.891,47.2441 \\n  \\\"\\/>\\n<polyline clip-path=\\\"url(#clip992)\\\" style=\\\"stroke:#000000; stroke-width:2; stroke-opacity:0.1; fill:none\\\" points=\\\"\\n  1412,1486.45 1412,47.2441 \\n  \\\"\\/>\\n<polyline clip-path=\\\"url(#clip992)\\\" style=\\\"stroke:#000000; stroke-width:2; stroke-opacity:0.1; fill:none\\\" points=\\\"\\n  1830.12,1486.45 1830.12,47.2441 \\n  \\\"\\/>\\n<polyline clip-path=\\\"url(#clip992)\\\" style=\\\"stroke:#000000; stroke-width:2; stroke-opacity:0.1; fill:none\\\" points=\\\"\\n  2248.23,1486.45 2248.23,47.2441 \\n  \\\"\\/>\\n<polyline clip-path=\\\"url(#clip990)\\\" style=\\\"stroke:#000000; stroke-width:4; stroke-opacity:1; fill:none\\\" points=\\\"\\n  136.76,1486.45 2352.76,1486.45 \\n  \\\"\\/>\\n<polyline clip-path=\\\"url(#clip990)\\\" style=\\\"stroke:#000000; stroke-width:4; stroke-opacity:1; fill:none\\\" points=\\\"\\n  157.666,1486.45 157.666,1469.18 \\n  \\\"\\/>\\n<polyline clip-path=\\\"url(#clip990)\\\" style=\\\"stroke:#000000; stroke-width:4; stroke-opacity:1; fill:none\\\" points=\\\"\\n  575.778,1486.45 575.778,1469.18 \\n  \\\"\\/>\\n<polyline clip-path=\\\"url(#clip990)\\\" style=\\\"stroke:#000000; stroke-width:4; stroke-opacity:1; fill:none\\\" points=\\\"\\n  993.891,1486.45 993.891,1469.18 \\n  \\\"\\/>\\n<polyline clip-path=\\\"url(#clip990)\\\" style=\\\"stroke:#000000; stroke-width:4; stroke-opacity:1; fill:none\\\" points=\\\"\\n  1412,1486.45 1412,1469.18 \\n  \\\"\\/>\\n<polyline clip-path=\\\"url(#clip990)\\\" style=\\\"stroke:#000000; stroke-width:4; stroke-opacity:1; fill:none\\\" points=\\\"\\n  1830.12,1486.45 1830.12,1469.18 \\n  \\\"\\/>\\n<polyline clip-path=\\\"url(#clip990)\\\" style=\\\"stroke:#000000; stroke-width:4; stroke-opacity:1; fill:none\\\" points=\\\"\\n  2248.23,1486.45 2248.23,1469.18 \\n  \\\"\\/>\\n<path clip-path=\\\"url(#clip990)\\\" d=\\\"M 0 0 M157.666 1515.64 Q154.055 1515.64 152.226 1519.2 Q150.421 1522.75 150.421 1529.87 Q150.421 1536.98 152.226 1540.55 Q154.055 1544.09 157.666 1544.09 Q161.3 1544.09 163.106 1540.55 Q164.934 1536.98 164.934 1529.87 Q164.934 1522.75 163.106 1519.2 Q161.3 1515.64 157.666 1515.64 M157.666 1511.93 Q163.476 1511.93 166.532 1516.54 Q169.61 1521.12 169.61 1529.87 Q169.61 1538.6 166.532 1543.21 Q163.476 1547.79 157.666 1547.79 Q151.856 1547.79 148.777 1543.21 Q145.722 1538.6 145.722 1529.87 Q145.722 1521.12 148.777 1516.54 Q151.856 1511.93 157.666 1511.93 Z\\\" fill=\\\"#000000\\\" fill-rule=\\\"evenodd\\\" fill-opacity=\\\"1\\\" \\/><path clip-path=\\\"url(#clip990)\\\" d=\\\"M 0 0 M552.653 1543.18 L560.292 1543.18 L560.292 1516.82 L551.982 1518.49 L551.982 1514.23 L560.246 1512.56 L564.922 1512.56 L564.922 1543.18 L572.561 1543.18 L572.561 1547.12 L552.653 1547.12 L552.653 1543.18 Z\\\" fill=\\\"#000000\\\" fill-rule=\\\"evenodd\\\" fill-opacity=\\\"1\\\" \\/><path clip-path=\\\"url(#clip990)\\\" d=\\\"M 0 0 M587.63 1515.64 Q584.019 1515.64 582.19 1519.2 Q580.385 1522.75 580.385 1529.87 Q580.385 1536.98 582.19 1540.55 Q584.019 1544.09 587.63 1544.09 Q591.264 1544.09 593.07 1540.55 Q594.899 1536.98 594.899 1529.87 Q594.899 1522.75 593.07 1519.2 Q591.264 1515.64 587.63 1515.64 M587.63 1511.93 Q593.44 1511.93 596.496 1516.54 Q599.575 1521.12 599.575 1529.87 Q599.575 1538.6 596.496 1543.21 Q593.44 1547.79 587.63 1547.79 Q581.82 1547.79 578.741 1543.21 Q575.686 1538.6 575.686 1529.87 Q575.686 1521.12 578.741 1516.54 Q581.82 1511.93 587.63 1511.93 Z\\\" fill=\\\"#000000\\\" fill-rule=\\\"evenodd\\\" fill-opacity=\\\"1\\\" \\/><path clip-path=\\\"url(#clip990)\\\" d=\\\"M 0 0 M975.037 1543.18 L991.356 1543.18 L991.356 1547.12 L969.412 1547.12 L969.412 1543.18 Q972.074 1540.43 976.657 1535.8 Q981.263 1531.15 982.444 1529.81 Q984.689 1527.28 985.569 1525.55 Q986.472 1523.79 986.472 1522.1 Q986.472 1519.34 984.527 1517.61 Q982.606 1515.87 979.504 1515.87 Q977.305 1515.87 974.851 1516.63 Q972.421 1517.4 969.643 1518.95 L969.643 1514.23 Q972.467 1513.09 974.921 1512.51 Q977.375 1511.93 979.412 1511.93 Q984.782 1511.93 987.976 1514.62 Q991.171 1517.31 991.171 1521.8 Q991.171 1523.93 990.361 1525.85 Q989.574 1527.74 987.467 1530.34 Q986.888 1531.01 983.787 1534.23 Q980.685 1537.42 975.037 1543.18 Z\\\" fill=\\\"#000000\\\" fill-rule=\\\"evenodd\\\" fill-opacity=\\\"1\\\" \\/><path clip-path=\\\"url(#clip990)\\\" d=\\\"M 0 0 M1006.43 1515.64 Q1002.81 1515.64 1000.99 1519.2 Q999.18 1522.75 999.18 1529.87 Q999.18 1536.98 1000.99 1540.55 Q1002.81 1544.09 1006.43 1544.09 Q1010.06 1544.09 1011.87 1540.55 Q1013.69 1536.98 1013.69 1529.87 Q1013.69 1522.75 1011.87 1519.2 Q1010.06 1515.64 1006.43 1515.64 M1006.43 1511.93 Q1012.24 1511.93 1015.29 1516.54 Q1018.37 1521.12 1018.37 1529.87 Q1018.37 1538.6 1015.29 1543.21 Q1012.24 1547.79 1006.43 1547.79 Q1000.62 1547.79 997.537 1543.21 Q994.481 1538.6 994.481 1529.87 Q994.481 1521.12 997.537 1516.54 Q1000.62 1511.93 1006.43 1511.93 Z\\\" fill=\\\"#000000\\\" fill-rule=\\\"evenodd\\\" fill-opacity=\\\"1\\\" \\/><path clip-path=\\\"url(#clip990)\\\" d=\\\"M 0 0 M1402.74 1528.49 Q1406.1 1529.2 1407.98 1531.47 Q1409.87 1533.74 1409.87 1537.07 Q1409.87 1542.19 1406.35 1544.99 Q1402.84 1547.79 1396.36 1547.79 Q1394.18 1547.79 1391.86 1547.35 Q1389.57 1546.93 1387.12 1546.08 L1387.12 1541.56 Q1389.06 1542.7 1391.38 1543.28 Q1393.69 1543.86 1396.22 1543.86 Q1400.61 1543.86 1402.91 1542.12 Q1405.22 1540.38 1405.22 1537.07 Q1405.22 1534.02 1403.07 1532.31 Q1400.94 1530.57 1397.12 1530.57 L1393.09 1530.57 L1393.09 1526.73 L1397.3 1526.73 Q1400.75 1526.73 1402.58 1525.36 Q1404.41 1523.97 1404.41 1521.38 Q1404.41 1518.72 1402.51 1517.31 Q1400.64 1515.87 1397.12 1515.87 Q1395.2 1515.87 1393 1516.29 Q1390.8 1516.7 1388.16 1517.58 L1388.16 1513.42 Q1390.82 1512.68 1393.14 1512.31 Q1395.48 1511.93 1397.54 1511.93 Q1402.86 1511.93 1405.96 1514.37 Q1409.06 1516.77 1409.06 1520.89 Q1409.06 1523.76 1407.42 1525.75 Q1405.78 1527.72 1402.74 1528.49 Z\\\" fill=\\\"#000000\\\" fill-rule=\\\"evenodd\\\" fill-opacity=\\\"1\\\" \\/><path clip-path=\\\"url(#clip990)\\\" d=\\\"M 0 0 M1424.94 1515.64 Q1421.33 1515.64 1419.5 1519.2 Q1417.7 1522.75 1417.7 1529.87 Q1417.7 1536.98 1419.5 1540.55 Q1421.33 1544.09 1424.94 1544.09 Q1428.58 1544.09 1430.38 1540.55 Q1432.21 1536.98 1432.21 1529.87 Q1432.21 1522.75 1430.38 1519.2 Q1428.58 1515.64 1424.94 1515.64 M1424.94 1511.93 Q1430.75 1511.93 1433.81 1516.54 Q1436.89 1521.12 1436.89 1529.87 Q1436.89 1538.6 1433.81 1543.21 Q1430.75 1547.79 1424.94 1547.79 Q1419.13 1547.79 1416.05 1543.21 Q1413 1538.6 1413 1529.87 Q1413 1521.12 1416.05 1516.54 Q1419.13 1511.93 1424.94 1511.93 Z\\\" fill=\\\"#000000\\\" fill-rule=\\\"evenodd\\\" fill-opacity=\\\"1\\\" \\/><path clip-path=\\\"url(#clip990)\\\" d=\\\"M 0 0 M1819.62 1516.63 L1807.81 1535.08 L1819.62 1535.08 L1819.62 1516.63 M1818.39 1512.56 L1824.27 1512.56 L1824.27 1535.08 L1829.2 1535.08 L1829.2 1538.97 L1824.27 1538.97 L1824.27 1547.12 L1819.62 1547.12 L1819.62 1538.97 L1804.02 1538.97 L1804.02 1534.46 L1818.39 1512.56 Z\\\" fill=\\\"#000000\\\" fill-rule=\\\"evenodd\\\" fill-opacity=\\\"1\\\" \\/><path clip-path=\\\"url(#clip990)\\\" d=\\\"M 0 0 M1844.27 1515.64 Q1840.66 1515.64 1838.83 1519.2 Q1837.03 1522.75 1837.03 1529.87 Q1837.03 1536.98 1838.83 1540.55 Q1840.66 1544.09 1844.27 1544.09 Q1847.9 1544.09 1849.71 1540.55 Q1851.54 1536.98 1851.54 1529.87 Q1851.54 1522.75 1849.71 1519.2 Q1847.9 1515.64 1844.27 1515.64 M1844.27 1511.93 Q1850.08 1511.93 1853.14 1516.54 Q1856.21 1521.12 1856.21 1529.87 Q1856.21 1538.6 1853.14 1543.21 Q1850.08 1547.79 1844.27 1547.79 Q1838.46 1547.79 1835.38 1543.21 Q1832.33 1538.6 1832.33 1529.87 Q1832.33 1521.12 1835.38 1516.54 Q1838.46 1511.93 1844.27 1511.93 Z\\\" fill=\\\"#000000\\\" fill-rule=\\\"evenodd\\\" fill-opacity=\\\"1\\\" \\/><path clip-path=\\\"url(#clip990)\\\" d=\\\"M 0 0 M2225 1512.56 L2243.36 1512.56 L2243.36 1516.5 L2229.28 1516.5 L2229.28 1524.97 Q2230.3 1524.62 2231.32 1524.46 Q2232.34 1524.27 2233.36 1524.27 Q2239.14 1524.27 2242.52 1527.44 Q2245.9 1530.62 2245.9 1536.03 Q2245.9 1541.61 2242.43 1544.71 Q2238.96 1547.79 2232.64 1547.79 Q2230.46 1547.79 2228.19 1547.42 Q2225.95 1547.05 2223.54 1546.31 L2223.54 1541.61 Q2225.62 1542.74 2227.85 1543.3 Q2230.07 1543.86 2232.55 1543.86 Q2236.55 1543.86 2238.89 1541.75 Q2241.23 1539.64 2241.23 1536.03 Q2241.23 1532.42 2238.89 1530.31 Q2236.55 1528.21 2232.55 1528.21 Q2230.67 1528.21 2228.8 1528.62 Q2226.94 1529.04 2225 1529.92 L2225 1512.56 Z\\\" fill=\\\"#000000\\\" fill-rule=\\\"evenodd\\\" fill-opacity=\\\"1\\\" \\/><path clip-path=\\\"url(#clip990)\\\" d=\\\"M 0 0 M2260.97 1515.64 Q2257.36 1515.64 2255.53 1519.2 Q2253.73 1522.75 2253.73 1529.87 Q2253.73 1536.98 2255.53 1540.55 Q2257.36 1544.09 2260.97 1544.09 Q2264.61 1544.09 2266.41 1540.55 Q2268.24 1536.98 2268.24 1529.87 Q2268.24 1522.75 2266.41 1519.2 Q2264.61 1515.64 2260.97 1515.64 M2260.97 1511.93 Q2266.78 1511.93 2269.84 1516.54 Q2272.92 1521.12 2272.92 1529.87 Q2272.92 1538.6 2269.84 1543.21 Q2266.78 1547.79 2260.97 1547.79 Q2255.16 1547.79 2252.08 1543.21 Q2249.03 1538.6 2249.03 1529.87 Q2249.03 1521.12 2252.08 1516.54 Q2255.16 1511.93 2260.97 1511.93 Z\\\" fill=\\\"#000000\\\" fill-rule=\\\"evenodd\\\" fill-opacity=\\\"1\\\" \\/><polyline clip-path=\\\"url(#clip992)\\\" style=\\\"stroke:#000000; stroke-width:2; stroke-opacity:0.1; fill:none\\\" points=\\\"\\n  136.76,1348.73 2352.76,1348.73 \\n  \\\"\\/>\\n<polyline clip-path=\\\"url(#clip992)\\\" style=\\\"stroke:#000000; stroke-width:2; stroke-opacity:0.1; fill:none\\\" points=\\\"\\n  136.76,1154.77 2352.76,1154.77 \\n  \\\"\\/>\\n<polyline clip-path=\\\"url(#clip992)\\\" style=\\\"stroke:#000000; stroke-width:2; stroke-opacity:0.1; fill:none\\\" points=\\\"\\n  136.76,960.809 2352.76,960.809 \\n  \\\"\\/>\\n<polyline clip-path=\\\"url(#clip992)\\\" style=\\\"stroke:#000000; stroke-width:2; stroke-opacity:0.1; fill:none\\\" points=\\\"\\n  136.76,766.846 2352.76,766.846 \\n  \\\"\\/>\\n<polyline clip-path=\\\"url(#clip992)\\\" style=\\\"stroke:#000000; stroke-width:2; stroke-opacity:0.1; fill:none\\\" points=\\\"\\n  136.76,572.883 2352.76,572.883 \\n  \\\"\\/>\\n<polyline clip-path=\\\"url(#clip992)\\\" style=\\\"stroke:#000000; stroke-width:2; stroke-opacity:0.1; fill:none\\\" points=\\\"\\n  136.76,378.92 2352.76,378.92 \\n  \\\"\\/>\\n<polyline clip-path=\\\"url(#clip992)\\\" style=\\\"stroke:#000000; stroke-width:2; stroke-opacity:0.1; fill:none\\\" points=\\\"\\n  136.76,184.958 2352.76,184.958 \\n  \\\"\\/>\\n<polyline clip-path=\\\"url(#clip990)\\\" style=\\\"stroke:#000000; stroke-width:4; stroke-opacity:1; fill:none\\\" points=\\\"\\n  136.76,1486.45 136.76,47.2441 \\n  \\\"\\/>\\n<polyline clip-path=\\\"url(#clip990)\\\" style=\\\"stroke:#000000; stroke-width:4; stroke-opacity:1; fill:none\\\" points=\\\"\\n  136.76,1348.73 163.352,1348.73 \\n  \\\"\\/>\\n<polyline clip-path=\\\"url(#clip990)\\\" style=\\\"stroke:#000000; stroke-width:4; stroke-opacity:1; fill:none\\\" points=\\\"\\n  136.76,1154.77 163.352,1154.77 \\n  \\\"\\/>\\n<polyline clip-path=\\\"url(#clip990)\\\" style=\\\"stroke:#000000; stroke-width:4; stroke-opacity:1; fill:none\\\" points=\\\"\\n  136.76,960.809 163.352,960.809 \\n  \\\"\\/>\\n<polyline clip-path=\\\"url(#clip990)\\\" style=\\\"stroke:#000000; stroke-width:4; stroke-opacity:1; fill:none\\\" points=\\\"\\n  136.76,766.846 163.352,766.846 \\n  \\\"\\/>\\n<polyline clip-path=\\\"url(#clip990)\\\" style=\\\"stroke:#000000; stroke-width:4; stroke-opacity:1; fill:none\\\" points=\\\"\\n  136.76,572.883 163.352,572.883 \\n  \\\"\\/>\\n<polyline clip-path=\\\"url(#clip990)\\\" style=\\\"stroke:#000000; stroke-width:4; stroke-opacity:1; fill:none\\\" points=\\\"\\n  136.76,378.92 163.352,378.92 \\n  \\\"\\/>\\n<polyline clip-path=\\\"url(#clip990)\\\" style=\\\"stroke:#000000; stroke-width:4; stroke-opacity:1; fill:none\\\" points=\\\"\\n  136.76,184.958 163.352,184.958 \\n  \\\"\\/>\\n<path clip-path=\\\"url(#clip990)\\\" d=\\\"M 0 0 M57.4273 1362.08 L73.7466 1362.08 L73.7466 1366.01 L51.8023 1366.01 L51.8023 1362.08 Q54.4643 1359.32 59.0476 1354.69 Q63.6541 1350.04 64.8346 1348.7 Q67.08 1346.18 67.9596 1344.44 Q68.8624 1342.68 68.8624 1340.99 Q68.8624 1338.24 66.918 1336.5 Q64.9967 1334.76 61.8948 1334.76 Q59.6958 1334.76 57.2421 1335.53 Q54.8115 1336.29 52.0338 1337.84 L52.0338 1333.12 Q54.8578 1331.99 57.3115 1331.41 Q59.7652 1330.83 61.8023 1330.83 Q67.1726 1330.83 70.367 1333.51 Q73.5614 1336.2 73.5614 1340.69 Q73.5614 1342.82 72.7513 1344.74 Q71.9642 1346.64 69.8578 1349.23 Q69.2791 1349.9 66.1772 1353.12 Q63.0754 1356.32 57.4273 1362.08 Z\\\" fill=\\\"#000000\\\" fill-rule=\\\"evenodd\\\" fill-opacity=\\\"1\\\" \\/><path clip-path=\\\"url(#clip990)\\\" d=\\\"M 0 0 M88.816 1334.53 Q85.2049 1334.53 83.3762 1338.1 Q81.5707 1341.64 81.5707 1348.77 Q81.5707 1355.88 83.3762 1359.44 Q85.2049 1362.98 88.816 1362.98 Q92.4502 1362.98 94.2558 1359.44 Q96.0845 1355.88 96.0845 1348.77 Q96.0845 1341.64 94.2558 1338.1 Q92.4502 1334.53 88.816 1334.53 M88.816 1330.83 Q94.6262 1330.83 97.6817 1335.44 Q100.76 1340.02 100.76 1348.77 Q100.76 1357.5 97.6817 1362.1 Q94.6262 1366.69 88.816 1366.69 Q83.0058 1366.69 79.9272 1362.1 Q76.8716 1357.5 76.8716 1348.77 Q76.8716 1340.02 79.9272 1335.44 Q83.0058 1330.83 88.816 1330.83 Z\\\" fill=\\\"#000000\\\" fill-rule=\\\"evenodd\\\" fill-opacity=\\\"1\\\" \\/><path clip-path=\\\"url(#clip990)\\\" d=\\\"M 0 0 M59.0245 1168.12 L75.3438 1168.12 L75.3438 1172.05 L53.3995 1172.05 L53.3995 1168.12 Q56.0615 1165.36 60.6449 1160.73 Q65.2513 1156.08 66.4319 1154.74 Q68.6772 1152.21 69.5568 1150.48 Q70.4596 1148.72 70.4596 1147.03 Q70.4596 1144.27 68.5152 1142.54 Q66.5939 1140.8 63.4921 1140.8 Q61.293 1140.8 58.8393 1141.57 Q56.4088 1142.33 53.631 1143.88 L53.631 1139.16 Q56.4551 1138.02 58.9088 1137.45 Q61.3624 1136.87 63.3995 1136.87 Q68.7698 1136.87 71.9642 1139.55 Q75.1587 1142.24 75.1587 1146.73 Q75.1587 1148.86 74.3485 1150.78 Q73.5614 1152.68 71.455 1155.27 Q70.8763 1155.94 67.7744 1159.16 Q64.6726 1162.35 59.0245 1168.12 Z\\\" fill=\\\"#000000\\\" fill-rule=\\\"evenodd\\\" fill-opacity=\\\"1\\\" \\/><path clip-path=\\\"url(#clip990)\\\" d=\\\"M 0 0 M84.441 1168.12 L100.76 1168.12 L100.76 1172.05 L78.8161 1172.05 L78.8161 1168.12 Q81.4781 1165.36 86.0614 1160.73 Q90.6678 1156.08 91.8484 1154.74 Q94.0937 1152.21 94.9734 1150.48 Q95.8761 1148.72 95.8761 1147.03 Q95.8761 1144.27 93.9317 1142.54 Q92.0104 1140.8 88.9086 1140.8 Q86.7095 1140.8 84.2558 1141.57 Q81.8253 1142.33 79.0475 1143.88 L79.0475 1139.16 Q81.8716 1138.02 84.3253 1137.45 Q86.779 1136.87 88.816 1136.87 Q94.1863 1136.87 97.3808 1139.55 Q100.575 1142.24 100.575 1146.73 Q100.575 1148.86 99.765 1150.78 Q98.978 1152.68 96.8715 1155.27 Q96.2928 1155.94 93.191 1159.16 Q90.0891 1162.35 84.441 1168.12 Z\\\" fill=\\\"#000000\\\" fill-rule=\\\"evenodd\\\" fill-opacity=\\\"1\\\" \\/><path clip-path=\\\"url(#clip990)\\\" d=\\\"M 0 0 M56.9412 974.154 L73.2605 974.154 L73.2605 978.089 L51.3162 978.089 L51.3162 974.154 Q53.9782 971.399 58.5615 966.769 Q63.168 962.117 64.3485 960.774 Q66.5939 958.251 67.4735 956.515 Q68.3763 954.756 68.3763 953.066 Q68.3763 950.311 66.4319 948.575 Q64.5106 946.839 61.4087 946.839 Q59.2097 946.839 56.756 947.603 Q54.3254 948.367 51.5477 949.918 L51.5477 945.195 Q54.3717 944.061 56.8254 943.482 Q59.2791 942.904 61.3161 942.904 Q66.6865 942.904 69.8809 945.589 Q73.0753 948.274 73.0753 952.765 Q73.0753 954.894 72.2652 956.816 Q71.4781 958.714 69.3717 961.306 Q68.793 961.978 65.6911 965.195 Q62.5893 968.39 56.9412 974.154 Z\\\" fill=\\\"#000000\\\" fill-rule=\\\"evenodd\\\" fill-opacity=\\\"1\\\" \\/><path clip-path=\\\"url(#clip990)\\\" d=\\\"M 0 0 M91.1771 947.603 L79.3716 966.052 L91.1771 966.052 L91.1771 947.603 M89.9503 943.529 L95.8298 943.529 L95.8298 966.052 L100.76 966.052 L100.76 969.941 L95.8298 969.941 L95.8298 978.089 L91.1771 978.089 L91.1771 969.941 L75.5753 969.941 L75.5753 965.427 L89.9503 943.529 Z\\\" fill=\\\"#000000\\\" fill-rule=\\\"evenodd\\\" fill-opacity=\\\"1\\\" \\/><path clip-path=\\\"url(#clip990)\\\" d=\\\"M 0 0 M57.2652 780.191 L73.5846 780.191 L73.5846 784.126 L51.6403 784.126 L51.6403 780.191 Q54.3023 777.436 58.8856 772.807 Q63.4921 768.154 64.6726 766.811 Q66.918 764.288 67.7976 762.552 Q68.7004 760.793 68.7004 759.103 Q68.7004 756.348 66.7559 754.612 Q64.8346 752.876 61.7328 752.876 Q59.5337 752.876 57.0801 753.64 Q54.6495 754.404 51.8718 755.955 L51.8718 751.233 Q54.6958 750.098 57.1495 749.52 Q59.6032 748.941 61.6402 748.941 Q67.0106 748.941 70.205 751.626 Q73.3994 754.311 73.3994 758.802 Q73.3994 760.932 72.5892 762.853 Q71.8022 764.751 69.6957 767.344 Q69.117 768.015 66.0152 771.233 Q62.9134 774.427 57.2652 780.191 Z\\\" fill=\\\"#000000\\\" fill-rule=\\\"evenodd\\\" fill-opacity=\\\"1\\\" \\/><path clip-path=\\\"url(#clip990)\\\" d=\\\"M 0 0 M89.2327 764.983 Q86.0845 764.983 84.2327 767.135 Q82.404 769.288 82.404 773.038 Q82.404 776.765 84.2327 778.941 Q86.0845 781.094 89.2327 781.094 Q92.3808 781.094 94.2095 778.941 Q96.0613 776.765 96.0613 773.038 Q96.0613 769.288 94.2095 767.135 Q92.3808 764.983 89.2327 764.983 M98.515 750.33 L98.515 754.589 Q96.7558 753.756 94.9502 753.316 Q93.1678 752.876 91.4086 752.876 Q86.779 752.876 84.3253 756.001 Q81.8947 759.126 81.5475 765.446 Q82.9133 763.432 84.9734 762.367 Q87.0336 761.279 89.5104 761.279 Q94.7187 761.279 97.728 764.45 Q100.76 767.598 100.76 773.038 Q100.76 778.362 97.6122 781.58 Q94.4641 784.797 89.2327 784.797 Q83.2373 784.797 80.066 780.214 Q76.8948 775.608 76.8948 766.881 Q76.8948 758.686 80.7836 753.825 Q84.6725 748.941 91.2234 748.941 Q92.9826 748.941 94.765 749.288 Q96.5706 749.635 98.515 750.33 Z\\\" fill=\\\"#000000\\\" fill-rule=\\\"evenodd\\\" fill-opacity=\\\"1\\\" \\/><path clip-path=\\\"url(#clip990)\\\" d=\\\"M 0 0 M57.5199 586.228 L73.8392 586.228 L73.8392 590.163 L51.8949 590.163 L51.8949 586.228 Q54.5569 583.473 59.1402 578.844 Q63.7467 574.191 64.9272 572.848 Q67.1726 570.325 68.0522 568.589 Q68.955 566.83 68.955 565.14 Q68.955 562.386 67.0106 560.649 Q65.0893 558.913 61.9874 558.913 Q59.7884 558.913 57.3347 559.677 Q54.9041 560.441 52.1264 561.992 L52.1264 557.27 Q54.9504 556.136 57.4041 555.557 Q59.8578 554.978 61.8948 554.978 Q67.2652 554.978 70.4596 557.663 Q73.654 560.349 73.654 564.839 Q73.654 566.969 72.8439 568.89 Q72.0568 570.788 69.9504 573.381 Q69.3717 574.052 66.2698 577.27 Q63.168 580.464 57.5199 586.228 Z\\\" fill=\\\"#000000\\\" fill-rule=\\\"evenodd\\\" fill-opacity=\\\"1\\\" \\/><path clip-path=\\\"url(#clip990)\\\" d=\\\"M 0 0 M88.9086 573.751 Q85.5753 573.751 83.654 575.534 Q81.7559 577.316 81.7559 580.441 Q81.7559 583.566 83.654 585.348 Q85.5753 587.131 88.9086 587.131 Q92.2419 587.131 94.1632 585.348 Q96.0845 583.543 96.0845 580.441 Q96.0845 577.316 94.1632 575.534 Q92.2651 573.751 88.9086 573.751 M84.2327 571.761 Q81.2234 571.02 79.5336 568.96 Q77.867 566.899 77.867 563.936 Q77.867 559.793 80.8068 557.386 Q83.7697 554.978 88.9086 554.978 Q94.0706 554.978 97.0104 557.386 Q99.9502 559.793 99.9502 563.936 Q99.9502 566.899 98.2604 568.96 Q96.5937 571.02 93.6076 571.761 Q96.9872 572.548 98.8622 574.839 Q100.76 577.131 100.76 580.441 Q100.76 585.464 97.6817 588.149 Q94.6262 590.835 88.9086 590.835 Q83.191 590.835 80.1123 588.149 Q77.0568 585.464 77.0568 580.441 Q77.0568 577.131 78.9549 574.839 Q80.8531 572.548 84.2327 571.761 M82.5197 564.376 Q82.5197 567.061 84.1864 568.566 Q85.8762 570.071 88.9086 570.071 Q91.9178 570.071 93.6076 568.566 Q95.3206 567.061 95.3206 564.376 Q95.3206 561.691 93.6076 560.187 Q91.9178 558.682 88.9086 558.682 Q85.8762 558.682 84.1864 560.187 Q82.5197 561.691 82.5197 564.376 Z\\\" fill=\\\"#000000\\\" fill-rule=\\\"evenodd\\\" fill-opacity=\\\"1\\\" \\/><path clip-path=\\\"url(#clip990)\\\" d=\\\"M 0 0 M66.617 377.566 Q69.9735 378.284 71.8485 380.552 Q73.7466 382.821 73.7466 386.154 Q73.7466 391.27 70.2281 394.071 Q66.7096 396.872 60.2282 396.872 Q58.0523 396.872 55.7375 396.432 Q53.4458 396.015 50.9921 395.159 L50.9921 390.645 Q52.9366 391.779 55.2514 392.358 Q57.5662 392.937 60.0893 392.937 Q64.4874 392.937 66.7791 391.2 Q69.0939 389.464 69.0939 386.154 Q69.0939 383.099 66.9411 381.386 Q64.8115 379.65 60.9921 379.65 L56.9643 379.65 L56.9643 375.807 L61.1773 375.807 Q64.6263 375.807 66.455 374.441 Q68.2837 373.052 68.2837 370.46 Q68.2837 367.798 66.3856 366.386 Q64.5106 364.951 60.9921 364.951 Q59.0708 364.951 56.8717 365.367 Q54.6727 365.784 52.0338 366.664 L52.0338 362.497 Q54.6958 361.756 57.0106 361.386 Q59.3486 361.015 61.4087 361.015 Q66.7328 361.015 69.8346 363.446 Q72.9365 365.853 72.9365 369.974 Q72.9365 372.844 71.2929 374.835 Q69.6494 376.802 66.617 377.566 Z\\\" fill=\\\"#000000\\\" fill-rule=\\\"evenodd\\\" fill-opacity=\\\"1\\\" \\/><path clip-path=\\\"url(#clip990)\\\" d=\\\"M 0 0 M88.816 364.719 Q85.2049 364.719 83.3762 368.284 Q81.5707 371.826 81.5707 378.955 Q81.5707 386.062 83.3762 389.626 Q85.2049 393.168 88.816 393.168 Q92.4502 393.168 94.2558 389.626 Q96.0845 386.062 96.0845 378.955 Q96.0845 371.826 94.2558 368.284 Q92.4502 364.719 88.816 364.719 M88.816 361.015 Q94.6262 361.015 97.6817 365.622 Q100.76 370.205 100.76 378.955 Q100.76 387.682 97.6817 392.288 Q94.6262 396.872 88.816 396.872 Q83.0058 396.872 79.9272 392.288 Q76.8716 387.682 76.8716 378.955 Q76.8716 370.205 79.9272 365.622 Q83.0058 361.015 88.816 361.015 Z\\\" fill=\\\"#000000\\\" fill-rule=\\\"evenodd\\\" fill-opacity=\\\"1\\\" \\/><path clip-path=\\\"url(#clip990)\\\" d=\\\"M 0 0 M68.2143 183.604 Q71.5707 184.321 73.4457 186.59 Q75.3438 188.858 75.3438 192.191 Q75.3438 197.307 71.8253 200.108 Q68.3068 202.909 61.8254 202.909 Q59.6495 202.909 57.3347 202.469 Q55.043 202.052 52.5893 201.196 L52.5893 196.682 Q54.5338 197.816 56.8486 198.395 Q59.1634 198.974 61.6865 198.974 Q66.0846 198.974 68.3763 197.238 Q70.6911 195.502 70.6911 192.191 Q70.6911 189.136 68.5383 187.423 Q66.4087 185.687 62.5893 185.687 L58.5615 185.687 L58.5615 181.844 L62.7745 181.844 Q66.2235 181.844 68.0522 180.479 Q69.8809 179.09 69.8809 176.497 Q69.8809 173.835 67.9828 172.423 Q66.1078 170.988 62.5893 170.988 Q60.668 170.988 58.4689 171.404 Q56.2699 171.821 53.631 172.701 L53.631 168.534 Q56.293 167.793 58.6078 167.423 Q60.9458 167.053 63.006 167.053 Q68.33 167.053 71.4318 169.483 Q74.5337 171.891 74.5337 176.011 Q74.5337 178.881 72.8902 180.872 Q71.2466 182.84 68.2143 183.604 Z\\\" fill=\\\"#000000\\\" fill-rule=\\\"evenodd\\\" fill-opacity=\\\"1\\\" \\/><path clip-path=\\\"url(#clip990)\\\" d=\\\"M 0 0 M84.441 198.302 L100.76 198.302 L100.76 202.238 L78.8161 202.238 L78.8161 198.302 Q81.4781 195.548 86.0614 190.918 Q90.6678 186.266 91.8484 184.923 Q94.0937 182.4 94.9734 180.664 Q95.8761 178.904 95.8761 177.215 Q95.8761 174.46 93.9317 172.724 Q92.0104 170.988 88.9086 170.988 Q86.7095 170.988 84.2558 171.752 Q81.8253 172.516 79.0475 174.067 L79.0475 169.344 Q81.8716 168.21 84.3253 167.631 Q86.779 167.053 88.816 167.053 Q94.1863 167.053 97.3808 169.738 Q100.575 172.423 100.575 176.914 Q100.575 179.043 99.765 180.965 Q98.978 182.863 96.8715 185.455 Q96.2928 186.127 93.191 189.344 Q90.0891 192.539 84.441 198.302 Z\\\" fill=\\\"#000000\\\" fill-rule=\\\"evenodd\\\" fill-opacity=\\\"1\\\" \\/><polyline clip-path=\\\"url(#clip992)\\\" style=\\\"stroke:#800080; stroke-width:4; stroke-opacity:1; fill:none\\\" points=\\\"\\n  199.477,572.883 241.288,572.883 283.1,572.883 324.911,572.883 366.722,572.883 408.533,572.883 450.345,572.883 492.156,572.883 533.967,572.883 575.778,572.883 \\n  617.59,572.883 659.401,669.865 701.212,669.865 743.023,669.865 784.835,669.865 826.646,766.846 868.457,766.846 910.268,766.846 952.079,572.883 993.891,572.883 \\n  1035.7,669.865 1077.51,669.865 1119.32,669.865 1161.14,766.846 1202.95,766.846 1244.76,766.846 1286.57,766.846 1328.38,766.846 1370.19,766.846 1412,766.846 \\n  1453.81,766.846 1495.63,863.827 1537.44,960.809 1579.25,960.809 1621.06,960.809 1662.87,1057.79 1704.68,1057.79 1746.49,1057.79 1788.3,1057.79 1830.12,1057.79 \\n  1871.93,1057.79 1913.74,1057.79 1955.55,1057.79 1997.36,1057.79 2039.17,1154.77 2080.98,1251.75 2122.79,1251.75 2164.61,1251.75 2206.42,1251.75 2248.23,1251.75 \\n  2290.04,1251.75 \\n  \\\"\\/>\\n<polyline clip-path=\\\"url(#clip992)\\\" style=\\\"stroke:#008000; stroke-width:4; stroke-opacity:1; fill:none\\\" points=\\\"\\n  199.477,475.902 241.288,766.846 283.1,960.809 324.911,960.809 366.722,863.827 408.533,1057.79 450.345,1057.79 492.156,1251.75 533.967,1445.72 575.778,1445.72 \\n  617.59,1445.72 659.401,1348.73 701.212,1348.73 743.023,1348.73 784.835,1348.73 826.646,1251.75 868.457,1251.75 910.268,1251.75 952.079,1251.75 993.891,1251.75 \\n  1035.7,1154.77 1077.51,1057.79 1119.32,960.809 1161.14,863.827 1202.95,766.846 1244.76,669.865 1286.57,572.883 1328.38,475.902 1370.19,669.865 1412,572.883 \\n  1453.81,572.883 1495.63,475.902 1537.44,378.92 1579.25,281.939 1621.06,475.902 1662.87,378.92 1704.68,281.939 1746.49,475.902 1788.3,378.92 1830.12,281.939 \\n  1871.93,281.939 1913.74,475.902 1955.55,475.902 1997.36,378.92 2039.17,281.939 2080.98,184.958 2122.79,87.9763 2164.61,281.939 2206.42,475.902 2248.23,378.92 \\n  2290.04,281.939 \\n  \\\"\\/>\\n<path clip-path=\\\"url(#clip990)\\\" d=\\\"\\nM1826.65 276.658 L2278.89 276.658 L2278.89 95.2176 L1826.65 95.2176  Z\\n  \\\" fill=\\\"#ffffff\\\" fill-rule=\\\"evenodd\\\" fill-opacity=\\\"1\\\"\\/>\\n<polyline clip-path=\\\"url(#clip990)\\\" style=\\\"stroke:#000000; stroke-width:4; stroke-opacity:1; fill:none\\\" points=\\\"\\n  1826.65,276.658 2278.89,276.658 2278.89,95.2176 1826.65,95.2176 1826.65,276.658 \\n  \\\"\\/>\\n<polyline clip-path=\\\"url(#clip990)\\\" style=\\\"stroke:#800080; stroke-width:4; stroke-opacity:1; fill:none\\\" points=\\\"\\n  1851.27,155.698 1999.01,155.698 \\n  \\\"\\/>\\n<path clip-path=\\\"url(#clip990)\\\" d=\\\"M 0 0 M2042.54 159.714 Q2042.54 155.084 2040.62 152.538 Q2038.72 149.992 2035.27 149.992 Q2031.85 149.992 2029.92 152.538 Q2028.03 155.084 2028.03 159.714 Q2028.03 164.32 2029.92 166.866 Q2031.85 169.413 2035.27 169.413 Q2038.72 169.413 2040.62 166.866 Q2042.54 164.32 2042.54 159.714 M2046.8 169.76 Q2046.8 176.38 2043.86 179.598 Q2040.92 182.839 2034.85 182.839 Q2032.61 182.839 2030.62 182.491 Q2028.63 182.167 2026.75 181.473 L2026.75 177.329 Q2028.63 178.348 2030.46 178.834 Q2032.28 179.32 2034.18 179.32 Q2038.37 179.32 2040.46 177.121 Q2042.54 174.945 2042.54 170.524 L2042.54 168.417 Q2041.22 170.709 2039.16 171.843 Q2037.1 172.978 2034.23 172.978 Q2029.46 172.978 2026.54 169.343 Q2023.63 165.709 2023.63 159.714 Q2023.63 153.695 2026.54 150.061 Q2029.46 146.427 2034.23 146.427 Q2037.1 146.427 2039.16 147.561 Q2041.22 148.695 2042.54 150.987 L2042.54 147.052 L2046.8 147.052 L2046.8 169.76 Z\\\" fill=\\\"#000000\\\" fill-rule=\\\"evenodd\\\" fill-opacity=\\\"1\\\" \\/><path clip-path=\\\"url(#clip990)\\\" d=\\\"M 0 0 M2061.31 150.038 Q2057.89 150.038 2055.9 152.723 Q2053.91 155.385 2053.91 160.038 Q2053.91 164.691 2055.87 167.376 Q2057.86 170.038 2061.31 170.038 Q2064.72 170.038 2066.71 167.353 Q2068.7 164.667 2068.7 160.038 Q2068.7 155.431 2066.71 152.746 Q2064.72 150.038 2061.31 150.038 M2061.31 146.427 Q2066.87 146.427 2070.04 150.038 Q2073.21 153.649 2073.21 160.038 Q2073.21 166.404 2070.04 170.038 Q2066.87 173.649 2061.31 173.649 Q2055.73 173.649 2052.56 170.038 Q2049.41 166.404 2049.41 160.038 Q2049.41 153.649 2052.56 150.038 Q2055.73 146.427 2061.31 146.427 Z\\\" fill=\\\"#000000\\\" fill-rule=\\\"evenodd\\\" fill-opacity=\\\"1\\\" \\/><path clip-path=\\\"url(#clip990)\\\" d=\\\"M 0 0 M2077.82 136.959 L2082.08 136.959 L2082.08 150.894 L2084.97 148.811 L2086.73 151.265 L2082.08 154.529 L2082.08 172.978 L2077.82 172.978 L2077.82 157.561 L2074.97 159.598 L2073.26 157.144 L2077.82 153.88 L2077.82 136.959 Z\\\" fill=\\\"#000000\\\" fill-rule=\\\"evenodd\\\" fill-opacity=\\\"1\\\" \\/><path clip-path=\\\"url(#clip990)\\\" d=\\\"M 0 0 M2113.37 158.95 L2113.37 161.033 L2093.79 161.033 Q2094.07 165.431 2096.43 167.746 Q2098.81 170.038 2103.05 170.038 Q2105.5 170.038 2107.79 169.436 Q2110.11 168.834 2112.38 167.63 L2112.38 171.658 Q2110.09 172.63 2107.68 173.14 Q2105.27 173.649 2102.79 173.649 Q2096.59 173.649 2092.96 170.038 Q2089.34 166.427 2089.34 160.269 Q2089.34 153.904 2092.77 150.177 Q2096.22 146.427 2102.05 146.427 Q2107.28 146.427 2110.32 149.806 Q2113.37 153.163 2113.37 158.95 M2109.11 157.7 Q2109.07 154.205 2107.15 152.121 Q2105.25 150.038 2102.1 150.038 Q2098.53 150.038 2096.38 152.052 Q2094.25 154.066 2093.93 157.723 L2109.11 157.7 M2105.62 172.978 L2108.37 172.978 Q2107.33 174.39 2106.82 175.408 Q2106.34 176.427 2106.34 177.144 Q2106.34 178.209 2106.96 178.741 Q2107.61 179.274 2108.86 179.274 Q2109.6 179.274 2110.32 179.089 Q2111.03 178.927 2111.75 178.579 L2111.75 181.658 Q2110.87 181.89 2110.09 182.005 Q2109.3 182.121 2108.6 182.121 Q2105.78 182.121 2104.44 181.103 Q2103.12 180.107 2103.12 177.954 Q2103.12 176.843 2103.72 175.616 Q2104.34 174.413 2105.62 172.978 Z\\\" fill=\\\"#000000\\\" fill-rule=\\\"evenodd\\\" fill-opacity=\\\"1\\\" \\/><path clip-path=\\\"url(#clip990)\\\" d=\\\"M 0 0 M2136.45 160.038 Q2136.45 155.339 2134.51 152.677 Q2132.59 149.992 2129.21 149.992 Q2125.83 149.992 2123.88 152.677 Q2121.96 155.339 2121.96 160.038 Q2121.96 164.737 2123.88 167.422 Q2125.83 170.084 2129.21 170.084 Q2132.59 170.084 2134.51 167.422 Q2136.45 164.737 2136.45 160.038 M2121.96 150.987 Q2123.3 148.672 2125.34 147.561 Q2127.4 146.427 2130.25 146.427 Q2134.97 146.427 2137.91 150.177 Q2140.87 153.927 2140.87 160.038 Q2140.87 166.149 2137.91 169.899 Q2134.97 173.649 2130.25 173.649 Q2127.4 173.649 2125.34 172.538 Q2123.3 171.403 2121.96 169.089 L2121.96 172.978 L2117.68 172.978 L2117.68 136.959 L2121.96 136.959 L2121.96 150.987 Z\\\" fill=\\\"#000000\\\" fill-rule=\\\"evenodd\\\" fill-opacity=\\\"1\\\" \\/><path clip-path=\\\"url(#clip990)\\\" d=\\\"M 0 0 M2145.34 147.052 L2149.6 147.052 L2149.6 172.978 L2145.34 172.978 L2145.34 147.052 M2145.34 136.959 L2149.6 136.959 L2149.6 142.353 L2145.34 142.353 L2145.34 136.959 Z\\\" fill=\\\"#000000\\\" fill-rule=\\\"evenodd\\\" fill-opacity=\\\"1\\\" \\/><path clip-path=\\\"url(#clip990)\\\" d=\\\"M 0 0 M2176.24 158.95 L2176.24 161.033 L2156.66 161.033 Q2156.94 165.431 2159.3 167.746 Q2161.68 170.038 2165.92 170.038 Q2168.37 170.038 2170.66 169.436 Q2172.98 168.834 2175.25 167.63 L2175.25 171.658 Q2172.96 172.63 2170.55 173.14 Q2168.14 173.649 2165.66 173.649 Q2159.46 173.649 2155.83 170.038 Q2152.21 166.427 2152.21 160.269 Q2152.21 153.904 2155.64 150.177 Q2159.09 146.427 2164.92 146.427 Q2170.15 146.427 2173.19 149.806 Q2176.24 153.163 2176.24 158.95 M2171.98 157.7 Q2171.94 154.205 2170.02 152.121 Q2168.12 150.038 2164.97 150.038 Q2161.4 150.038 2159.25 152.052 Q2157.12 154.066 2156.8 157.723 L2171.98 157.7 Z\\\" fill=\\\"#000000\\\" fill-rule=\\\"evenodd\\\" fill-opacity=\\\"1\\\" \\/><polyline clip-path=\\\"url(#clip990)\\\" style=\\\"stroke:#008000; stroke-width:4; stroke-opacity:1; fill:none\\\" points=\\\"\\n  1851.27,216.178 1999.01,216.178 \\n  \\\"\\/>\\n<path clip-path=\\\"url(#clip990)\\\" d=\\\"M 0 0 M2028.95 207.532 L2033.21 207.532 L2033.21 233.921 Q2033.21 238.874 2031.31 241.096 Q2029.44 243.319 2025.25 243.319 L2023.63 243.319 L2023.63 239.708 L2024.76 239.708 Q2027.19 239.708 2028.07 238.573 Q2028.95 237.462 2028.95 233.921 L2028.95 207.532 M2028.95 197.439 L2033.21 197.439 L2033.21 202.833 L2028.95 202.833 L2028.95 197.439 Z\\\" fill=\\\"#000000\\\" fill-rule=\\\"evenodd\\\" fill-opacity=\\\"1\\\" \\/><path clip-path=\\\"url(#clip990)\\\" d=\\\"M 0 0 M2049.46 220.425 Q2044.3 220.425 2042.31 221.606 Q2040.32 222.786 2040.32 225.634 Q2040.32 227.902 2041.8 229.245 Q2043.3 230.564 2045.87 230.564 Q2049.41 230.564 2051.54 228.064 Q2053.7 225.541 2053.7 221.374 L2053.7 220.425 L2049.46 220.425 M2057.96 218.666 L2057.96 233.458 L2053.7 233.458 L2053.7 229.522 Q2052.24 231.883 2050.06 233.018 Q2047.89 234.129 2044.74 234.129 Q2040.76 234.129 2038.4 231.907 Q2036.06 229.661 2036.06 225.911 Q2036.06 221.536 2038.97 219.314 Q2041.91 217.092 2047.72 217.092 L2053.7 217.092 L2053.7 216.675 Q2053.7 213.735 2051.75 212.138 Q2049.83 210.518 2046.34 210.518 Q2044.11 210.518 2042.01 211.05 Q2039.9 211.583 2037.96 212.647 L2037.96 208.712 Q2040.29 207.81 2042.49 207.37 Q2044.69 206.907 2046.78 206.907 Q2052.4 206.907 2055.18 209.823 Q2057.96 212.74 2057.96 218.666 Z\\\" fill=\\\"#000000\\\" fill-rule=\\\"evenodd\\\" fill-opacity=\\\"1\\\" \\/><path clip-path=\\\"url(#clip990)\\\" d=\\\"M 0 0 M2078.95 208.296 L2078.95 212.323 Q2077.15 211.397 2075.2 210.935 Q2073.26 210.472 2071.17 210.472 Q2068 210.472 2066.41 211.444 Q2064.83 212.416 2064.83 214.36 Q2064.83 215.842 2065.97 216.698 Q2067.1 217.532 2070.53 218.296 L2071.98 218.62 Q2076.52 219.592 2078.42 221.374 Q2080.34 223.134 2080.34 226.305 Q2080.34 229.916 2077.47 232.022 Q2074.62 234.129 2069.62 234.129 Q2067.54 234.129 2065.27 233.712 Q2063.03 233.319 2060.53 232.508 L2060.53 228.11 Q2062.89 229.337 2065.18 229.962 Q2067.47 230.564 2069.72 230.564 Q2072.72 230.564 2074.34 229.546 Q2075.97 228.504 2075.97 226.629 Q2075.97 224.893 2074.78 223.967 Q2073.63 223.041 2069.67 222.184 L2068.19 221.837 Q2064.23 221.004 2062.47 219.291 Q2060.71 217.555 2060.71 214.546 Q2060.71 210.888 2063.3 208.898 Q2065.9 206.907 2070.66 206.907 Q2073.03 206.907 2075.11 207.254 Q2077.19 207.601 2078.95 208.296 Z\\\" fill=\\\"#000000\\\" fill-rule=\\\"evenodd\\\" fill-opacity=\\\"1\\\" \\/><path clip-path=\\\"url(#clip990)\\\" d=\\\"M 0 0 M2089.02 200.171 L2089.02 207.532 L2097.79 207.532 L2097.79 210.842 L2089.02 210.842 L2089.02 224.916 Q2089.02 228.087 2089.88 228.99 Q2090.76 229.893 2093.42 229.893 L2097.79 229.893 L2097.79 233.458 L2093.42 233.458 Q2088.49 233.458 2086.61 231.629 Q2084.74 229.777 2084.74 224.916 L2084.74 210.842 L2081.61 210.842 L2081.61 207.532 L2084.74 207.532 L2084.74 200.171 L2089.02 200.171 Z\\\" fill=\\\"#000000\\\" fill-rule=\\\"evenodd\\\" fill-opacity=\\\"1\\\" \\/><path clip-path=\\\"url(#clip990)\\\" d=\\\"M 0 0 M2117.28 211.513 Q2116.57 211.097 2115.71 210.911 Q2114.88 210.703 2113.86 210.703 Q2110.25 210.703 2108.3 213.064 Q2106.38 215.402 2106.38 219.8 L2106.38 233.458 L2102.1 233.458 L2102.1 207.532 L2106.38 207.532 L2106.38 211.56 Q2107.72 209.198 2109.88 208.064 Q2112.03 206.907 2115.11 206.907 Q2115.55 206.907 2116.08 206.976 Q2116.61 207.023 2117.26 207.138 L2117.28 211.513 Z\\\" fill=\\\"#000000\\\" fill-rule=\\\"evenodd\\\" fill-opacity=\\\"1\\\" \\/><path clip-path=\\\"url(#clip990)\\\" d=\\\"M 0 0 M2119.9 207.532 L2140.13 207.532 L2140.13 211.421 L2124.11 230.055 L2140.13 230.055 L2140.13 233.458 L2119.32 233.458 L2119.32 229.569 L2135.34 210.935 L2119.9 210.935 L2119.9 207.532 Z\\\" fill=\\\"#000000\\\" fill-rule=\\\"evenodd\\\" fill-opacity=\\\"1\\\" \\/><path clip-path=\\\"url(#clip990)\\\" d=\\\"M 0 0 M2166.78 219.43 L2166.78 221.513 L2147.19 221.513 Q2147.47 225.911 2149.83 228.226 Q2152.21 230.518 2156.45 230.518 Q2158.9 230.518 2161.2 229.916 Q2163.51 229.314 2165.78 228.11 L2165.78 232.138 Q2163.49 233.11 2161.08 233.62 Q2158.67 234.129 2156.2 234.129 Q2149.99 234.129 2146.36 230.518 Q2142.75 226.907 2142.75 220.749 Q2142.75 214.384 2146.17 210.657 Q2149.62 206.907 2155.46 206.907 Q2160.69 206.907 2163.72 210.286 Q2166.78 213.643 2166.78 219.43 M2162.52 218.18 Q2162.47 214.685 2160.55 212.601 Q2158.65 210.518 2155.5 210.518 Q2151.94 210.518 2149.78 212.532 Q2147.65 214.546 2147.33 218.203 L2162.52 218.18 M2159.02 233.458 L2161.78 233.458 Q2160.73 234.87 2160.22 235.888 Q2159.74 236.907 2159.74 237.624 Q2159.74 238.689 2160.36 239.221 Q2161.01 239.754 2162.26 239.754 Q2163 239.754 2163.72 239.569 Q2164.44 239.407 2165.15 239.059 L2165.15 242.138 Q2164.28 242.37 2163.49 242.485 Q2162.7 242.601 2162.01 242.601 Q2159.18 242.601 2157.84 241.583 Q2156.52 240.587 2156.52 238.434 Q2156.52 237.323 2157.12 236.096 Q2157.75 234.893 2159.02 233.458 Z\\\" fill=\\\"#000000\\\" fill-rule=\\\"evenodd\\\" fill-opacity=\\\"1\\\" \\/><path clip-path=\\\"url(#clip990)\\\" d=\\\"M 0 0 M2189.85 220.518 Q2189.85 215.819 2187.91 213.157 Q2185.99 210.472 2182.61 210.472 Q2179.23 210.472 2177.28 213.157 Q2175.36 215.819 2175.36 220.518 Q2175.36 225.217 2177.28 227.902 Q2179.23 230.564 2182.61 230.564 Q2185.99 230.564 2187.91 227.902 Q2189.85 225.217 2189.85 220.518 M2175.36 211.467 Q2176.71 209.152 2178.74 208.041 Q2180.8 206.907 2183.65 206.907 Q2188.37 206.907 2191.31 210.657 Q2194.27 214.407 2194.27 220.518 Q2194.27 226.629 2191.31 230.379 Q2188.37 234.129 2183.65 234.129 Q2180.8 234.129 2178.74 233.018 Q2176.71 231.883 2175.36 229.569 L2175.36 233.458 L2171.08 233.458 L2171.08 197.439 L2175.36 197.439 L2175.36 211.467 Z\\\" fill=\\\"#000000\\\" fill-rule=\\\"evenodd\\\" fill-opacity=\\\"1\\\" \\/><path clip-path=\\\"url(#clip990)\\\" d=\\\"M 0 0 M2198.74 207.532 L2203 207.532 L2203 233.458 L2198.74 233.458 L2198.74 207.532 M2198.74 197.439 L2203 197.439 L2203 202.833 L2198.74 202.833 L2198.74 197.439 Z\\\" fill=\\\"#000000\\\" fill-rule=\\\"evenodd\\\" fill-opacity=\\\"1\\\" \\/><path clip-path=\\\"url(#clip990)\\\" d=\\\"M 0 0 M2229.65 219.43 L2229.65 221.513 L2210.06 221.513 Q2210.34 225.911 2212.7 228.226 Q2215.08 230.518 2219.32 230.518 Q2221.77 230.518 2224.07 229.916 Q2226.38 229.314 2228.65 228.11 L2228.65 232.138 Q2226.36 233.11 2223.95 233.62 Q2221.54 234.129 2219.07 234.129 Q2212.86 234.129 2209.23 230.518 Q2205.62 226.907 2205.62 220.749 Q2205.62 214.384 2209.04 210.657 Q2212.49 206.907 2218.33 206.907 Q2223.56 206.907 2226.59 210.286 Q2229.65 213.643 2229.65 219.43 M2225.39 218.18 Q2225.34 214.685 2223.42 212.601 Q2221.52 210.518 2218.37 210.518 Q2214.81 210.518 2212.65 212.532 Q2210.52 214.546 2210.2 218.203 L2225.39 218.18 Z\\\" fill=\\\"#000000\\\" fill-rule=\\\"evenodd\\\" fill-opacity=\\\"1\\\" \\/><\\/svg>\\n\"},\"nodeType\":\"DOM\",\"type\":\"node\",\"instanceArgs\":{\"namespace\":\"html\",\"tag\":\"div\"},\"children\":[]}]}}}},\"children\":[{\"props\":{},\"nodeType\":\"ObservableNode\",\"type\":\"node\",\"instanceArgs\":{\"id\":\"15979298871019739048\",\"name\":\"obs-node\"},\"children\":[]}]}]},\n            window,\n        );\n    } else {\n        document\n            .querySelector('[data-webio-mountpoint=\"5113176692174934776\"]')\n            .innerHTML = (\n                '<div style=\"padding: 1em; background-color: #f8d6da; border: 1px solid #f5c6cb\">' +\n                '<p><strong>WebIO not detected.</strong></p>' +\n                '<p>Please read ' +\n                '<a href=\"https://juliagizmos.github.io/WebIO.jl/latest/troubleshooting/not-detected/\" target=\"_blank\">the troubleshooting guide</a> ' +\n                'for more information on how to resolve this issue.</p>' +\n                '<p><a href=\"https://juliagizmos.github.io/WebIO.jl/latest/troubleshooting/not-detected/\" target=\"_blank\">https://juliagizmos.github.io/WebIO.jl/latest/troubleshooting/not-detected/</a></p>' +\n                '</div>'\n            );\n    }\n    </script>\n</div>\n"
     },
     "metadata": {},
     "execution_count": 42
    }
   ],
   "source": [
    "@manipulate for time = 2:1:100\n",
    "    plot(1:time, A[1:time, 1], label=\"gołębie\", color= :purple)\n",
    "    plot!(1:time, A[1:time, 2], label=\"jastrzębie\", color= :green)\n",
    "end"
   ]
  },
  {
   "cell_type": "code",
   "execution_count": null,
   "metadata": {},
   "outputs": [],
   "source": []
  }
 ],
 "metadata": {
  "kernelspec": {
   "name": "julia-1.5",
   "display_name": "Julia 1.5.3",
   "language": "julia"
  },
  "language_info": {
   "file_extension": ".jl",
   "mimetype": "application/julia",
   "name": "julia",
   "version": "3.7.0"
  }
 },
 "nbformat": 4,
 "nbformat_minor": 4
}