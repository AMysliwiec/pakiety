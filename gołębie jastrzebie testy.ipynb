{
 "cells": [
  {
   "cell_type": "code",
   "execution_count": 20,
   "metadata": {},
   "outputs": [],
   "source": [
    "using Plots"
   ]
  },
  {
   "cell_type": "code",
   "execution_count": 2,
   "metadata": {},
   "outputs": [
    {
     "name": "stderr",
     "output_type": "stream",
     "text": [
      "┌ Info: Precompiling WebIO [0f1e0344-ec1d-5b48-a673-e5cf874b6c29]\n",
      "└ @ Base loading.jl:1278\n"
     ]
    },
    {
     "data": {
      "text/html": [
       "<script>\n",
       "// Immediately-invoked-function-expression to avoid global variables.\n",
       "(function() {\n",
       "    var warning_div = document.getElementById(\"webio-warning-10650694900995930129\");\n",
       "    var hide = function () {\n",
       "        var script = document.getElementById(\"webio-setup-9970157513082946534\");\n",
       "        var parent = script && script.parentElement;\n",
       "        var grandparent = parent && parent.parentElement;\n",
       "        if (grandparent) {\n",
       "            grandparent.style.display = \"none\";\n",
       "        }\n",
       "        warning_div.style.display = \"none\";\n",
       "    };\n",
       "    if (typeof Jupyter !== \"undefined\") {\n",
       "        console.log(\"WebIO detected Jupyter notebook environment.\");\n",
       "        // Jupyter notebook.\n",
       "        var extensions = (\n",
       "            Jupyter\n",
       "            && Jupyter.notebook.config.data\n",
       "            && Jupyter.notebook.config.data.load_extensions\n",
       "        );\n",
       "        if (extensions && extensions[\"webio-jupyter-notebook\"]) {\n",
       "            // Extension already loaded.\n",
       "            console.log(\"Jupyter WebIO nbextension detected; not loading ad-hoc.\");\n",
       "            hide();\n",
       "            return;\n",
       "        }\n",
       "    } else if (window.location.pathname.includes(\"/lab\")) {\n",
       "        // Guessing JupyterLa\n",
       "        console.log(\"Jupyter Lab detected; make sure the @webio/jupyter-lab-provider labextension is installed.\");\n",
       "        hide();\n",
       "        return;\n",
       "    }\n",
       "})();\n",
       "\n",
       "</script>\n",
       "<p\n",
       "    id=\"webio-warning-10650694900995930129\"\n",
       "    class=\"output_text output_stderr\"\n",
       "    style=\"padding: 1em; font-weight: bold;\"\n",
       ">\n",
       "    Unable to load WebIO. Please make sure WebIO works for your Jupyter client.\n",
       "    For troubleshooting, please see <a href=\"https://juliagizmos.github.io/WebIO.jl/latest/providers/ijulia/\">\n",
       "    the WebIO/IJulia documentation</a>.\n",
       "    <!-- TODO: link to installation docs. -->\n",
       "</p>\n"
      ],
      "text/plain": [
       "HTML{String}(\"<script>\\n// Immediately-invoked-function-expression to avoid global variables.\\n(function() {\\n    var warning_div = document.getElementById(\\\"webio-warning-10650694900995930129\\\");\\n    var hide = function () {\\n        var script = document.getElementById(\\\"webio-setup-9970157513082946534\\\");\\n        var parent = script && script.parentElement;\\n        var grandparent = parent && parent.parentElement;\\n        if (grandparent) {\\n            grandparent.style.display = \\\"none\\\";\\n        }\\n        warning_div.style.display = \\\"none\\\";\\n    };\\n    if (typeof Jupyter !== \\\"undefined\\\") {\\n        console.log(\\\"WebIO detected Jupyter notebook environment.\\\");\\n        // Jupyter notebook.\\n        var extensions = (\\n            Jupyter\\n            && Jupyter.notebook.config.data\\n            && Jupyter.notebook.config.data.load_extensions\\n        );\\n        if (extensions && extensions[\\\"webio-jupyter-notebook\\\"]) {\\n            // Extension already loaded.\\n            console.log(\\\"Jupyter WebIO nbextension detected; not loading ad-hoc.\\\");\\n            hide();\\n            return;\\n        }\\n    } else if (window.location.pathname.includes(\\\"/lab\\\")) {\\n        // Guessing JupyterLa\\n        console.log(\\\"Jupyter Lab detected; make sure the @webio/jupyter-lab-provider labextension is installed.\\\");\\n        hide();\\n        return;\\n    }\\n})();\\n\\n</script>\\n<p\\n    id=\\\"webio-warning-10650694900995930129\\\"\\n    class=\\\"output_text output_stderr\\\"\\n    style=\\\"padding: 1em; font-weight: bold;\\\"\\n>\\n    Unable to load WebIO. Please make sure WebIO works for your Jupyter client.\\n    For troubleshooting, please see <a href=\\\"https://juliagizmos.github.io/WebIO.jl/latest/providers/ijulia/\\\">\\n    the WebIO/IJulia documentation</a>.\\n    <!-- TODO: link to installation docs. -->\\n</p>\\n\")"
      ]
     },
     "metadata": {},
     "output_type": "display_data"
    }
   ],
   "source": [
    "using WebIO\n"
   ]
  },
  {
   "cell_type": "code",
   "execution_count": 19,
   "metadata": {},
   "outputs": [],
   "source": [
    "import Random"
   ]
  },
  {
   "cell_type": "markdown",
   "metadata": {},
   "source": [
    "### funkcja generująca środowisko z pakietami żywnościowymi"
   ]
  },
  {
   "cell_type": "code",
   "execution_count": 19,
   "metadata": {},
   "outputs": [
    {
     "data": {
      "text/plain": [
       "environment (generic function with 1 method)"
      ]
     },
     "execution_count": 19,
     "metadata": {},
     "output_type": "execute_result"
    }
   ],
   "source": [
    "function environment(n,m)\n",
    "    Environment = zeros(Int64, n, m)\n",
    "    for i in 2:3:n\n",
    "        Environment[i,:] = ones(Int64, 1, m)\n",
    "    end\n",
    "    return Environment\n",
    "end"
   ]
  },
  {
   "cell_type": "code",
   "execution_count": 20,
   "metadata": {},
   "outputs": [
    {
     "data": {
      "text/plain": [
       "20×20 Array{Int64,2}:\n",
       " 0  0  0  0  0  0  0  0  0  0  0  0  0  0  0  0  0  0  0  0\n",
       " 1  1  1  1  1  1  1  1  1  1  1  1  1  1  1  1  1  1  1  1\n",
       " 0  0  0  0  0  0  0  0  0  0  0  0  0  0  0  0  0  0  0  0\n",
       " 0  0  0  0  0  0  0  0  0  0  0  0  0  0  0  0  0  0  0  0\n",
       " 1  1  1  1  1  1  1  1  1  1  1  1  1  1  1  1  1  1  1  1\n",
       " 0  0  0  0  0  0  0  0  0  0  0  0  0  0  0  0  0  0  0  0\n",
       " 0  0  0  0  0  0  0  0  0  0  0  0  0  0  0  0  0  0  0  0\n",
       " 1  1  1  1  1  1  1  1  1  1  1  1  1  1  1  1  1  1  1  1\n",
       " 0  0  0  0  0  0  0  0  0  0  0  0  0  0  0  0  0  0  0  0\n",
       " 0  0  0  0  0  0  0  0  0  0  0  0  0  0  0  0  0  0  0  0\n",
       " 1  1  1  1  1  1  1  1  1  1  1  1  1  1  1  1  1  1  1  1\n",
       " 0  0  0  0  0  0  0  0  0  0  0  0  0  0  0  0  0  0  0  0\n",
       " 0  0  0  0  0  0  0  0  0  0  0  0  0  0  0  0  0  0  0  0\n",
       " 1  1  1  1  1  1  1  1  1  1  1  1  1  1  1  1  1  1  1  1\n",
       " 0  0  0  0  0  0  0  0  0  0  0  0  0  0  0  0  0  0  0  0\n",
       " 0  0  0  0  0  0  0  0  0  0  0  0  0  0  0  0  0  0  0  0\n",
       " 1  1  1  1  1  1  1  1  1  1  1  1  1  1  1  1  1  1  1  1\n",
       " 0  0  0  0  0  0  0  0  0  0  0  0  0  0  0  0  0  0  0  0\n",
       " 0  0  0  0  0  0  0  0  0  0  0  0  0  0  0  0  0  0  0  0\n",
       " 1  1  1  1  1  1  1  1  1  1  1  1  1  1  1  1  1  1  1  1"
      ]
     },
     "execution_count": 20,
     "metadata": {},
     "output_type": "execute_result"
    }
   ],
   "source": [
    "environment(20,20)"
   ]
  },
  {
   "cell_type": "markdown",
   "metadata": {},
   "source": [
    "### funkcja determinująca przeżycie gołębia w trakcie ucieczki od jastrzębia (50% prawdopodobieństwa)"
   ]
  },
  {
   "cell_type": "code",
   "execution_count": 21,
   "metadata": {},
   "outputs": [
    {
     "data": {
      "text/plain": [
       "golab_jastrzab (generic function with 1 method)"
      ]
     },
     "execution_count": 21,
     "metadata": {},
     "output_type": "execute_result"
    }
   ],
   "source": [
    "function golab_jastrzab(n_gol)\n",
    "    if rand(0:1) == 0\n",
    "        n_gol = n_gol - 1\n",
    "    end\n",
    "    return n_gol\n",
    "end"
   ]
  },
  {
   "cell_type": "markdown",
   "metadata": {},
   "source": [
    "### funkcja determinująca stan populacji po wylosowaniu miejsc przy pakietach żywnościowych"
   ]
  },
  {
   "cell_type": "code",
   "execution_count": 22,
   "metadata": {},
   "outputs": [
    {
     "data": {
      "text/plain": [
       "potyczki (generic function with 1 method)"
      ]
     },
     "execution_count": 22,
     "metadata": {},
     "output_type": "execute_result"
    }
   ],
   "source": [
    "#G-3\n",
    "#J-8\n",
    "function potyczki(n,m,macierz, g, ja)\n",
    "    for i in 2:3:n, j in 1:m    \n",
    "        suma = macierz[i-1,j] + macierz[i+1,j]\n",
    "        if suma == 11\n",
    "            g = golab_jastrzab(g)\n",
    "            ja = ja + 1\n",
    "        elseif suma == 6\n",
    "            g = g\n",
    "        elseif suma == 16 \n",
    "            ja = ja - 2\n",
    "        elseif suma == 3\n",
    "            g += 2\n",
    "        elseif suma == 8\n",
    "            j += 2\n",
    "        end \n",
    "    return g,ja\n",
    "    end\n",
    "end"
   ]
  },
  {
   "cell_type": "code",
   "execution_count": 23,
   "metadata": {},
   "outputs": [
    {
     "data": {
      "text/plain": [
       "6×4 Array{Int64,2}:\n",
       " 3  3  8  8\n",
       " 1  1  1  1\n",
       " 3  3  3  8\n",
       " 3  8  8  8\n",
       " 1  1  1  1\n",
       " 3  8  3  8"
      ]
     },
     "execution_count": 23,
     "metadata": {},
     "output_type": "execute_result"
    }
   ],
   "source": [
    "A = [3 3 8 8; 1 1 1 1; 3 3 3 8;\n",
    "3 8 8 8; 1 1 1 1; 3 8 3 8]\n"
   ]
  },
  {
   "cell_type": "code",
   "execution_count": 24,
   "metadata": {},
   "outputs": [
    {
     "data": {
      "text/plain": [
       "(8, 8)"
      ]
     },
     "execution_count": 24,
     "metadata": {},
     "output_type": "execute_result"
    }
   ],
   "source": [
    "potyczki(6,4,A,8,8)\n"
   ]
  },
  {
   "cell_type": "code",
   "execution_count": 25,
   "metadata": {},
   "outputs": [
    {
     "data": {
      "text/plain": [
       "6×5 Array{Int64,2}:\n",
       " 8  8  8  8  3\n",
       " 1  1  1  1  1\n",
       " 3  3  0  8  3\n",
       " 3  3  3  8  8\n",
       " 1  1  1  1  1\n",
       " 8  8  0  3  3"
      ]
     },
     "execution_count": 25,
     "metadata": {},
     "output_type": "execute_result"
    }
   ],
   "source": [
    "B = [8 8 8 8 3;\n",
    "1 1 1 1 1;\n",
    "3 3 0 8 3;\n",
    "3 3 3 8 8;\n",
    "1 1 1 1 1;\n",
    "8 8 0 3 3\n",
    "]\n",
    "#g = 10\n",
    "#j = 11"
   ]
  },
  {
   "cell_type": "code",
   "execution_count": 26,
   "metadata": {},
   "outputs": [
    {
     "data": {
      "text/plain": [
       "(8, 11)"
      ]
     },
     "execution_count": 26,
     "metadata": {},
     "output_type": "execute_result"
    }
   ],
   "source": [
    "potyczki(6,4,B,9,10)"
   ]
  },
  {
   "cell_type": "markdown",
   "metadata": {},
   "source": [
    "### funkcja generująca rozstawienie ptaków w środowisku"
   ]
  },
  {
   "cell_type": "code",
   "execution_count": 27,
   "metadata": {},
   "outputs": [
    {
     "data": {
      "text/plain": [
       "jastrzabki (generic function with 1 method)"
      ]
     },
     "execution_count": 27,
     "metadata": {},
     "output_type": "execute_result"
    }
   ],
   "source": [
    "function golabki(macierz, ngol)\n",
    "    if ngol != 0  \n",
    "        for i in 1:1:ngol\n",
    "            z = findall(x -> x ==0, macierz)\n",
    "            macierz[rand(z)] = 3\n",
    "        end\n",
    "    end\n",
    "end\n",
    "function jastrzabki(macierz, njas)\n",
    "    if njas != 0\n",
    "        for i in 1:1:njas\n",
    "            z = findall(x -> x ==0, macierz)\n",
    "            macierz[rand(z)] = 8\n",
    "        end\n",
    "    end\n",
    "end"
   ]
  },
  {
   "cell_type": "code",
   "execution_count": 28,
   "metadata": {},
   "outputs": [],
   "source": [
    "mac = environment(21,21)\n",
    "golabki(mac, 100)\n",
    "jastrzabki(mac, 100)"
   ]
  },
  {
   "cell_type": "code",
   "execution_count": 29,
   "metadata": {},
   "outputs": [
    {
     "data": {
      "text/plain": [
       "6×6 Array{Int64,2}:\n",
       " 3  3  3  8  8  8\n",
       " 1  1  1  1  1  1\n",
       " 8  8  8  3  3  8\n",
       " 8  3  3  3  3  8\n",
       " 1  1  1  1  1  1\n",
       " 3  3  3  8  3  3"
      ]
     },
     "execution_count": 29,
     "metadata": {},
     "output_type": "execute_result"
    }
   ],
   "source": [
    "test = environment(6,6)\n",
    "golabki(test, 14)\n",
    "jastrzabki(test, 10)\n",
    "test"
   ]
  },
  {
   "cell_type": "code",
   "execution_count": 30,
   "metadata": {},
   "outputs": [
    {
     "data": {
      "text/plain": [
       "21×21 Array{Int64,2}:\n",
       " 0  0  8  8  3  3  0  3  0  0  3  3  8  8  3  8  8  0  8  0  3\n",
       " 1  1  1  1  1  1  1  1  1  1  1  1  1  1  1  1  1  1  1  1  1\n",
       " 0  3  0  0  3  0  3  3  3  0  3  3  3  8  3  0  8  0  0  8  0\n",
       " 3  3  0  0  8  3  8  0  8  3  8  0  8  3  8  8  8  3  3  8  3\n",
       " 1  1  1  1  1  1  1  1  1  1  1  1  1  1  1  1  1  1  1  1  1\n",
       " 3  8  8  0  0  8  0  3  3  8  8  3  8  8  8  0  3  3  0  3  3\n",
       " 0  3  3  0  3  3  0  3  8  3  3  8  0  3  3  8  3  8  8  0  3\n",
       " 1  1  1  1  1  1  1  1  1  1  1  1  1  1  1  1  1  1  1  1  1\n",
       " 8  0  8  3  8  0  0  3  8  8  8  8  0  8  3  0  8  3  3  3  0\n",
       " 3  0  3  8  3  3  0  0  0  3  3  0  8  0  0  0  3  0  0  8  0\n",
       " 1  1  1  1  1  1  1  1  1  1  1  1  1  1  1  1  1  1  1  1  1\n",
       " 3  0  3  8  3  8  8  0  0  8  8  0  0  3  3  3  8  8  3  3  0\n",
       " 3  0  3  8  0  8  3  3  3  0  0  8  0  3  0  3  3  0  8  3  0\n",
       " 1  1  1  1  1  1  1  1  1  1  1  1  1  1  1  1  1  1  1  1  1\n",
       " 0  0  3  0  8  0  3  8  0  0  0  8  0  3  0  8  3  0  3  3  8\n",
       " 3  8  0  0  3  8  8  8  8  8  0  3  8  8  8  0  8  3  8  8  0\n",
       " 1  1  1  1  1  1  1  1  1  1  1  1  1  1  1  1  1  1  1  1  1\n",
       " 8  3  8  3  0  0  0  8  8  0  3  8  8  0  3  8  3  8  8  3  8\n",
       " 3  3  3  8  3  0  8  3  8  8  8  8  3  8  0  3  8  8  8  0  3\n",
       " 1  1  1  1  1  1  1  1  1  1  1  1  1  1  1  1  1  1  1  1  1\n",
       " 8  0  0  0  8  3  8  0  8  3  0  3  8  0  8  0  0  8  8  0  0"
      ]
     },
     "execution_count": 30,
     "metadata": {},
     "output_type": "execute_result"
    }
   ],
   "source": [
    "mac"
   ]
  },
  {
   "cell_type": "code",
   "execution_count": 31,
   "metadata": {},
   "outputs": [
    {
     "data": {
      "text/plain": [
       "(100, 100)"
      ]
     },
     "execution_count": 31,
     "metadata": {},
     "output_type": "execute_result"
    }
   ],
   "source": [
    "potyczki(21,21,mac,100,100)"
   ]
  },
  {
   "cell_type": "code",
   "execution_count": 32,
   "metadata": {},
   "outputs": [],
   "source": [
    "mac = environment(18,18)\n",
    "golabki(mac, 70)\n",
    "jastrzabki(mac, 90)"
   ]
  },
  {
   "cell_type": "code",
   "execution_count": 33,
   "metadata": {},
   "outputs": [
    {
     "data": {
      "text/plain": [
       "18×18 Array{Int64,2}:\n",
       " 0  3  8  0  0  8  3  0  8  8  3  8  8  8  8  3  3  8\n",
       " 1  1  1  1  1  1  1  1  1  1  1  1  1  1  1  1  1  1\n",
       " 8  3  8  3  0  8  3  3  0  3  3  0  0  8  8  0  8  8\n",
       " 8  0  3  8  3  3  0  8  0  8  8  3  8  0  8  8  3  0\n",
       " 1  1  1  1  1  1  1  1  1  1  1  1  1  1  1  1  1  1\n",
       " 3  8  8  0  3  3  8  8  8  8  8  0  3  3  0  0  3  3\n",
       " 8  0  3  3  3  8  3  0  3  0  0  8  8  8  0  8  8  0\n",
       " 1  1  1  1  1  1  1  1  1  1  1  1  1  1  1  1  1  1\n",
       " 3  0  3  0  8  3  8  8  3  3  0  8  0  0  8  8  8  3\n",
       " 8  8  0  3  0  3  8  0  3  8  0  8  0  0  8  8  0  3\n",
       " 1  1  1  1  1  1  1  1  1  1  1  1  1  1  1  1  1  1\n",
       " 8  3  8  8  8  8  0  3  8  8  8  0  8  8  8  0  3  0\n",
       " 8  0  3  3  0  3  3  3  8  3  8  3  3  8  8  8  0  8\n",
       " 1  1  1  1  1  1  1  1  1  1  1  1  1  1  1  1  1  1\n",
       " 3  8  8  3  3  8  8  0  0  8  3  8  8  0  8  0  3  3\n",
       " 8  3  8  8  0  8  3  8  3  0  3  3  0  8  3  0  8  3\n",
       " 1  1  1  1  1  1  1  1  1  1  1  1  1  1  1  1  1  1\n",
       " 3  8  0  0  8  3  8  0  3  0  3  3  3  8  3  8  0  3"
      ]
     },
     "execution_count": 33,
     "metadata": {},
     "output_type": "execute_result"
    }
   ],
   "source": [
    "mac"
   ]
  },
  {
   "cell_type": "code",
   "execution_count": 34,
   "metadata": {
    "scrolled": true
   },
   "outputs": [
    {
     "data": {
      "text/plain": [
       "(70, 90)"
      ]
     },
     "execution_count": 34,
     "metadata": {},
     "output_type": "execute_result"
    }
   ],
   "source": [
    "potyczki(18,18,mac,70,90)"
   ]
  },
  {
   "cell_type": "markdown",
   "metadata": {},
   "source": [
    "### funkcja sprawdzająca nadmiar populacji i ilość ptaków wysłaną na wygnanie/ fight club"
   ]
  },
  {
   "cell_type": "markdown",
   "metadata": {},
   "source": [
    "funkcja/wątek do rozwinięcia"
   ]
  },
  {
   "cell_type": "code",
   "execution_count": 35,
   "metadata": {},
   "outputs": [
    {
     "data": {
      "text/plain": [
       "check (generic function with 1 method)"
      ]
     },
     "execution_count": 35,
     "metadata": {},
     "output_type": "execute_result"
    }
   ],
   "source": [
    "function check(n,m,ng, nja)\n",
    "    if ng + nja > 2*n*m/3\n",
    "        env_ng = Int64(round(ng/(ng+nja) * 2*n*m/3))\n",
    "        env_ja = Int64(round(nja/(ng+nja) * 2*n*m/3))\n",
    "        fight_g = ng - env_ng\n",
    "        fight_ja = nja - env_ja\n",
    "        ng = env_ng\n",
    "        nja = env_ja\n",
    "        return ng, nja, fight_g, fight_ja\n",
    "    else\n",
    "        fight_g = 0\n",
    "        fight_ja = 0\n",
    "        return ng, nja, fight_g, fight_ja\n",
    "    end\n",
    "end\n"
   ]
  },
  {
   "cell_type": "code",
   "execution_count": 36,
   "metadata": {},
   "outputs": [
    {
     "data": {
      "text/plain": [
       "(29, 25, 6, 5)"
      ]
     },
     "execution_count": 36,
     "metadata": {},
     "output_type": "execute_result"
    }
   ],
   "source": [
    "check(9,9, 35,30)\n"
   ]
  },
  {
   "cell_type": "code",
   "execution_count": 37,
   "metadata": {},
   "outputs": [
    {
     "name": "stdout",
     "output_type": "stream",
     "text": [
      "(25, 29, 25, 31)"
     ]
    }
   ],
   "source": [
    "print(check(9,9,50,60))\n"
   ]
  },
  {
   "cell_type": "code",
   "execution_count": 38,
   "metadata": {},
   "outputs": [
    {
     "data": {
      "text/plain": [
       "fight_club (generic function with 1 method)"
      ]
     },
     "execution_count": 38,
     "metadata": {},
     "output_type": "execute_result"
    }
   ],
   "source": [
    "function fight_club(n_gol, n_jas)\n",
    "    if (n_gol+n_jas)%2 == 0\n",
    "        n = Int64((n_gol + n_jas)/2)\n",
    "        M = zeros(Int64, 2, n)\n",
    "        if n_gol != 0\n",
    "            golabki(M,n_gol)\n",
    "        end\n",
    "        if n_jas!=0\n",
    "            jastrzabki(M,n_jas)\n",
    "        end\n",
    "    else\n",
    "        n = Int64((n_gol + n_jas + 1)/2) \n",
    "        M = zeros(Int64, 2, n)\n",
    "        if n_gol != 0\n",
    "            golabki(M,n_gol)\n",
    "        end\n",
    "        if n_jas!=0\n",
    "            jastrzabki(M,n_jas)\n",
    "        end\n",
    "    end\n",
    "    return M\n",
    "end\n",
    "        "
   ]
  },
  {
   "cell_type": "code",
   "execution_count": 39,
   "metadata": {},
   "outputs": [
    {
     "data": {
      "text/plain": [
       "2×3 Array{Int64,2}:\n",
       " 3  8  8\n",
       " 3  3  8"
      ]
     },
     "execution_count": 39,
     "metadata": {},
     "output_type": "execute_result"
    }
   ],
   "source": [
    "fight_club(3,3)"
   ]
  },
  {
   "cell_type": "code",
   "execution_count": 40,
   "metadata": {},
   "outputs": [
    {
     "data": {
      "text/plain": [
       "fight (generic function with 1 method)"
      ]
     },
     "execution_count": 40,
     "metadata": {},
     "output_type": "execute_result"
    }
   ],
   "source": [
    "\n",
    "function fight(macierz, n_gol, n_jas)\n",
    "    for i in 1:size(macierz)[2]\n",
    "        suma = macierz[1,i] + macierz[2,i]\n",
    "        if suma == 6\n",
    "            n_gol -= 1\n",
    "        elseif suma == 16\n",
    "            n_jas -= 1\n",
    "        elseif suma == 11\n",
    "            if rand(0:1) == 0\n",
    "                n_gol -= 1\n",
    "            else\n",
    "                n_jas -= 1\n",
    "            end\n",
    "        end\n",
    "    end\n",
    "    return n_gol, n_jas\n",
    "end"
   ]
  },
  {
   "cell_type": "code",
   "execution_count": 41,
   "metadata": {},
   "outputs": [
    {
     "data": {
      "text/plain": [
       "(2, 1)"
      ]
     },
     "execution_count": 41,
     "metadata": {},
     "output_type": "execute_result"
    }
   ],
   "source": [
    "fight(fight_club(3,3), 3, 3)"
   ]
  },
  {
   "cell_type": "markdown",
   "metadata": {},
   "source": [
    "### Generowanie środowiska z mniejszą ilością pakietów (na wypadek przykładowej suszy/ pożaru)\n"
   ]
  },
  {
   "cell_type": "code",
   "execution_count": 42,
   "metadata": {},
   "outputs": [
    {
     "data": {
      "text/plain": [
       "environment_food_amount (generic function with 4 methods)"
      ]
     },
     "execution_count": 42,
     "metadata": {},
     "output_type": "execute_result"
    }
   ],
   "source": [
    "function environment_food_amount(size1 = 21, size2 = 21, amount = 100)\n",
    "#ilość wieszy musi być podzielna przez 3\n",
    "    if size1 % 3 != 0\n",
    "        throw(DomainError(size, \"incorrect size\"))\n",
    "    end\n",
    "    Environment = zeros(Int64, size1, size2)\n",
    "    A = zeros(Int64, 1, size2*(fld(size1-2,3)+1))\n",
    "    A[1,1:amount] = ones(Int64, 1, amount)\n",
    "    A = Random.shuffle(A)\n",
    "    k = 1\n",
    "    for i in 2:3:size1\n",
    "        Environment[i,:] = A[1, k:(k+size1-1)]\n",
    "        k += size1\n",
    "    end\n",
    "    return Environment\n",
    "end"
   ]
  },
  {
   "cell_type": "code",
   "execution_count": null,
   "metadata": {},
   "outputs": [],
   "source": []
  },
  {
   "cell_type": "code",
   "execution_count": null,
   "metadata": {},
   "outputs": [],
   "source": []
  },
  {
   "cell_type": "code",
   "execution_count": null,
   "metadata": {},
   "outputs": [],
   "source": []
  },
  {
   "cell_type": "code",
   "execution_count": 43,
   "metadata": {},
   "outputs": [
    {
     "data": {
      "text/plain": [
       "action (generic function with 2 methods)"
      ]
     },
     "execution_count": 43,
     "metadata": {},
     "output_type": "execute_result"
    }
   ],
   "source": [
    "function action(n, m, n_gol, n_jas, p, A, index = 1)\n",
    "    \n",
    "    if p == 0\n",
    "        return A\n",
    "    end\n",
    "    \n",
    "    srod = environment(n,m) ##mamy pakiety\n",
    "    \n",
    "    a = check(n, m, n_gol, n_jas) #sprawdzamy czy nie ma za dużo ptaszków, zwraca jako (gol_safe, jas_safe, gol_fight, jas_fight)\n",
    "    n_gol = a[1]\n",
    "    n_jas = a[2]\n",
    "\n",
    "    golabki(srod, n_gol)\n",
    "    jastrzabki(srod, n_jas)  ##mamy srodowisko z ptaszkami\n",
    "    \n",
    "    result = potyczki(n,m,srod, n_gol, n_jas) ##mamy stan populacji po potyczkach\n",
    "    n_gol = result[1] ##liczba gołębi\n",
    "    n_jas = result[2]\n",
    "    \n",
    "    ##w miedzyczasie fight club :\n",
    "    \n",
    "    \n",
    "    b = fight(fight_club(a[3],a[4]), a[3], a[4]) #populacja po fight clubie - (gol, jas)\n",
    "    \n",
    "    n_gol += b[1] ##ostateczna ilosc golebi - ta bezpieczna + fight club\n",
    "    n_jas += b[2] ## -||- jastrzebi\n",
    "    gol_fight = b[1] ##ilość ptakow po fightcie, może się przyda c:\n",
    "    jas_fight = b[2]\n",
    "    \n",
    "    A[index, 1] = n_gol\n",
    "    A[index, 2] = n_jas\n",
    "    index += 1\n",
    "    #println(n_gol,\",\", n_jas,\",\", gol_fight, \",\",jas_fight)\n",
    "    \n",
    "    action(n, m, n_gol, n_jas, p-1, A, index) #i lecimy rekurencją\n",
    "end"
   ]
  },
  {
   "cell_type": "code",
   "execution_count": 49,
   "metadata": {},
   "outputs": [
    {
     "data": {
      "text/plain": [
       "100×2 Array{Int64,2}:\n",
       " 28  29\n",
       " 27  29\n",
       " 25  30\n",
       " 25  30\n",
       " 25  28\n",
       " 25  28\n",
       " 24  29\n",
       " 24  29\n",
       " 24  29\n",
       " 24  27\n",
       " 23  28\n",
       " 23  28\n",
       " 23  28\n",
       "  ⋮  \n",
       " 25  26\n",
       " 25  24\n",
       " 25  22\n",
       " 25  23\n",
       " 25  23\n",
       " 24  24\n",
       " 24  22\n",
       " 24  20\n",
       " 24  18\n",
       " 24  18\n",
       " 24  19\n",
       " 24  19"
      ]
     },
     "execution_count": 49,
     "metadata": {},
     "output_type": "execute_result"
    }
   ],
   "source": [
    "A = action(9,9,30,30, 100, zeros(Int64, 100, 2))"
   ]
  },
  {
   "cell_type": "code",
   "execution_count": 50,
   "metadata": {},
   "outputs": [
    {
     "data": {
      "image/svg+xml": [
       "<?xml version=\"1.0\" encoding=\"utf-8\"?>\n",
       "<svg xmlns=\"http://www.w3.org/2000/svg\" xmlns:xlink=\"http://www.w3.org/1999/xlink\" width=\"600\" height=\"400\" viewBox=\"0 0 2400 1600\">\n",
       "<defs>\n",
       "  <clipPath id=\"clip750\">\n",
       "    <rect x=\"0\" y=\"0\" width=\"2400\" height=\"1600\"/>\n",
       "  </clipPath>\n",
       "</defs>\n",
       "<path clip-path=\"url(#clip750)\" d=\"\n",
       "M0 1600 L2400 1600 L2400 0 L0 0  Z\n",
       "  \" fill=\"#ffffff\" fill-rule=\"evenodd\" fill-opacity=\"1\"/>\n",
       "<defs>\n",
       "  <clipPath id=\"clip751\">\n",
       "    <rect x=\"480\" y=\"0\" width=\"1681\" height=\"1600\"/>\n",
       "  </clipPath>\n",
       "</defs>\n",
       "<path clip-path=\"url(#clip750)\" d=\"\n",
       "M136.76 1486.45 L2352.76 1486.45 L2352.76 47.2441 L136.76 47.2441  Z\n",
       "  \" fill=\"#ffffff\" fill-rule=\"evenodd\" fill-opacity=\"1\"/>\n",
       "<defs>\n",
       "  <clipPath id=\"clip752\">\n",
       "    <rect x=\"136\" y=\"47\" width=\"2217\" height=\"1440\"/>\n",
       "  </clipPath>\n",
       "</defs>\n",
       "<polyline clip-path=\"url(#clip752)\" style=\"stroke:#000000; stroke-width:2; stroke-opacity:0.1; fill:none\" points=\"\n",
       "  178.36,1486.45 178.36,47.2441 \n",
       "  \"/>\n",
       "<polyline clip-path=\"url(#clip752)\" style=\"stroke:#000000; stroke-width:2; stroke-opacity:0.1; fill:none\" points=\"\n",
       "  706.28,1486.45 706.28,47.2441 \n",
       "  \"/>\n",
       "<polyline clip-path=\"url(#clip752)\" style=\"stroke:#000000; stroke-width:2; stroke-opacity:0.1; fill:none\" points=\"\n",
       "  1234.2,1486.45 1234.2,47.2441 \n",
       "  \"/>\n",
       "<polyline clip-path=\"url(#clip752)\" style=\"stroke:#000000; stroke-width:2; stroke-opacity:0.1; fill:none\" points=\"\n",
       "  1762.12,1486.45 1762.12,47.2441 \n",
       "  \"/>\n",
       "<polyline clip-path=\"url(#clip752)\" style=\"stroke:#000000; stroke-width:2; stroke-opacity:0.1; fill:none\" points=\"\n",
       "  2290.04,1486.45 2290.04,47.2441 \n",
       "  \"/>\n",
       "<polyline clip-path=\"url(#clip750)\" style=\"stroke:#000000; stroke-width:4; stroke-opacity:1; fill:none\" points=\"\n",
       "  136.76,1486.45 2352.76,1486.45 \n",
       "  \"/>\n",
       "<polyline clip-path=\"url(#clip750)\" style=\"stroke:#000000; stroke-width:4; stroke-opacity:1; fill:none\" points=\"\n",
       "  178.36,1486.45 178.36,1469.18 \n",
       "  \"/>\n",
       "<polyline clip-path=\"url(#clip750)\" style=\"stroke:#000000; stroke-width:4; stroke-opacity:1; fill:none\" points=\"\n",
       "  706.28,1486.45 706.28,1469.18 \n",
       "  \"/>\n",
       "<polyline clip-path=\"url(#clip750)\" style=\"stroke:#000000; stroke-width:4; stroke-opacity:1; fill:none\" points=\"\n",
       "  1234.2,1486.45 1234.2,1469.18 \n",
       "  \"/>\n",
       "<polyline clip-path=\"url(#clip750)\" style=\"stroke:#000000; stroke-width:4; stroke-opacity:1; fill:none\" points=\"\n",
       "  1762.12,1486.45 1762.12,1469.18 \n",
       "  \"/>\n",
       "<polyline clip-path=\"url(#clip750)\" style=\"stroke:#000000; stroke-width:4; stroke-opacity:1; fill:none\" points=\"\n",
       "  2290.04,1486.45 2290.04,1469.18 \n",
       "  \"/>\n",
       "<path clip-path=\"url(#clip750)\" d=\"M 0 0 M178.36 1515.64 Q174.749 1515.64 172.921 1519.2 Q171.115 1522.75 171.115 1529.87 Q171.115 1536.98 172.921 1540.55 Q174.749 1544.09 178.36 1544.09 Q181.995 1544.09 183.8 1540.55 Q185.629 1536.98 185.629 1529.87 Q185.629 1522.75 183.8 1519.2 Q181.995 1515.64 178.36 1515.64 M178.36 1511.93 Q184.171 1511.93 187.226 1516.54 Q190.305 1521.12 190.305 1529.87 Q190.305 1538.6 187.226 1543.21 Q184.171 1547.79 178.36 1547.79 Q172.55 1547.79 169.472 1543.21 Q166.416 1538.6 166.416 1529.87 Q166.416 1521.12 169.472 1516.54 Q172.55 1511.93 178.36 1511.93 Z\" fill=\"#000000\" fill-rule=\"evenodd\" fill-opacity=\"1\" /><path clip-path=\"url(#clip750)\" d=\"M 0 0 M687.924 1543.18 L704.243 1543.18 L704.243 1547.12 L682.299 1547.12 L682.299 1543.18 Q684.961 1540.43 689.544 1535.8 Q694.151 1531.15 695.331 1529.81 Q697.576 1527.28 698.456 1525.55 Q699.359 1523.79 699.359 1522.1 Q699.359 1519.34 697.414 1517.61 Q695.493 1515.87 692.391 1515.87 Q690.192 1515.87 687.739 1516.63 Q685.308 1517.4 682.53 1518.95 L682.53 1514.23 Q685.354 1513.09 687.808 1512.51 Q690.262 1511.93 692.299 1511.93 Q697.669 1511.93 700.863 1514.62 Q704.058 1517.31 704.058 1521.8 Q704.058 1523.93 703.248 1525.85 Q702.461 1527.74 700.354 1530.34 Q699.776 1531.01 696.674 1534.23 Q693.572 1537.42 687.924 1543.18 Z\" fill=\"#000000\" fill-rule=\"evenodd\" fill-opacity=\"1\" /><path clip-path=\"url(#clip750)\" d=\"M 0 0 M709.359 1512.56 L727.715 1512.56 L727.715 1516.5 L713.641 1516.5 L713.641 1524.97 Q714.66 1524.62 715.678 1524.46 Q716.697 1524.27 717.715 1524.27 Q723.502 1524.27 726.882 1527.44 Q730.261 1530.62 730.261 1536.03 Q730.261 1541.61 726.789 1544.71 Q723.317 1547.79 716.998 1547.79 Q714.822 1547.79 712.553 1547.42 Q710.308 1547.05 707.9 1546.31 L707.9 1541.61 Q709.984 1542.74 712.206 1543.3 Q714.428 1543.86 716.905 1543.86 Q720.91 1543.86 723.248 1541.75 Q725.586 1539.64 725.586 1536.03 Q725.586 1532.42 723.248 1530.31 Q720.91 1528.21 716.905 1528.21 Q715.03 1528.21 713.155 1528.62 Q711.303 1529.04 709.359 1529.92 L709.359 1512.56 Z\" fill=\"#000000\" fill-rule=\"evenodd\" fill-opacity=\"1\" /><path clip-path=\"url(#clip750)\" d=\"M 0 0 M1210.97 1512.56 L1229.33 1512.56 L1229.33 1516.5 L1215.25 1516.5 L1215.25 1524.97 Q1216.27 1524.62 1217.29 1524.46 Q1218.31 1524.27 1219.33 1524.27 Q1225.11 1524.27 1228.49 1527.44 Q1231.87 1530.62 1231.87 1536.03 Q1231.87 1541.61 1228.4 1544.71 Q1224.93 1547.79 1218.61 1547.79 Q1216.43 1547.79 1214.17 1547.42 Q1211.92 1547.05 1209.51 1546.31 L1209.51 1541.61 Q1211.6 1542.74 1213.82 1543.3 Q1216.04 1543.86 1218.52 1543.86 Q1222.52 1543.86 1224.86 1541.75 Q1227.2 1539.64 1227.2 1536.03 Q1227.2 1532.42 1224.86 1530.31 Q1222.52 1528.21 1218.52 1528.21 Q1216.64 1528.21 1214.77 1528.62 Q1212.92 1529.04 1210.97 1529.92 L1210.97 1512.56 Z\" fill=\"#000000\" fill-rule=\"evenodd\" fill-opacity=\"1\" /><path clip-path=\"url(#clip750)\" d=\"M 0 0 M1246.94 1515.64 Q1243.33 1515.64 1241.5 1519.2 Q1239.7 1522.75 1239.7 1529.87 Q1239.7 1536.98 1241.5 1540.55 Q1243.33 1544.09 1246.94 1544.09 Q1250.58 1544.09 1252.38 1540.55 Q1254.21 1536.98 1254.21 1529.87 Q1254.21 1522.75 1252.38 1519.2 Q1250.58 1515.64 1246.94 1515.64 M1246.94 1511.93 Q1252.75 1511.93 1255.81 1516.54 Q1258.89 1521.12 1258.89 1529.87 Q1258.89 1538.6 1255.81 1543.21 Q1252.75 1547.79 1246.94 1547.79 Q1241.13 1547.79 1238.05 1543.21 Q1235 1538.6 1235 1529.87 Q1235 1521.12 1238.05 1516.54 Q1241.13 1511.93 1246.94 1511.93 Z\" fill=\"#000000\" fill-rule=\"evenodd\" fill-opacity=\"1\" /><path clip-path=\"url(#clip750)\" d=\"M 0 0 M1738 1512.56 L1760.22 1512.56 L1760.22 1514.55 L1747.68 1547.12 L1742.79 1547.12 L1754.6 1516.5 L1738 1516.5 L1738 1512.56 Z\" fill=\"#000000\" fill-rule=\"evenodd\" fill-opacity=\"1\" /><path clip-path=\"url(#clip750)\" d=\"M 0 0 M1765.34 1512.56 L1783.69 1512.56 L1783.69 1516.5 L1769.62 1516.5 L1769.62 1524.97 Q1770.64 1524.62 1771.66 1524.46 Q1772.67 1524.27 1773.69 1524.27 Q1779.48 1524.27 1782.86 1527.44 Q1786.24 1530.62 1786.24 1536.03 Q1786.24 1541.61 1782.77 1544.71 Q1779.3 1547.79 1772.98 1547.79 Q1770.8 1547.79 1768.53 1547.42 Q1766.29 1547.05 1763.88 1546.31 L1763.88 1541.61 Q1765.96 1542.74 1768.18 1543.3 Q1770.41 1543.86 1772.88 1543.86 Q1776.89 1543.86 1779.23 1541.75 Q1781.56 1539.64 1781.56 1536.03 Q1781.56 1532.42 1779.23 1530.31 Q1776.89 1528.21 1772.88 1528.21 Q1771.01 1528.21 1769.13 1528.62 Q1767.28 1529.04 1765.34 1529.92 L1765.34 1512.56 Z\" fill=\"#000000\" fill-rule=\"evenodd\" fill-opacity=\"1\" /><path clip-path=\"url(#clip750)\" d=\"M 0 0 M2253.41 1543.18 L2261.05 1543.18 L2261.05 1516.82 L2252.74 1518.49 L2252.74 1514.23 L2261 1512.56 L2265.68 1512.56 L2265.68 1543.18 L2273.31 1543.18 L2273.31 1547.12 L2253.41 1547.12 L2253.41 1543.18 Z\" fill=\"#000000\" fill-rule=\"evenodd\" fill-opacity=\"1\" /><path clip-path=\"url(#clip750)\" d=\"M 0 0 M2288.38 1515.64 Q2284.77 1515.64 2282.94 1519.2 Q2281.14 1522.75 2281.14 1529.87 Q2281.14 1536.98 2282.94 1540.55 Q2284.77 1544.09 2288.38 1544.09 Q2292.02 1544.09 2293.82 1540.55 Q2295.65 1536.98 2295.65 1529.87 Q2295.65 1522.75 2293.82 1519.2 Q2292.02 1515.64 2288.38 1515.64 M2288.38 1511.93 Q2294.19 1511.93 2297.25 1516.54 Q2300.33 1521.12 2300.33 1529.87 Q2300.33 1538.6 2297.25 1543.21 Q2294.19 1547.79 2288.38 1547.79 Q2282.57 1547.79 2279.5 1543.21 Q2276.44 1538.6 2276.44 1529.87 Q2276.44 1521.12 2279.5 1516.54 Q2282.57 1511.93 2288.38 1511.93 Z\" fill=\"#000000\" fill-rule=\"evenodd\" fill-opacity=\"1\" /><path clip-path=\"url(#clip750)\" d=\"M 0 0 M2315.4 1515.64 Q2311.79 1515.64 2309.96 1519.2 Q2308.15 1522.75 2308.15 1529.87 Q2308.15 1536.98 2309.96 1540.55 Q2311.79 1544.09 2315.4 1544.09 Q2319.03 1544.09 2320.84 1540.55 Q2322.67 1536.98 2322.67 1529.87 Q2322.67 1522.75 2320.84 1519.2 Q2319.03 1515.64 2315.4 1515.64 M2315.4 1511.93 Q2321.21 1511.93 2324.26 1516.54 Q2327.34 1521.12 2327.34 1529.87 Q2327.34 1538.6 2324.26 1543.21 Q2321.21 1547.79 2315.4 1547.79 Q2309.59 1547.79 2306.51 1543.21 Q2303.45 1538.6 2303.45 1529.87 Q2303.45 1521.12 2306.51 1516.54 Q2309.59 1511.93 2315.4 1511.93 Z\" fill=\"#000000\" fill-rule=\"evenodd\" fill-opacity=\"1\" /><polyline clip-path=\"url(#clip752)\" style=\"stroke:#000000; stroke-width:2; stroke-opacity:0.1; fill:none\" points=\"\n",
       "  136.76,1264.68 2352.76,1264.68 \n",
       "  \"/>\n",
       "<polyline clip-path=\"url(#clip752)\" style=\"stroke:#000000; stroke-width:2; stroke-opacity:0.1; fill:none\" points=\"\n",
       "  136.76,993.136 2352.76,993.136 \n",
       "  \"/>\n",
       "<polyline clip-path=\"url(#clip752)\" style=\"stroke:#000000; stroke-width:2; stroke-opacity:0.1; fill:none\" points=\"\n",
       "  136.76,721.588 2352.76,721.588 \n",
       "  \"/>\n",
       "<polyline clip-path=\"url(#clip752)\" style=\"stroke:#000000; stroke-width:2; stroke-opacity:0.1; fill:none\" points=\"\n",
       "  136.76,450.04 2352.76,450.04 \n",
       "  \"/>\n",
       "<polyline clip-path=\"url(#clip752)\" style=\"stroke:#000000; stroke-width:2; stroke-opacity:0.1; fill:none\" points=\"\n",
       "  136.76,178.492 2352.76,178.492 \n",
       "  \"/>\n",
       "<polyline clip-path=\"url(#clip750)\" style=\"stroke:#000000; stroke-width:4; stroke-opacity:1; fill:none\" points=\"\n",
       "  136.76,1486.45 136.76,47.2441 \n",
       "  \"/>\n",
       "<polyline clip-path=\"url(#clip750)\" style=\"stroke:#000000; stroke-width:4; stroke-opacity:1; fill:none\" points=\"\n",
       "  136.76,1264.68 163.352,1264.68 \n",
       "  \"/>\n",
       "<polyline clip-path=\"url(#clip750)\" style=\"stroke:#000000; stroke-width:4; stroke-opacity:1; fill:none\" points=\"\n",
       "  136.76,993.136 163.352,993.136 \n",
       "  \"/>\n",
       "<polyline clip-path=\"url(#clip750)\" style=\"stroke:#000000; stroke-width:4; stroke-opacity:1; fill:none\" points=\"\n",
       "  136.76,721.588 163.352,721.588 \n",
       "  \"/>\n",
       "<polyline clip-path=\"url(#clip750)\" style=\"stroke:#000000; stroke-width:4; stroke-opacity:1; fill:none\" points=\"\n",
       "  136.76,450.04 163.352,450.04 \n",
       "  \"/>\n",
       "<polyline clip-path=\"url(#clip750)\" style=\"stroke:#000000; stroke-width:4; stroke-opacity:1; fill:none\" points=\"\n",
       "  136.76,178.492 163.352,178.492 \n",
       "  \"/>\n",
       "<path clip-path=\"url(#clip750)\" d=\"M 0 0 M53.9319 1278.03 L61.5708 1278.03 L61.5708 1251.66 L53.2606 1253.33 L53.2606 1249.07 L61.5245 1247.4 L66.2004 1247.4 L66.2004 1278.03 L73.8392 1278.03 L73.8392 1281.96 L53.9319 1281.96 L53.9319 1278.03 Z\" fill=\"#000000\" fill-rule=\"evenodd\" fill-opacity=\"1\" /><path clip-path=\"url(#clip750)\" d=\"M 0 0 M88.9086 1265.55 Q85.5753 1265.55 83.654 1267.33 Q81.7559 1269.12 81.7559 1272.24 Q81.7559 1275.37 83.654 1277.15 Q85.5753 1278.93 88.9086 1278.93 Q92.2419 1278.93 94.1632 1277.15 Q96.0845 1275.34 96.0845 1272.24 Q96.0845 1269.12 94.1632 1267.33 Q92.2651 1265.55 88.9086 1265.55 M84.2327 1263.56 Q81.2234 1262.82 79.5336 1260.76 Q77.867 1258.7 77.867 1255.74 Q77.867 1251.59 80.8068 1249.19 Q83.7697 1246.78 88.9086 1246.78 Q94.0706 1246.78 97.0104 1249.19 Q99.9502 1251.59 99.9502 1255.74 Q99.9502 1258.7 98.2604 1260.76 Q96.5937 1262.82 93.6076 1263.56 Q96.9872 1264.35 98.8622 1266.64 Q100.76 1268.93 100.76 1272.24 Q100.76 1277.26 97.6817 1279.95 Q94.6262 1282.64 88.9086 1282.64 Q83.191 1282.64 80.1123 1279.95 Q77.0568 1277.26 77.0568 1272.24 Q77.0568 1268.93 78.9549 1266.64 Q80.8531 1264.35 84.2327 1263.56 M82.5197 1256.18 Q82.5197 1258.86 84.1864 1260.37 Q85.8762 1261.87 88.9086 1261.87 Q91.9178 1261.87 93.6076 1260.37 Q95.3206 1258.86 95.3206 1256.18 Q95.3206 1253.49 93.6076 1251.99 Q91.9178 1250.48 88.9086 1250.48 Q85.8762 1250.48 84.1864 1251.99 Q82.5197 1253.49 82.5197 1256.18 Z\" fill=\"#000000\" fill-rule=\"evenodd\" fill-opacity=\"1\" /><path clip-path=\"url(#clip750)\" d=\"M 0 0 M58.6541 1006.48 L74.9735 1006.48 L74.9735 1010.42 L53.0292 1010.42 L53.0292 1006.48 Q55.6912 1003.73 60.2745 999.097 Q64.8809 994.444 66.0615 993.101 Q68.3068 990.578 69.1865 988.842 Q70.0892 987.083 70.0892 985.393 Q70.0892 982.638 68.1448 980.902 Q66.2235 979.166 63.1217 979.166 Q60.9226 979.166 58.4689 979.93 Q56.0384 980.694 53.2606 982.245 L53.2606 977.523 Q56.0847 976.388 58.5384 975.81 Q60.9921 975.231 63.0291 975.231 Q68.3994 975.231 71.5939 977.916 Q74.7883 980.601 74.7883 985.092 Q74.7883 987.222 73.9781 989.143 Q73.1911 991.041 71.0846 993.634 Q70.5059 994.305 67.4041 997.522 Q64.3022 1000.72 58.6541 1006.48 Z\" fill=\"#000000\" fill-rule=\"evenodd\" fill-opacity=\"1\" /><path clip-path=\"url(#clip750)\" d=\"M 0 0 M80.8531 1006.48 L88.4919 1006.48 L88.4919 980.115 L80.1818 981.782 L80.1818 977.523 L88.4456 975.856 L93.1215 975.856 L93.1215 1006.48 L100.76 1006.48 L100.76 1010.42 L80.8531 1010.42 L80.8531 1006.48 Z\" fill=\"#000000\" fill-rule=\"evenodd\" fill-opacity=\"1\" /><path clip-path=\"url(#clip750)\" d=\"M 0 0 M56.9412 734.933 L73.2605 734.933 L73.2605 738.868 L51.3162 738.868 L51.3162 734.933 Q53.9782 732.178 58.5615 727.549 Q63.168 722.896 64.3485 721.553 Q66.5939 719.03 67.4735 717.294 Q68.3763 715.535 68.3763 713.845 Q68.3763 711.09 66.4319 709.354 Q64.5106 707.618 61.4087 707.618 Q59.2097 707.618 56.756 708.382 Q54.3254 709.146 51.5477 710.697 L51.5477 705.975 Q54.3717 704.84 56.8254 704.262 Q59.2791 703.683 61.3161 703.683 Q66.6865 703.683 69.8809 706.368 Q73.0753 709.053 73.0753 713.544 Q73.0753 715.674 72.2652 717.595 Q71.4781 719.493 69.3717 722.086 Q68.793 722.757 65.6911 725.975 Q62.5893 729.169 56.9412 734.933 Z\" fill=\"#000000\" fill-rule=\"evenodd\" fill-opacity=\"1\" /><path clip-path=\"url(#clip750)\" d=\"M 0 0 M91.1771 708.382 L79.3716 726.831 L91.1771 726.831 L91.1771 708.382 M89.9503 704.308 L95.8298 704.308 L95.8298 726.831 L100.76 726.831 L100.76 730.72 L95.8298 730.72 L95.8298 738.868 L91.1771 738.868 L91.1771 730.72 L75.5753 730.72 L75.5753 726.206 L89.9503 704.308 Z\" fill=\"#000000\" fill-rule=\"evenodd\" fill-opacity=\"1\" /><path clip-path=\"url(#clip750)\" d=\"M 0 0 M58.33 463.385 L74.6494 463.385 L74.6494 467.32 L52.7051 467.32 L52.7051 463.385 Q55.3671 460.63 59.9504 456.001 Q64.5569 451.348 65.7374 450.005 Q67.9828 447.482 68.8624 445.746 Q69.7652 443.987 69.7652 442.297 Q69.7652 439.542 67.8207 437.806 Q65.8995 436.07 62.7976 436.07 Q60.5986 436.07 58.1449 436.834 Q55.7143 437.598 52.9366 439.149 L52.9366 434.427 Q55.7606 433.293 58.2143 432.714 Q60.668 432.135 62.705 432.135 Q68.0754 432.135 71.2698 434.82 Q74.4642 437.505 74.4642 441.996 Q74.4642 444.126 73.654 446.047 Q72.867 447.945 70.7605 450.538 Q70.1818 451.209 67.08 454.427 Q63.9782 457.621 58.33 463.385 Z\" fill=\"#000000\" fill-rule=\"evenodd\" fill-opacity=\"1\" /><path clip-path=\"url(#clip750)\" d=\"M 0 0 M78.5383 432.76 L100.76 432.76 L100.76 434.751 L88.2141 467.32 L83.3299 467.32 L95.1354 436.695 L78.5383 436.695 L78.5383 432.76 Z\" fill=\"#000000\" fill-rule=\"evenodd\" fill-opacity=\"1\" /><path clip-path=\"url(#clip750)\" d=\"M 0 0 M66.617 177.138 Q69.9735 177.856 71.8485 180.124 Q73.7466 182.393 73.7466 185.726 Q73.7466 190.842 70.2281 193.643 Q66.7096 196.444 60.2282 196.444 Q58.0523 196.444 55.7375 196.004 Q53.4458 195.587 50.9921 194.731 L50.9921 190.217 Q52.9366 191.351 55.2514 191.93 Q57.5662 192.508 60.0893 192.508 Q64.4874 192.508 66.7791 190.772 Q69.0939 189.036 69.0939 185.726 Q69.0939 182.67 66.9411 180.958 Q64.8115 179.221 60.9921 179.221 L56.9643 179.221 L56.9643 175.379 L61.1773 175.379 Q64.6263 175.379 66.455 174.013 Q68.2837 172.624 68.2837 170.032 Q68.2837 167.37 66.3856 165.958 Q64.5106 164.522 60.9921 164.522 Q59.0708 164.522 56.8717 164.939 Q54.6727 165.356 52.0338 166.235 L52.0338 162.069 Q54.6958 161.328 57.0106 160.958 Q59.3486 160.587 61.4087 160.587 Q66.7328 160.587 69.8346 163.018 Q72.9365 165.425 72.9365 169.546 Q72.9365 172.416 71.2929 174.407 Q69.6494 176.374 66.617 177.138 Z\" fill=\"#000000\" fill-rule=\"evenodd\" fill-opacity=\"1\" /><path clip-path=\"url(#clip750)\" d=\"M 0 0 M88.816 164.291 Q85.2049 164.291 83.3762 167.856 Q81.5707 171.397 81.5707 178.527 Q81.5707 185.633 83.3762 189.198 Q85.2049 192.74 88.816 192.74 Q92.4502 192.74 94.2558 189.198 Q96.0845 185.633 96.0845 178.527 Q96.0845 171.397 94.2558 167.856 Q92.4502 164.291 88.816 164.291 M88.816 160.587 Q94.6262 160.587 97.6817 165.194 Q100.76 169.777 100.76 178.527 Q100.76 187.254 97.6817 191.86 Q94.6262 196.444 88.816 196.444 Q83.0058 196.444 79.9272 191.86 Q76.8716 187.254 76.8716 178.527 Q76.8716 169.777 79.9272 165.194 Q83.0058 160.587 88.816 160.587 Z\" fill=\"#000000\" fill-rule=\"evenodd\" fill-opacity=\"1\" /><polyline clip-path=\"url(#clip752)\" style=\"stroke:#800080; stroke-width:4; stroke-opacity:1; fill:none\" points=\"\n",
       "  199.477,359.524 220.594,450.04 241.711,631.072 262.828,631.072 283.944,631.072 305.061,631.072 326.178,721.588 347.295,721.588 368.412,721.588 389.528,721.588 \n",
       "  410.645,812.104 431.762,812.104 452.879,812.104 473.995,812.104 495.112,812.104 516.229,812.104 537.346,812.104 558.463,902.62 579.579,902.62 600.696,902.62 \n",
       "  621.813,902.62 642.93,902.62 664.047,993.136 685.163,993.136 706.28,993.136 727.397,993.136 748.514,1083.65 769.63,1083.65 790.747,1083.65 811.864,902.62 \n",
       "  832.981,902.62 854.098,902.62 875.214,721.588 896.331,721.588 917.448,721.588 938.565,721.588 959.682,721.588 980.798,812.104 1001.92,812.104 1023.03,812.104 \n",
       "  1044.15,812.104 1065.27,812.104 1086.38,812.104 1107.5,812.104 1128.62,812.104 1149.73,812.104 1170.85,812.104 1191.97,812.104 1213.08,812.104 1234.2,812.104 \n",
       "  1255.32,812.104 1276.43,902.62 1297.55,902.62 1318.67,902.62 1339.78,993.136 1360.9,993.136 1382.02,993.136 1403.13,993.136 1424.25,993.136 1445.37,812.104 \n",
       "  1466.48,631.072 1487.6,721.588 1508.72,721.588 1529.83,721.588 1550.95,721.588 1572.07,721.588 1593.19,540.556 1614.3,540.556 1635.42,540.556 1656.54,540.556 \n",
       "  1677.65,631.072 1698.77,631.072 1719.89,631.072 1741,631.072 1762.12,631.072 1783.24,450.04 1804.35,450.04 1825.47,450.04 1846.59,540.556 1867.7,540.556 \n",
       "  1888.82,540.556 1909.94,540.556 1931.05,540.556 1952.17,540.556 1973.29,631.072 1994.4,631.072 2015.52,631.072 2036.64,631.072 2057.75,631.072 2078.87,631.072 \n",
       "  2099.99,631.072 2121.1,631.072 2142.22,631.072 2163.34,721.588 2184.46,721.588 2205.57,721.588 2226.69,721.588 2247.81,721.588 2268.92,721.588 2290.04,721.588 \n",
       "  \n",
       "  \"/>\n",
       "<polyline clip-path=\"url(#clip752)\" style=\"stroke:#008000; stroke-width:4; stroke-opacity:1; fill:none\" points=\"\n",
       "  199.477,269.008 220.594,269.008 241.711,178.492 262.828,178.492 283.944,359.524 305.061,359.524 326.178,269.008 347.295,269.008 368.412,269.008 389.528,450.04 \n",
       "  410.645,359.524 431.762,359.524 452.879,359.524 473.995,269.008 495.112,178.492 516.229,87.9763 537.346,269.008 558.463,178.492 579.579,178.492 600.696,178.492 \n",
       "  621.813,359.524 642.93,269.008 664.047,178.492 685.163,178.492 706.28,359.524 727.397,540.556 748.514,450.04 769.63,450.04 790.747,631.072 811.864,631.072 \n",
       "  832.981,631.072 854.098,540.556 875.214,540.556 896.331,540.556 917.448,450.04 938.565,359.524 959.682,540.556 980.798,450.04 1001.92,359.524 1023.03,540.556 \n",
       "  1044.15,540.556 1065.27,540.556 1086.38,721.588 1107.5,902.62 1128.62,1083.65 1149.73,1264.68 1170.85,1445.72 1191.97,1355.2 1213.08,1264.68 1234.2,1264.68 \n",
       "  1255.32,1264.68 1276.43,1174.17 1297.55,1174.17 1318.67,1174.17 1339.78,1083.65 1360.9,993.136 1382.02,993.136 1403.13,993.136 1424.25,1174.17 1445.37,1174.17 \n",
       "  1466.48,1174.17 1487.6,1083.65 1508.72,1083.65 1529.83,993.136 1550.95,993.136 1572.07,1174.17 1593.19,1174.17 1614.3,1083.65 1635.42,993.136 1656.54,993.136 \n",
       "  1677.65,902.62 1698.77,902.62 1719.89,1083.65 1741,993.136 1762.12,993.136 1783.24,993.136 1804.35,902.62 1825.47,812.104 1846.59,721.588 1867.7,631.072 \n",
       "  1888.82,631.072 1909.94,631.072 1931.05,540.556 1952.17,540.556 1973.29,450.04 1994.4,450.04 2015.52,450.04 2036.64,631.072 2057.75,540.556 2078.87,721.588 \n",
       "  2099.99,902.62 2121.1,812.104 2142.22,812.104 2163.34,721.588 2184.46,902.62 2205.57,1083.65 2226.69,1264.68 2247.81,1264.68 2268.92,1174.17 2290.04,1174.17 \n",
       "  \n",
       "  \"/>\n",
       "<path clip-path=\"url(#clip750)\" d=\"\n",
       "M1826.65 276.658 L2278.89 276.658 L2278.89 95.2176 L1826.65 95.2176  Z\n",
       "  \" fill=\"#ffffff\" fill-rule=\"evenodd\" fill-opacity=\"1\"/>\n",
       "<polyline clip-path=\"url(#clip750)\" style=\"stroke:#000000; stroke-width:4; stroke-opacity:1; fill:none\" points=\"\n",
       "  1826.65,276.658 2278.89,276.658 2278.89,95.2176 1826.65,95.2176 1826.65,276.658 \n",
       "  \"/>\n",
       "<polyline clip-path=\"url(#clip750)\" style=\"stroke:#800080; stroke-width:4; stroke-opacity:1; fill:none\" points=\"\n",
       "  1851.27,155.698 1999.01,155.698 \n",
       "  \"/>\n",
       "<path clip-path=\"url(#clip750)\" d=\"M 0 0 M2042.54 159.714 Q2042.54 155.084 2040.62 152.538 Q2038.72 149.992 2035.27 149.992 Q2031.85 149.992 2029.92 152.538 Q2028.03 155.084 2028.03 159.714 Q2028.03 164.32 2029.92 166.866 Q2031.85 169.413 2035.27 169.413 Q2038.72 169.413 2040.62 166.866 Q2042.54 164.32 2042.54 159.714 M2046.8 169.76 Q2046.8 176.38 2043.86 179.598 Q2040.92 182.839 2034.85 182.839 Q2032.61 182.839 2030.62 182.491 Q2028.63 182.167 2026.75 181.473 L2026.75 177.329 Q2028.63 178.348 2030.46 178.834 Q2032.28 179.32 2034.18 179.32 Q2038.37 179.32 2040.46 177.121 Q2042.54 174.945 2042.54 170.524 L2042.54 168.417 Q2041.22 170.709 2039.16 171.843 Q2037.1 172.978 2034.23 172.978 Q2029.46 172.978 2026.54 169.343 Q2023.63 165.709 2023.63 159.714 Q2023.63 153.695 2026.54 150.061 Q2029.46 146.427 2034.23 146.427 Q2037.1 146.427 2039.16 147.561 Q2041.22 148.695 2042.54 150.987 L2042.54 147.052 L2046.8 147.052 L2046.8 169.76 Z\" fill=\"#000000\" fill-rule=\"evenodd\" fill-opacity=\"1\" /><path clip-path=\"url(#clip750)\" d=\"M 0 0 M2061.31 150.038 Q2057.89 150.038 2055.9 152.723 Q2053.91 155.385 2053.91 160.038 Q2053.91 164.691 2055.87 167.376 Q2057.86 170.038 2061.31 170.038 Q2064.72 170.038 2066.71 167.353 Q2068.7 164.667 2068.7 160.038 Q2068.7 155.431 2066.71 152.746 Q2064.72 150.038 2061.31 150.038 M2061.31 146.427 Q2066.87 146.427 2070.04 150.038 Q2073.21 153.649 2073.21 160.038 Q2073.21 166.404 2070.04 170.038 Q2066.87 173.649 2061.31 173.649 Q2055.73 173.649 2052.56 170.038 Q2049.41 166.404 2049.41 160.038 Q2049.41 153.649 2052.56 150.038 Q2055.73 146.427 2061.31 146.427 Z\" fill=\"#000000\" fill-rule=\"evenodd\" fill-opacity=\"1\" /><path clip-path=\"url(#clip750)\" d=\"M 0 0 M2077.82 136.959 L2082.08 136.959 L2082.08 150.894 L2084.97 148.811 L2086.73 151.265 L2082.08 154.529 L2082.08 172.978 L2077.82 172.978 L2077.82 157.561 L2074.97 159.598 L2073.26 157.144 L2077.82 153.88 L2077.82 136.959 Z\" fill=\"#000000\" fill-rule=\"evenodd\" fill-opacity=\"1\" /><path clip-path=\"url(#clip750)\" d=\"M 0 0 M2113.37 158.95 L2113.37 161.033 L2093.79 161.033 Q2094.07 165.431 2096.43 167.746 Q2098.81 170.038 2103.05 170.038 Q2105.5 170.038 2107.79 169.436 Q2110.11 168.834 2112.38 167.63 L2112.38 171.658 Q2110.09 172.63 2107.68 173.14 Q2105.27 173.649 2102.79 173.649 Q2096.59 173.649 2092.96 170.038 Q2089.34 166.427 2089.34 160.269 Q2089.34 153.904 2092.77 150.177 Q2096.22 146.427 2102.05 146.427 Q2107.28 146.427 2110.32 149.806 Q2113.37 153.163 2113.37 158.95 M2109.11 157.7 Q2109.07 154.205 2107.15 152.121 Q2105.25 150.038 2102.1 150.038 Q2098.53 150.038 2096.38 152.052 Q2094.25 154.066 2093.93 157.723 L2109.11 157.7 M2105.62 172.978 L2108.37 172.978 Q2107.33 174.39 2106.82 175.408 Q2106.34 176.427 2106.34 177.144 Q2106.34 178.209 2106.96 178.741 Q2107.61 179.274 2108.86 179.274 Q2109.6 179.274 2110.32 179.089 Q2111.03 178.927 2111.75 178.579 L2111.75 181.658 Q2110.87 181.89 2110.09 182.005 Q2109.3 182.121 2108.6 182.121 Q2105.78 182.121 2104.44 181.103 Q2103.12 180.107 2103.12 177.954 Q2103.12 176.843 2103.72 175.616 Q2104.34 174.413 2105.62 172.978 Z\" fill=\"#000000\" fill-rule=\"evenodd\" fill-opacity=\"1\" /><path clip-path=\"url(#clip750)\" d=\"M 0 0 M2136.45 160.038 Q2136.45 155.339 2134.51 152.677 Q2132.59 149.992 2129.21 149.992 Q2125.83 149.992 2123.88 152.677 Q2121.96 155.339 2121.96 160.038 Q2121.96 164.737 2123.88 167.422 Q2125.83 170.084 2129.21 170.084 Q2132.59 170.084 2134.51 167.422 Q2136.45 164.737 2136.45 160.038 M2121.96 150.987 Q2123.3 148.672 2125.34 147.561 Q2127.4 146.427 2130.25 146.427 Q2134.97 146.427 2137.91 150.177 Q2140.87 153.927 2140.87 160.038 Q2140.87 166.149 2137.91 169.899 Q2134.97 173.649 2130.25 173.649 Q2127.4 173.649 2125.34 172.538 Q2123.3 171.403 2121.96 169.089 L2121.96 172.978 L2117.68 172.978 L2117.68 136.959 L2121.96 136.959 L2121.96 150.987 Z\" fill=\"#000000\" fill-rule=\"evenodd\" fill-opacity=\"1\" /><path clip-path=\"url(#clip750)\" d=\"M 0 0 M2145.34 147.052 L2149.6 147.052 L2149.6 172.978 L2145.34 172.978 L2145.34 147.052 M2145.34 136.959 L2149.6 136.959 L2149.6 142.353 L2145.34 142.353 L2145.34 136.959 Z\" fill=\"#000000\" fill-rule=\"evenodd\" fill-opacity=\"1\" /><path clip-path=\"url(#clip750)\" d=\"M 0 0 M2176.24 158.95 L2176.24 161.033 L2156.66 161.033 Q2156.94 165.431 2159.3 167.746 Q2161.68 170.038 2165.92 170.038 Q2168.37 170.038 2170.66 169.436 Q2172.98 168.834 2175.25 167.63 L2175.25 171.658 Q2172.96 172.63 2170.55 173.14 Q2168.14 173.649 2165.66 173.649 Q2159.46 173.649 2155.83 170.038 Q2152.21 166.427 2152.21 160.269 Q2152.21 153.904 2155.64 150.177 Q2159.09 146.427 2164.92 146.427 Q2170.15 146.427 2173.19 149.806 Q2176.24 153.163 2176.24 158.95 M2171.98 157.7 Q2171.94 154.205 2170.02 152.121 Q2168.12 150.038 2164.97 150.038 Q2161.4 150.038 2159.25 152.052 Q2157.12 154.066 2156.8 157.723 L2171.98 157.7 Z\" fill=\"#000000\" fill-rule=\"evenodd\" fill-opacity=\"1\" /><polyline clip-path=\"url(#clip750)\" style=\"stroke:#008000; stroke-width:4; stroke-opacity:1; fill:none\" points=\"\n",
       "  1851.27,216.178 1999.01,216.178 \n",
       "  \"/>\n",
       "<path clip-path=\"url(#clip750)\" d=\"M 0 0 M2028.95 207.532 L2033.21 207.532 L2033.21 233.921 Q2033.21 238.874 2031.31 241.096 Q2029.44 243.319 2025.25 243.319 L2023.63 243.319 L2023.63 239.708 L2024.76 239.708 Q2027.19 239.708 2028.07 238.573 Q2028.95 237.462 2028.95 233.921 L2028.95 207.532 M2028.95 197.439 L2033.21 197.439 L2033.21 202.833 L2028.95 202.833 L2028.95 197.439 Z\" fill=\"#000000\" fill-rule=\"evenodd\" fill-opacity=\"1\" /><path clip-path=\"url(#clip750)\" d=\"M 0 0 M2049.46 220.425 Q2044.3 220.425 2042.31 221.606 Q2040.32 222.786 2040.32 225.634 Q2040.32 227.902 2041.8 229.245 Q2043.3 230.564 2045.87 230.564 Q2049.41 230.564 2051.54 228.064 Q2053.7 225.541 2053.7 221.374 L2053.7 220.425 L2049.46 220.425 M2057.96 218.666 L2057.96 233.458 L2053.7 233.458 L2053.7 229.522 Q2052.24 231.883 2050.06 233.018 Q2047.89 234.129 2044.74 234.129 Q2040.76 234.129 2038.4 231.907 Q2036.06 229.661 2036.06 225.911 Q2036.06 221.536 2038.97 219.314 Q2041.91 217.092 2047.72 217.092 L2053.7 217.092 L2053.7 216.675 Q2053.7 213.735 2051.75 212.138 Q2049.83 210.518 2046.34 210.518 Q2044.11 210.518 2042.01 211.05 Q2039.9 211.583 2037.96 212.647 L2037.96 208.712 Q2040.29 207.81 2042.49 207.37 Q2044.69 206.907 2046.78 206.907 Q2052.4 206.907 2055.18 209.823 Q2057.96 212.74 2057.96 218.666 Z\" fill=\"#000000\" fill-rule=\"evenodd\" fill-opacity=\"1\" /><path clip-path=\"url(#clip750)\" d=\"M 0 0 M2078.95 208.296 L2078.95 212.323 Q2077.15 211.397 2075.2 210.935 Q2073.26 210.472 2071.17 210.472 Q2068 210.472 2066.41 211.444 Q2064.83 212.416 2064.83 214.36 Q2064.83 215.842 2065.97 216.698 Q2067.1 217.532 2070.53 218.296 L2071.98 218.62 Q2076.52 219.592 2078.42 221.374 Q2080.34 223.134 2080.34 226.305 Q2080.34 229.916 2077.47 232.022 Q2074.62 234.129 2069.62 234.129 Q2067.54 234.129 2065.27 233.712 Q2063.03 233.319 2060.53 232.508 L2060.53 228.11 Q2062.89 229.337 2065.18 229.962 Q2067.47 230.564 2069.72 230.564 Q2072.72 230.564 2074.34 229.546 Q2075.97 228.504 2075.97 226.629 Q2075.97 224.893 2074.78 223.967 Q2073.63 223.041 2069.67 222.184 L2068.19 221.837 Q2064.23 221.004 2062.47 219.291 Q2060.71 217.555 2060.71 214.546 Q2060.71 210.888 2063.3 208.898 Q2065.9 206.907 2070.66 206.907 Q2073.03 206.907 2075.11 207.254 Q2077.19 207.601 2078.95 208.296 Z\" fill=\"#000000\" fill-rule=\"evenodd\" fill-opacity=\"1\" /><path clip-path=\"url(#clip750)\" d=\"M 0 0 M2089.02 200.171 L2089.02 207.532 L2097.79 207.532 L2097.79 210.842 L2089.02 210.842 L2089.02 224.916 Q2089.02 228.087 2089.88 228.99 Q2090.76 229.893 2093.42 229.893 L2097.79 229.893 L2097.79 233.458 L2093.42 233.458 Q2088.49 233.458 2086.61 231.629 Q2084.74 229.777 2084.74 224.916 L2084.74 210.842 L2081.61 210.842 L2081.61 207.532 L2084.74 207.532 L2084.74 200.171 L2089.02 200.171 Z\" fill=\"#000000\" fill-rule=\"evenodd\" fill-opacity=\"1\" /><path clip-path=\"url(#clip750)\" d=\"M 0 0 M2117.28 211.513 Q2116.57 211.097 2115.71 210.911 Q2114.88 210.703 2113.86 210.703 Q2110.25 210.703 2108.3 213.064 Q2106.38 215.402 2106.38 219.8 L2106.38 233.458 L2102.1 233.458 L2102.1 207.532 L2106.38 207.532 L2106.38 211.56 Q2107.72 209.198 2109.88 208.064 Q2112.03 206.907 2115.11 206.907 Q2115.55 206.907 2116.08 206.976 Q2116.61 207.023 2117.26 207.138 L2117.28 211.513 Z\" fill=\"#000000\" fill-rule=\"evenodd\" fill-opacity=\"1\" /><path clip-path=\"url(#clip750)\" d=\"M 0 0 M2119.9 207.532 L2140.13 207.532 L2140.13 211.421 L2124.11 230.055 L2140.13 230.055 L2140.13 233.458 L2119.32 233.458 L2119.32 229.569 L2135.34 210.935 L2119.9 210.935 L2119.9 207.532 Z\" fill=\"#000000\" fill-rule=\"evenodd\" fill-opacity=\"1\" /><path clip-path=\"url(#clip750)\" d=\"M 0 0 M2166.78 219.43 L2166.78 221.513 L2147.19 221.513 Q2147.47 225.911 2149.83 228.226 Q2152.21 230.518 2156.45 230.518 Q2158.9 230.518 2161.2 229.916 Q2163.51 229.314 2165.78 228.11 L2165.78 232.138 Q2163.49 233.11 2161.08 233.62 Q2158.67 234.129 2156.2 234.129 Q2149.99 234.129 2146.36 230.518 Q2142.75 226.907 2142.75 220.749 Q2142.75 214.384 2146.17 210.657 Q2149.62 206.907 2155.46 206.907 Q2160.69 206.907 2163.72 210.286 Q2166.78 213.643 2166.78 219.43 M2162.52 218.18 Q2162.47 214.685 2160.55 212.601 Q2158.65 210.518 2155.5 210.518 Q2151.94 210.518 2149.78 212.532 Q2147.65 214.546 2147.33 218.203 L2162.52 218.18 M2159.02 233.458 L2161.78 233.458 Q2160.73 234.87 2160.22 235.888 Q2159.74 236.907 2159.74 237.624 Q2159.74 238.689 2160.36 239.221 Q2161.01 239.754 2162.26 239.754 Q2163 239.754 2163.72 239.569 Q2164.44 239.407 2165.15 239.059 L2165.15 242.138 Q2164.28 242.37 2163.49 242.485 Q2162.7 242.601 2162.01 242.601 Q2159.18 242.601 2157.84 241.583 Q2156.52 240.587 2156.52 238.434 Q2156.52 237.323 2157.12 236.096 Q2157.75 234.893 2159.02 233.458 Z\" fill=\"#000000\" fill-rule=\"evenodd\" fill-opacity=\"1\" /><path clip-path=\"url(#clip750)\" d=\"M 0 0 M2189.85 220.518 Q2189.85 215.819 2187.91 213.157 Q2185.99 210.472 2182.61 210.472 Q2179.23 210.472 2177.28 213.157 Q2175.36 215.819 2175.36 220.518 Q2175.36 225.217 2177.28 227.902 Q2179.23 230.564 2182.61 230.564 Q2185.99 230.564 2187.91 227.902 Q2189.85 225.217 2189.85 220.518 M2175.36 211.467 Q2176.71 209.152 2178.74 208.041 Q2180.8 206.907 2183.65 206.907 Q2188.37 206.907 2191.31 210.657 Q2194.27 214.407 2194.27 220.518 Q2194.27 226.629 2191.31 230.379 Q2188.37 234.129 2183.65 234.129 Q2180.8 234.129 2178.74 233.018 Q2176.71 231.883 2175.36 229.569 L2175.36 233.458 L2171.08 233.458 L2171.08 197.439 L2175.36 197.439 L2175.36 211.467 Z\" fill=\"#000000\" fill-rule=\"evenodd\" fill-opacity=\"1\" /><path clip-path=\"url(#clip750)\" d=\"M 0 0 M2198.74 207.532 L2203 207.532 L2203 233.458 L2198.74 233.458 L2198.74 207.532 M2198.74 197.439 L2203 197.439 L2203 202.833 L2198.74 202.833 L2198.74 197.439 Z\" fill=\"#000000\" fill-rule=\"evenodd\" fill-opacity=\"1\" /><path clip-path=\"url(#clip750)\" d=\"M 0 0 M2229.65 219.43 L2229.65 221.513 L2210.06 221.513 Q2210.34 225.911 2212.7 228.226 Q2215.08 230.518 2219.32 230.518 Q2221.77 230.518 2224.07 229.916 Q2226.38 229.314 2228.65 228.11 L2228.65 232.138 Q2226.36 233.11 2223.95 233.62 Q2221.54 234.129 2219.07 234.129 Q2212.86 234.129 2209.23 230.518 Q2205.62 226.907 2205.62 220.749 Q2205.62 214.384 2209.04 210.657 Q2212.49 206.907 2218.33 206.907 Q2223.56 206.907 2226.59 210.286 Q2229.65 213.643 2229.65 219.43 M2225.39 218.18 Q2225.34 214.685 2223.42 212.601 Q2221.52 210.518 2218.37 210.518 Q2214.81 210.518 2212.65 212.532 Q2210.52 214.546 2210.2 218.203 L2225.39 218.18 Z\" fill=\"#000000\" fill-rule=\"evenodd\" fill-opacity=\"1\" /></svg>\n"
      ]
     },
     "execution_count": 50,
     "metadata": {},
     "output_type": "execute_result"
    }
   ],
   "source": [
    "plot(1:size(A)[1], A[:, 1], label=\"gołębie\", color= :purple)\n",
    "plot!(1:size(A)[1], A[:, 2], label=\"jastrzębie\", color= :green)"
   ]
  },
  {
   "cell_type": "code",
   "execution_count": 51,
   "metadata": {},
   "outputs": [
    {
     "data": {
      "image/svg+xml": [
       "<?xml version=\"1.0\" encoding=\"utf-8\"?>\n",
       "<svg xmlns=\"http://www.w3.org/2000/svg\" xmlns:xlink=\"http://www.w3.org/1999/xlink\" width=\"600\" height=\"400\" viewBox=\"0 0 2400 1600\">\n",
       "<defs>\n",
       "  <clipPath id=\"clip790\">\n",
       "    <rect x=\"0\" y=\"0\" width=\"2400\" height=\"1600\"/>\n",
       "  </clipPath>\n",
       "</defs>\n",
       "<path clip-path=\"url(#clip790)\" d=\"\n",
       "M0 1600 L2400 1600 L2400 0 L0 0  Z\n",
       "  \" fill=\"#ffffff\" fill-rule=\"evenodd\" fill-opacity=\"1\"/>\n",
       "<defs>\n",
       "  <clipPath id=\"clip791\">\n",
       "    <rect x=\"480\" y=\"0\" width=\"1681\" height=\"1600\"/>\n",
       "  </clipPath>\n",
       "</defs>\n",
       "<path clip-path=\"url(#clip790)\" d=\"\n",
       "M173.728 1486.45 L2352.76 1486.45 L2352.76 47.2441 L173.728 47.2441  Z\n",
       "  \" fill=\"#ffffff\" fill-rule=\"evenodd\" fill-opacity=\"1\"/>\n",
       "<defs>\n",
       "  <clipPath id=\"clip792\">\n",
       "    <rect x=\"173\" y=\"47\" width=\"2180\" height=\"1440\"/>\n",
       "  </clipPath>\n",
       "</defs>\n",
       "<polyline clip-path=\"url(#clip792)\" style=\"stroke:#000000; stroke-width:2; stroke-opacity:0.1; fill:none\" points=\"\n",
       "  214.634,1486.45 214.634,47.2441 \n",
       "  \"/>\n",
       "<polyline clip-path=\"url(#clip792)\" style=\"stroke:#000000; stroke-width:2; stroke-opacity:0.1; fill:none\" points=\"\n",
       "  733.747,1486.45 733.747,47.2441 \n",
       "  \"/>\n",
       "<polyline clip-path=\"url(#clip792)\" style=\"stroke:#000000; stroke-width:2; stroke-opacity:0.1; fill:none\" points=\"\n",
       "  1252.86,1486.45 1252.86,47.2441 \n",
       "  \"/>\n",
       "<polyline clip-path=\"url(#clip792)\" style=\"stroke:#000000; stroke-width:2; stroke-opacity:0.1; fill:none\" points=\"\n",
       "  1771.97,1486.45 1771.97,47.2441 \n",
       "  \"/>\n",
       "<polyline clip-path=\"url(#clip792)\" style=\"stroke:#000000; stroke-width:2; stroke-opacity:0.1; fill:none\" points=\"\n",
       "  2291.09,1486.45 2291.09,47.2441 \n",
       "  \"/>\n",
       "<polyline clip-path=\"url(#clip790)\" style=\"stroke:#000000; stroke-width:4; stroke-opacity:1; fill:none\" points=\"\n",
       "  173.728,1486.45 2352.76,1486.45 \n",
       "  \"/>\n",
       "<polyline clip-path=\"url(#clip790)\" style=\"stroke:#000000; stroke-width:4; stroke-opacity:1; fill:none\" points=\"\n",
       "  214.634,1486.45 214.634,1469.18 \n",
       "  \"/>\n",
       "<polyline clip-path=\"url(#clip790)\" style=\"stroke:#000000; stroke-width:4; stroke-opacity:1; fill:none\" points=\"\n",
       "  733.747,1486.45 733.747,1469.18 \n",
       "  \"/>\n",
       "<polyline clip-path=\"url(#clip790)\" style=\"stroke:#000000; stroke-width:4; stroke-opacity:1; fill:none\" points=\"\n",
       "  1252.86,1486.45 1252.86,1469.18 \n",
       "  \"/>\n",
       "<polyline clip-path=\"url(#clip790)\" style=\"stroke:#000000; stroke-width:4; stroke-opacity:1; fill:none\" points=\"\n",
       "  1771.97,1486.45 1771.97,1469.18 \n",
       "  \"/>\n",
       "<polyline clip-path=\"url(#clip790)\" style=\"stroke:#000000; stroke-width:4; stroke-opacity:1; fill:none\" points=\"\n",
       "  2291.09,1486.45 2291.09,1469.18 \n",
       "  \"/>\n",
       "<path clip-path=\"url(#clip790)\" d=\"M 0 0 M214.634 1515.64 Q211.023 1515.64 209.194 1519.2 Q207.389 1522.75 207.389 1529.87 Q207.389 1536.98 209.194 1540.55 Q211.023 1544.09 214.634 1544.09 Q218.268 1544.09 220.074 1540.55 Q221.902 1536.98 221.902 1529.87 Q221.902 1522.75 220.074 1519.2 Q218.268 1515.64 214.634 1515.64 M214.634 1511.93 Q220.444 1511.93 223.5 1516.54 Q226.578 1521.12 226.578 1529.87 Q226.578 1538.6 223.5 1543.21 Q220.444 1547.79 214.634 1547.79 Q208.824 1547.79 205.745 1543.21 Q202.689 1538.6 202.689 1529.87 Q202.689 1521.12 205.745 1516.54 Q208.824 1511.93 214.634 1511.93 Z\" fill=\"#000000\" fill-rule=\"evenodd\" fill-opacity=\"1\" /><path clip-path=\"url(#clip790)\" d=\"M 0 0 M715.39 1543.18 L731.71 1543.18 L731.71 1547.12 L709.765 1547.12 L709.765 1543.18 Q712.427 1540.43 717.011 1535.8 Q721.617 1531.15 722.798 1529.81 Q725.043 1527.28 725.923 1525.55 Q726.825 1523.79 726.825 1522.1 Q726.825 1519.34 724.881 1517.61 Q722.96 1515.87 719.858 1515.87 Q717.659 1515.87 715.205 1516.63 Q712.775 1517.4 709.997 1518.95 L709.997 1514.23 Q712.821 1513.09 715.275 1512.51 Q717.728 1511.93 719.765 1511.93 Q725.136 1511.93 728.33 1514.62 Q731.525 1517.31 731.525 1521.8 Q731.525 1523.93 730.714 1525.85 Q729.927 1527.74 727.821 1530.34 Q727.242 1531.01 724.14 1534.23 Q721.038 1537.42 715.39 1543.18 Z\" fill=\"#000000\" fill-rule=\"evenodd\" fill-opacity=\"1\" /><path clip-path=\"url(#clip790)\" d=\"M 0 0 M736.825 1512.56 L755.182 1512.56 L755.182 1516.5 L741.108 1516.5 L741.108 1524.97 Q742.126 1524.62 743.145 1524.46 Q744.163 1524.27 745.182 1524.27 Q750.969 1524.27 754.348 1527.44 Q757.728 1530.62 757.728 1536.03 Q757.728 1541.61 754.256 1544.71 Q750.784 1547.79 744.464 1547.79 Q742.288 1547.79 740.02 1547.42 Q737.774 1547.05 735.367 1546.31 L735.367 1541.61 Q737.45 1542.74 739.673 1543.3 Q741.895 1543.86 744.372 1543.86 Q748.376 1543.86 750.714 1541.75 Q753.052 1539.64 753.052 1536.03 Q753.052 1532.42 750.714 1530.31 Q748.376 1528.21 744.372 1528.21 Q742.497 1528.21 740.622 1528.62 Q738.77 1529.04 736.825 1529.92 L736.825 1512.56 Z\" fill=\"#000000\" fill-rule=\"evenodd\" fill-opacity=\"1\" /><path clip-path=\"url(#clip790)\" d=\"M 0 0 M1229.63 1512.56 L1247.99 1512.56 L1247.99 1516.5 L1233.91 1516.5 L1233.91 1524.97 Q1234.93 1524.62 1235.95 1524.46 Q1236.97 1524.27 1237.99 1524.27 Q1243.77 1524.27 1247.15 1527.44 Q1250.53 1530.62 1250.53 1536.03 Q1250.53 1541.61 1247.06 1544.71 Q1243.59 1547.79 1237.27 1547.79 Q1235.09 1547.79 1232.82 1547.42 Q1230.58 1547.05 1228.17 1546.31 L1228.17 1541.61 Q1230.26 1542.74 1232.48 1543.3 Q1234.7 1543.86 1237.18 1543.86 Q1241.18 1543.86 1243.52 1541.75 Q1245.86 1539.64 1245.86 1536.03 Q1245.86 1532.42 1243.52 1530.31 Q1241.18 1528.21 1237.18 1528.21 Q1235.3 1528.21 1233.43 1528.62 Q1231.57 1529.04 1229.63 1529.92 L1229.63 1512.56 Z\" fill=\"#000000\" fill-rule=\"evenodd\" fill-opacity=\"1\" /><path clip-path=\"url(#clip790)\" d=\"M 0 0 M1265.6 1515.64 Q1261.99 1515.64 1260.16 1519.2 Q1258.36 1522.75 1258.36 1529.87 Q1258.36 1536.98 1260.16 1540.55 Q1261.99 1544.09 1265.6 1544.09 Q1269.24 1544.09 1271.04 1540.55 Q1272.87 1536.98 1272.87 1529.87 Q1272.87 1522.75 1271.04 1519.2 Q1269.24 1515.64 1265.6 1515.64 M1265.6 1511.93 Q1271.41 1511.93 1274.47 1516.54 Q1277.55 1521.12 1277.55 1529.87 Q1277.55 1538.6 1274.47 1543.21 Q1271.41 1547.79 1265.6 1547.79 Q1259.79 1547.79 1256.71 1543.21 Q1253.66 1538.6 1253.66 1529.87 Q1253.66 1521.12 1256.71 1516.54 Q1259.79 1511.93 1265.6 1511.93 Z\" fill=\"#000000\" fill-rule=\"evenodd\" fill-opacity=\"1\" /><path clip-path=\"url(#clip790)\" d=\"M 0 0 M1747.85 1512.56 L1770.07 1512.56 L1770.07 1514.55 L1757.53 1547.12 L1752.64 1547.12 L1764.45 1516.5 L1747.85 1516.5 L1747.85 1512.56 Z\" fill=\"#000000\" fill-rule=\"evenodd\" fill-opacity=\"1\" /><path clip-path=\"url(#clip790)\" d=\"M 0 0 M1775.19 1512.56 L1793.55 1512.56 L1793.55 1516.5 L1779.47 1516.5 L1779.47 1524.97 Q1780.49 1524.62 1781.51 1524.46 Q1782.53 1524.27 1783.55 1524.27 Q1789.33 1524.27 1792.71 1527.44 Q1796.09 1530.62 1796.09 1536.03 Q1796.09 1541.61 1792.62 1544.71 Q1789.15 1547.79 1782.83 1547.79 Q1780.65 1547.79 1778.38 1547.42 Q1776.14 1547.05 1773.73 1546.31 L1773.73 1541.61 Q1775.82 1542.74 1778.04 1543.3 Q1780.26 1543.86 1782.74 1543.86 Q1786.74 1543.86 1789.08 1541.75 Q1791.42 1539.64 1791.42 1536.03 Q1791.42 1532.42 1789.08 1530.31 Q1786.74 1528.21 1782.74 1528.21 Q1780.86 1528.21 1778.99 1528.62 Q1777.13 1529.04 1775.19 1529.92 L1775.19 1512.56 Z\" fill=\"#000000\" fill-rule=\"evenodd\" fill-opacity=\"1\" /><path clip-path=\"url(#clip790)\" d=\"M 0 0 M2254.45 1543.18 L2262.09 1543.18 L2262.09 1516.82 L2253.78 1518.49 L2253.78 1514.23 L2262.05 1512.56 L2266.72 1512.56 L2266.72 1543.18 L2274.36 1543.18 L2274.36 1547.12 L2254.45 1547.12 L2254.45 1543.18 Z\" fill=\"#000000\" fill-rule=\"evenodd\" fill-opacity=\"1\" /><path clip-path=\"url(#clip790)\" d=\"M 0 0 M2289.43 1515.64 Q2285.82 1515.64 2283.99 1519.2 Q2282.18 1522.75 2282.18 1529.87 Q2282.18 1536.98 2283.99 1540.55 Q2285.82 1544.09 2289.43 1544.09 Q2293.06 1544.09 2294.87 1540.55 Q2296.7 1536.98 2296.7 1529.87 Q2296.7 1522.75 2294.87 1519.2 Q2293.06 1515.64 2289.43 1515.64 M2289.43 1511.93 Q2295.24 1511.93 2298.3 1516.54 Q2301.37 1521.12 2301.37 1529.87 Q2301.37 1538.6 2298.3 1543.21 Q2295.24 1547.79 2289.43 1547.79 Q2283.62 1547.79 2280.54 1543.21 Q2277.49 1538.6 2277.49 1529.87 Q2277.49 1521.12 2280.54 1516.54 Q2283.62 1511.93 2289.43 1511.93 Z\" fill=\"#000000\" fill-rule=\"evenodd\" fill-opacity=\"1\" /><path clip-path=\"url(#clip790)\" d=\"M 0 0 M2316.44 1515.64 Q2312.83 1515.64 2311 1519.2 Q2309.2 1522.75 2309.2 1529.87 Q2309.2 1536.98 2311 1540.55 Q2312.83 1544.09 2316.44 1544.09 Q2320.08 1544.09 2321.88 1540.55 Q2323.71 1536.98 2323.71 1529.87 Q2323.71 1522.75 2321.88 1519.2 Q2320.08 1515.64 2316.44 1515.64 M2316.44 1511.93 Q2322.25 1511.93 2325.31 1516.54 Q2328.39 1521.12 2328.39 1529.87 Q2328.39 1538.6 2325.31 1543.21 Q2322.25 1547.79 2316.44 1547.79 Q2310.63 1547.79 2307.56 1543.21 Q2304.5 1538.6 2304.5 1529.87 Q2304.5 1521.12 2307.56 1516.54 Q2310.63 1511.93 2316.44 1511.93 Z\" fill=\"#000000\" fill-rule=\"evenodd\" fill-opacity=\"1\" /><polyline clip-path=\"url(#clip792)\" style=\"stroke:#000000; stroke-width:2; stroke-opacity:0.1; fill:none\" points=\"\n",
       "  173.728,1300.24 2352.76,1300.24 \n",
       "  \"/>\n",
       "<polyline clip-path=\"url(#clip792)\" style=\"stroke:#000000; stroke-width:2; stroke-opacity:0.1; fill:none\" points=\"\n",
       "  173.728,1057.79 2352.76,1057.79 \n",
       "  \"/>\n",
       "<polyline clip-path=\"url(#clip792)\" style=\"stroke:#000000; stroke-width:2; stroke-opacity:0.1; fill:none\" points=\"\n",
       "  173.728,815.337 2352.76,815.337 \n",
       "  \"/>\n",
       "<polyline clip-path=\"url(#clip792)\" style=\"stroke:#000000; stroke-width:2; stroke-opacity:0.1; fill:none\" points=\"\n",
       "  173.728,572.883 2352.76,572.883 \n",
       "  \"/>\n",
       "<polyline clip-path=\"url(#clip792)\" style=\"stroke:#000000; stroke-width:2; stroke-opacity:0.1; fill:none\" points=\"\n",
       "  173.728,330.43 2352.76,330.43 \n",
       "  \"/>\n",
       "<polyline clip-path=\"url(#clip792)\" style=\"stroke:#000000; stroke-width:2; stroke-opacity:0.1; fill:none\" points=\"\n",
       "  173.728,87.9763 2352.76,87.9763 \n",
       "  \"/>\n",
       "<polyline clip-path=\"url(#clip790)\" style=\"stroke:#000000; stroke-width:4; stroke-opacity:1; fill:none\" points=\"\n",
       "  173.728,1486.45 173.728,47.2441 \n",
       "  \"/>\n",
       "<polyline clip-path=\"url(#clip790)\" style=\"stroke:#000000; stroke-width:4; stroke-opacity:1; fill:none\" points=\"\n",
       "  173.728,1300.24 199.876,1300.24 \n",
       "  \"/>\n",
       "<polyline clip-path=\"url(#clip790)\" style=\"stroke:#000000; stroke-width:4; stroke-opacity:1; fill:none\" points=\"\n",
       "  173.728,1057.79 199.876,1057.79 \n",
       "  \"/>\n",
       "<polyline clip-path=\"url(#clip790)\" style=\"stroke:#000000; stroke-width:4; stroke-opacity:1; fill:none\" points=\"\n",
       "  173.728,815.337 199.876,815.337 \n",
       "  \"/>\n",
       "<polyline clip-path=\"url(#clip790)\" style=\"stroke:#000000; stroke-width:4; stroke-opacity:1; fill:none\" points=\"\n",
       "  173.728,572.883 199.876,572.883 \n",
       "  \"/>\n",
       "<polyline clip-path=\"url(#clip790)\" style=\"stroke:#000000; stroke-width:4; stroke-opacity:1; fill:none\" points=\"\n",
       "  173.728,330.43 199.876,330.43 \n",
       "  \"/>\n",
       "<polyline clip-path=\"url(#clip790)\" style=\"stroke:#000000; stroke-width:4; stroke-opacity:1; fill:none\" points=\"\n",
       "  173.728,87.9763 199.876,87.9763 \n",
       "  \"/>\n",
       "<path clip-path=\"url(#clip790)\" d=\"M 0 0 M55.7375 1313.59 L63.3763 1313.59 L63.3763 1287.22 L55.0662 1288.89 L55.0662 1284.63 L63.33 1282.96 L68.0059 1282.96 L68.0059 1313.59 L75.6448 1313.59 L75.6448 1317.52 L55.7375 1317.52 L55.7375 1313.59 Z\" fill=\"#000000\" fill-rule=\"evenodd\" fill-opacity=\"1\" /><path clip-path=\"url(#clip790)\" d=\"M 0 0 M79.5336 1282.96 L101.756 1282.96 L101.756 1284.95 L89.2095 1317.52 L84.3253 1317.52 L96.1308 1286.9 L79.5336 1286.9 L79.5336 1282.96 Z\" fill=\"#000000\" fill-rule=\"evenodd\" fill-opacity=\"1\" /><path clip-path=\"url(#clip790)\" d=\"M 0 0 M106.825 1311.64 L111.709 1311.64 L111.709 1317.52 L106.825 1317.52 L106.825 1311.64 Z\" fill=\"#000000\" fill-rule=\"evenodd\" fill-opacity=\"1\" /><path clip-path=\"url(#clip790)\" d=\"M 0 0 M116.825 1282.96 L135.181 1282.96 L135.181 1286.9 L121.107 1286.9 L121.107 1295.37 Q122.126 1295.02 123.145 1294.86 Q124.163 1294.68 125.182 1294.68 Q130.969 1294.68 134.348 1297.85 Q137.728 1301.02 137.728 1306.44 Q137.728 1312.01 134.256 1315.12 Q130.783 1318.19 124.464 1318.19 Q122.288 1318.19 120.02 1317.82 Q117.774 1317.45 115.367 1316.71 L115.367 1312.01 Q117.45 1313.15 119.672 1313.7 Q121.895 1314.26 124.371 1314.26 Q128.376 1314.26 130.714 1312.15 Q133.052 1310.05 133.052 1306.44 Q133.052 1302.82 130.714 1300.72 Q128.376 1298.61 124.371 1298.61 Q122.496 1298.61 120.621 1299.03 Q118.77 1299.45 116.825 1300.32 L116.825 1282.96 Z\" fill=\"#000000\" fill-rule=\"evenodd\" fill-opacity=\"1\" /><path clip-path=\"url(#clip790)\" d=\"M 0 0 M57.4273 1071.13 L73.7466 1071.13 L73.7466 1075.07 L51.8023 1075.07 L51.8023 1071.13 Q54.4643 1068.38 59.0476 1063.75 Q63.6541 1059.1 64.8346 1057.76 Q67.08 1055.23 67.9596 1053.5 Q68.8624 1051.74 68.8624 1050.05 Q68.8624 1047.29 66.918 1045.56 Q64.9967 1043.82 61.8948 1043.82 Q59.6958 1043.82 57.2421 1044.58 Q54.8115 1045.35 52.0338 1046.9 L52.0338 1042.18 Q54.8578 1041.04 57.3115 1040.46 Q59.7652 1039.89 61.8023 1039.89 Q67.1726 1039.89 70.367 1042.57 Q73.5614 1045.26 73.5614 1049.75 Q73.5614 1051.88 72.7513 1053.8 Q71.9642 1055.7 69.8578 1058.29 Q69.2791 1058.96 66.1772 1062.18 Q63.0754 1065.37 57.4273 1071.13 Z\" fill=\"#000000\" fill-rule=\"evenodd\" fill-opacity=\"1\" /><path clip-path=\"url(#clip790)\" d=\"M 0 0 M88.816 1043.59 Q85.2049 1043.59 83.3762 1047.15 Q81.5707 1050.7 81.5707 1057.82 Q81.5707 1064.93 83.3762 1068.5 Q85.2049 1072.04 88.816 1072.04 Q92.4502 1072.04 94.2558 1068.5 Q96.0845 1064.93 96.0845 1057.82 Q96.0845 1050.7 94.2558 1047.15 Q92.4502 1043.59 88.816 1043.59 M88.816 1039.89 Q94.6262 1039.89 97.6817 1044.49 Q100.76 1049.07 100.76 1057.82 Q100.76 1066.55 97.6817 1071.16 Q94.6262 1075.74 88.816 1075.74 Q83.0058 1075.74 79.9272 1071.16 Q76.8716 1066.55 76.8716 1057.82 Q76.8716 1049.07 79.9272 1044.49 Q83.0058 1039.89 88.816 1039.89 Z\" fill=\"#000000\" fill-rule=\"evenodd\" fill-opacity=\"1\" /><path clip-path=\"url(#clip790)\" d=\"M 0 0 M105.83 1069.19 L110.714 1069.19 L110.714 1075.07 L105.83 1075.07 L105.83 1069.19 Z\" fill=\"#000000\" fill-rule=\"evenodd\" fill-opacity=\"1\" /><path clip-path=\"url(#clip790)\" d=\"M 0 0 M125.783 1043.59 Q122.172 1043.59 120.344 1047.15 Q118.538 1050.7 118.538 1057.82 Q118.538 1064.93 120.344 1068.5 Q122.172 1072.04 125.783 1072.04 Q129.418 1072.04 131.223 1068.5 Q133.052 1064.93 133.052 1057.82 Q133.052 1050.7 131.223 1047.15 Q129.418 1043.59 125.783 1043.59 M125.783 1039.89 Q131.594 1039.89 134.649 1044.49 Q137.728 1049.07 137.728 1057.82 Q137.728 1066.55 134.649 1071.16 Q131.594 1075.74 125.783 1075.74 Q119.973 1075.74 116.895 1071.16 Q113.839 1066.55 113.839 1057.82 Q113.839 1049.07 116.895 1044.49 Q119.973 1039.89 125.783 1039.89 Z\" fill=\"#000000\" fill-rule=\"evenodd\" fill-opacity=\"1\" /><path clip-path=\"url(#clip790)\" d=\"M 0 0 M60.0199 828.682 L76.3392 828.682 L76.3392 832.617 L54.3949 832.617 L54.3949 828.682 Q57.0569 825.927 61.6402 821.297 Q66.2467 816.645 67.4272 815.302 Q69.6726 812.779 70.5522 811.043 Q71.455 809.283 71.455 807.594 Q71.455 804.839 69.5105 803.103 Q67.5893 801.367 64.4874 801.367 Q62.2884 801.367 59.8347 802.131 Q57.4041 802.895 54.6264 804.446 L54.6264 799.723 Q57.4504 798.589 59.9041 798.01 Q62.3578 797.432 64.3948 797.432 Q69.7652 797.432 72.9596 800.117 Q76.154 802.802 76.154 807.293 Q76.154 809.422 75.3438 811.344 Q74.5568 813.242 72.4503 815.834 Q71.8716 816.506 68.7698 819.723 Q65.668 822.918 60.0199 828.682 Z\" fill=\"#000000\" fill-rule=\"evenodd\" fill-opacity=\"1\" /><path clip-path=\"url(#clip790)\" d=\"M 0 0 M85.4364 828.682 L101.756 828.682 L101.756 832.617 L79.8114 832.617 L79.8114 828.682 Q82.4734 825.927 87.0567 821.297 Q91.6632 816.645 92.8438 815.302 Q95.0891 812.779 95.9687 811.043 Q96.8715 809.283 96.8715 807.594 Q96.8715 804.839 94.9271 803.103 Q93.0058 801.367 89.904 801.367 Q87.7049 801.367 85.2512 802.131 Q82.8207 802.895 80.0429 804.446 L80.0429 799.723 Q82.867 798.589 85.3206 798.01 Q87.7743 797.432 89.8114 797.432 Q95.1817 797.432 98.3761 800.117 Q101.571 802.802 101.571 807.293 Q101.571 809.422 100.76 811.344 Q99.9733 813.242 97.8669 815.834 Q97.2882 816.506 94.1863 819.723 Q91.0845 822.918 85.4364 828.682 Z\" fill=\"#000000\" fill-rule=\"evenodd\" fill-opacity=\"1\" /><path clip-path=\"url(#clip790)\" d=\"M 0 0 M106.825 826.737 L111.709 826.737 L111.709 832.617 L106.825 832.617 L106.825 826.737 Z\" fill=\"#000000\" fill-rule=\"evenodd\" fill-opacity=\"1\" /><path clip-path=\"url(#clip790)\" d=\"M 0 0 M116.825 798.057 L135.181 798.057 L135.181 801.992 L121.107 801.992 L121.107 810.464 Q122.126 810.117 123.145 809.955 Q124.163 809.77 125.182 809.77 Q130.969 809.77 134.348 812.941 Q137.728 816.112 137.728 821.529 Q137.728 827.107 134.256 830.209 Q130.783 833.288 124.464 833.288 Q122.288 833.288 120.02 832.918 Q117.774 832.547 115.367 831.806 L115.367 827.107 Q117.45 828.242 119.672 828.797 Q121.895 829.353 124.371 829.353 Q128.376 829.353 130.714 827.246 Q133.052 825.14 133.052 821.529 Q133.052 817.918 130.714 815.811 Q128.376 813.705 124.371 813.705 Q122.496 813.705 120.621 814.121 Q118.77 814.538 116.825 815.418 L116.825 798.057 Z\" fill=\"#000000\" fill-rule=\"evenodd\" fill-opacity=\"1\" /><path clip-path=\"url(#clip790)\" d=\"M 0 0 M58.4226 586.228 L74.742 586.228 L74.742 590.163 L52.7977 590.163 L52.7977 586.228 Q55.4597 583.473 60.043 578.844 Q64.6495 574.191 65.83 572.848 Q68.0754 570.325 68.955 568.589 Q69.8578 566.83 69.8578 565.14 Q69.8578 562.386 67.9133 560.649 Q65.992 558.913 62.8902 558.913 Q60.6911 558.913 58.2375 559.677 Q55.8069 560.441 53.0292 561.992 L53.0292 557.27 Q55.8532 556.136 58.3069 555.557 Q60.7606 554.978 62.7976 554.978 Q68.168 554.978 71.3624 557.663 Q74.5568 560.349 74.5568 564.839 Q74.5568 566.969 73.7466 568.89 Q72.9596 570.788 70.8531 573.381 Q70.2744 574.052 67.1726 577.27 Q64.0708 580.464 58.4226 586.228 Z\" fill=\"#000000\" fill-rule=\"evenodd\" fill-opacity=\"1\" /><path clip-path=\"url(#clip790)\" d=\"M 0 0 M79.8577 555.603 L98.2141 555.603 L98.2141 559.538 L84.1401 559.538 L84.1401 568.011 Q85.1586 567.663 86.1771 567.501 Q87.1956 567.316 88.2141 567.316 Q94.0012 567.316 97.3808 570.487 Q100.76 573.659 100.76 579.075 Q100.76 584.654 97.2882 587.756 Q93.816 590.835 87.4966 590.835 Q85.3206 590.835 83.0521 590.464 Q80.8068 590.094 78.3994 589.353 L78.3994 584.654 Q80.4827 585.788 82.7049 586.344 Q84.9271 586.899 87.404 586.899 Q91.4086 586.899 93.7465 584.793 Q96.0845 582.686 96.0845 579.075 Q96.0845 575.464 93.7465 573.358 Q91.4086 571.251 87.404 571.251 Q85.529 571.251 83.654 571.668 Q81.8021 572.085 79.8577 572.964 L79.8577 555.603 Z\" fill=\"#000000\" fill-rule=\"evenodd\" fill-opacity=\"1\" /><path clip-path=\"url(#clip790)\" d=\"M 0 0 M105.83 584.284 L110.714 584.284 L110.714 590.163 L105.83 590.163 L105.83 584.284 Z\" fill=\"#000000\" fill-rule=\"evenodd\" fill-opacity=\"1\" /><path clip-path=\"url(#clip790)\" d=\"M 0 0 M125.783 558.682 Q122.172 558.682 120.344 562.247 Q118.538 565.788 118.538 572.918 Q118.538 580.024 120.344 583.589 Q122.172 587.131 125.783 587.131 Q129.418 587.131 131.223 583.589 Q133.052 580.024 133.052 572.918 Q133.052 565.788 131.223 562.247 Q129.418 558.682 125.783 558.682 M125.783 554.978 Q131.594 554.978 134.649 559.585 Q137.728 564.168 137.728 572.918 Q137.728 581.645 134.649 586.251 Q131.594 590.835 125.783 590.835 Q119.973 590.835 116.895 586.251 Q113.839 581.645 113.839 572.918 Q113.839 564.168 116.895 559.585 Q119.973 554.978 125.783 554.978 Z\" fill=\"#000000\" fill-rule=\"evenodd\" fill-opacity=\"1\" /><path clip-path=\"url(#clip790)\" d=\"M 0 0 M59.3254 343.775 L75.6448 343.775 L75.6448 347.71 L53.7004 347.71 L53.7004 343.775 Q56.3625 341.02 60.9458 336.39 Q65.5522 331.738 66.7328 330.395 Q68.9781 327.872 69.8578 326.136 Q70.7605 324.377 70.7605 322.687 Q70.7605 319.932 68.8161 318.196 Q66.8948 316.46 63.793 316.46 Q61.5939 316.46 59.1402 317.224 Q56.7097 317.988 53.9319 319.539 L53.9319 314.816 Q56.756 313.682 59.2097 313.103 Q61.6634 312.525 63.7004 312.525 Q69.0707 312.525 72.2652 315.21 Q75.4596 317.895 75.4596 322.386 Q75.4596 324.515 74.6494 326.437 Q73.8624 328.335 71.7559 330.927 Q71.1772 331.599 68.0754 334.816 Q64.9735 338.011 59.3254 343.775 Z\" fill=\"#000000\" fill-rule=\"evenodd\" fill-opacity=\"1\" /><path clip-path=\"url(#clip790)\" d=\"M 0 0 M79.5336 313.15 L101.756 313.15 L101.756 315.14 L89.2095 347.71 L84.3253 347.71 L96.1308 317.085 L79.5336 317.085 L79.5336 313.15 Z\" fill=\"#000000\" fill-rule=\"evenodd\" fill-opacity=\"1\" /><path clip-path=\"url(#clip790)\" d=\"M 0 0 M106.825 341.83 L111.709 341.83 L111.709 347.71 L106.825 347.71 L106.825 341.83 Z\" fill=\"#000000\" fill-rule=\"evenodd\" fill-opacity=\"1\" /><path clip-path=\"url(#clip790)\" d=\"M 0 0 M116.825 313.15 L135.181 313.15 L135.181 317.085 L121.107 317.085 L121.107 325.557 Q122.126 325.21 123.145 325.048 Q124.163 324.863 125.182 324.863 Q130.969 324.863 134.348 328.034 Q137.728 331.205 137.728 336.622 Q137.728 342.201 134.256 345.302 Q130.783 348.381 124.464 348.381 Q122.288 348.381 120.02 348.011 Q117.774 347.64 115.367 346.9 L115.367 342.201 Q117.45 343.335 119.672 343.89 Q121.895 344.446 124.371 344.446 Q128.376 344.446 130.714 342.339 Q133.052 340.233 133.052 336.622 Q133.052 333.011 130.714 330.904 Q128.376 328.798 124.371 328.798 Q122.496 328.798 120.621 329.214 Q118.77 329.631 116.825 330.511 L116.825 313.15 Z\" fill=\"#000000\" fill-rule=\"evenodd\" fill-opacity=\"1\" /><path clip-path=\"url(#clip790)\" d=\"M 0 0 M66.617 86.6221 Q69.9735 87.3397 71.8485 89.6082 Q73.7466 91.8767 73.7466 95.21 Q73.7466 100.326 70.2281 103.127 Q66.7096 105.928 60.2282 105.928 Q58.0523 105.928 55.7375 105.488 Q53.4458 105.071 50.9921 104.215 L50.9921 99.7008 Q52.9366 100.835 55.2514 101.414 Q57.5662 101.992 60.0893 101.992 Q64.4874 101.992 66.7791 100.256 Q69.0939 98.5202 69.0939 95.21 Q69.0939 92.1545 66.9411 90.4415 Q64.8115 88.7054 60.9921 88.7054 L56.9643 88.7054 L56.9643 84.8629 L61.1773 84.8629 Q64.6263 84.8629 66.455 83.4971 Q68.2837 82.1083 68.2837 79.5157 Q68.2837 76.8537 66.3856 75.4416 Q64.5106 74.0064 60.9921 74.0064 Q59.0708 74.0064 56.8717 74.4231 Q54.6727 74.8398 52.0338 75.7194 L52.0338 71.5528 Q54.6958 70.812 57.0106 70.4416 Q59.3486 70.0713 61.4087 70.0713 Q66.7328 70.0713 69.8346 72.5018 Q72.9365 74.9092 72.9365 79.0296 Q72.9365 81.8999 71.2929 83.8907 Q69.6494 85.8582 66.617 86.6221 Z\" fill=\"#000000\" fill-rule=\"evenodd\" fill-opacity=\"1\" /><path clip-path=\"url(#clip790)\" d=\"M 0 0 M88.816 73.775 Q85.2049 73.775 83.3762 77.3398 Q81.5707 80.8814 81.5707 88.011 Q81.5707 95.1174 83.3762 98.6822 Q85.2049 102.224 88.816 102.224 Q92.4502 102.224 94.2558 98.6822 Q96.0845 95.1174 96.0845 88.011 Q96.0845 80.8814 94.2558 77.3398 Q92.4502 73.775 88.816 73.775 M88.816 70.0713 Q94.6262 70.0713 97.6817 74.6777 Q100.76 79.261 100.76 88.011 Q100.76 96.7378 97.6817 101.344 Q94.6262 105.928 88.816 105.928 Q83.0058 105.928 79.9272 101.344 Q76.8716 96.7378 76.8716 88.011 Q76.8716 79.261 79.9272 74.6777 Q83.0058 70.0713 88.816 70.0713 Z\" fill=\"#000000\" fill-rule=\"evenodd\" fill-opacity=\"1\" /><path clip-path=\"url(#clip790)\" d=\"M 0 0 M105.83 99.3767 L110.714 99.3767 L110.714 105.256 L105.83 105.256 L105.83 99.3767 Z\" fill=\"#000000\" fill-rule=\"evenodd\" fill-opacity=\"1\" /><path clip-path=\"url(#clip790)\" d=\"M 0 0 M125.783 73.775 Q122.172 73.775 120.344 77.3398 Q118.538 80.8814 118.538 88.011 Q118.538 95.1174 120.344 98.6822 Q122.172 102.224 125.783 102.224 Q129.418 102.224 131.223 98.6822 Q133.052 95.1174 133.052 88.011 Q133.052 80.8814 131.223 77.3398 Q129.418 73.775 125.783 73.775 M125.783 70.0713 Q131.594 70.0713 134.649 74.6777 Q137.728 79.261 137.728 88.011 Q137.728 96.7378 134.649 101.344 Q131.594 105.928 125.783 105.928 Q119.973 105.928 116.895 101.344 Q113.839 96.7378 113.839 88.011 Q113.839 79.261 116.895 74.6777 Q119.973 70.0713 125.783 70.0713 Z\" fill=\"#000000\" fill-rule=\"evenodd\" fill-opacity=\"1\" /><polyline clip-path=\"url(#clip792)\" style=\"stroke:#800080; stroke-width:4; stroke-opacity:1; fill:none\" points=\"\n",
       "  235.398,281.939 256.163,378.92 276.927,378.92 297.692,378.92 318.456,378.92 339.221,475.902 359.985,475.902 380.75,475.902 401.514,475.902 422.279,475.902 \n",
       "  443.044,572.883 463.808,572.883 484.573,572.883 505.337,669.865 526.102,669.865 546.866,669.865 567.631,669.865 588.395,669.865 609.16,475.902 629.924,475.902 \n",
       "  650.689,281.939 671.453,281.939 692.218,281.939 712.982,281.939 733.747,281.939 754.511,281.939 775.276,378.92 796.04,378.92 816.805,378.92 837.569,378.92 \n",
       "  858.334,378.92 879.098,378.92 899.863,378.92 920.627,475.902 941.392,572.883 962.156,669.865 982.921,669.865 1003.69,766.846 1024.45,863.827 1045.21,669.865 \n",
       "  1065.98,766.846 1086.74,766.846 1107.51,766.846 1128.27,572.883 1149.04,572.883 1169.8,572.883 1190.57,572.883 1211.33,572.883 1232.1,669.865 1252.86,669.865 \n",
       "  1273.62,669.865 1294.39,669.865 1315.15,669.865 1335.92,669.865 1356.68,766.846 1377.45,572.883 1398.21,572.883 1418.98,572.883 1439.74,669.865 1460.5,766.846 \n",
       "  1481.27,863.827 1502.03,863.827 1522.8,863.827 1543.56,863.827 1564.33,863.827 1585.09,863.827 1605.86,863.827 1626.62,863.827 1647.39,669.865 1668.15,669.865 \n",
       "  1688.91,669.865 1709.68,669.865 1730.44,669.865 1751.21,669.865 1771.97,669.865 1792.74,766.846 1813.5,766.846 1834.27,766.846 1855.03,766.846 1875.8,766.846 \n",
       "  1896.56,863.827 1917.32,960.809 1938.09,960.809 1958.85,1057.79 1979.62,1057.79 2000.38,1057.79 2021.15,1057.79 2041.91,1057.79 2062.68,1057.79 2083.44,1057.79 \n",
       "  2104.2,1057.79 2124.97,1057.79 2145.73,1057.79 2166.5,863.827 2187.26,863.827 2208.03,863.827 2228.79,960.809 2249.56,960.809 2270.32,766.846 2291.09,766.846 \n",
       "  \n",
       "  \"/>\n",
       "<polyline clip-path=\"url(#clip792)\" style=\"stroke:#008000; stroke-width:4; stroke-opacity:1; fill:none\" points=\"\n",
       "  235.398,87.9763 256.163,378.92 276.927,281.939 297.692,184.958 318.456,184.958 339.221,184.958 359.985,184.958 380.75,378.92 401.514,572.883 422.279,475.902 \n",
       "  443.044,378.92 463.808,572.883 484.573,766.846 505.337,669.865 526.102,669.865 546.866,669.865 567.631,572.883 588.395,475.902 609.16,475.902 629.924,378.92 \n",
       "  650.689,378.92 671.453,572.883 692.218,475.902 712.982,378.92 733.747,572.883 754.511,475.902 775.276,378.92 796.04,572.883 816.805,572.883 837.569,766.846 \n",
       "  858.334,960.809 879.098,960.809 899.863,1154.77 920.627,1057.79 941.392,960.809 962.156,863.827 982.921,863.827 1003.69,766.846 1024.45,669.865 1045.21,669.865 \n",
       "  1065.98,572.883 1086.74,572.883 1107.51,572.883 1128.27,572.883 1149.04,475.902 1169.8,475.902 1190.57,669.865 1211.33,572.883 1232.1,475.902 1252.86,475.902 \n",
       "  1273.62,475.902 1294.39,669.865 1315.15,669.865 1335.92,572.883 1356.68,475.902 1377.45,475.902 1398.21,475.902 1418.98,378.92 1439.74,281.939 1460.5,184.958 \n",
       "  1481.27,87.9763 1502.03,281.939 1522.8,475.902 1543.56,669.865 1564.33,669.865 1585.09,572.883 1605.86,766.846 1626.62,669.865 1647.39,669.865 1668.15,572.883 \n",
       "  1688.91,766.846 1709.68,669.865 1730.44,572.883 1751.21,766.846 1771.97,766.846 1792.74,669.865 1813.5,863.827 1834.27,863.827 1855.03,863.827 1875.8,863.827 \n",
       "  1896.56,766.846 1917.32,669.865 1938.09,863.827 1958.85,766.846 1979.62,766.846 2000.38,669.865 2021.15,863.827 2041.91,1057.79 2062.68,960.809 2083.44,960.809 \n",
       "  2104.2,960.809 2124.97,1154.77 2145.73,1348.73 2166.5,1348.73 2187.26,1348.73 2208.03,1348.73 2228.79,1251.75 2249.56,1445.72 2270.32,1445.72 2291.09,1445.72 \n",
       "  \n",
       "  \"/>\n",
       "<path clip-path=\"url(#clip790)\" d=\"\n",
       "M1831.99 276.658 L2280.12 276.658 L2280.12 95.2176 L1831.99 95.2176  Z\n",
       "  \" fill=\"#ffffff\" fill-rule=\"evenodd\" fill-opacity=\"1\"/>\n",
       "<polyline clip-path=\"url(#clip790)\" style=\"stroke:#000000; stroke-width:4; stroke-opacity:1; fill:none\" points=\"\n",
       "  1831.99,276.658 2280.12,276.658 2280.12,95.2176 1831.99,95.2176 1831.99,276.658 \n",
       "  \"/>\n",
       "<polyline clip-path=\"url(#clip790)\" style=\"stroke:#800080; stroke-width:4; stroke-opacity:1; fill:none\" points=\"\n",
       "  1856.2,155.698 2001.47,155.698 \n",
       "  \"/>\n",
       "<path clip-path=\"url(#clip790)\" d=\"M 0 0 M2044.59 159.714 Q2044.59 155.084 2042.67 152.538 Q2040.77 149.992 2037.32 149.992 Q2033.9 149.992 2031.98 152.538 Q2030.08 155.084 2030.08 159.714 Q2030.08 164.32 2031.98 166.866 Q2033.9 169.413 2037.32 169.413 Q2040.77 169.413 2042.67 166.866 Q2044.59 164.32 2044.59 159.714 M2048.85 169.76 Q2048.85 176.38 2045.91 179.598 Q2042.97 182.839 2036.91 182.839 Q2034.66 182.839 2032.67 182.491 Q2030.68 182.167 2028.81 181.473 L2028.81 177.329 Q2030.68 178.348 2032.51 178.834 Q2034.34 179.32 2036.24 179.32 Q2040.43 179.32 2042.51 177.121 Q2044.59 174.945 2044.59 170.524 L2044.59 168.417 Q2043.27 170.709 2041.21 171.843 Q2039.15 172.978 2036.28 172.978 Q2031.51 172.978 2028.6 169.343 Q2025.68 165.709 2025.68 159.714 Q2025.68 153.695 2028.6 150.061 Q2031.51 146.427 2036.28 146.427 Q2039.15 146.427 2041.21 147.561 Q2043.27 148.695 2044.59 150.987 L2044.59 147.052 L2048.85 147.052 L2048.85 169.76 Z\" fill=\"#000000\" fill-rule=\"evenodd\" fill-opacity=\"1\" /><path clip-path=\"url(#clip790)\" d=\"M 0 0 M2063.37 150.038 Q2059.94 150.038 2057.95 152.723 Q2055.96 155.385 2055.96 160.038 Q2055.96 164.691 2057.93 167.376 Q2059.92 170.038 2063.37 170.038 Q2066.77 170.038 2068.76 167.353 Q2070.75 164.667 2070.75 160.038 Q2070.75 155.431 2068.76 152.746 Q2066.77 150.038 2063.37 150.038 M2063.37 146.427 Q2068.92 146.427 2072.09 150.038 Q2075.26 153.649 2075.26 160.038 Q2075.26 166.404 2072.09 170.038 Q2068.92 173.649 2063.37 173.649 Q2057.79 173.649 2054.62 170.038 Q2051.47 166.404 2051.47 160.038 Q2051.47 153.649 2054.62 150.038 Q2057.79 146.427 2063.37 146.427 Z\" fill=\"#000000\" fill-rule=\"evenodd\" fill-opacity=\"1\" /><path clip-path=\"url(#clip790)\" d=\"M 0 0 M2079.87 136.959 L2084.13 136.959 L2084.13 150.894 L2087.02 148.811 L2088.78 151.265 L2084.13 154.529 L2084.13 172.978 L2079.87 172.978 L2079.87 157.561 L2077.02 159.598 L2075.31 157.144 L2079.87 153.88 L2079.87 136.959 Z\" fill=\"#000000\" fill-rule=\"evenodd\" fill-opacity=\"1\" /><path clip-path=\"url(#clip790)\" d=\"M 0 0 M2115.43 158.95 L2115.43 161.033 L2095.84 161.033 Q2096.12 165.431 2098.48 167.746 Q2100.87 170.038 2105.1 170.038 Q2107.56 170.038 2109.85 169.436 Q2112.16 168.834 2114.43 167.63 L2114.43 171.658 Q2112.14 172.63 2109.73 173.14 Q2107.32 173.649 2104.85 173.649 Q2098.64 173.649 2095.01 170.038 Q2091.4 166.427 2091.4 160.269 Q2091.4 153.904 2094.82 150.177 Q2098.27 146.427 2104.11 146.427 Q2109.34 146.427 2112.37 149.806 Q2115.43 153.163 2115.43 158.95 M2111.17 157.7 Q2111.12 154.205 2109.2 152.121 Q2107.3 150.038 2104.15 150.038 Q2100.59 150.038 2098.44 152.052 Q2096.31 154.066 2095.98 157.723 L2111.17 157.7 M2107.67 172.978 L2110.43 172.978 Q2109.38 174.39 2108.88 175.408 Q2108.39 176.427 2108.39 177.144 Q2108.39 178.209 2109.01 178.741 Q2109.66 179.274 2110.91 179.274 Q2111.65 179.274 2112.37 179.089 Q2113.09 178.927 2113.81 178.579 L2113.81 181.658 Q2112.93 181.89 2112.14 182.005 Q2111.35 182.121 2110.66 182.121 Q2107.83 182.121 2106.49 181.103 Q2105.17 180.107 2105.17 177.954 Q2105.17 176.843 2105.77 175.616 Q2106.4 174.413 2107.67 172.978 Z\" fill=\"#000000\" fill-rule=\"evenodd\" fill-opacity=\"1\" /><path clip-path=\"url(#clip790)\" d=\"M 0 0 M2138.5 160.038 Q2138.5 155.339 2136.56 152.677 Q2134.64 149.992 2131.26 149.992 Q2127.88 149.992 2125.94 152.677 Q2124.01 155.339 2124.01 160.038 Q2124.01 164.737 2125.94 167.422 Q2127.88 170.084 2131.26 170.084 Q2134.64 170.084 2136.56 167.422 Q2138.5 164.737 2138.5 160.038 M2124.01 150.987 Q2125.36 148.672 2127.39 147.561 Q2129.45 146.427 2132.3 146.427 Q2137.02 146.427 2139.96 150.177 Q2142.93 153.927 2142.93 160.038 Q2142.93 166.149 2139.96 169.899 Q2137.02 173.649 2132.3 173.649 Q2129.45 173.649 2127.39 172.538 Q2125.36 171.403 2124.01 169.089 L2124.01 172.978 L2119.73 172.978 L2119.73 136.959 L2124.01 136.959 L2124.01 150.987 Z\" fill=\"#000000\" fill-rule=\"evenodd\" fill-opacity=\"1\" /><path clip-path=\"url(#clip790)\" d=\"M 0 0 M2147.39 147.052 L2151.65 147.052 L2151.65 172.978 L2147.39 172.978 L2147.39 147.052 M2147.39 136.959 L2151.65 136.959 L2151.65 142.353 L2147.39 142.353 L2147.39 136.959 Z\" fill=\"#000000\" fill-rule=\"evenodd\" fill-opacity=\"1\" /><path clip-path=\"url(#clip790)\" d=\"M 0 0 M2178.3 158.95 L2178.3 161.033 L2158.71 161.033 Q2158.99 165.431 2161.35 167.746 Q2163.74 170.038 2167.97 170.038 Q2170.43 170.038 2172.72 169.436 Q2175.03 168.834 2177.3 167.63 L2177.3 171.658 Q2175.01 172.63 2172.6 173.14 Q2170.19 173.649 2167.72 173.649 Q2161.51 173.649 2157.88 170.038 Q2154.27 166.427 2154.27 160.269 Q2154.27 153.904 2157.69 150.177 Q2161.14 146.427 2166.98 146.427 Q2172.21 146.427 2175.24 149.806 Q2178.3 153.163 2178.3 158.95 M2174.04 157.7 Q2173.99 154.205 2172.07 152.121 Q2170.17 150.038 2167.02 150.038 Q2163.46 150.038 2161.31 152.052 Q2159.18 154.066 2158.85 157.723 L2174.04 157.7 Z\" fill=\"#000000\" fill-rule=\"evenodd\" fill-opacity=\"1\" /><polyline clip-path=\"url(#clip790)\" style=\"stroke:#008000; stroke-width:4; stroke-opacity:1; fill:none\" points=\"\n",
       "  1856.2,216.178 2001.47,216.178 \n",
       "  \"/>\n",
       "<path clip-path=\"url(#clip790)\" d=\"M 0 0 M2031.01 207.532 L2035.26 207.532 L2035.26 233.921 Q2035.26 238.874 2033.37 241.096 Q2031.49 243.319 2027.3 243.319 L2025.68 243.319 L2025.68 239.708 L2026.82 239.708 Q2029.25 239.708 2030.13 238.573 Q2031.01 237.462 2031.01 233.921 L2031.01 207.532 M2031.01 197.439 L2035.26 197.439 L2035.26 202.833 L2031.01 202.833 L2031.01 197.439 Z\" fill=\"#000000\" fill-rule=\"evenodd\" fill-opacity=\"1\" /><path clip-path=\"url(#clip790)\" d=\"M 0 0 M2051.51 220.425 Q2046.35 220.425 2044.36 221.606 Q2042.37 222.786 2042.37 225.634 Q2042.37 227.902 2043.85 229.245 Q2045.36 230.564 2047.93 230.564 Q2051.47 230.564 2053.6 228.064 Q2055.75 225.541 2055.75 221.374 L2055.75 220.425 L2051.51 220.425 M2060.01 218.666 L2060.01 233.458 L2055.75 233.458 L2055.75 229.522 Q2054.29 231.883 2052.12 233.018 Q2049.94 234.129 2046.79 234.129 Q2042.81 234.129 2040.45 231.907 Q2038.11 229.661 2038.11 225.911 Q2038.11 221.536 2041.03 219.314 Q2043.97 217.092 2049.78 217.092 L2055.75 217.092 L2055.75 216.675 Q2055.75 213.735 2053.81 212.138 Q2051.88 210.518 2048.39 210.518 Q2046.17 210.518 2044.06 211.05 Q2041.95 211.583 2040.01 212.647 L2040.01 208.712 Q2042.35 207.81 2044.55 207.37 Q2046.75 206.907 2048.83 206.907 Q2054.45 206.907 2057.23 209.823 Q2060.01 212.74 2060.01 218.666 Z\" fill=\"#000000\" fill-rule=\"evenodd\" fill-opacity=\"1\" /><path clip-path=\"url(#clip790)\" d=\"M 0 0 M2081.01 208.296 L2081.01 212.323 Q2079.2 211.397 2077.26 210.935 Q2075.31 210.472 2073.23 210.472 Q2070.06 210.472 2068.46 211.444 Q2066.88 212.416 2066.88 214.36 Q2066.88 215.842 2068.02 216.698 Q2069.15 217.532 2072.58 218.296 L2074.04 218.62 Q2078.57 219.592 2080.47 221.374 Q2082.39 223.134 2082.39 226.305 Q2082.39 229.916 2079.52 232.022 Q2076.68 234.129 2071.68 234.129 Q2069.59 234.129 2067.32 233.712 Q2065.08 233.319 2062.58 232.508 L2062.58 228.11 Q2064.94 229.337 2067.23 229.962 Q2069.52 230.564 2071.77 230.564 Q2074.78 230.564 2076.4 229.546 Q2078.02 228.504 2078.02 226.629 Q2078.02 224.893 2076.84 223.967 Q2075.68 223.041 2071.72 222.184 L2070.24 221.837 Q2066.28 221.004 2064.52 219.291 Q2062.76 217.555 2062.76 214.546 Q2062.76 210.888 2065.36 208.898 Q2067.95 206.907 2072.72 206.907 Q2075.08 206.907 2077.16 207.254 Q2079.25 207.601 2081.01 208.296 Z\" fill=\"#000000\" fill-rule=\"evenodd\" fill-opacity=\"1\" /><path clip-path=\"url(#clip790)\" d=\"M 0 0 M2091.07 200.171 L2091.07 207.532 L2099.85 207.532 L2099.85 210.842 L2091.07 210.842 L2091.07 224.916 Q2091.07 228.087 2091.93 228.99 Q2092.81 229.893 2095.47 229.893 L2099.85 229.893 L2099.85 233.458 L2095.47 233.458 Q2090.54 233.458 2088.67 231.629 Q2086.79 229.777 2086.79 224.916 L2086.79 210.842 L2083.67 210.842 L2083.67 207.532 L2086.79 207.532 L2086.79 200.171 L2091.07 200.171 Z\" fill=\"#000000\" fill-rule=\"evenodd\" fill-opacity=\"1\" /><path clip-path=\"url(#clip790)\" d=\"M 0 0 M2119.34 211.513 Q2118.62 211.097 2117.76 210.911 Q2116.93 210.703 2115.91 210.703 Q2112.3 210.703 2110.36 213.064 Q2108.44 215.402 2108.44 219.8 L2108.44 233.458 L2104.15 233.458 L2104.15 207.532 L2108.44 207.532 L2108.44 211.56 Q2109.78 209.198 2111.93 208.064 Q2114.08 206.907 2117.16 206.907 Q2117.6 206.907 2118.13 206.976 Q2118.67 207.023 2119.32 207.138 L2119.34 211.513 Z\" fill=\"#000000\" fill-rule=\"evenodd\" fill-opacity=\"1\" /><path clip-path=\"url(#clip790)\" d=\"M 0 0 M2121.95 207.532 L2142.19 207.532 L2142.19 211.421 L2126.17 230.055 L2142.19 230.055 L2142.19 233.458 L2121.38 233.458 L2121.38 229.569 L2137.39 210.935 L2121.95 210.935 L2121.95 207.532 Z\" fill=\"#000000\" fill-rule=\"evenodd\" fill-opacity=\"1\" /><path clip-path=\"url(#clip790)\" d=\"M 0 0 M2168.83 219.43 L2168.83 221.513 L2149.25 221.513 Q2149.52 225.911 2151.88 228.226 Q2154.27 230.518 2158.5 230.518 Q2160.96 230.518 2163.25 229.916 Q2165.56 229.314 2167.83 228.11 L2167.83 232.138 Q2165.54 233.11 2163.13 233.62 Q2160.73 234.129 2158.25 234.129 Q2152.05 234.129 2148.41 230.518 Q2144.8 226.907 2144.8 220.749 Q2144.8 214.384 2148.23 210.657 Q2151.68 206.907 2157.51 206.907 Q2162.74 206.907 2165.77 210.286 Q2168.83 213.643 2168.83 219.43 M2164.57 218.18 Q2164.52 214.685 2162.6 212.601 Q2160.7 210.518 2157.56 210.518 Q2153.99 210.518 2151.84 212.532 Q2149.71 214.546 2149.38 218.203 L2164.57 218.18 M2161.07 233.458 L2163.83 233.458 Q2162.79 234.87 2162.28 235.888 Q2161.79 236.907 2161.79 237.624 Q2161.79 238.689 2162.42 239.221 Q2163.06 239.754 2164.31 239.754 Q2165.06 239.754 2165.77 239.569 Q2166.49 239.407 2167.21 239.059 L2167.21 242.138 Q2166.33 242.37 2165.54 242.485 Q2164.75 242.601 2164.06 242.601 Q2161.24 242.601 2159.89 241.583 Q2158.57 240.587 2158.57 238.434 Q2158.57 237.323 2159.18 236.096 Q2159.8 234.893 2161.07 233.458 Z\" fill=\"#000000\" fill-rule=\"evenodd\" fill-opacity=\"1\" /><path clip-path=\"url(#clip790)\" d=\"M 0 0 M2191.91 220.518 Q2191.91 215.819 2189.96 213.157 Q2188.04 210.472 2184.66 210.472 Q2181.28 210.472 2179.34 213.157 Q2177.42 215.819 2177.42 220.518 Q2177.42 225.217 2179.34 227.902 Q2181.28 230.564 2184.66 230.564 Q2188.04 230.564 2189.96 227.902 Q2191.91 225.217 2191.91 220.518 M2177.42 211.467 Q2178.76 209.152 2180.8 208.041 Q2182.86 206.907 2185.7 206.907 Q2190.43 206.907 2193.37 210.657 Q2196.33 214.407 2196.33 220.518 Q2196.33 226.629 2193.37 230.379 Q2190.43 234.129 2185.7 234.129 Q2182.86 234.129 2180.8 233.018 Q2178.76 231.883 2177.42 229.569 L2177.42 233.458 L2173.13 233.458 L2173.13 197.439 L2177.42 197.439 L2177.42 211.467 Z\" fill=\"#000000\" fill-rule=\"evenodd\" fill-opacity=\"1\" /><path clip-path=\"url(#clip790)\" d=\"M 0 0 M2200.8 207.532 L2205.06 207.532 L2205.06 233.458 L2200.8 233.458 L2200.8 207.532 M2200.8 197.439 L2205.06 197.439 L2205.06 202.833 L2200.8 202.833 L2200.8 197.439 Z\" fill=\"#000000\" fill-rule=\"evenodd\" fill-opacity=\"1\" /><path clip-path=\"url(#clip790)\" d=\"M 0 0 M2231.7 219.43 L2231.7 221.513 L2212.12 221.513 Q2212.39 225.911 2214.75 228.226 Q2217.14 230.518 2221.37 230.518 Q2223.83 230.518 2226.12 229.916 Q2228.43 229.314 2230.7 228.11 L2230.7 232.138 Q2228.41 233.11 2226 233.62 Q2223.6 234.129 2221.12 234.129 Q2214.92 234.129 2211.28 230.518 Q2207.67 226.907 2207.67 220.749 Q2207.67 214.384 2211.1 210.657 Q2214.55 206.907 2220.38 206.907 Q2225.61 206.907 2228.64 210.286 Q2231.7 213.643 2231.7 219.43 M2227.44 218.18 Q2227.39 214.685 2225.47 212.601 Q2223.57 210.518 2220.43 210.518 Q2216.86 210.518 2214.71 212.532 Q2212.58 214.546 2212.25 218.203 L2227.44 218.18 Z\" fill=\"#000000\" fill-rule=\"evenodd\" fill-opacity=\"1\" /></svg>\n"
      ]
     },
     "execution_count": 51,
     "metadata": {},
     "output_type": "execute_result"
    }
   ],
   "source": [
    "A = action(9,9,30,30, 100, zeros(Int64, 100, 2))\n",
    "plot(1:size(A)[1], A[:, 1], label=\"gołębie\", color= :purple)\n",
    "plot!(1:size(A)[1], A[:, 2], label=\"jastrzębie\", color= :green)"
   ]
  },
  {
   "cell_type": "code",
   "execution_count": 54,
   "metadata": {},
   "outputs": [
    {
     "data": {
      "image/svg+xml": [
       "<?xml version=\"1.0\" encoding=\"utf-8\"?>\n",
       "<svg xmlns=\"http://www.w3.org/2000/svg\" xmlns:xlink=\"http://www.w3.org/1999/xlink\" width=\"600\" height=\"400\" viewBox=\"0 0 2400 1600\">\n",
       "<defs>\n",
       "  <clipPath id=\"clip910\">\n",
       "    <rect x=\"0\" y=\"0\" width=\"2400\" height=\"1600\"/>\n",
       "  </clipPath>\n",
       "</defs>\n",
       "<path clip-path=\"url(#clip910)\" d=\"\n",
       "M0 1600 L2400 1600 L2400 0 L0 0  Z\n",
       "  \" fill=\"#ffffff\" fill-rule=\"evenodd\" fill-opacity=\"1\"/>\n",
       "<defs>\n",
       "  <clipPath id=\"clip911\">\n",
       "    <rect x=\"480\" y=\"0\" width=\"1681\" height=\"1600\"/>\n",
       "  </clipPath>\n",
       "</defs>\n",
       "<path clip-path=\"url(#clip910)\" d=\"\n",
       "M136.76 1486.45 L2352.76 1486.45 L2352.76 47.2441 L136.76 47.2441  Z\n",
       "  \" fill=\"#ffffff\" fill-rule=\"evenodd\" fill-opacity=\"1\"/>\n",
       "<defs>\n",
       "  <clipPath id=\"clip912\">\n",
       "    <rect x=\"136\" y=\"47\" width=\"2217\" height=\"1440\"/>\n",
       "  </clipPath>\n",
       "</defs>\n",
       "<polyline clip-path=\"url(#clip912)\" style=\"stroke:#000000; stroke-width:2; stroke-opacity:0.1; fill:none\" points=\"\n",
       "  178.36,1486.45 178.36,47.2441 \n",
       "  \"/>\n",
       "<polyline clip-path=\"url(#clip912)\" style=\"stroke:#000000; stroke-width:2; stroke-opacity:0.1; fill:none\" points=\"\n",
       "  706.28,1486.45 706.28,47.2441 \n",
       "  \"/>\n",
       "<polyline clip-path=\"url(#clip912)\" style=\"stroke:#000000; stroke-width:2; stroke-opacity:0.1; fill:none\" points=\"\n",
       "  1234.2,1486.45 1234.2,47.2441 \n",
       "  \"/>\n",
       "<polyline clip-path=\"url(#clip912)\" style=\"stroke:#000000; stroke-width:2; stroke-opacity:0.1; fill:none\" points=\"\n",
       "  1762.12,1486.45 1762.12,47.2441 \n",
       "  \"/>\n",
       "<polyline clip-path=\"url(#clip912)\" style=\"stroke:#000000; stroke-width:2; stroke-opacity:0.1; fill:none\" points=\"\n",
       "  2290.04,1486.45 2290.04,47.2441 \n",
       "  \"/>\n",
       "<polyline clip-path=\"url(#clip910)\" style=\"stroke:#000000; stroke-width:4; stroke-opacity:1; fill:none\" points=\"\n",
       "  136.76,1486.45 2352.76,1486.45 \n",
       "  \"/>\n",
       "<polyline clip-path=\"url(#clip910)\" style=\"stroke:#000000; stroke-width:4; stroke-opacity:1; fill:none\" points=\"\n",
       "  178.36,1486.45 178.36,1469.18 \n",
       "  \"/>\n",
       "<polyline clip-path=\"url(#clip910)\" style=\"stroke:#000000; stroke-width:4; stroke-opacity:1; fill:none\" points=\"\n",
       "  706.28,1486.45 706.28,1469.18 \n",
       "  \"/>\n",
       "<polyline clip-path=\"url(#clip910)\" style=\"stroke:#000000; stroke-width:4; stroke-opacity:1; fill:none\" points=\"\n",
       "  1234.2,1486.45 1234.2,1469.18 \n",
       "  \"/>\n",
       "<polyline clip-path=\"url(#clip910)\" style=\"stroke:#000000; stroke-width:4; stroke-opacity:1; fill:none\" points=\"\n",
       "  1762.12,1486.45 1762.12,1469.18 \n",
       "  \"/>\n",
       "<polyline clip-path=\"url(#clip910)\" style=\"stroke:#000000; stroke-width:4; stroke-opacity:1; fill:none\" points=\"\n",
       "  2290.04,1486.45 2290.04,1469.18 \n",
       "  \"/>\n",
       "<path clip-path=\"url(#clip910)\" d=\"M 0 0 M178.36 1515.64 Q174.749 1515.64 172.921 1519.2 Q171.115 1522.75 171.115 1529.87 Q171.115 1536.98 172.921 1540.55 Q174.749 1544.09 178.36 1544.09 Q181.995 1544.09 183.8 1540.55 Q185.629 1536.98 185.629 1529.87 Q185.629 1522.75 183.8 1519.2 Q181.995 1515.64 178.36 1515.64 M178.36 1511.93 Q184.171 1511.93 187.226 1516.54 Q190.305 1521.12 190.305 1529.87 Q190.305 1538.6 187.226 1543.21 Q184.171 1547.79 178.36 1547.79 Q172.55 1547.79 169.472 1543.21 Q166.416 1538.6 166.416 1529.87 Q166.416 1521.12 169.472 1516.54 Q172.55 1511.93 178.36 1511.93 Z\" fill=\"#000000\" fill-rule=\"evenodd\" fill-opacity=\"1\" /><path clip-path=\"url(#clip910)\" d=\"M 0 0 M687.924 1543.18 L704.243 1543.18 L704.243 1547.12 L682.299 1547.12 L682.299 1543.18 Q684.961 1540.43 689.544 1535.8 Q694.151 1531.15 695.331 1529.81 Q697.576 1527.28 698.456 1525.55 Q699.359 1523.79 699.359 1522.1 Q699.359 1519.34 697.414 1517.61 Q695.493 1515.87 692.391 1515.87 Q690.192 1515.87 687.739 1516.63 Q685.308 1517.4 682.53 1518.95 L682.53 1514.23 Q685.354 1513.09 687.808 1512.51 Q690.262 1511.93 692.299 1511.93 Q697.669 1511.93 700.863 1514.62 Q704.058 1517.31 704.058 1521.8 Q704.058 1523.93 703.248 1525.85 Q702.461 1527.74 700.354 1530.34 Q699.776 1531.01 696.674 1534.23 Q693.572 1537.42 687.924 1543.18 Z\" fill=\"#000000\" fill-rule=\"evenodd\" fill-opacity=\"1\" /><path clip-path=\"url(#clip910)\" d=\"M 0 0 M709.359 1512.56 L727.715 1512.56 L727.715 1516.5 L713.641 1516.5 L713.641 1524.97 Q714.66 1524.62 715.678 1524.46 Q716.697 1524.27 717.715 1524.27 Q723.502 1524.27 726.882 1527.44 Q730.261 1530.62 730.261 1536.03 Q730.261 1541.61 726.789 1544.71 Q723.317 1547.79 716.998 1547.79 Q714.822 1547.79 712.553 1547.42 Q710.308 1547.05 707.9 1546.31 L707.9 1541.61 Q709.984 1542.74 712.206 1543.3 Q714.428 1543.86 716.905 1543.86 Q720.91 1543.86 723.248 1541.75 Q725.586 1539.64 725.586 1536.03 Q725.586 1532.42 723.248 1530.31 Q720.91 1528.21 716.905 1528.21 Q715.03 1528.21 713.155 1528.62 Q711.303 1529.04 709.359 1529.92 L709.359 1512.56 Z\" fill=\"#000000\" fill-rule=\"evenodd\" fill-opacity=\"1\" /><path clip-path=\"url(#clip910)\" d=\"M 0 0 M1210.97 1512.56 L1229.33 1512.56 L1229.33 1516.5 L1215.25 1516.5 L1215.25 1524.97 Q1216.27 1524.62 1217.29 1524.46 Q1218.31 1524.27 1219.33 1524.27 Q1225.11 1524.27 1228.49 1527.44 Q1231.87 1530.62 1231.87 1536.03 Q1231.87 1541.61 1228.4 1544.71 Q1224.93 1547.79 1218.61 1547.79 Q1216.43 1547.79 1214.17 1547.42 Q1211.92 1547.05 1209.51 1546.31 L1209.51 1541.61 Q1211.6 1542.74 1213.82 1543.3 Q1216.04 1543.86 1218.52 1543.86 Q1222.52 1543.86 1224.86 1541.75 Q1227.2 1539.64 1227.2 1536.03 Q1227.2 1532.42 1224.86 1530.31 Q1222.52 1528.21 1218.52 1528.21 Q1216.64 1528.21 1214.77 1528.62 Q1212.92 1529.04 1210.97 1529.92 L1210.97 1512.56 Z\" fill=\"#000000\" fill-rule=\"evenodd\" fill-opacity=\"1\" /><path clip-path=\"url(#clip910)\" d=\"M 0 0 M1246.94 1515.64 Q1243.33 1515.64 1241.5 1519.2 Q1239.7 1522.75 1239.7 1529.87 Q1239.7 1536.98 1241.5 1540.55 Q1243.33 1544.09 1246.94 1544.09 Q1250.58 1544.09 1252.38 1540.55 Q1254.21 1536.98 1254.21 1529.87 Q1254.21 1522.75 1252.38 1519.2 Q1250.58 1515.64 1246.94 1515.64 M1246.94 1511.93 Q1252.75 1511.93 1255.81 1516.54 Q1258.89 1521.12 1258.89 1529.87 Q1258.89 1538.6 1255.81 1543.21 Q1252.75 1547.79 1246.94 1547.79 Q1241.13 1547.79 1238.05 1543.21 Q1235 1538.6 1235 1529.87 Q1235 1521.12 1238.05 1516.54 Q1241.13 1511.93 1246.94 1511.93 Z\" fill=\"#000000\" fill-rule=\"evenodd\" fill-opacity=\"1\" /><path clip-path=\"url(#clip910)\" d=\"M 0 0 M1738 1512.56 L1760.22 1512.56 L1760.22 1514.55 L1747.68 1547.12 L1742.79 1547.12 L1754.6 1516.5 L1738 1516.5 L1738 1512.56 Z\" fill=\"#000000\" fill-rule=\"evenodd\" fill-opacity=\"1\" /><path clip-path=\"url(#clip910)\" d=\"M 0 0 M1765.34 1512.56 L1783.69 1512.56 L1783.69 1516.5 L1769.62 1516.5 L1769.62 1524.97 Q1770.64 1524.62 1771.66 1524.46 Q1772.67 1524.27 1773.69 1524.27 Q1779.48 1524.27 1782.86 1527.44 Q1786.24 1530.62 1786.24 1536.03 Q1786.24 1541.61 1782.77 1544.71 Q1779.3 1547.79 1772.98 1547.79 Q1770.8 1547.79 1768.53 1547.42 Q1766.29 1547.05 1763.88 1546.31 L1763.88 1541.61 Q1765.96 1542.74 1768.18 1543.3 Q1770.41 1543.86 1772.88 1543.86 Q1776.89 1543.86 1779.23 1541.75 Q1781.56 1539.64 1781.56 1536.03 Q1781.56 1532.42 1779.23 1530.31 Q1776.89 1528.21 1772.88 1528.21 Q1771.01 1528.21 1769.13 1528.62 Q1767.28 1529.04 1765.34 1529.92 L1765.34 1512.56 Z\" fill=\"#000000\" fill-rule=\"evenodd\" fill-opacity=\"1\" /><path clip-path=\"url(#clip910)\" d=\"M 0 0 M2253.41 1543.18 L2261.05 1543.18 L2261.05 1516.82 L2252.74 1518.49 L2252.74 1514.23 L2261 1512.56 L2265.68 1512.56 L2265.68 1543.18 L2273.31 1543.18 L2273.31 1547.12 L2253.41 1547.12 L2253.41 1543.18 Z\" fill=\"#000000\" fill-rule=\"evenodd\" fill-opacity=\"1\" /><path clip-path=\"url(#clip910)\" d=\"M 0 0 M2288.38 1515.64 Q2284.77 1515.64 2282.94 1519.2 Q2281.14 1522.75 2281.14 1529.87 Q2281.14 1536.98 2282.94 1540.55 Q2284.77 1544.09 2288.38 1544.09 Q2292.02 1544.09 2293.82 1540.55 Q2295.65 1536.98 2295.65 1529.87 Q2295.65 1522.75 2293.82 1519.2 Q2292.02 1515.64 2288.38 1515.64 M2288.38 1511.93 Q2294.19 1511.93 2297.25 1516.54 Q2300.33 1521.12 2300.33 1529.87 Q2300.33 1538.6 2297.25 1543.21 Q2294.19 1547.79 2288.38 1547.79 Q2282.57 1547.79 2279.5 1543.21 Q2276.44 1538.6 2276.44 1529.87 Q2276.44 1521.12 2279.5 1516.54 Q2282.57 1511.93 2288.38 1511.93 Z\" fill=\"#000000\" fill-rule=\"evenodd\" fill-opacity=\"1\" /><path clip-path=\"url(#clip910)\" d=\"M 0 0 M2315.4 1515.64 Q2311.79 1515.64 2309.96 1519.2 Q2308.15 1522.75 2308.15 1529.87 Q2308.15 1536.98 2309.96 1540.55 Q2311.79 1544.09 2315.4 1544.09 Q2319.03 1544.09 2320.84 1540.55 Q2322.67 1536.98 2322.67 1529.87 Q2322.67 1522.75 2320.84 1519.2 Q2319.03 1515.64 2315.4 1515.64 M2315.4 1511.93 Q2321.21 1511.93 2324.26 1516.54 Q2327.34 1521.12 2327.34 1529.87 Q2327.34 1538.6 2324.26 1543.21 Q2321.21 1547.79 2315.4 1547.79 Q2309.59 1547.79 2306.51 1543.21 Q2303.45 1538.6 2303.45 1529.87 Q2303.45 1521.12 2306.51 1516.54 Q2309.59 1511.93 2315.4 1511.93 Z\" fill=\"#000000\" fill-rule=\"evenodd\" fill-opacity=\"1\" /><polyline clip-path=\"url(#clip912)\" style=\"stroke:#000000; stroke-width:2; stroke-opacity:0.1; fill:none\" points=\"\n",
       "  136.76,1322.28 2352.76,1322.28 \n",
       "  \"/>\n",
       "<polyline clip-path=\"url(#clip912)\" style=\"stroke:#000000; stroke-width:2; stroke-opacity:0.1; fill:none\" points=\"\n",
       "  136.76,1013.71 2352.76,1013.71 \n",
       "  \"/>\n",
       "<polyline clip-path=\"url(#clip912)\" style=\"stroke:#000000; stroke-width:2; stroke-opacity:0.1; fill:none\" points=\"\n",
       "  136.76,705.131 2352.76,705.131 \n",
       "  \"/>\n",
       "<polyline clip-path=\"url(#clip912)\" style=\"stroke:#000000; stroke-width:2; stroke-opacity:0.1; fill:none\" points=\"\n",
       "  136.76,396.553 2352.76,396.553 \n",
       "  \"/>\n",
       "<polyline clip-path=\"url(#clip912)\" style=\"stroke:#000000; stroke-width:2; stroke-opacity:0.1; fill:none\" points=\"\n",
       "  136.76,87.9763 2352.76,87.9763 \n",
       "  \"/>\n",
       "<polyline clip-path=\"url(#clip910)\" style=\"stroke:#000000; stroke-width:4; stroke-opacity:1; fill:none\" points=\"\n",
       "  136.76,1486.45 136.76,47.2441 \n",
       "  \"/>\n",
       "<polyline clip-path=\"url(#clip910)\" style=\"stroke:#000000; stroke-width:4; stroke-opacity:1; fill:none\" points=\"\n",
       "  136.76,1322.28 163.352,1322.28 \n",
       "  \"/>\n",
       "<polyline clip-path=\"url(#clip910)\" style=\"stroke:#000000; stroke-width:4; stroke-opacity:1; fill:none\" points=\"\n",
       "  136.76,1013.71 163.352,1013.71 \n",
       "  \"/>\n",
       "<polyline clip-path=\"url(#clip910)\" style=\"stroke:#000000; stroke-width:4; stroke-opacity:1; fill:none\" points=\"\n",
       "  136.76,705.131 163.352,705.131 \n",
       "  \"/>\n",
       "<polyline clip-path=\"url(#clip910)\" style=\"stroke:#000000; stroke-width:4; stroke-opacity:1; fill:none\" points=\"\n",
       "  136.76,396.553 163.352,396.553 \n",
       "  \"/>\n",
       "<polyline clip-path=\"url(#clip910)\" style=\"stroke:#000000; stroke-width:4; stroke-opacity:1; fill:none\" points=\"\n",
       "  136.76,87.9763 163.352,87.9763 \n",
       "  \"/>\n",
       "<path clip-path=\"url(#clip910)\" d=\"M 0 0 M54.8347 1335.63 L62.4735 1335.63 L62.4735 1309.26 L54.1634 1310.93 L54.1634 1306.67 L62.4272 1305 L67.1032 1305 L67.1032 1335.63 L74.742 1335.63 L74.742 1339.56 L54.8347 1339.56 L54.8347 1335.63 Z\" fill=\"#000000\" fill-rule=\"evenodd\" fill-opacity=\"1\" /><path clip-path=\"url(#clip910)\" d=\"M 0 0 M79.8577 1305 L98.2141 1305 L98.2141 1308.94 L84.1401 1308.94 L84.1401 1317.41 Q85.1586 1317.06 86.1771 1316.9 Q87.1956 1316.72 88.2141 1316.72 Q94.0012 1316.72 97.3808 1319.89 Q100.76 1323.06 100.76 1328.48 Q100.76 1334.06 97.2882 1337.16 Q93.816 1340.24 87.4966 1340.24 Q85.3206 1340.24 83.0521 1339.87 Q80.8068 1339.5 78.3994 1338.75 L78.3994 1334.06 Q80.4827 1335.19 82.7049 1335.75 Q84.9271 1336.3 87.404 1336.3 Q91.4086 1336.3 93.7465 1334.19 Q96.0845 1332.09 96.0845 1328.48 Q96.0845 1324.87 93.7465 1322.76 Q91.4086 1320.65 87.404 1320.65 Q85.529 1320.65 83.654 1321.07 Q81.8021 1321.49 79.8577 1322.37 L79.8577 1305 Z\" fill=\"#000000\" fill-rule=\"evenodd\" fill-opacity=\"1\" /><path clip-path=\"url(#clip910)\" d=\"M 0 0 M57.4273 1027.05 L73.7466 1027.05 L73.7466 1030.99 L51.8023 1030.99 L51.8023 1027.05 Q54.4643 1024.3 59.0476 1019.67 Q63.6541 1015.02 64.8346 1013.67 Q67.08 1011.15 67.9596 1009.41 Q68.8624 1007.65 68.8624 1005.96 Q68.8624 1003.21 66.918 1001.47 Q64.9967 999.738 61.8948 999.738 Q59.6958 999.738 57.2421 1000.5 Q54.8115 1001.27 52.0338 1002.82 L52.0338 998.094 Q54.8578 996.96 57.3115 996.381 Q59.7652 995.803 61.8023 995.803 Q67.1726 995.803 70.367 998.488 Q73.5614 1001.17 73.5614 1005.66 Q73.5614 1007.79 72.7513 1009.71 Q71.9642 1011.61 69.8578 1014.21 Q69.2791 1014.88 66.1772 1018.09 Q63.0754 1021.29 57.4273 1027.05 Z\" fill=\"#000000\" fill-rule=\"evenodd\" fill-opacity=\"1\" /><path clip-path=\"url(#clip910)\" d=\"M 0 0 M88.816 999.506 Q85.2049 999.506 83.3762 1003.07 Q81.5707 1006.61 81.5707 1013.74 Q81.5707 1020.85 83.3762 1024.41 Q85.2049 1027.96 88.816 1027.96 Q92.4502 1027.96 94.2558 1024.41 Q96.0845 1020.85 96.0845 1013.74 Q96.0845 1006.61 94.2558 1003.07 Q92.4502 999.506 88.816 999.506 M88.816 995.803 Q94.6262 995.803 97.6817 1000.41 Q100.76 1004.99 100.76 1013.74 Q100.76 1022.47 97.6817 1027.08 Q94.6262 1031.66 88.816 1031.66 Q83.0058 1031.66 79.9272 1027.08 Q76.8716 1022.47 76.8716 1013.74 Q76.8716 1004.99 79.9272 1000.41 Q83.0058 995.803 88.816 995.803 Z\" fill=\"#000000\" fill-rule=\"evenodd\" fill-opacity=\"1\" /><path clip-path=\"url(#clip910)\" d=\"M 0 0 M58.4226 718.475 L74.742 718.475 L74.742 722.411 L52.7977 722.411 L52.7977 718.475 Q55.4597 715.721 60.043 711.091 Q64.6495 706.438 65.83 705.096 Q68.0754 702.573 68.955 700.837 Q69.8578 699.077 69.8578 697.388 Q69.8578 694.633 67.9133 692.897 Q65.992 691.161 62.8902 691.161 Q60.6911 691.161 58.2375 691.925 Q55.8069 692.688 53.0292 694.239 L53.0292 689.517 Q55.8532 688.383 58.3069 687.804 Q60.7606 687.226 62.7976 687.226 Q68.168 687.226 71.3624 689.911 Q74.5568 692.596 74.5568 697.087 Q74.5568 699.216 73.7466 701.138 Q72.9596 703.036 70.8531 705.628 Q70.2744 706.3 67.1726 709.517 Q64.0708 712.712 58.4226 718.475 Z\" fill=\"#000000\" fill-rule=\"evenodd\" fill-opacity=\"1\" /><path clip-path=\"url(#clip910)\" d=\"M 0 0 M79.8577 687.851 L98.2141 687.851 L98.2141 691.786 L84.1401 691.786 L84.1401 700.258 Q85.1586 699.911 86.1771 699.749 Q87.1956 699.563 88.2141 699.563 Q94.0012 699.563 97.3808 702.735 Q100.76 705.906 100.76 711.323 Q100.76 716.901 97.2882 720.003 Q93.816 723.082 87.4966 723.082 Q85.3206 723.082 83.0521 722.711 Q80.8068 722.341 78.3994 721.6 L78.3994 716.901 Q80.4827 718.036 82.7049 718.591 Q84.9271 719.147 87.404 719.147 Q91.4086 719.147 93.7465 717.04 Q96.0845 714.934 96.0845 711.323 Q96.0845 707.712 93.7465 705.605 Q91.4086 703.499 87.404 703.499 Q85.529 703.499 83.654 703.915 Q81.8021 704.332 79.8577 705.212 L79.8577 687.851 Z\" fill=\"#000000\" fill-rule=\"evenodd\" fill-opacity=\"1\" /><path clip-path=\"url(#clip910)\" d=\"M 0 0 M66.617 395.199 Q69.9735 395.917 71.8485 398.185 Q73.7466 400.454 73.7466 403.787 Q73.7466 408.903 70.2281 411.704 Q66.7096 414.505 60.2282 414.505 Q58.0523 414.505 55.7375 414.065 Q53.4458 413.648 50.9921 412.792 L50.9921 408.278 Q52.9366 409.412 55.2514 409.991 Q57.5662 410.57 60.0893 410.57 Q64.4874 410.57 66.7791 408.833 Q69.0939 407.097 69.0939 403.787 Q69.0939 400.732 66.9411 399.019 Q64.8115 397.283 60.9921 397.283 L56.9643 397.283 L56.9643 393.44 L61.1773 393.44 Q64.6263 393.44 66.455 392.074 Q68.2837 390.685 68.2837 388.093 Q68.2837 385.431 66.3856 384.019 Q64.5106 382.584 60.9921 382.584 Q59.0708 382.584 56.8717 383 Q54.6727 383.417 52.0338 384.297 L52.0338 380.13 Q54.6958 379.389 57.0106 379.019 Q59.3486 378.648 61.4087 378.648 Q66.7328 378.648 69.8346 381.079 Q72.9365 383.486 72.9365 387.607 Q72.9365 390.477 71.2929 392.468 Q69.6494 394.435 66.617 395.199 Z\" fill=\"#000000\" fill-rule=\"evenodd\" fill-opacity=\"1\" /><path clip-path=\"url(#clip910)\" d=\"M 0 0 M88.816 382.352 Q85.2049 382.352 83.3762 385.917 Q81.5707 389.459 81.5707 396.588 Q81.5707 403.695 83.3762 407.259 Q85.2049 410.801 88.816 410.801 Q92.4502 410.801 94.2558 407.259 Q96.0845 403.695 96.0845 396.588 Q96.0845 389.459 94.2558 385.917 Q92.4502 382.352 88.816 382.352 M88.816 378.648 Q94.6262 378.648 97.6817 383.255 Q100.76 387.838 100.76 396.588 Q100.76 405.315 97.6817 409.921 Q94.6262 414.505 88.816 414.505 Q83.0058 414.505 79.9272 409.921 Q76.8716 405.315 76.8716 396.588 Q76.8716 387.838 79.9272 383.255 Q83.0058 378.648 88.816 378.648 Z\" fill=\"#000000\" fill-rule=\"evenodd\" fill-opacity=\"1\" /><path clip-path=\"url(#clip910)\" d=\"M 0 0 M67.6124 86.6221 Q70.9689 87.3397 72.8439 89.6082 Q74.742 91.8767 74.742 95.21 Q74.742 100.326 71.2235 103.127 Q67.705 105.928 61.2236 105.928 Q59.0476 105.928 56.7328 105.488 Q54.4412 105.071 51.9875 104.215 L51.9875 99.7008 Q53.9319 100.835 56.2467 101.414 Q58.5615 101.992 61.0847 101.992 Q65.4828 101.992 67.7744 100.256 Q70.0892 98.5202 70.0892 95.21 Q70.0892 92.1545 67.9365 90.4415 Q65.8069 88.7054 61.9874 88.7054 L57.9597 88.7054 L57.9597 84.8629 L62.1726 84.8629 Q65.6217 84.8629 67.4504 83.4971 Q69.2791 82.1083 69.2791 79.5157 Q69.2791 76.8537 67.3809 75.4416 Q65.5059 74.0064 61.9874 74.0064 Q60.0662 74.0064 57.8671 74.4231 Q55.668 74.8398 53.0292 75.7194 L53.0292 71.5528 Q55.6912 70.812 58.006 70.4416 Q60.3439 70.0713 62.4041 70.0713 Q67.7281 70.0713 70.83 72.5018 Q73.9318 74.9092 73.9318 79.0296 Q73.9318 81.8999 72.2883 83.8907 Q70.6448 85.8582 67.6124 86.6221 Z\" fill=\"#000000\" fill-rule=\"evenodd\" fill-opacity=\"1\" /><path clip-path=\"url(#clip910)\" d=\"M 0 0 M79.8577 70.6963 L98.2141 70.6963 L98.2141 74.6314 L84.1401 74.6314 L84.1401 83.1036 Q85.1586 82.7564 86.1771 82.5944 Q87.1956 82.4092 88.2141 82.4092 Q94.0012 82.4092 97.3808 85.5805 Q100.76 88.7517 100.76 94.1684 Q100.76 99.747 97.2882 102.849 Q93.816 105.928 87.4966 105.928 Q85.3206 105.928 83.0521 105.557 Q80.8068 105.187 78.3994 104.446 L78.3994 99.747 Q80.4827 100.881 82.7049 101.437 Q84.9271 101.992 87.404 101.992 Q91.4086 101.992 93.7465 99.8859 Q96.0845 97.7795 96.0845 94.1684 Q96.0845 90.5573 93.7465 88.4508 Q91.4086 86.3443 87.404 86.3443 Q85.529 86.3443 83.654 86.761 Q81.8021 87.1777 79.8577 88.0573 L79.8577 70.6963 Z\" fill=\"#000000\" fill-rule=\"evenodd\" fill-opacity=\"1\" /><polyline clip-path=\"url(#clip912)\" style=\"stroke:#800080; stroke-width:4; stroke-opacity:1; fill:none\" points=\"\n",
       "  199.477,581.7 220.594,643.415 241.711,705.131 262.828,705.131 283.944,581.7 305.061,581.7 326.178,581.7 347.295,643.415 368.412,643.415 389.528,643.415 \n",
       "  410.645,643.415 431.762,643.415 452.879,643.415 473.995,643.415 495.112,519.984 516.229,519.984 537.346,519.984 558.463,519.984 579.579,519.984 600.696,519.984 \n",
       "  621.813,519.984 642.93,519.984 664.047,581.7 685.163,643.415 706.28,643.415 727.397,519.984 748.514,519.984 769.63,519.984 790.747,581.7 811.864,581.7 \n",
       "  832.981,581.7 854.098,643.415 875.214,643.415 896.331,705.131 917.448,705.131 938.565,705.131 959.682,705.131 980.798,705.131 1001.92,766.846 1023.03,766.846 \n",
       "  1044.15,766.846 1065.27,828.561 1086.38,828.561 1107.5,890.277 1128.62,951.992 1149.73,951.992 1170.85,1013.71 1191.97,1013.71 1213.08,1013.71 1234.2,1075.42 \n",
       "  1255.32,1075.42 1276.43,1137.14 1297.55,1137.14 1318.67,1137.14 1339.78,1137.14 1360.9,1198.85 1382.02,1198.85 1403.13,1198.85 1424.25,1198.85 1445.37,1198.85 \n",
       "  1466.48,1198.85 1487.6,1075.42 1508.72,1075.42 1529.83,951.992 1550.95,951.992 1572.07,951.992 1593.19,828.561 1614.3,705.131 1635.42,581.7 1656.54,581.7 \n",
       "  1677.65,458.269 1698.77,458.269 1719.89,458.269 1741,458.269 1762.12,519.984 1783.24,519.984 1804.35,519.984 1825.47,581.7 1846.59,581.7 1867.7,581.7 \n",
       "  1888.82,581.7 1909.94,458.269 1931.05,458.269 1952.17,458.269 1973.29,458.269 1994.4,458.269 2015.52,458.269 2036.64,334.838 2057.75,334.838 2078.87,334.838 \n",
       "  2099.99,334.838 2121.1,334.838 2142.22,334.838 2163.34,334.838 2184.46,396.553 2205.57,396.553 2226.69,396.553 2247.81,396.553 2268.92,396.553 2290.04,396.553 \n",
       "  \n",
       "  \"/>\n",
       "<polyline clip-path=\"url(#clip912)\" style=\"stroke:#008000; stroke-width:4; stroke-opacity:1; fill:none\" points=\"\n",
       "  199.477,396.553 220.594,396.553 241.711,519.984 262.828,643.415 283.944,643.415 305.061,766.846 326.178,766.846 347.295,705.131 368.412,705.131 389.528,828.561 \n",
       "  410.645,828.561 431.762,951.992 452.879,890.277 473.995,890.277 495.112,890.277 516.229,828.561 537.346,828.561 558.463,951.992 579.579,1075.42 600.696,1013.71 \n",
       "  621.813,951.992 642.93,951.992 664.047,890.277 685.163,828.561 706.28,766.846 727.397,766.846 748.514,766.846 769.63,705.131 790.747,643.415 811.864,581.7 \n",
       "  832.981,581.7 854.098,519.984 875.214,519.984 896.331,458.269 917.448,396.553 938.565,519.984 959.682,458.269 980.798,458.269 1001.92,396.553 1023.03,334.838 \n",
       "  1044.15,273.123 1065.27,273.123 1086.38,211.407 1107.5,334.838 1128.62,273.123 1149.73,273.123 1170.85,211.407 1191.97,149.692 1213.08,149.692 1234.2,87.9763 \n",
       "  1255.32,211.407 1276.43,149.692 1297.55,273.123 1318.67,396.553 1339.78,396.553 1360.9,334.838 1382.02,458.269 1403.13,458.269 1424.25,581.7 1445.37,705.131 \n",
       "  1466.48,828.561 1487.6,828.561 1508.72,766.846 1529.83,766.846 1550.95,890.277 1572.07,828.561 1593.19,828.561 1614.3,828.561 1635.42,828.561 1656.54,828.561 \n",
       "  1677.65,828.561 1698.77,766.846 1719.89,705.131 1741,828.561 1762.12,766.846 1783.24,890.277 1804.35,1013.71 1825.47,951.992 1846.59,1075.42 1867.7,1198.85 \n",
       "  1888.82,1322.28 1909.94,1322.28 1931.05,1445.72 1952.17,1384 1973.29,1384 1994.4,1384 2015.52,1322.28 2036.64,1322.28 2057.75,1445.72 2078.87,1445.72 \n",
       "  2099.99,1445.72 2121.1,1445.72 2142.22,1445.72 2163.34,1445.72 2184.46,1384 2205.57,1322.28 2226.69,1322.28 2247.81,1322.28 2268.92,1260.57 2290.04,1260.57 \n",
       "  \n",
       "  \"/>\n",
       "<path clip-path=\"url(#clip910)\" d=\"\n",
       "M1826.65 276.658 L2278.89 276.658 L2278.89 95.2176 L1826.65 95.2176  Z\n",
       "  \" fill=\"#ffffff\" fill-rule=\"evenodd\" fill-opacity=\"1\"/>\n",
       "<polyline clip-path=\"url(#clip910)\" style=\"stroke:#000000; stroke-width:4; stroke-opacity:1; fill:none\" points=\"\n",
       "  1826.65,276.658 2278.89,276.658 2278.89,95.2176 1826.65,95.2176 1826.65,276.658 \n",
       "  \"/>\n",
       "<polyline clip-path=\"url(#clip910)\" style=\"stroke:#800080; stroke-width:4; stroke-opacity:1; fill:none\" points=\"\n",
       "  1851.27,155.698 1999.01,155.698 \n",
       "  \"/>\n",
       "<path clip-path=\"url(#clip910)\" d=\"M 0 0 M2042.54 159.714 Q2042.54 155.084 2040.62 152.538 Q2038.72 149.992 2035.27 149.992 Q2031.85 149.992 2029.92 152.538 Q2028.03 155.084 2028.03 159.714 Q2028.03 164.32 2029.92 166.866 Q2031.85 169.413 2035.27 169.413 Q2038.72 169.413 2040.62 166.866 Q2042.54 164.32 2042.54 159.714 M2046.8 169.76 Q2046.8 176.38 2043.86 179.598 Q2040.92 182.839 2034.85 182.839 Q2032.61 182.839 2030.62 182.491 Q2028.63 182.167 2026.75 181.473 L2026.75 177.329 Q2028.63 178.348 2030.46 178.834 Q2032.28 179.32 2034.18 179.32 Q2038.37 179.32 2040.46 177.121 Q2042.54 174.945 2042.54 170.524 L2042.54 168.417 Q2041.22 170.709 2039.16 171.843 Q2037.1 172.978 2034.23 172.978 Q2029.46 172.978 2026.54 169.343 Q2023.63 165.709 2023.63 159.714 Q2023.63 153.695 2026.54 150.061 Q2029.46 146.427 2034.23 146.427 Q2037.1 146.427 2039.16 147.561 Q2041.22 148.695 2042.54 150.987 L2042.54 147.052 L2046.8 147.052 L2046.8 169.76 Z\" fill=\"#000000\" fill-rule=\"evenodd\" fill-opacity=\"1\" /><path clip-path=\"url(#clip910)\" d=\"M 0 0 M2061.31 150.038 Q2057.89 150.038 2055.9 152.723 Q2053.91 155.385 2053.91 160.038 Q2053.91 164.691 2055.87 167.376 Q2057.86 170.038 2061.31 170.038 Q2064.72 170.038 2066.71 167.353 Q2068.7 164.667 2068.7 160.038 Q2068.7 155.431 2066.71 152.746 Q2064.72 150.038 2061.31 150.038 M2061.31 146.427 Q2066.87 146.427 2070.04 150.038 Q2073.21 153.649 2073.21 160.038 Q2073.21 166.404 2070.04 170.038 Q2066.87 173.649 2061.31 173.649 Q2055.73 173.649 2052.56 170.038 Q2049.41 166.404 2049.41 160.038 Q2049.41 153.649 2052.56 150.038 Q2055.73 146.427 2061.31 146.427 Z\" fill=\"#000000\" fill-rule=\"evenodd\" fill-opacity=\"1\" /><path clip-path=\"url(#clip910)\" d=\"M 0 0 M2077.82 136.959 L2082.08 136.959 L2082.08 150.894 L2084.97 148.811 L2086.73 151.265 L2082.08 154.529 L2082.08 172.978 L2077.82 172.978 L2077.82 157.561 L2074.97 159.598 L2073.26 157.144 L2077.82 153.88 L2077.82 136.959 Z\" fill=\"#000000\" fill-rule=\"evenodd\" fill-opacity=\"1\" /><path clip-path=\"url(#clip910)\" d=\"M 0 0 M2113.37 158.95 L2113.37 161.033 L2093.79 161.033 Q2094.07 165.431 2096.43 167.746 Q2098.81 170.038 2103.05 170.038 Q2105.5 170.038 2107.79 169.436 Q2110.11 168.834 2112.38 167.63 L2112.38 171.658 Q2110.09 172.63 2107.68 173.14 Q2105.27 173.649 2102.79 173.649 Q2096.59 173.649 2092.96 170.038 Q2089.34 166.427 2089.34 160.269 Q2089.34 153.904 2092.77 150.177 Q2096.22 146.427 2102.05 146.427 Q2107.28 146.427 2110.32 149.806 Q2113.37 153.163 2113.37 158.95 M2109.11 157.7 Q2109.07 154.205 2107.15 152.121 Q2105.25 150.038 2102.1 150.038 Q2098.53 150.038 2096.38 152.052 Q2094.25 154.066 2093.93 157.723 L2109.11 157.7 M2105.62 172.978 L2108.37 172.978 Q2107.33 174.39 2106.82 175.408 Q2106.34 176.427 2106.34 177.144 Q2106.34 178.209 2106.96 178.741 Q2107.61 179.274 2108.86 179.274 Q2109.6 179.274 2110.32 179.089 Q2111.03 178.927 2111.75 178.579 L2111.75 181.658 Q2110.87 181.89 2110.09 182.005 Q2109.3 182.121 2108.6 182.121 Q2105.78 182.121 2104.44 181.103 Q2103.12 180.107 2103.12 177.954 Q2103.12 176.843 2103.72 175.616 Q2104.34 174.413 2105.62 172.978 Z\" fill=\"#000000\" fill-rule=\"evenodd\" fill-opacity=\"1\" /><path clip-path=\"url(#clip910)\" d=\"M 0 0 M2136.45 160.038 Q2136.45 155.339 2134.51 152.677 Q2132.59 149.992 2129.21 149.992 Q2125.83 149.992 2123.88 152.677 Q2121.96 155.339 2121.96 160.038 Q2121.96 164.737 2123.88 167.422 Q2125.83 170.084 2129.21 170.084 Q2132.59 170.084 2134.51 167.422 Q2136.45 164.737 2136.45 160.038 M2121.96 150.987 Q2123.3 148.672 2125.34 147.561 Q2127.4 146.427 2130.25 146.427 Q2134.97 146.427 2137.91 150.177 Q2140.87 153.927 2140.87 160.038 Q2140.87 166.149 2137.91 169.899 Q2134.97 173.649 2130.25 173.649 Q2127.4 173.649 2125.34 172.538 Q2123.3 171.403 2121.96 169.089 L2121.96 172.978 L2117.68 172.978 L2117.68 136.959 L2121.96 136.959 L2121.96 150.987 Z\" fill=\"#000000\" fill-rule=\"evenodd\" fill-opacity=\"1\" /><path clip-path=\"url(#clip910)\" d=\"M 0 0 M2145.34 147.052 L2149.6 147.052 L2149.6 172.978 L2145.34 172.978 L2145.34 147.052 M2145.34 136.959 L2149.6 136.959 L2149.6 142.353 L2145.34 142.353 L2145.34 136.959 Z\" fill=\"#000000\" fill-rule=\"evenodd\" fill-opacity=\"1\" /><path clip-path=\"url(#clip910)\" d=\"M 0 0 M2176.24 158.95 L2176.24 161.033 L2156.66 161.033 Q2156.94 165.431 2159.3 167.746 Q2161.68 170.038 2165.92 170.038 Q2168.37 170.038 2170.66 169.436 Q2172.98 168.834 2175.25 167.63 L2175.25 171.658 Q2172.96 172.63 2170.55 173.14 Q2168.14 173.649 2165.66 173.649 Q2159.46 173.649 2155.83 170.038 Q2152.21 166.427 2152.21 160.269 Q2152.21 153.904 2155.64 150.177 Q2159.09 146.427 2164.92 146.427 Q2170.15 146.427 2173.19 149.806 Q2176.24 153.163 2176.24 158.95 M2171.98 157.7 Q2171.94 154.205 2170.02 152.121 Q2168.12 150.038 2164.97 150.038 Q2161.4 150.038 2159.25 152.052 Q2157.12 154.066 2156.8 157.723 L2171.98 157.7 Z\" fill=\"#000000\" fill-rule=\"evenodd\" fill-opacity=\"1\" /><polyline clip-path=\"url(#clip910)\" style=\"stroke:#008000; stroke-width:4; stroke-opacity:1; fill:none\" points=\"\n",
       "  1851.27,216.178 1999.01,216.178 \n",
       "  \"/>\n",
       "<path clip-path=\"url(#clip910)\" d=\"M 0 0 M2028.95 207.532 L2033.21 207.532 L2033.21 233.921 Q2033.21 238.874 2031.31 241.096 Q2029.44 243.319 2025.25 243.319 L2023.63 243.319 L2023.63 239.708 L2024.76 239.708 Q2027.19 239.708 2028.07 238.573 Q2028.95 237.462 2028.95 233.921 L2028.95 207.532 M2028.95 197.439 L2033.21 197.439 L2033.21 202.833 L2028.95 202.833 L2028.95 197.439 Z\" fill=\"#000000\" fill-rule=\"evenodd\" fill-opacity=\"1\" /><path clip-path=\"url(#clip910)\" d=\"M 0 0 M2049.46 220.425 Q2044.3 220.425 2042.31 221.606 Q2040.32 222.786 2040.32 225.634 Q2040.32 227.902 2041.8 229.245 Q2043.3 230.564 2045.87 230.564 Q2049.41 230.564 2051.54 228.064 Q2053.7 225.541 2053.7 221.374 L2053.7 220.425 L2049.46 220.425 M2057.96 218.666 L2057.96 233.458 L2053.7 233.458 L2053.7 229.522 Q2052.24 231.883 2050.06 233.018 Q2047.89 234.129 2044.74 234.129 Q2040.76 234.129 2038.4 231.907 Q2036.06 229.661 2036.06 225.911 Q2036.06 221.536 2038.97 219.314 Q2041.91 217.092 2047.72 217.092 L2053.7 217.092 L2053.7 216.675 Q2053.7 213.735 2051.75 212.138 Q2049.83 210.518 2046.34 210.518 Q2044.11 210.518 2042.01 211.05 Q2039.9 211.583 2037.96 212.647 L2037.96 208.712 Q2040.29 207.81 2042.49 207.37 Q2044.69 206.907 2046.78 206.907 Q2052.4 206.907 2055.18 209.823 Q2057.96 212.74 2057.96 218.666 Z\" fill=\"#000000\" fill-rule=\"evenodd\" fill-opacity=\"1\" /><path clip-path=\"url(#clip910)\" d=\"M 0 0 M2078.95 208.296 L2078.95 212.323 Q2077.15 211.397 2075.2 210.935 Q2073.26 210.472 2071.17 210.472 Q2068 210.472 2066.41 211.444 Q2064.83 212.416 2064.83 214.36 Q2064.83 215.842 2065.97 216.698 Q2067.1 217.532 2070.53 218.296 L2071.98 218.62 Q2076.52 219.592 2078.42 221.374 Q2080.34 223.134 2080.34 226.305 Q2080.34 229.916 2077.47 232.022 Q2074.62 234.129 2069.62 234.129 Q2067.54 234.129 2065.27 233.712 Q2063.03 233.319 2060.53 232.508 L2060.53 228.11 Q2062.89 229.337 2065.18 229.962 Q2067.47 230.564 2069.72 230.564 Q2072.72 230.564 2074.34 229.546 Q2075.97 228.504 2075.97 226.629 Q2075.97 224.893 2074.78 223.967 Q2073.63 223.041 2069.67 222.184 L2068.19 221.837 Q2064.23 221.004 2062.47 219.291 Q2060.71 217.555 2060.71 214.546 Q2060.71 210.888 2063.3 208.898 Q2065.9 206.907 2070.66 206.907 Q2073.03 206.907 2075.11 207.254 Q2077.19 207.601 2078.95 208.296 Z\" fill=\"#000000\" fill-rule=\"evenodd\" fill-opacity=\"1\" /><path clip-path=\"url(#clip910)\" d=\"M 0 0 M2089.02 200.171 L2089.02 207.532 L2097.79 207.532 L2097.79 210.842 L2089.02 210.842 L2089.02 224.916 Q2089.02 228.087 2089.88 228.99 Q2090.76 229.893 2093.42 229.893 L2097.79 229.893 L2097.79 233.458 L2093.42 233.458 Q2088.49 233.458 2086.61 231.629 Q2084.74 229.777 2084.74 224.916 L2084.74 210.842 L2081.61 210.842 L2081.61 207.532 L2084.74 207.532 L2084.74 200.171 L2089.02 200.171 Z\" fill=\"#000000\" fill-rule=\"evenodd\" fill-opacity=\"1\" /><path clip-path=\"url(#clip910)\" d=\"M 0 0 M2117.28 211.513 Q2116.57 211.097 2115.71 210.911 Q2114.88 210.703 2113.86 210.703 Q2110.25 210.703 2108.3 213.064 Q2106.38 215.402 2106.38 219.8 L2106.38 233.458 L2102.1 233.458 L2102.1 207.532 L2106.38 207.532 L2106.38 211.56 Q2107.72 209.198 2109.88 208.064 Q2112.03 206.907 2115.11 206.907 Q2115.55 206.907 2116.08 206.976 Q2116.61 207.023 2117.26 207.138 L2117.28 211.513 Z\" fill=\"#000000\" fill-rule=\"evenodd\" fill-opacity=\"1\" /><path clip-path=\"url(#clip910)\" d=\"M 0 0 M2119.9 207.532 L2140.13 207.532 L2140.13 211.421 L2124.11 230.055 L2140.13 230.055 L2140.13 233.458 L2119.32 233.458 L2119.32 229.569 L2135.34 210.935 L2119.9 210.935 L2119.9 207.532 Z\" fill=\"#000000\" fill-rule=\"evenodd\" fill-opacity=\"1\" /><path clip-path=\"url(#clip910)\" d=\"M 0 0 M2166.78 219.43 L2166.78 221.513 L2147.19 221.513 Q2147.47 225.911 2149.83 228.226 Q2152.21 230.518 2156.45 230.518 Q2158.9 230.518 2161.2 229.916 Q2163.51 229.314 2165.78 228.11 L2165.78 232.138 Q2163.49 233.11 2161.08 233.62 Q2158.67 234.129 2156.2 234.129 Q2149.99 234.129 2146.36 230.518 Q2142.75 226.907 2142.75 220.749 Q2142.75 214.384 2146.17 210.657 Q2149.62 206.907 2155.46 206.907 Q2160.69 206.907 2163.72 210.286 Q2166.78 213.643 2166.78 219.43 M2162.52 218.18 Q2162.47 214.685 2160.55 212.601 Q2158.65 210.518 2155.5 210.518 Q2151.94 210.518 2149.78 212.532 Q2147.65 214.546 2147.33 218.203 L2162.52 218.18 M2159.02 233.458 L2161.78 233.458 Q2160.73 234.87 2160.22 235.888 Q2159.74 236.907 2159.74 237.624 Q2159.74 238.689 2160.36 239.221 Q2161.01 239.754 2162.26 239.754 Q2163 239.754 2163.72 239.569 Q2164.44 239.407 2165.15 239.059 L2165.15 242.138 Q2164.28 242.37 2163.49 242.485 Q2162.7 242.601 2162.01 242.601 Q2159.18 242.601 2157.84 241.583 Q2156.52 240.587 2156.52 238.434 Q2156.52 237.323 2157.12 236.096 Q2157.75 234.893 2159.02 233.458 Z\" fill=\"#000000\" fill-rule=\"evenodd\" fill-opacity=\"1\" /><path clip-path=\"url(#clip910)\" d=\"M 0 0 M2189.85 220.518 Q2189.85 215.819 2187.91 213.157 Q2185.99 210.472 2182.61 210.472 Q2179.23 210.472 2177.28 213.157 Q2175.36 215.819 2175.36 220.518 Q2175.36 225.217 2177.28 227.902 Q2179.23 230.564 2182.61 230.564 Q2185.99 230.564 2187.91 227.902 Q2189.85 225.217 2189.85 220.518 M2175.36 211.467 Q2176.71 209.152 2178.74 208.041 Q2180.8 206.907 2183.65 206.907 Q2188.37 206.907 2191.31 210.657 Q2194.27 214.407 2194.27 220.518 Q2194.27 226.629 2191.31 230.379 Q2188.37 234.129 2183.65 234.129 Q2180.8 234.129 2178.74 233.018 Q2176.71 231.883 2175.36 229.569 L2175.36 233.458 L2171.08 233.458 L2171.08 197.439 L2175.36 197.439 L2175.36 211.467 Z\" fill=\"#000000\" fill-rule=\"evenodd\" fill-opacity=\"1\" /><path clip-path=\"url(#clip910)\" d=\"M 0 0 M2198.74 207.532 L2203 207.532 L2203 233.458 L2198.74 233.458 L2198.74 207.532 M2198.74 197.439 L2203 197.439 L2203 202.833 L2198.74 202.833 L2198.74 197.439 Z\" fill=\"#000000\" fill-rule=\"evenodd\" fill-opacity=\"1\" /><path clip-path=\"url(#clip910)\" d=\"M 0 0 M2229.65 219.43 L2229.65 221.513 L2210.06 221.513 Q2210.34 225.911 2212.7 228.226 Q2215.08 230.518 2219.32 230.518 Q2221.77 230.518 2224.07 229.916 Q2226.38 229.314 2228.65 228.11 L2228.65 232.138 Q2226.36 233.11 2223.95 233.62 Q2221.54 234.129 2219.07 234.129 Q2212.86 234.129 2209.23 230.518 Q2205.62 226.907 2205.62 220.749 Q2205.62 214.384 2209.04 210.657 Q2212.49 206.907 2218.33 206.907 Q2223.56 206.907 2226.59 210.286 Q2229.65 213.643 2229.65 219.43 M2225.39 218.18 Q2225.34 214.685 2223.42 212.601 Q2221.52 210.518 2218.37 210.518 Q2214.81 210.518 2212.65 212.532 Q2210.52 214.546 2210.2 218.203 L2225.39 218.18 Z\" fill=\"#000000\" fill-rule=\"evenodd\" fill-opacity=\"1\" /></svg>\n"
      ]
     },
     "execution_count": 54,
     "metadata": {},
     "output_type": "execute_result"
    }
   ],
   "source": [
    "A = action(9,9,30,30, 100, zeros(Int64, 100, 2))\n",
    "plot(1:size(A)[1], A[:, 1], label=\"gołębie\", color= :purple)\n",
    "plot!(1:size(A)[1], A[:, 2], label=\"jastrzębie\", color= :green)"
   ]
  },
  {
   "cell_type": "code",
   "execution_count": 33,
   "metadata": {},
   "outputs": [
    {
     "data": {
      "application/vnd.webio.node+json": {
       "children": [
        {
         "children": [
          {
           "children": [
            {
             "children": [
              {
               "children": [
                {
                 "children": [
                  "time"
                 ],
                 "instanceArgs": {
                  "namespace": "html",
                  "tag": "label"
                 },
                 "nodeType": "DOM",
                 "props": {
                  "className": "interact ",
                  "style": {
                   "padding": "5px 10px 0px 10px"
                  }
                 },
                 "type": "node"
                }
               ],
               "instanceArgs": {
                "namespace": "html",
                "tag": "div"
               },
               "nodeType": "DOM",
               "props": {
                "className": "interact-flex-row-left"
               },
               "type": "node"
              },
              {
               "children": [
                {
                 "children": [],
                 "instanceArgs": {
                  "namespace": "html",
                  "tag": "input"
                 },
                 "nodeType": "DOM",
                 "props": {
                  "attributes": {
                   "data-bind": "numericValue: index, valueUpdate: 'input', event: {change: function (){this.changes(this.changes()+1)}}",
                   "orient": "horizontal",
                   "type": "range"
                  },
                  "className": "slider slider is-fullwidth",
                  "max": 99,
                  "min": 1,
                  "step": 1,
                  "style": {}
                 },
                 "type": "node"
                }
               ],
               "instanceArgs": {
                "namespace": "html",
                "tag": "div"
               },
               "nodeType": "DOM",
               "props": {
                "className": "interact-flex-row-center"
               },
               "type": "node"
              },
              {
               "children": [
                {
                 "children": [],
                 "instanceArgs": {
                  "namespace": "html",
                  "tag": "p"
                 },
                 "nodeType": "DOM",
                 "props": {
                  "attributes": {
                   "data-bind": "text: formatted_val"
                  }
                 },
                 "type": "node"
                }
               ],
               "instanceArgs": {
                "namespace": "html",
                "tag": "div"
               },
               "nodeType": "DOM",
               "props": {
                "className": "interact-flex-row-right"
               },
               "type": "node"
              }
             ],
             "instanceArgs": {
              "namespace": "html",
              "tag": "div"
             },
             "nodeType": "DOM",
             "props": {
              "className": "interact-flex-row interact-widget"
             },
             "type": "node"
            }
           ],
           "instanceArgs": {
            "handlers": {
             "changes": [
              "(function (val){return (val!=this.model[\"changes\"]()) ? (this.valueFromJulia[\"changes\"]=true, this.model[\"changes\"](val)) : undefined})"
             ],
             "index": [
              "(function (val){return (val!=this.model[\"index\"]()) ? (this.valueFromJulia[\"index\"]=true, this.model[\"index\"](val)) : undefined})"
             ]
            },
            "id": "222872386228263200",
            "imports": {
             "data": [
              {
               "name": "knockout",
               "type": "js",
               "url": "/assetserver/fd91bcc76f200e46e5681854927159f78397d01c-knockout.js"
              },
              {
               "name": "knockout_punches",
               "type": "js",
               "url": "/assetserver/0771d715f47990fd6a20af05579c332026637b1d-knockout_punches.js"
              },
              {
               "name": null,
               "type": "js",
               "url": "/assetserver/e56fcd69f839599425572dc2cffb9ce416a547ec-all.js"
              },
              {
               "name": null,
               "type": "css",
               "url": "/assetserver/f03a11104aa67cefd9b6e4d413d413b5ef056233-style.css"
              },
              {
               "name": null,
               "type": "css",
               "url": "/assetserver/e60d8885c5ad87196b49c3e741a5de92d7eeea1c-bulma_confined.min.css"
              }
             ],
             "type": "async_block"
            },
            "mount_callbacks": [
             "function () {\n    var handler = (function (ko, koPunches) {\n    ko.punches.enableAll();\n    ko.bindingHandlers.numericValue = {\n        init: function(element, valueAccessor, allBindings, data, context) {\n            var stringified = ko.observable(ko.unwrap(valueAccessor()));\n            stringified.subscribe(function(value) {\n                var val = parseFloat(value);\n                if (!isNaN(val)) {\n                    valueAccessor()(val);\n                }\n            });\n            valueAccessor().subscribe(function(value) {\n                var str = JSON.stringify(value);\n                if ((str == \"0\") && ([\"-0\", \"-0.\"].indexOf(stringified()) >= 0))\n                     return;\n                 if ([\"null\", \"\"].indexOf(str) >= 0)\n                     return;\n                stringified(str);\n            });\n            ko.applyBindingsToNode(\n                element,\n                {\n                    value: stringified,\n                    valueUpdate: allBindings.get('valueUpdate'),\n                },\n                context,\n            );\n        }\n    };\n    var json_data = {\"formatted_vals\":[\"2\",\"3\",\"4\",\"5\",\"6\",\"7\",\"8\",\"9\",\"10\",\"11\",\"12\",\"13\",\"14\",\"15\",\"16\",\"17\",\"18\",\"19\",\"20\",\"21\",\"22\",\"23\",\"24\",\"25\",\"26\",\"27\",\"28\",\"29\",\"30\",\"31\",\"32\",\"33\",\"34\",\"35\",\"36\",\"37\",\"38\",\"39\",\"40\",\"41\",\"42\",\"43\",\"44\",\"45\",\"46\",\"47\",\"48\",\"49\",\"50\",\"51\",\"52\",\"53\",\"54\",\"55\",\"56\",\"57\",\"58\",\"59\",\"60\",\"61\",\"62\",\"63\",\"64\",\"65\",\"66\",\"67\",\"68\",\"69\",\"70\",\"71\",\"72\",\"73\",\"74\",\"75\",\"76\",\"77\",\"78\",\"79\",\"80\",\"81\",\"82\",\"83\",\"84\",\"85\",\"86\",\"87\",\"88\",\"89\",\"90\",\"91\",\"92\",\"93\",\"94\",\"95\",\"96\",\"97\",\"98\",\"99\",\"100\"],\"changes\":WebIO.getval({\"name\":\"changes\",\"scope\":\"222872386228263200\",\"id\":\"9657432480842699360\",\"type\":\"observable\"}),\"index\":WebIO.getval({\"name\":\"index\",\"scope\":\"222872386228263200\",\"id\":\"9906375580117670844\",\"type\":\"observable\"})};\n    var self = this;\n    function AppViewModel() {\n        for (var key in json_data) {\n            var el = json_data[key];\n            this[key] = Array.isArray(el) ? ko.observableArray(el) : ko.observable(el);\n        }\n        \n        [this[\"formatted_val\"]=ko.computed(    function(){\n        return this.formatted_vals()[parseInt(this.index())-(1)];\n    }\n,this)]\n        [this[\"changes\"].subscribe((function (val){!(this.valueFromJulia[\"changes\"]) ? (WebIO.setval({\"name\":\"changes\",\"scope\":\"222872386228263200\",\"id\":\"9657432480842699360\",\"type\":\"observable\"},val)) : undefined; return this.valueFromJulia[\"changes\"]=false}),self),this[\"index\"].subscribe((function (val){!(this.valueFromJulia[\"index\"]) ? (WebIO.setval({\"name\":\"index\",\"scope\":\"222872386228263200\",\"id\":\"9906375580117670844\",\"type\":\"observable\"},val)) : undefined; return this.valueFromJulia[\"index\"]=false}),self)]\n        \n    }\n    self.model = new AppViewModel();\n    self.valueFromJulia = {};\n    for (var key in json_data) {\n        self.valueFromJulia[key] = false;\n    }\n    ko.applyBindings(self.model, self.dom);\n}\n);\n    (WebIO.importBlock({\"data\":[{\"name\":\"knockout\",\"type\":\"js\",\"url\":\"/assetserver/fd91bcc76f200e46e5681854927159f78397d01c-knockout.js\"},{\"name\":\"knockout_punches\",\"type\":\"js\",\"url\":\"/assetserver/0771d715f47990fd6a20af05579c332026637b1d-knockout_punches.js\"}],\"type\":\"async_block\"})).then((imports) => handler.apply(this, imports));\n}\n"
            ],
            "observables": {
             "changes": {
              "id": "9657432480842699360",
              "sync": false,
              "value": 0
             },
             "index": {
              "id": "9906375580117670844",
              "sync": true,
              "value": 50
             }
            },
            "systemjs_options": null
           },
           "nodeType": "Scope",
           "props": {},
           "type": "node"
          }
         ],
         "instanceArgs": {
          "namespace": "html",
          "tag": "div"
         },
         "nodeType": "DOM",
         "props": {
          "className": "field interact-widget"
         },
         "type": "node"
        },
        {
         "children": [
          {
           "children": [],
           "instanceArgs": {
            "id": "1006674392131575226",
            "name": "obs-node"
           },
           "nodeType": "ObservableNode",
           "props": {},
           "type": "node"
          }
         ],
         "instanceArgs": {
          "handlers": {},
          "id": "10771739026256342081",
          "imports": {
           "data": [],
           "type": "async_block"
          },
          "mount_callbacks": [],
          "observables": {
           "obs-node": {
            "id": "1006674392131575226",
            "sync": false,
            "value": {
             "children": [
              {
               "children": [],
               "instanceArgs": {
                "namespace": "html",
                "tag": "div"
               },
               "nodeType": "DOM",
               "props": {
                "setInnerHtml": "<?xml version=\"1.0\" encoding=\"utf-8\"?>\n<svg xmlns=\"http://www.w3.org/2000/svg\" xmlns:xlink=\"http://www.w3.org/1999/xlink\" width=\"600\" height=\"400\" viewBox=\"0 0 2400 1600\">\n<defs>\n  <clipPath id=\"clip240\">\n    <rect x=\"0\" y=\"0\" width=\"2400\" height=\"1600\"/>\n  </clipPath>\n</defs>\n<path clip-path=\"url(#clip240)\" d=\"\nM0 1600 L2400 1600 L2400 0 L0 0  Z\n  \" fill=\"#ffffff\" fill-rule=\"evenodd\" fill-opacity=\"1\"/>\n<defs>\n  <clipPath id=\"clip241\">\n    <rect x=\"480\" y=\"0\" width=\"1681\" height=\"1600\"/>\n  </clipPath>\n</defs>\n<path clip-path=\"url(#clip240)\" d=\"\nM136.76 1486.45 L2352.76 1486.45 L2352.76 47.2441 L136.76 47.2441  Z\n  \" fill=\"#ffffff\" fill-rule=\"evenodd\" fill-opacity=\"1\"/>\n<defs>\n  <clipPath id=\"clip242\">\n    <rect x=\"136\" y=\"47\" width=\"2217\" height=\"1440\"/>\n  </clipPath>\n</defs>\n<polyline clip-path=\"url(#clip242)\" style=\"stroke:#000000; stroke-width:2; stroke-opacity:0.1; fill:none\" points=\"\n  157.666,1486.45 157.666,47.2441 \n  \"/>\n<polyline clip-path=\"url(#clip242)\" style=\"stroke:#000000; stroke-width:2; stroke-opacity:0.1; fill:none\" points=\"\n  575.778,1486.45 575.778,47.2441 \n  \"/>\n<polyline clip-path=\"url(#clip242)\" style=\"stroke:#000000; stroke-width:2; stroke-opacity:0.1; fill:none\" points=\"\n  993.891,1486.45 993.891,47.2441 \n  \"/>\n<polyline clip-path=\"url(#clip242)\" style=\"stroke:#000000; stroke-width:2; stroke-opacity:0.1; fill:none\" points=\"\n  1412,1486.45 1412,47.2441 \n  \"/>\n<polyline clip-path=\"url(#clip242)\" style=\"stroke:#000000; stroke-width:2; stroke-opacity:0.1; fill:none\" points=\"\n  1830.12,1486.45 1830.12,47.2441 \n  \"/>\n<polyline clip-path=\"url(#clip242)\" style=\"stroke:#000000; stroke-width:2; stroke-opacity:0.1; fill:none\" points=\"\n  2248.23,1486.45 2248.23,47.2441 \n  \"/>\n<polyline clip-path=\"url(#clip240)\" style=\"stroke:#000000; stroke-width:4; stroke-opacity:1; fill:none\" points=\"\n  136.76,1486.45 2352.76,1486.45 \n  \"/>\n<polyline clip-path=\"url(#clip240)\" style=\"stroke:#000000; stroke-width:4; stroke-opacity:1; fill:none\" points=\"\n  157.666,1486.45 157.666,1469.18 \n  \"/>\n<polyline clip-path=\"url(#clip240)\" style=\"stroke:#000000; stroke-width:4; stroke-opacity:1; fill:none\" points=\"\n  575.778,1486.45 575.778,1469.18 \n  \"/>\n<polyline clip-path=\"url(#clip240)\" style=\"stroke:#000000; stroke-width:4; stroke-opacity:1; fill:none\" points=\"\n  993.891,1486.45 993.891,1469.18 \n  \"/>\n<polyline clip-path=\"url(#clip240)\" style=\"stroke:#000000; stroke-width:4; stroke-opacity:1; fill:none\" points=\"\n  1412,1486.45 1412,1469.18 \n  \"/>\n<polyline clip-path=\"url(#clip240)\" style=\"stroke:#000000; stroke-width:4; stroke-opacity:1; fill:none\" points=\"\n  1830.12,1486.45 1830.12,1469.18 \n  \"/>\n<polyline clip-path=\"url(#clip240)\" style=\"stroke:#000000; stroke-width:4; stroke-opacity:1; fill:none\" points=\"\n  2248.23,1486.45 2248.23,1469.18 \n  \"/>\n<path clip-path=\"url(#clip240)\" d=\"M 0 0 M157.666 1515.64 Q154.055 1515.64 152.226 1519.2 Q150.421 1522.75 150.421 1529.87 Q150.421 1536.98 152.226 1540.55 Q154.055 1544.09 157.666 1544.09 Q161.3 1544.09 163.106 1540.55 Q164.934 1536.98 164.934 1529.87 Q164.934 1522.75 163.106 1519.2 Q161.3 1515.64 157.666 1515.64 M157.666 1511.93 Q163.476 1511.93 166.532 1516.54 Q169.61 1521.12 169.61 1529.87 Q169.61 1538.6 166.532 1543.21 Q163.476 1547.79 157.666 1547.79 Q151.856 1547.79 148.777 1543.21 Q145.722 1538.6 145.722 1529.87 Q145.722 1521.12 148.777 1516.54 Q151.856 1511.93 157.666 1511.93 Z\" fill=\"#000000\" fill-rule=\"evenodd\" fill-opacity=\"1\" /><path clip-path=\"url(#clip240)\" d=\"M 0 0 M552.653 1543.18 L560.292 1543.18 L560.292 1516.82 L551.982 1518.49 L551.982 1514.23 L560.246 1512.56 L564.922 1512.56 L564.922 1543.18 L572.561 1543.18 L572.561 1547.12 L552.653 1547.12 L552.653 1543.18 Z\" fill=\"#000000\" fill-rule=\"evenodd\" fill-opacity=\"1\" /><path clip-path=\"url(#clip240)\" d=\"M 0 0 M587.63 1515.64 Q584.019 1515.64 582.19 1519.2 Q580.385 1522.75 580.385 1529.87 Q580.385 1536.98 582.19 1540.55 Q584.019 1544.09 587.63 1544.09 Q591.264 1544.09 593.07 1540.55 Q594.899 1536.98 594.899 1529.87 Q594.899 1522.75 593.07 1519.2 Q591.264 1515.64 587.63 1515.64 M587.63 1511.93 Q593.44 1511.93 596.496 1516.54 Q599.575 1521.12 599.575 1529.87 Q599.575 1538.6 596.496 1543.21 Q593.44 1547.79 587.63 1547.79 Q581.82 1547.79 578.741 1543.21 Q575.686 1538.6 575.686 1529.87 Q575.686 1521.12 578.741 1516.54 Q581.82 1511.93 587.63 1511.93 Z\" fill=\"#000000\" fill-rule=\"evenodd\" fill-opacity=\"1\" /><path clip-path=\"url(#clip240)\" d=\"M 0 0 M975.037 1543.18 L991.356 1543.18 L991.356 1547.12 L969.412 1547.12 L969.412 1543.18 Q972.074 1540.43 976.657 1535.8 Q981.263 1531.15 982.444 1529.81 Q984.689 1527.28 985.569 1525.55 Q986.472 1523.79 986.472 1522.1 Q986.472 1519.34 984.527 1517.61 Q982.606 1515.87 979.504 1515.87 Q977.305 1515.87 974.851 1516.63 Q972.421 1517.4 969.643 1518.95 L969.643 1514.23 Q972.467 1513.09 974.921 1512.51 Q977.375 1511.93 979.412 1511.93 Q984.782 1511.93 987.976 1514.62 Q991.171 1517.31 991.171 1521.8 Q991.171 1523.93 990.361 1525.85 Q989.574 1527.74 987.467 1530.34 Q986.888 1531.01 983.787 1534.23 Q980.685 1537.42 975.037 1543.18 Z\" fill=\"#000000\" fill-rule=\"evenodd\" fill-opacity=\"1\" /><path clip-path=\"url(#clip240)\" d=\"M 0 0 M1006.43 1515.64 Q1002.81 1515.64 1000.99 1519.2 Q999.18 1522.75 999.18 1529.87 Q999.18 1536.98 1000.99 1540.55 Q1002.81 1544.09 1006.43 1544.09 Q1010.06 1544.09 1011.87 1540.55 Q1013.69 1536.98 1013.69 1529.87 Q1013.69 1522.75 1011.87 1519.2 Q1010.06 1515.64 1006.43 1515.64 M1006.43 1511.93 Q1012.24 1511.93 1015.29 1516.54 Q1018.37 1521.12 1018.37 1529.87 Q1018.37 1538.6 1015.29 1543.21 Q1012.24 1547.79 1006.43 1547.79 Q1000.62 1547.79 997.537 1543.21 Q994.481 1538.6 994.481 1529.87 Q994.481 1521.12 997.537 1516.54 Q1000.62 1511.93 1006.43 1511.93 Z\" fill=\"#000000\" fill-rule=\"evenodd\" fill-opacity=\"1\" /><path clip-path=\"url(#clip240)\" d=\"M 0 0 M1402.74 1528.49 Q1406.1 1529.2 1407.98 1531.47 Q1409.87 1533.74 1409.87 1537.07 Q1409.87 1542.19 1406.35 1544.99 Q1402.84 1547.79 1396.36 1547.79 Q1394.18 1547.79 1391.86 1547.35 Q1389.57 1546.93 1387.12 1546.08 L1387.12 1541.56 Q1389.06 1542.7 1391.38 1543.28 Q1393.69 1543.86 1396.22 1543.86 Q1400.61 1543.86 1402.91 1542.12 Q1405.22 1540.38 1405.22 1537.07 Q1405.22 1534.02 1403.07 1532.31 Q1400.94 1530.57 1397.12 1530.57 L1393.09 1530.57 L1393.09 1526.73 L1397.3 1526.73 Q1400.75 1526.73 1402.58 1525.36 Q1404.41 1523.97 1404.41 1521.38 Q1404.41 1518.72 1402.51 1517.31 Q1400.64 1515.87 1397.12 1515.87 Q1395.2 1515.87 1393 1516.29 Q1390.8 1516.7 1388.16 1517.58 L1388.16 1513.42 Q1390.82 1512.68 1393.14 1512.31 Q1395.48 1511.93 1397.54 1511.93 Q1402.86 1511.93 1405.96 1514.37 Q1409.06 1516.77 1409.06 1520.89 Q1409.06 1523.76 1407.42 1525.75 Q1405.78 1527.72 1402.74 1528.49 Z\" fill=\"#000000\" fill-rule=\"evenodd\" fill-opacity=\"1\" /><path clip-path=\"url(#clip240)\" d=\"M 0 0 M1424.94 1515.64 Q1421.33 1515.64 1419.5 1519.2 Q1417.7 1522.75 1417.7 1529.87 Q1417.7 1536.98 1419.5 1540.55 Q1421.33 1544.09 1424.94 1544.09 Q1428.58 1544.09 1430.38 1540.55 Q1432.21 1536.98 1432.21 1529.87 Q1432.21 1522.75 1430.38 1519.2 Q1428.58 1515.64 1424.94 1515.64 M1424.94 1511.93 Q1430.75 1511.93 1433.81 1516.54 Q1436.89 1521.12 1436.89 1529.87 Q1436.89 1538.6 1433.81 1543.21 Q1430.75 1547.79 1424.94 1547.79 Q1419.13 1547.79 1416.05 1543.21 Q1413 1538.6 1413 1529.87 Q1413 1521.12 1416.05 1516.54 Q1419.13 1511.93 1424.94 1511.93 Z\" fill=\"#000000\" fill-rule=\"evenodd\" fill-opacity=\"1\" /><path clip-path=\"url(#clip240)\" d=\"M 0 0 M1819.62 1516.63 L1807.81 1535.08 L1819.62 1535.08 L1819.62 1516.63 M1818.39 1512.56 L1824.27 1512.56 L1824.27 1535.08 L1829.2 1535.08 L1829.2 1538.97 L1824.27 1538.97 L1824.27 1547.12 L1819.62 1547.12 L1819.62 1538.97 L1804.02 1538.97 L1804.02 1534.46 L1818.39 1512.56 Z\" fill=\"#000000\" fill-rule=\"evenodd\" fill-opacity=\"1\" /><path clip-path=\"url(#clip240)\" d=\"M 0 0 M1844.27 1515.64 Q1840.66 1515.64 1838.83 1519.2 Q1837.03 1522.75 1837.03 1529.87 Q1837.03 1536.98 1838.83 1540.55 Q1840.66 1544.09 1844.27 1544.09 Q1847.9 1544.09 1849.71 1540.55 Q1851.54 1536.98 1851.54 1529.87 Q1851.54 1522.75 1849.71 1519.2 Q1847.9 1515.64 1844.27 1515.64 M1844.27 1511.93 Q1850.08 1511.93 1853.14 1516.54 Q1856.21 1521.12 1856.21 1529.87 Q1856.21 1538.6 1853.14 1543.21 Q1850.08 1547.79 1844.27 1547.79 Q1838.46 1547.79 1835.38 1543.21 Q1832.33 1538.6 1832.33 1529.87 Q1832.33 1521.12 1835.38 1516.54 Q1838.46 1511.93 1844.27 1511.93 Z\" fill=\"#000000\" fill-rule=\"evenodd\" fill-opacity=\"1\" /><path clip-path=\"url(#clip240)\" d=\"M 0 0 M2225 1512.56 L2243.36 1512.56 L2243.36 1516.5 L2229.28 1516.5 L2229.28 1524.97 Q2230.3 1524.62 2231.32 1524.46 Q2232.34 1524.27 2233.36 1524.27 Q2239.14 1524.27 2242.52 1527.44 Q2245.9 1530.62 2245.9 1536.03 Q2245.9 1541.61 2242.43 1544.71 Q2238.96 1547.79 2232.64 1547.79 Q2230.46 1547.79 2228.19 1547.42 Q2225.95 1547.05 2223.54 1546.31 L2223.54 1541.61 Q2225.62 1542.74 2227.85 1543.3 Q2230.07 1543.86 2232.55 1543.86 Q2236.55 1543.86 2238.89 1541.75 Q2241.23 1539.64 2241.23 1536.03 Q2241.23 1532.42 2238.89 1530.31 Q2236.55 1528.21 2232.55 1528.21 Q2230.67 1528.21 2228.8 1528.62 Q2226.94 1529.04 2225 1529.92 L2225 1512.56 Z\" fill=\"#000000\" fill-rule=\"evenodd\" fill-opacity=\"1\" /><path clip-path=\"url(#clip240)\" d=\"M 0 0 M2260.97 1515.64 Q2257.36 1515.64 2255.53 1519.2 Q2253.73 1522.75 2253.73 1529.87 Q2253.73 1536.98 2255.53 1540.55 Q2257.36 1544.09 2260.97 1544.09 Q2264.61 1544.09 2266.41 1540.55 Q2268.24 1536.98 2268.24 1529.87 Q2268.24 1522.75 2266.41 1519.2 Q2264.61 1515.64 2260.97 1515.64 M2260.97 1511.93 Q2266.78 1511.93 2269.84 1516.54 Q2272.92 1521.12 2272.92 1529.87 Q2272.92 1538.6 2269.84 1543.21 Q2266.78 1547.79 2260.97 1547.79 Q2255.16 1547.79 2252.08 1543.21 Q2249.03 1538.6 2249.03 1529.87 Q2249.03 1521.12 2252.08 1516.54 Q2255.16 1511.93 2260.97 1511.93 Z\" fill=\"#000000\" fill-rule=\"evenodd\" fill-opacity=\"1\" /><polyline clip-path=\"url(#clip242)\" style=\"stroke:#000000; stroke-width:2; stroke-opacity:0.1; fill:none\" points=\"\n  136.76,1445.72 2352.76,1445.72 \n  \"/>\n<polyline clip-path=\"url(#clip242)\" style=\"stroke:#000000; stroke-width:2; stroke-opacity:0.1; fill:none\" points=\"\n  136.76,1106.28 2352.76,1106.28 \n  \"/>\n<polyline clip-path=\"url(#clip242)\" style=\"stroke:#000000; stroke-width:2; stroke-opacity:0.1; fill:none\" points=\"\n  136.76,766.846 2352.76,766.846 \n  \"/>\n<polyline clip-path=\"url(#clip242)\" style=\"stroke:#000000; stroke-width:2; stroke-opacity:0.1; fill:none\" points=\"\n  136.76,427.411 2352.76,427.411 \n  \"/>\n<polyline clip-path=\"url(#clip242)\" style=\"stroke:#000000; stroke-width:2; stroke-opacity:0.1; fill:none\" points=\"\n  136.76,87.9763 2352.76,87.9763 \n  \"/>\n<polyline clip-path=\"url(#clip240)\" style=\"stroke:#000000; stroke-width:4; stroke-opacity:1; fill:none\" points=\"\n  136.76,1486.45 136.76,47.2441 \n  \"/>\n<polyline clip-path=\"url(#clip240)\" style=\"stroke:#000000; stroke-width:4; stroke-opacity:1; fill:none\" points=\"\n  136.76,1445.72 163.352,1445.72 \n  \"/>\n<polyline clip-path=\"url(#clip240)\" style=\"stroke:#000000; stroke-width:4; stroke-opacity:1; fill:none\" points=\"\n  136.76,1106.28 163.352,1106.28 \n  \"/>\n<polyline clip-path=\"url(#clip240)\" style=\"stroke:#000000; stroke-width:4; stroke-opacity:1; fill:none\" points=\"\n  136.76,766.846 163.352,766.846 \n  \"/>\n<polyline clip-path=\"url(#clip240)\" style=\"stroke:#000000; stroke-width:4; stroke-opacity:1; fill:none\" points=\"\n  136.76,427.411 163.352,427.411 \n  \"/>\n<polyline clip-path=\"url(#clip240)\" style=\"stroke:#000000; stroke-width:4; stroke-opacity:1; fill:none\" points=\"\n  136.76,87.9763 163.352,87.9763 \n  \"/>\n<path clip-path=\"url(#clip240)\" d=\"M 0 0 M54.8347 1459.06 L62.4735 1459.06 L62.4735 1432.69 L54.1634 1434.36 L54.1634 1430.1 L62.4272 1428.44 L67.1032 1428.44 L67.1032 1459.06 L74.742 1459.06 L74.742 1463 L54.8347 1463 L54.8347 1459.06 Z\" fill=\"#000000\" fill-rule=\"evenodd\" fill-opacity=\"1\" /><path clip-path=\"url(#clip240)\" d=\"M 0 0 M79.8577 1428.44 L98.2141 1428.44 L98.2141 1432.37 L84.1401 1432.37 L84.1401 1440.84 Q85.1586 1440.5 86.1771 1440.33 Q87.1956 1440.15 88.2141 1440.15 Q94.0012 1440.15 97.3808 1443.32 Q100.76 1446.49 100.76 1451.91 Q100.76 1457.49 97.2882 1460.59 Q93.816 1463.67 87.4966 1463.67 Q85.3206 1463.67 83.0521 1463.3 Q80.8068 1462.93 78.3994 1462.19 L78.3994 1457.49 Q80.4827 1458.62 82.7049 1459.18 Q84.9271 1459.73 87.404 1459.73 Q91.4086 1459.73 93.7465 1457.63 Q96.0845 1455.52 96.0845 1451.91 Q96.0845 1448.3 93.7465 1446.19 Q91.4086 1444.08 87.404 1444.08 Q85.529 1444.08 83.654 1444.5 Q81.8021 1444.92 79.8577 1445.8 L79.8577 1428.44 Z\" fill=\"#000000\" fill-rule=\"evenodd\" fill-opacity=\"1\" /><path clip-path=\"url(#clip240)\" d=\"M 0 0 M57.4273 1119.63 L73.7466 1119.63 L73.7466 1123.56 L51.8023 1123.56 L51.8023 1119.63 Q54.4643 1116.87 59.0476 1112.24 Q63.6541 1107.59 64.8346 1106.25 Q67.08 1103.72 67.9596 1101.99 Q68.8624 1100.23 68.8624 1098.54 Q68.8624 1095.78 66.918 1094.05 Q64.9967 1092.31 61.8948 1092.31 Q59.6958 1092.31 57.2421 1093.07 Q54.8115 1093.84 52.0338 1095.39 L52.0338 1090.67 Q54.8578 1089.53 57.3115 1088.95 Q59.7652 1088.38 61.8023 1088.38 Q67.1726 1088.38 70.367 1091.06 Q73.5614 1093.75 73.5614 1098.24 Q73.5614 1100.37 72.7513 1102.29 Q71.9642 1104.19 69.8578 1106.78 Q69.2791 1107.45 66.1772 1110.67 Q63.0754 1113.86 57.4273 1119.63 Z\" fill=\"#000000\" fill-rule=\"evenodd\" fill-opacity=\"1\" /><path clip-path=\"url(#clip240)\" d=\"M 0 0 M88.816 1092.08 Q85.2049 1092.08 83.3762 1095.64 Q81.5707 1099.19 81.5707 1106.32 Q81.5707 1113.42 83.3762 1116.99 Q85.2049 1120.53 88.816 1120.53 Q92.4502 1120.53 94.2558 1116.99 Q96.0845 1113.42 96.0845 1106.32 Q96.0845 1099.19 94.2558 1095.64 Q92.4502 1092.08 88.816 1092.08 M88.816 1088.38 Q94.6262 1088.38 97.6817 1092.98 Q100.76 1097.57 100.76 1106.32 Q100.76 1115.04 97.6817 1119.65 Q94.6262 1124.23 88.816 1124.23 Q83.0058 1124.23 79.9272 1119.65 Q76.8716 1115.04 76.8716 1106.32 Q76.8716 1097.57 79.9272 1092.98 Q83.0058 1088.38 88.816 1088.38 Z\" fill=\"#000000\" fill-rule=\"evenodd\" fill-opacity=\"1\" /><path clip-path=\"url(#clip240)\" d=\"M 0 0 M58.4226 780.191 L74.742 780.191 L74.742 784.126 L52.7977 784.126 L52.7977 780.191 Q55.4597 777.436 60.043 772.807 Q64.6495 768.154 65.83 766.811 Q68.0754 764.288 68.955 762.552 Q69.8578 760.793 69.8578 759.103 Q69.8578 756.348 67.9133 754.612 Q65.992 752.876 62.8902 752.876 Q60.6911 752.876 58.2375 753.64 Q55.8069 754.404 53.0292 755.955 L53.0292 751.233 Q55.8532 750.098 58.3069 749.52 Q60.7606 748.941 62.7976 748.941 Q68.168 748.941 71.3624 751.626 Q74.5568 754.311 74.5568 758.802 Q74.5568 760.932 73.7466 762.853 Q72.9596 764.751 70.8531 767.344 Q70.2744 768.015 67.1726 771.233 Q64.0708 774.427 58.4226 780.191 Z\" fill=\"#000000\" fill-rule=\"evenodd\" fill-opacity=\"1\" /><path clip-path=\"url(#clip240)\" d=\"M 0 0 M79.8577 749.566 L98.2141 749.566 L98.2141 753.501 L84.1401 753.501 L84.1401 761.973 Q85.1586 761.626 86.1771 761.464 Q87.1956 761.279 88.2141 761.279 Q94.0012 761.279 97.3808 764.45 Q100.76 767.621 100.76 773.038 Q100.76 778.617 97.2882 781.719 Q93.816 784.797 87.4966 784.797 Q85.3206 784.797 83.0521 784.427 Q80.8068 784.057 78.3994 783.316 L78.3994 778.617 Q80.4827 779.751 82.7049 780.307 Q84.9271 780.862 87.404 780.862 Q91.4086 780.862 93.7465 778.756 Q96.0845 776.649 96.0845 773.038 Q96.0845 769.427 93.7465 767.321 Q91.4086 765.214 87.404 765.214 Q85.529 765.214 83.654 765.631 Q81.8021 766.047 79.8577 766.927 L79.8577 749.566 Z\" fill=\"#000000\" fill-rule=\"evenodd\" fill-opacity=\"1\" /><path clip-path=\"url(#clip240)\" d=\"M 0 0 M66.617 426.057 Q69.9735 426.775 71.8485 429.043 Q73.7466 431.312 73.7466 434.645 Q73.7466 439.761 70.2281 442.562 Q66.7096 445.362 60.2282 445.362 Q58.0523 445.362 55.7375 444.923 Q53.4458 444.506 50.9921 443.649 L50.9921 439.136 Q52.9366 440.27 55.2514 440.849 Q57.5662 441.427 60.0893 441.427 Q64.4874 441.427 66.7791 439.691 Q69.0939 437.955 69.0939 434.645 Q69.0939 431.589 66.9411 429.876 Q64.8115 428.14 60.9921 428.14 L56.9643 428.14 L56.9643 424.298 L61.1773 424.298 Q64.6263 424.298 66.455 422.932 Q68.2837 421.543 68.2837 418.951 Q68.2837 416.289 66.3856 414.876 Q64.5106 413.441 60.9921 413.441 Q59.0708 413.441 56.8717 413.858 Q54.6727 414.275 52.0338 415.154 L52.0338 410.988 Q54.6958 410.247 57.0106 409.877 Q59.3486 409.506 61.4087 409.506 Q66.7328 409.506 69.8346 411.937 Q72.9365 414.344 72.9365 418.464 Q72.9365 421.335 71.2929 423.326 Q69.6494 425.293 66.617 426.057 Z\" fill=\"#000000\" fill-rule=\"evenodd\" fill-opacity=\"1\" /><path clip-path=\"url(#clip240)\" d=\"M 0 0 M88.816 413.21 Q85.2049 413.21 83.3762 416.775 Q81.5707 420.316 81.5707 427.446 Q81.5707 434.552 83.3762 438.117 Q85.2049 441.659 88.816 441.659 Q92.4502 441.659 94.2558 438.117 Q96.0845 434.552 96.0845 427.446 Q96.0845 420.316 94.2558 416.775 Q92.4502 413.21 88.816 413.21 M88.816 409.506 Q94.6262 409.506 97.6817 414.113 Q100.76 418.696 100.76 427.446 Q100.76 436.173 97.6817 440.779 Q94.6262 445.362 88.816 445.362 Q83.0058 445.362 79.9272 440.779 Q76.8716 436.173 76.8716 427.446 Q76.8716 418.696 79.9272 414.113 Q83.0058 409.506 88.816 409.506 Z\" fill=\"#000000\" fill-rule=\"evenodd\" fill-opacity=\"1\" /><path clip-path=\"url(#clip240)\" d=\"M 0 0 M67.6124 86.6221 Q70.9689 87.3397 72.8439 89.6082 Q74.742 91.8767 74.742 95.21 Q74.742 100.326 71.2235 103.127 Q67.705 105.928 61.2236 105.928 Q59.0476 105.928 56.7328 105.488 Q54.4412 105.071 51.9875 104.215 L51.9875 99.7008 Q53.9319 100.835 56.2467 101.414 Q58.5615 101.992 61.0847 101.992 Q65.4828 101.992 67.7744 100.256 Q70.0892 98.5202 70.0892 95.21 Q70.0892 92.1545 67.9365 90.4415 Q65.8069 88.7054 61.9874 88.7054 L57.9597 88.7054 L57.9597 84.8629 L62.1726 84.8629 Q65.6217 84.8629 67.4504 83.4971 Q69.2791 82.1083 69.2791 79.5157 Q69.2791 76.8537 67.3809 75.4416 Q65.5059 74.0064 61.9874 74.0064 Q60.0662 74.0064 57.8671 74.4231 Q55.668 74.8398 53.0292 75.7194 L53.0292 71.5528 Q55.6912 70.812 58.006 70.4416 Q60.3439 70.0713 62.4041 70.0713 Q67.7281 70.0713 70.83 72.5018 Q73.9318 74.9092 73.9318 79.0296 Q73.9318 81.8999 72.2883 83.8907 Q70.6448 85.8582 67.6124 86.6221 Z\" fill=\"#000000\" fill-rule=\"evenodd\" fill-opacity=\"1\" /><path clip-path=\"url(#clip240)\" d=\"M 0 0 M79.8577 70.6963 L98.2141 70.6963 L98.2141 74.6314 L84.1401 74.6314 L84.1401 83.1036 Q85.1586 82.7564 86.1771 82.5944 Q87.1956 82.4092 88.2141 82.4092 Q94.0012 82.4092 97.3808 85.5805 Q100.76 88.7517 100.76 94.1684 Q100.76 99.747 97.2882 102.849 Q93.816 105.928 87.4966 105.928 Q85.3206 105.928 83.0521 105.557 Q80.8068 105.187 78.3994 104.446 L78.3994 99.747 Q80.4827 100.881 82.7049 101.437 Q84.9271 101.992 87.404 101.992 Q91.4086 101.992 93.7465 99.8859 Q96.0845 97.7795 96.0845 94.1684 Q96.0845 90.5573 93.7465 88.4508 Q91.4086 86.3443 87.404 86.3443 Q85.529 86.3443 83.654 86.761 Q81.8021 87.1777 79.8577 88.0573 L79.8577 70.6963 Z\" fill=\"#000000\" fill-rule=\"evenodd\" fill-opacity=\"1\" /><polyline clip-path=\"url(#clip242)\" style=\"stroke:#800080; stroke-width:4; stroke-opacity:1; fill:none\" points=\"\n  199.477,563.185 241.288,563.185 283.1,698.959 324.911,698.959 366.722,766.846 408.533,902.62 450.345,902.62 492.156,970.507 533.967,970.507 575.778,970.507 \n  617.59,970.507 659.401,1038.39 701.212,1038.39 743.023,1106.28 784.835,1106.28 826.646,1174.17 868.457,1174.17 910.268,1174.17 952.079,1242.05 993.891,1242.05 \n  1035.7,1242.05 1077.51,1242.05 1119.32,1242.05 1161.14,1242.05 1202.95,1242.05 1244.76,1309.94 1286.57,1309.94 1328.38,1377.83 1370.19,1445.72 1412,1445.72 \n  1453.81,1445.72 1495.63,1445.72 1537.44,1445.72 1579.25,1445.72 1621.06,1445.72 1662.87,1445.72 1704.68,1445.72 1746.49,1309.94 1788.3,1377.83 1830.12,1377.83 \n  1871.93,1377.83 1913.74,1377.83 1955.55,1377.83 1997.36,1377.83 2039.17,1377.83 2080.98,1242.05 2122.79,1242.05 2164.61,1242.05 2206.42,1309.94 2248.23,1309.94 \n  2290.04,1309.94 \n  \"/>\n<polyline clip-path=\"url(#clip242)\" style=\"stroke:#008000; stroke-width:4; stroke-opacity:1; fill:none\" points=\"\n  199.477,495.298 241.288,563.185 283.1,495.298 324.911,427.411 366.722,359.524 408.533,291.637 450.345,223.75 492.156,223.75 533.967,359.524 575.778,291.637 \n  617.59,223.75 659.401,155.863 701.212,155.863 743.023,87.9763 784.835,223.75 826.646,155.863 868.457,291.637 910.268,223.75 952.079,155.863 993.891,87.9763 \n  1035.7,87.9763 1077.51,87.9763 1119.32,223.75 1161.14,359.524 1202.95,495.298 1244.76,427.411 1286.57,427.411 1328.38,359.524 1370.19,291.637 1412,223.75 \n  1453.81,223.75 1495.63,359.524 1537.44,359.524 1579.25,359.524 1621.06,359.524 1662.87,359.524 1704.68,495.298 1746.49,495.298 1788.3,427.411 1830.12,359.524 \n  1871.93,359.524 1913.74,495.298 1955.55,427.411 1997.36,563.185 2039.17,563.185 2080.98,563.185 2122.79,698.959 2164.61,698.959 2206.42,631.072 2248.23,631.072 \n  2290.04,563.185 \n  \"/>\n<path clip-path=\"url(#clip240)\" d=\"\nM1826.65 276.658 L2278.89 276.658 L2278.89 95.2176 L1826.65 95.2176  Z\n  \" fill=\"#ffffff\" fill-rule=\"evenodd\" fill-opacity=\"1\"/>\n<polyline clip-path=\"url(#clip240)\" style=\"stroke:#000000; stroke-width:4; stroke-opacity:1; fill:none\" points=\"\n  1826.65,276.658 2278.89,276.658 2278.89,95.2176 1826.65,95.2176 1826.65,276.658 \n  \"/>\n<polyline clip-path=\"url(#clip240)\" style=\"stroke:#800080; stroke-width:4; stroke-opacity:1; fill:none\" points=\"\n  1851.27,155.698 1999.01,155.698 \n  \"/>\n<path clip-path=\"url(#clip240)\" d=\"M 0 0 M2042.54 159.714 Q2042.54 155.084 2040.62 152.538 Q2038.72 149.992 2035.27 149.992 Q2031.85 149.992 2029.92 152.538 Q2028.03 155.084 2028.03 159.714 Q2028.03 164.32 2029.92 166.866 Q2031.85 169.413 2035.27 169.413 Q2038.72 169.413 2040.62 166.866 Q2042.54 164.32 2042.54 159.714 M2046.8 169.76 Q2046.8 176.38 2043.86 179.598 Q2040.92 182.839 2034.85 182.839 Q2032.61 182.839 2030.62 182.491 Q2028.63 182.167 2026.75 181.473 L2026.75 177.329 Q2028.63 178.348 2030.46 178.834 Q2032.28 179.32 2034.18 179.32 Q2038.37 179.32 2040.46 177.121 Q2042.54 174.945 2042.54 170.524 L2042.54 168.417 Q2041.22 170.709 2039.16 171.843 Q2037.1 172.978 2034.23 172.978 Q2029.46 172.978 2026.54 169.343 Q2023.63 165.709 2023.63 159.714 Q2023.63 153.695 2026.54 150.061 Q2029.46 146.427 2034.23 146.427 Q2037.1 146.427 2039.16 147.561 Q2041.22 148.695 2042.54 150.987 L2042.54 147.052 L2046.8 147.052 L2046.8 169.76 Z\" fill=\"#000000\" fill-rule=\"evenodd\" fill-opacity=\"1\" /><path clip-path=\"url(#clip240)\" d=\"M 0 0 M2061.31 150.038 Q2057.89 150.038 2055.9 152.723 Q2053.91 155.385 2053.91 160.038 Q2053.91 164.691 2055.87 167.376 Q2057.86 170.038 2061.31 170.038 Q2064.72 170.038 2066.71 167.353 Q2068.7 164.667 2068.7 160.038 Q2068.7 155.431 2066.71 152.746 Q2064.72 150.038 2061.31 150.038 M2061.31 146.427 Q2066.87 146.427 2070.04 150.038 Q2073.21 153.649 2073.21 160.038 Q2073.21 166.404 2070.04 170.038 Q2066.87 173.649 2061.31 173.649 Q2055.73 173.649 2052.56 170.038 Q2049.41 166.404 2049.41 160.038 Q2049.41 153.649 2052.56 150.038 Q2055.73 146.427 2061.31 146.427 Z\" fill=\"#000000\" fill-rule=\"evenodd\" fill-opacity=\"1\" /><path clip-path=\"url(#clip240)\" d=\"M 0 0 M2077.82 136.959 L2082.08 136.959 L2082.08 150.894 L2084.97 148.811 L2086.73 151.265 L2082.08 154.529 L2082.08 172.978 L2077.82 172.978 L2077.82 157.561 L2074.97 159.598 L2073.26 157.144 L2077.82 153.88 L2077.82 136.959 Z\" fill=\"#000000\" fill-rule=\"evenodd\" fill-opacity=\"1\" /><path clip-path=\"url(#clip240)\" d=\"M 0 0 M2113.37 158.95 L2113.37 161.033 L2093.79 161.033 Q2094.07 165.431 2096.43 167.746 Q2098.81 170.038 2103.05 170.038 Q2105.5 170.038 2107.79 169.436 Q2110.11 168.834 2112.38 167.63 L2112.38 171.658 Q2110.09 172.63 2107.68 173.14 Q2105.27 173.649 2102.79 173.649 Q2096.59 173.649 2092.96 170.038 Q2089.34 166.427 2089.34 160.269 Q2089.34 153.904 2092.77 150.177 Q2096.22 146.427 2102.05 146.427 Q2107.28 146.427 2110.32 149.806 Q2113.37 153.163 2113.37 158.95 M2109.11 157.7 Q2109.07 154.205 2107.15 152.121 Q2105.25 150.038 2102.1 150.038 Q2098.53 150.038 2096.38 152.052 Q2094.25 154.066 2093.93 157.723 L2109.11 157.7 M2105.62 172.978 L2108.37 172.978 Q2107.33 174.39 2106.82 175.408 Q2106.34 176.427 2106.34 177.144 Q2106.34 178.209 2106.96 178.741 Q2107.61 179.274 2108.86 179.274 Q2109.6 179.274 2110.32 179.089 Q2111.03 178.927 2111.75 178.579 L2111.75 181.658 Q2110.87 181.89 2110.09 182.005 Q2109.3 182.121 2108.6 182.121 Q2105.78 182.121 2104.44 181.103 Q2103.12 180.107 2103.12 177.954 Q2103.12 176.843 2103.72 175.616 Q2104.34 174.413 2105.62 172.978 Z\" fill=\"#000000\" fill-rule=\"evenodd\" fill-opacity=\"1\" /><path clip-path=\"url(#clip240)\" d=\"M 0 0 M2136.45 160.038 Q2136.45 155.339 2134.51 152.677 Q2132.59 149.992 2129.21 149.992 Q2125.83 149.992 2123.88 152.677 Q2121.96 155.339 2121.96 160.038 Q2121.96 164.737 2123.88 167.422 Q2125.83 170.084 2129.21 170.084 Q2132.59 170.084 2134.51 167.422 Q2136.45 164.737 2136.45 160.038 M2121.96 150.987 Q2123.3 148.672 2125.34 147.561 Q2127.4 146.427 2130.25 146.427 Q2134.97 146.427 2137.91 150.177 Q2140.87 153.927 2140.87 160.038 Q2140.87 166.149 2137.91 169.899 Q2134.97 173.649 2130.25 173.649 Q2127.4 173.649 2125.34 172.538 Q2123.3 171.403 2121.96 169.089 L2121.96 172.978 L2117.68 172.978 L2117.68 136.959 L2121.96 136.959 L2121.96 150.987 Z\" fill=\"#000000\" fill-rule=\"evenodd\" fill-opacity=\"1\" /><path clip-path=\"url(#clip240)\" d=\"M 0 0 M2145.34 147.052 L2149.6 147.052 L2149.6 172.978 L2145.34 172.978 L2145.34 147.052 M2145.34 136.959 L2149.6 136.959 L2149.6 142.353 L2145.34 142.353 L2145.34 136.959 Z\" fill=\"#000000\" fill-rule=\"evenodd\" fill-opacity=\"1\" /><path clip-path=\"url(#clip240)\" d=\"M 0 0 M2176.24 158.95 L2176.24 161.033 L2156.66 161.033 Q2156.94 165.431 2159.3 167.746 Q2161.68 170.038 2165.92 170.038 Q2168.37 170.038 2170.66 169.436 Q2172.98 168.834 2175.25 167.63 L2175.25 171.658 Q2172.96 172.63 2170.55 173.14 Q2168.14 173.649 2165.66 173.649 Q2159.46 173.649 2155.83 170.038 Q2152.21 166.427 2152.21 160.269 Q2152.21 153.904 2155.64 150.177 Q2159.09 146.427 2164.92 146.427 Q2170.15 146.427 2173.19 149.806 Q2176.24 153.163 2176.24 158.95 M2171.98 157.7 Q2171.94 154.205 2170.02 152.121 Q2168.12 150.038 2164.97 150.038 Q2161.4 150.038 2159.25 152.052 Q2157.12 154.066 2156.8 157.723 L2171.98 157.7 Z\" fill=\"#000000\" fill-rule=\"evenodd\" fill-opacity=\"1\" /><polyline clip-path=\"url(#clip240)\" style=\"stroke:#008000; stroke-width:4; stroke-opacity:1; fill:none\" points=\"\n  1851.27,216.178 1999.01,216.178 \n  \"/>\n<path clip-path=\"url(#clip240)\" d=\"M 0 0 M2028.95 207.532 L2033.21 207.532 L2033.21 233.921 Q2033.21 238.874 2031.31 241.096 Q2029.44 243.319 2025.25 243.319 L2023.63 243.319 L2023.63 239.708 L2024.76 239.708 Q2027.19 239.708 2028.07 238.573 Q2028.95 237.462 2028.95 233.921 L2028.95 207.532 M2028.95 197.439 L2033.21 197.439 L2033.21 202.833 L2028.95 202.833 L2028.95 197.439 Z\" fill=\"#000000\" fill-rule=\"evenodd\" fill-opacity=\"1\" /><path clip-path=\"url(#clip240)\" d=\"M 0 0 M2049.46 220.425 Q2044.3 220.425 2042.31 221.606 Q2040.32 222.786 2040.32 225.634 Q2040.32 227.902 2041.8 229.245 Q2043.3 230.564 2045.87 230.564 Q2049.41 230.564 2051.54 228.064 Q2053.7 225.541 2053.7 221.374 L2053.7 220.425 L2049.46 220.425 M2057.96 218.666 L2057.96 233.458 L2053.7 233.458 L2053.7 229.522 Q2052.24 231.883 2050.06 233.018 Q2047.89 234.129 2044.74 234.129 Q2040.76 234.129 2038.4 231.907 Q2036.06 229.661 2036.06 225.911 Q2036.06 221.536 2038.97 219.314 Q2041.91 217.092 2047.72 217.092 L2053.7 217.092 L2053.7 216.675 Q2053.7 213.735 2051.75 212.138 Q2049.83 210.518 2046.34 210.518 Q2044.11 210.518 2042.01 211.05 Q2039.9 211.583 2037.96 212.647 L2037.96 208.712 Q2040.29 207.81 2042.49 207.37 Q2044.69 206.907 2046.78 206.907 Q2052.4 206.907 2055.18 209.823 Q2057.96 212.74 2057.96 218.666 Z\" fill=\"#000000\" fill-rule=\"evenodd\" fill-opacity=\"1\" /><path clip-path=\"url(#clip240)\" d=\"M 0 0 M2078.95 208.296 L2078.95 212.323 Q2077.15 211.397 2075.2 210.935 Q2073.26 210.472 2071.17 210.472 Q2068 210.472 2066.41 211.444 Q2064.83 212.416 2064.83 214.36 Q2064.83 215.842 2065.97 216.698 Q2067.1 217.532 2070.53 218.296 L2071.98 218.62 Q2076.52 219.592 2078.42 221.374 Q2080.34 223.134 2080.34 226.305 Q2080.34 229.916 2077.47 232.022 Q2074.62 234.129 2069.62 234.129 Q2067.54 234.129 2065.27 233.712 Q2063.03 233.319 2060.53 232.508 L2060.53 228.11 Q2062.89 229.337 2065.18 229.962 Q2067.47 230.564 2069.72 230.564 Q2072.72 230.564 2074.34 229.546 Q2075.97 228.504 2075.97 226.629 Q2075.97 224.893 2074.78 223.967 Q2073.63 223.041 2069.67 222.184 L2068.19 221.837 Q2064.23 221.004 2062.47 219.291 Q2060.71 217.555 2060.71 214.546 Q2060.71 210.888 2063.3 208.898 Q2065.9 206.907 2070.66 206.907 Q2073.03 206.907 2075.11 207.254 Q2077.19 207.601 2078.95 208.296 Z\" fill=\"#000000\" fill-rule=\"evenodd\" fill-opacity=\"1\" /><path clip-path=\"url(#clip240)\" d=\"M 0 0 M2089.02 200.171 L2089.02 207.532 L2097.79 207.532 L2097.79 210.842 L2089.02 210.842 L2089.02 224.916 Q2089.02 228.087 2089.88 228.99 Q2090.76 229.893 2093.42 229.893 L2097.79 229.893 L2097.79 233.458 L2093.42 233.458 Q2088.49 233.458 2086.61 231.629 Q2084.74 229.777 2084.74 224.916 L2084.74 210.842 L2081.61 210.842 L2081.61 207.532 L2084.74 207.532 L2084.74 200.171 L2089.02 200.171 Z\" fill=\"#000000\" fill-rule=\"evenodd\" fill-opacity=\"1\" /><path clip-path=\"url(#clip240)\" d=\"M 0 0 M2117.28 211.513 Q2116.57 211.097 2115.71 210.911 Q2114.88 210.703 2113.86 210.703 Q2110.25 210.703 2108.3 213.064 Q2106.38 215.402 2106.38 219.8 L2106.38 233.458 L2102.1 233.458 L2102.1 207.532 L2106.38 207.532 L2106.38 211.56 Q2107.72 209.198 2109.88 208.064 Q2112.03 206.907 2115.11 206.907 Q2115.55 206.907 2116.08 206.976 Q2116.61 207.023 2117.26 207.138 L2117.28 211.513 Z\" fill=\"#000000\" fill-rule=\"evenodd\" fill-opacity=\"1\" /><path clip-path=\"url(#clip240)\" d=\"M 0 0 M2119.9 207.532 L2140.13 207.532 L2140.13 211.421 L2124.11 230.055 L2140.13 230.055 L2140.13 233.458 L2119.32 233.458 L2119.32 229.569 L2135.34 210.935 L2119.9 210.935 L2119.9 207.532 Z\" fill=\"#000000\" fill-rule=\"evenodd\" fill-opacity=\"1\" /><path clip-path=\"url(#clip240)\" d=\"M 0 0 M2166.78 219.43 L2166.78 221.513 L2147.19 221.513 Q2147.47 225.911 2149.83 228.226 Q2152.21 230.518 2156.45 230.518 Q2158.9 230.518 2161.2 229.916 Q2163.51 229.314 2165.78 228.11 L2165.78 232.138 Q2163.49 233.11 2161.08 233.62 Q2158.67 234.129 2156.2 234.129 Q2149.99 234.129 2146.36 230.518 Q2142.75 226.907 2142.75 220.749 Q2142.75 214.384 2146.17 210.657 Q2149.62 206.907 2155.46 206.907 Q2160.69 206.907 2163.72 210.286 Q2166.78 213.643 2166.78 219.43 M2162.52 218.18 Q2162.47 214.685 2160.55 212.601 Q2158.65 210.518 2155.5 210.518 Q2151.94 210.518 2149.78 212.532 Q2147.65 214.546 2147.33 218.203 L2162.52 218.18 M2159.02 233.458 L2161.78 233.458 Q2160.73 234.87 2160.22 235.888 Q2159.74 236.907 2159.74 237.624 Q2159.74 238.689 2160.36 239.221 Q2161.01 239.754 2162.26 239.754 Q2163 239.754 2163.72 239.569 Q2164.44 239.407 2165.15 239.059 L2165.15 242.138 Q2164.28 242.37 2163.49 242.485 Q2162.7 242.601 2162.01 242.601 Q2159.18 242.601 2157.84 241.583 Q2156.52 240.587 2156.52 238.434 Q2156.52 237.323 2157.12 236.096 Q2157.75 234.893 2159.02 233.458 Z\" fill=\"#000000\" fill-rule=\"evenodd\" fill-opacity=\"1\" /><path clip-path=\"url(#clip240)\" d=\"M 0 0 M2189.85 220.518 Q2189.85 215.819 2187.91 213.157 Q2185.99 210.472 2182.61 210.472 Q2179.23 210.472 2177.28 213.157 Q2175.36 215.819 2175.36 220.518 Q2175.36 225.217 2177.28 227.902 Q2179.23 230.564 2182.61 230.564 Q2185.99 230.564 2187.91 227.902 Q2189.85 225.217 2189.85 220.518 M2175.36 211.467 Q2176.71 209.152 2178.74 208.041 Q2180.8 206.907 2183.65 206.907 Q2188.37 206.907 2191.31 210.657 Q2194.27 214.407 2194.27 220.518 Q2194.27 226.629 2191.31 230.379 Q2188.37 234.129 2183.65 234.129 Q2180.8 234.129 2178.74 233.018 Q2176.71 231.883 2175.36 229.569 L2175.36 233.458 L2171.08 233.458 L2171.08 197.439 L2175.36 197.439 L2175.36 211.467 Z\" fill=\"#000000\" fill-rule=\"evenodd\" fill-opacity=\"1\" /><path clip-path=\"url(#clip240)\" d=\"M 0 0 M2198.74 207.532 L2203 207.532 L2203 233.458 L2198.74 233.458 L2198.74 207.532 M2198.74 197.439 L2203 197.439 L2203 202.833 L2198.74 202.833 L2198.74 197.439 Z\" fill=\"#000000\" fill-rule=\"evenodd\" fill-opacity=\"1\" /><path clip-path=\"url(#clip240)\" d=\"M 0 0 M2229.65 219.43 L2229.65 221.513 L2210.06 221.513 Q2210.34 225.911 2212.7 228.226 Q2215.08 230.518 2219.32 230.518 Q2221.77 230.518 2224.07 229.916 Q2226.38 229.314 2228.65 228.11 L2228.65 232.138 Q2226.36 233.11 2223.95 233.62 Q2221.54 234.129 2219.07 234.129 Q2212.86 234.129 2209.23 230.518 Q2205.62 226.907 2205.62 220.749 Q2205.62 214.384 2209.04 210.657 Q2212.49 206.907 2218.33 206.907 Q2223.56 206.907 2226.59 210.286 Q2229.65 213.643 2229.65 219.43 M2225.39 218.18 Q2225.34 214.685 2223.42 212.601 Q2221.52 210.518 2218.37 210.518 Q2214.81 210.518 2212.65 212.532 Q2210.52 214.546 2210.2 218.203 L2225.39 218.18 Z\" fill=\"#000000\" fill-rule=\"evenodd\" fill-opacity=\"1\" /></svg>\n"
               },
               "type": "node"
              }
             ],
             "instanceArgs": {
              "namespace": "html",
              "tag": "div"
             },
             "nodeType": "DOM",
             "props": {
              "className": "interact-flex-row interact-widget"
             },
             "type": "node"
            }
           }
          },
          "systemjs_options": null
         },
         "nodeType": "Scope",
         "props": {},
         "type": "node"
        }
       ],
       "instanceArgs": {
        "namespace": "html",
        "tag": "div"
       },
       "nodeType": "DOM",
       "props": {},
       "type": "node"
      },
      "text/html": [
       "<div\n",
       "    class=\"webio-mountpoint\"\n",
       "    data-webio-mountpoint=\"771602284140558869\"\n",
       ">\n",
       "    <script>\n",
       "    if (window.require && require.defined && require.defined(\"nbextensions/webio-jupyter-notebook\")) {\n",
       "        console.log(\"Jupyter WebIO extension detected, not mounting.\");\n",
       "    } else if (window.WebIO) {\n",
       "        WebIO.mount(\n",
       "            document.querySelector('[data-webio-mountpoint=\"771602284140558869\"]'),\n",
       "            {\"props\":{},\"nodeType\":\"DOM\",\"type\":\"node\",\"instanceArgs\":{\"namespace\":\"html\",\"tag\":\"div\"},\"children\":[{\"props\":{\"className\":\"field interact-widget\"},\"nodeType\":\"DOM\",\"type\":\"node\",\"instanceArgs\":{\"namespace\":\"html\",\"tag\":\"div\"},\"children\":[{\"props\":{},\"nodeType\":\"Scope\",\"type\":\"node\",\"instanceArgs\":{\"imports\":{\"data\":[{\"name\":\"knockout\",\"type\":\"js\",\"url\":\"\\/assetserver\\/fd91bcc76f200e46e5681854927159f78397d01c-knockout.js\"},{\"name\":\"knockout_punches\",\"type\":\"js\",\"url\":\"\\/assetserver\\/0771d715f47990fd6a20af05579c332026637b1d-knockout_punches.js\"},{\"name\":null,\"type\":\"js\",\"url\":\"\\/assetserver\\/e56fcd69f839599425572dc2cffb9ce416a547ec-all.js\"},{\"name\":null,\"type\":\"css\",\"url\":\"\\/assetserver\\/f03a11104aa67cefd9b6e4d413d413b5ef056233-style.css\"},{\"name\":null,\"type\":\"css\",\"url\":\"\\/assetserver\\/e60d8885c5ad87196b49c3e741a5de92d7eeea1c-bulma_confined.min.css\"}],\"type\":\"async_block\"},\"id\":\"222872386228263200\",\"handlers\":{\"changes\":[\"(function (val){return (val!=this.model[\\\"changes\\\"]()) ? (this.valueFromJulia[\\\"changes\\\"]=true, this.model[\\\"changes\\\"](val)) : undefined})\"],\"index\":[\"(function (val){return (val!=this.model[\\\"index\\\"]()) ? (this.valueFromJulia[\\\"index\\\"]=true, this.model[\\\"index\\\"](val)) : undefined})\"]},\"systemjs_options\":null,\"mount_callbacks\":[\"function () {\\n    var handler = (function (ko, koPunches) {\\n    ko.punches.enableAll();\\n    ko.bindingHandlers.numericValue = {\\n        init: function(element, valueAccessor, allBindings, data, context) {\\n            var stringified = ko.observable(ko.unwrap(valueAccessor()));\\n            stringified.subscribe(function(value) {\\n                var val = parseFloat(value);\\n                if (!isNaN(val)) {\\n                    valueAccessor()(val);\\n                }\\n            });\\n            valueAccessor().subscribe(function(value) {\\n                var str = JSON.stringify(value);\\n                if ((str == \\\"0\\\") && ([\\\"-0\\\", \\\"-0.\\\"].indexOf(stringified()) >= 0))\\n                     return;\\n                 if ([\\\"null\\\", \\\"\\\"].indexOf(str) >= 0)\\n                     return;\\n                stringified(str);\\n            });\\n            ko.applyBindingsToNode(\\n                element,\\n                {\\n                    value: stringified,\\n                    valueUpdate: allBindings.get('valueUpdate'),\\n                },\\n                context,\\n            );\\n        }\\n    };\\n    var json_data = {\\\"formatted_vals\\\":[\\\"2\\\",\\\"3\\\",\\\"4\\\",\\\"5\\\",\\\"6\\\",\\\"7\\\",\\\"8\\\",\\\"9\\\",\\\"10\\\",\\\"11\\\",\\\"12\\\",\\\"13\\\",\\\"14\\\",\\\"15\\\",\\\"16\\\",\\\"17\\\",\\\"18\\\",\\\"19\\\",\\\"20\\\",\\\"21\\\",\\\"22\\\",\\\"23\\\",\\\"24\\\",\\\"25\\\",\\\"26\\\",\\\"27\\\",\\\"28\\\",\\\"29\\\",\\\"30\\\",\\\"31\\\",\\\"32\\\",\\\"33\\\",\\\"34\\\",\\\"35\\\",\\\"36\\\",\\\"37\\\",\\\"38\\\",\\\"39\\\",\\\"40\\\",\\\"41\\\",\\\"42\\\",\\\"43\\\",\\\"44\\\",\\\"45\\\",\\\"46\\\",\\\"47\\\",\\\"48\\\",\\\"49\\\",\\\"50\\\",\\\"51\\\",\\\"52\\\",\\\"53\\\",\\\"54\\\",\\\"55\\\",\\\"56\\\",\\\"57\\\",\\\"58\\\",\\\"59\\\",\\\"60\\\",\\\"61\\\",\\\"62\\\",\\\"63\\\",\\\"64\\\",\\\"65\\\",\\\"66\\\",\\\"67\\\",\\\"68\\\",\\\"69\\\",\\\"70\\\",\\\"71\\\",\\\"72\\\",\\\"73\\\",\\\"74\\\",\\\"75\\\",\\\"76\\\",\\\"77\\\",\\\"78\\\",\\\"79\\\",\\\"80\\\",\\\"81\\\",\\\"82\\\",\\\"83\\\",\\\"84\\\",\\\"85\\\",\\\"86\\\",\\\"87\\\",\\\"88\\\",\\\"89\\\",\\\"90\\\",\\\"91\\\",\\\"92\\\",\\\"93\\\",\\\"94\\\",\\\"95\\\",\\\"96\\\",\\\"97\\\",\\\"98\\\",\\\"99\\\",\\\"100\\\"],\\\"changes\\\":WebIO.getval({\\\"name\\\":\\\"changes\\\",\\\"scope\\\":\\\"222872386228263200\\\",\\\"id\\\":\\\"9657432480842699360\\\",\\\"type\\\":\\\"observable\\\"}),\\\"index\\\":WebIO.getval({\\\"name\\\":\\\"index\\\",\\\"scope\\\":\\\"222872386228263200\\\",\\\"id\\\":\\\"9906375580117670844\\\",\\\"type\\\":\\\"observable\\\"})};\\n    var self = this;\\n    function AppViewModel() {\\n        for (var key in json_data) {\\n            var el = json_data[key];\\n            this[key] = Array.isArray(el) ? ko.observableArray(el) : ko.observable(el);\\n        }\\n        \\n        [this[\\\"formatted_val\\\"]=ko.computed(    function(){\\n        return this.formatted_vals()[parseInt(this.index())-(1)];\\n    }\\n,this)]\\n        [this[\\\"changes\\\"].subscribe((function (val){!(this.valueFromJulia[\\\"changes\\\"]) ? (WebIO.setval({\\\"name\\\":\\\"changes\\\",\\\"scope\\\":\\\"222872386228263200\\\",\\\"id\\\":\\\"9657432480842699360\\\",\\\"type\\\":\\\"observable\\\"},val)) : undefined; return this.valueFromJulia[\\\"changes\\\"]=false}),self),this[\\\"index\\\"].subscribe((function (val){!(this.valueFromJulia[\\\"index\\\"]) ? (WebIO.setval({\\\"name\\\":\\\"index\\\",\\\"scope\\\":\\\"222872386228263200\\\",\\\"id\\\":\\\"9906375580117670844\\\",\\\"type\\\":\\\"observable\\\"},val)) : undefined; return this.valueFromJulia[\\\"index\\\"]=false}),self)]\\n        \\n    }\\n    self.model = new AppViewModel();\\n    self.valueFromJulia = {};\\n    for (var key in json_data) {\\n        self.valueFromJulia[key] = false;\\n    }\\n    ko.applyBindings(self.model, self.dom);\\n}\\n);\\n    (WebIO.importBlock({\\\"data\\\":[{\\\"name\\\":\\\"knockout\\\",\\\"type\\\":\\\"js\\\",\\\"url\\\":\\\"\\/assetserver\\/fd91bcc76f200e46e5681854927159f78397d01c-knockout.js\\\"},{\\\"name\\\":\\\"knockout_punches\\\",\\\"type\\\":\\\"js\\\",\\\"url\\\":\\\"\\/assetserver\\/0771d715f47990fd6a20af05579c332026637b1d-knockout_punches.js\\\"}],\\\"type\\\":\\\"async_block\\\"})).then((imports) => handler.apply(this, imports));\\n}\\n\"],\"observables\":{\"changes\":{\"sync\":false,\"id\":\"9657432480842699360\",\"value\":0},\"index\":{\"sync\":true,\"id\":\"9906375580117670844\",\"value\":50}}},\"children\":[{\"props\":{\"className\":\"interact-flex-row interact-widget\"},\"nodeType\":\"DOM\",\"type\":\"node\",\"instanceArgs\":{\"namespace\":\"html\",\"tag\":\"div\"},\"children\":[{\"props\":{\"className\":\"interact-flex-row-left\"},\"nodeType\":\"DOM\",\"type\":\"node\",\"instanceArgs\":{\"namespace\":\"html\",\"tag\":\"div\"},\"children\":[{\"props\":{\"className\":\"interact \",\"style\":{\"padding\":\"5px 10px 0px 10px\"}},\"nodeType\":\"DOM\",\"type\":\"node\",\"instanceArgs\":{\"namespace\":\"html\",\"tag\":\"label\"},\"children\":[\"time\"]}]},{\"props\":{\"className\":\"interact-flex-row-center\"},\"nodeType\":\"DOM\",\"type\":\"node\",\"instanceArgs\":{\"namespace\":\"html\",\"tag\":\"div\"},\"children\":[{\"props\":{\"max\":99,\"min\":1,\"attributes\":{\"type\":\"range\",\"data-bind\":\"numericValue: index, valueUpdate: 'input', event: {change: function (){this.changes(this.changes()+1)}}\",\"orient\":\"horizontal\"},\"step\":1,\"className\":\"slider slider is-fullwidth\",\"style\":{}},\"nodeType\":\"DOM\",\"type\":\"node\",\"instanceArgs\":{\"namespace\":\"html\",\"tag\":\"input\"},\"children\":[]}]},{\"props\":{\"className\":\"interact-flex-row-right\"},\"nodeType\":\"DOM\",\"type\":\"node\",\"instanceArgs\":{\"namespace\":\"html\",\"tag\":\"div\"},\"children\":[{\"props\":{\"attributes\":{\"data-bind\":\"text: formatted_val\"}},\"nodeType\":\"DOM\",\"type\":\"node\",\"instanceArgs\":{\"namespace\":\"html\",\"tag\":\"p\"},\"children\":[]}]}]}]}]},{\"props\":{},\"nodeType\":\"Scope\",\"type\":\"node\",\"instanceArgs\":{\"imports\":{\"data\":[],\"type\":\"async_block\"},\"id\":\"6437301124636623276\",\"handlers\":{},\"systemjs_options\":null,\"mount_callbacks\":[],\"observables\":{\"obs-node\":{\"sync\":false,\"id\":\"11913641743310058961\",\"value\":{\"props\":{\"className\":\"interact-flex-row interact-widget\"},\"nodeType\":\"DOM\",\"type\":\"node\",\"instanceArgs\":{\"namespace\":\"html\",\"tag\":\"div\"},\"children\":[{\"props\":{\"setInnerHtml\":\"<?xml version=\\\"1.0\\\" encoding=\\\"utf-8\\\"?>\\n<svg xmlns=\\\"http:\\/\\/www.w3.org\\/2000\\/svg\\\" xmlns:xlink=\\\"http:\\/\\/www.w3.org\\/1999\\/xlink\\\" width=\\\"600\\\" height=\\\"400\\\" viewBox=\\\"0 0 2400 1600\\\">\\n<defs>\\n  <clipPath id=\\\"clip200\\\">\\n    <rect x=\\\"0\\\" y=\\\"0\\\" width=\\\"2400\\\" height=\\\"1600\\\"\\/>\\n  <\\/clipPath>\\n<\\/defs>\\n<path clip-path=\\\"url(#clip200)\\\" d=\\\"\\nM0 1600 L2400 1600 L2400 0 L0 0  Z\\n  \\\" fill=\\\"#ffffff\\\" fill-rule=\\\"evenodd\\\" fill-opacity=\\\"1\\\"\\/>\\n<defs>\\n  <clipPath id=\\\"clip201\\\">\\n    <rect x=\\\"480\\\" y=\\\"0\\\" width=\\\"1681\\\" height=\\\"1600\\\"\\/>\\n  <\\/clipPath>\\n<\\/defs>\\n<path clip-path=\\\"url(#clip200)\\\" d=\\\"\\nM136.76 1486.45 L2352.76 1486.45 L2352.76 47.2441 L136.76 47.2441  Z\\n  \\\" fill=\\\"#ffffff\\\" fill-rule=\\\"evenodd\\\" fill-opacity=\\\"1\\\"\\/>\\n<defs>\\n  <clipPath id=\\\"clip202\\\">\\n    <rect x=\\\"136\\\" y=\\\"47\\\" width=\\\"2217\\\" height=\\\"1440\\\"\\/>\\n  <\\/clipPath>\\n<\\/defs>\\n<polyline clip-path=\\\"url(#clip202)\\\" style=\\\"stroke:#000000; stroke-width:2; stroke-opacity:0.1; fill:none\\\" points=\\\"\\n  157.666,1486.45 157.666,47.2441 \\n  \\\"\\/>\\n<polyline clip-path=\\\"url(#clip202)\\\" style=\\\"stroke:#000000; stroke-width:2; stroke-opacity:0.1; fill:none\\\" points=\\\"\\n  575.778,1486.45 575.778,47.2441 \\n  \\\"\\/>\\n<polyline clip-path=\\\"url(#clip202)\\\" style=\\\"stroke:#000000; stroke-width:2; stroke-opacity:0.1; fill:none\\\" points=\\\"\\n  993.891,1486.45 993.891,47.2441 \\n  \\\"\\/>\\n<polyline clip-path=\\\"url(#clip202)\\\" style=\\\"stroke:#000000; stroke-width:2; stroke-opacity:0.1; fill:none\\\" points=\\\"\\n  1412,1486.45 1412,47.2441 \\n  \\\"\\/>\\n<polyline clip-path=\\\"url(#clip202)\\\" style=\\\"stroke:#000000; stroke-width:2; stroke-opacity:0.1; fill:none\\\" points=\\\"\\n  1830.12,1486.45 1830.12,47.2441 \\n  \\\"\\/>\\n<polyline clip-path=\\\"url(#clip202)\\\" style=\\\"stroke:#000000; stroke-width:2; stroke-opacity:0.1; fill:none\\\" points=\\\"\\n  2248.23,1486.45 2248.23,47.2441 \\n  \\\"\\/>\\n<polyline clip-path=\\\"url(#clip200)\\\" style=\\\"stroke:#000000; stroke-width:4; stroke-opacity:1; fill:none\\\" points=\\\"\\n  136.76,1486.45 2352.76,1486.45 \\n  \\\"\\/>\\n<polyline clip-path=\\\"url(#clip200)\\\" style=\\\"stroke:#000000; stroke-width:4; stroke-opacity:1; fill:none\\\" points=\\\"\\n  157.666,1486.45 157.666,1469.18 \\n  \\\"\\/>\\n<polyline clip-path=\\\"url(#clip200)\\\" style=\\\"stroke:#000000; stroke-width:4; stroke-opacity:1; fill:none\\\" points=\\\"\\n  575.778,1486.45 575.778,1469.18 \\n  \\\"\\/>\\n<polyline clip-path=\\\"url(#clip200)\\\" style=\\\"stroke:#000000; stroke-width:4; stroke-opacity:1; fill:none\\\" points=\\\"\\n  993.891,1486.45 993.891,1469.18 \\n  \\\"\\/>\\n<polyline clip-path=\\\"url(#clip200)\\\" style=\\\"stroke:#000000; stroke-width:4; stroke-opacity:1; fill:none\\\" points=\\\"\\n  1412,1486.45 1412,1469.18 \\n  \\\"\\/>\\n<polyline clip-path=\\\"url(#clip200)\\\" style=\\\"stroke:#000000; stroke-width:4; stroke-opacity:1; fill:none\\\" points=\\\"\\n  1830.12,1486.45 1830.12,1469.18 \\n  \\\"\\/>\\n<polyline clip-path=\\\"url(#clip200)\\\" style=\\\"stroke:#000000; stroke-width:4; stroke-opacity:1; fill:none\\\" points=\\\"\\n  2248.23,1486.45 2248.23,1469.18 \\n  \\\"\\/>\\n<path clip-path=\\\"url(#clip200)\\\" d=\\\"M 0 0 M157.666 1515.64 Q154.055 1515.64 152.226 1519.2 Q150.421 1522.75 150.421 1529.87 Q150.421 1536.98 152.226 1540.55 Q154.055 1544.09 157.666 1544.09 Q161.3 1544.09 163.106 1540.55 Q164.934 1536.98 164.934 1529.87 Q164.934 1522.75 163.106 1519.2 Q161.3 1515.64 157.666 1515.64 M157.666 1511.93 Q163.476 1511.93 166.532 1516.54 Q169.61 1521.12 169.61 1529.87 Q169.61 1538.6 166.532 1543.21 Q163.476 1547.79 157.666 1547.79 Q151.856 1547.79 148.777 1543.21 Q145.722 1538.6 145.722 1529.87 Q145.722 1521.12 148.777 1516.54 Q151.856 1511.93 157.666 1511.93 Z\\\" fill=\\\"#000000\\\" fill-rule=\\\"evenodd\\\" fill-opacity=\\\"1\\\" \\/><path clip-path=\\\"url(#clip200)\\\" d=\\\"M 0 0 M552.653 1543.18 L560.292 1543.18 L560.292 1516.82 L551.982 1518.49 L551.982 1514.23 L560.246 1512.56 L564.922 1512.56 L564.922 1543.18 L572.561 1543.18 L572.561 1547.12 L552.653 1547.12 L552.653 1543.18 Z\\\" fill=\\\"#000000\\\" fill-rule=\\\"evenodd\\\" fill-opacity=\\\"1\\\" \\/><path clip-path=\\\"url(#clip200)\\\" d=\\\"M 0 0 M587.63 1515.64 Q584.019 1515.64 582.19 1519.2 Q580.385 1522.75 580.385 1529.87 Q580.385 1536.98 582.19 1540.55 Q584.019 1544.09 587.63 1544.09 Q591.264 1544.09 593.07 1540.55 Q594.899 1536.98 594.899 1529.87 Q594.899 1522.75 593.07 1519.2 Q591.264 1515.64 587.63 1515.64 M587.63 1511.93 Q593.44 1511.93 596.496 1516.54 Q599.575 1521.12 599.575 1529.87 Q599.575 1538.6 596.496 1543.21 Q593.44 1547.79 587.63 1547.79 Q581.82 1547.79 578.741 1543.21 Q575.686 1538.6 575.686 1529.87 Q575.686 1521.12 578.741 1516.54 Q581.82 1511.93 587.63 1511.93 Z\\\" fill=\\\"#000000\\\" fill-rule=\\\"evenodd\\\" fill-opacity=\\\"1\\\" \\/><path clip-path=\\\"url(#clip200)\\\" d=\\\"M 0 0 M975.037 1543.18 L991.356 1543.18 L991.356 1547.12 L969.412 1547.12 L969.412 1543.18 Q972.074 1540.43 976.657 1535.8 Q981.263 1531.15 982.444 1529.81 Q984.689 1527.28 985.569 1525.55 Q986.472 1523.79 986.472 1522.1 Q986.472 1519.34 984.527 1517.61 Q982.606 1515.87 979.504 1515.87 Q977.305 1515.87 974.851 1516.63 Q972.421 1517.4 969.643 1518.95 L969.643 1514.23 Q972.467 1513.09 974.921 1512.51 Q977.375 1511.93 979.412 1511.93 Q984.782 1511.93 987.976 1514.62 Q991.171 1517.31 991.171 1521.8 Q991.171 1523.93 990.361 1525.85 Q989.574 1527.74 987.467 1530.34 Q986.888 1531.01 983.787 1534.23 Q980.685 1537.42 975.037 1543.18 Z\\\" fill=\\\"#000000\\\" fill-rule=\\\"evenodd\\\" fill-opacity=\\\"1\\\" \\/><path clip-path=\\\"url(#clip200)\\\" d=\\\"M 0 0 M1006.43 1515.64 Q1002.81 1515.64 1000.99 1519.2 Q999.18 1522.75 999.18 1529.87 Q999.18 1536.98 1000.99 1540.55 Q1002.81 1544.09 1006.43 1544.09 Q1010.06 1544.09 1011.87 1540.55 Q1013.69 1536.98 1013.69 1529.87 Q1013.69 1522.75 1011.87 1519.2 Q1010.06 1515.64 1006.43 1515.64 M1006.43 1511.93 Q1012.24 1511.93 1015.29 1516.54 Q1018.37 1521.12 1018.37 1529.87 Q1018.37 1538.6 1015.29 1543.21 Q1012.24 1547.79 1006.43 1547.79 Q1000.62 1547.79 997.537 1543.21 Q994.481 1538.6 994.481 1529.87 Q994.481 1521.12 997.537 1516.54 Q1000.62 1511.93 1006.43 1511.93 Z\\\" fill=\\\"#000000\\\" fill-rule=\\\"evenodd\\\" fill-opacity=\\\"1\\\" \\/><path clip-path=\\\"url(#clip200)\\\" d=\\\"M 0 0 M1402.74 1528.49 Q1406.1 1529.2 1407.98 1531.47 Q1409.87 1533.74 1409.87 1537.07 Q1409.87 1542.19 1406.35 1544.99 Q1402.84 1547.79 1396.36 1547.79 Q1394.18 1547.79 1391.86 1547.35 Q1389.57 1546.93 1387.12 1546.08 L1387.12 1541.56 Q1389.06 1542.7 1391.38 1543.28 Q1393.69 1543.86 1396.22 1543.86 Q1400.61 1543.86 1402.91 1542.12 Q1405.22 1540.38 1405.22 1537.07 Q1405.22 1534.02 1403.07 1532.31 Q1400.94 1530.57 1397.12 1530.57 L1393.09 1530.57 L1393.09 1526.73 L1397.3 1526.73 Q1400.75 1526.73 1402.58 1525.36 Q1404.41 1523.97 1404.41 1521.38 Q1404.41 1518.72 1402.51 1517.31 Q1400.64 1515.87 1397.12 1515.87 Q1395.2 1515.87 1393 1516.29 Q1390.8 1516.7 1388.16 1517.58 L1388.16 1513.42 Q1390.82 1512.68 1393.14 1512.31 Q1395.48 1511.93 1397.54 1511.93 Q1402.86 1511.93 1405.96 1514.37 Q1409.06 1516.77 1409.06 1520.89 Q1409.06 1523.76 1407.42 1525.75 Q1405.78 1527.72 1402.74 1528.49 Z\\\" fill=\\\"#000000\\\" fill-rule=\\\"evenodd\\\" fill-opacity=\\\"1\\\" \\/><path clip-path=\\\"url(#clip200)\\\" d=\\\"M 0 0 M1424.94 1515.64 Q1421.33 1515.64 1419.5 1519.2 Q1417.7 1522.75 1417.7 1529.87 Q1417.7 1536.98 1419.5 1540.55 Q1421.33 1544.09 1424.94 1544.09 Q1428.58 1544.09 1430.38 1540.55 Q1432.21 1536.98 1432.21 1529.87 Q1432.21 1522.75 1430.38 1519.2 Q1428.58 1515.64 1424.94 1515.64 M1424.94 1511.93 Q1430.75 1511.93 1433.81 1516.54 Q1436.89 1521.12 1436.89 1529.87 Q1436.89 1538.6 1433.81 1543.21 Q1430.75 1547.79 1424.94 1547.79 Q1419.13 1547.79 1416.05 1543.21 Q1413 1538.6 1413 1529.87 Q1413 1521.12 1416.05 1516.54 Q1419.13 1511.93 1424.94 1511.93 Z\\\" fill=\\\"#000000\\\" fill-rule=\\\"evenodd\\\" fill-opacity=\\\"1\\\" \\/><path clip-path=\\\"url(#clip200)\\\" d=\\\"M 0 0 M1819.62 1516.63 L1807.81 1535.08 L1819.62 1535.08 L1819.62 1516.63 M1818.39 1512.56 L1824.27 1512.56 L1824.27 1535.08 L1829.2 1535.08 L1829.2 1538.97 L1824.27 1538.97 L1824.27 1547.12 L1819.62 1547.12 L1819.62 1538.97 L1804.02 1538.97 L1804.02 1534.46 L1818.39 1512.56 Z\\\" fill=\\\"#000000\\\" fill-rule=\\\"evenodd\\\" fill-opacity=\\\"1\\\" \\/><path clip-path=\\\"url(#clip200)\\\" d=\\\"M 0 0 M1844.27 1515.64 Q1840.66 1515.64 1838.83 1519.2 Q1837.03 1522.75 1837.03 1529.87 Q1837.03 1536.98 1838.83 1540.55 Q1840.66 1544.09 1844.27 1544.09 Q1847.9 1544.09 1849.71 1540.55 Q1851.54 1536.98 1851.54 1529.87 Q1851.54 1522.75 1849.71 1519.2 Q1847.9 1515.64 1844.27 1515.64 M1844.27 1511.93 Q1850.08 1511.93 1853.14 1516.54 Q1856.21 1521.12 1856.21 1529.87 Q1856.21 1538.6 1853.14 1543.21 Q1850.08 1547.79 1844.27 1547.79 Q1838.46 1547.79 1835.38 1543.21 Q1832.33 1538.6 1832.33 1529.87 Q1832.33 1521.12 1835.38 1516.54 Q1838.46 1511.93 1844.27 1511.93 Z\\\" fill=\\\"#000000\\\" fill-rule=\\\"evenodd\\\" fill-opacity=\\\"1\\\" \\/><path clip-path=\\\"url(#clip200)\\\" d=\\\"M 0 0 M2225 1512.56 L2243.36 1512.56 L2243.36 1516.5 L2229.28 1516.5 L2229.28 1524.97 Q2230.3 1524.62 2231.32 1524.46 Q2232.34 1524.27 2233.36 1524.27 Q2239.14 1524.27 2242.52 1527.44 Q2245.9 1530.62 2245.9 1536.03 Q2245.9 1541.61 2242.43 1544.71 Q2238.96 1547.79 2232.64 1547.79 Q2230.46 1547.79 2228.19 1547.42 Q2225.95 1547.05 2223.54 1546.31 L2223.54 1541.61 Q2225.62 1542.74 2227.85 1543.3 Q2230.07 1543.86 2232.55 1543.86 Q2236.55 1543.86 2238.89 1541.75 Q2241.23 1539.64 2241.23 1536.03 Q2241.23 1532.42 2238.89 1530.31 Q2236.55 1528.21 2232.55 1528.21 Q2230.67 1528.21 2228.8 1528.62 Q2226.94 1529.04 2225 1529.92 L2225 1512.56 Z\\\" fill=\\\"#000000\\\" fill-rule=\\\"evenodd\\\" fill-opacity=\\\"1\\\" \\/><path clip-path=\\\"url(#clip200)\\\" d=\\\"M 0 0 M2260.97 1515.64 Q2257.36 1515.64 2255.53 1519.2 Q2253.73 1522.75 2253.73 1529.87 Q2253.73 1536.98 2255.53 1540.55 Q2257.36 1544.09 2260.97 1544.09 Q2264.61 1544.09 2266.41 1540.55 Q2268.24 1536.98 2268.24 1529.87 Q2268.24 1522.75 2266.41 1519.2 Q2264.61 1515.64 2260.97 1515.64 M2260.97 1511.93 Q2266.78 1511.93 2269.84 1516.54 Q2272.92 1521.12 2272.92 1529.87 Q2272.92 1538.6 2269.84 1543.21 Q2266.78 1547.79 2260.97 1547.79 Q2255.16 1547.79 2252.08 1543.21 Q2249.03 1538.6 2249.03 1529.87 Q2249.03 1521.12 2252.08 1516.54 Q2255.16 1511.93 2260.97 1511.93 Z\\\" fill=\\\"#000000\\\" fill-rule=\\\"evenodd\\\" fill-opacity=\\\"1\\\" \\/><polyline clip-path=\\\"url(#clip202)\\\" style=\\\"stroke:#000000; stroke-width:2; stroke-opacity:0.1; fill:none\\\" points=\\\"\\n  136.76,1445.72 2352.76,1445.72 \\n  \\\"\\/>\\n<polyline clip-path=\\\"url(#clip202)\\\" style=\\\"stroke:#000000; stroke-width:2; stroke-opacity:0.1; fill:none\\\" points=\\\"\\n  136.76,1106.28 2352.76,1106.28 \\n  \\\"\\/>\\n<polyline clip-path=\\\"url(#clip202)\\\" style=\\\"stroke:#000000; stroke-width:2; stroke-opacity:0.1; fill:none\\\" points=\\\"\\n  136.76,766.846 2352.76,766.846 \\n  \\\"\\/>\\n<polyline clip-path=\\\"url(#clip202)\\\" style=\\\"stroke:#000000; stroke-width:2; stroke-opacity:0.1; fill:none\\\" points=\\\"\\n  136.76,427.411 2352.76,427.411 \\n  \\\"\\/>\\n<polyline clip-path=\\\"url(#clip202)\\\" style=\\\"stroke:#000000; stroke-width:2; stroke-opacity:0.1; fill:none\\\" points=\\\"\\n  136.76,87.9763 2352.76,87.9763 \\n  \\\"\\/>\\n<polyline clip-path=\\\"url(#clip200)\\\" style=\\\"stroke:#000000; stroke-width:4; stroke-opacity:1; fill:none\\\" points=\\\"\\n  136.76,1486.45 136.76,47.2441 \\n  \\\"\\/>\\n<polyline clip-path=\\\"url(#clip200)\\\" style=\\\"stroke:#000000; stroke-width:4; stroke-opacity:1; fill:none\\\" points=\\\"\\n  136.76,1445.72 163.352,1445.72 \\n  \\\"\\/>\\n<polyline clip-path=\\\"url(#clip200)\\\" style=\\\"stroke:#000000; stroke-width:4; stroke-opacity:1; fill:none\\\" points=\\\"\\n  136.76,1106.28 163.352,1106.28 \\n  \\\"\\/>\\n<polyline clip-path=\\\"url(#clip200)\\\" style=\\\"stroke:#000000; stroke-width:4; stroke-opacity:1; fill:none\\\" points=\\\"\\n  136.76,766.846 163.352,766.846 \\n  \\\"\\/>\\n<polyline clip-path=\\\"url(#clip200)\\\" style=\\\"stroke:#000000; stroke-width:4; stroke-opacity:1; fill:none\\\" points=\\\"\\n  136.76,427.411 163.352,427.411 \\n  \\\"\\/>\\n<polyline clip-path=\\\"url(#clip200)\\\" style=\\\"stroke:#000000; stroke-width:4; stroke-opacity:1; fill:none\\\" points=\\\"\\n  136.76,87.9763 163.352,87.9763 \\n  \\\"\\/>\\n<path clip-path=\\\"url(#clip200)\\\" d=\\\"M 0 0 M54.8347 1459.06 L62.4735 1459.06 L62.4735 1432.69 L54.1634 1434.36 L54.1634 1430.1 L62.4272 1428.44 L67.1032 1428.44 L67.1032 1459.06 L74.742 1459.06 L74.742 1463 L54.8347 1463 L54.8347 1459.06 Z\\\" fill=\\\"#000000\\\" fill-rule=\\\"evenodd\\\" fill-opacity=\\\"1\\\" \\/><path clip-path=\\\"url(#clip200)\\\" d=\\\"M 0 0 M79.8577 1428.44 L98.2141 1428.44 L98.2141 1432.37 L84.1401 1432.37 L84.1401 1440.84 Q85.1586 1440.5 86.1771 1440.33 Q87.1956 1440.15 88.2141 1440.15 Q94.0012 1440.15 97.3808 1443.32 Q100.76 1446.49 100.76 1451.91 Q100.76 1457.49 97.2882 1460.59 Q93.816 1463.67 87.4966 1463.67 Q85.3206 1463.67 83.0521 1463.3 Q80.8068 1462.93 78.3994 1462.19 L78.3994 1457.49 Q80.4827 1458.62 82.7049 1459.18 Q84.9271 1459.73 87.404 1459.73 Q91.4086 1459.73 93.7465 1457.63 Q96.0845 1455.52 96.0845 1451.91 Q96.0845 1448.3 93.7465 1446.19 Q91.4086 1444.08 87.404 1444.08 Q85.529 1444.08 83.654 1444.5 Q81.8021 1444.92 79.8577 1445.8 L79.8577 1428.44 Z\\\" fill=\\\"#000000\\\" fill-rule=\\\"evenodd\\\" fill-opacity=\\\"1\\\" \\/><path clip-path=\\\"url(#clip200)\\\" d=\\\"M 0 0 M57.4273 1119.63 L73.7466 1119.63 L73.7466 1123.56 L51.8023 1123.56 L51.8023 1119.63 Q54.4643 1116.87 59.0476 1112.24 Q63.6541 1107.59 64.8346 1106.25 Q67.08 1103.72 67.9596 1101.99 Q68.8624 1100.23 68.8624 1098.54 Q68.8624 1095.78 66.918 1094.05 Q64.9967 1092.31 61.8948 1092.31 Q59.6958 1092.31 57.2421 1093.07 Q54.8115 1093.84 52.0338 1095.39 L52.0338 1090.67 Q54.8578 1089.53 57.3115 1088.95 Q59.7652 1088.38 61.8023 1088.38 Q67.1726 1088.38 70.367 1091.06 Q73.5614 1093.75 73.5614 1098.24 Q73.5614 1100.37 72.7513 1102.29 Q71.9642 1104.19 69.8578 1106.78 Q69.2791 1107.45 66.1772 1110.67 Q63.0754 1113.86 57.4273 1119.63 Z\\\" fill=\\\"#000000\\\" fill-rule=\\\"evenodd\\\" fill-opacity=\\\"1\\\" \\/><path clip-path=\\\"url(#clip200)\\\" d=\\\"M 0 0 M88.816 1092.08 Q85.2049 1092.08 83.3762 1095.64 Q81.5707 1099.19 81.5707 1106.32 Q81.5707 1113.42 83.3762 1116.99 Q85.2049 1120.53 88.816 1120.53 Q92.4502 1120.53 94.2558 1116.99 Q96.0845 1113.42 96.0845 1106.32 Q96.0845 1099.19 94.2558 1095.64 Q92.4502 1092.08 88.816 1092.08 M88.816 1088.38 Q94.6262 1088.38 97.6817 1092.98 Q100.76 1097.57 100.76 1106.32 Q100.76 1115.04 97.6817 1119.65 Q94.6262 1124.23 88.816 1124.23 Q83.0058 1124.23 79.9272 1119.65 Q76.8716 1115.04 76.8716 1106.32 Q76.8716 1097.57 79.9272 1092.98 Q83.0058 1088.38 88.816 1088.38 Z\\\" fill=\\\"#000000\\\" fill-rule=\\\"evenodd\\\" fill-opacity=\\\"1\\\" \\/><path clip-path=\\\"url(#clip200)\\\" d=\\\"M 0 0 M58.4226 780.191 L74.742 780.191 L74.742 784.126 L52.7977 784.126 L52.7977 780.191 Q55.4597 777.436 60.043 772.807 Q64.6495 768.154 65.83 766.811 Q68.0754 764.288 68.955 762.552 Q69.8578 760.793 69.8578 759.103 Q69.8578 756.348 67.9133 754.612 Q65.992 752.876 62.8902 752.876 Q60.6911 752.876 58.2375 753.64 Q55.8069 754.404 53.0292 755.955 L53.0292 751.233 Q55.8532 750.098 58.3069 749.52 Q60.7606 748.941 62.7976 748.941 Q68.168 748.941 71.3624 751.626 Q74.5568 754.311 74.5568 758.802 Q74.5568 760.932 73.7466 762.853 Q72.9596 764.751 70.8531 767.344 Q70.2744 768.015 67.1726 771.233 Q64.0708 774.427 58.4226 780.191 Z\\\" fill=\\\"#000000\\\" fill-rule=\\\"evenodd\\\" fill-opacity=\\\"1\\\" \\/><path clip-path=\\\"url(#clip200)\\\" d=\\\"M 0 0 M79.8577 749.566 L98.2141 749.566 L98.2141 753.501 L84.1401 753.501 L84.1401 761.973 Q85.1586 761.626 86.1771 761.464 Q87.1956 761.279 88.2141 761.279 Q94.0012 761.279 97.3808 764.45 Q100.76 767.621 100.76 773.038 Q100.76 778.617 97.2882 781.719 Q93.816 784.797 87.4966 784.797 Q85.3206 784.797 83.0521 784.427 Q80.8068 784.057 78.3994 783.316 L78.3994 778.617 Q80.4827 779.751 82.7049 780.307 Q84.9271 780.862 87.404 780.862 Q91.4086 780.862 93.7465 778.756 Q96.0845 776.649 96.0845 773.038 Q96.0845 769.427 93.7465 767.321 Q91.4086 765.214 87.404 765.214 Q85.529 765.214 83.654 765.631 Q81.8021 766.047 79.8577 766.927 L79.8577 749.566 Z\\\" fill=\\\"#000000\\\" fill-rule=\\\"evenodd\\\" fill-opacity=\\\"1\\\" \\/><path clip-path=\\\"url(#clip200)\\\" d=\\\"M 0 0 M66.617 426.057 Q69.9735 426.775 71.8485 429.043 Q73.7466 431.312 73.7466 434.645 Q73.7466 439.761 70.2281 442.562 Q66.7096 445.362 60.2282 445.362 Q58.0523 445.362 55.7375 444.923 Q53.4458 444.506 50.9921 443.649 L50.9921 439.136 Q52.9366 440.27 55.2514 440.849 Q57.5662 441.427 60.0893 441.427 Q64.4874 441.427 66.7791 439.691 Q69.0939 437.955 69.0939 434.645 Q69.0939 431.589 66.9411 429.876 Q64.8115 428.14 60.9921 428.14 L56.9643 428.14 L56.9643 424.298 L61.1773 424.298 Q64.6263 424.298 66.455 422.932 Q68.2837 421.543 68.2837 418.951 Q68.2837 416.289 66.3856 414.876 Q64.5106 413.441 60.9921 413.441 Q59.0708 413.441 56.8717 413.858 Q54.6727 414.275 52.0338 415.154 L52.0338 410.988 Q54.6958 410.247 57.0106 409.877 Q59.3486 409.506 61.4087 409.506 Q66.7328 409.506 69.8346 411.937 Q72.9365 414.344 72.9365 418.464 Q72.9365 421.335 71.2929 423.326 Q69.6494 425.293 66.617 426.057 Z\\\" fill=\\\"#000000\\\" fill-rule=\\\"evenodd\\\" fill-opacity=\\\"1\\\" \\/><path clip-path=\\\"url(#clip200)\\\" d=\\\"M 0 0 M88.816 413.21 Q85.2049 413.21 83.3762 416.775 Q81.5707 420.316 81.5707 427.446 Q81.5707 434.552 83.3762 438.117 Q85.2049 441.659 88.816 441.659 Q92.4502 441.659 94.2558 438.117 Q96.0845 434.552 96.0845 427.446 Q96.0845 420.316 94.2558 416.775 Q92.4502 413.21 88.816 413.21 M88.816 409.506 Q94.6262 409.506 97.6817 414.113 Q100.76 418.696 100.76 427.446 Q100.76 436.173 97.6817 440.779 Q94.6262 445.362 88.816 445.362 Q83.0058 445.362 79.9272 440.779 Q76.8716 436.173 76.8716 427.446 Q76.8716 418.696 79.9272 414.113 Q83.0058 409.506 88.816 409.506 Z\\\" fill=\\\"#000000\\\" fill-rule=\\\"evenodd\\\" fill-opacity=\\\"1\\\" \\/><path clip-path=\\\"url(#clip200)\\\" d=\\\"M 0 0 M67.6124 86.6221 Q70.9689 87.3397 72.8439 89.6082 Q74.742 91.8767 74.742 95.21 Q74.742 100.326 71.2235 103.127 Q67.705 105.928 61.2236 105.928 Q59.0476 105.928 56.7328 105.488 Q54.4412 105.071 51.9875 104.215 L51.9875 99.7008 Q53.9319 100.835 56.2467 101.414 Q58.5615 101.992 61.0847 101.992 Q65.4828 101.992 67.7744 100.256 Q70.0892 98.5202 70.0892 95.21 Q70.0892 92.1545 67.9365 90.4415 Q65.8069 88.7054 61.9874 88.7054 L57.9597 88.7054 L57.9597 84.8629 L62.1726 84.8629 Q65.6217 84.8629 67.4504 83.4971 Q69.2791 82.1083 69.2791 79.5157 Q69.2791 76.8537 67.3809 75.4416 Q65.5059 74.0064 61.9874 74.0064 Q60.0662 74.0064 57.8671 74.4231 Q55.668 74.8398 53.0292 75.7194 L53.0292 71.5528 Q55.6912 70.812 58.006 70.4416 Q60.3439 70.0713 62.4041 70.0713 Q67.7281 70.0713 70.83 72.5018 Q73.9318 74.9092 73.9318 79.0296 Q73.9318 81.8999 72.2883 83.8907 Q70.6448 85.8582 67.6124 86.6221 Z\\\" fill=\\\"#000000\\\" fill-rule=\\\"evenodd\\\" fill-opacity=\\\"1\\\" \\/><path clip-path=\\\"url(#clip200)\\\" d=\\\"M 0 0 M79.8577 70.6963 L98.2141 70.6963 L98.2141 74.6314 L84.1401 74.6314 L84.1401 83.1036 Q85.1586 82.7564 86.1771 82.5944 Q87.1956 82.4092 88.2141 82.4092 Q94.0012 82.4092 97.3808 85.5805 Q100.76 88.7517 100.76 94.1684 Q100.76 99.747 97.2882 102.849 Q93.816 105.928 87.4966 105.928 Q85.3206 105.928 83.0521 105.557 Q80.8068 105.187 78.3994 104.446 L78.3994 99.747 Q80.4827 100.881 82.7049 101.437 Q84.9271 101.992 87.404 101.992 Q91.4086 101.992 93.7465 99.8859 Q96.0845 97.7795 96.0845 94.1684 Q96.0845 90.5573 93.7465 88.4508 Q91.4086 86.3443 87.404 86.3443 Q85.529 86.3443 83.654 86.761 Q81.8021 87.1777 79.8577 88.0573 L79.8577 70.6963 Z\\\" fill=\\\"#000000\\\" fill-rule=\\\"evenodd\\\" fill-opacity=\\\"1\\\" \\/><polyline clip-path=\\\"url(#clip202)\\\" style=\\\"stroke:#800080; stroke-width:4; stroke-opacity:1; fill:none\\\" points=\\\"\\n  199.477,563.185 241.288,563.185 283.1,698.959 324.911,698.959 366.722,766.846 408.533,902.62 450.345,902.62 492.156,970.507 533.967,970.507 575.778,970.507 \\n  617.59,970.507 659.401,1038.39 701.212,1038.39 743.023,1106.28 784.835,1106.28 826.646,1174.17 868.457,1174.17 910.268,1174.17 952.079,1242.05 993.891,1242.05 \\n  1035.7,1242.05 1077.51,1242.05 1119.32,1242.05 1161.14,1242.05 1202.95,1242.05 1244.76,1309.94 1286.57,1309.94 1328.38,1377.83 1370.19,1445.72 1412,1445.72 \\n  1453.81,1445.72 1495.63,1445.72 1537.44,1445.72 1579.25,1445.72 1621.06,1445.72 1662.87,1445.72 1704.68,1445.72 1746.49,1309.94 1788.3,1377.83 1830.12,1377.83 \\n  1871.93,1377.83 1913.74,1377.83 1955.55,1377.83 1997.36,1377.83 2039.17,1377.83 2080.98,1242.05 2122.79,1242.05 2164.61,1242.05 2206.42,1309.94 2248.23,1309.94 \\n  2290.04,1309.94 \\n  \\\"\\/>\\n<polyline clip-path=\\\"url(#clip202)\\\" style=\\\"stroke:#008000; stroke-width:4; stroke-opacity:1; fill:none\\\" points=\\\"\\n  199.477,495.298 241.288,563.185 283.1,495.298 324.911,427.411 366.722,359.524 408.533,291.637 450.345,223.75 492.156,223.75 533.967,359.524 575.778,291.637 \\n  617.59,223.75 659.401,155.863 701.212,155.863 743.023,87.9763 784.835,223.75 826.646,155.863 868.457,291.637 910.268,223.75 952.079,155.863 993.891,87.9763 \\n  1035.7,87.9763 1077.51,87.9763 1119.32,223.75 1161.14,359.524 1202.95,495.298 1244.76,427.411 1286.57,427.411 1328.38,359.524 1370.19,291.637 1412,223.75 \\n  1453.81,223.75 1495.63,359.524 1537.44,359.524 1579.25,359.524 1621.06,359.524 1662.87,359.524 1704.68,495.298 1746.49,495.298 1788.3,427.411 1830.12,359.524 \\n  1871.93,359.524 1913.74,495.298 1955.55,427.411 1997.36,563.185 2039.17,563.185 2080.98,563.185 2122.79,698.959 2164.61,698.959 2206.42,631.072 2248.23,631.072 \\n  2290.04,563.185 \\n  \\\"\\/>\\n<path clip-path=\\\"url(#clip200)\\\" d=\\\"\\nM1826.65 276.658 L2278.89 276.658 L2278.89 95.2176 L1826.65 95.2176  Z\\n  \\\" fill=\\\"#ffffff\\\" fill-rule=\\\"evenodd\\\" fill-opacity=\\\"1\\\"\\/>\\n<polyline clip-path=\\\"url(#clip200)\\\" style=\\\"stroke:#000000; stroke-width:4; stroke-opacity:1; fill:none\\\" points=\\\"\\n  1826.65,276.658 2278.89,276.658 2278.89,95.2176 1826.65,95.2176 1826.65,276.658 \\n  \\\"\\/>\\n<polyline clip-path=\\\"url(#clip200)\\\" style=\\\"stroke:#800080; stroke-width:4; stroke-opacity:1; fill:none\\\" points=\\\"\\n  1851.27,155.698 1999.01,155.698 \\n  \\\"\\/>\\n<path clip-path=\\\"url(#clip200)\\\" d=\\\"M 0 0 M2042.54 159.714 Q2042.54 155.084 2040.62 152.538 Q2038.72 149.992 2035.27 149.992 Q2031.85 149.992 2029.92 152.538 Q2028.03 155.084 2028.03 159.714 Q2028.03 164.32 2029.92 166.866 Q2031.85 169.413 2035.27 169.413 Q2038.72 169.413 2040.62 166.866 Q2042.54 164.32 2042.54 159.714 M2046.8 169.76 Q2046.8 176.38 2043.86 179.598 Q2040.92 182.839 2034.85 182.839 Q2032.61 182.839 2030.62 182.491 Q2028.63 182.167 2026.75 181.473 L2026.75 177.329 Q2028.63 178.348 2030.46 178.834 Q2032.28 179.32 2034.18 179.32 Q2038.37 179.32 2040.46 177.121 Q2042.54 174.945 2042.54 170.524 L2042.54 168.417 Q2041.22 170.709 2039.16 171.843 Q2037.1 172.978 2034.23 172.978 Q2029.46 172.978 2026.54 169.343 Q2023.63 165.709 2023.63 159.714 Q2023.63 153.695 2026.54 150.061 Q2029.46 146.427 2034.23 146.427 Q2037.1 146.427 2039.16 147.561 Q2041.22 148.695 2042.54 150.987 L2042.54 147.052 L2046.8 147.052 L2046.8 169.76 Z\\\" fill=\\\"#000000\\\" fill-rule=\\\"evenodd\\\" fill-opacity=\\\"1\\\" \\/><path clip-path=\\\"url(#clip200)\\\" d=\\\"M 0 0 M2061.31 150.038 Q2057.89 150.038 2055.9 152.723 Q2053.91 155.385 2053.91 160.038 Q2053.91 164.691 2055.87 167.376 Q2057.86 170.038 2061.31 170.038 Q2064.72 170.038 2066.71 167.353 Q2068.7 164.667 2068.7 160.038 Q2068.7 155.431 2066.71 152.746 Q2064.72 150.038 2061.31 150.038 M2061.31 146.427 Q2066.87 146.427 2070.04 150.038 Q2073.21 153.649 2073.21 160.038 Q2073.21 166.404 2070.04 170.038 Q2066.87 173.649 2061.31 173.649 Q2055.73 173.649 2052.56 170.038 Q2049.41 166.404 2049.41 160.038 Q2049.41 153.649 2052.56 150.038 Q2055.73 146.427 2061.31 146.427 Z\\\" fill=\\\"#000000\\\" fill-rule=\\\"evenodd\\\" fill-opacity=\\\"1\\\" \\/><path clip-path=\\\"url(#clip200)\\\" d=\\\"M 0 0 M2077.82 136.959 L2082.08 136.959 L2082.08 150.894 L2084.97 148.811 L2086.73 151.265 L2082.08 154.529 L2082.08 172.978 L2077.82 172.978 L2077.82 157.561 L2074.97 159.598 L2073.26 157.144 L2077.82 153.88 L2077.82 136.959 Z\\\" fill=\\\"#000000\\\" fill-rule=\\\"evenodd\\\" fill-opacity=\\\"1\\\" \\/><path clip-path=\\\"url(#clip200)\\\" d=\\\"M 0 0 M2113.37 158.95 L2113.37 161.033 L2093.79 161.033 Q2094.07 165.431 2096.43 167.746 Q2098.81 170.038 2103.05 170.038 Q2105.5 170.038 2107.79 169.436 Q2110.11 168.834 2112.38 167.63 L2112.38 171.658 Q2110.09 172.63 2107.68 173.14 Q2105.27 173.649 2102.79 173.649 Q2096.59 173.649 2092.96 170.038 Q2089.34 166.427 2089.34 160.269 Q2089.34 153.904 2092.77 150.177 Q2096.22 146.427 2102.05 146.427 Q2107.28 146.427 2110.32 149.806 Q2113.37 153.163 2113.37 158.95 M2109.11 157.7 Q2109.07 154.205 2107.15 152.121 Q2105.25 150.038 2102.1 150.038 Q2098.53 150.038 2096.38 152.052 Q2094.25 154.066 2093.93 157.723 L2109.11 157.7 M2105.62 172.978 L2108.37 172.978 Q2107.33 174.39 2106.82 175.408 Q2106.34 176.427 2106.34 177.144 Q2106.34 178.209 2106.96 178.741 Q2107.61 179.274 2108.86 179.274 Q2109.6 179.274 2110.32 179.089 Q2111.03 178.927 2111.75 178.579 L2111.75 181.658 Q2110.87 181.89 2110.09 182.005 Q2109.3 182.121 2108.6 182.121 Q2105.78 182.121 2104.44 181.103 Q2103.12 180.107 2103.12 177.954 Q2103.12 176.843 2103.72 175.616 Q2104.34 174.413 2105.62 172.978 Z\\\" fill=\\\"#000000\\\" fill-rule=\\\"evenodd\\\" fill-opacity=\\\"1\\\" \\/><path clip-path=\\\"url(#clip200)\\\" d=\\\"M 0 0 M2136.45 160.038 Q2136.45 155.339 2134.51 152.677 Q2132.59 149.992 2129.21 149.992 Q2125.83 149.992 2123.88 152.677 Q2121.96 155.339 2121.96 160.038 Q2121.96 164.737 2123.88 167.422 Q2125.83 170.084 2129.21 170.084 Q2132.59 170.084 2134.51 167.422 Q2136.45 164.737 2136.45 160.038 M2121.96 150.987 Q2123.3 148.672 2125.34 147.561 Q2127.4 146.427 2130.25 146.427 Q2134.97 146.427 2137.91 150.177 Q2140.87 153.927 2140.87 160.038 Q2140.87 166.149 2137.91 169.899 Q2134.97 173.649 2130.25 173.649 Q2127.4 173.649 2125.34 172.538 Q2123.3 171.403 2121.96 169.089 L2121.96 172.978 L2117.68 172.978 L2117.68 136.959 L2121.96 136.959 L2121.96 150.987 Z\\\" fill=\\\"#000000\\\" fill-rule=\\\"evenodd\\\" fill-opacity=\\\"1\\\" \\/><path clip-path=\\\"url(#clip200)\\\" d=\\\"M 0 0 M2145.34 147.052 L2149.6 147.052 L2149.6 172.978 L2145.34 172.978 L2145.34 147.052 M2145.34 136.959 L2149.6 136.959 L2149.6 142.353 L2145.34 142.353 L2145.34 136.959 Z\\\" fill=\\\"#000000\\\" fill-rule=\\\"evenodd\\\" fill-opacity=\\\"1\\\" \\/><path clip-path=\\\"url(#clip200)\\\" d=\\\"M 0 0 M2176.24 158.95 L2176.24 161.033 L2156.66 161.033 Q2156.94 165.431 2159.3 167.746 Q2161.68 170.038 2165.92 170.038 Q2168.37 170.038 2170.66 169.436 Q2172.98 168.834 2175.25 167.63 L2175.25 171.658 Q2172.96 172.63 2170.55 173.14 Q2168.14 173.649 2165.66 173.649 Q2159.46 173.649 2155.83 170.038 Q2152.21 166.427 2152.21 160.269 Q2152.21 153.904 2155.64 150.177 Q2159.09 146.427 2164.92 146.427 Q2170.15 146.427 2173.19 149.806 Q2176.24 153.163 2176.24 158.95 M2171.98 157.7 Q2171.94 154.205 2170.02 152.121 Q2168.12 150.038 2164.97 150.038 Q2161.4 150.038 2159.25 152.052 Q2157.12 154.066 2156.8 157.723 L2171.98 157.7 Z\\\" fill=\\\"#000000\\\" fill-rule=\\\"evenodd\\\" fill-opacity=\\\"1\\\" \\/><polyline clip-path=\\\"url(#clip200)\\\" style=\\\"stroke:#008000; stroke-width:4; stroke-opacity:1; fill:none\\\" points=\\\"\\n  1851.27,216.178 1999.01,216.178 \\n  \\\"\\/>\\n<path clip-path=\\\"url(#clip200)\\\" d=\\\"M 0 0 M2028.95 207.532 L2033.21 207.532 L2033.21 233.921 Q2033.21 238.874 2031.31 241.096 Q2029.44 243.319 2025.25 243.319 L2023.63 243.319 L2023.63 239.708 L2024.76 239.708 Q2027.19 239.708 2028.07 238.573 Q2028.95 237.462 2028.95 233.921 L2028.95 207.532 M2028.95 197.439 L2033.21 197.439 L2033.21 202.833 L2028.95 202.833 L2028.95 197.439 Z\\\" fill=\\\"#000000\\\" fill-rule=\\\"evenodd\\\" fill-opacity=\\\"1\\\" \\/><path clip-path=\\\"url(#clip200)\\\" d=\\\"M 0 0 M2049.46 220.425 Q2044.3 220.425 2042.31 221.606 Q2040.32 222.786 2040.32 225.634 Q2040.32 227.902 2041.8 229.245 Q2043.3 230.564 2045.87 230.564 Q2049.41 230.564 2051.54 228.064 Q2053.7 225.541 2053.7 221.374 L2053.7 220.425 L2049.46 220.425 M2057.96 218.666 L2057.96 233.458 L2053.7 233.458 L2053.7 229.522 Q2052.24 231.883 2050.06 233.018 Q2047.89 234.129 2044.74 234.129 Q2040.76 234.129 2038.4 231.907 Q2036.06 229.661 2036.06 225.911 Q2036.06 221.536 2038.97 219.314 Q2041.91 217.092 2047.72 217.092 L2053.7 217.092 L2053.7 216.675 Q2053.7 213.735 2051.75 212.138 Q2049.83 210.518 2046.34 210.518 Q2044.11 210.518 2042.01 211.05 Q2039.9 211.583 2037.96 212.647 L2037.96 208.712 Q2040.29 207.81 2042.49 207.37 Q2044.69 206.907 2046.78 206.907 Q2052.4 206.907 2055.18 209.823 Q2057.96 212.74 2057.96 218.666 Z\\\" fill=\\\"#000000\\\" fill-rule=\\\"evenodd\\\" fill-opacity=\\\"1\\\" \\/><path clip-path=\\\"url(#clip200)\\\" d=\\\"M 0 0 M2078.95 208.296 L2078.95 212.323 Q2077.15 211.397 2075.2 210.935 Q2073.26 210.472 2071.17 210.472 Q2068 210.472 2066.41 211.444 Q2064.83 212.416 2064.83 214.36 Q2064.83 215.842 2065.97 216.698 Q2067.1 217.532 2070.53 218.296 L2071.98 218.62 Q2076.52 219.592 2078.42 221.374 Q2080.34 223.134 2080.34 226.305 Q2080.34 229.916 2077.47 232.022 Q2074.62 234.129 2069.62 234.129 Q2067.54 234.129 2065.27 233.712 Q2063.03 233.319 2060.53 232.508 L2060.53 228.11 Q2062.89 229.337 2065.18 229.962 Q2067.47 230.564 2069.72 230.564 Q2072.72 230.564 2074.34 229.546 Q2075.97 228.504 2075.97 226.629 Q2075.97 224.893 2074.78 223.967 Q2073.63 223.041 2069.67 222.184 L2068.19 221.837 Q2064.23 221.004 2062.47 219.291 Q2060.71 217.555 2060.71 214.546 Q2060.71 210.888 2063.3 208.898 Q2065.9 206.907 2070.66 206.907 Q2073.03 206.907 2075.11 207.254 Q2077.19 207.601 2078.95 208.296 Z\\\" fill=\\\"#000000\\\" fill-rule=\\\"evenodd\\\" fill-opacity=\\\"1\\\" \\/><path clip-path=\\\"url(#clip200)\\\" d=\\\"M 0 0 M2089.02 200.171 L2089.02 207.532 L2097.79 207.532 L2097.79 210.842 L2089.02 210.842 L2089.02 224.916 Q2089.02 228.087 2089.88 228.99 Q2090.76 229.893 2093.42 229.893 L2097.79 229.893 L2097.79 233.458 L2093.42 233.458 Q2088.49 233.458 2086.61 231.629 Q2084.74 229.777 2084.74 224.916 L2084.74 210.842 L2081.61 210.842 L2081.61 207.532 L2084.74 207.532 L2084.74 200.171 L2089.02 200.171 Z\\\" fill=\\\"#000000\\\" fill-rule=\\\"evenodd\\\" fill-opacity=\\\"1\\\" \\/><path clip-path=\\\"url(#clip200)\\\" d=\\\"M 0 0 M2117.28 211.513 Q2116.57 211.097 2115.71 210.911 Q2114.88 210.703 2113.86 210.703 Q2110.25 210.703 2108.3 213.064 Q2106.38 215.402 2106.38 219.8 L2106.38 233.458 L2102.1 233.458 L2102.1 207.532 L2106.38 207.532 L2106.38 211.56 Q2107.72 209.198 2109.88 208.064 Q2112.03 206.907 2115.11 206.907 Q2115.55 206.907 2116.08 206.976 Q2116.61 207.023 2117.26 207.138 L2117.28 211.513 Z\\\" fill=\\\"#000000\\\" fill-rule=\\\"evenodd\\\" fill-opacity=\\\"1\\\" \\/><path clip-path=\\\"url(#clip200)\\\" d=\\\"M 0 0 M2119.9 207.532 L2140.13 207.532 L2140.13 211.421 L2124.11 230.055 L2140.13 230.055 L2140.13 233.458 L2119.32 233.458 L2119.32 229.569 L2135.34 210.935 L2119.9 210.935 L2119.9 207.532 Z\\\" fill=\\\"#000000\\\" fill-rule=\\\"evenodd\\\" fill-opacity=\\\"1\\\" \\/><path clip-path=\\\"url(#clip200)\\\" d=\\\"M 0 0 M2166.78 219.43 L2166.78 221.513 L2147.19 221.513 Q2147.47 225.911 2149.83 228.226 Q2152.21 230.518 2156.45 230.518 Q2158.9 230.518 2161.2 229.916 Q2163.51 229.314 2165.78 228.11 L2165.78 232.138 Q2163.49 233.11 2161.08 233.62 Q2158.67 234.129 2156.2 234.129 Q2149.99 234.129 2146.36 230.518 Q2142.75 226.907 2142.75 220.749 Q2142.75 214.384 2146.17 210.657 Q2149.62 206.907 2155.46 206.907 Q2160.69 206.907 2163.72 210.286 Q2166.78 213.643 2166.78 219.43 M2162.52 218.18 Q2162.47 214.685 2160.55 212.601 Q2158.65 210.518 2155.5 210.518 Q2151.94 210.518 2149.78 212.532 Q2147.65 214.546 2147.33 218.203 L2162.52 218.18 M2159.02 233.458 L2161.78 233.458 Q2160.73 234.87 2160.22 235.888 Q2159.74 236.907 2159.74 237.624 Q2159.74 238.689 2160.36 239.221 Q2161.01 239.754 2162.26 239.754 Q2163 239.754 2163.72 239.569 Q2164.44 239.407 2165.15 239.059 L2165.15 242.138 Q2164.28 242.37 2163.49 242.485 Q2162.7 242.601 2162.01 242.601 Q2159.18 242.601 2157.84 241.583 Q2156.52 240.587 2156.52 238.434 Q2156.52 237.323 2157.12 236.096 Q2157.75 234.893 2159.02 233.458 Z\\\" fill=\\\"#000000\\\" fill-rule=\\\"evenodd\\\" fill-opacity=\\\"1\\\" \\/><path clip-path=\\\"url(#clip200)\\\" d=\\\"M 0 0 M2189.85 220.518 Q2189.85 215.819 2187.91 213.157 Q2185.99 210.472 2182.61 210.472 Q2179.23 210.472 2177.28 213.157 Q2175.36 215.819 2175.36 220.518 Q2175.36 225.217 2177.28 227.902 Q2179.23 230.564 2182.61 230.564 Q2185.99 230.564 2187.91 227.902 Q2189.85 225.217 2189.85 220.518 M2175.36 211.467 Q2176.71 209.152 2178.74 208.041 Q2180.8 206.907 2183.65 206.907 Q2188.37 206.907 2191.31 210.657 Q2194.27 214.407 2194.27 220.518 Q2194.27 226.629 2191.31 230.379 Q2188.37 234.129 2183.65 234.129 Q2180.8 234.129 2178.74 233.018 Q2176.71 231.883 2175.36 229.569 L2175.36 233.458 L2171.08 233.458 L2171.08 197.439 L2175.36 197.439 L2175.36 211.467 Z\\\" fill=\\\"#000000\\\" fill-rule=\\\"evenodd\\\" fill-opacity=\\\"1\\\" \\/><path clip-path=\\\"url(#clip200)\\\" d=\\\"M 0 0 M2198.74 207.532 L2203 207.532 L2203 233.458 L2198.74 233.458 L2198.74 207.532 M2198.74 197.439 L2203 197.439 L2203 202.833 L2198.74 202.833 L2198.74 197.439 Z\\\" fill=\\\"#000000\\\" fill-rule=\\\"evenodd\\\" fill-opacity=\\\"1\\\" \\/><path clip-path=\\\"url(#clip200)\\\" d=\\\"M 0 0 M2229.65 219.43 L2229.65 221.513 L2210.06 221.513 Q2210.34 225.911 2212.7 228.226 Q2215.08 230.518 2219.32 230.518 Q2221.77 230.518 2224.07 229.916 Q2226.38 229.314 2228.65 228.11 L2228.65 232.138 Q2226.36 233.11 2223.95 233.62 Q2221.54 234.129 2219.07 234.129 Q2212.86 234.129 2209.23 230.518 Q2205.62 226.907 2205.62 220.749 Q2205.62 214.384 2209.04 210.657 Q2212.49 206.907 2218.33 206.907 Q2223.56 206.907 2226.59 210.286 Q2229.65 213.643 2229.65 219.43 M2225.39 218.18 Q2225.34 214.685 2223.42 212.601 Q2221.52 210.518 2218.37 210.518 Q2214.81 210.518 2212.65 212.532 Q2210.52 214.546 2210.2 218.203 L2225.39 218.18 Z\\\" fill=\\\"#000000\\\" fill-rule=\\\"evenodd\\\" fill-opacity=\\\"1\\\" \\/><\\/svg>\\n\"},\"nodeType\":\"DOM\",\"type\":\"node\",\"instanceArgs\":{\"namespace\":\"html\",\"tag\":\"div\"},\"children\":[]}]}}}},\"children\":[{\"props\":{},\"nodeType\":\"ObservableNode\",\"type\":\"node\",\"instanceArgs\":{\"id\":\"11913641743310058961\",\"name\":\"obs-node\"},\"children\":[]}]}]},\n",
       "            window,\n",
       "        );\n",
       "    } else {\n",
       "        document\n",
       "            .querySelector('[data-webio-mountpoint=\"771602284140558869\"]')\n",
       "            .innerHTML = (\n",
       "                '<div style=\"padding: 1em; background-color: #f8d6da; border: 1px solid #f5c6cb\">' +\n",
       "                '<p><strong>WebIO not detected.</strong></p>' +\n",
       "                '<p>Please read ' +\n",
       "                '<a href=\"https://juliagizmos.github.io/WebIO.jl/latest/troubleshooting/not-detected/\" target=\"_blank\">the troubleshooting guide</a> ' +\n",
       "                'for more information on how to resolve this issue.</p>' +\n",
       "                '<p><a href=\"https://juliagizmos.github.io/WebIO.jl/latest/troubleshooting/not-detected/\" target=\"_blank\">https://juliagizmos.github.io/WebIO.jl/latest/troubleshooting/not-detected/</a></p>' +\n",
       "                '</div>'\n",
       "            );\n",
       "    }\n",
       "    </script>\n",
       "</div>\n"
      ],
      "text/plain": [
       "Node{WebIO.DOM}(WebIO.DOM(:html, :div), Any[Node{WebIO.DOM}(WebIO.DOM(:html, :div), Any[Scope(Node{WebIO.DOM}(WebIO.DOM(:html, :div), Any[Node{WebIO.DOM}(WebIO.DOM(:html, :div), Any[Node{WebIO.DOM}(WebIO.DOM(:html, :label), Any[\"time\"], Dict{Symbol,Any}(:className => \"interact \",:style => Dict{Any,Any}(:padding => \"5px 10px 0px 10px\")))], Dict{Symbol,Any}(:className => \"interact-flex-row-left\")), Node{WebIO.DOM}(WebIO.DOM(:html, :div), Any[Node{WebIO.DOM}(WebIO.DOM(:html, :input), Any[], Dict{Symbol,Any}(:max => 99,:min => 1,:attributes => Dict{Any,Any}(:type => \"range\",Symbol(\"data-bind\") => \"numericValue: index, valueUpdate: 'input', event: {change: function (){this.changes(this.changes()+1)}}\",\"orient\" => \"horizontal\"),:step => 1,:className => \"slider slider is-fullwidth\",:style => Dict{Any,Any}()))], Dict{Symbol,Any}(:className => \"interact-flex-row-center\")), Node{WebIO.DOM}(WebIO.DOM(:html, :div), Any[Node{WebIO.DOM}(WebIO.DOM(:html, :p), Any[], Dict{Symbol,Any}(:attributes => Dict(\"data-bind\" => \"text: formatted_val\")))], Dict{Symbol,Any}(:className => \"interact-flex-row-right\"))], Dict{Symbol,Any}(:className => \"interact-flex-row interact-widget\")), Dict{String,Tuple{Observables.AbstractObservable,Union{Nothing, Bool}}}(\"changes\" => (Observable{Int64} with 1 listeners. Value:\n",
       "0, nothing),\"index\" => (Observable{Any} with 2 listeners. Value:\n",
       "50, nothing)), Set{String}(), nothing, Asset[Asset(\"js\", \"knockout\", \"C:\\\\Users\\\\admin\\\\.julia\\\\packages\\\\Knockout\\\\IP1uR\\\\src\\\\..\\\\assets\\\\knockout.js\"), Asset(\"js\", \"knockout_punches\", \"C:\\\\Users\\\\admin\\\\.julia\\\\packages\\\\Knockout\\\\IP1uR\\\\src\\\\..\\\\assets\\\\knockout_punches.js\"), Asset(\"js\", nothing, \"C:\\\\Users\\\\admin\\\\.julia\\\\packages\\\\InteractBase\\\\Zfu5P\\\\src\\\\..\\\\assets\\\\all.js\"), Asset(\"css\", nothing, \"C:\\\\Users\\\\admin\\\\.julia\\\\packages\\\\InteractBase\\\\Zfu5P\\\\src\\\\..\\\\assets\\\\style.css\"), Asset(\"css\", nothing, \"C:\\\\Users\\\\admin\\\\.julia\\\\packages\\\\Interact\\\\SbgIk\\\\src\\\\..\\\\assets\\\\bulma_confined.min.css\")], Dict{Any,Any}(\"changes\" => Any[WebIO.JSString(\"(function (val){return (val!=this.model[\\\"changes\\\"]()) ? (this.valueFromJulia[\\\"changes\\\"]=true, this.model[\\\"changes\\\"](val)) : undefined})\")],\"index\" => Any[WebIO.JSString(\"(function (val){return (val!=this.model[\\\"index\\\"]()) ? (this.valueFromJulia[\\\"index\\\"]=true, this.model[\\\"index\\\"](val)) : undefined})\")]), WebIO.ConnectionPool(Channel{Any}(sz_max:32,sz_curr:0), Set{AbstractConnection}(), Base.GenericCondition{Base.AlwaysLockedST}(Base.InvasiveLinkedList{Task}(Task (runnable) @0x00000000151ad9f0, Task (runnable) @0x00000000151ad9f0), Base.AlwaysLockedST(1))), WebIO.JSString[WebIO.JSString(\"function () {\\n    var handler = (function (ko, koPunches) {\\n    ko.punches.enableAll();\\n    ko.bindingHandlers.numericValue = {\\n        init: function(element, valueAccessor, allBindings, data, context) {\\n            var stringified = ko.observable(ko.unwrap(valueAccessor()));\\n            stringified.subscribe(function(value) {\\n                var val = parseFloat(value);\\n                if (!isNaN(val)) {\\n                    valueAccessor()(val);\\n                }\\n            });\\n            valueAccessor().subscribe(function(value) {\\n                var str = JSON.stringify(value);\\n                if ((str == \\\"0\\\") && ([\\\"-0\\\", \\\"-0.\\\"].indexOf(stringified()) >= 0))\\n                     return;\\n                 if ([\\\"null\\\", \\\"\\\"].indexOf(str) >= 0)\\n                     return;\\n                stringified(str);\\n            });\\n            ko.applyBindingsToNode(\\n                element,\\n                {\\n                    value: stringified,\\n                    valueUpdate: allBindings.get('valueUpdate'),\\n                },\\n                context,\\n            );\\n        }\\n    };\\n    var json_data = {\\\"formatted_vals\\\":[\\\"2\\\",\\\"3\\\",\\\"4\\\",\\\"5\\\",\\\"6\\\",\\\"7\\\",\\\"8\\\",\\\"9\\\",\\\"10\\\",\\\"11\\\",\\\"12\\\",\\\"13\\\",\\\"14\\\",\\\"15\\\",\\\"16\\\",\\\"17\\\",\\\"18\\\",\\\"19\\\",\\\"20\\\",\\\"21\\\",\\\"22\\\",\\\"23\\\",\\\"24\\\",\\\"25\\\",\\\"26\\\",\\\"27\\\",\\\"28\\\",\\\"29\\\",\\\"30\\\",\\\"31\\\",\\\"32\\\",\\\"33\\\",\\\"34\\\",\\\"35\\\",\\\"36\\\",\\\"37\\\",\\\"38\\\",\\\"39\\\",\\\"40\\\",\\\"41\\\",\\\"42\\\",\\\"43\\\",\\\"44\\\",\\\"45\\\",\\\"46\\\",\\\"47\\\",\\\"48\\\",\\\"49\\\",\\\"50\\\",\\\"51\\\",\\\"52\\\",\\\"53\\\",\\\"54\\\",\\\"55\\\",\\\"56\\\",\\\"57\\\",\\\"58\\\",\\\"59\\\",\\\"60\\\",\\\"61\\\",\\\"62\\\",\\\"63\\\",\\\"64\\\",\\\"65\\\",\\\"66\\\",\\\"67\\\",\\\"68\\\",\\\"69\\\",\\\"70\\\",\\\"71\\\",\\\"72\\\",\\\"73\\\",\\\"74\\\",\\\"75\\\",\\\"76\\\",\\\"77\\\",\\\"78\\\",\\\"79\\\",\\\"80\\\",\\\"81\\\",\\\"82\\\",\\\"83\\\",\\\"84\\\",\\\"85\\\",\\\"86\\\",\\\"87\\\",\\\"88\\\",\\\"89\\\",\\\"90\\\",\\\"91\\\",\\\"92\\\",\\\"93\\\",\\\"94\\\",\\\"95\\\",\\\"96\\\",\\\"97\\\",\\\"98\\\",\\\"99\\\",\\\"100\\\"],\\\"changes\\\":WebIO.getval({\\\"name\\\":\\\"changes\\\",\\\"scope\\\":\\\"222872386228263200\\\",\\\"id\\\":\\\"9657432480842699360\\\",\\\"type\\\":\\\"observable\\\"}),\\\"index\\\":WebIO.getval({\\\"name\\\":\\\"index\\\",\\\"scope\\\":\\\"222872386228263200\\\",\\\"id\\\":\\\"9906375580117670844\\\",\\\"type\\\":\\\"observable\\\"})};\\n    var self = this;\\n    function AppViewModel() {\\n        for (var key in json_data) {\\n            var el = json_data[key];\\n            this[key] = Array.isArray(el) ? ko.observableArray(el) : ko.observable(el);\\n        }\\n        \\n        [this[\\\"formatted_val\\\"]=ko.computed(    function(){\\n        return this.formatted_vals()[parseInt(this.index())-(1)];\\n    }\\n,this)]\\n        [this[\\\"changes\\\"].subscribe((function (val){!(this.valueFromJulia[\\\"changes\\\"]) ? (WebIO.setval({\\\"name\\\":\\\"changes\\\",\\\"scope\\\":\\\"222872386228263200\\\",\\\"id\\\":\\\"9657432480842699360\\\",\\\"type\\\":\\\"observable\\\"},val)) : undefined; return this.valueFromJulia[\\\"changes\\\"]=false}),self),this[\\\"index\\\"].subscribe((function (val){!(this.valueFromJulia[\\\"index\\\"]) ? (WebIO.setval({\\\"name\\\":\\\"index\\\",\\\"scope\\\":\\\"222872386228263200\\\",\\\"id\\\":\\\"9906375580117670844\\\",\\\"type\\\":\\\"observable\\\"},val)) : undefined; return this.valueFromJulia[\\\"index\\\"]=false}),self)]\\n        \\n    }\\n    self.model = new AppViewModel();\\n    self.valueFromJulia = {};\\n    for (var key in json_data) {\\n        self.valueFromJulia[key] = false;\\n    }\\n    ko.applyBindings(self.model, self.dom);\\n}\\n);\\n    (WebIO.importBlock({\\\"data\\\":[{\\\"name\\\":\\\"knockout\\\",\\\"type\\\":\\\"js\\\",\\\"url\\\":\\\"/assetserver/fd91bcc76f200e46e5681854927159f78397d01c-knockout.js\\\"},{\\\"name\\\":\\\"knockout_punches\\\",\\\"type\\\":\\\"js\\\",\\\"url\\\":\\\"/assetserver/0771d715f47990fd6a20af05579c332026637b1d-knockout_punches.js\\\"}],\\\"type\\\":\\\"async_block\\\"})).then((imports) => handler.apply(this, imports));\\n}\\n\")])], Dict{Symbol,Any}(:className => \"field interact-widget\")), Observable{Any} with 0 listeners. Value:\n",
       "Node{WebIO.DOM}(WebIO.DOM(:html, :div), Any[Plot{Plots.GRBackend() n=2}], Dict{Symbol,Any}(:className => \"interact-flex-row interact-widget\"))], Dict{Symbol,Any}())"
      ]
     },
     "execution_count": 33,
     "metadata": {},
     "output_type": "execute_result"
    }
   ],
   "source": [
    "@manipulate for time = 2:1:100\n",
    "    plot(1:time, A[1:time, 1], label=\"gołębie\", color= :purple)\n",
    "    plot!(1:time, A[1:time, 2], label=\"jastrzębie\", color= :green)\n",
    "end"
   ]
  },
  {
   "cell_type": "markdown",
   "metadata": {},
   "source": [
    "# ---------------------------------------------sekcja 2-----------------------------------------------------"
   ]
  },
  {
   "cell_type": "markdown",
   "metadata": {},
   "source": [
    "## funkcje generujące środowisko"
   ]
  },
  {
   "cell_type": "code",
   "execution_count": 21,
   "metadata": {},
   "outputs": [
    {
     "data": {
      "text/plain": [
       "environment_poison (generic function with 1 method)"
      ]
     },
     "execution_count": 21,
     "metadata": {},
     "output_type": "execute_result"
    }
   ],
   "source": [
    "function environment2(n,m) ###generuje środowisko z pakietami\n",
    "    if n % 3 != 0\n",
    "        throw(DomainError(size, \"incorrect size\"))\n",
    "    end\n",
    "    \n",
    "    Environment = zeros(Int64, n, m)\n",
    "    \n",
    "    for i in 2:3:n\n",
    "        Environment[i,:] = ones(Int64, 1, m)\n",
    "    end\n",
    "    return Environment\n",
    "end\n",
    "\n",
    "function environment_poison(Environment) ###zatruwa środowisko - wprowadza zatrute oraz puste pakiety\n",
    "    \n",
    "    n = size(Environment)[1]\n",
    "    m = size(Environment)[2]\n",
    "    \n",
    "    liczba = floor((n/3*m) * 0.08)  #szacowanie około 8? % wszystkich możliwych pakietów\n",
    "    ilosc_pakietow = rand(1:liczba) + 5  #randomowe przypisanie konkretnej ilości danego rodzaju pakietów w danym wywołaniu\n",
    "    \n",
    "    for i in 1:1:ilosc_pakietow\n",
    "        z = findall(x -> x == 1, Environment)\n",
    "        Environment[rand(z)] = -1\n",
    "    end\n",
    "    \n",
    "    for i in 1:1:ilosc_pakietow\n",
    "        z = findall(x -> x == 1, Environment)\n",
    "        Environment[rand(z)] = 0\n",
    "    end\n",
    "    \n",
    "    return Environment\n",
    "end"
   ]
  },
  {
   "cell_type": "code",
   "execution_count": 22,
   "metadata": {},
   "outputs": [
    {
     "data": {
      "text/plain": [
       "9×9 Array{Int64,2}:\n",
       " 0  0  0  0  0  0  0  0  0\n",
       " 1  1  1  1  1  1  1  1  1\n",
       " 0  0  0  0  0  0  0  0  0\n",
       " 0  0  0  0  0  0  0  0  0\n",
       " 1  1  1  1  1  1  1  1  1\n",
       " 0  0  0  0  0  0  0  0  0\n",
       " 0  0  0  0  0  0  0  0  0\n",
       " 1  1  1  1  1  1  1  1  1\n",
       " 0  0  0  0  0  0  0  0  0"
      ]
     },
     "execution_count": 22,
     "metadata": {},
     "output_type": "execute_result"
    }
   ],
   "source": [
    "a = environment2(9,9)"
   ]
  },
  {
   "cell_type": "code",
   "execution_count": 23,
   "metadata": {},
   "outputs": [
    {
     "data": {
      "text/plain": [
       "9×9 Array{Int64,2}:\n",
       "  0   0  0  0   0  0   0   0  0\n",
       "  1  -1  1  1   0  1   1  -1  1\n",
       "  0   0  0  0   0  0   0   0  0\n",
       "  0   0  0  0   0  0   0   0  0\n",
       "  1   0  1  1  -1  0  -1   1  0\n",
       "  0   0  0  0   0  0   0   0  0\n",
       "  0   0  0  0   0  0   0   0  0\n",
       " -1   1  0  0   1  1  -1   1  1\n",
       "  0   0  0  0   0  0   0   0  0"
      ]
     },
     "execution_count": 23,
     "metadata": {},
     "output_type": "execute_result"
    }
   ],
   "source": [
    "b = environment_poison(a)"
   ]
  },
  {
   "cell_type": "markdown",
   "metadata": {},
   "source": [
    "## funkcja usuwająca konkretną rzecz z macierzy"
   ]
  },
  {
   "cell_type": "code",
   "execution_count": 24,
   "metadata": {},
   "outputs": [
    {
     "data": {
      "text/plain": [
       "remove! (generic function with 1 method)"
      ]
     },
     "execution_count": 24,
     "metadata": {},
     "output_type": "execute_result"
    }
   ],
   "source": [
    "function remove!(a, item)\n",
    "    deleteat!(a, findall(x->x==item, a))\n",
    "    return a\n",
    "end"
   ]
  },
  {
   "cell_type": "markdown",
   "metadata": {},
   "source": [
    "## Funkcja generująca rozstawienie ptaków w środowisku"
   ]
  },
  {
   "cell_type": "code",
   "execution_count": 122,
   "metadata": {},
   "outputs": [
    {
     "data": {
      "text/plain": [
       "find_place (generic function with 1 method)"
      ]
     },
     "execution_count": 122,
     "metadata": {},
     "output_type": "execute_result"
    }
   ],
   "source": [
    "function find_place(macierz, g, ja, ch_g, ch_j)\n",
    "    n = size(macierz)[1]\n",
    "    m = size(macierz)[2]\n",
    "    slots = 2*n*m/3\n",
    "    amount_of_birds = g + ja + ch_g + ch_j\n",
    "    birds = [7, 10, 70, 100] ##gołąb-7, jastrząb-10, chory gołąb -10, chory jastrząb - 100\n",
    "    any_bird = [g, ja, ch_g, ch_j] ###ilość każdego z ptaków\n",
    "    \n",
    "    if amount_of_birds > slots ###jeśli ptaków jest więcej niż miejsc - iteracja po miejscach\n",
    "        for i in 1:slots\n",
    "            pustka = findall(x -> x == 0, any_bird) ## jeśli każdy ptaszek z danego gatunku już jest przydzielony to go usuwamy\n",
    "            pustka = reverse(pustka)\n",
    "            if length(pustka) != 0\n",
    "                for k in pustka\n",
    "                    n = birds[k] ###tu jest błąd i nie wiem jak go rozwiązać\n",
    "                    any_bird = remove!(any_bird, 0)\n",
    "                    birds = remove!(birds, n)\n",
    "                end\n",
    "            end\n",
    "            number = rand(1:length(birds))\n",
    "            current_bird = birds[number]\n",
    "            z = findall(x -> x == 0, macierz)\n",
    "            macierz[rand(z)] = current_bird ##przydzielamy ptaszka randomowo\n",
    "            any_bird[number] -= 1\n",
    "        end\n",
    "        \n",
    "    elseif slots > amount_of_birds ###jeśli miejsc jest więcej niż ptaków - iteracja po ptakach\n",
    "        for i in 1:amount_of_birds\n",
    "            pustka = findall(x -> x == 0, any_bird)\n",
    "            pustka = reverse(pustka)\n",
    "            if length(pustka) != 0\n",
    "                for k in pustka\n",
    "                    n = birds[k]\n",
    "                    any_bird = remove!(any_bird, 0)\n",
    "                    birds = remove!(birds, n)\n",
    "                end\n",
    "            end\n",
    "            number = rand(1:length(birds))\n",
    "            current_bird = birds[number]\n",
    "            z = findall(x -> x == 0, macierz)\n",
    "            macierz[rand(z)] = current_bird\n",
    "            any_bird[number] -= 1\n",
    "        end\n",
    "    end\n",
    "    macierz = environment_poison(macierz) ##zatruwamy środowisko\n",
    "    \n",
    "    ###sprawdzenie nadpopulacji\n",
    "    \n",
    "    f_gol = 0\n",
    "    f_jas = 0\n",
    "    f_chg =0 \n",
    "    f_chj = 0\n",
    "    \n",
    "    for i in 1:length(birds)\n",
    "        if birds[i] == 7\n",
    "            f_gol += any_bird[i]\n",
    "        elseif birds[i] == 10\n",
    "            f_jas += any_bird[i]\n",
    "        elseif birds[i] == 70\n",
    "            f_chg += any_bird[i]\n",
    "        elseif birds[i] == 100\n",
    "            f_chj += any_bird[i]\n",
    "        end\n",
    "    end\n",
    "    \n",
    "    return macierz, f_gol, f_jas, f_chg, f_chj ###zwraca macierz środowiska, ilość ptaków w nim oraz tych do fight clubu\n",
    "end"
   ]
  },
  {
   "cell_type": "code",
   "execution_count": 120,
   "metadata": {},
   "outputs": [
    {
     "data": {
      "text/plain": [
       "([7 10 … 70 100; -1 1 … 1 1; … ; 1 -1 … 0 -1; 7 100 … 10 7], 0, 2, 0, 0)"
      ]
     },
     "execution_count": 120,
     "metadata": {},
     "output_type": "execute_result"
    }
   ],
   "source": [
    "a = environment2(9, 9)\n",
    "find_place(a, 14, 14, 14, 14)"
   ]
  },
  {
   "cell_type": "code",
   "execution_count": 117,
   "metadata": {},
   "outputs": [
    {
     "data": {
      "text/plain": [
       "ptaszki (generic function with 1 method)"
      ]
     },
     "execution_count": 117,
     "metadata": {},
     "output_type": "execute_result"
    }
   ],
   "source": [
    "function ptaszki(macierz, n, k)\n",
    "    if n != 0  \n",
    "        for i in 1:1:n\n",
    "            z = findall(x -> x ==0, macierz)\n",
    "            macierz[rand(z)] = k\n",
    "        end\n",
    "    end\n",
    "end"
   ]
  },
  {
   "cell_type": "code",
   "execution_count": 92,
   "metadata": {},
   "outputs": [
    {
     "data": {
      "text/plain": [
       "fight_club2 (generic function with 1 method)"
      ]
     },
     "execution_count": 92,
     "metadata": {},
     "output_type": "execute_result"
    }
   ],
   "source": [
    "function fight_club2(g,j, ch_g,ch_j)\n",
    "    lista_ptakow = [7, 10,70,100]\n",
    "    suma_ptakow = [g,j,ch_g,ch_j]\n",
    "    if (g+j+ch_g+ch_j)%2 == 0\n",
    "        n = Int64((g+j+ch_g+ch_j)/2)\n",
    "        M = zeros(Int64, 2, n)\n",
    "        for i in 1:length(lista_ptakow)\n",
    "            ptaszki(M,suma_ptakow[i],lista_ptakow[i])\n",
    "        end\n",
    "    else\n",
    "        n = Int64((g + j + ch_g + ch_j + 1)/2) \n",
    "        M = zeros(Int64, 2, n)\n",
    "        for i in 1:length(lista_ptakow)\n",
    "            ptaszki(M,suma_ptakow[i],lista_ptakow[i])\n",
    "        end\n",
    "    end\n",
    "    return M\n",
    "end"
   ]
  },
  {
   "cell_type": "code",
   "execution_count": 93,
   "metadata": {},
   "outputs": [
    {
     "data": {
      "text/plain": [
       "fight2 (generic function with 1 method)"
      ]
     },
     "execution_count": 93,
     "metadata": {},
     "output_type": "execute_result"
    }
   ],
   "source": [
    "\n",
    "function fight2(macierz, g,j,ch_g,ch_j)\n",
    "    for i in 1:size(macierz)[2]\n",
    "        suma = macierz[1,i] + macierz[2,i]\n",
    "        if suma == 14 || suma == 7 || suma == 77 ##gołąb / 2gołebie/ gołąb + chory gołąb\n",
    "            g -= 1\n",
    "        elseif suma == 20 || suma == 10 || suma == 110 ###jastrząb / 2jastrzębie / jastrząb + chory jastrząb\n",
    "            j -= 1\n",
    "        elseif suma == 70 || suma == 140 ## chore gołebie\n",
    "            ch_g -= 1\n",
    "        elseif suma == 100 || suma == 200 ## chore jastrzebie\n",
    "            ch_j -= 1\n",
    "            \n",
    "        elseif suma == 17 ##gołąb vs jastrząb\n",
    "            if roll_for_pakiet(66) == true\n",
    "                g-=1\n",
    "            else\n",
    "                j-=1\n",
    "            end\n",
    "        \n",
    "        elseif suma == 107 ##chory jastrząb + gołąb\n",
    "            g-=1\n",
    "            if roll_for_pakiet(66) == false\n",
    "                ch_g+=1\n",
    "                ch_j-=1\n",
    "            end\n",
    "        elseif suma == 80 ##chory gołąb + jastrząb\n",
    "            j-=1\n",
    "            if roll_for_pakiet(66) == true\n",
    "                ch_j+=1\n",
    "                ch_g-=1    \n",
    "            end\n",
    "            \n",
    "        elseif suma == 170 ##chory jastrząb + chory gołąb\n",
    "            if roll_for_pakiet(66) == true\n",
    "                ch_g-=1\n",
    "            else\n",
    "                ch_j-=1\n",
    "            end\n",
    "\n",
    "        end\n",
    "    end\n",
    "    return g, j, ch_g, ch_j\n",
    "end"
   ]
  },
  {
   "cell_type": "code",
   "execution_count": 94,
   "metadata": {},
   "outputs": [
    {
     "data": {
      "text/plain": [
       "(1, 1, 4, 4)"
      ]
     },
     "execution_count": 94,
     "metadata": {},
     "output_type": "execute_result"
    }
   ],
   "source": [
    "fight2(fightclub2(5,5,5,6), 5,5,5,6)"
   ]
  },
  {
   "cell_type": "code",
   "execution_count": 95,
   "metadata": {},
   "outputs": [
    {
     "data": {
      "text/plain": [
       "2×11 Array{Int64,2}:\n",
       " 100    7  100   70  100  10   10   0   7  7   7\n",
       "  10  100   70  100   10  70  100  70  10  7  70"
      ]
     },
     "execution_count": 95,
     "metadata": {},
     "output_type": "execute_result"
    }
   ],
   "source": [
    "fightclub2(5,5,5,6)"
   ]
  },
  {
   "cell_type": "markdown",
   "metadata": {},
   "source": [
    "## funkcja decydująca o dalszym losie ptaszków"
   ]
  },
  {
   "cell_type": "code",
   "execution_count": 96,
   "metadata": {},
   "outputs": [
    {
     "data": {
      "text/plain": [
       "roll_for_pakiet (generic function with 1 method)"
      ]
     },
     "execution_count": 96,
     "metadata": {},
     "output_type": "execute_result"
    }
   ],
   "source": [
    "function roll_for_pakiet(some_fate)\n",
    "    fate = rand(1:101)\n",
    "    if fate <= some_fate\n",
    "        return true\n",
    "    end\n",
    "end"
   ]
  },
  {
   "attachments": {
    "image.png": {
     "image/png": "[encoded data removed]"
    }
   },
   "cell_type": "markdown",
   "metadata": {},
   "source": [
    "![image.png](attachment:image.png)"
   ]
  },
  {
   "cell_type": "code",
   "execution_count": 97,
   "metadata": {},
   "outputs": [
    {
     "data": {
      "text/plain": [
       "death (generic function with 1 method)"
      ]
     },
     "execution_count": 97,
     "metadata": {},
     "output_type": "execute_result"
    }
   ],
   "source": [
    "function death(bird, deadliness)\n",
    "    for i in 1:bird\n",
    "        if roll_for_pakiet(deadliness)==true\n",
    "            bird -= 1\n",
    "        end\n",
    "    end\n",
    "    return bird\n",
    "end"
   ]
  },
  {
   "cell_type": "code",
   "execution_count": 98,
   "metadata": {},
   "outputs": [
    {
     "data": {
      "text/plain": [
       "sickness (generic function with 1 method)"
      ]
     },
     "execution_count": 98,
     "metadata": {},
     "output_type": "execute_result"
    }
   ],
   "source": [
    "function sickness(ch_g, ch_j, deadliness)\n",
    "    ch_g = death(ch_g, deadliness)\n",
    "    \n",
    "    ch_j = death(ch_j, deadliness)\n",
    "    return ch_g, ch_j\n",
    "end"
   ]
  },
  {
   "cell_type": "code",
   "execution_count": null,
   "metadata": {},
   "outputs": [],
   "source": []
  },
  {
   "cell_type": "markdown",
   "metadata": {},
   "source": [
    "### funkcja potyczek"
   ]
  },
  {
   "cell_type": "code",
   "execution_count": 99,
   "metadata": {},
   "outputs": [
    {
     "data": {
      "text/plain": [
       "potyczki2 (generic function with 3 methods)"
      ]
     },
     "execution_count": 99,
     "metadata": {},
     "output_type": "execute_result"
    }
   ],
   "source": [
    "function potyczki2(n, m, macierz, g, ja, ch_g = 0, ch_j = 0)\n",
    "    for i in 2:3:n, j in 1:m    \n",
    "        suma = macierz[i - 1, j] + macierz[i, j] + macierz[i + 1, j]\n",
    "        if suma == 18\n",
    "            #Jastrząb i Gołąb dobry pakiet\n",
    "            if roll_for_pakiet(50) == true\n",
    "                g -= 1\n",
    "            ja += 1\n",
    "            end\n",
    "        elseif suma == 15\n",
    "            #Gołąb i Gołąb dobry pakiet\n",
    "            g = g\n",
    "        elseif suma == 21\n",
    "            #Jastrząb i Jastrząb dobry pakiet\n",
    "            ja -= 2\n",
    "        elseif suma == 8\n",
    "            #Gołąb dobry pakiet\n",
    "            g += 2\n",
    "        elseif suma == 11\n",
    "            #Jastrząb dobry pakiet\n",
    "            ja += 2\n",
    "        elseif suma == 81\n",
    "            #Jastrząb i Ch_Gołąb dobry pakiet\n",
    "            if roll_for_pakiet(10) == true\n",
    "                ja -= 1\n",
    "                ch_j += 1\n",
    "            end    \n",
    "            if roll_for_pakiet(50) == true\n",
    "                    ch_g -= 1\n",
    "            end\n",
    "                \n",
    "        elseif suma == 108\n",
    "            #Ch_Jastrząb i Gołąb dobry pakiet\n",
    "            if roll_for_pakiet(10) == true\n",
    "                g -= 1\n",
    "                ch_g += 1\n",
    "            end\n",
    "            if roll_for_pakiet(50) == true\n",
    "                ch_j -= 1\n",
    "                ja += 1\n",
    "            else\n",
    "                ch_j += 1\n",
    "            end\n",
    "            \n",
    "            \n",
    "        elseif suma == 201\n",
    "            #Ch_Jastrząb i Ch_Jastrząb dobry pakiet\n",
    "            ch_j -= 2\n",
    "        elseif suma == 141\n",
    "            #Ch_Gołąb i Ch_Gołąb dobry pakiet\n",
    "            ch_g = ch_g\n",
    "        elseif suma == 71\n",
    "            #Ch_Gołąb dobry pakiet\n",
    "            if roll_for_pakiet(50) == true\n",
    "                ch_g -= 1\n",
    "                g += 1\n",
    "            else\n",
    "                ch_g += 1\n",
    "            end\n",
    "            \n",
    "        elseif suma == 101\n",
    "            #Ch_Jastrząb dobry pakiet\n",
    "            if roll_for_pakiet(50) == true\n",
    "                ch_j -= 1\n",
    "                ja += 1\n",
    "            else\n",
    "                ch_j += 2\n",
    "            end\n",
    "        elseif suma == 111\n",
    "            #Ch_Jastrząb i Jastrząb dobry pakiet\n",
    "            ch_j -= 1\n",
    "            if roll_for_pakiet(50) == true\n",
    "                ja += 1\n",
    "            else\n",
    "                ch_j += 1\n",
    "            end\n",
    "        elseif suma == 78\n",
    "            #Ch_Gołąb i Gołąb dobry pakiet\n",
    "            if roll_for_pakiet(60) == true\n",
    "                ch_g += 1\n",
    "            end\n",
    "            \n",
    "        elseif suma == 17\n",
    "            #Jastrząb i Gołąb pusty pakiet\n",
    "            g = g-1\n",
    "        elseif suma == 20\n",
    "            #Jastrząb i Jastrząb pusty pakiet\n",
    "            ja = ja-1\n",
    "        elseif suma == 14\n",
    "            #Gołąb i Gołąb pusty pakiet\n",
    "            g = g-2\n",
    "        elseif suma == 10\n",
    "            #Jastrząb pusty pakiet\n",
    "            ja = ja-1\n",
    "        elseif suma == 7\n",
    "            #Gołąb pusty pakiet\n",
    "            g = g-1\n",
    "                \n",
    "         elseif suma == 80\n",
    "            #Jastrząb i Ch_Gołąb pusty pakiet\n",
    "            g -= 1\n",
    "            ja -= 1\n",
    "            ch_j += 1\n",
    "        elseif suma == 107\n",
    "            #Ch_Jastrząb i Gołąb pusty pakiet\n",
    "            g -= 1\n",
    "            if roll_for_pakiet(30) == true\n",
    "                ch_j -= 1\n",
    "                ja += 1\n",
    "            end\n",
    "        elseif suma == 200\n",
    "            #Ch_Jastrząb i Ch_Jastrząb pusty pakiet\n",
    "            ch_j -= 2\n",
    "        elseif suma == 140\n",
    "            #Ch_Gołąb i Ch_Gołąb pusty pakiet\n",
    "            ch_g -= 2\n",
    "            \n",
    "        elseif suma == 70\n",
    "            #Ch_Gołąb pusty pakiet\n",
    "            ch_g -= 1\n",
    "            \n",
    "        elseif suma == 100\n",
    "            #Ch_Jastrząb pusty pakiet\n",
    "            ch_j -= 1\n",
    "            \n",
    "        elseif suma == 110\n",
    "            #Ch_Jastrząb i Jastrząb pusty pakiet\n",
    "            ja -= 1\n",
    "            \n",
    "        elseif suma == 77\n",
    "            #Ch_Gołąb i Gołąb pusty pakiet\n",
    "            ch_g -= 1\n",
    "            g =- 1\n",
    "            \n",
    "            \n",
    "            \n",
    "        elseif suma == 16\n",
    "            #Jastrząb i Gołąb zatruty pakiet\n",
    "            g -= 1\n",
    "            ja -= 1\n",
    "            if roll_for_pakiet(20) == true\n",
    "                ch_j += 1\n",
    "            end    \n",
    "        elseif suma == 19\n",
    "            #Jastrząb i Jastrząb zatruty pakiet\n",
    "            ja -= 1\n",
    "        elseif suma == 13\n",
    "            #Gołąb i Gołąb zatruty pakiet\n",
    "            g -= 2\n",
    "            if roll_for_pakiet(6) == true\n",
    "                ch_g += 2\n",
    "            end\n",
    "        elseif suma == 9\n",
    "            #Jastrząb  zatruty pakiet\n",
    "            ja = ja-1\n",
    "        elseif suma == 6\n",
    "            #Gołąb zatruty pakiet\n",
    "            g = g-1 \n",
    "            if roll_for_pakiet(20) == true\n",
    "                ch_g += 1\n",
    "            end        \n",
    "         elseif suma == 79\n",
    "            #Jastrząb i Ch_Gołąb zatruty pakiet\n",
    "            g -= 1 \n",
    "            ja -= 1\n",
    "            if roll_for_pakiet(70) == true\n",
    "                ch_j += 1\n",
    "            end\n",
    "            \n",
    "        elseif suma == 106\n",
    "            #Ch_Jastrząb i Gołąb zatruty pakiet\n",
    "            g -= 1\n",
    "            if roll_for_pakiet(40) == true\n",
    "                ch_j -= 1\n",
    "            end\n",
    "                \n",
    "        elseif suma == 199\n",
    "            #Ch_Jastrząb i Ch_Jastrząb zatruty pakiet\n",
    "            ch_j -= 2\n",
    "        elseif suma == 139\n",
    "            #Ch_Gołąb i Ch_Gołąb zatruty pakiet\n",
    "            ch_g -= 2\n",
    "            if roll_for_pakiet(1) == true\n",
    "                ch_g += 2\n",
    "            end\n",
    "            \n",
    "        elseif suma == 69\n",
    "            #Ch_Gołąb zatruty pakiet\n",
    "            ch_g -= 1\n",
    "        elseif suma == 99\n",
    "            #Ch_Jastrząb zatruty pakiet\n",
    "            ch_j -= 1\n",
    "        elseif suma == 109\n",
    "            #Ch_Jastrząb i Jastrząb zatruty pakiet\n",
    "            ja -= 1\n",
    "        elseif suma == 76\n",
    "            #Ch_Gołąb i Gołąb zatruty pakiet\n",
    "            g -= 1\n",
    "            if roll_for_pakiet(2) == true\n",
    "                ch_g += 1\n",
    "            end\n",
    "        end \n",
    "    end\n",
    "    sick_birds = sickness(ch_g, ch_j, 80)\n",
    "    ch_g = sick_birds[1]\n",
    "    ch_j = sick_birds[2]\n",
    "\n",
    "    return g, ja, ch_g, ch_j\n",
    "end"
   ]
  },
  {
   "cell_type": "markdown",
   "metadata": {},
   "source": [
    "### funkcja właściwa"
   ]
  },
  {
   "cell_type": "code",
   "execution_count": 123,
   "metadata": {},
   "outputs": [
    {
     "data": {
      "text/plain": [
       "action2 (generic function with 1 method)"
      ]
     },
     "execution_count": 123,
     "metadata": {},
     "output_type": "execute_result"
    }
   ],
   "source": [
    "function action2(n, m, g, j, ch_g, ch_j, p)\n",
    "    #n,m - wielkość środowiska\n",
    "    #g,j,ch_g,ch_j -liczba ptaków danego gatunku\n",
    "    #p - parametr czasowy\n",
    "    \n",
    "    if p == 0\n",
    "        return \"tada\"\n",
    "    end\n",
    "    \n",
    "    srodowisko = environment2(n, m)\n",
    "    first_try = find_place(srodowisko, g, j, ch_g, ch_j) \n",
    "    \n",
    "    macierz = first_try[1]\n",
    "    f_gol = first_try[2] \n",
    "    f_jas = first_try[3]\n",
    "    f_chg =  first_try[4] \n",
    "    f_chja = first_try[5] \n",
    "    fight = fight_club2(f_gol, f_jas, f_chg, f_chja)\n",
    "    g_p = length(findall(x -> x == 7, macierz))\n",
    "    j_p = length(findall(x -> x == 10, macierz))\n",
    "    chg_p = length(findall(x -> x == 70, macierz))\n",
    "    chj_p = length(findall(x -> x ==100, macierz))\n",
    "    println(g_p,j_p,chg_p,chj_p)\n",
    "    potyczki_result = potyczki2(n, m, macierz, g_p, j_p, chg_p, chj_p)\n",
    "    \n",
    "    fight_result = fight2(fight, f_gol, f_jas, f_chg, f_chja)\n",
    "\n",
    "    final_g = potyczki_result[1] + fight_result[1]\n",
    "    final_j = potyczki_result[2] + fight_result[2]\n",
    "    final_chg = potyczki_result[3] + fight_result[3]\n",
    "    final_chj = potyczki_result[4] + fight_result[4]\n",
    "    \n",
    "    println(final_g,\", \", final_j,\", \", final_chg, \", \",final_chj)\n",
    "    \n",
    "    if final_g == 0 & final_j ==0 & final_chg == 0 & final_chj ==0\n",
    "        return \"they all died\"\n",
    "    end\n",
    "    \n",
    "    action2(n, m , final_g, final_j, final_chg,final_chj, p-1)\n",
    "end"
   ]
  },
  {
   "cell_type": "code",
   "execution_count": 125,
   "metadata": {},
   "outputs": [
    {
     "name": "stdout",
     "output_type": "stream",
     "text": [
      "14101515\n",
      "10, 11, 6, 6\n",
      "101166\n",
      "12, 12, 1, 1\n",
      "121211\n",
      "10, 17, 0, 1\n",
      "101701\n",
      "6, 23, 0, 0\n",
      "62300\n",
      "6, 21, 0, 0\n",
      "62100\n",
      "6, 20, 0, 0\n",
      "62000\n",
      "9, 22, 0, 0\n",
      "92200\n",
      "13, 14, 0, 0\n",
      "131400\n",
      "15, 13, 0, 0\n",
      "151300\n",
      "16, 17, 1, 0\n",
      "161710\n",
      "14, 11, 0, 0\n",
      "141100\n",
      "16, 11, 0, 0\n",
      "161100\n",
      "22, 14, 0, 1\n",
      "221401\n",
      "22, 13, 1, 0\n",
      "221310\n",
      "-9, 12, 0, 0\n"
     ]
    },
    {
     "ename": "LoadError",
     "evalue": "\u001b[91mArgumentError: range must be non-empty\u001b[39m",
     "output_type": "error",
     "traceback": [
      "\u001b[91mArgumentError: range must be non-empty\u001b[39m",
      "",
      "Stacktrace:",
      " [1] SamplerRangeNDL at C:\\buildbot\\worker\\package_win64\\build\\usr\\share\\julia\\stdlib\\v1.5\\Random\\src\\generation.jl:315 [inlined]",
      " [2] Sampler at C:\\buildbot\\worker\\package_win64\\build\\usr\\share\\julia\\stdlib\\v1.5\\Random\\src\\generation.jl:183 [inlined]",
      " [3] Sampler at C:\\buildbot\\worker\\package_win64\\build\\usr\\share\\julia\\stdlib\\v1.5\\Random\\src\\generation.jl:384 [inlined]",
      " [4] Sampler at C:\\buildbot\\worker\\package_win64\\build\\usr\\share\\julia\\stdlib\\v1.5\\Random\\src\\Random.jl:139 [inlined]",
      " [5] rand at C:\\buildbot\\worker\\package_win64\\build\\usr\\share\\julia\\stdlib\\v1.5\\Random\\src\\Random.jl:253 [inlined]",
      " [6] rand at C:\\buildbot\\worker\\package_win64\\build\\usr\\share\\julia\\stdlib\\v1.5\\Random\\src\\Random.jl:258 [inlined]",
      " [7] ptaszki(::Array{Int64,2}, ::Int64, ::Int64) at .\\In[117]:5",
      " [8] fight_club2(::Int64, ::Int64, ::Int64, ::Int64) at .\\In[92]:8",
      " [9] action2(::Int64, ::Int64, ::Int64, ::Int64, ::Int64, ::Int64, ::Int64) at .\\In[123]:18",
      " [10] action2(::Int64, ::Int64, ::Int64, ::Int64, ::Int64, ::Int64, ::Int64) at .\\In[123]:39 (repeats 15 times)",
      " [11] top-level scope at In[125]:1",
      " [12] include_string(::Function, ::Module, ::String, ::String) at .\\loading.jl:1091"
     ]
    }
   ],
   "source": [
    "action2(9,9,25,20,20,20,100)"
   ]
  },
  {
   "cell_type": "markdown",
   "metadata": {},
   "source": [
    "### funkcja właściwa"
   ]
  }
 ],
 "metadata": {
  "kernelspec": {
   "display_name": "Julia 1.5.3",
   "language": "julia",
   "name": "julia-1.5"
  },
  "language_info": {
   "file_extension": ".jl",
   "mimetype": "application/julia",
   "name": "julia",
   "version": "1.5.3"
  }
 },
 "nbformat": 4,
 "nbformat_minor": 4
}
