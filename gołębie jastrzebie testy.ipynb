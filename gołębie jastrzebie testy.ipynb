{
 "cells": [
  {
   "cell_type": "code",
   "execution_count": null,
   "metadata": {},
   "outputs": [],
   "source": []
  },
  {
   "cell_type": "markdown",
   "metadata": {},
   "source": [
    "### funkcja generująca środowisko z pakietami żywnościowymi"
   ]
  },
  {
   "cell_type": "code",
   "execution_count": 1,
   "metadata": {},
   "outputs": [
    {
     "data": {
      "text/plain": [
       "environment (generic function with 1 method)"
      ]
     },
     "execution_count": 1,
     "metadata": {},
     "output_type": "execute_result"
    }
   ],
   "source": [
    "function environment(n,m)\n",
    "    Environment = zeros(Int64, n, m)\n",
    "    for i in 2:3:n\n",
    "        Environment[i,:] = ones(Int64, 1, m)\n",
    "    end\n",
    "    return Environment\n",
    "end"
   ]
  },
  {
   "cell_type": "code",
   "execution_count": 2,
   "metadata": {},
   "outputs": [
    {
     "data": {
      "text/plain": [
       "20×20 Array{Int64,2}:\n",
       " 0  0  0  0  0  0  0  0  0  0  0  0  0  0  0  0  0  0  0  0\n",
       " 1  1  1  1  1  1  1  1  1  1  1  1  1  1  1  1  1  1  1  1\n",
       " 0  0  0  0  0  0  0  0  0  0  0  0  0  0  0  0  0  0  0  0\n",
       " 0  0  0  0  0  0  0  0  0  0  0  0  0  0  0  0  0  0  0  0\n",
       " 1  1  1  1  1  1  1  1  1  1  1  1  1  1  1  1  1  1  1  1\n",
       " 0  0  0  0  0  0  0  0  0  0  0  0  0  0  0  0  0  0  0  0\n",
       " 0  0  0  0  0  0  0  0  0  0  0  0  0  0  0  0  0  0  0  0\n",
       " 1  1  1  1  1  1  1  1  1  1  1  1  1  1  1  1  1  1  1  1\n",
       " 0  0  0  0  0  0  0  0  0  0  0  0  0  0  0  0  0  0  0  0\n",
       " 0  0  0  0  0  0  0  0  0  0  0  0  0  0  0  0  0  0  0  0\n",
       " 1  1  1  1  1  1  1  1  1  1  1  1  1  1  1  1  1  1  1  1\n",
       " 0  0  0  0  0  0  0  0  0  0  0  0  0  0  0  0  0  0  0  0\n",
       " 0  0  0  0  0  0  0  0  0  0  0  0  0  0  0  0  0  0  0  0\n",
       " 1  1  1  1  1  1  1  1  1  1  1  1  1  1  1  1  1  1  1  1\n",
       " 0  0  0  0  0  0  0  0  0  0  0  0  0  0  0  0  0  0  0  0\n",
       " 0  0  0  0  0  0  0  0  0  0  0  0  0  0  0  0  0  0  0  0\n",
       " 1  1  1  1  1  1  1  1  1  1  1  1  1  1  1  1  1  1  1  1\n",
       " 0  0  0  0  0  0  0  0  0  0  0  0  0  0  0  0  0  0  0  0\n",
       " 0  0  0  0  0  0  0  0  0  0  0  0  0  0  0  0  0  0  0  0\n",
       " 1  1  1  1  1  1  1  1  1  1  1  1  1  1  1  1  1  1  1  1"
      ]
     },
     "execution_count": 2,
     "metadata": {},
     "output_type": "execute_result"
    }
   ],
   "source": [
    "environment(20,20)"
   ]
  },
  {
   "cell_type": "markdown",
   "metadata": {},
   "source": [
    "### funkcja determinująca przeżycie gołębia w trakcie ucieczki od jastrzębia (50% prawdopodobieństwa)"
   ]
  },
  {
   "cell_type": "code",
   "execution_count": 3,
   "metadata": {},
   "outputs": [
    {
     "data": {
      "text/plain": [
       "golab_jastrzab (generic function with 1 method)"
      ]
     },
     "execution_count": 3,
     "metadata": {},
     "output_type": "execute_result"
    }
   ],
   "source": [
    "function golab_jastrzab(n_gol)\n",
    "    if rand(0:1) == 0\n",
    "        n_gol = n_gol - 1\n",
    "    end\n",
    "    return n_gol\n",
    "end"
   ]
  },
  {
   "cell_type": "markdown",
   "metadata": {},
   "source": [
    "### funkcja determinująca stan populacji po wylosowaniu miejsc przy pakietach żywnościowych"
   ]
  },
  {
   "cell_type": "code",
   "execution_count": 4,
   "metadata": {},
   "outputs": [
    {
     "data": {
      "text/plain": [
       "potyczki (generic function with 1 method)"
      ]
     },
     "execution_count": 4,
     "metadata": {},
     "output_type": "execute_result"
    }
   ],
   "source": [
    "#G-3\n",
    "#J-8\n",
    "function potyczki(n,m,macierz, g, ja)\n",
    "    for i in 2:3:n, j in 1:m    \n",
    "        suma = macierz[i-1,j] + macierz[i+1,j]\n",
    "        if suma == 11\n",
    "            g = golab_jastrzab(g)\n",
    "            ja = ja + 1\n",
    "        elseif suma == 6\n",
    "            g = g\n",
    "        elseif suma == 16 \n",
    "            ja = ja - 2\n",
    "        elseif suma == 3\n",
    "            g += 2\n",
    "        elseif suma == 8\n",
    "            j += 2\n",
    "        end \n",
    "    return g,ja\n",
    "    end\n",
    "end"
   ]
  },
  {
   "cell_type": "code",
   "execution_count": 5,
   "metadata": {},
   "outputs": [
    {
     "data": {
      "text/plain": [
       "6×4 Array{Int64,2}:\n",
       " 3  3  8  8\n",
       " 1  1  1  1\n",
       " 3  3  3  8\n",
       " 3  8  8  8\n",
       " 1  1  1  1\n",
       " 3  8  3  8"
      ]
     },
     "execution_count": 5,
     "metadata": {},
     "output_type": "execute_result"
    }
   ],
   "source": [
    "A = [3 3 8 8; 1 1 1 1; 3 3 3 8;\n",
    "3 8 8 8; 1 1 1 1; 3 8 3 8]\n"
   ]
  },
  {
   "cell_type": "code",
   "execution_count": 6,
   "metadata": {},
   "outputs": [
    {
     "data": {
      "text/plain": [
       "(8, 8)"
      ]
     },
     "execution_count": 6,
     "metadata": {},
     "output_type": "execute_result"
    }
   ],
   "source": [
    "potyczki(6,4,A,8,8)\n"
   ]
  },
  {
   "cell_type": "code",
   "execution_count": 7,
   "metadata": {},
   "outputs": [
    {
     "data": {
      "text/plain": [
       "6×5 Array{Int64,2}:\n",
       " 8  8  8  8  3\n",
       " 1  1  1  1  1\n",
       " 3  3  0  8  3\n",
       " 3  3  3  8  8\n",
       " 1  1  1  1  1\n",
       " 8  8  0  3  3"
      ]
     },
     "execution_count": 7,
     "metadata": {},
     "output_type": "execute_result"
    }
   ],
   "source": [
    "B = [8 8 8 8 3;\n",
    "1 1 1 1 1;\n",
    "3 3 0 8 3;\n",
    "3 3 3 8 8;\n",
    "1 1 1 1 1;\n",
    "8 8 0 3 3\n",
    "]\n",
    "#g = 10\n",
    "#j = 11"
   ]
  },
  {
   "cell_type": "code",
   "execution_count": 8,
   "metadata": {},
   "outputs": [
    {
     "data": {
      "text/plain": [
       "(9, 11)"
      ]
     },
     "execution_count": 8,
     "metadata": {},
     "output_type": "execute_result"
    }
   ],
   "source": [
    "potyczki(6,4,B,9,10)"
   ]
  },
  {
   "cell_type": "markdown",
   "metadata": {},
   "source": [
    "### funkcja generująca rozstawienie ptaków w środowisku"
   ]
  },
  {
   "cell_type": "code",
   "execution_count": 57,
   "metadata": {},
   "outputs": [
    {
     "data": {
      "text/plain": [
       "jastrzabki (generic function with 1 method)"
      ]
     },
     "execution_count": 57,
     "metadata": {},
     "output_type": "execute_result"
    }
   ],
   "source": [
    "function golabki(macierz, ngol)\n",
    "    if ngol != 0  \n",
    "        for i in 1:1:ngol\n",
    "            z = findall(x -> x ==0, macierz)\n",
    "            macierz[rand(z)] = 3\n",
    "        end\n",
    "    end\n",
    "end\n",
    "function jastrzabki(macierz, njas)\n",
    "    if njas != 0\n",
    "        for i in 1:1:njas\n",
    "            z = findall(x -> x ==0, macierz)\n",
    "            macierz[rand(z)] = 8\n",
    "        end\n",
    "    end\n",
    "end"
   ]
  },
  {
   "cell_type": "code",
   "execution_count": 58,
   "metadata": {},
   "outputs": [],
   "source": [
    "mac = environment(21,21)\n",
    "golabki(mac, 100)\n",
    "jastrzabki(mac, 100)"
   ]
  },
  {
   "cell_type": "code",
   "execution_count": 59,
   "metadata": {},
   "outputs": [
    {
     "data": {
      "text/plain": [
       "6×6 Array{Int64,2}:\n",
       " 3  8  3  3  8  8\n",
       " 1  1  1  1  1  1\n",
       " 3  3  3  8  8  3\n",
       " 3  8  3  8  8  3\n",
       " 1  1  1  1  1  1\n",
       " 3  3  3  3  8  8"
      ]
     },
     "execution_count": 59,
     "metadata": {},
     "output_type": "execute_result"
    }
   ],
   "source": [
    "test = environment(6,6)\n",
    "golabki(test, 14)\n",
    "jastrzabki(test, 10)\n",
    "test"
   ]
  },
  {
   "cell_type": "code",
   "execution_count": 60,
   "metadata": {},
   "outputs": [
    {
     "data": {
      "text/plain": [
       "21×21 Array{Int64,2}:\n",
       " 0  8  8  3  8  3  8  0  8  0  3  0  8  0  8  8  0  3  3  8  8\n",
       " 1  1  1  1  1  1  1  1  1  1  1  1  1  1  1  1  1  1  1  1  1\n",
       " 8  8  3  3  8  3  3  3  3  0  0  3  3  0  8  8  3  0  8  3  3\n",
       " 3  0  8  0  3  0  0  0  3  0  8  8  3  0  8  3  3  3  0  8  0\n",
       " 1  1  1  1  1  1  1  1  1  1  1  1  1  1  1  1  1  1  1  1  1\n",
       " 3  8  3  3  3  8  0  8  3  0  8  8  8  0  8  0  8  3  3  8  8\n",
       " 0  0  3  0  8  3  3  8  0  0  8  8  0  3  8  3  8  8  8  0  3\n",
       " 1  1  1  1  1  1  1  1  1  1  1  1  1  1  1  1  1  1  1  1  1\n",
       " 3  8  0  0  3  3  8  0  8  8  0  3  3  0  3  8  0  0  8  8  0\n",
       " 3  3  3  8  8  8  8  8  8  8  8  3  0  8  8  3  0  0  3  0  8\n",
       " 1  1  1  1  1  1  1  1  1  1  1  1  1  1  1  1  1  1  1  1  1\n",
       " 0  3  3  3  8  0  0  0  3  3  8  3  0  8  0  8  8  0  0  0  3\n",
       " 0  0  8  3  3  0  8  8  3  0  0  3  0  8  3  8  8  3  3  8  3\n",
       " 1  1  1  1  1  1  1  1  1  1  1  1  1  1  1  1  1  1  1  1  1\n",
       " 0  8  3  8  0  8  8  3  8  3  8  3  8  3  8  3  3  8  0  3  0\n",
       " 0  3  3  8  3  8  8  0  3  8  0  8  3  0  0  3  0  0  0  3  8\n",
       " 1  1  1  1  1  1  1  1  1  1  1  1  1  1  1  1  1  1  1  1  1\n",
       " 3  3  8  0  0  0  3  8  0  0  0  0  3  3  3  0  0  0  0  0  0\n",
       " 3  8  8  3  8  0  8  3  8  8  8  3  3  0  3  0  3  0  3  0  8\n",
       " 1  1  1  1  1  1  1  1  1  1  1  1  1  1  1  1  1  1  1  1  1\n",
       " 3  3  8  3  0  8  3  0  0  0  3  8  8  0  0  8  0  8  3  3  3"
      ]
     },
     "execution_count": 60,
     "metadata": {},
     "output_type": "execute_result"
    }
   ],
   "source": [
    "mac"
   ]
  },
  {
   "cell_type": "code",
   "execution_count": 13,
   "metadata": {},
   "outputs": [
    {
     "data": {
      "text/plain": [
       "(100, 98)"
      ]
     },
     "execution_count": 13,
     "metadata": {},
     "output_type": "execute_result"
    }
   ],
   "source": [
    "potyczki(21,21,mac,100,100)"
   ]
  },
  {
   "cell_type": "code",
   "execution_count": 14,
   "metadata": {},
   "outputs": [],
   "source": [
    "mac = environment(18,18)\n",
    "golabki(mac, 70)\n",
    "jastrzabki(mac, 90)"
   ]
  },
  {
   "cell_type": "code",
   "execution_count": 15,
   "metadata": {},
   "outputs": [
    {
     "data": {
      "text/plain": [
       "18×18 Array{Int64,2}:\n",
       " 8  8  3  8  0  3  8  3  8  3  0  3  3  0  8  3  3  8\n",
       " 1  1  1  1  1  1  1  1  1  1  1  1  1  1  1  1  1  1\n",
       " 0  3  0  3  3  8  8  8  8  8  8  8  8  8  0  3  3  8\n",
       " 8  3  8  0  8  8  0  3  0  3  8  0  3  3  8  0  8  3\n",
       " 1  1  1  1  1  1  1  1  1  1  1  1  1  1  1  1  1  1\n",
       " 3  3  3  0  3  3  8  8  3  8  8  3  3  3  8  8  3  0\n",
       " 3  8  0  0  3  8  0  0  3  8  8  3  3  8  3  8  3  8\n",
       " 1  1  1  1  1  1  1  1  1  1  1  1  1  1  1  1  1  1\n",
       " 3  8  0  0  8  0  8  3  0  3  8  3  3  0  0  3  8  0\n",
       " 3  3  8  0  0  8  8  8  8  8  3  3  3  8  3  3  0  8\n",
       " 1  1  1  1  1  1  1  1  1  1  1  1  1  1  1  1  1  1\n",
       " 8  0  8  3  0  0  8  3  3  3  8  3  0  3  8  3  0  0\n",
       " 0  8  0  3  0  0  0  3  3  8  8  8  0  8  8  0  8  8\n",
       " 1  1  1  1  1  1  1  1  1  1  1  1  1  1  1  1  1  1\n",
       " 8  8  8  8  8  0  3  0  3  0  8  8  8  8  0  3  3  3\n",
       " 3  8  0  0  8  0  8  8  8  3  8  0  0  8  8  8  3  0\n",
       " 1  1  1  1  1  1  1  1  1  1  1  1  1  1  1  1  1  1\n",
       " 8  8  3  0  8  0  0  8  0  0  3  8  8  8  0  8  8  3"
      ]
     },
     "execution_count": 15,
     "metadata": {},
     "output_type": "execute_result"
    }
   ],
   "source": [
    "mac"
   ]
  },
  {
   "cell_type": "code",
   "execution_count": 16,
   "metadata": {
    "scrolled": true
   },
   "outputs": [
    {
     "data": {
      "text/plain": [
       "(70, 90)"
      ]
     },
     "execution_count": 16,
     "metadata": {},
     "output_type": "execute_result"
    }
   ],
   "source": [
    "potyczki(18,18,mac,70,90)"
   ]
  },
  {
   "cell_type": "markdown",
   "metadata": {},
   "source": [
    "### funkcja sprawdzająca nadmiar populacji i ilość ptaków wysłaną na wygnanie/ fight club"
   ]
  },
  {
   "cell_type": "markdown",
   "metadata": {},
   "source": [
    "funkcja/wątek do rozwinięcia"
   ]
  },
  {
   "cell_type": "code",
   "execution_count": 83,
   "metadata": {},
   "outputs": [
    {
     "data": {
      "text/plain": [
       "check (generic function with 1 method)"
      ]
     },
     "execution_count": 83,
     "metadata": {},
     "output_type": "execute_result"
    }
   ],
   "source": [
    "function check(n,m,ng, nja)\n",
    "    if ng + nja > 2*n*m/3\n",
    "        env_ng = Int64(round(ng/(ng+nja) * 2*n*m/3))\n",
    "        env_ja = Int64(round(nja/(ng+nja) * 2*n*m/3))\n",
    "        fight_g = ng - env_ng\n",
    "        fight_ja = nja - env_ja\n",
    "        ng = env_ng\n",
    "        nja = env_ja\n",
    "        return ng, nja, fight_g, fight_ja\n",
    "    else\n",
    "        fight_g = 0\n",
    "        fight_ja = 0\n",
    "        return ng, nja, fight_g, fight_ja\n",
    "    end\n",
    "end\n"
   ]
  },
  {
   "cell_type": "code",
   "execution_count": 84,
   "metadata": {},
   "outputs": [
    {
     "data": {
      "text/plain": [
       "(29, 25, 6, 5)"
      ]
     },
     "execution_count": 84,
     "metadata": {},
     "output_type": "execute_result"
    }
   ],
   "source": [
    "check(9,9, 35,30)\n"
   ]
  },
  {
   "cell_type": "code",
   "execution_count": 85,
   "metadata": {},
   "outputs": [
    {
     "name": "stdout",
     "output_type": "stream",
     "text": [
      "(25, 29, 25, 31)"
     ]
    }
   ],
   "source": [
    "print(check(9,9,50,60))\n"
   ]
  },
  {
   "cell_type": "code",
   "execution_count": 107,
   "metadata": {},
   "outputs": [
    {
     "data": {
      "text/plain": [
       "fight_club (generic function with 1 method)"
      ]
     },
     "execution_count": 107,
     "metadata": {},
     "output_type": "execute_result"
    }
   ],
   "source": [
    "function fight_club(n_gol, n_jas)\n",
    "    if (n_gol+n_jas)%2 == 0\n",
    "        n = Int64((n_gol + n_jas)/2)\n",
    "        M = zeros(Int64, 2, n)\n",
    "        if n_gol != 0\n",
    "            golabki(M,n_gol)\n",
    "        end\n",
    "        if n_jas!=0\n",
    "            jastrzabki(M,n_jas)\n",
    "        end\n",
    "    else\n",
    "        n = Int64((n_gol + n_jas + 1)/2) \n",
    "        M = zeros(Int64, 2, n)\n",
    "        if n_gol != 0\n",
    "            golabki(M,n_gol)\n",
    "        end\n",
    "        if n_jas!=0\n",
    "            jastrzabki(M,n_jas)\n",
    "        end\n",
    "    end\n",
    "    return M\n",
    "end\n",
    "        "
   ]
  },
  {
   "cell_type": "code",
   "execution_count": 108,
   "metadata": {},
   "outputs": [
    {
     "data": {
      "text/plain": [
       "2×3 Array{Int64,2}:\n",
       " 3  8  3\n",
       " 3  8  8"
      ]
     },
     "execution_count": 108,
     "metadata": {},
     "output_type": "execute_result"
    }
   ],
   "source": [
    "fight_club(3,3)"
   ]
  },
  {
   "cell_type": "code",
   "execution_count": 115,
   "metadata": {},
   "outputs": [
    {
     "data": {
      "text/plain": [
       "fight (generic function with 1 method)"
      ]
     },
     "execution_count": 115,
     "metadata": {},
     "output_type": "execute_result"
    }
   ],
   "source": [
    "\n",
    "function fight(macierz, n_gol, n_jas)\n",
    "    for i in 1:size(macierz)[2]\n",
    "        suma = macierz[1,i] + macierz[2,i]\n",
    "        if suma == 6\n",
    "            n_gol -= 1\n",
    "        elseif suma == 16\n",
    "            n_jas -= 1\n",
    "        elseif suma == 11\n",
    "            if rand(0:1) == 0\n",
    "                n_gol -= 1\n",
    "            else\n",
    "                n_jas -= 1\n",
    "            end\n",
    "        end\n",
    "    end\n",
    "    return n_gol, n_jas\n",
    "end"
   ]
  },
  {
   "cell_type": "code",
   "execution_count": 116,
   "metadata": {},
   "outputs": [
    {
     "data": {
      "text/plain": [
       "(1, 2)"
      ]
     },
     "execution_count": 116,
     "metadata": {},
     "output_type": "execute_result"
    }
   ],
   "source": [
    "fight(fight_club(3,3), 3, 3)"
   ]
  },
  {
   "cell_type": "markdown",
   "metadata": {},
   "source": [
    "### Generowanie środowiska z mniejszą ilością pakietów (na wypadek przykładowej suszy/ pożaru)\n"
   ]
  },
  {
   "cell_type": "code",
   "execution_count": 117,
   "metadata": {},
   "outputs": [
    {
     "data": {
      "text/plain": [
       "environment_food_amount (generic function with 4 methods)"
      ]
     },
     "execution_count": 117,
     "metadata": {},
     "output_type": "execute_result"
    }
   ],
   "source": [
    "function environment_food_amount(size1 = 21, size2 = 21, amount = 100)\n",
    "#ilość wieszy musi być podzielna przez 3\n",
    "    if size1 % 3 != 0\n",
    "        throw(DomainError(size, \"incorrect size\"))\n",
    "    end\n",
    "    Environment = zeros(Int64, size1, size2)\n",
    "    A = zeros(Int64, 1, size2*(fld(size1-2,3)+1))\n",
    "    A[1,1:amount] = ones(Int64, 1, amount)\n",
    "    A = Random.shuffle(A)\n",
    "    k = 1\n",
    "    for i in 2:3:size1\n",
    "        Environment[i,:] = A[1, k:(k+size1-1)]\n",
    "        k += size1\n",
    "    end\n",
    "    return Environment\n",
    "end"
   ]
  },
  {
   "cell_type": "code",
   "execution_count": null,
   "metadata": {},
   "outputs": [],
   "source": []
  },
  {
   "cell_type": "code",
   "execution_count": null,
   "metadata": {},
   "outputs": [],
   "source": []
  },
  {
   "cell_type": "code",
   "execution_count": null,
   "metadata": {},
   "outputs": [],
   "source": []
  },
  {
   "cell_type": "code",
   "execution_count": null,
   "metadata": {},
   "outputs": [],
   "source": []
  },
  {
   "cell_type": "code",
   "execution_count": 118,
   "metadata": {},
   "outputs": [
    {
     "data": {
      "text/plain": [
       "action (generic function with 1 method)"
      ]
     },
     "execution_count": 118,
     "metadata": {},
     "output_type": "execute_result"
    }
   ],
   "source": [
    "function action(n, m, n_gol, n_jas, p)\n",
    "    \n",
    "    if p == 0\n",
    "        return false\n",
    "    end\n",
    "    \n",
    "    srod = environment(n,m) ##mamy pakiety\n",
    "    \n",
    "    a = check(n, m, n_gol, n_jas) #sprawdzamy czy nie ma za dużo ptaszków, zwraca jako (gol_safe, jas_safe, gol_fight, jas_fight)\n",
    "    n_gol = a[1]\n",
    "    n_jas = a[2]\n",
    "\n",
    "    golabki(srod, n_gol)\n",
    "    jastrzabki(srod, n_jas)  ##mamy srodowisko z ptaszkami\n",
    "    \n",
    "    result = potyczki(n,m,srod, n_gol, n_jas) ##mamy stan populacji po potyczkach\n",
    "    n_gol = result[1] ##liczba gołębi\n",
    "    n_jas = result[2]\n",
    "    \n",
    "    ##w miedzyczasie fight club :\n",
    "    \n",
    "    \n",
    "    b = fight(fight_club(a[3],a[4]), a[3], a[4]) #populacja po fight clubie - (gol, jas)\n",
    "    \n",
    "    n_gol += b[1] ##ostateczna ilosc golebi - ta bezpieczna + fight club\n",
    "    n_jas += b[2] ## -||- jastrzebi\n",
    "    gol_fight = b[1] ##ilość ptakow po fightcie, może się przyda c:\n",
    "    jas_fight = b[2]\n",
    "    \n",
    "    println(n_gol,\",\", n_jas,\",\", gol_fight, \",\",jas_fight)\n",
    "    \n",
    "    action(n, m, n_gol, n_jas, p-1) #i lecimy rekurencją\n",
    "end\n"
   ]
  },
  {
   "cell_type": "code",
   "execution_count": 125,
   "metadata": {},
   "outputs": [
    {
     "name": "stdout",
     "output_type": "stream",
     "text": [
      "29,28,2,1\n",
      "29,25,2,0\n",
      "29,26,0,0\n",
      "29,27,1,0\n",
      "28,28,0,1\n",
      "27,29,0,1\n",
      "26,30,0,1\n",
      "25,30,1,0\n",
      "25,31,0,1\n",
      "23,32,0,1\n",
      "23,30,0,1\n",
      "23,31,0,0\n",
      "23,29,0,0\n",
      "23,27,0,0\n",
      "22,28,0,0\n",
      "22,29,0,0\n",
      "22,27,0,0\n",
      "24,27,0,0\n",
      "24,28,0,0\n",
      "24,28,0,0\n",
      "23,29,0,0\n",
      "23,30,0,0\n",
      "23,31,0,0\n",
      "23,29,0,0\n",
      "23,29,0,0\n",
      "23,27,0,0\n",
      "25,27,0,0\n",
      "25,28,0,0\n",
      "24,29,0,0\n",
      "24,27,0,0\n",
      "23,28,0,0\n",
      "23,26,0,0\n",
      "23,24,0,0\n",
      "23,22,0,0\n",
      "25,22,0,0\n",
      "25,23,0,0\n",
      "24,24,0,0\n",
      "24,24,0,0\n",
      "24,24,0,0\n",
      "23,25,0,0\n",
      "22,26,0,0\n",
      "22,27,0,0\n",
      "22,25,0,0\n",
      "21,26,0,0\n",
      "21,27,0,0\n",
      "21,27,0,0\n",
      "21,27,0,0\n",
      "21,25,0,0\n",
      "20,26,0,0\n",
      "19,27,0,0\n",
      "18,28,0,0\n",
      "18,29,0,0\n",
      "17,30,0,0\n",
      "17,31,0,0\n",
      "17,31,0,0\n",
      "17,31,0,0\n",
      "16,32,0,0\n",
      "16,30,0,0\n",
      "18,30,0,0\n",
      "18,28,0,0\n",
      "17,29,0,0\n",
      "16,30,0,0\n",
      "15,31,0,0\n",
      "17,31,0,0\n",
      "17,29,0,0\n",
      "17,27,0,0\n",
      "17,25,0,0\n",
      "16,26,0,0\n",
      "15,27,0,0\n",
      "15,27,0,0\n",
      "14,28,0,0\n",
      "14,26,0,0\n",
      "14,26,0,0\n",
      "14,24,0,0\n",
      "13,25,0,0\n",
      "13,25,0,0\n",
      "13,25,0,0\n",
      "12,26,0,0\n",
      "12,24,0,0\n",
      "12,24,0,0\n",
      "12,22,0,0\n",
      "12,23,0,0\n",
      "14,23,0,0\n",
      "16,23,0,0\n",
      "16,24,0,0\n",
      "16,24,0,0\n",
      "16,25,0,0\n",
      "16,23,0,0\n",
      "16,23,0,0\n",
      "16,23,0,0\n",
      "18,23,0,0\n",
      "17,24,0,0\n",
      "16,25,0,0\n",
      "16,26,0,0\n",
      "16,24,0,0\n",
      "16,25,0,0\n",
      "16,25,0,0\n",
      "16,26,0,0\n",
      "16,26,0,0\n",
      "16,26,0,0\n"
     ]
    },
    {
     "data": {
      "text/plain": [
       "false"
      ]
     },
     "execution_count": 125,
     "metadata": {},
     "output_type": "execute_result"
    }
   ],
   "source": [
    "action(9,9,30,30, 100)"
   ]
  },
  {
   "cell_type": "code",
   "execution_count": null,
   "metadata": {},
   "outputs": [],
   "source": []
  }
 ],
 "metadata": {
  "kernelspec": {
   "display_name": "Julia 1.5.3",
   "language": "julia",
   "name": "julia-1.5"
  },
  "language_info": {
   "file_extension": ".jl",
   "mimetype": "application/julia",
   "name": "julia",
   "version": "1.5.3"
  }
 },
 "nbformat": 4,
 "nbformat_minor": 4
}
