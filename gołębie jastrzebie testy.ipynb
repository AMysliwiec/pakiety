{
 "cells": [
  {
   "cell_type": "code",
   "execution_count": null,
   "metadata": {},
   "outputs": [],
   "source": []
  },
  {
   "cell_type": "markdown",
   "metadata": {},
   "source": [
    "### funkcja generująca środowisko z pakietami żywnościowymi"
   ]
  },
  {
   "cell_type": "code",
   "execution_count": 2,
   "metadata": {},
   "outputs": [
    {
     "data": {
      "text/plain": [
       "environment (generic function with 1 method)"
      ]
     },
     "execution_count": 2,
     "metadata": {},
     "output_type": "execute_result"
    }
   ],
   "source": [
    "function environment(n,m)\n",
    "    Environment = zeros(Int64, n, m)\n",
    "    for i in 2:3:n\n",
    "        Environment[i,:] = ones(Int64, 1, m)\n",
    "    end\n",
    "    return Environment\n",
    "end"
   ]
  },
  {
   "cell_type": "code",
   "execution_count": 3,
   "metadata": {},
   "outputs": [
    {
     "data": {
      "text/plain": [
       "20×20 Array{Int64,2}:\n",
       " 0  0  0  0  0  0  0  0  0  0  0  0  0  0  0  0  0  0  0  0\n",
       " 1  1  1  1  1  1  1  1  1  1  1  1  1  1  1  1  1  1  1  1\n",
       " 0  0  0  0  0  0  0  0  0  0  0  0  0  0  0  0  0  0  0  0\n",
       " 0  0  0  0  0  0  0  0  0  0  0  0  0  0  0  0  0  0  0  0\n",
       " 1  1  1  1  1  1  1  1  1  1  1  1  1  1  1  1  1  1  1  1\n",
       " 0  0  0  0  0  0  0  0  0  0  0  0  0  0  0  0  0  0  0  0\n",
       " 0  0  0  0  0  0  0  0  0  0  0  0  0  0  0  0  0  0  0  0\n",
       " 1  1  1  1  1  1  1  1  1  1  1  1  1  1  1  1  1  1  1  1\n",
       " 0  0  0  0  0  0  0  0  0  0  0  0  0  0  0  0  0  0  0  0\n",
       " 0  0  0  0  0  0  0  0  0  0  0  0  0  0  0  0  0  0  0  0\n",
       " 1  1  1  1  1  1  1  1  1  1  1  1  1  1  1  1  1  1  1  1\n",
       " 0  0  0  0  0  0  0  0  0  0  0  0  0  0  0  0  0  0  0  0\n",
       " 0  0  0  0  0  0  0  0  0  0  0  0  0  0  0  0  0  0  0  0\n",
       " 1  1  1  1  1  1  1  1  1  1  1  1  1  1  1  1  1  1  1  1\n",
       " 0  0  0  0  0  0  0  0  0  0  0  0  0  0  0  0  0  0  0  0\n",
       " 0  0  0  0  0  0  0  0  0  0  0  0  0  0  0  0  0  0  0  0\n",
       " 1  1  1  1  1  1  1  1  1  1  1  1  1  1  1  1  1  1  1  1\n",
       " 0  0  0  0  0  0  0  0  0  0  0  0  0  0  0  0  0  0  0  0\n",
       " 0  0  0  0  0  0  0  0  0  0  0  0  0  0  0  0  0  0  0  0\n",
       " 1  1  1  1  1  1  1  1  1  1  1  1  1  1  1  1  1  1  1  1"
      ]
     },
     "execution_count": 3,
     "metadata": {},
     "output_type": "execute_result"
    }
   ],
   "source": [
    "environment(20,20)"
   ]
  },
  {
   "cell_type": "markdown",
   "metadata": {},
   "source": [
    "### funkcja determinująca przeżycie gołębia w trakcie ucieczki od jastrzębia (50% prawdopodobieństwa)"
   ]
  },
  {
   "cell_type": "code",
   "execution_count": 4,
   "metadata": {},
   "outputs": [
    {
     "data": {
      "text/plain": [
       "golab_jastrzab (generic function with 1 method)"
      ]
     },
     "execution_count": 4,
     "metadata": {},
     "output_type": "execute_result"
    }
   ],
   "source": [
    "function golab_jastrzab(n_gol)\n",
    "    if rand(0:1) == 0\n",
    "        n_gol = n_gol - 1\n",
    "    end\n",
    "    return n_gol\n",
    "end"
   ]
  },
  {
   "cell_type": "markdown",
   "metadata": {},
   "source": [
    "### funkcja determinująca stan populacji po wylosowaniu miejsc przy pakietach żywnościowych"
   ]
  },
  {
   "cell_type": "code",
   "execution_count": 5,
   "metadata": {},
   "outputs": [
    {
     "data": {
      "text/plain": [
       "potyczki (generic function with 1 method)"
      ]
     },
     "execution_count": 5,
     "metadata": {},
     "output_type": "execute_result"
    }
   ],
   "source": [
    "#G-3\n",
    "#J-8\n",
    "function potyczki(n,m,macierz, g, ja)\n",
    "    for i in 2:3:n, j in 1:m    \n",
    "        suma = macierz[i-1,j] + macierz[i+1,j]\n",
    "        if suma == 11\n",
    "            g = golab_jastrzab(g)\n",
    "            ja = ja + 1\n",
    "        elseif suma == 6\n",
    "            g = g\n",
    "        elseif suma == 16 \n",
    "            ja = ja - 2\n",
    "        elseif suma == 3\n",
    "            g += 2\n",
    "        elseif suma == 8\n",
    "            j += 2\n",
    "        end \n",
    "    println(g,ja)\n",
    "    end\n",
    "end"
   ]
  },
  {
   "cell_type": "code",
   "execution_count": 6,
   "metadata": {},
   "outputs": [
    {
     "data": {
      "text/plain": [
       "6×4 Array{Int64,2}:\n",
       " 3  3  8  8\n",
       " 1  1  1  1\n",
       " 3  3  3  8\n",
       " 3  8  8  8\n",
       " 1  1  1  1\n",
       " 3  8  3  8"
      ]
     },
     "execution_count": 6,
     "metadata": {},
     "output_type": "execute_result"
    }
   ],
   "source": [
    "A = [3 3 8 8; 1 1 1 1; 3 3 3 8;\n",
    "3 8 8 8; 1 1 1 1; 3 8 3 8]\n"
   ]
  },
  {
   "cell_type": "code",
   "execution_count": 7,
   "metadata": {},
   "outputs": [
    {
     "name": "stdout",
     "output_type": "stream",
     "text": [
      "88\n",
      "88\n",
      "89\n",
      "87\n",
      "87\n",
      "85\n",
      "86\n",
      "84\n"
     ]
    }
   ],
   "source": [
    "potyczki(6,4,A,8,8)\n"
   ]
  },
  {
   "cell_type": "code",
   "execution_count": 8,
   "metadata": {},
   "outputs": [
    {
     "data": {
      "text/plain": [
       "6×5 Array{Int64,2}:\n",
       " 8  8  8  8  3\n",
       " 1  1  1  1  1\n",
       " 3  3  0  8  3\n",
       " 3  3  3  8  8\n",
       " 1  1  1  1  1\n",
       " 8  8  0  3  3"
      ]
     },
     "execution_count": 8,
     "metadata": {},
     "output_type": "execute_result"
    }
   ],
   "source": [
    "B = [8 8 8 8 3;\n",
    "1 1 1 1 1;\n",
    "3 3 0 8 3;\n",
    "3 3 3 8 8;\n",
    "1 1 1 1 1;\n",
    "8 8 0 3 3\n",
    "]\n",
    "#g = 10\n",
    "#j = 11"
   ]
  },
  {
   "cell_type": "code",
   "execution_count": 9,
   "metadata": {},
   "outputs": [
    {
     "name": "stdout",
     "output_type": "stream",
     "text": [
      "911\n",
      "912\n",
      "912\n",
      "910\n",
      "811\n",
      "712\n",
      "912\n",
      "913\n"
     ]
    }
   ],
   "source": [
    "potyczki(6,4,B,9,10)"
   ]
  },
  {
   "cell_type": "markdown",
   "metadata": {},
   "source": [
    "### funkcja generująca rozstawienie ptaków w środowisku"
   ]
  },
  {
   "cell_type": "code",
   "execution_count": 10,
   "metadata": {},
   "outputs": [
    {
     "data": {
      "text/plain": [
       "jastrzabki (generic function with 1 method)"
      ]
     },
     "execution_count": 10,
     "metadata": {},
     "output_type": "execute_result"
    }
   ],
   "source": [
    "function golabki(macierz, ngol)\n",
    "    for i in 1:1:ngol\n",
    "        z = findall(x -> x ==0, macierz)\n",
    "        macierz[rand(z)] = 3\n",
    "    end\n",
    "end\n",
    "function jastrzabki(macierz, njas)\n",
    "    for i in 1:1:njas\n",
    "        z = findall(x -> x ==0, macierz)\n",
    "        macierz[rand(z)] = 8\n",
    "    end\n",
    "end"
   ]
  },
  {
   "cell_type": "code",
   "execution_count": 11,
   "metadata": {},
   "outputs": [],
   "source": [
    "mac = environment(21,21)\n",
    "golabki(mac, 100)\n",
    "jastrzabki(mac, 100)"
   ]
  },
  {
   "cell_type": "code",
   "execution_count": 12,
   "metadata": {},
   "outputs": [
    {
     "data": {
      "text/plain": [
       "6×6 Array{Int64,2}:\n",
       " 3  8  3  8  3  3\n",
       " 1  1  1  1  1  1\n",
       " 3  3  3  3  3  8\n",
       " 3  8  3  3  8  3\n",
       " 1  1  1  1  1  1\n",
       " 8  3  8  8  8  8"
      ]
     },
     "execution_count": 12,
     "metadata": {},
     "output_type": "execute_result"
    }
   ],
   "source": [
    "test = environment(6,6)\n",
    "golabki(test, 14)\n",
    "jastrzabki(test, 10)\n",
    "test"
   ]
  },
  {
   "cell_type": "code",
   "execution_count": 13,
   "metadata": {},
   "outputs": [
    {
     "data": {
      "text/plain": [
       "21×21 Array{Int64,2}:\n",
       " 8  8  0  8  3  0  3  8  0  8  8  3  0  3  0  3  0  0  0  0  3\n",
       " 1  1  1  1  1  1  1  1  1  1  1  1  1  1  1  1  1  1  1  1  1\n",
       " 8  0  8  0  8  0  3  8  0  3  8  0  3  0  8  3  3  8  0  8  3\n",
       " 3  3  0  3  3  3  3  0  0  3  0  3  3  0  8  8  8  8  3  3  0\n",
       " 1  1  1  1  1  1  1  1  1  1  1  1  1  1  1  1  1  1  1  1  1\n",
       " 3  3  0  8  0  0  0  3  3  3  8  8  0  3  8  3  8  3  8  0  8\n",
       " 8  8  8  3  0  3  3  3  8  0  8  3  8  3  0  8  3  3  0  3  3\n",
       " 1  1  1  1  1  1  1  1  1  1  1  1  1  1  1  1  1  1  1  1  1\n",
       " 3  3  8  8  0  8  0  0  0  0  8  0  3  8  0  0  3  8  8  3  0\n",
       " 0  8  3  3  8  3  8  3  3  8  8  0  0  3  8  0  3  8  0  8  8\n",
       " 1  1  1  1  1  1  1  1  1  1  1  1  1  1  1  1  1  1  1  1  1\n",
       " 3  3  0  3  0  3  8  0  0  8  0  8  8  0  0  3  3  0  0  8  3\n",
       " 8  8  8  3  8  8  3  3  8  3  8  3  0  8  3  3  3  0  0  3  8\n",
       " 1  1  1  1  1  1  1  1  1  1  1  1  1  1  1  1  1  1  1  1  1\n",
       " 0  0  8  3  0  8  8  3  0  8  8  8  3  3  3  8  3  8  8  0  8\n",
       " 3  0  0  3  8  3  3  0  0  0  8  3  3  0  8  8  8  0  3  0  3\n",
       " 1  1  1  1  1  1  1  1  1  1  1  1  1  1  1  1  1  1  1  1  1\n",
       " 0  0  8  8  0  0  3  0  8  3  3  0  0  8  8  0  3  0  3  3  3\n",
       " 8  3  8  3  8  8  8  0  8  0  3  0  0  0  8  3  8  0  0  0  0\n",
       " 1  1  1  1  1  1  1  1  1  1  1  1  1  1  1  1  1  1  1  1  1\n",
       " 8  0  8  8  8  3  8  8  0  8  8  0  0  3  3  0  3  3  3  8  8"
      ]
     },
     "execution_count": 13,
     "metadata": {},
     "output_type": "execute_result"
    }
   ],
   "source": [
    "mac"
   ]
  },
  {
   "cell_type": "code",
   "execution_count": 14,
   "metadata": {},
   "outputs": [
    {
     "name": "stdout",
     "output_type": "stream",
     "text": [
      "10098\n",
      "10098\n",
      "10098\n",
      "10098\n",
      "10099\n",
      "10099\n",
      "10099\n",
      "10097\n",
      "10097\n",
      "9998\n",
      "9996\n",
      "10196\n",
      "10396\n",
      "10596\n",
      "10596\n",
      "10596\n",
      "10796\n",
      "10796\n",
      "10796\n",
      "10796\n",
      "10796\n",
      "10796\n",
      "10796\n",
      "10796\n",
      "10797\n",
      "10997\n",
      "11197\n",
      "11397\n",
      "11597\n",
      "11797\n",
      "11797\n",
      "11797\n",
      "11698\n",
      "11898\n",
      "12098\n",
      "12096\n",
      "11997\n",
      "11995\n",
      "11996\n",
      "11897\n",
      "12097\n",
      "12097\n",
      "12098\n",
      "11999\n",
      "11997\n",
      "11998\n",
      "11998\n",
      "11899\n",
      "12099\n",
      "12299\n",
      "12299\n",
      "12299\n",
      "12297\n",
      "12497\n",
      "12398\n",
      "12399\n",
      "12399\n",
      "12399\n",
      "12399\n",
      "123100\n",
      "123100\n",
      "123100\n",
      "125100\n",
      "127100\n",
      "127101\n",
      "129101\n",
      "129101\n",
      "129101\n",
      "129101\n",
      "12999\n",
      "13199\n",
      "13399\n",
      "13397\n",
      "13397\n",
      "13397\n",
      "13397\n",
      "13597\n",
      "13597\n",
      "13797\n",
      "13797\n",
      "13797\n",
      "13797\n",
      "13795\n",
      "13796\n",
      "13796\n",
      "13796\n",
      "13794\n",
      "13794\n",
      "13794\n",
      "13792\n",
      "13793\n",
      "13793\n",
      "13793\n",
      "13694\n",
      "13692\n",
      "13593\n",
      "13793\n",
      "13794\n",
      "13794\n",
      "13695\n",
      "13695\n",
      "13695\n",
      "13695\n",
      "13895\n",
      "13893\n",
      "14093\n",
      "14093\n",
      "14093\n",
      "14094\n",
      "14094\n",
      "14294\n",
      "14294\n",
      "14294\n",
      "14294\n",
      "14494\n",
      "14495\n",
      "14695\n",
      "14895\n",
      "14895\n",
      "14893\n",
      "14893\n",
      "14794\n",
      "14794\n",
      "14794\n",
      "14994\n",
      "14994\n",
      "14992\n",
      "15192\n",
      "15190\n",
      "15191\n",
      "15189\n",
      "15190\n",
      "15188\n",
      "15188\n",
      "15188\n",
      "15188\n",
      "15189\n",
      "15189\n",
      "15189\n",
      "15389\n",
      "15290\n",
      "15490\n",
      "15391\n",
      "15591\n",
      "15791\n",
      "15791\n",
      "15791\n"
     ]
    }
   ],
   "source": [
    "potyczki(21,21,mac,100,100)"
   ]
  },
  {
   "cell_type": "code",
   "execution_count": 15,
   "metadata": {},
   "outputs": [],
   "source": [
    "mac = environment(18,18)\n",
    "golabki(mac, 70)\n",
    "jastrzabki(mac, 90)"
   ]
  },
  {
   "cell_type": "code",
   "execution_count": 16,
   "metadata": {},
   "outputs": [
    {
     "data": {
      "text/plain": [
       "18×18 Array{Int64,2}:\n",
       " 3  8  0  0  8  8  3  3  3  8  8  0  3  3  8  8  3  8\n",
       " 1  1  1  1  1  1  1  1  1  1  1  1  1  1  1  1  1  1\n",
       " 0  3  8  0  0  8  3  3  3  0  3  8  0  0  8  3  0  0\n",
       " 8  8  8  3  8  3  3  3  3  0  3  3  0  0  3  0  3  8\n",
       " 1  1  1  1  1  1  1  1  1  1  1  1  1  1  1  1  1  1\n",
       " 8  3  8  3  0  0  8  3  8  3  8  0  3  3  0  3  0  0\n",
       " 8  8  3  3  0  8  3  8  0  3  8  8  8  0  3  3  3  8\n",
       " 1  1  1  1  1  1  1  1  1  1  1  1  1  1  1  1  1  1\n",
       " 8  3  3  0  0  0  3  0  8  0  8  8  8  8  8  8  0  8\n",
       " 8  0  8  8  3  3  8  3  8  8  8  0  0  8  3  8  8  8\n",
       " 1  1  1  1  1  1  1  1  1  1  1  1  1  1  1  1  1  1\n",
       " 8  3  8  0  0  3  0  3  8  3  8  8  3  0  0  8  3  3\n",
       " 8  0  8  0  0  0  3  3  8  8  8  0  8  8  3  8  8  0\n",
       " 1  1  1  1  1  1  1  1  1  1  1  1  1  1  1  1  1  1\n",
       " 8  8  0  0  8  3  0  3  3  3  3  8  3  8  3  0  0  8\n",
       " 0  0  8  3  8  8  3  8  8  0  0  8  3  3  3  8  8  8\n",
       " 1  1  1  1  1  1  1  1  1  1  1  1  1  1  1  1  1  1\n",
       " 8  0  8  8  8  0  3  8  8  3  8  3  3  8  8  3  8  0"
      ]
     },
     "execution_count": 16,
     "metadata": {},
     "output_type": "execute_result"
    }
   ],
   "source": [
    "mac"
   ]
  },
  {
   "cell_type": "code",
   "execution_count": 17,
   "metadata": {
    "scrolled": true
   },
   "outputs": [
    {
     "name": "stdout",
     "output_type": "stream",
     "text": [
      "7290\n",
      "7291\n",
      "7291\n",
      "7291\n",
      "7291\n",
      "7289\n",
      "7289\n",
      "7289\n",
      "7289\n",
      "7289\n",
      "7190\n",
      "7190\n",
      "7390\n",
      "7590\n",
      "7588\n",
      "7489\n",
      "7689\n",
      "7689\n",
      "7687\n",
      "7588\n",
      "7586\n",
      "7586\n",
      "7586\n",
      "7786\n",
      "7787\n",
      "7787\n",
      "7788\n",
      "7988\n",
      "7989\n",
      "8189\n",
      "8389\n",
      "8589\n",
      "8789\n",
      "8989\n",
      "9189\n",
      "9189\n",
      "9187\n",
      "9088\n",
      "9088\n",
      "9288\n",
      "9288\n",
      "9288\n",
      "9288\n",
      "9288\n",
      "9288\n",
      "9488\n",
      "9486\n",
      "9484\n",
      "9482\n",
      "9482\n",
      "9483\n",
      "9484\n",
      "9684\n",
      "9682\n",
      "9680\n",
      "9880\n",
      "9878\n",
      "9878\n",
      "10078\n",
      "10078\n",
      "10078\n",
      "10078\n",
      "10076\n",
      "10077\n",
      "10075\n",
      "10075\n",
      "10275\n",
      "10275\n",
      "10475\n",
      "10473\n",
      "10474\n",
      "10475\n",
      "10473\n",
      "10473\n",
      "10473\n",
      "10473\n",
      "10473\n",
      "10673\n",
      "10873\n",
      "10873\n",
      "10774\n",
      "10675\n",
      "10676\n",
      "10676\n",
      "10577\n",
      "10575\n",
      "10575\n",
      "10575\n",
      "10575\n",
      "10575\n",
      "10575\n",
      "10575\n",
      "10573\n",
      "10474\n",
      "10472\n",
      "10472\n",
      "10472\n",
      "10470\n",
      "10468\n",
      "10668\n",
      "10668\n",
      "10669\n",
      "10669\n",
      "10670\n",
      "10671\n",
      "10672\n",
      "10670\n",
      "10670\n"
     ]
    }
   ],
   "source": [
    "potyczki(18,18,mac,70,90)"
   ]
  },
  {
   "cell_type": "markdown",
   "metadata": {},
   "source": [
    "### funkcja sprawdzająca nadmiar populacji i ilość ptaków wysłaną na wygnanie/ fight club"
   ]
  },
  {
   "cell_type": "markdown",
   "metadata": {},
   "source": [
    "funkcja/wątek do rozwinięcia"
   ]
  },
  {
   "cell_type": "code",
   "execution_count": 18,
   "metadata": {},
   "outputs": [
    {
     "data": {
      "text/plain": [
       "check (generic function with 1 method)"
      ]
     },
     "execution_count": 18,
     "metadata": {},
     "output_type": "execute_result"
    }
   ],
   "source": [
    "function check(n,m,ng, nja)\n",
    "    if ng + nja > 2*n*m/3\n",
    "        env_ng = Int64(round(ng/(ng+nja) * n*m))\n",
    "        env_ja = Int64(round(nja/(ng+nja) * n*m))\n",
    "        fight_g = ng - env_ng\n",
    "        fight_ja = nja - env_ja\n",
    "        ng = env_ng\n",
    "        nja = env_ja\n",
    "        return ng, nja, fight_g, fight_ja\n",
    "    end\n",
    "end\n"
   ]
  },
  {
   "cell_type": "code",
   "execution_count": 19,
   "metadata": {},
   "outputs": [
    {
     "data": {
      "text/plain": [
       "(37, 44, 13, 16)"
      ]
     },
     "execution_count": 19,
     "metadata": {},
     "output_type": "execute_result"
    }
   ],
   "source": [
    "check(9,9, 50,60)\n"
   ]
  },
  {
   "cell_type": "code",
   "execution_count": 20,
   "metadata": {},
   "outputs": [
    {
     "data": {
      "text/plain": [
       "16"
      ]
     },
     "execution_count": 20,
     "metadata": {},
     "output_type": "execute_result"
    }
   ],
   "source": [
    "gol_fight = check(9,9,50,60)[3]\n",
    "jas_fight = check(9,9,50,60)[4]\n"
   ]
  },
  {
   "cell_type": "code",
   "execution_count": 21,
   "metadata": {},
   "outputs": [
    {
     "data": {
      "text/plain": [
       "fight_club (generic function with 1 method)"
      ]
     },
     "execution_count": 21,
     "metadata": {},
     "output_type": "execute_result"
    }
   ],
   "source": [
    "function fight_club(n_gol, n_jas)\n",
    "    if (n_gol+n_jas)%2 == 0\n",
    "        n = Int64((n_gol + n_jas)/2)\n",
    "        M = zeros(Int64, 2, n)\n",
    "        golabki(M,n_gol)\n",
    "        jastrzabki(M,n_jas)\n",
    "    else\n",
    "        n = Int64((n_gol + n_jas + 1)/2) \n",
    "        M = zeros(Int64, 2, n)\n",
    "        golabki(M,n_gol)\n",
    "        jastrzabki(M,n_jas)\n",
    "    end\n",
    "    M\n",
    "end\n",
    "        "
   ]
  },
  {
   "cell_type": "code",
   "execution_count": 22,
   "metadata": {},
   "outputs": [
    {
     "data": {
      "text/plain": [
       "2×10 Array{Int64,2}:\n",
       " 3  0  8  8  8  3  8  8  8  8\n",
       " 3  3  8  3  3  3  3  8  3  8"
      ]
     },
     "execution_count": 22,
     "metadata": {},
     "output_type": "execute_result"
    }
   ],
   "source": [
    "fight_club(9,10)"
   ]
  },
  {
   "cell_type": "code",
   "execution_count": 23,
   "metadata": {},
   "outputs": [
    {
     "data": {
      "text/plain": [
       "fight (generic function with 1 method)"
      ]
     },
     "execution_count": 23,
     "metadata": {},
     "output_type": "execute_result"
    }
   ],
   "source": [
    "\n",
    "function fight(macierz, n_gol, n_jas)\n",
    "    for i in 1:size(macierz)[2]\n",
    "        suma = macierz[1,i] + macierz[2,i]\n",
    "        if suma == 6\n",
    "            n_gol -= 1\n",
    "        elseif suma == 16\n",
    "            n_jas -= 1\n",
    "        elseif suma == 11\n",
    "            if rand(0:1) == 0\n",
    "                n_gol -= 1\n",
    "            else\n",
    "                n_jas -= 1\n",
    "            end\n",
    "        end\n",
    "    end\n",
    "    return n_gol, n_jas\n",
    "end"
   ]
  },
  {
   "cell_type": "code",
   "execution_count": 26,
   "metadata": {},
   "outputs": [
    {
     "data": {
      "text/plain": [
       "(4, 6)"
      ]
     },
     "execution_count": 26,
     "metadata": {},
     "output_type": "execute_result"
    }
   ],
   "source": [
    "fight(fight_club(9,10), 9, 10)"
   ]
  },
  {
   "cell_type": "markdown",
   "metadata": {},
   "source": [
    "### Generowanie środowiska z mniejszą ilością pakietów (na wypadek przykładowej suszy/ pożaru)\n"
   ]
  },
  {
   "cell_type": "code",
   "execution_count": 25,
   "metadata": {},
   "outputs": [
    {
     "data": {
      "text/plain": [
       "environment_food_amount (generic function with 4 methods)"
      ]
     },
     "execution_count": 25,
     "metadata": {},
     "output_type": "execute_result"
    }
   ],
   "source": [
    "function environment_food_amount(size1 = 21, size2 = 21, amount = 100)\n",
    "#ilość wieszy musi być podzielna przez 3\n",
    "    if size1 % 3 != 0\n",
    "        throw(DomainError(size, \"incorrect size\"))\n",
    "    end\n",
    "    Environment = zeros(Int64, size1, size2)\n",
    "    A = zeros(Int64, 1, size2*(fld(size1-2,3)+1))\n",
    "    A[1,1:amount] = ones(Int64, 1, amount)\n",
    "    A = Random.shuffle(A)\n",
    "    k = 1\n",
    "    for i in 2:3:size1\n",
    "        Environment[i,:] = A[1, k:(k+size1-1)]\n",
    "        k += size1\n",
    "    end\n",
    "    return Environment\n",
    "end"
   ]
  }
 ],
 "metadata": {
  "kernelspec": {
   "display_name": "Julia 1.5.3",
   "language": "julia",
   "name": "julia-1.5"
  },
  "language_info": {
   "file_extension": ".jl",
   "mimetype": "application/julia",
   "name": "julia",
   "version": "1.5.3"
  }
 },
 "nbformat": 4,
 "nbformat_minor": 4
}
