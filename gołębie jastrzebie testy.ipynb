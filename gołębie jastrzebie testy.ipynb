{
 "cells": [
  {
   "cell_type": "code",
   "execution_count": 2,
   "metadata": {},
   "outputs": [
    {
     "data": {
      "text/plain": [
       "environment (generic function with 1 method)"
      ]
     },
     "execution_count": 2,
     "metadata": {},
     "output_type": "execute_result"
    }
   ],
   "source": [
    "function environment(n,m)\n",
    "    Environment = zeros(Int64, n, m)\n",
    "    for i in 2:3:n\n",
    "        Environment[i,:] = ones(Int64, 1, m)\n",
    "    end\n",
    "    return Environment\n",
    "end"
   ]
  },
  {
   "cell_type": "code",
   "execution_count": 10,
   "metadata": {},
   "outputs": [
    {
     "data": {
      "text/plain": [
       "20×20 Array{Int64,2}:\n",
       " 0  0  0  0  0  0  0  0  0  0  0  0  0  0  0  0  0  0  0  0\n",
       " 1  1  1  1  1  1  1  1  1  1  1  1  1  1  1  1  1  1  1  1\n",
       " 0  0  0  0  0  0  0  0  0  0  0  0  0  0  0  0  0  0  0  0\n",
       " 0  0  0  0  0  0  0  0  0  0  0  0  0  0  0  0  0  0  0  0\n",
       " 1  1  1  1  1  1  1  1  1  1  1  1  1  1  1  1  1  1  1  1\n",
       " 0  0  0  0  0  0  0  0  0  0  0  0  0  0  0  0  0  0  0  0\n",
       " 0  0  0  0  0  0  0  0  0  0  0  0  0  0  0  0  0  0  0  0\n",
       " 1  1  1  1  1  1  1  1  1  1  1  1  1  1  1  1  1  1  1  1\n",
       " 0  0  0  0  0  0  0  0  0  0  0  0  0  0  0  0  0  0  0  0\n",
       " 0  0  0  0  0  0  0  0  0  0  0  0  0  0  0  0  0  0  0  0\n",
       " 1  1  1  1  1  1  1  1  1  1  1  1  1  1  1  1  1  1  1  1\n",
       " 0  0  0  0  0  0  0  0  0  0  0  0  0  0  0  0  0  0  0  0\n",
       " 0  0  0  0  0  0  0  0  0  0  0  0  0  0  0  0  0  0  0  0\n",
       " 1  1  1  1  1  1  1  1  1  1  1  1  1  1  1  1  1  1  1  1\n",
       " 0  0  0  0  0  0  0  0  0  0  0  0  0  0  0  0  0  0  0  0\n",
       " 0  0  0  0  0  0  0  0  0  0  0  0  0  0  0  0  0  0  0  0\n",
       " 1  1  1  1  1  1  1  1  1  1  1  1  1  1  1  1  1  1  1  1\n",
       " 0  0  0  0  0  0  0  0  0  0  0  0  0  0  0  0  0  0  0  0\n",
       " 0  0  0  0  0  0  0  0  0  0  0  0  0  0  0  0  0  0  0  0\n",
       " 1  1  1  1  1  1  1  1  1  1  1  1  1  1  1  1  1  1  1  1"
      ]
     },
     "execution_count": 10,
     "metadata": {},
     "output_type": "execute_result"
    }
   ],
   "source": [
    "environment(20,20)"
   ]
  },
  {
   "cell_type": "code",
   "execution_count": 3,
   "metadata": {},
   "outputs": [
    {
     "data": {
      "text/plain": [
       "golab_jastrzab (generic function with 1 method)"
      ]
     },
     "execution_count": 3,
     "metadata": {},
     "output_type": "execute_result"
    }
   ],
   "source": [
    "function golab_jastrzab(n_gol)\n",
    "    if rand(0:1) == 0\n",
    "        n_gol = n_gol - 1\n",
    "    end\n",
    "    return n_gol\n",
    "end"
   ]
  },
  {
   "cell_type": "code",
   "execution_count": 4,
   "metadata": {},
   "outputs": [
    {
     "data": {
      "text/plain": [
       "potyczki (generic function with 1 method)"
      ]
     },
     "execution_count": 4,
     "metadata": {},
     "output_type": "execute_result"
    }
   ],
   "source": [
    "#G-3\n",
    "#J-8\n",
    "function potyczki(n,m,macierz, g, ja)\n",
    "    for i in 2:3:n, j in 1:m    \n",
    "        suma = macierz[i-1,j] + macierz[i+1,j]\n",
    "        if suma == 11\n",
    "            g = golab_jastrzab(g)\n",
    "            ja = ja + 1\n",
    "        elseif suma == 6\n",
    "            g = g\n",
    "        elseif suma == 16 \n",
    "            ja = ja - 2\n",
    "        elseif suma == 3\n",
    "            g += 2\n",
    "        elseif suma == 8\n",
    "            j += 2\n",
    "        end \n",
    "    println(g,ja)\n",
    "    end\n",
    "end"
   ]
  },
  {
   "cell_type": "code",
   "execution_count": 23,
   "metadata": {},
   "outputs": [
    {
     "data": {
      "text/plain": [
       "6×4 Array{Int64,2}:\n",
       " 3  3  8  8\n",
       " 1  1  1  1\n",
       " 3  3  3  8\n",
       " 3  8  8  8\n",
       " 1  1  1  1\n",
       " 3  8  3  8"
      ]
     },
     "execution_count": 23,
     "metadata": {},
     "output_type": "execute_result"
    }
   ],
   "source": [
    "A = [3 3 8 8; 1 1 1 1; 3 3 3 8;\n",
    "3 8 8 8; 1 1 1 1; 3 8 3 8]\n"
   ]
  },
  {
   "cell_type": "code",
   "execution_count": 24,
   "metadata": {},
   "outputs": [
    {
     "name": "stdout",
     "output_type": "stream",
     "text": [
      "88\n",
      "88\n",
      "79\n",
      "77\n",
      "77\n",
      "75\n",
      "76\n",
      "74\n"
     ]
    }
   ],
   "source": [
    "potyczki(6,4,A,8,8)\n"
   ]
  },
  {
   "cell_type": "code",
   "execution_count": 25,
   "metadata": {},
   "outputs": [
    {
     "data": {
      "text/plain": [
       "6×5 Array{Int64,2}:\n",
       " 8  8  8  8  3\n",
       " 1  1  1  1  1\n",
       " 3  3  3  8  3\n",
       " 3  3  3  8  8\n",
       " 1  1  1  1  1\n",
       " 8  8  8  3  3"
      ]
     },
     "execution_count": 25,
     "metadata": {},
     "output_type": "execute_result"
    }
   ],
   "source": [
    "B = [8 8 8 8 3;\n",
    "1 1 1 1 1;\n",
    "3 3 0 8 3;\n",
    "3 3 3 8 8;\n",
    "1 1 1 1 1;\n",
    "8 8 0 3 3\n",
    "]\n",
    "#g = 10\n",
    "#j = 11"
   ]
  },
  {
   "cell_type": "code",
   "execution_count": 28,
   "metadata": {},
   "outputs": [
    {
     "name": "stdout",
     "output_type": "stream",
     "text": [
      "811\n",
      "712\n",
      "713\n",
      "711\n",
      "712\n",
      "613\n",
      "514\n",
      "515\n"
     ]
    }
   ],
   "source": [
    "potyczki(6,4,B,9,10)"
   ]
  },
  {
   "cell_type": "code",
   "execution_count": 8,
   "metadata": {},
   "outputs": [
    {
     "data": {
      "text/plain": [
       "jastrzabki (generic function with 1 method)"
      ]
     },
     "execution_count": 8,
     "metadata": {},
     "output_type": "execute_result"
    }
   ],
   "source": [
    "function golabki(macierz, ngol)\n",
    "    for i in 1:1:ngol\n",
    "        z = findall(x -> x ==0, macierz)\n",
    "        macierz[rand(z)] = 3\n",
    "    end\n",
    "end\n",
    "function jastrzabki(macierz, njas)\n",
    "    for i in 1:1:njas\n",
    "        z = findall(x -> x ==0, macierz)\n",
    "        macierz[rand(z)] = 8\n",
    "    end\n",
    "end"
   ]
  },
  {
   "cell_type": "code",
   "execution_count": 9,
   "metadata": {},
   "outputs": [],
   "source": [
    "mac = environment(21,21)\n",
    "golabki(mac, 100)\n",
    "jastrzabki(mac, 100)"
   ]
  },
  {
   "cell_type": "code",
   "execution_count": 13,
   "metadata": {},
   "outputs": [
    {
     "data": {
      "text/plain": [
       "6×6 Array{Int64,2}:\n",
       " 3  3  3  3  8  8\n",
       " 1  1  1  1  1  1\n",
       " 8  8  3  3  8  8\n",
       " 8  3  3  8  8  3\n",
       " 1  1  1  1  1  1\n",
       " 3  3  3  8  3  3"
      ]
     },
     "execution_count": 13,
     "metadata": {},
     "output_type": "execute_result"
    }
   ],
   "source": [
    "test = environment(6,6)\n",
    "golabki(test, 14)\n",
    "jastrzabki(test, 10)\n",
    "test"
   ]
  },
  {
   "cell_type": "code",
   "execution_count": 11,
   "metadata": {},
   "outputs": [
    {
     "data": {
      "text/plain": [
       "21×21 Array{Int64,2}:\n",
       " 0  3  3  0  8  8  0  0  8  0  0  8  0  8  3  0  3  3  3  0  3\n",
       " 1  1  1  1  1  1  1  1  1  1  1  1  1  1  1  1  1  1  1  1  1\n",
       " 3  3  8  3  8  8  8  0  0  3  3  0  0  0  0  3  8  3  3  3  3\n",
       " 8  3  8  3  3  8  8  8  0  8  0  3  0  8  0  0  3  8  0  3  3\n",
       " 1  1  1  1  1  1  1  1  1  1  1  1  1  1  1  1  1  1  1  1  1\n",
       " 8  8  8  0  8  3  0  3  0  8  8  3  8  8  0  8  8  3  0  3  0\n",
       " 0  0  3  8  8  3  0  8  8  0  3  3  8  0  0  8  8  8  3  8  0\n",
       " 1  1  1  1  1  1  1  1  1  1  1  1  1  1  1  1  1  1  1  1  1\n",
       " 3  3  3  3  0  3  3  0  8  3  0  8  0  8  8  3  3  3  8  3  0\n",
       " 3  8  8  8  3  8  3  3  0  8  3  0  8  3  3  3  3  8  0  8  0\n",
       " 1  1  1  1  1  1  1  1  1  1  1  1  1  1  1  1  1  1  1  1  1\n",
       " 0  0  3  3  0  0  0  0  0  3  8  0  3  8  8  8  3  3  3  0  3\n",
       " 8  0  0  8  3  8  0  0  3  8  3  8  3  0  8  3  0  0  3  0  8\n",
       " 1  1  1  1  1  1  1  1  1  1  1  1  1  1  1  1  1  1  1  1  1\n",
       " 3  8  8  8  8  8  3  3  3  0  3  8  8  0  0  8  0  8  8  3  8\n",
       " 0  8  0  8  0  0  0  0  8  8  3  8  3  0  8  8  3  8  3  3  3\n",
       " 1  1  1  1  1  1  1  1  1  1  1  1  1  1  1  1  1  1  1  1  1\n",
       " 0  8  0  8  0  3  0  8  3  0  0  0  3  8  8  0  3  0  0  8  3\n",
       " 3  8  3  3  8  8  8  0  3  0  3  3  3  0  3  3  8  0  8  3  0\n",
       " 1  1  1  1  1  1  1  1  1  1  1  1  1  1  1  1  1  1  1  1  1\n",
       " 8  8  8  0  0  0  3  8  0  3  3  8  0  0  8  0  3  0  3  8  8"
      ]
     },
     "execution_count": 11,
     "metadata": {},
     "output_type": "execute_result"
    }
   ],
   "source": [
    "mac"
   ]
  },
  {
   "cell_type": "code",
   "execution_count": 45,
   "metadata": {},
   "outputs": [
    {
     "name": "stdout",
     "output_type": "stream",
     "text": [
      "100100\n",
      "100100\n",
      "99101\n",
      "99101\n",
      "101101\n",
      "101101\n",
      "101101\n",
      "101101\n",
      "101101\n",
      "103101\n",
      "105101\n",
      "105101\n",
      "105101\n",
      "105101\n",
      "105101\n",
      "107101\n",
      "107101\n",
      "107102\n",
      "106103\n",
      "106103\n",
      "105104\n",
      "105104\n",
      "107104\n",
      "109104\n",
      "109104\n",
      "109105\n",
      "111105\n",
      "113105\n",
      "113105\n",
      "113106\n",
      "115106\n",
      "115107\n",
      "114108\n",
      "114108\n",
      "114109\n",
      "113110\n",
      "113110\n",
      "113110\n",
      "113110\n",
      "113108\n",
      "113108\n",
      "113108\n",
      "113108\n",
      "115108\n",
      "115109\n",
      "117109\n",
      "117109\n",
      "119109\n",
      "119109\n",
      "119109\n",
      "121109\n",
      "121107\n",
      "121107\n",
      "121107\n",
      "123107\n",
      "123107\n",
      "125107\n",
      "125107\n",
      "125107\n",
      "125107\n",
      "125105\n",
      "127105\n",
      "127105\n",
      "129105\n",
      "131105\n",
      "133105\n",
      "132106\n",
      "134106\n",
      "136106\n",
      "136104\n",
      "136104\n",
      "138104\n",
      "138104\n",
      "138102\n",
      "137103\n",
      "137103\n",
      "137101\n",
      "137102\n",
      "139102\n",
      "138103\n",
      "138103\n",
      "138103\n",
      "140103\n",
      "140103\n",
      "142103\n",
      "144103\n",
      "146103\n",
      "146103\n",
      "146103\n",
      "146103\n",
      "145104\n",
      "147104\n",
      "147104\n",
      "147102\n",
      "147102\n",
      "149102\n",
      "151102\n",
      "150103\n",
      "150103\n",
      "152103\n",
      "152103\n",
      "152103\n",
      "151104\n",
      "153104\n",
      "152105\n",
      "152105\n",
      "152105\n",
      "152105\n",
      "152105\n",
      "151106\n",
      "151106\n",
      "153106\n",
      "155106\n",
      "155107\n",
      "157107\n",
      "157107\n",
      "157107\n",
      "157107\n",
      "157107\n",
      "157107\n",
      "157105\n",
      "157105\n",
      "157105\n",
      "159105\n",
      "161105\n",
      "163105\n",
      "163105\n",
      "162106\n",
      "162106\n",
      "162104\n",
      "161105\n",
      "161103\n",
      "163103\n",
      "162104\n",
      "162104\n",
      "162104\n",
      "162104\n",
      "162104\n",
      "161105\n",
      "161103\n",
      "161101\n",
      "161101\n",
      "163101\n",
      "16399\n",
      "163100\n",
      "163100\n",
      "165100\n"
     ]
    }
   ],
   "source": [
    "potyczki(21,21,mac,100,100)"
   ]
  },
  {
   "cell_type": "code",
   "execution_count": 48,
   "metadata": {},
   "outputs": [],
   "source": [
    "mac = environment(18,18)\n",
    "golabki(mac, 70)\n",
    "jastrzabki(mac, 90)"
   ]
  },
  {
   "cell_type": "code",
   "execution_count": 49,
   "metadata": {},
   "outputs": [
    {
     "data": {
      "text/plain": [
       "18×18 Array{Int64,2}:\n",
       " 8  8  8  8  0  8  8  8  8  3  0  8  0  0  0  0  0  3\n",
       " 1  1  1  1  1  1  1  1  1  1  1  1  1  1  1  1  1  1\n",
       " 3  8  0  3  8  3  0  0  0  3  3  8  3  0  8  0  8  8\n",
       " 3  0  8  8  8  0  0  8  0  8  8  8  3  0  8  8  3  3\n",
       " 1  1  1  1  1  1  1  1  1  1  1  1  1  1  1  1  1  1\n",
       " 0  0  8  8  8  0  8  3  3  3  8  8  3  3  0  0  8  0\n",
       " 0  8  8  3  0  0  8  0  3  8  8  3  8  3  0  3  3  0\n",
       " 1  1  1  1  1  1  1  1  1  1  1  1  1  1  1  1  1  1\n",
       " 0  3  3  0  0  3  0  0  8  0  8  8  0  3  8  3  0  0\n",
       " 3  3  8  3  0  3  8  3  8  8  0  0  8  8  0  3  3  8\n",
       " 1  1  1  1  1  1  1  1  1  1  1  1  1  1  1  1  1  1\n",
       " 8  0  8  3  8  3  0  3  0  3  0  3  0  0  3  0  0  8\n",
       " 8  0  3  3  8  8  0  0  8  3  0  8  3  0  3  0  8  8\n",
       " 1  1  1  1  1  1  1  1  1  1  1  1  1  1  1  1  1  1\n",
       " 0  3  0  0  0  0  8  3  8  0  0  0  8  3  0  3  3  8\n",
       " 0  0  8  8  0  8  0  3  0  0  8  0  0  3  3  0  0  0\n",
       " 1  1  1  1  1  1  1  1  1  1  1  1  1  1  1  1  1  1\n",
       " 0  3  3  0  3  0  0  3  8  8  0  3  8  0  8  3  3  3"
      ]
     },
     "execution_count": 49,
     "metadata": {},
     "output_type": "execute_result"
    }
   ],
   "source": [
    "mac"
   ]
  },
  {
   "cell_type": "code",
   "execution_count": 50,
   "metadata": {
    "scrolled": true
   },
   "outputs": [
    {
     "name": "stdout",
     "output_type": "stream",
     "text": [
      "6991\n",
      "6989\n",
      "6989\n",
      "6990\n",
      "6990\n",
      "6891\n",
      "6891\n",
      "6891\n",
      "6891\n",
      "6891\n",
      "7091\n",
      "7089\n",
      "7289\n",
      "7289\n",
      "7289\n",
      "7289\n",
      "7289\n",
      "7190\n",
      "7390\n",
      "7390\n",
      "7388\n",
      "7386\n",
      "7384\n",
      "7384\n",
      "7384\n",
      "7385\n",
      "7585\n",
      "7586\n",
      "7584\n",
      "7582\n",
      "7582\n",
      "7782\n",
      "7782\n",
      "7782\n",
      "7783\n",
      "7983\n",
      "7983\n",
      "7884\n",
      "7885\n",
      "8085\n",
      "8085\n",
      "8285\n",
      "8285\n",
      "8285\n",
      "8186\n",
      "8186\n",
      "8184\n",
      "8085\n",
      "8085\n",
      "8085\n",
      "8085\n",
      "8085\n",
      "8285\n",
      "8285\n",
      "8186\n",
      "8386\n",
      "8384\n",
      "8384\n",
      "8384\n",
      "8384\n",
      "8384\n",
      "8384\n",
      "8384\n",
      "8385\n",
      "8385\n",
      "8585\n",
      "8585\n",
      "8585\n",
      "8785\n",
      "8985\n",
      "9185\n",
      "9183\n",
      "9183\n",
      "9383\n",
      "9583\n",
      "9783\n",
      "9783\n",
      "9783\n",
      "9783\n",
      "9983\n",
      "9981\n",
      "10181\n",
      "10181\n",
      "10181\n",
      "10182\n",
      "10382\n",
      "10582\n",
      "10782\n",
      "10783\n",
      "10781\n",
      "10781\n",
      "10981\n",
      "10982\n",
      "10982\n",
      "11182\n",
      "11182\n",
      "11182\n",
      "11182\n",
      "11182\n",
      "11182\n",
      "11182\n",
      "11382\n",
      "11382\n",
      "11582\n",
      "11483\n",
      "11683\n",
      "11883\n",
      "12083\n"
     ]
    }
   ],
   "source": [
    "potyczki(18,18,mac,70,90)"
   ]
  },
  {
   "cell_type": "code",
   "execution_count": 68,
   "metadata": {},
   "outputs": [
    {
     "data": {
      "text/plain": [
       "check (generic function with 1 method)"
      ]
     },
     "execution_count": 68,
     "metadata": {},
     "output_type": "execute_result"
    }
   ],
   "source": [
    "function check(n,m,ng, nja)\n",
    "    if ng + nja > 2*n*m/3\n",
    "        env_ng = Int64(round(ng/(ng+nja) * n*m))\n",
    "        env_ja = Int64(round(nja/(ng+nja) * n*m))\n",
    "        fight_g = ng - env_ng\n",
    "        fight_ja = nja - env_ja\n",
    "        return env_ng, env_ja, fight_g, fight_ja\n",
    "    end\n",
    "end\n"
   ]
  },
  {
   "cell_type": "code",
   "execution_count": 69,
   "metadata": {},
   "outputs": [
    {
     "data": {
      "text/plain": [
       "(37, 44, 13, 16)"
      ]
     },
     "execution_count": 69,
     "metadata": {},
     "output_type": "execute_result"
    }
   ],
   "source": [
    "check(9,9, 50,60)\n"
   ]
  },
  {
   "cell_type": "code",
   "execution_count": 70,
   "metadata": {},
   "outputs": [
    {
     "data": {
      "text/plain": [
       "3"
      ]
     },
     "execution_count": 70,
     "metadata": {},
     "output_type": "execute_result"
    }
   ],
   "source": [
    "Int64(3.0)"
   ]
  },
  {
   "cell_type": "markdown",
   "metadata": {},
   "source": [
    "mamy 81 slotow\n",
    "50 g, 60 j\n",
    "wsp g = 50/110 * 81\n",
    "wsp j = 60/110 * 81\n"
   ]
  }
 ],
 "metadata": {
  "kernelspec": {
   "display_name": "Julia 1.5.3",
   "language": "julia",
   "name": "julia-1.5"
  },
  "language_info": {
   "file_extension": ".jl",
   "mimetype": "application/julia",
   "name": "julia",
   "version": "1.5.3"
  }
 },
 "nbformat": 4,
 "nbformat_minor": 4
}
