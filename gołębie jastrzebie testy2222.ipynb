{
 "cells": [
  {
   "cell_type": "code",
   "execution_count": 1,
   "metadata": {},
   "outputs": [
    {
     "output_type": "stream",
     "name": "stderr",
     "text": [
      "┌ Info: Precompiling Plots [91a5bcdd-55d7-5caf-9e0b-520d859cae80]\n└ @ Base loading.jl:1278\n"
     ]
    }
   ],
   "source": [
    "using Plots"
   ]
  },
  {
   "cell_type": "code",
   "execution_count": 2,
   "metadata": {},
   "outputs": [
    {
     "name": "stderr",
     "output_type": "stream",
     "text": [
      "┌ Info: Precompiling WebIO [0f1e0344-ec1d-5b48-a673-e5cf874b6c29]\n",
      "└ @ Base loading.jl:1278\n"
     ]
    },
    {
     "data": {
      "text/html": [
       "<script>\n",
       "// Immediately-invoked-function-expression to avoid global variables.\n",
       "(function() {\n",
       "    var warning_div = document.getElementById(\"webio-warning-10650694900995930129\");\n",
       "    var hide = function () {\n",
       "        var script = document.getElementById(\"webio-setup-9970157513082946534\");\n",
       "        var parent = script && script.parentElement;\n",
       "        var grandparent = parent && parent.parentElement;\n",
       "        if (grandparent) {\n",
       "            grandparent.style.display = \"none\";\n",
       "        }\n",
       "        warning_div.style.display = \"none\";\n",
       "    };\n",
       "    if (typeof Jupyter !== \"undefined\") {\n",
       "        console.log(\"WebIO detected Jupyter notebook environment.\");\n",
       "        // Jupyter notebook.\n",
       "        var extensions = (\n",
       "            Jupyter\n",
       "            && Jupyter.notebook.config.data\n",
       "            && Jupyter.notebook.config.data.load_extensions\n",
       "        );\n",
       "        if (extensions && extensions[\"webio-jupyter-notebook\"]) {\n",
       "            // Extension already loaded.\n",
       "            console.log(\"Jupyter WebIO nbextension detected; not loading ad-hoc.\");\n",
       "            hide();\n",
       "            return;\n",
       "        }\n",
       "    } else if (window.location.pathname.includes(\"/lab\")) {\n",
       "        // Guessing JupyterLa\n",
       "        console.log(\"Jupyter Lab detected; make sure the @webio/jupyter-lab-provider labextension is installed.\");\n",
       "        hide();\n",
       "        return;\n",
       "    }\n",
       "})();\n",
       "\n",
       "</script>\n",
       "<p\n",
       "    id=\"webio-warning-10650694900995930129\"\n",
       "    class=\"output_text output_stderr\"\n",
       "    style=\"padding: 1em; font-weight: bold;\"\n",
       ">\n",
       "    Unable to load WebIO. Please make sure WebIO works for your Jupyter client.\n",
       "    For troubleshooting, please see <a href=\"https://juliagizmos.github.io/WebIO.jl/latest/providers/ijulia/\">\n",
       "    the WebIO/IJulia documentation</a>.\n",
       "    <!-- TODO: link to installation docs. -->\n",
       "</p>\n"
      ],
      "text/plain": [
       "HTML{String}(\"<script>\\n// Immediately-invoked-function-expression to avoid global variables.\\n(function() {\\n    var warning_div = document.getElementById(\\\"webio-warning-10650694900995930129\\\");\\n    var hide = function () {\\n        var script = document.getElementById(\\\"webio-setup-9970157513082946534\\\");\\n        var parent = script && script.parentElement;\\n        var grandparent = parent && parent.parentElement;\\n        if (grandparent) {\\n            grandparent.style.display = \\\"none\\\";\\n        }\\n        warning_div.style.display = \\\"none\\\";\\n    };\\n    if (typeof Jupyter !== \\\"undefined\\\") {\\n        console.log(\\\"WebIO detected Jupyter notebook environment.\\\");\\n        // Jupyter notebook.\\n        var extensions = (\\n            Jupyter\\n            && Jupyter.notebook.config.data\\n            && Jupyter.notebook.config.data.load_extensions\\n        );\\n        if (extensions && extensions[\\\"webio-jupyter-notebook\\\"]) {\\n            // Extension already loaded.\\n            console.log(\\\"Jupyter WebIO nbextension detected; not loading ad-hoc.\\\");\\n            hide();\\n            return;\\n        }\\n    } else if (window.location.pathname.includes(\\\"/lab\\\")) {\\n        // Guessing JupyterLa\\n        console.log(\\\"Jupyter Lab detected; make sure the @webio/jupyter-lab-provider labextension is installed.\\\");\\n        hide();\\n        return;\\n    }\\n})();\\n\\n</script>\\n<p\\n    id=\\\"webio-warning-10650694900995930129\\\"\\n    class=\\\"output_text output_stderr\\\"\\n    style=\\\"padding: 1em; font-weight: bold;\\\"\\n>\\n    Unable to load WebIO. Please make sure WebIO works for your Jupyter client.\\n    For troubleshooting, please see <a href=\\\"https://juliagizmos.github.io/WebIO.jl/latest/providers/ijulia/\\\">\\n    the WebIO/IJulia documentation</a>.\\n    <!-- TODO: link to installation docs. -->\\n</p>\\n\")"
      ]
     },
     "metadata": {},
     "output_type": "display_data"
    }
   ],
   "source": [
    "using WebIO\n"
   ]
  },
  {
   "cell_type": "code",
   "execution_count": 2,
   "metadata": {},
   "outputs": [],
   "source": [
    "import Random"
   ]
  },
  {
   "cell_type": "markdown",
   "metadata": {},
   "source": [
    "### funkcja generująca środowisko z pakietami żywnościowymi"
   ]
  },
  {
   "cell_type": "code",
   "execution_count": 3,
   "metadata": {},
   "outputs": [
    {
     "output_type": "execute_result",
     "data": {
      "text/plain": [
       "environment (generic function with 1 method)"
      ]
     },
     "metadata": {},
     "execution_count": 3
    }
   ],
   "source": [
    "function environment(n,m)\n",
    "    Environment = zeros(Int64, n, m)\n",
    "    for i in 2:3:n\n",
    "        Environment[i,:] = ones(Int64, 1, m)\n",
    "    end\n",
    "    return Environment\n",
    "end"
   ]
  },
  {
   "cell_type": "code",
   "execution_count": 20,
   "metadata": {},
   "outputs": [
    {
     "data": {
      "text/plain": [
       "20×20 Array{Int64,2}:\n",
       " 0  0  0  0  0  0  0  0  0  0  0  0  0  0  0  0  0  0  0  0\n",
       " 1  1  1  1  1  1  1  1  1  1  1  1  1  1  1  1  1  1  1  1\n",
       " 0  0  0  0  0  0  0  0  0  0  0  0  0  0  0  0  0  0  0  0\n",
       " 0  0  0  0  0  0  0  0  0  0  0  0  0  0  0  0  0  0  0  0\n",
       " 1  1  1  1  1  1  1  1  1  1  1  1  1  1  1  1  1  1  1  1\n",
       " 0  0  0  0  0  0  0  0  0  0  0  0  0  0  0  0  0  0  0  0\n",
       " 0  0  0  0  0  0  0  0  0  0  0  0  0  0  0  0  0  0  0  0\n",
       " 1  1  1  1  1  1  1  1  1  1  1  1  1  1  1  1  1  1  1  1\n",
       " 0  0  0  0  0  0  0  0  0  0  0  0  0  0  0  0  0  0  0  0\n",
       " 0  0  0  0  0  0  0  0  0  0  0  0  0  0  0  0  0  0  0  0\n",
       " 1  1  1  1  1  1  1  1  1  1  1  1  1  1  1  1  1  1  1  1\n",
       " 0  0  0  0  0  0  0  0  0  0  0  0  0  0  0  0  0  0  0  0\n",
       " 0  0  0  0  0  0  0  0  0  0  0  0  0  0  0  0  0  0  0  0\n",
       " 1  1  1  1  1  1  1  1  1  1  1  1  1  1  1  1  1  1  1  1\n",
       " 0  0  0  0  0  0  0  0  0  0  0  0  0  0  0  0  0  0  0  0\n",
       " 0  0  0  0  0  0  0  0  0  0  0  0  0  0  0  0  0  0  0  0\n",
       " 1  1  1  1  1  1  1  1  1  1  1  1  1  1  1  1  1  1  1  1\n",
       " 0  0  0  0  0  0  0  0  0  0  0  0  0  0  0  0  0  0  0  0\n",
       " 0  0  0  0  0  0  0  0  0  0  0  0  0  0  0  0  0  0  0  0\n",
       " 1  1  1  1  1  1  1  1  1  1  1  1  1  1  1  1  1  1  1  1"
      ]
     },
     "execution_count": 20,
     "metadata": {},
     "output_type": "execute_result"
    }
   ],
   "source": [
    "environment(20,20)"
   ]
  },
  {
   "cell_type": "markdown",
   "metadata": {},
   "source": [
    "### funkcja determinująca przeżycie gołębia w trakcie ucieczki od jastrzębia (50% prawdopodobieństwa)"
   ]
  },
  {
   "cell_type": "code",
   "execution_count": 4,
   "metadata": {},
   "outputs": [
    {
     "output_type": "execute_result",
     "data": {
      "text/plain": [
       "golab_jastrzab (generic function with 1 method)"
      ]
     },
     "metadata": {},
     "execution_count": 4
    }
   ],
   "source": [
    "function golab_jastrzab(n_gol)\n",
    "    if rand(0:1) == 0\n",
    "        n_gol = n_gol - 1\n",
    "    end\n",
    "    return n_gol\n",
    "end"
   ]
  },
  {
   "cell_type": "markdown",
   "metadata": {},
   "source": [
    "### funkcja determinująca stan populacji po wylosowaniu miejsc przy pakietach żywnościowych"
   ]
  },
  {
   "cell_type": "code",
   "execution_count": 5,
   "metadata": {},
   "outputs": [
    {
     "output_type": "execute_result",
     "data": {
      "text/plain": [
       "potyczki (generic function with 1 method)"
      ]
     },
     "metadata": {},
     "execution_count": 5
    }
   ],
   "source": [
    "#G-3\n",
    "#J-8\n",
    "function potyczki(n,m,macierz, g, ja)\n",
    "    for i in 2:3:n, j in 1:m    \n",
    "        suma = macierz[i-1,j] + macierz[i+1,j]\n",
    "        if suma == 11\n",
    "            g = golab_jastrzab(g)\n",
    "            ja = ja + 1\n",
    "        elseif suma == 6\n",
    "            g = g\n",
    "        elseif suma == 16 \n",
    "            ja = ja - 2\n",
    "        elseif suma == 3\n",
    "            g += 2\n",
    "        elseif suma == 8\n",
    "            j += 2\n",
    "        end \n",
    "    return g,ja\n",
    "    end\n",
    "end"
   ]
  },
  {
   "cell_type": "code",
   "execution_count": 23,
   "metadata": {},
   "outputs": [
    {
     "data": {
      "text/plain": [
       "6×4 Array{Int64,2}:\n",
       " 3  3  8  8\n",
       " 1  1  1  1\n",
       " 3  3  3  8\n",
       " 3  8  8  8\n",
       " 1  1  1  1\n",
       " 3  8  3  8"
      ]
     },
     "execution_count": 23,
     "metadata": {},
     "output_type": "execute_result"
    }
   ],
   "source": [
    "A = [3 3 8 8; 1 1 1 1; 3 3 3 8;\n",
    "3 8 8 8; 1 1 1 1; 3 8 3 8]\n"
   ]
  },
  {
   "cell_type": "code",
   "execution_count": 24,
   "metadata": {},
   "outputs": [
    {
     "data": {
      "text/plain": [
       "(8, 8)"
      ]
     },
     "execution_count": 24,
     "metadata": {},
     "output_type": "execute_result"
    }
   ],
   "source": [
    "potyczki(6,4,A,8,8)\n"
   ]
  },
  {
   "cell_type": "code",
   "execution_count": 25,
   "metadata": {},
   "outputs": [
    {
     "data": {
      "text/plain": [
       "6×5 Array{Int64,2}:\n",
       " 8  8  8  8  3\n",
       " 1  1  1  1  1\n",
       " 3  3  0  8  3\n",
       " 3  3  3  8  8\n",
       " 1  1  1  1  1\n",
       " 8  8  0  3  3"
      ]
     },
     "execution_count": 25,
     "metadata": {},
     "output_type": "execute_result"
    }
   ],
   "source": [
    "B = [8 8 8 8 3;\n",
    "1 1 1 1 1;\n",
    "3 3 0 8 3;\n",
    "3 3 3 8 8;\n",
    "1 1 1 1 1;\n",
    "8 8 0 3 3\n",
    "]\n",
    "#g = 10\n",
    "#j = 11"
   ]
  },
  {
   "cell_type": "code",
   "execution_count": 26,
   "metadata": {},
   "outputs": [
    {
     "data": {
      "text/plain": [
       "(8, 11)"
      ]
     },
     "execution_count": 26,
     "metadata": {},
     "output_type": "execute_result"
    }
   ],
   "source": [
    "potyczki(6,4,B,9,10)"
   ]
  },
  {
   "cell_type": "markdown",
   "metadata": {},
   "source": [
    "### funkcja generująca rozstawienie ptaków w środowisku"
   ]
  },
  {
   "cell_type": "code",
   "execution_count": 6,
   "metadata": {},
   "outputs": [
    {
     "output_type": "execute_result",
     "data": {
      "text/plain": [
       "jastrzabki (generic function with 1 method)"
      ]
     },
     "metadata": {},
     "execution_count": 6
    }
   ],
   "source": [
    "function golabki(macierz, ngol)\n",
    "    if ngol != 0  \n",
    "        for i in 1:1:ngol\n",
    "            z = findall(x -> x ==0, macierz)\n",
    "            macierz[rand(z)] = 3\n",
    "        end\n",
    "    end\n",
    "end\n",
    "function jastrzabki(macierz, njas)\n",
    "    if njas != 0\n",
    "        for i in 1:1:njas\n",
    "            z = findall(x -> x ==0, macierz)\n",
    "            macierz[rand(z)] = 8\n",
    "        end\n",
    "    end\n",
    "end"
   ]
  },
  {
   "cell_type": "code",
   "execution_count": 7,
   "metadata": {},
   "outputs": [],
   "source": [
    "mac = environment(21,21)\n",
    "golabki(mac, 100)\n",
    "jastrzabki(mac, 100)"
   ]
  },
  {
   "cell_type": "code",
   "execution_count": 8,
   "metadata": {},
   "outputs": [
    {
     "output_type": "execute_result",
     "data": {
      "text/plain": [
       "6×6 Array{Int64,2}:\n",
       " 3  8  8  3  3  8\n",
       " 1  1  1  1  1  1\n",
       " 8  3  3  3  3  3\n",
       " 3  8  3  8  3  8\n",
       " 1  1  1  1  1  1\n",
       " 3  8  8  3  8  3"
      ]
     },
     "metadata": {},
     "execution_count": 8
    }
   ],
   "source": [
    "test = environment(6,6)\n",
    "golabki(test, 14)\n",
    "jastrzabki(test, 10)\n",
    "test"
   ]
  },
  {
   "cell_type": "code",
   "execution_count": 30,
   "metadata": {},
   "outputs": [
    {
     "data": {
      "text/plain": [
       "21×21 Array{Int64,2}:\n",
       " 0  0  8  8  3  3  0  3  0  0  3  3  8  8  3  8  8  0  8  0  3\n",
       " 1  1  1  1  1  1  1  1  1  1  1  1  1  1  1  1  1  1  1  1  1\n",
       " 0  3  0  0  3  0  3  3  3  0  3  3  3  8  3  0  8  0  0  8  0\n",
       " 3  3  0  0  8  3  8  0  8  3  8  0  8  3  8  8  8  3  3  8  3\n",
       " 1  1  1  1  1  1  1  1  1  1  1  1  1  1  1  1  1  1  1  1  1\n",
       " 3  8  8  0  0  8  0  3  3  8  8  3  8  8  8  0  3  3  0  3  3\n",
       " 0  3  3  0  3  3  0  3  8  3  3  8  0  3  3  8  3  8  8  0  3\n",
       " 1  1  1  1  1  1  1  1  1  1  1  1  1  1  1  1  1  1  1  1  1\n",
       " 8  0  8  3  8  0  0  3  8  8  8  8  0  8  3  0  8  3  3  3  0\n",
       " 3  0  3  8  3  3  0  0  0  3  3  0  8  0  0  0  3  0  0  8  0\n",
       " 1  1  1  1  1  1  1  1  1  1  1  1  1  1  1  1  1  1  1  1  1\n",
       " 3  0  3  8  3  8  8  0  0  8  8  0  0  3  3  3  8  8  3  3  0\n",
       " 3  0  3  8  0  8  3  3  3  0  0  8  0  3  0  3  3  0  8  3  0\n",
       " 1  1  1  1  1  1  1  1  1  1  1  1  1  1  1  1  1  1  1  1  1\n",
       " 0  0  3  0  8  0  3  8  0  0  0  8  0  3  0  8  3  0  3  3  8\n",
       " 3  8  0  0  3  8  8  8  8  8  0  3  8  8  8  0  8  3  8  8  0\n",
       " 1  1  1  1  1  1  1  1  1  1  1  1  1  1  1  1  1  1  1  1  1\n",
       " 8  3  8  3  0  0  0  8  8  0  3  8  8  0  3  8  3  8  8  3  8\n",
       " 3  3  3  8  3  0  8  3  8  8  8  8  3  8  0  3  8  8  8  0  3\n",
       " 1  1  1  1  1  1  1  1  1  1  1  1  1  1  1  1  1  1  1  1  1\n",
       " 8  0  0  0  8  3  8  0  8  3  0  3  8  0  8  0  0  8  8  0  0"
      ]
     },
     "execution_count": 30,
     "metadata": {},
     "output_type": "execute_result"
    }
   ],
   "source": [
    "mac"
   ]
  },
  {
   "cell_type": "code",
   "execution_count": 31,
   "metadata": {},
   "outputs": [
    {
     "data": {
      "text/plain": [
       "(100, 100)"
      ]
     },
     "execution_count": 31,
     "metadata": {},
     "output_type": "execute_result"
    }
   ],
   "source": [
    "potyczki(21,21,mac,100,100)"
   ]
  },
  {
   "cell_type": "code",
   "execution_count": 9,
   "metadata": {},
   "outputs": [],
   "source": [
    "mac = environment(18,18)\n",
    "golabki(mac, 70)\n",
    "jastrzabki(mac, 90)"
   ]
  },
  {
   "cell_type": "code",
   "execution_count": 33,
   "metadata": {},
   "outputs": [
    {
     "data": {
      "text/plain": [
       "18×18 Array{Int64,2}:\n",
       " 0  3  8  0  0  8  3  0  8  8  3  8  8  8  8  3  3  8\n",
       " 1  1  1  1  1  1  1  1  1  1  1  1  1  1  1  1  1  1\n",
       " 8  3  8  3  0  8  3  3  0  3  3  0  0  8  8  0  8  8\n",
       " 8  0  3  8  3  3  0  8  0  8  8  3  8  0  8  8  3  0\n",
       " 1  1  1  1  1  1  1  1  1  1  1  1  1  1  1  1  1  1\n",
       " 3  8  8  0  3  3  8  8  8  8  8  0  3  3  0  0  3  3\n",
       " 8  0  3  3  3  8  3  0  3  0  0  8  8  8  0  8  8  0\n",
       " 1  1  1  1  1  1  1  1  1  1  1  1  1  1  1  1  1  1\n",
       " 3  0  3  0  8  3  8  8  3  3  0  8  0  0  8  8  8  3\n",
       " 8  8  0  3  0  3  8  0  3  8  0  8  0  0  8  8  0  3\n",
       " 1  1  1  1  1  1  1  1  1  1  1  1  1  1  1  1  1  1\n",
       " 8  3  8  8  8  8  0  3  8  8  8  0  8  8  8  0  3  0\n",
       " 8  0  3  3  0  3  3  3  8  3  8  3  3  8  8  8  0  8\n",
       " 1  1  1  1  1  1  1  1  1  1  1  1  1  1  1  1  1  1\n",
       " 3  8  8  3  3  8  8  0  0  8  3  8  8  0  8  0  3  3\n",
       " 8  3  8  8  0  8  3  8  3  0  3  3  0  8  3  0  8  3\n",
       " 1  1  1  1  1  1  1  1  1  1  1  1  1  1  1  1  1  1\n",
       " 3  8  0  0  8  3  8  0  3  0  3  3  3  8  3  8  0  3"
      ]
     },
     "execution_count": 33,
     "metadata": {},
     "output_type": "execute_result"
    }
   ],
   "source": [
    "mac"
   ]
  },
  {
   "cell_type": "code",
   "execution_count": 34,
   "metadata": {
    "scrolled": true
   },
   "outputs": [
    {
     "data": {
      "text/plain": [
       "(70, 90)"
      ]
     },
     "execution_count": 34,
     "metadata": {},
     "output_type": "execute_result"
    }
   ],
   "source": [
    "potyczki(18,18,mac,70,90)"
   ]
  },
  {
   "cell_type": "markdown",
   "metadata": {},
   "source": [
    "### funkcja sprawdzająca nadmiar populacji i ilość ptaków wysłaną na wygnanie/ fight club"
   ]
  },
  {
   "cell_type": "markdown",
   "metadata": {},
   "source": [
    "funkcja/wątek do rozwinięcia"
   ]
  },
  {
   "cell_type": "code",
   "execution_count": 10,
   "metadata": {},
   "outputs": [
    {
     "output_type": "execute_result",
     "data": {
      "text/plain": [
       "check (generic function with 1 method)"
      ]
     },
     "metadata": {},
     "execution_count": 10
    }
   ],
   "source": [
    "function check(n,m,ng, nja)\n",
    "    if ng + nja > 2*n*m/3\n",
    "        env_ng = Int64(round(ng/(ng+nja) * 2*n*m/3))\n",
    "        env_ja = Int64(round(nja/(ng+nja) * 2*n*m/3))\n",
    "        fight_g = ng - env_ng\n",
    "        fight_ja = nja - env_ja\n",
    "        ng = env_ng\n",
    "        nja = env_ja\n",
    "        return ng, nja, fight_g, fight_ja\n",
    "    else\n",
    "        fight_g = 0\n",
    "        fight_ja = 0\n",
    "        return ng, nja, fight_g, fight_ja\n",
    "    end\n",
    "end\n"
   ]
  },
  {
   "cell_type": "code",
   "execution_count": 36,
   "metadata": {},
   "outputs": [
    {
     "data": {
      "text/plain": [
       "(29, 25, 6, 5)"
      ]
     },
     "execution_count": 36,
     "metadata": {},
     "output_type": "execute_result"
    }
   ],
   "source": [
    "check(9,9, 35,30)\n"
   ]
  },
  {
   "cell_type": "code",
   "execution_count": 37,
   "metadata": {},
   "outputs": [
    {
     "name": "stdout",
     "output_type": "stream",
     "text": [
      "(25, 29, 25, 31)"
     ]
    }
   ],
   "source": [
    "print(check(9,9,50,60))\n"
   ]
  },
  {
   "cell_type": "code",
   "execution_count": 11,
   "metadata": {},
   "outputs": [
    {
     "output_type": "execute_result",
     "data": {
      "text/plain": [
       "fight_club (generic function with 1 method)"
      ]
     },
     "metadata": {},
     "execution_count": 11
    }
   ],
   "source": [
    "function fight_club(n_gol, n_jas)\n",
    "    if (n_gol+n_jas)%2 == 0\n",
    "        n = Int64((n_gol + n_jas)/2)\n",
    "        M = zeros(Int64, 2, n)\n",
    "        if n_gol != 0\n",
    "            golabki(M,n_gol)\n",
    "        end\n",
    "        if n_jas!=0\n",
    "            jastrzabki(M,n_jas)\n",
    "        end\n",
    "    else\n",
    "        n = Int64((n_gol + n_jas + 1)/2) \n",
    "        M = zeros(Int64, 2, n)\n",
    "        if n_gol != 0\n",
    "            golabki(M,n_gol)\n",
    "        end\n",
    "        if n_jas!=0\n",
    "            jastrzabki(M,n_jas)\n",
    "        end\n",
    "    end\n",
    "    return M\n",
    "end\n",
    "        "
   ]
  },
  {
   "cell_type": "code",
   "execution_count": 39,
   "metadata": {},
   "outputs": [
    {
     "data": {
      "text/plain": [
       "2×3 Array{Int64,2}:\n",
       " 3  8  8\n",
       " 3  3  8"
      ]
     },
     "execution_count": 39,
     "metadata": {},
     "output_type": "execute_result"
    }
   ],
   "source": [
    "fight_club(3,3)"
   ]
  },
  {
   "cell_type": "code",
   "execution_count": 12,
   "metadata": {},
   "outputs": [
    {
     "output_type": "execute_result",
     "data": {
      "text/plain": [
       "fight (generic function with 1 method)"
      ]
     },
     "metadata": {},
     "execution_count": 12
    }
   ],
   "source": [
    "\n",
    "function fight(macierz, n_gol, n_jas)\n",
    "    for i in 1:size(macierz)[2]\n",
    "        suma = macierz[1,i] + macierz[2,i]\n",
    "        if suma == 6\n",
    "            n_gol -= 1\n",
    "        elseif suma == 16\n",
    "            n_jas -= 1\n",
    "        elseif suma == 11\n",
    "            if rand(0:1) == 0\n",
    "                n_gol -= 1\n",
    "            else\n",
    "                n_jas -= 1\n",
    "            end\n",
    "        end\n",
    "    end\n",
    "    return n_gol, n_jas\n",
    "end"
   ]
  },
  {
   "cell_type": "code",
   "execution_count": 41,
   "metadata": {},
   "outputs": [
    {
     "data": {
      "text/plain": [
       "(2, 1)"
      ]
     },
     "execution_count": 41,
     "metadata": {},
     "output_type": "execute_result"
    }
   ],
   "source": [
    "fight(fight_club(3,3), 3, 3)"
   ]
  },
  {
   "cell_type": "markdown",
   "metadata": {},
   "source": [
    "### Generowanie środowiska z mniejszą ilością pakietów (na wypadek przykładowej suszy/ pożaru)\n"
   ]
  },
  {
   "cell_type": "code",
   "execution_count": 13,
   "metadata": {},
   "outputs": [
    {
     "output_type": "execute_result",
     "data": {
      "text/plain": [
       "environment_food_amount (generic function with 4 methods)"
      ]
     },
     "metadata": {},
     "execution_count": 13
    }
   ],
   "source": [
    "function environment_food_amount(size1 = 21, size2 = 21, amount = 100)\n",
    "#ilość wieszy musi być podzielna przez 3\n",
    "    if size1 % 3 != 0\n",
    "        throw(DomainError(size, \"incorrect size\"))\n",
    "    end\n",
    "    Environment = zeros(Int64, size1, size2)\n",
    "    A = zeros(Int64, 1, size2*(fld(size1-2,3)+1))\n",
    "    A[1,1:amount] = ones(Int64, 1, amount)\n",
    "    A = Random.shuffle(A)\n",
    "    k = 1\n",
    "    for i in 2:3:size1\n",
    "        Environment[i,:] = A[1, k:(k+size1-1)]\n",
    "        k += size1\n",
    "    end\n",
    "    return Environment\n",
    "end"
   ]
  },
  {
   "cell_type": "code",
   "execution_count": null,
   "metadata": {},
   "outputs": [],
   "source": []
  },
  {
   "cell_type": "code",
   "execution_count": null,
   "metadata": {},
   "outputs": [],
   "source": []
  },
  {
   "cell_type": "code",
   "execution_count": null,
   "metadata": {},
   "outputs": [],
   "source": []
  },
  {
   "cell_type": "code",
   "execution_count": 14,
   "metadata": {},
   "outputs": [
    {
     "output_type": "execute_result",
     "data": {
      "text/plain": [
       "action (generic function with 2 methods)"
      ]
     },
     "metadata": {},
     "execution_count": 14
    }
   ],
   "source": [
    "function action(n, m, n_gol, n_jas, p, A, index = 1)\n",
    "    \n",
    "    if p == 0\n",
    "        return A\n",
    "    end\n",
    "    \n",
    "    srod = environment(n,m) ##mamy pakiety\n",
    "    \n",
    "    a = check(n, m, n_gol, n_jas) #sprawdzamy czy nie ma za dużo ptaszków, zwraca jako (gol_safe, jas_safe, gol_fight, jas_fight)\n",
    "    n_gol = a[1]\n",
    "    n_jas = a[2]\n",
    "\n",
    "    golabki(srod, n_gol)\n",
    "    jastrzabki(srod, n_jas)  ##mamy srodowisko z ptaszkami\n",
    "    \n",
    "    result = potyczki(n,m,srod, n_gol, n_jas) ##mamy stan populacji po potyczkach\n",
    "    n_gol = result[1] ##liczba gołębi\n",
    "    n_jas = result[2]\n",
    "    \n",
    "    ##w miedzyczasie fight club :\n",
    "    \n",
    "    \n",
    "    b = fight(fight_club(a[3],a[4]), a[3], a[4]) #populacja po fight clubie - (gol, jas)\n",
    "    \n",
    "    n_gol += b[1] ##ostateczna ilosc golebi - ta bezpieczna + fight club\n",
    "    n_jas += b[2] ## -||- jastrzebi\n",
    "    gol_fight = b[1] ##ilość ptakow po fightcie, może się przyda c:\n",
    "    jas_fight = b[2]\n",
    "    \n",
    "    A[index, 1] = n_gol\n",
    "    A[index, 2] = n_jas\n",
    "    index += 1\n",
    "    #println(n_gol,\",\", n_jas,\",\", gol_fight, \",\",jas_fight)\n",
    "    \n",
    "    action(n, m, n_gol, n_jas, p-1, A, index) #i lecimy rekurencją\n",
    "end"
   ]
  },
  {
   "cell_type": "code",
   "execution_count": 15,
   "metadata": {},
   "outputs": [
    {
     "output_type": "execute_result",
     "data": {
      "text/plain": [
       "100×2 Array{Int64,2}:\n",
       " 28  29\n",
       " 28  26\n",
       " 28  27\n",
       " 28  28\n",
       " 28  28\n",
       " 28  25\n",
       " 28  23\n",
       " 30  23\n",
       " 30  21\n",
       " 30  21\n",
       " 32  21\n",
       " 32  19\n",
       " 32  19\n",
       "  ⋮  \n",
       " 29  24\n",
       " 31  24\n",
       " 31  25\n",
       " 30  26\n",
       " 30  23\n",
       " 30  24\n",
       " 30  24\n",
       " 29  25\n",
       " 29  23\n",
       " 29  24\n",
       " 28  25\n",
       " 27  26"
      ]
     },
     "metadata": {},
     "execution_count": 15
    }
   ],
   "source": [
    "A = action(9,9,30,30, 100, zeros(Int64, 100, 2))"
   ]
  },
  {
   "cell_type": "code",
   "execution_count": 16,
   "metadata": {},
   "outputs": [
    {
     "output_type": "execute_result",
     "data": {
      "image/svg+xml": "<?xml version=\"1.0\" encoding=\"utf-8\"?>\n<svg xmlns=\"http://www.w3.org/2000/svg\" xmlns:xlink=\"http://www.w3.org/1999/xlink\" width=\"600\" height=\"400\" viewBox=\"0 0 2400 1600\">\n<defs>\n  <clipPath id=\"clip820\">\n    <rect x=\"0\" y=\"0\" width=\"2400\" height=\"1600\"/>\n  </clipPath>\n</defs>\n<path clip-path=\"url(#clip820)\" d=\"\nM0 1600 L2400 1600 L2400 0 L0 0  Z\n  \" fill=\"#ffffff\" fill-rule=\"evenodd\" fill-opacity=\"1\"/>\n<defs>\n  <clipPath id=\"clip821\">\n    <rect x=\"480\" y=\"0\" width=\"1681\" height=\"1600\"/>\n  </clipPath>\n</defs>\n<path clip-path=\"url(#clip820)\" d=\"\nM136.76 1486.45 L2352.76 1486.45 L2352.76 47.2441 L136.76 47.2441  Z\n  \" fill=\"#ffffff\" fill-rule=\"evenodd\" fill-opacity=\"1\"/>\n<defs>\n  <clipPath id=\"clip822\">\n    <rect x=\"136\" y=\"47\" width=\"2217\" height=\"1440\"/>\n  </clipPath>\n</defs>\n<polyline clip-path=\"url(#clip822)\" style=\"stroke:#000000; stroke-width:2; stroke-opacity:0.1; fill:none\" points=\"\n  178.36,1486.45 178.36,47.2441 \n  \"/>\n<polyline clip-path=\"url(#clip822)\" style=\"stroke:#000000; stroke-width:2; stroke-opacity:0.1; fill:none\" points=\"\n  706.28,1486.45 706.28,47.2441 \n  \"/>\n<polyline clip-path=\"url(#clip822)\" style=\"stroke:#000000; stroke-width:2; stroke-opacity:0.1; fill:none\" points=\"\n  1234.2,1486.45 1234.2,47.2441 \n  \"/>\n<polyline clip-path=\"url(#clip822)\" style=\"stroke:#000000; stroke-width:2; stroke-opacity:0.1; fill:none\" points=\"\n  1762.12,1486.45 1762.12,47.2441 \n  \"/>\n<polyline clip-path=\"url(#clip822)\" style=\"stroke:#000000; stroke-width:2; stroke-opacity:0.1; fill:none\" points=\"\n  2290.04,1486.45 2290.04,47.2441 \n  \"/>\n<polyline clip-path=\"url(#clip820)\" style=\"stroke:#000000; stroke-width:4; stroke-opacity:1; fill:none\" points=\"\n  136.76,1486.45 2352.76,1486.45 \n  \"/>\n<polyline clip-path=\"url(#clip820)\" style=\"stroke:#000000; stroke-width:4; stroke-opacity:1; fill:none\" points=\"\n  178.36,1486.45 178.36,1469.18 \n  \"/>\n<polyline clip-path=\"url(#clip820)\" style=\"stroke:#000000; stroke-width:4; stroke-opacity:1; fill:none\" points=\"\n  706.28,1486.45 706.28,1469.18 \n  \"/>\n<polyline clip-path=\"url(#clip820)\" style=\"stroke:#000000; stroke-width:4; stroke-opacity:1; fill:none\" points=\"\n  1234.2,1486.45 1234.2,1469.18 \n  \"/>\n<polyline clip-path=\"url(#clip820)\" style=\"stroke:#000000; stroke-width:4; stroke-opacity:1; fill:none\" points=\"\n  1762.12,1486.45 1762.12,1469.18 \n  \"/>\n<polyline clip-path=\"url(#clip820)\" style=\"stroke:#000000; stroke-width:4; stroke-opacity:1; fill:none\" points=\"\n  2290.04,1486.45 2290.04,1469.18 \n  \"/>\n<path clip-path=\"url(#clip820)\" d=\"M 0 0 M178.36 1515.64 Q174.749 1515.64 172.921 1519.2 Q171.115 1522.75 171.115 1529.87 Q171.115 1536.98 172.921 1540.55 Q174.749 1544.09 178.36 1544.09 Q181.995 1544.09 183.8 1540.55 Q185.629 1536.98 185.629 1529.87 Q185.629 1522.75 183.8 1519.2 Q181.995 1515.64 178.36 1515.64 M178.36 1511.93 Q184.171 1511.93 187.226 1516.54 Q190.305 1521.12 190.305 1529.87 Q190.305 1538.6 187.226 1543.21 Q184.171 1547.79 178.36 1547.79 Q172.55 1547.79 169.472 1543.21 Q166.416 1538.6 166.416 1529.87 Q166.416 1521.12 169.472 1516.54 Q172.55 1511.93 178.36 1511.93 Z\" fill=\"#000000\" fill-rule=\"evenodd\" fill-opacity=\"1\" /><path clip-path=\"url(#clip820)\" d=\"M 0 0 M687.924 1543.18 L704.243 1543.18 L704.243 1547.12 L682.299 1547.12 L682.299 1543.18 Q684.961 1540.43 689.544 1535.8 Q694.151 1531.15 695.331 1529.81 Q697.576 1527.28 698.456 1525.55 Q699.359 1523.79 699.359 1522.1 Q699.359 1519.34 697.414 1517.61 Q695.493 1515.87 692.391 1515.87 Q690.192 1515.87 687.739 1516.63 Q685.308 1517.4 682.53 1518.95 L682.53 1514.23 Q685.354 1513.09 687.808 1512.51 Q690.262 1511.93 692.299 1511.93 Q697.669 1511.93 700.863 1514.62 Q704.058 1517.31 704.058 1521.8 Q704.058 1523.93 703.248 1525.85 Q702.461 1527.74 700.354 1530.34 Q699.776 1531.01 696.674 1534.23 Q693.572 1537.42 687.924 1543.18 Z\" fill=\"#000000\" fill-rule=\"evenodd\" fill-opacity=\"1\" /><path clip-path=\"url(#clip820)\" d=\"M 0 0 M709.359 1512.56 L727.715 1512.56 L727.715 1516.5 L713.641 1516.5 L713.641 1524.97 Q714.66 1524.62 715.678 1524.46 Q716.697 1524.27 717.715 1524.27 Q723.502 1524.27 726.882 1527.44 Q730.261 1530.62 730.261 1536.03 Q730.261 1541.61 726.789 1544.71 Q723.317 1547.79 716.998 1547.79 Q714.822 1547.79 712.553 1547.42 Q710.308 1547.05 707.9 1546.31 L707.9 1541.61 Q709.984 1542.74 712.206 1543.3 Q714.428 1543.86 716.905 1543.86 Q720.91 1543.86 723.248 1541.75 Q725.586 1539.64 725.586 1536.03 Q725.586 1532.42 723.248 1530.31 Q720.91 1528.21 716.905 1528.21 Q715.03 1528.21 713.155 1528.62 Q711.303 1529.04 709.359 1529.92 L709.359 1512.56 Z\" fill=\"#000000\" fill-rule=\"evenodd\" fill-opacity=\"1\" /><path clip-path=\"url(#clip820)\" d=\"M 0 0 M1210.97 1512.56 L1229.33 1512.56 L1229.33 1516.5 L1215.25 1516.5 L1215.25 1524.97 Q1216.27 1524.62 1217.29 1524.46 Q1218.31 1524.27 1219.33 1524.27 Q1225.11 1524.27 1228.49 1527.44 Q1231.87 1530.62 1231.87 1536.03 Q1231.87 1541.61 1228.4 1544.71 Q1224.93 1547.79 1218.61 1547.79 Q1216.43 1547.79 1214.17 1547.42 Q1211.92 1547.05 1209.51 1546.31 L1209.51 1541.61 Q1211.6 1542.74 1213.82 1543.3 Q1216.04 1543.86 1218.52 1543.86 Q1222.52 1543.86 1224.86 1541.75 Q1227.2 1539.64 1227.2 1536.03 Q1227.2 1532.42 1224.86 1530.31 Q1222.52 1528.21 1218.52 1528.21 Q1216.64 1528.21 1214.77 1528.62 Q1212.92 1529.04 1210.97 1529.92 L1210.97 1512.56 Z\" fill=\"#000000\" fill-rule=\"evenodd\" fill-opacity=\"1\" /><path clip-path=\"url(#clip820)\" d=\"M 0 0 M1246.94 1515.64 Q1243.33 1515.64 1241.5 1519.2 Q1239.7 1522.75 1239.7 1529.87 Q1239.7 1536.98 1241.5 1540.55 Q1243.33 1544.09 1246.94 1544.09 Q1250.58 1544.09 1252.38 1540.55 Q1254.21 1536.98 1254.21 1529.87 Q1254.21 1522.75 1252.38 1519.2 Q1250.58 1515.64 1246.94 1515.64 M1246.94 1511.93 Q1252.75 1511.93 1255.81 1516.54 Q1258.89 1521.12 1258.89 1529.87 Q1258.89 1538.6 1255.81 1543.21 Q1252.75 1547.79 1246.94 1547.79 Q1241.13 1547.79 1238.05 1543.21 Q1235 1538.6 1235 1529.87 Q1235 1521.12 1238.05 1516.54 Q1241.13 1511.93 1246.94 1511.93 Z\" fill=\"#000000\" fill-rule=\"evenodd\" fill-opacity=\"1\" /><path clip-path=\"url(#clip820)\" d=\"M 0 0 M1738 1512.56 L1760.22 1512.56 L1760.22 1514.55 L1747.68 1547.12 L1742.79 1547.12 L1754.6 1516.5 L1738 1516.5 L1738 1512.56 Z\" fill=\"#000000\" fill-rule=\"evenodd\" fill-opacity=\"1\" /><path clip-path=\"url(#clip820)\" d=\"M 0 0 M1765.34 1512.56 L1783.69 1512.56 L1783.69 1516.5 L1769.62 1516.5 L1769.62 1524.97 Q1770.64 1524.62 1771.66 1524.46 Q1772.67 1524.27 1773.69 1524.27 Q1779.48 1524.27 1782.86 1527.44 Q1786.24 1530.62 1786.24 1536.03 Q1786.24 1541.61 1782.77 1544.71 Q1779.3 1547.79 1772.98 1547.79 Q1770.8 1547.79 1768.53 1547.42 Q1766.29 1547.05 1763.88 1546.31 L1763.88 1541.61 Q1765.96 1542.74 1768.18 1543.3 Q1770.41 1543.86 1772.88 1543.86 Q1776.89 1543.86 1779.23 1541.75 Q1781.56 1539.64 1781.56 1536.03 Q1781.56 1532.42 1779.23 1530.31 Q1776.89 1528.21 1772.88 1528.21 Q1771.01 1528.21 1769.13 1528.62 Q1767.28 1529.04 1765.34 1529.92 L1765.34 1512.56 Z\" fill=\"#000000\" fill-rule=\"evenodd\" fill-opacity=\"1\" /><path clip-path=\"url(#clip820)\" d=\"M 0 0 M2253.41 1543.18 L2261.05 1543.18 L2261.05 1516.82 L2252.74 1518.49 L2252.74 1514.23 L2261 1512.56 L2265.68 1512.56 L2265.68 1543.18 L2273.31 1543.18 L2273.31 1547.12 L2253.41 1547.12 L2253.41 1543.18 Z\" fill=\"#000000\" fill-rule=\"evenodd\" fill-opacity=\"1\" /><path clip-path=\"url(#clip820)\" d=\"M 0 0 M2288.38 1515.64 Q2284.77 1515.64 2282.94 1519.2 Q2281.14 1522.75 2281.14 1529.87 Q2281.14 1536.98 2282.94 1540.55 Q2284.77 1544.09 2288.38 1544.09 Q2292.02 1544.09 2293.82 1540.55 Q2295.65 1536.98 2295.65 1529.87 Q2295.65 1522.75 2293.82 1519.2 Q2292.02 1515.64 2288.38 1515.64 M2288.38 1511.93 Q2294.19 1511.93 2297.25 1516.54 Q2300.33 1521.12 2300.33 1529.87 Q2300.33 1538.6 2297.25 1543.21 Q2294.19 1547.79 2288.38 1547.79 Q2282.57 1547.79 2279.5 1543.21 Q2276.44 1538.6 2276.44 1529.87 Q2276.44 1521.12 2279.5 1516.54 Q2282.57 1511.93 2288.38 1511.93 Z\" fill=\"#000000\" fill-rule=\"evenodd\" fill-opacity=\"1\" /><path clip-path=\"url(#clip820)\" d=\"M 0 0 M2315.4 1515.64 Q2311.79 1515.64 2309.96 1519.2 Q2308.15 1522.75 2308.15 1529.87 Q2308.15 1536.98 2309.96 1540.55 Q2311.79 1544.09 2315.4 1544.09 Q2319.03 1544.09 2320.84 1540.55 Q2322.67 1536.98 2322.67 1529.87 Q2322.67 1522.75 2320.84 1519.2 Q2319.03 1515.64 2315.4 1515.64 M2315.4 1511.93 Q2321.21 1511.93 2324.26 1516.54 Q2327.34 1521.12 2327.34 1529.87 Q2327.34 1538.6 2324.26 1543.21 Q2321.21 1547.79 2315.4 1547.79 Q2309.59 1547.79 2306.51 1543.21 Q2303.45 1538.6 2303.45 1529.87 Q2303.45 1521.12 2306.51 1516.54 Q2309.59 1511.93 2315.4 1511.93 Z\" fill=\"#000000\" fill-rule=\"evenodd\" fill-opacity=\"1\" /><polyline clip-path=\"url(#clip822)\" style=\"stroke:#000000; stroke-width:2; stroke-opacity:0.1; fill:none\" points=\"\n  136.76,1355.2 2352.76,1355.2 \n  \"/>\n<polyline clip-path=\"url(#clip822)\" style=\"stroke:#000000; stroke-width:2; stroke-opacity:0.1; fill:none\" points=\"\n  136.76,1083.65 2352.76,1083.65 \n  \"/>\n<polyline clip-path=\"url(#clip822)\" style=\"stroke:#000000; stroke-width:2; stroke-opacity:0.1; fill:none\" points=\"\n  136.76,812.104 2352.76,812.104 \n  \"/>\n<polyline clip-path=\"url(#clip822)\" style=\"stroke:#000000; stroke-width:2; stroke-opacity:0.1; fill:none\" points=\"\n  136.76,540.556 2352.76,540.556 \n  \"/>\n<polyline clip-path=\"url(#clip822)\" style=\"stroke:#000000; stroke-width:2; stroke-opacity:0.1; fill:none\" points=\"\n  136.76,269.008 2352.76,269.008 \n  \"/>\n<polyline clip-path=\"url(#clip820)\" style=\"stroke:#000000; stroke-width:4; stroke-opacity:1; fill:none\" points=\"\n  136.76,1486.45 136.76,47.2441 \n  \"/>\n<polyline clip-path=\"url(#clip820)\" style=\"stroke:#000000; stroke-width:4; stroke-opacity:1; fill:none\" points=\"\n  136.76,1355.2 163.352,1355.2 \n  \"/>\n<polyline clip-path=\"url(#clip820)\" style=\"stroke:#000000; stroke-width:4; stroke-opacity:1; fill:none\" points=\"\n  136.76,1083.65 163.352,1083.65 \n  \"/>\n<polyline clip-path=\"url(#clip820)\" style=\"stroke:#000000; stroke-width:4; stroke-opacity:1; fill:none\" points=\"\n  136.76,812.104 163.352,812.104 \n  \"/>\n<polyline clip-path=\"url(#clip820)\" style=\"stroke:#000000; stroke-width:4; stroke-opacity:1; fill:none\" points=\"\n  136.76,540.556 163.352,540.556 \n  \"/>\n<polyline clip-path=\"url(#clip820)\" style=\"stroke:#000000; stroke-width:4; stroke-opacity:1; fill:none\" points=\"\n  136.76,269.008 163.352,269.008 \n  \"/>\n<path clip-path=\"url(#clip820)\" d=\"M 0 0 M53.9319 1368.54 L61.5708 1368.54 L61.5708 1342.18 L53.2606 1343.85 L53.2606 1339.59 L61.5245 1337.92 L66.2004 1337.92 L66.2004 1368.54 L73.8392 1368.54 L73.8392 1372.48 L53.9319 1372.48 L53.9319 1368.54 Z\" fill=\"#000000\" fill-rule=\"evenodd\" fill-opacity=\"1\" /><path clip-path=\"url(#clip820)\" d=\"M 0 0 M88.9086 1356.07 Q85.5753 1356.07 83.654 1357.85 Q81.7559 1359.63 81.7559 1362.76 Q81.7559 1365.88 83.654 1367.66 Q85.5753 1369.45 88.9086 1369.45 Q92.2419 1369.45 94.1632 1367.66 Q96.0845 1365.86 96.0845 1362.76 Q96.0845 1359.63 94.1632 1357.85 Q92.2651 1356.07 88.9086 1356.07 M84.2327 1354.08 Q81.2234 1353.34 79.5336 1351.28 Q77.867 1349.22 77.867 1346.25 Q77.867 1342.11 80.8068 1339.7 Q83.7697 1337.29 88.9086 1337.29 Q94.0706 1337.29 97.0104 1339.7 Q99.9502 1342.11 99.9502 1346.25 Q99.9502 1349.22 98.2604 1351.28 Q96.5937 1353.34 93.6076 1354.08 Q96.9872 1354.86 98.8622 1357.16 Q100.76 1359.45 100.76 1362.76 Q100.76 1367.78 97.6817 1370.47 Q94.6262 1373.15 88.9086 1373.15 Q83.191 1373.15 80.1123 1370.47 Q77.0568 1367.78 77.0568 1362.76 Q77.0568 1359.45 78.9549 1357.16 Q80.8531 1354.86 84.2327 1354.08 M82.5197 1346.69 Q82.5197 1349.38 84.1864 1350.88 Q85.8762 1352.39 88.9086 1352.39 Q91.9178 1352.39 93.6076 1350.88 Q95.3206 1349.38 95.3206 1346.69 Q95.3206 1344.01 93.6076 1342.5 Q91.9178 1341 88.9086 1341 Q85.8762 1341 84.1864 1342.5 Q82.5197 1344.01 82.5197 1346.69 Z\" fill=\"#000000\" fill-rule=\"evenodd\" fill-opacity=\"1\" /><path clip-path=\"url(#clip820)\" d=\"M 0 0 M58.6541 1097 L74.9735 1097 L74.9735 1100.93 L53.0292 1100.93 L53.0292 1097 Q55.6912 1094.24 60.2745 1089.61 Q64.8809 1084.96 66.0615 1083.62 Q68.3068 1081.09 69.1865 1079.36 Q70.0892 1077.6 70.0892 1075.91 Q70.0892 1073.15 68.1448 1071.42 Q66.2235 1069.68 63.1217 1069.68 Q60.9226 1069.68 58.4689 1070.45 Q56.0384 1071.21 53.2606 1072.76 L53.2606 1068.04 Q56.0847 1066.9 58.5384 1066.33 Q60.9921 1065.75 63.0291 1065.75 Q68.3994 1065.75 71.5939 1068.43 Q74.7883 1071.12 74.7883 1075.61 Q74.7883 1077.74 73.9781 1079.66 Q73.1911 1081.56 71.0846 1084.15 Q70.5059 1084.82 67.4041 1088.04 Q64.3022 1091.23 58.6541 1097 Z\" fill=\"#000000\" fill-rule=\"evenodd\" fill-opacity=\"1\" /><path clip-path=\"url(#clip820)\" d=\"M 0 0 M80.8531 1097 L88.4919 1097 L88.4919 1070.63 L80.1818 1072.3 L80.1818 1068.04 L88.4456 1066.37 L93.1215 1066.37 L93.1215 1097 L100.76 1097 L100.76 1100.93 L80.8531 1100.93 L80.8531 1097 Z\" fill=\"#000000\" fill-rule=\"evenodd\" fill-opacity=\"1\" /><path clip-path=\"url(#clip820)\" d=\"M 0 0 M56.9412 825.449 L73.2605 825.449 L73.2605 829.384 L51.3162 829.384 L51.3162 825.449 Q53.9782 822.694 58.5615 818.065 Q63.168 813.412 64.3485 812.069 Q66.5939 809.546 67.4735 807.81 Q68.3763 806.051 68.3763 804.361 Q68.3763 801.606 66.4319 799.87 Q64.5106 798.134 61.4087 798.134 Q59.2097 798.134 56.756 798.898 Q54.3254 799.662 51.5477 801.213 L51.5477 796.491 Q54.3717 795.356 56.8254 794.778 Q59.2791 794.199 61.3161 794.199 Q66.6865 794.199 69.8809 796.884 Q73.0753 799.569 73.0753 804.06 Q73.0753 806.19 72.2652 808.111 Q71.4781 810.009 69.3717 812.602 Q68.793 813.273 65.6911 816.491 Q62.5893 819.685 56.9412 825.449 Z\" fill=\"#000000\" fill-rule=\"evenodd\" fill-opacity=\"1\" /><path clip-path=\"url(#clip820)\" d=\"M 0 0 M91.1771 798.898 L79.3716 817.347 L91.1771 817.347 L91.1771 798.898 M89.9503 794.824 L95.8298 794.824 L95.8298 817.347 L100.76 817.347 L100.76 821.236 L95.8298 821.236 L95.8298 829.384 L91.1771 829.384 L91.1771 821.236 L75.5753 821.236 L75.5753 816.722 L89.9503 794.824 Z\" fill=\"#000000\" fill-rule=\"evenodd\" fill-opacity=\"1\" /><path clip-path=\"url(#clip820)\" d=\"M 0 0 M58.33 553.901 L74.6494 553.901 L74.6494 557.836 L52.7051 557.836 L52.7051 553.901 Q55.3671 551.146 59.9504 546.517 Q64.5569 541.864 65.7374 540.521 Q67.9828 537.998 68.8624 536.262 Q69.7652 534.503 69.7652 532.813 Q69.7652 530.058 67.8207 528.322 Q65.8995 526.586 62.7976 526.586 Q60.5986 526.586 58.1449 527.35 Q55.7143 528.114 52.9366 529.665 L52.9366 524.943 Q55.7606 523.808 58.2143 523.23 Q60.668 522.651 62.705 522.651 Q68.0754 522.651 71.2698 525.336 Q74.4642 528.021 74.4642 532.512 Q74.4642 534.642 73.654 536.563 Q72.867 538.461 70.7605 541.054 Q70.1818 541.725 67.08 544.943 Q63.9782 548.137 58.33 553.901 Z\" fill=\"#000000\" fill-rule=\"evenodd\" fill-opacity=\"1\" /><path clip-path=\"url(#clip820)\" d=\"M 0 0 M78.5383 523.276 L100.76 523.276 L100.76 525.267 L88.2141 557.836 L83.3299 557.836 L95.1354 527.211 L78.5383 527.211 L78.5383 523.276 Z\" fill=\"#000000\" fill-rule=\"evenodd\" fill-opacity=\"1\" /><path clip-path=\"url(#clip820)\" d=\"M 0 0 M66.617 267.654 Q69.9735 268.372 71.8485 270.64 Q73.7466 272.909 73.7466 276.242 Q73.7466 281.358 70.2281 284.159 Q66.7096 286.959 60.2282 286.959 Q58.0523 286.959 55.7375 286.52 Q53.4458 286.103 50.9921 285.247 L50.9921 280.733 Q52.9366 281.867 55.2514 282.446 Q57.5662 283.024 60.0893 283.024 Q64.4874 283.024 66.7791 281.288 Q69.0939 279.552 69.0939 276.242 Q69.0939 273.186 66.9411 271.473 Q64.8115 269.737 60.9921 269.737 L56.9643 269.737 L56.9643 265.895 L61.1773 265.895 Q64.6263 265.895 66.455 264.529 Q68.2837 263.14 68.2837 260.548 Q68.2837 257.886 66.3856 256.474 Q64.5106 255.038 60.9921 255.038 Q59.0708 255.038 56.8717 255.455 Q54.6727 255.872 52.0338 256.751 L52.0338 252.585 Q54.6958 251.844 57.0106 251.474 Q59.3486 251.103 61.4087 251.103 Q66.7328 251.103 69.8346 253.534 Q72.9365 255.941 72.9365 260.061 Q72.9365 262.932 71.2929 264.923 Q69.6494 266.89 66.617 267.654 Z\" fill=\"#000000\" fill-rule=\"evenodd\" fill-opacity=\"1\" /><path clip-path=\"url(#clip820)\" d=\"M 0 0 M88.816 254.807 Q85.2049 254.807 83.3762 258.372 Q81.5707 261.913 81.5707 269.043 Q81.5707 276.149 83.3762 279.714 Q85.2049 283.256 88.816 283.256 Q92.4502 283.256 94.2558 279.714 Q96.0845 276.149 96.0845 269.043 Q96.0845 261.913 94.2558 258.372 Q92.4502 254.807 88.816 254.807 M88.816 251.103 Q94.6262 251.103 97.6817 255.71 Q100.76 260.293 100.76 269.043 Q100.76 277.77 97.6817 282.376 Q94.6262 286.959 88.816 286.959 Q83.0058 286.959 79.9272 282.376 Q76.8716 277.77 76.8716 269.043 Q76.8716 260.293 79.9272 255.71 Q83.0058 251.103 88.816 251.103 Z\" fill=\"#000000\" fill-rule=\"evenodd\" fill-opacity=\"1\" /><polyline clip-path=\"url(#clip822)\" style=\"stroke:#800080; stroke-width:4; stroke-opacity:1; fill:none\" points=\"\n  199.477,450.04 220.594,450.04 241.711,450.04 262.828,450.04 283.944,450.04 305.061,450.04 326.178,450.04 347.295,269.008 368.412,269.008 389.528,269.008 \n  410.645,87.9763 431.762,87.9763 452.879,87.9763 473.995,87.9763 495.112,87.9763 516.229,87.9763 537.346,87.9763 558.463,87.9763 579.579,87.9763 600.696,87.9763 \n  621.813,87.9763 642.93,87.9763 664.047,87.9763 685.163,178.492 706.28,178.492 727.397,178.492 748.514,178.492 769.63,178.492 790.747,178.492 811.864,178.492 \n  832.981,178.492 854.098,178.492 875.214,269.008 896.331,359.524 917.448,359.524 938.565,359.524 959.682,450.04 980.798,450.04 1001.92,450.04 1023.03,450.04 \n  1044.15,450.04 1065.27,450.04 1086.38,450.04 1107.5,540.556 1128.62,540.556 1149.73,540.556 1170.85,540.556 1191.97,540.556 1213.08,540.556 1234.2,540.556 \n  1255.32,540.556 1276.43,540.556 1297.55,540.556 1318.67,540.556 1339.78,540.556 1360.9,540.556 1382.02,540.556 1403.13,359.524 1424.25,359.524 1445.37,450.04 \n  1466.48,450.04 1487.6,450.04 1508.72,450.04 1529.83,450.04 1550.95,450.04 1572.07,540.556 1593.19,631.072 1614.3,631.072 1635.42,631.072 1656.54,631.072 \n  1677.65,631.072 1698.77,721.588 1719.89,721.588 1741,721.588 1762.12,721.588 1783.24,721.588 1804.35,721.588 1825.47,812.104 1846.59,812.104 1867.7,631.072 \n  1888.82,450.04 1909.94,269.008 1931.05,269.008 1952.17,269.008 1973.29,269.008 1994.4,269.008 2015.52,269.008 2036.64,269.008 2057.75,359.524 2078.87,178.492 \n  2099.99,178.492 2121.1,269.008 2142.22,269.008 2163.34,269.008 2184.46,269.008 2205.57,359.524 2226.69,359.524 2247.81,359.524 2268.92,450.04 2290.04,540.556 \n  \n  \"/>\n<polyline clip-path=\"url(#clip822)\" style=\"stroke:#008000; stroke-width:4; stroke-opacity:1; fill:none\" points=\"\n  199.477,359.524 220.594,631.072 241.711,540.556 262.828,450.04 283.944,450.04 305.061,721.588 326.178,902.62 347.295,902.62 368.412,1083.65 389.528,1083.65 \n  410.645,1083.65 431.762,1264.68 452.879,1264.68 473.995,1264.68 495.112,1174.17 516.229,1083.65 537.346,993.136 558.463,902.62 579.579,902.62 600.696,902.62 \n  621.813,902.62 642.93,902.62 664.047,902.62 685.163,812.104 706.28,993.136 727.397,902.62 748.514,902.62 769.63,902.62 790.747,902.62 811.864,1083.65 \n  832.981,993.136 854.098,993.136 875.214,902.62 896.331,812.104 917.448,812.104 938.565,812.104 959.682,721.588 980.798,631.072 1001.92,631.072 1023.03,812.104 \n  1044.15,721.588 1065.27,631.072 1086.38,540.556 1107.5,450.04 1128.62,631.072 1149.73,812.104 1170.85,721.588 1191.97,902.62 1213.08,902.62 1234.2,812.104 \n  1255.32,993.136 1276.43,902.62 1297.55,902.62 1318.67,812.104 1339.78,993.136 1360.9,1174.17 1382.02,1355.2 1403.13,1355.2 1424.25,1355.2 1445.37,1264.68 \n  1466.48,1445.72 1487.6,1445.72 1508.72,1355.2 1529.83,1355.2 1550.95,1264.68 1572.07,1174.17 1593.19,1083.65 1614.3,1083.65 1635.42,1083.65 1656.54,1083.65 \n  1677.65,993.136 1698.77,902.62 1719.89,902.62 1741,902.62 1762.12,902.62 1783.24,812.104 1804.35,812.104 1825.47,721.588 1846.59,902.62 1867.7,902.62 \n  1888.82,902.62 1909.94,902.62 1931.05,902.62 1952.17,902.62 1973.29,902.62 1994.4,812.104 2015.52,721.588 2036.64,902.62 2057.75,812.104 2078.87,812.104 \n  2099.99,721.588 2121.1,631.072 2142.22,902.62 2163.34,812.104 2184.46,812.104 2205.57,721.588 2226.69,902.62 2247.81,812.104 2268.92,721.588 2290.04,631.072 \n  \n  \"/>\n<path clip-path=\"url(#clip820)\" d=\"\nM1826.65 276.658 L2278.89 276.658 L2278.89 95.2176 L1826.65 95.2176  Z\n  \" fill=\"#ffffff\" fill-rule=\"evenodd\" fill-opacity=\"1\"/>\n<polyline clip-path=\"url(#clip820)\" style=\"stroke:#000000; stroke-width:4; stroke-opacity:1; fill:none\" points=\"\n  1826.65,276.658 2278.89,276.658 2278.89,95.2176 1826.65,95.2176 1826.65,276.658 \n  \"/>\n<polyline clip-path=\"url(#clip820)\" style=\"stroke:#800080; stroke-width:4; stroke-opacity:1; fill:none\" points=\"\n  1851.27,155.698 1999.01,155.698 \n  \"/>\n<path clip-path=\"url(#clip820)\" d=\"M 0 0 M2042.54 159.714 Q2042.54 155.084 2040.62 152.538 Q2038.72 149.992 2035.27 149.992 Q2031.85 149.992 2029.92 152.538 Q2028.03 155.084 2028.03 159.714 Q2028.03 164.32 2029.92 166.866 Q2031.85 169.413 2035.27 169.413 Q2038.72 169.413 2040.62 166.866 Q2042.54 164.32 2042.54 159.714 M2046.8 169.76 Q2046.8 176.38 2043.86 179.598 Q2040.92 182.839 2034.85 182.839 Q2032.61 182.839 2030.62 182.491 Q2028.63 182.167 2026.75 181.473 L2026.75 177.329 Q2028.63 178.348 2030.46 178.834 Q2032.28 179.32 2034.18 179.32 Q2038.37 179.32 2040.46 177.121 Q2042.54 174.945 2042.54 170.524 L2042.54 168.417 Q2041.22 170.709 2039.16 171.843 Q2037.1 172.978 2034.23 172.978 Q2029.46 172.978 2026.54 169.343 Q2023.63 165.709 2023.63 159.714 Q2023.63 153.695 2026.54 150.061 Q2029.46 146.427 2034.23 146.427 Q2037.1 146.427 2039.16 147.561 Q2041.22 148.695 2042.54 150.987 L2042.54 147.052 L2046.8 147.052 L2046.8 169.76 Z\" fill=\"#000000\" fill-rule=\"evenodd\" fill-opacity=\"1\" /><path clip-path=\"url(#clip820)\" d=\"M 0 0 M2061.31 150.038 Q2057.89 150.038 2055.9 152.723 Q2053.91 155.385 2053.91 160.038 Q2053.91 164.691 2055.87 167.376 Q2057.86 170.038 2061.31 170.038 Q2064.72 170.038 2066.71 167.353 Q2068.7 164.667 2068.7 160.038 Q2068.7 155.431 2066.71 152.746 Q2064.72 150.038 2061.31 150.038 M2061.31 146.427 Q2066.87 146.427 2070.04 150.038 Q2073.21 153.649 2073.21 160.038 Q2073.21 166.404 2070.04 170.038 Q2066.87 173.649 2061.31 173.649 Q2055.73 173.649 2052.56 170.038 Q2049.41 166.404 2049.41 160.038 Q2049.41 153.649 2052.56 150.038 Q2055.73 146.427 2061.31 146.427 Z\" fill=\"#000000\" fill-rule=\"evenodd\" fill-opacity=\"1\" /><path clip-path=\"url(#clip820)\" d=\"M 0 0 M2077.82 136.959 L2082.08 136.959 L2082.08 150.894 L2084.97 148.811 L2086.73 151.265 L2082.08 154.529 L2082.08 172.978 L2077.82 172.978 L2077.82 157.561 L2074.97 159.598 L2073.26 157.144 L2077.82 153.88 L2077.82 136.959 Z\" fill=\"#000000\" fill-rule=\"evenodd\" fill-opacity=\"1\" /><path clip-path=\"url(#clip820)\" d=\"M 0 0 M2113.37 158.95 L2113.37 161.033 L2093.79 161.033 Q2094.07 165.431 2096.43 167.746 Q2098.81 170.038 2103.05 170.038 Q2105.5 170.038 2107.79 169.436 Q2110.11 168.834 2112.38 167.63 L2112.38 171.658 Q2110.09 172.63 2107.68 173.14 Q2105.27 173.649 2102.79 173.649 Q2096.59 173.649 2092.96 170.038 Q2089.34 166.427 2089.34 160.269 Q2089.34 153.904 2092.77 150.177 Q2096.22 146.427 2102.05 146.427 Q2107.28 146.427 2110.32 149.806 Q2113.37 153.163 2113.37 158.95 M2109.11 157.7 Q2109.07 154.205 2107.15 152.121 Q2105.25 150.038 2102.1 150.038 Q2098.53 150.038 2096.38 152.052 Q2094.25 154.066 2093.93 157.723 L2109.11 157.7 M2105.62 172.978 L2108.37 172.978 Q2107.33 174.39 2106.82 175.408 Q2106.34 176.427 2106.34 177.144 Q2106.34 178.209 2106.96 178.741 Q2107.61 179.274 2108.86 179.274 Q2109.6 179.274 2110.32 179.089 Q2111.03 178.927 2111.75 178.579 L2111.75 181.658 Q2110.87 181.89 2110.09 182.005 Q2109.3 182.121 2108.6 182.121 Q2105.78 182.121 2104.44 181.103 Q2103.12 180.107 2103.12 177.954 Q2103.12 176.843 2103.72 175.616 Q2104.34 174.413 2105.62 172.978 Z\" fill=\"#000000\" fill-rule=\"evenodd\" fill-opacity=\"1\" /><path clip-path=\"url(#clip820)\" d=\"M 0 0 M2136.45 160.038 Q2136.45 155.339 2134.51 152.677 Q2132.59 149.992 2129.21 149.992 Q2125.83 149.992 2123.88 152.677 Q2121.96 155.339 2121.96 160.038 Q2121.96 164.737 2123.88 167.422 Q2125.83 170.084 2129.21 170.084 Q2132.59 170.084 2134.51 167.422 Q2136.45 164.737 2136.45 160.038 M2121.96 150.987 Q2123.3 148.672 2125.34 147.561 Q2127.4 146.427 2130.25 146.427 Q2134.97 146.427 2137.91 150.177 Q2140.87 153.927 2140.87 160.038 Q2140.87 166.149 2137.91 169.899 Q2134.97 173.649 2130.25 173.649 Q2127.4 173.649 2125.34 172.538 Q2123.3 171.403 2121.96 169.089 L2121.96 172.978 L2117.68 172.978 L2117.68 136.959 L2121.96 136.959 L2121.96 150.987 Z\" fill=\"#000000\" fill-rule=\"evenodd\" fill-opacity=\"1\" /><path clip-path=\"url(#clip820)\" d=\"M 0 0 M2145.34 147.052 L2149.6 147.052 L2149.6 172.978 L2145.34 172.978 L2145.34 147.052 M2145.34 136.959 L2149.6 136.959 L2149.6 142.353 L2145.34 142.353 L2145.34 136.959 Z\" fill=\"#000000\" fill-rule=\"evenodd\" fill-opacity=\"1\" /><path clip-path=\"url(#clip820)\" d=\"M 0 0 M2176.24 158.95 L2176.24 161.033 L2156.66 161.033 Q2156.94 165.431 2159.3 167.746 Q2161.68 170.038 2165.92 170.038 Q2168.37 170.038 2170.66 169.436 Q2172.98 168.834 2175.25 167.63 L2175.25 171.658 Q2172.96 172.63 2170.55 173.14 Q2168.14 173.649 2165.66 173.649 Q2159.46 173.649 2155.83 170.038 Q2152.21 166.427 2152.21 160.269 Q2152.21 153.904 2155.64 150.177 Q2159.09 146.427 2164.92 146.427 Q2170.15 146.427 2173.19 149.806 Q2176.24 153.163 2176.24 158.95 M2171.98 157.7 Q2171.94 154.205 2170.02 152.121 Q2168.12 150.038 2164.97 150.038 Q2161.4 150.038 2159.25 152.052 Q2157.12 154.066 2156.8 157.723 L2171.98 157.7 Z\" fill=\"#000000\" fill-rule=\"evenodd\" fill-opacity=\"1\" /><polyline clip-path=\"url(#clip820)\" style=\"stroke:#008000; stroke-width:4; stroke-opacity:1; fill:none\" points=\"\n  1851.27,216.178 1999.01,216.178 \n  \"/>\n<path clip-path=\"url(#clip820)\" d=\"M 0 0 M2028.95 207.532 L2033.21 207.532 L2033.21 233.921 Q2033.21 238.874 2031.31 241.096 Q2029.44 243.319 2025.25 243.319 L2023.63 243.319 L2023.63 239.708 L2024.76 239.708 Q2027.19 239.708 2028.07 238.573 Q2028.95 237.462 2028.95 233.921 L2028.95 207.532 M2028.95 197.439 L2033.21 197.439 L2033.21 202.833 L2028.95 202.833 L2028.95 197.439 Z\" fill=\"#000000\" fill-rule=\"evenodd\" fill-opacity=\"1\" /><path clip-path=\"url(#clip820)\" d=\"M 0 0 M2049.46 220.425 Q2044.3 220.425 2042.31 221.606 Q2040.32 222.786 2040.32 225.634 Q2040.32 227.902 2041.8 229.245 Q2043.3 230.564 2045.87 230.564 Q2049.41 230.564 2051.54 228.064 Q2053.7 225.541 2053.7 221.374 L2053.7 220.425 L2049.46 220.425 M2057.96 218.666 L2057.96 233.458 L2053.7 233.458 L2053.7 229.522 Q2052.24 231.883 2050.06 233.018 Q2047.89 234.129 2044.74 234.129 Q2040.76 234.129 2038.4 231.907 Q2036.06 229.661 2036.06 225.911 Q2036.06 221.536 2038.97 219.314 Q2041.91 217.092 2047.72 217.092 L2053.7 217.092 L2053.7 216.675 Q2053.7 213.735 2051.75 212.138 Q2049.83 210.518 2046.34 210.518 Q2044.11 210.518 2042.01 211.05 Q2039.9 211.583 2037.96 212.647 L2037.96 208.712 Q2040.29 207.81 2042.49 207.37 Q2044.69 206.907 2046.78 206.907 Q2052.4 206.907 2055.18 209.823 Q2057.96 212.74 2057.96 218.666 Z\" fill=\"#000000\" fill-rule=\"evenodd\" fill-opacity=\"1\" /><path clip-path=\"url(#clip820)\" d=\"M 0 0 M2078.95 208.296 L2078.95 212.323 Q2077.15 211.397 2075.2 210.935 Q2073.26 210.472 2071.17 210.472 Q2068 210.472 2066.41 211.444 Q2064.83 212.416 2064.83 214.36 Q2064.83 215.842 2065.97 216.698 Q2067.1 217.532 2070.53 218.296 L2071.98 218.62 Q2076.52 219.592 2078.42 221.374 Q2080.34 223.134 2080.34 226.305 Q2080.34 229.916 2077.47 232.022 Q2074.62 234.129 2069.62 234.129 Q2067.54 234.129 2065.27 233.712 Q2063.03 233.319 2060.53 232.508 L2060.53 228.11 Q2062.89 229.337 2065.18 229.962 Q2067.47 230.564 2069.72 230.564 Q2072.72 230.564 2074.34 229.546 Q2075.97 228.504 2075.97 226.629 Q2075.97 224.893 2074.78 223.967 Q2073.63 223.041 2069.67 222.184 L2068.19 221.837 Q2064.23 221.004 2062.47 219.291 Q2060.71 217.555 2060.71 214.546 Q2060.71 210.888 2063.3 208.898 Q2065.9 206.907 2070.66 206.907 Q2073.03 206.907 2075.11 207.254 Q2077.19 207.601 2078.95 208.296 Z\" fill=\"#000000\" fill-rule=\"evenodd\" fill-opacity=\"1\" /><path clip-path=\"url(#clip820)\" d=\"M 0 0 M2089.02 200.171 L2089.02 207.532 L2097.79 207.532 L2097.79 210.842 L2089.02 210.842 L2089.02 224.916 Q2089.02 228.087 2089.88 228.99 Q2090.76 229.893 2093.42 229.893 L2097.79 229.893 L2097.79 233.458 L2093.42 233.458 Q2088.49 233.458 2086.61 231.629 Q2084.74 229.777 2084.74 224.916 L2084.74 210.842 L2081.61 210.842 L2081.61 207.532 L2084.74 207.532 L2084.74 200.171 L2089.02 200.171 Z\" fill=\"#000000\" fill-rule=\"evenodd\" fill-opacity=\"1\" /><path clip-path=\"url(#clip820)\" d=\"M 0 0 M2117.28 211.513 Q2116.57 211.097 2115.71 210.911 Q2114.88 210.703 2113.86 210.703 Q2110.25 210.703 2108.3 213.064 Q2106.38 215.402 2106.38 219.8 L2106.38 233.458 L2102.1 233.458 L2102.1 207.532 L2106.38 207.532 L2106.38 211.56 Q2107.72 209.198 2109.88 208.064 Q2112.03 206.907 2115.11 206.907 Q2115.55 206.907 2116.08 206.976 Q2116.61 207.023 2117.26 207.138 L2117.28 211.513 Z\" fill=\"#000000\" fill-rule=\"evenodd\" fill-opacity=\"1\" /><path clip-path=\"url(#clip820)\" d=\"M 0 0 M2119.9 207.532 L2140.13 207.532 L2140.13 211.421 L2124.11 230.055 L2140.13 230.055 L2140.13 233.458 L2119.32 233.458 L2119.32 229.569 L2135.34 210.935 L2119.9 210.935 L2119.9 207.532 Z\" fill=\"#000000\" fill-rule=\"evenodd\" fill-opacity=\"1\" /><path clip-path=\"url(#clip820)\" d=\"M 0 0 M2166.78 219.43 L2166.78 221.513 L2147.19 221.513 Q2147.47 225.911 2149.83 228.226 Q2152.21 230.518 2156.45 230.518 Q2158.9 230.518 2161.2 229.916 Q2163.51 229.314 2165.78 228.11 L2165.78 232.138 Q2163.49 233.11 2161.08 233.62 Q2158.67 234.129 2156.2 234.129 Q2149.99 234.129 2146.36 230.518 Q2142.75 226.907 2142.75 220.749 Q2142.75 214.384 2146.17 210.657 Q2149.62 206.907 2155.46 206.907 Q2160.69 206.907 2163.72 210.286 Q2166.78 213.643 2166.78 219.43 M2162.52 218.18 Q2162.47 214.685 2160.55 212.601 Q2158.65 210.518 2155.5 210.518 Q2151.94 210.518 2149.78 212.532 Q2147.65 214.546 2147.33 218.203 L2162.52 218.18 M2159.02 233.458 L2161.78 233.458 Q2160.73 234.87 2160.22 235.888 Q2159.74 236.907 2159.74 237.624 Q2159.74 238.689 2160.36 239.221 Q2161.01 239.754 2162.26 239.754 Q2163 239.754 2163.72 239.569 Q2164.44 239.407 2165.15 239.059 L2165.15 242.138 Q2164.28 242.37 2163.49 242.485 Q2162.7 242.601 2162.01 242.601 Q2159.18 242.601 2157.84 241.583 Q2156.52 240.587 2156.52 238.434 Q2156.52 237.323 2157.12 236.096 Q2157.75 234.893 2159.02 233.458 Z\" fill=\"#000000\" fill-rule=\"evenodd\" fill-opacity=\"1\" /><path clip-path=\"url(#clip820)\" d=\"M 0 0 M2189.85 220.518 Q2189.85 215.819 2187.91 213.157 Q2185.99 210.472 2182.61 210.472 Q2179.23 210.472 2177.28 213.157 Q2175.36 215.819 2175.36 220.518 Q2175.36 225.217 2177.28 227.902 Q2179.23 230.564 2182.61 230.564 Q2185.99 230.564 2187.91 227.902 Q2189.85 225.217 2189.85 220.518 M2175.36 211.467 Q2176.71 209.152 2178.74 208.041 Q2180.8 206.907 2183.65 206.907 Q2188.37 206.907 2191.31 210.657 Q2194.27 214.407 2194.27 220.518 Q2194.27 226.629 2191.31 230.379 Q2188.37 234.129 2183.65 234.129 Q2180.8 234.129 2178.74 233.018 Q2176.71 231.883 2175.36 229.569 L2175.36 233.458 L2171.08 233.458 L2171.08 197.439 L2175.36 197.439 L2175.36 211.467 Z\" fill=\"#000000\" fill-rule=\"evenodd\" fill-opacity=\"1\" /><path clip-path=\"url(#clip820)\" d=\"M 0 0 M2198.74 207.532 L2203 207.532 L2203 233.458 L2198.74 233.458 L2198.74 207.532 M2198.74 197.439 L2203 197.439 L2203 202.833 L2198.74 202.833 L2198.74 197.439 Z\" fill=\"#000000\" fill-rule=\"evenodd\" fill-opacity=\"1\" /><path clip-path=\"url(#clip820)\" d=\"M 0 0 M2229.65 219.43 L2229.65 221.513 L2210.06 221.513 Q2210.34 225.911 2212.7 228.226 Q2215.08 230.518 2219.32 230.518 Q2221.77 230.518 2224.07 229.916 Q2226.38 229.314 2228.65 228.11 L2228.65 232.138 Q2226.36 233.11 2223.95 233.62 Q2221.54 234.129 2219.07 234.129 Q2212.86 234.129 2209.23 230.518 Q2205.62 226.907 2205.62 220.749 Q2205.62 214.384 2209.04 210.657 Q2212.49 206.907 2218.33 206.907 Q2223.56 206.907 2226.59 210.286 Q2229.65 213.643 2229.65 219.43 M2225.39 218.18 Q2225.34 214.685 2223.42 212.601 Q2221.52 210.518 2218.37 210.518 Q2214.81 210.518 2212.65 212.532 Q2210.52 214.546 2210.2 218.203 L2225.39 218.18 Z\" fill=\"#000000\" fill-rule=\"evenodd\" fill-opacity=\"1\" /></svg>\n"
     },
     "metadata": {},
     "execution_count": 16
    }
   ],
   "source": [
    "plot(1:size(A)[1], A[:, 1], label=\"gołębie\", color= :purple)\n",
    "plot!(1:size(A)[1], A[:, 2], label=\"jastrzębie\", color= :green)"
   ]
  },
  {
   "cell_type": "code",
   "execution_count": 17,
   "metadata": {},
   "outputs": [
    {
     "output_type": "execute_result",
     "data": {
      "image/svg+xml": "<?xml version=\"1.0\" encoding=\"utf-8\"?>\n<svg xmlns=\"http://www.w3.org/2000/svg\" xmlns:xlink=\"http://www.w3.org/1999/xlink\" width=\"600\" height=\"400\" viewBox=\"0 0 2400 1600\">\n<defs>\n  <clipPath id=\"clip860\">\n    <rect x=\"0\" y=\"0\" width=\"2400\" height=\"1600\"/>\n  </clipPath>\n</defs>\n<path clip-path=\"url(#clip860)\" d=\"\nM0 1600 L2400 1600 L2400 0 L0 0  Z\n  \" fill=\"#ffffff\" fill-rule=\"evenodd\" fill-opacity=\"1\"/>\n<defs>\n  <clipPath id=\"clip861\">\n    <rect x=\"480\" y=\"0\" width=\"1681\" height=\"1600\"/>\n  </clipPath>\n</defs>\n<path clip-path=\"url(#clip860)\" d=\"\nM173.728 1486.45 L2352.76 1486.45 L2352.76 47.2441 L173.728 47.2441  Z\n  \" fill=\"#ffffff\" fill-rule=\"evenodd\" fill-opacity=\"1\"/>\n<defs>\n  <clipPath id=\"clip862\">\n    <rect x=\"173\" y=\"47\" width=\"2180\" height=\"1440\"/>\n  </clipPath>\n</defs>\n<polyline clip-path=\"url(#clip862)\" style=\"stroke:#000000; stroke-width:2; stroke-opacity:0.1; fill:none\" points=\"\n  214.634,1486.45 214.634,47.2441 \n  \"/>\n<polyline clip-path=\"url(#clip862)\" style=\"stroke:#000000; stroke-width:2; stroke-opacity:0.1; fill:none\" points=\"\n  733.747,1486.45 733.747,47.2441 \n  \"/>\n<polyline clip-path=\"url(#clip862)\" style=\"stroke:#000000; stroke-width:2; stroke-opacity:0.1; fill:none\" points=\"\n  1252.86,1486.45 1252.86,47.2441 \n  \"/>\n<polyline clip-path=\"url(#clip862)\" style=\"stroke:#000000; stroke-width:2; stroke-opacity:0.1; fill:none\" points=\"\n  1771.97,1486.45 1771.97,47.2441 \n  \"/>\n<polyline clip-path=\"url(#clip862)\" style=\"stroke:#000000; stroke-width:2; stroke-opacity:0.1; fill:none\" points=\"\n  2291.09,1486.45 2291.09,47.2441 \n  \"/>\n<polyline clip-path=\"url(#clip860)\" style=\"stroke:#000000; stroke-width:4; stroke-opacity:1; fill:none\" points=\"\n  173.728,1486.45 2352.76,1486.45 \n  \"/>\n<polyline clip-path=\"url(#clip860)\" style=\"stroke:#000000; stroke-width:4; stroke-opacity:1; fill:none\" points=\"\n  214.634,1486.45 214.634,1469.18 \n  \"/>\n<polyline clip-path=\"url(#clip860)\" style=\"stroke:#000000; stroke-width:4; stroke-opacity:1; fill:none\" points=\"\n  733.747,1486.45 733.747,1469.18 \n  \"/>\n<polyline clip-path=\"url(#clip860)\" style=\"stroke:#000000; stroke-width:4; stroke-opacity:1; fill:none\" points=\"\n  1252.86,1486.45 1252.86,1469.18 \n  \"/>\n<polyline clip-path=\"url(#clip860)\" style=\"stroke:#000000; stroke-width:4; stroke-opacity:1; fill:none\" points=\"\n  1771.97,1486.45 1771.97,1469.18 \n  \"/>\n<polyline clip-path=\"url(#clip860)\" style=\"stroke:#000000; stroke-width:4; stroke-opacity:1; fill:none\" points=\"\n  2291.09,1486.45 2291.09,1469.18 \n  \"/>\n<path clip-path=\"url(#clip860)\" d=\"M 0 0 M214.634 1515.64 Q211.023 1515.64 209.194 1519.2 Q207.389 1522.75 207.389 1529.87 Q207.389 1536.98 209.194 1540.55 Q211.023 1544.09 214.634 1544.09 Q218.268 1544.09 220.074 1540.55 Q221.902 1536.98 221.902 1529.87 Q221.902 1522.75 220.074 1519.2 Q218.268 1515.64 214.634 1515.64 M214.634 1511.93 Q220.444 1511.93 223.5 1516.54 Q226.578 1521.12 226.578 1529.87 Q226.578 1538.6 223.5 1543.21 Q220.444 1547.79 214.634 1547.79 Q208.824 1547.79 205.745 1543.21 Q202.689 1538.6 202.689 1529.87 Q202.689 1521.12 205.745 1516.54 Q208.824 1511.93 214.634 1511.93 Z\" fill=\"#000000\" fill-rule=\"evenodd\" fill-opacity=\"1\" /><path clip-path=\"url(#clip860)\" d=\"M 0 0 M715.39 1543.18 L731.71 1543.18 L731.71 1547.12 L709.765 1547.12 L709.765 1543.18 Q712.427 1540.43 717.011 1535.8 Q721.617 1531.15 722.798 1529.81 Q725.043 1527.28 725.923 1525.55 Q726.825 1523.79 726.825 1522.1 Q726.825 1519.34 724.881 1517.61 Q722.96 1515.87 719.858 1515.87 Q717.659 1515.87 715.205 1516.63 Q712.775 1517.4 709.997 1518.95 L709.997 1514.23 Q712.821 1513.09 715.275 1512.51 Q717.728 1511.93 719.765 1511.93 Q725.136 1511.93 728.33 1514.62 Q731.525 1517.31 731.525 1521.8 Q731.525 1523.93 730.714 1525.85 Q729.927 1527.74 727.821 1530.34 Q727.242 1531.01 724.14 1534.23 Q721.038 1537.42 715.39 1543.18 Z\" fill=\"#000000\" fill-rule=\"evenodd\" fill-opacity=\"1\" /><path clip-path=\"url(#clip860)\" d=\"M 0 0 M736.825 1512.56 L755.182 1512.56 L755.182 1516.5 L741.108 1516.5 L741.108 1524.97 Q742.126 1524.62 743.145 1524.46 Q744.163 1524.27 745.182 1524.27 Q750.969 1524.27 754.348 1527.44 Q757.728 1530.62 757.728 1536.03 Q757.728 1541.61 754.256 1544.71 Q750.784 1547.79 744.464 1547.79 Q742.288 1547.79 740.02 1547.42 Q737.774 1547.05 735.367 1546.31 L735.367 1541.61 Q737.45 1542.74 739.673 1543.3 Q741.895 1543.86 744.372 1543.86 Q748.376 1543.86 750.714 1541.75 Q753.052 1539.64 753.052 1536.03 Q753.052 1532.42 750.714 1530.31 Q748.376 1528.21 744.372 1528.21 Q742.497 1528.21 740.622 1528.62 Q738.77 1529.04 736.825 1529.92 L736.825 1512.56 Z\" fill=\"#000000\" fill-rule=\"evenodd\" fill-opacity=\"1\" /><path clip-path=\"url(#clip860)\" d=\"M 0 0 M1229.63 1512.56 L1247.99 1512.56 L1247.99 1516.5 L1233.91 1516.5 L1233.91 1524.97 Q1234.93 1524.62 1235.95 1524.46 Q1236.97 1524.27 1237.99 1524.27 Q1243.77 1524.27 1247.15 1527.44 Q1250.53 1530.62 1250.53 1536.03 Q1250.53 1541.61 1247.06 1544.71 Q1243.59 1547.79 1237.27 1547.79 Q1235.09 1547.79 1232.82 1547.42 Q1230.58 1547.05 1228.17 1546.31 L1228.17 1541.61 Q1230.26 1542.74 1232.48 1543.3 Q1234.7 1543.86 1237.18 1543.86 Q1241.18 1543.86 1243.52 1541.75 Q1245.86 1539.64 1245.86 1536.03 Q1245.86 1532.42 1243.52 1530.31 Q1241.18 1528.21 1237.18 1528.21 Q1235.3 1528.21 1233.43 1528.62 Q1231.57 1529.04 1229.63 1529.92 L1229.63 1512.56 Z\" fill=\"#000000\" fill-rule=\"evenodd\" fill-opacity=\"1\" /><path clip-path=\"url(#clip860)\" d=\"M 0 0 M1265.6 1515.64 Q1261.99 1515.64 1260.16 1519.2 Q1258.36 1522.75 1258.36 1529.87 Q1258.36 1536.98 1260.16 1540.55 Q1261.99 1544.09 1265.6 1544.09 Q1269.24 1544.09 1271.04 1540.55 Q1272.87 1536.98 1272.87 1529.87 Q1272.87 1522.75 1271.04 1519.2 Q1269.24 1515.64 1265.6 1515.64 M1265.6 1511.93 Q1271.41 1511.93 1274.47 1516.54 Q1277.55 1521.12 1277.55 1529.87 Q1277.55 1538.6 1274.47 1543.21 Q1271.41 1547.79 1265.6 1547.79 Q1259.79 1547.79 1256.71 1543.21 Q1253.66 1538.6 1253.66 1529.87 Q1253.66 1521.12 1256.71 1516.54 Q1259.79 1511.93 1265.6 1511.93 Z\" fill=\"#000000\" fill-rule=\"evenodd\" fill-opacity=\"1\" /><path clip-path=\"url(#clip860)\" d=\"M 0 0 M1747.85 1512.56 L1770.07 1512.56 L1770.07 1514.55 L1757.53 1547.12 L1752.64 1547.12 L1764.45 1516.5 L1747.85 1516.5 L1747.85 1512.56 Z\" fill=\"#000000\" fill-rule=\"evenodd\" fill-opacity=\"1\" /><path clip-path=\"url(#clip860)\" d=\"M 0 0 M1775.19 1512.56 L1793.55 1512.56 L1793.55 1516.5 L1779.47 1516.5 L1779.47 1524.97 Q1780.49 1524.62 1781.51 1524.46 Q1782.53 1524.27 1783.55 1524.27 Q1789.33 1524.27 1792.71 1527.44 Q1796.09 1530.62 1796.09 1536.03 Q1796.09 1541.61 1792.62 1544.71 Q1789.15 1547.79 1782.83 1547.79 Q1780.65 1547.79 1778.38 1547.42 Q1776.14 1547.05 1773.73 1546.31 L1773.73 1541.61 Q1775.82 1542.74 1778.04 1543.3 Q1780.26 1543.86 1782.74 1543.86 Q1786.74 1543.86 1789.08 1541.75 Q1791.42 1539.64 1791.42 1536.03 Q1791.42 1532.42 1789.08 1530.31 Q1786.74 1528.21 1782.74 1528.21 Q1780.86 1528.21 1778.99 1528.62 Q1777.13 1529.04 1775.19 1529.92 L1775.19 1512.56 Z\" fill=\"#000000\" fill-rule=\"evenodd\" fill-opacity=\"1\" /><path clip-path=\"url(#clip860)\" d=\"M 0 0 M2254.45 1543.18 L2262.09 1543.18 L2262.09 1516.82 L2253.78 1518.49 L2253.78 1514.23 L2262.05 1512.56 L2266.72 1512.56 L2266.72 1543.18 L2274.36 1543.18 L2274.36 1547.12 L2254.45 1547.12 L2254.45 1543.18 Z\" fill=\"#000000\" fill-rule=\"evenodd\" fill-opacity=\"1\" /><path clip-path=\"url(#clip860)\" d=\"M 0 0 M2289.43 1515.64 Q2285.82 1515.64 2283.99 1519.2 Q2282.18 1522.75 2282.18 1529.87 Q2282.18 1536.98 2283.99 1540.55 Q2285.82 1544.09 2289.43 1544.09 Q2293.06 1544.09 2294.87 1540.55 Q2296.7 1536.98 2296.7 1529.87 Q2296.7 1522.75 2294.87 1519.2 Q2293.06 1515.64 2289.43 1515.64 M2289.43 1511.93 Q2295.24 1511.93 2298.3 1516.54 Q2301.37 1521.12 2301.37 1529.87 Q2301.37 1538.6 2298.3 1543.21 Q2295.24 1547.79 2289.43 1547.79 Q2283.62 1547.79 2280.54 1543.21 Q2277.49 1538.6 2277.49 1529.87 Q2277.49 1521.12 2280.54 1516.54 Q2283.62 1511.93 2289.43 1511.93 Z\" fill=\"#000000\" fill-rule=\"evenodd\" fill-opacity=\"1\" /><path clip-path=\"url(#clip860)\" d=\"M 0 0 M2316.44 1515.64 Q2312.83 1515.64 2311 1519.2 Q2309.2 1522.75 2309.2 1529.87 Q2309.2 1536.98 2311 1540.55 Q2312.83 1544.09 2316.44 1544.09 Q2320.08 1544.09 2321.88 1540.55 Q2323.71 1536.98 2323.71 1529.87 Q2323.71 1522.75 2321.88 1519.2 Q2320.08 1515.64 2316.44 1515.64 M2316.44 1511.93 Q2322.25 1511.93 2325.31 1516.54 Q2328.39 1521.12 2328.39 1529.87 Q2328.39 1538.6 2325.31 1543.21 Q2322.25 1547.79 2316.44 1547.79 Q2310.63 1547.79 2307.56 1543.21 Q2304.5 1538.6 2304.5 1529.87 Q2304.5 1521.12 2307.56 1516.54 Q2310.63 1511.93 2316.44 1511.93 Z\" fill=\"#000000\" fill-rule=\"evenodd\" fill-opacity=\"1\" /><polyline clip-path=\"url(#clip862)\" style=\"stroke:#000000; stroke-width:2; stroke-opacity:0.1; fill:none\" points=\"\n  173.728,1332.57 2352.76,1332.57 \n  \"/>\n<polyline clip-path=\"url(#clip862)\" style=\"stroke:#000000; stroke-width:2; stroke-opacity:0.1; fill:none\" points=\"\n  173.728,1049.71 2352.76,1049.71 \n  \"/>\n<polyline clip-path=\"url(#clip862)\" style=\"stroke:#000000; stroke-width:2; stroke-opacity:0.1; fill:none\" points=\"\n  173.728,766.846 2352.76,766.846 \n  \"/>\n<polyline clip-path=\"url(#clip862)\" style=\"stroke:#000000; stroke-width:2; stroke-opacity:0.1; fill:none\" points=\"\n  173.728,483.984 2352.76,483.984 \n  \"/>\n<polyline clip-path=\"url(#clip862)\" style=\"stroke:#000000; stroke-width:2; stroke-opacity:0.1; fill:none\" points=\"\n  173.728,201.121 2352.76,201.121 \n  \"/>\n<polyline clip-path=\"url(#clip860)\" style=\"stroke:#000000; stroke-width:4; stroke-opacity:1; fill:none\" points=\"\n  173.728,1486.45 173.728,47.2441 \n  \"/>\n<polyline clip-path=\"url(#clip860)\" style=\"stroke:#000000; stroke-width:4; stroke-opacity:1; fill:none\" points=\"\n  173.728,1332.57 199.876,1332.57 \n  \"/>\n<polyline clip-path=\"url(#clip860)\" style=\"stroke:#000000; stroke-width:4; stroke-opacity:1; fill:none\" points=\"\n  173.728,1049.71 199.876,1049.71 \n  \"/>\n<polyline clip-path=\"url(#clip860)\" style=\"stroke:#000000; stroke-width:4; stroke-opacity:1; fill:none\" points=\"\n  173.728,766.846 199.876,766.846 \n  \"/>\n<polyline clip-path=\"url(#clip860)\" style=\"stroke:#000000; stroke-width:4; stroke-opacity:1; fill:none\" points=\"\n  173.728,483.984 199.876,483.984 \n  \"/>\n<polyline clip-path=\"url(#clip860)\" style=\"stroke:#000000; stroke-width:4; stroke-opacity:1; fill:none\" points=\"\n  173.728,201.121 199.876,201.121 \n  \"/>\n<path clip-path=\"url(#clip860)\" d=\"M 0 0 M57.4273 1345.92 L73.7466 1345.92 L73.7466 1349.85 L51.8023 1349.85 L51.8023 1345.92 Q54.4643 1343.16 59.0476 1338.53 Q63.6541 1333.88 64.8346 1332.54 Q67.08 1330.01 67.9596 1328.28 Q68.8624 1326.52 68.8624 1324.83 Q68.8624 1322.07 66.918 1320.34 Q64.9967 1318.6 61.8948 1318.6 Q59.6958 1318.6 57.2421 1319.36 Q54.8115 1320.13 52.0338 1321.68 L52.0338 1316.96 Q54.8578 1315.82 57.3115 1315.24 Q59.7652 1314.67 61.8023 1314.67 Q67.1726 1314.67 70.367 1317.35 Q73.5614 1320.04 73.5614 1324.53 Q73.5614 1326.66 72.7513 1328.58 Q71.9642 1330.48 69.8578 1333.07 Q69.2791 1333.74 66.1772 1336.96 Q63.0754 1340.15 57.4273 1345.92 Z\" fill=\"#000000\" fill-rule=\"evenodd\" fill-opacity=\"1\" /><path clip-path=\"url(#clip860)\" d=\"M 0 0 M88.816 1318.37 Q85.2049 1318.37 83.3762 1321.93 Q81.5707 1325.48 81.5707 1332.61 Q81.5707 1339.71 83.3762 1343.28 Q85.2049 1346.82 88.816 1346.82 Q92.4502 1346.82 94.2558 1343.28 Q96.0845 1339.71 96.0845 1332.61 Q96.0845 1325.48 94.2558 1321.93 Q92.4502 1318.37 88.816 1318.37 M88.816 1314.67 Q94.6262 1314.67 97.6817 1319.27 Q100.76 1323.86 100.76 1332.61 Q100.76 1341.33 97.6817 1345.94 Q94.6262 1350.52 88.816 1350.52 Q83.0058 1350.52 79.9272 1345.94 Q76.8716 1341.33 76.8716 1332.61 Q76.8716 1323.86 79.9272 1319.27 Q83.0058 1314.67 88.816 1314.67 Z\" fill=\"#000000\" fill-rule=\"evenodd\" fill-opacity=\"1\" /><path clip-path=\"url(#clip860)\" d=\"M 0 0 M105.83 1343.97 L110.714 1343.97 L110.714 1349.85 L105.83 1349.85 L105.83 1343.97 Z\" fill=\"#000000\" fill-rule=\"evenodd\" fill-opacity=\"1\" /><path clip-path=\"url(#clip860)\" d=\"M 0 0 M125.783 1318.37 Q122.172 1318.37 120.344 1321.93 Q118.538 1325.48 118.538 1332.61 Q118.538 1339.71 120.344 1343.28 Q122.172 1346.82 125.783 1346.82 Q129.418 1346.82 131.223 1343.28 Q133.052 1339.71 133.052 1332.61 Q133.052 1325.48 131.223 1321.93 Q129.418 1318.37 125.783 1318.37 M125.783 1314.67 Q131.594 1314.67 134.649 1319.27 Q137.728 1323.86 137.728 1332.61 Q137.728 1341.33 134.649 1345.94 Q131.594 1350.52 125.783 1350.52 Q119.973 1350.52 116.895 1345.94 Q113.839 1341.33 113.839 1332.61 Q113.839 1323.86 116.895 1319.27 Q119.973 1314.67 125.783 1314.67 Z\" fill=\"#000000\" fill-rule=\"evenodd\" fill-opacity=\"1\" /><path clip-path=\"url(#clip860)\" d=\"M 0 0 M60.0199 1063.05 L76.3392 1063.05 L76.3392 1066.99 L54.3949 1066.99 L54.3949 1063.05 Q57.0569 1060.3 61.6402 1055.67 Q66.2467 1051.02 67.4272 1049.67 Q69.6726 1047.15 70.5522 1045.41 Q71.455 1043.66 71.455 1041.97 Q71.455 1039.21 69.5105 1037.47 Q67.5893 1035.74 64.4874 1035.74 Q62.2884 1035.74 59.8347 1036.5 Q57.4041 1037.27 54.6264 1038.82 L54.6264 1034.1 Q57.4504 1032.96 59.9041 1032.38 Q62.3578 1031.8 64.3948 1031.8 Q69.7652 1031.8 72.9596 1034.49 Q76.154 1037.17 76.154 1041.66 Q76.154 1043.79 75.3438 1045.72 Q74.5568 1047.61 72.4503 1050.21 Q71.8716 1050.88 68.7698 1054.09 Q65.668 1057.29 60.0199 1063.05 Z\" fill=\"#000000\" fill-rule=\"evenodd\" fill-opacity=\"1\" /><path clip-path=\"url(#clip860)\" d=\"M 0 0 M85.4364 1063.05 L101.756 1063.05 L101.756 1066.99 L79.8114 1066.99 L79.8114 1063.05 Q82.4734 1060.3 87.0567 1055.67 Q91.6632 1051.02 92.8438 1049.67 Q95.0891 1047.15 95.9687 1045.41 Q96.8715 1043.66 96.8715 1041.97 Q96.8715 1039.21 94.9271 1037.47 Q93.0058 1035.74 89.904 1035.74 Q87.7049 1035.74 85.2512 1036.5 Q82.8207 1037.27 80.0429 1038.82 L80.0429 1034.1 Q82.867 1032.96 85.3206 1032.38 Q87.7743 1031.8 89.8114 1031.8 Q95.1817 1031.8 98.3761 1034.49 Q101.571 1037.17 101.571 1041.66 Q101.571 1043.79 100.76 1045.72 Q99.9733 1047.61 97.8669 1050.21 Q97.2882 1050.88 94.1863 1054.09 Q91.0845 1057.29 85.4364 1063.05 Z\" fill=\"#000000\" fill-rule=\"evenodd\" fill-opacity=\"1\" /><path clip-path=\"url(#clip860)\" d=\"M 0 0 M106.825 1061.11 L111.709 1061.11 L111.709 1066.99 L106.825 1066.99 L106.825 1061.11 Z\" fill=\"#000000\" fill-rule=\"evenodd\" fill-opacity=\"1\" /><path clip-path=\"url(#clip860)\" d=\"M 0 0 M116.825 1032.43 L135.181 1032.43 L135.181 1036.36 L121.107 1036.36 L121.107 1044.84 Q122.126 1044.49 123.145 1044.33 Q124.163 1044.14 125.182 1044.14 Q130.969 1044.14 134.348 1047.31 Q137.728 1050.48 137.728 1055.9 Q137.728 1061.48 134.256 1064.58 Q130.783 1067.66 124.464 1067.66 Q122.288 1067.66 120.02 1067.29 Q117.774 1066.92 115.367 1066.18 L115.367 1061.48 Q117.45 1062.61 119.672 1063.17 Q121.895 1063.72 124.371 1063.72 Q128.376 1063.72 130.714 1061.62 Q133.052 1059.51 133.052 1055.9 Q133.052 1052.29 130.714 1050.18 Q128.376 1048.08 124.371 1048.08 Q122.496 1048.08 120.621 1048.49 Q118.77 1048.91 116.825 1049.79 L116.825 1032.43 Z\" fill=\"#000000\" fill-rule=\"evenodd\" fill-opacity=\"1\" /><path clip-path=\"url(#clip860)\" d=\"M 0 0 M58.4226 780.191 L74.742 780.191 L74.742 784.126 L52.7977 784.126 L52.7977 780.191 Q55.4597 777.436 60.043 772.807 Q64.6495 768.154 65.83 766.811 Q68.0754 764.288 68.955 762.552 Q69.8578 760.793 69.8578 759.103 Q69.8578 756.348 67.9133 754.612 Q65.992 752.876 62.8902 752.876 Q60.6911 752.876 58.2375 753.64 Q55.8069 754.404 53.0292 755.955 L53.0292 751.233 Q55.8532 750.098 58.3069 749.52 Q60.7606 748.941 62.7976 748.941 Q68.168 748.941 71.3624 751.626 Q74.5568 754.311 74.5568 758.802 Q74.5568 760.932 73.7466 762.853 Q72.9596 764.751 70.8531 767.344 Q70.2744 768.015 67.1726 771.233 Q64.0708 774.427 58.4226 780.191 Z\" fill=\"#000000\" fill-rule=\"evenodd\" fill-opacity=\"1\" /><path clip-path=\"url(#clip860)\" d=\"M 0 0 M79.8577 749.566 L98.2141 749.566 L98.2141 753.501 L84.1401 753.501 L84.1401 761.973 Q85.1586 761.626 86.1771 761.464 Q87.1956 761.279 88.2141 761.279 Q94.0012 761.279 97.3808 764.45 Q100.76 767.621 100.76 773.038 Q100.76 778.617 97.2882 781.719 Q93.816 784.797 87.4966 784.797 Q85.3206 784.797 83.0521 784.427 Q80.8068 784.057 78.3994 783.316 L78.3994 778.617 Q80.4827 779.751 82.7049 780.307 Q84.9271 780.862 87.404 780.862 Q91.4086 780.862 93.7465 778.756 Q96.0845 776.649 96.0845 773.038 Q96.0845 769.427 93.7465 767.321 Q91.4086 765.214 87.404 765.214 Q85.529 765.214 83.654 765.631 Q81.8021 766.047 79.8577 766.927 L79.8577 749.566 Z\" fill=\"#000000\" fill-rule=\"evenodd\" fill-opacity=\"1\" /><path clip-path=\"url(#clip860)\" d=\"M 0 0 M105.83 778.246 L110.714 778.246 L110.714 784.126 L105.83 784.126 L105.83 778.246 Z\" fill=\"#000000\" fill-rule=\"evenodd\" fill-opacity=\"1\" /><path clip-path=\"url(#clip860)\" d=\"M 0 0 M125.783 752.645 Q122.172 752.645 120.344 756.209 Q118.538 759.751 118.538 766.881 Q118.538 773.987 120.344 777.552 Q122.172 781.094 125.783 781.094 Q129.418 781.094 131.223 777.552 Q133.052 773.987 133.052 766.881 Q133.052 759.751 131.223 756.209 Q129.418 752.645 125.783 752.645 M125.783 748.941 Q131.594 748.941 134.649 753.547 Q137.728 758.131 137.728 766.881 Q137.728 775.608 134.649 780.214 Q131.594 784.797 125.783 784.797 Q119.973 784.797 116.895 780.214 Q113.839 775.608 113.839 766.881 Q113.839 758.131 116.895 753.547 Q119.973 748.941 125.783 748.941 Z\" fill=\"#000000\" fill-rule=\"evenodd\" fill-opacity=\"1\" /><path clip-path=\"url(#clip860)\" d=\"M 0 0 M59.3254 497.328 L75.6448 497.328 L75.6448 501.264 L53.7004 501.264 L53.7004 497.328 Q56.3625 494.574 60.9458 489.944 Q65.5522 485.291 66.7328 483.949 Q68.9781 481.426 69.8578 479.69 Q70.7605 477.93 70.7605 476.241 Q70.7605 473.486 68.8161 471.75 Q66.8948 470.014 63.793 470.014 Q61.5939 470.014 59.1402 470.778 Q56.7097 471.542 53.9319 473.092 L53.9319 468.37 Q56.756 467.236 59.2097 466.657 Q61.6634 466.079 63.7004 466.079 Q69.0707 466.079 72.2652 468.764 Q75.4596 471.449 75.4596 475.94 Q75.4596 478.069 74.6494 479.991 Q73.8624 481.889 71.7559 484.481 Q71.1772 485.153 68.0754 488.37 Q64.9735 491.565 59.3254 497.328 Z\" fill=\"#000000\" fill-rule=\"evenodd\" fill-opacity=\"1\" /><path clip-path=\"url(#clip860)\" d=\"M 0 0 M79.5336 466.704 L101.756 466.704 L101.756 468.694 L89.2095 501.264 L84.3253 501.264 L96.1308 470.639 L79.5336 470.639 L79.5336 466.704 Z\" fill=\"#000000\" fill-rule=\"evenodd\" fill-opacity=\"1\" /><path clip-path=\"url(#clip860)\" d=\"M 0 0 M106.825 495.384 L111.709 495.384 L111.709 501.264 L106.825 501.264 L106.825 495.384 Z\" fill=\"#000000\" fill-rule=\"evenodd\" fill-opacity=\"1\" /><path clip-path=\"url(#clip860)\" d=\"M 0 0 M116.825 466.704 L135.181 466.704 L135.181 470.639 L121.107 470.639 L121.107 479.111 Q122.126 478.764 123.145 478.602 Q124.163 478.417 125.182 478.417 Q130.969 478.417 134.348 481.588 Q137.728 484.759 137.728 490.176 Q137.728 495.754 134.256 498.856 Q130.783 501.935 124.464 501.935 Q122.288 501.935 120.02 501.565 Q117.774 501.194 115.367 500.453 L115.367 495.754 Q117.45 496.889 119.672 497.444 Q121.895 498 124.371 498 Q128.376 498 130.714 495.893 Q133.052 493.787 133.052 490.176 Q133.052 486.565 130.714 484.458 Q128.376 482.352 124.371 482.352 Q122.496 482.352 120.621 482.768 Q118.77 483.185 116.825 484.065 L116.825 466.704 Z\" fill=\"#000000\" fill-rule=\"evenodd\" fill-opacity=\"1\" /><path clip-path=\"url(#clip860)\" d=\"M 0 0 M66.617 199.767 Q69.9735 200.485 71.8485 202.753 Q73.7466 205.022 73.7466 208.355 Q73.7466 213.471 70.2281 216.272 Q66.7096 219.073 60.2282 219.073 Q58.0523 219.073 55.7375 218.633 Q53.4458 218.216 50.9921 217.36 L50.9921 212.846 Q52.9366 213.98 55.2514 214.559 Q57.5662 215.137 60.0893 215.137 Q64.4874 215.137 66.7791 213.401 Q69.0939 211.665 69.0939 208.355 Q69.0939 205.299 66.9411 203.586 Q64.8115 201.85 60.9921 201.85 L56.9643 201.85 L56.9643 198.008 L61.1773 198.008 Q64.6263 198.008 66.455 196.642 Q68.2837 195.253 68.2837 192.661 Q68.2837 189.999 66.3856 188.587 Q64.5106 187.151 60.9921 187.151 Q59.0708 187.151 56.8717 187.568 Q54.6727 187.985 52.0338 188.864 L52.0338 184.698 Q54.6958 183.957 57.0106 183.587 Q59.3486 183.216 61.4087 183.216 Q66.7328 183.216 69.8346 185.647 Q72.9365 188.054 72.9365 192.175 Q72.9365 195.045 71.2929 197.036 Q69.6494 199.003 66.617 199.767 Z\" fill=\"#000000\" fill-rule=\"evenodd\" fill-opacity=\"1\" /><path clip-path=\"url(#clip860)\" d=\"M 0 0 M88.816 186.92 Q85.2049 186.92 83.3762 190.485 Q81.5707 194.026 81.5707 201.156 Q81.5707 208.262 83.3762 211.827 Q85.2049 215.369 88.816 215.369 Q92.4502 215.369 94.2558 211.827 Q96.0845 208.262 96.0845 201.156 Q96.0845 194.026 94.2558 190.485 Q92.4502 186.92 88.816 186.92 M88.816 183.216 Q94.6262 183.216 97.6817 187.823 Q100.76 192.406 100.76 201.156 Q100.76 209.883 97.6817 214.489 Q94.6262 219.073 88.816 219.073 Q83.0058 219.073 79.9272 214.489 Q76.8716 209.883 76.8716 201.156 Q76.8716 192.406 79.9272 187.823 Q83.0058 183.216 88.816 183.216 Z\" fill=\"#000000\" fill-rule=\"evenodd\" fill-opacity=\"1\" /><path clip-path=\"url(#clip860)\" d=\"M 0 0 M105.83 212.522 L110.714 212.522 L110.714 218.401 L105.83 218.401 L105.83 212.522 Z\" fill=\"#000000\" fill-rule=\"evenodd\" fill-opacity=\"1\" /><path clip-path=\"url(#clip860)\" d=\"M 0 0 M125.783 186.92 Q122.172 186.92 120.344 190.485 Q118.538 194.026 118.538 201.156 Q118.538 208.262 120.344 211.827 Q122.172 215.369 125.783 215.369 Q129.418 215.369 131.223 211.827 Q133.052 208.262 133.052 201.156 Q133.052 194.026 131.223 190.485 Q129.418 186.92 125.783 186.92 M125.783 183.216 Q131.594 183.216 134.649 187.823 Q137.728 192.406 137.728 201.156 Q137.728 209.883 134.649 214.489 Q131.594 219.073 125.783 219.073 Q119.973 219.073 116.895 214.489 Q113.839 209.883 113.839 201.156 Q113.839 192.406 116.895 187.823 Q119.973 183.216 125.783 183.216 Z\" fill=\"#000000\" fill-rule=\"evenodd\" fill-opacity=\"1\" /><polyline clip-path=\"url(#clip862)\" style=\"stroke:#800080; stroke-width:4; stroke-opacity:1; fill:none\" points=\"\n  235.398,427.411 256.163,427.411 276.927,427.411 297.692,427.411 318.456,540.556 339.221,540.556 359.985,540.556 380.75,540.556 401.514,540.556 422.279,540.556 \n  443.044,540.556 463.808,540.556 484.573,653.701 505.337,653.701 526.102,653.701 546.866,653.701 567.631,653.701 588.395,766.846 609.16,766.846 629.924,766.846 \n  650.689,766.846 671.453,540.556 692.218,540.556 712.982,540.556 733.747,540.556 754.511,653.701 775.276,653.701 796.04,653.701 816.805,653.701 837.569,766.846 \n  858.334,879.991 879.098,879.991 899.863,879.991 920.627,879.991 941.392,879.991 962.156,879.991 982.921,879.991 1003.69,879.991 1024.45,993.136 1045.21,766.846 \n  1065.98,766.846 1086.74,766.846 1107.51,879.991 1128.27,879.991 1149.04,879.991 1169.8,879.991 1190.57,993.136 1211.33,993.136 1232.1,1106.28 1252.86,1106.28 \n  1273.62,1219.43 1294.39,1332.57 1315.15,1332.57 1335.92,1332.57 1356.68,1332.57 1377.45,1106.28 1398.21,1106.28 1418.98,1106.28 1439.74,1219.43 1460.5,993.136 \n  1481.27,766.846 1502.03,766.846 1522.8,766.846 1543.56,766.846 1564.33,879.991 1585.09,879.991 1605.86,879.991 1626.62,993.136 1647.39,993.136 1668.15,993.136 \n  1688.91,993.136 1709.68,1106.28 1730.44,1106.28 1751.21,1106.28 1771.97,1219.43 1792.74,1219.43 1813.5,1219.43 1834.27,993.136 1855.03,1106.28 1875.8,1106.28 \n  1896.56,1106.28 1917.32,1106.28 1938.09,1219.43 1958.85,1332.57 1979.62,1332.57 2000.38,1332.57 2021.15,1332.57 2041.91,1332.57 2062.68,1332.57 2083.44,1332.57 \n  2104.2,1445.72 2124.97,1219.43 2145.73,993.136 2166.5,993.136 2187.26,993.136 2208.03,993.136 2228.79,766.846 2249.56,766.846 2270.32,766.846 2291.09,766.846 \n  \n  \"/>\n<polyline clip-path=\"url(#clip862)\" style=\"stroke:#008000; stroke-width:4; stroke-opacity:1; fill:none\" points=\"\n  235.398,540.556 256.163,540.556 276.927,766.846 297.692,993.136 318.456,879.991 339.221,879.991 359.985,1106.28 380.75,1332.57 401.514,1332.57 422.279,1219.43 \n  443.044,1106.28 463.808,1106.28 484.573,993.136 505.337,1219.43 526.102,1219.43 546.866,1106.28 567.631,1106.28 588.395,993.136 609.16,993.136 629.924,993.136 \n  650.689,993.136 671.453,993.136 692.218,1219.43 712.982,1106.28 733.747,1106.28 754.511,993.136 775.276,993.136 796.04,993.136 816.805,993.136 837.569,879.991 \n  858.334,766.846 879.098,653.701 899.863,540.556 920.627,540.556 941.392,766.846 962.156,653.701 982.921,879.991 1003.69,1106.28 1024.45,993.136 1045.21,993.136 \n  1065.98,879.991 1086.74,879.991 1107.51,766.846 1128.27,653.701 1149.04,653.701 1169.8,653.701 1190.57,540.556 1211.33,427.411 1232.1,314.266 1252.86,314.266 \n  1273.62,201.121 1294.39,87.9763 1315.15,314.266 1335.92,540.556 1356.68,766.846 1377.45,766.846 1398.21,766.846 1418.98,653.701 1439.74,540.556 1460.5,540.556 \n  1481.27,540.556 1502.03,427.411 1522.8,314.266 1543.56,540.556 1564.33,427.411 1585.09,653.701 1605.86,540.556 1626.62,427.411 1647.39,314.266 1668.15,314.266 \n  1688.91,540.556 1709.68,427.411 1730.44,427.411 1751.21,653.701 1771.97,540.556 1792.74,766.846 1813.5,993.136 1834.27,993.136 1855.03,879.991 1875.8,766.846 \n  1896.56,993.136 1917.32,993.136 1938.09,879.991 1958.85,766.846 1979.62,993.136 2000.38,993.136 2021.15,1219.43 2041.91,1106.28 2062.68,1106.28 2083.44,1106.28 \n  2104.2,993.136 2124.97,993.136 2145.73,993.136 2166.5,879.991 2187.26,766.846 2208.03,993.136 2228.79,993.136 2249.56,879.991 2270.32,766.846 2291.09,653.701 \n  \n  \"/>\n<path clip-path=\"url(#clip860)\" d=\"\nM1831.99 276.658 L2280.12 276.658 L2280.12 95.2176 L1831.99 95.2176  Z\n  \" fill=\"#ffffff\" fill-rule=\"evenodd\" fill-opacity=\"1\"/>\n<polyline clip-path=\"url(#clip860)\" style=\"stroke:#000000; stroke-width:4; stroke-opacity:1; fill:none\" points=\"\n  1831.99,276.658 2280.12,276.658 2280.12,95.2176 1831.99,95.2176 1831.99,276.658 \n  \"/>\n<polyline clip-path=\"url(#clip860)\" style=\"stroke:#800080; stroke-width:4; stroke-opacity:1; fill:none\" points=\"\n  1856.2,155.698 2001.47,155.698 \n  \"/>\n<path clip-path=\"url(#clip860)\" d=\"M 0 0 M2044.59 159.714 Q2044.59 155.084 2042.67 152.538 Q2040.77 149.992 2037.32 149.992 Q2033.9 149.992 2031.98 152.538 Q2030.08 155.084 2030.08 159.714 Q2030.08 164.32 2031.98 166.866 Q2033.9 169.413 2037.32 169.413 Q2040.77 169.413 2042.67 166.866 Q2044.59 164.32 2044.59 159.714 M2048.85 169.76 Q2048.85 176.38 2045.91 179.598 Q2042.97 182.839 2036.91 182.839 Q2034.66 182.839 2032.67 182.491 Q2030.68 182.167 2028.81 181.473 L2028.81 177.329 Q2030.68 178.348 2032.51 178.834 Q2034.34 179.32 2036.24 179.32 Q2040.43 179.32 2042.51 177.121 Q2044.59 174.945 2044.59 170.524 L2044.59 168.417 Q2043.27 170.709 2041.21 171.843 Q2039.15 172.978 2036.28 172.978 Q2031.51 172.978 2028.6 169.343 Q2025.68 165.709 2025.68 159.714 Q2025.68 153.695 2028.6 150.061 Q2031.51 146.427 2036.28 146.427 Q2039.15 146.427 2041.21 147.561 Q2043.27 148.695 2044.59 150.987 L2044.59 147.052 L2048.85 147.052 L2048.85 169.76 Z\" fill=\"#000000\" fill-rule=\"evenodd\" fill-opacity=\"1\" /><path clip-path=\"url(#clip860)\" d=\"M 0 0 M2063.37 150.038 Q2059.94 150.038 2057.95 152.723 Q2055.96 155.385 2055.96 160.038 Q2055.96 164.691 2057.93 167.376 Q2059.92 170.038 2063.37 170.038 Q2066.77 170.038 2068.76 167.353 Q2070.75 164.667 2070.75 160.038 Q2070.75 155.431 2068.76 152.746 Q2066.77 150.038 2063.37 150.038 M2063.37 146.427 Q2068.92 146.427 2072.09 150.038 Q2075.26 153.649 2075.26 160.038 Q2075.26 166.404 2072.09 170.038 Q2068.92 173.649 2063.37 173.649 Q2057.79 173.649 2054.62 170.038 Q2051.47 166.404 2051.47 160.038 Q2051.47 153.649 2054.62 150.038 Q2057.79 146.427 2063.37 146.427 Z\" fill=\"#000000\" fill-rule=\"evenodd\" fill-opacity=\"1\" /><path clip-path=\"url(#clip860)\" d=\"M 0 0 M2079.87 136.959 L2084.13 136.959 L2084.13 150.894 L2087.02 148.811 L2088.78 151.265 L2084.13 154.529 L2084.13 172.978 L2079.87 172.978 L2079.87 157.561 L2077.02 159.598 L2075.31 157.144 L2079.87 153.88 L2079.87 136.959 Z\" fill=\"#000000\" fill-rule=\"evenodd\" fill-opacity=\"1\" /><path clip-path=\"url(#clip860)\" d=\"M 0 0 M2115.43 158.95 L2115.43 161.033 L2095.84 161.033 Q2096.12 165.431 2098.48 167.746 Q2100.87 170.038 2105.1 170.038 Q2107.56 170.038 2109.85 169.436 Q2112.16 168.834 2114.43 167.63 L2114.43 171.658 Q2112.14 172.63 2109.73 173.14 Q2107.32 173.649 2104.85 173.649 Q2098.64 173.649 2095.01 170.038 Q2091.4 166.427 2091.4 160.269 Q2091.4 153.904 2094.82 150.177 Q2098.27 146.427 2104.11 146.427 Q2109.34 146.427 2112.37 149.806 Q2115.43 153.163 2115.43 158.95 M2111.17 157.7 Q2111.12 154.205 2109.2 152.121 Q2107.3 150.038 2104.15 150.038 Q2100.59 150.038 2098.44 152.052 Q2096.31 154.066 2095.98 157.723 L2111.17 157.7 M2107.67 172.978 L2110.43 172.978 Q2109.38 174.39 2108.88 175.408 Q2108.39 176.427 2108.39 177.144 Q2108.39 178.209 2109.01 178.741 Q2109.66 179.274 2110.91 179.274 Q2111.65 179.274 2112.37 179.089 Q2113.09 178.927 2113.81 178.579 L2113.81 181.658 Q2112.93 181.89 2112.14 182.005 Q2111.35 182.121 2110.66 182.121 Q2107.83 182.121 2106.49 181.103 Q2105.17 180.107 2105.17 177.954 Q2105.17 176.843 2105.77 175.616 Q2106.4 174.413 2107.67 172.978 Z\" fill=\"#000000\" fill-rule=\"evenodd\" fill-opacity=\"1\" /><path clip-path=\"url(#clip860)\" d=\"M 0 0 M2138.5 160.038 Q2138.5 155.339 2136.56 152.677 Q2134.64 149.992 2131.26 149.992 Q2127.88 149.992 2125.94 152.677 Q2124.01 155.339 2124.01 160.038 Q2124.01 164.737 2125.94 167.422 Q2127.88 170.084 2131.26 170.084 Q2134.64 170.084 2136.56 167.422 Q2138.5 164.737 2138.5 160.038 M2124.01 150.987 Q2125.36 148.672 2127.39 147.561 Q2129.45 146.427 2132.3 146.427 Q2137.02 146.427 2139.96 150.177 Q2142.93 153.927 2142.93 160.038 Q2142.93 166.149 2139.96 169.899 Q2137.02 173.649 2132.3 173.649 Q2129.45 173.649 2127.39 172.538 Q2125.36 171.403 2124.01 169.089 L2124.01 172.978 L2119.73 172.978 L2119.73 136.959 L2124.01 136.959 L2124.01 150.987 Z\" fill=\"#000000\" fill-rule=\"evenodd\" fill-opacity=\"1\" /><path clip-path=\"url(#clip860)\" d=\"M 0 0 M2147.39 147.052 L2151.65 147.052 L2151.65 172.978 L2147.39 172.978 L2147.39 147.052 M2147.39 136.959 L2151.65 136.959 L2151.65 142.353 L2147.39 142.353 L2147.39 136.959 Z\" fill=\"#000000\" fill-rule=\"evenodd\" fill-opacity=\"1\" /><path clip-path=\"url(#clip860)\" d=\"M 0 0 M2178.3 158.95 L2178.3 161.033 L2158.71 161.033 Q2158.99 165.431 2161.35 167.746 Q2163.74 170.038 2167.97 170.038 Q2170.43 170.038 2172.72 169.436 Q2175.03 168.834 2177.3 167.63 L2177.3 171.658 Q2175.01 172.63 2172.6 173.14 Q2170.19 173.649 2167.72 173.649 Q2161.51 173.649 2157.88 170.038 Q2154.27 166.427 2154.27 160.269 Q2154.27 153.904 2157.69 150.177 Q2161.14 146.427 2166.98 146.427 Q2172.21 146.427 2175.24 149.806 Q2178.3 153.163 2178.3 158.95 M2174.04 157.7 Q2173.99 154.205 2172.07 152.121 Q2170.17 150.038 2167.02 150.038 Q2163.46 150.038 2161.31 152.052 Q2159.18 154.066 2158.85 157.723 L2174.04 157.7 Z\" fill=\"#000000\" fill-rule=\"evenodd\" fill-opacity=\"1\" /><polyline clip-path=\"url(#clip860)\" style=\"stroke:#008000; stroke-width:4; stroke-opacity:1; fill:none\" points=\"\n  1856.2,216.178 2001.47,216.178 \n  \"/>\n<path clip-path=\"url(#clip860)\" d=\"M 0 0 M2031.01 207.532 L2035.26 207.532 L2035.26 233.921 Q2035.26 238.874 2033.37 241.096 Q2031.49 243.319 2027.3 243.319 L2025.68 243.319 L2025.68 239.708 L2026.82 239.708 Q2029.25 239.708 2030.13 238.573 Q2031.01 237.462 2031.01 233.921 L2031.01 207.532 M2031.01 197.439 L2035.26 197.439 L2035.26 202.833 L2031.01 202.833 L2031.01 197.439 Z\" fill=\"#000000\" fill-rule=\"evenodd\" fill-opacity=\"1\" /><path clip-path=\"url(#clip860)\" d=\"M 0 0 M2051.51 220.425 Q2046.35 220.425 2044.36 221.606 Q2042.37 222.786 2042.37 225.634 Q2042.37 227.902 2043.85 229.245 Q2045.36 230.564 2047.93 230.564 Q2051.47 230.564 2053.6 228.064 Q2055.75 225.541 2055.75 221.374 L2055.75 220.425 L2051.51 220.425 M2060.01 218.666 L2060.01 233.458 L2055.75 233.458 L2055.75 229.522 Q2054.29 231.883 2052.12 233.018 Q2049.94 234.129 2046.79 234.129 Q2042.81 234.129 2040.45 231.907 Q2038.11 229.661 2038.11 225.911 Q2038.11 221.536 2041.03 219.314 Q2043.97 217.092 2049.78 217.092 L2055.75 217.092 L2055.75 216.675 Q2055.75 213.735 2053.81 212.138 Q2051.88 210.518 2048.39 210.518 Q2046.17 210.518 2044.06 211.05 Q2041.95 211.583 2040.01 212.647 L2040.01 208.712 Q2042.35 207.81 2044.55 207.37 Q2046.75 206.907 2048.83 206.907 Q2054.45 206.907 2057.23 209.823 Q2060.01 212.74 2060.01 218.666 Z\" fill=\"#000000\" fill-rule=\"evenodd\" fill-opacity=\"1\" /><path clip-path=\"url(#clip860)\" d=\"M 0 0 M2081.01 208.296 L2081.01 212.323 Q2079.2 211.397 2077.26 210.935 Q2075.31 210.472 2073.23 210.472 Q2070.06 210.472 2068.46 211.444 Q2066.88 212.416 2066.88 214.36 Q2066.88 215.842 2068.02 216.698 Q2069.15 217.532 2072.58 218.296 L2074.04 218.62 Q2078.57 219.592 2080.47 221.374 Q2082.39 223.134 2082.39 226.305 Q2082.39 229.916 2079.52 232.022 Q2076.68 234.129 2071.68 234.129 Q2069.59 234.129 2067.32 233.712 Q2065.08 233.319 2062.58 232.508 L2062.58 228.11 Q2064.94 229.337 2067.23 229.962 Q2069.52 230.564 2071.77 230.564 Q2074.78 230.564 2076.4 229.546 Q2078.02 228.504 2078.02 226.629 Q2078.02 224.893 2076.84 223.967 Q2075.68 223.041 2071.72 222.184 L2070.24 221.837 Q2066.28 221.004 2064.52 219.291 Q2062.76 217.555 2062.76 214.546 Q2062.76 210.888 2065.36 208.898 Q2067.95 206.907 2072.72 206.907 Q2075.08 206.907 2077.16 207.254 Q2079.25 207.601 2081.01 208.296 Z\" fill=\"#000000\" fill-rule=\"evenodd\" fill-opacity=\"1\" /><path clip-path=\"url(#clip860)\" d=\"M 0 0 M2091.07 200.171 L2091.07 207.532 L2099.85 207.532 L2099.85 210.842 L2091.07 210.842 L2091.07 224.916 Q2091.07 228.087 2091.93 228.99 Q2092.81 229.893 2095.47 229.893 L2099.85 229.893 L2099.85 233.458 L2095.47 233.458 Q2090.54 233.458 2088.67 231.629 Q2086.79 229.777 2086.79 224.916 L2086.79 210.842 L2083.67 210.842 L2083.67 207.532 L2086.79 207.532 L2086.79 200.171 L2091.07 200.171 Z\" fill=\"#000000\" fill-rule=\"evenodd\" fill-opacity=\"1\" /><path clip-path=\"url(#clip860)\" d=\"M 0 0 M2119.34 211.513 Q2118.62 211.097 2117.76 210.911 Q2116.93 210.703 2115.91 210.703 Q2112.3 210.703 2110.36 213.064 Q2108.44 215.402 2108.44 219.8 L2108.44 233.458 L2104.15 233.458 L2104.15 207.532 L2108.44 207.532 L2108.44 211.56 Q2109.78 209.198 2111.93 208.064 Q2114.08 206.907 2117.16 206.907 Q2117.6 206.907 2118.13 206.976 Q2118.67 207.023 2119.32 207.138 L2119.34 211.513 Z\" fill=\"#000000\" fill-rule=\"evenodd\" fill-opacity=\"1\" /><path clip-path=\"url(#clip860)\" d=\"M 0 0 M2121.95 207.532 L2142.19 207.532 L2142.19 211.421 L2126.17 230.055 L2142.19 230.055 L2142.19 233.458 L2121.38 233.458 L2121.38 229.569 L2137.39 210.935 L2121.95 210.935 L2121.95 207.532 Z\" fill=\"#000000\" fill-rule=\"evenodd\" fill-opacity=\"1\" /><path clip-path=\"url(#clip860)\" d=\"M 0 0 M2168.83 219.43 L2168.83 221.513 L2149.25 221.513 Q2149.52 225.911 2151.88 228.226 Q2154.27 230.518 2158.5 230.518 Q2160.96 230.518 2163.25 229.916 Q2165.56 229.314 2167.83 228.11 L2167.83 232.138 Q2165.54 233.11 2163.13 233.62 Q2160.73 234.129 2158.25 234.129 Q2152.05 234.129 2148.41 230.518 Q2144.8 226.907 2144.8 220.749 Q2144.8 214.384 2148.23 210.657 Q2151.68 206.907 2157.51 206.907 Q2162.74 206.907 2165.77 210.286 Q2168.83 213.643 2168.83 219.43 M2164.57 218.18 Q2164.52 214.685 2162.6 212.601 Q2160.7 210.518 2157.56 210.518 Q2153.99 210.518 2151.84 212.532 Q2149.71 214.546 2149.38 218.203 L2164.57 218.18 M2161.07 233.458 L2163.83 233.458 Q2162.79 234.87 2162.28 235.888 Q2161.79 236.907 2161.79 237.624 Q2161.79 238.689 2162.42 239.221 Q2163.06 239.754 2164.31 239.754 Q2165.06 239.754 2165.77 239.569 Q2166.49 239.407 2167.21 239.059 L2167.21 242.138 Q2166.33 242.37 2165.54 242.485 Q2164.75 242.601 2164.06 242.601 Q2161.24 242.601 2159.89 241.583 Q2158.57 240.587 2158.57 238.434 Q2158.57 237.323 2159.18 236.096 Q2159.8 234.893 2161.07 233.458 Z\" fill=\"#000000\" fill-rule=\"evenodd\" fill-opacity=\"1\" /><path clip-path=\"url(#clip860)\" d=\"M 0 0 M2191.91 220.518 Q2191.91 215.819 2189.96 213.157 Q2188.04 210.472 2184.66 210.472 Q2181.28 210.472 2179.34 213.157 Q2177.42 215.819 2177.42 220.518 Q2177.42 225.217 2179.34 227.902 Q2181.28 230.564 2184.66 230.564 Q2188.04 230.564 2189.96 227.902 Q2191.91 225.217 2191.91 220.518 M2177.42 211.467 Q2178.76 209.152 2180.8 208.041 Q2182.86 206.907 2185.7 206.907 Q2190.43 206.907 2193.37 210.657 Q2196.33 214.407 2196.33 220.518 Q2196.33 226.629 2193.37 230.379 Q2190.43 234.129 2185.7 234.129 Q2182.86 234.129 2180.8 233.018 Q2178.76 231.883 2177.42 229.569 L2177.42 233.458 L2173.13 233.458 L2173.13 197.439 L2177.42 197.439 L2177.42 211.467 Z\" fill=\"#000000\" fill-rule=\"evenodd\" fill-opacity=\"1\" /><path clip-path=\"url(#clip860)\" d=\"M 0 0 M2200.8 207.532 L2205.06 207.532 L2205.06 233.458 L2200.8 233.458 L2200.8 207.532 M2200.8 197.439 L2205.06 197.439 L2205.06 202.833 L2200.8 202.833 L2200.8 197.439 Z\" fill=\"#000000\" fill-rule=\"evenodd\" fill-opacity=\"1\" /><path clip-path=\"url(#clip860)\" d=\"M 0 0 M2231.7 219.43 L2231.7 221.513 L2212.12 221.513 Q2212.39 225.911 2214.75 228.226 Q2217.14 230.518 2221.37 230.518 Q2223.83 230.518 2226.12 229.916 Q2228.43 229.314 2230.7 228.11 L2230.7 232.138 Q2228.41 233.11 2226 233.62 Q2223.6 234.129 2221.12 234.129 Q2214.92 234.129 2211.28 230.518 Q2207.67 226.907 2207.67 220.749 Q2207.67 214.384 2211.1 210.657 Q2214.55 206.907 2220.38 206.907 Q2225.61 206.907 2228.64 210.286 Q2231.7 213.643 2231.7 219.43 M2227.44 218.18 Q2227.39 214.685 2225.47 212.601 Q2223.57 210.518 2220.43 210.518 Q2216.86 210.518 2214.71 212.532 Q2212.58 214.546 2212.25 218.203 L2227.44 218.18 Z\" fill=\"#000000\" fill-rule=\"evenodd\" fill-opacity=\"1\" /></svg>\n"
     },
     "metadata": {},
     "execution_count": 17
    }
   ],
   "source": [
    "A = action(9,9,30,30, 100, zeros(Int64, 100, 2))\n",
    "plot(1:size(A)[1], A[:, 1], label=\"gołębie\", color= :purple)\n",
    "plot!(1:size(A)[1], A[:, 2], label=\"jastrzębie\", color= :green)"
   ]
  },
  {
   "cell_type": "code",
   "execution_count": 18,
   "metadata": {},
   "outputs": [
    {
     "output_type": "execute_result",
     "data": {
      "image/svg+xml": "<?xml version=\"1.0\" encoding=\"utf-8\"?>\n<svg xmlns=\"http://www.w3.org/2000/svg\" xmlns:xlink=\"http://www.w3.org/1999/xlink\" width=\"600\" height=\"400\" viewBox=\"0 0 2400 1600\">\n<defs>\n  <clipPath id=\"clip900\">\n    <rect x=\"0\" y=\"0\" width=\"2400\" height=\"1600\"/>\n  </clipPath>\n</defs>\n<path clip-path=\"url(#clip900)\" d=\"\nM0 1600 L2400 1600 L2400 0 L0 0  Z\n  \" fill=\"#ffffff\" fill-rule=\"evenodd\" fill-opacity=\"1\"/>\n<defs>\n  <clipPath id=\"clip901\">\n    <rect x=\"480\" y=\"0\" width=\"1681\" height=\"1600\"/>\n  </clipPath>\n</defs>\n<path clip-path=\"url(#clip900)\" d=\"\nM173.728 1486.45 L2352.76 1486.45 L2352.76 47.2441 L173.728 47.2441  Z\n  \" fill=\"#ffffff\" fill-rule=\"evenodd\" fill-opacity=\"1\"/>\n<defs>\n  <clipPath id=\"clip902\">\n    <rect x=\"173\" y=\"47\" width=\"2180\" height=\"1440\"/>\n  </clipPath>\n</defs>\n<polyline clip-path=\"url(#clip902)\" style=\"stroke:#000000; stroke-width:2; stroke-opacity:0.1; fill:none\" points=\"\n  214.634,1486.45 214.634,47.2441 \n  \"/>\n<polyline clip-path=\"url(#clip902)\" style=\"stroke:#000000; stroke-width:2; stroke-opacity:0.1; fill:none\" points=\"\n  733.747,1486.45 733.747,47.2441 \n  \"/>\n<polyline clip-path=\"url(#clip902)\" style=\"stroke:#000000; stroke-width:2; stroke-opacity:0.1; fill:none\" points=\"\n  1252.86,1486.45 1252.86,47.2441 \n  \"/>\n<polyline clip-path=\"url(#clip902)\" style=\"stroke:#000000; stroke-width:2; stroke-opacity:0.1; fill:none\" points=\"\n  1771.97,1486.45 1771.97,47.2441 \n  \"/>\n<polyline clip-path=\"url(#clip902)\" style=\"stroke:#000000; stroke-width:2; stroke-opacity:0.1; fill:none\" points=\"\n  2291.09,1486.45 2291.09,47.2441 \n  \"/>\n<polyline clip-path=\"url(#clip900)\" style=\"stroke:#000000; stroke-width:4; stroke-opacity:1; fill:none\" points=\"\n  173.728,1486.45 2352.76,1486.45 \n  \"/>\n<polyline clip-path=\"url(#clip900)\" style=\"stroke:#000000; stroke-width:4; stroke-opacity:1; fill:none\" points=\"\n  214.634,1486.45 214.634,1469.18 \n  \"/>\n<polyline clip-path=\"url(#clip900)\" style=\"stroke:#000000; stroke-width:4; stroke-opacity:1; fill:none\" points=\"\n  733.747,1486.45 733.747,1469.18 \n  \"/>\n<polyline clip-path=\"url(#clip900)\" style=\"stroke:#000000; stroke-width:4; stroke-opacity:1; fill:none\" points=\"\n  1252.86,1486.45 1252.86,1469.18 \n  \"/>\n<polyline clip-path=\"url(#clip900)\" style=\"stroke:#000000; stroke-width:4; stroke-opacity:1; fill:none\" points=\"\n  1771.97,1486.45 1771.97,1469.18 \n  \"/>\n<polyline clip-path=\"url(#clip900)\" style=\"stroke:#000000; stroke-width:4; stroke-opacity:1; fill:none\" points=\"\n  2291.09,1486.45 2291.09,1469.18 \n  \"/>\n<path clip-path=\"url(#clip900)\" d=\"M 0 0 M214.634 1515.64 Q211.023 1515.64 209.194 1519.2 Q207.389 1522.75 207.389 1529.87 Q207.389 1536.98 209.194 1540.55 Q211.023 1544.09 214.634 1544.09 Q218.268 1544.09 220.074 1540.55 Q221.902 1536.98 221.902 1529.87 Q221.902 1522.75 220.074 1519.2 Q218.268 1515.64 214.634 1515.64 M214.634 1511.93 Q220.444 1511.93 223.5 1516.54 Q226.578 1521.12 226.578 1529.87 Q226.578 1538.6 223.5 1543.21 Q220.444 1547.79 214.634 1547.79 Q208.824 1547.79 205.745 1543.21 Q202.689 1538.6 202.689 1529.87 Q202.689 1521.12 205.745 1516.54 Q208.824 1511.93 214.634 1511.93 Z\" fill=\"#000000\" fill-rule=\"evenodd\" fill-opacity=\"1\" /><path clip-path=\"url(#clip900)\" d=\"M 0 0 M715.39 1543.18 L731.71 1543.18 L731.71 1547.12 L709.765 1547.12 L709.765 1543.18 Q712.427 1540.43 717.011 1535.8 Q721.617 1531.15 722.798 1529.81 Q725.043 1527.28 725.923 1525.55 Q726.825 1523.79 726.825 1522.1 Q726.825 1519.34 724.881 1517.61 Q722.96 1515.87 719.858 1515.87 Q717.659 1515.87 715.205 1516.63 Q712.775 1517.4 709.997 1518.95 L709.997 1514.23 Q712.821 1513.09 715.275 1512.51 Q717.728 1511.93 719.765 1511.93 Q725.136 1511.93 728.33 1514.62 Q731.525 1517.31 731.525 1521.8 Q731.525 1523.93 730.714 1525.85 Q729.927 1527.74 727.821 1530.34 Q727.242 1531.01 724.14 1534.23 Q721.038 1537.42 715.39 1543.18 Z\" fill=\"#000000\" fill-rule=\"evenodd\" fill-opacity=\"1\" /><path clip-path=\"url(#clip900)\" d=\"M 0 0 M736.825 1512.56 L755.182 1512.56 L755.182 1516.5 L741.108 1516.5 L741.108 1524.97 Q742.126 1524.62 743.145 1524.46 Q744.163 1524.27 745.182 1524.27 Q750.969 1524.27 754.348 1527.44 Q757.728 1530.62 757.728 1536.03 Q757.728 1541.61 754.256 1544.71 Q750.784 1547.79 744.464 1547.79 Q742.288 1547.79 740.02 1547.42 Q737.774 1547.05 735.367 1546.31 L735.367 1541.61 Q737.45 1542.74 739.673 1543.3 Q741.895 1543.86 744.372 1543.86 Q748.376 1543.86 750.714 1541.75 Q753.052 1539.64 753.052 1536.03 Q753.052 1532.42 750.714 1530.31 Q748.376 1528.21 744.372 1528.21 Q742.497 1528.21 740.622 1528.62 Q738.77 1529.04 736.825 1529.92 L736.825 1512.56 Z\" fill=\"#000000\" fill-rule=\"evenodd\" fill-opacity=\"1\" /><path clip-path=\"url(#clip900)\" d=\"M 0 0 M1229.63 1512.56 L1247.99 1512.56 L1247.99 1516.5 L1233.91 1516.5 L1233.91 1524.97 Q1234.93 1524.62 1235.95 1524.46 Q1236.97 1524.27 1237.99 1524.27 Q1243.77 1524.27 1247.15 1527.44 Q1250.53 1530.62 1250.53 1536.03 Q1250.53 1541.61 1247.06 1544.71 Q1243.59 1547.79 1237.27 1547.79 Q1235.09 1547.79 1232.82 1547.42 Q1230.58 1547.05 1228.17 1546.31 L1228.17 1541.61 Q1230.26 1542.74 1232.48 1543.3 Q1234.7 1543.86 1237.18 1543.86 Q1241.18 1543.86 1243.52 1541.75 Q1245.86 1539.64 1245.86 1536.03 Q1245.86 1532.42 1243.52 1530.31 Q1241.18 1528.21 1237.18 1528.21 Q1235.3 1528.21 1233.43 1528.62 Q1231.57 1529.04 1229.63 1529.92 L1229.63 1512.56 Z\" fill=\"#000000\" fill-rule=\"evenodd\" fill-opacity=\"1\" /><path clip-path=\"url(#clip900)\" d=\"M 0 0 M1265.6 1515.64 Q1261.99 1515.64 1260.16 1519.2 Q1258.36 1522.75 1258.36 1529.87 Q1258.36 1536.98 1260.16 1540.55 Q1261.99 1544.09 1265.6 1544.09 Q1269.24 1544.09 1271.04 1540.55 Q1272.87 1536.98 1272.87 1529.87 Q1272.87 1522.75 1271.04 1519.2 Q1269.24 1515.64 1265.6 1515.64 M1265.6 1511.93 Q1271.41 1511.93 1274.47 1516.54 Q1277.55 1521.12 1277.55 1529.87 Q1277.55 1538.6 1274.47 1543.21 Q1271.41 1547.79 1265.6 1547.79 Q1259.79 1547.79 1256.71 1543.21 Q1253.66 1538.6 1253.66 1529.87 Q1253.66 1521.12 1256.71 1516.54 Q1259.79 1511.93 1265.6 1511.93 Z\" fill=\"#000000\" fill-rule=\"evenodd\" fill-opacity=\"1\" /><path clip-path=\"url(#clip900)\" d=\"M 0 0 M1747.85 1512.56 L1770.07 1512.56 L1770.07 1514.55 L1757.53 1547.12 L1752.64 1547.12 L1764.45 1516.5 L1747.85 1516.5 L1747.85 1512.56 Z\" fill=\"#000000\" fill-rule=\"evenodd\" fill-opacity=\"1\" /><path clip-path=\"url(#clip900)\" d=\"M 0 0 M1775.19 1512.56 L1793.55 1512.56 L1793.55 1516.5 L1779.47 1516.5 L1779.47 1524.97 Q1780.49 1524.62 1781.51 1524.46 Q1782.53 1524.27 1783.55 1524.27 Q1789.33 1524.27 1792.71 1527.44 Q1796.09 1530.62 1796.09 1536.03 Q1796.09 1541.61 1792.62 1544.71 Q1789.15 1547.79 1782.83 1547.79 Q1780.65 1547.79 1778.38 1547.42 Q1776.14 1547.05 1773.73 1546.31 L1773.73 1541.61 Q1775.82 1542.74 1778.04 1543.3 Q1780.26 1543.86 1782.74 1543.86 Q1786.74 1543.86 1789.08 1541.75 Q1791.42 1539.64 1791.42 1536.03 Q1791.42 1532.42 1789.08 1530.31 Q1786.74 1528.21 1782.74 1528.21 Q1780.86 1528.21 1778.99 1528.62 Q1777.13 1529.04 1775.19 1529.92 L1775.19 1512.56 Z\" fill=\"#000000\" fill-rule=\"evenodd\" fill-opacity=\"1\" /><path clip-path=\"url(#clip900)\" d=\"M 0 0 M2254.45 1543.18 L2262.09 1543.18 L2262.09 1516.82 L2253.78 1518.49 L2253.78 1514.23 L2262.05 1512.56 L2266.72 1512.56 L2266.72 1543.18 L2274.36 1543.18 L2274.36 1547.12 L2254.45 1547.12 L2254.45 1543.18 Z\" fill=\"#000000\" fill-rule=\"evenodd\" fill-opacity=\"1\" /><path clip-path=\"url(#clip900)\" d=\"M 0 0 M2289.43 1515.64 Q2285.82 1515.64 2283.99 1519.2 Q2282.18 1522.75 2282.18 1529.87 Q2282.18 1536.98 2283.99 1540.55 Q2285.82 1544.09 2289.43 1544.09 Q2293.06 1544.09 2294.87 1540.55 Q2296.7 1536.98 2296.7 1529.87 Q2296.7 1522.75 2294.87 1519.2 Q2293.06 1515.64 2289.43 1515.64 M2289.43 1511.93 Q2295.24 1511.93 2298.3 1516.54 Q2301.37 1521.12 2301.37 1529.87 Q2301.37 1538.6 2298.3 1543.21 Q2295.24 1547.79 2289.43 1547.79 Q2283.62 1547.79 2280.54 1543.21 Q2277.49 1538.6 2277.49 1529.87 Q2277.49 1521.12 2280.54 1516.54 Q2283.62 1511.93 2289.43 1511.93 Z\" fill=\"#000000\" fill-rule=\"evenodd\" fill-opacity=\"1\" /><path clip-path=\"url(#clip900)\" d=\"M 0 0 M2316.44 1515.64 Q2312.83 1515.64 2311 1519.2 Q2309.2 1522.75 2309.2 1529.87 Q2309.2 1536.98 2311 1540.55 Q2312.83 1544.09 2316.44 1544.09 Q2320.08 1544.09 2321.88 1540.55 Q2323.71 1536.98 2323.71 1529.87 Q2323.71 1522.75 2321.88 1519.2 Q2320.08 1515.64 2316.44 1515.64 M2316.44 1511.93 Q2322.25 1511.93 2325.31 1516.54 Q2328.39 1521.12 2328.39 1529.87 Q2328.39 1538.6 2325.31 1543.21 Q2322.25 1547.79 2316.44 1547.79 Q2310.63 1547.79 2307.56 1543.21 Q2304.5 1538.6 2304.5 1529.87 Q2304.5 1521.12 2307.56 1516.54 Q2310.63 1511.93 2316.44 1511.93 Z\" fill=\"#000000\" fill-rule=\"evenodd\" fill-opacity=\"1\" /><polyline clip-path=\"url(#clip902)\" style=\"stroke:#000000; stroke-width:2; stroke-opacity:0.1; fill:none\" points=\"\n  173.728,1264.68 2352.76,1264.68 \n  \"/>\n<polyline clip-path=\"url(#clip902)\" style=\"stroke:#000000; stroke-width:2; stroke-opacity:0.1; fill:none\" points=\"\n  173.728,1038.39 2352.76,1038.39 \n  \"/>\n<polyline clip-path=\"url(#clip902)\" style=\"stroke:#000000; stroke-width:2; stroke-opacity:0.1; fill:none\" points=\"\n  173.728,812.104 2352.76,812.104 \n  \"/>\n<polyline clip-path=\"url(#clip902)\" style=\"stroke:#000000; stroke-width:2; stroke-opacity:0.1; fill:none\" points=\"\n  173.728,585.814 2352.76,585.814 \n  \"/>\n<polyline clip-path=\"url(#clip902)\" style=\"stroke:#000000; stroke-width:2; stroke-opacity:0.1; fill:none\" points=\"\n  173.728,359.524 2352.76,359.524 \n  \"/>\n<polyline clip-path=\"url(#clip902)\" style=\"stroke:#000000; stroke-width:2; stroke-opacity:0.1; fill:none\" points=\"\n  173.728,133.234 2352.76,133.234 \n  \"/>\n<polyline clip-path=\"url(#clip900)\" style=\"stroke:#000000; stroke-width:4; stroke-opacity:1; fill:none\" points=\"\n  173.728,1486.45 173.728,47.2441 \n  \"/>\n<polyline clip-path=\"url(#clip900)\" style=\"stroke:#000000; stroke-width:4; stroke-opacity:1; fill:none\" points=\"\n  173.728,1264.68 199.876,1264.68 \n  \"/>\n<polyline clip-path=\"url(#clip900)\" style=\"stroke:#000000; stroke-width:4; stroke-opacity:1; fill:none\" points=\"\n  173.728,1038.39 199.876,1038.39 \n  \"/>\n<polyline clip-path=\"url(#clip900)\" style=\"stroke:#000000; stroke-width:4; stroke-opacity:1; fill:none\" points=\"\n  173.728,812.104 199.876,812.104 \n  \"/>\n<polyline clip-path=\"url(#clip900)\" style=\"stroke:#000000; stroke-width:4; stroke-opacity:1; fill:none\" points=\"\n  173.728,585.814 199.876,585.814 \n  \"/>\n<polyline clip-path=\"url(#clip900)\" style=\"stroke:#000000; stroke-width:4; stroke-opacity:1; fill:none\" points=\"\n  173.728,359.524 199.876,359.524 \n  \"/>\n<polyline clip-path=\"url(#clip900)\" style=\"stroke:#000000; stroke-width:4; stroke-opacity:1; fill:none\" points=\"\n  173.728,133.234 199.876,133.234 \n  \"/>\n<path clip-path=\"url(#clip900)\" d=\"M 0 0 M57.4273 1278.03 L73.7466 1278.03 L73.7466 1281.96 L51.8023 1281.96 L51.8023 1278.03 Q54.4643 1275.27 59.0476 1270.64 Q63.6541 1265.99 64.8346 1264.65 Q67.08 1262.13 67.9596 1260.39 Q68.8624 1258.63 68.8624 1256.94 Q68.8624 1254.19 66.918 1252.45 Q64.9967 1250.71 61.8948 1250.71 Q59.6958 1250.71 57.2421 1251.48 Q54.8115 1252.24 52.0338 1253.79 L52.0338 1249.07 Q54.8578 1247.94 57.3115 1247.36 Q59.7652 1246.78 61.8023 1246.78 Q67.1726 1246.78 70.367 1249.46 Q73.5614 1252.15 73.5614 1256.64 Q73.5614 1258.77 72.7513 1260.69 Q71.9642 1262.59 69.8578 1265.18 Q69.2791 1265.85 66.1772 1269.07 Q63.0754 1272.26 57.4273 1278.03 Z\" fill=\"#000000\" fill-rule=\"evenodd\" fill-opacity=\"1\" /><path clip-path=\"url(#clip900)\" d=\"M 0 0 M88.816 1250.48 Q85.2049 1250.48 83.3762 1254.05 Q81.5707 1257.59 81.5707 1264.72 Q81.5707 1271.82 83.3762 1275.39 Q85.2049 1278.93 88.816 1278.93 Q92.4502 1278.93 94.2558 1275.39 Q96.0845 1271.82 96.0845 1264.72 Q96.0845 1257.59 94.2558 1254.05 Q92.4502 1250.48 88.816 1250.48 M88.816 1246.78 Q94.6262 1246.78 97.6817 1251.39 Q100.76 1255.97 100.76 1264.72 Q100.76 1273.45 97.6817 1278.05 Q94.6262 1282.64 88.816 1282.64 Q83.0058 1282.64 79.9272 1278.05 Q76.8716 1273.45 76.8716 1264.72 Q76.8716 1255.97 79.9272 1251.39 Q83.0058 1246.78 88.816 1246.78 Z\" fill=\"#000000\" fill-rule=\"evenodd\" fill-opacity=\"1\" /><path clip-path=\"url(#clip900)\" d=\"M 0 0 M105.83 1276.08 L110.714 1276.08 L110.714 1281.96 L105.83 1281.96 L105.83 1276.08 Z\" fill=\"#000000\" fill-rule=\"evenodd\" fill-opacity=\"1\" /><path clip-path=\"url(#clip900)\" d=\"M 0 0 M125.783 1250.48 Q122.172 1250.48 120.344 1254.05 Q118.538 1257.59 118.538 1264.72 Q118.538 1271.82 120.344 1275.39 Q122.172 1278.93 125.783 1278.93 Q129.418 1278.93 131.223 1275.39 Q133.052 1271.82 133.052 1264.72 Q133.052 1257.59 131.223 1254.05 Q129.418 1250.48 125.783 1250.48 M125.783 1246.78 Q131.594 1246.78 134.649 1251.39 Q137.728 1255.97 137.728 1264.72 Q137.728 1273.45 134.649 1278.05 Q131.594 1282.64 125.783 1282.64 Q119.973 1282.64 116.895 1278.05 Q113.839 1273.45 113.839 1264.72 Q113.839 1255.97 116.895 1251.39 Q119.973 1246.78 125.783 1246.78 Z\" fill=\"#000000\" fill-rule=\"evenodd\" fill-opacity=\"1\" /><path clip-path=\"url(#clip900)\" d=\"M 0 0 M60.0199 1051.74 L76.3392 1051.74 L76.3392 1055.67 L54.3949 1055.67 L54.3949 1051.74 Q57.0569 1048.98 61.6402 1044.35 Q66.2467 1039.7 67.4272 1038.36 Q69.6726 1035.84 70.5522 1034.1 Q71.455 1032.34 71.455 1030.65 Q71.455 1027.9 69.5105 1026.16 Q67.5893 1024.42 64.4874 1024.42 Q62.2884 1024.42 59.8347 1025.19 Q57.4041 1025.95 54.6264 1027.5 L54.6264 1022.78 Q57.4504 1021.65 59.9041 1021.07 Q62.3578 1020.49 64.3948 1020.49 Q69.7652 1020.49 72.9596 1023.17 Q76.154 1025.86 76.154 1030.35 Q76.154 1032.48 75.3438 1034.4 Q74.5568 1036.3 72.4503 1038.89 Q71.8716 1039.56 68.7698 1042.78 Q65.668 1045.97 60.0199 1051.74 Z\" fill=\"#000000\" fill-rule=\"evenodd\" fill-opacity=\"1\" /><path clip-path=\"url(#clip900)\" d=\"M 0 0 M85.4364 1051.74 L101.756 1051.74 L101.756 1055.67 L79.8114 1055.67 L79.8114 1051.74 Q82.4734 1048.98 87.0567 1044.35 Q91.6632 1039.7 92.8438 1038.36 Q95.0891 1035.84 95.9687 1034.1 Q96.8715 1032.34 96.8715 1030.65 Q96.8715 1027.9 94.9271 1026.16 Q93.0058 1024.42 89.904 1024.42 Q87.7049 1024.42 85.2512 1025.19 Q82.8207 1025.95 80.0429 1027.5 L80.0429 1022.78 Q82.867 1021.65 85.3206 1021.07 Q87.7743 1020.49 89.8114 1020.49 Q95.1817 1020.49 98.3761 1023.17 Q101.571 1025.86 101.571 1030.35 Q101.571 1032.48 100.76 1034.4 Q99.9733 1036.3 97.8669 1038.89 Q97.2882 1039.56 94.1863 1042.78 Q91.0845 1045.97 85.4364 1051.74 Z\" fill=\"#000000\" fill-rule=\"evenodd\" fill-opacity=\"1\" /><path clip-path=\"url(#clip900)\" d=\"M 0 0 M106.825 1049.79 L111.709 1049.79 L111.709 1055.67 L106.825 1055.67 L106.825 1049.79 Z\" fill=\"#000000\" fill-rule=\"evenodd\" fill-opacity=\"1\" /><path clip-path=\"url(#clip900)\" d=\"M 0 0 M116.825 1021.11 L135.181 1021.11 L135.181 1025.05 L121.107 1025.05 L121.107 1033.52 Q122.126 1033.17 123.145 1033.01 Q124.163 1032.83 125.182 1032.83 Q130.969 1032.83 134.348 1036 Q137.728 1039.17 137.728 1044.59 Q137.728 1050.16 134.256 1053.27 Q130.783 1056.35 124.464 1056.35 Q122.288 1056.35 120.02 1055.97 Q117.774 1055.6 115.367 1054.86 L115.367 1050.16 Q117.45 1051.3 119.672 1051.85 Q121.895 1052.41 124.371 1052.41 Q128.376 1052.41 130.714 1050.3 Q133.052 1048.2 133.052 1044.59 Q133.052 1040.97 130.714 1038.87 Q128.376 1036.76 124.371 1036.76 Q122.496 1036.76 120.621 1037.18 Q118.77 1037.6 116.825 1038.47 L116.825 1021.11 Z\" fill=\"#000000\" fill-rule=\"evenodd\" fill-opacity=\"1\" /><path clip-path=\"url(#clip900)\" d=\"M 0 0 M58.4226 825.449 L74.742 825.449 L74.742 829.384 L52.7977 829.384 L52.7977 825.449 Q55.4597 822.694 60.043 818.065 Q64.6495 813.412 65.83 812.069 Q68.0754 809.546 68.955 807.81 Q69.8578 806.051 69.8578 804.361 Q69.8578 801.606 67.9133 799.87 Q65.992 798.134 62.8902 798.134 Q60.6911 798.134 58.2375 798.898 Q55.8069 799.662 53.0292 801.213 L53.0292 796.491 Q55.8532 795.356 58.3069 794.778 Q60.7606 794.199 62.7976 794.199 Q68.168 794.199 71.3624 796.884 Q74.5568 799.569 74.5568 804.06 Q74.5568 806.19 73.7466 808.111 Q72.9596 810.009 70.8531 812.602 Q70.2744 813.273 67.1726 816.491 Q64.0708 819.685 58.4226 825.449 Z\" fill=\"#000000\" fill-rule=\"evenodd\" fill-opacity=\"1\" /><path clip-path=\"url(#clip900)\" d=\"M 0 0 M79.8577 794.824 L98.2141 794.824 L98.2141 798.759 L84.1401 798.759 L84.1401 807.231 Q85.1586 806.884 86.1771 806.722 Q87.1956 806.537 88.2141 806.537 Q94.0012 806.537 97.3808 809.708 Q100.76 812.879 100.76 818.296 Q100.76 823.875 97.2882 826.977 Q93.816 830.055 87.4966 830.055 Q85.3206 830.055 83.0521 829.685 Q80.8068 829.315 78.3994 828.574 L78.3994 823.875 Q80.4827 825.009 82.7049 825.565 Q84.9271 826.12 87.404 826.12 Q91.4086 826.12 93.7465 824.014 Q96.0845 821.907 96.0845 818.296 Q96.0845 814.685 93.7465 812.578 Q91.4086 810.472 87.404 810.472 Q85.529 810.472 83.654 810.889 Q81.8021 811.305 79.8577 812.185 L79.8577 794.824 Z\" fill=\"#000000\" fill-rule=\"evenodd\" fill-opacity=\"1\" /><path clip-path=\"url(#clip900)\" d=\"M 0 0 M105.83 823.504 L110.714 823.504 L110.714 829.384 L105.83 829.384 L105.83 823.504 Z\" fill=\"#000000\" fill-rule=\"evenodd\" fill-opacity=\"1\" /><path clip-path=\"url(#clip900)\" d=\"M 0 0 M125.783 797.903 Q122.172 797.903 120.344 801.467 Q118.538 805.009 118.538 812.139 Q118.538 819.245 120.344 822.81 Q122.172 826.352 125.783 826.352 Q129.418 826.352 131.223 822.81 Q133.052 819.245 133.052 812.139 Q133.052 805.009 131.223 801.467 Q129.418 797.903 125.783 797.903 M125.783 794.199 Q131.594 794.199 134.649 798.805 Q137.728 803.389 137.728 812.139 Q137.728 820.865 134.649 825.472 Q131.594 830.055 125.783 830.055 Q119.973 830.055 116.895 825.472 Q113.839 820.865 113.839 812.139 Q113.839 803.389 116.895 798.805 Q119.973 794.199 125.783 794.199 Z\" fill=\"#000000\" fill-rule=\"evenodd\" fill-opacity=\"1\" /><path clip-path=\"url(#clip900)\" d=\"M 0 0 M59.3254 599.159 L75.6448 599.159 L75.6448 603.094 L53.7004 603.094 L53.7004 599.159 Q56.3625 596.404 60.9458 591.775 Q65.5522 587.122 66.7328 585.779 Q68.9781 583.256 69.8578 581.52 Q70.7605 579.761 70.7605 578.071 Q70.7605 575.316 68.8161 573.58 Q66.8948 571.844 63.793 571.844 Q61.5939 571.844 59.1402 572.608 Q56.7097 573.372 53.9319 574.923 L53.9319 570.201 Q56.756 569.066 59.2097 568.488 Q61.6634 567.909 63.7004 567.909 Q69.0707 567.909 72.2652 570.594 Q75.4596 573.279 75.4596 577.77 Q75.4596 579.9 74.6494 581.821 Q73.8624 583.719 71.7559 586.312 Q71.1772 586.983 68.0754 590.201 Q64.9735 593.395 59.3254 599.159 Z\" fill=\"#000000\" fill-rule=\"evenodd\" fill-opacity=\"1\" /><path clip-path=\"url(#clip900)\" d=\"M 0 0 M79.5336 568.534 L101.756 568.534 L101.756 570.525 L89.2095 603.094 L84.3253 603.094 L96.1308 572.469 L79.5336 572.469 L79.5336 568.534 Z\" fill=\"#000000\" fill-rule=\"evenodd\" fill-opacity=\"1\" /><path clip-path=\"url(#clip900)\" d=\"M 0 0 M106.825 597.214 L111.709 597.214 L111.709 603.094 L106.825 603.094 L106.825 597.214 Z\" fill=\"#000000\" fill-rule=\"evenodd\" fill-opacity=\"1\" /><path clip-path=\"url(#clip900)\" d=\"M 0 0 M116.825 568.534 L135.181 568.534 L135.181 572.469 L121.107 572.469 L121.107 580.941 Q122.126 580.594 123.145 580.432 Q124.163 580.247 125.182 580.247 Q130.969 580.247 134.348 583.418 Q137.728 586.59 137.728 592.006 Q137.728 597.585 134.256 600.687 Q130.783 603.765 124.464 603.765 Q122.288 603.765 120.02 603.395 Q117.774 603.025 115.367 602.284 L115.367 597.585 Q117.45 598.719 119.672 599.275 Q121.895 599.83 124.371 599.83 Q128.376 599.83 130.714 597.724 Q133.052 595.617 133.052 592.006 Q133.052 588.395 130.714 586.289 Q128.376 584.182 124.371 584.182 Q122.496 584.182 120.621 584.599 Q118.77 585.015 116.825 585.895 L116.825 568.534 Z\" fill=\"#000000\" fill-rule=\"evenodd\" fill-opacity=\"1\" /><path clip-path=\"url(#clip900)\" d=\"M 0 0 M66.617 358.17 Q69.9735 358.888 71.8485 361.156 Q73.7466 363.425 73.7466 366.758 Q73.7466 371.874 70.2281 374.675 Q66.7096 377.475 60.2282 377.475 Q58.0523 377.475 55.7375 377.036 Q53.4458 376.619 50.9921 375.762 L50.9921 371.249 Q52.9366 372.383 55.2514 372.962 Q57.5662 373.54 60.0893 373.54 Q64.4874 373.54 66.7791 371.804 Q69.0939 370.068 69.0939 366.758 Q69.0939 363.702 66.9411 361.989 Q64.8115 360.253 60.9921 360.253 L56.9643 360.253 L56.9643 356.411 L61.1773 356.411 Q64.6263 356.411 66.455 355.045 Q68.2837 353.656 68.2837 351.064 Q68.2837 348.402 66.3856 346.99 Q64.5106 345.554 60.9921 345.554 Q59.0708 345.554 56.8717 345.971 Q54.6727 346.388 52.0338 347.267 L52.0338 343.101 Q54.6958 342.36 57.0106 341.99 Q59.3486 341.619 61.4087 341.619 Q66.7328 341.619 69.8346 344.05 Q72.9365 346.457 72.9365 350.577 Q72.9365 353.448 71.2929 355.439 Q69.6494 357.406 66.617 358.17 Z\" fill=\"#000000\" fill-rule=\"evenodd\" fill-opacity=\"1\" /><path clip-path=\"url(#clip900)\" d=\"M 0 0 M88.816 345.323 Q85.2049 345.323 83.3762 348.888 Q81.5707 352.429 81.5707 359.559 Q81.5707 366.665 83.3762 370.23 Q85.2049 373.772 88.816 373.772 Q92.4502 373.772 94.2558 370.23 Q96.0845 366.665 96.0845 359.559 Q96.0845 352.429 94.2558 348.888 Q92.4502 345.323 88.816 345.323 M88.816 341.619 Q94.6262 341.619 97.6817 346.226 Q100.76 350.809 100.76 359.559 Q100.76 368.286 97.6817 372.892 Q94.6262 377.475 88.816 377.475 Q83.0058 377.475 79.9272 372.892 Q76.8716 368.286 76.8716 359.559 Q76.8716 350.809 79.9272 346.226 Q83.0058 341.619 88.816 341.619 Z\" fill=\"#000000\" fill-rule=\"evenodd\" fill-opacity=\"1\" /><path clip-path=\"url(#clip900)\" d=\"M 0 0 M105.83 370.925 L110.714 370.925 L110.714 376.804 L105.83 376.804 L105.83 370.925 Z\" fill=\"#000000\" fill-rule=\"evenodd\" fill-opacity=\"1\" /><path clip-path=\"url(#clip900)\" d=\"M 0 0 M125.783 345.323 Q122.172 345.323 120.344 348.888 Q118.538 352.429 118.538 359.559 Q118.538 366.665 120.344 370.23 Q122.172 373.772 125.783 373.772 Q129.418 373.772 131.223 370.23 Q133.052 366.665 133.052 359.559 Q133.052 352.429 131.223 348.888 Q129.418 345.323 125.783 345.323 M125.783 341.619 Q131.594 341.619 134.649 346.226 Q137.728 350.809 137.728 359.559 Q137.728 368.286 134.649 372.892 Q131.594 377.475 125.783 377.475 Q119.973 377.475 116.895 372.892 Q113.839 368.286 113.839 359.559 Q113.839 350.809 116.895 346.226 Q119.973 341.619 125.783 341.619 Z\" fill=\"#000000\" fill-rule=\"evenodd\" fill-opacity=\"1\" /><path clip-path=\"url(#clip900)\" d=\"M 0 0 M69.2096 131.88 Q72.5661 132.598 74.4411 134.866 Q76.3392 137.135 76.3392 140.468 Q76.3392 145.584 72.8207 148.385 Q69.3022 151.186 62.8208 151.186 Q60.6449 151.186 58.33 150.746 Q56.0384 150.329 53.5847 149.473 L53.5847 144.959 Q55.5291 146.093 57.8439 146.672 Q60.1587 147.25 62.6819 147.25 Q67.08 147.25 69.3717 145.514 Q71.6865 143.778 71.6865 140.468 Q71.6865 137.412 69.5337 135.7 Q67.4041 133.963 63.5847 133.963 L59.5569 133.963 L59.5569 130.121 L63.7698 130.121 Q67.2189 130.121 69.0476 128.755 Q70.8763 127.366 70.8763 124.774 Q70.8763 122.112 68.9781 120.7 Q67.1032 119.264 63.5847 119.264 Q61.6634 119.264 59.4643 119.681 Q57.2652 120.098 54.6264 120.977 L54.6264 116.811 Q57.2884 116.07 59.6032 115.7 Q61.9411 115.329 64.0013 115.329 Q69.3254 115.329 72.4272 117.76 Q75.529 120.167 75.529 124.288 Q75.529 127.158 73.8855 129.149 Q72.242 131.116 69.2096 131.88 Z\" fill=\"#000000\" fill-rule=\"evenodd\" fill-opacity=\"1\" /><path clip-path=\"url(#clip900)\" d=\"M 0 0 M85.4364 146.579 L101.756 146.579 L101.756 150.514 L79.8114 150.514 L79.8114 146.579 Q82.4734 143.824 87.0567 139.195 Q91.6632 134.542 92.8438 133.2 Q95.0891 130.676 95.9687 128.94 Q96.8715 127.181 96.8715 125.491 Q96.8715 122.737 94.9271 121.001 Q93.0058 119.264 89.904 119.264 Q87.7049 119.264 85.2512 120.028 Q82.8207 120.792 80.0429 122.343 L80.0429 117.621 Q82.867 116.487 85.3206 115.908 Q87.7743 115.329 89.8114 115.329 Q95.1817 115.329 98.3761 118.014 Q101.571 120.7 101.571 125.19 Q101.571 127.32 100.76 129.241 Q99.9733 131.139 97.8669 133.732 Q97.2882 134.403 94.1863 137.621 Q91.0845 140.815 85.4364 146.579 Z\" fill=\"#000000\" fill-rule=\"evenodd\" fill-opacity=\"1\" /><path clip-path=\"url(#clip900)\" d=\"M 0 0 M106.825 144.635 L111.709 144.635 L111.709 150.514 L106.825 150.514 L106.825 144.635 Z\" fill=\"#000000\" fill-rule=\"evenodd\" fill-opacity=\"1\" /><path clip-path=\"url(#clip900)\" d=\"M 0 0 M116.825 115.954 L135.181 115.954 L135.181 119.889 L121.107 119.889 L121.107 128.362 Q122.126 128.014 123.145 127.852 Q124.163 127.667 125.182 127.667 Q130.969 127.667 134.348 130.838 Q137.728 134.01 137.728 139.426 Q137.728 145.005 134.256 148.107 Q130.783 151.186 124.464 151.186 Q122.288 151.186 120.02 150.815 Q117.774 150.445 115.367 149.704 L115.367 145.005 Q117.45 146.139 119.672 146.695 Q121.895 147.25 124.371 147.25 Q128.376 147.25 130.714 145.144 Q133.052 143.037 133.052 139.426 Q133.052 135.815 130.714 133.709 Q128.376 131.602 124.371 131.602 Q122.496 131.602 120.621 132.019 Q118.77 132.436 116.825 133.315 L116.825 115.954 Z\" fill=\"#000000\" fill-rule=\"evenodd\" fill-opacity=\"1\" /><polyline clip-path=\"url(#clip902)\" style=\"stroke:#800080; stroke-width:4; stroke-opacity:1; fill:none\" points=\"\n  235.398,450.04 256.163,631.072 276.927,631.072 297.692,721.588 318.456,721.588 339.221,721.588 359.985,721.588 380.75,812.104 401.514,812.104 422.279,902.62 \n  443.044,902.62 463.808,993.136 484.573,993.136 505.337,993.136 526.102,993.136 546.866,993.136 567.631,993.136 588.395,1083.65 609.16,1083.65 629.924,1174.17 \n  650.689,1174.17 671.453,1174.17 692.218,1174.17 712.982,1174.17 733.747,1264.68 754.511,1264.68 775.276,1264.68 796.04,1264.68 816.805,1264.68 837.569,1264.68 \n  858.334,1264.68 879.098,1264.68 899.863,1264.68 920.627,1264.68 941.392,1264.68 962.156,1083.65 982.921,1083.65 1003.69,902.62 1024.45,993.136 1045.21,1083.65 \n  1065.98,1083.65 1086.74,1083.65 1107.51,1083.65 1128.27,1083.65 1149.04,1174.17 1169.8,1264.68 1190.57,1264.68 1211.33,1264.68 1232.1,1264.68 1252.86,1264.68 \n  1273.62,1264.68 1294.39,1355.2 1315.15,1355.2 1335.92,1174.17 1356.68,1264.68 1377.45,1083.65 1398.21,902.62 1418.98,902.62 1439.74,902.62 1460.5,993.136 \n  1481.27,993.136 1502.03,993.136 1522.8,993.136 1543.56,812.104 1564.33,812.104 1585.09,812.104 1605.86,812.104 1626.62,812.104 1647.39,812.104 1668.15,812.104 \n  1688.91,631.072 1709.68,450.04 1730.44,450.04 1751.21,540.556 1771.97,359.524 1792.74,450.04 1813.5,540.556 1834.27,540.556 1855.03,540.556 1875.8,631.072 \n  1896.56,631.072 1917.32,631.072 1938.09,450.04 1958.85,450.04 1979.62,450.04 2000.38,269.008 2021.15,269.008 2041.91,269.008 2062.68,269.008 2083.44,269.008 \n  2104.2,269.008 2124.97,359.524 2145.73,450.04 2166.5,450.04 2187.26,450.04 2208.03,540.556 2228.79,540.556 2249.56,359.524 2270.32,359.524 2291.09,178.492 \n  \n  \"/>\n<polyline clip-path=\"url(#clip902)\" style=\"stroke:#008000; stroke-width:4; stroke-opacity:1; fill:none\" points=\"\n  235.398,450.04 256.163,450.04 276.927,721.588 297.692,631.072 318.456,540.556 339.221,450.04 359.985,631.072 380.75,540.556 401.514,540.556 422.279,450.04 \n  443.044,450.04 463.808,359.524 484.573,359.524 505.337,359.524 526.102,269.008 546.866,178.492 567.631,178.492 588.395,87.9763 609.16,269.008 629.924,178.492 \n  650.689,359.524 671.453,269.008 692.218,269.008 712.982,450.04 733.747,359.524 754.511,359.524 775.276,540.556 796.04,450.04 816.805,631.072 837.569,631.072 \n  858.334,812.104 879.098,812.104 899.863,993.136 920.627,993.136 941.392,993.136 962.156,993.136 982.921,993.136 1003.69,993.136 1024.45,902.62 1045.21,812.104 \n  1065.98,812.104 1086.74,812.104 1107.51,721.588 1128.27,721.588 1149.04,631.072 1169.8,540.556 1190.57,450.04 1211.33,450.04 1232.1,450.04 1252.86,631.072 \n  1273.62,812.104 1294.39,721.588 1315.15,631.072 1335.92,631.072 1356.68,540.556 1377.45,540.556 1398.21,540.556 1418.98,721.588 1439.74,902.62 1460.5,812.104 \n  1481.27,812.104 1502.03,993.136 1522.8,993.136 1543.56,993.136 1564.33,902.62 1585.09,1083.65 1605.86,1264.68 1626.62,1264.68 1647.39,1445.72 1668.15,1445.72 \n  1688.91,1445.72 1709.68,1445.72 1730.44,1445.72 1751.21,1355.2 1771.97,1355.2 1792.74,1264.68 1813.5,1174.17 1834.27,1355.2 1855.03,1264.68 1875.8,1174.17 \n  1896.56,1174.17 1917.32,1083.65 1938.09,1083.65 1958.85,1264.68 1979.62,1174.17 2000.38,1174.17 2021.15,1083.65 2041.91,1083.65 2062.68,1264.68 2083.44,1264.68 \n  2104.2,1445.72 2124.97,1355.2 2145.73,1264.68 2166.5,1264.68 2187.26,1264.68 2208.03,1174.17 2228.79,1083.65 2249.56,1083.65 2270.32,1083.65 2291.09,1083.65 \n  \n  \"/>\n<path clip-path=\"url(#clip900)\" d=\"\nM1831.99 276.658 L2280.12 276.658 L2280.12 95.2176 L1831.99 95.2176  Z\n  \" fill=\"#ffffff\" fill-rule=\"evenodd\" fill-opacity=\"1\"/>\n<polyline clip-path=\"url(#clip900)\" style=\"stroke:#000000; stroke-width:4; stroke-opacity:1; fill:none\" points=\"\n  1831.99,276.658 2280.12,276.658 2280.12,95.2176 1831.99,95.2176 1831.99,276.658 \n  \"/>\n<polyline clip-path=\"url(#clip900)\" style=\"stroke:#800080; stroke-width:4; stroke-opacity:1; fill:none\" points=\"\n  1856.2,155.698 2001.47,155.698 \n  \"/>\n<path clip-path=\"url(#clip900)\" d=\"M 0 0 M2044.59 159.714 Q2044.59 155.084 2042.67 152.538 Q2040.77 149.992 2037.32 149.992 Q2033.9 149.992 2031.98 152.538 Q2030.08 155.084 2030.08 159.714 Q2030.08 164.32 2031.98 166.866 Q2033.9 169.413 2037.32 169.413 Q2040.77 169.413 2042.67 166.866 Q2044.59 164.32 2044.59 159.714 M2048.85 169.76 Q2048.85 176.38 2045.91 179.598 Q2042.97 182.839 2036.91 182.839 Q2034.66 182.839 2032.67 182.491 Q2030.68 182.167 2028.81 181.473 L2028.81 177.329 Q2030.68 178.348 2032.51 178.834 Q2034.34 179.32 2036.24 179.32 Q2040.43 179.32 2042.51 177.121 Q2044.59 174.945 2044.59 170.524 L2044.59 168.417 Q2043.27 170.709 2041.21 171.843 Q2039.15 172.978 2036.28 172.978 Q2031.51 172.978 2028.6 169.343 Q2025.68 165.709 2025.68 159.714 Q2025.68 153.695 2028.6 150.061 Q2031.51 146.427 2036.28 146.427 Q2039.15 146.427 2041.21 147.561 Q2043.27 148.695 2044.59 150.987 L2044.59 147.052 L2048.85 147.052 L2048.85 169.76 Z\" fill=\"#000000\" fill-rule=\"evenodd\" fill-opacity=\"1\" /><path clip-path=\"url(#clip900)\" d=\"M 0 0 M2063.37 150.038 Q2059.94 150.038 2057.95 152.723 Q2055.96 155.385 2055.96 160.038 Q2055.96 164.691 2057.93 167.376 Q2059.92 170.038 2063.37 170.038 Q2066.77 170.038 2068.76 167.353 Q2070.75 164.667 2070.75 160.038 Q2070.75 155.431 2068.76 152.746 Q2066.77 150.038 2063.37 150.038 M2063.37 146.427 Q2068.92 146.427 2072.09 150.038 Q2075.26 153.649 2075.26 160.038 Q2075.26 166.404 2072.09 170.038 Q2068.92 173.649 2063.37 173.649 Q2057.79 173.649 2054.62 170.038 Q2051.47 166.404 2051.47 160.038 Q2051.47 153.649 2054.62 150.038 Q2057.79 146.427 2063.37 146.427 Z\" fill=\"#000000\" fill-rule=\"evenodd\" fill-opacity=\"1\" /><path clip-path=\"url(#clip900)\" d=\"M 0 0 M2079.87 136.959 L2084.13 136.959 L2084.13 150.894 L2087.02 148.811 L2088.78 151.265 L2084.13 154.529 L2084.13 172.978 L2079.87 172.978 L2079.87 157.561 L2077.02 159.598 L2075.31 157.144 L2079.87 153.88 L2079.87 136.959 Z\" fill=\"#000000\" fill-rule=\"evenodd\" fill-opacity=\"1\" /><path clip-path=\"url(#clip900)\" d=\"M 0 0 M2115.43 158.95 L2115.43 161.033 L2095.84 161.033 Q2096.12 165.431 2098.48 167.746 Q2100.87 170.038 2105.1 170.038 Q2107.56 170.038 2109.85 169.436 Q2112.16 168.834 2114.43 167.63 L2114.43 171.658 Q2112.14 172.63 2109.73 173.14 Q2107.32 173.649 2104.85 173.649 Q2098.64 173.649 2095.01 170.038 Q2091.4 166.427 2091.4 160.269 Q2091.4 153.904 2094.82 150.177 Q2098.27 146.427 2104.11 146.427 Q2109.34 146.427 2112.37 149.806 Q2115.43 153.163 2115.43 158.95 M2111.17 157.7 Q2111.12 154.205 2109.2 152.121 Q2107.3 150.038 2104.15 150.038 Q2100.59 150.038 2098.44 152.052 Q2096.31 154.066 2095.98 157.723 L2111.17 157.7 M2107.67 172.978 L2110.43 172.978 Q2109.38 174.39 2108.88 175.408 Q2108.39 176.427 2108.39 177.144 Q2108.39 178.209 2109.01 178.741 Q2109.66 179.274 2110.91 179.274 Q2111.65 179.274 2112.37 179.089 Q2113.09 178.927 2113.81 178.579 L2113.81 181.658 Q2112.93 181.89 2112.14 182.005 Q2111.35 182.121 2110.66 182.121 Q2107.83 182.121 2106.49 181.103 Q2105.17 180.107 2105.17 177.954 Q2105.17 176.843 2105.77 175.616 Q2106.4 174.413 2107.67 172.978 Z\" fill=\"#000000\" fill-rule=\"evenodd\" fill-opacity=\"1\" /><path clip-path=\"url(#clip900)\" d=\"M 0 0 M2138.5 160.038 Q2138.5 155.339 2136.56 152.677 Q2134.64 149.992 2131.26 149.992 Q2127.88 149.992 2125.94 152.677 Q2124.01 155.339 2124.01 160.038 Q2124.01 164.737 2125.94 167.422 Q2127.88 170.084 2131.26 170.084 Q2134.64 170.084 2136.56 167.422 Q2138.5 164.737 2138.5 160.038 M2124.01 150.987 Q2125.36 148.672 2127.39 147.561 Q2129.45 146.427 2132.3 146.427 Q2137.02 146.427 2139.96 150.177 Q2142.93 153.927 2142.93 160.038 Q2142.93 166.149 2139.96 169.899 Q2137.02 173.649 2132.3 173.649 Q2129.45 173.649 2127.39 172.538 Q2125.36 171.403 2124.01 169.089 L2124.01 172.978 L2119.73 172.978 L2119.73 136.959 L2124.01 136.959 L2124.01 150.987 Z\" fill=\"#000000\" fill-rule=\"evenodd\" fill-opacity=\"1\" /><path clip-path=\"url(#clip900)\" d=\"M 0 0 M2147.39 147.052 L2151.65 147.052 L2151.65 172.978 L2147.39 172.978 L2147.39 147.052 M2147.39 136.959 L2151.65 136.959 L2151.65 142.353 L2147.39 142.353 L2147.39 136.959 Z\" fill=\"#000000\" fill-rule=\"evenodd\" fill-opacity=\"1\" /><path clip-path=\"url(#clip900)\" d=\"M 0 0 M2178.3 158.95 L2178.3 161.033 L2158.71 161.033 Q2158.99 165.431 2161.35 167.746 Q2163.74 170.038 2167.97 170.038 Q2170.43 170.038 2172.72 169.436 Q2175.03 168.834 2177.3 167.63 L2177.3 171.658 Q2175.01 172.63 2172.6 173.14 Q2170.19 173.649 2167.72 173.649 Q2161.51 173.649 2157.88 170.038 Q2154.27 166.427 2154.27 160.269 Q2154.27 153.904 2157.69 150.177 Q2161.14 146.427 2166.98 146.427 Q2172.21 146.427 2175.24 149.806 Q2178.3 153.163 2178.3 158.95 M2174.04 157.7 Q2173.99 154.205 2172.07 152.121 Q2170.17 150.038 2167.02 150.038 Q2163.46 150.038 2161.31 152.052 Q2159.18 154.066 2158.85 157.723 L2174.04 157.7 Z\" fill=\"#000000\" fill-rule=\"evenodd\" fill-opacity=\"1\" /><polyline clip-path=\"url(#clip900)\" style=\"stroke:#008000; stroke-width:4; stroke-opacity:1; fill:none\" points=\"\n  1856.2,216.178 2001.47,216.178 \n  \"/>\n<path clip-path=\"url(#clip900)\" d=\"M 0 0 M2031.01 207.532 L2035.26 207.532 L2035.26 233.921 Q2035.26 238.874 2033.37 241.096 Q2031.49 243.319 2027.3 243.319 L2025.68 243.319 L2025.68 239.708 L2026.82 239.708 Q2029.25 239.708 2030.13 238.573 Q2031.01 237.462 2031.01 233.921 L2031.01 207.532 M2031.01 197.439 L2035.26 197.439 L2035.26 202.833 L2031.01 202.833 L2031.01 197.439 Z\" fill=\"#000000\" fill-rule=\"evenodd\" fill-opacity=\"1\" /><path clip-path=\"url(#clip900)\" d=\"M 0 0 M2051.51 220.425 Q2046.35 220.425 2044.36 221.606 Q2042.37 222.786 2042.37 225.634 Q2042.37 227.902 2043.85 229.245 Q2045.36 230.564 2047.93 230.564 Q2051.47 230.564 2053.6 228.064 Q2055.75 225.541 2055.75 221.374 L2055.75 220.425 L2051.51 220.425 M2060.01 218.666 L2060.01 233.458 L2055.75 233.458 L2055.75 229.522 Q2054.29 231.883 2052.12 233.018 Q2049.94 234.129 2046.79 234.129 Q2042.81 234.129 2040.45 231.907 Q2038.11 229.661 2038.11 225.911 Q2038.11 221.536 2041.03 219.314 Q2043.97 217.092 2049.78 217.092 L2055.75 217.092 L2055.75 216.675 Q2055.75 213.735 2053.81 212.138 Q2051.88 210.518 2048.39 210.518 Q2046.17 210.518 2044.06 211.05 Q2041.95 211.583 2040.01 212.647 L2040.01 208.712 Q2042.35 207.81 2044.55 207.37 Q2046.75 206.907 2048.83 206.907 Q2054.45 206.907 2057.23 209.823 Q2060.01 212.74 2060.01 218.666 Z\" fill=\"#000000\" fill-rule=\"evenodd\" fill-opacity=\"1\" /><path clip-path=\"url(#clip900)\" d=\"M 0 0 M2081.01 208.296 L2081.01 212.323 Q2079.2 211.397 2077.26 210.935 Q2075.31 210.472 2073.23 210.472 Q2070.06 210.472 2068.46 211.444 Q2066.88 212.416 2066.88 214.36 Q2066.88 215.842 2068.02 216.698 Q2069.15 217.532 2072.58 218.296 L2074.04 218.62 Q2078.57 219.592 2080.47 221.374 Q2082.39 223.134 2082.39 226.305 Q2082.39 229.916 2079.52 232.022 Q2076.68 234.129 2071.68 234.129 Q2069.59 234.129 2067.32 233.712 Q2065.08 233.319 2062.58 232.508 L2062.58 228.11 Q2064.94 229.337 2067.23 229.962 Q2069.52 230.564 2071.77 230.564 Q2074.78 230.564 2076.4 229.546 Q2078.02 228.504 2078.02 226.629 Q2078.02 224.893 2076.84 223.967 Q2075.68 223.041 2071.72 222.184 L2070.24 221.837 Q2066.28 221.004 2064.52 219.291 Q2062.76 217.555 2062.76 214.546 Q2062.76 210.888 2065.36 208.898 Q2067.95 206.907 2072.72 206.907 Q2075.08 206.907 2077.16 207.254 Q2079.25 207.601 2081.01 208.296 Z\" fill=\"#000000\" fill-rule=\"evenodd\" fill-opacity=\"1\" /><path clip-path=\"url(#clip900)\" d=\"M 0 0 M2091.07 200.171 L2091.07 207.532 L2099.85 207.532 L2099.85 210.842 L2091.07 210.842 L2091.07 224.916 Q2091.07 228.087 2091.93 228.99 Q2092.81 229.893 2095.47 229.893 L2099.85 229.893 L2099.85 233.458 L2095.47 233.458 Q2090.54 233.458 2088.67 231.629 Q2086.79 229.777 2086.79 224.916 L2086.79 210.842 L2083.67 210.842 L2083.67 207.532 L2086.79 207.532 L2086.79 200.171 L2091.07 200.171 Z\" fill=\"#000000\" fill-rule=\"evenodd\" fill-opacity=\"1\" /><path clip-path=\"url(#clip900)\" d=\"M 0 0 M2119.34 211.513 Q2118.62 211.097 2117.76 210.911 Q2116.93 210.703 2115.91 210.703 Q2112.3 210.703 2110.36 213.064 Q2108.44 215.402 2108.44 219.8 L2108.44 233.458 L2104.15 233.458 L2104.15 207.532 L2108.44 207.532 L2108.44 211.56 Q2109.78 209.198 2111.93 208.064 Q2114.08 206.907 2117.16 206.907 Q2117.6 206.907 2118.13 206.976 Q2118.67 207.023 2119.32 207.138 L2119.34 211.513 Z\" fill=\"#000000\" fill-rule=\"evenodd\" fill-opacity=\"1\" /><path clip-path=\"url(#clip900)\" d=\"M 0 0 M2121.95 207.532 L2142.19 207.532 L2142.19 211.421 L2126.17 230.055 L2142.19 230.055 L2142.19 233.458 L2121.38 233.458 L2121.38 229.569 L2137.39 210.935 L2121.95 210.935 L2121.95 207.532 Z\" fill=\"#000000\" fill-rule=\"evenodd\" fill-opacity=\"1\" /><path clip-path=\"url(#clip900)\" d=\"M 0 0 M2168.83 219.43 L2168.83 221.513 L2149.25 221.513 Q2149.52 225.911 2151.88 228.226 Q2154.27 230.518 2158.5 230.518 Q2160.96 230.518 2163.25 229.916 Q2165.56 229.314 2167.83 228.11 L2167.83 232.138 Q2165.54 233.11 2163.13 233.62 Q2160.73 234.129 2158.25 234.129 Q2152.05 234.129 2148.41 230.518 Q2144.8 226.907 2144.8 220.749 Q2144.8 214.384 2148.23 210.657 Q2151.68 206.907 2157.51 206.907 Q2162.74 206.907 2165.77 210.286 Q2168.83 213.643 2168.83 219.43 M2164.57 218.18 Q2164.52 214.685 2162.6 212.601 Q2160.7 210.518 2157.56 210.518 Q2153.99 210.518 2151.84 212.532 Q2149.71 214.546 2149.38 218.203 L2164.57 218.18 M2161.07 233.458 L2163.83 233.458 Q2162.79 234.87 2162.28 235.888 Q2161.79 236.907 2161.79 237.624 Q2161.79 238.689 2162.42 239.221 Q2163.06 239.754 2164.31 239.754 Q2165.06 239.754 2165.77 239.569 Q2166.49 239.407 2167.21 239.059 L2167.21 242.138 Q2166.33 242.37 2165.54 242.485 Q2164.75 242.601 2164.06 242.601 Q2161.24 242.601 2159.89 241.583 Q2158.57 240.587 2158.57 238.434 Q2158.57 237.323 2159.18 236.096 Q2159.8 234.893 2161.07 233.458 Z\" fill=\"#000000\" fill-rule=\"evenodd\" fill-opacity=\"1\" /><path clip-path=\"url(#clip900)\" d=\"M 0 0 M2191.91 220.518 Q2191.91 215.819 2189.96 213.157 Q2188.04 210.472 2184.66 210.472 Q2181.28 210.472 2179.34 213.157 Q2177.42 215.819 2177.42 220.518 Q2177.42 225.217 2179.34 227.902 Q2181.28 230.564 2184.66 230.564 Q2188.04 230.564 2189.96 227.902 Q2191.91 225.217 2191.91 220.518 M2177.42 211.467 Q2178.76 209.152 2180.8 208.041 Q2182.86 206.907 2185.7 206.907 Q2190.43 206.907 2193.37 210.657 Q2196.33 214.407 2196.33 220.518 Q2196.33 226.629 2193.37 230.379 Q2190.43 234.129 2185.7 234.129 Q2182.86 234.129 2180.8 233.018 Q2178.76 231.883 2177.42 229.569 L2177.42 233.458 L2173.13 233.458 L2173.13 197.439 L2177.42 197.439 L2177.42 211.467 Z\" fill=\"#000000\" fill-rule=\"evenodd\" fill-opacity=\"1\" /><path clip-path=\"url(#clip900)\" d=\"M 0 0 M2200.8 207.532 L2205.06 207.532 L2205.06 233.458 L2200.8 233.458 L2200.8 207.532 M2200.8 197.439 L2205.06 197.439 L2205.06 202.833 L2200.8 202.833 L2200.8 197.439 Z\" fill=\"#000000\" fill-rule=\"evenodd\" fill-opacity=\"1\" /><path clip-path=\"url(#clip900)\" d=\"M 0 0 M2231.7 219.43 L2231.7 221.513 L2212.12 221.513 Q2212.39 225.911 2214.75 228.226 Q2217.14 230.518 2221.37 230.518 Q2223.83 230.518 2226.12 229.916 Q2228.43 229.314 2230.7 228.11 L2230.7 232.138 Q2228.41 233.11 2226 233.62 Q2223.6 234.129 2221.12 234.129 Q2214.92 234.129 2211.28 230.518 Q2207.67 226.907 2207.67 220.749 Q2207.67 214.384 2211.1 210.657 Q2214.55 206.907 2220.38 206.907 Q2225.61 206.907 2228.64 210.286 Q2231.7 213.643 2231.7 219.43 M2227.44 218.18 Q2227.39 214.685 2225.47 212.601 Q2223.57 210.518 2220.43 210.518 Q2216.86 210.518 2214.71 212.532 Q2212.58 214.546 2212.25 218.203 L2227.44 218.18 Z\" fill=\"#000000\" fill-rule=\"evenodd\" fill-opacity=\"1\" /></svg>\n"
     },
     "metadata": {},
     "execution_count": 18
    }
   ],
   "source": [
    "A = action(9,9,30,30, 100, zeros(Int64, 100, 2))\n",
    "plot(1:size(A)[1], A[:, 1], label=\"gołębie\", color= :purple)\n",
    "plot!(1:size(A)[1], A[:, 2], label=\"jastrzębie\", color= :green)"
   ]
  },
  {
   "cell_type": "code",
   "execution_count": 33,
   "metadata": {},
   "outputs": [
    {
     "data": {
      "application/vnd.webio.node+json": {
       "children": [
        {
         "children": [
          {
           "children": [
            {
             "children": [
              {
               "children": [
                {
                 "children": [
                  "time"
                 ],
                 "instanceArgs": {
                  "namespace": "html",
                  "tag": "label"
                 },
                 "nodeType": "DOM",
                 "props": {
                  "className": "interact ",
                  "style": {
                   "padding": "5px 10px 0px 10px"
                  }
                 },
                 "type": "node"
                }
               ],
               "instanceArgs": {
                "namespace": "html",
                "tag": "div"
               },
               "nodeType": "DOM",
               "props": {
                "className": "interact-flex-row-left"
               },
               "type": "node"
              },
              {
               "children": [
                {
                 "children": [],
                 "instanceArgs": {
                  "namespace": "html",
                  "tag": "input"
                 },
                 "nodeType": "DOM",
                 "props": {
                  "attributes": {
                   "data-bind": "numericValue: index, valueUpdate: 'input', event: {change: function (){this.changes(this.changes()+1)}}",
                   "orient": "horizontal",
                   "type": "range"
                  },
                  "className": "slider slider is-fullwidth",
                  "max": 99,
                  "min": 1,
                  "step": 1,
                  "style": {}
                 },
                 "type": "node"
                }
               ],
               "instanceArgs": {
                "namespace": "html",
                "tag": "div"
               },
               "nodeType": "DOM",
               "props": {
                "className": "interact-flex-row-center"
               },
               "type": "node"
              },
              {
               "children": [
                {
                 "children": [],
                 "instanceArgs": {
                  "namespace": "html",
                  "tag": "p"
                 },
                 "nodeType": "DOM",
                 "props": {
                  "attributes": {
                   "data-bind": "text: formatted_val"
                  }
                 },
                 "type": "node"
                }
               ],
               "instanceArgs": {
                "namespace": "html",
                "tag": "div"
               },
               "nodeType": "DOM",
               "props": {
                "className": "interact-flex-row-right"
               },
               "type": "node"
              }
             ],
             "instanceArgs": {
              "namespace": "html",
              "tag": "div"
             },
             "nodeType": "DOM",
             "props": {
              "className": "interact-flex-row interact-widget"
             },
             "type": "node"
            }
           ],
           "instanceArgs": {
            "handlers": {
             "changes": [
              "(function (val){return (val!=this.model[\"changes\"]()) ? (this.valueFromJulia[\"changes\"]=true, this.model[\"changes\"](val)) : undefined})"
             ],
             "index": [
              "(function (val){return (val!=this.model[\"index\"]()) ? (this.valueFromJulia[\"index\"]=true, this.model[\"index\"](val)) : undefined})"
             ]
            },
            "id": "222872386228263200",
            "imports": {
             "data": [
              {
               "name": "knockout",
               "type": "js",
               "url": "/assetserver/fd91bcc76f200e46e5681854927159f78397d01c-knockout.js"
              },
              {
               "name": "knockout_punches",
               "type": "js",
               "url": "/assetserver/0771d715f47990fd6a20af05579c332026637b1d-knockout_punches.js"
              },
              {
               "name": null,
               "type": "js",
               "url": "/assetserver/e56fcd69f839599425572dc2cffb9ce416a547ec-all.js"
              },
              {
               "name": null,
               "type": "css",
               "url": "/assetserver/f03a11104aa67cefd9b6e4d413d413b5ef056233-style.css"
              },
              {
               "name": null,
               "type": "css",
               "url": "/assetserver/e60d8885c5ad87196b49c3e741a5de92d7eeea1c-bulma_confined.min.css"
              }
             ],
             "type": "async_block"
            },
            "mount_callbacks": [
             "function () {\n    var handler = (function (ko, koPunches) {\n    ko.punches.enableAll();\n    ko.bindingHandlers.numericValue = {\n        init: function(element, valueAccessor, allBindings, data, context) {\n            var stringified = ko.observable(ko.unwrap(valueAccessor()));\n            stringified.subscribe(function(value) {\n                var val = parseFloat(value);\n                if (!isNaN(val)) {\n                    valueAccessor()(val);\n                }\n            });\n            valueAccessor().subscribe(function(value) {\n                var str = JSON.stringify(value);\n                if ((str == \"0\") && ([\"-0\", \"-0.\"].indexOf(stringified()) >= 0))\n                     return;\n                 if ([\"null\", \"\"].indexOf(str) >= 0)\n                     return;\n                stringified(str);\n            });\n            ko.applyBindingsToNode(\n                element,\n                {\n                    value: stringified,\n                    valueUpdate: allBindings.get('valueUpdate'),\n                },\n                context,\n            );\n        }\n    };\n    var json_data = {\"formatted_vals\":[\"2\",\"3\",\"4\",\"5\",\"6\",\"7\",\"8\",\"9\",\"10\",\"11\",\"12\",\"13\",\"14\",\"15\",\"16\",\"17\",\"18\",\"19\",\"20\",\"21\",\"22\",\"23\",\"24\",\"25\",\"26\",\"27\",\"28\",\"29\",\"30\",\"31\",\"32\",\"33\",\"34\",\"35\",\"36\",\"37\",\"38\",\"39\",\"40\",\"41\",\"42\",\"43\",\"44\",\"45\",\"46\",\"47\",\"48\",\"49\",\"50\",\"51\",\"52\",\"53\",\"54\",\"55\",\"56\",\"57\",\"58\",\"59\",\"60\",\"61\",\"62\",\"63\",\"64\",\"65\",\"66\",\"67\",\"68\",\"69\",\"70\",\"71\",\"72\",\"73\",\"74\",\"75\",\"76\",\"77\",\"78\",\"79\",\"80\",\"81\",\"82\",\"83\",\"84\",\"85\",\"86\",\"87\",\"88\",\"89\",\"90\",\"91\",\"92\",\"93\",\"94\",\"95\",\"96\",\"97\",\"98\",\"99\",\"100\"],\"changes\":WebIO.getval({\"name\":\"changes\",\"scope\":\"222872386228263200\",\"id\":\"9657432480842699360\",\"type\":\"observable\"}),\"index\":WebIO.getval({\"name\":\"index\",\"scope\":\"222872386228263200\",\"id\":\"9906375580117670844\",\"type\":\"observable\"})};\n    var self = this;\n    function AppViewModel() {\n        for (var key in json_data) {\n            var el = json_data[key];\n            this[key] = Array.isArray(el) ? ko.observableArray(el) : ko.observable(el);\n        }\n        \n        [this[\"formatted_val\"]=ko.computed(    function(){\n        return this.formatted_vals()[parseInt(this.index())-(1)];\n    }\n,this)]\n        [this[\"changes\"].subscribe((function (val){!(this.valueFromJulia[\"changes\"]) ? (WebIO.setval({\"name\":\"changes\",\"scope\":\"222872386228263200\",\"id\":\"9657432480842699360\",\"type\":\"observable\"},val)) : undefined; return this.valueFromJulia[\"changes\"]=false}),self),this[\"index\"].subscribe((function (val){!(this.valueFromJulia[\"index\"]) ? (WebIO.setval({\"name\":\"index\",\"scope\":\"222872386228263200\",\"id\":\"9906375580117670844\",\"type\":\"observable\"},val)) : undefined; return this.valueFromJulia[\"index\"]=false}),self)]\n        \n    }\n    self.model = new AppViewModel();\n    self.valueFromJulia = {};\n    for (var key in json_data) {\n        self.valueFromJulia[key] = false;\n    }\n    ko.applyBindings(self.model, self.dom);\n}\n);\n    (WebIO.importBlock({\"data\":[{\"name\":\"knockout\",\"type\":\"js\",\"url\":\"/assetserver/fd91bcc76f200e46e5681854927159f78397d01c-knockout.js\"},{\"name\":\"knockout_punches\",\"type\":\"js\",\"url\":\"/assetserver/0771d715f47990fd6a20af05579c332026637b1d-knockout_punches.js\"}],\"type\":\"async_block\"})).then((imports) => handler.apply(this, imports));\n}\n"
            ],
            "observables": {
             "changes": {
              "id": "9657432480842699360",
              "sync": false,
              "value": 0
             },
             "index": {
              "id": "9906375580117670844",
              "sync": true,
              "value": 50
             }
            },
            "systemjs_options": null
           },
           "nodeType": "Scope",
           "props": {},
           "type": "node"
          }
         ],
         "instanceArgs": {
          "namespace": "html",
          "tag": "div"
         },
         "nodeType": "DOM",
         "props": {
          "className": "field interact-widget"
         },
         "type": "node"
        },
        {
         "children": [
          {
           "children": [],
           "instanceArgs": {
            "id": "1006674392131575226",
            "name": "obs-node"
           },
           "nodeType": "ObservableNode",
           "props": {},
           "type": "node"
          }
         ],
         "instanceArgs": {
          "handlers": {},
          "id": "10771739026256342081",
          "imports": {
           "data": [],
           "type": "async_block"
          },
          "mount_callbacks": [],
          "observables": {
           "obs-node": {
            "id": "1006674392131575226",
            "sync": false,
            "value": {
             "children": [
              {
               "children": [],
               "instanceArgs": {
                "namespace": "html",
                "tag": "div"
               },
               "nodeType": "DOM",
               "props": {
                "setInnerHtml": "<?xml version=\"1.0\" encoding=\"utf-8\"?>\n<svg xmlns=\"http://www.w3.org/2000/svg\" xmlns:xlink=\"http://www.w3.org/1999/xlink\" width=\"600\" height=\"400\" viewBox=\"0 0 2400 1600\">\n<defs>\n  <clipPath id=\"clip240\">\n    <rect x=\"0\" y=\"0\" width=\"2400\" height=\"1600\"/>\n  </clipPath>\n</defs>\n<path clip-path=\"url(#clip240)\" d=\"\nM0 1600 L2400 1600 L2400 0 L0 0  Z\n  \" fill=\"#ffffff\" fill-rule=\"evenodd\" fill-opacity=\"1\"/>\n<defs>\n  <clipPath id=\"clip241\">\n    <rect x=\"480\" y=\"0\" width=\"1681\" height=\"1600\"/>\n  </clipPath>\n</defs>\n<path clip-path=\"url(#clip240)\" d=\"\nM136.76 1486.45 L2352.76 1486.45 L2352.76 47.2441 L136.76 47.2441  Z\n  \" fill=\"#ffffff\" fill-rule=\"evenodd\" fill-opacity=\"1\"/>\n<defs>\n  <clipPath id=\"clip242\">\n    <rect x=\"136\" y=\"47\" width=\"2217\" height=\"1440\"/>\n  </clipPath>\n</defs>\n<polyline clip-path=\"url(#clip242)\" style=\"stroke:#000000; stroke-width:2; stroke-opacity:0.1; fill:none\" points=\"\n  157.666,1486.45 157.666,47.2441 \n  \"/>\n<polyline clip-path=\"url(#clip242)\" style=\"stroke:#000000; stroke-width:2; stroke-opacity:0.1; fill:none\" points=\"\n  575.778,1486.45 575.778,47.2441 \n  \"/>\n<polyline clip-path=\"url(#clip242)\" style=\"stroke:#000000; stroke-width:2; stroke-opacity:0.1; fill:none\" points=\"\n  993.891,1486.45 993.891,47.2441 \n  \"/>\n<polyline clip-path=\"url(#clip242)\" style=\"stroke:#000000; stroke-width:2; stroke-opacity:0.1; fill:none\" points=\"\n  1412,1486.45 1412,47.2441 \n  \"/>\n<polyline clip-path=\"url(#clip242)\" style=\"stroke:#000000; stroke-width:2; stroke-opacity:0.1; fill:none\" points=\"\n  1830.12,1486.45 1830.12,47.2441 \n  \"/>\n<polyline clip-path=\"url(#clip242)\" style=\"stroke:#000000; stroke-width:2; stroke-opacity:0.1; fill:none\" points=\"\n  2248.23,1486.45 2248.23,47.2441 \n  \"/>\n<polyline clip-path=\"url(#clip240)\" style=\"stroke:#000000; stroke-width:4; stroke-opacity:1; fill:none\" points=\"\n  136.76,1486.45 2352.76,1486.45 \n  \"/>\n<polyline clip-path=\"url(#clip240)\" style=\"stroke:#000000; stroke-width:4; stroke-opacity:1; fill:none\" points=\"\n  157.666,1486.45 157.666,1469.18 \n  \"/>\n<polyline clip-path=\"url(#clip240)\" style=\"stroke:#000000; stroke-width:4; stroke-opacity:1; fill:none\" points=\"\n  575.778,1486.45 575.778,1469.18 \n  \"/>\n<polyline clip-path=\"url(#clip240)\" style=\"stroke:#000000; stroke-width:4; stroke-opacity:1; fill:none\" points=\"\n  993.891,1486.45 993.891,1469.18 \n  \"/>\n<polyline clip-path=\"url(#clip240)\" style=\"stroke:#000000; stroke-width:4; stroke-opacity:1; fill:none\" points=\"\n  1412,1486.45 1412,1469.18 \n  \"/>\n<polyline clip-path=\"url(#clip240)\" style=\"stroke:#000000; stroke-width:4; stroke-opacity:1; fill:none\" points=\"\n  1830.12,1486.45 1830.12,1469.18 \n  \"/>\n<polyline clip-path=\"url(#clip240)\" style=\"stroke:#000000; stroke-width:4; stroke-opacity:1; fill:none\" points=\"\n  2248.23,1486.45 2248.23,1469.18 \n  \"/>\n<path clip-path=\"url(#clip240)\" d=\"M 0 0 M157.666 1515.64 Q154.055 1515.64 152.226 1519.2 Q150.421 1522.75 150.421 1529.87 Q150.421 1536.98 152.226 1540.55 Q154.055 1544.09 157.666 1544.09 Q161.3 1544.09 163.106 1540.55 Q164.934 1536.98 164.934 1529.87 Q164.934 1522.75 163.106 1519.2 Q161.3 1515.64 157.666 1515.64 M157.666 1511.93 Q163.476 1511.93 166.532 1516.54 Q169.61 1521.12 169.61 1529.87 Q169.61 1538.6 166.532 1543.21 Q163.476 1547.79 157.666 1547.79 Q151.856 1547.79 148.777 1543.21 Q145.722 1538.6 145.722 1529.87 Q145.722 1521.12 148.777 1516.54 Q151.856 1511.93 157.666 1511.93 Z\" fill=\"#000000\" fill-rule=\"evenodd\" fill-opacity=\"1\" /><path clip-path=\"url(#clip240)\" d=\"M 0 0 M552.653 1543.18 L560.292 1543.18 L560.292 1516.82 L551.982 1518.49 L551.982 1514.23 L560.246 1512.56 L564.922 1512.56 L564.922 1543.18 L572.561 1543.18 L572.561 1547.12 L552.653 1547.12 L552.653 1543.18 Z\" fill=\"#000000\" fill-rule=\"evenodd\" fill-opacity=\"1\" /><path clip-path=\"url(#clip240)\" d=\"M 0 0 M587.63 1515.64 Q584.019 1515.64 582.19 1519.2 Q580.385 1522.75 580.385 1529.87 Q580.385 1536.98 582.19 1540.55 Q584.019 1544.09 587.63 1544.09 Q591.264 1544.09 593.07 1540.55 Q594.899 1536.98 594.899 1529.87 Q594.899 1522.75 593.07 1519.2 Q591.264 1515.64 587.63 1515.64 M587.63 1511.93 Q593.44 1511.93 596.496 1516.54 Q599.575 1521.12 599.575 1529.87 Q599.575 1538.6 596.496 1543.21 Q593.44 1547.79 587.63 1547.79 Q581.82 1547.79 578.741 1543.21 Q575.686 1538.6 575.686 1529.87 Q575.686 1521.12 578.741 1516.54 Q581.82 1511.93 587.63 1511.93 Z\" fill=\"#000000\" fill-rule=\"evenodd\" fill-opacity=\"1\" /><path clip-path=\"url(#clip240)\" d=\"M 0 0 M975.037 1543.18 L991.356 1543.18 L991.356 1547.12 L969.412 1547.12 L969.412 1543.18 Q972.074 1540.43 976.657 1535.8 Q981.263 1531.15 982.444 1529.81 Q984.689 1527.28 985.569 1525.55 Q986.472 1523.79 986.472 1522.1 Q986.472 1519.34 984.527 1517.61 Q982.606 1515.87 979.504 1515.87 Q977.305 1515.87 974.851 1516.63 Q972.421 1517.4 969.643 1518.95 L969.643 1514.23 Q972.467 1513.09 974.921 1512.51 Q977.375 1511.93 979.412 1511.93 Q984.782 1511.93 987.976 1514.62 Q991.171 1517.31 991.171 1521.8 Q991.171 1523.93 990.361 1525.85 Q989.574 1527.74 987.467 1530.34 Q986.888 1531.01 983.787 1534.23 Q980.685 1537.42 975.037 1543.18 Z\" fill=\"#000000\" fill-rule=\"evenodd\" fill-opacity=\"1\" /><path clip-path=\"url(#clip240)\" d=\"M 0 0 M1006.43 1515.64 Q1002.81 1515.64 1000.99 1519.2 Q999.18 1522.75 999.18 1529.87 Q999.18 1536.98 1000.99 1540.55 Q1002.81 1544.09 1006.43 1544.09 Q1010.06 1544.09 1011.87 1540.55 Q1013.69 1536.98 1013.69 1529.87 Q1013.69 1522.75 1011.87 1519.2 Q1010.06 1515.64 1006.43 1515.64 M1006.43 1511.93 Q1012.24 1511.93 1015.29 1516.54 Q1018.37 1521.12 1018.37 1529.87 Q1018.37 1538.6 1015.29 1543.21 Q1012.24 1547.79 1006.43 1547.79 Q1000.62 1547.79 997.537 1543.21 Q994.481 1538.6 994.481 1529.87 Q994.481 1521.12 997.537 1516.54 Q1000.62 1511.93 1006.43 1511.93 Z\" fill=\"#000000\" fill-rule=\"evenodd\" fill-opacity=\"1\" /><path clip-path=\"url(#clip240)\" d=\"M 0 0 M1402.74 1528.49 Q1406.1 1529.2 1407.98 1531.47 Q1409.87 1533.74 1409.87 1537.07 Q1409.87 1542.19 1406.35 1544.99 Q1402.84 1547.79 1396.36 1547.79 Q1394.18 1547.79 1391.86 1547.35 Q1389.57 1546.93 1387.12 1546.08 L1387.12 1541.56 Q1389.06 1542.7 1391.38 1543.28 Q1393.69 1543.86 1396.22 1543.86 Q1400.61 1543.86 1402.91 1542.12 Q1405.22 1540.38 1405.22 1537.07 Q1405.22 1534.02 1403.07 1532.31 Q1400.94 1530.57 1397.12 1530.57 L1393.09 1530.57 L1393.09 1526.73 L1397.3 1526.73 Q1400.75 1526.73 1402.58 1525.36 Q1404.41 1523.97 1404.41 1521.38 Q1404.41 1518.72 1402.51 1517.31 Q1400.64 1515.87 1397.12 1515.87 Q1395.2 1515.87 1393 1516.29 Q1390.8 1516.7 1388.16 1517.58 L1388.16 1513.42 Q1390.82 1512.68 1393.14 1512.31 Q1395.48 1511.93 1397.54 1511.93 Q1402.86 1511.93 1405.96 1514.37 Q1409.06 1516.77 1409.06 1520.89 Q1409.06 1523.76 1407.42 1525.75 Q1405.78 1527.72 1402.74 1528.49 Z\" fill=\"#000000\" fill-rule=\"evenodd\" fill-opacity=\"1\" /><path clip-path=\"url(#clip240)\" d=\"M 0 0 M1424.94 1515.64 Q1421.33 1515.64 1419.5 1519.2 Q1417.7 1522.75 1417.7 1529.87 Q1417.7 1536.98 1419.5 1540.55 Q1421.33 1544.09 1424.94 1544.09 Q1428.58 1544.09 1430.38 1540.55 Q1432.21 1536.98 1432.21 1529.87 Q1432.21 1522.75 1430.38 1519.2 Q1428.58 1515.64 1424.94 1515.64 M1424.94 1511.93 Q1430.75 1511.93 1433.81 1516.54 Q1436.89 1521.12 1436.89 1529.87 Q1436.89 1538.6 1433.81 1543.21 Q1430.75 1547.79 1424.94 1547.79 Q1419.13 1547.79 1416.05 1543.21 Q1413 1538.6 1413 1529.87 Q1413 1521.12 1416.05 1516.54 Q1419.13 1511.93 1424.94 1511.93 Z\" fill=\"#000000\" fill-rule=\"evenodd\" fill-opacity=\"1\" /><path clip-path=\"url(#clip240)\" d=\"M 0 0 M1819.62 1516.63 L1807.81 1535.08 L1819.62 1535.08 L1819.62 1516.63 M1818.39 1512.56 L1824.27 1512.56 L1824.27 1535.08 L1829.2 1535.08 L1829.2 1538.97 L1824.27 1538.97 L1824.27 1547.12 L1819.62 1547.12 L1819.62 1538.97 L1804.02 1538.97 L1804.02 1534.46 L1818.39 1512.56 Z\" fill=\"#000000\" fill-rule=\"evenodd\" fill-opacity=\"1\" /><path clip-path=\"url(#clip240)\" d=\"M 0 0 M1844.27 1515.64 Q1840.66 1515.64 1838.83 1519.2 Q1837.03 1522.75 1837.03 1529.87 Q1837.03 1536.98 1838.83 1540.55 Q1840.66 1544.09 1844.27 1544.09 Q1847.9 1544.09 1849.71 1540.55 Q1851.54 1536.98 1851.54 1529.87 Q1851.54 1522.75 1849.71 1519.2 Q1847.9 1515.64 1844.27 1515.64 M1844.27 1511.93 Q1850.08 1511.93 1853.14 1516.54 Q1856.21 1521.12 1856.21 1529.87 Q1856.21 1538.6 1853.14 1543.21 Q1850.08 1547.79 1844.27 1547.79 Q1838.46 1547.79 1835.38 1543.21 Q1832.33 1538.6 1832.33 1529.87 Q1832.33 1521.12 1835.38 1516.54 Q1838.46 1511.93 1844.27 1511.93 Z\" fill=\"#000000\" fill-rule=\"evenodd\" fill-opacity=\"1\" /><path clip-path=\"url(#clip240)\" d=\"M 0 0 M2225 1512.56 L2243.36 1512.56 L2243.36 1516.5 L2229.28 1516.5 L2229.28 1524.97 Q2230.3 1524.62 2231.32 1524.46 Q2232.34 1524.27 2233.36 1524.27 Q2239.14 1524.27 2242.52 1527.44 Q2245.9 1530.62 2245.9 1536.03 Q2245.9 1541.61 2242.43 1544.71 Q2238.96 1547.79 2232.64 1547.79 Q2230.46 1547.79 2228.19 1547.42 Q2225.95 1547.05 2223.54 1546.31 L2223.54 1541.61 Q2225.62 1542.74 2227.85 1543.3 Q2230.07 1543.86 2232.55 1543.86 Q2236.55 1543.86 2238.89 1541.75 Q2241.23 1539.64 2241.23 1536.03 Q2241.23 1532.42 2238.89 1530.31 Q2236.55 1528.21 2232.55 1528.21 Q2230.67 1528.21 2228.8 1528.62 Q2226.94 1529.04 2225 1529.92 L2225 1512.56 Z\" fill=\"#000000\" fill-rule=\"evenodd\" fill-opacity=\"1\" /><path clip-path=\"url(#clip240)\" d=\"M 0 0 M2260.97 1515.64 Q2257.36 1515.64 2255.53 1519.2 Q2253.73 1522.75 2253.73 1529.87 Q2253.73 1536.98 2255.53 1540.55 Q2257.36 1544.09 2260.97 1544.09 Q2264.61 1544.09 2266.41 1540.55 Q2268.24 1536.98 2268.24 1529.87 Q2268.24 1522.75 2266.41 1519.2 Q2264.61 1515.64 2260.97 1515.64 M2260.97 1511.93 Q2266.78 1511.93 2269.84 1516.54 Q2272.92 1521.12 2272.92 1529.87 Q2272.92 1538.6 2269.84 1543.21 Q2266.78 1547.79 2260.97 1547.79 Q2255.16 1547.79 2252.08 1543.21 Q2249.03 1538.6 2249.03 1529.87 Q2249.03 1521.12 2252.08 1516.54 Q2255.16 1511.93 2260.97 1511.93 Z\" fill=\"#000000\" fill-rule=\"evenodd\" fill-opacity=\"1\" /><polyline clip-path=\"url(#clip242)\" style=\"stroke:#000000; stroke-width:2; stroke-opacity:0.1; fill:none\" points=\"\n  136.76,1445.72 2352.76,1445.72 \n  \"/>\n<polyline clip-path=\"url(#clip242)\" style=\"stroke:#000000; stroke-width:2; stroke-opacity:0.1; fill:none\" points=\"\n  136.76,1106.28 2352.76,1106.28 \n  \"/>\n<polyline clip-path=\"url(#clip242)\" style=\"stroke:#000000; stroke-width:2; stroke-opacity:0.1; fill:none\" points=\"\n  136.76,766.846 2352.76,766.846 \n  \"/>\n<polyline clip-path=\"url(#clip242)\" style=\"stroke:#000000; stroke-width:2; stroke-opacity:0.1; fill:none\" points=\"\n  136.76,427.411 2352.76,427.411 \n  \"/>\n<polyline clip-path=\"url(#clip242)\" style=\"stroke:#000000; stroke-width:2; stroke-opacity:0.1; fill:none\" points=\"\n  136.76,87.9763 2352.76,87.9763 \n  \"/>\n<polyline clip-path=\"url(#clip240)\" style=\"stroke:#000000; stroke-width:4; stroke-opacity:1; fill:none\" points=\"\n  136.76,1486.45 136.76,47.2441 \n  \"/>\n<polyline clip-path=\"url(#clip240)\" style=\"stroke:#000000; stroke-width:4; stroke-opacity:1; fill:none\" points=\"\n  136.76,1445.72 163.352,1445.72 \n  \"/>\n<polyline clip-path=\"url(#clip240)\" style=\"stroke:#000000; stroke-width:4; stroke-opacity:1; fill:none\" points=\"\n  136.76,1106.28 163.352,1106.28 \n  \"/>\n<polyline clip-path=\"url(#clip240)\" style=\"stroke:#000000; stroke-width:4; stroke-opacity:1; fill:none\" points=\"\n  136.76,766.846 163.352,766.846 \n  \"/>\n<polyline clip-path=\"url(#clip240)\" style=\"stroke:#000000; stroke-width:4; stroke-opacity:1; fill:none\" points=\"\n  136.76,427.411 163.352,427.411 \n  \"/>\n<polyline clip-path=\"url(#clip240)\" style=\"stroke:#000000; stroke-width:4; stroke-opacity:1; fill:none\" points=\"\n  136.76,87.9763 163.352,87.9763 \n  \"/>\n<path clip-path=\"url(#clip240)\" d=\"M 0 0 M54.8347 1459.06 L62.4735 1459.06 L62.4735 1432.69 L54.1634 1434.36 L54.1634 1430.1 L62.4272 1428.44 L67.1032 1428.44 L67.1032 1459.06 L74.742 1459.06 L74.742 1463 L54.8347 1463 L54.8347 1459.06 Z\" fill=\"#000000\" fill-rule=\"evenodd\" fill-opacity=\"1\" /><path clip-path=\"url(#clip240)\" d=\"M 0 0 M79.8577 1428.44 L98.2141 1428.44 L98.2141 1432.37 L84.1401 1432.37 L84.1401 1440.84 Q85.1586 1440.5 86.1771 1440.33 Q87.1956 1440.15 88.2141 1440.15 Q94.0012 1440.15 97.3808 1443.32 Q100.76 1446.49 100.76 1451.91 Q100.76 1457.49 97.2882 1460.59 Q93.816 1463.67 87.4966 1463.67 Q85.3206 1463.67 83.0521 1463.3 Q80.8068 1462.93 78.3994 1462.19 L78.3994 1457.49 Q80.4827 1458.62 82.7049 1459.18 Q84.9271 1459.73 87.404 1459.73 Q91.4086 1459.73 93.7465 1457.63 Q96.0845 1455.52 96.0845 1451.91 Q96.0845 1448.3 93.7465 1446.19 Q91.4086 1444.08 87.404 1444.08 Q85.529 1444.08 83.654 1444.5 Q81.8021 1444.92 79.8577 1445.8 L79.8577 1428.44 Z\" fill=\"#000000\" fill-rule=\"evenodd\" fill-opacity=\"1\" /><path clip-path=\"url(#clip240)\" d=\"M 0 0 M57.4273 1119.63 L73.7466 1119.63 L73.7466 1123.56 L51.8023 1123.56 L51.8023 1119.63 Q54.4643 1116.87 59.0476 1112.24 Q63.6541 1107.59 64.8346 1106.25 Q67.08 1103.72 67.9596 1101.99 Q68.8624 1100.23 68.8624 1098.54 Q68.8624 1095.78 66.918 1094.05 Q64.9967 1092.31 61.8948 1092.31 Q59.6958 1092.31 57.2421 1093.07 Q54.8115 1093.84 52.0338 1095.39 L52.0338 1090.67 Q54.8578 1089.53 57.3115 1088.95 Q59.7652 1088.38 61.8023 1088.38 Q67.1726 1088.38 70.367 1091.06 Q73.5614 1093.75 73.5614 1098.24 Q73.5614 1100.37 72.7513 1102.29 Q71.9642 1104.19 69.8578 1106.78 Q69.2791 1107.45 66.1772 1110.67 Q63.0754 1113.86 57.4273 1119.63 Z\" fill=\"#000000\" fill-rule=\"evenodd\" fill-opacity=\"1\" /><path clip-path=\"url(#clip240)\" d=\"M 0 0 M88.816 1092.08 Q85.2049 1092.08 83.3762 1095.64 Q81.5707 1099.19 81.5707 1106.32 Q81.5707 1113.42 83.3762 1116.99 Q85.2049 1120.53 88.816 1120.53 Q92.4502 1120.53 94.2558 1116.99 Q96.0845 1113.42 96.0845 1106.32 Q96.0845 1099.19 94.2558 1095.64 Q92.4502 1092.08 88.816 1092.08 M88.816 1088.38 Q94.6262 1088.38 97.6817 1092.98 Q100.76 1097.57 100.76 1106.32 Q100.76 1115.04 97.6817 1119.65 Q94.6262 1124.23 88.816 1124.23 Q83.0058 1124.23 79.9272 1119.65 Q76.8716 1115.04 76.8716 1106.32 Q76.8716 1097.57 79.9272 1092.98 Q83.0058 1088.38 88.816 1088.38 Z\" fill=\"#000000\" fill-rule=\"evenodd\" fill-opacity=\"1\" /><path clip-path=\"url(#clip240)\" d=\"M 0 0 M58.4226 780.191 L74.742 780.191 L74.742 784.126 L52.7977 784.126 L52.7977 780.191 Q55.4597 777.436 60.043 772.807 Q64.6495 768.154 65.83 766.811 Q68.0754 764.288 68.955 762.552 Q69.8578 760.793 69.8578 759.103 Q69.8578 756.348 67.9133 754.612 Q65.992 752.876 62.8902 752.876 Q60.6911 752.876 58.2375 753.64 Q55.8069 754.404 53.0292 755.955 L53.0292 751.233 Q55.8532 750.098 58.3069 749.52 Q60.7606 748.941 62.7976 748.941 Q68.168 748.941 71.3624 751.626 Q74.5568 754.311 74.5568 758.802 Q74.5568 760.932 73.7466 762.853 Q72.9596 764.751 70.8531 767.344 Q70.2744 768.015 67.1726 771.233 Q64.0708 774.427 58.4226 780.191 Z\" fill=\"#000000\" fill-rule=\"evenodd\" fill-opacity=\"1\" /><path clip-path=\"url(#clip240)\" d=\"M 0 0 M79.8577 749.566 L98.2141 749.566 L98.2141 753.501 L84.1401 753.501 L84.1401 761.973 Q85.1586 761.626 86.1771 761.464 Q87.1956 761.279 88.2141 761.279 Q94.0012 761.279 97.3808 764.45 Q100.76 767.621 100.76 773.038 Q100.76 778.617 97.2882 781.719 Q93.816 784.797 87.4966 784.797 Q85.3206 784.797 83.0521 784.427 Q80.8068 784.057 78.3994 783.316 L78.3994 778.617 Q80.4827 779.751 82.7049 780.307 Q84.9271 780.862 87.404 780.862 Q91.4086 780.862 93.7465 778.756 Q96.0845 776.649 96.0845 773.038 Q96.0845 769.427 93.7465 767.321 Q91.4086 765.214 87.404 765.214 Q85.529 765.214 83.654 765.631 Q81.8021 766.047 79.8577 766.927 L79.8577 749.566 Z\" fill=\"#000000\" fill-rule=\"evenodd\" fill-opacity=\"1\" /><path clip-path=\"url(#clip240)\" d=\"M 0 0 M66.617 426.057 Q69.9735 426.775 71.8485 429.043 Q73.7466 431.312 73.7466 434.645 Q73.7466 439.761 70.2281 442.562 Q66.7096 445.362 60.2282 445.362 Q58.0523 445.362 55.7375 444.923 Q53.4458 444.506 50.9921 443.649 L50.9921 439.136 Q52.9366 440.27 55.2514 440.849 Q57.5662 441.427 60.0893 441.427 Q64.4874 441.427 66.7791 439.691 Q69.0939 437.955 69.0939 434.645 Q69.0939 431.589 66.9411 429.876 Q64.8115 428.14 60.9921 428.14 L56.9643 428.14 L56.9643 424.298 L61.1773 424.298 Q64.6263 424.298 66.455 422.932 Q68.2837 421.543 68.2837 418.951 Q68.2837 416.289 66.3856 414.876 Q64.5106 413.441 60.9921 413.441 Q59.0708 413.441 56.8717 413.858 Q54.6727 414.275 52.0338 415.154 L52.0338 410.988 Q54.6958 410.247 57.0106 409.877 Q59.3486 409.506 61.4087 409.506 Q66.7328 409.506 69.8346 411.937 Q72.9365 414.344 72.9365 418.464 Q72.9365 421.335 71.2929 423.326 Q69.6494 425.293 66.617 426.057 Z\" fill=\"#000000\" fill-rule=\"evenodd\" fill-opacity=\"1\" /><path clip-path=\"url(#clip240)\" d=\"M 0 0 M88.816 413.21 Q85.2049 413.21 83.3762 416.775 Q81.5707 420.316 81.5707 427.446 Q81.5707 434.552 83.3762 438.117 Q85.2049 441.659 88.816 441.659 Q92.4502 441.659 94.2558 438.117 Q96.0845 434.552 96.0845 427.446 Q96.0845 420.316 94.2558 416.775 Q92.4502 413.21 88.816 413.21 M88.816 409.506 Q94.6262 409.506 97.6817 414.113 Q100.76 418.696 100.76 427.446 Q100.76 436.173 97.6817 440.779 Q94.6262 445.362 88.816 445.362 Q83.0058 445.362 79.9272 440.779 Q76.8716 436.173 76.8716 427.446 Q76.8716 418.696 79.9272 414.113 Q83.0058 409.506 88.816 409.506 Z\" fill=\"#000000\" fill-rule=\"evenodd\" fill-opacity=\"1\" /><path clip-path=\"url(#clip240)\" d=\"M 0 0 M67.6124 86.6221 Q70.9689 87.3397 72.8439 89.6082 Q74.742 91.8767 74.742 95.21 Q74.742 100.326 71.2235 103.127 Q67.705 105.928 61.2236 105.928 Q59.0476 105.928 56.7328 105.488 Q54.4412 105.071 51.9875 104.215 L51.9875 99.7008 Q53.9319 100.835 56.2467 101.414 Q58.5615 101.992 61.0847 101.992 Q65.4828 101.992 67.7744 100.256 Q70.0892 98.5202 70.0892 95.21 Q70.0892 92.1545 67.9365 90.4415 Q65.8069 88.7054 61.9874 88.7054 L57.9597 88.7054 L57.9597 84.8629 L62.1726 84.8629 Q65.6217 84.8629 67.4504 83.4971 Q69.2791 82.1083 69.2791 79.5157 Q69.2791 76.8537 67.3809 75.4416 Q65.5059 74.0064 61.9874 74.0064 Q60.0662 74.0064 57.8671 74.4231 Q55.668 74.8398 53.0292 75.7194 L53.0292 71.5528 Q55.6912 70.812 58.006 70.4416 Q60.3439 70.0713 62.4041 70.0713 Q67.7281 70.0713 70.83 72.5018 Q73.9318 74.9092 73.9318 79.0296 Q73.9318 81.8999 72.2883 83.8907 Q70.6448 85.8582 67.6124 86.6221 Z\" fill=\"#000000\" fill-rule=\"evenodd\" fill-opacity=\"1\" /><path clip-path=\"url(#clip240)\" d=\"M 0 0 M79.8577 70.6963 L98.2141 70.6963 L98.2141 74.6314 L84.1401 74.6314 L84.1401 83.1036 Q85.1586 82.7564 86.1771 82.5944 Q87.1956 82.4092 88.2141 82.4092 Q94.0012 82.4092 97.3808 85.5805 Q100.76 88.7517 100.76 94.1684 Q100.76 99.747 97.2882 102.849 Q93.816 105.928 87.4966 105.928 Q85.3206 105.928 83.0521 105.557 Q80.8068 105.187 78.3994 104.446 L78.3994 99.747 Q80.4827 100.881 82.7049 101.437 Q84.9271 101.992 87.404 101.992 Q91.4086 101.992 93.7465 99.8859 Q96.0845 97.7795 96.0845 94.1684 Q96.0845 90.5573 93.7465 88.4508 Q91.4086 86.3443 87.404 86.3443 Q85.529 86.3443 83.654 86.761 Q81.8021 87.1777 79.8577 88.0573 L79.8577 70.6963 Z\" fill=\"#000000\" fill-rule=\"evenodd\" fill-opacity=\"1\" /><polyline clip-path=\"url(#clip242)\" style=\"stroke:#800080; stroke-width:4; stroke-opacity:1; fill:none\" points=\"\n  199.477,563.185 241.288,563.185 283.1,698.959 324.911,698.959 366.722,766.846 408.533,902.62 450.345,902.62 492.156,970.507 533.967,970.507 575.778,970.507 \n  617.59,970.507 659.401,1038.39 701.212,1038.39 743.023,1106.28 784.835,1106.28 826.646,1174.17 868.457,1174.17 910.268,1174.17 952.079,1242.05 993.891,1242.05 \n  1035.7,1242.05 1077.51,1242.05 1119.32,1242.05 1161.14,1242.05 1202.95,1242.05 1244.76,1309.94 1286.57,1309.94 1328.38,1377.83 1370.19,1445.72 1412,1445.72 \n  1453.81,1445.72 1495.63,1445.72 1537.44,1445.72 1579.25,1445.72 1621.06,1445.72 1662.87,1445.72 1704.68,1445.72 1746.49,1309.94 1788.3,1377.83 1830.12,1377.83 \n  1871.93,1377.83 1913.74,1377.83 1955.55,1377.83 1997.36,1377.83 2039.17,1377.83 2080.98,1242.05 2122.79,1242.05 2164.61,1242.05 2206.42,1309.94 2248.23,1309.94 \n  2290.04,1309.94 \n  \"/>\n<polyline clip-path=\"url(#clip242)\" style=\"stroke:#008000; stroke-width:4; stroke-opacity:1; fill:none\" points=\"\n  199.477,495.298 241.288,563.185 283.1,495.298 324.911,427.411 366.722,359.524 408.533,291.637 450.345,223.75 492.156,223.75 533.967,359.524 575.778,291.637 \n  617.59,223.75 659.401,155.863 701.212,155.863 743.023,87.9763 784.835,223.75 826.646,155.863 868.457,291.637 910.268,223.75 952.079,155.863 993.891,87.9763 \n  1035.7,87.9763 1077.51,87.9763 1119.32,223.75 1161.14,359.524 1202.95,495.298 1244.76,427.411 1286.57,427.411 1328.38,359.524 1370.19,291.637 1412,223.75 \n  1453.81,223.75 1495.63,359.524 1537.44,359.524 1579.25,359.524 1621.06,359.524 1662.87,359.524 1704.68,495.298 1746.49,495.298 1788.3,427.411 1830.12,359.524 \n  1871.93,359.524 1913.74,495.298 1955.55,427.411 1997.36,563.185 2039.17,563.185 2080.98,563.185 2122.79,698.959 2164.61,698.959 2206.42,631.072 2248.23,631.072 \n  2290.04,563.185 \n  \"/>\n<path clip-path=\"url(#clip240)\" d=\"\nM1826.65 276.658 L2278.89 276.658 L2278.89 95.2176 L1826.65 95.2176  Z\n  \" fill=\"#ffffff\" fill-rule=\"evenodd\" fill-opacity=\"1\"/>\n<polyline clip-path=\"url(#clip240)\" style=\"stroke:#000000; stroke-width:4; stroke-opacity:1; fill:none\" points=\"\n  1826.65,276.658 2278.89,276.658 2278.89,95.2176 1826.65,95.2176 1826.65,276.658 \n  \"/>\n<polyline clip-path=\"url(#clip240)\" style=\"stroke:#800080; stroke-width:4; stroke-opacity:1; fill:none\" points=\"\n  1851.27,155.698 1999.01,155.698 \n  \"/>\n<path clip-path=\"url(#clip240)\" d=\"M 0 0 M2042.54 159.714 Q2042.54 155.084 2040.62 152.538 Q2038.72 149.992 2035.27 149.992 Q2031.85 149.992 2029.92 152.538 Q2028.03 155.084 2028.03 159.714 Q2028.03 164.32 2029.92 166.866 Q2031.85 169.413 2035.27 169.413 Q2038.72 169.413 2040.62 166.866 Q2042.54 164.32 2042.54 159.714 M2046.8 169.76 Q2046.8 176.38 2043.86 179.598 Q2040.92 182.839 2034.85 182.839 Q2032.61 182.839 2030.62 182.491 Q2028.63 182.167 2026.75 181.473 L2026.75 177.329 Q2028.63 178.348 2030.46 178.834 Q2032.28 179.32 2034.18 179.32 Q2038.37 179.32 2040.46 177.121 Q2042.54 174.945 2042.54 170.524 L2042.54 168.417 Q2041.22 170.709 2039.16 171.843 Q2037.1 172.978 2034.23 172.978 Q2029.46 172.978 2026.54 169.343 Q2023.63 165.709 2023.63 159.714 Q2023.63 153.695 2026.54 150.061 Q2029.46 146.427 2034.23 146.427 Q2037.1 146.427 2039.16 147.561 Q2041.22 148.695 2042.54 150.987 L2042.54 147.052 L2046.8 147.052 L2046.8 169.76 Z\" fill=\"#000000\" fill-rule=\"evenodd\" fill-opacity=\"1\" /><path clip-path=\"url(#clip240)\" d=\"M 0 0 M2061.31 150.038 Q2057.89 150.038 2055.9 152.723 Q2053.91 155.385 2053.91 160.038 Q2053.91 164.691 2055.87 167.376 Q2057.86 170.038 2061.31 170.038 Q2064.72 170.038 2066.71 167.353 Q2068.7 164.667 2068.7 160.038 Q2068.7 155.431 2066.71 152.746 Q2064.72 150.038 2061.31 150.038 M2061.31 146.427 Q2066.87 146.427 2070.04 150.038 Q2073.21 153.649 2073.21 160.038 Q2073.21 166.404 2070.04 170.038 Q2066.87 173.649 2061.31 173.649 Q2055.73 173.649 2052.56 170.038 Q2049.41 166.404 2049.41 160.038 Q2049.41 153.649 2052.56 150.038 Q2055.73 146.427 2061.31 146.427 Z\" fill=\"#000000\" fill-rule=\"evenodd\" fill-opacity=\"1\" /><path clip-path=\"url(#clip240)\" d=\"M 0 0 M2077.82 136.959 L2082.08 136.959 L2082.08 150.894 L2084.97 148.811 L2086.73 151.265 L2082.08 154.529 L2082.08 172.978 L2077.82 172.978 L2077.82 157.561 L2074.97 159.598 L2073.26 157.144 L2077.82 153.88 L2077.82 136.959 Z\" fill=\"#000000\" fill-rule=\"evenodd\" fill-opacity=\"1\" /><path clip-path=\"url(#clip240)\" d=\"M 0 0 M2113.37 158.95 L2113.37 161.033 L2093.79 161.033 Q2094.07 165.431 2096.43 167.746 Q2098.81 170.038 2103.05 170.038 Q2105.5 170.038 2107.79 169.436 Q2110.11 168.834 2112.38 167.63 L2112.38 171.658 Q2110.09 172.63 2107.68 173.14 Q2105.27 173.649 2102.79 173.649 Q2096.59 173.649 2092.96 170.038 Q2089.34 166.427 2089.34 160.269 Q2089.34 153.904 2092.77 150.177 Q2096.22 146.427 2102.05 146.427 Q2107.28 146.427 2110.32 149.806 Q2113.37 153.163 2113.37 158.95 M2109.11 157.7 Q2109.07 154.205 2107.15 152.121 Q2105.25 150.038 2102.1 150.038 Q2098.53 150.038 2096.38 152.052 Q2094.25 154.066 2093.93 157.723 L2109.11 157.7 M2105.62 172.978 L2108.37 172.978 Q2107.33 174.39 2106.82 175.408 Q2106.34 176.427 2106.34 177.144 Q2106.34 178.209 2106.96 178.741 Q2107.61 179.274 2108.86 179.274 Q2109.6 179.274 2110.32 179.089 Q2111.03 178.927 2111.75 178.579 L2111.75 181.658 Q2110.87 181.89 2110.09 182.005 Q2109.3 182.121 2108.6 182.121 Q2105.78 182.121 2104.44 181.103 Q2103.12 180.107 2103.12 177.954 Q2103.12 176.843 2103.72 175.616 Q2104.34 174.413 2105.62 172.978 Z\" fill=\"#000000\" fill-rule=\"evenodd\" fill-opacity=\"1\" /><path clip-path=\"url(#clip240)\" d=\"M 0 0 M2136.45 160.038 Q2136.45 155.339 2134.51 152.677 Q2132.59 149.992 2129.21 149.992 Q2125.83 149.992 2123.88 152.677 Q2121.96 155.339 2121.96 160.038 Q2121.96 164.737 2123.88 167.422 Q2125.83 170.084 2129.21 170.084 Q2132.59 170.084 2134.51 167.422 Q2136.45 164.737 2136.45 160.038 M2121.96 150.987 Q2123.3 148.672 2125.34 147.561 Q2127.4 146.427 2130.25 146.427 Q2134.97 146.427 2137.91 150.177 Q2140.87 153.927 2140.87 160.038 Q2140.87 166.149 2137.91 169.899 Q2134.97 173.649 2130.25 173.649 Q2127.4 173.649 2125.34 172.538 Q2123.3 171.403 2121.96 169.089 L2121.96 172.978 L2117.68 172.978 L2117.68 136.959 L2121.96 136.959 L2121.96 150.987 Z\" fill=\"#000000\" fill-rule=\"evenodd\" fill-opacity=\"1\" /><path clip-path=\"url(#clip240)\" d=\"M 0 0 M2145.34 147.052 L2149.6 147.052 L2149.6 172.978 L2145.34 172.978 L2145.34 147.052 M2145.34 136.959 L2149.6 136.959 L2149.6 142.353 L2145.34 142.353 L2145.34 136.959 Z\" fill=\"#000000\" fill-rule=\"evenodd\" fill-opacity=\"1\" /><path clip-path=\"url(#clip240)\" d=\"M 0 0 M2176.24 158.95 L2176.24 161.033 L2156.66 161.033 Q2156.94 165.431 2159.3 167.746 Q2161.68 170.038 2165.92 170.038 Q2168.37 170.038 2170.66 169.436 Q2172.98 168.834 2175.25 167.63 L2175.25 171.658 Q2172.96 172.63 2170.55 173.14 Q2168.14 173.649 2165.66 173.649 Q2159.46 173.649 2155.83 170.038 Q2152.21 166.427 2152.21 160.269 Q2152.21 153.904 2155.64 150.177 Q2159.09 146.427 2164.92 146.427 Q2170.15 146.427 2173.19 149.806 Q2176.24 153.163 2176.24 158.95 M2171.98 157.7 Q2171.94 154.205 2170.02 152.121 Q2168.12 150.038 2164.97 150.038 Q2161.4 150.038 2159.25 152.052 Q2157.12 154.066 2156.8 157.723 L2171.98 157.7 Z\" fill=\"#000000\" fill-rule=\"evenodd\" fill-opacity=\"1\" /><polyline clip-path=\"url(#clip240)\" style=\"stroke:#008000; stroke-width:4; stroke-opacity:1; fill:none\" points=\"\n  1851.27,216.178 1999.01,216.178 \n  \"/>\n<path clip-path=\"url(#clip240)\" d=\"M 0 0 M2028.95 207.532 L2033.21 207.532 L2033.21 233.921 Q2033.21 238.874 2031.31 241.096 Q2029.44 243.319 2025.25 243.319 L2023.63 243.319 L2023.63 239.708 L2024.76 239.708 Q2027.19 239.708 2028.07 238.573 Q2028.95 237.462 2028.95 233.921 L2028.95 207.532 M2028.95 197.439 L2033.21 197.439 L2033.21 202.833 L2028.95 202.833 L2028.95 197.439 Z\" fill=\"#000000\" fill-rule=\"evenodd\" fill-opacity=\"1\" /><path clip-path=\"url(#clip240)\" d=\"M 0 0 M2049.46 220.425 Q2044.3 220.425 2042.31 221.606 Q2040.32 222.786 2040.32 225.634 Q2040.32 227.902 2041.8 229.245 Q2043.3 230.564 2045.87 230.564 Q2049.41 230.564 2051.54 228.064 Q2053.7 225.541 2053.7 221.374 L2053.7 220.425 L2049.46 220.425 M2057.96 218.666 L2057.96 233.458 L2053.7 233.458 L2053.7 229.522 Q2052.24 231.883 2050.06 233.018 Q2047.89 234.129 2044.74 234.129 Q2040.76 234.129 2038.4 231.907 Q2036.06 229.661 2036.06 225.911 Q2036.06 221.536 2038.97 219.314 Q2041.91 217.092 2047.72 217.092 L2053.7 217.092 L2053.7 216.675 Q2053.7 213.735 2051.75 212.138 Q2049.83 210.518 2046.34 210.518 Q2044.11 210.518 2042.01 211.05 Q2039.9 211.583 2037.96 212.647 L2037.96 208.712 Q2040.29 207.81 2042.49 207.37 Q2044.69 206.907 2046.78 206.907 Q2052.4 206.907 2055.18 209.823 Q2057.96 212.74 2057.96 218.666 Z\" fill=\"#000000\" fill-rule=\"evenodd\" fill-opacity=\"1\" /><path clip-path=\"url(#clip240)\" d=\"M 0 0 M2078.95 208.296 L2078.95 212.323 Q2077.15 211.397 2075.2 210.935 Q2073.26 210.472 2071.17 210.472 Q2068 210.472 2066.41 211.444 Q2064.83 212.416 2064.83 214.36 Q2064.83 215.842 2065.97 216.698 Q2067.1 217.532 2070.53 218.296 L2071.98 218.62 Q2076.52 219.592 2078.42 221.374 Q2080.34 223.134 2080.34 226.305 Q2080.34 229.916 2077.47 232.022 Q2074.62 234.129 2069.62 234.129 Q2067.54 234.129 2065.27 233.712 Q2063.03 233.319 2060.53 232.508 L2060.53 228.11 Q2062.89 229.337 2065.18 229.962 Q2067.47 230.564 2069.72 230.564 Q2072.72 230.564 2074.34 229.546 Q2075.97 228.504 2075.97 226.629 Q2075.97 224.893 2074.78 223.967 Q2073.63 223.041 2069.67 222.184 L2068.19 221.837 Q2064.23 221.004 2062.47 219.291 Q2060.71 217.555 2060.71 214.546 Q2060.71 210.888 2063.3 208.898 Q2065.9 206.907 2070.66 206.907 Q2073.03 206.907 2075.11 207.254 Q2077.19 207.601 2078.95 208.296 Z\" fill=\"#000000\" fill-rule=\"evenodd\" fill-opacity=\"1\" /><path clip-path=\"url(#clip240)\" d=\"M 0 0 M2089.02 200.171 L2089.02 207.532 L2097.79 207.532 L2097.79 210.842 L2089.02 210.842 L2089.02 224.916 Q2089.02 228.087 2089.88 228.99 Q2090.76 229.893 2093.42 229.893 L2097.79 229.893 L2097.79 233.458 L2093.42 233.458 Q2088.49 233.458 2086.61 231.629 Q2084.74 229.777 2084.74 224.916 L2084.74 210.842 L2081.61 210.842 L2081.61 207.532 L2084.74 207.532 L2084.74 200.171 L2089.02 200.171 Z\" fill=\"#000000\" fill-rule=\"evenodd\" fill-opacity=\"1\" /><path clip-path=\"url(#clip240)\" d=\"M 0 0 M2117.28 211.513 Q2116.57 211.097 2115.71 210.911 Q2114.88 210.703 2113.86 210.703 Q2110.25 210.703 2108.3 213.064 Q2106.38 215.402 2106.38 219.8 L2106.38 233.458 L2102.1 233.458 L2102.1 207.532 L2106.38 207.532 L2106.38 211.56 Q2107.72 209.198 2109.88 208.064 Q2112.03 206.907 2115.11 206.907 Q2115.55 206.907 2116.08 206.976 Q2116.61 207.023 2117.26 207.138 L2117.28 211.513 Z\" fill=\"#000000\" fill-rule=\"evenodd\" fill-opacity=\"1\" /><path clip-path=\"url(#clip240)\" d=\"M 0 0 M2119.9 207.532 L2140.13 207.532 L2140.13 211.421 L2124.11 230.055 L2140.13 230.055 L2140.13 233.458 L2119.32 233.458 L2119.32 229.569 L2135.34 210.935 L2119.9 210.935 L2119.9 207.532 Z\" fill=\"#000000\" fill-rule=\"evenodd\" fill-opacity=\"1\" /><path clip-path=\"url(#clip240)\" d=\"M 0 0 M2166.78 219.43 L2166.78 221.513 L2147.19 221.513 Q2147.47 225.911 2149.83 228.226 Q2152.21 230.518 2156.45 230.518 Q2158.9 230.518 2161.2 229.916 Q2163.51 229.314 2165.78 228.11 L2165.78 232.138 Q2163.49 233.11 2161.08 233.62 Q2158.67 234.129 2156.2 234.129 Q2149.99 234.129 2146.36 230.518 Q2142.75 226.907 2142.75 220.749 Q2142.75 214.384 2146.17 210.657 Q2149.62 206.907 2155.46 206.907 Q2160.69 206.907 2163.72 210.286 Q2166.78 213.643 2166.78 219.43 M2162.52 218.18 Q2162.47 214.685 2160.55 212.601 Q2158.65 210.518 2155.5 210.518 Q2151.94 210.518 2149.78 212.532 Q2147.65 214.546 2147.33 218.203 L2162.52 218.18 M2159.02 233.458 L2161.78 233.458 Q2160.73 234.87 2160.22 235.888 Q2159.74 236.907 2159.74 237.624 Q2159.74 238.689 2160.36 239.221 Q2161.01 239.754 2162.26 239.754 Q2163 239.754 2163.72 239.569 Q2164.44 239.407 2165.15 239.059 L2165.15 242.138 Q2164.28 242.37 2163.49 242.485 Q2162.7 242.601 2162.01 242.601 Q2159.18 242.601 2157.84 241.583 Q2156.52 240.587 2156.52 238.434 Q2156.52 237.323 2157.12 236.096 Q2157.75 234.893 2159.02 233.458 Z\" fill=\"#000000\" fill-rule=\"evenodd\" fill-opacity=\"1\" /><path clip-path=\"url(#clip240)\" d=\"M 0 0 M2189.85 220.518 Q2189.85 215.819 2187.91 213.157 Q2185.99 210.472 2182.61 210.472 Q2179.23 210.472 2177.28 213.157 Q2175.36 215.819 2175.36 220.518 Q2175.36 225.217 2177.28 227.902 Q2179.23 230.564 2182.61 230.564 Q2185.99 230.564 2187.91 227.902 Q2189.85 225.217 2189.85 220.518 M2175.36 211.467 Q2176.71 209.152 2178.74 208.041 Q2180.8 206.907 2183.65 206.907 Q2188.37 206.907 2191.31 210.657 Q2194.27 214.407 2194.27 220.518 Q2194.27 226.629 2191.31 230.379 Q2188.37 234.129 2183.65 234.129 Q2180.8 234.129 2178.74 233.018 Q2176.71 231.883 2175.36 229.569 L2175.36 233.458 L2171.08 233.458 L2171.08 197.439 L2175.36 197.439 L2175.36 211.467 Z\" fill=\"#000000\" fill-rule=\"evenodd\" fill-opacity=\"1\" /><path clip-path=\"url(#clip240)\" d=\"M 0 0 M2198.74 207.532 L2203 207.532 L2203 233.458 L2198.74 233.458 L2198.74 207.532 M2198.74 197.439 L2203 197.439 L2203 202.833 L2198.74 202.833 L2198.74 197.439 Z\" fill=\"#000000\" fill-rule=\"evenodd\" fill-opacity=\"1\" /><path clip-path=\"url(#clip240)\" d=\"M 0 0 M2229.65 219.43 L2229.65 221.513 L2210.06 221.513 Q2210.34 225.911 2212.7 228.226 Q2215.08 230.518 2219.32 230.518 Q2221.77 230.518 2224.07 229.916 Q2226.38 229.314 2228.65 228.11 L2228.65 232.138 Q2226.36 233.11 2223.95 233.62 Q2221.54 234.129 2219.07 234.129 Q2212.86 234.129 2209.23 230.518 Q2205.62 226.907 2205.62 220.749 Q2205.62 214.384 2209.04 210.657 Q2212.49 206.907 2218.33 206.907 Q2223.56 206.907 2226.59 210.286 Q2229.65 213.643 2229.65 219.43 M2225.39 218.18 Q2225.34 214.685 2223.42 212.601 Q2221.52 210.518 2218.37 210.518 Q2214.81 210.518 2212.65 212.532 Q2210.52 214.546 2210.2 218.203 L2225.39 218.18 Z\" fill=\"#000000\" fill-rule=\"evenodd\" fill-opacity=\"1\" /></svg>\n"
               },
               "type": "node"
              }
             ],
             "instanceArgs": {
              "namespace": "html",
              "tag": "div"
             },
             "nodeType": "DOM",
             "props": {
              "className": "interact-flex-row interact-widget"
             },
             "type": "node"
            }
           }
          },
          "systemjs_options": null
         },
         "nodeType": "Scope",
         "props": {},
         "type": "node"
        }
       ],
       "instanceArgs": {
        "namespace": "html",
        "tag": "div"
       },
       "nodeType": "DOM",
       "props": {},
       "type": "node"
      },
      "text/html": [
       "<div\n",
       "    class=\"webio-mountpoint\"\n",
       "    data-webio-mountpoint=\"771602284140558869\"\n",
       ">\n",
       "    <script>\n",
       "    if (window.require && require.defined && require.defined(\"nbextensions/webio-jupyter-notebook\")) {\n",
       "        console.log(\"Jupyter WebIO extension detected, not mounting.\");\n",
       "    } else if (window.WebIO) {\n",
       "        WebIO.mount(\n",
       "            document.querySelector('[data-webio-mountpoint=\"771602284140558869\"]'),\n",
       "            {\"props\":{},\"nodeType\":\"DOM\",\"type\":\"node\",\"instanceArgs\":{\"namespace\":\"html\",\"tag\":\"div\"},\"children\":[{\"props\":{\"className\":\"field interact-widget\"},\"nodeType\":\"DOM\",\"type\":\"node\",\"instanceArgs\":{\"namespace\":\"html\",\"tag\":\"div\"},\"children\":[{\"props\":{},\"nodeType\":\"Scope\",\"type\":\"node\",\"instanceArgs\":{\"imports\":{\"data\":[{\"name\":\"knockout\",\"type\":\"js\",\"url\":\"\\/assetserver\\/fd91bcc76f200e46e5681854927159f78397d01c-knockout.js\"},{\"name\":\"knockout_punches\",\"type\":\"js\",\"url\":\"\\/assetserver\\/0771d715f47990fd6a20af05579c332026637b1d-knockout_punches.js\"},{\"name\":null,\"type\":\"js\",\"url\":\"\\/assetserver\\/e56fcd69f839599425572dc2cffb9ce416a547ec-all.js\"},{\"name\":null,\"type\":\"css\",\"url\":\"\\/assetserver\\/f03a11104aa67cefd9b6e4d413d413b5ef056233-style.css\"},{\"name\":null,\"type\":\"css\",\"url\":\"\\/assetserver\\/e60d8885c5ad87196b49c3e741a5de92d7eeea1c-bulma_confined.min.css\"}],\"type\":\"async_block\"},\"id\":\"222872386228263200\",\"handlers\":{\"changes\":[\"(function (val){return (val!=this.model[\\\"changes\\\"]()) ? (this.valueFromJulia[\\\"changes\\\"]=true, this.model[\\\"changes\\\"](val)) : undefined})\"],\"index\":[\"(function (val){return (val!=this.model[\\\"index\\\"]()) ? (this.valueFromJulia[\\\"index\\\"]=true, this.model[\\\"index\\\"](val)) : undefined})\"]},\"systemjs_options\":null,\"mount_callbacks\":[\"function () {\\n    var handler = (function (ko, koPunches) {\\n    ko.punches.enableAll();\\n    ko.bindingHandlers.numericValue = {\\n        init: function(element, valueAccessor, allBindings, data, context) {\\n            var stringified = ko.observable(ko.unwrap(valueAccessor()));\\n            stringified.subscribe(function(value) {\\n                var val = parseFloat(value);\\n                if (!isNaN(val)) {\\n                    valueAccessor()(val);\\n                }\\n            });\\n            valueAccessor().subscribe(function(value) {\\n                var str = JSON.stringify(value);\\n                if ((str == \\\"0\\\") && ([\\\"-0\\\", \\\"-0.\\\"].indexOf(stringified()) >= 0))\\n                     return;\\n                 if ([\\\"null\\\", \\\"\\\"].indexOf(str) >= 0)\\n                     return;\\n                stringified(str);\\n            });\\n            ko.applyBindingsToNode(\\n                element,\\n                {\\n                    value: stringified,\\n                    valueUpdate: allBindings.get('valueUpdate'),\\n                },\\n                context,\\n            );\\n        }\\n    };\\n    var json_data = {\\\"formatted_vals\\\":[\\\"2\\\",\\\"3\\\",\\\"4\\\",\\\"5\\\",\\\"6\\\",\\\"7\\\",\\\"8\\\",\\\"9\\\",\\\"10\\\",\\\"11\\\",\\\"12\\\",\\\"13\\\",\\\"14\\\",\\\"15\\\",\\\"16\\\",\\\"17\\\",\\\"18\\\",\\\"19\\\",\\\"20\\\",\\\"21\\\",\\\"22\\\",\\\"23\\\",\\\"24\\\",\\\"25\\\",\\\"26\\\",\\\"27\\\",\\\"28\\\",\\\"29\\\",\\\"30\\\",\\\"31\\\",\\\"32\\\",\\\"33\\\",\\\"34\\\",\\\"35\\\",\\\"36\\\",\\\"37\\\",\\\"38\\\",\\\"39\\\",\\\"40\\\",\\\"41\\\",\\\"42\\\",\\\"43\\\",\\\"44\\\",\\\"45\\\",\\\"46\\\",\\\"47\\\",\\\"48\\\",\\\"49\\\",\\\"50\\\",\\\"51\\\",\\\"52\\\",\\\"53\\\",\\\"54\\\",\\\"55\\\",\\\"56\\\",\\\"57\\\",\\\"58\\\",\\\"59\\\",\\\"60\\\",\\\"61\\\",\\\"62\\\",\\\"63\\\",\\\"64\\\",\\\"65\\\",\\\"66\\\",\\\"67\\\",\\\"68\\\",\\\"69\\\",\\\"70\\\",\\\"71\\\",\\\"72\\\",\\\"73\\\",\\\"74\\\",\\\"75\\\",\\\"76\\\",\\\"77\\\",\\\"78\\\",\\\"79\\\",\\\"80\\\",\\\"81\\\",\\\"82\\\",\\\"83\\\",\\\"84\\\",\\\"85\\\",\\\"86\\\",\\\"87\\\",\\\"88\\\",\\\"89\\\",\\\"90\\\",\\\"91\\\",\\\"92\\\",\\\"93\\\",\\\"94\\\",\\\"95\\\",\\\"96\\\",\\\"97\\\",\\\"98\\\",\\\"99\\\",\\\"100\\\"],\\\"changes\\\":WebIO.getval({\\\"name\\\":\\\"changes\\\",\\\"scope\\\":\\\"222872386228263200\\\",\\\"id\\\":\\\"9657432480842699360\\\",\\\"type\\\":\\\"observable\\\"}),\\\"index\\\":WebIO.getval({\\\"name\\\":\\\"index\\\",\\\"scope\\\":\\\"222872386228263200\\\",\\\"id\\\":\\\"9906375580117670844\\\",\\\"type\\\":\\\"observable\\\"})};\\n    var self = this;\\n    function AppViewModel() {\\n        for (var key in json_data) {\\n            var el = json_data[key];\\n            this[key] = Array.isArray(el) ? ko.observableArray(el) : ko.observable(el);\\n        }\\n        \\n        [this[\\\"formatted_val\\\"]=ko.computed(    function(){\\n        return this.formatted_vals()[parseInt(this.index())-(1)];\\n    }\\n,this)]\\n        [this[\\\"changes\\\"].subscribe((function (val){!(this.valueFromJulia[\\\"changes\\\"]) ? (WebIO.setval({\\\"name\\\":\\\"changes\\\",\\\"scope\\\":\\\"222872386228263200\\\",\\\"id\\\":\\\"9657432480842699360\\\",\\\"type\\\":\\\"observable\\\"},val)) : undefined; return this.valueFromJulia[\\\"changes\\\"]=false}),self),this[\\\"index\\\"].subscribe((function (val){!(this.valueFromJulia[\\\"index\\\"]) ? (WebIO.setval({\\\"name\\\":\\\"index\\\",\\\"scope\\\":\\\"222872386228263200\\\",\\\"id\\\":\\\"9906375580117670844\\\",\\\"type\\\":\\\"observable\\\"},val)) : undefined; return this.valueFromJulia[\\\"index\\\"]=false}),self)]\\n        \\n    }\\n    self.model = new AppViewModel();\\n    self.valueFromJulia = {};\\n    for (var key in json_data) {\\n        self.valueFromJulia[key] = false;\\n    }\\n    ko.applyBindings(self.model, self.dom);\\n}\\n);\\n    (WebIO.importBlock({\\\"data\\\":[{\\\"name\\\":\\\"knockout\\\",\\\"type\\\":\\\"js\\\",\\\"url\\\":\\\"\\/assetserver\\/fd91bcc76f200e46e5681854927159f78397d01c-knockout.js\\\"},{\\\"name\\\":\\\"knockout_punches\\\",\\\"type\\\":\\\"js\\\",\\\"url\\\":\\\"\\/assetserver\\/0771d715f47990fd6a20af05579c332026637b1d-knockout_punches.js\\\"}],\\\"type\\\":\\\"async_block\\\"})).then((imports) => handler.apply(this, imports));\\n}\\n\"],\"observables\":{\"changes\":{\"sync\":false,\"id\":\"9657432480842699360\",\"value\":0},\"index\":{\"sync\":true,\"id\":\"9906375580117670844\",\"value\":50}}},\"children\":[{\"props\":{\"className\":\"interact-flex-row interact-widget\"},\"nodeType\":\"DOM\",\"type\":\"node\",\"instanceArgs\":{\"namespace\":\"html\",\"tag\":\"div\"},\"children\":[{\"props\":{\"className\":\"interact-flex-row-left\"},\"nodeType\":\"DOM\",\"type\":\"node\",\"instanceArgs\":{\"namespace\":\"html\",\"tag\":\"div\"},\"children\":[{\"props\":{\"className\":\"interact \",\"style\":{\"padding\":\"5px 10px 0px 10px\"}},\"nodeType\":\"DOM\",\"type\":\"node\",\"instanceArgs\":{\"namespace\":\"html\",\"tag\":\"label\"},\"children\":[\"time\"]}]},{\"props\":{\"className\":\"interact-flex-row-center\"},\"nodeType\":\"DOM\",\"type\":\"node\",\"instanceArgs\":{\"namespace\":\"html\",\"tag\":\"div\"},\"children\":[{\"props\":{\"max\":99,\"min\":1,\"attributes\":{\"type\":\"range\",\"data-bind\":\"numericValue: index, valueUpdate: 'input', event: {change: function (){this.changes(this.changes()+1)}}\",\"orient\":\"horizontal\"},\"step\":1,\"className\":\"slider slider is-fullwidth\",\"style\":{}},\"nodeType\":\"DOM\",\"type\":\"node\",\"instanceArgs\":{\"namespace\":\"html\",\"tag\":\"input\"},\"children\":[]}]},{\"props\":{\"className\":\"interact-flex-row-right\"},\"nodeType\":\"DOM\",\"type\":\"node\",\"instanceArgs\":{\"namespace\":\"html\",\"tag\":\"div\"},\"children\":[{\"props\":{\"attributes\":{\"data-bind\":\"text: formatted_val\"}},\"nodeType\":\"DOM\",\"type\":\"node\",\"instanceArgs\":{\"namespace\":\"html\",\"tag\":\"p\"},\"children\":[]}]}]}]}]},{\"props\":{},\"nodeType\":\"Scope\",\"type\":\"node\",\"instanceArgs\":{\"imports\":{\"data\":[],\"type\":\"async_block\"},\"id\":\"6437301124636623276\",\"handlers\":{},\"systemjs_options\":null,\"mount_callbacks\":[],\"observables\":{\"obs-node\":{\"sync\":false,\"id\":\"11913641743310058961\",\"value\":{\"props\":{\"className\":\"interact-flex-row interact-widget\"},\"nodeType\":\"DOM\",\"type\":\"node\",\"instanceArgs\":{\"namespace\":\"html\",\"tag\":\"div\"},\"children\":[{\"props\":{\"setInnerHtml\":\"<?xml version=\\\"1.0\\\" encoding=\\\"utf-8\\\"?>\\n<svg xmlns=\\\"http:\\/\\/www.w3.org\\/2000\\/svg\\\" xmlns:xlink=\\\"http:\\/\\/www.w3.org\\/1999\\/xlink\\\" width=\\\"600\\\" height=\\\"400\\\" viewBox=\\\"0 0 2400 1600\\\">\\n<defs>\\n  <clipPath id=\\\"clip200\\\">\\n    <rect x=\\\"0\\\" y=\\\"0\\\" width=\\\"2400\\\" height=\\\"1600\\\"\\/>\\n  <\\/clipPath>\\n<\\/defs>\\n<path clip-path=\\\"url(#clip200)\\\" d=\\\"\\nM0 1600 L2400 1600 L2400 0 L0 0  Z\\n  \\\" fill=\\\"#ffffff\\\" fill-rule=\\\"evenodd\\\" fill-opacity=\\\"1\\\"\\/>\\n<defs>\\n  <clipPath id=\\\"clip201\\\">\\n    <rect x=\\\"480\\\" y=\\\"0\\\" width=\\\"1681\\\" height=\\\"1600\\\"\\/>\\n  <\\/clipPath>\\n<\\/defs>\\n<path clip-path=\\\"url(#clip200)\\\" d=\\\"\\nM136.76 1486.45 L2352.76 1486.45 L2352.76 47.2441 L136.76 47.2441  Z\\n  \\\" fill=\\\"#ffffff\\\" fill-rule=\\\"evenodd\\\" fill-opacity=\\\"1\\\"\\/>\\n<defs>\\n  <clipPath id=\\\"clip202\\\">\\n    <rect x=\\\"136\\\" y=\\\"47\\\" width=\\\"2217\\\" height=\\\"1440\\\"\\/>\\n  <\\/clipPath>\\n<\\/defs>\\n<polyline clip-path=\\\"url(#clip202)\\\" style=\\\"stroke:#000000; stroke-width:2; stroke-opacity:0.1; fill:none\\\" points=\\\"\\n  157.666,1486.45 157.666,47.2441 \\n  \\\"\\/>\\n<polyline clip-path=\\\"url(#clip202)\\\" style=\\\"stroke:#000000; stroke-width:2; stroke-opacity:0.1; fill:none\\\" points=\\\"\\n  575.778,1486.45 575.778,47.2441 \\n  \\\"\\/>\\n<polyline clip-path=\\\"url(#clip202)\\\" style=\\\"stroke:#000000; stroke-width:2; stroke-opacity:0.1; fill:none\\\" points=\\\"\\n  993.891,1486.45 993.891,47.2441 \\n  \\\"\\/>\\n<polyline clip-path=\\\"url(#clip202)\\\" style=\\\"stroke:#000000; stroke-width:2; stroke-opacity:0.1; fill:none\\\" points=\\\"\\n  1412,1486.45 1412,47.2441 \\n  \\\"\\/>\\n<polyline clip-path=\\\"url(#clip202)\\\" style=\\\"stroke:#000000; stroke-width:2; stroke-opacity:0.1; fill:none\\\" points=\\\"\\n  1830.12,1486.45 1830.12,47.2441 \\n  \\\"\\/>\\n<polyline clip-path=\\\"url(#clip202)\\\" style=\\\"stroke:#000000; stroke-width:2; stroke-opacity:0.1; fill:none\\\" points=\\\"\\n  2248.23,1486.45 2248.23,47.2441 \\n  \\\"\\/>\\n<polyline clip-path=\\\"url(#clip200)\\\" style=\\\"stroke:#000000; stroke-width:4; stroke-opacity:1; fill:none\\\" points=\\\"\\n  136.76,1486.45 2352.76,1486.45 \\n  \\\"\\/>\\n<polyline clip-path=\\\"url(#clip200)\\\" style=\\\"stroke:#000000; stroke-width:4; stroke-opacity:1; fill:none\\\" points=\\\"\\n  157.666,1486.45 157.666,1469.18 \\n  \\\"\\/>\\n<polyline clip-path=\\\"url(#clip200)\\\" style=\\\"stroke:#000000; stroke-width:4; stroke-opacity:1; fill:none\\\" points=\\\"\\n  575.778,1486.45 575.778,1469.18 \\n  \\\"\\/>\\n<polyline clip-path=\\\"url(#clip200)\\\" style=\\\"stroke:#000000; stroke-width:4; stroke-opacity:1; fill:none\\\" points=\\\"\\n  993.891,1486.45 993.891,1469.18 \\n  \\\"\\/>\\n<polyline clip-path=\\\"url(#clip200)\\\" style=\\\"stroke:#000000; stroke-width:4; stroke-opacity:1; fill:none\\\" points=\\\"\\n  1412,1486.45 1412,1469.18 \\n  \\\"\\/>\\n<polyline clip-path=\\\"url(#clip200)\\\" style=\\\"stroke:#000000; stroke-width:4; stroke-opacity:1; fill:none\\\" points=\\\"\\n  1830.12,1486.45 1830.12,1469.18 \\n  \\\"\\/>\\n<polyline clip-path=\\\"url(#clip200)\\\" style=\\\"stroke:#000000; stroke-width:4; stroke-opacity:1; fill:none\\\" points=\\\"\\n  2248.23,1486.45 2248.23,1469.18 \\n  \\\"\\/>\\n<path clip-path=\\\"url(#clip200)\\\" d=\\\"M 0 0 M157.666 1515.64 Q154.055 1515.64 152.226 1519.2 Q150.421 1522.75 150.421 1529.87 Q150.421 1536.98 152.226 1540.55 Q154.055 1544.09 157.666 1544.09 Q161.3 1544.09 163.106 1540.55 Q164.934 1536.98 164.934 1529.87 Q164.934 1522.75 163.106 1519.2 Q161.3 1515.64 157.666 1515.64 M157.666 1511.93 Q163.476 1511.93 166.532 1516.54 Q169.61 1521.12 169.61 1529.87 Q169.61 1538.6 166.532 1543.21 Q163.476 1547.79 157.666 1547.79 Q151.856 1547.79 148.777 1543.21 Q145.722 1538.6 145.722 1529.87 Q145.722 1521.12 148.777 1516.54 Q151.856 1511.93 157.666 1511.93 Z\\\" fill=\\\"#000000\\\" fill-rule=\\\"evenodd\\\" fill-opacity=\\\"1\\\" \\/><path clip-path=\\\"url(#clip200)\\\" d=\\\"M 0 0 M552.653 1543.18 L560.292 1543.18 L560.292 1516.82 L551.982 1518.49 L551.982 1514.23 L560.246 1512.56 L564.922 1512.56 L564.922 1543.18 L572.561 1543.18 L572.561 1547.12 L552.653 1547.12 L552.653 1543.18 Z\\\" fill=\\\"#000000\\\" fill-rule=\\\"evenodd\\\" fill-opacity=\\\"1\\\" \\/><path clip-path=\\\"url(#clip200)\\\" d=\\\"M 0 0 M587.63 1515.64 Q584.019 1515.64 582.19 1519.2 Q580.385 1522.75 580.385 1529.87 Q580.385 1536.98 582.19 1540.55 Q584.019 1544.09 587.63 1544.09 Q591.264 1544.09 593.07 1540.55 Q594.899 1536.98 594.899 1529.87 Q594.899 1522.75 593.07 1519.2 Q591.264 1515.64 587.63 1515.64 M587.63 1511.93 Q593.44 1511.93 596.496 1516.54 Q599.575 1521.12 599.575 1529.87 Q599.575 1538.6 596.496 1543.21 Q593.44 1547.79 587.63 1547.79 Q581.82 1547.79 578.741 1543.21 Q575.686 1538.6 575.686 1529.87 Q575.686 1521.12 578.741 1516.54 Q581.82 1511.93 587.63 1511.93 Z\\\" fill=\\\"#000000\\\" fill-rule=\\\"evenodd\\\" fill-opacity=\\\"1\\\" \\/><path clip-path=\\\"url(#clip200)\\\" d=\\\"M 0 0 M975.037 1543.18 L991.356 1543.18 L991.356 1547.12 L969.412 1547.12 L969.412 1543.18 Q972.074 1540.43 976.657 1535.8 Q981.263 1531.15 982.444 1529.81 Q984.689 1527.28 985.569 1525.55 Q986.472 1523.79 986.472 1522.1 Q986.472 1519.34 984.527 1517.61 Q982.606 1515.87 979.504 1515.87 Q977.305 1515.87 974.851 1516.63 Q972.421 1517.4 969.643 1518.95 L969.643 1514.23 Q972.467 1513.09 974.921 1512.51 Q977.375 1511.93 979.412 1511.93 Q984.782 1511.93 987.976 1514.62 Q991.171 1517.31 991.171 1521.8 Q991.171 1523.93 990.361 1525.85 Q989.574 1527.74 987.467 1530.34 Q986.888 1531.01 983.787 1534.23 Q980.685 1537.42 975.037 1543.18 Z\\\" fill=\\\"#000000\\\" fill-rule=\\\"evenodd\\\" fill-opacity=\\\"1\\\" \\/><path clip-path=\\\"url(#clip200)\\\" d=\\\"M 0 0 M1006.43 1515.64 Q1002.81 1515.64 1000.99 1519.2 Q999.18 1522.75 999.18 1529.87 Q999.18 1536.98 1000.99 1540.55 Q1002.81 1544.09 1006.43 1544.09 Q1010.06 1544.09 1011.87 1540.55 Q1013.69 1536.98 1013.69 1529.87 Q1013.69 1522.75 1011.87 1519.2 Q1010.06 1515.64 1006.43 1515.64 M1006.43 1511.93 Q1012.24 1511.93 1015.29 1516.54 Q1018.37 1521.12 1018.37 1529.87 Q1018.37 1538.6 1015.29 1543.21 Q1012.24 1547.79 1006.43 1547.79 Q1000.62 1547.79 997.537 1543.21 Q994.481 1538.6 994.481 1529.87 Q994.481 1521.12 997.537 1516.54 Q1000.62 1511.93 1006.43 1511.93 Z\\\" fill=\\\"#000000\\\" fill-rule=\\\"evenodd\\\" fill-opacity=\\\"1\\\" \\/><path clip-path=\\\"url(#clip200)\\\" d=\\\"M 0 0 M1402.74 1528.49 Q1406.1 1529.2 1407.98 1531.47 Q1409.87 1533.74 1409.87 1537.07 Q1409.87 1542.19 1406.35 1544.99 Q1402.84 1547.79 1396.36 1547.79 Q1394.18 1547.79 1391.86 1547.35 Q1389.57 1546.93 1387.12 1546.08 L1387.12 1541.56 Q1389.06 1542.7 1391.38 1543.28 Q1393.69 1543.86 1396.22 1543.86 Q1400.61 1543.86 1402.91 1542.12 Q1405.22 1540.38 1405.22 1537.07 Q1405.22 1534.02 1403.07 1532.31 Q1400.94 1530.57 1397.12 1530.57 L1393.09 1530.57 L1393.09 1526.73 L1397.3 1526.73 Q1400.75 1526.73 1402.58 1525.36 Q1404.41 1523.97 1404.41 1521.38 Q1404.41 1518.72 1402.51 1517.31 Q1400.64 1515.87 1397.12 1515.87 Q1395.2 1515.87 1393 1516.29 Q1390.8 1516.7 1388.16 1517.58 L1388.16 1513.42 Q1390.82 1512.68 1393.14 1512.31 Q1395.48 1511.93 1397.54 1511.93 Q1402.86 1511.93 1405.96 1514.37 Q1409.06 1516.77 1409.06 1520.89 Q1409.06 1523.76 1407.42 1525.75 Q1405.78 1527.72 1402.74 1528.49 Z\\\" fill=\\\"#000000\\\" fill-rule=\\\"evenodd\\\" fill-opacity=\\\"1\\\" \\/><path clip-path=\\\"url(#clip200)\\\" d=\\\"M 0 0 M1424.94 1515.64 Q1421.33 1515.64 1419.5 1519.2 Q1417.7 1522.75 1417.7 1529.87 Q1417.7 1536.98 1419.5 1540.55 Q1421.33 1544.09 1424.94 1544.09 Q1428.58 1544.09 1430.38 1540.55 Q1432.21 1536.98 1432.21 1529.87 Q1432.21 1522.75 1430.38 1519.2 Q1428.58 1515.64 1424.94 1515.64 M1424.94 1511.93 Q1430.75 1511.93 1433.81 1516.54 Q1436.89 1521.12 1436.89 1529.87 Q1436.89 1538.6 1433.81 1543.21 Q1430.75 1547.79 1424.94 1547.79 Q1419.13 1547.79 1416.05 1543.21 Q1413 1538.6 1413 1529.87 Q1413 1521.12 1416.05 1516.54 Q1419.13 1511.93 1424.94 1511.93 Z\\\" fill=\\\"#000000\\\" fill-rule=\\\"evenodd\\\" fill-opacity=\\\"1\\\" \\/><path clip-path=\\\"url(#clip200)\\\" d=\\\"M 0 0 M1819.62 1516.63 L1807.81 1535.08 L1819.62 1535.08 L1819.62 1516.63 M1818.39 1512.56 L1824.27 1512.56 L1824.27 1535.08 L1829.2 1535.08 L1829.2 1538.97 L1824.27 1538.97 L1824.27 1547.12 L1819.62 1547.12 L1819.62 1538.97 L1804.02 1538.97 L1804.02 1534.46 L1818.39 1512.56 Z\\\" fill=\\\"#000000\\\" fill-rule=\\\"evenodd\\\" fill-opacity=\\\"1\\\" \\/><path clip-path=\\\"url(#clip200)\\\" d=\\\"M 0 0 M1844.27 1515.64 Q1840.66 1515.64 1838.83 1519.2 Q1837.03 1522.75 1837.03 1529.87 Q1837.03 1536.98 1838.83 1540.55 Q1840.66 1544.09 1844.27 1544.09 Q1847.9 1544.09 1849.71 1540.55 Q1851.54 1536.98 1851.54 1529.87 Q1851.54 1522.75 1849.71 1519.2 Q1847.9 1515.64 1844.27 1515.64 M1844.27 1511.93 Q1850.08 1511.93 1853.14 1516.54 Q1856.21 1521.12 1856.21 1529.87 Q1856.21 1538.6 1853.14 1543.21 Q1850.08 1547.79 1844.27 1547.79 Q1838.46 1547.79 1835.38 1543.21 Q1832.33 1538.6 1832.33 1529.87 Q1832.33 1521.12 1835.38 1516.54 Q1838.46 1511.93 1844.27 1511.93 Z\\\" fill=\\\"#000000\\\" fill-rule=\\\"evenodd\\\" fill-opacity=\\\"1\\\" \\/><path clip-path=\\\"url(#clip200)\\\" d=\\\"M 0 0 M2225 1512.56 L2243.36 1512.56 L2243.36 1516.5 L2229.28 1516.5 L2229.28 1524.97 Q2230.3 1524.62 2231.32 1524.46 Q2232.34 1524.27 2233.36 1524.27 Q2239.14 1524.27 2242.52 1527.44 Q2245.9 1530.62 2245.9 1536.03 Q2245.9 1541.61 2242.43 1544.71 Q2238.96 1547.79 2232.64 1547.79 Q2230.46 1547.79 2228.19 1547.42 Q2225.95 1547.05 2223.54 1546.31 L2223.54 1541.61 Q2225.62 1542.74 2227.85 1543.3 Q2230.07 1543.86 2232.55 1543.86 Q2236.55 1543.86 2238.89 1541.75 Q2241.23 1539.64 2241.23 1536.03 Q2241.23 1532.42 2238.89 1530.31 Q2236.55 1528.21 2232.55 1528.21 Q2230.67 1528.21 2228.8 1528.62 Q2226.94 1529.04 2225 1529.92 L2225 1512.56 Z\\\" fill=\\\"#000000\\\" fill-rule=\\\"evenodd\\\" fill-opacity=\\\"1\\\" \\/><path clip-path=\\\"url(#clip200)\\\" d=\\\"M 0 0 M2260.97 1515.64 Q2257.36 1515.64 2255.53 1519.2 Q2253.73 1522.75 2253.73 1529.87 Q2253.73 1536.98 2255.53 1540.55 Q2257.36 1544.09 2260.97 1544.09 Q2264.61 1544.09 2266.41 1540.55 Q2268.24 1536.98 2268.24 1529.87 Q2268.24 1522.75 2266.41 1519.2 Q2264.61 1515.64 2260.97 1515.64 M2260.97 1511.93 Q2266.78 1511.93 2269.84 1516.54 Q2272.92 1521.12 2272.92 1529.87 Q2272.92 1538.6 2269.84 1543.21 Q2266.78 1547.79 2260.97 1547.79 Q2255.16 1547.79 2252.08 1543.21 Q2249.03 1538.6 2249.03 1529.87 Q2249.03 1521.12 2252.08 1516.54 Q2255.16 1511.93 2260.97 1511.93 Z\\\" fill=\\\"#000000\\\" fill-rule=\\\"evenodd\\\" fill-opacity=\\\"1\\\" \\/><polyline clip-path=\\\"url(#clip202)\\\" style=\\\"stroke:#000000; stroke-width:2; stroke-opacity:0.1; fill:none\\\" points=\\\"\\n  136.76,1445.72 2352.76,1445.72 \\n  \\\"\\/>\\n<polyline clip-path=\\\"url(#clip202)\\\" style=\\\"stroke:#000000; stroke-width:2; stroke-opacity:0.1; fill:none\\\" points=\\\"\\n  136.76,1106.28 2352.76,1106.28 \\n  \\\"\\/>\\n<polyline clip-path=\\\"url(#clip202)\\\" style=\\\"stroke:#000000; stroke-width:2; stroke-opacity:0.1; fill:none\\\" points=\\\"\\n  136.76,766.846 2352.76,766.846 \\n  \\\"\\/>\\n<polyline clip-path=\\\"url(#clip202)\\\" style=\\\"stroke:#000000; stroke-width:2; stroke-opacity:0.1; fill:none\\\" points=\\\"\\n  136.76,427.411 2352.76,427.411 \\n  \\\"\\/>\\n<polyline clip-path=\\\"url(#clip202)\\\" style=\\\"stroke:#000000; stroke-width:2; stroke-opacity:0.1; fill:none\\\" points=\\\"\\n  136.76,87.9763 2352.76,87.9763 \\n  \\\"\\/>\\n<polyline clip-path=\\\"url(#clip200)\\\" style=\\\"stroke:#000000; stroke-width:4; stroke-opacity:1; fill:none\\\" points=\\\"\\n  136.76,1486.45 136.76,47.2441 \\n  \\\"\\/>\\n<polyline clip-path=\\\"url(#clip200)\\\" style=\\\"stroke:#000000; stroke-width:4; stroke-opacity:1; fill:none\\\" points=\\\"\\n  136.76,1445.72 163.352,1445.72 \\n  \\\"\\/>\\n<polyline clip-path=\\\"url(#clip200)\\\" style=\\\"stroke:#000000; stroke-width:4; stroke-opacity:1; fill:none\\\" points=\\\"\\n  136.76,1106.28 163.352,1106.28 \\n  \\\"\\/>\\n<polyline clip-path=\\\"url(#clip200)\\\" style=\\\"stroke:#000000; stroke-width:4; stroke-opacity:1; fill:none\\\" points=\\\"\\n  136.76,766.846 163.352,766.846 \\n  \\\"\\/>\\n<polyline clip-path=\\\"url(#clip200)\\\" style=\\\"stroke:#000000; stroke-width:4; stroke-opacity:1; fill:none\\\" points=\\\"\\n  136.76,427.411 163.352,427.411 \\n  \\\"\\/>\\n<polyline clip-path=\\\"url(#clip200)\\\" style=\\\"stroke:#000000; stroke-width:4; stroke-opacity:1; fill:none\\\" points=\\\"\\n  136.76,87.9763 163.352,87.9763 \\n  \\\"\\/>\\n<path clip-path=\\\"url(#clip200)\\\" d=\\\"M 0 0 M54.8347 1459.06 L62.4735 1459.06 L62.4735 1432.69 L54.1634 1434.36 L54.1634 1430.1 L62.4272 1428.44 L67.1032 1428.44 L67.1032 1459.06 L74.742 1459.06 L74.742 1463 L54.8347 1463 L54.8347 1459.06 Z\\\" fill=\\\"#000000\\\" fill-rule=\\\"evenodd\\\" fill-opacity=\\\"1\\\" \\/><path clip-path=\\\"url(#clip200)\\\" d=\\\"M 0 0 M79.8577 1428.44 L98.2141 1428.44 L98.2141 1432.37 L84.1401 1432.37 L84.1401 1440.84 Q85.1586 1440.5 86.1771 1440.33 Q87.1956 1440.15 88.2141 1440.15 Q94.0012 1440.15 97.3808 1443.32 Q100.76 1446.49 100.76 1451.91 Q100.76 1457.49 97.2882 1460.59 Q93.816 1463.67 87.4966 1463.67 Q85.3206 1463.67 83.0521 1463.3 Q80.8068 1462.93 78.3994 1462.19 L78.3994 1457.49 Q80.4827 1458.62 82.7049 1459.18 Q84.9271 1459.73 87.404 1459.73 Q91.4086 1459.73 93.7465 1457.63 Q96.0845 1455.52 96.0845 1451.91 Q96.0845 1448.3 93.7465 1446.19 Q91.4086 1444.08 87.404 1444.08 Q85.529 1444.08 83.654 1444.5 Q81.8021 1444.92 79.8577 1445.8 L79.8577 1428.44 Z\\\" fill=\\\"#000000\\\" fill-rule=\\\"evenodd\\\" fill-opacity=\\\"1\\\" \\/><path clip-path=\\\"url(#clip200)\\\" d=\\\"M 0 0 M57.4273 1119.63 L73.7466 1119.63 L73.7466 1123.56 L51.8023 1123.56 L51.8023 1119.63 Q54.4643 1116.87 59.0476 1112.24 Q63.6541 1107.59 64.8346 1106.25 Q67.08 1103.72 67.9596 1101.99 Q68.8624 1100.23 68.8624 1098.54 Q68.8624 1095.78 66.918 1094.05 Q64.9967 1092.31 61.8948 1092.31 Q59.6958 1092.31 57.2421 1093.07 Q54.8115 1093.84 52.0338 1095.39 L52.0338 1090.67 Q54.8578 1089.53 57.3115 1088.95 Q59.7652 1088.38 61.8023 1088.38 Q67.1726 1088.38 70.367 1091.06 Q73.5614 1093.75 73.5614 1098.24 Q73.5614 1100.37 72.7513 1102.29 Q71.9642 1104.19 69.8578 1106.78 Q69.2791 1107.45 66.1772 1110.67 Q63.0754 1113.86 57.4273 1119.63 Z\\\" fill=\\\"#000000\\\" fill-rule=\\\"evenodd\\\" fill-opacity=\\\"1\\\" \\/><path clip-path=\\\"url(#clip200)\\\" d=\\\"M 0 0 M88.816 1092.08 Q85.2049 1092.08 83.3762 1095.64 Q81.5707 1099.19 81.5707 1106.32 Q81.5707 1113.42 83.3762 1116.99 Q85.2049 1120.53 88.816 1120.53 Q92.4502 1120.53 94.2558 1116.99 Q96.0845 1113.42 96.0845 1106.32 Q96.0845 1099.19 94.2558 1095.64 Q92.4502 1092.08 88.816 1092.08 M88.816 1088.38 Q94.6262 1088.38 97.6817 1092.98 Q100.76 1097.57 100.76 1106.32 Q100.76 1115.04 97.6817 1119.65 Q94.6262 1124.23 88.816 1124.23 Q83.0058 1124.23 79.9272 1119.65 Q76.8716 1115.04 76.8716 1106.32 Q76.8716 1097.57 79.9272 1092.98 Q83.0058 1088.38 88.816 1088.38 Z\\\" fill=\\\"#000000\\\" fill-rule=\\\"evenodd\\\" fill-opacity=\\\"1\\\" \\/><path clip-path=\\\"url(#clip200)\\\" d=\\\"M 0 0 M58.4226 780.191 L74.742 780.191 L74.742 784.126 L52.7977 784.126 L52.7977 780.191 Q55.4597 777.436 60.043 772.807 Q64.6495 768.154 65.83 766.811 Q68.0754 764.288 68.955 762.552 Q69.8578 760.793 69.8578 759.103 Q69.8578 756.348 67.9133 754.612 Q65.992 752.876 62.8902 752.876 Q60.6911 752.876 58.2375 753.64 Q55.8069 754.404 53.0292 755.955 L53.0292 751.233 Q55.8532 750.098 58.3069 749.52 Q60.7606 748.941 62.7976 748.941 Q68.168 748.941 71.3624 751.626 Q74.5568 754.311 74.5568 758.802 Q74.5568 760.932 73.7466 762.853 Q72.9596 764.751 70.8531 767.344 Q70.2744 768.015 67.1726 771.233 Q64.0708 774.427 58.4226 780.191 Z\\\" fill=\\\"#000000\\\" fill-rule=\\\"evenodd\\\" fill-opacity=\\\"1\\\" \\/><path clip-path=\\\"url(#clip200)\\\" d=\\\"M 0 0 M79.8577 749.566 L98.2141 749.566 L98.2141 753.501 L84.1401 753.501 L84.1401 761.973 Q85.1586 761.626 86.1771 761.464 Q87.1956 761.279 88.2141 761.279 Q94.0012 761.279 97.3808 764.45 Q100.76 767.621 100.76 773.038 Q100.76 778.617 97.2882 781.719 Q93.816 784.797 87.4966 784.797 Q85.3206 784.797 83.0521 784.427 Q80.8068 784.057 78.3994 783.316 L78.3994 778.617 Q80.4827 779.751 82.7049 780.307 Q84.9271 780.862 87.404 780.862 Q91.4086 780.862 93.7465 778.756 Q96.0845 776.649 96.0845 773.038 Q96.0845 769.427 93.7465 767.321 Q91.4086 765.214 87.404 765.214 Q85.529 765.214 83.654 765.631 Q81.8021 766.047 79.8577 766.927 L79.8577 749.566 Z\\\" fill=\\\"#000000\\\" fill-rule=\\\"evenodd\\\" fill-opacity=\\\"1\\\" \\/><path clip-path=\\\"url(#clip200)\\\" d=\\\"M 0 0 M66.617 426.057 Q69.9735 426.775 71.8485 429.043 Q73.7466 431.312 73.7466 434.645 Q73.7466 439.761 70.2281 442.562 Q66.7096 445.362 60.2282 445.362 Q58.0523 445.362 55.7375 444.923 Q53.4458 444.506 50.9921 443.649 L50.9921 439.136 Q52.9366 440.27 55.2514 440.849 Q57.5662 441.427 60.0893 441.427 Q64.4874 441.427 66.7791 439.691 Q69.0939 437.955 69.0939 434.645 Q69.0939 431.589 66.9411 429.876 Q64.8115 428.14 60.9921 428.14 L56.9643 428.14 L56.9643 424.298 L61.1773 424.298 Q64.6263 424.298 66.455 422.932 Q68.2837 421.543 68.2837 418.951 Q68.2837 416.289 66.3856 414.876 Q64.5106 413.441 60.9921 413.441 Q59.0708 413.441 56.8717 413.858 Q54.6727 414.275 52.0338 415.154 L52.0338 410.988 Q54.6958 410.247 57.0106 409.877 Q59.3486 409.506 61.4087 409.506 Q66.7328 409.506 69.8346 411.937 Q72.9365 414.344 72.9365 418.464 Q72.9365 421.335 71.2929 423.326 Q69.6494 425.293 66.617 426.057 Z\\\" fill=\\\"#000000\\\" fill-rule=\\\"evenodd\\\" fill-opacity=\\\"1\\\" \\/><path clip-path=\\\"url(#clip200)\\\" d=\\\"M 0 0 M88.816 413.21 Q85.2049 413.21 83.3762 416.775 Q81.5707 420.316 81.5707 427.446 Q81.5707 434.552 83.3762 438.117 Q85.2049 441.659 88.816 441.659 Q92.4502 441.659 94.2558 438.117 Q96.0845 434.552 96.0845 427.446 Q96.0845 420.316 94.2558 416.775 Q92.4502 413.21 88.816 413.21 M88.816 409.506 Q94.6262 409.506 97.6817 414.113 Q100.76 418.696 100.76 427.446 Q100.76 436.173 97.6817 440.779 Q94.6262 445.362 88.816 445.362 Q83.0058 445.362 79.9272 440.779 Q76.8716 436.173 76.8716 427.446 Q76.8716 418.696 79.9272 414.113 Q83.0058 409.506 88.816 409.506 Z\\\" fill=\\\"#000000\\\" fill-rule=\\\"evenodd\\\" fill-opacity=\\\"1\\\" \\/><path clip-path=\\\"url(#clip200)\\\" d=\\\"M 0 0 M67.6124 86.6221 Q70.9689 87.3397 72.8439 89.6082 Q74.742 91.8767 74.742 95.21 Q74.742 100.326 71.2235 103.127 Q67.705 105.928 61.2236 105.928 Q59.0476 105.928 56.7328 105.488 Q54.4412 105.071 51.9875 104.215 L51.9875 99.7008 Q53.9319 100.835 56.2467 101.414 Q58.5615 101.992 61.0847 101.992 Q65.4828 101.992 67.7744 100.256 Q70.0892 98.5202 70.0892 95.21 Q70.0892 92.1545 67.9365 90.4415 Q65.8069 88.7054 61.9874 88.7054 L57.9597 88.7054 L57.9597 84.8629 L62.1726 84.8629 Q65.6217 84.8629 67.4504 83.4971 Q69.2791 82.1083 69.2791 79.5157 Q69.2791 76.8537 67.3809 75.4416 Q65.5059 74.0064 61.9874 74.0064 Q60.0662 74.0064 57.8671 74.4231 Q55.668 74.8398 53.0292 75.7194 L53.0292 71.5528 Q55.6912 70.812 58.006 70.4416 Q60.3439 70.0713 62.4041 70.0713 Q67.7281 70.0713 70.83 72.5018 Q73.9318 74.9092 73.9318 79.0296 Q73.9318 81.8999 72.2883 83.8907 Q70.6448 85.8582 67.6124 86.6221 Z\\\" fill=\\\"#000000\\\" fill-rule=\\\"evenodd\\\" fill-opacity=\\\"1\\\" \\/><path clip-path=\\\"url(#clip200)\\\" d=\\\"M 0 0 M79.8577 70.6963 L98.2141 70.6963 L98.2141 74.6314 L84.1401 74.6314 L84.1401 83.1036 Q85.1586 82.7564 86.1771 82.5944 Q87.1956 82.4092 88.2141 82.4092 Q94.0012 82.4092 97.3808 85.5805 Q100.76 88.7517 100.76 94.1684 Q100.76 99.747 97.2882 102.849 Q93.816 105.928 87.4966 105.928 Q85.3206 105.928 83.0521 105.557 Q80.8068 105.187 78.3994 104.446 L78.3994 99.747 Q80.4827 100.881 82.7049 101.437 Q84.9271 101.992 87.404 101.992 Q91.4086 101.992 93.7465 99.8859 Q96.0845 97.7795 96.0845 94.1684 Q96.0845 90.5573 93.7465 88.4508 Q91.4086 86.3443 87.404 86.3443 Q85.529 86.3443 83.654 86.761 Q81.8021 87.1777 79.8577 88.0573 L79.8577 70.6963 Z\\\" fill=\\\"#000000\\\" fill-rule=\\\"evenodd\\\" fill-opacity=\\\"1\\\" \\/><polyline clip-path=\\\"url(#clip202)\\\" style=\\\"stroke:#800080; stroke-width:4; stroke-opacity:1; fill:none\\\" points=\\\"\\n  199.477,563.185 241.288,563.185 283.1,698.959 324.911,698.959 366.722,766.846 408.533,902.62 450.345,902.62 492.156,970.507 533.967,970.507 575.778,970.507 \\n  617.59,970.507 659.401,1038.39 701.212,1038.39 743.023,1106.28 784.835,1106.28 826.646,1174.17 868.457,1174.17 910.268,1174.17 952.079,1242.05 993.891,1242.05 \\n  1035.7,1242.05 1077.51,1242.05 1119.32,1242.05 1161.14,1242.05 1202.95,1242.05 1244.76,1309.94 1286.57,1309.94 1328.38,1377.83 1370.19,1445.72 1412,1445.72 \\n  1453.81,1445.72 1495.63,1445.72 1537.44,1445.72 1579.25,1445.72 1621.06,1445.72 1662.87,1445.72 1704.68,1445.72 1746.49,1309.94 1788.3,1377.83 1830.12,1377.83 \\n  1871.93,1377.83 1913.74,1377.83 1955.55,1377.83 1997.36,1377.83 2039.17,1377.83 2080.98,1242.05 2122.79,1242.05 2164.61,1242.05 2206.42,1309.94 2248.23,1309.94 \\n  2290.04,1309.94 \\n  \\\"\\/>\\n<polyline clip-path=\\\"url(#clip202)\\\" style=\\\"stroke:#008000; stroke-width:4; stroke-opacity:1; fill:none\\\" points=\\\"\\n  199.477,495.298 241.288,563.185 283.1,495.298 324.911,427.411 366.722,359.524 408.533,291.637 450.345,223.75 492.156,223.75 533.967,359.524 575.778,291.637 \\n  617.59,223.75 659.401,155.863 701.212,155.863 743.023,87.9763 784.835,223.75 826.646,155.863 868.457,291.637 910.268,223.75 952.079,155.863 993.891,87.9763 \\n  1035.7,87.9763 1077.51,87.9763 1119.32,223.75 1161.14,359.524 1202.95,495.298 1244.76,427.411 1286.57,427.411 1328.38,359.524 1370.19,291.637 1412,223.75 \\n  1453.81,223.75 1495.63,359.524 1537.44,359.524 1579.25,359.524 1621.06,359.524 1662.87,359.524 1704.68,495.298 1746.49,495.298 1788.3,427.411 1830.12,359.524 \\n  1871.93,359.524 1913.74,495.298 1955.55,427.411 1997.36,563.185 2039.17,563.185 2080.98,563.185 2122.79,698.959 2164.61,698.959 2206.42,631.072 2248.23,631.072 \\n  2290.04,563.185 \\n  \\\"\\/>\\n<path clip-path=\\\"url(#clip200)\\\" d=\\\"\\nM1826.65 276.658 L2278.89 276.658 L2278.89 95.2176 L1826.65 95.2176  Z\\n  \\\" fill=\\\"#ffffff\\\" fill-rule=\\\"evenodd\\\" fill-opacity=\\\"1\\\"\\/>\\n<polyline clip-path=\\\"url(#clip200)\\\" style=\\\"stroke:#000000; stroke-width:4; stroke-opacity:1; fill:none\\\" points=\\\"\\n  1826.65,276.658 2278.89,276.658 2278.89,95.2176 1826.65,95.2176 1826.65,276.658 \\n  \\\"\\/>\\n<polyline clip-path=\\\"url(#clip200)\\\" style=\\\"stroke:#800080; stroke-width:4; stroke-opacity:1; fill:none\\\" points=\\\"\\n  1851.27,155.698 1999.01,155.698 \\n  \\\"\\/>\\n<path clip-path=\\\"url(#clip200)\\\" d=\\\"M 0 0 M2042.54 159.714 Q2042.54 155.084 2040.62 152.538 Q2038.72 149.992 2035.27 149.992 Q2031.85 149.992 2029.92 152.538 Q2028.03 155.084 2028.03 159.714 Q2028.03 164.32 2029.92 166.866 Q2031.85 169.413 2035.27 169.413 Q2038.72 169.413 2040.62 166.866 Q2042.54 164.32 2042.54 159.714 M2046.8 169.76 Q2046.8 176.38 2043.86 179.598 Q2040.92 182.839 2034.85 182.839 Q2032.61 182.839 2030.62 182.491 Q2028.63 182.167 2026.75 181.473 L2026.75 177.329 Q2028.63 178.348 2030.46 178.834 Q2032.28 179.32 2034.18 179.32 Q2038.37 179.32 2040.46 177.121 Q2042.54 174.945 2042.54 170.524 L2042.54 168.417 Q2041.22 170.709 2039.16 171.843 Q2037.1 172.978 2034.23 172.978 Q2029.46 172.978 2026.54 169.343 Q2023.63 165.709 2023.63 159.714 Q2023.63 153.695 2026.54 150.061 Q2029.46 146.427 2034.23 146.427 Q2037.1 146.427 2039.16 147.561 Q2041.22 148.695 2042.54 150.987 L2042.54 147.052 L2046.8 147.052 L2046.8 169.76 Z\\\" fill=\\\"#000000\\\" fill-rule=\\\"evenodd\\\" fill-opacity=\\\"1\\\" \\/><path clip-path=\\\"url(#clip200)\\\" d=\\\"M 0 0 M2061.31 150.038 Q2057.89 150.038 2055.9 152.723 Q2053.91 155.385 2053.91 160.038 Q2053.91 164.691 2055.87 167.376 Q2057.86 170.038 2061.31 170.038 Q2064.72 170.038 2066.71 167.353 Q2068.7 164.667 2068.7 160.038 Q2068.7 155.431 2066.71 152.746 Q2064.72 150.038 2061.31 150.038 M2061.31 146.427 Q2066.87 146.427 2070.04 150.038 Q2073.21 153.649 2073.21 160.038 Q2073.21 166.404 2070.04 170.038 Q2066.87 173.649 2061.31 173.649 Q2055.73 173.649 2052.56 170.038 Q2049.41 166.404 2049.41 160.038 Q2049.41 153.649 2052.56 150.038 Q2055.73 146.427 2061.31 146.427 Z\\\" fill=\\\"#000000\\\" fill-rule=\\\"evenodd\\\" fill-opacity=\\\"1\\\" \\/><path clip-path=\\\"url(#clip200)\\\" d=\\\"M 0 0 M2077.82 136.959 L2082.08 136.959 L2082.08 150.894 L2084.97 148.811 L2086.73 151.265 L2082.08 154.529 L2082.08 172.978 L2077.82 172.978 L2077.82 157.561 L2074.97 159.598 L2073.26 157.144 L2077.82 153.88 L2077.82 136.959 Z\\\" fill=\\\"#000000\\\" fill-rule=\\\"evenodd\\\" fill-opacity=\\\"1\\\" \\/><path clip-path=\\\"url(#clip200)\\\" d=\\\"M 0 0 M2113.37 158.95 L2113.37 161.033 L2093.79 161.033 Q2094.07 165.431 2096.43 167.746 Q2098.81 170.038 2103.05 170.038 Q2105.5 170.038 2107.79 169.436 Q2110.11 168.834 2112.38 167.63 L2112.38 171.658 Q2110.09 172.63 2107.68 173.14 Q2105.27 173.649 2102.79 173.649 Q2096.59 173.649 2092.96 170.038 Q2089.34 166.427 2089.34 160.269 Q2089.34 153.904 2092.77 150.177 Q2096.22 146.427 2102.05 146.427 Q2107.28 146.427 2110.32 149.806 Q2113.37 153.163 2113.37 158.95 M2109.11 157.7 Q2109.07 154.205 2107.15 152.121 Q2105.25 150.038 2102.1 150.038 Q2098.53 150.038 2096.38 152.052 Q2094.25 154.066 2093.93 157.723 L2109.11 157.7 M2105.62 172.978 L2108.37 172.978 Q2107.33 174.39 2106.82 175.408 Q2106.34 176.427 2106.34 177.144 Q2106.34 178.209 2106.96 178.741 Q2107.61 179.274 2108.86 179.274 Q2109.6 179.274 2110.32 179.089 Q2111.03 178.927 2111.75 178.579 L2111.75 181.658 Q2110.87 181.89 2110.09 182.005 Q2109.3 182.121 2108.6 182.121 Q2105.78 182.121 2104.44 181.103 Q2103.12 180.107 2103.12 177.954 Q2103.12 176.843 2103.72 175.616 Q2104.34 174.413 2105.62 172.978 Z\\\" fill=\\\"#000000\\\" fill-rule=\\\"evenodd\\\" fill-opacity=\\\"1\\\" \\/><path clip-path=\\\"url(#clip200)\\\" d=\\\"M 0 0 M2136.45 160.038 Q2136.45 155.339 2134.51 152.677 Q2132.59 149.992 2129.21 149.992 Q2125.83 149.992 2123.88 152.677 Q2121.96 155.339 2121.96 160.038 Q2121.96 164.737 2123.88 167.422 Q2125.83 170.084 2129.21 170.084 Q2132.59 170.084 2134.51 167.422 Q2136.45 164.737 2136.45 160.038 M2121.96 150.987 Q2123.3 148.672 2125.34 147.561 Q2127.4 146.427 2130.25 146.427 Q2134.97 146.427 2137.91 150.177 Q2140.87 153.927 2140.87 160.038 Q2140.87 166.149 2137.91 169.899 Q2134.97 173.649 2130.25 173.649 Q2127.4 173.649 2125.34 172.538 Q2123.3 171.403 2121.96 169.089 L2121.96 172.978 L2117.68 172.978 L2117.68 136.959 L2121.96 136.959 L2121.96 150.987 Z\\\" fill=\\\"#000000\\\" fill-rule=\\\"evenodd\\\" fill-opacity=\\\"1\\\" \\/><path clip-path=\\\"url(#clip200)\\\" d=\\\"M 0 0 M2145.34 147.052 L2149.6 147.052 L2149.6 172.978 L2145.34 172.978 L2145.34 147.052 M2145.34 136.959 L2149.6 136.959 L2149.6 142.353 L2145.34 142.353 L2145.34 136.959 Z\\\" fill=\\\"#000000\\\" fill-rule=\\\"evenodd\\\" fill-opacity=\\\"1\\\" \\/><path clip-path=\\\"url(#clip200)\\\" d=\\\"M 0 0 M2176.24 158.95 L2176.24 161.033 L2156.66 161.033 Q2156.94 165.431 2159.3 167.746 Q2161.68 170.038 2165.92 170.038 Q2168.37 170.038 2170.66 169.436 Q2172.98 168.834 2175.25 167.63 L2175.25 171.658 Q2172.96 172.63 2170.55 173.14 Q2168.14 173.649 2165.66 173.649 Q2159.46 173.649 2155.83 170.038 Q2152.21 166.427 2152.21 160.269 Q2152.21 153.904 2155.64 150.177 Q2159.09 146.427 2164.92 146.427 Q2170.15 146.427 2173.19 149.806 Q2176.24 153.163 2176.24 158.95 M2171.98 157.7 Q2171.94 154.205 2170.02 152.121 Q2168.12 150.038 2164.97 150.038 Q2161.4 150.038 2159.25 152.052 Q2157.12 154.066 2156.8 157.723 L2171.98 157.7 Z\\\" fill=\\\"#000000\\\" fill-rule=\\\"evenodd\\\" fill-opacity=\\\"1\\\" \\/><polyline clip-path=\\\"url(#clip200)\\\" style=\\\"stroke:#008000; stroke-width:4; stroke-opacity:1; fill:none\\\" points=\\\"\\n  1851.27,216.178 1999.01,216.178 \\n  \\\"\\/>\\n<path clip-path=\\\"url(#clip200)\\\" d=\\\"M 0 0 M2028.95 207.532 L2033.21 207.532 L2033.21 233.921 Q2033.21 238.874 2031.31 241.096 Q2029.44 243.319 2025.25 243.319 L2023.63 243.319 L2023.63 239.708 L2024.76 239.708 Q2027.19 239.708 2028.07 238.573 Q2028.95 237.462 2028.95 233.921 L2028.95 207.532 M2028.95 197.439 L2033.21 197.439 L2033.21 202.833 L2028.95 202.833 L2028.95 197.439 Z\\\" fill=\\\"#000000\\\" fill-rule=\\\"evenodd\\\" fill-opacity=\\\"1\\\" \\/><path clip-path=\\\"url(#clip200)\\\" d=\\\"M 0 0 M2049.46 220.425 Q2044.3 220.425 2042.31 221.606 Q2040.32 222.786 2040.32 225.634 Q2040.32 227.902 2041.8 229.245 Q2043.3 230.564 2045.87 230.564 Q2049.41 230.564 2051.54 228.064 Q2053.7 225.541 2053.7 221.374 L2053.7 220.425 L2049.46 220.425 M2057.96 218.666 L2057.96 233.458 L2053.7 233.458 L2053.7 229.522 Q2052.24 231.883 2050.06 233.018 Q2047.89 234.129 2044.74 234.129 Q2040.76 234.129 2038.4 231.907 Q2036.06 229.661 2036.06 225.911 Q2036.06 221.536 2038.97 219.314 Q2041.91 217.092 2047.72 217.092 L2053.7 217.092 L2053.7 216.675 Q2053.7 213.735 2051.75 212.138 Q2049.83 210.518 2046.34 210.518 Q2044.11 210.518 2042.01 211.05 Q2039.9 211.583 2037.96 212.647 L2037.96 208.712 Q2040.29 207.81 2042.49 207.37 Q2044.69 206.907 2046.78 206.907 Q2052.4 206.907 2055.18 209.823 Q2057.96 212.74 2057.96 218.666 Z\\\" fill=\\\"#000000\\\" fill-rule=\\\"evenodd\\\" fill-opacity=\\\"1\\\" \\/><path clip-path=\\\"url(#clip200)\\\" d=\\\"M 0 0 M2078.95 208.296 L2078.95 212.323 Q2077.15 211.397 2075.2 210.935 Q2073.26 210.472 2071.17 210.472 Q2068 210.472 2066.41 211.444 Q2064.83 212.416 2064.83 214.36 Q2064.83 215.842 2065.97 216.698 Q2067.1 217.532 2070.53 218.296 L2071.98 218.62 Q2076.52 219.592 2078.42 221.374 Q2080.34 223.134 2080.34 226.305 Q2080.34 229.916 2077.47 232.022 Q2074.62 234.129 2069.62 234.129 Q2067.54 234.129 2065.27 233.712 Q2063.03 233.319 2060.53 232.508 L2060.53 228.11 Q2062.89 229.337 2065.18 229.962 Q2067.47 230.564 2069.72 230.564 Q2072.72 230.564 2074.34 229.546 Q2075.97 228.504 2075.97 226.629 Q2075.97 224.893 2074.78 223.967 Q2073.63 223.041 2069.67 222.184 L2068.19 221.837 Q2064.23 221.004 2062.47 219.291 Q2060.71 217.555 2060.71 214.546 Q2060.71 210.888 2063.3 208.898 Q2065.9 206.907 2070.66 206.907 Q2073.03 206.907 2075.11 207.254 Q2077.19 207.601 2078.95 208.296 Z\\\" fill=\\\"#000000\\\" fill-rule=\\\"evenodd\\\" fill-opacity=\\\"1\\\" \\/><path clip-path=\\\"url(#clip200)\\\" d=\\\"M 0 0 M2089.02 200.171 L2089.02 207.532 L2097.79 207.532 L2097.79 210.842 L2089.02 210.842 L2089.02 224.916 Q2089.02 228.087 2089.88 228.99 Q2090.76 229.893 2093.42 229.893 L2097.79 229.893 L2097.79 233.458 L2093.42 233.458 Q2088.49 233.458 2086.61 231.629 Q2084.74 229.777 2084.74 224.916 L2084.74 210.842 L2081.61 210.842 L2081.61 207.532 L2084.74 207.532 L2084.74 200.171 L2089.02 200.171 Z\\\" fill=\\\"#000000\\\" fill-rule=\\\"evenodd\\\" fill-opacity=\\\"1\\\" \\/><path clip-path=\\\"url(#clip200)\\\" d=\\\"M 0 0 M2117.28 211.513 Q2116.57 211.097 2115.71 210.911 Q2114.88 210.703 2113.86 210.703 Q2110.25 210.703 2108.3 213.064 Q2106.38 215.402 2106.38 219.8 L2106.38 233.458 L2102.1 233.458 L2102.1 207.532 L2106.38 207.532 L2106.38 211.56 Q2107.72 209.198 2109.88 208.064 Q2112.03 206.907 2115.11 206.907 Q2115.55 206.907 2116.08 206.976 Q2116.61 207.023 2117.26 207.138 L2117.28 211.513 Z\\\" fill=\\\"#000000\\\" fill-rule=\\\"evenodd\\\" fill-opacity=\\\"1\\\" \\/><path clip-path=\\\"url(#clip200)\\\" d=\\\"M 0 0 M2119.9 207.532 L2140.13 207.532 L2140.13 211.421 L2124.11 230.055 L2140.13 230.055 L2140.13 233.458 L2119.32 233.458 L2119.32 229.569 L2135.34 210.935 L2119.9 210.935 L2119.9 207.532 Z\\\" fill=\\\"#000000\\\" fill-rule=\\\"evenodd\\\" fill-opacity=\\\"1\\\" \\/><path clip-path=\\\"url(#clip200)\\\" d=\\\"M 0 0 M2166.78 219.43 L2166.78 221.513 L2147.19 221.513 Q2147.47 225.911 2149.83 228.226 Q2152.21 230.518 2156.45 230.518 Q2158.9 230.518 2161.2 229.916 Q2163.51 229.314 2165.78 228.11 L2165.78 232.138 Q2163.49 233.11 2161.08 233.62 Q2158.67 234.129 2156.2 234.129 Q2149.99 234.129 2146.36 230.518 Q2142.75 226.907 2142.75 220.749 Q2142.75 214.384 2146.17 210.657 Q2149.62 206.907 2155.46 206.907 Q2160.69 206.907 2163.72 210.286 Q2166.78 213.643 2166.78 219.43 M2162.52 218.18 Q2162.47 214.685 2160.55 212.601 Q2158.65 210.518 2155.5 210.518 Q2151.94 210.518 2149.78 212.532 Q2147.65 214.546 2147.33 218.203 L2162.52 218.18 M2159.02 233.458 L2161.78 233.458 Q2160.73 234.87 2160.22 235.888 Q2159.74 236.907 2159.74 237.624 Q2159.74 238.689 2160.36 239.221 Q2161.01 239.754 2162.26 239.754 Q2163 239.754 2163.72 239.569 Q2164.44 239.407 2165.15 239.059 L2165.15 242.138 Q2164.28 242.37 2163.49 242.485 Q2162.7 242.601 2162.01 242.601 Q2159.18 242.601 2157.84 241.583 Q2156.52 240.587 2156.52 238.434 Q2156.52 237.323 2157.12 236.096 Q2157.75 234.893 2159.02 233.458 Z\\\" fill=\\\"#000000\\\" fill-rule=\\\"evenodd\\\" fill-opacity=\\\"1\\\" \\/><path clip-path=\\\"url(#clip200)\\\" d=\\\"M 0 0 M2189.85 220.518 Q2189.85 215.819 2187.91 213.157 Q2185.99 210.472 2182.61 210.472 Q2179.23 210.472 2177.28 213.157 Q2175.36 215.819 2175.36 220.518 Q2175.36 225.217 2177.28 227.902 Q2179.23 230.564 2182.61 230.564 Q2185.99 230.564 2187.91 227.902 Q2189.85 225.217 2189.85 220.518 M2175.36 211.467 Q2176.71 209.152 2178.74 208.041 Q2180.8 206.907 2183.65 206.907 Q2188.37 206.907 2191.31 210.657 Q2194.27 214.407 2194.27 220.518 Q2194.27 226.629 2191.31 230.379 Q2188.37 234.129 2183.65 234.129 Q2180.8 234.129 2178.74 233.018 Q2176.71 231.883 2175.36 229.569 L2175.36 233.458 L2171.08 233.458 L2171.08 197.439 L2175.36 197.439 L2175.36 211.467 Z\\\" fill=\\\"#000000\\\" fill-rule=\\\"evenodd\\\" fill-opacity=\\\"1\\\" \\/><path clip-path=\\\"url(#clip200)\\\" d=\\\"M 0 0 M2198.74 207.532 L2203 207.532 L2203 233.458 L2198.74 233.458 L2198.74 207.532 M2198.74 197.439 L2203 197.439 L2203 202.833 L2198.74 202.833 L2198.74 197.439 Z\\\" fill=\\\"#000000\\\" fill-rule=\\\"evenodd\\\" fill-opacity=\\\"1\\\" \\/><path clip-path=\\\"url(#clip200)\\\" d=\\\"M 0 0 M2229.65 219.43 L2229.65 221.513 L2210.06 221.513 Q2210.34 225.911 2212.7 228.226 Q2215.08 230.518 2219.32 230.518 Q2221.77 230.518 2224.07 229.916 Q2226.38 229.314 2228.65 228.11 L2228.65 232.138 Q2226.36 233.11 2223.95 233.62 Q2221.54 234.129 2219.07 234.129 Q2212.86 234.129 2209.23 230.518 Q2205.62 226.907 2205.62 220.749 Q2205.62 214.384 2209.04 210.657 Q2212.49 206.907 2218.33 206.907 Q2223.56 206.907 2226.59 210.286 Q2229.65 213.643 2229.65 219.43 M2225.39 218.18 Q2225.34 214.685 2223.42 212.601 Q2221.52 210.518 2218.37 210.518 Q2214.81 210.518 2212.65 212.532 Q2210.52 214.546 2210.2 218.203 L2225.39 218.18 Z\\\" fill=\\\"#000000\\\" fill-rule=\\\"evenodd\\\" fill-opacity=\\\"1\\\" \\/><\\/svg>\\n\"},\"nodeType\":\"DOM\",\"type\":\"node\",\"instanceArgs\":{\"namespace\":\"html\",\"tag\":\"div\"},\"children\":[]}]}}}},\"children\":[{\"props\":{},\"nodeType\":\"ObservableNode\",\"type\":\"node\",\"instanceArgs\":{\"id\":\"11913641743310058961\",\"name\":\"obs-node\"},\"children\":[]}]}]},\n",
       "            window,\n",
       "        );\n",
       "    } else {\n",
       "        document\n",
       "            .querySelector('[data-webio-mountpoint=\"771602284140558869\"]')\n",
       "            .innerHTML = (\n",
       "                '<div style=\"padding: 1em; background-color: #f8d6da; border: 1px solid #f5c6cb\">' +\n",
       "                '<p><strong>WebIO not detected.</strong></p>' +\n",
       "                '<p>Please read ' +\n",
       "                '<a href=\"https://juliagizmos.github.io/WebIO.jl/latest/troubleshooting/not-detected/\" target=\"_blank\">the troubleshooting guide</a> ' +\n",
       "                'for more information on how to resolve this issue.</p>' +\n",
       "                '<p><a href=\"https://juliagizmos.github.io/WebIO.jl/latest/troubleshooting/not-detected/\" target=\"_blank\">https://juliagizmos.github.io/WebIO.jl/latest/troubleshooting/not-detected/</a></p>' +\n",
       "                '</div>'\n",
       "            );\n",
       "    }\n",
       "    </script>\n",
       "</div>\n"
      ],
      "text/plain": [
       "Node{WebIO.DOM}(WebIO.DOM(:html, :div), Any[Node{WebIO.DOM}(WebIO.DOM(:html, :div), Any[Scope(Node{WebIO.DOM}(WebIO.DOM(:html, :div), Any[Node{WebIO.DOM}(WebIO.DOM(:html, :div), Any[Node{WebIO.DOM}(WebIO.DOM(:html, :label), Any[\"time\"], Dict{Symbol,Any}(:className => \"interact \",:style => Dict{Any,Any}(:padding => \"5px 10px 0px 10px\")))], Dict{Symbol,Any}(:className => \"interact-flex-row-left\")), Node{WebIO.DOM}(WebIO.DOM(:html, :div), Any[Node{WebIO.DOM}(WebIO.DOM(:html, :input), Any[], Dict{Symbol,Any}(:max => 99,:min => 1,:attributes => Dict{Any,Any}(:type => \"range\",Symbol(\"data-bind\") => \"numericValue: index, valueUpdate: 'input', event: {change: function (){this.changes(this.changes()+1)}}\",\"orient\" => \"horizontal\"),:step => 1,:className => \"slider slider is-fullwidth\",:style => Dict{Any,Any}()))], Dict{Symbol,Any}(:className => \"interact-flex-row-center\")), Node{WebIO.DOM}(WebIO.DOM(:html, :div), Any[Node{WebIO.DOM}(WebIO.DOM(:html, :p), Any[], Dict{Symbol,Any}(:attributes => Dict(\"data-bind\" => \"text: formatted_val\")))], Dict{Symbol,Any}(:className => \"interact-flex-row-right\"))], Dict{Symbol,Any}(:className => \"interact-flex-row interact-widget\")), Dict{String,Tuple{Observables.AbstractObservable,Union{Nothing, Bool}}}(\"changes\" => (Observable{Int64} with 1 listeners. Value:\n",
       "0, nothing),\"index\" => (Observable{Any} with 2 listeners. Value:\n",
       "50, nothing)), Set{String}(), nothing, Asset[Asset(\"js\", \"knockout\", \"C:\\\\Users\\\\admin\\\\.julia\\\\packages\\\\Knockout\\\\IP1uR\\\\src\\\\..\\\\assets\\\\knockout.js\"), Asset(\"js\", \"knockout_punches\", \"C:\\\\Users\\\\admin\\\\.julia\\\\packages\\\\Knockout\\\\IP1uR\\\\src\\\\..\\\\assets\\\\knockout_punches.js\"), Asset(\"js\", nothing, \"C:\\\\Users\\\\admin\\\\.julia\\\\packages\\\\InteractBase\\\\Zfu5P\\\\src\\\\..\\\\assets\\\\all.js\"), Asset(\"css\", nothing, \"C:\\\\Users\\\\admin\\\\.julia\\\\packages\\\\InteractBase\\\\Zfu5P\\\\src\\\\..\\\\assets\\\\style.css\"), Asset(\"css\", nothing, \"C:\\\\Users\\\\admin\\\\.julia\\\\packages\\\\Interact\\\\SbgIk\\\\src\\\\..\\\\assets\\\\bulma_confined.min.css\")], Dict{Any,Any}(\"changes\" => Any[WebIO.JSString(\"(function (val){return (val!=this.model[\\\"changes\\\"]()) ? (this.valueFromJulia[\\\"changes\\\"]=true, this.model[\\\"changes\\\"](val)) : undefined})\")],\"index\" => Any[WebIO.JSString(\"(function (val){return (val!=this.model[\\\"index\\\"]()) ? (this.valueFromJulia[\\\"index\\\"]=true, this.model[\\\"index\\\"](val)) : undefined})\")]), WebIO.ConnectionPool(Channel{Any}(sz_max:32,sz_curr:0), Set{AbstractConnection}(), Base.GenericCondition{Base.AlwaysLockedST}(Base.InvasiveLinkedList{Task}(Task (runnable) @0x00000000151ad9f0, Task (runnable) @0x00000000151ad9f0), Base.AlwaysLockedST(1))), WebIO.JSString[WebIO.JSString(\"function () {\\n    var handler = (function (ko, koPunches) {\\n    ko.punches.enableAll();\\n    ko.bindingHandlers.numericValue = {\\n        init: function(element, valueAccessor, allBindings, data, context) {\\n            var stringified = ko.observable(ko.unwrap(valueAccessor()));\\n            stringified.subscribe(function(value) {\\n                var val = parseFloat(value);\\n                if (!isNaN(val)) {\\n                    valueAccessor()(val);\\n                }\\n            });\\n            valueAccessor().subscribe(function(value) {\\n                var str = JSON.stringify(value);\\n                if ((str == \\\"0\\\") && ([\\\"-0\\\", \\\"-0.\\\"].indexOf(stringified()) >= 0))\\n                     return;\\n                 if ([\\\"null\\\", \\\"\\\"].indexOf(str) >= 0)\\n                     return;\\n                stringified(str);\\n            });\\n            ko.applyBindingsToNode(\\n                element,\\n                {\\n                    value: stringified,\\n                    valueUpdate: allBindings.get('valueUpdate'),\\n                },\\n                context,\\n            );\\n        }\\n    };\\n    var json_data = {\\\"formatted_vals\\\":[\\\"2\\\",\\\"3\\\",\\\"4\\\",\\\"5\\\",\\\"6\\\",\\\"7\\\",\\\"8\\\",\\\"9\\\",\\\"10\\\",\\\"11\\\",\\\"12\\\",\\\"13\\\",\\\"14\\\",\\\"15\\\",\\\"16\\\",\\\"17\\\",\\\"18\\\",\\\"19\\\",\\\"20\\\",\\\"21\\\",\\\"22\\\",\\\"23\\\",\\\"24\\\",\\\"25\\\",\\\"26\\\",\\\"27\\\",\\\"28\\\",\\\"29\\\",\\\"30\\\",\\\"31\\\",\\\"32\\\",\\\"33\\\",\\\"34\\\",\\\"35\\\",\\\"36\\\",\\\"37\\\",\\\"38\\\",\\\"39\\\",\\\"40\\\",\\\"41\\\",\\\"42\\\",\\\"43\\\",\\\"44\\\",\\\"45\\\",\\\"46\\\",\\\"47\\\",\\\"48\\\",\\\"49\\\",\\\"50\\\",\\\"51\\\",\\\"52\\\",\\\"53\\\",\\\"54\\\",\\\"55\\\",\\\"56\\\",\\\"57\\\",\\\"58\\\",\\\"59\\\",\\\"60\\\",\\\"61\\\",\\\"62\\\",\\\"63\\\",\\\"64\\\",\\\"65\\\",\\\"66\\\",\\\"67\\\",\\\"68\\\",\\\"69\\\",\\\"70\\\",\\\"71\\\",\\\"72\\\",\\\"73\\\",\\\"74\\\",\\\"75\\\",\\\"76\\\",\\\"77\\\",\\\"78\\\",\\\"79\\\",\\\"80\\\",\\\"81\\\",\\\"82\\\",\\\"83\\\",\\\"84\\\",\\\"85\\\",\\\"86\\\",\\\"87\\\",\\\"88\\\",\\\"89\\\",\\\"90\\\",\\\"91\\\",\\\"92\\\",\\\"93\\\",\\\"94\\\",\\\"95\\\",\\\"96\\\",\\\"97\\\",\\\"98\\\",\\\"99\\\",\\\"100\\\"],\\\"changes\\\":WebIO.getval({\\\"name\\\":\\\"changes\\\",\\\"scope\\\":\\\"222872386228263200\\\",\\\"id\\\":\\\"9657432480842699360\\\",\\\"type\\\":\\\"observable\\\"}),\\\"index\\\":WebIO.getval({\\\"name\\\":\\\"index\\\",\\\"scope\\\":\\\"222872386228263200\\\",\\\"id\\\":\\\"9906375580117670844\\\",\\\"type\\\":\\\"observable\\\"})};\\n    var self = this;\\n    function AppViewModel() {\\n        for (var key in json_data) {\\n            var el = json_data[key];\\n            this[key] = Array.isArray(el) ? ko.observableArray(el) : ko.observable(el);\\n        }\\n        \\n        [this[\\\"formatted_val\\\"]=ko.computed(    function(){\\n        return this.formatted_vals()[parseInt(this.index())-(1)];\\n    }\\n,this)]\\n        [this[\\\"changes\\\"].subscribe((function (val){!(this.valueFromJulia[\\\"changes\\\"]) ? (WebIO.setval({\\\"name\\\":\\\"changes\\\",\\\"scope\\\":\\\"222872386228263200\\\",\\\"id\\\":\\\"9657432480842699360\\\",\\\"type\\\":\\\"observable\\\"},val)) : undefined; return this.valueFromJulia[\\\"changes\\\"]=false}),self),this[\\\"index\\\"].subscribe((function (val){!(this.valueFromJulia[\\\"index\\\"]) ? (WebIO.setval({\\\"name\\\":\\\"index\\\",\\\"scope\\\":\\\"222872386228263200\\\",\\\"id\\\":\\\"9906375580117670844\\\",\\\"type\\\":\\\"observable\\\"},val)) : undefined; return this.valueFromJulia[\\\"index\\\"]=false}),self)]\\n        \\n    }\\n    self.model = new AppViewModel();\\n    self.valueFromJulia = {};\\n    for (var key in json_data) {\\n        self.valueFromJulia[key] = false;\\n    }\\n    ko.applyBindings(self.model, self.dom);\\n}\\n);\\n    (WebIO.importBlock({\\\"data\\\":[{\\\"name\\\":\\\"knockout\\\",\\\"type\\\":\\\"js\\\",\\\"url\\\":\\\"/assetserver/fd91bcc76f200e46e5681854927159f78397d01c-knockout.js\\\"},{\\\"name\\\":\\\"knockout_punches\\\",\\\"type\\\":\\\"js\\\",\\\"url\\\":\\\"/assetserver/0771d715f47990fd6a20af05579c332026637b1d-knockout_punches.js\\\"}],\\\"type\\\":\\\"async_block\\\"})).then((imports) => handler.apply(this, imports));\\n}\\n\")])], Dict{Symbol,Any}(:className => \"field interact-widget\")), Observable{Any} with 0 listeners. Value:\n",
       "Node{WebIO.DOM}(WebIO.DOM(:html, :div), Any[Plot{Plots.GRBackend() n=2}], Dict{Symbol,Any}(:className => \"interact-flex-row interact-widget\"))], Dict{Symbol,Any}())"
      ]
     },
     "execution_count": 33,
     "metadata": {},
     "output_type": "execute_result"
    }
   ],
   "source": [
    "@manipulate for time = 2:1:100\n",
    "    plot(1:time, A[1:time, 1], label=\"gołębie\", color= :purple)\n",
    "    plot!(1:time, A[1:time, 2], label=\"jastrzębie\", color= :green)\n",
    "end"
   ]
  },
  {
   "cell_type": "markdown",
   "metadata": {},
   "source": [
    "# ---------------------------------------------sekcja 2-----------------------------------------------------"
   ]
  },
  {
   "cell_type": "markdown",
   "metadata": {},
   "source": [
    "## funkcje generujące środowisko"
   ]
  },
  {
   "cell_type": "code",
   "execution_count": 20,
   "metadata": {},
   "outputs": [
    {
     "output_type": "execute_result",
     "data": {
      "text/plain": [
       "environment_poison (generic function with 1 method)"
      ]
     },
     "metadata": {},
     "execution_count": 20
    }
   ],
   "source": [
    "function environment2(n,m) ###generuje środowisko z pakietami\n",
    "    if n % 3 != 0\n",
    "        throw(DomainError(size, \"incorrect size\"))\n",
    "    end\n",
    "    \n",
    "    Environment = zeros(Int64, n, m)\n",
    "    \n",
    "    for i in 2:3:n\n",
    "        Environment[i,:] = ones(Int64, 1, m)\n",
    "    end\n",
    "    return Environment\n",
    "end\n",
    "\n",
    "function environment_poison(Environment) ###zatruwa środowisko - wprowadza zatrute oraz puste pakiety\n",
    "    \n",
    "    n = size(Environment)[1]\n",
    "    m = size(Environment)[2]\n",
    "    \n",
    "    liczba = floor((n/3*m) * 0.08)  #szacowanie około 8? % wszystkich możliwych pakietów\n",
    "    ilosc_pakietow = rand(1:liczba) + 5  #randomowe przypisanie konkretnej ilości danego rodzaju pakietów w danym wywołaniu\n",
    "    \n",
    "    for i in 1:1:ilosc_pakietow\n",
    "        z = findall(x -> x == 1, Environment)\n",
    "        Environment[rand(z)] = -1\n",
    "    end\n",
    "    \n",
    "    for i in 1:1:ilosc_pakietow\n",
    "        z = findall(x -> x == 1, Environment)\n",
    "        Environment[rand(z)] = 0\n",
    "    end\n",
    "    \n",
    "    return Environment\n",
    "end"
   ]
  },
  {
   "cell_type": "code",
   "execution_count": 20,
   "metadata": {},
   "outputs": [
    {
     "data": {
      "text/plain": [
       "9×9 Array{Int64,2}:\n",
       " 0  0  0  0  0  0  0  0  0\n",
       " 1  1  1  1  1  1  1  1  1\n",
       " 0  0  0  0  0  0  0  0  0\n",
       " 0  0  0  0  0  0  0  0  0\n",
       " 1  1  1  1  1  1  1  1  1\n",
       " 0  0  0  0  0  0  0  0  0\n",
       " 0  0  0  0  0  0  0  0  0\n",
       " 1  1  1  1  1  1  1  1  1\n",
       " 0  0  0  0  0  0  0  0  0"
      ]
     },
     "execution_count": 20,
     "metadata": {},
     "output_type": "execute_result"
    }
   ],
   "source": [
    "a = environment2(9,9)"
   ]
  },
  {
   "cell_type": "code",
   "execution_count": 21,
   "metadata": {},
   "outputs": [
    {
     "data": {
      "text/plain": [
       "9×9 Array{Int64,2}:\n",
       "  0   0  0  0   0   0  0  0   0\n",
       "  0  -1  1  1  -1   1  0  1   0\n",
       "  0   0  0  0   0   0  0  0   0\n",
       "  0   0  0  0   0   0  0  0   0\n",
       "  1   1  1  1   1  -1  1  1  -1\n",
       "  0   0  0  0   0   0  0  0   0\n",
       "  0   0  0  0   0   0  0  0   0\n",
       " -1  -1  1  0   1   1  0  0   1\n",
       "  0   0  0  0   0   0  0  0   0"
      ]
     },
     "execution_count": 21,
     "metadata": {},
     "output_type": "execute_result"
    }
   ],
   "source": [
    "b = environment_poison(a)"
   ]
  },
  {
   "cell_type": "markdown",
   "metadata": {},
   "source": [
    "## funkcja usuwająca konkretną rzecz z macierzy"
   ]
  },
  {
   "cell_type": "code",
   "execution_count": 21,
   "metadata": {},
   "outputs": [
    {
     "output_type": "execute_result",
     "data": {
      "text/plain": [
       "remove! (generic function with 1 method)"
      ]
     },
     "metadata": {},
     "execution_count": 21
    }
   ],
   "source": [
    "function remove!(a, item)\n",
    "    deleteat!(a, findall(x->x==item, a))\n",
    "    return a\n",
    "end"
   ]
  },
  {
   "cell_type": "markdown",
   "metadata": {},
   "source": [
    "## Funkcja generująca rozstawienie ptaków w środowisku"
   ]
  },
  {
   "cell_type": "code",
   "execution_count": 22,
   "metadata": {},
   "outputs": [
    {
     "output_type": "execute_result",
     "data": {
      "text/plain": [
       "find_place (generic function with 1 method)"
      ]
     },
     "metadata": {},
     "execution_count": 22
    }
   ],
   "source": [
    "function find_place(macierz, g, ja, ch_g, ch_j)\n",
    "    n = size(macierz)[1]\n",
    "    m = size(macierz)[2]\n",
    "    slots = 2*n*m/3\n",
    "    amount_of_birds = g + ja + ch_g + ch_j\n",
    "    birds = [7, 10, 70, 100] ##gołąb-7, jastrząb-10, chory gołąb -10, chory jastrząb - 100\n",
    "    any_bird = [g, ja, ch_g, ch_j] ###ilość każdego z ptaków\n",
    "    \n",
    "    if amount_of_birds > slots ###jeśli ptaków jest więcej niż miejsc - iteracja po miejscach\n",
    "        for i in 1:slots\n",
    "            pustka = findall(x -> x == 0, any_bird) ## jeśli każdy ptaszek z danego gatunku już jest przydzielony to go usuwamy\n",
    "            pustka = reverse(pustka)\n",
    "            if length(pustka) != 0\n",
    "                for k in pustka\n",
    "                    n = birds[k]\n",
    "                    birds = remove!(birds, n)\n",
    "                end\n",
    "                any_bird = remove!(any_bird, 0)\n",
    "            end\n",
    "            number = rand(1:length(birds))\n",
    "            current_bird = birds[number]\n",
    "            z = findall(x -> x == 0, macierz)\n",
    "            macierz[rand(z)] = current_bird ##przydzielamy ptaszka randomowo\n",
    "            any_bird[number] -= 1\n",
    "        end\n",
    "        \n",
    "    elseif slots > amount_of_birds ###jeśli miejsc jest więcej niż ptaków - iteracja po ptakach\n",
    "        for i in 1:amount_of_birds\n",
    "            pustka = findall(x -> x == 0, any_bird)\n",
    "            pustka = reverse(pustka)\n",
    "            if length(pustka) != 0\n",
    "                for k in pustka\n",
    "                    n = birds[k]\n",
    "                    birds = remove!(birds, n)\n",
    "                end\n",
    "                any_bird = remove!(any_bird, 0)\n",
    "            end\n",
    "            number = rand(1:length(birds))\n",
    "            current_bird = birds[number]\n",
    "            z = findall(x -> x == 0, macierz)\n",
    "            macierz[rand(z)] = current_bird\n",
    "            any_bird[number] -= 1\n",
    "        end\n",
    "    end\n",
    "    macierz = environment_poison(macierz) ##zatruwamy środowisko\n",
    "    \n",
    "    ###sprawdzenie nadpopulacji\n",
    "    \n",
    "    f_gol = 0\n",
    "    f_jas = 0\n",
    "    f_chg =0 \n",
    "    f_chj = 0\n",
    "    \n",
    "    for i in 1:length(birds)\n",
    "        if birds[i] == 7\n",
    "            f_gol += any_bird[i]\n",
    "        elseif birds[i] == 10\n",
    "            f_jas += any_bird[i]\n",
    "        elseif birds[i] == 70\n",
    "            f_chg += any_bird[i]\n",
    "        elseif birds[i] == 100\n",
    "            f_chj += any_bird[i]\n",
    "        end\n",
    "    end\n",
    "    \n",
    "    return macierz, f_gol, f_jas, f_chg, f_chj ###zwraca macierz środowiska, ilość ptaków w nim oraz tych do fight clubu\n",
    "end"
   ]
  },
  {
   "cell_type": "code",
   "execution_count": 23,
   "metadata": {},
   "outputs": [
    {
     "output_type": "execute_result",
     "data": {
      "text/plain": [
       "([100 7 … 70 70; 1 -1 … -1 1; … ; 1 0 … 1 -1; 100 100 … 10 100], 2, 0, 0, 0)"
      ]
     },
     "metadata": {},
     "execution_count": 23
    }
   ],
   "source": [
    "a = environment2(9, 9)\n",
    "find_place(a, 14, 14, 14, 14)"
   ]
  },
  {
   "cell_type": "code",
   "execution_count": 24,
   "metadata": {},
   "outputs": [
    {
     "output_type": "execute_result",
     "data": {
      "text/plain": [
       "ptaszki (generic function with 1 method)"
      ]
     },
     "metadata": {},
     "execution_count": 24
    }
   ],
   "source": [
    "function ptaszki(macierz, n, k)\n",
    "    if n != 0  \n",
    "        for i in 1:1:n\n",
    "            z = findall(x -> x ==0, macierz)\n",
    "            macierz[rand(z)] = k\n",
    "        end\n",
    "    end\n",
    "end"
   ]
  },
  {
   "cell_type": "code",
   "execution_count": 25,
   "metadata": {},
   "outputs": [
    {
     "output_type": "execute_result",
     "data": {
      "text/plain": [
       "fight_club2 (generic function with 1 method)"
      ]
     },
     "metadata": {},
     "execution_count": 25
    }
   ],
   "source": [
    "function fight_club2(g,j, ch_g,ch_j)\n",
    "    lista_ptakow = [7, 10,70,100]\n",
    "    suma_ptakow = [g,j,ch_g,ch_j]\n",
    "    if (g+j+ch_g+ch_j)%2 == 0\n",
    "        n = Int64((g+j+ch_g+ch_j)/2)\n",
    "        M = zeros(Int64, 2, n)\n",
    "        for i in 1:length(lista_ptakow)\n",
    "            ptaszki(M,suma_ptakow[i],lista_ptakow[i])\n",
    "        end\n",
    "    else\n",
    "        n = Int64((g + j + ch_g + ch_j + 1)/2) \n",
    "        M = zeros(Int64, 2, n)\n",
    "        for i in 1:length(lista_ptakow)\n",
    "            ptaszki(M,suma_ptakow[i],lista_ptakow[i])\n",
    "        end\n",
    "    end\n",
    "    return M\n",
    "end"
   ]
  },
  {
   "cell_type": "code",
   "execution_count": 26,
   "metadata": {},
   "outputs": [
    {
     "output_type": "execute_result",
     "data": {
      "text/plain": [
       "fight2 (generic function with 1 method)"
      ]
     },
     "metadata": {},
     "execution_count": 26
    }
   ],
   "source": [
    "\n",
    "function fight2(macierz, g,j,ch_g,ch_j)\n",
    "    for i in 1:size(macierz)[2]\n",
    "        suma = macierz[1,i] + macierz[2,i]\n",
    "        if suma == 14 || suma == 7 || suma == 77 ##gołąb / 2gołebie/ gołąb + chory gołąb\n",
    "            g -= 1\n",
    "        elseif suma == 20 || suma == 10 || suma == 110 ###jastrząb / 2jastrzębie / jastrząb + chory jastrząb\n",
    "            j -= 1\n",
    "        elseif suma == 70 || suma == 140 ## chore gołebie\n",
    "            ch_g -= 1\n",
    "        elseif suma == 100 || suma == 200 ## chore jastrzebie\n",
    "            ch_j -= 1\n",
    "            \n",
    "        elseif suma == 17 ##gołąb vs jastrząb\n",
    "            if roll_for_pakiet(66) == true\n",
    "                g-=1\n",
    "            else\n",
    "                j-=1\n",
    "            end\n",
    "        \n",
    "        elseif suma == 107 ##chory jastrząb + gołąb\n",
    "            g-=1\n",
    "            if roll_for_pakiet(66) == false\n",
    "                ch_g+=1\n",
    "                ch_j-=1\n",
    "            end\n",
    "        elseif suma == 80 ##chory gołąb + jastrząb\n",
    "            j-=1\n",
    "            if roll_for_pakiet(66) == true\n",
    "                ch_j+=1\n",
    "                ch_g-=1    \n",
    "            end\n",
    "            \n",
    "        elseif suma == 170 ##chory jastrząb + chory gołąb\n",
    "            if roll_for_pakiet(66) == true\n",
    "                ch_g-=1\n",
    "            else\n",
    "                ch_j-=1\n",
    "            end\n",
    "\n",
    "        end\n",
    "    end\n",
    "    return g, j, ch_g, ch_j\n",
    "end"
   ]
  },
  {
   "cell_type": "code",
   "execution_count": 27,
   "metadata": {},
   "outputs": [
    {
     "output_type": "error",
     "ename": "LoadError",
     "evalue": "\u001b[91mUndefVarError: roll_for_pakiet not defined\u001b[39m",
     "traceback": [
      "\u001b[91mUndefVarError: roll_for_pakiet not defined\u001b[39m",
      "",
      "Stacktrace:",
      " [1] fight2(::Array{Int64,2}, ::Int64, ::Int64, ::Int64, ::Int64) at .\\In[26]:29",
      " [2] top-level scope at In[27]:1",
      " [3] include_string(::Function, ::Module, ::String, ::String) at .\\loading.jl:1091"
     ]
    }
   ],
   "source": [
    "fight2(fight_club2(5,5,5,6), 5,5,5,6)"
   ]
  },
  {
   "cell_type": "code",
   "execution_count": 38,
   "metadata": {},
   "outputs": [
    {
     "data": {
      "text/plain": [
       "2×11 Array{Int64,2}:\n",
       "  70   10  100   70  10  10   7   0   70   7    7\n",
       " 100  100    7  100   7  70  10  70  100  10  100"
      ]
     },
     "execution_count": 38,
     "metadata": {},
     "output_type": "execute_result"
    }
   ],
   "source": [
    "fight_club2(5,5,5,6)"
   ]
  },
  {
   "cell_type": "markdown",
   "metadata": {},
   "source": [
    "## funkcja decydująca o dalszym losie ptaszków"
   ]
  },
  {
   "cell_type": "code",
   "execution_count": 29,
   "metadata": {},
   "outputs": [
    {
     "output_type": "execute_result",
     "data": {
      "text/plain": [
       "roll_for_pakiet (generic function with 1 method)"
      ]
     },
     "metadata": {},
     "execution_count": 29
    }
   ],
   "source": [
    "function roll_for_pakiet(some_fate)\n",
    "    fate = rand(1:101)\n",
    "    if fate <= some_fate\n",
    "        return true\n",
    "    end\n",
    "end"
   ]
  },
  {
   "attachments": {
    "image.png": {
     "image/png": "[encoded data removed]"
    }
   },
   "cell_type": "markdown",
   "metadata": {},
   "source": [
    "![image.png](attachment:image.png)"
   ]
  },
  {
   "cell_type": "code",
   "execution_count": 30,
   "metadata": {},
   "outputs": [
    {
     "output_type": "execute_result",
     "data": {
      "text/plain": [
       "death (generic function with 1 method)"
      ]
     },
     "metadata": {},
     "execution_count": 30
    }
   ],
   "source": [
    "function death(bird, deadliness)\n",
    "    for i in 1:bird\n",
    "        if roll_for_pakiet(deadliness)==true\n",
    "            bird -= 1\n",
    "        end\n",
    "    end\n",
    "    return bird\n",
    "end"
   ]
  },
  {
   "cell_type": "code",
   "execution_count": 31,
   "metadata": {},
   "outputs": [
    {
     "output_type": "execute_result",
     "data": {
      "text/plain": [
       "sickness (generic function with 1 method)"
      ]
     },
     "metadata": {},
     "execution_count": 31
    }
   ],
   "source": [
    "function sickness(ch_g, ch_j, deadliness)\n",
    "    ch_g = death(ch_g, deadliness)\n",
    "    \n",
    "    ch_j = death(ch_j, deadliness)\n",
    "    return ch_g, ch_j\n",
    "end"
   ]
  },
  {
   "cell_type": "markdown",
   "metadata": {},
   "source": [
    "### funkcja potyczek"
   ]
  },
  {
   "cell_type": "code",
   "execution_count": 32,
   "metadata": {},
   "outputs": [
    {
     "output_type": "execute_result",
     "data": {
      "text/plain": [
       "potyczki2 (generic function with 3 methods)"
      ]
     },
     "metadata": {},
     "execution_count": 32
    }
   ],
   "source": [
    "function potyczki2(n, m, macierz, g, ja, ch_g = 0, ch_j = 0)\n",
    "    for i in 2:3:n, j in 1:m    \n",
    "        suma = macierz[i - 1, j] + macierz[i, j] + macierz[i + 1, j]\n",
    "        if suma == 18\n",
    "            #Jastrząb i Gołąb dobry pakiet\n",
    "            ja += 1\n",
    "            if roll_for_pakiet(50) == true\n",
    "                g -= 1\n",
    "            end\n",
    "        elseif suma == 15\n",
    "            continue\n",
    "            #Gołąb i Gołąb dobry pakiet\n",
    "           # g = g\n",
    "        elseif suma == 21\n",
    "            #Jastrząb i Jastrząb dobry pakiet\n",
    "            ja -= 2\n",
    "        elseif suma == 8\n",
    "            #Gołąb dobry pakiet\n",
    "            g += 1\n",
    "        elseif suma == 11\n",
    "            #Jastrząb dobry pakiet\n",
    "            ja += 1\n",
    "        elseif suma == 81\n",
    "            #Jastrząb i Ch_Gołąb dobry pakiet\n",
    "            if roll_for_pakiet(10) == true\n",
    "                ja -= 1\n",
    "                ch_j += 1\n",
    "            end    \n",
    "            if roll_for_pakiet(50) == true\n",
    "                    ch_g -= 1\n",
    "            end\n",
    "                \n",
    "        elseif suma == 108\n",
    "            #Ch_Jastrząb i Gołąb dobry pakiet\n",
    "            if roll_for_pakiet(10) == true\n",
    "                g -= 1\n",
    "                ch_g += 1\n",
    "            end\n",
    "            if roll_for_pakiet(50) == true\n",
    "                ch_j -= 1\n",
    "                ja += 1\n",
    "            else\n",
    "                ch_j += 1\n",
    "            end\n",
    "            \n",
    "            \n",
    "        elseif suma == 201\n",
    "            #Ch_Jastrząb i Ch_Jastrząb dobry pakiet\n",
    "            ch_j -= 2\n",
    "        elseif suma == 141\n",
    "            continue\n",
    "            #Ch_Gołąb i Ch_Gołąb dobry pakiet\n",
    "            #ch_g = ch_g\n",
    "        elseif suma == 71\n",
    "            #Ch_Gołąb dobry pakiet\n",
    "            if roll_for_pakiet(50) == true\n",
    "                ch_g -= 1\n",
    "                g += 1\n",
    "            else\n",
    "                ch_g += 1\n",
    "            end\n",
    "            \n",
    "        elseif suma == 101\n",
    "            #Ch_Jastrząb dobry pakiet\n",
    "            if roll_for_pakiet(50) == true\n",
    "                ch_j -= 1\n",
    "                ja += 1\n",
    "            else\n",
    "                ch_j += 2\n",
    "            end\n",
    "        elseif suma == 111\n",
    "            #Ch_Jastrząb i Jastrząb dobry pakiet\n",
    "            ch_j -= 1\n",
    "            if roll_for_pakiet(50) == true\n",
    "                ja += 1\n",
    "            else\n",
    "                ch_j += 1\n",
    "            end\n",
    "        elseif suma == 78\n",
    "            #Ch_Gołąb i Gołąb dobry pakiet\n",
    "            if roll_for_pakiet(60) == true\n",
    "                ch_g += 1\n",
    "            end\n",
    "            \n",
    "        elseif suma == 17\n",
    "            #Jastrząb i Gołąb pusty pakiet\n",
    "            g = g-1\n",
    "        elseif suma == 20\n",
    "            #Jastrząb i Jastrząb pusty pakiet\n",
    "            ja = ja-1\n",
    "        elseif suma == 14\n",
    "            #Gołąb i Gołąb pusty pakiet\n",
    "            g = g-2\n",
    "        elseif suma == 10\n",
    "            #Jastrząb pusty pakiet\n",
    "            ja = ja-1\n",
    "        elseif suma == 7\n",
    "            #Gołąb pusty pakiet\n",
    "            g = g-1\n",
    "                \n",
    "         elseif suma == 80\n",
    "            #Jastrząb i Ch_Gołąb pusty pakiet\n",
    "            g -= 1\n",
    "            ja -= 1\n",
    "            ch_j += 1\n",
    "        elseif suma == 107\n",
    "            #Ch_Jastrząb i Gołąb pusty pakiet\n",
    "            g -= 1\n",
    "            if roll_for_pakiet(30) == true\n",
    "                ch_j -= 1\n",
    "                ja += 1\n",
    "            end\n",
    "        elseif suma == 200\n",
    "            #Ch_Jastrząb i Ch_Jastrząb pusty pakiet\n",
    "            ch_j -= 2\n",
    "        elseif suma == 140\n",
    "            #Ch_Gołąb i Ch_Gołąb pusty pakiet\n",
    "            ch_g -= 2\n",
    "            \n",
    "        elseif suma == 70\n",
    "            #Ch_Gołąb pusty pakiet\n",
    "            ch_g -= 1\n",
    "            \n",
    "        elseif suma == 100\n",
    "            #Ch_Jastrząb pusty pakiet\n",
    "            ch_j -= 1\n",
    "            \n",
    "        elseif suma == 110\n",
    "            #Ch_Jastrząb i Jastrząb pusty pakiet\n",
    "            ja -= 1\n",
    "            \n",
    "        elseif suma == 77\n",
    "            #Ch_Gołąb i Gołąb pusty pakiet\n",
    "            ch_g -= 1\n",
    "            g -= 1\n",
    "            \n",
    "            \n",
    "            \n",
    "        elseif suma == 16\n",
    "            #Jastrząb i Gołąb zatruty pakiet\n",
    "            g -= 1\n",
    "            ja -= 1\n",
    "            if roll_for_pakiet(20) == true\n",
    "                ch_j += 1\n",
    "            end    \n",
    "        elseif suma == 19\n",
    "            #Jastrząb i Jastrząb zatruty pakiet\n",
    "            ja -= 1\n",
    "        elseif suma == 13\n",
    "            #Gołąb i Gołąb zatruty pakiet\n",
    "            g -= 2\n",
    "            if roll_for_pakiet(6) == true\n",
    "                ch_g += 2\n",
    "            end\n",
    "        elseif suma == 9\n",
    "            #Jastrząb  zatruty pakiet\n",
    "            ja = ja-1\n",
    "        elseif suma == 6\n",
    "            #Gołąb zatruty pakiet\n",
    "            g = g-1 \n",
    "            if roll_for_pakiet(20) == true\n",
    "                ch_g += 1\n",
    "            end        \n",
    "         elseif suma == 79\n",
    "            #Jastrząb i Ch_Gołąb zatruty pakiet\n",
    "            ch_g -= 1 \n",
    "            ja -= 1\n",
    "            if roll_for_pakiet(70) == true\n",
    "                ch_j += 1\n",
    "            end\n",
    "            \n",
    "        elseif suma == 106\n",
    "            #Ch_Jastrząb i Gołąb zatruty pakiet\n",
    "            g -= 1\n",
    "            if roll_for_pakiet(40) == true\n",
    "                ch_j -= 1\n",
    "            end\n",
    "                \n",
    "        elseif suma == 199\n",
    "            #Ch_Jastrząb i Ch_Jastrząb zatruty pakiet\n",
    "            ch_j -= 2\n",
    "        elseif suma == 139\n",
    "            #Ch_Gołąb i Ch_Gołąb zatruty pakiet\n",
    "            ch_g -= 2\n",
    "            if roll_for_pakiet(1) == true\n",
    "                ch_g += 2\n",
    "            end\n",
    "            \n",
    "        elseif suma == 69\n",
    "            #Ch_Gołąb zatruty pakiet\n",
    "            ch_g -= 1\n",
    "        elseif suma == 99\n",
    "            #Ch_Jastrząb zatruty pakiet\n",
    "            ch_j -= 1\n",
    "        elseif suma == 109\n",
    "            #Ch_Jastrząb i Jastrząb zatruty pakiet\n",
    "            ja -= 1\n",
    "        elseif suma == 76\n",
    "            #Ch_Gołąb i Gołąb zatruty pakiet\n",
    "            g -= 1\n",
    "            if roll_for_pakiet(2) == true\n",
    "                ch_g += 1\n",
    "            end\n",
    "        end \n",
    "    end\n",
    "    sick_birds = sickness(ch_g, ch_j, 80)\n",
    "    ch_g = sick_birds[1]\n",
    "    ch_j = sick_birds[2]\n",
    "\n",
    "    return g, ja, ch_g, ch_j\n",
    "end"
   ]
  },
  {
   "cell_type": "markdown",
   "metadata": {},
   "source": [
    "# próba optymalizacji nr 1 - rozbicie funkcji na 3 części w zależności od pakietu"
   ]
  },
  {
   "cell_type": "code",
   "execution_count": 33,
   "metadata": {},
   "outputs": [
    {
     "output_type": "execute_result",
     "data": {
      "text/plain": [
       "potyczki3 (generic function with 3 methods)"
      ]
     },
     "metadata": {},
     "execution_count": 33
    }
   ],
   "source": [
    "function potyczki3(n, m, macierz, g, ja, ch_g = 0, ch_j = 0)\n",
    "    for i in 2:3:n, j in 1:m    \n",
    "        suma = macierz[i - 1, j] + macierz[i + 1, j]\n",
    "        if macierz[i, j] == 1\n",
    "            result = pot_norm(suma, g, ja, ch_g, ch_j)\n",
    "            g = result[1]\n",
    "            ja= result[2]\n",
    "            ch_g = result[3]\n",
    "            ch_j = result[4]\n",
    "        elseif macierz[i,j] == 0\n",
    "            result = pot_pust(suma, g, ja, ch_g , ch_j )\n",
    "            g = result[1]\n",
    "            ja= result[2]\n",
    "            ch_g = result[3]\n",
    "            ch_j = result[4]\n",
    "        elseif macierz[i, j] == -1\n",
    "            result = pot_zatr(suma, g, ja, ch_g, ch_j)\n",
    "            g = result[1]\n",
    "            ja= result[2]\n",
    "            ch_g = result[3]\n",
    "            ch_j = result[4]\n",
    "        end\n",
    "    end\n",
    "    sick_birds = sickness(ch_g, ch_j, 10)\n",
    "    ch_g = sick_birds[1]\n",
    "    ch_j = sick_birds[2]\n",
    "\n",
    "    return g, ja, ch_g, ch_j\n",
    "end "
   ]
  },
  {
   "cell_type": "code",
   "execution_count": 34,
   "metadata": {},
   "outputs": [
    {
     "output_type": "execute_result",
     "data": {
      "text/plain": [
       "pot_norm (generic function with 3 methods)"
      ]
     },
     "metadata": {},
     "execution_count": 34
    }
   ],
   "source": [
    "function pot_norm(suma, g, ja, ch_g = 0, ch_j = 0)\n",
    "    if suma == 7\n",
    "        g += 1\n",
    "    elseif suma == 10\n",
    "        ja += 1\n",
    "    elseif suma == 70\n",
    "        if roll_for_pakiet(50) == true\n",
    "            ch_g -= 1\n",
    "            g += 1\n",
    "        else\n",
    "            ch_g += 1\n",
    "        end\n",
    "    elseif suma == 100\n",
    "        if roll_for_pakiet(50) == true\n",
    "            ch_j -= 1\n",
    "            ja += 1\n",
    "        else\n",
    "            ch_j += 2\n",
    "        end\n",
    "    elseif suma == 20\n",
    "        ja -= 2\n",
    "    elseif suma == 200\n",
    "        ch_j -= 2\n",
    "    elseif suma == 17 || suma == 170\n",
    "        ja += 1\n",
    "        if roll_for_pakiet(50) == true\n",
    "            g -= 1\n",
    "        end\n",
    "    elseif suma == 77\n",
    "        if roll_for_pakiet(60) == true\n",
    "            ch_g += 1\n",
    "        end\n",
    "    elseif suma == 80\n",
    "        if roll_for_pakiet(10) == true\n",
    "            ja -= 1\n",
    "            ch_j += 1\n",
    "        end    \n",
    "        if roll_for_pakiet(50) == true\n",
    "            ch_g -= 1\n",
    "        end\n",
    "    elseif suma == 107\n",
    "        if roll_for_pakiet(10) == true\n",
    "            g -= 1\n",
    "            ch_g += 1\n",
    "        end\n",
    "        if roll_for_pakiet(50) == true\n",
    "            ch_j -= 1\n",
    "            ja += 1\n",
    "        else\n",
    "            ch_j += 1\n",
    "        end\n",
    "    elseif suma == 110\n",
    "        ch_j -= 1\n",
    "        if roll_for_pakiet(50) == true\n",
    "            ja += 1\n",
    "        else\n",
    "            ch_j += 1\n",
    "        end\n",
    "    end\n",
    "    return g, ja, ch_g, ch_j\n",
    "end\n",
    "        \n",
    "        \n",
    "    "
   ]
  },
  {
   "cell_type": "code",
   "execution_count": 35,
   "metadata": {},
   "outputs": [
    {
     "output_type": "execute_result",
     "data": {
      "text/plain": [
       "pot_zatr (generic function with 3 methods)"
      ]
     },
     "metadata": {},
     "execution_count": 35
    }
   ],
   "source": [
    "function pot_zatr(suma, g, ja, ch_g = 0, ch_j = 0)\n",
    "    if suma == 7\n",
    "        g = g-1 \n",
    "        if roll_for_pakiet(20) == true\n",
    "            ch_g += 1\n",
    "        end        \n",
    "    elseif suma == 10\n",
    "        ja = ja-1\n",
    "    elseif suma == 70\n",
    "        ch_g -= 1\n",
    "    elseif suma == 100\n",
    "        ch_j -= 1\n",
    "    elseif suma == 14\n",
    "        g -= 2\n",
    "        if roll_for_pakiet(6) == true\n",
    "            ch_g += 2\n",
    "        end\n",
    "    elseif suma == 140\n",
    "        ch_g -= 2\n",
    "        if roll_for_pakiet(1) == true\n",
    "            ch_g += 2\n",
    "        end\n",
    "    elseif suma == 20\n",
    "        ja -= 1\n",
    "    elseif suma == 200\n",
    "        ch_j -= 2\n",
    "    elseif suma == 17\n",
    "        g -= 1\n",
    "        ja -= 1\n",
    "        if roll_for_pakiet(20) == true\n",
    "            ch_j += 1\n",
    "        end \n",
    "    elseif suma == 170\n",
    "        ch_g -= 1\n",
    "        if roll_for_pakiet(50) == true\n",
    "            ch_j -=1\n",
    "        end\n",
    "    elseif suma == 77\n",
    "        g -= 1\n",
    "        if roll_for_pakiet(2) == true\n",
    "            ch_g += 1\n",
    "        end\n",
    "    elseif suma == 80\n",
    "        ch_g -= 1 \n",
    "        ja -= 1\n",
    "        if roll_for_pakiet(70) == true\n",
    "            ch_j += 1\n",
    "        end\n",
    "    elseif suma == 107\n",
    "        g -= 1\n",
    "        if roll_for_pakiet(40) == true\n",
    "            ch_j -= 1\n",
    "        end\n",
    "    elseif suma == 110\n",
    "        ja -= 1\n",
    "    end\n",
    "    return g, ja, ch_g, ch_j\n",
    "end\n",
    "        "
   ]
  },
  {
   "cell_type": "code",
   "execution_count": 36,
   "metadata": {},
   "outputs": [
    {
     "output_type": "execute_result",
     "data": {
      "text/plain": [
       "pot_pust (generic function with 3 methods)"
      ]
     },
     "metadata": {},
     "execution_count": 36
    }
   ],
   "source": [
    "function pot_pust(suma, g, ja, ch_g = 0, ch_j = 0)\n",
    "    if suma == 7\n",
    "        g = g-1       \n",
    "    elseif suma == 10\n",
    "        ja = ja-1\n",
    "    elseif suma == 70\n",
    "        ch_g -= 1\n",
    "    elseif suma == 100\n",
    "        ch_j -= 1\n",
    "    elseif suma == 14\n",
    "        g = g-2\n",
    "    elseif suma == 140\n",
    "        ch_g -= 2\n",
    "    elseif suma == 20\n",
    "        ja = ja-1\n",
    "    elseif suma == 200\n",
    "        ch_j -= 2\n",
    "    elseif suma == 17\n",
    "        g = g-1\n",
    "    elseif suma == 170\n",
    "        ch_g -= 1\n",
    "        ch_j -=1\n",
    "    elseif suma == 77\n",
    "        ch_g -= 1\n",
    "        g -= 1\n",
    "    elseif suma == 80\n",
    "        g -= 1\n",
    "        ja -= 1\n",
    "        ch_j += 1\n",
    "    elseif suma == 107\n",
    "        g -= 1\n",
    "        if roll_for_pakiet(30) == true\n",
    "            ch_j -= 1\n",
    "            ja += 1\n",
    "        end\n",
    "    elseif suma == 110\n",
    "        ja -= 1\n",
    "    end\n",
    "    return g, ja, ch_g, ch_j\n",
    "end\n",
    "        "
   ]
  },
  {
   "cell_type": "markdown",
   "metadata": {},
   "source": [
    "### funkcja właściwa"
   ]
  },
  {
   "cell_type": "code",
   "execution_count": 55,
   "metadata": {},
   "outputs": [
    {
     "output_type": "execute_result",
     "data": {
      "text/plain": [
       "action2 (generic function with 5 methods)"
      ]
     },
     "metadata": {},
     "execution_count": 55
    }
   ],
   "source": [
    "function action2(n, m, g, j, ch_g, ch_j, p, A = [], index = 1)\n",
    "    #n,m - wielkość środowiska\n",
    "    #g,j,ch_g,ch_j -liczba ptaków danego gatunku\n",
    "    #p - parametr czasowy\n",
    "    \n",
    "    if p == 0\n",
    "        return \"tada\"\n",
    "    end\n",
    "    \n",
    "    max_amount = 2/3*m*n\n",
    "    amount_of_birds = g+j+ch_g+ch_j\n",
    "    srodowisko = environment2(n, m)\n",
    "    first_try = find_place(srodowisko, g, j, ch_g, ch_j) \n",
    "    \n",
    "    macierz = first_try[1]\n",
    "    f_gol = first_try[2] \n",
    "    f_jas = first_try[3]\n",
    "    f_chg =  first_try[4] \n",
    "    f_chja = first_try[5] \n",
    "    fight = fight_club2(f_gol, f_jas, f_chg, f_chja)\n",
    "    g_p = length(findall(x -> x == 7, macierz))\n",
    "    j_p = length(findall(x -> x == 10, macierz))\n",
    "    chg_p = length(findall(x -> x == 70, macierz))\n",
    "    chj_p = length(findall(x -> x ==100, macierz))\n",
    "    \n",
    "    potyczki_result = potyczki3(n, m, macierz, g_p, j_p, chg_p, chj_p)\n",
    "\n",
    "\n",
    "    if amount_of_birds > max_amount\n",
    "        fight = fight_club2(f_gol, f_jas, f_chg, f_chja)\n",
    "        fight_result = fight2(fight, f_gol, f_jas, f_chg, f_chja)\n",
    "        final_g = potyczki_result[1] + fight_result[1]\n",
    "        final_j = potyczki_result[2] + fight_result[2]\n",
    "        final_chg = potyczki_result[3] + fight_result[3]\n",
    "        final_chj = potyczki_result[4] + fight_result[4]\n",
    "    else\n",
    "        final_g = potyczki_result[1] \n",
    "        final_j = potyczki_result[2] \n",
    "        final_chg = potyczki_result[3] \n",
    "        final_chj = potyczki_result[4] \n",
    "    end\n",
    "    \n",
    "    if final_g <0\n",
    "        final_g =0\n",
    "    elseif final_j<0\n",
    "        final_j = 0\n",
    "    elseif final_chg<0\n",
    "        final_chg = 0\n",
    "    elseif final_chj<0\n",
    "        final_chj = 0\n",
    "    end\n",
    "\n",
    "    if index == 1\n",
    "        A = [final_g final_j final_chg final_chj]\n",
    "    else\n",
    "        A = vcat(A,[final_g final_j final_chg final_chj])\n",
    "    end\n",
    "    \n",
    "    println(final_g,\", \", final_j,\", \", final_chg, \", \",final_chj)\n",
    "    \n",
    "    if final_g == 0 && final_j == 0 && final_chg == 0 && final_chj == 0\n",
    "        println(\"they all died\")\n",
    "        return A\n",
    "    end\n",
    "    \n",
    "    \n",
    "    action2(n, m , final_g, final_j, final_chg,final_chj, p-1, A, index+1)\n",
    "end"
   ]
  },
  {
   "cell_type": "code",
   "execution_count": 58,
   "metadata": {},
   "outputs": [
    {
     "output_type": "stream",
     "name": "stdout",
     "text": [
      "2, 14, 38, 79\n",
      "0, 14, 13, 45\n",
      "0, 10, 5, 18\n",
      "2, 6, 2, 7\n",
      "0, 4, 2, 6\n",
      "1, 6, 0, 3\n",
      "2, 8, 0, 0\n",
      "2, 8, 0, 0\n",
      "2, 10, 0, 0\n",
      "2, 8, 0, 0\n",
      "2, 8, 0, 0\n",
      "2, 5, 0, 0\n",
      "0, 4, 0, 0\n",
      "0, 6, 0, 0\n",
      "0, 8, 0, 0\n",
      "0, 8, 0, 0\n",
      "0, 8, 0, 0\n",
      "0, 8, 0, 0\n",
      "0, 12, 0, 0\n",
      "0, 12, 0, 0\n",
      "0, 6, 0, 0\n",
      "0, 5, 0, 0\n",
      "0, 6, 0, 0\n",
      "0, 6, 0, 0\n",
      "0, 4, 0, 0\n",
      "0, 6, 0, 0\n",
      "0, 2, 0, 0\n",
      "0, 2, 0, 0\n",
      "0, 0, 0, 0\n",
      "they all died\n"
     ]
    },
    {
     "output_type": "execute_result",
     "data": {
      "text/plain": [
       "29×4 Array{Int64,2}:\n",
       " 2  14  38  79\n",
       " 0  14  13  45\n",
       " 0  10   5  18\n",
       " 2   6   2   7\n",
       " 0   4   2   6\n",
       " 1   6   0   3\n",
       " 2   8   0   0\n",
       " 2   8   0   0\n",
       " 2  10   0   0\n",
       " 2   8   0   0\n",
       " 2   8   0   0\n",
       " 2   5   0   0\n",
       " 0   4   0   0\n",
       " ⋮          \n",
       " 0   8   0   0\n",
       " 0  12   0   0\n",
       " 0  12   0   0\n",
       " 0   6   0   0\n",
       " 0   5   0   0\n",
       " 0   6   0   0\n",
       " 0   6   0   0\n",
       " 0   4   0   0\n",
       " 0   6   0   0\n",
       " 0   2   0   0\n",
       " 0   2   0   0\n",
       " 0   0   0   0"
      ]
     },
     "metadata": {},
     "execution_count": 58
    }
   ],
   "source": [
    "dying = action2(9,9,15,10,100,135,50)"
   ]
  },
  {
   "cell_type": "code",
   "execution_count": 60,
   "metadata": {},
   "outputs": [
    {
     "output_type": "execute_result",
     "data": {
      "image/svg+xml": "<?xml version=\"1.0\" encoding=\"utf-8\"?>\n<svg xmlns=\"http://www.w3.org/2000/svg\" xmlns:xlink=\"http://www.w3.org/1999/xlink\" width=\"600\" height=\"400\" viewBox=\"0 0 2400 1600\">\n<defs>\n  <clipPath id=\"clip980\">\n    <rect x=\"0\" y=\"0\" width=\"2400\" height=\"1600\"/>\n  </clipPath>\n</defs>\n<path clip-path=\"url(#clip980)\" d=\"\nM0 1600 L2400 1600 L2400 0 L0 0  Z\n  \" fill=\"#ffffff\" fill-rule=\"evenodd\" fill-opacity=\"1\"/>\n<defs>\n  <clipPath id=\"clip981\">\n    <rect x=\"480\" y=\"0\" width=\"1681\" height=\"1600\"/>\n  </clipPath>\n</defs>\n<path clip-path=\"url(#clip980)\" d=\"\nM139.191 1486.45 L2352.76 1486.45 L2352.76 47.2441 L139.191 47.2441  Z\n  \" fill=\"#ffffff\" fill-rule=\"evenodd\" fill-opacity=\"1\"/>\n<defs>\n  <clipPath id=\"clip982\">\n    <rect x=\"139\" y=\"47\" width=\"2215\" height=\"1440\"/>\n  </clipPath>\n</defs>\n<polyline clip-path=\"url(#clip982)\" style=\"stroke:#000000; stroke-width:2; stroke-opacity:0.1; fill:none\" points=\"\n  500.163,1486.45 500.163,47.2441 \n  \"/>\n<polyline clip-path=\"url(#clip982)\" style=\"stroke:#000000; stroke-width:2; stroke-opacity:0.1; fill:none\" points=\"\n  873.068,1486.45 873.068,47.2441 \n  \"/>\n<polyline clip-path=\"url(#clip982)\" style=\"stroke:#000000; stroke-width:2; stroke-opacity:0.1; fill:none\" points=\"\n  1245.97,1486.45 1245.97,47.2441 \n  \"/>\n<polyline clip-path=\"url(#clip982)\" style=\"stroke:#000000; stroke-width:2; stroke-opacity:0.1; fill:none\" points=\"\n  1618.88,1486.45 1618.88,47.2441 \n  \"/>\n<polyline clip-path=\"url(#clip982)\" style=\"stroke:#000000; stroke-width:2; stroke-opacity:0.1; fill:none\" points=\"\n  1991.78,1486.45 1991.78,47.2441 \n  \"/>\n<polyline clip-path=\"url(#clip980)\" style=\"stroke:#000000; stroke-width:4; stroke-opacity:1; fill:none\" points=\"\n  139.191,1486.45 2352.76,1486.45 \n  \"/>\n<polyline clip-path=\"url(#clip980)\" style=\"stroke:#000000; stroke-width:4; stroke-opacity:1; fill:none\" points=\"\n  500.163,1486.45 500.163,1469.18 \n  \"/>\n<polyline clip-path=\"url(#clip980)\" style=\"stroke:#000000; stroke-width:4; stroke-opacity:1; fill:none\" points=\"\n  873.068,1486.45 873.068,1469.18 \n  \"/>\n<polyline clip-path=\"url(#clip980)\" style=\"stroke:#000000; stroke-width:4; stroke-opacity:1; fill:none\" points=\"\n  1245.97,1486.45 1245.97,1469.18 \n  \"/>\n<polyline clip-path=\"url(#clip980)\" style=\"stroke:#000000; stroke-width:4; stroke-opacity:1; fill:none\" points=\"\n  1618.88,1486.45 1618.88,1469.18 \n  \"/>\n<polyline clip-path=\"url(#clip980)\" style=\"stroke:#000000; stroke-width:4; stroke-opacity:1; fill:none\" points=\"\n  1991.78,1486.45 1991.78,1469.18 \n  \"/>\n<path clip-path=\"url(#clip980)\" d=\"M 0 0 M490.441 1512.56 L508.797 1512.56 L508.797 1516.5 L494.723 1516.5 L494.723 1524.97 Q495.742 1524.62 496.76 1524.46 Q497.779 1524.27 498.797 1524.27 Q504.584 1524.27 507.964 1527.44 Q511.344 1530.62 511.344 1536.03 Q511.344 1541.61 507.871 1544.71 Q504.399 1547.79 498.08 1547.79 Q495.904 1547.79 493.635 1547.42 Q491.39 1547.05 488.983 1546.31 L488.983 1541.61 Q491.066 1542.74 493.288 1543.3 Q495.51 1543.86 497.987 1543.86 Q501.992 1543.86 504.33 1541.75 Q506.668 1539.64 506.668 1536.03 Q506.668 1532.42 504.33 1530.31 Q501.992 1528.21 497.987 1528.21 Q496.112 1528.21 494.237 1528.62 Q492.385 1529.04 490.441 1529.92 L490.441 1512.56 Z\" fill=\"#000000\" fill-rule=\"evenodd\" fill-opacity=\"1\" /><path clip-path=\"url(#clip980)\" d=\"M 0 0 M849.943 1543.18 L857.582 1543.18 L857.582 1516.82 L849.272 1518.49 L849.272 1514.23 L857.536 1512.56 L862.212 1512.56 L862.212 1543.18 L869.851 1543.18 L869.851 1547.12 L849.943 1547.12 L849.943 1543.18 Z\" fill=\"#000000\" fill-rule=\"evenodd\" fill-opacity=\"1\" /><path clip-path=\"url(#clip980)\" d=\"M 0 0 M884.92 1515.64 Q881.309 1515.64 879.48 1519.2 Q877.675 1522.75 877.675 1529.87 Q877.675 1536.98 879.48 1540.55 Q881.309 1544.09 884.92 1544.09 Q888.554 1544.09 890.36 1540.55 Q892.189 1536.98 892.189 1529.87 Q892.189 1522.75 890.36 1519.2 Q888.554 1515.64 884.92 1515.64 M884.92 1511.93 Q890.73 1511.93 893.786 1516.54 Q896.864 1521.12 896.864 1529.87 Q896.864 1538.6 893.786 1543.21 Q890.73 1547.79 884.92 1547.79 Q879.11 1547.79 876.031 1543.21 Q872.976 1538.6 872.976 1529.87 Q872.976 1521.12 876.031 1516.54 Q879.11 1511.93 884.92 1511.93 Z\" fill=\"#000000\" fill-rule=\"evenodd\" fill-opacity=\"1\" /><path clip-path=\"url(#clip980)\" d=\"M 0 0 M1223.35 1543.18 L1230.99 1543.18 L1230.99 1516.82 L1222.67 1518.49 L1222.67 1514.23 L1230.94 1512.56 L1235.61 1512.56 L1235.61 1543.18 L1243.25 1543.18 L1243.25 1547.12 L1223.35 1547.12 L1223.35 1543.18 Z\" fill=\"#000000\" fill-rule=\"evenodd\" fill-opacity=\"1\" /><path clip-path=\"url(#clip980)\" d=\"M 0 0 M1248.37 1512.56 L1266.73 1512.56 L1266.73 1516.5 L1252.65 1516.5 L1252.65 1524.97 Q1253.67 1524.62 1254.69 1524.46 Q1255.71 1524.27 1256.73 1524.27 Q1262.51 1524.27 1265.89 1527.44 Q1269.27 1530.62 1269.27 1536.03 Q1269.27 1541.61 1265.8 1544.71 Q1262.33 1547.79 1256.01 1547.79 Q1253.83 1547.79 1251.56 1547.42 Q1249.32 1547.05 1246.91 1546.31 L1246.91 1541.61 Q1248.99 1542.74 1251.22 1543.3 Q1253.44 1543.86 1255.92 1543.86 Q1259.92 1543.86 1262.26 1541.75 Q1264.6 1539.64 1264.6 1536.03 Q1264.6 1532.42 1262.26 1530.31 Q1259.92 1528.21 1255.92 1528.21 Q1254.04 1528.21 1252.17 1528.62 Q1250.31 1529.04 1248.37 1529.92 L1248.37 1512.56 Z\" fill=\"#000000\" fill-rule=\"evenodd\" fill-opacity=\"1\" /><path clip-path=\"url(#clip980)\" d=\"M 0 0 M1600.02 1543.18 L1616.34 1543.18 L1616.34 1547.12 L1594.4 1547.12 L1594.4 1543.18 Q1597.06 1540.43 1601.64 1535.8 Q1606.25 1531.15 1607.43 1529.81 Q1609.68 1527.28 1610.56 1525.55 Q1611.46 1523.79 1611.46 1522.1 Q1611.46 1519.34 1609.52 1517.61 Q1607.59 1515.87 1604.49 1515.87 Q1602.29 1515.87 1599.84 1516.63 Q1597.41 1517.4 1594.63 1518.95 L1594.63 1514.23 Q1597.46 1513.09 1599.91 1512.51 Q1602.36 1511.93 1604.4 1511.93 Q1609.77 1511.93 1612.96 1514.62 Q1616.16 1517.31 1616.16 1521.8 Q1616.16 1523.93 1615.35 1525.85 Q1614.56 1527.74 1612.45 1530.34 Q1611.88 1531.01 1608.77 1534.23 Q1605.67 1537.42 1600.02 1543.18 Z\" fill=\"#000000\" fill-rule=\"evenodd\" fill-opacity=\"1\" /><path clip-path=\"url(#clip980)\" d=\"M 0 0 M1631.41 1515.64 Q1627.8 1515.64 1625.97 1519.2 Q1624.17 1522.75 1624.17 1529.87 Q1624.17 1536.98 1625.97 1540.55 Q1627.8 1544.09 1631.41 1544.09 Q1635.05 1544.09 1636.85 1540.55 Q1638.68 1536.98 1638.68 1529.87 Q1638.68 1522.75 1636.85 1519.2 Q1635.05 1515.64 1631.41 1515.64 M1631.41 1511.93 Q1637.22 1511.93 1640.28 1516.54 Q1643.36 1521.12 1643.36 1529.87 Q1643.36 1538.6 1640.28 1543.21 Q1637.22 1547.79 1631.41 1547.79 Q1625.6 1547.79 1622.52 1543.21 Q1619.47 1538.6 1619.47 1529.87 Q1619.47 1521.12 1622.52 1516.54 Q1625.6 1511.93 1631.41 1511.93 Z\" fill=\"#000000\" fill-rule=\"evenodd\" fill-opacity=\"1\" /><path clip-path=\"url(#clip980)\" d=\"M 0 0 M1973.43 1543.18 L1989.75 1543.18 L1989.75 1547.12 L1967.8 1547.12 L1967.8 1543.18 Q1970.46 1540.43 1975.05 1535.8 Q1979.65 1531.15 1980.83 1529.81 Q1983.08 1527.28 1983.96 1525.55 Q1984.86 1523.79 1984.86 1522.1 Q1984.86 1519.34 1982.92 1517.61 Q1981 1515.87 1977.89 1515.87 Q1975.7 1515.87 1973.24 1516.63 Q1970.81 1517.4 1968.03 1518.95 L1968.03 1514.23 Q1970.86 1513.09 1973.31 1512.51 Q1975.77 1511.93 1977.8 1511.93 Q1983.17 1511.93 1986.37 1514.62 Q1989.56 1517.31 1989.56 1521.8 Q1989.56 1523.93 1988.75 1525.85 Q1987.96 1527.74 1985.86 1530.34 Q1985.28 1531.01 1982.18 1534.23 Q1979.08 1537.42 1973.43 1543.18 Z\" fill=\"#000000\" fill-rule=\"evenodd\" fill-opacity=\"1\" /><path clip-path=\"url(#clip980)\" d=\"M 0 0 M1994.86 1512.56 L2013.22 1512.56 L2013.22 1516.5 L1999.14 1516.5 L1999.14 1524.97 Q2000.16 1524.62 2001.18 1524.46 Q2002.2 1524.27 2003.22 1524.27 Q2009.01 1524.27 2012.39 1527.44 Q2015.77 1530.62 2015.77 1536.03 Q2015.77 1541.61 2012.29 1544.71 Q2008.82 1547.79 2002.5 1547.79 Q2000.33 1547.79 1998.06 1547.42 Q1995.81 1547.05 1993.4 1546.31 L1993.4 1541.61 Q1995.49 1542.74 1997.71 1543.3 Q1999.93 1543.86 2002.41 1543.86 Q2006.41 1543.86 2008.75 1541.75 Q2011.09 1539.64 2011.09 1536.03 Q2011.09 1532.42 2008.75 1530.31 Q2006.41 1528.21 2002.41 1528.21 Q2000.53 1528.21 1998.66 1528.62 Q1996.81 1529.04 1994.86 1529.92 L1994.86 1512.56 Z\" fill=\"#000000\" fill-rule=\"evenodd\" fill-opacity=\"1\" /><polyline clip-path=\"url(#clip982)\" style=\"stroke:#000000; stroke-width:2; stroke-opacity:0.1; fill:none\" points=\"\n  139.191,1445.72 2352.76,1445.72 \n  \"/>\n<polyline clip-path=\"url(#clip982)\" style=\"stroke:#000000; stroke-width:2; stroke-opacity:0.1; fill:none\" points=\"\n  139.191,1101.98 2352.76,1101.98 \n  \"/>\n<polyline clip-path=\"url(#clip982)\" style=\"stroke:#000000; stroke-width:2; stroke-opacity:0.1; fill:none\" points=\"\n  139.191,758.253 2352.76,758.253 \n  \"/>\n<polyline clip-path=\"url(#clip982)\" style=\"stroke:#000000; stroke-width:2; stroke-opacity:0.1; fill:none\" points=\"\n  139.191,414.521 2352.76,414.521 \n  \"/>\n<polyline clip-path=\"url(#clip982)\" style=\"stroke:#000000; stroke-width:2; stroke-opacity:0.1; fill:none\" points=\"\n  139.191,70.7897 2352.76,70.7897 \n  \"/>\n<polyline clip-path=\"url(#clip980)\" style=\"stroke:#000000; stroke-width:4; stroke-opacity:1; fill:none\" points=\"\n  139.191,1486.45 139.191,47.2441 \n  \"/>\n<polyline clip-path=\"url(#clip980)\" style=\"stroke:#000000; stroke-width:4; stroke-opacity:1; fill:none\" points=\"\n  139.191,1445.72 165.754,1445.72 \n  \"/>\n<polyline clip-path=\"url(#clip980)\" style=\"stroke:#000000; stroke-width:4; stroke-opacity:1; fill:none\" points=\"\n  139.191,1101.98 165.754,1101.98 \n  \"/>\n<polyline clip-path=\"url(#clip980)\" style=\"stroke:#000000; stroke-width:4; stroke-opacity:1; fill:none\" points=\"\n  139.191,758.253 165.754,758.253 \n  \"/>\n<polyline clip-path=\"url(#clip980)\" style=\"stroke:#000000; stroke-width:4; stroke-opacity:1; fill:none\" points=\"\n  139.191,414.521 165.754,414.521 \n  \"/>\n<polyline clip-path=\"url(#clip980)\" style=\"stroke:#000000; stroke-width:4; stroke-opacity:1; fill:none\" points=\"\n  139.191,70.7897 165.754,70.7897 \n  \"/>\n<path clip-path=\"url(#clip980)\" d=\"M 0 0 M91.2465 1431.51 Q87.6354 1431.51 85.8068 1435.08 Q84.0012 1438.62 84.0012 1445.75 Q84.0012 1452.86 85.8068 1456.42 Q87.6354 1459.96 91.2465 1459.96 Q94.8808 1459.96 96.6863 1456.42 Q98.515 1452.86 98.515 1445.75 Q98.515 1438.62 96.6863 1435.08 Q94.8808 1431.51 91.2465 1431.51 M91.2465 1427.81 Q97.0567 1427.81 100.112 1432.42 Q103.191 1437 103.191 1445.75 Q103.191 1454.48 100.112 1459.08 Q97.0567 1463.67 91.2465 1463.67 Q85.4364 1463.67 82.3577 1459.08 Q79.3022 1454.48 79.3022 1445.75 Q79.3022 1437 82.3577 1432.42 Q85.4364 1427.81 91.2465 1427.81 Z\" fill=\"#000000\" fill-rule=\"evenodd\" fill-opacity=\"1\" /><path clip-path=\"url(#clip980)\" d=\"M 0 0 M59.8578 1115.33 L76.1772 1115.33 L76.1772 1119.26 L54.2328 1119.26 L54.2328 1115.33 Q56.8949 1112.57 61.4782 1107.94 Q66.0846 1103.29 67.2652 1101.95 Q69.5105 1099.43 70.3902 1097.69 Q71.2929 1095.93 71.2929 1094.24 Q71.2929 1091.49 69.3485 1089.75 Q67.4272 1088.01 64.3254 1088.01 Q62.1263 1088.01 59.6726 1088.78 Q57.2421 1089.54 54.4643 1091.09 L54.4643 1086.37 Q57.2884 1085.24 59.7421 1084.66 Q62.1958 1084.08 64.2328 1084.08 Q69.6031 1084.08 72.7976 1086.76 Q75.992 1089.45 75.992 1093.94 Q75.992 1096.07 75.1818 1097.99 Q74.3948 1099.89 72.2883 1102.48 Q71.7096 1103.15 68.6078 1106.37 Q65.5059 1109.57 59.8578 1115.33 Z\" fill=\"#000000\" fill-rule=\"evenodd\" fill-opacity=\"1\" /><path clip-path=\"url(#clip980)\" d=\"M 0 0 M91.2465 1087.78 Q87.6354 1087.78 85.8068 1091.35 Q84.0012 1094.89 84.0012 1102.02 Q84.0012 1109.13 85.8068 1112.69 Q87.6354 1116.23 91.2465 1116.23 Q94.8808 1116.23 96.6863 1112.69 Q98.515 1109.13 98.515 1102.02 Q98.515 1094.89 96.6863 1091.35 Q94.8808 1087.78 91.2465 1087.78 M91.2465 1084.08 Q97.0567 1084.08 100.112 1088.69 Q103.191 1093.27 103.191 1102.02 Q103.191 1110.75 100.112 1115.35 Q97.0567 1119.94 91.2465 1119.94 Q85.4364 1119.94 82.3577 1115.35 Q79.3022 1110.75 79.3022 1102.02 Q79.3022 1093.27 82.3577 1088.69 Q85.4364 1084.08 91.2465 1084.08 Z\" fill=\"#000000\" fill-rule=\"evenodd\" fill-opacity=\"1\" /><path clip-path=\"url(#clip980)\" d=\"M 0 0 M66.5939 745.047 L54.7884 763.496 L66.5939 763.496 L66.5939 745.047 M65.367 740.973 L71.2466 740.973 L71.2466 763.496 L76.1772 763.496 L76.1772 767.385 L71.2466 767.385 L71.2466 775.533 L66.5939 775.533 L66.5939 767.385 L50.9921 767.385 L50.9921 762.871 L65.367 740.973 Z\" fill=\"#000000\" fill-rule=\"evenodd\" fill-opacity=\"1\" /><path clip-path=\"url(#clip980)\" d=\"M 0 0 M91.2465 744.051 Q87.6354 744.051 85.8068 747.616 Q84.0012 751.158 84.0012 758.287 Q84.0012 765.394 85.8068 768.959 Q87.6354 772.5 91.2465 772.5 Q94.8808 772.5 96.6863 768.959 Q98.515 765.394 98.515 758.287 Q98.515 751.158 96.6863 747.616 Q94.8808 744.051 91.2465 744.051 M91.2465 740.348 Q97.0567 740.348 100.112 744.954 Q103.191 749.537 103.191 758.287 Q103.191 767.014 100.112 771.621 Q97.0567 776.204 91.2465 776.204 Q85.4364 776.204 82.3577 771.621 Q79.3022 767.014 79.3022 758.287 Q79.3022 749.537 82.3577 744.954 Q85.4364 740.348 91.2465 740.348 Z\" fill=\"#000000\" fill-rule=\"evenodd\" fill-opacity=\"1\" /><path clip-path=\"url(#clip980)\" d=\"M 0 0 M64.6495 412.658 Q61.5013 412.658 59.6495 414.811 Q57.8208 416.963 57.8208 420.713 Q57.8208 424.44 59.6495 426.616 Q61.5013 428.769 64.6495 428.769 Q67.7976 428.769 69.6263 426.616 Q71.4781 424.44 71.4781 420.713 Q71.4781 416.963 69.6263 414.811 Q67.7976 412.658 64.6495 412.658 M73.9318 398.005 L73.9318 402.264 Q72.1726 401.431 70.367 400.991 Q68.5846 400.551 66.8254 400.551 Q62.1958 400.551 59.7421 403.676 Q57.3115 406.801 56.9643 413.121 Q58.33 411.107 60.3902 410.042 Q62.4504 408.954 64.9272 408.954 Q70.1355 408.954 73.1448 412.125 Q76.1772 415.274 76.1772 420.713 Q76.1772 426.037 73.029 429.255 Q69.8809 432.472 64.6495 432.472 Q58.6541 432.472 55.4828 427.889 Q52.3116 423.283 52.3116 414.556 Q52.3116 406.362 56.2004 401.5 Q60.0893 396.616 66.6402 396.616 Q68.3994 396.616 70.1818 396.963 Q71.9874 397.311 73.9318 398.005 Z\" fill=\"#000000\" fill-rule=\"evenodd\" fill-opacity=\"1\" /><path clip-path=\"url(#clip980)\" d=\"M 0 0 M91.2465 400.32 Q87.6354 400.32 85.8068 403.885 Q84.0012 407.426 84.0012 414.556 Q84.0012 421.662 85.8068 425.227 Q87.6354 428.769 91.2465 428.769 Q94.8808 428.769 96.6863 425.227 Q98.515 421.662 98.515 414.556 Q98.515 407.426 96.6863 403.885 Q94.8808 400.32 91.2465 400.32 M91.2465 396.616 Q97.0567 396.616 100.112 401.223 Q103.191 405.806 103.191 414.556 Q103.191 423.283 100.112 427.889 Q97.0567 432.472 91.2465 432.472 Q85.4364 432.472 82.3577 427.889 Q79.3022 423.283 79.3022 414.556 Q79.3022 405.806 82.3577 401.223 Q85.4364 396.616 91.2465 396.616 Z\" fill=\"#000000\" fill-rule=\"evenodd\" fill-opacity=\"1\" /><path clip-path=\"url(#clip980)\" d=\"M 0 0 M64.3254 71.6578 Q60.9921 71.6578 59.0708 73.4402 Q57.1726 75.2225 57.1726 78.3475 Q57.1726 81.4725 59.0708 83.2549 Q60.9921 85.0373 64.3254 85.0373 Q67.6587 85.0373 69.58 83.2549 Q71.5013 81.4494 71.5013 78.3475 Q71.5013 75.2225 69.58 73.4402 Q67.6819 71.6578 64.3254 71.6578 M59.6495 69.667 Q56.6402 68.9263 54.9504 66.8661 Q53.2838 64.8059 53.2838 61.843 Q53.2838 57.6995 56.2236 55.2921 Q59.1865 52.8847 64.3254 52.8847 Q69.4874 52.8847 72.4272 55.2921 Q75.367 57.6995 75.367 61.843 Q75.367 64.8059 73.6772 66.8661 Q72.0105 68.9263 69.0244 69.667 Q72.404 70.4541 74.279 72.7457 Q76.1772 75.0374 76.1772 78.3475 Q76.1772 83.3707 73.0985 86.0558 Q70.0429 88.741 64.3254 88.741 Q58.6078 88.741 55.5291 86.0558 Q52.4736 83.3707 52.4736 78.3475 Q52.4736 75.0374 54.3717 72.7457 Q56.2699 70.4541 59.6495 69.667 M57.9365 62.2828 Q57.9365 64.968 59.6032 66.4726 Q61.293 67.9772 64.3254 67.9772 Q67.3346 67.9772 69.0244 66.4726 Q70.7374 64.968 70.7374 62.2828 Q70.7374 59.5976 69.0244 58.093 Q67.3346 56.5884 64.3254 56.5884 Q61.293 56.5884 59.6032 58.093 Q57.9365 59.5976 57.9365 62.2828 Z\" fill=\"#000000\" fill-rule=\"evenodd\" fill-opacity=\"1\" /><path clip-path=\"url(#clip980)\" d=\"M 0 0 M91.2465 56.5884 Q87.6354 56.5884 85.8068 60.1532 Q84.0012 63.6948 84.0012 70.8244 Q84.0012 77.9309 85.8068 81.4957 Q87.6354 85.0373 91.2465 85.0373 Q94.8808 85.0373 96.6863 81.4957 Q98.515 77.9309 98.515 70.8244 Q98.515 63.6948 96.6863 60.1532 Q94.8808 56.5884 91.2465 56.5884 M91.2465 52.8847 Q97.0567 52.8847 100.112 57.4912 Q103.191 62.0745 103.191 70.8244 Q103.191 79.5512 100.112 84.1577 Q97.0567 88.741 91.2465 88.741 Q85.4364 88.741 82.3577 84.1577 Q79.3022 79.5512 79.3022 70.8244 Q79.3022 62.0745 82.3577 57.4912 Q85.4364 52.8847 91.2465 52.8847 Z\" fill=\"#000000\" fill-rule=\"evenodd\" fill-opacity=\"1\" /><polyline clip-path=\"url(#clip982)\" style=\"stroke:#009af9; stroke-width:4; stroke-opacity:1; fill:none\" points=\"\n  201.839,1411.34 276.42,1445.72 351.001,1445.72 425.582,1411.34 500.163,1445.72 574.744,1428.53 649.325,1411.34 723.906,1411.34 798.487,1411.34 873.068,1411.34 \n  947.649,1411.34 1022.23,1411.34 1096.81,1445.72 1171.39,1445.72 1245.97,1445.72 1320.55,1445.72 1395.14,1445.72 1469.72,1445.72 1544.3,1445.72 1618.88,1445.72 \n  1693.46,1445.72 1768.04,1445.72 1842.62,1445.72 1917.2,1445.72 1991.78,1445.72 2066.36,1445.72 2140.95,1445.72 2215.53,1445.72 2290.11,1445.72 \n  \"/>\n<polyline clip-path=\"url(#clip982)\" style=\"stroke:#e26f46; stroke-width:4; stroke-opacity:1; fill:none\" points=\"\n  201.839,1205.1 276.42,1205.1 351.001,1273.85 425.582,1342.6 500.163,1376.97 574.744,1342.6 649.325,1308.22 723.906,1308.22 798.487,1273.85 873.068,1308.22 \n  947.649,1308.22 1022.23,1359.78 1096.81,1376.97 1171.39,1342.6 1245.97,1308.22 1320.55,1308.22 1395.14,1308.22 1469.72,1308.22 1544.3,1239.48 1618.88,1239.48 \n  1693.46,1342.6 1768.04,1359.78 1842.62,1342.6 1917.2,1342.6 1991.78,1376.97 2066.36,1342.6 2140.95,1411.34 2215.53,1411.34 2290.11,1445.72 \n  \"/>\n<polyline clip-path=\"url(#clip982)\" style=\"stroke:#3da44d; stroke-width:4; stroke-opacity:1; fill:none\" points=\"\n  201.839,792.626 276.42,1222.29 351.001,1359.78 425.582,1411.34 500.163,1411.34 574.744,1445.72 649.325,1445.72 723.906,1445.72 798.487,1445.72 873.068,1445.72 \n  947.649,1445.72 1022.23,1445.72 1096.81,1445.72 1171.39,1445.72 1245.97,1445.72 1320.55,1445.72 1395.14,1445.72 1469.72,1445.72 1544.3,1445.72 1618.88,1445.72 \n  1693.46,1445.72 1768.04,1445.72 1842.62,1445.72 1917.2,1445.72 1991.78,1445.72 2066.36,1445.72 2140.95,1445.72 2215.53,1445.72 2290.11,1445.72 \n  \"/>\n<polyline clip-path=\"url(#clip982)\" style=\"stroke:#c271d2; stroke-width:4; stroke-opacity:1; fill:none\" points=\"\n  201.839,87.9763 276.42,672.32 351.001,1136.36 425.582,1325.41 500.163,1342.6 574.744,1394.16 649.325,1445.72 723.906,1445.72 798.487,1445.72 873.068,1445.72 \n  947.649,1445.72 1022.23,1445.72 1096.81,1445.72 1171.39,1445.72 1245.97,1445.72 1320.55,1445.72 1395.14,1445.72 1469.72,1445.72 1544.3,1445.72 1618.88,1445.72 \n  1693.46,1445.72 1768.04,1445.72 1842.62,1445.72 1917.2,1445.72 1991.78,1445.72 2066.36,1445.72 2140.95,1445.72 2215.53,1445.72 2290.11,1445.72 \n  \"/>\n<path clip-path=\"url(#clip980)\" d=\"\nM1694.76 397.618 L2278.97 397.618 L2278.97 95.2176 L1694.76 95.2176  Z\n  \" fill=\"#ffffff\" fill-rule=\"evenodd\" fill-opacity=\"1\"/>\n<polyline clip-path=\"url(#clip980)\" style=\"stroke:#000000; stroke-width:4; stroke-opacity:1; fill:none\" points=\"\n  1694.76,397.618 2278.97,397.618 2278.97,95.2176 1694.76,95.2176 1694.76,397.618 \n  \"/>\n<polyline clip-path=\"url(#clip980)\" style=\"stroke:#009af9; stroke-width:4; stroke-opacity:1; fill:none\" points=\"\n  1719.35,155.698 1866.92,155.698 \n  \"/>\n<path clip-path=\"url(#clip980)\" d=\"M 0 0 M1910.43 159.714 Q1910.43 155.084 1908.51 152.538 Q1906.61 149.992 1903.16 149.992 Q1899.74 149.992 1897.81 152.538 Q1895.92 155.084 1895.92 159.714 Q1895.92 164.32 1897.81 166.866 Q1899.74 169.413 1903.16 169.413 Q1906.61 169.413 1908.51 166.866 Q1910.43 164.32 1910.43 159.714 M1914.69 169.76 Q1914.69 176.38 1911.75 179.598 Q1908.81 182.839 1902.74 182.839 Q1900.5 182.839 1898.51 182.491 Q1896.52 182.167 1894.64 181.473 L1894.64 177.329 Q1896.52 178.348 1898.35 178.834 Q1900.18 179.32 1902.07 179.32 Q1906.26 179.32 1908.35 177.121 Q1910.43 174.945 1910.43 170.524 L1910.43 168.417 Q1909.11 170.709 1907.05 171.843 Q1904.99 172.978 1902.12 172.978 Q1897.35 172.978 1894.43 169.343 Q1891.52 165.709 1891.52 159.714 Q1891.52 153.695 1894.43 150.061 Q1897.35 146.427 1902.12 146.427 Q1904.99 146.427 1907.05 147.561 Q1909.11 148.695 1910.43 150.987 L1910.43 147.052 L1914.69 147.052 L1914.69 169.76 Z\" fill=\"#000000\" fill-rule=\"evenodd\" fill-opacity=\"1\" /><path clip-path=\"url(#clip980)\" d=\"M 0 0 M1929.2 150.038 Q1925.78 150.038 1923.79 152.723 Q1921.8 155.385 1921.8 160.038 Q1921.8 164.691 1923.76 167.376 Q1925.75 170.038 1929.2 170.038 Q1932.61 170.038 1934.6 167.353 Q1936.59 164.667 1936.59 160.038 Q1936.59 155.431 1934.6 152.746 Q1932.61 150.038 1929.2 150.038 M1929.2 146.427 Q1934.76 146.427 1937.93 150.038 Q1941.1 153.649 1941.1 160.038 Q1941.1 166.404 1937.93 170.038 Q1934.76 173.649 1929.2 173.649 Q1923.62 173.649 1920.45 170.038 Q1917.3 166.404 1917.3 160.038 Q1917.3 153.649 1920.45 150.038 Q1923.62 146.427 1929.2 146.427 Z\" fill=\"#000000\" fill-rule=\"evenodd\" fill-opacity=\"1\" /><path clip-path=\"url(#clip980)\" d=\"M 0 0 M1945.71 136.959 L1949.97 136.959 L1949.97 150.894 L1952.86 148.811 L1954.62 151.265 L1949.97 154.529 L1949.97 172.978 L1945.71 172.978 L1945.71 157.561 L1942.86 159.598 L1941.15 157.144 L1945.71 153.88 L1945.71 136.959 Z\" fill=\"#000000\" fill-rule=\"evenodd\" fill-opacity=\"1\" /><path clip-path=\"url(#clip980)\" d=\"M 0 0 M1981.26 158.95 L1981.26 161.033 L1961.68 161.033 Q1961.96 165.431 1964.32 167.746 Q1966.7 170.038 1970.94 170.038 Q1973.39 170.038 1975.68 169.436 Q1978 168.834 1980.27 167.63 L1980.27 171.658 Q1977.98 172.63 1975.57 173.14 Q1973.16 173.649 1970.68 173.649 Q1964.48 173.649 1960.85 170.038 Q1957.24 166.427 1957.24 160.269 Q1957.24 153.904 1960.66 150.177 Q1964.11 146.427 1969.94 146.427 Q1975.17 146.427 1978.21 149.806 Q1981.26 153.163 1981.26 158.95 M1977 157.7 Q1976.96 154.205 1975.04 152.121 Q1973.14 150.038 1969.99 150.038 Q1966.43 150.038 1964.27 152.052 Q1962.14 154.066 1961.82 157.723 L1977 157.7 M1973.51 172.978 L1976.26 172.978 Q1975.22 174.39 1974.71 175.408 Q1974.23 176.427 1974.23 177.144 Q1974.23 178.209 1974.85 178.741 Q1975.5 179.274 1976.75 179.274 Q1977.49 179.274 1978.21 179.089 Q1978.92 178.927 1979.64 178.579 L1979.64 181.658 Q1978.76 181.89 1977.98 182.005 Q1977.19 182.121 1976.49 182.121 Q1973.67 182.121 1972.33 181.103 Q1971.01 180.107 1971.01 177.954 Q1971.01 176.843 1971.61 175.616 Q1972.24 174.413 1973.51 172.978 Z\" fill=\"#000000\" fill-rule=\"evenodd\" fill-opacity=\"1\" /><path clip-path=\"url(#clip980)\" d=\"M 0 0 M2004.34 160.038 Q2004.34 155.339 2002.4 152.677 Q2000.48 149.992 1997.1 149.992 Q1993.72 149.992 1991.77 152.677 Q1989.85 155.339 1989.85 160.038 Q1989.85 164.737 1991.77 167.422 Q1993.72 170.084 1997.1 170.084 Q2000.48 170.084 2002.4 167.422 Q2004.34 164.737 2004.34 160.038 M1989.85 150.987 Q1991.19 148.672 1993.23 147.561 Q1995.29 146.427 1998.14 146.427 Q2002.86 146.427 2005.8 150.177 Q2008.76 153.927 2008.76 160.038 Q2008.76 166.149 2005.8 169.899 Q2002.86 173.649 1998.14 173.649 Q1995.29 173.649 1993.23 172.538 Q1991.19 171.403 1989.85 169.089 L1989.85 172.978 L1985.57 172.978 L1985.57 136.959 L1989.85 136.959 L1989.85 150.987 Z\" fill=\"#000000\" fill-rule=\"evenodd\" fill-opacity=\"1\" /><path clip-path=\"url(#clip980)\" d=\"M 0 0 M2013.23 147.052 L2017.49 147.052 L2017.49 172.978 L2013.23 172.978 L2013.23 147.052 M2013.23 136.959 L2017.49 136.959 L2017.49 142.353 L2013.23 142.353 L2013.23 136.959 Z\" fill=\"#000000\" fill-rule=\"evenodd\" fill-opacity=\"1\" /><path clip-path=\"url(#clip980)\" d=\"M 0 0 M2044.13 158.95 L2044.13 161.033 L2024.55 161.033 Q2024.83 165.431 2027.19 167.746 Q2029.57 170.038 2033.81 170.038 Q2036.26 170.038 2038.55 169.436 Q2040.87 168.834 2043.14 167.63 L2043.14 171.658 Q2040.85 172.63 2038.44 173.14 Q2036.03 173.649 2033.55 173.649 Q2027.35 173.649 2023.72 170.038 Q2020.11 166.427 2020.11 160.269 Q2020.11 153.904 2023.53 150.177 Q2026.98 146.427 2032.81 146.427 Q2038.04 146.427 2041.08 149.806 Q2044.13 153.163 2044.13 158.95 M2039.87 157.7 Q2039.83 154.205 2037.91 152.121 Q2036.01 150.038 2032.86 150.038 Q2029.3 150.038 2027.14 152.052 Q2025.01 154.066 2024.69 157.723 L2039.87 157.7 Z\" fill=\"#000000\" fill-rule=\"evenodd\" fill-opacity=\"1\" /><polyline clip-path=\"url(#clip980)\" style=\"stroke:#e26f46; stroke-width:4; stroke-opacity:1; fill:none\" points=\"\n  1719.35,216.178 1866.92,216.178 \n  \"/>\n<path clip-path=\"url(#clip980)\" d=\"M 0 0 M1896.84 207.532 L1901.1 207.532 L1901.1 233.921 Q1901.1 238.874 1899.2 241.096 Q1897.33 243.319 1893.14 243.319 L1891.52 243.319 L1891.52 239.708 L1892.65 239.708 Q1895.08 239.708 1895.96 238.573 Q1896.84 237.462 1896.84 233.921 L1896.84 207.532 M1896.84 197.439 L1901.1 197.439 L1901.1 202.833 L1896.84 202.833 L1896.84 197.439 Z\" fill=\"#000000\" fill-rule=\"evenodd\" fill-opacity=\"1\" /><path clip-path=\"url(#clip980)\" d=\"M 0 0 M1917.35 220.425 Q1912.19 220.425 1910.2 221.606 Q1908.21 222.786 1908.21 225.634 Q1908.21 227.902 1909.69 229.245 Q1911.19 230.564 1913.76 230.564 Q1917.3 230.564 1919.43 228.064 Q1921.59 225.541 1921.59 221.374 L1921.59 220.425 L1917.35 220.425 M1925.85 218.666 L1925.85 233.458 L1921.59 233.458 L1921.59 229.522 Q1920.13 231.883 1917.95 233.018 Q1915.78 234.129 1912.63 234.129 Q1908.65 234.129 1906.29 231.907 Q1903.95 229.661 1903.95 225.911 Q1903.95 221.536 1906.87 219.314 Q1909.8 217.092 1915.62 217.092 L1921.59 217.092 L1921.59 216.675 Q1921.59 213.735 1919.64 212.138 Q1917.72 210.518 1914.23 210.518 Q1912 210.518 1909.9 211.05 Q1907.79 211.583 1905.85 212.647 L1905.85 208.712 Q1908.18 207.81 1910.38 207.37 Q1912.58 206.907 1914.67 206.907 Q1920.29 206.907 1923.07 209.823 Q1925.85 212.74 1925.85 218.666 Z\" fill=\"#000000\" fill-rule=\"evenodd\" fill-opacity=\"1\" /><path clip-path=\"url(#clip980)\" d=\"M 0 0 M1946.84 208.296 L1946.84 212.323 Q1945.04 211.397 1943.09 210.935 Q1941.15 210.472 1939.06 210.472 Q1935.89 210.472 1934.3 211.444 Q1932.72 212.416 1932.72 214.36 Q1932.72 215.842 1933.86 216.698 Q1934.99 217.532 1938.42 218.296 L1939.87 218.62 Q1944.41 219.592 1946.31 221.374 Q1948.23 223.134 1948.23 226.305 Q1948.23 229.916 1945.36 232.022 Q1942.51 234.129 1937.51 234.129 Q1935.43 234.129 1933.16 233.712 Q1930.92 233.319 1928.42 232.508 L1928.42 228.11 Q1930.78 229.337 1933.07 229.962 Q1935.36 230.564 1937.61 230.564 Q1940.61 230.564 1942.24 229.546 Q1943.86 228.504 1943.86 226.629 Q1943.86 224.893 1942.68 223.967 Q1941.52 223.041 1937.56 222.184 L1936.08 221.837 Q1932.12 221.004 1930.36 219.291 Q1928.6 217.555 1928.6 214.546 Q1928.6 210.888 1931.19 208.898 Q1933.79 206.907 1938.55 206.907 Q1940.92 206.907 1943 207.254 Q1945.08 207.601 1946.84 208.296 Z\" fill=\"#000000\" fill-rule=\"evenodd\" fill-opacity=\"1\" /><path clip-path=\"url(#clip980)\" d=\"M 0 0 M1956.91 200.171 L1956.91 207.532 L1965.68 207.532 L1965.68 210.842 L1956.91 210.842 L1956.91 224.916 Q1956.91 228.087 1957.77 228.99 Q1958.65 229.893 1961.31 229.893 L1965.68 229.893 L1965.68 233.458 L1961.31 233.458 Q1956.38 233.458 1954.5 231.629 Q1952.63 229.777 1952.63 224.916 L1952.63 210.842 L1949.5 210.842 L1949.5 207.532 L1952.63 207.532 L1952.63 200.171 L1956.91 200.171 Z\" fill=\"#000000\" fill-rule=\"evenodd\" fill-opacity=\"1\" /><path clip-path=\"url(#clip980)\" d=\"M 0 0 M1985.17 211.513 Q1984.46 211.097 1983.6 210.911 Q1982.77 210.703 1981.75 210.703 Q1978.14 210.703 1976.19 213.064 Q1974.27 215.402 1974.27 219.8 L1974.27 233.458 L1969.99 233.458 L1969.99 207.532 L1974.27 207.532 L1974.27 211.56 Q1975.61 209.198 1977.77 208.064 Q1979.92 206.907 1983 206.907 Q1983.44 206.907 1983.97 206.976 Q1984.5 207.023 1985.15 207.138 L1985.17 211.513 Z\" fill=\"#000000\" fill-rule=\"evenodd\" fill-opacity=\"1\" /><path clip-path=\"url(#clip980)\" d=\"M 0 0 M1987.79 207.532 L2008.02 207.532 L2008.02 211.421 L1992 230.055 L2008.02 230.055 L2008.02 233.458 L1987.21 233.458 L1987.21 229.569 L2003.23 210.935 L1987.79 210.935 L1987.79 207.532 Z\" fill=\"#000000\" fill-rule=\"evenodd\" fill-opacity=\"1\" /><path clip-path=\"url(#clip980)\" d=\"M 0 0 M2034.67 219.43 L2034.67 221.513 L2015.08 221.513 Q2015.36 225.911 2017.72 228.226 Q2020.11 230.518 2024.34 230.518 Q2026.8 230.518 2029.09 229.916 Q2031.4 229.314 2033.67 228.11 L2033.67 232.138 Q2031.38 233.11 2028.97 233.62 Q2026.56 234.129 2024.09 234.129 Q2017.88 234.129 2014.25 230.518 Q2010.64 226.907 2010.64 220.749 Q2010.64 214.384 2014.06 210.657 Q2017.51 206.907 2023.35 206.907 Q2028.58 206.907 2031.61 210.286 Q2034.67 213.643 2034.67 219.43 M2030.41 218.18 Q2030.36 214.685 2028.44 212.601 Q2026.54 210.518 2023.39 210.518 Q2019.83 210.518 2017.67 212.532 Q2015.55 214.546 2015.22 218.203 L2030.41 218.18 M2026.91 233.458 L2029.67 233.458 Q2028.62 234.87 2028.11 235.888 Q2027.63 236.907 2027.63 237.624 Q2027.63 238.689 2028.25 239.221 Q2028.9 239.754 2030.15 239.754 Q2030.89 239.754 2031.61 239.569 Q2032.33 239.407 2033.05 239.059 L2033.05 242.138 Q2032.17 242.37 2031.38 242.485 Q2030.59 242.601 2029.9 242.601 Q2027.07 242.601 2025.73 241.583 Q2024.41 240.587 2024.41 238.434 Q2024.41 237.323 2025.01 236.096 Q2025.64 234.893 2026.91 233.458 Z\" fill=\"#000000\" fill-rule=\"evenodd\" fill-opacity=\"1\" /><path clip-path=\"url(#clip980)\" d=\"M 0 0 M2057.74 220.518 Q2057.74 215.819 2055.8 213.157 Q2053.88 210.472 2050.5 210.472 Q2047.12 210.472 2045.17 213.157 Q2043.25 215.819 2043.25 220.518 Q2043.25 225.217 2045.17 227.902 Q2047.12 230.564 2050.5 230.564 Q2053.88 230.564 2055.8 227.902 Q2057.74 225.217 2057.74 220.518 M2043.25 211.467 Q2044.6 209.152 2046.63 208.041 Q2048.69 206.907 2051.54 206.907 Q2056.26 206.907 2059.2 210.657 Q2062.17 214.407 2062.17 220.518 Q2062.17 226.629 2059.2 230.379 Q2056.26 234.129 2051.54 234.129 Q2048.69 234.129 2046.63 233.018 Q2044.6 231.883 2043.25 229.569 L2043.25 233.458 L2038.97 233.458 L2038.97 197.439 L2043.25 197.439 L2043.25 211.467 Z\" fill=\"#000000\" fill-rule=\"evenodd\" fill-opacity=\"1\" /><path clip-path=\"url(#clip980)\" d=\"M 0 0 M2066.63 207.532 L2070.89 207.532 L2070.89 233.458 L2066.63 233.458 L2066.63 207.532 M2066.63 197.439 L2070.89 197.439 L2070.89 202.833 L2066.63 202.833 L2066.63 197.439 Z\" fill=\"#000000\" fill-rule=\"evenodd\" fill-opacity=\"1\" /><path clip-path=\"url(#clip980)\" d=\"M 0 0 M2097.54 219.43 L2097.54 221.513 L2077.95 221.513 Q2078.23 225.911 2080.59 228.226 Q2082.98 230.518 2087.21 230.518 Q2089.67 230.518 2091.96 229.916 Q2094.27 229.314 2096.54 228.11 L2096.54 232.138 Q2094.25 233.11 2091.84 233.62 Q2089.43 234.129 2086.96 234.129 Q2080.75 234.129 2077.12 230.518 Q2073.51 226.907 2073.51 220.749 Q2073.51 214.384 2076.93 210.657 Q2080.38 206.907 2086.22 206.907 Q2091.45 206.907 2094.48 210.286 Q2097.54 213.643 2097.54 219.43 M2093.28 218.18 Q2093.23 214.685 2091.31 212.601 Q2089.41 210.518 2086.26 210.518 Q2082.7 210.518 2080.54 212.532 Q2078.42 214.546 2078.09 218.203 L2093.28 218.18 Z\" fill=\"#000000\" fill-rule=\"evenodd\" fill-opacity=\"1\" /><polyline clip-path=\"url(#clip980)\" style=\"stroke:#3da44d; stroke-width:4; stroke-opacity:1; fill:none\" points=\"\n  1719.35,276.658 1866.92,276.658 \n  \"/>\n<path clip-path=\"url(#clip980)\" d=\"M 0 0 M1912.03 269.007 L1912.03 272.989 Q1910.22 271.993 1908.39 271.507 Q1906.59 270.998 1904.74 270.998 Q1900.59 270.998 1898.3 273.637 Q1896.01 276.252 1896.01 280.998 Q1896.01 285.743 1898.3 288.382 Q1900.59 290.998 1904.74 290.998 Q1906.59 290.998 1908.39 290.512 Q1910.22 290.002 1912.03 289.007 L1912.03 292.942 Q1910.24 293.776 1908.32 294.192 Q1906.43 294.609 1904.27 294.609 Q1898.42 294.609 1894.97 290.928 Q1891.52 287.248 1891.52 280.998 Q1891.52 274.655 1894.99 271.021 Q1898.49 267.387 1904.55 267.387 Q1906.52 267.387 1908.39 267.803 Q1910.27 268.197 1912.03 269.007 Z\" fill=\"#000000\" fill-rule=\"evenodd\" fill-opacity=\"1\" /><path clip-path=\"url(#clip980)\" d=\"M 0 0 M1938.05 278.289 L1938.05 293.938 L1933.79 293.938 L1933.79 278.428 Q1933.79 274.748 1932.35 272.919 Q1930.92 271.09 1928.05 271.09 Q1924.6 271.09 1922.61 273.29 Q1920.62 275.489 1920.62 279.285 L1920.62 293.938 L1916.33 293.938 L1916.33 257.919 L1920.62 257.919 L1920.62 272.04 Q1922.14 269.702 1924.2 268.544 Q1926.29 267.387 1928.99 267.387 Q1933.46 267.387 1935.75 270.165 Q1938.05 272.919 1938.05 278.289 Z\" fill=\"#000000\" fill-rule=\"evenodd\" fill-opacity=\"1\" /><path clip-path=\"url(#clip980)\" d=\"M 0 0 M1952.56 270.998 Q1949.13 270.998 1947.14 273.683 Q1945.15 276.345 1945.15 280.998 Q1945.15 285.651 1947.12 288.336 Q1949.11 290.998 1952.56 290.998 Q1955.96 290.998 1957.95 288.313 Q1959.94 285.627 1959.94 280.998 Q1959.94 276.391 1957.95 273.706 Q1955.96 270.998 1952.56 270.998 M1952.56 267.387 Q1958.11 267.387 1961.29 270.998 Q1964.46 274.609 1964.46 280.998 Q1964.46 287.364 1961.29 290.998 Q1958.11 294.609 1952.56 294.609 Q1946.98 294.609 1943.81 290.998 Q1940.66 287.364 1940.66 280.998 Q1940.66 274.609 1943.81 270.998 Q1946.98 267.387 1952.56 267.387 Z\" fill=\"#000000\" fill-rule=\"evenodd\" fill-opacity=\"1\" /><path clip-path=\"url(#clip980)\" d=\"M 0 0 M1983.95 271.993 Q1983.23 271.577 1982.37 271.391 Q1981.54 271.183 1980.52 271.183 Q1976.91 271.183 1974.97 273.544 Q1973.05 275.882 1973.05 280.28 L1973.05 293.938 L1968.76 293.938 L1968.76 268.012 L1973.05 268.012 L1973.05 272.04 Q1974.39 269.678 1976.54 268.544 Q1978.69 267.387 1981.77 267.387 Q1982.21 267.387 1982.74 267.456 Q1983.28 267.503 1983.92 267.618 L1983.95 271.993 Z\" fill=\"#000000\" fill-rule=\"evenodd\" fill-opacity=\"1\" /><path clip-path=\"url(#clip980)\" d=\"M 0 0 M2009.55 279.91 L2009.55 281.993 L1989.97 281.993 Q1990.24 286.391 1992.61 288.706 Q1994.99 290.998 1999.23 290.998 Q2001.68 290.998 2003.97 290.396 Q2006.29 289.794 2008.55 288.59 L2008.55 292.618 Q2006.26 293.59 2003.86 294.1 Q2001.45 294.609 1998.97 294.609 Q1992.77 294.609 1989.13 290.998 Q1985.52 287.387 1985.52 281.229 Q1985.52 274.864 1988.95 271.137 Q1992.4 267.387 1998.23 267.387 Q2003.46 267.387 2006.49 270.766 Q2009.55 274.123 2009.55 279.91 M2005.29 278.66 Q2005.24 275.165 2003.32 273.081 Q2001.42 270.998 1998.28 270.998 Q1994.71 270.998 1992.56 273.012 Q1990.43 275.026 1990.11 278.683 L2005.29 278.66 Z\" fill=\"#000000\" fill-rule=\"evenodd\" fill-opacity=\"1\" /><path clip-path=\"url(#clip980)\" d=\"M 0 0 M2046.15 280.674 Q2046.15 276.044 2044.23 273.498 Q2042.33 270.952 2038.88 270.952 Q2035.45 270.952 2033.53 273.498 Q2031.63 276.044 2031.63 280.674 Q2031.63 285.28 2033.53 287.826 Q2035.45 290.373 2038.88 290.373 Q2042.33 290.373 2044.23 287.826 Q2046.15 285.28 2046.15 280.674 M2050.41 290.72 Q2050.41 297.34 2047.47 300.558 Q2044.53 303.799 2038.46 303.799 Q2036.22 303.799 2034.23 303.451 Q2032.23 303.127 2030.36 302.433 L2030.36 298.289 Q2032.23 299.308 2034.06 299.794 Q2035.89 300.28 2037.79 300.28 Q2041.98 300.28 2044.06 298.081 Q2046.15 295.905 2046.15 291.484 L2046.15 289.377 Q2044.83 291.669 2042.77 292.803 Q2040.71 293.938 2037.84 293.938 Q2033.07 293.938 2030.15 290.303 Q2027.23 286.669 2027.23 280.674 Q2027.23 274.655 2030.15 271.021 Q2033.07 267.387 2037.84 267.387 Q2040.71 267.387 2042.77 268.521 Q2044.83 269.655 2046.15 271.947 L2046.15 268.012 L2050.41 268.012 L2050.41 290.72 Z\" fill=\"#000000\" fill-rule=\"evenodd\" fill-opacity=\"1\" /><path clip-path=\"url(#clip980)\" d=\"M 0 0 M2064.92 270.998 Q2061.49 270.998 2059.5 273.683 Q2057.51 276.345 2057.51 280.998 Q2057.51 285.651 2059.48 288.336 Q2061.47 290.998 2064.92 290.998 Q2068.32 290.998 2070.31 288.313 Q2072.3 285.627 2072.3 280.998 Q2072.3 276.391 2070.31 273.706 Q2068.32 270.998 2064.92 270.998 M2064.92 267.387 Q2070.48 267.387 2073.65 270.998 Q2076.82 274.609 2076.82 280.998 Q2076.82 287.364 2073.65 290.998 Q2070.48 294.609 2064.92 294.609 Q2059.34 294.609 2056.17 290.998 Q2053.02 287.364 2053.02 280.998 Q2053.02 274.609 2056.17 270.998 Q2059.34 267.387 2064.92 267.387 Z\" fill=\"#000000\" fill-rule=\"evenodd\" fill-opacity=\"1\" /><path clip-path=\"url(#clip980)\" d=\"M 0 0 M2081.42 257.919 L2085.68 257.919 L2085.68 271.854 L2088.58 269.771 L2090.34 272.225 L2085.68 275.489 L2085.68 293.938 L2081.42 293.938 L2081.42 278.521 L2078.58 280.558 L2076.86 278.104 L2081.42 274.84 L2081.42 257.919 Z\" fill=\"#000000\" fill-rule=\"evenodd\" fill-opacity=\"1\" /><path clip-path=\"url(#clip980)\" d=\"M 0 0 M2116.98 279.91 L2116.98 281.993 L2097.4 281.993 Q2097.67 286.391 2100.04 288.706 Q2102.42 290.998 2106.66 290.998 Q2109.11 290.998 2111.4 290.396 Q2113.72 289.794 2115.98 288.59 L2115.98 292.618 Q2113.69 293.59 2111.29 294.1 Q2108.88 294.609 2106.4 294.609 Q2100.2 294.609 2096.56 290.998 Q2092.95 287.387 2092.95 281.229 Q2092.95 274.864 2096.38 271.137 Q2099.83 267.387 2105.66 267.387 Q2110.89 267.387 2113.92 270.766 Q2116.98 274.123 2116.98 279.91 M2112.72 278.66 Q2112.67 275.165 2110.75 273.081 Q2108.85 270.998 2105.71 270.998 Q2102.14 270.998 2099.99 273.012 Q2097.86 275.026 2097.54 278.683 L2112.72 278.66 M2109.23 293.938 L2111.98 293.938 Q2110.94 295.35 2110.43 296.368 Q2109.94 297.387 2109.94 298.104 Q2109.94 299.169 2110.57 299.701 Q2111.22 300.234 2112.47 300.234 Q2113.21 300.234 2113.92 300.049 Q2114.64 299.887 2115.36 299.539 L2115.36 302.618 Q2114.48 302.85 2113.69 302.965 Q2112.91 303.081 2112.21 303.081 Q2109.39 303.081 2108.04 302.063 Q2106.73 301.067 2106.73 298.914 Q2106.73 297.803 2107.33 296.576 Q2107.95 295.373 2109.23 293.938 Z\" fill=\"#000000\" fill-rule=\"evenodd\" fill-opacity=\"1\" /><path clip-path=\"url(#clip980)\" d=\"M 0 0 M2140.06 280.998 Q2140.06 276.299 2138.11 273.637 Q2136.19 270.952 2132.81 270.952 Q2129.43 270.952 2127.49 273.637 Q2125.57 276.299 2125.57 280.998 Q2125.57 285.697 2127.49 288.382 Q2129.43 291.044 2132.81 291.044 Q2136.19 291.044 2138.11 288.382 Q2140.06 285.697 2140.06 280.998 M2125.57 271.947 Q2126.91 269.632 2128.95 268.521 Q2131.01 267.387 2133.85 267.387 Q2138.58 267.387 2141.52 271.137 Q2144.48 274.887 2144.48 280.998 Q2144.48 287.109 2141.52 290.859 Q2138.58 294.609 2133.85 294.609 Q2131.01 294.609 2128.95 293.498 Q2126.91 292.363 2125.57 290.049 L2125.57 293.938 L2121.29 293.938 L2121.29 257.919 L2125.57 257.919 L2125.57 271.947 Z\" fill=\"#000000\" fill-rule=\"evenodd\" fill-opacity=\"1\" /><path clip-path=\"url(#clip980)\" d=\"M 0 0 M2148.95 268.012 L2153.21 268.012 L2153.21 293.938 L2148.95 293.938 L2148.95 268.012 M2148.95 257.919 L2153.21 257.919 L2153.21 263.313 L2148.95 263.313 L2148.95 257.919 Z\" fill=\"#000000\" fill-rule=\"evenodd\" fill-opacity=\"1\" /><path clip-path=\"url(#clip980)\" d=\"M 0 0 M2179.85 279.91 L2179.85 281.993 L2160.27 281.993 Q2160.54 286.391 2162.91 288.706 Q2165.29 290.998 2169.53 290.998 Q2171.98 290.998 2174.27 290.396 Q2176.59 289.794 2178.85 288.59 L2178.85 292.618 Q2176.56 293.59 2174.16 294.1 Q2171.75 294.609 2169.27 294.609 Q2163.07 294.609 2159.43 290.998 Q2155.82 287.387 2155.82 281.229 Q2155.82 274.864 2159.25 271.137 Q2162.7 267.387 2168.53 267.387 Q2173.76 267.387 2176.79 270.766 Q2179.85 274.123 2179.85 279.91 M2175.59 278.66 Q2175.54 275.165 2173.62 273.081 Q2171.72 270.998 2168.58 270.998 Q2165.01 270.998 2162.86 273.012 Q2160.73 275.026 2160.41 278.683 L2175.59 278.66 Z\" fill=\"#000000\" fill-rule=\"evenodd\" fill-opacity=\"1\" /><polyline clip-path=\"url(#clip980)\" style=\"stroke:#c271d2; stroke-width:4; stroke-opacity:1; fill:none\" points=\"\n  1719.35,337.138 1866.92,337.138 \n  \"/>\n<path clip-path=\"url(#clip980)\" d=\"M 0 0 M1912.03 329.487 L1912.03 333.469 Q1910.22 332.473 1908.39 331.987 Q1906.59 331.478 1904.74 331.478 Q1900.59 331.478 1898.3 334.117 Q1896.01 336.732 1896.01 341.478 Q1896.01 346.223 1898.3 348.862 Q1900.59 351.478 1904.74 351.478 Q1906.59 351.478 1908.39 350.992 Q1910.22 350.482 1912.03 349.487 L1912.03 353.422 Q1910.24 354.256 1908.32 354.672 Q1906.43 355.089 1904.27 355.089 Q1898.42 355.089 1894.97 351.408 Q1891.52 347.728 1891.52 341.478 Q1891.52 335.135 1894.99 331.501 Q1898.49 327.867 1904.55 327.867 Q1906.52 327.867 1908.39 328.283 Q1910.27 328.677 1912.03 329.487 Z\" fill=\"#000000\" fill-rule=\"evenodd\" fill-opacity=\"1\" /><path clip-path=\"url(#clip980)\" d=\"M 0 0 M1938.05 338.769 L1938.05 354.418 L1933.79 354.418 L1933.79 338.908 Q1933.79 335.228 1932.35 333.399 Q1930.92 331.57 1928.05 331.57 Q1924.6 331.57 1922.61 333.77 Q1920.62 335.969 1920.62 339.765 L1920.62 354.418 L1916.33 354.418 L1916.33 318.399 L1920.62 318.399 L1920.62 332.52 Q1922.14 330.182 1924.2 329.024 Q1926.29 327.867 1928.99 327.867 Q1933.46 327.867 1935.75 330.645 Q1938.05 333.399 1938.05 338.769 Z\" fill=\"#000000\" fill-rule=\"evenodd\" fill-opacity=\"1\" /><path clip-path=\"url(#clip980)\" d=\"M 0 0 M1952.56 331.478 Q1949.13 331.478 1947.14 334.163 Q1945.15 336.825 1945.15 341.478 Q1945.15 346.131 1947.12 348.816 Q1949.11 351.478 1952.56 351.478 Q1955.96 351.478 1957.95 348.793 Q1959.94 346.107 1959.94 341.478 Q1959.94 336.871 1957.95 334.186 Q1955.96 331.478 1952.56 331.478 M1952.56 327.867 Q1958.11 327.867 1961.29 331.478 Q1964.46 335.089 1964.46 341.478 Q1964.46 347.844 1961.29 351.478 Q1958.11 355.089 1952.56 355.089 Q1946.98 355.089 1943.81 351.478 Q1940.66 347.844 1940.66 341.478 Q1940.66 335.089 1943.81 331.478 Q1946.98 327.867 1952.56 327.867 Z\" fill=\"#000000\" fill-rule=\"evenodd\" fill-opacity=\"1\" /><path clip-path=\"url(#clip980)\" d=\"M 0 0 M1983.95 332.473 Q1983.23 332.057 1982.37 331.871 Q1981.54 331.663 1980.52 331.663 Q1976.91 331.663 1974.97 334.024 Q1973.05 336.362 1973.05 340.76 L1973.05 354.418 L1968.76 354.418 L1968.76 328.492 L1973.05 328.492 L1973.05 332.52 Q1974.39 330.158 1976.54 329.024 Q1978.69 327.867 1981.77 327.867 Q1982.21 327.867 1982.74 327.936 Q1983.28 327.983 1983.92 328.098 L1983.95 332.473 Z\" fill=\"#000000\" fill-rule=\"evenodd\" fill-opacity=\"1\" /><path clip-path=\"url(#clip980)\" d=\"M 0 0 M2009.55 340.39 L2009.55 342.473 L1989.97 342.473 Q1990.24 346.871 1992.61 349.186 Q1994.99 351.478 1999.23 351.478 Q2001.68 351.478 2003.97 350.876 Q2006.29 350.274 2008.55 349.07 L2008.55 353.098 Q2006.26 354.07 2003.86 354.58 Q2001.45 355.089 1998.97 355.089 Q1992.77 355.089 1989.13 351.478 Q1985.52 347.867 1985.52 341.709 Q1985.52 335.344 1988.95 331.617 Q1992.4 327.867 1998.23 327.867 Q2003.46 327.867 2006.49 331.246 Q2009.55 334.603 2009.55 340.39 M2005.29 339.14 Q2005.24 335.645 2003.32 333.561 Q2001.42 331.478 1998.28 331.478 Q1994.71 331.478 1992.56 333.492 Q1990.43 335.506 1990.11 339.163 L2005.29 339.14 Z\" fill=\"#000000\" fill-rule=\"evenodd\" fill-opacity=\"1\" /><path clip-path=\"url(#clip980)\" d=\"M 0 0 M2029.09 328.492 L2033.35 328.492 L2033.35 354.881 Q2033.35 359.834 2031.45 362.056 Q2029.57 364.279 2025.38 364.279 L2023.76 364.279 L2023.76 360.668 L2024.9 360.668 Q2027.33 360.668 2028.21 359.533 Q2029.09 358.422 2029.09 354.881 L2029.09 328.492 M2029.09 318.399 L2033.35 318.399 L2033.35 323.793 L2029.09 323.793 L2029.09 318.399 Z\" fill=\"#000000\" fill-rule=\"evenodd\" fill-opacity=\"1\" /><path clip-path=\"url(#clip980)\" d=\"M 0 0 M2049.6 341.385 Q2044.43 341.385 2042.44 342.566 Q2040.45 343.746 2040.45 346.594 Q2040.45 348.862 2041.93 350.205 Q2043.44 351.524 2046.01 351.524 Q2049.55 351.524 2051.68 349.024 Q2053.83 346.501 2053.83 342.334 L2053.83 341.385 L2049.6 341.385 M2058.09 339.626 L2058.09 354.418 L2053.83 354.418 L2053.83 350.482 Q2052.37 352.843 2050.2 353.978 Q2048.02 355.089 2044.87 355.089 Q2040.89 355.089 2038.53 352.867 Q2036.19 350.621 2036.19 346.871 Q2036.19 342.496 2039.11 340.274 Q2042.05 338.052 2047.86 338.052 L2053.83 338.052 L2053.83 337.635 Q2053.83 334.695 2051.89 333.098 Q2049.97 331.478 2046.47 331.478 Q2044.25 331.478 2042.14 332.01 Q2040.04 332.543 2038.09 333.607 L2038.09 329.672 Q2040.43 328.77 2042.63 328.33 Q2044.83 327.867 2046.91 327.867 Q2052.54 327.867 2055.31 330.783 Q2058.09 333.7 2058.09 339.626 Z\" fill=\"#000000\" fill-rule=\"evenodd\" fill-opacity=\"1\" /><path clip-path=\"url(#clip980)\" d=\"M 0 0 M2079.09 329.256 L2079.09 333.283 Q2077.28 332.357 2075.34 331.895 Q2073.39 331.432 2071.31 331.432 Q2068.14 331.432 2066.54 332.404 Q2064.97 333.376 2064.97 335.32 Q2064.97 336.802 2066.1 337.658 Q2067.23 338.492 2070.66 339.256 L2072.12 339.58 Q2076.66 340.552 2078.55 342.334 Q2080.48 344.094 2080.48 347.265 Q2080.48 350.876 2077.6 352.982 Q2074.76 355.089 2069.76 355.089 Q2067.67 355.089 2065.41 354.672 Q2063.16 354.279 2060.66 353.468 L2060.66 349.07 Q2063.02 350.297 2065.31 350.922 Q2067.61 351.524 2069.85 351.524 Q2072.86 351.524 2074.48 350.506 Q2076.1 349.464 2076.1 347.589 Q2076.1 345.853 2074.92 344.927 Q2073.76 344.001 2069.8 343.144 L2068.32 342.797 Q2064.36 341.964 2062.61 340.251 Q2060.85 338.515 2060.85 335.506 Q2060.85 331.848 2063.44 329.858 Q2066.03 327.867 2070.8 327.867 Q2073.16 327.867 2075.24 328.214 Q2077.33 328.561 2079.09 329.256 Z\" fill=\"#000000\" fill-rule=\"evenodd\" fill-opacity=\"1\" /><path clip-path=\"url(#clip980)\" d=\"M 0 0 M2089.16 321.131 L2089.16 328.492 L2097.93 328.492 L2097.93 331.802 L2089.16 331.802 L2089.16 345.876 Q2089.16 349.047 2090.01 349.95 Q2090.89 350.853 2093.55 350.853 L2097.93 350.853 L2097.93 354.418 L2093.55 354.418 Q2088.62 354.418 2086.75 352.589 Q2084.87 350.737 2084.87 345.876 L2084.87 331.802 L2081.75 331.802 L2081.75 328.492 L2084.87 328.492 L2084.87 321.131 L2089.16 321.131 Z\" fill=\"#000000\" fill-rule=\"evenodd\" fill-opacity=\"1\" /><path clip-path=\"url(#clip980)\" d=\"M 0 0 M2117.42 332.473 Q2116.7 332.057 2115.85 331.871 Q2115.01 331.663 2113.99 331.663 Q2110.38 331.663 2108.44 334.024 Q2106.52 336.362 2106.52 340.76 L2106.52 354.418 L2102.23 354.418 L2102.23 328.492 L2106.52 328.492 L2106.52 332.52 Q2107.86 330.158 2110.01 329.024 Q2112.16 327.867 2115.24 327.867 Q2115.68 327.867 2116.22 327.936 Q2116.75 327.983 2117.4 328.098 L2117.42 332.473 Z\" fill=\"#000000\" fill-rule=\"evenodd\" fill-opacity=\"1\" /><path clip-path=\"url(#clip980)\" d=\"M 0 0 M2120.04 328.492 L2140.27 328.492 L2140.27 332.381 L2124.25 351.015 L2140.27 351.015 L2140.27 354.418 L2119.46 354.418 L2119.46 350.529 L2135.48 331.895 L2120.04 331.895 L2120.04 328.492 Z\" fill=\"#000000\" fill-rule=\"evenodd\" fill-opacity=\"1\" /><path clip-path=\"url(#clip980)\" d=\"M 0 0 M2166.91 340.39 L2166.91 342.473 L2147.33 342.473 Q2147.6 346.871 2149.97 349.186 Q2152.35 351.478 2156.59 351.478 Q2159.04 351.478 2161.33 350.876 Q2163.65 350.274 2165.91 349.07 L2165.91 353.098 Q2163.62 354.07 2161.22 354.58 Q2158.81 355.089 2156.33 355.089 Q2150.13 355.089 2146.49 351.478 Q2142.88 347.867 2142.88 341.709 Q2142.88 335.344 2146.31 331.617 Q2149.76 327.867 2155.59 327.867 Q2160.82 327.867 2163.85 331.246 Q2166.91 334.603 2166.91 340.39 M2162.65 339.14 Q2162.6 335.645 2160.68 333.561 Q2158.79 331.478 2155.64 331.478 Q2152.07 331.478 2149.92 333.492 Q2147.79 335.506 2147.47 339.163 L2162.65 339.14 M2159.16 354.418 L2161.91 354.418 Q2160.87 355.83 2160.36 356.848 Q2159.87 357.867 2159.87 358.584 Q2159.87 359.649 2160.5 360.181 Q2161.15 360.714 2162.4 360.714 Q2163.14 360.714 2163.85 360.529 Q2164.57 360.367 2165.29 360.019 L2165.29 363.098 Q2164.41 363.33 2163.62 363.445 Q2162.84 363.561 2162.14 363.561 Q2159.32 363.561 2157.97 362.543 Q2156.66 361.547 2156.66 359.394 Q2156.66 358.283 2157.26 357.056 Q2157.88 355.853 2159.16 354.418 Z\" fill=\"#000000\" fill-rule=\"evenodd\" fill-opacity=\"1\" /><path clip-path=\"url(#clip980)\" d=\"M 0 0 M2189.99 341.478 Q2189.99 336.779 2188.04 334.117 Q2186.12 331.432 2182.74 331.432 Q2179.36 331.432 2177.42 334.117 Q2175.5 336.779 2175.5 341.478 Q2175.5 346.177 2177.42 348.862 Q2179.36 351.524 2182.74 351.524 Q2186.12 351.524 2188.04 348.862 Q2189.99 346.177 2189.99 341.478 M2175.5 332.427 Q2176.84 330.112 2178.88 329.001 Q2180.94 327.867 2183.78 327.867 Q2188.51 327.867 2191.45 331.617 Q2194.41 335.367 2194.41 341.478 Q2194.41 347.589 2191.45 351.339 Q2188.51 355.089 2183.78 355.089 Q2180.94 355.089 2178.88 353.978 Q2176.84 352.843 2175.5 350.529 L2175.5 354.418 L2171.22 354.418 L2171.22 318.399 L2175.5 318.399 L2175.5 332.427 Z\" fill=\"#000000\" fill-rule=\"evenodd\" fill-opacity=\"1\" /><path clip-path=\"url(#clip980)\" d=\"M 0 0 M2198.88 328.492 L2203.14 328.492 L2203.14 354.418 L2198.88 354.418 L2198.88 328.492 M2198.88 318.399 L2203.14 318.399 L2203.14 323.793 L2198.88 323.793 L2198.88 318.399 Z\" fill=\"#000000\" fill-rule=\"evenodd\" fill-opacity=\"1\" /><path clip-path=\"url(#clip980)\" d=\"M 0 0 M2229.78 340.39 L2229.78 342.473 L2210.2 342.473 Q2210.47 346.871 2212.84 349.186 Q2215.22 351.478 2219.46 351.478 Q2221.91 351.478 2224.2 350.876 Q2226.52 350.274 2228.78 349.07 L2228.78 353.098 Q2226.49 354.07 2224.09 354.58 Q2221.68 355.089 2219.2 355.089 Q2213 355.089 2209.36 351.478 Q2205.75 347.867 2205.75 341.709 Q2205.75 335.344 2209.18 331.617 Q2212.63 327.867 2218.46 327.867 Q2223.69 327.867 2226.72 331.246 Q2229.78 334.603 2229.78 340.39 M2225.52 339.14 Q2225.47 335.645 2223.55 333.561 Q2221.66 331.478 2218.51 331.478 Q2214.94 331.478 2212.79 333.492 Q2210.66 335.506 2210.34 339.163 L2225.52 339.14 Z\" fill=\"#000000\" fill-rule=\"evenodd\" fill-opacity=\"1\" /></svg>\n"
     },
     "metadata": {},
     "execution_count": 60
    }
   ],
   "source": [
    "plot(1:size(dying)[1], dying[:,1], label=\"gołębie\")\n",
    "plot!(1:size(dying)[1], dying[:,2], label=\"jastrzębie\")\n",
    "plot!(1:size(dying)[1], dying[:,3], label=\"chore gołębie\")\n",
    "plot!(1:size(dying)[1], dying[:,4], label=\"chore jastrzębie\")"
   ]
  },
  {
   "cell_type": "code",
   "execution_count": 61,
   "metadata": {},
   "outputs": [
    {
     "output_type": "execute_result",
     "data": {
      "image/svg+xml": "<?xml version=\"1.0\" encoding=\"utf-8\"?>\n<svg xmlns=\"http://www.w3.org/2000/svg\" xmlns:xlink=\"http://www.w3.org/1999/xlink\" width=\"600\" height=\"400\" viewBox=\"0 0 2400 1600\">\n<defs>\n  <clipPath id=\"clip020\">\n    <rect x=\"0\" y=\"0\" width=\"2400\" height=\"1600\"/>\n  </clipPath>\n</defs>\n<path clip-path=\"url(#clip020)\" d=\"\nM0 1600 L2400 1600 L2400 0 L0 0  Z\n  \" fill=\"#ffffff\" fill-rule=\"evenodd\" fill-opacity=\"1\"/>\n<defs>\n  <clipPath id=\"clip021\">\n    <rect x=\"480\" y=\"0\" width=\"1681\" height=\"1600\"/>\n  </clipPath>\n</defs>\n<path clip-path=\"url(#clip020)\" d=\"\nM139.191 1486.45 L2352.76 1486.45 L2352.76 47.2441 L139.191 47.2441  Z\n  \" fill=\"#ffffff\" fill-rule=\"evenodd\" fill-opacity=\"1\"/>\n<defs>\n  <clipPath id=\"clip022\">\n    <rect x=\"139\" y=\"47\" width=\"2215\" height=\"1440\"/>\n  </clipPath>\n</defs>\n<polyline clip-path=\"url(#clip022)\" style=\"stroke:#000000; stroke-width:2; stroke-opacity:0.1; fill:none\" points=\"\n  500.163,1486.45 500.163,47.2441 \n  \"/>\n<polyline clip-path=\"url(#clip022)\" style=\"stroke:#000000; stroke-width:2; stroke-opacity:0.1; fill:none\" points=\"\n  873.068,1486.45 873.068,47.2441 \n  \"/>\n<polyline clip-path=\"url(#clip022)\" style=\"stroke:#000000; stroke-width:2; stroke-opacity:0.1; fill:none\" points=\"\n  1245.97,1486.45 1245.97,47.2441 \n  \"/>\n<polyline clip-path=\"url(#clip022)\" style=\"stroke:#000000; stroke-width:2; stroke-opacity:0.1; fill:none\" points=\"\n  1618.88,1486.45 1618.88,47.2441 \n  \"/>\n<polyline clip-path=\"url(#clip022)\" style=\"stroke:#000000; stroke-width:2; stroke-opacity:0.1; fill:none\" points=\"\n  1991.78,1486.45 1991.78,47.2441 \n  \"/>\n<polyline clip-path=\"url(#clip020)\" style=\"stroke:#000000; stroke-width:4; stroke-opacity:1; fill:none\" points=\"\n  139.191,1486.45 2352.76,1486.45 \n  \"/>\n<polyline clip-path=\"url(#clip020)\" style=\"stroke:#000000; stroke-width:4; stroke-opacity:1; fill:none\" points=\"\n  500.163,1486.45 500.163,1469.18 \n  \"/>\n<polyline clip-path=\"url(#clip020)\" style=\"stroke:#000000; stroke-width:4; stroke-opacity:1; fill:none\" points=\"\n  873.068,1486.45 873.068,1469.18 \n  \"/>\n<polyline clip-path=\"url(#clip020)\" style=\"stroke:#000000; stroke-width:4; stroke-opacity:1; fill:none\" points=\"\n  1245.97,1486.45 1245.97,1469.18 \n  \"/>\n<polyline clip-path=\"url(#clip020)\" style=\"stroke:#000000; stroke-width:4; stroke-opacity:1; fill:none\" points=\"\n  1618.88,1486.45 1618.88,1469.18 \n  \"/>\n<polyline clip-path=\"url(#clip020)\" style=\"stroke:#000000; stroke-width:4; stroke-opacity:1; fill:none\" points=\"\n  1991.78,1486.45 1991.78,1469.18 \n  \"/>\n<path clip-path=\"url(#clip020)\" d=\"M 0 0 M490.441 1512.56 L508.797 1512.56 L508.797 1516.5 L494.723 1516.5 L494.723 1524.97 Q495.742 1524.62 496.76 1524.46 Q497.779 1524.27 498.797 1524.27 Q504.584 1524.27 507.964 1527.44 Q511.344 1530.62 511.344 1536.03 Q511.344 1541.61 507.871 1544.71 Q504.399 1547.79 498.08 1547.79 Q495.904 1547.79 493.635 1547.42 Q491.39 1547.05 488.983 1546.31 L488.983 1541.61 Q491.066 1542.74 493.288 1543.3 Q495.51 1543.86 497.987 1543.86 Q501.992 1543.86 504.33 1541.75 Q506.668 1539.64 506.668 1536.03 Q506.668 1532.42 504.33 1530.31 Q501.992 1528.21 497.987 1528.21 Q496.112 1528.21 494.237 1528.62 Q492.385 1529.04 490.441 1529.92 L490.441 1512.56 Z\" fill=\"#000000\" fill-rule=\"evenodd\" fill-opacity=\"1\" /><path clip-path=\"url(#clip020)\" d=\"M 0 0 M849.943 1543.18 L857.582 1543.18 L857.582 1516.82 L849.272 1518.49 L849.272 1514.23 L857.536 1512.56 L862.212 1512.56 L862.212 1543.18 L869.851 1543.18 L869.851 1547.12 L849.943 1547.12 L849.943 1543.18 Z\" fill=\"#000000\" fill-rule=\"evenodd\" fill-opacity=\"1\" /><path clip-path=\"url(#clip020)\" d=\"M 0 0 M884.92 1515.64 Q881.309 1515.64 879.48 1519.2 Q877.675 1522.75 877.675 1529.87 Q877.675 1536.98 879.48 1540.55 Q881.309 1544.09 884.92 1544.09 Q888.554 1544.09 890.36 1540.55 Q892.189 1536.98 892.189 1529.87 Q892.189 1522.75 890.36 1519.2 Q888.554 1515.64 884.92 1515.64 M884.92 1511.93 Q890.73 1511.93 893.786 1516.54 Q896.864 1521.12 896.864 1529.87 Q896.864 1538.6 893.786 1543.21 Q890.73 1547.79 884.92 1547.79 Q879.11 1547.79 876.031 1543.21 Q872.976 1538.6 872.976 1529.87 Q872.976 1521.12 876.031 1516.54 Q879.11 1511.93 884.92 1511.93 Z\" fill=\"#000000\" fill-rule=\"evenodd\" fill-opacity=\"1\" /><path clip-path=\"url(#clip020)\" d=\"M 0 0 M1223.35 1543.18 L1230.99 1543.18 L1230.99 1516.82 L1222.67 1518.49 L1222.67 1514.23 L1230.94 1512.56 L1235.61 1512.56 L1235.61 1543.18 L1243.25 1543.18 L1243.25 1547.12 L1223.35 1547.12 L1223.35 1543.18 Z\" fill=\"#000000\" fill-rule=\"evenodd\" fill-opacity=\"1\" /><path clip-path=\"url(#clip020)\" d=\"M 0 0 M1248.37 1512.56 L1266.73 1512.56 L1266.73 1516.5 L1252.65 1516.5 L1252.65 1524.97 Q1253.67 1524.62 1254.69 1524.46 Q1255.71 1524.27 1256.73 1524.27 Q1262.51 1524.27 1265.89 1527.44 Q1269.27 1530.62 1269.27 1536.03 Q1269.27 1541.61 1265.8 1544.71 Q1262.33 1547.79 1256.01 1547.79 Q1253.83 1547.79 1251.56 1547.42 Q1249.32 1547.05 1246.91 1546.31 L1246.91 1541.61 Q1248.99 1542.74 1251.22 1543.3 Q1253.44 1543.86 1255.92 1543.86 Q1259.92 1543.86 1262.26 1541.75 Q1264.6 1539.64 1264.6 1536.03 Q1264.6 1532.42 1262.26 1530.31 Q1259.92 1528.21 1255.92 1528.21 Q1254.04 1528.21 1252.17 1528.62 Q1250.31 1529.04 1248.37 1529.92 L1248.37 1512.56 Z\" fill=\"#000000\" fill-rule=\"evenodd\" fill-opacity=\"1\" /><path clip-path=\"url(#clip020)\" d=\"M 0 0 M1600.02 1543.18 L1616.34 1543.18 L1616.34 1547.12 L1594.4 1547.12 L1594.4 1543.18 Q1597.06 1540.43 1601.64 1535.8 Q1606.25 1531.15 1607.43 1529.81 Q1609.68 1527.28 1610.56 1525.55 Q1611.46 1523.79 1611.46 1522.1 Q1611.46 1519.34 1609.52 1517.61 Q1607.59 1515.87 1604.49 1515.87 Q1602.29 1515.87 1599.84 1516.63 Q1597.41 1517.4 1594.63 1518.95 L1594.63 1514.23 Q1597.46 1513.09 1599.91 1512.51 Q1602.36 1511.93 1604.4 1511.93 Q1609.77 1511.93 1612.96 1514.62 Q1616.16 1517.31 1616.16 1521.8 Q1616.16 1523.93 1615.35 1525.85 Q1614.56 1527.74 1612.45 1530.34 Q1611.88 1531.01 1608.77 1534.23 Q1605.67 1537.42 1600.02 1543.18 Z\" fill=\"#000000\" fill-rule=\"evenodd\" fill-opacity=\"1\" /><path clip-path=\"url(#clip020)\" d=\"M 0 0 M1631.41 1515.64 Q1627.8 1515.64 1625.97 1519.2 Q1624.17 1522.75 1624.17 1529.87 Q1624.17 1536.98 1625.97 1540.55 Q1627.8 1544.09 1631.41 1544.09 Q1635.05 1544.09 1636.85 1540.55 Q1638.68 1536.98 1638.68 1529.87 Q1638.68 1522.75 1636.85 1519.2 Q1635.05 1515.64 1631.41 1515.64 M1631.41 1511.93 Q1637.22 1511.93 1640.28 1516.54 Q1643.36 1521.12 1643.36 1529.87 Q1643.36 1538.6 1640.28 1543.21 Q1637.22 1547.79 1631.41 1547.79 Q1625.6 1547.79 1622.52 1543.21 Q1619.47 1538.6 1619.47 1529.87 Q1619.47 1521.12 1622.52 1516.54 Q1625.6 1511.93 1631.41 1511.93 Z\" fill=\"#000000\" fill-rule=\"evenodd\" fill-opacity=\"1\" /><path clip-path=\"url(#clip020)\" d=\"M 0 0 M1973.43 1543.18 L1989.75 1543.18 L1989.75 1547.12 L1967.8 1547.12 L1967.8 1543.18 Q1970.46 1540.43 1975.05 1535.8 Q1979.65 1531.15 1980.83 1529.81 Q1983.08 1527.28 1983.96 1525.55 Q1984.86 1523.79 1984.86 1522.1 Q1984.86 1519.34 1982.92 1517.61 Q1981 1515.87 1977.89 1515.87 Q1975.7 1515.87 1973.24 1516.63 Q1970.81 1517.4 1968.03 1518.95 L1968.03 1514.23 Q1970.86 1513.09 1973.31 1512.51 Q1975.77 1511.93 1977.8 1511.93 Q1983.17 1511.93 1986.37 1514.62 Q1989.56 1517.31 1989.56 1521.8 Q1989.56 1523.93 1988.75 1525.85 Q1987.96 1527.74 1985.86 1530.34 Q1985.28 1531.01 1982.18 1534.23 Q1979.08 1537.42 1973.43 1543.18 Z\" fill=\"#000000\" fill-rule=\"evenodd\" fill-opacity=\"1\" /><path clip-path=\"url(#clip020)\" d=\"M 0 0 M1994.86 1512.56 L2013.22 1512.56 L2013.22 1516.5 L1999.14 1516.5 L1999.14 1524.97 Q2000.16 1524.62 2001.18 1524.46 Q2002.2 1524.27 2003.22 1524.27 Q2009.01 1524.27 2012.39 1527.44 Q2015.77 1530.62 2015.77 1536.03 Q2015.77 1541.61 2012.29 1544.71 Q2008.82 1547.79 2002.5 1547.79 Q2000.33 1547.79 1998.06 1547.42 Q1995.81 1547.05 1993.4 1546.31 L1993.4 1541.61 Q1995.49 1542.74 1997.71 1543.3 Q1999.93 1543.86 2002.41 1543.86 Q2006.41 1543.86 2008.75 1541.75 Q2011.09 1539.64 2011.09 1536.03 Q2011.09 1532.42 2008.75 1530.31 Q2006.41 1528.21 2002.41 1528.21 Q2000.53 1528.21 1998.66 1528.62 Q1996.81 1529.04 1994.86 1529.92 L1994.86 1512.56 Z\" fill=\"#000000\" fill-rule=\"evenodd\" fill-opacity=\"1\" /><polyline clip-path=\"url(#clip022)\" style=\"stroke:#000000; stroke-width:2; stroke-opacity:0.1; fill:none\" points=\"\n  139.191,1445.72 2352.76,1445.72 \n  \"/>\n<polyline clip-path=\"url(#clip022)\" style=\"stroke:#000000; stroke-width:2; stroke-opacity:0.1; fill:none\" points=\"\n  139.191,1153.73 2352.76,1153.73 \n  \"/>\n<polyline clip-path=\"url(#clip022)\" style=\"stroke:#000000; stroke-width:2; stroke-opacity:0.1; fill:none\" points=\"\n  139.191,861.742 2352.76,861.742 \n  \"/>\n<polyline clip-path=\"url(#clip022)\" style=\"stroke:#000000; stroke-width:2; stroke-opacity:0.1; fill:none\" points=\"\n  139.191,569.755 2352.76,569.755 \n  \"/>\n<polyline clip-path=\"url(#clip022)\" style=\"stroke:#000000; stroke-width:2; stroke-opacity:0.1; fill:none\" points=\"\n  139.191,277.768 2352.76,277.768 \n  \"/>\n<polyline clip-path=\"url(#clip020)\" style=\"stroke:#000000; stroke-width:4; stroke-opacity:1; fill:none\" points=\"\n  139.191,1486.45 139.191,47.2441 \n  \"/>\n<polyline clip-path=\"url(#clip020)\" style=\"stroke:#000000; stroke-width:4; stroke-opacity:1; fill:none\" points=\"\n  139.191,1445.72 165.754,1445.72 \n  \"/>\n<polyline clip-path=\"url(#clip020)\" style=\"stroke:#000000; stroke-width:4; stroke-opacity:1; fill:none\" points=\"\n  139.191,1153.73 165.754,1153.73 \n  \"/>\n<polyline clip-path=\"url(#clip020)\" style=\"stroke:#000000; stroke-width:4; stroke-opacity:1; fill:none\" points=\"\n  139.191,861.742 165.754,861.742 \n  \"/>\n<polyline clip-path=\"url(#clip020)\" style=\"stroke:#000000; stroke-width:4; stroke-opacity:1; fill:none\" points=\"\n  139.191,569.755 165.754,569.755 \n  \"/>\n<polyline clip-path=\"url(#clip020)\" style=\"stroke:#000000; stroke-width:4; stroke-opacity:1; fill:none\" points=\"\n  139.191,277.768 165.754,277.768 \n  \"/>\n<path clip-path=\"url(#clip020)\" d=\"M 0 0 M91.2465 1431.51 Q87.6354 1431.51 85.8068 1435.08 Q84.0012 1438.62 84.0012 1445.75 Q84.0012 1452.86 85.8068 1456.42 Q87.6354 1459.96 91.2465 1459.96 Q94.8808 1459.96 96.6863 1456.42 Q98.515 1452.86 98.515 1445.75 Q98.515 1438.62 96.6863 1435.08 Q94.8808 1431.51 91.2465 1431.51 M91.2465 1427.81 Q97.0567 1427.81 100.112 1432.42 Q103.191 1437 103.191 1445.75 Q103.191 1454.48 100.112 1459.08 Q97.0567 1463.67 91.2465 1463.67 Q85.4364 1463.67 82.3577 1459.08 Q79.3022 1454.48 79.3022 1445.75 Q79.3022 1437 82.3577 1432.42 Q85.4364 1427.81 91.2465 1427.81 Z\" fill=\"#000000\" fill-rule=\"evenodd\" fill-opacity=\"1\" /><path clip-path=\"url(#clip020)\" d=\"M 0 0 M59.8578 1167.07 L76.1772 1167.07 L76.1772 1171.01 L54.2328 1171.01 L54.2328 1167.07 Q56.8949 1164.32 61.4782 1159.69 Q66.0846 1155.04 67.2652 1153.69 Q69.5105 1151.17 70.3902 1149.43 Q71.2929 1147.68 71.2929 1145.99 Q71.2929 1143.23 69.3485 1141.49 Q67.4272 1139.76 64.3254 1139.76 Q62.1263 1139.76 59.6726 1140.52 Q57.2421 1141.29 54.4643 1142.84 L54.4643 1138.12 Q57.2884 1136.98 59.7421 1136.4 Q62.1958 1135.82 64.2328 1135.82 Q69.6031 1135.82 72.7976 1138.51 Q75.992 1141.19 75.992 1145.68 Q75.992 1147.81 75.1818 1149.74 Q74.3948 1151.63 72.2883 1154.23 Q71.7096 1154.9 68.6078 1158.12 Q65.5059 1161.31 59.8578 1167.07 Z\" fill=\"#000000\" fill-rule=\"evenodd\" fill-opacity=\"1\" /><path clip-path=\"url(#clip020)\" d=\"M 0 0 M91.2465 1139.53 Q87.6354 1139.53 85.8068 1143.09 Q84.0012 1146.63 84.0012 1153.76 Q84.0012 1160.87 85.8068 1164.43 Q87.6354 1167.98 91.2465 1167.98 Q94.8808 1167.98 96.6863 1164.43 Q98.515 1160.87 98.515 1153.76 Q98.515 1146.63 96.6863 1143.09 Q94.8808 1139.53 91.2465 1139.53 M91.2465 1135.82 Q97.0567 1135.82 100.112 1140.43 Q103.191 1145.01 103.191 1153.76 Q103.191 1162.49 100.112 1167.1 Q97.0567 1171.68 91.2465 1171.68 Q85.4364 1171.68 82.3577 1167.1 Q79.3022 1162.49 79.3022 1153.76 Q79.3022 1145.01 82.3577 1140.43 Q85.4364 1135.82 91.2465 1135.82 Z\" fill=\"#000000\" fill-rule=\"evenodd\" fill-opacity=\"1\" /><path clip-path=\"url(#clip020)\" d=\"M 0 0 M66.5939 848.536 L54.7884 866.985 L66.5939 866.985 L66.5939 848.536 M65.367 844.462 L71.2466 844.462 L71.2466 866.985 L76.1772 866.985 L76.1772 870.874 L71.2466 870.874 L71.2466 879.022 L66.5939 879.022 L66.5939 870.874 L50.9921 870.874 L50.9921 866.36 L65.367 844.462 Z\" fill=\"#000000\" fill-rule=\"evenodd\" fill-opacity=\"1\" /><path clip-path=\"url(#clip020)\" d=\"M 0 0 M91.2465 847.54 Q87.6354 847.54 85.8068 851.105 Q84.0012 854.647 84.0012 861.776 Q84.0012 868.883 85.8068 872.448 Q87.6354 875.989 91.2465 875.989 Q94.8808 875.989 96.6863 872.448 Q98.515 868.883 98.515 861.776 Q98.515 854.647 96.6863 851.105 Q94.8808 847.54 91.2465 847.54 M91.2465 843.837 Q97.0567 843.837 100.112 848.443 Q103.191 853.027 103.191 861.776 Q103.191 870.503 100.112 875.11 Q97.0567 879.693 91.2465 879.693 Q85.4364 879.693 82.3577 875.11 Q79.3022 870.503 79.3022 861.776 Q79.3022 853.027 82.3577 848.443 Q85.4364 843.837 91.2465 843.837 Z\" fill=\"#000000\" fill-rule=\"evenodd\" fill-opacity=\"1\" /><path clip-path=\"url(#clip020)\" d=\"M 0 0 M64.6495 567.891 Q61.5013 567.891 59.6495 570.044 Q57.8208 572.197 57.8208 575.947 Q57.8208 579.674 59.6495 581.85 Q61.5013 584.002 64.6495 584.002 Q67.7976 584.002 69.6263 581.85 Q71.4781 579.674 71.4781 575.947 Q71.4781 572.197 69.6263 570.044 Q67.7976 567.891 64.6495 567.891 M73.9318 553.239 L73.9318 557.498 Q72.1726 556.665 70.367 556.225 Q68.5846 555.785 66.8254 555.785 Q62.1958 555.785 59.7421 558.91 Q57.3115 562.035 56.9643 568.354 Q58.33 566.34 60.3902 565.276 Q62.4504 564.188 64.9272 564.188 Q70.1355 564.188 73.1448 567.359 Q76.1772 570.507 76.1772 575.947 Q76.1772 581.271 73.029 584.488 Q69.8809 587.706 64.6495 587.706 Q58.6541 587.706 55.4828 583.123 Q52.3116 578.516 52.3116 569.79 Q52.3116 561.595 56.2004 556.734 Q60.0893 551.85 66.6402 551.85 Q68.3994 551.85 70.1818 552.197 Q71.9874 552.544 73.9318 553.239 Z\" fill=\"#000000\" fill-rule=\"evenodd\" fill-opacity=\"1\" /><path clip-path=\"url(#clip020)\" d=\"M 0 0 M91.2465 555.553 Q87.6354 555.553 85.8068 559.118 Q84.0012 562.66 84.0012 569.79 Q84.0012 576.896 85.8068 580.461 Q87.6354 584.002 91.2465 584.002 Q94.8808 584.002 96.6863 580.461 Q98.515 576.896 98.515 569.79 Q98.515 562.66 96.6863 559.118 Q94.8808 555.553 91.2465 555.553 M91.2465 551.85 Q97.0567 551.85 100.112 556.456 Q103.191 561.04 103.191 569.79 Q103.191 578.516 100.112 583.123 Q97.0567 587.706 91.2465 587.706 Q85.4364 587.706 82.3577 583.123 Q79.3022 578.516 79.3022 569.79 Q79.3022 561.04 82.3577 556.456 Q85.4364 551.85 91.2465 551.85 Z\" fill=\"#000000\" fill-rule=\"evenodd\" fill-opacity=\"1\" /><path clip-path=\"url(#clip020)\" d=\"M 0 0 M64.3254 278.636 Q60.9921 278.636 59.0708 280.418 Q57.1726 282.201 57.1726 285.326 Q57.1726 288.451 59.0708 290.233 Q60.9921 292.015 64.3254 292.015 Q67.6587 292.015 69.58 290.233 Q71.5013 288.427 71.5013 285.326 Q71.5013 282.201 69.58 280.418 Q67.6819 278.636 64.3254 278.636 M59.6495 276.645 Q56.6402 275.904 54.9504 273.844 Q53.2838 271.784 53.2838 268.821 Q53.2838 264.678 56.2236 262.27 Q59.1865 259.863 64.3254 259.863 Q69.4874 259.863 72.4272 262.27 Q75.367 264.678 75.367 268.821 Q75.367 271.784 73.6772 273.844 Q72.0105 275.904 69.0244 276.645 Q72.404 277.432 74.279 279.724 Q76.1772 282.015 76.1772 285.326 Q76.1772 290.349 73.0985 293.034 Q70.0429 295.719 64.3254 295.719 Q58.6078 295.719 55.5291 293.034 Q52.4736 290.349 52.4736 285.326 Q52.4736 282.015 54.3717 279.724 Q56.2699 277.432 59.6495 276.645 M57.9365 269.261 Q57.9365 271.946 59.6032 273.451 Q61.293 274.955 64.3254 274.955 Q67.3346 274.955 69.0244 273.451 Q70.7374 271.946 70.7374 269.261 Q70.7374 266.576 69.0244 265.071 Q67.3346 263.566 64.3254 263.566 Q61.293 263.566 59.6032 265.071 Q57.9365 266.576 57.9365 269.261 Z\" fill=\"#000000\" fill-rule=\"evenodd\" fill-opacity=\"1\" /><path clip-path=\"url(#clip020)\" d=\"M 0 0 M91.2465 263.566 Q87.6354 263.566 85.8068 267.131 Q84.0012 270.673 84.0012 277.803 Q84.0012 284.909 85.8068 288.474 Q87.6354 292.015 91.2465 292.015 Q94.8808 292.015 96.6863 288.474 Q98.515 284.909 98.515 277.803 Q98.515 270.673 96.6863 267.131 Q94.8808 263.566 91.2465 263.566 M91.2465 259.863 Q97.0567 259.863 100.112 264.469 Q103.191 269.053 103.191 277.803 Q103.191 286.529 100.112 291.136 Q97.0567 295.719 91.2465 295.719 Q85.4364 295.719 82.3577 291.136 Q79.3022 286.529 79.3022 277.803 Q79.3022 269.053 82.3577 264.469 Q85.4364 259.863 91.2465 259.863 Z\" fill=\"#000000\" fill-rule=\"evenodd\" fill-opacity=\"1\" /><polyline clip-path=\"url(#clip022)\" style=\"stroke:#009af9; stroke-width:4; stroke-opacity:1; fill:none\" points=\"\n  201.839,861.742 276.42,1255.92 351.001,1372.72 425.582,1387.32 500.163,1416.52 574.744,1431.12 649.325,1416.52 723.906,1416.52 798.487,1416.52 873.068,1416.52 \n  947.649,1416.52 1022.23,1416.52 1096.81,1445.72 1171.39,1445.72 1245.97,1445.72 1320.55,1445.72 1395.14,1445.72 1469.72,1445.72 1544.3,1445.72 1618.88,1445.72 \n  1693.46,1445.72 1768.04,1445.72 1842.62,1445.72 1917.2,1445.72 1991.78,1445.72 2066.36,1445.72 2140.95,1445.72 2215.53,1445.72 2290.11,1445.72 \n  \"/>\n<polyline clip-path=\"url(#clip022)\" style=\"stroke:#e26f46; stroke-width:4; stroke-opacity:1; fill:none\" points=\"\n  201.839,87.9763 276.42,584.354 351.001,1036.93 425.582,1255.92 500.163,1299.72 574.744,1314.32 649.325,1328.92 723.906,1328.92 798.487,1299.72 873.068,1328.92 \n  947.649,1328.92 1022.23,1372.72 1096.81,1387.32 1171.39,1358.12 1245.97,1328.92 1320.55,1328.92 1395.14,1328.92 1469.72,1328.92 1544.3,1270.52 1618.88,1270.52 \n  1693.46,1358.12 1768.04,1372.72 1842.62,1358.12 1917.2,1358.12 1991.78,1387.32 2066.36,1358.12 2140.95,1416.52 2215.53,1416.52 2290.11,1445.72 \n  \"/>\n<path clip-path=\"url(#clip020)\" d=\"\nM1827 276.658 L2278.97 276.658 L2278.97 95.2176 L1827 95.2176  Z\n  \" fill=\"#ffffff\" fill-rule=\"evenodd\" fill-opacity=\"1\"/>\n<polyline clip-path=\"url(#clip020)\" style=\"stroke:#000000; stroke-width:4; stroke-opacity:1; fill:none\" points=\"\n  1827,276.658 2278.97,276.658 2278.97,95.2176 1827,95.2176 1827,276.658 \n  \"/>\n<polyline clip-path=\"url(#clip020)\" style=\"stroke:#009af9; stroke-width:4; stroke-opacity:1; fill:none\" points=\"\n  1851.6,155.698 1999.17,155.698 \n  \"/>\n<path clip-path=\"url(#clip020)\" d=\"M 0 0 M2042.67 159.714 Q2042.67 155.084 2040.75 152.538 Q2038.86 149.992 2035.41 149.992 Q2031.98 149.992 2030.06 152.538 Q2028.16 155.084 2028.16 159.714 Q2028.16 164.32 2030.06 166.866 Q2031.98 169.413 2035.41 169.413 Q2038.86 169.413 2040.75 166.866 Q2042.67 164.32 2042.67 159.714 M2046.93 169.76 Q2046.93 176.38 2043.99 179.598 Q2041.05 182.839 2034.99 182.839 Q2032.74 182.839 2030.75 182.491 Q2028.76 182.167 2026.89 181.473 L2026.89 177.329 Q2028.76 178.348 2030.59 178.834 Q2032.42 179.32 2034.32 179.32 Q2038.51 179.32 2040.59 177.121 Q2042.67 174.945 2042.67 170.524 L2042.67 168.417 Q2041.36 170.709 2039.29 171.843 Q2037.23 172.978 2034.36 172.978 Q2029.6 172.978 2026.68 169.343 Q2023.76 165.709 2023.76 159.714 Q2023.76 153.695 2026.68 150.061 Q2029.6 146.427 2034.36 146.427 Q2037.23 146.427 2039.29 147.561 Q2041.36 148.695 2042.67 150.987 L2042.67 147.052 L2046.93 147.052 L2046.93 169.76 Z\" fill=\"#000000\" fill-rule=\"evenodd\" fill-opacity=\"1\" /><path clip-path=\"url(#clip020)\" d=\"M 0 0 M2061.45 150.038 Q2058.02 150.038 2056.03 152.723 Q2054.04 155.385 2054.04 160.038 Q2054.04 164.691 2056.01 167.376 Q2058 170.038 2061.45 170.038 Q2064.85 170.038 2066.84 167.353 Q2068.83 164.667 2068.83 160.038 Q2068.83 155.431 2066.84 152.746 Q2064.85 150.038 2061.45 150.038 M2061.45 146.427 Q2067 146.427 2070.17 150.038 Q2073.35 153.649 2073.35 160.038 Q2073.35 166.404 2070.17 170.038 Q2067 173.649 2061.45 173.649 Q2055.87 173.649 2052.7 170.038 Q2049.55 166.404 2049.55 160.038 Q2049.55 153.649 2052.7 150.038 Q2055.87 146.427 2061.45 146.427 Z\" fill=\"#000000\" fill-rule=\"evenodd\" fill-opacity=\"1\" /><path clip-path=\"url(#clip020)\" d=\"M 0 0 M2077.95 136.959 L2082.21 136.959 L2082.21 150.894 L2085.1 148.811 L2086.86 151.265 L2082.21 154.529 L2082.21 172.978 L2077.95 172.978 L2077.95 157.561 L2075.1 159.598 L2073.39 157.144 L2077.95 153.88 L2077.95 136.959 Z\" fill=\"#000000\" fill-rule=\"evenodd\" fill-opacity=\"1\" /><path clip-path=\"url(#clip020)\" d=\"M 0 0 M2113.51 158.95 L2113.51 161.033 L2093.92 161.033 Q2094.2 165.431 2096.56 167.746 Q2098.95 170.038 2103.18 170.038 Q2105.64 170.038 2107.93 169.436 Q2110.24 168.834 2112.51 167.63 L2112.51 171.658 Q2110.22 172.63 2107.81 173.14 Q2105.41 173.649 2102.93 173.649 Q2096.73 173.649 2093.09 170.038 Q2089.48 166.427 2089.48 160.269 Q2089.48 153.904 2092.91 150.177 Q2096.35 146.427 2102.19 146.427 Q2107.42 146.427 2110.45 149.806 Q2113.51 153.163 2113.51 158.95 M2109.25 157.7 Q2109.2 154.205 2107.28 152.121 Q2105.38 150.038 2102.23 150.038 Q2098.67 150.038 2096.52 152.052 Q2094.39 154.066 2094.06 157.723 L2109.25 157.7 M2105.75 172.978 L2108.51 172.978 Q2107.47 174.39 2106.96 175.408 Q2106.47 176.427 2106.47 177.144 Q2106.47 178.209 2107.1 178.741 Q2107.74 179.274 2108.99 179.274 Q2109.73 179.274 2110.45 179.089 Q2111.17 178.927 2111.89 178.579 L2111.89 181.658 Q2111.01 181.89 2110.22 182.005 Q2109.43 182.121 2108.74 182.121 Q2105.91 182.121 2104.57 181.103 Q2103.25 180.107 2103.25 177.954 Q2103.25 176.843 2103.85 175.616 Q2104.48 174.413 2105.75 172.978 Z\" fill=\"#000000\" fill-rule=\"evenodd\" fill-opacity=\"1\" /><path clip-path=\"url(#clip020)\" d=\"M 0 0 M2136.59 160.038 Q2136.59 155.339 2134.64 152.677 Q2132.72 149.992 2129.34 149.992 Q2125.96 149.992 2124.02 152.677 Q2122.1 155.339 2122.1 160.038 Q2122.1 164.737 2124.02 167.422 Q2125.96 170.084 2129.34 170.084 Q2132.72 170.084 2134.64 167.422 Q2136.59 164.737 2136.59 160.038 M2122.1 150.987 Q2123.44 148.672 2125.48 147.561 Q2127.54 146.427 2130.38 146.427 Q2135.1 146.427 2138.04 150.177 Q2141.01 153.927 2141.01 160.038 Q2141.01 166.149 2138.04 169.899 Q2135.1 173.649 2130.38 173.649 Q2127.54 173.649 2125.48 172.538 Q2123.44 171.403 2122.1 169.089 L2122.1 172.978 L2117.81 172.978 L2117.81 136.959 L2122.1 136.959 L2122.1 150.987 Z\" fill=\"#000000\" fill-rule=\"evenodd\" fill-opacity=\"1\" /><path clip-path=\"url(#clip020)\" d=\"M 0 0 M2145.47 147.052 L2149.73 147.052 L2149.73 172.978 L2145.47 172.978 L2145.47 147.052 M2145.47 136.959 L2149.73 136.959 L2149.73 142.353 L2145.47 142.353 L2145.47 136.959 Z\" fill=\"#000000\" fill-rule=\"evenodd\" fill-opacity=\"1\" /><path clip-path=\"url(#clip020)\" d=\"M 0 0 M2176.38 158.95 L2176.38 161.033 L2156.79 161.033 Q2157.07 165.431 2159.43 167.746 Q2161.82 170.038 2166.05 170.038 Q2168.51 170.038 2170.8 169.436 Q2173.11 168.834 2175.38 167.63 L2175.38 171.658 Q2173.09 172.63 2170.68 173.14 Q2168.28 173.649 2165.8 173.649 Q2159.6 173.649 2155.96 170.038 Q2152.35 166.427 2152.35 160.269 Q2152.35 153.904 2155.78 150.177 Q2159.22 146.427 2165.06 146.427 Q2170.29 146.427 2173.32 149.806 Q2176.38 153.163 2176.38 158.95 M2172.12 157.7 Q2172.07 154.205 2170.15 152.121 Q2168.25 150.038 2165.1 150.038 Q2161.54 150.038 2159.39 152.052 Q2157.26 154.066 2156.93 157.723 L2172.12 157.7 Z\" fill=\"#000000\" fill-rule=\"evenodd\" fill-opacity=\"1\" /><polyline clip-path=\"url(#clip020)\" style=\"stroke:#e26f46; stroke-width:4; stroke-opacity:1; fill:none\" points=\"\n  1851.6,216.178 1999.17,216.178 \n  \"/>\n<path clip-path=\"url(#clip020)\" d=\"M 0 0 M2029.09 207.532 L2033.35 207.532 L2033.35 233.921 Q2033.35 238.874 2031.45 241.096 Q2029.57 243.319 2025.38 243.319 L2023.76 243.319 L2023.76 239.708 L2024.9 239.708 Q2027.33 239.708 2028.21 238.573 Q2029.09 237.462 2029.09 233.921 L2029.09 207.532 M2029.09 197.439 L2033.35 197.439 L2033.35 202.833 L2029.09 202.833 L2029.09 197.439 Z\" fill=\"#000000\" fill-rule=\"evenodd\" fill-opacity=\"1\" /><path clip-path=\"url(#clip020)\" d=\"M 0 0 M2049.6 220.425 Q2044.43 220.425 2042.44 221.606 Q2040.45 222.786 2040.45 225.634 Q2040.45 227.902 2041.93 229.245 Q2043.44 230.564 2046.01 230.564 Q2049.55 230.564 2051.68 228.064 Q2053.83 225.541 2053.83 221.374 L2053.83 220.425 L2049.6 220.425 M2058.09 218.666 L2058.09 233.458 L2053.83 233.458 L2053.83 229.522 Q2052.37 231.883 2050.2 233.018 Q2048.02 234.129 2044.87 234.129 Q2040.89 234.129 2038.53 231.907 Q2036.19 229.661 2036.19 225.911 Q2036.19 221.536 2039.11 219.314 Q2042.05 217.092 2047.86 217.092 L2053.83 217.092 L2053.83 216.675 Q2053.83 213.735 2051.89 212.138 Q2049.97 210.518 2046.47 210.518 Q2044.25 210.518 2042.14 211.05 Q2040.04 211.583 2038.09 212.647 L2038.09 208.712 Q2040.43 207.81 2042.63 207.37 Q2044.83 206.907 2046.91 206.907 Q2052.54 206.907 2055.31 209.823 Q2058.09 212.74 2058.09 218.666 Z\" fill=\"#000000\" fill-rule=\"evenodd\" fill-opacity=\"1\" /><path clip-path=\"url(#clip020)\" d=\"M 0 0 M2079.09 208.296 L2079.09 212.323 Q2077.28 211.397 2075.34 210.935 Q2073.39 210.472 2071.31 210.472 Q2068.14 210.472 2066.54 211.444 Q2064.97 212.416 2064.97 214.36 Q2064.97 215.842 2066.1 216.698 Q2067.23 217.532 2070.66 218.296 L2072.12 218.62 Q2076.66 219.592 2078.55 221.374 Q2080.48 223.134 2080.48 226.305 Q2080.48 229.916 2077.6 232.022 Q2074.76 234.129 2069.76 234.129 Q2067.67 234.129 2065.41 233.712 Q2063.16 233.319 2060.66 232.508 L2060.66 228.11 Q2063.02 229.337 2065.31 229.962 Q2067.61 230.564 2069.85 230.564 Q2072.86 230.564 2074.48 229.546 Q2076.1 228.504 2076.1 226.629 Q2076.1 224.893 2074.92 223.967 Q2073.76 223.041 2069.8 222.184 L2068.32 221.837 Q2064.36 221.004 2062.61 219.291 Q2060.85 217.555 2060.85 214.546 Q2060.85 210.888 2063.44 208.898 Q2066.03 206.907 2070.8 206.907 Q2073.16 206.907 2075.24 207.254 Q2077.33 207.601 2079.09 208.296 Z\" fill=\"#000000\" fill-rule=\"evenodd\" fill-opacity=\"1\" /><path clip-path=\"url(#clip020)\" d=\"M 0 0 M2089.16 200.171 L2089.16 207.532 L2097.93 207.532 L2097.93 210.842 L2089.16 210.842 L2089.16 224.916 Q2089.16 228.087 2090.01 228.99 Q2090.89 229.893 2093.55 229.893 L2097.93 229.893 L2097.93 233.458 L2093.55 233.458 Q2088.62 233.458 2086.75 231.629 Q2084.87 229.777 2084.87 224.916 L2084.87 210.842 L2081.75 210.842 L2081.75 207.532 L2084.87 207.532 L2084.87 200.171 L2089.16 200.171 Z\" fill=\"#000000\" fill-rule=\"evenodd\" fill-opacity=\"1\" /><path clip-path=\"url(#clip020)\" d=\"M 0 0 M2117.42 211.513 Q2116.7 211.097 2115.85 210.911 Q2115.01 210.703 2113.99 210.703 Q2110.38 210.703 2108.44 213.064 Q2106.52 215.402 2106.52 219.8 L2106.52 233.458 L2102.23 233.458 L2102.23 207.532 L2106.52 207.532 L2106.52 211.56 Q2107.86 209.198 2110.01 208.064 Q2112.16 206.907 2115.24 206.907 Q2115.68 206.907 2116.22 206.976 Q2116.75 207.023 2117.4 207.138 L2117.42 211.513 Z\" fill=\"#000000\" fill-rule=\"evenodd\" fill-opacity=\"1\" /><path clip-path=\"url(#clip020)\" d=\"M 0 0 M2120.04 207.532 L2140.27 207.532 L2140.27 211.421 L2124.25 230.055 L2140.27 230.055 L2140.27 233.458 L2119.46 233.458 L2119.46 229.569 L2135.48 210.935 L2120.04 210.935 L2120.04 207.532 Z\" fill=\"#000000\" fill-rule=\"evenodd\" fill-opacity=\"1\" /><path clip-path=\"url(#clip020)\" d=\"M 0 0 M2166.91 219.43 L2166.91 221.513 L2147.33 221.513 Q2147.6 225.911 2149.97 228.226 Q2152.35 230.518 2156.59 230.518 Q2159.04 230.518 2161.33 229.916 Q2163.65 229.314 2165.91 228.11 L2165.91 232.138 Q2163.62 233.11 2161.22 233.62 Q2158.81 234.129 2156.33 234.129 Q2150.13 234.129 2146.49 230.518 Q2142.88 226.907 2142.88 220.749 Q2142.88 214.384 2146.31 210.657 Q2149.76 206.907 2155.59 206.907 Q2160.82 206.907 2163.85 210.286 Q2166.91 213.643 2166.91 219.43 M2162.65 218.18 Q2162.6 214.685 2160.68 212.601 Q2158.79 210.518 2155.64 210.518 Q2152.07 210.518 2149.92 212.532 Q2147.79 214.546 2147.47 218.203 L2162.65 218.18 M2159.16 233.458 L2161.91 233.458 Q2160.87 234.87 2160.36 235.888 Q2159.87 236.907 2159.87 237.624 Q2159.87 238.689 2160.5 239.221 Q2161.15 239.754 2162.4 239.754 Q2163.14 239.754 2163.85 239.569 Q2164.57 239.407 2165.29 239.059 L2165.29 242.138 Q2164.41 242.37 2163.62 242.485 Q2162.84 242.601 2162.14 242.601 Q2159.32 242.601 2157.97 241.583 Q2156.66 240.587 2156.66 238.434 Q2156.66 237.323 2157.26 236.096 Q2157.88 234.893 2159.16 233.458 Z\" fill=\"#000000\" fill-rule=\"evenodd\" fill-opacity=\"1\" /><path clip-path=\"url(#clip020)\" d=\"M 0 0 M2189.99 220.518 Q2189.99 215.819 2188.04 213.157 Q2186.12 210.472 2182.74 210.472 Q2179.36 210.472 2177.42 213.157 Q2175.5 215.819 2175.5 220.518 Q2175.5 225.217 2177.42 227.902 Q2179.36 230.564 2182.74 230.564 Q2186.12 230.564 2188.04 227.902 Q2189.99 225.217 2189.99 220.518 M2175.5 211.467 Q2176.84 209.152 2178.88 208.041 Q2180.94 206.907 2183.78 206.907 Q2188.51 206.907 2191.45 210.657 Q2194.41 214.407 2194.41 220.518 Q2194.41 226.629 2191.45 230.379 Q2188.51 234.129 2183.78 234.129 Q2180.94 234.129 2178.88 233.018 Q2176.84 231.883 2175.5 229.569 L2175.5 233.458 L2171.22 233.458 L2171.22 197.439 L2175.5 197.439 L2175.5 211.467 Z\" fill=\"#000000\" fill-rule=\"evenodd\" fill-opacity=\"1\" /><path clip-path=\"url(#clip020)\" d=\"M 0 0 M2198.88 207.532 L2203.14 207.532 L2203.14 233.458 L2198.88 233.458 L2198.88 207.532 M2198.88 197.439 L2203.14 197.439 L2203.14 202.833 L2198.88 202.833 L2198.88 197.439 Z\" fill=\"#000000\" fill-rule=\"evenodd\" fill-opacity=\"1\" /><path clip-path=\"url(#clip020)\" d=\"M 0 0 M2229.78 219.43 L2229.78 221.513 L2210.2 221.513 Q2210.47 225.911 2212.84 228.226 Q2215.22 230.518 2219.46 230.518 Q2221.91 230.518 2224.2 229.916 Q2226.52 229.314 2228.78 228.11 L2228.78 232.138 Q2226.49 233.11 2224.09 233.62 Q2221.68 234.129 2219.2 234.129 Q2213 234.129 2209.36 230.518 Q2205.75 226.907 2205.75 220.749 Q2205.75 214.384 2209.18 210.657 Q2212.63 206.907 2218.46 206.907 Q2223.69 206.907 2226.72 210.286 Q2229.78 213.643 2229.78 219.43 M2225.52 218.18 Q2225.47 214.685 2223.55 212.601 Q2221.66 210.518 2218.51 210.518 Q2214.94 210.518 2212.79 212.532 Q2210.66 214.546 2210.34 218.203 L2225.52 218.18 Z\" fill=\"#000000\" fill-rule=\"evenodd\" fill-opacity=\"1\" /></svg>\n"
     },
     "metadata": {},
     "execution_count": 61
    }
   ],
   "source": [
    "plot(1:size(dying)[1], dying[:,1].+dying[:,3], label=\"gołębie\")\n",
    "plot!(1:size(dying)[1], dying[:,2].+dying[:,4], label=\"jastrzębie\")"
   ]
  },
  {
   "cell_type": "markdown",
   "metadata": {},
   "source": [
    "chyba jakoś działa, ale w sumie to ciężko powiedzieć"
   ]
  },
  {
   "cell_type": "markdown",
   "metadata": {},
   "source": [
    "### funkcja właściwa"
   ]
  }
 ],
 "metadata": {
  "kernelspec": {
   "name": "julia-1.5",
   "display_name": "Julia 1.5.3",
   "language": "julia"
  },
  "language_info": {
   "file_extension": ".jl",
   "mimetype": "application/julia",
   "name": "julia",
   "version": "3.7.0"
  }
 },
 "nbformat": 4,
 "nbformat_minor": 4
}